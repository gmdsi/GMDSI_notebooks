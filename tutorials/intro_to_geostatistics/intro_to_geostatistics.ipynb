{
 "cells": [
  {
   "cell_type": "markdown",
   "metadata": {},
   "source": [
    " - why geostatitisc in gw modelling\n",
    " - other resources\n",
    " - "
   ]
  }
 ],
 "metadata": {
  "language_info": {
   "name": "python"
  }
 },
 "nbformat": 4,
 "nbformat_minor": 2
}
