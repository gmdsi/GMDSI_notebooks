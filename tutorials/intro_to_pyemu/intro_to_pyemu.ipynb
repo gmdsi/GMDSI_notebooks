{
 "cells": [
  {
   "cell_type": "markdown",
   "metadata": {},
   "source": [
    "# Intro to pyEMU\n",
    "\n",
    "This notebook provides a quick run through some of the capabilities of `pyemu` for working with PEST(++). This run through is very \"high level\". We will not go into detail, merely show some of the core functionality as a primer for subsequent tutorials.\n",
    "\n",
    "The notebook will make use of an existing PEST(++) interface. This is the same setup described in the \"freyberg_pest_setup\" tutorial. However, you do not need to be familiar with the details of the setup for the purposes of the current tutorial. \n",
    "\n",
    "In this tutorial notebook, we will:\n",
    " - introduce how to access and edit an existing PEST control file and setup using the `Pst` class.\n",
    " - explore some of the built-in methods for customing PEST setups and post-processing outcomes.\n",
    " - introduce methods for handling matricies with the `Cov` class and doa sprinkling of linear algebra.\n",
    " - introduce geostats in `pyemu`.\n",
    " - introduce Classes that facilitate generating and handling parameter and obsveration Ensembles.\n",
    "\n",
    "Here we **do not** demonstrate how to setup a PEST interface from scratch. See the \"freyberg_pest_setup\" tutorial for a demonstration on how to use the `PstFrom` class to do so.\n",
    "\n",
    "### 1. Admin\n",
    "\n",
    " First load dependecies and copy some files into working folder.  \n"
   ]
  },
  {
   "cell_type": "code",
   "execution_count": 1,
   "metadata": {},
   "outputs": [],
   "source": [
    "import os\n",
    "import shutil\n",
    "import pyemu\n",
    "import warnings\n",
    "warnings.filterwarnings(\"ignore\")\n",
    "warnings.filterwarnings(\"ignore\", category=DeprecationWarning) \n",
    "import matplotlib.pyplot as plt"
   ]
  },
  {
   "cell_type": "code",
   "execution_count": 2,
   "metadata": {},
   "outputs": [
    {
     "name": "stdout",
     "output_type": "stream",
     "text": [
      "Files copied from:..\\..\\models\\freyberg_pest_setup\n",
      "Files copied to:pst_files\n"
     ]
    }
   ],
   "source": [
    "f_d = os.path.join('pst_files')\n",
    "org_d = os.path.join('..', '..', 'models', 'freyberg_pest_setup')\n",
    "# remove existing folder\n",
    "if os.path.exists(f_d):\n",
    "    shutil.rmtree(f_d)\n",
    "# copy the original model folder across\n",
    "shutil.copytree(org_d, f_d)\n",
    "print(f'Files copied from:{org_d}\\nFiles copied to:{f_d}')"
   ]
  },
  {
   "cell_type": "markdown",
   "metadata": {},
   "source": [
    "### 2. The `Pst` class\n",
    "\n",
    "pyEMU encapsulates the PEST control file in the `Pst` class. Let's read the `freyberg_mf6.pst` control file in the folder we just copied."
   ]
  },
  {
   "cell_type": "code",
   "execution_count": 3,
   "metadata": {},
   "outputs": [],
   "source": [
    "pst = pyemu.Pst(os.path.join(f_d,\"freyberg_mf6.pst\"))"
   ]
  },
  {
   "cell_type": "markdown",
   "metadata": {},
   "source": [
    "From the `pst` instance, we can access all the \"*\" sections of the control file. These are stored as attributes in the instance. PEST variable names are used for consistency. \n",
    "\n",
    "For example, the \"* *parameter data*\" section can be accessed by calling `pst.parameter_data`. This returns the parameter data as a Pandas DataFrame, making it easy to access and edit. "
   ]
  },
  {
   "cell_type": "code",
   "execution_count": 4,
   "metadata": {},
   "outputs": [
    {
     "data": {
      "text/html": [
       "<div>\n",
       "<style scoped>\n",
       "    .dataframe tbody tr th:only-of-type {\n",
       "        vertical-align: middle;\n",
       "    }\n",
       "\n",
       "    .dataframe tbody tr th {\n",
       "        vertical-align: top;\n",
       "    }\n",
       "\n",
       "    .dataframe thead th {\n",
       "        text-align: right;\n",
       "    }\n",
       "</style>\n",
       "<table border=\"1\" class=\"dataframe\">\n",
       "  <thead>\n",
       "    <tr style=\"text-align: right;\">\n",
       "      <th></th>\n",
       "      <th>parnme</th>\n",
       "      <th>partrans</th>\n",
       "      <th>parchglim</th>\n",
       "      <th>parval1</th>\n",
       "      <th>parlbnd</th>\n",
       "      <th>parubnd</th>\n",
       "      <th>pargp</th>\n",
       "      <th>scale</th>\n",
       "      <th>offset</th>\n",
       "      <th>dercom</th>\n",
       "      <th>...</th>\n",
       "      <th>x</th>\n",
       "      <th>y</th>\n",
       "      <th>zone</th>\n",
       "      <th>usecol</th>\n",
       "      <th>idx0</th>\n",
       "      <th>idx1</th>\n",
       "      <th>idx2</th>\n",
       "      <th>parval1_trans</th>\n",
       "      <th>parlbnd_trans</th>\n",
       "      <th>parubnd_trans</th>\n",
       "    </tr>\n",
       "    <tr>\n",
       "      <th>parnme</th>\n",
       "      <th></th>\n",
       "      <th></th>\n",
       "      <th></th>\n",
       "      <th></th>\n",
       "      <th></th>\n",
       "      <th></th>\n",
       "      <th></th>\n",
       "      <th></th>\n",
       "      <th></th>\n",
       "      <th></th>\n",
       "      <th></th>\n",
       "      <th></th>\n",
       "      <th></th>\n",
       "      <th></th>\n",
       "      <th></th>\n",
       "      <th></th>\n",
       "      <th></th>\n",
       "      <th></th>\n",
       "      <th></th>\n",
       "      <th></th>\n",
       "      <th></th>\n",
       "    </tr>\n",
       "  </thead>\n",
       "  <tbody>\n",
       "    <tr>\n",
       "      <th>pname:npf_k_layer1_gr_inst:0_ptype:gr_pstyle:m_i:0_j:0_x:125.00_y:9875.00_zone:1</th>\n",
       "      <td>pname:npf_k_layer1_gr_inst:0_ptype:gr_pstyle:m_i:0_j:0_x:125.00_y:9875.00_zone:1</td>\n",
       "      <td>log</td>\n",
       "      <td>factor</td>\n",
       "      <td>1.0</td>\n",
       "      <td>0.2</td>\n",
       "      <td>5.0</td>\n",
       "      <td>npf_k_layer1_gr</td>\n",
       "      <td>1.0</td>\n",
       "      <td>0.0</td>\n",
       "      <td>1</td>\n",
       "      <td>...</td>\n",
       "      <td>125.00</td>\n",
       "      <td>9875.00</td>\n",
       "      <td>1</td>\n",
       "      <td>NaN</td>\n",
       "      <td>NaN</td>\n",
       "      <td>NaN</td>\n",
       "      <td>NaN</td>\n",
       "      <td>0.0</td>\n",
       "      <td>-0.69897</td>\n",
       "      <td>0.69897</td>\n",
       "    </tr>\n",
       "    <tr>\n",
       "      <th>pname:npf_k_layer1_gr_inst:0_ptype:gr_pstyle:m_i:0_j:1_x:375.00_y:9875.00_zone:1</th>\n",
       "      <td>pname:npf_k_layer1_gr_inst:0_ptype:gr_pstyle:m_i:0_j:1_x:375.00_y:9875.00_zone:1</td>\n",
       "      <td>log</td>\n",
       "      <td>factor</td>\n",
       "      <td>1.0</td>\n",
       "      <td>0.2</td>\n",
       "      <td>5.0</td>\n",
       "      <td>npf_k_layer1_gr</td>\n",
       "      <td>1.0</td>\n",
       "      <td>0.0</td>\n",
       "      <td>1</td>\n",
       "      <td>...</td>\n",
       "      <td>375.00</td>\n",
       "      <td>9875.00</td>\n",
       "      <td>1</td>\n",
       "      <td>NaN</td>\n",
       "      <td>NaN</td>\n",
       "      <td>NaN</td>\n",
       "      <td>NaN</td>\n",
       "      <td>0.0</td>\n",
       "      <td>-0.69897</td>\n",
       "      <td>0.69897</td>\n",
       "    </tr>\n",
       "    <tr>\n",
       "      <th>pname:npf_k_layer1_gr_inst:0_ptype:gr_pstyle:m_i:0_j:2_x:625.00_y:9875.00_zone:1</th>\n",
       "      <td>pname:npf_k_layer1_gr_inst:0_ptype:gr_pstyle:m_i:0_j:2_x:625.00_y:9875.00_zone:1</td>\n",
       "      <td>log</td>\n",
       "      <td>factor</td>\n",
       "      <td>1.0</td>\n",
       "      <td>0.2</td>\n",
       "      <td>5.0</td>\n",
       "      <td>npf_k_layer1_gr</td>\n",
       "      <td>1.0</td>\n",
       "      <td>0.0</td>\n",
       "      <td>1</td>\n",
       "      <td>...</td>\n",
       "      <td>625.00</td>\n",
       "      <td>9875.00</td>\n",
       "      <td>1</td>\n",
       "      <td>NaN</td>\n",
       "      <td>NaN</td>\n",
       "      <td>NaN</td>\n",
       "      <td>NaN</td>\n",
       "      <td>0.0</td>\n",
       "      <td>-0.69897</td>\n",
       "      <td>0.69897</td>\n",
       "    </tr>\n",
       "    <tr>\n",
       "      <th>pname:npf_k_layer1_gr_inst:0_ptype:gr_pstyle:m_i:0_j:3_x:875.00_y:9875.00_zone:1</th>\n",
       "      <td>pname:npf_k_layer1_gr_inst:0_ptype:gr_pstyle:m_i:0_j:3_x:875.00_y:9875.00_zone:1</td>\n",
       "      <td>log</td>\n",
       "      <td>factor</td>\n",
       "      <td>1.0</td>\n",
       "      <td>0.2</td>\n",
       "      <td>5.0</td>\n",
       "      <td>npf_k_layer1_gr</td>\n",
       "      <td>1.0</td>\n",
       "      <td>0.0</td>\n",
       "      <td>1</td>\n",
       "      <td>...</td>\n",
       "      <td>875.00</td>\n",
       "      <td>9875.00</td>\n",
       "      <td>1</td>\n",
       "      <td>NaN</td>\n",
       "      <td>NaN</td>\n",
       "      <td>NaN</td>\n",
       "      <td>NaN</td>\n",
       "      <td>0.0</td>\n",
       "      <td>-0.69897</td>\n",
       "      <td>0.69897</td>\n",
       "    </tr>\n",
       "    <tr>\n",
       "      <th>pname:npf_k_layer1_gr_inst:0_ptype:gr_pstyle:m_i:0_j:4_x:1125.00_y:9875.00_zone:1</th>\n",
       "      <td>pname:npf_k_layer1_gr_inst:0_ptype:gr_pstyle:m_i:0_j:4_x:1125.00_y:9875.00_zone:1</td>\n",
       "      <td>log</td>\n",
       "      <td>factor</td>\n",
       "      <td>1.0</td>\n",
       "      <td>0.2</td>\n",
       "      <td>5.0</td>\n",
       "      <td>npf_k_layer1_gr</td>\n",
       "      <td>1.0</td>\n",
       "      <td>0.0</td>\n",
       "      <td>1</td>\n",
       "      <td>...</td>\n",
       "      <td>1125.00</td>\n",
       "      <td>9875.00</td>\n",
       "      <td>1</td>\n",
       "      <td>NaN</td>\n",
       "      <td>NaN</td>\n",
       "      <td>NaN</td>\n",
       "      <td>NaN</td>\n",
       "      <td>0.0</td>\n",
       "      <td>-0.69897</td>\n",
       "      <td>0.69897</td>\n",
       "    </tr>\n",
       "  </tbody>\n",
       "</table>\n",
       "<p>5 rows × 26 columns</p>\n",
       "</div>"
      ],
      "text/plain": [
       "                                                                                                                                                              parnme  \\\n",
       "parnme                                                                                                                                                                 \n",
       "pname:npf_k_layer1_gr_inst:0_ptype:gr_pstyle:m_i:0_j:0_x:125.00_y:9875.00_zone:1    pname:npf_k_layer1_gr_inst:0_ptype:gr_pstyle:m_i:0_j:0_x:125.00_y:9875.00_zone:1   \n",
       "pname:npf_k_layer1_gr_inst:0_ptype:gr_pstyle:m_i:0_j:1_x:375.00_y:9875.00_zone:1    pname:npf_k_layer1_gr_inst:0_ptype:gr_pstyle:m_i:0_j:1_x:375.00_y:9875.00_zone:1   \n",
       "pname:npf_k_layer1_gr_inst:0_ptype:gr_pstyle:m_i:0_j:2_x:625.00_y:9875.00_zone:1    pname:npf_k_layer1_gr_inst:0_ptype:gr_pstyle:m_i:0_j:2_x:625.00_y:9875.00_zone:1   \n",
       "pname:npf_k_layer1_gr_inst:0_ptype:gr_pstyle:m_i:0_j:3_x:875.00_y:9875.00_zone:1    pname:npf_k_layer1_gr_inst:0_ptype:gr_pstyle:m_i:0_j:3_x:875.00_y:9875.00_zone:1   \n",
       "pname:npf_k_layer1_gr_inst:0_ptype:gr_pstyle:m_i:0_j:4_x:1125.00_y:9875.00_zone:1  pname:npf_k_layer1_gr_inst:0_ptype:gr_pstyle:m_i:0_j:4_x:1125.00_y:9875.00_zone:1   \n",
       "\n",
       "                                                                                  partrans  \\\n",
       "parnme                                                                                       \n",
       "pname:npf_k_layer1_gr_inst:0_ptype:gr_pstyle:m_i:0_j:0_x:125.00_y:9875.00_zone:1       log   \n",
       "pname:npf_k_layer1_gr_inst:0_ptype:gr_pstyle:m_i:0_j:1_x:375.00_y:9875.00_zone:1       log   \n",
       "pname:npf_k_layer1_gr_inst:0_ptype:gr_pstyle:m_i:0_j:2_x:625.00_y:9875.00_zone:1       log   \n",
       "pname:npf_k_layer1_gr_inst:0_ptype:gr_pstyle:m_i:0_j:3_x:875.00_y:9875.00_zone:1       log   \n",
       "pname:npf_k_layer1_gr_inst:0_ptype:gr_pstyle:m_i:0_j:4_x:1125.00_y:9875.00_zone:1      log   \n",
       "\n",
       "                                                                                  parchglim  \\\n",
       "parnme                                                                                        \n",
       "pname:npf_k_layer1_gr_inst:0_ptype:gr_pstyle:m_i:0_j:0_x:125.00_y:9875.00_zone:1     factor   \n",
       "pname:npf_k_layer1_gr_inst:0_ptype:gr_pstyle:m_i:0_j:1_x:375.00_y:9875.00_zone:1     factor   \n",
       "pname:npf_k_layer1_gr_inst:0_ptype:gr_pstyle:m_i:0_j:2_x:625.00_y:9875.00_zone:1     factor   \n",
       "pname:npf_k_layer1_gr_inst:0_ptype:gr_pstyle:m_i:0_j:3_x:875.00_y:9875.00_zone:1     factor   \n",
       "pname:npf_k_layer1_gr_inst:0_ptype:gr_pstyle:m_i:0_j:4_x:1125.00_y:9875.00_zone:1    factor   \n",
       "\n",
       "                                                                                   parval1  \\\n",
       "parnme                                                                                       \n",
       "pname:npf_k_layer1_gr_inst:0_ptype:gr_pstyle:m_i:0_j:0_x:125.00_y:9875.00_zone:1       1.0   \n",
       "pname:npf_k_layer1_gr_inst:0_ptype:gr_pstyle:m_i:0_j:1_x:375.00_y:9875.00_zone:1       1.0   \n",
       "pname:npf_k_layer1_gr_inst:0_ptype:gr_pstyle:m_i:0_j:2_x:625.00_y:9875.00_zone:1       1.0   \n",
       "pname:npf_k_layer1_gr_inst:0_ptype:gr_pstyle:m_i:0_j:3_x:875.00_y:9875.00_zone:1       1.0   \n",
       "pname:npf_k_layer1_gr_inst:0_ptype:gr_pstyle:m_i:0_j:4_x:1125.00_y:9875.00_zone:1      1.0   \n",
       "\n",
       "                                                                                   parlbnd  \\\n",
       "parnme                                                                                       \n",
       "pname:npf_k_layer1_gr_inst:0_ptype:gr_pstyle:m_i:0_j:0_x:125.00_y:9875.00_zone:1       0.2   \n",
       "pname:npf_k_layer1_gr_inst:0_ptype:gr_pstyle:m_i:0_j:1_x:375.00_y:9875.00_zone:1       0.2   \n",
       "pname:npf_k_layer1_gr_inst:0_ptype:gr_pstyle:m_i:0_j:2_x:625.00_y:9875.00_zone:1       0.2   \n",
       "pname:npf_k_layer1_gr_inst:0_ptype:gr_pstyle:m_i:0_j:3_x:875.00_y:9875.00_zone:1       0.2   \n",
       "pname:npf_k_layer1_gr_inst:0_ptype:gr_pstyle:m_i:0_j:4_x:1125.00_y:9875.00_zone:1      0.2   \n",
       "\n",
       "                                                                                   parubnd  \\\n",
       "parnme                                                                                       \n",
       "pname:npf_k_layer1_gr_inst:0_ptype:gr_pstyle:m_i:0_j:0_x:125.00_y:9875.00_zone:1       5.0   \n",
       "pname:npf_k_layer1_gr_inst:0_ptype:gr_pstyle:m_i:0_j:1_x:375.00_y:9875.00_zone:1       5.0   \n",
       "pname:npf_k_layer1_gr_inst:0_ptype:gr_pstyle:m_i:0_j:2_x:625.00_y:9875.00_zone:1       5.0   \n",
       "pname:npf_k_layer1_gr_inst:0_ptype:gr_pstyle:m_i:0_j:3_x:875.00_y:9875.00_zone:1       5.0   \n",
       "pname:npf_k_layer1_gr_inst:0_ptype:gr_pstyle:m_i:0_j:4_x:1125.00_y:9875.00_zone:1      5.0   \n",
       "\n",
       "                                                                                             pargp  \\\n",
       "parnme                                                                                               \n",
       "pname:npf_k_layer1_gr_inst:0_ptype:gr_pstyle:m_i:0_j:0_x:125.00_y:9875.00_zone:1   npf_k_layer1_gr   \n",
       "pname:npf_k_layer1_gr_inst:0_ptype:gr_pstyle:m_i:0_j:1_x:375.00_y:9875.00_zone:1   npf_k_layer1_gr   \n",
       "pname:npf_k_layer1_gr_inst:0_ptype:gr_pstyle:m_i:0_j:2_x:625.00_y:9875.00_zone:1   npf_k_layer1_gr   \n",
       "pname:npf_k_layer1_gr_inst:0_ptype:gr_pstyle:m_i:0_j:3_x:875.00_y:9875.00_zone:1   npf_k_layer1_gr   \n",
       "pname:npf_k_layer1_gr_inst:0_ptype:gr_pstyle:m_i:0_j:4_x:1125.00_y:9875.00_zone:1  npf_k_layer1_gr   \n",
       "\n",
       "                                                                                   scale  \\\n",
       "parnme                                                                                     \n",
       "pname:npf_k_layer1_gr_inst:0_ptype:gr_pstyle:m_i:0_j:0_x:125.00_y:9875.00_zone:1     1.0   \n",
       "pname:npf_k_layer1_gr_inst:0_ptype:gr_pstyle:m_i:0_j:1_x:375.00_y:9875.00_zone:1     1.0   \n",
       "pname:npf_k_layer1_gr_inst:0_ptype:gr_pstyle:m_i:0_j:2_x:625.00_y:9875.00_zone:1     1.0   \n",
       "pname:npf_k_layer1_gr_inst:0_ptype:gr_pstyle:m_i:0_j:3_x:875.00_y:9875.00_zone:1     1.0   \n",
       "pname:npf_k_layer1_gr_inst:0_ptype:gr_pstyle:m_i:0_j:4_x:1125.00_y:9875.00_zone:1    1.0   \n",
       "\n",
       "                                                                                   offset  \\\n",
       "parnme                                                                                      \n",
       "pname:npf_k_layer1_gr_inst:0_ptype:gr_pstyle:m_i:0_j:0_x:125.00_y:9875.00_zone:1      0.0   \n",
       "pname:npf_k_layer1_gr_inst:0_ptype:gr_pstyle:m_i:0_j:1_x:375.00_y:9875.00_zone:1      0.0   \n",
       "pname:npf_k_layer1_gr_inst:0_ptype:gr_pstyle:m_i:0_j:2_x:625.00_y:9875.00_zone:1      0.0   \n",
       "pname:npf_k_layer1_gr_inst:0_ptype:gr_pstyle:m_i:0_j:3_x:875.00_y:9875.00_zone:1      0.0   \n",
       "pname:npf_k_layer1_gr_inst:0_ptype:gr_pstyle:m_i:0_j:4_x:1125.00_y:9875.00_zone:1     0.0   \n",
       "\n",
       "                                                                                   dercom  \\\n",
       "parnme                                                                                      \n",
       "pname:npf_k_layer1_gr_inst:0_ptype:gr_pstyle:m_i:0_j:0_x:125.00_y:9875.00_zone:1        1   \n",
       "pname:npf_k_layer1_gr_inst:0_ptype:gr_pstyle:m_i:0_j:1_x:375.00_y:9875.00_zone:1        1   \n",
       "pname:npf_k_layer1_gr_inst:0_ptype:gr_pstyle:m_i:0_j:2_x:625.00_y:9875.00_zone:1        1   \n",
       "pname:npf_k_layer1_gr_inst:0_ptype:gr_pstyle:m_i:0_j:3_x:875.00_y:9875.00_zone:1        1   \n",
       "pname:npf_k_layer1_gr_inst:0_ptype:gr_pstyle:m_i:0_j:4_x:1125.00_y:9875.00_zone:1       1   \n",
       "\n",
       "                                                                                   ...  \\\n",
       "parnme                                                                             ...   \n",
       "pname:npf_k_layer1_gr_inst:0_ptype:gr_pstyle:m_i:0_j:0_x:125.00_y:9875.00_zone:1   ...   \n",
       "pname:npf_k_layer1_gr_inst:0_ptype:gr_pstyle:m_i:0_j:1_x:375.00_y:9875.00_zone:1   ...   \n",
       "pname:npf_k_layer1_gr_inst:0_ptype:gr_pstyle:m_i:0_j:2_x:625.00_y:9875.00_zone:1   ...   \n",
       "pname:npf_k_layer1_gr_inst:0_ptype:gr_pstyle:m_i:0_j:3_x:875.00_y:9875.00_zone:1   ...   \n",
       "pname:npf_k_layer1_gr_inst:0_ptype:gr_pstyle:m_i:0_j:4_x:1125.00_y:9875.00_zone:1  ...   \n",
       "\n",
       "                                                                                         x  \\\n",
       "parnme                                                                                       \n",
       "pname:npf_k_layer1_gr_inst:0_ptype:gr_pstyle:m_i:0_j:0_x:125.00_y:9875.00_zone:1    125.00   \n",
       "pname:npf_k_layer1_gr_inst:0_ptype:gr_pstyle:m_i:0_j:1_x:375.00_y:9875.00_zone:1    375.00   \n",
       "pname:npf_k_layer1_gr_inst:0_ptype:gr_pstyle:m_i:0_j:2_x:625.00_y:9875.00_zone:1    625.00   \n",
       "pname:npf_k_layer1_gr_inst:0_ptype:gr_pstyle:m_i:0_j:3_x:875.00_y:9875.00_zone:1    875.00   \n",
       "pname:npf_k_layer1_gr_inst:0_ptype:gr_pstyle:m_i:0_j:4_x:1125.00_y:9875.00_zone:1  1125.00   \n",
       "\n",
       "                                                                                         y  \\\n",
       "parnme                                                                                       \n",
       "pname:npf_k_layer1_gr_inst:0_ptype:gr_pstyle:m_i:0_j:0_x:125.00_y:9875.00_zone:1   9875.00   \n",
       "pname:npf_k_layer1_gr_inst:0_ptype:gr_pstyle:m_i:0_j:1_x:375.00_y:9875.00_zone:1   9875.00   \n",
       "pname:npf_k_layer1_gr_inst:0_ptype:gr_pstyle:m_i:0_j:2_x:625.00_y:9875.00_zone:1   9875.00   \n",
       "pname:npf_k_layer1_gr_inst:0_ptype:gr_pstyle:m_i:0_j:3_x:875.00_y:9875.00_zone:1   9875.00   \n",
       "pname:npf_k_layer1_gr_inst:0_ptype:gr_pstyle:m_i:0_j:4_x:1125.00_y:9875.00_zone:1  9875.00   \n",
       "\n",
       "                                                                                  zone  \\\n",
       "parnme                                                                                   \n",
       "pname:npf_k_layer1_gr_inst:0_ptype:gr_pstyle:m_i:0_j:0_x:125.00_y:9875.00_zone:1     1   \n",
       "pname:npf_k_layer1_gr_inst:0_ptype:gr_pstyle:m_i:0_j:1_x:375.00_y:9875.00_zone:1     1   \n",
       "pname:npf_k_layer1_gr_inst:0_ptype:gr_pstyle:m_i:0_j:2_x:625.00_y:9875.00_zone:1     1   \n",
       "pname:npf_k_layer1_gr_inst:0_ptype:gr_pstyle:m_i:0_j:3_x:875.00_y:9875.00_zone:1     1   \n",
       "pname:npf_k_layer1_gr_inst:0_ptype:gr_pstyle:m_i:0_j:4_x:1125.00_y:9875.00_zone:1    1   \n",
       "\n",
       "                                                                                  usecol  \\\n",
       "parnme                                                                                     \n",
       "pname:npf_k_layer1_gr_inst:0_ptype:gr_pstyle:m_i:0_j:0_x:125.00_y:9875.00_zone:1     NaN   \n",
       "pname:npf_k_layer1_gr_inst:0_ptype:gr_pstyle:m_i:0_j:1_x:375.00_y:9875.00_zone:1     NaN   \n",
       "pname:npf_k_layer1_gr_inst:0_ptype:gr_pstyle:m_i:0_j:2_x:625.00_y:9875.00_zone:1     NaN   \n",
       "pname:npf_k_layer1_gr_inst:0_ptype:gr_pstyle:m_i:0_j:3_x:875.00_y:9875.00_zone:1     NaN   \n",
       "pname:npf_k_layer1_gr_inst:0_ptype:gr_pstyle:m_i:0_j:4_x:1125.00_y:9875.00_zone:1    NaN   \n",
       "\n",
       "                                                                                  idx0  \\\n",
       "parnme                                                                                   \n",
       "pname:npf_k_layer1_gr_inst:0_ptype:gr_pstyle:m_i:0_j:0_x:125.00_y:9875.00_zone:1   NaN   \n",
       "pname:npf_k_layer1_gr_inst:0_ptype:gr_pstyle:m_i:0_j:1_x:375.00_y:9875.00_zone:1   NaN   \n",
       "pname:npf_k_layer1_gr_inst:0_ptype:gr_pstyle:m_i:0_j:2_x:625.00_y:9875.00_zone:1   NaN   \n",
       "pname:npf_k_layer1_gr_inst:0_ptype:gr_pstyle:m_i:0_j:3_x:875.00_y:9875.00_zone:1   NaN   \n",
       "pname:npf_k_layer1_gr_inst:0_ptype:gr_pstyle:m_i:0_j:4_x:1125.00_y:9875.00_zone:1  NaN   \n",
       "\n",
       "                                                                                  idx1  \\\n",
       "parnme                                                                                   \n",
       "pname:npf_k_layer1_gr_inst:0_ptype:gr_pstyle:m_i:0_j:0_x:125.00_y:9875.00_zone:1   NaN   \n",
       "pname:npf_k_layer1_gr_inst:0_ptype:gr_pstyle:m_i:0_j:1_x:375.00_y:9875.00_zone:1   NaN   \n",
       "pname:npf_k_layer1_gr_inst:0_ptype:gr_pstyle:m_i:0_j:2_x:625.00_y:9875.00_zone:1   NaN   \n",
       "pname:npf_k_layer1_gr_inst:0_ptype:gr_pstyle:m_i:0_j:3_x:875.00_y:9875.00_zone:1   NaN   \n",
       "pname:npf_k_layer1_gr_inst:0_ptype:gr_pstyle:m_i:0_j:4_x:1125.00_y:9875.00_zone:1  NaN   \n",
       "\n",
       "                                                                                  idx2  \\\n",
       "parnme                                                                                   \n",
       "pname:npf_k_layer1_gr_inst:0_ptype:gr_pstyle:m_i:0_j:0_x:125.00_y:9875.00_zone:1   NaN   \n",
       "pname:npf_k_layer1_gr_inst:0_ptype:gr_pstyle:m_i:0_j:1_x:375.00_y:9875.00_zone:1   NaN   \n",
       "pname:npf_k_layer1_gr_inst:0_ptype:gr_pstyle:m_i:0_j:2_x:625.00_y:9875.00_zone:1   NaN   \n",
       "pname:npf_k_layer1_gr_inst:0_ptype:gr_pstyle:m_i:0_j:3_x:875.00_y:9875.00_zone:1   NaN   \n",
       "pname:npf_k_layer1_gr_inst:0_ptype:gr_pstyle:m_i:0_j:4_x:1125.00_y:9875.00_zone:1  NaN   \n",
       "\n",
       "                                                                                  parval1_trans  \\\n",
       "parnme                                                                                            \n",
       "pname:npf_k_layer1_gr_inst:0_ptype:gr_pstyle:m_i:0_j:0_x:125.00_y:9875.00_zone:1            0.0   \n",
       "pname:npf_k_layer1_gr_inst:0_ptype:gr_pstyle:m_i:0_j:1_x:375.00_y:9875.00_zone:1            0.0   \n",
       "pname:npf_k_layer1_gr_inst:0_ptype:gr_pstyle:m_i:0_j:2_x:625.00_y:9875.00_zone:1            0.0   \n",
       "pname:npf_k_layer1_gr_inst:0_ptype:gr_pstyle:m_i:0_j:3_x:875.00_y:9875.00_zone:1            0.0   \n",
       "pname:npf_k_layer1_gr_inst:0_ptype:gr_pstyle:m_i:0_j:4_x:1125.00_y:9875.00_zone:1           0.0   \n",
       "\n",
       "                                                                                  parlbnd_trans  \\\n",
       "parnme                                                                                            \n",
       "pname:npf_k_layer1_gr_inst:0_ptype:gr_pstyle:m_i:0_j:0_x:125.00_y:9875.00_zone:1       -0.69897   \n",
       "pname:npf_k_layer1_gr_inst:0_ptype:gr_pstyle:m_i:0_j:1_x:375.00_y:9875.00_zone:1       -0.69897   \n",
       "pname:npf_k_layer1_gr_inst:0_ptype:gr_pstyle:m_i:0_j:2_x:625.00_y:9875.00_zone:1       -0.69897   \n",
       "pname:npf_k_layer1_gr_inst:0_ptype:gr_pstyle:m_i:0_j:3_x:875.00_y:9875.00_zone:1       -0.69897   \n",
       "pname:npf_k_layer1_gr_inst:0_ptype:gr_pstyle:m_i:0_j:4_x:1125.00_y:9875.00_zone:1      -0.69897   \n",
       "\n",
       "                                                                                  parubnd_trans  \n",
       "parnme                                                                                           \n",
       "pname:npf_k_layer1_gr_inst:0_ptype:gr_pstyle:m_i:0_j:0_x:125.00_y:9875.00_zone:1        0.69897  \n",
       "pname:npf_k_layer1_gr_inst:0_ptype:gr_pstyle:m_i:0_j:1_x:375.00_y:9875.00_zone:1        0.69897  \n",
       "pname:npf_k_layer1_gr_inst:0_ptype:gr_pstyle:m_i:0_j:2_x:625.00_y:9875.00_zone:1        0.69897  \n",
       "pname:npf_k_layer1_gr_inst:0_ptype:gr_pstyle:m_i:0_j:3_x:875.00_y:9875.00_zone:1        0.69897  \n",
       "pname:npf_k_layer1_gr_inst:0_ptype:gr_pstyle:m_i:0_j:4_x:1125.00_y:9875.00_zone:1       0.69897  \n",
       "\n",
       "[5 rows x 26 columns]"
      ]
     },
     "execution_count": 4,
     "metadata": {},
     "output_type": "execute_result"
    }
   ],
   "source": [
    "pst.parameter_data.head()"
   ]
  },
  {
   "cell_type": "markdown",
   "metadata": {},
   "source": [
    "The same for \"* *observation data*\":"
   ]
  },
  {
   "cell_type": "code",
   "execution_count": 5,
   "metadata": {},
   "outputs": [
    {
     "data": {
      "text/html": [
       "<div>\n",
       "<style scoped>\n",
       "    .dataframe tbody tr th:only-of-type {\n",
       "        vertical-align: middle;\n",
       "    }\n",
       "\n",
       "    .dataframe tbody tr th {\n",
       "        vertical-align: top;\n",
       "    }\n",
       "\n",
       "    .dataframe thead th {\n",
       "        text-align: right;\n",
       "    }\n",
       "</style>\n",
       "<table border=\"1\" class=\"dataframe\">\n",
       "  <thead>\n",
       "    <tr style=\"text-align: right;\">\n",
       "      <th></th>\n",
       "      <th>obsnme</th>\n",
       "      <th>obsval</th>\n",
       "      <th>weight</th>\n",
       "      <th>obgnme</th>\n",
       "      <th>oname</th>\n",
       "      <th>otype</th>\n",
       "      <th>usecol</th>\n",
       "      <th>time</th>\n",
       "    </tr>\n",
       "    <tr>\n",
       "      <th>obsnme</th>\n",
       "      <th></th>\n",
       "      <th></th>\n",
       "      <th></th>\n",
       "      <th></th>\n",
       "      <th></th>\n",
       "      <th></th>\n",
       "      <th></th>\n",
       "      <th></th>\n",
       "    </tr>\n",
       "  </thead>\n",
       "  <tbody>\n",
       "    <tr>\n",
       "      <th>oname:hds_otype:lst_usecol:trgw_0_13_10_time:1.0</th>\n",
       "      <td>oname:hds_otype:lst_usecol:trgw_0_13_10_time:1.0</td>\n",
       "      <td>34.404445</td>\n",
       "      <td>10.0</td>\n",
       "      <td>oname:hds_otype:lst_usecol:trgw_0_13_10</td>\n",
       "      <td>hds</td>\n",
       "      <td>lst</td>\n",
       "      <td>trgw</td>\n",
       "      <td>1.0</td>\n",
       "    </tr>\n",
       "    <tr>\n",
       "      <th>oname:hds_otype:lst_usecol:trgw_0_13_10_time:122.0</th>\n",
       "      <td>oname:hds_otype:lst_usecol:trgw_0_13_10_time:122.0</td>\n",
       "      <td>34.450289</td>\n",
       "      <td>10.0</td>\n",
       "      <td>oname:hds_otype:lst_usecol:trgw_0_13_10</td>\n",
       "      <td>hds</td>\n",
       "      <td>lst</td>\n",
       "      <td>trgw</td>\n",
       "      <td>122.0</td>\n",
       "    </tr>\n",
       "    <tr>\n",
       "      <th>oname:hds_otype:lst_usecol:trgw_0_13_10_time:153.0</th>\n",
       "      <td>oname:hds_otype:lst_usecol:trgw_0_13_10_time:153.0</td>\n",
       "      <td>34.449492</td>\n",
       "      <td>10.0</td>\n",
       "      <td>oname:hds_otype:lst_usecol:trgw_0_13_10</td>\n",
       "      <td>hds</td>\n",
       "      <td>lst</td>\n",
       "      <td>trgw</td>\n",
       "      <td>153.0</td>\n",
       "    </tr>\n",
       "    <tr>\n",
       "      <th>oname:hds_otype:lst_usecol:trgw_0_13_10_time:183.0</th>\n",
       "      <td>oname:hds_otype:lst_usecol:trgw_0_13_10_time:183.0</td>\n",
       "      <td>34.383839</td>\n",
       "      <td>10.0</td>\n",
       "      <td>oname:hds_otype:lst_usecol:trgw_0_13_10</td>\n",
       "      <td>hds</td>\n",
       "      <td>lst</td>\n",
       "      <td>trgw</td>\n",
       "      <td>183.0</td>\n",
       "    </tr>\n",
       "    <tr>\n",
       "      <th>oname:hds_otype:lst_usecol:trgw_0_13_10_time:214.0</th>\n",
       "      <td>oname:hds_otype:lst_usecol:trgw_0_13_10_time:214.0</td>\n",
       "      <td>34.332796</td>\n",
       "      <td>10.0</td>\n",
       "      <td>oname:hds_otype:lst_usecol:trgw_0_13_10</td>\n",
       "      <td>hds</td>\n",
       "      <td>lst</td>\n",
       "      <td>trgw</td>\n",
       "      <td>214.0</td>\n",
       "    </tr>\n",
       "  </tbody>\n",
       "</table>\n",
       "</div>"
      ],
      "text/plain": [
       "                                                                                                obsnme  \\\n",
       "obsnme                                                                                                   \n",
       "oname:hds_otype:lst_usecol:trgw_0_13_10_time:1.0      oname:hds_otype:lst_usecol:trgw_0_13_10_time:1.0   \n",
       "oname:hds_otype:lst_usecol:trgw_0_13_10_time:122.0  oname:hds_otype:lst_usecol:trgw_0_13_10_time:122.0   \n",
       "oname:hds_otype:lst_usecol:trgw_0_13_10_time:153.0  oname:hds_otype:lst_usecol:trgw_0_13_10_time:153.0   \n",
       "oname:hds_otype:lst_usecol:trgw_0_13_10_time:183.0  oname:hds_otype:lst_usecol:trgw_0_13_10_time:183.0   \n",
       "oname:hds_otype:lst_usecol:trgw_0_13_10_time:214.0  oname:hds_otype:lst_usecol:trgw_0_13_10_time:214.0   \n",
       "\n",
       "                                                       obsval  weight  \\\n",
       "obsnme                                                                  \n",
       "oname:hds_otype:lst_usecol:trgw_0_13_10_time:1.0    34.404445    10.0   \n",
       "oname:hds_otype:lst_usecol:trgw_0_13_10_time:122.0  34.450289    10.0   \n",
       "oname:hds_otype:lst_usecol:trgw_0_13_10_time:153.0  34.449492    10.0   \n",
       "oname:hds_otype:lst_usecol:trgw_0_13_10_time:183.0  34.383839    10.0   \n",
       "oname:hds_otype:lst_usecol:trgw_0_13_10_time:214.0  34.332796    10.0   \n",
       "\n",
       "                                                                                     obgnme  \\\n",
       "obsnme                                                                                        \n",
       "oname:hds_otype:lst_usecol:trgw_0_13_10_time:1.0    oname:hds_otype:lst_usecol:trgw_0_13_10   \n",
       "oname:hds_otype:lst_usecol:trgw_0_13_10_time:122.0  oname:hds_otype:lst_usecol:trgw_0_13_10   \n",
       "oname:hds_otype:lst_usecol:trgw_0_13_10_time:153.0  oname:hds_otype:lst_usecol:trgw_0_13_10   \n",
       "oname:hds_otype:lst_usecol:trgw_0_13_10_time:183.0  oname:hds_otype:lst_usecol:trgw_0_13_10   \n",
       "oname:hds_otype:lst_usecol:trgw_0_13_10_time:214.0  oname:hds_otype:lst_usecol:trgw_0_13_10   \n",
       "\n",
       "                                                   oname otype usecol   time  \n",
       "obsnme                                                                        \n",
       "oname:hds_otype:lst_usecol:trgw_0_13_10_time:1.0     hds   lst   trgw    1.0  \n",
       "oname:hds_otype:lst_usecol:trgw_0_13_10_time:122.0   hds   lst   trgw  122.0  \n",
       "oname:hds_otype:lst_usecol:trgw_0_13_10_time:153.0   hds   lst   trgw  153.0  \n",
       "oname:hds_otype:lst_usecol:trgw_0_13_10_time:183.0   hds   lst   trgw  183.0  \n",
       "oname:hds_otype:lst_usecol:trgw_0_13_10_time:214.0   hds   lst   trgw  214.0  "
      ]
     },
     "execution_count": 5,
     "metadata": {},
     "output_type": "execute_result"
    }
   ],
   "source": [
    "pst.observation_data.head()"
   ]
  },
  {
   "cell_type": "markdown",
   "metadata": {},
   "source": [
    "You can access, slice and edit `parameter_data` or `observation_data` just as you would a DataFrame. You can add columns, these will not be writen to the control file. "
   ]
  },
  {
   "cell_type": "code",
   "execution_count": 6,
   "metadata": {},
   "outputs": [
    {
     "data": {
      "text/plain": [
       "Index(['parnme', 'partrans', 'parchglim', 'parval1', 'parlbnd', 'parubnd',\n",
       "       'pargp', 'scale', 'offset', 'dercom', 'pname', 'inst', 'ptype',\n",
       "       'pstyle', 'i', 'j', 'x', 'y', 'zone', 'usecol', 'idx0', 'idx1', 'idx2',\n",
       "       'parval1_trans', 'parlbnd_trans', 'parubnd_trans'],\n",
       "      dtype='object')"
      ]
     },
     "execution_count": 6,
     "metadata": {},
     "output_type": "execute_result"
    }
   ],
   "source": [
    "pst.parameter_data.columns"
   ]
  },
  {
   "cell_type": "markdown",
   "metadata": {},
   "source": [
    "It's best not to mess around with parameter names (`parnme`). If you do, you will need to make sure that the corresponding names appear in a `.tpl` file. (The same applies for observation names and `.ins` files.) \n",
    "\n",
    "You can edit values like so:\n"
   ]
  },
  {
   "cell_type": "code",
   "execution_count": 7,
   "metadata": {},
   "outputs": [
    {
     "data": {
      "text/html": [
       "<div>\n",
       "<style scoped>\n",
       "    .dataframe tbody tr th:only-of-type {\n",
       "        vertical-align: middle;\n",
       "    }\n",
       "\n",
       "    .dataframe tbody tr th {\n",
       "        vertical-align: top;\n",
       "    }\n",
       "\n",
       "    .dataframe thead th {\n",
       "        text-align: right;\n",
       "    }\n",
       "</style>\n",
       "<table border=\"1\" class=\"dataframe\">\n",
       "  <thead>\n",
       "    <tr style=\"text-align: right;\">\n",
       "      <th></th>\n",
       "      <th>parnme</th>\n",
       "      <th>partrans</th>\n",
       "      <th>parchglim</th>\n",
       "      <th>parval1</th>\n",
       "      <th>parlbnd</th>\n",
       "      <th>parubnd</th>\n",
       "      <th>pargp</th>\n",
       "      <th>scale</th>\n",
       "      <th>offset</th>\n",
       "      <th>dercom</th>\n",
       "      <th>...</th>\n",
       "      <th>x</th>\n",
       "      <th>y</th>\n",
       "      <th>zone</th>\n",
       "      <th>usecol</th>\n",
       "      <th>idx0</th>\n",
       "      <th>idx1</th>\n",
       "      <th>idx2</th>\n",
       "      <th>parval1_trans</th>\n",
       "      <th>parlbnd_trans</th>\n",
       "      <th>parubnd_trans</th>\n",
       "    </tr>\n",
       "    <tr>\n",
       "      <th>parnme</th>\n",
       "      <th></th>\n",
       "      <th></th>\n",
       "      <th></th>\n",
       "      <th></th>\n",
       "      <th></th>\n",
       "      <th></th>\n",
       "      <th></th>\n",
       "      <th></th>\n",
       "      <th></th>\n",
       "      <th></th>\n",
       "      <th></th>\n",
       "      <th></th>\n",
       "      <th></th>\n",
       "      <th></th>\n",
       "      <th></th>\n",
       "      <th></th>\n",
       "      <th></th>\n",
       "      <th></th>\n",
       "      <th></th>\n",
       "      <th></th>\n",
       "      <th></th>\n",
       "    </tr>\n",
       "  </thead>\n",
       "  <tbody>\n",
       "    <tr>\n",
       "      <th>pname:npf_k_layer1_gr_inst:0_ptype:gr_pstyle:m_i:0_j:0_x:125.00_y:9875.00_zone:1</th>\n",
       "      <td>pname:npf_k_layer1_gr_inst:0_ptype:gr_pstyle:m_i:0_j:0_x:125.00_y:9875.00_zone:1</td>\n",
       "      <td>log</td>\n",
       "      <td>factor</td>\n",
       "      <td>222</td>\n",
       "      <td>0.2</td>\n",
       "      <td>5.0</td>\n",
       "      <td>npf_k_layer1_gr</td>\n",
       "      <td>1.0</td>\n",
       "      <td>0.0</td>\n",
       "      <td>1</td>\n",
       "      <td>...</td>\n",
       "      <td>125.00</td>\n",
       "      <td>9875.00</td>\n",
       "      <td>1</td>\n",
       "      <td>NaN</td>\n",
       "      <td>NaN</td>\n",
       "      <td>NaN</td>\n",
       "      <td>NaN</td>\n",
       "      <td>0.0</td>\n",
       "      <td>-0.69897</td>\n",
       "      <td>0.69897</td>\n",
       "    </tr>\n",
       "    <tr>\n",
       "      <th>pname:npf_k_layer1_gr_inst:0_ptype:gr_pstyle:m_i:0_j:1_x:375.00_y:9875.00_zone:1</th>\n",
       "      <td>pname:npf_k_layer1_gr_inst:0_ptype:gr_pstyle:m_i:0_j:1_x:375.00_y:9875.00_zone:1</td>\n",
       "      <td>log</td>\n",
       "      <td>factor</td>\n",
       "      <td>222</td>\n",
       "      <td>0.2</td>\n",
       "      <td>5.0</td>\n",
       "      <td>npf_k_layer1_gr</td>\n",
       "      <td>1.0</td>\n",
       "      <td>0.0</td>\n",
       "      <td>1</td>\n",
       "      <td>...</td>\n",
       "      <td>375.00</td>\n",
       "      <td>9875.00</td>\n",
       "      <td>1</td>\n",
       "      <td>NaN</td>\n",
       "      <td>NaN</td>\n",
       "      <td>NaN</td>\n",
       "      <td>NaN</td>\n",
       "      <td>0.0</td>\n",
       "      <td>-0.69897</td>\n",
       "      <td>0.69897</td>\n",
       "    </tr>\n",
       "    <tr>\n",
       "      <th>pname:npf_k_layer1_gr_inst:0_ptype:gr_pstyle:m_i:0_j:2_x:625.00_y:9875.00_zone:1</th>\n",
       "      <td>pname:npf_k_layer1_gr_inst:0_ptype:gr_pstyle:m_i:0_j:2_x:625.00_y:9875.00_zone:1</td>\n",
       "      <td>log</td>\n",
       "      <td>factor</td>\n",
       "      <td>222</td>\n",
       "      <td>0.2</td>\n",
       "      <td>5.0</td>\n",
       "      <td>npf_k_layer1_gr</td>\n",
       "      <td>1.0</td>\n",
       "      <td>0.0</td>\n",
       "      <td>1</td>\n",
       "      <td>...</td>\n",
       "      <td>625.00</td>\n",
       "      <td>9875.00</td>\n",
       "      <td>1</td>\n",
       "      <td>NaN</td>\n",
       "      <td>NaN</td>\n",
       "      <td>NaN</td>\n",
       "      <td>NaN</td>\n",
       "      <td>0.0</td>\n",
       "      <td>-0.69897</td>\n",
       "      <td>0.69897</td>\n",
       "    </tr>\n",
       "    <tr>\n",
       "      <th>pname:npf_k_layer1_gr_inst:0_ptype:gr_pstyle:m_i:0_j:3_x:875.00_y:9875.00_zone:1</th>\n",
       "      <td>pname:npf_k_layer1_gr_inst:0_ptype:gr_pstyle:m_i:0_j:3_x:875.00_y:9875.00_zone:1</td>\n",
       "      <td>log</td>\n",
       "      <td>factor</td>\n",
       "      <td>222</td>\n",
       "      <td>0.2</td>\n",
       "      <td>5.0</td>\n",
       "      <td>npf_k_layer1_gr</td>\n",
       "      <td>1.0</td>\n",
       "      <td>0.0</td>\n",
       "      <td>1</td>\n",
       "      <td>...</td>\n",
       "      <td>875.00</td>\n",
       "      <td>9875.00</td>\n",
       "      <td>1</td>\n",
       "      <td>NaN</td>\n",
       "      <td>NaN</td>\n",
       "      <td>NaN</td>\n",
       "      <td>NaN</td>\n",
       "      <td>0.0</td>\n",
       "      <td>-0.69897</td>\n",
       "      <td>0.69897</td>\n",
       "    </tr>\n",
       "    <tr>\n",
       "      <th>pname:npf_k_layer1_gr_inst:0_ptype:gr_pstyle:m_i:0_j:4_x:1125.00_y:9875.00_zone:1</th>\n",
       "      <td>pname:npf_k_layer1_gr_inst:0_ptype:gr_pstyle:m_i:0_j:4_x:1125.00_y:9875.00_zone:1</td>\n",
       "      <td>log</td>\n",
       "      <td>factor</td>\n",
       "      <td>222</td>\n",
       "      <td>0.2</td>\n",
       "      <td>5.0</td>\n",
       "      <td>npf_k_layer1_gr</td>\n",
       "      <td>1.0</td>\n",
       "      <td>0.0</td>\n",
       "      <td>1</td>\n",
       "      <td>...</td>\n",
       "      <td>1125.00</td>\n",
       "      <td>9875.00</td>\n",
       "      <td>1</td>\n",
       "      <td>NaN</td>\n",
       "      <td>NaN</td>\n",
       "      <td>NaN</td>\n",
       "      <td>NaN</td>\n",
       "      <td>0.0</td>\n",
       "      <td>-0.69897</td>\n",
       "      <td>0.69897</td>\n",
       "    </tr>\n",
       "    <tr>\n",
       "      <th>...</th>\n",
       "      <td>...</td>\n",
       "      <td>...</td>\n",
       "      <td>...</td>\n",
       "      <td>...</td>\n",
       "      <td>...</td>\n",
       "      <td>...</td>\n",
       "      <td>...</td>\n",
       "      <td>...</td>\n",
       "      <td>...</td>\n",
       "      <td>...</td>\n",
       "      <td>...</td>\n",
       "      <td>...</td>\n",
       "      <td>...</td>\n",
       "      <td>...</td>\n",
       "      <td>...</td>\n",
       "      <td>...</td>\n",
       "      <td>...</td>\n",
       "      <td>...</td>\n",
       "      <td>...</td>\n",
       "      <td>...</td>\n",
       "      <td>...</td>\n",
       "    </tr>\n",
       "    <tr>\n",
       "      <th>pname:npf_k_layer1_gr_inst:0_ptype:gr_pstyle:m_i:39_j:11_x:2875.00_y:125.00_zone:1</th>\n",
       "      <td>pname:npf_k_layer1_gr_inst:0_ptype:gr_pstyle:m_i:39_j:11_x:2875.00_y:125.00_zone:1</td>\n",
       "      <td>log</td>\n",
       "      <td>factor</td>\n",
       "      <td>222</td>\n",
       "      <td>0.2</td>\n",
       "      <td>5.0</td>\n",
       "      <td>npf_k_layer1_gr</td>\n",
       "      <td>1.0</td>\n",
       "      <td>0.0</td>\n",
       "      <td>1</td>\n",
       "      <td>...</td>\n",
       "      <td>2875.00</td>\n",
       "      <td>125.00</td>\n",
       "      <td>1</td>\n",
       "      <td>NaN</td>\n",
       "      <td>NaN</td>\n",
       "      <td>NaN</td>\n",
       "      <td>NaN</td>\n",
       "      <td>0.0</td>\n",
       "      <td>-0.69897</td>\n",
       "      <td>0.69897</td>\n",
       "    </tr>\n",
       "    <tr>\n",
       "      <th>pname:npf_k_layer1_gr_inst:0_ptype:gr_pstyle:m_i:39_j:12_x:3125.00_y:125.00_zone:1</th>\n",
       "      <td>pname:npf_k_layer1_gr_inst:0_ptype:gr_pstyle:m_i:39_j:12_x:3125.00_y:125.00_zone:1</td>\n",
       "      <td>log</td>\n",
       "      <td>factor</td>\n",
       "      <td>222</td>\n",
       "      <td>0.2</td>\n",
       "      <td>5.0</td>\n",
       "      <td>npf_k_layer1_gr</td>\n",
       "      <td>1.0</td>\n",
       "      <td>0.0</td>\n",
       "      <td>1</td>\n",
       "      <td>...</td>\n",
       "      <td>3125.00</td>\n",
       "      <td>125.00</td>\n",
       "      <td>1</td>\n",
       "      <td>NaN</td>\n",
       "      <td>NaN</td>\n",
       "      <td>NaN</td>\n",
       "      <td>NaN</td>\n",
       "      <td>0.0</td>\n",
       "      <td>-0.69897</td>\n",
       "      <td>0.69897</td>\n",
       "    </tr>\n",
       "    <tr>\n",
       "      <th>pname:npf_k_layer1_gr_inst:0_ptype:gr_pstyle:m_i:39_j:13_x:3375.00_y:125.00_zone:1</th>\n",
       "      <td>pname:npf_k_layer1_gr_inst:0_ptype:gr_pstyle:m_i:39_j:13_x:3375.00_y:125.00_zone:1</td>\n",
       "      <td>log</td>\n",
       "      <td>factor</td>\n",
       "      <td>222</td>\n",
       "      <td>0.2</td>\n",
       "      <td>5.0</td>\n",
       "      <td>npf_k_layer1_gr</td>\n",
       "      <td>1.0</td>\n",
       "      <td>0.0</td>\n",
       "      <td>1</td>\n",
       "      <td>...</td>\n",
       "      <td>3375.00</td>\n",
       "      <td>125.00</td>\n",
       "      <td>1</td>\n",
       "      <td>NaN</td>\n",
       "      <td>NaN</td>\n",
       "      <td>NaN</td>\n",
       "      <td>NaN</td>\n",
       "      <td>0.0</td>\n",
       "      <td>-0.69897</td>\n",
       "      <td>0.69897</td>\n",
       "    </tr>\n",
       "    <tr>\n",
       "      <th>pname:npf_k_layer1_gr_inst:0_ptype:gr_pstyle:m_i:39_j:14_x:3625.00_y:125.00_zone:1</th>\n",
       "      <td>pname:npf_k_layer1_gr_inst:0_ptype:gr_pstyle:m_i:39_j:14_x:3625.00_y:125.00_zone:1</td>\n",
       "      <td>log</td>\n",
       "      <td>factor</td>\n",
       "      <td>222</td>\n",
       "      <td>0.2</td>\n",
       "      <td>5.0</td>\n",
       "      <td>npf_k_layer1_gr</td>\n",
       "      <td>1.0</td>\n",
       "      <td>0.0</td>\n",
       "      <td>1</td>\n",
       "      <td>...</td>\n",
       "      <td>3625.00</td>\n",
       "      <td>125.00</td>\n",
       "      <td>1</td>\n",
       "      <td>NaN</td>\n",
       "      <td>NaN</td>\n",
       "      <td>NaN</td>\n",
       "      <td>NaN</td>\n",
       "      <td>0.0</td>\n",
       "      <td>-0.69897</td>\n",
       "      <td>0.69897</td>\n",
       "    </tr>\n",
       "    <tr>\n",
       "      <th>pname:npf_k_layer1_gr_inst:0_ptype:gr_pstyle:m_i:39_j:15_x:3875.00_y:125.00_zone:1</th>\n",
       "      <td>pname:npf_k_layer1_gr_inst:0_ptype:gr_pstyle:m_i:39_j:15_x:3875.00_y:125.00_zone:1</td>\n",
       "      <td>log</td>\n",
       "      <td>factor</td>\n",
       "      <td>222</td>\n",
       "      <td>0.2</td>\n",
       "      <td>5.0</td>\n",
       "      <td>npf_k_layer1_gr</td>\n",
       "      <td>1.0</td>\n",
       "      <td>0.0</td>\n",
       "      <td>1</td>\n",
       "      <td>...</td>\n",
       "      <td>3875.00</td>\n",
       "      <td>125.00</td>\n",
       "      <td>1</td>\n",
       "      <td>NaN</td>\n",
       "      <td>NaN</td>\n",
       "      <td>NaN</td>\n",
       "      <td>NaN</td>\n",
       "      <td>0.0</td>\n",
       "      <td>-0.69897</td>\n",
       "      <td>0.69897</td>\n",
       "    </tr>\n",
       "  </tbody>\n",
       "</table>\n",
       "<p>706 rows × 26 columns</p>\n",
       "</div>"
      ],
      "text/plain": [
       "                                                                                                                                                                parnme  \\\n",
       "parnme                                                                                                                                                                   \n",
       "pname:npf_k_layer1_gr_inst:0_ptype:gr_pstyle:m_i:0_j:0_x:125.00_y:9875.00_zone:1      pname:npf_k_layer1_gr_inst:0_ptype:gr_pstyle:m_i:0_j:0_x:125.00_y:9875.00_zone:1   \n",
       "pname:npf_k_layer1_gr_inst:0_ptype:gr_pstyle:m_i:0_j:1_x:375.00_y:9875.00_zone:1      pname:npf_k_layer1_gr_inst:0_ptype:gr_pstyle:m_i:0_j:1_x:375.00_y:9875.00_zone:1   \n",
       "pname:npf_k_layer1_gr_inst:0_ptype:gr_pstyle:m_i:0_j:2_x:625.00_y:9875.00_zone:1      pname:npf_k_layer1_gr_inst:0_ptype:gr_pstyle:m_i:0_j:2_x:625.00_y:9875.00_zone:1   \n",
       "pname:npf_k_layer1_gr_inst:0_ptype:gr_pstyle:m_i:0_j:3_x:875.00_y:9875.00_zone:1      pname:npf_k_layer1_gr_inst:0_ptype:gr_pstyle:m_i:0_j:3_x:875.00_y:9875.00_zone:1   \n",
       "pname:npf_k_layer1_gr_inst:0_ptype:gr_pstyle:m_i:0_j:4_x:1125.00_y:9875.00_zone:1    pname:npf_k_layer1_gr_inst:0_ptype:gr_pstyle:m_i:0_j:4_x:1125.00_y:9875.00_zone:1   \n",
       "...                                                                                                                                                                ...   \n",
       "pname:npf_k_layer1_gr_inst:0_ptype:gr_pstyle:m_i:39_j:11_x:2875.00_y:125.00_zone:1  pname:npf_k_layer1_gr_inst:0_ptype:gr_pstyle:m_i:39_j:11_x:2875.00_y:125.00_zone:1   \n",
       "pname:npf_k_layer1_gr_inst:0_ptype:gr_pstyle:m_i:39_j:12_x:3125.00_y:125.00_zone:1  pname:npf_k_layer1_gr_inst:0_ptype:gr_pstyle:m_i:39_j:12_x:3125.00_y:125.00_zone:1   \n",
       "pname:npf_k_layer1_gr_inst:0_ptype:gr_pstyle:m_i:39_j:13_x:3375.00_y:125.00_zone:1  pname:npf_k_layer1_gr_inst:0_ptype:gr_pstyle:m_i:39_j:13_x:3375.00_y:125.00_zone:1   \n",
       "pname:npf_k_layer1_gr_inst:0_ptype:gr_pstyle:m_i:39_j:14_x:3625.00_y:125.00_zone:1  pname:npf_k_layer1_gr_inst:0_ptype:gr_pstyle:m_i:39_j:14_x:3625.00_y:125.00_zone:1   \n",
       "pname:npf_k_layer1_gr_inst:0_ptype:gr_pstyle:m_i:39_j:15_x:3875.00_y:125.00_zone:1  pname:npf_k_layer1_gr_inst:0_ptype:gr_pstyle:m_i:39_j:15_x:3875.00_y:125.00_zone:1   \n",
       "\n",
       "                                                                                   partrans  \\\n",
       "parnme                                                                                        \n",
       "pname:npf_k_layer1_gr_inst:0_ptype:gr_pstyle:m_i:0_j:0_x:125.00_y:9875.00_zone:1        log   \n",
       "pname:npf_k_layer1_gr_inst:0_ptype:gr_pstyle:m_i:0_j:1_x:375.00_y:9875.00_zone:1        log   \n",
       "pname:npf_k_layer1_gr_inst:0_ptype:gr_pstyle:m_i:0_j:2_x:625.00_y:9875.00_zone:1        log   \n",
       "pname:npf_k_layer1_gr_inst:0_ptype:gr_pstyle:m_i:0_j:3_x:875.00_y:9875.00_zone:1        log   \n",
       "pname:npf_k_layer1_gr_inst:0_ptype:gr_pstyle:m_i:0_j:4_x:1125.00_y:9875.00_zone:1       log   \n",
       "...                                                                                     ...   \n",
       "pname:npf_k_layer1_gr_inst:0_ptype:gr_pstyle:m_i:39_j:11_x:2875.00_y:125.00_zone:1      log   \n",
       "pname:npf_k_layer1_gr_inst:0_ptype:gr_pstyle:m_i:39_j:12_x:3125.00_y:125.00_zone:1      log   \n",
       "pname:npf_k_layer1_gr_inst:0_ptype:gr_pstyle:m_i:39_j:13_x:3375.00_y:125.00_zone:1      log   \n",
       "pname:npf_k_layer1_gr_inst:0_ptype:gr_pstyle:m_i:39_j:14_x:3625.00_y:125.00_zone:1      log   \n",
       "pname:npf_k_layer1_gr_inst:0_ptype:gr_pstyle:m_i:39_j:15_x:3875.00_y:125.00_zone:1      log   \n",
       "\n",
       "                                                                                   parchglim  \\\n",
       "parnme                                                                                         \n",
       "pname:npf_k_layer1_gr_inst:0_ptype:gr_pstyle:m_i:0_j:0_x:125.00_y:9875.00_zone:1      factor   \n",
       "pname:npf_k_layer1_gr_inst:0_ptype:gr_pstyle:m_i:0_j:1_x:375.00_y:9875.00_zone:1      factor   \n",
       "pname:npf_k_layer1_gr_inst:0_ptype:gr_pstyle:m_i:0_j:2_x:625.00_y:9875.00_zone:1      factor   \n",
       "pname:npf_k_layer1_gr_inst:0_ptype:gr_pstyle:m_i:0_j:3_x:875.00_y:9875.00_zone:1      factor   \n",
       "pname:npf_k_layer1_gr_inst:0_ptype:gr_pstyle:m_i:0_j:4_x:1125.00_y:9875.00_zone:1     factor   \n",
       "...                                                                                      ...   \n",
       "pname:npf_k_layer1_gr_inst:0_ptype:gr_pstyle:m_i:39_j:11_x:2875.00_y:125.00_zone:1    factor   \n",
       "pname:npf_k_layer1_gr_inst:0_ptype:gr_pstyle:m_i:39_j:12_x:3125.00_y:125.00_zone:1    factor   \n",
       "pname:npf_k_layer1_gr_inst:0_ptype:gr_pstyle:m_i:39_j:13_x:3375.00_y:125.00_zone:1    factor   \n",
       "pname:npf_k_layer1_gr_inst:0_ptype:gr_pstyle:m_i:39_j:14_x:3625.00_y:125.00_zone:1    factor   \n",
       "pname:npf_k_layer1_gr_inst:0_ptype:gr_pstyle:m_i:39_j:15_x:3875.00_y:125.00_zone:1    factor   \n",
       "\n",
       "                                                                                    parval1  \\\n",
       "parnme                                                                                        \n",
       "pname:npf_k_layer1_gr_inst:0_ptype:gr_pstyle:m_i:0_j:0_x:125.00_y:9875.00_zone:1        222   \n",
       "pname:npf_k_layer1_gr_inst:0_ptype:gr_pstyle:m_i:0_j:1_x:375.00_y:9875.00_zone:1        222   \n",
       "pname:npf_k_layer1_gr_inst:0_ptype:gr_pstyle:m_i:0_j:2_x:625.00_y:9875.00_zone:1        222   \n",
       "pname:npf_k_layer1_gr_inst:0_ptype:gr_pstyle:m_i:0_j:3_x:875.00_y:9875.00_zone:1        222   \n",
       "pname:npf_k_layer1_gr_inst:0_ptype:gr_pstyle:m_i:0_j:4_x:1125.00_y:9875.00_zone:1       222   \n",
       "...                                                                                     ...   \n",
       "pname:npf_k_layer1_gr_inst:0_ptype:gr_pstyle:m_i:39_j:11_x:2875.00_y:125.00_zone:1      222   \n",
       "pname:npf_k_layer1_gr_inst:0_ptype:gr_pstyle:m_i:39_j:12_x:3125.00_y:125.00_zone:1      222   \n",
       "pname:npf_k_layer1_gr_inst:0_ptype:gr_pstyle:m_i:39_j:13_x:3375.00_y:125.00_zone:1      222   \n",
       "pname:npf_k_layer1_gr_inst:0_ptype:gr_pstyle:m_i:39_j:14_x:3625.00_y:125.00_zone:1      222   \n",
       "pname:npf_k_layer1_gr_inst:0_ptype:gr_pstyle:m_i:39_j:15_x:3875.00_y:125.00_zone:1      222   \n",
       "\n",
       "                                                                                    parlbnd  \\\n",
       "parnme                                                                                        \n",
       "pname:npf_k_layer1_gr_inst:0_ptype:gr_pstyle:m_i:0_j:0_x:125.00_y:9875.00_zone:1        0.2   \n",
       "pname:npf_k_layer1_gr_inst:0_ptype:gr_pstyle:m_i:0_j:1_x:375.00_y:9875.00_zone:1        0.2   \n",
       "pname:npf_k_layer1_gr_inst:0_ptype:gr_pstyle:m_i:0_j:2_x:625.00_y:9875.00_zone:1        0.2   \n",
       "pname:npf_k_layer1_gr_inst:0_ptype:gr_pstyle:m_i:0_j:3_x:875.00_y:9875.00_zone:1        0.2   \n",
       "pname:npf_k_layer1_gr_inst:0_ptype:gr_pstyle:m_i:0_j:4_x:1125.00_y:9875.00_zone:1       0.2   \n",
       "...                                                                                     ...   \n",
       "pname:npf_k_layer1_gr_inst:0_ptype:gr_pstyle:m_i:39_j:11_x:2875.00_y:125.00_zone:1      0.2   \n",
       "pname:npf_k_layer1_gr_inst:0_ptype:gr_pstyle:m_i:39_j:12_x:3125.00_y:125.00_zone:1      0.2   \n",
       "pname:npf_k_layer1_gr_inst:0_ptype:gr_pstyle:m_i:39_j:13_x:3375.00_y:125.00_zone:1      0.2   \n",
       "pname:npf_k_layer1_gr_inst:0_ptype:gr_pstyle:m_i:39_j:14_x:3625.00_y:125.00_zone:1      0.2   \n",
       "pname:npf_k_layer1_gr_inst:0_ptype:gr_pstyle:m_i:39_j:15_x:3875.00_y:125.00_zone:1      0.2   \n",
       "\n",
       "                                                                                    parubnd  \\\n",
       "parnme                                                                                        \n",
       "pname:npf_k_layer1_gr_inst:0_ptype:gr_pstyle:m_i:0_j:0_x:125.00_y:9875.00_zone:1        5.0   \n",
       "pname:npf_k_layer1_gr_inst:0_ptype:gr_pstyle:m_i:0_j:1_x:375.00_y:9875.00_zone:1        5.0   \n",
       "pname:npf_k_layer1_gr_inst:0_ptype:gr_pstyle:m_i:0_j:2_x:625.00_y:9875.00_zone:1        5.0   \n",
       "pname:npf_k_layer1_gr_inst:0_ptype:gr_pstyle:m_i:0_j:3_x:875.00_y:9875.00_zone:1        5.0   \n",
       "pname:npf_k_layer1_gr_inst:0_ptype:gr_pstyle:m_i:0_j:4_x:1125.00_y:9875.00_zone:1       5.0   \n",
       "...                                                                                     ...   \n",
       "pname:npf_k_layer1_gr_inst:0_ptype:gr_pstyle:m_i:39_j:11_x:2875.00_y:125.00_zone:1      5.0   \n",
       "pname:npf_k_layer1_gr_inst:0_ptype:gr_pstyle:m_i:39_j:12_x:3125.00_y:125.00_zone:1      5.0   \n",
       "pname:npf_k_layer1_gr_inst:0_ptype:gr_pstyle:m_i:39_j:13_x:3375.00_y:125.00_zone:1      5.0   \n",
       "pname:npf_k_layer1_gr_inst:0_ptype:gr_pstyle:m_i:39_j:14_x:3625.00_y:125.00_zone:1      5.0   \n",
       "pname:npf_k_layer1_gr_inst:0_ptype:gr_pstyle:m_i:39_j:15_x:3875.00_y:125.00_zone:1      5.0   \n",
       "\n",
       "                                                                                              pargp  \\\n",
       "parnme                                                                                                \n",
       "pname:npf_k_layer1_gr_inst:0_ptype:gr_pstyle:m_i:0_j:0_x:125.00_y:9875.00_zone:1    npf_k_layer1_gr   \n",
       "pname:npf_k_layer1_gr_inst:0_ptype:gr_pstyle:m_i:0_j:1_x:375.00_y:9875.00_zone:1    npf_k_layer1_gr   \n",
       "pname:npf_k_layer1_gr_inst:0_ptype:gr_pstyle:m_i:0_j:2_x:625.00_y:9875.00_zone:1    npf_k_layer1_gr   \n",
       "pname:npf_k_layer1_gr_inst:0_ptype:gr_pstyle:m_i:0_j:3_x:875.00_y:9875.00_zone:1    npf_k_layer1_gr   \n",
       "pname:npf_k_layer1_gr_inst:0_ptype:gr_pstyle:m_i:0_j:4_x:1125.00_y:9875.00_zone:1   npf_k_layer1_gr   \n",
       "...                                                                                             ...   \n",
       "pname:npf_k_layer1_gr_inst:0_ptype:gr_pstyle:m_i:39_j:11_x:2875.00_y:125.00_zone:1  npf_k_layer1_gr   \n",
       "pname:npf_k_layer1_gr_inst:0_ptype:gr_pstyle:m_i:39_j:12_x:3125.00_y:125.00_zone:1  npf_k_layer1_gr   \n",
       "pname:npf_k_layer1_gr_inst:0_ptype:gr_pstyle:m_i:39_j:13_x:3375.00_y:125.00_zone:1  npf_k_layer1_gr   \n",
       "pname:npf_k_layer1_gr_inst:0_ptype:gr_pstyle:m_i:39_j:14_x:3625.00_y:125.00_zone:1  npf_k_layer1_gr   \n",
       "pname:npf_k_layer1_gr_inst:0_ptype:gr_pstyle:m_i:39_j:15_x:3875.00_y:125.00_zone:1  npf_k_layer1_gr   \n",
       "\n",
       "                                                                                    scale  \\\n",
       "parnme                                                                                      \n",
       "pname:npf_k_layer1_gr_inst:0_ptype:gr_pstyle:m_i:0_j:0_x:125.00_y:9875.00_zone:1      1.0   \n",
       "pname:npf_k_layer1_gr_inst:0_ptype:gr_pstyle:m_i:0_j:1_x:375.00_y:9875.00_zone:1      1.0   \n",
       "pname:npf_k_layer1_gr_inst:0_ptype:gr_pstyle:m_i:0_j:2_x:625.00_y:9875.00_zone:1      1.0   \n",
       "pname:npf_k_layer1_gr_inst:0_ptype:gr_pstyle:m_i:0_j:3_x:875.00_y:9875.00_zone:1      1.0   \n",
       "pname:npf_k_layer1_gr_inst:0_ptype:gr_pstyle:m_i:0_j:4_x:1125.00_y:9875.00_zone:1     1.0   \n",
       "...                                                                                   ...   \n",
       "pname:npf_k_layer1_gr_inst:0_ptype:gr_pstyle:m_i:39_j:11_x:2875.00_y:125.00_zone:1    1.0   \n",
       "pname:npf_k_layer1_gr_inst:0_ptype:gr_pstyle:m_i:39_j:12_x:3125.00_y:125.00_zone:1    1.0   \n",
       "pname:npf_k_layer1_gr_inst:0_ptype:gr_pstyle:m_i:39_j:13_x:3375.00_y:125.00_zone:1    1.0   \n",
       "pname:npf_k_layer1_gr_inst:0_ptype:gr_pstyle:m_i:39_j:14_x:3625.00_y:125.00_zone:1    1.0   \n",
       "pname:npf_k_layer1_gr_inst:0_ptype:gr_pstyle:m_i:39_j:15_x:3875.00_y:125.00_zone:1    1.0   \n",
       "\n",
       "                                                                                    offset  \\\n",
       "parnme                                                                                       \n",
       "pname:npf_k_layer1_gr_inst:0_ptype:gr_pstyle:m_i:0_j:0_x:125.00_y:9875.00_zone:1       0.0   \n",
       "pname:npf_k_layer1_gr_inst:0_ptype:gr_pstyle:m_i:0_j:1_x:375.00_y:9875.00_zone:1       0.0   \n",
       "pname:npf_k_layer1_gr_inst:0_ptype:gr_pstyle:m_i:0_j:2_x:625.00_y:9875.00_zone:1       0.0   \n",
       "pname:npf_k_layer1_gr_inst:0_ptype:gr_pstyle:m_i:0_j:3_x:875.00_y:9875.00_zone:1       0.0   \n",
       "pname:npf_k_layer1_gr_inst:0_ptype:gr_pstyle:m_i:0_j:4_x:1125.00_y:9875.00_zone:1      0.0   \n",
       "...                                                                                    ...   \n",
       "pname:npf_k_layer1_gr_inst:0_ptype:gr_pstyle:m_i:39_j:11_x:2875.00_y:125.00_zone:1     0.0   \n",
       "pname:npf_k_layer1_gr_inst:0_ptype:gr_pstyle:m_i:39_j:12_x:3125.00_y:125.00_zone:1     0.0   \n",
       "pname:npf_k_layer1_gr_inst:0_ptype:gr_pstyle:m_i:39_j:13_x:3375.00_y:125.00_zone:1     0.0   \n",
       "pname:npf_k_layer1_gr_inst:0_ptype:gr_pstyle:m_i:39_j:14_x:3625.00_y:125.00_zone:1     0.0   \n",
       "pname:npf_k_layer1_gr_inst:0_ptype:gr_pstyle:m_i:39_j:15_x:3875.00_y:125.00_zone:1     0.0   \n",
       "\n",
       "                                                                                    dercom  \\\n",
       "parnme                                                                                       \n",
       "pname:npf_k_layer1_gr_inst:0_ptype:gr_pstyle:m_i:0_j:0_x:125.00_y:9875.00_zone:1         1   \n",
       "pname:npf_k_layer1_gr_inst:0_ptype:gr_pstyle:m_i:0_j:1_x:375.00_y:9875.00_zone:1         1   \n",
       "pname:npf_k_layer1_gr_inst:0_ptype:gr_pstyle:m_i:0_j:2_x:625.00_y:9875.00_zone:1         1   \n",
       "pname:npf_k_layer1_gr_inst:0_ptype:gr_pstyle:m_i:0_j:3_x:875.00_y:9875.00_zone:1         1   \n",
       "pname:npf_k_layer1_gr_inst:0_ptype:gr_pstyle:m_i:0_j:4_x:1125.00_y:9875.00_zone:1        1   \n",
       "...                                                                                    ...   \n",
       "pname:npf_k_layer1_gr_inst:0_ptype:gr_pstyle:m_i:39_j:11_x:2875.00_y:125.00_zone:1       1   \n",
       "pname:npf_k_layer1_gr_inst:0_ptype:gr_pstyle:m_i:39_j:12_x:3125.00_y:125.00_zone:1       1   \n",
       "pname:npf_k_layer1_gr_inst:0_ptype:gr_pstyle:m_i:39_j:13_x:3375.00_y:125.00_zone:1       1   \n",
       "pname:npf_k_layer1_gr_inst:0_ptype:gr_pstyle:m_i:39_j:14_x:3625.00_y:125.00_zone:1       1   \n",
       "pname:npf_k_layer1_gr_inst:0_ptype:gr_pstyle:m_i:39_j:15_x:3875.00_y:125.00_zone:1       1   \n",
       "\n",
       "                                                                                    ...  \\\n",
       "parnme                                                                              ...   \n",
       "pname:npf_k_layer1_gr_inst:0_ptype:gr_pstyle:m_i:0_j:0_x:125.00_y:9875.00_zone:1    ...   \n",
       "pname:npf_k_layer1_gr_inst:0_ptype:gr_pstyle:m_i:0_j:1_x:375.00_y:9875.00_zone:1    ...   \n",
       "pname:npf_k_layer1_gr_inst:0_ptype:gr_pstyle:m_i:0_j:2_x:625.00_y:9875.00_zone:1    ...   \n",
       "pname:npf_k_layer1_gr_inst:0_ptype:gr_pstyle:m_i:0_j:3_x:875.00_y:9875.00_zone:1    ...   \n",
       "pname:npf_k_layer1_gr_inst:0_ptype:gr_pstyle:m_i:0_j:4_x:1125.00_y:9875.00_zone:1   ...   \n",
       "...                                                                                 ...   \n",
       "pname:npf_k_layer1_gr_inst:0_ptype:gr_pstyle:m_i:39_j:11_x:2875.00_y:125.00_zone:1  ...   \n",
       "pname:npf_k_layer1_gr_inst:0_ptype:gr_pstyle:m_i:39_j:12_x:3125.00_y:125.00_zone:1  ...   \n",
       "pname:npf_k_layer1_gr_inst:0_ptype:gr_pstyle:m_i:39_j:13_x:3375.00_y:125.00_zone:1  ...   \n",
       "pname:npf_k_layer1_gr_inst:0_ptype:gr_pstyle:m_i:39_j:14_x:3625.00_y:125.00_zone:1  ...   \n",
       "pname:npf_k_layer1_gr_inst:0_ptype:gr_pstyle:m_i:39_j:15_x:3875.00_y:125.00_zone:1  ...   \n",
       "\n",
       "                                                                                          x  \\\n",
       "parnme                                                                                        \n",
       "pname:npf_k_layer1_gr_inst:0_ptype:gr_pstyle:m_i:0_j:0_x:125.00_y:9875.00_zone:1     125.00   \n",
       "pname:npf_k_layer1_gr_inst:0_ptype:gr_pstyle:m_i:0_j:1_x:375.00_y:9875.00_zone:1     375.00   \n",
       "pname:npf_k_layer1_gr_inst:0_ptype:gr_pstyle:m_i:0_j:2_x:625.00_y:9875.00_zone:1     625.00   \n",
       "pname:npf_k_layer1_gr_inst:0_ptype:gr_pstyle:m_i:0_j:3_x:875.00_y:9875.00_zone:1     875.00   \n",
       "pname:npf_k_layer1_gr_inst:0_ptype:gr_pstyle:m_i:0_j:4_x:1125.00_y:9875.00_zone:1   1125.00   \n",
       "...                                                                                     ...   \n",
       "pname:npf_k_layer1_gr_inst:0_ptype:gr_pstyle:m_i:39_j:11_x:2875.00_y:125.00_zone:1  2875.00   \n",
       "pname:npf_k_layer1_gr_inst:0_ptype:gr_pstyle:m_i:39_j:12_x:3125.00_y:125.00_zone:1  3125.00   \n",
       "pname:npf_k_layer1_gr_inst:0_ptype:gr_pstyle:m_i:39_j:13_x:3375.00_y:125.00_zone:1  3375.00   \n",
       "pname:npf_k_layer1_gr_inst:0_ptype:gr_pstyle:m_i:39_j:14_x:3625.00_y:125.00_zone:1  3625.00   \n",
       "pname:npf_k_layer1_gr_inst:0_ptype:gr_pstyle:m_i:39_j:15_x:3875.00_y:125.00_zone:1  3875.00   \n",
       "\n",
       "                                                                                          y  \\\n",
       "parnme                                                                                        \n",
       "pname:npf_k_layer1_gr_inst:0_ptype:gr_pstyle:m_i:0_j:0_x:125.00_y:9875.00_zone:1    9875.00   \n",
       "pname:npf_k_layer1_gr_inst:0_ptype:gr_pstyle:m_i:0_j:1_x:375.00_y:9875.00_zone:1    9875.00   \n",
       "pname:npf_k_layer1_gr_inst:0_ptype:gr_pstyle:m_i:0_j:2_x:625.00_y:9875.00_zone:1    9875.00   \n",
       "pname:npf_k_layer1_gr_inst:0_ptype:gr_pstyle:m_i:0_j:3_x:875.00_y:9875.00_zone:1    9875.00   \n",
       "pname:npf_k_layer1_gr_inst:0_ptype:gr_pstyle:m_i:0_j:4_x:1125.00_y:9875.00_zone:1   9875.00   \n",
       "...                                                                                     ...   \n",
       "pname:npf_k_layer1_gr_inst:0_ptype:gr_pstyle:m_i:39_j:11_x:2875.00_y:125.00_zone:1   125.00   \n",
       "pname:npf_k_layer1_gr_inst:0_ptype:gr_pstyle:m_i:39_j:12_x:3125.00_y:125.00_zone:1   125.00   \n",
       "pname:npf_k_layer1_gr_inst:0_ptype:gr_pstyle:m_i:39_j:13_x:3375.00_y:125.00_zone:1   125.00   \n",
       "pname:npf_k_layer1_gr_inst:0_ptype:gr_pstyle:m_i:39_j:14_x:3625.00_y:125.00_zone:1   125.00   \n",
       "pname:npf_k_layer1_gr_inst:0_ptype:gr_pstyle:m_i:39_j:15_x:3875.00_y:125.00_zone:1   125.00   \n",
       "\n",
       "                                                                                   zone  \\\n",
       "parnme                                                                                    \n",
       "pname:npf_k_layer1_gr_inst:0_ptype:gr_pstyle:m_i:0_j:0_x:125.00_y:9875.00_zone:1      1   \n",
       "pname:npf_k_layer1_gr_inst:0_ptype:gr_pstyle:m_i:0_j:1_x:375.00_y:9875.00_zone:1      1   \n",
       "pname:npf_k_layer1_gr_inst:0_ptype:gr_pstyle:m_i:0_j:2_x:625.00_y:9875.00_zone:1      1   \n",
       "pname:npf_k_layer1_gr_inst:0_ptype:gr_pstyle:m_i:0_j:3_x:875.00_y:9875.00_zone:1      1   \n",
       "pname:npf_k_layer1_gr_inst:0_ptype:gr_pstyle:m_i:0_j:4_x:1125.00_y:9875.00_zone:1     1   \n",
       "...                                                                                 ...   \n",
       "pname:npf_k_layer1_gr_inst:0_ptype:gr_pstyle:m_i:39_j:11_x:2875.00_y:125.00_zone:1    1   \n",
       "pname:npf_k_layer1_gr_inst:0_ptype:gr_pstyle:m_i:39_j:12_x:3125.00_y:125.00_zone:1    1   \n",
       "pname:npf_k_layer1_gr_inst:0_ptype:gr_pstyle:m_i:39_j:13_x:3375.00_y:125.00_zone:1    1   \n",
       "pname:npf_k_layer1_gr_inst:0_ptype:gr_pstyle:m_i:39_j:14_x:3625.00_y:125.00_zone:1    1   \n",
       "pname:npf_k_layer1_gr_inst:0_ptype:gr_pstyle:m_i:39_j:15_x:3875.00_y:125.00_zone:1    1   \n",
       "\n",
       "                                                                                   usecol  \\\n",
       "parnme                                                                                      \n",
       "pname:npf_k_layer1_gr_inst:0_ptype:gr_pstyle:m_i:0_j:0_x:125.00_y:9875.00_zone:1      NaN   \n",
       "pname:npf_k_layer1_gr_inst:0_ptype:gr_pstyle:m_i:0_j:1_x:375.00_y:9875.00_zone:1      NaN   \n",
       "pname:npf_k_layer1_gr_inst:0_ptype:gr_pstyle:m_i:0_j:2_x:625.00_y:9875.00_zone:1      NaN   \n",
       "pname:npf_k_layer1_gr_inst:0_ptype:gr_pstyle:m_i:0_j:3_x:875.00_y:9875.00_zone:1      NaN   \n",
       "pname:npf_k_layer1_gr_inst:0_ptype:gr_pstyle:m_i:0_j:4_x:1125.00_y:9875.00_zone:1     NaN   \n",
       "...                                                                                   ...   \n",
       "pname:npf_k_layer1_gr_inst:0_ptype:gr_pstyle:m_i:39_j:11_x:2875.00_y:125.00_zone:1    NaN   \n",
       "pname:npf_k_layer1_gr_inst:0_ptype:gr_pstyle:m_i:39_j:12_x:3125.00_y:125.00_zone:1    NaN   \n",
       "pname:npf_k_layer1_gr_inst:0_ptype:gr_pstyle:m_i:39_j:13_x:3375.00_y:125.00_zone:1    NaN   \n",
       "pname:npf_k_layer1_gr_inst:0_ptype:gr_pstyle:m_i:39_j:14_x:3625.00_y:125.00_zone:1    NaN   \n",
       "pname:npf_k_layer1_gr_inst:0_ptype:gr_pstyle:m_i:39_j:15_x:3875.00_y:125.00_zone:1    NaN   \n",
       "\n",
       "                                                                                   idx0  \\\n",
       "parnme                                                                                    \n",
       "pname:npf_k_layer1_gr_inst:0_ptype:gr_pstyle:m_i:0_j:0_x:125.00_y:9875.00_zone:1    NaN   \n",
       "pname:npf_k_layer1_gr_inst:0_ptype:gr_pstyle:m_i:0_j:1_x:375.00_y:9875.00_zone:1    NaN   \n",
       "pname:npf_k_layer1_gr_inst:0_ptype:gr_pstyle:m_i:0_j:2_x:625.00_y:9875.00_zone:1    NaN   \n",
       "pname:npf_k_layer1_gr_inst:0_ptype:gr_pstyle:m_i:0_j:3_x:875.00_y:9875.00_zone:1    NaN   \n",
       "pname:npf_k_layer1_gr_inst:0_ptype:gr_pstyle:m_i:0_j:4_x:1125.00_y:9875.00_zone:1   NaN   \n",
       "...                                                                                 ...   \n",
       "pname:npf_k_layer1_gr_inst:0_ptype:gr_pstyle:m_i:39_j:11_x:2875.00_y:125.00_zone:1  NaN   \n",
       "pname:npf_k_layer1_gr_inst:0_ptype:gr_pstyle:m_i:39_j:12_x:3125.00_y:125.00_zone:1  NaN   \n",
       "pname:npf_k_layer1_gr_inst:0_ptype:gr_pstyle:m_i:39_j:13_x:3375.00_y:125.00_zone:1  NaN   \n",
       "pname:npf_k_layer1_gr_inst:0_ptype:gr_pstyle:m_i:39_j:14_x:3625.00_y:125.00_zone:1  NaN   \n",
       "pname:npf_k_layer1_gr_inst:0_ptype:gr_pstyle:m_i:39_j:15_x:3875.00_y:125.00_zone:1  NaN   \n",
       "\n",
       "                                                                                   idx1  \\\n",
       "parnme                                                                                    \n",
       "pname:npf_k_layer1_gr_inst:0_ptype:gr_pstyle:m_i:0_j:0_x:125.00_y:9875.00_zone:1    NaN   \n",
       "pname:npf_k_layer1_gr_inst:0_ptype:gr_pstyle:m_i:0_j:1_x:375.00_y:9875.00_zone:1    NaN   \n",
       "pname:npf_k_layer1_gr_inst:0_ptype:gr_pstyle:m_i:0_j:2_x:625.00_y:9875.00_zone:1    NaN   \n",
       "pname:npf_k_layer1_gr_inst:0_ptype:gr_pstyle:m_i:0_j:3_x:875.00_y:9875.00_zone:1    NaN   \n",
       "pname:npf_k_layer1_gr_inst:0_ptype:gr_pstyle:m_i:0_j:4_x:1125.00_y:9875.00_zone:1   NaN   \n",
       "...                                                                                 ...   \n",
       "pname:npf_k_layer1_gr_inst:0_ptype:gr_pstyle:m_i:39_j:11_x:2875.00_y:125.00_zone:1  NaN   \n",
       "pname:npf_k_layer1_gr_inst:0_ptype:gr_pstyle:m_i:39_j:12_x:3125.00_y:125.00_zone:1  NaN   \n",
       "pname:npf_k_layer1_gr_inst:0_ptype:gr_pstyle:m_i:39_j:13_x:3375.00_y:125.00_zone:1  NaN   \n",
       "pname:npf_k_layer1_gr_inst:0_ptype:gr_pstyle:m_i:39_j:14_x:3625.00_y:125.00_zone:1  NaN   \n",
       "pname:npf_k_layer1_gr_inst:0_ptype:gr_pstyle:m_i:39_j:15_x:3875.00_y:125.00_zone:1  NaN   \n",
       "\n",
       "                                                                                   idx2  \\\n",
       "parnme                                                                                    \n",
       "pname:npf_k_layer1_gr_inst:0_ptype:gr_pstyle:m_i:0_j:0_x:125.00_y:9875.00_zone:1    NaN   \n",
       "pname:npf_k_layer1_gr_inst:0_ptype:gr_pstyle:m_i:0_j:1_x:375.00_y:9875.00_zone:1    NaN   \n",
       "pname:npf_k_layer1_gr_inst:0_ptype:gr_pstyle:m_i:0_j:2_x:625.00_y:9875.00_zone:1    NaN   \n",
       "pname:npf_k_layer1_gr_inst:0_ptype:gr_pstyle:m_i:0_j:3_x:875.00_y:9875.00_zone:1    NaN   \n",
       "pname:npf_k_layer1_gr_inst:0_ptype:gr_pstyle:m_i:0_j:4_x:1125.00_y:9875.00_zone:1   NaN   \n",
       "...                                                                                 ...   \n",
       "pname:npf_k_layer1_gr_inst:0_ptype:gr_pstyle:m_i:39_j:11_x:2875.00_y:125.00_zone:1  NaN   \n",
       "pname:npf_k_layer1_gr_inst:0_ptype:gr_pstyle:m_i:39_j:12_x:3125.00_y:125.00_zone:1  NaN   \n",
       "pname:npf_k_layer1_gr_inst:0_ptype:gr_pstyle:m_i:39_j:13_x:3375.00_y:125.00_zone:1  NaN   \n",
       "pname:npf_k_layer1_gr_inst:0_ptype:gr_pstyle:m_i:39_j:14_x:3625.00_y:125.00_zone:1  NaN   \n",
       "pname:npf_k_layer1_gr_inst:0_ptype:gr_pstyle:m_i:39_j:15_x:3875.00_y:125.00_zone:1  NaN   \n",
       "\n",
       "                                                                                   parval1_trans  \\\n",
       "parnme                                                                                             \n",
       "pname:npf_k_layer1_gr_inst:0_ptype:gr_pstyle:m_i:0_j:0_x:125.00_y:9875.00_zone:1             0.0   \n",
       "pname:npf_k_layer1_gr_inst:0_ptype:gr_pstyle:m_i:0_j:1_x:375.00_y:9875.00_zone:1             0.0   \n",
       "pname:npf_k_layer1_gr_inst:0_ptype:gr_pstyle:m_i:0_j:2_x:625.00_y:9875.00_zone:1             0.0   \n",
       "pname:npf_k_layer1_gr_inst:0_ptype:gr_pstyle:m_i:0_j:3_x:875.00_y:9875.00_zone:1             0.0   \n",
       "pname:npf_k_layer1_gr_inst:0_ptype:gr_pstyle:m_i:0_j:4_x:1125.00_y:9875.00_zone:1            0.0   \n",
       "...                                                                                          ...   \n",
       "pname:npf_k_layer1_gr_inst:0_ptype:gr_pstyle:m_i:39_j:11_x:2875.00_y:125.00_zone:1           0.0   \n",
       "pname:npf_k_layer1_gr_inst:0_ptype:gr_pstyle:m_i:39_j:12_x:3125.00_y:125.00_zone:1           0.0   \n",
       "pname:npf_k_layer1_gr_inst:0_ptype:gr_pstyle:m_i:39_j:13_x:3375.00_y:125.00_zone:1           0.0   \n",
       "pname:npf_k_layer1_gr_inst:0_ptype:gr_pstyle:m_i:39_j:14_x:3625.00_y:125.00_zone:1           0.0   \n",
       "pname:npf_k_layer1_gr_inst:0_ptype:gr_pstyle:m_i:39_j:15_x:3875.00_y:125.00_zone:1           0.0   \n",
       "\n",
       "                                                                                   parlbnd_trans  \\\n",
       "parnme                                                                                             \n",
       "pname:npf_k_layer1_gr_inst:0_ptype:gr_pstyle:m_i:0_j:0_x:125.00_y:9875.00_zone:1        -0.69897   \n",
       "pname:npf_k_layer1_gr_inst:0_ptype:gr_pstyle:m_i:0_j:1_x:375.00_y:9875.00_zone:1        -0.69897   \n",
       "pname:npf_k_layer1_gr_inst:0_ptype:gr_pstyle:m_i:0_j:2_x:625.00_y:9875.00_zone:1        -0.69897   \n",
       "pname:npf_k_layer1_gr_inst:0_ptype:gr_pstyle:m_i:0_j:3_x:875.00_y:9875.00_zone:1        -0.69897   \n",
       "pname:npf_k_layer1_gr_inst:0_ptype:gr_pstyle:m_i:0_j:4_x:1125.00_y:9875.00_zone:1       -0.69897   \n",
       "...                                                                                          ...   \n",
       "pname:npf_k_layer1_gr_inst:0_ptype:gr_pstyle:m_i:39_j:11_x:2875.00_y:125.00_zone:1      -0.69897   \n",
       "pname:npf_k_layer1_gr_inst:0_ptype:gr_pstyle:m_i:39_j:12_x:3125.00_y:125.00_zone:1      -0.69897   \n",
       "pname:npf_k_layer1_gr_inst:0_ptype:gr_pstyle:m_i:39_j:13_x:3375.00_y:125.00_zone:1      -0.69897   \n",
       "pname:npf_k_layer1_gr_inst:0_ptype:gr_pstyle:m_i:39_j:14_x:3625.00_y:125.00_zone:1      -0.69897   \n",
       "pname:npf_k_layer1_gr_inst:0_ptype:gr_pstyle:m_i:39_j:15_x:3875.00_y:125.00_zone:1      -0.69897   \n",
       "\n",
       "                                                                                   parubnd_trans  \n",
       "parnme                                                                                            \n",
       "pname:npf_k_layer1_gr_inst:0_ptype:gr_pstyle:m_i:0_j:0_x:125.00_y:9875.00_zone:1         0.69897  \n",
       "pname:npf_k_layer1_gr_inst:0_ptype:gr_pstyle:m_i:0_j:1_x:375.00_y:9875.00_zone:1         0.69897  \n",
       "pname:npf_k_layer1_gr_inst:0_ptype:gr_pstyle:m_i:0_j:2_x:625.00_y:9875.00_zone:1         0.69897  \n",
       "pname:npf_k_layer1_gr_inst:0_ptype:gr_pstyle:m_i:0_j:3_x:875.00_y:9875.00_zone:1         0.69897  \n",
       "pname:npf_k_layer1_gr_inst:0_ptype:gr_pstyle:m_i:0_j:4_x:1125.00_y:9875.00_zone:1        0.69897  \n",
       "...                                                                                          ...  \n",
       "pname:npf_k_layer1_gr_inst:0_ptype:gr_pstyle:m_i:39_j:11_x:2875.00_y:125.00_zone:1       0.69897  \n",
       "pname:npf_k_layer1_gr_inst:0_ptype:gr_pstyle:m_i:39_j:12_x:3125.00_y:125.00_zone:1       0.69897  \n",
       "pname:npf_k_layer1_gr_inst:0_ptype:gr_pstyle:m_i:39_j:13_x:3375.00_y:125.00_zone:1       0.69897  \n",
       "pname:npf_k_layer1_gr_inst:0_ptype:gr_pstyle:m_i:39_j:14_x:3625.00_y:125.00_zone:1       0.69897  \n",
       "pname:npf_k_layer1_gr_inst:0_ptype:gr_pstyle:m_i:39_j:15_x:3875.00_y:125.00_zone:1       0.69897  \n",
       "\n",
       "[706 rows x 26 columns]"
      ]
     },
     "execution_count": 7,
     "metadata": {},
     "output_type": "execute_result"
    }
   ],
   "source": [
    "#assing values to all parameter intial values\n",
    "pst.parameter_data['parval1'] = 222\n",
    "\n",
    "# the pandas .loc method makes for easy slicing and dicing\n",
    "pst.parameter_data.loc[pst.parameter_data['pargp']=='npf_k_layer1_gr'] "
   ]
  },
  {
   "cell_type": "markdown",
   "metadata": {},
   "source": [
    "For example, let's re-arrange observations into new (fewer) groups:\n"
   ]
  },
  {
   "cell_type": "code",
   "execution_count": 8,
   "metadata": {},
   "outputs": [
    {
     "data": {
      "text/plain": [
       "71"
      ]
     },
     "execution_count": 8,
     "metadata": {},
     "output_type": "execute_result"
    }
   ],
   "source": [
    "obs = pst.observation_data\n",
    "\n",
    "#check number of obs group names\n",
    "obs['obgnme'].nunique()"
   ]
  },
  {
   "cell_type": "code",
   "execution_count": 9,
   "metadata": {},
   "outputs": [
    {
     "data": {
      "text/plain": [
       "5"
      ]
     },
     "execution_count": 9,
     "metadata": {},
     "output_type": "execute_result"
    }
   ],
   "source": [
    "# use the values in the `oname` column to assign new observation group names\n",
    "for i in obs['oname'].unique():\n",
    "    obs.loc[obs['oname']==i, 'obgnme'] = i\n",
    "# check again\n",
    "obs['obgnme'].nunique()"
   ]
  },
  {
   "cell_type": "markdown",
   "metadata": {},
   "source": [
    "#### 2.1. Control Data Section\n",
    "\n",
    "The \"* control data\" section is handled by a special class that tries to prevent mistakes. `pyemu` will not allow you to assign an illogical value to a control data variable.\n",
    "\n",
    "For example, NOPTMAX can only be assigned an integer. If you try to assign text, you will get an error. Try replacing the value 0 in the next cell with the string \"zero\":\n"
   ]
  },
  {
   "cell_type": "code",
   "execution_count": 10,
   "metadata": {},
   "outputs": [],
   "source": [
    "pst.control_data.noptmax = 0 # replace 0 with \"zero\" and see what happens"
   ]
  },
  {
   "cell_type": "markdown",
   "metadata": {},
   "source": [
    "We can inspect all control data values using the `pst.control_data.formatted_values` attribute:"
   ]
  },
  {
   "cell_type": "code",
   "execution_count": 11,
   "metadata": {},
   "outputs": [
    {
     "data": {
      "text/plain": [
       "name\n",
       "rstfle                        restart\n",
       "pestmode                   estimation\n",
       "npar                                0\n",
       "nobs                                0\n",
       "npargp                              0\n",
       "nprior                              0\n",
       "nobsgp                              0\n",
       "maxcompdim                          0\n",
       "ntplfle                             0\n",
       "ninsfle                             0\n",
       "precis                         single\n",
       "dpoint                          point\n",
       "numcom                              1\n",
       "jacfile                             0\n",
       "messfile                            0\n",
       "obsreref                   noobsreref\n",
       "rlambda1                 2.000000E+01\n",
       "rlamfac                 -3.000000E+00\n",
       "phiratsuf                3.000000E-01\n",
       "phiredlam                1.000000E-02\n",
       "numlam                             -7\n",
       "jacupdate                         999\n",
       "lamforgive                 lamforgive\n",
       "derforgive               noderforgive\n",
       "relparmax                1.000000E+01\n",
       "facparmax                1.000000E+01\n",
       "facorig                  1.000000E-03\n",
       "iboundstick                         0\n",
       "upvecbend                           0\n",
       "phiredswh                1.000000E-01\n",
       "noptswitch                          1\n",
       "splitswh                 1.100000E+00\n",
       "doaui                           noaui\n",
       "dosenreuse                 nosenreuse\n",
       "boundscale               noboundscale\n",
       "noptmax                             0\n",
       "phiredstp                1.000000E-02\n",
       "nphistp                             3\n",
       "nphinored                           3\n",
       "relparstp                1.000000E-02\n",
       "nrelpar                             3\n",
       "phistopthresh            0.000000E+00\n",
       "lastrun                             1\n",
       "phiabandon              -1.000000E+00\n",
       "icov                                0\n",
       "icor                                0\n",
       "ieig                                0\n",
       "ires                                0\n",
       "jcosave                       jcosave\n",
       "verboserec                 verboserec\n",
       "jcosaveitn                 jcosaveitn\n",
       "reisaveitn                 reisaveitn\n",
       "parsaveitn                 parsaveitn\n",
       "parsaverun               noparsaverun\n",
       "dtype: object"
      ]
     },
     "execution_count": 11,
     "metadata": {},
     "output_type": "execute_result"
    }
   ],
   "source": [
    "pst.control_data.formatted_values"
   ]
  },
  {
   "cell_type": "markdown",
   "metadata": {},
   "source": [
    "#### 2.2. PEST++ Options\n",
    "\n",
    "PEST++ options are stored in a dictionary in which the `keys` are the PEST++ Control Variable name (see the PEST++ user manual). Values must be asigned according to what PEST++ expects as input.\n",
    "\n",
    "You can access the existing PEST++ options like so:"
   ]
  },
  {
   "cell_type": "code",
   "execution_count": 12,
   "metadata": {},
   "outputs": [
    {
     "data": {
      "text/plain": [
       "{'ies_parameter_ensemble': 'prior.jcb'}"
      ]
     },
     "execution_count": 12,
     "metadata": {},
     "output_type": "execute_result"
    }
   ],
   "source": [
    "pst.pestpp_options"
   ]
  },
  {
   "cell_type": "markdown",
   "metadata": {},
   "source": [
    "You can change the values of existing control variables like so:"
   ]
  },
  {
   "cell_type": "code",
   "execution_count": 13,
   "metadata": {},
   "outputs": [
    {
     "data": {
      "text/plain": [
       "{'ies_parameter_ensemble': 'dummy_ies_par_ensemble.csv'}"
      ]
     },
     "execution_count": 13,
     "metadata": {},
     "output_type": "execute_result"
    }
   ],
   "source": [
    "# changes the value for the PEST++ option 'ies_parameter_ensemble'\n",
    "pst.pestpp_options['ies_parameter_ensemble'] = 'dummy_ies_par_ensemble.csv'\n",
    "\n",
    "# check the dictionary again\n",
    "pst.pestpp_options"
   ]
  },
  {
   "cell_type": "markdown",
   "metadata": {},
   "source": [
    "Or add new PEST++ variables like so:"
   ]
  },
  {
   "cell_type": "code",
   "execution_count": 14,
   "metadata": {},
   "outputs": [
    {
     "data": {
      "text/plain": [
       "{'ies_parameter_ensemble': 'dummy_ies_par_ensemble.csv',\n",
       " 'ies_num_reals': 50,\n",
       " 'lambdas': [0.1, 1, 10, 100, 1000],\n",
       " 'da_use_simulated_states': True}"
      ]
     },
     "execution_count": 14,
     "metadata": {},
     "output_type": "execute_result"
    }
   ],
   "source": [
    "# A few examples of adding PEST++ options of different types:\n",
    "# pestpp-ies; the number of realizations to draw in order to form parameter and observation ensembles.\n",
    "pst.pestpp_options['ies_num_reals'] = 50\n",
    "\n",
    "# specifies a list of values for the Marquardt lambda used in calculation of parameter upgrades. \n",
    "pst.pestpp_options[\"lambdas\"] = [0.1, 1, 10, 100, 1000]\n",
    "\n",
    "# pestpp-da; True/False, specify whether to use the simulated states at the end of each cycle as the initial states for the next cycle.   \n",
    "pst.pestpp_options['da_use_simulated_states'] = True\n",
    "\n",
    "# check the dictionary again\n",
    "pst.pestpp_options"
   ]
  },
  {
   "cell_type": "markdown",
   "metadata": {},
   "source": [
    "### 2.4. Adding Parameters/Observations from .tpl/.ins files\n",
    "\n",
    "In another tutorial we demonstrate the use of the `PstFrom` to automate construction of a complete PEST interface, starting from scratch.\n",
    "\n",
    "Alternatively, it is possible to construct a PEST control file from template (.tpl) and instruction (.ins) files. The `Pst` class includes methods to read .tpl/.ins files and add parameters/observations to the control file. This enables construction of a PEST dataset, or simply adding new ones to an existing control file. It is particularily usefull for pesky model input/output files with inconvenient file structures (e.g. that are not array or tabular formats).\n",
    "\n",
    "The cell bellow writes a \"dummy\" template file to the tutorial folder for demonstration purposes. "
   ]
  },
  {
   "cell_type": "code",
   "execution_count": 15,
   "metadata": {},
   "outputs": [],
   "source": [
    "tpl_filename = os.path.join(f_d,\"special_pars.dat.tpl\")\n",
    "with open(tpl_filename,'w') as f:\n",
    "    f.write(\"ptf ~\\n\")\n",
    "    f.write(\"special_par1  ~  special_par1   ~\\n\")\n",
    "    f.write(\"special_par2  ~  special_par2   ~\\n\")"
   ]
  },
  {
   "cell_type": "markdown",
   "metadata": {},
   "source": [
    "Adding the parameters from \"special_pars.dat.tpl\" to the control file is a simple matter of calling the `.add_parameters()` method. This method adds the parameters to the `pst.parameter_data` section, and updates other relevant sections of the `pst` control file; it also returns a DataFrame. Note that parameter names come from the .tpl file. However, intial values, bounds and group name are assigned default values; you will need to specify correct values before writing the control file to disk."
   ]
  },
  {
   "cell_type": "code",
   "execution_count": 16,
   "metadata": {},
   "outputs": [
    {
     "name": "stdout",
     "output_type": "stream",
     "text": [
      "2 pars added from template file .\\special_pars.dat.tpl\n"
     ]
    },
    {
     "data": {
      "text/html": [
       "<div>\n",
       "<style scoped>\n",
       "    .dataframe tbody tr th:only-of-type {\n",
       "        vertical-align: middle;\n",
       "    }\n",
       "\n",
       "    .dataframe tbody tr th {\n",
       "        vertical-align: top;\n",
       "    }\n",
       "\n",
       "    .dataframe thead th {\n",
       "        text-align: right;\n",
       "    }\n",
       "</style>\n",
       "<table border=\"1\" class=\"dataframe\">\n",
       "  <thead>\n",
       "    <tr style=\"text-align: right;\">\n",
       "      <th></th>\n",
       "      <th>parnme</th>\n",
       "      <th>partrans</th>\n",
       "      <th>parchglim</th>\n",
       "      <th>parval1</th>\n",
       "      <th>parlbnd</th>\n",
       "      <th>parubnd</th>\n",
       "      <th>pargp</th>\n",
       "      <th>scale</th>\n",
       "      <th>offset</th>\n",
       "      <th>dercom</th>\n",
       "    </tr>\n",
       "  </thead>\n",
       "  <tbody>\n",
       "    <tr>\n",
       "      <th>special_par1</th>\n",
       "      <td>special_par1</td>\n",
       "      <td>log</td>\n",
       "      <td>factor</td>\n",
       "      <td>1.0</td>\n",
       "      <td>1.100000e-10</td>\n",
       "      <td>1.100000e+10</td>\n",
       "      <td>pargp</td>\n",
       "      <td>1.0</td>\n",
       "      <td>0.0</td>\n",
       "      <td>1</td>\n",
       "    </tr>\n",
       "    <tr>\n",
       "      <th>special_par2</th>\n",
       "      <td>special_par2</td>\n",
       "      <td>log</td>\n",
       "      <td>factor</td>\n",
       "      <td>1.0</td>\n",
       "      <td>1.100000e-10</td>\n",
       "      <td>1.100000e+10</td>\n",
       "      <td>pargp</td>\n",
       "      <td>1.0</td>\n",
       "      <td>0.0</td>\n",
       "      <td>1</td>\n",
       "    </tr>\n",
       "  </tbody>\n",
       "</table>\n",
       "</div>"
      ],
      "text/plain": [
       "                    parnme partrans parchglim  parval1       parlbnd  \\\n",
       "special_par1  special_par1      log    factor      1.0  1.100000e-10   \n",
       "special_par2  special_par2      log    factor      1.0  1.100000e-10   \n",
       "\n",
       "                   parubnd  pargp  scale  offset  dercom  \n",
       "special_par1  1.100000e+10  pargp    1.0     0.0       1  \n",
       "special_par2  1.100000e+10  pargp    1.0     0.0       1  "
      ]
     },
     "execution_count": 16,
     "metadata": {},
     "output_type": "execute_result"
    }
   ],
   "source": [
    "pst.add_parameters(tpl_filename, pst_path=\".\") #pst_path is the relative path from the control file to the .tp file"
   ]
  },
  {
   "cell_type": "markdown",
   "metadata": {},
   "source": [
    "### 2.3. Tying Parameters\n",
    "\n",
    "We may on ocasion need to tie parameters in the control file. In the `pyemu` world, tied parametes are specified in the `Pst.parameter_data` dataframe. Start by adding a `partied` column and, for parameters you want to tie, changing \"partrans\" to \"tied\" and adding the name of the parameter to tie to in the \"partied\" column. \n",
    "\n",
    "We will demonstrate step-by-step by tying \"special_par2\" to \"special_par1\" (the parameters we just added from the .tpl file):"
   ]
  },
  {
   "cell_type": "code",
   "execution_count": 17,
   "metadata": {},
   "outputs": [
    {
     "data": {
      "text/html": [
       "<div>\n",
       "<style scoped>\n",
       "    .dataframe tbody tr th:only-of-type {\n",
       "        vertical-align: middle;\n",
       "    }\n",
       "\n",
       "    .dataframe tbody tr th {\n",
       "        vertical-align: top;\n",
       "    }\n",
       "\n",
       "    .dataframe thead th {\n",
       "        text-align: right;\n",
       "    }\n",
       "</style>\n",
       "<table border=\"1\" class=\"dataframe\">\n",
       "  <thead>\n",
       "    <tr style=\"text-align: right;\">\n",
       "      <th></th>\n",
       "      <th>parnme</th>\n",
       "      <th>partrans</th>\n",
       "      <th>parchglim</th>\n",
       "      <th>parval1</th>\n",
       "      <th>parlbnd</th>\n",
       "      <th>parubnd</th>\n",
       "      <th>pargp</th>\n",
       "      <th>scale</th>\n",
       "      <th>offset</th>\n",
       "      <th>dercom</th>\n",
       "      <th>...</th>\n",
       "      <th>x</th>\n",
       "      <th>y</th>\n",
       "      <th>zone</th>\n",
       "      <th>usecol</th>\n",
       "      <th>idx0</th>\n",
       "      <th>idx1</th>\n",
       "      <th>idx2</th>\n",
       "      <th>parval1_trans</th>\n",
       "      <th>parlbnd_trans</th>\n",
       "      <th>parubnd_trans</th>\n",
       "    </tr>\n",
       "  </thead>\n",
       "  <tbody>\n",
       "    <tr>\n",
       "      <th>special_par1</th>\n",
       "      <td>special_par1</td>\n",
       "      <td>log</td>\n",
       "      <td>factor</td>\n",
       "      <td>1.0</td>\n",
       "      <td>1.100000e-10</td>\n",
       "      <td>1.100000e+10</td>\n",
       "      <td>pargp</td>\n",
       "      <td>1.0</td>\n",
       "      <td>0.0</td>\n",
       "      <td>1</td>\n",
       "      <td>...</td>\n",
       "      <td>NaN</td>\n",
       "      <td>NaN</td>\n",
       "      <td>NaN</td>\n",
       "      <td>NaN</td>\n",
       "      <td>NaN</td>\n",
       "      <td>NaN</td>\n",
       "      <td>NaN</td>\n",
       "      <td>NaN</td>\n",
       "      <td>NaN</td>\n",
       "      <td>NaN</td>\n",
       "    </tr>\n",
       "    <tr>\n",
       "      <th>special_par2</th>\n",
       "      <td>special_par2</td>\n",
       "      <td>log</td>\n",
       "      <td>factor</td>\n",
       "      <td>1.0</td>\n",
       "      <td>1.100000e-10</td>\n",
       "      <td>1.100000e+10</td>\n",
       "      <td>pargp</td>\n",
       "      <td>1.0</td>\n",
       "      <td>0.0</td>\n",
       "      <td>1</td>\n",
       "      <td>...</td>\n",
       "      <td>NaN</td>\n",
       "      <td>NaN</td>\n",
       "      <td>NaN</td>\n",
       "      <td>NaN</td>\n",
       "      <td>NaN</td>\n",
       "      <td>NaN</td>\n",
       "      <td>NaN</td>\n",
       "      <td>NaN</td>\n",
       "      <td>NaN</td>\n",
       "      <td>NaN</td>\n",
       "    </tr>\n",
       "  </tbody>\n",
       "</table>\n",
       "<p>2 rows × 26 columns</p>\n",
       "</div>"
      ],
      "text/plain": [
       "                    parnme partrans parchglim  parval1       parlbnd  \\\n",
       "special_par1  special_par1      log    factor      1.0  1.100000e-10   \n",
       "special_par2  special_par2      log    factor      1.0  1.100000e-10   \n",
       "\n",
       "                   parubnd  pargp  scale  offset  dercom  ...    x    y zone  \\\n",
       "special_par1  1.100000e+10  pargp    1.0     0.0       1  ...  NaN  NaN  NaN   \n",
       "special_par2  1.100000e+10  pargp    1.0     0.0       1  ...  NaN  NaN  NaN   \n",
       "\n",
       "             usecol idx0 idx1 idx2 parval1_trans parlbnd_trans parubnd_trans  \n",
       "special_par1    NaN  NaN  NaN  NaN           NaN           NaN           NaN  \n",
       "special_par2    NaN  NaN  NaN  NaN           NaN           NaN           NaN  \n",
       "\n",
       "[2 rows x 26 columns]"
      ]
     },
     "execution_count": 17,
     "metadata": {},
     "output_type": "execute_result"
    }
   ],
   "source": [
    "# assign to variable to make things easier to read\n",
    "par = pst.parameter_data\n",
    "# see the parameters\n",
    "par.loc[par['pargp'] == 'pargp']"
   ]
  },
  {
   "cell_type": "code",
   "execution_count": 18,
   "metadata": {},
   "outputs": [
    {
     "data": {
      "text/html": [
       "<div>\n",
       "<style scoped>\n",
       "    .dataframe tbody tr th:only-of-type {\n",
       "        vertical-align: middle;\n",
       "    }\n",
       "\n",
       "    .dataframe tbody tr th {\n",
       "        vertical-align: top;\n",
       "    }\n",
       "\n",
       "    .dataframe thead th {\n",
       "        text-align: right;\n",
       "    }\n",
       "</style>\n",
       "<table border=\"1\" class=\"dataframe\">\n",
       "  <thead>\n",
       "    <tr style=\"text-align: right;\">\n",
       "      <th></th>\n",
       "      <th>partrans</th>\n",
       "      <th>partied</th>\n",
       "    </tr>\n",
       "  </thead>\n",
       "  <tbody>\n",
       "    <tr>\n",
       "      <th>special_par1</th>\n",
       "      <td>log</td>\n",
       "      <td>NaN</td>\n",
       "    </tr>\n",
       "    <tr>\n",
       "      <th>special_par2</th>\n",
       "      <td>tied</td>\n",
       "      <td>special_par1</td>\n",
       "    </tr>\n",
       "  </tbody>\n",
       "</table>\n",
       "</div>"
      ],
      "text/plain": [
       "             partrans       partied\n",
       "special_par1      log           NaN\n",
       "special_par2     tied  special_par1"
      ]
     },
     "execution_count": 18,
     "metadata": {},
     "output_type": "execute_result"
    }
   ],
   "source": [
    "# set the partrans for \"special_par2\" as \"tied\"\n",
    "par.loc['special_par2', 'partrans'] = 'tied'\n",
    "\n",
    "# add a new column named \"partied\" and assign the parameter name to which to tie \"special_par2\"\n",
    "par.loc['special_par2', 'partied'] = 'special_par1'\n",
    "\n",
    "# display for comparison; see partrans and partied columns\n",
    "par.loc[par['pargp'] == 'pargp', ['partrans', 'partied']]"
   ]
  },
  {
   "cell_type": "markdown",
   "metadata": {},
   "source": [
    "#### 2.4. Writing the .pst control file\n",
    "\n",
    "All of these edits are kept in memory untill explicitly written to a .pst file. This is accomplished with the `Pst.write()` method.\n",
    "\n",
    "The control file can be written as version 1 or 2 (see the PEST++ user manual for descriptions of versions). Unlike the original PEST version 1, version 2 control files have each of the \"*\" sections stored in external csv files. This makes them easier to access and manipulate, either programatically or using common spreadsheet software. PEST and PEST_HP only accept version 1. Only PEST++ accepts version 2. If there are more than 10k parameters, version 2 is written by default. \n",
    "\n",
    "You can specify the version by passing the relevant argument. Run the cells below then inspect the folder to see the differences."
   ]
  },
  {
   "cell_type": "code",
   "execution_count": 19,
   "metadata": {},
   "outputs": [
    {
     "name": "stdout",
     "output_type": "stream",
     "text": [
      "noptmax:0, npar_adj:25455, nnz_obs:920\n"
     ]
    }
   ],
   "source": [
    "pst.write(os.path.join(f_d, 'temp.pst'), version=1)"
   ]
  },
  {
   "cell_type": "code",
   "execution_count": 20,
   "metadata": {},
   "outputs": [
    {
     "name": "stdout",
     "output_type": "stream",
     "text": [
      "noptmax:0, npar_adj:25455, nnz_obs:920\n"
     ]
    }
   ],
   "source": [
    "pst.write(os.path.join(f_d, \"temp_v2.pst\"), version=2)"
   ]
  },
  {
   "cell_type": "code",
   "execution_count": 21,
   "metadata": {},
   "outputs": [
    {
     "data": {
      "text/plain": [
       "['freyberg_mf6.pst', 'temp.pst', 'temp_v2.pst']"
      ]
     },
     "execution_count": 21,
     "metadata": {},
     "output_type": "execute_result"
    }
   ],
   "source": [
    "[f for f in os.listdir(f_d) if f.endswith('.pst')]"
   ]
  },
  {
   "cell_type": "markdown",
   "metadata": {},
   "source": [
    "### 3. Utilities\n",
    "\n",
    "`pyemu` has several built-in methods to make your PEST-life easier. Several of these handle similar tasks as utilities from the PEST-suite, such as adjusting observation weights and assigning prior information equations. Others provide usefull tables or plots that summarize details of the PEST setup and/or outcomes.\n",
    "\n",
    "#### 3.1. Par and Obs Summaries\n",
    "You can access quick summaries of observation and paramaeter names, group names, etc thorugh the respective `pst` attributes:"
   ]
  },
  {
   "cell_type": "code",
   "execution_count": 22,
   "metadata": {},
   "outputs": [
    {
     "data": {
      "text/plain": [
       "['hds', 'sfr', 'sfrtd', 'hdstd', 'hdsvd']"
      ]
     },
     "execution_count": 22,
     "metadata": {},
     "output_type": "execute_result"
    }
   ],
   "source": [
    "# non-zero weighted observation groups, returns a list. \n",
    "# Here it sliced to the first 5 elements to keep it short\n",
    "pst.nnz_obs_groups[:5]"
   ]
  },
  {
   "cell_type": "code",
   "execution_count": 23,
   "metadata": {},
   "outputs": [
    {
     "data": {
      "text/plain": [
       "(920, 25455)"
      ]
     },
     "execution_count": 23,
     "metadata": {},
     "output_type": "execute_result"
    }
   ],
   "source": [
    "# number of non-zero observations and adjustable parmaeters\n",
    "pst.nnz_obs, pst.npar_adj"
   ]
  },
  {
   "cell_type": "code",
   "execution_count": 24,
   "metadata": {},
   "outputs": [
    {
     "data": {
      "text/plain": [
       "['npf_k_layer1_gr',\n",
       " 'npf_k_layer1_pp',\n",
       " 'npf_k_layer1_cn',\n",
       " 'npf_k_layer2_gr',\n",
       " 'npf_k_layer2_pp']"
      ]
     },
     "execution_count": 24,
     "metadata": {},
     "output_type": "execute_result"
    }
   ],
   "source": [
    "# adjustble parameter group names\n",
    "pst.adj_par_groups[:5]"
   ]
  },
  {
   "cell_type": "markdown",
   "metadata": {},
   "source": [
    "You can write a parameter or observation summary table wth the `Pst.write_par_symmary_table()` and `Pst.write_obs_symmary_table()` methods, respectively. Quite usefull when preparing those pesky reports. \n",
    "\n",
    "These methods return a Pandas DataFrame and (by default) write the table to an external file. Parameters and observations are summarized by group name."
   ]
  },
  {
   "cell_type": "code",
   "execution_count": 25,
   "metadata": {},
   "outputs": [
    {
     "data": {
      "text/html": [
       "<div>\n",
       "<style scoped>\n",
       "    .dataframe tbody tr th:only-of-type {\n",
       "        vertical-align: middle;\n",
       "    }\n",
       "\n",
       "    .dataframe tbody tr th {\n",
       "        vertical-align: top;\n",
       "    }\n",
       "\n",
       "    .dataframe thead th {\n",
       "        text-align: right;\n",
       "    }\n",
       "</style>\n",
       "<table border=\"1\" class=\"dataframe\">\n",
       "  <thead>\n",
       "    <tr style=\"text-align: right;\">\n",
       "      <th></th>\n",
       "      <th>type</th>\n",
       "      <th>transform</th>\n",
       "      <th>count</th>\n",
       "      <th>initial value</th>\n",
       "      <th>lower bound</th>\n",
       "      <th>upper bound</th>\n",
       "      <th>standard deviation</th>\n",
       "    </tr>\n",
       "  </thead>\n",
       "  <tbody>\n",
       "    <tr>\n",
       "      <th>ghbcond_cn</th>\n",
       "      <td>ghbcond_cn</td>\n",
       "      <td>log</td>\n",
       "      <td>1</td>\n",
       "      <td>2.34635</td>\n",
       "      <td>-1</td>\n",
       "      <td>1</td>\n",
       "      <td>0.5</td>\n",
       "    </tr>\n",
       "    <tr>\n",
       "      <th>ghbcond_gr</th>\n",
       "      <td>ghbcond_gr</td>\n",
       "      <td>log</td>\n",
       "      <td>30</td>\n",
       "      <td>2.34635</td>\n",
       "      <td>-1</td>\n",
       "      <td>1</td>\n",
       "      <td>0.5</td>\n",
       "    </tr>\n",
       "    <tr>\n",
       "      <th>ghbhead_cn</th>\n",
       "      <td>ghbhead_cn</td>\n",
       "      <td>none</td>\n",
       "      <td>1</td>\n",
       "      <td>222</td>\n",
       "      <td>-2</td>\n",
       "      <td>2</td>\n",
       "      <td>1</td>\n",
       "    </tr>\n",
       "    <tr>\n",
       "      <th>ghbhead_gr</th>\n",
       "      <td>ghbhead_gr</td>\n",
       "      <td>none</td>\n",
       "      <td>30</td>\n",
       "      <td>222</td>\n",
       "      <td>-2</td>\n",
       "      <td>2</td>\n",
       "      <td>1</td>\n",
       "    </tr>\n",
       "    <tr>\n",
       "      <th>npf_k33_layer1_cn</th>\n",
       "      <td>npf_k33_layer1_cn</td>\n",
       "      <td>log</td>\n",
       "      <td>1</td>\n",
       "      <td>2.34635</td>\n",
       "      <td>-0.69897</td>\n",
       "      <td>0.69897</td>\n",
       "      <td>0.349485</td>\n",
       "    </tr>\n",
       "    <tr>\n",
       "      <th>...</th>\n",
       "      <td>...</td>\n",
       "      <td>...</td>\n",
       "      <td>...</td>\n",
       "      <td>...</td>\n",
       "      <td>...</td>\n",
       "      <td>...</td>\n",
       "      <td>...</td>\n",
       "    </tr>\n",
       "    <tr>\n",
       "      <th>sto_sy_layer1_cn</th>\n",
       "      <td>sto_sy_layer1_cn</td>\n",
       "      <td>log</td>\n",
       "      <td>1</td>\n",
       "      <td>2.34635</td>\n",
       "      <td>-0.69897</td>\n",
       "      <td>0.69897</td>\n",
       "      <td>0.349485</td>\n",
       "    </tr>\n",
       "    <tr>\n",
       "      <th>sto_sy_layer1_gr</th>\n",
       "      <td>sto_sy_layer1_gr</td>\n",
       "      <td>log</td>\n",
       "      <td>706</td>\n",
       "      <td>2.34635</td>\n",
       "      <td>-0.69897</td>\n",
       "      <td>0.69897</td>\n",
       "      <td>0.349485</td>\n",
       "    </tr>\n",
       "    <tr>\n",
       "      <th>sto_sy_layer1_pp</th>\n",
       "      <td>sto_sy_layer1_pp</td>\n",
       "      <td>log</td>\n",
       "      <td>32</td>\n",
       "      <td>2.34635</td>\n",
       "      <td>-0.69897</td>\n",
       "      <td>0.69897</td>\n",
       "      <td>0.349485</td>\n",
       "    </tr>\n",
       "    <tr>\n",
       "      <th>wel_cst</th>\n",
       "      <td>wel_cst</td>\n",
       "      <td>log</td>\n",
       "      <td>25</td>\n",
       "      <td>2.34635</td>\n",
       "      <td>-0.30103</td>\n",
       "      <td>0.176091</td>\n",
       "      <td>0.11928</td>\n",
       "    </tr>\n",
       "    <tr>\n",
       "      <th>wel_grd</th>\n",
       "      <td>wel_grd</td>\n",
       "      <td>log</td>\n",
       "      <td>150</td>\n",
       "      <td>2.34635</td>\n",
       "      <td>-0.30103</td>\n",
       "      <td>0.176091</td>\n",
       "      <td>0.11928</td>\n",
       "    </tr>\n",
       "  </tbody>\n",
       "</table>\n",
       "<p>137 rows × 7 columns</p>\n",
       "</div>"
      ],
      "text/plain": [
       "                                type transform  count initial value  \\\n",
       "ghbcond_cn                ghbcond_cn       log      1       2.34635   \n",
       "ghbcond_gr                ghbcond_gr       log     30       2.34635   \n",
       "ghbhead_cn                ghbhead_cn      none      1           222   \n",
       "ghbhead_gr                ghbhead_gr      none     30           222   \n",
       "npf_k33_layer1_cn  npf_k33_layer1_cn       log      1       2.34635   \n",
       "...                              ...       ...    ...           ...   \n",
       "sto_sy_layer1_cn    sto_sy_layer1_cn       log      1       2.34635   \n",
       "sto_sy_layer1_gr    sto_sy_layer1_gr       log    706       2.34635   \n",
       "sto_sy_layer1_pp    sto_sy_layer1_pp       log     32       2.34635   \n",
       "wel_cst                      wel_cst       log     25       2.34635   \n",
       "wel_grd                      wel_grd       log    150       2.34635   \n",
       "\n",
       "                  lower bound upper bound standard deviation  \n",
       "ghbcond_cn                 -1           1                0.5  \n",
       "ghbcond_gr                 -1           1                0.5  \n",
       "ghbhead_cn                 -2           2                  1  \n",
       "ghbhead_gr                 -2           2                  1  \n",
       "npf_k33_layer1_cn    -0.69897     0.69897           0.349485  \n",
       "...                       ...         ...                ...  \n",
       "sto_sy_layer1_cn     -0.69897     0.69897           0.349485  \n",
       "sto_sy_layer1_gr     -0.69897     0.69897           0.349485  \n",
       "sto_sy_layer1_pp     -0.69897     0.69897           0.349485  \n",
       "wel_cst              -0.30103    0.176091            0.11928  \n",
       "wel_grd              -0.30103    0.176091            0.11928  \n",
       "\n",
       "[137 rows x 7 columns]"
      ]
     },
     "execution_count": 25,
     "metadata": {},
     "output_type": "execute_result"
    }
   ],
   "source": [
    "pst.write_par_summary_table()"
   ]
  },
  {
   "cell_type": "code",
   "execution_count": 26,
   "metadata": {},
   "outputs": [
    {
     "data": {
      "text/html": [
       "<div>\n",
       "<style scoped>\n",
       "    .dataframe tbody tr th:only-of-type {\n",
       "        vertical-align: middle;\n",
       "    }\n",
       "\n",
       "    .dataframe tbody tr th {\n",
       "        vertical-align: top;\n",
       "    }\n",
       "\n",
       "    .dataframe thead th {\n",
       "        text-align: right;\n",
       "    }\n",
       "</style>\n",
       "<table border=\"1\" class=\"dataframe\">\n",
       "  <thead>\n",
       "    <tr style=\"text-align: right;\">\n",
       "      <th></th>\n",
       "      <th>group</th>\n",
       "      <th>value</th>\n",
       "      <th>non-zero weight</th>\n",
       "      <th>zero weight</th>\n",
       "      <th>weight</th>\n",
       "      <th>standard deviation</th>\n",
       "      <th>percent error</th>\n",
       "    </tr>\n",
       "  </thead>\n",
       "  <tbody>\n",
       "    <tr>\n",
       "      <th>hds</th>\n",
       "      <td>hds</td>\n",
       "      <td>33.3672 to 35.4384</td>\n",
       "      <td>338</td>\n",
       "      <td>312</td>\n",
       "      <td>0 to    10</td>\n",
       "      <td>0.1</td>\n",
       "      <td>0.28218 to 0.299265</td>\n",
       "    </tr>\n",
       "    <tr>\n",
       "      <th>hdstd</th>\n",
       "      <td>hdstd</td>\n",
       "      <td>-0.314559 to 0.303136</td>\n",
       "      <td>338</td>\n",
       "      <td>312</td>\n",
       "      <td>0 to   100</td>\n",
       "      <td>0.01</td>\n",
       "      <td>3.29885 to 2694.98</td>\n",
       "    </tr>\n",
       "    <tr>\n",
       "      <th>hdsvd</th>\n",
       "      <td>hdsvd</td>\n",
       "      <td>-0.0213987 to 0.0104828</td>\n",
       "      <td>169</td>\n",
       "      <td>156</td>\n",
       "      <td>0 to   100</td>\n",
       "      <td>0.01</td>\n",
       "      <td>46.7319 to 38759.7</td>\n",
       "    </tr>\n",
       "    <tr>\n",
       "      <th>sfr</th>\n",
       "      <td>sfr</td>\n",
       "      <td>-1113 to  1566</td>\n",
       "      <td>39</td>\n",
       "      <td>36</td>\n",
       "      <td>0 to 1.69159</td>\n",
       "      <td>0.59116 to 156.6</td>\n",
       "      <td>10 to    10</td>\n",
       "    </tr>\n",
       "    <tr>\n",
       "      <th>sfrtd</th>\n",
       "      <td>sfrtd</td>\n",
       "      <td>-808.58 to 512.35</td>\n",
       "      <td>36</td>\n",
       "      <td>39</td>\n",
       "      <td>0 to 10.2041</td>\n",
       "      <td>0.098 to 65.714</td>\n",
       "      <td>10 to    10</td>\n",
       "    </tr>\n",
       "  </tbody>\n",
       "</table>\n",
       "</div>"
      ],
      "text/plain": [
       "       group                    value  non-zero weight  zero weight  \\\n",
       "hds      hds       33.3672 to 35.4384              338          312   \n",
       "hdstd  hdstd    -0.314559 to 0.303136              338          312   \n",
       "hdsvd  hdsvd  -0.0213987 to 0.0104828              169          156   \n",
       "sfr      sfr           -1113 to  1566               39           36   \n",
       "sfrtd  sfrtd        -808.58 to 512.35               36           39   \n",
       "\n",
       "                 weight standard deviation        percent error  \n",
       "hds          0 to    10                0.1  0.28218 to 0.299265  \n",
       "hdstd        0 to   100               0.01   3.29885 to 2694.98  \n",
       "hdsvd        0 to   100               0.01   46.7319 to 38759.7  \n",
       "sfr        0 to 1.69159   0.59116 to 156.6          10 to    10  \n",
       "sfrtd      0 to 10.2041    0.098 to 65.714          10 to    10  "
      ]
     },
     "execution_count": 26,
     "metadata": {},
     "output_type": "execute_result"
    }
   ],
   "source": [
    "pst.write_obs_summary_table()"
   ]
  },
  {
   "cell_type": "markdown",
   "metadata": {},
   "source": [
    "### 3.2. Phi and residuals\n",
    "\n",
    "The `Pst` class tries load a residuals file in the constructor. It looks for a file in the same folder as the control file and with the same base name, but with the extension \".rei\". Alterantaively, you can specify the name of the residual file when constructing the `Pst`. (e.g. `pyemu.Pst(\"controlfile.pst\", resfile=\"residualfile.rei\")`)\n",
    "\n",
    "If that file is found, you can access some pretty cool stuff.  The `Pst.res` attribute is stored as a Pandas DataFrame. \n",
    "\n",
    "Of course, all of this relies on PEST(++) having been run at least once before hand to record the residuals file. For the purposes of this tutorial, we have already done so. When we constructed `pst` at the beggining of this notebook, `pyemu` also loaded the residuals file. \n",
    "\n",
    "Inspect it by running the cell bellow. As you can see, the DataFrame lists all observations and group names, their modelled and measured values, weights and of course the residual:\n"
   ]
  },
  {
   "cell_type": "code",
   "execution_count": 27,
   "metadata": {},
   "outputs": [
    {
     "data": {
      "text/html": [
       "<div>\n",
       "<style scoped>\n",
       "    .dataframe tbody tr th:only-of-type {\n",
       "        vertical-align: middle;\n",
       "    }\n",
       "\n",
       "    .dataframe tbody tr th {\n",
       "        vertical-align: top;\n",
       "    }\n",
       "\n",
       "    .dataframe thead th {\n",
       "        text-align: right;\n",
       "    }\n",
       "</style>\n",
       "<table border=\"1\" class=\"dataframe\">\n",
       "  <thead>\n",
       "    <tr style=\"text-align: right;\">\n",
       "      <th></th>\n",
       "      <th>name</th>\n",
       "      <th>group</th>\n",
       "      <th>measured</th>\n",
       "      <th>modelled</th>\n",
       "      <th>residual</th>\n",
       "      <th>weight</th>\n",
       "    </tr>\n",
       "    <tr>\n",
       "      <th>name</th>\n",
       "      <th></th>\n",
       "      <th></th>\n",
       "      <th></th>\n",
       "      <th></th>\n",
       "      <th></th>\n",
       "      <th></th>\n",
       "    </tr>\n",
       "  </thead>\n",
       "  <tbody>\n",
       "    <tr>\n",
       "      <th>oname:hds_otype:lst_usecol:trgw_0_13_10_time:1.0</th>\n",
       "      <td>oname:hds_otype:lst_usecol:trgw_0_13_10_time:1.0</td>\n",
       "      <td>oname:hds_otype:lst_usecol:trgw_0_13_10</td>\n",
       "      <td>34.404445</td>\n",
       "      <td>34.263277</td>\n",
       "      <td>0.141168</td>\n",
       "      <td>10.0</td>\n",
       "    </tr>\n",
       "    <tr>\n",
       "      <th>oname:hds_otype:lst_usecol:trgw_0_13_10_time:122.0</th>\n",
       "      <td>oname:hds_otype:lst_usecol:trgw_0_13_10_time:122.0</td>\n",
       "      <td>oname:hds_otype:lst_usecol:trgw_0_13_10</td>\n",
       "      <td>34.450289</td>\n",
       "      <td>34.527724</td>\n",
       "      <td>-0.077435</td>\n",
       "      <td>10.0</td>\n",
       "    </tr>\n",
       "    <tr>\n",
       "      <th>oname:hds_otype:lst_usecol:trgw_0_13_10_time:153.0</th>\n",
       "      <td>oname:hds_otype:lst_usecol:trgw_0_13_10_time:153.0</td>\n",
       "      <td>oname:hds_otype:lst_usecol:trgw_0_13_10</td>\n",
       "      <td>34.449492</td>\n",
       "      <td>34.444368</td>\n",
       "      <td>0.005124</td>\n",
       "      <td>10.0</td>\n",
       "    </tr>\n",
       "    <tr>\n",
       "      <th>oname:hds_otype:lst_usecol:trgw_0_13_10_time:183.0</th>\n",
       "      <td>oname:hds_otype:lst_usecol:trgw_0_13_10_time:183.0</td>\n",
       "      <td>oname:hds_otype:lst_usecol:trgw_0_13_10</td>\n",
       "      <td>34.383839</td>\n",
       "      <td>34.318767</td>\n",
       "      <td>0.065072</td>\n",
       "      <td>10.0</td>\n",
       "    </tr>\n",
       "    <tr>\n",
       "      <th>oname:hds_otype:lst_usecol:trgw_0_13_10_time:214.0</th>\n",
       "      <td>oname:hds_otype:lst_usecol:trgw_0_13_10_time:214.0</td>\n",
       "      <td>oname:hds_otype:lst_usecol:trgw_0_13_10</td>\n",
       "      <td>34.332796</td>\n",
       "      <td>34.178962</td>\n",
       "      <td>0.153834</td>\n",
       "      <td>10.0</td>\n",
       "    </tr>\n",
       "  </tbody>\n",
       "</table>\n",
       "</div>"
      ],
      "text/plain": [
       "                                                                                                  name  \\\n",
       "name                                                                                                     \n",
       "oname:hds_otype:lst_usecol:trgw_0_13_10_time:1.0      oname:hds_otype:lst_usecol:trgw_0_13_10_time:1.0   \n",
       "oname:hds_otype:lst_usecol:trgw_0_13_10_time:122.0  oname:hds_otype:lst_usecol:trgw_0_13_10_time:122.0   \n",
       "oname:hds_otype:lst_usecol:trgw_0_13_10_time:153.0  oname:hds_otype:lst_usecol:trgw_0_13_10_time:153.0   \n",
       "oname:hds_otype:lst_usecol:trgw_0_13_10_time:183.0  oname:hds_otype:lst_usecol:trgw_0_13_10_time:183.0   \n",
       "oname:hds_otype:lst_usecol:trgw_0_13_10_time:214.0  oname:hds_otype:lst_usecol:trgw_0_13_10_time:214.0   \n",
       "\n",
       "                                                                                      group  \\\n",
       "name                                                                                          \n",
       "oname:hds_otype:lst_usecol:trgw_0_13_10_time:1.0    oname:hds_otype:lst_usecol:trgw_0_13_10   \n",
       "oname:hds_otype:lst_usecol:trgw_0_13_10_time:122.0  oname:hds_otype:lst_usecol:trgw_0_13_10   \n",
       "oname:hds_otype:lst_usecol:trgw_0_13_10_time:153.0  oname:hds_otype:lst_usecol:trgw_0_13_10   \n",
       "oname:hds_otype:lst_usecol:trgw_0_13_10_time:183.0  oname:hds_otype:lst_usecol:trgw_0_13_10   \n",
       "oname:hds_otype:lst_usecol:trgw_0_13_10_time:214.0  oname:hds_otype:lst_usecol:trgw_0_13_10   \n",
       "\n",
       "                                                     measured   modelled  \\\n",
       "name                                                                       \n",
       "oname:hds_otype:lst_usecol:trgw_0_13_10_time:1.0    34.404445  34.263277   \n",
       "oname:hds_otype:lst_usecol:trgw_0_13_10_time:122.0  34.450289  34.527724   \n",
       "oname:hds_otype:lst_usecol:trgw_0_13_10_time:153.0  34.449492  34.444368   \n",
       "oname:hds_otype:lst_usecol:trgw_0_13_10_time:183.0  34.383839  34.318767   \n",
       "oname:hds_otype:lst_usecol:trgw_0_13_10_time:214.0  34.332796  34.178962   \n",
       "\n",
       "                                                    residual  weight  \n",
       "name                                                                  \n",
       "oname:hds_otype:lst_usecol:trgw_0_13_10_time:1.0    0.141168    10.0  \n",
       "oname:hds_otype:lst_usecol:trgw_0_13_10_time:122.0 -0.077435    10.0  \n",
       "oname:hds_otype:lst_usecol:trgw_0_13_10_time:153.0  0.005124    10.0  \n",
       "oname:hds_otype:lst_usecol:trgw_0_13_10_time:183.0  0.065072    10.0  \n",
       "oname:hds_otype:lst_usecol:trgw_0_13_10_time:214.0  0.153834    10.0  "
      ]
     },
     "execution_count": 27,
     "metadata": {},
     "output_type": "execute_result"
    }
   ],
   "source": [
    "pst.res.head()"
   ]
  },
  {
   "cell_type": "markdown",
   "metadata": {},
   "source": [
    "A somewhat clunky (and meaningless) look at everyones favourite \"good fit\" plot:"
   ]
  },
  {
   "cell_type": "code",
   "execution_count": 28,
   "metadata": {},
   "outputs": [
    {
     "data": {
      "text/plain": [
       "<AxesSubplot:xlabel='measured', ylabel='modelled'>"
      ]
     },
     "execution_count": 28,
     "metadata": {},
     "output_type": "execute_result"
    },
    {
     "data": {
      "image/png": "[encoded data removed]",
      "text/plain": [
       "<Figure size 432x288 with 1 Axes>"
      ]
     },
     "metadata": {
      "needs_background": "light"
     },
     "output_type": "display_data"
    }
   ],
   "source": [
    "pst.res.plot.scatter('measured', 'modelled')"
   ]
  },
  {
   "cell_type": "markdown",
   "metadata": {},
   "source": [
    "Or a clunky look at the residuals for selected observations:"
   ]
  },
  {
   "cell_type": "code",
   "execution_count": 29,
   "metadata": {},
   "outputs": [
    {
     "data": {
      "text/plain": [
       "<AxesSubplot:xlabel='name'>"
      ]
     },
     "execution_count": 29,
     "metadata": {},
     "output_type": "execute_result"
    },
    {
     "data": {
      "image/png": "[encoded data removed]",
      "text/plain": [
       "<Figure size 432x288 with 1 Axes>"
      ]
     },
     "metadata": {
      "needs_background": "light"
     },
     "output_type": "display_data"
    }
   ],
   "source": [
    "pst.res.iloc[0:5].loc[:, 'residual'].plot(kind='bar')"
   ]
  },
  {
   "cell_type": "markdown",
   "metadata": {},
   "source": [
    "There are built in routines for common plots. These can be called suing the `Pst.plot()` method and specifying the `kind` argument. For example, a 1to1 plot for each obsevration group: "
   ]
  },
  {
   "cell_type": "code",
   "execution_count": 30,
   "metadata": {},
   "outputs": [
    {
     "data": {
      "text/plain": [
       "<Figure size 576x756 with 0 Axes>"
      ]
     },
     "metadata": {},
     "output_type": "display_data"
    },
    {
     "data": {
      "image/png": "[encoded data removed]",
      "text/plain": [
       "<Figure size 576x756 with 8 Axes>"
      ]
     },
     "metadata": {
      "needs_background": "light"
     },
     "output_type": "display_data"
    },
    {
     "data": {
      "image/png": "[encoded data removed]",
      "text/plain": [
       "<Figure size 576x756 with 8 Axes>"
      ]
     },
     "metadata": {
      "needs_background": "light"
     },
     "output_type": "display_data"
    }
   ],
   "source": [
    "# 1to1 plots are displayed for each observationg group\n",
    "pst.plot(kind='1to1' );"
   ]
  },
  {
   "cell_type": "markdown",
   "metadata": {},
   "source": [
    "The weighted sum of square residuals (Phi) is stored in the `Pst` respective attribute. "
   ]
  },
  {
   "cell_type": "code",
   "execution_count": 31,
   "metadata": {},
   "outputs": [
    {
     "data": {
      "text/plain": [
       "21176982.99016495"
      ]
     },
     "execution_count": 31,
     "metadata": {},
     "output_type": "execute_result"
    }
   ],
   "source": [
    "# the value of the objective function\n",
    "pst.phi"
   ]
  },
  {
   "cell_type": "markdown",
   "metadata": {},
   "source": [
    "We can access the components of the objective function as a dctionary. These allow us to breakdown the contributions to Phi from each observation group:"
   ]
  },
  {
   "cell_type": "code",
   "execution_count": 32,
   "metadata": {},
   "outputs": [
    {
     "data": {
      "text/plain": [
       "{'hds': 2183.018109223538,\n",
       " 'hdstd': 48719.75189880377,\n",
       " 'hdsvd': 526.423058766613,\n",
       " 'sfr': 101135.7300063447,\n",
       " 'sfrtd': 21024418.06709181}"
      ]
     },
     "execution_count": 32,
     "metadata": {},
     "output_type": "execute_result"
    }
   ],
   "source": [
    "# observation group contributions to Phi\n",
    "pst.phi_components"
   ]
  },
  {
   "cell_type": "markdown",
   "metadata": {},
   "source": [
    "They can also be displayed with a plot, like so:"
   ]
  },
  {
   "cell_type": "code",
   "execution_count": 33,
   "metadata": {},
   "outputs": [
    {
     "name": "stdout",
     "output_type": "stream",
     "text": [
      "21176982.99016495 {'hds': 2183.018109223538, 'hdstd': 48719.75189880377, 'hdsvd': 526.423058766613, 'sfr': 101135.7300063447, 'sfrtd': 21024418.06709181} {'hds': 0.00010308447195888947, 'hdstd': 0.0023005992837332057, 'hdsvd': 2.4858265174557458e-05, 'sfr': 0.004775738359581926, 'sfrtd': 0.9927957196195514}\n"
     ]
    },
    {
     "data": {
      "image/png": "[encoded data removed]",
      "text/plain": [
       "<Figure size 576x756 with 1 Axes>"
      ]
     },
     "metadata": {},
     "output_type": "display_data"
    }
   ],
   "source": [
    "pst.plot(kind=\"phi_pie\");"
   ]
  },
  {
   "cell_type": "markdown",
   "metadata": {},
   "source": [
    "These values can be recalcualted for different observation weights by simply changing the weights in the `pst.observation_data`. No need to re-run PEST!"
   ]
  },
  {
   "cell_type": "code",
   "execution_count": 34,
   "metadata": {},
   "outputs": [
    {
     "data": {
      "text/plain": [
       "{'hds': 38.907361091447044,\n",
       " 'hdstd': 10.910046573248604,\n",
       " 'hdsvd': 0.10090598526249792,\n",
       " 'sfr': 8442569.475396655,\n",
       " 'sfrtd': 6600422.442223872}"
      ]
     },
     "execution_count": 34,
     "metadata": {},
     "output_type": "execute_result"
    }
   ],
   "source": [
    "obs = pst.observation_data\n",
    "# change all observation weights\n",
    "obs['weight'] = 1.0\n",
    "\n",
    "# check the phi contributions again; compare to vaues displayed above\n",
    "pst.phi_components"
   ]
  },
  {
   "cell_type": "markdown",
   "metadata": {},
   "source": [
    "### 3.3. Adjusting Weights for \"Visibility\"\n",
    "\n",
    "Prior to estimating parameters using PEST, a user must decide how to weight observations. In some\n",
    "cases, it is wise to weight observations strictly according to the inverse of the standard deviation of\n",
    "measurement noise. Certainly, observations of greater credibility should be given greater weights\n",
    "than those of lower credibility. \n",
    "\n",
    "However, when history-matching, this approach can result in the loss of information contained in some observations, due to their contribution to the objective function being over-shadowed by the contribution from other obsevrations. An alternative approach is to weight observations (or observation groups) such that, at the start of the history-matching process, they each contribute the same amount to the objective function. The information content of each of these groups is thereby given equal right of entry to the parameter estimation process. (This matter is extensively discussed in the PEST Book.)\n",
    "\n",
    "As stated above, a practical means of accommodating this situation is to weight all observation groups\n",
    "such that they contribute an equal amount to the starting measurement objective function. In this\n",
    "manner, no single group dominates the objective function, or is dominated by others; the information\n",
    "contained in each group is therefore equally “visible” to PEST.\n",
    "\n",
    "The `Pst.adjust_weights()` method provides a mechanism to fine tune observation weights according to their contribution to the objective function. (*Side note: the PWTADJ1 utility from the PEST-suite automates this same process of \"weighting for visibility\".*) \n",
    "\n",
    "Some **caution** is required here. Observation weights and how these pertain to history-matching *versus* how they pertain to generating an observation ensemble for use with `pestpp-ies` is a frequent source of confusion.\n",
    "\n",
    " - when **history-matching**, observation weights listed in the control file determine their contribution to the objective function, and therefore to the parameter estiamtion process. Here, observation weights may be assigned to reflect observation uncertainty, the balance required for equal \"visibility\", or other modeller-defined (and perhaps subjective...) measures of observation worth.  \n",
    " - when **generating an observation ensemble**, weights should reflect the inverse of the standard deviation of measurement noise. However, unless instructed otherwise, `pestpp-ies` will generate the observation ensemble *using observation weights in the PEST control file*. Therefore, when history-matching with `pestpp-ies` and using weights that **do not** reflect observation uncertainty, it is important to provide `pestpp-ies` with previously prepared observation ensemble (we will demonstrate this further on).\n",
    "\n",
    "\n",
    "OK, so let's adjust some observation weights using `Pst.adjust_weights()`. This method allows us to adjust weights for individual observations, or for entire observation groups. We do so by passing a dictionary with observation names (or group names) as keys, and the correspding value they contribute to the objective function as values.\n",
    "\n",
    "Let's get started.\n",
    "\n",
    "Unfortunately, if you mess around with observation group names (as we did earlier on), `pst.adjust_weights()` will complain if you try assign weights by observation group. Observation group names in `pst.observation_data` must be the same as those in `pst.res`. Keep this in mind when organizing your workflow. Here, we will get around it by running pest once and then re-reading the control file:"
   ]
  },
  {
   "cell_type": "code",
   "execution_count": 35,
   "metadata": {},
   "outputs": [],
   "source": [
    "# run pest once; we previously wrote the control file to the f_d folder\n",
    "pyemu.os_utils.run('pestpp-glm temp.pst', cwd=f_d)\n",
    "\n",
    "# re-load the control file\n",
    "pst = pyemu.Pst(os.path.join(f_d,\"temp.pst\"))"
   ]
  },
  {
   "cell_type": "code",
   "execution_count": 36,
   "metadata": {},
   "outputs": [
    {
     "data": {
      "text/plain": [
       "{'hds': 2152431409295.1758,\n",
       " 'hdstd': 205883984423617.88,\n",
       " 'hdsvd': 13813.074591713525,\n",
       " 'sfr': 1229593.7315923737,\n",
       " 'sfrtd': 5039745012.791495}"
      ]
     },
     "execution_count": 36,
     "metadata": {},
     "output_type": "execute_result"
    }
   ],
   "source": [
    "# check the phi contributions\n",
    "pst.phi_components"
   ]
  },
  {
   "cell_type": "markdown",
   "metadata": {},
   "source": [
    "Now, let's create the dictionary of non-zero eighted observation groups. We will specify that we want each group to contribute a value of 100 to the objective function. (Why 100? No particular reason. Could just as easily be 1000. Or 578. Doesn't really matter. 100 is a nice round number though.)"
   ]
  },
  {
   "cell_type": "code",
   "execution_count": 37,
   "metadata": {},
   "outputs": [
    {
     "data": {
      "text/plain": [
       "{'hds': 100, 'sfr': 100, 'sfrtd': 100, 'hdstd': 100, 'hdsvd': 100}"
      ]
     },
     "execution_count": 37,
     "metadata": {},
     "output_type": "execute_result"
    }
   ],
   "source": [
    "balanced_groups = {grp:100 for grp in pst.nnz_obs_groups}\n",
    "balanced_groups"
   ]
  },
  {
   "cell_type": "markdown",
   "metadata": {},
   "source": [
    "Now we can simply pass this dctionary as an argument:"
   ]
  },
  {
   "cell_type": "code",
   "execution_count": 38,
   "metadata": {},
   "outputs": [],
   "source": [
    "# make all non-zero weighted groups have a contribution of 100.0\n",
    "pst.adjust_weights(obsgrp_dict=balanced_groups,)"
   ]
  },
  {
   "cell_type": "markdown",
   "metadata": {},
   "source": [
    "And voila. Run the cell below to see that phi components form each group are (roughly) 100. The same approach can be impleented for individual obsevrations (see the `obs_dict` argument in `pst.adjust_weights()`). "
   ]
  },
  {
   "cell_type": "code",
   "execution_count": 39,
   "metadata": {},
   "outputs": [
    {
     "data": {
      "text/plain": [
       "{'hds': 100.00000000000001,\n",
       " 'hdstd': 100.00000000000003,\n",
       " 'hdsvd': 100.00000000000001,\n",
       " 'sfr': 100.00000000000001,\n",
       " 'sfrtd': 99.99999999999994}"
      ]
     },
     "execution_count": 39,
     "metadata": {},
     "output_type": "execute_result"
    }
   ],
   "source": [
    "# check the phi contributions; comapre to those above\n",
    "pst.phi_components"
   ]
  },
  {
   "cell_type": "code",
   "execution_count": 40,
   "metadata": {},
   "outputs": [
    {
     "name": "stdout",
     "output_type": "stream",
     "text": [
      "500.0 {'hds': 100.00000000000001, 'hdstd': 100.00000000000003, 'hdsvd': 100.00000000000001, 'sfr': 100.00000000000001, 'sfrtd': 99.99999999999994} {'hds': 0.20000000000000004, 'hdstd': 0.20000000000000007, 'hdsvd': 0.20000000000000004, 'sfr': 0.20000000000000004, 'sfrtd': 0.1999999999999999}\n"
     ]
    },
    {
     "data": {
      "image/png": "[encoded data removed]",
      "text/plain": [
       "<Figure size 576x756 with 1 Axes>"
      ]
     },
     "metadata": {},
     "output_type": "display_data"
    }
   ],
   "source": [
    "pst.plot(kind=\"phi_pie\");"
   ]
  },
  {
   "cell_type": "markdown",
   "metadata": {},
   "source": [
    "### 3.4. Discrepancy based weight adjustment\n",
    "\n",
    "In a perfect (model and algorithm) world, we would acheive a final objective function that is equal to the number of (non-zero weighted) observations. But because of model error and simplifying assumptions in the algorithms we use for history matching, this is rarely the case.  More often, the final objective function is much larger than the number of observations.  This implies that we were not able to \"fit\" as well as we thought we could (where \"thought\" is incapsulated in the weights in the control file).  This really matters when we do posterior uncertainty analyses following a PEST run - we will see this again in the FOSM and data-worth notebooks. \n",
    "\n",
    "The simpliest way to try to rectify this situation is to adjust the weights in the control file so that the resulting contribution to the objective function from each observation (or optional observation group) is equal 1 (or the number of members of the group).  This is related to Morozov's discrepancy principal (google it!).  `pyEMU` has a built in routine to help with this: `Pst.adjust_weights_discrepancy()` - great name!\n",
    "\n",
    "*Note 1: dont make this adjustment until after you are through with history matching! The point is for weights to represent the inverse of observation uncertainty, which includes both measurement error **and** model error.*\n",
    "\n",
    "*Note 2: the PWTADJ2 utility from the PEST-suite also acomplishes this.*  "
   ]
  },
  {
   "cell_type": "code",
   "execution_count": 41,
   "metadata": {},
   "outputs": [
    {
     "data": {
      "text/plain": [
       "(500.0, 920)"
      ]
     },
     "execution_count": 41,
     "metadata": {},
     "output_type": "execute_result"
    }
   ],
   "source": [
    "# see current phi and the number of non-zero observations\n",
    "pst.phi, pst.nnz_obs"
   ]
  },
  {
   "cell_type": "code",
   "execution_count": 42,
   "metadata": {},
   "outputs": [
    {
     "data": {
      "text/plain": [
       "224.08084300931017"
      ]
     },
     "execution_count": 42,
     "metadata": {},
     "output_type": "execute_result"
    }
   ],
   "source": [
    "pst.adjust_weights_discrepancy(original_ceiling=True) # default\n",
    "# check the resulting phi\n",
    "pst.phi"
   ]
  },
  {
   "cell_type": "markdown",
   "metadata": {},
   "source": [
    "So we were expecting Phi to be 920 (equal to nnz_obs). This did not happen due to the `original_ceiling` argument being set to `True` (which is the default value).\n",
    "\n",
    "What this means is that, for some observations, weights would have to be *increased* to achieve a contribution to Phi of 1.0. Which is illogical if the original weight is assumed to be the inverse of the measurement noise. \n",
    "\n",
    "However, if the original observation weight is representative of something else (e.g. weighting for visibility), then it may make sense to allow `pst.adjust_weights_discrepancy()` to increase the weight.\n"
   ]
  },
  {
   "cell_type": "code",
   "execution_count": 43,
   "metadata": {},
   "outputs": [
    {
     "data": {
      "text/plain": [
       "893.9999999979573"
      ]
     },
     "execution_count": 43,
     "metadata": {},
     "output_type": "execute_result"
    }
   ],
   "source": [
    "pst.adjust_weights_discrepancy(original_ceiling=False,)\n",
    "# check the resulting phi\n",
    "pst.phi"
   ]
  },
  {
   "cell_type": "markdown",
   "metadata": {},
   "source": [
    "# Why 894 instead of 920???"
   ]
  },
  {
   "cell_type": "code",
   "execution_count": null,
   "metadata": {},
   "outputs": [],
   "source": []
  },
  {
   "cell_type": "markdown",
   "metadata": {},
   "source": [
    "### 4. Geostatistics in pyEMU\n",
    "\n",
    "The `pyemu.geostats` module provides tools for implementing geostatistics in the `pyemu` world. These have similar functions to the PPCOV* utilities from the PEST suite. \n",
    "\n",
    "In the PEST world, geostatistics are used (1) to describe how parameters vary in space and/or time and (2) when assigning parameter values from pilot points to model input files. Front-end users will mostly be interested in the former. A separate tutorial notebook delves into geostatistics in `pyemu` in greater detail. The \"freyberg pest setup\" tutorials provide examples of their use in the wild.\n",
    "\n",
    "At the heart of geostatistics is some kind of model expressing the variability of properties in a field. This is a \"variogram\". `pyemu` supports spherical, exponential and gaussian variograms."
   ]
  },
  {
   "cell_type": "code",
   "execution_count": 44,
   "metadata": {},
   "outputs": [],
   "source": [
    "# exponential variogram for spatially varying parameters\n",
    "v = pyemu.geostats.ExpVario(contribution=1.0, #sill\n",
    "                                    a=1000, # range of correlation\n",
    "                                    anisotropy=1.0, #name says it all\n",
    "                                    bearing=0.0 #angle in degrees East of North corresponding to anisotropy ellipse\n",
    "                                    )"
   ]
  },
  {
   "cell_type": "code",
   "execution_count": 45,
   "metadata": {},
   "outputs": [],
   "source": [
    "# spherical variogram for spatially varying parameters\n",
    "v2 = pyemu.geostats.SphVario(contribution=1.0, #sill\n",
    "                                    a=500, # range of correlation\n",
    "                                    anisotropy=1.5, #name says it all\n",
    "                                    bearing=45.0, #angle in degrees East of North corresponding to anisotropy ellipse\n",
    "                                    name='var2') #optional name"
   ]
  },
  {
   "cell_type": "markdown",
   "metadata": {},
   "source": [
    "A `pyemu`  geostatistical structure object that mimics the behavior of a PEST geostatistical structure (see the PEST manual for details).  The object contains variogram instances, information on parameter transforms and\n",
    "(optionally) nugget information. Multiple nested variograms are supported."
   ]
  },
  {
   "cell_type": "code",
   "execution_count": 46,
   "metadata": {},
   "outputs": [
    {
     "data": {
      "text/plain": [
       "<AxesSubplot:xlabel='distance', ylabel='$\\\\gamma$'>"
      ]
     },
     "execution_count": 46,
     "metadata": {},
     "output_type": "execute_result"
    },
    {
     "data": {
      "image/png": "[encoded data removed]",
      "text/plain": [
       "<Figure size 432x288 with 1 Axes>"
      ]
     },
     "metadata": {
      "needs_background": "light"
     },
     "output_type": "display_data"
    }
   ],
   "source": [
    "# geostatistical structure for spatially varying parameters\n",
    "gs = pyemu.geostats.GeoStruct(variograms=[v,v2], transform='log') \n",
    "\n",
    "# plot the gs if you like:\n",
    "gs.plot()"
   ]
  },
  {
   "cell_type": "markdown",
   "metadata": {},
   "source": [
    "Using the geostatistical structure (or a variogram), a covariance matrix describing the statistical relationship between spatialy distributed parameters can be constructed. These covariance matrices are used (1) to describe prior parameter probability distributions, and (2) specifying the weights of prior information equations as a regularisation device. \n",
    "\n",
    "For example, let's create a covariance matrix for a set of pilot point parameters from the `gs` structure. This requires a list of X and Y coordinates. Let's make use of the coordinates from a pilot points file in the `f_d` folder.\n",
    "\n",
    "First, read the pilot points file to get X and Y values:"
   ]
  },
  {
   "cell_type": "code",
   "execution_count": 47,
   "metadata": {},
   "outputs": [
    {
     "data": {
      "text/html": [
       "<div>\n",
       "<style scoped>\n",
       "    .dataframe tbody tr th:only-of-type {\n",
       "        vertical-align: middle;\n",
       "    }\n",
       "\n",
       "    .dataframe tbody tr th {\n",
       "        vertical-align: top;\n",
       "    }\n",
       "\n",
       "    .dataframe thead th {\n",
       "        text-align: right;\n",
       "    }\n",
       "</style>\n",
       "<table border=\"1\" class=\"dataframe\">\n",
       "  <thead>\n",
       "    <tr style=\"text-align: right;\">\n",
       "      <th></th>\n",
       "      <th>name</th>\n",
       "      <th>x</th>\n",
       "      <th>y</th>\n",
       "      <th>zone</th>\n",
       "      <th>parnme</th>\n",
       "    </tr>\n",
       "  </thead>\n",
       "  <tbody>\n",
       "    <tr>\n",
       "      <th>0</th>\n",
       "      <td>pp_0000</td>\n",
       "      <td>625.0</td>\n",
       "      <td>9375.0</td>\n",
       "      <td>1.0</td>\n",
       "      <td>pname:npf_k_layer1_pp_inst:0_ptype:pp_pstyle:m_i:2_j:2_zone:1.0</td>\n",
       "    </tr>\n",
       "    <tr>\n",
       "      <th>1</th>\n",
       "      <td>pp_0001</td>\n",
       "      <td>1625.0</td>\n",
       "      <td>9375.0</td>\n",
       "      <td>1.0</td>\n",
       "      <td>pname:npf_k_layer1_pp_inst:0_ptype:pp_pstyle:m_i:2_j:6_zone:1.0</td>\n",
       "    </tr>\n",
       "    <tr>\n",
       "      <th>2</th>\n",
       "      <td>pp_0002</td>\n",
       "      <td>2625.0</td>\n",
       "      <td>9375.0</td>\n",
       "      <td>1.0</td>\n",
       "      <td>pname:npf_k_layer1_pp_inst:0_ptype:pp_pstyle:m_i:2_j:10_zone:1.0</td>\n",
       "    </tr>\n",
       "    <tr>\n",
       "      <th>3</th>\n",
       "      <td>pp_0003</td>\n",
       "      <td>3625.0</td>\n",
       "      <td>9375.0</td>\n",
       "      <td>1.0</td>\n",
       "      <td>pname:npf_k_layer1_pp_inst:0_ptype:pp_pstyle:m_i:2_j:14_zone:1.0</td>\n",
       "    </tr>\n",
       "    <tr>\n",
       "      <th>4</th>\n",
       "      <td>pp_0004</td>\n",
       "      <td>625.0</td>\n",
       "      <td>8375.0</td>\n",
       "      <td>1.0</td>\n",
       "      <td>pname:npf_k_layer1_pp_inst:0_ptype:pp_pstyle:m_i:6_j:2_zone:1.0</td>\n",
       "    </tr>\n",
       "  </tbody>\n",
       "</table>\n",
       "</div>"
      ],
      "text/plain": [
       "      name       x       y  zone  \\\n",
       "0  pp_0000   625.0  9375.0   1.0   \n",
       "1  pp_0001  1625.0  9375.0   1.0   \n",
       "2  pp_0002  2625.0  9375.0   1.0   \n",
       "3  pp_0003  3625.0  9375.0   1.0   \n",
       "4  pp_0004   625.0  8375.0   1.0   \n",
       "\n",
       "                                                             parnme  \n",
       "0   pname:npf_k_layer1_pp_inst:0_ptype:pp_pstyle:m_i:2_j:2_zone:1.0  \n",
       "1   pname:npf_k_layer1_pp_inst:0_ptype:pp_pstyle:m_i:2_j:6_zone:1.0  \n",
       "2  pname:npf_k_layer1_pp_inst:0_ptype:pp_pstyle:m_i:2_j:10_zone:1.0  \n",
       "3  pname:npf_k_layer1_pp_inst:0_ptype:pp_pstyle:m_i:2_j:14_zone:1.0  \n",
       "4   pname:npf_k_layer1_pp_inst:0_ptype:pp_pstyle:m_i:6_j:2_zone:1.0  "
      ]
     },
     "execution_count": 47,
     "metadata": {},
     "output_type": "execute_result"
    }
   ],
   "source": [
    "df = pyemu.pp_utils.pp_tpl_to_dataframe(os.path.join(f_d,\"npf_k_layer1_pp_inst0pp.dat.tpl\"))\n",
    "df.head()"
   ]
  },
  {
   "cell_type": "markdown",
   "metadata": {},
   "source": [
    "Now simply pass the respective values from the pilot points file as arguments to `pyemu.geostats.GeoStruct.covariance_matrix()`. Conveniently, we can also take the parameter names from the pilot point file. This returns a `pyemu.Cov` object (which we will discuss later)."
   ]
  },
  {
   "cell_type": "code",
   "execution_count": 48,
   "metadata": {},
   "outputs": [],
   "source": [
    "cov = gs.covariance_matrix(x=df.x, y=df.y, names=df.name)"
   ]
  },
  {
   "cell_type": "code",
   "execution_count": 49,
   "metadata": {},
   "outputs": [
    {
     "data": {
      "text/plain": [
       "<matplotlib.image.AxesImage at 0x24ede213a60>"
      ]
     },
     "execution_count": 49,
     "metadata": {},
     "output_type": "execute_result"
    },
    {
     "data": {
      "image/png": "[encoded data removed]",
      "text/plain": [
       "<Figure size 432x288 with 1 Axes>"
      ]
     },
     "metadata": {
      "needs_background": "light"
     },
     "output_type": "display_data"
    }
   ],
   "source": [
    "# just for a bit of eye-candy\n",
    "plt.imshow(cov.x)"
   ]
  },
  {
   "cell_type": "markdown",
   "metadata": {},
   "source": [
    "### 5. Prior Information Equations\n",
    "\n",
    "The mathematical term for the process through which a unique solution is sought for a nonunique\n",
    "inverse problem is “regularisation”. The goal of regularised inversion is to seek a unique parameter\n",
    "field that results in a suitable fit between model outputs and field measurements, whilst minimizing\n",
    "the potential for wrongness in model predictions. That is, out of all the ways to fit a calibration dataset, regularized inversion seeks the parameter set of minimum error variance.\n",
    "\n",
    "One way to seek a parameter field of minimum error variance is to seek a parameter field that allows\n",
    "the model to fit the calibration dataset, but whose values are also as close as possible to a set of\n",
    "“preferred parameter values”. Ideally, preferred parameter values should also be initial parameter\n",
    "values as listed in the “parameter data” section of the PEST control file. These preferred parameter\n",
    "values are normally close to the centre of the prior parameter probability distribution. At the same\n",
    "time, scales and patterns of departures from the preferred parameter set that are required for model\n",
    "outputs to fit a calibration dataset should be achieved in ways that make “geological sense”.\n",
    "\n",
    "PEST provides a user with a great deal of flexibility in how Tikhonov constraints can be introduced to\n",
    "an inversion process. The easiest way is to do this is through the use of prior information equations.\n",
    "When prior information equations are employed, Tikhonov constraints are expressed through\n",
    "preferred values that are assigned to linear relationships between parameters. (Equality is the simplest type of linear relationship.) Weights must be assigned to these equations. As is described in PEST documentation, when PEST is run in “regularisation” mode, it makes internal adjustments to the weights that are assigned to any observations or prior information equations that belong to special observation groups that are referred to as “regularisation groups”.\n",
    "\n",
    "As for non-regularisation observations and prior information equations, weights can be replaced by\n",
    "covariance matrices. These are rarely used with normal observations. However when observations\n",
    "or prior information equations embody Tikhonov constraints, they can be used to ensure that patterns\n",
    "of parameter heterogeneity that emerge from the inversion process are geologically reasonable.\n",
    "Covariance matrices are preferred over weights for prior information equations that embody Tikhonov\n",
    "constraints. However, we will demonstrate both options in the following workflow.\n",
    "\n",
    "*Note: in a similar manner, the PEST-utilities ADDREG1 and ADDREG2 also automate the addition of prior information equations to a PEST-control file.*"
   ]
  },
  {
   "cell_type": "markdown",
   "metadata": {},
   "source": [
    "### 5.1. Preffered value or Zero Order Tikhonov\n",
    "\n",
    "`pyemu` provides utilities to apply preferred value prior equations to a PEST control file. Note though, pyemu doesn't call it \"preferred value\"! Rather, it uses the mathematical term \"Zero Order Tikhonov\".\n",
    "\n",
    "Before we do so, we can inspect the control file \"* prior information\" section (it should still be empty):\n"
   ]
  },
  {
   "cell_type": "code",
   "execution_count": 50,
   "metadata": {},
   "outputs": [
    {
     "data": {
      "text/html": [
       "<div>\n",
       "<style scoped>\n",
       "    .dataframe tbody tr th:only-of-type {\n",
       "        vertical-align: middle;\n",
       "    }\n",
       "\n",
       "    .dataframe tbody tr th {\n",
       "        vertical-align: top;\n",
       "    }\n",
       "\n",
       "    .dataframe thead th {\n",
       "        text-align: right;\n",
       "    }\n",
       "</style>\n",
       "<table border=\"1\" class=\"dataframe\">\n",
       "  <thead>\n",
       "    <tr style=\"text-align: right;\">\n",
       "      <th></th>\n",
       "      <th>pilbl</th>\n",
       "      <th>obgnme</th>\n",
       "    </tr>\n",
       "  </thead>\n",
       "  <tbody>\n",
       "  </tbody>\n",
       "</table>\n",
       "</div>"
      ],
      "text/plain": [
       "Empty DataFrame\n",
       "Columns: [pilbl, obgnme]\n",
       "Index: []"
      ]
     },
     "execution_count": 50,
     "metadata": {},
     "output_type": "execute_result"
    }
   ],
   "source": [
    "pst.prior_information.head()"
   ]
  },
  {
   "cell_type": "code",
   "execution_count": 51,
   "metadata": {},
   "outputs": [],
   "source": [
    "# use pyemu to apply preferred value (aka zero order Tikhonov) to all adjustable parameter groups\n",
    "pyemu.helpers.zero_order_tikhonov(pst, par_groups=pst.adj_par_groups)"
   ]
  },
  {
   "cell_type": "markdown",
   "metadata": {},
   "source": [
    "Now, as you can see below, prior information equations have been added for all adjustable parameters. The \"preferred value\" is obtained from the parameter initial value in the \"* parameter_data\" section. The weight is calcualted from the parameter bounds (this behaviour can be changed with arguments in `pyemu.helpers.zero_order_tikhonov()`)."
   ]
  },
  {
   "cell_type": "code",
   "execution_count": 52,
   "metadata": {},
   "outputs": [
    {
     "data": {
      "text/html": [
       "<div>\n",
       "<style scoped>\n",
       "    .dataframe tbody tr th:only-of-type {\n",
       "        vertical-align: middle;\n",
       "    }\n",
       "\n",
       "    .dataframe tbody tr th {\n",
       "        vertical-align: top;\n",
       "    }\n",
       "\n",
       "    .dataframe thead th {\n",
       "        text-align: right;\n",
       "    }\n",
       "</style>\n",
       "<table border=\"1\" class=\"dataframe\">\n",
       "  <thead>\n",
       "    <tr style=\"text-align: right;\">\n",
       "      <th></th>\n",
       "      <th>pilbl</th>\n",
       "      <th>equation</th>\n",
       "      <th>obgnme</th>\n",
       "      <th>weight</th>\n",
       "    </tr>\n",
       "    <tr>\n",
       "      <th>pilbl</th>\n",
       "      <th></th>\n",
       "      <th></th>\n",
       "      <th></th>\n",
       "      <th></th>\n",
       "    </tr>\n",
       "  </thead>\n",
       "  <tbody>\n",
       "    <tr>\n",
       "      <th>pname:npf_k_layer1_gr_inst:0_ptype:gr_pstyle:m_i:0_j:0_x:125.00_y:9875.00_zone:1</th>\n",
       "      <td>pname:npf_k_layer1_gr_inst:0_ptype:gr_pstyle:m_i:0_j:0_x:125.00_y:9875.00_zone:1</td>\n",
       "      <td>1.0 * log(pname:npf_k_layer1_gr_inst:0_ptype:gr_pstyle:m_i:0_j:0_x:125.00_y:9875.00_zone:1) =   ...</td>\n",
       "      <td>regulnpf_k_l</td>\n",
       "      <td>0.715338</td>\n",
       "    </tr>\n",
       "    <tr>\n",
       "      <th>pname:npf_k_layer1_gr_inst:0_ptype:gr_pstyle:m_i:0_j:1_x:375.00_y:9875.00_zone:1</th>\n",
       "      <td>pname:npf_k_layer1_gr_inst:0_ptype:gr_pstyle:m_i:0_j:1_x:375.00_y:9875.00_zone:1</td>\n",
       "      <td>1.0 * log(pname:npf_k_layer1_gr_inst:0_ptype:gr_pstyle:m_i:0_j:1_x:375.00_y:9875.00_zone:1) =   ...</td>\n",
       "      <td>regulnpf_k_l</td>\n",
       "      <td>0.715338</td>\n",
       "    </tr>\n",
       "    <tr>\n",
       "      <th>pname:npf_k_layer1_gr_inst:0_ptype:gr_pstyle:m_i:0_j:2_x:625.00_y:9875.00_zone:1</th>\n",
       "      <td>pname:npf_k_layer1_gr_inst:0_ptype:gr_pstyle:m_i:0_j:2_x:625.00_y:9875.00_zone:1</td>\n",
       "      <td>1.0 * log(pname:npf_k_layer1_gr_inst:0_ptype:gr_pstyle:m_i:0_j:2_x:625.00_y:9875.00_zone:1) =   ...</td>\n",
       "      <td>regulnpf_k_l</td>\n",
       "      <td>0.715338</td>\n",
       "    </tr>\n",
       "    <tr>\n",
       "      <th>pname:npf_k_layer1_gr_inst:0_ptype:gr_pstyle:m_i:0_j:3_x:875.00_y:9875.00_zone:1</th>\n",
       "      <td>pname:npf_k_layer1_gr_inst:0_ptype:gr_pstyle:m_i:0_j:3_x:875.00_y:9875.00_zone:1</td>\n",
       "      <td>1.0 * log(pname:npf_k_layer1_gr_inst:0_ptype:gr_pstyle:m_i:0_j:3_x:875.00_y:9875.00_zone:1) =   ...</td>\n",
       "      <td>regulnpf_k_l</td>\n",
       "      <td>0.715338</td>\n",
       "    </tr>\n",
       "    <tr>\n",
       "      <th>pname:npf_k_layer1_gr_inst:0_ptype:gr_pstyle:m_i:0_j:4_x:1125.00_y:9875.00_zone:1</th>\n",
       "      <td>pname:npf_k_layer1_gr_inst:0_ptype:gr_pstyle:m_i:0_j:4_x:1125.00_y:9875.00_zone:1</td>\n",
       "      <td>1.0 * log(pname:npf_k_layer1_gr_inst:0_ptype:gr_pstyle:m_i:0_j:4_x:1125.00_y:9875.00_zone:1) =  ...</td>\n",
       "      <td>regulnpf_k_l</td>\n",
       "      <td>0.715338</td>\n",
       "    </tr>\n",
       "    <tr>\n",
       "      <th>...</th>\n",
       "      <td>...</td>\n",
       "      <td>...</td>\n",
       "      <td>...</td>\n",
       "      <td>...</td>\n",
       "    </tr>\n",
       "    <tr>\n",
       "      <th>pname:sfr_gr_inst:21_ptype:gr_usecol:2_pstyle:m_idx0:0</th>\n",
       "      <td>pname:sfr_gr_inst:21_ptype:gr_usecol:2_pstyle:m_idx0:0</td>\n",
       "      <td>1.0 * log(pname:sfr_gr_inst:21_ptype:gr_usecol:2_pstyle:m_idx0:0) =   2.346353E+00</td>\n",
       "      <td>regulsfr_gr</td>\n",
       "      <td>2.095903</td>\n",
       "    </tr>\n",
       "    <tr>\n",
       "      <th>pname:sfr_gr_inst:22_ptype:gr_usecol:2_pstyle:m_idx0:0</th>\n",
       "      <td>pname:sfr_gr_inst:22_ptype:gr_usecol:2_pstyle:m_idx0:0</td>\n",
       "      <td>1.0 * log(pname:sfr_gr_inst:22_ptype:gr_usecol:2_pstyle:m_idx0:0) =   2.346353E+00</td>\n",
       "      <td>regulsfr_gr</td>\n",
       "      <td>2.095903</td>\n",
       "    </tr>\n",
       "    <tr>\n",
       "      <th>pname:sfr_gr_inst:23_ptype:gr_usecol:2_pstyle:m_idx0:0</th>\n",
       "      <td>pname:sfr_gr_inst:23_ptype:gr_usecol:2_pstyle:m_idx0:0</td>\n",
       "      <td>1.0 * log(pname:sfr_gr_inst:23_ptype:gr_usecol:2_pstyle:m_idx0:0) =   2.346353E+00</td>\n",
       "      <td>regulsfr_gr</td>\n",
       "      <td>2.095903</td>\n",
       "    </tr>\n",
       "    <tr>\n",
       "      <th>pname:sfr_gr_inst:24_ptype:gr_usecol:2_pstyle:m_idx0:0</th>\n",
       "      <td>pname:sfr_gr_inst:24_ptype:gr_usecol:2_pstyle:m_idx0:0</td>\n",
       "      <td>1.0 * log(pname:sfr_gr_inst:24_ptype:gr_usecol:2_pstyle:m_idx0:0) =   2.346353E+00</td>\n",
       "      <td>regulsfr_gr</td>\n",
       "      <td>2.095903</td>\n",
       "    </tr>\n",
       "    <tr>\n",
       "      <th>special_par1</th>\n",
       "      <td>special_par1</td>\n",
       "      <td>1.0 * log(special_par1) =   0.000000E+00</td>\n",
       "      <td>regulpargp</td>\n",
       "      <td>0.050000</td>\n",
       "    </tr>\n",
       "  </tbody>\n",
       "</table>\n",
       "<p>25455 rows × 4 columns</p>\n",
       "</div>"
      ],
      "text/plain": [
       "                                                                                                                                                               pilbl  \\\n",
       "pilbl                                                                                                                                                                  \n",
       "pname:npf_k_layer1_gr_inst:0_ptype:gr_pstyle:m_i:0_j:0_x:125.00_y:9875.00_zone:1    pname:npf_k_layer1_gr_inst:0_ptype:gr_pstyle:m_i:0_j:0_x:125.00_y:9875.00_zone:1   \n",
       "pname:npf_k_layer1_gr_inst:0_ptype:gr_pstyle:m_i:0_j:1_x:375.00_y:9875.00_zone:1    pname:npf_k_layer1_gr_inst:0_ptype:gr_pstyle:m_i:0_j:1_x:375.00_y:9875.00_zone:1   \n",
       "pname:npf_k_layer1_gr_inst:0_ptype:gr_pstyle:m_i:0_j:2_x:625.00_y:9875.00_zone:1    pname:npf_k_layer1_gr_inst:0_ptype:gr_pstyle:m_i:0_j:2_x:625.00_y:9875.00_zone:1   \n",
       "pname:npf_k_layer1_gr_inst:0_ptype:gr_pstyle:m_i:0_j:3_x:875.00_y:9875.00_zone:1    pname:npf_k_layer1_gr_inst:0_ptype:gr_pstyle:m_i:0_j:3_x:875.00_y:9875.00_zone:1   \n",
       "pname:npf_k_layer1_gr_inst:0_ptype:gr_pstyle:m_i:0_j:4_x:1125.00_y:9875.00_zone:1  pname:npf_k_layer1_gr_inst:0_ptype:gr_pstyle:m_i:0_j:4_x:1125.00_y:9875.00_zone:1   \n",
       "...                                                                                                                                                              ...   \n",
       "pname:sfr_gr_inst:21_ptype:gr_usecol:2_pstyle:m_idx0:0                                                        pname:sfr_gr_inst:21_ptype:gr_usecol:2_pstyle:m_idx0:0   \n",
       "pname:sfr_gr_inst:22_ptype:gr_usecol:2_pstyle:m_idx0:0                                                        pname:sfr_gr_inst:22_ptype:gr_usecol:2_pstyle:m_idx0:0   \n",
       "pname:sfr_gr_inst:23_ptype:gr_usecol:2_pstyle:m_idx0:0                                                        pname:sfr_gr_inst:23_ptype:gr_usecol:2_pstyle:m_idx0:0   \n",
       "pname:sfr_gr_inst:24_ptype:gr_usecol:2_pstyle:m_idx0:0                                                        pname:sfr_gr_inst:24_ptype:gr_usecol:2_pstyle:m_idx0:0   \n",
       "special_par1                                                                                                                                            special_par1   \n",
       "\n",
       "                                                                                                                                                                              equation  \\\n",
       "pilbl                                                                                                                                                                                    \n",
       "pname:npf_k_layer1_gr_inst:0_ptype:gr_pstyle:m_i:0_j:0_x:125.00_y:9875.00_zone:1   1.0 * log(pname:npf_k_layer1_gr_inst:0_ptype:gr_pstyle:m_i:0_j:0_x:125.00_y:9875.00_zone:1) =   ...   \n",
       "pname:npf_k_layer1_gr_inst:0_ptype:gr_pstyle:m_i:0_j:1_x:375.00_y:9875.00_zone:1   1.0 * log(pname:npf_k_layer1_gr_inst:0_ptype:gr_pstyle:m_i:0_j:1_x:375.00_y:9875.00_zone:1) =   ...   \n",
       "pname:npf_k_layer1_gr_inst:0_ptype:gr_pstyle:m_i:0_j:2_x:625.00_y:9875.00_zone:1   1.0 * log(pname:npf_k_layer1_gr_inst:0_ptype:gr_pstyle:m_i:0_j:2_x:625.00_y:9875.00_zone:1) =   ...   \n",
       "pname:npf_k_layer1_gr_inst:0_ptype:gr_pstyle:m_i:0_j:3_x:875.00_y:9875.00_zone:1   1.0 * log(pname:npf_k_layer1_gr_inst:0_ptype:gr_pstyle:m_i:0_j:3_x:875.00_y:9875.00_zone:1) =   ...   \n",
       "pname:npf_k_layer1_gr_inst:0_ptype:gr_pstyle:m_i:0_j:4_x:1125.00_y:9875.00_zone:1  1.0 * log(pname:npf_k_layer1_gr_inst:0_ptype:gr_pstyle:m_i:0_j:4_x:1125.00_y:9875.00_zone:1) =  ...   \n",
       "...                                                                                                                                                                                ...   \n",
       "pname:sfr_gr_inst:21_ptype:gr_usecol:2_pstyle:m_idx0:0                                              1.0 * log(pname:sfr_gr_inst:21_ptype:gr_usecol:2_pstyle:m_idx0:0) =   2.346353E+00   \n",
       "pname:sfr_gr_inst:22_ptype:gr_usecol:2_pstyle:m_idx0:0                                              1.0 * log(pname:sfr_gr_inst:22_ptype:gr_usecol:2_pstyle:m_idx0:0) =   2.346353E+00   \n",
       "pname:sfr_gr_inst:23_ptype:gr_usecol:2_pstyle:m_idx0:0                                              1.0 * log(pname:sfr_gr_inst:23_ptype:gr_usecol:2_pstyle:m_idx0:0) =   2.346353E+00   \n",
       "pname:sfr_gr_inst:24_ptype:gr_usecol:2_pstyle:m_idx0:0                                              1.0 * log(pname:sfr_gr_inst:24_ptype:gr_usecol:2_pstyle:m_idx0:0) =   2.346353E+00   \n",
       "special_par1                                                                                                                                  1.0 * log(special_par1) =   0.000000E+00   \n",
       "\n",
       "                                                                                         obgnme  \\\n",
       "pilbl                                                                                             \n",
       "pname:npf_k_layer1_gr_inst:0_ptype:gr_pstyle:m_i:0_j:0_x:125.00_y:9875.00_zone:1   regulnpf_k_l   \n",
       "pname:npf_k_layer1_gr_inst:0_ptype:gr_pstyle:m_i:0_j:1_x:375.00_y:9875.00_zone:1   regulnpf_k_l   \n",
       "pname:npf_k_layer1_gr_inst:0_ptype:gr_pstyle:m_i:0_j:2_x:625.00_y:9875.00_zone:1   regulnpf_k_l   \n",
       "pname:npf_k_layer1_gr_inst:0_ptype:gr_pstyle:m_i:0_j:3_x:875.00_y:9875.00_zone:1   regulnpf_k_l   \n",
       "pname:npf_k_layer1_gr_inst:0_ptype:gr_pstyle:m_i:0_j:4_x:1125.00_y:9875.00_zone:1  regulnpf_k_l   \n",
       "...                                                                                         ...   \n",
       "pname:sfr_gr_inst:21_ptype:gr_usecol:2_pstyle:m_idx0:0                              regulsfr_gr   \n",
       "pname:sfr_gr_inst:22_ptype:gr_usecol:2_pstyle:m_idx0:0                              regulsfr_gr   \n",
       "pname:sfr_gr_inst:23_ptype:gr_usecol:2_pstyle:m_idx0:0                              regulsfr_gr   \n",
       "pname:sfr_gr_inst:24_ptype:gr_usecol:2_pstyle:m_idx0:0                              regulsfr_gr   \n",
       "special_par1                                                                         regulpargp   \n",
       "\n",
       "                                                                                     weight  \n",
       "pilbl                                                                                        \n",
       "pname:npf_k_layer1_gr_inst:0_ptype:gr_pstyle:m_i:0_j:0_x:125.00_y:9875.00_zone:1   0.715338  \n",
       "pname:npf_k_layer1_gr_inst:0_ptype:gr_pstyle:m_i:0_j:1_x:375.00_y:9875.00_zone:1   0.715338  \n",
       "pname:npf_k_layer1_gr_inst:0_ptype:gr_pstyle:m_i:0_j:2_x:625.00_y:9875.00_zone:1   0.715338  \n",
       "pname:npf_k_layer1_gr_inst:0_ptype:gr_pstyle:m_i:0_j:3_x:875.00_y:9875.00_zone:1   0.715338  \n",
       "pname:npf_k_layer1_gr_inst:0_ptype:gr_pstyle:m_i:0_j:4_x:1125.00_y:9875.00_zone:1  0.715338  \n",
       "...                                                                                     ...  \n",
       "pname:sfr_gr_inst:21_ptype:gr_usecol:2_pstyle:m_idx0:0                             2.095903  \n",
       "pname:sfr_gr_inst:22_ptype:gr_usecol:2_pstyle:m_idx0:0                             2.095903  \n",
       "pname:sfr_gr_inst:23_ptype:gr_usecol:2_pstyle:m_idx0:0                             2.095903  \n",
       "pname:sfr_gr_inst:24_ptype:gr_usecol:2_pstyle:m_idx0:0                             2.095903  \n",
       "special_par1                                                                       0.050000  \n",
       "\n",
       "[25455 rows x 4 columns]"
      ]
     },
     "execution_count": 52,
     "metadata": {},
     "output_type": "execute_result"
    }
   ],
   "source": [
    "pst.prior_information"
   ]
  },
  {
   "cell_type": "markdown",
   "metadata": {},
   "source": [
    "### 5.2. Preferred difference or First Order Pearson Tikhonov\n",
    "\n",
    "We may wish (almost certaintly) to express a preference for similarity between parameters. For example, hydraulic properties of points close together are more likley to be similar to each other, than points which are far apart. We describe this relationship with using geostatistics, encapsulated in a covariance matrix.\n",
    "\n",
    "As previously described, `pyemu.geostats` module provides tools for generating such matrices. The PEST suite also includes many utilities for this purpose (see the PPCOV* set of utilities.)\n",
    "Let's use the `cov` covariance matrix we constructed earlier for the set of pilot points."
   ]
  },
  {
   "cell_type": "code",
   "execution_count": 53,
   "metadata": {},
   "outputs": [
    {
     "data": {
      "text/plain": [
       "<matplotlib.image.AxesImage at 0x24edcad18b0>"
      ]
     },
     "execution_count": 53,
     "metadata": {},
     "output_type": "execute_result"
    },
    {
     "data": {
      "image/png": "[encoded data removed]",
      "text/plain": [
       "<Figure size 432x288 with 1 Axes>"
      ]
     },
     "metadata": {
      "needs_background": "light"
     },
     "output_type": "display_data"
    }
   ],
   "source": [
    "# a reminder\n",
    "plt.imshow(cov.x)"
   ]
  },
  {
   "cell_type": "markdown",
   "metadata": {},
   "source": [
    "Now, we can assign prior information equations for preferred difference. Note that the preferred difference = 0, which means our preferred difference regularization is really a preferred *homogeneity* condition!\n",
    "\n",
    "The weights on the prior information equations are the Pearson correlation coefficients implied by covariance matrix.\n",
    "\n",
    "Note: *In PEST(_HP) this type of regularisation is assigned by associating the name of an ASCII covariance matrix file with a regul__ observation group name. In the background PEST(_HP) then determines prior equation weights. In the `pyemu` world, we assign the weights explicitly.*"
   ]
  },
  {
   "cell_type": "code",
   "execution_count": 54,
   "metadata": {},
   "outputs": [
    {
     "name": "stdout",
     "output_type": "stream",
     "text": [
      "getting CC matrix\n",
      "processing\n"
     ]
    }
   ],
   "source": [
    "# then assign cov pror\n",
    "pyemu.helpers.first_order_pearson_tikhonov(pst, cov, reset=False, abs_drop_tol=0.01)"
   ]
  },
  {
   "cell_type": "code",
   "execution_count": 55,
   "metadata": {},
   "outputs": [
    {
     "data": {
      "text/html": [
       "<div>\n",
       "<style scoped>\n",
       "    .dataframe tbody tr th:only-of-type {\n",
       "        vertical-align: middle;\n",
       "    }\n",
       "\n",
       "    .dataframe tbody tr th {\n",
       "        vertical-align: top;\n",
       "    }\n",
       "\n",
       "    .dataframe thead th {\n",
       "        text-align: right;\n",
       "    }\n",
       "</style>\n",
       "<table border=\"1\" class=\"dataframe\">\n",
       "  <thead>\n",
       "    <tr style=\"text-align: right;\">\n",
       "      <th></th>\n",
       "      <th>pilbl</th>\n",
       "      <th>equation</th>\n",
       "      <th>obgnme</th>\n",
       "      <th>weight</th>\n",
       "    </tr>\n",
       "    <tr>\n",
       "      <th>pilbl</th>\n",
       "      <th></th>\n",
       "      <th></th>\n",
       "      <th></th>\n",
       "      <th></th>\n",
       "    </tr>\n",
       "  </thead>\n",
       "  <tbody>\n",
       "    <tr>\n",
       "      <th>pname:npf_k_layer1_gr_inst:0_ptype:gr_pstyle:m_i:0_j:0_x:125.00_y:9875.00_zone:1</th>\n",
       "      <td>pname:npf_k_layer1_gr_inst:0_ptype:gr_pstyle:m_i:0_j:0_x:125.00_y:9875.00_zone:1</td>\n",
       "      <td>1.0 * log(pname:npf_k_layer1_gr_inst:0_ptype:gr_pstyle:m_i:0_j:0_x:125.00_y:9875.00_zone:1) =   ...</td>\n",
       "      <td>regulnpf_k_l</td>\n",
       "      <td>0.715338</td>\n",
       "    </tr>\n",
       "    <tr>\n",
       "      <th>pname:npf_k_layer1_gr_inst:0_ptype:gr_pstyle:m_i:0_j:1_x:375.00_y:9875.00_zone:1</th>\n",
       "      <td>pname:npf_k_layer1_gr_inst:0_ptype:gr_pstyle:m_i:0_j:1_x:375.00_y:9875.00_zone:1</td>\n",
       "      <td>1.0 * log(pname:npf_k_layer1_gr_inst:0_ptype:gr_pstyle:m_i:0_j:1_x:375.00_y:9875.00_zone:1) =   ...</td>\n",
       "      <td>regulnpf_k_l</td>\n",
       "      <td>0.715338</td>\n",
       "    </tr>\n",
       "    <tr>\n",
       "      <th>pname:npf_k_layer1_gr_inst:0_ptype:gr_pstyle:m_i:0_j:2_x:625.00_y:9875.00_zone:1</th>\n",
       "      <td>pname:npf_k_layer1_gr_inst:0_ptype:gr_pstyle:m_i:0_j:2_x:625.00_y:9875.00_zone:1</td>\n",
       "      <td>1.0 * log(pname:npf_k_layer1_gr_inst:0_ptype:gr_pstyle:m_i:0_j:2_x:625.00_y:9875.00_zone:1) =   ...</td>\n",
       "      <td>regulnpf_k_l</td>\n",
       "      <td>0.715338</td>\n",
       "    </tr>\n",
       "    <tr>\n",
       "      <th>pname:npf_k_layer1_gr_inst:0_ptype:gr_pstyle:m_i:0_j:3_x:875.00_y:9875.00_zone:1</th>\n",
       "      <td>pname:npf_k_layer1_gr_inst:0_ptype:gr_pstyle:m_i:0_j:3_x:875.00_y:9875.00_zone:1</td>\n",
       "      <td>1.0 * log(pname:npf_k_layer1_gr_inst:0_ptype:gr_pstyle:m_i:0_j:3_x:875.00_y:9875.00_zone:1) =   ...</td>\n",
       "      <td>regulnpf_k_l</td>\n",
       "      <td>0.715338</td>\n",
       "    </tr>\n",
       "    <tr>\n",
       "      <th>pname:npf_k_layer1_gr_inst:0_ptype:gr_pstyle:m_i:0_j:4_x:1125.00_y:9875.00_zone:1</th>\n",
       "      <td>pname:npf_k_layer1_gr_inst:0_ptype:gr_pstyle:m_i:0_j:4_x:1125.00_y:9875.00_zone:1</td>\n",
       "      <td>1.0 * log(pname:npf_k_layer1_gr_inst:0_ptype:gr_pstyle:m_i:0_j:4_x:1125.00_y:9875.00_zone:1) =  ...</td>\n",
       "      <td>regulnpf_k_l</td>\n",
       "      <td>0.715338</td>\n",
       "    </tr>\n",
       "    <tr>\n",
       "      <th>...</th>\n",
       "      <td>...</td>\n",
       "      <td>...</td>\n",
       "      <td>...</td>\n",
       "      <td>...</td>\n",
       "    </tr>\n",
       "    <tr>\n",
       "      <th>pname:sfr_gr_inst:21_ptype:gr_usecol:2_pstyle:m_idx0:0</th>\n",
       "      <td>pname:sfr_gr_inst:21_ptype:gr_usecol:2_pstyle:m_idx0:0</td>\n",
       "      <td>1.0 * log(pname:sfr_gr_inst:21_ptype:gr_usecol:2_pstyle:m_idx0:0) =   2.346353E+00</td>\n",
       "      <td>regulsfr_gr</td>\n",
       "      <td>2.095903</td>\n",
       "    </tr>\n",
       "    <tr>\n",
       "      <th>pname:sfr_gr_inst:22_ptype:gr_usecol:2_pstyle:m_idx0:0</th>\n",
       "      <td>pname:sfr_gr_inst:22_ptype:gr_usecol:2_pstyle:m_idx0:0</td>\n",
       "      <td>1.0 * log(pname:sfr_gr_inst:22_ptype:gr_usecol:2_pstyle:m_idx0:0) =   2.346353E+00</td>\n",
       "      <td>regulsfr_gr</td>\n",
       "      <td>2.095903</td>\n",
       "    </tr>\n",
       "    <tr>\n",
       "      <th>pname:sfr_gr_inst:23_ptype:gr_usecol:2_pstyle:m_idx0:0</th>\n",
       "      <td>pname:sfr_gr_inst:23_ptype:gr_usecol:2_pstyle:m_idx0:0</td>\n",
       "      <td>1.0 * log(pname:sfr_gr_inst:23_ptype:gr_usecol:2_pstyle:m_idx0:0) =   2.346353E+00</td>\n",
       "      <td>regulsfr_gr</td>\n",
       "      <td>2.095903</td>\n",
       "    </tr>\n",
       "    <tr>\n",
       "      <th>pname:sfr_gr_inst:24_ptype:gr_usecol:2_pstyle:m_idx0:0</th>\n",
       "      <td>pname:sfr_gr_inst:24_ptype:gr_usecol:2_pstyle:m_idx0:0</td>\n",
       "      <td>1.0 * log(pname:sfr_gr_inst:24_ptype:gr_usecol:2_pstyle:m_idx0:0) =   2.346353E+00</td>\n",
       "      <td>regulsfr_gr</td>\n",
       "      <td>2.095903</td>\n",
       "    </tr>\n",
       "    <tr>\n",
       "      <th>special_par1</th>\n",
       "      <td>special_par1</td>\n",
       "      <td>1.0 * log(special_par1) =   0.000000E+00</td>\n",
       "      <td>regulpargp</td>\n",
       "      <td>0.050000</td>\n",
       "    </tr>\n",
       "  </tbody>\n",
       "</table>\n",
       "<p>25455 rows × 4 columns</p>\n",
       "</div>"
      ],
      "text/plain": [
       "                                                                                                                                                               pilbl  \\\n",
       "pilbl                                                                                                                                                                  \n",
       "pname:npf_k_layer1_gr_inst:0_ptype:gr_pstyle:m_i:0_j:0_x:125.00_y:9875.00_zone:1    pname:npf_k_layer1_gr_inst:0_ptype:gr_pstyle:m_i:0_j:0_x:125.00_y:9875.00_zone:1   \n",
       "pname:npf_k_layer1_gr_inst:0_ptype:gr_pstyle:m_i:0_j:1_x:375.00_y:9875.00_zone:1    pname:npf_k_layer1_gr_inst:0_ptype:gr_pstyle:m_i:0_j:1_x:375.00_y:9875.00_zone:1   \n",
       "pname:npf_k_layer1_gr_inst:0_ptype:gr_pstyle:m_i:0_j:2_x:625.00_y:9875.00_zone:1    pname:npf_k_layer1_gr_inst:0_ptype:gr_pstyle:m_i:0_j:2_x:625.00_y:9875.00_zone:1   \n",
       "pname:npf_k_layer1_gr_inst:0_ptype:gr_pstyle:m_i:0_j:3_x:875.00_y:9875.00_zone:1    pname:npf_k_layer1_gr_inst:0_ptype:gr_pstyle:m_i:0_j:3_x:875.00_y:9875.00_zone:1   \n",
       "pname:npf_k_layer1_gr_inst:0_ptype:gr_pstyle:m_i:0_j:4_x:1125.00_y:9875.00_zone:1  pname:npf_k_layer1_gr_inst:0_ptype:gr_pstyle:m_i:0_j:4_x:1125.00_y:9875.00_zone:1   \n",
       "...                                                                                                                                                              ...   \n",
       "pname:sfr_gr_inst:21_ptype:gr_usecol:2_pstyle:m_idx0:0                                                        pname:sfr_gr_inst:21_ptype:gr_usecol:2_pstyle:m_idx0:0   \n",
       "pname:sfr_gr_inst:22_ptype:gr_usecol:2_pstyle:m_idx0:0                                                        pname:sfr_gr_inst:22_ptype:gr_usecol:2_pstyle:m_idx0:0   \n",
       "pname:sfr_gr_inst:23_ptype:gr_usecol:2_pstyle:m_idx0:0                                                        pname:sfr_gr_inst:23_ptype:gr_usecol:2_pstyle:m_idx0:0   \n",
       "pname:sfr_gr_inst:24_ptype:gr_usecol:2_pstyle:m_idx0:0                                                        pname:sfr_gr_inst:24_ptype:gr_usecol:2_pstyle:m_idx0:0   \n",
       "special_par1                                                                                                                                            special_par1   \n",
       "\n",
       "                                                                                                                                                                              equation  \\\n",
       "pilbl                                                                                                                                                                                    \n",
       "pname:npf_k_layer1_gr_inst:0_ptype:gr_pstyle:m_i:0_j:0_x:125.00_y:9875.00_zone:1   1.0 * log(pname:npf_k_layer1_gr_inst:0_ptype:gr_pstyle:m_i:0_j:0_x:125.00_y:9875.00_zone:1) =   ...   \n",
       "pname:npf_k_layer1_gr_inst:0_ptype:gr_pstyle:m_i:0_j:1_x:375.00_y:9875.00_zone:1   1.0 * log(pname:npf_k_layer1_gr_inst:0_ptype:gr_pstyle:m_i:0_j:1_x:375.00_y:9875.00_zone:1) =   ...   \n",
       "pname:npf_k_layer1_gr_inst:0_ptype:gr_pstyle:m_i:0_j:2_x:625.00_y:9875.00_zone:1   1.0 * log(pname:npf_k_layer1_gr_inst:0_ptype:gr_pstyle:m_i:0_j:2_x:625.00_y:9875.00_zone:1) =   ...   \n",
       "pname:npf_k_layer1_gr_inst:0_ptype:gr_pstyle:m_i:0_j:3_x:875.00_y:9875.00_zone:1   1.0 * log(pname:npf_k_layer1_gr_inst:0_ptype:gr_pstyle:m_i:0_j:3_x:875.00_y:9875.00_zone:1) =   ...   \n",
       "pname:npf_k_layer1_gr_inst:0_ptype:gr_pstyle:m_i:0_j:4_x:1125.00_y:9875.00_zone:1  1.0 * log(pname:npf_k_layer1_gr_inst:0_ptype:gr_pstyle:m_i:0_j:4_x:1125.00_y:9875.00_zone:1) =  ...   \n",
       "...                                                                                                                                                                                ...   \n",
       "pname:sfr_gr_inst:21_ptype:gr_usecol:2_pstyle:m_idx0:0                                              1.0 * log(pname:sfr_gr_inst:21_ptype:gr_usecol:2_pstyle:m_idx0:0) =   2.346353E+00   \n",
       "pname:sfr_gr_inst:22_ptype:gr_usecol:2_pstyle:m_idx0:0                                              1.0 * log(pname:sfr_gr_inst:22_ptype:gr_usecol:2_pstyle:m_idx0:0) =   2.346353E+00   \n",
       "pname:sfr_gr_inst:23_ptype:gr_usecol:2_pstyle:m_idx0:0                                              1.0 * log(pname:sfr_gr_inst:23_ptype:gr_usecol:2_pstyle:m_idx0:0) =   2.346353E+00   \n",
       "pname:sfr_gr_inst:24_ptype:gr_usecol:2_pstyle:m_idx0:0                                              1.0 * log(pname:sfr_gr_inst:24_ptype:gr_usecol:2_pstyle:m_idx0:0) =   2.346353E+00   \n",
       "special_par1                                                                                                                                  1.0 * log(special_par1) =   0.000000E+00   \n",
       "\n",
       "                                                                                         obgnme  \\\n",
       "pilbl                                                                                             \n",
       "pname:npf_k_layer1_gr_inst:0_ptype:gr_pstyle:m_i:0_j:0_x:125.00_y:9875.00_zone:1   regulnpf_k_l   \n",
       "pname:npf_k_layer1_gr_inst:0_ptype:gr_pstyle:m_i:0_j:1_x:375.00_y:9875.00_zone:1   regulnpf_k_l   \n",
       "pname:npf_k_layer1_gr_inst:0_ptype:gr_pstyle:m_i:0_j:2_x:625.00_y:9875.00_zone:1   regulnpf_k_l   \n",
       "pname:npf_k_layer1_gr_inst:0_ptype:gr_pstyle:m_i:0_j:3_x:875.00_y:9875.00_zone:1   regulnpf_k_l   \n",
       "pname:npf_k_layer1_gr_inst:0_ptype:gr_pstyle:m_i:0_j:4_x:1125.00_y:9875.00_zone:1  regulnpf_k_l   \n",
       "...                                                                                         ...   \n",
       "pname:sfr_gr_inst:21_ptype:gr_usecol:2_pstyle:m_idx0:0                              regulsfr_gr   \n",
       "pname:sfr_gr_inst:22_ptype:gr_usecol:2_pstyle:m_idx0:0                              regulsfr_gr   \n",
       "pname:sfr_gr_inst:23_ptype:gr_usecol:2_pstyle:m_idx0:0                              regulsfr_gr   \n",
       "pname:sfr_gr_inst:24_ptype:gr_usecol:2_pstyle:m_idx0:0                              regulsfr_gr   \n",
       "special_par1                                                                         regulpargp   \n",
       "\n",
       "                                                                                     weight  \n",
       "pilbl                                                                                        \n",
       "pname:npf_k_layer1_gr_inst:0_ptype:gr_pstyle:m_i:0_j:0_x:125.00_y:9875.00_zone:1   0.715338  \n",
       "pname:npf_k_layer1_gr_inst:0_ptype:gr_pstyle:m_i:0_j:1_x:375.00_y:9875.00_zone:1   0.715338  \n",
       "pname:npf_k_layer1_gr_inst:0_ptype:gr_pstyle:m_i:0_j:2_x:625.00_y:9875.00_zone:1   0.715338  \n",
       "pname:npf_k_layer1_gr_inst:0_ptype:gr_pstyle:m_i:0_j:3_x:875.00_y:9875.00_zone:1   0.715338  \n",
       "pname:npf_k_layer1_gr_inst:0_ptype:gr_pstyle:m_i:0_j:4_x:1125.00_y:9875.00_zone:1  0.715338  \n",
       "...                                                                                     ...  \n",
       "pname:sfr_gr_inst:21_ptype:gr_usecol:2_pstyle:m_idx0:0                             2.095903  \n",
       "pname:sfr_gr_inst:22_ptype:gr_usecol:2_pstyle:m_idx0:0                             2.095903  \n",
       "pname:sfr_gr_inst:23_ptype:gr_usecol:2_pstyle:m_idx0:0                             2.095903  \n",
       "pname:sfr_gr_inst:24_ptype:gr_usecol:2_pstyle:m_idx0:0                             2.095903  \n",
       "special_par1                                                                       0.050000  \n",
       "\n",
       "[25455 rows x 4 columns]"
      ]
     },
     "execution_count": 55,
     "metadata": {},
     "output_type": "execute_result"
    }
   ],
   "source": [
    "# note the additional number of prior information equations\n",
    "pst.prior_information"
   ]
  },
  {
   "cell_type": "markdown",
   "metadata": {},
   "source": [
    "### 5.3. Custom Prior Information Equations\n",
    "\n",
    "`Pst.add_pi_equation()` is a helper to construct prior information equations. We demonstrate below using the \"special_par_\"s we added earlier."
   ]
  },
  {
   "cell_type": "code",
   "execution_count": 65,
   "metadata": {},
   "outputs": [
    {
     "data": {
      "text/html": [
       "<div>\n",
       "<style scoped>\n",
       "    .dataframe tbody tr th:only-of-type {\n",
       "        vertical-align: middle;\n",
       "    }\n",
       "\n",
       "    .dataframe tbody tr th {\n",
       "        vertical-align: top;\n",
       "    }\n",
       "\n",
       "    .dataframe thead th {\n",
       "        text-align: right;\n",
       "    }\n",
       "</style>\n",
       "<table border=\"1\" class=\"dataframe\">\n",
       "  <thead>\n",
       "    <tr style=\"text-align: right;\">\n",
       "      <th></th>\n",
       "      <th>parnme</th>\n",
       "      <th>partrans</th>\n",
       "      <th>parchglim</th>\n",
       "      <th>parval1</th>\n",
       "      <th>parlbnd</th>\n",
       "      <th>parubnd</th>\n",
       "      <th>pargp</th>\n",
       "      <th>scale</th>\n",
       "      <th>offset</th>\n",
       "      <th>dercom</th>\n",
       "      <th>...</th>\n",
       "      <th>pstyle</th>\n",
       "      <th>i</th>\n",
       "      <th>j</th>\n",
       "      <th>x</th>\n",
       "      <th>y</th>\n",
       "      <th>zone</th>\n",
       "      <th>usecol</th>\n",
       "      <th>idx0</th>\n",
       "      <th>idx1</th>\n",
       "      <th>idx2</th>\n",
       "    </tr>\n",
       "    <tr>\n",
       "      <th>parnme</th>\n",
       "      <th></th>\n",
       "      <th></th>\n",
       "      <th></th>\n",
       "      <th></th>\n",
       "      <th></th>\n",
       "      <th></th>\n",
       "      <th></th>\n",
       "      <th></th>\n",
       "      <th></th>\n",
       "      <th></th>\n",
       "      <th></th>\n",
       "      <th></th>\n",
       "      <th></th>\n",
       "      <th></th>\n",
       "      <th></th>\n",
       "      <th></th>\n",
       "      <th></th>\n",
       "      <th></th>\n",
       "      <th></th>\n",
       "      <th></th>\n",
       "      <th></th>\n",
       "    </tr>\n",
       "  </thead>\n",
       "  <tbody>\n",
       "    <tr>\n",
       "      <th>special_par1</th>\n",
       "      <td>special_par1</td>\n",
       "      <td>log</td>\n",
       "      <td>factor</td>\n",
       "      <td>1.0</td>\n",
       "      <td>1.100000e-10</td>\n",
       "      <td>1.100000e+10</td>\n",
       "      <td>pargp</td>\n",
       "      <td>1.0</td>\n",
       "      <td>0.0</td>\n",
       "      <td>1</td>\n",
       "      <td>...</td>\n",
       "      <td>NaN</td>\n",
       "      <td>NaN</td>\n",
       "      <td>NaN</td>\n",
       "      <td>NaN</td>\n",
       "      <td>NaN</td>\n",
       "      <td>NaN</td>\n",
       "      <td>NaN</td>\n",
       "      <td>NaN</td>\n",
       "      <td>NaN</td>\n",
       "      <td>NaN</td>\n",
       "    </tr>\n",
       "    <tr>\n",
       "      <th>special_par2</th>\n",
       "      <td>special_par2</td>\n",
       "      <td>log</td>\n",
       "      <td>factor</td>\n",
       "      <td>1.0</td>\n",
       "      <td>1.100000e-10</td>\n",
       "      <td>1.100000e+10</td>\n",
       "      <td>pargp</td>\n",
       "      <td>1.0</td>\n",
       "      <td>0.0</td>\n",
       "      <td>1</td>\n",
       "      <td>...</td>\n",
       "      <td>NaN</td>\n",
       "      <td>NaN</td>\n",
       "      <td>NaN</td>\n",
       "      <td>NaN</td>\n",
       "      <td>NaN</td>\n",
       "      <td>NaN</td>\n",
       "      <td>NaN</td>\n",
       "      <td>NaN</td>\n",
       "      <td>NaN</td>\n",
       "      <td>NaN</td>\n",
       "    </tr>\n",
       "  </tbody>\n",
       "</table>\n",
       "<p>2 rows × 25 columns</p>\n",
       "</div>"
      ],
      "text/plain": [
       "                    parnme partrans parchglim  parval1       parlbnd  \\\n",
       "parnme                                                                 \n",
       "special_par1  special_par1      log    factor      1.0  1.100000e-10   \n",
       "special_par2  special_par2      log    factor      1.0  1.100000e-10   \n",
       "\n",
       "                   parubnd  pargp  scale  offset dercom  ...  pstyle    i  \\\n",
       "parnme                                                   ...                \n",
       "special_par1  1.100000e+10  pargp    1.0     0.0      1  ...     NaN  NaN   \n",
       "special_par2  1.100000e+10  pargp    1.0     0.0      1  ...     NaN  NaN   \n",
       "\n",
       "                j    x    y zone usecol idx0 idx1 idx2  \n",
       "parnme                                                  \n",
       "special_par1  NaN  NaN  NaN  NaN    NaN  NaN  NaN  NaN  \n",
       "special_par2  NaN  NaN  NaN  NaN    NaN  NaN  NaN  NaN  \n",
       "\n",
       "[2 rows x 25 columns]"
      ]
     },
     "execution_count": 65,
     "metadata": {},
     "output_type": "execute_result"
    }
   ],
   "source": [
    "# reminder\n",
    "# let's just un-tie special_par2, otherwise we can't assign a prior info euqation using it\n",
    "par.loc[par['pargp']=='pargp', 'partrans'] = 'log'\n",
    "\n",
    "par.loc[par['pargp']=='pargp']"
   ]
  },
  {
   "cell_type": "code",
   "execution_count": 74,
   "metadata": {},
   "outputs": [
    {
     "data": {
      "text/html": [
       "<div>\n",
       "<style scoped>\n",
       "    .dataframe tbody tr th:only-of-type {\n",
       "        vertical-align: middle;\n",
       "    }\n",
       "\n",
       "    .dataframe tbody tr th {\n",
       "        vertical-align: top;\n",
       "    }\n",
       "\n",
       "    .dataframe thead th {\n",
       "        text-align: right;\n",
       "    }\n",
       "</style>\n",
       "<table border=\"1\" class=\"dataframe\">\n",
       "  <thead>\n",
       "    <tr style=\"text-align: right;\">\n",
       "      <th></th>\n",
       "      <th>pilbl</th>\n",
       "      <th>equation</th>\n",
       "      <th>obgnme</th>\n",
       "      <th>weight</th>\n",
       "    </tr>\n",
       "    <tr>\n",
       "      <th>pilbl</th>\n",
       "      <th></th>\n",
       "      <th></th>\n",
       "      <th></th>\n",
       "      <th></th>\n",
       "    </tr>\n",
       "  </thead>\n",
       "  <tbody>\n",
       "    <tr>\n",
       "      <th>new_pi_eq</th>\n",
       "      <td>new_pi_eq</td>\n",
       "      <td>1.0 * log(special_par1)  + 0.5 * log(special_par2)  = 0.0</td>\n",
       "      <td>regul_special</td>\n",
       "      <td>1.0</td>\n",
       "    </tr>\n",
       "  </tbody>\n",
       "</table>\n",
       "</div>"
      ],
      "text/plain": [
       "               pilbl  \\\n",
       "pilbl                  \n",
       "new_pi_eq  new_pi_eq   \n",
       "\n",
       "                                                              equation  \\\n",
       "pilbl                                                                    \n",
       "new_pi_eq    1.0 * log(special_par1)  + 0.5 * log(special_par2)  = 0.0   \n",
       "\n",
       "                  obgnme  weight  \n",
       "pilbl                             \n",
       "new_pi_eq  regul_special     1.0  "
      ]
     },
     "execution_count": 74,
     "metadata": {},
     "output_type": "execute_result"
    }
   ],
   "source": [
    "pst.add_pi_equation(\n",
    "                    par_names=['special_par1', 'special_par2'],\n",
    "                    pilbl='new_pi_eq',\n",
    "                    rhs=0.0, # the value on the right hand side of the equation; make sure that this value is logical and check if it conflicts with existing prior information equations\n",
    "                    weight=1.0, # the weight assigned to the prior information equation\n",
    "                    obs_group='regul_special', # name to assign to the prior information \"observationg group\"\n",
    "                    coef_dict = {'special_par1':1.0, 'special_par2':0.5} # dictionary of parameter coeficients; try specifying different values, note how the equation changes\n",
    "                    )\n",
    "\n",
    "# leet's take a look; just print the last row (e.g. the latest prior info equation)\n",
    "pst.prior_information.iloc[-1:]\n"
   ]
  },
  {
   "cell_type": "markdown",
   "metadata": {},
   "source": [
    "### 4. Ensembles\n",
    "\n"
   ]
  }
 ],
 "metadata": {
  "interpreter": {
   "hash": "d91d695e32284e5f4db43d0a55a7ffe722d99eb6050b5b06eff0d966e4449445"
  },
  "kernelspec": {
   "display_name": "Python 3.9.10 ('gmdsitut')",
   "language": "python",
   "name": "python3"
  },
  "language_info": {
   "codemirror_mode": {
    "name": "ipython",
    "version": 3
   },
   "file_extension": ".py",
   "mimetype": "text/x-python",
   "name": "python",
   "nbconvert_exporter": "python",
   "pygments_lexer": "ipython3",
   "version": "3.9.10"
  },
  "orig_nbformat": 4
 },
 "nbformat": 4,
 "nbformat_minor": 2
}
