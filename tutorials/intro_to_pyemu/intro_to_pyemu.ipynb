{
 "cells": [
  {
   "cell_type": "markdown",
   "metadata": {},
   "source": [
    "# Intro to pyEMU\n",
    "\n",
    "This notebook provides a quick run through some of the capabilities of `pyemu` for working with PEST(++). This run through is very \"high level\". We will not go into detail, merely show some of the core functionality as a primer for subsequent tutorials. We assume the reader has at least some understanding of PEST(++), common file structures and workflows.\n",
    "\n",
    "The notebook will make use of an existing PEST(++) interface. You do not need to be familiar with the details of the setup for the purposes of the current tutorial. \n",
    "\n",
    "In the current tutorial notebook, we will:\n",
    " - introduce how to access and edit an existing PEST control file and setup using the `Pst` class.\n",
    " - explore some of the built-in methods for customing PEST setups and post-processing outcomes.\n",
    " - introduce geostats in `pyemu`.\n",
    " - introduce methods for handling matricies with the `Matrix` class, as special instances with the `Cov` and `Jco` classes.\n",
    " - introduce classes that facilitate generating and handling parameter and obsveration Ensembles.\n",
    "\n",
    "Here we **do not** demonstrate how to setup a PEST interface from scratch. See the \"freyberg_pstfrom_pest_setup\" tutorial for a demonstration on how to use the `PstFrom` class to do so.\n",
    "\n",
    "### 1. Admin"
   ]
  },
  {
   "cell_type": "code",
   "execution_count": 1,
   "metadata": {
    "execution": {
     "iopub.execute_input": "2022-04-08T06:26:41.736676Z",
     "iopub.status.busy": "2022-04-08T06:26:41.735680Z",
     "iopub.status.idle": "2022-04-08T06:26:58.227322Z",
     "shell.execute_reply": "2022-04-08T06:26:58.229316Z"
    }
   },
   "outputs": [],
   "source": [
    "import os\n",
    "import shutil\n",
    "import pyemu\n",
    "import warnings\n",
    "warnings.filterwarnings(\"ignore\")\n",
    "warnings.filterwarnings(\"ignore\", category=DeprecationWarning) \n",
    "import matplotlib.pyplot as plt\n",
    "import numpy as np"
   ]
  },
  {
   "cell_type": "markdown",
   "metadata": {},
   "source": [
    "In the tutorial directory there is a folder named `handling_files`. This folder contains the PEST(++) dataset which we will access. Feel free to explore it if you wish. \n",
    "\n",
    "Amongst other things, it includes:\n",
    "\n",
    " - PEST(++) control file: `freyberg_pp.pst` \n",
    " - A Jacobian matrix produced by PEST: `freyberg_pp.jcb` \n",
    " - Parameters assigned using pilot points. These are recorded in the pilot point file: `hkpp.dat.tpl`"
   ]
  },
  {
   "cell_type": "code",
   "execution_count": 2,
   "metadata": {
    "execution": {
     "iopub.execute_input": "2022-04-08T06:26:58.238293Z",
     "iopub.status.busy": "2022-04-08T06:26:58.236299Z",
     "iopub.status.idle": "2022-04-08T06:26:58.240288Z",
     "shell.execute_reply": "2022-04-08T06:26:58.241285Z"
    }
   },
   "outputs": [],
   "source": [
    "# the pest folder\n",
    "f_d = os.path.join('handling_files')"
   ]
  },
  {
   "cell_type": "markdown",
   "metadata": {},
   "source": [
    "### 2. The `Pst` class\n",
    "\n",
    "`pyEMU` encapsulates the PEST control file in the `Pst` class. Let's read the `freyberg_pp.pst` control file in the `f_d` folder."
   ]
  },
  {
   "cell_type": "code",
   "execution_count": 3,
   "metadata": {
    "execution": {
     "iopub.execute_input": "2022-04-08T06:26:58.254266Z",
     "iopub.status.busy": "2022-04-08T06:26:58.252256Z",
     "iopub.status.idle": "2022-04-08T06:26:58.480644Z",
     "shell.execute_reply": "2022-04-08T06:26:58.481643Z"
    }
   },
   "outputs": [],
   "source": [
    "pst = pyemu.Pst(os.path.join(f_d,\"freyberg_pp.pst\"))"
   ]
  },
  {
   "cell_type": "markdown",
   "metadata": {},
   "source": [
    "From the `pst` instance, we can access all the \"*\" sections of the control file. Each of these is stored as an attribute.  PEST variable names are used for consistency. \n",
    "\n",
    "For example, the \"* *parameter data*\" section can be accessed by calling `pst.parameter_data`. This returns the parameter data as a `Pandas` DataFrame, making it easy to access and edit. "
   ]
  },
  {
   "cell_type": "code",
   "execution_count": 4,
   "metadata": {
    "execution": {
     "iopub.execute_input": "2022-04-08T06:26:58.495605Z",
     "iopub.status.busy": "2022-04-08T06:26:58.493611Z",
     "iopub.status.idle": "2022-04-08T06:26:58.545472Z",
     "shell.execute_reply": "2022-04-08T06:26:58.547466Z"
    }
   },
   "outputs": [
    {
     "data": {
      "text/html": [
       "<div>\n",
       "<style scoped>\n",
       "    .dataframe tbody tr th:only-of-type {\n",
       "        vertical-align: middle;\n",
       "    }\n",
       "\n",
       "    .dataframe tbody tr th {\n",
       "        vertical-align: top;\n",
       "    }\n",
       "\n",
       "    .dataframe thead th {\n",
       "        text-align: right;\n",
       "    }\n",
       "</style>\n",
       "<table border=\"1\" class=\"dataframe\">\n",
       "  <thead>\n",
       "    <tr style=\"text-align: right;\">\n",
       "      <th></th>\n",
       "      <th>parnme</th>\n",
       "      <th>partrans</th>\n",
       "      <th>parchglim</th>\n",
       "      <th>parval1</th>\n",
       "      <th>parlbnd</th>\n",
       "      <th>parubnd</th>\n",
       "      <th>pargp</th>\n",
       "      <th>scale</th>\n",
       "      <th>offset</th>\n",
       "      <th>dercom</th>\n",
       "      <th>extra</th>\n",
       "    </tr>\n",
       "    <tr>\n",
       "      <th>parnme</th>\n",
       "      <th></th>\n",
       "      <th></th>\n",
       "      <th></th>\n",
       "      <th></th>\n",
       "      <th></th>\n",
       "      <th></th>\n",
       "      <th></th>\n",
       "      <th></th>\n",
       "      <th></th>\n",
       "      <th></th>\n",
       "      <th></th>\n",
       "    </tr>\n",
       "  </thead>\n",
       "  <tbody>\n",
       "    <tr>\n",
       "      <th>hk00</th>\n",
       "      <td>hk00</td>\n",
       "      <td>log</td>\n",
       "      <td>factor</td>\n",
       "      <td>5.0</td>\n",
       "      <td>0.5</td>\n",
       "      <td>50.0</td>\n",
       "      <td>hk</td>\n",
       "      <td>1.0</td>\n",
       "      <td>0.0</td>\n",
       "      <td>1</td>\n",
       "      <td>NaN</td>\n",
       "    </tr>\n",
       "    <tr>\n",
       "      <th>hk01</th>\n",
       "      <td>hk01</td>\n",
       "      <td>log</td>\n",
       "      <td>factor</td>\n",
       "      <td>5.0</td>\n",
       "      <td>0.5</td>\n",
       "      <td>50.0</td>\n",
       "      <td>hk</td>\n",
       "      <td>1.0</td>\n",
       "      <td>0.0</td>\n",
       "      <td>1</td>\n",
       "      <td>NaN</td>\n",
       "    </tr>\n",
       "    <tr>\n",
       "      <th>hk02</th>\n",
       "      <td>hk02</td>\n",
       "      <td>log</td>\n",
       "      <td>factor</td>\n",
       "      <td>5.0</td>\n",
       "      <td>0.5</td>\n",
       "      <td>50.0</td>\n",
       "      <td>hk</td>\n",
       "      <td>1.0</td>\n",
       "      <td>0.0</td>\n",
       "      <td>1</td>\n",
       "      <td>NaN</td>\n",
       "    </tr>\n",
       "    <tr>\n",
       "      <th>hk03</th>\n",
       "      <td>hk03</td>\n",
       "      <td>log</td>\n",
       "      <td>factor</td>\n",
       "      <td>5.0</td>\n",
       "      <td>0.5</td>\n",
       "      <td>50.0</td>\n",
       "      <td>hk</td>\n",
       "      <td>1.0</td>\n",
       "      <td>0.0</td>\n",
       "      <td>1</td>\n",
       "      <td>NaN</td>\n",
       "    </tr>\n",
       "    <tr>\n",
       "      <th>hk04</th>\n",
       "      <td>hk04</td>\n",
       "      <td>log</td>\n",
       "      <td>factor</td>\n",
       "      <td>5.0</td>\n",
       "      <td>0.5</td>\n",
       "      <td>50.0</td>\n",
       "      <td>hk</td>\n",
       "      <td>1.0</td>\n",
       "      <td>0.0</td>\n",
       "      <td>1</td>\n",
       "      <td>NaN</td>\n",
       "    </tr>\n",
       "  </tbody>\n",
       "</table>\n",
       "</div>"
      ],
      "text/plain": [
       "       parnme partrans parchglim  parval1  parlbnd  parubnd pargp  scale  \\\n",
       "parnme                                                                     \n",
       "hk00     hk00      log    factor      5.0      0.5     50.0    hk    1.0   \n",
       "hk01     hk01      log    factor      5.0      0.5     50.0    hk    1.0   \n",
       "hk02     hk02      log    factor      5.0      0.5     50.0    hk    1.0   \n",
       "hk03     hk03      log    factor      5.0      0.5     50.0    hk    1.0   \n",
       "hk04     hk04      log    factor      5.0      0.5     50.0    hk    1.0   \n",
       "\n",
       "        offset dercom  extra  \n",
       "parnme                        \n",
       "hk00       0.0      1    NaN  \n",
       "hk01       0.0      1    NaN  \n",
       "hk02       0.0      1    NaN  \n",
       "hk03       0.0      1    NaN  \n",
       "hk04       0.0      1    NaN  "
      ]
     },
     "execution_count": 4,
     "metadata": {},
     "output_type": "execute_result"
    }
   ],
   "source": [
    "pst.parameter_data.head()"
   ]
  },
  {
   "cell_type": "markdown",
   "metadata": {},
   "source": [
    "The same for \"* *observation data*\":"
   ]
  },
  {
   "cell_type": "code",
   "execution_count": 5,
   "metadata": {
    "execution": {
     "iopub.execute_input": "2022-04-08T06:26:58.561429Z",
     "iopub.status.busy": "2022-04-08T06:26:58.560431Z",
     "iopub.status.idle": "2022-04-08T06:26:58.585366Z",
     "shell.execute_reply": "2022-04-08T06:26:58.586362Z"
    }
   },
   "outputs": [
    {
     "data": {
      "text/html": [
       "<div>\n",
       "<style scoped>\n",
       "    .dataframe tbody tr th:only-of-type {\n",
       "        vertical-align: middle;\n",
       "    }\n",
       "\n",
       "    .dataframe tbody tr th {\n",
       "        vertical-align: top;\n",
       "    }\n",
       "\n",
       "    .dataframe thead th {\n",
       "        text-align: right;\n",
       "    }\n",
       "</style>\n",
       "<table border=\"1\" class=\"dataframe\">\n",
       "  <thead>\n",
       "    <tr style=\"text-align: right;\">\n",
       "      <th></th>\n",
       "      <th>obsnme</th>\n",
       "      <th>obsval</th>\n",
       "      <th>weight</th>\n",
       "      <th>obgnme</th>\n",
       "      <th>extra</th>\n",
       "    </tr>\n",
       "    <tr>\n",
       "      <th>obsnme</th>\n",
       "      <th></th>\n",
       "      <th></th>\n",
       "      <th></th>\n",
       "      <th></th>\n",
       "      <th></th>\n",
       "    </tr>\n",
       "  </thead>\n",
       "  <tbody>\n",
       "    <tr>\n",
       "      <th>c001cr03c10_19700102</th>\n",
       "      <td>c001cr03c10_19700102</td>\n",
       "      <td>26.661526</td>\n",
       "      <td>5.0</td>\n",
       "      <td>calhead</td>\n",
       "      <td>NaN</td>\n",
       "    </tr>\n",
       "    <tr>\n",
       "      <th>c001cr03c16_19700102</th>\n",
       "      <td>c001cr03c16_19700102</td>\n",
       "      <td>23.460564</td>\n",
       "      <td>5.0</td>\n",
       "      <td>calhead</td>\n",
       "      <td>NaN</td>\n",
       "    </tr>\n",
       "    <tr>\n",
       "      <th>c001cr04c09_19700102</th>\n",
       "      <td>c001cr04c09_19700102</td>\n",
       "      <td>28.513522</td>\n",
       "      <td>5.0</td>\n",
       "      <td>calhead</td>\n",
       "      <td>NaN</td>\n",
       "    </tr>\n",
       "    <tr>\n",
       "      <th>c001cr10c02_19700102</th>\n",
       "      <td>c001cr10c02_19700102</td>\n",
       "      <td>30.741689</td>\n",
       "      <td>5.0</td>\n",
       "      <td>calhead</td>\n",
       "      <td>NaN</td>\n",
       "    </tr>\n",
       "    <tr>\n",
       "      <th>c001cr14c11_19700102</th>\n",
       "      <td>c001cr14c11_19700102</td>\n",
       "      <td>25.871208</td>\n",
       "      <td>5.0</td>\n",
       "      <td>calhead</td>\n",
       "      <td>NaN</td>\n",
       "    </tr>\n",
       "  </tbody>\n",
       "</table>\n",
       "</div>"
      ],
      "text/plain": [
       "                                    obsnme     obsval  weight   obgnme  extra\n",
       "obsnme                                                                       \n",
       "c001cr03c10_19700102  c001cr03c10_19700102  26.661526     5.0  calhead    NaN\n",
       "c001cr03c16_19700102  c001cr03c16_19700102  23.460564     5.0  calhead    NaN\n",
       "c001cr04c09_19700102  c001cr04c09_19700102  28.513522     5.0  calhead    NaN\n",
       "c001cr10c02_19700102  c001cr10c02_19700102  30.741689     5.0  calhead    NaN\n",
       "c001cr14c11_19700102  c001cr14c11_19700102  25.871208     5.0  calhead    NaN"
      ]
     },
     "execution_count": 5,
     "metadata": {},
     "output_type": "execute_result"
    }
   ],
   "source": [
    "pst.observation_data.head()"
   ]
  },
  {
   "cell_type": "markdown",
   "metadata": {},
   "source": [
    "You can access, slice and edit `parameter_data` or `observation_data` just as you would a DataFrame. You can add columns, these will not be writen to the control file. `pyemu` is clever like that."
   ]
  },
  {
   "cell_type": "code",
   "execution_count": 6,
   "metadata": {
    "execution": {
     "iopub.execute_input": "2022-04-08T06:26:58.597332Z",
     "iopub.status.busy": "2022-04-08T06:26:58.596335Z",
     "iopub.status.idle": "2022-04-08T06:26:58.601322Z",
     "shell.execute_reply": "2022-04-08T06:26:58.602319Z"
    }
   },
   "outputs": [
    {
     "data": {
      "text/plain": [
       "Index(['parnme', 'partrans', 'parchglim', 'parval1', 'parlbnd', 'parubnd',\n",
       "       'pargp', 'scale', 'offset', 'dercom', 'extra'],\n",
       "      dtype='object')"
      ]
     },
     "execution_count": 6,
     "metadata": {},
     "output_type": "execute_result"
    }
   ],
   "source": [
    "pst.parameter_data.columns"
   ]
  },
  {
   "cell_type": "markdown",
   "metadata": {},
   "source": [
    "It's best not to mess around with parameter names (`parnme`). If you do, you will need to make sure that the corresponding names appear in a `.tpl` file. (The same applies for observation names and `.ins` files.) \n",
    "\n",
    "You can edit values like so:\n"
   ]
  },
  {
   "cell_type": "code",
   "execution_count": 7,
   "metadata": {
    "execution": {
     "iopub.execute_input": "2022-04-08T06:26:58.615285Z",
     "iopub.status.busy": "2022-04-08T06:26:58.608303Z",
     "iopub.status.idle": "2022-04-08T06:26:58.645205Z",
     "shell.execute_reply": "2022-04-08T06:26:58.646202Z"
    }
   },
   "outputs": [
    {
     "data": {
      "text/html": [
       "<div>\n",
       "<style scoped>\n",
       "    .dataframe tbody tr th:only-of-type {\n",
       "        vertical-align: middle;\n",
       "    }\n",
       "\n",
       "    .dataframe tbody tr th {\n",
       "        vertical-align: top;\n",
       "    }\n",
       "\n",
       "    .dataframe thead th {\n",
       "        text-align: right;\n",
       "    }\n",
       "</style>\n",
       "<table border=\"1\" class=\"dataframe\">\n",
       "  <thead>\n",
       "    <tr style=\"text-align: right;\">\n",
       "      <th></th>\n",
       "      <th>parnme</th>\n",
       "      <th>partrans</th>\n",
       "      <th>parchglim</th>\n",
       "      <th>parval1</th>\n",
       "      <th>parlbnd</th>\n",
       "      <th>parubnd</th>\n",
       "      <th>pargp</th>\n",
       "      <th>scale</th>\n",
       "      <th>offset</th>\n",
       "      <th>dercom</th>\n",
       "      <th>extra</th>\n",
       "    </tr>\n",
       "    <tr>\n",
       "      <th>parnme</th>\n",
       "      <th></th>\n",
       "      <th></th>\n",
       "      <th></th>\n",
       "      <th></th>\n",
       "      <th></th>\n",
       "      <th></th>\n",
       "      <th></th>\n",
       "      <th></th>\n",
       "      <th></th>\n",
       "      <th></th>\n",
       "      <th></th>\n",
       "    </tr>\n",
       "  </thead>\n",
       "  <tbody>\n",
       "    <tr>\n",
       "      <th>hk00</th>\n",
       "      <td>hk00</td>\n",
       "      <td>log</td>\n",
       "      <td>factor</td>\n",
       "      <td>1.1</td>\n",
       "      <td>0.5</td>\n",
       "      <td>50.0</td>\n",
       "      <td>hk</td>\n",
       "      <td>1.0</td>\n",
       "      <td>0.0</td>\n",
       "      <td>1</td>\n",
       "      <td>NaN</td>\n",
       "    </tr>\n",
       "    <tr>\n",
       "      <th>hk01</th>\n",
       "      <td>hk01</td>\n",
       "      <td>log</td>\n",
       "      <td>factor</td>\n",
       "      <td>1.1</td>\n",
       "      <td>0.5</td>\n",
       "      <td>50.0</td>\n",
       "      <td>hk</td>\n",
       "      <td>1.0</td>\n",
       "      <td>0.0</td>\n",
       "      <td>1</td>\n",
       "      <td>NaN</td>\n",
       "    </tr>\n",
       "    <tr>\n",
       "      <th>hk02</th>\n",
       "      <td>hk02</td>\n",
       "      <td>log</td>\n",
       "      <td>factor</td>\n",
       "      <td>1.1</td>\n",
       "      <td>0.5</td>\n",
       "      <td>50.0</td>\n",
       "      <td>hk</td>\n",
       "      <td>1.0</td>\n",
       "      <td>0.0</td>\n",
       "      <td>1</td>\n",
       "      <td>NaN</td>\n",
       "    </tr>\n",
       "  </tbody>\n",
       "</table>\n",
       "</div>"
      ],
      "text/plain": [
       "       parnme partrans parchglim  parval1  parlbnd  parubnd pargp  scale  \\\n",
       "parnme                                                                     \n",
       "hk00     hk00      log    factor      1.1      0.5     50.0    hk    1.0   \n",
       "hk01     hk01      log    factor      1.1      0.5     50.0    hk    1.0   \n",
       "hk02     hk02      log    factor      1.1      0.5     50.0    hk    1.0   \n",
       "\n",
       "        offset dercom  extra  \n",
       "parnme                        \n",
       "hk00       0.0      1    NaN  \n",
       "hk01       0.0      1    NaN  \n",
       "hk02       0.0      1    NaN  "
      ]
     },
     "execution_count": 7,
     "metadata": {},
     "output_type": "execute_result"
    }
   ],
   "source": [
    "#assing values to all parameter intial values\n",
    "pst.parameter_data['parval1'] = 1.1\n",
    "\n",
    "# the pandas .loc method makes for easy slicing and dicing\n",
    "pst.parameter_data.iloc[:3,:] "
   ]
  },
  {
   "cell_type": "markdown",
   "metadata": {},
   "source": [
    "#### 2.1. Control Data Section\n",
    "\n",
    "The \"* control data\" section is handled by a special class that tries to prevent mistakes. `pyemu` will not allow you to assign an illogical value to a control data variable. This avoids silly mistakes. But it also requires that the user must know what type(s) can be passed to each data variable.\n",
    "\n",
    "For example, NOPTMAX can only be assigned an integer. If you try to assign text, you will get an error. Try replacing the value 0 in the next cell with the string \"zero\":\n"
   ]
  },
  {
   "cell_type": "code",
   "execution_count": 8,
   "metadata": {
    "execution": {
     "iopub.execute_input": "2022-04-08T06:26:58.656175Z",
     "iopub.status.busy": "2022-04-08T06:26:58.655178Z",
     "iopub.status.idle": "2022-04-08T06:26:58.660165Z",
     "shell.execute_reply": "2022-04-08T06:26:58.661162Z"
    }
   },
   "outputs": [],
   "source": [
    "pst.control_data.noptmax = 0 # replace 0 with \"zero\" and see what happens"
   ]
  },
  {
   "cell_type": "markdown",
   "metadata": {},
   "source": [
    "We can inspect all control data values using the `pst.control_data.formatted_values` attribute:"
   ]
  },
  {
   "cell_type": "code",
   "execution_count": 9,
   "metadata": {
    "execution": {
     "iopub.execute_input": "2022-04-08T06:26:58.681108Z",
     "iopub.status.busy": "2022-04-08T06:26:58.679114Z",
     "iopub.status.idle": "2022-04-08T06:26:58.685098Z",
     "shell.execute_reply": "2022-04-08T06:26:58.686096Z"
    }
   },
   "outputs": [
    {
     "data": {
      "text/plain": [
       "name\n",
       "rstfle                        restart\n",
       "pestmode               regularization\n",
       "npar                               48\n",
       "nobs                             1013\n",
       "npargp                              6\n",
       "nprior                            422\n",
       "nobsgp                             26\n",
       "maxcompdim                          0\n",
       "ntplfle                             6\n",
       "ninsfle                             5\n",
       "precis                         single\n",
       "dpoint                          point\n",
       "numcom                              1\n",
       "jacfile                             0\n",
       "messfile                            0\n",
       "obsreref                   noobsreref\n",
       "rlambda1                 2.000000E+01\n",
       "rlamfac                 -3.000000E+00\n",
       "phiratsuf                3.000000E-01\n",
       "phiredlam                1.000000E-02\n",
       "numlam                             -7\n",
       "jacupdate                         999\n",
       "lamforgive                 lamforgive\n",
       "derforgive               noderforgive\n",
       "relparmax                1.000000E+01\n",
       "facparmax                1.000000E+01\n",
       "facorig                  1.000000E-03\n",
       "iboundstick                         0\n",
       "upvecbend                           0\n",
       "phiredswh                1.000000E-01\n",
       "noptswitch                          1\n",
       "splitswh                 1.100000E+00\n",
       "doaui                           noaui\n",
       "dosenreuse                 nosenreuse\n",
       "boundscale               noboundscale\n",
       "noptmax                             0\n",
       "phiredstp                1.000000E-02\n",
       "nphistp                             3\n",
       "nphinored                           3\n",
       "relparstp                1.000000E-02\n",
       "nrelpar                             3\n",
       "phistopthresh            0.000000E+00\n",
       "lastrun                             1\n",
       "phiabandon              -1.000000E+00\n",
       "icov                                0\n",
       "icor                                0\n",
       "ieig                                0\n",
       "ires                                0\n",
       "jcosave                       jcosave\n",
       "verboserec                 verboserec\n",
       "jcosaveitn                 jcosaveitn\n",
       "reisaveitn                 reisaveitn\n",
       "parsaveitn                 parsaveitn\n",
       "parsaverun               noparsaverun\n",
       "dtype: object"
      ]
     },
     "execution_count": 9,
     "metadata": {},
     "output_type": "execute_result"
    }
   ],
   "source": [
    "pst.control_data.formatted_values"
   ]
  },
  {
   "cell_type": "markdown",
   "metadata": {},
   "source": [
    "#### 2.2. PEST++ Options\n",
    "\n",
    "PEST++ options are stored in a dictionary in which the `keys` are the PEST++ Control Variable name (see the PEST++ user manual for names of these variables and their descriptions). Values must be asigned according to what PEST++ expects as input.\n",
    "\n",
    "You can access the existing PEST++ options like so:"
   ]
  },
  {
   "cell_type": "code",
   "execution_count": 10,
   "metadata": {
    "execution": {
     "iopub.execute_input": "2022-04-08T06:26:58.702056Z",
     "iopub.status.busy": "2022-04-08T06:26:58.698063Z",
     "iopub.status.idle": "2022-04-08T06:26:58.710030Z",
     "shell.execute_reply": "2022-04-08T06:26:58.712025Z"
    }
   },
   "outputs": [
    {
     "data": {
      "text/plain": [
       "{'n_iter_base': '-1',\n",
       " 'lambda_scale_fac': '1.0',\n",
       " 'n_iter_super': '3',\n",
       " 'lambdas': '0.1,1.0,10.0',\n",
       " 'forecasts': 'travel_time,fa_headwaters_0001,c001fr16c17_19791231,c001fr05c04_19791231',\n",
       " 'upgrade_augment': 'false'}"
      ]
     },
     "execution_count": 10,
     "metadata": {},
     "output_type": "execute_result"
    }
   ],
   "source": [
    "pst.pestpp_options"
   ]
  },
  {
   "cell_type": "markdown",
   "metadata": {},
   "source": [
    "You can change the values of existing control variables like so:"
   ]
  },
  {
   "cell_type": "code",
   "execution_count": 11,
   "metadata": {
    "execution": {
     "iopub.execute_input": "2022-04-08T06:26:58.723995Z",
     "iopub.status.busy": "2022-04-08T06:26:58.722996Z",
     "iopub.status.idle": "2022-04-08T06:26:58.727983Z",
     "shell.execute_reply": "2022-04-08T06:26:58.728980Z"
    }
   },
   "outputs": [
    {
     "data": {
      "text/plain": [
       "{'n_iter_base': '-1',\n",
       " 'lambda_scale_fac': '1.0',\n",
       " 'n_iter_super': '3',\n",
       " 'lambdas': '0.1,1.0,10.0',\n",
       " 'forecasts': 'travel_time,fa_headwaters_0001,c001fr16c17_19791231,c001fr05c04_19791231',\n",
       " 'upgrade_augment': 'false',\n",
       " 'ies_parameter_ensemble': 'dummy_ies_par_ensemble.csv'}"
      ]
     },
     "execution_count": 11,
     "metadata": {},
     "output_type": "execute_result"
    }
   ],
   "source": [
    "# changes the value for the PEST++ option 'ies_parameter_ensemble'\n",
    "pst.pestpp_options['ies_parameter_ensemble'] = 'dummy_ies_par_ensemble.csv'\n",
    "\n",
    "# check the dictionary again\n",
    "pst.pestpp_options"
   ]
  },
  {
   "cell_type": "markdown",
   "metadata": {},
   "source": [
    "Or add new PEST++ variables like so:"
   ]
  },
  {
   "cell_type": "code",
   "execution_count": 12,
   "metadata": {
    "execution": {
     "iopub.execute_input": "2022-04-08T06:26:58.744938Z",
     "iopub.status.busy": "2022-04-08T06:26:58.742944Z",
     "iopub.status.idle": "2022-04-08T06:26:58.748927Z",
     "shell.execute_reply": "2022-04-08T06:26:58.749924Z"
    }
   },
   "outputs": [
    {
     "data": {
      "text/plain": [
       "{'n_iter_base': '-1',\n",
       " 'lambda_scale_fac': '1.0',\n",
       " 'n_iter_super': '3',\n",
       " 'lambdas': [0.1, 1, 10, 100, 1000],\n",
       " 'forecasts': 'travel_time,fa_headwaters_0001,c001fr16c17_19791231,c001fr05c04_19791231',\n",
       " 'upgrade_augment': 'false',\n",
       " 'ies_parameter_ensemble': 'dummy_ies_par_ensemble.csv',\n",
       " 'ies_num_reals': 50,\n",
       " 'da_use_simulated_states': True}"
      ]
     },
     "execution_count": 12,
     "metadata": {},
     "output_type": "execute_result"
    }
   ],
   "source": [
    "# A few examples of adding PEST++ options of different types:\n",
    "# pestpp-ies; the number of realizations to draw in order to form parameter and observation ensembles.\n",
    "pst.pestpp_options['ies_num_reals'] = 50\n",
    "\n",
    "# specifies a list of values for the Marquardt lambda used in calculation of parameter upgrades. \n",
    "pst.pestpp_options[\"lambdas\"] = [0.1, 1, 10, 100, 1000]\n",
    "\n",
    "# pestpp-da; True/False, specify whether to use the simulated states at the end of each cycle as the initial states for the next cycle.   \n",
    "pst.pestpp_options['da_use_simulated_states'] = True\n",
    "\n",
    "# check the dictionary again\n",
    "pst.pestpp_options"
   ]
  },
  {
   "cell_type": "markdown",
   "metadata": {},
   "source": [
    "#### 2.3. Writing the .pst control file\n",
    "\n",
    "All of these edits are kept in memory untill explicitly written to a .pst file. This is accomplished with the `Pst.write()` method.\n",
    "\n",
    "The control file can be written as version 1 or 2 (see the PEST++ user manual for descriptions of versions). Unlike the original PEST version 1, version 2 control files have each of the \"*\" sections stored in external csv files. This makes them easier to access and manipulate, either programatically or using common spreadsheet software. PEST and PEST_HP only accept version 1. Only PEST++ accepts version 2. If there are more than 10k parameters, version 2 is written by default. \n",
    "\n",
    "You can specify the version by passing the relevant argument. Run the cells below then inspect the folder to see the differences."
   ]
  },
  {
   "cell_type": "code",
   "execution_count": 13,
   "metadata": {
    "execution": {
     "iopub.execute_input": "2022-04-08T06:26:58.764885Z",
     "iopub.status.busy": "2022-04-08T06:26:58.763887Z",
     "iopub.status.idle": "2022-04-08T06:26:59.191743Z",
     "shell.execute_reply": "2022-04-08T06:26:59.192740Z"
    }
   },
   "outputs": [
    {
     "name": "stdout",
     "output_type": "stream",
     "text": [
      "noptmax:0, npar_adj:48, nnz_obs:14\n"
     ]
    }
   ],
   "source": [
    "pst.write(os.path.join(f_d, 'temp.pst'), version=1)"
   ]
  },
  {
   "cell_type": "code",
   "execution_count": 14,
   "metadata": {
    "execution": {
     "iopub.execute_input": "2022-04-08T06:26:59.226650Z",
     "iopub.status.busy": "2022-04-08T06:26:59.223657Z",
     "iopub.status.idle": "2022-04-08T06:26:59.307434Z",
     "shell.execute_reply": "2022-04-08T06:26:59.308431Z"
    }
   },
   "outputs": [
    {
     "name": "stdout",
     "output_type": "stream",
     "text": [
      "noptmax:0, npar_adj:48, nnz_obs:14\n"
     ]
    }
   ],
   "source": [
    "pst.write(os.path.join(f_d, \"temp_v2.pst\"), version=2)"
   ]
  },
  {
   "cell_type": "code",
   "execution_count": 15,
   "metadata": {
    "execution": {
     "iopub.execute_input": "2022-04-08T06:26:59.317407Z",
     "iopub.status.busy": "2022-04-08T06:26:59.314415Z",
     "iopub.status.idle": "2022-04-08T06:26:59.328377Z",
     "shell.execute_reply": "2022-04-08T06:26:59.329375Z"
    }
   },
   "outputs": [
    {
     "data": {
      "text/plain": [
       "['freyberg_pp.pst', 'temp.pst', 'temp_v2.pst', 'test.pst', 'test2.pst']"
      ]
     },
     "execution_count": 15,
     "metadata": {},
     "output_type": "execute_result"
    }
   ],
   "source": [
    "[f for f in os.listdir(f_d) if f.endswith('.pst')]"
   ]
  },
  {
   "cell_type": "markdown",
   "metadata": {},
   "source": [
    "#### 2.4. Adding Parameters/Observations from .tpl/.ins files\n",
    "\n",
    "In another tutorial we demonstrate the use of the `PstFrom` to automate construction of a complete PEST interface, starting from scratch.\n",
    "\n",
    "Alternatively, it is possible to construct a PEST control file from template (.tpl) and instruction (.ins) files. The `Pst` class includes methods to read .tpl/.ins files and add parameters/observations to the control file. This enables construction of a PEST dataset, or simply adding new ones to an existing control file. It is particularily usefull for pesky model input/output files with inconvenient file structures (e.g. that are not array or tabular formats).\n",
    "\n",
    "The cell bellow writes a \"dummy\" template file to the tutorial folder for demonstration purposes. "
   ]
  },
  {
   "cell_type": "code",
   "execution_count": 16,
   "metadata": {
    "execution": {
     "iopub.execute_input": "2022-04-08T06:26:59.341343Z",
     "iopub.status.busy": "2022-04-08T06:26:59.339348Z",
     "iopub.status.idle": "2022-04-08T06:26:59.346330Z",
     "shell.execute_reply": "2022-04-08T06:26:59.347328Z"
    }
   },
   "outputs": [],
   "source": [
    "tpl_filename = os.path.join(f_d,\"special_pars.dat.tpl\")\n",
    "with open(tpl_filename,'w') as f:\n",
    "    f.write(\"ptf ~\\n\")\n",
    "    f.write(\"special_par1  ~  special_par1   ~\\n\")\n",
    "    f.write(\"special_par2  ~  special_par2   ~\\n\")"
   ]
  },
  {
   "cell_type": "markdown",
   "metadata": {},
   "source": [
    "Adding the parameters from \"special_pars.dat.tpl\" to the control file is a simple matter of calling the `.add_parameters()` method. This method adds the parameters to the `pst.parameter_data` section, and updates other relevant sections of the `pst` control file; it also returns a DataFrame. Note that parameter names come from the .tpl file. However, intial values, bounds and group name are assigned default values; you will need to specify correct values before writing the control file to disk."
   ]
  },
  {
   "cell_type": "code",
   "execution_count": 17,
   "metadata": {
    "execution": {
     "iopub.execute_input": "2022-04-08T06:26:59.357300Z",
     "iopub.status.busy": "2022-04-08T06:26:59.356303Z",
     "iopub.status.idle": "2022-04-08T06:26:59.446908Z",
     "shell.execute_reply": "2022-04-08T06:26:59.448902Z"
    }
   },
   "outputs": [
    {
     "name": "stdout",
     "output_type": "stream",
     "text": [
      "2 pars added from template file .\\special_pars.dat.tpl\n"
     ]
    },
    {
     "data": {
      "text/html": [
       "<div>\n",
       "<style scoped>\n",
       "    .dataframe tbody tr th:only-of-type {\n",
       "        vertical-align: middle;\n",
       "    }\n",
       "\n",
       "    .dataframe tbody tr th {\n",
       "        vertical-align: top;\n",
       "    }\n",
       "\n",
       "    .dataframe thead th {\n",
       "        text-align: right;\n",
       "    }\n",
       "</style>\n",
       "<table border=\"1\" class=\"dataframe\">\n",
       "  <thead>\n",
       "    <tr style=\"text-align: right;\">\n",
       "      <th></th>\n",
       "      <th>parnme</th>\n",
       "      <th>partrans</th>\n",
       "      <th>parchglim</th>\n",
       "      <th>parval1</th>\n",
       "      <th>parlbnd</th>\n",
       "      <th>parubnd</th>\n",
       "      <th>pargp</th>\n",
       "      <th>scale</th>\n",
       "      <th>offset</th>\n",
       "      <th>dercom</th>\n",
       "    </tr>\n",
       "  </thead>\n",
       "  <tbody>\n",
       "    <tr>\n",
       "      <th>special_par1</th>\n",
       "      <td>special_par1</td>\n",
       "      <td>log</td>\n",
       "      <td>factor</td>\n",
       "      <td>1.0</td>\n",
       "      <td>1.100000e-10</td>\n",
       "      <td>1.100000e+10</td>\n",
       "      <td>pargp</td>\n",
       "      <td>1.0</td>\n",
       "      <td>0.0</td>\n",
       "      <td>1</td>\n",
       "    </tr>\n",
       "    <tr>\n",
       "      <th>special_par2</th>\n",
       "      <td>special_par2</td>\n",
       "      <td>log</td>\n",
       "      <td>factor</td>\n",
       "      <td>1.0</td>\n",
       "      <td>1.100000e-10</td>\n",
       "      <td>1.100000e+10</td>\n",
       "      <td>pargp</td>\n",
       "      <td>1.0</td>\n",
       "      <td>0.0</td>\n",
       "      <td>1</td>\n",
       "    </tr>\n",
       "  </tbody>\n",
       "</table>\n",
       "</div>"
      ],
      "text/plain": [
       "                    parnme partrans parchglim  parval1       parlbnd  \\\n",
       "special_par1  special_par1      log    factor      1.0  1.100000e-10   \n",
       "special_par2  special_par2      log    factor      1.0  1.100000e-10   \n",
       "\n",
       "                   parubnd  pargp  scale  offset  dercom  \n",
       "special_par1  1.100000e+10  pargp    1.0     0.0       1  \n",
       "special_par2  1.100000e+10  pargp    1.0     0.0       1  "
      ]
     },
     "execution_count": 17,
     "metadata": {},
     "output_type": "execute_result"
    }
   ],
   "source": [
    "pst.add_parameters(tpl_filename, pst_path=\".\") #pst_path is the relative path from the control file to the .tp file"
   ]
  },
  {
   "cell_type": "markdown",
   "metadata": {},
   "source": [
    "You can then adjust parameter data details:"
   ]
  },
  {
   "cell_type": "code",
   "execution_count": 18,
   "metadata": {
    "execution": {
     "iopub.execute_input": "2022-04-08T06:26:59.464859Z",
     "iopub.status.busy": "2022-04-08T06:26:59.462869Z",
     "iopub.status.idle": "2022-04-08T06:26:59.494780Z",
     "shell.execute_reply": "2022-04-08T06:26:59.496774Z"
    }
   },
   "outputs": [
    {
     "data": {
      "text/html": [
       "<div>\n",
       "<style scoped>\n",
       "    .dataframe tbody tr th:only-of-type {\n",
       "        vertical-align: middle;\n",
       "    }\n",
       "\n",
       "    .dataframe tbody tr th {\n",
       "        vertical-align: top;\n",
       "    }\n",
       "\n",
       "    .dataframe thead th {\n",
       "        text-align: right;\n",
       "    }\n",
       "</style>\n",
       "<table border=\"1\" class=\"dataframe\">\n",
       "  <thead>\n",
       "    <tr style=\"text-align: right;\">\n",
       "      <th></th>\n",
       "      <th>parnme</th>\n",
       "      <th>partrans</th>\n",
       "      <th>parchglim</th>\n",
       "      <th>parval1</th>\n",
       "      <th>parlbnd</th>\n",
       "      <th>parubnd</th>\n",
       "      <th>pargp</th>\n",
       "      <th>scale</th>\n",
       "      <th>offset</th>\n",
       "      <th>dercom</th>\n",
       "      <th>extra</th>\n",
       "    </tr>\n",
       "  </thead>\n",
       "  <tbody>\n",
       "    <tr>\n",
       "      <th>special_par1</th>\n",
       "      <td>special_par1</td>\n",
       "      <td>log</td>\n",
       "      <td>factor</td>\n",
       "      <td>1.0</td>\n",
       "      <td>0.1</td>\n",
       "      <td>10.0</td>\n",
       "      <td>pargp</td>\n",
       "      <td>1.0</td>\n",
       "      <td>0.0</td>\n",
       "      <td>1</td>\n",
       "      <td>NaN</td>\n",
       "    </tr>\n",
       "    <tr>\n",
       "      <th>special_par2</th>\n",
       "      <td>special_par2</td>\n",
       "      <td>log</td>\n",
       "      <td>factor</td>\n",
       "      <td>1.0</td>\n",
       "      <td>0.1</td>\n",
       "      <td>10.0</td>\n",
       "      <td>pargp</td>\n",
       "      <td>1.0</td>\n",
       "      <td>0.0</td>\n",
       "      <td>1</td>\n",
       "      <td>NaN</td>\n",
       "    </tr>\n",
       "  </tbody>\n",
       "</table>\n",
       "</div>"
      ],
      "text/plain": [
       "                    parnme partrans parchglim  parval1  parlbnd  parubnd  \\\n",
       "special_par1  special_par1      log    factor      1.0      0.1     10.0   \n",
       "special_par2  special_par2      log    factor      1.0      0.1     10.0   \n",
       "\n",
       "              pargp  scale  offset dercom  extra  \n",
       "special_par1  pargp    1.0     0.0      1    NaN  \n",
       "special_par2  pargp    1.0     0.0      1    NaN  "
      ]
     },
     "execution_count": 18,
     "metadata": {},
     "output_type": "execute_result"
    }
   ],
   "source": [
    "# assign to variable to make code easier to read\n",
    "par = pst.parameter_data\n",
    "\n",
    "# adjust parameter bounds; don't worry about this now\n",
    "par.loc[par['pargp'] == 'pargp', ['parlbnd', 'parubnd']] = 0.1, 10\n",
    "\n",
    "par.loc[par['pargp'] == 'pargp']"
   ]
  },
  {
   "cell_type": "markdown",
   "metadata": {},
   "source": [
    "#### 2.5. Tying Parameters\n",
    "\n",
    "We may on ocasion need to tie parameters in the control file. In the `pyemu` world, tied parametes are specified in the `Pst.parameter_data` dataframe. Start by adding a `partied` column and, for parameters you want to tie, changing \"partrans\" to \"tied\" and adding the name of the parameter to tie to in the \"partied\" column. \n",
    "\n",
    "We will demonstrate step-by-step by tying \"special_par2\" to \"special_par1\" (the parameters we just added from the .tpl file):"
   ]
  },
  {
   "cell_type": "code",
   "execution_count": 19,
   "metadata": {
    "execution": {
     "iopub.execute_input": "2022-04-08T06:26:59.531681Z",
     "iopub.status.busy": "2022-04-08T06:26:59.530684Z",
     "iopub.status.idle": "2022-04-08T06:26:59.549634Z",
     "shell.execute_reply": "2022-04-08T06:26:59.550630Z"
    }
   },
   "outputs": [
    {
     "data": {
      "text/html": [
       "<div>\n",
       "<style scoped>\n",
       "    .dataframe tbody tr th:only-of-type {\n",
       "        vertical-align: middle;\n",
       "    }\n",
       "\n",
       "    .dataframe tbody tr th {\n",
       "        vertical-align: top;\n",
       "    }\n",
       "\n",
       "    .dataframe thead th {\n",
       "        text-align: right;\n",
       "    }\n",
       "</style>\n",
       "<table border=\"1\" class=\"dataframe\">\n",
       "  <thead>\n",
       "    <tr style=\"text-align: right;\">\n",
       "      <th></th>\n",
       "      <th>parnme</th>\n",
       "      <th>partrans</th>\n",
       "      <th>parchglim</th>\n",
       "      <th>parval1</th>\n",
       "      <th>parlbnd</th>\n",
       "      <th>parubnd</th>\n",
       "      <th>pargp</th>\n",
       "      <th>scale</th>\n",
       "      <th>offset</th>\n",
       "      <th>dercom</th>\n",
       "      <th>extra</th>\n",
       "    </tr>\n",
       "  </thead>\n",
       "  <tbody>\n",
       "    <tr>\n",
       "      <th>special_par1</th>\n",
       "      <td>special_par1</td>\n",
       "      <td>log</td>\n",
       "      <td>factor</td>\n",
       "      <td>1.0</td>\n",
       "      <td>0.1</td>\n",
       "      <td>10.0</td>\n",
       "      <td>pargp</td>\n",
       "      <td>1.0</td>\n",
       "      <td>0.0</td>\n",
       "      <td>1</td>\n",
       "      <td>NaN</td>\n",
       "    </tr>\n",
       "    <tr>\n",
       "      <th>special_par2</th>\n",
       "      <td>special_par2</td>\n",
       "      <td>log</td>\n",
       "      <td>factor</td>\n",
       "      <td>1.0</td>\n",
       "      <td>0.1</td>\n",
       "      <td>10.0</td>\n",
       "      <td>pargp</td>\n",
       "      <td>1.0</td>\n",
       "      <td>0.0</td>\n",
       "      <td>1</td>\n",
       "      <td>NaN</td>\n",
       "    </tr>\n",
       "  </tbody>\n",
       "</table>\n",
       "</div>"
      ],
      "text/plain": [
       "                    parnme partrans parchglim  parval1  parlbnd  parubnd  \\\n",
       "special_par1  special_par1      log    factor      1.0      0.1     10.0   \n",
       "special_par2  special_par2      log    factor      1.0      0.1     10.0   \n",
       "\n",
       "              pargp  scale  offset dercom  extra  \n",
       "special_par1  pargp    1.0     0.0      1    NaN  \n",
       "special_par2  pargp    1.0     0.0      1    NaN  "
      ]
     },
     "execution_count": 19,
     "metadata": {},
     "output_type": "execute_result"
    }
   ],
   "source": [
    "# see the parameters\n",
    "par.loc[par['pargp'] == 'pargp']"
   ]
  },
  {
   "cell_type": "code",
   "execution_count": 20,
   "metadata": {
    "execution": {
     "iopub.execute_input": "2022-04-08T06:26:59.578556Z",
     "iopub.status.busy": "2022-04-08T06:26:59.576561Z",
     "iopub.status.idle": "2022-04-08T06:26:59.582545Z",
     "shell.execute_reply": "2022-04-08T06:26:59.583542Z"
    }
   },
   "outputs": [
    {
     "data": {
      "text/html": [
       "<div>\n",
       "<style scoped>\n",
       "    .dataframe tbody tr th:only-of-type {\n",
       "        vertical-align: middle;\n",
       "    }\n",
       "\n",
       "    .dataframe tbody tr th {\n",
       "        vertical-align: top;\n",
       "    }\n",
       "\n",
       "    .dataframe thead th {\n",
       "        text-align: right;\n",
       "    }\n",
       "</style>\n",
       "<table border=\"1\" class=\"dataframe\">\n",
       "  <thead>\n",
       "    <tr style=\"text-align: right;\">\n",
       "      <th></th>\n",
       "      <th>partrans</th>\n",
       "      <th>partied</th>\n",
       "    </tr>\n",
       "  </thead>\n",
       "  <tbody>\n",
       "    <tr>\n",
       "      <th>special_par1</th>\n",
       "      <td>log</td>\n",
       "      <td>NaN</td>\n",
       "    </tr>\n",
       "    <tr>\n",
       "      <th>special_par2</th>\n",
       "      <td>tied</td>\n",
       "      <td>special_par1</td>\n",
       "    </tr>\n",
       "  </tbody>\n",
       "</table>\n",
       "</div>"
      ],
      "text/plain": [
       "             partrans       partied\n",
       "special_par1      log           NaN\n",
       "special_par2     tied  special_par1"
      ]
     },
     "execution_count": 20,
     "metadata": {},
     "output_type": "execute_result"
    }
   ],
   "source": [
    "# set the partrans for \"special_par2\" as \"tied\"\n",
    "par.loc['special_par2', 'partrans'] = 'tied'\n",
    "\n",
    "# add a new column named \"partied\" and assign the parameter name to which to tie \"special_par2\"\n",
    "par.loc['special_par2', 'partied'] = 'special_par1'\n",
    "\n",
    "# display for comparison; see partrans and partied columns\n",
    "par.loc[par['pargp'] == 'pargp', ['partrans', 'partied']]"
   ]
  },
  {
   "cell_type": "markdown",
   "metadata": {},
   "source": [
    "### 3. Utilities\n",
    "\n",
    "`pyemu` has several built-in methods to make your PEST-life easier. Several of these handle similar tasks as utilities from the PEST-suite, such as adjusting observation weights and assigning prior information equations. Others provide usefull tables or plots that summarize details of the PEST setup and/or outcomes.\n",
    "\n",
    "#### 3.1. Par and Obs Summaries\n",
    "You can access quick summaries of observation and paramaeter names, group names, etc thorugh the respective `pst` attributes:"
   ]
  },
  {
   "cell_type": "code",
   "execution_count": 21,
   "metadata": {
    "execution": {
     "iopub.execute_input": "2022-04-08T06:26:59.596508Z",
     "iopub.status.busy": "2022-04-08T06:26:59.594513Z",
     "iopub.status.idle": "2022-04-08T06:26:59.602492Z",
     "shell.execute_reply": "2022-04-08T06:26:59.604486Z"
    }
   },
   "outputs": [
    {
     "data": {
      "text/plain": [
       "['calhead', 'calflux']"
      ]
     },
     "execution_count": 21,
     "metadata": {},
     "output_type": "execute_result"
    }
   ],
   "source": [
    "# non-zero weighted observation groups, returns a list. \n",
    "# Here it sliced to the first 5 elements to keep it short\n",
    "pst.nnz_obs_groups[:5]"
   ]
  },
  {
   "cell_type": "code",
   "execution_count": 22,
   "metadata": {
    "execution": {
     "iopub.execute_input": "2022-04-08T06:26:59.616455Z",
     "iopub.status.busy": "2022-04-08T06:26:59.614460Z",
     "iopub.status.idle": "2022-04-08T06:26:59.620445Z",
     "shell.execute_reply": "2022-04-08T06:26:59.622438Z"
    }
   },
   "outputs": [
    {
     "data": {
      "text/plain": [
       "(14, 49)"
      ]
     },
     "execution_count": 22,
     "metadata": {},
     "output_type": "execute_result"
    }
   ],
   "source": [
    "# number of non-zero observations and adjustable parmaeters\n",
    "pst.nnz_obs, pst.npar_adj"
   ]
  },
  {
   "cell_type": "code",
   "execution_count": 23,
   "metadata": {
    "execution": {
     "iopub.execute_input": "2022-04-08T06:26:59.634406Z",
     "iopub.status.busy": "2022-04-08T06:26:59.632412Z",
     "iopub.status.idle": "2022-04-08T06:26:59.638395Z",
     "shell.execute_reply": "2022-04-08T06:26:59.639392Z"
    }
   },
   "outputs": [
    {
     "data": {
      "text/plain": [
       "['hk', 'porosity', 'rch', 'sfr', 'w0']"
      ]
     },
     "execution_count": 23,
     "metadata": {},
     "output_type": "execute_result"
    }
   ],
   "source": [
    "# adjustble parameter group names\n",
    "pst.adj_par_groups[:5]"
   ]
  },
  {
   "cell_type": "markdown",
   "metadata": {},
   "source": [
    "You can write a parameter or observation summary table wth the `Pst.write_par_symmary_table()` and `Pst.write_obs_symmary_table()` methods, respectively. Quite usefull when preparing those pesky reports. \n",
    "\n",
    "These methods return a Pandas DataFrame and (by default) write the table to an external file. Parameters and observations are summarized by group name."
   ]
  },
  {
   "cell_type": "code",
   "execution_count": 24,
   "metadata": {
    "execution": {
     "iopub.execute_input": "2022-04-08T06:26:59.662331Z",
     "iopub.status.busy": "2022-04-08T06:26:59.660336Z",
     "iopub.status.idle": "2022-04-08T06:27:06.506629Z",
     "shell.execute_reply": "2022-04-08T06:27:06.507623Z"
    }
   },
   "outputs": [
    {
     "data": {
      "text/html": [
       "<div>\n",
       "<style scoped>\n",
       "    .dataframe tbody tr th:only-of-type {\n",
       "        vertical-align: middle;\n",
       "    }\n",
       "\n",
       "    .dataframe tbody tr th {\n",
       "        vertical-align: top;\n",
       "    }\n",
       "\n",
       "    .dataframe thead th {\n",
       "        text-align: right;\n",
       "    }\n",
       "</style>\n",
       "<table border=\"1\" class=\"dataframe\">\n",
       "  <thead>\n",
       "    <tr style=\"text-align: right;\">\n",
       "      <th></th>\n",
       "      <th>type</th>\n",
       "      <th>transform</th>\n",
       "      <th>count</th>\n",
       "      <th>initial value</th>\n",
       "      <th>lower bound</th>\n",
       "      <th>upper bound</th>\n",
       "      <th>standard deviation</th>\n",
       "    </tr>\n",
       "  </thead>\n",
       "  <tbody>\n",
       "    <tr>\n",
       "      <th>hk</th>\n",
       "      <td>hk</td>\n",
       "      <td>log</td>\n",
       "      <td>32</td>\n",
       "      <td>0.0413927</td>\n",
       "      <td>-0.30103</td>\n",
       "      <td>1.69897</td>\n",
       "      <td>0.5</td>\n",
       "    </tr>\n",
       "    <tr>\n",
       "      <th>pargp</th>\n",
       "      <td>pargp</td>\n",
       "      <td>mixed</td>\n",
       "      <td>2</td>\n",
       "      <td>0 to     1</td>\n",
       "      <td>-1 to   0.1</td>\n",
       "      <td>1 to    10</td>\n",
       "      <td>0.5 to 2.475</td>\n",
       "    </tr>\n",
       "    <tr>\n",
       "      <th>porosity</th>\n",
       "      <td>porosity</td>\n",
       "      <td>log</td>\n",
       "      <td>1</td>\n",
       "      <td>0.0413927</td>\n",
       "      <td>-2.30103</td>\n",
       "      <td>-1.69897</td>\n",
       "      <td>0.150515</td>\n",
       "    </tr>\n",
       "    <tr>\n",
       "      <th>rch</th>\n",
       "      <td>rch</td>\n",
       "      <td>log</td>\n",
       "      <td>2</td>\n",
       "      <td>0.0413927</td>\n",
       "      <td>-0.60206 to -0.30103</td>\n",
       "      <td>0.30103 to 0.477121</td>\n",
       "      <td>0.150515 to 0.269795</td>\n",
       "    </tr>\n",
       "    <tr>\n",
       "      <th>sfr</th>\n",
       "      <td>sfr</td>\n",
       "      <td>log</td>\n",
       "      <td>1</td>\n",
       "      <td>0.0413927</td>\n",
       "      <td>-2</td>\n",
       "      <td>1</td>\n",
       "      <td>0.75</td>\n",
       "    </tr>\n",
       "    <tr>\n",
       "      <th>w0</th>\n",
       "      <td>w0</td>\n",
       "      <td>log</td>\n",
       "      <td>6</td>\n",
       "      <td>0.0413927</td>\n",
       "      <td>-0.30103</td>\n",
       "      <td>0.30103</td>\n",
       "      <td>0.150515</td>\n",
       "    </tr>\n",
       "    <tr>\n",
       "      <th>w1</th>\n",
       "      <td>w1</td>\n",
       "      <td>log</td>\n",
       "      <td>6</td>\n",
       "      <td>0.0413927</td>\n",
       "      <td>-1</td>\n",
       "      <td>1</td>\n",
       "      <td>0.5</td>\n",
       "    </tr>\n",
       "  </tbody>\n",
       "</table>\n",
       "</div>"
      ],
      "text/plain": [
       "              type transform  count   initial value           lower bound  \\\n",
       "hk              hk       log     32       0.0413927              -0.30103   \n",
       "pargp        pargp     mixed      2      0 to     1           -1 to   0.1   \n",
       "porosity  porosity       log      1       0.0413927              -2.30103   \n",
       "rch            rch       log      2       0.0413927  -0.60206 to -0.30103   \n",
       "sfr            sfr       log      1       0.0413927                    -2   \n",
       "w0              w0       log      6       0.0413927              -0.30103   \n",
       "w1              w1       log      6       0.0413927                    -1   \n",
       "\n",
       "                  upper bound    standard deviation  \n",
       "hk                    1.69897                   0.5  \n",
       "pargp              1 to    10          0.5 to 2.475  \n",
       "porosity             -1.69897              0.150515  \n",
       "rch       0.30103 to 0.477121  0.150515 to 0.269795  \n",
       "sfr                         1                  0.75  \n",
       "w0                    0.30103              0.150515  \n",
       "w1                          1                   0.5  "
      ]
     },
     "execution_count": 24,
     "metadata": {},
     "output_type": "execute_result"
    }
   ],
   "source": [
    "pst.write_par_summary_table()"
   ]
  },
  {
   "cell_type": "code",
   "execution_count": 25,
   "metadata": {
    "execution": {
     "iopub.execute_input": "2022-04-08T06:27:06.517597Z",
     "iopub.status.busy": "2022-04-08T06:27:06.516599Z",
     "iopub.status.idle": "2022-04-08T06:27:06.712588Z",
     "shell.execute_reply": "2022-04-08T06:27:06.714583Z"
    }
   },
   "outputs": [
    {
     "data": {
      "text/html": [
       "<div>\n",
       "<style scoped>\n",
       "    .dataframe tbody tr th:only-of-type {\n",
       "        vertical-align: middle;\n",
       "    }\n",
       "\n",
       "    .dataframe tbody tr th {\n",
       "        vertical-align: top;\n",
       "    }\n",
       "\n",
       "    .dataframe thead th {\n",
       "        text-align: right;\n",
       "    }\n",
       "</style>\n",
       "<table border=\"1\" class=\"dataframe\">\n",
       "  <thead>\n",
       "    <tr style=\"text-align: right;\">\n",
       "      <th></th>\n",
       "      <th>group</th>\n",
       "      <th>value</th>\n",
       "      <th>non-zero weight</th>\n",
       "      <th>zero weight</th>\n",
       "      <th>weight</th>\n",
       "      <th>standard deviation</th>\n",
       "      <th>percent error</th>\n",
       "    </tr>\n",
       "  </thead>\n",
       "  <tbody>\n",
       "    <tr>\n",
       "      <th>calflux</th>\n",
       "      <td>calflux</td>\n",
       "      <td>3242.6</td>\n",
       "      <td>1</td>\n",
       "      <td>0</td>\n",
       "      <td>0.05</td>\n",
       "      <td>20</td>\n",
       "      <td>0.616789</td>\n",
       "    </tr>\n",
       "    <tr>\n",
       "      <th>calhead</th>\n",
       "      <td>calhead</td>\n",
       "      <td>15.7487 to 30.7417</td>\n",
       "      <td>13</td>\n",
       "      <td>0</td>\n",
       "      <td>5</td>\n",
       "      <td>0.2</td>\n",
       "      <td>0.650582 to 1.26995</td>\n",
       "    </tr>\n",
       "    <tr>\n",
       "      <th>flaqx</th>\n",
       "      <td>flaqx</td>\n",
       "      <td>-895.43 to 252.98</td>\n",
       "      <td>0</td>\n",
       "      <td>122</td>\n",
       "      <td>0</td>\n",
       "      <td>NA</td>\n",
       "      <td>NA</td>\n",
       "    </tr>\n",
       "    <tr>\n",
       "      <th>flout</th>\n",
       "      <td>flout</td>\n",
       "      <td>0 to 7229.3</td>\n",
       "      <td>0</td>\n",
       "      <td>122</td>\n",
       "      <td>0</td>\n",
       "      <td>NA</td>\n",
       "      <td>NA</td>\n",
       "    </tr>\n",
       "    <tr>\n",
       "      <th>flx_constan</th>\n",
       "      <td>flx_constan</td>\n",
       "      <td>-860.052 to -490.431</td>\n",
       "      <td>0</td>\n",
       "      <td>3</td>\n",
       "      <td>0</td>\n",
       "      <td>NA</td>\n",
       "      <td>NA</td>\n",
       "    </tr>\n",
       "    <tr>\n",
       "      <th>flx_in-out</th>\n",
       "      <td>flx_in-out</td>\n",
       "      <td>-2.9966 to 1.3086</td>\n",
       "      <td>0</td>\n",
       "      <td>3</td>\n",
       "      <td>0</td>\n",
       "      <td>NA</td>\n",
       "      <td>NA</td>\n",
       "    </tr>\n",
       "    <tr>\n",
       "      <th>flx_percent</th>\n",
       "      <td>flx_percent</td>\n",
       "      <td>-0.05 to  0.02</td>\n",
       "      <td>0</td>\n",
       "      <td>3</td>\n",
       "      <td>0</td>\n",
       "      <td>NA</td>\n",
       "      <td>NA</td>\n",
       "    </tr>\n",
       "    <tr>\n",
       "      <th>flx_recharg</th>\n",
       "      <td>flx_recharg</td>\n",
       "      <td>3475 to 6004.8</td>\n",
       "      <td>0</td>\n",
       "      <td>3</td>\n",
       "      <td>0</td>\n",
       "      <td>NA</td>\n",
       "      <td>NA</td>\n",
       "    </tr>\n",
       "    <tr>\n",
       "      <th>flx_storage</th>\n",
       "      <td>flx_storage</td>\n",
       "      <td>0 to 1578.27</td>\n",
       "      <td>0</td>\n",
       "      <td>3</td>\n",
       "      <td>0</td>\n",
       "      <td>NA</td>\n",
       "      <td>NA</td>\n",
       "    </tr>\n",
       "    <tr>\n",
       "      <th>flx_stream_</th>\n",
       "      <td>flx_stream_</td>\n",
       "      <td>-3242.62 to -603.149</td>\n",
       "      <td>0</td>\n",
       "      <td>3</td>\n",
       "      <td>0</td>\n",
       "      <td>NA</td>\n",
       "      <td>NA</td>\n",
       "    </tr>\n",
       "    <tr>\n",
       "      <th>flx_total</th>\n",
       "      <td>flx_total</td>\n",
       "      <td>-2.99658 to 1.30859</td>\n",
       "      <td>0</td>\n",
       "      <td>3</td>\n",
       "      <td>0</td>\n",
       "      <td>NA</td>\n",
       "      <td>NA</td>\n",
       "    </tr>\n",
       "    <tr>\n",
       "      <th>flx_wells</th>\n",
       "      <td>flx_wells</td>\n",
       "      <td>-2381.4 to -1905.12</td>\n",
       "      <td>0</td>\n",
       "      <td>3</td>\n",
       "      <td>0</td>\n",
       "      <td>NA</td>\n",
       "      <td>NA</td>\n",
       "    </tr>\n",
       "    <tr>\n",
       "      <th>forecast</th>\n",
       "      <td>forecast</td>\n",
       "      <td>-242.577 to 26272.5</td>\n",
       "      <td>0</td>\n",
       "      <td>4</td>\n",
       "      <td>0</td>\n",
       "      <td>NA</td>\n",
       "      <td>NA</td>\n",
       "    </tr>\n",
       "    <tr>\n",
       "      <th>pothead</th>\n",
       "      <td>pothead</td>\n",
       "      <td>11.4 to 31.6052</td>\n",
       "      <td>0</td>\n",
       "      <td>703</td>\n",
       "      <td>0</td>\n",
       "      <td>NA</td>\n",
       "      <td>NA</td>\n",
       "    </tr>\n",
       "    <tr>\n",
       "      <th>vol_constan</th>\n",
       "      <td>vol_constan</td>\n",
       "      <td>-2.70556E+06 to -860.052</td>\n",
       "      <td>0</td>\n",
       "      <td>3</td>\n",
       "      <td>0</td>\n",
       "      <td>NA</td>\n",
       "      <td>NA</td>\n",
       "    </tr>\n",
       "    <tr>\n",
       "      <th>vol_in-out</th>\n",
       "      <td>vol_in-out</td>\n",
       "      <td>-2.9966 to  4774</td>\n",
       "      <td>0</td>\n",
       "      <td>3</td>\n",
       "      <td>0</td>\n",
       "      <td>NA</td>\n",
       "      <td>NA</td>\n",
       "    </tr>\n",
       "    <tr>\n",
       "      <th>vol_percent</th>\n",
       "      <td>vol_percent</td>\n",
       "      <td>-0.05 to  0.02</td>\n",
       "      <td>0</td>\n",
       "      <td>3</td>\n",
       "      <td>0</td>\n",
       "      <td>NA</td>\n",
       "      <td>NA</td>\n",
       "    </tr>\n",
       "    <tr>\n",
       "      <th>vol_recharg</th>\n",
       "      <td>vol_recharg</td>\n",
       "      <td>6004.8 to 1.26932E+07</td>\n",
       "      <td>0</td>\n",
       "      <td>3</td>\n",
       "      <td>0</td>\n",
       "      <td>NA</td>\n",
       "      <td>NA</td>\n",
       "    </tr>\n",
       "    <tr>\n",
       "      <th>vol_storage</th>\n",
       "      <td>vol_storage</td>\n",
       "      <td>0 to 5.7607E+06</td>\n",
       "      <td>0</td>\n",
       "      <td>3</td>\n",
       "      <td>0</td>\n",
       "      <td>NA</td>\n",
       "      <td>NA</td>\n",
       "    </tr>\n",
       "    <tr>\n",
       "      <th>vol_stream_</th>\n",
       "      <td>vol_stream_</td>\n",
       "      <td>-7.0472E+06 to -3242.62</td>\n",
       "      <td>0</td>\n",
       "      <td>3</td>\n",
       "      <td>0</td>\n",
       "      <td>NA</td>\n",
       "      <td>NA</td>\n",
       "    </tr>\n",
       "    <tr>\n",
       "      <th>vol_total</th>\n",
       "      <td>vol_total</td>\n",
       "      <td>-2.99658 to  4774</td>\n",
       "      <td>0</td>\n",
       "      <td>3</td>\n",
       "      <td>0</td>\n",
       "      <td>NA</td>\n",
       "      <td>NA</td>\n",
       "    </tr>\n",
       "    <tr>\n",
       "      <th>vol_wells</th>\n",
       "      <td>vol_wells</td>\n",
       "      <td>-8.6964E+06 to -1905.12</td>\n",
       "      <td>0</td>\n",
       "      <td>3</td>\n",
       "      <td>0</td>\n",
       "      <td>NA</td>\n",
       "      <td>NA</td>\n",
       "    </tr>\n",
       "  </tbody>\n",
       "</table>\n",
       "</div>"
      ],
      "text/plain": [
       "                   group                     value  non-zero weight  \\\n",
       "calflux          calflux                    3242.6                1   \n",
       "calhead          calhead        15.7487 to 30.7417               13   \n",
       "flaqx              flaqx         -895.43 to 252.98                0   \n",
       "flout              flout               0 to 7229.3                0   \n",
       "flx_constan  flx_constan      -860.052 to -490.431                0   \n",
       "flx_in-out    flx_in-out         -2.9966 to 1.3086                0   \n",
       "flx_percent  flx_percent            -0.05 to  0.02                0   \n",
       "flx_recharg  flx_recharg            3475 to 6004.8                0   \n",
       "flx_storage  flx_storage              0 to 1578.27                0   \n",
       "flx_stream_  flx_stream_      -3242.62 to -603.149                0   \n",
       "flx_total      flx_total       -2.99658 to 1.30859                0   \n",
       "flx_wells      flx_wells       -2381.4 to -1905.12                0   \n",
       "forecast        forecast       -242.577 to 26272.5                0   \n",
       "pothead          pothead           11.4 to 31.6052                0   \n",
       "vol_constan  vol_constan  -2.70556E+06 to -860.052                0   \n",
       "vol_in-out    vol_in-out          -2.9966 to  4774                0   \n",
       "vol_percent  vol_percent            -0.05 to  0.02                0   \n",
       "vol_recharg  vol_recharg     6004.8 to 1.26932E+07                0   \n",
       "vol_storage  vol_storage           0 to 5.7607E+06                0   \n",
       "vol_stream_  vol_stream_   -7.0472E+06 to -3242.62                0   \n",
       "vol_total      vol_total         -2.99658 to  4774                0   \n",
       "vol_wells      vol_wells   -8.6964E+06 to -1905.12                0   \n",
       "\n",
       "             zero weight weight standard deviation        percent error  \n",
       "calflux                0   0.05                 20             0.616789  \n",
       "calhead                0      5                0.2  0.650582 to 1.26995  \n",
       "flaqx                122      0                 NA                   NA  \n",
       "flout                122      0                 NA                   NA  \n",
       "flx_constan            3      0                 NA                   NA  \n",
       "flx_in-out             3      0                 NA                   NA  \n",
       "flx_percent            3      0                 NA                   NA  \n",
       "flx_recharg            3      0                 NA                   NA  \n",
       "flx_storage            3      0                 NA                   NA  \n",
       "flx_stream_            3      0                 NA                   NA  \n",
       "flx_total              3      0                 NA                   NA  \n",
       "flx_wells              3      0                 NA                   NA  \n",
       "forecast               4      0                 NA                   NA  \n",
       "pothead              703      0                 NA                   NA  \n",
       "vol_constan            3      0                 NA                   NA  \n",
       "vol_in-out             3      0                 NA                   NA  \n",
       "vol_percent            3      0                 NA                   NA  \n",
       "vol_recharg            3      0                 NA                   NA  \n",
       "vol_storage            3      0                 NA                   NA  \n",
       "vol_stream_            3      0                 NA                   NA  \n",
       "vol_total              3      0                 NA                   NA  \n",
       "vol_wells              3      0                 NA                   NA  "
      ]
     },
     "execution_count": 25,
     "metadata": {},
     "output_type": "execute_result"
    }
   ],
   "source": [
    "pst.write_obs_summary_table()"
   ]
  },
  {
   "cell_type": "markdown",
   "metadata": {},
   "source": [
    "### 3.2. Phi and residuals\n",
    "\n",
    "The `Pst` class tries to load a residuals file iduring construction. It looks for a file in the same folder as the control file and with the same base name, but with the extension \".rei\". Alterantaively, you can specify the name of the residual file when constructing the `Pst`. (e.g. `pyemu.Pst(\"controlfile.pst\", resfile=\"residualfile.rei\")`)\n",
    "\n",
    "If that file is found, you can access some pretty cool stuff.  The `Pst.res` attribute is stored as a Pandas DataFrame. \n",
    "\n",
    "Of course, all of this relies on PEST(++) having been run at least once before hand to record the residuals file. For the purposes of this tutorial, we have already done so. When we constructed `pst` at the beggining of this notebook, `pyemu` also loaded the residuals file. \n",
    "\n",
    "Inspect it by running the cell bellow. As you can see, the DataFrame lists all observations and group names, their modelled and measured values, weights and of course the residual:\n"
   ]
  },
  {
   "cell_type": "code",
   "execution_count": 26,
   "metadata": {
    "execution": {
     "iopub.execute_input": "2022-04-08T06:27:06.723558Z",
     "iopub.status.busy": "2022-04-08T06:27:06.721564Z",
     "iopub.status.idle": "2022-04-08T06:27:06.816311Z",
     "shell.execute_reply": "2022-04-08T06:27:06.817308Z"
    }
   },
   "outputs": [
    {
     "data": {
      "text/html": [
       "<div>\n",
       "<style scoped>\n",
       "    .dataframe tbody tr th:only-of-type {\n",
       "        vertical-align: middle;\n",
       "    }\n",
       "\n",
       "    .dataframe tbody tr th {\n",
       "        vertical-align: top;\n",
       "    }\n",
       "\n",
       "    .dataframe thead th {\n",
       "        text-align: right;\n",
       "    }\n",
       "</style>\n",
       "<table border=\"1\" class=\"dataframe\">\n",
       "  <thead>\n",
       "    <tr style=\"text-align: right;\">\n",
       "      <th></th>\n",
       "      <th>name</th>\n",
       "      <th>group</th>\n",
       "      <th>measured</th>\n",
       "      <th>modelled</th>\n",
       "      <th>residual</th>\n",
       "      <th>weight</th>\n",
       "    </tr>\n",
       "    <tr>\n",
       "      <th>name</th>\n",
       "      <th></th>\n",
       "      <th></th>\n",
       "      <th></th>\n",
       "      <th></th>\n",
       "      <th></th>\n",
       "      <th></th>\n",
       "    </tr>\n",
       "  </thead>\n",
       "  <tbody>\n",
       "    <tr>\n",
       "      <th>c001cr03c10_19700102</th>\n",
       "      <td>c001cr03c10_19700102</td>\n",
       "      <td>calhead</td>\n",
       "      <td>26.661526</td>\n",
       "      <td>28.013775</td>\n",
       "      <td>-1.352249</td>\n",
       "      <td>5.0</td>\n",
       "    </tr>\n",
       "    <tr>\n",
       "      <th>c001cr03c16_19700102</th>\n",
       "      <td>c001cr03c16_19700102</td>\n",
       "      <td>calhead</td>\n",
       "      <td>23.460564</td>\n",
       "      <td>24.444290</td>\n",
       "      <td>-0.983726</td>\n",
       "      <td>5.0</td>\n",
       "    </tr>\n",
       "    <tr>\n",
       "      <th>c001cr04c09_19700102</th>\n",
       "      <td>c001cr04c09_19700102</td>\n",
       "      <td>calhead</td>\n",
       "      <td>28.513522</td>\n",
       "      <td>28.513071</td>\n",
       "      <td>0.000451</td>\n",
       "      <td>5.0</td>\n",
       "    </tr>\n",
       "    <tr>\n",
       "      <th>c001cr10c02_19700102</th>\n",
       "      <td>c001cr10c02_19700102</td>\n",
       "      <td>calhead</td>\n",
       "      <td>30.741689</td>\n",
       "      <td>31.881250</td>\n",
       "      <td>-1.139561</td>\n",
       "      <td>5.0</td>\n",
       "    </tr>\n",
       "    <tr>\n",
       "      <th>c001cr14c11_19700102</th>\n",
       "      <td>c001cr14c11_19700102</td>\n",
       "      <td>calhead</td>\n",
       "      <td>25.871208</td>\n",
       "      <td>25.444475</td>\n",
       "      <td>0.426733</td>\n",
       "      <td>5.0</td>\n",
       "    </tr>\n",
       "  </tbody>\n",
       "</table>\n",
       "</div>"
      ],
      "text/plain": [
       "                                      name    group   measured   modelled  \\\n",
       "name                                                                        \n",
       "c001cr03c10_19700102  c001cr03c10_19700102  calhead  26.661526  28.013775   \n",
       "c001cr03c16_19700102  c001cr03c16_19700102  calhead  23.460564  24.444290   \n",
       "c001cr04c09_19700102  c001cr04c09_19700102  calhead  28.513522  28.513071   \n",
       "c001cr10c02_19700102  c001cr10c02_19700102  calhead  30.741689  31.881250   \n",
       "c001cr14c11_19700102  c001cr14c11_19700102  calhead  25.871208  25.444475   \n",
       "\n",
       "                      residual  weight  \n",
       "name                                    \n",
       "c001cr03c10_19700102 -1.352249     5.0  \n",
       "c001cr03c16_19700102 -0.983726     5.0  \n",
       "c001cr04c09_19700102  0.000451     5.0  \n",
       "c001cr10c02_19700102 -1.139561     5.0  \n",
       "c001cr14c11_19700102  0.426733     5.0  "
      ]
     },
     "execution_count": 26,
     "metadata": {},
     "output_type": "execute_result"
    }
   ],
   "source": [
    "pst.res.head()"
   ]
  },
  {
   "cell_type": "markdown",
   "metadata": {},
   "source": [
    "A somewhat clunky (and meaningless) look at everyones favourite \"good fit\" plot:"
   ]
  },
  {
   "cell_type": "code",
   "execution_count": 27,
   "metadata": {
    "execution": {
     "iopub.execute_input": "2022-04-08T06:27:06.827281Z",
     "iopub.status.busy": "2022-04-08T06:27:06.825286Z",
     "iopub.status.idle": "2022-04-08T06:27:07.312983Z",
     "shell.execute_reply": "2022-04-08T06:27:07.313980Z"
    }
   },
   "outputs": [
    {
     "data": {
      "text/plain": [
       "<AxesSubplot:xlabel='measured', ylabel='modelled'>"
      ]
     },
     "execution_count": 27,
     "metadata": {},
     "output_type": "execute_result"
    },
    {
     "data": {
      "image/png": "[encoded data removed]",
      "text/plain": [
       "<Figure size 432x288 with 1 Axes>"
      ]
     },
     "metadata": {
      "needs_background": "light"
     },
     "output_type": "display_data"
    }
   ],
   "source": [
    "pst.res.plot.scatter('measured', 'modelled')"
   ]
  },
  {
   "cell_type": "markdown",
   "metadata": {},
   "source": [
    "Or a clunky look at the residuals for selected observations:"
   ]
  },
  {
   "cell_type": "code",
   "execution_count": 28,
   "metadata": {
    "execution": {
     "iopub.execute_input": "2022-04-08T06:27:07.337916Z",
     "iopub.status.busy": "2022-04-08T06:27:07.335921Z",
     "iopub.status.idle": "2022-04-08T06:27:07.782726Z",
     "shell.execute_reply": "2022-04-08T06:27:07.784721Z"
    }
   },
   "outputs": [
    {
     "data": {
      "text/plain": [
       "<AxesSubplot:xlabel='name'>"
      ]
     },
     "execution_count": 28,
     "metadata": {},
     "output_type": "execute_result"
    },
    {
     "data": {
      "image/png": "[encoded data removed]",
      "text/plain": [
       "<Figure size 432x288 with 1 Axes>"
      ]
     },
     "metadata": {
      "needs_background": "light"
     },
     "output_type": "display_data"
    }
   ],
   "source": [
    "pst.res.iloc[:10].loc[:, 'residual'].plot(kind='bar')"
   ]
  },
  {
   "cell_type": "markdown",
   "metadata": {},
   "source": [
    "There are built in routines for some common plots. These can be called with the `Pst.plot()` method and specifying the `kind` argument. For example, a 1to1 plot for each observation group: "
   ]
  },
  {
   "cell_type": "code",
   "execution_count": 29,
   "metadata": {
    "execution": {
     "iopub.execute_input": "2022-04-08T06:27:07.793697Z",
     "iopub.status.busy": "2022-04-08T06:27:07.792700Z",
     "iopub.status.idle": "2022-04-08T06:27:09.644374Z",
     "shell.execute_reply": "2022-04-08T06:27:09.645372Z"
    }
   },
   "outputs": [
    {
     "data": {
      "text/plain": [
       "<Figure size 576x756 with 0 Axes>"
      ]
     },
     "metadata": {},
     "output_type": "display_data"
    },
    {
     "data": {
      "image/png": "[encoded data removed]",
      "text/plain": [
       "<Figure size 576x756 with 8 Axes>"
      ]
     },
     "metadata": {
      "needs_background": "light"
     },
     "output_type": "display_data"
    }
   ],
   "source": [
    "# 1to1 plots are displayed for each observationg group with non-zero weighted observations\n",
    "pst.plot(kind='1to1');"
   ]
  },
  {
   "cell_type": "markdown",
   "metadata": {},
   "source": [
    "The weighted sum of square residuals (Phi) is also stored in the respective `Pst` attribute. "
   ]
  },
  {
   "cell_type": "code",
   "execution_count": 30,
   "metadata": {
    "execution": {
     "iopub.execute_input": "2022-04-08T06:27:09.656342Z",
     "iopub.status.busy": "2022-04-08T06:27:09.653351Z",
     "iopub.status.idle": "2022-04-08T06:27:09.786651Z",
     "shell.execute_reply": "2022-04-08T06:27:09.786651Z"
    }
   },
   "outputs": [
    {
     "data": {
      "text/plain": [
       "412.55703718999166"
      ]
     },
     "execution_count": 30,
     "metadata": {},
     "output_type": "execute_result"
    }
   ],
   "source": [
    "# the value of the objective function\n",
    "pst.phi"
   ]
  },
  {
   "cell_type": "markdown",
   "metadata": {},
   "source": [
    "We can access the components of the objective function as a dictionary. These allow us to breakdown the contributions to Phi from each observation group:"
   ]
  },
  {
   "cell_type": "code",
   "execution_count": 31,
   "metadata": {
    "execution": {
     "iopub.execute_input": "2022-04-08T06:27:09.795626Z",
     "iopub.status.busy": "2022-04-08T06:27:09.793631Z",
     "iopub.status.idle": "2022-04-08T06:27:09.920292Z",
     "shell.execute_reply": "2022-04-08T06:27:09.920292Z"
    }
   },
   "outputs": [
    {
     "data": {
      "text/plain": [
       "{'calflux': 0.6560999999999854,\n",
       " 'calhead': 411.9009371899917,\n",
       " 'flaqx': 0.0,\n",
       " 'flout': 0.0,\n",
       " 'flx_constan': 0.0,\n",
       " 'flx_in-out': 0.0,\n",
       " 'flx_percent': 0.0,\n",
       " 'flx_recharg': 0.0,\n",
       " 'flx_storage': 0.0,\n",
       " 'flx_stream_': 0.0,\n",
       " 'flx_total': 0.0,\n",
       " 'flx_wells': 0.0,\n",
       " 'forecast': 0.0,\n",
       " 'pothead': 0.0,\n",
       " 'vol_constan': 0.0,\n",
       " 'vol_in-out': 0.0,\n",
       " 'vol_percent': 0.0,\n",
       " 'vol_recharg': 0.0,\n",
       " 'vol_storage': 0.0,\n",
       " 'vol_stream_': 0.0,\n",
       " 'vol_total': 0.0,\n",
       " 'vol_wells': 0.0}"
      ]
     },
     "execution_count": 31,
     "metadata": {},
     "output_type": "execute_result"
    }
   ],
   "source": [
    "# observation group contributions to Phi\n",
    "pst.phi_components"
   ]
  },
  {
   "cell_type": "markdown",
   "metadata": {},
   "source": [
    "They can also be displayed with a plot, like so:"
   ]
  },
  {
   "cell_type": "code",
   "execution_count": 32,
   "metadata": {
    "execution": {
     "iopub.execute_input": "2022-04-08T06:27:09.926276Z",
     "iopub.status.busy": "2022-04-08T06:27:09.925279Z",
     "iopub.status.idle": "2022-04-08T06:27:10.572414Z",
     "shell.execute_reply": "2022-04-08T06:27:10.573412Z"
    }
   },
   "outputs": [
    {
     "name": "stdout",
     "output_type": "stream",
     "text": [
      "412.55703718999166 {'calflux': 0.6560999999999854, 'calhead': 411.9009371899917, 'flaqx': 0.0, 'flout': 0.0, 'flx_constan': 0.0, 'flx_in-out': 0.0, 'flx_percent': 0.0, 'flx_recharg': 0.0, 'flx_storage': 0.0, 'flx_stream_': 0.0, 'flx_total': 0.0, 'flx_wells': 0.0, 'forecast': 0.0, 'pothead': 0.0, 'vol_constan': 0.0, 'vol_in-out': 0.0, 'vol_percent': 0.0, 'vol_recharg': 0.0, 'vol_storage': 0.0, 'vol_stream_': 0.0, 'vol_total': 0.0, 'vol_wells': 0.0} {'calflux': 0.0015903255570885748, 'calhead': 0.9984096744429114, 'flaqx': 0.0, 'flout': 0.0, 'flx_constan': 0.0, 'flx_in-out': 0.0, 'flx_percent': 0.0, 'flx_recharg': 0.0, 'flx_storage': 0.0, 'flx_stream_': 0.0, 'flx_total': 0.0, 'flx_wells': 0.0, 'forecast': 0.0, 'pothead': 0.0, 'vol_constan': 0.0, 'vol_in-out': 0.0, 'vol_percent': 0.0, 'vol_recharg': 0.0, 'vol_storage': 0.0, 'vol_stream_': 0.0, 'vol_total': 0.0, 'vol_wells': 0.0}\n"
     ]
    },
    {
     "data": {
      "image/png": "[encoded data removed]",
      "text/plain": [
       "<Figure size 576x756 with 1 Axes>"
      ]
     },
     "metadata": {},
     "output_type": "display_data"
    }
   ],
   "source": [
    "pst.plot(kind=\"phi_pie\");"
   ]
  },
  {
   "cell_type": "markdown",
   "metadata": {},
   "source": [
    "These values can be recalculated for different observation weights by simply changing the weights in the `pst.observation_data`. No need to re-run PEST!"
   ]
  },
  {
   "cell_type": "code",
   "execution_count": 33,
   "metadata": {
    "execution": {
     "iopub.execute_input": "2022-04-08T06:27:10.599342Z",
     "iopub.status.busy": "2022-04-08T06:27:10.594355Z",
     "iopub.status.idle": "2022-04-08T06:27:10.721016Z",
     "shell.execute_reply": "2022-04-08T06:27:10.720020Z"
    }
   },
   "outputs": [
    {
     "data": {
      "text/plain": [
       "{'calflux': 262.4399999999941,\n",
       " 'calhead': 16.476037487599665,\n",
       " 'flaqx': 1833954.6605177554,\n",
       " 'flout': 197878154.4605563,\n",
       " 'flx_constan': 676008.59199331,\n",
       " 'flx_in-out': 1891.6393557325607,\n",
       " 'flx_percent': 0.3906,\n",
       " 'flx_recharg': 13715682.302664,\n",
       " 'flx_storage': 1790807.6099523597,\n",
       " 'flx_stream_': 4606580.736118089,\n",
       " 'flx_total': 1891.6432934656098,\n",
       " 'flx_wells': 9002.21440000002,\n",
       " 'forecast': 35650091.62401858,\n",
       " 'pothead': 331.3388554798862,\n",
       " 'vol_constan': 4632350392780.079,\n",
       " 'vol_in-out': 2194665563.259239,\n",
       " 'vol_percent': 0.40590000000000004,\n",
       " 'vol_recharg': 181050529666933.2,\n",
       " 'vol_storage': 47716024806972.54,\n",
       " 'vol_stream_': 18909905120606.703,\n",
       " 'vol_total': 2194665563.2629757,\n",
       " 'vol_wells': 27052.21440000002}"
      ]
     },
     "execution_count": 33,
     "metadata": {},
     "output_type": "execute_result"
    }
   ],
   "source": [
    "obs = pst.observation_data\n",
    "# change all observation weights\n",
    "obs['weight'] = 1.0\n",
    "\n",
    "# check the phi contributions again; compare to vaues displayed above\n",
    "pst.phi_components"
   ]
  },
  {
   "cell_type": "markdown",
   "metadata": {},
   "source": [
    "### 3.3. Adjusting Weights for \"Visibility\"\n",
    "\n",
    "Prior to estimating parameters using PEST(++), a user must decide how to weight observations. In some\n",
    "cases, it is wise to weight observations strictly according to the inverse of the standard deviation of\n",
    "measurement noise. Certainly, observations of greater credibility should be given greater weights\n",
    "than those of lower credibility. \n",
    "\n",
    "However, when history-matching, this approach can result in the loss of information contained in some observations, due to their contribution to the objective function being over-shadowed by the contribution from other obsevrations. An alternative approach is to weight observations (or observation groups) such that, at the start of the history-matching process, they each contribute the same amount to the objective function. The information content of each of these groups is thereby given equal right of entry to the parameter estimation process. (This matter is extensively discussed in the PEST Book.)\n",
    "\n",
    "As stated above, a practical means of accommodating this situation is to weight all observation groups\n",
    "such that they contribute an equal amount to the starting measurement objective function. In this\n",
    "manner, no single group dominates the objective function, or is dominated by others; the information\n",
    "contained in each group is therefore equally “visible” to PEST(++).\n",
    "\n",
    "The `Pst.adjust_weights()` method provides a mechanism to fine tune observation weights according to their contribution to the objective function. (*Side note: the PWTADJ1 utility from the PEST-suite automates this same process of \"weighting for visibility\".*) \n",
    "\n",
    "Some **caution** is required here. Observation weights and how these pertain to history-matching *versus* how they pertain to generating an observation ensemble for use with `pestpp-ies` is a frequent source of confusion.\n",
    "\n",
    " - when **history-matching**, observation weights listed in the control file determine their contribution to the objective function, and therefore to the parameter estiamtion process. Here, observation weights may be assigned to reflect observation uncertainty, the balance required for equal \"visibility\", or other modeller-defined (and perhaps subjective...) measures of observation worth.  \n",
    " - when **generating an observation ensemble**, weights should reflect the inverse of the standard deviation of measurement noise. However, unless instructed otherwise, `pestpp-ies` will generate the observation ensemble *using observation weights in the PEST control file*. Therefore, when history-matching with `pestpp-ies` and using weights that **do not** reflect observation uncertainty, it is important to provide `pestpp-ies` with a previously prepared observation ensemble (we will demonstrate this further on).\n",
    "\n",
    "OK, so let's adjust some observation weights using `Pst.adjust_weights()`. This method allows us to adjust weights for individual observations, or for entire observation groups. We do so by passing a dictionary with observation names (or group names) as keys, and the correspding value they contribute to the objective function as values.\n",
    "\n",
    "Let's get started."
   ]
  },
  {
   "cell_type": "code",
   "execution_count": 34,
   "metadata": {
    "execution": {
     "iopub.execute_input": "2022-04-08T06:27:10.727000Z",
     "iopub.status.busy": "2022-04-08T06:27:10.726002Z",
     "iopub.status.idle": "2022-04-08T06:27:10.871881Z",
     "shell.execute_reply": "2022-04-08T06:27:10.870884Z"
    }
   },
   "outputs": [
    {
     "data": {
      "text/plain": [
       "{'calflux': 262.4399999999941,\n",
       " 'calhead': 16.476037487599665,\n",
       " 'flaqx': 1833954.6605177554,\n",
       " 'flout': 197878154.4605563,\n",
       " 'flx_constan': 676008.59199331,\n",
       " 'flx_in-out': 1891.6393557325607,\n",
       " 'flx_percent': 0.3906,\n",
       " 'flx_recharg': 13715682.302664,\n",
       " 'flx_storage': 1790807.6099523597,\n",
       " 'flx_stream_': 4606580.736118089,\n",
       " 'flx_total': 1891.6432934656098,\n",
       " 'flx_wells': 9002.21440000002,\n",
       " 'forecast': 35650091.62401858,\n",
       " 'pothead': 331.3388554798862,\n",
       " 'vol_constan': 4632350392780.079,\n",
       " 'vol_in-out': 2194665563.259239,\n",
       " 'vol_percent': 0.40590000000000004,\n",
       " 'vol_recharg': 181050529666933.2,\n",
       " 'vol_storage': 47716024806972.54,\n",
       " 'vol_stream_': 18909905120606.703,\n",
       " 'vol_total': 2194665563.2629757,\n",
       " 'vol_wells': 27052.21440000002}"
      ]
     },
     "execution_count": 34,
     "metadata": {},
     "output_type": "execute_result"
    }
   ],
   "source": [
    "# check the phi contributions\n",
    "pst.phi_components"
   ]
  },
  {
   "cell_type": "markdown",
   "metadata": {},
   "source": [
    "Now, let's create the dictionary of non-zero weighted observation groups. We will specify that we want each group to contribute a value of 100 to the objective function. (Why 100? No particular reason. Could just as easily be 1000. Or 578. Doesn't really matter. 100 is a nice round number though.)"
   ]
  },
  {
   "cell_type": "code",
   "execution_count": 35,
   "metadata": {
    "execution": {
     "iopub.execute_input": "2022-04-08T06:27:10.881855Z",
     "iopub.status.busy": "2022-04-08T06:27:10.880858Z",
     "iopub.status.idle": "2022-04-08T06:27:10.886841Z",
     "shell.execute_reply": "2022-04-08T06:27:10.885844Z"
    }
   },
   "outputs": [
    {
     "data": {
      "text/plain": [
       "{'calhead': 100,\n",
       " 'forecast': 100,\n",
       " 'pothead': 100,\n",
       " 'flaqx': 100,\n",
       " 'flx_constan': 100,\n",
       " 'flx_in-out': 100,\n",
       " 'flx_percent': 100,\n",
       " 'flx_recharg': 100,\n",
       " 'flx_storage': 100,\n",
       " 'flx_stream_': 100,\n",
       " 'flx_total': 100,\n",
       " 'flx_wells': 100,\n",
       " 'flout': 100,\n",
       " 'calflux': 100,\n",
       " 'vol_constan': 100,\n",
       " 'vol_in-out': 100,\n",
       " 'vol_percent': 100,\n",
       " 'vol_recharg': 100,\n",
       " 'vol_storage': 100,\n",
       " 'vol_stream_': 100,\n",
       " 'vol_total': 100,\n",
       " 'vol_wells': 100}"
      ]
     },
     "execution_count": 35,
     "metadata": {},
     "output_type": "execute_result"
    }
   ],
   "source": [
    "balanced_groups = {grp:100 for grp in pst.nnz_obs_groups}\n",
    "balanced_groups"
   ]
  },
  {
   "cell_type": "markdown",
   "metadata": {},
   "source": [
    "Now we can simply pass this dictionary as an argument:"
   ]
  },
  {
   "cell_type": "code",
   "execution_count": 36,
   "metadata": {
    "execution": {
     "iopub.execute_input": "2022-04-08T06:27:10.896815Z",
     "iopub.status.busy": "2022-04-08T06:27:10.895817Z",
     "iopub.status.idle": "2022-04-08T06:27:11.012429Z",
     "shell.execute_reply": "2022-04-08T06:27:11.012429Z"
    }
   },
   "outputs": [],
   "source": [
    "# make all non-zero weighted groups have a contribution of 100.0\n",
    "pst.adjust_weights(obsgrp_dict=balanced_groups,)"
   ]
  },
  {
   "cell_type": "markdown",
   "metadata": {},
   "source": [
    "And voila. Run the cell below to see that phi components form each group are (roughly) 100. The same approach can be implemented for individual observations (see the `obs_dict` argument in `pst.adjust_weights()`). "
   ]
  },
  {
   "cell_type": "code",
   "execution_count": 37,
   "metadata": {
    "execution": {
     "iopub.execute_input": "2022-04-08T06:27:11.058307Z",
     "iopub.status.busy": "2022-04-08T06:27:11.019719Z",
     "iopub.status.idle": "2022-04-08T06:27:11.155048Z",
     "shell.execute_reply": "2022-04-08T06:27:11.154051Z"
    }
   },
   "outputs": [
    {
     "data": {
      "text/plain": [
       "{'calflux': 100.0,\n",
       " 'calhead': 100.00000000000001,\n",
       " 'flaqx': 100.00000000000003,\n",
       " 'flout': 99.99999999999999,\n",
       " 'flx_constan': 100.0,\n",
       " 'flx_in-out': 100.00000000000001,\n",
       " 'flx_percent': 99.99999999999999,\n",
       " 'flx_recharg': 99.99999999999997,\n",
       " 'flx_storage': 100.0,\n",
       " 'flx_stream_': 100.00000000000001,\n",
       " 'flx_total': 100.00000000000001,\n",
       " 'flx_wells': 100.0,\n",
       " 'forecast': 100.00000000000003,\n",
       " 'pothead': 100.00000000000001,\n",
       " 'vol_constan': 100.00000000000001,\n",
       " 'vol_in-out': 100.0,\n",
       " 'vol_percent': 99.99999999999999,\n",
       " 'vol_recharg': 100.00000000000001,\n",
       " 'vol_storage': 100.00000000000001,\n",
       " 'vol_stream_': 99.99999999999997,\n",
       " 'vol_total': 100.00000000000003,\n",
       " 'vol_wells': 100.00000000000001}"
      ]
     },
     "execution_count": 37,
     "metadata": {},
     "output_type": "execute_result"
    }
   ],
   "source": [
    "# check the phi contributions; comapre to those above\n",
    "pst.phi_components"
   ]
  },
  {
   "cell_type": "code",
   "execution_count": 38,
   "metadata": {
    "execution": {
     "iopub.execute_input": "2022-04-08T06:27:11.160035Z",
     "iopub.status.busy": "2022-04-08T06:27:11.160035Z",
     "iopub.status.idle": "2022-04-08T06:27:12.429844Z",
     "shell.execute_reply": "2022-04-08T06:27:12.430841Z"
    }
   },
   "outputs": [
    {
     "name": "stdout",
     "output_type": "stream",
     "text": [
      "2200.0 {'calflux': 100.0, 'calhead': 100.00000000000001, 'flaqx': 100.00000000000003, 'flout': 99.99999999999999, 'flx_constan': 100.0, 'flx_in-out': 100.00000000000001, 'flx_percent': 99.99999999999999, 'flx_recharg': 99.99999999999997, 'flx_storage': 100.0, 'flx_stream_': 100.00000000000001, 'flx_total': 100.00000000000001, 'flx_wells': 100.0, 'forecast': 100.00000000000003, 'pothead': 100.00000000000001, 'vol_constan': 100.00000000000001, 'vol_in-out': 100.0, 'vol_percent': 99.99999999999999, 'vol_recharg': 100.00000000000001, 'vol_storage': 100.00000000000001, 'vol_stream_': 99.99999999999997, 'vol_total': 100.00000000000003, 'vol_wells': 100.00000000000001} {'calflux': 0.045454545454545456, 'calhead': 0.04545454545454546, 'flaqx': 0.04545454545454547, 'flout': 0.04545454545454545, 'flx_constan': 0.045454545454545456, 'flx_in-out': 0.04545454545454546, 'flx_percent': 0.04545454545454545, 'flx_recharg': 0.04545454545454544, 'flx_storage': 0.045454545454545456, 'flx_stream_': 0.04545454545454546, 'flx_total': 0.04545454545454546, 'flx_wells': 0.045454545454545456, 'forecast': 0.04545454545454547, 'pothead': 0.04545454545454546, 'vol_constan': 0.04545454545454546, 'vol_in-out': 0.045454545454545456, 'vol_percent': 0.04545454545454545, 'vol_recharg': 0.04545454545454546, 'vol_storage': 0.04545454545454546, 'vol_stream_': 0.04545454545454544, 'vol_total': 0.04545454545454547, 'vol_wells': 0.04545454545454546}\n"
     ]
    },
    {
     "data": {
      "image/png": "[encoded data removed]",
      "text/plain": [
       "<Figure size 576x756 with 1 Axes>"
      ]
     },
     "metadata": {},
     "output_type": "display_data"
    }
   ],
   "source": [
    "# comapre this plot to the one we generated earlier; this one is much more balanced\n",
    "pst.plot(kind=\"phi_pie\");"
   ]
  },
  {
   "cell_type": "markdown",
   "metadata": {},
   "source": [
    "### 3.4. Discrepancy based weight adjustment\n",
    "\n",
    "In a perfect (model and algorithm) world, we would acheive a final objective function that is equal to the number of (non-zero weighted) observations. But because of model error and simplifying assumptions in the algorithms we use for history matching, this is rarely the case.  More often, the final objective function is much larger than the number of observations.  This implies that we were not able to \"fit\" as well as we thought we could (where \"thought\" is incapsulated in the observations weights in the control file, representing the inverse of measurment noise).  This really matters when we do posterior uncertainty analyses following a PEST run (this will be discussed further in the FOSM and data-worth notebooks). \n",
    "\n",
    "The simpliest way to try to rectify this situation is to adjust the weights in the control file so that the resulting contribution to the objective function from each observation (or optional observation group) is equal to 1 (or the number of members of the group).  This is related to Morozov's discrepancy principal (google it!).  `pyEMU` has a built in routine to help with this: `Pst.adjust_weights_discrepancy()` - great name!\n",
    "\n",
    "*Note 1: dont make this adjustment until after you are through with history matching! The point is for weights to represent the inverse of observation uncertainty, which includes both measurement error **and** model error.*\n",
    "\n",
    "*Note 2: the PWTADJ2 utility from the PEST-suite acomplishes a similar task.*  "
   ]
  },
  {
   "cell_type": "code",
   "execution_count": 39,
   "metadata": {
    "execution": {
     "iopub.execute_input": "2022-04-08T06:27:12.440815Z",
     "iopub.status.busy": "2022-04-08T06:27:12.438820Z",
     "iopub.status.idle": "2022-04-08T06:27:12.668209Z",
     "shell.execute_reply": "2022-04-08T06:27:12.667209Z"
    }
   },
   "outputs": [
    {
     "data": {
      "text/plain": [
       "(2200.0, 1013)"
      ]
     },
     "execution_count": 39,
     "metadata": {},
     "output_type": "execute_result"
    }
   ],
   "source": [
    "# see current phi and the number of non-zero observations\n",
    "pst.phi, pst.nnz_obs"
   ]
  },
  {
   "cell_type": "code",
   "execution_count": 40,
   "metadata": {
    "execution": {
     "iopub.execute_input": "2022-04-08T06:27:12.682170Z",
     "iopub.status.busy": "2022-04-08T06:27:12.677183Z",
     "iopub.status.idle": "2022-04-08T06:27:12.904574Z",
     "shell.execute_reply": "2022-04-08T06:27:12.905573Z"
    }
   },
   "outputs": [
    {
     "data": {
      "text/plain": [
       "211.53558969631914"
      ]
     },
     "execution_count": 40,
     "metadata": {},
     "output_type": "execute_result"
    }
   ],
   "source": [
    "pst.adjust_weights_discrepancy(original_ceiling=True) # default\n",
    "# check the resulting phi\n",
    "pst.phi"
   ]
  },
  {
   "cell_type": "markdown",
   "metadata": {},
   "source": [
    "So we were expecting Phi to be equal to `nnz_obs` (number of non zero observations). This did not happen due to the `original_ceiling` argument being set to `True` (which is the default value).\n",
    "\n",
    "What this means is that, for some observations, weights would have to be *increased* to achieve a contribution to Phi of 1.0. Which is illogical if the original weight is assumed to be the inverse of the measurement noise. In some cases, this requirement may not apply; such as when observatons are weighted for visibility."
   ]
  },
  {
   "cell_type": "markdown",
   "metadata": {},
   "source": [
    "### 4. Geostatistics in pyEMU\n",
    "\n",
    "The `pyemu.geostats` module provides tools for implementing geostatistics in the `pyemu` world. These have similar functions to the PPCOV* utilities from the PEST suite. \n",
    "\n",
    "In the PEST world, geostatistics are used (1) to describe how parameters vary in space and/or time and (2) when assigning parameter values from pilot points to model input files. Front-end users will mostly be interested in the former. A separate tutorial notebook delves into geostatistics in greater detail. The \"freyberg pest setup\" tutorials provide examples of their use in the wild.\n",
    "\n",
    "At the heart of geostatistics is some kind of model expressing the variability of properties in a field. This is a \"variogram\". `pyemu` supports spherical, exponential and gaussian variograms."
   ]
  },
  {
   "cell_type": "code",
   "execution_count": 41,
   "metadata": {
    "execution": {
     "iopub.execute_input": "2022-04-08T06:27:12.915544Z",
     "iopub.status.busy": "2022-04-08T06:27:12.914547Z",
     "iopub.status.idle": "2022-04-08T06:27:12.919683Z",
     "shell.execute_reply": "2022-04-08T06:27:12.918536Z"
    }
   },
   "outputs": [],
   "source": [
    "# exponential variogram for spatially varying parameters\n",
    "v = pyemu.geostats.ExpVario(contribution=1.0, #sill\n",
    "                                    a=1000, # range of correlation\n",
    "                                    anisotropy=1.0, #name says it all\n",
    "                                    bearing=0.0 #angle in degrees East of North corresponding to anisotropy ellipse\n",
    "                                    )"
   ]
  },
  {
   "cell_type": "code",
   "execution_count": 42,
   "metadata": {
    "execution": {
     "iopub.execute_input": "2022-04-08T06:27:12.929019Z",
     "iopub.status.busy": "2022-04-08T06:27:12.927511Z",
     "iopub.status.idle": "2022-04-08T06:27:12.931013Z",
     "shell.execute_reply": "2022-04-08T06:27:12.932010Z"
    }
   },
   "outputs": [],
   "source": [
    "# spherical variogram for spatially varying parameters\n",
    "v2 = pyemu.geostats.SphVario(contribution=1.0, #sill\n",
    "                                    a=500, # range of correlation\n",
    "                                    anisotropy=1.5, #name says it all\n",
    "                                    bearing=45.0, #angle in degrees East of North corresponding to anisotropy ellipse\n",
    "                                    name='var2') #optional name"
   ]
  },
  {
   "cell_type": "markdown",
   "metadata": {},
   "source": [
    "A `pyemu`  geostatistical structure object that mimics the behavior of a PEST geostatistical structure (see the PEST manual for details).  The object contains variogram instances, information on parameter transforms and\n",
    "(optionally) nugget information. Multiple nested variograms are supported."
   ]
  },
  {
   "cell_type": "code",
   "execution_count": 43,
   "metadata": {
    "execution": {
     "iopub.execute_input": "2022-04-08T06:27:12.958938Z",
     "iopub.status.busy": "2022-04-08T06:27:12.938992Z",
     "iopub.status.idle": "2022-04-08T06:27:13.428788Z",
     "shell.execute_reply": "2022-04-08T06:27:13.429786Z"
    }
   },
   "outputs": [
    {
     "data": {
      "text/plain": [
       "<AxesSubplot:xlabel='distance', ylabel='$\\\\gamma$'>"
      ]
     },
     "execution_count": 43,
     "metadata": {},
     "output_type": "execute_result"
    },
    {
     "data": {
      "image/png": "[encoded data removed]",
      "text/plain": [
       "<Figure size 432x288 with 1 Axes>"
      ]
     },
     "metadata": {
      "needs_background": "light"
     },
     "output_type": "display_data"
    }
   ],
   "source": [
    "# geostatistical structure for spatially varying parameters\n",
    "gs = pyemu.geostats.GeoStruct(variograms=[v], transform='log') \n",
    "\n",
    "# plot the gs if you like:\n",
    "gs.plot()"
   ]
  },
  {
   "cell_type": "markdown",
   "metadata": {},
   "source": [
    "Using the geostatistical structure (or a variogram), a covariance matrix describing the statistical relationship between spatialy distributed parameters can be constructed. These covariance matrices are used (1) to describe prior parameter probability distributions, and (2) specifying the weights of prior information equations as a regularisation device. \n",
    "\n",
    "For example, let's create a covariance matrix for a set of pilot point parameters from the `gs` structure. This requires a list of X and Y coordinates. Let's make use of the coordinates from a pilot points file in the `f_d` folder.\n",
    "\n",
    "First, read the pilot points file to get X and Y values:"
   ]
  },
  {
   "cell_type": "code",
   "execution_count": 44,
   "metadata": {
    "execution": {
     "iopub.execute_input": "2022-04-08T06:27:13.438761Z",
     "iopub.status.busy": "2022-04-08T06:27:13.436768Z",
     "iopub.status.idle": "2022-04-08T06:27:13.463694Z",
     "shell.execute_reply": "2022-04-08T06:27:13.464691Z"
    }
   },
   "outputs": [
    {
     "data": {
      "text/html": [
       "<div>\n",
       "<style scoped>\n",
       "    .dataframe tbody tr th:only-of-type {\n",
       "        vertical-align: middle;\n",
       "    }\n",
       "\n",
       "    .dataframe tbody tr th {\n",
       "        vertical-align: top;\n",
       "    }\n",
       "\n",
       "    .dataframe thead th {\n",
       "        text-align: right;\n",
       "    }\n",
       "</style>\n",
       "<table border=\"1\" class=\"dataframe\">\n",
       "  <thead>\n",
       "    <tr style=\"text-align: right;\">\n",
       "      <th></th>\n",
       "      <th>name</th>\n",
       "      <th>x</th>\n",
       "      <th>y</th>\n",
       "      <th>zone</th>\n",
       "      <th>parnme</th>\n",
       "    </tr>\n",
       "  </thead>\n",
       "  <tbody>\n",
       "    <tr>\n",
       "      <th>0</th>\n",
       "      <td>pp_0000</td>\n",
       "      <td>625.0</td>\n",
       "      <td>9375.0</td>\n",
       "      <td>1</td>\n",
       "      <td>hk00</td>\n",
       "    </tr>\n",
       "    <tr>\n",
       "      <th>1</th>\n",
       "      <td>pp_0001</td>\n",
       "      <td>1625.0</td>\n",
       "      <td>9375.0</td>\n",
       "      <td>1</td>\n",
       "      <td>hk01</td>\n",
       "    </tr>\n",
       "    <tr>\n",
       "      <th>2</th>\n",
       "      <td>pp_0002</td>\n",
       "      <td>2625.0</td>\n",
       "      <td>9375.0</td>\n",
       "      <td>1</td>\n",
       "      <td>hk02</td>\n",
       "    </tr>\n",
       "    <tr>\n",
       "      <th>3</th>\n",
       "      <td>pp_0003</td>\n",
       "      <td>3625.0</td>\n",
       "      <td>9375.0</td>\n",
       "      <td>1</td>\n",
       "      <td>hk03</td>\n",
       "    </tr>\n",
       "    <tr>\n",
       "      <th>4</th>\n",
       "      <td>pp_0004</td>\n",
       "      <td>625.0</td>\n",
       "      <td>8375.0</td>\n",
       "      <td>1</td>\n",
       "      <td>hk04</td>\n",
       "    </tr>\n",
       "  </tbody>\n",
       "</table>\n",
       "</div>"
      ],
      "text/plain": [
       "      name       x       y  zone parnme\n",
       "0  pp_0000   625.0  9375.0     1   hk00\n",
       "1  pp_0001  1625.0  9375.0     1   hk01\n",
       "2  pp_0002  2625.0  9375.0     1   hk02\n",
       "3  pp_0003  3625.0  9375.0     1   hk03\n",
       "4  pp_0004   625.0  8375.0     1   hk04"
      ]
     },
     "execution_count": 44,
     "metadata": {},
     "output_type": "execute_result"
    }
   ],
   "source": [
    "df = pyemu.pp_utils.pp_tpl_to_dataframe(os.path.join(f_d,\"hkpp.dat.tpl\"))\n",
    "df.head()"
   ]
  },
  {
   "cell_type": "markdown",
   "metadata": {},
   "source": [
    "Now simply pass the respective values from the pilot points file as arguments to `gs.covariance_matrix()`. Conveniently, we can also take the parameter names from the pilot point file. This returns a `pyemu.Cov` object (which we will discuss later). The same can be complished with a single variogram (e.g. `v.covariance_matrix()`)"
   ]
  },
  {
   "cell_type": "code",
   "execution_count": 45,
   "metadata": {
    "execution": {
     "iopub.execute_input": "2022-04-08T06:27:13.474665Z",
     "iopub.status.busy": "2022-04-08T06:27:13.472670Z",
     "iopub.status.idle": "2022-04-08T06:27:13.477657Z",
     "shell.execute_reply": "2022-04-08T06:27:13.476660Z"
    }
   },
   "outputs": [],
   "source": [
    "cov = gs.covariance_matrix(x=df.x, y=df.y, names=df.name)"
   ]
  },
  {
   "cell_type": "code",
   "execution_count": 46,
   "metadata": {
    "execution": {
     "iopub.execute_input": "2022-04-08T06:27:13.517551Z",
     "iopub.status.busy": "2022-04-08T06:27:13.514558Z",
     "iopub.status.idle": "2022-04-08T06:27:13.876624Z",
     "shell.execute_reply": "2022-04-08T06:27:13.876624Z"
    }
   },
   "outputs": [
    {
     "data": {
      "text/plain": [
       "<matplotlib.colorbar.Colorbar at 0x1edebc01f48>"
      ]
     },
     "execution_count": 46,
     "metadata": {},
     "output_type": "execute_result"
    },
    {
     "data": {
      "image/png": "[encoded data removed]",
      "text/plain": [
       "<Figure size 432x288 with 2 Axes>"
      ]
     },
     "metadata": {
      "needs_background": "light"
     },
     "output_type": "display_data"
    }
   ],
   "source": [
    "# just for a bit of eye-candy; bright yellow indicates higher covariance.\n",
    "c = plt.imshow(cov.x)\n",
    "plt.colorbar(c)"
   ]
  },
  {
   "cell_type": "markdown",
   "metadata": {},
   "source": [
    "We can do the same thing for a 1-D sequence (think time-series), to get a covariance matrix for parameters distributed in time:"
   ]
  },
  {
   "cell_type": "code",
   "execution_count": 47,
   "metadata": {
    "execution": {
     "iopub.execute_input": "2022-04-08T06:27:13.910534Z",
     "iopub.status.busy": "2022-04-08T06:27:13.909536Z",
     "iopub.status.idle": "2022-04-08T06:27:14.115502Z",
     "shell.execute_reply": "2022-04-08T06:27:14.116500Z"
    }
   },
   "outputs": [
    {
     "data": {
      "text/plain": [
       "<matplotlib.image.AxesImage at 0x1edebd03e08>"
      ]
     },
     "execution_count": 47,
     "metadata": {},
     "output_type": "execute_result"
    },
    {
     "data": {
      "image/png": "[encoded data removed]",
      "text/plain": [
       "<Figure size 432x288 with 1 Axes>"
      ]
     },
     "metadata": {
      "needs_background": "light"
     },
     "output_type": "display_data"
    }
   ],
   "source": [
    "# let's make up a time-series\n",
    "times = np.arange(0,365,1) # this is the \"X\" coordinate\n",
    "y = np.ones_like(times)    # this is the \"Y\" coordinate\n",
    "names = [\"t_\"+str(t) for t in times] # 'parameter\" names\n",
    "\n",
    "# make the variogram\n",
    "exp_vario = pyemu.geostats.ExpVario(contribution=1.0,\n",
    "                                    a=5 #range in time units (e.g. days)\n",
    "                                    )\n",
    "cov_t = exp_vario.covariance_matrix(times,y,names)\n",
    "plt.imshow(cov_t.x)"
   ]
  },
  {
   "cell_type": "markdown",
   "metadata": {},
   "source": [
    "### 5. Prior Information Equations\n",
    "\n",
    "The mathematical term for the process through which a unique solution is sought for a nonunique\n",
    "inverse problem is “regularisation”. The goal of regularised inversion is to seek a unique parameter\n",
    "field that results in a suitable fit between model outputs and field measurements, whilst minimizing\n",
    "the potential for wrongness in model predictions. That is, out of all the ways to fit a calibration dataset, regularized inversion seeks the parameter set of minimum error variance. (*Regularisation is discussed in greater detail in a separate notebook.*)\n",
    "\n",
    "One way to seek a parameter field of minimum error variance is to seek a parameter field that allows\n",
    "the model to fit the calibration dataset, but whose values are also as close as possible to a set of\n",
    "“preferred parameter values”. Ideally, preferred parameter values should also be initial parameter\n",
    "values as listed in the “parameter data” section of the PEST control file. These preferred parameter\n",
    "values are normally close to the centre of the prior parameter probability distribution. At the same\n",
    "time, scales and patterns of departures from the preferred parameter set that are required for model\n",
    "outputs to fit a calibration dataset should be achieved in ways that make “geological sense”.\n",
    "\n",
    "PEST provides a user with a great deal of flexibility in how Tikhonov constraints can be introduced to\n",
    "an inversion process. The easiest way is to do this is through the use of prior information equations.\n",
    "When prior information equations are employed, Tikhonov constraints are expressed through\n",
    "preferred values that are assigned to linear relationships between parameters. (Equality is the simplest type of linear relationship.) Weights must be assigned to these equations. As is described in PEST documentation, when PEST is run in “regularisation” mode, it makes internal adjustments to the weights that are assigned to any observations or prior information equations that belong to special observation groups that are referred to as “regularisation groups”.\n",
    "\n",
    "As for non-regularisation observations and prior information equations, weights can be replaced by\n",
    "covariance matrices. These are rarely used with normal observations. However when observations\n",
    "or prior information equations embody Tikhonov constraints, they can be used to ensure that patterns\n",
    "of parameter heterogeneity that emerge from the inversion process are geologically reasonable.\n",
    "Covariance matrices are preferred over weights for prior information equations that embody Tikhonov\n",
    "constraints. \n",
    "\n",
    "*Note: in a similar manner, the PEST-utilities ADDREG1 and ADDREG2 also automate the addition of prior information equations to a PEST-control file.*"
   ]
  },
  {
   "cell_type": "markdown",
   "metadata": {},
   "source": [
    "### 5.1. Preffered value or Zero Order Tikhonov\n",
    "\n",
    "`pyemu` provides utilities to apply preferred value prior equations to a PEST control file. Note though, pyemu doesn't call it \"preferred value\"! Rather, it uses the mathematical term \"Zero Order Tikhonov\".\n",
    "\n",
    "Before we do so, we can inspect the control file \"* prior information\" section. As you may have guessed, this is accessed using the `pst.prior_information` attribute, which returns a `DataFrame`:\n"
   ]
  },
  {
   "cell_type": "code",
   "execution_count": 48,
   "metadata": {
    "execution": {
     "iopub.execute_input": "2022-04-08T06:27:14.139438Z",
     "iopub.status.busy": "2022-04-08T06:27:14.137444Z",
     "iopub.status.idle": "2022-04-08T06:27:14.143427Z",
     "shell.execute_reply": "2022-04-08T06:27:14.142430Z"
    }
   },
   "outputs": [
    {
     "data": {
      "text/html": [
       "<div>\n",
       "<style scoped>\n",
       "    .dataframe tbody tr th:only-of-type {\n",
       "        vertical-align: middle;\n",
       "    }\n",
       "\n",
       "    .dataframe tbody tr th {\n",
       "        vertical-align: top;\n",
       "    }\n",
       "\n",
       "    .dataframe thead th {\n",
       "        text-align: right;\n",
       "    }\n",
       "</style>\n",
       "<table border=\"1\" class=\"dataframe\">\n",
       "  <thead>\n",
       "    <tr style=\"text-align: right;\">\n",
       "      <th></th>\n",
       "      <th>pilbl</th>\n",
       "      <th>equation</th>\n",
       "      <th>weight</th>\n",
       "      <th>obgnme</th>\n",
       "      <th>extra</th>\n",
       "      <th>names</th>\n",
       "    </tr>\n",
       "    <tr>\n",
       "      <th>pilbl</th>\n",
       "      <th></th>\n",
       "      <th></th>\n",
       "      <th></th>\n",
       "      <th></th>\n",
       "      <th></th>\n",
       "      <th></th>\n",
       "    </tr>\n",
       "  </thead>\n",
       "  <tbody>\n",
       "    <tr>\n",
       "      <th>rch_0</th>\n",
       "      <td>rch_0</td>\n",
       "      <td>1.0 * log(rch_0) = 0.000000E+00</td>\n",
       "      <td>1.660964</td>\n",
       "      <td>regulrch</td>\n",
       "      <td>NaN</td>\n",
       "      <td>[rch_0]</td>\n",
       "    </tr>\n",
       "    <tr>\n",
       "      <th>rch_1</th>\n",
       "      <td>rch_1</td>\n",
       "      <td>1.0 * log(rch_1) = 0.000000E+00</td>\n",
       "      <td>0.926628</td>\n",
       "      <td>regulrch</td>\n",
       "      <td>NaN</td>\n",
       "      <td>[rch_1]</td>\n",
       "    </tr>\n",
       "    <tr>\n",
       "      <th>w0_r09_c16</th>\n",
       "      <td>w0_r09_c16</td>\n",
       "      <td>1.0 * log(w0_r09_c16) = 0.000000E+00</td>\n",
       "      <td>1.660964</td>\n",
       "      <td>regulw0</td>\n",
       "      <td>NaN</td>\n",
       "      <td>[w0_r09_c16]</td>\n",
       "    </tr>\n",
       "    <tr>\n",
       "      <th>w0_r11_c13</th>\n",
       "      <td>w0_r11_c13</td>\n",
       "      <td>1.0 * log(w0_r11_c13) = 0.000000E+00</td>\n",
       "      <td>1.660964</td>\n",
       "      <td>regulw0</td>\n",
       "      <td>NaN</td>\n",
       "      <td>[w0_r11_c13]</td>\n",
       "    </tr>\n",
       "    <tr>\n",
       "      <th>w0_r20_c14</th>\n",
       "      <td>w0_r20_c14</td>\n",
       "      <td>1.0 * log(w0_r20_c14) = 0.000000E+00</td>\n",
       "      <td>1.660964</td>\n",
       "      <td>regulw0</td>\n",
       "      <td>NaN</td>\n",
       "      <td>[w0_r20_c14]</td>\n",
       "    </tr>\n",
       "  </tbody>\n",
       "</table>\n",
       "</div>"
      ],
      "text/plain": [
       "                 pilbl                              equation    weight  \\\n",
       "pilbl                                                                    \n",
       "rch_0            rch_0       1.0 * log(rch_0) = 0.000000E+00  1.660964   \n",
       "rch_1            rch_1       1.0 * log(rch_1) = 0.000000E+00  0.926628   \n",
       "w0_r09_c16  w0_r09_c16  1.0 * log(w0_r09_c16) = 0.000000E+00  1.660964   \n",
       "w0_r11_c13  w0_r11_c13  1.0 * log(w0_r11_c13) = 0.000000E+00  1.660964   \n",
       "w0_r20_c14  w0_r20_c14  1.0 * log(w0_r20_c14) = 0.000000E+00  1.660964   \n",
       "\n",
       "              obgnme  extra         names  \n",
       "pilbl                                      \n",
       "rch_0       regulrch    NaN       [rch_0]  \n",
       "rch_1       regulrch    NaN       [rch_1]  \n",
       "w0_r09_c16   regulw0    NaN  [w0_r09_c16]  \n",
       "w0_r11_c13   regulw0    NaN  [w0_r11_c13]  \n",
       "w0_r20_c14   regulw0    NaN  [w0_r20_c14]  "
      ]
     },
     "execution_count": 48,
     "metadata": {},
     "output_type": "execute_result"
    }
   ],
   "source": [
    "pst.prior_information.head()"
   ]
  },
  {
   "cell_type": "code",
   "execution_count": 49,
   "metadata": {
    "execution": {
     "iopub.execute_input": "2022-04-08T06:27:14.194292Z",
     "iopub.status.busy": "2022-04-08T06:27:14.193294Z",
     "iopub.status.idle": "2022-04-08T06:27:14.196287Z",
     "shell.execute_reply": "2022-04-08T06:27:14.197284Z"
    }
   },
   "outputs": [],
   "source": [
    "# use pyemu to apply preferred value (aka zero order Tikhonov) to all adjustable parameter groups\n",
    "pyemu.helpers.zero_order_tikhonov(pst,\n",
    "                                par_groups=pst.adj_par_groups, # par groups for which prior inf eq are added\n",
    "                                reset=True) # whether to remove existing prior equations first; default is true"
   ]
  },
  {
   "cell_type": "markdown",
   "metadata": {},
   "source": [
    "Now, as you can see below, prior information equations have been added for all adjustable parameters. The \"preferred value\" is obtained from the parameter initial value in the \"* parameter_data\" section. The weight is calculated from the parameter bounds (this behaviour can be changed with arguments in `pyemu.helpers.zero_order_tikhonov()`)."
   ]
  },
  {
   "cell_type": "code",
   "execution_count": 50,
   "metadata": {
    "execution": {
     "iopub.execute_input": "2022-04-08T06:27:14.214238Z",
     "iopub.status.busy": "2022-04-08T06:27:14.213243Z",
     "iopub.status.idle": "2022-04-08T06:27:14.218228Z",
     "shell.execute_reply": "2022-04-08T06:27:14.220109Z"
    }
   },
   "outputs": [
    {
     "data": {
      "text/html": [
       "<div>\n",
       "<style scoped>\n",
       "    .dataframe tbody tr th:only-of-type {\n",
       "        vertical-align: middle;\n",
       "    }\n",
       "\n",
       "    .dataframe tbody tr th {\n",
       "        vertical-align: top;\n",
       "    }\n",
       "\n",
       "    .dataframe thead th {\n",
       "        text-align: right;\n",
       "    }\n",
       "</style>\n",
       "<table border=\"1\" class=\"dataframe\">\n",
       "  <thead>\n",
       "    <tr style=\"text-align: right;\">\n",
       "      <th></th>\n",
       "      <th>pilbl</th>\n",
       "      <th>equation</th>\n",
       "      <th>obgnme</th>\n",
       "      <th>weight</th>\n",
       "    </tr>\n",
       "    <tr>\n",
       "      <th>pilbl</th>\n",
       "      <th></th>\n",
       "      <th></th>\n",
       "      <th></th>\n",
       "      <th></th>\n",
       "    </tr>\n",
       "  </thead>\n",
       "  <tbody>\n",
       "    <tr>\n",
       "      <th>hk00</th>\n",
       "      <td>hk00</td>\n",
       "      <td>1.0 * log(hk00) =   4.139269E-02</td>\n",
       "      <td>regulhk</td>\n",
       "      <td>0.5</td>\n",
       "    </tr>\n",
       "    <tr>\n",
       "      <th>hk01</th>\n",
       "      <td>hk01</td>\n",
       "      <td>1.0 * log(hk01) =   4.139269E-02</td>\n",
       "      <td>regulhk</td>\n",
       "      <td>0.5</td>\n",
       "    </tr>\n",
       "    <tr>\n",
       "      <th>hk02</th>\n",
       "      <td>hk02</td>\n",
       "      <td>1.0 * log(hk02) =   4.139269E-02</td>\n",
       "      <td>regulhk</td>\n",
       "      <td>0.5</td>\n",
       "    </tr>\n",
       "    <tr>\n",
       "      <th>hk03</th>\n",
       "      <td>hk03</td>\n",
       "      <td>1.0 * log(hk03) =   4.139269E-02</td>\n",
       "      <td>regulhk</td>\n",
       "      <td>0.5</td>\n",
       "    </tr>\n",
       "    <tr>\n",
       "      <th>hk04</th>\n",
       "      <td>hk04</td>\n",
       "      <td>1.0 * log(hk04) =   4.139269E-02</td>\n",
       "      <td>regulhk</td>\n",
       "      <td>0.5</td>\n",
       "    </tr>\n",
       "  </tbody>\n",
       "</table>\n",
       "</div>"
      ],
      "text/plain": [
       "      pilbl                          equation   obgnme  weight\n",
       "pilbl                                                         \n",
       "hk00   hk00  1.0 * log(hk00) =   4.139269E-02  regulhk     0.5\n",
       "hk01   hk01  1.0 * log(hk01) =   4.139269E-02  regulhk     0.5\n",
       "hk02   hk02  1.0 * log(hk02) =   4.139269E-02  regulhk     0.5\n",
       "hk03   hk03  1.0 * log(hk03) =   4.139269E-02  regulhk     0.5\n",
       "hk04   hk04  1.0 * log(hk04) =   4.139269E-02  regulhk     0.5"
      ]
     },
     "execution_count": 50,
     "metadata": {},
     "output_type": "execute_result"
    }
   ],
   "source": [
    "pst.prior_information.head()"
   ]
  },
  {
   "cell_type": "markdown",
   "metadata": {},
   "source": [
    "### 5.2. Preferred difference or First Order Pearson Tikhonov\n",
    "\n",
    "We may wish (almost certaintly) to express a preference for similarity between parameters. For example, hydraulic properties of two points close together are more likley to be similar to each other, than two points which are far apart. We describe this relationship using geostatistics, encapsulated in a covariance matrix.\n",
    "\n",
    "As previously described, `pyemu.geostats` module provides tools for generating such matrices. The PEST suite also includes many utilities for this purpose (see the PPCOV* set of utilities.)\n",
    "Let's use the `cov` covariance matrix we constructed earlier for the set of pilot points."
   ]
  },
  {
   "cell_type": "code",
   "execution_count": 51,
   "metadata": {
    "execution": {
     "iopub.execute_input": "2022-04-08T06:27:14.256999Z",
     "iopub.status.busy": "2022-04-08T06:27:14.255004Z",
     "iopub.status.idle": "2022-04-08T06:27:14.446492Z",
     "shell.execute_reply": "2022-04-08T06:27:14.446492Z"
    }
   },
   "outputs": [
    {
     "data": {
      "text/plain": [
       "<matplotlib.image.AxesImage at 0x1edebfddd08>"
      ]
     },
     "execution_count": 51,
     "metadata": {},
     "output_type": "execute_result"
    },
    {
     "data": {
      "image/png": "[encoded data removed]",
      "text/plain": [
       "<Figure size 432x288 with 1 Axes>"
      ]
     },
     "metadata": {
      "needs_background": "light"
     },
     "output_type": "display_data"
    }
   ],
   "source": [
    "# a reminder\n",
    "plt.imshow(cov.x)"
   ]
  },
  {
   "cell_type": "markdown",
   "metadata": {},
   "source": [
    "Now, we can assign prior information equations for preferred difference. Note that the preferred difference = 0, which means our preferred difference regularization is really a preferred *homogeneity* condition! If observation data doesn't say otherwise, parameters which are close together should be similar to each other.\n",
    "\n",
    "The weights on the prior information equations are the Pearson correlation coefficients implied by the covariance matrix."
   ]
  },
  {
   "cell_type": "code",
   "execution_count": 52,
   "metadata": {
    "execution": {
     "iopub.execute_input": "2022-04-08T06:27:14.467436Z",
     "iopub.status.busy": "2022-04-08T06:27:14.466439Z",
     "iopub.status.idle": "2022-04-08T06:27:14.471426Z",
     "shell.execute_reply": "2022-04-08T06:27:14.471426Z"
    }
   },
   "outputs": [
    {
     "name": "stdout",
     "output_type": "stream",
     "text": [
      "getting CC matrix\n",
      "processing\n"
     ]
    }
   ],
   "source": [
    "# then assign cov pror\n",
    "pyemu.helpers.first_order_pearson_tikhonov(pst, \n",
    "                                            cov=cov,     # the covariance matrix; these can be for some OR all parameters in pst\n",
    "                                            reset=False, # so as to have both prefered value and prefered differnece eqs\n",
    "                                            abs_drop_tol=0.01) # drop pi eqs that have small weight"
   ]
  },
  {
   "cell_type": "code",
   "execution_count": 53,
   "metadata": {
    "execution": {
     "iopub.execute_input": "2022-04-08T06:27:14.489725Z",
     "iopub.status.busy": "2022-04-08T06:27:14.488728Z",
     "iopub.status.idle": "2022-04-08T06:27:14.494713Z",
     "shell.execute_reply": "2022-04-08T06:27:14.495711Z"
    }
   },
   "outputs": [
    {
     "data": {
      "text/html": [
       "<div>\n",
       "<style scoped>\n",
       "    .dataframe tbody tr th:only-of-type {\n",
       "        vertical-align: middle;\n",
       "    }\n",
       "\n",
       "    .dataframe tbody tr th {\n",
       "        vertical-align: top;\n",
       "    }\n",
       "\n",
       "    .dataframe thead th {\n",
       "        text-align: right;\n",
       "    }\n",
       "</style>\n",
       "<table border=\"1\" class=\"dataframe\">\n",
       "  <thead>\n",
       "    <tr style=\"text-align: right;\">\n",
       "      <th></th>\n",
       "      <th>pilbl</th>\n",
       "      <th>equation</th>\n",
       "      <th>obgnme</th>\n",
       "      <th>weight</th>\n",
       "    </tr>\n",
       "    <tr>\n",
       "      <th>pilbl</th>\n",
       "      <th></th>\n",
       "      <th></th>\n",
       "      <th></th>\n",
       "      <th></th>\n",
       "    </tr>\n",
       "  </thead>\n",
       "  <tbody>\n",
       "    <tr>\n",
       "      <th>hk00</th>\n",
       "      <td>hk00</td>\n",
       "      <td>1.0 * log(hk00) =   4.139269E-02</td>\n",
       "      <td>regulhk</td>\n",
       "      <td>0.5</td>\n",
       "    </tr>\n",
       "    <tr>\n",
       "      <th>hk01</th>\n",
       "      <td>hk01</td>\n",
       "      <td>1.0 * log(hk01) =   4.139269E-02</td>\n",
       "      <td>regulhk</td>\n",
       "      <td>0.5</td>\n",
       "    </tr>\n",
       "    <tr>\n",
       "      <th>hk02</th>\n",
       "      <td>hk02</td>\n",
       "      <td>1.0 * log(hk02) =   4.139269E-02</td>\n",
       "      <td>regulhk</td>\n",
       "      <td>0.5</td>\n",
       "    </tr>\n",
       "    <tr>\n",
       "      <th>hk03</th>\n",
       "      <td>hk03</td>\n",
       "      <td>1.0 * log(hk03) =   4.139269E-02</td>\n",
       "      <td>regulhk</td>\n",
       "      <td>0.5</td>\n",
       "    </tr>\n",
       "    <tr>\n",
       "      <th>hk04</th>\n",
       "      <td>hk04</td>\n",
       "      <td>1.0 * log(hk04) =   4.139269E-02</td>\n",
       "      <td>regulhk</td>\n",
       "      <td>0.5</td>\n",
       "    </tr>\n",
       "  </tbody>\n",
       "</table>\n",
       "</div>"
      ],
      "text/plain": [
       "      pilbl                          equation   obgnme  weight\n",
       "pilbl                                                         \n",
       "hk00   hk00  1.0 * log(hk00) =   4.139269E-02  regulhk     0.5\n",
       "hk01   hk01  1.0 * log(hk01) =   4.139269E-02  regulhk     0.5\n",
       "hk02   hk02  1.0 * log(hk02) =   4.139269E-02  regulhk     0.5\n",
       "hk03   hk03  1.0 * log(hk03) =   4.139269E-02  regulhk     0.5\n",
       "hk04   hk04  1.0 * log(hk04) =   4.139269E-02  regulhk     0.5"
      ]
     },
     "execution_count": 53,
     "metadata": {},
     "output_type": "execute_result"
    }
   ],
   "source": [
    "# note the additional number of prior information equations\n",
    "pst.prior_information.head()"
   ]
  },
  {
   "cell_type": "markdown",
   "metadata": {},
   "source": [
    "### 5.3. Custom Prior Information Equations\n",
    "\n",
    "`Pst.add_pi_equation()` is a helper to construct prior information equations. We demonstrate below using the \"special_par\"s we added earlier."
   ]
  },
  {
   "cell_type": "code",
   "execution_count": 54,
   "metadata": {
    "execution": {
     "iopub.execute_input": "2022-04-08T06:27:14.522637Z",
     "iopub.status.busy": "2022-04-08T06:27:14.521640Z",
     "iopub.status.idle": "2022-04-08T06:27:14.525629Z",
     "shell.execute_reply": "2022-04-08T06:27:14.526626Z"
    }
   },
   "outputs": [
    {
     "data": {
      "text/html": [
       "<div>\n",
       "<style scoped>\n",
       "    .dataframe tbody tr th:only-of-type {\n",
       "        vertical-align: middle;\n",
       "    }\n",
       "\n",
       "    .dataframe tbody tr th {\n",
       "        vertical-align: top;\n",
       "    }\n",
       "\n",
       "    .dataframe thead th {\n",
       "        text-align: right;\n",
       "    }\n",
       "</style>\n",
       "<table border=\"1\" class=\"dataframe\">\n",
       "  <thead>\n",
       "    <tr style=\"text-align: right;\">\n",
       "      <th></th>\n",
       "      <th>parnme</th>\n",
       "      <th>partrans</th>\n",
       "      <th>parchglim</th>\n",
       "      <th>parval1</th>\n",
       "      <th>parlbnd</th>\n",
       "      <th>parubnd</th>\n",
       "      <th>pargp</th>\n",
       "      <th>scale</th>\n",
       "      <th>offset</th>\n",
       "      <th>dercom</th>\n",
       "      <th>extra</th>\n",
       "      <th>partied</th>\n",
       "    </tr>\n",
       "    <tr>\n",
       "      <th>parnme</th>\n",
       "      <th></th>\n",
       "      <th></th>\n",
       "      <th></th>\n",
       "      <th></th>\n",
       "      <th></th>\n",
       "      <th></th>\n",
       "      <th></th>\n",
       "      <th></th>\n",
       "      <th></th>\n",
       "      <th></th>\n",
       "      <th></th>\n",
       "      <th></th>\n",
       "    </tr>\n",
       "  </thead>\n",
       "  <tbody>\n",
       "    <tr>\n",
       "      <th>special_par1</th>\n",
       "      <td>special_par1</td>\n",
       "      <td>log</td>\n",
       "      <td>factor</td>\n",
       "      <td>1.0</td>\n",
       "      <td>0.1</td>\n",
       "      <td>10.0</td>\n",
       "      <td>pargp</td>\n",
       "      <td>1.0</td>\n",
       "      <td>0.0</td>\n",
       "      <td>1</td>\n",
       "      <td>NaN</td>\n",
       "      <td>NaN</td>\n",
       "    </tr>\n",
       "    <tr>\n",
       "      <th>special_par2</th>\n",
       "      <td>special_par2</td>\n",
       "      <td>log</td>\n",
       "      <td>factor</td>\n",
       "      <td>1.0</td>\n",
       "      <td>0.1</td>\n",
       "      <td>10.0</td>\n",
       "      <td>pargp</td>\n",
       "      <td>1.0</td>\n",
       "      <td>0.0</td>\n",
       "      <td>1</td>\n",
       "      <td>NaN</td>\n",
       "      <td>special_par1</td>\n",
       "    </tr>\n",
       "  </tbody>\n",
       "</table>\n",
       "</div>"
      ],
      "text/plain": [
       "                    parnme partrans parchglim  parval1  parlbnd  parubnd  \\\n",
       "parnme                                                                     \n",
       "special_par1  special_par1      log    factor      1.0      0.1     10.0   \n",
       "special_par2  special_par2      log    factor      1.0      0.1     10.0   \n",
       "\n",
       "              pargp  scale  offset dercom  extra       partied  \n",
       "parnme                                                          \n",
       "special_par1  pargp    1.0     0.0      1    NaN           NaN  \n",
       "special_par2  pargp    1.0     0.0      1    NaN  special_par1  "
      ]
     },
     "execution_count": 54,
     "metadata": {},
     "output_type": "execute_result"
    }
   ],
   "source": [
    "# reminder\n",
    "par = pst.parameter_data\n",
    "# let's just un-tie special_par2, otherwise we can't assign a prior info euqation using it\n",
    "par.loc[par['pargp']=='pargp', 'partrans'] = 'log'\n",
    "#display\n",
    "par.loc[par['pargp']=='pargp']"
   ]
  },
  {
   "cell_type": "code",
   "execution_count": 55,
   "metadata": {
    "execution": {
     "iopub.execute_input": "2022-04-08T06:27:14.544579Z",
     "iopub.status.busy": "2022-04-08T06:27:14.543581Z",
     "iopub.status.idle": "2022-04-08T06:27:14.548567Z",
     "shell.execute_reply": "2022-04-08T06:27:14.549565Z"
    }
   },
   "outputs": [
    {
     "data": {
      "text/html": [
       "<div>\n",
       "<style scoped>\n",
       "    .dataframe tbody tr th:only-of-type {\n",
       "        vertical-align: middle;\n",
       "    }\n",
       "\n",
       "    .dataframe tbody tr th {\n",
       "        vertical-align: top;\n",
       "    }\n",
       "\n",
       "    .dataframe thead th {\n",
       "        text-align: right;\n",
       "    }\n",
       "</style>\n",
       "<table border=\"1\" class=\"dataframe\">\n",
       "  <thead>\n",
       "    <tr style=\"text-align: right;\">\n",
       "      <th></th>\n",
       "      <th>pilbl</th>\n",
       "      <th>equation</th>\n",
       "      <th>obgnme</th>\n",
       "      <th>weight</th>\n",
       "    </tr>\n",
       "    <tr>\n",
       "      <th>pilbl</th>\n",
       "      <th></th>\n",
       "      <th></th>\n",
       "      <th></th>\n",
       "      <th></th>\n",
       "    </tr>\n",
       "  </thead>\n",
       "  <tbody>\n",
       "    <tr>\n",
       "      <th>new_pi_eq</th>\n",
       "      <td>new_pi_eq</td>\n",
       "      <td>1.0 * log(special_par1)  + 0.5 * log(special_par2)  = 0.0</td>\n",
       "      <td>regul_special</td>\n",
       "      <td>1.0</td>\n",
       "    </tr>\n",
       "  </tbody>\n",
       "</table>\n",
       "</div>"
      ],
      "text/plain": [
       "               pilbl  \\\n",
       "pilbl                  \n",
       "new_pi_eq  new_pi_eq   \n",
       "\n",
       "                                                              equation  \\\n",
       "pilbl                                                                    \n",
       "new_pi_eq    1.0 * log(special_par1)  + 0.5 * log(special_par2)  = 0.0   \n",
       "\n",
       "                  obgnme  weight  \n",
       "pilbl                             \n",
       "new_pi_eq  regul_special     1.0  "
      ]
     },
     "execution_count": 55,
     "metadata": {},
     "output_type": "execute_result"
    }
   ],
   "source": [
    "pst.add_pi_equation(\n",
    "                    par_names=['special_par1', 'special_par2'], # list of parameter names included on the left hand side of the equation\n",
    "                    pilbl='new_pi_eq',\n",
    "                    rhs=0.0, # the value on the right hand side of the equation; make sure that this value is logical. you may also wish to check if it conflicts with existing prior information equations\n",
    "                    weight=1.0, # the weight assigned to the prior information equation\n",
    "                    obs_group='regul_special', # name to assign to the prior information \"observationg group\"\n",
    "                    coef_dict = {'special_par1':1.0, 'special_par2':0.5} # dictionary of parameter coeficients; try specifying different values, note how the equation changes\n",
    "                    )\n",
    "\n",
    "# let's take a look; just print the last row (e.g. the latest prior info equation)\n",
    "pst.prior_information.iloc[-1:]\n"
   ]
  },
  {
   "cell_type": "markdown",
   "metadata": {},
   "source": [
    "### 6. Matrices\n",
    "\n",
    "The `pyemu.Matrix` class is the backbone of `pyemu`. The `Matrix` class does some fancy things in the background to make manipulating matrices and linear algebra easier. The class overloads all common mathematical operators and also uses an \"auto-align\" functionality to line up matrices for multiplication, addition, etc. The `pyemu.Jco` class provides a wrapper to deal with PEST Jacobian matrices. It functions the same as the `Matrix` class.\n",
    "\n",
    "The `pyemu.Cov` class is a special class designed specifically to handle covariance matrices. (We have already seen examples of the `pyemu.Cov` earlier.) The `Cov` class makes some assumptions, such as symmetry (and accordingly that matrix rows and columns names are equal) and provides additional functionality.\n",
    "\n",
    "All classes provide functionality to record matrices to, as well as read from, external files in PEST-compatible formats (e.g. ASCII or binary). `Cov` can also write PEST uncertainty (*.unc) files. The `Cov` class has additional functionality that allows covariance matrices to be constructed from information contained in PEST control files (e.g. from parameter or observation bounds). "
   ]
  },
  {
   "cell_type": "code",
   "execution_count": 56,
   "metadata": {
    "execution": {
     "iopub.execute_input": "2022-04-08T06:27:14.582477Z",
     "iopub.status.busy": "2022-04-08T06:27:14.581480Z",
     "iopub.status.idle": "2022-04-08T06:27:14.587464Z",
     "shell.execute_reply": "2022-04-08T06:27:14.588461Z"
    }
   },
   "outputs": [],
   "source": [
    "# generate covariance matrix from parameter bounds\n",
    "parcov = pyemu.Cov.from_parameter_data(pst)\n",
    "\n",
    "# generate a covariance matrix from observation data (e.g. weights):\n",
    "obscov = pyemu.Cov.from_observation_data(pst)"
   ]
  },
  {
   "cell_type": "markdown",
   "metadata": {},
   "source": [
    "As you can see below, the `Cov` object retains the parameter names as row and column names."
   ]
  },
  {
   "cell_type": "code",
   "execution_count": 57,
   "metadata": {
    "execution": {
     "iopub.execute_input": "2022-04-08T06:27:14.599432Z",
     "iopub.status.busy": "2022-04-08T06:27:14.598436Z",
     "iopub.status.idle": "2022-04-08T06:27:14.603421Z",
     "shell.execute_reply": "2022-04-08T06:27:14.605416Z"
    }
   },
   "outputs": [
    {
     "data": {
      "text/plain": [
       "(['hk00', 'hk01', 'hk02', 'hk03', 'hk04'],\n",
       " ['hk00', 'hk01', 'hk02', 'hk03', 'hk04'])"
      ]
     },
     "execution_count": 57,
     "metadata": {},
     "output_type": "execute_result"
    }
   ],
   "source": [
    "# the first 5 row and col names \n",
    "parcov.row_names[:5], parcov.col_names[:5], "
   ]
  },
  {
   "cell_type": "markdown",
   "metadata": {},
   "source": [
    "We can check if the matrix is diagonal with the `.isdiagonal` attribute. "
   ]
  },
  {
   "cell_type": "code",
   "execution_count": 58,
   "metadata": {
    "execution": {
     "iopub.execute_input": "2022-04-08T06:27:14.615390Z",
     "iopub.status.busy": "2022-04-08T06:27:14.613394Z",
     "iopub.status.idle": "2022-04-08T06:27:14.619517Z",
     "shell.execute_reply": "2022-04-08T06:27:14.620376Z"
    }
   },
   "outputs": [
    {
     "data": {
      "text/plain": [
       "True"
      ]
     },
     "execution_count": 58,
     "metadata": {},
     "output_type": "execute_result"
    }
   ],
   "source": [
    "parcov.isdiagonal"
   ]
  },
  {
   "cell_type": "markdown",
   "metadata": {},
   "source": [
    "How about the `cov` covariance matrix we generated earlier for spatialy correlated parameters?\n",
    "\n",
    "Recall that, a matrix is \"diagonal\" when all the entries off the diagonal are zero. This means that elements of the matrix are **uncorrelated**. By generating a covariance matrix from parameter data, the only information we have is the uncertainty of each individual parameter (expressed by the parameter bounds). There is no information on correlation between parameters. Therefore `cov_pb.isdiagonal` is `True`. When we generated `cov`, we specified correlation between parameters; so, off-diagonal entries in `cov` are non-zero. Therefore, `cov.isdiagonal` is `False`."
   ]
  },
  {
   "cell_type": "code",
   "execution_count": 59,
   "metadata": {
    "execution": {
     "iopub.execute_input": "2022-04-08T06:27:14.630350Z",
     "iopub.status.busy": "2022-04-08T06:27:14.628355Z",
     "iopub.status.idle": "2022-04-08T06:27:14.634338Z",
     "shell.execute_reply": "2022-04-08T06:27:14.636334Z"
    }
   },
   "outputs": [
    {
     "data": {
      "text/plain": [
       "False"
      ]
     },
     "execution_count": 59,
     "metadata": {},
     "output_type": "execute_result"
    }
   ],
   "source": [
    "cov.isdiagonal"
   ]
  },
  {
   "cell_type": "markdown",
   "metadata": {},
   "source": [
    "The values of the matrix are accessed in the `.x` attribute:"
   ]
  },
  {
   "cell_type": "code",
   "execution_count": 60,
   "metadata": {
    "execution": {
     "iopub.execute_input": "2022-04-08T06:27:14.648301Z",
     "iopub.status.busy": "2022-04-08T06:27:14.647304Z",
     "iopub.status.idle": "2022-04-08T06:27:14.655283Z",
     "shell.execute_reply": "2022-04-08T06:27:14.656280Z"
    }
   },
   "outputs": [
    {
     "data": {
      "text/plain": [
       "array([[0.25      ],\n",
       "       [0.25      ],\n",
       "       [0.25      ],\n",
       "       [0.25      ],\n",
       "       [0.25      ],\n",
       "       [0.25      ],\n",
       "       [0.25      ],\n",
       "       [0.25      ],\n",
       "       [0.25      ],\n",
       "       [0.25      ],\n",
       "       [0.25      ],\n",
       "       [0.25      ],\n",
       "       [0.25      ],\n",
       "       [0.25      ],\n",
       "       [0.25      ],\n",
       "       [0.25      ],\n",
       "       [0.25      ],\n",
       "       [0.25      ],\n",
       "       [0.25      ],\n",
       "       [0.25      ],\n",
       "       [0.25      ],\n",
       "       [0.25      ],\n",
       "       [0.25      ],\n",
       "       [0.25      ],\n",
       "       [0.25      ],\n",
       "       [0.25      ],\n",
       "       [0.25      ],\n",
       "       [0.25      ],\n",
       "       [0.25      ],\n",
       "       [0.25      ],\n",
       "       [0.25      ],\n",
       "       [0.25      ],\n",
       "       [0.02265476],\n",
       "       [0.02265476],\n",
       "       [0.07278951],\n",
       "       [0.5625    ],\n",
       "       [0.02265476],\n",
       "       [0.02265476],\n",
       "       [0.02265476],\n",
       "       [0.02265476],\n",
       "       [0.02265476],\n",
       "       [0.02265476],\n",
       "       [0.25      ],\n",
       "       [0.25      ],\n",
       "       [0.25      ],\n",
       "       [0.25      ],\n",
       "       [0.25      ],\n",
       "       [0.25      ],\n",
       "       [0.25      ],\n",
       "       [0.25      ]])"
      ]
     },
     "execution_count": 60,
     "metadata": {},
     "output_type": "execute_result"
    }
   ],
   "source": [
    "parcov.x"
   ]
  },
  {
   "cell_type": "markdown",
   "metadata": {},
   "source": [
    "Note that `parcov.x` is 1-dimensional. Again, this is because `parcov` is \"diagonal\". So `.x` only returns the diagonal entries. On the other hand, `cov.x` is 2-dimensional:"
   ]
  },
  {
   "cell_type": "code",
   "execution_count": 61,
   "metadata": {
    "execution": {
     "iopub.execute_input": "2022-04-08T06:27:14.666253Z",
     "iopub.status.busy": "2022-04-08T06:27:14.665256Z",
     "iopub.status.idle": "2022-04-08T06:27:14.670243Z",
     "shell.execute_reply": "2022-04-08T06:27:14.672238Z"
    }
   },
   "outputs": [
    {
     "data": {
      "text/plain": [
       "((50, 1), (32, 32))"
      ]
     },
     "execution_count": 61,
     "metadata": {},
     "output_type": "execute_result"
    }
   ],
   "source": [
    "parcov.x.shape, cov.x.shape"
   ]
  },
  {
   "cell_type": "markdown",
   "metadata": {},
   "source": [
    "You can access the full 2-dimensional matrix with the `.as_2d` attribute (see all the off-diagonals are zero):"
   ]
  },
  {
   "cell_type": "code",
   "execution_count": 62,
   "metadata": {
    "execution": {
     "iopub.execute_input": "2022-04-08T06:27:14.682210Z",
     "iopub.status.busy": "2022-04-08T06:27:14.681213Z",
     "iopub.status.idle": "2022-04-08T06:27:14.686201Z",
     "shell.execute_reply": "2022-04-08T06:27:14.687196Z"
    }
   },
   "outputs": [
    {
     "data": {
      "text/plain": [
       "array([[0.25, 0.  , 0.  , ..., 0.  , 0.  , 0.  ],\n",
       "       [0.  , 0.25, 0.  , ..., 0.  , 0.  , 0.  ],\n",
       "       [0.  , 0.  , 0.25, ..., 0.  , 0.  , 0.  ],\n",
       "       ...,\n",
       "       [0.  , 0.  , 0.  , ..., 0.25, 0.  , 0.  ],\n",
       "       [0.  , 0.  , 0.  , ..., 0.  , 0.25, 0.  ],\n",
       "       [0.  , 0.  , 0.  , ..., 0.  , 0.  , 0.25]])"
      ]
     },
     "execution_count": 62,
     "metadata": {},
     "output_type": "execute_result"
    }
   ],
   "source": [
    "parcov.as_2d"
   ]
  },
  {
   "cell_type": "markdown",
   "metadata": {},
   "source": [
    "It may be easier to visualize this in a plot. Because `parcov` has many parameters it may be hard to see. So let's first use the `get()` method to get a submatrix. We can use this method to extract specific row and column names. We will get the same pilot point parameters that are in the `cov` matrix to compare."
   ]
  },
  {
   "cell_type": "code",
   "execution_count": 63,
   "metadata": {
    "execution": {
     "iopub.execute_input": "2022-04-08T06:27:14.708141Z",
     "iopub.status.busy": "2022-04-08T06:27:14.701160Z",
     "iopub.status.idle": "2022-04-08T06:27:15.506007Z",
     "shell.execute_reply": "2022-04-08T06:27:15.508003Z"
    }
   },
   "outputs": [
    {
     "data": {
      "text/plain": [
       "<matplotlib.colorbar.Colorbar at 0x1edec17cc08>"
      ]
     },
     "execution_count": 63,
     "metadata": {},
     "output_type": "execute_result"
    },
    {
     "data": {
      "image/png": "[encoded data removed]",
      "text/plain": [
       "<Figure size 432x288 with 4 Axes>"
      ]
     },
     "metadata": {
      "needs_background": "light"
     },
     "output_type": "display_data"
    }
   ],
   "source": [
    "# make a list of parameter names\n",
    "parnames = par.loc[par['pargp']=='hk', 'parnme'].tolist()\n",
    "\n",
    "# get a submatrix from cov_pb; both row and column names must be the same if we want to retain a square matrix (which we do...)\n",
    "subcov = parcov.get(row_names=parnames, col_names=parnames, drop=False)\n",
    "\n",
    "\n",
    "# plot  both matrices side by side\n",
    "f, (ax1, ax2) = plt.subplots(1, 2, sharey=True)\n",
    "# plot submatrix of diagonal matrix\n",
    "c = ax1.imshow(subcov.as_2d)\n",
    "plt.colorbar(c, ax=ax1, shrink=0.3)\n",
    "# plot cov matrix of correlated parameters\n",
    "c = ax2.imshow(0.25 * cov.as_2d) #scaled to parameter unc\n",
    "plt.colorbar(c, ax=ax2, shrink=0.3)"
   ]
  },
  {
   "cell_type": "markdown",
   "metadata": {},
   "source": [
    "The singular values are the diagonal entries of the matrix, arranged in descending order. These can be accessed with the `.s` attribute. This still returns a `Matrix` object (technically a vector). Values in the matrix can be accessed in the same fashion as described above."
   ]
  },
  {
   "cell_type": "code",
   "execution_count": 64,
   "metadata": {
    "execution": {
     "iopub.execute_input": "2022-04-08T06:27:15.516978Z",
     "iopub.status.busy": "2022-04-08T06:27:15.514984Z",
     "iopub.status.idle": "2022-04-08T06:27:15.526951Z",
     "shell.execute_reply": "2022-04-08T06:27:15.528946Z"
    }
   },
   "outputs": [
    {
     "data": {
      "text/plain": [
       "array([[3.84246373],\n",
       "       [3.11801744],\n",
       "       [2.21074436],\n",
       "       [2.00413864],\n",
       "       [1.72163322],\n",
       "       [1.51391351],\n",
       "       [1.3345163 ],\n",
       "       [1.09049222],\n",
       "       [1.04993872],\n",
       "       [0.96437719],\n",
       "       [0.88954002],\n",
       "       [0.85212326],\n",
       "       [0.83819113],\n",
       "       [0.75506983],\n",
       "       [0.71132262],\n",
       "       [0.67704189],\n",
       "       [0.6521505 ],\n",
       "       [0.61622523],\n",
       "       [0.60499669],\n",
       "       [0.58513388],\n",
       "       [0.57262865],\n",
       "       [0.55759783],\n",
       "       [0.5400864 ],\n",
       "       [0.53382647],\n",
       "       [0.51849182],\n",
       "       [0.50579968],\n",
       "       [0.48740815],\n",
       "       [0.4747049 ],\n",
       "       [0.46405699],\n",
       "       [0.45251911],\n",
       "       [0.43717383],\n",
       "       [0.42367577]])"
      ]
     },
     "execution_count": 64,
     "metadata": {},
     "output_type": "execute_result"
    }
   ],
   "source": [
    "# get the singular values vector\n",
    "cov_singular_values = cov.s\n",
    "\n",
    "# access the entries in the vector\n",
    "cov_singular_values.x"
   ]
  },
  {
   "cell_type": "markdown",
   "metadata": {},
   "source": [
    "\"Right singular vectors\" are obtained with `.v` attribute:"
   ]
  },
  {
   "cell_type": "code",
   "execution_count": 65,
   "metadata": {
    "execution": {
     "iopub.execute_input": "2022-04-08T06:27:15.538919Z",
     "iopub.status.busy": "2022-04-08T06:27:15.536924Z",
     "iopub.status.idle": "2022-04-08T06:27:15.543906Z",
     "shell.execute_reply": "2022-04-08T06:27:15.544904Z"
    }
   },
   "outputs": [
    {
     "data": {
      "text/plain": [
       "<pyemu.mat.mat_handler.Matrix at 0x1edebc20648>"
      ]
     },
     "execution_count": 65,
     "metadata": {},
     "output_type": "execute_result"
    }
   ],
   "source": [
    "cov.v"
   ]
  },
  {
   "cell_type": "markdown",
   "metadata": {},
   "source": [
    "Matrices can be written to, and read from, external files. These can be ASCII or binary type files. As you saw above, we can access numpy arrays with the `.as_2d` attribute. They can also be converted to a Pandas Dataframe."
   ]
  },
  {
   "cell_type": "code",
   "execution_count": 66,
   "metadata": {
    "execution": {
     "iopub.execute_input": "2022-04-08T06:27:15.558866Z",
     "iopub.status.busy": "2022-04-08T06:27:15.556871Z",
     "iopub.status.idle": "2022-04-08T06:27:15.606739Z",
     "shell.execute_reply": "2022-04-08T06:27:15.607736Z"
    }
   },
   "outputs": [
    {
     "data": {
      "text/html": [
       "<div>\n",
       "<style scoped>\n",
       "    .dataframe tbody tr th:only-of-type {\n",
       "        vertical-align: middle;\n",
       "    }\n",
       "\n",
       "    .dataframe tbody tr th {\n",
       "        vertical-align: top;\n",
       "    }\n",
       "\n",
       "    .dataframe thead th {\n",
       "        text-align: right;\n",
       "    }\n",
       "</style>\n",
       "<table border=\"1\" class=\"dataframe\">\n",
       "  <thead>\n",
       "    <tr style=\"text-align: right;\">\n",
       "      <th></th>\n",
       "      <th>pp_0000</th>\n",
       "      <th>pp_0001</th>\n",
       "      <th>pp_0002</th>\n",
       "      <th>pp_0003</th>\n",
       "      <th>pp_0004</th>\n",
       "      <th>pp_0005</th>\n",
       "      <th>pp_0006</th>\n",
       "      <th>pp_0007</th>\n",
       "      <th>pp_0008</th>\n",
       "      <th>pp_0009</th>\n",
       "      <th>...</th>\n",
       "      <th>pp_0022</th>\n",
       "      <th>pp_0023</th>\n",
       "      <th>pp_0024</th>\n",
       "      <th>pp_0025</th>\n",
       "      <th>pp_0026</th>\n",
       "      <th>pp_0027</th>\n",
       "      <th>pp_0028</th>\n",
       "      <th>pp_0029</th>\n",
       "      <th>pp_0030</th>\n",
       "      <th>pp_0031</th>\n",
       "    </tr>\n",
       "  </thead>\n",
       "  <tbody>\n",
       "    <tr>\n",
       "      <th>pp_0000</th>\n",
       "      <td>1.000000</td>\n",
       "      <td>0.367879</td>\n",
       "      <td>0.135335</td>\n",
       "      <td>0.049787</td>\n",
       "      <td>0.367879</td>\n",
       "      <td>0.243117</td>\n",
       "      <td>0.106878</td>\n",
       "      <td>0.042329</td>\n",
       "      <td>0.135335</td>\n",
       "      <td>0.059106</td>\n",
       "      <td>...</td>\n",
       "      <td>0.002282</td>\n",
       "      <td>0.001792</td>\n",
       "      <td>0.001221</td>\n",
       "      <td>0.000912</td>\n",
       "      <td>0.000849</td>\n",
       "      <td>0.000689</td>\n",
       "      <td>0.000493</td>\n",
       "      <td>0.000315</td>\n",
       "      <td>0.000262</td>\n",
       "      <td>0.000195</td>\n",
       "    </tr>\n",
       "    <tr>\n",
       "      <th>pp_0001</th>\n",
       "      <td>0.367879</td>\n",
       "      <td>1.000000</td>\n",
       "      <td>0.367879</td>\n",
       "      <td>0.135335</td>\n",
       "      <td>0.243117</td>\n",
       "      <td>0.367879</td>\n",
       "      <td>0.243117</td>\n",
       "      <td>0.106878</td>\n",
       "      <td>0.106878</td>\n",
       "      <td>0.106878</td>\n",
       "      <td>...</td>\n",
       "      <td>0.002479</td>\n",
       "      <td>0.002282</td>\n",
       "      <td>0.001792</td>\n",
       "      <td>0.000849</td>\n",
       "      <td>0.000912</td>\n",
       "      <td>0.000849</td>\n",
       "      <td>0.000689</td>\n",
       "      <td>0.000335</td>\n",
       "      <td>0.000315</td>\n",
       "      <td>0.000262</td>\n",
       "    </tr>\n",
       "    <tr>\n",
       "      <th>pp_0002</th>\n",
       "      <td>0.135335</td>\n",
       "      <td>0.367879</td>\n",
       "      <td>1.000000</td>\n",
       "      <td>0.367879</td>\n",
       "      <td>0.106878</td>\n",
       "      <td>0.243117</td>\n",
       "      <td>0.367879</td>\n",
       "      <td>0.243117</td>\n",
       "      <td>0.059106</td>\n",
       "      <td>0.135335</td>\n",
       "      <td>...</td>\n",
       "      <td>0.002282</td>\n",
       "      <td>0.002479</td>\n",
       "      <td>0.002282</td>\n",
       "      <td>0.000689</td>\n",
       "      <td>0.000849</td>\n",
       "      <td>0.000912</td>\n",
       "      <td>0.000849</td>\n",
       "      <td>0.000315</td>\n",
       "      <td>0.000335</td>\n",
       "      <td>0.000315</td>\n",
       "    </tr>\n",
       "    <tr>\n",
       "      <th>pp_0003</th>\n",
       "      <td>0.049787</td>\n",
       "      <td>0.135335</td>\n",
       "      <td>0.367879</td>\n",
       "      <td>1.000000</td>\n",
       "      <td>0.042329</td>\n",
       "      <td>0.106878</td>\n",
       "      <td>0.243117</td>\n",
       "      <td>0.367879</td>\n",
       "      <td>0.027172</td>\n",
       "      <td>0.106878</td>\n",
       "      <td>...</td>\n",
       "      <td>0.001792</td>\n",
       "      <td>0.002282</td>\n",
       "      <td>0.002479</td>\n",
       "      <td>0.000493</td>\n",
       "      <td>0.000689</td>\n",
       "      <td>0.000849</td>\n",
       "      <td>0.000912</td>\n",
       "      <td>0.000262</td>\n",
       "      <td>0.000315</td>\n",
       "      <td>0.000335</td>\n",
       "    </tr>\n",
       "    <tr>\n",
       "      <th>pp_0004</th>\n",
       "      <td>0.367879</td>\n",
       "      <td>0.243117</td>\n",
       "      <td>0.106878</td>\n",
       "      <td>0.042329</td>\n",
       "      <td>1.000000</td>\n",
       "      <td>0.367879</td>\n",
       "      <td>0.135335</td>\n",
       "      <td>0.049787</td>\n",
       "      <td>0.367879</td>\n",
       "      <td>0.106878</td>\n",
       "      <td>...</td>\n",
       "      <td>0.006103</td>\n",
       "      <td>0.004584</td>\n",
       "      <td>0.002935</td>\n",
       "      <td>0.002479</td>\n",
       "      <td>0.002282</td>\n",
       "      <td>0.001792</td>\n",
       "      <td>0.001221</td>\n",
       "      <td>0.000849</td>\n",
       "      <td>0.000689</td>\n",
       "      <td>0.000493</td>\n",
       "    </tr>\n",
       "  </tbody>\n",
       "</table>\n",
       "<p>5 rows × 32 columns</p>\n",
       "</div>"
      ],
      "text/plain": [
       "          pp_0000   pp_0001   pp_0002   pp_0003   pp_0004   pp_0005   pp_0006  \\\n",
       "pp_0000  1.000000  0.367879  0.135335  0.049787  0.367879  0.243117  0.106878   \n",
       "pp_0001  0.367879  1.000000  0.367879  0.135335  0.243117  0.367879  0.243117   \n",
       "pp_0002  0.135335  0.367879  1.000000  0.367879  0.106878  0.243117  0.367879   \n",
       "pp_0003  0.049787  0.135335  0.367879  1.000000  0.042329  0.106878  0.243117   \n",
       "pp_0004  0.367879  0.243117  0.106878  0.042329  1.000000  0.367879  0.135335   \n",
       "\n",
       "          pp_0007   pp_0008   pp_0009  ...   pp_0022   pp_0023   pp_0024  \\\n",
       "pp_0000  0.042329  0.135335  0.059106  ...  0.002282  0.001792  0.001221   \n",
       "pp_0001  0.106878  0.106878  0.106878  ...  0.002479  0.002282  0.001792   \n",
       "pp_0002  0.243117  0.059106  0.135335  ...  0.002282  0.002479  0.002282   \n",
       "pp_0003  0.367879  0.027172  0.106878  ...  0.001792  0.002282  0.002479   \n",
       "pp_0004  0.049787  0.367879  0.106878  ...  0.006103  0.004584  0.002935   \n",
       "\n",
       "          pp_0025   pp_0026   pp_0027   pp_0028   pp_0029   pp_0030   pp_0031  \n",
       "pp_0000  0.000912  0.000849  0.000689  0.000493  0.000315  0.000262  0.000195  \n",
       "pp_0001  0.000849  0.000912  0.000849  0.000689  0.000335  0.000315  0.000262  \n",
       "pp_0002  0.000689  0.000849  0.000912  0.000849  0.000315  0.000335  0.000315  \n",
       "pp_0003  0.000493  0.000689  0.000849  0.000912  0.000262  0.000315  0.000335  \n",
       "pp_0004  0.002479  0.002282  0.001792  0.001221  0.000849  0.000689  0.000493  \n",
       "\n",
       "[5 rows x 32 columns]"
      ]
     },
     "execution_count": 66,
     "metadata": {},
     "output_type": "execute_result"
    }
   ],
   "source": [
    "covdf = cov.to_dataframe()\n",
    "covdf.head()"
   ]
  },
  {
   "cell_type": "code",
   "execution_count": 67,
   "metadata": {
    "execution": {
     "iopub.execute_input": "2022-04-08T06:27:15.617709Z",
     "iopub.status.busy": "2022-04-08T06:27:15.615714Z",
     "iopub.status.idle": "2022-04-08T06:27:15.629677Z",
     "shell.execute_reply": "2022-04-08T06:27:15.630673Z"
    }
   },
   "outputs": [],
   "source": [
    "# write to ascii; .to_binary() for binary format\n",
    "cov.to_ascii(filename=os.path.join(f_d,'ppoint.cov'))"
   ]
  },
  {
   "cell_type": "code",
   "execution_count": 68,
   "metadata": {
    "execution": {
     "iopub.execute_input": "2022-04-08T06:27:15.639650Z",
     "iopub.status.busy": "2022-04-08T06:27:15.638653Z",
     "iopub.status.idle": "2022-04-08T06:27:15.710461Z",
     "shell.execute_reply": "2022-04-08T06:27:15.711458Z"
    }
   },
   "outputs": [],
   "source": [
    "# read from ascii\n",
    "cov = cov.from_ascii(filename=os.path.join(f_d,'ppoint.cov'))"
   ]
  },
  {
   "cell_type": "code",
   "execution_count": 69,
   "metadata": {
    "execution": {
     "iopub.execute_input": "2022-04-08T06:27:15.721432Z",
     "iopub.status.busy": "2022-04-08T06:27:15.719437Z",
     "iopub.status.idle": "2022-04-08T06:27:15.731405Z",
     "shell.execute_reply": "2022-04-08T06:27:15.733400Z"
    }
   },
   "outputs": [],
   "source": [
    "# a PEST uncertainty file\n",
    "cov.to_uncfile(os.path.join(f_d,'test.unc'))"
   ]
  },
  {
   "cell_type": "markdown",
   "metadata": {},
   "source": [
    "Jacobian matrices, recorded by PEST(++) during parameter estimation, can be read and manipulated with the `Jco` class. This calss has the same functioanlity as the `Matrix` class."
   ]
  },
  {
   "cell_type": "code",
   "execution_count": 70,
   "metadata": {
    "execution": {
     "iopub.execute_input": "2022-04-08T06:27:15.743373Z",
     "iopub.status.busy": "2022-04-08T06:27:15.741378Z",
     "iopub.status.idle": "2022-04-08T06:27:15.772296Z",
     "shell.execute_reply": "2022-04-08T06:27:15.773292Z"
    }
   },
   "outputs": [
    {
     "data": {
      "text/plain": [
       "(1435, 48)"
      ]
     },
     "execution_count": 70,
     "metadata": {},
     "output_type": "execute_result"
    }
   ],
   "source": [
    "jco = pyemu.Jco.from_binary(os.path.join(f_d,\"freyberg_pp.jcb\"))\n",
    "\n",
    "jco.shape"
   ]
  },
  {
   "cell_type": "markdown",
   "metadata": {},
   "source": [
    "### 7. Linear Analysis or FOSM\n",
    "\n",
    "FOSM stands for \"First Order, Second Moment\". You may also see this referred to as \"linear analysis\" (e.g. in PEST documentation). We will delve into FOSM in more detail in another tutorial. Here we merely provide a brief introduction.\n",
    "\n",
    "The ``pyemu.Schur`` object is one of the primary object for FOSM in `pyemu`. Instantiating a `Schur` object requires, at minimum, a Jacobian matrix and a PEST(++) control file.  From these, `pyemu` builds the prior parameter covariance matrix (from parameter bounds) and the observation noise covariance matrix (from observation weights). Alternatively, the parameter and observation covariance matrices can be provided explicitly.\n",
    "\n",
    "Optionaly, observation names can be specified as forecasts. The `Schur` object extracts the corresponding rows from the Jacobian matrix to serve as forecast sensitivity vectors.\n",
    "\n",
    "As we saw earlier, there is a Jacobian matrix in the tutorial folder, recorded in the file named `freyberg_pp.jcb`. "
   ]
  },
  {
   "cell_type": "code",
   "execution_count": 71,
   "metadata": {
    "execution": {
     "iopub.execute_input": "2022-04-08T06:27:15.783266Z",
     "iopub.status.busy": "2022-04-08T06:27:15.781271Z",
     "iopub.status.idle": "2022-04-08T06:27:16.394504Z",
     "shell.execute_reply": "2022-04-08T06:27:16.395501Z"
    }
   },
   "outputs": [],
   "source": [
    "sc = pyemu.Schur(os.path.join(f_d,'freyberg_pp.jcb'), verbose=False)"
   ]
  },
  {
   "cell_type": "markdown",
   "metadata": {},
   "source": [
    "The prior parameter covariance matrix is stored in the `.parcov` attribute:"
   ]
  },
  {
   "cell_type": "code",
   "execution_count": 72,
   "metadata": {
    "execution": {
     "iopub.execute_input": "2022-04-08T06:27:16.420435Z",
     "iopub.status.busy": "2022-04-08T06:27:16.419437Z",
     "iopub.status.idle": "2022-04-08T06:27:16.480274Z",
     "shell.execute_reply": "2022-04-08T06:27:16.481271Z"
    }
   },
   "outputs": [
    {
     "data": {
      "text/html": [
       "<div>\n",
       "<style scoped>\n",
       "    .dataframe tbody tr th:only-of-type {\n",
       "        vertical-align: middle;\n",
       "    }\n",
       "\n",
       "    .dataframe tbody tr th {\n",
       "        vertical-align: top;\n",
       "    }\n",
       "\n",
       "    .dataframe thead th {\n",
       "        text-align: right;\n",
       "    }\n",
       "</style>\n",
       "<table border=\"1\" class=\"dataframe\">\n",
       "  <thead>\n",
       "    <tr style=\"text-align: right;\">\n",
       "      <th></th>\n",
       "      <th>hk00</th>\n",
       "      <th>hk01</th>\n",
       "      <th>hk02</th>\n",
       "      <th>hk03</th>\n",
       "      <th>hk04</th>\n",
       "      <th>hk05</th>\n",
       "      <th>hk06</th>\n",
       "      <th>hk07</th>\n",
       "      <th>hk08</th>\n",
       "      <th>hk09</th>\n",
       "      <th>...</th>\n",
       "      <th>w0_r20_c14</th>\n",
       "      <th>w0_r26_c10</th>\n",
       "      <th>w0_r29_c06</th>\n",
       "      <th>w0_r34_c12</th>\n",
       "      <th>w1_r09_c16</th>\n",
       "      <th>w1_r11_c13</th>\n",
       "      <th>w1_r20_c14</th>\n",
       "      <th>w1_r26_c10</th>\n",
       "      <th>w1_r29_c06</th>\n",
       "      <th>w1_r34_c12</th>\n",
       "    </tr>\n",
       "  </thead>\n",
       "  <tbody>\n",
       "    <tr>\n",
       "      <th>hk00</th>\n",
       "      <td>0.25</td>\n",
       "      <td>0.00</td>\n",
       "      <td>0.00</td>\n",
       "      <td>0.00</td>\n",
       "      <td>0.00</td>\n",
       "      <td>0.0</td>\n",
       "      <td>0.0</td>\n",
       "      <td>0.0</td>\n",
       "      <td>0.0</td>\n",
       "      <td>0.0</td>\n",
       "      <td>...</td>\n",
       "      <td>0.0</td>\n",
       "      <td>0.0</td>\n",
       "      <td>0.0</td>\n",
       "      <td>0.0</td>\n",
       "      <td>0.0</td>\n",
       "      <td>0.0</td>\n",
       "      <td>0.0</td>\n",
       "      <td>0.0</td>\n",
       "      <td>0.0</td>\n",
       "      <td>0.0</td>\n",
       "    </tr>\n",
       "    <tr>\n",
       "      <th>hk01</th>\n",
       "      <td>0.00</td>\n",
       "      <td>0.25</td>\n",
       "      <td>0.00</td>\n",
       "      <td>0.00</td>\n",
       "      <td>0.00</td>\n",
       "      <td>0.0</td>\n",
       "      <td>0.0</td>\n",
       "      <td>0.0</td>\n",
       "      <td>0.0</td>\n",
       "      <td>0.0</td>\n",
       "      <td>...</td>\n",
       "      <td>0.0</td>\n",
       "      <td>0.0</td>\n",
       "      <td>0.0</td>\n",
       "      <td>0.0</td>\n",
       "      <td>0.0</td>\n",
       "      <td>0.0</td>\n",
       "      <td>0.0</td>\n",
       "      <td>0.0</td>\n",
       "      <td>0.0</td>\n",
       "      <td>0.0</td>\n",
       "    </tr>\n",
       "    <tr>\n",
       "      <th>hk02</th>\n",
       "      <td>0.00</td>\n",
       "      <td>0.00</td>\n",
       "      <td>0.25</td>\n",
       "      <td>0.00</td>\n",
       "      <td>0.00</td>\n",
       "      <td>0.0</td>\n",
       "      <td>0.0</td>\n",
       "      <td>0.0</td>\n",
       "      <td>0.0</td>\n",
       "      <td>0.0</td>\n",
       "      <td>...</td>\n",
       "      <td>0.0</td>\n",
       "      <td>0.0</td>\n",
       "      <td>0.0</td>\n",
       "      <td>0.0</td>\n",
       "      <td>0.0</td>\n",
       "      <td>0.0</td>\n",
       "      <td>0.0</td>\n",
       "      <td>0.0</td>\n",
       "      <td>0.0</td>\n",
       "      <td>0.0</td>\n",
       "    </tr>\n",
       "    <tr>\n",
       "      <th>hk03</th>\n",
       "      <td>0.00</td>\n",
       "      <td>0.00</td>\n",
       "      <td>0.00</td>\n",
       "      <td>0.25</td>\n",
       "      <td>0.00</td>\n",
       "      <td>0.0</td>\n",
       "      <td>0.0</td>\n",
       "      <td>0.0</td>\n",
       "      <td>0.0</td>\n",
       "      <td>0.0</td>\n",
       "      <td>...</td>\n",
       "      <td>0.0</td>\n",
       "      <td>0.0</td>\n",
       "      <td>0.0</td>\n",
       "      <td>0.0</td>\n",
       "      <td>0.0</td>\n",
       "      <td>0.0</td>\n",
       "      <td>0.0</td>\n",
       "      <td>0.0</td>\n",
       "      <td>0.0</td>\n",
       "      <td>0.0</td>\n",
       "    </tr>\n",
       "    <tr>\n",
       "      <th>hk04</th>\n",
       "      <td>0.00</td>\n",
       "      <td>0.00</td>\n",
       "      <td>0.00</td>\n",
       "      <td>0.00</td>\n",
       "      <td>0.25</td>\n",
       "      <td>0.0</td>\n",
       "      <td>0.0</td>\n",
       "      <td>0.0</td>\n",
       "      <td>0.0</td>\n",
       "      <td>0.0</td>\n",
       "      <td>...</td>\n",
       "      <td>0.0</td>\n",
       "      <td>0.0</td>\n",
       "      <td>0.0</td>\n",
       "      <td>0.0</td>\n",
       "      <td>0.0</td>\n",
       "      <td>0.0</td>\n",
       "      <td>0.0</td>\n",
       "      <td>0.0</td>\n",
       "      <td>0.0</td>\n",
       "      <td>0.0</td>\n",
       "    </tr>\n",
       "  </tbody>\n",
       "</table>\n",
       "<p>5 rows × 48 columns</p>\n",
       "</div>"
      ],
      "text/plain": [
       "      hk00  hk01  hk02  hk03  hk04  hk05  hk06  hk07  hk08  hk09  ...  \\\n",
       "hk00  0.25  0.00  0.00  0.00  0.00   0.0   0.0   0.0   0.0   0.0  ...   \n",
       "hk01  0.00  0.25  0.00  0.00  0.00   0.0   0.0   0.0   0.0   0.0  ...   \n",
       "hk02  0.00  0.00  0.25  0.00  0.00   0.0   0.0   0.0   0.0   0.0  ...   \n",
       "hk03  0.00  0.00  0.00  0.25  0.00   0.0   0.0   0.0   0.0   0.0  ...   \n",
       "hk04  0.00  0.00  0.00  0.00  0.25   0.0   0.0   0.0   0.0   0.0  ...   \n",
       "\n",
       "      w0_r20_c14  w0_r26_c10  w0_r29_c06  w0_r34_c12  w1_r09_c16  w1_r11_c13  \\\n",
       "hk00         0.0         0.0         0.0         0.0         0.0         0.0   \n",
       "hk01         0.0         0.0         0.0         0.0         0.0         0.0   \n",
       "hk02         0.0         0.0         0.0         0.0         0.0         0.0   \n",
       "hk03         0.0         0.0         0.0         0.0         0.0         0.0   \n",
       "hk04         0.0         0.0         0.0         0.0         0.0         0.0   \n",
       "\n",
       "      w1_r20_c14  w1_r26_c10  w1_r29_c06  w1_r34_c12  \n",
       "hk00         0.0         0.0         0.0         0.0  \n",
       "hk01         0.0         0.0         0.0         0.0  \n",
       "hk02         0.0         0.0         0.0         0.0  \n",
       "hk03         0.0         0.0         0.0         0.0  \n",
       "hk04         0.0         0.0         0.0         0.0  \n",
       "\n",
       "[5 rows x 48 columns]"
      ]
     },
     "execution_count": 72,
     "metadata": {},
     "output_type": "execute_result"
    }
   ],
   "source": [
    "sc.parcov.to_dataframe().head()"
   ]
  },
  {
   "cell_type": "markdown",
   "metadata": {},
   "source": [
    "The same for the observation noise covariance matrix:"
   ]
  },
  {
   "cell_type": "code",
   "execution_count": 73,
   "metadata": {
    "execution": {
     "iopub.execute_input": "2022-04-08T06:27:16.499223Z",
     "iopub.status.busy": "2022-04-08T06:27:16.497228Z",
     "iopub.status.idle": "2022-04-08T06:27:16.565047Z",
     "shell.execute_reply": "2022-04-08T06:27:16.566045Z"
    }
   },
   "outputs": [
    {
     "data": {
      "text/html": [
       "<div>\n",
       "<style scoped>\n",
       "    .dataframe tbody tr th:only-of-type {\n",
       "        vertical-align: middle;\n",
       "    }\n",
       "\n",
       "    .dataframe tbody tr th {\n",
       "        vertical-align: top;\n",
       "    }\n",
       "\n",
       "    .dataframe thead th {\n",
       "        text-align: right;\n",
       "    }\n",
       "</style>\n",
       "<table border=\"1\" class=\"dataframe\">\n",
       "  <thead>\n",
       "    <tr style=\"text-align: right;\">\n",
       "      <th></th>\n",
       "      <th>c001cr03c10_19700102</th>\n",
       "      <th>c001cr03c16_19700102</th>\n",
       "      <th>c001cr04c09_19700102</th>\n",
       "      <th>c001cr10c02_19700102</th>\n",
       "      <th>c001cr14c11_19700102</th>\n",
       "      <th>c001cr16c17_19700102</th>\n",
       "      <th>c001cr22c11_19700102</th>\n",
       "      <th>c001cr23c16_19700102</th>\n",
       "      <th>c001cr25c05_19700102</th>\n",
       "      <th>c001cr27c07_19700102</th>\n",
       "      <th>...</th>\n",
       "      <th>vol_storage_19800101</th>\n",
       "      <th>vol_stream__19700102</th>\n",
       "      <th>vol_stream__19791231</th>\n",
       "      <th>vol_stream__19800101</th>\n",
       "      <th>vol_total_19700102</th>\n",
       "      <th>vol_total_19791231</th>\n",
       "      <th>vol_total_19800101</th>\n",
       "      <th>vol_wells_19700102</th>\n",
       "      <th>vol_wells_19791231</th>\n",
       "      <th>vol_wells_19800101</th>\n",
       "    </tr>\n",
       "  </thead>\n",
       "  <tbody>\n",
       "    <tr>\n",
       "      <th>c001cr03c10_19700102</th>\n",
       "      <td>0.04</td>\n",
       "      <td>0.00</td>\n",
       "      <td>0.00</td>\n",
       "      <td>0.00</td>\n",
       "      <td>0.00</td>\n",
       "      <td>0.0</td>\n",
       "      <td>0.0</td>\n",
       "      <td>0.0</td>\n",
       "      <td>0.0</td>\n",
       "      <td>0.0</td>\n",
       "      <td>...</td>\n",
       "      <td>0.0</td>\n",
       "      <td>0.0</td>\n",
       "      <td>0.0</td>\n",
       "      <td>0.0</td>\n",
       "      <td>0.0</td>\n",
       "      <td>0.0</td>\n",
       "      <td>0.0</td>\n",
       "      <td>0.0</td>\n",
       "      <td>0.0</td>\n",
       "      <td>0.0</td>\n",
       "    </tr>\n",
       "    <tr>\n",
       "      <th>c001cr03c16_19700102</th>\n",
       "      <td>0.00</td>\n",
       "      <td>0.04</td>\n",
       "      <td>0.00</td>\n",
       "      <td>0.00</td>\n",
       "      <td>0.00</td>\n",
       "      <td>0.0</td>\n",
       "      <td>0.0</td>\n",
       "      <td>0.0</td>\n",
       "      <td>0.0</td>\n",
       "      <td>0.0</td>\n",
       "      <td>...</td>\n",
       "      <td>0.0</td>\n",
       "      <td>0.0</td>\n",
       "      <td>0.0</td>\n",
       "      <td>0.0</td>\n",
       "      <td>0.0</td>\n",
       "      <td>0.0</td>\n",
       "      <td>0.0</td>\n",
       "      <td>0.0</td>\n",
       "      <td>0.0</td>\n",
       "      <td>0.0</td>\n",
       "    </tr>\n",
       "    <tr>\n",
       "      <th>c001cr04c09_19700102</th>\n",
       "      <td>0.00</td>\n",
       "      <td>0.00</td>\n",
       "      <td>0.04</td>\n",
       "      <td>0.00</td>\n",
       "      <td>0.00</td>\n",
       "      <td>0.0</td>\n",
       "      <td>0.0</td>\n",
       "      <td>0.0</td>\n",
       "      <td>0.0</td>\n",
       "      <td>0.0</td>\n",
       "      <td>...</td>\n",
       "      <td>0.0</td>\n",
       "      <td>0.0</td>\n",
       "      <td>0.0</td>\n",
       "      <td>0.0</td>\n",
       "      <td>0.0</td>\n",
       "      <td>0.0</td>\n",
       "      <td>0.0</td>\n",
       "      <td>0.0</td>\n",
       "      <td>0.0</td>\n",
       "      <td>0.0</td>\n",
       "    </tr>\n",
       "    <tr>\n",
       "      <th>c001cr10c02_19700102</th>\n",
       "      <td>0.00</td>\n",
       "      <td>0.00</td>\n",
       "      <td>0.00</td>\n",
       "      <td>0.04</td>\n",
       "      <td>0.00</td>\n",
       "      <td>0.0</td>\n",
       "      <td>0.0</td>\n",
       "      <td>0.0</td>\n",
       "      <td>0.0</td>\n",
       "      <td>0.0</td>\n",
       "      <td>...</td>\n",
       "      <td>0.0</td>\n",
       "      <td>0.0</td>\n",
       "      <td>0.0</td>\n",
       "      <td>0.0</td>\n",
       "      <td>0.0</td>\n",
       "      <td>0.0</td>\n",
       "      <td>0.0</td>\n",
       "      <td>0.0</td>\n",
       "      <td>0.0</td>\n",
       "      <td>0.0</td>\n",
       "    </tr>\n",
       "    <tr>\n",
       "      <th>c001cr14c11_19700102</th>\n",
       "      <td>0.00</td>\n",
       "      <td>0.00</td>\n",
       "      <td>0.00</td>\n",
       "      <td>0.00</td>\n",
       "      <td>0.04</td>\n",
       "      <td>0.0</td>\n",
       "      <td>0.0</td>\n",
       "      <td>0.0</td>\n",
       "      <td>0.0</td>\n",
       "      <td>0.0</td>\n",
       "      <td>...</td>\n",
       "      <td>0.0</td>\n",
       "      <td>0.0</td>\n",
       "      <td>0.0</td>\n",
       "      <td>0.0</td>\n",
       "      <td>0.0</td>\n",
       "      <td>0.0</td>\n",
       "      <td>0.0</td>\n",
       "      <td>0.0</td>\n",
       "      <td>0.0</td>\n",
       "      <td>0.0</td>\n",
       "    </tr>\n",
       "  </tbody>\n",
       "</table>\n",
       "<p>5 rows × 1009 columns</p>\n",
       "</div>"
      ],
      "text/plain": [
       "                      c001cr03c10_19700102  c001cr03c16_19700102  \\\n",
       "c001cr03c10_19700102                  0.04                  0.00   \n",
       "c001cr03c16_19700102                  0.00                  0.04   \n",
       "c001cr04c09_19700102                  0.00                  0.00   \n",
       "c001cr10c02_19700102                  0.00                  0.00   \n",
       "c001cr14c11_19700102                  0.00                  0.00   \n",
       "\n",
       "                      c001cr04c09_19700102  c001cr10c02_19700102  \\\n",
       "c001cr03c10_19700102                  0.00                  0.00   \n",
       "c001cr03c16_19700102                  0.00                  0.00   \n",
       "c001cr04c09_19700102                  0.04                  0.00   \n",
       "c001cr10c02_19700102                  0.00                  0.04   \n",
       "c001cr14c11_19700102                  0.00                  0.00   \n",
       "\n",
       "                      c001cr14c11_19700102  c001cr16c17_19700102  \\\n",
       "c001cr03c10_19700102                  0.00                   0.0   \n",
       "c001cr03c16_19700102                  0.00                   0.0   \n",
       "c001cr04c09_19700102                  0.00                   0.0   \n",
       "c001cr10c02_19700102                  0.00                   0.0   \n",
       "c001cr14c11_19700102                  0.04                   0.0   \n",
       "\n",
       "                      c001cr22c11_19700102  c001cr23c16_19700102  \\\n",
       "c001cr03c10_19700102                   0.0                   0.0   \n",
       "c001cr03c16_19700102                   0.0                   0.0   \n",
       "c001cr04c09_19700102                   0.0                   0.0   \n",
       "c001cr10c02_19700102                   0.0                   0.0   \n",
       "c001cr14c11_19700102                   0.0                   0.0   \n",
       "\n",
       "                      c001cr25c05_19700102  c001cr27c07_19700102  ...  \\\n",
       "c001cr03c10_19700102                   0.0                   0.0  ...   \n",
       "c001cr03c16_19700102                   0.0                   0.0  ...   \n",
       "c001cr04c09_19700102                   0.0                   0.0  ...   \n",
       "c001cr10c02_19700102                   0.0                   0.0  ...   \n",
       "c001cr14c11_19700102                   0.0                   0.0  ...   \n",
       "\n",
       "                      vol_storage_19800101  vol_stream__19700102  \\\n",
       "c001cr03c10_19700102                   0.0                   0.0   \n",
       "c001cr03c16_19700102                   0.0                   0.0   \n",
       "c001cr04c09_19700102                   0.0                   0.0   \n",
       "c001cr10c02_19700102                   0.0                   0.0   \n",
       "c001cr14c11_19700102                   0.0                   0.0   \n",
       "\n",
       "                      vol_stream__19791231  vol_stream__19800101  \\\n",
       "c001cr03c10_19700102                   0.0                   0.0   \n",
       "c001cr03c16_19700102                   0.0                   0.0   \n",
       "c001cr04c09_19700102                   0.0                   0.0   \n",
       "c001cr10c02_19700102                   0.0                   0.0   \n",
       "c001cr14c11_19700102                   0.0                   0.0   \n",
       "\n",
       "                      vol_total_19700102  vol_total_19791231  \\\n",
       "c001cr03c10_19700102                 0.0                 0.0   \n",
       "c001cr03c16_19700102                 0.0                 0.0   \n",
       "c001cr04c09_19700102                 0.0                 0.0   \n",
       "c001cr10c02_19700102                 0.0                 0.0   \n",
       "c001cr14c11_19700102                 0.0                 0.0   \n",
       "\n",
       "                      vol_total_19800101  vol_wells_19700102  \\\n",
       "c001cr03c10_19700102                 0.0                 0.0   \n",
       "c001cr03c16_19700102                 0.0                 0.0   \n",
       "c001cr04c09_19700102                 0.0                 0.0   \n",
       "c001cr10c02_19700102                 0.0                 0.0   \n",
       "c001cr14c11_19700102                 0.0                 0.0   \n",
       "\n",
       "                      vol_wells_19791231  vol_wells_19800101  \n",
       "c001cr03c10_19700102                 0.0                 0.0  \n",
       "c001cr03c16_19700102                 0.0                 0.0  \n",
       "c001cr04c09_19700102                 0.0                 0.0  \n",
       "c001cr10c02_19700102                 0.0                 0.0  \n",
       "c001cr14c11_19700102                 0.0                 0.0  \n",
       "\n",
       "[5 rows x 1009 columns]"
      ]
     },
     "execution_count": 73,
     "metadata": {},
     "output_type": "execute_result"
    }
   ],
   "source": [
    "sc.obscov.to_dataframe().head()"
   ]
  },
  {
   "cell_type": "markdown",
   "metadata": {},
   "source": [
    "The **posterior** parameter covariance matrix is calculated and stored in the `.posterior_parameter` attribute:"
   ]
  },
  {
   "cell_type": "code",
   "execution_count": 74,
   "metadata": {
    "execution": {
     "iopub.execute_input": "2022-04-08T06:27:16.587987Z",
     "iopub.status.busy": "2022-04-08T06:27:16.583996Z",
     "iopub.status.idle": "2022-04-08T06:27:16.708664Z",
     "shell.execute_reply": "2022-04-08T06:27:16.709660Z"
    }
   },
   "outputs": [
    {
     "data": {
      "text/html": [
       "<div>\n",
       "<style scoped>\n",
       "    .dataframe tbody tr th:only-of-type {\n",
       "        vertical-align: middle;\n",
       "    }\n",
       "\n",
       "    .dataframe tbody tr th {\n",
       "        vertical-align: top;\n",
       "    }\n",
       "\n",
       "    .dataframe thead th {\n",
       "        text-align: right;\n",
       "    }\n",
       "</style>\n",
       "<table border=\"1\" class=\"dataframe\">\n",
       "  <thead>\n",
       "    <tr style=\"text-align: right;\">\n",
       "      <th></th>\n",
       "      <th>hk00</th>\n",
       "      <th>hk01</th>\n",
       "      <th>hk02</th>\n",
       "      <th>hk03</th>\n",
       "      <th>hk04</th>\n",
       "      <th>hk05</th>\n",
       "      <th>hk06</th>\n",
       "      <th>hk07</th>\n",
       "      <th>hk08</th>\n",
       "      <th>hk09</th>\n",
       "      <th>...</th>\n",
       "      <th>w0_r20_c14</th>\n",
       "      <th>w0_r26_c10</th>\n",
       "      <th>w0_r29_c06</th>\n",
       "      <th>w0_r34_c12</th>\n",
       "      <th>w1_r09_c16</th>\n",
       "      <th>w1_r11_c13</th>\n",
       "      <th>w1_r20_c14</th>\n",
       "      <th>w1_r26_c10</th>\n",
       "      <th>w1_r29_c06</th>\n",
       "      <th>w1_r34_c12</th>\n",
       "    </tr>\n",
       "  </thead>\n",
       "  <tbody>\n",
       "    <tr>\n",
       "      <th>hk00</th>\n",
       "      <td>0.244830</td>\n",
       "      <td>-0.008895</td>\n",
       "      <td>0.007299</td>\n",
       "      <td>0.002543</td>\n",
       "      <td>-0.017660</td>\n",
       "      <td>-0.015716</td>\n",
       "      <td>0.005581</td>\n",
       "      <td>0.001553</td>\n",
       "      <td>-0.007468</td>\n",
       "      <td>0.000299</td>\n",
       "      <td>...</td>\n",
       "      <td>1.072802e-52</td>\n",
       "      <td>4.651382e-53</td>\n",
       "      <td>3.983267e-53</td>\n",
       "      <td>4.501561e-53</td>\n",
       "      <td>3.255734e-55</td>\n",
       "      <td>1.572642e-55</td>\n",
       "      <td>3.965351e-56</td>\n",
       "      <td>1.380231e-56</td>\n",
       "      <td>1.345158e-56</td>\n",
       "      <td>-2.440006e-55</td>\n",
       "    </tr>\n",
       "    <tr>\n",
       "      <th>hk01</th>\n",
       "      <td>-0.008895</td>\n",
       "      <td>0.206416</td>\n",
       "      <td>0.009244</td>\n",
       "      <td>0.036372</td>\n",
       "      <td>-0.026315</td>\n",
       "      <td>-0.040258</td>\n",
       "      <td>-0.019464</td>\n",
       "      <td>0.004447</td>\n",
       "      <td>-0.012274</td>\n",
       "      <td>-0.008885</td>\n",
       "      <td>...</td>\n",
       "      <td>-2.849370e-52</td>\n",
       "      <td>1.774938e-53</td>\n",
       "      <td>2.074674e-53</td>\n",
       "      <td>-1.602939e-52</td>\n",
       "      <td>-5.513671e-55</td>\n",
       "      <td>-2.928261e-55</td>\n",
       "      <td>-5.005879e-55</td>\n",
       "      <td>-1.632710e-55</td>\n",
       "      <td>-1.644243e-55</td>\n",
       "      <td>-5.936551e-55</td>\n",
       "    </tr>\n",
       "    <tr>\n",
       "      <th>hk02</th>\n",
       "      <td>0.007299</td>\n",
       "      <td>0.009244</td>\n",
       "      <td>0.175363</td>\n",
       "      <td>-0.063715</td>\n",
       "      <td>0.019540</td>\n",
       "      <td>-0.007084</td>\n",
       "      <td>-0.065003</td>\n",
       "      <td>-0.048744</td>\n",
       "      <td>0.005867</td>\n",
       "      <td>-0.028997</td>\n",
       "      <td>...</td>\n",
       "      <td>-1.505624e-51</td>\n",
       "      <td>-4.791185e-52</td>\n",
       "      <td>-4.094703e-52</td>\n",
       "      <td>-9.587598e-52</td>\n",
       "      <td>-1.616659e-54</td>\n",
       "      <td>-8.162026e-55</td>\n",
       "      <td>-9.029515e-55</td>\n",
       "      <td>-2.927028e-55</td>\n",
       "      <td>-2.931907e-55</td>\n",
       "      <td>1.202457e-54</td>\n",
       "    </tr>\n",
       "    <tr>\n",
       "      <th>hk03</th>\n",
       "      <td>0.002543</td>\n",
       "      <td>0.036372</td>\n",
       "      <td>-0.063715</td>\n",
       "      <td>0.144853</td>\n",
       "      <td>0.001094</td>\n",
       "      <td>0.005050</td>\n",
       "      <td>-0.018862</td>\n",
       "      <td>-0.055774</td>\n",
       "      <td>0.000824</td>\n",
       "      <td>-0.015184</td>\n",
       "      <td>...</td>\n",
       "      <td>-1.755048e-51</td>\n",
       "      <td>-2.653509e-52</td>\n",
       "      <td>-2.037283e-52</td>\n",
       "      <td>-6.910555e-52</td>\n",
       "      <td>-5.010778e-54</td>\n",
       "      <td>-2.508259e-54</td>\n",
       "      <td>-2.062730e-54</td>\n",
       "      <td>-6.824379e-55</td>\n",
       "      <td>-6.826708e-55</td>\n",
       "      <td>1.371760e-55</td>\n",
       "    </tr>\n",
       "    <tr>\n",
       "      <th>hk04</th>\n",
       "      <td>-0.017660</td>\n",
       "      <td>-0.026315</td>\n",
       "      <td>0.019540</td>\n",
       "      <td>0.001094</td>\n",
       "      <td>0.186267</td>\n",
       "      <td>-0.062307</td>\n",
       "      <td>0.014820</td>\n",
       "      <td>0.006380</td>\n",
       "      <td>-0.028052</td>\n",
       "      <td>-0.001403</td>\n",
       "      <td>...</td>\n",
       "      <td>8.766563e-52</td>\n",
       "      <td>2.036783e-52</td>\n",
       "      <td>1.653814e-52</td>\n",
       "      <td>3.207171e-52</td>\n",
       "      <td>2.682204e-54</td>\n",
       "      <td>1.328847e-54</td>\n",
       "      <td>8.331458e-55</td>\n",
       "      <td>2.757943e-55</td>\n",
       "      <td>2.745622e-55</td>\n",
       "      <td>-7.101447e-55</td>\n",
       "    </tr>\n",
       "  </tbody>\n",
       "</table>\n",
       "<p>5 rows × 48 columns</p>\n",
       "</div>"
      ],
      "text/plain": [
       "          hk00      hk01      hk02      hk03      hk04      hk05      hk06  \\\n",
       "hk00  0.244830 -0.008895  0.007299  0.002543 -0.017660 -0.015716  0.005581   \n",
       "hk01 -0.008895  0.206416  0.009244  0.036372 -0.026315 -0.040258 -0.019464   \n",
       "hk02  0.007299  0.009244  0.175363 -0.063715  0.019540 -0.007084 -0.065003   \n",
       "hk03  0.002543  0.036372 -0.063715  0.144853  0.001094  0.005050 -0.018862   \n",
       "hk04 -0.017660 -0.026315  0.019540  0.001094  0.186267 -0.062307  0.014820   \n",
       "\n",
       "          hk07      hk08      hk09  ...    w0_r20_c14    w0_r26_c10  \\\n",
       "hk00  0.001553 -0.007468  0.000299  ...  1.072802e-52  4.651382e-53   \n",
       "hk01  0.004447 -0.012274 -0.008885  ... -2.849370e-52  1.774938e-53   \n",
       "hk02 -0.048744  0.005867 -0.028997  ... -1.505624e-51 -4.791185e-52   \n",
       "hk03 -0.055774  0.000824 -0.015184  ... -1.755048e-51 -2.653509e-52   \n",
       "hk04  0.006380 -0.028052 -0.001403  ...  8.766563e-52  2.036783e-52   \n",
       "\n",
       "        w0_r29_c06    w0_r34_c12    w1_r09_c16    w1_r11_c13    w1_r20_c14  \\\n",
       "hk00  3.983267e-53  4.501561e-53  3.255734e-55  1.572642e-55  3.965351e-56   \n",
       "hk01  2.074674e-53 -1.602939e-52 -5.513671e-55 -2.928261e-55 -5.005879e-55   \n",
       "hk02 -4.094703e-52 -9.587598e-52 -1.616659e-54 -8.162026e-55 -9.029515e-55   \n",
       "hk03 -2.037283e-52 -6.910555e-52 -5.010778e-54 -2.508259e-54 -2.062730e-54   \n",
       "hk04  1.653814e-52  3.207171e-52  2.682204e-54  1.328847e-54  8.331458e-55   \n",
       "\n",
       "        w1_r26_c10    w1_r29_c06    w1_r34_c12  \n",
       "hk00  1.380231e-56  1.345158e-56 -2.440006e-55  \n",
       "hk01 -1.632710e-55 -1.644243e-55 -5.936551e-55  \n",
       "hk02 -2.927028e-55 -2.931907e-55  1.202457e-54  \n",
       "hk03 -6.824379e-55 -6.826708e-55  1.371760e-55  \n",
       "hk04  2.757943e-55  2.745622e-55 -7.101447e-55  \n",
       "\n",
       "[5 rows x 48 columns]"
      ]
     },
     "execution_count": 74,
     "metadata": {},
     "output_type": "execute_result"
    }
   ],
   "source": [
    "sc.posterior_parameter.to_dataframe().head()"
   ]
  },
  {
   "cell_type": "markdown",
   "metadata": {},
   "source": [
    "Let's record the prior and posterior coavariance matrix to external files (we will use these later):"
   ]
  },
  {
   "cell_type": "code",
   "execution_count": 75,
   "metadata": {
    "execution": {
     "iopub.execute_input": "2022-04-08T06:27:16.720631Z",
     "iopub.status.busy": "2022-04-08T06:27:16.718636Z",
     "iopub.status.idle": "2022-04-08T06:27:16.736589Z",
     "shell.execute_reply": "2022-04-08T06:27:16.737586Z"
    }
   },
   "outputs": [],
   "source": [
    "prior_cov = sc.parcov\n",
    "prior_cov.to_ascii(os.path.join(f_d, 'freyberg_pp.prior.cov'))\n",
    "\n",
    "post_cov = sc.posterior_parameter\n",
    "post_cov.to_ascii(os.path.join(f_d, 'freyberg_pp.post.cov'))"
   ]
  },
  {
   "cell_type": "markdown",
   "metadata": {},
   "source": [
    "The ``Schur`` object found the \"++forecasts()\" optional pestpp argument in the control, found the associated rows in the Jacobian matrix file and extracted those rows to serve as forecast sensitivity vectors. lterantively, we can also pass a list of observation names to use as forecasts when instantiating the `Schur` object. (e.g.`pyemu.Schur(\"jacobian.jcb\", forecasts=[obsname1, obsname2, etc...])`.)"
   ]
  },
  {
   "cell_type": "code",
   "execution_count": 76,
   "metadata": {
    "execution": {
     "iopub.execute_input": "2022-04-08T06:27:16.747559Z",
     "iopub.status.busy": "2022-04-08T06:27:16.746562Z",
     "iopub.status.idle": "2022-04-08T06:27:16.752607Z",
     "shell.execute_reply": "2022-04-08T06:27:16.754540Z"
    }
   },
   "outputs": [
    {
     "data": {
      "text/plain": [
       "['travel_time',\n",
       " 'fa_headwaters_0001',\n",
       " 'c001fr16c17_19791231',\n",
       " 'c001fr05c04_19791231']"
      ]
     },
     "execution_count": 76,
     "metadata": {},
     "output_type": "execute_result"
    }
   ],
   "source": [
    "sc.forecast_names"
   ]
  },
  {
   "cell_type": "code",
   "execution_count": 77,
   "metadata": {
    "execution": {
     "iopub.execute_input": "2022-04-08T06:27:16.774488Z",
     "iopub.status.busy": "2022-04-08T06:27:16.773490Z",
     "iopub.status.idle": "2022-04-08T06:27:16.778476Z",
     "shell.execute_reply": "2022-04-08T06:27:16.779474Z"
    }
   },
   "outputs": [
    {
     "data": {
      "text/html": [
       "<div>\n",
       "<style scoped>\n",
       "    .dataframe tbody tr th:only-of-type {\n",
       "        vertical-align: middle;\n",
       "    }\n",
       "\n",
       "    .dataframe tbody tr th {\n",
       "        vertical-align: top;\n",
       "    }\n",
       "\n",
       "    .dataframe thead th {\n",
       "        text-align: right;\n",
       "    }\n",
       "</style>\n",
       "<table border=\"1\" class=\"dataframe\">\n",
       "  <thead>\n",
       "    <tr style=\"text-align: right;\">\n",
       "      <th></th>\n",
       "      <th>travel_time</th>\n",
       "      <th>fa_headwaters_0001</th>\n",
       "      <th>c001fr16c17_19791231</th>\n",
       "      <th>c001fr05c04_19791231</th>\n",
       "    </tr>\n",
       "  </thead>\n",
       "  <tbody>\n",
       "    <tr>\n",
       "      <th>hk00</th>\n",
       "      <td>356.367939</td>\n",
       "      <td>-7.405048</td>\n",
       "      <td>0.000463</td>\n",
       "      <td>-0.292268</td>\n",
       "    </tr>\n",
       "    <tr>\n",
       "      <th>hk01</th>\n",
       "      <td>597.032671</td>\n",
       "      <td>-28.231777</td>\n",
       "      <td>0.002083</td>\n",
       "      <td>-1.266727</td>\n",
       "    </tr>\n",
       "    <tr>\n",
       "      <th>hk02</th>\n",
       "      <td>812.241332</td>\n",
       "      <td>-37.950877</td>\n",
       "      <td>-0.000926</td>\n",
       "      <td>-1.252610</td>\n",
       "    </tr>\n",
       "    <tr>\n",
       "      <th>hk03</th>\n",
       "      <td>738.191231</td>\n",
       "      <td>-27.537541</td>\n",
       "      <td>-0.006248</td>\n",
       "      <td>-0.964508</td>\n",
       "    </tr>\n",
       "    <tr>\n",
       "      <th>hk04</th>\n",
       "      <td>719.677223</td>\n",
       "      <td>-32.628453</td>\n",
       "      <td>0.000926</td>\n",
       "      <td>-0.301987</td>\n",
       "    </tr>\n",
       "  </tbody>\n",
       "</table>\n",
       "</div>"
      ],
      "text/plain": [
       "      travel_time  fa_headwaters_0001  c001fr16c17_19791231  \\\n",
       "hk00   356.367939           -7.405048              0.000463   \n",
       "hk01   597.032671          -28.231777              0.002083   \n",
       "hk02   812.241332          -37.950877             -0.000926   \n",
       "hk03   738.191231          -27.537541             -0.006248   \n",
       "hk04   719.677223          -32.628453              0.000926   \n",
       "\n",
       "      c001fr05c04_19791231  \n",
       "hk00             -0.292268  \n",
       "hk01             -1.266727  \n",
       "hk02             -1.252610  \n",
       "hk03             -0.964508  \n",
       "hk04             -0.301987  "
      ]
     },
     "execution_count": 77,
     "metadata": {},
     "output_type": "execute_result"
    }
   ],
   "source": [
    "# forecast sensitivity vectors stores as `Matrix` objects:\n",
    "sc.forecasts.to_dataframe().head()"
   ]
  },
  {
   "cell_type": "code",
   "execution_count": 78,
   "metadata": {
    "execution": {
     "iopub.execute_input": "2022-04-08T06:27:16.788450Z",
     "iopub.status.busy": "2022-04-08T06:27:16.787452Z",
     "iopub.status.idle": "2022-04-08T06:27:16.806401Z",
     "shell.execute_reply": "2022-04-08T06:27:16.805403Z"
    }
   },
   "outputs": [
    {
     "data": {
      "text/html": [
       "<div>\n",
       "<style scoped>\n",
       "    .dataframe tbody tr th:only-of-type {\n",
       "        vertical-align: middle;\n",
       "    }\n",
       "\n",
       "    .dataframe tbody tr th {\n",
       "        vertical-align: top;\n",
       "    }\n",
       "\n",
       "    .dataframe thead th {\n",
       "        text-align: right;\n",
       "    }\n",
       "</style>\n",
       "<table border=\"1\" class=\"dataframe\">\n",
       "  <thead>\n",
       "    <tr style=\"text-align: right;\">\n",
       "      <th></th>\n",
       "      <th>prior_var</th>\n",
       "      <th>post_var</th>\n",
       "      <th>percent_reduction</th>\n",
       "    </tr>\n",
       "  </thead>\n",
       "  <tbody>\n",
       "    <tr>\n",
       "      <th>travel_time</th>\n",
       "      <td>6.851805e+08</td>\n",
       "      <td>4.490640e+08</td>\n",
       "      <td>34.460481</td>\n",
       "    </tr>\n",
       "    <tr>\n",
       "      <th>fa_headwaters_0001</th>\n",
       "      <td>8.430109e+05</td>\n",
       "      <td>6.322101e+05</td>\n",
       "      <td>25.005708</td>\n",
       "    </tr>\n",
       "    <tr>\n",
       "      <th>c001fr16c17_19791231</th>\n",
       "      <td>1.889666e-01</td>\n",
       "      <td>8.349993e-02</td>\n",
       "      <td>55.812338</td>\n",
       "    </tr>\n",
       "    <tr>\n",
       "      <th>c001fr05c04_19791231</th>\n",
       "      <td>6.836951e+00</td>\n",
       "      <td>1.270466e+00</td>\n",
       "      <td>81.417657</td>\n",
       "    </tr>\n",
       "  </tbody>\n",
       "</table>\n",
       "</div>"
      ],
      "text/plain": [
       "                         prior_var      post_var  percent_reduction\n",
       "travel_time           6.851805e+08  4.490640e+08          34.460481\n",
       "fa_headwaters_0001    8.430109e+05  6.322101e+05          25.005708\n",
       "c001fr16c17_19791231  1.889666e-01  8.349993e-02          55.812338\n",
       "c001fr05c04_19791231  6.836951e+00  1.270466e+00          81.417657"
      ]
     },
     "execution_count": 78,
     "metadata": {},
     "output_type": "execute_result"
    }
   ],
   "source": [
    "# summary of forecast prior and posterior uncertainty\n",
    "sc.get_forecast_summary()"
   ]
  },
  {
   "cell_type": "markdown",
   "metadata": {},
   "source": [
    "`pyemu` makes FOSM easy to undertake. It has lot's of usefull functionality. We will not go into further detail here. See the \"intro to fosm\" tutorial for a deeper dive."
   ]
  },
  {
   "cell_type": "markdown",
   "metadata": {},
   "source": [
    "### 8. Ensembles\n",
    "\n",
    "The `pyemu.ParameterEnsemble` and `pyemu.ObservationEnsemble` ensemble classes store parameter or observation ensembles, respectively. These classes are `DataFrames` under the hood, allowing us to use all the baked in Pandas conveniences.\n",
    "\n",
    "We will focus on the `pyemu.ParameterEnsemble` class. Similar concepts apply to `pyemu.ObservationEnsemble`.\n",
    "\n",
    "Ensembles can be read from (and written to) external files, or generated by `pyemu` using one of several methods. These methods `draw` stochastic values from (multivariate) (log) gaussian, uniform and triangular distributions for parameters in a `Pst` control file.  Much of what we do is predicated on the gaussian distribution, so let's use that here by generating an ensemble with the `.from_gaussian_draw()` method. \n",
    "\n",
    "Note that these `draw` methods use initial parameter values in the control file (the `Pst.parameter_data.parval1` attribute) the $\\boldsymbol{\\mu}$  (mean) prior parameter vector.  Unless otherwise specified, the parameter bounds are assumed to represent six standard deviations of the parameter probability distribution (i.e. ~99% of parameter values lie within the lower and upper bounds). "
   ]
  },
  {
   "cell_type": "code",
   "execution_count": 79,
   "metadata": {
    "execution": {
     "iopub.execute_input": "2022-04-08T06:27:16.817372Z",
     "iopub.status.busy": "2022-04-08T06:27:16.816375Z",
     "iopub.status.idle": "2022-04-08T06:27:16.974952Z",
     "shell.execute_reply": "2022-04-08T06:27:16.976945Z"
    }
   },
   "outputs": [],
   "source": [
    "# before continuing, we are going to re-load the pest control file to get rid of any changes we introduced\n",
    "pst = pyemu.Pst(os.path.join(f_d,\"freyberg_pp.pst\"))"
   ]
  },
  {
   "cell_type": "code",
   "execution_count": 80,
   "metadata": {
    "execution": {
     "iopub.execute_input": "2022-04-08T06:27:16.986918Z",
     "iopub.status.busy": "2022-04-08T06:27:16.984926Z",
     "iopub.status.idle": "2022-04-08T06:27:17.017836Z",
     "shell.execute_reply": "2022-04-08T06:27:17.018835Z"
    }
   },
   "outputs": [],
   "source": [
    "pe = pyemu.ParameterEnsemble.from_gaussian_draw(pst, # the Pst control file object, parameter data here will be used to characterize the ensembles' parameter statisctical distribution\n",
    "                                                num_reals=200) # the number of realisations to generate\n",
    "                                                "
   ]
  },
  {
   "cell_type": "markdown",
   "metadata": {},
   "source": [
    "We can express parameter correlation by passing a covariance matrix to the `cov` argument. In doing so, the covariance matrix describes the second moement (the standard deviation) of the gaussian distribution. This allows us to draw parameter ensembles respecting parameter covariance. "
   ]
  },
  {
   "cell_type": "code",
   "execution_count": 81,
   "metadata": {
    "execution": {
     "iopub.execute_input": "2022-04-08T06:27:17.029804Z",
     "iopub.status.busy": "2022-04-08T06:27:17.028811Z",
     "iopub.status.idle": "2022-04-08T06:27:17.044765Z",
     "shell.execute_reply": "2022-04-08T06:27:17.045762Z"
    }
   },
   "outputs": [],
   "source": [
    "pe = pyemu.ParameterEnsemble.from_gaussian_draw(pst,           # the Pst control file object, parameter data here will be used to characterize the ensembles' parameter statisctical distribution\n",
    "                                                num_reals=200, # the number of realisations to generate\n",
    "                                                cov=prior_cov)    # specify parameter covariance; in this case, `parcov` doesn't actualy specify any covariance, but you get the idea..."
   ]
  },
  {
   "cell_type": "markdown",
   "metadata": {},
   "source": [
    "Because the Ensemble is stored as a DataFrame, we can easily access it. Each row is an individual realisation. Each column is a parameter."
   ]
  },
  {
   "cell_type": "code",
   "execution_count": 82,
   "metadata": {
    "execution": {
     "iopub.execute_input": "2022-04-08T06:27:17.057729Z",
     "iopub.status.busy": "2022-04-08T06:27:17.056732Z",
     "iopub.status.idle": "2022-04-08T06:27:17.128540Z",
     "shell.execute_reply": "2022-04-08T06:27:17.129538Z"
    }
   },
   "outputs": [
    {
     "data": {
      "text/html": [
       "<div>\n",
       "<style scoped>\n",
       "    .dataframe tbody tr th:only-of-type {\n",
       "        vertical-align: middle;\n",
       "    }\n",
       "\n",
       "    .dataframe tbody tr th {\n",
       "        vertical-align: top;\n",
       "    }\n",
       "\n",
       "    .dataframe thead th {\n",
       "        text-align: right;\n",
       "    }\n",
       "</style>\n",
       "<table border=\"1\" class=\"dataframe\">\n",
       "  <thead>\n",
       "    <tr style=\"text-align: right;\">\n",
       "      <th></th>\n",
       "      <th>hk00</th>\n",
       "      <th>hk01</th>\n",
       "      <th>hk02</th>\n",
       "      <th>hk03</th>\n",
       "      <th>hk04</th>\n",
       "      <th>hk05</th>\n",
       "      <th>hk06</th>\n",
       "      <th>hk07</th>\n",
       "      <th>hk08</th>\n",
       "      <th>hk09</th>\n",
       "      <th>...</th>\n",
       "      <th>w0_r20_c14</th>\n",
       "      <th>w0_r26_c10</th>\n",
       "      <th>w0_r29_c06</th>\n",
       "      <th>w0_r34_c12</th>\n",
       "      <th>w1_r09_c16</th>\n",
       "      <th>w1_r11_c13</th>\n",
       "      <th>w1_r20_c14</th>\n",
       "      <th>w1_r26_c10</th>\n",
       "      <th>w1_r29_c06</th>\n",
       "      <th>w1_r34_c12</th>\n",
       "    </tr>\n",
       "  </thead>\n",
       "  <tbody>\n",
       "    <tr>\n",
       "      <th>0</th>\n",
       "      <td>4.282251</td>\n",
       "      <td>0.515513</td>\n",
       "      <td>7.223507</td>\n",
       "      <td>6.598328</td>\n",
       "      <td>3.976811</td>\n",
       "      <td>13.535871</td>\n",
       "      <td>0.270134</td>\n",
       "      <td>7.083131</td>\n",
       "      <td>2.048404</td>\n",
       "      <td>3.683788</td>\n",
       "      <td>...</td>\n",
       "      <td>0.903788</td>\n",
       "      <td>1.025566</td>\n",
       "      <td>1.312461</td>\n",
       "      <td>0.872655</td>\n",
       "      <td>0.811879</td>\n",
       "      <td>0.436411</td>\n",
       "      <td>2.242973</td>\n",
       "      <td>0.355375</td>\n",
       "      <td>0.966883</td>\n",
       "      <td>2.134213</td>\n",
       "    </tr>\n",
       "    <tr>\n",
       "      <th>1</th>\n",
       "      <td>2.976066</td>\n",
       "      <td>1.180545</td>\n",
       "      <td>3.497429</td>\n",
       "      <td>45.684562</td>\n",
       "      <td>1.567815</td>\n",
       "      <td>6.020359</td>\n",
       "      <td>14.559707</td>\n",
       "      <td>2.636632</td>\n",
       "      <td>3.726345</td>\n",
       "      <td>38.282455</td>\n",
       "      <td>...</td>\n",
       "      <td>0.685774</td>\n",
       "      <td>1.883592</td>\n",
       "      <td>1.395199</td>\n",
       "      <td>1.267102</td>\n",
       "      <td>1.833112</td>\n",
       "      <td>1.181557</td>\n",
       "      <td>6.275507</td>\n",
       "      <td>0.620140</td>\n",
       "      <td>1.077183</td>\n",
       "      <td>0.150306</td>\n",
       "    </tr>\n",
       "    <tr>\n",
       "      <th>2</th>\n",
       "      <td>29.317058</td>\n",
       "      <td>3.487239</td>\n",
       "      <td>8.351074</td>\n",
       "      <td>4.415397</td>\n",
       "      <td>3.004822</td>\n",
       "      <td>16.145483</td>\n",
       "      <td>5.971614</td>\n",
       "      <td>2.112364</td>\n",
       "      <td>2.379113</td>\n",
       "      <td>1.515109</td>\n",
       "      <td>...</td>\n",
       "      <td>1.791839</td>\n",
       "      <td>0.998246</td>\n",
       "      <td>0.967017</td>\n",
       "      <td>1.484172</td>\n",
       "      <td>0.654332</td>\n",
       "      <td>2.742581</td>\n",
       "      <td>3.145955</td>\n",
       "      <td>3.422599</td>\n",
       "      <td>1.326742</td>\n",
       "      <td>0.286130</td>\n",
       "    </tr>\n",
       "    <tr>\n",
       "      <th>3</th>\n",
       "      <td>1.709065</td>\n",
       "      <td>1.389110</td>\n",
       "      <td>3.479177</td>\n",
       "      <td>12.573553</td>\n",
       "      <td>10.966852</td>\n",
       "      <td>22.722124</td>\n",
       "      <td>5.297299</td>\n",
       "      <td>1.799255</td>\n",
       "      <td>31.481663</td>\n",
       "      <td>8.067702</td>\n",
       "      <td>...</td>\n",
       "      <td>0.832192</td>\n",
       "      <td>1.092288</td>\n",
       "      <td>1.183589</td>\n",
       "      <td>0.568519</td>\n",
       "      <td>0.420843</td>\n",
       "      <td>0.675903</td>\n",
       "      <td>3.503355</td>\n",
       "      <td>1.133376</td>\n",
       "      <td>4.211715</td>\n",
       "      <td>0.850177</td>\n",
       "    </tr>\n",
       "    <tr>\n",
       "      <th>4</th>\n",
       "      <td>9.302456</td>\n",
       "      <td>4.684586</td>\n",
       "      <td>41.817348</td>\n",
       "      <td>2.917515</td>\n",
       "      <td>6.320494</td>\n",
       "      <td>3.794088</td>\n",
       "      <td>3.437952</td>\n",
       "      <td>6.623821</td>\n",
       "      <td>2.016632</td>\n",
       "      <td>4.290341</td>\n",
       "      <td>...</td>\n",
       "      <td>1.186924</td>\n",
       "      <td>1.037061</td>\n",
       "      <td>0.960814</td>\n",
       "      <td>0.604084</td>\n",
       "      <td>0.187716</td>\n",
       "      <td>0.803481</td>\n",
       "      <td>0.965624</td>\n",
       "      <td>2.498882</td>\n",
       "      <td>0.637866</td>\n",
       "      <td>4.123936</td>\n",
       "    </tr>\n",
       "  </tbody>\n",
       "</table>\n",
       "<p>5 rows × 48 columns</p>\n",
       "</div>"
      ],
      "text/plain": [
       "        hk00      hk01       hk02       hk03       hk04       hk05       hk06  \\\n",
       "0   4.282251  0.515513   7.223507   6.598328   3.976811  13.535871   0.270134   \n",
       "1   2.976066  1.180545   3.497429  45.684562   1.567815   6.020359  14.559707   \n",
       "2  29.317058  3.487239   8.351074   4.415397   3.004822  16.145483   5.971614   \n",
       "3   1.709065  1.389110   3.479177  12.573553  10.966852  22.722124   5.297299   \n",
       "4   9.302456  4.684586  41.817348   2.917515   6.320494   3.794088   3.437952   \n",
       "\n",
       "       hk07       hk08       hk09  ...  w0_r20_c14  w0_r26_c10  w0_r29_c06  \\\n",
       "0  7.083131   2.048404   3.683788  ...    0.903788    1.025566    1.312461   \n",
       "1  2.636632   3.726345  38.282455  ...    0.685774    1.883592    1.395199   \n",
       "2  2.112364   2.379113   1.515109  ...    1.791839    0.998246    0.967017   \n",
       "3  1.799255  31.481663   8.067702  ...    0.832192    1.092288    1.183589   \n",
       "4  6.623821   2.016632   4.290341  ...    1.186924    1.037061    0.960814   \n",
       "\n",
       "   w0_r34_c12  w1_r09_c16  w1_r11_c13  w1_r20_c14  w1_r26_c10  w1_r29_c06  \\\n",
       "0    0.872655    0.811879    0.436411    2.242973    0.355375    0.966883   \n",
       "1    1.267102    1.833112    1.181557    6.275507    0.620140    1.077183   \n",
       "2    1.484172    0.654332    2.742581    3.145955    3.422599    1.326742   \n",
       "3    0.568519    0.420843    0.675903    3.503355    1.133376    4.211715   \n",
       "4    0.604084    0.187716    0.803481    0.965624    2.498882    0.637866   \n",
       "\n",
       "   w1_r34_c12  \n",
       "0    2.134213  \n",
       "1    0.150306  \n",
       "2    0.286130  \n",
       "3    0.850177  \n",
       "4    4.123936  \n",
       "\n",
       "[5 rows x 48 columns]"
      ]
     },
     "execution_count": 82,
     "metadata": {},
     "output_type": "execute_result"
    }
   ],
   "source": [
    "pe.head()"
   ]
  },
  {
   "cell_type": "markdown",
   "metadata": {},
   "source": [
    "Let's plot a histogram of values generated for one of the parameters:"
   ]
  },
  {
   "cell_type": "code",
   "execution_count": 83,
   "metadata": {
    "execution": {
     "iopub.execute_input": "2022-04-08T06:27:17.145495Z",
     "iopub.status.busy": "2022-04-08T06:27:17.143501Z",
     "iopub.status.idle": "2022-04-08T06:27:17.595292Z",
     "shell.execute_reply": "2022-04-08T06:27:17.597286Z"
    }
   },
   "outputs": [
    {
     "data": {
      "text/plain": [
       "Text(0, 0.5, 'number of realisations')"
      ]
     },
     "execution_count": 83,
     "metadata": {},
     "output_type": "execute_result"
    },
    {
     "data": {
      "image/png": "[encoded data removed]",
      "text/plain": [
       "<Figure size 432x288 with 1 Axes>"
      ]
     },
     "metadata": {
      "needs_background": "light"
     },
     "output_type": "display_data"
    }
   ],
   "source": [
    "pe.loc[:, 'rch_0'].hist()\n",
    "plt.xlabel('parameter value')\n",
    "plt.ylabel('number of realisations')"
   ]
  },
  {
   "cell_type": "code",
   "execution_count": 84,
   "metadata": {
    "execution": {
     "iopub.execute_input": "2022-04-08T06:27:17.611250Z",
     "iopub.status.busy": "2022-04-08T06:27:17.610253Z",
     "iopub.status.idle": "2022-04-08T06:27:17.616235Z",
     "shell.execute_reply": "2022-04-08T06:27:17.615238Z"
    }
   },
   "outputs": [
    {
     "data": {
      "text/plain": [
       "parlbnd    0.5\n",
       "parubnd    2.0\n",
       "Name: rch_0, dtype: object"
      ]
     },
     "execution_count": 84,
     "metadata": {},
     "output_type": "execute_result"
    }
   ],
   "source": [
    "# chekc the parmeter bounds; do any of the histogram bnis fall above/below the upper/lower bound value?\n",
    "par.loc['rch_0', ['parlbnd','parubnd']]"
   ]
  },
  {
   "cell_type": "markdown",
   "metadata": {},
   "source": [
    "As you can see, parameter bounds may be violated when drawing the ensemble. The `.enforce()` method goes through it and makes sure that bounds are respected. It does this by assigning the bound value to any parameter values which exceed the bound.\n",
    "\n",
    "As you can see in the subsequent plot, bounds are now respected:"
   ]
  },
  {
   "cell_type": "code",
   "execution_count": 85,
   "metadata": {
    "execution": {
     "iopub.execute_input": "2022-04-08T06:27:17.628204Z",
     "iopub.status.busy": "2022-04-08T06:27:17.627207Z",
     "iopub.status.idle": "2022-04-08T06:27:18.038107Z",
     "shell.execute_reply": "2022-04-08T06:27:18.040103Z"
    }
   },
   "outputs": [
    {
     "data": {
      "text/plain": [
       "Text(0, 0.5, 'number of realisations')"
      ]
     },
     "execution_count": 85,
     "metadata": {},
     "output_type": "execute_result"
    },
    {
     "data": {
      "image/png": "[encoded data removed]",
      "text/plain": [
       "<Figure size 432x288 with 1 Axes>"
      ]
     },
     "metadata": {
      "needs_background": "light"
     },
     "output_type": "display_data"
    }
   ],
   "source": [
    "# enforce parmeter bounds\n",
    "pe.enforce()\n",
    "\n",
    "# plot again\n",
    "pe.loc[:, 'rch_0'].hist()\n",
    "plt.xlabel('parameter value')\n",
    "plt.ylabel('number of realisations')"
   ]
  },
  {
   "cell_type": "markdown",
   "metadata": {},
   "source": [
    "There are also built in functions to automate plotting:"
   ]
  },
  {
   "cell_type": "code",
   "execution_count": 86,
   "metadata": {
    "execution": {
     "iopub.execute_input": "2022-04-08T06:27:18.050076Z",
     "iopub.status.busy": "2022-04-08T06:27:18.048081Z",
     "iopub.status.idle": "2022-04-08T06:27:20.334578Z",
     "shell.execute_reply": "2022-04-08T06:27:20.335954Z"
    }
   },
   "outputs": [
    {
     "data": {
      "text/plain": [
       "<Figure size 576x756 with 0 Axes>"
      ]
     },
     "metadata": {},
     "output_type": "display_data"
    },
    {
     "data": {
      "image/png": "[encoded data removed]",
      "text/plain": [
       "<Figure size 576x756 with 8 Axes>"
      ]
     },
     "metadata": {
      "needs_background": "light"
     },
     "output_type": "display_data"
    }
   ],
   "source": [
    "# generates a A4 page of histograms for specified columns (e.g. parameters)\n",
    "\n",
    "# slect column (e.g. parameter) names\n",
    "plot_cols = pe.columns[0:8].tolist() \n",
    "\n",
    "# plot histograms\n",
    "pe.plot(bins=10, \n",
    "        plot_cols=plot_cols, # specifyes which columns to plot\n",
    "        filename=None, )     # external filename to record plot"
   ]
  },
  {
   "cell_type": "markdown",
   "metadata": {},
   "source": [
    "You can record an ensemble to external files (.csv of binary):"
   ]
  },
  {
   "cell_type": "code",
   "execution_count": 87,
   "metadata": {
    "execution": {
     "iopub.execute_input": "2022-04-08T06:27:20.344552Z",
     "iopub.status.busy": "2022-04-08T06:27:20.343554Z",
     "iopub.status.idle": "2022-04-08T06:27:20.384445Z",
     "shell.execute_reply": "2022-04-08T06:27:20.386440Z"
    }
   },
   "outputs": [],
   "source": [
    "pe.to_csv(os.path.join(f_d, 'prior_pe.csv'))"
   ]
  },
  {
   "cell_type": "markdown",
   "metadata": {},
   "source": [
    "And of course, read from external files (csv, binary) or even from pandas DataFrames:"
   ]
  },
  {
   "cell_type": "code",
   "execution_count": 88,
   "metadata": {
    "execution": {
     "iopub.execute_input": "2022-04-08T06:27:20.395416Z",
     "iopub.status.busy": "2022-04-08T06:27:20.394418Z",
     "iopub.status.idle": "2022-04-08T06:27:20.431320Z",
     "shell.execute_reply": "2022-04-08T06:27:20.432318Z"
    }
   },
   "outputs": [],
   "source": [
    "pe = pyemu.ParameterEnsemble.from_csv(pst, filename=os.path.join(f_d, 'prior_pe.csv'))"
   ]
  },
  {
   "cell_type": "markdown",
   "metadata": {},
   "source": [
    "We can even form an empirical covariance matrix from an ensemble!"
   ]
  },
  {
   "cell_type": "code",
   "execution_count": 89,
   "metadata": {
    "execution": {
     "iopub.execute_input": "2022-04-08T06:27:20.448275Z",
     "iopub.status.busy": "2022-04-08T06:27:20.444285Z",
     "iopub.status.idle": "2022-04-08T06:27:21.043575Z",
     "shell.execute_reply": "2022-04-08T06:27:21.044571Z"
    }
   },
   "outputs": [
    {
     "data": {
      "text/plain": [
       "<matplotlib.colorbar.Colorbar at 0x1edeb9fffc8>"
      ]
     },
     "execution_count": 89,
     "metadata": {},
     "output_type": "execute_result"
    },
    {
     "data": {
      "image/png": "[encoded data removed]",
      "text/plain": [
       "<Figure size 432x288 with 2 Axes>"
      ]
     },
     "metadata": {
      "needs_background": "light"
     },
     "output_type": "display_data"
    }
   ],
   "source": [
    "emp_cov = pe.covariance_matrix()\n",
    "\n",
    "# display for fun\n",
    "x = emp_cov.x.copy()\n",
    "x[x<1.0e-3] = np.NaN\n",
    "c = plt.imshow(x)\n",
    "plt.colorbar(c)"
   ]
  },
  {
   "cell_type": "markdown",
   "metadata": {},
   "source": [
    "#### 8.1 Bayes Linear Monte Carlo\n",
    "\n",
    "We can use the bayes linear posterior parameter covariance matrix (aka Schur compliment) to \"precondition\" the realizations using linear algebra so that they hopefully yield a lower phi.  The trick is we just need to pass this\n",
    "posterior covariance matrix to the draw method.  Note this covariance matrix is the second moment of the posterior (under the FOSM assumptions) and the final parameter values is the first moment.\n",
    "\n",
    "In other GMDSI educational material, and in the PEST Roadmaps, this approach is sometimes referred to as \"using the linearized posterior parameter distribution\". \n",
    "\n",
    "Applying Bayes linear Monte Carlo requires that we have previously calibrated a model and calculated a post-calibration Jacobian matrix.  From the Jacobian, we can obtain the post-calibration parameter covariance. The \"calibrated\" parameter values represent the mean of the posterior parameter probability distribution. By centering the distribution on values that already provide a good fit with measurment data, we are increasing the likelihood that the realisatiosn that we draw will also fit measured data well. This can be usefull in reducing subsequent history-matching computation time.\n"
   ]
  },
  {
   "cell_type": "code",
   "execution_count": 90,
   "metadata": {
    "execution": {
     "iopub.execute_input": "2022-04-08T06:27:21.060529Z",
     "iopub.status.busy": "2022-04-08T06:27:21.058534Z",
     "iopub.status.idle": "2022-04-08T06:27:21.374571Z",
     "shell.execute_reply": "2022-04-08T06:27:21.375569Z"
    }
   },
   "outputs": [
    {
     "name": "stdout",
     "output_type": "stream",
     "text": [
      "drawing from group hk\n",
      "drawing from group porosity\n",
      "drawing from group rch\n",
      "drawing from group sfr\n",
      "drawing from group w0\n"
     ]
    },
    {
     "name": "stdout",
     "output_type": "stream",
     "text": [
      "drawing from group w1\n"
     ]
    }
   ],
   "source": [
    "pe_post = pyemu.ParameterEnsemble.from_gaussian_draw(pst=pst,\n",
    "                                                    cov=post_cov, \n",
    "                                                    num_reals=200)\n",
    "pe_post.enforce()"
   ]
  },
  {
   "cell_type": "code",
   "execution_count": 91,
   "metadata": {
    "execution": {
     "iopub.execute_input": "2022-04-08T06:27:21.415461Z",
     "iopub.status.busy": "2022-04-08T06:27:21.395514Z",
     "iopub.status.idle": "2022-04-08T06:27:21.782480Z",
     "shell.execute_reply": "2022-04-08T06:27:21.783477Z"
    }
   },
   "outputs": [
    {
     "data": {
      "text/plain": [
       "<AxesSubplot:>"
      ]
     },
     "execution_count": 91,
     "metadata": {},
     "output_type": "execute_result"
    },
    {
     "data": {
      "image/png": "[encoded data removed]",
      "text/plain": [
       "<Figure size 432x288 with 1 Axes>"
      ]
     },
     "metadata": {
      "needs_background": "light"
     },
     "output_type": "display_data"
    }
   ],
   "source": [
    "# comapre the prior and the posterior\n",
    "pe.loc[:, 'rch_0'].hist(alpha=0.5)\n",
    "pe_post.loc[:, 'rch_0'].hist(alpha=0.5)\n",
    "#pe_post.loc[:, 'hk00'].plot(kind=\"hist\",bins=20,ax=ax,alpha=0.5)"
   ]
  },
  {
   "cell_type": "code",
   "execution_count": 92,
   "metadata": {
    "execution": {
     "iopub.execute_input": "2022-04-08T06:27:21.790459Z",
     "iopub.status.busy": "2022-04-08T06:27:21.789461Z",
     "iopub.status.idle": "2022-04-08T06:27:27.382261Z",
     "shell.execute_reply": "2022-04-08T06:27:27.383258Z"
    }
   },
   "outputs": [
    {
     "name": "stdout",
     "output_type": "stream",
     "text": [
      "return type uncaught, losing Ensemble type, returning DataFrame\n",
      "return type uncaught, losing Ensemble type, returning DataFrame\n"
     ]
    },
    {
     "data": {
      "text/plain": [
       "[<Figure size 576x756 with 0 Axes>,\n",
       " <Figure size 576x756 with 8 Axes>,\n",
       " <Figure size 576x756 with 8 Axes>]"
      ]
     },
     "execution_count": 92,
     "metadata": {},
     "output_type": "execute_result"
    },
    {
     "data": {
      "text/plain": [
       "<Figure size 576x756 with 0 Axes>"
      ]
     },
     "metadata": {},
     "output_type": "display_data"
    },
    {
     "data": {
      "image/png": "[encoded data removed]",
      "text/plain": [
       "<Figure size 576x756 with 8 Axes>"
      ]
     },
     "metadata": {
      "needs_background": "light"
     },
     "output_type": "display_data"
    },
    {
     "data": {
      "image/png": "[encoded data removed]",
      "text/plain": [
       "<Figure size 576x756 with 8 Axes>"
      ]
     },
     "metadata": {
      "needs_background": "light"
     },
     "output_type": "display_data"
    }
   ],
   "source": [
    "# plots the change between two ensembles\n",
    "pyemu.plot_utils.ensemble_change_summary(pe, pe_post, pst)"
   ]
  },
  {
   "cell_type": "markdown",
   "metadata": {},
   "source": [
    "Or for comparing histograms from several ensembles. (Can also be used for observation ensembles; see additional method arguments):"
   ]
  },
  {
   "cell_type": "code",
   "execution_count": 93,
   "metadata": {
    "execution": {
     "iopub.execute_input": "2022-04-08T06:27:27.394229Z",
     "iopub.status.busy": "2022-04-08T06:27:27.392234Z",
     "iopub.status.idle": "2022-04-08T06:27:30.060697Z",
     "shell.execute_reply": "2022-04-08T06:27:30.061695Z"
    }
   },
   "outputs": [
    {
     "data": {
      "text/plain": [
       "<Figure size 576x756 with 0 Axes>"
      ]
     },
     "metadata": {},
     "output_type": "display_data"
    },
    {
     "data": {
      "image/png": "[encoded data removed]",
      "text/plain": [
       "<Figure size 576x756 with 8 Axes>"
      ]
     },
     "metadata": {
      "needs_background": "light"
     },
     "output_type": "display_data"
    }
   ],
   "source": [
    "pyemu.plot_utils.ensemble_helper(ensemble={\"0.5\":pe, \"b\":pe_post,},\n",
    "                                     filename=None,\n",
    "                                     plot_cols=plot_cols,\n",
    "                                     )"
   ]
  },
  {
   "cell_type": "code",
   "execution_count": null,
   "metadata": {},
   "outputs": [],
   "source": []
  }
 ],
 "metadata": {
  "interpreter": {
   "hash": "d91d695e32284e5f4db43d0a55a7ffe722d99eb6050b5b06eff0d966e4449445"
  },
  "kernelspec": {
   "display_name": "Python 3 (ipykernel)",
   "language": "python",
   "name": "python3"
  },
  "language_info": {
   "codemirror_mode": {
    "name": "ipython",
    "version": 3
   },
   "file_extension": ".py",
   "mimetype": "text/x-python",
   "name": "python",
   "nbconvert_exporter": "python",
   "pygments_lexer": "ipython3",
   "version": "3.7.9"
  }
 },
 "nbformat": 4,
 "nbformat_minor": 2
}
