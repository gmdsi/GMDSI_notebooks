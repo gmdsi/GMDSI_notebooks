{
 "cells": [
  {
   "cell_type": "markdown",
   "metadata": {},
   "source": [
    "# Introduction to Regression\n",
    "\n",
    "This tutorial proves an overview of linear regression. It illustrates fitting a polynomial to noisy data, including the role of SSE (reponse curve), degrees of freedom, the gradient of that surface (Jacobian) and overfitting.\n",
    "\n",
    "We use a very simple model (a polynomial function) to illustrate these core concepts and the maths underpinning them. When the models get more complicated, we will need more powerfull tools (i.e. PEST/PEST++). However, many of the underlying concepts will be similar."
   ]
  },
  {
   "cell_type": "code",
   "execution_count": null,
   "metadata": {
    "execution": {
     "iopub.execute_input": "2022-04-08T06:26:21.450882Z",
     "iopub.status.busy": "2022-04-08T06:26:21.449884Z",
     "iopub.status.idle": "2022-04-08T06:26:22.918256Z",
     "shell.execute_reply": "2022-04-08T06:26:22.915265Z"
    }
   },
   "outputs": [],
   "source": [
    "from __future__ import print_function\n",
    "import numpy as np\n",
    "import scipy.optimize as spo\n",
    "import matplotlib.pyplot as plt\n",
    "import regression_helper as rh\n",
    "import ipywidgets as widgets"
   ]
  },
  {
   "cell_type": "markdown",
   "metadata": {},
   "source": [
    "### 1. First cook up some data\n",
    "In the tutorial folder there is a file named `regression_helper.py` that we have imported as `rh`. It contains functions used throught this notebook. You do not need to know the details of those functions, merely to follow the ideas discussed herein.\n",
    "\n",
    "We are going to generate some data using the function `rh.data_cooker()`. This function sets a range of x-values, then makes a \"true\" set of y-values using a second degree polynomial (e.g. `best_degree=2`). \n",
    "\n",
    "The general form of the polynomial is: \n",
    "\n",
    "$y=ax^2 + bx + c$\n",
    "\n",
    "We set $c=0$ for our purposes so that we have two free parameters: $a$ and $b$. Values of $y$ are observations. The function also adds noise to the \"true\" observations."
   ]
  },
  {
   "cell_type": "code",
   "execution_count": null,
   "metadata": {
    "execution": {
     "iopub.execute_input": "2022-04-08T06:26:22.925236Z",
     "iopub.status.busy": "2022-04-08T06:26:22.925236Z",
     "iopub.status.idle": "2022-04-08T06:26:22.928228Z",
     "shell.execute_reply": "2022-04-08T06:26:22.929225Z"
    }
   },
   "outputs": [],
   "source": [
    "xplot, x, y_data, poly_func, polypars = rh.data_cooker()"
   ]
  },
  {
   "cell_type": "markdown",
   "metadata": {},
   "source": [
    "Let's plot this data. The `rh.plot_truth()` function conveniently does this for us. \n",
    "\n",
    "The blue line is the \"true\" model. Think of this as reality. \n",
    "\n",
    "Orange dots are observations of reality. They represent what we can measure. For example, in a groundwater context, these would be things such as water levels and contaminant concentrations. Measurements do not all coincide with the blue line because of \"noise\". Noise can be caused by errors when taking or processing a measurement. "
   ]
  },
  {
   "cell_type": "code",
   "execution_count": null,
   "metadata": {
    "execution": {
     "iopub.execute_input": "2022-04-08T06:26:22.949175Z",
     "iopub.status.busy": "2022-04-08T06:26:22.948178Z",
     "iopub.status.idle": "2022-04-08T06:26:23.198508Z",
     "shell.execute_reply": "2022-04-08T06:26:23.199505Z"
    }
   },
   "outputs": [],
   "source": [
    "rh.plot_truth(xplot,x,y_data, poly_func)"
   ]
  },
  {
   "cell_type": "markdown",
   "metadata": {},
   "source": [
    "### 2. Build a Model\n",
    "\n",
    "We are going to construct a model with which we hope to explain the \"measured\" data. The intention is to use this model to subsequently make a prediction.\n",
    "\n",
    "Our model is a 2nd degree polynomial function (i.e. it has three variables). In this scenario we actualy know the number of unkown parameters that exist in \"reality\". Thus, in principle, it is possible to build a perfect model.\n",
    "\n",
    "We will use the Numpy `poly1d()` class to generate a polynomial function as our model. We specified the coeficient $c$ as being equal to zero. Coeficients $a$ and $b$ are unkown. In the example below, we specify a \"first-guess\" for $a$ and $b$ as -1 and 0.5, respectively.\n",
    "\n",
    "We can then use the `rh.plot_truth()` function to display our model with measured data and the truth."
   ]
  },
  {
   "cell_type": "code",
   "execution_count": null,
   "metadata": {
    "execution": {
     "iopub.execute_input": "2022-04-08T06:26:23.218452Z",
     "iopub.status.busy": "2022-04-08T06:26:23.217455Z",
     "iopub.status.idle": "2022-04-08T06:26:23.377539Z",
     "shell.execute_reply": "2022-04-08T06:26:23.377539Z"
    }
   },
   "outputs": [],
   "source": [
    "a = -1\n",
    "b = 0.5\n",
    "c = 0\n",
    "model = np.poly1d([a, b, c]) \n",
    "\n",
    "rh.plot_truth(xplot,x,y_data, poly_func, model)"
   ]
  },
  {
   "cell_type": "markdown",
   "metadata": {},
   "source": [
    "### 3. Measure Model-to-Measurement Fit \n",
    "\n",
    "History-matching (and calibration) are essentialy a search for parameters which allow a model to \"better\" fit a set of measurement data. This is acomplished through minimizing a so called \"objective function\" (often displayed as Phi, $\\Phi$). The objective function can be defined in many ways. Perhaps the most common is the “**sum of squared weighted differences (or residuals)**” between model outputs and field measurements:\n",
    "\n",
    "$\\Phi=\\sum_{i=1}^{NPAR}\\left[w_{hi}(y_{i}-m\\left(x_{i}\\right)\\right)]^{2}$\n",
    "\n",
    "where: \n",
    "\n",
    " * $y_i$ is the $i^{th}$ observation.\n",
    " * $m\\left(x_i\\right)$ is the modeled equivalent to the $i^{th}$ observation.\n",
    " * $w_{hi}$ is the weight assigned to the observation.\n",
    " \n",
    "\n",
    "**Residuals**, $(y_{i}-m\\left(x_{i}\\right))$, are the difference between measured observations and the corresponding model outputs. For example, the difference between heads collected at a well and the simulated value of head at the corresponding location in a model. Or, in our current case, the difference between the orange dots and the black line at the same location along the x-axis.\n",
    "\n",
    "Residuals for our polynomial model are calculated and displayed below:"
   ]
  },
  {
   "cell_type": "code",
   "execution_count": null,
   "metadata": {
    "execution": {
     "iopub.execute_input": "2022-04-08T06:26:23.411449Z",
     "iopub.status.busy": "2022-04-08T06:26:23.400478Z",
     "iopub.status.idle": "2022-04-08T06:26:23.805070Z",
     "shell.execute_reply": "2022-04-08T06:26:23.805070Z"
    }
   },
   "outputs": [],
   "source": [
    "# residuals = measured values - modelled values\n",
    "def errfun(pars, x, y_data):\n",
    "    residuals = y_data - np.poly1d([*pars, 0])(x)\n",
    "    return residuals\n",
    "\n",
    "# run the function with values of a,b defined earlier\n",
    "residuals = errfun([a,b], x, y_data)\n",
    "\n",
    "# plot residuals on the x-axis\n",
    "plt.scatter(x, residuals, label='residual')\n",
    "plt.ylabel('error')\n",
    "plt.legend();"
   ]
  },
  {
   "cell_type": "markdown",
   "metadata": {},
   "source": [
    "\n",
    "**Weights**, $w_{hi}$, are applied to this residual to increase or decrease the contribution of individual observations to the total objective function. Ideally weights are assigned to give greater relevance to observations that have less noise, or are less uncertain. In practice, weighting strategies usually need to be more nuanced and will often reflect a quantitative measure of a modellers judgment as to which observations are most relevant to inform parameter that affect the prediction of interest. For the purposes of this tutorial, we will assume uniform weights and these will play no further role herein.\n",
    "\n",
    "So! Residuals are calculated, multiplied by a weight to adjust their relative contributions, then squared to make all residuals positive. Finally all residuals are summed to determine the value of the **objective function** ($\\Phi$). Below we implement the equation described previously as a function. "
   ]
  },
  {
   "cell_type": "code",
   "execution_count": null,
   "metadata": {
    "execution": {
     "iopub.execute_input": "2022-04-08T06:26:23.813138Z",
     "iopub.status.busy": "2022-04-08T06:26:23.812141Z",
     "iopub.status.idle": "2022-04-08T06:26:23.818126Z",
     "shell.execute_reply": "2022-04-08T06:26:23.817128Z"
    }
   },
   "outputs": [],
   "source": [
    "def calc_sse(pars, x, y_data):\n",
    "    model = np.poly1d([pars[0], pars[1], 0]) \n",
    "    # the sum of squared residuals (not weighted)\n",
    "    sse = sum((y_data - model(x))**2)\n",
    "    return sse\n",
    "\n",
    "phi_0 = calc_sse([a,b], x, y_data)\n",
    "print('Phi =',phi_0)"
   ]
  },
  {
   "cell_type": "markdown",
   "metadata": {},
   "source": [
    "**History-Matching** is achieved by minimizing the value of this objective function. **Calibration** is achieved by finding the *unique* solution which minimizes the objective function."
   ]
  },
  {
   "cell_type": "markdown",
   "metadata": {},
   "source": [
    "### 4. The Response Surface\n",
    "\n",
    "Now, we can use $\\Phi$ to evaluate the **response surface**. In other words, \"how $\\Phi$ changes with changes in parameter values\". \n",
    "\n",
    "The function `rh.plot_sse()` calculates and plots $\\Phi$ for a range of values of the two parameters ($a$ and $b$). Inspecting the plots below allow us to idenitfy the values of $a$ and $b$ where $\\Phi$ is smallest."
   ]
  },
  {
   "cell_type": "code",
   "execution_count": null,
   "metadata": {
    "execution": {
     "iopub.execute_input": "2022-04-08T06:26:23.845054Z",
     "iopub.status.busy": "2022-04-08T06:26:23.824109Z",
     "iopub.status.idle": "2022-04-08T06:26:24.294074Z",
     "shell.execute_reply": "2022-04-08T06:26:24.295072Z"
    }
   },
   "outputs": [],
   "source": [
    "a,b = rh.plot_sse(polypars, x, y_data)"
   ]
  },
  {
   "cell_type": "markdown",
   "metadata": {},
   "source": [
    "Or, since `python` is slick, we can make a contour plot. From this plot we can see that $a$ and $b$ are not independent. The value of $b$ that provides the \"best fit\" depends on what value of $a$ is considered, and vice versa. \n",
    "\n",
    "However, there is a \"best fit\". That is the point on this (two-dimensional) surface at which $\\Phi$ is smallest. (Finding that point is the goal of calibration.) This is easy to visualize for a two-dimensional problem. As we move into higher dimensions, things get a bit more challenging. However, the concepts are similar. "
   ]
  },
  {
   "cell_type": "code",
   "execution_count": null,
   "metadata": {
    "execution": {
     "iopub.execute_input": "2022-04-08T06:26:24.307039Z",
     "iopub.status.busy": "2022-04-08T06:26:24.305060Z",
     "iopub.status.idle": "2022-04-08T06:26:24.810693Z",
     "shell.execute_reply": "2022-04-08T06:26:24.811690Z"
    }
   },
   "outputs": [],
   "source": [
    "A, B, SSE_AB = rh.contour_sse(a, b, x, y_data)"
   ]
  },
  {
   "cell_type": "markdown",
   "metadata": {},
   "source": [
    "### 5. Fit a Polynomial Function\n",
    "\n",
    "Now we will fit our polynomial model to minimize the misfit between measured and modelled values. Recall that we are assuming a polynomial of the same degree as was used to generate the data (e.g. 2 unkown parameters).\n",
    "\n",
    "We will use the least squares method, as implemented in `scipy.optimize` package, to minimize the `errfun()` function that we wrote earlier. (Recall that `errfun()` calculates the residuals between modelled and \"measured\" values for our polynomial function.)\n",
    "\n",
    "Essentialy, the optimizer will iteratively adjust the value of each parameter ($a$ and $b$) in turn. By comparing the effect of parameter changes on the change in objective function ($\\Phi$), it calculates the slope of the objective function surface. From this it determines the direction in parameter space to take in order to head towards the minimum value of the objective function. It does this untill it reaches some user defined criteria to stop (usualy when improvements in $\\Phi$ become small)."
   ]
  },
  {
   "cell_type": "code",
   "execution_count": null,
   "metadata": {
    "execution": {
     "iopub.execute_input": "2022-04-08T06:26:24.838618Z",
     "iopub.status.busy": "2022-04-08T06:26:24.836624Z",
     "iopub.status.idle": "2022-04-08T06:26:24.847593Z",
     "shell.execute_reply": "2022-04-08T06:26:24.848591Z"
    }
   },
   "outputs": [],
   "source": [
    "# fit the polynomial using scipy.optimize.least_squares()\n",
    "sol = spo.least_squares(errfun,[-2,2],args=(x,y_data))\n",
    "y_fit_pars_best = [*sol.x,0]\n",
    "\n",
    "# the best fit parameters for our polynomial\n",
    "y_fit_pars_best"
   ]
  },
  {
   "cell_type": "markdown",
   "metadata": {},
   "source": [
    "As we can see, $\\Phi$ is reduced:"
   ]
  },
  {
   "cell_type": "code",
   "execution_count": null,
   "metadata": {
    "execution": {
     "iopub.execute_input": "2022-04-08T06:26:24.858564Z",
     "iopub.status.busy": "2022-04-08T06:26:24.857567Z",
     "iopub.status.idle": "2022-04-08T06:26:24.863551Z",
     "shell.execute_reply": "2022-04-08T06:26:24.862554Z"
    }
   },
   "outputs": [],
   "source": [
    "# calculate Phi with calibrated model\n",
    "phi_calib = calc_sse(y_fit_pars_best, x, y_data)\n",
    "\n",
    "# reduction in Phi\n",
    "print(f'Initial Phi: {phi_0}')\n",
    "print(f'Minimum Phi: {phi_calib}')\n",
    "print(f'% of initial Phi: {round(100*phi_calib/phi_0, 2)} %')"
   ]
  },
  {
   "cell_type": "markdown",
   "metadata": {},
   "source": [
    "And if we plot modelled values with the best fit parameters:"
   ]
  },
  {
   "cell_type": "code",
   "execution_count": null,
   "metadata": {
    "execution": {
     "iopub.execute_input": "2022-04-08T06:26:24.878512Z",
     "iopub.status.busy": "2022-04-08T06:26:24.877514Z",
     "iopub.status.idle": "2022-04-08T06:26:25.309510Z",
     "shell.execute_reply": "2022-04-08T06:26:25.310507Z"
    }
   },
   "outputs": [],
   "source": [
    "# construct the model with best fit parameteres\n",
    "calib_model = np.poly1d(y_fit_pars_best) \n",
    "\n",
    "# plot \n",
    "rh.plot_truth(xplot,x,y_data, poly_func, calib_model)"
   ]
  },
  {
   "cell_type": "markdown",
   "metadata": {},
   "source": [
    "So how well did we do? Let's compare the \"true\" values of $a$ and $b$ with the \"best fit\" values."
   ]
  },
  {
   "cell_type": "code",
   "execution_count": null,
   "metadata": {
    "execution": {
     "iopub.execute_input": "2022-04-08T06:26:25.319526Z",
     "iopub.status.busy": "2022-04-08T06:26:25.318529Z",
     "iopub.status.idle": "2022-04-08T06:26:25.325510Z",
     "shell.execute_reply": "2022-04-08T06:26:25.326507Z"
    }
   },
   "outputs": [],
   "source": [
    "print('True parameters are:              a={0:.4f}, b={1:.4f}, c={2}'.format(*polypars))\n",
    "print('The best-estimate parameters are: a={0:.4f}, b={1:.4f}, c={2}'.format(*y_fit_pars_best))"
   ]
  },
  {
   "cell_type": "markdown",
   "metadata": {},
   "source": [
    "### 6. The Jacobian (or Sensitivity) Matrix\n",
    "\n",
    "The Jacobian matrix, sometimes referred to as a sensitivity matrix, contains the gradients of parameter changes in regard to changes in values of observations. It is a matrix of dimensions ($m * n$), in which $m$ is the number of adjustable parameters and $n$ is the number of observations.\n",
    "\n",
    "For each parameter-observation combination, we can see how much the observation value changes due to a small change in the parameter. If $y$ are the observations and $x$ are the parameters, the equation for the $i^th$ observation with respect to the $j^th$ parameter is:  \n",
    "\n",
    "### $\\frac{\\partial y_i}{\\partial x_j}$\n",
    "\n",
    "This can be approximated by finite differences as :  \n",
    "\n",
    "### $\\frac{\\partial y_i}{\\partial x_j} \\approx \\frac{y\\left(x+\\Delta x \\right)-y\\left(x\\right)}{\\Delta x}$\n",
    "\n",
    "These provide information on how \"sensitive\" observations are to parameter changes. They can provide lots of usefull information, such as which parameters are more relevant for improving the fit with measured data or, perhaps more importantly, which parameters affect a simulated prediction.\n",
    "\n",
    "`scipy.optimize.least_squares` provides a method to access a modified Jacobian matrix at the solution. Instead of changes for individual observations, here we can see how the \"cost function\" changes with changes in parameter values. Use the `rh.plot_jacobian()` function to display a graph of the cost function versus changes in parameter value."
   ]
  },
  {
   "cell_type": "code",
   "execution_count": null,
   "metadata": {
    "execution": {
     "iopub.execute_input": "2022-04-08T06:26:25.367523Z",
     "iopub.status.busy": "2022-04-08T06:26:25.366016Z",
     "iopub.status.idle": "2022-04-08T06:26:26.023510Z",
     "shell.execute_reply": "2022-04-08T06:26:26.024506Z"
    }
   },
   "outputs": [],
   "source": [
    "rh.plot_jacobian(sol)"
   ]
  },
  {
   "cell_type": "markdown",
   "metadata": {},
   "source": [
    "### 7. Make a Prediction\n",
    "\n",
    "Now let us use our model to make a prediction. Because we also know the \"truth\" we can compare our model prediction to the true value. The function `rh.plot_prediction()` plots the \"truth\", the data and the model simulated values. Values of the \"sum of squared error\" (SSE) for the calibration data and the prediction are also shown.\n",
    "\n",
    "As you can see, even though the model has the same degrees as the truth (i.e. the same numbers of parameters) and in principle is able to perfectly match \"truth\", the prediction has error. This error is introduced by trying to fit the model to observations that include \"noise\". \n",
    "\n",
    "(*Try restarting the notebook and running it again. As the random seed changes each time, you should see different values of SSE prediction. Try this a few times. Do you think you can predict how much error to expect?*)"
   ]
  },
  {
   "cell_type": "code",
   "execution_count": null,
   "metadata": {
    "execution": {
     "iopub.execute_input": "2022-04-08T06:26:26.042551Z",
     "iopub.status.busy": "2022-04-08T06:26:26.041552Z",
     "iopub.status.idle": "2022-04-08T06:26:26.801497Z",
     "shell.execute_reply": "2022-04-08T06:26:26.802495Z"
    }
   },
   "outputs": [],
   "source": [
    "rh.plot_prediction(x, y_data, poly_func, np.poly1d(y_fit_pars_best))    "
   ]
  },
  {
   "cell_type": "markdown",
   "metadata": {},
   "source": [
    "### 8. Over/Underfitting\n",
    "\n",
    "So far we have considered a scenario in which our model has the same (perfect) number of parameters as the \"truth\". Let's see what happens if we use less or more parameters (in our case, degrees of freedom in the polynomial function).\n",
    "\n",
    "The widget below allows you to interactively change the number of parameters in the model (see the sliding bar in the top left labeled `cdegree`). \n",
    "\n",
    "Both plots show the same thing. The only difference is that the scale on the y-axis of the plot on the right-hand side is static, so that you can always see a \"close-up\" of the measured data. The blue line shows the \"truth. The black line shows the model \"simulated\" values. Orange dots are measured data. The true and simulated values of a prediction are shown with a green circle and red X, respectively. \n",
    "\n",
    "Model values are updated whenever you shift the slider. (In the background a new model is \"calibrated\" and the new values are displayed.) Above the plot two values are shown:\n",
    "\n",
    "1. the absolute error between the true and simulated prediction;\n",
    "2. everyone's favourite satistic of \"good-fit\", the coefficient of determination $R^2$\n",
    "\n",
    "Play around with the slider. \n",
    "\n",
    "As you increase the number of parameters, you should note that $R^2$ improves (increases). But what happens to the prediction error? What do you think, is $R^2$ a good measure of a model's ability to make a good prediction? What if we use less parameters? Does that make for a better prediction?\n"
   ]
  },
  {
   "cell_type": "code",
   "execution_count": null,
   "metadata": {
    "execution": {
     "iopub.execute_input": "2022-04-08T06:26:26.825513Z",
     "iopub.status.busy": "2022-04-08T06:26:26.823518Z",
     "iopub.status.idle": "2022-04-08T06:26:28.426573Z",
     "shell.execute_reply": "2022-04-08T06:26:28.425522Z"
    }
   },
   "outputs": [],
   "source": [
    "rh.plot_widget(x,y_data, y_fit_pars_best, poly_func)"
   ]
  },
  {
   "cell_type": "markdown",
   "metadata": {},
   "source": [
    "So as you can see, increasing parameters to improve the fit does not mean that the prediction is better. But reducing them does not necessarily help either. \n",
    "\n",
    "The two plots below illustrate this. Both plots illustrate how model error changes with the number of adjustable parameters. The blue line plots error in regard to historical data. The red line plots error in regard to the prediction. \n",
    "\n",
    "\"**Data error** decreases with increasing number of parameters. However, **prediction error** increases after the ideal number of parameters is surpassed. This is deemed **overfitting**. More parameters mean the model has more flexibility to fit the measured data. But the measured data has noise! Effectively, after a certain point, we are just improving the fit by making our model very good at simulating \"noise\". \n",
    "\n",
    "**Prediction error** is minimized when we have the \"correct\" number of parameters (in this case, two). Using less parameters results in a worse fit with measured data, as well as greater prediction error. This is deemed **underfitting**. In this case the model does not have sufficient freedom to replicate true behaviour.\n",
    "\n",
    "Using too-few parameters in a model \"hard wires\" in the model's inability to represent system behaviour. Using too many does not. In practice, when simulating groundwater systems, our models will never have more parameters than exist in reality. Thus, we will always be below the \"true\" optimal number of parameters. Overfitting in this case becomes a matter of having more adjustable parameters than measured data. During subsequent tutorials we will explore how to handle this in practice.\n"
   ]
  },
  {
   "cell_type": "code",
   "execution_count": null,
   "metadata": {
    "execution": {
     "iopub.execute_input": "2022-04-08T06:26:28.834493Z",
     "iopub.status.busy": "2022-04-08T06:26:28.544481Z",
     "iopub.status.idle": "2022-04-08T06:26:31.295292Z",
     "shell.execute_reply": "2022-04-08T06:26:31.296290Z"
    }
   },
   "outputs": [],
   "source": [
    "rh.plot_error_tradeoff(x, y_data, poly_func)"
   ]
  },
  {
   "cell_type": "code",
   "execution_count": null,
   "metadata": {
    "execution": {
     "iopub.execute_input": "2022-04-08T06:26:31.638887Z",
     "iopub.status.busy": "2022-04-08T06:26:31.374593Z",
     "iopub.status.idle": "2022-04-08T06:26:32.753443Z",
     "shell.execute_reply": "2022-04-08T06:26:32.752445Z"
    }
   },
   "outputs": [],
   "source": [
    "rh.plot_error_tradeoff_fine(x, y_data, poly_func)"
   ]
  },
  {
   "cell_type": "markdown",
   "metadata": {},
   "source": [
    "### 9. Final Remarks\n",
    "\n",
    "This notebook has been a very brief introduction to regression. This is intended as a primer, introducing a few fundamental concepts and terminology that play a role in environmental decision-support modelling. Subsequent tutorials will delve into further details as these apply to modelling of groundwater systems.\n",
    "\n",
    "Perhaps one of the main take aways should be **just because a model has a good fit with measurement data, does not make it a good predictor!**"
   ]
  }
 ],
 "metadata": {
  "kernelspec": {
   "display_name": "Python 3 (ipykernel)",
   "language": "python",
   "name": "python3"
  },
  "language_info": {
   "codemirror_mode": {
    "name": "ipython",
    "version": 3
   },
   "file_extension": ".py",
   "mimetype": "text/x-python",
   "name": "python",
   "nbconvert_exporter": "python",
   "pygments_lexer": "ipython3",
   "version": "3.9.10"
  },
  "widgets": {
   "application/vnd.jupyter.widget-state+json": {
    "state": {
     "0adcbb78fce64dcd9d6c77fe44961d9c": {
      "model_module": "@jupyter-widgets/base",
      "model_module_version": "1.2.0",
      "model_name": "LayoutModel",
      "state": {
       "_model_module": "@jupyter-widgets/base",
       "_model_module_version": "1.2.0",
       "_model_name": "LayoutModel",
       "_view_count": null,
       "_view_module": "@jupyter-widgets/base",
       "_view_module_version": "1.2.0",
       "_view_name": "LayoutView",
       "align_content": null,
       "align_items": null,
       "align_self": null,
       "border": null,
       "bottom": null,
       "display": null,
       "flex": null,
       "flex_flow": null,
       "grid_area": null,
       "grid_auto_columns": null,
       "grid_auto_flow": null,
       "grid_auto_rows": null,
       "grid_column": null,
       "grid_gap": null,
       "grid_row": null,
       "grid_template_areas": null,
       "grid_template_columns": null,
       "grid_template_rows": null,
       "height": null,
       "justify_content": null,
       "justify_items": null,
       "left": null,
       "margin": null,
       "max_height": null,
       "max_width": null,
       "min_height": null,
       "min_width": null,
       "object_fit": null,
       "object_position": null,
       "order": null,
       "overflow": null,
       "overflow_x": null,
       "overflow_y": null,
       "padding": null,
       "right": null,
       "top": null,
       "visibility": null,
       "width": null
      }
     },
     "0b6291a4a4e14024b2236f379eb7fc2d": {
      "model_module": "@jupyter-widgets/output",
      "model_module_version": "1.0.0",
      "model_name": "OutputModel",
      "state": {
       "_dom_classes": [],
       "_model_module": "@jupyter-widgets/output",
       "_model_module_version": "1.0.0",
       "_model_name": "OutputModel",
       "_view_count": null,
       "_view_module": "@jupyter-widgets/output",
       "_view_module_version": "1.0.0",
       "_view_name": "OutputView",
       "layout": "IPY_MODEL_e2cf0a43b1754a3b8cea5fc1b30d898f",
       "msg_id": "",
       "outputs": [
        {
         "data": {
          "image/png": "iVBORw0KGgoAAAANSUhEUgAAAsgAAAGQCAYAAACznpZxAAAAOXRFWHRTb2Z0d2FyZQBNYXRwbG90bGliIHZlcnNpb24zLjQuMiwgaHR0cHM6Ly9tYXRwbG90bGliLm9yZy8rg+JYAAAACXBIWXMAAAsTAAALEwEAmpwYAACdmElEQVR4nOzdd3gUVRfA4d9NL0BCSyhBOkjvTUAiqKAUFQUBQVARRRELigUFLAiIUgQsiKKCoNgVwY8aVIoixdA7Sug1ISF97/fHbELKbur2nPd58pDdmZ25O2Rnz9w591yltUYIIYQQQghh8HJ2A4QQQgghhHAlEiALIYQQQgiRhQTIQgghhBBCZCEBshBCCCGEEFlIgCyEEEIIIUQWEiALIYQQQgiRhQTIQgghhBBCZCEBshBC2IBSqoNSapNSar1SaolSytfZbRJCCFE0EiALIYRt/At01Vp3AY4Adzi5PUIIIYrIx9kNEEIIT6C1PpnlYRpgclZbhBBCFI/0IAshRAEopcoqpbRSKl4pdVUp9a9S6iEL69UEbgOW2Xj/5ZRS3yulEsz7HpTP+ouUUqeUUnFKqQNKqeFZlsXn+ElXSs22ZXuFEMKdSYAshBAF0xw4r7UupbUOAl4EPlRKVchYQSlVBvgMGKK1TrHx/ucCKUA4cB/wvlKqUR7rTwZqaK3LAH2AN5RSrQDM76GU1rqUeXuJwNc2bq8QQrgtCZCFEKJgmgPbsjxeD3gDZQGUUj7AEmCi1nq/LXeslAoG7gZe0VrHa63/AH4Chlh7jdZ6t9Y6OeOh+ae2hVXvAc4Cv9uyzUII4c4kQBZCiIJpAWwFUEqFYvTQbgUOmZcPBNoB45VSUUqpey1tRCm1TCl12cqPtbSMekC61vpAluf+AfLqQUYp9Z5S6iqwDzgFLLew2lDgc621zmtbQghRkig5JwohRP6UUtEYPbDpQGngf8BgrfV5B+y7M/C11rpSluceBu7TWkfm81pvoAMQCUzVWqdmWXYdcBSoo7U+aoemCyGEW5IeZCGEyIdSyh9oADQ15/TeA7QHUvN8oe3EA2VyPFcGuJLfC7XW6eaUjAhgZI7F9wN/SHAshBDZSYAshBD5awwkY9Q3Rmv9LfAfRl5woSilVlioIpHxs8LKyw4APkqpulmeawbsLsSufcidg3w/xqBCIYQQWUiALIQQ+WsB7MqRp7scozpEoWitb8taRSLHz21WXpMAfAe8ppQKVkp1xJiIZKGl9ZVSYUqpAUqpUkopb6VUd4wc6bVZ1rkBqIpUrxBCiFwkQBZCiPw1B6JzPPcrcItSKsBBbXgMCMSoOLEEGKm1zuxBNvdMv2R+qDHSKWKAS8DbwFNa6x+zbG8o8J3WOt80DSGEKGlkkJ4QQgghhBBZSA+yEEIIIYQQWUiALIQQQgghRBYSIAshhBBCCJGFBMhCCCGEEEJkIQGyEEIIIYQQWUiALIQoMqXUp0qpN2y8zWFKqT9suU1nUErVUEpppZSP+fEKpdTQImznOvMkIt62b6UQQghLJEAWQuRLKRWllLpknnLZZRQ3mDa/Pt0cgMYppXYopXrZso0ZzBOE5DtrnVLqmFLq5iyv+888iUi6rdtkDuATcszmN9bW+7EH8wXIOqXUVaXUvqzHzMK6N5nXjVVKHSvOtoQQJYMEyEKIPCmlagCdMSafKPTMcW5gk9a6FBAKfAwsVUqVy7lSRk+wB2qWYza/tyytlPP9K0OBv0MKu34BLAG2A+WBccA3SqmKVtZNAD4BnrPBtoQQJYAEyEKI/NwPbAY+xZh9LacKSqlVSqkrSqn1SqnqkBkQzVBKnTX33EUrpRqbl4UopT5XSp1TSv2rlHrZUvCUM03B/FyUUmq4UqoB8AHQwdzzedm83F8p9bZS6j+l1Bml1AdKqcD83qTW2oQRRAUCtZRSE5VS3yilFiml4oBh5nZ/rJQ6pZQ6oZR6IyP1wTyl89tKqfNKqSNAzxzvJUopNTzL44eVUnvNx22PUqqlUmohcB3wc0ZvroVUjSpKqZ+UUheVUoeUUg9n2eZEpdRS87G9opTarZRqnd97t8TK+49SSk1SSm0ArpqP0w1KqS3m/+MtypjCOut7zrZ+UdpioW31gJbABK11otb6W2AncLel9bXWf2mtFwJHirstIUTJIAGyECI/9wNfmH+6K6XCcyy/D3gdqADsMK8HcCtwI1APo3f2XuCCedlsIAQjYOpi3scDhWmU1nov8CjmHmCtdah50VTzPpsDdYCqwPj8tmcOQIcD8cBB89N3AN+Y2/8F8BmQZt5uC/N7zAh6HwZ6mZ9vDdyTx776ARMx3ncZjJ75C1rrIcB/QO88enOXYEwhXcW8jzeVUt2yLO8DfGlu80/AnPzeex5yvn+AIcAIoDRwBfgFeBej93U68ItSqnyWbWRd/9+cO1BKLVNKXbbys8xKuxoBR3JMk/2P+fnCsuW2hBAeQgJkIYRVSqlOQHVgqdZ6K3AYGJRjtV+01r9prZMxbk93UEpVA1IxgqLrMaa136u1PmXucb0XeFFrfUVrfQx4ByOQKm57FUag+rTW+qI56HkTGJDHy9qbe59PAwOBu7TWseZlm7TWP5h7l8sAtwFPaa0TtNZngRlZtt0fmKm1Pq61vghMzmOfw4G3tNZbtOGQ1jpX8Gjh/VUDOgHPa62TtNY7gPlkP3Z/aK2Xm3OWFwLN8tnsthxBafcsyzLfv9Y60fzcp1rr3VrrNIwLhINa64Va6zSt9RJgH9A7yzYy19dap+bcuda6l9Y61MqPtXzwUkBsjudiMf7eCsuW2xJCeAhPzakTQtjGUGCl1vq8+fFi83MzsqxzPOMXrXW8UuoiUEVrvVYpNQeYC1ynlPoeeBYjhcGP7L2J/2L09BZXRSAI2GrEygAoIK8KEJu11p2sLDue5ffqgC9wKsu2vbKsUyXH+nkFvNUwLjYKqwqQEfhn3U/WNIrTWX6/CgQopXzMAa0lLbXWh6wsO57Pc1XI/T5z/l9a2kZxxWNcsGRVBqNH25nbEkJ4COlBFkJYZM7b7Q90UUqdVkqdBp4GmimlsvZKVsvymlJAOeAkgNb6Xa11K4zb1fUwBkmdx+hdrp5lG9cBJyw0I8H8b1CW5ypl+V3nWP88kAg0ytILGWIehFcUWbd/HEgGKmTZdhmtdcat+FNkORYY78ma40DtAuwzp5NAOaVU1t5Na8fOFiy1JetzJ8n+/2ipPXm9n4zyd/FWflZYedlujPznrMehmfn5wrLltoQQHkICZCGKwdIgMg9yJ5AONMTI520ONAB+x8idzXC7UqqTUsoPIxf5T631caVUG6VUO6WUL0agmwSkm2/9LwUmKaVKK2NQ3zPAopwN0Fqfwwi2BpsHwT1I9sDyDBBh3nfGQLuPgBlKqTAApVTVHGkDRaK1PgWsBN5RSpVRSnkppWorpbqYV1kKjFZKRSilygIv5LG5+cCzSqlWylDHfBwy3pPFwWxa6+PARmCyUipAKdUUeIhr+cGOthyop5QapJTyUUrdi/H3Yi13OBdz+btSVn5us/KaAxj57hPMx+EuoCnwraX1zf9XARh3AJT5NX5F2ZYoOGUMkH3FAftxeO10ZYca8MK1SIAsnEIZtV4Tc/QWVbHzPiOUUt8qo8pArFJqp1JqmD336eaGAgvMdXhPZ/xgDPq6L8tFwWJgAnARaIUxaA+M29QfAZcwbrtfAN42L3sCI2g+Avxh3sYnVtrxMEbP8wWMnuiNWZatxejpO62UykgDeR44BGw2V19YDdQv0hHI7X6M9JA9GO/rG6CyedlHwP8wBnhtA76zthGt9dfAJIz3fQX4AaPnHYzc5ZfN+cDPWnj5QKAGRu/t9xjVF1YV4z39k+NzOLOgL9RaX8AYmDgG4/9nLNArS0qOPQ3ASC25BEwB7jFfUKGU6qyUis+y7o0YdxaWY/RwJ2Jc7OS7LXeX41x72hzYFfWOSsY2CxSQaq0f1Vq/XoDtZavwYmtKqYeUUd/6ijIq2/yS446BELkorfO8+yWEXSijWP9wrfXqPNbJK2+yKPtchxG8jMO4Vd4EqKS1tnYbtyDbrAEcBXxt2VYhhLCFrOdapVQljIu4ZVrrccXY5jDzNq3l7qOU8i7o5DZKqShgkdZ6vq3bY77DsxToobXerowa572B73Lk8hd2n58CMVrrl4u6DeHapAdZuBRzusLjSqmDmEttKaV6KWOGs8tKqY3m28oZ61cx9wqfU0odVUqNzmPzbTBG1CeYR9Rvzxocm9MENpr3czyjd1kp1VMptV0ZM60dV0pNzKP9VuvkCiGEM5nvAP0PI10KAKVU+yznvX+UUpFZlg1TSh0x97weVUrdp6zXH/9UKfW+Umq5UioBuClnGoJS6g7zuTxOKXVYKdVDKTUJYyKiOebtzTGve70y6qtfVErtV0r1z7Kd8sqoBR6nlPoL6/n8YJz3N2mtt5uPwUWt9WcZwbFSKlAp9Y4y6rHHKqX+UOa66Uqpr8297rFKqd+UUlZL/+X1PSXckwTIwhXdCbQDGiqlWmLcen8Eo87qh8BPypgMwgv4GaNXuCrQDXhKWc833QzMVUoNUEplG0BlfrwCoz5vRYwvkB3mxQkYt9ZDMSZ/GKmUutPKPvKqkyuEEE6jlIrAKFV4yPy4KkYd6zcwUnyeBb5VSlVUSgVj1Le+TWtdGrgB2JFH/XEwSkBOwiiRly0FQynVFvgcI10qFCPt5Zi5J/t3YJR5e6PM+16FkYIUhpFW9F6WAHUuxpiGysCD5h9r/sSo3/6qUqqjUso/x/K3MVLDbjAfg7GAybxsBVDX3IZtWMn1z+t7Ko92CRcnAbJwph/UtdqrP2R5frL5Kj8RI//0Q631n1rrdK31ZxjpEe0xegYqaq1f01qnaK2PYOSBWqt52w/jRPwKcNR8td/GvOw+YLXWeonWOlVrfcFcYxatdZTWeqe5Fmw0xkQNXXJuXBkTaORVJ1cIIZzhB6XUFYzqKWcxxgwADAaWm+tmm8y57H8Dt5uXm4DGSqlArfUprXV+lT1+1FpvMG8rKceyh4BPtNarzMtPaK33WdlOL4zgeYH5bt82jEGT95jvyN0NjDefZ3dhdExYpLX+HeiLMVviL8AFpdR0ZQz69cIIrp80tydda71RGzXd0Vp/oo1a7ckYE/s0U0qFWNhNXt9Twk1JgCyc6c4s5bLuzPJ8ztqzY7IE0pcxSmlVMS+rkmPZS0DOmd4A0Fpf0lq/YC7LFY7RQ/yDUkqRR11aZVRiWGdO44jF6D2pYGHVrHVyM9rzIUbvgxBCOMud5l7gSIyJezLOX9WBfjnOoZ2AylrrBIwJfR7FOKf9opS6Pp/95FXzujC1v6sD7XK06z6MEo8VMeZwKGjNcbTWK7TWvTF6iO8AhmHc2asABFhqlzmAnmJOBYkDjpkXWTv3W/ueEm5KAmThinLWnp2ks8+uFaSNGbuOA0dzLCuttb7d8maz7MAYZf82xgmsHHnXpV2MMWVvNa11CEb+nbKwXn51coUQwmm01uuBT7lWTeY4sDDHOTRYaz3FvP7/tNa3YKQy7MO4QwfWa1vnNeq/MLW/jwPrc7SrlNZ6JHAOI42toDXHr+3E6Lleg1H9pjFG3fQkK+0ahBFM3wyEYFSOAevnfmvfU8JNSYAsXN1HwKPmXlyllApWxqC50sBfQJxS6nnzQAtvpVTjLGkT2SilppqX+5hfPxI4pI1SVV8ANyul+puXl1dKNTe/tDTG7GVJ5jy6nFMtAwWqkyuEEM42E7jFfH5bBPRWSnU3nz8DlFKRyiiJGa6U6mPOB07GmHEwoypFtvrjBfQx8IBSqpv53Fg1S490ztrfyzDqaw9RSvmaf9oopRqYK2N8B0xUSgUppRpilKS0SBkDAwcopcqav0PaYqTIbdZG3fRPgOnKGPDtrZTqYM4dLm1+3xcwJip6M4/3ltf3lHBTEiALl6a1/hsjv2sORo3SQxi3xzCfKHtjDKg7itEbMB/jat+SIIy6sZcx6u9WB/qYt/UfRt7dGIx6vjswZtMCeAx4zZzDNx6jZJA1edXJFUIIp9JGfefPgVe0MfHMHRipaecwekKfw4gNvDDOhycxzoldMM6FYLn+eH77/Qt4AGNcRiywnmuzMM7CyC++pJR611xh4laM8RsnMaZPnwpkDHobBZQyP/8psCCPXV/C+A45CMRhXBRM01pnDLh7FtgJbDG/z6nm9/45RurGCYzz+eY83pvV7ynhvqQOshBCCCGEEFlID7IQQgghhBBZSIAshBBCCCFEFhIgCyGEEEIIkYUEyEIIIYQQQmQhAbIQQgghhBBZ+Di7AVlVqFBB16hRw6bbTEhIIDg42KbbdDdyDAxyHOQYgH2PwdatW89rrSvaZeMuytbnbfkblWOQQY6DHIMM9joOeZ2zXSpArlGjBn///bdNtxkVFUVkZKRNt+lu5BgY5DjIMQD7HgOlVJ5T3noiW5+35W9UjkEGOQ5yDDLY6zjkdc6WFAshhBBCCCGykABZCCGEEEKILCRAFkIIIYQQIgsJkIUQQgghhMhCAmQhhBBCCCGykABZCCGEEMJTRC+FGY1hYqjxb/RSZ7fILblUmTchhBBCCFFE0Uvh59GQmmg8jj1uPAZo2t957XJD0oMshBBCCOEJ1rx2LTjOkJpoPC8KRQJkIYQQQghPEBtTuOeFVRIgCyHyJvlsQgjhHkIiCve8sEoCZCGEdRn5bLHHAX0tn02CZCGEcD3dxoNvYPbnfAON50WhSIAshLBO8tmEEMJ9NO0Pvd+FkGqAMv7t/a4M0CsCqWIhhLBO8tmEEMK9NO1ftIA4eqnR+REbY6RkdBtfogNr6UEWQlgn+WxCCOH5JJ0uFwmQhRDWST6bEEJ4pqwDsL9/VNLpcpAUCyGEdRm31+S2mxBCeI6cE4rodMvrleB0OgmQhRB5k3w2IYTwLJYGYFtSgtPpJEAWQthG1oA4sCykxEN6irFMpjsVQgjXUZCe4RKeTic5yEKI4ss5wCPx4rXgOEMJz2cTQgiXYa1nWHkj5eEM0oMshCi+gt6uK8H5bEII4TK6jc+egwxGj3EJD4qzkh5kIUTxFTTwLcH5bEIIUSjRS2m/abhRZWJGY9uWXJMJRfIlPchCiOILiTCnV+ShhOezCSFEgZnT1gIyenjtMY6jqAOwSwjpQRZCFJ+leslevhBYDumdcD9KKW+l1Hal1DJnt0WIEslS2pqM43Ao6UEWoqSIXkr7TS9B1Hnbl12Tesme5klgL1DG2Q0RokSylrYm4zgcRgJkIUoCuV0nCkgpFQH0BCYBzzi5OUKUTNbS1mQch8PYPcVCbtUJ4QLkdp0ouJnAWMDk5HYIUXJZSluTcRwO5YgeZLlVJ4Szye06UQBKqV7AWa31VqVUZB7rjQBGAISHhxMVFWWzNsTHx9t0e+5IjoGhZB+HMMLqjKTG4c8JTDmPxguVmkjyLy9xZO9ezoZ3KfiWzqyn1pGF+CefJ9m/AkdqDSnU612BM/4W7Bogy606IVyE3K4TBdMR6KOUuh0IAMoopRZprQdnXUlrPQ+YB9C6dWsdGRlpswZERUVhy+25IzkGBjkOkez5Choeeh9lvgMYkHyOhofep2GDBgVLaYteChvez7yDWOjXuwhn/C3Yuwd5JsatutLWVrBnTwSU9CtQgxwDQ0k+DmFV+lH/yly8TcmZz2kgNeEyh756tUT1RpTkv4P8aK1fBF4EMPcgP5szOBZCOE6tIwutp8cVJMDNK73OjQJkZ7BbgFzQW3X27IkAuQIFOQYZSvZxiIToBqT8+Ax+6VcAUIBf2pUS1xtRsv8OhBDuxD/5vOUFBU2Pk/S6IrPnIL2MW3XHgC+BrkqpRXbcnxAiL037Y/IJyP18YQbryWC/EkNrHaW17uXsdghRkiX7V7C8oKDpcdbWk/S6fNktQNZav6i1jtBa1wAGAGvlVp0QziW9EUII4T6O1BpSvGoWUg2jyGQmPSFKEOmNEEIIFxO9FGY0homhxr/RSzMXnQ3vYsxCGlKNIs1K2rR/8V5fgjlkohCtdRQQ5Yh9CVHiRS+1OqPdkVpDaHjo/expEoXtjfh5dNFfL4Qny+OzJ4RF5kmcyGsSp+JOwiSTOBWJ9CC7qjyuKIWwKuNkG3sc0NdOtua/H+mNEMJO8vnsCWGRjOtwWTLVtCsqyBWlEJYUpKSP9EYIYXtSTksUhYzrcFnSg+yK5IpSFJWcbIVwDvnslVzFueMr4zpclgTIrkhOtCWbnGyFcD/y2SuZiptaI1UmXJYEyK5ITrQll5xshXBP8tkrmYp7x1fGdbgsyUF2RVIpoOQqbh5jxjoykl4Ix5LPXslkizu+Mq7DJUmA7IrkRFtyyclWCPcln72SJyTCfMfPwvPCrUmA7KrkRFsyyclWCCHch9zx9ViSgyyEK5E8RiGEcB+SQ+yxpAdZCFci6TVCCOFe5I6vR5IAWQhXIydbIYQQwqkkxUIIIYQQQogsJEAWQgghhBAiCwmQhRBCCCGEyEICZCGEEEIIIbKQAFkIIYQQQogsJEAWQgghhBAiCwmQhRBCCCGEyEICZCE8RfRSmNEYJoYa/0YvdXaLhBBCCLckE4UI4Qmil8LPoyE10Xgce9x4DDLpiBBCCFFI0oMshCdY89q14DhDaqLxvBBCCNcjd/1cmvQgC+EJYmMK97wQQgjnkbt+Lk96kIXwBCERhXteCCGE88hdP5cnAbIQnqDbePANzP6cb6DxvBBCCNcid/1cngTIQniCpv2h97sQUg1Qxr+93y3arTrJixNCCPuSu34uT3KQhfAUTfsXP3dN8uKEEML+uo3Pfq4FuevnYqQHWRSN9DJ6JsmLE0II+5O7fi5PepBF4Ukvo+eSvDghhHAMuevn0uzag6yUqqaUWqeU2quU2q2UetKe+xMOIr2MzuGIXgLJixNCCPch38d2Y+8UizRgjNa6AdAeeFwp1dDO+xT2Jr2MjpfRSxB7HNDXeglsHSRLNQwhPJPchvdM8n1sN3YNkLXWp7TW28y/XwH2AlXtuU/hANLL6HiO6iWwZV6cEMI1OOoCWziefB/bjcNykJVSNYAWwJ85nh8BjAAIDw8nKirKpvuNj4+3+Tbdja2PQViVftS/MhdvU3Lmc+le/uyv0o+zLnys3flvoUtsDMrC8zo2hvWFeE8FOwZh0GLOtYcXATc9bpa489+BvSmlqgGfA5UAEzBPaz3Lua0SxZbXBbZc/NpP9FLjGMfGGAFrt/G2P95SDcNuHBIgK6VKAd8CT2mt47Iu01rPA+YBtG7dWkdGRtp031FRUdh6m+7G9scgEqIbZPvge3cbT8Om/XHl/BmX+Vsoyklze4S59yc7FRJRqPfkMsfAieQY5CkjLW6bUqo0sFUptUprvcfZDRPFILfhHc9Rg+cytmXvQLwEsnuArJTyxQiOv9Baf2fv/QkHscXo25KoqCdN6SUQDqC1PgWcMv9+RSmVkRYnAbI7C7F8gS234e3Ikb328n1sF3YNkJVSCvgY2Ku1nm7PfQnhFop60nREL0Fhe7YLur4jbjMKm7OWFmdeZrfUOEmBkbS4DO78t+DYtDjP54zjYO8e5I7AEGCnUmqH+bmXtNbL7bxfIVxTcW512rOXoLA92wVdX2p0uqW80uLAvqlxkgIjaXEZXOZvQdLinM4Zx8GuAbLW+g+weBElRMnkirc6o5fC94+CTs/+fF492wXtCZfBQW5H0uI8lNyGLxpJiyuxZKppIewta/3RlATw9su+3JknzYyTf87gOENhe7xzPi+Dg9yKpMUJkUNRS2y6YslMqYVdKDLVtBD2lLP3IfEiePlCYDlIvOT8nFxLJ/+s8qqxWZCecFfsMRd5kbQ4IbJy1bQ4KFzqR2F6wmXcCCABsv3IH5gAywGoKRX8guH5o85pU1Z5neTz6tku6O1Duc3oViQtTogcXPUiv7CpHwVNd5NxI5kkxcIeZNYikcHVUwysneSVd963Awt6+9AVbzMKIURBdRtvXNRn5eyL/IxxI4VJ/Sjod5GjZm11A9KDbA8yMElkcNXehwzWengLEsQW9PahDA4SQrgrV5uIo6jjRgr6XeTqnToOJD3I9iB/YCKDK/Y+ZCU9vEIIkV3OwWwAT++CiZeNf515fizquJGCfhflNe6khJEeZHtw9V5D4RgZeeipiUbKgk43AlBXy0e31sMrefRCiJLG1XNwizpupKA94TJuJJMEyPYgf2Ai50lWp1/7G3CFk2x+XP1LQgh7kItC4eopktY64PIbNwIFS3dztZQSJ5IA2R7kD0y4+kk2P+7efiEKSy4KBbh+imRxxo0UlIwbASRAth/5AyvZXP0kmx93b78QhSUXhQJcP0VSOuAcRgJkIezB1U+y+XH39gtRWHJRKMA9UiSlA84hpIqFEPbg6tUr8uPu7ReisGT0vgCp7CMySYAshD24+0nW3dsvRGHJRaHIKO/23Qjjcd95zi/rVhg5y9PJ5GTFIikWQtiLu98Gc/f2C1EYkttZsrn7IE13b78LkgBZCGeT0lJCuAa5KCy53H2Qpru33wVJgCxckysHjbZsm1z1CyGE87n7IE13b78LkgBZ2EdxgkhXDhpt3bY8rvrjavTg2LFj/Pvvv5w+fZrz589z4cIFzp8/z/nz54mPjyc5OZmkpKTMHwAfHx98fHzw9fXFx8eH4OBgQkNDKVu2LPHx8axdu5bw8HAiIiIyfypWrIiXlwxJEEKUUO5eucfd2++CJEAWtlfcINKVbxXZuG1pl45z8EI6u8+Z2HXW+PfQRRP/Xt7DpWdCcq3v4+ePf6lQ/EuF4BMQjJePL16+pfAtVR6fcn54Ky/Q6WhtIh0TZYO98U5PISYmhuidOzl//gI//PADWuts2/Xz86NmzZpcf/312X4aNWpE6dKlC/2+hBDCrbhDebe8uHv7XZAEyML2ihtEuvKtIqttO26MHM6jt9xkMrFv/wFWrPmN3zZsYsfWLZw+coWUdCNYVUDtcl7UK+9Fy+uC+S7oLh7q0ZZ+kS2pUqUKy/ZfYerqo7m228frD8b6LKWKOs9JXYG30vrzk6kTAJPubc6dLaoCsGDDUV79eQ/3tYngiY7hxMTE8M/+I/zwRzReVy9y5WwM+w8cZPny5aSmphptUorrr7+e1q1bZ/60bNmSgICA4h9LIYRwFe4+SNPd2++CJEAWtlfcANeVbxVZaxsAOltveVKDvvwS9Sc/LP8fm39fz797t5N69QoAyi8Q/8r1ady6LSMr76ZlmOb6Cl4E+SrwDWRjwwmUSelAvzbVaBe/Br55iEdjYxhatjIHmzzD+Zp98PH2ovK/P1F78wK8040Lkgh1numBnzCg8XVEl7uVxlWv9UL7eHtRMVBRo2JpKlWqRKVKlTgfEMHOncEQAlQGmkGjAG+q+8UTknKW9HNHOXN4D6tWrWLhwoUA+Pv70759eyIjI4mMjKR9+/YSMAsh3J+7D9J09/a7GAmQhe0VN8C1dKsIICXBSN9w5gnAWtvMzl818cuBWJYtHc73hx8hPeEyAD7lqhJQpwOlq1xPRP2mNGx4PbXDylCrQinaJayh3s7p+MSfzLzqv6Fpf26AbOkqCghKPEmz7a9ARAg06A+/zID07G3xSU/ihmNzueGukdmeH9K+OtWSjhJ5Y63M5+qEleLZW+tx5FwCh8/Fc+RcApeS0riUFAhUh9LVoXkk4R186BqSTujV/0g9sYetmzfw2muv8eqrr+Lv78+NN95Ir1696NWrF7Vq1UIIIYRwZxIgC9srbi5URgC84nlIvHjt+cSLthmsl3MAYd1b4eDK/G9LZbwuNRGUN+h0AA5fNPHj/lR+3J/GH/+lY9JQqVQyAdW7UK1JO9p36kKHpvVoVCWEhpXLUDbYL8eGh0P34Zbbml+6SjF76+uElWJU17qZj7XWnLicyK4Tsew6EcfOE7HsOhHLhYQUNiQCVGPOI32YN7cKly9f5pvlq9n0WxQb16/hySef5Mknn6RBgwb06tWLvn370q5dO5RSBWqLEEK4BWuD0NPS4ORJiImB8+fh8uVrP1euGMvT040fkwn8/CAwEIKCjH/LlIGwMAgPv/avcBoJkIXt2SIXqml/4/VZA2Qo/mA9SwMI//742vLY4/Ddw0ZwftvUa/vJ8bqY2FSW7IEvopP555SRr9s03Itxnf2483pfmtW7jisj/0doUM5guJDyC4BtnI6ilCKibBARZYPo0bgyYATN/128yp9HL/LX0Yu0rVkOgNDQUA741WVNaCCvfvwsHcPS+OWXX/jll1+YOXMm06ZNo3r16tx7770MGDCA5s2bS7AshKdy5dKcYLv27fgSFo6CU1fhnAnOHYAZgyF5JJy/bAS+ZqnAaeAicAm4bP73qnlZmvknHfADArL8lAYqABWCg7lQrx5lr78erzp14PrroXlzqF8fvL2LeDBEQUiALOzDFrlQ9hisZ6lH1pIsvdWxSamUXj6KK0npfLMnlS92phJ1LB0NtK3mx9s9SnFXPahV1lwmzTcQbplY/OAY8g6Ao5caaSc52XjkslKK6uWDqV4+mP6tq2VbFuzvQ0igL21qlKNOlTI8+eSThLa5gzr7Yyh9ZgfRvy1n+vTpvPXWW9StW5f777+fYcOGERHhAvnkQohrPLU0JxSvfadOwebN8Ndf8OefsHE9JF8Lgq8Ae4G9XGQPcCQggOPe3hxPS+NUcjLa2nYLKiEBtm/He/t2IoCaGT8+PtStXp3GrVpRv0cPfG+6CapXB+mEsBkJkD2Fq1+9F4U9BusVJrhOTST226fZEZPAZ9uu8uWuVBLToG45LyZ08WdQEx/qlveBvvPsd+ytpavUvdVyLnRguew933Y2oXcjXu7ZEK8s5+Rvtsaw80QsUJNSbZ7kwbueo9Tp7Wxbu4xXXnmFCRMm0KNHDx566CF69+6Nr6+vQ9oqhLDCk0tzQuHad+kSREXB6tWwZg3s35+5KBbYCvzlB3/5wN9pcDzl2ku9fXyofd11VKtWjVurVWPZ4WRMQeWZ82AXwiuUo2zZsryy4gj/nEoCbx+UlzfKyxuUQpnSCfQyEeRtorSfJsQ7jYC0K6Qc3s0NZeHyf//y79GjHD11il9jYzmVlgaHD8Phw/guXUoDoElQEG2vv54bbr+dZsOH41u9up0OaMkgAbIncPWr96KyR13HPKtQXHMlWfPFzlQ+3HqaHadNBPvC4Ka+DG/pR5sqXtdSBUIi7Dty2Fq6irWecL9gh/+fe3tl77GYPbAFv+w8xfKdp9h9Mo7/HU4D6lPx5qY8O/gFEnat4seli7n77rsJCwtj+PDhPPbYY1StWtWh7RZCmHlyaU7IvzxnSkVIagd/HjV6i81pErFAVEAAv5Ytz5rERA5eNqf8pUDdUl50quJFkzBvGlT0omy58jxf5WM2v3xr5uZbvLaSqynp9OjZLXPsSe390Fb/yIi0RYTp85yhPO+YBvBNyg0kAonAhcyguyxcdx1LXu9BgK+RTjH8sy2UupjIL53D8N7xBzvXrCF6yxZ2/vsv665e5Ytt22DbNgLfeIM2wcF0ataMWwcNosNDD+En1YYKRQJkT+DqV+9FZeO6jmFn1ltMSdAYNYgBYuJMvPtnCh9uTSEuGZqFe/F+zwAGNfGljH+OW1eOKsJuKQD/boTldV3gC6lGhWAev6kOj99Uh2PnE/hl5ym+3RrDkfMJfH0F8I+k1fO9GJR2hL3rvmfy5Mm89dZb9O/fnyeffJK2bds6+y0IUbJ4cmlOsNy+8+kQnQr70uBcLHAIDfzj48OP1aqxPC2NLSdPopOSUOfO4x/RkJAmtxNZNZW51VZRNSgtc1OpXgFsbvwir1/fzHjCfEd3mykGVT4CDl/73prV8CAc/gC08Z1dmfO87f8xU/s2Jb5eX64kp3IhPoUzcUmcvZLMtt37M4NjgL2nrnDiciKhNVpRs/Vwmg4fTvQ30VzYe5rh3hdpdnQLcX+uZfveXWxKSGDqxo28uXEjpZ54gptq1qT7XXfR8/HHqVGzpj2PuEeQANkTuPrVe3EUtnfWWqpJ9FLq758LpuTMVTWgAsuhGt3FhmVf8MHGS3y5OxWThnsa+vBUOz/aR3hbHlimvKH3u7atplGY4N/Vv5DMMoLlxyJrs+2/S3z9dwzLok8RfTKeaMIo3epxpg19lhMbf2D+/PksXryYDh06MHbsWPr06SPTXwvhCJ5cmhOutS82AXalwT8pcNLoJU4HfvOFH8p48X0iHL+ahvrvP9q3b0/TVj24FFqPFq3a0vi68lxfqQwNKpem7Pn/wW+TMs/dvt3G09nCgG4Fue/oWunQ8l73OiHN7yUkyJeIskGZiyKSsk8O9etTnTl2/irVygZmPnfkfDxnElL5jNJQvivc3pWyvdIZkHSMmYf/5MSGlay9cJ7/HTnCz++8w6h33qFVpUrcM2QIdz/8MHXr1kXkZvcAWSnVA5gFeAPztdZT7L3PEsdNgiW7yyvVZMXzeGcJjsHoNf5j/wVemzebVUfSCPL34bGO5XiqRSo1y/lklnHLxTfQNsFxcdJi3GxaUaUUraqXo1X1ckzo3YgVu06xaPO/bPvvMnXq1GbMPdOZOHEiH87/mA/mzuGuu+6iUaNGjBs3jv79++Mto7WFsB9XL81pSUE7GLSGs+Vg7XUQtQVMRudItA8sKuvF4njNyURNQKyJm2v58MDwmTw+9F7CwsK4EJ9MSKAvPt45LtSrD4RWAy23y86lOUsH+NIkIiTbc1+N6MCxCwls++8yfx29wJZjlzh6PoH3/WrzfoPacP1Abok7ymfH/6Ts5pWsuHCOb0+f5sVp03hx2jSaVKvG4EceYfADD1ClSpUCtaMksGuArJTyBuYCtwAxwBal1E9a6z323G+J42bBkkUFPdnltZ61E9N3IyDHWOI//ktjYlQya46mExasmNzNn0fal6Fs/znG9iaGWm9rcYPjvNpa0LQYN55WNNDPm74tI+jbMoJdJ2KpF14agDJlynChejdqP9aMB30PsfjDWQwaNIjx48fzwgsvcP/998uAPiHswZVLc2bIeu4PLAsp8ZBuTta1VJ4zLg4++wxmTIGjJwE4p2Ba+fIsS73M3rh0fC+YuL2uD/c18eX2uj74l6+Gz5gnMndZvpR/4dvp4NKcAF5eiloVS1GrYinuaWVs52xcEpuPXmT9/nOsP3CWVaoWq0JqoRrdy51xh9mUsI2YpUv5LjmZpceP8/zLL/PiK6/Qo2tXhj3yCL179y7xM6Tauwe5LXBIa30EQCn1JXAHIAGyLblxsAQUvDc1v/WsXoFfC443/JfGxPXJrD5iBMbv3OrPo639jCmeSb52Ird6Eqtmm+Nqi7QYD5hWNOtU2OkmzZ9HL3LsQiLvPT2IF0cN58cff+SNN95g+PDhTJ48mddff517771XUi+EsDVXLc0Juc/9OYPwDIkXYeHjcOpT9I+/o+Lj0cCmIHi/tBdfnzeRfOEC9aqV593OyQxqCOWDspbnnFC8doJLlOYECCsTQJ9mVejTrAomk2b3yTjW7T/Lqj1nCKl+C6rPU1R7912Gf7qQu2e9R+KxfXymNZ+tWUP/NWsoFxLCA8OHM3LkSGrXrm3TtrkLewfIVYGsfykxQLusKyilRgAjAMLDw4mKirJpA+Lj422+TdcUBi3mXHt4EaNUDa5/DNpveokAC72pSb+8xOaLYQVa78jevVyPwstK1ck959IZuyqZXw6mWQiMr9GxMayPiiKsSj/qX5mbLS0j3cuf/VX6cdbKsQw7s55aRxbin3yeZP8KHKk1hLPhXSy/Z/8KBCSfy/V8kn8FNtvx/8rV/xZeaqnZfzGAmD1/E4MxGUnVgW9Qo9MWti/7jEGDBvHKK68wfPjwIs/S5+rHQAi3Za90v4LUrz+fDhtSIDoOTCtIAT4v58WcdE10rKZ0momHW/ryaGs/GtathMqoBmTrTiUXLM3p5aVoEhFCk4gQRnerS1q6uY5zaCg/33AHL5yqyQPqJG8cWsmr333HWq35KDaWWdOn88477zBq1Chmz55tt/a5KnsHyJa+vbJFMFrrecA8gNatW+vIyEibNiAqKgpbb9PduPwxiDpv8emA5PPZ2211vXM0PPQ+YMq17NQVExOikvl4eyql/WBKN3+eaJc7MM6gQiLM+4yE6AbZTqDe3cbTsGl/Glp6YfRS2PB+5skvo00NGzSwfOIr96bFk2hAzzeJbBqZe30bcfm/BYx8rAxb/71E9P82QmAryg9tz83pe1i9aDYvvvginTt3ZurUqXTo0KFQ23eHYyBKAE+sXW+vdL+8eqDPpMP6ZNhrVJWIBT4I92LmFc3piyaahXvxYWd/BjXxpZSfurY9e92Bc4PSnFlzqjvVrcCTN9ejaUQbaDAC76NHafrGW3y2+HNmJl1lPlBr9WpYtw4iI0vURCT2DpBjgKxTb0UAJ+28T+EOsn45KC/LA+Jy9jrkVcM4x4knPkUzbUMyb29KITUdnmjrx8s3+lEh43aal6/xQU9PufainCfywpxAC5JTnPMLsdkgOLjSfl+Qlr6ACcv3Za6k5XWhfPZgW6av3M8/MbGspC5hQ+fSJf5vfl04lxtuuIHBgwczZcoUqaMs3Ien1q63V7qfpXP/JROsS4adqQCc8YJ3KnrxwUUTV86YuKWWNws7+tOtpoVKRPYewO5GpTkjygbx9C31rj1RsyYzez7GL6UjeeDvn3h620+U3rcPunaFzp1h0iTj3xLA3gHyFqCuUqomcAIYAAyy8z6Fq8v55WApOLbU62CtlFAWWmu+3pPGM/9L4sQVTf9GPrzZNYDa5bLkrGbc0gLbncjzy72z9IX4z2LbDPizxMoXcFidkUCk7fdlp54wpRRd6lXkxroVWL33LO+s3M++01c469WC2o9/TOR/K/n68w/47rvveOmllxgzZkyJH1gi3ICn1q4H2/fM5szbvWKC35LR21JRJjiv4O1KXsw+ZyLprIl+jf0Z28GHlpWtVL5x1gB2N6o29UKP66lVIZjPKlfkkzZ3MOzvnxj+94+E/P473Hgj3HEHTJkC11/v7KbalV0DZK11mlJqFPA/jDJvn2itd9tzn8INWLvVpLxBm6wHWRmPv3/UYlC991w6o1YksfZoOi0qefF1v0A6VLv2J57iUxq/PtOzb9dWJ/L8Tn6O/kK0sr9aRxYCNhiIksFBPWFKKW5pGE6368NYvusU01cd4Mi5BGLK3ULXcZ1I2fQ5L7/8MvPnz2f69OnceeedRcpPFsIhPLl2fWHlcYEddmb9tdS1VA2bUuCPZEiFS8CIijX49coprp5OZmBjXyb0rE69jr1h66eWO16KW7++OJ0BblRtKiTIl4dvrMWDnWqyeu8ZFjSoxoLWdzB8y/c8/Nf3BP/4I3rZMtTDD8PEiRAe7uwm24Xdh4JrrZdrretprWtrrSfZe3/CxUQvhRmNjbJpMxobj619CWgTTLwMT++yftJp2t9YL4sryZqxq5Jo+kEC206lM/f2ALY8EkqHemGAMipP9P2IjZ0W2a93ptt442SXVdaTn6O/EK1s1z/Zch53keUV+NuBl5eiV9Mq/O+pG3n9jkaUC/ZjT0Igh5o+wl3j3sc/MJi+ffvSp08f/vvvP7u0wdMppXoopfYrpQ4ppV5wdns8krVeQxfsTbSrjAvs2OOAvnaBHb0Uopdy/d6ZkHIV9qTCe/GwLpmUVJheyZ8apUrx7blj3NarNzt37uKL6BTqDZxk3Jmzdlfyrg+KFxxba2tBNO1vBOch1cj8XrLXHUQb8fZSdG9UiS9HdGDpc905/Phz3PTIPL5o3oN0k4YPPsBUuw68/Takpjq7uTYnM+kJ+7HWuxhY1nKZnny+HE5cTqSUnw8hWXprlx9M5ZFlScTEaR5s4ceUbv5UrHKd5St7e1YuyC/3ztG316zsL9m/AjZNQHBST5ivtxdDOtTgjhZVeW/dYT754yjb0qpx/6QvCDmymvHjx9OwYUNef/11nnjiCXx85FRXEFK73kHcqDfRKlukVuVTu97rbDqsSIJj6WjghxDFWBMcOp1M99rpTB5RixZD+0GjRta3B7aZ+dQWdwHduDRnwyplmD2wBUdursv7UU35fNUdPLvuU2459Cc89xwsWABz5sBNNzm7qTYjxUSF/Vg7oUDeva0W/PzPSW5+Zz1vr9wP3cZzPsWfwd8l0nNxImX8FRsfDOLje6tQccj8vHug7alpf2PflnrB8+thtjUr+ztSa4ht9+PknrAyAb68cNv1rBnThYFtqzGmR0PGjBnD7t27uaFjZ5555hnatWvHtm3bHNIeD5BZu15rnQJk1K4XtuSGvYnZFKY31dJdxAzWLqRTTbAmCT5MgGPpbPeHruW86Bur8QtQrLgviF8HB9Gi9Pns+83r7qSr1nh2M7UqlmJav2Z88tZQfps2n+EDXyO1Zm3Yswe6dkUPGgQnPaMWg3SrCPuxduJIvAR95xWq96FV3GpWe71K5e3n+fK7Moz+KZ5LV1KZ0MWPFzv54++j7DutaXE5ejIXK/s7ezHsWpk6W/QAuUhPWLVyQUzu2zTzcaWq1Ujs+hy31OvCP0tn0qZNG55//nkmTLBh/rVnyrd2Pdi3fn3JqVPt+bXrw86sp/7+LPXkY4+T/sMo9u/dy9nwLpbrwR9Jg2WJcEkTC4yr6MV750yU99bMvT2AEa188fFSFvdrz/ryUrs+t26hkPBAJzYOa0e1pUupvmgR3kuWkPj9jxweOZLzvXvarCycM46DBMjCfvJKK8jnVtOF+GS+2RrDiBtroXZ+TZXfxnImIYG7liXx0/442lT1Yc0DVWgSEp/9hbYY+GavqgyOvr1maX8ZJxhbDa5z0Vkcd56I5Xx8CtfVuoGdux/m+eeeZfLkySxbtozRo0dLHWTr8q1dD/atXy91qt3gGBS0dv2MUZBlsiUAb1MyDU9+bdSI98qSK5yo4X9J8E8qGlhaRvFUqubseROj2vrx2k3+hAZYDrYy91uU+vIFPd9L7fq83XorO4c9wekHRnDLob9oPOMdiN4BH30ENWsWe/POOA4SIAv7KULvotaaZdGnmPDTbi4mpHBduSBuW/MaP+6MY/jPScSnaN6+xZ+n2vvh7RVveSPFueXlqfVJc7JlVQ0XzKtrU6Mcq8d0IfZqKmEVyrBgwQK69+zD6MdH8uijj3L69GleeOEFyU3OTWrXi/wVdEyF1bSE49nPs4fS4MdEiNcc8oLHQxUrL2paVfbi516BtK7ibXx3+ATmPX6lsBfshTnfu2hngCtp0qkZySuXs/Pbb2gyZRysWYNu0oRTL0ygyktjwMu9snrdq7XC9WXNN1vzmjEZRgHz7M7GJfHIwq08sWQ7FxNSaF+rHNXLeDF84QHu/CqRiDKKrSOCGXODP95eedy2KU7+q4OrMjhNCcinqxoaSMMqZTIfb06rQen7ZlG3VWdeeeUVOnTowL59+5zYQpeUWbteKeWHUbv+Jye3Sbiago6psHYuVt7GeTVFG+kUX1wlPV4zI1TRRMGmeM3s2wL4c3iwERwHljO+O26bmv9+8xoLklN+5/uc+dNQ8G2XUK1rlqfJs48YOcn33otKSKDKK2M53KQdl/cfdnbzCkW6T4TtFHEyDK013247wWs/7yYuKY1S/j68ePv11Eg7QZ9uHTlyJJUXOvrx6k3++HlnCYwDy0Faom3zX0tA4Ai4VdF6W0hLN+Hr7UW6XykSb3qWlo26cuiHmbRq1Ypv7htM5wcfoFT79lZfn7D5T5J27aT88OEObLXjSe16YVVRZgK1NrmTTofjafC9kWt8yAseKKP447Kmdz0fPugVQJXSXpjwgr4f5t6uIyZ4csbdREfNfuqIac7DwuDLL/mpfmduePtlau/5m7jmzflr4lu0GfuoW9Splx5kYTtF6H09H5/Mw5//zbNf/0NcUhqR9SuyYnRHDv36KTfe2Jn09HTWfzKRybeVzR4c+wYavQm2HgleUuqTOrqqhpP5eHsxrV8zPnuwLeUDFBfCWhI6eCbV6jdj4qJF7HtoOGfXrLX42oTNf3Li6acJaNzEwa12DqldL3KxVLXin8XG+SKv3tSMah2B5a49Z9KwLgkWXMV0STO7tKKpF+xM1Hx2ZwA/DgikSmkv8A1kX4OnLKc62KoXN6/zvaPvJlqpDBJ2Zr1D9lPges6F1OfVx4nfso2tTTpSJimeti88xh+devHfsdN22Z8tSQ+ysJ2C9L5muXJNDKrMjMR7WJ3YntIBPkzo3YiOVbwZ3P8O1q5dy+DBg5k7dy5lypSB6AbWr3hteeXrIlUZ7K6E5tN1qVeRNzoFsiG+Aos2Q+LNL+BXfQVPrF7EjMcf47NH2rGsyjEuJ18m1D+UIYkt6PjBZq6bOYvg9rmKOQhRMhRnzELT/sZ6iReNaaK/S4Rj6fwHDC2jiIrT3FbHh4/uKEXViqFGlSNLVXfsIa/z/XcjLL/GXncTHTX7qROmOa/RsCbVd/zG1pem0HD6a3TeuJz/WrTg20lzuOORu/Dxds2+WgmQhe3kd9s+xy2rwKsnGac/oFKlAPoOe4b92zbRoucg4uLiWLBgAcOGDbu2DUcNBCtJgaMLDq5zhEAfxRt3NqFbg3DGfhPNufq9SKwdxNxSaxmzOJp7pr5GtcjbOB61grjnx/NOX3+GRqTQ2dkNF8IRLN1+L0bqmdYaFRtjDMT7PhGuar4LgOEmSE3SzO8dyIORNVE3T3Ds5E6Q9/l+zWuOTUNz1OynTkojVF5etJryEpfv6cmFfvdy3bH9VHpiAAuiRtFtzmvUCitt1/0XhQTIwnby6321cOUapFIYmb6YSbPSePXVV6lfvz6rV6+mcePGDmx4DsUNHB2R3yWK7ab6Yfz6ZGee/nYNe9RmxvRYQN0eyZx4+mkuDTxK6pIvqTP7A0bV8mf02tF8cfsXVCtTLf8NC+GubDz76c//nGT+ugP88IcPak0sV4FnSis+vKJpXcWLJUNrUefNg7Z/H4Vh7Xzv6LuJjpr91MnjT0JbNyN03z/EjBhNxOfzePjrmfyyezsbZs7mvm6N8cprAL6DuWa/tnBP+c0OZeEK9WyCie5z9zNx4kQGtyrDlgUvOjc4Li4H53eJ4ilfyp9GDXYyqGE/moc1J7h9O8oOHMD5996n7MABBLdvR/Ow5vSt25cl+5c4u7lC2JeNZj+9lJDC419sY8LHUTw/40nUmgvsAtoGG8Hxczf4seHBYOqEpLnuudHRsx06avZTVxh/4u9PxGcfkrBoMUkBQfTcs54OA25n5qzvHdeGApAeZGFbFq7GYxNTiY65TOccV65bT6Zz11dXOXdVM793AA+2MKHWjIWgAPftcS1Ofpf0PDvF8qPLWXTbIsAYkHdpyZdUeGwkl5Z8SVDbdgS3b8fdde9myIohjG0z1smtFcKObDD76abDF3j6qx2UP7ibZd9PokrsWT4uU4ZRiVcJUSb+NziQW2ubQw9Xnv0UHJuG5qjZT10ojTD4voHQuiVXet1BnUP7eXLcEKiSCvfe6/C2WCIBsrANKx/cy1dT6DX7D85dSWbtrc9R9ffnITWRRdEpPPxzEhWDFH88EEyrKt7Gduw8WMDuiprfVVImKHFBl5MvU7lU5cxqFVVnzCC4fTuC2rbLfFypbUsuJ192dlOFsK9izH6amm5i1uqDzI06RO/dUbzz6yzSU1MZEaT4KC6Obu0a88XtqYSbTuV4oY3O+Z7QweCI2U+t7cdZ6ten9I6tpD/yKN5fLIIBA2DnTn7s+wg3N6pMsL/zwlRJsRDFl0daQWiQH53qVKB+pdKkN+pH2m0zeCbKlyHfJ9Guqjd/j8gSHGdw55rDRS0TV1ImKHFBof6hHI9akS04Bghu346qM2Zw4umniYn6lVD/UOc2VAh7K+Lt9+MXr3Lvh5t4f81+Xlr7Me/+/DYnU1PpHKj46KrmxU5+/K/n2dzBcYbinvNLQmqbJ39HBAfjvfBzePdd8PaGSZMIGNCfQTNWk5puclqzJEAWxZfPB3din0Z8/WgHgvRVuj83nxnrL/DEE0+walR9woIt/Am6S83hnLMsRS8ten5XSZmgxAUNSWxB3PPjswXHGTKC5LjnxzMkqYWTWiiEHRVj9lOAFTtPcfus3zlw8CSLfnyDh//6nlUKWvnCAZPmh3sDebNbAN7pScYMepYU95zvycFjBk//jlAKnngCVqwgPSSU7gc3s+Cjp/D971+nNUkCZFF8Vj6g2vx8gK83Rw8dpF27dmzYsIEFCxbw7rvv4nvrBOcPFigqaz0WULSBHSVlghIXdFN8NWb39edgLX+Lyw/W8md2X38ir8j/hfAwRZ0ABCOlYtIvexj5xTZKnTvFim/H0f7AFt4OCqIHUCnUiy0PB3PH9b7XXqTT7XPO9/TgEUrOd8Qtt+D915+Y6tWn3JH90LYt/P47R2LTiU9Oc2hTJEAWxWflA5peuioAa9eupUOHDsTHxxMVFXWtvrGjRwnbUn6D8Qo705MrjCwuoWqPGsPQIdMYvXY0M7fO5HjccVJNqRyPO87MrTMZvXY0Q4dMo/aoMc5uqhC2VYye1/E/7uaj34/S7Mwh1ix9nvDjB3moTBmeu3qVvk3L8OfwYOqVz9FjnHGOt/U5vyQEjyXpO6JePbz+3Aw9esD58+ibb2bXZ6u4c+4GDp2N58L8+SRs/jPPTSRs/pML8+cXqxkSIIti093Gk+qVvVKj9gnE55YJfPLJJ3Tv3p0qVarw559/0r59++wvtuW0oY5k6x4Ld75Y8ACdIzrzxe1fkGJKYciKIbRZ1IYhK4aQYkrhi9u/oHOETBMiPFAxzmMPd67J4LM7+O6rl7h64Sw3h4SwIC6O8ePH89WnHxIcHJT9BRnBnD3O+SUheCxp3xGhobBsGTz+OColhenfTyVy2efcOecPoktV4cTTT1sNkjMGXAc0blKsJkgVC1EsV1PSeG5XHbyTHmSsz1Kqel2AkAj0TS/z0pLtTJkyhVtuuYWvv/6akJAQZzfXduxRbN2VRhaXQNXKVGNsm7FSyk2UHAU5j5mrQ+jYGJKDKuPf41VU0/7U+vpzXv/0FfZqTe9SpTiRlMTixYsZOHCg8TovL8dVlXCh0mV2VdK+I7y9YfZsqF4dxo7l5XWfUDXuHA8lDefFgU/R6akn2fBoexYGbudy8mVC/UMZktiCjh9s5rqZs3KNKSksCZBFkZ2KTeShT/9mz6k4SvlH0vvep4hoGE5iYiJDhw7l66+/ZsSIEcyZMwdfX9/8N+hOHD3LkhBC2Fp+57EspcUUEHD1JGnfj8Ln/a/hg29YCfT39ycwOJj1P/5Iu3ZZAhJHB3MlLXgsKZSC555jz5UrNJg6lQe2/kyVK+d5cuAd/NHLxDNz19Nt6mtUi7yN41EriHt+PO/09WdoRArFve8nAbIokl0nYnnosy2ciUumRvkg5g9tQ52wUly+fJk+ffrwxx9/MG3aNMaMGYNSrjN1pM2UlB4LIYTnyu88ljNH2aTxWXEZ/v6GT5ViuFI0ql+fn3/+meuuu87hzRclx9muXWnYrRvceScNL22lQvVUnu75EXVuTubE009zaeBRUpd8SZ3ZHzCqlj+j147mi9u/oFqZakXepwTIotBW7j7Nk1/uIDE1nbY1y/Hh4FaUDfbj5MmT9OjRg3379rF48WIGDBjg7Kbal/RYCCHcXR7nMR0bQ2b3RrqG7xPRu9OYrGCc1nSrE8R37z9NGU8Ijj1hohFP16ULbNjA4vf60a9Bf5qHNYcwKDtwAOffe58Kj40kuH07mgN96/Zlyf4lxUqZk0F67sZS7V0HWrrlOI8s2kpiajp9W1Zl4UNtKRvsx4EDB7jhhhs4evQoy5cv9/zgWAghPNiavWc4TXnjQYqGxVdJ353GKC8Yp2FQEx+W3+tFmXUvuP+EHEWdaMTJ38clUsOGLO9Ynr4NjRgjYfOfXFryJRUeG8mlJV9mDty7u+7dLD+yvFi7kgDZndhitqBifqBbVg+lTIAvz95aj3f6NcPfx5stW7bQsWNHrl69yrp167j55psLtU0hhBAOlsd3wacbjjL887+ZnNKflCRfWHiVxCPp9PeG90zwbAc/Ft4ViJ+38owJOYpS7q4kzN7noi6nxlK5VOXMahVVZ8yg4ujRmTOfJmz+k0qlKnE5+XKx9iMBsjsp7mxBRfxAp2WZ6rFOWGnWPRvJqK51UUqxcuVKbrrpJkqVKsWGDRto3bp1Id+UEEIIh7LyXWD6ZylvLt/LxJ/3oDU0bN0X32UhxMak090bvkuHGd39mXZrAF5Zx5a4+4QcRSl3VxJm73NRof6hHI9akRkcZ1SryJj59MTTTxMT9Suh/qHF2o8EyO6kuLV3i/CBvpSQQr8PN7Fo87XpHssF+wHw3Xff0atXL2rXrs3GjRupW7duwdohhBDCeax8F1z++WXm/XYEHy/FnFuq8ejrI7iw+wjd/PzYpHxYMiSCp9pbmHHS3SfkKMpEIyVh9j4XNSSxBXHPj88WHGfICJLjnh/PkKQWxdqPDNJzJ8WtvVuED/Tvh86z/b/LtLi0CtPGr/GKOwEhESxO7sr9L79H27ZtWb58OaGhoQVrgxBCCOeycs4PTT1LKX8f5veIoP2IAZzatYtb/Pw4pBQ//PADPasluH95S0uD8YpSttMetfBFgdwUX43Jff0ZVcuf5haWH6zlz5y+/rx4pXj/F3brQVZKTVNK7VNKRSulvldKhdprXyVGcWcLKsJVcp9mVVjc7j9e1h/gFRcDaD5ed5jBL82mc4v6rFy5smDBsQxmEEII12DlnH9GlefbO2vQ/sF7+HfXLm709eWYjw8rVqygZ8+e7j+bm7U0Qyj8+yoJs/e5qNqjxjB0yDRGrx3NzK0zOR53nFRTKsfjjjNz60xGrx3N0CHTqD1qTLH2Y88e5FXAi1rrNKXUVOBF4Hk77s8z5FVqpri1dwt4lfzX0YuUCfTh+kplALjh2FxIM14z568UnliRRI863nzX/SSBR5bnv/8sxeaB7CcldzmxCiGEp7DwXZCEP/6tnqb+gD4cPHCAbr6+xAUGsurXX+nQocO117pzecu80gwLO+211MJ3qs4Rnfni9i9Ysn8JQ1YMyZxJ7/Zatxe7/nEGuwXIWuuVWR5uBu6x1748RkECyeKcnArwgV6z9wwjv9hG2SBffh7VibAyAZm346ZtSGbs6mTuqO/DV/cE4u9jKligm9dJKefrpBalEELYV9P+HL90Fe91r1NJX+C8d0WCO4yh3FOz2XPgAF19fEgvU4Z1q1bRokXx8jhdiq3zht35YsEDVCtTjbFtxhar1nFeHJWD/CDwlaUFSqkRwAiA8PBwoqKibLrj+Ph4m2/TXtpveokAC4Fk0i8vsfliWJG3m/0YhEGLOdcWXgTMy/46ncaH/ySTrqFBSDq7tm7CSyna+1fgrZUxTIhK5t5GPiy8KxBfb1Xg9nXJWmw+Cx0bw/os/zdhZ9ZTf/9cvE3JxhOxx0n/YRT79+7lbHiXIr77a9zpb8Fe5BjIMRBCa82YffX5K+ldbqxXkQ971iKwxy3s3bOHrj4+qHLl+C0qigYNGji7qbYlecOiEIoVICulVgOVLCwap7X+0bzOOCAN+MLSNrTW84B5AK1bt9aRkZHFaVIuUVFR2HqbdhN13uLTAcnni/UeCnIMvtkawwf/+weThkdurMULt12fOUX061+3YkLUYYY28+XjPgF4e2UPd/Nt33bLJyUVEpH9dTNGQUZwbOZtSqbhya9peO+EPNtfEG71t2AncgzkGAihlGLOoBZ8uP4Iz99QBb/burNvxw5u8vaGsmVZt349119/vbObaXtFGYwnSqxiBcha6zxnhFBKDQV6Ad201ro4+yoRnHR1u3DTMV75cTcAz9xSjye61skMjidPnsz495Zyf+8b+bhFNN7KlHsD+bWvoCclKZsjhBB2szMmlsZVy6CUIqx0AK/cVB169GD/X39xk7c3umxZojw1OAbJGxaFYs8qFj0wBuX10Vpftdd+PIoTRsXO++1wZnD8cs8GjO5WNzM4njZtGi+99BKDBg3ik+/X4n33h0VrX0FHPhelFqUQQoh8/bD9BHfM/YPJK/ahtYakJOjThwN//MFNXl6kh4aybv16z0uryKlpf2NA3sTLhR+YJ0oUe+YgzwH8gVXmgGuz1vpRO+7P/Tnw6lZrzczVB5m15iBKwRt3Nua+dtUzl8+YMYOxY8dy77338tlnn+Ht7V289hVkMIPc/hJCCLsoHeCDt5ciwNcb0tJg4EAOrl3LTV5epIaEsC4qioYNGzq7mUK4DHtWsahjr217NAeMitVaM+1/+3kv6jBeCt7u14y+La/10s6ePZtnnnmGu+++m0WLFuHjk+XPxJ7tk9tfQghP4yKVebo1CGfl012oWT4IRozgvx9+oJtSJJcpw7r162ncuLHD2ySEK5OZ9EoYrTVvrzSCY28vxeyBLbi9SeXM5R988AGjR4/mzjvvZMmSJdmDY0eQsjlCCE/h5Brw322LoXJIIB1qlwegZoVgGDeOM/Pnc4tSxAUHs27tWpo0aWL3tgjhbuyWgyyscPKMchcTUvj67xiLwfHixYt57LHH6NmzJ1999RW+vr4ObZsQQniUvGrAF1QRvzO+/vs4Y77+hwc/3cLJy+Y2vPsul998k+7AcT8/fvn1V8+qcyyEDUkPsiO5wIxy5Uv58+WI9hw4E0+Pxtcq9C2b/Tz3P/UWN17nzdedj+C37wfpyRVCiOIobmWeIn5nLP37OM9/G43W8ES3OlQJDYTFi0l48kl6AXu8vfn5xx/p2LFjwd+LECWM9CA7ki16E4pox/HLmb/XqlgqW3C8/pOJ9HvmLVpU8uKngUEEJp4wTsIO7t0WQgiPUtzKPEX4zvhxx4nM4Pj5HtfzWGQdWLmS5Pvvpy+wSSkWf/kl3bt3L1gbhCihJEB2JEfW+c1yW67p7w/xyftT+eSPo7lW27p1K70fe52aoV6suC+IMv7XZshzROAuhBAeq7ilOwv5nbFy92meWfoPWsO85kcYuf0OeLQ06b17MDg9nZXAR/Pnc8899xT8PQhRQkmA7EiOqvObcVsu9jigKZd+nim+82l6aWW21fbt20ePHj0oF6BZOSSICkE5/hxkgg7PkOViqf2m4XJnQFiklJqmlNqnlIpWSn2vlAp1dpvcXkFrwFtTiO+M3w+eY9Ti7aSbNLMbHeTWw5Pg+L/oL+IZlaL5Bpg+ZggPPvhgwfbt5PEyQjibBMiO5KiJQCzclgtSKbQ+NDvz8b///sstt9yCt7c3qx+rTUQZC38KMkGH+8txsRSQfE7SZ4Q1q4DGWuumwAHgRSe3x33kFUwWZ2KKAn5n/HX0Ig9//jcp6SaG3VCDXufnQ/xVWHKVyfHwAfB8Bz+eLr2sYJ/9HOeNzNxnOW+IEkQCZEcqbm9CQVm9LXccJoZy8Y3r6XHTDcTHx7Ny5UrqDJjk8Bn8hIM4Me9duBet9UqtdZr54WZArpALwp7BZAG+M6JjLvPgp1tISjXRr1UE43s1RF06Dt8m8vlpE+OA+xr48OYt/qDTC9a2wpw3pKdZeCipYuFoDqjzmxhUmcCrJy0vSzXR55NDHDmZzqqPJtCUfddOhsrbOIGGVJMJOjyFI/PehSd5EPjK2kKl1AhgBEB4eDhRUVE223F8fLxNt2dv7Te9RICFYDLpl5fYfDGsSNvMfgzCoMWcawsvAuZlMVdMTP4rkYRUaFvJm9sqXOS39VF0WglrD6bxENAtwptP7g7ES10bX5Jf27rExqAsPK9jY1if5f8m7Mx66u+fi7cp2Xgi9jjpP4xi/969nA3vUqT3npW7/S3YgxwDgzOOgwTIHub3g+f4Pq4vb3jPI0ilZFuWbtIM/j6RjcfT+eqeQG48+xn8nHitp0CnX+s5luDYM4REmHu2LDwvShyl1GqgkoVF47TWP5rXGQekAV9Y247Weh4wD6B169Y6MjLSZm2MiorCltuzu6jzFp8OSD5f5PdR0GMw6KPNJKQm0u36MD4Y0gpfby+YMYPtf8ZxN9CwrOLb+4Lw884e7ubbtu2WzxsqJCL762aMgozg2MzblEzDk1/T8N4J+bY/P273t2AHcgwMzjgOkmLhQf4+dpERn2/lu7QbWFHjRbT5tpzGmEHvqV+T+G5vGjO6+9OvkS8kXpTb757OUXnvwi1orW/WWje28JMRHA8FegH3aa21c1vrJhw1+NqCOYNa8kDHGsy9r6URHP/8M8eeeYbbgbIhpVjxQBlCAiz0BefXtoKeN+QOlfBgEiB7iN0nY3ng0y0kpqZzT6sI7hr6NMo8MCTZvyLTNqYwZ0sqYzr48WR7/7w3Jic3z5EjhzHJv6J98t6F21NK9QCeB/pora86uz1uw8EXoSlpJjKuXcoF+zGhdyMCfL1h924uDxzI7UBSQAC/bvyTKkPnFa1tBR0v48SLAyHsTVIs3F30UtJWvUqDKydYYSrPyutGcH/f2/DyutZr8O7JZjy/+jADGvvw1i3m4Ng3EHwCjV7knOTk5lmy5L1vjooismmkc9sjXNUcwB9YpYx81c1a60ed2yQ3kBE0rnnN6FwIibBbmlpquokRC//munJBTOjdCO+M8/zFi6T26UP/hAQOeXmxasUKGjZsCDQsetsKMl6m2/jsM/2B3KESHkMCZHcWvRT902h80oyTU4TXeR64NAO1u2bmiW3t2rWM++AnIls35NP+Gq+Ek9dOkiAnNyEEAFrrOs5ug9tywOBrgF0nYtl46AL/+F/mkS61qRoaCGlp6P79efLIEVYBn8ydS5esuZr2bJsDLw6EcDQJkN2YafWreKVlzyFWGTnETfuzb98++vbtS0REBN+v2oB/aKjlDWU9udW91Xj83Qg52QkhhAtpcV1ZPnuwLQG+XkZwDPDss8xZs4b3gbGPPsoDjzq4099BFwdCOJoEyG4qNd2ET9wJywtjYzh//jy9evXC39+fyZMnE2otOM56csuo55nRo5xRzzNjPSGEEA53+WoKoUF+AHSoXf7agk8+4ddZs3gKuKNzZybPneuU9gnhiWSQnpuavHwfJ0zlLS5LDq5C3759iYmJ4YcffqBSJUtVnSyQSSWEEMKlrN13hk5T17Fy9+nsCzZuZPcjj9AfaFqtGouWL8fLS77ShbAV+TS5OiuzFN3foTqLgodi8s4+Qln7BPDIH2H8/vvvfPrpp3To0KHg+5KSPe5BZq4SwrGc9JnbfTKWUYu3E5+cxp5TcdcWnDrFud630TstjWBf+PmBQEodWe6QNglRUkiA7MrymMK0RoVgxj73Cl53ZC/FM/VcNz77aT0TJ05kwIABhduflOxxffac1lYIkZuTPnOnY5N48NMtXE1J564WVXmyW11jQWoqKbfdxN0X4zil4KchQUSo03IeEMLGJEB2ZVZSHrQ55cHLSxm5weZ6x99Vf40X313CwIEDGT++CJUoZFIJ1ydpMEI4lhM+c0lpmgc/3cKZuGTa1izHlLuboDKmin7hBcb8s5/fgU9u86dNNR+HtEmIkkYG6bmyQqQ8bN26lcGDB9OhQwc++eSTayfTwpCSPa5P0mCEcCxHfeail8Ka19CxMbRU5amT3J/ECt35cHAr/H28jXW+/ppPp09nDjCmsQ8D2+SY9EnOA57B/LdAbAzt/StAuTfle9gJJEB2ZSER5tt6Fp7P4vTp09xxxx2EhYXx/fffExAQUPR9Sske11bAvwkhhI044jOXpYKQAsL0eab6zedKh4aUDTaqV7B3L1uGDuVRoFtFP6bcZWFGVDkPuL8c1aQCks9JNSknkRQLV2Yl5UFlSXlISUnhnnvu4eLFi/z444+Eh4c7uJHCoSQNRgjHcsRnzkIaRyAphP011XgQH8+ZO+6gb2IilYKD+XLpHHz8g+zbJuEckkbnMiRAdmHpjfuxJPxZUkpVJWMQHr3fzXYVOXr0aDZs2MCCBQto1qyZ8xorHKNpf+NvIMvAzJx/E0IIG3LEZ85qGsdxmBBCaqcq9D94kAtK8cPKlVSIfFjOA55K0uhchqRYuLA3ftnDgkMNmB0ym3UvR17LQzP78MMP+fDDD3n++ee59957ndRK4XCSBiOEY9n5M5dWuio+V6wEQH8mM+afZH4Dvnj6PpqXijFKzWWME+k7T84HnkTS6FyG9CC7qM83HWPBhmP4eitm3Ns8V3C8YcMGnnjiCXr06MGkSZOc1EohhBDFtbjUUK5qv9wLTqbz+cpkZgPP1PNhUNgfUubR00kancuQANkFrT9wjok/7QbgrXua0q5W9hnzYmJiuPvuu6levTqLFy/G29vb0maEEEK4gbuHPcOKmi9hKhMBKDRAkmbnVwk8qiGytGLqvYGQeFHyUz1djpSeJP+Kkj7jJJJi4WIOn4tn1OJtmDSM7lqHu1pkv62SlJRE3759SUhIYM2aNZQtW9ZJLRVCCGELwf4+3D3saeBpAJLfrE3qV//SLw5CvGDJg0H4eOVRulPyUz1LlpSezVFRRDaNdG57Sii79yArpZ5VSmmlVAV778vdxSWl8vDnf3MlKY3ujcJ56uZ62ZZrrRk5ciRbtmxh4cKFNGrUyEktFaIIZIpsITL9uus0z3y1g6TU9FzLLhxtyMP70jkILOkTQKVQb+M2e2A5yxuT/FQhbM6uPchKqWrALcB/9tyPJ0g3aUYv2c6RcwlcX6k00/s3N2bKy2L+/Pl8+umnvPLKK9x5553OaahwnCzF4t1+0pYctT0zcyfBfd+TEEURvRTT6le5Ne4EjU3l2eH/LO3vHHlt+a5dfLdgBV8BbzYrQ2Qzde3zD9k/RyD5qULYib1TLGYAY4Ef7bwft/fW//YRtf8cZYN8+ej+1gT7Z/+v2bZtG0888QS33norEyZMcFIrhcN4WkCZV21Pd3w/QhSF+XPtZf4sRHidp+ruV6FWeeNzcPUqW/r0YUx6OrdHRPD8tn/By8KNXk+5cBbChdktQFZK9QFOaK3/yWvaY6XUCGAEQHh4OFFRUTZtR3x8vM23aWsbT6YxLzoZLwUjGnlzOPovDmdZfuXKFUaMGEGZMmV47LHH+P333wu1/aIcg7Az66l1ZCH+yedJ9q/AkVpDOBvepVDbcDXu8LeQof2mlwiwEFAm/fISmy+GFXm7zjoGXWJjsHQW0LExrHdwe9zp70B4GAsXiirLheLFRx6h39GjVPL25vMNG/CyFBxLmUchHKJYAbJSajVQycKiccBLwK35bUNrPQ+YB9C6dWsdGRlZnCblEhUVha23aUvRMZf5bPUmACb2acT9HWpkW24ymbjjjju4cOECv/32G+3bty/0Pgp9DKKXwob3s0112fDQ+zRs0MCtT8yu/reQTdR5i08HJJ8v1ntw2jHYbrm2pwqJcHh73OrvQHgUbeVCkdgYTIsXM3TRIk4CH77wAuWvu65gG/WkVCwhXEixBulprW/WWjfO+QMcAWoC/yiljgERwDallKVgukSrUMqfeuGlGdi2GkPaV8+1fOrUqSxbtox33nmnSMFxkchUl85nbdCNuw7GkdqeooTbeOg8J3R5ywtNYUx/6CGWAW/360fNm28u2EYzUrGkLrIQNmeXKhZa651a6zCtdQ2tdQ0gBmiptT5tj/25syqhgXz9aAde7dOYnKko69at4+WXX2bAgAGMGjXKcY2SqS6dz9MCSpkiW5Rgp2ITeWLJdt5K7U+qV0D2hd4BbPkmjReTkrirUiWe+PLLgm9YOjPcg1TwcUtSB9lJ/jh4no51yqOUIsA390QfJ06cYMCAAdSrV4+PPvooV/BsVzLVpfNlBI6edOtUcidFSZAj5SHtpld4bGMEFxJSuFT3Trxbt4C115ZfOdSQgXu/prKXF/PXr0dZyju2RjozXJ+nDbguQRwSIJt7kYXZjztO8OSXO+jVtDKzB7bIFfympqYyYMAAEhISWLduHaVKlXJsA7uNz11KCCAlwfiwy4faMSSgFMK9WAiGTD8+QbXkhzgTcjOzBrTAK7gdNDN/rrdt4/ExrTkKRE2ZQrl69axu2iLpzHB9UsHHbclU005Qyt+H0gE+tKtV3mLP8IQJE/jjjz+YN28eDRs2tE8j8rrlk3E7PGdR+sSLkt8mhBDWWAiG/HQyz/su5b3BrSgX7HdtwdWrLOzVi4VaM75NGzo/91zh9+dpqVieSHr53ZYEyE7QrUE4a8Z0YXC73KOUV61axZQpUxg+fDiDBg2yTwMKMrCjaX/wC879WslvE0IIy6wEPVXUBZpXC8323KFHHuGxU6foHBjIuNWri7Y/ye13fZ424LoEkRxkBzGZNAfPxlO/UmkAwkoH5Frn9OnTDB48mAYNGjBr1iz7Naagt3zkylcIIQqugCkPKT/9xMBFi/AFFn39NT5lyhR9n5KK5dospSxKL79bkB5kB3l//WF6vvs7i/+0POu2yWTi/vvvJy4ujq+++oqgoCD7Naagga9c+QohRMFZSHnQPoGorMHQuXO8PHAgfwPzBw/mup49HdtG4VjSy++2pAfZAX4/eI53Vu7HpKFSiL/Fdd566y1WrVrFvHnzaNy4sX0bVNCBHXLlK4QQBde0PzuOX6bCn1Opoi6QVroKfrdOzBYMrb7nHqZdvcqjlSvT99NPndZU4UDSy++WpAfZzk5eTmT0ku2YNIzuVpeu14fnWmfjxo28/PLL9O/fn+HDh9u2AdFLab9pePbBeAUd2CFXvkIIUSjfpd1Ap5R3+fzW7fg9uyfb+fLSJ58w7LffuF4p3lmzBrxzl/gUQrgG6UG2o9R0E6OXbOfS1VRurFeRJ7vVzbXOpUuXGDhwINWrV2fevHnFr3ectQZnYFlIiScgPcVYljEYr/e7xk9BauzKla8QQhTYq30acUvDcDrVqZB9wZkzPD5yJGeAH194gaAGDZzSPiFEwUiAbEfTVx3g738vEV7Gnxn9m+HtlT341Vrz0EMPcfLkSTZu3EhISEjBN56jGH1m72/WlIjEi7lflzEY7+ldEvgKIYSNpKWb8PH2QilF57oVsy/Umi979WJJSgqv165Nq0mTnNNIIUSBSYqFnazbf5b3ow7jpWD2wJaUL5U79/iDDz7g+++/Z8qUKbRp06bgG7dWpm3F87mrU1giVSiEEMJmVu85w+3v/s6BM1csLj8xZw4j//6b9t7evLBqFThyZlQhRJFIgGwHp2ITGbP0HwDG3FqftjXL5Vpn7969PPPMM/To0YOnn366cDuwVqbNUo+xJVKFQhRFXpPLCFFCaa35YP1hDpyJJ2r/2VzLTTExPPDMM6QAC19/HZ+aNR3fSCFEoUmAbGNp5rzjiwkpdK5bgZFdaudaJyUlhcGDB1OqVCkWLFiAl1ch/xuK0wMsVShEURRkchnhEZRSzyqltFKqQv5rC6UUnz/Ulld6NWR4p1rZF2rNez16sCotjemNGlHnhRec00ghiqKEd4pIgGxjM1YfYMuxS4SV9mfGvc3x8rI8lfS2bduYP38+lSpVKvxOrPUAB5bLXZ3Cy5cUn9JIFQpRLHlNLiM8hlKqGnALYLlgu7AoyM+HhzrVzHW+3zdlCs/t3s3tPj6M+PVXSa3wdJ4UUEqniATItvTX0YvMXWfkHb87sAUVLOQdr1+/nqlTp/Lwww9zxx13FG1H1sq03TY1d1m2O99jY6dFMPGyDMwTRSezKpYUM4CxgHZ2Q1zdvtNxjPt+JwnJaRaXpx49ypBXXiEYmP/OO6gISW3zaJ4WUEqniFSxsKXm1UJ5qFNNygb50r5W+VzLL1++zP3330/t2rWZPn160XeUEeRaK9OWMwiOiir6vvJjqZqGBOGep6CTywi3pZTqA5zQWv+TX7lJpdQIYARAeHg4UTY8x8THx9t0e/aQkq55bVMiMfGauHOnuLueX/YVtGbF/ffzd3o6n9Svz/4mTdhfiPfkDsfAEdzpOLTf9BIBFgLKpF9eYvPFsCJv11nHoEtsDJbOAjo2hvVOaI8zjoMEyDbk5+PFK70aorXlzpfHH3+cEydOsHHjRkqVKlW8nblCfeKMK+aMk0LGFTM4v23CtmRWRY+glFoNWMrrGge8BNxakO1orecB8wBat26tIyMjbdVEoqKisOX27OHVn3cTE3+MWhWCmTqsE0F+2b9K/3nrLabHxDDIx4cH1q6FKlUKtf0iHQMP7Kxwh7+FTFHnLT4dkHy+WO/Bacdgu+VOERUS4ZT2OOM4SIqFDfxv92lir6ZmPrbU+7J48WIWL17MhAkTaNu2rSObZz9yC6bkkFkVPYLW+matdeOcP8ARoCbwj1LqGBABbFNKFWGQhGeL2n+WBRuO4eOlmDmgea7gOPX0aR4YN47ywLtTpxY6OC4ST7u9746s3U1z17tsBZ1x14NJD3Ixbf/vEo99sY1KZQL49anOlA7wzbXOv//+y2OPPcYNN9zAiy++6IRW2onkpZYsrnDXQtiF1nonkHkf2Bwkt9ZaW+4WK6EuxCfz7NfRADxzaz2aRoTmWmfqbbexPS2N7xs1ovxTTzmmYXl1Vshn1jE87S5bfqmcJYAEyMVULtiPJlVDaF29rMXg2GQyMXToUEwmEwsXLsTHx4MOueSlCiFKCK01z3+7k/PxybStWY5HbsxdwnPnvHm8tmMHA728uPO776CwJTyLSjornM8TA8oS3iniQdGac1QvH8zXj3bAStoxs2fPZv369Xz88cfUqlXL8kruytOumIUQAGitazi7Da7m679jWL33DKUDfJhxb3O8c5R0S718mWFPPEFZ4N2XXoJ69RzXOOmscA0lPKD0NJKDXERHzydkDsbz9fbCzyf3ody/fz8vvPACvXr14oEHHnB0E+1P8lKFECVAzKWrvLZsDwCv3dGIqqGBudaZ1qsX21JSeK9GDSqMd3AngaV8UYCUBMlDFqKIpAe5CI5fvEqf2X/QtmY55gxqSaCfd6510tPTGTZsGIGBgcybN8/iwD2PIFfMQggPZjJpxn4TTXxyGt0bhXNn86q51tn15ZdM3LCB/sDd33wDvrnT7ewq4xy84nlIvHjt+cSLUllIiCKSHuRCSks38fRXO7iSnIaXlyLA1/IhfPvtt9m8eTNz5syhcuXKDm6lEEIIW1j0579sPHyBcsF+TLqrSa7OjrTERB548EFCgDmPPQatWtmnIfnN0ta0P/gF536dVBYSokikB7mQ5qw7xN//XiK8jD9T725qsWd4165djB8/nrvvvpuBAwc6oZVCCCGK62pKGtNXHQDgzbsaW5wd9Z277uLvxESWhoVRcdo0+zSkoDXnZbCeEDYjPciFsPXfi7y75iBKwfT+zSkX7JdrndTUVIYOHUpISAjvv/++56ZWCCGEhwvy8+GbRzvwzC316NE4953AQ+vWMfF//+MuoN8XX0BQkH0aUtCa855Wi1cIJ5IAuYASktN4Zuk/mDSM6FyLjnUqWFxv8uTJbNu2jQ8++ICKFSs6uJVCCCFsqU5YaUZ3q5vreW0y8Wi/fvgBc+68E26+2X6NKGjPsEzuIITNSIBcQG8u38u/F65yfaXSPHOr5fI927dv5/XXX2fQoEH07dvXwS0UQghhCwfOXOHbrTGZlYos+Wz0aNZcuMDUgACqvP++fRtU0J5hqSwkhM1IDnIBrNt/li/+/A8/by9m3Nscf5/cVSuSk5MZOnQoFStWZPbs2U5opRBCiOJKSzfxzNId7DoRx9WUNIZ0qJFrnbNHjjDm/ffpBIyYNg0q2XlG7sLUnJfKQkLYhATI+biUkMLz31ybWrRB5TIW13v99dfZuXMny5Yto1y5co5sohBCCBvx9lIM7VCDTzYc466Wlntun+7ZkysmE/MaNcJr5Mji7TB6afbZ1+reSvudP0HU+dyzsXnSLG1CuDi7BshKqSeAUUAa8IvWeqw992cPr/y4i7NXkmldvSwPd7Y8E96OHTuYOnUq999/Pz179nRwC4UQQtiKUop+ratxd8sIvLxyD7JeMXcui/ftYwLQ4LPPwDv3HcUCs1Sd4u+PCchYnrNahQTEQjiM3QJkpdRNwB1AU611slIqzF77spef/jnJsuhTBPl5807/ZrmmFgVIS0vjoYceoly5csyYMcMJrRRCCFFc6SbNycuJVCtnVKKwFBzHx8UxcswYGgAvFrbmcc6e4m7jLVenyCmjWoUEx0I4lD0H6Y0EpmitkwG01mftuC+78PfxIjTIl1d6NaR6eQsF2IHp06ezbds25s6dK6kVQgjhphZsOMrN09fz5V//WV1n/N13829yMvPKl8f/zTcLvvGMnuLY44C+1jMce7xgr5c6xqIo8ptcRuTJnikW9YDOSqlJQBLwrNZ6S86VlFIjgBEA4eHhREVF2bQR8fHxRd6mP/B6e19KJRwmKupIruXHjx/nlVdeoXPnzlSoUMHmbbeV4hwDTyLHQY4ByDEQuf17IYG3V+4nOc1ExdK5JwMB+HvlSmatXs2jQKe5cyEkpOA7sFbHWHmDTs//9VLHWBRWQSeXEVYVK0BWSq0GLA3fHWfedlmgPdAGWKqUqqVz1M3RWs8D5gG0bt1aR0ZGFqdJuURFRVHYbcYlpVImwDfPdUwmEzfddBNBQUF89dVXLj2ddFGOgSeS4yDHAOQYiOy01rzw7U6SUk3c0bwK3RqE51onLS2NEQMHEg5Muekm6F/IAMNaD7BON6pR5JVmIXWMRVHkNbmMBMgFUqwUC631zVrrxhZ+fgRigO+04S/ABFieXcOF/HshgU5T1jJ33aE8a2DOmzeP3377jenTp7t0cCyEEMK6JX8dZ9ORC5QL9mNC70YW13lv7Fi2X7zILB8fQj78EAo7Q6rVOsbVctctbv0QSf4VkTrGolhk2vFis2eKxQ9AVyBKKVUP8APO23F/NrF231niktLYf/qK1Wmijx8/ztixY7n55psZNmyYYxsohBDCJk7FJjJ5+V4AJvZpRLlgv9zrnDjBy7Nm0R24Z8wYqJt7Vr185VXH2EJ1is2l+shdDlE8IRGWc9wlXafA7BkgfwJ8opTaBaQAQ3OmV7iiBzrWpH54aav1jrXWPPLII6SnpzNv3jyrQbQQQgjXpbXm5e93cSU5jZsbhNO7qeU7gWP69iXFZGJOeDjq5ZeLtjOpYywcrTCTywiL7BYga61TgMH22r493VDHeibI4sWLWbFiBTNnzqRmzZoObJUQQghb+emfk6zZd5bSAT5Muquxxc6ONT/8wJK//mICUGfGDChVqug7dJU6xpbKzblCu4RtyUVZsclMelwbpNG3ZVXa1Spvdb1z587x5JNP0r59e0aNGuXAFgohhLCVSwkpvPrzHgDG3d6A8DIBudZJTk7m8QcfpDbwfMeOMGCAg1tpB1LZoGRxlYsyN2XPOshuY/Ff//HV38d5fPE2ElOsl9x59tlniYuLY/78+XgXZ/YkIYQQTjN5xV4uJqTQvlY57m1TzeI674wdy/5Ll5itFIFz5xZ+YJ4ryquygRAimxIfIMdcusqbv1wbpBHoZznwXbt2LZ9//jljx46lUSPLI52FEEK4ts1HLrD07xj8vL2YdFcTi6kVR48c4fU5c7gbuO2xx6BZM8c31B6ksoEQBVaiA2StNS9+t5OElHRua1yJnk0sD9JISkpi5MiR1K5dm3Hjxjm4lUIIIWxl4+ELADx2U21qV7ScU/xk//54m0zMCA2F1zyod9VquTmpbCBETiU6B/mrLcf5/eB5ygb58todlgdpAEyZMoUDBw7wv//9j8DAQAe3UgghhK08c0s9OtYuT/PrQi0u/2npUn7eupVpQLWpU6FcOYe2z66ksoEQBVZie5BPXk7kjSypFdamF92/fz+TJ09m0KBB3HrrrY5sYnYyp7oQQthEu1rl8ffJnU6XkJDA6BEjaAQ82aIFPPSQ4xtnT037556YRCYiEcKiEtmDnJFaEZ+cxi0Nw+nTrIrV9R599FGCgoKYPn26g1uZhYw8FkKIItNa8/IPu7izRVXa1LDeI3xm61bKxcUxC/CdOxc8cTC2VDYQokBKZA/yDztOsP7AOcoE+DDpTuupFZ9//jlRUVFMnTqV8PBwB7cyCxl5LIQQRfbLzlN88ed/PLpwa56VimrNnctWrel8333QoYMDWyiEcDUlrgf5YkIKry8zUite7tmQMAv1LwHOnz/PmDFjuOGGGxg+fLj9G5ZX8XYZeSyEEEV2c4NwRnetQ82KwVYrFbFhAyxdigoMhMmTHdtAIYTLKXEB8hvL9nAxIYUOtcrTr7X1kbtjx44lNjaWDz74AC8vO3e055dCIXOqCyFEkQX4evPMrfWtr2AywTPPGL8/+yxUs1wbWQhRcpSoFIvNRy7w3fYT+Pl48WZfy/UvAaKioliwYAFjxoyhSZMm9m9YfikU3cYbI42zkpHHQgiRp0NnrxB7NTX/FZcsgb/+gsqVYexY+zdMCOHySlQPcsvryvLsrfUI8PWmZoVgi+ukpKQwcuRIatSowfjxDgpA80uhkDnVhRCiUFLTTTz2xTYuJqSw8KF2NKhcxvKKV6/CCy8Yv0+aBKUs10YWQpQsJSpA9vPxYlTXunmuM3PmTPbt28fPP/9MUFCQYxpWkBQKGXkshBAF9tnGYxw4E0/18kFWO0QAeOcdiImBFi1g6FDHNVAI4dJKRIrFkXPxXIhPzne9mJgYXnvtNXr37k2vXr0c0DIzSaEQQgibOROXxMzVBwGY0LshAb5WBuadPAlTphi/T58O9h5vIoRwGx5/Nkg3aZ5Ysp2bp69nx/HLea47ZswY0tPTmTVrlmMal0GKtwshhM28uXwv8clp3NwgnK7X51Gi8+WXjRSLO++EyEhHNU8I4QY8PsUiMQ1Cg3y5fDWVumHWc8vWrFnD0qVLmThxIjVr1nRgC80khUII4WRKqSeAUUAa8IvW2u1GrG06fIEfd5zE38eLCb0bWl9x2zb49FPw9YVp0xzWPiGEe/D4ALmUn2LRQ+04E5dMsL/lt5uSksKoUaOoVasWY2UEsxCiBFJK3QTcATTVWicrpcKc3abCSk03MeGnXQA8flMdqpWzMo5Ea6Osm9bwxBNQp44DWymEcAceGyBrrTN/V0pRKcTyhCAAs2bNYt++fSxbtozAwECr6wkhhAcbCUzRWicDaK3POrk9hZZ1YN6IG2tZX/Gnn2D9eihf3kizEEKIHDw2B/mXnacY/PGfnIo35bleTEwMr776Kr1796Znz54Oap0QQricekBnpdSfSqn1Sqk2zm5QYZyJS2LGqgNAPgPz0tKulXUbPx7KlnVQC4UQ7sQje5CvJKXy2s97OHslmbr+fnmu++yzzzpmYF5eU0kLIYQDKKVWA5UsLBqH8X1QFmgPtAGWKqVq6ay3465tZwQwAiA8PJyoqCibtTE+Pr5I2/vgnyQSUtJpEeaN1+m9RJ3ea3G9yj//TP19+0isUoW/GjRA27DttlLUY+Bp5DjIMcjgjOPgkQHy9FUHOHslmRbXhXJjRIrV9dasWcNXX31l/4F5+U0lLYQQDqC1vtnaMqXUSOA7c0D8l1LKBFQAzlnYzjxgHkDr1q11pA0rQERFRVHY7W06fIHNv27G38eLd4fdaD33OCEBBg4EIHD6dLrccksxW2sfRTkGnkiOgxyDDM44Dh6XYrHrRCyfbTyGl4I37myMl5XppFNSUnjiiSccMzAvr6mko5fCjMYwMdT4N3qpfdsihBCW/QB0BVBK1QP8gPPObFBB/bjjBJDPwDyAGTPg9Glo3Rr69XNQ64QQ7sijepBNJs3LP+zCpOHBjjVpVCWEqAOW1501axZ79+51zMA8q1NJH3dqz3JqaioxMTEkJSXZfV+uICQkhL17Ld929UQBAQFERETg6+vr7KYI9/AJ8IlSaheQAgy1lF7hiib3bUKnuhW4uUEeNY/PnYO33jJ+f+stmRRECJEnjwqQl2z5jx3HLxNexp9nbq1ndb3Tp0/z2muv0atXL8cMzLM2lbTytt6z7IAAOSYmhtKlS1OjRg2UlZ52T3LlyhVKly7t7GY4hNaaCxcuEBMT45y63sLtaK1TgMHObkdRKKXo1bRK3iu9/jpcuQK33QY33eSYhgkh3JbHXEKfj09m6op9AIzv1YhSVmoeA7z00kskJyczffp0xzTO2lTSOt3y+tZ6nG0sKSmJ8uXLl4jguKRRSlG+fPkSc3dAlExL/vqPY+cT8l/x8GH44ANQCqZOtX/DhBBuz2MC5DeX7yUuKY0b61Xk9iaWBmkbtmzZwoIFC3jqqaeoW7euYxpnbSrpkGqW1w+JcEy7QIJjDyb/t8KT7Tsdx7jvd3LbrN+5lGB9MDYA48ZBaioMHQpNmjimgUIIt+YRKRabj1zgu20n8PPx4rU+jawGBlprnnzyScLCwnjZ0cXhrU0lnTUHGYye5W7jHdcuIWxNShoKBygX7EfflhGU8vehbHAe5Ty3bIGvvoKAAHjtNcc1UAjh1ty+BzklzcTLP5inFo2sQ40KwVbXXbJkCZs2bWLy5MmUKVPGUU20zlrPcgkJJi5cuEDz5s1p3rw5lSpVomrVqpmPU1Ly7hG6fPky7733XubjqKgoevXqZe8mi/xklDSMPQ7oawNPpTqLsLGw0gG83a8ZE3o3tL6S1pBRpWj0aKhm5a6dEELkYLceZKVUc+ADIABIAx7TWv9l6/18tvEYh87GU7NCMI9GWp9aNCEhgbFjx9KqVSuGDRtm62YUnbWe5RKgfPny7NixA4CJEydSqlQpnn322czlaWlp+PhY/hPNCJAfe+wxRzRVFFReJQ1L6N+5sK2UNBNeCny8jf6dPFOJVqyAqChjtryM2fOEEKIA7Jli8RbwqtZ6hVLqdvPjSFvvpF/rCI6cT+D2JpXw97EytSgwdepUTpw4wVdffYWXlPexqMYLvxRq/cZVy7Dsic65Xn9sStErgwwbNoxy5cqxfft2WrZsSenSpbMFzo0bN2bZsmW88MILHD58mObNm3PLLbfQs2dP4uPjueeee9i1axetWrVi0aJFkofraFZLGjpm4KnwfB/9foSfdpxk0l2NaV2jnPUVTSZ48UXj93HjZEppIUSh2DNA1kBGHkMIcNIeOwkN8mNy37wHXRw7doxp06YxYMAAOnbsaI9mCBs6cOAAq1evxtvbm4kTJ1pcZ8qUKezatSuzBzoqKort27eze/duqlSpQseOHdmwYQOdOnVyXMOF9ZKGDhx4KjzXmbgk5q47xNWUdJLTTHmvvHQpREdDRAQ8/rhjGiiE8Bj2DJCfAv6nlHobI9f5BksrKaVGACMAwsPDbT7Xdnx8PMOGDUNrzZ133lki5zS3Nod5SEgIV65cyXy8c9yNhd62pddnfa6gkpOT8fX1JTU1lV69enH16tVsz2ds02QyER8fn/l7xvNXr16lVatWhISEkJCQQKNGjdi7dy/NmjXL3Ed6enqR2ubOkpKSsv3f23s++7Aq/ah/ZS7epuTM59K9/NlfpR9nXeSzZ+9jIOznrV/3czUlnVsbhtOxTgXrK6alwXjzYOcJE4wBekIIUQjFCpCVUqsBSzXVxgHdgKe11t8qpfoDHwM351xRaz0PmAfQunVrbeu5tmfOnMn69euZOHEi9957r0237S6szWG+d+9el5k4w9/fH39/f3x9falQoUJmu4KDg/H19c18nJKSQqlSpQDw8vLKfD4oKIigoKDMxwEBAdleByVropAMAQEBtGjRIvOx/eezj4ToBtmqWHh3G0/Dpv3JYyiVQ9n/GAh72HH8Mt9ui8HP24txPRvkvfJnn8HBg1CnjlHazRmkmosQbq1YAbLWOlfAm0Ep9TnwpPnh18D84uyrKNLT05kzZw7VqlXjueeec/TuhQ3UqFGDZcuWAbBt2zaOHj0KQOnSpUtcb7DbKMEDT4V9aK157efdADzUuSbVy1uvVkRyMrz6qvH7a6+BM6Zaz6jmkjFgNaOaC8hnQwg3Yc/RaieBLubfuwIH7bgviz755BMOHz7MtGnTCAoKcvTuhQ3cfffdXLx4kebNm/P+++9Tr54xhXj58uXp2LEjjRs3losfITzc8p2n2fbfZSqU8ufxm+rkvfKHH8Lx48aEIM66a5hXNRchhFuwZw7yw8AspZQPkIQ5z9hR4uLiePnll2ncuDH9+8sVu6uzNhgvMDCQlStXWly2ePHibI+z3jafM2eOrZomhHCi5LR0pv66D4BnbqlHKf88vrbi42HSJOP3N94Ae1csspZGIdVchHB7dguQtdZ/AK3stf38vPXWW5w9e5aJEydKqS8hhHBTCzf9y38Xr1I3rBT9W+dTDeXdd+HsWWjXDnr3tm/D8kqjkGouQrg9jywIfPz4cd555x0GDhxIgwb5DOZwluilMKMxTAw1/pWZxoQQIpvLV1OYvfYQAC/d3iBzchCLLl2CadOM3998E+zdMZJXGkW38eAbmH2Zb6DxvBDCLXhkgPzyyy+jtebNN990dlMsk+l4hRAiX7PXHiI2MZWOdcoTWb9i3iu//TZcvgxduxo/9pZXGkXT/tD7XQipBijj397vygA9IdyIPXOQnWLbtm0sXLiQ5557jho1anDs2DFnNyk3mY5XCCHy9O+FBD7fdAyljN7jPFPlzpyBWbOM3zNykO0tvzQKqeYihFvzqB5krTXPPvss5cqV48WMKUZdkQzgEEKIPIWVDuCpm+sxtEMNGlUJyXvlyZMhIQH69IH27R3TQEmjEMKjeVQP8i+//MK6deuYPXs2oaGhzm6OdTKAQwgh8hTo551/STeA//6D9983co5ff93+DcuQ0Tssk4EI4ZE8pgc5NTWV5557jnr16vHII484uzl5c9eeBzsMLFRKMWTIkMzHaWlpVKxYkV69ehV72/aUMZufEMK2tNZcSUot+AvefBNSUmDAAGja1H4Ns6Rpf3h6F0y8bPwrwbEQHsNjAuT58+ezb98+3nrrLXydMXNSYbjjAA47DSwMDg5m165dJCYaOdmrVq2iatWqNmhw4aWlpTllv0KIa7acTqfLtCi+3VqAlLN//4VPPjHqHU+YYP/GCSFKDI8IkOPi4pgwYQJdunShT58+zm5Owbhbz4MdZ4a67bbb+OWXXwBYsmQJAwcOzFyWkJDAgw8+SJs2bWjRogU//vgjAMeOHaNz5860bNmSli1bsnHjRgBOnTrFjTfeSPPmzWncuDG///47kL3H95tvvmHYsGEADBs2jGeeeYabbrqJ559/nsOHD9OjRw9atWpF586d2bfPmKDg6NGjdOjQgTZt2vDKK68U+z0LISzbcS6diwkpJKeZ8l950iRITYVBg6B+ffs3TghRYnhEgDxlyhTOnTvH22+/LZOC2IsdBxYOGDCAL7/8kqSkJKKjo2nXrl3mskmTJtG1a1e2bNnCunXreO6550hISCAsLIxVq1axbds2vvrqK0aPNgr0L168mO7du7Njxw7++ecfmjdvnu/+Dxw4wOrVq3nnnXcYMWIEs2fPZuvWrbz99ts89thjADz55JOMHDmSLVu2UKlSpWK/ZyGEZQ838WPBA23ynxTk2DFYsMDoPZaLViGEjbn9IL3//vuPGTNmMHjwYFq3bu3s5nguOw4sbNq0KceOHWPJkiXcfvvt2ZatXLmSn376ibfffhuApKQk/vvvP6pUqcKoUaPYsWMH3t7eHDhwAIA2bdrw4IMPkpqayp133lmgALlfv354e3sTHx/Pxo0b6devX+ay5ORkADZs2MC3334LwJAhQ3j++eeL/b6FELkppYisH5b/ipMmQVoaDBkC9erZv2FCiBLF7QPk8eONgW2THFX7sqTqNj77tKpg04GFffr04dlnnyUqKooLFy5kPq+15ttvv6V+jtunEydOJDw8nH/++QeTyURAQAAAN954I7/99hu//PILQ4YM4bnnnuP+++/PdmchKSkp27aCg4MBMJlMhIaGsmPHDottlLsTQtjPjztO5F/OLcPRo/Dpp/bvPY5eKlUqhCih3D7F4pVXXmHBggVcd911zm6KZ7PzwMIHH3yQ8ePH06RJk2zPd+/endmzZ6O1BmD79u0AxMbGUrlyZby8vFi4cCHp6ekA/Pvvv4SFhfHwww/z0EMPsW3bNgDCw8PZv38/JpOJ77//3mIbypQpQ82aNfn6668BIzj/559/AOjYsSNffvklAF988YVN3rMQwnAmLonnv42m+8zfOHe1gLnHaWkweDDUrWufRsmMp0KUaG4fINeuXZsBAwY4uxklgx0HFkZERPDkk0/mev6VV14hNTWVpk2b0rhx48wBco899hifffYZ7du358CBA5m9wFFRUTRv3pwWLVrw7bffZm5zypQp9OvXj65du1K5cmWr7fjiiy/4+OOPadasGY0aNcocFDhr1izmzp1LmzZtiI2Ntdn7FkLArDUHSUo1cXODMCoG5fO1dOSI0Xvs7W3f3mM7DkwWQrg+t0+xEO4tPj4+13ORkZFERkYCEBgYyIcffphrnbp16xIdHZ35ePLkyQAMHTqUoUOH5lr/nnvuoXv37pQuXTrb859++mm2xzVr1uTXX3/N9fqaNWuyadOmzMcvvPCC9TclhCiwI+fi+WrLcbwUPNf9emL2/J33CyZNgvR0GDoU6hRgIpGiymtgsqReCOHx3L4HWQghhPt6Z+UB0k2a/q2rUScsnwl4Dh+Gzz6zf+8xWB+AHFhWUi+EKAEkQBZCCOEU0TGX+WXnKfx9vHjq5gJUonjjDaP3+P77oXZt+zbO2oynIKkXQpQAEiALIYRwiqm/GhPxDOtYg0ohAXmvfOgQLFxo9B6PG2f/xlkbmJx4yfL6NqgJL4RwHZKDLIQQwuF+P3iODYcuUCbAh8e6FCCXOKP3+MEH7d97nKFp/9y5xWtes1tNeCGE65AeZCGEEA5lMunM3uORkXUICfLN+wWHD8OiRY7rPc6LtdQLG9WEF0K4BgmQhRBCONSynafYdSKO8DL+DLuhRv4vmDr1Wu5xrVp2b1+e7FwTXgiHi14KMxrDxFDjXxlwCkiALJzo+PHj3HTTTTRo0IBGjRoxa9Ysi+tdvnyZ9957L/NxVFQUvXr1skubjh07RuPGje2ybWuGDRvGN99849B9CuEsKWkm3lm5H4Cnbq5HoJ933i84fvzarHmuUl7RjjXhhXAomRDHKgmQhdP4+PjwzjvvsHfvXjZv3szcuXPZs2dPrvVyBsi2lJaWVqzXZ8zgJ4S7U0o1V0ptVkrtUEr9rZRqa4/9/HX0Iv9dvEqtisH0a1WAvN1p0yA1Fe69F+oVoNKFEKLgZEIcq2SQngDgqaeeYseOHTbdZvPmzZk5c6bV5ZUrV86c1a506dI0aNCAEydO0LBhw2zrvfDCCxw+fJjmzZtzyy230LNnT+Lj47nnnnvYtWsXrVq1YtGiRSilsr1ux44dPProo1y9epXatWsza9YsSpcuTWRkJDfccAMbNmygT58+REZG8uCDDxIUFESnTp0yX5+ens4LL7xAVFQUycnJPP744zzyyCNERUXx6quvUrlyZXbs2JErqC9VqhSPPPII69ato2zZsnz55ZdUrFgxV3s++eQTypYtm/m6NWvWMGfOnMypsFetWsX777/Pd999V6TjL0QhvQW8qrVeoZS63fw40tY76VS3AstHdyY+OQ0f73z6aE6fho8+Mn5/6SVbN0UIkdeEOCWc9CALl3Ds2DG2b99Ou3btci2bMmUKtWvXZseOHUybNg2A7du3M3PmTPbs2cORI0fYsGFDrtfdf//9TJ06lejoaJo0acKUKVMyl12+fJn169czZswYHnjgAd59991sM+UBfPzxx4SEhLBlyxa2bNnCRx99xNGjRwH466+/mDRpksUe74SEBFq2bMm2bdvo0qULr776qsX2ZDyfoWvXruzdu5dz584BsGDBAh544IHCHEYhikMDZcy/hwAn7bWjBpXL0KZGufxXnD4dkpLgrrvAwalPQpQI1qqvSFUW6UEWhrx6eu0tPj6eu+++m5kzZ1KmTJn8XwC0bduWiAjjA9y8eXOOHTuWrfc3NjaWy5cv06VLF8CYgvruu+/OXH7vvfdaXG/IkCGsWLECgJUrVxIdHZ2ZHxwbG8vBgwfx8/Ojbdu21KxZ02LbvLy8Mrc/ePBg+vbta7E9/fr1y/Y6pRRDhgxh0aJFPPDAA2zatInPP/+8QMdDCBt4CvifUuptjM6TG6ytqJQaAYwACA8PJyoqymaNiI+PJyoqCp/YWDrMno038Hf37sTbcB+uLuMYlHRyHOx/DMKq9KP+lbl4m5Izn0v38md/lX6cdaFj74y/BQmQhVOlpqZy9913c99999G3b1/AGLzXu3dvAB599FF69OiR63X+/v6Zv3t7exc6lzg4OBgArXWu1IwMWmtmz55N9+7dsz0fFRWV+fqCsLZ9Sx544AF69+5NQEAA/fr1w8dHPqLCdpRSq4FKFhaNA7oBT2utv1VK9Qc+Bm62tB2t9TxgHkDr1q11ZGSkzdoYFRVFZGQkjB9v9B736EHrRx6x2fbdQeYxKOHkODjiGERCdANzfe8YCInAu9t4GjbtT8N8X+s4zvhbkG9f4TRaax566CEaNGjAM888k/l8tWrVsuVDX7hwgStXrhRq2yEhIZQtW5bff/+dzp07s3DhQjp27JhrvdDQUEJCQvjjjz/o1KkTX3zxReay7t278/7779O1a1d8fX05cOAAVatWzXffJpOJb775hgEDBrB48WI6depksT0ZvclZValShSpVqvDGG2+watWqQr1nIfKjtbYY8AIopT4HnjQ//BqY75BGWRIbC+++a/z+8stOa4YQJYKlCXGEBMjCeTZs2MDChQtp0qQJzZs3B+DNN9/k9ttvz7Ze+fLl6dixI40bN+a2226jZ8+eBdr+Z599ljkorlatWryb8YWbw4IFCzIH6WXtLR4+fDjHjh2jZcuWaK2pWLEiP/zwQ777DQ4OZvfu3bRq1YqQkBC++uori+1ZsGCBxdffd999nDt3LtdgRSHs7CTQBYgCugIHndaS994zguTISLBwYSuEEHantS7yD9AP2A2YgNY5lr0IHAL2A90Lsr1WrVppW1u3bp3Nt+lurB2DPXv2OLYhThYXF+eQ/QQHBxfr9Y8//rieP3++TdqS8/9YPg/2PQbA37oY51Rn/gCdgK3AP8CfQKuCvM7W5+31y5drXaGC1qD16tU23ba7kM+pQY6DHIMM9joOeZ2zi9uDvAvoC3yY9UmlVENgANAIqAKsVkrV01pL0Vgh8tCqVSuCg4N55513nN0UUcJorf8AWjm7HVWWLYPz56F9e+ja1dnNEUKUUMUKkLXWe8HiIKQ7gC+11snAUaXUIaAtsCnnikJ4mvj4+CK/duvWrTZsiRBuJimJauaUJF5+GQoxwFUIIWzJXjnIVYHNWR7HmJ/LxZ7lgkDKxID1YxASElLowW/uLD09vUS9X4CkpKRs//fyeZBj4NIWLMD/wgVo3hxyjEVwCdFLs432p9t4GdwkhIfKN0DOqyyQ1vpHay+z8Jy2tKK2Y7kgkDIxYP0Y7N27l9KlSzu+QU5y5cqVEvV+AQICAmjRokXmY/k8yDFwWWlp8NZbxu/jxrle73H0Uvh59LVpeWOPG49BgmQhPFC+AbLOoyxQHmKAalkeR2DHWZmE/R2PO87ifYtZfnQ5l5MvE+ofyu01b2fQ9YOoVqZa/hsQQoi8LF0Kx45xtVo1gu66y9mtyW3Na9eC4wypicbzEiAL4XHsNdX0T8AApZS/UqomUBf4y077Enb2e8zv3Lf8PgL+3969h1VV53scf/9EE0YD7OKlpBPNwdRgg6ioo4nCiJXdxG5m2ehx1C6j41NeJudx8Ew2zYzPWNjF8fF5nJ5R00YtzzRaiYpEDhokknetSGlsRBQSUg/i7/yxZR/QzVYUWMD+vP7ZrLXX/q0vX/Trl+VvrV/LQJbcvYScJ3JYcvcSAlsGMmrtKD4p+MTpEEWkKbMWfv97AA4/+igEBDgckBclBbXbLyJN2lU1yMaY4caYAqAf8A9jzEcA1tpdwLvAbuBD4Fk9waJpOvz9YWZmziQ1IZXJsZMJCw6jZYuWhAWHMTl2MqkJqczMnMnh7w/Xeuzi4mLefPPNeoi6fvzsZz/zLDs9btw4du/eXeOx6enpbNmyxbO9YMECLRstUpMPP4S8POjUie+GDHE6Gu9COtduv4g0aVfVIFtr37PWdrbWtrbWdrDWDq3y3hxr7Y+ttbdba9ddfajihGV7lzGiywhi2sd4fT+mfQzJEcm8s++dWo/tq0GuqGiY36eu9DyLFi3yuZDHhQ3yxIkTGT169BWdS6TZO3/1mClTsNdc42wsNUmcBa2Cqu9rFeTeLyLNTn1NsZBmYu3Xa0n+z2Sfx4yIGMHar9bWeuwZM2bw5ZdfEhMTw9SpU0lPT2fw4ME8/vjjREVFkZ+fT2RkpOf4uXPnkpKSAsCXX37JXXfdRc+ePbnzzjvZu3fvReOnpKTw5JNPkpCQQEREBH/5y18ALjpPRUUFU6dOpXfv3rhcLv78Z/djva21PPfcc3Tv3p1hw4Zx9OhRz9iDBg0iOzsbgA8//JDY2Fiio6NJTEwkPz+fBQsWMG/ePGJiYvjkk09ISUlh7ty5AOTm5tK3b19cLhfDhw/nxIkTnjGnT59OXFwcXbp04ZNPNHVF/EBWFmzeDCEhMGGC09HUzPUI3JcKIWGAcb/el6r5xyLNlJaaFp+KzxTTqW0nn8d0bNuR4jPFtR77lVdeYefOneTm5gLuxnXbtm3s3LmT8PBw8vPza/zs+PHjWbBgAREREWzdupVnnnmGjRs3XnRcXl4eWVlZlJWVERMTw4gRIwCqnWfhwoWEhITw2WefcebMGfr3709SUhLbt29n3759fPHFF/z73/+me/fujB07ttr4hYWF/PznPycjI4Pw8HCOHz/Oddddx8SJE2nbti0vvPACABs2bPB8ZvTo0cyfP5/4+HhmzZrF7NmzefXVVwE4e/Ys27ZtY+3atcyePZu0tLRa51WkSam8evzMMxAc7Gwsl+J6RA2xiJ9Qgyw+hbYO5UjpEZ9Pqviu9DtCW4fWyfni4uIIDw/3eUxpaSlbtmzh4Ycf9uw7c+aM12MfeOABgoKCCAoK4s4772Tbtm2EhoZWO8/HH39MXl6eZ35xSUkJBw4cICMjg5EjRxIQEMBNN91EgpdVvbKyshg4cKBnrOuuu85n7CUlJRQXFxMfHw/AU089Ve37SE52X63v2bOnz18QRJqFPXvg/fehdWuYPNnpaEREPNQgi0/3hN/D6oOrmRxb8z9eqw6s4p7b6uah/m3atPF83bJlS86dO+fZPn36NADnzp0jNDTUc+XZlwtXeazcrnoeay3z589n6NCh1Y5du3att1Uiq7HWXvKY2mjdujUAAQEBnD17ts7GFWmU/vhH9+uYMdChg7OxiIhUoTnI4tPjXR9n1f5V5B7N9fp+7tFcVh9YzcjbR9Z67GuvvdbnynYdOnTg6NGjFBUVcebMGT744AMAgoODCQ8P529/+xvgblJ37NjhdYw1a9Zw+vRpioqKyMzMpHfv3hcdM3ToUN566y3Ky8sB2L9/P2VlZQwcOJDly5dTUVHBkSNH2LRp00Wf7devH5s3b+brr78G4Pjx4z6/t5CQENq1a+eZX/zXv/7VczVZxK8UFMCSJdCiBZyfiiQi0ljoCrL4FBYcxpwBc5i0cRLJEcmMiBhBx7Yd+a70O1YdWMXqA6uZM2DOFS0Wcv3119O/f38iIyO5++67GTZsWLX3W7VqxaxZs+jTpw/h4eF07drV897SpUt5+umneemllygvL+exxx4jOjr6onPExcUxbNgwDh06xLRp07jpppvYv39/tWPGjRtHfn4+sbGxWGu58cYbef/99xk+fDgbN24kKiqKLl26eG1kb7zxRhYuXEhycjLnzp2jffv2rF+/nvvuu4+HHnqINWvWMH/+/Gqfefvtt5k4cSI//PADt912G4sXL6517kSavHnzoLwcHn0Ufvxjp6MREanGWOt1BWhH9OrVy1Y+GaCuaFlZ30tNd+vW7bLGOPz9Yd7Z9w5rv6qykt5t9zDy9pGNdiW9lJSUajfK+eNS0xf+jPX3oX5zYIzJsdb2qpfBG6krqtvHj8Mtt0BZGXz+OWg59GqUAzflQTmoVF958FWzdQVZLktYcBjTek9jWu9pTociIk3dm2+6m+OkpGrNsYhIY6EGWZqtymcmi0gj8sMP8Npr7q+nT3c2FhGRGugmPRERaTiLF8OxY9C7Nwwe7HQ0IiJeqUEWEZGGs369+3X6dKjDRySKiNQlNcjiU9GiRZRlbfV5TFnWVooWLWqgiESkSXvvPdiwAR580OlIRERqpAZZfAqMjOLbKVNqbJLLsrby7ZQpBEZGNXBkItIkGQMJCRAQ4HQkIiI1UoNc3/LehXmRkBLqfs171+mIaqVN3z7cPG+e1ya5sjm+ed482vTt41CE/+/WW2/l2LFjV33M1crPzycyMhKA7OxsJk2a5PP4l19+udr2T37yk3qLTURERC5NDXJ9ynsX/j4JSg4D1v3690nNoklubM1xQ7iSpZ979epFamqqz2MubJC3bNlS6/OIiIhI3VGDXJ82/DeUn6q+r/yUe38TU7VJLkxNrZPmOD8/n65duzJu3DgiIyMZNWoUaWlp9O/fn4iICLZt2wa4l29+8MEHcblc9O3bl7y8PACKiopISkqiR48eTJgwgaqL3ixZsoS4uDhiYmKYMGECFRUVPmNp27Ytzz//PLGxsSQmJlJYWAjAoEGDePHFF4mPj+e1114jJyeH+Ph4evbsydChQzly5AgAOTk5REdH069fP9544w3PuOnp6dx7770AlJaWMmbMGKKionC5XKxatYoZM2Zw6tQpYmJiGDVqlCcWcC+hPXXqVCIjI4mKimLFihWeMQcNGsRDDz1E165dGTVqFI1pwR8REZGmTg1yfSopqN3+Rq5N3z60G/kYx958i3YjH6uTK8cHDx5k8uTJ5OXlsXfvXpYtW0ZmZiZz5871XFn9zW9+Q48ePcjLy+Pll19m9OjRAMyePZsBAwawfft27r//fg4dOgS4V49bsWIFn376Kbm5uQQEBLB06VKfcZSVlREbG8vnn39OfHw8s2fP9rxXXFzM5s2bmTRpEr/4xS9YuXIlOTk5jB07lpkzZwIwZswYUlNT+ec//1njOX77298SEhLCF198QV5eHgkJCbzyyisEBQWRm5t7UYyrV68mNzeXHTt2kJaWxtSpUz0N+fbt23n11VfZvXs3X331FZ9++mktMy8iIiI10UIh9Smk8/npFV72N0FlWVs58c5ybnjmaU68s5wfxfW56iY5PDycqCj3DX533HEHiYmJGGOIiooiPz8fgMzMTFatWgVAQkICRUVFlJSUkJGRwerVqwEYNmwY7dq1A2DDhg3k5OTQu3dvAE6dOkX79u19xtGiRQseffRRAJ544gmSk5M971Xu37dvHzt37mTIkCEAVFRU0KlTJ0pKSiguLiY+Ph6AJ598knXr1l10jrS0NJYvX+7Zroy3JpmZmYwcOZKAgAA6dOhAfHw8n332GcHBwcTFxdG5s/vPUUxMDPn5+QwYMMDneCIiInJ51CDXp8RZ7jnHVadZtApy729iLpxz/KO4PnUyzaJ169aer1u0aOHZbtGihWfOr7fpA+b881ONl+eoWmt56qmn+N3vfldt/8mTJy87rqrjtmnTxjPuHXfccdFV4uLiYq9xeIvrco6renxNquYtICDgiuZHi4iIiHeaYlGfXI/AfakQEgYY9+t9qe79TYi3G/J8Pd2irg0cONAz/SA9PZ0bbriB4ODgavvXrVvHiRMnAEhMTGTlypUcPXoUcM9h/uabb3ye49y5c6xcuRKAZcuWeb0ae/vtt1NYWOhpkMvLy9m1axehoaGEhISQmZkJUON0jqSkJF5//XXPdmW8rVq1ory83Ov3vWLFCioqKigsLCQjI4O4uDif34eIiIhcPTXI9c31CEzZCSnF7tdm0BxXaqgmOSUlhezsbFwuFzNmzODtt98G3HOTMzIyiI2N5eOPP+aWW24BoHv37rz00kskJSXhcrkYMmSIZ+5uTdq0acOuXbvo2bMnGzduZNasi6/yX3PNNaxcuZLp06cTHR1NTEyM54kTixcv5tlnn6Vfv34EBQV5Pcevf/1rTpw4QWRkJNHR0WzatAmA8ePH43K5PDfpVRo+fDgul4vo6GgSEhL4wx/+QMeOHWuXPBEREak105jufu/Vq5fNzs6u0zEr7/j3ZzXlYM+ePXTr1s3nZ4sWLSIwMsrnNIqyrK2c3vkF148bd7Wh1quTJ09y7bXXen2vbdu2lJaWNnBE9e/Cn7H+PtRvDowxOdbaXvUyeCNV13Vbf0aVg0rKg3JQqb7y4Ktmaw6y+HQ5TW+bvld/s56IiIhIY6EpFiLQLK8ei4iIyJVRg+znGtMUG6lb+tmKiIhcGTXIfiwwMJCioiI1Us2QtZaioiICAwOdDkVERKTJ0RxkP9a5c2cKCgo8yyo3d6dPn/arhjEwMNCzmIhIJWPMw0AK0A2Is9ZmV3nvV8B/ARXAJGvtR44EKSLiMDXIfqxVq1aEh4c7HUaDSU9Pp0ePHk6HIeK0nUAy8OeqO40x3YHHgDuAm4A0Y0wXa21Fw4coIuIsTbEQEfEj1to91tp9Xt56AFhurT1jrf0aOAhoZRoR8UtqkEVEBOBm4HCV7YLz+0RE/I6mWIiINDPGmDTA27KLM621a2r6mJd9Xu/gNcaMB8YDdOjQgfT09CsJ06vS0tI6Ha8pUg7clAfloJITeWhUDXJOTs4xY8w3dTzsDcCxOh6zqVEO3JQH5QDqNwf/UU/j1oq19qdX8LECIKzKdmfgXzWMvxBYCGCMKRw8eHBd1m39GVUOKikPykGl+spDjTW7UTXI1tob63pMY0y2vy39eiHlwE15UA5AOfDhf4Blxpg/4b5JLwLYdqkP1XXd1s9HOaikPCgHlZzIg+Ygi4j4EWPMcGNMAdAP+Icx5iMAa+0u4F1gN/Ah8KyeYCEi/qpRXUEWEZH6Za19D3ivhvfmAHMaNiIRkcbHH64gL3Q6gEZAOXBTHpQDUA4aO/18lINKyoNyUKnB82C0zLCIiIiIyP/zhyvIIiIiIiKXTQ2yiIiIiEgVftMgG2NeMMZYY8wNTsfiBGPMH40xe40xecaY94wxoU7H1FCMMXcZY/YZYw4aY2Y4HY8TjDFhxphNxpg9xphdxpjJTsfkFGNMgDFmuzHmA6djEd/8uW6rZqtmq2a7OVWz/aJBNsaEAUOAQ07H4qD1QKS11gXsB37lcDwNwhgTALwB3A10B0YaY7o7G5UjzgLPW2u7AX2BZ/00DwCTgT1OByG+qW6rZqOarZrt5kjN9osGGZgHTKOGZVP9gbX2Y2vt2fObWbhXyfIHccBBa+1X1tr/BZYDDzgcU4Oz1h6x1n5+/uuTuIvNzc5G1fCMMZ2BYcAip2ORS/Lruq2arZqtmu1szW72DbIx5n7gW2vtDqdjaUTGAuucDqKB3AwcrrJdgB8WmaqMMbcCPYCtDofihFdxN13nHI5DfFDdvohqth9TzXamZjeLhUKMMWlARy9vzQReBJIaNiJn+MqDtXbN+WNm4v6vm6UNGZuDjJd9fnlFCsAY0xZYBfzSWvu90/E0JGPMvcBRa22OMWaQw+H4PdVt1ewaqGZXoZrtXM1uFg2ytfan3vYbY6KAcGCHMQbc/0X1uTEmzlr7XQOG2CBqykMlY8xTwL1AovWfB2AXAGFVtjsD/3IoFkcZY1rhLrRLrbWrnY7HAf2B+40x9wCBQLAxZom19gmH4/JLqtuq2TVQzT5PNdvZmu1XC4UYY/KBXtbaY07H0tCMMXcBfwLirbWFTsfTUIwxLXHf4JIIfAt8Bjxurd3laGANzLg7jbeB49baXzocjuPOX414wVp7r8OhyCX4a91WzVbNRjXbw4ma3eznIIvH68C1wHpjTK4xZoHTATWE8ze5PAd8hPsmh3f9rdCe1x94Ekg4//PPPf9buYg0TqrZqtmq2Q7yqyvIIiIiIiKXoivIIiIiIiJVqEEWEREREalCDbKIiIiISBVqkEVEREREqlCDLCIiIiJShRpkEREREZEq1CCLiIiIiFTxf2i+6jntLKZLAAAAAElFTkSuQmCC\n",
          "text/plain": "<Figure size 864x432 with 2 Axes>"
         },
         "metadata": {
          "needs_background": "light"
         },
         "output_type": "display_data"
        }
       ]
      }
     },
     "1d5d807bf59c412a8c816a200558b5be": {
      "model_module": "@jupyter-widgets/controls",
      "model_module_version": "1.5.0",
      "model_name": "VBoxModel",
      "state": {
       "_dom_classes": [
        "widget-interact"
       ],
       "_model_module": "@jupyter-widgets/controls",
       "_model_module_version": "1.5.0",
       "_model_name": "VBoxModel",
       "_view_count": null,
       "_view_module": "@jupyter-widgets/controls",
       "_view_module_version": "1.5.0",
       "_view_name": "VBoxView",
       "box_style": "",
       "children": [
        "IPY_MODEL_3ce5f25451a34ae49c267d04bf447a73",
        "IPY_MODEL_0b6291a4a4e14024b2236f379eb7fc2d"
       ],
       "layout": "IPY_MODEL_0adcbb78fce64dcd9d6c77fe44961d9c"
      }
     },
     "24c9ae9539bf47a4bfcdf5c33b390f4a": {
      "model_module": "@jupyter-widgets/controls",
      "model_module_version": "1.5.0",
      "model_name": "SliderStyleModel",
      "state": {
       "_model_module": "@jupyter-widgets/controls",
       "_model_module_version": "1.5.0",
       "_model_name": "SliderStyleModel",
       "_view_count": null,
       "_view_module": "@jupyter-widgets/base",
       "_view_module_version": "1.2.0",
       "_view_name": "StyleView",
       "description_width": "",
       "handle_color": null
      }
     },
     "3ce5f25451a34ae49c267d04bf447a73": {
      "model_module": "@jupyter-widgets/controls",
      "model_module_version": "1.5.0",
      "model_name": "IntSliderModel",
      "state": {
       "_dom_classes": [],
       "_model_module": "@jupyter-widgets/controls",
       "_model_module_version": "1.5.0",
       "_model_name": "IntSliderModel",
       "_view_count": null,
       "_view_module": "@jupyter-widgets/controls",
       "_view_module_version": "1.5.0",
       "_view_name": "IntSliderView",
       "continuous_update": true,
       "description": "cdegree",
       "description_tooltip": null,
       "disabled": false,
       "layout": "IPY_MODEL_97fedd17e9f84c4b96477ce04674d836",
       "max": 30,
       "min": 1,
       "orientation": "horizontal",
       "readout": true,
       "readout_format": "d",
       "step": 1,
       "style": "IPY_MODEL_24c9ae9539bf47a4bfcdf5c33b390f4a",
       "value": 2
      }
     },
     "97fedd17e9f84c4b96477ce04674d836": {
      "model_module": "@jupyter-widgets/base",
      "model_module_version": "1.2.0",
      "model_name": "LayoutModel",
      "state": {
       "_model_module": "@jupyter-widgets/base",
       "_model_module_version": "1.2.0",
       "_model_name": "LayoutModel",
       "_view_count": null,
       "_view_module": "@jupyter-widgets/base",
       "_view_module_version": "1.2.0",
       "_view_name": "LayoutView",
       "align_content": null,
       "align_items": null,
       "align_self": null,
       "border": null,
       "bottom": null,
       "display": null,
       "flex": null,
       "flex_flow": null,
       "grid_area": null,
       "grid_auto_columns": null,
       "grid_auto_flow": null,
       "grid_auto_rows": null,
       "grid_column": null,
       "grid_gap": null,
       "grid_row": null,
       "grid_template_areas": null,
       "grid_template_columns": null,
       "grid_template_rows": null,
       "height": null,
       "justify_content": null,
       "justify_items": null,
       "left": null,
       "margin": null,
       "max_height": null,
       "max_width": null,
       "min_height": null,
       "min_width": null,
       "object_fit": null,
       "object_position": null,
       "order": null,
       "overflow": null,
       "overflow_x": null,
       "overflow_y": null,
       "padding": null,
       "right": null,
       "top": null,
       "visibility": null,
       "width": null
      }
     },
     "e2cf0a43b1754a3b8cea5fc1b30d898f": {
      "model_module": "@jupyter-widgets/base",
      "model_module_version": "1.2.0",
      "model_name": "LayoutModel",
      "state": {
       "_model_module": "@jupyter-widgets/base",
       "_model_module_version": "1.2.0",
       "_model_name": "LayoutModel",
       "_view_count": null,
       "_view_module": "@jupyter-widgets/base",
       "_view_module_version": "1.2.0",
       "_view_name": "LayoutView",
       "align_content": null,
       "align_items": null,
       "align_self": null,
       "border": null,
       "bottom": null,
       "display": null,
       "flex": null,
       "flex_flow": null,
       "grid_area": null,
       "grid_auto_columns": null,
       "grid_auto_flow": null,
       "grid_auto_rows": null,
       "grid_column": null,
       "grid_gap": null,
       "grid_row": null,
       "grid_template_areas": null,
       "grid_template_columns": null,
       "grid_template_rows": null,
       "height": null,
       "justify_content": null,
       "justify_items": null,
       "left": null,
       "margin": null,
       "max_height": null,
       "max_width": null,
       "min_height": null,
       "min_width": null,
       "object_fit": null,
       "object_position": null,
       "order": null,
       "overflow": null,
       "overflow_x": null,
       "overflow_y": null,
       "padding": null,
       "right": null,
       "top": null,
       "visibility": null,
       "width": null
      }
     }
    },
    "version_major": 2,
    "version_minor": 0
   }
  }
 },
 "nbformat": 4,
 "nbformat_minor": 4
}
