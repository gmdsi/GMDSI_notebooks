{
 "cells": [
  {
   "cell_type": "markdown",
   "metadata": {},
   "source": [
    "# FOSM - a brief overview (with equations!)\n",
    "\n",
    "Throughout the previous tutorial notebooks we have explored how parameter estimation affects posterior parameter and forecast uncertainty. This notebook goes through some of the detail of how these uncertainties are calculated by PEST++ and `pyemu`. \n",
    "\n",
    "FOSM stands for \"First Order, Second Moment\", which is the mathematical description of what is being described. In PEST documentation (and other GMDSI tutorials), it is sometimes referred to as \"linear analysis\". See also page 460 in [Anderson et al. (2015)](https://linkinghub.elsevier.com/retrieve/pii/B9780080916385000018). \n",
    "\n",
    "> <div class=\"csl-entry\">Anderson, M. P., Woessner, W. W., &#38; Hunt, R. J. (2015). Applied Groundwater Modeling: Simulation of Flow and Advective Transport. In <i>Applied Groundwater Modeling</i> (2nd ed.). Elsevier. https://linkinghub.elsevier.com/retrieve/pii/B9780080916385000018</div>\n",
    "\n",
    "Pages 461-465 of Anderson et al. use the PREDUNC equation of PEST to discuss an applied view of FOSM, what goes into it, and what it means in practice.  Here we will look more closely at these.  The objective is to get a better feel for what is going on under the hood in linear uncertainty analyses. \n",
    "\n",
    "> __Side Note__: in Part2 of this series of tutorial notebooks we demonstrate a complete FOSM and Data-worth analysis workflow using `pyemu` and PEST++. The current notebook merely aims to provide a very high-level introduction to some of the concepts."
   ]
  },
  {
   "cell_type": "markdown",
   "metadata": {},
   "source": [
    "<img src=\"intro_to_fosm_files/bayes.png\" style=\"float: left; width: 25%; margin-right: 1%; margin-bottom: 0.5em;\">\n",
    "<img src=\"intro_to_fosm_files/jacobi.jpg\" style=\"float: left; width: 25%; margin-right: 1%; margin-bottom: 0.5em;\">\n",
    "<img src=\"intro_to_fosm_files/gauss.jpg\" style=\"float: left; width: 22%; margin-right: 1%; margin-bottom: 0.5em;\">\n",
    "<img src=\"intro_to_fosm_files/schur.jpg\" style=\"float: left; width: 22%; margin-right: 1%; margin-bottom: 0.5em;\">\n",
    "<p style=\"clear: both;\">"
   ]
  },
  {
   "cell_type": "markdown",
   "metadata": {},
   "source": [
    "FOSM provides approximate mathematical characterisation of prior predictive probability distributions, and of posterior parameter and predictive probability distributions. It has other uses as well. It can be used to demonstrate how the history-matching process bestows worth on data. It can also be deployed to track the flow of information from field measurements of system state to parameters, and ultimately from parameters to model predictions. \n",
    "\n",
    "It does all of these things by implementing Bayes equation under the following assumptions:\n",
    " -  The prior probability distribution of parameters is multivariate Gaussian.\n",
    " - “Measurement noise” (including structural noise) is also characterized by a Gaussian distribution.\n",
    " - The relationships between model outputs that correspond to measurements of system state and parameters employed by a model can be approximated by the action of a matrix on a vector.\n",
    " - Model outputs that correspond to predictions of management interest can be calculated using another matrix that acts on model parameters.\n",
    " \n",
    "Ideally linear analysis is undertaken after a model has been calibrated. However, if a model is truly linear (which it never is), the outcomes of FOSM are independent of parameter values and can therefore, in theory, be applied with the user-supplied prior mean parameter values.\n",
    "\n",
    "If calibration has been undertaken, then minimum-error variance (i.e. calibrated) parameter values should be assigned to parameters as their initial parameters in the “parameter data” section of the PEST control file on which linear analysis is based. The Jacobian matrix should be calculated using these parameters. And, if the uncertainty of a prediction is going to be examined, then the model output that pertains to this prediction must be included as an “observation” in the PEST input dataset; sensitivities of this model output to model parameters will therefore appear in the Jacobian matrix.\n",
    "\n",
    "FOSM tasks may include:\n",
    " - approximate parameter and predictive uncertainty quantification\n",
    " - data worth analysis\n",
    " - identifying parameters that are most salient for forecasts of interest\n",
    " - identifying parameter contributions to predictive uncertainty\n",
    " - assessing parameter identifiability\n",
    "\n",
    "Outcomes of these analyses can provide easily understood insights into what history-matching can and cannot achieve with the available information. These insights can be used to streamline the data assimilation process and guide further site characterisation studies. Of particular interest is data worth analysis. The worth of data is measured by their ability to reduce the uncertainties of model predictions that we care about. Because the equations on which FOSM relies do not require that an observation value already be known, data worth can be assessed on as-of-yet ungathered data. \n",
    "\n",
    "But we are getting ahead of ourselves, let's take this back to basics.\n"
   ]
  },
  {
   "cell_type": "markdown",
   "metadata": {},
   "source": [
    "## The famous Bayes Rule in a nutshell:\n",
    "\n",
    "Check out the `intro_to_bayes` notebook for a little more basic Bayes background. We update our knowledge by comparing what we know/believe with measured/observed data. What we know now, is a function of what we knew before, compared to what we learned from measured data.\n",
    "\n",
    "### $\\underbrace{P(\\boldsymbol{\\theta}|\\textbf{d})}_{\\substack{\\text{what we} \\\\ \\text{know now}}} \\propto \\underbrace{\\mathcal{L}(\\boldsymbol{\\theta} | \\textbf{d})}_{\\substack{\\text{what we} \\\\ \\text{learned}}} \\underbrace{P(\\boldsymbol{\\theta})}_{\\substack{\\text{what we} \\\\ \\text{knew}}} $\n"
   ]
  },
  {
   "cell_type": "markdown",
   "metadata": {},
   "source": [
    "We can also think of this graphically, as taken from Anderson et al. (2015) in slightly different notation but the same equation and concept:\n",
    "\n",
    "<img src=\"intro_to_fosm_files/Fig10.3_Bayes_figure.png\" style=\"float: center;width:500px;\"/>"
   ]
  },
  {
   "cell_type": "markdown",
   "metadata": {},
   "source": [
    "The problem is, for real-world problems, the likelihood function  $\\mathcal{L}(\\theta | \\textbf{D})$ is high-dimensional and non-parameteric, requiring nonlinear (typically Monte Carlo) integration for rigorous Bayes. Unfortunateley, nonlinear methods are computationally expensive and inefficient. "
   ]
  },
  {
   "cell_type": "markdown",
   "metadata": {},
   "source": [
    "But, we can make some assumptions and greatly reduce computational burden. This is why we often suggest using these linear methods first before burning the silicon on the non-linear ones like Monte Carlo.  \n",
    "\n",
    "\n",
    "## How do we reduce the computational burden? \n",
    "\n",
    "By assuming that:"
   ]
  },
  {
   "cell_type": "markdown",
   "metadata": {},
   "source": [
    "### 1. There is an approximate linear relation between parameters and observations:\n",
    "\n",
    "<img src=\"intro_to_fosm_files/jacobi.jpg\" style=\"float: left; width: 5%; margin-right: 1%; margin-bottom: 0.5em;\">\n",
    "\n",
    "### <center> $\\mathbf{J} \\approx \\text{constant}$, $\\frac{\\partial\\text{obs}}{\\partial\\text{par}} \\approx \\text{constant}$</center>"
   ]
  },
  {
   "cell_type": "markdown",
   "metadata": {},
   "source": [
    "### 2. The parameter and forecast prior and posterior distributions are approximately Gaussian:\n",
    "\n",
    "<img src=\"intro_to_fosm_files/gauss.jpg\" style=\"float: left; width: 5%; margin-right: 1%; margin-bottom: 0.5em;\">\n",
    "\n",
    "###  <center>  $ P(\\boldsymbol{\\theta}|\\mathbf{d}) \\approx \\mathcal{N}(\\overline{\\boldsymbol{\\mu}}_{\\boldsymbol{\\theta}},\\overline{\\boldsymbol{\\Sigma}}_{\\boldsymbol{\\theta}})$ </center>"
   ]
  },
  {
   "cell_type": "markdown",
   "metadata": {},
   "source": [
    "Armed with these two assumptions, from Bayes equations, one can derive the Schur complement for conditional uncertainty propagation:\n",
    "\n",
    "<img src=\"intro_to_fosm_files/schur.jpg\" style=\"float: left; width: 5%; margin-right: 1%; margin-bottom: 0.5em;\">\n",
    "\n",
    "### <center> $\\underbrace{\\overline{\\boldsymbol{\\Sigma}}_{\\boldsymbol{\\theta}}}_{\\substack{\\text{what we} \\\\ \\text{know now}}} = \\underbrace{\\boldsymbol{\\Sigma}_{\\boldsymbol{\\theta}}}_{\\substack{\\text{what we} \\\\ \\text{knew}}} - \\underbrace{\\boldsymbol{\\Sigma}_{\\boldsymbol{\\theta}}\\bf{J}^T\\left[\\bf{J}\\boldsymbol{\\Sigma}_{\\boldsymbol{\\theta}}\\bf{J}^T + \\boldsymbol{\\Sigma}_{\\boldsymbol{\\epsilon}}\\right]^{-1}\\bf{J}\\boldsymbol{\\Sigma}_{\\boldsymbol{\\theta}}}_{\\text{what we learned}}$ </center>"
   ]
  },
  {
   "cell_type": "markdown",
   "metadata": {},
   "source": [
    "### Highlights:\n",
    "1. There are no parameter values or observation values in these equations!\n",
    "2. \"us + data\" = $\\overline{\\Sigma}_{\\theta}$; \"us\" = $\\Sigma_{\\theta}$. This accounts for information from both data and expert knowledge.\n",
    "3. The '-' on the right-hand-side of the last equation shows that we are (hopefully) collapsing the probability manifold in parameter space by \"learning\" from the data. Or put another way, we are subtracting from the uncertainty we started with (we started with the Prior uncertainty)\n",
    "4. Uncertainty in our measurements of the world is encapsulated in $\\Sigma_{\\epsilon}$. If the \"observations\" are highly uncertain, then parameter \"learning\" decreases because $\\Sigma_{\\epsilon}$ is in the denominator. Put another way, if our measured data are made (assumed) to be accurate and precise, then uncertainty associated with the parameters that are constrained by these measured data is reduced - we \"learn\" more. \n",
    "5. What quantities are needed? $\\bf{J}$, $\\boldsymbol{\\Sigma}_{\\theta}$, and $\\boldsymbol{\\Sigma}_{\\epsilon}$\n",
    "6. The diagonal of $\\Sigma_{\\theta}$ and $\\overline{\\Sigma}_{\\theta}$ are the Prior and Posterior uncertainty (variance) of each adjustable parameter"
   ]
  },
  {
   "cell_type": "markdown",
   "metadata": {},
   "source": [
    "# But what about forecasts? \n",
    "\n",
    "<img src=\"intro_to_fosm_files/jacobi.jpg\" style=\"float: left; width: 5%; margin-right: 1%; margin-bottom: 0.5em;\">\n",
    "<img src=\"intro_to_fosm_files/gauss.jpg\" style=\"float: left; width: 5%; margin-right: 1%; margin-bottom: 0.5em;\">\n",
    "<p style=\"clear: both;\"> We can use the same assumptions:\n",
    "    \n",
    "- prior forecast uncertainty (variance): $\\sigma^2_{s} = \\mathbf{y}^T\\boldsymbol{\\Sigma}_{\\boldsymbol{\\theta}}\\mathbf{y}$\n",
    "- posterior forecast uncertainty (variance): $\\overline{\\sigma}^2_{s} = \\mathbf{y}^T\\overline{\\boldsymbol{\\Sigma}}_{\\boldsymbol{\\theta}}\\mathbf{y}$\n",
    "\n",
    "\n",
    "### Highlights:\n",
    "- Again, no parameter values or forecast values!\n",
    "- What's needed? $\\bf{y}$, which is the __sensitivity of a given forecast__ to each adjustable parameter. Each forecast will have its own $\\bf{y}$.\n",
    "- How do I get $\\bf{y}$? the easiest way is to include your forecast(s) as an observation in the control file - then we get the $\\bf{y}$'s for free during the parameter estimation process."
   ]
  },
  {
   "cell_type": "markdown",
   "metadata": {},
   "source": [
    "# Mechanics of calculating FOSM parameter and forecast uncertainty estimates"
   ]
  },
  {
   "cell_type": "markdown",
   "metadata": {},
   "source": [
    "__in the PEST world:__\n",
    "\n",
    "In the original PEST (i.e., not PEST++) documentation, FOSM is referred to as linear analysis. Implementing the various linear analyses relies on a suite of utility software and a series of user-input-heavy steps, as illustrated in the figure below. \n",
    "\n",
    "<img src=\"intro_to_fosm_files/workflow.png\" style=\"float: left; width: 50%; margin-right: 1%; margin-bottom: 0.5em;\">\n",
    "\n"
   ]
  },
  {
   "cell_type": "markdown",
   "metadata": {},
   "source": [
    "__in PEST++__:\n",
    "\n",
    "In the PEST++ world, life is much easier. By default, PEST++GLM implements FOSM on-the-fly (it can be deactivated if the user desires) and records parameter and forecast uncertainties throughout the parameter estimation process.\n",
    "\n",
    "Let's take a closer look and get a feel for what is going on. "
   ]
  },
  {
   "cell_type": "markdown",
   "metadata": {},
   "source": [
    "# FOSM with PEST++ Demo\n",
    "\n",
    "In the tutorial directory there is a folder containing the outcomes of a PEST++GLM parameter estimation run. (These are based on the model and PEST setup constructed in the \"part1_freyberg_pilotpoints_1\" and \"part1_freyberg_pilotpoints_2\" notebooks.) In the following section we will access several of these files using `pyemu`. It is assumed that the reader is familiar with the basics of `pyemu`.\n",
    "\n",
    "Parameter estimation has already been undertaken with PEST++GLM. So we already have at our disposal a jacobian matrix, as well as the parameter and forecast uncertainty files written by PEST++GLM."
   ]
  },
  {
   "cell_type": "code",
   "execution_count": null,
   "metadata": {},
   "outputs": [],
   "source": [
    "import sys\n",
    "import os\n",
    "import warnings\n",
    "warnings.filterwarnings(\"ignore\")\n",
    "warnings.filterwarnings(\"ignore\", category=DeprecationWarning) \n",
    "\n",
    "import pandas as pd\n",
    "import numpy as np\n",
    "import matplotlib.pyplot as plt;\n",
    "import psutil\n",
    "import shutil\n",
    "\n",
    "# sys.path.insert(0,os.path.join(\"..\", \"..\", \"dependencies\"))\n",
    "import pyemu\n",
    "import flopy\n",
    "assert \"dependencies\" in flopy.__file__\n",
    "assert \"dependencies\" in pyemu.__file__\n",
    "sys.path.insert(0,\"..\")\n",
    "import herebedragons as hbd\n",
    "\n",
    "plt.rcParams['font.size'] = 10\n",
    "pyemu.plot_utils.font =10"
   ]
  },
  {
   "cell_type": "markdown",
   "metadata": {},
   "source": [
    "The folder with model and PEST files (important note - you must have run the pilot points notebooks for this to work):\n"
   ]
  },
  {
   "cell_type": "code",
   "execution_count": null,
   "metadata": {},
   "outputs": [],
   "source": [
    "working_dir = \"../part1_08_pilotpoints_run/master_pp\""
   ]
  },
  {
   "cell_type": "markdown",
   "metadata": {},
   "source": [
    "The PEST control file name:"
   ]
  },
  {
   "cell_type": "code",
   "execution_count": null,
   "metadata": {},
   "outputs": [],
   "source": [
    "pst_name = \"freyberg_pp.pst\""
   ]
  },
  {
   "cell_type": "markdown",
   "metadata": {},
   "source": [
    "Load the PEST control file:"
   ]
  },
  {
   "cell_type": "code",
   "execution_count": null,
   "metadata": {},
   "outputs": [],
   "source": [
    "pst = pyemu.Pst(os.path.join(working_dir, pst_name))"
   ]
  },
  {
   "cell_type": "markdown",
   "metadata": {},
   "source": [
    "### Let's look at the parameter uncertainty summary written by pestpp:\n",
    "\n",
    "PEST++GLM records a parameter uncertainty file named _casename.par.usum.csv_. It records the prior and posterior means, bounds and standard deviations."
   ]
  },
  {
   "cell_type": "code",
   "execution_count": null,
   "metadata": {},
   "outputs": [],
   "source": [
    "df = pd.read_csv(os.path.join(working_dir,pst_name.replace(\".pst\",\".par.usum.csv\")),index_col=0)\n",
    "df.tail()"
   ]
  },
  {
   "cell_type": "markdown",
   "metadata": {},
   "source": [
    "We can visualize this with probability distributions. In the plot below, prior parameter distributions are shown by the dashed grey lines. Posterior parameter distributions are the blue shaded areas. Each plot shows distributions for parameters in the same group:"
   ]
  },
  {
   "cell_type": "code",
   "execution_count": null,
   "metadata": {},
   "outputs": [],
   "source": [
    "par = pst.parameter_data\n",
    "df_paru = pd.read_csv(os.path.join(working_dir,pst_name.replace(\".pst\",\".par.usum.csv\")),index_col=0)\n",
    "\n",
    "fig, axes=plt.subplots(1,len(pst.adj_par_groups),figsize=(15,5))\n",
    "\n",
    "for pargp, ax in zip(pst.adj_par_groups, axes):\n",
    "    hk_pars = [p for p in pst.par_names if p.startswith(\"hk\")]\n",
    "    pars = par.loc[par.pargp==pargp].parnme.values\n",
    "    df_par = df_paru.loc[pars,:]\n",
    "    ax = pyemu.plot_utils.plot_summary_distributions(df_par,label_post=False, ax=ax)\n",
    "    mn = np.log10(pst.parameter_data.loc[pars[0].lower(),\"parlbnd\"])\n",
    "    mx = np.log10(pst.parameter_data.loc[pars[0].lower(),\"parubnd\"])\n",
    "    ax.set_title(pargp)"
   ]
  },
  {
   "cell_type": "markdown",
   "metadata": {},
   "source": [
    "### There is a similar file for forecasts:\n",
    "_casename.pred.usum.csv_"
   ]
  },
  {
   "cell_type": "code",
   "execution_count": null,
   "metadata": {},
   "outputs": [],
   "source": [
    "axes = pyemu.plot_utils.plot_summary_distributions(os.path.join(working_dir,pst_name.replace(\".pst\",\".pred.usum.csv\")),subplots=True)"
   ]
  },
  {
   "cell_type": "markdown",
   "metadata": {},
   "source": [
    "### Where do the prior parameter distributions come from?\n",
    "\n",
    "Prior parameter distributions can come from one of two sources. \n",
    "\n",
    "1. If no other information is provided, PEST++GLM assumes that all adjustable parameters are statistically independent. In this case, by default, the prior standard deviation of each parameter is calculated as a quarter of the difference between its upper and lower bounds in the PEST control file. (This is the case here)\n",
    "2. Alternatively, the name of a prior parameter covariance matrix file can be provided to the `parcov()` control variable.\n",
    "\n",
    "\n",
    "### Where do the prior forecast distributions come from?\n",
    "\n",
    "At the first iteration of the parameter estimation process, PEST++GLM calculates sensitivities based on initial parameter values. These are used to determine the prior parameter and forecast uncertainty.\n",
    "\n",
    "\n",
    "### Why are are the posterior distributions different than the priors?\n",
    "\n",
    "Recall Bayes' Rule? By comparing model outputs to measured data we have \"learned\" information about model parameters, thus \"updating our prior\" and reducing parameter (and forecast) uncertainty.\n"
   ]
  },
  {
   "cell_type": "markdown",
   "metadata": {},
   "source": [
    "# FOSM with pyEMU\n",
    "\n",
    "Now, `pyemu` does the same calculations, but also allows you to do other, more exciting things! \n",
    "\n",
    "We need three ingredients for FOSM:\n",
    " - parameter covariance matrix \n",
    " - observation noise covariance matrix\n",
    " - jacobian matrix \n",
    "\n",
    "\n",
    "The ``Schur`` object is one of the primary objects for FOSM in pyEMU and the only one we will talk about in this tutorial."
   ]
  },
  {
   "cell_type": "code",
   "execution_count": null,
   "metadata": {},
   "outputs": [],
   "source": [
    "sc = pyemu.Schur(jco=os.path.join(working_dir,pst_name.replace(\".pst\",\".jcb\")),verbose=False)"
   ]
  },
  {
   "cell_type": "markdown",
   "metadata": {},
   "source": [
    "Now that seemed too easy, right?  Well, under the hood the `Schur` object found the control file (`freyberg_pp.pst`) and used it to build the prior parameter covariance matrix, $\\boldsymbol{\\Sigma}_{\\theta}$, from the parameter bounds and the observation noise covariance matrix ($\\boldsymbol{\\Sigma}_{\\epsilon}$) from the observation weights.  These are the `Schur.parcov` and `Schur.obscov` attributes.  \n",
    "\n",
    "The `Schur` object also found the \"++forecasts()\" optional pestpp argument in the control file, found the associated rows in the Jacobian matrix file and extracted those rows to serve as forecast sensitivity vectors:"
   ]
  },
  {
   "cell_type": "code",
   "execution_count": null,
   "metadata": {},
   "outputs": [],
   "source": [
    "sc.pst.pestpp_options['forecasts']"
   ]
  },
  {
   "cell_type": "markdown",
   "metadata": {},
   "source": [
    "### The Jacobian Matrix and Forecast Sensitivity Vectors\n",
    "\n",
    "Recall that a Jacobian matrix looks at the changes in observations as a parameter is changed.  Therefore the Jacobian matrix has parameters in the columns and observations in the rows.  The bulk of the matrix is made up of the difference in  observations between a base run and a run where the parameter at the column head was perturbed (typically 1% from the base run value - controlled by the \"parameter groups\" info).  Now we'll output the Jacobian matrix as a `DataFrame`:"
   ]
  },
  {
   "cell_type": "code",
   "execution_count": null,
   "metadata": {},
   "outputs": [],
   "source": [
    "sc.jco.to_dataframe().loc[sc.pst.nnz_obs_names,:].head()"
   ]
  },
  {
   "cell_type": "markdown",
   "metadata": {},
   "source": [
    "This reports changes in observations due to a change in a parameter.  We can report how  forecasts of interest change as the parameter is perturbed.  Note `pyemu` extracted the forecast rows from the Jacobian on instantiation:"
   ]
  },
  {
   "cell_type": "code",
   "execution_count": null,
   "metadata": {},
   "outputs": [],
   "source": [
    "sc.forecasts.to_dataframe()"
   ]
  },
  {
   "cell_type": "markdown",
   "metadata": {},
   "source": [
    "Each of these columns is a $\\bf{y}$ vector used in the FOSM calculations...that's it! "
   ]
  },
  {
   "cell_type": "markdown",
   "metadata": {},
   "source": [
    "###  The prior parameter covariance matrix - $\\boldsymbol{\\Sigma}_{\\theta}$\n",
    "\n",
    "Because we have inherent uncertainty in the parameters, the forecasts also have uncertainty. As discussed above, the covariance matrix describing prior parameter uncertainty was constructed on-the-fly from the parameter bounds in the control file: "
   ]
  },
  {
   "cell_type": "code",
   "execution_count": null,
   "metadata": {},
   "outputs": [],
   "source": [
    "sc.parcov.to_dataframe()"
   ]
  },
  {
   "cell_type": "markdown",
   "metadata": {},
   "source": [
    "> Page 463-464 in Anderson et al. (2015) spends some time on what is shown above.  \n",
    "\n",
    "For our purposes, a diagonal Prior -  numbers only along the diagonal - shows that we expect the uncertainty for each parameter to only result from itself - there is no covariance with other parameters. The numbers themselves reflect \"the innate parameter variability\", and is input into the maths as a standard deviation around the parameter value.  This is called the \"C(p) matrix of innate parameter variability\" in PEST parlance.\n",
    "\n",
    "> __IMPORTANT POINT__:  Again, how did PEST++ and pyEMU get these standard deviations shown in the diagonal?  From the *parameter bounds* that were specified for each parameter in the PEST control file."
   ]
  },
  {
   "cell_type": "markdown",
   "metadata": {},
   "source": [
    "### The  matrix  of observation noise - $C{\\epsilon}$\n",
    "\n",
    "Forecast uncertainty has to take into account the noise/uncertainty in the observations.   Similar to the parameter Prior (the $\\Sigma_{\\theta}$ matrix), the observation Prior is a covariance matrix of measurement error associated with the observations.  This is the same as  $\\Sigma_{\\epsilon}$ that we discussed above. For our Fryberg problem, the $C{\\epsilon}$ matrix would look like:"
   ]
  },
  {
   "cell_type": "code",
   "execution_count": null,
   "metadata": {},
   "outputs": [],
   "source": [
    "sc.obscov.to_dataframe().loc[sc.pst.nnz_obs_names,sc.pst.nnz_obs_names].head()"
   ]
  },
  {
   "cell_type": "markdown",
   "metadata": {},
   "source": [
    "> __IMPORTANT POINT__:  How did PEST++ and pyEMU get these standard deviations shown in the diagonal?  From the *weights* that were specified for each observation in the PEST control file.\n",
    "\n",
    "> __IMPORTANT POINT__: You can use FOSM in the \"pre-calibration\" state to design an objective function (e.g. weights) to maximize forecast uncertainty reduction.\n",
    "\n",
    "> __IMPORTANT POINT__: In PEST++, if a given observation has a larger-than-expected residual, the variance of said observation is reset to the variance implied by the residual.  That is, the diagonal elements of $\\Sigma_{\\epsilon}$ are reset according to the residuals."
   ]
  },
  {
   "cell_type": "markdown",
   "metadata": {},
   "source": [
    "## Posterior Parameter Uncertainty - ${\\overline{\\boldsymbol{\\Sigma}}_{\\boldsymbol{\\theta}}} $\n",
    "\n",
    "Okay, enough emphasis.  Here's the point.  When we apply FOSM using the matrices above, we can see how our uncertainty changes during calibration, first for parameters and then for forecasts. \n",
    "\n",
    "Here, we are updating parameter covariance following notional calibration as represented by the Jacobian matrix and both prior parameter and observation noise covariance matrices. \n",
    "\n",
    "In other words, given prior parameter uncertainty (expressed by $\\boldsymbol{\\Sigma}_{\\theta}$) and the inherent noise in measurements (expressed by $C{\\epsilon}$), we calculate the expected parameter uncertainty __after__ calibration. This assumes that _calibration achieves a fit commensurate with measurement noise, parameter linearity, etc_.\n",
    "\n",
    "The posterior parameter covariance matrix is stored as a `pyemu.Cov` object in the `sc.posterior_parameter` attribute. The diagonal of this matrix contains the posterior __variance__ for each parameter, and the off-diagonal elements are the the parameter __covariances__. "
   ]
  },
  {
   "cell_type": "code",
   "execution_count": null,
   "metadata": {},
   "outputs": [],
   "source": [
    "sc.posterior_parameter.to_dataframe().head()"
   ]
  },
  {
   "cell_type": "markdown",
   "metadata": {},
   "source": [
    "But...is calibration worth pursuing or not? Let's explore what the notional calibration is expected to do for parameter uncertainty. We accomplish this by comparing prior and posterior parameter uncertainty. Using `.get_parameter_summary()` makes this easy:"
   ]
  },
  {
   "cell_type": "code",
   "execution_count": null,
   "metadata": {},
   "outputs": [],
   "source": [
    "df = sc.get_parameter_summary()\n",
    "df.head()"
   ]
  },
  {
   "cell_type": "markdown",
   "metadata": {},
   "source": [
    "We can plot that up:"
   ]
  },
  {
   "cell_type": "code",
   "execution_count": null,
   "metadata": {},
   "outputs": [],
   "source": [
    "df.percent_reduction.plot(kind=\"bar\", figsize=(15,3));"
   ]
  },
  {
   "cell_type": "markdown",
   "metadata": {},
   "source": [
    "### Do these results make sense?  Why are some parameters unaffected by calibration?\n",
    "\n",
    "As the name suggests, the `percent_reduction` column shows the  percentage decrease in uncertainty expected through calibration for each parameter.\n",
    "\n",
    "From the plot above we can see that calibrating the model with available data definitely reduces uncertainty of some parameters. Some parameters are informed by observation data... however calibration does not affect all parameters equally. If the available observation data does not contain information that affects some parameters, the uncertainty of those parameters will not be reduced by calibration."
   ]
  },
  {
   "cell_type": "markdown",
   "metadata": {},
   "source": [
    "##  Forecast Uncertainty\n",
    "\n",
    "So far we have seen that some parameter uncertainty will be reduced. Uncertainty for other parameters will not. That's great and all, but what we really care about are our forecast uncertainties. Do the parameters that are informed by calibration affect the forecasts of interest? And will calibrating reduce the uncertainty of these forecasts?\n",
    "\n",
    "Let's examine the prior and posterior variance of our forecasts. Recall that they are recorded as observations in the `Pst` control file and also listed in the pest++ `forecast` control variable:"
   ]
  },
  {
   "cell_type": "code",
   "execution_count": null,
   "metadata": {},
   "outputs": [],
   "source": [
    "forecasts = sc.pst.forecast_names\n",
    "forecasts"
   ]
  },
  {
   "cell_type": "markdown",
   "metadata": {},
   "source": [
    "As before, `pyemu` has already done much of the heavy lifting. We can get a summary of the forecast prior and posterior variances with `.get_forecast_summary()`:"
   ]
  },
  {
   "cell_type": "code",
   "execution_count": null,
   "metadata": {},
   "outputs": [],
   "source": [
    "df = sc.get_forecast_summary()\n",
    "df"
   ]
  },
  {
   "cell_type": "markdown",
   "metadata": {},
   "source": [
    "And we can make a cheeky little plot of that. As you can see, unsurprisingly some forecasts benefit more from calibration than others. So, depending on the forecast of interest, calibration may or may not be worthwhile..."
   ]
  },
  {
   "cell_type": "code",
   "execution_count": null,
   "metadata": {},
   "outputs": [],
   "source": [
    "# get the forecast summary then make a bar chart of the percent_reduction column\n",
    "fig = plt.figure()\n",
    "ax = plt.subplot(111)\n",
    "ax = df.percent_reduction.plot(kind='bar',ax=ax,grid=True)\n",
    "ax.set_ylabel(\"percent uncertainy\\nreduction from calibration\")\n",
    "ax.set_xlabel(\"forecast\")"
   ]
  },
  {
   "cell_type": "markdown",
   "metadata": {},
   "source": [
    "## Parameter contribution to forecast uncertainty\n",
    "\n",
    "Information flows from observations to parameters and then out to forecasts. Information contained in observation data constrains parameter uncertainty, which in turn constrains forecast uncertainty. For a given forecast, we can evaluate which parameter contributes the most to uncertainty. This is accomplished by assuming a parameter (or group of parameters) is perfectly known and then assessing forecast uncertainty under that assumption. Comparing uncertainty obtained in this manner to the forecast uncertainty under the base assumption (in which no parameter is perfectly known), the contribution from that parameter (or parameter group) is obtained. \n",
    "\n",
    "Now, this is a pretty big assumption - in practice a parameter is never perfectly known. Nevertheless, this metric can provide useful insights into the flow of information from data to forecast uncertainty, which can help guide data assimilation design as well as future data collection efforts. \n",
    "\n",
    "In `pyemu` we can  evaluate parameter contributions to forecast uncertainty with groups of parameters by type using `.get_par_group_contribution()`:"
   ]
  },
  {
   "cell_type": "code",
   "execution_count": null,
   "metadata": {},
   "outputs": [],
   "source": [
    "par_contrib = sc.get_par_group_contribution()\n",
    "par_contrib.head()"
   ]
  },
  {
   "cell_type": "markdown",
   "metadata": {},
   "source": [
    "We can see the relatve contribution by normalizing to the base case (e.g. in which no parameters/groups are perfectly known):"
   ]
  },
  {
   "cell_type": "code",
   "execution_count": null,
   "metadata": {},
   "outputs": [],
   "source": [
    "base = par_contrib.loc[\"base\",:]\n",
    "par_contrib = 100.0 * (base - par_contrib) / base\n",
    "par_contrib.sort_index().head()"
   ]
  },
  {
   "cell_type": "markdown",
   "metadata": {},
   "source": [
    "Understanding the links between parameters and forecast uncertainties can be useful - in particular to gain insight into the system dynamics. But we are still missing a step to understand what _observation_ data affects the forecast. It is often more straightforward to quantify how observation information impacts forecast uncertainty so that we can explore the worth of observation data directly."
   ]
  },
  {
   "cell_type": "markdown",
   "metadata": {},
   "source": [
    "# Data worth analysis\n",
    "\n",
    "> __Note__: We will _not_ demonstrate data worth analysis here. See the respective notebook in Part2 of these tutorials.\n",
    "\n",
    "The worth of data is measured by their ability to reduce the uncertainties of model predictions that we care about. Linear analysis is particularly useful for exploring data worth. This is because the equations that it uses to calculate predictive uncertainty do not include terms that represent the actual values of observations or of parameters; only sensitivities of model outputs to parameters are required. Therefore, linear analysis can be used to assess the ability (or otherwise) of yet-ungathered data to reduce the uncertainties of decision-critical predictions.\n",
    "\n",
    "### <center> This is __Huge__. Let me say it again.<center>\n",
    "\n",
    "#### <center>  We can assess the relative worth of an observation ___without knowing the value of the observation___. </center>\n",
    "\n",
    "\n",
    "This means that potential field measurements that correspond to one or many outputs of a model can be assessed for their worth. For example, it is possible to assess the worth of observations of head in every single model cell at every time step of a model run with a relatively small computational burden. This makes linear analysis a useful tool for designing and comparing strategies for data-collection, when data acquisition seeks to reduce the uncertainties of one or a number of decision-critical predictions. \n",
    "\n",
    "There are two main applications for data worth analysis:\n",
    " 1.\tranking of the relative worth of existing observations by calculating predictive uncertainty with selected individual or combined observations removed from a calibration dataset. \n",
    " 2.\tranking of the relative worth of __potential__ new observations by calculating predictive uncertainty with selected individual or combined observations added to an existing calibration dataset."
   ]
  }
 ],
 "metadata": {
  "language_info": {
   "name": "python"
  }
 },
 "nbformat": 4,
 "nbformat_minor": 4
}
