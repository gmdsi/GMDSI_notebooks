{
 "cells": [
  {
   "cell_type": "markdown",
   "id": "ec0d38a7",
   "metadata": {},
   "source": [
    "# Run this beast!"
   ]
  },
  {
   "cell_type": "code",
   "execution_count": null,
   "id": "0728373d",
   "metadata": {},
   "outputs": [],
   "source": [
    "\n",
    "import os\n",
    "import shutil\n",
    "from datetime import datetime\n",
    "import warnings\n",
    "warnings.filterwarnings(\"ignore\")\n",
    "warnings.filterwarnings(\"ignore\", category=DeprecationWarning) \n",
    "\n",
    "import pandas as pd\n",
    "import numpy as np\n",
    "import matplotlib.pyplot as plt;\n",
    "import sys\n",
    "sys.path.append(os.path.join(\"..\", \"..\", \"dependencies\"))\n",
    "import pyemu\n",
    "import flopy\n",
    "sys.path.append(\"..\")\n",
    "# import pre-prepared convenience functions\n",
    "import herebedragons as hbd"
   ]
  },
  {
   "cell_type": "code",
   "execution_count": null,
   "id": "b4da047f",
   "metadata": {},
   "outputs": [],
   "source": [
    "# specify the temporary working folder\n",
    "t_d = os.path.join('freyberg6_da_template')\n",
    "\n",
    "if not os.path.exists(t_d):\n",
    "    raise Exception(\"you need to run the 'freyberg_da_prep.ipynb' notebook\")\n",
    "\n"
   ]
  },
  {
   "cell_type": "code",
   "execution_count": null,
   "id": "ca12ded1",
   "metadata": {},
   "outputs": [],
   "source": [
    "pst = pyemu.Pst(os.path.join(t_d,\"freyberg_mf6.pst\"))"
   ]
  },
  {
   "cell_type": "code",
   "execution_count": null,
   "id": "ea5242ce",
   "metadata": {},
   "outputs": [],
   "source": [
    "pst.pestpp_options['ies_parameter_ensemble'] = 'prior_pe.jcb'\n",
    "pst.pestpp_options[\"ies_num_reals\"] = 50\n",
    "num_workers = 10\n",
    "pst.control_data.noptmax = 3\n",
    "pst.write(os.path.join(t_d, 'freyberg_mf6.pst'))\n",
    "m_d = os.path.join('master_da')"
   ]
  },
  {
   "cell_type": "code",
   "execution_count": null,
   "id": "07a8dd84",
   "metadata": {},
   "outputs": [],
   "source": [
    "pyemu.os_utils.start_workers(t_d, # the folder which contains the \"template\" PEST dataset\n",
    "                            'pestpp-da', #the PEST software version we want to run\n",
    "                            'freyberg_mf6.pst', # the control file to use with PEST\n",
    "                            num_workers=num_workers, #how many agents to deploy\n",
    "                            worker_root='.', #where to deploy the agent directories; relative to where python is running\n",
    "                            master_dir=m_d, #the manager directory\n",
    "                            )"
   ]
  },
  {
   "cell_type": "markdown",
   "id": "b3785ae9",
   "metadata": {},
   "source": [
    "Like you probably have realized, all things get more complicated with sequential estimation, this includes post processing as well...\n",
    "\n",
    "Let's load the global obs ensembles"
   ]
  },
  {
   "cell_type": "code",
   "execution_count": null,
   "id": "f9b69a05",
   "metadata": {},
   "outputs": [],
   "source": [
    "files = [f for f in os.listdir(m_d) if \".0.obs.csv\" in f]\n",
    "pr_oes = {int(f.split(\".\")[1]):pd.read_csv(os.path.join(m_d,f),index_col=0) for f in files}\n",
    "print(files)"
   ]
  },
  {
   "cell_type": "code",
   "execution_count": null,
   "id": "62ab4f98",
   "metadata": {},
   "outputs": [],
   "source": [
    "files = [f for f in os.listdir(m_d) if \".{0}.obs.csv\".format(pst.control_data.noptmax) in f]\n",
    "pt_oes = {int(f.split(\".\")[1]):pd.read_csv(os.path.join(m_d,f),index_col=0) for f in files}"
   ]
  },
  {
   "cell_type": "code",
   "execution_count": null,
   "id": "f4cec1de",
   "metadata": {},
   "outputs": [],
   "source": [
    "otab = pd.read_csv(os.path.join(m_d,\"obs_cycle_table.csv\"),index_col=0)\n",
    "wtab = pd.read_csv(os.path.join(m_d,\"weight_cycle_table.csv\"),index_col=0)"
   ]
  },
  {
   "cell_type": "code",
   "execution_count": null,
   "id": "b51ea954",
   "metadata": {},
   "outputs": [],
   "source": [
    "obs = pst.observation_data\n",
    "obs = obs.loc[pst.nnz_obs_names,:]\n",
    "obs"
   ]
  },
  {
   "cell_type": "code",
   "execution_count": null,
   "id": "ec6daffc",
   "metadata": {},
   "outputs": [],
   "source": [
    "ad_df = pd.read_csv(os.path.join(t_d,\"alldata.csv\"),index_col=0)\n",
    "ad_df"
   ]
  },
  {
   "cell_type": "code",
   "execution_count": null,
   "id": "7d2d14f3",
   "metadata": {},
   "outputs": [],
   "source": [
    "for o in pst.nnz_obs_names:\n",
    "    fig,axes = plt.subplots(2,1,figsize=(10,8))\n",
    "    \n",
    "    for kper,oe in pr_oes.items():\n",
    "        axes[0].scatter([kper]*oe.shape[0],oe.loc[:,o].values,marker=\".\",c=\"0.5\",alpha=0.5)\n",
    "        axes[1].scatter([kper]*oe.shape[0],oe.loc[:,o].values,marker=\".\",c=\"0.5\",alpha=0.5)\n",
    "    for kper,oe in pt_oes.items():\n",
    "        axes[1].scatter([kper]*oe.shape[0],oe.loc[:,o].values,marker=\".\",c=\"b\",alpha=0.5)\n",
    "    \n",
    "    ovals = otab.loc[o,:].values\n",
    "    wvals = wtab.loc[o,:].values\n",
    "    ylim = axes[1].get_ylim()\n",
    "    xlim = axes[1].get_xlim()\n",
    "    ovals[wvals==0] = np.nan\n",
    "    axes[0].scatter(otab.columns.values,ovals,marker='^',c='r')\n",
    "    axes[1].scatter(otab.columns.values,ovals,marker='^',c='r')\n",
    "    axes[0].set_ylim(ylim)\n",
    "    axes[0].set_xlim(xlim)\n",
    "    axes[0].set_title(\"A) prior only: \"+o,loc=\"left\")\n",
    "    axes[0].set_xlabel(\"kper\")\n",
    "    axes[1].set_ylim(ylim)\n",
    "    axes[1].set_xlim(xlim)\n",
    "    axes[1].set_title(\"B) pior and post: \"+o,loc=\"left\")\n",
    "    axes[1].set_xlabel(\"kper\")\n",
    "    \n",
    "    avals = ad_df.loc[:,o]\n",
    "    axes[0].scatter(ad_df.index.values,avals,marker='.',c='r')\n",
    "    axes[1].scatter(ad_df.index.values,avals,marker='.',c='r')\n",
    "    \n",
    "    plt.tight_layout()\n",
    "    "
   ]
  },
  {
   "cell_type": "code",
   "execution_count": null,
   "id": "1b01ec86",
   "metadata": {},
   "outputs": [],
   "source": [
    "obs = pst.observation_data\n",
    "forecasts = obs.loc[obs.obsnme.apply(lambda x: \"headwater\" in x or \"tailwater\" in x),\"obsnme\"]\n",
    "forecasts\n",
    "for o in forecasts:\n",
    "    fig,axes = plt.subplots(2,1,figsize=(10,8))\n",
    "    \n",
    "    for kper,oe in pr_oes.items():\n",
    "        axes[0].scatter([kper]*oe.shape[0],oe.loc[:,o].values,marker=\".\",c=\"0.5\",alpha=0.5)\n",
    "        axes[1].scatter([kper]*oe.shape[0],oe.loc[:,o].values,marker=\".\",c=\"0.5\",alpha=0.5)\n",
    "    for kper,oe in pt_oes.items():\n",
    "        axes[1].scatter([kper]*oe.shape[0],oe.loc[:,o].values,marker=\".\",c=\"b\",alpha=0.5)\n",
    "    \n",
    "    axes[0].set_title(\"A) prior only: \"+o,loc=\"left\")\n",
    "    axes[0].set_xlabel(\"kper\")\n",
    "    axes[1].set_title(\"B) pior and post: \"+o,loc=\"left\")\n",
    "    axes[1].set_xlabel(\"kper\")\n",
    "    \n",
    "    avals = ad_df.loc[:,o]\n",
    "    axes[0].scatter(ad_df.index.values,avals,marker='.',c='r')\n",
    "    axes[1].scatter(ad_df.index.values,avals,marker='.',c='r')\n",
    "    \n",
    "    plt.tight_layout()"
   ]
  },
  {
   "cell_type": "markdown",
   "id": "85098fb2",
   "metadata": {},
   "source": [
    "To help understand what is happening with PESTPP-DA (and to make sense of all the output files that PESTPP-DA generates), let's inspect the master dir:"
   ]
  }
 ],
 "metadata": {
  "interpreter": {
   "hash": "1074cc2a408d702fd055a0733ab6591f28fca24f552c9af1e24a27d203837ac3"
  },
  "kernelspec": {
   "display_name": "Python 3.9.12 ('gmdsitut')",
   "language": "python",
   "name": "python3"
  },
  "language_info": {
   "codemirror_mode": {
    "name": "ipython",
    "version": 3
   },
   "file_extension": ".py",
   "mimetype": "text/x-python",
   "name": "python",
   "nbconvert_exporter": "python",
   "pygments_lexer": "ipython3",
   "version": "3.9.12"
  }
 },
 "nbformat": 4,
 "nbformat_minor": 5
}
