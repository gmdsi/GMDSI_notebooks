{
 "cells": [
  {
   "cell_type": "markdown",
   "metadata": {},
   "source": [
    "# Setup the PEST(++) interface around the modified Freyberg model\n",
    "\n",
    "In this notebook, we will construct a complex model independent (non-intrusive) interface around an existing `MODFLOW6` model using `pyEMU`. We assume that the reader is at least partially familiar with PEST(++) file formats and working philosophy. \n",
    "\n",
    "The modified Freyberg groundwater flow model has been constructed and is described in a previous notebook from this series. We will construct the entire PEST(++) interface from scratch here. This setup will be built upon in subsequent tutorials. \n",
    "\n",
    "We will rely heavily on the `pyemu.PstFrom` class. Although here we employ it with a `MODFLOW6` model, `PstFrom` is designed to be general and software independent (mostly). Some features are only available for `MODFLOW` models (e.g. `SpatialReference`).\n",
    "\n",
    "The `PstFrom` class automates the construction of high-dimensional PEST(++) interfaces with all the bells and whistles. It provides easy-to-use functions to process model input and output files into PEST(++) datasets. It can assist with setting up spatio-temporaly varying parameters. It handles the generation of geostatisical prior covariance matrices and ensembles. It automates writting a \"model run\" script. It provides tools to add custom pre- and post-processing functions to this script. It makes adding tweaks and fixes to the PEST(++) interface a breeze. All of this from the comfort of your favourite Python IDE.\n",
    "\n",
    "During this tutorial we are going to construct a PEST dataset. Amongst other things, we will demonstrate:\n",
    " - how to add observations & parameters from model output & input files;\n",
    " - how to add pre- and post-processing functions to the \"model run\" script;\n",
    " - how to generate geostatistical structures for spatialy and temporally correlated parameters;\n",
    " - how to edit parameter/observation data sections;\n",
    " - how to generate a prior parameter covariance matrix and prior parameter ensemble;\n",
    "\n",
    "\n",
    "\n",
    "First, let's get our model files and sort out some admin.\n"
   ]
  },
  {
   "cell_type": "markdown",
   "metadata": {},
   "source": [
    "### 1. Admin & Organize Folders\n",
    "First some admin. Load the dependencies and organize model folders. "
   ]
  },
  {
   "cell_type": "code",
   "execution_count": 1,
   "metadata": {
    "execution": {
     "iopub.execute_input": "2022-03-17T02:11:03.702675Z",
     "iopub.status.busy": "2022-03-17T02:11:03.702675Z",
     "iopub.status.idle": "2022-03-17T02:11:04.766229Z",
     "shell.execute_reply": "2022-03-17T02:11:04.767224Z"
    }
   },
   "outputs": [],
   "source": [
    "import sys\n",
    "import os\n",
    "import shutil\n",
    "import platform\n",
    "import warnings\n",
    "warnings.filterwarnings(\"ignore\")\n",
    "warnings.filterwarnings(\"ignore\", category=DeprecationWarning) \n",
    "import pyemu\n",
    "import flopy\n",
    "import pandas as pd\n",
    "import numpy as np\n",
    "import matplotlib.pyplot as plt;"
   ]
  },
  {
   "cell_type": "markdown",
   "metadata": {},
   "source": [
    "We will be calling a few external programs throughout this tutorial. Namely, MODFLOW 6 and PEST++GLM. For the purposes of the tutorial(s), we have included executables in the tutorial repository. They are in the `bin` folder. \n",
    "\n",
    "Preferably, executables should be located in a folder that is cited in your computer’s PATH environment variable. Doing so allows you to run them from a command prompt open to any other folder without having to include the full path to these executables in the command to run them. \n",
    "\n",
    "Sometimes this may not be practical. In such cases, we can simply place the executables in the folder from which they will be executed.  So, let's copy the necessary executables into our working folder:\n"
   ]
  },
  {
   "cell_type": "code",
   "execution_count": 2,
   "metadata": {
    "execution": {
     "iopub.execute_input": "2022-03-17T02:11:04.770184Z",
     "iopub.status.busy": "2022-03-17T02:11:04.770184Z",
     "iopub.status.idle": "2022-03-17T02:11:05.005900Z",
     "shell.execute_reply": "2022-03-17T02:11:05.006896Z"
    }
   },
   "outputs": [],
   "source": [
    "# specify a temporary folder; we will gather all our model and executable files here first\n",
    "# this is to ensure we don't mess up our original model files\n",
    "tmp_d = os.path.join('freyberg_mf6')\n",
    "\n",
    "# get the necessary executables; OS agnostic\n",
    "bin_dir = os.path.join('..','..','bin')\n",
    "\n",
    "if \"window\" in platform.platform().lower():\n",
    "    exe_files = [f for f in os.listdir(bin_dir) if f.endswith('exe')]\n",
    "else:\n",
    "    exe_files = [f for f in os.listdir(bin_dir) if not f.endswith('exe')]\n",
    "\n",
    "# remove existing folder if it already exists\n",
    "if os.path.exists(tmp_d):\n",
    "    shutil.rmtree(tmp_d)\n",
    "\n",
    "# make the folder\n",
    "os.mkdir(tmp_d)\n",
    "\n",
    "# copy executables across\n",
    "for exe_file in exe_files:\n",
    "    shutil.copy2(os.path.join(bin_dir, exe_file),os.path.join(tmp_d,exe_file))"
   ]
  },
  {
   "cell_type": "markdown",
   "metadata": {},
   "source": [
    "Let's copy the original model folder into a new working directory, just to ensure we don't mess up the base files."
   ]
  },
  {
   "cell_type": "code",
   "execution_count": 3,
   "metadata": {
    "execution": {
     "iopub.execute_input": "2022-03-17T02:11:05.010884Z",
     "iopub.status.busy": "2022-03-17T02:11:05.009887Z",
     "iopub.status.idle": "2022-03-17T02:11:05.165807Z",
     "shell.execute_reply": "2022-03-17T02:11:05.164810Z"
    }
   },
   "outputs": [],
   "source": [
    "# folder containing original model files\n",
    "org_d = os.path.join('..', '..', 'models', 'freyberg_mf6')\n",
    "\n",
    "# copy files across to the temp folder\n",
    "for f in os.listdir(org_d):\n",
    "    shutil.copy2(os.path.join(org_d,f), os.path.join(tmp_d,f))"
   ]
  },
  {
   "cell_type": "markdown",
   "metadata": {},
   "source": [
    "If you inspect the model folder, you will see that all the `MODFLOW6` model files have been written \"externally\". This is key for working with the `PstFrom` class (or with PEST(++) in general, really). Essentialy, all pertinent model inputs have been written as independent files in either array or list format. This makes it easier for us to programiatically access and re-write the values in these files.\n",
    "\n",
    "Array files contain a data type (usually floating points). List files will have a few columns that contain index information and then columns of floating point values (they have a tabular format; think `.csv` files or DataFrames). The `PstFrom` class provides methods for processing these file types into a PEST(++) dataset. \n",
    "\n"
   ]
  },
  {
   "cell_type": "code",
   "execution_count": 4,
   "metadata": {
    "execution": {
     "iopub.execute_input": "2022-03-17T02:11:05.168799Z",
     "iopub.status.busy": "2022-03-17T02:11:05.168799Z",
     "iopub.status.idle": "2022-03-17T02:11:05.177775Z",
     "shell.execute_reply": "2022-03-17T02:11:05.177775Z"
    }
   },
   "outputs": [
    {
     "data": {
      "text/plain": [
       "['freyberg6.dis',\n",
       " 'freyberg6.dis.grb',\n",
       " 'freyberg6.dis_botm_layer1.txt',\n",
       " 'freyberg6.dis_botm_layer2.txt',\n",
       " 'freyberg6.dis_botm_layer3.txt',\n",
       " 'freyberg6.dis_delc.txt',\n",
       " 'freyberg6.dis_delr.txt',\n",
       " 'freyberg6.dis_idomain_layer1.txt',\n",
       " 'freyberg6.dis_idomain_layer2.txt',\n",
       " 'freyberg6.dis_idomain_layer3.txt',\n",
       " 'freyberg6.dis_top.txt',\n",
       " 'freyberg6.ghb',\n",
       " 'freyberg6.ghb_stress_period_data_1.txt',\n",
       " 'freyberg6.ic',\n",
       " 'freyberg6.ic_strt_layer1.txt',\n",
       " 'freyberg6.ic_strt_layer2.txt',\n",
       " 'freyberg6.ic_strt_layer3.txt',\n",
       " 'freyberg6.ims',\n",
       " 'freyberg6.lst',\n",
       " 'freyberg6.nam',\n",
       " 'freyberg6.npf',\n",
       " 'freyberg6.npf_icelltype_layer1.txt',\n",
       " 'freyberg6.npf_icelltype_layer2.txt',\n",
       " 'freyberg6.npf_icelltype_layer3.txt',\n",
       " 'freyberg6.npf_k33_layer1.txt',\n",
       " 'freyberg6.npf_k33_layer2.txt',\n",
       " 'freyberg6.npf_k33_layer3.txt',\n",
       " 'freyberg6.npf_k_layer1.txt',\n",
       " 'freyberg6.npf_k_layer2.txt',\n",
       " 'freyberg6.npf_k_layer3.txt',\n",
       " 'freyberg6.oc',\n",
       " 'freyberg6.rch',\n",
       " 'freyberg6.rch_recharge_1.txt',\n",
       " 'freyberg6.rch_recharge_10.txt',\n",
       " 'freyberg6.rch_recharge_11.txt',\n",
       " 'freyberg6.rch_recharge_12.txt',\n",
       " 'freyberg6.rch_recharge_13.txt',\n",
       " 'freyberg6.rch_recharge_14.txt',\n",
       " 'freyberg6.rch_recharge_15.txt',\n",
       " 'freyberg6.rch_recharge_16.txt',\n",
       " 'freyberg6.rch_recharge_17.txt',\n",
       " 'freyberg6.rch_recharge_18.txt',\n",
       " 'freyberg6.rch_recharge_19.txt',\n",
       " 'freyberg6.rch_recharge_2.txt',\n",
       " 'freyberg6.rch_recharge_20.txt',\n",
       " 'freyberg6.rch_recharge_21.txt',\n",
       " 'freyberg6.rch_recharge_22.txt',\n",
       " 'freyberg6.rch_recharge_23.txt',\n",
       " 'freyberg6.rch_recharge_24.txt',\n",
       " 'freyberg6.rch_recharge_25.txt',\n",
       " 'freyberg6.rch_recharge_3.txt',\n",
       " 'freyberg6.rch_recharge_4.txt',\n",
       " 'freyberg6.rch_recharge_5.txt',\n",
       " 'freyberg6.rch_recharge_6.txt',\n",
       " 'freyberg6.rch_recharge_7.txt',\n",
       " 'freyberg6.rch_recharge_8.txt',\n",
       " 'freyberg6.rch_recharge_9.txt',\n",
       " 'freyberg6.sfr',\n",
       " 'freyberg6.sfr_connectiondata.txt',\n",
       " 'freyberg6.sfr_packagedata.txt',\n",
       " 'freyberg6.sfr_perioddata_1.txt',\n",
       " 'freyberg6.sfr_perioddata_10.txt',\n",
       " 'freyberg6.sfr_perioddata_11.txt',\n",
       " 'freyberg6.sfr_perioddata_12.txt',\n",
       " 'freyberg6.sfr_perioddata_13.txt',\n",
       " 'freyberg6.sfr_perioddata_14.txt',\n",
       " 'freyberg6.sfr_perioddata_15.txt',\n",
       " 'freyberg6.sfr_perioddata_16.txt',\n",
       " 'freyberg6.sfr_perioddata_17.txt',\n",
       " 'freyberg6.sfr_perioddata_18.txt',\n",
       " 'freyberg6.sfr_perioddata_19.txt',\n",
       " 'freyberg6.sfr_perioddata_2.txt',\n",
       " 'freyberg6.sfr_perioddata_20.txt',\n",
       " 'freyberg6.sfr_perioddata_21.txt',\n",
       " 'freyberg6.sfr_perioddata_22.txt',\n",
       " 'freyberg6.sfr_perioddata_23.txt',\n",
       " 'freyberg6.sfr_perioddata_24.txt',\n",
       " 'freyberg6.sfr_perioddata_25.txt',\n",
       " 'freyberg6.sfr_perioddata_3.txt',\n",
       " 'freyberg6.sfr_perioddata_4.txt',\n",
       " 'freyberg6.sfr_perioddata_5.txt',\n",
       " 'freyberg6.sfr_perioddata_6.txt',\n",
       " 'freyberg6.sfr_perioddata_7.txt',\n",
       " 'freyberg6.sfr_perioddata_8.txt',\n",
       " 'freyberg6.sfr_perioddata_9.txt',\n",
       " 'freyberg6.sto',\n",
       " 'freyberg6.sto_iconvert_layer1.txt',\n",
       " 'freyberg6.sto_iconvert_layer2.txt',\n",
       " 'freyberg6.sto_iconvert_layer3.txt',\n",
       " 'freyberg6.sto_ss_layer1.txt',\n",
       " 'freyberg6.sto_ss_layer2.txt',\n",
       " 'freyberg6.sto_ss_layer3.txt',\n",
       " 'freyberg6.sto_sy_layer1.txt',\n",
       " 'freyberg6.sto_sy_layer2.txt',\n",
       " 'freyberg6.sto_sy_layer3.txt',\n",
       " 'freyberg6.tdis',\n",
       " 'freyberg6.wel',\n",
       " 'freyberg6.wel_stress_period_data_1.txt',\n",
       " 'freyberg6.wel_stress_period_data_10.txt',\n",
       " 'freyberg6.wel_stress_period_data_11.txt',\n",
       " 'freyberg6.wel_stress_period_data_12.txt',\n",
       " 'freyberg6.wel_stress_period_data_13.txt',\n",
       " 'freyberg6.wel_stress_period_data_14.txt',\n",
       " 'freyberg6.wel_stress_period_data_15.txt',\n",
       " 'freyberg6.wel_stress_period_data_16.txt',\n",
       " 'freyberg6.wel_stress_period_data_17.txt',\n",
       " 'freyberg6.wel_stress_period_data_18.txt',\n",
       " 'freyberg6.wel_stress_period_data_19.txt',\n",
       " 'freyberg6.wel_stress_period_data_2.txt',\n",
       " 'freyberg6.wel_stress_period_data_20.txt',\n",
       " 'freyberg6.wel_stress_period_data_21.txt',\n",
       " 'freyberg6.wel_stress_period_data_22.txt',\n",
       " 'freyberg6.wel_stress_period_data_23.txt',\n",
       " 'freyberg6.wel_stress_period_data_24.txt',\n",
       " 'freyberg6.wel_stress_period_data_25.txt',\n",
       " 'freyberg6.wel_stress_period_data_3.txt',\n",
       " 'freyberg6.wel_stress_period_data_4.txt',\n",
       " 'freyberg6.wel_stress_period_data_5.txt',\n",
       " 'freyberg6.wel_stress_period_data_6.txt',\n",
       " 'freyberg6.wel_stress_period_data_7.txt',\n",
       " 'freyberg6.wel_stress_period_data_8.txt',\n",
       " 'freyberg6.wel_stress_period_data_9.txt',\n",
       " 'freyberg6_freyberg.cbc',\n",
       " 'freyberg6_freyberg.hds',\n",
       " 'head.obs',\n",
       " 'heads.csv',\n",
       " 'mf5to6.exe',\n",
       " 'mf6.exe',\n",
       " 'mfsim.lst',\n",
       " 'mfsim.nam',\n",
       " 'pestpp-da.exe',\n",
       " 'pestpp-glm.exe',\n",
       " 'pestpp-ies.exe',\n",
       " 'pestpp-mou.exe',\n",
       " 'pestpp-opt.exe',\n",
       " 'pestpp-sen.exe',\n",
       " 'pestpp-sqp.exe',\n",
       " 'pestpp-swp.exe',\n",
       " 'sfr.csv',\n",
       " 'sfr.obs',\n",
       " 'zbud6.exe']"
      ]
     },
     "execution_count": 4,
     "metadata": {},
     "output_type": "execute_result"
    }
   ],
   "source": [
    "os.listdir(tmp_d)"
   ]
  },
  {
   "cell_type": "markdown",
   "metadata": {},
   "source": [
    "Now we need just a tiny bit of info about the spatial discretization of the model - this is needed to work out separation distances between parameters to build a geostatistical prior covariance matrix later.\n",
    "\n",
    "Here we will load the flopy sim and model instance just to help us define some quantities later - flopy is ***not required*** to use the `PstFrom` class. ***Neither is MODFLOW***. However, at the time of writting, support for `SpatialReference` to spatially locate parameters is limited to MODLOW models.\n",
    "\n",
    "Load the simulation. Run it once to make sure it works and to ***make sure that model output files are in the folder***. "
   ]
  },
  {
   "cell_type": "code",
   "execution_count": 5,
   "metadata": {
    "execution": {
     "iopub.execute_input": "2022-03-17T02:11:05.186752Z",
     "iopub.status.busy": "2022-03-17T02:11:05.185753Z",
     "iopub.status.idle": "2022-03-17T02:11:06.273948Z",
     "shell.execute_reply": "2022-03-17T02:11:06.273948Z"
    }
   },
   "outputs": [
    {
     "name": "stdout",
     "output_type": "stream",
     "text": [
      "loading simulation...\n",
      "  loading simulation name file...\n",
      "  loading tdis package...\n",
      "  loading model gwf6...\n",
      "    loading package dis...\n",
      "    loading package ic...\n",
      "    loading package npf...\n",
      "    loading package sto...\n",
      "    loading package oc...\n",
      "    loading package wel...\n",
      "    loading package rch...\n",
      "    loading package ghb...\n",
      "    loading package sfr...\n"
     ]
    },
    {
     "name": "stdout",
     "output_type": "stream",
     "text": [
      "    loading package obs...\n",
      "  loading ims package freyberg6...\n",
      "FloPy is using the following executable to run the model: C:\\Program Files\\MODFLOW\\mf6.exe\n",
      "                                   MODFLOW 6\n",
      "                U.S. GEOLOGICAL SURVEY MODULAR HYDROLOGIC MODEL\n",
      "                            VERSION 6.2.2 07/30/2021\n",
      "\n",
      "   MODFLOW 6 compiled Jul 31 2021 14:57:11 with IFORT compiler (ver. 20.21.2)\n",
      "\n",
      "This software has been approved for release by the U.S. Geological \n",
      "Survey (USGS). Although the software has been subjected to rigorous \n",
      "review, the USGS reserves the right to update the software as needed \n",
      "pursuant to further analysis and review. No warranty, expressed or \n",
      "implied, is made by the USGS or the U.S. Government as to the \n",
      "functionality of the software and related material nor shall the \n",
      "fact of release constitute any such warranty. Furthermore, the \n",
      "software is released on condition that neither the USGS nor the U.S. \n",
      "Government shall be held liable for any damages resulting from its \n",
      "authorized or unauthorized use. Also refer to the USGS Water \n",
      "Resources Software User Rights Notice for complete use, copyright, \n",
      "and distribution information.\n",
      "\n",
      " \n",
      " Run start date and time (yyyy/mm/dd hh:mm:ss): 2022/03/17 12:41:05\n",
      " \n",
      " Writing simulation list file: mfsim.lst\n",
      " Using Simulation name file: mfsim.nam\n",
      " \n",
      "    Solving:  Stress period:     1    Time step:     1\n"
     ]
    },
    {
     "name": "stdout",
     "output_type": "stream",
     "text": [
      "    Solving:  Stress period:     2    Time step:     1\n",
      "    Solving:  Stress period:     3    Time step:     1\n",
      "    Solving:  Stress period:     4    Time step:     1\n",
      "    Solving:  Stress period:     5    Time step:     1\n",
      "    Solving:  Stress period:     6    Time step:     1\n",
      "    Solving:  Stress period:     7    Time step:     1\n",
      "    Solving:  Stress period:     8    Time step:     1\n",
      "    Solving:  Stress period:     9    Time step:     1\n",
      "    Solving:  Stress period:    10    Time step:     1\n",
      "    Solving:  Stress period:    11    Time step:     1\n",
      "    Solving:  Stress period:    12    Time step:     1\n",
      "    Solving:  Stress period:    13    Time step:     1\n"
     ]
    },
    {
     "name": "stdout",
     "output_type": "stream",
     "text": [
      "    Solving:  Stress period:    14    Time step:     1\n",
      "    Solving:  Stress period:    15    Time step:     1\n",
      "    Solving:  Stress period:    16    Time step:     1\n",
      "    Solving:  Stress period:    17    Time step:     1\n",
      "    Solving:  Stress period:    18    Time step:     1\n",
      "    Solving:  Stress period:    19    Time step:     1\n",
      "    Solving:  Stress period:    20    Time step:     1\n",
      "    Solving:  Stress period:    21    Time step:     1\n",
      "    Solving:  Stress period:    22    Time step:     1\n",
      "    Solving:  Stress period:    23    Time step:     1\n",
      "    Solving:  Stress period:    24    Time step:     1\n",
      "    Solving:  Stress period:    25    Time step:     1\n"
     ]
    },
    {
     "name": "stdout",
     "output_type": "stream",
     "text": [
      " \n",
      " Run end date and time (yyyy/mm/dd hh:mm:ss): 2022/03/17 12:41:06\n",
      " Elapsed run time:  0.622 Seconds\n",
      " \n",
      " Normal termination of simulation.\n"
     ]
    },
    {
     "data": {
      "text/plain": [
       "(True, [])"
      ]
     },
     "execution_count": 5,
     "metadata": {},
     "output_type": "execute_result"
    }
   ],
   "source": [
    "# load simulation\n",
    "sim = flopy.mf6.MFSimulation.load(sim_ws=tmp_d)\n",
    "# load flow model\n",
    "gwf = sim.get_model()\n",
    "\n",
    "# run the model once to make sure it works\n",
    "sim.run_simulation()"
   ]
  },
  {
   "cell_type": "markdown",
   "metadata": {},
   "source": [
    "### 2. Spatial Reference\n",
    "Now we can instantiate a `SpatialReference`. This will later be passed to `PstFrom` to assist with spatially locating parameters (e.g. pilot points and/or cell-by-cell parameters)."
   ]
  },
  {
   "cell_type": "code",
   "execution_count": 6,
   "metadata": {
    "execution": {
     "iopub.execute_input": "2022-03-17T02:11:06.279900Z",
     "iopub.status.busy": "2022-03-17T02:11:06.278905Z",
     "iopub.status.idle": "2022-03-17T02:11:06.281894Z",
     "shell.execute_reply": "2022-03-17T02:11:06.281894Z"
    }
   },
   "outputs": [
    {
     "name": "stdout",
     "output_type": "stream",
     "text": [
      "   could not remove start_datetime\n"
     ]
    }
   ],
   "source": [
    "sr = pyemu.helpers.SpatialReference.from_namfile(\n",
    "        os.path.join(tmp_d, \"freyberg6.nam\"),\n",
    "        delr=gwf.dis.delr.array, delc=gwf.dis.delc.array)"
   ]
  },
  {
   "cell_type": "markdown",
   "metadata": {},
   "source": [
    "### 3. Instantiate PstFrom\n",
    "\n",
    "Now we can start to construct the PEST(++) interface by instantiating a `PstFrom` class instance. There are a few things that we need to specify up front:\n",
    "\n",
    " - the folder in which we currently have model files (e.g. `tmp_d`). PstFrom will copy all the files from this directory into a new \"template\" folder.\n",
    " - **template folder**: this is a folder in which the PEST dataset will be constructed. This folder/dataset will form the template for subsequent deployment of PEST(++). It is **not** where PEST(++) will be run.\n",
    " - **longnames**: for backwards compatibility with PEST and PEST_HP (i.e. non-PEST++ versions), which have upper limits to parameter/obsveration names (PEST++ does not). Setting this value to False is only recommended if required. \n",
    " - Whether the model is `zero based` or not.\n",
    " - (optional) the **spatial reference**, as previously discussed. This is only requried if using `pyEMU` to define parameter spatial correlation. Alternatively, you can define these yourself or use utilities available in the PEST-suite. \n",
    "\n"
   ]
  },
  {
   "cell_type": "code",
   "execution_count": 7,
   "metadata": {
    "execution": {
     "iopub.execute_input": "2022-03-17T02:11:06.289898Z",
     "iopub.status.busy": "2022-03-17T02:11:06.288876Z",
     "iopub.status.idle": "2022-03-17T02:11:07.093725Z",
     "shell.execute_reply": "2022-03-17T02:11:07.094721Z"
    }
   },
   "outputs": [
    {
     "name": "stdout",
     "output_type": "stream",
     "text": [
      "2022-03-17 12:41:06.287890 starting: opening PstFrom.log for logging\n",
      "2022-03-17 12:41:06.288876 starting PstFrom process\n",
      "2022-03-17 12:41:06.289898 starting: setting up dirs\n",
      "2022-03-17 12:41:06.289898 starting: copying original_d 'freyberg_mf6' to new_d 'freyberg6_template'\n"
     ]
    },
    {
     "name": "stdout",
     "output_type": "stream",
     "text": [
      "2022-03-17 12:41:07.088736 finished: copying original_d 'freyberg_mf6' to new_d 'freyberg6_template' took: 0:00:00.798838\n",
      "2022-03-17 12:41:07.089733 finished: setting up dirs took: 0:00:00.799835\n"
     ]
    }
   ],
   "source": [
    "# specify a template directory (i.e. the PstFrom working folder)\n",
    "template_ws = os.path.join(\"freyberg6_template\")\n",
    "\n",
    "# instantiate PstFrom\n",
    "pf = pyemu.utils.PstFrom(original_d=tmp_d, # where the model is stored\n",
    "                            new_d=template_ws, # the PEST template folder\n",
    "                            remove_existing=True, # ensures a clean start\n",
    "                            longnames=True, # set False if using PEST/PEST_HP\n",
    "                            spatial_reference=sr, #the spatial reference we generated earlier\n",
    "                            zero_based=False, # does the MODEL use zero based indices? For example, MODFLOW does NOT\n",
    "                            start_datetime=\"1-1-2018\") # required when specifying temporal correlation between parameters"
   ]
  },
  {
   "cell_type": "markdown",
   "metadata": {},
   "source": [
    "### 4. Observations\n",
    "\n",
    "We now have a `PstFrom` instance assigned to the variable `pf`. For now it is only an empty container to which we can start adding \"observations\", \"parameters\" and other bits and bobs.\n",
    "\n",
    "Lets start with observations because they are easier. `MODFLOW6` makes life even easier by recording observations in nicely organized .csv files. Isn't that a peach!\n",
    "\n",
    "#### 4.1 Freyberg Recap\n",
    "As you may recall from the \"*intro to Freyberg*\" tutorial, the model is configured to record time series of head at observation wells, and flux at three locations along the river. These are recorded in external .csv files named `heads.csv` and `sfr.csv`, respectively. You should be able to see these files in the model folder.\n",
    "\n",
    "Recall that each .csv houses records of observation time-series. Outputs are recorded for each simulated stress-period. The model starts with a single steady-state stress-period, followed by 24 monthly transient stress-periods. The steady-state and first 12 transient stress-periods simulate the history-matching period. The last 12 transient stress periods simulate future conditions (i.e. the prediction period)."
   ]
  },
  {
   "cell_type": "code",
   "execution_count": 8,
   "metadata": {
    "execution": {
     "iopub.execute_input": "2022-03-17T02:11:07.097714Z",
     "iopub.status.busy": "2022-03-17T02:11:07.097714Z",
     "iopub.status.idle": "2022-03-17T02:11:07.099707Z",
     "shell.execute_reply": "2022-03-17T02:11:07.099707Z"
    }
   },
   "outputs": [
    {
     "name": "stdout",
     "output_type": "stream",
     "text": [
      "['sfr.csv']\n",
      "['heads.csv']\n"
     ]
    }
   ],
   "source": [
    "# check the output csv file names\n",
    "for i in gwf.obs:\n",
    "    print(i.output.obs_names)"
   ]
  },
  {
   "cell_type": "markdown",
   "metadata": {},
   "source": [
    "Let's start with the 'heads.csv' file. First load it as a DataFrame to take a look.\n",
    "\n",
    "As you can see, there are many columns, one for each observation site. Conveniently, * *cough* * they are named according to the cell layer, row and column. Note that at every site, there is an observation in both the top and bottom layer (0_ and 2_). We will make use of this later to create \"secondary observations\" of head differences between layers...but let's not get distracted.\n",
    "\n",
    "The values in the *.csv* file were generated by running the model. (***IMPORTANT!***) However, `PstFrom` assumes that values in this file are the *target* observation values, and they will be used to populate the PEST(++) dataset. Now, you can change these values later on if you wish. However, it can get a bit messy. So you either need to populate model output files with the target values, or update values in the PEST(++) dataset later on. Which approach you adopt is up to personal preference and/or specifics of your modelling workflow. \n",
    "\n",
    "We will demonstrate both in this notebook."
   ]
  },
  {
   "cell_type": "code",
   "execution_count": 9,
   "metadata": {
    "execution": {
     "iopub.execute_input": "2022-03-17T02:11:07.103697Z",
     "iopub.status.busy": "2022-03-17T02:11:07.103697Z",
     "iopub.status.idle": "2022-03-17T02:11:07.130626Z",
     "shell.execute_reply": "2022-03-17T02:11:07.130626Z"
    }
   },
   "outputs": [
    {
     "data": {
      "text/html": [
       "<div>\n",
       "<style scoped>\n",
       "    .dataframe tbody tr th:only-of-type {\n",
       "        vertical-align: middle;\n",
       "    }\n",
       "\n",
       "    .dataframe tbody tr th {\n",
       "        vertical-align: top;\n",
       "    }\n",
       "\n",
       "    .dataframe thead th {\n",
       "        text-align: right;\n",
       "    }\n",
       "</style>\n",
       "<table border=\"1\" class=\"dataframe\">\n",
       "  <thead>\n",
       "    <tr style=\"text-align: right;\">\n",
       "      <th></th>\n",
       "      <th>TRGW_2_2_15</th>\n",
       "      <th>TRGW_2_2_9</th>\n",
       "      <th>TRGW_2_3_8</th>\n",
       "      <th>TRGW_2_9_1</th>\n",
       "      <th>TRGW_2_13_10</th>\n",
       "      <th>TRGW_2_15_16</th>\n",
       "      <th>TRGW_2_21_10</th>\n",
       "      <th>TRGW_2_22_15</th>\n",
       "      <th>TRGW_2_24_4</th>\n",
       "      <th>TRGW_2_26_6</th>\n",
       "      <th>...</th>\n",
       "      <th>TRGW_0_9_1</th>\n",
       "      <th>TRGW_0_13_10</th>\n",
       "      <th>TRGW_0_15_16</th>\n",
       "      <th>TRGW_0_21_10</th>\n",
       "      <th>TRGW_0_22_15</th>\n",
       "      <th>TRGW_0_24_4</th>\n",
       "      <th>TRGW_0_26_6</th>\n",
       "      <th>TRGW_0_29_15</th>\n",
       "      <th>TRGW_0_33_7</th>\n",
       "      <th>TRGW_0_34_10</th>\n",
       "    </tr>\n",
       "    <tr>\n",
       "      <th>time</th>\n",
       "      <th></th>\n",
       "      <th></th>\n",
       "      <th></th>\n",
       "      <th></th>\n",
       "      <th></th>\n",
       "      <th></th>\n",
       "      <th></th>\n",
       "      <th></th>\n",
       "      <th></th>\n",
       "      <th></th>\n",
       "      <th></th>\n",
       "      <th></th>\n",
       "      <th></th>\n",
       "      <th></th>\n",
       "      <th></th>\n",
       "      <th></th>\n",
       "      <th></th>\n",
       "      <th></th>\n",
       "      <th></th>\n",
       "      <th></th>\n",
       "      <th></th>\n",
       "    </tr>\n",
       "  </thead>\n",
       "  <tbody>\n",
       "    <tr>\n",
       "      <th>1.0</th>\n",
       "      <td>34.339320</td>\n",
       "      <td>34.581597</td>\n",
       "      <td>34.611207</td>\n",
       "      <td>34.872171</td>\n",
       "      <td>34.257574</td>\n",
       "      <td>34.136387</td>\n",
       "      <td>34.144465</td>\n",
       "      <td>34.027679</td>\n",
       "      <td>34.310857</td>\n",
       "      <td>34.171589</td>\n",
       "      <td>...</td>\n",
       "      <td>34.878082</td>\n",
       "      <td>34.263187</td>\n",
       "      <td>34.141599</td>\n",
       "      <td>34.150067</td>\n",
       "      <td>33.992380</td>\n",
       "      <td>34.316575</td>\n",
       "      <td>34.177206</td>\n",
       "      <td>33.909874</td>\n",
       "      <td>33.985755</td>\n",
       "      <td>33.890192</td>\n",
       "    </tr>\n",
       "    <tr>\n",
       "      <th>32.0</th>\n",
       "      <td>34.422684</td>\n",
       "      <td>34.680896</td>\n",
       "      <td>34.712058</td>\n",
       "      <td>34.973141</td>\n",
       "      <td>34.381609</td>\n",
       "      <td>34.245718</td>\n",
       "      <td>34.272721</td>\n",
       "      <td>34.138233</td>\n",
       "      <td>34.437640</td>\n",
       "      <td>34.313791</td>\n",
       "      <td>...</td>\n",
       "      <td>34.978998</td>\n",
       "      <td>34.386488</td>\n",
       "      <td>34.250497</td>\n",
       "      <td>34.277455</td>\n",
       "      <td>34.087585</td>\n",
       "      <td>34.442526</td>\n",
       "      <td>34.318135</td>\n",
       "      <td>33.992787</td>\n",
       "      <td>34.102892</td>\n",
       "      <td>34.005675</td>\n",
       "    </tr>\n",
       "    <tr>\n",
       "      <th>61.0</th>\n",
       "      <td>34.496186</td>\n",
       "      <td>34.778508</td>\n",
       "      <td>34.812111</td>\n",
       "      <td>35.083708</td>\n",
       "      <td>34.481942</td>\n",
       "      <td>34.330460</td>\n",
       "      <td>34.376598</td>\n",
       "      <td>34.219319</td>\n",
       "      <td>34.555036</td>\n",
       "      <td>34.427653</td>\n",
       "      <td>...</td>\n",
       "      <td>35.089608</td>\n",
       "      <td>34.487850</td>\n",
       "      <td>34.336217</td>\n",
       "      <td>34.382375</td>\n",
       "      <td>34.158109</td>\n",
       "      <td>34.560492</td>\n",
       "      <td>34.433115</td>\n",
       "      <td>34.058266</td>\n",
       "      <td>34.196067</td>\n",
       "      <td>34.086361</td>\n",
       "    </tr>\n",
       "    <tr>\n",
       "      <th>92.0</th>\n",
       "      <td>34.541607</td>\n",
       "      <td>34.848735</td>\n",
       "      <td>34.885189</td>\n",
       "      <td>35.178103</td>\n",
       "      <td>34.536194</td>\n",
       "      <td>34.372437</td>\n",
       "      <td>34.431944</td>\n",
       "      <td>34.257802</td>\n",
       "      <td>34.631805</td>\n",
       "      <td>34.490964</td>\n",
       "      <td>...</td>\n",
       "      <td>35.184255</td>\n",
       "      <td>34.543248</td>\n",
       "      <td>34.379139</td>\n",
       "      <td>34.438943</td>\n",
       "      <td>34.191730</td>\n",
       "      <td>34.638273</td>\n",
       "      <td>34.497733</td>\n",
       "      <td>34.090937</td>\n",
       "      <td>34.244095</td>\n",
       "      <td>34.121186</td>\n",
       "    </tr>\n",
       "    <tr>\n",
       "      <th>122.0</th>\n",
       "      <td>34.538213</td>\n",
       "      <td>34.859840</td>\n",
       "      <td>34.898354</td>\n",
       "      <td>35.214761</td>\n",
       "      <td>34.520171</td>\n",
       "      <td>34.353363</td>\n",
       "      <td>34.414553</td>\n",
       "      <td>34.236799</td>\n",
       "      <td>34.634051</td>\n",
       "      <td>34.476152</td>\n",
       "      <td>...</td>\n",
       "      <td>35.221267</td>\n",
       "      <td>34.528011</td>\n",
       "      <td>34.360599</td>\n",
       "      <td>34.422425</td>\n",
       "      <td>34.173799</td>\n",
       "      <td>34.641451</td>\n",
       "      <td>34.483960</td>\n",
       "      <td>34.076498</td>\n",
       "      <td>34.226023</td>\n",
       "      <td>34.095425</td>\n",
       "    </tr>\n",
       "  </tbody>\n",
       "</table>\n",
       "<p>5 rows × 26 columns</p>\n",
       "</div>"
      ],
      "text/plain": [
       "       TRGW_2_2_15  TRGW_2_2_9  TRGW_2_3_8  TRGW_2_9_1  TRGW_2_13_10  \\\n",
       "time                                                                   \n",
       "1.0      34.339320   34.581597   34.611207   34.872171     34.257574   \n",
       "32.0     34.422684   34.680896   34.712058   34.973141     34.381609   \n",
       "61.0     34.496186   34.778508   34.812111   35.083708     34.481942   \n",
       "92.0     34.541607   34.848735   34.885189   35.178103     34.536194   \n",
       "122.0    34.538213   34.859840   34.898354   35.214761     34.520171   \n",
       "\n",
       "       TRGW_2_15_16  TRGW_2_21_10  TRGW_2_22_15  TRGW_2_24_4  TRGW_2_26_6  \\\n",
       "time                                                                        \n",
       "1.0       34.136387     34.144465     34.027679    34.310857    34.171589   \n",
       "32.0      34.245718     34.272721     34.138233    34.437640    34.313791   \n",
       "61.0      34.330460     34.376598     34.219319    34.555036    34.427653   \n",
       "92.0      34.372437     34.431944     34.257802    34.631805    34.490964   \n",
       "122.0     34.353363     34.414553     34.236799    34.634051    34.476152   \n",
       "\n",
       "       ...  TRGW_0_9_1  TRGW_0_13_10  TRGW_0_15_16  TRGW_0_21_10  \\\n",
       "time   ...                                                         \n",
       "1.0    ...   34.878082     34.263187     34.141599     34.150067   \n",
       "32.0   ...   34.978998     34.386488     34.250497     34.277455   \n",
       "61.0   ...   35.089608     34.487850     34.336217     34.382375   \n",
       "92.0   ...   35.184255     34.543248     34.379139     34.438943   \n",
       "122.0  ...   35.221267     34.528011     34.360599     34.422425   \n",
       "\n",
       "       TRGW_0_22_15  TRGW_0_24_4  TRGW_0_26_6  TRGW_0_29_15  TRGW_0_33_7  \\\n",
       "time                                                                       \n",
       "1.0       33.992380    34.316575    34.177206     33.909874    33.985755   \n",
       "32.0      34.087585    34.442526    34.318135     33.992787    34.102892   \n",
       "61.0      34.158109    34.560492    34.433115     34.058266    34.196067   \n",
       "92.0      34.191730    34.638273    34.497733     34.090937    34.244095   \n",
       "122.0     34.173799    34.641451    34.483960     34.076498    34.226023   \n",
       "\n",
       "       TRGW_0_34_10  \n",
       "time                 \n",
       "1.0       33.890192  \n",
       "32.0      34.005675  \n",
       "61.0      34.086361  \n",
       "92.0      34.121186  \n",
       "122.0     34.095425  \n",
       "\n",
       "[5 rows x 26 columns]"
      ]
     },
     "execution_count": 9,
     "metadata": {},
     "output_type": "execute_result"
    }
   ],
   "source": [
    "df = pd.read_csv(os.path.join(template_ws,\"heads.csv\"),index_col=0)\n",
    "df.head()"
   ]
  },
  {
   "cell_type": "markdown",
   "metadata": {},
   "source": [
    "#### 4.2 Prepare Observation Files\n",
    "\n",
    "We will start by populating our \"model output\" file with measured values. For this synthetic case, we conveniently have observations for all model output times and sites. (These \"measured\" values were generated using the same model with a randomly generated set of parameters; noise was added to all observations.)\n",
    "\n",
    "In the next cell we read a .csv that contains measured obsevration values. As it has the exact same structure as our model output file, we can simpy replace the values in the model output file (and re-write it!). In real-world cases this step will likley be a bit more involved."
   ]
  },
  {
   "cell_type": "code",
   "execution_count": 10,
   "metadata": {
    "execution": {
     "iopub.execute_input": "2022-03-17T02:11:07.134615Z",
     "iopub.status.busy": "2022-03-17T02:11:07.134615Z",
     "iopub.status.idle": "2022-03-17T02:11:07.142594Z",
     "shell.execute_reply": "2022-03-17T02:11:07.143591Z"
    }
   },
   "outputs": [],
   "source": [
    "# read the measured head values\n",
    "hds_meas = pd.read_csv(os.path.join('..', '..', 'models', 'freyberg_mf6_truth',\"heads.meas.csv\"),\n",
    "                    index_col=0)\n",
    "\n",
    "# re-write the model output .csv file with the measured values\n",
    "hds_meas.to_csv(os.path.join(template_ws,\"heads.csv\"))"
   ]
  },
  {
   "cell_type": "markdown",
   "metadata": {},
   "source": [
    "#### 4.2. Adding Observations\n",
    "\n",
    "Now that our model output file contains the \"target values\", we can use the `PstFrom.add_observations()` method to add observations to our `pf` object. This method reads ***list-type*** files. The assumption is that these files are organized in a tabular format. \n",
    "\n",
    "We are going to tell `pf` which columns of this file contain observations. Values in these columns will be assigned to *observation values*.\n",
    "\n",
    "We can also inform it if there is an index column. Values in this column will be included in the *observation names*. \n",
    "\n",
    "We could also specify which rows to include as observations. But observations are free...so why not keep them all! \n",
    "\n",
    "Let's add observations from `heads.csv`. The first column of this file records the time at which the value is simulated. Let's use that as the index column (this becomes useful later on to post-process results). We want all other columns as observation values.\n"
   ]
  },
  {
   "cell_type": "code",
   "execution_count": 11,
   "metadata": {
    "execution": {
     "iopub.execute_input": "2022-03-17T02:11:07.146584Z",
     "iopub.status.busy": "2022-03-17T02:11:07.146584Z",
     "iopub.status.idle": "2022-03-17T02:11:07.184498Z",
     "shell.execute_reply": "2022-03-17T02:11:07.184498Z"
    }
   },
   "outputs": [
    {
     "name": "stdout",
     "output_type": "stream",
     "text": [
      "2022-03-17 12:41:07.145617 starting: adding observations from output file heads.csv\n",
      "2022-03-17 12:41:07.145617 starting: adding observations from tabular output file '['heads.csv']'\n",
      "2022-03-17 12:41:07.146584 starting: reading list-style file: freyberg6_template\\heads.csv\n",
      "2022-03-17 12:41:07.152601 finished: reading list-style file: freyberg6_template\\heads.csv took: 0:00:00.006017\n",
      "2022-03-17 12:41:07.153601 starting: building insfile for tabular output file heads.csv\n",
      "2022-03-17 12:41:07.162572 finished: building insfile for tabular output file heads.csv took: 0:00:00.008971\n",
      "2022-03-17 12:41:07.162572 starting: adding observation from instruction file 'freyberg6_template\\heads.csv.ins'\n",
      "2022-03-17 12:41:07.180526 finished: adding observation from instruction file 'freyberg6_template\\heads.csv.ins' took: 0:00:00.017954\n",
      "2022-03-17 12:41:07.181489 finished: adding observations from tabular output file '['heads.csv']' took: 0:00:00.035872\n"
     ]
    }
   ],
   "source": [
    "hds_df = pf.add_observations(\"heads.csv\", # the model output file to read\n",
    "                            insfile=\"heads.csv.ins\", #optional, the instruction file name\n",
    "                            index_cols=\"time\", #column header to use as index; can also use column number (zero-based) instead of the header name\n",
    "                            use_cols=list(df.columns.values), #names of columns that include observation values; can also use column number (zero-based) instead of the header name\n",
    "                            prefix=\"hds\") #prefix to all observation names; choose something logical and easy o find. We use it later on to select obsevrations"
   ]
  },
  {
   "cell_type": "markdown",
   "metadata": {},
   "source": [
    "Let's inspect what we just created. \n",
    "\n",
    "We can see that the `.add_observations()` method returned a dataframe with lots of useful info: \n",
    "\n",
    " - the observation names that were formed (see `obsnme` column); note that these inlcude lots of usefull metadata like the column name, index value and so on;\n",
    " - the values that were read from `heads.csv` (see `obsval` column); \n",
    " - some generic weights and group names; note that observations are grouped according to the column of the model output .csv. Alternatively, we could have specified a list of observation group names."
   ]
  },
  {
   "cell_type": "code",
   "execution_count": 12,
   "metadata": {
    "execution": {
     "iopub.execute_input": "2022-03-17T02:11:07.192460Z",
     "iopub.status.busy": "2022-03-17T02:11:07.192460Z",
     "iopub.status.idle": "2022-03-17T02:11:07.194455Z",
     "shell.execute_reply": "2022-03-17T02:11:07.194455Z"
    }
   },
   "outputs": [
    {
     "data": {
      "text/html": [
       "<div>\n",
       "<style scoped>\n",
       "    .dataframe tbody tr th:only-of-type {\n",
       "        vertical-align: middle;\n",
       "    }\n",
       "\n",
       "    .dataframe tbody tr th {\n",
       "        vertical-align: top;\n",
       "    }\n",
       "\n",
       "    .dataframe thead th {\n",
       "        text-align: right;\n",
       "    }\n",
       "</style>\n",
       "<table border=\"1\" class=\"dataframe\">\n",
       "  <thead>\n",
       "    <tr style=\"text-align: right;\">\n",
       "      <th></th>\n",
       "      <th>obsnme</th>\n",
       "      <th>obsval</th>\n",
       "      <th>weight</th>\n",
       "      <th>obgnme</th>\n",
       "    </tr>\n",
       "  </thead>\n",
       "  <tbody>\n",
       "    <tr>\n",
       "      <th>oname:hds_otype:lst_usecol:trgw_0_13_10_time:1.0</th>\n",
       "      <td>oname:hds_otype:lst_usecol:trgw_0_13_10_time:1.0</td>\n",
       "      <td>34.406181</td>\n",
       "      <td>1.0</td>\n",
       "      <td>oname:hds_otype:lst_usecol:trgw_0_13_10</td>\n",
       "    </tr>\n",
       "    <tr>\n",
       "      <th>oname:hds_otype:lst_usecol:trgw_0_13_10_time:122.0</th>\n",
       "      <td>oname:hds_otype:lst_usecol:trgw_0_13_10_time:122.0</td>\n",
       "      <td>34.450661</td>\n",
       "      <td>1.0</td>\n",
       "      <td>oname:hds_otype:lst_usecol:trgw_0_13_10</td>\n",
       "    </tr>\n",
       "    <tr>\n",
       "      <th>oname:hds_otype:lst_usecol:trgw_0_13_10_time:153.0</th>\n",
       "      <td>oname:hds_otype:lst_usecol:trgw_0_13_10_time:153.0</td>\n",
       "      <td>34.441799</td>\n",
       "      <td>1.0</td>\n",
       "      <td>oname:hds_otype:lst_usecol:trgw_0_13_10</td>\n",
       "    </tr>\n",
       "    <tr>\n",
       "      <th>oname:hds_otype:lst_usecol:trgw_0_13_10_time:183.0</th>\n",
       "      <td>oname:hds_otype:lst_usecol:trgw_0_13_10_time:183.0</td>\n",
       "      <td>34.375622</td>\n",
       "      <td>1.0</td>\n",
       "      <td>oname:hds_otype:lst_usecol:trgw_0_13_10</td>\n",
       "    </tr>\n",
       "    <tr>\n",
       "      <th>oname:hds_otype:lst_usecol:trgw_0_13_10_time:214.0</th>\n",
       "      <td>oname:hds_otype:lst_usecol:trgw_0_13_10_time:214.0</td>\n",
       "      <td>34.323056</td>\n",
       "      <td>1.0</td>\n",
       "      <td>oname:hds_otype:lst_usecol:trgw_0_13_10</td>\n",
       "    </tr>\n",
       "  </tbody>\n",
       "</table>\n",
       "</div>"
      ],
      "text/plain": [
       "                                                                                                obsnme  \\\n",
       "oname:hds_otype:lst_usecol:trgw_0_13_10_time:1.0      oname:hds_otype:lst_usecol:trgw_0_13_10_time:1.0   \n",
       "oname:hds_otype:lst_usecol:trgw_0_13_10_time:122.0  oname:hds_otype:lst_usecol:trgw_0_13_10_time:122.0   \n",
       "oname:hds_otype:lst_usecol:trgw_0_13_10_time:153.0  oname:hds_otype:lst_usecol:trgw_0_13_10_time:153.0   \n",
       "oname:hds_otype:lst_usecol:trgw_0_13_10_time:183.0  oname:hds_otype:lst_usecol:trgw_0_13_10_time:183.0   \n",
       "oname:hds_otype:lst_usecol:trgw_0_13_10_time:214.0  oname:hds_otype:lst_usecol:trgw_0_13_10_time:214.0   \n",
       "\n",
       "                                                       obsval  weight  \\\n",
       "oname:hds_otype:lst_usecol:trgw_0_13_10_time:1.0    34.406181     1.0   \n",
       "oname:hds_otype:lst_usecol:trgw_0_13_10_time:122.0  34.450661     1.0   \n",
       "oname:hds_otype:lst_usecol:trgw_0_13_10_time:153.0  34.441799     1.0   \n",
       "oname:hds_otype:lst_usecol:trgw_0_13_10_time:183.0  34.375622     1.0   \n",
       "oname:hds_otype:lst_usecol:trgw_0_13_10_time:214.0  34.323056     1.0   \n",
       "\n",
       "                                                                                     obgnme  \n",
       "oname:hds_otype:lst_usecol:trgw_0_13_10_time:1.0    oname:hds_otype:lst_usecol:trgw_0_13_10  \n",
       "oname:hds_otype:lst_usecol:trgw_0_13_10_time:122.0  oname:hds_otype:lst_usecol:trgw_0_13_10  \n",
       "oname:hds_otype:lst_usecol:trgw_0_13_10_time:153.0  oname:hds_otype:lst_usecol:trgw_0_13_10  \n",
       "oname:hds_otype:lst_usecol:trgw_0_13_10_time:183.0  oname:hds_otype:lst_usecol:trgw_0_13_10  \n",
       "oname:hds_otype:lst_usecol:trgw_0_13_10_time:214.0  oname:hds_otype:lst_usecol:trgw_0_13_10  "
      ]
     },
     "execution_count": 12,
     "metadata": {},
     "output_type": "execute_result"
    }
   ],
   "source": [
    "hds_df.head()"
   ]
  },
  {
   "cell_type": "markdown",
   "metadata": {},
   "source": [
    "At this point, no PEST *control file* has been created, we have simply prepared to add these observations to the control file later. Everything is still only stored in memory. However, a PEST *instruction* file has been created in the template folder (`template_ws`):"
   ]
  },
  {
   "cell_type": "code",
   "execution_count": 13,
   "metadata": {
    "execution": {
     "iopub.execute_input": "2022-03-17T02:11:07.198469Z",
     "iopub.status.busy": "2022-03-17T02:11:07.197447Z",
     "iopub.status.idle": "2022-03-17T02:11:07.204428Z",
     "shell.execute_reply": "2022-03-17T02:11:07.204428Z"
    }
   },
   "outputs": [
    {
     "data": {
      "text/plain": [
       "['heads.csv.ins']"
      ]
     },
     "execution_count": 13,
     "metadata": {},
     "output_type": "execute_result"
    }
   ],
   "source": [
    "[f for f in os.listdir(template_ws) if f.endswith(\".ins\")]"
   ]
  },
  {
   "cell_type": "markdown",
   "metadata": {},
   "source": [
    "Blimey, wasn't that easy? Automatically assimilating thousands of observations into a PEST dataset becomes a breeze!\n",
    "\n",
    "Let's quickly do the same thing for the SFR observations."
   ]
  },
  {
   "cell_type": "code",
   "execution_count": 14,
   "metadata": {
    "execution": {
     "iopub.execute_input": "2022-03-17T02:11:07.208418Z",
     "iopub.status.busy": "2022-03-17T02:11:07.208418Z",
     "iopub.status.idle": "2022-03-17T02:11:07.218391Z",
     "shell.execute_reply": "2022-03-17T02:11:07.218391Z"
    }
   },
   "outputs": [
    {
     "data": {
      "text/html": [
       "<div>\n",
       "<style scoped>\n",
       "    .dataframe tbody tr th:only-of-type {\n",
       "        vertical-align: middle;\n",
       "    }\n",
       "\n",
       "    .dataframe tbody tr th {\n",
       "        vertical-align: top;\n",
       "    }\n",
       "\n",
       "    .dataframe thead th {\n",
       "        text-align: right;\n",
       "    }\n",
       "</style>\n",
       "<table border=\"1\" class=\"dataframe\">\n",
       "  <thead>\n",
       "    <tr style=\"text-align: right;\">\n",
       "      <th></th>\n",
       "      <th>HEADWATER</th>\n",
       "      <th>TAILWATER</th>\n",
       "      <th>GAGE_1</th>\n",
       "    </tr>\n",
       "    <tr>\n",
       "      <th>time</th>\n",
       "      <th></th>\n",
       "      <th></th>\n",
       "      <th></th>\n",
       "    </tr>\n",
       "  </thead>\n",
       "  <tbody>\n",
       "    <tr>\n",
       "      <th>1.0</th>\n",
       "      <td>-644.10</td>\n",
       "      <td>-477.76</td>\n",
       "      <td>1205.3</td>\n",
       "    </tr>\n",
       "    <tr>\n",
       "      <th>32.0</th>\n",
       "      <td>-865.29</td>\n",
       "      <td>-638.26</td>\n",
       "      <td>1636.6</td>\n",
       "    </tr>\n",
       "    <tr>\n",
       "      <th>61.0</th>\n",
       "      <td>-1034.00</td>\n",
       "      <td>-764.91</td>\n",
       "      <td>1938.5</td>\n",
       "    </tr>\n",
       "    <tr>\n",
       "      <th>92.0</th>\n",
       "      <td>-1118.70</td>\n",
       "      <td>-825.49</td>\n",
       "      <td>2073.6</td>\n",
       "    </tr>\n",
       "    <tr>\n",
       "      <th>122.0</th>\n",
       "      <td>-1083.00</td>\n",
       "      <td>-794.89</td>\n",
       "      <td>1983.4</td>\n",
       "    </tr>\n",
       "  </tbody>\n",
       "</table>\n",
       "</div>"
      ],
      "text/plain": [
       "       HEADWATER  TAILWATER  GAGE_1\n",
       "time                               \n",
       "1.0      -644.10    -477.76  1205.3\n",
       "32.0     -865.29    -638.26  1636.6\n",
       "61.0    -1034.00    -764.91  1938.5\n",
       "92.0    -1118.70    -825.49  2073.6\n",
       "122.0   -1083.00    -794.89  1983.4"
      ]
     },
     "execution_count": 14,
     "metadata": {},
     "output_type": "execute_result"
    }
   ],
   "source": [
    "df = pd.read_csv(os.path.join(template_ws, \"sfr.csv\"), index_col=0)\n",
    "df.head()"
   ]
  },
  {
   "cell_type": "code",
   "execution_count": 15,
   "metadata": {
    "execution": {
     "iopub.execute_input": "2022-03-17T02:11:07.223377Z",
     "iopub.status.busy": "2022-03-17T02:11:07.223377Z",
     "iopub.status.idle": "2022-03-17T02:11:07.249308Z",
     "shell.execute_reply": "2022-03-17T02:11:07.250306Z"
    }
   },
   "outputs": [
    {
     "name": "stdout",
     "output_type": "stream",
     "text": [
      "2022-03-17 12:41:07.225410 starting: adding observations from output file sfr.csv\n",
      "2022-03-17 12:41:07.225410 starting: adding observations from tabular output file '['sfr.csv']'\n",
      "2022-03-17 12:41:07.226369 starting: reading list-style file: freyberg6_template\\sfr.csv\n",
      "2022-03-17 12:41:07.228363 finished: reading list-style file: freyberg6_template\\sfr.csv took: 0:00:00.001994\n",
      "2022-03-17 12:41:07.228363 starting: building insfile for tabular output file sfr.csv\n",
      "2022-03-17 12:41:07.235346 finished: building insfile for tabular output file sfr.csv took: 0:00:00.006983\n",
      "2022-03-17 12:41:07.235346 starting: adding observation from instruction file 'freyberg6_template\\sfr.csv.ins'\n",
      "2022-03-17 12:41:07.244321 finished: adding observation from instruction file 'freyberg6_template\\sfr.csv.ins' took: 0:00:00.008975\n",
      "2022-03-17 12:41:07.245318 finished: adding observations from tabular output file '['sfr.csv']' took: 0:00:00.019908\n"
     ]
    }
   ],
   "source": [
    "# read the measured  values\n",
    "meas = pd.read_csv(os.path.join('..', '..', 'models', 'freyberg_mf6_truth',\"sfr.meas.csv\"),\n",
    "                    index_col=0)\n",
    "# re-write the model output .csv file with the measured values\n",
    "meas.to_csv(os.path.join(template_ws,\"sfr.csv\"))\n",
    "# add the observations to pf\n",
    "sfr_df = pf.add_observations(\"sfr.csv\", # the model output file to read\n",
    "                            insfile=\"sfr.csv.ins\", #optional, the instruction file name\n",
    "                            index_cols=\"time\", #column header to use as index; can also use column number (zero-based) instead of the header name\n",
    "                            use_cols=list(df.columns.values), #names of columns that include observation values; can also use column number (zero-based) instead of the header name\n",
    "                            prefix=\"sfr\") #prefix to all observation names"
   ]
  },
  {
   "cell_type": "markdown",
   "metadata": {},
   "source": [
    "### 5. Parameters\n",
    "\n",
    "The `PstFrom.add_parameters()` method reads model input files and adds parameters to the PEST(++) dataset. Parameterisation can be configured in several ways. \n",
    "\n",
    " - model input files can be in array or list format;\n",
    " - parameters can be setup as different \"types\". Values in model input files can (1) each be a separate parameter, (2) be grouped into \"zones\" or (3) all be treated as a single parameter. Alteratvely, (4) parameters can be assigned to pilot points, from which individual parameter values are subsequently interpolated. `PstFrom` adds the relevant pre-processing steps to assign paramter values directly into the \"model run\" script.\n",
    " - parameter values can be setup as \"direct\", \"multiplier\" or \"addend\". This means the \"parameter value\" which PEST(++) sees can be (1) the same value the model sees, (2) a multiplier on the value in the model input file, or (3) a value which is added to the value in the model input file. This is very nifty. `PstFrom` is designed to preferentially use parameters setup as multipliers. These let us preserve the existing model inputs and treat them as the mean of the prior parameter distribution. Once again, relevant pre-processing scripts are automatically added to the \"model run\" script (discussed later).\n",
    "\n",
    "\n",
    "#### 5.1. Freyberg Recap\n",
    "\n",
    "As discussed, all model inputs are stored in external files. Some are arrays. Others are lists. Recall that our model has 3 layers. It is transient. Hydraulic properties (Kh, Kv, Ss, Sy) vary in space. Recharge varies over both space and time. We have GHBs, SFR and WEL boundary conditions. GHB parameters are constant over time, but vary spatially. SFR inflow varies over time. Pumping rates of individual wells are uncertain in space and and time.\n",
    "\n",
    "All of these have some degree of spatial and/or temporal correlation.\n",
    "\n",
    "#### 5.2. Geostatistical Structures\n",
    "\n",
    "Parameter correlation plays a role in (1) regularization when giving preference to the emergence of patterns of spatial heterogeneity and (2) when specifying the prior parameter probability distribution. Since we are all sophisticated and recognize the importance of expressing spatial and temporal uncertainty (e.g. heterogeneity) in the model inputs (and the corresponding spatial correlation in those uncertain inputs), let's use geostatistics to express uncertainty. To do that we need to define \"geostatistical structures\". \n",
    "\n",
    "For the sake of this tutorial, let's assume that heterogeneity in all spatially distributed parameters share the same statistical characteristics. Likewise for temporally varying parameters. We will therefore only  construct two geostatisitcal structures."
   ]
  },
  {
   "cell_type": "code",
   "execution_count": 16,
   "metadata": {
    "execution": {
     "iopub.execute_input": "2022-03-17T02:11:07.263271Z",
     "iopub.status.busy": "2022-03-17T02:11:07.263271Z",
     "iopub.status.idle": "2022-03-17T02:11:07.554686Z",
     "shell.execute_reply": "2022-03-17T02:11:07.554686Z"
    }
   },
   "outputs": [
    {
     "data": {
      "text/plain": [
       "<AxesSubplot:xlabel='distance', ylabel='$\\\\gamma$'>"
      ]
     },
     "execution_count": 16,
     "metadata": {},
     "output_type": "execute_result"
    },
    {
     "data": {
      "image/png": "[encoded data removed]",
      "text/plain": [
       "<Figure size 432x288 with 1 Axes>"
      ]
     },
     "metadata": {
      "needs_background": "light"
     },
     "output_type": "display_data"
    }
   ],
   "source": [
    "# exponential variogram for spatially varying parameters\n",
    "v_space = pyemu.geostats.ExpVario(contribution=1.0, #sill\n",
    "                                    a=1000, # range of correlation; length units of the model. In our case 'meters'\n",
    "                                    anisotropy=1.0, #name says it all\n",
    "                                    bearing=0.0 #angle in degrees East of North corresponding to anisotropy ellipse\n",
    "                                    )\n",
    "\n",
    "# geostatistical structure for spatially varying parameters\n",
    "grid_gs = pyemu.geostats.GeoStruct(variograms=v_space, transform='log') \n",
    "\n",
    "# plot the gs if you like:\n",
    "grid_gs.plot()"
   ]
  },
  {
   "cell_type": "code",
   "execution_count": 17,
   "metadata": {
    "execution": {
     "iopub.execute_input": "2022-03-17T02:11:07.558674Z",
     "iopub.status.busy": "2022-03-17T02:11:07.558674Z",
     "iopub.status.idle": "2022-03-17T02:11:07.561667Z",
     "shell.execute_reply": "2022-03-17T02:11:07.561667Z"
    }
   },
   "outputs": [],
   "source": [
    "# exponential variogram for time varying parameters\n",
    "v_time = pyemu.geostats.ExpVario(contribution=1.0, #sill\n",
    "                                    a=60, # range of correlation; length time units (days)\n",
    "                                    anisotropy=1.0, #do not change for 1-D time\n",
    "                                    bearing=0.0 #do not change for 1-D time\n",
    "                                    )\n",
    "\n",
    "# geostatistical structure for time varying parameters\n",
    "temporal_gs = pyemu.geostats.GeoStruct(variograms=v_time, transform='none') "
   ]
  },
  {
   "cell_type": "markdown",
   "metadata": {},
   "source": [
    "#### 5.3. Add Parameters\n",
    "\n",
    "Let's start by adding parameters of hydraulic properties that vary in space (but not time) and which are housed in array-type files (e.g. Kh, Kv, Ss, Sy). We will start by demonstrating step-by-step for Kh.\n",
    "\n",
    "First, find all the external array files that contain Kh values. In our case, these are the files with \"npf_k_\" in the file name. As you can see below, there is one file for each model layer. "
   ]
  },
  {
   "cell_type": "code",
   "execution_count": 18,
   "metadata": {
    "execution": {
     "iopub.execute_input": "2022-03-17T02:11:07.565656Z",
     "iopub.status.busy": "2022-03-17T02:11:07.565656Z",
     "iopub.status.idle": "2022-03-17T02:11:07.571641Z",
     "shell.execute_reply": "2022-03-17T02:11:07.571641Z"
    }
   },
   "outputs": [
    {
     "name": "stdout",
     "output_type": "stream",
     "text": [
      "['freyberg6.npf_k_layer1.txt', 'freyberg6.npf_k_layer2.txt', 'freyberg6.npf_k_layer3.txt']\n"
     ]
    }
   ],
   "source": [
    "tag = \"npf_k_\"\n",
    "files = [f for f in os.listdir(template_ws) if tag in f.lower() and f.endswith(\".txt\")]\n",
    "print(files)"
   ]
  },
  {
   "cell_type": "markdown",
   "metadata": {},
   "source": [
    "Let's setup multiple spatial scales of parameters for Kh. To do this we will use three of the parameter \"types\" described above. The coarse scale will be a `constant` single value for each array. The medium scale will `pilot points`. The finest scale will use parameters as the `grid` scale (a unique parameter for each model cell!)\n",
    "\n",
    "Each scale of parameters will work with the others as multipliers with the existing Kh arrays. (This all happens at runtime as part of the \"model run\" script.) Think of the scales as dials that PEST(++) can turn to improve the fit. The \"coarse\" scale is one big dial that alows PEST to move everything at once. The \"medium\" dials are few (but not too many) that allow PEST to adjust broad areas, but not making eveything move. The \"fine\" scales are lots of small dials that allow PEST(++) to have very detailed control, tweaking parameter values within very small areas. \n",
    "\n",
    "However, because we are working with parameter `multipliers`, we will need to specify two sets of parameter bounds: \n",
    " - `upper_bound` and `lower_bound` are the standard control file bounds, while\n",
    " - `ult_ubound` and `ult_lbound` are bounds that are applied at runtime to the resulting (multiplied out) model input array. \n",
    " \n",
    "Since we are using sets of multipliers, it is important to make sure we keep the resulting model input arrays within the range of realistic values.\n",
    "\n",
    "#### 5.3.1. Array Files\n",
    "\n",
    "We will first demonstrate steb-by-step for `freyberg6.npf_k_layer1.txt`. We will start with grid scale parameters. These are multipliers assigned to each individual value in the array.\n",
    "\n",
    "We start by getting the idomain array. As our model has inactive cells, this heps us avoid adding unncessary parameters. It is also required later when generating pilot points."
   ]
  },
  {
   "cell_type": "code",
   "execution_count": 19,
   "metadata": {
    "execution": {
     "iopub.execute_input": "2022-03-17T02:11:07.575630Z",
     "iopub.status.busy": "2022-03-17T02:11:07.575630Z",
     "iopub.status.idle": "2022-03-17T02:11:07.579619Z",
     "shell.execute_reply": "2022-03-17T02:11:07.579619Z"
    }
   },
   "outputs": [],
   "source": [
    "# as IDOMIAN is the same in all layers, we can use any layer\n",
    "ib = gwf.dis.idomain.get_data(layer=0)"
   ]
  },
  {
   "cell_type": "code",
   "execution_count": 20,
   "metadata": {
    "execution": {
     "iopub.execute_input": "2022-03-17T02:11:07.584605Z",
     "iopub.status.busy": "2022-03-17T02:11:07.583608Z",
     "iopub.status.idle": "2022-03-17T02:11:07.616520Z",
     "shell.execute_reply": "2022-03-17T02:11:07.616520Z"
    }
   },
   "outputs": [
    {
     "name": "stdout",
     "output_type": "stream",
     "text": [
      "2022-03-17 12:41:07.582610 starting: adding grid type m style parameters for file(s) ['freyberg6.npf_k_layer1.txt']\n",
      "2022-03-17 12:41:07.583608 starting: loading array freyberg6_template\\freyberg6.npf_k_layer1.txt\n",
      "2022-03-17 12:41:07.589648 finished: loading array freyberg6_template\\freyberg6.npf_k_layer1.txt took: 0:00:00.006040\n",
      "2022-03-17 12:41:07.589648 loaded array 'freyberg_mf6\\freyberg6.npf_k_layer1.txt' of shape (40, 20)\n",
      "2022-03-17 12:41:07.591587 starting: writing array-style template file 'freyberg6_template\\npf_k_layer1_gr_inst0_grid.csv.tpl'\n",
      "2022-03-17 12:41:07.591587 starting: writing template file freyberg6_template\\npf_k_layer1_gr_inst0_grid.csv.tpl for ['npf_k_layer1_gr_inst:0']\n",
      "2022-03-17 12:41:07.603554 finished: writing template file freyberg6_template\\npf_k_layer1_gr_inst0_grid.csv.tpl for ['npf_k_layer1_gr_inst:0'] took: 0:00:00.011967\n",
      "2022-03-17 12:41:07.604552 starting: writing array-based template file 'freyberg6_template\\npf_k_layer1_gr_inst0_grid.csv.tpl'\n",
      "2022-03-17 12:41:07.604552 saving zone array freyberg6_template\\npf_k_layer1_gr_inst0_grid.csv.zone for tpl file freyberg6_template\\npf_k_layer1_gr_inst0_grid.csv.tpl\n",
      "2022-03-17 12:41:07.612530 finished: adding grid type m style parameters for file(s) ['freyberg6.npf_k_layer1.txt'] took: 0:00:00.029920\n"
     ]
    }
   ],
   "source": [
    "f = 'freyberg6.npf_k_layer1.txt'\n",
    "\n",
    "# grid (fine) scale parameters\n",
    "df_gr = pf.add_parameters(f,\n",
    "                zone_array=ib, #as we have inactie model cells, we can avoid assigning these as parameters\n",
    "                par_type=\"grid\", #specify the type, these will be unique parameters for each cell\n",
    "                geostruct=grid_gs, # the gestatisical structure for spatial correlation \n",
    "                par_name_base=f.split('.')[1]+\"_gr\", #specify a parameter name base that allows us to easily identify the filename and parameter type. \"_gr\" for \"grid\", and so forth.\n",
    "                pargp=f.split('.')[1]+\"_gr\", #likewise for the parameter group name\n",
    "                lower_bound=0.2, upper_bound=5.0, #parameter lower and upper bound\n",
    "                ult_ubound=100, ult_lbound=0.01 # The ultimate bounds for multiplied model input values. Here we are stating that, after accounting for all multipliers, Kh cannot exceed these values. Very important with multipliers\n",
    "                )"
   ]
  },
  {
   "cell_type": "markdown",
   "metadata": {},
   "source": [
    "As when adding observations,  `pf.add_parameters()` returns a dataframe. Take a look. You may recognize alot of the information that appears in a PEST `*parameter data` section. All of this is still only housed in memory for now. We will write the PEST control file later on."
   ]
  },
  {
   "cell_type": "code",
   "execution_count": 21,
   "metadata": {
    "execution": {
     "iopub.execute_input": "2022-03-17T02:11:07.620510Z",
     "iopub.status.busy": "2022-03-17T02:11:07.620510Z",
     "iopub.status.idle": "2022-03-17T02:11:07.635469Z",
     "shell.execute_reply": "2022-03-17T02:11:07.635469Z"
    }
   },
   "outputs": [
    {
     "data": {
      "text/html": [
       "<div>\n",
       "<style scoped>\n",
       "    .dataframe tbody tr th:only-of-type {\n",
       "        vertical-align: middle;\n",
       "    }\n",
       "\n",
       "    .dataframe tbody tr th {\n",
       "        vertical-align: top;\n",
       "    }\n",
       "\n",
       "    .dataframe thead th {\n",
       "        text-align: right;\n",
       "    }\n",
       "</style>\n",
       "<table border=\"1\" class=\"dataframe\">\n",
       "  <thead>\n",
       "    <tr style=\"text-align: right;\">\n",
       "      <th></th>\n",
       "      <th>parnme</th>\n",
       "      <th>parval1</th>\n",
       "      <th>i</th>\n",
       "      <th>j</th>\n",
       "      <th>x</th>\n",
       "      <th>y</th>\n",
       "      <th>pargp</th>\n",
       "      <th>tpl_filename</th>\n",
       "      <th>input_filename</th>\n",
       "      <th>partype</th>\n",
       "      <th>partrans</th>\n",
       "      <th>parubnd</th>\n",
       "      <th>parlbnd</th>\n",
       "      <th>parchglim</th>\n",
       "      <th>dercom</th>\n",
       "      <th>offset</th>\n",
       "      <th>scale</th>\n",
       "    </tr>\n",
       "  </thead>\n",
       "  <tbody>\n",
       "    <tr>\n",
       "      <th>pname:npf_k_layer1_gr_inst:0_ptype:gr_pstyle:m_i:0_j:0_x:125.00_y:9875.00_zone:1</th>\n",
       "      <td>pname:npf_k_layer1_gr_inst:0_ptype:gr_pstyle:m_i:0_j:0_x:125.00_y:9875.00_zone:1</td>\n",
       "      <td>1.0</td>\n",
       "      <td>0</td>\n",
       "      <td>0</td>\n",
       "      <td>125.0</td>\n",
       "      <td>9875.0</td>\n",
       "      <td>npf_k_layer1_gr</td>\n",
       "      <td>freyberg6_template\\npf_k_layer1_gr_inst0_grid.csv.tpl</td>\n",
       "      <td>freyberg6_template\\mult\\npf_k_layer1_gr_inst0_grid.csv</td>\n",
       "      <td>grid</td>\n",
       "      <td>log</td>\n",
       "      <td>5.0</td>\n",
       "      <td>0.2</td>\n",
       "      <td>factor</td>\n",
       "      <td>1</td>\n",
       "      <td>0.0</td>\n",
       "      <td>1.0</td>\n",
       "    </tr>\n",
       "    <tr>\n",
       "      <th>pname:npf_k_layer1_gr_inst:0_ptype:gr_pstyle:m_i:0_j:1_x:375.00_y:9875.00_zone:1</th>\n",
       "      <td>pname:npf_k_layer1_gr_inst:0_ptype:gr_pstyle:m_i:0_j:1_x:375.00_y:9875.00_zone:1</td>\n",
       "      <td>1.0</td>\n",
       "      <td>0</td>\n",
       "      <td>1</td>\n",
       "      <td>375.0</td>\n",
       "      <td>9875.0</td>\n",
       "      <td>npf_k_layer1_gr</td>\n",
       "      <td>freyberg6_template\\npf_k_layer1_gr_inst0_grid.csv.tpl</td>\n",
       "      <td>freyberg6_template\\mult\\npf_k_layer1_gr_inst0_grid.csv</td>\n",
       "      <td>grid</td>\n",
       "      <td>log</td>\n",
       "      <td>5.0</td>\n",
       "      <td>0.2</td>\n",
       "      <td>factor</td>\n",
       "      <td>1</td>\n",
       "      <td>0.0</td>\n",
       "      <td>1.0</td>\n",
       "    </tr>\n",
       "    <tr>\n",
       "      <th>pname:npf_k_layer1_gr_inst:0_ptype:gr_pstyle:m_i:0_j:2_x:625.00_y:9875.00_zone:1</th>\n",
       "      <td>pname:npf_k_layer1_gr_inst:0_ptype:gr_pstyle:m_i:0_j:2_x:625.00_y:9875.00_zone:1</td>\n",
       "      <td>1.0</td>\n",
       "      <td>0</td>\n",
       "      <td>2</td>\n",
       "      <td>625.0</td>\n",
       "      <td>9875.0</td>\n",
       "      <td>npf_k_layer1_gr</td>\n",
       "      <td>freyberg6_template\\npf_k_layer1_gr_inst0_grid.csv.tpl</td>\n",
       "      <td>freyberg6_template\\mult\\npf_k_layer1_gr_inst0_grid.csv</td>\n",
       "      <td>grid</td>\n",
       "      <td>log</td>\n",
       "      <td>5.0</td>\n",
       "      <td>0.2</td>\n",
       "      <td>factor</td>\n",
       "      <td>1</td>\n",
       "      <td>0.0</td>\n",
       "      <td>1.0</td>\n",
       "    </tr>\n",
       "    <tr>\n",
       "      <th>pname:npf_k_layer1_gr_inst:0_ptype:gr_pstyle:m_i:0_j:3_x:875.00_y:9875.00_zone:1</th>\n",
       "      <td>pname:npf_k_layer1_gr_inst:0_ptype:gr_pstyle:m_i:0_j:3_x:875.00_y:9875.00_zone:1</td>\n",
       "      <td>1.0</td>\n",
       "      <td>0</td>\n",
       "      <td>3</td>\n",
       "      <td>875.0</td>\n",
       "      <td>9875.0</td>\n",
       "      <td>npf_k_layer1_gr</td>\n",
       "      <td>freyberg6_template\\npf_k_layer1_gr_inst0_grid.csv.tpl</td>\n",
       "      <td>freyberg6_template\\mult\\npf_k_layer1_gr_inst0_grid.csv</td>\n",
       "      <td>grid</td>\n",
       "      <td>log</td>\n",
       "      <td>5.0</td>\n",
       "      <td>0.2</td>\n",
       "      <td>factor</td>\n",
       "      <td>1</td>\n",
       "      <td>0.0</td>\n",
       "      <td>1.0</td>\n",
       "    </tr>\n",
       "    <tr>\n",
       "      <th>pname:npf_k_layer1_gr_inst:0_ptype:gr_pstyle:m_i:0_j:4_x:1125.00_y:9875.00_zone:1</th>\n",
       "      <td>pname:npf_k_layer1_gr_inst:0_ptype:gr_pstyle:m_i:0_j:4_x:1125.00_y:9875.00_zone:1</td>\n",
       "      <td>1.0</td>\n",
       "      <td>0</td>\n",
       "      <td>4</td>\n",
       "      <td>1125.0</td>\n",
       "      <td>9875.0</td>\n",
       "      <td>npf_k_layer1_gr</td>\n",
       "      <td>freyberg6_template\\npf_k_layer1_gr_inst0_grid.csv.tpl</td>\n",
       "      <td>freyberg6_template\\mult\\npf_k_layer1_gr_inst0_grid.csv</td>\n",
       "      <td>grid</td>\n",
       "      <td>log</td>\n",
       "      <td>5.0</td>\n",
       "      <td>0.2</td>\n",
       "      <td>factor</td>\n",
       "      <td>1</td>\n",
       "      <td>0.0</td>\n",
       "      <td>1.0</td>\n",
       "    </tr>\n",
       "  </tbody>\n",
       "</table>\n",
       "</div>"
      ],
      "text/plain": [
       "                                                                                                                                                              parnme  \\\n",
       "pname:npf_k_layer1_gr_inst:0_ptype:gr_pstyle:m_i:0_j:0_x:125.00_y:9875.00_zone:1    pname:npf_k_layer1_gr_inst:0_ptype:gr_pstyle:m_i:0_j:0_x:125.00_y:9875.00_zone:1   \n",
       "pname:npf_k_layer1_gr_inst:0_ptype:gr_pstyle:m_i:0_j:1_x:375.00_y:9875.00_zone:1    pname:npf_k_layer1_gr_inst:0_ptype:gr_pstyle:m_i:0_j:1_x:375.00_y:9875.00_zone:1   \n",
       "pname:npf_k_layer1_gr_inst:0_ptype:gr_pstyle:m_i:0_j:2_x:625.00_y:9875.00_zone:1    pname:npf_k_layer1_gr_inst:0_ptype:gr_pstyle:m_i:0_j:2_x:625.00_y:9875.00_zone:1   \n",
       "pname:npf_k_layer1_gr_inst:0_ptype:gr_pstyle:m_i:0_j:3_x:875.00_y:9875.00_zone:1    pname:npf_k_layer1_gr_inst:0_ptype:gr_pstyle:m_i:0_j:3_x:875.00_y:9875.00_zone:1   \n",
       "pname:npf_k_layer1_gr_inst:0_ptype:gr_pstyle:m_i:0_j:4_x:1125.00_y:9875.00_zone:1  pname:npf_k_layer1_gr_inst:0_ptype:gr_pstyle:m_i:0_j:4_x:1125.00_y:9875.00_zone:1   \n",
       "\n",
       "                                                                                   parval1  \\\n",
       "pname:npf_k_layer1_gr_inst:0_ptype:gr_pstyle:m_i:0_j:0_x:125.00_y:9875.00_zone:1       1.0   \n",
       "pname:npf_k_layer1_gr_inst:0_ptype:gr_pstyle:m_i:0_j:1_x:375.00_y:9875.00_zone:1       1.0   \n",
       "pname:npf_k_layer1_gr_inst:0_ptype:gr_pstyle:m_i:0_j:2_x:625.00_y:9875.00_zone:1       1.0   \n",
       "pname:npf_k_layer1_gr_inst:0_ptype:gr_pstyle:m_i:0_j:3_x:875.00_y:9875.00_zone:1       1.0   \n",
       "pname:npf_k_layer1_gr_inst:0_ptype:gr_pstyle:m_i:0_j:4_x:1125.00_y:9875.00_zone:1      1.0   \n",
       "\n",
       "                                                                                   i  \\\n",
       "pname:npf_k_layer1_gr_inst:0_ptype:gr_pstyle:m_i:0_j:0_x:125.00_y:9875.00_zone:1   0   \n",
       "pname:npf_k_layer1_gr_inst:0_ptype:gr_pstyle:m_i:0_j:1_x:375.00_y:9875.00_zone:1   0   \n",
       "pname:npf_k_layer1_gr_inst:0_ptype:gr_pstyle:m_i:0_j:2_x:625.00_y:9875.00_zone:1   0   \n",
       "pname:npf_k_layer1_gr_inst:0_ptype:gr_pstyle:m_i:0_j:3_x:875.00_y:9875.00_zone:1   0   \n",
       "pname:npf_k_layer1_gr_inst:0_ptype:gr_pstyle:m_i:0_j:4_x:1125.00_y:9875.00_zone:1  0   \n",
       "\n",
       "                                                                                   j  \\\n",
       "pname:npf_k_layer1_gr_inst:0_ptype:gr_pstyle:m_i:0_j:0_x:125.00_y:9875.00_zone:1   0   \n",
       "pname:npf_k_layer1_gr_inst:0_ptype:gr_pstyle:m_i:0_j:1_x:375.00_y:9875.00_zone:1   1   \n",
       "pname:npf_k_layer1_gr_inst:0_ptype:gr_pstyle:m_i:0_j:2_x:625.00_y:9875.00_zone:1   2   \n",
       "pname:npf_k_layer1_gr_inst:0_ptype:gr_pstyle:m_i:0_j:3_x:875.00_y:9875.00_zone:1   3   \n",
       "pname:npf_k_layer1_gr_inst:0_ptype:gr_pstyle:m_i:0_j:4_x:1125.00_y:9875.00_zone:1  4   \n",
       "\n",
       "                                                                                        x  \\\n",
       "pname:npf_k_layer1_gr_inst:0_ptype:gr_pstyle:m_i:0_j:0_x:125.00_y:9875.00_zone:1    125.0   \n",
       "pname:npf_k_layer1_gr_inst:0_ptype:gr_pstyle:m_i:0_j:1_x:375.00_y:9875.00_zone:1    375.0   \n",
       "pname:npf_k_layer1_gr_inst:0_ptype:gr_pstyle:m_i:0_j:2_x:625.00_y:9875.00_zone:1    625.0   \n",
       "pname:npf_k_layer1_gr_inst:0_ptype:gr_pstyle:m_i:0_j:3_x:875.00_y:9875.00_zone:1    875.0   \n",
       "pname:npf_k_layer1_gr_inst:0_ptype:gr_pstyle:m_i:0_j:4_x:1125.00_y:9875.00_zone:1  1125.0   \n",
       "\n",
       "                                                                                        y  \\\n",
       "pname:npf_k_layer1_gr_inst:0_ptype:gr_pstyle:m_i:0_j:0_x:125.00_y:9875.00_zone:1   9875.0   \n",
       "pname:npf_k_layer1_gr_inst:0_ptype:gr_pstyle:m_i:0_j:1_x:375.00_y:9875.00_zone:1   9875.0   \n",
       "pname:npf_k_layer1_gr_inst:0_ptype:gr_pstyle:m_i:0_j:2_x:625.00_y:9875.00_zone:1   9875.0   \n",
       "pname:npf_k_layer1_gr_inst:0_ptype:gr_pstyle:m_i:0_j:3_x:875.00_y:9875.00_zone:1   9875.0   \n",
       "pname:npf_k_layer1_gr_inst:0_ptype:gr_pstyle:m_i:0_j:4_x:1125.00_y:9875.00_zone:1  9875.0   \n",
       "\n",
       "                                                                                             pargp  \\\n",
       "pname:npf_k_layer1_gr_inst:0_ptype:gr_pstyle:m_i:0_j:0_x:125.00_y:9875.00_zone:1   npf_k_layer1_gr   \n",
       "pname:npf_k_layer1_gr_inst:0_ptype:gr_pstyle:m_i:0_j:1_x:375.00_y:9875.00_zone:1   npf_k_layer1_gr   \n",
       "pname:npf_k_layer1_gr_inst:0_ptype:gr_pstyle:m_i:0_j:2_x:625.00_y:9875.00_zone:1   npf_k_layer1_gr   \n",
       "pname:npf_k_layer1_gr_inst:0_ptype:gr_pstyle:m_i:0_j:3_x:875.00_y:9875.00_zone:1   npf_k_layer1_gr   \n",
       "pname:npf_k_layer1_gr_inst:0_ptype:gr_pstyle:m_i:0_j:4_x:1125.00_y:9875.00_zone:1  npf_k_layer1_gr   \n",
       "\n",
       "                                                                                                                            tpl_filename  \\\n",
       "pname:npf_k_layer1_gr_inst:0_ptype:gr_pstyle:m_i:0_j:0_x:125.00_y:9875.00_zone:1   freyberg6_template\\npf_k_layer1_gr_inst0_grid.csv.tpl   \n",
       "pname:npf_k_layer1_gr_inst:0_ptype:gr_pstyle:m_i:0_j:1_x:375.00_y:9875.00_zone:1   freyberg6_template\\npf_k_layer1_gr_inst0_grid.csv.tpl   \n",
       "pname:npf_k_layer1_gr_inst:0_ptype:gr_pstyle:m_i:0_j:2_x:625.00_y:9875.00_zone:1   freyberg6_template\\npf_k_layer1_gr_inst0_grid.csv.tpl   \n",
       "pname:npf_k_layer1_gr_inst:0_ptype:gr_pstyle:m_i:0_j:3_x:875.00_y:9875.00_zone:1   freyberg6_template\\npf_k_layer1_gr_inst0_grid.csv.tpl   \n",
       "pname:npf_k_layer1_gr_inst:0_ptype:gr_pstyle:m_i:0_j:4_x:1125.00_y:9875.00_zone:1  freyberg6_template\\npf_k_layer1_gr_inst0_grid.csv.tpl   \n",
       "\n",
       "                                                                                                                           input_filename  \\\n",
       "pname:npf_k_layer1_gr_inst:0_ptype:gr_pstyle:m_i:0_j:0_x:125.00_y:9875.00_zone:1   freyberg6_template\\mult\\npf_k_layer1_gr_inst0_grid.csv   \n",
       "pname:npf_k_layer1_gr_inst:0_ptype:gr_pstyle:m_i:0_j:1_x:375.00_y:9875.00_zone:1   freyberg6_template\\mult\\npf_k_layer1_gr_inst0_grid.csv   \n",
       "pname:npf_k_layer1_gr_inst:0_ptype:gr_pstyle:m_i:0_j:2_x:625.00_y:9875.00_zone:1   freyberg6_template\\mult\\npf_k_layer1_gr_inst0_grid.csv   \n",
       "pname:npf_k_layer1_gr_inst:0_ptype:gr_pstyle:m_i:0_j:3_x:875.00_y:9875.00_zone:1   freyberg6_template\\mult\\npf_k_layer1_gr_inst0_grid.csv   \n",
       "pname:npf_k_layer1_gr_inst:0_ptype:gr_pstyle:m_i:0_j:4_x:1125.00_y:9875.00_zone:1  freyberg6_template\\mult\\npf_k_layer1_gr_inst0_grid.csv   \n",
       "\n",
       "                                                                                  partype  \\\n",
       "pname:npf_k_layer1_gr_inst:0_ptype:gr_pstyle:m_i:0_j:0_x:125.00_y:9875.00_zone:1     grid   \n",
       "pname:npf_k_layer1_gr_inst:0_ptype:gr_pstyle:m_i:0_j:1_x:375.00_y:9875.00_zone:1     grid   \n",
       "pname:npf_k_layer1_gr_inst:0_ptype:gr_pstyle:m_i:0_j:2_x:625.00_y:9875.00_zone:1     grid   \n",
       "pname:npf_k_layer1_gr_inst:0_ptype:gr_pstyle:m_i:0_j:3_x:875.00_y:9875.00_zone:1     grid   \n",
       "pname:npf_k_layer1_gr_inst:0_ptype:gr_pstyle:m_i:0_j:4_x:1125.00_y:9875.00_zone:1    grid   \n",
       "\n",
       "                                                                                  partrans  \\\n",
       "pname:npf_k_layer1_gr_inst:0_ptype:gr_pstyle:m_i:0_j:0_x:125.00_y:9875.00_zone:1       log   \n",
       "pname:npf_k_layer1_gr_inst:0_ptype:gr_pstyle:m_i:0_j:1_x:375.00_y:9875.00_zone:1       log   \n",
       "pname:npf_k_layer1_gr_inst:0_ptype:gr_pstyle:m_i:0_j:2_x:625.00_y:9875.00_zone:1       log   \n",
       "pname:npf_k_layer1_gr_inst:0_ptype:gr_pstyle:m_i:0_j:3_x:875.00_y:9875.00_zone:1       log   \n",
       "pname:npf_k_layer1_gr_inst:0_ptype:gr_pstyle:m_i:0_j:4_x:1125.00_y:9875.00_zone:1      log   \n",
       "\n",
       "                                                                                   parubnd  \\\n",
       "pname:npf_k_layer1_gr_inst:0_ptype:gr_pstyle:m_i:0_j:0_x:125.00_y:9875.00_zone:1       5.0   \n",
       "pname:npf_k_layer1_gr_inst:0_ptype:gr_pstyle:m_i:0_j:1_x:375.00_y:9875.00_zone:1       5.0   \n",
       "pname:npf_k_layer1_gr_inst:0_ptype:gr_pstyle:m_i:0_j:2_x:625.00_y:9875.00_zone:1       5.0   \n",
       "pname:npf_k_layer1_gr_inst:0_ptype:gr_pstyle:m_i:0_j:3_x:875.00_y:9875.00_zone:1       5.0   \n",
       "pname:npf_k_layer1_gr_inst:0_ptype:gr_pstyle:m_i:0_j:4_x:1125.00_y:9875.00_zone:1      5.0   \n",
       "\n",
       "                                                                                   parlbnd  \\\n",
       "pname:npf_k_layer1_gr_inst:0_ptype:gr_pstyle:m_i:0_j:0_x:125.00_y:9875.00_zone:1       0.2   \n",
       "pname:npf_k_layer1_gr_inst:0_ptype:gr_pstyle:m_i:0_j:1_x:375.00_y:9875.00_zone:1       0.2   \n",
       "pname:npf_k_layer1_gr_inst:0_ptype:gr_pstyle:m_i:0_j:2_x:625.00_y:9875.00_zone:1       0.2   \n",
       "pname:npf_k_layer1_gr_inst:0_ptype:gr_pstyle:m_i:0_j:3_x:875.00_y:9875.00_zone:1       0.2   \n",
       "pname:npf_k_layer1_gr_inst:0_ptype:gr_pstyle:m_i:0_j:4_x:1125.00_y:9875.00_zone:1      0.2   \n",
       "\n",
       "                                                                                  parchglim  \\\n",
       "pname:npf_k_layer1_gr_inst:0_ptype:gr_pstyle:m_i:0_j:0_x:125.00_y:9875.00_zone:1     factor   \n",
       "pname:npf_k_layer1_gr_inst:0_ptype:gr_pstyle:m_i:0_j:1_x:375.00_y:9875.00_zone:1     factor   \n",
       "pname:npf_k_layer1_gr_inst:0_ptype:gr_pstyle:m_i:0_j:2_x:625.00_y:9875.00_zone:1     factor   \n",
       "pname:npf_k_layer1_gr_inst:0_ptype:gr_pstyle:m_i:0_j:3_x:875.00_y:9875.00_zone:1     factor   \n",
       "pname:npf_k_layer1_gr_inst:0_ptype:gr_pstyle:m_i:0_j:4_x:1125.00_y:9875.00_zone:1    factor   \n",
       "\n",
       "                                                                                   dercom  \\\n",
       "pname:npf_k_layer1_gr_inst:0_ptype:gr_pstyle:m_i:0_j:0_x:125.00_y:9875.00_zone:1        1   \n",
       "pname:npf_k_layer1_gr_inst:0_ptype:gr_pstyle:m_i:0_j:1_x:375.00_y:9875.00_zone:1        1   \n",
       "pname:npf_k_layer1_gr_inst:0_ptype:gr_pstyle:m_i:0_j:2_x:625.00_y:9875.00_zone:1        1   \n",
       "pname:npf_k_layer1_gr_inst:0_ptype:gr_pstyle:m_i:0_j:3_x:875.00_y:9875.00_zone:1        1   \n",
       "pname:npf_k_layer1_gr_inst:0_ptype:gr_pstyle:m_i:0_j:4_x:1125.00_y:9875.00_zone:1       1   \n",
       "\n",
       "                                                                                   offset  \\\n",
       "pname:npf_k_layer1_gr_inst:0_ptype:gr_pstyle:m_i:0_j:0_x:125.00_y:9875.00_zone:1      0.0   \n",
       "pname:npf_k_layer1_gr_inst:0_ptype:gr_pstyle:m_i:0_j:1_x:375.00_y:9875.00_zone:1      0.0   \n",
       "pname:npf_k_layer1_gr_inst:0_ptype:gr_pstyle:m_i:0_j:2_x:625.00_y:9875.00_zone:1      0.0   \n",
       "pname:npf_k_layer1_gr_inst:0_ptype:gr_pstyle:m_i:0_j:3_x:875.00_y:9875.00_zone:1      0.0   \n",
       "pname:npf_k_layer1_gr_inst:0_ptype:gr_pstyle:m_i:0_j:4_x:1125.00_y:9875.00_zone:1     0.0   \n",
       "\n",
       "                                                                                   scale  \n",
       "pname:npf_k_layer1_gr_inst:0_ptype:gr_pstyle:m_i:0_j:0_x:125.00_y:9875.00_zone:1     1.0  \n",
       "pname:npf_k_layer1_gr_inst:0_ptype:gr_pstyle:m_i:0_j:1_x:375.00_y:9875.00_zone:1     1.0  \n",
       "pname:npf_k_layer1_gr_inst:0_ptype:gr_pstyle:m_i:0_j:2_x:625.00_y:9875.00_zone:1     1.0  \n",
       "pname:npf_k_layer1_gr_inst:0_ptype:gr_pstyle:m_i:0_j:3_x:875.00_y:9875.00_zone:1     1.0  \n",
       "pname:npf_k_layer1_gr_inst:0_ptype:gr_pstyle:m_i:0_j:4_x:1125.00_y:9875.00_zone:1    1.0  "
      ]
     },
     "execution_count": 21,
     "metadata": {},
     "output_type": "execute_result"
    }
   ],
   "source": [
    "df_gr.head()"
   ]
  },
  {
   "cell_type": "markdown",
   "metadata": {},
   "source": [
    "Now, we add pilot point (medium scale) multiplier parameters to the same model input file. These multipliers are assigned to pilot points, which are subsequently interpolated to values in the array.\n",
    "\n",
    "You can add pilot points in two ways:\n",
    "\n",
    "1. `PstFrom` can generate them for you on a regular grid or \n",
    "2. you can supply `PstFrom` with existing pilot point location information. \n",
    "\n",
    "When you change `par_type` to \"pilotpoints\", by default, a regular grid of pilot points is setup using a default `pp_space` value of 10 (which is every 10th row and column). You can chnge this spacing by passing a integer to `pp_space` (as demonstrated below). \n",
    "\n",
    "Alternatively you can specify a filename or dataframe with pilot point locations. If you supply `pp_space` as a `str` it is assumed to be a filename. The extension is the guide: \".csv\" for dataframe, \".shp\" for shapefile (point-type). Anything else and the file is assumed to be a pilot points file type. The dataframe (or .csv file) must have \"name\", \"x\", and \"y\" as columns - it can have more, but must have those. "
   ]
  },
  {
   "cell_type": "code",
   "execution_count": 22,
   "metadata": {
    "execution": {
     "iopub.execute_input": "2022-03-17T02:11:07.640456Z",
     "iopub.status.busy": "2022-03-17T02:11:07.640456Z",
     "iopub.status.idle": "2022-03-17T02:11:23.961582Z",
     "shell.execute_reply": "2022-03-17T02:11:23.961582Z"
    }
   },
   "outputs": [
    {
     "name": "stdout",
     "output_type": "stream",
     "text": [
      "2022-03-17 12:41:07.638461 starting: adding pilotpoints type m style parameters for file(s) ['freyberg6.npf_k_layer1.txt']\n",
      "2022-03-17 12:41:07.639642 starting: loading array freyberg6_template\\freyberg6.npf_k_layer1.txt\n",
      "2022-03-17 12:41:07.641454 finished: loading array freyberg6_template\\freyberg6.npf_k_layer1.txt took: 0:00:00.001812\n",
      "2022-03-17 12:41:07.641454 loaded array 'freyberg_mf6\\freyberg6.npf_k_layer1.txt' of shape (40, 20)\n",
      "2022-03-17 12:41:07.642450 starting: writing array-style template file 'freyberg6_template\\npf_k_layer1_pp_inst0_pilotpoints.csv.tpl'\n",
      "2022-03-17 12:41:07.642450 starting: setting up pilot point parameters\n",
      "2022-03-17 12:41:07.642450 No spatial reference (containing cell spacing) passed.\n",
      "2022-03-17 12:41:07.642450 OK - using spatial reference in parent object.\n",
      "2022-03-17 12:41:07.720643 32 pilot point parameters created\n",
      "2022-03-17 12:41:07.721640 pilot point 'pargp':npf_k_layer1_pp\n",
      "2022-03-17 12:41:07.721640 finished: setting up pilot point parameters took: 0:00:00.079190\n",
      "2022-03-17 12:41:07.727623 starting: calculating factors for pargp=npf_k_layer1_pp\n",
      "2022-03-17 12:41:07.728620 saving krige variance file:freyberg6_template\\npf_k_layer1_pp_inst0pp.var.dat\n",
      "2022-03-17 12:41:07.728620 saving krige factors file:freyberg6_template\\npf_k_layer1_pp_inst0pp.fac\n",
      "starting interp point loop for 706 points\n"
     ]
    },
    {
     "name": "stdout",
     "output_type": "stream",
     "text": [
      "starting 0\n"
     ]
    },
    {
     "name": "stdout",
     "output_type": "stream",
     "text": [
      "starting 1\n"
     ]
    },
    {
     "name": "stdout",
     "output_type": "stream",
     "text": [
      "starting 2\n"
     ]
    },
    {
     "name": "stdout",
     "output_type": "stream",
     "text": [
      "starting 3\n"
     ]
    },
    {
     "name": "stdout",
     "output_type": "stream",
     "text": [
      "starting 4\n"
     ]
    },
    {
     "name": "stdout",
     "output_type": "stream",
     "text": [
      "starting 5\n"
     ]
    },
    {
     "name": "stdout",
     "output_type": "stream",
     "text": [
      "starting 6\n"
     ]
    },
    {
     "name": "stdout",
     "output_type": "stream",
     "text": [
      "starting 7\n"
     ]
    },
    {
     "name": "stdout",
     "output_type": "stream",
     "text": [
      "starting 8\n"
     ]
    },
    {
     "name": "stdout",
     "output_type": "stream",
     "text": [
      "starting 9\n"
     ]
    },
    {
     "name": "stdout",
     "output_type": "stream",
     "text": [
      "took 16.178139 seconds\n",
      "2022-03-17 12:41:23.951606 finished: calculating factors for pargp=npf_k_layer1_pp took: 0:00:16.223983\n",
      "2022-03-17 12:41:23.951606 starting: writing array-based template file 'freyberg6_template\\npf_k_layer1_pp_inst0pp.dat.tpl'\n",
      "2022-03-17 12:41:23.951606 saving zone array freyberg6_template\\npf_k_layer1_pp_inst0pp.dat.zone for tpl file freyberg6_template\\npf_k_layer1_pp_inst0pp.dat.tpl\n",
      "2022-03-17 12:41:23.957590 finished: adding pilotpoints type m style parameters for file(s) ['freyberg6.npf_k_layer1.txt'] took: 0:00:16.319129\n"
     ]
    }
   ],
   "source": [
    "# pilot point (medium) scale parameters\n",
    "df_pp = pf.add_parameters(f,\n",
    "                    zone_array=ib,\n",
    "                    par_type=\"pilotpoints\",\n",
    "                    geostruct=grid_gs,\n",
    "                    par_name_base=f.split('.')[1]+\"_pp\",\n",
    "                    pargp=f.split('.')[1]+\"_pp\",\n",
    "                    lower_bound=0.2,upper_bound=5.0,\n",
    "                    ult_ubound=100, ult_lbound=0.01,\n",
    "                    pp_space=4) # `PstFrom` will generate a unifrom grid of pilot points in every 4th row and column"
   ]
  },
  {
   "cell_type": "markdown",
   "metadata": {},
   "source": [
    "Lastly, add the constant (coarse) parameter multiplier. This is a single multiplier value applied to all values in the array. "
   ]
  },
  {
   "cell_type": "code",
   "execution_count": 23,
   "metadata": {
    "execution": {
     "iopub.execute_input": "2022-03-17T02:11:23.965570Z",
     "iopub.status.busy": "2022-03-17T02:11:23.965570Z",
     "iopub.status.idle": "2022-03-17T02:11:23.987520Z",
     "shell.execute_reply": "2022-03-17T02:11:23.986515Z"
    }
   },
   "outputs": [
    {
     "name": "stdout",
     "output_type": "stream",
     "text": [
      "2022-03-17 12:41:23.964605 starting: adding constant type m style parameters for file(s) ['freyberg6.npf_k_layer1.txt']\n",
      "2022-03-17 12:41:23.964605 starting: loading array freyberg6_template\\freyberg6.npf_k_layer1.txt\n",
      "2022-03-17 12:41:23.966567 finished: loading array freyberg6_template\\freyberg6.npf_k_layer1.txt took: 0:00:00.001962\n",
      "2022-03-17 12:41:23.966567 loaded array 'freyberg_mf6\\freyberg6.npf_k_layer1.txt' of shape (40, 20)\n",
      "2022-03-17 12:41:23.967597 starting: writing array-style template file 'freyberg6_template\\npf_k_layer1_cn_inst0_constant.csv.tpl'\n",
      "2022-03-17 12:41:23.968562 starting: writing template file freyberg6_template\\npf_k_layer1_cn_inst0_constant.csv.tpl for ['npf_k_layer1_cn_inst:0']\n",
      "2022-03-17 12:41:23.975543 finished: writing template file freyberg6_template\\npf_k_layer1_cn_inst0_constant.csv.tpl for ['npf_k_layer1_cn_inst:0'] took: 0:00:00.006981\n",
      "2022-03-17 12:41:23.976540 starting: writing array-based template file 'freyberg6_template\\npf_k_layer1_cn_inst0_constant.csv.tpl'\n",
      "2022-03-17 12:41:23.976540 saving zone array freyberg6_template\\npf_k_layer1_cn_inst0_constant.csv.zone for tpl file freyberg6_template\\npf_k_layer1_cn_inst0_constant.csv.tpl\n",
      "2022-03-17 12:41:23.982558 finished: adding constant type m style parameters for file(s) ['freyberg6.npf_k_layer1.txt'] took: 0:00:00.017953\n"
     ]
    }
   ],
   "source": [
    "# constant (coarse) scale parameters\n",
    "df_cst = pf.add_parameters(f,\n",
    "                    zone_array=ib,\n",
    "                    par_type=\"constant\",\n",
    "                    geostruct=grid_gs,\n",
    "                    par_name_base=f.split('.')[1]+\"_cn\",\n",
    "                    pargp=f.split('.')[1]+\"_cn\",\n",
    "                    lower_bound=0.2,upper_bound=5.0,\n",
    "                    ult_ubound=100, ult_lbound=0.01)"
   ]
  },
  {
   "cell_type": "markdown",
   "metadata": {},
   "source": [
    "Let's do that for Kh in the other layers. We are going to be doing this a few times, so lets write a function."
   ]
  },
  {
   "cell_type": "code",
   "execution_count": 24,
   "metadata": {
    "execution": {
     "iopub.execute_input": "2022-03-17T02:11:23.994519Z",
     "iopub.status.busy": "2022-03-17T02:11:23.994519Z",
     "iopub.status.idle": "2022-03-17T02:11:23.996487Z",
     "shell.execute_reply": "2022-03-17T02:11:23.996487Z"
    }
   },
   "outputs": [],
   "source": [
    "def add_mult_pars(f, lb=0.2, ub=5.0, ulb=0.01, uub=100):\n",
    "    # grid (fine) scale parameters\n",
    "    pf.add_parameters(f,\n",
    "                    zone_array=ib,\n",
    "                    par_type=\"grid\", #specify the type, these will be unique parameters for each cell\n",
    "                    geostruct=grid_gs, # the gestatisical structure for spatial correlation \n",
    "                    par_name_base=f.split('.')[1]+\"_gr\", #specify a parameter name base that allows us to easily identify the filename and parameter type. \"_gr\" for \"grid\", and so forth.\n",
    "                    pargp=f.split('.')[1]+\"_gr\", #likewise for the parameter group name\n",
    "                    lower_bound=lb, upper_bound=ub, #parameter lower and upper bound\n",
    "                    ult_ubound=uub, ult_lbound=ulb # The ultimate bounds for multiplied model input values. Here we are stating that, after accounting for all multipliers, Kh cannot exceed these values. Very important with multipliers\n",
    "                    )\n",
    "                    \n",
    "    # pilot point (medium) scale parameters\n",
    "    pf.add_parameters(f,\n",
    "                        zone_array=ib,\n",
    "                        par_type=\"pilotpoints\",\n",
    "                        geostruct=grid_gs,\n",
    "                        par_name_base=f.split('.')[1]+\"_pp\",\n",
    "                        pargp=f.split('.')[1]+\"_pp\",\n",
    "                        lower_bound=lb, upper_bound=ub,\n",
    "                        ult_ubound=uub, ult_lbound=ulb,\n",
    "                        pp_space=4) # `PstFrom` will generate a unifrom grid of pilot points in every 4th row and column\n",
    "\n",
    "    # constant (coarse) scale parameters\n",
    "    pf.add_parameters(f,\n",
    "                        zone_array=ib,\n",
    "                        par_type=\"constant\",\n",
    "                        geostruct=grid_gs,\n",
    "                        par_name_base=f.split('.')[1]+\"_cn\",\n",
    "                        pargp=f.split('.')[1]+\"_cn\",\n",
    "                        lower_bound=lb, upper_bound=ub,\n",
    "                        ult_ubound=uub, ult_lbound=ulb)\n",
    "    return"
   ]
  },
  {
   "cell_type": "code",
   "execution_count": 25,
   "metadata": {
    "execution": {
     "iopub.execute_input": "2022-03-17T02:11:24.000476Z",
     "iopub.status.busy": "2022-03-17T02:11:24.000476Z",
     "iopub.status.idle": "2022-03-17T02:11:24.311644Z",
     "shell.execute_reply": "2022-03-17T02:11:24.311644Z"
    }
   },
   "outputs": [
    {
     "name": "stdout",
     "output_type": "stream",
     "text": [
      "2022-03-17 12:41:23.998482 starting: adding grid type m style parameters for file(s) ['freyberg6.npf_k_layer2.txt']\n",
      "2022-03-17 12:41:23.999521 starting: loading array freyberg6_template\\freyberg6.npf_k_layer2.txt\n",
      "2022-03-17 12:41:24.006463 finished: loading array freyberg6_template\\freyberg6.npf_k_layer2.txt took: 0:00:00.006942\n",
      "2022-03-17 12:41:24.006463 loaded array 'freyberg_mf6\\freyberg6.npf_k_layer2.txt' of shape (40, 20)\n",
      "2022-03-17 12:41:24.009452 starting: writing array-style template file 'freyberg6_template\\npf_k_layer2_gr_inst0_grid.csv.tpl'\n",
      "2022-03-17 12:41:24.009452 starting: writing template file freyberg6_template\\npf_k_layer2_gr_inst0_grid.csv.tpl for ['npf_k_layer2_gr_inst:0']\n",
      "2022-03-17 12:41:24.023415 finished: writing template file freyberg6_template\\npf_k_layer2_gr_inst0_grid.csv.tpl for ['npf_k_layer2_gr_inst:0'] took: 0:00:00.013963\n",
      "2022-03-17 12:41:24.023415 starting: writing array-based template file 'freyberg6_template\\npf_k_layer2_gr_inst0_grid.csv.tpl'\n",
      "2022-03-17 12:41:24.023415 saving zone array freyberg6_template\\npf_k_layer2_gr_inst0_grid.csv.zone for tpl file freyberg6_template\\npf_k_layer2_gr_inst0_grid.csv.tpl\n",
      "2022-03-17 12:41:24.031426 finished: adding grid type m style parameters for file(s) ['freyberg6.npf_k_layer2.txt'] took: 0:00:00.032944\n",
      "2022-03-17 12:41:24.031426 starting: adding pilotpoints type m style parameters for file(s) ['freyberg6.npf_k_layer2.txt']\n",
      "2022-03-17 12:41:24.032429 starting: loading array freyberg6_template\\freyberg6.npf_k_layer2.txt\n",
      "2022-03-17 12:41:24.033421 finished: loading array freyberg6_template\\freyberg6.npf_k_layer2.txt took: 0:00:00.000992\n",
      "2022-03-17 12:41:24.033421 loaded array 'freyberg_mf6\\freyberg6.npf_k_layer2.txt' of shape (40, 20)\n",
      "2022-03-17 12:41:24.035415 starting: writing array-style template file 'freyberg6_template\\npf_k_layer2_pp_inst0_pilotpoints.csv.tpl'\n",
      "2022-03-17 12:41:24.035415 starting: setting up pilot point parameters\n",
      "2022-03-17 12:41:24.035415 No spatial reference (containing cell spacing) passed.\n",
      "2022-03-17 12:41:24.035415 OK - using spatial reference in parent object.\n"
     ]
    },
    {
     "name": "stdout",
     "output_type": "stream",
     "text": [
      "2022-03-17 12:41:24.111180 32 pilot point parameters created\n",
      "2022-03-17 12:41:24.111180 pilot point 'pargp':npf_k_layer2_pp\n",
      "2022-03-17 12:41:24.111180 finished: setting up pilot point parameters took: 0:00:00.075765\n",
      "2022-03-17 12:41:24.118162 starting: writing array-based template file 'freyberg6_template\\npf_k_layer2_pp_inst0pp.dat.tpl'\n",
      "2022-03-17 12:41:24.118162 saving zone array freyberg6_template\\npf_k_layer2_pp_inst0pp.dat.zone for tpl file freyberg6_template\\npf_k_layer2_pp_inst0pp.dat.tpl\n",
      "2022-03-17 12:41:24.156094 finished: adding pilotpoints type m style parameters for file(s) ['freyberg6.npf_k_layer2.txt'] took: 0:00:00.124668\n",
      "2022-03-17 12:41:24.156094 starting: adding constant type m style parameters for file(s) ['freyberg6.npf_k_layer2.txt']\n"
     ]
    },
    {
     "name": "stdout",
     "output_type": "stream",
     "text": [
      "2022-03-17 12:41:24.156094 starting: loading array freyberg6_template\\freyberg6.npf_k_layer2.txt\n",
      "2022-03-17 12:41:24.158055 finished: loading array freyberg6_template\\freyberg6.npf_k_layer2.txt took: 0:00:00.001961\n",
      "2022-03-17 12:41:24.158055 loaded array 'freyberg_mf6\\freyberg6.npf_k_layer2.txt' of shape (40, 20)\n",
      "2022-03-17 12:41:24.160050 starting: writing array-style template file 'freyberg6_template\\npf_k_layer2_cn_inst0_constant.csv.tpl'\n",
      "2022-03-17 12:41:24.160050 starting: writing template file freyberg6_template\\npf_k_layer2_cn_inst0_constant.csv.tpl for ['npf_k_layer2_cn_inst:0']\n",
      "2022-03-17 12:41:24.167074 finished: writing template file freyberg6_template\\npf_k_layer2_cn_inst0_constant.csv.tpl for ['npf_k_layer2_cn_inst:0'] took: 0:00:00.007024\n",
      "2022-03-17 12:41:24.168029 starting: writing array-based template file 'freyberg6_template\\npf_k_layer2_cn_inst0_constant.csv.tpl'\n",
      "2022-03-17 12:41:24.168029 saving zone array freyberg6_template\\npf_k_layer2_cn_inst0_constant.csv.zone for tpl file freyberg6_template\\npf_k_layer2_cn_inst0_constant.csv.tpl\n",
      "2022-03-17 12:41:24.175043 finished: adding constant type m style parameters for file(s) ['freyberg6.npf_k_layer2.txt'] took: 0:00:00.018949\n",
      "2022-03-17 12:41:24.175043 starting: adding grid type m style parameters for file(s) ['freyberg6.npf_k_layer3.txt']\n",
      "2022-03-17 12:41:24.175043 starting: loading array freyberg6_template\\freyberg6.npf_k_layer3.txt\n"
     ]
    },
    {
     "name": "stdout",
     "output_type": "stream",
     "text": [
      "2022-03-17 12:41:24.181019 finished: loading array freyberg6_template\\freyberg6.npf_k_layer3.txt took: 0:00:00.005976\n",
      "2022-03-17 12:41:24.182015 loaded array 'freyberg_mf6\\freyberg6.npf_k_layer3.txt' of shape (40, 20)\n",
      "2022-03-17 12:41:24.183012 starting: writing array-style template file 'freyberg6_template\\npf_k_layer3_gr_inst0_grid.csv.tpl'\n",
      "2022-03-17 12:41:24.183986 starting: writing template file freyberg6_template\\npf_k_layer3_gr_inst0_grid.csv.tpl for ['npf_k_layer3_gr_inst:0']\n",
      "2022-03-17 12:41:24.195985 finished: writing template file freyberg6_template\\npf_k_layer3_gr_inst0_grid.csv.tpl for ['npf_k_layer3_gr_inst:0'] took: 0:00:00.011999\n",
      "2022-03-17 12:41:24.195985 starting: writing array-based template file 'freyberg6_template\\npf_k_layer3_gr_inst0_grid.csv.tpl'\n",
      "2022-03-17 12:41:24.195985 saving zone array freyberg6_template\\npf_k_layer3_gr_inst0_grid.csv.zone for tpl file freyberg6_template\\npf_k_layer3_gr_inst0_grid.csv.tpl\n",
      "2022-03-17 12:41:24.202934 finished: adding grid type m style parameters for file(s) ['freyberg6.npf_k_layer3.txt'] took: 0:00:00.027891\n",
      "2022-03-17 12:41:24.202934 starting: adding pilotpoints type m style parameters for file(s) ['freyberg6.npf_k_layer3.txt']\n",
      "2022-03-17 12:41:24.202934 starting: loading array freyberg6_template\\freyberg6.npf_k_layer3.txt\n",
      "2022-03-17 12:41:24.204930 finished: loading array freyberg6_template\\freyberg6.npf_k_layer3.txt took: 0:00:00.001996\n",
      "2022-03-17 12:41:24.204930 loaded array 'freyberg_mf6\\freyberg6.npf_k_layer3.txt' of shape (40, 20)\n",
      "2022-03-17 12:41:24.206962 starting: writing array-style template file 'freyberg6_template\\npf_k_layer3_pp_inst0_pilotpoints.csv.tpl'\n",
      "2022-03-17 12:41:24.206962 starting: setting up pilot point parameters\n",
      "2022-03-17 12:41:24.206962 No spatial reference (containing cell spacing) passed.\n",
      "2022-03-17 12:41:24.206962 OK - using spatial reference in parent object.\n",
      "2022-03-17 12:41:24.276738 32 pilot point parameters created\n",
      "2022-03-17 12:41:24.276738 pilot point 'pargp':npf_k_layer3_pp\n",
      "2022-03-17 12:41:24.276738 finished: setting up pilot point parameters took: 0:00:00.069776\n",
      "2022-03-17 12:41:24.283753 starting: writing array-based template file 'freyberg6_template\\npf_k_layer3_pp_inst0pp.dat.tpl'\n"
     ]
    },
    {
     "name": "stdout",
     "output_type": "stream",
     "text": [
      "2022-03-17 12:41:24.283753 saving zone array freyberg6_template\\npf_k_layer3_pp_inst0pp.dat.zone for tpl file freyberg6_template\\npf_k_layer3_pp_inst0pp.dat.tpl\n",
      "2022-03-17 12:41:24.289714 finished: adding pilotpoints type m style parameters for file(s) ['freyberg6.npf_k_layer3.txt'] took: 0:00:00.086780\n",
      "2022-03-17 12:41:24.289714 starting: adding constant type m style parameters for file(s) ['freyberg6.npf_k_layer3.txt']\n",
      "2022-03-17 12:41:24.289714 starting: loading array freyberg6_template\\freyberg6.npf_k_layer3.txt\n",
      "2022-03-17 12:41:24.291731 finished: loading array freyberg6_template\\freyberg6.npf_k_layer3.txt took: 0:00:00.002017\n",
      "2022-03-17 12:41:24.291731 loaded array 'freyberg_mf6\\freyberg6.npf_k_layer3.txt' of shape (40, 20)\n",
      "2022-03-17 12:41:24.292729 starting: writing array-style template file 'freyberg6_template\\npf_k_layer3_cn_inst0_constant.csv.tpl'\n",
      "2022-03-17 12:41:24.293741 starting: writing template file freyberg6_template\\npf_k_layer3_cn_inst0_constant.csv.tpl for ['npf_k_layer3_cn_inst:0']\n",
      "2022-03-17 12:41:24.300708 finished: writing template file freyberg6_template\\npf_k_layer3_cn_inst0_constant.csv.tpl for ['npf_k_layer3_cn_inst:0'] took: 0:00:00.006967\n",
      "2022-03-17 12:41:24.300708 starting: writing array-based template file 'freyberg6_template\\npf_k_layer3_cn_inst0_constant.csv.tpl'\n",
      "2022-03-17 12:41:24.300708 saving zone array freyberg6_template\\npf_k_layer3_cn_inst0_constant.csv.zone for tpl file freyberg6_template\\npf_k_layer3_cn_inst0_constant.csv.tpl\n",
      "2022-03-17 12:41:24.307688 finished: adding constant type m style parameters for file(s) ['freyberg6.npf_k_layer3.txt'] took: 0:00:00.017974\n"
     ]
    }
   ],
   "source": [
    "for f in files[1:]:\n",
    "    add_mult_pars(f, lb=0.2, ub=5.0, ulb=0.01, uub=100)"
   ]
  },
  {
   "cell_type": "markdown",
   "metadata": {},
   "source": [
    "Well...hot damn, wasn't that easy? Let's speed through the other array parameter files."
   ]
  },
  {
   "cell_type": "code",
   "execution_count": 26,
   "metadata": {
    "execution": {
     "iopub.execute_input": "2022-03-17T02:11:24.317628Z",
     "iopub.status.busy": "2022-03-17T02:11:24.317628Z",
     "iopub.status.idle": "2022-03-17T02:11:25.146743Z",
     "shell.execute_reply": "2022-03-17T02:11:25.146743Z"
    }
   },
   "outputs": [
    {
     "name": "stdout",
     "output_type": "stream",
     "text": [
      "2022-03-17 12:41:24.317628 starting: adding grid type m style parameters for file(s) ['freyberg6.npf_k33_layer1.txt']\n",
      "2022-03-17 12:41:24.317628 starting: loading array freyberg6_template\\freyberg6.npf_k33_layer1.txt\n",
      "2022-03-17 12:41:24.324713 finished: loading array freyberg6_template\\freyberg6.npf_k33_layer1.txt took: 0:00:00.007085\n",
      "2022-03-17 12:41:24.324713 loaded array 'freyberg_mf6\\freyberg6.npf_k33_layer1.txt' of shape (40, 20)\n",
      "2022-03-17 12:41:24.326656 starting: writing array-style template file 'freyberg6_template\\npf_k33_layer1_gr_inst0_grid.csv.tpl'\n",
      "2022-03-17 12:41:24.326656 starting: writing template file freyberg6_template\\npf_k33_layer1_gr_inst0_grid.csv.tpl for ['npf_k33_layer1_gr_inst:0']\n",
      "2022-03-17 12:41:24.339624 finished: writing template file freyberg6_template\\npf_k33_layer1_gr_inst0_grid.csv.tpl for ['npf_k33_layer1_gr_inst:0'] took: 0:00:00.012968\n",
      "2022-03-17 12:41:24.339624 starting: writing array-based template file 'freyberg6_template\\npf_k33_layer1_gr_inst0_grid.csv.tpl'\n",
      "2022-03-17 12:41:24.339624 saving zone array freyberg6_template\\npf_k33_layer1_gr_inst0_grid.csv.zone for tpl file freyberg6_template\\npf_k33_layer1_gr_inst0_grid.csv.tpl\n"
     ]
    },
    {
     "name": "stdout",
     "output_type": "stream",
     "text": [
      "2022-03-17 12:41:24.347639 finished: adding grid type m style parameters for file(s) ['freyberg6.npf_k33_layer1.txt'] took: 0:00:00.030011\n",
      "2022-03-17 12:41:24.347639 starting: adding pilotpoints type m style parameters for file(s) ['freyberg6.npf_k33_layer1.txt']\n",
      "2022-03-17 12:41:24.347639 starting: loading array freyberg6_template\\freyberg6.npf_k33_layer1.txt\n",
      "2022-03-17 12:41:24.348632 finished: loading array freyberg6_template\\freyberg6.npf_k33_layer1.txt took: 0:00:00.000993\n",
      "2022-03-17 12:41:24.348632 loaded array 'freyberg_mf6\\freyberg6.npf_k33_layer1.txt' of shape (40, 20)\n",
      "2022-03-17 12:41:24.350627 starting: writing array-style template file 'freyberg6_template\\npf_k33_layer1_pp_inst0_pilotpoints.csv.tpl'\n",
      "2022-03-17 12:41:24.350627 starting: setting up pilot point parameters\n",
      "2022-03-17 12:41:24.350627 No spatial reference (containing cell spacing) passed.\n",
      "2022-03-17 12:41:24.350627 OK - using spatial reference in parent object.\n"
     ]
    },
    {
     "name": "stdout",
     "output_type": "stream",
     "text": [
      "2022-03-17 12:41:24.420457 32 pilot point parameters created\n",
      "2022-03-17 12:41:24.420457 pilot point 'pargp':npf_k33_layer1_pp\n",
      "2022-03-17 12:41:24.420457 finished: setting up pilot point parameters took: 0:00:00.069830\n",
      "2022-03-17 12:41:24.427439 starting: writing array-based template file 'freyberg6_template\\npf_k33_layer1_pp_inst0pp.dat.tpl'\n",
      "2022-03-17 12:41:24.427439 saving zone array freyberg6_template\\npf_k33_layer1_pp_inst0pp.dat.zone for tpl file freyberg6_template\\npf_k33_layer1_pp_inst0pp.dat.tpl\n",
      "2022-03-17 12:41:24.432427 finished: adding pilotpoints type m style parameters for file(s) ['freyberg6.npf_k33_layer1.txt'] took: 0:00:00.084788\n",
      "2022-03-17 12:41:24.432427 starting: adding constant type m style parameters for file(s) ['freyberg6.npf_k33_layer1.txt']\n",
      "2022-03-17 12:41:24.433427 starting: loading array freyberg6_template\\freyberg6.npf_k33_layer1.txt\n",
      "2022-03-17 12:41:24.434422 finished: loading array freyberg6_template\\freyberg6.npf_k33_layer1.txt took: 0:00:00.000995\n",
      "2022-03-17 12:41:24.434422 loaded array 'freyberg_mf6\\freyberg6.npf_k33_layer1.txt' of shape (40, 20)\n",
      "2022-03-17 12:41:24.436415 starting: writing array-style template file 'freyberg6_template\\npf_k33_layer1_cn_inst0_constant.csv.tpl'\n",
      "2022-03-17 12:41:24.436415 starting: writing template file freyberg6_template\\npf_k33_layer1_cn_inst0_constant.csv.tpl for ['npf_k33_layer1_cn_inst:0']\n",
      "2022-03-17 12:41:24.443397 finished: writing template file freyberg6_template\\npf_k33_layer1_cn_inst0_constant.csv.tpl for ['npf_k33_layer1_cn_inst:0'] took: 0:00:00.006982\n",
      "2022-03-17 12:41:24.444406 starting: writing array-based template file 'freyberg6_template\\npf_k33_layer1_cn_inst0_constant.csv.tpl'\n",
      "2022-03-17 12:41:24.444406 saving zone array freyberg6_template\\npf_k33_layer1_cn_inst0_constant.csv.zone for tpl file freyberg6_template\\npf_k33_layer1_cn_inst0_constant.csv.tpl\n",
      "2022-03-17 12:41:24.450380 finished: adding constant type m style parameters for file(s) ['freyberg6.npf_k33_layer1.txt'] took: 0:00:00.017953\n",
      "2022-03-17 12:41:24.450380 starting: adding grid type m style parameters for file(s) ['freyberg6.npf_k33_layer2.txt']\n",
      "2022-03-17 12:41:24.450380 starting: loading array freyberg6_template\\freyberg6.npf_k33_layer2.txt\n",
      "2022-03-17 12:41:24.456310 finished: loading array freyberg6_template\\freyberg6.npf_k33_layer2.txt took: 0:00:00.005930\n",
      "2022-03-17 12:41:24.456310 loaded array 'freyberg_mf6\\freyberg6.npf_k33_layer2.txt' of shape (40, 20)\n",
      "2022-03-17 12:41:24.458358 starting: writing array-style template file 'freyberg6_template\\npf_k33_layer2_gr_inst0_grid.csv.tpl'\n",
      "2022-03-17 12:41:24.458358 starting: writing template file freyberg6_template\\npf_k33_layer2_gr_inst0_grid.csv.tpl for ['npf_k33_layer2_gr_inst:0']\n",
      "2022-03-17 12:41:24.470273 finished: writing template file freyberg6_template\\npf_k33_layer2_gr_inst0_grid.csv.tpl for ['npf_k33_layer2_gr_inst:0'] took: 0:00:00.011915\n",
      "2022-03-17 12:41:24.470273 starting: writing array-based template file 'freyberg6_template\\npf_k33_layer2_gr_inst0_grid.csv.tpl'\n"
     ]
    },
    {
     "name": "stdout",
     "output_type": "stream",
     "text": [
      "2022-03-17 12:41:24.471270 saving zone array freyberg6_template\\npf_k33_layer2_gr_inst0_grid.csv.zone for tpl file freyberg6_template\\npf_k33_layer2_gr_inst0_grid.csv.tpl\n",
      "2022-03-17 12:41:24.478287 finished: adding grid type m style parameters for file(s) ['freyberg6.npf_k33_layer2.txt'] took: 0:00:00.027907\n",
      "2022-03-17 12:41:24.479284 starting: adding pilotpoints type m style parameters for file(s) ['freyberg6.npf_k33_layer2.txt']\n",
      "2022-03-17 12:41:24.479284 starting: loading array freyberg6_template\\freyberg6.npf_k33_layer2.txt\n",
      "2022-03-17 12:41:24.480280 finished: loading array freyberg6_template\\freyberg6.npf_k33_layer2.txt took: 0:00:00.000996\n",
      "2022-03-17 12:41:24.480280 loaded array 'freyberg_mf6\\freyberg6.npf_k33_layer2.txt' of shape (40, 20)\n",
      "2022-03-17 12:41:24.482275 starting: writing array-style template file 'freyberg6_template\\npf_k33_layer2_pp_inst0_pilotpoints.csv.tpl'\n",
      "2022-03-17 12:41:24.482275 starting: setting up pilot point parameters\n",
      "2022-03-17 12:41:24.482275 No spatial reference (containing cell spacing) passed.\n",
      "2022-03-17 12:41:24.482275 OK - using spatial reference in parent object.\n"
     ]
    },
    {
     "name": "stdout",
     "output_type": "stream",
     "text": [
      "2022-03-17 12:41:24.550060 32 pilot point parameters created\n",
      "2022-03-17 12:41:24.550060 pilot point 'pargp':npf_k33_layer2_pp\n"
     ]
    },
    {
     "name": "stdout",
     "output_type": "stream",
     "text": [
      "2022-03-17 12:41:24.551091 finished: setting up pilot point parameters took: 0:00:00.068816\n",
      "2022-03-17 12:41:24.557093 starting: writing array-based template file 'freyberg6_template\\npf_k33_layer2_pp_inst0pp.dat.tpl'\n",
      "2022-03-17 12:41:24.558090 saving zone array freyberg6_template\\npf_k33_layer2_pp_inst0pp.dat.zone for tpl file freyberg6_template\\npf_k33_layer2_pp_inst0pp.dat.tpl\n",
      "2022-03-17 12:41:24.563077 finished: adding pilotpoints type m style parameters for file(s) ['freyberg6.npf_k33_layer2.txt'] took: 0:00:00.083793\n",
      "2022-03-17 12:41:24.563077 starting: adding constant type m style parameters for file(s) ['freyberg6.npf_k33_layer2.txt']\n",
      "2022-03-17 12:41:24.563077 starting: loading array freyberg6_template\\freyberg6.npf_k33_layer2.txt\n",
      "2022-03-17 12:41:24.565070 finished: loading array freyberg6_template\\freyberg6.npf_k33_layer2.txt took: 0:00:00.001993\n",
      "2022-03-17 12:41:24.565070 loaded array 'freyberg_mf6\\freyberg6.npf_k33_layer2.txt' of shape (40, 20)\n",
      "2022-03-17 12:41:24.567065 starting: writing array-style template file 'freyberg6_template\\npf_k33_layer2_cn_inst0_constant.csv.tpl'\n",
      "2022-03-17 12:41:24.567065 starting: writing template file freyberg6_template\\npf_k33_layer2_cn_inst0_constant.csv.tpl for ['npf_k33_layer2_cn_inst:0']\n",
      "2022-03-17 12:41:24.573996 finished: writing template file freyberg6_template\\npf_k33_layer2_cn_inst0_constant.csv.tpl for ['npf_k33_layer2_cn_inst:0'] took: 0:00:00.006931\n",
      "2022-03-17 12:41:24.573996 starting: writing array-based template file 'freyberg6_template\\npf_k33_layer2_cn_inst0_constant.csv.tpl'\n",
      "2022-03-17 12:41:24.573996 saving zone array freyberg6_template\\npf_k33_layer2_cn_inst0_constant.csv.zone for tpl file freyberg6_template\\npf_k33_layer2_cn_inst0_constant.csv.tpl\n",
      "2022-03-17 12:41:24.581016 finished: adding constant type m style parameters for file(s) ['freyberg6.npf_k33_layer2.txt'] took: 0:00:00.017939\n",
      "2022-03-17 12:41:24.581016 starting: adding grid type m style parameters for file(s) ['freyberg6.npf_k33_layer3.txt']\n",
      "2022-03-17 12:41:24.581016 starting: loading array freyberg6_template\\freyberg6.npf_k33_layer3.txt\n",
      "2022-03-17 12:41:24.586961 finished: loading array freyberg6_template\\freyberg6.npf_k33_layer3.txt took: 0:00:00.005945\n",
      "2022-03-17 12:41:24.586961 loaded array 'freyberg_mf6\\freyberg6.npf_k33_layer3.txt' of shape (40, 20)\n",
      "2022-03-17 12:41:24.588955 starting: writing array-style template file 'freyberg6_template\\npf_k33_layer3_gr_inst0_grid.csv.tpl'\n",
      "2022-03-17 12:41:24.589955 starting: writing template file freyberg6_template\\npf_k33_layer3_gr_inst0_grid.csv.tpl for ['npf_k33_layer3_gr_inst:0']\n",
      "2022-03-17 12:41:24.601953 finished: writing template file freyberg6_template\\npf_k33_layer3_gr_inst0_grid.csv.tpl for ['npf_k33_layer3_gr_inst:0'] took: 0:00:00.011998\n",
      "2022-03-17 12:41:24.601953 starting: writing array-based template file 'freyberg6_template\\npf_k33_layer3_gr_inst0_grid.csv.tpl'\n"
     ]
    },
    {
     "name": "stdout",
     "output_type": "stream",
     "text": [
      "2022-03-17 12:41:24.601953 saving zone array freyberg6_template\\npf_k33_layer3_gr_inst0_grid.csv.zone for tpl file freyberg6_template\\npf_k33_layer3_gr_inst0_grid.csv.tpl\n",
      "2022-03-17 12:41:24.612924 finished: adding grid type m style parameters for file(s) ['freyberg6.npf_k33_layer3.txt'] took: 0:00:00.031908\n",
      "2022-03-17 12:41:24.613923 starting: adding pilotpoints type m style parameters for file(s) ['freyberg6.npf_k33_layer3.txt']\n",
      "2022-03-17 12:41:24.613923 starting: loading array freyberg6_template\\freyberg6.npf_k33_layer3.txt\n",
      "2022-03-17 12:41:24.614919 finished: loading array freyberg6_template\\freyberg6.npf_k33_layer3.txt took: 0:00:00.000996\n",
      "2022-03-17 12:41:24.614919 loaded array 'freyberg_mf6\\freyberg6.npf_k33_layer3.txt' of shape (40, 20)\n",
      "2022-03-17 12:41:24.616882 starting: writing array-style template file 'freyberg6_template\\npf_k33_layer3_pp_inst0_pilotpoints.csv.tpl'\n",
      "2022-03-17 12:41:24.616882 starting: setting up pilot point parameters\n",
      "2022-03-17 12:41:24.616882 No spatial reference (containing cell spacing) passed.\n",
      "2022-03-17 12:41:24.616882 OK - using spatial reference in parent object.\n"
     ]
    },
    {
     "name": "stdout",
     "output_type": "stream",
     "text": [
      "2022-03-17 12:41:24.689933 32 pilot point parameters created\n",
      "2022-03-17 12:41:24.689933 pilot point 'pargp':npf_k33_layer3_pp\n",
      "2022-03-17 12:41:24.689933 finished: setting up pilot point parameters took: 0:00:00.073051\n",
      "2022-03-17 12:41:24.696949 starting: writing array-based template file 'freyberg6_template\\npf_k33_layer3_pp_inst0pp.dat.tpl'\n",
      "2022-03-17 12:41:24.696949 saving zone array freyberg6_template\\npf_k33_layer3_pp_inst0pp.dat.zone for tpl file freyberg6_template\\npf_k33_layer3_pp_inst0pp.dat.tpl\n",
      "2022-03-17 12:41:24.702900 finished: adding pilotpoints type m style parameters for file(s) ['freyberg6.npf_k33_layer3.txt'] took: 0:00:00.088977\n",
      "2022-03-17 12:41:24.702900 starting: adding constant type m style parameters for file(s) ['freyberg6.npf_k33_layer3.txt']\n",
      "2022-03-17 12:41:24.703930 starting: loading array freyberg6_template\\freyberg6.npf_k33_layer3.txt\n",
      "2022-03-17 12:41:24.704928 finished: loading array freyberg6_template\\freyberg6.npf_k33_layer3.txt took: 0:00:00.000998\n",
      "2022-03-17 12:41:24.704928 loaded array 'freyberg_mf6\\freyberg6.npf_k33_layer3.txt' of shape (40, 20)\n",
      "2022-03-17 12:41:24.706920 starting: writing array-style template file 'freyberg6_template\\npf_k33_layer3_cn_inst0_constant.csv.tpl'\n",
      "2022-03-17 12:41:24.707886 starting: writing template file freyberg6_template\\npf_k33_layer3_cn_inst0_constant.csv.tpl for ['npf_k33_layer3_cn_inst:0']\n",
      "2022-03-17 12:41:24.714899 finished: writing template file freyberg6_template\\npf_k33_layer3_cn_inst0_constant.csv.tpl for ['npf_k33_layer3_cn_inst:0'] took: 0:00:00.007013\n",
      "2022-03-17 12:41:24.714899 starting: writing array-based template file 'freyberg6_template\\npf_k33_layer3_cn_inst0_constant.csv.tpl'\n",
      "2022-03-17 12:41:24.714899 saving zone array freyberg6_template\\npf_k33_layer3_cn_inst0_constant.csv.zone for tpl file freyberg6_template\\npf_k33_layer3_cn_inst0_constant.csv.tpl\n",
      "2022-03-17 12:41:24.720885 finished: adding constant type m style parameters for file(s) ['freyberg6.npf_k33_layer3.txt'] took: 0:00:00.017985\n",
      "2022-03-17 12:41:24.721849 starting: adding grid type m style parameters for file(s) ['freyberg6.sto_ss_layer2.txt']\n",
      "2022-03-17 12:41:24.722846 starting: loading array freyberg6_template\\freyberg6.sto_ss_layer2.txt\n",
      "2022-03-17 12:41:24.727884 finished: loading array freyberg6_template\\freyberg6.sto_ss_layer2.txt took: 0:00:00.005038\n",
      "2022-03-17 12:41:24.727884 loaded array 'freyberg_mf6\\freyberg6.sto_ss_layer2.txt' of shape (40, 20)\n",
      "2022-03-17 12:41:24.729879 starting: writing array-style template file 'freyberg6_template\\sto_ss_layer2_gr_inst0_grid.csv.tpl'\n",
      "2022-03-17 12:41:24.729879 starting: writing template file freyberg6_template\\sto_ss_layer2_gr_inst0_grid.csv.tpl for ['sto_ss_layer2_gr_inst:0']\n",
      "2022-03-17 12:41:24.743824 finished: writing template file freyberg6_template\\sto_ss_layer2_gr_inst0_grid.csv.tpl for ['sto_ss_layer2_gr_inst:0'] took: 0:00:00.013945\n",
      "2022-03-17 12:41:24.743824 starting: writing array-based template file 'freyberg6_template\\sto_ss_layer2_gr_inst0_grid.csv.tpl'\n",
      "2022-03-17 12:41:24.743824 saving zone array freyberg6_template\\sto_ss_layer2_gr_inst0_grid.csv.zone for tpl file freyberg6_template\\sto_ss_layer2_gr_inst0_grid.csv.tpl\n"
     ]
    },
    {
     "name": "stdout",
     "output_type": "stream",
     "text": [
      "2022-03-17 12:41:24.750805 finished: adding grid type m style parameters for file(s) ['freyberg6.sto_ss_layer2.txt'] took: 0:00:00.028956\n",
      "2022-03-17 12:41:24.750805 starting: adding pilotpoints type m style parameters for file(s) ['freyberg6.sto_ss_layer2.txt']\n",
      "2022-03-17 12:41:24.750805 starting: loading array freyberg6_template\\freyberg6.sto_ss_layer2.txt\n",
      "2022-03-17 12:41:24.752765 finished: loading array freyberg6_template\\freyberg6.sto_ss_layer2.txt took: 0:00:00.001960\n",
      "2022-03-17 12:41:24.752765 loaded array 'freyberg_mf6\\freyberg6.sto_ss_layer2.txt' of shape (40, 20)\n",
      "2022-03-17 12:41:24.754801 starting: writing array-style template file 'freyberg6_template\\sto_ss_layer2_pp_inst0_pilotpoints.csv.tpl'\n",
      "2022-03-17 12:41:24.754801 starting: setting up pilot point parameters\n",
      "2022-03-17 12:41:24.754801 No spatial reference (containing cell spacing) passed.\n",
      "2022-03-17 12:41:24.754801 OK - using spatial reference in parent object.\n"
     ]
    },
    {
     "name": "stdout",
     "output_type": "stream",
     "text": [
      "2022-03-17 12:41:24.824624 32 pilot point parameters created\n",
      "2022-03-17 12:41:24.824624 pilot point 'pargp':sto_ss_layer2_pp\n",
      "2022-03-17 12:41:24.824624 finished: setting up pilot point parameters took: 0:00:00.069823\n",
      "2022-03-17 12:41:24.831555 starting: writing array-based template file 'freyberg6_template\\sto_ss_layer2_pp_inst0pp.dat.tpl'\n",
      "2022-03-17 12:41:24.831555 saving zone array freyberg6_template\\sto_ss_layer2_pp_inst0pp.dat.zone for tpl file freyberg6_template\\sto_ss_layer2_pp_inst0pp.dat.tpl\n",
      "2022-03-17 12:41:24.837590 finished: adding pilotpoints type m style parameters for file(s) ['freyberg6.sto_ss_layer2.txt'] took: 0:00:00.086785\n",
      "2022-03-17 12:41:24.837590 starting: adding constant type m style parameters for file(s) ['freyberg6.sto_ss_layer2.txt']\n",
      "2022-03-17 12:41:24.837590 starting: loading array freyberg6_template\\freyberg6.sto_ss_layer2.txt\n",
      "2022-03-17 12:41:24.839533 finished: loading array freyberg6_template\\freyberg6.sto_ss_layer2.txt took: 0:00:00.001943\n",
      "2022-03-17 12:41:24.839533 loaded array 'freyberg_mf6\\freyberg6.sto_ss_layer2.txt' of shape (40, 20)\n",
      "2022-03-17 12:41:24.841579 starting: writing array-style template file 'freyberg6_template\\sto_ss_layer2_cn_inst0_constant.csv.tpl'\n",
      "2022-03-17 12:41:24.841579 starting: writing template file freyberg6_template\\sto_ss_layer2_cn_inst0_constant.csv.tpl for ['sto_ss_layer2_cn_inst:0']\n",
      "2022-03-17 12:41:24.848549 finished: writing template file freyberg6_template\\sto_ss_layer2_cn_inst0_constant.csv.tpl for ['sto_ss_layer2_cn_inst:0'] took: 0:00:00.006970\n",
      "2022-03-17 12:41:24.848549 starting: writing array-based template file 'freyberg6_template\\sto_ss_layer2_cn_inst0_constant.csv.tpl'\n",
      "2022-03-17 12:41:24.848549 saving zone array freyberg6_template\\sto_ss_layer2_cn_inst0_constant.csv.zone for tpl file freyberg6_template\\sto_ss_layer2_cn_inst0_constant.csv.tpl\n",
      "2022-03-17 12:41:24.854526 finished: adding constant type m style parameters for file(s) ['freyberg6.sto_ss_layer2.txt'] took: 0:00:00.016936\n",
      "2022-03-17 12:41:24.854526 starting: adding grid type m style parameters for file(s) ['freyberg6.sto_ss_layer3.txt']\n",
      "2022-03-17 12:41:24.854526 starting: loading array freyberg6_template\\freyberg6.sto_ss_layer3.txt\n",
      "2022-03-17 12:41:24.860510 finished: loading array freyberg6_template\\freyberg6.sto_ss_layer3.txt took: 0:00:00.005984\n",
      "2022-03-17 12:41:24.860510 loaded array 'freyberg_mf6\\freyberg6.sto_ss_layer3.txt' of shape (40, 20)\n",
      "2022-03-17 12:41:24.862523 starting: writing array-style template file 'freyberg6_template\\sto_ss_layer3_gr_inst0_grid.csv.tpl'\n",
      "2022-03-17 12:41:24.862523 starting: writing template file freyberg6_template\\sto_ss_layer3_gr_inst0_grid.csv.tpl for ['sto_ss_layer3_gr_inst:0']\n",
      "2022-03-17 12:41:24.875489 finished: writing template file freyberg6_template\\sto_ss_layer3_gr_inst0_grid.csv.tpl for ['sto_ss_layer3_gr_inst:0'] took: 0:00:00.012966\n",
      "2022-03-17 12:41:24.875489 starting: writing array-based template file 'freyberg6_template\\sto_ss_layer3_gr_inst0_grid.csv.tpl'\n",
      "2022-03-17 12:41:24.875489 saving zone array freyberg6_template\\sto_ss_layer3_gr_inst0_grid.csv.zone for tpl file freyberg6_template\\sto_ss_layer3_gr_inst0_grid.csv.tpl\n",
      "2022-03-17 12:41:24.882470 finished: adding grid type m style parameters for file(s) ['freyberg6.sto_ss_layer3.txt'] took: 0:00:00.027944\n",
      "2022-03-17 12:41:24.882470 starting: adding pilotpoints type m style parameters for file(s) ['freyberg6.sto_ss_layer3.txt']\n",
      "2022-03-17 12:41:24.882470 starting: loading array freyberg6_template\\freyberg6.sto_ss_layer3.txt\n"
     ]
    },
    {
     "name": "stdout",
     "output_type": "stream",
     "text": [
      "2022-03-17 12:41:24.884448 finished: loading array freyberg6_template\\freyberg6.sto_ss_layer3.txt took: 0:00:00.001978\n",
      "2022-03-17 12:41:24.884448 loaded array 'freyberg_mf6\\freyberg6.sto_ss_layer3.txt' of shape (40, 20)\n",
      "2022-03-17 12:41:24.886442 starting: writing array-style template file 'freyberg6_template\\sto_ss_layer3_pp_inst0_pilotpoints.csv.tpl'\n",
      "2022-03-17 12:41:24.886442 starting: setting up pilot point parameters\n",
      "2022-03-17 12:41:24.886442 No spatial reference (containing cell spacing) passed.\n",
      "2022-03-17 12:41:24.886442 OK - using spatial reference in parent object.\n"
     ]
    },
    {
     "name": "stdout",
     "output_type": "stream",
     "text": [
      "2022-03-17 12:41:24.961210 32 pilot point parameters created\n",
      "2022-03-17 12:41:24.961210 pilot point 'pargp':sto_ss_layer3_pp\n",
      "2022-03-17 12:41:24.961210 finished: setting up pilot point parameters took: 0:00:00.074768\n",
      "2022-03-17 12:41:24.969189 starting: writing array-based template file 'freyberg6_template\\sto_ss_layer3_pp_inst0pp.dat.tpl'\n",
      "2022-03-17 12:41:24.969189 saving zone array freyberg6_template\\sto_ss_layer3_pp_inst0pp.dat.zone for tpl file freyberg6_template\\sto_ss_layer3_pp_inst0pp.dat.tpl\n",
      "2022-03-17 12:41:24.980159 finished: adding pilotpoints type m style parameters for file(s) ['freyberg6.sto_ss_layer3.txt'] took: 0:00:00.097689\n",
      "2022-03-17 12:41:24.981157 starting: adding constant type m style parameters for file(s) ['freyberg6.sto_ss_layer3.txt']\n",
      "2022-03-17 12:41:24.981157 starting: loading array freyberg6_template\\freyberg6.sto_ss_layer3.txt\n",
      "2022-03-17 12:41:24.982154 finished: loading array freyberg6_template\\freyberg6.sto_ss_layer3.txt took: 0:00:00.000997\n",
      "2022-03-17 12:41:24.983152 loaded array 'freyberg_mf6\\freyberg6.sto_ss_layer3.txt' of shape (40, 20)\n",
      "2022-03-17 12:41:24.985146 starting: writing array-style template file 'freyberg6_template\\sto_ss_layer3_cn_inst0_constant.csv.tpl'\n",
      "2022-03-17 12:41:24.985146 starting: writing template file freyberg6_template\\sto_ss_layer3_cn_inst0_constant.csv.tpl for ['sto_ss_layer3_cn_inst:0']\n",
      "2022-03-17 12:41:24.997112 finished: writing template file freyberg6_template\\sto_ss_layer3_cn_inst0_constant.csv.tpl for ['sto_ss_layer3_cn_inst:0'] took: 0:00:00.011966\n",
      "2022-03-17 12:41:24.997112 starting: writing array-based template file 'freyberg6_template\\sto_ss_layer3_cn_inst0_constant.csv.tpl'\n",
      "2022-03-17 12:41:24.997112 saving zone array freyberg6_template\\sto_ss_layer3_cn_inst0_constant.csv.zone for tpl file freyberg6_template\\sto_ss_layer3_cn_inst0_constant.csv.tpl\n",
      "2022-03-17 12:41:25.004093 finished: adding constant type m style parameters for file(s) ['freyberg6.sto_ss_layer3.txt'] took: 0:00:00.022936\n"
     ]
    },
    {
     "name": "stdout",
     "output_type": "stream",
     "text": [
      "2022-03-17 12:41:25.006123 starting: adding grid type m style parameters for file(s) ['freyberg6.sto_sy_layer1.txt']\n",
      "2022-03-17 12:41:25.007086 starting: loading array freyberg6_template\\freyberg6.sto_sy_layer1.txt\n",
      "2022-03-17 12:41:25.013070 finished: loading array freyberg6_template\\freyberg6.sto_sy_layer1.txt took: 0:00:00.005984\n",
      "2022-03-17 12:41:25.013070 loaded array 'freyberg_mf6\\freyberg6.sto_sy_layer1.txt' of shape (40, 20)\n",
      "2022-03-17 12:41:25.016064 starting: writing array-style template file 'freyberg6_template\\sto_sy_layer1_gr_inst0_grid.csv.tpl'\n",
      "2022-03-17 12:41:25.016064 starting: writing template file freyberg6_template\\sto_sy_layer1_gr_inst0_grid.csv.tpl for ['sto_sy_layer1_gr_inst:0']\n",
      "2022-03-17 12:41:25.030050 finished: writing template file freyberg6_template\\sto_sy_layer1_gr_inst0_grid.csv.tpl for ['sto_sy_layer1_gr_inst:0'] took: 0:00:00.013986\n",
      "2022-03-17 12:41:25.030050 starting: writing array-based template file 'freyberg6_template\\sto_sy_layer1_gr_inst0_grid.csv.tpl'\n",
      "2022-03-17 12:41:25.030050 saving zone array freyberg6_template\\sto_sy_layer1_gr_inst0_grid.csv.zone for tpl file freyberg6_template\\sto_sy_layer1_gr_inst0_grid.csv.tpl\n",
      "2022-03-17 12:41:25.038004 finished: adding grid type m style parameters for file(s) ['freyberg6.sto_sy_layer1.txt'] took: 0:00:00.031881\n",
      "2022-03-17 12:41:25.038004 starting: adding pilotpoints type m style parameters for file(s) ['freyberg6.sto_sy_layer1.txt']\n",
      "2022-03-17 12:41:25.039001 starting: loading array freyberg6_template\\freyberg6.sto_sy_layer1.txt\n",
      "2022-03-17 12:41:25.040995 finished: loading array freyberg6_template\\freyberg6.sto_sy_layer1.txt took: 0:00:00.001994\n",
      "2022-03-17 12:41:25.040995 loaded array 'freyberg_mf6\\freyberg6.sto_sy_layer1.txt' of shape (40, 20)\n",
      "2022-03-17 12:41:25.042990 starting: writing array-style template file 'freyberg6_template\\sto_sy_layer1_pp_inst0_pilotpoints.csv.tpl'\n",
      "2022-03-17 12:41:25.042990 starting: setting up pilot point parameters\n",
      "2022-03-17 12:41:25.042990 No spatial reference (containing cell spacing) passed.\n",
      "2022-03-17 12:41:25.042990 OK - using spatial reference in parent object.\n"
     ]
    },
    {
     "name": "stdout",
     "output_type": "stream",
     "text": [
      "2022-03-17 12:41:25.111805 32 pilot point parameters created\n",
      "2022-03-17 12:41:25.112803 pilot point 'pargp':sto_sy_layer1_pp\n",
      "2022-03-17 12:41:25.112803 finished: setting up pilot point parameters took: 0:00:00.069813\n",
      "2022-03-17 12:41:25.118819 starting: writing array-based template file 'freyberg6_template\\sto_sy_layer1_pp_inst0pp.dat.tpl'\n",
      "2022-03-17 12:41:25.118819 saving zone array freyberg6_template\\sto_sy_layer1_pp_inst0pp.dat.zone for tpl file freyberg6_template\\sto_sy_layer1_pp_inst0pp.dat.tpl\n",
      "2022-03-17 12:41:25.124771 finished: adding pilotpoints type m style parameters for file(s) ['freyberg6.sto_sy_layer1.txt'] took: 0:00:00.086767\n",
      "2022-03-17 12:41:25.124771 starting: adding constant type m style parameters for file(s) ['freyberg6.sto_sy_layer1.txt']\n",
      "2022-03-17 12:41:25.124771 starting: loading array freyberg6_template\\freyberg6.sto_sy_layer1.txt\n",
      "2022-03-17 12:41:25.126766 finished: loading array freyberg6_template\\freyberg6.sto_sy_layer1.txt took: 0:00:00.001995\n",
      "2022-03-17 12:41:25.126766 loaded array 'freyberg_mf6\\freyberg6.sto_sy_layer1.txt' of shape (40, 20)\n",
      "2022-03-17 12:41:25.128760 starting: writing array-style template file 'freyberg6_template\\sto_sy_layer1_cn_inst0_constant.csv.tpl'\n",
      "2022-03-17 12:41:25.128760 starting: writing template file freyberg6_template\\sto_sy_layer1_cn_inst0_constant.csv.tpl for ['sto_sy_layer1_cn_inst:0']\n",
      "2022-03-17 12:41:25.135741 finished: writing template file freyberg6_template\\sto_sy_layer1_cn_inst0_constant.csv.tpl for ['sto_sy_layer1_cn_inst:0'] took: 0:00:00.006981\n",
      "2022-03-17 12:41:25.135741 starting: writing array-based template file 'freyberg6_template\\sto_sy_layer1_cn_inst0_constant.csv.tpl'\n",
      "2022-03-17 12:41:25.136739 saving zone array freyberg6_template\\sto_sy_layer1_cn_inst0_constant.csv.zone for tpl file freyberg6_template\\sto_sy_layer1_cn_inst0_constant.csv.tpl\n",
      "2022-03-17 12:41:25.142723 finished: adding constant type m style parameters for file(s) ['freyberg6.sto_sy_layer1.txt'] took: 0:00:00.017952\n"
     ]
    }
   ],
   "source": [
    "# for Kv\n",
    "tag = \"npf_k33\"\n",
    "files = [f for f in os.listdir(template_ws) if tag in f.lower() and f.endswith(\".txt\")]\n",
    "for f in files:\n",
    "    add_mult_pars(f, lb=0.2, ub=5.0, ulb=0.01, uub=100)\n",
    "\n",
    "# for Ss\n",
    "tag = \"sto_ss\"\n",
    "files = [f for f in os.listdir(template_ws) if tag in f.lower() and f.endswith(\".txt\")]\n",
    "# only for layer 2 and 3; we aren't monsters\n",
    "for f in files[1:]: \n",
    "    add_mult_pars(f, lb=0.2, ub=5.0, ulb=1e-6, uub=1e-3)\n",
    "\n",
    "# For Sy\n",
    "tag = \"sto_sy\"\n",
    "files = [f for f in os.listdir(template_ws) if tag in f.lower() and f.endswith(\".txt\")]\n",
    "# only for layer 1\n",
    "f = files[0]\n",
    "add_mult_pars(f, lb=0.2, ub=5.0, ulb=0.01, uub=0.4)\n"
   ]
  },
  {
   "cell_type": "markdown",
   "metadata": {},
   "source": [
    "#### 5.3.2. Spatial and Temporal Correlation\n",
    "\n",
    "Now, you may be thinking \"shouldn't recharge have temporal correlation as well?\". \n",
    "\n",
    "Damn straight it should. Now, this requires a little trickery.\n",
    "\n",
    "First we need to construct a container of stress period datetimes. (This relies on specifying the start_datetime argument when instantiating `PstFrom`.) These datetime values will specify the postion of parameters on the time-axis.\n",
    "\n"
   ]
  },
  {
   "cell_type": "code",
   "execution_count": 27,
   "metadata": {
    "execution": {
     "iopub.execute_input": "2022-03-17T02:11:25.155688Z",
     "iopub.status.busy": "2022-03-17T02:11:25.154717Z",
     "iopub.status.idle": "2022-03-17T02:11:25.157682Z",
     "shell.execute_reply": "2022-03-17T02:11:25.157682Z"
    }
   },
   "outputs": [
    {
     "data": {
      "text/plain": [
       "DatetimeIndex(['2018-01-02', '2018-02-02', '2018-03-03', '2018-04-03',\n",
       "               '2018-05-03', '2018-06-03', '2018-07-03', '2018-08-03',\n",
       "               '2018-09-03', '2018-10-03', '2018-11-03', '2018-12-03',\n",
       "               '2019-01-03', '2019-02-03', '2019-03-03', '2019-04-03',\n",
       "               '2019-05-03', '2019-06-03', '2019-07-03', '2019-08-03',\n",
       "               '2019-09-03', '2019-10-03', '2019-11-03', '2019-12-03',\n",
       "               '2020-01-03'],\n",
       "              dtype='datetime64[ns]', freq=None)"
      ]
     },
     "execution_count": 27,
     "metadata": {},
     "output_type": "execute_result"
    }
   ],
   "source": [
    "# build up a container of stress period start datetimes - this will\n",
    "# be used to specify the datetime of each multipler parameter\n",
    "start_datetime=\"1-1-2018\"\n",
    "dts = pd.to_datetime(start_datetime) + pd.to_timedelta(np.cumsum(sim.tdis.perioddata.array[\"perlen\"]),unit='d')\n",
    "\n",
    "dts"
   ]
  },
  {
   "cell_type": "markdown",
   "metadata": {},
   "source": [
    "If you use the same parameter group name (`pargp`) and same geostruct, `PstFrom` will treat parameters setup across different calls to `add_parameters()` as correlated.  In this case, we want to express temporal correlation in the recharge multiplier parameters. So, we use the same parameter group names for each stress period data file, and specify the `datetime` and `geostruct` arguments.\n",
    "\n",
    "Including temporal correlation introduces an additional challenge. Interpolation between points that share a common coordinate creates all types of trouble. We are going to have many parameters during each stress period (a single point on the time-axis). To get around this challenge we need to be a bit sneaky.\n",
    "\n",
    "\n",
    "First, we will apply the multiple *spatial* scales of parameter multiplers (`constant`, `pilot point` and `grid`) as we did for hyraulic properties. \n",
    "\n",
    "Then, we will asign an additional `constant` multiplier parameter for each recharge stress-period file (so, a single multiplier for all recharge paramaters for each stress period). We will specify temporal correlation for these `constant` multipliers. These will all have the same parameter group name, as discussed above. "
   ]
  },
  {
   "cell_type": "code",
   "execution_count": 28,
   "metadata": {
    "execution": {
     "iopub.execute_input": "2022-03-17T02:11:25.163697Z",
     "iopub.status.busy": "2022-03-17T02:11:25.162694Z",
     "iopub.status.idle": "2022-03-17T02:11:28.995496Z",
     "shell.execute_reply": "2022-03-17T02:11:28.995496Z"
    }
   },
   "outputs": [
    {
     "name": "stdout",
     "output_type": "stream",
     "text": [
      "2022-03-17 12:41:25.163697 starting: adding grid type m style parameters for file(s) ['freyberg6.rch_recharge_1.txt']\n",
      "2022-03-17 12:41:25.163697 starting: loading array freyberg6_template\\freyberg6.rch_recharge_1.txt\n",
      "2022-03-17 12:41:25.168678 finished: loading array freyberg6_template\\freyberg6.rch_recharge_1.txt took: 0:00:00.004981\n",
      "2022-03-17 12:41:25.168678 loaded array 'freyberg_mf6\\freyberg6.rch_recharge_1.txt' of shape (40, 20)\n",
      "2022-03-17 12:41:25.170681 starting: writing array-style template file 'freyberg6_template\\rch_recharge_1_gr_inst0_grid.csv.tpl'\n",
      "2022-03-17 12:41:25.170681 starting: writing template file freyberg6_template\\rch_recharge_1_gr_inst0_grid.csv.tpl for ['rch_recharge_1_gr_inst:0']\n",
      "2022-03-17 12:41:25.183647 finished: writing template file freyberg6_template\\rch_recharge_1_gr_inst0_grid.csv.tpl for ['rch_recharge_1_gr_inst:0'] took: 0:00:00.012966\n",
      "2022-03-17 12:41:25.183647 starting: writing array-based template file 'freyberg6_template\\rch_recharge_1_gr_inst0_grid.csv.tpl'\n",
      "2022-03-17 12:41:25.183647 saving zone array freyberg6_template\\rch_recharge_1_gr_inst0_grid.csv.zone for tpl file freyberg6_template\\rch_recharge_1_gr_inst0_grid.csv.tpl\n",
      "2022-03-17 12:41:25.191626 finished: adding grid type m style parameters for file(s) ['freyberg6.rch_recharge_1.txt'] took: 0:00:00.027929\n",
      "2022-03-17 12:41:25.191626 starting: adding pilotpoints type m style parameters for file(s) ['freyberg6.rch_recharge_1.txt']\n",
      "2022-03-17 12:41:25.191626 starting: loading array freyberg6_template\\freyberg6.rch_recharge_1.txt\n"
     ]
    },
    {
     "name": "stdout",
     "output_type": "stream",
     "text": [
      "2022-03-17 12:41:25.193621 finished: loading array freyberg6_template\\freyberg6.rch_recharge_1.txt took: 0:00:00.001995\n",
      "2022-03-17 12:41:25.193621 loaded array 'freyberg_mf6\\freyberg6.rch_recharge_1.txt' of shape (40, 20)\n",
      "2022-03-17 12:41:25.195615 starting: writing array-style template file 'freyberg6_template\\rch_recharge_1_pp_inst0_pilotpoints.csv.tpl'\n",
      "2022-03-17 12:41:25.195615 starting: setting up pilot point parameters\n",
      "2022-03-17 12:41:25.195615 No spatial reference (containing cell spacing) passed.\n",
      "2022-03-17 12:41:25.195615 OK - using spatial reference in parent object.\n",
      "2022-03-17 12:41:25.265445 32 pilot point parameters created\n",
      "2022-03-17 12:41:25.265445 pilot point 'pargp':rch_recharge_1_pp\n",
      "2022-03-17 12:41:25.265445 finished: setting up pilot point parameters took: 0:00:00.069830\n",
      "2022-03-17 12:41:25.271422 starting: writing array-based template file 'freyberg6_template\\rch_recharge_1_pp_inst0pp.dat.tpl'\n",
      "2022-03-17 12:41:25.272387 saving zone array freyberg6_template\\rch_recharge_1_pp_inst0pp.dat.zone for tpl file freyberg6_template\\rch_recharge_1_pp_inst0pp.dat.tpl\n",
      "2022-03-17 12:41:25.277420 finished: adding pilotpoints type m style parameters for file(s) ['freyberg6.rch_recharge_1.txt'] took: 0:00:00.085794\n",
      "2022-03-17 12:41:25.277420 starting: adding constant type m style parameters for file(s) ['freyberg6.rch_recharge_1.txt']\n",
      "2022-03-17 12:41:25.277420 starting: loading array freyberg6_template\\freyberg6.rch_recharge_1.txt\n",
      "2022-03-17 12:41:25.279408 finished: loading array freyberg6_template\\freyberg6.rch_recharge_1.txt took: 0:00:00.001988\n",
      "2022-03-17 12:41:25.279408 loaded array 'freyberg_mf6\\freyberg6.rch_recharge_1.txt' of shape (40, 20)\n",
      "2022-03-17 12:41:25.281404 starting: writing array-style template file 'freyberg6_template\\rch_recharge_1_cn_inst0_constant.csv.tpl'\n",
      "2022-03-17 12:41:25.281404 starting: writing template file freyberg6_template\\rch_recharge_1_cn_inst0_constant.csv.tpl for ['rch_recharge_1_cn_inst:0']\n",
      "2022-03-17 12:41:25.288384 finished: writing template file freyberg6_template\\rch_recharge_1_cn_inst0_constant.csv.tpl for ['rch_recharge_1_cn_inst:0'] took: 0:00:00.006980\n",
      "2022-03-17 12:41:25.288384 starting: writing array-based template file 'freyberg6_template\\rch_recharge_1_cn_inst0_constant.csv.tpl'\n",
      "2022-03-17 12:41:25.288384 saving zone array freyberg6_template\\rch_recharge_1_cn_inst0_constant.csv.zone for tpl file freyberg6_template\\rch_recharge_1_cn_inst0_constant.csv.tpl\n",
      "2022-03-17 12:41:25.294369 finished: adding constant type m style parameters for file(s) ['freyberg6.rch_recharge_1.txt'] took: 0:00:00.016949\n",
      "2022-03-17 12:41:25.294369 starting: adding constant type m style parameters for file(s) ['freyberg6.rch_recharge_1.txt']\n",
      "2022-03-17 12:41:25.294369 WARNING: 0) Inconsistency between geostruct transform and partrans.\n",
      "2022-03-17 12:41:25.294369 WARNING: 1) Setting geostruct transform to {transform}\n",
      "2022-03-17 12:41:25.295369 WARNING: -) Better to pass an appropriately transformed geostruct\n",
      "2022-03-17 12:41:25.295369 starting: loading array freyberg6_template\\freyberg6.rch_recharge_1.txt\n",
      "2022-03-17 12:41:25.296376 finished: loading array freyberg6_template\\freyberg6.rch_recharge_1.txt took: 0:00:00.001007\n",
      "2022-03-17 12:41:25.296376 loaded array 'freyberg_mf6\\freyberg6.rch_recharge_1.txt' of shape (40, 20)\n",
      "2022-03-17 12:41:25.298358 starting: writing array-style template file 'freyberg6_template\\rch_recharge_1_tcn_inst0_constant.csv.tpl'\n",
      "2022-03-17 12:41:25.298358 starting: writing template file freyberg6_template\\rch_recharge_1_tcn_inst0_constant.csv.tpl for ['rch_recharge_1_tcn_inst:0']\n"
     ]
    },
    {
     "name": "stdout",
     "output_type": "stream",
     "text": [
      "2022-03-17 12:41:25.306285 finished: writing template file freyberg6_template\\rch_recharge_1_tcn_inst0_constant.csv.tpl for ['rch_recharge_1_tcn_inst:0'] took: 0:00:00.007927\n",
      "2022-03-17 12:41:25.307316 starting: writing array-based template file 'freyberg6_template\\rch_recharge_1_tcn_inst0_constant.csv.tpl'\n",
      "2022-03-17 12:41:25.307316 saving zone array freyberg6_template\\rch_recharge_1_tcn_inst0_constant.csv.zone for tpl file freyberg6_template\\rch_recharge_1_tcn_inst0_constant.csv.tpl\n",
      "2022-03-17 12:41:25.314320 finished: adding constant type m style parameters for file(s) ['freyberg6.rch_recharge_1.txt'] took: 0:00:00.019951\n",
      "2022-03-17 12:41:25.314320 starting: adding grid type m style parameters for file(s) ['freyberg6.rch_recharge_10.txt']\n",
      "2022-03-17 12:41:25.314320 starting: loading array freyberg6_template\\freyberg6.rch_recharge_10.txt\n",
      "2022-03-17 12:41:25.320305 finished: loading array freyberg6_template\\freyberg6.rch_recharge_10.txt took: 0:00:00.005985\n",
      "2022-03-17 12:41:25.320305 loaded array 'freyberg_mf6\\freyberg6.rch_recharge_10.txt' of shape (40, 20)\n",
      "2022-03-17 12:41:25.322306 starting: writing array-style template file 'freyberg6_template\\rch_recharge_10_gr_inst0_grid.csv.tpl'\n",
      "2022-03-17 12:41:25.322306 starting: writing template file freyberg6_template\\rch_recharge_10_gr_inst0_grid.csv.tpl for ['rch_recharge_10_gr_inst:0']\n",
      "2022-03-17 12:41:25.334247 finished: writing template file freyberg6_template\\rch_recharge_10_gr_inst0_grid.csv.tpl for ['rch_recharge_10_gr_inst:0'] took: 0:00:00.011941\n",
      "2022-03-17 12:41:25.334247 starting: writing array-based template file 'freyberg6_template\\rch_recharge_10_gr_inst0_grid.csv.tpl'\n",
      "2022-03-17 12:41:25.335209 saving zone array freyberg6_template\\rch_recharge_10_gr_inst0_grid.csv.zone for tpl file freyberg6_template\\rch_recharge_10_gr_inst0_grid.csv.tpl\n",
      "2022-03-17 12:41:25.342242 finished: adding grid type m style parameters for file(s) ['freyberg6.rch_recharge_10.txt'] took: 0:00:00.027922\n",
      "2022-03-17 12:41:25.342242 starting: adding pilotpoints type m style parameters for file(s) ['freyberg6.rch_recharge_10.txt']\n",
      "2022-03-17 12:41:25.342242 starting: loading array freyberg6_template\\freyberg6.rch_recharge_10.txt\n",
      "2022-03-17 12:41:25.344217 finished: loading array freyberg6_template\\freyberg6.rch_recharge_10.txt took: 0:00:00.001975\n",
      "2022-03-17 12:41:25.344217 loaded array 'freyberg_mf6\\freyberg6.rch_recharge_10.txt' of shape (40, 20)\n",
      "2022-03-17 12:41:25.346225 starting: writing array-style template file 'freyberg6_template\\rch_recharge_10_pp_inst0_pilotpoints.csv.tpl'\n",
      "2022-03-17 12:41:25.346225 starting: setting up pilot point parameters\n",
      "2022-03-17 12:41:25.346225 No spatial reference (containing cell spacing) passed.\n"
     ]
    },
    {
     "name": "stdout",
     "output_type": "stream",
     "text": [
      "2022-03-17 12:41:25.346225 OK - using spatial reference in parent object.\n"
     ]
    },
    {
     "name": "stdout",
     "output_type": "stream",
     "text": [
      "2022-03-17 12:41:25.417022 32 pilot point parameters created\n",
      "2022-03-17 12:41:25.417022 pilot point 'pargp':rch_recharge_10_pp\n",
      "2022-03-17 12:41:25.417022 finished: setting up pilot point parameters took: 0:00:00.070797\n",
      "2022-03-17 12:41:25.424003 starting: writing array-based template file 'freyberg6_template\\rch_recharge_10_pp_inst0pp.dat.tpl'\n",
      "2022-03-17 12:41:25.424003 saving zone array freyberg6_template\\rch_recharge_10_pp_inst0pp.dat.zone for tpl file freyberg6_template\\rch_recharge_10_pp_inst0pp.dat.tpl\n",
      "2022-03-17 12:41:25.428997 finished: adding pilotpoints type m style parameters for file(s) ['freyberg6.rch_recharge_10.txt'] took: 0:00:00.086755\n",
      "2022-03-17 12:41:25.428997 starting: adding constant type m style parameters for file(s) ['freyberg6.rch_recharge_10.txt']\n",
      "2022-03-17 12:41:25.428997 starting: loading array freyberg6_template\\freyberg6.rch_recharge_10.txt\n",
      "2022-03-17 12:41:25.430989 finished: loading array freyberg6_template\\freyberg6.rch_recharge_10.txt took: 0:00:00.001992\n",
      "2022-03-17 12:41:25.430989 loaded array 'freyberg_mf6\\freyberg6.rch_recharge_10.txt' of shape (40, 20)\n",
      "2022-03-17 12:41:25.432983 starting: writing array-style template file 'freyberg6_template\\rch_recharge_10_cn_inst0_constant.csv.tpl'\n",
      "2022-03-17 12:41:25.432983 starting: writing template file freyberg6_template\\rch_recharge_10_cn_inst0_constant.csv.tpl for ['rch_recharge_10_cn_inst:0']\n",
      "2022-03-17 12:41:25.439960 finished: writing template file freyberg6_template\\rch_recharge_10_cn_inst0_constant.csv.tpl for ['rch_recharge_10_cn_inst:0'] took: 0:00:00.006977\n",
      "2022-03-17 12:41:25.439960 starting: writing array-based template file 'freyberg6_template\\rch_recharge_10_cn_inst0_constant.csv.tpl'\n",
      "2022-03-17 12:41:25.439960 saving zone array freyberg6_template\\rch_recharge_10_cn_inst0_constant.csv.zone for tpl file freyberg6_template\\rch_recharge_10_cn_inst0_constant.csv.tpl\n",
      "2022-03-17 12:41:25.446943 finished: adding constant type m style parameters for file(s) ['freyberg6.rch_recharge_10.txt'] took: 0:00:00.017946\n",
      "2022-03-17 12:41:25.446943 starting: adding constant type m style parameters for file(s) ['freyberg6.rch_recharge_10.txt']\n",
      "2022-03-17 12:41:25.446943 starting: loading array freyberg6_template\\freyberg6.rch_recharge_10.txt\n",
      "2022-03-17 12:41:25.447960 finished: loading array freyberg6_template\\freyberg6.rch_recharge_10.txt took: 0:00:00.001017\n",
      "2022-03-17 12:41:25.447960 loaded array 'freyberg_mf6\\freyberg6.rch_recharge_10.txt' of shape (40, 20)\n",
      "2022-03-17 12:41:25.450897 starting: writing array-style template file 'freyberg6_template\\rch_recharge_10_tcn_inst0_constant.csv.tpl'\n",
      "2022-03-17 12:41:25.450897 starting: writing template file freyberg6_template\\rch_recharge_10_tcn_inst0_constant.csv.tpl for ['rch_recharge_10_tcn_inst:0']\n",
      "2022-03-17 12:41:25.458878 finished: writing template file freyberg6_template\\rch_recharge_10_tcn_inst0_constant.csv.tpl for ['rch_recharge_10_tcn_inst:0'] took: 0:00:00.007981\n",
      "2022-03-17 12:41:25.458878 starting: writing array-based template file 'freyberg6_template\\rch_recharge_10_tcn_inst0_constant.csv.tpl'\n",
      "2022-03-17 12:41:25.459876 saving zone array freyberg6_template\\rch_recharge_10_tcn_inst0_constant.csv.zone for tpl file freyberg6_template\\rch_recharge_10_tcn_inst0_constant.csv.tpl\n",
      "2022-03-17 12:41:25.467885 finished: adding constant type m style parameters for file(s) ['freyberg6.rch_recharge_10.txt'] took: 0:00:00.020942\n",
      "2022-03-17 12:41:25.467885 starting: adding grid type m style parameters for file(s) ['freyberg6.rch_recharge_11.txt']\n",
      "2022-03-17 12:41:25.467885 starting: loading array freyberg6_template\\freyberg6.rch_recharge_11.txt\n",
      "2022-03-17 12:41:25.473837 finished: loading array freyberg6_template\\freyberg6.rch_recharge_11.txt took: 0:00:00.005952\n",
      "2022-03-17 12:41:25.473837 loaded array 'freyberg_mf6\\freyberg6.rch_recharge_11.txt' of shape (40, 20)\n",
      "2022-03-17 12:41:25.475832 starting: writing array-style template file 'freyberg6_template\\rch_recharge_11_gr_inst0_grid.csv.tpl'\n",
      "2022-03-17 12:41:25.476829 starting: writing template file freyberg6_template\\rch_recharge_11_gr_inst0_grid.csv.tpl for ['rch_recharge_11_gr_inst:0']\n",
      "2022-03-17 12:41:25.488830 finished: writing template file freyberg6_template\\rch_recharge_11_gr_inst0_grid.csv.tpl for ['rch_recharge_11_gr_inst:0'] took: 0:00:00.012001\n",
      "2022-03-17 12:41:25.488830 starting: writing array-based template file 'freyberg6_template\\rch_recharge_11_gr_inst0_grid.csv.tpl'\n"
     ]
    },
    {
     "name": "stdout",
     "output_type": "stream",
     "text": [
      "2022-03-17 12:41:25.489795 saving zone array freyberg6_template\\rch_recharge_11_gr_inst0_grid.csv.zone for tpl file freyberg6_template\\rch_recharge_11_gr_inst0_grid.csv.tpl\n",
      "2022-03-17 12:41:25.496776 finished: adding grid type m style parameters for file(s) ['freyberg6.rch_recharge_11.txt'] took: 0:00:00.028891\n",
      "2022-03-17 12:41:25.496776 starting: adding pilotpoints type m style parameters for file(s) ['freyberg6.rch_recharge_11.txt']\n",
      "2022-03-17 12:41:25.496776 starting: loading array freyberg6_template\\freyberg6.rch_recharge_11.txt\n",
      "2022-03-17 12:41:25.498803 finished: loading array freyberg6_template\\freyberg6.rch_recharge_11.txt took: 0:00:00.002027\n",
      "2022-03-17 12:41:25.498803 loaded array 'freyberg_mf6\\freyberg6.rch_recharge_11.txt' of shape (40, 20)\n",
      "2022-03-17 12:41:25.500798 starting: writing array-style template file 'freyberg6_template\\rch_recharge_11_pp_inst0_pilotpoints.csv.tpl'\n",
      "2022-03-17 12:41:25.500798 starting: setting up pilot point parameters\n",
      "2022-03-17 12:41:25.500798 No spatial reference (containing cell spacing) passed.\n",
      "2022-03-17 12:41:25.500798 OK - using spatial reference in parent object.\n"
     ]
    },
    {
     "name": "stdout",
     "output_type": "stream",
     "text": [
      "2022-03-17 12:41:25.570630 32 pilot point parameters created\n",
      "2022-03-17 12:41:25.570630 pilot point 'pargp':rch_recharge_11_pp\n",
      "2022-03-17 12:41:25.570630 finished: setting up pilot point parameters took: 0:00:00.069832\n",
      "2022-03-17 12:41:25.577609 starting: writing array-based template file 'freyberg6_template\\rch_recharge_11_pp_inst0pp.dat.tpl'\n",
      "2022-03-17 12:41:25.577609 saving zone array freyberg6_template\\rch_recharge_11_pp_inst0pp.dat.zone for tpl file freyberg6_template\\rch_recharge_11_pp_inst0pp.dat.tpl\n",
      "2022-03-17 12:41:25.583546 finished: adding pilotpoints type m style parameters for file(s) ['freyberg6.rch_recharge_11.txt'] took: 0:00:00.086770\n",
      "2022-03-17 12:41:25.583546 starting: adding constant type m style parameters for file(s) ['freyberg6.rch_recharge_11.txt']\n",
      "2022-03-17 12:41:25.583546 starting: loading array freyberg6_template\\freyberg6.rch_recharge_11.txt\n",
      "2022-03-17 12:41:25.585573 finished: loading array freyberg6_template\\freyberg6.rch_recharge_11.txt took: 0:00:00.002027\n",
      "2022-03-17 12:41:25.585573 loaded array 'freyberg_mf6\\freyberg6.rch_recharge_11.txt' of shape (40, 20)\n",
      "2022-03-17 12:41:25.587585 starting: writing array-style template file 'freyberg6_template\\rch_recharge_11_cn_inst0_constant.csv.tpl'\n",
      "2022-03-17 12:41:25.587585 starting: writing template file freyberg6_template\\rch_recharge_11_cn_inst0_constant.csv.tpl for ['rch_recharge_11_cn_inst:0']\n",
      "2022-03-17 12:41:25.595552 finished: writing template file freyberg6_template\\rch_recharge_11_cn_inst0_constant.csv.tpl for ['rch_recharge_11_cn_inst:0'] took: 0:00:00.007967\n",
      "2022-03-17 12:41:25.595552 starting: writing array-based template file 'freyberg6_template\\rch_recharge_11_cn_inst0_constant.csv.tpl'\n",
      "2022-03-17 12:41:25.595552 saving zone array freyberg6_template\\rch_recharge_11_cn_inst0_constant.csv.zone for tpl file freyberg6_template\\rch_recharge_11_cn_inst0_constant.csv.tpl\n",
      "2022-03-17 12:41:25.601541 finished: adding constant type m style parameters for file(s) ['freyberg6.rch_recharge_11.txt'] took: 0:00:00.017995\n"
     ]
    },
    {
     "name": "stdout",
     "output_type": "stream",
     "text": [
      "2022-03-17 12:41:25.602496 starting: adding constant type m style parameters for file(s) ['freyberg6.rch_recharge_11.txt']\n",
      "2022-03-17 12:41:25.602496 starting: loading array freyberg6_template\\freyberg6.rch_recharge_11.txt\n",
      "2022-03-17 12:41:25.603492 finished: loading array freyberg6_template\\freyberg6.rch_recharge_11.txt took: 0:00:00.000996\n",
      "2022-03-17 12:41:25.603492 loaded array 'freyberg_mf6\\freyberg6.rch_recharge_11.txt' of shape (40, 20)\n",
      "2022-03-17 12:41:25.606483 starting: writing array-style template file 'freyberg6_template\\rch_recharge_11_tcn_inst0_constant.csv.tpl'\n",
      "2022-03-17 12:41:25.606483 starting: writing template file freyberg6_template\\rch_recharge_11_tcn_inst0_constant.csv.tpl for ['rch_recharge_11_tcn_inst:0']\n",
      "2022-03-17 12:41:25.614497 finished: writing template file freyberg6_template\\rch_recharge_11_tcn_inst0_constant.csv.tpl for ['rch_recharge_11_tcn_inst:0'] took: 0:00:00.008014\n",
      "2022-03-17 12:41:25.614497 starting: writing array-based template file 'freyberg6_template\\rch_recharge_11_tcn_inst0_constant.csv.tpl'\n",
      "2022-03-17 12:41:25.615460 saving zone array freyberg6_template\\rch_recharge_11_tcn_inst0_constant.csv.zone for tpl file freyberg6_template\\rch_recharge_11_tcn_inst0_constant.csv.tpl\n",
      "2022-03-17 12:41:25.622779 finished: adding constant type m style parameters for file(s) ['freyberg6.rch_recharge_11.txt'] took: 0:00:00.020283\n",
      "2022-03-17 12:41:25.623439 starting: adding grid type m style parameters for file(s) ['freyberg6.rch_recharge_12.txt']\n",
      "2022-03-17 12:41:25.623439 starting: loading array freyberg6_template\\freyberg6.rch_recharge_12.txt\n",
      "2022-03-17 12:41:25.628475 finished: loading array freyberg6_template\\freyberg6.rch_recharge_12.txt took: 0:00:00.005036\n",
      "2022-03-17 12:41:25.628475 loaded array 'freyberg_mf6\\freyberg6.rch_recharge_12.txt' of shape (40, 20)\n",
      "2022-03-17 12:41:25.630469 starting: writing array-style template file 'freyberg6_template\\rch_recharge_12_gr_inst0_grid.csv.tpl'\n",
      "2022-03-17 12:41:25.630469 starting: writing template file freyberg6_template\\rch_recharge_12_gr_inst0_grid.csv.tpl for ['rch_recharge_12_gr_inst:0']\n",
      "2022-03-17 12:41:25.643384 finished: writing template file freyberg6_template\\rch_recharge_12_gr_inst0_grid.csv.tpl for ['rch_recharge_12_gr_inst:0'] took: 0:00:00.012915\n",
      "2022-03-17 12:41:25.643384 starting: writing array-based template file 'freyberg6_template\\rch_recharge_12_gr_inst0_grid.csv.tpl'\n",
      "2022-03-17 12:41:25.643384 saving zone array freyberg6_template\\rch_recharge_12_gr_inst0_grid.csv.zone for tpl file freyberg6_template\\rch_recharge_12_gr_inst0_grid.csv.tpl\n",
      "2022-03-17 12:41:25.652363 finished: adding grid type m style parameters for file(s) ['freyberg6.rch_recharge_12.txt'] took: 0:00:00.028924\n",
      "2022-03-17 12:41:25.652363 starting: adding pilotpoints type m style parameters for file(s) ['freyberg6.rch_recharge_12.txt']\n",
      "2022-03-17 12:41:25.653360 starting: loading array freyberg6_template\\freyberg6.rch_recharge_12.txt\n",
      "2022-03-17 12:41:25.654354 finished: loading array freyberg6_template\\freyberg6.rch_recharge_12.txt took: 0:00:00.000994\n",
      "2022-03-17 12:41:25.654354 loaded array 'freyberg_mf6\\freyberg6.rch_recharge_12.txt' of shape (40, 20)\n",
      "2022-03-17 12:41:25.657351 starting: writing array-style template file 'freyberg6_template\\rch_recharge_12_pp_inst0_pilotpoints.csv.tpl'\n",
      "2022-03-17 12:41:25.657351 starting: setting up pilot point parameters\n",
      "2022-03-17 12:41:25.657351 No spatial reference (containing cell spacing) passed.\n",
      "2022-03-17 12:41:25.657351 OK - using spatial reference in parent object.\n"
     ]
    },
    {
     "name": "stdout",
     "output_type": "stream",
     "text": [
      "2022-03-17 12:41:25.732171 32 pilot point parameters created\n",
      "2022-03-17 12:41:25.732171 pilot point 'pargp':rch_recharge_12_pp\n",
      "2022-03-17 12:41:25.732171 finished: setting up pilot point parameters took: 0:00:00.074820\n",
      "2022-03-17 12:41:25.739414 starting: writing array-based template file 'freyberg6_template\\rch_recharge_12_pp_inst0pp.dat.tpl'\n",
      "2022-03-17 12:41:25.739414 saving zone array freyberg6_template\\rch_recharge_12_pp_inst0pp.dat.zone for tpl file freyberg6_template\\rch_recharge_12_pp_inst0pp.dat.tpl\n",
      "2022-03-17 12:41:25.745114 finished: adding pilotpoints type m style parameters for file(s) ['freyberg6.rch_recharge_12.txt'] took: 0:00:00.092751\n",
      "2022-03-17 12:41:25.745114 starting: adding constant type m style parameters for file(s) ['freyberg6.rch_recharge_12.txt']\n",
      "2022-03-17 12:41:25.745114 starting: loading array freyberg6_template\\freyberg6.rch_recharge_12.txt\n",
      "2022-03-17 12:41:25.747108 finished: loading array freyberg6_template\\freyberg6.rch_recharge_12.txt took: 0:00:00.001994\n",
      "2022-03-17 12:41:25.747108 loaded array 'freyberg_mf6\\freyberg6.rch_recharge_12.txt' of shape (40, 20)\n",
      "2022-03-17 12:41:25.749102 starting: writing array-style template file 'freyberg6_template\\rch_recharge_12_cn_inst0_constant.csv.tpl'\n",
      "2022-03-17 12:41:25.749102 starting: writing template file freyberg6_template\\rch_recharge_12_cn_inst0_constant.csv.tpl for ['rch_recharge_12_cn_inst:0']\n",
      "2022-03-17 12:41:25.757081 finished: writing template file freyberg6_template\\rch_recharge_12_cn_inst0_constant.csv.tpl for ['rch_recharge_12_cn_inst:0'] took: 0:00:00.007979\n",
      "2022-03-17 12:41:25.757081 starting: writing array-based template file 'freyberg6_template\\rch_recharge_12_cn_inst0_constant.csv.tpl'\n",
      "2022-03-17 12:41:25.757081 saving zone array freyberg6_template\\rch_recharge_12_cn_inst0_constant.csv.zone for tpl file freyberg6_template\\rch_recharge_12_cn_inst0_constant.csv.tpl\n"
     ]
    },
    {
     "name": "stdout",
     "output_type": "stream",
     "text": [
      "2022-03-17 12:41:25.764594 finished: adding constant type m style parameters for file(s) ['freyberg6.rch_recharge_12.txt'] took: 0:00:00.019480\n",
      "2022-03-17 12:41:25.764594 starting: adding constant type m style parameters for file(s) ['freyberg6.rch_recharge_12.txt']\n",
      "2022-03-17 12:41:25.764594 starting: loading array freyberg6_template\\freyberg6.rch_recharge_12.txt\n",
      "2022-03-17 12:41:25.765618 finished: loading array freyberg6_template\\freyberg6.rch_recharge_12.txt took: 0:00:00.001024\n",
      "2022-03-17 12:41:25.765618 loaded array 'freyberg_mf6\\freyberg6.rch_recharge_12.txt' of shape (40, 20)\n",
      "2022-03-17 12:41:25.767611 starting: writing array-style template file 'freyberg6_template\\rch_recharge_12_tcn_inst0_constant.csv.tpl'\n",
      "2022-03-17 12:41:25.767611 starting: writing template file freyberg6_template\\rch_recharge_12_tcn_inst0_constant.csv.tpl for ['rch_recharge_12_tcn_inst:0']\n",
      "2022-03-17 12:41:25.775597 finished: writing template file freyberg6_template\\rch_recharge_12_tcn_inst0_constant.csv.tpl for ['rch_recharge_12_tcn_inst:0'] took: 0:00:00.007986\n",
      "2022-03-17 12:41:25.775597 starting: writing array-based template file 'freyberg6_template\\rch_recharge_12_tcn_inst0_constant.csv.tpl'\n",
      "2022-03-17 12:41:25.776595 saving zone array freyberg6_template\\rch_recharge_12_tcn_inst0_constant.csv.zone for tpl file freyberg6_template\\rch_recharge_12_tcn_inst0_constant.csv.tpl\n",
      "2022-03-17 12:41:25.782579 finished: adding constant type m style parameters for file(s) ['freyberg6.rch_recharge_12.txt'] took: 0:00:00.017985\n",
      "2022-03-17 12:41:25.782579 starting: adding grid type m style parameters for file(s) ['freyberg6.rch_recharge_13.txt']\n",
      "2022-03-17 12:41:25.783579 starting: loading array freyberg6_template\\freyberg6.rch_recharge_13.txt\n"
     ]
    },
    {
     "name": "stdout",
     "output_type": "stream",
     "text": [
      "2022-03-17 12:41:25.788530 finished: loading array freyberg6_template\\freyberg6.rch_recharge_13.txt took: 0:00:00.004951\n",
      "2022-03-17 12:41:25.789527 loaded array 'freyberg_mf6\\freyberg6.rch_recharge_13.txt' of shape (40, 20)\n",
      "2022-03-17 12:41:25.791558 starting: writing array-style template file 'freyberg6_template\\rch_recharge_13_gr_inst0_grid.csv.tpl'\n",
      "2022-03-17 12:41:25.791558 starting: writing template file freyberg6_template\\rch_recharge_13_gr_inst0_grid.csv.tpl for ['rch_recharge_13_gr_inst:0']\n",
      "2022-03-17 12:41:25.803489 finished: writing template file freyberg6_template\\rch_recharge_13_gr_inst0_grid.csv.tpl for ['rch_recharge_13_gr_inst:0'] took: 0:00:00.011931\n",
      "2022-03-17 12:41:25.803489 starting: writing array-based template file 'freyberg6_template\\rch_recharge_13_gr_inst0_grid.csv.tpl'\n",
      "2022-03-17 12:41:25.804488 saving zone array freyberg6_template\\rch_recharge_13_gr_inst0_grid.csv.zone for tpl file freyberg6_template\\rch_recharge_13_gr_inst0_grid.csv.tpl\n",
      "2022-03-17 12:41:25.811505 finished: adding grid type m style parameters for file(s) ['freyberg6.rch_recharge_13.txt'] took: 0:00:00.028926\n",
      "2022-03-17 12:41:25.812517 starting: adding pilotpoints type m style parameters for file(s) ['freyberg6.rch_recharge_13.txt']\n",
      "2022-03-17 12:41:25.812517 starting: loading array freyberg6_template\\freyberg6.rch_recharge_13.txt\n",
      "2022-03-17 12:41:25.813515 finished: loading array freyberg6_template\\freyberg6.rch_recharge_13.txt took: 0:00:00.000998\n",
      "2022-03-17 12:41:25.813515 loaded array 'freyberg_mf6\\freyberg6.rch_recharge_13.txt' of shape (40, 20)\n",
      "2022-03-17 12:41:25.815509 starting: writing array-style template file 'freyberg6_template\\rch_recharge_13_pp_inst0_pilotpoints.csv.tpl'\n",
      "2022-03-17 12:41:25.815509 starting: setting up pilot point parameters\n",
      "2022-03-17 12:41:25.815509 No spatial reference (containing cell spacing) passed.\n",
      "2022-03-17 12:41:25.815509 OK - using spatial reference in parent object.\n",
      "2022-03-17 12:41:25.883613 32 pilot point parameters created\n",
      "2022-03-17 12:41:25.883613 pilot point 'pargp':rch_recharge_13_pp\n",
      "2022-03-17 12:41:25.883613 finished: setting up pilot point parameters took: 0:00:00.068104\n",
      "2022-03-17 12:41:25.891644 starting: writing array-based template file 'freyberg6_template\\rch_recharge_13_pp_inst0pp.dat.tpl'\n",
      "2022-03-17 12:41:25.891644 saving zone array freyberg6_template\\rch_recharge_13_pp_inst0pp.dat.zone for tpl file freyberg6_template\\rch_recharge_13_pp_inst0pp.dat.tpl\n",
      "2022-03-17 12:41:25.896605 finished: adding pilotpoints type m style parameters for file(s) ['freyberg6.rch_recharge_13.txt'] took: 0:00:00.084088\n",
      "2022-03-17 12:41:25.896605 starting: adding constant type m style parameters for file(s) ['freyberg6.rch_recharge_13.txt']\n",
      "2022-03-17 12:41:25.897628 starting: loading array freyberg6_template\\freyberg6.rch_recharge_13.txt\n",
      "2022-03-17 12:41:25.898617 finished: loading array freyberg6_template\\freyberg6.rch_recharge_13.txt took: 0:00:00.000989\n",
      "2022-03-17 12:41:25.898617 loaded array 'freyberg_mf6\\freyberg6.rch_recharge_13.txt' of shape (40, 20)\n",
      "2022-03-17 12:41:25.900610 starting: writing array-style template file 'freyberg6_template\\rch_recharge_13_cn_inst0_constant.csv.tpl'\n",
      "2022-03-17 12:41:25.900610 starting: writing template file freyberg6_template\\rch_recharge_13_cn_inst0_constant.csv.tpl for ['rch_recharge_13_cn_inst:0']\n",
      "2022-03-17 12:41:25.907549 finished: writing template file freyberg6_template\\rch_recharge_13_cn_inst0_constant.csv.tpl for ['rch_recharge_13_cn_inst:0'] took: 0:00:00.006939\n",
      "2022-03-17 12:41:25.907549 starting: writing array-based template file 'freyberg6_template\\rch_recharge_13_cn_inst0_constant.csv.tpl'\n",
      "2022-03-17 12:41:25.907549 saving zone array freyberg6_template\\rch_recharge_13_cn_inst0_constant.csv.zone for tpl file freyberg6_template\\rch_recharge_13_cn_inst0_constant.csv.tpl\n",
      "2022-03-17 12:41:25.913533 finished: adding constant type m style parameters for file(s) ['freyberg6.rch_recharge_13.txt'] took: 0:00:00.016928\n",
      "2022-03-17 12:41:25.914530 starting: adding constant type m style parameters for file(s) ['freyberg6.rch_recharge_13.txt']\n",
      "2022-03-17 12:41:25.914530 starting: loading array freyberg6_template\\freyberg6.rch_recharge_13.txt\n"
     ]
    },
    {
     "name": "stdout",
     "output_type": "stream",
     "text": [
      "2022-03-17 12:41:25.916526 finished: loading array freyberg6_template\\freyberg6.rch_recharge_13.txt took: 0:00:00.001996\n",
      "2022-03-17 12:41:25.916526 loaded array 'freyberg_mf6\\freyberg6.rch_recharge_13.txt' of shape (40, 20)\n",
      "2022-03-17 12:41:25.918521 starting: writing array-style template file 'freyberg6_template\\rch_recharge_13_tcn_inst0_constant.csv.tpl'\n",
      "2022-03-17 12:41:25.918521 starting: writing template file freyberg6_template\\rch_recharge_13_tcn_inst0_constant.csv.tpl for ['rch_recharge_13_tcn_inst:0']\n",
      "2022-03-17 12:41:25.925528 finished: writing template file freyberg6_template\\rch_recharge_13_tcn_inst0_constant.csv.tpl for ['rch_recharge_13_tcn_inst:0'] took: 0:00:00.007007\n",
      "2022-03-17 12:41:25.925528 starting: writing array-based template file 'freyberg6_template\\rch_recharge_13_tcn_inst0_constant.csv.tpl'\n",
      "2022-03-17 12:41:25.926524 saving zone array freyberg6_template\\rch_recharge_13_tcn_inst0_constant.csv.zone for tpl file freyberg6_template\\rch_recharge_13_tcn_inst0_constant.csv.tpl\n",
      "2022-03-17 12:41:25.933514 finished: adding constant type m style parameters for file(s) ['freyberg6.rch_recharge_13.txt'] took: 0:00:00.018984\n",
      "2022-03-17 12:41:25.933514 starting: adding grid type m style parameters for file(s) ['freyberg6.rch_recharge_14.txt']\n",
      "2022-03-17 12:41:25.933514 starting: loading array freyberg6_template\\freyberg6.rch_recharge_14.txt\n",
      "2022-03-17 12:41:25.939465 finished: loading array freyberg6_template\\freyberg6.rch_recharge_14.txt took: 0:00:00.005951\n",
      "2022-03-17 12:41:25.939465 loaded array 'freyberg_mf6\\freyberg6.rch_recharge_14.txt' of shape (40, 20)\n",
      "2022-03-17 12:41:25.941510 starting: writing array-style template file 'freyberg6_template\\rch_recharge_14_gr_inst0_grid.csv.tpl'\n",
      "2022-03-17 12:41:25.941510 starting: writing template file freyberg6_template\\rch_recharge_14_gr_inst0_grid.csv.tpl for ['rch_recharge_14_gr_inst:0']\n"
     ]
    },
    {
     "name": "stdout",
     "output_type": "stream",
     "text": [
      "2022-03-17 12:41:25.954570 finished: writing template file freyberg6_template\\rch_recharge_14_gr_inst0_grid.csv.tpl for ['rch_recharge_14_gr_inst:0'] took: 0:00:00.013060\n",
      "2022-03-17 12:41:25.954570 starting: writing array-based template file 'freyberg6_template\\rch_recharge_14_gr_inst0_grid.csv.tpl'\n",
      "2022-03-17 12:41:25.954570 saving zone array freyberg6_template\\rch_recharge_14_gr_inst0_grid.csv.zone for tpl file freyberg6_template\\rch_recharge_14_gr_inst0_grid.csv.tpl\n",
      "2022-03-17 12:41:25.963578 finished: adding grid type m style parameters for file(s) ['freyberg6.rch_recharge_14.txt'] took: 0:00:00.030064\n",
      "2022-03-17 12:41:25.964543 starting: adding pilotpoints type m style parameters for file(s) ['freyberg6.rch_recharge_14.txt']\n",
      "2022-03-17 12:41:25.964543 starting: loading array freyberg6_template\\freyberg6.rch_recharge_14.txt\n",
      "2022-03-17 12:41:25.965572 finished: loading array freyberg6_template\\freyberg6.rch_recharge_14.txt took: 0:00:00.001029\n",
      "2022-03-17 12:41:25.965572 loaded array 'freyberg_mf6\\freyberg6.rch_recharge_14.txt' of shape (40, 20)\n",
      "2022-03-17 12:41:25.967567 starting: writing array-style template file 'freyberg6_template\\rch_recharge_14_pp_inst0_pilotpoints.csv.tpl'\n",
      "2022-03-17 12:41:25.967567 starting: setting up pilot point parameters\n",
      "2022-03-17 12:41:25.967567 No spatial reference (containing cell spacing) passed.\n",
      "2022-03-17 12:41:25.967567 OK - using spatial reference in parent object.\n"
     ]
    },
    {
     "name": "stdout",
     "output_type": "stream",
     "text": [
      "2022-03-17 12:41:26.040395 32 pilot point parameters created\n",
      "2022-03-17 12:41:26.040395 pilot point 'pargp':rch_recharge_14_pp\n",
      "2022-03-17 12:41:26.040395 finished: setting up pilot point parameters took: 0:00:00.072828\n",
      "2022-03-17 12:41:26.047377 starting: writing array-based template file 'freyberg6_template\\rch_recharge_14_pp_inst0pp.dat.tpl'\n",
      "2022-03-17 12:41:26.047377 saving zone array freyberg6_template\\rch_recharge_14_pp_inst0pp.dat.zone for tpl file freyberg6_template\\rch_recharge_14_pp_inst0pp.dat.tpl\n",
      "2022-03-17 12:41:26.052359 finished: adding pilotpoints type m style parameters for file(s) ['freyberg6.rch_recharge_14.txt'] took: 0:00:00.087816\n",
      "2022-03-17 12:41:26.052359 starting: adding constant type m style parameters for file(s) ['freyberg6.rch_recharge_14.txt']\n",
      "2022-03-17 12:41:26.053356 starting: loading array freyberg6_template\\freyberg6.rch_recharge_14.txt\n",
      "2022-03-17 12:41:26.054352 finished: loading array freyberg6_template\\freyberg6.rch_recharge_14.txt took: 0:00:00.000996\n",
      "2022-03-17 12:41:26.054352 loaded array 'freyberg_mf6\\freyberg6.rch_recharge_14.txt' of shape (40, 20)\n",
      "2022-03-17 12:41:26.056367 starting: writing array-style template file 'freyberg6_template\\rch_recharge_14_cn_inst0_constant.csv.tpl'\n",
      "2022-03-17 12:41:26.056367 starting: writing template file freyberg6_template\\rch_recharge_14_cn_inst0_constant.csv.tpl for ['rch_recharge_14_cn_inst:0']\n",
      "2022-03-17 12:41:26.063640 finished: writing template file freyberg6_template\\rch_recharge_14_cn_inst0_constant.csv.tpl for ['rch_recharge_14_cn_inst:0'] took: 0:00:00.007273\n",
      "2022-03-17 12:41:26.063640 starting: writing array-based template file 'freyberg6_template\\rch_recharge_14_cn_inst0_constant.csv.tpl'\n",
      "2022-03-17 12:41:26.063640 saving zone array freyberg6_template\\rch_recharge_14_cn_inst0_constant.csv.zone for tpl file freyberg6_template\\rch_recharge_14_cn_inst0_constant.csv.tpl\n",
      "2022-03-17 12:41:26.069672 finished: adding constant type m style parameters for file(s) ['freyberg6.rch_recharge_14.txt'] took: 0:00:00.017313\n",
      "2022-03-17 12:41:26.069672 starting: adding constant type m style parameters for file(s) ['freyberg6.rch_recharge_14.txt']\n",
      "2022-03-17 12:41:26.069672 starting: loading array freyberg6_template\\freyberg6.rch_recharge_14.txt\n",
      "2022-03-17 12:41:26.070667 finished: loading array freyberg6_template\\freyberg6.rch_recharge_14.txt took: 0:00:00.000995\n",
      "2022-03-17 12:41:26.071669 loaded array 'freyberg_mf6\\freyberg6.rch_recharge_14.txt' of shape (40, 20)\n",
      "2022-03-17 12:41:26.073661 starting: writing array-style template file 'freyberg6_template\\rch_recharge_14_tcn_inst0_constant.csv.tpl'\n",
      "2022-03-17 12:41:26.073661 starting: writing template file freyberg6_template\\rch_recharge_14_tcn_inst0_constant.csv.tpl for ['rch_recharge_14_tcn_inst:0']\n",
      "2022-03-17 12:41:26.080642 finished: writing template file freyberg6_template\\rch_recharge_14_tcn_inst0_constant.csv.tpl for ['rch_recharge_14_tcn_inst:0'] took: 0:00:00.006981\n",
      "2022-03-17 12:41:26.080642 starting: writing array-based template file 'freyberg6_template\\rch_recharge_14_tcn_inst0_constant.csv.tpl'\n",
      "2022-03-17 12:41:26.081605 saving zone array freyberg6_template\\rch_recharge_14_tcn_inst0_constant.csv.zone for tpl file freyberg6_template\\rch_recharge_14_tcn_inst0_constant.csv.tpl\n",
      "2022-03-17 12:41:26.087609 finished: adding constant type m style parameters for file(s) ['freyberg6.rch_recharge_14.txt'] took: 0:00:00.017937\n",
      "2022-03-17 12:41:26.088624 starting: adding grid type m style parameters for file(s) ['freyberg6.rch_recharge_15.txt']\n",
      "2022-03-17 12:41:26.088624 starting: loading array freyberg6_template\\freyberg6.rch_recharge_15.txt\n",
      "2022-03-17 12:41:26.093610 finished: loading array freyberg6_template\\freyberg6.rch_recharge_15.txt took: 0:00:00.004986\n",
      "2022-03-17 12:41:26.093610 loaded array 'freyberg_mf6\\freyberg6.rch_recharge_15.txt' of shape (40, 20)\n",
      "2022-03-17 12:41:26.096582 starting: writing array-style template file 'freyberg6_template\\rch_recharge_15_gr_inst0_grid.csv.tpl'\n"
     ]
    },
    {
     "name": "stdout",
     "output_type": "stream",
     "text": [
      "2022-03-17 12:41:26.096582 starting: writing template file freyberg6_template\\rch_recharge_15_gr_inst0_grid.csv.tpl for ['rch_recharge_15_gr_inst:0']\n",
      "2022-03-17 12:41:26.109548 finished: writing template file freyberg6_template\\rch_recharge_15_gr_inst0_grid.csv.tpl for ['rch_recharge_15_gr_inst:0'] took: 0:00:00.012966\n",
      "2022-03-17 12:41:26.109548 starting: writing array-based template file 'freyberg6_template\\rch_recharge_15_gr_inst0_grid.csv.tpl'\n",
      "2022-03-17 12:41:26.109548 saving zone array freyberg6_template\\rch_recharge_15_gr_inst0_grid.csv.zone for tpl file freyberg6_template\\rch_recharge_15_gr_inst0_grid.csv.tpl\n",
      "2022-03-17 12:41:26.116528 finished: adding grid type m style parameters for file(s) ['freyberg6.rch_recharge_15.txt'] took: 0:00:00.027904\n",
      "2022-03-17 12:41:26.116528 starting: adding pilotpoints type m style parameters for file(s) ['freyberg6.rch_recharge_15.txt']\n",
      "2022-03-17 12:41:26.116528 starting: loading array freyberg6_template\\freyberg6.rch_recharge_15.txt\n",
      "2022-03-17 12:41:26.118527 finished: loading array freyberg6_template\\freyberg6.rch_recharge_15.txt took: 0:00:00.001999\n",
      "2022-03-17 12:41:26.118527 loaded array 'freyberg_mf6\\freyberg6.rch_recharge_15.txt' of shape (40, 20)\n",
      "2022-03-17 12:41:26.119523 starting: writing array-style template file 'freyberg6_template\\rch_recharge_15_pp_inst0_pilotpoints.csv.tpl'\n",
      "2022-03-17 12:41:26.120485 starting: setting up pilot point parameters\n",
      "2022-03-17 12:41:26.120485 No spatial reference (containing cell spacing) passed.\n",
      "2022-03-17 12:41:26.120485 OK - using spatial reference in parent object.\n"
     ]
    },
    {
     "name": "stdout",
     "output_type": "stream",
     "text": [
      "2022-03-17 12:41:26.189580 32 pilot point parameters created\n",
      "2022-03-17 12:41:26.189580 pilot point 'pargp':rch_recharge_15_pp\n",
      "2022-03-17 12:41:26.189580 finished: setting up pilot point parameters took: 0:00:00.069095\n",
      "2022-03-17 12:41:26.196563 starting: writing array-based template file 'freyberg6_template\\rch_recharge_15_pp_inst0pp.dat.tpl'\n",
      "2022-03-17 12:41:26.196563 saving zone array freyberg6_template\\rch_recharge_15_pp_inst0pp.dat.zone for tpl file freyberg6_template\\rch_recharge_15_pp_inst0pp.dat.tpl\n",
      "2022-03-17 12:41:26.203543 finished: adding pilotpoints type m style parameters for file(s) ['freyberg6.rch_recharge_15.txt'] took: 0:00:00.087015\n",
      "2022-03-17 12:41:26.203543 starting: adding constant type m style parameters for file(s) ['freyberg6.rch_recharge_15.txt']\n",
      "2022-03-17 12:41:26.203543 starting: loading array freyberg6_template\\freyberg6.rch_recharge_15.txt\n",
      "2022-03-17 12:41:26.205538 finished: loading array freyberg6_template\\freyberg6.rch_recharge_15.txt took: 0:00:00.001995\n",
      "2022-03-17 12:41:26.205538 loaded array 'freyberg_mf6\\freyberg6.rch_recharge_15.txt' of shape (40, 20)\n",
      "2022-03-17 12:41:26.207532 starting: writing array-style template file 'freyberg6_template\\rch_recharge_15_cn_inst0_constant.csv.tpl'\n",
      "2022-03-17 12:41:26.207532 starting: writing template file freyberg6_template\\rch_recharge_15_cn_inst0_constant.csv.tpl for ['rch_recharge_15_cn_inst:0']\n",
      "2022-03-17 12:41:26.214513 finished: writing template file freyberg6_template\\rch_recharge_15_cn_inst0_constant.csv.tpl for ['rch_recharge_15_cn_inst:0'] took: 0:00:00.006981\n",
      "2022-03-17 12:41:26.214513 starting: writing array-based template file 'freyberg6_template\\rch_recharge_15_cn_inst0_constant.csv.tpl'\n",
      "2022-03-17 12:41:26.215511 saving zone array freyberg6_template\\rch_recharge_15_cn_inst0_constant.csv.zone for tpl file freyberg6_template\\rch_recharge_15_cn_inst0_constant.csv.tpl\n",
      "2022-03-17 12:41:26.221528 finished: adding constant type m style parameters for file(s) ['freyberg6.rch_recharge_15.txt'] took: 0:00:00.017985\n",
      "2022-03-17 12:41:26.221528 starting: adding constant type m style parameters for file(s) ['freyberg6.rch_recharge_15.txt']\n",
      "2022-03-17 12:41:26.221528 starting: loading array freyberg6_template\\freyberg6.rch_recharge_15.txt\n"
     ]
    },
    {
     "name": "stdout",
     "output_type": "stream",
     "text": [
      "2022-03-17 12:41:26.223490 finished: loading array freyberg6_template\\freyberg6.rch_recharge_15.txt took: 0:00:00.001962\n",
      "2022-03-17 12:41:26.223490 loaded array 'freyberg_mf6\\freyberg6.rch_recharge_15.txt' of shape (40, 20)\n",
      "2022-03-17 12:41:26.225484 starting: writing array-style template file 'freyberg6_template\\rch_recharge_15_tcn_inst0_constant.csv.tpl'\n",
      "2022-03-17 12:41:26.226481 starting: writing template file freyberg6_template\\rch_recharge_15_tcn_inst0_constant.csv.tpl for ['rch_recharge_15_tcn_inst:0']\n",
      "2022-03-17 12:41:26.233464 finished: writing template file freyberg6_template\\rch_recharge_15_tcn_inst0_constant.csv.tpl for ['rch_recharge_15_tcn_inst:0'] took: 0:00:00.006983\n",
      "2022-03-17 12:41:26.233464 starting: writing array-based template file 'freyberg6_template\\rch_recharge_15_tcn_inst0_constant.csv.tpl'\n",
      "2022-03-17 12:41:26.234461 saving zone array freyberg6_template\\rch_recharge_15_tcn_inst0_constant.csv.zone for tpl file freyberg6_template\\rch_recharge_15_tcn_inst0_constant.csv.tpl\n",
      "2022-03-17 12:41:26.242472 finished: adding constant type m style parameters for file(s) ['freyberg6.rch_recharge_15.txt'] took: 0:00:00.020944\n",
      "2022-03-17 12:41:26.242472 starting: adding grid type m style parameters for file(s) ['freyberg6.rch_recharge_16.txt']\n",
      "2022-03-17 12:41:26.242472 starting: loading array freyberg6_template\\freyberg6.rch_recharge_16.txt\n",
      "2022-03-17 12:41:26.248422 finished: loading array freyberg6_template\\freyberg6.rch_recharge_16.txt took: 0:00:00.005950\n",
      "2022-03-17 12:41:26.248422 loaded array 'freyberg_mf6\\freyberg6.rch_recharge_16.txt' of shape (40, 20)\n",
      "2022-03-17 12:41:26.250419 starting: writing array-style template file 'freyberg6_template\\rch_recharge_16_gr_inst0_grid.csv.tpl'\n",
      "2022-03-17 12:41:26.250419 starting: writing template file freyberg6_template\\rch_recharge_16_gr_inst0_grid.csv.tpl for ['rch_recharge_16_gr_inst:0']\n",
      "2022-03-17 12:41:26.263417 finished: writing template file freyberg6_template\\rch_recharge_16_gr_inst0_grid.csv.tpl for ['rch_recharge_16_gr_inst:0'] took: 0:00:00.012998\n",
      "2022-03-17 12:41:26.263417 starting: writing array-based template file 'freyberg6_template\\rch_recharge_16_gr_inst0_grid.csv.tpl'\n",
      "2022-03-17 12:41:26.263417 saving zone array freyberg6_template\\rch_recharge_16_gr_inst0_grid.csv.zone for tpl file freyberg6_template\\rch_recharge_16_gr_inst0_grid.csv.tpl\n",
      "2022-03-17 12:41:26.270396 finished: adding grid type m style parameters for file(s) ['freyberg6.rch_recharge_16.txt'] took: 0:00:00.027924\n",
      "2022-03-17 12:41:26.270396 starting: adding pilotpoints type m style parameters for file(s) ['freyberg6.rch_recharge_16.txt']\n",
      "2022-03-17 12:41:26.270396 starting: loading array freyberg6_template\\freyberg6.rch_recharge_16.txt\n",
      "2022-03-17 12:41:26.272731 finished: loading array freyberg6_template\\freyberg6.rch_recharge_16.txt took: 0:00:00.002335\n",
      "2022-03-17 12:41:26.272731 loaded array 'freyberg_mf6\\freyberg6.rch_recharge_16.txt' of shape (40, 20)\n",
      "2022-03-17 12:41:26.274387 starting: writing array-style template file 'freyberg6_template\\rch_recharge_16_pp_inst0_pilotpoints.csv.tpl'\n",
      "2022-03-17 12:41:26.274387 starting: setting up pilot point parameters\n",
      "2022-03-17 12:41:26.274387 No spatial reference (containing cell spacing) passed.\n",
      "2022-03-17 12:41:26.274387 OK - using spatial reference in parent object.\n"
     ]
    },
    {
     "name": "stdout",
     "output_type": "stream",
     "text": [
      "2022-03-17 12:41:26.345163 32 pilot point parameters created\n",
      "2022-03-17 12:41:26.345163 pilot point 'pargp':rch_recharge_16_pp\n",
      "2022-03-17 12:41:26.345163 finished: setting up pilot point parameters took: 0:00:00.070776\n",
      "2022-03-17 12:41:26.352198 starting: writing array-based template file 'freyberg6_template\\rch_recharge_16_pp_inst0pp.dat.tpl'\n",
      "2022-03-17 12:41:26.352198 saving zone array freyberg6_template\\rch_recharge_16_pp_inst0pp.dat.zone for tpl file freyberg6_template\\rch_recharge_16_pp_inst0pp.dat.tpl\n",
      "2022-03-17 12:41:26.358182 finished: adding pilotpoints type m style parameters for file(s) ['freyberg6.rch_recharge_16.txt'] took: 0:00:00.087786\n",
      "2022-03-17 12:41:26.358182 starting: adding constant type m style parameters for file(s) ['freyberg6.rch_recharge_16.txt']\n",
      "2022-03-17 12:41:26.358182 starting: loading array freyberg6_template\\freyberg6.rch_recharge_16.txt\n",
      "2022-03-17 12:41:26.360176 finished: loading array freyberg6_template\\freyberg6.rch_recharge_16.txt took: 0:00:00.001994\n",
      "2022-03-17 12:41:26.360176 loaded array 'freyberg_mf6\\freyberg6.rch_recharge_16.txt' of shape (40, 20)\n",
      "2022-03-17 12:41:26.362170 starting: writing array-style template file 'freyberg6_template\\rch_recharge_16_cn_inst0_constant.csv.tpl'\n",
      "2022-03-17 12:41:26.362170 starting: writing template file freyberg6_template\\rch_recharge_16_cn_inst0_constant.csv.tpl for ['rch_recharge_16_cn_inst:0']\n"
     ]
    },
    {
     "name": "stdout",
     "output_type": "stream",
     "text": [
      "2022-03-17 12:41:26.369132 finished: writing template file freyberg6_template\\rch_recharge_16_cn_inst0_constant.csv.tpl for ['rch_recharge_16_cn_inst:0'] took: 0:00:00.006962\n",
      "2022-03-17 12:41:26.369132 starting: writing array-based template file 'freyberg6_template\\rch_recharge_16_cn_inst0_constant.csv.tpl'\n",
      "2022-03-17 12:41:26.369132 saving zone array freyberg6_template\\rch_recharge_16_cn_inst0_constant.csv.zone for tpl file freyberg6_template\\rch_recharge_16_cn_inst0_constant.csv.tpl\n",
      "2022-03-17 12:41:26.376113 finished: adding constant type m style parameters for file(s) ['freyberg6.rch_recharge_16.txt'] took: 0:00:00.017931\n",
      "2022-03-17 12:41:26.376113 starting: adding constant type m style parameters for file(s) ['freyberg6.rch_recharge_16.txt']\n",
      "2022-03-17 12:41:26.376113 starting: loading array freyberg6_template\\freyberg6.rch_recharge_16.txt\n",
      "2022-03-17 12:41:26.377123 finished: loading array freyberg6_template\\freyberg6.rch_recharge_16.txt took: 0:00:00.001010\n",
      "2022-03-17 12:41:26.377123 loaded array 'freyberg_mf6\\freyberg6.rch_recharge_16.txt' of shape (40, 20)\n",
      "2022-03-17 12:41:26.379074 starting: writing array-style template file 'freyberg6_template\\rch_recharge_16_tcn_inst0_constant.csv.tpl'\n",
      "2022-03-17 12:41:26.379074 starting: writing template file freyberg6_template\\rch_recharge_16_tcn_inst0_constant.csv.tpl for ['rch_recharge_16_tcn_inst:0']\n",
      "2022-03-17 12:41:26.386107 finished: writing template file freyberg6_template\\rch_recharge_16_tcn_inst0_constant.csv.tpl for ['rch_recharge_16_tcn_inst:0'] took: 0:00:00.007033\n",
      "2022-03-17 12:41:26.386107 starting: writing array-based template file 'freyberg6_template\\rch_recharge_16_tcn_inst0_constant.csv.tpl'\n",
      "2022-03-17 12:41:26.387106 saving zone array freyberg6_template\\rch_recharge_16_tcn_inst0_constant.csv.zone for tpl file freyberg6_template\\rch_recharge_16_tcn_inst0_constant.csv.tpl\n",
      "2022-03-17 12:41:26.395063 finished: adding constant type m style parameters for file(s) ['freyberg6.rch_recharge_16.txt'] took: 0:00:00.018950\n",
      "2022-03-17 12:41:26.395063 starting: adding grid type m style parameters for file(s) ['freyberg6.rch_recharge_17.txt']\n",
      "2022-03-17 12:41:26.395063 starting: loading array freyberg6_template\\freyberg6.rch_recharge_17.txt\n",
      "2022-03-17 12:41:26.401066 finished: loading array freyberg6_template\\freyberg6.rch_recharge_17.txt took: 0:00:00.006003\n",
      "2022-03-17 12:41:26.401066 loaded array 'freyberg_mf6\\freyberg6.rch_recharge_17.txt' of shape (40, 20)\n",
      "2022-03-17 12:41:26.403042 starting: writing array-style template file 'freyberg6_template\\rch_recharge_17_gr_inst0_grid.csv.tpl'\n",
      "2022-03-17 12:41:26.403042 starting: writing template file freyberg6_template\\rch_recharge_17_gr_inst0_grid.csv.tpl for ['rch_recharge_17_gr_inst:0']\n",
      "2022-03-17 12:41:26.414977 finished: writing template file freyberg6_template\\rch_recharge_17_gr_inst0_grid.csv.tpl for ['rch_recharge_17_gr_inst:0'] took: 0:00:00.011935\n",
      "2022-03-17 12:41:26.414977 starting: writing array-based template file 'freyberg6_template\\rch_recharge_17_gr_inst0_grid.csv.tpl'\n"
     ]
    },
    {
     "name": "stdout",
     "output_type": "stream",
     "text": [
      "2022-03-17 12:41:26.415974 saving zone array freyberg6_template\\rch_recharge_17_gr_inst0_grid.csv.zone for tpl file freyberg6_template\\rch_recharge_17_gr_inst0_grid.csv.tpl\n",
      "2022-03-17 12:41:26.422989 finished: adding grid type m style parameters for file(s) ['freyberg6.rch_recharge_17.txt'] took: 0:00:00.027926\n",
      "2022-03-17 12:41:26.423985 starting: adding pilotpoints type m style parameters for file(s) ['freyberg6.rch_recharge_17.txt']\n",
      "2022-03-17 12:41:26.423985 starting: loading array freyberg6_template\\freyberg6.rch_recharge_17.txt\n",
      "2022-03-17 12:41:26.424982 finished: loading array freyberg6_template\\freyberg6.rch_recharge_17.txt took: 0:00:00.000997\n",
      "2022-03-17 12:41:26.424982 loaded array 'freyberg_mf6\\freyberg6.rch_recharge_17.txt' of shape (40, 20)\n",
      "2022-03-17 12:41:26.426977 starting: writing array-style template file 'freyberg6_template\\rch_recharge_17_pp_inst0_pilotpoints.csv.tpl'\n",
      "2022-03-17 12:41:26.426977 starting: setting up pilot point parameters\n",
      "2022-03-17 12:41:26.426977 No spatial reference (containing cell spacing) passed.\n",
      "2022-03-17 12:41:26.426977 OK - using spatial reference in parent object.\n",
      "2022-03-17 12:41:26.497169 32 pilot point parameters created\n",
      "2022-03-17 12:41:26.497169 pilot point 'pargp':rch_recharge_17_pp\n",
      "2022-03-17 12:41:26.497169 finished: setting up pilot point parameters took: 0:00:00.070192\n",
      "2022-03-17 12:41:26.504204 starting: writing array-based template file 'freyberg6_template\\rch_recharge_17_pp_inst0pp.dat.tpl'\n",
      "2022-03-17 12:41:26.504204 saving zone array freyberg6_template\\rch_recharge_17_pp_inst0pp.dat.zone for tpl file freyberg6_template\\rch_recharge_17_pp_inst0pp.dat.tpl\n",
      "2022-03-17 12:41:26.509188 finished: adding pilotpoints type m style parameters for file(s) ['freyberg6.rch_recharge_17.txt'] took: 0:00:00.085203\n",
      "2022-03-17 12:41:26.510186 starting: adding constant type m style parameters for file(s) ['freyberg6.rch_recharge_17.txt']\n",
      "2022-03-17 12:41:26.510186 starting: loading array freyberg6_template\\freyberg6.rch_recharge_17.txt\n",
      "2022-03-17 12:41:26.511182 finished: loading array freyberg6_template\\freyberg6.rch_recharge_17.txt took: 0:00:00.000996\n",
      "2022-03-17 12:41:26.511182 loaded array 'freyberg_mf6\\freyberg6.rch_recharge_17.txt' of shape (40, 20)\n",
      "2022-03-17 12:41:26.513179 starting: writing array-style template file 'freyberg6_template\\rch_recharge_17_cn_inst0_constant.csv.tpl'\n",
      "2022-03-17 12:41:26.513179 starting: writing template file freyberg6_template\\rch_recharge_17_cn_inst0_constant.csv.tpl for ['rch_recharge_17_cn_inst:0']\n",
      "2022-03-17 12:41:26.520143 finished: writing template file freyberg6_template\\rch_recharge_17_cn_inst0_constant.csv.tpl for ['rch_recharge_17_cn_inst:0'] took: 0:00:00.006964\n",
      "2022-03-17 12:41:26.520143 starting: writing array-based template file 'freyberg6_template\\rch_recharge_17_cn_inst0_constant.csv.tpl'\n",
      "2022-03-17 12:41:26.520143 saving zone array freyberg6_template\\rch_recharge_17_cn_inst0_constant.csv.zone for tpl file freyberg6_template\\rch_recharge_17_cn_inst0_constant.csv.tpl\n",
      "2022-03-17 12:41:26.527121 finished: adding constant type m style parameters for file(s) ['freyberg6.rch_recharge_17.txt'] took: 0:00:00.016935\n",
      "2022-03-17 12:41:26.527121 starting: adding constant type m style parameters for file(s) ['freyberg6.rch_recharge_17.txt']\n",
      "2022-03-17 12:41:26.527121 starting: loading array freyberg6_template\\freyberg6.rch_recharge_17.txt\n",
      "2022-03-17 12:41:26.528140 finished: loading array freyberg6_template\\freyberg6.rch_recharge_17.txt took: 0:00:00.001019\n",
      "2022-03-17 12:41:26.528140 loaded array 'freyberg_mf6\\freyberg6.rch_recharge_17.txt' of shape (40, 20)\n",
      "2022-03-17 12:41:26.530132 starting: writing array-style template file 'freyberg6_template\\rch_recharge_17_tcn_inst0_constant.csv.tpl'\n",
      "2022-03-17 12:41:26.530132 starting: writing template file freyberg6_template\\rch_recharge_17_tcn_inst0_constant.csv.tpl for ['rch_recharge_17_tcn_inst:0']\n",
      "2022-03-17 12:41:26.538111 finished: writing template file freyberg6_template\\rch_recharge_17_tcn_inst0_constant.csv.tpl for ['rch_recharge_17_tcn_inst:0'] took: 0:00:00.007979\n",
      "2022-03-17 12:41:26.538111 starting: writing array-based template file 'freyberg6_template\\rch_recharge_17_tcn_inst0_constant.csv.tpl'\n"
     ]
    },
    {
     "name": "stdout",
     "output_type": "stream",
     "text": [
      "2022-03-17 12:41:26.539371 saving zone array freyberg6_template\\rch_recharge_17_tcn_inst0_constant.csv.zone for tpl file freyberg6_template\\rch_recharge_17_tcn_inst0_constant.csv.tpl\n",
      "2022-03-17 12:41:26.546089 finished: adding constant type m style parameters for file(s) ['freyberg6.rch_recharge_17.txt'] took: 0:00:00.018968\n",
      "2022-03-17 12:41:26.547102 starting: adding grid type m style parameters for file(s) ['freyberg6.rch_recharge_18.txt']\n",
      "2022-03-17 12:41:26.547102 starting: loading array freyberg6_template\\freyberg6.rch_recharge_18.txt\n",
      "2022-03-17 12:41:26.552045 finished: loading array freyberg6_template\\freyberg6.rch_recharge_18.txt took: 0:00:00.004943\n",
      "2022-03-17 12:41:26.552045 loaded array 'freyberg_mf6\\freyberg6.rch_recharge_18.txt' of shape (40, 20)\n"
     ]
    },
    {
     "name": "stdout",
     "output_type": "stream",
     "text": [
      "2022-03-17 12:41:26.554049 starting: writing array-style template file 'freyberg6_template\\rch_recharge_18_gr_inst0_grid.csv.tpl'\n",
      "2022-03-17 12:41:26.554049 starting: writing template file freyberg6_template\\rch_recharge_18_gr_inst0_grid.csv.tpl for ['rch_recharge_18_gr_inst:0']\n",
      "2022-03-17 12:41:26.566036 finished: writing template file freyberg6_template\\rch_recharge_18_gr_inst0_grid.csv.tpl for ['rch_recharge_18_gr_inst:0'] took: 0:00:00.011987\n",
      "2022-03-17 12:41:26.567028 starting: writing array-based template file 'freyberg6_template\\rch_recharge_18_gr_inst0_grid.csv.tpl'\n",
      "2022-03-17 12:41:26.567028 saving zone array freyberg6_template\\rch_recharge_18_gr_inst0_grid.csv.zone for tpl file freyberg6_template\\rch_recharge_18_gr_inst0_grid.csv.tpl\n",
      "2022-03-17 12:41:26.573963 finished: adding grid type m style parameters for file(s) ['freyberg6.rch_recharge_18.txt'] took: 0:00:00.026861\n",
      "2022-03-17 12:41:26.573963 starting: adding pilotpoints type m style parameters for file(s) ['freyberg6.rch_recharge_18.txt']\n",
      "2022-03-17 12:41:26.573963 starting: loading array freyberg6_template\\freyberg6.rch_recharge_18.txt\n",
      "2022-03-17 12:41:26.576011 finished: loading array freyberg6_template\\freyberg6.rch_recharge_18.txt took: 0:00:00.002048\n",
      "2022-03-17 12:41:26.576011 loaded array 'freyberg_mf6\\freyberg6.rch_recharge_18.txt' of shape (40, 20)\n",
      "2022-03-17 12:41:26.578009 starting: writing array-style template file 'freyberg6_template\\rch_recharge_18_pp_inst0_pilotpoints.csv.tpl'\n",
      "2022-03-17 12:41:26.578009 starting: setting up pilot point parameters\n",
      "2022-03-17 12:41:26.578009 No spatial reference (containing cell spacing) passed.\n",
      "2022-03-17 12:41:26.578009 OK - using spatial reference in parent object.\n"
     ]
    },
    {
     "name": "stdout",
     "output_type": "stream",
     "text": [
      "2022-03-17 12:41:26.648764 32 pilot point parameters created\n",
      "2022-03-17 12:41:26.648764 pilot point 'pargp':rch_recharge_18_pp\n",
      "2022-03-17 12:41:26.648764 finished: setting up pilot point parameters took: 0:00:00.070755\n",
      "2022-03-17 12:41:26.654800 starting: writing array-based template file 'freyberg6_template\\rch_recharge_18_pp_inst0pp.dat.tpl'\n",
      "2022-03-17 12:41:26.656035 saving zone array freyberg6_template\\rch_recharge_18_pp_inst0pp.dat.zone for tpl file freyberg6_template\\rch_recharge_18_pp_inst0pp.dat.tpl\n",
      "2022-03-17 12:41:26.660783 finished: adding pilotpoints type m style parameters for file(s) ['freyberg6.rch_recharge_18.txt'] took: 0:00:00.086820\n",
      "2022-03-17 12:41:26.661779 starting: adding constant type m style parameters for file(s) ['freyberg6.rch_recharge_18.txt']\n",
      "2022-03-17 12:41:26.661779 starting: loading array freyberg6_template\\freyberg6.rch_recharge_18.txt\n",
      "2022-03-17 12:41:26.662777 finished: loading array freyberg6_template\\freyberg6.rch_recharge_18.txt took: 0:00:00.000998\n",
      "2022-03-17 12:41:26.662777 loaded array 'freyberg_mf6\\freyberg6.rch_recharge_18.txt' of shape (40, 20)\n",
      "2022-03-17 12:41:26.665387 starting: writing array-style template file 'freyberg6_template\\rch_recharge_18_cn_inst0_constant.csv.tpl'\n",
      "2022-03-17 12:41:26.665387 starting: writing template file freyberg6_template\\rch_recharge_18_cn_inst0_constant.csv.tpl for ['rch_recharge_18_cn_inst:0']\n",
      "2022-03-17 12:41:26.671370 finished: writing template file freyberg6_template\\rch_recharge_18_cn_inst0_constant.csv.tpl for ['rch_recharge_18_cn_inst:0'] took: 0:00:00.005983\n",
      "2022-03-17 12:41:26.672685 starting: writing array-based template file 'freyberg6_template\\rch_recharge_18_cn_inst0_constant.csv.tpl'\n",
      "2022-03-17 12:41:26.672685 saving zone array freyberg6_template\\rch_recharge_18_cn_inst0_constant.csv.zone for tpl file freyberg6_template\\rch_recharge_18_cn_inst0_constant.csv.tpl\n",
      "2022-03-17 12:41:26.678353 finished: adding constant type m style parameters for file(s) ['freyberg6.rch_recharge_18.txt'] took: 0:00:00.016574\n",
      "2022-03-17 12:41:26.678353 starting: adding constant type m style parameters for file(s) ['freyberg6.rch_recharge_18.txt']\n",
      "2022-03-17 12:41:26.678353 starting: loading array freyberg6_template\\freyberg6.rch_recharge_18.txt\n",
      "2022-03-17 12:41:26.680347 finished: loading array freyberg6_template\\freyberg6.rch_recharge_18.txt took: 0:00:00.001994\n",
      "2022-03-17 12:41:26.680347 loaded array 'freyberg_mf6\\freyberg6.rch_recharge_18.txt' of shape (40, 20)\n",
      "2022-03-17 12:41:26.682341 starting: writing array-style template file 'freyberg6_template\\rch_recharge_18_tcn_inst0_constant.csv.tpl'\n",
      "2022-03-17 12:41:26.682341 starting: writing template file freyberg6_template\\rch_recharge_18_tcn_inst0_constant.csv.tpl for ['rch_recharge_18_tcn_inst:0']\n",
      "2022-03-17 12:41:26.689361 finished: writing template file freyberg6_template\\rch_recharge_18_tcn_inst0_constant.csv.tpl for ['rch_recharge_18_tcn_inst:0'] took: 0:00:00.007020\n",
      "2022-03-17 12:41:26.689361 starting: writing array-based template file 'freyberg6_template\\rch_recharge_18_tcn_inst0_constant.csv.tpl'\n",
      "2022-03-17 12:41:26.690269 saving zone array freyberg6_template\\rch_recharge_18_tcn_inst0_constant.csv.zone for tpl file freyberg6_template\\rch_recharge_18_tcn_inst0_constant.csv.tpl\n",
      "2022-03-17 12:41:26.697301 finished: adding constant type m style parameters for file(s) ['freyberg6.rch_recharge_18.txt'] took: 0:00:00.018948\n",
      "2022-03-17 12:41:26.697301 starting: adding grid type m style parameters for file(s) ['freyberg6.rch_recharge_19.txt']\n",
      "2022-03-17 12:41:26.697301 starting: loading array freyberg6_template\\freyberg6.rch_recharge_19.txt\n",
      "2022-03-17 12:41:26.702236 finished: loading array freyberg6_template\\freyberg6.rch_recharge_19.txt took: 0:00:00.004935\n",
      "2022-03-17 12:41:26.703290 loaded array 'freyberg_mf6\\freyberg6.rch_recharge_19.txt' of shape (40, 20)\n",
      "2022-03-17 12:41:26.704288 starting: writing array-style template file 'freyberg6_template\\rch_recharge_19_gr_inst0_grid.csv.tpl'\n",
      "2022-03-17 12:41:26.705236 starting: writing template file freyberg6_template\\rch_recharge_19_gr_inst0_grid.csv.tpl for ['rch_recharge_19_gr_inst:0']\n",
      "2022-03-17 12:41:26.719252 finished: writing template file freyberg6_template\\rch_recharge_19_gr_inst0_grid.csv.tpl for ['rch_recharge_19_gr_inst:0'] took: 0:00:00.014016\n",
      "2022-03-17 12:41:26.720190 starting: writing array-based template file 'freyberg6_template\\rch_recharge_19_gr_inst0_grid.csv.tpl'\n",
      "2022-03-17 12:41:26.720190 saving zone array freyberg6_template\\rch_recharge_19_gr_inst0_grid.csv.zone for tpl file freyberg6_template\\rch_recharge_19_gr_inst0_grid.csv.tpl\n"
     ]
    },
    {
     "name": "stdout",
     "output_type": "stream",
     "text": [
      "2022-03-17 12:41:26.734185 finished: adding grid type m style parameters for file(s) ['freyberg6.rch_recharge_19.txt'] took: 0:00:00.036884\n",
      "2022-03-17 12:41:26.735183 starting: adding pilotpoints type m style parameters for file(s) ['freyberg6.rch_recharge_19.txt']\n",
      "2022-03-17 12:41:26.735183 starting: loading array freyberg6_template\\freyberg6.rch_recharge_19.txt\n",
      "2022-03-17 12:41:26.737178 finished: loading array freyberg6_template\\freyberg6.rch_recharge_19.txt took: 0:00:00.001995\n",
      "2022-03-17 12:41:26.737178 loaded array 'freyberg_mf6\\freyberg6.rch_recharge_19.txt' of shape (40, 20)\n"
     ]
    },
    {
     "name": "stdout",
     "output_type": "stream",
     "text": [
      "2022-03-17 12:41:26.740171 starting: writing array-style template file 'freyberg6_template\\rch_recharge_19_pp_inst0_pilotpoints.csv.tpl'\n",
      "2022-03-17 12:41:26.740171 starting: setting up pilot point parameters\n",
      "2022-03-17 12:41:26.740171 No spatial reference (containing cell spacing) passed.\n",
      "2022-03-17 12:41:26.740171 OK - using spatial reference in parent object.\n",
      "2022-03-17 12:41:26.809949 32 pilot point parameters created\n",
      "2022-03-17 12:41:26.809949 pilot point 'pargp':rch_recharge_19_pp\n",
      "2022-03-17 12:41:26.809949 finished: setting up pilot point parameters took: 0:00:00.069778\n",
      "2022-03-17 12:41:26.816982 starting: writing array-based template file 'freyberg6_template\\rch_recharge_19_pp_inst0pp.dat.tpl'\n",
      "2022-03-17 12:41:26.816982 saving zone array freyberg6_template\\rch_recharge_19_pp_inst0pp.dat.zone for tpl file freyberg6_template\\rch_recharge_19_pp_inst0pp.dat.tpl\n",
      "2022-03-17 12:41:26.822914 finished: adding pilotpoints type m style parameters for file(s) ['freyberg6.rch_recharge_19.txt'] took: 0:00:00.087731\n",
      "2022-03-17 12:41:26.822914 starting: adding constant type m style parameters for file(s) ['freyberg6.rch_recharge_19.txt']\n",
      "2022-03-17 12:41:26.822914 starting: loading array freyberg6_template\\freyberg6.rch_recharge_19.txt\n",
      "2022-03-17 12:41:26.823912 finished: loading array freyberg6_template\\freyberg6.rch_recharge_19.txt took: 0:00:00.000998\n",
      "2022-03-17 12:41:26.824944 loaded array 'freyberg_mf6\\freyberg6.rch_recharge_19.txt' of shape (40, 20)\n",
      "2022-03-17 12:41:26.825957 starting: writing array-style template file 'freyberg6_template\\rch_recharge_19_cn_inst0_constant.csv.tpl'\n",
      "2022-03-17 12:41:26.826969 starting: writing template file freyberg6_template\\rch_recharge_19_cn_inst0_constant.csv.tpl for ['rch_recharge_19_cn_inst:0']\n",
      "2022-03-17 12:41:26.833935 finished: writing template file freyberg6_template\\rch_recharge_19_cn_inst0_constant.csv.tpl for ['rch_recharge_19_cn_inst:0'] took: 0:00:00.006966\n",
      "2022-03-17 12:41:26.833935 starting: writing array-based template file 'freyberg6_template\\rch_recharge_19_cn_inst0_constant.csv.tpl'\n",
      "2022-03-17 12:41:26.833935 saving zone array freyberg6_template\\rch_recharge_19_cn_inst0_constant.csv.zone for tpl file freyberg6_template\\rch_recharge_19_cn_inst0_constant.csv.tpl\n"
     ]
    },
    {
     "name": "stdout",
     "output_type": "stream",
     "text": [
      "2022-03-17 12:41:26.839920 finished: adding constant type m style parameters for file(s) ['freyberg6.rch_recharge_19.txt'] took: 0:00:00.017006\n",
      "2022-03-17 12:41:26.840866 starting: adding constant type m style parameters for file(s) ['freyberg6.rch_recharge_19.txt']\n",
      "2022-03-17 12:41:26.840866 starting: loading array freyberg6_template\\freyberg6.rch_recharge_19.txt\n",
      "2022-03-17 12:41:26.841864 finished: loading array freyberg6_template\\freyberg6.rch_recharge_19.txt took: 0:00:00.000998\n",
      "2022-03-17 12:41:26.841864 loaded array 'freyberg_mf6\\freyberg6.rch_recharge_19.txt' of shape (40, 20)\n",
      "2022-03-17 12:41:26.843892 starting: writing array-style template file 'freyberg6_template\\rch_recharge_19_tcn_inst0_constant.csv.tpl'\n",
      "2022-03-17 12:41:26.843892 starting: writing template file freyberg6_template\\rch_recharge_19_tcn_inst0_constant.csv.tpl for ['rch_recharge_19_tcn_inst:0']\n",
      "2022-03-17 12:41:26.850872 finished: writing template file freyberg6_template\\rch_recharge_19_tcn_inst0_constant.csv.tpl for ['rch_recharge_19_tcn_inst:0'] took: 0:00:00.006980\n",
      "2022-03-17 12:41:26.850872 starting: writing array-based template file 'freyberg6_template\\rch_recharge_19_tcn_inst0_constant.csv.tpl'\n",
      "2022-03-17 12:41:26.851873 saving zone array freyberg6_template\\rch_recharge_19_tcn_inst0_constant.csv.zone for tpl file freyberg6_template\\rch_recharge_19_tcn_inst0_constant.csv.tpl\n",
      "2022-03-17 12:41:26.859867 finished: adding constant type m style parameters for file(s) ['freyberg6.rch_recharge_19.txt'] took: 0:00:00.019001\n",
      "2022-03-17 12:41:26.859867 starting: adding grid type m style parameters for file(s) ['freyberg6.rch_recharge_2.txt']\n",
      "2022-03-17 12:41:26.859867 starting: loading array freyberg6_template\\freyberg6.rch_recharge_2.txt\n",
      "2022-03-17 12:41:26.864859 finished: loading array freyberg6_template\\freyberg6.rch_recharge_2.txt took: 0:00:00.004992\n",
      "2022-03-17 12:41:26.864859 loaded array 'freyberg_mf6\\freyberg6.rch_recharge_2.txt' of shape (40, 20)\n",
      "2022-03-17 12:41:26.866849 starting: writing array-style template file 'freyberg6_template\\rch_recharge_2_gr_inst0_grid.csv.tpl'\n",
      "2022-03-17 12:41:26.866849 starting: writing template file freyberg6_template\\rch_recharge_2_gr_inst0_grid.csv.tpl for ['rch_recharge_2_gr_inst:0']\n",
      "2022-03-17 12:41:26.879814 finished: writing template file freyberg6_template\\rch_recharge_2_gr_inst0_grid.csv.tpl for ['rch_recharge_2_gr_inst:0'] took: 0:00:00.012965\n",
      "2022-03-17 12:41:26.879814 starting: writing array-based template file 'freyberg6_template\\rch_recharge_2_gr_inst0_grid.csv.tpl'\n",
      "2022-03-17 12:41:26.879814 saving zone array freyberg6_template\\rch_recharge_2_gr_inst0_grid.csv.zone for tpl file freyberg6_template\\rch_recharge_2_gr_inst0_grid.csv.tpl\n",
      "2022-03-17 12:41:26.886794 finished: adding grid type m style parameters for file(s) ['freyberg6.rch_recharge_2.txt'] took: 0:00:00.026927\n",
      "2022-03-17 12:41:26.886794 starting: adding pilotpoints type m style parameters for file(s) ['freyberg6.rch_recharge_2.txt']\n",
      "2022-03-17 12:41:26.886794 starting: loading array freyberg6_template\\freyberg6.rch_recharge_2.txt\n",
      "2022-03-17 12:41:26.888793 finished: loading array freyberg6_template\\freyberg6.rch_recharge_2.txt took: 0:00:00.001999\n",
      "2022-03-17 12:41:26.888793 loaded array 'freyberg_mf6\\freyberg6.rch_recharge_2.txt' of shape (40, 20)\n",
      "2022-03-17 12:41:26.890733 starting: writing array-style template file 'freyberg6_template\\rch_recharge_2_pp_inst0_pilotpoints.csv.tpl'\n",
      "2022-03-17 12:41:26.890733 starting: setting up pilot point parameters\n",
      "2022-03-17 12:41:26.890733 No spatial reference (containing cell spacing) passed.\n",
      "2022-03-17 12:41:26.890733 OK - using spatial reference in parent object.\n"
     ]
    },
    {
     "name": "stdout",
     "output_type": "stream",
     "text": [
      "2022-03-17 12:41:26.961545 32 pilot point parameters created\n",
      "2022-03-17 12:41:26.961545 pilot point 'pargp':rch_recharge_2_pp\n",
      "2022-03-17 12:41:26.962541 finished: setting up pilot point parameters took: 0:00:00.071808\n",
      "2022-03-17 12:41:26.968556 starting: writing array-based template file 'freyberg6_template\\rch_recharge_2_pp_inst0pp.dat.tpl'\n",
      "2022-03-17 12:41:26.969554 saving zone array freyberg6_template\\rch_recharge_2_pp_inst0pp.dat.zone for tpl file freyberg6_template\\rch_recharge_2_pp_inst0pp.dat.tpl\n",
      "2022-03-17 12:41:26.975507 finished: adding pilotpoints type m style parameters for file(s) ['freyberg6.rch_recharge_2.txt'] took: 0:00:00.088713\n",
      "2022-03-17 12:41:26.975507 starting: adding constant type m style parameters for file(s) ['freyberg6.rch_recharge_2.txt']\n",
      "2022-03-17 12:41:26.975507 starting: loading array freyberg6_template\\freyberg6.rch_recharge_2.txt\n",
      "2022-03-17 12:41:26.978525 finished: loading array freyberg6_template\\freyberg6.rch_recharge_2.txt took: 0:00:00.003018\n",
      "2022-03-17 12:41:26.978525 loaded array 'freyberg_mf6\\freyberg6.rch_recharge_2.txt' of shape (40, 20)\n",
      "2022-03-17 12:41:26.980493 starting: writing array-style template file 'freyberg6_template\\rch_recharge_2_cn_inst0_constant.csv.tpl'\n",
      "2022-03-17 12:41:26.980493 starting: writing template file freyberg6_template\\rch_recharge_2_cn_inst0_constant.csv.tpl for ['rch_recharge_2_cn_inst:0']\n",
      "2022-03-17 12:41:26.987529 finished: writing template file freyberg6_template\\rch_recharge_2_cn_inst0_constant.csv.tpl for ['rch_recharge_2_cn_inst:0'] took: 0:00:00.007036\n",
      "2022-03-17 12:41:26.987529 starting: writing array-based template file 'freyberg6_template\\rch_recharge_2_cn_inst0_constant.csv.tpl'\n",
      "2022-03-17 12:41:26.988472 saving zone array freyberg6_template\\rch_recharge_2_cn_inst0_constant.csv.zone for tpl file freyberg6_template\\rch_recharge_2_cn_inst0_constant.csv.tpl\n",
      "2022-03-17 12:41:26.994507 finished: adding constant type m style parameters for file(s) ['freyberg6.rch_recharge_2.txt'] took: 0:00:00.019000\n",
      "2022-03-17 12:41:26.994507 starting: adding constant type m style parameters for file(s) ['freyberg6.rch_recharge_2.txt']\n",
      "2022-03-17 12:41:26.994507 starting: loading array freyberg6_template\\freyberg6.rch_recharge_2.txt\n",
      "2022-03-17 12:41:26.996507 finished: loading array freyberg6_template\\freyberg6.rch_recharge_2.txt took: 0:00:00.002000\n",
      "2022-03-17 12:41:26.996507 loaded array 'freyberg_mf6\\freyberg6.rch_recharge_2.txt' of shape (40, 20)\n",
      "2022-03-17 12:41:26.998497 starting: writing array-style template file 'freyberg6_template\\rch_recharge_2_tcn_inst0_constant.csv.tpl'\n",
      "2022-03-17 12:41:26.998497 starting: writing template file freyberg6_template\\rch_recharge_2_tcn_inst0_constant.csv.tpl for ['rch_recharge_2_tcn_inst:0']\n",
      "2022-03-17 12:41:27.005426 finished: writing template file freyberg6_template\\rch_recharge_2_tcn_inst0_constant.csv.tpl for ['rch_recharge_2_tcn_inst:0'] took: 0:00:00.006929\n",
      "2022-03-17 12:41:27.006424 starting: writing array-based template file 'freyberg6_template\\rch_recharge_2_tcn_inst0_constant.csv.tpl'\n",
      "2022-03-17 12:41:27.006424 saving zone array freyberg6_template\\rch_recharge_2_tcn_inst0_constant.csv.zone for tpl file freyberg6_template\\rch_recharge_2_tcn_inst0_constant.csv.tpl\n",
      "2022-03-17 12:41:27.014436 finished: adding constant type m style parameters for file(s) ['freyberg6.rch_recharge_2.txt'] took: 0:00:00.019929\n",
      "2022-03-17 12:41:27.014436 starting: adding grid type m style parameters for file(s) ['freyberg6.rch_recharge_20.txt']\n",
      "2022-03-17 12:41:27.014436 starting: loading array freyberg6_template\\freyberg6.rch_recharge_20.txt\n",
      "2022-03-17 12:41:27.019439 finished: loading array freyberg6_template\\freyberg6.rch_recharge_20.txt took: 0:00:00.005003\n",
      "2022-03-17 12:41:27.019439 loaded array 'freyberg_mf6\\freyberg6.rch_recharge_20.txt' of shape (40, 20)\n"
     ]
    },
    {
     "name": "stdout",
     "output_type": "stream",
     "text": [
      "2022-03-17 12:41:27.021417 starting: writing array-style template file 'freyberg6_template\\rch_recharge_20_gr_inst0_grid.csv.tpl'\n",
      "2022-03-17 12:41:27.022660 starting: writing template file freyberg6_template\\rch_recharge_20_gr_inst0_grid.csv.tpl for ['rch_recharge_20_gr_inst:0']\n",
      "2022-03-17 12:41:27.034382 finished: writing template file freyberg6_template\\rch_recharge_20_gr_inst0_grid.csv.tpl for ['rch_recharge_20_gr_inst:0'] took: 0:00:00.011722\n",
      "2022-03-17 12:41:27.034382 starting: writing array-based template file 'freyberg6_template\\rch_recharge_20_gr_inst0_grid.csv.tpl'\n",
      "2022-03-17 12:41:27.034382 saving zone array freyberg6_template\\rch_recharge_20_gr_inst0_grid.csv.zone for tpl file freyberg6_template\\rch_recharge_20_gr_inst0_grid.csv.tpl\n",
      "2022-03-17 12:41:27.042362 finished: adding grid type m style parameters for file(s) ['freyberg6.rch_recharge_20.txt'] took: 0:00:00.027926\n",
      "2022-03-17 12:41:27.042362 starting: adding pilotpoints type m style parameters for file(s) ['freyberg6.rch_recharge_20.txt']\n",
      "2022-03-17 12:41:27.042362 starting: loading array freyberg6_template\\freyberg6.rch_recharge_20.txt\n",
      "2022-03-17 12:41:27.043370 finished: loading array freyberg6_template\\freyberg6.rch_recharge_20.txt took: 0:00:00.001008\n",
      "2022-03-17 12:41:27.043370 loaded array 'freyberg_mf6\\freyberg6.rch_recharge_20.txt' of shape (40, 20)\n",
      "2022-03-17 12:41:27.046350 starting: writing array-style template file 'freyberg6_template\\rch_recharge_20_pp_inst0_pilotpoints.csv.tpl'\n",
      "2022-03-17 12:41:27.046350 starting: setting up pilot point parameters\n",
      "2022-03-17 12:41:27.046350 No spatial reference (containing cell spacing) passed.\n",
      "2022-03-17 12:41:27.046350 OK - using spatial reference in parent object.\n",
      "2022-03-17 12:41:27.113189 32 pilot point parameters created\n",
      "2022-03-17 12:41:27.113189 pilot point 'pargp':rch_recharge_20_pp\n",
      "2022-03-17 12:41:27.113189 finished: setting up pilot point parameters took: 0:00:00.066839\n",
      "2022-03-17 12:41:27.120171 starting: writing array-based template file 'freyberg6_template\\rch_recharge_20_pp_inst0pp.dat.tpl'\n",
      "2022-03-17 12:41:27.120171 saving zone array freyberg6_template\\rch_recharge_20_pp_inst0pp.dat.zone for tpl file freyberg6_template\\rch_recharge_20_pp_inst0pp.dat.tpl\n",
      "2022-03-17 12:41:27.125158 finished: adding pilotpoints type m style parameters for file(s) ['freyberg6.rch_recharge_20.txt'] took: 0:00:00.082796\n",
      "2022-03-17 12:41:27.126155 starting: adding constant type m style parameters for file(s) ['freyberg6.rch_recharge_20.txt']\n",
      "2022-03-17 12:41:27.126155 starting: loading array freyberg6_template\\freyberg6.rch_recharge_20.txt\n",
      "2022-03-17 12:41:27.127152 finished: loading array freyberg6_template\\freyberg6.rch_recharge_20.txt took: 0:00:00.000997\n",
      "2022-03-17 12:41:27.127152 loaded array 'freyberg_mf6\\freyberg6.rch_recharge_20.txt' of shape (40, 20)\n",
      "2022-03-17 12:41:27.129122 starting: writing array-style template file 'freyberg6_template\\rch_recharge_20_cn_inst0_constant.csv.tpl'\n",
      "2022-03-17 12:41:27.129122 starting: writing template file freyberg6_template\\rch_recharge_20_cn_inst0_constant.csv.tpl for ['rch_recharge_20_cn_inst:0']\n",
      "2022-03-17 12:41:27.136076 finished: writing template file freyberg6_template\\rch_recharge_20_cn_inst0_constant.csv.tpl for ['rch_recharge_20_cn_inst:0'] took: 0:00:00.006954\n",
      "2022-03-17 12:41:27.136076 starting: writing array-based template file 'freyberg6_template\\rch_recharge_20_cn_inst0_constant.csv.tpl'\n",
      "2022-03-17 12:41:27.136076 saving zone array freyberg6_template\\rch_recharge_20_cn_inst0_constant.csv.zone for tpl file freyberg6_template\\rch_recharge_20_cn_inst0_constant.csv.tpl\n",
      "2022-03-17 12:41:27.143114 finished: adding constant type m style parameters for file(s) ['freyberg6.rch_recharge_20.txt'] took: 0:00:00.016959\n",
      "2022-03-17 12:41:27.143114 starting: adding constant type m style parameters for file(s) ['freyberg6.rch_recharge_20.txt']\n",
      "2022-03-17 12:41:27.143114 starting: loading array freyberg6_template\\freyberg6.rch_recharge_20.txt\n"
     ]
    },
    {
     "name": "stdout",
     "output_type": "stream",
     "text": [
      "2022-03-17 12:41:27.145128 finished: loading array freyberg6_template\\freyberg6.rch_recharge_20.txt took: 0:00:00.002014\n",
      "2022-03-17 12:41:27.145128 loaded array 'freyberg_mf6\\freyberg6.rch_recharge_20.txt' of shape (40, 20)\n",
      "2022-03-17 12:41:27.147098 starting: writing array-style template file 'freyberg6_template\\rch_recharge_20_tcn_inst0_constant.csv.tpl'\n",
      "2022-03-17 12:41:27.147098 starting: writing template file freyberg6_template\\rch_recharge_20_tcn_inst0_constant.csv.tpl for ['rch_recharge_20_tcn_inst:0']\n",
      "2022-03-17 12:41:27.154079 finished: writing template file freyberg6_template\\rch_recharge_20_tcn_inst0_constant.csv.tpl for ['rch_recharge_20_tcn_inst:0'] took: 0:00:00.006981\n",
      "2022-03-17 12:41:27.154079 starting: writing array-based template file 'freyberg6_template\\rch_recharge_20_tcn_inst0_constant.csv.tpl'\n",
      "2022-03-17 12:41:27.155060 saving zone array freyberg6_template\\rch_recharge_20_tcn_inst0_constant.csv.zone for tpl file freyberg6_template\\rch_recharge_20_tcn_inst0_constant.csv.tpl\n",
      "2022-03-17 12:41:27.162058 finished: adding constant type m style parameters for file(s) ['freyberg6.rch_recharge_20.txt'] took: 0:00:00.018944\n",
      "2022-03-17 12:41:27.162058 starting: adding grid type m style parameters for file(s) ['freyberg6.rch_recharge_21.txt']\n",
      "2022-03-17 12:41:27.162058 starting: loading array freyberg6_template\\freyberg6.rch_recharge_21.txt\n",
      "2022-03-17 12:41:27.168042 finished: loading array freyberg6_template\\freyberg6.rch_recharge_21.txt took: 0:00:00.005984\n",
      "2022-03-17 12:41:27.168042 loaded array 'freyberg_mf6\\freyberg6.rch_recharge_21.txt' of shape (40, 20)\n",
      "2022-03-17 12:41:27.170037 starting: writing array-style template file 'freyberg6_template\\rch_recharge_21_gr_inst0_grid.csv.tpl'\n",
      "2022-03-17 12:41:27.170037 starting: writing template file freyberg6_template\\rch_recharge_21_gr_inst0_grid.csv.tpl for ['rch_recharge_21_gr_inst:0']\n",
      "2022-03-17 12:41:27.181953 finished: writing template file freyberg6_template\\rch_recharge_21_gr_inst0_grid.csv.tpl for ['rch_recharge_21_gr_inst:0'] took: 0:00:00.011916\n",
      "2022-03-17 12:41:27.182984 starting: writing array-based template file 'freyberg6_template\\rch_recharge_21_gr_inst0_grid.csv.tpl'\n",
      "2022-03-17 12:41:27.182984 saving zone array freyberg6_template\\rch_recharge_21_gr_inst0_grid.csv.zone for tpl file freyberg6_template\\rch_recharge_21_gr_inst0_grid.csv.tpl\n",
      "2022-03-17 12:41:27.189984 finished: adding grid type m style parameters for file(s) ['freyberg6.rch_recharge_21.txt'] took: 0:00:00.027926\n",
      "2022-03-17 12:41:27.189984 starting: adding pilotpoints type m style parameters for file(s) ['freyberg6.rch_recharge_21.txt']\n",
      "2022-03-17 12:41:27.190973 starting: loading array freyberg6_template\\freyberg6.rch_recharge_21.txt\n",
      "2022-03-17 12:41:27.191928 finished: loading array freyberg6_template\\freyberg6.rch_recharge_21.txt took: 0:00:00.000955\n",
      "2022-03-17 12:41:27.191928 loaded array 'freyberg_mf6\\freyberg6.rch_recharge_21.txt' of shape (40, 20)\n",
      "2022-03-17 12:41:27.193974 starting: writing array-style template file 'freyberg6_template\\rch_recharge_21_pp_inst0_pilotpoints.csv.tpl'\n",
      "2022-03-17 12:41:27.193974 starting: setting up pilot point parameters\n",
      "2022-03-17 12:41:27.193974 No spatial reference (containing cell spacing) passed.\n",
      "2022-03-17 12:41:27.193974 OK - using spatial reference in parent object.\n"
     ]
    },
    {
     "name": "stdout",
     "output_type": "stream",
     "text": [
      "2022-03-17 12:41:27.263734 32 pilot point parameters created\n",
      "2022-03-17 12:41:27.264784 pilot point 'pargp':rch_recharge_21_pp\n",
      "2022-03-17 12:41:27.264784 finished: setting up pilot point parameters took: 0:00:00.070810\n",
      "2022-03-17 12:41:27.271765 starting: writing array-based template file 'freyberg6_template\\rch_recharge_21_pp_inst0pp.dat.tpl'\n",
      "2022-03-17 12:41:27.271765 saving zone array freyberg6_template\\rch_recharge_21_pp_inst0pp.dat.zone for tpl file freyberg6_template\\rch_recharge_21_pp_inst0pp.dat.tpl\n",
      "2022-03-17 12:41:27.276751 finished: adding pilotpoints type m style parameters for file(s) ['freyberg6.rch_recharge_21.txt'] took: 0:00:00.086767\n",
      "2022-03-17 12:41:27.276751 starting: adding constant type m style parameters for file(s) ['freyberg6.rch_recharge_21.txt']\n",
      "2022-03-17 12:41:27.276751 starting: loading array freyberg6_template\\freyberg6.rch_recharge_21.txt\n",
      "2022-03-17 12:41:27.278746 finished: loading array freyberg6_template\\freyberg6.rch_recharge_21.txt took: 0:00:00.001995\n",
      "2022-03-17 12:41:27.278746 loaded array 'freyberg_mf6\\freyberg6.rch_recharge_21.txt' of shape (40, 20)\n",
      "2022-03-17 12:41:27.280741 starting: writing array-style template file 'freyberg6_template\\rch_recharge_21_cn_inst0_constant.csv.tpl'\n",
      "2022-03-17 12:41:27.280741 starting: writing template file freyberg6_template\\rch_recharge_21_cn_inst0_constant.csv.tpl for ['rch_recharge_21_cn_inst:0']\n",
      "2022-03-17 12:41:27.287727 finished: writing template file freyberg6_template\\rch_recharge_21_cn_inst0_constant.csv.tpl for ['rch_recharge_21_cn_inst:0'] took: 0:00:00.006986\n",
      "2022-03-17 12:41:27.287727 starting: writing array-based template file 'freyberg6_template\\rch_recharge_21_cn_inst0_constant.csv.tpl'\n",
      "2022-03-17 12:41:27.287727 saving zone array freyberg6_template\\rch_recharge_21_cn_inst0_constant.csv.zone for tpl file freyberg6_template\\rch_recharge_21_cn_inst0_constant.csv.tpl\n",
      "2022-03-17 12:41:27.293707 finished: adding constant type m style parameters for file(s) ['freyberg6.rch_recharge_21.txt'] took: 0:00:00.016956\n",
      "2022-03-17 12:41:27.293707 starting: adding constant type m style parameters for file(s) ['freyberg6.rch_recharge_21.txt']\n",
      "2022-03-17 12:41:27.293707 starting: loading array freyberg6_template\\freyberg6.rch_recharge_21.txt\n",
      "2022-03-17 12:41:27.295701 finished: loading array freyberg6_template\\freyberg6.rch_recharge_21.txt took: 0:00:00.001994\n",
      "2022-03-17 12:41:27.295701 loaded array 'freyberg_mf6\\freyberg6.rch_recharge_21.txt' of shape (40, 20)\n",
      "2022-03-17 12:41:27.297695 starting: writing array-style template file 'freyberg6_template\\rch_recharge_21_tcn_inst0_constant.csv.tpl'\n",
      "2022-03-17 12:41:27.297695 starting: writing template file freyberg6_template\\rch_recharge_21_tcn_inst0_constant.csv.tpl for ['rch_recharge_21_tcn_inst:0']\n",
      "2022-03-17 12:41:27.304677 finished: writing template file freyberg6_template\\rch_recharge_21_tcn_inst0_constant.csv.tpl for ['rch_recharge_21_tcn_inst:0'] took: 0:00:00.006982\n",
      "2022-03-17 12:41:27.304677 starting: writing array-based template file 'freyberg6_template\\rch_recharge_21_tcn_inst0_constant.csv.tpl'\n",
      "2022-03-17 12:41:27.305967 saving zone array freyberg6_template\\rch_recharge_21_tcn_inst0_constant.csv.zone for tpl file freyberg6_template\\rch_recharge_21_tcn_inst0_constant.csv.tpl\n",
      "2022-03-17 12:41:27.312655 finished: adding constant type m style parameters for file(s) ['freyberg6.rch_recharge_21.txt'] took: 0:00:00.018948\n",
      "2022-03-17 12:41:27.313659 starting: adding grid type m style parameters for file(s) ['freyberg6.rch_recharge_22.txt']\n",
      "2022-03-17 12:41:27.313659 starting: loading array freyberg6_template\\freyberg6.rch_recharge_22.txt\n",
      "2022-03-17 12:41:27.318640 finished: loading array freyberg6_template\\freyberg6.rch_recharge_22.txt took: 0:00:00.004981\n",
      "2022-03-17 12:41:27.318640 loaded array 'freyberg_mf6\\freyberg6.rch_recharge_22.txt' of shape (40, 20)\n",
      "2022-03-17 12:41:27.320638 starting: writing array-style template file 'freyberg6_template\\rch_recharge_22_gr_inst0_grid.csv.tpl'\n",
      "2022-03-17 12:41:27.320638 starting: writing template file freyberg6_template\\rch_recharge_22_gr_inst0_grid.csv.tpl for ['rch_recharge_22_gr_inst:0']\n",
      "2022-03-17 12:41:27.333599 finished: writing template file freyberg6_template\\rch_recharge_22_gr_inst0_grid.csv.tpl for ['rch_recharge_22_gr_inst:0'] took: 0:00:00.012961\n",
      "2022-03-17 12:41:27.333599 starting: writing array-based template file 'freyberg6_template\\rch_recharge_22_gr_inst0_grid.csv.tpl'\n",
      "2022-03-17 12:41:27.333599 saving zone array freyberg6_template\\rch_recharge_22_gr_inst0_grid.csv.zone for tpl file freyberg6_template\\rch_recharge_22_gr_inst0_grid.csv.tpl\n"
     ]
    },
    {
     "name": "stdout",
     "output_type": "stream",
     "text": [
      "2022-03-17 12:41:27.341563 finished: adding grid type m style parameters for file(s) ['freyberg6.rch_recharge_22.txt'] took: 0:00:00.027904\n",
      "2022-03-17 12:41:27.341563 starting: adding pilotpoints type m style parameters for file(s) ['freyberg6.rch_recharge_22.txt']\n",
      "2022-03-17 12:41:27.341563 starting: loading array freyberg6_template\\freyberg6.rch_recharge_22.txt\n",
      "2022-03-17 12:41:27.342576 finished: loading array freyberg6_template\\freyberg6.rch_recharge_22.txt took: 0:00:00.001013\n",
      "2022-03-17 12:41:27.342576 loaded array 'freyberg_mf6\\freyberg6.rch_recharge_22.txt' of shape (40, 20)\n",
      "2022-03-17 12:41:27.344557 starting: writing array-style template file 'freyberg6_template\\rch_recharge_22_pp_inst0_pilotpoints.csv.tpl'\n",
      "2022-03-17 12:41:27.344557 starting: setting up pilot point parameters\n",
      "2022-03-17 12:41:27.344557 No spatial reference (containing cell spacing) passed.\n",
      "2022-03-17 12:41:27.344557 OK - using spatial reference in parent object.\n",
      "2022-03-17 12:41:27.412337 32 pilot point parameters created\n",
      "2022-03-17 12:41:27.413373 pilot point 'pargp':rch_recharge_22_pp\n",
      "2022-03-17 12:41:27.413373 finished: setting up pilot point parameters took: 0:00:00.068816\n",
      "2022-03-17 12:41:27.419353 starting: writing array-based template file 'freyberg6_template\\rch_recharge_22_pp_inst0pp.dat.tpl'\n",
      "2022-03-17 12:41:27.420349 saving zone array freyberg6_template\\rch_recharge_22_pp_inst0pp.dat.zone for tpl file freyberg6_template\\rch_recharge_22_pp_inst0pp.dat.tpl\n",
      "2022-03-17 12:41:27.425335 finished: adding pilotpoints type m style parameters for file(s) ['freyberg6.rch_recharge_22.txt'] took: 0:00:00.083772\n",
      "2022-03-17 12:41:27.425335 starting: adding constant type m style parameters for file(s) ['freyberg6.rch_recharge_22.txt']\n",
      "2022-03-17 12:41:27.425335 starting: loading array freyberg6_template\\freyberg6.rch_recharge_22.txt\n",
      "2022-03-17 12:41:27.427349 finished: loading array freyberg6_template\\freyberg6.rch_recharge_22.txt took: 0:00:00.002014\n",
      "2022-03-17 12:41:27.427349 loaded array 'freyberg_mf6\\freyberg6.rch_recharge_22.txt' of shape (40, 20)\n",
      "2022-03-17 12:41:27.429348 starting: writing array-style template file 'freyberg6_template\\rch_recharge_22_cn_inst0_constant.csv.tpl'\n",
      "2022-03-17 12:41:27.429348 starting: writing template file freyberg6_template\\rch_recharge_22_cn_inst0_constant.csv.tpl for ['rch_recharge_22_cn_inst:0']\n",
      "2022-03-17 12:41:27.436314 finished: writing template file freyberg6_template\\rch_recharge_22_cn_inst0_constant.csv.tpl for ['rch_recharge_22_cn_inst:0'] took: 0:00:00.006966\n",
      "2022-03-17 12:41:27.436314 starting: writing array-based template file 'freyberg6_template\\rch_recharge_22_cn_inst0_constant.csv.tpl'\n",
      "2022-03-17 12:41:27.436314 saving zone array freyberg6_template\\rch_recharge_22_cn_inst0_constant.csv.zone for tpl file freyberg6_template\\rch_recharge_22_cn_inst0_constant.csv.tpl\n",
      "2022-03-17 12:41:27.443289 finished: adding constant type m style parameters for file(s) ['freyberg6.rch_recharge_22.txt'] took: 0:00:00.017954\n",
      "2022-03-17 12:41:27.443289 starting: adding constant type m style parameters for file(s) ['freyberg6.rch_recharge_22.txt']\n",
      "2022-03-17 12:41:27.443289 starting: loading array freyberg6_template\\freyberg6.rch_recharge_22.txt\n"
     ]
    },
    {
     "name": "stdout",
     "output_type": "stream",
     "text": [
      "2022-03-17 12:41:27.444314 finished: loading array freyberg6_template\\freyberg6.rch_recharge_22.txt took: 0:00:00.001025\n",
      "2022-03-17 12:41:27.445277 loaded array 'freyberg_mf6\\freyberg6.rch_recharge_22.txt' of shape (40, 20)\n",
      "2022-03-17 12:41:27.447296 starting: writing array-style template file 'freyberg6_template\\rch_recharge_22_tcn_inst0_constant.csv.tpl'\n",
      "2022-03-17 12:41:27.447296 starting: writing template file freyberg6_template\\rch_recharge_22_tcn_inst0_constant.csv.tpl for ['rch_recharge_22_tcn_inst:0']\n",
      "2022-03-17 12:41:27.454227 finished: writing template file freyberg6_template\\rch_recharge_22_tcn_inst0_constant.csv.tpl for ['rch_recharge_22_tcn_inst:0'] took: 0:00:00.006931\n",
      "2022-03-17 12:41:27.454227 starting: writing array-based template file 'freyberg6_template\\rch_recharge_22_tcn_inst0_constant.csv.tpl'\n",
      "2022-03-17 12:41:27.455224 saving zone array freyberg6_template\\rch_recharge_22_tcn_inst0_constant.csv.zone for tpl file freyberg6_template\\rch_recharge_22_tcn_inst0_constant.csv.tpl\n",
      "2022-03-17 12:41:27.464199 finished: adding constant type m style parameters for file(s) ['freyberg6.rch_recharge_22.txt'] took: 0:00:00.020910\n",
      "2022-03-17 12:41:27.464199 starting: adding grid type m style parameters for file(s) ['freyberg6.rch_recharge_23.txt']\n",
      "2022-03-17 12:41:27.464199 starting: loading array freyberg6_template\\freyberg6.rch_recharge_23.txt\n",
      "2022-03-17 12:41:27.469186 finished: loading array freyberg6_template\\freyberg6.rch_recharge_23.txt took: 0:00:00.004987\n",
      "2022-03-17 12:41:27.469186 loaded array 'freyberg_mf6\\freyberg6.rch_recharge_23.txt' of shape (40, 20)\n",
      "2022-03-17 12:41:27.471216 starting: writing array-style template file 'freyberg6_template\\rch_recharge_23_gr_inst0_grid.csv.tpl'\n",
      "2022-03-17 12:41:27.471216 starting: writing template file freyberg6_template\\rch_recharge_23_gr_inst0_grid.csv.tpl for ['rch_recharge_23_gr_inst:0']\n",
      "2022-03-17 12:41:27.484146 finished: writing template file freyberg6_template\\rch_recharge_23_gr_inst0_grid.csv.tpl for ['rch_recharge_23_gr_inst:0'] took: 0:00:00.012930\n",
      "2022-03-17 12:41:27.485144 starting: writing array-based template file 'freyberg6_template\\rch_recharge_23_gr_inst0_grid.csv.tpl'\n",
      "2022-03-17 12:41:27.485144 saving zone array freyberg6_template\\rch_recharge_23_gr_inst0_grid.csv.zone for tpl file freyberg6_template\\rch_recharge_23_gr_inst0_grid.csv.tpl\n",
      "2022-03-17 12:41:27.493159 finished: adding grid type m style parameters for file(s) ['freyberg6.rch_recharge_23.txt'] took: 0:00:00.028960\n",
      "2022-03-17 12:41:27.493159 starting: adding pilotpoints type m style parameters for file(s) ['freyberg6.rch_recharge_23.txt']\n",
      "2022-03-17 12:41:27.493159 starting: loading array freyberg6_template\\freyberg6.rch_recharge_23.txt\n",
      "2022-03-17 12:41:27.495169 finished: loading array freyberg6_template\\freyberg6.rch_recharge_23.txt took: 0:00:00.002010\n",
      "2022-03-17 12:41:27.495169 loaded array 'freyberg_mf6\\freyberg6.rch_recharge_23.txt' of shape (40, 20)\n",
      "2022-03-17 12:41:27.497163 starting: writing array-style template file 'freyberg6_template\\rch_recharge_23_pp_inst0_pilotpoints.csv.tpl'\n",
      "2022-03-17 12:41:27.497163 starting: setting up pilot point parameters\n",
      "2022-03-17 12:41:27.497163 No spatial reference (containing cell spacing) passed.\n",
      "2022-03-17 12:41:27.497163 OK - using spatial reference in parent object.\n"
     ]
    },
    {
     "name": "stdout",
     "output_type": "stream",
     "text": [
      "2022-03-17 12:41:27.564929 32 pilot point parameters created\n",
      "2022-03-17 12:41:27.565978 pilot point 'pargp':rch_recharge_23_pp\n",
      "2022-03-17 12:41:27.565978 finished: setting up pilot point parameters took: 0:00:00.068815\n",
      "2022-03-17 12:41:27.572640 starting: writing array-based template file 'freyberg6_template\\rch_recharge_23_pp_inst0pp.dat.tpl'\n",
      "2022-03-17 12:41:27.572640 saving zone array freyberg6_template\\rch_recharge_23_pp_inst0pp.dat.zone for tpl file freyberg6_template\\rch_recharge_23_pp_inst0pp.dat.tpl\n",
      "2022-03-17 12:41:27.577677 finished: adding pilotpoints type m style parameters for file(s) ['freyberg6.rch_recharge_23.txt'] took: 0:00:00.084518\n",
      "2022-03-17 12:41:27.578672 starting: adding constant type m style parameters for file(s) ['freyberg6.rch_recharge_23.txt']\n",
      "2022-03-17 12:41:27.578672 starting: loading array freyberg6_template\\freyberg6.rch_recharge_23.txt\n",
      "2022-03-17 12:41:27.579670 finished: loading array freyberg6_template\\freyberg6.rch_recharge_23.txt took: 0:00:00.000998\n",
      "2022-03-17 12:41:27.579670 loaded array 'freyberg_mf6\\freyberg6.rch_recharge_23.txt' of shape (40, 20)\n",
      "2022-03-17 12:41:27.581616 starting: writing array-style template file 'freyberg6_template\\rch_recharge_23_cn_inst0_constant.csv.tpl'\n",
      "2022-03-17 12:41:27.581616 starting: writing template file freyberg6_template\\rch_recharge_23_cn_inst0_constant.csv.tpl for ['rch_recharge_23_cn_inst:0']\n",
      "2022-03-17 12:41:27.589647 finished: writing template file freyberg6_template\\rch_recharge_23_cn_inst0_constant.csv.tpl for ['rch_recharge_23_cn_inst:0'] took: 0:00:00.008031\n",
      "2022-03-17 12:41:27.589647 starting: writing array-based template file 'freyberg6_template\\rch_recharge_23_cn_inst0_constant.csv.tpl'\n",
      "2022-03-17 12:41:27.589647 saving zone array freyberg6_template\\rch_recharge_23_cn_inst0_constant.csv.zone for tpl file freyberg6_template\\rch_recharge_23_cn_inst0_constant.csv.tpl\n",
      "2022-03-17 12:41:27.595627 finished: adding constant type m style parameters for file(s) ['freyberg6.rch_recharge_23.txt'] took: 0:00:00.016955\n",
      "2022-03-17 12:41:27.595627 starting: adding constant type m style parameters for file(s) ['freyberg6.rch_recharge_23.txt']\n",
      "2022-03-17 12:41:27.595627 starting: loading array freyberg6_template\\freyberg6.rch_recharge_23.txt\n",
      "2022-03-17 12:41:27.597625 finished: loading array freyberg6_template\\freyberg6.rch_recharge_23.txt took: 0:00:00.001998\n",
      "2022-03-17 12:41:27.597625 loaded array 'freyberg_mf6\\freyberg6.rch_recharge_23.txt' of shape (40, 20)\n",
      "2022-03-17 12:41:27.599617 starting: writing array-style template file 'freyberg6_template\\rch_recharge_23_tcn_inst0_constant.csv.tpl'\n",
      "2022-03-17 12:41:27.599617 starting: writing template file freyberg6_template\\rch_recharge_23_tcn_inst0_constant.csv.tpl for ['rch_recharge_23_tcn_inst:0']\n",
      "2022-03-17 12:41:27.606602 finished: writing template file freyberg6_template\\rch_recharge_23_tcn_inst0_constant.csv.tpl for ['rch_recharge_23_tcn_inst:0'] took: 0:00:00.006985\n",
      "2022-03-17 12:41:27.606602 starting: writing array-based template file 'freyberg6_template\\rch_recharge_23_tcn_inst0_constant.csv.tpl'\n",
      "2022-03-17 12:41:27.607578 saving zone array freyberg6_template\\rch_recharge_23_tcn_inst0_constant.csv.zone for tpl file freyberg6_template\\rch_recharge_23_tcn_inst0_constant.csv.tpl\n",
      "2022-03-17 12:41:27.614565 finished: adding constant type m style parameters for file(s) ['freyberg6.rch_recharge_23.txt'] took: 0:00:00.018938\n",
      "2022-03-17 12:41:27.614565 starting: adding grid type m style parameters for file(s) ['freyberg6.rch_recharge_24.txt']\n",
      "2022-03-17 12:41:27.614565 starting: loading array freyberg6_template\\freyberg6.rch_recharge_24.txt\n",
      "2022-03-17 12:41:27.620543 finished: loading array freyberg6_template\\freyberg6.rch_recharge_24.txt took: 0:00:00.005978\n",
      "2022-03-17 12:41:27.620543 loaded array 'freyberg_mf6\\freyberg6.rch_recharge_24.txt' of shape (40, 20)\n",
      "2022-03-17 12:41:27.622642 starting: writing array-style template file 'freyberg6_template\\rch_recharge_24_gr_inst0_grid.csv.tpl'\n",
      "2022-03-17 12:41:27.622642 starting: writing template file freyberg6_template\\rch_recharge_24_gr_inst0_grid.csv.tpl for ['rch_recharge_24_gr_inst:0']\n",
      "2022-03-17 12:41:27.634504 finished: writing template file freyberg6_template\\rch_recharge_24_gr_inst0_grid.csv.tpl for ['rch_recharge_24_gr_inst:0'] took: 0:00:00.011862\n",
      "2022-03-17 12:41:27.634504 starting: writing array-based template file 'freyberg6_template\\rch_recharge_24_gr_inst0_grid.csv.tpl'\n"
     ]
    },
    {
     "name": "stdout",
     "output_type": "stream",
     "text": [
      "2022-03-17 12:41:27.635470 saving zone array freyberg6_template\\rch_recharge_24_gr_inst0_grid.csv.zone for tpl file freyberg6_template\\rch_recharge_24_gr_inst0_grid.csv.tpl\n",
      "2022-03-17 12:41:27.642503 finished: adding grid type m style parameters for file(s) ['freyberg6.rch_recharge_24.txt'] took: 0:00:00.027938\n",
      "2022-03-17 12:41:27.643500 starting: adding pilotpoints type m style parameters for file(s) ['freyberg6.rch_recharge_24.txt']\n",
      "2022-03-17 12:41:27.643500 starting: loading array freyberg6_template\\freyberg6.rch_recharge_24.txt\n",
      "2022-03-17 12:41:27.644506 finished: loading array freyberg6_template\\freyberg6.rch_recharge_24.txt took: 0:00:00.001006\n",
      "2022-03-17 12:41:27.644506 loaded array 'freyberg_mf6\\freyberg6.rch_recharge_24.txt' of shape (40, 20)\n",
      "2022-03-17 12:41:27.646495 starting: writing array-style template file 'freyberg6_template\\rch_recharge_24_pp_inst0_pilotpoints.csv.tpl'\n",
      "2022-03-17 12:41:27.646495 starting: setting up pilot point parameters\n",
      "2022-03-17 12:41:27.646495 No spatial reference (containing cell spacing) passed.\n",
      "2022-03-17 12:41:27.646495 OK - using spatial reference in parent object.\n",
      "2022-03-17 12:41:27.714312 32 pilot point parameters created\n",
      "2022-03-17 12:41:27.714312 pilot point 'pargp':rch_recharge_24_pp\n",
      "2022-03-17 12:41:27.714312 finished: setting up pilot point parameters took: 0:00:00.067817\n",
      "2022-03-17 12:41:27.721274 starting: writing array-based template file 'freyberg6_template\\rch_recharge_24_pp_inst0pp.dat.tpl'\n",
      "2022-03-17 12:41:27.721274 saving zone array freyberg6_template\\rch_recharge_24_pp_inst0pp.dat.zone for tpl file freyberg6_template\\rch_recharge_24_pp_inst0pp.dat.tpl\n",
      "2022-03-17 12:41:27.726282 finished: adding pilotpoints type m style parameters for file(s) ['freyberg6.rch_recharge_24.txt'] took: 0:00:00.082782\n",
      "2022-03-17 12:41:27.727292 starting: adding constant type m style parameters for file(s) ['freyberg6.rch_recharge_24.txt']\n",
      "2022-03-17 12:41:27.727292 starting: loading array freyberg6_template\\freyberg6.rch_recharge_24.txt\n",
      "2022-03-17 12:41:27.728275 finished: loading array freyberg6_template\\freyberg6.rch_recharge_24.txt took: 0:00:00.000983\n",
      "2022-03-17 12:41:27.728275 loaded array 'freyberg_mf6\\freyberg6.rch_recharge_24.txt' of shape (40, 20)\n",
      "2022-03-17 12:41:27.730271 starting: writing array-style template file 'freyberg6_template\\rch_recharge_24_cn_inst0_constant.csv.tpl'\n",
      "2022-03-17 12:41:27.730271 starting: writing template file freyberg6_template\\rch_recharge_24_cn_inst0_constant.csv.tpl for ['rch_recharge_24_cn_inst:0']\n",
      "2022-03-17 12:41:27.737198 finished: writing template file freyberg6_template\\rch_recharge_24_cn_inst0_constant.csv.tpl for ['rch_recharge_24_cn_inst:0'] took: 0:00:00.006927\n",
      "2022-03-17 12:41:27.737198 starting: writing array-based template file 'freyberg6_template\\rch_recharge_24_cn_inst0_constant.csv.tpl'\n",
      "2022-03-17 12:41:27.737198 saving zone array freyberg6_template\\rch_recharge_24_cn_inst0_constant.csv.zone for tpl file freyberg6_template\\rch_recharge_24_cn_inst0_constant.csv.tpl\n",
      "2022-03-17 12:41:27.744231 finished: adding constant type m style parameters for file(s) ['freyberg6.rch_recharge_24.txt'] took: 0:00:00.016939\n",
      "2022-03-17 12:41:27.744231 starting: adding constant type m style parameters for file(s) ['freyberg6.rch_recharge_24.txt']\n",
      "2022-03-17 12:41:27.744231 starting: loading array freyberg6_template\\freyberg6.rch_recharge_24.txt\n",
      "2022-03-17 12:41:27.745227 finished: loading array freyberg6_template\\freyberg6.rch_recharge_24.txt took: 0:00:00.000996\n",
      "2022-03-17 12:41:27.745227 loaded array 'freyberg_mf6\\freyberg6.rch_recharge_24.txt' of shape (40, 20)\n",
      "2022-03-17 12:41:27.747222 starting: writing array-style template file 'freyberg6_template\\rch_recharge_24_tcn_inst0_constant.csv.tpl'\n",
      "2022-03-17 12:41:27.747222 starting: writing template file freyberg6_template\\rch_recharge_24_tcn_inst0_constant.csv.tpl for ['rch_recharge_24_tcn_inst:0']\n",
      "2022-03-17 12:41:27.754203 finished: writing template file freyberg6_template\\rch_recharge_24_tcn_inst0_constant.csv.tpl for ['rch_recharge_24_tcn_inst:0'] took: 0:00:00.006981\n",
      "2022-03-17 12:41:27.755183 starting: writing array-based template file 'freyberg6_template\\rch_recharge_24_tcn_inst0_constant.csv.tpl'\n",
      "2022-03-17 12:41:27.756182 saving zone array freyberg6_template\\rch_recharge_24_tcn_inst0_constant.csv.zone for tpl file freyberg6_template\\rch_recharge_24_tcn_inst0_constant.csv.tpl\n"
     ]
    },
    {
     "name": "stdout",
     "output_type": "stream",
     "text": [
      "2022-03-17 12:41:27.764177 finished: adding constant type m style parameters for file(s) ['freyberg6.rch_recharge_24.txt'] took: 0:00:00.019946\n",
      "2022-03-17 12:41:27.764177 starting: adding grid type m style parameters for file(s) ['freyberg6.rch_recharge_25.txt']\n",
      "2022-03-17 12:41:27.764177 starting: loading array freyberg6_template\\freyberg6.rch_recharge_25.txt\n",
      "2022-03-17 12:41:27.769163 finished: loading array freyberg6_template\\freyberg6.rch_recharge_25.txt took: 0:00:00.004986\n",
      "2022-03-17 12:41:27.769163 loaded array 'freyberg_mf6\\freyberg6.rch_recharge_25.txt' of shape (40, 20)\n",
      "2022-03-17 12:41:27.771158 starting: writing array-style template file 'freyberg6_template\\rch_recharge_25_gr_inst0_grid.csv.tpl'\n",
      "2022-03-17 12:41:27.771158 starting: writing template file freyberg6_template\\rch_recharge_25_gr_inst0_grid.csv.tpl for ['rch_recharge_25_gr_inst:0']\n",
      "2022-03-17 12:41:27.783133 finished: writing template file freyberg6_template\\rch_recharge_25_gr_inst0_grid.csv.tpl for ['rch_recharge_25_gr_inst:0'] took: 0:00:00.011975\n",
      "2022-03-17 12:41:27.783133 starting: writing array-based template file 'freyberg6_template\\rch_recharge_25_gr_inst0_grid.csv.tpl'\n",
      "2022-03-17 12:41:27.783133 saving zone array freyberg6_template\\rch_recharge_25_gr_inst0_grid.csv.zone for tpl file freyberg6_template\\rch_recharge_25_gr_inst0_grid.csv.tpl\n",
      "2022-03-17 12:41:27.812106 finished: adding grid type m style parameters for file(s) ['freyberg6.rch_recharge_25.txt'] took: 0:00:00.047929\n",
      "2022-03-17 12:41:27.812106 starting: adding pilotpoints type m style parameters for file(s) ['freyberg6.rch_recharge_25.txt']\n",
      "2022-03-17 12:41:27.812106 starting: loading array freyberg6_template\\freyberg6.rch_recharge_25.txt\n",
      "2022-03-17 12:41:27.813103 finished: loading array freyberg6_template\\freyberg6.rch_recharge_25.txt took: 0:00:00.000997\n",
      "2022-03-17 12:41:27.813103 loaded array 'freyberg_mf6\\freyberg6.rch_recharge_25.txt' of shape (40, 20)\n",
      "2022-03-17 12:41:27.815101 starting: writing array-style template file 'freyberg6_template\\rch_recharge_25_pp_inst0_pilotpoints.csv.tpl'\n",
      "2022-03-17 12:41:27.815101 starting: setting up pilot point parameters\n",
      "2022-03-17 12:41:27.815101 No spatial reference (containing cell spacing) passed.\n",
      "2022-03-17 12:41:27.815101 OK - using spatial reference in parent object.\n"
     ]
    },
    {
     "name": "stdout",
     "output_type": "stream",
     "text": [
      "2022-03-17 12:41:27.883914 32 pilot point parameters created\n",
      "2022-03-17 12:41:27.883914 pilot point 'pargp':rch_recharge_25_pp\n",
      "2022-03-17 12:41:27.883914 finished: setting up pilot point parameters took: 0:00:00.068813\n",
      "2022-03-17 12:41:27.890896 starting: writing array-based template file 'freyberg6_template\\rch_recharge_25_pp_inst0pp.dat.tpl'\n",
      "2022-03-17 12:41:27.890896 saving zone array freyberg6_template\\rch_recharge_25_pp_inst0pp.dat.zone for tpl file freyberg6_template\\rch_recharge_25_pp_inst0pp.dat.tpl\n",
      "2022-03-17 12:41:27.896828 finished: adding pilotpoints type m style parameters for file(s) ['freyberg6.rch_recharge_25.txt'] took: 0:00:00.084722\n",
      "2022-03-17 12:41:27.896828 starting: adding constant type m style parameters for file(s) ['freyberg6.rch_recharge_25.txt']\n",
      "2022-03-17 12:41:27.896828 starting: loading array freyberg6_template\\freyberg6.rch_recharge_25.txt\n",
      "2022-03-17 12:41:27.897887 finished: loading array freyberg6_template\\freyberg6.rch_recharge_25.txt took: 0:00:00.001059\n",
      "2022-03-17 12:41:27.897887 loaded array 'freyberg_mf6\\freyberg6.rch_recharge_25.txt' of shape (40, 20)\n",
      "2022-03-17 12:41:27.899871 starting: writing array-style template file 'freyberg6_template\\rch_recharge_25_cn_inst0_constant.csv.tpl'\n",
      "2022-03-17 12:41:27.899871 starting: writing template file freyberg6_template\\rch_recharge_25_cn_inst0_constant.csv.tpl for ['rch_recharge_25_cn_inst:0']\n",
      "2022-03-17 12:41:27.907850 finished: writing template file freyberg6_template\\rch_recharge_25_cn_inst0_constant.csv.tpl for ['rch_recharge_25_cn_inst:0'] took: 0:00:00.007979\n",
      "2022-03-17 12:41:27.907850 starting: writing array-based template file 'freyberg6_template\\rch_recharge_25_cn_inst0_constant.csv.tpl'\n",
      "2022-03-17 12:41:27.907850 saving zone array freyberg6_template\\rch_recharge_25_cn_inst0_constant.csv.zone for tpl file freyberg6_template\\rch_recharge_25_cn_inst0_constant.csv.tpl\n",
      "2022-03-17 12:41:27.913817 finished: adding constant type m style parameters for file(s) ['freyberg6.rch_recharge_25.txt'] took: 0:00:00.016989\n",
      "2022-03-17 12:41:27.913817 starting: adding constant type m style parameters for file(s) ['freyberg6.rch_recharge_25.txt']\n",
      "2022-03-17 12:41:27.913817 starting: loading array freyberg6_template\\freyberg6.rch_recharge_25.txt\n",
      "2022-03-17 12:41:27.915777 finished: loading array freyberg6_template\\freyberg6.rch_recharge_25.txt took: 0:00:00.001960\n",
      "2022-03-17 12:41:27.915777 loaded array 'freyberg_mf6\\freyberg6.rch_recharge_25.txt' of shape (40, 20)\n",
      "2022-03-17 12:41:27.917816 starting: writing array-style template file 'freyberg6_template\\rch_recharge_25_tcn_inst0_constant.csv.tpl'\n",
      "2022-03-17 12:41:27.917816 starting: writing template file freyberg6_template\\rch_recharge_25_tcn_inst0_constant.csv.tpl for ['rch_recharge_25_tcn_inst:0']\n",
      "2022-03-17 12:41:27.924805 finished: writing template file freyberg6_template\\rch_recharge_25_tcn_inst0_constant.csv.tpl for ['rch_recharge_25_tcn_inst:0'] took: 0:00:00.006989\n",
      "2022-03-17 12:41:27.924805 starting: writing array-based template file 'freyberg6_template\\rch_recharge_25_tcn_inst0_constant.csv.tpl'\n",
      "2022-03-17 12:41:27.925788 saving zone array freyberg6_template\\rch_recharge_25_tcn_inst0_constant.csv.zone for tpl file freyberg6_template\\rch_recharge_25_tcn_inst0_constant.csv.tpl\n",
      "2022-03-17 12:41:27.932732 finished: adding constant type m style parameters for file(s) ['freyberg6.rch_recharge_25.txt'] took: 0:00:00.018915\n",
      "2022-03-17 12:41:27.932732 starting: adding grid type m style parameters for file(s) ['freyberg6.rch_recharge_3.txt']\n",
      "2022-03-17 12:41:27.932732 starting: loading array freyberg6_template\\freyberg6.rch_recharge_3.txt\n",
      "2022-03-17 12:41:27.937717 finished: loading array freyberg6_template\\freyberg6.rch_recharge_3.txt took: 0:00:00.004985\n",
      "2022-03-17 12:41:27.938748 loaded array 'freyberg_mf6\\freyberg6.rch_recharge_3.txt' of shape (40, 20)\n",
      "2022-03-17 12:41:27.940762 starting: writing array-style template file 'freyberg6_template\\rch_recharge_3_gr_inst0_grid.csv.tpl'\n",
      "2022-03-17 12:41:27.940762 starting: writing template file freyberg6_template\\rch_recharge_3_gr_inst0_grid.csv.tpl for ['rch_recharge_3_gr_inst:0']\n"
     ]
    },
    {
     "name": "stdout",
     "output_type": "stream",
     "text": [
      "2022-03-17 12:41:27.953677 finished: writing template file freyberg6_template\\rch_recharge_3_gr_inst0_grid.csv.tpl for ['rch_recharge_3_gr_inst:0'] took: 0:00:00.012915\n",
      "2022-03-17 12:41:27.953677 starting: writing array-based template file 'freyberg6_template\\rch_recharge_3_gr_inst0_grid.csv.tpl'\n",
      "2022-03-17 12:41:27.954676 saving zone array freyberg6_template\\rch_recharge_3_gr_inst0_grid.csv.zone for tpl file freyberg6_template\\rch_recharge_3_gr_inst0_grid.csv.tpl\n",
      "2022-03-17 12:41:27.962651 finished: adding grid type m style parameters for file(s) ['freyberg6.rch_recharge_3.txt'] took: 0:00:00.029919\n",
      "2022-03-17 12:41:27.962651 starting: adding pilotpoints type m style parameters for file(s) ['freyberg6.rch_recharge_3.txt']\n",
      "2022-03-17 12:41:27.963651 starting: loading array freyberg6_template\\freyberg6.rch_recharge_3.txt\n",
      "2022-03-17 12:41:27.964649 finished: loading array freyberg6_template\\freyberg6.rch_recharge_3.txt took: 0:00:00.000998\n",
      "2022-03-17 12:41:27.964649 loaded array 'freyberg_mf6\\freyberg6.rch_recharge_3.txt' of shape (40, 20)\n",
      "2022-03-17 12:41:27.966687 starting: writing array-style template file 'freyberg6_template\\rch_recharge_3_pp_inst0_pilotpoints.csv.tpl'\n",
      "2022-03-17 12:41:27.966687 starting: setting up pilot point parameters\n",
      "2022-03-17 12:41:27.967640 No spatial reference (containing cell spacing) passed.\n",
      "2022-03-17 12:41:27.967640 OK - using spatial reference in parent object.\n",
      "2022-03-17 12:41:28.035513 32 pilot point parameters created\n",
      "2022-03-17 12:41:28.035513 pilot point 'pargp':rch_recharge_3_pp\n",
      "2022-03-17 12:41:28.035513 finished: setting up pilot point parameters took: 0:00:00.068826\n",
      "2022-03-17 12:41:28.042489 starting: writing array-based template file 'freyberg6_template\\rch_recharge_3_pp_inst0pp.dat.tpl'\n",
      "2022-03-17 12:41:28.042489 saving zone array freyberg6_template\\rch_recharge_3_pp_inst0pp.dat.zone for tpl file freyberg6_template\\rch_recharge_3_pp_inst0pp.dat.tpl\n",
      "2022-03-17 12:41:28.047476 finished: adding pilotpoints type m style parameters for file(s) ['freyberg6.rch_recharge_3.txt'] took: 0:00:00.084825\n",
      "2022-03-17 12:41:28.047476 starting: adding constant type m style parameters for file(s) ['freyberg6.rch_recharge_3.txt']\n",
      "2022-03-17 12:41:28.047476 starting: loading array freyberg6_template\\freyberg6.rch_recharge_3.txt\n",
      "2022-03-17 12:41:28.049471 finished: loading array freyberg6_template\\freyberg6.rch_recharge_3.txt took: 0:00:00.001995\n",
      "2022-03-17 12:41:28.049471 loaded array 'freyberg_mf6\\freyberg6.rch_recharge_3.txt' of shape (40, 20)\n",
      "2022-03-17 12:41:28.050442 starting: writing array-style template file 'freyberg6_template\\rch_recharge_3_cn_inst0_constant.csv.tpl'\n",
      "2022-03-17 12:41:28.051471 starting: writing template file freyberg6_template\\rch_recharge_3_cn_inst0_constant.csv.tpl for ['rch_recharge_3_cn_inst:0']\n",
      "2022-03-17 12:41:28.058432 finished: writing template file freyberg6_template\\rch_recharge_3_cn_inst0_constant.csv.tpl for ['rch_recharge_3_cn_inst:0'] took: 0:00:00.006961\n",
      "2022-03-17 12:41:28.058432 starting: writing array-based template file 'freyberg6_template\\rch_recharge_3_cn_inst0_constant.csv.tpl'\n",
      "2022-03-17 12:41:28.058432 saving zone array freyberg6_template\\rch_recharge_3_cn_inst0_constant.csv.zone for tpl file freyberg6_template\\rch_recharge_3_cn_inst0_constant.csv.tpl\n",
      "2022-03-17 12:41:28.064431 finished: adding constant type m style parameters for file(s) ['freyberg6.rch_recharge_3.txt'] took: 0:00:00.016955\n",
      "2022-03-17 12:41:28.064431 starting: adding constant type m style parameters for file(s) ['freyberg6.rch_recharge_3.txt']\n",
      "2022-03-17 12:41:28.064431 starting: loading array freyberg6_template\\freyberg6.rch_recharge_3.txt\n"
     ]
    },
    {
     "name": "stdout",
     "output_type": "stream",
     "text": [
      "2022-03-17 12:41:28.066425 finished: loading array freyberg6_template\\freyberg6.rch_recharge_3.txt took: 0:00:00.001994\n",
      "2022-03-17 12:41:28.066425 loaded array 'freyberg_mf6\\freyberg6.rch_recharge_3.txt' of shape (40, 20)\n",
      "2022-03-17 12:41:28.068421 starting: writing array-style template file 'freyberg6_template\\rch_recharge_3_tcn_inst0_constant.csv.tpl'\n",
      "2022-03-17 12:41:28.068421 starting: writing template file freyberg6_template\\rch_recharge_3_tcn_inst0_constant.csv.tpl for ['rch_recharge_3_tcn_inst:0']\n",
      "2022-03-17 12:41:28.076007 finished: writing template file freyberg6_template\\rch_recharge_3_tcn_inst0_constant.csv.tpl for ['rch_recharge_3_tcn_inst:0'] took: 0:00:00.007586\n",
      "2022-03-17 12:41:28.076007 starting: writing array-based template file 'freyberg6_template\\rch_recharge_3_tcn_inst0_constant.csv.tpl'\n",
      "2022-03-17 12:41:28.076987 saving zone array freyberg6_template\\rch_recharge_3_tcn_inst0_constant.csv.zone for tpl file freyberg6_template\\rch_recharge_3_tcn_inst0_constant.csv.tpl\n",
      "2022-03-17 12:41:28.083937 finished: adding constant type m style parameters for file(s) ['freyberg6.rch_recharge_3.txt'] took: 0:00:00.019506\n",
      "2022-03-17 12:41:28.084984 starting: adding grid type m style parameters for file(s) ['freyberg6.rch_recharge_4.txt']\n",
      "2022-03-17 12:41:28.084984 starting: loading array freyberg6_template\\freyberg6.rch_recharge_4.txt\n",
      "2022-03-17 12:41:28.089919 finished: loading array freyberg6_template\\freyberg6.rch_recharge_4.txt took: 0:00:00.004935\n",
      "2022-03-17 12:41:28.089919 loaded array 'freyberg_mf6\\freyberg6.rch_recharge_4.txt' of shape (40, 20)\n",
      "2022-03-17 12:41:28.091914 starting: writing array-style template file 'freyberg6_template\\rch_recharge_4_gr_inst0_grid.csv.tpl'\n",
      "2022-03-17 12:41:28.092969 starting: writing template file freyberg6_template\\rch_recharge_4_gr_inst0_grid.csv.tpl for ['rch_recharge_4_gr_inst:0']\n",
      "2022-03-17 12:41:28.103933 finished: writing template file freyberg6_template\\rch_recharge_4_gr_inst0_grid.csv.tpl for ['rch_recharge_4_gr_inst:0'] took: 0:00:00.010964\n",
      "2022-03-17 12:41:28.104920 starting: writing array-based template file 'freyberg6_template\\rch_recharge_4_gr_inst0_grid.csv.tpl'\n",
      "2022-03-17 12:41:28.104920 saving zone array freyberg6_template\\rch_recharge_4_gr_inst0_grid.csv.zone for tpl file freyberg6_template\\rch_recharge_4_gr_inst0_grid.csv.tpl\n",
      "2022-03-17 12:41:28.111913 finished: adding grid type m style parameters for file(s) ['freyberg6.rch_recharge_4.txt'] took: 0:00:00.026929\n",
      "2022-03-17 12:41:28.111913 starting: adding pilotpoints type m style parameters for file(s) ['freyberg6.rch_recharge_4.txt']\n",
      "2022-03-17 12:41:28.111913 starting: loading array freyberg6_template\\freyberg6.rch_recharge_4.txt\n",
      "2022-03-17 12:41:28.113908 finished: loading array freyberg6_template\\freyberg6.rch_recharge_4.txt took: 0:00:00.001995\n",
      "2022-03-17 12:41:28.113908 loaded array 'freyberg_mf6\\freyberg6.rch_recharge_4.txt' of shape (40, 20)\n",
      "2022-03-17 12:41:28.115905 starting: writing array-style template file 'freyberg6_template\\rch_recharge_4_pp_inst0_pilotpoints.csv.tpl'\n",
      "2022-03-17 12:41:28.115905 starting: setting up pilot point parameters\n",
      "2022-03-17 12:41:28.115905 No spatial reference (containing cell spacing) passed.\n",
      "2022-03-17 12:41:28.115905 OK - using spatial reference in parent object.\n"
     ]
    },
    {
     "name": "stdout",
     "output_type": "stream",
     "text": [
      "2022-03-17 12:41:28.184665 32 pilot point parameters created\n",
      "2022-03-17 12:41:28.185717 pilot point 'pargp':rch_recharge_4_pp\n",
      "2022-03-17 12:41:28.185717 finished: setting up pilot point parameters took: 0:00:00.069812\n",
      "2022-03-17 12:41:28.192698 starting: writing array-based template file 'freyberg6_template\\rch_recharge_4_pp_inst0pp.dat.tpl'\n",
      "2022-03-17 12:41:28.192698 saving zone array freyberg6_template\\rch_recharge_4_pp_inst0pp.dat.zone for tpl file freyberg6_template\\rch_recharge_4_pp_inst0pp.dat.tpl\n",
      "2022-03-17 12:41:28.197683 finished: adding pilotpoints type m style parameters for file(s) ['freyberg6.rch_recharge_4.txt'] took: 0:00:00.085770\n",
      "2022-03-17 12:41:28.197683 starting: adding constant type m style parameters for file(s) ['freyberg6.rch_recharge_4.txt']\n",
      "2022-03-17 12:41:28.198629 starting: loading array freyberg6_template\\freyberg6.rch_recharge_4.txt\n",
      "2022-03-17 12:41:28.199678 finished: loading array freyberg6_template\\freyberg6.rch_recharge_4.txt took: 0:00:00.001049\n",
      "2022-03-17 12:41:28.199678 loaded array 'freyberg_mf6\\freyberg6.rch_recharge_4.txt' of shape (40, 20)\n",
      "2022-03-17 12:41:28.201673 starting: writing array-style template file 'freyberg6_template\\rch_recharge_4_cn_inst0_constant.csv.tpl'\n",
      "2022-03-17 12:41:28.201673 starting: writing template file freyberg6_template\\rch_recharge_4_cn_inst0_constant.csv.tpl for ['rch_recharge_4_cn_inst:0']\n",
      "2022-03-17 12:41:28.208636 finished: writing template file freyberg6_template\\rch_recharge_4_cn_inst0_constant.csv.tpl for ['rch_recharge_4_cn_inst:0'] took: 0:00:00.006963\n",
      "2022-03-17 12:41:28.208636 starting: writing array-based template file 'freyberg6_template\\rch_recharge_4_cn_inst0_constant.csv.tpl'\n",
      "2022-03-17 12:41:28.208636 saving zone array freyberg6_template\\rch_recharge_4_cn_inst0_constant.csv.zone for tpl file freyberg6_template\\rch_recharge_4_cn_inst0_constant.csv.tpl\n",
      "2022-03-17 12:41:28.214639 finished: adding constant type m style parameters for file(s) ['freyberg6.rch_recharge_4.txt'] took: 0:00:00.016956\n",
      "2022-03-17 12:41:28.215616 starting: adding constant type m style parameters for file(s) ['freyberg6.rch_recharge_4.txt']\n",
      "2022-03-17 12:41:28.215616 starting: loading array freyberg6_template\\freyberg6.rch_recharge_4.txt\n",
      "2022-03-17 12:41:28.216634 finished: loading array freyberg6_template\\freyberg6.rch_recharge_4.txt took: 0:00:00.001018\n",
      "2022-03-17 12:41:28.216634 loaded array 'freyberg_mf6\\freyberg6.rch_recharge_4.txt' of shape (40, 20)\n",
      "2022-03-17 12:41:28.218627 starting: writing array-style template file 'freyberg6_template\\rch_recharge_4_tcn_inst0_constant.csv.tpl'\n",
      "2022-03-17 12:41:28.218627 starting: writing template file freyberg6_template\\rch_recharge_4_tcn_inst0_constant.csv.tpl for ['rch_recharge_4_tcn_inst:0']\n",
      "2022-03-17 12:41:28.225557 finished: writing template file freyberg6_template\\rch_recharge_4_tcn_inst0_constant.csv.tpl for ['rch_recharge_4_tcn_inst:0'] took: 0:00:00.006930\n",
      "2022-03-17 12:41:28.225557 starting: writing array-based template file 'freyberg6_template\\rch_recharge_4_tcn_inst0_constant.csv.tpl'\n",
      "2022-03-17 12:41:28.226621 saving zone array freyberg6_template\\rch_recharge_4_tcn_inst0_constant.csv.zone for tpl file freyberg6_template\\rch_recharge_4_tcn_inst0_constant.csv.tpl\n",
      "2022-03-17 12:41:28.234583 finished: adding constant type m style parameters for file(s) ['freyberg6.rch_recharge_4.txt'] took: 0:00:00.018967\n",
      "2022-03-17 12:41:28.234583 starting: adding grid type m style parameters for file(s) ['freyberg6.rch_recharge_5.txt']\n",
      "2022-03-17 12:41:28.234583 starting: loading array freyberg6_template\\freyberg6.rch_recharge_5.txt\n",
      "2022-03-17 12:41:28.240569 finished: loading array freyberg6_template\\freyberg6.rch_recharge_5.txt took: 0:00:00.005986\n",
      "2022-03-17 12:41:28.240569 loaded array 'freyberg_mf6\\freyberg6.rch_recharge_5.txt' of shape (40, 20)\n",
      "2022-03-17 12:41:28.242562 starting: writing array-style template file 'freyberg6_template\\rch_recharge_5_gr_inst0_grid.csv.tpl'\n",
      "2022-03-17 12:41:28.242562 starting: writing template file freyberg6_template\\rch_recharge_5_gr_inst0_grid.csv.tpl for ['rch_recharge_5_gr_inst:0']\n",
      "2022-03-17 12:41:28.254480 finished: writing template file freyberg6_template\\rch_recharge_5_gr_inst0_grid.csv.tpl for ['rch_recharge_5_gr_inst:0'] took: 0:00:00.011918\n",
      "2022-03-17 12:41:28.254480 starting: writing array-based template file 'freyberg6_template\\rch_recharge_5_gr_inst0_grid.csv.tpl'\n"
     ]
    },
    {
     "name": "stdout",
     "output_type": "stream",
     "text": [
      "2022-03-17 12:41:28.254480 saving zone array freyberg6_template\\rch_recharge_5_gr_inst0_grid.csv.zone for tpl file freyberg6_template\\rch_recharge_5_gr_inst0_grid.csv.tpl\n",
      "2022-03-17 12:41:28.262490 finished: adding grid type m style parameters for file(s) ['freyberg6.rch_recharge_5.txt'] took: 0:00:00.027907\n",
      "2022-03-17 12:41:28.262490 starting: adding pilotpoints type m style parameters for file(s) ['freyberg6.rch_recharge_5.txt']\n",
      "2022-03-17 12:41:28.262490 starting: loading array freyberg6_template\\freyberg6.rch_recharge_5.txt\n",
      "2022-03-17 12:41:28.264497 finished: loading array freyberg6_template\\freyberg6.rch_recharge_5.txt took: 0:00:00.002007\n",
      "2022-03-17 12:41:28.264497 loaded array 'freyberg_mf6\\freyberg6.rch_recharge_5.txt' of shape (40, 20)\n",
      "2022-03-17 12:41:28.266481 starting: writing array-style template file 'freyberg6_template\\rch_recharge_5_pp_inst0_pilotpoints.csv.tpl'\n",
      "2022-03-17 12:41:28.266481 starting: setting up pilot point parameters\n",
      "2022-03-17 12:41:28.266481 No spatial reference (containing cell spacing) passed.\n",
      "2022-03-17 12:41:28.266481 OK - using spatial reference in parent object.\n",
      "2022-03-17 12:41:28.333267 32 pilot point parameters created\n",
      "2022-03-17 12:41:28.334319 pilot point 'pargp':rch_recharge_5_pp\n",
      "2022-03-17 12:41:28.334319 finished: setting up pilot point parameters took: 0:00:00.067838\n",
      "2022-03-17 12:41:28.341282 starting: writing array-based template file 'freyberg6_template\\rch_recharge_5_pp_inst0pp.dat.tpl'\n",
      "2022-03-17 12:41:28.341282 saving zone array freyberg6_template\\rch_recharge_5_pp_inst0pp.dat.zone for tpl file freyberg6_template\\rch_recharge_5_pp_inst0pp.dat.tpl\n",
      "2022-03-17 12:41:28.347265 finished: adding pilotpoints type m style parameters for file(s) ['freyberg6.rch_recharge_5.txt'] took: 0:00:00.084775\n",
      "2022-03-17 12:41:28.347265 starting: adding constant type m style parameters for file(s) ['freyberg6.rch_recharge_5.txt']\n",
      "2022-03-17 12:41:28.347265 starting: loading array freyberg6_template\\freyberg6.rch_recharge_5.txt\n",
      "2022-03-17 12:41:28.349226 finished: loading array freyberg6_template\\freyberg6.rch_recharge_5.txt took: 0:00:00.001961\n",
      "2022-03-17 12:41:28.349226 loaded array 'freyberg_mf6\\freyberg6.rch_recharge_5.txt' of shape (40, 20)\n",
      "2022-03-17 12:41:28.351257 starting: writing array-style template file 'freyberg6_template\\rch_recharge_5_cn_inst0_constant.csv.tpl'\n",
      "2022-03-17 12:41:28.351257 starting: writing template file freyberg6_template\\rch_recharge_5_cn_inst0_constant.csv.tpl for ['rch_recharge_5_cn_inst:0']\n",
      "2022-03-17 12:41:28.358242 finished: writing template file freyberg6_template\\rch_recharge_5_cn_inst0_constant.csv.tpl for ['rch_recharge_5_cn_inst:0'] took: 0:00:00.006985\n",
      "2022-03-17 12:41:28.358242 starting: writing array-based template file 'freyberg6_template\\rch_recharge_5_cn_inst0_constant.csv.tpl'\n",
      "2022-03-17 12:41:28.358242 saving zone array freyberg6_template\\rch_recharge_5_cn_inst0_constant.csv.zone for tpl file freyberg6_template\\rch_recharge_5_cn_inst0_constant.csv.tpl\n",
      "2022-03-17 12:41:28.365234 finished: adding constant type m style parameters for file(s) ['freyberg6.rch_recharge_5.txt'] took: 0:00:00.017969\n",
      "2022-03-17 12:41:28.365234 starting: adding constant type m style parameters for file(s) ['freyberg6.rch_recharge_5.txt']\n",
      "2022-03-17 12:41:28.365234 starting: loading array freyberg6_template\\freyberg6.rch_recharge_5.txt\n"
     ]
    },
    {
     "name": "stdout",
     "output_type": "stream",
     "text": [
      "2022-03-17 12:41:28.366214 finished: loading array freyberg6_template\\freyberg6.rch_recharge_5.txt took: 0:00:00.000980\n",
      "2022-03-17 12:41:28.366214 loaded array 'freyberg_mf6\\freyberg6.rch_recharge_5.txt' of shape (40, 20)\n",
      "2022-03-17 12:41:28.369206 starting: writing array-style template file 'freyberg6_template\\rch_recharge_5_tcn_inst0_constant.csv.tpl'\n",
      "2022-03-17 12:41:28.369206 starting: writing template file freyberg6_template\\rch_recharge_5_tcn_inst0_constant.csv.tpl for ['rch_recharge_5_tcn_inst:0']\n",
      "2022-03-17 12:41:28.376206 finished: writing template file freyberg6_template\\rch_recharge_5_tcn_inst0_constant.csv.tpl for ['rch_recharge_5_tcn_inst:0'] took: 0:00:00.007000\n",
      "2022-03-17 12:41:28.376206 starting: writing array-based template file 'freyberg6_template\\rch_recharge_5_tcn_inst0_constant.csv.tpl'\n",
      "2022-03-17 12:41:28.377186 saving zone array freyberg6_template\\rch_recharge_5_tcn_inst0_constant.csv.zone for tpl file freyberg6_template\\rch_recharge_5_tcn_inst0_constant.csv.tpl\n",
      "2022-03-17 12:41:28.384186 finished: adding constant type m style parameters for file(s) ['freyberg6.rch_recharge_5.txt'] took: 0:00:00.018952\n",
      "2022-03-17 12:41:28.385183 starting: adding grid type m style parameters for file(s) ['freyberg6.rch_recharge_6.txt']\n",
      "2022-03-17 12:41:28.385183 starting: loading array freyberg6_template\\freyberg6.rch_recharge_6.txt\n",
      "2022-03-17 12:41:28.390115 finished: loading array freyberg6_template\\freyberg6.rch_recharge_6.txt took: 0:00:00.004932\n",
      "2022-03-17 12:41:28.390115 loaded array 'freyberg_mf6\\freyberg6.rch_recharge_6.txt' of shape (40, 20)\n",
      "2022-03-17 12:41:28.393161 starting: writing array-style template file 'freyberg6_template\\rch_recharge_6_gr_inst0_grid.csv.tpl'\n",
      "2022-03-17 12:41:28.393161 starting: writing template file freyberg6_template\\rch_recharge_6_gr_inst0_grid.csv.tpl for ['rch_recharge_6_gr_inst:0']\n",
      "2022-03-17 12:41:28.406074 finished: writing template file freyberg6_template\\rch_recharge_6_gr_inst0_grid.csv.tpl for ['rch_recharge_6_gr_inst:0'] took: 0:00:00.012913\n",
      "2022-03-17 12:41:28.406074 starting: writing array-based template file 'freyberg6_template\\rch_recharge_6_gr_inst0_grid.csv.tpl'\n",
      "2022-03-17 12:41:28.406074 saving zone array freyberg6_template\\rch_recharge_6_gr_inst0_grid.csv.zone for tpl file freyberg6_template\\rch_recharge_6_gr_inst0_grid.csv.tpl\n",
      "2022-03-17 12:41:28.413054 finished: adding grid type m style parameters for file(s) ['freyberg6.rch_recharge_6.txt'] took: 0:00:00.027871\n",
      "2022-03-17 12:41:28.413054 starting: adding pilotpoints type m style parameters for file(s) ['freyberg6.rch_recharge_6.txt']\n",
      "2022-03-17 12:41:28.413054 starting: loading array freyberg6_template\\freyberg6.rch_recharge_6.txt\n",
      "2022-03-17 12:41:28.415049 finished: loading array freyberg6_template\\freyberg6.rch_recharge_6.txt took: 0:00:00.001995\n",
      "2022-03-17 12:41:28.415049 loaded array 'freyberg_mf6\\freyberg6.rch_recharge_6.txt' of shape (40, 20)\n",
      "2022-03-17 12:41:28.417097 starting: writing array-style template file 'freyberg6_template\\rch_recharge_6_pp_inst0_pilotpoints.csv.tpl'\n",
      "2022-03-17 12:41:28.417097 starting: setting up pilot point parameters\n",
      "2022-03-17 12:41:28.417097 No spatial reference (containing cell spacing) passed.\n",
      "2022-03-17 12:41:28.417097 OK - using spatial reference in parent object.\n"
     ]
    },
    {
     "name": "stdout",
     "output_type": "stream",
     "text": [
      "2022-03-17 12:41:28.487908 32 pilot point parameters created\n",
      "2022-03-17 12:41:28.487908 pilot point 'pargp':rch_recharge_6_pp\n",
      "2022-03-17 12:41:28.487908 finished: setting up pilot point parameters took: 0:00:00.070811\n",
      "2022-03-17 12:41:28.494888 starting: writing array-based template file 'freyberg6_template\\rch_recharge_6_pp_inst0pp.dat.tpl'\n",
      "2022-03-17 12:41:28.494888 saving zone array freyberg6_template\\rch_recharge_6_pp_inst0pp.dat.zone for tpl file freyberg6_template\\rch_recharge_6_pp_inst0pp.dat.tpl\n",
      "2022-03-17 12:41:28.499877 finished: adding pilotpoints type m style parameters for file(s) ['freyberg6.rch_recharge_6.txt'] took: 0:00:00.086823\n",
      "2022-03-17 12:41:28.500871 starting: adding constant type m style parameters for file(s) ['freyberg6.rch_recharge_6.txt']\n",
      "2022-03-17 12:41:28.500871 starting: loading array freyberg6_template\\freyberg6.rch_recharge_6.txt\n",
      "2022-03-17 12:41:28.501871 finished: loading array freyberg6_template\\freyberg6.rch_recharge_6.txt took: 0:00:00.001000\n",
      "2022-03-17 12:41:28.501871 loaded array 'freyberg_mf6\\freyberg6.rch_recharge_6.txt' of shape (40, 20)\n",
      "2022-03-17 12:41:28.503846 starting: writing array-style template file 'freyberg6_template\\rch_recharge_6_cn_inst0_constant.csv.tpl'\n",
      "2022-03-17 12:41:28.503846 starting: writing template file freyberg6_template\\rch_recharge_6_cn_inst0_constant.csv.tpl for ['rch_recharge_6_cn_inst:0']\n",
      "2022-03-17 12:41:28.511793 finished: writing template file freyberg6_template\\rch_recharge_6_cn_inst0_constant.csv.tpl for ['rch_recharge_6_cn_inst:0'] took: 0:00:00.007947\n",
      "2022-03-17 12:41:28.511793 starting: writing array-based template file 'freyberg6_template\\rch_recharge_6_cn_inst0_constant.csv.tpl'\n",
      "2022-03-17 12:41:28.511793 saving zone array freyberg6_template\\rch_recharge_6_cn_inst0_constant.csv.zone for tpl file freyberg6_template\\rch_recharge_6_cn_inst0_constant.csv.tpl\n",
      "2022-03-17 12:41:28.517775 finished: adding constant type m style parameters for file(s) ['freyberg6.rch_recharge_6.txt'] took: 0:00:00.016904\n",
      "2022-03-17 12:41:28.517775 starting: adding constant type m style parameters for file(s) ['freyberg6.rch_recharge_6.txt']\n",
      "2022-03-17 12:41:28.517775 starting: loading array freyberg6_template\\freyberg6.rch_recharge_6.txt\n",
      "2022-03-17 12:41:28.519770 finished: loading array freyberg6_template\\freyberg6.rch_recharge_6.txt took: 0:00:00.001995\n",
      "2022-03-17 12:41:28.519770 loaded array 'freyberg_mf6\\freyberg6.rch_recharge_6.txt' of shape (40, 20)\n",
      "2022-03-17 12:41:28.521799 starting: writing array-style template file 'freyberg6_template\\rch_recharge_6_tcn_inst0_constant.csv.tpl'\n",
      "2022-03-17 12:41:28.522762 starting: writing template file freyberg6_template\\rch_recharge_6_tcn_inst0_constant.csv.tpl for ['rch_recharge_6_tcn_inst:0']\n",
      "2022-03-17 12:41:28.529794 finished: writing template file freyberg6_template\\rch_recharge_6_tcn_inst0_constant.csv.tpl for ['rch_recharge_6_tcn_inst:0'] took: 0:00:00.007032\n",
      "2022-03-17 12:41:28.529794 starting: writing array-based template file 'freyberg6_template\\rch_recharge_6_tcn_inst0_constant.csv.tpl'\n",
      "2022-03-17 12:41:28.529794 saving zone array freyberg6_template\\rch_recharge_6_tcn_inst0_constant.csv.zone for tpl file freyberg6_template\\rch_recharge_6_tcn_inst0_constant.csv.tpl\n",
      "2022-03-17 12:41:28.537721 finished: adding constant type m style parameters for file(s) ['freyberg6.rch_recharge_6.txt'] took: 0:00:00.019946\n",
      "2022-03-17 12:41:28.538719 starting: adding grid type m style parameters for file(s) ['freyberg6.rch_recharge_7.txt']\n",
      "2022-03-17 12:41:28.538719 starting: loading array freyberg6_template\\freyberg6.rch_recharge_7.txt\n",
      "2022-03-17 12:41:28.543705 finished: loading array freyberg6_template\\freyberg6.rch_recharge_7.txt took: 0:00:00.004986\n",
      "2022-03-17 12:41:28.543705 loaded array 'freyberg_mf6\\freyberg6.rch_recharge_7.txt' of shape (40, 20)\n",
      "2022-03-17 12:41:28.545752 starting: writing array-style template file 'freyberg6_template\\rch_recharge_7_gr_inst0_grid.csv.tpl'\n",
      "2022-03-17 12:41:28.546756 starting: writing template file freyberg6_template\\rch_recharge_7_gr_inst0_grid.csv.tpl for ['rch_recharge_7_gr_inst:0']\n",
      "2022-03-17 12:41:28.558665 finished: writing template file freyberg6_template\\rch_recharge_7_gr_inst0_grid.csv.tpl for ['rch_recharge_7_gr_inst:0'] took: 0:00:00.011909\n",
      "2022-03-17 12:41:28.558665 starting: writing array-based template file 'freyberg6_template\\rch_recharge_7_gr_inst0_grid.csv.tpl'\n",
      "2022-03-17 12:41:28.558665 saving zone array freyberg6_template\\rch_recharge_7_gr_inst0_grid.csv.zone for tpl file freyberg6_template\\rch_recharge_7_gr_inst0_grid.csv.tpl\n"
     ]
    },
    {
     "name": "stdout",
     "output_type": "stream",
     "text": [
      "2022-03-17 12:41:28.566696 finished: adding grid type m style parameters for file(s) ['freyberg6.rch_recharge_7.txt'] took: 0:00:00.027977\n",
      "2022-03-17 12:41:28.566696 starting: adding pilotpoints type m style parameters for file(s) ['freyberg6.rch_recharge_7.txt']\n",
      "2022-03-17 12:41:28.566696 starting: loading array freyberg6_template\\freyberg6.rch_recharge_7.txt\n",
      "2022-03-17 12:41:28.567697 finished: loading array freyberg6_template\\freyberg6.rch_recharge_7.txt took: 0:00:00.001001\n",
      "2022-03-17 12:41:28.568673 loaded array 'freyberg_mf6\\freyberg6.rch_recharge_7.txt' of shape (40, 20)\n",
      "2022-03-17 12:41:28.570684 starting: writing array-style template file 'freyberg6_template\\rch_recharge_7_pp_inst0_pilotpoints.csv.tpl'\n",
      "2022-03-17 12:41:28.570684 starting: setting up pilot point parameters\n",
      "2022-03-17 12:41:28.570684 No spatial reference (containing cell spacing) passed.\n",
      "2022-03-17 12:41:28.570684 OK - using spatial reference in parent object.\n",
      "2022-03-17 12:41:28.639502 32 pilot point parameters created\n",
      "2022-03-17 12:41:28.639502 pilot point 'pargp':rch_recharge_7_pp\n",
      "2022-03-17 12:41:28.639502 finished: setting up pilot point parameters took: 0:00:00.068818\n",
      "2022-03-17 12:41:28.645434 starting: writing array-based template file 'freyberg6_template\\rch_recharge_7_pp_inst0pp.dat.tpl'\n",
      "2022-03-17 12:41:28.646483 saving zone array freyberg6_template\\rch_recharge_7_pp_inst0pp.dat.zone for tpl file freyberg6_template\\rch_recharge_7_pp_inst0pp.dat.tpl\n",
      "2022-03-17 12:41:28.651469 finished: adding pilotpoints type m style parameters for file(s) ['freyberg6.rch_recharge_7.txt'] took: 0:00:00.084773\n",
      "2022-03-17 12:41:28.651469 starting: adding constant type m style parameters for file(s) ['freyberg6.rch_recharge_7.txt']\n",
      "2022-03-17 12:41:28.651469 starting: loading array freyberg6_template\\freyberg6.rch_recharge_7.txt\n",
      "2022-03-17 12:41:28.652466 finished: loading array freyberg6_template\\freyberg6.rch_recharge_7.txt took: 0:00:00.000997\n",
      "2022-03-17 12:41:28.652466 loaded array 'freyberg_mf6\\freyberg6.rch_recharge_7.txt' of shape (40, 20)\n",
      "2022-03-17 12:41:28.654460 starting: writing array-style template file 'freyberg6_template\\rch_recharge_7_cn_inst0_constant.csv.tpl'\n",
      "2022-03-17 12:41:28.654460 starting: writing template file freyberg6_template\\rch_recharge_7_cn_inst0_constant.csv.tpl for ['rch_recharge_7_cn_inst:0']\n",
      "2022-03-17 12:41:28.662440 finished: writing template file freyberg6_template\\rch_recharge_7_cn_inst0_constant.csv.tpl for ['rch_recharge_7_cn_inst:0'] took: 0:00:00.007980\n",
      "2022-03-17 12:41:28.662440 starting: writing array-based template file 'freyberg6_template\\rch_recharge_7_cn_inst0_constant.csv.tpl'\n",
      "2022-03-17 12:41:28.662440 saving zone array freyberg6_template\\rch_recharge_7_cn_inst0_constant.csv.zone for tpl file freyberg6_template\\rch_recharge_7_cn_inst0_constant.csv.tpl\n",
      "2022-03-17 12:41:28.668424 finished: adding constant type m style parameters for file(s) ['freyberg6.rch_recharge_7.txt'] took: 0:00:00.016955\n",
      "2022-03-17 12:41:28.668424 starting: adding constant type m style parameters for file(s) ['freyberg6.rch_recharge_7.txt']\n",
      "2022-03-17 12:41:28.668424 starting: loading array freyberg6_template\\freyberg6.rch_recharge_7.txt\n",
      "2022-03-17 12:41:28.670430 finished: loading array freyberg6_template\\freyberg6.rch_recharge_7.txt took: 0:00:00.002006\n",
      "2022-03-17 12:41:28.670430 loaded array 'freyberg_mf6\\freyberg6.rch_recharge_7.txt' of shape (40, 20)\n",
      "2022-03-17 12:41:28.672594 starting: writing array-style template file 'freyberg6_template\\rch_recharge_7_tcn_inst0_constant.csv.tpl'\n",
      "2022-03-17 12:41:28.672594 starting: writing template file freyberg6_template\\rch_recharge_7_tcn_inst0_constant.csv.tpl for ['rch_recharge_7_tcn_inst:0']\n",
      "2022-03-17 12:41:28.679394 finished: writing template file freyberg6_template\\rch_recharge_7_tcn_inst0_constant.csv.tpl for ['rch_recharge_7_tcn_inst:0'] took: 0:00:00.006800\n",
      "2022-03-17 12:41:28.679394 starting: writing array-based template file 'freyberg6_template\\rch_recharge_7_tcn_inst0_constant.csv.tpl'\n"
     ]
    },
    {
     "name": "stdout",
     "output_type": "stream",
     "text": [
      "2022-03-17 12:41:28.680341 saving zone array freyberg6_template\\rch_recharge_7_tcn_inst0_constant.csv.zone for tpl file freyberg6_template\\rch_recharge_7_tcn_inst0_constant.csv.tpl\n",
      "2022-03-17 12:41:28.688372 finished: adding constant type m style parameters for file(s) ['freyberg6.rch_recharge_7.txt'] took: 0:00:00.019948\n",
      "2022-03-17 12:41:28.689316 starting: adding grid type m style parameters for file(s) ['freyberg6.rch_recharge_8.txt']\n",
      "2022-03-17 12:41:28.689316 starting: loading array freyberg6_template\\freyberg6.rch_recharge_8.txt\n",
      "2022-03-17 12:41:28.694353 finished: loading array freyberg6_template\\freyberg6.rch_recharge_8.txt took: 0:00:00.005037\n",
      "2022-03-17 12:41:28.694353 loaded array 'freyberg_mf6\\freyberg6.rch_recharge_8.txt' of shape (40, 20)\n",
      "2022-03-17 12:41:28.696351 starting: writing array-style template file 'freyberg6_template\\rch_recharge_8_gr_inst0_grid.csv.tpl'\n",
      "2022-03-17 12:41:28.696351 starting: writing template file freyberg6_template\\rch_recharge_8_gr_inst0_grid.csv.tpl for ['rch_recharge_8_gr_inst:0']\n",
      "2022-03-17 12:41:28.708316 finished: writing template file freyberg6_template\\rch_recharge_8_gr_inst0_grid.csv.tpl for ['rch_recharge_8_gr_inst:0'] took: 0:00:00.011965\n",
      "2022-03-17 12:41:28.708316 starting: writing array-based template file 'freyberg6_template\\rch_recharge_8_gr_inst0_grid.csv.tpl'\n",
      "2022-03-17 12:41:28.709263 saving zone array freyberg6_template\\rch_recharge_8_gr_inst0_grid.csv.zone for tpl file freyberg6_template\\rch_recharge_8_gr_inst0_grid.csv.tpl\n",
      "2022-03-17 12:41:28.716295 finished: adding grid type m style parameters for file(s) ['freyberg6.rch_recharge_8.txt'] took: 0:00:00.026979\n",
      "2022-03-17 12:41:28.716295 starting: adding pilotpoints type m style parameters for file(s) ['freyberg6.rch_recharge_8.txt']\n",
      "2022-03-17 12:41:28.716295 starting: loading array freyberg6_template\\freyberg6.rch_recharge_8.txt\n",
      "2022-03-17 12:41:28.717274 finished: loading array freyberg6_template\\freyberg6.rch_recharge_8.txt took: 0:00:00.000979\n",
      "2022-03-17 12:41:28.717274 loaded array 'freyberg_mf6\\freyberg6.rch_recharge_8.txt' of shape (40, 20)\n",
      "2022-03-17 12:41:28.719289 starting: writing array-style template file 'freyberg6_template\\rch_recharge_8_pp_inst0_pilotpoints.csv.tpl'\n",
      "2022-03-17 12:41:28.720275 starting: setting up pilot point parameters\n",
      "2022-03-17 12:41:28.720275 No spatial reference (containing cell spacing) passed.\n",
      "2022-03-17 12:41:28.720275 OK - using spatial reference in parent object.\n"
     ]
    },
    {
     "name": "stdout",
     "output_type": "stream",
     "text": [
      "2022-03-17 12:41:28.787054 32 pilot point parameters created\n",
      "2022-03-17 12:41:28.787054 pilot point 'pargp':rch_recharge_8_pp\n",
      "2022-03-17 12:41:28.788088 finished: setting up pilot point parameters took: 0:00:00.067813\n",
      "2022-03-17 12:41:28.794088 starting: writing array-based template file 'freyberg6_template\\rch_recharge_8_pp_inst0pp.dat.tpl'\n",
      "2022-03-17 12:41:28.795085 saving zone array freyberg6_template\\rch_recharge_8_pp_inst0pp.dat.zone for tpl file freyberg6_template\\rch_recharge_8_pp_inst0pp.dat.tpl\n",
      "2022-03-17 12:41:28.800052 finished: adding pilotpoints type m style parameters for file(s) ['freyberg6.rch_recharge_8.txt'] took: 0:00:00.083757\n",
      "2022-03-17 12:41:28.800052 starting: adding constant type m style parameters for file(s) ['freyberg6.rch_recharge_8.txt']\n",
      "2022-03-17 12:41:28.800052 starting: loading array freyberg6_template\\freyberg6.rch_recharge_8.txt\n",
      "2022-03-17 12:41:28.801069 finished: loading array freyberg6_template\\freyberg6.rch_recharge_8.txt took: 0:00:00.001017\n",
      "2022-03-17 12:41:28.802067 loaded array 'freyberg_mf6\\freyberg6.rch_recharge_8.txt' of shape (40, 20)\n",
      "2022-03-17 12:41:28.804060 starting: writing array-style template file 'freyberg6_template\\rch_recharge_8_cn_inst0_constant.csv.tpl'\n",
      "2022-03-17 12:41:28.804060 starting: writing template file freyberg6_template\\rch_recharge_8_cn_inst0_constant.csv.tpl for ['rch_recharge_8_cn_inst:0']\n",
      "2022-03-17 12:41:28.811042 finished: writing template file freyberg6_template\\rch_recharge_8_cn_inst0_constant.csv.tpl for ['rch_recharge_8_cn_inst:0'] took: 0:00:00.006982\n",
      "2022-03-17 12:41:28.811042 starting: writing array-based template file 'freyberg6_template\\rch_recharge_8_cn_inst0_constant.csv.tpl'\n",
      "2022-03-17 12:41:28.811042 saving zone array freyberg6_template\\rch_recharge_8_cn_inst0_constant.csv.zone for tpl file freyberg6_template\\rch_recharge_8_cn_inst0_constant.csv.tpl\n",
      "2022-03-17 12:41:28.817027 finished: adding constant type m style parameters for file(s) ['freyberg6.rch_recharge_8.txt'] took: 0:00:00.016975\n",
      "2022-03-17 12:41:28.817027 starting: adding constant type m style parameters for file(s) ['freyberg6.rch_recharge_8.txt']\n",
      "2022-03-17 12:41:28.817027 starting: loading array freyberg6_template\\freyberg6.rch_recharge_8.txt\n",
      "2022-03-17 12:41:28.819022 finished: loading array freyberg6_template\\freyberg6.rch_recharge_8.txt took: 0:00:00.001995\n",
      "2022-03-17 12:41:28.819022 loaded array 'freyberg_mf6\\freyberg6.rch_recharge_8.txt' of shape (40, 20)\n",
      "2022-03-17 12:41:28.821017 starting: writing array-style template file 'freyberg6_template\\rch_recharge_8_tcn_inst0_constant.csv.tpl'\n",
      "2022-03-17 12:41:28.821017 starting: writing template file freyberg6_template\\rch_recharge_8_tcn_inst0_constant.csv.tpl for ['rch_recharge_8_tcn_inst:0']\n",
      "2022-03-17 12:41:28.828996 finished: writing template file freyberg6_template\\rch_recharge_8_tcn_inst0_constant.csv.tpl for ['rch_recharge_8_tcn_inst:0'] took: 0:00:00.007979\n",
      "2022-03-17 12:41:28.828996 starting: writing array-based template file 'freyberg6_template\\rch_recharge_8_tcn_inst0_constant.csv.tpl'\n",
      "2022-03-17 12:41:28.829976 saving zone array freyberg6_template\\rch_recharge_8_tcn_inst0_constant.csv.zone for tpl file freyberg6_template\\rch_recharge_8_tcn_inst0_constant.csv.tpl\n",
      "2022-03-17 12:41:28.836980 finished: adding constant type m style parameters for file(s) ['freyberg6.rch_recharge_8.txt'] took: 0:00:00.019953\n",
      "2022-03-17 12:41:28.836980 starting: adding grid type m style parameters for file(s) ['freyberg6.rch_recharge_9.txt']\n",
      "2022-03-17 12:41:28.837977 starting: loading array freyberg6_template\\freyberg6.rch_recharge_9.txt\n",
      "2022-03-17 12:41:28.843937 finished: loading array freyberg6_template\\freyberg6.rch_recharge_9.txt took: 0:00:00.005960\n",
      "2022-03-17 12:41:28.843937 loaded array 'freyberg_mf6\\freyberg6.rch_recharge_9.txt' of shape (40, 20)\n",
      "2022-03-17 12:41:28.845931 starting: writing array-style template file 'freyberg6_template\\rch_recharge_9_gr_inst0_grid.csv.tpl'\n",
      "2022-03-17 12:41:28.845931 starting: writing template file freyberg6_template\\rch_recharge_9_gr_inst0_grid.csv.tpl for ['rch_recharge_9_gr_inst:0']\n",
      "2022-03-17 12:41:28.857899 finished: writing template file freyberg6_template\\rch_recharge_9_gr_inst0_grid.csv.tpl for ['rch_recharge_9_gr_inst:0'] took: 0:00:00.011968\n",
      "2022-03-17 12:41:28.857899 starting: writing array-based template file 'freyberg6_template\\rch_recharge_9_gr_inst0_grid.csv.tpl'\n",
      "2022-03-17 12:41:28.858895 saving zone array freyberg6_template\\rch_recharge_9_gr_inst0_grid.csv.zone for tpl file freyberg6_template\\rch_recharge_9_gr_inst0_grid.csv.tpl\n",
      "2022-03-17 12:41:28.865877 finished: adding grid type m style parameters for file(s) ['freyberg6.rch_recharge_9.txt'] took: 0:00:00.028897\n",
      "2022-03-17 12:41:28.865877 starting: adding pilotpoints type m style parameters for file(s) ['freyberg6.rch_recharge_9.txt']\n",
      "2022-03-17 12:41:28.865877 starting: loading array freyberg6_template\\freyberg6.rch_recharge_9.txt\n"
     ]
    },
    {
     "name": "stdout",
     "output_type": "stream",
     "text": [
      "2022-03-17 12:41:28.867876 finished: loading array freyberg6_template\\freyberg6.rch_recharge_9.txt took: 0:00:00.001999\n",
      "2022-03-17 12:41:28.867876 loaded array 'freyberg_mf6\\freyberg6.rch_recharge_9.txt' of shape (40, 20)\n",
      "2022-03-17 12:41:28.869884 starting: writing array-style template file 'freyberg6_template\\rch_recharge_9_pp_inst0_pilotpoints.csv.tpl'\n",
      "2022-03-17 12:41:28.869884 starting: setting up pilot point parameters\n",
      "2022-03-17 12:41:28.869884 No spatial reference (containing cell spacing) passed.\n",
      "2022-03-17 12:41:28.869884 OK - using spatial reference in parent object.\n",
      "2022-03-17 12:41:28.938701 32 pilot point parameters created\n",
      "2022-03-17 12:41:28.938701 pilot point 'pargp':rch_recharge_9_pp\n",
      "2022-03-17 12:41:28.939681 finished: setting up pilot point parameters took: 0:00:00.069797\n",
      "2022-03-17 12:41:28.945663 starting: writing array-based template file 'freyberg6_template\\rch_recharge_9_pp_inst0pp.dat.tpl'\n",
      "2022-03-17 12:41:28.945663 saving zone array freyberg6_template\\rch_recharge_9_pp_inst0pp.dat.zone for tpl file freyberg6_template\\rch_recharge_9_pp_inst0pp.dat.tpl\n",
      "2022-03-17 12:41:28.951614 finished: adding pilotpoints type m style parameters for file(s) ['freyberg6.rch_recharge_9.txt'] took: 0:00:00.085737\n",
      "2022-03-17 12:41:28.951614 starting: adding constant type m style parameters for file(s) ['freyberg6.rch_recharge_9.txt']\n",
      "2022-03-17 12:41:28.951614 starting: loading array freyberg6_template\\freyberg6.rch_recharge_9.txt\n",
      "2022-03-17 12:41:28.953610 finished: loading array freyberg6_template\\freyberg6.rch_recharge_9.txt took: 0:00:00.001996\n",
      "2022-03-17 12:41:28.953610 loaded array 'freyberg_mf6\\freyberg6.rch_recharge_9.txt' of shape (40, 20)\n",
      "2022-03-17 12:41:28.955863 starting: writing array-style template file 'freyberg6_template\\rch_recharge_9_cn_inst0_constant.csv.tpl'\n",
      "2022-03-17 12:41:28.955863 starting: writing template file freyberg6_template\\rch_recharge_9_cn_inst0_constant.csv.tpl for ['rch_recharge_9_cn_inst:0']\n",
      "2022-03-17 12:41:28.963583 finished: writing template file freyberg6_template\\rch_recharge_9_cn_inst0_constant.csv.tpl for ['rch_recharge_9_cn_inst:0'] took: 0:00:00.007720\n",
      "2022-03-17 12:41:28.963583 starting: writing array-based template file 'freyberg6_template\\rch_recharge_9_cn_inst0_constant.csv.tpl'\n",
      "2022-03-17 12:41:28.963583 saving zone array freyberg6_template\\rch_recharge_9_cn_inst0_constant.csv.zone for tpl file freyberg6_template\\rch_recharge_9_cn_inst0_constant.csv.tpl\n",
      "2022-03-17 12:41:28.969567 finished: adding constant type m style parameters for file(s) ['freyberg6.rch_recharge_9.txt'] took: 0:00:00.017953\n",
      "2022-03-17 12:41:28.969567 starting: adding constant type m style parameters for file(s) ['freyberg6.rch_recharge_9.txt']\n",
      "2022-03-17 12:41:28.969567 starting: loading array freyberg6_template\\freyberg6.rch_recharge_9.txt\n",
      "2022-03-17 12:41:28.971597 finished: loading array freyberg6_template\\freyberg6.rch_recharge_9.txt took: 0:00:00.002030\n",
      "2022-03-17 12:41:28.971597 loaded array 'freyberg_mf6\\freyberg6.rch_recharge_9.txt' of shape (40, 20)\n"
     ]
    },
    {
     "name": "stdout",
     "output_type": "stream",
     "text": [
      "2022-03-17 12:41:28.974554 starting: writing array-style template file 'freyberg6_template\\rch_recharge_9_tcn_inst0_constant.csv.tpl'\n",
      "2022-03-17 12:41:28.974554 starting: writing template file freyberg6_template\\rch_recharge_9_tcn_inst0_constant.csv.tpl for ['rch_recharge_9_tcn_inst:0']\n",
      "2022-03-17 12:41:28.982533 finished: writing template file freyberg6_template\\rch_recharge_9_tcn_inst0_constant.csv.tpl for ['rch_recharge_9_tcn_inst:0'] took: 0:00:00.007979\n",
      "2022-03-17 12:41:28.982533 starting: writing array-based template file 'freyberg6_template\\rch_recharge_9_tcn_inst0_constant.csv.tpl'\n",
      "2022-03-17 12:41:28.983545 saving zone array freyberg6_template\\rch_recharge_9_tcn_inst0_constant.csv.zone for tpl file freyberg6_template\\rch_recharge_9_tcn_inst0_constant.csv.tpl\n",
      "2022-03-17 12:41:28.991542 finished: adding constant type m style parameters for file(s) ['freyberg6.rch_recharge_9.txt'] took: 0:00:00.021975\n"
     ]
    }
   ],
   "source": [
    "# for Recharge; \n",
    "tag = \"rch_recharge\"\n",
    "files = [f for f in os.listdir(template_ws) if tag in f.lower() and f.endswith(\".txt\")]\n",
    "for f in files:\n",
    "    # the spatial multiplier parameters; just use the same function\n",
    "    add_mult_pars(f, lb=0.2, ub=5.0, ulb=2e-5, uub=2e-4)\n",
    "    \n",
    "    \n",
    "    # multiplier that includes temporal correlation\n",
    "    # get the stress period number from the file name\n",
    "    kper = int(f.split('.')[1].split('_')[-1]) - 1  \n",
    "    \n",
    "    # add the constant parameters (with temporal correlation)\n",
    "    pf.add_parameters(filenames=f,\n",
    "                    zone_array=ib,\n",
    "                    par_type=\"constant\",\n",
    "                    par_name_base=f.split('.')[1]+\"_tcn\",\n",
    "                    pargp=f.split('.')[1]+\"_tcn\",\n",
    "                    lower_bound=0.5, upper_bound=1.5,\n",
    "                    ult_ubound=2e-4, ult_lbound=2e-5,\n",
    "                    datetime=dts[kper], # this places the parameter value on the \"time axis\"\n",
    "                    geostruct=temporal_gs)"
   ]
  },
  {
   "cell_type": "markdown",
   "metadata": {},
   "source": [
    "### 5.3.3. List Files\n",
    "\n",
    "Adding parameters from list-type files follows similar principles. As with observation files, they must be tabular. Certain columns are specified as index columns and are used to populate parameter names, as well as provide the parameters' spatial location. Other columns are specified as containing parameter values. \n",
    "\n",
    "Parameters can be `grid` or `constant`. As before, values can be assigned `directly`, as `multipliers` or as `additives`.\n",
    "\n",
    "We will demonstrate for the boundary-condition input files. \n",
    "\n",
    "Starting off with GHBs. Let's inspect the folder. As you can see, there is a single input file (GHB parameters are assumed to not vary over time)."
   ]
  },
  {
   "cell_type": "code",
   "execution_count": 29,
   "metadata": {
    "execution": {
     "iopub.execute_input": "2022-03-17T02:11:28.999520Z",
     "iopub.status.busy": "2022-03-17T02:11:28.998524Z",
     "iopub.status.idle": "2022-03-17T02:11:29.004506Z",
     "shell.execute_reply": "2022-03-17T02:11:29.003510Z"
    }
   },
   "outputs": [
    {
     "name": "stdout",
     "output_type": "stream",
     "text": [
      "['freyberg6.ghb_stress_period_data_1.txt']\n"
     ]
    }
   ],
   "source": [
    "tag = \"ghb_stress_period_data\"\n",
    "files = [f for f in os.listdir(template_ws) if tag in f.lower() and f.endswith(\".txt\")]\n",
    "print(files)"
   ]
  },
  {
   "cell_type": "markdown",
   "metadata": {},
   "source": [
    "Since these boundaries are likely to be very influential, we want to include a robust representation of their uncertainty - both head and conductance and at multiple scales.  \n",
    "\n",
    "Let's parameterize both GHB conductance and head:\n",
    "\n",
    " - For conductance, we shall use two scales of `multiplier` parameters (`constant` and `grid`).\n",
    "\n",
    " - For heads, multipliers are not ideal. Insead we will use `additive` parameters. Again, with a coarse and fine scale."
   ]
  },
  {
   "cell_type": "code",
   "execution_count": 30,
   "metadata": {
    "execution": {
     "iopub.execute_input": "2022-03-17T02:11:29.012491Z",
     "iopub.status.busy": "2022-03-17T02:11:29.011489Z",
     "iopub.status.idle": "2022-03-17T02:11:29.122159Z",
     "shell.execute_reply": "2022-03-17T02:11:29.121160Z"
    }
   },
   "outputs": [
    {
     "name": "stdout",
     "output_type": "stream",
     "text": [
      "2022-03-17 12:41:29.012491 starting: adding grid type m style parameters for file(s) ['freyberg6.ghb_stress_period_data_1.txt']\n",
      "2022-03-17 12:41:29.012491 starting: loading list-style freyberg6_template\\freyberg6.ghb_stress_period_data_1.txt\n",
      "2022-03-17 12:41:29.013483 starting: reading list-style file: freyberg6_template\\freyberg6.ghb_stress_period_data_1.txt\n",
      "2022-03-17 12:41:29.015487 finished: reading list-style file: freyberg6_template\\freyberg6.ghb_stress_period_data_1.txt took: 0:00:00.002004\n",
      "2022-03-17 12:41:29.015487 loaded list-style 'freyberg6_template\\freyberg6.ghb_stress_period_data_1.txt' of shape (30, 5)\n",
      "2022-03-17 12:41:29.017472 finished: loading list-style freyberg6_template\\freyberg6.ghb_stress_period_data_1.txt took: 0:00:00.004981\n",
      "2022-03-17 12:41:29.017472 starting: writing list-style template file 'freyberg6_template\\ghbcond_gr_inst0_grid.csv.tpl'\n",
      "2022-03-17 12:41:29.021461 WARNING: get_xy() warning: position of i and j in index_cols not specified, assume (i,j) are final two entries in index_cols.\n",
      "2022-03-17 12:41:29.026415 WARNING: Coincidently located pars in list-style file, attempting to separate pars based on `index_cols` passed - using index_col[0] for third dimension\n",
      "2022-03-17 12:41:29.036388 finished: writing list-style template file 'freyberg6_template\\ghbcond_gr_inst0_grid.csv.tpl' took: 0:00:00.018916\n",
      "2022-03-17 12:41:29.042406 finished: adding grid type m style parameters for file(s) ['freyberg6.ghb_stress_period_data_1.txt'] took: 0:00:00.029915\n",
      "2022-03-17 12:41:29.043403 starting: adding constant type m style parameters for file(s) ['freyberg6.ghb_stress_period_data_1.txt']\n",
      "2022-03-17 12:41:29.043403 starting: loading list-style freyberg6_template\\freyberg6.ghb_stress_period_data_1.txt\n",
      "2022-03-17 12:41:29.043403 starting: reading list-style file: freyberg6_template\\freyberg6.ghb_stress_period_data_1.txt\n",
      "2022-03-17 12:41:29.044401 finished: reading list-style file: freyberg6_template\\freyberg6.ghb_stress_period_data_1.txt took: 0:00:00.000998\n",
      "2022-03-17 12:41:29.045397 loaded list-style 'freyberg6_template\\freyberg6.ghb_stress_period_data_1.txt' of shape (30, 5)\n",
      "2022-03-17 12:41:29.046397 finished: loading list-style freyberg6_template\\freyberg6.ghb_stress_period_data_1.txt took: 0:00:00.002994\n",
      "2022-03-17 12:41:29.046397 starting: writing list-style template file 'freyberg6_template\\ghbcond_cn_inst0_constant.csv.tpl'\n",
      "2022-03-17 12:41:29.059375 finished: writing list-style template file 'freyberg6_template\\ghbcond_cn_inst0_constant.csv.tpl' took: 0:00:00.012978\n",
      "2022-03-17 12:41:29.064353 finished: adding constant type m style parameters for file(s) ['freyberg6.ghb_stress_period_data_1.txt'] took: 0:00:00.020950\n"
     ]
    },
    {
     "name": "stdout",
     "output_type": "stream",
     "text": [
      "2022-03-17 12:41:29.065361 starting: adding grid type a style parameters for file(s) ['freyberg6.ghb_stress_period_data_1.txt']\n",
      "2022-03-17 12:41:29.065361 WARNING: 0) Inconsistency between geostruct transform and partrans.\n",
      "2022-03-17 12:41:29.065361 WARNING: 1) Setting geostruct transform to {transform}\n",
      "2022-03-17 12:41:29.065361 WARNING: 2) This will create a new copy of geostruct\n",
      "2022-03-17 12:41:29.065361 WARNING: -) Better to pass an appropriately transformed geostruct\n",
      "2022-03-17 12:41:29.065361 starting: loading list-style freyberg6_template\\freyberg6.ghb_stress_period_data_1.txt\n",
      "2022-03-17 12:41:29.066341 starting: reading list-style file: freyberg6_template\\freyberg6.ghb_stress_period_data_1.txt\n",
      "2022-03-17 12:41:29.067339 finished: reading list-style file: freyberg6_template\\freyberg6.ghb_stress_period_data_1.txt took: 0:00:00.000998\n",
      "2022-03-17 12:41:29.067339 loaded list-style 'freyberg6_template\\freyberg6.ghb_stress_period_data_1.txt' of shape (30, 5)\n",
      "2022-03-17 12:41:29.068336 finished: loading list-style freyberg6_template\\freyberg6.ghb_stress_period_data_1.txt took: 0:00:00.002975\n",
      "2022-03-17 12:41:29.069300 starting: writing list-style template file 'freyberg6_template\\ghbhead_gr_inst0_grid.csv.tpl'\n",
      "2022-03-17 12:41:29.074320 WARNING: get_xy() warning: position of i and j in index_cols not specified, assume (i,j) are final two entries in index_cols.\n",
      "2022-03-17 12:41:29.078310 WARNING: Coincidently located pars in list-style file, attempting to separate pars based on `index_cols` passed - using index_col[0] for third dimension\n",
      "2022-03-17 12:41:29.089247 finished: writing list-style template file 'freyberg6_template\\ghbhead_gr_inst0_grid.csv.tpl' took: 0:00:00.019947\n",
      "2022-03-17 12:41:29.094267 finished: adding grid type a style parameters for file(s) ['freyberg6.ghb_stress_period_data_1.txt'] took: 0:00:00.028906\n",
      "2022-03-17 12:41:29.095264 starting: adding constant type a style parameters for file(s) ['freyberg6.ghb_stress_period_data_1.txt']\n",
      "2022-03-17 12:41:29.095264 WARNING: 0) Inconsistency between geostruct transform and partrans.\n",
      "2022-03-17 12:41:29.095264 WARNING: 1) Setting geostruct transform to {transform}\n",
      "2022-03-17 12:41:29.095264 WARNING: 2) This will create a new copy of geostruct\n",
      "2022-03-17 12:41:29.095264 WARNING: -) Better to pass an appropriately transformed geostruct\n",
      "2022-03-17 12:41:29.095264 starting: loading list-style freyberg6_template\\freyberg6.ghb_stress_period_data_1.txt\n",
      "2022-03-17 12:41:29.095264 starting: reading list-style file: freyberg6_template\\freyberg6.ghb_stress_period_data_1.txt\n",
      "2022-03-17 12:41:29.097258 finished: reading list-style file: freyberg6_template\\freyberg6.ghb_stress_period_data_1.txt took: 0:00:00.001994\n",
      "2022-03-17 12:41:29.097258 loaded list-style 'freyberg6_template\\freyberg6.ghb_stress_period_data_1.txt' of shape (30, 5)\n",
      "2022-03-17 12:41:29.098255 finished: loading list-style freyberg6_template\\freyberg6.ghb_stress_period_data_1.txt took: 0:00:00.002991\n",
      "2022-03-17 12:41:29.098255 starting: writing list-style template file 'freyberg6_template\\ghbhead_cn_inst0_constant.csv.tpl'\n",
      "2022-03-17 12:41:29.112220 finished: writing list-style template file 'freyberg6_template\\ghbhead_cn_inst0_constant.csv.tpl' took: 0:00:00.013965\n",
      "2022-03-17 12:41:29.117205 finished: adding constant type a style parameters for file(s) ['freyberg6.ghb_stress_period_data_1.txt'] took: 0:00:00.021941\n"
     ]
    }
   ],
   "source": [
    "tag = \"ghb_stress_period_data\"\n",
    "files = [f for f in os.listdir(template_ws) if tag in f.lower() and f.endswith(\".txt\")]\n",
    "\n",
    "for f in files:\n",
    "    # constant and grid scale multiplier conductance parameters\n",
    "    name = 'ghbcond'\n",
    "    pf.add_parameters(f,\n",
    "                        par_type=\"grid\",\n",
    "                        geostruct=grid_gs,\n",
    "                        par_name_base=name+\"_gr\",\n",
    "                        pargp=name+\"_gr\",\n",
    "                        index_cols=[0,1,2], #column containing lay,row,col\n",
    "                        use_cols=[4], #column containing conductance values\n",
    "                        lower_bound=0.1,upper_bound=10.0,\n",
    "                        ult_lbound=0.1, ult_ubound=100) #absolute limits\n",
    "    pf.add_parameters(f,\n",
    "                        par_type=\"constant\",\n",
    "                        geostruct=grid_gs,\n",
    "                        par_name_base=name+\"_cn\",\n",
    "                        pargp=name+\"_cn\",\n",
    "                        index_cols=[0,1,2],\n",
    "                        use_cols=[4],  \n",
    "                        lower_bound=0.1,upper_bound=10.0,\n",
    "                        ult_lbound=0.1, ult_ubound=100) #absolute limits\n",
    "\n",
    "    # constant and grid scale additive head parameters\n",
    "    name = 'ghbhead'\n",
    "    pf.add_parameters(f,\n",
    "                        par_type=\"grid\",\n",
    "                        geostruct=grid_gs,\n",
    "                        par_name_base=name+\"_gr\",\n",
    "                        pargp=name+\"_gr\",\n",
    "                        index_cols=[0,1,2],\n",
    "                        use_cols=[3],   # column containing head values\n",
    "                        lower_bound=-2.0,upper_bound=2.0,\n",
    "                        par_style=\"a\", # specify additive parameter\n",
    "                        transform=\"none\", # specify not log-transform\n",
    "                        ult_lbound=32.5, ult_ubound=42) #absolute limits; make sure head is never lower than the bottom of layer1\n",
    "    pf.add_parameters(f,\n",
    "                        par_type=\"constant\",\n",
    "                        geostruct=grid_gs,\n",
    "                        par_name_base=name+\"_cn\",\n",
    "                        pargp=name+\"_cn\",\n",
    "                        index_cols=[0,1,2],\n",
    "                        use_cols=[3],\n",
    "                        lower_bound=-2.0,upper_bound=2.0, \n",
    "                        par_style=\"a\", \n",
    "                        transform=\"none\",\n",
    "                        ult_lbound=32.5, ult_ubound=42) "
   ]
  },
  {
   "cell_type": "markdown",
   "metadata": {},
   "source": [
    "Easy peasy.\n",
    "\n",
    "Now this will make some people uncomfortable but how well do we really ever know historic water use flux rates in space and in time? hmmm, not really! So lets add parameters to represent that uncertainty in the model inputs.\n",
    "\n",
    "For wells it may not (or it may...) make sense to include spatial correlation. Here we will assume temporal correlation - its reasonable that pumping rates today will be similar to pumping rates yesterday. \n",
    "\n",
    "Pumping rates for different stress periods are in separate files. We will call `.add_parameters()` for each file. But we want to specify correlation between parameters in different files. As explained above for recharge, we do this with the parameter group name.\n",
    "\n",
    "OK, let's get started.\n"
   ]
  },
  {
   "cell_type": "markdown",
   "metadata": {},
   "source": [
    "As discussed above, including temporal correlation introduces an additional challenge. We use the same approach described for recharge parmaeters:\n",
    "\n",
    "First, we will asign a `constant` multiplier parameter for each WEL stress-period file (so, a single multiplier for all well pumping rates for each stress period). We will specify temporal correlation for these `constant` multipliers.\n",
    "\n",
    "Then, we will also have `grid` type multiplier parameters for each WEL stress period file (so, multipliers for individual well pumping rate during each stress period). These will not include correlation. (We could in principle include spatial correlation here if we wanted to; but let's not)."
   ]
  },
  {
   "cell_type": "code",
   "execution_count": 31,
   "metadata": {
    "execution": {
     "iopub.execute_input": "2022-03-17T02:11:29.128142Z",
     "iopub.status.busy": "2022-03-17T02:11:29.128142Z",
     "iopub.status.idle": "2022-03-17T02:11:30.419756Z",
     "shell.execute_reply": "2022-03-17T02:11:30.419756Z"
    }
   },
   "outputs": [
    {
     "name": "stdout",
     "output_type": "stream",
     "text": [
      "2022-03-17 12:41:29.129140 starting: adding constant type m style parameters for file(s) ['freyberg6.wel_stress_period_data_1.txt']\n",
      "2022-03-17 12:41:29.129140 starting: loading list-style freyberg6_template\\freyberg6.wel_stress_period_data_1.txt\n",
      "2022-03-17 12:41:29.129140 starting: reading list-style file: freyberg6_template\\freyberg6.wel_stress_period_data_1.txt\n",
      "2022-03-17 12:41:29.131135 finished: reading list-style file: freyberg6_template\\freyberg6.wel_stress_period_data_1.txt took: 0:00:00.001995\n",
      "2022-03-17 12:41:29.131135 loaded list-style 'freyberg6_template\\freyberg6.wel_stress_period_data_1.txt' of shape (6, 4)\n",
      "2022-03-17 12:41:29.133129 finished: loading list-style freyberg6_template\\freyberg6.wel_stress_period_data_1.txt took: 0:00:00.003989\n",
      "2022-03-17 12:41:29.133129 starting: writing list-style template file 'freyberg6_template\\wel_cst_inst0_constant.csv.tpl'\n",
      "2022-03-17 12:41:29.146120 finished: writing list-style template file 'freyberg6_template\\wel_cst_inst0_constant.csv.tpl' took: 0:00:00.012991\n",
      "2022-03-17 12:41:29.155105 finished: adding constant type m style parameters for file(s) ['freyberg6.wel_stress_period_data_1.txt'] took: 0:00:00.025965\n",
      "2022-03-17 12:41:29.155105 starting: adding grid type m style parameters for file(s) ['freyberg6.wel_stress_period_data_1.txt']\n",
      "2022-03-17 12:41:29.155105 starting: loading list-style freyberg6_template\\freyberg6.wel_stress_period_data_1.txt\n",
      "2022-03-17 12:41:29.156102 starting: reading list-style file: freyberg6_template\\freyberg6.wel_stress_period_data_1.txt\n",
      "2022-03-17 12:41:29.157098 finished: reading list-style file: freyberg6_template\\freyberg6.wel_stress_period_data_1.txt took: 0:00:00.000996\n",
      "2022-03-17 12:41:29.157098 loaded list-style 'freyberg6_template\\freyberg6.wel_stress_period_data_1.txt' of shape (6, 4)\n",
      "2022-03-17 12:41:29.158098 finished: loading list-style freyberg6_template\\freyberg6.wel_stress_period_data_1.txt took: 0:00:00.002993\n",
      "2022-03-17 12:41:29.158098 starting: writing list-style template file 'freyberg6_template\\wel_grd_inst0_grid.csv.tpl'\n"
     ]
    },
    {
     "name": "stdout",
     "output_type": "stream",
     "text": [
      "2022-03-17 12:41:29.172058 finished: writing list-style template file 'freyberg6_template\\wel_grd_inst0_grid.csv.tpl' took: 0:00:00.013960\n",
      "2022-03-17 12:41:29.179040 finished: adding grid type m style parameters for file(s) ['freyberg6.wel_stress_period_data_1.txt'] took: 0:00:00.023935\n"
     ]
    },
    {
     "name": "stdout",
     "output_type": "stream",
     "text": [
      "2022-03-17 12:41:29.180038 starting: adding constant type m style parameters for file(s) ['freyberg6.wel_stress_period_data_10.txt']\n",
      "2022-03-17 12:41:29.180038 starting: loading list-style freyberg6_template\\freyberg6.wel_stress_period_data_10.txt\n",
      "2022-03-17 12:41:29.181033 starting: reading list-style file: freyberg6_template\\freyberg6.wel_stress_period_data_10.txt\n",
      "2022-03-17 12:41:29.183035 finished: reading list-style file: freyberg6_template\\freyberg6.wel_stress_period_data_10.txt took: 0:00:00.002002\n",
      "2022-03-17 12:41:29.183035 loaded list-style 'freyberg6_template\\freyberg6.wel_stress_period_data_10.txt' of shape (6, 4)\n",
      "2022-03-17 12:41:29.184062 finished: loading list-style freyberg6_template\\freyberg6.wel_stress_period_data_10.txt took: 0:00:00.004024\n",
      "2022-03-17 12:41:29.184062 starting: writing list-style template file 'freyberg6_template\\wel_cst_inst1_constant.csv.tpl'\n"
     ]
    },
    {
     "name": "stdout",
     "output_type": "stream",
     "text": [
      "2022-03-17 12:41:29.196995 finished: writing list-style template file 'freyberg6_template\\wel_cst_inst1_constant.csv.tpl' took: 0:00:00.012933\n",
      "2022-03-17 12:41:29.204974 finished: adding constant type m style parameters for file(s) ['freyberg6.wel_stress_period_data_10.txt'] took: 0:00:00.024936\n",
      "2022-03-17 12:41:29.205972 starting: adding grid type m style parameters for file(s) ['freyberg6.wel_stress_period_data_10.txt']\n",
      "2022-03-17 12:41:29.205972 starting: loading list-style freyberg6_template\\freyberg6.wel_stress_period_data_10.txt\n",
      "2022-03-17 12:41:29.205972 starting: reading list-style file: freyberg6_template\\freyberg6.wel_stress_period_data_10.txt\n",
      "2022-03-17 12:41:29.207990 finished: reading list-style file: freyberg6_template\\freyberg6.wel_stress_period_data_10.txt took: 0:00:00.002018\n",
      "2022-03-17 12:41:29.207990 loaded list-style 'freyberg6_template\\freyberg6.wel_stress_period_data_10.txt' of shape (6, 4)\n",
      "2022-03-17 12:41:29.207990 finished: loading list-style freyberg6_template\\freyberg6.wel_stress_period_data_10.txt took: 0:00:00.002018\n",
      "2022-03-17 12:41:29.208966 starting: writing list-style template file 'freyberg6_template\\wel_grd_inst1_grid.csv.tpl'\n",
      "2022-03-17 12:41:29.222954 finished: writing list-style template file 'freyberg6_template\\wel_grd_inst1_grid.csv.tpl' took: 0:00:00.013988\n",
      "2022-03-17 12:41:29.229989 finished: adding grid type m style parameters for file(s) ['freyberg6.wel_stress_period_data_10.txt'] took: 0:00:00.024017\n",
      "2022-03-17 12:41:29.230986 starting: adding constant type m style parameters for file(s) ['freyberg6.wel_stress_period_data_11.txt']\n",
      "2022-03-17 12:41:29.230986 starting: loading list-style freyberg6_template\\freyberg6.wel_stress_period_data_11.txt\n",
      "2022-03-17 12:41:29.230986 starting: reading list-style file: freyberg6_template\\freyberg6.wel_stress_period_data_11.txt\n",
      "2022-03-17 12:41:29.232980 finished: reading list-style file: freyberg6_template\\freyberg6.wel_stress_period_data_11.txt took: 0:00:00.001994\n",
      "2022-03-17 12:41:29.233978 loaded list-style 'freyberg6_template\\freyberg6.wel_stress_period_data_11.txt' of shape (6, 4)\n",
      "2022-03-17 12:41:29.234923 finished: loading list-style freyberg6_template\\freyberg6.wel_stress_period_data_11.txt took: 0:00:00.003937\n",
      "2022-03-17 12:41:29.234923 starting: writing list-style template file 'freyberg6_template\\wel_cst_inst2_constant.csv.tpl'\n",
      "2022-03-17 12:41:29.247889 finished: writing list-style template file 'freyberg6_template\\wel_cst_inst2_constant.csv.tpl' took: 0:00:00.012966\n",
      "2022-03-17 12:41:29.255893 finished: adding constant type m style parameters for file(s) ['freyberg6.wel_stress_period_data_11.txt'] took: 0:00:00.024907\n",
      "2022-03-17 12:41:29.256919 starting: adding grid type m style parameters for file(s) ['freyberg6.wel_stress_period_data_11.txt']\n",
      "2022-03-17 12:41:29.256919 starting: loading list-style freyberg6_template\\freyberg6.wel_stress_period_data_11.txt\n"
     ]
    },
    {
     "name": "stdout",
     "output_type": "stream",
     "text": [
      "2022-03-17 12:41:29.256919 starting: reading list-style file: freyberg6_template\\freyberg6.wel_stress_period_data_11.txt\n",
      "2022-03-17 12:41:29.257895 finished: reading list-style file: freyberg6_template\\freyberg6.wel_stress_period_data_11.txt took: 0:00:00.000976\n",
      "2022-03-17 12:41:29.257895 loaded list-style 'freyberg6_template\\freyberg6.wel_stress_period_data_11.txt' of shape (6, 4)\n",
      "2022-03-17 12:41:29.259857 finished: loading list-style freyberg6_template\\freyberg6.wel_stress_period_data_11.txt took: 0:00:00.002938\n",
      "2022-03-17 12:41:29.259857 starting: writing list-style template file 'freyberg6_template\\wel_grd_inst2_grid.csv.tpl'\n",
      "2022-03-17 12:41:29.273819 finished: writing list-style template file 'freyberg6_template\\wel_grd_inst2_grid.csv.tpl' took: 0:00:00.013962\n",
      "2022-03-17 12:41:29.281798 finished: adding grid type m style parameters for file(s) ['freyberg6.wel_stress_period_data_11.txt'] took: 0:00:00.024879\n",
      "2022-03-17 12:41:29.281798 starting: adding constant type m style parameters for file(s) ['freyberg6.wel_stress_period_data_12.txt']\n",
      "2022-03-17 12:41:29.281798 starting: loading list-style freyberg6_template\\freyberg6.wel_stress_period_data_12.txt\n",
      "2022-03-17 12:41:29.281798 starting: reading list-style file: freyberg6_template\\freyberg6.wel_stress_period_data_12.txt\n",
      "2022-03-17 12:41:29.283844 finished: reading list-style file: freyberg6_template\\freyberg6.wel_stress_period_data_12.txt took: 0:00:00.002046\n",
      "2022-03-17 12:41:29.284842 loaded list-style 'freyberg6_template\\freyberg6.wel_stress_period_data_12.txt' of shape (6, 4)\n",
      "2022-03-17 12:41:29.284842 finished: loading list-style freyberg6_template\\freyberg6.wel_stress_period_data_12.txt took: 0:00:00.003044\n",
      "2022-03-17 12:41:29.285830 starting: writing list-style template file 'freyberg6_template\\wel_cst_inst3_constant.csv.tpl'\n",
      "2022-03-17 12:41:29.297798 finished: writing list-style template file 'freyberg6_template\\wel_cst_inst3_constant.csv.tpl' took: 0:00:00.011968\n",
      "2022-03-17 12:41:29.306732 finished: adding constant type m style parameters for file(s) ['freyberg6.wel_stress_period_data_12.txt'] took: 0:00:00.024934\n",
      "2022-03-17 12:41:29.306732 starting: adding grid type m style parameters for file(s) ['freyberg6.wel_stress_period_data_12.txt']\n",
      "2022-03-17 12:41:29.306732 starting: loading list-style freyberg6_template\\freyberg6.wel_stress_period_data_12.txt\n",
      "2022-03-17 12:41:29.307729 starting: reading list-style file: freyberg6_template\\freyberg6.wel_stress_period_data_12.txt\n",
      "2022-03-17 12:41:29.308776 finished: reading list-style file: freyberg6_template\\freyberg6.wel_stress_period_data_12.txt took: 0:00:00.001047\n",
      "2022-03-17 12:41:29.308776 loaded list-style 'freyberg6_template\\freyberg6.wel_stress_period_data_12.txt' of shape (6, 4)\n",
      "2022-03-17 12:41:29.309723 finished: loading list-style freyberg6_template\\freyberg6.wel_stress_period_data_12.txt took: 0:00:00.002991\n",
      "2022-03-17 12:41:29.309723 starting: writing list-style template file 'freyberg6_template\\wel_grd_inst3_grid.csv.tpl'\n"
     ]
    },
    {
     "name": "stdout",
     "output_type": "stream",
     "text": [
      "2022-03-17 12:41:29.323687 finished: writing list-style template file 'freyberg6_template\\wel_grd_inst3_grid.csv.tpl' took: 0:00:00.013964\n",
      "2022-03-17 12:41:29.331718 finished: adding grid type m style parameters for file(s) ['freyberg6.wel_stress_period_data_12.txt'] took: 0:00:00.024986\n",
      "2022-03-17 12:41:29.331718 starting: adding constant type m style parameters for file(s) ['freyberg6.wel_stress_period_data_13.txt']\n",
      "2022-03-17 12:41:29.331718 starting: loading list-style freyberg6_template\\freyberg6.wel_stress_period_data_13.txt\n",
      "2022-03-17 12:41:29.332696 starting: reading list-style file: freyberg6_template\\freyberg6.wel_stress_period_data_13.txt\n",
      "2022-03-17 12:41:29.334708 finished: reading list-style file: freyberg6_template\\freyberg6.wel_stress_period_data_13.txt took: 0:00:00.002012\n",
      "2022-03-17 12:41:29.334708 loaded list-style 'freyberg6_template\\freyberg6.wel_stress_period_data_13.txt' of shape (6, 4)\n",
      "2022-03-17 12:41:29.335654 finished: loading list-style freyberg6_template\\freyberg6.wel_stress_period_data_13.txt took: 0:00:00.003936\n",
      "2022-03-17 12:41:29.335654 starting: writing list-style template file 'freyberg6_template\\wel_cst_inst4_constant.csv.tpl'\n",
      "2022-03-17 12:41:29.348620 finished: writing list-style template file 'freyberg6_template\\wel_cst_inst4_constant.csv.tpl' took: 0:00:00.012966\n"
     ]
    },
    {
     "name": "stdout",
     "output_type": "stream",
     "text": [
      "2022-03-17 12:41:29.356649 finished: adding constant type m style parameters for file(s) ['freyberg6.wel_stress_period_data_13.txt'] took: 0:00:00.024931\n",
      "2022-03-17 12:41:29.357595 starting: adding grid type m style parameters for file(s) ['freyberg6.wel_stress_period_data_13.txt']\n",
      "2022-03-17 12:41:29.357595 starting: loading list-style freyberg6_template\\freyberg6.wel_stress_period_data_13.txt\n",
      "2022-03-17 12:41:29.357595 starting: reading list-style file: freyberg6_template\\freyberg6.wel_stress_period_data_13.txt\n",
      "2022-03-17 12:41:29.358625 finished: reading list-style file: freyberg6_template\\freyberg6.wel_stress_period_data_13.txt took: 0:00:00.001030\n",
      "2022-03-17 12:41:29.359641 loaded list-style 'freyberg6_template\\freyberg6.wel_stress_period_data_13.txt' of shape (6, 4)\n",
      "2022-03-17 12:41:29.360587 finished: loading list-style freyberg6_template\\freyberg6.wel_stress_period_data_13.txt took: 0:00:00.002992\n",
      "2022-03-17 12:41:29.360587 starting: writing list-style template file 'freyberg6_template\\wel_grd_inst4_grid.csv.tpl'\n"
     ]
    },
    {
     "name": "stdout",
     "output_type": "stream",
     "text": [
      "2022-03-17 12:41:29.374550 finished: writing list-style template file 'freyberg6_template\\wel_grd_inst4_grid.csv.tpl' took: 0:00:00.013963\n"
     ]
    },
    {
     "name": "stdout",
     "output_type": "stream",
     "text": [
      "2022-03-17 12:41:29.382562 finished: adding grid type m style parameters for file(s) ['freyberg6.wel_stress_period_data_13.txt'] took: 0:00:00.024967\n",
      "2022-03-17 12:41:29.382562 starting: adding constant type m style parameters for file(s) ['freyberg6.wel_stress_period_data_14.txt']\n",
      "2022-03-17 12:41:29.383559 starting: loading list-style freyberg6_template\\freyberg6.wel_stress_period_data_14.txt\n",
      "2022-03-17 12:41:29.383559 starting: reading list-style file: freyberg6_template\\freyberg6.wel_stress_period_data_14.txt\n",
      "2022-03-17 12:41:29.385554 finished: reading list-style file: freyberg6_template\\freyberg6.wel_stress_period_data_14.txt took: 0:00:00.001995\n",
      "2022-03-17 12:41:29.385554 loaded list-style 'freyberg6_template\\freyberg6.wel_stress_period_data_14.txt' of shape (6, 4)\n",
      "2022-03-17 12:41:29.386550 finished: loading list-style freyberg6_template\\freyberg6.wel_stress_period_data_14.txt took: 0:00:00.002991\n",
      "2022-03-17 12:41:29.386550 starting: writing list-style template file 'freyberg6_template\\wel_cst_inst5_constant.csv.tpl'\n",
      "2022-03-17 12:41:29.399484 finished: writing list-style template file 'freyberg6_template\\wel_cst_inst5_constant.csv.tpl' took: 0:00:00.012934\n",
      "2022-03-17 12:41:29.407494 finished: adding constant type m style parameters for file(s) ['freyberg6.wel_stress_period_data_14.txt'] took: 0:00:00.024932\n",
      "2022-03-17 12:41:29.408468 starting: adding grid type m style parameters for file(s) ['freyberg6.wel_stress_period_data_14.txt']\n",
      "2022-03-17 12:41:29.408468 starting: loading list-style freyberg6_template\\freyberg6.wel_stress_period_data_14.txt\n",
      "2022-03-17 12:41:29.408468 starting: reading list-style file: freyberg6_template\\freyberg6.wel_stress_period_data_14.txt\n",
      "2022-03-17 12:41:29.409489 finished: reading list-style file: freyberg6_template\\freyberg6.wel_stress_period_data_14.txt took: 0:00:00.001021\n",
      "2022-03-17 12:41:29.410490 loaded list-style 'freyberg6_template\\freyberg6.wel_stress_period_data_14.txt' of shape (6, 4)\n",
      "2022-03-17 12:41:29.410490 finished: loading list-style freyberg6_template\\freyberg6.wel_stress_period_data_14.txt took: 0:00:00.002022\n",
      "2022-03-17 12:41:29.411452 starting: writing list-style template file 'freyberg6_template\\wel_grd_inst5_grid.csv.tpl'\n",
      "2022-03-17 12:41:29.424443 finished: writing list-style template file 'freyberg6_template\\wel_grd_inst5_grid.csv.tpl' took: 0:00:00.012991\n",
      "2022-03-17 12:41:29.432422 finished: adding grid type m style parameters for file(s) ['freyberg6.wel_stress_period_data_14.txt'] took: 0:00:00.023954\n",
      "2022-03-17 12:41:29.432422 starting: adding constant type m style parameters for file(s) ['freyberg6.wel_stress_period_data_15.txt']\n",
      "2022-03-17 12:41:29.432422 starting: loading list-style freyberg6_template\\freyberg6.wel_stress_period_data_15.txt\n",
      "2022-03-17 12:41:29.433417 starting: reading list-style file: freyberg6_template\\freyberg6.wel_stress_period_data_15.txt\n",
      "2022-03-17 12:41:29.435413 finished: reading list-style file: freyberg6_template\\freyberg6.wel_stress_period_data_15.txt took: 0:00:00.001996\n",
      "2022-03-17 12:41:29.435413 loaded list-style 'freyberg6_template\\freyberg6.wel_stress_period_data_15.txt' of shape (6, 4)\n",
      "2022-03-17 12:41:29.436418 finished: loading list-style freyberg6_template\\freyberg6.wel_stress_period_data_15.txt took: 0:00:00.003996\n",
      "2022-03-17 12:41:29.436418 starting: writing list-style template file 'freyberg6_template\\wel_cst_inst6_constant.csv.tpl'\n"
     ]
    },
    {
     "name": "stdout",
     "output_type": "stream",
     "text": [
      "2022-03-17 12:41:29.449349 finished: writing list-style template file 'freyberg6_template\\wel_cst_inst6_constant.csv.tpl' took: 0:00:00.012931\n",
      "2022-03-17 12:41:29.458327 finished: adding constant type m style parameters for file(s) ['freyberg6.wel_stress_period_data_15.txt'] took: 0:00:00.025905\n",
      "2022-03-17 12:41:29.458327 starting: adding grid type m style parameters for file(s) ['freyberg6.wel_stress_period_data_15.txt']\n",
      "2022-03-17 12:41:29.459323 starting: loading list-style freyberg6_template\\freyberg6.wel_stress_period_data_15.txt\n",
      "2022-03-17 12:41:29.459323 starting: reading list-style file: freyberg6_template\\freyberg6.wel_stress_period_data_15.txt\n",
      "2022-03-17 12:41:29.461319 finished: reading list-style file: freyberg6_template\\freyberg6.wel_stress_period_data_15.txt took: 0:00:00.001996\n",
      "2022-03-17 12:41:29.461319 loaded list-style 'freyberg6_template\\freyberg6.wel_stress_period_data_15.txt' of shape (6, 4)\n",
      "2022-03-17 12:41:29.462316 finished: loading list-style freyberg6_template\\freyberg6.wel_stress_period_data_15.txt took: 0:00:00.002993\n",
      "2022-03-17 12:41:29.462316 starting: writing list-style template file 'freyberg6_template\\wel_grd_inst6_grid.csv.tpl'\n",
      "2022-03-17 12:41:29.476279 finished: writing list-style template file 'freyberg6_template\\wel_grd_inst6_grid.csv.tpl' took: 0:00:00.013963\n",
      "2022-03-17 12:41:29.485308 finished: adding grid type m style parameters for file(s) ['freyberg6.wel_stress_period_data_15.txt'] took: 0:00:00.026981\n",
      "2022-03-17 12:41:29.485308 starting: adding constant type m style parameters for file(s) ['freyberg6.wel_stress_period_data_16.txt']\n",
      "2022-03-17 12:41:29.486306 starting: loading list-style freyberg6_template\\freyberg6.wel_stress_period_data_16.txt\n",
      "2022-03-17 12:41:29.486306 starting: reading list-style file: freyberg6_template\\freyberg6.wel_stress_period_data_16.txt\n",
      "2022-03-17 12:41:29.488300 finished: reading list-style file: freyberg6_template\\freyberg6.wel_stress_period_data_16.txt took: 0:00:00.001994\n",
      "2022-03-17 12:41:29.488300 loaded list-style 'freyberg6_template\\freyberg6.wel_stress_period_data_16.txt' of shape (6, 4)\n",
      "2022-03-17 12:41:29.489272 finished: loading list-style freyberg6_template\\freyberg6.wel_stress_period_data_16.txt took: 0:00:00.002966\n",
      "2022-03-17 12:41:29.490270 starting: writing list-style template file 'freyberg6_template\\wel_cst_inst7_constant.csv.tpl'\n",
      "2022-03-17 12:41:29.503270 finished: writing list-style template file 'freyberg6_template\\wel_cst_inst7_constant.csv.tpl' took: 0:00:00.013000\n",
      "2022-03-17 12:41:29.511267 finished: adding constant type m style parameters for file(s) ['freyberg6.wel_stress_period_data_16.txt'] took: 0:00:00.025959\n"
     ]
    },
    {
     "name": "stdout",
     "output_type": "stream",
     "text": [
      "2022-03-17 12:41:29.511267 starting: adding grid type m style parameters for file(s) ['freyberg6.wel_stress_period_data_16.txt']\n",
      "2022-03-17 12:41:29.512262 starting: loading list-style freyberg6_template\\freyberg6.wel_stress_period_data_16.txt\n",
      "2022-03-17 12:41:29.512262 starting: reading list-style file: freyberg6_template\\freyberg6.wel_stress_period_data_16.txt\n",
      "2022-03-17 12:41:29.513261 finished: reading list-style file: freyberg6_template\\freyberg6.wel_stress_period_data_16.txt took: 0:00:00.000999\n",
      "2022-03-17 12:41:29.513261 loaded list-style 'freyberg6_template\\freyberg6.wel_stress_period_data_16.txt' of shape (6, 4)\n",
      "2022-03-17 12:41:29.514241 finished: loading list-style freyberg6_template\\freyberg6.wel_stress_period_data_16.txt took: 0:00:00.001979\n",
      "2022-03-17 12:41:29.515205 starting: writing list-style template file 'freyberg6_template\\wel_grd_inst7_grid.csv.tpl'\n",
      "2022-03-17 12:41:29.528169 finished: writing list-style template file 'freyberg6_template\\wel_grd_inst7_grid.csv.tpl' took: 0:00:00.012964\n",
      "2022-03-17 12:41:29.537197 finished: adding grid type m style parameters for file(s) ['freyberg6.wel_stress_period_data_16.txt'] took: 0:00:00.025930\n"
     ]
    },
    {
     "name": "stdout",
     "output_type": "stream",
     "text": [
      "2022-03-17 12:41:29.537197 starting: adding constant type m style parameters for file(s) ['freyberg6.wel_stress_period_data_17.txt']\n",
      "2022-03-17 12:41:29.537197 starting: loading list-style freyberg6_template\\freyberg6.wel_stress_period_data_17.txt\n",
      "2022-03-17 12:41:29.538176 starting: reading list-style file: freyberg6_template\\freyberg6.wel_stress_period_data_17.txt\n",
      "2022-03-17 12:41:29.540188 finished: reading list-style file: freyberg6_template\\freyberg6.wel_stress_period_data_17.txt took: 0:00:00.002012\n",
      "2022-03-17 12:41:29.540188 loaded list-style 'freyberg6_template\\freyberg6.wel_stress_period_data_17.txt' of shape (6, 4)\n",
      "2022-03-17 12:41:29.541167 finished: loading list-style freyberg6_template\\freyberg6.wel_stress_period_data_17.txt took: 0:00:00.003970\n",
      "2022-03-17 12:41:29.541167 starting: writing list-style template file 'freyberg6_template\\wel_cst_inst8_constant.csv.tpl'\n"
     ]
    },
    {
     "name": "stdout",
     "output_type": "stream",
     "text": [
      "2022-03-17 12:41:29.554135 finished: writing list-style template file 'freyberg6_template\\wel_cst_inst8_constant.csv.tpl' took: 0:00:00.012968\n",
      "2022-03-17 12:41:29.563128 finished: adding constant type m style parameters for file(s) ['freyberg6.wel_stress_period_data_17.txt'] took: 0:00:00.025931\n",
      "2022-03-17 12:41:29.563128 starting: adding grid type m style parameters for file(s) ['freyberg6.wel_stress_period_data_17.txt']\n",
      "2022-03-17 12:41:29.563128 starting: loading list-style freyberg6_template\\freyberg6.wel_stress_period_data_17.txt\n",
      "2022-03-17 12:41:29.563128 starting: reading list-style file: freyberg6_template\\freyberg6.wel_stress_period_data_17.txt\n",
      "2022-03-17 12:41:29.565123 finished: reading list-style file: freyberg6_template\\freyberg6.wel_stress_period_data_17.txt took: 0:00:00.001995\n"
     ]
    },
    {
     "name": "stdout",
     "output_type": "stream",
     "text": [
      "2022-03-17 12:41:29.565123 loaded list-style 'freyberg6_template\\freyberg6.wel_stress_period_data_17.txt' of shape (6, 4)\n",
      "2022-03-17 12:41:29.566101 finished: loading list-style freyberg6_template\\freyberg6.wel_stress_period_data_17.txt took: 0:00:00.002973\n",
      "2022-03-17 12:41:29.566101 starting: writing list-style template file 'freyberg6_template\\wel_grd_inst8_grid.csv.tpl'\n",
      "2022-03-17 12:41:29.580052 finished: writing list-style template file 'freyberg6_template\\wel_grd_inst8_grid.csv.tpl' took: 0:00:00.013951\n",
      "2022-03-17 12:41:29.588060 finished: adding grid type m style parameters for file(s) ['freyberg6.wel_stress_period_data_17.txt'] took: 0:00:00.024932\n",
      "2022-03-17 12:41:29.588060 starting: adding constant type m style parameters for file(s) ['freyberg6.wel_stress_period_data_18.txt']\n",
      "2022-03-17 12:41:29.588060 starting: loading list-style freyberg6_template\\freyberg6.wel_stress_period_data_18.txt\n",
      "2022-03-17 12:41:29.588060 starting: reading list-style file: freyberg6_template\\freyberg6.wel_stress_period_data_18.txt\n",
      "2022-03-17 12:41:29.591054 finished: reading list-style file: freyberg6_template\\freyberg6.wel_stress_period_data_18.txt took: 0:00:00.002994\n",
      "2022-03-17 12:41:29.591054 loaded list-style 'freyberg6_template\\freyberg6.wel_stress_period_data_18.txt' of shape (6, 4)\n",
      "2022-03-17 12:41:29.591999 finished: loading list-style freyberg6_template\\freyberg6.wel_stress_period_data_18.txt took: 0:00:00.003939\n",
      "2022-03-17 12:41:29.591999 starting: writing list-style template file 'freyberg6_template\\wel_cst_inst9_constant.csv.tpl'\n",
      "2022-03-17 12:41:29.603998 finished: writing list-style template file 'freyberg6_template\\wel_cst_inst9_constant.csv.tpl' took: 0:00:00.011999\n",
      "2022-03-17 12:41:29.612942 finished: adding constant type m style parameters for file(s) ['freyberg6.wel_stress_period_data_18.txt'] took: 0:00:00.024882\n",
      "2022-03-17 12:41:29.612942 starting: adding grid type m style parameters for file(s) ['freyberg6.wel_stress_period_data_18.txt']\n",
      "2022-03-17 12:41:29.612942 starting: loading list-style freyberg6_template\\freyberg6.wel_stress_period_data_18.txt\n",
      "2022-03-17 12:41:29.613984 starting: reading list-style file: freyberg6_template\\freyberg6.wel_stress_period_data_18.txt\n",
      "2022-03-17 12:41:29.614990 finished: reading list-style file: freyberg6_template\\freyberg6.wel_stress_period_data_18.txt took: 0:00:00.001006\n",
      "2022-03-17 12:41:29.614990 loaded list-style 'freyberg6_template\\freyberg6.wel_stress_period_data_18.txt' of shape (6, 4)\n",
      "2022-03-17 12:41:29.615987 finished: loading list-style freyberg6_template\\freyberg6.wel_stress_period_data_18.txt took: 0:00:00.003045\n",
      "2022-03-17 12:41:29.615987 starting: writing list-style template file 'freyberg6_template\\wel_grd_inst9_grid.csv.tpl'\n",
      "2022-03-17 12:41:29.629946 finished: writing list-style template file 'freyberg6_template\\wel_grd_inst9_grid.csv.tpl' took: 0:00:00.013959\n"
     ]
    },
    {
     "name": "stdout",
     "output_type": "stream",
     "text": [
      "2022-03-17 12:41:29.637927 finished: adding grid type m style parameters for file(s) ['freyberg6.wel_stress_period_data_18.txt'] took: 0:00:00.024985\n",
      "2022-03-17 12:41:29.639220 starting: adding constant type m style parameters for file(s) ['freyberg6.wel_stress_period_data_19.txt']\n",
      "2022-03-17 12:41:29.639220 starting: loading list-style freyberg6_template\\freyberg6.wel_stress_period_data_19.txt\n",
      "2022-03-17 12:41:29.639903 starting: reading list-style file: freyberg6_template\\freyberg6.wel_stress_period_data_19.txt\n",
      "2022-03-17 12:41:29.641917 finished: reading list-style file: freyberg6_template\\freyberg6.wel_stress_period_data_19.txt took: 0:00:00.002014\n",
      "2022-03-17 12:41:29.641917 loaded list-style 'freyberg6_template\\freyberg6.wel_stress_period_data_19.txt' of shape (6, 4)\n",
      "2022-03-17 12:41:29.642864 finished: loading list-style freyberg6_template\\freyberg6.wel_stress_period_data_19.txt took: 0:00:00.003644\n",
      "2022-03-17 12:41:29.642864 starting: writing list-style template file 'freyberg6_template\\wel_cst_inst10_constant.csv.tpl'\n",
      "2022-03-17 12:41:29.657855 finished: writing list-style template file 'freyberg6_template\\wel_cst_inst10_constant.csv.tpl' took: 0:00:00.014991\n",
      "2022-03-17 12:41:29.666798 finished: adding constant type m style parameters for file(s) ['freyberg6.wel_stress_period_data_19.txt'] took: 0:00:00.027578\n",
      "2022-03-17 12:41:29.666798 starting: adding grid type m style parameters for file(s) ['freyberg6.wel_stress_period_data_19.txt']\n",
      "2022-03-17 12:41:29.666798 starting: loading list-style freyberg6_template\\freyberg6.wel_stress_period_data_19.txt\n",
      "2022-03-17 12:41:29.666798 starting: reading list-style file: freyberg6_template\\freyberg6.wel_stress_period_data_19.txt\n",
      "2022-03-17 12:41:29.667847 finished: reading list-style file: freyberg6_template\\freyberg6.wel_stress_period_data_19.txt took: 0:00:00.001049\n",
      "2022-03-17 12:41:29.668846 loaded list-style 'freyberg6_template\\freyberg6.wel_stress_period_data_19.txt' of shape (6, 4)\n",
      "2022-03-17 12:41:29.668846 finished: loading list-style freyberg6_template\\freyberg6.wel_stress_period_data_19.txt took: 0:00:00.002048\n",
      "2022-03-17 12:41:29.669819 starting: writing list-style template file 'freyberg6_template\\wel_grd_inst10_grid.csv.tpl'\n",
      "2022-03-17 12:41:29.682788 finished: writing list-style template file 'freyberg6_template\\wel_grd_inst10_grid.csv.tpl' took: 0:00:00.012969\n",
      "2022-03-17 12:41:29.690786 finished: adding grid type m style parameters for file(s) ['freyberg6.wel_stress_period_data_19.txt'] took: 0:00:00.023988\n"
     ]
    },
    {
     "name": "stdout",
     "output_type": "stream",
     "text": [
      "2022-03-17 12:41:29.691783 starting: adding constant type m style parameters for file(s) ['freyberg6.wel_stress_period_data_2.txt']\n",
      "2022-03-17 12:41:29.691783 starting: loading list-style freyberg6_template\\freyberg6.wel_stress_period_data_2.txt\n",
      "2022-03-17 12:41:29.691783 starting: reading list-style file: freyberg6_template\\freyberg6.wel_stress_period_data_2.txt\n",
      "2022-03-17 12:41:29.694778 finished: reading list-style file: freyberg6_template\\freyberg6.wel_stress_period_data_2.txt took: 0:00:00.002995\n",
      "2022-03-17 12:41:29.694778 loaded list-style 'freyberg6_template\\freyberg6.wel_stress_period_data_2.txt' of shape (6, 4)\n",
      "2022-03-17 12:41:29.695721 finished: loading list-style freyberg6_template\\freyberg6.wel_stress_period_data_2.txt took: 0:00:00.003938\n",
      "2022-03-17 12:41:29.695721 starting: writing list-style template file 'freyberg6_template\\wel_cst_inst11_constant.csv.tpl'\n",
      "2022-03-17 12:41:29.708686 finished: writing list-style template file 'freyberg6_template\\wel_cst_inst11_constant.csv.tpl' took: 0:00:00.012965\n",
      "2022-03-17 12:41:29.716718 finished: adding constant type m style parameters for file(s) ['freyberg6.wel_stress_period_data_2.txt'] took: 0:00:00.024935\n",
      "2022-03-17 12:41:29.717662 starting: adding grid type m style parameters for file(s) ['freyberg6.wel_stress_period_data_2.txt']\n",
      "2022-03-17 12:41:29.717662 starting: loading list-style freyberg6_template\\freyberg6.wel_stress_period_data_2.txt\n",
      "2022-03-17 12:41:29.717662 starting: reading list-style file: freyberg6_template\\freyberg6.wel_stress_period_data_2.txt\n",
      "2022-03-17 12:41:29.719710 finished: reading list-style file: freyberg6_template\\freyberg6.wel_stress_period_data_2.txt took: 0:00:00.002048\n",
      "2022-03-17 12:41:29.719710 loaded list-style 'freyberg6_template\\freyberg6.wel_stress_period_data_2.txt' of shape (6, 4)\n",
      "2022-03-17 12:41:29.720654 finished: loading list-style freyberg6_template\\freyberg6.wel_stress_period_data_2.txt took: 0:00:00.002992\n",
      "2022-03-17 12:41:29.720654 starting: writing list-style template file 'freyberg6_template\\wel_grd_inst11_grid.csv.tpl'\n",
      "2022-03-17 12:41:29.734253 finished: writing list-style template file 'freyberg6_template\\wel_grd_inst11_grid.csv.tpl' took: 0:00:00.013599\n",
      "2022-03-17 12:41:29.742258 finished: adding grid type m style parameters for file(s) ['freyberg6.wel_stress_period_data_2.txt'] took: 0:00:00.024596\n"
     ]
    },
    {
     "name": "stdout",
     "output_type": "stream",
     "text": [
      "2022-03-17 12:41:29.743256 starting: adding constant type m style parameters for file(s) ['freyberg6.wel_stress_period_data_20.txt']\n",
      "2022-03-17 12:41:29.743256 starting: loading list-style freyberg6_template\\freyberg6.wel_stress_period_data_20.txt\n",
      "2022-03-17 12:41:29.743256 starting: reading list-style file: freyberg6_template\\freyberg6.wel_stress_period_data_20.txt\n",
      "2022-03-17 12:41:29.745250 finished: reading list-style file: freyberg6_template\\freyberg6.wel_stress_period_data_20.txt took: 0:00:00.001994\n",
      "2022-03-17 12:41:29.746248 loaded list-style 'freyberg6_template\\freyberg6.wel_stress_period_data_20.txt' of shape (6, 4)\n",
      "2022-03-17 12:41:29.747264 finished: loading list-style freyberg6_template\\freyberg6.wel_stress_period_data_20.txt took: 0:00:00.004008\n",
      "2022-03-17 12:41:29.747264 starting: writing list-style template file 'freyberg6_template\\wel_cst_inst12_constant.csv.tpl'\n",
      "2022-03-17 12:41:29.760185 finished: writing list-style template file 'freyberg6_template\\wel_cst_inst12_constant.csv.tpl' took: 0:00:00.012921\n"
     ]
    },
    {
     "name": "stdout",
     "output_type": "stream",
     "text": [
      "2022-03-17 12:41:29.769212 finished: adding constant type m style parameters for file(s) ['freyberg6.wel_stress_period_data_20.txt'] took: 0:00:00.025956\n",
      "2022-03-17 12:41:29.769212 starting: adding grid type m style parameters for file(s) ['freyberg6.wel_stress_period_data_20.txt']\n",
      "2022-03-17 12:41:29.769212 starting: loading list-style freyberg6_template\\freyberg6.wel_stress_period_data_20.txt\n",
      "2022-03-17 12:41:29.769212 starting: reading list-style file: freyberg6_template\\freyberg6.wel_stress_period_data_20.txt\n",
      "2022-03-17 12:41:29.771208 finished: reading list-style file: freyberg6_template\\freyberg6.wel_stress_period_data_20.txt took: 0:00:00.001996\n",
      "2022-03-17 12:41:29.771208 loaded list-style 'freyberg6_template\\freyberg6.wel_stress_period_data_20.txt' of shape (6, 4)\n",
      "2022-03-17 12:41:29.772554 finished: loading list-style freyberg6_template\\freyberg6.wel_stress_period_data_20.txt took: 0:00:00.003342\n",
      "2022-03-17 12:41:29.772554 starting: writing list-style template file 'freyberg6_template\\wel_grd_inst12_grid.csv.tpl'\n",
      "2022-03-17 12:41:29.785150 finished: writing list-style template file 'freyberg6_template\\wel_grd_inst12_grid.csv.tpl' took: 0:00:00.012596\n",
      "2022-03-17 12:41:29.793157 finished: adding grid type m style parameters for file(s) ['freyberg6.wel_stress_period_data_20.txt'] took: 0:00:00.023945\n",
      "2022-03-17 12:41:29.794132 starting: adding constant type m style parameters for file(s) ['freyberg6.wel_stress_period_data_21.txt']\n",
      "2022-03-17 12:41:29.794132 starting: loading list-style freyberg6_template\\freyberg6.wel_stress_period_data_21.txt\n",
      "2022-03-17 12:41:29.794132 starting: reading list-style file: freyberg6_template\\freyberg6.wel_stress_period_data_21.txt\n",
      "2022-03-17 12:41:29.796140 finished: reading list-style file: freyberg6_template\\freyberg6.wel_stress_period_data_21.txt took: 0:00:00.002008\n",
      "2022-03-17 12:41:29.796140 loaded list-style 'freyberg6_template\\freyberg6.wel_stress_period_data_21.txt' of shape (6, 4)\n",
      "2022-03-17 12:41:29.797136 finished: loading list-style freyberg6_template\\freyberg6.wel_stress_period_data_21.txt took: 0:00:00.003004\n",
      "2022-03-17 12:41:29.797136 starting: writing list-style template file 'freyberg6_template\\wel_cst_inst13_constant.csv.tpl'\n",
      "2022-03-17 12:41:29.810051 finished: writing list-style template file 'freyberg6_template\\wel_cst_inst13_constant.csv.tpl' took: 0:00:00.012915\n",
      "2022-03-17 12:41:29.818084 finished: adding constant type m style parameters for file(s) ['freyberg6.wel_stress_period_data_21.txt'] took: 0:00:00.023952\n",
      "2022-03-17 12:41:29.818084 starting: adding grid type m style parameters for file(s) ['freyberg6.wel_stress_period_data_21.txt']\n",
      "2022-03-17 12:41:29.818084 starting: loading list-style freyberg6_template\\freyberg6.wel_stress_period_data_21.txt\n"
     ]
    },
    {
     "name": "stdout",
     "output_type": "stream",
     "text": [
      "2022-03-17 12:41:29.819060 starting: reading list-style file: freyberg6_template\\freyberg6.wel_stress_period_data_21.txt\n",
      "2022-03-17 12:41:29.820075 finished: reading list-style file: freyberg6_template\\freyberg6.wel_stress_period_data_21.txt took: 0:00:00.001015\n",
      "2022-03-17 12:41:29.820075 loaded list-style 'freyberg6_template\\freyberg6.wel_stress_period_data_21.txt' of shape (6, 4)\n",
      "2022-03-17 12:41:29.821077 finished: loading list-style freyberg6_template\\freyberg6.wel_stress_period_data_21.txt took: 0:00:00.002993\n",
      "2022-03-17 12:41:29.822052 starting: writing list-style template file 'freyberg6_template\\wel_grd_inst13_grid.csv.tpl'\n",
      "2022-03-17 12:41:29.835016 finished: writing list-style template file 'freyberg6_template\\wel_grd_inst13_grid.csv.tpl' took: 0:00:00.012964\n",
      "2022-03-17 12:41:29.843960 finished: adding grid type m style parameters for file(s) ['freyberg6.wel_stress_period_data_21.txt'] took: 0:00:00.025876\n",
      "2022-03-17 12:41:29.843960 starting: adding constant type m style parameters for file(s) ['freyberg6.wel_stress_period_data_22.txt']\n",
      "2022-03-17 12:41:29.843960 starting: loading list-style freyberg6_template\\freyberg6.wel_stress_period_data_22.txt\n",
      "2022-03-17 12:41:29.843960 starting: reading list-style file: freyberg6_template\\freyberg6.wel_stress_period_data_22.txt\n",
      "2022-03-17 12:41:29.846007 finished: reading list-style file: freyberg6_template\\freyberg6.wel_stress_period_data_22.txt took: 0:00:00.002047\n",
      "2022-03-17 12:41:29.846007 loaded list-style 'freyberg6_template\\freyberg6.wel_stress_period_data_22.txt' of shape (6, 4)\n",
      "2022-03-17 12:41:29.846986 finished: loading list-style freyberg6_template\\freyberg6.wel_stress_period_data_22.txt took: 0:00:00.003026\n",
      "2022-03-17 12:41:29.846986 starting: writing list-style template file 'freyberg6_template\\wel_cst_inst14_constant.csv.tpl'\n",
      "2022-03-17 12:41:29.860916 finished: writing list-style template file 'freyberg6_template\\wel_cst_inst14_constant.csv.tpl' took: 0:00:00.013930\n",
      "2022-03-17 12:41:29.869935 finished: adding constant type m style parameters for file(s) ['freyberg6.wel_stress_period_data_22.txt'] took: 0:00:00.025975\n",
      "2022-03-17 12:41:29.869935 starting: adding grid type m style parameters for file(s) ['freyberg6.wel_stress_period_data_22.txt']\n",
      "2022-03-17 12:41:29.869935 starting: loading list-style freyberg6_template\\freyberg6.wel_stress_period_data_22.txt\n",
      "2022-03-17 12:41:29.870914 starting: reading list-style file: freyberg6_template\\freyberg6.wel_stress_period_data_22.txt\n",
      "2022-03-17 12:41:29.871929 finished: reading list-style file: freyberg6_template\\freyberg6.wel_stress_period_data_22.txt took: 0:00:00.001015\n",
      "2022-03-17 12:41:29.871929 loaded list-style 'freyberg6_template\\freyberg6.wel_stress_period_data_22.txt' of shape (6, 4)\n",
      "2022-03-17 12:41:29.872916 finished: loading list-style freyberg6_template\\freyberg6.wel_stress_period_data_22.txt took: 0:00:00.002981\n",
      "2022-03-17 12:41:29.872916 starting: writing list-style template file 'freyberg6_template\\wel_grd_inst14_grid.csv.tpl'\n",
      "2022-03-17 12:41:29.886846 finished: writing list-style template file 'freyberg6_template\\wel_grd_inst14_grid.csv.tpl' took: 0:00:00.013930\n",
      "2022-03-17 12:41:29.894876 finished: adding grid type m style parameters for file(s) ['freyberg6.wel_stress_period_data_22.txt'] took: 0:00:00.024941\n",
      "2022-03-17 12:41:29.894876 starting: adding constant type m style parameters for file(s) ['freyberg6.wel_stress_period_data_23.txt']\n",
      "2022-03-17 12:41:29.895876 starting: loading list-style freyberg6_template\\freyberg6.wel_stress_period_data_23.txt\n"
     ]
    },
    {
     "name": "stdout",
     "output_type": "stream",
     "text": [
      "2022-03-17 12:41:29.895876 starting: reading list-style file: freyberg6_template\\freyberg6.wel_stress_period_data_23.txt\n",
      "2022-03-17 12:41:29.897870 finished: reading list-style file: freyberg6_template\\freyberg6.wel_stress_period_data_23.txt took: 0:00:00.001994\n",
      "2022-03-17 12:41:29.897870 loaded list-style 'freyberg6_template\\freyberg6.wel_stress_period_data_23.txt' of shape (6, 4)\n",
      "2022-03-17 12:41:29.898845 finished: loading list-style freyberg6_template\\freyberg6.wel_stress_period_data_23.txt took: 0:00:00.002969\n",
      "2022-03-17 12:41:29.898845 starting: writing list-style template file 'freyberg6_template\\wel_cst_inst15_constant.csv.tpl'\n",
      "2022-03-17 12:41:29.911778 finished: writing list-style template file 'freyberg6_template\\wel_cst_inst15_constant.csv.tpl' took: 0:00:00.012933\n",
      "2022-03-17 12:41:29.920798 finished: adding constant type m style parameters for file(s) ['freyberg6.wel_stress_period_data_23.txt'] took: 0:00:00.025922\n",
      "2022-03-17 12:41:29.920798 starting: adding grid type m style parameters for file(s) ['freyberg6.wel_stress_period_data_23.txt']\n",
      "2022-03-17 12:41:29.920798 starting: loading list-style freyberg6_template\\freyberg6.wel_stress_period_data_23.txt\n",
      "2022-03-17 12:41:29.921753 starting: reading list-style file: freyberg6_template\\freyberg6.wel_stress_period_data_23.txt\n",
      "2022-03-17 12:41:29.922750 finished: reading list-style file: freyberg6_template\\freyberg6.wel_stress_period_data_23.txt took: 0:00:00.000997\n",
      "2022-03-17 12:41:29.922750 loaded list-style 'freyberg6_template\\freyberg6.wel_stress_period_data_23.txt' of shape (6, 4)\n",
      "2022-03-17 12:41:29.923761 finished: loading list-style freyberg6_template\\freyberg6.wel_stress_period_data_23.txt took: 0:00:00.002963\n"
     ]
    },
    {
     "name": "stdout",
     "output_type": "stream",
     "text": [
      "2022-03-17 12:41:29.924753 starting: writing list-style template file 'freyberg6_template\\wel_grd_inst15_grid.csv.tpl'\n",
      "2022-03-17 12:41:29.937710 finished: writing list-style template file 'freyberg6_template\\wel_grd_inst15_grid.csv.tpl' took: 0:00:00.012957\n",
      "2022-03-17 12:41:29.946739 finished: adding grid type m style parameters for file(s) ['freyberg6.wel_stress_period_data_23.txt'] took: 0:00:00.025941\n",
      "2022-03-17 12:41:29.946739 starting: adding constant type m style parameters for file(s) ['freyberg6.wel_stress_period_data_24.txt']\n",
      "2022-03-17 12:41:29.946739 starting: loading list-style freyberg6_template\\freyberg6.wel_stress_period_data_24.txt\n",
      "2022-03-17 12:41:29.947736 starting: reading list-style file: freyberg6_template\\freyberg6.wel_stress_period_data_24.txt\n",
      "2022-03-17 12:41:29.949728 finished: reading list-style file: freyberg6_template\\freyberg6.wel_stress_period_data_24.txt took: 0:00:00.001992\n",
      "2022-03-17 12:41:29.949728 loaded list-style 'freyberg6_template\\freyberg6.wel_stress_period_data_24.txt' of shape (6, 4)\n",
      "2022-03-17 12:41:29.950676 finished: loading list-style freyberg6_template\\freyberg6.wel_stress_period_data_24.txt took: 0:00:00.003937\n",
      "2022-03-17 12:41:29.950676 starting: writing list-style template file 'freyberg6_template\\wel_cst_inst16_constant.csv.tpl'\n"
     ]
    },
    {
     "name": "stdout",
     "output_type": "stream",
     "text": [
      "2022-03-17 12:41:29.964637 finished: writing list-style template file 'freyberg6_template\\wel_cst_inst16_constant.csv.tpl' took: 0:00:00.013961\n",
      "2022-03-17 12:41:29.975609 finished: adding constant type m style parameters for file(s) ['freyberg6.wel_stress_period_data_24.txt'] took: 0:00:00.028870\n",
      "2022-03-17 12:41:29.975609 starting: adding grid type m style parameters for file(s) ['freyberg6.wel_stress_period_data_24.txt']\n",
      "2022-03-17 12:41:29.975609 starting: loading list-style freyberg6_template\\freyberg6.wel_stress_period_data_24.txt\n",
      "2022-03-17 12:41:29.975609 starting: reading list-style file: freyberg6_template\\freyberg6.wel_stress_period_data_24.txt\n",
      "2022-03-17 12:41:29.977603 finished: reading list-style file: freyberg6_template\\freyberg6.wel_stress_period_data_24.txt took: 0:00:00.001994\n",
      "2022-03-17 12:41:29.977603 loaded list-style 'freyberg6_template\\freyberg6.wel_stress_period_data_24.txt' of shape (6, 4)\n",
      "2022-03-17 12:41:29.979598 finished: loading list-style freyberg6_template\\freyberg6.wel_stress_period_data_24.txt took: 0:00:00.003989\n",
      "2022-03-17 12:41:29.979598 starting: writing list-style template file 'freyberg6_template\\wel_grd_inst16_grid.csv.tpl'\n",
      "2022-03-17 12:41:29.993559 finished: writing list-style template file 'freyberg6_template\\wel_grd_inst16_grid.csv.tpl' took: 0:00:00.013961\n",
      "2022-03-17 12:41:30.002537 finished: adding grid type m style parameters for file(s) ['freyberg6.wel_stress_period_data_24.txt'] took: 0:00:00.026928\n",
      "2022-03-17 12:41:30.002537 starting: adding constant type m style parameters for file(s) ['freyberg6.wel_stress_period_data_25.txt']\n",
      "2022-03-17 12:41:30.003534 starting: loading list-style freyberg6_template\\freyberg6.wel_stress_period_data_25.txt\n"
     ]
    },
    {
     "name": "stdout",
     "output_type": "stream",
     "text": [
      "2022-03-17 12:41:30.003534 starting: reading list-style file: freyberg6_template\\freyberg6.wel_stress_period_data_25.txt\n",
      "2022-03-17 12:41:30.005831 finished: reading list-style file: freyberg6_template\\freyberg6.wel_stress_period_data_25.txt took: 0:00:00.002297\n",
      "2022-03-17 12:41:30.005831 loaded list-style 'freyberg6_template\\freyberg6.wel_stress_period_data_25.txt' of shape (6, 4)\n",
      "2022-03-17 12:41:30.006548 finished: loading list-style freyberg6_template\\freyberg6.wel_stress_period_data_25.txt took: 0:00:00.003014\n",
      "2022-03-17 12:41:30.006548 starting: writing list-style template file 'freyberg6_template\\wel_cst_inst17_constant.csv.tpl'\n",
      "2022-03-17 12:41:30.019825 finished: writing list-style template file 'freyberg6_template\\wel_cst_inst17_constant.csv.tpl' took: 0:00:00.013277\n",
      "2022-03-17 12:41:30.028801 finished: adding constant type m style parameters for file(s) ['freyberg6.wel_stress_period_data_25.txt'] took: 0:00:00.026264\n",
      "2022-03-17 12:41:30.028801 starting: adding grid type m style parameters for file(s) ['freyberg6.wel_stress_period_data_25.txt']\n",
      "2022-03-17 12:41:30.028801 starting: loading list-style freyberg6_template\\freyberg6.wel_stress_period_data_25.txt\n",
      "2022-03-17 12:41:30.028801 starting: reading list-style file: freyberg6_template\\freyberg6.wel_stress_period_data_25.txt\n",
      "2022-03-17 12:41:30.030840 finished: reading list-style file: freyberg6_template\\freyberg6.wel_stress_period_data_25.txt took: 0:00:00.002039\n",
      "2022-03-17 12:41:30.030840 loaded list-style 'freyberg6_template\\freyberg6.wel_stress_period_data_25.txt' of shape (6, 4)\n",
      "2022-03-17 12:41:30.031793 finished: loading list-style freyberg6_template\\freyberg6.wel_stress_period_data_25.txt took: 0:00:00.002992\n",
      "2022-03-17 12:41:30.031793 starting: writing list-style template file 'freyberg6_template\\wel_grd_inst17_grid.csv.tpl'\n",
      "2022-03-17 12:41:30.044758 finished: writing list-style template file 'freyberg6_template\\wel_grd_inst17_grid.csv.tpl' took: 0:00:00.012965\n",
      "2022-03-17 12:41:30.053782 finished: adding grid type m style parameters for file(s) ['freyberg6.wel_stress_period_data_25.txt'] took: 0:00:00.024981\n",
      "2022-03-17 12:41:30.053782 starting: adding constant type m style parameters for file(s) ['freyberg6.wel_stress_period_data_3.txt']\n",
      "2022-03-17 12:41:30.053782 starting: loading list-style freyberg6_template\\freyberg6.wel_stress_period_data_3.txt\n",
      "2022-03-17 12:41:30.053782 starting: reading list-style file: freyberg6_template\\freyberg6.wel_stress_period_data_3.txt\n",
      "2022-03-17 12:41:30.056727 finished: reading list-style file: freyberg6_template\\freyberg6.wel_stress_period_data_3.txt took: 0:00:00.002945\n",
      "2022-03-17 12:41:30.056727 loaded list-style 'freyberg6_template\\freyberg6.wel_stress_period_data_3.txt' of shape (6, 4)\n",
      "2022-03-17 12:41:30.057766 finished: loading list-style freyberg6_template\\freyberg6.wel_stress_period_data_3.txt took: 0:00:00.003984\n",
      "2022-03-17 12:41:30.058745 starting: writing list-style template file 'freyberg6_template\\wel_cst_inst18_constant.csv.tpl'\n",
      "2022-03-17 12:41:30.070696 finished: writing list-style template file 'freyberg6_template\\wel_cst_inst18_constant.csv.tpl' took: 0:00:00.011951\n",
      "2022-03-17 12:41:30.080662 finished: adding constant type m style parameters for file(s) ['freyberg6.wel_stress_period_data_3.txt'] took: 0:00:00.026880\n"
     ]
    },
    {
     "name": "stdout",
     "output_type": "stream",
     "text": [
      "2022-03-17 12:41:30.080662 starting: adding grid type m style parameters for file(s) ['freyberg6.wel_stress_period_data_3.txt']\n",
      "2022-03-17 12:41:30.080662 starting: loading list-style freyberg6_template\\freyberg6.wel_stress_period_data_3.txt\n",
      "2022-03-17 12:41:30.080662 starting: reading list-style file: freyberg6_template\\freyberg6.wel_stress_period_data_3.txt\n",
      "2022-03-17 12:41:30.082657 finished: reading list-style file: freyberg6_template\\freyberg6.wel_stress_period_data_3.txt took: 0:00:00.001995\n",
      "2022-03-17 12:41:30.082657 loaded list-style 'freyberg6_template\\freyberg6.wel_stress_period_data_3.txt' of shape (6, 4)\n",
      "2022-03-17 12:41:30.083655 finished: loading list-style freyberg6_template\\freyberg6.wel_stress_period_data_3.txt took: 0:00:00.002993\n",
      "2022-03-17 12:41:30.083655 starting: writing list-style template file 'freyberg6_template\\wel_grd_inst18_grid.csv.tpl'\n",
      "2022-03-17 12:41:30.097616 finished: writing list-style template file 'freyberg6_template\\wel_grd_inst18_grid.csv.tpl' took: 0:00:00.013961\n",
      "2022-03-17 12:41:30.106648 finished: adding grid type m style parameters for file(s) ['freyberg6.wel_stress_period_data_3.txt'] took: 0:00:00.025986\n",
      "2022-03-17 12:41:30.106648 starting: adding constant type m style parameters for file(s) ['freyberg6.wel_stress_period_data_4.txt']\n",
      "2022-03-17 12:41:30.107591 starting: loading list-style freyberg6_template\\freyberg6.wel_stress_period_data_4.txt\n",
      "2022-03-17 12:41:30.107591 starting: reading list-style file: freyberg6_template\\freyberg6.wel_stress_period_data_4.txt\n",
      "2022-03-17 12:41:30.109635 finished: reading list-style file: freyberg6_template\\freyberg6.wel_stress_period_data_4.txt took: 0:00:00.002044\n",
      "2022-03-17 12:41:30.109635 loaded list-style 'freyberg6_template\\freyberg6.wel_stress_period_data_4.txt' of shape (6, 4)\n",
      "2022-03-17 12:41:30.110583 finished: loading list-style freyberg6_template\\freyberg6.wel_stress_period_data_4.txt took: 0:00:00.002992\n",
      "2022-03-17 12:41:30.110583 starting: writing list-style template file 'freyberg6_template\\wel_cst_inst19_constant.csv.tpl'\n"
     ]
    },
    {
     "name": "stdout",
     "output_type": "stream",
     "text": [
      "2022-03-17 12:41:30.124583 finished: writing list-style template file 'freyberg6_template\\wel_cst_inst19_constant.csv.tpl' took: 0:00:00.014000\n",
      "2022-03-17 12:41:30.132524 finished: adding constant type m style parameters for file(s) ['freyberg6.wel_stress_period_data_4.txt'] took: 0:00:00.025876\n",
      "2022-03-17 12:41:30.133558 starting: adding grid type m style parameters for file(s) ['freyberg6.wel_stress_period_data_4.txt']\n",
      "2022-03-17 12:41:30.133558 starting: loading list-style freyberg6_template\\freyberg6.wel_stress_period_data_4.txt\n",
      "2022-03-17 12:41:30.133558 starting: reading list-style file: freyberg6_template\\freyberg6.wel_stress_period_data_4.txt\n",
      "2022-03-17 12:41:30.135566 finished: reading list-style file: freyberg6_template\\freyberg6.wel_stress_period_data_4.txt took: 0:00:00.002008\n",
      "2022-03-17 12:41:30.135566 loaded list-style 'freyberg6_template\\freyberg6.wel_stress_period_data_4.txt' of shape (6, 4)\n",
      "2022-03-17 12:41:30.136513 finished: loading list-style freyberg6_template\\freyberg6.wel_stress_period_data_4.txt took: 0:00:00.002955\n",
      "2022-03-17 12:41:30.136513 starting: writing list-style template file 'freyberg6_template\\wel_grd_inst19_grid.csv.tpl'\n",
      "2022-03-17 12:41:30.150475 finished: writing list-style template file 'freyberg6_template\\wel_grd_inst19_grid.csv.tpl' took: 0:00:00.013962\n"
     ]
    },
    {
     "name": "stdout",
     "output_type": "stream",
     "text": [
      "2022-03-17 12:41:30.159485 finished: adding grid type m style parameters for file(s) ['freyberg6.wel_stress_period_data_4.txt'] took: 0:00:00.025927\n",
      "2022-03-17 12:41:30.159485 starting: adding constant type m style parameters for file(s) ['freyberg6.wel_stress_period_data_5.txt']\n",
      "2022-03-17 12:41:30.159485 starting: loading list-style freyberg6_template\\freyberg6.wel_stress_period_data_5.txt\n",
      "2022-03-17 12:41:30.159485 starting: reading list-style file: freyberg6_template\\freyberg6.wel_stress_period_data_5.txt\n",
      "2022-03-17 12:41:30.162477 finished: reading list-style file: freyberg6_template\\freyberg6.wel_stress_period_data_5.txt took: 0:00:00.002992\n",
      "2022-03-17 12:41:30.162477 loaded list-style 'freyberg6_template\\freyberg6.wel_stress_period_data_5.txt' of shape (6, 4)\n",
      "2022-03-17 12:41:30.163441 finished: loading list-style freyberg6_template\\freyberg6.wel_stress_period_data_5.txt took: 0:00:00.003956\n",
      "2022-03-17 12:41:30.163441 starting: writing list-style template file 'freyberg6_template\\wel_cst_inst20_constant.csv.tpl'\n",
      "2022-03-17 12:41:30.176406 finished: writing list-style template file 'freyberg6_template\\wel_cst_inst20_constant.csv.tpl' took: 0:00:00.012965\n",
      "2022-03-17 12:41:30.184385 finished: adding constant type m style parameters for file(s) ['freyberg6.wel_stress_period_data_5.txt'] took: 0:00:00.024900\n",
      "2022-03-17 12:41:30.184385 starting: adding grid type m style parameters for file(s) ['freyberg6.wel_stress_period_data_5.txt']\n",
      "2022-03-17 12:41:30.185417 starting: loading list-style freyberg6_template\\freyberg6.wel_stress_period_data_5.txt\n",
      "2022-03-17 12:41:30.185417 starting: reading list-style file: freyberg6_template\\freyberg6.wel_stress_period_data_5.txt\n",
      "2022-03-17 12:41:30.186412 finished: reading list-style file: freyberg6_template\\freyberg6.wel_stress_period_data_5.txt took: 0:00:00.000995\n",
      "2022-03-17 12:41:30.186412 loaded list-style 'freyberg6_template\\freyberg6.wel_stress_period_data_5.txt' of shape (6, 4)\n",
      "2022-03-17 12:41:30.187410 finished: loading list-style freyberg6_template\\freyberg6.wel_stress_period_data_5.txt took: 0:00:00.001993\n",
      "2022-03-17 12:41:30.188374 starting: writing list-style template file 'freyberg6_template\\wel_grd_inst20_grid.csv.tpl'\n",
      "2022-03-17 12:41:30.201366 finished: writing list-style template file 'freyberg6_template\\wel_grd_inst20_grid.csv.tpl' took: 0:00:00.012992\n"
     ]
    },
    {
     "name": "stdout",
     "output_type": "stream",
     "text": [
      "2022-03-17 12:41:30.210352 finished: adding grid type m style parameters for file(s) ['freyberg6.wel_stress_period_data_5.txt'] took: 0:00:00.025967\n",
      "2022-03-17 12:41:30.210352 starting: adding constant type m style parameters for file(s) ['freyberg6.wel_stress_period_data_6.txt']\n",
      "2022-03-17 12:41:30.210352 starting: loading list-style freyberg6_template\\freyberg6.wel_stress_period_data_6.txt\n",
      "2022-03-17 12:41:30.211348 starting: reading list-style file: freyberg6_template\\freyberg6.wel_stress_period_data_6.txt\n",
      "2022-03-17 12:41:30.213332 finished: reading list-style file: freyberg6_template\\freyberg6.wel_stress_period_data_6.txt took: 0:00:00.001984\n",
      "2022-03-17 12:41:30.213332 loaded list-style 'freyberg6_template\\freyberg6.wel_stress_period_data_6.txt' of shape (6, 4)\n",
      "2022-03-17 12:41:30.214305 finished: loading list-style freyberg6_template\\freyberg6.wel_stress_period_data_6.txt took: 0:00:00.003953\n",
      "2022-03-17 12:41:30.214305 starting: writing list-style template file 'freyberg6_template\\wel_cst_inst21_constant.csv.tpl'\n",
      "2022-03-17 12:41:30.227270 finished: writing list-style template file 'freyberg6_template\\wel_cst_inst21_constant.csv.tpl' took: 0:00:00.012965\n",
      "2022-03-17 12:41:30.235282 finished: adding constant type m style parameters for file(s) ['freyberg6.wel_stress_period_data_6.txt'] took: 0:00:00.024930\n",
      "2022-03-17 12:41:30.235282 starting: adding grid type m style parameters for file(s) ['freyberg6.wel_stress_period_data_6.txt']\n",
      "2022-03-17 12:41:30.236284 starting: loading list-style freyberg6_template\\freyberg6.wel_stress_period_data_6.txt\n",
      "2022-03-17 12:41:30.236284 starting: reading list-style file: freyberg6_template\\freyberg6.wel_stress_period_data_6.txt\n",
      "2022-03-17 12:41:30.237245 finished: reading list-style file: freyberg6_template\\freyberg6.wel_stress_period_data_6.txt took: 0:00:00.000961\n",
      "2022-03-17 12:41:30.238242 loaded list-style 'freyberg6_template\\freyberg6.wel_stress_period_data_6.txt' of shape (6, 4)\n",
      "2022-03-17 12:41:30.239239 finished: loading list-style freyberg6_template\\freyberg6.wel_stress_period_data_6.txt took: 0:00:00.002955\n",
      "2022-03-17 12:41:30.239239 starting: writing list-style template file 'freyberg6_template\\wel_grd_inst21_grid.csv.tpl'\n",
      "2022-03-17 12:41:30.252236 finished: writing list-style template file 'freyberg6_template\\wel_grd_inst21_grid.csv.tpl' took: 0:00:00.012997\n",
      "2022-03-17 12:41:30.261235 finished: adding grid type m style parameters for file(s) ['freyberg6.wel_stress_period_data_6.txt'] took: 0:00:00.025953\n",
      "2022-03-17 12:41:30.261235 starting: adding constant type m style parameters for file(s) ['freyberg6.wel_stress_period_data_7.txt']\n",
      "2022-03-17 12:41:30.261235 starting: loading list-style freyberg6_template\\freyberg6.wel_stress_period_data_7.txt\n",
      "2022-03-17 12:41:30.262229 starting: reading list-style file: freyberg6_template\\freyberg6.wel_stress_period_data_7.txt\n",
      "2022-03-17 12:41:30.263198 finished: reading list-style file: freyberg6_template\\freyberg6.wel_stress_period_data_7.txt took: 0:00:00.000969\n",
      "2022-03-17 12:41:30.264224 loaded list-style 'freyberg6_template\\freyberg6.wel_stress_period_data_7.txt' of shape (6, 4)\n",
      "2022-03-17 12:41:30.264224 finished: loading list-style freyberg6_template\\freyberg6.wel_stress_period_data_7.txt took: 0:00:00.002989\n",
      "2022-03-17 12:41:30.265205 starting: writing list-style template file 'freyberg6_template\\wel_cst_inst22_constant.csv.tpl'\n"
     ]
    },
    {
     "name": "stdout",
     "output_type": "stream",
     "text": [
      "2022-03-17 12:41:30.278134 finished: writing list-style template file 'freyberg6_template\\wel_cst_inst22_constant.csv.tpl' took: 0:00:00.012929\n",
      "2022-03-17 12:41:30.287110 finished: adding constant type m style parameters for file(s) ['freyberg6.wel_stress_period_data_7.txt'] took: 0:00:00.025875\n",
      "2022-03-17 12:41:30.287110 starting: adding grid type m style parameters for file(s) ['freyberg6.wel_stress_period_data_7.txt']\n",
      "2022-03-17 12:41:30.287110 starting: loading list-style freyberg6_template\\freyberg6.wel_stress_period_data_7.txt\n",
      "2022-03-17 12:41:30.287110 starting: reading list-style file: freyberg6_template\\freyberg6.wel_stress_period_data_7.txt\n",
      "2022-03-17 12:41:30.289142 finished: reading list-style file: freyberg6_template\\freyberg6.wel_stress_period_data_7.txt took: 0:00:00.002032\n",
      "2022-03-17 12:41:30.289142 loaded list-style 'freyberg6_template\\freyberg6.wel_stress_period_data_7.txt' of shape (6, 4)\n",
      "2022-03-17 12:41:30.290128 finished: loading list-style freyberg6_template\\freyberg6.wel_stress_period_data_7.txt took: 0:00:00.003018\n",
      "2022-03-17 12:41:30.291099 starting: writing list-style template file 'freyberg6_template\\wel_grd_inst22_grid.csv.tpl'\n",
      "2022-03-17 12:41:30.304115 finished: writing list-style template file 'freyberg6_template\\wel_grd_inst22_grid.csv.tpl' took: 0:00:00.013016\n",
      "2022-03-17 12:41:30.312096 finished: adding grid type m style parameters for file(s) ['freyberg6.wel_stress_period_data_7.txt'] took: 0:00:00.024986\n",
      "2022-03-17 12:41:30.312096 starting: adding constant type m style parameters for file(s) ['freyberg6.wel_stress_period_data_8.txt']\n",
      "2022-03-17 12:41:30.312096 starting: loading list-style freyberg6_template\\freyberg6.wel_stress_period_data_8.txt\n",
      "2022-03-17 12:41:30.313096 starting: reading list-style file: freyberg6_template\\freyberg6.wel_stress_period_data_8.txt\n",
      "2022-03-17 12:41:30.315088 finished: reading list-style file: freyberg6_template\\freyberg6.wel_stress_period_data_8.txt took: 0:00:00.001992\n",
      "2022-03-17 12:41:30.315088 loaded list-style 'freyberg6_template\\freyberg6.wel_stress_period_data_8.txt' of shape (6, 4)\n"
     ]
    },
    {
     "name": "stdout",
     "output_type": "stream",
     "text": [
      "2022-03-17 12:41:30.316034 finished: loading list-style freyberg6_template\\freyberg6.wel_stress_period_data_8.txt took: 0:00:00.003938\n",
      "2022-03-17 12:41:30.316034 starting: writing list-style template file 'freyberg6_template\\wel_cst_inst23_constant.csv.tpl'\n",
      "2022-03-17 12:41:30.329012 finished: writing list-style template file 'freyberg6_template\\wel_cst_inst23_constant.csv.tpl' took: 0:00:00.012978\n",
      "2022-03-17 12:41:30.337974 finished: adding constant type m style parameters for file(s) ['freyberg6.wel_stress_period_data_8.txt'] took: 0:00:00.025878\n",
      "2022-03-17 12:41:30.339153 starting: adding grid type m style parameters for file(s) ['freyberg6.wel_stress_period_data_8.txt']\n",
      "2022-03-17 12:41:30.339153 starting: loading list-style freyberg6_template\\freyberg6.wel_stress_period_data_8.txt\n",
      "2022-03-17 12:41:30.339153 starting: reading list-style file: freyberg6_template\\freyberg6.wel_stress_period_data_8.txt\n",
      "2022-03-17 12:41:30.340007 finished: reading list-style file: freyberg6_template\\freyberg6.wel_stress_period_data_8.txt took: 0:00:00.000854\n",
      "2022-03-17 12:41:30.341000 loaded list-style 'freyberg6_template\\freyberg6.wel_stress_period_data_8.txt' of shape (6, 4)\n",
      "2022-03-17 12:41:30.341966 finished: loading list-style freyberg6_template\\freyberg6.wel_stress_period_data_8.txt took: 0:00:00.002813\n",
      "2022-03-17 12:41:30.341966 starting: writing list-style template file 'freyberg6_template\\wel_grd_inst23_grid.csv.tpl'\n"
     ]
    },
    {
     "name": "stdout",
     "output_type": "stream",
     "text": [
      "2022-03-17 12:41:30.355926 finished: writing list-style template file 'freyberg6_template\\wel_grd_inst23_grid.csv.tpl' took: 0:00:00.013960\n",
      "2022-03-17 12:41:30.363929 finished: adding grid type m style parameters for file(s) ['freyberg6.wel_stress_period_data_8.txt'] took: 0:00:00.024776\n",
      "2022-03-17 12:41:30.363929 starting: adding constant type m style parameters for file(s) ['freyberg6.wel_stress_period_data_9.txt']\n",
      "2022-03-17 12:41:30.363929 starting: loading list-style freyberg6_template\\freyberg6.wel_stress_period_data_9.txt\n",
      "2022-03-17 12:41:30.363929 starting: reading list-style file: freyberg6_template\\freyberg6.wel_stress_period_data_9.txt\n",
      "2022-03-17 12:41:30.365950 finished: reading list-style file: freyberg6_template\\freyberg6.wel_stress_period_data_9.txt took: 0:00:00.002021\n",
      "2022-03-17 12:41:30.366942 loaded list-style 'freyberg6_template\\freyberg6.wel_stress_period_data_9.txt' of shape (6, 4)\n",
      "2022-03-17 12:41:30.366942 finished: loading list-style freyberg6_template\\freyberg6.wel_stress_period_data_9.txt took: 0:00:00.003013\n",
      "2022-03-17 12:41:30.367957 starting: writing list-style template file 'freyberg6_template\\wel_cst_inst24_constant.csv.tpl'\n",
      "2022-03-17 12:41:30.380859 finished: writing list-style template file 'freyberg6_template\\wel_cst_inst24_constant.csv.tpl' took: 0:00:00.012902\n",
      "2022-03-17 12:41:30.389888 finished: adding constant type m style parameters for file(s) ['freyberg6.wel_stress_period_data_9.txt'] took: 0:00:00.025959\n",
      "2022-03-17 12:41:30.389888 starting: adding grid type m style parameters for file(s) ['freyberg6.wel_stress_period_data_9.txt']\n",
      "2022-03-17 12:41:30.389888 starting: loading list-style freyberg6_template\\freyberg6.wel_stress_period_data_9.txt\n",
      "2022-03-17 12:41:30.390885 starting: reading list-style file: freyberg6_template\\freyberg6.wel_stress_period_data_9.txt\n",
      "2022-03-17 12:41:30.391831 finished: reading list-style file: freyberg6_template\\freyberg6.wel_stress_period_data_9.txt took: 0:00:00.000946\n",
      "2022-03-17 12:41:30.391831 loaded list-style 'freyberg6_template\\freyberg6.wel_stress_period_data_9.txt' of shape (6, 4)\n",
      "2022-03-17 12:41:30.392827 finished: loading list-style freyberg6_template\\freyberg6.wel_stress_period_data_9.txt took: 0:00:00.002939\n",
      "2022-03-17 12:41:30.392827 starting: writing list-style template file 'freyberg6_template\\wel_grd_inst24_grid.csv.tpl'\n"
     ]
    },
    {
     "name": "stdout",
     "output_type": "stream",
     "text": [
      "2022-03-17 12:41:30.406790 finished: writing list-style template file 'freyberg6_template\\wel_grd_inst24_grid.csv.tpl' took: 0:00:00.013963\n",
      "2022-03-17 12:41:30.415766 finished: adding grid type m style parameters for file(s) ['freyberg6.wel_stress_period_data_9.txt'] took: 0:00:00.025878\n"
     ]
    }
   ],
   "source": [
    "files = [f for f in os.listdir(template_ws) if \"wel_stress_period_data\" in f and f.endswith(\".txt\")]\n",
    "\n",
    "for f in files:\n",
    "    # get the stress period number from the file name\n",
    "    kper = int(f.split('.')[1].split('_')[-1]) - 1  \n",
    "    \n",
    "    # add the constant parameters (with temporal correlation)\n",
    "    pf.add_parameters(filenames=f,\n",
    "                        index_cols=[0,1,2], #columns that specify cell location\n",
    "                        use_cols=[3],       #columns with parameter values\n",
    "                        par_type=\"constant\",    #each well will be adjustable\n",
    "                        par_name_base=\"wel_cst\",\n",
    "                        pargp=\"wel_cst\", \n",
    "                        upper_bound = 1.5, lower_bound=0.5,\n",
    "                        datetime=dts[kper], # this places the parameter value on the \"time axis\"\n",
    "                        geostruct=temporal_gs)\n",
    "    \n",
    "    # add the grid parameters; each individual well\n",
    "    pf.add_parameters(filenames=f,\n",
    "                        index_cols=[0,1,2], #columns that specify cell location \n",
    "                        use_cols=[3],       #columns with parameter values\n",
    "                        par_type=\"grid\",    #each well will be adjustable\n",
    "                        par_name_base=\"wel_grd\",\n",
    "                        pargp=\"wel_grd\", \n",
    "                        upper_bound = 1.5, lower_bound=0.5,\n",
    "                        datetime=dts[kper]) # this places the parameter value on the \"time axis\"\n",
    "                     "
   ]
  },
  {
   "cell_type": "markdown",
   "metadata": {},
   "source": [
    "And finally, our favourite (not!) boundary-condition: SFR.\n",
    "\n",
    "Let's parameterize conductance (time-invariant) and inflow (time-variant)."
   ]
  },
  {
   "cell_type": "code",
   "execution_count": 32,
   "metadata": {
    "execution": {
     "iopub.execute_input": "2022-03-17T02:11:30.426769Z",
     "iopub.status.busy": "2022-03-17T02:11:30.426769Z",
     "iopub.status.idle": "2022-03-17T02:11:30.497548Z",
     "shell.execute_reply": "2022-03-17T02:11:30.497548Z"
    }
   },
   "outputs": [
    {
     "name": "stdout",
     "output_type": "stream",
     "text": [
      "['freyberg6.sfr_packagedata.txt']\n",
      "2022-03-17 12:41:30.427734 starting: adding grid type m style parameters for file(s) ['freyberg6.sfr_packagedata.txt']\n",
      "2022-03-17 12:41:30.427734 starting: loading list-style freyberg6_template\\freyberg6.sfr_packagedata.txt\n",
      "2022-03-17 12:41:30.427734 starting: reading list-style file: freyberg6_template\\freyberg6.sfr_packagedata.txt\n",
      "2022-03-17 12:41:30.430750 finished: reading list-style file: freyberg6_template\\freyberg6.sfr_packagedata.txt took: 0:00:00.003016\n",
      "2022-03-17 12:41:30.431723 loaded list-style 'freyberg6_template\\freyberg6.sfr_packagedata.txt' of shape (40, 15)\n",
      "2022-03-17 12:41:30.432720 finished: loading list-style freyberg6_template\\freyberg6.sfr_packagedata.txt took: 0:00:00.004986\n",
      "2022-03-17 12:41:30.432720 starting: writing list-style template file 'freyberg6_template\\sfrcond_gr_inst0_grid.csv.tpl'\n",
      "2022-03-17 12:41:30.436735 WARNING: get_xy() warning: position of i and j in index_cols not specified, assume (i,j) are final two entries in index_cols.\n",
      "2022-03-17 12:41:30.451670 finished: writing list-style template file 'freyberg6_template\\sfrcond_gr_inst0_grid.csv.tpl' took: 0:00:00.018950\n"
     ]
    },
    {
     "name": "stdout",
     "output_type": "stream",
     "text": [
      "2022-03-17 12:41:30.459686 finished: adding grid type m style parameters for file(s) ['freyberg6.sfr_packagedata.txt'] took: 0:00:00.031952\n",
      "2022-03-17 12:41:30.459686 starting: adding constant type m style parameters for file(s) ['freyberg6.sfr_packagedata.txt']\n",
      "2022-03-17 12:41:30.460683 starting: loading list-style freyberg6_template\\freyberg6.sfr_packagedata.txt\n",
      "2022-03-17 12:41:30.460683 starting: reading list-style file: freyberg6_template\\freyberg6.sfr_packagedata.txt\n",
      "2022-03-17 12:41:30.462641 finished: reading list-style file: freyberg6_template\\freyberg6.sfr_packagedata.txt took: 0:00:00.001958\n",
      "2022-03-17 12:41:30.463640 loaded list-style 'freyberg6_template\\freyberg6.sfr_packagedata.txt' of shape (40, 15)\n",
      "2022-03-17 12:41:30.464637 finished: loading list-style freyberg6_template\\freyberg6.sfr_packagedata.txt took: 0:00:00.003954\n",
      "2022-03-17 12:41:30.464637 starting: writing list-style template file 'freyberg6_template\\sfrcond_cn_inst0_constant.csv.tpl'\n",
      "2022-03-17 12:41:30.480594 finished: writing list-style template file 'freyberg6_template\\sfrcond_cn_inst0_constant.csv.tpl' took: 0:00:00.015957\n",
      "2022-03-17 12:41:30.486578 finished: adding constant type m style parameters for file(s) ['freyberg6.sfr_packagedata.txt'] took: 0:00:00.026892\n"
     ]
    },
    {
     "data": {
      "text/html": [
       "<div>\n",
       "<style scoped>\n",
       "    .dataframe tbody tr th:only-of-type {\n",
       "        vertical-align: middle;\n",
       "    }\n",
       "\n",
       "    .dataframe tbody tr th {\n",
       "        vertical-align: top;\n",
       "    }\n",
       "\n",
       "    .dataframe thead th {\n",
       "        text-align: right;\n",
       "    }\n",
       "</style>\n",
       "<table border=\"1\" class=\"dataframe\">\n",
       "  <thead>\n",
       "    <tr style=\"text-align: right;\">\n",
       "      <th></th>\n",
       "      <th>parnme</th>\n",
       "      <th>pargp</th>\n",
       "      <th>covgp</th>\n",
       "      <th>tpl_filename</th>\n",
       "      <th>input_filename</th>\n",
       "      <th>parval1</th>\n",
       "      <th>partype</th>\n",
       "      <th>partrans</th>\n",
       "      <th>parubnd</th>\n",
       "      <th>parlbnd</th>\n",
       "      <th>parchglim</th>\n",
       "      <th>dercom</th>\n",
       "      <th>offset</th>\n",
       "      <th>scale</th>\n",
       "    </tr>\n",
       "  </thead>\n",
       "  <tbody>\n",
       "    <tr>\n",
       "      <th>pname:sfrcond_cn_inst:0_ptype:cn_usecol:9_pstyle:m</th>\n",
       "      <td>pname:sfrcond_cn_inst:0_ptype:cn_usecol:9_pstyle:m</td>\n",
       "      <td>sfrcond_cn</td>\n",
       "      <td>sfrcond_cn</td>\n",
       "      <td>freyberg6_template\\sfrcond_cn_inst0_constant.csv.tpl</td>\n",
       "      <td>freyberg6_template\\mult\\sfrcond_cn_inst0_constant.csv</td>\n",
       "      <td>1.0</td>\n",
       "      <td>constant</td>\n",
       "      <td>log</td>\n",
       "      <td>10.0</td>\n",
       "      <td>0.1</td>\n",
       "      <td>factor</td>\n",
       "      <td>1</td>\n",
       "      <td>0.0</td>\n",
       "      <td>1.0</td>\n",
       "    </tr>\n",
       "  </tbody>\n",
       "</table>\n",
       "</div>"
      ],
      "text/plain": [
       "                                                                                                parnme  \\\n",
       "pname:sfrcond_cn_inst:0_ptype:cn_usecol:9_pstyle:m  pname:sfrcond_cn_inst:0_ptype:cn_usecol:9_pstyle:m   \n",
       "\n",
       "                                                         pargp       covgp  \\\n",
       "pname:sfrcond_cn_inst:0_ptype:cn_usecol:9_pstyle:m  sfrcond_cn  sfrcond_cn   \n",
       "\n",
       "                                                                                            tpl_filename  \\\n",
       "pname:sfrcond_cn_inst:0_ptype:cn_usecol:9_pstyle:m  freyberg6_template\\sfrcond_cn_inst0_constant.csv.tpl   \n",
       "\n",
       "                                                                                           input_filename  \\\n",
       "pname:sfrcond_cn_inst:0_ptype:cn_usecol:9_pstyle:m  freyberg6_template\\mult\\sfrcond_cn_inst0_constant.csv   \n",
       "\n",
       "                                                    parval1   partype  \\\n",
       "pname:sfrcond_cn_inst:0_ptype:cn_usecol:9_pstyle:m      1.0  constant   \n",
       "\n",
       "                                                   partrans  parubnd  parlbnd  \\\n",
       "pname:sfrcond_cn_inst:0_ptype:cn_usecol:9_pstyle:m      log     10.0      0.1   \n",
       "\n",
       "                                                   parchglim  dercom  offset  \\\n",
       "pname:sfrcond_cn_inst:0_ptype:cn_usecol:9_pstyle:m    factor       1     0.0   \n",
       "\n",
       "                                                    scale  \n",
       "pname:sfrcond_cn_inst:0_ptype:cn_usecol:9_pstyle:m    1.0  "
      ]
     },
     "execution_count": 32,
     "metadata": {},
     "output_type": "execute_result"
    }
   ],
   "source": [
    "# SFR conductance\n",
    "tag = \"sfr_packagedata\"\n",
    "files = [f for f in os.listdir(template_ws) if tag in f.lower() and f.endswith(\".txt\")]\n",
    "assert len(files) == 1 # There can be only one! It is tradition. Jokes.\n",
    "print(files)\n",
    "f = files[0]\n",
    "# constant and grid scale multiplier conductance parameters\n",
    "name = \"sfrcond\"\n",
    "pf.add_parameters(f,\n",
    "                par_type=\"grid\",\n",
    "                geostruct=grid_gs,\n",
    "                par_name_base=name+\"_gr\",\n",
    "                pargp=name+\"_gr\",\n",
    "                index_cols=[0,2,3],\n",
    "                use_cols=[9],\n",
    "                lower_bound=0.1,upper_bound=10.0,\n",
    "                ult_lbound=0.01, ult_ubound=10) #absolute limits\n",
    "pf.add_parameters(f,\n",
    "                par_type=\"constant\",\n",
    "                geostruct=grid_gs,\n",
    "                par_name_base=name+\"_cn\",\n",
    "                pargp=name+\"_cn\",\n",
    "                index_cols=[0,2,3],\n",
    "                use_cols=[9],\n",
    "                lower_bound=0.1,upper_bound=10.0,\n",
    "                ult_lbound=0.01, ult_ubound=10) #absolute limits"
   ]
  },
  {
   "cell_type": "code",
   "execution_count": 33,
   "metadata": {
    "execution": {
     "iopub.execute_input": "2022-03-17T02:11:30.502566Z",
     "iopub.status.busy": "2022-03-17T02:11:30.502566Z",
     "iopub.status.idle": "2022-03-17T02:11:31.280589Z",
     "shell.execute_reply": "2022-03-17T02:11:31.279595Z"
    }
   },
   "outputs": [
    {
     "name": "stdout",
     "output_type": "stream",
     "text": [
      "2022-03-17 12:41:30.503531 starting: adding grid type m style parameters for file(s) ['freyberg6.sfr_perioddata_1.txt']\n",
      "2022-03-17 12:41:30.503531 starting: loading list-style freyberg6_template\\freyberg6.sfr_perioddata_1.txt\n"
     ]
    },
    {
     "name": "stdout",
     "output_type": "stream",
     "text": [
      "2022-03-17 12:41:30.503531 starting: reading list-style file: freyberg6_template\\freyberg6.sfr_perioddata_1.txt\n",
      "2022-03-17 12:41:30.506524 finished: reading list-style file: freyberg6_template\\freyberg6.sfr_perioddata_1.txt took: 0:00:00.002993\n",
      "2022-03-17 12:41:30.506524 loaded list-style 'freyberg6_template\\freyberg6.sfr_perioddata_1.txt' of shape (1, 3)\n",
      "2022-03-17 12:41:30.507552 finished: loading list-style freyberg6_template\\freyberg6.sfr_perioddata_1.txt took: 0:00:00.004021\n",
      "2022-03-17 12:41:30.507552 starting: writing list-style template file 'freyberg6_template\\sfr_gr_inst0_grid.csv.tpl'\n",
      "2022-03-17 12:41:30.511556 WARNING: get_xy() warning: need locational information (e.g. i,j) to generate xy, insufficient index cols passed to interpret: (0,)\n",
      "2022-03-17 12:41:30.523512 finished: writing list-style template file 'freyberg6_template\\sfr_gr_inst0_grid.csv.tpl' took: 0:00:00.015960\n",
      "2022-03-17 12:41:30.532486 finished: adding grid type m style parameters for file(s) ['freyberg6.sfr_perioddata_1.txt'] took: 0:00:00.028955\n",
      "2022-03-17 12:41:30.532486 starting: adding grid type m style parameters for file(s) ['freyberg6.sfr_perioddata_10.txt']\n",
      "2022-03-17 12:41:30.532486 starting: loading list-style freyberg6_template\\freyberg6.sfr_perioddata_10.txt\n",
      "2022-03-17 12:41:30.532486 starting: reading list-style file: freyberg6_template\\freyberg6.sfr_perioddata_10.txt\n",
      "2022-03-17 12:41:30.534482 finished: reading list-style file: freyberg6_template\\freyberg6.sfr_perioddata_10.txt took: 0:00:00.001996\n",
      "2022-03-17 12:41:30.534482 loaded list-style 'freyberg6_template\\freyberg6.sfr_perioddata_10.txt' of shape (1, 3)\n",
      "2022-03-17 12:41:30.535479 finished: loading list-style freyberg6_template\\freyberg6.sfr_perioddata_10.txt took: 0:00:00.002993\n",
      "2022-03-17 12:41:30.535479 starting: writing list-style template file 'freyberg6_template\\sfr_gr_inst1_grid.csv.tpl'\n",
      "2022-03-17 12:41:30.540466 WARNING: get_xy() warning: need locational information (e.g. i,j) to generate xy, insufficient index cols passed to interpret: (0,)\n"
     ]
    },
    {
     "name": "stdout",
     "output_type": "stream",
     "text": [
      "2022-03-17 12:41:30.553432 finished: writing list-style template file 'freyberg6_template\\sfr_gr_inst1_grid.csv.tpl' took: 0:00:00.017953\n",
      "2022-03-17 12:41:30.561412 finished: adding grid type m style parameters for file(s) ['freyberg6.sfr_perioddata_10.txt'] took: 0:00:00.028926\n",
      "2022-03-17 12:41:30.562406 starting: adding grid type m style parameters for file(s) ['freyberg6.sfr_perioddata_11.txt']\n",
      "2022-03-17 12:41:30.562406 starting: loading list-style freyberg6_template\\freyberg6.sfr_perioddata_11.txt\n",
      "2022-03-17 12:41:30.562406 starting: reading list-style file: freyberg6_template\\freyberg6.sfr_perioddata_11.txt\n",
      "2022-03-17 12:41:30.564401 finished: reading list-style file: freyberg6_template\\freyberg6.sfr_perioddata_11.txt took: 0:00:00.001995\n",
      "2022-03-17 12:41:30.564401 loaded list-style 'freyberg6_template\\freyberg6.sfr_perioddata_11.txt' of shape (1, 3)\n",
      "2022-03-17 12:41:30.565366 finished: loading list-style freyberg6_template\\freyberg6.sfr_perioddata_11.txt took: 0:00:00.002960\n",
      "2022-03-17 12:41:30.565366 starting: writing list-style template file 'freyberg6_template\\sfr_gr_inst2_grid.csv.tpl'\n",
      "2022-03-17 12:41:30.569355 WARNING: get_xy() warning: need locational information (e.g. i,j) to generate xy, insufficient index cols passed to interpret: (0,)\n",
      "2022-03-17 12:41:30.582320 finished: writing list-style template file 'freyberg6_template\\sfr_gr_inst2_grid.csv.tpl' took: 0:00:00.016954\n"
     ]
    },
    {
     "name": "stdout",
     "output_type": "stream",
     "text": [
      "2022-03-17 12:41:30.591329 finished: adding grid type m style parameters for file(s) ['freyberg6.sfr_perioddata_11.txt'] took: 0:00:00.028923\n",
      "2022-03-17 12:41:30.591329 starting: adding grid type m style parameters for file(s) ['freyberg6.sfr_perioddata_12.txt']\n",
      "2022-03-17 12:41:30.591329 starting: loading list-style freyberg6_template\\freyberg6.sfr_perioddata_12.txt\n",
      "2022-03-17 12:41:30.591329 starting: reading list-style file: freyberg6_template\\freyberg6.sfr_perioddata_12.txt\n",
      "2022-03-17 12:41:30.593292 finished: reading list-style file: freyberg6_template\\freyberg6.sfr_perioddata_12.txt took: 0:00:00.001963\n",
      "2022-03-17 12:41:30.593292 loaded list-style 'freyberg6_template\\freyberg6.sfr_perioddata_12.txt' of shape (1, 3)\n",
      "2022-03-17 12:41:30.594290 finished: loading list-style freyberg6_template\\freyberg6.sfr_perioddata_12.txt took: 0:00:00.002961\n",
      "2022-03-17 12:41:30.594290 starting: writing list-style template file 'freyberg6_template\\sfr_gr_inst3_grid.csv.tpl'\n",
      "2022-03-17 12:41:30.598310 WARNING: get_xy() warning: need locational information (e.g. i,j) to generate xy, insufficient index cols passed to interpret: (0,)\n",
      "2022-03-17 12:41:30.611244 finished: writing list-style template file 'freyberg6_template\\sfr_gr_inst3_grid.csv.tpl' took: 0:00:00.016954\n"
     ]
    },
    {
     "name": "stdout",
     "output_type": "stream",
     "text": [
      "2022-03-17 12:41:30.620219 finished: adding grid type m style parameters for file(s) ['freyberg6.sfr_perioddata_12.txt'] took: 0:00:00.028890\n",
      "2022-03-17 12:41:30.620219 starting: adding grid type m style parameters for file(s) ['freyberg6.sfr_perioddata_13.txt']\n",
      "2022-03-17 12:41:30.620219 starting: loading list-style freyberg6_template\\freyberg6.sfr_perioddata_13.txt\n",
      "2022-03-17 12:41:30.620219 starting: reading list-style file: freyberg6_template\\freyberg6.sfr_perioddata_13.txt\n",
      "2022-03-17 12:41:30.623212 finished: reading list-style file: freyberg6_template\\freyberg6.sfr_perioddata_13.txt took: 0:00:00.002993\n",
      "2022-03-17 12:41:30.623212 loaded list-style 'freyberg6_template\\freyberg6.sfr_perioddata_13.txt' of shape (1, 3)\n",
      "2022-03-17 12:41:30.624209 finished: loading list-style freyberg6_template\\freyberg6.sfr_perioddata_13.txt took: 0:00:00.003990\n",
      "2022-03-17 12:41:30.624209 starting: writing list-style template file 'freyberg6_template\\sfr_gr_inst4_grid.csv.tpl'\n",
      "2022-03-17 12:41:30.628224 WARNING: get_xy() warning: need locational information (e.g. i,j) to generate xy, insufficient index cols passed to interpret: (0,)\n",
      "2022-03-17 12:41:30.642160 finished: writing list-style template file 'freyberg6_template\\sfr_gr_inst4_grid.csv.tpl' took: 0:00:00.017951\n"
     ]
    },
    {
     "name": "stdout",
     "output_type": "stream",
     "text": [
      "2022-03-17 12:41:30.650174 finished: adding grid type m style parameters for file(s) ['freyberg6.sfr_perioddata_13.txt'] took: 0:00:00.029955\n",
      "2022-03-17 12:41:30.651169 starting: adding grid type m style parameters for file(s) ['freyberg6.sfr_perioddata_14.txt']\n",
      "2022-03-17 12:41:30.651169 starting: loading list-style freyberg6_template\\freyberg6.sfr_perioddata_14.txt\n",
      "2022-03-17 12:41:30.651169 starting: reading list-style file: freyberg6_template\\freyberg6.sfr_perioddata_14.txt\n",
      "2022-03-17 12:41:30.654162 finished: reading list-style file: freyberg6_template\\freyberg6.sfr_perioddata_14.txt took: 0:00:00.002993\n",
      "2022-03-17 12:41:30.654162 loaded list-style 'freyberg6_template\\freyberg6.sfr_perioddata_14.txt' of shape (1, 3)\n",
      "2022-03-17 12:41:30.656123 finished: loading list-style freyberg6_template\\freyberg6.sfr_perioddata_14.txt took: 0:00:00.004954\n",
      "2022-03-17 12:41:30.656123 starting: writing list-style template file 'freyberg6_template\\sfr_gr_inst5_grid.csv.tpl'\n",
      "2022-03-17 12:41:30.660146 WARNING: get_xy() warning: need locational information (e.g. i,j) to generate xy, insufficient index cols passed to interpret: (0,)\n",
      "2022-03-17 12:41:30.673079 finished: writing list-style template file 'freyberg6_template\\sfr_gr_inst5_grid.csv.tpl' took: 0:00:00.016956\n",
      "2022-03-17 12:41:30.682054 finished: adding grid type m style parameters for file(s) ['freyberg6.sfr_perioddata_14.txt'] took: 0:00:00.030885\n",
      "2022-03-17 12:41:30.683080 starting: adding grid type m style parameters for file(s) ['freyberg6.sfr_perioddata_15.txt']\n",
      "2022-03-17 12:41:30.683080 starting: loading list-style freyberg6_template\\freyberg6.sfr_perioddata_15.txt\n",
      "2022-03-17 12:41:30.683080 starting: reading list-style file: freyberg6_template\\freyberg6.sfr_perioddata_15.txt\n",
      "2022-03-17 12:41:30.688038 finished: reading list-style file: freyberg6_template\\freyberg6.sfr_perioddata_15.txt took: 0:00:00.004958\n",
      "2022-03-17 12:41:30.688038 loaded list-style 'freyberg6_template\\freyberg6.sfr_perioddata_15.txt' of shape (1, 3)\n",
      "2022-03-17 12:41:30.690032 finished: loading list-style freyberg6_template\\freyberg6.sfr_perioddata_15.txt took: 0:00:00.006952\n",
      "2022-03-17 12:41:30.690032 starting: writing list-style template file 'freyberg6_template\\sfr_gr_inst6_grid.csv.tpl'\n",
      "2022-03-17 12:41:30.693621 WARNING: get_xy() warning: need locational information (e.g. i,j) to generate xy, insufficient index cols passed to interpret: (0,)\n"
     ]
    },
    {
     "name": "stdout",
     "output_type": "stream",
     "text": [
      "2022-03-17 12:41:30.707549 finished: writing list-style template file 'freyberg6_template\\sfr_gr_inst6_grid.csv.tpl' took: 0:00:00.017517\n",
      "2022-03-17 12:41:30.716526 finished: adding grid type m style parameters for file(s) ['freyberg6.sfr_perioddata_15.txt'] took: 0:00:00.033446\n",
      "2022-03-17 12:41:30.716526 starting: adding grid type m style parameters for file(s) ['freyberg6.sfr_perioddata_16.txt']\n",
      "2022-03-17 12:41:30.716526 starting: loading list-style freyberg6_template\\freyberg6.sfr_perioddata_16.txt\n",
      "2022-03-17 12:41:30.717557 starting: reading list-style file: freyberg6_template\\freyberg6.sfr_perioddata_16.txt\n",
      "2022-03-17 12:41:30.719518 finished: reading list-style file: freyberg6_template\\freyberg6.sfr_perioddata_16.txt took: 0:00:00.001961\n",
      "2022-03-17 12:41:30.719518 loaded list-style 'freyberg6_template\\freyberg6.sfr_perioddata_16.txt' of shape (1, 3)\n",
      "2022-03-17 12:41:30.720515 finished: loading list-style freyberg6_template\\freyberg6.sfr_perioddata_16.txt took: 0:00:00.003989\n",
      "2022-03-17 12:41:30.720515 starting: writing list-style template file 'freyberg6_template\\sfr_gr_inst7_grid.csv.tpl'\n",
      "2022-03-17 12:41:30.725503 WARNING: get_xy() warning: need locational information (e.g. i,j) to generate xy, insufficient index cols passed to interpret: (0,)\n",
      "2022-03-17 12:41:30.737470 finished: writing list-style template file 'freyberg6_template\\sfr_gr_inst7_grid.csv.tpl' took: 0:00:00.016955\n"
     ]
    },
    {
     "name": "stdout",
     "output_type": "stream",
     "text": [
      "2022-03-17 12:41:30.747476 finished: adding grid type m style parameters for file(s) ['freyberg6.sfr_perioddata_16.txt'] took: 0:00:00.030950\n",
      "2022-03-17 12:41:30.747476 starting: adding grid type m style parameters for file(s) ['freyberg6.sfr_perioddata_17.txt']\n",
      "2022-03-17 12:41:30.748473 starting: loading list-style freyberg6_template\\freyberg6.sfr_perioddata_17.txt\n",
      "2022-03-17 12:41:30.748473 starting: reading list-style file: freyberg6_template\\freyberg6.sfr_perioddata_17.txt\n",
      "2022-03-17 12:41:30.750468 finished: reading list-style file: freyberg6_template\\freyberg6.sfr_perioddata_17.txt took: 0:00:00.001995\n",
      "2022-03-17 12:41:30.750468 loaded list-style 'freyberg6_template\\freyberg6.sfr_perioddata_17.txt' of shape (1, 3)\n",
      "2022-03-17 12:41:30.751432 finished: loading list-style freyberg6_template\\freyberg6.sfr_perioddata_17.txt took: 0:00:00.002959\n",
      "2022-03-17 12:41:30.751432 starting: writing list-style template file 'freyberg6_template\\sfr_gr_inst8_grid.csv.tpl'\n",
      "2022-03-17 12:41:30.756451 WARNING: get_xy() warning: need locational information (e.g. i,j) to generate xy, insufficient index cols passed to interpret: (0,)\n",
      "2022-03-17 12:41:30.768388 finished: writing list-style template file 'freyberg6_template\\sfr_gr_inst8_grid.csv.tpl' took: 0:00:00.016956\n"
     ]
    },
    {
     "name": "stdout",
     "output_type": "stream",
     "text": [
      "2022-03-17 12:41:30.778386 finished: adding grid type m style parameters for file(s) ['freyberg6.sfr_perioddata_17.txt'] took: 0:00:00.030910\n",
      "2022-03-17 12:41:30.778386 starting: adding grid type m style parameters for file(s) ['freyberg6.sfr_perioddata_18.txt']\n",
      "2022-03-17 12:41:30.778386 starting: loading list-style freyberg6_template\\freyberg6.sfr_perioddata_18.txt\n",
      "2022-03-17 12:41:30.779357 starting: reading list-style file: freyberg6_template\\freyberg6.sfr_perioddata_18.txt\n",
      "2022-03-17 12:41:30.781378 finished: reading list-style file: freyberg6_template\\freyberg6.sfr_perioddata_18.txt took: 0:00:00.002021\n",
      "2022-03-17 12:41:30.781378 loaded list-style 'freyberg6_template\\freyberg6.sfr_perioddata_18.txt' of shape (1, 3)\n",
      "2022-03-17 12:41:30.782375 finished: loading list-style freyberg6_template\\freyberg6.sfr_perioddata_18.txt took: 0:00:00.003989\n",
      "2022-03-17 12:41:30.782375 starting: writing list-style template file 'freyberg6_template\\sfr_gr_inst9_grid.csv.tpl'\n",
      "2022-03-17 12:41:30.787360 WARNING: get_xy() warning: need locational information (e.g. i,j) to generate xy, insufficient index cols passed to interpret: (0,)\n",
      "2022-03-17 12:41:30.800301 finished: writing list-style template file 'freyberg6_template\\sfr_gr_inst9_grid.csv.tpl' took: 0:00:00.017926\n",
      "2022-03-17 12:41:30.808280 finished: adding grid type m style parameters for file(s) ['freyberg6.sfr_perioddata_18.txt'] took: 0:00:00.029894\n",
      "2022-03-17 12:41:30.809323 starting: adding grid type m style parameters for file(s) ['freyberg6.sfr_perioddata_19.txt']\n",
      "2022-03-17 12:41:30.809323 starting: loading list-style freyberg6_template\\freyberg6.sfr_perioddata_19.txt\n"
     ]
    },
    {
     "name": "stdout",
     "output_type": "stream",
     "text": [
      "2022-03-17 12:41:30.809323 starting: reading list-style file: freyberg6_template\\freyberg6.sfr_perioddata_19.txt\n",
      "2022-03-17 12:41:30.814309 finished: reading list-style file: freyberg6_template\\freyberg6.sfr_perioddata_19.txt took: 0:00:00.004986\n",
      "2022-03-17 12:41:30.814309 loaded list-style 'freyberg6_template\\freyberg6.sfr_perioddata_19.txt' of shape (1, 3)\n",
      "2022-03-17 12:41:30.815262 finished: loading list-style freyberg6_template\\freyberg6.sfr_perioddata_19.txt took: 0:00:00.005939\n",
      "2022-03-17 12:41:30.815262 starting: writing list-style template file 'freyberg6_template\\sfr_gr_inst10_grid.csv.tpl'\n",
      "2022-03-17 12:41:30.819251 WARNING: get_xy() warning: need locational information (e.g. i,j) to generate xy, insufficient index cols passed to interpret: (0,)\n",
      "2022-03-17 12:41:30.832216 finished: writing list-style template file 'freyberg6_template\\sfr_gr_inst10_grid.csv.tpl' took: 0:00:00.016954\n"
     ]
    },
    {
     "name": "stdout",
     "output_type": "stream",
     "text": [
      "2022-03-17 12:41:30.841216 finished: adding grid type m style parameters for file(s) ['freyberg6.sfr_perioddata_19.txt'] took: 0:00:00.031893\n",
      "2022-03-17 12:41:30.842233 starting: adding grid type m style parameters for file(s) ['freyberg6.sfr_perioddata_2.txt']\n",
      "2022-03-17 12:41:30.842233 starting: loading list-style freyberg6_template\\freyberg6.sfr_perioddata_2.txt\n",
      "2022-03-17 12:41:30.842233 starting: reading list-style file: freyberg6_template\\freyberg6.sfr_perioddata_2.txt\n",
      "2022-03-17 12:41:30.847205 finished: reading list-style file: freyberg6_template\\freyberg6.sfr_perioddata_2.txt took: 0:00:00.004972\n",
      "2022-03-17 12:41:30.847205 loaded list-style 'freyberg6_template\\freyberg6.sfr_perioddata_2.txt' of shape (1, 3)\n",
      "2022-03-17 12:41:30.848173 finished: loading list-style freyberg6_template\\freyberg6.sfr_perioddata_2.txt took: 0:00:00.005940\n",
      "2022-03-17 12:41:30.848173 starting: writing list-style template file 'freyberg6_template\\sfr_gr_inst11_grid.csv.tpl'\n",
      "2022-03-17 12:41:30.852188 WARNING: get_xy() warning: need locational information (e.g. i,j) to generate xy, insufficient index cols passed to interpret: (0,)\n",
      "2022-03-17 12:41:30.865128 finished: writing list-style template file 'freyberg6_template\\sfr_gr_inst11_grid.csv.tpl' took: 0:00:00.016955\n",
      "2022-03-17 12:41:30.875145 finished: adding grid type m style parameters for file(s) ['freyberg6.sfr_perioddata_2.txt'] took: 0:00:00.032912\n",
      "2022-03-17 12:41:30.875145 starting: adding grid type m style parameters for file(s) ['freyberg6.sfr_perioddata_20.txt']\n",
      "2022-03-17 12:41:30.875145 starting: loading list-style freyberg6_template\\freyberg6.sfr_perioddata_20.txt\n",
      "2022-03-17 12:41:30.875145 starting: reading list-style file: freyberg6_template\\freyberg6.sfr_perioddata_20.txt\n",
      "2022-03-17 12:41:30.878093 finished: reading list-style file: freyberg6_template\\freyberg6.sfr_perioddata_20.txt took: 0:00:00.002948\n",
      "2022-03-17 12:41:30.878093 loaded list-style 'freyberg6_template\\freyberg6.sfr_perioddata_20.txt' of shape (1, 3)\n"
     ]
    },
    {
     "name": "stdout",
     "output_type": "stream",
     "text": [
      "2022-03-17 12:41:30.879092 finished: loading list-style freyberg6_template\\freyberg6.sfr_perioddata_20.txt took: 0:00:00.003947\n",
      "2022-03-17 12:41:30.879092 starting: writing list-style template file 'freyberg6_template\\sfr_gr_inst12_grid.csv.tpl'\n",
      "2022-03-17 12:41:30.883080 WARNING: get_xy() warning: need locational information (e.g. i,j) to generate xy, insufficient index cols passed to interpret: (0,)\n",
      "2022-03-17 12:41:30.896049 finished: writing list-style template file 'freyberg6_template\\sfr_gr_inst12_grid.csv.tpl' took: 0:00:00.016957\n"
     ]
    },
    {
     "name": "stdout",
     "output_type": "stream",
     "text": [
      "2022-03-17 12:41:30.905077 finished: adding grid type m style parameters for file(s) ['freyberg6.sfr_perioddata_20.txt'] took: 0:00:00.029932\n",
      "2022-03-17 12:41:30.905077 starting: adding grid type m style parameters for file(s) ['freyberg6.sfr_perioddata_21.txt']\n",
      "2022-03-17 12:41:30.906075 starting: loading list-style freyberg6_template\\freyberg6.sfr_perioddata_21.txt\n",
      "2022-03-17 12:41:30.906075 starting: reading list-style file: freyberg6_template\\freyberg6.sfr_perioddata_21.txt\n",
      "2022-03-17 12:41:30.908069 finished: reading list-style file: freyberg6_template\\freyberg6.sfr_perioddata_21.txt took: 0:00:00.001994\n",
      "2022-03-17 12:41:30.908069 loaded list-style 'freyberg6_template\\freyberg6.sfr_perioddata_21.txt' of shape (1, 3)\n",
      "2022-03-17 12:41:30.909015 finished: loading list-style freyberg6_template\\freyberg6.sfr_perioddata_21.txt took: 0:00:00.002940\n",
      "2022-03-17 12:41:30.909015 starting: writing list-style template file 'freyberg6_template\\sfr_gr_inst13_grid.csv.tpl'\n",
      "2022-03-17 12:41:30.914002 WARNING: get_xy() warning: need locational information (e.g. i,j) to generate xy, insufficient index cols passed to interpret: (0,)\n",
      "2022-03-17 12:41:30.925970 finished: writing list-style template file 'freyberg6_template\\sfr_gr_inst13_grid.csv.tpl' took: 0:00:00.016955\n"
     ]
    },
    {
     "name": "stdout",
     "output_type": "stream",
     "text": [
      "2022-03-17 12:41:30.934980 finished: adding grid type m style parameters for file(s) ['freyberg6.sfr_perioddata_21.txt'] took: 0:00:00.029903\n",
      "2022-03-17 12:41:30.934980 starting: adding grid type m style parameters for file(s) ['freyberg6.sfr_perioddata_22.txt']\n",
      "2022-03-17 12:41:30.935942 starting: loading list-style freyberg6_template\\freyberg6.sfr_perioddata_22.txt\n",
      "2022-03-17 12:41:30.935942 starting: reading list-style file: freyberg6_template\\freyberg6.sfr_perioddata_22.txt\n",
      "2022-03-17 12:41:30.937975 finished: reading list-style file: freyberg6_template\\freyberg6.sfr_perioddata_22.txt took: 0:00:00.002033\n",
      "2022-03-17 12:41:30.937975 loaded list-style 'freyberg6_template\\freyberg6.sfr_perioddata_22.txt' of shape (1, 3)\n",
      "2022-03-17 12:41:30.939941 finished: loading list-style freyberg6_template\\freyberg6.sfr_perioddata_22.txt took: 0:00:00.003999\n",
      "2022-03-17 12:41:30.939941 starting: writing list-style template file 'freyberg6_template\\sfr_gr_inst14_grid.csv.tpl'\n",
      "2022-03-17 12:41:30.944920 WARNING: get_xy() warning: need locational information (e.g. i,j) to generate xy, insufficient index cols passed to interpret: (0,)\n",
      "2022-03-17 12:41:30.958916 finished: writing list-style template file 'freyberg6_template\\sfr_gr_inst14_grid.csv.tpl' took: 0:00:00.018975\n"
     ]
    },
    {
     "name": "stdout",
     "output_type": "stream",
     "text": [
      "2022-03-17 12:41:30.968855 finished: adding grid type m style parameters for file(s) ['freyberg6.sfr_perioddata_22.txt'] took: 0:00:00.033875\n",
      "2022-03-17 12:41:30.969854 starting: adding grid type m style parameters for file(s) ['freyberg6.sfr_perioddata_23.txt']\n",
      "2022-03-17 12:41:30.969854 starting: loading list-style freyberg6_template\\freyberg6.sfr_perioddata_23.txt\n",
      "2022-03-17 12:41:30.969854 starting: reading list-style file: freyberg6_template\\freyberg6.sfr_perioddata_23.txt\n",
      "2022-03-17 12:41:30.972846 finished: reading list-style file: freyberg6_template\\freyberg6.sfr_perioddata_23.txt took: 0:00:00.002992\n",
      "2022-03-17 12:41:30.972846 loaded list-style 'freyberg6_template\\freyberg6.sfr_perioddata_23.txt' of shape (1, 3)\n",
      "2022-03-17 12:41:30.973842 finished: loading list-style freyberg6_template\\freyberg6.sfr_perioddata_23.txt took: 0:00:00.003988\n",
      "2022-03-17 12:41:30.974840 starting: writing list-style template file 'freyberg6_template\\sfr_gr_inst15_grid.csv.tpl'\n",
      "2022-03-17 12:41:30.978829 WARNING: get_xy() warning: need locational information (e.g. i,j) to generate xy, insufficient index cols passed to interpret: (0,)\n"
     ]
    },
    {
     "name": "stdout",
     "output_type": "stream",
     "text": [
      "2022-03-17 12:41:30.992791 finished: writing list-style template file 'freyberg6_template\\sfr_gr_inst15_grid.csv.tpl' took: 0:00:00.017951\n",
      "2022-03-17 12:41:31.000821 finished: adding grid type m style parameters for file(s) ['freyberg6.sfr_perioddata_23.txt'] took: 0:00:00.030967\n",
      "2022-03-17 12:41:31.001766 starting: adding grid type m style parameters for file(s) ['freyberg6.sfr_perioddata_24.txt']\n",
      "2022-03-17 12:41:31.001766 starting: loading list-style freyberg6_template\\freyberg6.sfr_perioddata_24.txt\n",
      "2022-03-17 12:41:31.001766 starting: reading list-style file: freyberg6_template\\freyberg6.sfr_perioddata_24.txt\n",
      "2022-03-17 12:41:31.003812 finished: reading list-style file: freyberg6_template\\freyberg6.sfr_perioddata_24.txt took: 0:00:00.002046\n",
      "2022-03-17 12:41:31.003812 loaded list-style 'freyberg6_template\\freyberg6.sfr_perioddata_24.txt' of shape (1, 3)\n",
      "2022-03-17 12:41:31.005784 finished: loading list-style freyberg6_template\\freyberg6.sfr_perioddata_24.txt took: 0:00:00.004018\n",
      "2022-03-17 12:41:31.005784 starting: writing list-style template file 'freyberg6_template\\sfr_gr_inst16_grid.csv.tpl'\n",
      "2022-03-17 12:41:31.009796 WARNING: get_xy() warning: need locational information (e.g. i,j) to generate xy, insufficient index cols passed to interpret: (0,)\n",
      "2022-03-17 12:41:31.021714 finished: writing list-style template file 'freyberg6_template\\sfr_gr_inst16_grid.csv.tpl' took: 0:00:00.015930\n"
     ]
    },
    {
     "name": "stdout",
     "output_type": "stream",
     "text": [
      "2022-03-17 12:41:31.031688 finished: adding grid type m style parameters for file(s) ['freyberg6.sfr_perioddata_24.txt'] took: 0:00:00.029922\n",
      "2022-03-17 12:41:31.031688 starting: adding grid type m style parameters for file(s) ['freyberg6.sfr_perioddata_25.txt']\n",
      "2022-03-17 12:41:31.031688 starting: loading list-style freyberg6_template\\freyberg6.sfr_perioddata_25.txt\n",
      "2022-03-17 12:41:31.031688 starting: reading list-style file: freyberg6_template\\freyberg6.sfr_perioddata_25.txt\n",
      "2022-03-17 12:41:31.033734 finished: reading list-style file: freyberg6_template\\freyberg6.sfr_perioddata_25.txt took: 0:00:00.002046\n",
      "2022-03-17 12:41:31.033734 loaded list-style 'freyberg6_template\\freyberg6.sfr_perioddata_25.txt' of shape (1, 3)\n",
      "2022-03-17 12:41:31.034711 finished: loading list-style freyberg6_template\\freyberg6.sfr_perioddata_25.txt took: 0:00:00.003023\n",
      "2022-03-17 12:41:31.034711 starting: writing list-style template file 'freyberg6_template\\sfr_gr_inst17_grid.csv.tpl'\n",
      "2022-03-17 12:41:31.039666 WARNING: get_xy() warning: need locational information (e.g. i,j) to generate xy, insufficient index cols passed to interpret: (0,)\n",
      "2022-03-17 12:41:31.052632 finished: writing list-style template file 'freyberg6_template\\sfr_gr_inst17_grid.csv.tpl' took: 0:00:00.017921\n",
      "2022-03-17 12:41:31.061606 finished: adding grid type m style parameters for file(s) ['freyberg6.sfr_perioddata_25.txt'] took: 0:00:00.029918\n",
      "2022-03-17 12:41:31.061606 starting: adding grid type m style parameters for file(s) ['freyberg6.sfr_perioddata_3.txt']\n",
      "2022-03-17 12:41:31.062638 starting: loading list-style freyberg6_template\\freyberg6.sfr_perioddata_3.txt\n",
      "2022-03-17 12:41:31.062638 starting: reading list-style file: freyberg6_template\\freyberg6.sfr_perioddata_3.txt\n",
      "2022-03-17 12:41:31.064599 finished: reading list-style file: freyberg6_template\\freyberg6.sfr_perioddata_3.txt took: 0:00:00.001961\n",
      "2022-03-17 12:41:31.064599 loaded list-style 'freyberg6_template\\freyberg6.sfr_perioddata_3.txt' of shape (1, 3)\n",
      "2022-03-17 12:41:31.065630 finished: loading list-style freyberg6_template\\freyberg6.sfr_perioddata_3.txt took: 0:00:00.002992\n"
     ]
    },
    {
     "name": "stdout",
     "output_type": "stream",
     "text": [
      "2022-03-17 12:41:31.066593 starting: writing list-style template file 'freyberg6_template\\sfr_gr_inst18_grid.csv.tpl'\n",
      "2022-03-17 12:41:31.070584 WARNING: get_xy() warning: need locational information (e.g. i,j) to generate xy, insufficient index cols passed to interpret: (0,)\n",
      "2022-03-17 12:41:31.083550 finished: writing list-style template file 'freyberg6_template\\sfr_gr_inst18_grid.csv.tpl' took: 0:00:00.016957\n"
     ]
    },
    {
     "name": "stdout",
     "output_type": "stream",
     "text": [
      "2022-03-17 12:41:31.094033 finished: adding grid type m style parameters for file(s) ['freyberg6.sfr_perioddata_3.txt'] took: 0:00:00.032427\n",
      "2022-03-17 12:41:31.094033 starting: adding grid type m style parameters for file(s) ['freyberg6.sfr_perioddata_4.txt']\n",
      "2022-03-17 12:41:31.095029 starting: loading list-style freyberg6_template\\freyberg6.sfr_perioddata_4.txt\n",
      "2022-03-17 12:41:31.095029 starting: reading list-style file: freyberg6_template\\freyberg6.sfr_perioddata_4.txt\n",
      "2022-03-17 12:41:31.097080 finished: reading list-style file: freyberg6_template\\freyberg6.sfr_perioddata_4.txt took: 0:00:00.002051\n",
      "2022-03-17 12:41:31.097080 loaded list-style 'freyberg6_template\\freyberg6.sfr_perioddata_4.txt' of shape (1, 3)\n",
      "2022-03-17 12:41:31.098022 finished: loading list-style freyberg6_template\\freyberg6.sfr_perioddata_4.txt took: 0:00:00.002993\n",
      "2022-03-17 12:41:31.098022 starting: writing list-style template file 'freyberg6_template\\sfr_gr_inst19_grid.csv.tpl'\n",
      "2022-03-17 12:41:31.102073 WARNING: get_xy() warning: need locational information (e.g. i,j) to generate xy, insufficient index cols passed to interpret: (0,)\n",
      "2022-03-17 12:41:31.114977 finished: writing list-style template file 'freyberg6_template\\sfr_gr_inst19_grid.csv.tpl' took: 0:00:00.016955\n"
     ]
    },
    {
     "name": "stdout",
     "output_type": "stream",
     "text": [
      "2022-03-17 12:41:31.125000 finished: adding grid type m style parameters for file(s) ['freyberg6.sfr_perioddata_4.txt'] took: 0:00:00.030967\n",
      "2022-03-17 12:41:31.125000 starting: adding grid type m style parameters for file(s) ['freyberg6.sfr_perioddata_5.txt']\n",
      "2022-03-17 12:41:31.125000 starting: loading list-style freyberg6_template\\freyberg6.sfr_perioddata_5.txt\n",
      "2022-03-17 12:41:31.125000 starting: reading list-style file: freyberg6_template\\freyberg6.sfr_perioddata_5.txt\n",
      "2022-03-17 12:41:31.126994 finished: reading list-style file: freyberg6_template\\freyberg6.sfr_perioddata_5.txt took: 0:00:00.001994\n",
      "2022-03-17 12:41:31.126994 loaded list-style 'freyberg6_template\\freyberg6.sfr_perioddata_5.txt' of shape (1, 3)\n",
      "2022-03-17 12:41:31.127962 finished: loading list-style freyberg6_template\\freyberg6.sfr_perioddata_5.txt took: 0:00:00.002962\n",
      "2022-03-17 12:41:31.128987 starting: writing list-style template file 'freyberg6_template\\sfr_gr_inst20_grid.csv.tpl'\n",
      "2022-03-17 12:41:31.132978 WARNING: get_xy() warning: need locational information (e.g. i,j) to generate xy, insufficient index cols passed to interpret: (0,)\n",
      "2022-03-17 12:41:31.144896 finished: writing list-style template file 'freyberg6_template\\sfr_gr_inst20_grid.csv.tpl' took: 0:00:00.015909\n"
     ]
    },
    {
     "name": "stdout",
     "output_type": "stream",
     "text": [
      "2022-03-17 12:41:31.153924 finished: adding grid type m style parameters for file(s) ['freyberg6.sfr_perioddata_5.txt'] took: 0:00:00.028924\n",
      "2022-03-17 12:41:31.154921 starting: adding grid type m style parameters for file(s) ['freyberg6.sfr_perioddata_6.txt']\n",
      "2022-03-17 12:41:31.154921 starting: loading list-style freyberg6_template\\freyberg6.sfr_perioddata_6.txt\n",
      "2022-03-17 12:41:31.155866 starting: reading list-style file: freyberg6_template\\freyberg6.sfr_perioddata_6.txt\n",
      "2022-03-17 12:41:31.157918 finished: reading list-style file: freyberg6_template\\freyberg6.sfr_perioddata_6.txt took: 0:00:00.002052\n",
      "2022-03-17 12:41:31.157918 loaded list-style 'freyberg6_template\\freyberg6.sfr_perioddata_6.txt' of shape (1, 3)\n",
      "2022-03-17 12:41:31.158859 finished: loading list-style freyberg6_template\\freyberg6.sfr_perioddata_6.txt took: 0:00:00.003938\n",
      "2022-03-17 12:41:31.158859 starting: writing list-style template file 'freyberg6_template\\sfr_gr_inst21_grid.csv.tpl'\n",
      "2022-03-17 12:41:31.162905 WARNING: get_xy() warning: need locational information (e.g. i,j) to generate xy, insufficient index cols passed to interpret: (0,)\n",
      "2022-03-17 12:41:31.174844 finished: writing list-style template file 'freyberg6_template\\sfr_gr_inst21_grid.csv.tpl' took: 0:00:00.015985\n"
     ]
    },
    {
     "name": "stdout",
     "output_type": "stream",
     "text": [
      "2022-03-17 12:41:31.183823 finished: adding grid type m style parameters for file(s) ['freyberg6.sfr_perioddata_6.txt'] took: 0:00:00.028902\n",
      "2022-03-17 12:41:31.184823 starting: adding grid type m style parameters for file(s) ['freyberg6.sfr_perioddata_7.txt']\n",
      "2022-03-17 12:41:31.184823 starting: loading list-style freyberg6_template\\freyberg6.sfr_perioddata_7.txt\n",
      "2022-03-17 12:41:31.184823 starting: reading list-style file: freyberg6_template\\freyberg6.sfr_perioddata_7.txt\n",
      "2022-03-17 12:41:31.186815 finished: reading list-style file: freyberg6_template\\freyberg6.sfr_perioddata_7.txt took: 0:00:00.001992\n",
      "2022-03-17 12:41:31.186815 loaded list-style 'freyberg6_template\\freyberg6.sfr_perioddata_7.txt' of shape (1, 3)\n",
      "2022-03-17 12:41:31.187813 finished: loading list-style freyberg6_template\\freyberg6.sfr_perioddata_7.txt took: 0:00:00.002990\n",
      "2022-03-17 12:41:31.187813 starting: writing list-style template file 'freyberg6_template\\sfr_gr_inst22_grid.csv.tpl'\n",
      "2022-03-17 12:41:31.192819 WARNING: get_xy() warning: need locational information (e.g. i,j) to generate xy, insufficient index cols passed to interpret: (0,)\n",
      "2022-03-17 12:41:31.204792 finished: writing list-style template file 'freyberg6_template\\sfr_gr_inst22_grid.csv.tpl' took: 0:00:00.016979\n",
      "2022-03-17 12:41:31.212824 finished: adding grid type m style parameters for file(s) ['freyberg6.sfr_perioddata_7.txt'] took: 0:00:00.028001\n",
      "2022-03-17 12:41:31.212824 starting: adding grid type m style parameters for file(s) ['freyberg6.sfr_perioddata_8.txt']\n",
      "2022-03-17 12:41:31.213822 starting: loading list-style freyberg6_template\\freyberg6.sfr_perioddata_8.txt\n"
     ]
    },
    {
     "name": "stdout",
     "output_type": "stream",
     "text": [
      "2022-03-17 12:41:31.213822 starting: reading list-style file: freyberg6_template\\freyberg6.sfr_perioddata_8.txt\n",
      "2022-03-17 12:41:31.215763 finished: reading list-style file: freyberg6_template\\freyberg6.sfr_perioddata_8.txt took: 0:00:00.001941\n",
      "2022-03-17 12:41:31.215763 loaded list-style 'freyberg6_template\\freyberg6.sfr_perioddata_8.txt' of shape (1, 3)\n",
      "2022-03-17 12:41:31.216793 finished: loading list-style freyberg6_template\\freyberg6.sfr_perioddata_8.txt took: 0:00:00.002971\n",
      "2022-03-17 12:41:31.216793 starting: writing list-style template file 'freyberg6_template\\sfr_gr_inst23_grid.csv.tpl'\n",
      "2022-03-17 12:41:31.221798 WARNING: get_xy() warning: need locational information (e.g. i,j) to generate xy, insufficient index cols passed to interpret: (0,)\n",
      "2022-03-17 12:41:31.234713 finished: writing list-style template file 'freyberg6_template\\sfr_gr_inst23_grid.csv.tpl' took: 0:00:00.017920\n",
      "2022-03-17 12:41:31.244684 finished: adding grid type m style parameters for file(s) ['freyberg6.sfr_perioddata_8.txt'] took: 0:00:00.031860\n",
      "2022-03-17 12:41:31.244684 starting: adding grid type m style parameters for file(s) ['freyberg6.sfr_perioddata_9.txt']\n",
      "2022-03-17 12:41:31.244684 starting: loading list-style freyberg6_template\\freyberg6.sfr_perioddata_9.txt\n",
      "2022-03-17 12:41:31.245693 starting: reading list-style file: freyberg6_template\\freyberg6.sfr_perioddata_9.txt\n",
      "2022-03-17 12:41:31.247678 finished: reading list-style file: freyberg6_template\\freyberg6.sfr_perioddata_9.txt took: 0:00:00.001985\n",
      "2022-03-17 12:41:31.248675 loaded list-style 'freyberg6_template\\freyberg6.sfr_perioddata_9.txt' of shape (1, 3)\n",
      "2022-03-17 12:41:31.249672 finished: loading list-style freyberg6_template\\freyberg6.sfr_perioddata_9.txt took: 0:00:00.004988\n",
      "2022-03-17 12:41:31.249672 starting: writing list-style template file 'freyberg6_template\\sfr_gr_inst24_grid.csv.tpl'\n",
      "2022-03-17 12:41:31.253662 WARNING: get_xy() warning: need locational information (e.g. i,j) to generate xy, insufficient index cols passed to interpret: (0,)\n"
     ]
    },
    {
     "name": "stdout",
     "output_type": "stream",
     "text": [
      "2022-03-17 12:41:31.267623 finished: writing list-style template file 'freyberg6_template\\sfr_gr_inst24_grid.csv.tpl' took: 0:00:00.017951\n",
      "2022-03-17 12:41:31.275652 finished: adding grid type m style parameters for file(s) ['freyberg6.sfr_perioddata_9.txt'] took: 0:00:00.030968\n"
     ]
    }
   ],
   "source": [
    "# SFR inflow\n",
    "files = [f for f in os.listdir(template_ws) if \"sfr_perioddata\" in f and f.endswith(\".txt\")]\n",
    "for f in files:\n",
    "    # get the stress period number from the file name\n",
    "    kper = int(f.split('.')[1].split('_')[-1]) - 1  \n",
    "    # add the parameters\n",
    "    pf.add_parameters(filenames=f,\n",
    "                        index_cols=[0], #reach number\n",
    "                        use_cols=[2],   #columns with parameter values\n",
    "                        par_type=\"grid\",    \n",
    "                        par_name_base=\"sfr_gr\",\n",
    "                        pargp=\"sfr_gr\", \n",
    "                        upper_bound = 1.5, lower_bound=0.5, #don't need ult_bounds because it is a single multiplier\n",
    "                        datetime=dts[kper], # this places the parameter value on the \"time axis\"\n",
    "                        geostruct=temporal_gs)"
   ]
  },
  {
   "cell_type": "markdown",
   "metadata": {},
   "source": [
    "### 6. The Forward Run Script\n",
    "\n",
    "OK! So, we almost have all the base building blocks for a PEST(++) dataset. We have some (1) observations and some (2) parameters. We are still missing (3) the \"forward run\" script. Recall that in the PEST world, the \"model\" is not just the numerical model (e.g. MODFLOW). Instead it is a composite of the numerical model (or models) and pre- and post-processing steps, encapsulated in a \"forward run\" script which can be called from the command line. This command line instruction is what PEST(++) sees as \"the model\". During execution, PEST(++) writes values to parameter files, runs \"the model\", and then reads values from the observation files.\n",
    "\n",
    "`PstFrom` automates the generation of such a script when constructing the PEST control file. The script is written to file named `forward_run.py`. It is written in Python (this is not a PEST(++) requirement, merely a convenience...we are working in Python after all...). \n",
    "\n",
    "How about we see that in action? Magic time! Let's create the PEST control file.\n",
    "\n",
    "#### 6.1. Build Pst\n",
    "\n",
    "The `PstFrom.build_pst()` method builds a control file from the `PstFrom` object. It will write a PEST control file to the template folder. It will also write the `forward_run.py` script. It returns a pyEMU `Pst` object with all the information of the PEST control file. You can subsequently edit this `Pst` object. However, (***IMPORTANT***) any subsequent changes to the `Pst` object are not reflected in the `PstFrom` object, or viceversa. If you subsequently use `PstFrom` to add more observation or parameter files, you will need to re-build the `Pst` object. When you do so, all edits to the `Pst` object will be lost. Keep this in mind when designing your workflow.\n",
    "\n",
    "\n",
    "Here we go!\n",
    "\n",
    "(Note: in a normal workflow, we probably wouldn't do this yet. We are doing so now for demonstration purposes.)"
   ]
  },
  {
   "cell_type": "code",
   "execution_count": 34,
   "metadata": {
    "execution": {
     "iopub.execute_input": "2022-03-17T02:11:31.289565Z",
     "iopub.status.busy": "2022-03-17T02:11:31.288568Z",
     "iopub.status.idle": "2022-03-17T02:11:33.248509Z",
     "shell.execute_reply": "2022-03-17T02:11:33.247545Z"
    }
   },
   "outputs": [
    {
     "name": "stdout",
     "output_type": "stream",
     "text": [
      "noptmax:0, npar_adj:25454, nnz_obs:725\n"
     ]
    }
   ],
   "source": [
    "pst = pf.build_pst()"
   ]
  },
  {
   "cell_type": "markdown",
   "metadata": {},
   "source": [
    "Boom! Done. (Well almost.) Check the folder. You should see a new .pst file and the `forward_run.py` file. By default, the .pst file is named after the original model folder name. "
   ]
  },
  {
   "cell_type": "code",
   "execution_count": 35,
   "metadata": {
    "execution": {
     "iopub.execute_input": "2022-03-17T02:11:33.251503Z",
     "iopub.status.busy": "2022-03-17T02:11:33.251503Z",
     "iopub.status.idle": "2022-03-17T02:11:33.257485Z",
     "shell.execute_reply": "2022-03-17T02:11:33.256542Z"
    }
   },
   "outputs": [
    {
     "data": {
      "text/plain": [
       "['forward_run.py', 'freyberg_mf6.pst']"
      ]
     },
     "execution_count": 35,
     "metadata": {},
     "output_type": "execute_result"
    }
   ],
   "source": [
    "[f for f in os.listdir(template_ws) if f.endswith(\".py\") or f.endswith(\".pst\") ]"
   ]
  },
  {
   "cell_type": "markdown",
   "metadata": {},
   "source": [
    "We will get to the `pst` object later on (see also the \"intro to pyemu\" tutorial notebook). For now, let's focus on the `forward_run.py` script. It is printed out below.\n",
    "\n",
    "This script does a bunch of things:\n",
    " - it loads necessary dependecies\n",
    " - it removes model output files to avoid the possibility of files from a previous model run being read by mistake;\n",
    " - it runs pre-processing steps (see `pyemu.helpers.apply_list_and_array_pars()`;\n",
    " - it executes system commands (usually running the simulator, i.e. MODFLOW). (*This is still missing. We will demonstrate next.*)\n",
    " - it executes post-processing steps; (*for now there aren't any*)\n",
    " - ...it washes the dishes (sorry, no it doesn't...this feature is still in development)."
   ]
  },
  {
   "cell_type": "code",
   "execution_count": 36,
   "metadata": {
    "execution": {
     "iopub.execute_input": "2022-03-17T02:11:33.260477Z",
     "iopub.status.busy": "2022-03-17T02:11:33.259513Z",
     "iopub.status.idle": "2022-03-17T02:11:33.268487Z",
     "shell.execute_reply": "2022-03-17T02:11:33.267458Z"
    }
   },
   "outputs": [
    {
     "name": "stdout",
     "output_type": "stream",
     "text": [
      "import os\n",
      "import multiprocessing as mp\n",
      "import numpy as np\n",
      "import pandas as pd\n",
      "import pyemu\n",
      "def main():\n",
      "\n",
      "    try:\n",
      "       os.remove(r'heads.csv')\n",
      "    except Exception as e:\n",
      "       print(r'error removing tmp file:heads.csv')\n",
      "    try:\n",
      "       os.remove(r'sfr.csv')\n",
      "    except Exception as e:\n",
      "       print(r'error removing tmp file:sfr.csv')\n",
      "    pyemu.helpers.apply_list_and_array_pars(arr_par_file='mult2model_info.csv',chunk_len=50)\n",
      "\n",
      "if __name__ == '__main__':\n",
      "    mp.freeze_support()\n",
      "    main()\n",
      "\n"
     ]
    }
   ],
   "source": [
    "_ = [print(line.rstrip()) for line in open(os.path.join(template_ws,\"forward_run.py\"))]"
   ]
  },
  {
   "cell_type": "markdown",
   "metadata": {},
   "source": [
    "That's pretty amazing. But as we just saw, we still need to add commands to actualy run the model.\n",
    "\n",
    "`PstFrom` allows you to pass a list of system commands which will be executed in sequence. It also has methods for including Python functions that run before or after the system commands. These make pre-/post-processing a piece of cake. In fact, we have already started to add to it. Remember all of the multiplier and additive parameters we setup? These all require pre-processing steps to convert the PEST-generated multipliers into model input values. `PstFrom` will automatically add these functions to the `forward_run.py` script. Nifty, hey?\n",
    "\n",
    "Next we will demonstrate how to specify the system commands and add Python functions as processing steps.\n",
    "\n",
    "#### 6.2. Sys Commands\n",
    "\n",
    "Let's start by adding a command line instruction. These are stored as a list in `PstFrom.mod_sys_cmds`, which is currently empty. "
   ]
  },
  {
   "cell_type": "code",
   "execution_count": 37,
   "metadata": {
    "execution": {
     "iopub.execute_input": "2022-03-17T02:11:33.271480Z",
     "iopub.status.busy": "2022-03-17T02:11:33.270482Z",
     "iopub.status.idle": "2022-03-17T02:11:33.278431Z",
     "shell.execute_reply": "2022-03-17T02:11:33.277474Z"
    }
   },
   "outputs": [
    {
     "data": {
      "text/plain": [
       "[]"
      ]
     },
     "execution_count": 37,
     "metadata": {},
     "output_type": "execute_result"
    }
   ],
   "source": [
    "pf.mod_sys_cmds "
   ]
  },
  {
   "cell_type": "markdown",
   "metadata": {},
   "source": [
    "To run a MODFLOW6 model from the command line, you can simply execute `mf6` in the model folder. So, we can add this command by appending it to the list. (Do this only once! Every time you append 'mf6' results in an additional call to MODFLOW6, meaning the model would be run multiple times.)\n",
    "\n",
    "`PstFrom` will add a line to `forward_run.py` w"
   ]
  },
  {
   "cell_type": "code",
   "execution_count": 38,
   "metadata": {
    "execution": {
     "iopub.execute_input": "2022-03-17T02:11:33.285447Z",
     "iopub.status.busy": "2022-03-17T02:11:33.285447Z",
     "iopub.status.idle": "2022-03-17T02:11:33.290437Z",
     "shell.execute_reply": "2022-03-17T02:11:33.289433Z"
    }
   },
   "outputs": [
    {
     "data": {
      "text/plain": [
       "['mf6']"
      ]
     },
     "execution_count": 38,
     "metadata": {},
     "output_type": "execute_result"
    }
   ],
   "source": [
    "pf.mod_sys_cmds.append(\"mf6\") #do this only once\n",
    "pf.mod_sys_cmds"
   ]
  },
  {
   "cell_type": "markdown",
   "metadata": {},
   "source": [
    "OK, now let's re-build the Pst control file and check out the changes ot the `forward_run.py` script.\n",
    "\n",
    "You should see that `pyemu.os_utils.run(r'mf6')` has been added after the pre-processing functions."
   ]
  },
  {
   "cell_type": "code",
   "execution_count": 39,
   "metadata": {
    "execution": {
     "iopub.execute_input": "2022-03-17T02:11:33.336274Z",
     "iopub.status.busy": "2022-03-17T02:11:33.324339Z",
     "iopub.status.idle": "2022-03-17T02:11:35.199811Z",
     "shell.execute_reply": "2022-03-17T02:11:35.198792Z"
    }
   },
   "outputs": [
    {
     "name": "stdout",
     "output_type": "stream",
     "text": [
      "noptmax:0, npar_adj:25454, nnz_obs:725\n"
     ]
    },
    {
     "name": "stdout",
     "output_type": "stream",
     "text": [
      "2022-03-17 12:41:34.920642 forward_run line:pyemu.os_utils.run(r'mf6')\n",
      "\n"
     ]
    },
    {
     "name": "stdout",
     "output_type": "stream",
     "text": [
      "import os\n",
      "import multiprocessing as mp\n",
      "import numpy as np\n",
      "import pandas as pd\n",
      "import pyemu\n",
      "def main():\n",
      "\n",
      "    try:\n",
      "       os.remove(r'heads.csv')\n",
      "    except Exception as e:\n",
      "       print(r'error removing tmp file:heads.csv')\n",
      "    try:\n",
      "       os.remove(r'sfr.csv')\n",
      "    except Exception as e:\n",
      "       print(r'error removing tmp file:sfr.csv')\n",
      "    pyemu.helpers.apply_list_and_array_pars(arr_par_file='mult2model_info.csv',chunk_len=50)\n",
      "    pyemu.os_utils.run(r'mf6')\n",
      "\n",
      "\n",
      "if __name__ == '__main__':\n",
      "    mp.freeze_support()\n",
      "    main()\n",
      "\n"
     ]
    }
   ],
   "source": [
    "pst = pf.build_pst()\n",
    "\n",
    "_ = [print(line.rstrip()) for line in open(os.path.join(template_ws,\"forward_run.py\"))]"
   ]
  },
  {
   "cell_type": "markdown",
   "metadata": {},
   "source": [
    "#### 6.3. Extra pre- and post-processing functions\n",
    "\n",
    "You will also certainly need to include some additional processing steps.  These are supported thru the `PstFrom.pre_py_cmds` and `PstFrom.post_py_cmds`, which are lists for pre and post model run python commands and `PstFrom.pre_sys_cmds` and `PstFrom.post_sys_cmds`, which are lists for pre and post model run system commands (these are wrapped in `pyemu.os_utils.run()`.  \n",
    "\n",
    "But what if your additional steps are actually an entire python function? Well, we got that too! `PstFrom.add_py_function()`. This method allows you to get functions from another (pre-prepared) python source file and add them to the `forward_run.py` script. We will deonstrate this to post-process secondary model observations after each run.\n",
    "\n",
    "#### 6.3.1. Secondary Observations\n",
    "\n",
    "Often it is usefull to include \"secondary model outcomes\" as observations. These can be important components in a history-matching dataset to tease out specific aspects of system behaviour (e.g. head differences between aquifer layers to inform vertical permeabilities). Or they may be simple summaries of modelled outputs which are of interest for a prediction (e.g. minimum simulated head over a given period).\n",
    "\n",
    "If you inspect the tutorial folder you will find a file named `helpers.py`. This is a python source file which we have prepared for you. (Open it to see how it is organized.) It contains a function named `process_secondary_obs()`. This function reads the model output .csv files, processes them and writes a series of new observation .csv files. These new files contain (1) the temporal-differences between head and SFR observations, and (2) the difference in heads between the top and bottom layers at each observation point. The new .csv files are named `heads.tdiff.csv`,`sfr.tdiff.csv` and `heads.vdiff.csv` respectively.\n",
    "\n",
    "First, lets load the function here and run it so you can see what happens. (And to make sure that the observation files are in the template folder!) \n",
    "\n",
    "Run the next cell, then inspect the template folder. You should see three new csv files. These are the new secondary observations calculated by the post-processing function."
   ]
  },
  {
   "cell_type": "code",
   "execution_count": 40,
   "metadata": {
    "execution": {
     "iopub.execute_input": "2022-03-17T02:11:35.202794Z",
     "iopub.status.busy": "2022-03-17T02:11:35.201772Z",
     "iopub.status.idle": "2022-03-17T02:11:35.219756Z",
     "shell.execute_reply": "2022-03-17T02:11:35.218762Z"
    }
   },
   "outputs": [
    {
     "name": "stdout",
     "output_type": "stream",
     "text": [
      "Secondary observation files processed.\n"
     ]
    }
   ],
   "source": [
    "from helpers import  process_secondary_obs\n",
    "\n",
    "process_secondary_obs(ws=template_ws)"
   ]
  },
  {
   "cell_type": "code",
   "execution_count": 41,
   "metadata": {
    "execution": {
     "iopub.execute_input": "2022-03-17T02:11:35.222715Z",
     "iopub.status.busy": "2022-03-17T02:11:35.222715Z",
     "iopub.status.idle": "2022-03-17T02:11:35.226743Z",
     "shell.execute_reply": "2022-03-17T02:11:35.226743Z"
    }
   },
   "outputs": [
    {
     "data": {
      "text/plain": [
       "['heads.csv',\n",
       " 'heads.tdiff.csv',\n",
       " 'heads.vdiff.csv',\n",
       " 'mult2model_info.csv',\n",
       " 'sfr.csv',\n",
       " 'sfr.tdiff.csv']"
      ]
     },
     "execution_count": 41,
     "metadata": {},
     "output_type": "execute_result"
    }
   ],
   "source": [
    "[f for f in os.listdir(template_ws) if f.endswith(\".csv\")]"
   ]
  },
  {
   "cell_type": "markdown",
   "metadata": {},
   "source": [
    "OK, so now let's add this function to the `forward_run.py` script."
   ]
  },
  {
   "cell_type": "code",
   "execution_count": 42,
   "metadata": {
    "execution": {
     "iopub.execute_input": "2022-03-17T02:11:35.229699Z",
     "iopub.status.busy": "2022-03-17T02:11:35.229699Z",
     "iopub.status.idle": "2022-03-17T02:11:35.233710Z",
     "shell.execute_reply": "2022-03-17T02:11:35.233710Z"
    }
   },
   "outputs": [],
   "source": [
    "pf.add_py_function(\"helpers.py\", # the file which contains the function\n",
    "                    \"process_secondary_obs(ws='.')\", #the function, making sure to specify any arguments it may requrie\n",
    "                    is_pre_cmd=False) # whether it runs before the model system command, or after. In this case, after."
   ]
  },
  {
   "cell_type": "markdown",
   "metadata": {},
   "source": [
    "And, boom! Bob's your uncle. As easy as that.\n",
    "\n",
    "Now, of course we want to add these observations to `PstFrom` as well:"
   ]
  },
  {
   "cell_type": "code",
   "execution_count": 43,
   "metadata": {
    "execution": {
     "iopub.execute_input": "2022-03-17T02:11:35.241689Z",
     "iopub.status.busy": "2022-03-17T02:11:35.241689Z",
     "iopub.status.idle": "2022-03-17T02:11:35.335426Z",
     "shell.execute_reply": "2022-03-17T02:11:35.334459Z"
    }
   },
   "outputs": [
    {
     "name": "stdout",
     "output_type": "stream",
     "text": [
      "2022-03-17 12:41:35.244700 starting: adding observations from output file sfr.tdiff.csv\n",
      "2022-03-17 12:41:35.244700 starting: adding observations from tabular output file '['sfr.tdiff.csv']'\n",
      "2022-03-17 12:41:35.245706 starting: reading list-style file: freyberg6_template\\sfr.tdiff.csv\n",
      "2022-03-17 12:41:35.246651 finished: reading list-style file: freyberg6_template\\sfr.tdiff.csv took: 0:00:00.000945\n",
      "2022-03-17 12:41:35.246651 starting: building insfile for tabular output file sfr.tdiff.csv\n",
      "2022-03-17 12:41:35.253685 finished: building insfile for tabular output file sfr.tdiff.csv took: 0:00:00.007034\n",
      "2022-03-17 12:41:35.253685 starting: adding observation from instruction file 'freyberg6_template\\sfr.tdiff.csv.ins'\n",
      "2022-03-17 12:41:35.261612 finished: adding observation from instruction file 'freyberg6_template\\sfr.tdiff.csv.ins' took: 0:00:00.007927\n",
      "2022-03-17 12:41:35.263643 finished: adding observations from tabular output file '['sfr.tdiff.csv']' took: 0:00:00.018943\n",
      "2022-03-17 12:41:35.270588 starting: adding observations from output file heads.tdiff.csv\n",
      "2022-03-17 12:41:35.270588 starting: adding observations from tabular output file '['heads.tdiff.csv']'\n",
      "2022-03-17 12:41:35.270588 starting: reading list-style file: freyberg6_template\\heads.tdiff.csv\n",
      "2022-03-17 12:41:35.272582 finished: reading list-style file: freyberg6_template\\heads.tdiff.csv took: 0:00:00.001994\n",
      "2022-03-17 12:41:35.273579 starting: building insfile for tabular output file heads.tdiff.csv\n",
      "2022-03-17 12:41:35.281609 finished: building insfile for tabular output file heads.tdiff.csv took: 0:00:00.008030\n",
      "2022-03-17 12:41:35.281609 starting: adding observation from instruction file 'freyberg6_template\\heads.tdiff.csv.ins'\n",
      "2022-03-17 12:41:35.299563 finished: adding observation from instruction file 'freyberg6_template\\heads.tdiff.csv.ins' took: 0:00:00.017954\n",
      "2022-03-17 12:41:35.301552 finished: adding observations from tabular output file '['heads.tdiff.csv']' took: 0:00:00.030964\n",
      "2022-03-17 12:41:35.304547 starting: adding observations from output file heads.vdiff.csv\n",
      "2022-03-17 12:41:35.304547 starting: adding observations from tabular output file '['heads.vdiff.csv']'\n",
      "2022-03-17 12:41:35.304547 starting: reading list-style file: freyberg6_template\\heads.vdiff.csv\n",
      "2022-03-17 12:41:35.306492 finished: reading list-style file: freyberg6_template\\heads.vdiff.csv took: 0:00:00.001945\n",
      "2022-03-17 12:41:35.306492 starting: building insfile for tabular output file heads.vdiff.csv\n",
      "2022-03-17 12:41:35.313473 finished: building insfile for tabular output file heads.vdiff.csv took: 0:00:00.006981\n",
      "2022-03-17 12:41:35.314504 starting: adding observation from instruction file 'freyberg6_template\\heads.vdiff.csv.ins'\n",
      "2022-03-17 12:41:35.328484 finished: adding observation from instruction file 'freyberg6_template\\heads.vdiff.csv.ins' took: 0:00:00.013980\n",
      "2022-03-17 12:41:35.330461 finished: adding observations from tabular output file '['heads.vdiff.csv']' took: 0:00:00.025914\n"
     ]
    }
   ],
   "source": [
    "\n",
    "df = pd.read_csv(os.path.join(template_ws, \"sfr.tdiff.csv\"), index_col=0)\n",
    "_ = pf.add_observations(\"sfr.tdiff.csv\", # the model output file to read\n",
    "                            insfile=\"sfr.tdiff.csv.ins\", #optional, the instruction file name\n",
    "                            index_cols=\"time\", #column header to use as index; can also use column number (zero-based) instead of the header name\n",
    "                            use_cols=list(df.columns.values), #names of columns that include observation values; can also use column number (zero-based) instead of the header name\n",
    "                            prefix=\"sfrtd\") #prefix to all observation \n",
    "                            \n",
    "df = pd.read_csv(os.path.join(template_ws, \"heads.tdiff.csv\"), index_col=0)\n",
    "_ = pf.add_observations(\"heads.tdiff.csv\", # the model output file to read\n",
    "                            insfile=\"heads.tdiff.csv.ins\", #optional, the instruction file name\n",
    "                            index_cols=\"time\", #column header to use as index; can also use column number (zero-based) instead of the header name\n",
    "                            use_cols=list(df.columns.values), #names of columns that include observation values; can also use column number (zero-based) instead of the header name\n",
    "                            prefix=\"hdstd\") #prefix to all observation names\n",
    "\n",
    "df = pd.read_csv(os.path.join(template_ws, \"heads.vdiff.csv\"), index_col=0)\n",
    "_ = pf.add_observations(\"heads.vdiff.csv\", # the model output file to read\n",
    "                            insfile=\"heads.vdiff.csv.ins\", #optional, the instruction file name\n",
    "                            index_cols=\"time\", #column header to use as index; can also use column number (zero-based) instead of the header name\n",
    "                            use_cols=list(df.columns.values), #names of columns that include observation values; can also use column number (zero-based) instead of the header name\n",
    "                            prefix=\"hdsvd\") #prefix to all observation names"
   ]
  },
  {
   "cell_type": "markdown",
   "metadata": {},
   "source": [
    "Remember to re-build the Pst control file:"
   ]
  },
  {
   "cell_type": "code",
   "execution_count": 44,
   "metadata": {
    "execution": {
     "iopub.execute_input": "2022-03-17T02:11:35.366907Z",
     "iopub.status.busy": "2022-03-17T02:11:35.348955Z",
     "iopub.status.idle": "2022-03-17T02:11:37.373457Z",
     "shell.execute_reply": "2022-03-17T02:11:37.373457Z"
    }
   },
   "outputs": [
    {
     "name": "stdout",
     "output_type": "stream",
     "text": [
      "noptmax:0, npar_adj:25454, nnz_obs:1775\n"
     ]
    },
    {
     "name": "stdout",
     "output_type": "stream",
     "text": [
      "2022-03-17 12:41:37.040460 WARNING: sys_cmd 'pyemu.os_utils.run(r'mf6')\n",
      "' already in sys cmds, skipping...\n"
     ]
    }
   ],
   "source": [
    "pst = pf.build_pst()"
   ]
  },
  {
   "cell_type": "markdown",
   "metadata": {},
   "source": [
    "### 7. After Building the Control File\n",
    "\n",
    "At this point, we can do some additional modifications that would typically be done that are problem specific.  Here we can tweak the setup, specifying things such as observation weights, parameter bounds, transforms, control data, etc. \n",
    "\n",
    "Note that any modifications made after calling `PstFrom.build_pst()` will only exist in memory - you need to call `pf.pst.write()` to record these changes to the control file on disk.  Also note that if you call `PstFrom.build_pst()` after making some changes, these changes will be lost.  \n",
    "\n",
    "For the current case, the main thing we haven't addressed are the observation weights. We will do so now.\n",
    "\n",
    "#### 7.1. Setting observation weights\n",
    "\n",
    "So far, we have automated the setup for PEST(++).  But one critical task remains and there is not an easy way to automate it:  setting the actual observed values and weights in the `* observation data` information.  \n",
    "\n",
    "`PstFrom` and `Pst` will both try to read existing model output files that correspond to instruction files and put those simulated values into the `* observation data` section for the observed values (the `obsval` quantity).  Here, we pre-populated the model output files with \"measured values\". So, in our case, we are OK in this regard.  Alternatively, we could have edited the `* observation data` at this stage, assigning the respective measured values into the `obsval` column. \n",
    "\n",
    "What we are unable to deal with beforehand are the observation weights. Let's take a look at the observation data:"
   ]
  },
  {
   "cell_type": "code",
   "execution_count": 45,
   "metadata": {
    "execution": {
     "iopub.execute_input": "2022-03-17T02:11:37.377414Z",
     "iopub.status.busy": "2022-03-17T02:11:37.377414Z",
     "iopub.status.idle": "2022-03-17T02:11:37.390449Z",
     "shell.execute_reply": "2022-03-17T02:11:37.390449Z"
    }
   },
   "outputs": [
    {
     "data": {
      "text/html": [
       "<div>\n",
       "<style scoped>\n",
       "    .dataframe tbody tr th:only-of-type {\n",
       "        vertical-align: middle;\n",
       "    }\n",
       "\n",
       "    .dataframe tbody tr th {\n",
       "        vertical-align: top;\n",
       "    }\n",
       "\n",
       "    .dataframe thead th {\n",
       "        text-align: right;\n",
       "    }\n",
       "</style>\n",
       "<table border=\"1\" class=\"dataframe\">\n",
       "  <thead>\n",
       "    <tr style=\"text-align: right;\">\n",
       "      <th></th>\n",
       "      <th>obsnme</th>\n",
       "      <th>obsval</th>\n",
       "      <th>weight</th>\n",
       "      <th>obgnme</th>\n",
       "      <th>oname</th>\n",
       "      <th>otype</th>\n",
       "      <th>usecol</th>\n",
       "      <th>time</th>\n",
       "    </tr>\n",
       "  </thead>\n",
       "  <tbody>\n",
       "    <tr>\n",
       "      <th>oname:hds_otype:lst_usecol:trgw_0_13_10_time:1.0</th>\n",
       "      <td>oname:hds_otype:lst_usecol:trgw_0_13_10_time:1.0</td>\n",
       "      <td>34.406181</td>\n",
       "      <td>1.0</td>\n",
       "      <td>oname:hds_otype:lst_usecol:trgw_0_13_10</td>\n",
       "      <td>hds</td>\n",
       "      <td>lst</td>\n",
       "      <td>trgw</td>\n",
       "      <td>1.0</td>\n",
       "    </tr>\n",
       "    <tr>\n",
       "      <th>oname:hds_otype:lst_usecol:trgw_0_13_10_time:122.0</th>\n",
       "      <td>oname:hds_otype:lst_usecol:trgw_0_13_10_time:122.0</td>\n",
       "      <td>34.450661</td>\n",
       "      <td>1.0</td>\n",
       "      <td>oname:hds_otype:lst_usecol:trgw_0_13_10</td>\n",
       "      <td>hds</td>\n",
       "      <td>lst</td>\n",
       "      <td>trgw</td>\n",
       "      <td>122.0</td>\n",
       "    </tr>\n",
       "    <tr>\n",
       "      <th>oname:hds_otype:lst_usecol:trgw_0_13_10_time:153.0</th>\n",
       "      <td>oname:hds_otype:lst_usecol:trgw_0_13_10_time:153.0</td>\n",
       "      <td>34.441799</td>\n",
       "      <td>1.0</td>\n",
       "      <td>oname:hds_otype:lst_usecol:trgw_0_13_10</td>\n",
       "      <td>hds</td>\n",
       "      <td>lst</td>\n",
       "      <td>trgw</td>\n",
       "      <td>153.0</td>\n",
       "    </tr>\n",
       "    <tr>\n",
       "      <th>oname:hds_otype:lst_usecol:trgw_0_13_10_time:183.0</th>\n",
       "      <td>oname:hds_otype:lst_usecol:trgw_0_13_10_time:183.0</td>\n",
       "      <td>34.375622</td>\n",
       "      <td>1.0</td>\n",
       "      <td>oname:hds_otype:lst_usecol:trgw_0_13_10</td>\n",
       "      <td>hds</td>\n",
       "      <td>lst</td>\n",
       "      <td>trgw</td>\n",
       "      <td>183.0</td>\n",
       "    </tr>\n",
       "    <tr>\n",
       "      <th>oname:hds_otype:lst_usecol:trgw_0_13_10_time:214.0</th>\n",
       "      <td>oname:hds_otype:lst_usecol:trgw_0_13_10_time:214.0</td>\n",
       "      <td>34.323056</td>\n",
       "      <td>1.0</td>\n",
       "      <td>oname:hds_otype:lst_usecol:trgw_0_13_10</td>\n",
       "      <td>hds</td>\n",
       "      <td>lst</td>\n",
       "      <td>trgw</td>\n",
       "      <td>214.0</td>\n",
       "    </tr>\n",
       "    <tr>\n",
       "      <th>...</th>\n",
       "      <td>...</td>\n",
       "      <td>...</td>\n",
       "      <td>...</td>\n",
       "      <td>...</td>\n",
       "      <td>...</td>\n",
       "      <td>...</td>\n",
       "      <td>...</td>\n",
       "      <td>...</td>\n",
       "    </tr>\n",
       "    <tr>\n",
       "      <th>oname:hdsvd_otype:lst_usecol:trgw_0_9_1_time:640.0</th>\n",
       "      <td>oname:hdsvd_otype:lst_usecol:trgw_0_9_1_time:640.0</td>\n",
       "      <td>0.002537</td>\n",
       "      <td>1.0</td>\n",
       "      <td>oname:hdsvd_otype:lst_usecol:trgw_0_9_1</td>\n",
       "      <td>hdsvd</td>\n",
       "      <td>lst</td>\n",
       "      <td>trgw</td>\n",
       "      <td>640.0</td>\n",
       "    </tr>\n",
       "    <tr>\n",
       "      <th>oname:hdsvd_otype:lst_usecol:trgw_0_9_1_time:671.0</th>\n",
       "      <td>oname:hdsvd_otype:lst_usecol:trgw_0_9_1_time:671.0</td>\n",
       "      <td>0.003066</td>\n",
       "      <td>1.0</td>\n",
       "      <td>oname:hdsvd_otype:lst_usecol:trgw_0_9_1</td>\n",
       "      <td>hdsvd</td>\n",
       "      <td>lst</td>\n",
       "      <td>trgw</td>\n",
       "      <td>671.0</td>\n",
       "    </tr>\n",
       "    <tr>\n",
       "      <th>oname:hdsvd_otype:lst_usecol:trgw_0_9_1_time:701.0</th>\n",
       "      <td>oname:hdsvd_otype:lst_usecol:trgw_0_9_1_time:701.0</td>\n",
       "      <td>0.002878</td>\n",
       "      <td>1.0</td>\n",
       "      <td>oname:hdsvd_otype:lst_usecol:trgw_0_9_1</td>\n",
       "      <td>hdsvd</td>\n",
       "      <td>lst</td>\n",
       "      <td>trgw</td>\n",
       "      <td>701.0</td>\n",
       "    </tr>\n",
       "    <tr>\n",
       "      <th>oname:hdsvd_otype:lst_usecol:trgw_0_9_1_time:732.0</th>\n",
       "      <td>oname:hdsvd_otype:lst_usecol:trgw_0_9_1_time:732.0</td>\n",
       "      <td>0.007718</td>\n",
       "      <td>1.0</td>\n",
       "      <td>oname:hdsvd_otype:lst_usecol:trgw_0_9_1</td>\n",
       "      <td>hdsvd</td>\n",
       "      <td>lst</td>\n",
       "      <td>trgw</td>\n",
       "      <td>732.0</td>\n",
       "    </tr>\n",
       "    <tr>\n",
       "      <th>oname:hdsvd_otype:lst_usecol:trgw_0_9_1_time:92.0</th>\n",
       "      <td>oname:hdsvd_otype:lst_usecol:trgw_0_9_1_time:92.0</td>\n",
       "      <td>0.004588</td>\n",
       "      <td>1.0</td>\n",
       "      <td>oname:hdsvd_otype:lst_usecol:trgw_0_9_1</td>\n",
       "      <td>hdsvd</td>\n",
       "      <td>lst</td>\n",
       "      <td>trgw</td>\n",
       "      <td>92.0</td>\n",
       "    </tr>\n",
       "  </tbody>\n",
       "</table>\n",
       "<p>1775 rows × 8 columns</p>\n",
       "</div>"
      ],
      "text/plain": [
       "                                                                                                obsnme  \\\n",
       "oname:hds_otype:lst_usecol:trgw_0_13_10_time:1.0      oname:hds_otype:lst_usecol:trgw_0_13_10_time:1.0   \n",
       "oname:hds_otype:lst_usecol:trgw_0_13_10_time:122.0  oname:hds_otype:lst_usecol:trgw_0_13_10_time:122.0   \n",
       "oname:hds_otype:lst_usecol:trgw_0_13_10_time:153.0  oname:hds_otype:lst_usecol:trgw_0_13_10_time:153.0   \n",
       "oname:hds_otype:lst_usecol:trgw_0_13_10_time:183.0  oname:hds_otype:lst_usecol:trgw_0_13_10_time:183.0   \n",
       "oname:hds_otype:lst_usecol:trgw_0_13_10_time:214.0  oname:hds_otype:lst_usecol:trgw_0_13_10_time:214.0   \n",
       "...                                                                                                ...   \n",
       "oname:hdsvd_otype:lst_usecol:trgw_0_9_1_time:640.0  oname:hdsvd_otype:lst_usecol:trgw_0_9_1_time:640.0   \n",
       "oname:hdsvd_otype:lst_usecol:trgw_0_9_1_time:671.0  oname:hdsvd_otype:lst_usecol:trgw_0_9_1_time:671.0   \n",
       "oname:hdsvd_otype:lst_usecol:trgw_0_9_1_time:701.0  oname:hdsvd_otype:lst_usecol:trgw_0_9_1_time:701.0   \n",
       "oname:hdsvd_otype:lst_usecol:trgw_0_9_1_time:732.0  oname:hdsvd_otype:lst_usecol:trgw_0_9_1_time:732.0   \n",
       "oname:hdsvd_otype:lst_usecol:trgw_0_9_1_time:92.0    oname:hdsvd_otype:lst_usecol:trgw_0_9_1_time:92.0   \n",
       "\n",
       "                                                       obsval  weight  \\\n",
       "oname:hds_otype:lst_usecol:trgw_0_13_10_time:1.0    34.406181     1.0   \n",
       "oname:hds_otype:lst_usecol:trgw_0_13_10_time:122.0  34.450661     1.0   \n",
       "oname:hds_otype:lst_usecol:trgw_0_13_10_time:153.0  34.441799     1.0   \n",
       "oname:hds_otype:lst_usecol:trgw_0_13_10_time:183.0  34.375622     1.0   \n",
       "oname:hds_otype:lst_usecol:trgw_0_13_10_time:214.0  34.323056     1.0   \n",
       "...                                                       ...     ...   \n",
       "oname:hdsvd_otype:lst_usecol:trgw_0_9_1_time:640.0   0.002537     1.0   \n",
       "oname:hdsvd_otype:lst_usecol:trgw_0_9_1_time:671.0   0.003066     1.0   \n",
       "oname:hdsvd_otype:lst_usecol:trgw_0_9_1_time:701.0   0.002878     1.0   \n",
       "oname:hdsvd_otype:lst_usecol:trgw_0_9_1_time:732.0   0.007718     1.0   \n",
       "oname:hdsvd_otype:lst_usecol:trgw_0_9_1_time:92.0    0.004588     1.0   \n",
       "\n",
       "                                                                                     obgnme  \\\n",
       "oname:hds_otype:lst_usecol:trgw_0_13_10_time:1.0    oname:hds_otype:lst_usecol:trgw_0_13_10   \n",
       "oname:hds_otype:lst_usecol:trgw_0_13_10_time:122.0  oname:hds_otype:lst_usecol:trgw_0_13_10   \n",
       "oname:hds_otype:lst_usecol:trgw_0_13_10_time:153.0  oname:hds_otype:lst_usecol:trgw_0_13_10   \n",
       "oname:hds_otype:lst_usecol:trgw_0_13_10_time:183.0  oname:hds_otype:lst_usecol:trgw_0_13_10   \n",
       "oname:hds_otype:lst_usecol:trgw_0_13_10_time:214.0  oname:hds_otype:lst_usecol:trgw_0_13_10   \n",
       "...                                                                                     ...   \n",
       "oname:hdsvd_otype:lst_usecol:trgw_0_9_1_time:640.0  oname:hdsvd_otype:lst_usecol:trgw_0_9_1   \n",
       "oname:hdsvd_otype:lst_usecol:trgw_0_9_1_time:671.0  oname:hdsvd_otype:lst_usecol:trgw_0_9_1   \n",
       "oname:hdsvd_otype:lst_usecol:trgw_0_9_1_time:701.0  oname:hdsvd_otype:lst_usecol:trgw_0_9_1   \n",
       "oname:hdsvd_otype:lst_usecol:trgw_0_9_1_time:732.0  oname:hdsvd_otype:lst_usecol:trgw_0_9_1   \n",
       "oname:hdsvd_otype:lst_usecol:trgw_0_9_1_time:92.0   oname:hdsvd_otype:lst_usecol:trgw_0_9_1   \n",
       "\n",
       "                                                    oname otype usecol   time  \n",
       "oname:hds_otype:lst_usecol:trgw_0_13_10_time:1.0      hds   lst   trgw    1.0  \n",
       "oname:hds_otype:lst_usecol:trgw_0_13_10_time:122.0    hds   lst   trgw  122.0  \n",
       "oname:hds_otype:lst_usecol:trgw_0_13_10_time:153.0    hds   lst   trgw  153.0  \n",
       "oname:hds_otype:lst_usecol:trgw_0_13_10_time:183.0    hds   lst   trgw  183.0  \n",
       "oname:hds_otype:lst_usecol:trgw_0_13_10_time:214.0    hds   lst   trgw  214.0  \n",
       "...                                                   ...   ...    ...    ...  \n",
       "oname:hdsvd_otype:lst_usecol:trgw_0_9_1_time:640.0  hdsvd   lst   trgw  640.0  \n",
       "oname:hdsvd_otype:lst_usecol:trgw_0_9_1_time:671.0  hdsvd   lst   trgw  671.0  \n",
       "oname:hdsvd_otype:lst_usecol:trgw_0_9_1_time:701.0  hdsvd   lst   trgw  701.0  \n",
       "oname:hdsvd_otype:lst_usecol:trgw_0_9_1_time:732.0  hdsvd   lst   trgw  732.0  \n",
       "oname:hdsvd_otype:lst_usecol:trgw_0_9_1_time:92.0   hdsvd   lst   trgw   92.0  \n",
       "\n",
       "[1775 rows x 8 columns]"
      ]
     },
     "execution_count": 45,
     "metadata": {},
     "output_type": "execute_result"
    }
   ],
   "source": [
    "obs = pst.observation_data\n",
    "obs"
   ]
  },
  {
   "cell_type": "markdown",
   "metadata": {},
   "source": [
    "Hmm, that's alot of observations. And remember, alot of these pertain to the \"prediction\" period. We definitly do not want those to have an influence on history-matching.\n",
    "\n",
    "To be on the safe side, let's assign a weight of zero to all observations. Then, we will assign weights to specific observations that we wish to include as history-matching targets."
   ]
  },
  {
   "cell_type": "code",
   "execution_count": 46,
   "metadata": {
    "execution": {
     "iopub.execute_input": "2022-03-17T02:11:37.400388Z",
     "iopub.status.busy": "2022-03-17T02:11:37.399391Z",
     "iopub.status.idle": "2022-03-17T02:11:37.402383Z",
     "shell.execute_reply": "2022-03-17T02:11:37.402383Z"
    }
   },
   "outputs": [
    {
     "data": {
      "text/html": [
       "<div>\n",
       "<style scoped>\n",
       "    .dataframe tbody tr th:only-of-type {\n",
       "        vertical-align: middle;\n",
       "    }\n",
       "\n",
       "    .dataframe tbody tr th {\n",
       "        vertical-align: top;\n",
       "    }\n",
       "\n",
       "    .dataframe thead th {\n",
       "        text-align: right;\n",
       "    }\n",
       "</style>\n",
       "<table border=\"1\" class=\"dataframe\">\n",
       "  <thead>\n",
       "    <tr style=\"text-align: right;\">\n",
       "      <th></th>\n",
       "      <th>obsnme</th>\n",
       "      <th>obsval</th>\n",
       "      <th>weight</th>\n",
       "      <th>obgnme</th>\n",
       "      <th>oname</th>\n",
       "      <th>otype</th>\n",
       "      <th>usecol</th>\n",
       "      <th>time</th>\n",
       "    </tr>\n",
       "  </thead>\n",
       "  <tbody>\n",
       "    <tr>\n",
       "      <th>oname:hds_otype:lst_usecol:trgw_0_13_10_time:1.0</th>\n",
       "      <td>oname:hds_otype:lst_usecol:trgw_0_13_10_time:1.0</td>\n",
       "      <td>34.406181</td>\n",
       "      <td>0</td>\n",
       "      <td>oname:hds_otype:lst_usecol:trgw_0_13_10</td>\n",
       "      <td>hds</td>\n",
       "      <td>lst</td>\n",
       "      <td>trgw</td>\n",
       "      <td>1.0</td>\n",
       "    </tr>\n",
       "    <tr>\n",
       "      <th>oname:hds_otype:lst_usecol:trgw_0_13_10_time:122.0</th>\n",
       "      <td>oname:hds_otype:lst_usecol:trgw_0_13_10_time:122.0</td>\n",
       "      <td>34.450661</td>\n",
       "      <td>0</td>\n",
       "      <td>oname:hds_otype:lst_usecol:trgw_0_13_10</td>\n",
       "      <td>hds</td>\n",
       "      <td>lst</td>\n",
       "      <td>trgw</td>\n",
       "      <td>122.0</td>\n",
       "    </tr>\n",
       "    <tr>\n",
       "      <th>oname:hds_otype:lst_usecol:trgw_0_13_10_time:153.0</th>\n",
       "      <td>oname:hds_otype:lst_usecol:trgw_0_13_10_time:153.0</td>\n",
       "      <td>34.441799</td>\n",
       "      <td>0</td>\n",
       "      <td>oname:hds_otype:lst_usecol:trgw_0_13_10</td>\n",
       "      <td>hds</td>\n",
       "      <td>lst</td>\n",
       "      <td>trgw</td>\n",
       "      <td>153.0</td>\n",
       "    </tr>\n",
       "    <tr>\n",
       "      <th>oname:hds_otype:lst_usecol:trgw_0_13_10_time:183.0</th>\n",
       "      <td>oname:hds_otype:lst_usecol:trgw_0_13_10_time:183.0</td>\n",
       "      <td>34.375622</td>\n",
       "      <td>0</td>\n",
       "      <td>oname:hds_otype:lst_usecol:trgw_0_13_10</td>\n",
       "      <td>hds</td>\n",
       "      <td>lst</td>\n",
       "      <td>trgw</td>\n",
       "      <td>183.0</td>\n",
       "    </tr>\n",
       "    <tr>\n",
       "      <th>oname:hds_otype:lst_usecol:trgw_0_13_10_time:214.0</th>\n",
       "      <td>oname:hds_otype:lst_usecol:trgw_0_13_10_time:214.0</td>\n",
       "      <td>34.323056</td>\n",
       "      <td>0</td>\n",
       "      <td>oname:hds_otype:lst_usecol:trgw_0_13_10</td>\n",
       "      <td>hds</td>\n",
       "      <td>lst</td>\n",
       "      <td>trgw</td>\n",
       "      <td>214.0</td>\n",
       "    </tr>\n",
       "  </tbody>\n",
       "</table>\n",
       "</div>"
      ],
      "text/plain": [
       "                                                                                                obsnme  \\\n",
       "oname:hds_otype:lst_usecol:trgw_0_13_10_time:1.0      oname:hds_otype:lst_usecol:trgw_0_13_10_time:1.0   \n",
       "oname:hds_otype:lst_usecol:trgw_0_13_10_time:122.0  oname:hds_otype:lst_usecol:trgw_0_13_10_time:122.0   \n",
       "oname:hds_otype:lst_usecol:trgw_0_13_10_time:153.0  oname:hds_otype:lst_usecol:trgw_0_13_10_time:153.0   \n",
       "oname:hds_otype:lst_usecol:trgw_0_13_10_time:183.0  oname:hds_otype:lst_usecol:trgw_0_13_10_time:183.0   \n",
       "oname:hds_otype:lst_usecol:trgw_0_13_10_time:214.0  oname:hds_otype:lst_usecol:trgw_0_13_10_time:214.0   \n",
       "\n",
       "                                                       obsval  weight  \\\n",
       "oname:hds_otype:lst_usecol:trgw_0_13_10_time:1.0    34.406181       0   \n",
       "oname:hds_otype:lst_usecol:trgw_0_13_10_time:122.0  34.450661       0   \n",
       "oname:hds_otype:lst_usecol:trgw_0_13_10_time:153.0  34.441799       0   \n",
       "oname:hds_otype:lst_usecol:trgw_0_13_10_time:183.0  34.375622       0   \n",
       "oname:hds_otype:lst_usecol:trgw_0_13_10_time:214.0  34.323056       0   \n",
       "\n",
       "                                                                                     obgnme  \\\n",
       "oname:hds_otype:lst_usecol:trgw_0_13_10_time:1.0    oname:hds_otype:lst_usecol:trgw_0_13_10   \n",
       "oname:hds_otype:lst_usecol:trgw_0_13_10_time:122.0  oname:hds_otype:lst_usecol:trgw_0_13_10   \n",
       "oname:hds_otype:lst_usecol:trgw_0_13_10_time:153.0  oname:hds_otype:lst_usecol:trgw_0_13_10   \n",
       "oname:hds_otype:lst_usecol:trgw_0_13_10_time:183.0  oname:hds_otype:lst_usecol:trgw_0_13_10   \n",
       "oname:hds_otype:lst_usecol:trgw_0_13_10_time:214.0  oname:hds_otype:lst_usecol:trgw_0_13_10   \n",
       "\n",
       "                                                   oname otype usecol   time  \n",
       "oname:hds_otype:lst_usecol:trgw_0_13_10_time:1.0     hds   lst   trgw    1.0  \n",
       "oname:hds_otype:lst_usecol:trgw_0_13_10_time:122.0   hds   lst   trgw  122.0  \n",
       "oname:hds_otype:lst_usecol:trgw_0_13_10_time:153.0   hds   lst   trgw  153.0  \n",
       "oname:hds_otype:lst_usecol:trgw_0_13_10_time:183.0   hds   lst   trgw  183.0  \n",
       "oname:hds_otype:lst_usecol:trgw_0_13_10_time:214.0   hds   lst   trgw  214.0  "
      ]
     },
     "execution_count": 46,
     "metadata": {},
     "output_type": "execute_result"
    }
   ],
   "source": [
    "# preemptive avoidance of sillyness\n",
    "obs['weight'] = 0\n",
    "obs.head()"
   ]
  },
  {
   "cell_type": "markdown",
   "metadata": {},
   "source": [
    "Because `PstFrom` is our friend, it kept track of lots of information. We can now use this to help us slice and select specific observations. Scroll though the `obs` columns to see what we have at hand. \n",
    "\n",
    "For example, the `oname` column stores the \"prefix\" we assigned eveytime we called `pf.add_observations()`. This makes it easy for us to now select observations according to which file they were read from.\n",
    "\n",
    "Just as a reminder:"
   ]
  },
  {
   "cell_type": "code",
   "execution_count": 47,
   "metadata": {
    "execution": {
     "iopub.execute_input": "2022-03-17T02:11:37.406414Z",
     "iopub.status.busy": "2022-03-17T02:11:37.406414Z",
     "iopub.status.idle": "2022-03-17T02:11:37.411393Z",
     "shell.execute_reply": "2022-03-17T02:11:37.410362Z"
    }
   },
   "outputs": [
    {
     "data": {
      "text/plain": [
       "array(['hds', 'sfr', 'sfrtd', 'hdstd', 'hdsvd'], dtype=object)"
      ]
     },
     "execution_count": 47,
     "metadata": {},
     "output_type": "execute_result"
    }
   ],
   "source": [
    "obs['oname'].unique()"
   ]
  },
  {
   "cell_type": "markdown",
   "metadata": {},
   "source": [
    "So, if we want to select observations from the `heads.csv` file, and that have a time < than 367, we can just use `Pandas` .loc:"
   ]
  },
  {
   "cell_type": "code",
   "execution_count": 48,
   "metadata": {
    "execution": {
     "iopub.execute_input": "2022-03-17T02:11:37.415348Z",
     "iopub.status.busy": "2022-03-17T02:11:37.415348Z",
     "iopub.status.idle": "2022-03-17T02:11:37.429347Z",
     "shell.execute_reply": "2022-03-17T02:11:37.429347Z"
    }
   },
   "outputs": [
    {
     "data": {
      "text/html": [
       "<div>\n",
       "<style scoped>\n",
       "    .dataframe tbody tr th:only-of-type {\n",
       "        vertical-align: middle;\n",
       "    }\n",
       "\n",
       "    .dataframe tbody tr th {\n",
       "        vertical-align: top;\n",
       "    }\n",
       "\n",
       "    .dataframe thead th {\n",
       "        text-align: right;\n",
       "    }\n",
       "</style>\n",
       "<table border=\"1\" class=\"dataframe\">\n",
       "  <thead>\n",
       "    <tr style=\"text-align: right;\">\n",
       "      <th></th>\n",
       "      <th>obsnme</th>\n",
       "      <th>obsval</th>\n",
       "      <th>weight</th>\n",
       "      <th>obgnme</th>\n",
       "      <th>oname</th>\n",
       "      <th>otype</th>\n",
       "      <th>usecol</th>\n",
       "      <th>time</th>\n",
       "    </tr>\n",
       "  </thead>\n",
       "  <tbody>\n",
       "    <tr>\n",
       "      <th>oname:hds_otype:lst_usecol:trgw_0_13_10_time:1.0</th>\n",
       "      <td>oname:hds_otype:lst_usecol:trgw_0_13_10_time:1.0</td>\n",
       "      <td>34.406181</td>\n",
       "      <td>0</td>\n",
       "      <td>oname:hds_otype:lst_usecol:trgw_0_13_10</td>\n",
       "      <td>hds</td>\n",
       "      <td>lst</td>\n",
       "      <td>trgw</td>\n",
       "      <td>1.0</td>\n",
       "    </tr>\n",
       "    <tr>\n",
       "      <th>oname:hds_otype:lst_usecol:trgw_0_13_10_time:122.0</th>\n",
       "      <td>oname:hds_otype:lst_usecol:trgw_0_13_10_time:122.0</td>\n",
       "      <td>34.450661</td>\n",
       "      <td>0</td>\n",
       "      <td>oname:hds_otype:lst_usecol:trgw_0_13_10</td>\n",
       "      <td>hds</td>\n",
       "      <td>lst</td>\n",
       "      <td>trgw</td>\n",
       "      <td>122.0</td>\n",
       "    </tr>\n",
       "    <tr>\n",
       "      <th>oname:hds_otype:lst_usecol:trgw_0_13_10_time:153.0</th>\n",
       "      <td>oname:hds_otype:lst_usecol:trgw_0_13_10_time:153.0</td>\n",
       "      <td>34.441799</td>\n",
       "      <td>0</td>\n",
       "      <td>oname:hds_otype:lst_usecol:trgw_0_13_10</td>\n",
       "      <td>hds</td>\n",
       "      <td>lst</td>\n",
       "      <td>trgw</td>\n",
       "      <td>153.0</td>\n",
       "    </tr>\n",
       "    <tr>\n",
       "      <th>oname:hds_otype:lst_usecol:trgw_0_13_10_time:183.0</th>\n",
       "      <td>oname:hds_otype:lst_usecol:trgw_0_13_10_time:183.0</td>\n",
       "      <td>34.375622</td>\n",
       "      <td>0</td>\n",
       "      <td>oname:hds_otype:lst_usecol:trgw_0_13_10</td>\n",
       "      <td>hds</td>\n",
       "      <td>lst</td>\n",
       "      <td>trgw</td>\n",
       "      <td>183.0</td>\n",
       "    </tr>\n",
       "    <tr>\n",
       "      <th>oname:hds_otype:lst_usecol:trgw_0_13_10_time:214.0</th>\n",
       "      <td>oname:hds_otype:lst_usecol:trgw_0_13_10_time:214.0</td>\n",
       "      <td>34.323056</td>\n",
       "      <td>0</td>\n",
       "      <td>oname:hds_otype:lst_usecol:trgw_0_13_10</td>\n",
       "      <td>hds</td>\n",
       "      <td>lst</td>\n",
       "      <td>trgw</td>\n",
       "      <td>214.0</td>\n",
       "    </tr>\n",
       "    <tr>\n",
       "      <th>...</th>\n",
       "      <td>...</td>\n",
       "      <td>...</td>\n",
       "      <td>...</td>\n",
       "      <td>...</td>\n",
       "      <td>...</td>\n",
       "      <td>...</td>\n",
       "      <td>...</td>\n",
       "      <td>...</td>\n",
       "    </tr>\n",
       "    <tr>\n",
       "      <th>oname:hds_otype:lst_usecol:trgw_2_9_1_time:32.0</th>\n",
       "      <td>oname:hds_otype:lst_usecol:trgw_2_9_1_time:32.0</td>\n",
       "      <td>35.138347</td>\n",
       "      <td>0</td>\n",
       "      <td>oname:hds_otype:lst_usecol:trgw_2_9_1</td>\n",
       "      <td>hds</td>\n",
       "      <td>lst</td>\n",
       "      <td>trgw</td>\n",
       "      <td>32.0</td>\n",
       "    </tr>\n",
       "    <tr>\n",
       "      <th>oname:hds_otype:lst_usecol:trgw_2_9_1_time:336.0</th>\n",
       "      <td>oname:hds_otype:lst_usecol:trgw_2_9_1_time:336.0</td>\n",
       "      <td>35.137489</td>\n",
       "      <td>0</td>\n",
       "      <td>oname:hds_otype:lst_usecol:trgw_2_9_1</td>\n",
       "      <td>hds</td>\n",
       "      <td>lst</td>\n",
       "      <td>trgw</td>\n",
       "      <td>336.0</td>\n",
       "    </tr>\n",
       "    <tr>\n",
       "      <th>oname:hds_otype:lst_usecol:trgw_2_9_1_time:367.0</th>\n",
       "      <td>oname:hds_otype:lst_usecol:trgw_2_9_1_time:367.0</td>\n",
       "      <td>35.381420</td>\n",
       "      <td>0</td>\n",
       "      <td>oname:hds_otype:lst_usecol:trgw_2_9_1</td>\n",
       "      <td>hds</td>\n",
       "      <td>lst</td>\n",
       "      <td>trgw</td>\n",
       "      <td>367.0</td>\n",
       "    </tr>\n",
       "    <tr>\n",
       "      <th>oname:hds_otype:lst_usecol:trgw_2_9_1_time:61.0</th>\n",
       "      <td>oname:hds_otype:lst_usecol:trgw_2_9_1_time:61.0</td>\n",
       "      <td>35.323971</td>\n",
       "      <td>0</td>\n",
       "      <td>oname:hds_otype:lst_usecol:trgw_2_9_1</td>\n",
       "      <td>hds</td>\n",
       "      <td>lst</td>\n",
       "      <td>trgw</td>\n",
       "      <td>61.0</td>\n",
       "    </tr>\n",
       "    <tr>\n",
       "      <th>oname:hds_otype:lst_usecol:trgw_2_9_1_time:92.0</th>\n",
       "      <td>oname:hds_otype:lst_usecol:trgw_2_9_1_time:92.0</td>\n",
       "      <td>35.373773</td>\n",
       "      <td>0</td>\n",
       "      <td>oname:hds_otype:lst_usecol:trgw_2_9_1</td>\n",
       "      <td>hds</td>\n",
       "      <td>lst</td>\n",
       "      <td>trgw</td>\n",
       "      <td>92.0</td>\n",
       "    </tr>\n",
       "  </tbody>\n",
       "</table>\n",
       "<p>338 rows × 8 columns</p>\n",
       "</div>"
      ],
      "text/plain": [
       "                                                                                                obsnme  \\\n",
       "oname:hds_otype:lst_usecol:trgw_0_13_10_time:1.0      oname:hds_otype:lst_usecol:trgw_0_13_10_time:1.0   \n",
       "oname:hds_otype:lst_usecol:trgw_0_13_10_time:122.0  oname:hds_otype:lst_usecol:trgw_0_13_10_time:122.0   \n",
       "oname:hds_otype:lst_usecol:trgw_0_13_10_time:153.0  oname:hds_otype:lst_usecol:trgw_0_13_10_time:153.0   \n",
       "oname:hds_otype:lst_usecol:trgw_0_13_10_time:183.0  oname:hds_otype:lst_usecol:trgw_0_13_10_time:183.0   \n",
       "oname:hds_otype:lst_usecol:trgw_0_13_10_time:214.0  oname:hds_otype:lst_usecol:trgw_0_13_10_time:214.0   \n",
       "...                                                                                                ...   \n",
       "oname:hds_otype:lst_usecol:trgw_2_9_1_time:32.0        oname:hds_otype:lst_usecol:trgw_2_9_1_time:32.0   \n",
       "oname:hds_otype:lst_usecol:trgw_2_9_1_time:336.0      oname:hds_otype:lst_usecol:trgw_2_9_1_time:336.0   \n",
       "oname:hds_otype:lst_usecol:trgw_2_9_1_time:367.0      oname:hds_otype:lst_usecol:trgw_2_9_1_time:367.0   \n",
       "oname:hds_otype:lst_usecol:trgw_2_9_1_time:61.0        oname:hds_otype:lst_usecol:trgw_2_9_1_time:61.0   \n",
       "oname:hds_otype:lst_usecol:trgw_2_9_1_time:92.0        oname:hds_otype:lst_usecol:trgw_2_9_1_time:92.0   \n",
       "\n",
       "                                                       obsval  weight  \\\n",
       "oname:hds_otype:lst_usecol:trgw_0_13_10_time:1.0    34.406181       0   \n",
       "oname:hds_otype:lst_usecol:trgw_0_13_10_time:122.0  34.450661       0   \n",
       "oname:hds_otype:lst_usecol:trgw_0_13_10_time:153.0  34.441799       0   \n",
       "oname:hds_otype:lst_usecol:trgw_0_13_10_time:183.0  34.375622       0   \n",
       "oname:hds_otype:lst_usecol:trgw_0_13_10_time:214.0  34.323056       0   \n",
       "...                                                       ...     ...   \n",
       "oname:hds_otype:lst_usecol:trgw_2_9_1_time:32.0     35.138347       0   \n",
       "oname:hds_otype:lst_usecol:trgw_2_9_1_time:336.0    35.137489       0   \n",
       "oname:hds_otype:lst_usecol:trgw_2_9_1_time:367.0    35.381420       0   \n",
       "oname:hds_otype:lst_usecol:trgw_2_9_1_time:61.0     35.323971       0   \n",
       "oname:hds_otype:lst_usecol:trgw_2_9_1_time:92.0     35.373773       0   \n",
       "\n",
       "                                                                                     obgnme  \\\n",
       "oname:hds_otype:lst_usecol:trgw_0_13_10_time:1.0    oname:hds_otype:lst_usecol:trgw_0_13_10   \n",
       "oname:hds_otype:lst_usecol:trgw_0_13_10_time:122.0  oname:hds_otype:lst_usecol:trgw_0_13_10   \n",
       "oname:hds_otype:lst_usecol:trgw_0_13_10_time:153.0  oname:hds_otype:lst_usecol:trgw_0_13_10   \n",
       "oname:hds_otype:lst_usecol:trgw_0_13_10_time:183.0  oname:hds_otype:lst_usecol:trgw_0_13_10   \n",
       "oname:hds_otype:lst_usecol:trgw_0_13_10_time:214.0  oname:hds_otype:lst_usecol:trgw_0_13_10   \n",
       "...                                                                                     ...   \n",
       "oname:hds_otype:lst_usecol:trgw_2_9_1_time:32.0       oname:hds_otype:lst_usecol:trgw_2_9_1   \n",
       "oname:hds_otype:lst_usecol:trgw_2_9_1_time:336.0      oname:hds_otype:lst_usecol:trgw_2_9_1   \n",
       "oname:hds_otype:lst_usecol:trgw_2_9_1_time:367.0      oname:hds_otype:lst_usecol:trgw_2_9_1   \n",
       "oname:hds_otype:lst_usecol:trgw_2_9_1_time:61.0       oname:hds_otype:lst_usecol:trgw_2_9_1   \n",
       "oname:hds_otype:lst_usecol:trgw_2_9_1_time:92.0       oname:hds_otype:lst_usecol:trgw_2_9_1   \n",
       "\n",
       "                                                   oname otype usecol   time  \n",
       "oname:hds_otype:lst_usecol:trgw_0_13_10_time:1.0     hds   lst   trgw    1.0  \n",
       "oname:hds_otype:lst_usecol:trgw_0_13_10_time:122.0   hds   lst   trgw  122.0  \n",
       "oname:hds_otype:lst_usecol:trgw_0_13_10_time:153.0   hds   lst   trgw  153.0  \n",
       "oname:hds_otype:lst_usecol:trgw_0_13_10_time:183.0   hds   lst   trgw  183.0  \n",
       "oname:hds_otype:lst_usecol:trgw_0_13_10_time:214.0   hds   lst   trgw  214.0  \n",
       "...                                                  ...   ...    ...    ...  \n",
       "oname:hds_otype:lst_usecol:trgw_2_9_1_time:32.0      hds   lst   trgw   32.0  \n",
       "oname:hds_otype:lst_usecol:trgw_2_9_1_time:336.0     hds   lst   trgw  336.0  \n",
       "oname:hds_otype:lst_usecol:trgw_2_9_1_time:367.0     hds   lst   trgw  367.0  \n",
       "oname:hds_otype:lst_usecol:trgw_2_9_1_time:61.0      hds   lst   trgw   61.0  \n",
       "oname:hds_otype:lst_usecol:trgw_2_9_1_time:92.0      hds   lst   trgw   92.0  \n",
       "\n",
       "[338 rows x 8 columns]"
      ]
     },
     "execution_count": 48,
     "metadata": {},
     "output_type": "execute_result"
    }
   ],
   "source": [
    "obs.loc[(obs['oname']=='hds') & (obs['time'].astype(float) <= 367)]"
   ]
  },
  {
   "cell_type": "markdown",
   "metadata": {},
   "source": [
    "OK, so now let's use this to assign weights to each observation type. We will set weights to the inverse of the standard deviation of our measurement uncertainty (e.g. \"error-based weighting\").\n",
    "\n",
    "Let's say that stdevs for:\n",
    " - head measurements are 0.1m,\n",
    " - head time an vertical differences 0.01m\n",
    " - SFR direct and time-differnces will be 10% of the measured value (fancy-word alert: \"heteroscedasticity\")"
   ]
  },
  {
   "cell_type": "code",
   "execution_count": 49,
   "metadata": {
    "execution": {
     "iopub.execute_input": "2022-03-17T02:11:37.438321Z",
     "iopub.status.busy": "2022-03-17T02:11:37.437325Z",
     "iopub.status.idle": "2022-03-17T02:11:37.441313Z",
     "shell.execute_reply": "2022-03-17T02:11:37.441313Z"
    }
   },
   "outputs": [],
   "source": [
    "# direct head measurments\n",
    "obs.loc[(obs['oname']=='hds') & (obs['time'].astype(float) <= 367), 'weight'] = 1/0.1\n",
    "# head time differences\n",
    "obs.loc[(obs['oname']=='hdstd') & (obs['time'].astype(float) <= 367), 'weight'] = 1/0.01\n",
    "# head vertical differences\n",
    "obs.loc[(obs['oname']=='hdsvd') & (obs['time'].astype(float) <= 367), 'weight'] = 1/0.01"
   ]
  },
  {
   "cell_type": "code",
   "execution_count": 50,
   "metadata": {
    "execution": {
     "iopub.execute_input": "2022-03-17T02:11:37.452288Z",
     "iopub.status.busy": "2022-03-17T02:11:37.451253Z",
     "iopub.status.idle": "2022-03-17T02:11:37.453247Z",
     "shell.execute_reply": "2022-03-17T02:11:37.453247Z"
    }
   },
   "outputs": [],
   "source": [
    "# SFR direct measurments\n",
    "weights = 1 / abs(0.1 * obs.loc[(obs['oname']=='sfr') & (obs['time'].astype(float) <= 367), 'obsval'].values)\n",
    "obs.loc[(obs['oname']=='sfr') & (obs['time'].astype(float) <= 367), 'weight'] = weights\n",
    "\n",
    "# SFR time-difference measurments; deal with the first observation value that is == 0\n",
    "weights = 1 / abs(0.1 * obs.loc[(obs['oname']=='sfrtd') & (obs['time'].astype(float) <= 367) &  (obs['obsval'] !=0) , 'obsval'].values)\n",
    "obs.loc[(obs['oname']=='sfrtd') & (obs['time'].astype(float) <= 367) &  (obs['obsval'] !=0), 'weight'] = weights"
   ]
  },
  {
   "cell_type": "markdown",
   "metadata": {},
   "source": [
    "As you can see, observation data weights have been updated:"
   ]
  },
  {
   "cell_type": "code",
   "execution_count": 51,
   "metadata": {
    "execution": {
     "iopub.execute_input": "2022-03-17T02:11:37.465216Z",
     "iopub.status.busy": "2022-03-17T02:11:37.465216Z",
     "iopub.status.idle": "2022-03-17T02:11:37.467235Z",
     "shell.execute_reply": "2022-03-17T02:11:37.467235Z"
    }
   },
   "outputs": [
    {
     "data": {
      "text/html": [
       "<div>\n",
       "<style scoped>\n",
       "    .dataframe tbody tr th:only-of-type {\n",
       "        vertical-align: middle;\n",
       "    }\n",
       "\n",
       "    .dataframe tbody tr th {\n",
       "        vertical-align: top;\n",
       "    }\n",
       "\n",
       "    .dataframe thead th {\n",
       "        text-align: right;\n",
       "    }\n",
       "</style>\n",
       "<table border=\"1\" class=\"dataframe\">\n",
       "  <thead>\n",
       "    <tr style=\"text-align: right;\">\n",
       "      <th></th>\n",
       "      <th>obsnme</th>\n",
       "      <th>obsval</th>\n",
       "      <th>weight</th>\n",
       "      <th>obgnme</th>\n",
       "      <th>oname</th>\n",
       "      <th>otype</th>\n",
       "      <th>usecol</th>\n",
       "      <th>time</th>\n",
       "    </tr>\n",
       "  </thead>\n",
       "  <tbody>\n",
       "    <tr>\n",
       "      <th>oname:hds_otype:lst_usecol:trgw_0_13_10_time:1.0</th>\n",
       "      <td>oname:hds_otype:lst_usecol:trgw_0_13_10_time:1.0</td>\n",
       "      <td>34.406181</td>\n",
       "      <td>10.0</td>\n",
       "      <td>oname:hds_otype:lst_usecol:trgw_0_13_10</td>\n",
       "      <td>hds</td>\n",
       "      <td>lst</td>\n",
       "      <td>trgw</td>\n",
       "      <td>1.0</td>\n",
       "    </tr>\n",
       "    <tr>\n",
       "      <th>oname:hds_otype:lst_usecol:trgw_0_13_10_time:122.0</th>\n",
       "      <td>oname:hds_otype:lst_usecol:trgw_0_13_10_time:122.0</td>\n",
       "      <td>34.450661</td>\n",
       "      <td>10.0</td>\n",
       "      <td>oname:hds_otype:lst_usecol:trgw_0_13_10</td>\n",
       "      <td>hds</td>\n",
       "      <td>lst</td>\n",
       "      <td>trgw</td>\n",
       "      <td>122.0</td>\n",
       "    </tr>\n",
       "    <tr>\n",
       "      <th>oname:hds_otype:lst_usecol:trgw_0_13_10_time:153.0</th>\n",
       "      <td>oname:hds_otype:lst_usecol:trgw_0_13_10_time:153.0</td>\n",
       "      <td>34.441799</td>\n",
       "      <td>10.0</td>\n",
       "      <td>oname:hds_otype:lst_usecol:trgw_0_13_10</td>\n",
       "      <td>hds</td>\n",
       "      <td>lst</td>\n",
       "      <td>trgw</td>\n",
       "      <td>153.0</td>\n",
       "    </tr>\n",
       "    <tr>\n",
       "      <th>oname:hds_otype:lst_usecol:trgw_0_13_10_time:183.0</th>\n",
       "      <td>oname:hds_otype:lst_usecol:trgw_0_13_10_time:183.0</td>\n",
       "      <td>34.375622</td>\n",
       "      <td>10.0</td>\n",
       "      <td>oname:hds_otype:lst_usecol:trgw_0_13_10</td>\n",
       "      <td>hds</td>\n",
       "      <td>lst</td>\n",
       "      <td>trgw</td>\n",
       "      <td>183.0</td>\n",
       "    </tr>\n",
       "    <tr>\n",
       "      <th>oname:hds_otype:lst_usecol:trgw_0_13_10_time:214.0</th>\n",
       "      <td>oname:hds_otype:lst_usecol:trgw_0_13_10_time:214.0</td>\n",
       "      <td>34.323056</td>\n",
       "      <td>10.0</td>\n",
       "      <td>oname:hds_otype:lst_usecol:trgw_0_13_10</td>\n",
       "      <td>hds</td>\n",
       "      <td>lst</td>\n",
       "      <td>trgw</td>\n",
       "      <td>214.0</td>\n",
       "    </tr>\n",
       "    <tr>\n",
       "      <th>...</th>\n",
       "      <td>...</td>\n",
       "      <td>...</td>\n",
       "      <td>...</td>\n",
       "      <td>...</td>\n",
       "      <td>...</td>\n",
       "      <td>...</td>\n",
       "      <td>...</td>\n",
       "      <td>...</td>\n",
       "    </tr>\n",
       "    <tr>\n",
       "      <th>oname:hdsvd_otype:lst_usecol:trgw_0_9_1_time:640.0</th>\n",
       "      <td>oname:hdsvd_otype:lst_usecol:trgw_0_9_1_time:640.0</td>\n",
       "      <td>0.002537</td>\n",
       "      <td>0.0</td>\n",
       "      <td>oname:hdsvd_otype:lst_usecol:trgw_0_9_1</td>\n",
       "      <td>hdsvd</td>\n",
       "      <td>lst</td>\n",
       "      <td>trgw</td>\n",
       "      <td>640.0</td>\n",
       "    </tr>\n",
       "    <tr>\n",
       "      <th>oname:hdsvd_otype:lst_usecol:trgw_0_9_1_time:671.0</th>\n",
       "      <td>oname:hdsvd_otype:lst_usecol:trgw_0_9_1_time:671.0</td>\n",
       "      <td>0.003066</td>\n",
       "      <td>0.0</td>\n",
       "      <td>oname:hdsvd_otype:lst_usecol:trgw_0_9_1</td>\n",
       "      <td>hdsvd</td>\n",
       "      <td>lst</td>\n",
       "      <td>trgw</td>\n",
       "      <td>671.0</td>\n",
       "    </tr>\n",
       "    <tr>\n",
       "      <th>oname:hdsvd_otype:lst_usecol:trgw_0_9_1_time:701.0</th>\n",
       "      <td>oname:hdsvd_otype:lst_usecol:trgw_0_9_1_time:701.0</td>\n",
       "      <td>0.002878</td>\n",
       "      <td>0.0</td>\n",
       "      <td>oname:hdsvd_otype:lst_usecol:trgw_0_9_1</td>\n",
       "      <td>hdsvd</td>\n",
       "      <td>lst</td>\n",
       "      <td>trgw</td>\n",
       "      <td>701.0</td>\n",
       "    </tr>\n",
       "    <tr>\n",
       "      <th>oname:hdsvd_otype:lst_usecol:trgw_0_9_1_time:732.0</th>\n",
       "      <td>oname:hdsvd_otype:lst_usecol:trgw_0_9_1_time:732.0</td>\n",
       "      <td>0.007718</td>\n",
       "      <td>0.0</td>\n",
       "      <td>oname:hdsvd_otype:lst_usecol:trgw_0_9_1</td>\n",
       "      <td>hdsvd</td>\n",
       "      <td>lst</td>\n",
       "      <td>trgw</td>\n",
       "      <td>732.0</td>\n",
       "    </tr>\n",
       "    <tr>\n",
       "      <th>oname:hdsvd_otype:lst_usecol:trgw_0_9_1_time:92.0</th>\n",
       "      <td>oname:hdsvd_otype:lst_usecol:trgw_0_9_1_time:92.0</td>\n",
       "      <td>0.004588</td>\n",
       "      <td>100.0</td>\n",
       "      <td>oname:hdsvd_otype:lst_usecol:trgw_0_9_1</td>\n",
       "      <td>hdsvd</td>\n",
       "      <td>lst</td>\n",
       "      <td>trgw</td>\n",
       "      <td>92.0</td>\n",
       "    </tr>\n",
       "  </tbody>\n",
       "</table>\n",
       "<p>1775 rows × 8 columns</p>\n",
       "</div>"
      ],
      "text/plain": [
       "                                                                                                obsnme  \\\n",
       "oname:hds_otype:lst_usecol:trgw_0_13_10_time:1.0      oname:hds_otype:lst_usecol:trgw_0_13_10_time:1.0   \n",
       "oname:hds_otype:lst_usecol:trgw_0_13_10_time:122.0  oname:hds_otype:lst_usecol:trgw_0_13_10_time:122.0   \n",
       "oname:hds_otype:lst_usecol:trgw_0_13_10_time:153.0  oname:hds_otype:lst_usecol:trgw_0_13_10_time:153.0   \n",
       "oname:hds_otype:lst_usecol:trgw_0_13_10_time:183.0  oname:hds_otype:lst_usecol:trgw_0_13_10_time:183.0   \n",
       "oname:hds_otype:lst_usecol:trgw_0_13_10_time:214.0  oname:hds_otype:lst_usecol:trgw_0_13_10_time:214.0   \n",
       "...                                                                                                ...   \n",
       "oname:hdsvd_otype:lst_usecol:trgw_0_9_1_time:640.0  oname:hdsvd_otype:lst_usecol:trgw_0_9_1_time:640.0   \n",
       "oname:hdsvd_otype:lst_usecol:trgw_0_9_1_time:671.0  oname:hdsvd_otype:lst_usecol:trgw_0_9_1_time:671.0   \n",
       "oname:hdsvd_otype:lst_usecol:trgw_0_9_1_time:701.0  oname:hdsvd_otype:lst_usecol:trgw_0_9_1_time:701.0   \n",
       "oname:hdsvd_otype:lst_usecol:trgw_0_9_1_time:732.0  oname:hdsvd_otype:lst_usecol:trgw_0_9_1_time:732.0   \n",
       "oname:hdsvd_otype:lst_usecol:trgw_0_9_1_time:92.0    oname:hdsvd_otype:lst_usecol:trgw_0_9_1_time:92.0   \n",
       "\n",
       "                                                       obsval  weight  \\\n",
       "oname:hds_otype:lst_usecol:trgw_0_13_10_time:1.0    34.406181    10.0   \n",
       "oname:hds_otype:lst_usecol:trgw_0_13_10_time:122.0  34.450661    10.0   \n",
       "oname:hds_otype:lst_usecol:trgw_0_13_10_time:153.0  34.441799    10.0   \n",
       "oname:hds_otype:lst_usecol:trgw_0_13_10_time:183.0  34.375622    10.0   \n",
       "oname:hds_otype:lst_usecol:trgw_0_13_10_time:214.0  34.323056    10.0   \n",
       "...                                                       ...     ...   \n",
       "oname:hdsvd_otype:lst_usecol:trgw_0_9_1_time:640.0   0.002537     0.0   \n",
       "oname:hdsvd_otype:lst_usecol:trgw_0_9_1_time:671.0   0.003066     0.0   \n",
       "oname:hdsvd_otype:lst_usecol:trgw_0_9_1_time:701.0   0.002878     0.0   \n",
       "oname:hdsvd_otype:lst_usecol:trgw_0_9_1_time:732.0   0.007718     0.0   \n",
       "oname:hdsvd_otype:lst_usecol:trgw_0_9_1_time:92.0    0.004588   100.0   \n",
       "\n",
       "                                                                                     obgnme  \\\n",
       "oname:hds_otype:lst_usecol:trgw_0_13_10_time:1.0    oname:hds_otype:lst_usecol:trgw_0_13_10   \n",
       "oname:hds_otype:lst_usecol:trgw_0_13_10_time:122.0  oname:hds_otype:lst_usecol:trgw_0_13_10   \n",
       "oname:hds_otype:lst_usecol:trgw_0_13_10_time:153.0  oname:hds_otype:lst_usecol:trgw_0_13_10   \n",
       "oname:hds_otype:lst_usecol:trgw_0_13_10_time:183.0  oname:hds_otype:lst_usecol:trgw_0_13_10   \n",
       "oname:hds_otype:lst_usecol:trgw_0_13_10_time:214.0  oname:hds_otype:lst_usecol:trgw_0_13_10   \n",
       "...                                                                                     ...   \n",
       "oname:hdsvd_otype:lst_usecol:trgw_0_9_1_time:640.0  oname:hdsvd_otype:lst_usecol:trgw_0_9_1   \n",
       "oname:hdsvd_otype:lst_usecol:trgw_0_9_1_time:671.0  oname:hdsvd_otype:lst_usecol:trgw_0_9_1   \n",
       "oname:hdsvd_otype:lst_usecol:trgw_0_9_1_time:701.0  oname:hdsvd_otype:lst_usecol:trgw_0_9_1   \n",
       "oname:hdsvd_otype:lst_usecol:trgw_0_9_1_time:732.0  oname:hdsvd_otype:lst_usecol:trgw_0_9_1   \n",
       "oname:hdsvd_otype:lst_usecol:trgw_0_9_1_time:92.0   oname:hdsvd_otype:lst_usecol:trgw_0_9_1   \n",
       "\n",
       "                                                    oname otype usecol   time  \n",
       "oname:hds_otype:lst_usecol:trgw_0_13_10_time:1.0      hds   lst   trgw    1.0  \n",
       "oname:hds_otype:lst_usecol:trgw_0_13_10_time:122.0    hds   lst   trgw  122.0  \n",
       "oname:hds_otype:lst_usecol:trgw_0_13_10_time:153.0    hds   lst   trgw  153.0  \n",
       "oname:hds_otype:lst_usecol:trgw_0_13_10_time:183.0    hds   lst   trgw  183.0  \n",
       "oname:hds_otype:lst_usecol:trgw_0_13_10_time:214.0    hds   lst   trgw  214.0  \n",
       "...                                                   ...   ...    ...    ...  \n",
       "oname:hdsvd_otype:lst_usecol:trgw_0_9_1_time:640.0  hdsvd   lst   trgw  640.0  \n",
       "oname:hdsvd_otype:lst_usecol:trgw_0_9_1_time:671.0  hdsvd   lst   trgw  671.0  \n",
       "oname:hdsvd_otype:lst_usecol:trgw_0_9_1_time:701.0  hdsvd   lst   trgw  701.0  \n",
       "oname:hdsvd_otype:lst_usecol:trgw_0_9_1_time:732.0  hdsvd   lst   trgw  732.0  \n",
       "oname:hdsvd_otype:lst_usecol:trgw_0_9_1_time:92.0   hdsvd   lst   trgw   92.0  \n",
       "\n",
       "[1775 rows x 8 columns]"
      ]
     },
     "execution_count": 51,
     "metadata": {},
     "output_type": "execute_result"
    }
   ],
   "source": [
    "obs"
   ]
  },
  {
   "cell_type": "markdown",
   "metadata": {},
   "source": [
    "Make sure to re-**write** the PEST control file. But beware, if you re-**build** the `Pst`, all these changes will be lost."
   ]
  },
  {
   "cell_type": "code",
   "execution_count": 52,
   "metadata": {
    "execution": {
     "iopub.execute_input": "2022-03-17T02:11:37.478182Z",
     "iopub.status.busy": "2022-03-17T02:11:37.478182Z",
     "iopub.status.idle": "2022-03-17T02:11:37.726309Z",
     "shell.execute_reply": "2022-03-17T02:11:37.725326Z"
    }
   },
   "outputs": [
    {
     "name": "stdout",
     "output_type": "stream",
     "text": [
      "noptmax:0, npar_adj:25454, nnz_obs:920\n"
     ]
    }
   ],
   "source": [
    "pst.write(os.path.join(template_ws, 'freyberg_mf6.pst'))"
   ]
  },
  {
   "cell_type": "markdown",
   "metadata": {},
   "source": [
    "So that was pretty epic. We now have a (very) high-dimensional PEST interface ready to roll. \n",
    "\n",
    "If you inspect the folder, you will see PEST control file and all the necessary instruction and template files. Because we have >10k parameters, version 2 of the PEST control file was written by default. \n",
    "\n",
    "Shall we check that it works? Let's run PEST once (i.e. with NOPTMAX=0). Now, by default, noptmax is set to zero. But just to check:"
   ]
  },
  {
   "cell_type": "code",
   "execution_count": 53,
   "metadata": {
    "execution": {
     "iopub.execute_input": "2022-03-17T02:11:37.729268Z",
     "iopub.status.busy": "2022-03-17T02:11:37.729268Z",
     "iopub.status.idle": "2022-03-17T02:11:37.731297Z",
     "shell.execute_reply": "2022-03-17T02:11:37.731297Z"
    }
   },
   "outputs": [
    {
     "data": {
      "text/plain": [
       "0"
      ]
     },
     "execution_count": 53,
     "metadata": {},
     "output_type": "execute_result"
    }
   ],
   "source": [
    "pst.control_data.noptmax"
   ]
  },
  {
   "cell_type": "markdown",
   "metadata": {},
   "source": [
    "OK, so when we run PEST it will call the model once and then stop. If the next cell is sucessfull, then eveything is working. Check the folder, you should see PEST output files. (We will go into these and how to process PEST outcomes in subsequent tutorials)."
   ]
  },
  {
   "cell_type": "code",
   "execution_count": 54,
   "metadata": {
    "execution": {
     "iopub.execute_input": "2022-03-17T02:11:37.734255Z",
     "iopub.status.busy": "2022-03-17T02:11:37.734255Z",
     "iopub.status.idle": "2022-03-17T02:11:49.428064Z",
     "shell.execute_reply": "2022-03-17T02:11:49.429061Z"
    }
   },
   "outputs": [],
   "source": [
    "pyemu.os_utils.run('pestpp-glm freyberg_mf6.pst', cwd=template_ws)"
   ]
  },
  {
   "cell_type": "markdown",
   "metadata": {},
   "source": [
    "### 8. Generate Prior Parameter Ensemble\n",
    "\n",
    "Before we go, let's take a look at our prior and sample from it to create a parameter ensemble. We will record the ensemble for future use."
   ]
  },
  {
   "cell_type": "code",
   "execution_count": 55,
   "metadata": {
    "execution": {
     "iopub.execute_input": "2022-03-17T02:11:49.434048Z",
     "iopub.status.busy": "2022-03-17T02:11:49.434048Z",
     "iopub.status.idle": "2022-03-17T02:12:25.356056Z",
     "shell.execute_reply": "2022-03-17T02:12:25.356056Z"
    }
   },
   "outputs": [
    {
     "name": "stdout",
     "output_type": "stream",
     "text": [
      "2022-03-17 12:41:49.566727 starting: building prior covariance matrix\n"
     ]
    },
    {
     "name": "stdout",
     "output_type": "stream",
     "text": [
      "2022-03-17 12:42:01.069043 saving prior covariance matrix to file freyberg6_template\\prior_cov.jcb\n"
     ]
    },
    {
     "name": "stdout",
     "output_type": "stream",
     "text": [
      "2022-03-17 12:42:12.468812 finished: building prior covariance matrix took: 0:00:22.902085\n"
     ]
    },
    {
     "data": {
      "image/png": "[encoded data removed]",
      "text/plain": [
       "<Figure size 432x288 with 1 Axes>"
      ]
     },
     "metadata": {
      "needs_background": "light"
     },
     "output_type": "display_data"
    }
   ],
   "source": [
    "# build the prior covariance matrix and store it as a compresed bianry file (otherwise it can get huge!)\n",
    "if pf.pst.npar < 35000:  #if you have more than about 35K pars, the cov matrix becomes hard to handle\n",
    "    cov = pf.build_prior(fmt='coo', filename=os.path.join(template_ws,\"prior_cov.jcb\"))\n",
    "    # and take a peek at a slice of the matrix\n",
    "    try: \n",
    "        x = cov.x.copy()\n",
    "        x[x==0] = np.NaN\n",
    "        plt.imshow(x[-49:,-49:])\n",
    "    except:\n",
    "        pass"
   ]
  },
  {
   "cell_type": "markdown",
   "metadata": {},
   "source": [
    "And now generate a prior parameter ensemble. This step is relevant for using pestpp-ies in subsequent tutorials."
   ]
  },
  {
   "cell_type": "code",
   "execution_count": 56,
   "metadata": {
    "execution": {
     "iopub.execute_input": "2022-03-17T02:12:25.370018Z",
     "iopub.status.busy": "2022-03-17T02:12:25.369021Z",
     "iopub.status.idle": "2022-03-17T02:12:38.167109Z",
     "shell.execute_reply": "2022-03-17T02:12:38.166078Z"
    }
   },
   "outputs": [
    {
     "name": "stdout",
     "output_type": "stream",
     "text": [
      "2022-03-17 12:42:25.363036 starting: drawing realizations\n",
      "2022-03-17 12:42:25.534611 starting: spectral simulation for grid-scale pars\n"
     ]
    },
    {
     "name": "stdout",
     "output_type": "stream",
     "text": [
      "SpecSim.initialize() summary: full_delx X full_dely: 72 X 72\n",
      "2022-03-17 12:42:25.750999 starting: SpecSim: drawing 100 realization for group npf_k_layer1_gr with 706 pars, (log) variance 0.054284340773499334 (sill 0.054284340773499334)\n",
      "SpecSim.initialize() summary: full_delx X full_dely: 72 X 72\n",
      "2022-03-17 12:42:25.798923 finished: SpecSim: drawing 100 realization for group npf_k_layer1_gr with 706 pars, (log) variance 0.054284340773499334 (sill 0.054284340773499334) took: 0:00:00.047924\n",
      "2022-03-17 12:42:25.802861 starting: SpecSim: drawing 100 realization for group npf_k_layer2_gr with 706 pars, (log) variance 0.054284340773499334 (sill 0.054284340773499334)\n",
      "SpecSim.initialize() summary: full_delx X full_dely: 72 X 72\n"
     ]
    },
    {
     "name": "stdout",
     "output_type": "stream",
     "text": [
      "2022-03-17 12:42:25.849735 finished: SpecSim: drawing 100 realization for group npf_k_layer2_gr with 706 pars, (log) variance 0.054284340773499334 (sill 0.054284340773499334) took: 0:00:00.046874\n",
      "2022-03-17 12:42:25.854773 starting: SpecSim: drawing 100 realization for group npf_k_layer3_gr with 706 pars, (log) variance 0.054284340773499334 (sill 0.054284340773499334)\n",
      "SpecSim.initialize() summary: full_delx X full_dely: 72 X 72\n",
      "2022-03-17 12:42:25.900601 finished: SpecSim: drawing 100 realization for group npf_k_layer3_gr with 706 pars, (log) variance 0.054284340773499334 (sill 0.054284340773499334) took: 0:00:00.045828\n",
      "2022-03-17 12:42:25.906613 starting: SpecSim: drawing 100 realization for group npf_k33_layer1_gr with 706 pars, (log) variance 0.054284340773499334 (sill 0.054284340773499334)\n",
      "SpecSim.initialize() summary: full_delx X full_dely: 72 X 72\n",
      "2022-03-17 12:42:25.954455 finished: SpecSim: drawing 100 realization for group npf_k33_layer1_gr with 706 pars, (log) variance 0.054284340773499334 (sill 0.054284340773499334) took: 0:00:00.047842\n",
      "2022-03-17 12:42:25.958444 starting: SpecSim: drawing 100 realization for group npf_k33_layer2_gr with 706 pars, (log) variance 0.054284340773499334 (sill 0.054284340773499334)\n",
      "SpecSim.initialize() summary: full_delx X full_dely: 72 X 72\n",
      "2022-03-17 12:42:26.005352 finished: SpecSim: drawing 100 realization for group npf_k33_layer2_gr with 706 pars, (log) variance 0.054284340773499334 (sill 0.054284340773499334) took: 0:00:00.046908\n",
      "2022-03-17 12:42:26.010305 starting: SpecSim: drawing 100 realization for group npf_k33_layer3_gr with 706 pars, (log) variance 0.054284340773499334 (sill 0.054284340773499334)\n",
      "SpecSim.initialize() summary: full_delx X full_dely: 72 X 72\n"
     ]
    },
    {
     "name": "stdout",
     "output_type": "stream",
     "text": [
      "2022-03-17 12:42:26.057180 finished: SpecSim: drawing 100 realization for group npf_k33_layer3_gr with 706 pars, (log) variance 0.054284340773499334 (sill 0.054284340773499334) took: 0:00:00.046875\n",
      "2022-03-17 12:42:26.062167 starting: SpecSim: drawing 100 realization for group sto_ss_layer2_gr with 706 pars, (log) variance 0.054284340773499334 (sill 0.054284340773499334)\n",
      "SpecSim.initialize() summary: full_delx X full_dely: 72 X 72\n",
      "2022-03-17 12:42:26.109041 finished: SpecSim: drawing 100 realization for group sto_ss_layer2_gr with 706 pars, (log) variance 0.054284340773499334 (sill 0.054284340773499334) took: 0:00:00.046874\n",
      "2022-03-17 12:42:26.113030 starting: SpecSim: drawing 100 realization for group sto_ss_layer3_gr with 706 pars, (log) variance 0.054284340773499334 (sill 0.054284340773499334)\n",
      "SpecSim.initialize() summary: full_delx X full_dely: 72 X 72\n",
      "2022-03-17 12:42:26.158959 finished: SpecSim: drawing 100 realization for group sto_ss_layer3_gr with 706 pars, (log) variance 0.054284340773499334 (sill 0.054284340773499334) took: 0:00:00.045929\n",
      "2022-03-17 12:42:26.163928 starting: SpecSim: drawing 100 realization for group sto_sy_layer1_gr with 706 pars, (log) variance 0.054284340773499334 (sill 0.054284340773499334)\n",
      "SpecSim.initialize() summary: full_delx X full_dely: 72 X 72\n",
      "2022-03-17 12:42:26.209804 finished: SpecSim: drawing 100 realization for group sto_sy_layer1_gr with 706 pars, (log) variance 0.054284340773499334 (sill 0.054284340773499334) took: 0:00:00.045876\n",
      "2022-03-17 12:42:26.213797 starting: SpecSim: drawing 100 realization for group rch_recharge_1_gr with 706 pars, (log) variance 0.054284340773499334 (sill 0.054284340773499334)\n",
      "SpecSim.initialize() summary: full_delx X full_dely: 72 X 72\n"
     ]
    },
    {
     "name": "stdout",
     "output_type": "stream",
     "text": [
      "2022-03-17 12:42:26.260727 finished: SpecSim: drawing 100 realization for group rch_recharge_1_gr with 706 pars, (log) variance 0.054284340773499334 (sill 0.054284340773499334) took: 0:00:00.046930\n",
      "2022-03-17 12:42:26.264712 starting: SpecSim: drawing 100 realization for group rch_recharge_10_gr with 706 pars, (log) variance 0.054284340773499334 (sill 0.054284340773499334)\n",
      "SpecSim.initialize() summary: full_delx X full_dely: 72 X 72\n",
      "2022-03-17 12:42:26.311568 finished: SpecSim: drawing 100 realization for group rch_recharge_10_gr with 706 pars, (log) variance 0.054284340773499334 (sill 0.054284340773499334) took: 0:00:00.046856\n",
      "2022-03-17 12:42:26.315560 starting: SpecSim: drawing 100 realization for group rch_recharge_11_gr with 706 pars, (log) variance 0.054284340773499334 (sill 0.054284340773499334)\n",
      "SpecSim.initialize() summary: full_delx X full_dely: 72 X 72\n",
      "2022-03-17 12:42:26.362436 finished: SpecSim: drawing 100 realization for group rch_recharge_11_gr with 706 pars, (log) variance 0.054284340773499334 (sill 0.054284340773499334) took: 0:00:00.046876\n",
      "2022-03-17 12:42:26.366388 starting: SpecSim: drawing 100 realization for group rch_recharge_12_gr with 706 pars, (log) variance 0.054284340773499334 (sill 0.054284340773499334)\n",
      "SpecSim.initialize() summary: full_delx X full_dely: 72 X 72\n",
      "2022-03-17 12:42:26.412266 finished: SpecSim: drawing 100 realization for group rch_recharge_12_gr with 706 pars, (log) variance 0.054284340773499334 (sill 0.054284340773499334) took: 0:00:00.045878\n",
      "2022-03-17 12:42:26.416255 starting: SpecSim: drawing 100 realization for group rch_recharge_13_gr with 706 pars, (log) variance 0.054284340773499334 (sill 0.054284340773499334)\n",
      "SpecSim.initialize() summary: full_delx X full_dely: 72 X 72\n"
     ]
    },
    {
     "name": "stdout",
     "output_type": "stream",
     "text": [
      "2022-03-17 12:42:26.464128 finished: SpecSim: drawing 100 realization for group rch_recharge_13_gr with 706 pars, (log) variance 0.054284340773499334 (sill 0.054284340773499334) took: 0:00:00.047873\n",
      "2022-03-17 12:42:26.468117 starting: SpecSim: drawing 100 realization for group rch_recharge_14_gr with 706 pars, (log) variance 0.054284340773499334 (sill 0.054284340773499334)\n",
      "SpecSim.initialize() summary: full_delx X full_dely: 72 X 72\n",
      "2022-03-17 12:42:26.514992 finished: SpecSim: drawing 100 realization for group rch_recharge_14_gr with 706 pars, (log) variance 0.054284340773499334 (sill 0.054284340773499334) took: 0:00:00.046875\n",
      "2022-03-17 12:42:26.518981 starting: SpecSim: drawing 100 realization for group rch_recharge_15_gr with 706 pars, (log) variance 0.054284340773499334 (sill 0.054284340773499334)\n",
      "SpecSim.initialize() summary: full_delx X full_dely: 72 X 72\n",
      "2022-03-17 12:42:26.565933 finished: SpecSim: drawing 100 realization for group rch_recharge_15_gr with 706 pars, (log) variance 0.054284340773499334 (sill 0.054284340773499334) took: 0:00:00.046952\n",
      "2022-03-17 12:42:26.569927 starting: SpecSim: drawing 100 realization for group rch_recharge_16_gr with 706 pars, (log) variance 0.054284340773499334 (sill 0.054284340773499334)\n",
      "SpecSim.initialize() summary: full_delx X full_dely: 72 X 72\n",
      "2022-03-17 12:42:26.615798 finished: SpecSim: drawing 100 realization for group rch_recharge_16_gr with 706 pars, (log) variance 0.054284340773499334 (sill 0.054284340773499334) took: 0:00:00.045871\n",
      "2022-03-17 12:42:26.620830 starting: SpecSim: drawing 100 realization for group rch_recharge_17_gr with 706 pars, (log) variance 0.054284340773499334 (sill 0.054284340773499334)\n",
      "SpecSim.initialize() summary: full_delx X full_dely: 72 X 72\n"
     ]
    },
    {
     "name": "stdout",
     "output_type": "stream",
     "text": [
      "2022-03-17 12:42:26.666627 finished: SpecSim: drawing 100 realization for group rch_recharge_17_gr with 706 pars, (log) variance 0.054284340773499334 (sill 0.054284340773499334) took: 0:00:00.045797\n",
      "2022-03-17 12:42:26.670829 starting: SpecSim: drawing 100 realization for group rch_recharge_18_gr with 706 pars, (log) variance 0.054284340773499334 (sill 0.054284340773499334)\n",
      "SpecSim.initialize() summary: full_delx X full_dely: 72 X 72\n",
      "2022-03-17 12:42:26.717526 finished: SpecSim: drawing 100 realization for group rch_recharge_18_gr with 706 pars, (log) variance 0.054284340773499334 (sill 0.054284340773499334) took: 0:00:00.046697\n",
      "2022-03-17 12:42:26.721513 starting: SpecSim: drawing 100 realization for group rch_recharge_19_gr with 706 pars, (log) variance 0.054284340773499334 (sill 0.054284340773499334)\n",
      "SpecSim.initialize() summary: full_delx X full_dely: 72 X 72\n",
      "2022-03-17 12:42:26.767394 finished: SpecSim: drawing 100 realization for group rch_recharge_19_gr with 706 pars, (log) variance 0.054284340773499334 (sill 0.054284340773499334) took: 0:00:00.045881\n",
      "2022-03-17 12:42:26.771347 starting: SpecSim: drawing 100 realization for group rch_recharge_2_gr with 706 pars, (log) variance 0.054284340773499334 (sill 0.054284340773499334)\n",
      "SpecSim.initialize() summary: full_delx X full_dely: 72 X 72\n",
      "2022-03-17 12:42:26.817225 finished: SpecSim: drawing 100 realization for group rch_recharge_2_gr with 706 pars, (log) variance 0.054284340773499334 (sill 0.054284340773499334) took: 0:00:00.045878\n",
      "2022-03-17 12:42:26.822244 starting: SpecSim: drawing 100 realization for group rch_recharge_20_gr with 706 pars, (log) variance 0.054284340773499334 (sill 0.054284340773499334)\n",
      "SpecSim.initialize() summary: full_delx X full_dely: 72 X 72\n"
     ]
    },
    {
     "name": "stdout",
     "output_type": "stream",
     "text": [
      "2022-03-17 12:42:26.869086 finished: SpecSim: drawing 100 realization for group rch_recharge_20_gr with 706 pars, (log) variance 0.054284340773499334 (sill 0.054284340773499334) took: 0:00:00.046842\n",
      "2022-03-17 12:42:26.874125 starting: SpecSim: drawing 100 realization for group rch_recharge_21_gr with 706 pars, (log) variance 0.054284340773499334 (sill 0.054284340773499334)\n",
      "SpecSim.initialize() summary: full_delx X full_dely: 72 X 72\n",
      "2022-03-17 12:42:26.920948 finished: SpecSim: drawing 100 realization for group rch_recharge_21_gr with 706 pars, (log) variance 0.054284340773499334 (sill 0.054284340773499334) took: 0:00:00.046823\n",
      "2022-03-17 12:42:26.924968 starting: SpecSim: drawing 100 realization for group rch_recharge_22_gr with 706 pars, (log) variance 0.054284340773499334 (sill 0.054284340773499334)\n",
      "SpecSim.initialize() summary: full_delx X full_dely: 72 X 72\n",
      "2022-03-17 12:42:26.971862 finished: SpecSim: drawing 100 realization for group rch_recharge_22_gr with 706 pars, (log) variance 0.054284340773499334 (sill 0.054284340773499334) took: 0:00:00.046894\n",
      "2022-03-17 12:42:26.976849 starting: SpecSim: drawing 100 realization for group rch_recharge_23_gr with 706 pars, (log) variance 0.054284340773499334 (sill 0.054284340773499334)\n",
      "SpecSim.initialize() summary: full_delx X full_dely: 72 X 72\n",
      "2022-03-17 12:42:27.022710 finished: SpecSim: drawing 100 realization for group rch_recharge_23_gr with 706 pars, (log) variance 0.054284340773499334 (sill 0.054284340773499334) took: 0:00:00.045861\n",
      "2022-03-17 12:42:27.027661 starting: SpecSim: drawing 100 realization for group rch_recharge_24_gr with 706 pars, (log) variance 0.054284340773499334 (sill 0.054284340773499334)\n",
      "SpecSim.initialize() summary: full_delx X full_dely: 72 X 72\n"
     ]
    },
    {
     "name": "stdout",
     "output_type": "stream",
     "text": [
      "2022-03-17 12:42:27.074536 finished: SpecSim: drawing 100 realization for group rch_recharge_24_gr with 706 pars, (log) variance 0.054284340773499334 (sill 0.054284340773499334) took: 0:00:00.046875\n",
      "2022-03-17 12:42:27.079523 starting: SpecSim: drawing 100 realization for group rch_recharge_25_gr with 706 pars, (log) variance 0.054284340773499334 (sill 0.054284340773499334)\n",
      "SpecSim.initialize() summary: full_delx X full_dely: 72 X 72\n",
      "2022-03-17 12:42:27.126449 finished: SpecSim: drawing 100 realization for group rch_recharge_25_gr with 706 pars, (log) variance 0.054284340773499334 (sill 0.054284340773499334) took: 0:00:00.046926\n",
      "2022-03-17 12:42:27.131384 starting: SpecSim: drawing 100 realization for group rch_recharge_3_gr with 706 pars, (log) variance 0.054284340773499334 (sill 0.054284340773499334)\n",
      "SpecSim.initialize() summary: full_delx X full_dely: 72 X 72\n",
      "2022-03-17 12:42:27.177923 finished: SpecSim: drawing 100 realization for group rch_recharge_3_gr with 706 pars, (log) variance 0.054284340773499334 (sill 0.054284340773499334) took: 0:00:00.046539\n",
      "2022-03-17 12:42:27.182914 starting: SpecSim: drawing 100 realization for group rch_recharge_4_gr with 706 pars, (log) variance 0.054284340773499334 (sill 0.054284340773499334)\n",
      "SpecSim.initialize() summary: full_delx X full_dely: 72 X 72\n",
      "2022-03-17 12:42:27.230785 finished: SpecSim: drawing 100 realization for group rch_recharge_4_gr with 706 pars, (log) variance 0.054284340773499334 (sill 0.054284340773499334) took: 0:00:00.047871\n",
      "2022-03-17 12:42:27.234718 starting: SpecSim: drawing 100 realization for group rch_recharge_5_gr with 706 pars, (log) variance 0.054284340773499334 (sill 0.054284340773499334)\n",
      "SpecSim.initialize() summary: full_delx X full_dely: 72 X 72\n"
     ]
    },
    {
     "name": "stdout",
     "output_type": "stream",
     "text": [
      "2022-03-17 12:42:27.281593 finished: SpecSim: drawing 100 realization for group rch_recharge_5_gr with 706 pars, (log) variance 0.054284340773499334 (sill 0.054284340773499334) took: 0:00:00.046875\n",
      "2022-03-17 12:42:27.285583 starting: SpecSim: drawing 100 realization for group rch_recharge_6_gr with 706 pars, (log) variance 0.054284340773499334 (sill 0.054284340773499334)\n",
      "SpecSim.initialize() summary: full_delx X full_dely: 72 X 72\n",
      "2022-03-17 12:42:27.330513 finished: SpecSim: drawing 100 realization for group rch_recharge_6_gr with 706 pars, (log) variance 0.054284340773499334 (sill 0.054284340773499334) took: 0:00:00.044930\n",
      "2022-03-17 12:42:27.334452 starting: SpecSim: drawing 100 realization for group rch_recharge_7_gr with 706 pars, (log) variance 0.054284340773499334 (sill 0.054284340773499334)\n",
      "SpecSim.initialize() summary: full_delx X full_dely: 72 X 72\n",
      "2022-03-17 12:42:27.379383 finished: SpecSim: drawing 100 realization for group rch_recharge_7_gr with 706 pars, (log) variance 0.054284340773499334 (sill 0.054284340773499334) took: 0:00:00.044931\n",
      "2022-03-17 12:42:27.383321 starting: SpecSim: drawing 100 realization for group rch_recharge_8_gr with 706 pars, (log) variance 0.054284340773499334 (sill 0.054284340773499334)\n",
      "SpecSim.initialize() summary: full_delx X full_dely: 72 X 72\n",
      "2022-03-17 12:42:27.429198 finished: SpecSim: drawing 100 realization for group rch_recharge_8_gr with 706 pars, (log) variance 0.054284340773499334 (sill 0.054284340773499334) took: 0:00:00.045877\n",
      "2022-03-17 12:42:27.433187 starting: SpecSim: drawing 100 realization for group rch_recharge_9_gr with 706 pars, (log) variance 0.054284340773499334 (sill 0.054284340773499334)\n",
      "SpecSim.initialize() summary: full_delx X full_dely: 72 X 72\n",
      "2022-03-17 12:42:27.478103 finished: SpecSim: drawing 100 realization for group rch_recharge_9_gr with 706 pars, (log) variance 0.054284340773499334 (sill 0.054284340773499334) took: 0:00:00.044916\n"
     ]
    },
    {
     "name": "stdout",
     "output_type": "stream",
     "text": [
      "SpecSim.initialize() summary: full_delx X full_dely: 72 X 72\n",
      "2022-03-17 12:42:27.671604 finished: spectral simulation for grid-scale pars took: 0:00:02.136993\n",
      "2022-03-17 12:42:27.671604 starting: Drawing non-specsim pars\n",
      "building diagonal cov\n"
     ]
    },
    {
     "name": "stdout",
     "output_type": "stream",
     "text": [
      "processing  name:struct1,nugget:0.0,structures:\n",
      "name:var1,contribution:1.0,a:1000.0,anisotropy:1.0,bearing:0.0\n",
      "\n",
      "working on pargroups ['npf_k_layer1_pp']\n",
      "build cov matrix\n",
      "done\n",
      "getting diag var cov 32\n",
      "scaling full cov by diag var cov\n",
      "working on pargroups ['npf_k_layer2_pp']\n",
      "build cov matrix\n",
      "done\n",
      "getting diag var cov 32\n",
      "scaling full cov by diag var cov\n",
      "working on pargroups ['npf_k_layer3_pp']\n",
      "build cov matrix\n"
     ]
    },
    {
     "name": "stdout",
     "output_type": "stream",
     "text": [
      "done\n",
      "getting diag var cov 32\n",
      "scaling full cov by diag var cov\n",
      "working on pargroups ['npf_k33_layer1_pp']\n",
      "build cov matrix\n",
      "done\n",
      "getting diag var cov 32\n",
      "scaling full cov by diag var cov\n"
     ]
    },
    {
     "name": "stdout",
     "output_type": "stream",
     "text": [
      "working on pargroups ['npf_k33_layer2_pp']\n",
      "build cov matrix\n",
      "done\n",
      "getting diag var cov 32\n",
      "scaling full cov by diag var cov\n",
      "working on pargroups ['npf_k33_layer3_pp']\n",
      "build cov matrix\n",
      "done\n",
      "getting diag var cov 32\n",
      "scaling full cov by diag var cov\n",
      "working on pargroups ['sto_ss_layer2_pp']\n"
     ]
    },
    {
     "name": "stdout",
     "output_type": "stream",
     "text": [
      "build cov matrix\n",
      "done\n",
      "getting diag var cov 32\n",
      "scaling full cov by diag var cov\n",
      "working on pargroups ['sto_ss_layer3_pp']\n",
      "build cov matrix\n",
      "done\n",
      "getting diag var cov 32\n",
      "scaling full cov by diag var cov\n",
      "working on pargroups ['sto_sy_layer1_pp']\n"
     ]
    },
    {
     "name": "stdout",
     "output_type": "stream",
     "text": [
      "build cov matrix\n",
      "done\n",
      "getting diag var cov 32\n",
      "scaling full cov by diag var cov\n",
      "working on pargroups ['rch_recharge_1_pp']\n",
      "build cov matrix\n",
      "done\n",
      "getting diag var cov 32\n",
      "scaling full cov by diag var cov\n",
      "working on pargroups ['rch_recharge_10_pp']\n"
     ]
    },
    {
     "name": "stdout",
     "output_type": "stream",
     "text": [
      "build cov matrix\n",
      "done\n",
      "getting diag var cov 32\n",
      "scaling full cov by diag var cov\n",
      "working on pargroups ['rch_recharge_11_pp']\n",
      "build cov matrix\n",
      "done\n",
      "getting diag var cov 32\n",
      "scaling full cov by diag var cov\n"
     ]
    },
    {
     "name": "stdout",
     "output_type": "stream",
     "text": [
      "working on pargroups ['rch_recharge_12_pp']\n",
      "build cov matrix\n",
      "done\n",
      "getting diag var cov 32\n",
      "scaling full cov by diag var cov\n",
      "working on pargroups ['rch_recharge_13_pp']\n",
      "build cov matrix\n",
      "done\n",
      "getting diag var cov 32\n",
      "scaling full cov by diag var cov\n"
     ]
    },
    {
     "name": "stdout",
     "output_type": "stream",
     "text": [
      "working on pargroups ['rch_recharge_14_pp']\n",
      "build cov matrix\n",
      "done\n",
      "getting diag var cov 32\n",
      "scaling full cov by diag var cov\n",
      "working on pargroups ['rch_recharge_15_pp']\n",
      "build cov matrix\n",
      "done\n",
      "getting diag var cov 32\n",
      "scaling full cov by diag var cov\n",
      "working on pargroups ['rch_recharge_16_pp']\n"
     ]
    },
    {
     "name": "stdout",
     "output_type": "stream",
     "text": [
      "build cov matrix\n",
      "done\n",
      "getting diag var cov 32\n",
      "scaling full cov by diag var cov\n",
      "working on pargroups ['rch_recharge_17_pp']\n",
      "build cov matrix\n",
      "done\n",
      "getting diag var cov 32\n",
      "scaling full cov by diag var cov\n",
      "working on pargroups ['rch_recharge_18_pp']\n",
      "build cov matrix\n",
      "done\n",
      "getting diag var cov 32\n",
      "scaling full cov by diag var cov\n"
     ]
    },
    {
     "name": "stdout",
     "output_type": "stream",
     "text": [
      "working on pargroups ['rch_recharge_19_pp']\n",
      "build cov matrix\n",
      "done\n",
      "getting diag var cov 32\n",
      "scaling full cov by diag var cov\n",
      "working on pargroups ['rch_recharge_2_pp']\n",
      "build cov matrix\n",
      "done\n",
      "getting diag var cov 32\n",
      "scaling full cov by diag var cov\n",
      "working on pargroups ['rch_recharge_20_pp']\n"
     ]
    },
    {
     "name": "stdout",
     "output_type": "stream",
     "text": [
      "build cov matrix\n",
      "done\n",
      "getting diag var cov 32\n",
      "scaling full cov by diag var cov\n",
      "working on pargroups ['rch_recharge_21_pp']\n",
      "build cov matrix\n",
      "done\n",
      "getting diag var cov 32\n",
      "scaling full cov by diag var cov\n",
      "working on pargroups ['rch_recharge_22_pp']\n"
     ]
    },
    {
     "name": "stdout",
     "output_type": "stream",
     "text": [
      "build cov matrix\n",
      "done\n",
      "getting diag var cov 32\n",
      "scaling full cov by diag var cov\n",
      "working on pargroups ['rch_recharge_23_pp']\n",
      "build cov matrix\n",
      "done\n",
      "getting diag var cov 32\n",
      "scaling full cov by diag var cov\n",
      "working on pargroups ['rch_recharge_24_pp']\n"
     ]
    },
    {
     "name": "stdout",
     "output_type": "stream",
     "text": [
      "build cov matrix\n",
      "done\n",
      "getting diag var cov 32\n",
      "scaling full cov by diag var cov\n",
      "working on pargroups ['rch_recharge_25_pp']\n",
      "build cov matrix\n",
      "done\n",
      "getting diag var cov 32\n",
      "scaling full cov by diag var cov\n",
      "working on pargroups ['rch_recharge_3_pp']\n"
     ]
    },
    {
     "name": "stdout",
     "output_type": "stream",
     "text": [
      "build cov matrix\n",
      "done\n",
      "getting diag var cov 32\n",
      "scaling full cov by diag var cov\n",
      "working on pargroups ['rch_recharge_4_pp']\n",
      "build cov matrix\n",
      "done\n",
      "getting diag var cov 32\n",
      "scaling full cov by diag var cov\n",
      "working on pargroups ['rch_recharge_5_pp']\n"
     ]
    },
    {
     "name": "stdout",
     "output_type": "stream",
     "text": [
      "build cov matrix\n",
      "done\n",
      "getting diag var cov 32\n",
      "scaling full cov by diag var cov\n",
      "working on pargroups ['rch_recharge_6_pp']\n",
      "build cov matrix\n",
      "done\n",
      "getting diag var cov 32\n",
      "scaling full cov by diag var cov\n",
      "working on pargroups ['rch_recharge_7_pp']\n"
     ]
    },
    {
     "name": "stdout",
     "output_type": "stream",
     "text": [
      "build cov matrix\n",
      "done\n",
      "getting diag var cov 32\n",
      "scaling full cov by diag var cov\n",
      "working on pargroups ['rch_recharge_8_pp']\n",
      "build cov matrix\n",
      "done\n",
      "getting diag var cov 32\n",
      "scaling full cov by diag var cov\n"
     ]
    },
    {
     "name": "stdout",
     "output_type": "stream",
     "text": [
      "working on pargroups ['rch_recharge_9_pp']\n",
      "build cov matrix\n",
      "done\n",
      "getting diag var cov 32\n",
      "scaling full cov by diag var cov\n",
      "working on pargroups ['ghbcond_gr']\n",
      "build cov matrix\n",
      "done\n",
      "getting diag var cov 10\n",
      "scaling full cov by diag var cov\n"
     ]
    },
    {
     "name": "stdout",
     "output_type": "stream",
     "text": [
      "working on pargroups ['ghbcond_gr']\n",
      "build cov matrix\n",
      "done\n",
      "getting diag var cov 10\n",
      "scaling full cov by diag var cov\n",
      "working on pargroups ['ghbcond_gr']\n",
      "build cov matrix\n",
      "done\n",
      "getting diag var cov 10\n",
      "scaling full cov by diag var cov\n",
      "working on pargroups ['sfrcond_gr']\n",
      "build cov matrix\n",
      "done\n",
      "getting diag var cov 40\n",
      "scaling full cov by diag var cov\n"
     ]
    },
    {
     "name": "stdout",
     "output_type": "stream",
     "text": [
      "processing  name:struct1,nugget:0.0,structures:\n",
      "name:var1,contribution:1.0,a:60.0,anisotropy:1.0,bearing:0.0\n",
      "\n",
      "working on pargroups ['wel_cst']\n",
      "build cov matrix\n",
      "done\n",
      "getting diag var cov 25\n",
      "scaling full cov by diag var cov\n",
      "working on pargroups ['sfr_gr']\n",
      "build cov matrix\n",
      "done\n",
      "getting diag var cov 25\n",
      "scaling full cov by diag var cov\n",
      "processing  name:struct1,nugget:0.0,structures:\n",
      "name:var1,contribution:1.0,a:1000.0,anisotropy:1.0,bearing:0.0\n",
      "\n",
      "working on pargroups ['ghbhead_gr']\n",
      "build cov matrix\n",
      "done\n",
      "getting diag var cov 10\n",
      "scaling full cov by diag var cov\n"
     ]
    },
    {
     "name": "stdout",
     "output_type": "stream",
     "text": [
      "working on pargroups ['ghbhead_gr']\n",
      "build cov matrix\n",
      "done\n",
      "getting diag var cov 10\n",
      "scaling full cov by diag var cov\n",
      "working on pargroups ['ghbhead_gr']\n",
      "build cov matrix\n",
      "done\n",
      "getting diag var cov 10\n",
      "scaling full cov by diag var cov\n",
      "adding remaining parameters to diagonal\n"
     ]
    },
    {
     "name": "stdout",
     "output_type": "stream",
     "text": [
      "2022-03-17 12:42:35.018515 finished: Drawing non-specsim pars took: 0:00:07.346911\n"
     ]
    },
    {
     "name": "stdout",
     "output_type": "stream",
     "text": [
      "2022-03-17 12:42:37.105245 finished: drawing realizations took: 0:00:11.742209\n"
     ]
    },
    {
     "name": "stdout",
     "output_type": "stream",
     "text": [
      "noptmax:0, npar_adj:25454, nnz_obs:920\n"
     ]
    }
   ],
   "source": [
    "pe = pf.draw(num_reals=100, use_specsim=True) # draw parameters from the prior distribution\n",
    "pe.enforce() # enforces parameter bounds\n",
    "pe.to_binary(os.path.join(template_ws,\"prior_pe.jcb\")) #writes the paramter ensemble to binary file\n",
    "\n",
    "# final tidy-up\n",
    "pst.pestpp_options[\"ies_parameter_ensemble\"] = \"prior_pe.jcb\" #adds pest++ options to the control file\n",
    "pst.write(os.path.join(template_ws, 'freyberg_mf6.pst')) # re-writes the control file with the new pest++ options"
   ]
  }
 ],
 "metadata": {
  "interpreter": {
   "hash": "b3ba2566441a7c06988d0923437866b63cedc61552a5af99d1f4fb67d367b25f"
  },
  "kernelspec": {
   "display_name": "Python 3 (ipykernel)",
   "language": "python",
   "name": "python3"
  },
  "language_info": {
   "codemirror_mode": {
    "name": "ipython",
    "version": 3
   },
   "file_extension": ".py",
   "mimetype": "text/x-python",
   "name": "python",
   "nbconvert_exporter": "python",
   "pygments_lexer": "ipython3",
   "version": "3.7.9"
  }
 },
 "nbformat": 4,
 "nbformat_minor": 2
}
