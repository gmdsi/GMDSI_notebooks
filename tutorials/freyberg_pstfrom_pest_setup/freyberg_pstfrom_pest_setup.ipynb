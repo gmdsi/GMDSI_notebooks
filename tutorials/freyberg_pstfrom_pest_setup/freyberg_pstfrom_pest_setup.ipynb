{
 "cells": [
  {
   "cell_type": "markdown",
   "metadata": {},
   "source": [
    "# Setup the PEST(++) interface around the modified Freyberg model\n",
    "\n",
    "In this notebook, we will construct a complex model independent (non-intrusive) interface around an existing `MODFLOW6` model using `pyEMU`. We assume that the reader is at least partially familiar with PEST(++) file formats and working philosophy. \n",
    "\n",
    "The modified Freyberg groundwater flow model has been constructed and is described in a previous notebook from this series. We will construct the entire PEST(++) interface from scratch here. This setup will be built upon in subsequent tutorials. \n",
    "\n",
    "We will rely heavily on the `pyemu.PstFrom` class. Although here we employ it with a `MODFLOW6` model, `PstFrom` is designed to be general and software independent (mostly). Some features are only available for `MODFLOW` models (e.g. `SpatialReference`).\n",
    "\n",
    "The `PstFrom` class automates the construction of high-dimensional PEST(++) interfaces with all the bells and whistles. It provides easy-to-use functions to process model input and output files into PEST(++) datasets. It can assist with setting up spatio-temporaly varying parameters. It handles the generation of geostatisical prior covariance matrices and ensembles. It automates writting a \"model run\" script. It provides tools to add custom pre- and post-processing functions to this script. It makes adding tweaks and fixes to the PEST(++) interface a breeze. All of this from the comfort of your favourite Python IDE.\n",
    "\n",
    "During this tutorial we are going to construct a PEST dataset. Amongst other things, we will demonstrate:\n",
    " - how to add observations & parameters from model output & input files;\n",
    " - how to add pre- and post-processing functions to the \"model run\" script;\n",
    " - how to generate geostatistical structures for spatialy and temporally correlated parameters;\n",
    " - how to edit parameter/observation data sections;\n",
    " - how to generate a prior parameter covariance matrix and prior parameter ensemble;\n",
    "\n",
    "\n",
    "\n",
    "First, let's get our model files and sort out some admin.\n"
   ]
  },
  {
   "cell_type": "markdown",
   "metadata": {},
   "source": [
    "### 1. Admin & Organize Folders\n",
    "First some admin. Load the dependencies and organize model folders. "
   ]
  },
  {
   "cell_type": "code",
   "execution_count": 1,
   "metadata": {
    "execution": {
     "iopub.execute_input": "2022-03-18T04:41:17.080601Z",
     "iopub.status.busy": "2022-03-18T04:41:17.080601Z",
     "iopub.status.idle": "2022-03-18T04:41:18.151761Z",
     "shell.execute_reply": "2022-03-18T04:41:18.150764Z"
    }
   },
   "outputs": [],
   "source": [
    "import sys\n",
    "import os\n",
    "import shutil\n",
    "import platform\n",
    "import warnings\n",
    "warnings.filterwarnings(\"ignore\")\n",
    "warnings.filterwarnings(\"ignore\", category=DeprecationWarning) \n",
    "import pyemu\n",
    "import flopy\n",
    "import pandas as pd\n",
    "import numpy as np\n",
    "import matplotlib.pyplot as plt;"
   ]
  },
  {
   "cell_type": "markdown",
   "metadata": {},
   "source": [
    "We will be calling a few external programs throughout this tutorial. Namely, MODFLOW 6 and PEST++GLM. For the purposes of the tutorial(s), we have included executables in the tutorial repository. They are in the `bin` folder. \n",
    "\n",
    "Preferably, executables should be located in a folder that is cited in your computer’s PATH environment variable. Doing so allows you to run them from a command prompt open to any other folder without having to include the full path to these executables in the command to run them. \n",
    "\n",
    "Sometimes this may not be practical. In such cases, we can simply place the executables in the folder from which they will be executed.  So, let's copy the necessary executables into our working folder:\n"
   ]
  },
  {
   "cell_type": "code",
   "execution_count": 2,
   "metadata": {
    "execution": {
     "iopub.execute_input": "2022-03-18T04:41:18.154753Z",
     "iopub.status.busy": "2022-03-18T04:41:18.154753Z",
     "iopub.status.idle": "2022-03-18T04:41:18.440072Z",
     "shell.execute_reply": "2022-03-18T04:41:18.440072Z"
    }
   },
   "outputs": [],
   "source": [
    "# specify a temporary folder; we will gather all our model and executable files here first\n",
    "# this is to ensure we don't mess up our original model files\n",
    "tmp_d = os.path.join('freyberg_mf6')\n",
    "\n",
    "# get the necessary executables; OS agnostic\n",
    "bin_dir = os.path.join('..','..','bin')\n",
    "\n",
    "if \"window\" in platform.platform().lower():\n",
    "    exe_files = [f for f in os.listdir(bin_dir) if f.endswith('exe')]\n",
    "else:\n",
    "    exe_files = [f for f in os.listdir(bin_dir) if not f.endswith('exe')]\n",
    "\n",
    "# remove existing folder if it already exists\n",
    "if os.path.exists(tmp_d):\n",
    "    shutil.rmtree(tmp_d)\n",
    "\n",
    "# make the folder\n",
    "os.mkdir(tmp_d)\n",
    "\n",
    "# copy executables across\n",
    "for exe_file in exe_files:\n",
    "    shutil.copy2(os.path.join(bin_dir, exe_file),os.path.join(tmp_d,exe_file))"
   ]
  },
  {
   "cell_type": "markdown",
   "metadata": {},
   "source": [
    "Let's copy the original model folder into a new working directory, just to ensure we don't mess up the base files."
   ]
  },
  {
   "cell_type": "code",
   "execution_count": 3,
   "metadata": {
    "execution": {
     "iopub.execute_input": "2022-03-18T04:41:18.444061Z",
     "iopub.status.busy": "2022-03-18T04:41:18.444061Z",
     "iopub.status.idle": "2022-03-18T04:41:18.744911Z",
     "shell.execute_reply": "2022-03-18T04:41:18.745940Z"
    }
   },
   "outputs": [],
   "source": [
    "# folder containing original model files\n",
    "org_d = os.path.join('..', '..', 'models', 'freyberg_mf6')\n",
    "\n",
    "# copy files across to the temp folder\n",
    "for f in os.listdir(org_d):\n",
    "    shutil.copy2(os.path.join(org_d,f), os.path.join(tmp_d,f))"
   ]
  },
  {
   "cell_type": "markdown",
   "metadata": {},
   "source": [
    "If you inspect the model folder, you will see that all the `MODFLOW6` model files have been written \"externally\". This is key for working with the `PstFrom` class (or with PEST(++) in general, really). Essentialy, all pertinent model inputs have been written as independent files in either array or list format. This makes it easier for us to programiatically access and re-write the values in these files.\n",
    "\n",
    "Array files contain a data type (usually floating points). List files will have a few columns that contain index information and then columns of floating point values (they have a tabular format; think `.csv` files or DataFrames). The `PstFrom` class provides methods for processing these file types into a PEST(++) dataset. \n",
    "\n"
   ]
  },
  {
   "cell_type": "code",
   "execution_count": 4,
   "metadata": {
    "execution": {
     "iopub.execute_input": "2022-03-18T04:41:18.748902Z",
     "iopub.status.busy": "2022-03-18T04:41:18.748902Z",
     "iopub.status.idle": "2022-03-18T04:41:18.757876Z",
     "shell.execute_reply": "2022-03-18T04:41:18.757876Z"
    }
   },
   "outputs": [
    {
     "data": {
      "text/plain": [
       "['freyberg6.dis',\n",
       " 'freyberg6.dis.grb',\n",
       " 'freyberg6.dis_botm_layer1.txt',\n",
       " 'freyberg6.dis_botm_layer2.txt',\n",
       " 'freyberg6.dis_botm_layer3.txt',\n",
       " 'freyberg6.dis_delc.txt',\n",
       " 'freyberg6.dis_delr.txt',\n",
       " 'freyberg6.dis_idomain_layer1.txt',\n",
       " 'freyberg6.dis_idomain_layer2.txt',\n",
       " 'freyberg6.dis_idomain_layer3.txt',\n",
       " 'freyberg6.dis_top.txt',\n",
       " 'freyberg6.ghb',\n",
       " 'freyberg6.ghb_stress_period_data_1.txt',\n",
       " 'freyberg6.ic',\n",
       " 'freyberg6.ic_strt_layer1.txt',\n",
       " 'freyberg6.ic_strt_layer2.txt',\n",
       " 'freyberg6.ic_strt_layer3.txt',\n",
       " 'freyberg6.ims',\n",
       " 'freyberg6.lst',\n",
       " 'freyberg6.nam',\n",
       " 'freyberg6.npf',\n",
       " 'freyberg6.npf_icelltype_layer1.txt',\n",
       " 'freyberg6.npf_icelltype_layer2.txt',\n",
       " 'freyberg6.npf_icelltype_layer3.txt',\n",
       " 'freyberg6.npf_k33_layer1.txt',\n",
       " 'freyberg6.npf_k33_layer2.txt',\n",
       " 'freyberg6.npf_k33_layer3.txt',\n",
       " 'freyberg6.npf_k_layer1.txt',\n",
       " 'freyberg6.npf_k_layer2.txt',\n",
       " 'freyberg6.npf_k_layer3.txt',\n",
       " 'freyberg6.oc',\n",
       " 'freyberg6.rch',\n",
       " 'freyberg6.rch_recharge_1.txt',\n",
       " 'freyberg6.rch_recharge_10.txt',\n",
       " 'freyberg6.rch_recharge_11.txt',\n",
       " 'freyberg6.rch_recharge_12.txt',\n",
       " 'freyberg6.rch_recharge_13.txt',\n",
       " 'freyberg6.rch_recharge_14.txt',\n",
       " 'freyberg6.rch_recharge_15.txt',\n",
       " 'freyberg6.rch_recharge_16.txt',\n",
       " 'freyberg6.rch_recharge_17.txt',\n",
       " 'freyberg6.rch_recharge_18.txt',\n",
       " 'freyberg6.rch_recharge_19.txt',\n",
       " 'freyberg6.rch_recharge_2.txt',\n",
       " 'freyberg6.rch_recharge_20.txt',\n",
       " 'freyberg6.rch_recharge_21.txt',\n",
       " 'freyberg6.rch_recharge_22.txt',\n",
       " 'freyberg6.rch_recharge_23.txt',\n",
       " 'freyberg6.rch_recharge_24.txt',\n",
       " 'freyberg6.rch_recharge_25.txt',\n",
       " 'freyberg6.rch_recharge_3.txt',\n",
       " 'freyberg6.rch_recharge_4.txt',\n",
       " 'freyberg6.rch_recharge_5.txt',\n",
       " 'freyberg6.rch_recharge_6.txt',\n",
       " 'freyberg6.rch_recharge_7.txt',\n",
       " 'freyberg6.rch_recharge_8.txt',\n",
       " 'freyberg6.rch_recharge_9.txt',\n",
       " 'freyberg6.sfr',\n",
       " 'freyberg6.sfr_connectiondata.txt',\n",
       " 'freyberg6.sfr_packagedata.txt',\n",
       " 'freyberg6.sfr_perioddata_1.txt',\n",
       " 'freyberg6.sfr_perioddata_10.txt',\n",
       " 'freyberg6.sfr_perioddata_11.txt',\n",
       " 'freyberg6.sfr_perioddata_12.txt',\n",
       " 'freyberg6.sfr_perioddata_13.txt',\n",
       " 'freyberg6.sfr_perioddata_14.txt',\n",
       " 'freyberg6.sfr_perioddata_15.txt',\n",
       " 'freyberg6.sfr_perioddata_16.txt',\n",
       " 'freyberg6.sfr_perioddata_17.txt',\n",
       " 'freyberg6.sfr_perioddata_18.txt',\n",
       " 'freyberg6.sfr_perioddata_19.txt',\n",
       " 'freyberg6.sfr_perioddata_2.txt',\n",
       " 'freyberg6.sfr_perioddata_20.txt',\n",
       " 'freyberg6.sfr_perioddata_21.txt',\n",
       " 'freyberg6.sfr_perioddata_22.txt',\n",
       " 'freyberg6.sfr_perioddata_23.txt',\n",
       " 'freyberg6.sfr_perioddata_24.txt',\n",
       " 'freyberg6.sfr_perioddata_25.txt',\n",
       " 'freyberg6.sfr_perioddata_3.txt',\n",
       " 'freyberg6.sfr_perioddata_4.txt',\n",
       " 'freyberg6.sfr_perioddata_5.txt',\n",
       " 'freyberg6.sfr_perioddata_6.txt',\n",
       " 'freyberg6.sfr_perioddata_7.txt',\n",
       " 'freyberg6.sfr_perioddata_8.txt',\n",
       " 'freyberg6.sfr_perioddata_9.txt',\n",
       " 'freyberg6.sto',\n",
       " 'freyberg6.sto_iconvert_layer1.txt',\n",
       " 'freyberg6.sto_iconvert_layer2.txt',\n",
       " 'freyberg6.sto_iconvert_layer3.txt',\n",
       " 'freyberg6.sto_ss_layer1.txt',\n",
       " 'freyberg6.sto_ss_layer2.txt',\n",
       " 'freyberg6.sto_ss_layer3.txt',\n",
       " 'freyberg6.sto_sy_layer1.txt',\n",
       " 'freyberg6.sto_sy_layer2.txt',\n",
       " 'freyberg6.sto_sy_layer3.txt',\n",
       " 'freyberg6.tdis',\n",
       " 'freyberg6.wel',\n",
       " 'freyberg6.wel_stress_period_data_1.txt',\n",
       " 'freyberg6.wel_stress_period_data_10.txt',\n",
       " 'freyberg6.wel_stress_period_data_11.txt',\n",
       " 'freyberg6.wel_stress_period_data_12.txt',\n",
       " 'freyberg6.wel_stress_period_data_13.txt',\n",
       " 'freyberg6.wel_stress_period_data_14.txt',\n",
       " 'freyberg6.wel_stress_period_data_15.txt',\n",
       " 'freyberg6.wel_stress_period_data_16.txt',\n",
       " 'freyberg6.wel_stress_period_data_17.txt',\n",
       " 'freyberg6.wel_stress_period_data_18.txt',\n",
       " 'freyberg6.wel_stress_period_data_19.txt',\n",
       " 'freyberg6.wel_stress_period_data_2.txt',\n",
       " 'freyberg6.wel_stress_period_data_20.txt',\n",
       " 'freyberg6.wel_stress_period_data_21.txt',\n",
       " 'freyberg6.wel_stress_period_data_22.txt',\n",
       " 'freyberg6.wel_stress_period_data_23.txt',\n",
       " 'freyberg6.wel_stress_period_data_24.txt',\n",
       " 'freyberg6.wel_stress_period_data_25.txt',\n",
       " 'freyberg6.wel_stress_period_data_3.txt',\n",
       " 'freyberg6.wel_stress_period_data_4.txt',\n",
       " 'freyberg6.wel_stress_period_data_5.txt',\n",
       " 'freyberg6.wel_stress_period_data_6.txt',\n",
       " 'freyberg6.wel_stress_period_data_7.txt',\n",
       " 'freyberg6.wel_stress_period_data_8.txt',\n",
       " 'freyberg6.wel_stress_period_data_9.txt',\n",
       " 'freyberg6_freyberg.cbc',\n",
       " 'freyberg6_freyberg.hds',\n",
       " 'head.obs',\n",
       " 'heads.csv',\n",
       " 'mf5to6.exe',\n",
       " 'mf6.exe',\n",
       " 'mfsim.lst',\n",
       " 'mfsim.nam',\n",
       " 'pestpp-da.exe',\n",
       " 'pestpp-glm.exe',\n",
       " 'pestpp-ies.exe',\n",
       " 'pestpp-mou.exe',\n",
       " 'pestpp-opt.exe',\n",
       " 'pestpp-sen.exe',\n",
       " 'pestpp-sqp.exe',\n",
       " 'pestpp-swp.exe',\n",
       " 'sfr.csv',\n",
       " 'sfr.obs',\n",
       " 'zbud6.exe']"
      ]
     },
     "execution_count": 4,
     "metadata": {},
     "output_type": "execute_result"
    }
   ],
   "source": [
    "os.listdir(tmp_d)"
   ]
  },
  {
   "cell_type": "markdown",
   "metadata": {},
   "source": [
    "Now we need just a tiny bit of info about the spatial discretization of the model - this is needed to work out separation distances between parameters to build a geostatistical prior covariance matrix later.\n",
    "\n",
    "Here we will load the flopy sim and model instance just to help us define some quantities later - flopy is ***not required*** to use the `PstFrom` class. ***Neither is MODFLOW***. However, at the time of writting, support for `SpatialReference` to spatially locate parameters is limited to MODLOW models.\n",
    "\n",
    "Load the simulation. Run it once to make sure it works and to ***make sure that model output files are in the folder***. "
   ]
  },
  {
   "cell_type": "code",
   "execution_count": 5,
   "metadata": {
    "execution": {
     "iopub.execute_input": "2022-03-18T04:41:18.782843Z",
     "iopub.status.busy": "2022-03-18T04:41:18.765857Z",
     "iopub.status.idle": "2022-03-18T04:41:19.850658Z",
     "shell.execute_reply": "2022-03-18T04:41:19.849675Z"
    }
   },
   "outputs": [
    {
     "name": "stdout",
     "output_type": "stream",
     "text": [
      "loading simulation...\n",
      "  loading simulation name file...\n",
      "  loading tdis package...\n",
      "  loading model gwf6...\n",
      "    loading package dis...\n",
      "    loading package ic...\n",
      "    loading package npf...\n",
      "    loading package sto...\n",
      "    loading package oc...\n",
      "    loading package wel...\n",
      "    loading package rch...\n",
      "    loading package ghb...\n",
      "    loading package sfr...\n"
     ]
    },
    {
     "name": "stdout",
     "output_type": "stream",
     "text": [
      "    loading package obs...\n",
      "  loading ims package freyberg6...\n",
      "FloPy is using the following executable to run the model: C:\\Program Files\\MODFLOW\\mf6.exe\n",
      "                                   MODFLOW 6\n",
      "                U.S. GEOLOGICAL SURVEY MODULAR HYDROLOGIC MODEL\n",
      "                            VERSION 6.2.2 07/30/2021\n",
      "\n",
      "   MODFLOW 6 compiled Jul 31 2021 14:57:11 with IFORT compiler (ver. 20.21.2)\n",
      "\n",
      "This software has been approved for release by the U.S. Geological \n",
      "Survey (USGS). Although the software has been subjected to rigorous \n",
      "review, the USGS reserves the right to update the software as needed \n",
      "pursuant to further analysis and review. No warranty, expressed or \n",
      "implied, is made by the USGS or the U.S. Government as to the \n",
      "functionality of the software and related material nor shall the \n",
      "fact of release constitute any such warranty. Furthermore, the \n",
      "software is released on condition that neither the USGS nor the U.S. \n",
      "Government shall be held liable for any damages resulting from its \n",
      "authorized or unauthorized use. Also refer to the USGS Water \n",
      "Resources Software User Rights Notice for complete use, copyright, \n",
      "and distribution information.\n",
      "\n",
      " \n",
      " Run start date and time (yyyy/mm/dd hh:mm:ss): 2022/03/18 15:11:19\n",
      " \n",
      " Writing simulation list file: mfsim.lst\n",
      " Using Simulation name file: mfsim.nam\n",
      " \n",
      "    Solving:  Stress period:     1    Time step:     1\n"
     ]
    },
    {
     "name": "stdout",
     "output_type": "stream",
     "text": [
      "    Solving:  Stress period:     2    Time step:     1\n",
      "    Solving:  Stress period:     3    Time step:     1\n",
      "    Solving:  Stress period:     4    Time step:     1\n",
      "    Solving:  Stress period:     5    Time step:     1\n",
      "    Solving:  Stress period:     6    Time step:     1\n",
      "    Solving:  Stress period:     7    Time step:     1\n",
      "    Solving:  Stress period:     8    Time step:     1\n",
      "    Solving:  Stress period:     9    Time step:     1\n",
      "    Solving:  Stress period:    10    Time step:     1\n",
      "    Solving:  Stress period:    11    Time step:     1\n",
      "    Solving:  Stress period:    12    Time step:     1\n",
      "    Solving:  Stress period:    13    Time step:     1\n"
     ]
    },
    {
     "name": "stdout",
     "output_type": "stream",
     "text": [
      "    Solving:  Stress period:    14    Time step:     1\n",
      "    Solving:  Stress period:    15    Time step:     1\n",
      "    Solving:  Stress period:    16    Time step:     1\n",
      "    Solving:  Stress period:    17    Time step:     1\n",
      "    Solving:  Stress period:    18    Time step:     1\n",
      "    Solving:  Stress period:    19    Time step:     1\n",
      "    Solving:  Stress period:    20    Time step:     1\n",
      "    Solving:  Stress period:    21    Time step:     1\n",
      "    Solving:  Stress period:    22    Time step:     1\n",
      "    Solving:  Stress period:    23    Time step:     1\n",
      "    Solving:  Stress period:    24    Time step:     1\n",
      "    Solving:  Stress period:    25    Time step:     1\n"
     ]
    },
    {
     "name": "stdout",
     "output_type": "stream",
     "text": [
      " \n",
      " Run end date and time (yyyy/mm/dd hh:mm:ss): 2022/03/18 15:11:19\n",
      " Elapsed run time:  0.641 Seconds\n",
      " \n",
      " Normal termination of simulation.\n"
     ]
    },
    {
     "data": {
      "text/plain": [
       "(True, [])"
      ]
     },
     "execution_count": 5,
     "metadata": {},
     "output_type": "execute_result"
    }
   ],
   "source": [
    "# load simulation\n",
    "sim = flopy.mf6.MFSimulation.load(sim_ws=tmp_d)\n",
    "# load flow model\n",
    "gwf = sim.get_model()\n",
    "\n",
    "# run the model once to make sure it works\n",
    "sim.run_simulation()"
   ]
  },
  {
   "cell_type": "markdown",
   "metadata": {},
   "source": [
    "### 2. Spatial Reference\n",
    "Now we can instantiate a `SpatialReference`. This will later be passed to `PstFrom` to assist with spatially locating parameters (e.g. pilot points and/or cell-by-cell parameters)."
   ]
  },
  {
   "cell_type": "code",
   "execution_count": 6,
   "metadata": {
    "execution": {
     "iopub.execute_input": "2022-03-18T04:41:19.854646Z",
     "iopub.status.busy": "2022-03-18T04:41:19.854646Z",
     "iopub.status.idle": "2022-03-18T04:41:19.859640Z",
     "shell.execute_reply": "2022-03-18T04:41:19.860668Z"
    }
   },
   "outputs": [
    {
     "name": "stdout",
     "output_type": "stream",
     "text": [
      "   could not remove start_datetime\n"
     ]
    }
   ],
   "source": [
    "sr = pyemu.helpers.SpatialReference.from_namfile(\n",
    "        os.path.join(tmp_d, \"freyberg6.nam\"),\n",
    "        delr=gwf.dis.delr.array, delc=gwf.dis.delc.array)"
   ]
  },
  {
   "cell_type": "markdown",
   "metadata": {},
   "source": [
    "### 3. Instantiate PstFrom\n",
    "\n",
    "Now we can start to construct the PEST(++) interface by instantiating a `PstFrom` class instance. There are a few things that we need to specify up front:\n",
    "\n",
    " - the folder in which we currently have model files (e.g. `tmp_d`). PstFrom will copy all the files from this directory into a new \"template\" folder.\n",
    " - **template folder**: this is a folder in which the PEST dataset will be constructed. This folder/dataset will form the template for subsequent deployment of PEST(++). It is **not** where PEST(++) will be run.\n",
    " - **longnames**: for backwards compatibility with PEST and PEST_HP (i.e. non-PEST++ versions), which have upper limits to parameter/obsveration names (PEST++ does not). Setting this value to False is only recommended if required. \n",
    " - Whether the model is `zero based` or not.\n",
    " - (optional) the **spatial reference**, as previously discussed. This is only requried if using `pyEMU` to define parameter spatial correlation. Alternatively, you can define these yourself or use utilities available in the PEST-suite. \n",
    "\n"
   ]
  },
  {
   "cell_type": "code",
   "execution_count": 7,
   "metadata": {
    "execution": {
     "iopub.execute_input": "2022-03-18T04:41:19.868610Z",
     "iopub.status.busy": "2022-03-18T04:41:19.867613Z",
     "iopub.status.idle": "2022-03-18T04:41:20.761461Z",
     "shell.execute_reply": "2022-03-18T04:41:20.761461Z"
    }
   },
   "outputs": [
    {
     "name": "stdout",
     "output_type": "stream",
     "text": [
      "2022-03-18 15:11:19.866615 starting: opening PstFrom.log for logging\n",
      "2022-03-18 15:11:19.867613 starting PstFrom process\n",
      "2022-03-18 15:11:19.867613 starting: setting up dirs\n",
      "2022-03-18 15:11:19.867613 starting: copying original_d 'freyberg_mf6' to new_d 'freyberg6_template'\n"
     ]
    },
    {
     "name": "stdout",
     "output_type": "stream",
     "text": [
      "2022-03-18 15:11:20.757503 finished: copying original_d 'freyberg_mf6' to new_d 'freyberg6_template' took: 0:00:00.889890\n",
      "2022-03-18 15:11:20.758470 finished: setting up dirs took: 0:00:00.890857\n"
     ]
    }
   ],
   "source": [
    "# specify a template directory (i.e. the PstFrom working folder)\n",
    "template_ws = os.path.join(\"freyberg6_template\")\n",
    "\n",
    "# instantiate PstFrom\n",
    "pf = pyemu.utils.PstFrom(original_d=tmp_d, # where the model is stored\n",
    "                            new_d=template_ws, # the PEST template folder\n",
    "                            remove_existing=True, # ensures a clean start\n",
    "                            longnames=True, # set False if using PEST/PEST_HP\n",
    "                            spatial_reference=sr, #the spatial reference we generated earlier\n",
    "                            zero_based=False, # does the MODEL use zero based indices? For example, MODFLOW does NOT\n",
    "                            start_datetime=\"1-1-2018\") # required when specifying temporal correlation between parameters"
   ]
  },
  {
   "cell_type": "markdown",
   "metadata": {},
   "source": [
    "### 4. Observations\n",
    "\n",
    "We now have a `PstFrom` instance assigned to the variable `pf`. For now it is only an empty container to which we can start adding \"observations\", \"parameters\" and other bits and bobs.\n",
    "\n",
    "Lets start with observations because they are easier. `MODFLOW6` makes life even easier by recording observations in nicely organized .csv files. Isn't that a peach!\n",
    "\n",
    "#### 4.1 Freyberg Recap\n",
    "As you may recall from the \"*intro to Freyberg*\" tutorial, the model is configured to record time series of head at observation wells, and flux at three locations along the river. These are recorded in external .csv files named `heads.csv` and `sfr.csv`, respectively. You should be able to see these files in the model folder.\n",
    "\n",
    "Recall that each .csv houses records of observation time-series. Outputs are recorded for each simulated stress-period. The model starts with a single steady-state stress-period, followed by 24 monthly transient stress-periods. The steady-state and first 12 transient stress-periods simulate the history-matching period. The last 12 transient stress periods simulate future conditions (i.e. the prediction period)."
   ]
  },
  {
   "cell_type": "code",
   "execution_count": 8,
   "metadata": {
    "execution": {
     "iopub.execute_input": "2022-03-18T04:41:20.765451Z",
     "iopub.status.busy": "2022-03-18T04:41:20.765451Z",
     "iopub.status.idle": "2022-03-18T04:41:20.767480Z",
     "shell.execute_reply": "2022-03-18T04:41:20.767480Z"
    }
   },
   "outputs": [
    {
     "name": "stdout",
     "output_type": "stream",
     "text": [
      "['sfr.csv']\n",
      "['heads.csv']\n"
     ]
    }
   ],
   "source": [
    "# check the output csv file names\n",
    "for i in gwf.obs:\n",
    "    print(i.output.obs_names)"
   ]
  },
  {
   "cell_type": "markdown",
   "metadata": {},
   "source": [
    "Let's start with the 'heads.csv' file. First load it as a DataFrame to take a look.\n",
    "\n",
    "As you can see, there are many columns, one for each observation site. Conveniently, * *cough* * they are named according to the cell layer, row and column. Note that at every site, there is an observation in both the top and bottom layer (0_ and 2_). We will make use of this later to create \"secondary observations\" of head differences between layers...but let's not get distracted.\n",
    "\n",
    "The values in the *.csv* file were generated by running the model. (***IMPORTANT!***) However, `PstFrom` assumes that values in this file are the *target* observation values, and they will be used to populate the PEST(++) dataset. Now, you can change these values later on if you wish. However, it can get a bit messy. So you either need to populate model output files with the target values, or update values in the PEST(++) dataset later on. Which approach you adopt is up to personal preference and/or specifics of your modelling workflow. \n",
    "\n",
    "We will demonstrate both in this notebook."
   ]
  },
  {
   "cell_type": "code",
   "execution_count": 9,
   "metadata": {
    "execution": {
     "iopub.execute_input": "2022-03-18T04:41:20.771433Z",
     "iopub.status.busy": "2022-03-18T04:41:20.771433Z",
     "iopub.status.idle": "2022-03-18T04:41:20.798361Z",
     "shell.execute_reply": "2022-03-18T04:41:20.799392Z"
    }
   },
   "outputs": [
    {
     "data": {
      "text/html": [
       "<div>\n",
       "<style scoped>\n",
       "    .dataframe tbody tr th:only-of-type {\n",
       "        vertical-align: middle;\n",
       "    }\n",
       "\n",
       "    .dataframe tbody tr th {\n",
       "        vertical-align: top;\n",
       "    }\n",
       "\n",
       "    .dataframe thead th {\n",
       "        text-align: right;\n",
       "    }\n",
       "</style>\n",
       "<table border=\"1\" class=\"dataframe\">\n",
       "  <thead>\n",
       "    <tr style=\"text-align: right;\">\n",
       "      <th></th>\n",
       "      <th>TRGW_2_2_15</th>\n",
       "      <th>TRGW_2_2_9</th>\n",
       "      <th>TRGW_2_3_8</th>\n",
       "      <th>TRGW_2_9_1</th>\n",
       "      <th>TRGW_2_13_10</th>\n",
       "      <th>TRGW_2_15_16</th>\n",
       "      <th>TRGW_2_21_10</th>\n",
       "      <th>TRGW_2_22_15</th>\n",
       "      <th>TRGW_2_24_4</th>\n",
       "      <th>TRGW_2_26_6</th>\n",
       "      <th>...</th>\n",
       "      <th>TRGW_0_9_1</th>\n",
       "      <th>TRGW_0_13_10</th>\n",
       "      <th>TRGW_0_15_16</th>\n",
       "      <th>TRGW_0_21_10</th>\n",
       "      <th>TRGW_0_22_15</th>\n",
       "      <th>TRGW_0_24_4</th>\n",
       "      <th>TRGW_0_26_6</th>\n",
       "      <th>TRGW_0_29_15</th>\n",
       "      <th>TRGW_0_33_7</th>\n",
       "      <th>TRGW_0_34_10</th>\n",
       "    </tr>\n",
       "    <tr>\n",
       "      <th>time</th>\n",
       "      <th></th>\n",
       "      <th></th>\n",
       "      <th></th>\n",
       "      <th></th>\n",
       "      <th></th>\n",
       "      <th></th>\n",
       "      <th></th>\n",
       "      <th></th>\n",
       "      <th></th>\n",
       "      <th></th>\n",
       "      <th></th>\n",
       "      <th></th>\n",
       "      <th></th>\n",
       "      <th></th>\n",
       "      <th></th>\n",
       "      <th></th>\n",
       "      <th></th>\n",
       "      <th></th>\n",
       "      <th></th>\n",
       "      <th></th>\n",
       "      <th></th>\n",
       "    </tr>\n",
       "  </thead>\n",
       "  <tbody>\n",
       "    <tr>\n",
       "      <th>1.0</th>\n",
       "      <td>34.339320</td>\n",
       "      <td>34.581597</td>\n",
       "      <td>34.611207</td>\n",
       "      <td>34.872171</td>\n",
       "      <td>34.257574</td>\n",
       "      <td>34.136387</td>\n",
       "      <td>34.144465</td>\n",
       "      <td>34.027679</td>\n",
       "      <td>34.310857</td>\n",
       "      <td>34.171589</td>\n",
       "      <td>...</td>\n",
       "      <td>34.878082</td>\n",
       "      <td>34.263187</td>\n",
       "      <td>34.141599</td>\n",
       "      <td>34.150067</td>\n",
       "      <td>33.992380</td>\n",
       "      <td>34.316575</td>\n",
       "      <td>34.177206</td>\n",
       "      <td>33.909874</td>\n",
       "      <td>33.985755</td>\n",
       "      <td>33.890192</td>\n",
       "    </tr>\n",
       "    <tr>\n",
       "      <th>32.0</th>\n",
       "      <td>34.422684</td>\n",
       "      <td>34.680896</td>\n",
       "      <td>34.712058</td>\n",
       "      <td>34.973141</td>\n",
       "      <td>34.381609</td>\n",
       "      <td>34.245718</td>\n",
       "      <td>34.272721</td>\n",
       "      <td>34.138233</td>\n",
       "      <td>34.437640</td>\n",
       "      <td>34.313791</td>\n",
       "      <td>...</td>\n",
       "      <td>34.978998</td>\n",
       "      <td>34.386488</td>\n",
       "      <td>34.250497</td>\n",
       "      <td>34.277455</td>\n",
       "      <td>34.087585</td>\n",
       "      <td>34.442526</td>\n",
       "      <td>34.318135</td>\n",
       "      <td>33.992787</td>\n",
       "      <td>34.102892</td>\n",
       "      <td>34.005675</td>\n",
       "    </tr>\n",
       "    <tr>\n",
       "      <th>61.0</th>\n",
       "      <td>34.496186</td>\n",
       "      <td>34.778508</td>\n",
       "      <td>34.812111</td>\n",
       "      <td>35.083708</td>\n",
       "      <td>34.481942</td>\n",
       "      <td>34.330460</td>\n",
       "      <td>34.376598</td>\n",
       "      <td>34.219319</td>\n",
       "      <td>34.555036</td>\n",
       "      <td>34.427653</td>\n",
       "      <td>...</td>\n",
       "      <td>35.089608</td>\n",
       "      <td>34.487850</td>\n",
       "      <td>34.336217</td>\n",
       "      <td>34.382375</td>\n",
       "      <td>34.158109</td>\n",
       "      <td>34.560492</td>\n",
       "      <td>34.433115</td>\n",
       "      <td>34.058266</td>\n",
       "      <td>34.196067</td>\n",
       "      <td>34.086361</td>\n",
       "    </tr>\n",
       "    <tr>\n",
       "      <th>92.0</th>\n",
       "      <td>34.541607</td>\n",
       "      <td>34.848735</td>\n",
       "      <td>34.885189</td>\n",
       "      <td>35.178103</td>\n",
       "      <td>34.536194</td>\n",
       "      <td>34.372437</td>\n",
       "      <td>34.431944</td>\n",
       "      <td>34.257802</td>\n",
       "      <td>34.631805</td>\n",
       "      <td>34.490964</td>\n",
       "      <td>...</td>\n",
       "      <td>35.184255</td>\n",
       "      <td>34.543248</td>\n",
       "      <td>34.379139</td>\n",
       "      <td>34.438943</td>\n",
       "      <td>34.191730</td>\n",
       "      <td>34.638273</td>\n",
       "      <td>34.497733</td>\n",
       "      <td>34.090937</td>\n",
       "      <td>34.244095</td>\n",
       "      <td>34.121186</td>\n",
       "    </tr>\n",
       "    <tr>\n",
       "      <th>122.0</th>\n",
       "      <td>34.538213</td>\n",
       "      <td>34.859840</td>\n",
       "      <td>34.898354</td>\n",
       "      <td>35.214761</td>\n",
       "      <td>34.520171</td>\n",
       "      <td>34.353363</td>\n",
       "      <td>34.414553</td>\n",
       "      <td>34.236799</td>\n",
       "      <td>34.634051</td>\n",
       "      <td>34.476152</td>\n",
       "      <td>...</td>\n",
       "      <td>35.221267</td>\n",
       "      <td>34.528011</td>\n",
       "      <td>34.360599</td>\n",
       "      <td>34.422425</td>\n",
       "      <td>34.173799</td>\n",
       "      <td>34.641451</td>\n",
       "      <td>34.483960</td>\n",
       "      <td>34.076498</td>\n",
       "      <td>34.226023</td>\n",
       "      <td>34.095425</td>\n",
       "    </tr>\n",
       "  </tbody>\n",
       "</table>\n",
       "<p>5 rows × 26 columns</p>\n",
       "</div>"
      ],
      "text/plain": [
       "       TRGW_2_2_15  TRGW_2_2_9  TRGW_2_3_8  TRGW_2_9_1  TRGW_2_13_10  \\\n",
       "time                                                                   \n",
       "1.0      34.339320   34.581597   34.611207   34.872171     34.257574   \n",
       "32.0     34.422684   34.680896   34.712058   34.973141     34.381609   \n",
       "61.0     34.496186   34.778508   34.812111   35.083708     34.481942   \n",
       "92.0     34.541607   34.848735   34.885189   35.178103     34.536194   \n",
       "122.0    34.538213   34.859840   34.898354   35.214761     34.520171   \n",
       "\n",
       "       TRGW_2_15_16  TRGW_2_21_10  TRGW_2_22_15  TRGW_2_24_4  TRGW_2_26_6  \\\n",
       "time                                                                        \n",
       "1.0       34.136387     34.144465     34.027679    34.310857    34.171589   \n",
       "32.0      34.245718     34.272721     34.138233    34.437640    34.313791   \n",
       "61.0      34.330460     34.376598     34.219319    34.555036    34.427653   \n",
       "92.0      34.372437     34.431944     34.257802    34.631805    34.490964   \n",
       "122.0     34.353363     34.414553     34.236799    34.634051    34.476152   \n",
       "\n",
       "       ...  TRGW_0_9_1  TRGW_0_13_10  TRGW_0_15_16  TRGW_0_21_10  \\\n",
       "time   ...                                                         \n",
       "1.0    ...   34.878082     34.263187     34.141599     34.150067   \n",
       "32.0   ...   34.978998     34.386488     34.250497     34.277455   \n",
       "61.0   ...   35.089608     34.487850     34.336217     34.382375   \n",
       "92.0   ...   35.184255     34.543248     34.379139     34.438943   \n",
       "122.0  ...   35.221267     34.528011     34.360599     34.422425   \n",
       "\n",
       "       TRGW_0_22_15  TRGW_0_24_4  TRGW_0_26_6  TRGW_0_29_15  TRGW_0_33_7  \\\n",
       "time                                                                       \n",
       "1.0       33.992380    34.316575    34.177206     33.909874    33.985755   \n",
       "32.0      34.087585    34.442526    34.318135     33.992787    34.102892   \n",
       "61.0      34.158109    34.560492    34.433115     34.058266    34.196067   \n",
       "92.0      34.191730    34.638273    34.497733     34.090937    34.244095   \n",
       "122.0     34.173799    34.641451    34.483960     34.076498    34.226023   \n",
       "\n",
       "       TRGW_0_34_10  \n",
       "time                 \n",
       "1.0       33.890192  \n",
       "32.0      34.005675  \n",
       "61.0      34.086361  \n",
       "92.0      34.121186  \n",
       "122.0     34.095425  \n",
       "\n",
       "[5 rows x 26 columns]"
      ]
     },
     "execution_count": 9,
     "metadata": {},
     "output_type": "execute_result"
    }
   ],
   "source": [
    "df = pd.read_csv(os.path.join(template_ws,\"heads.csv\"),index_col=0)\n",
    "df.head()"
   ]
  },
  {
   "cell_type": "markdown",
   "metadata": {},
   "source": [
    "#### 4.2 Prepare Observation Files\n",
    "\n",
    "We will start by populating our \"model output\" file with measured values. For this synthetic case, we conveniently have observations for all model output times and sites. (These \"measured\" values were generated using the same model with a randomly generated set of parameters; noise was added to all observations.)\n",
    "\n",
    "In the next cell we read a .csv that contains measured obsevration values. As it has the exact same structure as our model output file, we can simpy replace the values in the model output file (and re-write it!). In real-world cases this step will likley be a bit more involved."
   ]
  },
  {
   "cell_type": "code",
   "execution_count": 10,
   "metadata": {
    "execution": {
     "iopub.execute_input": "2022-03-18T04:41:20.803348Z",
     "iopub.status.busy": "2022-03-18T04:41:20.803348Z",
     "iopub.status.idle": "2022-03-18T04:41:20.810366Z",
     "shell.execute_reply": "2022-03-18T04:41:20.809333Z"
    }
   },
   "outputs": [],
   "source": [
    "# read the measured head values\n",
    "hds_meas = pd.read_csv(os.path.join('..', '..', 'models', 'freyberg_mf6_truth',\"heads.meas.csv\"),\n",
    "                    index_col=0)\n",
    "\n",
    "# re-write the model output .csv file with the measured values\n",
    "hds_meas.to_csv(os.path.join(template_ws,\"heads.csv\"))"
   ]
  },
  {
   "cell_type": "markdown",
   "metadata": {},
   "source": [
    "#### 4.2. Adding Observations\n",
    "\n",
    "Now that our model output file contains the \"target values\", we can use the `PstFrom.add_observations()` method to add observations to our `pf` object. This method reads ***list-type*** files. The assumption is that these files are organized in a tabular format. \n",
    "\n",
    "We are going to tell `pf` which columns of this file contain observations. Values in these columns will be assigned to *observation values*.\n",
    "\n",
    "We can also inform it if there is an index column. Values in this column will be included in the *observation names*. \n",
    "\n",
    "We could also specify which rows to include as observations. But observations are free...so why not keep them all! \n",
    "\n",
    "Let's add observations from `heads.csv`. The first column of this file records the time at which the value is simulated. Let's use that as the index column (this becomes useful later on to post-process results). We want all other columns as observation values.\n"
   ]
  },
  {
   "cell_type": "code",
   "execution_count": 11,
   "metadata": {
    "execution": {
     "iopub.execute_input": "2022-03-18T04:41:20.813354Z",
     "iopub.status.busy": "2022-03-18T04:41:20.812360Z",
     "iopub.status.idle": "2022-03-18T04:41:20.854246Z",
     "shell.execute_reply": "2022-03-18T04:41:20.855269Z"
    }
   },
   "outputs": [
    {
     "name": "stdout",
     "output_type": "stream",
     "text": [
      "2022-03-18 15:11:20.812360 starting: adding observations from output file heads.csv\n",
      "2022-03-18 15:11:20.813354 starting: adding observations from tabular output file '['heads.csv']'\n",
      "2022-03-18 15:11:20.813354 starting: reading list-style file: freyberg6_template\\heads.csv\n",
      "2022-03-18 15:11:20.820302 finished: reading list-style file: freyberg6_template\\heads.csv took: 0:00:00.006948\n",
      "2022-03-18 15:11:20.820302 starting: building insfile for tabular output file heads.csv\n",
      "2022-03-18 15:11:20.829311 finished: building insfile for tabular output file heads.csv took: 0:00:00.009009\n",
      "2022-03-18 15:11:20.830310 starting: adding observation from instruction file 'freyberg6_template\\heads.csv.ins'\n",
      "2022-03-18 15:11:20.849284 finished: adding observation from instruction file 'freyberg6_template\\heads.csv.ins' took: 0:00:00.018974\n",
      "2022-03-18 15:11:20.850257 finished: adding observations from tabular output file '['heads.csv']' took: 0:00:00.036903\n"
     ]
    }
   ],
   "source": [
    "hds_df = pf.add_observations(\"heads.csv\", # the model output file to read\n",
    "                            insfile=\"heads.csv.ins\", #optional, the instruction file name\n",
    "                            index_cols=\"time\", #column header to use as index; can also use column number (zero-based) instead of the header name\n",
    "                            use_cols=list(df.columns.values), #names of columns that include observation values; can also use column number (zero-based) instead of the header name\n",
    "                            prefix=\"hds\") #prefix to all observation names; choose something logical and easy o find. We use it later on to select obsevrations"
   ]
  },
  {
   "cell_type": "markdown",
   "metadata": {},
   "source": [
    "Let's inspect what we just created. \n",
    "\n",
    "We can see that the `.add_observations()` method returned a dataframe with lots of useful info: \n",
    "\n",
    " - the observation names that were formed (see `obsnme` column); note that these inlcude lots of usefull metadata like the column name, index value and so on;\n",
    " - the values that were read from `heads.csv` (see `obsval` column); \n",
    " - some generic weights and group names; note that observations are grouped according to the column of the model output .csv. Alternatively, we could have specified a list of observation group names."
   ]
  },
  {
   "cell_type": "code",
   "execution_count": 12,
   "metadata": {
    "execution": {
     "iopub.execute_input": "2022-03-18T04:41:20.863221Z",
     "iopub.status.busy": "2022-03-18T04:41:20.862224Z",
     "iopub.status.idle": "2022-03-18T04:41:20.865216Z",
     "shell.execute_reply": "2022-03-18T04:41:20.866215Z"
    }
   },
   "outputs": [
    {
     "data": {
      "text/html": [
       "<div>\n",
       "<style scoped>\n",
       "    .dataframe tbody tr th:only-of-type {\n",
       "        vertical-align: middle;\n",
       "    }\n",
       "\n",
       "    .dataframe tbody tr th {\n",
       "        vertical-align: top;\n",
       "    }\n",
       "\n",
       "    .dataframe thead th {\n",
       "        text-align: right;\n",
       "    }\n",
       "</style>\n",
       "<table border=\"1\" class=\"dataframe\">\n",
       "  <thead>\n",
       "    <tr style=\"text-align: right;\">\n",
       "      <th></th>\n",
       "      <th>obsnme</th>\n",
       "      <th>obsval</th>\n",
       "      <th>weight</th>\n",
       "      <th>obgnme</th>\n",
       "    </tr>\n",
       "  </thead>\n",
       "  <tbody>\n",
       "    <tr>\n",
       "      <th>oname:hds_otype:lst_usecol:trgw_0_13_10_time:1.0</th>\n",
       "      <td>oname:hds_otype:lst_usecol:trgw_0_13_10_time:1.0</td>\n",
       "      <td>34.406181</td>\n",
       "      <td>1.0</td>\n",
       "      <td>oname:hds_otype:lst_usecol:trgw_0_13_10</td>\n",
       "    </tr>\n",
       "    <tr>\n",
       "      <th>oname:hds_otype:lst_usecol:trgw_0_13_10_time:122.0</th>\n",
       "      <td>oname:hds_otype:lst_usecol:trgw_0_13_10_time:122.0</td>\n",
       "      <td>34.450661</td>\n",
       "      <td>1.0</td>\n",
       "      <td>oname:hds_otype:lst_usecol:trgw_0_13_10</td>\n",
       "    </tr>\n",
       "    <tr>\n",
       "      <th>oname:hds_otype:lst_usecol:trgw_0_13_10_time:153.0</th>\n",
       "      <td>oname:hds_otype:lst_usecol:trgw_0_13_10_time:153.0</td>\n",
       "      <td>34.441799</td>\n",
       "      <td>1.0</td>\n",
       "      <td>oname:hds_otype:lst_usecol:trgw_0_13_10</td>\n",
       "    </tr>\n",
       "    <tr>\n",
       "      <th>oname:hds_otype:lst_usecol:trgw_0_13_10_time:183.0</th>\n",
       "      <td>oname:hds_otype:lst_usecol:trgw_0_13_10_time:183.0</td>\n",
       "      <td>34.375622</td>\n",
       "      <td>1.0</td>\n",
       "      <td>oname:hds_otype:lst_usecol:trgw_0_13_10</td>\n",
       "    </tr>\n",
       "    <tr>\n",
       "      <th>oname:hds_otype:lst_usecol:trgw_0_13_10_time:214.0</th>\n",
       "      <td>oname:hds_otype:lst_usecol:trgw_0_13_10_time:214.0</td>\n",
       "      <td>34.323056</td>\n",
       "      <td>1.0</td>\n",
       "      <td>oname:hds_otype:lst_usecol:trgw_0_13_10</td>\n",
       "    </tr>\n",
       "  </tbody>\n",
       "</table>\n",
       "</div>"
      ],
      "text/plain": [
       "                                                                                                obsnme  \\\n",
       "oname:hds_otype:lst_usecol:trgw_0_13_10_time:1.0      oname:hds_otype:lst_usecol:trgw_0_13_10_time:1.0   \n",
       "oname:hds_otype:lst_usecol:trgw_0_13_10_time:122.0  oname:hds_otype:lst_usecol:trgw_0_13_10_time:122.0   \n",
       "oname:hds_otype:lst_usecol:trgw_0_13_10_time:153.0  oname:hds_otype:lst_usecol:trgw_0_13_10_time:153.0   \n",
       "oname:hds_otype:lst_usecol:trgw_0_13_10_time:183.0  oname:hds_otype:lst_usecol:trgw_0_13_10_time:183.0   \n",
       "oname:hds_otype:lst_usecol:trgw_0_13_10_time:214.0  oname:hds_otype:lst_usecol:trgw_0_13_10_time:214.0   \n",
       "\n",
       "                                                       obsval  weight  \\\n",
       "oname:hds_otype:lst_usecol:trgw_0_13_10_time:1.0    34.406181     1.0   \n",
       "oname:hds_otype:lst_usecol:trgw_0_13_10_time:122.0  34.450661     1.0   \n",
       "oname:hds_otype:lst_usecol:trgw_0_13_10_time:153.0  34.441799     1.0   \n",
       "oname:hds_otype:lst_usecol:trgw_0_13_10_time:183.0  34.375622     1.0   \n",
       "oname:hds_otype:lst_usecol:trgw_0_13_10_time:214.0  34.323056     1.0   \n",
       "\n",
       "                                                                                     obgnme  \n",
       "oname:hds_otype:lst_usecol:trgw_0_13_10_time:1.0    oname:hds_otype:lst_usecol:trgw_0_13_10  \n",
       "oname:hds_otype:lst_usecol:trgw_0_13_10_time:122.0  oname:hds_otype:lst_usecol:trgw_0_13_10  \n",
       "oname:hds_otype:lst_usecol:trgw_0_13_10_time:153.0  oname:hds_otype:lst_usecol:trgw_0_13_10  \n",
       "oname:hds_otype:lst_usecol:trgw_0_13_10_time:183.0  oname:hds_otype:lst_usecol:trgw_0_13_10  \n",
       "oname:hds_otype:lst_usecol:trgw_0_13_10_time:214.0  oname:hds_otype:lst_usecol:trgw_0_13_10  "
      ]
     },
     "execution_count": 12,
     "metadata": {},
     "output_type": "execute_result"
    }
   ],
   "source": [
    "hds_df.head()"
   ]
  },
  {
   "cell_type": "markdown",
   "metadata": {},
   "source": [
    "At this point, no PEST *control file* has been created, we have simply prepared to add these observations to the control file later. Everything is still only stored in memory. However, a PEST *instruction* file has been created in the template folder (`template_ws`):"
   ]
  },
  {
   "cell_type": "code",
   "execution_count": 13,
   "metadata": {
    "execution": {
     "iopub.execute_input": "2022-03-18T04:41:20.870202Z",
     "iopub.status.busy": "2022-03-18T04:41:20.869205Z",
     "iopub.status.idle": "2022-03-18T04:41:20.876187Z",
     "shell.execute_reply": "2022-03-18T04:41:20.876187Z"
    }
   },
   "outputs": [
    {
     "data": {
      "text/plain": [
       "['heads.csv.ins']"
      ]
     },
     "execution_count": 13,
     "metadata": {},
     "output_type": "execute_result"
    }
   ],
   "source": [
    "[f for f in os.listdir(template_ws) if f.endswith(\".ins\")]"
   ]
  },
  {
   "cell_type": "markdown",
   "metadata": {},
   "source": [
    "Blimey, wasn't that easy? Automatically assimilating thousands of observations into a PEST dataset becomes a breeze!\n",
    "\n",
    "Let's quickly do the same thing for the SFR observations."
   ]
  },
  {
   "cell_type": "code",
   "execution_count": 14,
   "metadata": {
    "execution": {
     "iopub.execute_input": "2022-03-18T04:41:20.880176Z",
     "iopub.status.busy": "2022-03-18T04:41:20.880176Z",
     "iopub.status.idle": "2022-03-18T04:41:20.889152Z",
     "shell.execute_reply": "2022-03-18T04:41:20.889152Z"
    }
   },
   "outputs": [
    {
     "data": {
      "text/html": [
       "<div>\n",
       "<style scoped>\n",
       "    .dataframe tbody tr th:only-of-type {\n",
       "        vertical-align: middle;\n",
       "    }\n",
       "\n",
       "    .dataframe tbody tr th {\n",
       "        vertical-align: top;\n",
       "    }\n",
       "\n",
       "    .dataframe thead th {\n",
       "        text-align: right;\n",
       "    }\n",
       "</style>\n",
       "<table border=\"1\" class=\"dataframe\">\n",
       "  <thead>\n",
       "    <tr style=\"text-align: right;\">\n",
       "      <th></th>\n",
       "      <th>HEADWATER</th>\n",
       "      <th>TAILWATER</th>\n",
       "      <th>GAGE_1</th>\n",
       "    </tr>\n",
       "    <tr>\n",
       "      <th>time</th>\n",
       "      <th></th>\n",
       "      <th></th>\n",
       "      <th></th>\n",
       "    </tr>\n",
       "  </thead>\n",
       "  <tbody>\n",
       "    <tr>\n",
       "      <th>1.0</th>\n",
       "      <td>-644.10</td>\n",
       "      <td>-477.76</td>\n",
       "      <td>1205.3</td>\n",
       "    </tr>\n",
       "    <tr>\n",
       "      <th>32.0</th>\n",
       "      <td>-865.29</td>\n",
       "      <td>-638.26</td>\n",
       "      <td>1636.6</td>\n",
       "    </tr>\n",
       "    <tr>\n",
       "      <th>61.0</th>\n",
       "      <td>-1034.00</td>\n",
       "      <td>-764.91</td>\n",
       "      <td>1938.5</td>\n",
       "    </tr>\n",
       "    <tr>\n",
       "      <th>92.0</th>\n",
       "      <td>-1118.70</td>\n",
       "      <td>-825.49</td>\n",
       "      <td>2073.6</td>\n",
       "    </tr>\n",
       "    <tr>\n",
       "      <th>122.0</th>\n",
       "      <td>-1083.00</td>\n",
       "      <td>-794.89</td>\n",
       "      <td>1983.4</td>\n",
       "    </tr>\n",
       "  </tbody>\n",
       "</table>\n",
       "</div>"
      ],
      "text/plain": [
       "       HEADWATER  TAILWATER  GAGE_1\n",
       "time                               \n",
       "1.0      -644.10    -477.76  1205.3\n",
       "32.0     -865.29    -638.26  1636.6\n",
       "61.0    -1034.00    -764.91  1938.5\n",
       "92.0    -1118.70    -825.49  2073.6\n",
       "122.0   -1083.00    -794.89  1983.4"
      ]
     },
     "execution_count": 14,
     "metadata": {},
     "output_type": "execute_result"
    }
   ],
   "source": [
    "df = pd.read_csv(os.path.join(template_ws, \"sfr.csv\"), index_col=0)\n",
    "df.head()"
   ]
  },
  {
   "cell_type": "code",
   "execution_count": 15,
   "metadata": {
    "execution": {
     "iopub.execute_input": "2022-03-18T04:41:20.894171Z",
     "iopub.status.busy": "2022-03-18T04:41:20.893173Z",
     "iopub.status.idle": "2022-03-18T04:41:20.921068Z",
     "shell.execute_reply": "2022-03-18T04:41:20.921068Z"
    }
   },
   "outputs": [
    {
     "name": "stdout",
     "output_type": "stream",
     "text": [
      "2022-03-18 15:11:20.896168 starting: adding observations from output file sfr.csv\n",
      "2022-03-18 15:11:20.896168 starting: adding observations from tabular output file '['sfr.csv']'\n",
      "2022-03-18 15:11:20.896168 starting: reading list-style file: freyberg6_template\\sfr.csv\n",
      "2022-03-18 15:11:20.898129 finished: reading list-style file: freyberg6_template\\sfr.csv took: 0:00:00.001961\n",
      "2022-03-18 15:11:20.898129 starting: building insfile for tabular output file sfr.csv\n",
      "2022-03-18 15:11:20.906108 finished: building insfile for tabular output file sfr.csv took: 0:00:00.007979\n",
      "2022-03-18 15:11:20.906108 starting: adding observation from instruction file 'freyberg6_template\\sfr.csv.ins'\n",
      "2022-03-18 15:11:20.915116 finished: adding observation from instruction file 'freyberg6_template\\sfr.csv.ins' took: 0:00:00.009008\n",
      "2022-03-18 15:11:20.916114 finished: adding observations from tabular output file '['sfr.csv']' took: 0:00:00.019946\n"
     ]
    }
   ],
   "source": [
    "# read the measured  values\n",
    "meas = pd.read_csv(os.path.join('..', '..', 'models', 'freyberg_mf6_truth',\"sfr.meas.csv\"),\n",
    "                    index_col=0)\n",
    "# re-write the model output .csv file with the measured values\n",
    "meas.to_csv(os.path.join(template_ws,\"sfr.csv\"))\n",
    "# add the observations to pf\n",
    "sfr_df = pf.add_observations(\"sfr.csv\", # the model output file to read\n",
    "                            insfile=\"sfr.csv.ins\", #optional, the instruction file name\n",
    "                            index_cols=\"time\", #column header to use as index; can also use column number (zero-based) instead of the header name\n",
    "                            use_cols=list(df.columns.values), #names of columns that include observation values; can also use column number (zero-based) instead of the header name\n",
    "                            prefix=\"sfr\") #prefix to all observation names"
   ]
  },
  {
   "cell_type": "markdown",
   "metadata": {},
   "source": [
    "### 5. Parameters\n",
    "\n",
    "The `PstFrom.add_parameters()` method reads model input files and adds parameters to the PEST(++) dataset. Parameterisation can be configured in several ways. \n",
    "\n",
    " - model input files can be in array or list format;\n",
    " - parameters can be setup as different \"types\". Values in model input files can (1) each be a separate parameter, (2) be grouped into \"zones\" or (3) all be treated as a single parameter. Alteratvely, (4) parameters can be assigned to pilot points, from which individual parameter values are subsequently interpolated. `PstFrom` adds the relevant pre-processing steps to assign paramter values directly into the \"model run\" script.\n",
    " - parameter values can be setup as \"direct\", \"multiplier\" or \"addend\". This means the \"parameter value\" which PEST(++) sees can be (1) the same value the model sees, (2) a multiplier on the value in the model input file, or (3) a value which is added to the value in the model input file. This is very nifty. `PstFrom` is designed to preferentially use parameters setup as multipliers. These let us preserve the existing model inputs and treat them as the mean of the prior parameter distribution. Once again, relevant pre-processing scripts are automatically added to the \"model run\" script (discussed later).\n",
    "\n",
    "\n",
    "#### 5.1. Freyberg Recap\n",
    "\n",
    "As discussed, all model inputs are stored in external files. Some are arrays. Others are lists. Recall that our model has 3 layers. It is transient. Hydraulic properties (Kh, Kv, Ss, Sy) vary in space. Recharge varies over both space and time. We have GHBs, SFR and WEL boundary conditions. GHB parameters are constant over time, but vary spatially. SFR inflow varies over time. Pumping rates of individual wells are uncertain in space and and time.\n",
    "\n",
    "All of these have some degree of spatial and/or temporal correlation.\n",
    "\n",
    "#### 5.2. Geostatistical Structures\n",
    "\n",
    "Parameter correlation plays a role in (1) regularization when giving preference to the emergence of patterns of spatial heterogeneity and (2) when specifying the prior parameter probability distribution. Since we are all sophisticated and recognize the importance of expressing spatial and temporal uncertainty (e.g. heterogeneity) in the model inputs (and the corresponding spatial correlation in those uncertain inputs), let's use geostatistics to express uncertainty. To do that we need to define \"geostatistical structures\". \n",
    "\n",
    "For the sake of this tutorial, let's assume that heterogeneity in all spatially distributed parameters share the same statistical characteristics. Likewise for temporally varying parameters. We will therefore only  construct two geostatisitcal structures."
   ]
  },
  {
   "cell_type": "code",
   "execution_count": 16,
   "metadata": {
    "execution": {
     "iopub.execute_input": "2022-03-18T04:41:20.937024Z",
     "iopub.status.busy": "2022-03-18T04:41:20.936027Z",
     "iopub.status.idle": "2022-03-18T04:41:21.218763Z",
     "shell.execute_reply": "2022-03-18T04:41:21.219912Z"
    }
   },
   "outputs": [
    {
     "data": {
      "text/plain": [
       "<AxesSubplot:xlabel='distance', ylabel='$\\\\gamma$'>"
      ]
     },
     "execution_count": 16,
     "metadata": {},
     "output_type": "execute_result"
    },
    {
     "data": {
      "image/png": "[encoded data removed]",
      "text/plain": [
       "<Figure size 432x288 with 1 Axes>"
      ]
     },
     "metadata": {
      "needs_background": "light"
     },
     "output_type": "display_data"
    }
   ],
   "source": [
    "# exponential variogram for spatially varying parameters\n",
    "v_space = pyemu.geostats.ExpVario(contribution=1.0, #sill\n",
    "                                    a=1000, # range of correlation; length units of the model. In our case 'meters'\n",
    "                                    anisotropy=1.0, #name says it all\n",
    "                                    bearing=0.0 #angle in degrees East of North corresponding to anisotropy ellipse\n",
    "                                    )\n",
    "\n",
    "# geostatistical structure for spatially varying parameters\n",
    "grid_gs = pyemu.geostats.GeoStruct(variograms=v_space, transform='log') \n",
    "\n",
    "# plot the gs if you like:\n",
    "grid_gs.plot()"
   ]
  },
  {
   "cell_type": "code",
   "execution_count": 17,
   "metadata": {
    "execution": {
     "iopub.execute_input": "2022-03-18T04:41:21.223751Z",
     "iopub.status.busy": "2022-03-18T04:41:21.222753Z",
     "iopub.status.idle": "2022-03-18T04:41:21.225744Z",
     "shell.execute_reply": "2022-03-18T04:41:21.225744Z"
    }
   },
   "outputs": [],
   "source": [
    "# exponential variogram for time varying parameters\n",
    "v_time = pyemu.geostats.ExpVario(contribution=1.0, #sill\n",
    "                                    a=60, # range of correlation; length time units (days)\n",
    "                                    anisotropy=1.0, #do not change for 1-D time\n",
    "                                    bearing=0.0 #do not change for 1-D time\n",
    "                                    )\n",
    "\n",
    "# geostatistical structure for time varying parameters\n",
    "temporal_gs = pyemu.geostats.GeoStruct(variograms=v_time, transform='none') "
   ]
  },
  {
   "cell_type": "markdown",
   "metadata": {},
   "source": [
    "#### 5.3. Add Parameters\n",
    "\n",
    "Let's start by adding parameters of hydraulic properties that vary in space (but not time) and which are housed in array-type files (e.g. Kh, Kv, Ss, Sy). We will start by demonstrating step-by-step for Kh.\n",
    "\n",
    "First, find all the external array files that contain Kh values. In our case, these are the files with \"npf_k_\" in the file name. As you can see below, there is one file for each model layer. "
   ]
  },
  {
   "cell_type": "code",
   "execution_count": 18,
   "metadata": {
    "execution": {
     "iopub.execute_input": "2022-03-18T04:41:21.229733Z",
     "iopub.status.busy": "2022-03-18T04:41:21.229733Z",
     "iopub.status.idle": "2022-03-18T04:41:21.234721Z",
     "shell.execute_reply": "2022-03-18T04:41:21.234721Z"
    }
   },
   "outputs": [
    {
     "name": "stdout",
     "output_type": "stream",
     "text": [
      "['freyberg6.npf_k_layer1.txt', 'freyberg6.npf_k_layer2.txt', 'freyberg6.npf_k_layer3.txt']\n"
     ]
    }
   ],
   "source": [
    "tag = \"npf_k_\"\n",
    "files = [f for f in os.listdir(template_ws) if tag in f.lower() and f.endswith(\".txt\")]\n",
    "print(files)"
   ]
  },
  {
   "cell_type": "markdown",
   "metadata": {},
   "source": [
    "Let's setup multiple spatial scales of parameters for Kh. To do this we will use three of the parameter \"types\" described above. The coarse scale will be a `constant` single value for each array. The medium scale will `pilot points`. The finest scale will use parameters as the `grid` scale (a unique parameter for each model cell!)\n",
    "\n",
    "Each scale of parameters will work with the others as multipliers with the existing Kh arrays. (This all happens at runtime as part of the \"model run\" script.) Think of the scales as dials that PEST(++) can turn to improve the fit. The \"coarse\" scale is one big dial that alows PEST to move everything at once. The \"medium\" dials are few (but not too many) that allow PEST to adjust broad areas, but not making eveything move. The \"fine\" scales are lots of small dials that allow PEST(++) to have very detailed control, tweaking parameter values within very small areas. \n",
    "\n",
    "However, because we are working with parameter `multipliers`, we will need to specify two sets of parameter bounds: \n",
    " - `upper_bound` and `lower_bound` are the standard control file bounds, while\n",
    " - `ult_ubound` and `ult_lbound` are bounds that are applied at runtime to the resulting (multiplied out) model input array. \n",
    " \n",
    "Since we are using sets of multipliers, it is important to make sure we keep the resulting model input arrays within the range of realistic values.\n",
    "\n",
    "#### 5.3.1. Array Files\n",
    "\n",
    "We will first demonstrate steb-by-step for `freyberg6.npf_k_layer1.txt`. We will start with grid scale parameters. These are multipliers assigned to each individual value in the array.\n",
    "\n",
    "We start by getting the idomain array. As our model has inactive cells, this heps us avoid adding unncessary parameters. It is also required later when generating pilot points."
   ]
  },
  {
   "cell_type": "code",
   "execution_count": 19,
   "metadata": {
    "execution": {
     "iopub.execute_input": "2022-03-18T04:41:21.240705Z",
     "iopub.status.busy": "2022-03-18T04:41:21.240705Z",
     "iopub.status.idle": "2022-03-18T04:41:21.242699Z",
     "shell.execute_reply": "2022-03-18T04:41:21.242699Z"
    }
   },
   "outputs": [],
   "source": [
    "# as IDOMIAN is the same in all layers, we can use any layer\n",
    "ib = gwf.dis.idomain.get_data(layer=0)"
   ]
  },
  {
   "cell_type": "code",
   "execution_count": 20,
   "metadata": {
    "execution": {
     "iopub.execute_input": "2022-03-18T04:41:21.247687Z",
     "iopub.status.busy": "2022-03-18T04:41:21.247687Z",
     "iopub.status.idle": "2022-03-18T04:41:21.280631Z",
     "shell.execute_reply": "2022-03-18T04:41:21.279602Z"
    }
   },
   "outputs": [
    {
     "name": "stdout",
     "output_type": "stream",
     "text": [
      "2022-03-18 15:11:21.246688 starting: adding grid type m style parameters for file(s) ['freyberg6.npf_k_layer1.txt']\n",
      "2022-03-18 15:11:21.246688 starting: loading array freyberg6_template\\freyberg6.npf_k_layer1.txt\n",
      "2022-03-18 15:11:21.253669 finished: loading array freyberg6_template\\freyberg6.npf_k_layer1.txt took: 0:00:00.006981\n",
      "2022-03-18 15:11:21.253669 loaded array 'freyberg_mf6\\freyberg6.npf_k_layer1.txt' of shape (40, 20)\n",
      "2022-03-18 15:11:21.255664 starting: writing array-style template file 'freyberg6_template\\npf_k_layer1_gr_inst0_grid.csv.tpl'\n",
      "2022-03-18 15:11:21.255664 starting: writing template file freyberg6_template\\npf_k_layer1_gr_inst0_grid.csv.tpl for ['npf_k_layer1_gr_inst:0']\n",
      "2022-03-18 15:11:21.268629 finished: writing template file freyberg6_template\\npf_k_layer1_gr_inst0_grid.csv.tpl for ['npf_k_layer1_gr_inst:0'] took: 0:00:00.012965\n",
      "2022-03-18 15:11:21.268629 starting: writing array-based template file 'freyberg6_template\\npf_k_layer1_gr_inst0_grid.csv.tpl'\n",
      "2022-03-18 15:11:21.268629 saving zone array freyberg6_template\\npf_k_layer1_gr_inst0_grid.csv.zone for tpl file freyberg6_template\\npf_k_layer1_gr_inst0_grid.csv.tpl\n",
      "2022-03-18 15:11:21.276608 finished: adding grid type m style parameters for file(s) ['freyberg6.npf_k_layer1.txt'] took: 0:00:00.029920\n"
     ]
    }
   ],
   "source": [
    "f = 'freyberg6.npf_k_layer1.txt'\n",
    "\n",
    "# grid (fine) scale parameters\n",
    "df_gr = pf.add_parameters(f,\n",
    "                zone_array=ib, #as we have inactie model cells, we can avoid assigning these as parameters\n",
    "                par_type=\"grid\", #specify the type, these will be unique parameters for each cell\n",
    "                geostruct=grid_gs, # the gestatisical structure for spatial correlation \n",
    "                par_name_base=f.split('.')[1]+\"_gr\", #specify a parameter name base that allows us to easily identify the filename and parameter type. \"_gr\" for \"grid\", and so forth.\n",
    "                pargp=f.split('.')[1]+\"_gr\", #likewise for the parameter group name\n",
    "                lower_bound=0.2, upper_bound=5.0, #parameter lower and upper bound\n",
    "                ult_ubound=100, ult_lbound=0.01 # The ultimate bounds for multiplied model input values. Here we are stating that, after accounting for all multipliers, Kh cannot exceed these values. Very important with multipliers\n",
    "                )"
   ]
  },
  {
   "cell_type": "markdown",
   "metadata": {},
   "source": [
    "As when adding observations,  `pf.add_parameters()` returns a dataframe. Take a look. You may recognize alot of the information that appears in a PEST `*parameter data` section. All of this is still only housed in memory for now. We will write the PEST control file later on."
   ]
  },
  {
   "cell_type": "code",
   "execution_count": 21,
   "metadata": {
    "execution": {
     "iopub.execute_input": "2022-03-18T04:41:21.295558Z",
     "iopub.status.busy": "2022-03-18T04:41:21.295558Z",
     "iopub.status.idle": "2022-03-18T04:41:21.298550Z",
     "shell.execute_reply": "2022-03-18T04:41:21.298550Z"
    }
   },
   "outputs": [
    {
     "data": {
      "text/html": [
       "<div>\n",
       "<style scoped>\n",
       "    .dataframe tbody tr th:only-of-type {\n",
       "        vertical-align: middle;\n",
       "    }\n",
       "\n",
       "    .dataframe tbody tr th {\n",
       "        vertical-align: top;\n",
       "    }\n",
       "\n",
       "    .dataframe thead th {\n",
       "        text-align: right;\n",
       "    }\n",
       "</style>\n",
       "<table border=\"1\" class=\"dataframe\">\n",
       "  <thead>\n",
       "    <tr style=\"text-align: right;\">\n",
       "      <th></th>\n",
       "      <th>parnme</th>\n",
       "      <th>parval1</th>\n",
       "      <th>i</th>\n",
       "      <th>j</th>\n",
       "      <th>x</th>\n",
       "      <th>y</th>\n",
       "      <th>pargp</th>\n",
       "      <th>tpl_filename</th>\n",
       "      <th>input_filename</th>\n",
       "      <th>partype</th>\n",
       "      <th>partrans</th>\n",
       "      <th>parubnd</th>\n",
       "      <th>parlbnd</th>\n",
       "      <th>parchglim</th>\n",
       "      <th>scale</th>\n",
       "      <th>offset</th>\n",
       "      <th>dercom</th>\n",
       "    </tr>\n",
       "  </thead>\n",
       "  <tbody>\n",
       "    <tr>\n",
       "      <th>pname:npf_k_layer1_gr_inst:0_ptype:gr_pstyle:m_i:0_j:0_x:125.00_y:9875.00_zone:1</th>\n",
       "      <td>pname:npf_k_layer1_gr_inst:0_ptype:gr_pstyle:m_i:0_j:0_x:125.00_y:9875.00_zone:1</td>\n",
       "      <td>1.0</td>\n",
       "      <td>0</td>\n",
       "      <td>0</td>\n",
       "      <td>125.0</td>\n",
       "      <td>9875.0</td>\n",
       "      <td>npf_k_layer1_gr</td>\n",
       "      <td>freyberg6_template\\npf_k_layer1_gr_inst0_grid.csv.tpl</td>\n",
       "      <td>freyberg6_template\\mult\\npf_k_layer1_gr_inst0_grid.csv</td>\n",
       "      <td>grid</td>\n",
       "      <td>log</td>\n",
       "      <td>5.0</td>\n",
       "      <td>0.2</td>\n",
       "      <td>factor</td>\n",
       "      <td>1.0</td>\n",
       "      <td>0.0</td>\n",
       "      <td>1</td>\n",
       "    </tr>\n",
       "    <tr>\n",
       "      <th>pname:npf_k_layer1_gr_inst:0_ptype:gr_pstyle:m_i:0_j:1_x:375.00_y:9875.00_zone:1</th>\n",
       "      <td>pname:npf_k_layer1_gr_inst:0_ptype:gr_pstyle:m_i:0_j:1_x:375.00_y:9875.00_zone:1</td>\n",
       "      <td>1.0</td>\n",
       "      <td>0</td>\n",
       "      <td>1</td>\n",
       "      <td>375.0</td>\n",
       "      <td>9875.0</td>\n",
       "      <td>npf_k_layer1_gr</td>\n",
       "      <td>freyberg6_template\\npf_k_layer1_gr_inst0_grid.csv.tpl</td>\n",
       "      <td>freyberg6_template\\mult\\npf_k_layer1_gr_inst0_grid.csv</td>\n",
       "      <td>grid</td>\n",
       "      <td>log</td>\n",
       "      <td>5.0</td>\n",
       "      <td>0.2</td>\n",
       "      <td>factor</td>\n",
       "      <td>1.0</td>\n",
       "      <td>0.0</td>\n",
       "      <td>1</td>\n",
       "    </tr>\n",
       "    <tr>\n",
       "      <th>pname:npf_k_layer1_gr_inst:0_ptype:gr_pstyle:m_i:0_j:2_x:625.00_y:9875.00_zone:1</th>\n",
       "      <td>pname:npf_k_layer1_gr_inst:0_ptype:gr_pstyle:m_i:0_j:2_x:625.00_y:9875.00_zone:1</td>\n",
       "      <td>1.0</td>\n",
       "      <td>0</td>\n",
       "      <td>2</td>\n",
       "      <td>625.0</td>\n",
       "      <td>9875.0</td>\n",
       "      <td>npf_k_layer1_gr</td>\n",
       "      <td>freyberg6_template\\npf_k_layer1_gr_inst0_grid.csv.tpl</td>\n",
       "      <td>freyberg6_template\\mult\\npf_k_layer1_gr_inst0_grid.csv</td>\n",
       "      <td>grid</td>\n",
       "      <td>log</td>\n",
       "      <td>5.0</td>\n",
       "      <td>0.2</td>\n",
       "      <td>factor</td>\n",
       "      <td>1.0</td>\n",
       "      <td>0.0</td>\n",
       "      <td>1</td>\n",
       "    </tr>\n",
       "    <tr>\n",
       "      <th>pname:npf_k_layer1_gr_inst:0_ptype:gr_pstyle:m_i:0_j:3_x:875.00_y:9875.00_zone:1</th>\n",
       "      <td>pname:npf_k_layer1_gr_inst:0_ptype:gr_pstyle:m_i:0_j:3_x:875.00_y:9875.00_zone:1</td>\n",
       "      <td>1.0</td>\n",
       "      <td>0</td>\n",
       "      <td>3</td>\n",
       "      <td>875.0</td>\n",
       "      <td>9875.0</td>\n",
       "      <td>npf_k_layer1_gr</td>\n",
       "      <td>freyberg6_template\\npf_k_layer1_gr_inst0_grid.csv.tpl</td>\n",
       "      <td>freyberg6_template\\mult\\npf_k_layer1_gr_inst0_grid.csv</td>\n",
       "      <td>grid</td>\n",
       "      <td>log</td>\n",
       "      <td>5.0</td>\n",
       "      <td>0.2</td>\n",
       "      <td>factor</td>\n",
       "      <td>1.0</td>\n",
       "      <td>0.0</td>\n",
       "      <td>1</td>\n",
       "    </tr>\n",
       "    <tr>\n",
       "      <th>pname:npf_k_layer1_gr_inst:0_ptype:gr_pstyle:m_i:0_j:4_x:1125.00_y:9875.00_zone:1</th>\n",
       "      <td>pname:npf_k_layer1_gr_inst:0_ptype:gr_pstyle:m_i:0_j:4_x:1125.00_y:9875.00_zone:1</td>\n",
       "      <td>1.0</td>\n",
       "      <td>0</td>\n",
       "      <td>4</td>\n",
       "      <td>1125.0</td>\n",
       "      <td>9875.0</td>\n",
       "      <td>npf_k_layer1_gr</td>\n",
       "      <td>freyberg6_template\\npf_k_layer1_gr_inst0_grid.csv.tpl</td>\n",
       "      <td>freyberg6_template\\mult\\npf_k_layer1_gr_inst0_grid.csv</td>\n",
       "      <td>grid</td>\n",
       "      <td>log</td>\n",
       "      <td>5.0</td>\n",
       "      <td>0.2</td>\n",
       "      <td>factor</td>\n",
       "      <td>1.0</td>\n",
       "      <td>0.0</td>\n",
       "      <td>1</td>\n",
       "    </tr>\n",
       "  </tbody>\n",
       "</table>\n",
       "</div>"
      ],
      "text/plain": [
       "                                                                                                                                                              parnme  \\\n",
       "pname:npf_k_layer1_gr_inst:0_ptype:gr_pstyle:m_i:0_j:0_x:125.00_y:9875.00_zone:1    pname:npf_k_layer1_gr_inst:0_ptype:gr_pstyle:m_i:0_j:0_x:125.00_y:9875.00_zone:1   \n",
       "pname:npf_k_layer1_gr_inst:0_ptype:gr_pstyle:m_i:0_j:1_x:375.00_y:9875.00_zone:1    pname:npf_k_layer1_gr_inst:0_ptype:gr_pstyle:m_i:0_j:1_x:375.00_y:9875.00_zone:1   \n",
       "pname:npf_k_layer1_gr_inst:0_ptype:gr_pstyle:m_i:0_j:2_x:625.00_y:9875.00_zone:1    pname:npf_k_layer1_gr_inst:0_ptype:gr_pstyle:m_i:0_j:2_x:625.00_y:9875.00_zone:1   \n",
       "pname:npf_k_layer1_gr_inst:0_ptype:gr_pstyle:m_i:0_j:3_x:875.00_y:9875.00_zone:1    pname:npf_k_layer1_gr_inst:0_ptype:gr_pstyle:m_i:0_j:3_x:875.00_y:9875.00_zone:1   \n",
       "pname:npf_k_layer1_gr_inst:0_ptype:gr_pstyle:m_i:0_j:4_x:1125.00_y:9875.00_zone:1  pname:npf_k_layer1_gr_inst:0_ptype:gr_pstyle:m_i:0_j:4_x:1125.00_y:9875.00_zone:1   \n",
       "\n",
       "                                                                                   parval1  \\\n",
       "pname:npf_k_layer1_gr_inst:0_ptype:gr_pstyle:m_i:0_j:0_x:125.00_y:9875.00_zone:1       1.0   \n",
       "pname:npf_k_layer1_gr_inst:0_ptype:gr_pstyle:m_i:0_j:1_x:375.00_y:9875.00_zone:1       1.0   \n",
       "pname:npf_k_layer1_gr_inst:0_ptype:gr_pstyle:m_i:0_j:2_x:625.00_y:9875.00_zone:1       1.0   \n",
       "pname:npf_k_layer1_gr_inst:0_ptype:gr_pstyle:m_i:0_j:3_x:875.00_y:9875.00_zone:1       1.0   \n",
       "pname:npf_k_layer1_gr_inst:0_ptype:gr_pstyle:m_i:0_j:4_x:1125.00_y:9875.00_zone:1      1.0   \n",
       "\n",
       "                                                                                   i  \\\n",
       "pname:npf_k_layer1_gr_inst:0_ptype:gr_pstyle:m_i:0_j:0_x:125.00_y:9875.00_zone:1   0   \n",
       "pname:npf_k_layer1_gr_inst:0_ptype:gr_pstyle:m_i:0_j:1_x:375.00_y:9875.00_zone:1   0   \n",
       "pname:npf_k_layer1_gr_inst:0_ptype:gr_pstyle:m_i:0_j:2_x:625.00_y:9875.00_zone:1   0   \n",
       "pname:npf_k_layer1_gr_inst:0_ptype:gr_pstyle:m_i:0_j:3_x:875.00_y:9875.00_zone:1   0   \n",
       "pname:npf_k_layer1_gr_inst:0_ptype:gr_pstyle:m_i:0_j:4_x:1125.00_y:9875.00_zone:1  0   \n",
       "\n",
       "                                                                                   j  \\\n",
       "pname:npf_k_layer1_gr_inst:0_ptype:gr_pstyle:m_i:0_j:0_x:125.00_y:9875.00_zone:1   0   \n",
       "pname:npf_k_layer1_gr_inst:0_ptype:gr_pstyle:m_i:0_j:1_x:375.00_y:9875.00_zone:1   1   \n",
       "pname:npf_k_layer1_gr_inst:0_ptype:gr_pstyle:m_i:0_j:2_x:625.00_y:9875.00_zone:1   2   \n",
       "pname:npf_k_layer1_gr_inst:0_ptype:gr_pstyle:m_i:0_j:3_x:875.00_y:9875.00_zone:1   3   \n",
       "pname:npf_k_layer1_gr_inst:0_ptype:gr_pstyle:m_i:0_j:4_x:1125.00_y:9875.00_zone:1  4   \n",
       "\n",
       "                                                                                        x  \\\n",
       "pname:npf_k_layer1_gr_inst:0_ptype:gr_pstyle:m_i:0_j:0_x:125.00_y:9875.00_zone:1    125.0   \n",
       "pname:npf_k_layer1_gr_inst:0_ptype:gr_pstyle:m_i:0_j:1_x:375.00_y:9875.00_zone:1    375.0   \n",
       "pname:npf_k_layer1_gr_inst:0_ptype:gr_pstyle:m_i:0_j:2_x:625.00_y:9875.00_zone:1    625.0   \n",
       "pname:npf_k_layer1_gr_inst:0_ptype:gr_pstyle:m_i:0_j:3_x:875.00_y:9875.00_zone:1    875.0   \n",
       "pname:npf_k_layer1_gr_inst:0_ptype:gr_pstyle:m_i:0_j:4_x:1125.00_y:9875.00_zone:1  1125.0   \n",
       "\n",
       "                                                                                        y  \\\n",
       "pname:npf_k_layer1_gr_inst:0_ptype:gr_pstyle:m_i:0_j:0_x:125.00_y:9875.00_zone:1   9875.0   \n",
       "pname:npf_k_layer1_gr_inst:0_ptype:gr_pstyle:m_i:0_j:1_x:375.00_y:9875.00_zone:1   9875.0   \n",
       "pname:npf_k_layer1_gr_inst:0_ptype:gr_pstyle:m_i:0_j:2_x:625.00_y:9875.00_zone:1   9875.0   \n",
       "pname:npf_k_layer1_gr_inst:0_ptype:gr_pstyle:m_i:0_j:3_x:875.00_y:9875.00_zone:1   9875.0   \n",
       "pname:npf_k_layer1_gr_inst:0_ptype:gr_pstyle:m_i:0_j:4_x:1125.00_y:9875.00_zone:1  9875.0   \n",
       "\n",
       "                                                                                             pargp  \\\n",
       "pname:npf_k_layer1_gr_inst:0_ptype:gr_pstyle:m_i:0_j:0_x:125.00_y:9875.00_zone:1   npf_k_layer1_gr   \n",
       "pname:npf_k_layer1_gr_inst:0_ptype:gr_pstyle:m_i:0_j:1_x:375.00_y:9875.00_zone:1   npf_k_layer1_gr   \n",
       "pname:npf_k_layer1_gr_inst:0_ptype:gr_pstyle:m_i:0_j:2_x:625.00_y:9875.00_zone:1   npf_k_layer1_gr   \n",
       "pname:npf_k_layer1_gr_inst:0_ptype:gr_pstyle:m_i:0_j:3_x:875.00_y:9875.00_zone:1   npf_k_layer1_gr   \n",
       "pname:npf_k_layer1_gr_inst:0_ptype:gr_pstyle:m_i:0_j:4_x:1125.00_y:9875.00_zone:1  npf_k_layer1_gr   \n",
       "\n",
       "                                                                                                                            tpl_filename  \\\n",
       "pname:npf_k_layer1_gr_inst:0_ptype:gr_pstyle:m_i:0_j:0_x:125.00_y:9875.00_zone:1   freyberg6_template\\npf_k_layer1_gr_inst0_grid.csv.tpl   \n",
       "pname:npf_k_layer1_gr_inst:0_ptype:gr_pstyle:m_i:0_j:1_x:375.00_y:9875.00_zone:1   freyberg6_template\\npf_k_layer1_gr_inst0_grid.csv.tpl   \n",
       "pname:npf_k_layer1_gr_inst:0_ptype:gr_pstyle:m_i:0_j:2_x:625.00_y:9875.00_zone:1   freyberg6_template\\npf_k_layer1_gr_inst0_grid.csv.tpl   \n",
       "pname:npf_k_layer1_gr_inst:0_ptype:gr_pstyle:m_i:0_j:3_x:875.00_y:9875.00_zone:1   freyberg6_template\\npf_k_layer1_gr_inst0_grid.csv.tpl   \n",
       "pname:npf_k_layer1_gr_inst:0_ptype:gr_pstyle:m_i:0_j:4_x:1125.00_y:9875.00_zone:1  freyberg6_template\\npf_k_layer1_gr_inst0_grid.csv.tpl   \n",
       "\n",
       "                                                                                                                           input_filename  \\\n",
       "pname:npf_k_layer1_gr_inst:0_ptype:gr_pstyle:m_i:0_j:0_x:125.00_y:9875.00_zone:1   freyberg6_template\\mult\\npf_k_layer1_gr_inst0_grid.csv   \n",
       "pname:npf_k_layer1_gr_inst:0_ptype:gr_pstyle:m_i:0_j:1_x:375.00_y:9875.00_zone:1   freyberg6_template\\mult\\npf_k_layer1_gr_inst0_grid.csv   \n",
       "pname:npf_k_layer1_gr_inst:0_ptype:gr_pstyle:m_i:0_j:2_x:625.00_y:9875.00_zone:1   freyberg6_template\\mult\\npf_k_layer1_gr_inst0_grid.csv   \n",
       "pname:npf_k_layer1_gr_inst:0_ptype:gr_pstyle:m_i:0_j:3_x:875.00_y:9875.00_zone:1   freyberg6_template\\mult\\npf_k_layer1_gr_inst0_grid.csv   \n",
       "pname:npf_k_layer1_gr_inst:0_ptype:gr_pstyle:m_i:0_j:4_x:1125.00_y:9875.00_zone:1  freyberg6_template\\mult\\npf_k_layer1_gr_inst0_grid.csv   \n",
       "\n",
       "                                                                                  partype  \\\n",
       "pname:npf_k_layer1_gr_inst:0_ptype:gr_pstyle:m_i:0_j:0_x:125.00_y:9875.00_zone:1     grid   \n",
       "pname:npf_k_layer1_gr_inst:0_ptype:gr_pstyle:m_i:0_j:1_x:375.00_y:9875.00_zone:1     grid   \n",
       "pname:npf_k_layer1_gr_inst:0_ptype:gr_pstyle:m_i:0_j:2_x:625.00_y:9875.00_zone:1     grid   \n",
       "pname:npf_k_layer1_gr_inst:0_ptype:gr_pstyle:m_i:0_j:3_x:875.00_y:9875.00_zone:1     grid   \n",
       "pname:npf_k_layer1_gr_inst:0_ptype:gr_pstyle:m_i:0_j:4_x:1125.00_y:9875.00_zone:1    grid   \n",
       "\n",
       "                                                                                  partrans  \\\n",
       "pname:npf_k_layer1_gr_inst:0_ptype:gr_pstyle:m_i:0_j:0_x:125.00_y:9875.00_zone:1       log   \n",
       "pname:npf_k_layer1_gr_inst:0_ptype:gr_pstyle:m_i:0_j:1_x:375.00_y:9875.00_zone:1       log   \n",
       "pname:npf_k_layer1_gr_inst:0_ptype:gr_pstyle:m_i:0_j:2_x:625.00_y:9875.00_zone:1       log   \n",
       "pname:npf_k_layer1_gr_inst:0_ptype:gr_pstyle:m_i:0_j:3_x:875.00_y:9875.00_zone:1       log   \n",
       "pname:npf_k_layer1_gr_inst:0_ptype:gr_pstyle:m_i:0_j:4_x:1125.00_y:9875.00_zone:1      log   \n",
       "\n",
       "                                                                                   parubnd  \\\n",
       "pname:npf_k_layer1_gr_inst:0_ptype:gr_pstyle:m_i:0_j:0_x:125.00_y:9875.00_zone:1       5.0   \n",
       "pname:npf_k_layer1_gr_inst:0_ptype:gr_pstyle:m_i:0_j:1_x:375.00_y:9875.00_zone:1       5.0   \n",
       "pname:npf_k_layer1_gr_inst:0_ptype:gr_pstyle:m_i:0_j:2_x:625.00_y:9875.00_zone:1       5.0   \n",
       "pname:npf_k_layer1_gr_inst:0_ptype:gr_pstyle:m_i:0_j:3_x:875.00_y:9875.00_zone:1       5.0   \n",
       "pname:npf_k_layer1_gr_inst:0_ptype:gr_pstyle:m_i:0_j:4_x:1125.00_y:9875.00_zone:1      5.0   \n",
       "\n",
       "                                                                                   parlbnd  \\\n",
       "pname:npf_k_layer1_gr_inst:0_ptype:gr_pstyle:m_i:0_j:0_x:125.00_y:9875.00_zone:1       0.2   \n",
       "pname:npf_k_layer1_gr_inst:0_ptype:gr_pstyle:m_i:0_j:1_x:375.00_y:9875.00_zone:1       0.2   \n",
       "pname:npf_k_layer1_gr_inst:0_ptype:gr_pstyle:m_i:0_j:2_x:625.00_y:9875.00_zone:1       0.2   \n",
       "pname:npf_k_layer1_gr_inst:0_ptype:gr_pstyle:m_i:0_j:3_x:875.00_y:9875.00_zone:1       0.2   \n",
       "pname:npf_k_layer1_gr_inst:0_ptype:gr_pstyle:m_i:0_j:4_x:1125.00_y:9875.00_zone:1      0.2   \n",
       "\n",
       "                                                                                  parchglim  \\\n",
       "pname:npf_k_layer1_gr_inst:0_ptype:gr_pstyle:m_i:0_j:0_x:125.00_y:9875.00_zone:1     factor   \n",
       "pname:npf_k_layer1_gr_inst:0_ptype:gr_pstyle:m_i:0_j:1_x:375.00_y:9875.00_zone:1     factor   \n",
       "pname:npf_k_layer1_gr_inst:0_ptype:gr_pstyle:m_i:0_j:2_x:625.00_y:9875.00_zone:1     factor   \n",
       "pname:npf_k_layer1_gr_inst:0_ptype:gr_pstyle:m_i:0_j:3_x:875.00_y:9875.00_zone:1     factor   \n",
       "pname:npf_k_layer1_gr_inst:0_ptype:gr_pstyle:m_i:0_j:4_x:1125.00_y:9875.00_zone:1    factor   \n",
       "\n",
       "                                                                                   scale  \\\n",
       "pname:npf_k_layer1_gr_inst:0_ptype:gr_pstyle:m_i:0_j:0_x:125.00_y:9875.00_zone:1     1.0   \n",
       "pname:npf_k_layer1_gr_inst:0_ptype:gr_pstyle:m_i:0_j:1_x:375.00_y:9875.00_zone:1     1.0   \n",
       "pname:npf_k_layer1_gr_inst:0_ptype:gr_pstyle:m_i:0_j:2_x:625.00_y:9875.00_zone:1     1.0   \n",
       "pname:npf_k_layer1_gr_inst:0_ptype:gr_pstyle:m_i:0_j:3_x:875.00_y:9875.00_zone:1     1.0   \n",
       "pname:npf_k_layer1_gr_inst:0_ptype:gr_pstyle:m_i:0_j:4_x:1125.00_y:9875.00_zone:1    1.0   \n",
       "\n",
       "                                                                                   offset  \\\n",
       "pname:npf_k_layer1_gr_inst:0_ptype:gr_pstyle:m_i:0_j:0_x:125.00_y:9875.00_zone:1      0.0   \n",
       "pname:npf_k_layer1_gr_inst:0_ptype:gr_pstyle:m_i:0_j:1_x:375.00_y:9875.00_zone:1      0.0   \n",
       "pname:npf_k_layer1_gr_inst:0_ptype:gr_pstyle:m_i:0_j:2_x:625.00_y:9875.00_zone:1      0.0   \n",
       "pname:npf_k_layer1_gr_inst:0_ptype:gr_pstyle:m_i:0_j:3_x:875.00_y:9875.00_zone:1      0.0   \n",
       "pname:npf_k_layer1_gr_inst:0_ptype:gr_pstyle:m_i:0_j:4_x:1125.00_y:9875.00_zone:1     0.0   \n",
       "\n",
       "                                                                                   dercom  \n",
       "pname:npf_k_layer1_gr_inst:0_ptype:gr_pstyle:m_i:0_j:0_x:125.00_y:9875.00_zone:1        1  \n",
       "pname:npf_k_layer1_gr_inst:0_ptype:gr_pstyle:m_i:0_j:1_x:375.00_y:9875.00_zone:1        1  \n",
       "pname:npf_k_layer1_gr_inst:0_ptype:gr_pstyle:m_i:0_j:2_x:625.00_y:9875.00_zone:1        1  \n",
       "pname:npf_k_layer1_gr_inst:0_ptype:gr_pstyle:m_i:0_j:3_x:875.00_y:9875.00_zone:1        1  \n",
       "pname:npf_k_layer1_gr_inst:0_ptype:gr_pstyle:m_i:0_j:4_x:1125.00_y:9875.00_zone:1       1  "
      ]
     },
     "execution_count": 21,
     "metadata": {},
     "output_type": "execute_result"
    }
   ],
   "source": [
    "df_gr.head()"
   ]
  },
  {
   "cell_type": "markdown",
   "metadata": {},
   "source": [
    "Now, we add pilot point (medium scale) multiplier parameters to the same model input file. These multipliers are assigned to pilot points, which are subsequently interpolated to values in the array.\n",
    "\n",
    "You can add pilot points in two ways:\n",
    "\n",
    "1. `PstFrom` can generate them for you on a regular grid or \n",
    "2. you can supply `PstFrom` with existing pilot point location information. \n",
    "\n",
    "When you change `par_type` to \"pilotpoints\", by default, a regular grid of pilot points is setup using a default `pp_space` value of 10 (which is every 10th row and column). You can chnge this spacing by passing a integer to `pp_space` (as demonstrated below). \n",
    "\n",
    "Alternatively you can specify a filename or dataframe with pilot point locations. If you supply `pp_space` as a `str` it is assumed to be a filename. The extension is the guide: \".csv\" for dataframe, \".shp\" for shapefile (point-type). Anything else and the file is assumed to be a pilot points file type. The dataframe (or .csv file) must have \"name\", \"x\", and \"y\" as columns - it can have more, but must have those. "
   ]
  },
  {
   "cell_type": "code",
   "execution_count": 22,
   "metadata": {
    "execution": {
     "iopub.execute_input": "2022-03-18T04:41:21.304534Z",
     "iopub.status.busy": "2022-03-18T04:41:21.303538Z",
     "iopub.status.idle": "2022-03-18T04:41:38.053945Z",
     "shell.execute_reply": "2022-03-18T04:41:38.053945Z"
    }
   },
   "outputs": [
    {
     "name": "stdout",
     "output_type": "stream",
     "text": [
      "2022-03-18 15:11:21.302538 starting: adding pilotpoints type m style parameters for file(s) ['freyberg6.npf_k_layer1.txt']\n",
      "2022-03-18 15:11:21.302538 starting: loading array freyberg6_template\\freyberg6.npf_k_layer1.txt\n",
      "2022-03-18 15:11:21.304534 finished: loading array freyberg6_template\\freyberg6.npf_k_layer1.txt took: 0:00:00.001996\n",
      "2022-03-18 15:11:21.304534 loaded array 'freyberg_mf6\\freyberg6.npf_k_layer1.txt' of shape (40, 20)\n",
      "2022-03-18 15:11:21.306529 starting: writing array-style template file 'freyberg6_template\\npf_k_layer1_pp_inst0_pilotpoints.csv.tpl'\n",
      "2022-03-18 15:11:21.306529 starting: setting up pilot point parameters\n",
      "2022-03-18 15:11:21.306529 No spatial reference (containing cell spacing) passed.\n",
      "2022-03-18 15:11:21.306529 OK - using spatial reference in parent object.\n"
     ]
    },
    {
     "name": "stdout",
     "output_type": "stream",
     "text": [
      "2022-03-18 15:11:21.443718 32 pilot point parameters created\n",
      "2022-03-18 15:11:21.443718 pilot point 'pargp':npf_k_layer1_pp\n",
      "2022-03-18 15:11:21.443718 finished: setting up pilot point parameters took: 0:00:00.137189\n",
      "2022-03-18 15:11:21.450699 starting: calculating factors for pargp=npf_k_layer1_pp\n",
      "2022-03-18 15:11:21.450699 saving krige variance file:freyberg6_template\\npf_k_layer1_pp_inst0pp.var.dat\n",
      "2022-03-18 15:11:21.450699 saving krige factors file:freyberg6_template\\npf_k_layer1_pp_inst0pp.fac\n",
      "starting interp point loop for 706 points\n"
     ]
    },
    {
     "name": "stdout",
     "output_type": "stream",
     "text": [
      "starting 0\n"
     ]
    },
    {
     "name": "stdout",
     "output_type": "stream",
     "text": [
      "starting 1\n"
     ]
    },
    {
     "name": "stdout",
     "output_type": "stream",
     "text": [
      "starting 2\n"
     ]
    },
    {
     "name": "stdout",
     "output_type": "stream",
     "text": [
      "starting 3\n"
     ]
    },
    {
     "name": "stdout",
     "output_type": "stream",
     "text": [
      "starting 4\n"
     ]
    },
    {
     "name": "stdout",
     "output_type": "stream",
     "text": [
      "starting 5\n"
     ]
    },
    {
     "name": "stdout",
     "output_type": "stream",
     "text": [
      "starting 6\n"
     ]
    },
    {
     "name": "stdout",
     "output_type": "stream",
     "text": [
      "starting 7\n"
     ]
    },
    {
     "name": "stdout",
     "output_type": "stream",
     "text": [
      "starting 8\n"
     ]
    },
    {
     "name": "stdout",
     "output_type": "stream",
     "text": [
      "starting 9\n"
     ]
    },
    {
     "name": "stdout",
     "output_type": "stream",
     "text": [
      "took 16.54739 seconds\n",
      "2022-03-18 15:11:38.044027 finished: calculating factors for pargp=npf_k_layer1_pp took: 0:00:16.593328\n",
      "2022-03-18 15:11:38.044027 starting: writing array-based template file 'freyberg6_template\\npf_k_layer1_pp_inst0pp.dat.tpl'\n",
      "2022-03-18 15:11:38.044969 saving zone array freyberg6_template\\npf_k_layer1_pp_inst0pp.dat.zone for tpl file freyberg6_template\\npf_k_layer1_pp_inst0pp.dat.tpl\n",
      "2022-03-18 15:11:38.050017 finished: adding pilotpoints type m style parameters for file(s) ['freyberg6.npf_k_layer1.txt'] took: 0:00:16.747479\n"
     ]
    }
   ],
   "source": [
    "# pilot point (medium) scale parameters\n",
    "df_pp = pf.add_parameters(f,\n",
    "                    zone_array=ib,\n",
    "                    par_type=\"pilotpoints\",\n",
    "                    geostruct=grid_gs,\n",
    "                    par_name_base=f.split('.')[1]+\"_pp\",\n",
    "                    pargp=f.split('.')[1]+\"_pp\",\n",
    "                    lower_bound=0.2,upper_bound=5.0,\n",
    "                    ult_ubound=100, ult_lbound=0.01,\n",
    "                    pp_space=4) # `PstFrom` will generate a unifrom grid of pilot points in every 4th row and column"
   ]
  },
  {
   "cell_type": "markdown",
   "metadata": {},
   "source": [
    "Lastly, add the constant (coarse) parameter multiplier. This is a single multiplier value applied to all values in the array. "
   ]
  },
  {
   "cell_type": "code",
   "execution_count": 23,
   "metadata": {
    "execution": {
     "iopub.execute_input": "2022-03-18T04:41:38.057935Z",
     "iopub.status.busy": "2022-03-18T04:41:38.057935Z",
     "iopub.status.idle": "2022-03-18T04:41:38.076885Z",
     "shell.execute_reply": "2022-03-18T04:41:38.076885Z"
    }
   },
   "outputs": [
    {
     "name": "stdout",
     "output_type": "stream",
     "text": [
      "2022-03-18 15:11:38.056964 starting: adding constant type m style parameters for file(s) ['freyberg6.npf_k_layer1.txt']\n",
      "2022-03-18 15:11:38.056964 starting: loading array freyberg6_template\\freyberg6.npf_k_layer1.txt\n",
      "2022-03-18 15:11:38.058957 finished: loading array freyberg6_template\\freyberg6.npf_k_layer1.txt took: 0:00:00.001993\n",
      "2022-03-18 15:11:38.058957 loaded array 'freyberg_mf6\\freyberg6.npf_k_layer1.txt' of shape (40, 20)\n",
      "2022-03-18 15:11:38.059958 starting: writing array-style template file 'freyberg6_template\\npf_k_layer1_cn_inst0_constant.csv.tpl'\n",
      "2022-03-18 15:11:38.059958 starting: writing template file freyberg6_template\\npf_k_layer1_cn_inst0_constant.csv.tpl for ['npf_k_layer1_cn_inst:0']\n",
      "2022-03-18 15:11:38.066950 finished: writing template file freyberg6_template\\npf_k_layer1_cn_inst0_constant.csv.tpl for ['npf_k_layer1_cn_inst:0'] took: 0:00:00.006992\n",
      "2022-03-18 15:11:38.067907 starting: writing array-based template file 'freyberg6_template\\npf_k_layer1_cn_inst0_constant.csv.tpl'\n",
      "2022-03-18 15:11:38.067907 saving zone array freyberg6_template\\npf_k_layer1_cn_inst0_constant.csv.zone for tpl file freyberg6_template\\npf_k_layer1_cn_inst0_constant.csv.tpl\n",
      "2022-03-18 15:11:38.073928 finished: adding constant type m style parameters for file(s) ['freyberg6.npf_k_layer1.txt'] took: 0:00:00.016964\n"
     ]
    }
   ],
   "source": [
    "# constant (coarse) scale parameters\n",
    "df_cst = pf.add_parameters(f,\n",
    "                    zone_array=ib,\n",
    "                    par_type=\"constant\",\n",
    "                    geostruct=grid_gs,\n",
    "                    par_name_base=f.split('.')[1]+\"_cn\",\n",
    "                    pargp=f.split('.')[1]+\"_cn\",\n",
    "                    lower_bound=0.2,upper_bound=5.0,\n",
    "                    ult_ubound=100, ult_lbound=0.01)"
   ]
  },
  {
   "cell_type": "markdown",
   "metadata": {},
   "source": [
    "Let's do that for Kh in the other layers. We are going to be doing this a few times, so lets write a function."
   ]
  },
  {
   "cell_type": "code",
   "execution_count": 24,
   "metadata": {
    "execution": {
     "iopub.execute_input": "2022-03-18T04:41:38.084896Z",
     "iopub.status.busy": "2022-03-18T04:41:38.083867Z",
     "iopub.status.idle": "2022-03-18T04:41:38.086890Z",
     "shell.execute_reply": "2022-03-18T04:41:38.086157Z"
    }
   },
   "outputs": [],
   "source": [
    "def add_mult_pars(f, lb=0.2, ub=5.0, ulb=0.01, uub=100):\n",
    "    # grid (fine) scale parameters\n",
    "    pf.add_parameters(f,\n",
    "                    zone_array=ib,\n",
    "                    par_type=\"grid\", #specify the type, these will be unique parameters for each cell\n",
    "                    geostruct=grid_gs, # the gestatisical structure for spatial correlation \n",
    "                    par_name_base=f.split('.')[1]+\"_gr\", #specify a parameter name base that allows us to easily identify the filename and parameter type. \"_gr\" for \"grid\", and so forth.\n",
    "                    pargp=f.split('.')[1]+\"_gr\", #likewise for the parameter group name\n",
    "                    lower_bound=lb, upper_bound=ub, #parameter lower and upper bound\n",
    "                    ult_ubound=uub, ult_lbound=ulb # The ultimate bounds for multiplied model input values. Here we are stating that, after accounting for all multipliers, Kh cannot exceed these values. Very important with multipliers\n",
    "                    )\n",
    "                    \n",
    "    # pilot point (medium) scale parameters\n",
    "    pf.add_parameters(f,\n",
    "                        zone_array=ib,\n",
    "                        par_type=\"pilotpoints\",\n",
    "                        geostruct=grid_gs,\n",
    "                        par_name_base=f.split('.')[1]+\"_pp\",\n",
    "                        pargp=f.split('.')[1]+\"_pp\",\n",
    "                        lower_bound=lb, upper_bound=ub,\n",
    "                        ult_ubound=uub, ult_lbound=ulb,\n",
    "                        pp_space=4) # `PstFrom` will generate a unifrom grid of pilot points in every 4th row and column\n",
    "\n",
    "    # constant (coarse) scale parameters\n",
    "    pf.add_parameters(f,\n",
    "                        zone_array=ib,\n",
    "                        par_type=\"constant\",\n",
    "                        geostruct=grid_gs,\n",
    "                        par_name_base=f.split('.')[1]+\"_cn\",\n",
    "                        pargp=f.split('.')[1]+\"_cn\",\n",
    "                        lower_bound=lb, upper_bound=ub,\n",
    "                        ult_ubound=uub, ult_lbound=ulb)\n",
    "    return"
   ]
  },
  {
   "cell_type": "code",
   "execution_count": 25,
   "metadata": {
    "execution": {
     "iopub.execute_input": "2022-03-18T04:41:38.089850Z",
     "iopub.status.busy": "2022-03-18T04:41:38.089850Z",
     "iopub.status.idle": "2022-03-18T04:41:38.390700Z",
     "shell.execute_reply": "2022-03-18T04:41:38.389698Z"
    }
   },
   "outputs": [
    {
     "name": "stdout",
     "output_type": "stream",
     "text": [
      "2022-03-18 15:11:38.088878 starting: adding grid type m style parameters for file(s) ['freyberg6.npf_k_layer2.txt']\n",
      "2022-03-18 15:11:38.088878 starting: loading array freyberg6_template\\freyberg6.npf_k_layer2.txt\n",
      "2022-03-18 15:11:38.095877 finished: loading array freyberg6_template\\freyberg6.npf_k_layer2.txt took: 0:00:00.006999\n",
      "2022-03-18 15:11:38.095877 loaded array 'freyberg_mf6\\freyberg6.npf_k_layer2.txt' of shape (40, 20)\n",
      "2022-03-18 15:11:38.097872 starting: writing array-style template file 'freyberg6_template\\npf_k_layer2_gr_inst0_grid.csv.tpl'\n",
      "2022-03-18 15:11:38.097872 starting: writing template file freyberg6_template\\npf_k_layer2_gr_inst0_grid.csv.tpl for ['npf_k_layer2_gr_inst:0']\n",
      "2022-03-18 15:11:38.109847 finished: writing template file freyberg6_template\\npf_k_layer2_gr_inst0_grid.csv.tpl for ['npf_k_layer2_gr_inst:0'] took: 0:00:00.011975\n",
      "2022-03-18 15:11:38.110844 starting: writing array-based template file 'freyberg6_template\\npf_k_layer2_gr_inst0_grid.csv.tpl'\n",
      "2022-03-18 15:11:38.110844 saving zone array freyberg6_template\\npf_k_layer2_gr_inst0_grid.csv.zone for tpl file freyberg6_template\\npf_k_layer2_gr_inst0_grid.csv.tpl\n",
      "2022-03-18 15:11:38.117815 finished: adding grid type m style parameters for file(s) ['freyberg6.npf_k_layer2.txt'] took: 0:00:00.028937\n",
      "2022-03-18 15:11:38.117815 starting: adding pilotpoints type m style parameters for file(s) ['freyberg6.npf_k_layer2.txt']\n",
      "2022-03-18 15:11:38.117815 starting: loading array freyberg6_template\\freyberg6.npf_k_layer2.txt\n",
      "2022-03-18 15:11:38.119769 finished: loading array freyberg6_template\\freyberg6.npf_k_layer2.txt took: 0:00:00.001954\n",
      "2022-03-18 15:11:38.119769 loaded array 'freyberg_mf6\\freyberg6.npf_k_layer2.txt' of shape (40, 20)\n",
      "2022-03-18 15:11:38.121811 starting: writing array-style template file 'freyberg6_template\\npf_k_layer2_pp_inst0_pilotpoints.csv.tpl'\n",
      "2022-03-18 15:11:38.121811 starting: setting up pilot point parameters\n",
      "2022-03-18 15:11:38.121811 No spatial reference (containing cell spacing) passed.\n",
      "2022-03-18 15:11:38.121811 OK - using spatial reference in parent object.\n",
      "2022-03-18 15:11:38.189638 32 pilot point parameters created\n"
     ]
    },
    {
     "name": "stdout",
     "output_type": "stream",
     "text": [
      "2022-03-18 15:11:38.190614 pilot point 'pargp':npf_k_layer2_pp\n",
      "2022-03-18 15:11:38.190614 finished: setting up pilot point parameters took: 0:00:00.068803\n",
      "2022-03-18 15:11:38.197562 starting: writing array-based template file 'freyberg6_template\\npf_k_layer2_pp_inst0pp.dat.tpl'\n",
      "2022-03-18 15:11:38.197562 saving zone array freyberg6_template\\npf_k_layer2_pp_inst0pp.dat.zone for tpl file freyberg6_template\\npf_k_layer2_pp_inst0pp.dat.tpl\n",
      "2022-03-18 15:11:38.232519 finished: adding pilotpoints type m style parameters for file(s) ['freyberg6.npf_k_layer2.txt'] took: 0:00:00.114704\n",
      "2022-03-18 15:11:38.233498 starting: adding constant type m style parameters for file(s) ['freyberg6.npf_k_layer2.txt']\n",
      "2022-03-18 15:11:38.233498 starting: loading array freyberg6_template\\freyberg6.npf_k_layer2.txt\n",
      "2022-03-18 15:11:38.234513 finished: loading array freyberg6_template\\freyberg6.npf_k_layer2.txt took: 0:00:00.001015\n",
      "2022-03-18 15:11:38.234513 loaded array 'freyberg_mf6\\freyberg6.npf_k_layer2.txt' of shape (40, 20)\n",
      "2022-03-18 15:11:38.236508 starting: writing array-style template file 'freyberg6_template\\npf_k_layer2_cn_inst0_constant.csv.tpl'\n"
     ]
    },
    {
     "name": "stdout",
     "output_type": "stream",
     "text": [
      "2022-03-18 15:11:38.237489 starting: writing template file freyberg6_template\\npf_k_layer2_cn_inst0_constant.csv.tpl for ['npf_k_layer2_cn_inst:0']\n",
      "2022-03-18 15:11:38.244435 finished: writing template file freyberg6_template\\npf_k_layer2_cn_inst0_constant.csv.tpl for ['npf_k_layer2_cn_inst:0'] took: 0:00:00.006946\n",
      "2022-03-18 15:11:38.244435 starting: writing array-based template file 'freyberg6_template\\npf_k_layer2_cn_inst0_constant.csv.tpl'\n",
      "2022-03-18 15:11:38.244435 saving zone array freyberg6_template\\npf_k_layer2_cn_inst0_constant.csv.zone for tpl file freyberg6_template\\npf_k_layer2_cn_inst0_constant.csv.tpl\n",
      "2022-03-18 15:11:38.250527 finished: adding constant type m style parameters for file(s) ['freyberg6.npf_k_layer2.txt'] took: 0:00:00.017029\n",
      "2022-03-18 15:11:38.251526 starting: adding grid type m style parameters for file(s) ['freyberg6.npf_k_layer3.txt']\n",
      "2022-03-18 15:11:38.251526 starting: loading array freyberg6_template\\freyberg6.npf_k_layer3.txt\n",
      "2022-03-18 15:11:38.257508 finished: loading array freyberg6_template\\freyberg6.npf_k_layer3.txt took: 0:00:00.005982\n",
      "2022-03-18 15:11:38.257508 loaded array 'freyberg_mf6\\freyberg6.npf_k_layer3.txt' of shape (40, 20)\n",
      "2022-03-18 15:11:38.259505 starting: writing array-style template file 'freyberg6_template\\npf_k_layer3_gr_inst0_grid.csv.tpl'\n",
      "2022-03-18 15:11:38.259505 starting: writing template file freyberg6_template\\npf_k_layer3_gr_inst0_grid.csv.tpl for ['npf_k_layer3_gr_inst:0']\n",
      "2022-03-18 15:11:38.272453 finished: writing template file freyberg6_template\\npf_k_layer3_gr_inst0_grid.csv.tpl for ['npf_k_layer3_gr_inst:0'] took: 0:00:00.012948\n",
      "2022-03-18 15:11:38.272453 starting: writing array-based template file 'freyberg6_template\\npf_k_layer3_gr_inst0_grid.csv.tpl'\n"
     ]
    },
    {
     "name": "stdout",
     "output_type": "stream",
     "text": [
      "2022-03-18 15:11:38.273447 saving zone array freyberg6_template\\npf_k_layer3_gr_inst0_grid.csv.zone for tpl file freyberg6_template\\npf_k_layer3_gr_inst0_grid.csv.tpl\n",
      "2022-03-18 15:11:38.280428 finished: adding grid type m style parameters for file(s) ['freyberg6.npf_k_layer3.txt'] took: 0:00:00.028902\n",
      "2022-03-18 15:11:38.280428 starting: adding pilotpoints type m style parameters for file(s) ['freyberg6.npf_k_layer3.txt']\n",
      "2022-03-18 15:11:38.280428 starting: loading array freyberg6_template\\freyberg6.npf_k_layer3.txt\n",
      "2022-03-18 15:11:38.282424 finished: loading array freyberg6_template\\freyberg6.npf_k_layer3.txt took: 0:00:00.001996\n",
      "2022-03-18 15:11:38.282424 loaded array 'freyberg_mf6\\freyberg6.npf_k_layer3.txt' of shape (40, 20)\n",
      "2022-03-18 15:11:38.283421 starting: writing array-style template file 'freyberg6_template\\npf_k_layer3_pp_inst0_pilotpoints.csv.tpl'\n",
      "2022-03-18 15:11:38.284385 starting: setting up pilot point parameters\n",
      "2022-03-18 15:11:38.284385 No spatial reference (containing cell spacing) passed.\n",
      "2022-03-18 15:11:38.284385 OK - using spatial reference in parent object.\n",
      "2022-03-18 15:11:38.354792 32 pilot point parameters created\n",
      "2022-03-18 15:11:38.354792 pilot point 'pargp':npf_k_layer3_pp\n",
      "2022-03-18 15:11:38.354792 finished: setting up pilot point parameters took: 0:00:00.070407\n",
      "2022-03-18 15:11:38.361792 starting: writing array-based template file 'freyberg6_template\\npf_k_layer3_pp_inst0pp.dat.tpl'\n",
      "2022-03-18 15:11:38.361792 saving zone array freyberg6_template\\npf_k_layer3_pp_inst0pp.dat.zone for tpl file freyberg6_template\\npf_k_layer3_pp_inst0pp.dat.tpl\n",
      "2022-03-18 15:11:38.366726 finished: adding pilotpoints type m style parameters for file(s) ['freyberg6.npf_k_layer3.txt'] took: 0:00:00.086298\n",
      "2022-03-18 15:11:38.366726 starting: adding constant type m style parameters for file(s) ['freyberg6.npf_k_layer3.txt']\n",
      "2022-03-18 15:11:38.366726 starting: loading array freyberg6_template\\freyberg6.npf_k_layer3.txt\n",
      "2022-03-18 15:11:38.368774 finished: loading array freyberg6_template\\freyberg6.npf_k_layer3.txt took: 0:00:00.002048\n",
      "2022-03-18 15:11:38.368774 loaded array 'freyberg_mf6\\freyberg6.npf_k_layer3.txt' of shape (40, 20)\n",
      "2022-03-18 15:11:38.370768 starting: writing array-style template file 'freyberg6_template\\npf_k_layer3_cn_inst0_constant.csv.tpl'\n",
      "2022-03-18 15:11:38.370768 starting: writing template file freyberg6_template\\npf_k_layer3_cn_inst0_constant.csv.tpl for ['npf_k_layer3_cn_inst:0']\n",
      "2022-03-18 15:11:38.377748 finished: writing template file freyberg6_template\\npf_k_layer3_cn_inst0_constant.csv.tpl for ['npf_k_layer3_cn_inst:0'] took: 0:00:00.006980\n",
      "2022-03-18 15:11:38.377748 starting: writing array-based template file 'freyberg6_template\\npf_k_layer3_cn_inst0_constant.csv.tpl'\n"
     ]
    },
    {
     "name": "stdout",
     "output_type": "stream",
     "text": [
      "2022-03-18 15:11:38.378694 saving zone array freyberg6_template\\npf_k_layer3_cn_inst0_constant.csv.zone for tpl file freyberg6_template\\npf_k_layer3_cn_inst0_constant.csv.tpl\n",
      "2022-03-18 15:11:38.384713 finished: adding constant type m style parameters for file(s) ['freyberg6.npf_k_layer3.txt'] took: 0:00:00.017987\n"
     ]
    }
   ],
   "source": [
    "for f in files[1:]:\n",
    "    add_mult_pars(f, lb=0.2, ub=5.0, ulb=0.01, uub=100)"
   ]
  },
  {
   "cell_type": "markdown",
   "metadata": {},
   "source": [
    "Well...hot damn, wasn't that easy? Let's speed through the other array parameter files."
   ]
  },
  {
   "cell_type": "code",
   "execution_count": 26,
   "metadata": {
    "execution": {
     "iopub.execute_input": "2022-03-18T04:41:38.395682Z",
     "iopub.status.busy": "2022-03-18T04:41:38.395682Z",
     "iopub.status.idle": "2022-03-18T04:41:39.198523Z",
     "shell.execute_reply": "2022-03-18T04:41:39.197526Z"
    }
   },
   "outputs": [
    {
     "name": "stdout",
     "output_type": "stream",
     "text": [
      "2022-03-18 15:11:38.395682 starting: adding grid type m style parameters for file(s) ['freyberg6.npf_k33_layer1.txt']\n",
      "2022-03-18 15:11:38.395682 starting: loading array freyberg6_template\\freyberg6.npf_k33_layer1.txt\n",
      "2022-03-18 15:11:38.402837 finished: loading array freyberg6_template\\freyberg6.npf_k33_layer1.txt took: 0:00:00.007155\n",
      "2022-03-18 15:11:38.402837 loaded array 'freyberg_mf6\\freyberg6.npf_k33_layer1.txt' of shape (40, 20)\n",
      "2022-03-18 15:11:38.404661 starting: writing array-style template file 'freyberg6_template\\npf_k33_layer1_gr_inst0_grid.csv.tpl'\n",
      "2022-03-18 15:11:38.405623 starting: writing template file freyberg6_template\\npf_k33_layer1_gr_inst0_grid.csv.tpl for ['npf_k33_layer1_gr_inst:0']\n",
      "2022-03-18 15:11:38.417642 finished: writing template file freyberg6_template\\npf_k33_layer1_gr_inst0_grid.csv.tpl for ['npf_k33_layer1_gr_inst:0'] took: 0:00:00.012019\n",
      "2022-03-18 15:11:38.417642 starting: writing array-based template file 'freyberg6_template\\npf_k33_layer1_gr_inst0_grid.csv.tpl'\n",
      "2022-03-18 15:11:38.417642 saving zone array freyberg6_template\\npf_k33_layer1_gr_inst0_grid.csv.zone for tpl file freyberg6_template\\npf_k33_layer1_gr_inst0_grid.csv.tpl\n",
      "2022-03-18 15:11:38.424625 finished: adding grid type m style parameters for file(s) ['freyberg6.npf_k33_layer1.txt'] took: 0:00:00.028943\n"
     ]
    },
    {
     "name": "stdout",
     "output_type": "stream",
     "text": [
      "2022-03-18 15:11:38.425568 starting: adding pilotpoints type m style parameters for file(s) ['freyberg6.npf_k33_layer1.txt']\n",
      "2022-03-18 15:11:38.425568 starting: loading array freyberg6_template\\freyberg6.npf_k33_layer1.txt\n",
      "2022-03-18 15:11:38.426566 finished: loading array freyberg6_template\\freyberg6.npf_k33_layer1.txt took: 0:00:00.000998\n",
      "2022-03-18 15:11:38.426566 loaded array 'freyberg_mf6\\freyberg6.npf_k33_layer1.txt' of shape (40, 20)\n",
      "2022-03-18 15:11:38.428560 starting: writing array-style template file 'freyberg6_template\\npf_k33_layer1_pp_inst0_pilotpoints.csv.tpl'\n",
      "2022-03-18 15:11:38.429558 starting: setting up pilot point parameters\n",
      "2022-03-18 15:11:38.429558 No spatial reference (containing cell spacing) passed.\n",
      "2022-03-18 15:11:38.429558 OK - using spatial reference in parent object.\n"
     ]
    },
    {
     "name": "stdout",
     "output_type": "stream",
     "text": [
      "2022-03-18 15:11:38.496371 32 pilot point parameters created\n",
      "2022-03-18 15:11:38.497336 pilot point 'pargp':npf_k33_layer1_pp\n",
      "2022-03-18 15:11:38.497336 finished: setting up pilot point parameters took: 0:00:00.067778\n",
      "2022-03-18 15:11:38.504317 starting: writing array-based template file 'freyberg6_template\\npf_k33_layer1_pp_inst0pp.dat.tpl'\n",
      "2022-03-18 15:11:38.504317 saving zone array freyberg6_template\\npf_k33_layer1_pp_inst0pp.dat.zone for tpl file freyberg6_template\\npf_k33_layer1_pp_inst0pp.dat.tpl\n",
      "2022-03-18 15:11:38.509337 finished: adding pilotpoints type m style parameters for file(s) ['freyberg6.npf_k33_layer1.txt'] took: 0:00:00.083769\n",
      "2022-03-18 15:11:38.510328 starting: adding constant type m style parameters for file(s) ['freyberg6.npf_k33_layer1.txt']\n",
      "2022-03-18 15:11:38.510328 starting: loading array freyberg6_template\\freyberg6.npf_k33_layer1.txt\n",
      "2022-03-18 15:11:38.511298 finished: loading array freyberg6_template\\freyberg6.npf_k33_layer1.txt took: 0:00:00.000970\n",
      "2022-03-18 15:11:38.511298 loaded array 'freyberg_mf6\\freyberg6.npf_k33_layer1.txt' of shape (40, 20)\n",
      "2022-03-18 15:11:38.513293 starting: writing array-style template file 'freyberg6_template\\npf_k33_layer1_cn_inst0_constant.csv.tpl'\n",
      "2022-03-18 15:11:38.513293 starting: writing template file freyberg6_template\\npf_k33_layer1_cn_inst0_constant.csv.tpl for ['npf_k33_layer1_cn_inst:0']\n",
      "2022-03-18 15:11:38.521272 finished: writing template file freyberg6_template\\npf_k33_layer1_cn_inst0_constant.csv.tpl for ['npf_k33_layer1_cn_inst:0'] took: 0:00:00.007979\n",
      "2022-03-18 15:11:38.521272 starting: writing array-based template file 'freyberg6_template\\npf_k33_layer1_cn_inst0_constant.csv.tpl'\n",
      "2022-03-18 15:11:38.521272 saving zone array freyberg6_template\\npf_k33_layer1_cn_inst0_constant.csv.zone for tpl file freyberg6_template\\npf_k33_layer1_cn_inst0_constant.csv.tpl\n",
      "2022-03-18 15:11:38.527288 finished: adding constant type m style parameters for file(s) ['freyberg6.npf_k33_layer1.txt'] took: 0:00:00.016960\n",
      "2022-03-18 15:11:38.527288 starting: adding grid type m style parameters for file(s) ['freyberg6.npf_k33_layer2.txt']\n",
      "2022-03-18 15:11:38.527288 starting: loading array freyberg6_template\\freyberg6.npf_k33_layer2.txt\n",
      "2022-03-18 15:11:38.534237 finished: loading array freyberg6_template\\freyberg6.npf_k33_layer2.txt took: 0:00:00.006949\n",
      "2022-03-18 15:11:38.534237 loaded array 'freyberg_mf6\\freyberg6.npf_k33_layer2.txt' of shape (40, 20)\n",
      "2022-03-18 15:11:38.536232 starting: writing array-style template file 'freyberg6_template\\npf_k33_layer2_gr_inst0_grid.csv.tpl'\n",
      "2022-03-18 15:11:38.536232 starting: writing template file freyberg6_template\\npf_k33_layer2_gr_inst0_grid.csv.tpl for ['npf_k33_layer2_gr_inst:0']\n",
      "2022-03-18 15:11:38.548200 finished: writing template file freyberg6_template\\npf_k33_layer2_gr_inst0_grid.csv.tpl for ['npf_k33_layer2_gr_inst:0'] took: 0:00:00.011968\n",
      "2022-03-18 15:11:38.548200 starting: writing array-based template file 'freyberg6_template\\npf_k33_layer2_gr_inst0_grid.csv.tpl'\n",
      "2022-03-18 15:11:38.548200 saving zone array freyberg6_template\\npf_k33_layer2_gr_inst0_grid.csv.zone for tpl file freyberg6_template\\npf_k33_layer2_gr_inst0_grid.csv.tpl\n",
      "2022-03-18 15:11:38.556178 finished: adding grid type m style parameters for file(s) ['freyberg6.npf_k33_layer2.txt'] took: 0:00:00.028890\n",
      "2022-03-18 15:11:38.556178 starting: adding pilotpoints type m style parameters for file(s) ['freyberg6.npf_k33_layer2.txt']\n",
      "2022-03-18 15:11:38.556178 starting: loading array freyberg6_template\\freyberg6.npf_k33_layer2.txt\n",
      "2022-03-18 15:11:38.558173 finished: loading array freyberg6_template\\freyberg6.npf_k33_layer2.txt took: 0:00:00.001995\n",
      "2022-03-18 15:11:38.558173 loaded array 'freyberg_mf6\\freyberg6.npf_k33_layer2.txt' of shape (40, 20)\n",
      "2022-03-18 15:11:38.560168 starting: writing array-style template file 'freyberg6_template\\npf_k33_layer2_pp_inst0_pilotpoints.csv.tpl'\n",
      "2022-03-18 15:11:38.560168 starting: setting up pilot point parameters\n",
      "2022-03-18 15:11:38.560168 No spatial reference (containing cell spacing) passed.\n",
      "2022-03-18 15:11:38.560168 OK - using spatial reference in parent object.\n"
     ]
    },
    {
     "name": "stdout",
     "output_type": "stream",
     "text": [
      "2022-03-18 15:11:38.637962 32 pilot point parameters created\n",
      "2022-03-18 15:11:38.638958 pilot point 'pargp':npf_k33_layer2_pp\n",
      "2022-03-18 15:11:38.638958 finished: setting up pilot point parameters took: 0:00:00.078790\n",
      "2022-03-18 15:11:38.644941 starting: writing array-based template file 'freyberg6_template\\npf_k33_layer2_pp_inst0pp.dat.tpl'\n",
      "2022-03-18 15:11:38.645939 saving zone array freyberg6_template\\npf_k33_layer2_pp_inst0pp.dat.zone for tpl file freyberg6_template\\npf_k33_layer2_pp_inst0pp.dat.tpl\n",
      "2022-03-18 15:11:38.650925 finished: adding pilotpoints type m style parameters for file(s) ['freyberg6.npf_k33_layer2.txt'] took: 0:00:00.094747\n",
      "2022-03-18 15:11:38.650925 starting: adding constant type m style parameters for file(s) ['freyberg6.npf_k33_layer2.txt']\n",
      "2022-03-18 15:11:38.650925 starting: loading array freyberg6_template\\freyberg6.npf_k33_layer2.txt\n",
      "2022-03-18 15:11:38.652920 finished: loading array freyberg6_template\\freyberg6.npf_k33_layer2.txt took: 0:00:00.001995\n",
      "2022-03-18 15:11:38.652920 loaded array 'freyberg_mf6\\freyberg6.npf_k33_layer2.txt' of shape (40, 20)\n",
      "2022-03-18 15:11:38.654914 starting: writing array-style template file 'freyberg6_template\\npf_k33_layer2_cn_inst0_constant.csv.tpl'\n",
      "2022-03-18 15:11:38.654914 starting: writing template file freyberg6_template\\npf_k33_layer2_cn_inst0_constant.csv.tpl for ['npf_k33_layer2_cn_inst:0']\n",
      "2022-03-18 15:11:38.661896 finished: writing template file freyberg6_template\\npf_k33_layer2_cn_inst0_constant.csv.tpl for ['npf_k33_layer2_cn_inst:0'] took: 0:00:00.006982\n",
      "2022-03-18 15:11:38.661896 starting: writing array-based template file 'freyberg6_template\\npf_k33_layer2_cn_inst0_constant.csv.tpl'\n",
      "2022-03-18 15:11:38.661896 saving zone array freyberg6_template\\npf_k33_layer2_cn_inst0_constant.csv.zone for tpl file freyberg6_template\\npf_k33_layer2_cn_inst0_constant.csv.tpl\n",
      "2022-03-18 15:11:38.667880 finished: adding constant type m style parameters for file(s) ['freyberg6.npf_k33_layer2.txt'] took: 0:00:00.016955\n",
      "2022-03-18 15:11:38.668877 starting: adding grid type m style parameters for file(s) ['freyberg6.npf_k33_layer3.txt']\n",
      "2022-03-18 15:11:38.668877 starting: loading array freyberg6_template\\freyberg6.npf_k33_layer3.txt\n",
      "2022-03-18 15:11:38.674861 finished: loading array freyberg6_template\\freyberg6.npf_k33_layer3.txt took: 0:00:00.005984\n",
      "2022-03-18 15:11:38.674861 loaded array 'freyberg_mf6\\freyberg6.npf_k33_layer3.txt' of shape (40, 20)\n"
     ]
    },
    {
     "name": "stdout",
     "output_type": "stream",
     "text": [
      "2022-03-18 15:11:38.676856 starting: writing array-style template file 'freyberg6_template\\npf_k33_layer3_gr_inst0_grid.csv.tpl'\n",
      "2022-03-18 15:11:38.676856 starting: writing template file freyberg6_template\\npf_k33_layer3_gr_inst0_grid.csv.tpl for ['npf_k33_layer3_gr_inst:0']\n",
      "2022-03-18 15:11:38.688824 finished: writing template file freyberg6_template\\npf_k33_layer3_gr_inst0_grid.csv.tpl for ['npf_k33_layer3_gr_inst:0'] took: 0:00:00.011968\n",
      "2022-03-18 15:11:38.689821 starting: writing array-based template file 'freyberg6_template\\npf_k33_layer3_gr_inst0_grid.csv.tpl'\n",
      "2022-03-18 15:11:38.689821 saving zone array freyberg6_template\\npf_k33_layer3_gr_inst0_grid.csv.zone for tpl file freyberg6_template\\npf_k33_layer3_gr_inst0_grid.csv.tpl\n",
      "2022-03-18 15:11:38.696803 finished: adding grid type m style parameters for file(s) ['freyberg6.npf_k33_layer3.txt'] took: 0:00:00.027926\n",
      "2022-03-18 15:11:38.696803 starting: adding pilotpoints type m style parameters for file(s) ['freyberg6.npf_k33_layer3.txt']\n",
      "2022-03-18 15:11:38.696803 starting: loading array freyberg6_template\\freyberg6.npf_k33_layer3.txt\n",
      "2022-03-18 15:11:38.697800 finished: loading array freyberg6_template\\freyberg6.npf_k33_layer3.txt took: 0:00:00.000997\n",
      "2022-03-18 15:11:38.697800 loaded array 'freyberg_mf6\\freyberg6.npf_k33_layer3.txt' of shape (40, 20)\n",
      "2022-03-18 15:11:38.699794 starting: writing array-style template file 'freyberg6_template\\npf_k33_layer3_pp_inst0_pilotpoints.csv.tpl'\n",
      "2022-03-18 15:11:38.699794 starting: setting up pilot point parameters\n",
      "2022-03-18 15:11:38.699794 No spatial reference (containing cell spacing) passed.\n",
      "2022-03-18 15:11:38.699794 OK - using spatial reference in parent object.\n",
      "2022-03-18 15:11:38.768610 32 pilot point parameters created\n",
      "2022-03-18 15:11:38.769608 pilot point 'pargp':npf_k33_layer3_pp\n",
      "2022-03-18 15:11:38.769608 finished: setting up pilot point parameters took: 0:00:00.069814\n",
      "2022-03-18 15:11:38.776589 starting: writing array-based template file 'freyberg6_template\\npf_k33_layer3_pp_inst0pp.dat.tpl'\n",
      "2022-03-18 15:11:38.776589 saving zone array freyberg6_template\\npf_k33_layer3_pp_inst0pp.dat.zone for tpl file freyberg6_template\\npf_k33_layer3_pp_inst0pp.dat.tpl\n",
      "2022-03-18 15:11:38.781576 finished: adding pilotpoints type m style parameters for file(s) ['freyberg6.npf_k33_layer3.txt'] took: 0:00:00.084773\n",
      "2022-03-18 15:11:38.781576 starting: adding constant type m style parameters for file(s) ['freyberg6.npf_k33_layer3.txt']\n",
      "2022-03-18 15:11:38.782573 starting: loading array freyberg6_template\\freyberg6.npf_k33_layer3.txt\n",
      "2022-03-18 15:11:38.783570 finished: loading array freyberg6_template\\freyberg6.npf_k33_layer3.txt took: 0:00:00.000997\n",
      "2022-03-18 15:11:38.783570 loaded array 'freyberg_mf6\\freyberg6.npf_k33_layer3.txt' of shape (40, 20)\n",
      "2022-03-18 15:11:38.785565 starting: writing array-style template file 'freyberg6_template\\npf_k33_layer3_cn_inst0_constant.csv.tpl'\n",
      "2022-03-18 15:11:38.785565 starting: writing template file freyberg6_template\\npf_k33_layer3_cn_inst0_constant.csv.tpl for ['npf_k33_layer3_cn_inst:0']\n",
      "2022-03-18 15:11:38.792546 finished: writing template file freyberg6_template\\npf_k33_layer3_cn_inst0_constant.csv.tpl for ['npf_k33_layer3_cn_inst:0'] took: 0:00:00.006981\n",
      "2022-03-18 15:11:38.793544 starting: writing array-based template file 'freyberg6_template\\npf_k33_layer3_cn_inst0_constant.csv.tpl'\n",
      "2022-03-18 15:11:38.793544 saving zone array freyberg6_template\\npf_k33_layer3_cn_inst0_constant.csv.zone for tpl file freyberg6_template\\npf_k33_layer3_cn_inst0_constant.csv.tpl\n",
      "2022-03-18 15:11:38.799528 finished: adding constant type m style parameters for file(s) ['freyberg6.npf_k33_layer3.txt'] took: 0:00:00.017952\n",
      "2022-03-18 15:11:38.800525 starting: adding grid type m style parameters for file(s) ['freyberg6.sto_ss_layer2.txt']\n",
      "2022-03-18 15:11:38.800525 starting: loading array freyberg6_template\\freyberg6.sto_ss_layer2.txt\n",
      "2022-03-18 15:11:38.806509 finished: loading array freyberg6_template\\freyberg6.sto_ss_layer2.txt took: 0:00:00.005984\n",
      "2022-03-18 15:11:38.806509 loaded array 'freyberg_mf6\\freyberg6.sto_ss_layer2.txt' of shape (40, 20)\n",
      "2022-03-18 15:11:38.808503 starting: writing array-style template file 'freyberg6_template\\sto_ss_layer2_gr_inst0_grid.csv.tpl'\n",
      "2022-03-18 15:11:38.808503 starting: writing template file freyberg6_template\\sto_ss_layer2_gr_inst0_grid.csv.tpl for ['sto_ss_layer2_gr_inst:0']\n",
      "2022-03-18 15:11:38.821469 finished: writing template file freyberg6_template\\sto_ss_layer2_gr_inst0_grid.csv.tpl for ['sto_ss_layer2_gr_inst:0'] took: 0:00:00.012966\n",
      "2022-03-18 15:11:38.821469 starting: writing array-based template file 'freyberg6_template\\sto_ss_layer2_gr_inst0_grid.csv.tpl'\n",
      "2022-03-18 15:11:38.821469 saving zone array freyberg6_template\\sto_ss_layer2_gr_inst0_grid.csv.zone for tpl file freyberg6_template\\sto_ss_layer2_gr_inst0_grid.csv.tpl\n"
     ]
    },
    {
     "name": "stdout",
     "output_type": "stream",
     "text": [
      "2022-03-18 15:11:38.828450 finished: adding grid type m style parameters for file(s) ['freyberg6.sto_ss_layer2.txt'] took: 0:00:00.027925\n",
      "2022-03-18 15:11:38.828450 starting: adding pilotpoints type m style parameters for file(s) ['freyberg6.sto_ss_layer2.txt']\n",
      "2022-03-18 15:11:38.828450 starting: loading array freyberg6_template\\freyberg6.sto_ss_layer2.txt\n",
      "2022-03-18 15:11:38.830445 finished: loading array freyberg6_template\\freyberg6.sto_ss_layer2.txt took: 0:00:00.001995\n",
      "2022-03-18 15:11:38.830445 loaded array 'freyberg_mf6\\freyberg6.sto_ss_layer2.txt' of shape (40, 20)\n",
      "2022-03-18 15:11:38.832440 starting: writing array-style template file 'freyberg6_template\\sto_ss_layer2_pp_inst0_pilotpoints.csv.tpl'\n",
      "2022-03-18 15:11:38.832440 starting: setting up pilot point parameters\n",
      "2022-03-18 15:11:38.832440 No spatial reference (containing cell spacing) passed.\n",
      "2022-03-18 15:11:38.832440 OK - using spatial reference in parent object.\n"
     ]
    },
    {
     "name": "stdout",
     "output_type": "stream",
     "text": [
      "2022-03-18 15:11:38.901256 32 pilot point parameters created\n",
      "2022-03-18 15:11:38.901256 pilot point 'pargp':sto_ss_layer2_pp\n",
      "2022-03-18 15:11:38.901256 finished: setting up pilot point parameters took: 0:00:00.068816\n",
      "2022-03-18 15:11:38.908237 starting: writing array-based template file 'freyberg6_template\\sto_ss_layer2_pp_inst0pp.dat.tpl'\n",
      "2022-03-18 15:11:38.909234 saving zone array freyberg6_template\\sto_ss_layer2_pp_inst0pp.dat.zone for tpl file freyberg6_template\\sto_ss_layer2_pp_inst0pp.dat.tpl\n",
      "2022-03-18 15:11:38.914221 finished: adding pilotpoints type m style parameters for file(s) ['freyberg6.sto_ss_layer2.txt'] took: 0:00:00.085771\n",
      "2022-03-18 15:11:38.914221 starting: adding constant type m style parameters for file(s) ['freyberg6.sto_ss_layer2.txt']\n",
      "2022-03-18 15:11:38.914221 starting: loading array freyberg6_template\\freyberg6.sto_ss_layer2.txt\n",
      "2022-03-18 15:11:38.915218 finished: loading array freyberg6_template\\freyberg6.sto_ss_layer2.txt took: 0:00:00.000997\n",
      "2022-03-18 15:11:38.915218 loaded array 'freyberg_mf6\\freyberg6.sto_ss_layer2.txt' of shape (40, 20)\n",
      "2022-03-18 15:11:38.917213 starting: writing array-style template file 'freyberg6_template\\sto_ss_layer2_cn_inst0_constant.csv.tpl'\n",
      "2022-03-18 15:11:38.917213 starting: writing template file freyberg6_template\\sto_ss_layer2_cn_inst0_constant.csv.tpl for ['sto_ss_layer2_cn_inst:0']\n",
      "2022-03-18 15:11:38.925191 finished: writing template file freyberg6_template\\sto_ss_layer2_cn_inst0_constant.csv.tpl for ['sto_ss_layer2_cn_inst:0'] took: 0:00:00.007978\n",
      "2022-03-18 15:11:38.925191 starting: writing array-based template file 'freyberg6_template\\sto_ss_layer2_cn_inst0_constant.csv.tpl'\n",
      "2022-03-18 15:11:38.925191 saving zone array freyberg6_template\\sto_ss_layer2_cn_inst0_constant.csv.zone for tpl file freyberg6_template\\sto_ss_layer2_cn_inst0_constant.csv.tpl\n",
      "2022-03-18 15:11:38.931176 finished: adding constant type m style parameters for file(s) ['freyberg6.sto_ss_layer2.txt'] took: 0:00:00.016955\n",
      "2022-03-18 15:11:38.931176 starting: adding grid type m style parameters for file(s) ['freyberg6.sto_ss_layer3.txt']\n",
      "2022-03-18 15:11:38.931176 starting: loading array freyberg6_template\\freyberg6.sto_ss_layer3.txt\n",
      "2022-03-18 15:11:38.937159 finished: loading array freyberg6_template\\freyberg6.sto_ss_layer3.txt took: 0:00:00.005983\n",
      "2022-03-18 15:11:38.937159 loaded array 'freyberg_mf6\\freyberg6.sto_ss_layer3.txt' of shape (40, 20)\n",
      "2022-03-18 15:11:38.939154 starting: writing array-style template file 'freyberg6_template\\sto_ss_layer3_gr_inst0_grid.csv.tpl'\n",
      "2022-03-18 15:11:38.939154 starting: writing template file freyberg6_template\\sto_ss_layer3_gr_inst0_grid.csv.tpl for ['sto_ss_layer3_gr_inst:0']\n",
      "2022-03-18 15:11:38.951122 finished: writing template file freyberg6_template\\sto_ss_layer3_gr_inst0_grid.csv.tpl for ['sto_ss_layer3_gr_inst:0'] took: 0:00:00.011968\n",
      "2022-03-18 15:11:38.952120 starting: writing array-based template file 'freyberg6_template\\sto_ss_layer3_gr_inst0_grid.csv.tpl'\n",
      "2022-03-18 15:11:38.952120 saving zone array freyberg6_template\\sto_ss_layer3_gr_inst0_grid.csv.zone for tpl file freyberg6_template\\sto_ss_layer3_gr_inst0_grid.csv.tpl\n",
      "2022-03-18 15:11:38.959101 finished: adding grid type m style parameters for file(s) ['freyberg6.sto_ss_layer3.txt'] took: 0:00:00.027925\n",
      "2022-03-18 15:11:38.959101 starting: adding pilotpoints type m style parameters for file(s) ['freyberg6.sto_ss_layer3.txt']\n",
      "2022-03-18 15:11:38.959101 starting: loading array freyberg6_template\\freyberg6.sto_ss_layer3.txt\n",
      "2022-03-18 15:11:38.961095 finished: loading array freyberg6_template\\freyberg6.sto_ss_layer3.txt took: 0:00:00.001994\n",
      "2022-03-18 15:11:38.961095 loaded array 'freyberg_mf6\\freyberg6.sto_ss_layer3.txt' of shape (40, 20)\n",
      "2022-03-18 15:11:38.963090 starting: writing array-style template file 'freyberg6_template\\sto_ss_layer3_pp_inst0_pilotpoints.csv.tpl'\n",
      "2022-03-18 15:11:38.963090 starting: setting up pilot point parameters\n",
      "2022-03-18 15:11:38.963090 No spatial reference (containing cell spacing) passed.\n",
      "2022-03-18 15:11:38.963090 OK - using spatial reference in parent object.\n"
     ]
    },
    {
     "name": "stdout",
     "output_type": "stream",
     "text": [
      "2022-03-18 15:11:39.031969 32 pilot point parameters created\n",
      "2022-03-18 15:11:39.031969 pilot point 'pargp':sto_ss_layer3_pp\n",
      "2022-03-18 15:11:39.031969 finished: setting up pilot point parameters took: 0:00:00.068879\n",
      "2022-03-18 15:11:39.038950 starting: writing array-based template file 'freyberg6_template\\sto_ss_layer3_pp_inst0pp.dat.tpl'\n",
      "2022-03-18 15:11:39.038950 saving zone array freyberg6_template\\sto_ss_layer3_pp_inst0pp.dat.zone for tpl file freyberg6_template\\sto_ss_layer3_pp_inst0pp.dat.tpl\n",
      "2022-03-18 15:11:39.044934 finished: adding pilotpoints type m style parameters for file(s) ['freyberg6.sto_ss_layer3.txt'] took: 0:00:00.085833\n",
      "2022-03-18 15:11:39.044934 starting: adding constant type m style parameters for file(s) ['freyberg6.sto_ss_layer3.txt']\n",
      "2022-03-18 15:11:39.044934 starting: loading array freyberg6_template\\freyberg6.sto_ss_layer3.txt\n",
      "2022-03-18 15:11:39.046928 finished: loading array freyberg6_template\\freyberg6.sto_ss_layer3.txt took: 0:00:00.001994\n",
      "2022-03-18 15:11:39.046928 loaded array 'freyberg_mf6\\freyberg6.sto_ss_layer3.txt' of shape (40, 20)\n",
      "2022-03-18 15:11:39.048923 starting: writing array-style template file 'freyberg6_template\\sto_ss_layer3_cn_inst0_constant.csv.tpl'\n",
      "2022-03-18 15:11:39.048923 starting: writing template file freyberg6_template\\sto_ss_layer3_cn_inst0_constant.csv.tpl for ['sto_ss_layer3_cn_inst:0']\n",
      "2022-03-18 15:11:39.055905 finished: writing template file freyberg6_template\\sto_ss_layer3_cn_inst0_constant.csv.tpl for ['sto_ss_layer3_cn_inst:0'] took: 0:00:00.006982\n",
      "2022-03-18 15:11:39.055905 starting: writing array-based template file 'freyberg6_template\\sto_ss_layer3_cn_inst0_constant.csv.tpl'\n",
      "2022-03-18 15:11:39.055905 saving zone array freyberg6_template\\sto_ss_layer3_cn_inst0_constant.csv.zone for tpl file freyberg6_template\\sto_ss_layer3_cn_inst0_constant.csv.tpl\n",
      "2022-03-18 15:11:39.062886 finished: adding constant type m style parameters for file(s) ['freyberg6.sto_ss_layer3.txt'] took: 0:00:00.017952\n",
      "2022-03-18 15:11:39.063883 starting: adding grid type m style parameters for file(s) ['freyberg6.sto_sy_layer1.txt']\n",
      "2022-03-18 15:11:39.063883 starting: loading array freyberg6_template\\freyberg6.sto_sy_layer1.txt\n",
      "2022-03-18 15:11:39.069867 finished: loading array freyberg6_template\\freyberg6.sto_sy_layer1.txt took: 0:00:00.005984\n",
      "2022-03-18 15:11:39.069867 loaded array 'freyberg_mf6\\freyberg6.sto_sy_layer1.txt' of shape (40, 20)\n",
      "2022-03-18 15:11:39.070865 starting: writing array-style template file 'freyberg6_template\\sto_sy_layer1_gr_inst0_grid.csv.tpl'\n",
      "2022-03-18 15:11:39.071862 starting: writing template file freyberg6_template\\sto_sy_layer1_gr_inst0_grid.csv.tpl for ['sto_sy_layer1_gr_inst:0']\n",
      "2022-03-18 15:11:39.082832 finished: writing template file freyberg6_template\\sto_sy_layer1_gr_inst0_grid.csv.tpl for ['sto_sy_layer1_gr_inst:0'] took: 0:00:00.010970\n",
      "2022-03-18 15:11:39.083830 starting: writing array-based template file 'freyberg6_template\\sto_sy_layer1_gr_inst0_grid.csv.tpl'\n"
     ]
    },
    {
     "name": "stdout",
     "output_type": "stream",
     "text": [
      "2022-03-18 15:11:39.083830 saving zone array freyberg6_template\\sto_sy_layer1_gr_inst0_grid.csv.zone for tpl file freyberg6_template\\sto_sy_layer1_gr_inst0_grid.csv.tpl\n",
      "2022-03-18 15:11:39.091809 finished: adding grid type m style parameters for file(s) ['freyberg6.sto_sy_layer1.txt'] took: 0:00:00.027926\n",
      "2022-03-18 15:11:39.091809 starting: adding pilotpoints type m style parameters for file(s) ['freyberg6.sto_sy_layer1.txt']\n",
      "2022-03-18 15:11:39.091809 starting: loading array freyberg6_template\\freyberg6.sto_sy_layer1.txt\n",
      "2022-03-18 15:11:39.092806 finished: loading array freyberg6_template\\freyberg6.sto_sy_layer1.txt took: 0:00:00.000997\n",
      "2022-03-18 15:11:39.092806 loaded array 'freyberg_mf6\\freyberg6.sto_sy_layer1.txt' of shape (40, 20)\n",
      "2022-03-18 15:11:39.094800 starting: writing array-style template file 'freyberg6_template\\sto_sy_layer1_pp_inst0_pilotpoints.csv.tpl'\n",
      "2022-03-18 15:11:39.094800 starting: setting up pilot point parameters\n",
      "2022-03-18 15:11:39.094800 No spatial reference (containing cell spacing) passed.\n",
      "2022-03-18 15:11:39.094800 OK - using spatial reference in parent object.\n",
      "2022-03-18 15:11:39.163617 32 pilot point parameters created\n",
      "2022-03-18 15:11:39.163617 pilot point 'pargp':sto_sy_layer1_pp\n",
      "2022-03-18 15:11:39.163617 finished: setting up pilot point parameters took: 0:00:00.068817\n",
      "2022-03-18 15:11:39.170598 starting: writing array-based template file 'freyberg6_template\\sto_sy_layer1_pp_inst0pp.dat.tpl'\n",
      "2022-03-18 15:11:39.171595 saving zone array freyberg6_template\\sto_sy_layer1_pp_inst0pp.dat.zone for tpl file freyberg6_template\\sto_sy_layer1_pp_inst0pp.dat.tpl\n",
      "2022-03-18 15:11:39.176582 finished: adding pilotpoints type m style parameters for file(s) ['freyberg6.sto_sy_layer1.txt'] took: 0:00:00.084773\n",
      "2022-03-18 15:11:39.176582 starting: adding constant type m style parameters for file(s) ['freyberg6.sto_sy_layer1.txt']\n",
      "2022-03-18 15:11:39.176582 starting: loading array freyberg6_template\\freyberg6.sto_sy_layer1.txt\n",
      "2022-03-18 15:11:39.177579 finished: loading array freyberg6_template\\freyberg6.sto_sy_layer1.txt took: 0:00:00.000997\n",
      "2022-03-18 15:11:39.177579 loaded array 'freyberg_mf6\\freyberg6.sto_sy_layer1.txt' of shape (40, 20)\n",
      "2022-03-18 15:11:39.179574 starting: writing array-style template file 'freyberg6_template\\sto_sy_layer1_cn_inst0_constant.csv.tpl'\n",
      "2022-03-18 15:11:39.179574 starting: writing template file freyberg6_template\\sto_sy_layer1_cn_inst0_constant.csv.tpl for ['sto_sy_layer1_cn_inst:0']\n",
      "2022-03-18 15:11:39.187553 finished: writing template file freyberg6_template\\sto_sy_layer1_cn_inst0_constant.csv.tpl for ['sto_sy_layer1_cn_inst:0'] took: 0:00:00.007979\n",
      "2022-03-18 15:11:39.187553 starting: writing array-based template file 'freyberg6_template\\sto_sy_layer1_cn_inst0_constant.csv.tpl'\n",
      "2022-03-18 15:11:39.187553 saving zone array freyberg6_template\\sto_sy_layer1_cn_inst0_constant.csv.zone for tpl file freyberg6_template\\sto_sy_layer1_cn_inst0_constant.csv.tpl\n",
      "2022-03-18 15:11:39.193537 finished: adding constant type m style parameters for file(s) ['freyberg6.sto_sy_layer1.txt'] took: 0:00:00.016955\n"
     ]
    }
   ],
   "source": [
    "# for Kv\n",
    "tag = \"npf_k33\"\n",
    "files = [f for f in os.listdir(template_ws) if tag in f.lower() and f.endswith(\".txt\")]\n",
    "for f in files:\n",
    "    add_mult_pars(f, lb=0.2, ub=5.0, ulb=0.01, uub=100)\n",
    "\n",
    "# for Ss\n",
    "tag = \"sto_ss\"\n",
    "files = [f for f in os.listdir(template_ws) if tag in f.lower() and f.endswith(\".txt\")]\n",
    "# only for layer 2 and 3; we aren't monsters\n",
    "for f in files[1:]: \n",
    "    add_mult_pars(f, lb=0.2, ub=5.0, ulb=1e-6, uub=1e-3)\n",
    "\n",
    "# For Sy\n",
    "tag = \"sto_sy\"\n",
    "files = [f for f in os.listdir(template_ws) if tag in f.lower() and f.endswith(\".txt\")]\n",
    "# only for layer 1\n",
    "f = files[0]\n",
    "add_mult_pars(f, lb=0.2, ub=5.0, ulb=0.01, uub=0.4)\n"
   ]
  },
  {
   "cell_type": "markdown",
   "metadata": {},
   "source": [
    "#### 5.3.2. Spatial and Temporal Correlation\n",
    "\n",
    "Now, you may be thinking \"shouldn't recharge have temporal correlation as well?\". \n",
    "\n",
    "Damn straight it should. Now, this requires a little trickery.\n",
    "\n",
    "First we need to construct a container of stress period datetimes. (This relies on specifying the start_datetime argument when instantiating `PstFrom`.) These datetime values will specify the postion of parameters on the time-axis.\n",
    "\n"
   ]
  },
  {
   "cell_type": "code",
   "execution_count": 27,
   "metadata": {
    "execution": {
     "iopub.execute_input": "2022-03-18T04:41:39.205504Z",
     "iopub.status.busy": "2022-03-18T04:41:39.205504Z",
     "iopub.status.idle": "2022-03-18T04:41:39.208496Z",
     "shell.execute_reply": "2022-03-18T04:41:39.208496Z"
    }
   },
   "outputs": [
    {
     "data": {
      "text/plain": [
       "DatetimeIndex(['2018-01-02', '2018-02-02', '2018-03-03', '2018-04-03',\n",
       "               '2018-05-03', '2018-06-03', '2018-07-03', '2018-08-03',\n",
       "               '2018-09-03', '2018-10-03', '2018-11-03', '2018-12-03',\n",
       "               '2019-01-03', '2019-02-03', '2019-03-03', '2019-04-03',\n",
       "               '2019-05-03', '2019-06-03', '2019-07-03', '2019-08-03',\n",
       "               '2019-09-03', '2019-10-03', '2019-11-03', '2019-12-03',\n",
       "               '2020-01-03'],\n",
       "              dtype='datetime64[ns]', freq=None)"
      ]
     },
     "execution_count": 27,
     "metadata": {},
     "output_type": "execute_result"
    }
   ],
   "source": [
    "# build up a container of stress period start datetimes - this will\n",
    "# be used to specify the datetime of each multipler parameter\n",
    "start_datetime=\"1-1-2018\"\n",
    "dts = pd.to_datetime(start_datetime) + pd.to_timedelta(np.cumsum(sim.tdis.perioddata.array[\"perlen\"]),unit='d')\n",
    "\n",
    "dts"
   ]
  },
  {
   "cell_type": "markdown",
   "metadata": {},
   "source": [
    "If you use the same parameter group name (`pargp`) and same geostruct, `PstFrom` will treat parameters setup across different calls to `add_parameters()` as correlated.  In this case, we want to express temporal correlation in the recharge multiplier parameters. So, we use the same parameter group names for each stress period data file, and specify the `datetime` and `geostruct` arguments.\n",
    "\n",
    "Including temporal correlation introduces an additional challenge. Interpolation between points that share a common coordinate creates all types of trouble. We are going to have many parameters during each stress period (a single point on the time-axis). To get around this challenge we need to be a bit sneaky.\n",
    "\n",
    "\n",
    "First, we will apply the multiple *spatial* scales of parameter multiplers (`constant`, `pilot point` and `grid`) as we did for hyraulic properties. \n",
    "\n",
    "Then, we will asign an additional `constant` multiplier parameter for each recharge stress-period file (so, a single multiplier for all recharge paramaters for each stress period). We will specify temporal correlation for these `constant` multipliers. These will all have the same parameter group name, as discussed above. "
   ]
  },
  {
   "cell_type": "code",
   "execution_count": 28,
   "metadata": {
    "execution": {
     "iopub.execute_input": "2022-03-18T04:41:39.214481Z",
     "iopub.status.busy": "2022-03-18T04:41:39.213483Z",
     "iopub.status.idle": "2022-03-18T04:41:43.067520Z",
     "shell.execute_reply": "2022-03-18T04:41:43.067520Z"
    }
   },
   "outputs": [
    {
     "name": "stdout",
     "output_type": "stream",
     "text": [
      "2022-03-18 15:11:39.213483 starting: adding grid type m style parameters for file(s) ['freyberg6.rch_recharge_1.txt']\n",
      "2022-03-18 15:11:39.214481 starting: loading array freyberg6_template\\freyberg6.rch_recharge_1.txt\n",
      "2022-03-18 15:11:39.219467 finished: loading array freyberg6_template\\freyberg6.rch_recharge_1.txt took: 0:00:00.004986\n",
      "2022-03-18 15:11:39.220464 loaded array 'freyberg_mf6\\freyberg6.rch_recharge_1.txt' of shape (40, 20)\n",
      "2022-03-18 15:11:39.221462 starting: writing array-style template file 'freyberg6_template\\rch_recharge_1_gr_inst0_grid.csv.tpl'\n",
      "2022-03-18 15:11:39.222459 starting: writing template file freyberg6_template\\rch_recharge_1_gr_inst0_grid.csv.tpl for ['rch_recharge_1_gr_inst:0']\n"
     ]
    },
    {
     "name": "stdout",
     "output_type": "stream",
     "text": [
      "2022-03-18 15:11:39.235424 finished: writing template file freyberg6_template\\rch_recharge_1_gr_inst0_grid.csv.tpl for ['rch_recharge_1_gr_inst:0'] took: 0:00:00.012965\n",
      "2022-03-18 15:11:39.235424 starting: writing array-based template file 'freyberg6_template\\rch_recharge_1_gr_inst0_grid.csv.tpl'\n",
      "2022-03-18 15:11:39.235424 saving zone array freyberg6_template\\rch_recharge_1_gr_inst0_grid.csv.zone for tpl file freyberg6_template\\rch_recharge_1_gr_inst0_grid.csv.tpl\n",
      "2022-03-18 15:11:39.243403 finished: adding grid type m style parameters for file(s) ['freyberg6.rch_recharge_1.txt'] took: 0:00:00.029920\n",
      "2022-03-18 15:11:39.243403 starting: adding pilotpoints type m style parameters for file(s) ['freyberg6.rch_recharge_1.txt']\n",
      "2022-03-18 15:11:39.243403 starting: loading array freyberg6_template\\freyberg6.rch_recharge_1.txt\n",
      "2022-03-18 15:11:39.244400 finished: loading array freyberg6_template\\freyberg6.rch_recharge_1.txt took: 0:00:00.000997\n",
      "2022-03-18 15:11:39.244400 loaded array 'freyberg_mf6\\freyberg6.rch_recharge_1.txt' of shape (40, 20)\n",
      "2022-03-18 15:11:39.246395 starting: writing array-style template file 'freyberg6_template\\rch_recharge_1_pp_inst0_pilotpoints.csv.tpl'\n",
      "2022-03-18 15:11:39.246395 starting: setting up pilot point parameters\n",
      "2022-03-18 15:11:39.246395 No spatial reference (containing cell spacing) passed.\n",
      "2022-03-18 15:11:39.246395 OK - using spatial reference in parent object.\n"
     ]
    },
    {
     "name": "stdout",
     "output_type": "stream",
     "text": [
      "2022-03-18 15:11:39.316208 32 pilot point parameters created\n",
      "2022-03-18 15:11:39.317207 pilot point 'pargp':rch_recharge_1_pp\n",
      "2022-03-18 15:11:39.317207 finished: setting up pilot point parameters took: 0:00:00.070812\n",
      "2022-03-18 15:11:39.324187 starting: writing array-based template file 'freyberg6_template\\rch_recharge_1_pp_inst0pp.dat.tpl'\n",
      "2022-03-18 15:11:39.324187 saving zone array freyberg6_template\\rch_recharge_1_pp_inst0pp.dat.zone for tpl file freyberg6_template\\rch_recharge_1_pp_inst0pp.dat.tpl\n",
      "2022-03-18 15:11:39.329174 finished: adding pilotpoints type m style parameters for file(s) ['freyberg6.rch_recharge_1.txt'] took: 0:00:00.085771\n",
      "2022-03-18 15:11:39.329174 starting: adding constant type m style parameters for file(s) ['freyberg6.rch_recharge_1.txt']\n",
      "2022-03-18 15:11:39.329174 starting: loading array freyberg6_template\\freyberg6.rch_recharge_1.txt\n",
      "2022-03-18 15:11:39.331168 finished: loading array freyberg6_template\\freyberg6.rch_recharge_1.txt took: 0:00:00.001994\n",
      "2022-03-18 15:11:39.331168 loaded array 'freyberg_mf6\\freyberg6.rch_recharge_1.txt' of shape (40, 20)\n",
      "2022-03-18 15:11:39.332165 starting: writing array-style template file 'freyberg6_template\\rch_recharge_1_cn_inst0_constant.csv.tpl'\n",
      "2022-03-18 15:11:39.333163 starting: writing template file freyberg6_template\\rch_recharge_1_cn_inst0_constant.csv.tpl for ['rch_recharge_1_cn_inst:0']\n",
      "2022-03-18 15:11:39.340144 finished: writing template file freyberg6_template\\rch_recharge_1_cn_inst0_constant.csv.tpl for ['rch_recharge_1_cn_inst:0'] took: 0:00:00.006981\n",
      "2022-03-18 15:11:39.340144 starting: writing array-based template file 'freyberg6_template\\rch_recharge_1_cn_inst0_constant.csv.tpl'\n",
      "2022-03-18 15:11:39.340144 saving zone array freyberg6_template\\rch_recharge_1_cn_inst0_constant.csv.zone for tpl file freyberg6_template\\rch_recharge_1_cn_inst0_constant.csv.tpl\n",
      "2022-03-18 15:11:39.346129 finished: adding constant type m style parameters for file(s) ['freyberg6.rch_recharge_1.txt'] took: 0:00:00.016955\n",
      "2022-03-18 15:11:39.346129 starting: adding constant type m style parameters for file(s) ['freyberg6.rch_recharge_1.txt']\n",
      "2022-03-18 15:11:39.346129 WARNING: 0) Inconsistency between geostruct transform and partrans.\n",
      "2022-03-18 15:11:39.346129 WARNING: 1) Setting geostruct transform to {transform}\n",
      "2022-03-18 15:11:39.346129 WARNING: -) Better to pass an appropriately transformed geostruct\n",
      "2022-03-18 15:11:39.346129 starting: loading array freyberg6_template\\freyberg6.rch_recharge_1.txt\n",
      "2022-03-18 15:11:39.348123 finished: loading array freyberg6_template\\freyberg6.rch_recharge_1.txt took: 0:00:00.001994\n",
      "2022-03-18 15:11:39.348123 loaded array 'freyberg_mf6\\freyberg6.rch_recharge_1.txt' of shape (40, 20)\n",
      "2022-03-18 15:11:39.350118 starting: writing array-style template file 'freyberg6_template\\rch_recharge_1_tcn_inst0_constant.csv.tpl'\n",
      "2022-03-18 15:11:39.350118 starting: writing template file freyberg6_template\\rch_recharge_1_tcn_inst0_constant.csv.tpl for ['rch_recharge_1_tcn_inst:0']\n",
      "2022-03-18 15:11:39.358097 finished: writing template file freyberg6_template\\rch_recharge_1_tcn_inst0_constant.csv.tpl for ['rch_recharge_1_tcn_inst:0'] took: 0:00:00.007979\n",
      "2022-03-18 15:11:39.358097 starting: writing array-based template file 'freyberg6_template\\rch_recharge_1_tcn_inst0_constant.csv.tpl'\n",
      "2022-03-18 15:11:39.359094 saving zone array freyberg6_template\\rch_recharge_1_tcn_inst0_constant.csv.zone for tpl file freyberg6_template\\rch_recharge_1_tcn_inst0_constant.csv.tpl\n",
      "2022-03-18 15:11:39.365078 finished: adding constant type m style parameters for file(s) ['freyberg6.rch_recharge_1.txt'] took: 0:00:00.018949\n",
      "2022-03-18 15:11:39.366075 starting: adding grid type m style parameters for file(s) ['freyberg6.rch_recharge_10.txt']\n",
      "2022-03-18 15:11:39.366075 starting: loading array freyberg6_template\\freyberg6.rch_recharge_10.txt\n",
      "2022-03-18 15:11:39.371062 finished: loading array freyberg6_template\\freyberg6.rch_recharge_10.txt took: 0:00:00.004987\n",
      "2022-03-18 15:11:39.371062 loaded array 'freyberg_mf6\\freyberg6.rch_recharge_10.txt' of shape (40, 20)\n",
      "2022-03-18 15:11:39.373057 starting: writing array-style template file 'freyberg6_template\\rch_recharge_10_gr_inst0_grid.csv.tpl'\n",
      "2022-03-18 15:11:39.374054 starting: writing template file freyberg6_template\\rch_recharge_10_gr_inst0_grid.csv.tpl for ['rch_recharge_10_gr_inst:0']\n",
      "2022-03-18 15:11:39.387019 finished: writing template file freyberg6_template\\rch_recharge_10_gr_inst0_grid.csv.tpl for ['rch_recharge_10_gr_inst:0'] took: 0:00:00.012965\n",
      "2022-03-18 15:11:39.387019 starting: writing array-based template file 'freyberg6_template\\rch_recharge_10_gr_inst0_grid.csv.tpl'\n",
      "2022-03-18 15:11:39.387019 saving zone array freyberg6_template\\rch_recharge_10_gr_inst0_grid.csv.zone for tpl file freyberg6_template\\rch_recharge_10_gr_inst0_grid.csv.tpl\n",
      "2022-03-18 15:11:39.394000 finished: adding grid type m style parameters for file(s) ['freyberg6.rch_recharge_10.txt'] took: 0:00:00.027925\n",
      "2022-03-18 15:11:39.394000 starting: adding pilotpoints type m style parameters for file(s) ['freyberg6.rch_recharge_10.txt']\n",
      "2022-03-18 15:11:39.394000 starting: loading array freyberg6_template\\freyberg6.rch_recharge_10.txt\n"
     ]
    },
    {
     "name": "stdout",
     "output_type": "stream",
     "text": [
      "2022-03-18 15:11:39.395995 finished: loading array freyberg6_template\\freyberg6.rch_recharge_10.txt took: 0:00:00.001995\n",
      "2022-03-18 15:11:39.395995 loaded array 'freyberg_mf6\\freyberg6.rch_recharge_10.txt' of shape (40, 20)\n",
      "2022-03-18 15:11:39.397989 starting: writing array-style template file 'freyberg6_template\\rch_recharge_10_pp_inst0_pilotpoints.csv.tpl'\n",
      "2022-03-18 15:11:39.397989 starting: setting up pilot point parameters\n",
      "2022-03-18 15:11:39.397989 No spatial reference (containing cell spacing) passed.\n",
      "2022-03-18 15:11:39.397989 OK - using spatial reference in parent object.\n"
     ]
    },
    {
     "name": "stdout",
     "output_type": "stream",
     "text": [
      "2022-03-18 15:11:39.470795 32 pilot point parameters created\n",
      "2022-03-18 15:11:39.470795 pilot point 'pargp':rch_recharge_10_pp\n",
      "2022-03-18 15:11:39.471793 finished: setting up pilot point parameters took: 0:00:00.073804\n",
      "2022-03-18 15:11:39.477776 starting: writing array-based template file 'freyberg6_template\\rch_recharge_10_pp_inst0pp.dat.tpl'\n",
      "2022-03-18 15:11:39.478774 saving zone array freyberg6_template\\rch_recharge_10_pp_inst0pp.dat.zone for tpl file freyberg6_template\\rch_recharge_10_pp_inst0pp.dat.tpl\n",
      "2022-03-18 15:11:39.483763 finished: adding pilotpoints type m style parameters for file(s) ['freyberg6.rch_recharge_10.txt'] took: 0:00:00.089763\n",
      "2022-03-18 15:11:39.483763 starting: adding constant type m style parameters for file(s) ['freyberg6.rch_recharge_10.txt']\n",
      "2022-03-18 15:11:39.483763 starting: loading array freyberg6_template\\freyberg6.rch_recharge_10.txt\n",
      "2022-03-18 15:11:39.484758 finished: loading array freyberg6_template\\freyberg6.rch_recharge_10.txt took: 0:00:00.000995\n",
      "2022-03-18 15:11:39.484758 loaded array 'freyberg_mf6\\freyberg6.rch_recharge_10.txt' of shape (40, 20)\n",
      "2022-03-18 15:11:39.487749 starting: writing array-style template file 'freyberg6_template\\rch_recharge_10_cn_inst0_constant.csv.tpl'\n",
      "2022-03-18 15:11:39.487749 starting: writing template file freyberg6_template\\rch_recharge_10_cn_inst0_constant.csv.tpl for ['rch_recharge_10_cn_inst:0']\n",
      "2022-03-18 15:11:39.494731 finished: writing template file freyberg6_template\\rch_recharge_10_cn_inst0_constant.csv.tpl for ['rch_recharge_10_cn_inst:0'] took: 0:00:00.006982\n",
      "2022-03-18 15:11:39.494731 starting: writing array-based template file 'freyberg6_template\\rch_recharge_10_cn_inst0_constant.csv.tpl'\n",
      "2022-03-18 15:11:39.494731 saving zone array freyberg6_template\\rch_recharge_10_cn_inst0_constant.csv.zone for tpl file freyberg6_template\\rch_recharge_10_cn_inst0_constant.csv.tpl\n",
      "2022-03-18 15:11:39.500715 finished: adding constant type m style parameters for file(s) ['freyberg6.rch_recharge_10.txt'] took: 0:00:00.016952\n",
      "2022-03-18 15:11:39.500715 starting: adding constant type m style parameters for file(s) ['freyberg6.rch_recharge_10.txt']\n",
      "2022-03-18 15:11:39.501712 starting: loading array freyberg6_template\\freyberg6.rch_recharge_10.txt\n",
      "2022-03-18 15:11:39.502809 finished: loading array freyberg6_template\\freyberg6.rch_recharge_10.txt took: 0:00:00.001097\n",
      "2022-03-18 15:11:39.502809 loaded array 'freyberg_mf6\\freyberg6.rch_recharge_10.txt' of shape (40, 20)\n"
     ]
    },
    {
     "name": "stdout",
     "output_type": "stream",
     "text": [
      "2022-03-18 15:11:39.505701 starting: writing array-style template file 'freyberg6_template\\rch_recharge_10_tcn_inst0_constant.csv.tpl'\n",
      "2022-03-18 15:11:39.505701 starting: writing template file freyberg6_template\\rch_recharge_10_tcn_inst0_constant.csv.tpl for ['rch_recharge_10_tcn_inst:0']\n",
      "2022-03-18 15:11:39.512683 finished: writing template file freyberg6_template\\rch_recharge_10_tcn_inst0_constant.csv.tpl for ['rch_recharge_10_tcn_inst:0'] took: 0:00:00.006982\n",
      "2022-03-18 15:11:39.512683 starting: writing array-based template file 'freyberg6_template\\rch_recharge_10_tcn_inst0_constant.csv.tpl'\n",
      "2022-03-18 15:11:39.513681 saving zone array freyberg6_template\\rch_recharge_10_tcn_inst0_constant.csv.zone for tpl file freyberg6_template\\rch_recharge_10_tcn_inst0_constant.csv.tpl\n",
      "2022-03-18 15:11:39.520662 finished: adding constant type m style parameters for file(s) ['freyberg6.rch_recharge_10.txt'] took: 0:00:00.019947\n",
      "2022-03-18 15:11:39.520662 starting: adding grid type m style parameters for file(s) ['freyberg6.rch_recharge_11.txt']\n",
      "2022-03-18 15:11:39.520662 starting: loading array freyberg6_template\\freyberg6.rch_recharge_11.txt\n",
      "2022-03-18 15:11:39.526645 finished: loading array freyberg6_template\\freyberg6.rch_recharge_11.txt took: 0:00:00.005983\n",
      "2022-03-18 15:11:39.526645 loaded array 'freyberg_mf6\\freyberg6.rch_recharge_11.txt' of shape (40, 20)\n",
      "2022-03-18 15:11:39.528640 starting: writing array-style template file 'freyberg6_template\\rch_recharge_11_gr_inst0_grid.csv.tpl'\n",
      "2022-03-18 15:11:39.528640 starting: writing template file freyberg6_template\\rch_recharge_11_gr_inst0_grid.csv.tpl for ['rch_recharge_11_gr_inst:0']\n",
      "2022-03-18 15:11:39.542603 finished: writing template file freyberg6_template\\rch_recharge_11_gr_inst0_grid.csv.tpl for ['rch_recharge_11_gr_inst:0'] took: 0:00:00.013963\n",
      "2022-03-18 15:11:39.542603 starting: writing array-based template file 'freyberg6_template\\rch_recharge_11_gr_inst0_grid.csv.tpl'\n",
      "2022-03-18 15:11:39.543601 saving zone array freyberg6_template\\rch_recharge_11_gr_inst0_grid.csv.zone for tpl file freyberg6_template\\rch_recharge_11_gr_inst0_grid.csv.tpl\n",
      "2022-03-18 15:11:39.550582 finished: adding grid type m style parameters for file(s) ['freyberg6.rch_recharge_11.txt'] took: 0:00:00.029920\n",
      "2022-03-18 15:11:39.550582 starting: adding pilotpoints type m style parameters for file(s) ['freyberg6.rch_recharge_11.txt']\n",
      "2022-03-18 15:11:39.550582 starting: loading array freyberg6_template\\freyberg6.rch_recharge_11.txt\n",
      "2022-03-18 15:11:39.552779 finished: loading array freyberg6_template\\freyberg6.rch_recharge_11.txt took: 0:00:00.002197\n",
      "2022-03-18 15:11:39.552779 loaded array 'freyberg_mf6\\freyberg6.rch_recharge_11.txt' of shape (40, 20)\n",
      "2022-03-18 15:11:39.554571 starting: writing array-style template file 'freyberg6_template\\rch_recharge_11_pp_inst0_pilotpoints.csv.tpl'\n",
      "2022-03-18 15:11:39.554571 starting: setting up pilot point parameters\n",
      "2022-03-18 15:11:39.555568 No spatial reference (containing cell spacing) passed.\n",
      "2022-03-18 15:11:39.555568 OK - using spatial reference in parent object.\n"
     ]
    },
    {
     "name": "stdout",
     "output_type": "stream",
     "text": [
      "2022-03-18 15:11:39.629371 32 pilot point parameters created\n",
      "2022-03-18 15:11:39.629371 pilot point 'pargp':rch_recharge_11_pp\n",
      "2022-03-18 15:11:39.630369 finished: setting up pilot point parameters took: 0:00:00.075798\n",
      "2022-03-18 15:11:39.637350 starting: writing array-based template file 'freyberg6_template\\rch_recharge_11_pp_inst0pp.dat.tpl'\n",
      "2022-03-18 15:11:39.637350 saving zone array freyberg6_template\\rch_recharge_11_pp_inst0pp.dat.zone for tpl file freyberg6_template\\rch_recharge_11_pp_inst0pp.dat.tpl\n",
      "2022-03-18 15:11:39.642336 finished: adding pilotpoints type m style parameters for file(s) ['freyberg6.rch_recharge_11.txt'] took: 0:00:00.091754\n",
      "2022-03-18 15:11:39.642336 starting: adding constant type m style parameters for file(s) ['freyberg6.rch_recharge_11.txt']\n",
      "2022-03-18 15:11:39.642336 starting: loading array freyberg6_template\\freyberg6.rch_recharge_11.txt\n"
     ]
    },
    {
     "name": "stdout",
     "output_type": "stream",
     "text": [
      "2022-03-18 15:11:39.644331 finished: loading array freyberg6_template\\freyberg6.rch_recharge_11.txt took: 0:00:00.001995\n",
      "2022-03-18 15:11:39.644331 loaded array 'freyberg_mf6\\freyberg6.rch_recharge_11.txt' of shape (40, 20)\n",
      "2022-03-18 15:11:39.646325 starting: writing array-style template file 'freyberg6_template\\rch_recharge_11_cn_inst0_constant.csv.tpl'\n",
      "2022-03-18 15:11:39.646325 starting: writing template file freyberg6_template\\rch_recharge_11_cn_inst0_constant.csv.tpl for ['rch_recharge_11_cn_inst:0']\n",
      "2022-03-18 15:11:39.653307 finished: writing template file freyberg6_template\\rch_recharge_11_cn_inst0_constant.csv.tpl for ['rch_recharge_11_cn_inst:0'] took: 0:00:00.006982\n",
      "2022-03-18 15:11:39.654304 starting: writing array-based template file 'freyberg6_template\\rch_recharge_11_cn_inst0_constant.csv.tpl'\n",
      "2022-03-18 15:11:39.654304 saving zone array freyberg6_template\\rch_recharge_11_cn_inst0_constant.csv.zone for tpl file freyberg6_template\\rch_recharge_11_cn_inst0_constant.csv.tpl\n",
      "2022-03-18 15:11:39.660288 finished: adding constant type m style parameters for file(s) ['freyberg6.rch_recharge_11.txt'] took: 0:00:00.017952\n",
      "2022-03-18 15:11:39.660288 starting: adding constant type m style parameters for file(s) ['freyberg6.rch_recharge_11.txt']\n",
      "2022-03-18 15:11:39.661286 starting: loading array freyberg6_template\\freyberg6.rch_recharge_11.txt\n",
      "2022-03-18 15:11:39.662283 finished: loading array freyberg6_template\\freyberg6.rch_recharge_11.txt took: 0:00:00.000997\n",
      "2022-03-18 15:11:39.662283 loaded array 'freyberg_mf6\\freyberg6.rch_recharge_11.txt' of shape (40, 20)\n",
      "2022-03-18 15:11:39.664278 starting: writing array-style template file 'freyberg6_template\\rch_recharge_11_tcn_inst0_constant.csv.tpl'\n",
      "2022-03-18 15:11:39.664278 starting: writing template file freyberg6_template\\rch_recharge_11_tcn_inst0_constant.csv.tpl for ['rch_recharge_11_tcn_inst:0']\n",
      "2022-03-18 15:11:39.672256 finished: writing template file freyberg6_template\\rch_recharge_11_tcn_inst0_constant.csv.tpl for ['rch_recharge_11_tcn_inst:0'] took: 0:00:00.007978\n",
      "2022-03-18 15:11:39.672256 starting: writing array-based template file 'freyberg6_template\\rch_recharge_11_tcn_inst0_constant.csv.tpl'\n",
      "2022-03-18 15:11:39.673253 saving zone array freyberg6_template\\rch_recharge_11_tcn_inst0_constant.csv.zone for tpl file freyberg6_template\\rch_recharge_11_tcn_inst0_constant.csv.tpl\n",
      "2022-03-18 15:11:39.679237 finished: adding constant type m style parameters for file(s) ['freyberg6.rch_recharge_11.txt'] took: 0:00:00.018949\n",
      "2022-03-18 15:11:39.680235 starting: adding grid type m style parameters for file(s) ['freyberg6.rch_recharge_12.txt']\n",
      "2022-03-18 15:11:39.680235 starting: loading array freyberg6_template\\freyberg6.rch_recharge_12.txt\n",
      "2022-03-18 15:11:39.686091 finished: loading array freyberg6_template\\freyberg6.rch_recharge_12.txt took: 0:00:00.005856\n",
      "2022-03-18 15:11:39.686091 loaded array 'freyberg_mf6\\freyberg6.rch_recharge_12.txt' of shape (40, 20)\n",
      "2022-03-18 15:11:39.688068 starting: writing array-style template file 'freyberg6_template\\rch_recharge_12_gr_inst0_grid.csv.tpl'\n",
      "2022-03-18 15:11:39.688068 starting: writing template file freyberg6_template\\rch_recharge_12_gr_inst0_grid.csv.tpl for ['rch_recharge_12_gr_inst:0']\n",
      "2022-03-18 15:11:39.700036 finished: writing template file freyberg6_template\\rch_recharge_12_gr_inst0_grid.csv.tpl for ['rch_recharge_12_gr_inst:0'] took: 0:00:00.011968\n",
      "2022-03-18 15:11:39.700036 starting: writing array-based template file 'freyberg6_template\\rch_recharge_12_gr_inst0_grid.csv.tpl'\n",
      "2022-03-18 15:11:39.700036 saving zone array freyberg6_template\\rch_recharge_12_gr_inst0_grid.csv.zone for tpl file freyberg6_template\\rch_recharge_12_gr_inst0_grid.csv.tpl\n"
     ]
    },
    {
     "name": "stdout",
     "output_type": "stream",
     "text": [
      "2022-03-18 15:11:39.709050 finished: adding grid type m style parameters for file(s) ['freyberg6.rch_recharge_12.txt'] took: 0:00:00.028815\n",
      "2022-03-18 15:11:39.709050 starting: adding pilotpoints type m style parameters for file(s) ['freyberg6.rch_recharge_12.txt']\n",
      "2022-03-18 15:11:39.709050 starting: loading array freyberg6_template\\freyberg6.rch_recharge_12.txt\n",
      "2022-03-18 15:11:39.711038 finished: loading array freyberg6_template\\freyberg6.rch_recharge_12.txt took: 0:00:00.001988\n",
      "2022-03-18 15:11:39.711038 loaded array 'freyberg_mf6\\freyberg6.rch_recharge_12.txt' of shape (40, 20)\n",
      "2022-03-18 15:11:39.713035 starting: writing array-style template file 'freyberg6_template\\rch_recharge_12_pp_inst0_pilotpoints.csv.tpl'\n",
      "2022-03-18 15:11:39.713035 starting: setting up pilot point parameters\n",
      "2022-03-18 15:11:39.713035 No spatial reference (containing cell spacing) passed.\n",
      "2022-03-18 15:11:39.713035 OK - using spatial reference in parent object.\n",
      "2022-03-18 15:11:39.783419 32 pilot point parameters created\n",
      "2022-03-18 15:11:39.783419 pilot point 'pargp':rch_recharge_12_pp\n",
      "2022-03-18 15:11:39.783419 finished: setting up pilot point parameters took: 0:00:00.070384\n",
      "2022-03-18 15:11:39.790389 starting: writing array-based template file 'freyberg6_template\\rch_recharge_12_pp_inst0pp.dat.tpl'\n",
      "2022-03-18 15:11:39.790389 saving zone array freyberg6_template\\rch_recharge_12_pp_inst0pp.dat.zone for tpl file freyberg6_template\\rch_recharge_12_pp_inst0pp.dat.tpl\n",
      "2022-03-18 15:11:39.795358 finished: adding pilotpoints type m style parameters for file(s) ['freyberg6.rch_recharge_12.txt'] took: 0:00:00.086308\n",
      "2022-03-18 15:11:39.796357 starting: adding constant type m style parameters for file(s) ['freyberg6.rch_recharge_12.txt']\n",
      "2022-03-18 15:11:39.796357 starting: loading array freyberg6_template\\freyberg6.rch_recharge_12.txt\n",
      "2022-03-18 15:11:39.797370 finished: loading array freyberg6_template\\freyberg6.rch_recharge_12.txt took: 0:00:00.001013\n",
      "2022-03-18 15:11:39.797370 loaded array 'freyberg_mf6\\freyberg6.rch_recharge_12.txt' of shape (40, 20)\n",
      "2022-03-18 15:11:39.799365 starting: writing array-style template file 'freyberg6_template\\rch_recharge_12_cn_inst0_constant.csv.tpl'\n",
      "2022-03-18 15:11:39.799365 starting: writing template file freyberg6_template\\rch_recharge_12_cn_inst0_constant.csv.tpl for ['rch_recharge_12_cn_inst:0']\n",
      "2022-03-18 15:11:39.807345 finished: writing template file freyberg6_template\\rch_recharge_12_cn_inst0_constant.csv.tpl for ['rch_recharge_12_cn_inst:0'] took: 0:00:00.007980\n",
      "2022-03-18 15:11:39.807345 starting: writing array-based template file 'freyberg6_template\\rch_recharge_12_cn_inst0_constant.csv.tpl'\n",
      "2022-03-18 15:11:39.807345 saving zone array freyberg6_template\\rch_recharge_12_cn_inst0_constant.csv.zone for tpl file freyberg6_template\\rch_recharge_12_cn_inst0_constant.csv.tpl\n",
      "2022-03-18 15:11:39.813329 finished: adding constant type m style parameters for file(s) ['freyberg6.rch_recharge_12.txt'] took: 0:00:00.016972\n",
      "2022-03-18 15:11:39.813329 starting: adding constant type m style parameters for file(s) ['freyberg6.rch_recharge_12.txt']\n",
      "2022-03-18 15:11:39.813329 starting: loading array freyberg6_template\\freyberg6.rch_recharge_12.txt\n",
      "2022-03-18 15:11:39.815323 finished: loading array freyberg6_template\\freyberg6.rch_recharge_12.txt took: 0:00:00.001994\n",
      "2022-03-18 15:11:39.815323 loaded array 'freyberg_mf6\\freyberg6.rch_recharge_12.txt' of shape (40, 20)\n"
     ]
    },
    {
     "name": "stdout",
     "output_type": "stream",
     "text": [
      "2022-03-18 15:11:39.817265 starting: writing array-style template file 'freyberg6_template\\rch_recharge_12_tcn_inst0_constant.csv.tpl'\n",
      "2022-03-18 15:11:39.817265 starting: writing template file freyberg6_template\\rch_recharge_12_tcn_inst0_constant.csv.tpl for ['rch_recharge_12_tcn_inst:0']\n",
      "2022-03-18 15:11:39.824300 finished: writing template file freyberg6_template\\rch_recharge_12_tcn_inst0_constant.csv.tpl for ['rch_recharge_12_tcn_inst:0'] took: 0:00:00.007035\n",
      "2022-03-18 15:11:39.825271 starting: writing array-based template file 'freyberg6_template\\rch_recharge_12_tcn_inst0_constant.csv.tpl'\n",
      "2022-03-18 15:11:39.825271 saving zone array freyberg6_template\\rch_recharge_12_tcn_inst0_constant.csv.zone for tpl file freyberg6_template\\rch_recharge_12_tcn_inst0_constant.csv.tpl\n",
      "2022-03-18 15:11:39.833255 finished: adding constant type m style parameters for file(s) ['freyberg6.rch_recharge_12.txt'] took: 0:00:00.019926\n",
      "2022-03-18 15:11:39.833255 starting: adding grid type m style parameters for file(s) ['freyberg6.rch_recharge_13.txt']\n",
      "2022-03-18 15:11:39.833255 starting: loading array freyberg6_template\\freyberg6.rch_recharge_13.txt\n"
     ]
    },
    {
     "name": "stdout",
     "output_type": "stream",
     "text": [
      "2022-03-18 15:11:39.839260 finished: loading array freyberg6_template\\freyberg6.rch_recharge_13.txt took: 0:00:00.006005\n",
      "2022-03-18 15:11:39.839260 loaded array 'freyberg_mf6\\freyberg6.rch_recharge_13.txt' of shape (40, 20)\n",
      "2022-03-18 15:11:39.842199 starting: writing array-style template file 'freyberg6_template\\rch_recharge_13_gr_inst0_grid.csv.tpl'\n",
      "2022-03-18 15:11:39.842199 starting: writing template file freyberg6_template\\rch_recharge_13_gr_inst0_grid.csv.tpl for ['rch_recharge_13_gr_inst:0']\n",
      "2022-03-18 15:11:39.855166 finished: writing template file freyberg6_template\\rch_recharge_13_gr_inst0_grid.csv.tpl for ['rch_recharge_13_gr_inst:0'] took: 0:00:00.012967\n",
      "2022-03-18 15:11:39.855166 starting: writing array-based template file 'freyberg6_template\\rch_recharge_13_gr_inst0_grid.csv.tpl'\n",
      "2022-03-18 15:11:39.856162 saving zone array freyberg6_template\\rch_recharge_13_gr_inst0_grid.csv.zone for tpl file freyberg6_template\\rch_recharge_13_gr_inst0_grid.csv.tpl\n",
      "2022-03-18 15:11:39.863194 finished: adding grid type m style parameters for file(s) ['freyberg6.rch_recharge_13.txt'] took: 0:00:00.029939\n",
      "2022-03-18 15:11:39.863194 starting: adding pilotpoints type m style parameters for file(s) ['freyberg6.rch_recharge_13.txt']\n",
      "2022-03-18 15:11:39.863194 starting: loading array freyberg6_template\\freyberg6.rch_recharge_13.txt\n",
      "2022-03-18 15:11:39.864140 finished: loading array freyberg6_template\\freyberg6.rch_recharge_13.txt took: 0:00:00.000946\n",
      "2022-03-18 15:11:39.865189 loaded array 'freyberg_mf6\\freyberg6.rch_recharge_13.txt' of shape (40, 20)\n",
      "2022-03-18 15:11:39.866186 starting: writing array-style template file 'freyberg6_template\\rch_recharge_13_pp_inst0_pilotpoints.csv.tpl'\n",
      "2022-03-18 15:11:39.866186 starting: setting up pilot point parameters\n",
      "2022-03-18 15:11:39.867132 No spatial reference (containing cell spacing) passed.\n",
      "2022-03-18 15:11:39.867132 OK - using spatial reference in parent object.\n"
     ]
    },
    {
     "name": "stdout",
     "output_type": "stream",
     "text": [
      "2022-03-18 15:11:39.939989 32 pilot point parameters created\n",
      "2022-03-18 15:11:39.939989 pilot point 'pargp':rch_recharge_13_pp\n",
      "2022-03-18 15:11:39.939989 finished: setting up pilot point parameters took: 0:00:00.073803\n",
      "2022-03-18 15:11:39.946975 starting: writing array-based template file 'freyberg6_template\\rch_recharge_13_pp_inst0pp.dat.tpl'\n",
      "2022-03-18 15:11:39.947918 saving zone array freyberg6_template\\rch_recharge_13_pp_inst0pp.dat.zone for tpl file freyberg6_template\\rch_recharge_13_pp_inst0pp.dat.tpl\n",
      "2022-03-18 15:11:39.952904 finished: adding pilotpoints type m style parameters for file(s) ['freyberg6.rch_recharge_13.txt'] took: 0:00:00.089710\n",
      "2022-03-18 15:11:39.952904 starting: adding constant type m style parameters for file(s) ['freyberg6.rch_recharge_13.txt']\n",
      "2022-03-18 15:11:39.953900 starting: loading array freyberg6_template\\freyberg6.rch_recharge_13.txt\n",
      "2022-03-18 15:11:39.954898 finished: loading array freyberg6_template\\freyberg6.rch_recharge_13.txt took: 0:00:00.000998\n",
      "2022-03-18 15:11:39.954898 loaded array 'freyberg_mf6\\freyberg6.rch_recharge_13.txt' of shape (40, 20)\n",
      "2022-03-18 15:11:39.956893 starting: writing array-style template file 'freyberg6_template\\rch_recharge_13_cn_inst0_constant.csv.tpl'\n",
      "2022-03-18 15:11:39.956893 starting: writing template file freyberg6_template\\rch_recharge_13_cn_inst0_constant.csv.tpl for ['rch_recharge_13_cn_inst:0']\n",
      "2022-03-18 15:11:39.963874 finished: writing template file freyberg6_template\\rch_recharge_13_cn_inst0_constant.csv.tpl for ['rch_recharge_13_cn_inst:0'] took: 0:00:00.006981\n",
      "2022-03-18 15:11:39.963874 starting: writing array-based template file 'freyberg6_template\\rch_recharge_13_cn_inst0_constant.csv.tpl'\n",
      "2022-03-18 15:11:39.963874 saving zone array freyberg6_template\\rch_recharge_13_cn_inst0_constant.csv.zone for tpl file freyberg6_template\\rch_recharge_13_cn_inst0_constant.csv.tpl\n",
      "2022-03-18 15:11:39.970855 finished: adding constant type m style parameters for file(s) ['freyberg6.rch_recharge_13.txt'] took: 0:00:00.017951\n",
      "2022-03-18 15:11:39.970855 starting: adding constant type m style parameters for file(s) ['freyberg6.rch_recharge_13.txt']\n",
      "2022-03-18 15:11:39.970855 starting: loading array freyberg6_template\\freyberg6.rch_recharge_13.txt\n",
      "2022-03-18 15:11:39.972882 finished: loading array freyberg6_template\\freyberg6.rch_recharge_13.txt took: 0:00:00.002027\n",
      "2022-03-18 15:11:39.972882 loaded array 'freyberg_mf6\\freyberg6.rch_recharge_13.txt' of shape (40, 20)\n",
      "2022-03-18 15:11:39.974879 starting: writing array-style template file 'freyberg6_template\\rch_recharge_13_tcn_inst0_constant.csv.tpl'\n",
      "2022-03-18 15:11:39.974879 starting: writing template file freyberg6_template\\rch_recharge_13_tcn_inst0_constant.csv.tpl for ['rch_recharge_13_tcn_inst:0']\n",
      "2022-03-18 15:11:39.982824 finished: writing template file freyberg6_template\\rch_recharge_13_tcn_inst0_constant.csv.tpl for ['rch_recharge_13_tcn_inst:0'] took: 0:00:00.007945\n",
      "2022-03-18 15:11:39.982824 starting: writing array-based template file 'freyberg6_template\\rch_recharge_13_tcn_inst0_constant.csv.tpl'\n",
      "2022-03-18 15:11:39.983854 saving zone array freyberg6_template\\rch_recharge_13_tcn_inst0_constant.csv.zone for tpl file freyberg6_template\\rch_recharge_13_tcn_inst0_constant.csv.tpl\n",
      "2022-03-18 15:11:39.990858 finished: adding constant type m style parameters for file(s) ['freyberg6.rch_recharge_13.txt'] took: 0:00:00.020003\n",
      "2022-03-18 15:11:39.990858 starting: adding grid type m style parameters for file(s) ['freyberg6.rch_recharge_14.txt']\n",
      "2022-03-18 15:11:39.990858 starting: loading array freyberg6_template\\freyberg6.rch_recharge_14.txt\n",
      "2022-03-18 15:11:39.996838 finished: loading array freyberg6_template\\freyberg6.rch_recharge_14.txt took: 0:00:00.005980\n",
      "2022-03-18 15:11:39.996838 loaded array 'freyberg_mf6\\freyberg6.rch_recharge_14.txt' of shape (40, 20)\n",
      "2022-03-18 15:11:39.997834 starting: writing array-style template file 'freyberg6_template\\rch_recharge_14_gr_inst0_grid.csv.tpl'\n",
      "2022-03-18 15:11:39.998780 starting: writing template file freyberg6_template\\rch_recharge_14_gr_inst0_grid.csv.tpl for ['rch_recharge_14_gr_inst:0']\n",
      "2022-03-18 15:11:40.010749 finished: writing template file freyberg6_template\\rch_recharge_14_gr_inst0_grid.csv.tpl for ['rch_recharge_14_gr_inst:0'] took: 0:00:00.011969\n",
      "2022-03-18 15:11:40.010749 starting: writing array-based template file 'freyberg6_template\\rch_recharge_14_gr_inst0_grid.csv.tpl'\n"
     ]
    },
    {
     "name": "stdout",
     "output_type": "stream",
     "text": [
      "2022-03-18 15:11:40.011746 saving zone array freyberg6_template\\rch_recharge_14_gr_inst0_grid.csv.zone for tpl file freyberg6_template\\rch_recharge_14_gr_inst0_grid.csv.tpl\n",
      "2022-03-18 15:11:40.018727 finished: adding grid type m style parameters for file(s) ['freyberg6.rch_recharge_14.txt'] took: 0:00:00.027869\n",
      "2022-03-18 15:11:40.019761 starting: adding pilotpoints type m style parameters for file(s) ['freyberg6.rch_recharge_14.txt']\n"
     ]
    },
    {
     "name": "stdout",
     "output_type": "stream",
     "text": [
      "2022-03-18 15:11:40.019761 starting: loading array freyberg6_template\\freyberg6.rch_recharge_14.txt\n",
      "2022-03-18 15:11:40.021721 finished: loading array freyberg6_template\\freyberg6.rch_recharge_14.txt took: 0:00:00.001960\n",
      "2022-03-18 15:11:40.021721 loaded array 'freyberg_mf6\\freyberg6.rch_recharge_14.txt' of shape (40, 20)\n",
      "2022-03-18 15:11:40.022759 starting: writing array-style template file 'freyberg6_template\\rch_recharge_14_pp_inst0_pilotpoints.csv.tpl'\n",
      "2022-03-18 15:11:40.022759 starting: setting up pilot point parameters\n",
      "2022-03-18 15:11:40.022759 No spatial reference (containing cell spacing) passed.\n",
      "2022-03-18 15:11:40.022759 OK - using spatial reference in parent object.\n",
      "2022-03-18 15:11:40.090534 32 pilot point parameters created\n",
      "2022-03-18 15:11:40.090534 pilot point 'pargp':rch_recharge_14_pp\n",
      "2022-03-18 15:11:40.091584 finished: setting up pilot point parameters took: 0:00:00.068825\n",
      "2022-03-18 15:11:40.097567 starting: writing array-based template file 'freyberg6_template\\rch_recharge_14_pp_inst0pp.dat.tpl'\n",
      "2022-03-18 15:11:40.098547 saving zone array freyberg6_template\\rch_recharge_14_pp_inst0pp.dat.zone for tpl file freyberg6_template\\rch_recharge_14_pp_inst0pp.dat.tpl\n",
      "2022-03-18 15:11:40.103534 finished: adding pilotpoints type m style parameters for file(s) ['freyberg6.rch_recharge_14.txt'] took: 0:00:00.083773\n",
      "2022-03-18 15:11:40.103534 starting: adding constant type m style parameters for file(s) ['freyberg6.rch_recharge_14.txt']\n",
      "2022-03-18 15:11:40.104530 starting: loading array freyberg6_template\\freyberg6.rch_recharge_14.txt\n",
      "2022-03-18 15:11:40.105546 finished: loading array freyberg6_template\\freyberg6.rch_recharge_14.txt took: 0:00:00.001016\n",
      "2022-03-18 15:11:40.105546 loaded array 'freyberg_mf6\\freyberg6.rch_recharge_14.txt' of shape (40, 20)\n",
      "2022-03-18 15:11:40.107541 starting: writing array-style template file 'freyberg6_template\\rch_recharge_14_cn_inst0_constant.csv.tpl'\n",
      "2022-03-18 15:11:40.107541 starting: writing template file freyberg6_template\\rch_recharge_14_cn_inst0_constant.csv.tpl for ['rch_recharge_14_cn_inst:0']\n",
      "2022-03-18 15:11:40.114522 finished: writing template file freyberg6_template\\rch_recharge_14_cn_inst0_constant.csv.tpl for ['rch_recharge_14_cn_inst:0'] took: 0:00:00.006981\n",
      "2022-03-18 15:11:40.114522 starting: writing array-based template file 'freyberg6_template\\rch_recharge_14_cn_inst0_constant.csv.tpl'\n",
      "2022-03-18 15:11:40.114522 saving zone array freyberg6_template\\rch_recharge_14_cn_inst0_constant.csv.zone for tpl file freyberg6_template\\rch_recharge_14_cn_inst0_constant.csv.tpl\n",
      "2022-03-18 15:11:40.120508 finished: adding constant type m style parameters for file(s) ['freyberg6.rch_recharge_14.txt'] took: 0:00:00.016974\n",
      "2022-03-18 15:11:40.121505 starting: adding constant type m style parameters for file(s) ['freyberg6.rch_recharge_14.txt']\n",
      "2022-03-18 15:11:40.121505 starting: loading array freyberg6_template\\freyberg6.rch_recharge_14.txt\n",
      "2022-03-18 15:11:40.122501 finished: loading array freyberg6_template\\freyberg6.rch_recharge_14.txt took: 0:00:00.000996\n",
      "2022-03-18 15:11:40.122501 loaded array 'freyberg_mf6\\freyberg6.rch_recharge_14.txt' of shape (40, 20)\n",
      "2022-03-18 15:11:40.124478 starting: writing array-style template file 'freyberg6_template\\rch_recharge_14_tcn_inst0_constant.csv.tpl'\n",
      "2022-03-18 15:11:40.124478 starting: writing template file freyberg6_template\\rch_recharge_14_tcn_inst0_constant.csv.tpl for ['rch_recharge_14_tcn_inst:0']\n",
      "2022-03-18 15:11:40.131460 finished: writing template file freyberg6_template\\rch_recharge_14_tcn_inst0_constant.csv.tpl for ['rch_recharge_14_tcn_inst:0'] took: 0:00:00.006982\n",
      "2022-03-18 15:11:40.131460 starting: writing array-based template file 'freyberg6_template\\rch_recharge_14_tcn_inst0_constant.csv.tpl'\n"
     ]
    },
    {
     "name": "stdout",
     "output_type": "stream",
     "text": [
      "2022-03-18 15:11:40.132424 saving zone array freyberg6_template\\rch_recharge_14_tcn_inst0_constant.csv.zone for tpl file freyberg6_template\\rch_recharge_14_tcn_inst0_constant.csv.tpl\n",
      "2022-03-18 15:11:40.140453 finished: adding constant type m style parameters for file(s) ['freyberg6.rch_recharge_14.txt'] took: 0:00:00.018948\n",
      "2022-03-18 15:11:40.140453 starting: adding grid type m style parameters for file(s) ['freyberg6.rch_recharge_15.txt']\n",
      "2022-03-18 15:11:40.140453 starting: loading array freyberg6_template\\freyberg6.rch_recharge_15.txt\n",
      "2022-03-18 15:11:40.145439 finished: loading array freyberg6_template\\freyberg6.rch_recharge_15.txt took: 0:00:00.004986\n",
      "2022-03-18 15:11:40.145439 loaded array 'freyberg_mf6\\freyberg6.rch_recharge_15.txt' of shape (40, 20)\n",
      "2022-03-18 15:11:40.148432 starting: writing array-style template file 'freyberg6_template\\rch_recharge_15_gr_inst0_grid.csv.tpl'\n",
      "2022-03-18 15:11:40.148432 starting: writing template file freyberg6_template\\rch_recharge_15_gr_inst0_grid.csv.tpl for ['rch_recharge_15_gr_inst:0']\n",
      "2022-03-18 15:11:40.160391 finished: writing template file freyberg6_template\\rch_recharge_15_gr_inst0_grid.csv.tpl for ['rch_recharge_15_gr_inst:0'] took: 0:00:00.011959\n",
      "2022-03-18 15:11:40.160391 starting: writing array-based template file 'freyberg6_template\\rch_recharge_15_gr_inst0_grid.csv.tpl'\n",
      "2022-03-18 15:11:40.161346 saving zone array freyberg6_template\\rch_recharge_15_gr_inst0_grid.csv.zone for tpl file freyberg6_template\\rch_recharge_15_gr_inst0_grid.csv.tpl\n",
      "2022-03-18 15:11:40.168329 finished: adding grid type m style parameters for file(s) ['freyberg6.rch_recharge_15.txt'] took: 0:00:00.027876\n",
      "2022-03-18 15:11:40.168329 starting: adding pilotpoints type m style parameters for file(s) ['freyberg6.rch_recharge_15.txt']\n",
      "2022-03-18 15:11:40.168329 starting: loading array freyberg6_template\\freyberg6.rch_recharge_15.txt\n",
      "2022-03-18 15:11:40.170322 finished: loading array freyberg6_template\\freyberg6.rch_recharge_15.txt took: 0:00:00.001993\n",
      "2022-03-18 15:11:40.170322 loaded array 'freyberg_mf6\\freyberg6.rch_recharge_15.txt' of shape (40, 20)\n",
      "2022-03-18 15:11:40.172367 starting: writing array-style template file 'freyberg6_template\\rch_recharge_15_pp_inst0_pilotpoints.csv.tpl'\n",
      "2022-03-18 15:11:40.172367 starting: setting up pilot point parameters\n",
      "2022-03-18 15:11:40.173314 No spatial reference (containing cell spacing) passed.\n",
      "2022-03-18 15:11:40.173314 OK - using spatial reference in parent object.\n"
     ]
    },
    {
     "name": "stdout",
     "output_type": "stream",
     "text": [
      "2022-03-18 15:11:40.244175 32 pilot point parameters created\n",
      "2022-03-18 15:11:40.244175 pilot point 'pargp':rch_recharge_15_pp\n",
      "2022-03-18 15:11:40.244175 finished: setting up pilot point parameters took: 0:00:00.071808\n",
      "2022-03-18 15:11:40.251158 starting: writing array-based template file 'freyberg6_template\\rch_recharge_15_pp_inst0pp.dat.tpl'\n",
      "2022-03-18 15:11:40.251158 saving zone array freyberg6_template\\rch_recharge_15_pp_inst0pp.dat.zone for tpl file freyberg6_template\\rch_recharge_15_pp_inst0pp.dat.tpl\n",
      "2022-03-18 15:11:40.257141 finished: adding pilotpoints type m style parameters for file(s) ['freyberg6.rch_recharge_15.txt'] took: 0:00:00.088812\n",
      "2022-03-18 15:11:40.257141 starting: adding constant type m style parameters for file(s) ['freyberg6.rch_recharge_15.txt']\n",
      "2022-03-18 15:11:40.257141 starting: loading array freyberg6_template\\freyberg6.rch_recharge_15.txt\n",
      "2022-03-18 15:11:40.259085 finished: loading array freyberg6_template\\freyberg6.rch_recharge_15.txt took: 0:00:00.001944\n",
      "2022-03-18 15:11:40.259085 loaded array 'freyberg_mf6\\freyberg6.rch_recharge_15.txt' of shape (40, 20)\n",
      "2022-03-18 15:11:40.261080 starting: writing array-style template file 'freyberg6_template\\rch_recharge_15_cn_inst0_constant.csv.tpl'\n",
      "2022-03-18 15:11:40.261080 starting: writing template file freyberg6_template\\rch_recharge_15_cn_inst0_constant.csv.tpl for ['rch_recharge_15_cn_inst:0']\n",
      "2022-03-18 15:11:40.268101 finished: writing template file freyberg6_template\\rch_recharge_15_cn_inst0_constant.csv.tpl for ['rch_recharge_15_cn_inst:0'] took: 0:00:00.007021\n",
      "2022-03-18 15:11:40.268101 starting: writing array-based template file 'freyberg6_template\\rch_recharge_15_cn_inst0_constant.csv.tpl'\n",
      "2022-03-18 15:11:40.268101 saving zone array freyberg6_template\\rch_recharge_15_cn_inst0_constant.csv.zone for tpl file freyberg6_template\\rch_recharge_15_cn_inst0_constant.csv.tpl\n",
      "2022-03-18 15:11:40.275042 finished: adding constant type m style parameters for file(s) ['freyberg6.rch_recharge_15.txt'] took: 0:00:00.017901\n",
      "2022-03-18 15:11:40.275042 starting: adding constant type m style parameters for file(s) ['freyberg6.rch_recharge_15.txt']\n",
      "2022-03-18 15:11:40.275042 starting: loading array freyberg6_template\\freyberg6.rch_recharge_15.txt\n",
      "2022-03-18 15:11:40.277061 finished: loading array freyberg6_template\\freyberg6.rch_recharge_15.txt took: 0:00:00.002019\n",
      "2022-03-18 15:11:40.277061 loaded array 'freyberg_mf6\\freyberg6.rch_recharge_15.txt' of shape (40, 20)\n",
      "2022-03-18 15:11:40.279055 starting: writing array-style template file 'freyberg6_template\\rch_recharge_15_tcn_inst0_constant.csv.tpl'\n",
      "2022-03-18 15:11:40.279055 starting: writing template file freyberg6_template\\rch_recharge_15_tcn_inst0_constant.csv.tpl for ['rch_recharge_15_tcn_inst:0']\n",
      "2022-03-18 15:11:40.286032 finished: writing template file freyberg6_template\\rch_recharge_15_tcn_inst0_constant.csv.tpl for ['rch_recharge_15_tcn_inst:0'] took: 0:00:00.006977\n",
      "2022-03-18 15:11:40.287009 starting: writing array-based template file 'freyberg6_template\\rch_recharge_15_tcn_inst0_constant.csv.tpl'\n",
      "2022-03-18 15:11:40.287009 saving zone array freyberg6_template\\rch_recharge_15_tcn_inst0_constant.csv.zone for tpl file freyberg6_template\\rch_recharge_15_tcn_inst0_constant.csv.tpl\n",
      "2022-03-18 15:11:40.294026 finished: adding constant type m style parameters for file(s) ['freyberg6.rch_recharge_15.txt'] took: 0:00:00.018984\n",
      "2022-03-18 15:11:40.294988 starting: adding grid type m style parameters for file(s) ['freyberg6.rch_recharge_16.txt']\n",
      "2022-03-18 15:11:40.294988 starting: loading array freyberg6_template\\freyberg6.rch_recharge_16.txt\n",
      "2022-03-18 15:11:40.300026 finished: loading array freyberg6_template\\freyberg6.rch_recharge_16.txt took: 0:00:00.005038\n",
      "2022-03-18 15:11:40.300026 loaded array 'freyberg_mf6\\freyberg6.rch_recharge_16.txt' of shape (40, 20)\n",
      "2022-03-18 15:11:40.302968 starting: writing array-style template file 'freyberg6_template\\rch_recharge_16_gr_inst0_grid.csv.tpl'\n",
      "2022-03-18 15:11:40.302968 starting: writing template file freyberg6_template\\rch_recharge_16_gr_inst0_grid.csv.tpl for ['rch_recharge_16_gr_inst:0']\n",
      "2022-03-18 15:11:40.314986 finished: writing template file freyberg6_template\\rch_recharge_16_gr_inst0_grid.csv.tpl for ['rch_recharge_16_gr_inst:0'] took: 0:00:00.012018\n",
      "2022-03-18 15:11:40.314986 starting: writing array-based template file 'freyberg6_template\\rch_recharge_16_gr_inst0_grid.csv.tpl'\n"
     ]
    },
    {
     "name": "stdout",
     "output_type": "stream",
     "text": [
      "2022-03-18 15:11:40.314986 saving zone array freyberg6_template\\rch_recharge_16_gr_inst0_grid.csv.zone for tpl file freyberg6_template\\rch_recharge_16_gr_inst0_grid.csv.tpl\n",
      "2022-03-18 15:11:40.322914 finished: adding grid type m style parameters for file(s) ['freyberg6.rch_recharge_16.txt'] took: 0:00:00.027926\n",
      "2022-03-18 15:11:40.322914 starting: adding pilotpoints type m style parameters for file(s) ['freyberg6.rch_recharge_16.txt']\n",
      "2022-03-18 15:11:40.323910 starting: loading array freyberg6_template\\freyberg6.rch_recharge_16.txt\n",
      "2022-03-18 15:11:40.324953 finished: loading array freyberg6_template\\freyberg6.rch_recharge_16.txt took: 0:00:00.001043\n",
      "2022-03-18 15:11:40.324953 loaded array 'freyberg_mf6\\freyberg6.rch_recharge_16.txt' of shape (40, 20)\n",
      "2022-03-18 15:11:40.326947 starting: writing array-style template file 'freyberg6_template\\rch_recharge_16_pp_inst0_pilotpoints.csv.tpl'\n",
      "2022-03-18 15:11:40.326947 starting: setting up pilot point parameters\n",
      "2022-03-18 15:11:40.326947 No spatial reference (containing cell spacing) passed.\n",
      "2022-03-18 15:11:40.326947 OK - using spatial reference in parent object.\n",
      "2022-03-18 15:11:40.396768 32 pilot point parameters created\n",
      "2022-03-18 15:11:40.396768 pilot point 'pargp':rch_recharge_16_pp\n",
      "2022-03-18 15:11:40.396768 finished: setting up pilot point parameters took: 0:00:00.069821\n",
      "2022-03-18 15:11:40.403730 starting: writing array-based template file 'freyberg6_template\\rch_recharge_16_pp_inst0pp.dat.tpl'\n",
      "2022-03-18 15:11:40.403730 saving zone array freyberg6_template\\rch_recharge_16_pp_inst0pp.dat.zone for tpl file freyberg6_template\\rch_recharge_16_pp_inst0pp.dat.tpl\n",
      "2022-03-18 15:11:40.409714 finished: adding pilotpoints type m style parameters for file(s) ['freyberg6.rch_recharge_16.txt'] took: 0:00:00.086800\n",
      "2022-03-18 15:11:40.409714 starting: adding constant type m style parameters for file(s) ['freyberg6.rch_recharge_16.txt']\n",
      "2022-03-18 15:11:40.409714 starting: loading array freyberg6_template\\freyberg6.rch_recharge_16.txt\n",
      "2022-03-18 15:11:40.411676 finished: loading array freyberg6_template\\freyberg6.rch_recharge_16.txt took: 0:00:00.001962\n",
      "2022-03-18 15:11:40.411676 loaded array 'freyberg_mf6\\freyberg6.rch_recharge_16.txt' of shape (40, 20)\n",
      "2022-03-18 15:11:40.413707 starting: writing array-style template file 'freyberg6_template\\rch_recharge_16_cn_inst0_constant.csv.tpl'\n",
      "2022-03-18 15:11:40.413707 starting: writing template file freyberg6_template\\rch_recharge_16_cn_inst0_constant.csv.tpl for ['rch_recharge_16_cn_inst:0']\n",
      "2022-03-18 15:11:40.420652 finished: writing template file freyberg6_template\\rch_recharge_16_cn_inst0_constant.csv.tpl for ['rch_recharge_16_cn_inst:0'] took: 0:00:00.006945\n",
      "2022-03-18 15:11:40.420652 starting: writing array-based template file 'freyberg6_template\\rch_recharge_16_cn_inst0_constant.csv.tpl'\n",
      "2022-03-18 15:11:40.420652 saving zone array freyberg6_template\\rch_recharge_16_cn_inst0_constant.csv.zone for tpl file freyberg6_template\\rch_recharge_16_cn_inst0_constant.csv.tpl\n",
      "2022-03-18 15:11:40.427666 finished: adding constant type m style parameters for file(s) ['freyberg6.rch_recharge_16.txt'] took: 0:00:00.017952\n",
      "2022-03-18 15:11:40.427666 starting: adding constant type m style parameters for file(s) ['freyberg6.rch_recharge_16.txt']\n",
      "2022-03-18 15:11:40.427666 starting: loading array freyberg6_template\\freyberg6.rch_recharge_16.txt\n"
     ]
    },
    {
     "name": "stdout",
     "output_type": "stream",
     "text": [
      "2022-03-18 15:11:40.429683 finished: loading array freyberg6_template\\freyberg6.rch_recharge_16.txt took: 0:00:00.002017\n",
      "2022-03-18 15:11:40.429683 loaded array 'freyberg_mf6\\freyberg6.rch_recharge_16.txt' of shape (40, 20)\n",
      "2022-03-18 15:11:40.431675 starting: writing array-style template file 'freyberg6_template\\rch_recharge_16_tcn_inst0_constant.csv.tpl'\n",
      "2022-03-18 15:11:40.431675 starting: writing template file freyberg6_template\\rch_recharge_16_tcn_inst0_constant.csv.tpl for ['rch_recharge_16_tcn_inst:0']\n",
      "2022-03-18 15:11:40.439653 finished: writing template file freyberg6_template\\rch_recharge_16_tcn_inst0_constant.csv.tpl for ['rch_recharge_16_tcn_inst:0'] took: 0:00:00.007978\n",
      "2022-03-18 15:11:40.440650 starting: writing array-based template file 'freyberg6_template\\rch_recharge_16_tcn_inst0_constant.csv.tpl'\n",
      "2022-03-18 15:11:40.440650 saving zone array freyberg6_template\\rch_recharge_16_tcn_inst0_constant.csv.zone for tpl file freyberg6_template\\rch_recharge_16_tcn_inst0_constant.csv.tpl\n",
      "2022-03-18 15:11:40.449575 finished: adding constant type m style parameters for file(s) ['freyberg6.rch_recharge_16.txt'] took: 0:00:00.021909\n",
      "2022-03-18 15:11:40.449575 starting: adding grid type m style parameters for file(s) ['freyberg6.rch_recharge_17.txt']\n",
      "2022-03-18 15:11:40.449575 starting: loading array freyberg6_template\\freyberg6.rch_recharge_17.txt\n",
      "2022-03-18 15:11:40.455593 finished: loading array freyberg6_template\\freyberg6.rch_recharge_17.txt took: 0:00:00.006018\n",
      "2022-03-18 15:11:40.455593 loaded array 'freyberg_mf6\\freyberg6.rch_recharge_17.txt' of shape (40, 20)\n",
      "2022-03-18 15:11:40.457586 starting: writing array-style template file 'freyberg6_template\\rch_recharge_17_gr_inst0_grid.csv.tpl'\n",
      "2022-03-18 15:11:40.457586 starting: writing template file freyberg6_template\\rch_recharge_17_gr_inst0_grid.csv.tpl for ['rch_recharge_17_gr_inst:0']\n",
      "2022-03-18 15:11:40.470570 finished: writing template file freyberg6_template\\rch_recharge_17_gr_inst0_grid.csv.tpl for ['rch_recharge_17_gr_inst:0'] took: 0:00:00.012984\n",
      "2022-03-18 15:11:40.470570 starting: writing array-based template file 'freyberg6_template\\rch_recharge_17_gr_inst0_grid.csv.tpl'\n",
      "2022-03-18 15:11:40.470570 saving zone array freyberg6_template\\rch_recharge_17_gr_inst0_grid.csv.zone for tpl file freyberg6_template\\rch_recharge_17_gr_inst0_grid.csv.tpl\n",
      "2022-03-18 15:11:40.481522 finished: adding grid type m style parameters for file(s) ['freyberg6.rch_recharge_17.txt'] took: 0:00:00.031947\n",
      "2022-03-18 15:11:40.481522 starting: adding pilotpoints type m style parameters for file(s) ['freyberg6.rch_recharge_17.txt']\n",
      "2022-03-18 15:11:40.481522 starting: loading array freyberg6_template\\freyberg6.rch_recharge_17.txt\n",
      "2022-03-18 15:11:40.482538 finished: loading array freyberg6_template\\freyberg6.rch_recharge_17.txt took: 0:00:00.001016\n",
      "2022-03-18 15:11:40.482538 loaded array 'freyberg_mf6\\freyberg6.rch_recharge_17.txt' of shape (40, 20)\n",
      "2022-03-18 15:11:40.484533 starting: writing array-style template file 'freyberg6_template\\rch_recharge_17_pp_inst0_pilotpoints.csv.tpl'\n",
      "2022-03-18 15:11:40.485481 starting: setting up pilot point parameters\n",
      "2022-03-18 15:11:40.485481 No spatial reference (containing cell spacing) passed.\n",
      "2022-03-18 15:11:40.485481 OK - using spatial reference in parent object.\n"
     ]
    },
    {
     "name": "stdout",
     "output_type": "stream",
     "text": [
      "2022-03-18 15:11:40.555343 32 pilot point parameters created\n",
      "2022-03-18 15:11:40.555343 pilot point 'pargp':rch_recharge_17_pp\n",
      "2022-03-18 15:11:40.555343 finished: setting up pilot point parameters took: 0:00:00.069862\n",
      "2022-03-18 15:11:40.561332 starting: writing array-based template file 'freyberg6_template\\rch_recharge_17_pp_inst0pp.dat.tpl'\n",
      "2022-03-18 15:11:40.562326 saving zone array freyberg6_template\\rch_recharge_17_pp_inst0pp.dat.zone for tpl file freyberg6_template\\rch_recharge_17_pp_inst0pp.dat.tpl\n",
      "2022-03-18 15:11:40.567312 finished: adding pilotpoints type m style parameters for file(s) ['freyberg6.rch_recharge_17.txt'] took: 0:00:00.085790\n",
      "2022-03-18 15:11:40.567312 starting: adding constant type m style parameters for file(s) ['freyberg6.rch_recharge_17.txt']\n",
      "2022-03-18 15:11:40.567312 starting: loading array freyberg6_template\\freyberg6.rch_recharge_17.txt\n",
      "2022-03-18 15:11:40.569338 finished: loading array freyberg6_template\\freyberg6.rch_recharge_17.txt took: 0:00:00.002026\n",
      "2022-03-18 15:11:40.569338 loaded array 'freyberg_mf6\\freyberg6.rch_recharge_17.txt' of shape (40, 20)\n",
      "2022-03-18 15:11:40.571301 starting: writing array-style template file 'freyberg6_template\\rch_recharge_17_cn_inst0_constant.csv.tpl'\n",
      "2022-03-18 15:11:40.571301 starting: writing template file freyberg6_template\\rch_recharge_17_cn_inst0_constant.csv.tpl for ['rch_recharge_17_cn_inst:0']\n",
      "2022-03-18 15:11:40.578233 finished: writing template file freyberg6_template\\rch_recharge_17_cn_inst0_constant.csv.tpl for ['rch_recharge_17_cn_inst:0'] took: 0:00:00.006932\n",
      "2022-03-18 15:11:40.578233 starting: writing array-based template file 'freyberg6_template\\rch_recharge_17_cn_inst0_constant.csv.tpl'\n",
      "2022-03-18 15:11:40.578233 saving zone array freyberg6_template\\rch_recharge_17_cn_inst0_constant.csv.zone for tpl file freyberg6_template\\rch_recharge_17_cn_inst0_constant.csv.tpl\n",
      "2022-03-18 15:11:40.584215 finished: adding constant type m style parameters for file(s) ['freyberg6.rch_recharge_17.txt'] took: 0:00:00.016903\n",
      "2022-03-18 15:11:40.585258 starting: adding constant type m style parameters for file(s) ['freyberg6.rch_recharge_17.txt']\n",
      "2022-03-18 15:11:40.585258 starting: loading array freyberg6_template\\freyberg6.rch_recharge_17.txt\n",
      "2022-03-18 15:11:40.586211 finished: loading array freyberg6_template\\freyberg6.rch_recharge_17.txt took: 0:00:00.000953\n",
      "2022-03-18 15:11:40.586211 loaded array 'freyberg_mf6\\freyberg6.rch_recharge_17.txt' of shape (40, 20)\n",
      "2022-03-18 15:11:40.589202 starting: writing array-style template file 'freyberg6_template\\rch_recharge_17_tcn_inst0_constant.csv.tpl'\n",
      "2022-03-18 15:11:40.589202 starting: writing template file freyberg6_template\\rch_recharge_17_tcn_inst0_constant.csv.tpl for ['rch_recharge_17_tcn_inst:0']\n",
      "2022-03-18 15:11:40.596234 finished: writing template file freyberg6_template\\rch_recharge_17_tcn_inst0_constant.csv.tpl for ['rch_recharge_17_tcn_inst:0'] took: 0:00:00.007032\n",
      "2022-03-18 15:11:40.596234 starting: writing array-based template file 'freyberg6_template\\rch_recharge_17_tcn_inst0_constant.csv.tpl'\n",
      "2022-03-18 15:11:40.597179 saving zone array freyberg6_template\\rch_recharge_17_tcn_inst0_constant.csv.zone for tpl file freyberg6_template\\rch_recharge_17_tcn_inst0_constant.csv.tpl\n",
      "2022-03-18 15:11:40.604212 finished: adding constant type m style parameters for file(s) ['freyberg6.rch_recharge_17.txt'] took: 0:00:00.018954\n",
      "2022-03-18 15:11:40.604212 starting: adding grid type m style parameters for file(s) ['freyberg6.rch_recharge_18.txt']\n",
      "2022-03-18 15:11:40.604212 starting: loading array freyberg6_template\\freyberg6.rch_recharge_18.txt\n",
      "2022-03-18 15:11:40.610200 finished: loading array freyberg6_template\\freyberg6.rch_recharge_18.txt took: 0:00:00.005988\n",
      "2022-03-18 15:11:40.610200 loaded array 'freyberg_mf6\\freyberg6.rch_recharge_18.txt' of shape (40, 20)\n",
      "2022-03-18 15:11:40.612191 starting: writing array-style template file 'freyberg6_template\\rch_recharge_18_gr_inst0_grid.csv.tpl'\n",
      "2022-03-18 15:11:40.612191 starting: writing template file freyberg6_template\\rch_recharge_18_gr_inst0_grid.csv.tpl for ['rch_recharge_18_gr_inst:0']\n"
     ]
    },
    {
     "name": "stdout",
     "output_type": "stream",
     "text": [
      "2022-03-18 15:11:40.626154 finished: writing template file freyberg6_template\\rch_recharge_18_gr_inst0_grid.csv.tpl for ['rch_recharge_18_gr_inst:0'] took: 0:00:00.013963\n",
      "2022-03-18 15:11:40.626154 starting: writing array-based template file 'freyberg6_template\\rch_recharge_18_gr_inst0_grid.csv.tpl'\n",
      "2022-03-18 15:11:40.626154 saving zone array freyberg6_template\\rch_recharge_18_gr_inst0_grid.csv.zone for tpl file freyberg6_template\\rch_recharge_18_gr_inst0_grid.csv.tpl\n",
      "2022-03-18 15:11:40.633140 finished: adding grid type m style parameters for file(s) ['freyberg6.rch_recharge_18.txt'] took: 0:00:00.028928\n",
      "2022-03-18 15:11:40.633140 starting: adding pilotpoints type m style parameters for file(s) ['freyberg6.rch_recharge_18.txt']\n",
      "2022-03-18 15:11:40.633140 starting: loading array freyberg6_template\\freyberg6.rch_recharge_18.txt\n",
      "2022-03-18 15:11:40.634116 finished: loading array freyberg6_template\\freyberg6.rch_recharge_18.txt took: 0:00:00.000976\n",
      "2022-03-18 15:11:40.635079 loaded array 'freyberg_mf6\\freyberg6.rch_recharge_18.txt' of shape (40, 20)\n",
      "2022-03-18 15:11:40.637107 starting: writing array-style template file 'freyberg6_template\\rch_recharge_18_pp_inst0_pilotpoints.csv.tpl'\n",
      "2022-03-18 15:11:40.637107 starting: setting up pilot point parameters\n",
      "2022-03-18 15:11:40.637107 No spatial reference (containing cell spacing) passed.\n",
      "2022-03-18 15:11:40.637107 OK - using spatial reference in parent object.\n",
      "2022-03-18 15:11:40.704943 32 pilot point parameters created\n",
      "2022-03-18 15:11:40.704943 pilot point 'pargp':rch_recharge_18_pp\n",
      "2022-03-18 15:11:40.704943 finished: setting up pilot point parameters took: 0:00:00.067836\n",
      "2022-03-18 15:11:40.711926 starting: writing array-based template file 'freyberg6_template\\rch_recharge_18_pp_inst0pp.dat.tpl'\n",
      "2022-03-18 15:11:40.711926 saving zone array freyberg6_template\\rch_recharge_18_pp_inst0pp.dat.zone for tpl file freyberg6_template\\rch_recharge_18_pp_inst0pp.dat.tpl\n",
      "2022-03-18 15:11:40.716912 finished: adding pilotpoints type m style parameters for file(s) ['freyberg6.rch_recharge_18.txt'] took: 0:00:00.083772\n",
      "2022-03-18 15:11:40.716912 starting: adding constant type m style parameters for file(s) ['freyberg6.rch_recharge_18.txt']\n",
      "2022-03-18 15:11:40.717909 starting: loading array freyberg6_template\\freyberg6.rch_recharge_18.txt\n",
      "2022-03-18 15:11:40.718856 finished: loading array freyberg6_template\\freyberg6.rch_recharge_18.txt took: 0:00:00.000947\n",
      "2022-03-18 15:11:40.718856 loaded array 'freyberg_mf6\\freyberg6.rch_recharge_18.txt' of shape (40, 20)\n",
      "2022-03-18 15:11:40.720906 starting: writing array-style template file 'freyberg6_template\\rch_recharge_18_cn_inst0_constant.csv.tpl'\n",
      "2022-03-18 15:11:40.720906 starting: writing template file freyberg6_template\\rch_recharge_18_cn_inst0_constant.csv.tpl for ['rch_recharge_18_cn_inst:0']\n",
      "2022-03-18 15:11:40.727882 finished: writing template file freyberg6_template\\rch_recharge_18_cn_inst0_constant.csv.tpl for ['rch_recharge_18_cn_inst:0'] took: 0:00:00.006976\n",
      "2022-03-18 15:11:40.728828 starting: writing array-based template file 'freyberg6_template\\rch_recharge_18_cn_inst0_constant.csv.tpl'\n",
      "2022-03-18 15:11:40.728828 saving zone array freyberg6_template\\rch_recharge_18_cn_inst0_constant.csv.zone for tpl file freyberg6_template\\rch_recharge_18_cn_inst0_constant.csv.tpl\n",
      "2022-03-18 15:11:40.734863 finished: adding constant type m style parameters for file(s) ['freyberg6.rch_recharge_18.txt'] took: 0:00:00.017951\n",
      "2022-03-18 15:11:40.734863 starting: adding constant type m style parameters for file(s) ['freyberg6.rch_recharge_18.txt']\n",
      "2022-03-18 15:11:40.734863 starting: loading array freyberg6_template\\freyberg6.rch_recharge_18.txt\n",
      "2022-03-18 15:11:40.736858 finished: loading array freyberg6_template\\freyberg6.rch_recharge_18.txt took: 0:00:00.001995\n",
      "2022-03-18 15:11:40.736858 loaded array 'freyberg_mf6\\freyberg6.rch_recharge_18.txt' of shape (40, 20)\n"
     ]
    },
    {
     "name": "stdout",
     "output_type": "stream",
     "text": [
      "2022-03-18 15:11:40.738801 starting: writing array-style template file 'freyberg6_template\\rch_recharge_18_tcn_inst0_constant.csv.tpl'\n",
      "2022-03-18 15:11:40.738801 starting: writing template file freyberg6_template\\rch_recharge_18_tcn_inst0_constant.csv.tpl for ['rch_recharge_18_tcn_inst:0']\n",
      "2022-03-18 15:11:40.745783 finished: writing template file freyberg6_template\\rch_recharge_18_tcn_inst0_constant.csv.tpl for ['rch_recharge_18_tcn_inst:0'] took: 0:00:00.006982\n",
      "2022-03-18 15:11:40.745783 starting: writing array-based template file 'freyberg6_template\\rch_recharge_18_tcn_inst0_constant.csv.tpl'\n",
      "2022-03-18 15:11:40.746779 saving zone array freyberg6_template\\rch_recharge_18_tcn_inst0_constant.csv.zone for tpl file freyberg6_template\\rch_recharge_18_tcn_inst0_constant.csv.tpl\n",
      "2022-03-18 15:11:40.754812 finished: adding constant type m style parameters for file(s) ['freyberg6.rch_recharge_18.txt'] took: 0:00:00.019949\n",
      "2022-03-18 15:11:40.754812 starting: adding grid type m style parameters for file(s) ['freyberg6.rch_recharge_19.txt']\n",
      "2022-03-18 15:11:40.754812 starting: loading array freyberg6_template\\freyberg6.rch_recharge_19.txt\n",
      "2022-03-18 15:11:40.759796 finished: loading array freyberg6_template\\freyberg6.rch_recharge_19.txt took: 0:00:00.004984\n",
      "2022-03-18 15:11:40.759796 loaded array 'freyberg_mf6\\freyberg6.rch_recharge_19.txt' of shape (40, 20)\n",
      "2022-03-18 15:11:40.761792 starting: writing array-style template file 'freyberg6_template\\rch_recharge_19_gr_inst0_grid.csv.tpl'\n",
      "2022-03-18 15:11:40.761792 starting: writing template file freyberg6_template\\rch_recharge_19_gr_inst0_grid.csv.tpl for ['rch_recharge_19_gr_inst:0']\n",
      "2022-03-18 15:11:40.775754 finished: writing template file freyberg6_template\\rch_recharge_19_gr_inst0_grid.csv.tpl for ['rch_recharge_19_gr_inst:0'] took: 0:00:00.013962\n",
      "2022-03-18 15:11:40.775754 starting: writing array-based template file 'freyberg6_template\\rch_recharge_19_gr_inst0_grid.csv.tpl'\n",
      "2022-03-18 15:11:40.775754 saving zone array freyberg6_template\\rch_recharge_19_gr_inst0_grid.csv.zone for tpl file freyberg6_template\\rch_recharge_19_gr_inst0_grid.csv.tpl\n",
      "2022-03-18 15:11:40.782718 finished: adding grid type m style parameters for file(s) ['freyberg6.rch_recharge_19.txt'] took: 0:00:00.027906\n",
      "2022-03-18 15:11:40.782718 starting: adding pilotpoints type m style parameters for file(s) ['freyberg6.rch_recharge_19.txt']\n",
      "2022-03-18 15:11:40.782718 starting: loading array freyberg6_template\\freyberg6.rch_recharge_19.txt\n",
      "2022-03-18 15:11:40.784730 finished: loading array freyberg6_template\\freyberg6.rch_recharge_19.txt took: 0:00:00.002012\n",
      "2022-03-18 15:11:40.784730 loaded array 'freyberg_mf6\\freyberg6.rch_recharge_19.txt' of shape (40, 20)\n",
      "2022-03-18 15:11:40.786675 starting: writing array-style template file 'freyberg6_template\\rch_recharge_19_pp_inst0_pilotpoints.csv.tpl'\n",
      "2022-03-18 15:11:40.786675 starting: setting up pilot point parameters\n",
      "2022-03-18 15:11:40.786675 No spatial reference (containing cell spacing) passed.\n",
      "2022-03-18 15:11:40.786675 OK - using spatial reference in parent object.\n"
     ]
    },
    {
     "name": "stdout",
     "output_type": "stream",
     "text": [
      "2022-03-18 15:11:40.861525 32 pilot point parameters created\n",
      "2022-03-18 15:11:40.861525 pilot point 'pargp':rch_recharge_19_pp\n",
      "2022-03-18 15:11:40.861525 finished: setting up pilot point parameters took: 0:00:00.074850\n",
      "2022-03-18 15:11:40.869509 starting: writing array-based template file 'freyberg6_template\\rch_recharge_19_pp_inst0pp.dat.tpl'\n",
      "2022-03-18 15:11:40.869509 saving zone array freyberg6_template\\rch_recharge_19_pp_inst0pp.dat.zone for tpl file freyberg6_template\\rch_recharge_19_pp_inst0pp.dat.tpl\n",
      "2022-03-18 15:11:40.874548 finished: adding pilotpoints type m style parameters for file(s) ['freyberg6.rch_recharge_19.txt'] took: 0:00:00.091830\n",
      "2022-03-18 15:11:40.874548 starting: adding constant type m style parameters for file(s) ['freyberg6.rch_recharge_19.txt']\n",
      "2022-03-18 15:11:40.874548 starting: loading array freyberg6_template\\freyberg6.rch_recharge_19.txt\n",
      "2022-03-18 15:11:40.876539 finished: loading array freyberg6_template\\freyberg6.rch_recharge_19.txt took: 0:00:00.001991\n",
      "2022-03-18 15:11:40.876539 loaded array 'freyberg_mf6\\freyberg6.rch_recharge_19.txt' of shape (40, 20)\n",
      "2022-03-18 15:11:40.878534 starting: writing array-style template file 'freyberg6_template\\rch_recharge_19_cn_inst0_constant.csv.tpl'\n",
      "2022-03-18 15:11:40.878534 starting: writing template file freyberg6_template\\rch_recharge_19_cn_inst0_constant.csv.tpl for ['rch_recharge_19_cn_inst:0']\n",
      "2022-03-18 15:11:40.885489 finished: writing template file freyberg6_template\\rch_recharge_19_cn_inst0_constant.csv.tpl for ['rch_recharge_19_cn_inst:0'] took: 0:00:00.006955\n",
      "2022-03-18 15:11:40.885489 starting: writing array-based template file 'freyberg6_template\\rch_recharge_19_cn_inst0_constant.csv.tpl'\n",
      "2022-03-18 15:11:40.885489 saving zone array freyberg6_template\\rch_recharge_19_cn_inst0_constant.csv.zone for tpl file freyberg6_template\\rch_recharge_19_cn_inst0_constant.csv.tpl\n",
      "2022-03-18 15:11:40.892497 finished: adding constant type m style parameters for file(s) ['freyberg6.rch_recharge_19.txt'] took: 0:00:00.017949\n",
      "2022-03-18 15:11:40.892497 starting: adding constant type m style parameters for file(s) ['freyberg6.rch_recharge_19.txt']\n",
      "2022-03-18 15:11:40.892497 starting: loading array freyberg6_template\\freyberg6.rch_recharge_19.txt\n",
      "2022-03-18 15:11:40.893494 finished: loading array freyberg6_template\\freyberg6.rch_recharge_19.txt took: 0:00:00.000997\n",
      "2022-03-18 15:11:40.893494 loaded array 'freyberg_mf6\\freyberg6.rch_recharge_19.txt' of shape (40, 20)\n",
      "2022-03-18 15:11:40.895471 starting: writing array-style template file 'freyberg6_template\\rch_recharge_19_tcn_inst0_constant.csv.tpl'\n",
      "2022-03-18 15:11:40.895471 starting: writing template file freyberg6_template\\rch_recharge_19_tcn_inst0_constant.csv.tpl for ['rch_recharge_19_tcn_inst:0']\n",
      "2022-03-18 15:11:40.903434 finished: writing template file freyberg6_template\\rch_recharge_19_tcn_inst0_constant.csv.tpl for ['rch_recharge_19_tcn_inst:0'] took: 0:00:00.007963\n",
      "2022-03-18 15:11:40.903434 starting: writing array-based template file 'freyberg6_template\\rch_recharge_19_tcn_inst0_constant.csv.tpl'\n",
      "2022-03-18 15:11:40.903434 saving zone array freyberg6_template\\rch_recharge_19_tcn_inst0_constant.csv.zone for tpl file freyberg6_template\\rch_recharge_19_tcn_inst0_constant.csv.tpl\n",
      "2022-03-18 15:11:40.911395 finished: adding constant type m style parameters for file(s) ['freyberg6.rch_recharge_19.txt'] took: 0:00:00.018898\n",
      "2022-03-18 15:11:40.911395 starting: adding grid type m style parameters for file(s) ['freyberg6.rch_recharge_2.txt']\n",
      "2022-03-18 15:11:40.911395 starting: loading array freyberg6_template\\freyberg6.rch_recharge_2.txt\n",
      "2022-03-18 15:11:40.916434 finished: loading array freyberg6_template\\freyberg6.rch_recharge_2.txt took: 0:00:00.005039\n",
      "2022-03-18 15:11:40.916434 loaded array 'freyberg_mf6\\freyberg6.rch_recharge_2.txt' of shape (40, 20)\n",
      "2022-03-18 15:11:40.918428 starting: writing array-style template file 'freyberg6_template\\rch_recharge_2_gr_inst0_grid.csv.tpl'\n",
      "2022-03-18 15:11:40.918428 starting: writing template file freyberg6_template\\rch_recharge_2_gr_inst0_grid.csv.tpl for ['rch_recharge_2_gr_inst:0']\n",
      "2022-03-18 15:11:40.930399 finished: writing template file freyberg6_template\\rch_recharge_2_gr_inst0_grid.csv.tpl for ['rch_recharge_2_gr_inst:0'] took: 0:00:00.011971\n",
      "2022-03-18 15:11:40.931341 starting: writing array-based template file 'freyberg6_template\\rch_recharge_2_gr_inst0_grid.csv.tpl'\n"
     ]
    },
    {
     "name": "stdout",
     "output_type": "stream",
     "text": [
      "2022-03-18 15:11:40.931341 saving zone array freyberg6_template\\rch_recharge_2_gr_inst0_grid.csv.zone for tpl file freyberg6_template\\rch_recharge_2_gr_inst0_grid.csv.tpl\n",
      "2022-03-18 15:11:40.939354 finished: adding grid type m style parameters for file(s) ['freyberg6.rch_recharge_2.txt'] took: 0:00:00.027959\n",
      "2022-03-18 15:11:40.939354 starting: adding pilotpoints type m style parameters for file(s) ['freyberg6.rch_recharge_2.txt']\n",
      "2022-03-18 15:11:40.939354 starting: loading array freyberg6_template\\freyberg6.rch_recharge_2.txt\n",
      "2022-03-18 15:11:40.941348 finished: loading array freyberg6_template\\freyberg6.rch_recharge_2.txt took: 0:00:00.001994\n",
      "2022-03-18 15:11:40.941348 loaded array 'freyberg_mf6\\freyberg6.rch_recharge_2.txt' of shape (40, 20)\n",
      "2022-03-18 15:11:40.943353 starting: writing array-style template file 'freyberg6_template\\rch_recharge_2_pp_inst0_pilotpoints.csv.tpl'\n",
      "2022-03-18 15:11:40.943353 starting: setting up pilot point parameters\n",
      "2022-03-18 15:11:40.943353 No spatial reference (containing cell spacing) passed.\n",
      "2022-03-18 15:11:40.943353 OK - using spatial reference in parent object.\n",
      "2022-03-18 15:11:41.022098 32 pilot point parameters created\n",
      "2022-03-18 15:11:41.022098 pilot point 'pargp':rch_recharge_2_pp\n",
      "2022-03-18 15:11:41.023129 finished: setting up pilot point parameters took: 0:00:00.079776\n",
      "2022-03-18 15:11:41.029088 starting: writing array-based template file 'freyberg6_template\\rch_recharge_2_pp_inst0pp.dat.tpl'\n",
      "2022-03-18 15:11:41.029088 saving zone array freyberg6_template\\rch_recharge_2_pp_inst0pp.dat.zone for tpl file freyberg6_template\\rch_recharge_2_pp_inst0pp.dat.tpl\n",
      "2022-03-18 15:11:41.035117 finished: adding pilotpoints type m style parameters for file(s) ['freyberg6.rch_recharge_2.txt'] took: 0:00:00.095763\n"
     ]
    },
    {
     "name": "stdout",
     "output_type": "stream",
     "text": [
      "2022-03-18 15:11:41.036063 starting: adding constant type m style parameters for file(s) ['freyberg6.rch_recharge_2.txt']\n",
      "2022-03-18 15:11:41.036063 starting: loading array freyberg6_template\\freyberg6.rch_recharge_2.txt\n",
      "2022-03-18 15:11:41.037059 finished: loading array freyberg6_template\\freyberg6.rch_recharge_2.txt took: 0:00:00.000996\n",
      "2022-03-18 15:11:41.037059 loaded array 'freyberg_mf6\\freyberg6.rch_recharge_2.txt' of shape (40, 20)\n",
      "2022-03-18 15:11:41.039108 starting: writing array-style template file 'freyberg6_template\\rch_recharge_2_cn_inst0_constant.csv.tpl'\n",
      "2022-03-18 15:11:41.039108 starting: writing template file freyberg6_template\\rch_recharge_2_cn_inst0_constant.csv.tpl for ['rch_recharge_2_cn_inst:0']\n",
      "2022-03-18 15:11:41.047087 finished: writing template file freyberg6_template\\rch_recharge_2_cn_inst0_constant.csv.tpl for ['rch_recharge_2_cn_inst:0'] took: 0:00:00.007979\n",
      "2022-03-18 15:11:41.047087 starting: writing array-based template file 'freyberg6_template\\rch_recharge_2_cn_inst0_constant.csv.tpl'\n",
      "2022-03-18 15:11:41.047087 saving zone array freyberg6_template\\rch_recharge_2_cn_inst0_constant.csv.zone for tpl file freyberg6_template\\rch_recharge_2_cn_inst0_constant.csv.tpl\n",
      "2022-03-18 15:11:41.054066 finished: adding constant type m style parameters for file(s) ['freyberg6.rch_recharge_2.txt'] took: 0:00:00.018003\n",
      "2022-03-18 15:11:41.054066 starting: adding constant type m style parameters for file(s) ['freyberg6.rch_recharge_2.txt']\n",
      "2022-03-18 15:11:41.054066 starting: loading array freyberg6_template\\freyberg6.rch_recharge_2.txt\n",
      "2022-03-18 15:11:41.055012 finished: loading array freyberg6_template\\freyberg6.rch_recharge_2.txt took: 0:00:00.000946\n",
      "2022-03-18 15:11:41.055012 loaded array 'freyberg_mf6\\freyberg6.rch_recharge_2.txt' of shape (40, 20)\n",
      "2022-03-18 15:11:41.058003 starting: writing array-style template file 'freyberg6_template\\rch_recharge_2_tcn_inst0_constant.csv.tpl'\n",
      "2022-03-18 15:11:41.058003 starting: writing template file freyberg6_template\\rch_recharge_2_tcn_inst0_constant.csv.tpl for ['rch_recharge_2_tcn_inst:0']\n",
      "2022-03-18 15:11:41.065039 finished: writing template file freyberg6_template\\rch_recharge_2_tcn_inst0_constant.csv.tpl for ['rch_recharge_2_tcn_inst:0'] took: 0:00:00.007036\n",
      "2022-03-18 15:11:41.065039 starting: writing array-based template file 'freyberg6_template\\rch_recharge_2_tcn_inst0_constant.csv.tpl'\n",
      "2022-03-18 15:11:41.065039 saving zone array freyberg6_template\\rch_recharge_2_tcn_inst0_constant.csv.zone for tpl file freyberg6_template\\rch_recharge_2_tcn_inst0_constant.csv.tpl\n",
      "2022-03-18 15:11:41.073017 finished: adding constant type m style parameters for file(s) ['freyberg6.rch_recharge_2.txt'] took: 0:00:00.018951\n",
      "2022-03-18 15:11:41.073017 starting: adding grid type m style parameters for file(s) ['freyberg6.rch_recharge_20.txt']\n",
      "2022-03-18 15:11:41.073017 starting: loading array freyberg6_template\\freyberg6.rch_recharge_20.txt\n",
      "2022-03-18 15:11:41.077951 finished: loading array freyberg6_template\\freyberg6.rch_recharge_20.txt took: 0:00:00.004934\n",
      "2022-03-18 15:11:41.077951 loaded array 'freyberg_mf6\\freyberg6.rch_recharge_20.txt' of shape (40, 20)\n",
      "2022-03-18 15:11:41.079944 starting: writing array-style template file 'freyberg6_template\\rch_recharge_20_gr_inst0_grid.csv.tpl'\n",
      "2022-03-18 15:11:41.080941 starting: writing template file freyberg6_template\\rch_recharge_20_gr_inst0_grid.csv.tpl for ['rch_recharge_20_gr_inst:0']\n",
      "2022-03-18 15:11:41.093907 finished: writing template file freyberg6_template\\rch_recharge_20_gr_inst0_grid.csv.tpl for ['rch_recharge_20_gr_inst:0'] took: 0:00:00.012966\n",
      "2022-03-18 15:11:41.093907 starting: writing array-based template file 'freyberg6_template\\rch_recharge_20_gr_inst0_grid.csv.tpl'\n",
      "2022-03-18 15:11:41.094905 saving zone array freyberg6_template\\rch_recharge_20_gr_inst0_grid.csv.zone for tpl file freyberg6_template\\rch_recharge_20_gr_inst0_grid.csv.tpl\n",
      "2022-03-18 15:11:41.101940 finished: adding grid type m style parameters for file(s) ['freyberg6.rch_recharge_20.txt'] took: 0:00:00.028923\n",
      "2022-03-18 15:11:41.101940 starting: adding pilotpoints type m style parameters for file(s) ['freyberg6.rch_recharge_20.txt']\n",
      "2022-03-18 15:11:41.101940 starting: loading array freyberg6_template\\freyberg6.rch_recharge_20.txt\n",
      "2022-03-18 15:11:41.103881 finished: loading array freyberg6_template\\freyberg6.rch_recharge_20.txt took: 0:00:00.001941\n",
      "2022-03-18 15:11:41.103881 loaded array 'freyberg_mf6\\freyberg6.rch_recharge_20.txt' of shape (40, 20)\n",
      "2022-03-18 15:11:41.105929 starting: writing array-style template file 'freyberg6_template\\rch_recharge_20_pp_inst0_pilotpoints.csv.tpl'\n",
      "2022-03-18 15:11:41.105929 starting: setting up pilot point parameters\n",
      "2022-03-18 15:11:41.105929 No spatial reference (containing cell spacing) passed.\n",
      "2022-03-18 15:11:41.105929 OK - using spatial reference in parent object.\n"
     ]
    },
    {
     "name": "stdout",
     "output_type": "stream",
     "text": [
      "2022-03-18 15:11:41.174724 32 pilot point parameters created\n",
      "2022-03-18 15:11:41.175741 pilot point 'pargp':rch_recharge_20_pp\n",
      "2022-03-18 15:11:41.175741 finished: setting up pilot point parameters took: 0:00:00.069812\n",
      "2022-03-18 15:11:41.181706 starting: writing array-based template file 'freyberg6_template\\rch_recharge_20_pp_inst0pp.dat.tpl'\n",
      "2022-03-18 15:11:41.182701 saving zone array freyberg6_template\\rch_recharge_20_pp_inst0pp.dat.zone for tpl file freyberg6_template\\rch_recharge_20_pp_inst0pp.dat.tpl\n",
      "2022-03-18 15:11:41.187696 finished: adding pilotpoints type m style parameters for file(s) ['freyberg6.rch_recharge_20.txt'] took: 0:00:00.085756\n",
      "2022-03-18 15:11:41.187696 starting: adding constant type m style parameters for file(s) ['freyberg6.rch_recharge_20.txt']\n",
      "2022-03-18 15:11:41.188686 starting: loading array freyberg6_template\\freyberg6.rch_recharge_20.txt\n",
      "2022-03-18 15:11:41.189686 finished: loading array freyberg6_template\\freyberg6.rch_recharge_20.txt took: 0:00:00.001000\n",
      "2022-03-18 15:11:41.189686 loaded array 'freyberg_mf6\\freyberg6.rch_recharge_20.txt' of shape (40, 20)\n",
      "2022-03-18 15:11:41.191679 starting: writing array-style template file 'freyberg6_template\\rch_recharge_20_cn_inst0_constant.csv.tpl'\n",
      "2022-03-18 15:11:41.191679 starting: writing template file freyberg6_template\\rch_recharge_20_cn_inst0_constant.csv.tpl for ['rch_recharge_20_cn_inst:0']\n",
      "2022-03-18 15:11:41.198627 finished: writing template file freyberg6_template\\rch_recharge_20_cn_inst0_constant.csv.tpl for ['rch_recharge_20_cn_inst:0'] took: 0:00:00.006948\n",
      "2022-03-18 15:11:41.198627 starting: writing array-based template file 'freyberg6_template\\rch_recharge_20_cn_inst0_constant.csv.tpl'\n",
      "2022-03-18 15:11:41.199626 saving zone array freyberg6_template\\rch_recharge_20_cn_inst0_constant.csv.zone for tpl file freyberg6_template\\rch_recharge_20_cn_inst0_constant.csv.tpl\n",
      "2022-03-18 15:11:41.206641 finished: adding constant type m style parameters for file(s) ['freyberg6.rch_recharge_20.txt'] took: 0:00:00.018945\n",
      "2022-03-18 15:11:41.206641 starting: adding constant type m style parameters for file(s) ['freyberg6.rch_recharge_20.txt']\n",
      "2022-03-18 15:11:41.207656 starting: loading array freyberg6_template\\freyberg6.rch_recharge_20.txt\n",
      "2022-03-18 15:11:41.208655 finished: loading array freyberg6_template\\freyberg6.rch_recharge_20.txt took: 0:00:00.000999\n",
      "2022-03-18 15:11:41.208655 loaded array 'freyberg_mf6\\freyberg6.rch_recharge_20.txt' of shape (40, 20)\n",
      "2022-03-18 15:11:41.210646 starting: writing array-style template file 'freyberg6_template\\rch_recharge_20_tcn_inst0_constant.csv.tpl'\n",
      "2022-03-18 15:11:41.210646 starting: writing template file freyberg6_template\\rch_recharge_20_tcn_inst0_constant.csv.tpl for ['rch_recharge_20_tcn_inst:0']\n",
      "2022-03-18 15:11:41.217576 finished: writing template file freyberg6_template\\rch_recharge_20_tcn_inst0_constant.csv.tpl for ['rch_recharge_20_tcn_inst:0'] took: 0:00:00.006930\n",
      "2022-03-18 15:11:41.217576 starting: writing array-based template file 'freyberg6_template\\rch_recharge_20_tcn_inst0_constant.csv.tpl'\n",
      "2022-03-18 15:11:41.218573 saving zone array freyberg6_template\\rch_recharge_20_tcn_inst0_constant.csv.zone for tpl file freyberg6_template\\rch_recharge_20_tcn_inst0_constant.csv.tpl\n",
      "2022-03-18 15:11:41.226593 finished: adding constant type m style parameters for file(s) ['freyberg6.rch_recharge_20.txt'] took: 0:00:00.019952\n",
      "2022-03-18 15:11:41.226593 starting: adding grid type m style parameters for file(s) ['freyberg6.rch_recharge_21.txt']\n"
     ]
    },
    {
     "name": "stdout",
     "output_type": "stream",
     "text": [
      "2022-03-18 15:11:41.226593 starting: loading array freyberg6_template\\freyberg6.rch_recharge_21.txt\n",
      "2022-03-18 15:11:41.232592 finished: loading array freyberg6_template\\freyberg6.rch_recharge_21.txt took: 0:00:00.005999\n",
      "2022-03-18 15:11:41.232592 loaded array 'freyberg_mf6\\freyberg6.rch_recharge_21.txt' of shape (40, 20)\n",
      "2022-03-18 15:11:41.234582 starting: writing array-style template file 'freyberg6_template\\rch_recharge_21_gr_inst0_grid.csv.tpl'\n",
      "2022-03-18 15:11:41.234582 starting: writing template file freyberg6_template\\rch_recharge_21_gr_inst0_grid.csv.tpl for ['rch_recharge_21_gr_inst:0']\n",
      "2022-03-18 15:11:41.247557 finished: writing template file freyberg6_template\\rch_recharge_21_gr_inst0_grid.csv.tpl for ['rch_recharge_21_gr_inst:0'] took: 0:00:00.012975\n",
      "2022-03-18 15:11:41.248494 starting: writing array-based template file 'freyberg6_template\\rch_recharge_21_gr_inst0_grid.csv.tpl'\n",
      "2022-03-18 15:11:41.248494 saving zone array freyberg6_template\\rch_recharge_21_gr_inst0_grid.csv.zone for tpl file freyberg6_template\\rch_recharge_21_gr_inst0_grid.csv.tpl\n",
      "2022-03-18 15:11:41.255509 finished: adding grid type m style parameters for file(s) ['freyberg6.rch_recharge_21.txt'] took: 0:00:00.028916\n",
      "2022-03-18 15:11:41.255509 starting: adding pilotpoints type m style parameters for file(s) ['freyberg6.rch_recharge_21.txt']\n",
      "2022-03-18 15:11:41.255509 starting: loading array freyberg6_template\\freyberg6.rch_recharge_21.txt\n",
      "2022-03-18 15:11:41.257503 finished: loading array freyberg6_template\\freyberg6.rch_recharge_21.txt took: 0:00:00.001994\n",
      "2022-03-18 15:11:41.257503 loaded array 'freyberg_mf6\\freyberg6.rch_recharge_21.txt' of shape (40, 20)\n",
      "2022-03-18 15:11:41.259498 starting: writing array-style template file 'freyberg6_template\\rch_recharge_21_pp_inst0_pilotpoints.csv.tpl'\n",
      "2022-03-18 15:11:41.259498 starting: setting up pilot point parameters\n",
      "2022-03-18 15:11:41.259498 No spatial reference (containing cell spacing) passed.\n",
      "2022-03-18 15:11:41.259498 OK - using spatial reference in parent object.\n",
      "2022-03-18 15:11:41.327315 32 pilot point parameters created\n",
      "2022-03-18 15:11:41.327315 pilot point 'pargp':rch_recharge_21_pp\n",
      "2022-03-18 15:11:41.328317 finished: setting up pilot point parameters took: 0:00:00.068819\n",
      "2022-03-18 15:11:41.334324 starting: writing array-based template file 'freyberg6_template\\rch_recharge_21_pp_inst0pp.dat.tpl'\n",
      "2022-03-18 15:11:41.335314 saving zone array freyberg6_template\\rch_recharge_21_pp_inst0pp.dat.zone for tpl file freyberg6_template\\rch_recharge_21_pp_inst0pp.dat.tpl\n",
      "2022-03-18 15:11:41.340248 finished: adding pilotpoints type m style parameters for file(s) ['freyberg6.rch_recharge_21.txt'] took: 0:00:00.084739\n",
      "2022-03-18 15:11:41.340248 starting: adding constant type m style parameters for file(s) ['freyberg6.rch_recharge_21.txt']\n",
      "2022-03-18 15:11:41.340248 starting: loading array freyberg6_template\\freyberg6.rch_recharge_21.txt\n",
      "2022-03-18 15:11:41.342302 finished: loading array freyberg6_template\\freyberg6.rch_recharge_21.txt took: 0:00:00.002054\n",
      "2022-03-18 15:11:41.342302 loaded array 'freyberg_mf6\\freyberg6.rch_recharge_21.txt' of shape (40, 20)\n",
      "2022-03-18 15:11:41.344292 starting: writing array-style template file 'freyberg6_template\\rch_recharge_21_cn_inst0_constant.csv.tpl'\n",
      "2022-03-18 15:11:41.344292 starting: writing template file freyberg6_template\\rch_recharge_21_cn_inst0_constant.csv.tpl for ['rch_recharge_21_cn_inst:0']\n",
      "2022-03-18 15:11:41.351270 finished: writing template file freyberg6_template\\rch_recharge_21_cn_inst0_constant.csv.tpl for ['rch_recharge_21_cn_inst:0'] took: 0:00:00.006978\n",
      "2022-03-18 15:11:41.351270 starting: writing array-based template file 'freyberg6_template\\rch_recharge_21_cn_inst0_constant.csv.tpl'\n",
      "2022-03-18 15:11:41.351270 saving zone array freyberg6_template\\rch_recharge_21_cn_inst0_constant.csv.zone for tpl file freyberg6_template\\rch_recharge_21_cn_inst0_constant.csv.tpl\n",
      "2022-03-18 15:11:41.358200 finished: adding constant type m style parameters for file(s) ['freyberg6.rch_recharge_21.txt'] took: 0:00:00.017952\n",
      "2022-03-18 15:11:41.358200 starting: adding constant type m style parameters for file(s) ['freyberg6.rch_recharge_21.txt']\n",
      "2022-03-18 15:11:41.358200 starting: loading array freyberg6_template\\freyberg6.rch_recharge_21.txt\n",
      "2022-03-18 15:11:41.359236 finished: loading array freyberg6_template\\freyberg6.rch_recharge_21.txt took: 0:00:00.001036\n",
      "2022-03-18 15:11:41.359236 loaded array 'freyberg_mf6\\freyberg6.rch_recharge_21.txt' of shape (40, 20)\n",
      "2022-03-18 15:11:41.361247 starting: writing array-style template file 'freyberg6_template\\rch_recharge_21_tcn_inst0_constant.csv.tpl'\n",
      "2022-03-18 15:11:41.361247 starting: writing template file freyberg6_template\\rch_recharge_21_tcn_inst0_constant.csv.tpl for ['rch_recharge_21_tcn_inst:0']\n",
      "2022-03-18 15:11:41.368173 finished: writing template file freyberg6_template\\rch_recharge_21_tcn_inst0_constant.csv.tpl for ['rch_recharge_21_tcn_inst:0'] took: 0:00:00.006926\n",
      "2022-03-18 15:11:41.368173 starting: writing array-based template file 'freyberg6_template\\rch_recharge_21_tcn_inst0_constant.csv.tpl'\n",
      "2022-03-18 15:11:41.369340 saving zone array freyberg6_template\\rch_recharge_21_tcn_inst0_constant.csv.zone for tpl file freyberg6_template\\rch_recharge_21_tcn_inst0_constant.csv.tpl\n"
     ]
    },
    {
     "name": "stdout",
     "output_type": "stream",
     "text": [
      "2022-03-18 15:11:41.377204 finished: adding constant type m style parameters for file(s) ['freyberg6.rch_recharge_21.txt'] took: 0:00:00.019004\n",
      "2022-03-18 15:11:41.377204 starting: adding grid type m style parameters for file(s) ['freyberg6.rch_recharge_22.txt']\n",
      "2022-03-18 15:11:41.377204 starting: loading array freyberg6_template\\freyberg6.rch_recharge_22.txt\n",
      "2022-03-18 15:11:41.383188 finished: loading array freyberg6_template\\freyberg6.rch_recharge_22.txt took: 0:00:00.005984\n",
      "2022-03-18 15:11:41.383188 loaded array 'freyberg_mf6\\freyberg6.rch_recharge_22.txt' of shape (40, 20)\n",
      "2022-03-18 15:11:41.385127 starting: writing array-style template file 'freyberg6_template\\rch_recharge_22_gr_inst0_grid.csv.tpl'\n",
      "2022-03-18 15:11:41.385127 starting: writing template file freyberg6_template\\rch_recharge_22_gr_inst0_grid.csv.tpl for ['rch_recharge_22_gr_inst:0']\n",
      "2022-03-18 15:11:41.399192 finished: writing template file freyberg6_template\\rch_recharge_22_gr_inst0_grid.csv.tpl for ['rch_recharge_22_gr_inst:0'] took: 0:00:00.014065\n",
      "2022-03-18 15:11:41.399192 starting: writing array-based template file 'freyberg6_template\\rch_recharge_22_gr_inst0_grid.csv.tpl'\n",
      "2022-03-18 15:11:41.399192 saving zone array freyberg6_template\\rch_recharge_22_gr_inst0_grid.csv.zone for tpl file freyberg6_template\\rch_recharge_22_gr_inst0_grid.csv.tpl\n",
      "2022-03-18 15:11:41.407191 finished: adding grid type m style parameters for file(s) ['freyberg6.rch_recharge_22.txt'] took: 0:00:00.029987\n",
      "2022-03-18 15:11:41.407191 starting: adding pilotpoints type m style parameters for file(s) ['freyberg6.rch_recharge_22.txt']\n",
      "2022-03-18 15:11:41.407191 starting: loading array freyberg6_template\\freyberg6.rch_recharge_22.txt\n",
      "2022-03-18 15:11:41.409132 finished: loading array freyberg6_template\\freyberg6.rch_recharge_22.txt took: 0:00:00.001941\n",
      "2022-03-18 15:11:41.409132 loaded array 'freyberg_mf6\\freyberg6.rch_recharge_22.txt' of shape (40, 20)\n"
     ]
    },
    {
     "name": "stdout",
     "output_type": "stream",
     "text": [
      "2022-03-18 15:11:41.411162 starting: writing array-style template file 'freyberg6_template\\rch_recharge_22_pp_inst0_pilotpoints.csv.tpl'\n",
      "2022-03-18 15:11:41.411162 starting: setting up pilot point parameters\n",
      "2022-03-18 15:11:41.411162 No spatial reference (containing cell spacing) passed.\n",
      "2022-03-18 15:11:41.411162 OK - using spatial reference in parent object.\n",
      "2022-03-18 15:11:41.479943 32 pilot point parameters created\n",
      "2022-03-18 15:11:41.480941 pilot point 'pargp':rch_recharge_22_pp\n",
      "2022-03-18 15:11:41.480941 finished: setting up pilot point parameters took: 0:00:00.069779\n",
      "2022-03-18 15:11:41.487923 starting: writing array-based template file 'freyberg6_template\\rch_recharge_22_pp_inst0pp.dat.tpl'\n",
      "2022-03-18 15:11:41.487923 saving zone array freyberg6_template\\rch_recharge_22_pp_inst0pp.dat.zone for tpl file freyberg6_template\\rch_recharge_22_pp_inst0pp.dat.tpl\n",
      "2022-03-18 15:11:41.493958 finished: adding pilotpoints type m style parameters for file(s) ['freyberg6.rch_recharge_22.txt'] took: 0:00:00.086767\n",
      "2022-03-18 15:11:41.493958 starting: adding constant type m style parameters for file(s) ['freyberg6.rch_recharge_22.txt']\n",
      "2022-03-18 15:11:41.493958 starting: loading array freyberg6_template\\freyberg6.rch_recharge_22.txt\n",
      "2022-03-18 15:11:41.494954 finished: loading array freyberg6_template\\freyberg6.rch_recharge_22.txt took: 0:00:00.000996\n",
      "2022-03-18 15:11:41.495955 loaded array 'freyberg_mf6\\freyberg6.rch_recharge_22.txt' of shape (40, 20)\n",
      "2022-03-18 15:11:41.496898 starting: writing array-style template file 'freyberg6_template\\rch_recharge_22_cn_inst0_constant.csv.tpl'\n",
      "2022-03-18 15:11:41.496898 starting: writing template file freyberg6_template\\rch_recharge_22_cn_inst0_constant.csv.tpl for ['rch_recharge_22_cn_inst:0']\n",
      "2022-03-18 15:11:41.504876 finished: writing template file freyberg6_template\\rch_recharge_22_cn_inst0_constant.csv.tpl for ['rch_recharge_22_cn_inst:0'] took: 0:00:00.007978\n",
      "2022-03-18 15:11:41.504876 starting: writing array-based template file 'freyberg6_template\\rch_recharge_22_cn_inst0_constant.csv.tpl'\n",
      "2022-03-18 15:11:41.504876 saving zone array freyberg6_template\\rch_recharge_22_cn_inst0_constant.csv.zone for tpl file freyberg6_template\\rch_recharge_22_cn_inst0_constant.csv.tpl\n",
      "2022-03-18 15:11:41.511891 finished: adding constant type m style parameters for file(s) ['freyberg6.rch_recharge_22.txt'] took: 0:00:00.017933\n",
      "2022-03-18 15:11:41.511891 starting: adding constant type m style parameters for file(s) ['freyberg6.rch_recharge_22.txt']\n",
      "2022-03-18 15:11:41.511891 starting: loading array freyberg6_template\\freyberg6.rch_recharge_22.txt\n",
      "2022-03-18 15:11:41.512893 finished: loading array freyberg6_template\\freyberg6.rch_recharge_22.txt took: 0:00:00.001002\n",
      "2022-03-18 15:11:41.512893 loaded array 'freyberg_mf6\\freyberg6.rch_recharge_22.txt' of shape (40, 20)\n",
      "2022-03-18 15:11:41.514884 starting: writing array-style template file 'freyberg6_template\\rch_recharge_22_tcn_inst0_constant.csv.tpl'\n",
      "2022-03-18 15:11:41.515847 starting: writing template file freyberg6_template\\rch_recharge_22_tcn_inst0_constant.csv.tpl for ['rch_recharge_22_tcn_inst:0']\n",
      "2022-03-18 15:11:41.522863 finished: writing template file freyberg6_template\\rch_recharge_22_tcn_inst0_constant.csv.tpl for ['rch_recharge_22_tcn_inst:0'] took: 0:00:00.007016\n",
      "2022-03-18 15:11:41.522863 starting: writing array-based template file 'freyberg6_template\\rch_recharge_22_tcn_inst0_constant.csv.tpl'\n",
      "2022-03-18 15:11:41.523825 saving zone array freyberg6_template\\rch_recharge_22_tcn_inst0_constant.csv.zone for tpl file freyberg6_template\\rch_recharge_22_tcn_inst0_constant.csv.tpl\n",
      "2022-03-18 15:11:41.530806 finished: adding constant type m style parameters for file(s) ['freyberg6.rch_recharge_22.txt'] took: 0:00:00.018915\n",
      "2022-03-18 15:11:41.531803 starting: adding grid type m style parameters for file(s) ['freyberg6.rch_recharge_23.txt']\n",
      "2022-03-18 15:11:41.531803 starting: loading array freyberg6_template\\freyberg6.rch_recharge_23.txt\n",
      "2022-03-18 15:11:41.536792 finished: loading array freyberg6_template\\freyberg6.rch_recharge_23.txt took: 0:00:00.004989\n",
      "2022-03-18 15:11:41.536792 loaded array 'freyberg_mf6\\freyberg6.rch_recharge_23.txt' of shape (40, 20)\n",
      "2022-03-18 15:11:41.539783 starting: writing array-style template file 'freyberg6_template\\rch_recharge_23_gr_inst0_grid.csv.tpl'\n",
      "2022-03-18 15:11:41.539783 starting: writing template file freyberg6_template\\rch_recharge_23_gr_inst0_grid.csv.tpl for ['rch_recharge_23_gr_inst:0']\n",
      "2022-03-18 15:11:41.550807 finished: writing template file freyberg6_template\\rch_recharge_23_gr_inst0_grid.csv.tpl for ['rch_recharge_23_gr_inst:0'] took: 0:00:00.011024\n",
      "2022-03-18 15:11:41.551772 starting: writing array-based template file 'freyberg6_template\\rch_recharge_23_gr_inst0_grid.csv.tpl'\n"
     ]
    },
    {
     "name": "stdout",
     "output_type": "stream",
     "text": [
      "2022-03-18 15:11:41.551772 saving zone array freyberg6_template\\rch_recharge_23_gr_inst0_grid.csv.zone for tpl file freyberg6_template\\rch_recharge_23_gr_inst0_grid.csv.tpl\n",
      "2022-03-18 15:11:41.559781 finished: adding grid type m style parameters for file(s) ['freyberg6.rch_recharge_23.txt'] took: 0:00:00.027978\n",
      "2022-03-18 15:11:41.559781 starting: adding pilotpoints type m style parameters for file(s) ['freyberg6.rch_recharge_23.txt']\n",
      "2022-03-18 15:11:41.559781 starting: loading array freyberg6_template\\freyberg6.rch_recharge_23.txt\n",
      "2022-03-18 15:11:41.561780 finished: loading array freyberg6_template\\freyberg6.rch_recharge_23.txt took: 0:00:00.001999\n",
      "2022-03-18 15:11:41.561780 loaded array 'freyberg_mf6\\freyberg6.rch_recharge_23.txt' of shape (40, 20)\n",
      "2022-03-18 15:11:41.563777 starting: writing array-style template file 'freyberg6_template\\rch_recharge_23_pp_inst0_pilotpoints.csv.tpl'\n",
      "2022-03-18 15:11:41.563777 starting: setting up pilot point parameters\n",
      "2022-03-18 15:11:41.563777 No spatial reference (containing cell spacing) passed.\n",
      "2022-03-18 15:11:41.563777 OK - using spatial reference in parent object.\n"
     ]
    },
    {
     "name": "stdout",
     "output_type": "stream",
     "text": [
      "2022-03-18 15:11:41.631589 32 pilot point parameters created\n",
      "2022-03-18 15:11:41.631589 pilot point 'pargp':rch_recharge_23_pp\n",
      "2022-03-18 15:11:41.631589 finished: setting up pilot point parameters took: 0:00:00.067812\n",
      "2022-03-18 15:11:41.638553 starting: writing array-based template file 'freyberg6_template\\rch_recharge_23_pp_inst0pp.dat.tpl'\n",
      "2022-03-18 15:11:41.638553 saving zone array freyberg6_template\\rch_recharge_23_pp_inst0pp.dat.zone for tpl file freyberg6_template\\rch_recharge_23_pp_inst0pp.dat.tpl\n",
      "2022-03-18 15:11:41.643557 finished: adding pilotpoints type m style parameters for file(s) ['freyberg6.rch_recharge_23.txt'] took: 0:00:00.083776\n",
      "2022-03-18 15:11:41.644565 starting: adding constant type m style parameters for file(s) ['freyberg6.rch_recharge_23.txt']\n",
      "2022-03-18 15:11:41.644565 starting: loading array freyberg6_template\\freyberg6.rch_recharge_23.txt\n",
      "2022-03-18 15:11:41.645544 finished: loading array freyberg6_template\\freyberg6.rch_recharge_23.txt took: 0:00:00.000979\n",
      "2022-03-18 15:11:41.645544 loaded array 'freyberg_mf6\\freyberg6.rch_recharge_23.txt' of shape (40, 20)\n",
      "2022-03-18 15:11:41.647494 starting: writing array-style template file 'freyberg6_template\\rch_recharge_23_cn_inst0_constant.csv.tpl'\n",
      "2022-03-18 15:11:41.647494 starting: writing template file freyberg6_template\\rch_recharge_23_cn_inst0_constant.csv.tpl for ['rch_recharge_23_cn_inst:0']\n",
      "2022-03-18 15:11:41.655475 finished: writing template file freyberg6_template\\rch_recharge_23_cn_inst0_constant.csv.tpl for ['rch_recharge_23_cn_inst:0'] took: 0:00:00.007981\n",
      "2022-03-18 15:11:41.655475 starting: writing array-based template file 'freyberg6_template\\rch_recharge_23_cn_inst0_constant.csv.tpl'\n",
      "2022-03-18 15:11:41.655475 saving zone array freyberg6_template\\rch_recharge_23_cn_inst0_constant.csv.zone for tpl file freyberg6_template\\rch_recharge_23_cn_inst0_constant.csv.tpl\n",
      "2022-03-18 15:11:41.661508 finished: adding constant type m style parameters for file(s) ['freyberg6.rch_recharge_23.txt'] took: 0:00:00.016943\n",
      "2022-03-18 15:11:41.661508 starting: adding constant type m style parameters for file(s) ['freyberg6.rch_recharge_23.txt']\n",
      "2022-03-18 15:11:41.661508 starting: loading array freyberg6_template\\freyberg6.rch_recharge_23.txt\n",
      "2022-03-18 15:11:41.663508 finished: loading array freyberg6_template\\freyberg6.rch_recharge_23.txt took: 0:00:00.002000\n",
      "2022-03-18 15:11:41.663508 loaded array 'freyberg_mf6\\freyberg6.rch_recharge_23.txt' of shape (40, 20)\n",
      "2022-03-18 15:11:41.665497 starting: writing array-style template file 'freyberg6_template\\rch_recharge_23_tcn_inst0_constant.csv.tpl'\n",
      "2022-03-18 15:11:41.665497 starting: writing template file freyberg6_template\\rch_recharge_23_tcn_inst0_constant.csv.tpl for ['rch_recharge_23_tcn_inst:0']\n",
      "2022-03-18 15:11:41.672428 finished: writing template file freyberg6_template\\rch_recharge_23_tcn_inst0_constant.csv.tpl for ['rch_recharge_23_tcn_inst:0'] took: 0:00:00.006931\n",
      "2022-03-18 15:11:41.672428 starting: writing array-based template file 'freyberg6_template\\rch_recharge_23_tcn_inst0_constant.csv.tpl'\n",
      "2022-03-18 15:11:41.673427 saving zone array freyberg6_template\\rch_recharge_23_tcn_inst0_constant.csv.zone for tpl file freyberg6_template\\rch_recharge_23_tcn_inst0_constant.csv.tpl\n",
      "2022-03-18 15:11:41.680457 finished: adding constant type m style parameters for file(s) ['freyberg6.rch_recharge_23.txt'] took: 0:00:00.018949\n",
      "2022-03-18 15:11:41.680457 starting: adding grid type m style parameters for file(s) ['freyberg6.rch_recharge_24.txt']\n",
      "2022-03-18 15:11:41.680457 starting: loading array freyberg6_template\\freyberg6.rch_recharge_24.txt\n",
      "2022-03-18 15:11:41.686391 finished: loading array freyberg6_template\\freyberg6.rch_recharge_24.txt took: 0:00:00.005934\n",
      "2022-03-18 15:11:41.686391 loaded array 'freyberg_mf6\\freyberg6.rch_recharge_24.txt' of shape (40, 20)\n",
      "2022-03-18 15:11:41.688436 starting: writing array-style template file 'freyberg6_template\\rch_recharge_24_gr_inst0_grid.csv.tpl'\n",
      "2022-03-18 15:11:41.689383 starting: writing template file freyberg6_template\\rch_recharge_24_gr_inst0_grid.csv.tpl for ['rch_recharge_24_gr_inst:0']\n",
      "2022-03-18 15:11:41.701351 finished: writing template file freyberg6_template\\rch_recharge_24_gr_inst0_grid.csv.tpl for ['rch_recharge_24_gr_inst:0'] took: 0:00:00.011968\n",
      "2022-03-18 15:11:41.701351 starting: writing array-based template file 'freyberg6_template\\rch_recharge_24_gr_inst0_grid.csv.tpl'\n",
      "2022-03-18 15:11:41.702643 saving zone array freyberg6_template\\rch_recharge_24_gr_inst0_grid.csv.zone for tpl file freyberg6_template\\rch_recharge_24_gr_inst0_grid.csv.tpl\n",
      "2022-03-18 15:11:41.709330 finished: adding grid type m style parameters for file(s) ['freyberg6.rch_recharge_24.txt'] took: 0:00:00.028873\n",
      "2022-03-18 15:11:41.709330 starting: adding pilotpoints type m style parameters for file(s) ['freyberg6.rch_recharge_24.txt']\n",
      "2022-03-18 15:11:41.709330 starting: loading array freyberg6_template\\freyberg6.rch_recharge_24.txt\n",
      "2022-03-18 15:11:41.711375 finished: loading array freyberg6_template\\freyberg6.rch_recharge_24.txt took: 0:00:00.002045\n",
      "2022-03-18 15:11:41.711375 loaded array 'freyberg_mf6\\freyberg6.rch_recharge_24.txt' of shape (40, 20)\n",
      "2022-03-18 15:11:41.713370 starting: writing array-style template file 'freyberg6_template\\rch_recharge_24_pp_inst0_pilotpoints.csv.tpl'\n",
      "2022-03-18 15:11:41.713370 starting: setting up pilot point parameters\n",
      "2022-03-18 15:11:41.713370 No spatial reference (containing cell spacing) passed.\n",
      "2022-03-18 15:11:41.713370 OK - using spatial reference in parent object.\n"
     ]
    },
    {
     "name": "stdout",
     "output_type": "stream",
     "text": [
      "2022-03-18 15:11:41.784130 32 pilot point parameters created\n",
      "2022-03-18 15:11:41.785178 pilot point 'pargp':rch_recharge_24_pp\n",
      "2022-03-18 15:11:41.785178 finished: setting up pilot point parameters took: 0:00:00.071808\n",
      "2022-03-18 15:11:41.792108 starting: writing array-based template file 'freyberg6_template\\rch_recharge_24_pp_inst0pp.dat.tpl'\n",
      "2022-03-18 15:11:41.792108 saving zone array freyberg6_template\\rch_recharge_24_pp_inst0pp.dat.zone for tpl file freyberg6_template\\rch_recharge_24_pp_inst0pp.dat.tpl\n",
      "2022-03-18 15:11:41.797095 finished: adding pilotpoints type m style parameters for file(s) ['freyberg6.rch_recharge_24.txt'] took: 0:00:00.087765\n",
      "2022-03-18 15:11:41.798144 starting: adding constant type m style parameters for file(s) ['freyberg6.rch_recharge_24.txt']\n",
      "2022-03-18 15:11:41.798144 starting: loading array freyberg6_template\\freyberg6.rch_recharge_24.txt\n",
      "2022-03-18 15:11:41.799090 finished: loading array freyberg6_template\\freyberg6.rch_recharge_24.txt took: 0:00:00.000946\n",
      "2022-03-18 15:11:41.799090 loaded array 'freyberg_mf6\\freyberg6.rch_recharge_24.txt' of shape (40, 20)\n",
      "2022-03-18 15:11:41.801084 starting: writing array-style template file 'freyberg6_template\\rch_recharge_24_cn_inst0_constant.csv.tpl'\n",
      "2022-03-18 15:11:41.801084 starting: writing template file freyberg6_template\\rch_recharge_24_cn_inst0_constant.csv.tpl for ['rch_recharge_24_cn_inst:0']\n",
      "2022-03-18 15:11:41.809119 finished: writing template file freyberg6_template\\rch_recharge_24_cn_inst0_constant.csv.tpl for ['rch_recharge_24_cn_inst:0'] took: 0:00:00.008035\n",
      "2022-03-18 15:11:41.809119 starting: writing array-based template file 'freyberg6_template\\rch_recharge_24_cn_inst0_constant.csv.tpl'\n",
      "2022-03-18 15:11:41.809119 saving zone array freyberg6_template\\rch_recharge_24_cn_inst0_constant.csv.zone for tpl file freyberg6_template\\rch_recharge_24_cn_inst0_constant.csv.tpl\n",
      "2022-03-18 15:11:41.815080 finished: adding constant type m style parameters for file(s) ['freyberg6.rch_recharge_24.txt'] took: 0:00:00.016936\n",
      "2022-03-18 15:11:41.815080 starting: adding constant type m style parameters for file(s) ['freyberg6.rch_recharge_24.txt']\n",
      "2022-03-18 15:11:41.816075 starting: loading array freyberg6_template\\freyberg6.rch_recharge_24.txt\n"
     ]
    },
    {
     "name": "stdout",
     "output_type": "stream",
     "text": [
      "2022-03-18 15:11:41.817081 finished: loading array freyberg6_template\\freyberg6.rch_recharge_24.txt took: 0:00:00.001006\n",
      "2022-03-18 15:11:41.817081 loaded array 'freyberg_mf6\\freyberg6.rch_recharge_24.txt' of shape (40, 20)\n",
      "2022-03-18 15:11:41.820035 starting: writing array-style template file 'freyberg6_template\\rch_recharge_24_tcn_inst0_constant.csv.tpl'\n",
      "2022-03-18 15:11:41.820035 starting: writing template file freyberg6_template\\rch_recharge_24_tcn_inst0_constant.csv.tpl for ['rch_recharge_24_tcn_inst:0']\n",
      "2022-03-18 15:11:41.827066 finished: writing template file freyberg6_template\\rch_recharge_24_tcn_inst0_constant.csv.tpl for ['rch_recharge_24_tcn_inst:0'] took: 0:00:00.007031\n",
      "2022-03-18 15:11:41.827066 starting: writing array-based template file 'freyberg6_template\\rch_recharge_24_tcn_inst0_constant.csv.tpl'\n",
      "2022-03-18 15:11:41.828011 saving zone array freyberg6_template\\rch_recharge_24_tcn_inst0_constant.csv.zone for tpl file freyberg6_template\\rch_recharge_24_tcn_inst0_constant.csv.tpl\n",
      "2022-03-18 15:11:41.836005 finished: adding constant type m style parameters for file(s) ['freyberg6.rch_recharge_24.txt'] took: 0:00:00.020925\n",
      "2022-03-18 15:11:41.836005 starting: adding grid type m style parameters for file(s) ['freyberg6.rch_recharge_25.txt']\n",
      "2022-03-18 15:11:41.836005 starting: loading array freyberg6_template\\freyberg6.rch_recharge_25.txt\n",
      "2022-03-18 15:11:41.841010 finished: loading array freyberg6_template\\freyberg6.rch_recharge_25.txt took: 0:00:00.005005\n",
      "2022-03-18 15:11:41.842026 loaded array 'freyberg_mf6\\freyberg6.rch_recharge_25.txt' of shape (40, 20)\n",
      "2022-03-18 15:11:41.843970 starting: writing array-style template file 'freyberg6_template\\rch_recharge_25_gr_inst0_grid.csv.tpl'\n",
      "2022-03-18 15:11:41.843970 starting: writing template file freyberg6_template\\rch_recharge_25_gr_inst0_grid.csv.tpl for ['rch_recharge_25_gr_inst:0']\n",
      "2022-03-18 15:11:41.855937 finished: writing template file freyberg6_template\\rch_recharge_25_gr_inst0_grid.csv.tpl for ['rch_recharge_25_gr_inst:0'] took: 0:00:00.011967\n",
      "2022-03-18 15:11:41.855937 starting: writing array-based template file 'freyberg6_template\\rch_recharge_25_gr_inst0_grid.csv.tpl'\n",
      "2022-03-18 15:11:41.855937 saving zone array freyberg6_template\\rch_recharge_25_gr_inst0_grid.csv.zone for tpl file freyberg6_template\\rch_recharge_25_gr_inst0_grid.csv.tpl\n",
      "2022-03-18 15:11:41.863967 finished: adding grid type m style parameters for file(s) ['freyberg6.rch_recharge_25.txt'] took: 0:00:00.027962\n",
      "2022-03-18 15:11:41.863967 starting: adding pilotpoints type m style parameters for file(s) ['freyberg6.rch_recharge_25.txt']\n",
      "2022-03-18 15:11:41.863967 starting: loading array freyberg6_template\\freyberg6.rch_recharge_25.txt\n",
      "2022-03-18 15:11:41.865910 finished: loading array freyberg6_template\\freyberg6.rch_recharge_25.txt took: 0:00:00.001943\n",
      "2022-03-18 15:11:41.865910 loaded array 'freyberg_mf6\\freyberg6.rch_recharge_25.txt' of shape (40, 20)\n",
      "2022-03-18 15:11:41.867941 starting: writing array-style template file 'freyberg6_template\\rch_recharge_25_pp_inst0_pilotpoints.csv.tpl'\n",
      "2022-03-18 15:11:41.867941 starting: setting up pilot point parameters\n",
      "2022-03-18 15:11:41.867941 No spatial reference (containing cell spacing) passed.\n",
      "2022-03-18 15:11:41.867941 OK - using spatial reference in parent object.\n",
      "2022-03-18 15:11:41.939748 32 pilot point parameters created\n",
      "2022-03-18 15:11:41.939748 pilot point 'pargp':rch_recharge_25_pp\n",
      "2022-03-18 15:11:41.939748 finished: setting up pilot point parameters took: 0:00:00.071807\n",
      "2022-03-18 15:11:41.946756 starting: writing array-based template file 'freyberg6_template\\rch_recharge_25_pp_inst0pp.dat.tpl'\n",
      "2022-03-18 15:11:41.947744 saving zone array freyberg6_template\\rch_recharge_25_pp_inst0pp.dat.zone for tpl file freyberg6_template\\rch_recharge_25_pp_inst0pp.dat.tpl\n",
      "2022-03-18 15:11:41.952678 finished: adding pilotpoints type m style parameters for file(s) ['freyberg6.rch_recharge_25.txt'] took: 0:00:00.088711\n",
      "2022-03-18 15:11:41.952678 starting: adding constant type m style parameters for file(s) ['freyberg6.rch_recharge_25.txt']\n",
      "2022-03-18 15:11:41.953678 starting: loading array freyberg6_template\\freyberg6.rch_recharge_25.txt\n",
      "2022-03-18 15:11:41.954708 finished: loading array freyberg6_template\\freyberg6.rch_recharge_25.txt took: 0:00:00.001030\n",
      "2022-03-18 15:11:41.954708 loaded array 'freyberg_mf6\\freyberg6.rch_recharge_25.txt' of shape (40, 20)\n",
      "2022-03-18 15:11:41.956719 starting: writing array-style template file 'freyberg6_template\\rch_recharge_25_cn_inst0_constant.csv.tpl'\n",
      "2022-03-18 15:11:41.956719 starting: writing template file freyberg6_template\\rch_recharge_25_cn_inst0_constant.csv.tpl for ['rch_recharge_25_cn_inst:0']\n",
      "2022-03-18 15:11:41.964647 finished: writing template file freyberg6_template\\rch_recharge_25_cn_inst0_constant.csv.tpl for ['rch_recharge_25_cn_inst:0'] took: 0:00:00.007928\n",
      "2022-03-18 15:11:41.964647 starting: writing array-based template file 'freyberg6_template\\rch_recharge_25_cn_inst0_constant.csv.tpl'\n",
      "2022-03-18 15:11:41.964647 saving zone array freyberg6_template\\rch_recharge_25_cn_inst0_constant.csv.zone for tpl file freyberg6_template\\rch_recharge_25_cn_inst0_constant.csv.tpl\n",
      "2022-03-18 15:11:41.971654 finished: adding constant type m style parameters for file(s) ['freyberg6.rch_recharge_25.txt'] took: 0:00:00.018976\n",
      "2022-03-18 15:11:41.971654 starting: adding constant type m style parameters for file(s) ['freyberg6.rch_recharge_25.txt']\n",
      "2022-03-18 15:11:41.971654 starting: loading array freyberg6_template\\freyberg6.rch_recharge_25.txt\n"
     ]
    },
    {
     "name": "stdout",
     "output_type": "stream",
     "text": [
      "2022-03-18 15:11:41.973642 finished: loading array freyberg6_template\\freyberg6.rch_recharge_25.txt took: 0:00:00.001988\n",
      "2022-03-18 15:11:41.973642 loaded array 'freyberg_mf6\\freyberg6.rch_recharge_25.txt' of shape (40, 20)\n",
      "2022-03-18 15:11:41.975660 starting: writing array-style template file 'freyberg6_template\\rch_recharge_25_tcn_inst0_constant.csv.tpl'\n",
      "2022-03-18 15:11:41.975660 starting: writing template file freyberg6_template\\rch_recharge_25_tcn_inst0_constant.csv.tpl for ['rch_recharge_25_tcn_inst:0']\n",
      "2022-03-18 15:11:41.982650 finished: writing template file freyberg6_template\\rch_recharge_25_tcn_inst0_constant.csv.tpl for ['rch_recharge_25_tcn_inst:0'] took: 0:00:00.006990\n",
      "2022-03-18 15:11:41.982650 starting: writing array-based template file 'freyberg6_template\\rch_recharge_25_tcn_inst0_constant.csv.tpl'\n",
      "2022-03-18 15:11:41.983597 saving zone array freyberg6_template\\rch_recharge_25_tcn_inst0_constant.csv.zone for tpl file freyberg6_template\\rch_recharge_25_tcn_inst0_constant.csv.tpl\n",
      "2022-03-18 15:11:41.990577 finished: adding constant type m style parameters for file(s) ['freyberg6.rch_recharge_25.txt'] took: 0:00:00.018923\n",
      "2022-03-18 15:11:41.991575 starting: adding grid type m style parameters for file(s) ['freyberg6.rch_recharge_3.txt']\n",
      "2022-03-18 15:11:41.991575 starting: loading array freyberg6_template\\freyberg6.rch_recharge_3.txt\n",
      "2022-03-18 15:11:41.996613 finished: loading array freyberg6_template\\freyberg6.rch_recharge_3.txt took: 0:00:00.005038\n",
      "2022-03-18 15:11:41.996613 loaded array 'freyberg_mf6\\freyberg6.rch_recharge_3.txt' of shape (40, 20)\n",
      "2022-03-18 15:11:41.998608 starting: writing array-style template file 'freyberg6_template\\rch_recharge_3_gr_inst0_grid.csv.tpl'\n",
      "2022-03-18 15:11:41.998608 starting: writing template file freyberg6_template\\rch_recharge_3_gr_inst0_grid.csv.tpl for ['rch_recharge_3_gr_inst:0']\n",
      "2022-03-18 15:11:42.011572 finished: writing template file freyberg6_template\\rch_recharge_3_gr_inst0_grid.csv.tpl for ['rch_recharge_3_gr_inst:0'] took: 0:00:00.012964\n",
      "2022-03-18 15:11:42.012522 starting: writing array-based template file 'freyberg6_template\\rch_recharge_3_gr_inst0_grid.csv.tpl'\n"
     ]
    },
    {
     "name": "stdout",
     "output_type": "stream",
     "text": [
      "2022-03-18 15:11:42.012522 saving zone array freyberg6_template\\rch_recharge_3_gr_inst0_grid.csv.zone for tpl file freyberg6_template\\rch_recharge_3_gr_inst0_grid.csv.tpl\n",
      "2022-03-18 15:11:42.020499 finished: adding grid type m style parameters for file(s) ['freyberg6.rch_recharge_3.txt'] took: 0:00:00.028924\n",
      "2022-03-18 15:11:42.020499 starting: adding pilotpoints type m style parameters for file(s) ['freyberg6.rch_recharge_3.txt']\n",
      "2022-03-18 15:11:42.020499 starting: loading array freyberg6_template\\freyberg6.rch_recharge_3.txt\n",
      "2022-03-18 15:11:42.021529 finished: loading array freyberg6_template\\freyberg6.rch_recharge_3.txt took: 0:00:00.001030\n",
      "2022-03-18 15:11:42.021529 loaded array 'freyberg_mf6\\freyberg6.rch_recharge_3.txt' of shape (40, 20)\n",
      "2022-03-18 15:11:42.023522 starting: writing array-style template file 'freyberg6_template\\rch_recharge_3_pp_inst0_pilotpoints.csv.tpl'\n",
      "2022-03-18 15:11:42.023522 starting: setting up pilot point parameters\n",
      "2022-03-18 15:11:42.024511 No spatial reference (containing cell spacing) passed.\n",
      "2022-03-18 15:11:42.024511 OK - using spatial reference in parent object.\n",
      "2022-03-18 15:11:42.092305 32 pilot point parameters created\n",
      "2022-03-18 15:11:42.093336 pilot point 'pargp':rch_recharge_3_pp\n",
      "2022-03-18 15:11:42.093336 finished: setting up pilot point parameters took: 0:00:00.069814\n",
      "2022-03-18 15:11:42.099287 starting: writing array-based template file 'freyberg6_template\\rch_recharge_3_pp_inst0pp.dat.tpl'\n",
      "2022-03-18 15:11:42.100284 saving zone array freyberg6_template\\rch_recharge_3_pp_inst0pp.dat.zone for tpl file freyberg6_template\\rch_recharge_3_pp_inst0pp.dat.tpl\n",
      "2022-03-18 15:11:42.105273 finished: adding pilotpoints type m style parameters for file(s) ['freyberg6.rch_recharge_3.txt'] took: 0:00:00.084774\n",
      "2022-03-18 15:11:42.105273 starting: adding constant type m style parameters for file(s) ['freyberg6.rch_recharge_3.txt']\n",
      "2022-03-18 15:11:42.106269 starting: loading array freyberg6_template\\freyberg6.rch_recharge_3.txt\n",
      "2022-03-18 15:11:42.107266 finished: loading array freyberg6_template\\freyberg6.rch_recharge_3.txt took: 0:00:00.000997\n",
      "2022-03-18 15:11:42.108298 loaded array 'freyberg_mf6\\freyberg6.rch_recharge_3.txt' of shape (40, 20)\n",
      "2022-03-18 15:11:42.110257 starting: writing array-style template file 'freyberg6_template\\rch_recharge_3_cn_inst0_constant.csv.tpl'\n",
      "2022-03-18 15:11:42.110257 starting: writing template file freyberg6_template\\rch_recharge_3_cn_inst0_constant.csv.tpl for ['rch_recharge_3_cn_inst:0']\n",
      "2022-03-18 15:11:42.117239 finished: writing template file freyberg6_template\\rch_recharge_3_cn_inst0_constant.csv.tpl for ['rch_recharge_3_cn_inst:0'] took: 0:00:00.006982\n",
      "2022-03-18 15:11:42.117239 starting: writing array-based template file 'freyberg6_template\\rch_recharge_3_cn_inst0_constant.csv.tpl'\n",
      "2022-03-18 15:11:42.117239 saving zone array freyberg6_template\\rch_recharge_3_cn_inst0_constant.csv.zone for tpl file freyberg6_template\\rch_recharge_3_cn_inst0_constant.csv.tpl\n",
      "2022-03-18 15:11:42.124273 finished: adding constant type m style parameters for file(s) ['freyberg6.rch_recharge_3.txt'] took: 0:00:00.019000\n",
      "2022-03-18 15:11:42.124273 starting: adding constant type m style parameters for file(s) ['freyberg6.rch_recharge_3.txt']\n",
      "2022-03-18 15:11:42.124273 starting: loading array freyberg6_template\\freyberg6.rch_recharge_3.txt\n",
      "2022-03-18 15:11:42.126243 finished: loading array freyberg6_template\\freyberg6.rch_recharge_3.txt took: 0:00:00.001970\n",
      "2022-03-18 15:11:42.126243 loaded array 'freyberg_mf6\\freyberg6.rch_recharge_3.txt' of shape (40, 20)\n",
      "2022-03-18 15:11:42.128265 starting: writing array-style template file 'freyberg6_template\\rch_recharge_3_tcn_inst0_constant.csv.tpl'\n",
      "2022-03-18 15:11:42.128265 starting: writing template file freyberg6_template\\rch_recharge_3_tcn_inst0_constant.csv.tpl for ['rch_recharge_3_tcn_inst:0']\n",
      "2022-03-18 15:11:42.135191 finished: writing template file freyberg6_template\\rch_recharge_3_tcn_inst0_constant.csv.tpl for ['rch_recharge_3_tcn_inst:0'] took: 0:00:00.006926\n",
      "2022-03-18 15:11:42.135191 starting: writing array-based template file 'freyberg6_template\\rch_recharge_3_tcn_inst0_constant.csv.tpl'\n",
      "2022-03-18 15:11:42.136187 saving zone array freyberg6_template\\rch_recharge_3_tcn_inst0_constant.csv.zone for tpl file freyberg6_template\\rch_recharge_3_tcn_inst0_constant.csv.tpl\n",
      "2022-03-18 15:11:42.143221 finished: adding constant type m style parameters for file(s) ['freyberg6.rch_recharge_3.txt'] took: 0:00:00.018948\n",
      "2022-03-18 15:11:42.144167 starting: adding grid type m style parameters for file(s) ['freyberg6.rch_recharge_4.txt']\n",
      "2022-03-18 15:11:42.144167 starting: loading array freyberg6_template\\freyberg6.rch_recharge_4.txt\n",
      "2022-03-18 15:11:42.149205 finished: loading array freyberg6_template\\freyberg6.rch_recharge_4.txt took: 0:00:00.005038\n",
      "2022-03-18 15:11:42.149205 loaded array 'freyberg_mf6\\freyberg6.rch_recharge_4.txt' of shape (40, 20)\n",
      "2022-03-18 15:11:42.151203 starting: writing array-style template file 'freyberg6_template\\rch_recharge_4_gr_inst0_grid.csv.tpl'\n",
      "2022-03-18 15:11:42.151203 starting: writing template file freyberg6_template\\rch_recharge_4_gr_inst0_grid.csv.tpl for ['rch_recharge_4_gr_inst:0']\n",
      "2022-03-18 15:11:42.164164 finished: writing template file freyberg6_template\\rch_recharge_4_gr_inst0_grid.csv.tpl for ['rch_recharge_4_gr_inst:0'] took: 0:00:00.012961\n",
      "2022-03-18 15:11:42.164164 starting: writing array-based template file 'freyberg6_template\\rch_recharge_4_gr_inst0_grid.csv.tpl'\n",
      "2022-03-18 15:11:42.164164 saving zone array freyberg6_template\\rch_recharge_4_gr_inst0_grid.csv.zone for tpl file freyberg6_template\\rch_recharge_4_gr_inst0_grid.csv.tpl\n"
     ]
    },
    {
     "name": "stdout",
     "output_type": "stream",
     "text": [
      "2022-03-18 15:11:42.172130 finished: adding grid type m style parameters for file(s) ['freyberg6.rch_recharge_4.txt'] took: 0:00:00.027963\n",
      "2022-03-18 15:11:42.172130 starting: adding pilotpoints type m style parameters for file(s) ['freyberg6.rch_recharge_4.txt']\n",
      "2022-03-18 15:11:42.172130 starting: loading array freyberg6_template\\freyberg6.rch_recharge_4.txt\n",
      "2022-03-18 15:11:42.174087 finished: loading array freyberg6_template\\freyberg6.rch_recharge_4.txt took: 0:00:00.001957\n",
      "2022-03-18 15:11:42.174087 loaded array 'freyberg_mf6\\freyberg6.rch_recharge_4.txt' of shape (40, 20)\n",
      "2022-03-18 15:11:42.176082 starting: writing array-style template file 'freyberg6_template\\rch_recharge_4_pp_inst0_pilotpoints.csv.tpl'\n",
      "2022-03-18 15:11:42.176082 starting: setting up pilot point parameters\n",
      "2022-03-18 15:11:42.176082 No spatial reference (containing cell spacing) passed.\n",
      "2022-03-18 15:11:42.176082 OK - using spatial reference in parent object.\n"
     ]
    },
    {
     "name": "stdout",
     "output_type": "stream",
     "text": [
      "2022-03-18 15:11:42.246947 32 pilot point parameters created\n",
      "2022-03-18 15:11:42.246947 pilot point 'pargp':rch_recharge_4_pp\n",
      "2022-03-18 15:11:42.246947 finished: setting up pilot point parameters took: 0:00:00.070865\n",
      "2022-03-18 15:11:42.253875 starting: writing array-based template file 'freyberg6_template\\rch_recharge_4_pp_inst0pp.dat.tpl'\n",
      "2022-03-18 15:11:42.254928 saving zone array freyberg6_template\\rch_recharge_4_pp_inst0pp.dat.zone for tpl file freyberg6_template\\rch_recharge_4_pp_inst0pp.dat.tpl\n",
      "2022-03-18 15:11:42.259891 finished: adding pilotpoints type m style parameters for file(s) ['freyberg6.rch_recharge_4.txt'] took: 0:00:00.087761\n",
      "2022-03-18 15:11:42.259891 starting: adding constant type m style parameters for file(s) ['freyberg6.rch_recharge_4.txt']\n",
      "2022-03-18 15:11:42.259891 starting: loading array freyberg6_template\\freyberg6.rch_recharge_4.txt\n",
      "2022-03-18 15:11:42.261852 finished: loading array freyberg6_template\\freyberg6.rch_recharge_4.txt took: 0:00:00.001961\n",
      "2022-03-18 15:11:42.261852 loaded array 'freyberg_mf6\\freyberg6.rch_recharge_4.txt' of shape (40, 20)\n",
      "2022-03-18 15:11:42.263846 starting: writing array-style template file 'freyberg6_template\\rch_recharge_4_cn_inst0_constant.csv.tpl'\n",
      "2022-03-18 15:11:42.263846 starting: writing template file freyberg6_template\\rch_recharge_4_cn_inst0_constant.csv.tpl for ['rch_recharge_4_cn_inst:0']\n",
      "2022-03-18 15:11:42.270830 finished: writing template file freyberg6_template\\rch_recharge_4_cn_inst0_constant.csv.tpl for ['rch_recharge_4_cn_inst:0'] took: 0:00:00.006984\n",
      "2022-03-18 15:11:42.270830 starting: writing array-based template file 'freyberg6_template\\rch_recharge_4_cn_inst0_constant.csv.tpl'\n",
      "2022-03-18 15:11:42.270830 saving zone array freyberg6_template\\rch_recharge_4_cn_inst0_constant.csv.zone for tpl file freyberg6_template\\rch_recharge_4_cn_inst0_constant.csv.tpl\n",
      "2022-03-18 15:11:42.276863 finished: adding constant type m style parameters for file(s) ['freyberg6.rch_recharge_4.txt'] took: 0:00:00.016972\n",
      "2022-03-18 15:11:42.277873 starting: adding constant type m style parameters for file(s) ['freyberg6.rch_recharge_4.txt']\n",
      "2022-03-18 15:11:42.277873 starting: loading array freyberg6_template\\freyberg6.rch_recharge_4.txt\n",
      "2022-03-18 15:11:42.278857 finished: loading array freyberg6_template\\freyberg6.rch_recharge_4.txt took: 0:00:00.000984\n",
      "2022-03-18 15:11:42.278857 loaded array 'freyberg_mf6\\freyberg6.rch_recharge_4.txt' of shape (40, 20)\n",
      "2022-03-18 15:11:42.280854 starting: writing array-style template file 'freyberg6_template\\rch_recharge_4_tcn_inst0_constant.csv.tpl'\n",
      "2022-03-18 15:11:42.280854 starting: writing template file freyberg6_template\\rch_recharge_4_tcn_inst0_constant.csv.tpl for ['rch_recharge_4_tcn_inst:0']\n",
      "2022-03-18 15:11:42.288780 finished: writing template file freyberg6_template\\rch_recharge_4_tcn_inst0_constant.csv.tpl for ['rch_recharge_4_tcn_inst:0'] took: 0:00:00.007926\n",
      "2022-03-18 15:11:42.288780 starting: writing array-based template file 'freyberg6_template\\rch_recharge_4_tcn_inst0_constant.csv.tpl'\n",
      "2022-03-18 15:11:42.289777 saving zone array freyberg6_template\\rch_recharge_4_tcn_inst0_constant.csv.zone for tpl file freyberg6_template\\rch_recharge_4_tcn_inst0_constant.csv.tpl\n",
      "2022-03-18 15:11:42.296812 finished: adding constant type m style parameters for file(s) ['freyberg6.rch_recharge_4.txt'] took: 0:00:00.018939\n",
      "2022-03-18 15:11:42.297812 starting: adding grid type m style parameters for file(s) ['freyberg6.rch_recharge_5.txt']\n",
      "2022-03-18 15:11:42.297812 starting: loading array freyberg6_template\\freyberg6.rch_recharge_5.txt\n",
      "2022-03-18 15:11:42.303741 finished: loading array freyberg6_template\\freyberg6.rch_recharge_5.txt took: 0:00:00.005929\n",
      "2022-03-18 15:11:42.303741 loaded array 'freyberg_mf6\\freyberg6.rch_recharge_5.txt' of shape (40, 20)\n",
      "2022-03-18 15:11:42.305736 starting: writing array-style template file 'freyberg6_template\\rch_recharge_5_gr_inst0_grid.csv.tpl'\n",
      "2022-03-18 15:11:42.305736 starting: writing template file freyberg6_template\\rch_recharge_5_gr_inst0_grid.csv.tpl for ['rch_recharge_5_gr_inst:0']\n",
      "2022-03-18 15:11:42.317703 finished: writing template file freyberg6_template\\rch_recharge_5_gr_inst0_grid.csv.tpl for ['rch_recharge_5_gr_inst:0'] took: 0:00:00.011967\n",
      "2022-03-18 15:11:42.317703 starting: writing array-based template file 'freyberg6_template\\rch_recharge_5_gr_inst0_grid.csv.tpl'\n",
      "2022-03-18 15:11:42.318700 saving zone array freyberg6_template\\rch_recharge_5_gr_inst0_grid.csv.zone for tpl file freyberg6_template\\rch_recharge_5_gr_inst0_grid.csv.tpl\n",
      "2022-03-18 15:11:42.325733 finished: adding grid type m style parameters for file(s) ['freyberg6.rch_recharge_5.txt'] took: 0:00:00.027921\n",
      "2022-03-18 15:11:42.325733 starting: adding pilotpoints type m style parameters for file(s) ['freyberg6.rch_recharge_5.txt']\n",
      "2022-03-18 15:11:42.325733 starting: loading array freyberg6_template\\freyberg6.rch_recharge_5.txt\n",
      "2022-03-18 15:11:42.327726 finished: loading array freyberg6_template\\freyberg6.rch_recharge_5.txt took: 0:00:00.001993\n",
      "2022-03-18 15:11:42.327726 loaded array 'freyberg_mf6\\freyberg6.rch_recharge_5.txt' of shape (40, 20)\n",
      "2022-03-18 15:11:42.329721 starting: writing array-style template file 'freyberg6_template\\rch_recharge_5_pp_inst0_pilotpoints.csv.tpl'\n",
      "2022-03-18 15:11:42.329721 starting: setting up pilot point parameters\n",
      "2022-03-18 15:11:42.329721 No spatial reference (containing cell spacing) passed.\n",
      "2022-03-18 15:11:42.329721 OK - using spatial reference in parent object.\n"
     ]
    },
    {
     "name": "stdout",
     "output_type": "stream",
     "text": [
      "2022-03-18 15:11:42.399483 32 pilot point parameters created\n",
      "2022-03-18 15:11:42.400535 pilot point 'pargp':rch_recharge_5_pp\n",
      "2022-03-18 15:11:42.400535 finished: setting up pilot point parameters took: 0:00:00.070814\n",
      "2022-03-18 15:11:42.407518 starting: writing array-based template file 'freyberg6_template\\rch_recharge_5_pp_inst0pp.dat.tpl'\n",
      "2022-03-18 15:11:42.407518 saving zone array freyberg6_template\\rch_recharge_5_pp_inst0pp.dat.zone for tpl file freyberg6_template\\rch_recharge_5_pp_inst0pp.dat.tpl\n",
      "2022-03-18 15:11:42.412505 finished: adding pilotpoints type m style parameters for file(s) ['freyberg6.rch_recharge_5.txt'] took: 0:00:00.086772\n",
      "2022-03-18 15:11:42.412505 starting: adding constant type m style parameters for file(s) ['freyberg6.rch_recharge_5.txt']\n",
      "2022-03-18 15:11:42.412505 starting: loading array freyberg6_template\\freyberg6.rch_recharge_5.txt\n",
      "2022-03-18 15:11:42.414494 finished: loading array freyberg6_template\\freyberg6.rch_recharge_5.txt took: 0:00:00.001989\n",
      "2022-03-18 15:11:42.414494 loaded array 'freyberg_mf6\\freyberg6.rch_recharge_5.txt' of shape (40, 20)\n",
      "2022-03-18 15:11:42.416489 starting: writing array-style template file 'freyberg6_template\\rch_recharge_5_cn_inst0_constant.csv.tpl'\n",
      "2022-03-18 15:11:42.416489 starting: writing template file freyberg6_template\\rch_recharge_5_cn_inst0_constant.csv.tpl for ['rch_recharge_5_cn_inst:0']\n",
      "2022-03-18 15:11:42.424468 finished: writing template file freyberg6_template\\rch_recharge_5_cn_inst0_constant.csv.tpl for ['rch_recharge_5_cn_inst:0'] took: 0:00:00.007979\n",
      "2022-03-18 15:11:42.424468 starting: writing array-based template file 'freyberg6_template\\rch_recharge_5_cn_inst0_constant.csv.tpl'\n"
     ]
    },
    {
     "name": "stdout",
     "output_type": "stream",
     "text": [
      "2022-03-18 15:11:42.424468 saving zone array freyberg6_template\\rch_recharge_5_cn_inst0_constant.csv.zone for tpl file freyberg6_template\\rch_recharge_5_cn_inst0_constant.csv.tpl\n",
      "2022-03-18 15:11:42.431430 finished: adding constant type m style parameters for file(s) ['freyberg6.rch_recharge_5.txt'] took: 0:00:00.018925\n",
      "2022-03-18 15:11:42.431430 starting: adding constant type m style parameters for file(s) ['freyberg6.rch_recharge_5.txt']\n",
      "2022-03-18 15:11:42.431430 starting: loading array freyberg6_template\\freyberg6.rch_recharge_5.txt\n",
      "2022-03-18 15:11:42.432430 finished: loading array freyberg6_template\\freyberg6.rch_recharge_5.txt took: 0:00:00.001000\n",
      "2022-03-18 15:11:42.432430 loaded array 'freyberg_mf6\\freyberg6.rch_recharge_5.txt' of shape (40, 20)\n",
      "2022-03-18 15:11:42.434422 starting: writing array-style template file 'freyberg6_template\\rch_recharge_5_tcn_inst0_constant.csv.tpl'\n",
      "2022-03-18 15:11:42.434422 starting: writing template file freyberg6_template\\rch_recharge_5_tcn_inst0_constant.csv.tpl for ['rch_recharge_5_tcn_inst:0']\n",
      "2022-03-18 15:11:42.442420 finished: writing template file freyberg6_template\\rch_recharge_5_tcn_inst0_constant.csv.tpl for ['rch_recharge_5_tcn_inst:0'] took: 0:00:00.007998\n",
      "2022-03-18 15:11:42.442420 starting: writing array-based template file 'freyberg6_template\\rch_recharge_5_tcn_inst0_constant.csv.tpl'\n",
      "2022-03-18 15:11:42.443401 saving zone array freyberg6_template\\rch_recharge_5_tcn_inst0_constant.csv.zone for tpl file freyberg6_template\\rch_recharge_5_tcn_inst0_constant.csv.tpl\n",
      "2022-03-18 15:11:42.450348 finished: adding constant type m style parameters for file(s) ['freyberg6.rch_recharge_5.txt'] took: 0:00:00.018918\n",
      "2022-03-18 15:11:42.450348 starting: adding grid type m style parameters for file(s) ['freyberg6.rch_recharge_6.txt']\n",
      "2022-03-18 15:11:42.450348 starting: loading array freyberg6_template\\freyberg6.rch_recharge_6.txt\n",
      "2022-03-18 15:11:42.456383 finished: loading array freyberg6_template\\freyberg6.rch_recharge_6.txt took: 0:00:00.006035\n",
      "2022-03-18 15:11:42.456383 loaded array 'freyberg_mf6\\freyberg6.rch_recharge_6.txt' of shape (40, 20)\n",
      "2022-03-18 15:11:42.458377 starting: writing array-style template file 'freyberg6_template\\rch_recharge_6_gr_inst0_grid.csv.tpl'\n",
      "2022-03-18 15:11:42.458377 starting: writing template file freyberg6_template\\rch_recharge_6_gr_inst0_grid.csv.tpl for ['rch_recharge_6_gr_inst:0']\n",
      "2022-03-18 15:11:42.471332 finished: writing template file freyberg6_template\\rch_recharge_6_gr_inst0_grid.csv.tpl for ['rch_recharge_6_gr_inst:0'] took: 0:00:00.012955\n",
      "2022-03-18 15:11:42.471332 starting: writing array-based template file 'freyberg6_template\\rch_recharge_6_gr_inst0_grid.csv.tpl'\n",
      "2022-03-18 15:11:42.471332 saving zone array freyberg6_template\\rch_recharge_6_gr_inst0_grid.csv.zone for tpl file freyberg6_template\\rch_recharge_6_gr_inst0_grid.csv.tpl\n",
      "2022-03-18 15:11:42.478379 finished: adding grid type m style parameters for file(s) ['freyberg6.rch_recharge_6.txt'] took: 0:00:00.028031\n",
      "2022-03-18 15:11:42.478379 starting: adding pilotpoints type m style parameters for file(s) ['freyberg6.rch_recharge_6.txt']\n",
      "2022-03-18 15:11:42.478379 starting: loading array freyberg6_template\\freyberg6.rch_recharge_6.txt\n",
      "2022-03-18 15:11:42.480322 finished: loading array freyberg6_template\\freyberg6.rch_recharge_6.txt took: 0:00:00.001943\n",
      "2022-03-18 15:11:42.480322 loaded array 'freyberg_mf6\\freyberg6.rch_recharge_6.txt' of shape (40, 20)\n",
      "2022-03-18 15:11:42.482352 starting: writing array-style template file 'freyberg6_template\\rch_recharge_6_pp_inst0_pilotpoints.csv.tpl'\n",
      "2022-03-18 15:11:42.482352 starting: setting up pilot point parameters\n",
      "2022-03-18 15:11:42.482352 No spatial reference (containing cell spacing) passed.\n",
      "2022-03-18 15:11:42.482352 OK - using spatial reference in parent object.\n",
      "2022-03-18 15:11:42.551183 32 pilot point parameters created\n",
      "2022-03-18 15:11:42.551183 pilot point 'pargp':rch_recharge_6_pp\n",
      "2022-03-18 15:11:42.551183 finished: setting up pilot point parameters took: 0:00:00.068831\n",
      "2022-03-18 15:11:42.558168 starting: writing array-based template file 'freyberg6_template\\rch_recharge_6_pp_inst0pp.dat.tpl'\n",
      "2022-03-18 15:11:42.558168 saving zone array freyberg6_template\\rch_recharge_6_pp_inst0pp.dat.zone for tpl file freyberg6_template\\rch_recharge_6_pp_inst0pp.dat.tpl\n",
      "2022-03-18 15:11:42.563101 finished: adding pilotpoints type m style parameters for file(s) ['freyberg6.rch_recharge_6.txt'] took: 0:00:00.084722\n",
      "2022-03-18 15:11:42.564098 starting: adding constant type m style parameters for file(s) ['freyberg6.rch_recharge_6.txt']\n",
      "2022-03-18 15:11:42.564098 starting: loading array freyberg6_template\\freyberg6.rch_recharge_6.txt\n",
      "2022-03-18 15:11:42.565139 finished: loading array freyberg6_template\\freyberg6.rch_recharge_6.txt took: 0:00:00.001041\n",
      "2022-03-18 15:11:42.565139 loaded array 'freyberg_mf6\\freyberg6.rch_recharge_6.txt' of shape (40, 20)\n",
      "2022-03-18 15:11:42.567133 starting: writing array-style template file 'freyberg6_template\\rch_recharge_6_cn_inst0_constant.csv.tpl'\n",
      "2022-03-18 15:11:42.567133 starting: writing template file freyberg6_template\\rch_recharge_6_cn_inst0_constant.csv.tpl for ['rch_recharge_6_cn_inst:0']\n",
      "2022-03-18 15:11:42.575122 finished: writing template file freyberg6_template\\rch_recharge_6_cn_inst0_constant.csv.tpl for ['rch_recharge_6_cn_inst:0'] took: 0:00:00.007989\n",
      "2022-03-18 15:11:42.575122 starting: writing array-based template file 'freyberg6_template\\rch_recharge_6_cn_inst0_constant.csv.tpl'\n",
      "2022-03-18 15:11:42.575122 saving zone array freyberg6_template\\rch_recharge_6_cn_inst0_constant.csv.zone for tpl file freyberg6_template\\rch_recharge_6_cn_inst0_constant.csv.tpl\n",
      "2022-03-18 15:11:42.581104 finished: adding constant type m style parameters for file(s) ['freyberg6.rch_recharge_6.txt'] took: 0:00:00.017006\n",
      "2022-03-18 15:11:42.581104 starting: adding constant type m style parameters for file(s) ['freyberg6.rch_recharge_6.txt']\n",
      "2022-03-18 15:11:42.581104 starting: loading array freyberg6_template\\freyberg6.rch_recharge_6.txt\n"
     ]
    },
    {
     "name": "stdout",
     "output_type": "stream",
     "text": [
      "2022-03-18 15:11:42.583099 finished: loading array freyberg6_template\\freyberg6.rch_recharge_6.txt took: 0:00:00.001995\n",
      "2022-03-18 15:11:42.583099 loaded array 'freyberg_mf6\\freyberg6.rch_recharge_6.txt' of shape (40, 20)\n",
      "2022-03-18 15:11:42.585042 starting: writing array-style template file 'freyberg6_template\\rch_recharge_6_tcn_inst0_constant.csv.tpl'\n",
      "2022-03-18 15:11:42.585042 starting: writing template file freyberg6_template\\rch_recharge_6_tcn_inst0_constant.csv.tpl for ['rch_recharge_6_tcn_inst:0']\n",
      "2022-03-18 15:11:42.593021 finished: writing template file freyberg6_template\\rch_recharge_6_tcn_inst0_constant.csv.tpl for ['rch_recharge_6_tcn_inst:0'] took: 0:00:00.007979\n",
      "2022-03-18 15:11:42.593021 starting: writing array-based template file 'freyberg6_template\\rch_recharge_6_tcn_inst0_constant.csv.tpl'\n",
      "2022-03-18 15:11:42.594017 saving zone array freyberg6_template\\rch_recharge_6_tcn_inst0_constant.csv.zone for tpl file freyberg6_template\\rch_recharge_6_tcn_inst0_constant.csv.tpl\n",
      "2022-03-18 15:11:42.601996 finished: adding constant type m style parameters for file(s) ['freyberg6.rch_recharge_6.txt'] took: 0:00:00.020892\n",
      "2022-03-18 15:11:42.601996 starting: adding grid type m style parameters for file(s) ['freyberg6.rch_recharge_7.txt']\n",
      "2022-03-18 15:11:42.602993 starting: loading array freyberg6_template\\freyberg6.rch_recharge_7.txt\n",
      "2022-03-18 15:11:42.607981 finished: loading array freyberg6_template\\freyberg6.rch_recharge_7.txt took: 0:00:00.004988\n",
      "2022-03-18 15:11:42.607981 loaded array 'freyberg_mf6\\freyberg6.rch_recharge_7.txt' of shape (40, 20)\n",
      "2022-03-18 15:11:42.610026 starting: writing array-style template file 'freyberg6_template\\rch_recharge_7_gr_inst0_grid.csv.tpl'\n",
      "2022-03-18 15:11:42.610026 starting: writing template file freyberg6_template\\rch_recharge_7_gr_inst0_grid.csv.tpl for ['rch_recharge_7_gr_inst:0']\n",
      "2022-03-18 15:11:42.622942 finished: writing template file freyberg6_template\\rch_recharge_7_gr_inst0_grid.csv.tpl for ['rch_recharge_7_gr_inst:0'] took: 0:00:00.012916\n",
      "2022-03-18 15:11:42.622942 starting: writing array-based template file 'freyberg6_template\\rch_recharge_7_gr_inst0_grid.csv.tpl'\n",
      "2022-03-18 15:11:42.622942 saving zone array freyberg6_template\\rch_recharge_7_gr_inst0_grid.csv.zone for tpl file freyberg6_template\\rch_recharge_7_gr_inst0_grid.csv.tpl\n"
     ]
    },
    {
     "name": "stdout",
     "output_type": "stream",
     "text": [
      "2022-03-18 15:11:42.630970 finished: adding grid type m style parameters for file(s) ['freyberg6.rch_recharge_7.txt'] took: 0:00:00.028974\n",
      "2022-03-18 15:11:42.630970 starting: adding pilotpoints type m style parameters for file(s) ['freyberg6.rch_recharge_7.txt']\n",
      "2022-03-18 15:11:42.631971 starting: loading array freyberg6_template\\freyberg6.rch_recharge_7.txt\n",
      "2022-03-18 15:11:42.632948 finished: loading array freyberg6_template\\freyberg6.rch_recharge_7.txt took: 0:00:00.000977\n",
      "2022-03-18 15:11:42.632948 loaded array 'freyberg_mf6\\freyberg6.rch_recharge_7.txt' of shape (40, 20)\n",
      "2022-03-18 15:11:42.634960 starting: writing array-style template file 'freyberg6_template\\rch_recharge_7_pp_inst0_pilotpoints.csv.tpl'\n",
      "2022-03-18 15:11:42.634960 starting: setting up pilot point parameters\n",
      "2022-03-18 15:11:42.634960 No spatial reference (containing cell spacing) passed.\n",
      "2022-03-18 15:11:42.634960 OK - using spatial reference in parent object.\n",
      "2022-03-18 15:11:42.703849 32 pilot point parameters created\n",
      "2022-03-18 15:11:42.703849 pilot point 'pargp':rch_recharge_7_pp\n",
      "2022-03-18 15:11:42.703849 finished: setting up pilot point parameters took: 0:00:00.068889\n",
      "2022-03-18 15:11:42.710830 starting: writing array-based template file 'freyberg6_template\\rch_recharge_7_pp_inst0pp.dat.tpl'\n",
      "2022-03-18 15:11:42.710830 saving zone array freyberg6_template\\rch_recharge_7_pp_inst0pp.dat.zone for tpl file freyberg6_template\\rch_recharge_7_pp_inst0pp.dat.tpl\n",
      "2022-03-18 15:11:42.715797 finished: adding pilotpoints type m style parameters for file(s) ['freyberg6.rch_recharge_7.txt'] took: 0:00:00.084827\n",
      "2022-03-18 15:11:42.716806 starting: adding constant type m style parameters for file(s) ['freyberg6.rch_recharge_7.txt']\n",
      "2022-03-18 15:11:42.716806 starting: loading array freyberg6_template\\freyberg6.rch_recharge_7.txt\n",
      "2022-03-18 15:11:42.717811 finished: loading array freyberg6_template\\freyberg6.rch_recharge_7.txt took: 0:00:00.001005\n",
      "2022-03-18 15:11:42.717811 loaded array 'freyberg_mf6\\freyberg6.rch_recharge_7.txt' of shape (40, 20)\n",
      "2022-03-18 15:11:42.719805 starting: writing array-style template file 'freyberg6_template\\rch_recharge_7_cn_inst0_constant.csv.tpl'\n",
      "2022-03-18 15:11:42.719805 starting: writing template file freyberg6_template\\rch_recharge_7_cn_inst0_constant.csv.tpl for ['rch_recharge_7_cn_inst:0']\n",
      "2022-03-18 15:11:42.726788 finished: writing template file freyberg6_template\\rch_recharge_7_cn_inst0_constant.csv.tpl for ['rch_recharge_7_cn_inst:0'] took: 0:00:00.006983\n",
      "2022-03-18 15:11:42.727750 starting: writing array-based template file 'freyberg6_template\\rch_recharge_7_cn_inst0_constant.csv.tpl'\n",
      "2022-03-18 15:11:42.727750 saving zone array freyberg6_template\\rch_recharge_7_cn_inst0_constant.csv.zone for tpl file freyberg6_template\\rch_recharge_7_cn_inst0_constant.csv.tpl\n",
      "2022-03-18 15:11:42.733716 finished: adding constant type m style parameters for file(s) ['freyberg6.rch_recharge_7.txt'] took: 0:00:00.016910\n",
      "2022-03-18 15:11:42.733716 starting: adding constant type m style parameters for file(s) ['freyberg6.rch_recharge_7.txt']\n",
      "2022-03-18 15:11:42.733716 starting: loading array freyberg6_template\\freyberg6.rch_recharge_7.txt\n",
      "2022-03-18 15:11:42.735947 finished: loading array freyberg6_template\\freyberg6.rch_recharge_7.txt took: 0:00:00.002231\n",
      "2022-03-18 15:11:42.735947 loaded array 'freyberg_mf6\\freyberg6.rch_recharge_7.txt' of shape (40, 20)\n",
      "2022-03-18 15:11:42.737707 starting: writing array-style template file 'freyberg6_template\\rch_recharge_7_tcn_inst0_constant.csv.tpl'\n",
      "2022-03-18 15:11:42.737707 starting: writing template file freyberg6_template\\rch_recharge_7_tcn_inst0_constant.csv.tpl for ['rch_recharge_7_tcn_inst:0']\n",
      "2022-03-18 15:11:42.745684 finished: writing template file freyberg6_template\\rch_recharge_7_tcn_inst0_constant.csv.tpl for ['rch_recharge_7_tcn_inst:0'] took: 0:00:00.007977\n",
      "2022-03-18 15:11:42.745684 starting: writing array-based template file 'freyberg6_template\\rch_recharge_7_tcn_inst0_constant.csv.tpl'\n",
      "2022-03-18 15:11:42.746683 saving zone array freyberg6_template\\rch_recharge_7_tcn_inst0_constant.csv.zone for tpl file freyberg6_template\\rch_recharge_7_tcn_inst0_constant.csv.tpl\n",
      "2022-03-18 15:11:42.754662 finished: adding constant type m style parameters for file(s) ['freyberg6.rch_recharge_7.txt'] took: 0:00:00.020946\n",
      "2022-03-18 15:11:42.754662 starting: adding grid type m style parameters for file(s) ['freyberg6.rch_recharge_8.txt']\n",
      "2022-03-18 15:11:42.754662 starting: loading array freyberg6_template\\freyberg6.rch_recharge_8.txt\n",
      "2022-03-18 15:11:42.761694 finished: loading array freyberg6_template\\freyberg6.rch_recharge_8.txt took: 0:00:00.007032\n",
      "2022-03-18 15:11:42.761694 loaded array 'freyberg_mf6\\freyberg6.rch_recharge_8.txt' of shape (40, 20)\n",
      "2022-03-18 15:11:42.763688 starting: writing array-style template file 'freyberg6_template\\rch_recharge_8_gr_inst0_grid.csv.tpl'\n",
      "2022-03-18 15:11:42.763688 starting: writing template file freyberg6_template\\rch_recharge_8_gr_inst0_grid.csv.tpl for ['rch_recharge_8_gr_inst:0']\n",
      "2022-03-18 15:11:42.775656 finished: writing template file freyberg6_template\\rch_recharge_8_gr_inst0_grid.csv.tpl for ['rch_recharge_8_gr_inst:0'] took: 0:00:00.011968\n",
      "2022-03-18 15:11:42.776654 starting: writing array-based template file 'freyberg6_template\\rch_recharge_8_gr_inst0_grid.csv.tpl'\n",
      "2022-03-18 15:11:42.776654 saving zone array freyberg6_template\\rch_recharge_8_gr_inst0_grid.csv.zone for tpl file freyberg6_template\\rch_recharge_8_gr_inst0_grid.csv.tpl\n"
     ]
    },
    {
     "name": "stdout",
     "output_type": "stream",
     "text": [
      "2022-03-18 15:11:42.783287 finished: adding grid type m style parameters for file(s) ['freyberg6.rch_recharge_8.txt'] took: 0:00:00.028625\n",
      "2022-03-18 15:11:42.784252 starting: adding pilotpoints type m style parameters for file(s) ['freyberg6.rch_recharge_8.txt']\n",
      "2022-03-18 15:11:42.784252 starting: loading array freyberg6_template\\freyberg6.rch_recharge_8.txt\n",
      "2022-03-18 15:11:42.786279 finished: loading array freyberg6_template\\freyberg6.rch_recharge_8.txt took: 0:00:00.002027\n",
      "2022-03-18 15:11:42.786279 loaded array 'freyberg_mf6\\freyberg6.rch_recharge_8.txt' of shape (40, 20)\n",
      "2022-03-18 15:11:42.788243 starting: writing array-style template file 'freyberg6_template\\rch_recharge_8_pp_inst0_pilotpoints.csv.tpl'\n",
      "2022-03-18 15:11:42.788243 starting: setting up pilot point parameters\n",
      "2022-03-18 15:11:42.788243 No spatial reference (containing cell spacing) passed.\n",
      "2022-03-18 15:11:42.788243 OK - using spatial reference in parent object.\n"
     ]
    },
    {
     "name": "stdout",
     "output_type": "stream",
     "text": [
      "2022-03-18 15:11:42.859055 32 pilot point parameters created\n",
      "2022-03-18 15:11:42.860100 pilot point 'pargp':rch_recharge_8_pp\n",
      "2022-03-18 15:11:42.860100 finished: setting up pilot point parameters took: 0:00:00.071857\n",
      "2022-03-18 15:11:42.867062 starting: writing array-based template file 'freyberg6_template\\rch_recharge_8_pp_inst0pp.dat.tpl'\n",
      "2022-03-18 15:11:42.867062 saving zone array freyberg6_template\\rch_recharge_8_pp_inst0pp.dat.zone for tpl file freyberg6_template\\rch_recharge_8_pp_inst0pp.dat.tpl\n",
      "2022-03-18 15:11:42.873037 finished: adding pilotpoints type m style parameters for file(s) ['freyberg6.rch_recharge_8.txt'] took: 0:00:00.088785\n",
      "2022-03-18 15:11:42.873037 starting: adding constant type m style parameters for file(s) ['freyberg6.rch_recharge_8.txt']\n",
      "2022-03-18 15:11:42.873037 starting: loading array freyberg6_template\\freyberg6.rch_recharge_8.txt\n",
      "2022-03-18 15:11:42.874064 finished: loading array freyberg6_template\\freyberg6.rch_recharge_8.txt took: 0:00:00.001027\n",
      "2022-03-18 15:11:42.874064 loaded array 'freyberg_mf6\\freyberg6.rch_recharge_8.txt' of shape (40, 20)\n",
      "2022-03-18 15:11:42.876005 starting: writing array-style template file 'freyberg6_template\\rch_recharge_8_cn_inst0_constant.csv.tpl'\n",
      "2022-03-18 15:11:42.877003 starting: writing template file freyberg6_template\\rch_recharge_8_cn_inst0_constant.csv.tpl for ['rch_recharge_8_cn_inst:0']\n",
      "2022-03-18 15:11:42.884018 finished: writing template file freyberg6_template\\rch_recharge_8_cn_inst0_constant.csv.tpl for ['rch_recharge_8_cn_inst:0'] took: 0:00:00.007015\n",
      "2022-03-18 15:11:42.884018 starting: writing array-based template file 'freyberg6_template\\rch_recharge_8_cn_inst0_constant.csv.tpl'\n",
      "2022-03-18 15:11:42.884018 saving zone array freyberg6_template\\rch_recharge_8_cn_inst0_constant.csv.zone for tpl file freyberg6_template\\rch_recharge_8_cn_inst0_constant.csv.tpl\n",
      "2022-03-18 15:11:42.890998 finished: adding constant type m style parameters for file(s) ['freyberg6.rch_recharge_8.txt'] took: 0:00:00.017961\n",
      "2022-03-18 15:11:42.890998 starting: adding constant type m style parameters for file(s) ['freyberg6.rch_recharge_8.txt']\n",
      "2022-03-18 15:11:42.890998 starting: loading array freyberg6_template\\freyberg6.rch_recharge_8.txt\n",
      "2022-03-18 15:11:42.892015 finished: loading array freyberg6_template\\freyberg6.rch_recharge_8.txt took: 0:00:00.001017\n",
      "2022-03-18 15:11:42.892015 loaded array 'freyberg_mf6\\freyberg6.rch_recharge_8.txt' of shape (40, 20)\n",
      "2022-03-18 15:11:42.893969 starting: writing array-style template file 'freyberg6_template\\rch_recharge_8_tcn_inst0_constant.csv.tpl'\n",
      "2022-03-18 15:11:42.894955 starting: writing template file freyberg6_template\\rch_recharge_8_tcn_inst0_constant.csv.tpl for ['rch_recharge_8_tcn_inst:0']\n",
      "2022-03-18 15:11:42.900990 finished: writing template file freyberg6_template\\rch_recharge_8_tcn_inst0_constant.csv.tpl for ['rch_recharge_8_tcn_inst:0'] took: 0:00:00.006035\n",
      "2022-03-18 15:11:42.900990 starting: writing array-based template file 'freyberg6_template\\rch_recharge_8_tcn_inst0_constant.csv.tpl'\n",
      "2022-03-18 15:11:42.902934 saving zone array freyberg6_template\\rch_recharge_8_tcn_inst0_constant.csv.zone for tpl file freyberg6_template\\rch_recharge_8_tcn_inst0_constant.csv.tpl\n",
      "2022-03-18 15:11:42.909966 finished: adding constant type m style parameters for file(s) ['freyberg6.rch_recharge_8.txt'] took: 0:00:00.018968\n",
      "2022-03-18 15:11:42.910945 starting: adding grid type m style parameters for file(s) ['freyberg6.rch_recharge_9.txt']\n",
      "2022-03-18 15:11:42.910945 starting: loading array freyberg6_template\\freyberg6.rch_recharge_9.txt\n",
      "2022-03-18 15:11:42.916948 finished: loading array freyberg6_template\\freyberg6.rch_recharge_9.txt took: 0:00:00.006003\n",
      "2022-03-18 15:11:42.916948 loaded array 'freyberg_mf6\\freyberg6.rch_recharge_9.txt' of shape (40, 20)\n",
      "2022-03-18 15:11:42.919293 starting: writing array-style template file 'freyberg6_template\\rch_recharge_9_gr_inst0_grid.csv.tpl'\n",
      "2022-03-18 15:11:42.919293 starting: writing template file freyberg6_template\\rch_recharge_9_gr_inst0_grid.csv.tpl for ['rch_recharge_9_gr_inst:0']\n",
      "2022-03-18 15:11:42.930914 finished: writing template file freyberg6_template\\rch_recharge_9_gr_inst0_grid.csv.tpl for ['rch_recharge_9_gr_inst:0'] took: 0:00:00.011621\n",
      "2022-03-18 15:11:42.931857 starting: writing array-based template file 'freyberg6_template\\rch_recharge_9_gr_inst0_grid.csv.tpl'\n",
      "2022-03-18 15:11:42.931857 saving zone array freyberg6_template\\rch_recharge_9_gr_inst0_grid.csv.zone for tpl file freyberg6_template\\rch_recharge_9_gr_inst0_grid.csv.tpl\n",
      "2022-03-18 15:11:42.938838 finished: adding grid type m style parameters for file(s) ['freyberg6.rch_recharge_9.txt'] took: 0:00:00.027893\n",
      "2022-03-18 15:11:42.938838 starting: adding pilotpoints type m style parameters for file(s) ['freyberg6.rch_recharge_9.txt']\n",
      "2022-03-18 15:11:42.938838 starting: loading array freyberg6_template\\freyberg6.rch_recharge_9.txt\n",
      "2022-03-18 15:11:42.940831 finished: loading array freyberg6_template\\freyberg6.rch_recharge_9.txt took: 0:00:00.001993\n",
      "2022-03-18 15:11:42.940831 loaded array 'freyberg_mf6\\freyberg6.rch_recharge_9.txt' of shape (40, 20)\n",
      "2022-03-18 15:11:42.942826 starting: writing array-style template file 'freyberg6_template\\rch_recharge_9_pp_inst0_pilotpoints.csv.tpl'\n",
      "2022-03-18 15:11:42.942826 starting: setting up pilot point parameters\n",
      "2022-03-18 15:11:42.942826 No spatial reference (containing cell spacing) passed.\n",
      "2022-03-18 15:11:42.942826 OK - using spatial reference in parent object.\n"
     ]
    },
    {
     "name": "stdout",
     "output_type": "stream",
     "text": [
      "2022-03-18 15:11:43.012673 32 pilot point parameters created\n",
      "2022-03-18 15:11:43.013690 pilot point 'pargp':rch_recharge_9_pp\n",
      "2022-03-18 15:11:43.013690 finished: setting up pilot point parameters took: 0:00:00.070864\n",
      "2022-03-18 15:11:43.020671 starting: writing array-based template file 'freyberg6_template\\rch_recharge_9_pp_inst0pp.dat.tpl'\n",
      "2022-03-18 15:11:43.020671 saving zone array freyberg6_template\\rch_recharge_9_pp_inst0pp.dat.zone for tpl file freyberg6_template\\rch_recharge_9_pp_inst0pp.dat.tpl\n",
      "2022-03-18 15:11:43.025657 finished: adding pilotpoints type m style parameters for file(s) ['freyberg6.rch_recharge_9.txt'] took: 0:00:00.086819\n",
      "2022-03-18 15:11:43.026654 starting: adding constant type m style parameters for file(s) ['freyberg6.rch_recharge_9.txt']\n",
      "2022-03-18 15:11:43.026654 starting: loading array freyberg6_template\\freyberg6.rch_recharge_9.txt\n",
      "2022-03-18 15:11:43.027651 finished: loading array freyberg6_template\\freyberg6.rch_recharge_9.txt took: 0:00:00.000997\n",
      "2022-03-18 15:11:43.027651 loaded array 'freyberg_mf6\\freyberg6.rch_recharge_9.txt' of shape (40, 20)\n",
      "2022-03-18 15:11:43.029646 starting: writing array-style template file 'freyberg6_template\\rch_recharge_9_cn_inst0_constant.csv.tpl'\n",
      "2022-03-18 15:11:43.029646 starting: writing template file freyberg6_template\\rch_recharge_9_cn_inst0_constant.csv.tpl for ['rch_recharge_9_cn_inst:0']\n",
      "2022-03-18 15:11:43.036576 finished: writing template file freyberg6_template\\rch_recharge_9_cn_inst0_constant.csv.tpl for ['rch_recharge_9_cn_inst:0'] took: 0:00:00.006930\n",
      "2022-03-18 15:11:43.036576 starting: writing array-based template file 'freyberg6_template\\rch_recharge_9_cn_inst0_constant.csv.tpl'\n"
     ]
    },
    {
     "name": "stdout",
     "output_type": "stream",
     "text": [
      "2022-03-18 15:11:43.037574 saving zone array freyberg6_template\\rch_recharge_9_cn_inst0_constant.csv.zone for tpl file freyberg6_template\\rch_recharge_9_cn_inst0_constant.csv.tpl\n",
      "2022-03-18 15:11:43.043608 finished: adding constant type m style parameters for file(s) ['freyberg6.rch_recharge_9.txt'] took: 0:00:00.016954\n",
      "2022-03-18 15:11:43.043608 starting: adding constant type m style parameters for file(s) ['freyberg6.rch_recharge_9.txt']\n",
      "2022-03-18 15:11:43.043608 starting: loading array freyberg6_template\\freyberg6.rch_recharge_9.txt\n",
      "2022-03-18 15:11:43.045603 finished: loading array freyberg6_template\\freyberg6.rch_recharge_9.txt took: 0:00:00.001995\n",
      "2022-03-18 15:11:43.045603 loaded array 'freyberg_mf6\\freyberg6.rch_recharge_9.txt' of shape (40, 20)\n",
      "2022-03-18 15:11:43.047603 starting: writing array-style template file 'freyberg6_template\\rch_recharge_9_tcn_inst0_constant.csv.tpl'\n",
      "2022-03-18 15:11:43.047603 starting: writing template file freyberg6_template\\rch_recharge_9_tcn_inst0_constant.csv.tpl for ['rch_recharge_9_tcn_inst:0']\n",
      "2022-03-18 15:11:43.054528 finished: writing template file freyberg6_template\\rch_recharge_9_tcn_inst0_constant.csv.tpl for ['rch_recharge_9_tcn_inst:0'] took: 0:00:00.006925\n",
      "2022-03-18 15:11:43.054528 starting: writing array-based template file 'freyberg6_template\\rch_recharge_9_tcn_inst0_constant.csv.tpl'\n",
      "2022-03-18 15:11:43.055525 saving zone array freyberg6_template\\rch_recharge_9_tcn_inst0_constant.csv.zone for tpl file freyberg6_template\\rch_recharge_9_tcn_inst0_constant.csv.tpl\n",
      "2022-03-18 15:11:43.063540 finished: adding constant type m style parameters for file(s) ['freyberg6.rch_recharge_9.txt'] took: 0:00:00.019932\n"
     ]
    }
   ],
   "source": [
    "# for Recharge; \n",
    "tag = \"rch_recharge\"\n",
    "files = [f for f in os.listdir(template_ws) if tag in f.lower() and f.endswith(\".txt\")]\n",
    "for f in files:\n",
    "    # the spatial multiplier parameters; just use the same function\n",
    "    add_mult_pars(f, lb=0.2, ub=5.0, ulb=2e-5, uub=2e-4)\n",
    "    \n",
    "    \n",
    "    # multiplier that includes temporal correlation\n",
    "    # get the stress period number from the file name\n",
    "    kper = int(f.split('.')[1].split('_')[-1]) - 1  \n",
    "    \n",
    "    # add the constant parameters (with temporal correlation)\n",
    "    pf.add_parameters(filenames=f,\n",
    "                    zone_array=ib,\n",
    "                    par_type=\"constant\",\n",
    "                    par_name_base=f.split('.')[1]+\"_tcn\",\n",
    "                    pargp=f.split('.')[1]+\"_tcn\",\n",
    "                    lower_bound=0.5, upper_bound=1.5,\n",
    "                    ult_ubound=2e-4, ult_lbound=2e-5,\n",
    "                    datetime=dts[kper], # this places the parameter value on the \"time axis\"\n",
    "                    geostruct=temporal_gs)"
   ]
  },
  {
   "cell_type": "markdown",
   "metadata": {},
   "source": [
    "### 5.3.3. List Files\n",
    "\n",
    "Adding parameters from list-type files follows similar principles. As with observation files, they must be tabular. Certain columns are specified as index columns and are used to populate parameter names, as well as provide the parameters' spatial location. Other columns are specified as containing parameter values. \n",
    "\n",
    "Parameters can be `grid` or `constant`. As before, values can be assigned `directly`, as `multipliers` or as `additives`.\n",
    "\n",
    "We will demonstrate for the boundary-condition input files. \n",
    "\n",
    "Starting off with GHBs. Let's inspect the folder. As you can see, there is a single input file (GHB parameters are assumed to not vary over time)."
   ]
  },
  {
   "cell_type": "code",
   "execution_count": 29,
   "metadata": {
    "execution": {
     "iopub.execute_input": "2022-03-18T04:41:43.071484Z",
     "iopub.status.busy": "2022-03-18T04:41:43.071484Z",
     "iopub.status.idle": "2022-03-18T04:41:43.075507Z",
     "shell.execute_reply": "2022-03-18T04:41:43.075507Z"
    }
   },
   "outputs": [
    {
     "name": "stdout",
     "output_type": "stream",
     "text": [
      "['freyberg6.ghb_stress_period_data_1.txt']\n"
     ]
    }
   ],
   "source": [
    "tag = \"ghb_stress_period_data\"\n",
    "files = [f for f in os.listdir(template_ws) if tag in f.lower() and f.endswith(\".txt\")]\n",
    "print(files)"
   ]
  },
  {
   "cell_type": "markdown",
   "metadata": {},
   "source": [
    "Since these boundaries are likely to be very influential, we want to include a robust representation of their uncertainty - both head and conductance and at multiple scales.  \n",
    "\n",
    "Let's parameterize both GHB conductance and head:\n",
    "\n",
    " - For conductance, we shall use two scales of `multiplier` parameters (`constant` and `grid`).\n",
    "\n",
    " - For heads, multipliers are not ideal. Insead we will use `additive` parameters. Again, with a coarse and fine scale."
   ]
  },
  {
   "cell_type": "code",
   "execution_count": 30,
   "metadata": {
    "execution": {
     "iopub.execute_input": "2022-03-18T04:41:43.084449Z",
     "iopub.status.busy": "2022-03-18T04:41:43.083487Z",
     "iopub.status.idle": "2022-03-18T04:41:43.205170Z",
     "shell.execute_reply": "2022-03-18T04:41:43.206168Z"
    }
   },
   "outputs": [
    {
     "name": "stdout",
     "output_type": "stream",
     "text": [
      "2022-03-18 15:11:43.084449 starting: adding grid type m style parameters for file(s) ['freyberg6.ghb_stress_period_data_1.txt']\n",
      "2022-03-18 15:11:43.084449 starting: loading list-style freyberg6_template\\freyberg6.ghb_stress_period_data_1.txt\n",
      "2022-03-18 15:11:43.084449 starting: reading list-style file: freyberg6_template\\freyberg6.ghb_stress_period_data_1.txt\n",
      "2022-03-18 15:11:43.087488 finished: reading list-style file: freyberg6_template\\freyberg6.ghb_stress_period_data_1.txt took: 0:00:00.003039\n",
      "2022-03-18 15:11:43.087488 loaded list-style 'freyberg6_template\\freyberg6.ghb_stress_period_data_1.txt' of shape (30, 5)\n",
      "2022-03-18 15:11:43.093424 finished: loading list-style freyberg6_template\\freyberg6.ghb_stress_period_data_1.txt took: 0:00:00.008975\n",
      "2022-03-18 15:11:43.093424 starting: writing list-style template file 'freyberg6_template\\ghbcond_gr_inst0_grid.csv.tpl'\n",
      "2022-03-18 15:11:43.098410 WARNING: get_xy() warning: position of i and j in index_cols not specified, assume (i,j) are final two entries in index_cols.\n",
      "2022-03-18 15:11:43.104394 WARNING: Coincidently located pars in list-style file, attempting to separate pars based on `index_cols` passed - using index_col[0] for third dimension\n",
      "2022-03-18 15:11:43.116362 finished: writing list-style template file 'freyberg6_template\\ghbcond_gr_inst0_grid.csv.tpl' took: 0:00:00.022938\n",
      "2022-03-18 15:11:43.122399 finished: adding grid type m style parameters for file(s) ['freyberg6.ghb_stress_period_data_1.txt'] took: 0:00:00.037950\n",
      "2022-03-18 15:11:43.122399 starting: adding constant type m style parameters for file(s) ['freyberg6.ghb_stress_period_data_1.txt']\n",
      "2022-03-18 15:11:43.122399 starting: loading list-style freyberg6_template\\freyberg6.ghb_stress_period_data_1.txt\n",
      "2022-03-18 15:11:43.123399 starting: reading list-style file: freyberg6_template\\freyberg6.ghb_stress_period_data_1.txt\n",
      "2022-03-18 15:11:43.124393 finished: reading list-style file: freyberg6_template\\freyberg6.ghb_stress_period_data_1.txt took: 0:00:00.000994\n",
      "2022-03-18 15:11:43.124393 loaded list-style 'freyberg6_template\\freyberg6.ghb_stress_period_data_1.txt' of shape (30, 5)\n",
      "2022-03-18 15:11:43.125339 finished: loading list-style freyberg6_template\\freyberg6.ghb_stress_period_data_1.txt took: 0:00:00.002940\n",
      "2022-03-18 15:11:43.125339 starting: writing list-style template file 'freyberg6_template\\ghbcond_cn_inst0_constant.csv.tpl'\n",
      "2022-03-18 15:11:43.140299 finished: writing list-style template file 'freyberg6_template\\ghbcond_cn_inst0_constant.csv.tpl' took: 0:00:00.014960\n",
      "2022-03-18 15:11:43.146316 finished: adding constant type m style parameters for file(s) ['freyberg6.ghb_stress_period_data_1.txt'] took: 0:00:00.023917\n",
      "2022-03-18 15:11:43.146316 starting: adding grid type a style parameters for file(s) ['freyberg6.ghb_stress_period_data_1.txt']\n",
      "2022-03-18 15:11:43.146316 WARNING: 0) Inconsistency between geostruct transform and partrans.\n",
      "2022-03-18 15:11:43.146316 WARNING: 1) Setting geostruct transform to {transform}\n",
      "2022-03-18 15:11:43.146316 WARNING: 2) This will create a new copy of geostruct\n",
      "2022-03-18 15:11:43.146316 WARNING: -) Better to pass an appropriately transformed geostruct\n",
      "2022-03-18 15:11:43.146316 starting: loading list-style freyberg6_template\\freyberg6.ghb_stress_period_data_1.txt\n",
      "2022-03-18 15:11:43.147315 starting: reading list-style file: freyberg6_template\\freyberg6.ghb_stress_period_data_1.txt\n",
      "2022-03-18 15:11:43.148311 finished: reading list-style file: freyberg6_template\\freyberg6.ghb_stress_period_data_1.txt took: 0:00:00.000996\n",
      "2022-03-18 15:11:43.149274 loaded list-style 'freyberg6_template\\freyberg6.ghb_stress_period_data_1.txt' of shape (30, 5)\n",
      "2022-03-18 15:11:43.150272 finished: loading list-style freyberg6_template\\freyberg6.ghb_stress_period_data_1.txt took: 0:00:00.003956\n",
      "2022-03-18 15:11:43.150272 starting: writing list-style template file 'freyberg6_template\\ghbhead_gr_inst0_grid.csv.tpl'\n",
      "2022-03-18 15:11:43.155258 WARNING: get_xy() warning: position of i and j in index_cols not specified, assume (i,j) are final two entries in index_cols.\n",
      "2022-03-18 15:11:43.160298 WARNING: Coincidently located pars in list-style file, attempting to separate pars based on `index_cols` passed - using index_col[0] for third dimension\n",
      "2022-03-18 15:11:43.172259 finished: writing list-style template file 'freyberg6_template\\ghbhead_gr_inst0_grid.csv.tpl' took: 0:00:00.021987\n",
      "2022-03-18 15:11:43.178281 finished: adding grid type a style parameters for file(s) ['freyberg6.ghb_stress_period_data_1.txt'] took: 0:00:00.031965\n",
      "2022-03-18 15:11:43.178281 starting: adding constant type a style parameters for file(s) ['freyberg6.ghb_stress_period_data_1.txt']\n",
      "2022-03-18 15:11:43.178281 WARNING: 0) Inconsistency between geostruct transform and partrans.\n",
      "2022-03-18 15:11:43.178281 WARNING: 1) Setting geostruct transform to {transform}\n",
      "2022-03-18 15:11:43.178281 WARNING: 2) This will create a new copy of geostruct\n",
      "2022-03-18 15:11:43.178281 WARNING: -) Better to pass an appropriately transformed geostruct\n",
      "2022-03-18 15:11:43.178281 starting: loading list-style freyberg6_template\\freyberg6.ghb_stress_period_data_1.txt\n",
      "2022-03-18 15:11:43.179240 starting: reading list-style file: freyberg6_template\\freyberg6.ghb_stress_period_data_1.txt\n",
      "2022-03-18 15:11:43.180270 finished: reading list-style file: freyberg6_template\\freyberg6.ghb_stress_period_data_1.txt took: 0:00:00.001030\n",
      "2022-03-18 15:11:43.180270 loaded list-style 'freyberg6_template\\freyberg6.ghb_stress_period_data_1.txt' of shape (30, 5)\n",
      "2022-03-18 15:11:43.181267 finished: loading list-style freyberg6_template\\freyberg6.ghb_stress_period_data_1.txt took: 0:00:00.002986\n",
      "2022-03-18 15:11:43.181267 starting: writing list-style template file 'freyberg6_template\\ghbhead_cn_inst0_constant.csv.tpl'\n",
      "2022-03-18 15:11:43.195197 finished: writing list-style template file 'freyberg6_template\\ghbhead_cn_inst0_constant.csv.tpl' took: 0:00:00.013930\n",
      "2022-03-18 15:11:43.201233 finished: adding constant type a style parameters for file(s) ['freyberg6.ghb_stress_period_data_1.txt'] took: 0:00:00.022952\n"
     ]
    }
   ],
   "source": [
    "tag = \"ghb_stress_period_data\"\n",
    "files = [f for f in os.listdir(template_ws) if tag in f.lower() and f.endswith(\".txt\")]\n",
    "\n",
    "for f in files:\n",
    "    # constant and grid scale multiplier conductance parameters\n",
    "    name = 'ghbcond'\n",
    "    pf.add_parameters(f,\n",
    "                        par_type=\"grid\",\n",
    "                        geostruct=grid_gs,\n",
    "                        par_name_base=name+\"_gr\",\n",
    "                        pargp=name+\"_gr\",\n",
    "                        index_cols=[0,1,2], #column containing lay,row,col\n",
    "                        use_cols=[4], #column containing conductance values\n",
    "                        lower_bound=0.1,upper_bound=10.0,\n",
    "                        ult_lbound=0.1, ult_ubound=100) #absolute limits\n",
    "    pf.add_parameters(f,\n",
    "                        par_type=\"constant\",\n",
    "                        geostruct=grid_gs,\n",
    "                        par_name_base=name+\"_cn\",\n",
    "                        pargp=name+\"_cn\",\n",
    "                        index_cols=[0,1,2],\n",
    "                        use_cols=[4],  \n",
    "                        lower_bound=0.1,upper_bound=10.0,\n",
    "                        ult_lbound=0.1, ult_ubound=100) #absolute limits\n",
    "\n",
    "    # constant and grid scale additive head parameters\n",
    "    name = 'ghbhead'\n",
    "    pf.add_parameters(f,\n",
    "                        par_type=\"grid\",\n",
    "                        geostruct=grid_gs,\n",
    "                        par_name_base=name+\"_gr\",\n",
    "                        pargp=name+\"_gr\",\n",
    "                        index_cols=[0,1,2],\n",
    "                        use_cols=[3],   # column containing head values\n",
    "                        lower_bound=-2.0,upper_bound=2.0,\n",
    "                        par_style=\"a\", # specify additive parameter\n",
    "                        transform=\"none\", # specify not log-transform\n",
    "                        ult_lbound=32.5, ult_ubound=42) #absolute limits; make sure head is never lower than the bottom of layer1\n",
    "    pf.add_parameters(f,\n",
    "                        par_type=\"constant\",\n",
    "                        geostruct=grid_gs,\n",
    "                        par_name_base=name+\"_cn\",\n",
    "                        pargp=name+\"_cn\",\n",
    "                        index_cols=[0,1,2],\n",
    "                        use_cols=[3],\n",
    "                        lower_bound=-2.0,upper_bound=2.0, \n",
    "                        par_style=\"a\", \n",
    "                        transform=\"none\",\n",
    "                        ult_lbound=32.5, ult_ubound=42) "
   ]
  },
  {
   "cell_type": "markdown",
   "metadata": {},
   "source": [
    "Easy peasy.\n",
    "\n",
    "Now this will make some people uncomfortable but how well do we really ever know historic water use flux rates in space and in time? hmmm, not really! So lets add parameters to represent that uncertainty in the model inputs.\n",
    "\n",
    "For wells it may not (or it may...) make sense to include spatial correlation. Here we will assume temporal correlation - its reasonable that pumping rates today will be similar to pumping rates yesterday. \n",
    "\n",
    "Pumping rates for different stress periods are in separate files. We will call `.add_parameters()` for each file. But we want to specify correlation between parameters in different files. As explained above for recharge, we do this with the parameter group name.\n",
    "\n",
    "OK, let's get started.\n"
   ]
  },
  {
   "cell_type": "markdown",
   "metadata": {},
   "source": [
    "As discussed above, including temporal correlation introduces an additional challenge. We use the same approach described for recharge parmaeters:\n",
    "\n",
    "First, we will asign a `constant` multiplier parameter for each WEL stress-period file (so, a single multiplier for all well pumping rates for each stress period). We will specify temporal correlation for these `constant` multipliers.\n",
    "\n",
    "Then, we will also have `grid` type multiplier parameters for each WEL stress period file (so, multipliers for individual well pumping rate during each stress period). These will not include correlation. (We could in principle include spatial correlation here if we wanted to; but let's not)."
   ]
  },
  {
   "cell_type": "code",
   "execution_count": 31,
   "metadata": {
    "execution": {
     "iopub.execute_input": "2022-03-18T04:41:43.212151Z",
     "iopub.status.busy": "2022-03-18T04:41:43.211189Z",
     "iopub.status.idle": "2022-03-18T04:41:44.557949Z",
     "shell.execute_reply": "2022-03-18T04:41:44.558945Z"
    }
   },
   "outputs": [
    {
     "name": "stdout",
     "output_type": "stream",
     "text": [
      "2022-03-18 15:11:43.212151 starting: adding constant type m style parameters for file(s) ['freyberg6.wel_stress_period_data_1.txt']\n",
      "2022-03-18 15:11:43.212151 starting: loading list-style freyberg6_template\\freyberg6.wel_stress_period_data_1.txt\n",
      "2022-03-18 15:11:43.213182 starting: reading list-style file: freyberg6_template\\freyberg6.wel_stress_period_data_1.txt\n",
      "2022-03-18 15:11:43.215144 finished: reading list-style file: freyberg6_template\\freyberg6.wel_stress_period_data_1.txt took: 0:00:00.001962\n",
      "2022-03-18 15:11:43.215144 loaded list-style 'freyberg6_template\\freyberg6.wel_stress_period_data_1.txt' of shape (6, 4)\n",
      "2022-03-18 15:11:43.216142 finished: loading list-style freyberg6_template\\freyberg6.wel_stress_period_data_1.txt took: 0:00:00.003991\n",
      "2022-03-18 15:11:43.216142 starting: writing list-style template file 'freyberg6_template\\wel_cst_inst0_constant.csv.tpl'\n"
     ]
    },
    {
     "name": "stdout",
     "output_type": "stream",
     "text": [
      "2022-03-18 15:11:43.230104 finished: writing list-style template file 'freyberg6_template\\wel_cst_inst0_constant.csv.tpl' took: 0:00:00.013962\n",
      "2022-03-18 15:11:43.238085 finished: adding constant type m style parameters for file(s) ['freyberg6.wel_stress_period_data_1.txt'] took: 0:00:00.025934\n",
      "2022-03-18 15:11:43.239081 starting: adding grid type m style parameters for file(s) ['freyberg6.wel_stress_period_data_1.txt']\n",
      "2022-03-18 15:11:43.239081 starting: loading list-style freyberg6_template\\freyberg6.wel_stress_period_data_1.txt\n",
      "2022-03-18 15:11:43.239081 starting: reading list-style file: freyberg6_template\\freyberg6.wel_stress_period_data_1.txt\n",
      "2022-03-18 15:11:43.241075 finished: reading list-style file: freyberg6_template\\freyberg6.wel_stress_period_data_1.txt took: 0:00:00.001994\n",
      "2022-03-18 15:11:43.241075 loaded list-style 'freyberg6_template\\freyberg6.wel_stress_period_data_1.txt' of shape (6, 4)\n",
      "2022-03-18 15:11:43.241075 finished: loading list-style freyberg6_template\\freyberg6.wel_stress_period_data_1.txt took: 0:00:00.001994\n",
      "2022-03-18 15:11:43.242072 starting: writing list-style template file 'freyberg6_template\\wel_grd_inst0_grid.csv.tpl'\n",
      "2022-03-18 15:11:43.255039 finished: writing list-style template file 'freyberg6_template\\wel_grd_inst0_grid.csv.tpl' took: 0:00:00.012967\n"
     ]
    },
    {
     "name": "stdout",
     "output_type": "stream",
     "text": [
      "2022-03-18 15:11:43.263050 finished: adding grid type m style parameters for file(s) ['freyberg6.wel_stress_period_data_1.txt'] took: 0:00:00.023969\n",
      "2022-03-18 15:11:43.263050 starting: adding constant type m style parameters for file(s) ['freyberg6.wel_stress_period_data_10.txt']\n",
      "2022-03-18 15:11:43.263050 starting: loading list-style freyberg6_template\\freyberg6.wel_stress_period_data_10.txt\n",
      "2022-03-18 15:11:43.264047 starting: reading list-style file: freyberg6_template\\freyberg6.wel_stress_period_data_10.txt\n",
      "2022-03-18 15:11:43.266042 finished: reading list-style file: freyberg6_template\\freyberg6.wel_stress_period_data_10.txt took: 0:00:00.001995\n",
      "2022-03-18 15:11:43.266042 loaded list-style 'freyberg6_template\\freyberg6.wel_stress_period_data_10.txt' of shape (6, 4)\n",
      "2022-03-18 15:11:43.268004 finished: loading list-style freyberg6_template\\freyberg6.wel_stress_period_data_10.txt took: 0:00:00.004954\n"
     ]
    },
    {
     "name": "stdout",
     "output_type": "stream",
     "text": [
      "2022-03-18 15:11:43.268004 starting: writing list-style template file 'freyberg6_template\\wel_cst_inst1_constant.csv.tpl'\n",
      "2022-03-18 15:11:43.281965 finished: writing list-style template file 'freyberg6_template\\wel_cst_inst1_constant.csv.tpl' took: 0:00:00.013961\n",
      "2022-03-18 15:11:43.289968 finished: adding constant type m style parameters for file(s) ['freyberg6.wel_stress_period_data_10.txt'] took: 0:00:00.026918\n",
      "2022-03-18 15:11:43.289968 starting: adding grid type m style parameters for file(s) ['freyberg6.wel_stress_period_data_10.txt']\n",
      "2022-03-18 15:11:43.289968 starting: loading list-style freyberg6_template\\freyberg6.wel_stress_period_data_10.txt\n",
      "2022-03-18 15:11:43.289968 starting: reading list-style file: freyberg6_template\\freyberg6.wel_stress_period_data_10.txt\n",
      "2022-03-18 15:11:43.291993 finished: reading list-style file: freyberg6_template\\freyberg6.wel_stress_period_data_10.txt took: 0:00:00.002025\n",
      "2022-03-18 15:11:43.291993 loaded list-style 'freyberg6_template\\freyberg6.wel_stress_period_data_10.txt' of shape (6, 4)\n",
      "2022-03-18 15:11:43.292969 finished: loading list-style freyberg6_template\\freyberg6.wel_stress_period_data_10.txt took: 0:00:00.003001\n",
      "2022-03-18 15:11:43.292969 starting: writing list-style template file 'freyberg6_template\\wel_grd_inst1_grid.csv.tpl'\n",
      "2022-03-18 15:11:43.306925 finished: writing list-style template file 'freyberg6_template\\wel_grd_inst1_grid.csv.tpl' took: 0:00:00.013956\n",
      "2022-03-18 15:11:43.314912 finished: adding grid type m style parameters for file(s) ['freyberg6.wel_stress_period_data_10.txt'] took: 0:00:00.024944\n",
      "2022-03-18 15:11:43.314912 starting: adding constant type m style parameters for file(s) ['freyberg6.wel_stress_period_data_11.txt']\n",
      "2022-03-18 15:11:43.314912 starting: loading list-style freyberg6_template\\freyberg6.wel_stress_period_data_11.txt\n",
      "2022-03-18 15:11:43.315907 starting: reading list-style file: freyberg6_template\\freyberg6.wel_stress_period_data_11.txt\n",
      "2022-03-18 15:11:43.317904 finished: reading list-style file: freyberg6_template\\freyberg6.wel_stress_period_data_11.txt took: 0:00:00.001997\n",
      "2022-03-18 15:11:43.317904 loaded list-style 'freyberg6_template\\freyberg6.wel_stress_period_data_11.txt' of shape (6, 4)\n",
      "2022-03-18 15:11:43.318867 finished: loading list-style freyberg6_template\\freyberg6.wel_stress_period_data_11.txt took: 0:00:00.003955\n",
      "2022-03-18 15:11:43.318867 starting: writing list-style template file 'freyberg6_template\\wel_cst_inst2_constant.csv.tpl'\n",
      "2022-03-18 15:11:43.331831 finished: writing list-style template file 'freyberg6_template\\wel_cst_inst2_constant.csv.tpl' took: 0:00:00.012964\n",
      "2022-03-18 15:11:43.339810 finished: adding constant type m style parameters for file(s) ['freyberg6.wel_stress_period_data_11.txt'] took: 0:00:00.024898\n",
      "2022-03-18 15:11:43.340807 starting: adding grid type m style parameters for file(s) ['freyberg6.wel_stress_period_data_11.txt']\n",
      "2022-03-18 15:11:43.340807 starting: loading list-style freyberg6_template\\freyberg6.wel_stress_period_data_11.txt\n",
      "2022-03-18 15:11:43.340807 starting: reading list-style file: freyberg6_template\\freyberg6.wel_stress_period_data_11.txt\n",
      "2022-03-18 15:11:43.341858 finished: reading list-style file: freyberg6_template\\freyberg6.wel_stress_period_data_11.txt took: 0:00:00.001051\n",
      "2022-03-18 15:11:43.341858 loaded list-style 'freyberg6_template\\freyberg6.wel_stress_period_data_11.txt' of shape (6, 4)\n",
      "2022-03-18 15:11:43.342856 finished: loading list-style freyberg6_template\\freyberg6.wel_stress_period_data_11.txt took: 0:00:00.002049\n",
      "2022-03-18 15:11:43.342856 starting: writing list-style template file 'freyberg6_template\\wel_grd_inst2_grid.csv.tpl'\n",
      "2022-03-18 15:11:43.357763 finished: writing list-style template file 'freyberg6_template\\wel_grd_inst2_grid.csv.tpl' took: 0:00:00.014907\n",
      "2022-03-18 15:11:43.365795 finished: adding grid type m style parameters for file(s) ['freyberg6.wel_stress_period_data_11.txt'] took: 0:00:00.024988\n",
      "2022-03-18 15:11:43.365795 starting: adding constant type m style parameters for file(s) ['freyberg6.wel_stress_period_data_12.txt']\n",
      "2022-03-18 15:11:43.366792 starting: loading list-style freyberg6_template\\freyberg6.wel_stress_period_data_12.txt\n",
      "2022-03-18 15:11:43.366792 starting: reading list-style file: freyberg6_template\\freyberg6.wel_stress_period_data_12.txt\n",
      "2022-03-18 15:11:43.371727 finished: reading list-style file: freyberg6_template\\freyberg6.wel_stress_period_data_12.txt took: 0:00:00.004935\n",
      "2022-03-18 15:11:43.371727 loaded list-style 'freyberg6_template\\freyberg6.wel_stress_period_data_12.txt' of shape (6, 4)\n",
      "2022-03-18 15:11:43.372762 finished: loading list-style freyberg6_template\\freyberg6.wel_stress_period_data_12.txt took: 0:00:00.005970\n",
      "2022-03-18 15:11:43.372762 starting: writing list-style template file 'freyberg6_template\\wel_cst_inst3_constant.csv.tpl'\n",
      "2022-03-18 15:11:43.385924 finished: writing list-style template file 'freyberg6_template\\wel_cst_inst3_constant.csv.tpl' took: 0:00:00.013162\n",
      "2022-03-18 15:11:43.393722 finished: adding constant type m style parameters for file(s) ['freyberg6.wel_stress_period_data_12.txt'] took: 0:00:00.027927\n"
     ]
    },
    {
     "name": "stdout",
     "output_type": "stream",
     "text": [
      "2022-03-18 15:11:43.394665 starting: adding grid type m style parameters for file(s) ['freyberg6.wel_stress_period_data_12.txt']\n",
      "2022-03-18 15:11:43.394665 starting: loading list-style freyberg6_template\\freyberg6.wel_stress_period_data_12.txt\n",
      "2022-03-18 15:11:43.394665 starting: reading list-style file: freyberg6_template\\freyberg6.wel_stress_period_data_12.txt\n",
      "2022-03-18 15:11:43.395715 finished: reading list-style file: freyberg6_template\\freyberg6.wel_stress_period_data_12.txt took: 0:00:00.001050\n",
      "2022-03-18 15:11:43.395715 loaded list-style 'freyberg6_template\\freyberg6.wel_stress_period_data_12.txt' of shape (6, 4)\n",
      "2022-03-18 15:11:43.396711 finished: loading list-style freyberg6_template\\freyberg6.wel_stress_period_data_12.txt took: 0:00:00.002046\n",
      "2022-03-18 15:11:43.397655 starting: writing list-style template file 'freyberg6_template\\wel_grd_inst3_grid.csv.tpl'\n",
      "2022-03-18 15:11:43.410621 finished: writing list-style template file 'freyberg6_template\\wel_grd_inst3_grid.csv.tpl' took: 0:00:00.012966\n",
      "2022-03-18 15:11:43.418653 finished: adding grid type m style parameters for file(s) ['freyberg6.wel_stress_period_data_12.txt'] took: 0:00:00.023988\n"
     ]
    },
    {
     "name": "stdout",
     "output_type": "stream",
     "text": [
      "2022-03-18 15:11:43.419597 starting: adding constant type m style parameters for file(s) ['freyberg6.wel_stress_period_data_13.txt']\n",
      "2022-03-18 15:11:43.419597 starting: loading list-style freyberg6_template\\freyberg6.wel_stress_period_data_13.txt\n",
      "2022-03-18 15:11:43.419597 starting: reading list-style file: freyberg6_template\\freyberg6.wel_stress_period_data_13.txt\n",
      "2022-03-18 15:11:43.421594 finished: reading list-style file: freyberg6_template\\freyberg6.wel_stress_period_data_13.txt took: 0:00:00.001997\n",
      "2022-03-18 15:11:43.421594 loaded list-style 'freyberg6_template\\freyberg6.wel_stress_period_data_13.txt' of shape (6, 4)\n",
      "2022-03-18 15:11:43.422589 finished: loading list-style freyberg6_template\\freyberg6.wel_stress_period_data_13.txt took: 0:00:00.002992\n",
      "2022-03-18 15:11:43.423587 starting: writing list-style template file 'freyberg6_template\\wel_cst_inst4_constant.csv.tpl'\n",
      "2022-03-18 15:11:43.436552 finished: writing list-style template file 'freyberg6_template\\wel_cst_inst4_constant.csv.tpl' took: 0:00:00.012965\n",
      "2022-03-18 15:11:43.443549 finished: adding constant type m style parameters for file(s) ['freyberg6.wel_stress_period_data_13.txt'] took: 0:00:00.023952\n"
     ]
    },
    {
     "name": "stdout",
     "output_type": "stream",
     "text": [
      "2022-03-18 15:11:43.444530 starting: adding grid type m style parameters for file(s) ['freyberg6.wel_stress_period_data_13.txt']\n",
      "2022-03-18 15:11:43.444530 starting: loading list-style freyberg6_template\\freyberg6.wel_stress_period_data_13.txt\n",
      "2022-03-18 15:11:43.444530 starting: reading list-style file: freyberg6_template\\freyberg6.wel_stress_period_data_13.txt\n",
      "2022-03-18 15:11:43.446526 finished: reading list-style file: freyberg6_template\\freyberg6.wel_stress_period_data_13.txt took: 0:00:00.001996\n",
      "2022-03-18 15:11:43.446526 loaded list-style 'freyberg6_template\\freyberg6.wel_stress_period_data_13.txt' of shape (6, 4)\n",
      "2022-03-18 15:11:43.447523 finished: loading list-style freyberg6_template\\freyberg6.wel_stress_period_data_13.txt took: 0:00:00.002993\n",
      "2022-03-18 15:11:43.448520 starting: writing list-style template file 'freyberg6_template\\wel_grd_inst4_grid.csv.tpl'\n",
      "2022-03-18 15:11:43.462483 finished: writing list-style template file 'freyberg6_template\\wel_grd_inst4_grid.csv.tpl' took: 0:00:00.013963\n"
     ]
    },
    {
     "name": "stdout",
     "output_type": "stream",
     "text": [
      "2022-03-18 15:11:43.471459 finished: adding grid type m style parameters for file(s) ['freyberg6.wel_stress_period_data_13.txt'] took: 0:00:00.026929\n",
      "2022-03-18 15:11:43.471459 starting: adding constant type m style parameters for file(s) ['freyberg6.wel_stress_period_data_14.txt']\n",
      "2022-03-18 15:11:43.471459 starting: loading list-style freyberg6_template\\freyberg6.wel_stress_period_data_14.txt\n",
      "2022-03-18 15:11:43.472457 starting: reading list-style file: freyberg6_template\\freyberg6.wel_stress_period_data_14.txt\n",
      "2022-03-18 15:11:43.474491 finished: reading list-style file: freyberg6_template\\freyberg6.wel_stress_period_data_14.txt took: 0:00:00.002034\n",
      "2022-03-18 15:11:43.474491 loaded list-style 'freyberg6_template\\freyberg6.wel_stress_period_data_14.txt' of shape (6, 4)\n",
      "2022-03-18 15:11:43.475482 finished: loading list-style freyberg6_template\\freyberg6.wel_stress_period_data_14.txt took: 0:00:00.004023\n",
      "2022-03-18 15:11:43.475482 starting: writing list-style template file 'freyberg6_template\\wel_cst_inst5_constant.csv.tpl'\n",
      "2022-03-18 15:11:43.489410 finished: writing list-style template file 'freyberg6_template\\wel_cst_inst5_constant.csv.tpl' took: 0:00:00.013928\n",
      "2022-03-18 15:11:43.497389 finished: adding constant type m style parameters for file(s) ['freyberg6.wel_stress_period_data_14.txt'] took: 0:00:00.025930\n",
      "2022-03-18 15:11:43.498421 starting: adding grid type m style parameters for file(s) ['freyberg6.wel_stress_period_data_14.txt']\n",
      "2022-03-18 15:11:43.498421 starting: loading list-style freyberg6_template\\freyberg6.wel_stress_period_data_14.txt\n",
      "2022-03-18 15:11:43.498421 starting: reading list-style file: freyberg6_template\\freyberg6.wel_stress_period_data_14.txt\n",
      "2022-03-18 15:11:43.500414 finished: reading list-style file: freyberg6_template\\freyberg6.wel_stress_period_data_14.txt took: 0:00:00.001993\n",
      "2022-03-18 15:11:43.500414 loaded list-style 'freyberg6_template\\freyberg6.wel_stress_period_data_14.txt' of shape (6, 4)\n",
      "2022-03-18 15:11:43.501378 finished: loading list-style freyberg6_template\\freyberg6.wel_stress_period_data_14.txt took: 0:00:00.002957\n",
      "2022-03-18 15:11:43.502574 starting: writing list-style template file 'freyberg6_template\\wel_grd_inst5_grid.csv.tpl'\n",
      "2022-03-18 15:11:43.515341 finished: writing list-style template file 'freyberg6_template\\wel_grd_inst5_grid.csv.tpl' took: 0:00:00.012767\n",
      "2022-03-18 15:11:43.524317 finished: adding grid type m style parameters for file(s) ['freyberg6.wel_stress_period_data_14.txt'] took: 0:00:00.025896\n",
      "2022-03-18 15:11:43.524317 starting: adding constant type m style parameters for file(s) ['freyberg6.wel_stress_period_data_15.txt']\n",
      "2022-03-18 15:11:43.524317 starting: loading list-style freyberg6_template\\freyberg6.wel_stress_period_data_15.txt\n",
      "2022-03-18 15:11:43.525314 starting: reading list-style file: freyberg6_template\\freyberg6.wel_stress_period_data_15.txt\n",
      "2022-03-18 15:11:43.527309 finished: reading list-style file: freyberg6_template\\freyberg6.wel_stress_period_data_15.txt took: 0:00:00.001995\n",
      "2022-03-18 15:11:43.527309 loaded list-style 'freyberg6_template\\freyberg6.wel_stress_period_data_15.txt' of shape (6, 4)\n",
      "2022-03-18 15:11:43.529303 finished: loading list-style freyberg6_template\\freyberg6.wel_stress_period_data_15.txt took: 0:00:00.004986\n",
      "2022-03-18 15:11:43.529303 starting: writing list-style template file 'freyberg6_template\\wel_cst_inst6_constant.csv.tpl'\n",
      "2022-03-18 15:11:43.543267 finished: writing list-style template file 'freyberg6_template\\wel_cst_inst6_constant.csv.tpl' took: 0:00:00.013964\n",
      "2022-03-18 15:11:43.552571 finished: adding constant type m style parameters for file(s) ['freyberg6.wel_stress_period_data_15.txt'] took: 0:00:00.028254\n",
      "2022-03-18 15:11:43.552571 starting: adding grid type m style parameters for file(s) ['freyberg6.wel_stress_period_data_15.txt']\n",
      "2022-03-18 15:11:43.552571 starting: loading list-style freyberg6_template\\freyberg6.wel_stress_period_data_15.txt\n",
      "2022-03-18 15:11:43.553239 starting: reading list-style file: freyberg6_template\\freyberg6.wel_stress_period_data_15.txt\n",
      "2022-03-18 15:11:43.554237 finished: reading list-style file: freyberg6_template\\freyberg6.wel_stress_period_data_15.txt took: 0:00:00.000998\n",
      "2022-03-18 15:11:43.555234 loaded list-style 'freyberg6_template\\freyberg6.wel_stress_period_data_15.txt' of shape (6, 4)\n",
      "2022-03-18 15:11:43.556232 finished: loading list-style freyberg6_template\\freyberg6.wel_stress_period_data_15.txt took: 0:00:00.003661\n",
      "2022-03-18 15:11:43.556232 starting: writing list-style template file 'freyberg6_template\\wel_grd_inst6_grid.csv.tpl'\n",
      "2022-03-18 15:11:43.573189 finished: writing list-style template file 'freyberg6_template\\wel_grd_inst6_grid.csv.tpl' took: 0:00:00.016957\n",
      "2022-03-18 15:11:43.582196 finished: adding grid type m style parameters for file(s) ['freyberg6.wel_stress_period_data_15.txt'] took: 0:00:00.029625\n",
      "2022-03-18 15:11:43.582196 starting: adding constant type m style parameters for file(s) ['freyberg6.wel_stress_period_data_16.txt']\n",
      "2022-03-18 15:11:43.582196 starting: loading list-style freyberg6_template\\freyberg6.wel_stress_period_data_16.txt\n"
     ]
    },
    {
     "name": "stdout",
     "output_type": "stream",
     "text": [
      "2022-03-18 15:11:43.583160 starting: reading list-style file: freyberg6_template\\freyberg6.wel_stress_period_data_16.txt\n",
      "2022-03-18 15:11:43.585204 finished: reading list-style file: freyberg6_template\\freyberg6.wel_stress_period_data_16.txt took: 0:00:00.002044\n",
      "2022-03-18 15:11:43.585204 loaded list-style 'freyberg6_template\\freyberg6.wel_stress_period_data_16.txt' of shape (6, 4)\n",
      "2022-03-18 15:11:43.587182 finished: loading list-style freyberg6_template\\freyberg6.wel_stress_period_data_16.txt took: 0:00:00.004986\n",
      "2022-03-18 15:11:43.587182 starting: writing list-style template file 'freyberg6_template\\wel_cst_inst7_constant.csv.tpl'\n"
     ]
    },
    {
     "name": "stdout",
     "output_type": "stream",
     "text": [
      "2022-03-18 15:11:43.601111 finished: writing list-style template file 'freyberg6_template\\wel_cst_inst7_constant.csv.tpl' took: 0:00:00.013929\n",
      "2022-03-18 15:11:43.610122 finished: adding constant type m style parameters for file(s) ['freyberg6.wel_stress_period_data_16.txt'] took: 0:00:00.027926\n",
      "2022-03-18 15:11:43.610122 starting: adding grid type m style parameters for file(s) ['freyberg6.wel_stress_period_data_16.txt']\n",
      "2022-03-18 15:11:43.610122 starting: loading list-style freyberg6_template\\freyberg6.wel_stress_period_data_16.txt\n",
      "2022-03-18 15:11:43.610122 starting: reading list-style file: freyberg6_template\\freyberg6.wel_stress_period_data_16.txt\n",
      "2022-03-18 15:11:43.612115 finished: reading list-style file: freyberg6_template\\freyberg6.wel_stress_period_data_16.txt took: 0:00:00.001993\n",
      "2022-03-18 15:11:43.612115 loaded list-style 'freyberg6_template\\freyberg6.wel_stress_period_data_16.txt' of shape (6, 4)\n",
      "2022-03-18 15:11:43.613115 finished: loading list-style freyberg6_template\\freyberg6.wel_stress_period_data_16.txt took: 0:00:00.002993\n",
      "2022-03-18 15:11:43.613115 starting: writing list-style template file 'freyberg6_template\\wel_grd_inst7_grid.csv.tpl'\n",
      "2022-03-18 15:11:43.627042 finished: writing list-style template file 'freyberg6_template\\wel_grd_inst7_grid.csv.tpl' took: 0:00:00.013927\n",
      "2022-03-18 15:11:43.636019 finished: adding grid type m style parameters for file(s) ['freyberg6.wel_stress_period_data_16.txt'] took: 0:00:00.025897\n"
     ]
    },
    {
     "name": "stdout",
     "output_type": "stream",
     "text": [
      "2022-03-18 15:11:43.636019 starting: adding constant type m style parameters for file(s) ['freyberg6.wel_stress_period_data_17.txt']\n",
      "2022-03-18 15:11:43.637052 starting: loading list-style freyberg6_template\\freyberg6.wel_stress_period_data_17.txt\n",
      "2022-03-18 15:11:43.637052 starting: reading list-style file: freyberg6_template\\freyberg6.wel_stress_period_data_17.txt\n",
      "2022-03-18 15:11:43.639049 finished: reading list-style file: freyberg6_template\\freyberg6.wel_stress_period_data_17.txt took: 0:00:00.001997\n",
      "2022-03-18 15:11:43.640060 loaded list-style 'freyberg6_template\\freyberg6.wel_stress_period_data_17.txt' of shape (6, 4)\n",
      "2022-03-18 15:11:43.641005 finished: loading list-style freyberg6_template\\freyberg6.wel_stress_period_data_17.txt took: 0:00:00.003953\n",
      "2022-03-18 15:11:43.641005 starting: writing list-style template file 'freyberg6_template\\wel_cst_inst8_constant.csv.tpl'\n",
      "2022-03-18 15:11:43.654983 finished: writing list-style template file 'freyberg6_template\\wel_cst_inst8_constant.csv.tpl' took: 0:00:00.013978\n",
      "2022-03-18 15:11:43.662981 finished: adding constant type m style parameters for file(s) ['freyberg6.wel_stress_period_data_17.txt'] took: 0:00:00.026962\n",
      "2022-03-18 15:11:43.662981 starting: adding grid type m style parameters for file(s) ['freyberg6.wel_stress_period_data_17.txt']\n",
      "2022-03-18 15:11:43.662981 starting: loading list-style freyberg6_template\\freyberg6.wel_stress_period_data_17.txt\n"
     ]
    },
    {
     "name": "stdout",
     "output_type": "stream",
     "text": [
      "2022-03-18 15:11:43.663944 starting: reading list-style file: freyberg6_template\\freyberg6.wel_stress_period_data_17.txt\n",
      "2022-03-18 15:11:43.665939 finished: reading list-style file: freyberg6_template\\freyberg6.wel_stress_period_data_17.txt took: 0:00:00.001995\n",
      "2022-03-18 15:11:43.665939 loaded list-style 'freyberg6_template\\freyberg6.wel_stress_period_data_17.txt' of shape (6, 4)\n",
      "2022-03-18 15:11:43.666961 finished: loading list-style freyberg6_template\\freyberg6.wel_stress_period_data_17.txt took: 0:00:00.003980\n",
      "2022-03-18 15:11:43.666961 starting: writing list-style template file 'freyberg6_template\\wel_grd_inst8_grid.csv.tpl'\n",
      "2022-03-18 15:11:43.680924 finished: writing list-style template file 'freyberg6_template\\wel_grd_inst8_grid.csv.tpl' took: 0:00:00.013963\n",
      "2022-03-18 15:11:43.689915 finished: adding grid type m style parameters for file(s) ['freyberg6.wel_stress_period_data_17.txt'] took: 0:00:00.026934\n",
      "2022-03-18 15:11:43.689915 starting: adding constant type m style parameters for file(s) ['freyberg6.wel_stress_period_data_18.txt']\n",
      "2022-03-18 15:11:43.689915 starting: loading list-style freyberg6_template\\freyberg6.wel_stress_period_data_18.txt\n",
      "2022-03-18 15:11:43.690905 starting: reading list-style file: freyberg6_template\\freyberg6.wel_stress_period_data_18.txt\n",
      "2022-03-18 15:11:43.692902 finished: reading list-style file: freyberg6_template\\freyberg6.wel_stress_period_data_18.txt took: 0:00:00.001997\n",
      "2022-03-18 15:11:43.692902 loaded list-style 'freyberg6_template\\freyberg6.wel_stress_period_data_18.txt' of shape (6, 4)\n",
      "2022-03-18 15:11:43.693864 finished: loading list-style freyberg6_template\\freyberg6.wel_stress_period_data_18.txt took: 0:00:00.003949\n",
      "2022-03-18 15:11:43.693864 starting: writing list-style template file 'freyberg6_template\\wel_cst_inst9_constant.csv.tpl'\n",
      "2022-03-18 15:11:43.707827 finished: writing list-style template file 'freyberg6_template\\wel_cst_inst9_constant.csv.tpl' took: 0:00:00.013963\n",
      "2022-03-18 15:11:43.715837 finished: adding constant type m style parameters for file(s) ['freyberg6.wel_stress_period_data_18.txt'] took: 0:00:00.025922\n",
      "2022-03-18 15:11:43.715837 starting: adding grid type m style parameters for file(s) ['freyberg6.wel_stress_period_data_18.txt']\n",
      "2022-03-18 15:11:43.715837 starting: loading list-style freyberg6_template\\freyberg6.wel_stress_period_data_18.txt\n",
      "2022-03-18 15:11:43.716804 starting: reading list-style file: freyberg6_template\\freyberg6.wel_stress_period_data_18.txt\n",
      "2022-03-18 15:11:43.717801 finished: reading list-style file: freyberg6_template\\freyberg6.wel_stress_period_data_18.txt took: 0:00:00.000997\n",
      "2022-03-18 15:11:43.717801 loaded list-style 'freyberg6_template\\freyberg6.wel_stress_period_data_18.txt' of shape (6, 4)\n",
      "2022-03-18 15:11:43.719828 finished: loading list-style freyberg6_template\\freyberg6.wel_stress_period_data_18.txt took: 0:00:00.003991\n",
      "2022-03-18 15:11:43.719828 starting: writing list-style template file 'freyberg6_template\\wel_grd_inst9_grid.csv.tpl'\n",
      "2022-03-18 15:11:43.732759 finished: writing list-style template file 'freyberg6_template\\wel_grd_inst9_grid.csv.tpl' took: 0:00:00.012931\n",
      "2022-03-18 15:11:43.741736 finished: adding grid type m style parameters for file(s) ['freyberg6.wel_stress_period_data_18.txt'] took: 0:00:00.025899\n",
      "2022-03-18 15:11:43.742733 starting: adding constant type m style parameters for file(s) ['freyberg6.wel_stress_period_data_19.txt']\n",
      "2022-03-18 15:11:43.742733 starting: loading list-style freyberg6_template\\freyberg6.wel_stress_period_data_19.txt\n",
      "2022-03-18 15:11:43.742733 starting: reading list-style file: freyberg6_template\\freyberg6.wel_stress_period_data_19.txt\n",
      "2022-03-18 15:11:43.744728 finished: reading list-style file: freyberg6_template\\freyberg6.wel_stress_period_data_19.txt took: 0:00:00.001995\n",
      "2022-03-18 15:11:43.745725 loaded list-style 'freyberg6_template\\freyberg6.wel_stress_period_data_19.txt' of shape (6, 4)\n",
      "2022-03-18 15:11:43.746722 finished: loading list-style freyberg6_template\\freyberg6.wel_stress_period_data_19.txt took: 0:00:00.003989\n",
      "2022-03-18 15:11:43.746722 starting: writing list-style template file 'freyberg6_template\\wel_cst_inst10_constant.csv.tpl'\n",
      "2022-03-18 15:11:43.761682 finished: writing list-style template file 'freyberg6_template\\wel_cst_inst10_constant.csv.tpl' took: 0:00:00.014960\n"
     ]
    },
    {
     "name": "stdout",
     "output_type": "stream",
     "text": [
      "2022-03-18 15:11:43.770659 finished: adding constant type m style parameters for file(s) ['freyberg6.wel_stress_period_data_19.txt'] took: 0:00:00.027926\n",
      "2022-03-18 15:11:43.771656 starting: adding grid type m style parameters for file(s) ['freyberg6.wel_stress_period_data_19.txt']\n",
      "2022-03-18 15:11:43.771656 starting: loading list-style freyberg6_template\\freyberg6.wel_stress_period_data_19.txt\n",
      "2022-03-18 15:11:43.771656 starting: reading list-style file: freyberg6_template\\freyberg6.wel_stress_period_data_19.txt\n",
      "2022-03-18 15:11:43.773651 finished: reading list-style file: freyberg6_template\\freyberg6.wel_stress_period_data_19.txt took: 0:00:00.001995\n",
      "2022-03-18 15:11:43.773651 loaded list-style 'freyberg6_template\\freyberg6.wel_stress_period_data_19.txt' of shape (6, 4)\n",
      "2022-03-18 15:11:43.774648 finished: loading list-style freyberg6_template\\freyberg6.wel_stress_period_data_19.txt took: 0:00:00.002992\n",
      "2022-03-18 15:11:43.774648 starting: writing list-style template file 'freyberg6_template\\wel_grd_inst10_grid.csv.tpl'\n",
      "2022-03-18 15:11:43.788611 finished: writing list-style template file 'freyberg6_template\\wel_grd_inst10_grid.csv.tpl' took: 0:00:00.013963\n"
     ]
    },
    {
     "name": "stdout",
     "output_type": "stream",
     "text": [
      "2022-03-18 15:11:43.798583 finished: adding grid type m style parameters for file(s) ['freyberg6.wel_stress_period_data_19.txt'] took: 0:00:00.026927\n",
      "2022-03-18 15:11:43.798583 starting: adding constant type m style parameters for file(s) ['freyberg6.wel_stress_period_data_2.txt']\n",
      "2022-03-18 15:11:43.798583 starting: loading list-style freyberg6_template\\freyberg6.wel_stress_period_data_2.txt\n",
      "2022-03-18 15:11:43.799581 starting: reading list-style file: freyberg6_template\\freyberg6.wel_stress_period_data_2.txt\n",
      "2022-03-18 15:11:43.801576 finished: reading list-style file: freyberg6_template\\freyberg6.wel_stress_period_data_2.txt took: 0:00:00.001995\n",
      "2022-03-18 15:11:43.802572 loaded list-style 'freyberg6_template\\freyberg6.wel_stress_period_data_2.txt' of shape (6, 4)\n",
      "2022-03-18 15:11:43.803570 finished: loading list-style freyberg6_template\\freyberg6.wel_stress_period_data_2.txt took: 0:00:00.004987\n",
      "2022-03-18 15:11:43.803570 starting: writing list-style template file 'freyberg6_template\\wel_cst_inst11_constant.csv.tpl'\n",
      "2022-03-18 15:11:43.816536 finished: writing list-style template file 'freyberg6_template\\wel_cst_inst11_constant.csv.tpl' took: 0:00:00.012966\n"
     ]
    },
    {
     "name": "stdout",
     "output_type": "stream",
     "text": [
      "2022-03-18 15:11:43.825512 finished: adding constant type m style parameters for file(s) ['freyberg6.wel_stress_period_data_2.txt'] took: 0:00:00.026929\n",
      "2022-03-18 15:11:43.825512 starting: adding grid type m style parameters for file(s) ['freyberg6.wel_stress_period_data_2.txt']\n",
      "2022-03-18 15:11:43.826509 starting: loading list-style freyberg6_template\\freyberg6.wel_stress_period_data_2.txt\n",
      "2022-03-18 15:11:43.826509 starting: reading list-style file: freyberg6_template\\freyberg6.wel_stress_period_data_2.txt\n",
      "2022-03-18 15:11:43.828504 finished: reading list-style file: freyberg6_template\\freyberg6.wel_stress_period_data_2.txt took: 0:00:00.001995\n",
      "2022-03-18 15:11:43.828504 loaded list-style 'freyberg6_template\\freyberg6.wel_stress_period_data_2.txt' of shape (6, 4)\n",
      "2022-03-18 15:11:43.829500 finished: loading list-style freyberg6_template\\freyberg6.wel_stress_period_data_2.txt took: 0:00:00.002991\n",
      "2022-03-18 15:11:43.829500 starting: writing list-style template file 'freyberg6_template\\wel_grd_inst11_grid.csv.tpl'\n",
      "2022-03-18 15:11:43.843463 finished: writing list-style template file 'freyberg6_template\\wel_grd_inst11_grid.csv.tpl' took: 0:00:00.013963\n"
     ]
    },
    {
     "name": "stdout",
     "output_type": "stream",
     "text": [
      "2022-03-18 15:11:43.852556 finished: adding grid type m style parameters for file(s) ['freyberg6.wel_stress_period_data_2.txt'] took: 0:00:00.027044\n",
      "2022-03-18 15:11:43.853437 starting: adding constant type m style parameters for file(s) ['freyberg6.wel_stress_period_data_20.txt']\n",
      "2022-03-18 15:11:43.853437 starting: loading list-style freyberg6_template\\freyberg6.wel_stress_period_data_20.txt\n",
      "2022-03-18 15:11:43.853437 starting: reading list-style file: freyberg6_template\\freyberg6.wel_stress_period_data_20.txt\n",
      "2022-03-18 15:11:43.856430 finished: reading list-style file: freyberg6_template\\freyberg6.wel_stress_period_data_20.txt took: 0:00:00.002993\n",
      "2022-03-18 15:11:43.856430 loaded list-style 'freyberg6_template\\freyberg6.wel_stress_period_data_20.txt' of shape (6, 4)\n",
      "2022-03-18 15:11:43.858424 finished: loading list-style freyberg6_template\\freyberg6.wel_stress_period_data_20.txt took: 0:00:00.004987\n",
      "2022-03-18 15:11:43.858424 starting: writing list-style template file 'freyberg6_template\\wel_cst_inst12_constant.csv.tpl'\n",
      "2022-03-18 15:11:43.872387 finished: writing list-style template file 'freyberg6_template\\wel_cst_inst12_constant.csv.tpl' took: 0:00:00.013963\n",
      "2022-03-18 15:11:43.883357 finished: adding constant type m style parameters for file(s) ['freyberg6.wel_stress_period_data_20.txt'] took: 0:00:00.029920\n",
      "2022-03-18 15:11:43.884354 starting: adding grid type m style parameters for file(s) ['freyberg6.wel_stress_period_data_20.txt']\n",
      "2022-03-18 15:11:43.884354 starting: loading list-style freyberg6_template\\freyberg6.wel_stress_period_data_20.txt\n",
      "2022-03-18 15:11:43.884354 starting: reading list-style file: freyberg6_template\\freyberg6.wel_stress_period_data_20.txt\n",
      "2022-03-18 15:11:43.886349 finished: reading list-style file: freyberg6_template\\freyberg6.wel_stress_period_data_20.txt took: 0:00:00.001995\n",
      "2022-03-18 15:11:43.886968 loaded list-style 'freyberg6_template\\freyberg6.wel_stress_period_data_20.txt' of shape (6, 4)\n",
      "2022-03-18 15:11:43.887959 finished: loading list-style freyberg6_template\\freyberg6.wel_stress_period_data_20.txt took: 0:00:00.003605\n",
      "2022-03-18 15:11:43.887959 starting: writing list-style template file 'freyberg6_template\\wel_grd_inst12_grid.csv.tpl'\n",
      "2022-03-18 15:11:43.901922 finished: writing list-style template file 'freyberg6_template\\wel_grd_inst12_grid.csv.tpl' took: 0:00:00.013963\n",
      "2022-03-18 15:11:43.910897 finished: adding grid type m style parameters for file(s) ['freyberg6.wel_stress_period_data_20.txt'] took: 0:00:00.026543\n",
      "2022-03-18 15:11:43.910897 starting: adding constant type m style parameters for file(s) ['freyberg6.wel_stress_period_data_21.txt']\n",
      "2022-03-18 15:11:43.910897 starting: loading list-style freyberg6_template\\freyberg6.wel_stress_period_data_21.txt\n",
      "2022-03-18 15:11:43.910897 starting: reading list-style file: freyberg6_template\\freyberg6.wel_stress_period_data_21.txt\n",
      "2022-03-18 15:11:43.913890 finished: reading list-style file: freyberg6_template\\freyberg6.wel_stress_period_data_21.txt took: 0:00:00.002993\n",
      "2022-03-18 15:11:43.913890 loaded list-style 'freyberg6_template\\freyberg6.wel_stress_period_data_21.txt' of shape (6, 4)\n",
      "2022-03-18 15:11:43.914886 finished: loading list-style freyberg6_template\\freyberg6.wel_stress_period_data_21.txt took: 0:00:00.003989\n",
      "2022-03-18 15:11:43.914886 starting: writing list-style template file 'freyberg6_template\\wel_cst_inst13_constant.csv.tpl'\n",
      "2022-03-18 15:11:43.928849 finished: writing list-style template file 'freyberg6_template\\wel_cst_inst13_constant.csv.tpl' took: 0:00:00.013963\n",
      "2022-03-18 15:11:43.937825 finished: adding constant type m style parameters for file(s) ['freyberg6.wel_stress_period_data_21.txt'] took: 0:00:00.026928\n",
      "2022-03-18 15:11:43.937825 starting: adding grid type m style parameters for file(s) ['freyberg6.wel_stress_period_data_21.txt']\n",
      "2022-03-18 15:11:43.937825 starting: loading list-style freyberg6_template\\freyberg6.wel_stress_period_data_21.txt\n",
      "2022-03-18 15:11:43.938823 starting: reading list-style file: freyberg6_template\\freyberg6.wel_stress_period_data_21.txt\n",
      "2022-03-18 15:11:43.939821 finished: reading list-style file: freyberg6_template\\freyberg6.wel_stress_period_data_21.txt took: 0:00:00.000998\n",
      "2022-03-18 15:11:43.940818 loaded list-style 'freyberg6_template\\freyberg6.wel_stress_period_data_21.txt' of shape (6, 4)\n",
      "2022-03-18 15:11:43.941814 finished: loading list-style freyberg6_template\\freyberg6.wel_stress_period_data_21.txt took: 0:00:00.003989\n",
      "2022-03-18 15:11:43.941814 starting: writing list-style template file 'freyberg6_template\\wel_grd_inst13_grid.csv.tpl'\n",
      "2022-03-18 15:11:43.954780 finished: writing list-style template file 'freyberg6_template\\wel_grd_inst13_grid.csv.tpl' took: 0:00:00.012966\n"
     ]
    },
    {
     "name": "stdout",
     "output_type": "stream",
     "text": [
      "2022-03-18 15:11:43.964753 finished: adding grid type m style parameters for file(s) ['freyberg6.wel_stress_period_data_21.txt'] took: 0:00:00.026928\n",
      "2022-03-18 15:11:43.964753 starting: adding constant type m style parameters for file(s) ['freyberg6.wel_stress_period_data_22.txt']\n",
      "2022-03-18 15:11:43.965751 starting: loading list-style freyberg6_template\\freyberg6.wel_stress_period_data_22.txt\n",
      "2022-03-18 15:11:43.965751 starting: reading list-style file: freyberg6_template\\freyberg6.wel_stress_period_data_22.txt\n",
      "2022-03-18 15:11:43.967746 finished: reading list-style file: freyberg6_template\\freyberg6.wel_stress_period_data_22.txt took: 0:00:00.001995\n",
      "2022-03-18 15:11:43.967746 loaded list-style 'freyberg6_template\\freyberg6.wel_stress_period_data_22.txt' of shape (6, 4)\n",
      "2022-03-18 15:11:43.969740 finished: loading list-style freyberg6_template\\freyberg6.wel_stress_period_data_22.txt took: 0:00:00.003989\n",
      "2022-03-18 15:11:43.969740 starting: writing list-style template file 'freyberg6_template\\wel_cst_inst14_constant.csv.tpl'\n",
      "2022-03-18 15:11:43.983703 finished: writing list-style template file 'freyberg6_template\\wel_cst_inst14_constant.csv.tpl' took: 0:00:00.013963\n"
     ]
    },
    {
     "name": "stdout",
     "output_type": "stream",
     "text": [
      "2022-03-18 15:11:43.992350 finished: adding constant type m style parameters for file(s) ['freyberg6.wel_stress_period_data_22.txt'] took: 0:00:00.027597\n",
      "2022-03-18 15:11:43.992350 starting: adding grid type m style parameters for file(s) ['freyberg6.wel_stress_period_data_22.txt']\n",
      "2022-03-18 15:11:43.993348 starting: loading list-style freyberg6_template\\freyberg6.wel_stress_period_data_22.txt\n",
      "2022-03-18 15:11:43.993348 starting: reading list-style file: freyberg6_template\\freyberg6.wel_stress_period_data_22.txt\n",
      "2022-03-18 15:11:43.995343 finished: reading list-style file: freyberg6_template\\freyberg6.wel_stress_period_data_22.txt took: 0:00:00.001995\n",
      "2022-03-18 15:11:43.995343 loaded list-style 'freyberg6_template\\freyberg6.wel_stress_period_data_22.txt' of shape (6, 4)\n",
      "2022-03-18 15:11:43.996340 finished: loading list-style freyberg6_template\\freyberg6.wel_stress_period_data_22.txt took: 0:00:00.002992\n",
      "2022-03-18 15:11:43.996340 starting: writing list-style template file 'freyberg6_template\\wel_grd_inst14_grid.csv.tpl'\n",
      "2022-03-18 15:11:44.011334 finished: writing list-style template file 'freyberg6_template\\wel_grd_inst14_grid.csv.tpl' took: 0:00:00.014994\n",
      "2022-03-18 15:11:44.020309 finished: adding grid type m style parameters for file(s) ['freyberg6.wel_stress_period_data_22.txt'] took: 0:00:00.027959\n"
     ]
    },
    {
     "name": "stdout",
     "output_type": "stream",
     "text": [
      "2022-03-18 15:11:44.020309 starting: adding constant type m style parameters for file(s) ['freyberg6.wel_stress_period_data_23.txt']\n",
      "2022-03-18 15:11:44.020309 starting: loading list-style freyberg6_template\\freyberg6.wel_stress_period_data_23.txt\n",
      "2022-03-18 15:11:44.020309 starting: reading list-style file: freyberg6_template\\freyberg6.wel_stress_period_data_23.txt\n",
      "2022-03-18 15:11:44.022271 finished: reading list-style file: freyberg6_template\\freyberg6.wel_stress_period_data_23.txt took: 0:00:00.001962\n",
      "2022-03-18 15:11:44.023314 loaded list-style 'freyberg6_template\\freyberg6.wel_stress_period_data_23.txt' of shape (6, 4)\n",
      "2022-03-18 15:11:44.024265 finished: loading list-style freyberg6_template\\freyberg6.wel_stress_period_data_23.txt took: 0:00:00.003956\n",
      "2022-03-18 15:11:44.024265 starting: writing list-style template file 'freyberg6_template\\wel_cst_inst15_constant.csv.tpl'\n",
      "2022-03-18 15:11:44.037264 finished: writing list-style template file 'freyberg6_template\\wel_cst_inst15_constant.csv.tpl' took: 0:00:00.012999\n"
     ]
    },
    {
     "name": "stdout",
     "output_type": "stream",
     "text": [
      "2022-03-18 15:11:44.045242 finished: adding constant type m style parameters for file(s) ['freyberg6.wel_stress_period_data_23.txt'] took: 0:00:00.024933\n",
      "2022-03-18 15:11:44.046241 starting: adding grid type m style parameters for file(s) ['freyberg6.wel_stress_period_data_23.txt']\n",
      "2022-03-18 15:11:44.046241 starting: loading list-style freyberg6_template\\freyberg6.wel_stress_period_data_23.txt\n",
      "2022-03-18 15:11:44.046241 starting: reading list-style file: freyberg6_template\\freyberg6.wel_stress_period_data_23.txt\n",
      "2022-03-18 15:11:44.048235 finished: reading list-style file: freyberg6_template\\freyberg6.wel_stress_period_data_23.txt took: 0:00:00.001994\n",
      "2022-03-18 15:11:44.048235 loaded list-style 'freyberg6_template\\freyberg6.wel_stress_period_data_23.txt' of shape (6, 4)\n",
      "2022-03-18 15:11:44.049199 finished: loading list-style freyberg6_template\\freyberg6.wel_stress_period_data_23.txt took: 0:00:00.002958\n",
      "2022-03-18 15:11:44.049199 starting: writing list-style template file 'freyberg6_template\\wel_grd_inst15_grid.csv.tpl'\n",
      "2022-03-18 15:11:44.063161 finished: writing list-style template file 'freyberg6_template\\wel_grd_inst15_grid.csv.tpl' took: 0:00:00.013962\n",
      "2022-03-18 15:11:44.072139 finished: adding grid type m style parameters for file(s) ['freyberg6.wel_stress_period_data_23.txt'] took: 0:00:00.025898\n",
      "2022-03-18 15:11:44.072139 starting: adding constant type m style parameters for file(s) ['freyberg6.wel_stress_period_data_24.txt']\n",
      "2022-03-18 15:11:44.072139 starting: loading list-style freyberg6_template\\freyberg6.wel_stress_period_data_24.txt\n",
      "2022-03-18 15:11:44.073136 starting: reading list-style file: freyberg6_template\\freyberg6.wel_stress_period_data_24.txt\n",
      "2022-03-18 15:11:44.075133 finished: reading list-style file: freyberg6_template\\freyberg6.wel_stress_period_data_24.txt took: 0:00:00.001997\n",
      "2022-03-18 15:11:44.075133 loaded list-style 'freyberg6_template\\freyberg6.wel_stress_period_data_24.txt' of shape (6, 4)\n",
      "2022-03-18 15:11:44.076168 finished: loading list-style freyberg6_template\\freyberg6.wel_stress_period_data_24.txt took: 0:00:00.004029\n",
      "2022-03-18 15:11:44.077125 starting: writing list-style template file 'freyberg6_template\\wel_cst_inst16_constant.csv.tpl'\n",
      "2022-03-18 15:11:44.090123 finished: writing list-style template file 'freyberg6_template\\wel_cst_inst16_constant.csv.tpl' took: 0:00:00.012998\n",
      "2022-03-18 15:11:44.099089 finished: adding constant type m style parameters for file(s) ['freyberg6.wel_stress_period_data_24.txt'] took: 0:00:00.026950\n",
      "2022-03-18 15:11:44.099089 starting: adding grid type m style parameters for file(s) ['freyberg6.wel_stress_period_data_24.txt']\n",
      "2022-03-18 15:11:44.099089 starting: loading list-style freyberg6_template\\freyberg6.wel_stress_period_data_24.txt\n",
      "2022-03-18 15:11:44.099089 starting: reading list-style file: freyberg6_template\\freyberg6.wel_stress_period_data_24.txt\n",
      "2022-03-18 15:11:44.101094 finished: reading list-style file: freyberg6_template\\freyberg6.wel_stress_period_data_24.txt took: 0:00:00.002005\n",
      "2022-03-18 15:11:44.101094 loaded list-style 'freyberg6_template\\freyberg6.wel_stress_period_data_24.txt' of shape (6, 4)\n",
      "2022-03-18 15:11:44.102091 finished: loading list-style freyberg6_template\\freyberg6.wel_stress_period_data_24.txt took: 0:00:00.003002\n",
      "2022-03-18 15:11:44.103055 starting: writing list-style template file 'freyberg6_template\\wel_grd_inst16_grid.csv.tpl'\n",
      "2022-03-18 15:11:44.116055 finished: writing list-style template file 'freyberg6_template\\wel_grd_inst16_grid.csv.tpl' took: 0:00:00.013000\n",
      "2022-03-18 15:11:44.125029 finished: adding grid type m style parameters for file(s) ['freyberg6.wel_stress_period_data_24.txt'] took: 0:00:00.025940\n",
      "2022-03-18 15:11:44.125029 starting: adding constant type m style parameters for file(s) ['freyberg6.wel_stress_period_data_25.txt']\n",
      "2022-03-18 15:11:44.125029 starting: loading list-style freyberg6_template\\freyberg6.wel_stress_period_data_25.txt\n",
      "2022-03-18 15:11:44.126031 starting: reading list-style file: freyberg6_template\\freyberg6.wel_stress_period_data_25.txt\n",
      "2022-03-18 15:11:44.128020 finished: reading list-style file: freyberg6_template\\freyberg6.wel_stress_period_data_25.txt took: 0:00:00.001989\n",
      "2022-03-18 15:11:44.128020 loaded list-style 'freyberg6_template\\freyberg6.wel_stress_period_data_25.txt' of shape (6, 4)\n",
      "2022-03-18 15:11:44.128986 finished: loading list-style freyberg6_template\\freyberg6.wel_stress_period_data_25.txt took: 0:00:00.003957\n",
      "2022-03-18 15:11:44.128986 starting: writing list-style template file 'freyberg6_template\\wel_cst_inst17_constant.csv.tpl'\n",
      "2022-03-18 15:11:44.141951 finished: writing list-style template file 'freyberg6_template\\wel_cst_inst17_constant.csv.tpl' took: 0:00:00.012965\n"
     ]
    },
    {
     "name": "stdout",
     "output_type": "stream",
     "text": [
      "2022-03-18 15:11:44.150961 finished: adding constant type m style parameters for file(s) ['freyberg6.wel_stress_period_data_25.txt'] took: 0:00:00.025932\n",
      "2022-03-18 15:11:44.150961 starting: adding grid type m style parameters for file(s) ['freyberg6.wel_stress_period_data_25.txt']\n",
      "2022-03-18 15:11:44.150961 starting: loading list-style freyberg6_template\\freyberg6.wel_stress_period_data_25.txt\n",
      "2022-03-18 15:11:44.150961 starting: reading list-style file: freyberg6_template\\freyberg6.wel_stress_period_data_25.txt\n",
      "2022-03-18 15:11:44.153952 finished: reading list-style file: freyberg6_template\\freyberg6.wel_stress_period_data_25.txt took: 0:00:00.002991\n",
      "2022-03-18 15:11:44.153952 loaded list-style 'freyberg6_template\\freyberg6.wel_stress_period_data_25.txt' of shape (6, 4)\n",
      "2022-03-18 15:11:44.154948 finished: loading list-style freyberg6_template\\freyberg6.wel_stress_period_data_25.txt took: 0:00:00.003987\n",
      "2022-03-18 15:11:44.154948 starting: writing list-style template file 'freyberg6_template\\wel_grd_inst17_grid.csv.tpl'\n",
      "2022-03-18 15:11:44.169253 finished: writing list-style template file 'freyberg6_template\\wel_grd_inst17_grid.csv.tpl' took: 0:00:00.014305\n",
      "2022-03-18 15:11:44.176857 finished: adding grid type m style parameters for file(s) ['freyberg6.wel_stress_period_data_25.txt'] took: 0:00:00.025896\n"
     ]
    },
    {
     "name": "stdout",
     "output_type": "stream",
     "text": [
      "2022-03-18 15:11:44.177888 starting: adding constant type m style parameters for file(s) ['freyberg6.wel_stress_period_data_3.txt']\n",
      "2022-03-18 15:11:44.177888 starting: loading list-style freyberg6_template\\freyberg6.wel_stress_period_data_3.txt\n",
      "2022-03-18 15:11:44.177888 starting: reading list-style file: freyberg6_template\\freyberg6.wel_stress_period_data_3.txt\n",
      "2022-03-18 15:11:44.179882 finished: reading list-style file: freyberg6_template\\freyberg6.wel_stress_period_data_3.txt took: 0:00:00.001994\n",
      "2022-03-18 15:11:44.179882 loaded list-style 'freyberg6_template\\freyberg6.wel_stress_period_data_3.txt' of shape (6, 4)\n",
      "2022-03-18 15:11:44.180879 finished: loading list-style freyberg6_template\\freyberg6.wel_stress_period_data_3.txt took: 0:00:00.002991\n",
      "2022-03-18 15:11:44.180879 starting: writing list-style template file 'freyberg6_template\\wel_cst_inst18_constant.csv.tpl'\n",
      "2022-03-18 15:11:44.193868 finished: writing list-style template file 'freyberg6_template\\wel_cst_inst18_constant.csv.tpl' took: 0:00:00.012989\n",
      "2022-03-18 15:11:44.203896 finished: adding constant type m style parameters for file(s) ['freyberg6.wel_stress_period_data_3.txt'] took: 0:00:00.026008\n",
      "2022-03-18 15:11:44.203896 starting: adding grid type m style parameters for file(s) ['freyberg6.wel_stress_period_data_3.txt']\n",
      "2022-03-18 15:11:44.203896 starting: loading list-style freyberg6_template\\freyberg6.wel_stress_period_data_3.txt\n",
      "2022-03-18 15:11:44.203896 starting: reading list-style file: freyberg6_template\\freyberg6.wel_stress_period_data_3.txt\n",
      "2022-03-18 15:11:44.205838 finished: reading list-style file: freyberg6_template\\freyberg6.wel_stress_period_data_3.txt took: 0:00:00.001942\n",
      "2022-03-18 15:11:44.205838 loaded list-style 'freyberg6_template\\freyberg6.wel_stress_period_data_3.txt' of shape (6, 4)\n"
     ]
    },
    {
     "name": "stdout",
     "output_type": "stream",
     "text": [
      "2022-03-18 15:11:44.206866 finished: loading list-style freyberg6_template\\freyberg6.wel_stress_period_data_3.txt took: 0:00:00.002970\n",
      "2022-03-18 15:11:44.206866 starting: writing list-style template file 'freyberg6_template\\wel_grd_inst18_grid.csv.tpl'\n",
      "2022-03-18 15:11:44.220828 finished: writing list-style template file 'freyberg6_template\\wel_grd_inst18_grid.csv.tpl' took: 0:00:00.013962\n",
      "2022-03-18 15:11:44.228829 finished: adding grid type m style parameters for file(s) ['freyberg6.wel_stress_period_data_3.txt'] took: 0:00:00.024933\n"
     ]
    },
    {
     "name": "stdout",
     "output_type": "stream",
     "text": [
      "2022-03-18 15:11:44.228829 starting: adding constant type m style parameters for file(s) ['freyberg6.wel_stress_period_data_4.txt']\n",
      "2022-03-18 15:11:44.228829 starting: loading list-style freyberg6_template\\freyberg6.wel_stress_period_data_4.txt\n",
      "2022-03-18 15:11:44.229824 starting: reading list-style file: freyberg6_template\\freyberg6.wel_stress_period_data_4.txt\n",
      "2022-03-18 15:11:44.231820 finished: reading list-style file: freyberg6_template\\freyberg6.wel_stress_period_data_4.txt took: 0:00:00.001996\n",
      "2022-03-18 15:11:44.231820 loaded list-style 'freyberg6_template\\freyberg6.wel_stress_period_data_4.txt' of shape (6, 4)\n",
      "2022-03-18 15:11:44.232770 finished: loading list-style freyberg6_template\\freyberg6.wel_stress_period_data_4.txt took: 0:00:00.003941\n",
      "2022-03-18 15:11:44.232770 starting: writing list-style template file 'freyberg6_template\\wel_cst_inst19_constant.csv.tpl'\n",
      "2022-03-18 15:11:44.245728 finished: writing list-style template file 'freyberg6_template\\wel_cst_inst19_constant.csv.tpl' took: 0:00:00.012958\n",
      "2022-03-18 15:11:44.254705 finished: adding constant type m style parameters for file(s) ['freyberg6.wel_stress_period_data_4.txt'] took: 0:00:00.025876\n",
      "2022-03-18 15:11:44.255703 starting: adding grid type m style parameters for file(s) ['freyberg6.wel_stress_period_data_4.txt']\n",
      "2022-03-18 15:11:44.255703 starting: loading list-style freyberg6_template\\freyberg6.wel_stress_period_data_4.txt\n",
      "2022-03-18 15:11:44.255703 starting: reading list-style file: freyberg6_template\\freyberg6.wel_stress_period_data_4.txt\n",
      "2022-03-18 15:11:44.257697 finished: reading list-style file: freyberg6_template\\freyberg6.wel_stress_period_data_4.txt took: 0:00:00.001994\n",
      "2022-03-18 15:11:44.257697 loaded list-style 'freyberg6_template\\freyberg6.wel_stress_period_data_4.txt' of shape (6, 4)\n",
      "2022-03-18 15:11:44.258694 finished: loading list-style freyberg6_template\\freyberg6.wel_stress_period_data_4.txt took: 0:00:00.002991\n",
      "2022-03-18 15:11:44.258694 starting: writing list-style template file 'freyberg6_template\\wel_grd_inst19_grid.csv.tpl'\n",
      "2022-03-18 15:11:44.272658 finished: writing list-style template file 'freyberg6_template\\wel_grd_inst19_grid.csv.tpl' took: 0:00:00.013964\n",
      "2022-03-18 15:11:44.281688 finished: adding grid type m style parameters for file(s) ['freyberg6.wel_stress_period_data_4.txt'] took: 0:00:00.025985\n",
      "2022-03-18 15:11:44.281688 starting: adding constant type m style parameters for file(s) ['freyberg6.wel_stress_period_data_5.txt']\n",
      "2022-03-18 15:11:44.282682 starting: loading list-style freyberg6_template\\freyberg6.wel_stress_period_data_5.txt\n",
      "2022-03-18 15:11:44.282682 starting: reading list-style file: freyberg6_template\\freyberg6.wel_stress_period_data_5.txt\n",
      "2022-03-18 15:11:44.284680 finished: reading list-style file: freyberg6_template\\freyberg6.wel_stress_period_data_5.txt took: 0:00:00.001998\n",
      "2022-03-18 15:11:44.284680 loaded list-style 'freyberg6_template\\freyberg6.wel_stress_period_data_5.txt' of shape (6, 4)\n",
      "2022-03-18 15:11:44.285916 finished: loading list-style freyberg6_template\\freyberg6.wel_stress_period_data_5.txt took: 0:00:00.003234\n",
      "2022-03-18 15:11:44.285916 starting: writing list-style template file 'freyberg6_template\\wel_cst_inst20_constant.csv.tpl'\n",
      "2022-03-18 15:11:44.298642 finished: writing list-style template file 'freyberg6_template\\wel_cst_inst20_constant.csv.tpl' took: 0:00:00.012726\n",
      "2022-03-18 15:11:44.307672 finished: adding constant type m style parameters for file(s) ['freyberg6.wel_stress_period_data_5.txt'] took: 0:00:00.025984\n",
      "2022-03-18 15:11:44.308668 starting: adding grid type m style parameters for file(s) ['freyberg6.wel_stress_period_data_5.txt']\n",
      "2022-03-18 15:11:44.308668 starting: loading list-style freyberg6_template\\freyberg6.wel_stress_period_data_5.txt\n",
      "2022-03-18 15:11:44.308668 starting: reading list-style file: freyberg6_template\\freyberg6.wel_stress_period_data_5.txt\n",
      "2022-03-18 15:11:44.309667 finished: reading list-style file: freyberg6_template\\freyberg6.wel_stress_period_data_5.txt took: 0:00:00.000999\n",
      "2022-03-18 15:11:44.310664 loaded list-style 'freyberg6_template\\freyberg6.wel_stress_period_data_5.txt' of shape (6, 4)\n",
      "2022-03-18 15:11:44.310664 finished: loading list-style freyberg6_template\\freyberg6.wel_stress_period_data_5.txt took: 0:00:00.001996\n",
      "2022-03-18 15:11:44.311608 starting: writing list-style template file 'freyberg6_template\\wel_grd_inst20_grid.csv.tpl'\n",
      "2022-03-18 15:11:44.325605 finished: writing list-style template file 'freyberg6_template\\wel_grd_inst20_grid.csv.tpl' took: 0:00:00.013997\n",
      "2022-03-18 15:11:44.333603 finished: adding grid type m style parameters for file(s) ['freyberg6.wel_stress_period_data_5.txt'] took: 0:00:00.024935\n"
     ]
    },
    {
     "name": "stdout",
     "output_type": "stream",
     "text": [
      "2022-03-18 15:11:44.334599 starting: adding constant type m style parameters for file(s) ['freyberg6.wel_stress_period_data_6.txt']\n",
      "2022-03-18 15:11:44.334599 starting: loading list-style freyberg6_template\\freyberg6.wel_stress_period_data_6.txt\n",
      "2022-03-18 15:11:44.334599 starting: reading list-style file: freyberg6_template\\freyberg6.wel_stress_period_data_6.txt\n",
      "2022-03-18 15:11:44.337572 finished: reading list-style file: freyberg6_template\\freyberg6.wel_stress_period_data_6.txt took: 0:00:00.002973\n",
      "2022-03-18 15:11:44.337572 loaded list-style 'freyberg6_template\\freyberg6.wel_stress_period_data_6.txt' of shape (6, 4)\n",
      "2022-03-18 15:11:44.339535 finished: loading list-style freyberg6_template\\freyberg6.wel_stress_period_data_6.txt took: 0:00:00.004936\n",
      "2022-03-18 15:11:44.339535 starting: writing list-style template file 'freyberg6_template\\wel_cst_inst21_constant.csv.tpl'\n",
      "2022-03-18 15:11:44.353521 finished: writing list-style template file 'freyberg6_template\\wel_cst_inst21_constant.csv.tpl' took: 0:00:00.013986\n",
      "2022-03-18 15:11:44.363527 finished: adding constant type m style parameters for file(s) ['freyberg6.wel_stress_period_data_6.txt'] took: 0:00:00.028928\n"
     ]
    },
    {
     "name": "stdout",
     "output_type": "stream",
     "text": [
      "2022-03-18 15:11:44.363527 starting: adding grid type m style parameters for file(s) ['freyberg6.wel_stress_period_data_6.txt']\n",
      "2022-03-18 15:11:44.363527 starting: loading list-style freyberg6_template\\freyberg6.wel_stress_period_data_6.txt\n",
      "2022-03-18 15:11:44.363527 starting: reading list-style file: freyberg6_template\\freyberg6.wel_stress_period_data_6.txt\n",
      "2022-03-18 15:11:44.365463 finished: reading list-style file: freyberg6_template\\freyberg6.wel_stress_period_data_6.txt took: 0:00:00.001936\n",
      "2022-03-18 15:11:44.365463 loaded list-style 'freyberg6_template\\freyberg6.wel_stress_period_data_6.txt' of shape (6, 4)\n",
      "2022-03-18 15:11:44.366493 finished: loading list-style freyberg6_template\\freyberg6.wel_stress_period_data_6.txt took: 0:00:00.002966\n",
      "2022-03-18 15:11:44.366493 starting: writing list-style template file 'freyberg6_template\\wel_grd_inst21_grid.csv.tpl'\n",
      "2022-03-18 15:11:44.380423 finished: writing list-style template file 'freyberg6_template\\wel_grd_inst21_grid.csv.tpl' took: 0:00:00.013930\n",
      "2022-03-18 15:11:44.389401 finished: adding grid type m style parameters for file(s) ['freyberg6.wel_stress_period_data_6.txt'] took: 0:00:00.025874\n",
      "2022-03-18 15:11:44.389401 starting: adding constant type m style parameters for file(s) ['freyberg6.wel_stress_period_data_7.txt']\n",
      "2022-03-18 15:11:44.390432 starting: loading list-style freyberg6_template\\freyberg6.wel_stress_period_data_7.txt\n",
      "2022-03-18 15:11:44.390432 starting: reading list-style file: freyberg6_template\\freyberg6.wel_stress_period_data_7.txt\n",
      "2022-03-18 15:11:44.392443 finished: reading list-style file: freyberg6_template\\freyberg6.wel_stress_period_data_7.txt took: 0:00:00.002011\n",
      "2022-03-18 15:11:44.392443 loaded list-style 'freyberg6_template\\freyberg6.wel_stress_period_data_7.txt' of shape (6, 4)\n",
      "2022-03-18 15:11:44.393393 finished: loading list-style freyberg6_template\\freyberg6.wel_stress_period_data_7.txt took: 0:00:00.002961\n",
      "2022-03-18 15:11:44.393393 starting: writing list-style template file 'freyberg6_template\\wel_cst_inst22_constant.csv.tpl'\n"
     ]
    },
    {
     "name": "stdout",
     "output_type": "stream",
     "text": [
      "2022-03-18 15:11:44.407353 finished: writing list-style template file 'freyberg6_template\\wel_cst_inst22_constant.csv.tpl' took: 0:00:00.013960\n",
      "2022-03-18 15:11:44.416379 finished: adding constant type m style parameters for file(s) ['freyberg6.wel_stress_period_data_7.txt'] took: 0:00:00.026978\n",
      "2022-03-18 15:11:44.416379 starting: adding grid type m style parameters for file(s) ['freyberg6.wel_stress_period_data_7.txt']\n",
      "2022-03-18 15:11:44.416379 starting: loading list-style freyberg6_template\\freyberg6.wel_stress_period_data_7.txt\n"
     ]
    },
    {
     "name": "stdout",
     "output_type": "stream",
     "text": [
      "2022-03-18 15:11:44.416379 starting: reading list-style file: freyberg6_template\\freyberg6.wel_stress_period_data_7.txt\n",
      "2022-03-18 15:11:44.419320 finished: reading list-style file: freyberg6_template\\freyberg6.wel_stress_period_data_7.txt took: 0:00:00.002941\n",
      "2022-03-18 15:11:44.419320 loaded list-style 'freyberg6_template\\freyberg6.wel_stress_period_data_7.txt' of shape (6, 4)\n",
      "2022-03-18 15:11:44.420368 finished: loading list-style freyberg6_template\\freyberg6.wel_stress_period_data_7.txt took: 0:00:00.003989\n",
      "2022-03-18 15:11:44.420368 starting: writing list-style template file 'freyberg6_template\\wel_grd_inst22_grid.csv.tpl'\n",
      "2022-03-18 15:11:44.434280 finished: writing list-style template file 'freyberg6_template\\wel_grd_inst22_grid.csv.tpl' took: 0:00:00.013912\n",
      "2022-03-18 15:11:44.442259 finished: adding grid type m style parameters for file(s) ['freyberg6.wel_stress_period_data_7.txt'] took: 0:00:00.025880\n",
      "2022-03-18 15:11:44.443256 starting: adding constant type m style parameters for file(s) ['freyberg6.wel_stress_period_data_8.txt']\n",
      "2022-03-18 15:11:44.443256 starting: loading list-style freyberg6_template\\freyberg6.wel_stress_period_data_8.txt\n",
      "2022-03-18 15:11:44.443256 starting: reading list-style file: freyberg6_template\\freyberg6.wel_stress_period_data_8.txt\n",
      "2022-03-18 15:11:44.448274 finished: reading list-style file: freyberg6_template\\freyberg6.wel_stress_period_data_8.txt took: 0:00:00.005018\n",
      "2022-03-18 15:11:44.448274 loaded list-style 'freyberg6_template\\freyberg6.wel_stress_period_data_8.txt' of shape (6, 4)\n",
      "2022-03-18 15:11:44.449276 finished: loading list-style freyberg6_template\\freyberg6.wel_stress_period_data_8.txt took: 0:00:00.006020\n",
      "2022-03-18 15:11:44.449276 starting: writing list-style template file 'freyberg6_template\\wel_cst_inst23_constant.csv.tpl'\n",
      "2022-03-18 15:11:44.462204 finished: writing list-style template file 'freyberg6_template\\wel_cst_inst23_constant.csv.tpl' took: 0:00:00.012928\n",
      "2022-03-18 15:11:44.472210 finished: adding constant type m style parameters for file(s) ['freyberg6.wel_stress_period_data_8.txt'] took: 0:00:00.028954\n",
      "2022-03-18 15:11:44.472210 starting: adding grid type m style parameters for file(s) ['freyberg6.wel_stress_period_data_8.txt']\n",
      "2022-03-18 15:11:44.472210 starting: loading list-style freyberg6_template\\freyberg6.wel_stress_period_data_8.txt\n",
      "2022-03-18 15:11:44.472210 starting: reading list-style file: freyberg6_template\\freyberg6.wel_stress_period_data_8.txt\n",
      "2022-03-18 15:11:44.474173 finished: reading list-style file: freyberg6_template\\freyberg6.wel_stress_period_data_8.txt took: 0:00:00.001963\n",
      "2022-03-18 15:11:44.474173 loaded list-style 'freyberg6_template\\freyberg6.wel_stress_period_data_8.txt' of shape (6, 4)\n",
      "2022-03-18 15:11:44.475171 finished: loading list-style freyberg6_template\\freyberg6.wel_stress_period_data_8.txt took: 0:00:00.002961\n",
      "2022-03-18 15:11:44.476168 starting: writing list-style template file 'freyberg6_template\\wel_grd_inst23_grid.csv.tpl'\n",
      "2022-03-18 15:11:44.490131 finished: writing list-style template file 'freyberg6_template\\wel_grd_inst23_grid.csv.tpl' took: 0:00:00.013963\n",
      "2022-03-18 15:11:44.499107 finished: adding grid type m style parameters for file(s) ['freyberg6.wel_stress_period_data_8.txt'] took: 0:00:00.026897\n",
      "2022-03-18 15:11:44.499107 starting: adding constant type m style parameters for file(s) ['freyberg6.wel_stress_period_data_9.txt']\n",
      "2022-03-18 15:11:44.499107 starting: loading list-style freyberg6_template\\freyberg6.wel_stress_period_data_9.txt\n",
      "2022-03-18 15:11:44.500156 starting: reading list-style file: freyberg6_template\\freyberg6.wel_stress_period_data_9.txt\n",
      "2022-03-18 15:11:44.502151 finished: reading list-style file: freyberg6_template\\freyberg6.wel_stress_period_data_9.txt took: 0:00:00.001995\n",
      "2022-03-18 15:11:44.502151 loaded list-style 'freyberg6_template\\freyberg6.wel_stress_period_data_9.txt' of shape (6, 4)\n",
      "2022-03-18 15:11:44.503130 finished: loading list-style freyberg6_template\\freyberg6.wel_stress_period_data_9.txt took: 0:00:00.004023\n",
      "2022-03-18 15:11:44.503130 starting: writing list-style template file 'freyberg6_template\\wel_cst_inst24_constant.csv.tpl'\n",
      "2022-03-18 15:11:44.517058 finished: writing list-style template file 'freyberg6_template\\wel_cst_inst24_constant.csv.tpl' took: 0:00:00.013928\n"
     ]
    },
    {
     "name": "stdout",
     "output_type": "stream",
     "text": [
      "2022-03-18 15:11:44.527066 finished: adding constant type m style parameters for file(s) ['freyberg6.wel_stress_period_data_9.txt'] took: 0:00:00.027959\n",
      "2022-03-18 15:11:44.527066 starting: adding grid type m style parameters for file(s) ['freyberg6.wel_stress_period_data_9.txt']\n",
      "2022-03-18 15:11:44.527066 starting: loading list-style freyberg6_template\\freyberg6.wel_stress_period_data_9.txt\n",
      "2022-03-18 15:11:44.527066 starting: reading list-style file: freyberg6_template\\freyberg6.wel_stress_period_data_9.txt\n",
      "2022-03-18 15:11:44.529027 finished: reading list-style file: freyberg6_template\\freyberg6.wel_stress_period_data_9.txt took: 0:00:00.001961\n",
      "2022-03-18 15:11:44.529027 loaded list-style 'freyberg6_template\\freyberg6.wel_stress_period_data_9.txt' of shape (6, 4)\n",
      "2022-03-18 15:11:44.530050 finished: loading list-style freyberg6_template\\freyberg6.wel_stress_period_data_9.txt took: 0:00:00.002984\n",
      "2022-03-18 15:11:44.530050 starting: writing list-style template file 'freyberg6_template\\wel_grd_inst24_grid.csv.tpl'\n",
      "2022-03-18 15:11:44.543987 finished: writing list-style template file 'freyberg6_template\\wel_grd_inst24_grid.csv.tpl' took: 0:00:00.013937\n",
      "2022-03-18 15:11:44.553994 finished: adding grid type m style parameters for file(s) ['freyberg6.wel_stress_period_data_9.txt'] took: 0:00:00.026928\n"
     ]
    }
   ],
   "source": [
    "files = [f for f in os.listdir(template_ws) if \"wel_stress_period_data\" in f and f.endswith(\".txt\")]\n",
    "\n",
    "for f in files:\n",
    "    # get the stress period number from the file name\n",
    "    kper = int(f.split('.')[1].split('_')[-1]) - 1  \n",
    "    \n",
    "    # add the constant parameters (with temporal correlation)\n",
    "    pf.add_parameters(filenames=f,\n",
    "                        index_cols=[0,1,2], #columns that specify cell location\n",
    "                        use_cols=[3],       #columns with parameter values\n",
    "                        par_type=\"constant\",    #each well will be adjustable\n",
    "                        par_name_base=\"wel_cst\",\n",
    "                        pargp=\"wel_cst\", \n",
    "                        upper_bound = 1.5, lower_bound=0.5,\n",
    "                        datetime=dts[kper], # this places the parameter value on the \"time axis\"\n",
    "                        geostruct=temporal_gs)\n",
    "    \n",
    "    # add the grid parameters; each individual well\n",
    "    pf.add_parameters(filenames=f,\n",
    "                        index_cols=[0,1,2], #columns that specify cell location \n",
    "                        use_cols=[3],       #columns with parameter values\n",
    "                        par_type=\"grid\",    #each well will be adjustable\n",
    "                        par_name_base=\"wel_grd\",\n",
    "                        pargp=\"wel_grd\", \n",
    "                        upper_bound = 1.5, lower_bound=0.5,\n",
    "                        datetime=dts[kper]) # this places the parameter value on the \"time axis\"\n",
    "                     "
   ]
  },
  {
   "cell_type": "markdown",
   "metadata": {},
   "source": [
    "And finally, our favourite (not!) boundary-condition: SFR.\n",
    "\n",
    "Let's parameterize conductance (time-invariant) and inflow (time-variant)."
   ]
  },
  {
   "cell_type": "code",
   "execution_count": 32,
   "metadata": {
    "execution": {
     "iopub.execute_input": "2022-03-18T04:41:44.564939Z",
     "iopub.status.busy": "2022-03-18T04:41:44.563966Z",
     "iopub.status.idle": "2022-03-18T04:41:44.638734Z",
     "shell.execute_reply": "2022-03-18T04:41:44.637737Z"
    }
   },
   "outputs": [
    {
     "name": "stdout",
     "output_type": "stream",
     "text": [
      "['freyberg6.sfr_packagedata.txt']\n",
      "2022-03-18 15:11:44.565960 starting: adding grid type m style parameters for file(s) ['freyberg6.sfr_packagedata.txt']\n",
      "2022-03-18 15:11:44.565960 starting: loading list-style freyberg6_template\\freyberg6.sfr_packagedata.txt\n",
      "2022-03-18 15:11:44.565960 starting: reading list-style file: freyberg6_template\\freyberg6.sfr_packagedata.txt\n",
      "2022-03-18 15:11:44.569263 finished: reading list-style file: freyberg6_template\\freyberg6.sfr_packagedata.txt took: 0:00:00.003303\n",
      "2022-03-18 15:11:44.569263 loaded list-style 'freyberg6_template\\freyberg6.sfr_packagedata.txt' of shape (40, 15)\n",
      "2022-03-18 15:11:44.569951 finished: loading list-style freyberg6_template\\freyberg6.sfr_packagedata.txt took: 0:00:00.003991\n",
      "2022-03-18 15:11:44.570942 starting: writing list-style template file 'freyberg6_template\\sfrcond_gr_inst0_grid.csv.tpl'\n",
      "2022-03-18 15:11:44.574938 WARNING: get_xy() warning: position of i and j in index_cols not specified, assume (i,j) are final two entries in index_cols.\n"
     ]
    },
    {
     "name": "stdout",
     "output_type": "stream",
     "text": [
      "2022-03-18 15:11:44.589865 finished: writing list-style template file 'freyberg6_template\\sfrcond_gr_inst0_grid.csv.tpl' took: 0:00:00.018923\n",
      "2022-03-18 15:11:44.595888 finished: adding grid type m style parameters for file(s) ['freyberg6.sfr_packagedata.txt'] took: 0:00:00.029928\n",
      "2022-03-18 15:11:44.595888 starting: adding constant type m style parameters for file(s) ['freyberg6.sfr_packagedata.txt']\n",
      "2022-03-18 15:11:44.596845 starting: loading list-style freyberg6_template\\freyberg6.sfr_packagedata.txt\n"
     ]
    },
    {
     "name": "stdout",
     "output_type": "stream",
     "text": [
      "2022-03-18 15:11:44.596845 starting: reading list-style file: freyberg6_template\\freyberg6.sfr_packagedata.txt\n",
      "2022-03-18 15:11:44.598840 finished: reading list-style file: freyberg6_template\\freyberg6.sfr_packagedata.txt took: 0:00:00.001995\n",
      "2022-03-18 15:11:44.599862 loaded list-style 'freyberg6_template\\freyberg6.sfr_packagedata.txt' of shape (40, 15)\n",
      "2022-03-18 15:11:44.600859 finished: loading list-style freyberg6_template\\freyberg6.sfr_packagedata.txt took: 0:00:00.004014\n",
      "2022-03-18 15:11:44.600859 starting: writing list-style template file 'freyberg6_template\\sfrcond_cn_inst0_constant.csv.tpl'\n",
      "2022-03-18 15:11:44.615794 finished: writing list-style template file 'freyberg6_template\\sfrcond_cn_inst0_constant.csv.tpl' took: 0:00:00.014935\n",
      "2022-03-18 15:11:44.621811 finished: adding constant type m style parameters for file(s) ['freyberg6.sfr_packagedata.txt'] took: 0:00:00.025923\n"
     ]
    },
    {
     "data": {
      "text/html": [
       "<div>\n",
       "<style scoped>\n",
       "    .dataframe tbody tr th:only-of-type {\n",
       "        vertical-align: middle;\n",
       "    }\n",
       "\n",
       "    .dataframe tbody tr th {\n",
       "        vertical-align: top;\n",
       "    }\n",
       "\n",
       "    .dataframe thead th {\n",
       "        text-align: right;\n",
       "    }\n",
       "</style>\n",
       "<table border=\"1\" class=\"dataframe\">\n",
       "  <thead>\n",
       "    <tr style=\"text-align: right;\">\n",
       "      <th></th>\n",
       "      <th>parnme</th>\n",
       "      <th>pargp</th>\n",
       "      <th>covgp</th>\n",
       "      <th>tpl_filename</th>\n",
       "      <th>input_filename</th>\n",
       "      <th>parval1</th>\n",
       "      <th>partype</th>\n",
       "      <th>partrans</th>\n",
       "      <th>parubnd</th>\n",
       "      <th>parlbnd</th>\n",
       "      <th>parchglim</th>\n",
       "      <th>scale</th>\n",
       "      <th>offset</th>\n",
       "      <th>dercom</th>\n",
       "    </tr>\n",
       "  </thead>\n",
       "  <tbody>\n",
       "    <tr>\n",
       "      <th>pname:sfrcond_cn_inst:0_ptype:cn_usecol:9_pstyle:m</th>\n",
       "      <td>pname:sfrcond_cn_inst:0_ptype:cn_usecol:9_pstyle:m</td>\n",
       "      <td>sfrcond_cn</td>\n",
       "      <td>sfrcond_cn</td>\n",
       "      <td>freyberg6_template\\sfrcond_cn_inst0_constant.csv.tpl</td>\n",
       "      <td>freyberg6_template\\mult\\sfrcond_cn_inst0_constant.csv</td>\n",
       "      <td>1.0</td>\n",
       "      <td>constant</td>\n",
       "      <td>log</td>\n",
       "      <td>10.0</td>\n",
       "      <td>0.1</td>\n",
       "      <td>factor</td>\n",
       "      <td>1.0</td>\n",
       "      <td>0.0</td>\n",
       "      <td>1</td>\n",
       "    </tr>\n",
       "  </tbody>\n",
       "</table>\n",
       "</div>"
      ],
      "text/plain": [
       "                                                                                                parnme  \\\n",
       "pname:sfrcond_cn_inst:0_ptype:cn_usecol:9_pstyle:m  pname:sfrcond_cn_inst:0_ptype:cn_usecol:9_pstyle:m   \n",
       "\n",
       "                                                         pargp       covgp  \\\n",
       "pname:sfrcond_cn_inst:0_ptype:cn_usecol:9_pstyle:m  sfrcond_cn  sfrcond_cn   \n",
       "\n",
       "                                                                                            tpl_filename  \\\n",
       "pname:sfrcond_cn_inst:0_ptype:cn_usecol:9_pstyle:m  freyberg6_template\\sfrcond_cn_inst0_constant.csv.tpl   \n",
       "\n",
       "                                                                                           input_filename  \\\n",
       "pname:sfrcond_cn_inst:0_ptype:cn_usecol:9_pstyle:m  freyberg6_template\\mult\\sfrcond_cn_inst0_constant.csv   \n",
       "\n",
       "                                                    parval1   partype  \\\n",
       "pname:sfrcond_cn_inst:0_ptype:cn_usecol:9_pstyle:m      1.0  constant   \n",
       "\n",
       "                                                   partrans  parubnd  parlbnd  \\\n",
       "pname:sfrcond_cn_inst:0_ptype:cn_usecol:9_pstyle:m      log     10.0      0.1   \n",
       "\n",
       "                                                   parchglim  scale  offset  \\\n",
       "pname:sfrcond_cn_inst:0_ptype:cn_usecol:9_pstyle:m    factor    1.0     0.0   \n",
       "\n",
       "                                                    dercom  \n",
       "pname:sfrcond_cn_inst:0_ptype:cn_usecol:9_pstyle:m       1  "
      ]
     },
     "execution_count": 32,
     "metadata": {},
     "output_type": "execute_result"
    }
   ],
   "source": [
    "# SFR conductance\n",
    "tag = \"sfr_packagedata\"\n",
    "files = [f for f in os.listdir(template_ws) if tag in f.lower() and f.endswith(\".txt\")]\n",
    "assert len(files) == 1 # There can be only one! It is tradition. Jokes.\n",
    "print(files)\n",
    "f = files[0]\n",
    "# constant and grid scale multiplier conductance parameters\n",
    "name = \"sfrcond\"\n",
    "pf.add_parameters(f,\n",
    "                par_type=\"grid\",\n",
    "                geostruct=grid_gs,\n",
    "                par_name_base=name+\"_gr\",\n",
    "                pargp=name+\"_gr\",\n",
    "                index_cols=[0,2,3],\n",
    "                use_cols=[9],\n",
    "                lower_bound=0.1,upper_bound=10.0,\n",
    "                ult_lbound=0.01, ult_ubound=10) #absolute limits\n",
    "pf.add_parameters(f,\n",
    "                par_type=\"constant\",\n",
    "                geostruct=grid_gs,\n",
    "                par_name_base=name+\"_cn\",\n",
    "                pargp=name+\"_cn\",\n",
    "                index_cols=[0,2,3],\n",
    "                use_cols=[9],\n",
    "                lower_bound=0.1,upper_bound=10.0,\n",
    "                ult_lbound=0.01, ult_ubound=10) #absolute limits"
   ]
  },
  {
   "cell_type": "code",
   "execution_count": 33,
   "metadata": {
    "execution": {
     "iopub.execute_input": "2022-03-18T04:41:44.647709Z",
     "iopub.status.busy": "2022-03-18T04:41:44.646712Z",
     "iopub.status.idle": "2022-03-18T04:41:45.413261Z",
     "shell.execute_reply": "2022-03-18T04:41:45.413261Z"
    }
   },
   "outputs": [
    {
     "name": "stdout",
     "output_type": "stream",
     "text": [
      "2022-03-18 15:11:44.648744 starting: adding grid type m style parameters for file(s) ['freyberg6.sfr_perioddata_1.txt']\n",
      "2022-03-18 15:11:44.648744 starting: loading list-style freyberg6_template\\freyberg6.sfr_perioddata_1.txt\n",
      "2022-03-18 15:11:44.649743 starting: reading list-style file: freyberg6_template\\freyberg6.sfr_perioddata_1.txt\n",
      "2022-03-18 15:11:44.652696 finished: reading list-style file: freyberg6_template\\freyberg6.sfr_perioddata_1.txt took: 0:00:00.002953\n",
      "2022-03-18 15:11:44.652696 loaded list-style 'freyberg6_template\\freyberg6.sfr_perioddata_1.txt' of shape (1, 3)\n",
      "2022-03-18 15:11:44.653728 finished: loading list-style freyberg6_template\\freyberg6.sfr_perioddata_1.txt took: 0:00:00.004984\n",
      "2022-03-18 15:11:44.654692 starting: writing list-style template file 'freyberg6_template\\sfr_gr_inst0_grid.csv.tpl'\n",
      "2022-03-18 15:11:44.659717 WARNING: get_xy() warning: need locational information (e.g. i,j) to generate xy, insufficient index cols passed to interpret: (0,)\n",
      "2022-03-18 15:11:44.671644 finished: writing list-style template file 'freyberg6_template\\sfr_gr_inst0_grid.csv.tpl' took: 0:00:00.016952\n",
      "2022-03-18 15:11:44.680737 finished: adding grid type m style parameters for file(s) ['freyberg6.sfr_perioddata_1.txt'] took: 0:00:00.031993\n",
      "2022-03-18 15:11:44.680737 starting: adding grid type m style parameters for file(s) ['freyberg6.sfr_perioddata_10.txt']\n",
      "2022-03-18 15:11:44.681755 starting: loading list-style freyberg6_template\\freyberg6.sfr_perioddata_10.txt\n",
      "2022-03-18 15:11:44.681755 starting: reading list-style file: freyberg6_template\\freyberg6.sfr_perioddata_10.txt\n",
      "2022-03-18 15:11:44.683756 finished: reading list-style file: freyberg6_template\\freyberg6.sfr_perioddata_10.txt took: 0:00:00.002001\n",
      "2022-03-18 15:11:44.683756 loaded list-style 'freyberg6_template\\freyberg6.sfr_perioddata_10.txt' of shape (1, 3)\n",
      "2022-03-18 15:11:44.684756 finished: loading list-style freyberg6_template\\freyberg6.sfr_perioddata_10.txt took: 0:00:00.003001\n",
      "2022-03-18 15:11:44.684756 starting: writing list-style template file 'freyberg6_template\\sfr_gr_inst1_grid.csv.tpl'\n",
      "2022-03-18 15:11:44.689689 WARNING: get_xy() warning: need locational information (e.g. i,j) to generate xy, insufficient index cols passed to interpret: (0,)\n",
      "2022-03-18 15:11:44.702654 finished: writing list-style template file 'freyberg6_template\\sfr_gr_inst1_grid.csv.tpl' took: 0:00:00.017898\n"
     ]
    },
    {
     "name": "stdout",
     "output_type": "stream",
     "text": [
      "2022-03-18 15:11:44.711687 finished: adding grid type m style parameters for file(s) ['freyberg6.sfr_perioddata_10.txt'] took: 0:00:00.030950\n",
      "2022-03-18 15:11:44.711687 starting: adding grid type m style parameters for file(s) ['freyberg6.sfr_perioddata_11.txt']\n",
      "2022-03-18 15:11:44.711687 starting: loading list-style freyberg6_template\\freyberg6.sfr_perioddata_11.txt\n",
      "2022-03-18 15:11:44.711687 starting: reading list-style file: freyberg6_template\\freyberg6.sfr_perioddata_11.txt\n",
      "2022-03-18 15:11:44.714674 finished: reading list-style file: freyberg6_template\\freyberg6.sfr_perioddata_11.txt took: 0:00:00.002987\n",
      "2022-03-18 15:11:44.714674 loaded list-style 'freyberg6_template\\freyberg6.sfr_perioddata_11.txt' of shape (1, 3)\n",
      "2022-03-18 15:11:44.715654 finished: loading list-style freyberg6_template\\freyberg6.sfr_perioddata_11.txt took: 0:00:00.003967\n",
      "2022-03-18 15:11:44.715654 starting: writing list-style template file 'freyberg6_template\\sfr_gr_inst2_grid.csv.tpl'\n",
      "2022-03-18 15:11:44.720657 WARNING: get_xy() warning: need locational information (e.g. i,j) to generate xy, insufficient index cols passed to interpret: (0,)\n",
      "2022-03-18 15:11:44.733572 finished: writing list-style template file 'freyberg6_template\\sfr_gr_inst2_grid.csv.tpl' took: 0:00:00.017918\n",
      "2022-03-18 15:11:44.742572 finished: adding grid type m style parameters for file(s) ['freyberg6.sfr_perioddata_11.txt'] took: 0:00:00.030885\n",
      "2022-03-18 15:11:44.742572 starting: adding grid type m style parameters for file(s) ['freyberg6.sfr_perioddata_12.txt']\n",
      "2022-03-18 15:11:44.742572 starting: loading list-style freyberg6_template\\freyberg6.sfr_perioddata_12.txt\n",
      "2022-03-18 15:11:44.743569 starting: reading list-style file: freyberg6_template\\freyberg6.sfr_perioddata_12.txt\n",
      "2022-03-18 15:11:44.745563 finished: reading list-style file: freyberg6_template\\freyberg6.sfr_perioddata_12.txt took: 0:00:00.001994\n",
      "2022-03-18 15:11:44.745563 loaded list-style 'freyberg6_template\\freyberg6.sfr_perioddata_12.txt' of shape (1, 3)\n",
      "2022-03-18 15:11:44.746537 finished: loading list-style freyberg6_template\\freyberg6.sfr_perioddata_12.txt took: 0:00:00.003965\n",
      "2022-03-18 15:11:44.746537 starting: writing list-style template file 'freyberg6_template\\sfr_gr_inst3_grid.csv.tpl'\n",
      "2022-03-18 15:11:44.751540 WARNING: get_xy() warning: need locational information (e.g. i,j) to generate xy, insufficient index cols passed to interpret: (0,)\n"
     ]
    },
    {
     "name": "stdout",
     "output_type": "stream",
     "text": [
      "2022-03-18 15:11:44.765486 finished: writing list-style template file 'freyberg6_template\\sfr_gr_inst3_grid.csv.tpl' took: 0:00:00.018949\n",
      "2022-03-18 15:11:44.773491 finished: adding grid type m style parameters for file(s) ['freyberg6.sfr_perioddata_12.txt'] took: 0:00:00.030919\n",
      "2022-03-18 15:11:44.773491 starting: adding grid type m style parameters for file(s) ['freyberg6.sfr_perioddata_13.txt']\n",
      "2022-03-18 15:11:44.774495 starting: loading list-style freyberg6_template\\freyberg6.sfr_perioddata_13.txt\n"
     ]
    },
    {
     "name": "stdout",
     "output_type": "stream",
     "text": [
      "2022-03-18 15:11:44.774495 starting: reading list-style file: freyberg6_template\\freyberg6.sfr_perioddata_13.txt\n",
      "2022-03-18 15:11:44.777455 finished: reading list-style file: freyberg6_template\\freyberg6.sfr_perioddata_13.txt took: 0:00:00.002960\n",
      "2022-03-18 15:11:44.777455 loaded list-style 'freyberg6_template\\freyberg6.sfr_perioddata_13.txt' of shape (1, 3)\n",
      "2022-03-18 15:11:44.778505 finished: loading list-style freyberg6_template\\freyberg6.sfr_perioddata_13.txt took: 0:00:00.004010\n",
      "2022-03-18 15:11:44.778505 starting: writing list-style template file 'freyberg6_template\\sfr_gr_inst4_grid.csv.tpl'\n",
      "2022-03-18 15:11:44.782481 WARNING: get_xy() warning: need locational information (e.g. i,j) to generate xy, insufficient index cols passed to interpret: (0,)\n"
     ]
    },
    {
     "name": "stdout",
     "output_type": "stream",
     "text": [
      "2022-03-18 15:11:44.796449 finished: writing list-style template file 'freyberg6_template\\sfr_gr_inst4_grid.csv.tpl' took: 0:00:00.017944\n",
      "2022-03-18 15:11:44.805380 finished: adding grid type m style parameters for file(s) ['freyberg6.sfr_perioddata_13.txt'] took: 0:00:00.031889\n",
      "2022-03-18 15:11:44.805380 starting: adding grid type m style parameters for file(s) ['freyberg6.sfr_perioddata_14.txt']\n",
      "2022-03-18 15:11:44.805380 starting: loading list-style freyberg6_template\\freyberg6.sfr_perioddata_14.txt\n",
      "2022-03-18 15:11:44.805380 starting: reading list-style file: freyberg6_template\\freyberg6.sfr_perioddata_14.txt\n",
      "2022-03-18 15:11:44.807431 finished: reading list-style file: freyberg6_template\\freyberg6.sfr_perioddata_14.txt took: 0:00:00.002051\n",
      "2022-03-18 15:11:44.807431 loaded list-style 'freyberg6_template\\freyberg6.sfr_perioddata_14.txt' of shape (1, 3)\n",
      "2022-03-18 15:11:44.808371 finished: loading list-style freyberg6_template\\freyberg6.sfr_perioddata_14.txt took: 0:00:00.002991\n",
      "2022-03-18 15:11:44.809369 starting: writing list-style template file 'freyberg6_template\\sfr_gr_inst5_grid.csv.tpl'\n",
      "2022-03-18 15:11:44.813416 WARNING: get_xy() warning: need locational information (e.g. i,j) to generate xy, insufficient index cols passed to interpret: (0,)\n",
      "2022-03-18 15:11:44.825326 finished: writing list-style template file 'freyberg6_template\\sfr_gr_inst5_grid.csv.tpl' took: 0:00:00.015957\n",
      "2022-03-18 15:11:44.834357 finished: adding grid type m style parameters for file(s) ['freyberg6.sfr_perioddata_14.txt'] took: 0:00:00.028977\n"
     ]
    },
    {
     "name": "stdout",
     "output_type": "stream",
     "text": [
      "2022-03-18 15:11:44.835300 starting: adding grid type m style parameters for file(s) ['freyberg6.sfr_perioddata_15.txt']\n",
      "2022-03-18 15:11:44.835300 starting: loading list-style freyberg6_template\\freyberg6.sfr_perioddata_15.txt\n",
      "2022-03-18 15:11:44.835300 starting: reading list-style file: freyberg6_template\\freyberg6.sfr_perioddata_15.txt\n",
      "2022-03-18 15:11:44.838345 finished: reading list-style file: freyberg6_template\\freyberg6.sfr_perioddata_15.txt took: 0:00:00.003045\n",
      "2022-03-18 15:11:44.838345 loaded list-style 'freyberg6_template\\freyberg6.sfr_perioddata_15.txt' of shape (1, 3)\n",
      "2022-03-18 15:11:44.839341 finished: loading list-style freyberg6_template\\freyberg6.sfr_perioddata_15.txt took: 0:00:00.004041\n",
      "2022-03-18 15:11:44.839341 starting: writing list-style template file 'freyberg6_template\\sfr_gr_inst6_grid.csv.tpl'\n",
      "2022-03-18 15:11:44.843278 WARNING: get_xy() warning: need locational information (e.g. i,j) to generate xy, insufficient index cols passed to interpret: (0,)\n",
      "2022-03-18 15:11:44.856244 finished: writing list-style template file 'freyberg6_template\\sfr_gr_inst6_grid.csv.tpl' took: 0:00:00.016903\n",
      "2022-03-18 15:11:44.864271 finished: adding grid type m style parameters for file(s) ['freyberg6.sfr_perioddata_15.txt'] took: 0:00:00.028971\n",
      "2022-03-18 15:11:44.865220 starting: adding grid type m style parameters for file(s) ['freyberg6.sfr_perioddata_16.txt']\n",
      "2022-03-18 15:11:44.865220 starting: loading list-style freyberg6_template\\freyberg6.sfr_perioddata_16.txt\n",
      "2022-03-18 15:11:44.866299 starting: reading list-style file: freyberg6_template\\freyberg6.sfr_perioddata_16.txt\n",
      "2022-03-18 15:11:44.868256 finished: reading list-style file: freyberg6_template\\freyberg6.sfr_perioddata_16.txt took: 0:00:00.001957\n",
      "2022-03-18 15:11:44.868256 loaded list-style 'freyberg6_template\\freyberg6.sfr_perioddata_16.txt' of shape (1, 3)\n",
      "2022-03-18 15:11:44.870251 finished: loading list-style freyberg6_template\\freyberg6.sfr_perioddata_16.txt took: 0:00:00.005031\n",
      "2022-03-18 15:11:44.870251 starting: writing list-style template file 'freyberg6_template\\sfr_gr_inst7_grid.csv.tpl'\n",
      "2022-03-18 15:11:44.874195 WARNING: get_xy() warning: need locational information (e.g. i,j) to generate xy, insufficient index cols passed to interpret: (0,)\n",
      "2022-03-18 15:11:44.887205 finished: writing list-style template file 'freyberg6_template\\sfr_gr_inst7_grid.csv.tpl' took: 0:00:00.016954\n",
      "2022-03-18 15:11:44.895139 finished: adding grid type m style parameters for file(s) ['freyberg6.sfr_perioddata_16.txt'] took: 0:00:00.029919\n"
     ]
    },
    {
     "name": "stdout",
     "output_type": "stream",
     "text": [
      "2022-03-18 15:11:44.895139 starting: adding grid type m style parameters for file(s) ['freyberg6.sfr_perioddata_17.txt']\n",
      "2022-03-18 15:11:44.896187 starting: loading list-style freyberg6_template\\freyberg6.sfr_perioddata_17.txt\n",
      "2022-03-18 15:11:44.896187 starting: reading list-style file: freyberg6_template\\freyberg6.sfr_perioddata_17.txt\n",
      "2022-03-18 15:11:44.898177 finished: reading list-style file: freyberg6_template\\freyberg6.sfr_perioddata_17.txt took: 0:00:00.001990\n",
      "2022-03-18 15:11:44.898177 loaded list-style 'freyberg6_template\\freyberg6.sfr_perioddata_17.txt' of shape (1, 3)\n",
      "2022-03-18 15:11:44.899128 finished: loading list-style freyberg6_template\\freyberg6.sfr_perioddata_17.txt took: 0:00:00.002941\n",
      "2022-03-18 15:11:44.899128 starting: writing list-style template file 'freyberg6_template\\sfr_gr_inst8_grid.csv.tpl'\n",
      "2022-03-18 15:11:44.903191 WARNING: get_xy() warning: need locational information (e.g. i,j) to generate xy, insufficient index cols passed to interpret: (0,)\n",
      "2022-03-18 15:11:44.916084 finished: writing list-style template file 'freyberg6_template\\sfr_gr_inst8_grid.csv.tpl' took: 0:00:00.016956\n",
      "2022-03-18 15:11:44.924114 finished: adding grid type m style parameters for file(s) ['freyberg6.sfr_perioddata_17.txt'] took: 0:00:00.028975\n",
      "2022-03-18 15:11:44.925061 starting: adding grid type m style parameters for file(s) ['freyberg6.sfr_perioddata_18.txt']\n",
      "2022-03-18 15:11:44.925061 starting: loading list-style freyberg6_template\\freyberg6.sfr_perioddata_18.txt\n",
      "2022-03-18 15:11:44.925061 starting: reading list-style file: freyberg6_template\\freyberg6.sfr_perioddata_18.txt\n",
      "2022-03-18 15:11:44.927113 finished: reading list-style file: freyberg6_template\\freyberg6.sfr_perioddata_18.txt took: 0:00:00.002052\n",
      "2022-03-18 15:11:44.928052 loaded list-style 'freyberg6_template\\freyberg6.sfr_perioddata_18.txt' of shape (1, 3)\n",
      "2022-03-18 15:11:44.928052 finished: loading list-style freyberg6_template\\freyberg6.sfr_perioddata_18.txt took: 0:00:00.002991\n",
      "2022-03-18 15:11:44.929094 starting: writing list-style template file 'freyberg6_template\\sfr_gr_inst9_grid.csv.tpl'\n",
      "2022-03-18 15:11:44.933090 WARNING: get_xy() warning: need locational information (e.g. i,j) to generate xy, insufficient index cols passed to interpret: (0,)\n",
      "2022-03-18 15:11:44.945007 finished: writing list-style template file 'freyberg6_template\\sfr_gr_inst9_grid.csv.tpl' took: 0:00:00.015913\n",
      "2022-03-18 15:11:44.954034 finished: adding grid type m style parameters for file(s) ['freyberg6.sfr_perioddata_18.txt'] took: 0:00:00.028973\n",
      "2022-03-18 15:11:44.954980 starting: adding grid type m style parameters for file(s) ['freyberg6.sfr_perioddata_19.txt']\n",
      "2022-03-18 15:11:44.954980 starting: loading list-style freyberg6_template\\freyberg6.sfr_perioddata_19.txt\n",
      "2022-03-18 15:11:44.954980 starting: reading list-style file: freyberg6_template\\freyberg6.sfr_perioddata_19.txt\n"
     ]
    },
    {
     "name": "stdout",
     "output_type": "stream",
     "text": [
      "2022-03-18 15:11:44.957007 finished: reading list-style file: freyberg6_template\\freyberg6.sfr_perioddata_19.txt took: 0:00:00.002027\n",
      "2022-03-18 15:11:44.957972 loaded list-style 'freyberg6_template\\freyberg6.sfr_perioddata_19.txt' of shape (1, 3)\n",
      "2022-03-18 15:11:44.959009 finished: loading list-style freyberg6_template\\freyberg6.sfr_perioddata_19.txt took: 0:00:00.004029\n",
      "2022-03-18 15:11:44.959009 starting: writing list-style template file 'freyberg6_template\\sfr_gr_inst10_grid.csv.tpl'\n",
      "2022-03-18 15:11:44.962958 WARNING: get_xy() warning: need locational information (e.g. i,j) to generate xy, insufficient index cols passed to interpret: (0,)\n",
      "2022-03-18 15:11:44.975926 finished: writing list-style template file 'freyberg6_template\\sfr_gr_inst10_grid.csv.tpl' took: 0:00:00.016917\n",
      "2022-03-18 15:11:44.983955 finished: adding grid type m style parameters for file(s) ['freyberg6.sfr_perioddata_19.txt'] took: 0:00:00.028975\n",
      "2022-03-18 15:11:44.983955 starting: adding grid type m style parameters for file(s) ['freyberg6.sfr_perioddata_2.txt']\n",
      "2022-03-18 15:11:44.983955 starting: loading list-style freyberg6_template\\freyberg6.sfr_perioddata_2.txt\n",
      "2022-03-18 15:11:44.984928 starting: reading list-style file: freyberg6_template\\freyberg6.sfr_perioddata_2.txt\n",
      "2022-03-18 15:11:44.986946 finished: reading list-style file: freyberg6_template\\freyberg6.sfr_perioddata_2.txt took: 0:00:00.002018\n",
      "2022-03-18 15:11:44.986946 loaded list-style 'freyberg6_template\\freyberg6.sfr_perioddata_2.txt' of shape (1, 3)\n"
     ]
    },
    {
     "name": "stdout",
     "output_type": "stream",
     "text": [
      "2022-03-18 15:11:44.987926 finished: loading list-style freyberg6_template\\freyberg6.sfr_perioddata_2.txt took: 0:00:00.003971\n",
      "2022-03-18 15:11:44.988889 starting: writing list-style template file 'freyberg6_template\\sfr_gr_inst11_grid.csv.tpl'\n",
      "2022-03-18 15:11:44.992911 WARNING: get_xy() warning: need locational information (e.g. i,j) to generate xy, insufficient index cols passed to interpret: (0,)\n",
      "2022-03-18 15:11:45.004880 finished: writing list-style template file 'freyberg6_template\\sfr_gr_inst11_grid.csv.tpl' took: 0:00:00.015991\n",
      "2022-03-18 15:11:45.013875 finished: adding grid type m style parameters for file(s) ['freyberg6.sfr_perioddata_2.txt'] took: 0:00:00.029920\n",
      "2022-03-18 15:11:45.013875 starting: adding grid type m style parameters for file(s) ['freyberg6.sfr_perioddata_20.txt']\n",
      "2022-03-18 15:11:45.014872 starting: loading list-style freyberg6_template\\freyberg6.sfr_perioddata_20.txt\n",
      "2022-03-18 15:11:45.014872 starting: reading list-style file: freyberg6_template\\freyberg6.sfr_perioddata_20.txt\n",
      "2022-03-18 15:11:45.017863 finished: reading list-style file: freyberg6_template\\freyberg6.sfr_perioddata_20.txt took: 0:00:00.002991\n",
      "2022-03-18 15:11:45.017863 loaded list-style 'freyberg6_template\\freyberg6.sfr_perioddata_20.txt' of shape (1, 3)\n",
      "2022-03-18 15:11:45.018809 finished: loading list-style freyberg6_template\\freyberg6.sfr_perioddata_20.txt took: 0:00:00.003937\n",
      "2022-03-18 15:11:45.018809 starting: writing list-style template file 'freyberg6_template\\sfr_gr_inst12_grid.csv.tpl'\n",
      "2022-03-18 15:11:45.022855 WARNING: get_xy() warning: need locational information (e.g. i,j) to generate xy, insufficient index cols passed to interpret: (0,)\n"
     ]
    },
    {
     "name": "stdout",
     "output_type": "stream",
     "text": [
      "2022-03-18 15:11:45.035874 finished: writing list-style template file 'freyberg6_template\\sfr_gr_inst12_grid.csv.tpl' took: 0:00:00.017065\n",
      "2022-03-18 15:11:45.044794 finished: adding grid type m style parameters for file(s) ['freyberg6.sfr_perioddata_20.txt'] took: 0:00:00.030919\n",
      "2022-03-18 15:11:45.044794 starting: adding grid type m style parameters for file(s) ['freyberg6.sfr_perioddata_21.txt']\n",
      "2022-03-18 15:11:45.044794 starting: loading list-style freyberg6_template\\freyberg6.sfr_perioddata_21.txt\n",
      "2022-03-18 15:11:45.044794 starting: reading list-style file: freyberg6_template\\freyberg6.sfr_perioddata_21.txt\n",
      "2022-03-18 15:11:45.049780 finished: reading list-style file: freyberg6_template\\freyberg6.sfr_perioddata_21.txt took: 0:00:00.004986\n",
      "2022-03-18 15:11:45.049780 loaded list-style 'freyberg6_template\\freyberg6.sfr_perioddata_21.txt' of shape (1, 3)\n",
      "2022-03-18 15:11:45.050724 finished: loading list-style freyberg6_template\\freyberg6.sfr_perioddata_21.txt took: 0:00:00.005930\n",
      "2022-03-18 15:11:45.050724 starting: writing list-style template file 'freyberg6_template\\sfr_gr_inst13_grid.csv.tpl'\n",
      "2022-03-18 15:11:45.055763 WARNING: get_xy() warning: need locational information (e.g. i,j) to generate xy, insufficient index cols passed to interpret: (0,)\n",
      "2022-03-18 15:11:45.067680 finished: writing list-style template file 'freyberg6_template\\sfr_gr_inst13_grid.csv.tpl' took: 0:00:00.016956\n",
      "2022-03-18 15:11:45.077704 finished: adding grid type m style parameters for file(s) ['freyberg6.sfr_perioddata_21.txt'] took: 0:00:00.032910\n",
      "2022-03-18 15:11:45.077704 starting: adding grid type m style parameters for file(s) ['freyberg6.sfr_perioddata_22.txt']\n",
      "2022-03-18 15:11:45.077704 starting: loading list-style freyberg6_template\\freyberg6.sfr_perioddata_22.txt\n",
      "2022-03-18 15:11:45.077704 starting: reading list-style file: freyberg6_template\\freyberg6.sfr_perioddata_22.txt\n",
      "2022-03-18 15:11:45.079698 finished: reading list-style file: freyberg6_template\\freyberg6.sfr_perioddata_22.txt took: 0:00:00.001994\n",
      "2022-03-18 15:11:45.079698 loaded list-style 'freyberg6_template\\freyberg6.sfr_perioddata_22.txt' of shape (1, 3)\n"
     ]
    },
    {
     "name": "stdout",
     "output_type": "stream",
     "text": [
      "2022-03-18 15:11:45.081641 finished: loading list-style freyberg6_template\\freyberg6.sfr_perioddata_22.txt took: 0:00:00.003937\n",
      "2022-03-18 15:11:45.081641 starting: writing list-style template file 'freyberg6_template\\sfr_gr_inst14_grid.csv.tpl'\n",
      "2022-03-18 15:11:45.085918 WARNING: get_xy() warning: need locational information (e.g. i,j) to generate xy, insufficient index cols passed to interpret: (0,)\n",
      "2022-03-18 15:11:45.098648 finished: writing list-style template file 'freyberg6_template\\sfr_gr_inst14_grid.csv.tpl' took: 0:00:00.017007\n",
      "2022-03-18 15:11:45.106575 finished: adding grid type m style parameters for file(s) ['freyberg6.sfr_perioddata_22.txt'] took: 0:00:00.028871\n",
      "2022-03-18 15:11:45.107629 starting: adding grid type m style parameters for file(s) ['freyberg6.sfr_perioddata_23.txt']\n",
      "2022-03-18 15:11:45.107629 starting: loading list-style freyberg6_template\\freyberg6.sfr_perioddata_23.txt\n",
      "2022-03-18 15:11:45.107629 starting: reading list-style file: freyberg6_template\\freyberg6.sfr_perioddata_23.txt\n",
      "2022-03-18 15:11:45.109619 finished: reading list-style file: freyberg6_template\\freyberg6.sfr_perioddata_23.txt took: 0:00:00.001990\n",
      "2022-03-18 15:11:45.109619 loaded list-style 'freyberg6_template\\freyberg6.sfr_perioddata_23.txt' of shape (1, 3)\n",
      "2022-03-18 15:11:45.110590 finished: loading list-style freyberg6_template\\freyberg6.sfr_perioddata_23.txt took: 0:00:00.002961\n",
      "2022-03-18 15:11:45.111561 starting: writing list-style template file 'freyberg6_template\\sfr_gr_inst15_grid.csv.tpl'\n",
      "2022-03-18 15:11:45.115550 WARNING: get_xy() warning: need locational information (e.g. i,j) to generate xy, insufficient index cols passed to interpret: (0,)\n",
      "2022-03-18 15:11:45.128548 finished: writing list-style template file 'freyberg6_template\\sfr_gr_inst15_grid.csv.tpl' took: 0:00:00.016987\n",
      "2022-03-18 15:11:45.137543 finished: adding grid type m style parameters for file(s) ['freyberg6.sfr_perioddata_23.txt'] took: 0:00:00.029914\n",
      "2022-03-18 15:11:45.138539 starting: adding grid type m style parameters for file(s) ['freyberg6.sfr_perioddata_24.txt']\n",
      "2022-03-18 15:11:45.138539 starting: loading list-style freyberg6_template\\freyberg6.sfr_perioddata_24.txt\n",
      "2022-03-18 15:11:45.138539 starting: reading list-style file: freyberg6_template\\freyberg6.sfr_perioddata_24.txt\n",
      "2022-03-18 15:11:45.140483 finished: reading list-style file: freyberg6_template\\freyberg6.sfr_perioddata_24.txt took: 0:00:00.001944\n",
      "2022-03-18 15:11:45.140483 loaded list-style 'freyberg6_template\\freyberg6.sfr_perioddata_24.txt' of shape (1, 3)\n",
      "2022-03-18 15:11:45.141532 finished: loading list-style freyberg6_template\\freyberg6.sfr_perioddata_24.txt took: 0:00:00.002993\n",
      "2022-03-18 15:11:45.141532 starting: writing list-style template file 'freyberg6_template\\sfr_gr_inst16_grid.csv.tpl'\n"
     ]
    },
    {
     "name": "stdout",
     "output_type": "stream",
     "text": [
      "2022-03-18 15:11:45.146518 WARNING: get_xy() warning: need locational information (e.g. i,j) to generate xy, insufficient index cols passed to interpret: (0,)\n",
      "2022-03-18 15:11:45.159468 finished: writing list-style template file 'freyberg6_template\\sfr_gr_inst16_grid.csv.tpl' took: 0:00:00.017936\n",
      "2022-03-18 15:11:45.167413 finished: adding grid type m style parameters for file(s) ['freyberg6.sfr_perioddata_24.txt'] took: 0:00:00.028874\n",
      "2022-03-18 15:11:45.167413 starting: adding grid type m style parameters for file(s) ['freyberg6.sfr_perioddata_25.txt']\n",
      "2022-03-18 15:11:45.167413 starting: loading list-style freyberg6_template\\freyberg6.sfr_perioddata_25.txt\n",
      "2022-03-18 15:11:45.168466 starting: reading list-style file: freyberg6_template\\freyberg6.sfr_perioddata_25.txt\n",
      "2022-03-18 15:11:45.170457 finished: reading list-style file: freyberg6_template\\freyberg6.sfr_perioddata_25.txt took: 0:00:00.001991\n",
      "2022-03-18 15:11:45.170457 loaded list-style 'freyberg6_template\\freyberg6.sfr_perioddata_25.txt' of shape (1, 3)\n",
      "2022-03-18 15:11:45.171433 finished: loading list-style freyberg6_template\\freyberg6.sfr_perioddata_25.txt took: 0:00:00.004020\n",
      "2022-03-18 15:11:45.171433 starting: writing list-style template file 'freyberg6_template\\sfr_gr_inst17_grid.csv.tpl'\n",
      "2022-03-18 15:11:45.175390 WARNING: get_xy() warning: need locational information (e.g. i,j) to generate xy, insufficient index cols passed to interpret: (0,)\n"
     ]
    },
    {
     "name": "stdout",
     "output_type": "stream",
     "text": [
      "2022-03-18 15:11:45.189405 finished: writing list-style template file 'freyberg6_template\\sfr_gr_inst17_grid.csv.tpl' took: 0:00:00.017972\n",
      "2022-03-18 15:11:45.198381 finished: adding grid type m style parameters for file(s) ['freyberg6.sfr_perioddata_25.txt'] took: 0:00:00.030968\n",
      "2022-03-18 15:11:45.198381 starting: adding grid type m style parameters for file(s) ['freyberg6.sfr_perioddata_3.txt']\n",
      "2022-03-18 15:11:45.198381 starting: loading list-style freyberg6_template\\freyberg6.sfr_perioddata_3.txt\n",
      "2022-03-18 15:11:45.198381 starting: reading list-style file: freyberg6_template\\freyberg6.sfr_perioddata_3.txt\n",
      "2022-03-18 15:11:45.200376 finished: reading list-style file: freyberg6_template\\freyberg6.sfr_perioddata_3.txt took: 0:00:00.001995\n",
      "2022-03-18 15:11:45.201373 loaded list-style 'freyberg6_template\\freyberg6.sfr_perioddata_3.txt' of shape (1, 3)\n",
      "2022-03-18 15:11:45.202553 finished: loading list-style freyberg6_template\\freyberg6.sfr_perioddata_3.txt took: 0:00:00.004172\n",
      "2022-03-18 15:11:45.202553 starting: writing list-style template file 'freyberg6_template\\sfr_gr_inst18_grid.csv.tpl'\n",
      "2022-03-18 15:11:45.206359 WARNING: get_xy() warning: need locational information (e.g. i,j) to generate xy, insufficient index cols passed to interpret: (0,)\n",
      "2022-03-18 15:11:45.219273 finished: writing list-style template file 'freyberg6_template\\sfr_gr_inst18_grid.csv.tpl' took: 0:00:00.016720\n",
      "2022-03-18 15:11:45.228301 finished: adding grid type m style parameters for file(s) ['freyberg6.sfr_perioddata_3.txt'] took: 0:00:00.029920\n"
     ]
    },
    {
     "name": "stdout",
     "output_type": "stream",
     "text": [
      "2022-03-18 15:11:45.228301 starting: adding grid type m style parameters for file(s) ['freyberg6.sfr_perioddata_4.txt']\n",
      "2022-03-18 15:11:45.228301 starting: loading list-style freyberg6_template\\freyberg6.sfr_perioddata_4.txt\n",
      "2022-03-18 15:11:45.229247 starting: reading list-style file: freyberg6_template\\freyberg6.sfr_perioddata_4.txt\n",
      "2022-03-18 15:11:45.231293 finished: reading list-style file: freyberg6_template\\freyberg6.sfr_perioddata_4.txt took: 0:00:00.002046\n",
      "2022-03-18 15:11:45.231293 loaded list-style 'freyberg6_template\\freyberg6.sfr_perioddata_4.txt' of shape (1, 3)\n",
      "2022-03-18 15:11:45.232261 finished: loading list-style freyberg6_template\\freyberg6.sfr_perioddata_4.txt took: 0:00:00.003960\n",
      "2022-03-18 15:11:45.232261 starting: writing list-style template file 'freyberg6_template\\sfr_gr_inst19_grid.csv.tpl'\n",
      "2022-03-18 15:11:45.237277 WARNING: get_xy() warning: need locational information (e.g. i,j) to generate xy, insufficient index cols passed to interpret: (0,)\n",
      "2022-03-18 15:11:45.249194 finished: writing list-style template file 'freyberg6_template\\sfr_gr_inst19_grid.csv.tpl' took: 0:00:00.016933\n",
      "2022-03-18 15:11:45.258222 finished: adding grid type m style parameters for file(s) ['freyberg6.sfr_perioddata_4.txt'] took: 0:00:00.029921\n",
      "2022-03-18 15:11:45.259219 starting: adding grid type m style parameters for file(s) ['freyberg6.sfr_perioddata_5.txt']\n",
      "2022-03-18 15:11:45.259219 starting: loading list-style freyberg6_template\\freyberg6.sfr_perioddata_5.txt\n",
      "2022-03-18 15:11:45.259219 starting: reading list-style file: freyberg6_template\\freyberg6.sfr_perioddata_5.txt\n",
      "2022-03-18 15:11:45.261213 finished: reading list-style file: freyberg6_template\\freyberg6.sfr_perioddata_5.txt took: 0:00:00.001994\n",
      "2022-03-18 15:11:45.261213 loaded list-style 'freyberg6_template\\freyberg6.sfr_perioddata_5.txt' of shape (1, 3)\n",
      "2022-03-18 15:11:45.262215 finished: loading list-style freyberg6_template\\freyberg6.sfr_perioddata_5.txt took: 0:00:00.002996\n",
      "2022-03-18 15:11:45.262215 starting: writing list-style template file 'freyberg6_template\\sfr_gr_inst20_grid.csv.tpl'\n",
      "2022-03-18 15:11:45.266148 WARNING: get_xy() warning: need locational information (e.g. i,j) to generate xy, insufficient index cols passed to interpret: (0,)\n"
     ]
    },
    {
     "name": "stdout",
     "output_type": "stream",
     "text": [
      "2022-03-18 15:11:45.279113 finished: writing list-style template file 'freyberg6_template\\sfr_gr_inst20_grid.csv.tpl' took: 0:00:00.016898\n",
      "2022-03-18 15:11:45.289138 finished: adding grid type m style parameters for file(s) ['freyberg6.sfr_perioddata_5.txt'] took: 0:00:00.029919\n",
      "2022-03-18 15:11:45.289138 starting: adding grid type m style parameters for file(s) ['freyberg6.sfr_perioddata_6.txt']\n",
      "2022-03-18 15:11:45.289138 starting: loading list-style freyberg6_template\\freyberg6.sfr_perioddata_6.txt\n",
      "2022-03-18 15:11:45.290083 starting: reading list-style file: freyberg6_template\\freyberg6.sfr_perioddata_6.txt\n",
      "2022-03-18 15:11:45.292129 finished: reading list-style file: freyberg6_template\\freyberg6.sfr_perioddata_6.txt took: 0:00:00.002046\n",
      "2022-03-18 15:11:45.292129 loaded list-style 'freyberg6_template\\freyberg6.sfr_perioddata_6.txt' of shape (1, 3)\n",
      "2022-03-18 15:11:45.293076 finished: loading list-style freyberg6_template\\freyberg6.sfr_perioddata_6.txt took: 0:00:00.003938\n",
      "2022-03-18 15:11:45.293076 starting: writing list-style template file 'freyberg6_template\\sfr_gr_inst21_grid.csv.tpl'\n",
      "2022-03-18 15:11:45.296120 WARNING: get_xy() warning: need locational information (e.g. i,j) to generate xy, insufficient index cols passed to interpret: (0,)\n",
      "2022-03-18 15:11:45.309456 finished: writing list-style template file 'freyberg6_template\\sfr_gr_inst21_grid.csv.tpl' took: 0:00:00.016380\n",
      "2022-03-18 15:11:45.318484 finished: adding grid type m style parameters for file(s) ['freyberg6.sfr_perioddata_6.txt'] took: 0:00:00.029346\n",
      "2022-03-18 15:11:45.319481 starting: adding grid type m style parameters for file(s) ['freyberg6.sfr_perioddata_7.txt']\n",
      "2022-03-18 15:11:45.319481 starting: loading list-style freyberg6_template\\freyberg6.sfr_perioddata_7.txt\n",
      "2022-03-18 15:11:45.319481 starting: reading list-style file: freyberg6_template\\freyberg6.sfr_perioddata_7.txt\n",
      "2022-03-18 15:11:45.321457 finished: reading list-style file: freyberg6_template\\freyberg6.sfr_perioddata_7.txt took: 0:00:00.001976\n",
      "2022-03-18 15:11:45.321457 loaded list-style 'freyberg6_template\\freyberg6.sfr_perioddata_7.txt' of shape (1, 3)\n",
      "2022-03-18 15:11:45.322478 finished: loading list-style freyberg6_template\\freyberg6.sfr_perioddata_7.txt took: 0:00:00.002997\n",
      "2022-03-18 15:11:45.322478 starting: writing list-style template file 'freyberg6_template\\sfr_gr_inst22_grid.csv.tpl'\n",
      "2022-03-18 15:11:45.327408 WARNING: get_xy() warning: need locational information (e.g. i,j) to generate xy, insufficient index cols passed to interpret: (0,)\n"
     ]
    },
    {
     "name": "stdout",
     "output_type": "stream",
     "text": [
      "2022-03-18 15:11:45.341396 finished: writing list-style template file 'freyberg6_template\\sfr_gr_inst22_grid.csv.tpl' took: 0:00:00.018918\n",
      "2022-03-18 15:11:45.349376 finished: adding grid type m style parameters for file(s) ['freyberg6.sfr_perioddata_7.txt'] took: 0:00:00.029895\n",
      "2022-03-18 15:11:45.349376 starting: adding grid type m style parameters for file(s) ['freyberg6.sfr_perioddata_8.txt']\n",
      "2022-03-18 15:11:45.349376 starting: loading list-style freyberg6_template\\freyberg6.sfr_perioddata_8.txt\n",
      "2022-03-18 15:11:45.350370 starting: reading list-style file: freyberg6_template\\freyberg6.sfr_perioddata_8.txt\n",
      "2022-03-18 15:11:45.352540 finished: reading list-style file: freyberg6_template\\freyberg6.sfr_perioddata_8.txt took: 0:00:00.002170\n",
      "2022-03-18 15:11:45.352540 loaded list-style 'freyberg6_template\\freyberg6.sfr_perioddata_8.txt' of shape (1, 3)\n",
      "2022-03-18 15:11:45.353372 finished: loading list-style freyberg6_template\\freyberg6.sfr_perioddata_8.txt took: 0:00:00.003996\n",
      "2022-03-18 15:11:45.354336 starting: writing list-style template file 'freyberg6_template\\sfr_gr_inst23_grid.csv.tpl'\n",
      "2022-03-18 15:11:45.358359 WARNING: get_xy() warning: need locational information (e.g. i,j) to generate xy, insufficient index cols passed to interpret: (0,)\n",
      "2022-03-18 15:11:45.371290 finished: writing list-style template file 'freyberg6_template\\sfr_gr_inst23_grid.csv.tpl' took: 0:00:00.016954\n"
     ]
    },
    {
     "name": "stdout",
     "output_type": "stream",
     "text": [
      "2022-03-18 15:11:45.379303 finished: adding grid type m style parameters for file(s) ['freyberg6.sfr_perioddata_8.txt'] took: 0:00:00.029927\n",
      "2022-03-18 15:11:45.380301 starting: adding grid type m style parameters for file(s) ['freyberg6.sfr_perioddata_9.txt']\n",
      "2022-03-18 15:11:45.380301 starting: loading list-style freyberg6_template\\freyberg6.sfr_perioddata_9.txt\n",
      "2022-03-18 15:11:45.380301 starting: reading list-style file: freyberg6_template\\freyberg6.sfr_perioddata_9.txt\n",
      "2022-03-18 15:11:45.382294 finished: reading list-style file: freyberg6_template\\freyberg6.sfr_perioddata_9.txt took: 0:00:00.001993\n",
      "2022-03-18 15:11:45.382294 loaded list-style 'freyberg6_template\\freyberg6.sfr_perioddata_9.txt' of shape (1, 3)\n",
      "2022-03-18 15:11:45.383292 finished: loading list-style freyberg6_template\\freyberg6.sfr_perioddata_9.txt took: 0:00:00.002991\n",
      "2022-03-18 15:11:45.384255 starting: writing list-style template file 'freyberg6_template\\sfr_gr_inst24_grid.csv.tpl'\n",
      "2022-03-18 15:11:45.388279 WARNING: get_xy() warning: need locational information (e.g. i,j) to generate xy, insufficient index cols passed to interpret: (0,)\n",
      "2022-03-18 15:11:45.400285 finished: writing list-style template file 'freyberg6_template\\sfr_gr_inst24_grid.csv.tpl' took: 0:00:00.016030\n",
      "2022-03-18 15:11:45.409259 finished: adding grid type m style parameters for file(s) ['freyberg6.sfr_perioddata_9.txt'] took: 0:00:00.028958\n"
     ]
    }
   ],
   "source": [
    "# SFR inflow\n",
    "files = [f for f in os.listdir(template_ws) if \"sfr_perioddata\" in f and f.endswith(\".txt\")]\n",
    "for f in files:\n",
    "    # get the stress period number from the file name\n",
    "    kper = int(f.split('.')[1].split('_')[-1]) - 1  \n",
    "    # add the parameters\n",
    "    pf.add_parameters(filenames=f,\n",
    "                        index_cols=[0], #reach number\n",
    "                        use_cols=[2],   #columns with parameter values\n",
    "                        par_type=\"grid\",    \n",
    "                        par_name_base=\"sfr_gr\",\n",
    "                        pargp=\"sfr_gr\", \n",
    "                        upper_bound = 1.5, lower_bound=0.5, #don't need ult_bounds because it is a single multiplier\n",
    "                        datetime=dts[kper], # this places the parameter value on the \"time axis\"\n",
    "                        geostruct=temporal_gs)"
   ]
  },
  {
   "cell_type": "markdown",
   "metadata": {},
   "source": [
    "### 6. The Forward Run Script\n",
    "\n",
    "OK! So, we almost have all the base building blocks for a PEST(++) dataset. We have some (1) observations and some (2) parameters. We are still missing (3) the \"forward run\" script. Recall that in the PEST world, the \"model\" is not just the numerical model (e.g. MODFLOW). Instead it is a composite of the numerical model (or models) and pre- and post-processing steps, encapsulated in a \"forward run\" script which can be called from the command line. This command line instruction is what PEST(++) sees as \"the model\". During execution, PEST(++) writes values to parameter files, runs \"the model\", and then reads values from the observation files.\n",
    "\n",
    "`PstFrom` automates the generation of such a script when constructing the PEST control file. The script is written to file named `forward_run.py`. It is written in Python (this is not a PEST(++) requirement, merely a convenience...we are working in Python after all...). \n",
    "\n",
    "How about we see that in action? Magic time! Let's create the PEST control file.\n",
    "\n",
    "#### 6.1. Build Pst\n",
    "\n",
    "The `PstFrom.build_pst()` method builds a control file from the `PstFrom` object. It will write a PEST control file to the template folder. It will also write the `forward_run.py` script. It returns a pyEMU `Pst` object with all the information of the PEST control file. You can subsequently edit this `Pst` object. However, (***IMPORTANT***) any subsequent changes to the `Pst` object are not reflected in the `PstFrom` object, or viceversa. If you subsequently use `PstFrom` to add more observation or parameter files, you will need to re-build the `Pst` object. When you do so, all edits to the `Pst` object will be lost. Keep this in mind when designing your workflow.\n",
    "\n",
    "\n",
    "Here we go!\n",
    "\n",
    "(Note: in a normal workflow, we probably wouldn't do this yet. We are doing so now for demonstration purposes.)"
   ]
  },
  {
   "cell_type": "code",
   "execution_count": 34,
   "metadata": {
    "execution": {
     "iopub.execute_input": "2022-03-18T04:41:45.422193Z",
     "iopub.status.busy": "2022-03-18T04:41:45.422193Z",
     "iopub.status.idle": "2022-03-18T04:41:47.392325Z",
     "shell.execute_reply": "2022-03-18T04:41:47.393323Z"
    }
   },
   "outputs": [
    {
     "name": "stdout",
     "output_type": "stream",
     "text": [
      "noptmax:0, npar_adj:25454, nnz_obs:725\n"
     ]
    }
   ],
   "source": [
    "pst = pf.build_pst()"
   ]
  },
  {
   "cell_type": "markdown",
   "metadata": {},
   "source": [
    "Boom! Done. (Well almost.) Check the folder. You should see a new .pst file and the `forward_run.py` file. By default, the .pst file is named after the original model folder name. "
   ]
  },
  {
   "cell_type": "code",
   "execution_count": 35,
   "metadata": {
    "execution": {
     "iopub.execute_input": "2022-03-18T04:41:47.396345Z",
     "iopub.status.busy": "2022-03-18T04:41:47.395316Z",
     "iopub.status.idle": "2022-03-18T04:41:47.400304Z",
     "shell.execute_reply": "2022-03-18T04:41:47.400304Z"
    }
   },
   "outputs": [
    {
     "data": {
      "text/plain": [
       "['forward_run.py', 'freyberg_mf6.pst']"
      ]
     },
     "execution_count": 35,
     "metadata": {},
     "output_type": "execute_result"
    }
   ],
   "source": [
    "[f for f in os.listdir(template_ws) if f.endswith(\".py\") or f.endswith(\".pst\") ]"
   ]
  },
  {
   "cell_type": "markdown",
   "metadata": {},
   "source": [
    "We will get to the `pst` object later on (see also the \"intro to pyemu\" tutorial notebook). For now, let's focus on the `forward_run.py` script. It is printed out below.\n",
    "\n",
    "This script does a bunch of things:\n",
    " - it loads necessary dependecies\n",
    " - it removes model output files to avoid the possibility of files from a previous model run being read by mistake;\n",
    " - it runs pre-processing steps (see `pyemu.helpers.apply_list_and_array_pars()`;\n",
    " - it executes system commands (usually running the simulator, i.e. MODFLOW). (*This is still missing. We will demonstrate next.*)\n",
    " - it executes post-processing steps; (*for now there aren't any*)\n",
    " - ...it washes the dishes (sorry, no it doesn't...this feature is still in development)."
   ]
  },
  {
   "cell_type": "code",
   "execution_count": 36,
   "metadata": {
    "execution": {
     "iopub.execute_input": "2022-03-18T04:41:47.404293Z",
     "iopub.status.busy": "2022-03-18T04:41:47.403296Z",
     "iopub.status.idle": "2022-03-18T04:41:47.410303Z",
     "shell.execute_reply": "2022-03-18T04:41:47.409280Z"
    }
   },
   "outputs": [
    {
     "name": "stdout",
     "output_type": "stream",
     "text": [
      "import os\n",
      "import multiprocessing as mp\n",
      "import numpy as np\n",
      "import pandas as pd\n",
      "import pyemu\n",
      "def main():\n",
      "\n",
      "    try:\n",
      "       os.remove(r'heads.csv')\n",
      "    except Exception as e:\n",
      "       print(r'error removing tmp file:heads.csv')\n",
      "    try:\n",
      "       os.remove(r'sfr.csv')\n",
      "    except Exception as e:\n",
      "       print(r'error removing tmp file:sfr.csv')\n",
      "    pyemu.helpers.apply_list_and_array_pars(arr_par_file='mult2model_info.csv',chunk_len=50)\n",
      "\n",
      "if __name__ == '__main__':\n",
      "    mp.freeze_support()\n",
      "    main()\n",
      "\n"
     ]
    }
   ],
   "source": [
    "_ = [print(line.rstrip()) for line in open(os.path.join(template_ws,\"forward_run.py\"))]"
   ]
  },
  {
   "cell_type": "markdown",
   "metadata": {},
   "source": [
    "That's pretty amazing. But as we just saw, we still need to add commands to actualy run the model.\n",
    "\n",
    "`PstFrom` allows you to pass a list of system commands which will be executed in sequence. It also has methods for including Python functions that run before or after the system commands. These make pre-/post-processing a piece of cake. In fact, we have already started to add to it. Remember all of the multiplier and additive parameters we setup? These all require pre-processing steps to convert the PEST-generated multipliers into model input values. `PstFrom` will automatically add these functions to the `forward_run.py` script. Nifty, hey?\n",
    "\n",
    "Next we will demonstrate how to specify the system commands and add Python functions as processing steps.\n",
    "\n",
    "#### 6.2. Sys Commands\n",
    "\n",
    "Let's start by adding a command line instruction. These are stored as a list in `PstFrom.mod_sys_cmds`, which is currently empty. "
   ]
  },
  {
   "cell_type": "code",
   "execution_count": 37,
   "metadata": {
    "execution": {
     "iopub.execute_input": "2022-03-18T04:41:47.413269Z",
     "iopub.status.busy": "2022-03-18T04:41:47.412295Z",
     "iopub.status.idle": "2022-03-18T04:41:47.415264Z",
     "shell.execute_reply": "2022-03-18T04:41:47.415264Z"
    }
   },
   "outputs": [
    {
     "data": {
      "text/plain": [
       "[]"
      ]
     },
     "execution_count": 37,
     "metadata": {},
     "output_type": "execute_result"
    }
   ],
   "source": [
    "pf.mod_sys_cmds "
   ]
  },
  {
   "cell_type": "markdown",
   "metadata": {},
   "source": [
    "To run a MODFLOW6 model from the command line, you can simply execute `mf6` in the model folder. So, we can add this command by appending it to the list. (Do this only once! Every time you append 'mf6' results in an additional call to MODFLOW6, meaning the model would be run multiple times.)\n",
    "\n",
    "`PstFrom` will add a line to `forward_run.py` w"
   ]
  },
  {
   "cell_type": "code",
   "execution_count": 38,
   "metadata": {
    "execution": {
     "iopub.execute_input": "2022-03-18T04:41:47.419277Z",
     "iopub.status.busy": "2022-03-18T04:41:47.418256Z",
     "iopub.status.idle": "2022-03-18T04:41:47.422269Z",
     "shell.execute_reply": "2022-03-18T04:41:47.422269Z"
    }
   },
   "outputs": [
    {
     "data": {
      "text/plain": [
       "['mf6']"
      ]
     },
     "execution_count": 38,
     "metadata": {},
     "output_type": "execute_result"
    }
   ],
   "source": [
    "pf.mod_sys_cmds.append(\"mf6\") #do this only once\n",
    "pf.mod_sys_cmds"
   ]
  },
  {
   "cell_type": "markdown",
   "metadata": {},
   "source": [
    "OK, now let's re-build the Pst control file and check out the changes ot the `forward_run.py` script.\n",
    "\n",
    "You should see that `pyemu.os_utils.run(r'mf6')` has been added after the pre-processing functions."
   ]
  },
  {
   "cell_type": "code",
   "execution_count": 39,
   "metadata": {
    "execution": {
     "iopub.execute_input": "2022-03-18T04:41:47.455191Z",
     "iopub.status.busy": "2022-03-18T04:41:47.429225Z",
     "iopub.status.idle": "2022-03-18T04:41:49.392753Z",
     "shell.execute_reply": "2022-03-18T04:41:49.392753Z"
    }
   },
   "outputs": [
    {
     "name": "stdout",
     "output_type": "stream",
     "text": [
      "noptmax:0, npar_adj:25454, nnz_obs:725\n"
     ]
    },
    {
     "name": "stdout",
     "output_type": "stream",
     "text": [
      "2022-03-18 15:11:49.098545 forward_run line:pyemu.os_utils.run(r'mf6')\n",
      "\n"
     ]
    },
    {
     "name": "stdout",
     "output_type": "stream",
     "text": [
      "import os\n",
      "import multiprocessing as mp\n",
      "import numpy as np\n",
      "import pandas as pd\n",
      "import pyemu\n",
      "def main():\n",
      "\n",
      "    try:\n",
      "       os.remove(r'heads.csv')\n",
      "    except Exception as e:\n",
      "       print(r'error removing tmp file:heads.csv')\n",
      "    try:\n",
      "       os.remove(r'sfr.csv')\n",
      "    except Exception as e:\n",
      "       print(r'error removing tmp file:sfr.csv')\n",
      "    pyemu.helpers.apply_list_and_array_pars(arr_par_file='mult2model_info.csv',chunk_len=50)\n",
      "    pyemu.os_utils.run(r'mf6')\n",
      "\n",
      "\n",
      "if __name__ == '__main__':\n",
      "    mp.freeze_support()\n",
      "    main()\n",
      "\n"
     ]
    }
   ],
   "source": [
    "pst = pf.build_pst()\n",
    "\n",
    "_ = [print(line.rstrip()) for line in open(os.path.join(template_ws,\"forward_run.py\"))]"
   ]
  },
  {
   "cell_type": "markdown",
   "metadata": {},
   "source": [
    "#### 6.3. Extra pre- and post-processing functions\n",
    "\n",
    "You will also certainly need to include some additional processing steps.  These are supported thru the `PstFrom.pre_py_cmds` and `PstFrom.post_py_cmds`, which are lists for pre and post model run python commands and `PstFrom.pre_sys_cmds` and `PstFrom.post_sys_cmds`, which are lists for pre and post model run system commands (these are wrapped in `pyemu.os_utils.run()`.  \n",
    "\n",
    "But what if your additional steps are actually an entire python function? Well, we got that too! `PstFrom.add_py_function()`. This method allows you to get functions from another (pre-prepared) python source file and add them to the `forward_run.py` script. We will deonstrate this to post-process secondary model observations after each run.\n",
    "\n",
    "#### 6.3.1. Secondary Observations\n",
    "\n",
    "Often it is usefull to include \"secondary model outcomes\" as observations. These can be important components in a history-matching dataset to tease out specific aspects of system behaviour (e.g. head differences between aquifer layers to inform vertical permeabilities). Or they may be simple summaries of modelled outputs which are of interest for a prediction (e.g. minimum simulated head over a given period).\n",
    "\n",
    "If you inspect the tutorial folder you will find a file named `helpers.py`. This is a python source file which we have prepared for you. (Open it to see how it is organized.) It contains a function named `process_secondary_obs()`. This function reads the model output .csv files, processes them and writes a series of new observation .csv files. These new files contain (1) the temporal-differences between head and SFR observations, and (2) the difference in heads between the top and bottom layers at each observation point. The new .csv files are named `heads.tdiff.csv`,`sfr.tdiff.csv` and `heads.vdiff.csv` respectively.\n",
    "\n",
    "First, lets load the function here and run it so you can see what happens. (And to make sure that the observation files are in the template folder!) \n",
    "\n",
    "Run the next cell, then inspect the template folder. You should see three new csv files. These are the new secondary observations calculated by the post-processing function."
   ]
  },
  {
   "cell_type": "code",
   "execution_count": 40,
   "metadata": {
    "execution": {
     "iopub.execute_input": "2022-03-18T04:41:49.396741Z",
     "iopub.status.busy": "2022-03-18T04:41:49.395744Z",
     "iopub.status.idle": "2022-03-18T04:41:49.412736Z",
     "shell.execute_reply": "2022-03-18T04:41:49.412736Z"
    }
   },
   "outputs": [
    {
     "name": "stdout",
     "output_type": "stream",
     "text": [
      "Secondary observation files processed.\n"
     ]
    }
   ],
   "source": [
    "from helpers import  process_secondary_obs\n",
    "\n",
    "process_secondary_obs(ws=template_ws)"
   ]
  },
  {
   "cell_type": "code",
   "execution_count": 41,
   "metadata": {
    "execution": {
     "iopub.execute_input": "2022-03-18T04:41:49.415692Z",
     "iopub.status.busy": "2022-03-18T04:41:49.415692Z",
     "iopub.status.idle": "2022-03-18T04:41:49.421675Z",
     "shell.execute_reply": "2022-03-18T04:41:49.422672Z"
    }
   },
   "outputs": [
    {
     "data": {
      "text/plain": [
       "['heads.csv',\n",
       " 'heads.tdiff.csv',\n",
       " 'heads.vdiff.csv',\n",
       " 'mult2model_info.csv',\n",
       " 'sfr.csv',\n",
       " 'sfr.tdiff.csv']"
      ]
     },
     "execution_count": 41,
     "metadata": {},
     "output_type": "execute_result"
    }
   ],
   "source": [
    "[f for f in os.listdir(template_ws) if f.endswith(\".csv\")]"
   ]
  },
  {
   "cell_type": "markdown",
   "metadata": {},
   "source": [
    "OK, so now let's add this function to the `forward_run.py` script."
   ]
  },
  {
   "cell_type": "code",
   "execution_count": 42,
   "metadata": {
    "execution": {
     "iopub.execute_input": "2022-03-18T04:41:49.425693Z",
     "iopub.status.busy": "2022-03-18T04:41:49.424666Z",
     "iopub.status.idle": "2022-03-18T04:41:49.429653Z",
     "shell.execute_reply": "2022-03-18T04:41:49.428657Z"
    }
   },
   "outputs": [],
   "source": [
    "pf.add_py_function(\"helpers.py\", # the file which contains the function\n",
    "                    \"process_secondary_obs(ws='.')\", #the function, making sure to specify any arguments it may requrie\n",
    "                    is_pre_cmd=False) # whether it runs before the model system command, or after. In this case, after."
   ]
  },
  {
   "cell_type": "markdown",
   "metadata": {},
   "source": [
    "And, boom! Bob's your uncle. As easy as that.\n",
    "\n",
    "Now, of course we want to add these observations to `PstFrom` as well:"
   ]
  },
  {
   "cell_type": "code",
   "execution_count": 43,
   "metadata": {
    "execution": {
     "iopub.execute_input": "2022-03-18T04:41:49.436660Z",
     "iopub.status.busy": "2022-03-18T04:41:49.435637Z",
     "iopub.status.idle": "2022-03-18T04:41:49.534373Z",
     "shell.execute_reply": "2022-03-18T04:41:49.535580Z"
    }
   },
   "outputs": [
    {
     "name": "stdout",
     "output_type": "stream",
     "text": [
      "2022-03-18 15:11:49.437658 starting: adding observations from output file sfr.tdiff.csv\n",
      "2022-03-18 15:11:49.437658 starting: adding observations from tabular output file '['sfr.tdiff.csv']'\n",
      "2022-03-18 15:11:49.437658 starting: reading list-style file: freyberg6_template\\sfr.tdiff.csv\n",
      "2022-03-18 15:11:49.438660 finished: reading list-style file: freyberg6_template\\sfr.tdiff.csv took: 0:00:00.001002\n",
      "2022-03-18 15:11:49.439660 starting: building insfile for tabular output file sfr.tdiff.csv\n",
      "2022-03-18 15:11:49.445611 finished: building insfile for tabular output file sfr.tdiff.csv took: 0:00:00.005951\n",
      "2022-03-18 15:11:49.446641 starting: adding observation from instruction file 'freyberg6_template\\sfr.tdiff.csv.ins'\n",
      "2022-03-18 15:11:49.454620 finished: adding observation from instruction file 'freyberg6_template\\sfr.tdiff.csv.ins' took: 0:00:00.007979\n",
      "2022-03-18 15:11:49.455619 finished: adding observations from tabular output file '['sfr.tdiff.csv']' took: 0:00:00.017961\n",
      "2022-03-18 15:11:49.464593 starting: adding observations from output file heads.tdiff.csv\n",
      "2022-03-18 15:11:49.464593 starting: adding observations from tabular output file '['heads.tdiff.csv']'\n",
      "2022-03-18 15:11:49.464593 starting: reading list-style file: freyberg6_template\\heads.tdiff.csv\n",
      "2022-03-18 15:11:49.466588 finished: reading list-style file: freyberg6_template\\heads.tdiff.csv took: 0:00:00.001995\n",
      "2022-03-18 15:11:49.466588 starting: building insfile for tabular output file heads.tdiff.csv\n",
      "2022-03-18 15:11:49.475564 finished: building insfile for tabular output file heads.tdiff.csv took: 0:00:00.008976\n",
      "2022-03-18 15:11:49.475564 starting: adding observation from instruction file 'freyberg6_template\\heads.tdiff.csv.ins'\n",
      "2022-03-18 15:11:49.494480 finished: adding observation from instruction file 'freyberg6_template\\heads.tdiff.csv.ins' took: 0:00:00.018916\n",
      "2022-03-18 15:11:49.495512 finished: adding observations from tabular output file '['heads.tdiff.csv']' took: 0:00:00.030919\n",
      "2022-03-18 15:11:49.503496 starting: adding observations from output file heads.vdiff.csv\n",
      "2022-03-18 15:11:49.503496 starting: adding observations from tabular output file '['heads.vdiff.csv']'\n",
      "2022-03-18 15:11:49.503496 starting: reading list-style file: freyberg6_template\\heads.vdiff.csv\n",
      "2022-03-18 15:11:49.505450 finished: reading list-style file: freyberg6_template\\heads.vdiff.csv took: 0:00:00.001954\n",
      "2022-03-18 15:11:49.505450 starting: building insfile for tabular output file heads.vdiff.csv\n",
      "2022-03-18 15:11:49.512466 finished: building insfile for tabular output file heads.vdiff.csv took: 0:00:00.007016\n",
      "2022-03-18 15:11:49.513462 starting: adding observation from instruction file 'freyberg6_template\\heads.vdiff.csv.ins'\n",
      "2022-03-18 15:11:49.529386 finished: adding observation from instruction file 'freyberg6_template\\heads.vdiff.csv.ins' took: 0:00:00.015924\n",
      "2022-03-18 15:11:49.530383 finished: adding observations from tabular output file '['heads.vdiff.csv']' took: 0:00:00.026887\n"
     ]
    }
   ],
   "source": [
    "\n",
    "df = pd.read_csv(os.path.join(template_ws, \"sfr.tdiff.csv\"), index_col=0)\n",
    "_ = pf.add_observations(\"sfr.tdiff.csv\", # the model output file to read\n",
    "                            insfile=\"sfr.tdiff.csv.ins\", #optional, the instruction file name\n",
    "                            index_cols=\"time\", #column header to use as index; can also use column number (zero-based) instead of the header name\n",
    "                            use_cols=list(df.columns.values), #names of columns that include observation values; can also use column number (zero-based) instead of the header name\n",
    "                            prefix=\"sfrtd\") #prefix to all observation \n",
    "                            \n",
    "df = pd.read_csv(os.path.join(template_ws, \"heads.tdiff.csv\"), index_col=0)\n",
    "_ = pf.add_observations(\"heads.tdiff.csv\", # the model output file to read\n",
    "                            insfile=\"heads.tdiff.csv.ins\", #optional, the instruction file name\n",
    "                            index_cols=\"time\", #column header to use as index; can also use column number (zero-based) instead of the header name\n",
    "                            use_cols=list(df.columns.values), #names of columns that include observation values; can also use column number (zero-based) instead of the header name\n",
    "                            prefix=\"hdstd\") #prefix to all observation names\n",
    "\n",
    "df = pd.read_csv(os.path.join(template_ws, \"heads.vdiff.csv\"), index_col=0)\n",
    "_ = pf.add_observations(\"heads.vdiff.csv\", # the model output file to read\n",
    "                            insfile=\"heads.vdiff.csv.ins\", #optional, the instruction file name\n",
    "                            index_cols=\"time\", #column header to use as index; can also use column number (zero-based) instead of the header name\n",
    "                            use_cols=list(df.columns.values), #names of columns that include observation values; can also use column number (zero-based) instead of the header name\n",
    "                            prefix=\"hdsvd\") #prefix to all observation names"
   ]
  },
  {
   "cell_type": "markdown",
   "metadata": {},
   "source": [
    "Remember to re-build the Pst control file:"
   ]
  },
  {
   "cell_type": "code",
   "execution_count": 44,
   "metadata": {
    "execution": {
     "iopub.execute_input": "2022-03-18T04:41:49.552325Z",
     "iopub.status.busy": "2022-03-18T04:41:49.545343Z",
     "iopub.status.idle": "2022-03-18T04:41:51.502438Z",
     "shell.execute_reply": "2022-03-18T04:41:51.502438Z"
    }
   },
   "outputs": [
    {
     "name": "stdout",
     "output_type": "stream",
     "text": [
      "noptmax:0, npar_adj:25454, nnz_obs:1775\n"
     ]
    },
    {
     "name": "stdout",
     "output_type": "stream",
     "text": [
      "2022-03-18 15:11:51.219041 WARNING: sys_cmd 'pyemu.os_utils.run(r'mf6')\n",
      "' already in sys cmds, skipping...\n"
     ]
    }
   ],
   "source": [
    "pst = pf.build_pst()"
   ]
  },
  {
   "cell_type": "markdown",
   "metadata": {},
   "source": [
    "### 7. After Building the Control File\n",
    "\n",
    "At this point, we can do some additional modifications that would typically be done that are problem specific.  Here we can tweak the setup, specifying things such as observation weights, parameter bounds, transforms, control data, etc. \n",
    "\n",
    "Note that any modifications made after calling `PstFrom.build_pst()` will only exist in memory - you need to call `pf.pst.write()` to record these changes to the control file on disk.  Also note that if you call `PstFrom.build_pst()` after making some changes, these changes will be lost.  \n",
    "\n",
    "For the current case, the main thing we haven't addressed are the observation weights. We will do so now.\n",
    "\n",
    "#### 7.1. Setting observation weights\n",
    "\n",
    "So far, we have automated the setup for PEST(++).  But one critical task remains and there is not an easy way to automate it:  setting the actual observed values and weights in the `* observation data` information.  \n",
    "\n",
    "`PstFrom` and `Pst` will both try to read existing model output files that correspond to instruction files and put those simulated values into the `* observation data` section for the observed values (the `obsval` quantity).  Here, we pre-populated the model output files with \"measured values\". So, in our case, we are OK in this regard.  Alternatively, we could have edited the `* observation data` at this stage, assigning the respective measured values into the `obsval` column. \n",
    "\n",
    "What we are unable to deal with beforehand are the observation weights. Let's take a look at the observation data:"
   ]
  },
  {
   "cell_type": "code",
   "execution_count": 45,
   "metadata": {
    "execution": {
     "iopub.execute_input": "2022-03-18T04:41:51.515395Z",
     "iopub.status.busy": "2022-03-18T04:41:51.505434Z",
     "iopub.status.idle": "2022-03-18T04:41:51.519385Z",
     "shell.execute_reply": "2022-03-18T04:41:51.518363Z"
    }
   },
   "outputs": [
    {
     "data": {
      "text/html": [
       "<div>\n",
       "<style scoped>\n",
       "    .dataframe tbody tr th:only-of-type {\n",
       "        vertical-align: middle;\n",
       "    }\n",
       "\n",
       "    .dataframe tbody tr th {\n",
       "        vertical-align: top;\n",
       "    }\n",
       "\n",
       "    .dataframe thead th {\n",
       "        text-align: right;\n",
       "    }\n",
       "</style>\n",
       "<table border=\"1\" class=\"dataframe\">\n",
       "  <thead>\n",
       "    <tr style=\"text-align: right;\">\n",
       "      <th></th>\n",
       "      <th>obsnme</th>\n",
       "      <th>obsval</th>\n",
       "      <th>weight</th>\n",
       "      <th>obgnme</th>\n",
       "      <th>oname</th>\n",
       "      <th>otype</th>\n",
       "      <th>usecol</th>\n",
       "      <th>time</th>\n",
       "    </tr>\n",
       "  </thead>\n",
       "  <tbody>\n",
       "    <tr>\n",
       "      <th>oname:hds_otype:lst_usecol:trgw_0_13_10_time:1.0</th>\n",
       "      <td>oname:hds_otype:lst_usecol:trgw_0_13_10_time:1.0</td>\n",
       "      <td>34.406181</td>\n",
       "      <td>1.0</td>\n",
       "      <td>oname:hds_otype:lst_usecol:trgw_0_13_10</td>\n",
       "      <td>hds</td>\n",
       "      <td>lst</td>\n",
       "      <td>trgw</td>\n",
       "      <td>1.0</td>\n",
       "    </tr>\n",
       "    <tr>\n",
       "      <th>oname:hds_otype:lst_usecol:trgw_0_13_10_time:122.0</th>\n",
       "      <td>oname:hds_otype:lst_usecol:trgw_0_13_10_time:122.0</td>\n",
       "      <td>34.450661</td>\n",
       "      <td>1.0</td>\n",
       "      <td>oname:hds_otype:lst_usecol:trgw_0_13_10</td>\n",
       "      <td>hds</td>\n",
       "      <td>lst</td>\n",
       "      <td>trgw</td>\n",
       "      <td>122.0</td>\n",
       "    </tr>\n",
       "    <tr>\n",
       "      <th>oname:hds_otype:lst_usecol:trgw_0_13_10_time:153.0</th>\n",
       "      <td>oname:hds_otype:lst_usecol:trgw_0_13_10_time:153.0</td>\n",
       "      <td>34.441799</td>\n",
       "      <td>1.0</td>\n",
       "      <td>oname:hds_otype:lst_usecol:trgw_0_13_10</td>\n",
       "      <td>hds</td>\n",
       "      <td>lst</td>\n",
       "      <td>trgw</td>\n",
       "      <td>153.0</td>\n",
       "    </tr>\n",
       "    <tr>\n",
       "      <th>oname:hds_otype:lst_usecol:trgw_0_13_10_time:183.0</th>\n",
       "      <td>oname:hds_otype:lst_usecol:trgw_0_13_10_time:183.0</td>\n",
       "      <td>34.375622</td>\n",
       "      <td>1.0</td>\n",
       "      <td>oname:hds_otype:lst_usecol:trgw_0_13_10</td>\n",
       "      <td>hds</td>\n",
       "      <td>lst</td>\n",
       "      <td>trgw</td>\n",
       "      <td>183.0</td>\n",
       "    </tr>\n",
       "    <tr>\n",
       "      <th>oname:hds_otype:lst_usecol:trgw_0_13_10_time:214.0</th>\n",
       "      <td>oname:hds_otype:lst_usecol:trgw_0_13_10_time:214.0</td>\n",
       "      <td>34.323056</td>\n",
       "      <td>1.0</td>\n",
       "      <td>oname:hds_otype:lst_usecol:trgw_0_13_10</td>\n",
       "      <td>hds</td>\n",
       "      <td>lst</td>\n",
       "      <td>trgw</td>\n",
       "      <td>214.0</td>\n",
       "    </tr>\n",
       "    <tr>\n",
       "      <th>...</th>\n",
       "      <td>...</td>\n",
       "      <td>...</td>\n",
       "      <td>...</td>\n",
       "      <td>...</td>\n",
       "      <td>...</td>\n",
       "      <td>...</td>\n",
       "      <td>...</td>\n",
       "      <td>...</td>\n",
       "    </tr>\n",
       "    <tr>\n",
       "      <th>oname:hdsvd_otype:lst_usecol:trgw_0_9_1_time:640.0</th>\n",
       "      <td>oname:hdsvd_otype:lst_usecol:trgw_0_9_1_time:640.0</td>\n",
       "      <td>0.002537</td>\n",
       "      <td>1.0</td>\n",
       "      <td>oname:hdsvd_otype:lst_usecol:trgw_0_9_1</td>\n",
       "      <td>hdsvd</td>\n",
       "      <td>lst</td>\n",
       "      <td>trgw</td>\n",
       "      <td>640.0</td>\n",
       "    </tr>\n",
       "    <tr>\n",
       "      <th>oname:hdsvd_otype:lst_usecol:trgw_0_9_1_time:671.0</th>\n",
       "      <td>oname:hdsvd_otype:lst_usecol:trgw_0_9_1_time:671.0</td>\n",
       "      <td>0.003066</td>\n",
       "      <td>1.0</td>\n",
       "      <td>oname:hdsvd_otype:lst_usecol:trgw_0_9_1</td>\n",
       "      <td>hdsvd</td>\n",
       "      <td>lst</td>\n",
       "      <td>trgw</td>\n",
       "      <td>671.0</td>\n",
       "    </tr>\n",
       "    <tr>\n",
       "      <th>oname:hdsvd_otype:lst_usecol:trgw_0_9_1_time:701.0</th>\n",
       "      <td>oname:hdsvd_otype:lst_usecol:trgw_0_9_1_time:701.0</td>\n",
       "      <td>0.002878</td>\n",
       "      <td>1.0</td>\n",
       "      <td>oname:hdsvd_otype:lst_usecol:trgw_0_9_1</td>\n",
       "      <td>hdsvd</td>\n",
       "      <td>lst</td>\n",
       "      <td>trgw</td>\n",
       "      <td>701.0</td>\n",
       "    </tr>\n",
       "    <tr>\n",
       "      <th>oname:hdsvd_otype:lst_usecol:trgw_0_9_1_time:732.0</th>\n",
       "      <td>oname:hdsvd_otype:lst_usecol:trgw_0_9_1_time:732.0</td>\n",
       "      <td>0.007718</td>\n",
       "      <td>1.0</td>\n",
       "      <td>oname:hdsvd_otype:lst_usecol:trgw_0_9_1</td>\n",
       "      <td>hdsvd</td>\n",
       "      <td>lst</td>\n",
       "      <td>trgw</td>\n",
       "      <td>732.0</td>\n",
       "    </tr>\n",
       "    <tr>\n",
       "      <th>oname:hdsvd_otype:lst_usecol:trgw_0_9_1_time:92.0</th>\n",
       "      <td>oname:hdsvd_otype:lst_usecol:trgw_0_9_1_time:92.0</td>\n",
       "      <td>0.004588</td>\n",
       "      <td>1.0</td>\n",
       "      <td>oname:hdsvd_otype:lst_usecol:trgw_0_9_1</td>\n",
       "      <td>hdsvd</td>\n",
       "      <td>lst</td>\n",
       "      <td>trgw</td>\n",
       "      <td>92.0</td>\n",
       "    </tr>\n",
       "  </tbody>\n",
       "</table>\n",
       "<p>1775 rows × 8 columns</p>\n",
       "</div>"
      ],
      "text/plain": [
       "                                                                                                obsnme  \\\n",
       "oname:hds_otype:lst_usecol:trgw_0_13_10_time:1.0      oname:hds_otype:lst_usecol:trgw_0_13_10_time:1.0   \n",
       "oname:hds_otype:lst_usecol:trgw_0_13_10_time:122.0  oname:hds_otype:lst_usecol:trgw_0_13_10_time:122.0   \n",
       "oname:hds_otype:lst_usecol:trgw_0_13_10_time:153.0  oname:hds_otype:lst_usecol:trgw_0_13_10_time:153.0   \n",
       "oname:hds_otype:lst_usecol:trgw_0_13_10_time:183.0  oname:hds_otype:lst_usecol:trgw_0_13_10_time:183.0   \n",
       "oname:hds_otype:lst_usecol:trgw_0_13_10_time:214.0  oname:hds_otype:lst_usecol:trgw_0_13_10_time:214.0   \n",
       "...                                                                                                ...   \n",
       "oname:hdsvd_otype:lst_usecol:trgw_0_9_1_time:640.0  oname:hdsvd_otype:lst_usecol:trgw_0_9_1_time:640.0   \n",
       "oname:hdsvd_otype:lst_usecol:trgw_0_9_1_time:671.0  oname:hdsvd_otype:lst_usecol:trgw_0_9_1_time:671.0   \n",
       "oname:hdsvd_otype:lst_usecol:trgw_0_9_1_time:701.0  oname:hdsvd_otype:lst_usecol:trgw_0_9_1_time:701.0   \n",
       "oname:hdsvd_otype:lst_usecol:trgw_0_9_1_time:732.0  oname:hdsvd_otype:lst_usecol:trgw_0_9_1_time:732.0   \n",
       "oname:hdsvd_otype:lst_usecol:trgw_0_9_1_time:92.0    oname:hdsvd_otype:lst_usecol:trgw_0_9_1_time:92.0   \n",
       "\n",
       "                                                       obsval  weight  \\\n",
       "oname:hds_otype:lst_usecol:trgw_0_13_10_time:1.0    34.406181     1.0   \n",
       "oname:hds_otype:lst_usecol:trgw_0_13_10_time:122.0  34.450661     1.0   \n",
       "oname:hds_otype:lst_usecol:trgw_0_13_10_time:153.0  34.441799     1.0   \n",
       "oname:hds_otype:lst_usecol:trgw_0_13_10_time:183.0  34.375622     1.0   \n",
       "oname:hds_otype:lst_usecol:trgw_0_13_10_time:214.0  34.323056     1.0   \n",
       "...                                                       ...     ...   \n",
       "oname:hdsvd_otype:lst_usecol:trgw_0_9_1_time:640.0   0.002537     1.0   \n",
       "oname:hdsvd_otype:lst_usecol:trgw_0_9_1_time:671.0   0.003066     1.0   \n",
       "oname:hdsvd_otype:lst_usecol:trgw_0_9_1_time:701.0   0.002878     1.0   \n",
       "oname:hdsvd_otype:lst_usecol:trgw_0_9_1_time:732.0   0.007718     1.0   \n",
       "oname:hdsvd_otype:lst_usecol:trgw_0_9_1_time:92.0    0.004588     1.0   \n",
       "\n",
       "                                                                                     obgnme  \\\n",
       "oname:hds_otype:lst_usecol:trgw_0_13_10_time:1.0    oname:hds_otype:lst_usecol:trgw_0_13_10   \n",
       "oname:hds_otype:lst_usecol:trgw_0_13_10_time:122.0  oname:hds_otype:lst_usecol:trgw_0_13_10   \n",
       "oname:hds_otype:lst_usecol:trgw_0_13_10_time:153.0  oname:hds_otype:lst_usecol:trgw_0_13_10   \n",
       "oname:hds_otype:lst_usecol:trgw_0_13_10_time:183.0  oname:hds_otype:lst_usecol:trgw_0_13_10   \n",
       "oname:hds_otype:lst_usecol:trgw_0_13_10_time:214.0  oname:hds_otype:lst_usecol:trgw_0_13_10   \n",
       "...                                                                                     ...   \n",
       "oname:hdsvd_otype:lst_usecol:trgw_0_9_1_time:640.0  oname:hdsvd_otype:lst_usecol:trgw_0_9_1   \n",
       "oname:hdsvd_otype:lst_usecol:trgw_0_9_1_time:671.0  oname:hdsvd_otype:lst_usecol:trgw_0_9_1   \n",
       "oname:hdsvd_otype:lst_usecol:trgw_0_9_1_time:701.0  oname:hdsvd_otype:lst_usecol:trgw_0_9_1   \n",
       "oname:hdsvd_otype:lst_usecol:trgw_0_9_1_time:732.0  oname:hdsvd_otype:lst_usecol:trgw_0_9_1   \n",
       "oname:hdsvd_otype:lst_usecol:trgw_0_9_1_time:92.0   oname:hdsvd_otype:lst_usecol:trgw_0_9_1   \n",
       "\n",
       "                                                    oname otype usecol   time  \n",
       "oname:hds_otype:lst_usecol:trgw_0_13_10_time:1.0      hds   lst   trgw    1.0  \n",
       "oname:hds_otype:lst_usecol:trgw_0_13_10_time:122.0    hds   lst   trgw  122.0  \n",
       "oname:hds_otype:lst_usecol:trgw_0_13_10_time:153.0    hds   lst   trgw  153.0  \n",
       "oname:hds_otype:lst_usecol:trgw_0_13_10_time:183.0    hds   lst   trgw  183.0  \n",
       "oname:hds_otype:lst_usecol:trgw_0_13_10_time:214.0    hds   lst   trgw  214.0  \n",
       "...                                                   ...   ...    ...    ...  \n",
       "oname:hdsvd_otype:lst_usecol:trgw_0_9_1_time:640.0  hdsvd   lst   trgw  640.0  \n",
       "oname:hdsvd_otype:lst_usecol:trgw_0_9_1_time:671.0  hdsvd   lst   trgw  671.0  \n",
       "oname:hdsvd_otype:lst_usecol:trgw_0_9_1_time:701.0  hdsvd   lst   trgw  701.0  \n",
       "oname:hdsvd_otype:lst_usecol:trgw_0_9_1_time:732.0  hdsvd   lst   trgw  732.0  \n",
       "oname:hdsvd_otype:lst_usecol:trgw_0_9_1_time:92.0   hdsvd   lst   trgw   92.0  \n",
       "\n",
       "[1775 rows x 8 columns]"
      ]
     },
     "execution_count": 45,
     "metadata": {},
     "output_type": "execute_result"
    }
   ],
   "source": [
    "obs = pst.observation_data\n",
    "obs"
   ]
  },
  {
   "cell_type": "markdown",
   "metadata": {},
   "source": [
    "Hmm, that's alot of observations. And remember, alot of these pertain to the \"prediction\" period. We definitly do not want those to have an influence on history-matching.\n",
    "\n",
    "To be on the safe side, let's assign a weight of zero to all observations. Then, we will assign weights to specific observations that we wish to include as history-matching targets."
   ]
  },
  {
   "cell_type": "code",
   "execution_count": 46,
   "metadata": {
    "execution": {
     "iopub.execute_input": "2022-03-18T04:41:51.527339Z",
     "iopub.status.busy": "2022-03-18T04:41:51.527339Z",
     "iopub.status.idle": "2022-03-18T04:41:51.530331Z",
     "shell.execute_reply": "2022-03-18T04:41:51.529336Z"
    }
   },
   "outputs": [
    {
     "data": {
      "text/html": [
       "<div>\n",
       "<style scoped>\n",
       "    .dataframe tbody tr th:only-of-type {\n",
       "        vertical-align: middle;\n",
       "    }\n",
       "\n",
       "    .dataframe tbody tr th {\n",
       "        vertical-align: top;\n",
       "    }\n",
       "\n",
       "    .dataframe thead th {\n",
       "        text-align: right;\n",
       "    }\n",
       "</style>\n",
       "<table border=\"1\" class=\"dataframe\">\n",
       "  <thead>\n",
       "    <tr style=\"text-align: right;\">\n",
       "      <th></th>\n",
       "      <th>obsnme</th>\n",
       "      <th>obsval</th>\n",
       "      <th>weight</th>\n",
       "      <th>obgnme</th>\n",
       "      <th>oname</th>\n",
       "      <th>otype</th>\n",
       "      <th>usecol</th>\n",
       "      <th>time</th>\n",
       "    </tr>\n",
       "  </thead>\n",
       "  <tbody>\n",
       "    <tr>\n",
       "      <th>oname:hds_otype:lst_usecol:trgw_0_13_10_time:1.0</th>\n",
       "      <td>oname:hds_otype:lst_usecol:trgw_0_13_10_time:1.0</td>\n",
       "      <td>34.406181</td>\n",
       "      <td>0</td>\n",
       "      <td>oname:hds_otype:lst_usecol:trgw_0_13_10</td>\n",
       "      <td>hds</td>\n",
       "      <td>lst</td>\n",
       "      <td>trgw</td>\n",
       "      <td>1.0</td>\n",
       "    </tr>\n",
       "    <tr>\n",
       "      <th>oname:hds_otype:lst_usecol:trgw_0_13_10_time:122.0</th>\n",
       "      <td>oname:hds_otype:lst_usecol:trgw_0_13_10_time:122.0</td>\n",
       "      <td>34.450661</td>\n",
       "      <td>0</td>\n",
       "      <td>oname:hds_otype:lst_usecol:trgw_0_13_10</td>\n",
       "      <td>hds</td>\n",
       "      <td>lst</td>\n",
       "      <td>trgw</td>\n",
       "      <td>122.0</td>\n",
       "    </tr>\n",
       "    <tr>\n",
       "      <th>oname:hds_otype:lst_usecol:trgw_0_13_10_time:153.0</th>\n",
       "      <td>oname:hds_otype:lst_usecol:trgw_0_13_10_time:153.0</td>\n",
       "      <td>34.441799</td>\n",
       "      <td>0</td>\n",
       "      <td>oname:hds_otype:lst_usecol:trgw_0_13_10</td>\n",
       "      <td>hds</td>\n",
       "      <td>lst</td>\n",
       "      <td>trgw</td>\n",
       "      <td>153.0</td>\n",
       "    </tr>\n",
       "    <tr>\n",
       "      <th>oname:hds_otype:lst_usecol:trgw_0_13_10_time:183.0</th>\n",
       "      <td>oname:hds_otype:lst_usecol:trgw_0_13_10_time:183.0</td>\n",
       "      <td>34.375622</td>\n",
       "      <td>0</td>\n",
       "      <td>oname:hds_otype:lst_usecol:trgw_0_13_10</td>\n",
       "      <td>hds</td>\n",
       "      <td>lst</td>\n",
       "      <td>trgw</td>\n",
       "      <td>183.0</td>\n",
       "    </tr>\n",
       "    <tr>\n",
       "      <th>oname:hds_otype:lst_usecol:trgw_0_13_10_time:214.0</th>\n",
       "      <td>oname:hds_otype:lst_usecol:trgw_0_13_10_time:214.0</td>\n",
       "      <td>34.323056</td>\n",
       "      <td>0</td>\n",
       "      <td>oname:hds_otype:lst_usecol:trgw_0_13_10</td>\n",
       "      <td>hds</td>\n",
       "      <td>lst</td>\n",
       "      <td>trgw</td>\n",
       "      <td>214.0</td>\n",
       "    </tr>\n",
       "  </tbody>\n",
       "</table>\n",
       "</div>"
      ],
      "text/plain": [
       "                                                                                                obsnme  \\\n",
       "oname:hds_otype:lst_usecol:trgw_0_13_10_time:1.0      oname:hds_otype:lst_usecol:trgw_0_13_10_time:1.0   \n",
       "oname:hds_otype:lst_usecol:trgw_0_13_10_time:122.0  oname:hds_otype:lst_usecol:trgw_0_13_10_time:122.0   \n",
       "oname:hds_otype:lst_usecol:trgw_0_13_10_time:153.0  oname:hds_otype:lst_usecol:trgw_0_13_10_time:153.0   \n",
       "oname:hds_otype:lst_usecol:trgw_0_13_10_time:183.0  oname:hds_otype:lst_usecol:trgw_0_13_10_time:183.0   \n",
       "oname:hds_otype:lst_usecol:trgw_0_13_10_time:214.0  oname:hds_otype:lst_usecol:trgw_0_13_10_time:214.0   \n",
       "\n",
       "                                                       obsval  weight  \\\n",
       "oname:hds_otype:lst_usecol:trgw_0_13_10_time:1.0    34.406181       0   \n",
       "oname:hds_otype:lst_usecol:trgw_0_13_10_time:122.0  34.450661       0   \n",
       "oname:hds_otype:lst_usecol:trgw_0_13_10_time:153.0  34.441799       0   \n",
       "oname:hds_otype:lst_usecol:trgw_0_13_10_time:183.0  34.375622       0   \n",
       "oname:hds_otype:lst_usecol:trgw_0_13_10_time:214.0  34.323056       0   \n",
       "\n",
       "                                                                                     obgnme  \\\n",
       "oname:hds_otype:lst_usecol:trgw_0_13_10_time:1.0    oname:hds_otype:lst_usecol:trgw_0_13_10   \n",
       "oname:hds_otype:lst_usecol:trgw_0_13_10_time:122.0  oname:hds_otype:lst_usecol:trgw_0_13_10   \n",
       "oname:hds_otype:lst_usecol:trgw_0_13_10_time:153.0  oname:hds_otype:lst_usecol:trgw_0_13_10   \n",
       "oname:hds_otype:lst_usecol:trgw_0_13_10_time:183.0  oname:hds_otype:lst_usecol:trgw_0_13_10   \n",
       "oname:hds_otype:lst_usecol:trgw_0_13_10_time:214.0  oname:hds_otype:lst_usecol:trgw_0_13_10   \n",
       "\n",
       "                                                   oname otype usecol   time  \n",
       "oname:hds_otype:lst_usecol:trgw_0_13_10_time:1.0     hds   lst   trgw    1.0  \n",
       "oname:hds_otype:lst_usecol:trgw_0_13_10_time:122.0   hds   lst   trgw  122.0  \n",
       "oname:hds_otype:lst_usecol:trgw_0_13_10_time:153.0   hds   lst   trgw  153.0  \n",
       "oname:hds_otype:lst_usecol:trgw_0_13_10_time:183.0   hds   lst   trgw  183.0  \n",
       "oname:hds_otype:lst_usecol:trgw_0_13_10_time:214.0   hds   lst   trgw  214.0  "
      ]
     },
     "execution_count": 46,
     "metadata": {},
     "output_type": "execute_result"
    }
   ],
   "source": [
    "# preemptive avoidance of sillyness\n",
    "obs['weight'] = 0\n",
    "obs.head()"
   ]
  },
  {
   "cell_type": "markdown",
   "metadata": {},
   "source": [
    "Because `PstFrom` is our friend, it kept track of lots of information. We can now use this to help us slice and select specific observations. Scroll though the `obs` columns to see what we have at hand. \n",
    "\n",
    "For example, the `oname` column stores the \"prefix\" we assigned eveytime we called `pf.add_observations()`. This makes it easy for us to now select observations according to which file they were read from.\n",
    "\n",
    "Just as a reminder:"
   ]
  },
  {
   "cell_type": "code",
   "execution_count": 47,
   "metadata": {
    "execution": {
     "iopub.execute_input": "2022-03-18T04:41:51.533322Z",
     "iopub.status.busy": "2022-03-18T04:41:51.533322Z",
     "iopub.status.idle": "2022-03-18T04:41:51.536339Z",
     "shell.execute_reply": "2022-03-18T04:41:51.535459Z"
    }
   },
   "outputs": [
    {
     "data": {
      "text/plain": [
       "array(['hds', 'sfr', 'sfrtd', 'hdstd', 'hdsvd'], dtype=object)"
      ]
     },
     "execution_count": 47,
     "metadata": {},
     "output_type": "execute_result"
    }
   ],
   "source": [
    "obs['oname'].unique()"
   ]
  },
  {
   "cell_type": "markdown",
   "metadata": {},
   "source": [
    "So, if we want to select observations from the `heads.csv` file, and that have a time < than 367, we can just use `Pandas` .loc:"
   ]
  },
  {
   "cell_type": "code",
   "execution_count": 48,
   "metadata": {
    "execution": {
     "iopub.execute_input": "2022-03-18T04:41:51.548938Z",
     "iopub.status.busy": "2022-03-18T04:41:51.548938Z",
     "iopub.status.idle": "2022-03-18T04:41:51.552929Z",
     "shell.execute_reply": "2022-03-18T04:41:51.552128Z"
    }
   },
   "outputs": [
    {
     "data": {
      "text/html": [
       "<div>\n",
       "<style scoped>\n",
       "    .dataframe tbody tr th:only-of-type {\n",
       "        vertical-align: middle;\n",
       "    }\n",
       "\n",
       "    .dataframe tbody tr th {\n",
       "        vertical-align: top;\n",
       "    }\n",
       "\n",
       "    .dataframe thead th {\n",
       "        text-align: right;\n",
       "    }\n",
       "</style>\n",
       "<table border=\"1\" class=\"dataframe\">\n",
       "  <thead>\n",
       "    <tr style=\"text-align: right;\">\n",
       "      <th></th>\n",
       "      <th>obsnme</th>\n",
       "      <th>obsval</th>\n",
       "      <th>weight</th>\n",
       "      <th>obgnme</th>\n",
       "      <th>oname</th>\n",
       "      <th>otype</th>\n",
       "      <th>usecol</th>\n",
       "      <th>time</th>\n",
       "    </tr>\n",
       "  </thead>\n",
       "  <tbody>\n",
       "    <tr>\n",
       "      <th>oname:hds_otype:lst_usecol:trgw_0_13_10_time:1.0</th>\n",
       "      <td>oname:hds_otype:lst_usecol:trgw_0_13_10_time:1.0</td>\n",
       "      <td>34.406181</td>\n",
       "      <td>0</td>\n",
       "      <td>oname:hds_otype:lst_usecol:trgw_0_13_10</td>\n",
       "      <td>hds</td>\n",
       "      <td>lst</td>\n",
       "      <td>trgw</td>\n",
       "      <td>1.0</td>\n",
       "    </tr>\n",
       "    <tr>\n",
       "      <th>oname:hds_otype:lst_usecol:trgw_0_13_10_time:122.0</th>\n",
       "      <td>oname:hds_otype:lst_usecol:trgw_0_13_10_time:122.0</td>\n",
       "      <td>34.450661</td>\n",
       "      <td>0</td>\n",
       "      <td>oname:hds_otype:lst_usecol:trgw_0_13_10</td>\n",
       "      <td>hds</td>\n",
       "      <td>lst</td>\n",
       "      <td>trgw</td>\n",
       "      <td>122.0</td>\n",
       "    </tr>\n",
       "    <tr>\n",
       "      <th>oname:hds_otype:lst_usecol:trgw_0_13_10_time:153.0</th>\n",
       "      <td>oname:hds_otype:lst_usecol:trgw_0_13_10_time:153.0</td>\n",
       "      <td>34.441799</td>\n",
       "      <td>0</td>\n",
       "      <td>oname:hds_otype:lst_usecol:trgw_0_13_10</td>\n",
       "      <td>hds</td>\n",
       "      <td>lst</td>\n",
       "      <td>trgw</td>\n",
       "      <td>153.0</td>\n",
       "    </tr>\n",
       "    <tr>\n",
       "      <th>oname:hds_otype:lst_usecol:trgw_0_13_10_time:183.0</th>\n",
       "      <td>oname:hds_otype:lst_usecol:trgw_0_13_10_time:183.0</td>\n",
       "      <td>34.375622</td>\n",
       "      <td>0</td>\n",
       "      <td>oname:hds_otype:lst_usecol:trgw_0_13_10</td>\n",
       "      <td>hds</td>\n",
       "      <td>lst</td>\n",
       "      <td>trgw</td>\n",
       "      <td>183.0</td>\n",
       "    </tr>\n",
       "    <tr>\n",
       "      <th>oname:hds_otype:lst_usecol:trgw_0_13_10_time:214.0</th>\n",
       "      <td>oname:hds_otype:lst_usecol:trgw_0_13_10_time:214.0</td>\n",
       "      <td>34.323056</td>\n",
       "      <td>0</td>\n",
       "      <td>oname:hds_otype:lst_usecol:trgw_0_13_10</td>\n",
       "      <td>hds</td>\n",
       "      <td>lst</td>\n",
       "      <td>trgw</td>\n",
       "      <td>214.0</td>\n",
       "    </tr>\n",
       "    <tr>\n",
       "      <th>...</th>\n",
       "      <td>...</td>\n",
       "      <td>...</td>\n",
       "      <td>...</td>\n",
       "      <td>...</td>\n",
       "      <td>...</td>\n",
       "      <td>...</td>\n",
       "      <td>...</td>\n",
       "      <td>...</td>\n",
       "    </tr>\n",
       "    <tr>\n",
       "      <th>oname:hds_otype:lst_usecol:trgw_2_9_1_time:32.0</th>\n",
       "      <td>oname:hds_otype:lst_usecol:trgw_2_9_1_time:32.0</td>\n",
       "      <td>35.138347</td>\n",
       "      <td>0</td>\n",
       "      <td>oname:hds_otype:lst_usecol:trgw_2_9_1</td>\n",
       "      <td>hds</td>\n",
       "      <td>lst</td>\n",
       "      <td>trgw</td>\n",
       "      <td>32.0</td>\n",
       "    </tr>\n",
       "    <tr>\n",
       "      <th>oname:hds_otype:lst_usecol:trgw_2_9_1_time:336.0</th>\n",
       "      <td>oname:hds_otype:lst_usecol:trgw_2_9_1_time:336.0</td>\n",
       "      <td>35.137489</td>\n",
       "      <td>0</td>\n",
       "      <td>oname:hds_otype:lst_usecol:trgw_2_9_1</td>\n",
       "      <td>hds</td>\n",
       "      <td>lst</td>\n",
       "      <td>trgw</td>\n",
       "      <td>336.0</td>\n",
       "    </tr>\n",
       "    <tr>\n",
       "      <th>oname:hds_otype:lst_usecol:trgw_2_9_1_time:367.0</th>\n",
       "      <td>oname:hds_otype:lst_usecol:trgw_2_9_1_time:367.0</td>\n",
       "      <td>35.381420</td>\n",
       "      <td>0</td>\n",
       "      <td>oname:hds_otype:lst_usecol:trgw_2_9_1</td>\n",
       "      <td>hds</td>\n",
       "      <td>lst</td>\n",
       "      <td>trgw</td>\n",
       "      <td>367.0</td>\n",
       "    </tr>\n",
       "    <tr>\n",
       "      <th>oname:hds_otype:lst_usecol:trgw_2_9_1_time:61.0</th>\n",
       "      <td>oname:hds_otype:lst_usecol:trgw_2_9_1_time:61.0</td>\n",
       "      <td>35.323971</td>\n",
       "      <td>0</td>\n",
       "      <td>oname:hds_otype:lst_usecol:trgw_2_9_1</td>\n",
       "      <td>hds</td>\n",
       "      <td>lst</td>\n",
       "      <td>trgw</td>\n",
       "      <td>61.0</td>\n",
       "    </tr>\n",
       "    <tr>\n",
       "      <th>oname:hds_otype:lst_usecol:trgw_2_9_1_time:92.0</th>\n",
       "      <td>oname:hds_otype:lst_usecol:trgw_2_9_1_time:92.0</td>\n",
       "      <td>35.373773</td>\n",
       "      <td>0</td>\n",
       "      <td>oname:hds_otype:lst_usecol:trgw_2_9_1</td>\n",
       "      <td>hds</td>\n",
       "      <td>lst</td>\n",
       "      <td>trgw</td>\n",
       "      <td>92.0</td>\n",
       "    </tr>\n",
       "  </tbody>\n",
       "</table>\n",
       "<p>338 rows × 8 columns</p>\n",
       "</div>"
      ],
      "text/plain": [
       "                                                                                                obsnme  \\\n",
       "oname:hds_otype:lst_usecol:trgw_0_13_10_time:1.0      oname:hds_otype:lst_usecol:trgw_0_13_10_time:1.0   \n",
       "oname:hds_otype:lst_usecol:trgw_0_13_10_time:122.0  oname:hds_otype:lst_usecol:trgw_0_13_10_time:122.0   \n",
       "oname:hds_otype:lst_usecol:trgw_0_13_10_time:153.0  oname:hds_otype:lst_usecol:trgw_0_13_10_time:153.0   \n",
       "oname:hds_otype:lst_usecol:trgw_0_13_10_time:183.0  oname:hds_otype:lst_usecol:trgw_0_13_10_time:183.0   \n",
       "oname:hds_otype:lst_usecol:trgw_0_13_10_time:214.0  oname:hds_otype:lst_usecol:trgw_0_13_10_time:214.0   \n",
       "...                                                                                                ...   \n",
       "oname:hds_otype:lst_usecol:trgw_2_9_1_time:32.0        oname:hds_otype:lst_usecol:trgw_2_9_1_time:32.0   \n",
       "oname:hds_otype:lst_usecol:trgw_2_9_1_time:336.0      oname:hds_otype:lst_usecol:trgw_2_9_1_time:336.0   \n",
       "oname:hds_otype:lst_usecol:trgw_2_9_1_time:367.0      oname:hds_otype:lst_usecol:trgw_2_9_1_time:367.0   \n",
       "oname:hds_otype:lst_usecol:trgw_2_9_1_time:61.0        oname:hds_otype:lst_usecol:trgw_2_9_1_time:61.0   \n",
       "oname:hds_otype:lst_usecol:trgw_2_9_1_time:92.0        oname:hds_otype:lst_usecol:trgw_2_9_1_time:92.0   \n",
       "\n",
       "                                                       obsval  weight  \\\n",
       "oname:hds_otype:lst_usecol:trgw_0_13_10_time:1.0    34.406181       0   \n",
       "oname:hds_otype:lst_usecol:trgw_0_13_10_time:122.0  34.450661       0   \n",
       "oname:hds_otype:lst_usecol:trgw_0_13_10_time:153.0  34.441799       0   \n",
       "oname:hds_otype:lst_usecol:trgw_0_13_10_time:183.0  34.375622       0   \n",
       "oname:hds_otype:lst_usecol:trgw_0_13_10_time:214.0  34.323056       0   \n",
       "...                                                       ...     ...   \n",
       "oname:hds_otype:lst_usecol:trgw_2_9_1_time:32.0     35.138347       0   \n",
       "oname:hds_otype:lst_usecol:trgw_2_9_1_time:336.0    35.137489       0   \n",
       "oname:hds_otype:lst_usecol:trgw_2_9_1_time:367.0    35.381420       0   \n",
       "oname:hds_otype:lst_usecol:trgw_2_9_1_time:61.0     35.323971       0   \n",
       "oname:hds_otype:lst_usecol:trgw_2_9_1_time:92.0     35.373773       0   \n",
       "\n",
       "                                                                                     obgnme  \\\n",
       "oname:hds_otype:lst_usecol:trgw_0_13_10_time:1.0    oname:hds_otype:lst_usecol:trgw_0_13_10   \n",
       "oname:hds_otype:lst_usecol:trgw_0_13_10_time:122.0  oname:hds_otype:lst_usecol:trgw_0_13_10   \n",
       "oname:hds_otype:lst_usecol:trgw_0_13_10_time:153.0  oname:hds_otype:lst_usecol:trgw_0_13_10   \n",
       "oname:hds_otype:lst_usecol:trgw_0_13_10_time:183.0  oname:hds_otype:lst_usecol:trgw_0_13_10   \n",
       "oname:hds_otype:lst_usecol:trgw_0_13_10_time:214.0  oname:hds_otype:lst_usecol:trgw_0_13_10   \n",
       "...                                                                                     ...   \n",
       "oname:hds_otype:lst_usecol:trgw_2_9_1_time:32.0       oname:hds_otype:lst_usecol:trgw_2_9_1   \n",
       "oname:hds_otype:lst_usecol:trgw_2_9_1_time:336.0      oname:hds_otype:lst_usecol:trgw_2_9_1   \n",
       "oname:hds_otype:lst_usecol:trgw_2_9_1_time:367.0      oname:hds_otype:lst_usecol:trgw_2_9_1   \n",
       "oname:hds_otype:lst_usecol:trgw_2_9_1_time:61.0       oname:hds_otype:lst_usecol:trgw_2_9_1   \n",
       "oname:hds_otype:lst_usecol:trgw_2_9_1_time:92.0       oname:hds_otype:lst_usecol:trgw_2_9_1   \n",
       "\n",
       "                                                   oname otype usecol   time  \n",
       "oname:hds_otype:lst_usecol:trgw_0_13_10_time:1.0     hds   lst   trgw    1.0  \n",
       "oname:hds_otype:lst_usecol:trgw_0_13_10_time:122.0   hds   lst   trgw  122.0  \n",
       "oname:hds_otype:lst_usecol:trgw_0_13_10_time:153.0   hds   lst   trgw  153.0  \n",
       "oname:hds_otype:lst_usecol:trgw_0_13_10_time:183.0   hds   lst   trgw  183.0  \n",
       "oname:hds_otype:lst_usecol:trgw_0_13_10_time:214.0   hds   lst   trgw  214.0  \n",
       "...                                                  ...   ...    ...    ...  \n",
       "oname:hds_otype:lst_usecol:trgw_2_9_1_time:32.0      hds   lst   trgw   32.0  \n",
       "oname:hds_otype:lst_usecol:trgw_2_9_1_time:336.0     hds   lst   trgw  336.0  \n",
       "oname:hds_otype:lst_usecol:trgw_2_9_1_time:367.0     hds   lst   trgw  367.0  \n",
       "oname:hds_otype:lst_usecol:trgw_2_9_1_time:61.0      hds   lst   trgw   61.0  \n",
       "oname:hds_otype:lst_usecol:trgw_2_9_1_time:92.0      hds   lst   trgw   92.0  \n",
       "\n",
       "[338 rows x 8 columns]"
      ]
     },
     "execution_count": 48,
     "metadata": {},
     "output_type": "execute_result"
    }
   ],
   "source": [
    "obs.loc[(obs['oname']=='hds') & (obs['time'].astype(float) <= 367)]"
   ]
  },
  {
   "cell_type": "markdown",
   "metadata": {},
   "source": [
    "OK, so now let's use this to assign weights to each observation type. We will set weights to the inverse of the standard deviation of our measurement uncertainty (e.g. \"error-based weighting\").\n",
    "\n",
    "Let's say that stdevs for:\n",
    " - head measurements are 0.1m,\n",
    " - head time an vertical differences 0.01m\n",
    " - SFR direct and time-differnces will be 10% of the measured value (fancy-word alert: \"heteroscedasticity\")"
   ]
  },
  {
   "cell_type": "code",
   "execution_count": 49,
   "metadata": {
    "execution": {
     "iopub.execute_input": "2022-03-18T04:41:51.560913Z",
     "iopub.status.busy": "2022-03-18T04:41:51.559884Z",
     "iopub.status.idle": "2022-03-18T04:41:51.561879Z",
     "shell.execute_reply": "2022-03-18T04:41:51.561879Z"
    }
   },
   "outputs": [],
   "source": [
    "# direct head measurments\n",
    "obs.loc[(obs['oname']=='hds') & (obs['time'].astype(float) <= 367), 'weight'] = 1/0.1\n",
    "# head time differences\n",
    "obs.loc[(obs['oname']=='hdstd') & (obs['time'].astype(float) <= 367), 'weight'] = 1/0.01\n",
    "# head vertical differences\n",
    "obs.loc[(obs['oname']=='hdsvd') & (obs['time'].astype(float) <= 367), 'weight'] = 1/0.01"
   ]
  },
  {
   "cell_type": "code",
   "execution_count": 50,
   "metadata": {
    "execution": {
     "iopub.execute_input": "2022-03-18T04:41:51.572850Z",
     "iopub.status.busy": "2022-03-18T04:41:51.571851Z",
     "iopub.status.idle": "2022-03-18T04:41:51.574844Z",
     "shell.execute_reply": "2022-03-18T04:41:51.574844Z"
    }
   },
   "outputs": [],
   "source": [
    "# SFR direct measurments\n",
    "weights = 1 / abs(0.1 * obs.loc[(obs['oname']=='sfr') & (obs['time'].astype(float) <= 367), 'obsval'].values)\n",
    "obs.loc[(obs['oname']=='sfr') & (obs['time'].astype(float) <= 367), 'weight'] = weights\n",
    "\n",
    "# SFR time-difference measurments; deal with the first observation value that is == 0\n",
    "weights = 1 / abs(0.1 * obs.loc[(obs['oname']=='sfrtd') & (obs['time'].astype(float) <= 367) &  (obs['obsval'] !=0) , 'obsval'].values)\n",
    "obs.loc[(obs['oname']=='sfrtd') & (obs['time'].astype(float) <= 367) &  (obs['obsval'] !=0), 'weight'] = weights"
   ]
  },
  {
   "cell_type": "markdown",
   "metadata": {},
   "source": [
    "As you can see, observation data weights have been updated:"
   ]
  },
  {
   "cell_type": "code",
   "execution_count": 51,
   "metadata": {
    "execution": {
     "iopub.execute_input": "2022-03-18T04:41:51.587809Z",
     "iopub.status.busy": "2022-03-18T04:41:51.586836Z",
     "iopub.status.idle": "2022-03-18T04:41:51.594818Z",
     "shell.execute_reply": "2022-03-18T04:41:51.593822Z"
    }
   },
   "outputs": [
    {
     "data": {
      "text/html": [
       "<div>\n",
       "<style scoped>\n",
       "    .dataframe tbody tr th:only-of-type {\n",
       "        vertical-align: middle;\n",
       "    }\n",
       "\n",
       "    .dataframe tbody tr th {\n",
       "        vertical-align: top;\n",
       "    }\n",
       "\n",
       "    .dataframe thead th {\n",
       "        text-align: right;\n",
       "    }\n",
       "</style>\n",
       "<table border=\"1\" class=\"dataframe\">\n",
       "  <thead>\n",
       "    <tr style=\"text-align: right;\">\n",
       "      <th></th>\n",
       "      <th>obsnme</th>\n",
       "      <th>obsval</th>\n",
       "      <th>weight</th>\n",
       "      <th>obgnme</th>\n",
       "      <th>oname</th>\n",
       "      <th>otype</th>\n",
       "      <th>usecol</th>\n",
       "      <th>time</th>\n",
       "    </tr>\n",
       "  </thead>\n",
       "  <tbody>\n",
       "    <tr>\n",
       "      <th>oname:hds_otype:lst_usecol:trgw_0_13_10_time:1.0</th>\n",
       "      <td>oname:hds_otype:lst_usecol:trgw_0_13_10_time:1.0</td>\n",
       "      <td>34.406181</td>\n",
       "      <td>10.0</td>\n",
       "      <td>oname:hds_otype:lst_usecol:trgw_0_13_10</td>\n",
       "      <td>hds</td>\n",
       "      <td>lst</td>\n",
       "      <td>trgw</td>\n",
       "      <td>1.0</td>\n",
       "    </tr>\n",
       "    <tr>\n",
       "      <th>oname:hds_otype:lst_usecol:trgw_0_13_10_time:122.0</th>\n",
       "      <td>oname:hds_otype:lst_usecol:trgw_0_13_10_time:122.0</td>\n",
       "      <td>34.450661</td>\n",
       "      <td>10.0</td>\n",
       "      <td>oname:hds_otype:lst_usecol:trgw_0_13_10</td>\n",
       "      <td>hds</td>\n",
       "      <td>lst</td>\n",
       "      <td>trgw</td>\n",
       "      <td>122.0</td>\n",
       "    </tr>\n",
       "    <tr>\n",
       "      <th>oname:hds_otype:lst_usecol:trgw_0_13_10_time:153.0</th>\n",
       "      <td>oname:hds_otype:lst_usecol:trgw_0_13_10_time:153.0</td>\n",
       "      <td>34.441799</td>\n",
       "      <td>10.0</td>\n",
       "      <td>oname:hds_otype:lst_usecol:trgw_0_13_10</td>\n",
       "      <td>hds</td>\n",
       "      <td>lst</td>\n",
       "      <td>trgw</td>\n",
       "      <td>153.0</td>\n",
       "    </tr>\n",
       "    <tr>\n",
       "      <th>oname:hds_otype:lst_usecol:trgw_0_13_10_time:183.0</th>\n",
       "      <td>oname:hds_otype:lst_usecol:trgw_0_13_10_time:183.0</td>\n",
       "      <td>34.375622</td>\n",
       "      <td>10.0</td>\n",
       "      <td>oname:hds_otype:lst_usecol:trgw_0_13_10</td>\n",
       "      <td>hds</td>\n",
       "      <td>lst</td>\n",
       "      <td>trgw</td>\n",
       "      <td>183.0</td>\n",
       "    </tr>\n",
       "    <tr>\n",
       "      <th>oname:hds_otype:lst_usecol:trgw_0_13_10_time:214.0</th>\n",
       "      <td>oname:hds_otype:lst_usecol:trgw_0_13_10_time:214.0</td>\n",
       "      <td>34.323056</td>\n",
       "      <td>10.0</td>\n",
       "      <td>oname:hds_otype:lst_usecol:trgw_0_13_10</td>\n",
       "      <td>hds</td>\n",
       "      <td>lst</td>\n",
       "      <td>trgw</td>\n",
       "      <td>214.0</td>\n",
       "    </tr>\n",
       "    <tr>\n",
       "      <th>...</th>\n",
       "      <td>...</td>\n",
       "      <td>...</td>\n",
       "      <td>...</td>\n",
       "      <td>...</td>\n",
       "      <td>...</td>\n",
       "      <td>...</td>\n",
       "      <td>...</td>\n",
       "      <td>...</td>\n",
       "    </tr>\n",
       "    <tr>\n",
       "      <th>oname:hdsvd_otype:lst_usecol:trgw_0_9_1_time:640.0</th>\n",
       "      <td>oname:hdsvd_otype:lst_usecol:trgw_0_9_1_time:640.0</td>\n",
       "      <td>0.002537</td>\n",
       "      <td>0.0</td>\n",
       "      <td>oname:hdsvd_otype:lst_usecol:trgw_0_9_1</td>\n",
       "      <td>hdsvd</td>\n",
       "      <td>lst</td>\n",
       "      <td>trgw</td>\n",
       "      <td>640.0</td>\n",
       "    </tr>\n",
       "    <tr>\n",
       "      <th>oname:hdsvd_otype:lst_usecol:trgw_0_9_1_time:671.0</th>\n",
       "      <td>oname:hdsvd_otype:lst_usecol:trgw_0_9_1_time:671.0</td>\n",
       "      <td>0.003066</td>\n",
       "      <td>0.0</td>\n",
       "      <td>oname:hdsvd_otype:lst_usecol:trgw_0_9_1</td>\n",
       "      <td>hdsvd</td>\n",
       "      <td>lst</td>\n",
       "      <td>trgw</td>\n",
       "      <td>671.0</td>\n",
       "    </tr>\n",
       "    <tr>\n",
       "      <th>oname:hdsvd_otype:lst_usecol:trgw_0_9_1_time:701.0</th>\n",
       "      <td>oname:hdsvd_otype:lst_usecol:trgw_0_9_1_time:701.0</td>\n",
       "      <td>0.002878</td>\n",
       "      <td>0.0</td>\n",
       "      <td>oname:hdsvd_otype:lst_usecol:trgw_0_9_1</td>\n",
       "      <td>hdsvd</td>\n",
       "      <td>lst</td>\n",
       "      <td>trgw</td>\n",
       "      <td>701.0</td>\n",
       "    </tr>\n",
       "    <tr>\n",
       "      <th>oname:hdsvd_otype:lst_usecol:trgw_0_9_1_time:732.0</th>\n",
       "      <td>oname:hdsvd_otype:lst_usecol:trgw_0_9_1_time:732.0</td>\n",
       "      <td>0.007718</td>\n",
       "      <td>0.0</td>\n",
       "      <td>oname:hdsvd_otype:lst_usecol:trgw_0_9_1</td>\n",
       "      <td>hdsvd</td>\n",
       "      <td>lst</td>\n",
       "      <td>trgw</td>\n",
       "      <td>732.0</td>\n",
       "    </tr>\n",
       "    <tr>\n",
       "      <th>oname:hdsvd_otype:lst_usecol:trgw_0_9_1_time:92.0</th>\n",
       "      <td>oname:hdsvd_otype:lst_usecol:trgw_0_9_1_time:92.0</td>\n",
       "      <td>0.004588</td>\n",
       "      <td>100.0</td>\n",
       "      <td>oname:hdsvd_otype:lst_usecol:trgw_0_9_1</td>\n",
       "      <td>hdsvd</td>\n",
       "      <td>lst</td>\n",
       "      <td>trgw</td>\n",
       "      <td>92.0</td>\n",
       "    </tr>\n",
       "  </tbody>\n",
       "</table>\n",
       "<p>1775 rows × 8 columns</p>\n",
       "</div>"
      ],
      "text/plain": [
       "                                                                                                obsnme  \\\n",
       "oname:hds_otype:lst_usecol:trgw_0_13_10_time:1.0      oname:hds_otype:lst_usecol:trgw_0_13_10_time:1.0   \n",
       "oname:hds_otype:lst_usecol:trgw_0_13_10_time:122.0  oname:hds_otype:lst_usecol:trgw_0_13_10_time:122.0   \n",
       "oname:hds_otype:lst_usecol:trgw_0_13_10_time:153.0  oname:hds_otype:lst_usecol:trgw_0_13_10_time:153.0   \n",
       "oname:hds_otype:lst_usecol:trgw_0_13_10_time:183.0  oname:hds_otype:lst_usecol:trgw_0_13_10_time:183.0   \n",
       "oname:hds_otype:lst_usecol:trgw_0_13_10_time:214.0  oname:hds_otype:lst_usecol:trgw_0_13_10_time:214.0   \n",
       "...                                                                                                ...   \n",
       "oname:hdsvd_otype:lst_usecol:trgw_0_9_1_time:640.0  oname:hdsvd_otype:lst_usecol:trgw_0_9_1_time:640.0   \n",
       "oname:hdsvd_otype:lst_usecol:trgw_0_9_1_time:671.0  oname:hdsvd_otype:lst_usecol:trgw_0_9_1_time:671.0   \n",
       "oname:hdsvd_otype:lst_usecol:trgw_0_9_1_time:701.0  oname:hdsvd_otype:lst_usecol:trgw_0_9_1_time:701.0   \n",
       "oname:hdsvd_otype:lst_usecol:trgw_0_9_1_time:732.0  oname:hdsvd_otype:lst_usecol:trgw_0_9_1_time:732.0   \n",
       "oname:hdsvd_otype:lst_usecol:trgw_0_9_1_time:92.0    oname:hdsvd_otype:lst_usecol:trgw_0_9_1_time:92.0   \n",
       "\n",
       "                                                       obsval  weight  \\\n",
       "oname:hds_otype:lst_usecol:trgw_0_13_10_time:1.0    34.406181    10.0   \n",
       "oname:hds_otype:lst_usecol:trgw_0_13_10_time:122.0  34.450661    10.0   \n",
       "oname:hds_otype:lst_usecol:trgw_0_13_10_time:153.0  34.441799    10.0   \n",
       "oname:hds_otype:lst_usecol:trgw_0_13_10_time:183.0  34.375622    10.0   \n",
       "oname:hds_otype:lst_usecol:trgw_0_13_10_time:214.0  34.323056    10.0   \n",
       "...                                                       ...     ...   \n",
       "oname:hdsvd_otype:lst_usecol:trgw_0_9_1_time:640.0   0.002537     0.0   \n",
       "oname:hdsvd_otype:lst_usecol:trgw_0_9_1_time:671.0   0.003066     0.0   \n",
       "oname:hdsvd_otype:lst_usecol:trgw_0_9_1_time:701.0   0.002878     0.0   \n",
       "oname:hdsvd_otype:lst_usecol:trgw_0_9_1_time:732.0   0.007718     0.0   \n",
       "oname:hdsvd_otype:lst_usecol:trgw_0_9_1_time:92.0    0.004588   100.0   \n",
       "\n",
       "                                                                                     obgnme  \\\n",
       "oname:hds_otype:lst_usecol:trgw_0_13_10_time:1.0    oname:hds_otype:lst_usecol:trgw_0_13_10   \n",
       "oname:hds_otype:lst_usecol:trgw_0_13_10_time:122.0  oname:hds_otype:lst_usecol:trgw_0_13_10   \n",
       "oname:hds_otype:lst_usecol:trgw_0_13_10_time:153.0  oname:hds_otype:lst_usecol:trgw_0_13_10   \n",
       "oname:hds_otype:lst_usecol:trgw_0_13_10_time:183.0  oname:hds_otype:lst_usecol:trgw_0_13_10   \n",
       "oname:hds_otype:lst_usecol:trgw_0_13_10_time:214.0  oname:hds_otype:lst_usecol:trgw_0_13_10   \n",
       "...                                                                                     ...   \n",
       "oname:hdsvd_otype:lst_usecol:trgw_0_9_1_time:640.0  oname:hdsvd_otype:lst_usecol:trgw_0_9_1   \n",
       "oname:hdsvd_otype:lst_usecol:trgw_0_9_1_time:671.0  oname:hdsvd_otype:lst_usecol:trgw_0_9_1   \n",
       "oname:hdsvd_otype:lst_usecol:trgw_0_9_1_time:701.0  oname:hdsvd_otype:lst_usecol:trgw_0_9_1   \n",
       "oname:hdsvd_otype:lst_usecol:trgw_0_9_1_time:732.0  oname:hdsvd_otype:lst_usecol:trgw_0_9_1   \n",
       "oname:hdsvd_otype:lst_usecol:trgw_0_9_1_time:92.0   oname:hdsvd_otype:lst_usecol:trgw_0_9_1   \n",
       "\n",
       "                                                    oname otype usecol   time  \n",
       "oname:hds_otype:lst_usecol:trgw_0_13_10_time:1.0      hds   lst   trgw    1.0  \n",
       "oname:hds_otype:lst_usecol:trgw_0_13_10_time:122.0    hds   lst   trgw  122.0  \n",
       "oname:hds_otype:lst_usecol:trgw_0_13_10_time:153.0    hds   lst   trgw  153.0  \n",
       "oname:hds_otype:lst_usecol:trgw_0_13_10_time:183.0    hds   lst   trgw  183.0  \n",
       "oname:hds_otype:lst_usecol:trgw_0_13_10_time:214.0    hds   lst   trgw  214.0  \n",
       "...                                                   ...   ...    ...    ...  \n",
       "oname:hdsvd_otype:lst_usecol:trgw_0_9_1_time:640.0  hdsvd   lst   trgw  640.0  \n",
       "oname:hdsvd_otype:lst_usecol:trgw_0_9_1_time:671.0  hdsvd   lst   trgw  671.0  \n",
       "oname:hdsvd_otype:lst_usecol:trgw_0_9_1_time:701.0  hdsvd   lst   trgw  701.0  \n",
       "oname:hdsvd_otype:lst_usecol:trgw_0_9_1_time:732.0  hdsvd   lst   trgw  732.0  \n",
       "oname:hdsvd_otype:lst_usecol:trgw_0_9_1_time:92.0   hdsvd   lst   trgw   92.0  \n",
       "\n",
       "[1775 rows x 8 columns]"
      ]
     },
     "execution_count": 51,
     "metadata": {},
     "output_type": "execute_result"
    }
   ],
   "source": [
    "obs"
   ]
  },
  {
   "cell_type": "markdown",
   "metadata": {},
   "source": [
    "Make sure to re-**write** the PEST control file. But beware, if you re-**build** the `Pst`, all these changes will be lost."
   ]
  },
  {
   "cell_type": "code",
   "execution_count": 52,
   "metadata": {
    "execution": {
     "iopub.execute_input": "2022-03-18T04:41:51.622752Z",
     "iopub.status.busy": "2022-03-18T04:41:51.621720Z",
     "iopub.status.idle": "2022-03-18T04:41:51.861196Z",
     "shell.execute_reply": "2022-03-18T04:41:51.861196Z"
    }
   },
   "outputs": [
    {
     "name": "stdout",
     "output_type": "stream",
     "text": [
      "noptmax:0, npar_adj:25454, nnz_obs:920\n"
     ]
    }
   ],
   "source": [
    "pst.write(os.path.join(template_ws, 'freyberg_mf6.pst'))"
   ]
  },
  {
   "cell_type": "markdown",
   "metadata": {},
   "source": [
    "So that was pretty epic. We now have a (very) high-dimensional PEST interface ready to roll. \n",
    "\n",
    "If you inspect the folder, you will see PEST control file and all the necessary instruction and template files. Because we have >10k parameters, version 2 of the PEST control file was written by default. \n",
    "\n",
    "Shall we check that it works? Let's run PEST once (i.e. with NOPTMAX=0). Now, by default, noptmax is set to zero. But just to check:"
   ]
  },
  {
   "cell_type": "code",
   "execution_count": 53,
   "metadata": {
    "execution": {
     "iopub.execute_input": "2022-03-18T04:41:51.865185Z",
     "iopub.status.busy": "2022-03-18T04:41:51.865185Z",
     "iopub.status.idle": "2022-03-18T04:41:51.869206Z",
     "shell.execute_reply": "2022-03-18T04:41:51.868177Z"
    }
   },
   "outputs": [
    {
     "data": {
      "text/plain": [
       "0"
      ]
     },
     "execution_count": 53,
     "metadata": {},
     "output_type": "execute_result"
    }
   ],
   "source": [
    "pst.control_data.noptmax"
   ]
  },
  {
   "cell_type": "markdown",
   "metadata": {},
   "source": [
    "OK, so when we run PEST it will call the model once and then stop. If the next cell is sucessfull, then eveything is working. Check the folder, you should see PEST output files. (We will go into these and how to process PEST outcomes in subsequent tutorials)."
   ]
  },
  {
   "cell_type": "code",
   "execution_count": 54,
   "metadata": {
    "execution": {
     "iopub.execute_input": "2022-03-18T04:41:51.872166Z",
     "iopub.status.busy": "2022-03-18T04:41:51.871169Z",
     "iopub.status.idle": "2022-03-18T04:42:03.692598Z",
     "shell.execute_reply": "2022-03-18T04:42:03.693594Z"
    }
   },
   "outputs": [],
   "source": [
    "pyemu.os_utils.run('pestpp-glm freyberg_mf6.pst', cwd=template_ws)"
   ]
  },
  {
   "cell_type": "markdown",
   "metadata": {},
   "source": [
    "### 8. Prior Parameter Covariance Matrix\n",
    "\n",
    "Before we go, let's take a look at our prior and sample from it to create a parameter ensemble. We will record the ensemble for future use."
   ]
  },
  {
   "cell_type": "code",
   "execution_count": 55,
   "metadata": {
    "execution": {
     "iopub.execute_input": "2022-03-18T04:42:03.701722Z",
     "iopub.status.busy": "2022-03-18T04:42:03.700575Z",
     "iopub.status.idle": "2022-03-18T04:42:36.122590Z",
     "shell.execute_reply": "2022-03-18T04:42:36.121565Z"
    }
   },
   "outputs": [
    {
     "name": "stdout",
     "output_type": "stream",
     "text": [
      "2022-03-18 15:12:03.841234 starting: building prior covariance matrix\n"
     ]
    },
    {
     "name": "stdout",
     "output_type": "stream",
     "text": [
      "2022-03-18 15:12:16.491444 saving prior covariance matrix to file freyberg6_template\\prior_cov.jcb\n"
     ]
    },
    {
     "name": "stdout",
     "output_type": "stream",
     "text": [
      "2022-03-18 15:12:29.560146 finished: building prior covariance matrix took: 0:00:25.718912\n"
     ]
    },
    {
     "data": {
      "image/png": "[encoded data removed]",
      "text/plain": [
       "<Figure size 432x288 with 1 Axes>"
      ]
     },
     "metadata": {
      "needs_background": "light"
     },
     "output_type": "display_data"
    }
   ],
   "source": [
    "# build the prior covariance matrix and store it as a compresed bianry file (otherwise it can get huge!)\n",
    "if pf.pst.npar < 35000:  #if you have more than about 35K pars, the cov matrix becomes hard to handle\n",
    "    cov = pf.build_prior(fmt='coo', filename=os.path.join(template_ws,\"prior_cov.jcb\"))\n",
    "    # and take a peek at a slice of the matrix\n",
    "    try: \n",
    "        x = cov.x.copy()\n",
    "        x[x==0] = np.NaN\n",
    "        plt.imshow(x[-49:,-49:])\n",
    "    except:\n",
    "        pass"
   ]
  },
  {
   "cell_type": "markdown",
   "metadata": {},
   "source": [
    "And now generate a prior parameter ensemble. This step is relevant for using pestpp-ies in subsequent tutorials."
   ]
  },
  {
   "cell_type": "code",
   "execution_count": 56,
   "metadata": {
    "execution": {
     "iopub.execute_input": "2022-03-18T04:42:36.130861Z",
     "iopub.status.busy": "2022-03-18T04:42:36.130861Z",
     "iopub.status.idle": "2022-03-18T04:42:49.074522Z",
     "shell.execute_reply": "2022-03-18T04:42:49.073533Z"
    }
   },
   "outputs": [
    {
     "name": "stdout",
     "output_type": "stream",
     "text": [
      "2022-03-18 15:12:36.130861 starting: drawing realizations\n",
      "2022-03-18 15:12:36.285669 starting: spectral simulation for grid-scale pars\n"
     ]
    },
    {
     "name": "stdout",
     "output_type": "stream",
     "text": [
      "SpecSim.initialize() summary: full_delx X full_dely: 72 X 72\n",
      "2022-03-18 15:12:36.511961 starting: SpecSim: drawing 100 realization for group npf_k_layer1_gr with 706 pars, (log) variance 0.054284340773499334 (sill 0.054284340773499334)\n",
      "SpecSim.initialize() summary: full_delx X full_dely: 72 X 72\n",
      "2022-03-18 15:12:36.561879 finished: SpecSim: drawing 100 realization for group npf_k_layer1_gr with 706 pars, (log) variance 0.054284340773499334 (sill 0.054284340773499334) took: 0:00:00.049918\n",
      "2022-03-18 15:12:36.565816 starting: SpecSim: drawing 100 realization for group npf_k_layer2_gr with 706 pars, (log) variance 0.054284340773499334 (sill 0.054284340773499334)\n"
     ]
    },
    {
     "name": "stdout",
     "output_type": "stream",
     "text": [
      "SpecSim.initialize() summary: full_delx X full_dely: 72 X 72\n",
      "2022-03-18 15:12:36.611746 finished: SpecSim: drawing 100 realization for group npf_k_layer2_gr with 706 pars, (log) variance 0.054284340773499334 (sill 0.054284340773499334) took: 0:00:00.045930\n",
      "2022-03-18 15:12:36.615741 starting: SpecSim: drawing 100 realization for group npf_k_layer3_gr with 706 pars, (log) variance 0.054284340773499334 (sill 0.054284340773499334)\n",
      "SpecSim.initialize() summary: full_delx X full_dely: 72 X 72\n",
      "2022-03-18 15:12:36.661613 finished: SpecSim: drawing 100 realization for group npf_k_layer3_gr with 706 pars, (log) variance 0.054284340773499334 (sill 0.054284340773499334) took: 0:00:00.045872\n",
      "2022-03-18 15:12:36.665603 starting: SpecSim: drawing 100 realization for group npf_k33_layer1_gr with 706 pars, (log) variance 0.054284340773499334 (sill 0.054284340773499334)\n",
      "SpecSim.initialize() summary: full_delx X full_dely: 72 X 72\n",
      "2022-03-18 15:12:36.711480 finished: SpecSim: drawing 100 realization for group npf_k33_layer1_gr with 706 pars, (log) variance 0.054284340773499334 (sill 0.054284340773499334) took: 0:00:00.045877\n",
      "2022-03-18 15:12:36.714419 starting: SpecSim: drawing 100 realization for group npf_k33_layer2_gr with 706 pars, (log) variance 0.054284340773499334 (sill 0.054284340773499334)\n",
      "SpecSim.initialize() summary: full_delx X full_dely: 72 X 72\n",
      "2022-03-18 15:12:36.760348 finished: SpecSim: drawing 100 realization for group npf_k33_layer2_gr with 706 pars, (log) variance 0.054284340773499334 (sill 0.054284340773499334) took: 0:00:00.045929\n"
     ]
    },
    {
     "name": "stdout",
     "output_type": "stream",
     "text": [
      "2022-03-18 15:12:36.764344 starting: SpecSim: drawing 100 realization for group npf_k33_layer3_gr with 706 pars, (log) variance 0.054284340773499334 (sill 0.054284340773499334)\n",
      "SpecSim.initialize() summary: full_delx X full_dely: 72 X 72\n",
      "2022-03-18 15:12:36.810164 finished: SpecSim: drawing 100 realization for group npf_k33_layer3_gr with 706 pars, (log) variance 0.054284340773499334 (sill 0.054284340773499334) took: 0:00:00.045820\n",
      "2022-03-18 15:12:36.814153 starting: SpecSim: drawing 100 realization for group sto_ss_layer2_gr with 706 pars, (log) variance 0.054284340773499334 (sill 0.054284340773499334)\n",
      "SpecSim.initialize() summary: full_delx X full_dely: 72 X 72\n",
      "2022-03-18 15:12:36.860062 finished: SpecSim: drawing 100 realization for group sto_ss_layer2_gr with 706 pars, (log) variance 0.054284340773499334 (sill 0.054284340773499334) took: 0:00:00.045909\n",
      "2022-03-18 15:12:36.864019 starting: SpecSim: drawing 100 realization for group sto_ss_layer3_gr with 706 pars, (log) variance 0.054284340773499334 (sill 0.054284340773499334)\n",
      "SpecSim.initialize() summary: full_delx X full_dely: 72 X 72\n",
      "2022-03-18 15:12:36.908904 finished: SpecSim: drawing 100 realization for group sto_ss_layer3_gr with 706 pars, (log) variance 0.054284340773499334 (sill 0.054284340773499334) took: 0:00:00.044885\n",
      "2022-03-18 15:12:36.912922 starting: SpecSim: drawing 100 realization for group sto_sy_layer1_gr with 706 pars, (log) variance 0.054284340773499334 (sill 0.054284340773499334)\n",
      "SpecSim.initialize() summary: full_delx X full_dely: 72 X 72\n"
     ]
    },
    {
     "name": "stdout",
     "output_type": "stream",
     "text": [
      "2022-03-18 15:12:36.958767 finished: SpecSim: drawing 100 realization for group sto_sy_layer1_gr with 706 pars, (log) variance 0.054284340773499334 (sill 0.054284340773499334) took: 0:00:00.045845\n",
      "2022-03-18 15:12:36.962791 starting: SpecSim: drawing 100 realization for group rch_recharge_1_gr with 706 pars, (log) variance 0.054284340773499334 (sill 0.054284340773499334)\n",
      "SpecSim.initialize() summary: full_delx X full_dely: 72 X 72\n",
      "2022-03-18 15:12:37.007686 finished: SpecSim: drawing 100 realization for group rch_recharge_1_gr with 706 pars, (log) variance 0.054284340773499334 (sill 0.054284340773499334) took: 0:00:00.044895\n",
      "2022-03-18 15:12:37.011625 starting: SpecSim: drawing 100 realization for group rch_recharge_10_gr with 706 pars, (log) variance 0.054284340773499334 (sill 0.054284340773499334)\n",
      "SpecSim.initialize() summary: full_delx X full_dely: 72 X 72\n",
      "2022-03-18 15:12:37.057554 finished: SpecSim: drawing 100 realization for group rch_recharge_10_gr with 706 pars, (log) variance 0.054284340773499334 (sill 0.054284340773499334) took: 0:00:00.045929\n",
      "2022-03-18 15:12:37.060545 starting: SpecSim: drawing 100 realization for group rch_recharge_11_gr with 706 pars, (log) variance 0.054284340773499334 (sill 0.054284340773499334)\n",
      "SpecSim.initialize() summary: full_delx X full_dely: 72 X 72\n",
      "2022-03-18 15:12:37.107419 finished: SpecSim: drawing 100 realization for group rch_recharge_11_gr with 706 pars, (log) variance 0.054284340773499334 (sill 0.054284340773499334) took: 0:00:00.046874\n",
      "2022-03-18 15:12:37.111410 starting: SpecSim: drawing 100 realization for group rch_recharge_12_gr with 706 pars, (log) variance 0.054284340773499334 (sill 0.054284340773499334)\n",
      "SpecSim.initialize() summary: full_delx X full_dely: 72 X 72\n",
      "2022-03-18 15:12:37.156288 finished: SpecSim: drawing 100 realization for group rch_recharge_12_gr with 706 pars, (log) variance 0.054284340773499334 (sill 0.054284340773499334) took: 0:00:00.044878\n"
     ]
    },
    {
     "name": "stdout",
     "output_type": "stream",
     "text": [
      "2022-03-18 15:12:37.160272 starting: SpecSim: drawing 100 realization for group rch_recharge_13_gr with 706 pars, (log) variance 0.054284340773499334 (sill 0.054284340773499334)\n",
      "SpecSim.initialize() summary: full_delx X full_dely: 72 X 72\n",
      "2022-03-18 15:12:37.206136 finished: SpecSim: drawing 100 realization for group rch_recharge_13_gr with 706 pars, (log) variance 0.054284340773499334 (sill 0.054284340773499334) took: 0:00:00.045864\n",
      "2022-03-18 15:12:37.210103 starting: SpecSim: drawing 100 realization for group rch_recharge_14_gr with 706 pars, (log) variance 0.054284340773499334 (sill 0.054284340773499334)\n",
      "SpecSim.initialize() summary: full_delx X full_dely: 72 X 72\n",
      "2022-03-18 15:12:37.256004 finished: SpecSim: drawing 100 realization for group rch_recharge_14_gr with 706 pars, (log) variance 0.054284340773499334 (sill 0.054284340773499334) took: 0:00:00.045901\n",
      "2022-03-18 15:12:37.259961 starting: SpecSim: drawing 100 realization for group rch_recharge_15_gr with 706 pars, (log) variance 0.054284340773499334 (sill 0.054284340773499334)\n",
      "SpecSim.initialize() summary: full_delx X full_dely: 72 X 72\n",
      "2022-03-18 15:12:37.305889 finished: SpecSim: drawing 100 realization for group rch_recharge_15_gr with 706 pars, (log) variance 0.054284340773499334 (sill 0.054284340773499334) took: 0:00:00.045928\n",
      "2022-03-18 15:12:37.309828 starting: SpecSim: drawing 100 realization for group rch_recharge_16_gr with 706 pars, (log) variance 0.054284340773499334 (sill 0.054284340773499334)\n",
      "SpecSim.initialize() summary: full_delx X full_dely: 72 X 72\n",
      "2022-03-18 15:12:37.355320 finished: SpecSim: drawing 100 realization for group rch_recharge_16_gr with 706 pars, (log) variance 0.054284340773499334 (sill 0.054284340773499334) took: 0:00:00.045492\n"
     ]
    },
    {
     "name": "stdout",
     "output_type": "stream",
     "text": [
      "2022-03-18 15:12:37.359258 starting: SpecSim: drawing 100 realization for group rch_recharge_17_gr with 706 pars, (log) variance 0.054284340773499334 (sill 0.054284340773499334)\n",
      "SpecSim.initialize() summary: full_delx X full_dely: 72 X 72\n",
      "2022-03-18 15:12:37.405167 finished: SpecSim: drawing 100 realization for group rch_recharge_17_gr with 706 pars, (log) variance 0.054284340773499334 (sill 0.054284340773499334) took: 0:00:00.045909\n",
      "2022-03-18 15:12:37.409125 starting: SpecSim: drawing 100 realization for group rch_recharge_18_gr with 706 pars, (log) variance 0.054284340773499334 (sill 0.054284340773499334)\n",
      "SpecSim.initialize() summary: full_delx X full_dely: 72 X 72\n",
      "2022-03-18 15:12:37.456998 finished: SpecSim: drawing 100 realization for group rch_recharge_18_gr with 706 pars, (log) variance 0.054284340773499334 (sill 0.054284340773499334) took: 0:00:00.047873\n",
      "2022-03-18 15:12:37.460988 starting: SpecSim: drawing 100 realization for group rch_recharge_19_gr with 706 pars, (log) variance 0.054284340773499334 (sill 0.054284340773499334)\n",
      "SpecSim.initialize() summary: full_delx X full_dely: 72 X 72\n",
      "2022-03-18 15:12:37.507897 finished: SpecSim: drawing 100 realization for group rch_recharge_19_gr with 706 pars, (log) variance 0.054284340773499334 (sill 0.054284340773499334) took: 0:00:00.046909\n",
      "2022-03-18 15:12:37.512848 starting: SpecSim: drawing 100 realization for group rch_recharge_2_gr with 706 pars, (log) variance 0.054284340773499334 (sill 0.054284340773499334)\n",
      "SpecSim.initialize() summary: full_delx X full_dely: 72 X 72\n"
     ]
    },
    {
     "name": "stdout",
     "output_type": "stream",
     "text": [
      "2022-03-18 15:12:37.558752 finished: SpecSim: drawing 100 realization for group rch_recharge_2_gr with 706 pars, (log) variance 0.054284340773499334 (sill 0.054284340773499334) took: 0:00:00.045904\n",
      "2022-03-18 15:12:37.562748 starting: SpecSim: drawing 100 realization for group rch_recharge_20_gr with 706 pars, (log) variance 0.054284340773499334 (sill 0.054284340773499334)\n",
      "SpecSim.initialize() summary: full_delx X full_dely: 72 X 72\n",
      "2022-03-18 15:12:37.608643 finished: SpecSim: drawing 100 realization for group rch_recharge_20_gr with 706 pars, (log) variance 0.054284340773499334 (sill 0.054284340773499334) took: 0:00:00.045895\n",
      "2022-03-18 15:12:37.612634 starting: SpecSim: drawing 100 realization for group rch_recharge_21_gr with 706 pars, (log) variance 0.054284340773499334 (sill 0.054284340773499334)\n",
      "SpecSim.initialize() summary: full_delx X full_dely: 72 X 72\n",
      "2022-03-18 15:12:37.657497 finished: SpecSim: drawing 100 realization for group rch_recharge_21_gr with 706 pars, (log) variance 0.054284340773499334 (sill 0.054284340773499334) took: 0:00:00.044863\n",
      "2022-03-18 15:12:37.661450 starting: SpecSim: drawing 100 realization for group rch_recharge_22_gr with 706 pars, (log) variance 0.054284340773499334 (sill 0.054284340773499334)\n",
      "SpecSim.initialize() summary: full_delx X full_dely: 72 X 72\n",
      "2022-03-18 15:12:37.707379 finished: SpecSim: drawing 100 realization for group rch_recharge_22_gr with 706 pars, (log) variance 0.054284340773499334 (sill 0.054284340773499334) took: 0:00:00.045929\n",
      "2022-03-18 15:12:37.711319 starting: SpecSim: drawing 100 realization for group rch_recharge_23_gr with 706 pars, (log) variance 0.054284340773499334 (sill 0.054284340773499334)\n",
      "SpecSim.initialize() summary: full_delx X full_dely: 72 X 72\n"
     ]
    },
    {
     "name": "stdout",
     "output_type": "stream",
     "text": [
      "2022-03-18 15:12:37.759248 finished: SpecSim: drawing 100 realization for group rch_recharge_23_gr with 706 pars, (log) variance 0.054284340773499334 (sill 0.054284340773499334) took: 0:00:00.047929\n",
      "2022-03-18 15:12:37.762290 starting: SpecSim: drawing 100 realization for group rch_recharge_24_gr with 706 pars, (log) variance 0.054284340773499334 (sill 0.054284340773499334)\n",
      "SpecSim.initialize() summary: full_delx X full_dely: 72 X 72\n",
      "2022-03-18 15:12:37.808160 finished: SpecSim: drawing 100 realization for group rch_recharge_24_gr with 706 pars, (log) variance 0.054284340773499334 (sill 0.054284340773499334) took: 0:00:00.045870\n",
      "2022-03-18 15:12:37.812162 starting: SpecSim: drawing 100 realization for group rch_recharge_25_gr with 706 pars, (log) variance 0.054284340773499334 (sill 0.054284340773499334)\n",
      "SpecSim.initialize() summary: full_delx X full_dely: 72 X 72\n",
      "2022-03-18 15:12:37.858033 finished: SpecSim: drawing 100 realization for group rch_recharge_25_gr with 706 pars, (log) variance 0.054284340773499334 (sill 0.054284340773499334) took: 0:00:00.045871\n",
      "2022-03-18 15:12:37.862004 starting: SpecSim: drawing 100 realization for group rch_recharge_3_gr with 706 pars, (log) variance 0.054284340773499334 (sill 0.054284340773499334)\n",
      "SpecSim.initialize() summary: full_delx X full_dely: 72 X 72\n",
      "2022-03-18 15:12:37.907912 finished: SpecSim: drawing 100 realization for group rch_recharge_3_gr with 706 pars, (log) variance 0.054284340773499334 (sill 0.054284340773499334) took: 0:00:00.045908\n",
      "2022-03-18 15:12:37.911873 starting: SpecSim: drawing 100 realization for group rch_recharge_4_gr with 706 pars, (log) variance 0.054284340773499334 (sill 0.054284340773499334)\n",
      "SpecSim.initialize() summary: full_delx X full_dely: 72 X 72\n"
     ]
    },
    {
     "name": "stdout",
     "output_type": "stream",
     "text": [
      "2022-03-18 15:12:37.957329 finished: SpecSim: drawing 100 realization for group rch_recharge_4_gr with 706 pars, (log) variance 0.054284340773499334 (sill 0.054284340773499334) took: 0:00:00.045456\n",
      "2022-03-18 15:12:37.961348 starting: SpecSim: drawing 100 realization for group rch_recharge_5_gr with 706 pars, (log) variance 0.054284340773499334 (sill 0.054284340773499334)\n",
      "SpecSim.initialize() summary: full_delx X full_dely: 72 X 72\n",
      "2022-03-18 15:12:38.007197 finished: SpecSim: drawing 100 realization for group rch_recharge_5_gr with 706 pars, (log) variance 0.054284340773499334 (sill 0.054284340773499334) took: 0:00:00.045849\n",
      "2022-03-18 15:12:38.012184 starting: SpecSim: drawing 100 realization for group rch_recharge_6_gr with 706 pars, (log) variance 0.054284340773499334 (sill 0.054284340773499334)\n",
      "SpecSim.initialize() summary: full_delx X full_dely: 72 X 72\n",
      "2022-03-18 15:12:38.058113 finished: SpecSim: drawing 100 realization for group rch_recharge_6_gr with 706 pars, (log) variance 0.054284340773499334 (sill 0.054284340773499334) took: 0:00:00.045929\n",
      "2022-03-18 15:12:38.062102 starting: SpecSim: drawing 100 realization for group rch_recharge_7_gr with 706 pars, (log) variance 0.054284340773499334 (sill 0.054284340773499334)\n",
      "SpecSim.initialize() summary: full_delx X full_dely: 72 X 72\n",
      "2022-03-18 15:12:38.104988 finished: SpecSim: drawing 100 realization for group rch_recharge_7_gr with 706 pars, (log) variance 0.054284340773499334 (sill 0.054284340773499334) took: 0:00:00.042886\n",
      "2022-03-18 15:12:38.108937 starting: SpecSim: drawing 100 realization for group rch_recharge_8_gr with 706 pars, (log) variance 0.054284340773499334 (sill 0.054284340773499334)\n",
      "SpecSim.initialize() summary: full_delx X full_dely: 72 X 72\n",
      "2022-03-18 15:12:38.152858 finished: SpecSim: drawing 100 realization for group rch_recharge_8_gr with 706 pars, (log) variance 0.054284340773499334 (sill 0.054284340773499334) took: 0:00:00.043921\n",
      "2022-03-18 15:12:38.156797 starting: SpecSim: drawing 100 realization for group rch_recharge_9_gr with 706 pars, (log) variance 0.054284340773499334 (sill 0.054284340773499334)\n",
      "SpecSim.initialize() summary: full_delx X full_dely: 72 X 72\n"
     ]
    },
    {
     "name": "stdout",
     "output_type": "stream",
     "text": [
      "2022-03-18 15:12:38.200679 finished: SpecSim: drawing 100 realization for group rch_recharge_9_gr with 706 pars, (log) variance 0.054284340773499334 (sill 0.054284340773499334) took: 0:00:00.043882\n",
      "SpecSim.initialize() summary: full_delx X full_dely: 72 X 72\n",
      "2022-03-18 15:12:38.396189 finished: spectral simulation for grid-scale pars took: 0:00:02.110520\n",
      "2022-03-18 15:12:38.396189 starting: Drawing non-specsim pars\n",
      "building diagonal cov\n"
     ]
    },
    {
     "name": "stdout",
     "output_type": "stream",
     "text": [
      "processing  name:struct1,nugget:0.0,structures:\n",
      "name:var1,contribution:1.0,a:1000.0,anisotropy:1.0,bearing:0.0\n",
      "\n",
      "working on pargroups ['npf_k_layer1_pp']\n",
      "build cov matrix\n",
      "done\n",
      "getting diag var cov 32\n",
      "scaling full cov by diag var cov\n",
      "working on pargroups ['npf_k_layer2_pp']\n",
      "build cov matrix\n",
      "done\n",
      "getting diag var cov 32\n",
      "scaling full cov by diag var cov\n"
     ]
    },
    {
     "name": "stdout",
     "output_type": "stream",
     "text": [
      "working on pargroups ['npf_k_layer3_pp']\n",
      "build cov matrix\n",
      "done\n",
      "getting diag var cov 32\n",
      "scaling full cov by diag var cov\n",
      "working on pargroups ['npf_k33_layer1_pp']\n",
      "build cov matrix\n",
      "done\n",
      "getting diag var cov 32\n",
      "scaling full cov by diag var cov\n",
      "working on pargroups ['npf_k33_layer2_pp']\n"
     ]
    },
    {
     "name": "stdout",
     "output_type": "stream",
     "text": [
      "build cov matrix\n",
      "done\n",
      "getting diag var cov 32\n",
      "scaling full cov by diag var cov\n",
      "working on pargroups ['npf_k33_layer3_pp']\n",
      "build cov matrix\n",
      "done\n",
      "getting diag var cov 32\n",
      "scaling full cov by diag var cov\n",
      "working on pargroups ['sto_ss_layer2_pp']\n"
     ]
    },
    {
     "name": "stdout",
     "output_type": "stream",
     "text": [
      "build cov matrix\n",
      "done\n",
      "getting diag var cov 32\n",
      "scaling full cov by diag var cov\n",
      "working on pargroups ['sto_ss_layer3_pp']\n",
      "build cov matrix\n",
      "done\n",
      "getting diag var cov 32\n",
      "scaling full cov by diag var cov\n",
      "working on pargroups ['sto_sy_layer1_pp']\n"
     ]
    },
    {
     "name": "stdout",
     "output_type": "stream",
     "text": [
      "build cov matrix\n",
      "done\n",
      "getting diag var cov 32\n",
      "scaling full cov by diag var cov\n",
      "working on pargroups ['rch_recharge_1_pp']\n",
      "build cov matrix\n",
      "done\n",
      "getting diag var cov 32\n",
      "scaling full cov by diag var cov\n"
     ]
    },
    {
     "name": "stdout",
     "output_type": "stream",
     "text": [
      "working on pargroups ['rch_recharge_10_pp']\n",
      "build cov matrix\n",
      "done\n",
      "getting diag var cov 32\n",
      "scaling full cov by diag var cov\n",
      "working on pargroups ['rch_recharge_11_pp']\n",
      "build cov matrix\n",
      "done\n",
      "getting diag var cov 32\n",
      "scaling full cov by diag var cov\n"
     ]
    },
    {
     "name": "stdout",
     "output_type": "stream",
     "text": [
      "working on pargroups ['rch_recharge_12_pp']\n",
      "build cov matrix\n",
      "done\n",
      "getting diag var cov 32\n",
      "scaling full cov by diag var cov\n",
      "working on pargroups ['rch_recharge_13_pp']\n",
      "build cov matrix\n",
      "done\n",
      "getting diag var cov 32\n",
      "scaling full cov by diag var cov\n"
     ]
    },
    {
     "name": "stdout",
     "output_type": "stream",
     "text": [
      "working on pargroups ['rch_recharge_14_pp']\n",
      "build cov matrix\n",
      "done\n",
      "getting diag var cov 32\n",
      "scaling full cov by diag var cov\n",
      "working on pargroups ['rch_recharge_15_pp']\n",
      "build cov matrix\n",
      "done\n",
      "getting diag var cov 32\n",
      "scaling full cov by diag var cov\n"
     ]
    },
    {
     "name": "stdout",
     "output_type": "stream",
     "text": [
      "working on pargroups ['rch_recharge_16_pp']\n",
      "build cov matrix\n",
      "done\n",
      "getting diag var cov 32\n",
      "scaling full cov by diag var cov\n",
      "working on pargroups ['rch_recharge_17_pp']\n",
      "build cov matrix\n",
      "done\n",
      "getting diag var cov 32\n",
      "scaling full cov by diag var cov\n"
     ]
    },
    {
     "name": "stdout",
     "output_type": "stream",
     "text": [
      "working on pargroups ['rch_recharge_18_pp']\n",
      "build cov matrix\n",
      "done\n",
      "getting diag var cov 32\n",
      "scaling full cov by diag var cov\n",
      "working on pargroups ['rch_recharge_19_pp']\n",
      "build cov matrix\n",
      "done\n",
      "getting diag var cov 32\n",
      "scaling full cov by diag var cov\n"
     ]
    },
    {
     "name": "stdout",
     "output_type": "stream",
     "text": [
      "working on pargroups ['rch_recharge_2_pp']\n",
      "build cov matrix\n",
      "done\n",
      "getting diag var cov 32\n",
      "scaling full cov by diag var cov\n",
      "working on pargroups ['rch_recharge_20_pp']\n",
      "build cov matrix\n",
      "done\n",
      "getting diag var cov 32\n",
      "scaling full cov by diag var cov\n",
      "working on pargroups ['rch_recharge_21_pp']\n"
     ]
    },
    {
     "name": "stdout",
     "output_type": "stream",
     "text": [
      "build cov matrix\n",
      "done\n",
      "getting diag var cov 32\n",
      "scaling full cov by diag var cov\n",
      "working on pargroups ['rch_recharge_22_pp']\n",
      "build cov matrix\n",
      "done\n",
      "getting diag var cov 32\n",
      "scaling full cov by diag var cov\n",
      "working on pargroups ['rch_recharge_23_pp']\n",
      "build cov matrix\n",
      "done\n",
      "getting diag var cov 32\n",
      "scaling full cov by diag var cov\n"
     ]
    },
    {
     "name": "stdout",
     "output_type": "stream",
     "text": [
      "working on pargroups ['rch_recharge_24_pp']\n",
      "build cov matrix\n",
      "done\n",
      "getting diag var cov 32\n",
      "scaling full cov by diag var cov\n",
      "working on pargroups ['rch_recharge_25_pp']\n",
      "build cov matrix\n",
      "done\n",
      "getting diag var cov 32\n",
      "scaling full cov by diag var cov\n"
     ]
    },
    {
     "name": "stdout",
     "output_type": "stream",
     "text": [
      "working on pargroups ['rch_recharge_3_pp']\n",
      "build cov matrix\n",
      "done\n",
      "getting diag var cov 32\n",
      "scaling full cov by diag var cov\n",
      "working on pargroups ['rch_recharge_4_pp']\n",
      "build cov matrix\n",
      "done\n",
      "getting diag var cov 32\n",
      "scaling full cov by diag var cov\n",
      "working on pargroups ['rch_recharge_5_pp']\n"
     ]
    },
    {
     "name": "stdout",
     "output_type": "stream",
     "text": [
      "build cov matrix\n",
      "done\n",
      "getting diag var cov 32\n",
      "scaling full cov by diag var cov\n",
      "working on pargroups ['rch_recharge_6_pp']\n",
      "build cov matrix\n",
      "done\n",
      "getting diag var cov 32\n",
      "scaling full cov by diag var cov\n",
      "working on pargroups ['rch_recharge_7_pp']\n",
      "build cov matrix\n",
      "done\n",
      "getting diag var cov 32\n",
      "scaling full cov by diag var cov\n"
     ]
    },
    {
     "name": "stdout",
     "output_type": "stream",
     "text": [
      "working on pargroups ['rch_recharge_8_pp']\n",
      "build cov matrix\n",
      "done\n",
      "getting diag var cov 32\n",
      "scaling full cov by diag var cov\n",
      "working on pargroups ['rch_recharge_9_pp']\n",
      "build cov matrix\n",
      "done\n",
      "getting diag var cov 32\n",
      "scaling full cov by diag var cov\n"
     ]
    },
    {
     "name": "stdout",
     "output_type": "stream",
     "text": [
      "working on pargroups ['ghbcond_gr']\n",
      "build cov matrix\n",
      "done\n",
      "getting diag var cov 10\n",
      "scaling full cov by diag var cov\n",
      "working on pargroups ['ghbcond_gr']\n",
      "build cov matrix\n",
      "done\n",
      "getting diag var cov 10\n",
      "scaling full cov by diag var cov\n",
      "working on pargroups ['ghbcond_gr']\n"
     ]
    },
    {
     "name": "stdout",
     "output_type": "stream",
     "text": [
      "build cov matrix\n",
      "done\n",
      "getting diag var cov 10\n",
      "scaling full cov by diag var cov\n",
      "working on pargroups ['sfrcond_gr']\n",
      "build cov matrix\n",
      "done\n",
      "getting diag var cov 40\n",
      "scaling full cov by diag var cov\n",
      "processing  name:struct1,nugget:0.0,structures:\n",
      "name:var1,contribution:1.0,a:60.0,anisotropy:1.0,bearing:0.0\n",
      "\n",
      "working on pargroups ['wel_cst']\n",
      "build cov matrix"
     ]
    },
    {
     "name": "stdout",
     "output_type": "stream",
     "text": [
      "\n",
      "done\n",
      "getting diag var cov 25\n",
      "scaling full cov by diag var cov\n",
      "working on pargroups ['sfr_gr']\n",
      "build cov matrix\n",
      "done\n",
      "getting diag var cov 25\n",
      "scaling full cov by diag var cov\n",
      "processing  name:struct1,nugget:0.0,structures:\n",
      "name:var1,contribution:1.0,a:1000.0,anisotropy:1.0,bearing:0.0\n",
      "\n",
      "working on pargroups ['ghbhead_gr']\n"
     ]
    },
    {
     "name": "stdout",
     "output_type": "stream",
     "text": [
      "build cov matrix\n",
      "done\n",
      "getting diag var cov 10\n",
      "scaling full cov by diag var cov\n",
      "working on pargroups ['ghbhead_gr']\n",
      "build cov matrix\n",
      "done\n",
      "getting diag var cov 10\n",
      "scaling full cov by diag var cov\n",
      "working on pargroups ['ghbhead_gr']\n",
      "build cov matrix\n",
      "done\n",
      "getting diag var cov 10\n",
      "scaling full cov by diag var cov\n"
     ]
    },
    {
     "name": "stdout",
     "output_type": "stream",
     "text": [
      "adding remaining parameters to diagonal\n"
     ]
    },
    {
     "name": "stdout",
     "output_type": "stream",
     "text": [
      "2022-03-18 15:12:45.923305 finished: Drawing non-specsim pars took: 0:00:07.527116\n"
     ]
    },
    {
     "name": "stdout",
     "output_type": "stream",
     "text": [
      "2022-03-18 15:12:47.982565 finished: drawing realizations took: 0:00:11.851704\n"
     ]
    },
    {
     "name": "stdout",
     "output_type": "stream",
     "text": [
      "noptmax:0, npar_adj:25454, nnz_obs:920\n"
     ]
    }
   ],
   "source": [
    "pe = pf.draw(num_reals=100, use_specsim=True) # draw parameters from the prior distribution\n",
    "pe.enforce() # enforces parameter bounds\n",
    "pe.to_binary(os.path.join(template_ws,\"prior_pe.jcb\")) #writes the paramter ensemble to binary file\n",
    "\n",
    "# final tidy-up\n",
    "pst.pestpp_options[\"ies_parameter_ensemble\"] = \"prior_pe.jcb\" #adds pest++ options to the control file\n",
    "pst.write(os.path.join(template_ws, 'freyberg_mf6.pst')) # re-writes the control file with the new pest++ options"
   ]
  },
  {
   "cell_type": "markdown",
   "metadata": {},
   "source": [
    "### 9. Observation Uncertainty Covariance Matrix\n",
    "\n",
    "Lastly, not so common, let's also generate our observation covariance matrix. Often this step is omitted, in particular if the observation weights in the `* observation data` section reflect observation uncertainty. Here we will implement it expressly so as to:\n",
    "\n",
    " - make life easier for the authors to organize the tutorial notebooks;\n",
    " - because we are going to be fiddlying around with the observation weights later on, and this  way we keep a \"backup\" of our observation uncertainty;\n",
    " - and to demonstrate how to add autocorrelated transient noise! When is the last time you saw that in the wild?\n",
    "\n",
    "First let us start by generating a covariance matrix, using the weights recorded in the `pst.observation_data` section. This is accomplished with `pyemu.Cov.from_observation_data()`. This will generate a covariance matrix for **all** observations in the control file, even the zero-weighted ones. \n",
    "\n",
    "However, we are only interested in keep the non-zero weighted observations. We can use `pyemu` convenient Matrix manipulation functions to `.get()` the covariance matrix rows/columns that we are interested in."
   ]
  },
  {
   "cell_type": "code",
   "execution_count": 57,
   "metadata": {
    "execution": {
     "iopub.execute_input": "2022-03-18T04:42:49.094462Z",
     "iopub.status.busy": "2022-03-18T04:42:49.093434Z",
     "iopub.status.idle": "2022-03-18T04:42:49.162248Z",
     "shell.execute_reply": "2022-03-18T04:42:49.162248Z"
    }
   },
   "outputs": [
    {
     "data": {
      "text/html": [
       "<div>\n",
       "<style scoped>\n",
       "    .dataframe tbody tr th:only-of-type {\n",
       "        vertical-align: middle;\n",
       "    }\n",
       "\n",
       "    .dataframe tbody tr th {\n",
       "        vertical-align: top;\n",
       "    }\n",
       "\n",
       "    .dataframe thead th {\n",
       "        text-align: right;\n",
       "    }\n",
       "</style>\n",
       "<table border=\"1\" class=\"dataframe\">\n",
       "  <thead>\n",
       "    <tr style=\"text-align: right;\">\n",
       "      <th></th>\n",
       "      <th>oname:hds_otype:lst_usecol:trgw_0_13_10_time:1.0</th>\n",
       "      <th>oname:hds_otype:lst_usecol:trgw_0_13_10_time:122.0</th>\n",
       "      <th>oname:hds_otype:lst_usecol:trgw_0_13_10_time:153.0</th>\n",
       "      <th>oname:hds_otype:lst_usecol:trgw_0_13_10_time:183.0</th>\n",
       "      <th>oname:hds_otype:lst_usecol:trgw_0_13_10_time:214.0</th>\n",
       "      <th>oname:hds_otype:lst_usecol:trgw_0_13_10_time:245.0</th>\n",
       "      <th>oname:hds_otype:lst_usecol:trgw_0_13_10_time:275.0</th>\n",
       "      <th>oname:hds_otype:lst_usecol:trgw_0_13_10_time:306.0</th>\n",
       "      <th>oname:hds_otype:lst_usecol:trgw_0_13_10_time:32.0</th>\n",
       "      <th>oname:hds_otype:lst_usecol:trgw_0_13_10_time:336.0</th>\n",
       "      <th>...</th>\n",
       "      <th>oname:hdsvd_otype:lst_usecol:trgw_0_9_1_time:183.0</th>\n",
       "      <th>oname:hdsvd_otype:lst_usecol:trgw_0_9_1_time:214.0</th>\n",
       "      <th>oname:hdsvd_otype:lst_usecol:trgw_0_9_1_time:245.0</th>\n",
       "      <th>oname:hdsvd_otype:lst_usecol:trgw_0_9_1_time:275.0</th>\n",
       "      <th>oname:hdsvd_otype:lst_usecol:trgw_0_9_1_time:306.0</th>\n",
       "      <th>oname:hdsvd_otype:lst_usecol:trgw_0_9_1_time:32.0</th>\n",
       "      <th>oname:hdsvd_otype:lst_usecol:trgw_0_9_1_time:336.0</th>\n",
       "      <th>oname:hdsvd_otype:lst_usecol:trgw_0_9_1_time:367.0</th>\n",
       "      <th>oname:hdsvd_otype:lst_usecol:trgw_0_9_1_time:61.0</th>\n",
       "      <th>oname:hdsvd_otype:lst_usecol:trgw_0_9_1_time:92.0</th>\n",
       "    </tr>\n",
       "  </thead>\n",
       "  <tbody>\n",
       "    <tr>\n",
       "      <th>oname:hds_otype:lst_usecol:trgw_0_13_10_time:1.0</th>\n",
       "      <td>0.01</td>\n",
       "      <td>0.00</td>\n",
       "      <td>0.00</td>\n",
       "      <td>0.00</td>\n",
       "      <td>0.00</td>\n",
       "      <td>0.0</td>\n",
       "      <td>0.0</td>\n",
       "      <td>0.0</td>\n",
       "      <td>0.0</td>\n",
       "      <td>0.0</td>\n",
       "      <td>...</td>\n",
       "      <td>0.0</td>\n",
       "      <td>0.0</td>\n",
       "      <td>0.0</td>\n",
       "      <td>0.0</td>\n",
       "      <td>0.0</td>\n",
       "      <td>0.0</td>\n",
       "      <td>0.0</td>\n",
       "      <td>0.0</td>\n",
       "      <td>0.0</td>\n",
       "      <td>0.0</td>\n",
       "    </tr>\n",
       "    <tr>\n",
       "      <th>oname:hds_otype:lst_usecol:trgw_0_13_10_time:122.0</th>\n",
       "      <td>0.00</td>\n",
       "      <td>0.01</td>\n",
       "      <td>0.00</td>\n",
       "      <td>0.00</td>\n",
       "      <td>0.00</td>\n",
       "      <td>0.0</td>\n",
       "      <td>0.0</td>\n",
       "      <td>0.0</td>\n",
       "      <td>0.0</td>\n",
       "      <td>0.0</td>\n",
       "      <td>...</td>\n",
       "      <td>0.0</td>\n",
       "      <td>0.0</td>\n",
       "      <td>0.0</td>\n",
       "      <td>0.0</td>\n",
       "      <td>0.0</td>\n",
       "      <td>0.0</td>\n",
       "      <td>0.0</td>\n",
       "      <td>0.0</td>\n",
       "      <td>0.0</td>\n",
       "      <td>0.0</td>\n",
       "    </tr>\n",
       "    <tr>\n",
       "      <th>oname:hds_otype:lst_usecol:trgw_0_13_10_time:153.0</th>\n",
       "      <td>0.00</td>\n",
       "      <td>0.00</td>\n",
       "      <td>0.01</td>\n",
       "      <td>0.00</td>\n",
       "      <td>0.00</td>\n",
       "      <td>0.0</td>\n",
       "      <td>0.0</td>\n",
       "      <td>0.0</td>\n",
       "      <td>0.0</td>\n",
       "      <td>0.0</td>\n",
       "      <td>...</td>\n",
       "      <td>0.0</td>\n",
       "      <td>0.0</td>\n",
       "      <td>0.0</td>\n",
       "      <td>0.0</td>\n",
       "      <td>0.0</td>\n",
       "      <td>0.0</td>\n",
       "      <td>0.0</td>\n",
       "      <td>0.0</td>\n",
       "      <td>0.0</td>\n",
       "      <td>0.0</td>\n",
       "    </tr>\n",
       "    <tr>\n",
       "      <th>oname:hds_otype:lst_usecol:trgw_0_13_10_time:183.0</th>\n",
       "      <td>0.00</td>\n",
       "      <td>0.00</td>\n",
       "      <td>0.00</td>\n",
       "      <td>0.01</td>\n",
       "      <td>0.00</td>\n",
       "      <td>0.0</td>\n",
       "      <td>0.0</td>\n",
       "      <td>0.0</td>\n",
       "      <td>0.0</td>\n",
       "      <td>0.0</td>\n",
       "      <td>...</td>\n",
       "      <td>0.0</td>\n",
       "      <td>0.0</td>\n",
       "      <td>0.0</td>\n",
       "      <td>0.0</td>\n",
       "      <td>0.0</td>\n",
       "      <td>0.0</td>\n",
       "      <td>0.0</td>\n",
       "      <td>0.0</td>\n",
       "      <td>0.0</td>\n",
       "      <td>0.0</td>\n",
       "    </tr>\n",
       "    <tr>\n",
       "      <th>oname:hds_otype:lst_usecol:trgw_0_13_10_time:214.0</th>\n",
       "      <td>0.00</td>\n",
       "      <td>0.00</td>\n",
       "      <td>0.00</td>\n",
       "      <td>0.00</td>\n",
       "      <td>0.01</td>\n",
       "      <td>0.0</td>\n",
       "      <td>0.0</td>\n",
       "      <td>0.0</td>\n",
       "      <td>0.0</td>\n",
       "      <td>0.0</td>\n",
       "      <td>...</td>\n",
       "      <td>0.0</td>\n",
       "      <td>0.0</td>\n",
       "      <td>0.0</td>\n",
       "      <td>0.0</td>\n",
       "      <td>0.0</td>\n",
       "      <td>0.0</td>\n",
       "      <td>0.0</td>\n",
       "      <td>0.0</td>\n",
       "      <td>0.0</td>\n",
       "      <td>0.0</td>\n",
       "    </tr>\n",
       "  </tbody>\n",
       "</table>\n",
       "<p>5 rows × 920 columns</p>\n",
       "</div>"
      ],
      "text/plain": [
       "                                                    oname:hds_otype:lst_usecol:trgw_0_13_10_time:1.0  \\\n",
       "oname:hds_otype:lst_usecol:trgw_0_13_10_time:1.0                                                0.01   \n",
       "oname:hds_otype:lst_usecol:trgw_0_13_10_time:122.0                                              0.00   \n",
       "oname:hds_otype:lst_usecol:trgw_0_13_10_time:153.0                                              0.00   \n",
       "oname:hds_otype:lst_usecol:trgw_0_13_10_time:183.0                                              0.00   \n",
       "oname:hds_otype:lst_usecol:trgw_0_13_10_time:214.0                                              0.00   \n",
       "\n",
       "                                                    oname:hds_otype:lst_usecol:trgw_0_13_10_time:122.0  \\\n",
       "oname:hds_otype:lst_usecol:trgw_0_13_10_time:1.0                                                  0.00   \n",
       "oname:hds_otype:lst_usecol:trgw_0_13_10_time:122.0                                                0.01   \n",
       "oname:hds_otype:lst_usecol:trgw_0_13_10_time:153.0                                                0.00   \n",
       "oname:hds_otype:lst_usecol:trgw_0_13_10_time:183.0                                                0.00   \n",
       "oname:hds_otype:lst_usecol:trgw_0_13_10_time:214.0                                                0.00   \n",
       "\n",
       "                                                    oname:hds_otype:lst_usecol:trgw_0_13_10_time:153.0  \\\n",
       "oname:hds_otype:lst_usecol:trgw_0_13_10_time:1.0                                                  0.00   \n",
       "oname:hds_otype:lst_usecol:trgw_0_13_10_time:122.0                                                0.00   \n",
       "oname:hds_otype:lst_usecol:trgw_0_13_10_time:153.0                                                0.01   \n",
       "oname:hds_otype:lst_usecol:trgw_0_13_10_time:183.0                                                0.00   \n",
       "oname:hds_otype:lst_usecol:trgw_0_13_10_time:214.0                                                0.00   \n",
       "\n",
       "                                                    oname:hds_otype:lst_usecol:trgw_0_13_10_time:183.0  \\\n",
       "oname:hds_otype:lst_usecol:trgw_0_13_10_time:1.0                                                  0.00   \n",
       "oname:hds_otype:lst_usecol:trgw_0_13_10_time:122.0                                                0.00   \n",
       "oname:hds_otype:lst_usecol:trgw_0_13_10_time:153.0                                                0.00   \n",
       "oname:hds_otype:lst_usecol:trgw_0_13_10_time:183.0                                                0.01   \n",
       "oname:hds_otype:lst_usecol:trgw_0_13_10_time:214.0                                                0.00   \n",
       "\n",
       "                                                    oname:hds_otype:lst_usecol:trgw_0_13_10_time:214.0  \\\n",
       "oname:hds_otype:lst_usecol:trgw_0_13_10_time:1.0                                                  0.00   \n",
       "oname:hds_otype:lst_usecol:trgw_0_13_10_time:122.0                                                0.00   \n",
       "oname:hds_otype:lst_usecol:trgw_0_13_10_time:153.0                                                0.00   \n",
       "oname:hds_otype:lst_usecol:trgw_0_13_10_time:183.0                                                0.00   \n",
       "oname:hds_otype:lst_usecol:trgw_0_13_10_time:214.0                                                0.01   \n",
       "\n",
       "                                                    oname:hds_otype:lst_usecol:trgw_0_13_10_time:245.0  \\\n",
       "oname:hds_otype:lst_usecol:trgw_0_13_10_time:1.0                                                   0.0   \n",
       "oname:hds_otype:lst_usecol:trgw_0_13_10_time:122.0                                                 0.0   \n",
       "oname:hds_otype:lst_usecol:trgw_0_13_10_time:153.0                                                 0.0   \n",
       "oname:hds_otype:lst_usecol:trgw_0_13_10_time:183.0                                                 0.0   \n",
       "oname:hds_otype:lst_usecol:trgw_0_13_10_time:214.0                                                 0.0   \n",
       "\n",
       "                                                    oname:hds_otype:lst_usecol:trgw_0_13_10_time:275.0  \\\n",
       "oname:hds_otype:lst_usecol:trgw_0_13_10_time:1.0                                                   0.0   \n",
       "oname:hds_otype:lst_usecol:trgw_0_13_10_time:122.0                                                 0.0   \n",
       "oname:hds_otype:lst_usecol:trgw_0_13_10_time:153.0                                                 0.0   \n",
       "oname:hds_otype:lst_usecol:trgw_0_13_10_time:183.0                                                 0.0   \n",
       "oname:hds_otype:lst_usecol:trgw_0_13_10_time:214.0                                                 0.0   \n",
       "\n",
       "                                                    oname:hds_otype:lst_usecol:trgw_0_13_10_time:306.0  \\\n",
       "oname:hds_otype:lst_usecol:trgw_0_13_10_time:1.0                                                   0.0   \n",
       "oname:hds_otype:lst_usecol:trgw_0_13_10_time:122.0                                                 0.0   \n",
       "oname:hds_otype:lst_usecol:trgw_0_13_10_time:153.0                                                 0.0   \n",
       "oname:hds_otype:lst_usecol:trgw_0_13_10_time:183.0                                                 0.0   \n",
       "oname:hds_otype:lst_usecol:trgw_0_13_10_time:214.0                                                 0.0   \n",
       "\n",
       "                                                    oname:hds_otype:lst_usecol:trgw_0_13_10_time:32.0  \\\n",
       "oname:hds_otype:lst_usecol:trgw_0_13_10_time:1.0                                                  0.0   \n",
       "oname:hds_otype:lst_usecol:trgw_0_13_10_time:122.0                                                0.0   \n",
       "oname:hds_otype:lst_usecol:trgw_0_13_10_time:153.0                                                0.0   \n",
       "oname:hds_otype:lst_usecol:trgw_0_13_10_time:183.0                                                0.0   \n",
       "oname:hds_otype:lst_usecol:trgw_0_13_10_time:214.0                                                0.0   \n",
       "\n",
       "                                                    oname:hds_otype:lst_usecol:trgw_0_13_10_time:336.0  \\\n",
       "oname:hds_otype:lst_usecol:trgw_0_13_10_time:1.0                                                   0.0   \n",
       "oname:hds_otype:lst_usecol:trgw_0_13_10_time:122.0                                                 0.0   \n",
       "oname:hds_otype:lst_usecol:trgw_0_13_10_time:153.0                                                 0.0   \n",
       "oname:hds_otype:lst_usecol:trgw_0_13_10_time:183.0                                                 0.0   \n",
       "oname:hds_otype:lst_usecol:trgw_0_13_10_time:214.0                                                 0.0   \n",
       "\n",
       "                                                    ...  \\\n",
       "oname:hds_otype:lst_usecol:trgw_0_13_10_time:1.0    ...   \n",
       "oname:hds_otype:lst_usecol:trgw_0_13_10_time:122.0  ...   \n",
       "oname:hds_otype:lst_usecol:trgw_0_13_10_time:153.0  ...   \n",
       "oname:hds_otype:lst_usecol:trgw_0_13_10_time:183.0  ...   \n",
       "oname:hds_otype:lst_usecol:trgw_0_13_10_time:214.0  ...   \n",
       "\n",
       "                                                    oname:hdsvd_otype:lst_usecol:trgw_0_9_1_time:183.0  \\\n",
       "oname:hds_otype:lst_usecol:trgw_0_13_10_time:1.0                                                   0.0   \n",
       "oname:hds_otype:lst_usecol:trgw_0_13_10_time:122.0                                                 0.0   \n",
       "oname:hds_otype:lst_usecol:trgw_0_13_10_time:153.0                                                 0.0   \n",
       "oname:hds_otype:lst_usecol:trgw_0_13_10_time:183.0                                                 0.0   \n",
       "oname:hds_otype:lst_usecol:trgw_0_13_10_time:214.0                                                 0.0   \n",
       "\n",
       "                                                    oname:hdsvd_otype:lst_usecol:trgw_0_9_1_time:214.0  \\\n",
       "oname:hds_otype:lst_usecol:trgw_0_13_10_time:1.0                                                   0.0   \n",
       "oname:hds_otype:lst_usecol:trgw_0_13_10_time:122.0                                                 0.0   \n",
       "oname:hds_otype:lst_usecol:trgw_0_13_10_time:153.0                                                 0.0   \n",
       "oname:hds_otype:lst_usecol:trgw_0_13_10_time:183.0                                                 0.0   \n",
       "oname:hds_otype:lst_usecol:trgw_0_13_10_time:214.0                                                 0.0   \n",
       "\n",
       "                                                    oname:hdsvd_otype:lst_usecol:trgw_0_9_1_time:245.0  \\\n",
       "oname:hds_otype:lst_usecol:trgw_0_13_10_time:1.0                                                   0.0   \n",
       "oname:hds_otype:lst_usecol:trgw_0_13_10_time:122.0                                                 0.0   \n",
       "oname:hds_otype:lst_usecol:trgw_0_13_10_time:153.0                                                 0.0   \n",
       "oname:hds_otype:lst_usecol:trgw_0_13_10_time:183.0                                                 0.0   \n",
       "oname:hds_otype:lst_usecol:trgw_0_13_10_time:214.0                                                 0.0   \n",
       "\n",
       "                                                    oname:hdsvd_otype:lst_usecol:trgw_0_9_1_time:275.0  \\\n",
       "oname:hds_otype:lst_usecol:trgw_0_13_10_time:1.0                                                   0.0   \n",
       "oname:hds_otype:lst_usecol:trgw_0_13_10_time:122.0                                                 0.0   \n",
       "oname:hds_otype:lst_usecol:trgw_0_13_10_time:153.0                                                 0.0   \n",
       "oname:hds_otype:lst_usecol:trgw_0_13_10_time:183.0                                                 0.0   \n",
       "oname:hds_otype:lst_usecol:trgw_0_13_10_time:214.0                                                 0.0   \n",
       "\n",
       "                                                    oname:hdsvd_otype:lst_usecol:trgw_0_9_1_time:306.0  \\\n",
       "oname:hds_otype:lst_usecol:trgw_0_13_10_time:1.0                                                   0.0   \n",
       "oname:hds_otype:lst_usecol:trgw_0_13_10_time:122.0                                                 0.0   \n",
       "oname:hds_otype:lst_usecol:trgw_0_13_10_time:153.0                                                 0.0   \n",
       "oname:hds_otype:lst_usecol:trgw_0_13_10_time:183.0                                                 0.0   \n",
       "oname:hds_otype:lst_usecol:trgw_0_13_10_time:214.0                                                 0.0   \n",
       "\n",
       "                                                    oname:hdsvd_otype:lst_usecol:trgw_0_9_1_time:32.0  \\\n",
       "oname:hds_otype:lst_usecol:trgw_0_13_10_time:1.0                                                  0.0   \n",
       "oname:hds_otype:lst_usecol:trgw_0_13_10_time:122.0                                                0.0   \n",
       "oname:hds_otype:lst_usecol:trgw_0_13_10_time:153.0                                                0.0   \n",
       "oname:hds_otype:lst_usecol:trgw_0_13_10_time:183.0                                                0.0   \n",
       "oname:hds_otype:lst_usecol:trgw_0_13_10_time:214.0                                                0.0   \n",
       "\n",
       "                                                    oname:hdsvd_otype:lst_usecol:trgw_0_9_1_time:336.0  \\\n",
       "oname:hds_otype:lst_usecol:trgw_0_13_10_time:1.0                                                   0.0   \n",
       "oname:hds_otype:lst_usecol:trgw_0_13_10_time:122.0                                                 0.0   \n",
       "oname:hds_otype:lst_usecol:trgw_0_13_10_time:153.0                                                 0.0   \n",
       "oname:hds_otype:lst_usecol:trgw_0_13_10_time:183.0                                                 0.0   \n",
       "oname:hds_otype:lst_usecol:trgw_0_13_10_time:214.0                                                 0.0   \n",
       "\n",
       "                                                    oname:hdsvd_otype:lst_usecol:trgw_0_9_1_time:367.0  \\\n",
       "oname:hds_otype:lst_usecol:trgw_0_13_10_time:1.0                                                   0.0   \n",
       "oname:hds_otype:lst_usecol:trgw_0_13_10_time:122.0                                                 0.0   \n",
       "oname:hds_otype:lst_usecol:trgw_0_13_10_time:153.0                                                 0.0   \n",
       "oname:hds_otype:lst_usecol:trgw_0_13_10_time:183.0                                                 0.0   \n",
       "oname:hds_otype:lst_usecol:trgw_0_13_10_time:214.0                                                 0.0   \n",
       "\n",
       "                                                    oname:hdsvd_otype:lst_usecol:trgw_0_9_1_time:61.0  \\\n",
       "oname:hds_otype:lst_usecol:trgw_0_13_10_time:1.0                                                  0.0   \n",
       "oname:hds_otype:lst_usecol:trgw_0_13_10_time:122.0                                                0.0   \n",
       "oname:hds_otype:lst_usecol:trgw_0_13_10_time:153.0                                                0.0   \n",
       "oname:hds_otype:lst_usecol:trgw_0_13_10_time:183.0                                                0.0   \n",
       "oname:hds_otype:lst_usecol:trgw_0_13_10_time:214.0                                                0.0   \n",
       "\n",
       "                                                    oname:hdsvd_otype:lst_usecol:trgw_0_9_1_time:92.0  \n",
       "oname:hds_otype:lst_usecol:trgw_0_13_10_time:1.0                                                  0.0  \n",
       "oname:hds_otype:lst_usecol:trgw_0_13_10_time:122.0                                                0.0  \n",
       "oname:hds_otype:lst_usecol:trgw_0_13_10_time:153.0                                                0.0  \n",
       "oname:hds_otype:lst_usecol:trgw_0_13_10_time:183.0                                                0.0  \n",
       "oname:hds_otype:lst_usecol:trgw_0_13_10_time:214.0                                                0.0  \n",
       "\n",
       "[5 rows x 920 columns]"
      ]
     },
     "execution_count": 57,
     "metadata": {},
     "output_type": "execute_result"
    }
   ],
   "source": [
    "obs = pst.observation_data\n",
    "\n",
    "# generate cov matrix for all obs using weights in the control file\n",
    "obs_cov = pyemu.Cov.from_observation_data(pst, )\n",
    "\n",
    "# reduce cov down to only include non-zero obsverations\n",
    "obs_cov = obs_cov.get(row_names=pst.nnz_obs_names, col_names=pst.nnz_obs_names, )\n",
    "\n",
    "# side note: \n",
    "# going to save the diagonal (e.g no correlation) obsevration uncertainty cov matrixs\n",
    "# to an external file for use in a later tutorial\n",
    "obs_cov.to_coo(os.path.join(template_ws,\"obs_cov_diag.jcb\"))\n",
    "\n",
    "# make it a dataframe to make life easier\n",
    "df = obs_cov.to_dataframe()\n",
    "\n",
    "df.head()"
   ]
  },
  {
   "cell_type": "markdown",
   "metadata": {},
   "source": [
    "So this returned a diagonal covariance matrix (e.g. only values in the diagonal are non-zero). This implies that there is no covariance between observation noise. \n",
    "\n",
    "You can plot the matrix, but due to the scale it wont look particularily interesting:"
   ]
  },
  {
   "cell_type": "code",
   "execution_count": 58,
   "metadata": {
    "execution": {
     "iopub.execute_input": "2022-03-18T04:42:49.170226Z",
     "iopub.status.busy": "2022-03-18T04:42:49.170226Z",
     "iopub.status.idle": "2022-03-18T04:42:49.353737Z",
     "shell.execute_reply": "2022-03-18T04:42:49.353737Z"
    }
   },
   "outputs": [
    {
     "data": {
      "text/plain": [
       "<matplotlib.colorbar.Colorbar at 0x1e8dbd40908>"
      ]
     },
     "execution_count": 58,
     "metadata": {},
     "output_type": "execute_result"
    },
    {
     "data": {
      "image/png": "[encoded data removed]",
      "text/plain": [
       "<Figure size 432x288 with 2 Axes>"
      ]
     },
     "metadata": {
      "needs_background": "light"
     },
     "output_type": "display_data"
    }
   ],
   "source": [
    "plt.imshow(df.values)\n",
    "plt.colorbar()"
   ]
  },
  {
   "cell_type": "markdown",
   "metadata": {},
   "source": [
    "Let's instead just look at a small part, focusing on observations that make up a single time series. So as you can see below, the matrix diagonal reflects individual obsevation uncertianties, whilst all the off-diagonals are zero (e.g. no correlation)."
   ]
  },
  {
   "cell_type": "code",
   "execution_count": 59,
   "metadata": {
    "execution": {
     "iopub.execute_input": "2022-03-18T04:42:49.391634Z",
     "iopub.status.busy": "2022-03-18T04:42:49.391634Z",
     "iopub.status.idle": "2022-03-18T04:42:49.508354Z",
     "shell.execute_reply": "2022-03-18T04:42:49.507367Z"
    }
   },
   "outputs": [
    {
     "data": {
      "text/plain": [
       "<matplotlib.colorbar.Colorbar at 0x1e8dbd91908>"
      ]
     },
     "execution_count": 59,
     "metadata": {},
     "output_type": "execute_result"
    },
    {
     "data": {
      "image/png": "[encoded data removed]",
      "text/plain": [
       "<Figure size 432x288 with 2 Axes>"
      ]
     },
     "metadata": {
      "needs_background": "light"
     },
     "output_type": "display_data"
    }
   ],
   "source": [
    "obs_select = obs.loc[(obs.obgnme=='oname:hds_otype:lst_usecol:trgw_0_13_10') & (obs.weight>0)]\n",
    "\n",
    "plt.imshow(df.loc[obs_select.obsnme,obs_select.obsnme].values)\n",
    "plt.colorbar()"
   ]
  },
  {
   "cell_type": "markdown",
   "metadata": {},
   "source": [
    "But recall that most of the observations are time-series. Here we are saying \"how wrong the measurement is today, has nothing to do with how wrong it was yesterday\". Is that reasonable? For some noise (e.g. white noise), yes, surely. But perhaps not for all noise. So how can we express that \"if my measurement was wrong yesterday, then it is *likely* to be wrong in the same way today\"? Through covariance, that's how. We can use the same priciples that we employed to specfy parameter spatial/temporal covariance earlier on.\n",
    "\n",
    "We will no demonstrate for the single time series we looked at above. \n",
    "\n",
    "First, construct a geostatistical structure and variogram. Here we are using a range of 60 days. (Recall we have \"field measurements\" every month.) From these, construct a generic covariance matrix for generic parameters with \"coordinates\" corresponding to the observation times. "
   ]
  },
  {
   "cell_type": "code",
   "execution_count": 60,
   "metadata": {
    "execution": {
     "iopub.execute_input": "2022-03-18T04:42:50.235852Z",
     "iopub.status.busy": "2022-03-18T04:42:50.234855Z",
     "iopub.status.idle": "2022-03-18T04:42:50.237845Z",
     "shell.execute_reply": "2022-03-18T04:42:50.238843Z"
    }
   },
   "outputs": [],
   "source": [
    "v = pyemu.geostats.ExpVario(a=30,contribution=1.0)\n",
    "x = obs_select.time.astype(float).values #np.arange(float(obs.time.values[:11].max()))\n",
    "y = np.zeros_like(x)\n",
    "names = [\"obs_{0}\".format(xx) for xx in x]\n",
    "cov = v.covariance_matrix(x,y,names=names)"
   ]
  },
  {
   "cell_type": "markdown",
   "metadata": {},
   "source": [
    "Then, scale the values in the generic covariance matrix to reflect the observation uncertainties and take a peek.\n",
    "\n",
    "And there you have it, off-diagonal elements are no longer zero and show greater correlation between uncertainties of observation which happen closer together (it looks a bit wonky because parameter names are not ordered acording to time)."
   ]
  },
  {
   "cell_type": "code",
   "execution_count": 61,
   "metadata": {
    "execution": {
     "iopub.execute_input": "2022-03-18T04:42:50.269417Z",
     "iopub.status.busy": "2022-03-18T04:42:50.247819Z",
     "iopub.status.idle": "2022-03-18T04:42:50.412265Z",
     "shell.execute_reply": "2022-03-18T04:42:50.412265Z"
    }
   },
   "outputs": [
    {
     "data": {
      "image/png": "[encoded data removed]",
      "text/plain": [
       "<Figure size 432x288 with 2 Axes>"
      ]
     },
     "metadata": {
      "needs_background": "light"
     },
     "output_type": "display_data"
    }
   ],
   "source": [
    "x_group = cov.x.copy()\n",
    "w = obs_select.weight.mean()\n",
    "v = (1./w)**2\n",
    "x_group *= v\n",
    "df.loc[obs_select.obsnme,obs_select.obsnme] = x_group\n",
    "\n",
    "plt.imshow(df.loc[obs_select.obsnme,obs_select.obsnme].values);\n",
    "plt.colorbar();"
   ]
  },
  {
   "cell_type": "markdown",
   "metadata": {},
   "source": [
    "Now implement to that to loop over all the non-zero time series observation groups:"
   ]
  },
  {
   "cell_type": "code",
   "execution_count": 62,
   "metadata": {
    "execution": {
     "iopub.execute_input": "2022-03-18T04:42:50.438281Z",
     "iopub.status.busy": "2022-03-18T04:42:50.418282Z",
     "iopub.status.idle": "2022-03-18T04:42:50.577066Z",
     "shell.execute_reply": "2022-03-18T04:42:50.576055Z"
    }
   },
   "outputs": [],
   "source": [
    "for obgnme in pst.nnz_obs_groups:\n",
    "    obs_select = obs.loc[(obs.obgnme==obgnme) & (obs.weight>0)]\n",
    "\n",
    "    v = pyemu.geostats.ExpVario(a=30,contribution=1.0)\n",
    "    x = obs_select.time.astype(float).values #np.arange(float(obs.time.values[:11].max()))\n",
    "    y = np.zeros_like(x)\n",
    "    names = [\"obs_{0}\".format(xx) for xx in x]\n",
    "    cov = v.covariance_matrix(x,y,names=names)\n",
    "\n",
    "\n",
    "    x_group = cov.x.copy()\n",
    "    w = obs_select.weight.mean()\n",
    "    v = (1./w)**2\n",
    "    x_group *= v\n",
    "    df.loc[obs_select.obsnme,obs_select.obsnme] = x_group\n"
   ]
  },
  {
   "cell_type": "markdown",
   "metadata": {},
   "source": [
    "And then re-construct a `Cov` object and record it to an external file:"
   ]
  },
  {
   "cell_type": "code",
   "execution_count": 63,
   "metadata": {
    "execution": {
     "iopub.execute_input": "2022-03-18T04:42:50.583017Z",
     "iopub.status.busy": "2022-03-18T04:42:50.582052Z",
     "iopub.status.idle": "2022-03-18T04:42:50.609984Z",
     "shell.execute_reply": "2022-03-18T04:42:50.611014Z"
    }
   },
   "outputs": [],
   "source": [
    "obs_cov_tv = pyemu.Cov.from_dataframe(df)\n",
    "obs_cov_tv.to_coo(os.path.join(template_ws,\"obs_cov.jcb\"))"
   ]
  },
  {
   "cell_type": "markdown",
   "metadata": {},
   "source": []
  }
 ],
 "metadata": {
  "interpreter": {
   "hash": "b3ba2566441a7c06988d0923437866b63cedc61552a5af99d1f4fb67d367b25f"
  },
  "kernelspec": {
   "display_name": "Python 3 (ipykernel)",
   "language": "python",
   "name": "python3"
  },
  "language_info": {
   "codemirror_mode": {
    "name": "ipython",
    "version": 3
   },
   "file_extension": ".py",
   "mimetype": "text/x-python",
   "name": "python",
   "nbconvert_exporter": "python",
   "pygments_lexer": "ipython3",
   "version": "3.7.9"
  }
 },
 "nbformat": 4,
 "nbformat_minor": 2
}
