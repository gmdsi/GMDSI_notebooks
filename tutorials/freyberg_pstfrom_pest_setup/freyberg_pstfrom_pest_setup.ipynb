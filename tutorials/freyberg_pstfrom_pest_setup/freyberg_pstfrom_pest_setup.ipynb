{
 "cells": [
  {
   "cell_type": "markdown",
   "metadata": {},
   "source": [
    "# Setup the PEST(++) interface around the modified Freyberg model\n",
    "\n",
    "In this notebook, we will construct a complex model independent (non-intrusive) interface around an existing `MODFLOW6` model using `pyEMU`. We assume that the reader is at least partially familiar with PEST(++) file formats and working philosophy. \n",
    "\n",
    "The modified Freyberg groundwater flow model has been constructed and is described in a previous notebook from this series. We will construct the entire PEST(++) interface from scratch here. This setup will be built upon in subsequent tutorials. \n",
    "\n",
    "We will rely heavily on the `pyemu.PstFrom` class. Although here we employ it with a `MODFLOW6` model, `PstFrom` is designed to be general and software independent (mostly). Some features are only available for `MODFLOW` models (e.g. `SpatialReference`).\n",
    "\n",
    "The `PstFrom` class automates the construction of high-dimensional PEST(++) interfaces with all the bells and whistles. It provides easy-to-use functions to process model input and output files into PEST(++) datasets. It can assist with setting up spatio-temporaly varying parameters. It handles the generation of geostatisical prior covariance matrices and ensembles. It automates writting a \"model run\" script. It provides tools to add custom pre- and post-processing functions to this script. It makes adding tweaks and fixes to the PEST(++) interface a breeze. All of this from the comfort of your favourite Python IDE.\n",
    "\n",
    "During this tutorial we are going to construct a PEST dataset. Amongst other things, we will demonstrate:\n",
    " - how to add observations & parameters from model output & input files;\n",
    " - how to add pre- and post-processing functions to the \"model run\" script;\n",
    " - how to generate geostatistical structures for spatialy and temporally correlated parameters;\n",
    " - how to edit parameter/observation data sections;\n",
    " - how to generate a prior parameter covariance matrix and prior parameter ensemble;\n",
    "\n",
    "\n",
    "\n",
    "First, let's get our model files and sort out some admin.\n"
   ]
  },
  {
   "cell_type": "markdown",
   "metadata": {},
   "source": [
    "### 1. Admin & Organize Folders\n",
    "First some admin. Load the dependencies and organize model folders. "
   ]
  },
  {
   "cell_type": "code",
   "execution_count": 1,
   "metadata": {
    "execution": {
     "iopub.execute_input": "2022-03-17T02:51:59.160223Z",
     "iopub.status.busy": "2022-03-17T02:51:59.159192Z",
     "iopub.status.idle": "2022-03-17T02:52:00.200470Z",
     "shell.execute_reply": "2022-03-17T02:52:00.199449Z"
    }
   },
   "outputs": [],
   "source": [
    "import sys\n",
    "import os\n",
    "import shutil\n",
    "import platform\n",
    "import warnings\n",
    "warnings.filterwarnings(\"ignore\")\n",
    "warnings.filterwarnings(\"ignore\", category=DeprecationWarning) \n",
    "import pyemu\n",
    "import flopy\n",
    "import pandas as pd\n",
    "import numpy as np\n",
    "import matplotlib.pyplot as plt;"
   ]
  },
  {
   "cell_type": "markdown",
   "metadata": {},
   "source": [
    "We will be calling a few external programs throughout this tutorial. Namely, MODFLOW 6 and PEST++GLM. For the purposes of the tutorial(s), we have included executables in the tutorial repository. They are in the `bin` folder. \n",
    "\n",
    "Preferably, executables should be located in a folder that is cited in your computer’s PATH environment variable. Doing so allows you to run them from a command prompt open to any other folder without having to include the full path to these executables in the command to run them. \n",
    "\n",
    "Sometimes this may not be practical. In such cases, we can simply place the executables in the folder from which they will be executed.  So, let's copy the necessary executables into our working folder:\n"
   ]
  },
  {
   "cell_type": "code",
   "execution_count": 2,
   "metadata": {
    "execution": {
     "iopub.execute_input": "2022-03-17T02:52:00.203463Z",
     "iopub.status.busy": "2022-03-17T02:52:00.203463Z",
     "iopub.status.idle": "2022-03-17T02:52:00.507346Z",
     "shell.execute_reply": "2022-03-17T02:52:00.507346Z"
    }
   },
   "outputs": [],
   "source": [
    "# specify a temporary folder; we will gather all our model and executable files here first\n",
    "# this is to ensure we don't mess up our original model files\n",
    "tmp_d = os.path.join('freyberg_mf6')\n",
    "\n",
    "# get the necessary executables; OS agnostic\n",
    "bin_dir = os.path.join('..','..','bin')\n",
    "\n",
    "if \"window\" in platform.platform().lower():\n",
    "    exe_files = [f for f in os.listdir(bin_dir) if f.endswith('exe')]\n",
    "else:\n",
    "    exe_files = [f for f in os.listdir(bin_dir) if not f.endswith('exe')]\n",
    "\n",
    "# remove existing folder if it already exists\n",
    "if os.path.exists(tmp_d):\n",
    "    shutil.rmtree(tmp_d)\n",
    "\n",
    "# make the folder\n",
    "os.mkdir(tmp_d)\n",
    "\n",
    "# copy executables across\n",
    "for exe_file in exe_files:\n",
    "    shutil.copy2(os.path.join(bin_dir, exe_file),os.path.join(tmp_d,exe_file))"
   ]
  },
  {
   "cell_type": "markdown",
   "metadata": {},
   "source": [
    "Let's copy the original model folder into a new working directory, just to ensure we don't mess up the base files."
   ]
  },
  {
   "cell_type": "code",
   "execution_count": 3,
   "metadata": {
    "execution": {
     "iopub.execute_input": "2022-03-17T02:52:00.511336Z",
     "iopub.status.busy": "2022-03-17T02:52:00.510337Z",
     "iopub.status.idle": "2022-03-17T02:52:00.671949Z",
     "shell.execute_reply": "2022-03-17T02:52:00.671949Z"
    }
   },
   "outputs": [],
   "source": [
    "# folder containing original model files\n",
    "org_d = os.path.join('..', '..', 'models', 'freyberg_mf6')\n",
    "\n",
    "# copy files across to the temp folder\n",
    "for f in os.listdir(org_d):\n",
    "    shutil.copy2(os.path.join(org_d,f), os.path.join(tmp_d,f))"
   ]
  },
  {
   "cell_type": "markdown",
   "metadata": {},
   "source": [
    "If you inspect the model folder, you will see that all the `MODFLOW6` model files have been written \"externally\". This is key for working with the `PstFrom` class (or with PEST(++) in general, really). Essentialy, all pertinent model inputs have been written as independent files in either array or list format. This makes it easier for us to programiatically access and re-write the values in these files.\n",
    "\n",
    "Array files contain a data type (usually floating points). List files will have a few columns that contain index information and then columns of floating point values (they have a tabular format; think `.csv` files or DataFrames). The `PstFrom` class provides methods for processing these file types into a PEST(++) dataset. \n",
    "\n"
   ]
  },
  {
   "cell_type": "code",
   "execution_count": 4,
   "metadata": {
    "execution": {
     "iopub.execute_input": "2022-03-17T02:52:00.675939Z",
     "iopub.status.busy": "2022-03-17T02:52:00.674941Z",
     "iopub.status.idle": "2022-03-17T02:52:00.684956Z",
     "shell.execute_reply": "2022-03-17T02:52:00.684956Z"
    }
   },
   "outputs": [
    {
     "data": {
      "text/plain": [
       "['freyberg6.dis',\n",
       " 'freyberg6.dis.grb',\n",
       " 'freyberg6.dis_botm_layer1.txt',\n",
       " 'freyberg6.dis_botm_layer2.txt',\n",
       " 'freyberg6.dis_botm_layer3.txt',\n",
       " 'freyberg6.dis_delc.txt',\n",
       " 'freyberg6.dis_delr.txt',\n",
       " 'freyberg6.dis_idomain_layer1.txt',\n",
       " 'freyberg6.dis_idomain_layer2.txt',\n",
       " 'freyberg6.dis_idomain_layer3.txt',\n",
       " 'freyberg6.dis_top.txt',\n",
       " 'freyberg6.ghb',\n",
       " 'freyberg6.ghb_stress_period_data_1.txt',\n",
       " 'freyberg6.ic',\n",
       " 'freyberg6.ic_strt_layer1.txt',\n",
       " 'freyberg6.ic_strt_layer2.txt',\n",
       " 'freyberg6.ic_strt_layer3.txt',\n",
       " 'freyberg6.ims',\n",
       " 'freyberg6.lst',\n",
       " 'freyberg6.nam',\n",
       " 'freyberg6.npf',\n",
       " 'freyberg6.npf_icelltype_layer1.txt',\n",
       " 'freyberg6.npf_icelltype_layer2.txt',\n",
       " 'freyberg6.npf_icelltype_layer3.txt',\n",
       " 'freyberg6.npf_k33_layer1.txt',\n",
       " 'freyberg6.npf_k33_layer2.txt',\n",
       " 'freyberg6.npf_k33_layer3.txt',\n",
       " 'freyberg6.npf_k_layer1.txt',\n",
       " 'freyberg6.npf_k_layer2.txt',\n",
       " 'freyberg6.npf_k_layer3.txt',\n",
       " 'freyberg6.oc',\n",
       " 'freyberg6.rch',\n",
       " 'freyberg6.rch_recharge_1.txt',\n",
       " 'freyberg6.rch_recharge_10.txt',\n",
       " 'freyberg6.rch_recharge_11.txt',\n",
       " 'freyberg6.rch_recharge_12.txt',\n",
       " 'freyberg6.rch_recharge_13.txt',\n",
       " 'freyberg6.rch_recharge_14.txt',\n",
       " 'freyberg6.rch_recharge_15.txt',\n",
       " 'freyberg6.rch_recharge_16.txt',\n",
       " 'freyberg6.rch_recharge_17.txt',\n",
       " 'freyberg6.rch_recharge_18.txt',\n",
       " 'freyberg6.rch_recharge_19.txt',\n",
       " 'freyberg6.rch_recharge_2.txt',\n",
       " 'freyberg6.rch_recharge_20.txt',\n",
       " 'freyberg6.rch_recharge_21.txt',\n",
       " 'freyberg6.rch_recharge_22.txt',\n",
       " 'freyberg6.rch_recharge_23.txt',\n",
       " 'freyberg6.rch_recharge_24.txt',\n",
       " 'freyberg6.rch_recharge_25.txt',\n",
       " 'freyberg6.rch_recharge_3.txt',\n",
       " 'freyberg6.rch_recharge_4.txt',\n",
       " 'freyberg6.rch_recharge_5.txt',\n",
       " 'freyberg6.rch_recharge_6.txt',\n",
       " 'freyberg6.rch_recharge_7.txt',\n",
       " 'freyberg6.rch_recharge_8.txt',\n",
       " 'freyberg6.rch_recharge_9.txt',\n",
       " 'freyberg6.sfr',\n",
       " 'freyberg6.sfr_connectiondata.txt',\n",
       " 'freyberg6.sfr_packagedata.txt',\n",
       " 'freyberg6.sfr_perioddata_1.txt',\n",
       " 'freyberg6.sfr_perioddata_10.txt',\n",
       " 'freyberg6.sfr_perioddata_11.txt',\n",
       " 'freyberg6.sfr_perioddata_12.txt',\n",
       " 'freyberg6.sfr_perioddata_13.txt',\n",
       " 'freyberg6.sfr_perioddata_14.txt',\n",
       " 'freyberg6.sfr_perioddata_15.txt',\n",
       " 'freyberg6.sfr_perioddata_16.txt',\n",
       " 'freyberg6.sfr_perioddata_17.txt',\n",
       " 'freyberg6.sfr_perioddata_18.txt',\n",
       " 'freyberg6.sfr_perioddata_19.txt',\n",
       " 'freyberg6.sfr_perioddata_2.txt',\n",
       " 'freyberg6.sfr_perioddata_20.txt',\n",
       " 'freyberg6.sfr_perioddata_21.txt',\n",
       " 'freyberg6.sfr_perioddata_22.txt',\n",
       " 'freyberg6.sfr_perioddata_23.txt',\n",
       " 'freyberg6.sfr_perioddata_24.txt',\n",
       " 'freyberg6.sfr_perioddata_25.txt',\n",
       " 'freyberg6.sfr_perioddata_3.txt',\n",
       " 'freyberg6.sfr_perioddata_4.txt',\n",
       " 'freyberg6.sfr_perioddata_5.txt',\n",
       " 'freyberg6.sfr_perioddata_6.txt',\n",
       " 'freyberg6.sfr_perioddata_7.txt',\n",
       " 'freyberg6.sfr_perioddata_8.txt',\n",
       " 'freyberg6.sfr_perioddata_9.txt',\n",
       " 'freyberg6.sto',\n",
       " 'freyberg6.sto_iconvert_layer1.txt',\n",
       " 'freyberg6.sto_iconvert_layer2.txt',\n",
       " 'freyberg6.sto_iconvert_layer3.txt',\n",
       " 'freyberg6.sto_ss_layer1.txt',\n",
       " 'freyberg6.sto_ss_layer2.txt',\n",
       " 'freyberg6.sto_ss_layer3.txt',\n",
       " 'freyberg6.sto_sy_layer1.txt',\n",
       " 'freyberg6.sto_sy_layer2.txt',\n",
       " 'freyberg6.sto_sy_layer3.txt',\n",
       " 'freyberg6.tdis',\n",
       " 'freyberg6.wel',\n",
       " 'freyberg6.wel_stress_period_data_1.txt',\n",
       " 'freyberg6.wel_stress_period_data_10.txt',\n",
       " 'freyberg6.wel_stress_period_data_11.txt',\n",
       " 'freyberg6.wel_stress_period_data_12.txt',\n",
       " 'freyberg6.wel_stress_period_data_13.txt',\n",
       " 'freyberg6.wel_stress_period_data_14.txt',\n",
       " 'freyberg6.wel_stress_period_data_15.txt',\n",
       " 'freyberg6.wel_stress_period_data_16.txt',\n",
       " 'freyberg6.wel_stress_period_data_17.txt',\n",
       " 'freyberg6.wel_stress_period_data_18.txt',\n",
       " 'freyberg6.wel_stress_period_data_19.txt',\n",
       " 'freyberg6.wel_stress_period_data_2.txt',\n",
       " 'freyberg6.wel_stress_period_data_20.txt',\n",
       " 'freyberg6.wel_stress_period_data_21.txt',\n",
       " 'freyberg6.wel_stress_period_data_22.txt',\n",
       " 'freyberg6.wel_stress_period_data_23.txt',\n",
       " 'freyberg6.wel_stress_period_data_24.txt',\n",
       " 'freyberg6.wel_stress_period_data_25.txt',\n",
       " 'freyberg6.wel_stress_period_data_3.txt',\n",
       " 'freyberg6.wel_stress_period_data_4.txt',\n",
       " 'freyberg6.wel_stress_period_data_5.txt',\n",
       " 'freyberg6.wel_stress_period_data_6.txt',\n",
       " 'freyberg6.wel_stress_period_data_7.txt',\n",
       " 'freyberg6.wel_stress_period_data_8.txt',\n",
       " 'freyberg6.wel_stress_period_data_9.txt',\n",
       " 'freyberg6_freyberg.cbc',\n",
       " 'freyberg6_freyberg.hds',\n",
       " 'head.obs',\n",
       " 'heads.csv',\n",
       " 'mf5to6.exe',\n",
       " 'mf6.exe',\n",
       " 'mfsim.lst',\n",
       " 'mfsim.nam',\n",
       " 'pestpp-da.exe',\n",
       " 'pestpp-glm.exe',\n",
       " 'pestpp-ies.exe',\n",
       " 'pestpp-mou.exe',\n",
       " 'pestpp-opt.exe',\n",
       " 'pestpp-sen.exe',\n",
       " 'pestpp-sqp.exe',\n",
       " 'pestpp-swp.exe',\n",
       " 'sfr.csv',\n",
       " 'sfr.obs',\n",
       " 'zbud6.exe']"
      ]
     },
     "execution_count": 4,
     "metadata": {},
     "output_type": "execute_result"
    }
   ],
   "source": [
    "os.listdir(tmp_d)"
   ]
  },
  {
   "cell_type": "markdown",
   "metadata": {},
   "source": [
    "Now we need just a tiny bit of info about the spatial discretization of the model - this is needed to work out separation distances between parameters to build a geostatistical prior covariance matrix later.\n",
    "\n",
    "Here we will load the flopy sim and model instance just to help us define some quantities later - flopy is ***not required*** to use the `PstFrom` class. ***Neither is MODFLOW***. However, at the time of writting, support for `SpatialReference` to spatially locate parameters is limited to MODLOW models.\n",
    "\n",
    "Load the simulation. Run it once to make sure it works and to ***make sure that model output files are in the folder***. "
   ]
  },
  {
   "cell_type": "code",
   "execution_count": 5,
   "metadata": {
    "execution": {
     "iopub.execute_input": "2022-03-17T02:52:00.709880Z",
     "iopub.status.busy": "2022-03-17T02:52:00.692088Z",
     "iopub.status.idle": "2022-03-17T02:52:01.744807Z",
     "shell.execute_reply": "2022-03-17T02:52:01.745804Z"
    }
   },
   "outputs": [
    {
     "name": "stdout",
     "output_type": "stream",
     "text": [
      "loading simulation...\n",
      "  loading simulation name file...\n",
      "  loading tdis package...\n",
      "  loading model gwf6...\n",
      "    loading package dis...\n",
      "    loading package ic...\n",
      "    loading package npf...\n",
      "    loading package sto...\n",
      "    loading package oc...\n",
      "    loading package wel...\n",
      "    loading package rch...\n",
      "    loading package ghb...\n",
      "    loading package sfr...\n"
     ]
    },
    {
     "name": "stdout",
     "output_type": "stream",
     "text": [
      "    loading package obs...\n",
      "  loading ims package freyberg6...\n",
      "FloPy is using the following executable to run the model: C:\\Program Files\\MODFLOW\\mf6.exe\n",
      "                                   MODFLOW 6\n",
      "                U.S. GEOLOGICAL SURVEY MODULAR HYDROLOGIC MODEL\n",
      "                            VERSION 6.2.2 07/30/2021\n",
      "\n",
      "   MODFLOW 6 compiled Jul 31 2021 14:57:11 with IFORT compiler (ver. 20.21.2)\n",
      "\n",
      "This software has been approved for release by the U.S. Geological \n",
      "Survey (USGS). Although the software has been subjected to rigorous \n",
      "review, the USGS reserves the right to update the software as needed \n",
      "pursuant to further analysis and review. No warranty, expressed or \n",
      "implied, is made by the USGS or the U.S. Government as to the \n",
      "functionality of the software and related material nor shall the \n",
      "fact of release constitute any such warranty. Furthermore, the \n",
      "software is released on condition that neither the USGS nor the U.S. \n",
      "Government shall be held liable for any damages resulting from its \n",
      "authorized or unauthorized use. Also refer to the USGS Water \n",
      "Resources Software User Rights Notice for complete use, copyright, \n",
      "and distribution information.\n",
      "\n",
      " \n",
      " Run start date and time (yyyy/mm/dd hh:mm:ss): 2022/03/17 13:22:01\n",
      " \n",
      " Writing simulation list file: mfsim.lst\n",
      " Using Simulation name file: mfsim.nam\n",
      " \n",
      "    Solving:  Stress period:     1    Time step:     1\n"
     ]
    },
    {
     "name": "stdout",
     "output_type": "stream",
     "text": [
      "    Solving:  Stress period:     2    Time step:     1\n",
      "    Solving:  Stress period:     3    Time step:     1\n",
      "    Solving:  Stress period:     4    Time step:     1\n",
      "    Solving:  Stress period:     5    Time step:     1\n",
      "    Solving:  Stress period:     6    Time step:     1\n",
      "    Solving:  Stress period:     7    Time step:     1\n",
      "    Solving:  Stress period:     8    Time step:     1\n",
      "    Solving:  Stress period:     9    Time step:     1\n",
      "    Solving:  Stress period:    10    Time step:     1\n",
      "    Solving:  Stress period:    11    Time step:     1\n",
      "    Solving:  Stress period:    12    Time step:     1\n",
      "    Solving:  Stress period:    13    Time step:     1\n"
     ]
    },
    {
     "name": "stdout",
     "output_type": "stream",
     "text": [
      "    Solving:  Stress period:    14    Time step:     1\n",
      "    Solving:  Stress period:    15    Time step:     1\n",
      "    Solving:  Stress period:    16    Time step:     1\n",
      "    Solving:  Stress period:    17    Time step:     1\n",
      "    Solving:  Stress period:    18    Time step:     1\n",
      "    Solving:  Stress period:    19    Time step:     1\n",
      "    Solving:  Stress period:    20    Time step:     1\n",
      "    Solving:  Stress period:    21    Time step:     1\n",
      "    Solving:  Stress period:    22    Time step:     1\n",
      "    Solving:  Stress period:    23    Time step:     1\n",
      "    Solving:  Stress period:    24    Time step:     1\n",
      "    Solving:  Stress period:    25    Time step:     1\n"
     ]
    },
    {
     "name": "stdout",
     "output_type": "stream",
     "text": [
      " \n",
      " Run end date and time (yyyy/mm/dd hh:mm:ss): 2022/03/17 13:22:01\n",
      " Elapsed run time:  0.603 Seconds\n",
      " \n",
      " Normal termination of simulation.\n"
     ]
    },
    {
     "data": {
      "text/plain": [
       "(True, [])"
      ]
     },
     "execution_count": 5,
     "metadata": {},
     "output_type": "execute_result"
    }
   ],
   "source": [
    "# load simulation\n",
    "sim = flopy.mf6.MFSimulation.load(sim_ws=tmp_d)\n",
    "# load flow model\n",
    "gwf = sim.get_model()\n",
    "\n",
    "# run the model once to make sure it works\n",
    "sim.run_simulation()"
   ]
  },
  {
   "cell_type": "markdown",
   "metadata": {},
   "source": [
    "### 2. Spatial Reference\n",
    "Now we can instantiate a `SpatialReference`. This will later be passed to `PstFrom` to assist with spatially locating parameters (e.g. pilot points and/or cell-by-cell parameters)."
   ]
  },
  {
   "cell_type": "code",
   "execution_count": 6,
   "metadata": {
    "execution": {
     "iopub.execute_input": "2022-03-17T02:52:01.749793Z",
     "iopub.status.busy": "2022-03-17T02:52:01.749793Z",
     "iopub.status.idle": "2022-03-17T02:52:01.758805Z",
     "shell.execute_reply": "2022-03-17T02:52:01.757774Z"
    }
   },
   "outputs": [
    {
     "name": "stdout",
     "output_type": "stream",
     "text": [
      "   could not remove start_datetime\n"
     ]
    }
   ],
   "source": [
    "sr = pyemu.helpers.SpatialReference.from_namfile(\n",
    "        os.path.join(tmp_d, \"freyberg6.nam\"),\n",
    "        delr=gwf.dis.delr.array, delc=gwf.dis.delc.array)"
   ]
  },
  {
   "cell_type": "markdown",
   "metadata": {},
   "source": [
    "### 3. Instantiate PstFrom\n",
    "\n",
    "Now we can start to construct the PEST(++) interface by instantiating a `PstFrom` class instance. There are a few things that we need to specify up front:\n",
    "\n",
    " - the folder in which we currently have model files (e.g. `tmp_d`). PstFrom will copy all the files from this directory into a new \"template\" folder.\n",
    " - **template folder**: this is a folder in which the PEST dataset will be constructed. This folder/dataset will form the template for subsequent deployment of PEST(++). It is **not** where PEST(++) will be run.\n",
    " - **longnames**: for backwards compatibility with PEST and PEST_HP (i.e. non-PEST++ versions), which have upper limits to parameter/obsveration names (PEST++ does not). Setting this value to False is only recommended if required. \n",
    " - Whether the model is `zero based` or not.\n",
    " - (optional) the **spatial reference**, as previously discussed. This is only requried if using `pyEMU` to define parameter spatial correlation. Alternatively, you can define these yourself or use utilities available in the PEST-suite. \n",
    "\n"
   ]
  },
  {
   "cell_type": "code",
   "execution_count": 7,
   "metadata": {
    "execution": {
     "iopub.execute_input": "2022-03-17T02:52:01.802180Z",
     "iopub.status.busy": "2022-03-17T02:52:01.801182Z",
     "iopub.status.idle": "2022-03-17T02:52:02.547914Z",
     "shell.execute_reply": "2022-03-17T02:52:02.547914Z"
    }
   },
   "outputs": [
    {
     "name": "stdout",
     "output_type": "stream",
     "text": [
      "2022-03-17 13:22:01.807166 starting: opening PstFrom.log for logging\n",
      "2022-03-17 13:22:01.808164 starting PstFrom process\n",
      "2022-03-17 13:22:01.809162 starting: setting up dirs\n",
      "2022-03-17 13:22:01.809162 starting: copying original_d 'freyberg_mf6' to new_d 'freyberg6_template'\n"
     ]
    },
    {
     "name": "stdout",
     "output_type": "stream",
     "text": [
      "2022-03-17 13:22:02.542927 finished: copying original_d 'freyberg_mf6' to new_d 'freyberg6_template' took: 0:00:00.733765\n",
      "2022-03-17 13:22:02.543925 finished: setting up dirs took: 0:00:00.734763\n"
     ]
    }
   ],
   "source": [
    "# specify a template directory (i.e. the PstFrom working folder)\n",
    "template_ws = os.path.join(\"freyberg6_template\")\n",
    "\n",
    "# instantiate PstFrom\n",
    "pf = pyemu.utils.PstFrom(original_d=tmp_d, # where the model is stored\n",
    "                            new_d=template_ws, # the PEST template folder\n",
    "                            remove_existing=True, # ensures a clean start\n",
    "                            longnames=True, # set False if using PEST/PEST_HP\n",
    "                            spatial_reference=sr, #the spatial reference we generated earlier\n",
    "                            zero_based=False, # does the MODEL use zero based indices? For example, MODFLOW does NOT\n",
    "                            start_datetime=\"1-1-2018\") # required when specifying temporal correlation between parameters"
   ]
  },
  {
   "cell_type": "markdown",
   "metadata": {},
   "source": [
    "### 4. Observations\n",
    "\n",
    "We now have a `PstFrom` instance assigned to the variable `pf`. For now it is only an empty container to which we can start adding \"observations\", \"parameters\" and other bits and bobs.\n",
    "\n",
    "Lets start with observations because they are easier. `MODFLOW6` makes life even easier by recording observations in nicely organized .csv files. Isn't that a peach!\n",
    "\n",
    "#### 4.1 Freyberg Recap\n",
    "As you may recall from the \"*intro to Freyberg*\" tutorial, the model is configured to record time series of head at observation wells, and flux at three locations along the river. These are recorded in external .csv files named `heads.csv` and `sfr.csv`, respectively. You should be able to see these files in the model folder.\n",
    "\n",
    "Recall that each .csv houses records of observation time-series. Outputs are recorded for each simulated stress-period. The model starts with a single steady-state stress-period, followed by 24 monthly transient stress-periods. The steady-state and first 12 transient stress-periods simulate the history-matching period. The last 12 transient stress periods simulate future conditions (i.e. the prediction period)."
   ]
  },
  {
   "cell_type": "code",
   "execution_count": 8,
   "metadata": {
    "execution": {
     "iopub.execute_input": "2022-03-17T02:52:02.551904Z",
     "iopub.status.busy": "2022-03-17T02:52:02.550906Z",
     "iopub.status.idle": "2022-03-17T02:52:02.554895Z",
     "shell.execute_reply": "2022-03-17T02:52:02.554895Z"
    }
   },
   "outputs": [
    {
     "name": "stdout",
     "output_type": "stream",
     "text": [
      "['sfr.csv']\n",
      "['heads.csv']\n"
     ]
    }
   ],
   "source": [
    "# check the output csv file names\n",
    "for i in gwf.obs:\n",
    "    print(i.output.obs_names)"
   ]
  },
  {
   "cell_type": "markdown",
   "metadata": {},
   "source": [
    "Let's start with the 'heads.csv' file. First load it as a DataFrame to take a look.\n",
    "\n",
    "As you can see, there are many columns, one for each observation site. Conveniently, * *cough* * they are named according to the cell layer, row and column. Note that at every site, there is an observation in both the top and bottom layer (0_ and 2_). We will make use of this later to create \"secondary observations\" of head differences between layers...but let's not get distracted.\n",
    "\n",
    "The values in the *.csv* file were generated by running the model. (***IMPORTANT!***) However, `PstFrom` assumes that values in this file are the *target* observation values, and they will be used to populate the PEST(++) dataset. Now, you can change these values later on if you wish. However, it can get a bit messy. So you either need to populate model output files with the target values, or update values in the PEST(++) dataset later on. Which approach you adopt is up to personal preference and/or specifics of your modelling workflow. \n",
    "\n",
    "We will demonstrate both in this notebook."
   ]
  },
  {
   "cell_type": "code",
   "execution_count": 9,
   "metadata": {
    "execution": {
     "iopub.execute_input": "2022-03-17T02:52:02.558883Z",
     "iopub.status.busy": "2022-03-17T02:52:02.558883Z",
     "iopub.status.idle": "2022-03-17T02:52:02.587807Z",
     "shell.execute_reply": "2022-03-17T02:52:02.587807Z"
    }
   },
   "outputs": [
    {
     "data": {
      "text/html": [
       "<div>\n",
       "<style scoped>\n",
       "    .dataframe tbody tr th:only-of-type {\n",
       "        vertical-align: middle;\n",
       "    }\n",
       "\n",
       "    .dataframe tbody tr th {\n",
       "        vertical-align: top;\n",
       "    }\n",
       "\n",
       "    .dataframe thead th {\n",
       "        text-align: right;\n",
       "    }\n",
       "</style>\n",
       "<table border=\"1\" class=\"dataframe\">\n",
       "  <thead>\n",
       "    <tr style=\"text-align: right;\">\n",
       "      <th></th>\n",
       "      <th>TRGW_2_2_15</th>\n",
       "      <th>TRGW_2_2_9</th>\n",
       "      <th>TRGW_2_3_8</th>\n",
       "      <th>TRGW_2_9_1</th>\n",
       "      <th>TRGW_2_13_10</th>\n",
       "      <th>TRGW_2_15_16</th>\n",
       "      <th>TRGW_2_21_10</th>\n",
       "      <th>TRGW_2_22_15</th>\n",
       "      <th>TRGW_2_24_4</th>\n",
       "      <th>TRGW_2_26_6</th>\n",
       "      <th>...</th>\n",
       "      <th>TRGW_0_9_1</th>\n",
       "      <th>TRGW_0_13_10</th>\n",
       "      <th>TRGW_0_15_16</th>\n",
       "      <th>TRGW_0_21_10</th>\n",
       "      <th>TRGW_0_22_15</th>\n",
       "      <th>TRGW_0_24_4</th>\n",
       "      <th>TRGW_0_26_6</th>\n",
       "      <th>TRGW_0_29_15</th>\n",
       "      <th>TRGW_0_33_7</th>\n",
       "      <th>TRGW_0_34_10</th>\n",
       "    </tr>\n",
       "    <tr>\n",
       "      <th>time</th>\n",
       "      <th></th>\n",
       "      <th></th>\n",
       "      <th></th>\n",
       "      <th></th>\n",
       "      <th></th>\n",
       "      <th></th>\n",
       "      <th></th>\n",
       "      <th></th>\n",
       "      <th></th>\n",
       "      <th></th>\n",
       "      <th></th>\n",
       "      <th></th>\n",
       "      <th></th>\n",
       "      <th></th>\n",
       "      <th></th>\n",
       "      <th></th>\n",
       "      <th></th>\n",
       "      <th></th>\n",
       "      <th></th>\n",
       "      <th></th>\n",
       "      <th></th>\n",
       "    </tr>\n",
       "  </thead>\n",
       "  <tbody>\n",
       "    <tr>\n",
       "      <th>1.0</th>\n",
       "      <td>34.339320</td>\n",
       "      <td>34.581597</td>\n",
       "      <td>34.611207</td>\n",
       "      <td>34.872171</td>\n",
       "      <td>34.257574</td>\n",
       "      <td>34.136387</td>\n",
       "      <td>34.144465</td>\n",
       "      <td>34.027679</td>\n",
       "      <td>34.310857</td>\n",
       "      <td>34.171589</td>\n",
       "      <td>...</td>\n",
       "      <td>34.878082</td>\n",
       "      <td>34.263187</td>\n",
       "      <td>34.141599</td>\n",
       "      <td>34.150067</td>\n",
       "      <td>33.992380</td>\n",
       "      <td>34.316575</td>\n",
       "      <td>34.177206</td>\n",
       "      <td>33.909874</td>\n",
       "      <td>33.985755</td>\n",
       "      <td>33.890192</td>\n",
       "    </tr>\n",
       "    <tr>\n",
       "      <th>32.0</th>\n",
       "      <td>34.422684</td>\n",
       "      <td>34.680896</td>\n",
       "      <td>34.712058</td>\n",
       "      <td>34.973141</td>\n",
       "      <td>34.381609</td>\n",
       "      <td>34.245718</td>\n",
       "      <td>34.272721</td>\n",
       "      <td>34.138233</td>\n",
       "      <td>34.437640</td>\n",
       "      <td>34.313791</td>\n",
       "      <td>...</td>\n",
       "      <td>34.978998</td>\n",
       "      <td>34.386488</td>\n",
       "      <td>34.250497</td>\n",
       "      <td>34.277455</td>\n",
       "      <td>34.087585</td>\n",
       "      <td>34.442526</td>\n",
       "      <td>34.318135</td>\n",
       "      <td>33.992787</td>\n",
       "      <td>34.102892</td>\n",
       "      <td>34.005675</td>\n",
       "    </tr>\n",
       "    <tr>\n",
       "      <th>61.0</th>\n",
       "      <td>34.496186</td>\n",
       "      <td>34.778508</td>\n",
       "      <td>34.812111</td>\n",
       "      <td>35.083708</td>\n",
       "      <td>34.481942</td>\n",
       "      <td>34.330460</td>\n",
       "      <td>34.376598</td>\n",
       "      <td>34.219319</td>\n",
       "      <td>34.555036</td>\n",
       "      <td>34.427653</td>\n",
       "      <td>...</td>\n",
       "      <td>35.089608</td>\n",
       "      <td>34.487850</td>\n",
       "      <td>34.336217</td>\n",
       "      <td>34.382375</td>\n",
       "      <td>34.158109</td>\n",
       "      <td>34.560492</td>\n",
       "      <td>34.433115</td>\n",
       "      <td>34.058266</td>\n",
       "      <td>34.196067</td>\n",
       "      <td>34.086361</td>\n",
       "    </tr>\n",
       "    <tr>\n",
       "      <th>92.0</th>\n",
       "      <td>34.541607</td>\n",
       "      <td>34.848735</td>\n",
       "      <td>34.885189</td>\n",
       "      <td>35.178103</td>\n",
       "      <td>34.536194</td>\n",
       "      <td>34.372437</td>\n",
       "      <td>34.431944</td>\n",
       "      <td>34.257802</td>\n",
       "      <td>34.631805</td>\n",
       "      <td>34.490964</td>\n",
       "      <td>...</td>\n",
       "      <td>35.184255</td>\n",
       "      <td>34.543248</td>\n",
       "      <td>34.379139</td>\n",
       "      <td>34.438943</td>\n",
       "      <td>34.191730</td>\n",
       "      <td>34.638273</td>\n",
       "      <td>34.497733</td>\n",
       "      <td>34.090937</td>\n",
       "      <td>34.244095</td>\n",
       "      <td>34.121186</td>\n",
       "    </tr>\n",
       "    <tr>\n",
       "      <th>122.0</th>\n",
       "      <td>34.538213</td>\n",
       "      <td>34.859840</td>\n",
       "      <td>34.898354</td>\n",
       "      <td>35.214761</td>\n",
       "      <td>34.520171</td>\n",
       "      <td>34.353363</td>\n",
       "      <td>34.414553</td>\n",
       "      <td>34.236799</td>\n",
       "      <td>34.634051</td>\n",
       "      <td>34.476152</td>\n",
       "      <td>...</td>\n",
       "      <td>35.221267</td>\n",
       "      <td>34.528011</td>\n",
       "      <td>34.360599</td>\n",
       "      <td>34.422425</td>\n",
       "      <td>34.173799</td>\n",
       "      <td>34.641451</td>\n",
       "      <td>34.483960</td>\n",
       "      <td>34.076498</td>\n",
       "      <td>34.226023</td>\n",
       "      <td>34.095425</td>\n",
       "    </tr>\n",
       "  </tbody>\n",
       "</table>\n",
       "<p>5 rows × 26 columns</p>\n",
       "</div>"
      ],
      "text/plain": [
       "       TRGW_2_2_15  TRGW_2_2_9  TRGW_2_3_8  TRGW_2_9_1  TRGW_2_13_10  \\\n",
       "time                                                                   \n",
       "1.0      34.339320   34.581597   34.611207   34.872171     34.257574   \n",
       "32.0     34.422684   34.680896   34.712058   34.973141     34.381609   \n",
       "61.0     34.496186   34.778508   34.812111   35.083708     34.481942   \n",
       "92.0     34.541607   34.848735   34.885189   35.178103     34.536194   \n",
       "122.0    34.538213   34.859840   34.898354   35.214761     34.520171   \n",
       "\n",
       "       TRGW_2_15_16  TRGW_2_21_10  TRGW_2_22_15  TRGW_2_24_4  TRGW_2_26_6  \\\n",
       "time                                                                        \n",
       "1.0       34.136387     34.144465     34.027679    34.310857    34.171589   \n",
       "32.0      34.245718     34.272721     34.138233    34.437640    34.313791   \n",
       "61.0      34.330460     34.376598     34.219319    34.555036    34.427653   \n",
       "92.0      34.372437     34.431944     34.257802    34.631805    34.490964   \n",
       "122.0     34.353363     34.414553     34.236799    34.634051    34.476152   \n",
       "\n",
       "       ...  TRGW_0_9_1  TRGW_0_13_10  TRGW_0_15_16  TRGW_0_21_10  \\\n",
       "time   ...                                                         \n",
       "1.0    ...   34.878082     34.263187     34.141599     34.150067   \n",
       "32.0   ...   34.978998     34.386488     34.250497     34.277455   \n",
       "61.0   ...   35.089608     34.487850     34.336217     34.382375   \n",
       "92.0   ...   35.184255     34.543248     34.379139     34.438943   \n",
       "122.0  ...   35.221267     34.528011     34.360599     34.422425   \n",
       "\n",
       "       TRGW_0_22_15  TRGW_0_24_4  TRGW_0_26_6  TRGW_0_29_15  TRGW_0_33_7  \\\n",
       "time                                                                       \n",
       "1.0       33.992380    34.316575    34.177206     33.909874    33.985755   \n",
       "32.0      34.087585    34.442526    34.318135     33.992787    34.102892   \n",
       "61.0      34.158109    34.560492    34.433115     34.058266    34.196067   \n",
       "92.0      34.191730    34.638273    34.497733     34.090937    34.244095   \n",
       "122.0     34.173799    34.641451    34.483960     34.076498    34.226023   \n",
       "\n",
       "       TRGW_0_34_10  \n",
       "time                 \n",
       "1.0       33.890192  \n",
       "32.0      34.005675  \n",
       "61.0      34.086361  \n",
       "92.0      34.121186  \n",
       "122.0     34.095425  \n",
       "\n",
       "[5 rows x 26 columns]"
      ]
     },
     "execution_count": 9,
     "metadata": {},
     "output_type": "execute_result"
    }
   ],
   "source": [
    "df = pd.read_csv(os.path.join(template_ws,\"heads.csv\"),index_col=0)\n",
    "df.head()"
   ]
  },
  {
   "cell_type": "markdown",
   "metadata": {},
   "source": [
    "#### 4.2 Prepare Observation Files\n",
    "\n",
    "We will start by populating our \"model output\" file with measured values. For this synthetic case, we conveniently have observations for all model output times and sites. (These \"measured\" values were generated using the same model with a randomly generated set of parameters; noise was added to all observations.)\n",
    "\n",
    "In the next cell we read a .csv that contains measured obsevration values. As it has the exact same structure as our model output file, we can simpy replace the values in the model output file (and re-write it!). In real-world cases this step will likley be a bit more involved."
   ]
  },
  {
   "cell_type": "code",
   "execution_count": 10,
   "metadata": {
    "execution": {
     "iopub.execute_input": "2022-03-17T02:52:02.592794Z",
     "iopub.status.busy": "2022-03-17T02:52:02.591936Z",
     "iopub.status.idle": "2022-03-17T02:52:02.600772Z",
     "shell.execute_reply": "2022-03-17T02:52:02.599775Z"
    }
   },
   "outputs": [],
   "source": [
    "# read the measured head values\n",
    "hds_meas = pd.read_csv(os.path.join('..', '..', 'models', 'freyberg_mf6_truth',\"heads.meas.csv\"),\n",
    "                    index_col=0)\n",
    "\n",
    "# re-write the model output .csv file with the measured values\n",
    "hds_meas.to_csv(os.path.join(template_ws,\"heads.csv\"))"
   ]
  },
  {
   "cell_type": "markdown",
   "metadata": {},
   "source": [
    "#### 4.2. Adding Observations\n",
    "\n",
    "Now that our model output file contains the \"target values\", we can use the `PstFrom.add_observations()` method to add observations to our `pf` object. This method reads ***list-type*** files. The assumption is that these files are organized in a tabular format. \n",
    "\n",
    "We are going to tell `pf` which columns of this file contain observations. Values in these columns will be assigned to *observation values*.\n",
    "\n",
    "We can also inform it if there is an index column. Values in this column will be included in the *observation names*. \n",
    "\n",
    "We could also specify which rows to include as observations. But observations are free...so why not keep them all! \n",
    "\n",
    "Let's add observations from `heads.csv`. The first column of this file records the time at which the value is simulated. Let's use that as the index column (this becomes useful later on to post-process results). We want all other columns as observation values.\n"
   ]
  },
  {
   "cell_type": "code",
   "execution_count": 11,
   "metadata": {
    "execution": {
     "iopub.execute_input": "2022-03-17T02:52:02.603765Z",
     "iopub.status.busy": "2022-03-17T02:52:02.603765Z",
     "iopub.status.idle": "2022-03-17T02:52:02.642660Z",
     "shell.execute_reply": "2022-03-17T02:52:02.643658Z"
    }
   },
   "outputs": [
    {
     "name": "stdout",
     "output_type": "stream",
     "text": [
      "2022-03-17 13:22:02.602767 starting: adding observations from output file heads.csv\n",
      "2022-03-17 13:22:02.603765 starting: adding observations from tabular output file '['heads.csv']'\n",
      "2022-03-17 13:22:02.603765 starting: reading list-style file: freyberg6_template\\heads.csv\n",
      "2022-03-17 13:22:02.610745 finished: reading list-style file: freyberg6_template\\heads.csv took: 0:00:00.006980\n",
      "2022-03-17 13:22:02.610745 starting: building insfile for tabular output file heads.csv\n",
      "2022-03-17 13:22:02.619722 finished: building insfile for tabular output file heads.csv took: 0:00:00.008977\n",
      "2022-03-17 13:22:02.619722 starting: adding observation from instruction file 'freyberg6_template\\heads.csv.ins'\n",
      "2022-03-17 13:22:02.637673 finished: adding observation from instruction file 'freyberg6_template\\heads.csv.ins' took: 0:00:00.017951\n",
      "2022-03-17 13:22:02.638671 finished: adding observations from tabular output file '['heads.csv']' took: 0:00:00.034906\n"
     ]
    }
   ],
   "source": [
    "hds_df = pf.add_observations(\"heads.csv\", # the model output file to read\n",
    "                            insfile=\"heads.csv.ins\", #optional, the instruction file name\n",
    "                            index_cols=\"time\", #column header to use as index; can also use column number (zero-based) instead of the header name\n",
    "                            use_cols=list(df.columns.values), #names of columns that include observation values; can also use column number (zero-based) instead of the header name\n",
    "                            prefix=\"hds\") #prefix to all observation names; choose something logical and easy o find. We use it later on to select obsevrations"
   ]
  },
  {
   "cell_type": "markdown",
   "metadata": {},
   "source": [
    "Let's inspect what we just created. \n",
    "\n",
    "We can see that the `.add_observations()` method returned a dataframe with lots of useful info: \n",
    "\n",
    " - the observation names that were formed (see `obsnme` column); note that these inlcude lots of usefull metadata like the column name, index value and so on;\n",
    " - the values that were read from `heads.csv` (see `obsval` column); \n",
    " - some generic weights and group names; note that observations are grouped according to the column of the model output .csv. Alternatively, we could have specified a list of observation group names."
   ]
  },
  {
   "cell_type": "code",
   "execution_count": 12,
   "metadata": {
    "execution": {
     "iopub.execute_input": "2022-03-17T02:52:02.650639Z",
     "iopub.status.busy": "2022-03-17T02:52:02.649673Z",
     "iopub.status.idle": "2022-03-17T02:52:02.652633Z",
     "shell.execute_reply": "2022-03-17T02:52:02.652633Z"
    }
   },
   "outputs": [
    {
     "data": {
      "text/html": [
       "<div>\n",
       "<style scoped>\n",
       "    .dataframe tbody tr th:only-of-type {\n",
       "        vertical-align: middle;\n",
       "    }\n",
       "\n",
       "    .dataframe tbody tr th {\n",
       "        vertical-align: top;\n",
       "    }\n",
       "\n",
       "    .dataframe thead th {\n",
       "        text-align: right;\n",
       "    }\n",
       "</style>\n",
       "<table border=\"1\" class=\"dataframe\">\n",
       "  <thead>\n",
       "    <tr style=\"text-align: right;\">\n",
       "      <th></th>\n",
       "      <th>obsnme</th>\n",
       "      <th>obsval</th>\n",
       "      <th>weight</th>\n",
       "      <th>obgnme</th>\n",
       "    </tr>\n",
       "  </thead>\n",
       "  <tbody>\n",
       "    <tr>\n",
       "      <th>oname:hds_otype:lst_usecol:trgw_0_13_10_time:1.0</th>\n",
       "      <td>oname:hds_otype:lst_usecol:trgw_0_13_10_time:1.0</td>\n",
       "      <td>34.406181</td>\n",
       "      <td>1.0</td>\n",
       "      <td>oname:hds_otype:lst_usecol:trgw_0_13_10</td>\n",
       "    </tr>\n",
       "    <tr>\n",
       "      <th>oname:hds_otype:lst_usecol:trgw_0_13_10_time:122.0</th>\n",
       "      <td>oname:hds_otype:lst_usecol:trgw_0_13_10_time:122.0</td>\n",
       "      <td>34.450661</td>\n",
       "      <td>1.0</td>\n",
       "      <td>oname:hds_otype:lst_usecol:trgw_0_13_10</td>\n",
       "    </tr>\n",
       "    <tr>\n",
       "      <th>oname:hds_otype:lst_usecol:trgw_0_13_10_time:153.0</th>\n",
       "      <td>oname:hds_otype:lst_usecol:trgw_0_13_10_time:153.0</td>\n",
       "      <td>34.441799</td>\n",
       "      <td>1.0</td>\n",
       "      <td>oname:hds_otype:lst_usecol:trgw_0_13_10</td>\n",
       "    </tr>\n",
       "    <tr>\n",
       "      <th>oname:hds_otype:lst_usecol:trgw_0_13_10_time:183.0</th>\n",
       "      <td>oname:hds_otype:lst_usecol:trgw_0_13_10_time:183.0</td>\n",
       "      <td>34.375622</td>\n",
       "      <td>1.0</td>\n",
       "      <td>oname:hds_otype:lst_usecol:trgw_0_13_10</td>\n",
       "    </tr>\n",
       "    <tr>\n",
       "      <th>oname:hds_otype:lst_usecol:trgw_0_13_10_time:214.0</th>\n",
       "      <td>oname:hds_otype:lst_usecol:trgw_0_13_10_time:214.0</td>\n",
       "      <td>34.323056</td>\n",
       "      <td>1.0</td>\n",
       "      <td>oname:hds_otype:lst_usecol:trgw_0_13_10</td>\n",
       "    </tr>\n",
       "  </tbody>\n",
       "</table>\n",
       "</div>"
      ],
      "text/plain": [
       "                                                                                                obsnme  \\\n",
       "oname:hds_otype:lst_usecol:trgw_0_13_10_time:1.0      oname:hds_otype:lst_usecol:trgw_0_13_10_time:1.0   \n",
       "oname:hds_otype:lst_usecol:trgw_0_13_10_time:122.0  oname:hds_otype:lst_usecol:trgw_0_13_10_time:122.0   \n",
       "oname:hds_otype:lst_usecol:trgw_0_13_10_time:153.0  oname:hds_otype:lst_usecol:trgw_0_13_10_time:153.0   \n",
       "oname:hds_otype:lst_usecol:trgw_0_13_10_time:183.0  oname:hds_otype:lst_usecol:trgw_0_13_10_time:183.0   \n",
       "oname:hds_otype:lst_usecol:trgw_0_13_10_time:214.0  oname:hds_otype:lst_usecol:trgw_0_13_10_time:214.0   \n",
       "\n",
       "                                                       obsval  weight  \\\n",
       "oname:hds_otype:lst_usecol:trgw_0_13_10_time:1.0    34.406181     1.0   \n",
       "oname:hds_otype:lst_usecol:trgw_0_13_10_time:122.0  34.450661     1.0   \n",
       "oname:hds_otype:lst_usecol:trgw_0_13_10_time:153.0  34.441799     1.0   \n",
       "oname:hds_otype:lst_usecol:trgw_0_13_10_time:183.0  34.375622     1.0   \n",
       "oname:hds_otype:lst_usecol:trgw_0_13_10_time:214.0  34.323056     1.0   \n",
       "\n",
       "                                                                                     obgnme  \n",
       "oname:hds_otype:lst_usecol:trgw_0_13_10_time:1.0    oname:hds_otype:lst_usecol:trgw_0_13_10  \n",
       "oname:hds_otype:lst_usecol:trgw_0_13_10_time:122.0  oname:hds_otype:lst_usecol:trgw_0_13_10  \n",
       "oname:hds_otype:lst_usecol:trgw_0_13_10_time:153.0  oname:hds_otype:lst_usecol:trgw_0_13_10  \n",
       "oname:hds_otype:lst_usecol:trgw_0_13_10_time:183.0  oname:hds_otype:lst_usecol:trgw_0_13_10  \n",
       "oname:hds_otype:lst_usecol:trgw_0_13_10_time:214.0  oname:hds_otype:lst_usecol:trgw_0_13_10  "
      ]
     },
     "execution_count": 12,
     "metadata": {},
     "output_type": "execute_result"
    }
   ],
   "source": [
    "hds_df.head()"
   ]
  },
  {
   "cell_type": "markdown",
   "metadata": {},
   "source": [
    "At this point, no PEST *control file* has been created, we have simply prepared to add these observations to the control file later. Everything is still only stored in memory. However, a PEST *instruction* file has been created in the template folder (`template_ws`):"
   ]
  },
  {
   "cell_type": "code",
   "execution_count": 13,
   "metadata": {
    "execution": {
     "iopub.execute_input": "2022-03-17T02:52:02.656624Z",
     "iopub.status.busy": "2022-03-17T02:52:02.655634Z",
     "iopub.status.idle": "2022-03-17T02:52:02.662645Z",
     "shell.execute_reply": "2022-03-17T02:52:02.662645Z"
    }
   },
   "outputs": [
    {
     "data": {
      "text/plain": [
       "['heads.csv.ins']"
      ]
     },
     "execution_count": 13,
     "metadata": {},
     "output_type": "execute_result"
    }
   ],
   "source": [
    "[f for f in os.listdir(template_ws) if f.endswith(\".ins\")]"
   ]
  },
  {
   "cell_type": "markdown",
   "metadata": {},
   "source": [
    "Blimey, wasn't that easy? Automatically assimilating thousands of observations into a PEST dataset becomes a breeze!\n",
    "\n",
    "Let's quickly do the same thing for the SFR observations."
   ]
  },
  {
   "cell_type": "code",
   "execution_count": 14,
   "metadata": {
    "execution": {
     "iopub.execute_input": "2022-03-17T02:52:02.666635Z",
     "iopub.status.busy": "2022-03-17T02:52:02.665671Z",
     "iopub.status.idle": "2022-03-17T02:52:02.675661Z",
     "shell.execute_reply": "2022-03-17T02:52:02.674631Z"
    }
   },
   "outputs": [
    {
     "data": {
      "text/html": [
       "<div>\n",
       "<style scoped>\n",
       "    .dataframe tbody tr th:only-of-type {\n",
       "        vertical-align: middle;\n",
       "    }\n",
       "\n",
       "    .dataframe tbody tr th {\n",
       "        vertical-align: top;\n",
       "    }\n",
       "\n",
       "    .dataframe thead th {\n",
       "        text-align: right;\n",
       "    }\n",
       "</style>\n",
       "<table border=\"1\" class=\"dataframe\">\n",
       "  <thead>\n",
       "    <tr style=\"text-align: right;\">\n",
       "      <th></th>\n",
       "      <th>HEADWATER</th>\n",
       "      <th>TAILWATER</th>\n",
       "      <th>GAGE_1</th>\n",
       "    </tr>\n",
       "    <tr>\n",
       "      <th>time</th>\n",
       "      <th></th>\n",
       "      <th></th>\n",
       "      <th></th>\n",
       "    </tr>\n",
       "  </thead>\n",
       "  <tbody>\n",
       "    <tr>\n",
       "      <th>1.0</th>\n",
       "      <td>-644.10</td>\n",
       "      <td>-477.76</td>\n",
       "      <td>1205.3</td>\n",
       "    </tr>\n",
       "    <tr>\n",
       "      <th>32.0</th>\n",
       "      <td>-865.29</td>\n",
       "      <td>-638.26</td>\n",
       "      <td>1636.6</td>\n",
       "    </tr>\n",
       "    <tr>\n",
       "      <th>61.0</th>\n",
       "      <td>-1034.00</td>\n",
       "      <td>-764.91</td>\n",
       "      <td>1938.5</td>\n",
       "    </tr>\n",
       "    <tr>\n",
       "      <th>92.0</th>\n",
       "      <td>-1118.70</td>\n",
       "      <td>-825.49</td>\n",
       "      <td>2073.6</td>\n",
       "    </tr>\n",
       "    <tr>\n",
       "      <th>122.0</th>\n",
       "      <td>-1083.00</td>\n",
       "      <td>-794.89</td>\n",
       "      <td>1983.4</td>\n",
       "    </tr>\n",
       "  </tbody>\n",
       "</table>\n",
       "</div>"
      ],
      "text/plain": [
       "       HEADWATER  TAILWATER  GAGE_1\n",
       "time                               \n",
       "1.0      -644.10    -477.76  1205.3\n",
       "32.0     -865.29    -638.26  1636.6\n",
       "61.0    -1034.00    -764.91  1938.5\n",
       "92.0    -1118.70    -825.49  2073.6\n",
       "122.0   -1083.00    -794.89  1983.4"
      ]
     },
     "execution_count": 14,
     "metadata": {},
     "output_type": "execute_result"
    }
   ],
   "source": [
    "df = pd.read_csv(os.path.join(template_ws, \"sfr.csv\"), index_col=0)\n",
    "df.head()"
   ]
  },
  {
   "cell_type": "code",
   "execution_count": 15,
   "metadata": {
    "execution": {
     "iopub.execute_input": "2022-03-17T02:52:02.679619Z",
     "iopub.status.busy": "2022-03-17T02:52:02.679619Z",
     "iopub.status.idle": "2022-03-17T02:52:02.702762Z",
     "shell.execute_reply": "2022-03-17T02:52:02.702762Z"
    }
   },
   "outputs": [
    {
     "name": "stdout",
     "output_type": "stream",
     "text": [
      "2022-03-17 13:22:02.681614 starting: adding observations from output file sfr.csv\n",
      "2022-03-17 13:22:02.681614 starting: adding observations from tabular output file '['sfr.csv']'\n",
      "2022-03-17 13:22:02.681614 starting: reading list-style file: freyberg6_template\\sfr.csv\n",
      "2022-03-17 13:22:02.683639 finished: reading list-style file: freyberg6_template\\sfr.csv took: 0:00:00.002025\n",
      "2022-03-17 13:22:02.683639 starting: building insfile for tabular output file sfr.csv\n",
      "2022-03-17 13:22:02.690617 finished: building insfile for tabular output file sfr.csv took: 0:00:00.006978\n",
      "2022-03-17 13:22:02.690617 starting: adding observation from instruction file 'freyberg6_template\\sfr.csv.ins'\n",
      "2022-03-17 13:22:02.698342 finished: adding observation from instruction file 'freyberg6_template\\sfr.csv.ins' took: 0:00:00.007725\n",
      "2022-03-17 13:22:02.699305 finished: adding observations from tabular output file '['sfr.csv']' took: 0:00:00.017691\n"
     ]
    }
   ],
   "source": [
    "# read the measured  values\n",
    "meas = pd.read_csv(os.path.join('..', '..', 'models', 'freyberg_mf6_truth',\"sfr.meas.csv\"),\n",
    "                    index_col=0)\n",
    "# re-write the model output .csv file with the measured values\n",
    "meas.to_csv(os.path.join(template_ws,\"sfr.csv\"))\n",
    "# add the observations to pf\n",
    "sfr_df = pf.add_observations(\"sfr.csv\", # the model output file to read\n",
    "                            insfile=\"sfr.csv.ins\", #optional, the instruction file name\n",
    "                            index_cols=\"time\", #column header to use as index; can also use column number (zero-based) instead of the header name\n",
    "                            use_cols=list(df.columns.values), #names of columns that include observation values; can also use column number (zero-based) instead of the header name\n",
    "                            prefix=\"sfr\") #prefix to all observation names"
   ]
  },
  {
   "cell_type": "markdown",
   "metadata": {},
   "source": [
    "### 5. Parameters\n",
    "\n",
    "The `PstFrom.add_parameters()` method reads model input files and adds parameters to the PEST(++) dataset. Parameterisation can be configured in several ways. \n",
    "\n",
    " - model input files can be in array or list format;\n",
    " - parameters can be setup as different \"types\". Values in model input files can (1) each be a separate parameter, (2) be grouped into \"zones\" or (3) all be treated as a single parameter. Alteratvely, (4) parameters can be assigned to pilot points, from which individual parameter values are subsequently interpolated. `PstFrom` adds the relevant pre-processing steps to assign paramter values directly into the \"model run\" script.\n",
    " - parameter values can be setup as \"direct\", \"multiplier\" or \"addend\". This means the \"parameter value\" which PEST(++) sees can be (1) the same value the model sees, (2) a multiplier on the value in the model input file, or (3) a value which is added to the value in the model input file. This is very nifty. `PstFrom` is designed to preferentially use parameters setup as multipliers. These let us preserve the existing model inputs and treat them as the mean of the prior parameter distribution. Once again, relevant pre-processing scripts are automatically added to the \"model run\" script (discussed later).\n",
    "\n",
    "\n",
    "#### 5.1. Freyberg Recap\n",
    "\n",
    "As discussed, all model inputs are stored in external files. Some are arrays. Others are lists. Recall that our model has 3 layers. It is transient. Hydraulic properties (Kh, Kv, Ss, Sy) vary in space. Recharge varies over both space and time. We have GHBs, SFR and WEL boundary conditions. GHB parameters are constant over time, but vary spatially. SFR inflow varies over time. Pumping rates of individual wells are uncertain in space and and time.\n",
    "\n",
    "All of these have some degree of spatial and/or temporal correlation.\n",
    "\n",
    "#### 5.2. Geostatistical Structures\n",
    "\n",
    "Parameter correlation plays a role in (1) regularization when giving preference to the emergence of patterns of spatial heterogeneity and (2) when specifying the prior parameter probability distribution. Since we are all sophisticated and recognize the importance of expressing spatial and temporal uncertainty (e.g. heterogeneity) in the model inputs (and the corresponding spatial correlation in those uncertain inputs), let's use geostatistics to express uncertainty. To do that we need to define \"geostatistical structures\". \n",
    "\n",
    "For the sake of this tutorial, let's assume that heterogeneity in all spatially distributed parameters share the same statistical characteristics. Likewise for temporally varying parameters. We will therefore only  construct two geostatisitcal structures."
   ]
  },
  {
   "cell_type": "code",
   "execution_count": 16,
   "metadata": {
    "execution": {
     "iopub.execute_input": "2022-03-17T02:52:02.716735Z",
     "iopub.status.busy": "2022-03-17T02:52:02.706785Z",
     "iopub.status.idle": "2022-03-17T02:52:02.970093Z",
     "shell.execute_reply": "2022-03-17T02:52:02.970093Z"
    }
   },
   "outputs": [
    {
     "data": {
      "text/plain": [
       "<AxesSubplot:xlabel='distance', ylabel='$\\\\gamma$'>"
      ]
     },
     "execution_count": 16,
     "metadata": {},
     "output_type": "execute_result"
    },
    {
     "data": {
      "image/png": "[encoded data removed]",
      "text/plain": [
       "<Figure size 432x288 with 1 Axes>"
      ]
     },
     "metadata": {
      "needs_background": "light"
     },
     "output_type": "display_data"
    }
   ],
   "source": [
    "# exponential variogram for spatially varying parameters\n",
    "v_space = pyemu.geostats.ExpVario(contribution=1.0, #sill\n",
    "                                    a=1000, # range of correlation; length units of the model. In our case 'meters'\n",
    "                                    anisotropy=1.0, #name says it all\n",
    "                                    bearing=0.0 #angle in degrees East of North corresponding to anisotropy ellipse\n",
    "                                    )\n",
    "\n",
    "# geostatistical structure for spatially varying parameters\n",
    "grid_gs = pyemu.geostats.GeoStruct(variograms=v_space, transform='log') \n",
    "\n",
    "# plot the gs if you like:\n",
    "grid_gs.plot()"
   ]
  },
  {
   "cell_type": "code",
   "execution_count": 17,
   "metadata": {
    "execution": {
     "iopub.execute_input": "2022-03-17T02:52:02.974087Z",
     "iopub.status.busy": "2022-03-17T02:52:02.974087Z",
     "iopub.status.idle": "2022-03-17T02:52:02.976082Z",
     "shell.execute_reply": "2022-03-17T02:52:02.977079Z"
    }
   },
   "outputs": [],
   "source": [
    "# exponential variogram for time varying parameters\n",
    "v_time = pyemu.geostats.ExpVario(contribution=1.0, #sill\n",
    "                                    a=60, # range of correlation; length time units (days)\n",
    "                                    anisotropy=1.0, #do not change for 1-D time\n",
    "                                    bearing=0.0 #do not change for 1-D time\n",
    "                                    )\n",
    "\n",
    "# geostatistical structure for time varying parameters\n",
    "temporal_gs = pyemu.geostats.GeoStruct(variograms=v_time, transform='none') "
   ]
  },
  {
   "cell_type": "markdown",
   "metadata": {},
   "source": [
    "#### 5.3. Add Parameters\n",
    "\n",
    "Let's start by adding parameters of hydraulic properties that vary in space (but not time) and which are housed in array-type files (e.g. Kh, Kv, Ss, Sy). We will start by demonstrating step-by-step for Kh.\n",
    "\n",
    "First, find all the external array files that contain Kh values. In our case, these are the files with \"npf_k_\" in the file name. As you can see below, there is one file for each model layer. "
   ]
  },
  {
   "cell_type": "code",
   "execution_count": 18,
   "metadata": {
    "execution": {
     "iopub.execute_input": "2022-03-17T02:52:02.980071Z",
     "iopub.status.busy": "2022-03-17T02:52:02.980071Z",
     "iopub.status.idle": "2022-03-17T02:52:02.985057Z",
     "shell.execute_reply": "2022-03-17T02:52:02.985057Z"
    }
   },
   "outputs": [
    {
     "name": "stdout",
     "output_type": "stream",
     "text": [
      "['freyberg6.npf_k_layer1.txt', 'freyberg6.npf_k_layer2.txt', 'freyberg6.npf_k_layer3.txt']\n"
     ]
    }
   ],
   "source": [
    "tag = \"npf_k_\"\n",
    "files = [f for f in os.listdir(template_ws) if tag in f.lower() and f.endswith(\".txt\")]\n",
    "print(files)"
   ]
  },
  {
   "cell_type": "markdown",
   "metadata": {},
   "source": [
    "Let's setup multiple spatial scales of parameters for Kh. To do this we will use three of the parameter \"types\" described above. The coarse scale will be a `constant` single value for each array. The medium scale will `pilot points`. The finest scale will use parameters as the `grid` scale (a unique parameter for each model cell!)\n",
    "\n",
    "Each scale of parameters will work with the others as multipliers with the existing Kh arrays. (This all happens at runtime as part of the \"model run\" script.) Think of the scales as dials that PEST(++) can turn to improve the fit. The \"coarse\" scale is one big dial that alows PEST to move everything at once. The \"medium\" dials are few (but not too many) that allow PEST to adjust broad areas, but not making eveything move. The \"fine\" scales are lots of small dials that allow PEST(++) to have very detailed control, tweaking parameter values within very small areas. \n",
    "\n",
    "However, because we are working with parameter `multipliers`, we will need to specify two sets of parameter bounds: \n",
    " - `upper_bound` and `lower_bound` are the standard control file bounds, while\n",
    " - `ult_ubound` and `ult_lbound` are bounds that are applied at runtime to the resulting (multiplied out) model input array. \n",
    " \n",
    "Since we are using sets of multipliers, it is important to make sure we keep the resulting model input arrays within the range of realistic values.\n",
    "\n",
    "#### 5.3.1. Array Files\n",
    "\n",
    "We will first demonstrate steb-by-step for `freyberg6.npf_k_layer1.txt`. We will start with grid scale parameters. These are multipliers assigned to each individual value in the array.\n",
    "\n",
    "We start by getting the idomain array. As our model has inactive cells, this heps us avoid adding unncessary parameters. It is also required later when generating pilot points."
   ]
  },
  {
   "cell_type": "code",
   "execution_count": 19,
   "metadata": {
    "execution": {
     "iopub.execute_input": "2022-03-17T02:52:02.989047Z",
     "iopub.status.busy": "2022-03-17T02:52:02.988049Z",
     "iopub.status.idle": "2022-03-17T02:52:02.993447Z",
     "shell.execute_reply": "2022-03-17T02:52:02.993447Z"
    }
   },
   "outputs": [],
   "source": [
    "# as IDOMIAN is the same in all layers, we can use any layer\n",
    "ib = gwf.dis.idomain.get_data(layer=0)"
   ]
  },
  {
   "cell_type": "code",
   "execution_count": 20,
   "metadata": {
    "execution": {
     "iopub.execute_input": "2022-03-17T02:52:02.998433Z",
     "iopub.status.busy": "2022-03-17T02:52:02.997436Z",
     "iopub.status.idle": "2022-03-17T02:52:03.030352Z",
     "shell.execute_reply": "2022-03-17T02:52:03.030352Z"
    }
   },
   "outputs": [
    {
     "name": "stdout",
     "output_type": "stream",
     "text": [
      "2022-03-17 13:22:02.996438 starting: adding grid type m style parameters for file(s) ['freyberg6.npf_k_layer1.txt']\n",
      "2022-03-17 13:22:02.997436 starting: loading array freyberg6_template\\freyberg6.npf_k_layer1.txt\n",
      "2022-03-17 13:22:03.003420 finished: loading array freyberg6_template\\freyberg6.npf_k_layer1.txt took: 0:00:00.005984\n",
      "2022-03-17 13:22:03.003420 loaded array 'freyberg_mf6\\freyberg6.npf_k_layer1.txt' of shape (40, 20)\n",
      "2022-03-17 13:22:03.005414 starting: writing array-style template file 'freyberg6_template\\npf_k_layer1_gr_inst0_grid.csv.tpl'\n",
      "2022-03-17 13:22:03.005414 starting: writing template file freyberg6_template\\npf_k_layer1_gr_inst0_grid.csv.tpl for ['npf_k_layer1_gr_inst:0']\n",
      "2022-03-17 13:22:03.018380 finished: writing template file freyberg6_template\\npf_k_layer1_gr_inst0_grid.csv.tpl for ['npf_k_layer1_gr_inst:0'] took: 0:00:00.012966\n",
      "2022-03-17 13:22:03.018380 starting: writing array-based template file 'freyberg6_template\\npf_k_layer1_gr_inst0_grid.csv.tpl'\n",
      "2022-03-17 13:22:03.018380 saving zone array freyberg6_template\\npf_k_layer1_gr_inst0_grid.csv.zone for tpl file freyberg6_template\\npf_k_layer1_gr_inst0_grid.csv.tpl\n",
      "2022-03-17 13:22:03.026363 finished: adding grid type m style parameters for file(s) ['freyberg6.npf_k_layer1.txt'] took: 0:00:00.029925\n"
     ]
    }
   ],
   "source": [
    "f = 'freyberg6.npf_k_layer1.txt'\n",
    "\n",
    "# grid (fine) scale parameters\n",
    "df_gr = pf.add_parameters(f,\n",
    "                zone_array=ib, #as we have inactie model cells, we can avoid assigning these as parameters\n",
    "                par_type=\"grid\", #specify the type, these will be unique parameters for each cell\n",
    "                geostruct=grid_gs, # the gestatisical structure for spatial correlation \n",
    "                par_name_base=f.split('.')[1]+\"_gr\", #specify a parameter name base that allows us to easily identify the filename and parameter type. \"_gr\" for \"grid\", and so forth.\n",
    "                pargp=f.split('.')[1]+\"_gr\", #likewise for the parameter group name\n",
    "                lower_bound=0.2, upper_bound=5.0, #parameter lower and upper bound\n",
    "                ult_ubound=100, ult_lbound=0.01 # The ultimate bounds for multiplied model input values. Here we are stating that, after accounting for all multipliers, Kh cannot exceed these values. Very important with multipliers\n",
    "                )"
   ]
  },
  {
   "cell_type": "markdown",
   "metadata": {},
   "source": [
    "As when adding observations,  `pf.add_parameters()` returns a dataframe. Take a look. You may recognize alot of the information that appears in a PEST `*parameter data` section. All of this is still only housed in memory for now. We will write the PEST control file later on."
   ]
  },
  {
   "cell_type": "code",
   "execution_count": 21,
   "metadata": {
    "execution": {
     "iopub.execute_input": "2022-03-17T02:52:03.034341Z",
     "iopub.status.busy": "2022-03-17T02:52:03.034341Z",
     "iopub.status.idle": "2022-03-17T02:52:03.049301Z",
     "shell.execute_reply": "2022-03-17T02:52:03.049301Z"
    }
   },
   "outputs": [
    {
     "data": {
      "text/html": [
       "<div>\n",
       "<style scoped>\n",
       "    .dataframe tbody tr th:only-of-type {\n",
       "        vertical-align: middle;\n",
       "    }\n",
       "\n",
       "    .dataframe tbody tr th {\n",
       "        vertical-align: top;\n",
       "    }\n",
       "\n",
       "    .dataframe thead th {\n",
       "        text-align: right;\n",
       "    }\n",
       "</style>\n",
       "<table border=\"1\" class=\"dataframe\">\n",
       "  <thead>\n",
       "    <tr style=\"text-align: right;\">\n",
       "      <th></th>\n",
       "      <th>parnme</th>\n",
       "      <th>parval1</th>\n",
       "      <th>i</th>\n",
       "      <th>j</th>\n",
       "      <th>x</th>\n",
       "      <th>y</th>\n",
       "      <th>pargp</th>\n",
       "      <th>tpl_filename</th>\n",
       "      <th>input_filename</th>\n",
       "      <th>partype</th>\n",
       "      <th>partrans</th>\n",
       "      <th>parubnd</th>\n",
       "      <th>parlbnd</th>\n",
       "      <th>offset</th>\n",
       "      <th>dercom</th>\n",
       "      <th>parchglim</th>\n",
       "      <th>scale</th>\n",
       "    </tr>\n",
       "  </thead>\n",
       "  <tbody>\n",
       "    <tr>\n",
       "      <th>pname:npf_k_layer1_gr_inst:0_ptype:gr_pstyle:m_i:0_j:0_x:125.00_y:9875.00_zone:1</th>\n",
       "      <td>pname:npf_k_layer1_gr_inst:0_ptype:gr_pstyle:m_i:0_j:0_x:125.00_y:9875.00_zone:1</td>\n",
       "      <td>1.0</td>\n",
       "      <td>0</td>\n",
       "      <td>0</td>\n",
       "      <td>125.0</td>\n",
       "      <td>9875.0</td>\n",
       "      <td>npf_k_layer1_gr</td>\n",
       "      <td>freyberg6_template\\npf_k_layer1_gr_inst0_grid.csv.tpl</td>\n",
       "      <td>freyberg6_template\\mult\\npf_k_layer1_gr_inst0_grid.csv</td>\n",
       "      <td>grid</td>\n",
       "      <td>log</td>\n",
       "      <td>5.0</td>\n",
       "      <td>0.2</td>\n",
       "      <td>0.0</td>\n",
       "      <td>1</td>\n",
       "      <td>factor</td>\n",
       "      <td>1.0</td>\n",
       "    </tr>\n",
       "    <tr>\n",
       "      <th>pname:npf_k_layer1_gr_inst:0_ptype:gr_pstyle:m_i:0_j:1_x:375.00_y:9875.00_zone:1</th>\n",
       "      <td>pname:npf_k_layer1_gr_inst:0_ptype:gr_pstyle:m_i:0_j:1_x:375.00_y:9875.00_zone:1</td>\n",
       "      <td>1.0</td>\n",
       "      <td>0</td>\n",
       "      <td>1</td>\n",
       "      <td>375.0</td>\n",
       "      <td>9875.0</td>\n",
       "      <td>npf_k_layer1_gr</td>\n",
       "      <td>freyberg6_template\\npf_k_layer1_gr_inst0_grid.csv.tpl</td>\n",
       "      <td>freyberg6_template\\mult\\npf_k_layer1_gr_inst0_grid.csv</td>\n",
       "      <td>grid</td>\n",
       "      <td>log</td>\n",
       "      <td>5.0</td>\n",
       "      <td>0.2</td>\n",
       "      <td>0.0</td>\n",
       "      <td>1</td>\n",
       "      <td>factor</td>\n",
       "      <td>1.0</td>\n",
       "    </tr>\n",
       "    <tr>\n",
       "      <th>pname:npf_k_layer1_gr_inst:0_ptype:gr_pstyle:m_i:0_j:2_x:625.00_y:9875.00_zone:1</th>\n",
       "      <td>pname:npf_k_layer1_gr_inst:0_ptype:gr_pstyle:m_i:0_j:2_x:625.00_y:9875.00_zone:1</td>\n",
       "      <td>1.0</td>\n",
       "      <td>0</td>\n",
       "      <td>2</td>\n",
       "      <td>625.0</td>\n",
       "      <td>9875.0</td>\n",
       "      <td>npf_k_layer1_gr</td>\n",
       "      <td>freyberg6_template\\npf_k_layer1_gr_inst0_grid.csv.tpl</td>\n",
       "      <td>freyberg6_template\\mult\\npf_k_layer1_gr_inst0_grid.csv</td>\n",
       "      <td>grid</td>\n",
       "      <td>log</td>\n",
       "      <td>5.0</td>\n",
       "      <td>0.2</td>\n",
       "      <td>0.0</td>\n",
       "      <td>1</td>\n",
       "      <td>factor</td>\n",
       "      <td>1.0</td>\n",
       "    </tr>\n",
       "    <tr>\n",
       "      <th>pname:npf_k_layer1_gr_inst:0_ptype:gr_pstyle:m_i:0_j:3_x:875.00_y:9875.00_zone:1</th>\n",
       "      <td>pname:npf_k_layer1_gr_inst:0_ptype:gr_pstyle:m_i:0_j:3_x:875.00_y:9875.00_zone:1</td>\n",
       "      <td>1.0</td>\n",
       "      <td>0</td>\n",
       "      <td>3</td>\n",
       "      <td>875.0</td>\n",
       "      <td>9875.0</td>\n",
       "      <td>npf_k_layer1_gr</td>\n",
       "      <td>freyberg6_template\\npf_k_layer1_gr_inst0_grid.csv.tpl</td>\n",
       "      <td>freyberg6_template\\mult\\npf_k_layer1_gr_inst0_grid.csv</td>\n",
       "      <td>grid</td>\n",
       "      <td>log</td>\n",
       "      <td>5.0</td>\n",
       "      <td>0.2</td>\n",
       "      <td>0.0</td>\n",
       "      <td>1</td>\n",
       "      <td>factor</td>\n",
       "      <td>1.0</td>\n",
       "    </tr>\n",
       "    <tr>\n",
       "      <th>pname:npf_k_layer1_gr_inst:0_ptype:gr_pstyle:m_i:0_j:4_x:1125.00_y:9875.00_zone:1</th>\n",
       "      <td>pname:npf_k_layer1_gr_inst:0_ptype:gr_pstyle:m_i:0_j:4_x:1125.00_y:9875.00_zone:1</td>\n",
       "      <td>1.0</td>\n",
       "      <td>0</td>\n",
       "      <td>4</td>\n",
       "      <td>1125.0</td>\n",
       "      <td>9875.0</td>\n",
       "      <td>npf_k_layer1_gr</td>\n",
       "      <td>freyberg6_template\\npf_k_layer1_gr_inst0_grid.csv.tpl</td>\n",
       "      <td>freyberg6_template\\mult\\npf_k_layer1_gr_inst0_grid.csv</td>\n",
       "      <td>grid</td>\n",
       "      <td>log</td>\n",
       "      <td>5.0</td>\n",
       "      <td>0.2</td>\n",
       "      <td>0.0</td>\n",
       "      <td>1</td>\n",
       "      <td>factor</td>\n",
       "      <td>1.0</td>\n",
       "    </tr>\n",
       "  </tbody>\n",
       "</table>\n",
       "</div>"
      ],
      "text/plain": [
       "                                                                                                                                                              parnme  \\\n",
       "pname:npf_k_layer1_gr_inst:0_ptype:gr_pstyle:m_i:0_j:0_x:125.00_y:9875.00_zone:1    pname:npf_k_layer1_gr_inst:0_ptype:gr_pstyle:m_i:0_j:0_x:125.00_y:9875.00_zone:1   \n",
       "pname:npf_k_layer1_gr_inst:0_ptype:gr_pstyle:m_i:0_j:1_x:375.00_y:9875.00_zone:1    pname:npf_k_layer1_gr_inst:0_ptype:gr_pstyle:m_i:0_j:1_x:375.00_y:9875.00_zone:1   \n",
       "pname:npf_k_layer1_gr_inst:0_ptype:gr_pstyle:m_i:0_j:2_x:625.00_y:9875.00_zone:1    pname:npf_k_layer1_gr_inst:0_ptype:gr_pstyle:m_i:0_j:2_x:625.00_y:9875.00_zone:1   \n",
       "pname:npf_k_layer1_gr_inst:0_ptype:gr_pstyle:m_i:0_j:3_x:875.00_y:9875.00_zone:1    pname:npf_k_layer1_gr_inst:0_ptype:gr_pstyle:m_i:0_j:3_x:875.00_y:9875.00_zone:1   \n",
       "pname:npf_k_layer1_gr_inst:0_ptype:gr_pstyle:m_i:0_j:4_x:1125.00_y:9875.00_zone:1  pname:npf_k_layer1_gr_inst:0_ptype:gr_pstyle:m_i:0_j:4_x:1125.00_y:9875.00_zone:1   \n",
       "\n",
       "                                                                                   parval1  \\\n",
       "pname:npf_k_layer1_gr_inst:0_ptype:gr_pstyle:m_i:0_j:0_x:125.00_y:9875.00_zone:1       1.0   \n",
       "pname:npf_k_layer1_gr_inst:0_ptype:gr_pstyle:m_i:0_j:1_x:375.00_y:9875.00_zone:1       1.0   \n",
       "pname:npf_k_layer1_gr_inst:0_ptype:gr_pstyle:m_i:0_j:2_x:625.00_y:9875.00_zone:1       1.0   \n",
       "pname:npf_k_layer1_gr_inst:0_ptype:gr_pstyle:m_i:0_j:3_x:875.00_y:9875.00_zone:1       1.0   \n",
       "pname:npf_k_layer1_gr_inst:0_ptype:gr_pstyle:m_i:0_j:4_x:1125.00_y:9875.00_zone:1      1.0   \n",
       "\n",
       "                                                                                   i  \\\n",
       "pname:npf_k_layer1_gr_inst:0_ptype:gr_pstyle:m_i:0_j:0_x:125.00_y:9875.00_zone:1   0   \n",
       "pname:npf_k_layer1_gr_inst:0_ptype:gr_pstyle:m_i:0_j:1_x:375.00_y:9875.00_zone:1   0   \n",
       "pname:npf_k_layer1_gr_inst:0_ptype:gr_pstyle:m_i:0_j:2_x:625.00_y:9875.00_zone:1   0   \n",
       "pname:npf_k_layer1_gr_inst:0_ptype:gr_pstyle:m_i:0_j:3_x:875.00_y:9875.00_zone:1   0   \n",
       "pname:npf_k_layer1_gr_inst:0_ptype:gr_pstyle:m_i:0_j:4_x:1125.00_y:9875.00_zone:1  0   \n",
       "\n",
       "                                                                                   j  \\\n",
       "pname:npf_k_layer1_gr_inst:0_ptype:gr_pstyle:m_i:0_j:0_x:125.00_y:9875.00_zone:1   0   \n",
       "pname:npf_k_layer1_gr_inst:0_ptype:gr_pstyle:m_i:0_j:1_x:375.00_y:9875.00_zone:1   1   \n",
       "pname:npf_k_layer1_gr_inst:0_ptype:gr_pstyle:m_i:0_j:2_x:625.00_y:9875.00_zone:1   2   \n",
       "pname:npf_k_layer1_gr_inst:0_ptype:gr_pstyle:m_i:0_j:3_x:875.00_y:9875.00_zone:1   3   \n",
       "pname:npf_k_layer1_gr_inst:0_ptype:gr_pstyle:m_i:0_j:4_x:1125.00_y:9875.00_zone:1  4   \n",
       "\n",
       "                                                                                        x  \\\n",
       "pname:npf_k_layer1_gr_inst:0_ptype:gr_pstyle:m_i:0_j:0_x:125.00_y:9875.00_zone:1    125.0   \n",
       "pname:npf_k_layer1_gr_inst:0_ptype:gr_pstyle:m_i:0_j:1_x:375.00_y:9875.00_zone:1    375.0   \n",
       "pname:npf_k_layer1_gr_inst:0_ptype:gr_pstyle:m_i:0_j:2_x:625.00_y:9875.00_zone:1    625.0   \n",
       "pname:npf_k_layer1_gr_inst:0_ptype:gr_pstyle:m_i:0_j:3_x:875.00_y:9875.00_zone:1    875.0   \n",
       "pname:npf_k_layer1_gr_inst:0_ptype:gr_pstyle:m_i:0_j:4_x:1125.00_y:9875.00_zone:1  1125.0   \n",
       "\n",
       "                                                                                        y  \\\n",
       "pname:npf_k_layer1_gr_inst:0_ptype:gr_pstyle:m_i:0_j:0_x:125.00_y:9875.00_zone:1   9875.0   \n",
       "pname:npf_k_layer1_gr_inst:0_ptype:gr_pstyle:m_i:0_j:1_x:375.00_y:9875.00_zone:1   9875.0   \n",
       "pname:npf_k_layer1_gr_inst:0_ptype:gr_pstyle:m_i:0_j:2_x:625.00_y:9875.00_zone:1   9875.0   \n",
       "pname:npf_k_layer1_gr_inst:0_ptype:gr_pstyle:m_i:0_j:3_x:875.00_y:9875.00_zone:1   9875.0   \n",
       "pname:npf_k_layer1_gr_inst:0_ptype:gr_pstyle:m_i:0_j:4_x:1125.00_y:9875.00_zone:1  9875.0   \n",
       "\n",
       "                                                                                             pargp  \\\n",
       "pname:npf_k_layer1_gr_inst:0_ptype:gr_pstyle:m_i:0_j:0_x:125.00_y:9875.00_zone:1   npf_k_layer1_gr   \n",
       "pname:npf_k_layer1_gr_inst:0_ptype:gr_pstyle:m_i:0_j:1_x:375.00_y:9875.00_zone:1   npf_k_layer1_gr   \n",
       "pname:npf_k_layer1_gr_inst:0_ptype:gr_pstyle:m_i:0_j:2_x:625.00_y:9875.00_zone:1   npf_k_layer1_gr   \n",
       "pname:npf_k_layer1_gr_inst:0_ptype:gr_pstyle:m_i:0_j:3_x:875.00_y:9875.00_zone:1   npf_k_layer1_gr   \n",
       "pname:npf_k_layer1_gr_inst:0_ptype:gr_pstyle:m_i:0_j:4_x:1125.00_y:9875.00_zone:1  npf_k_layer1_gr   \n",
       "\n",
       "                                                                                                                            tpl_filename  \\\n",
       "pname:npf_k_layer1_gr_inst:0_ptype:gr_pstyle:m_i:0_j:0_x:125.00_y:9875.00_zone:1   freyberg6_template\\npf_k_layer1_gr_inst0_grid.csv.tpl   \n",
       "pname:npf_k_layer1_gr_inst:0_ptype:gr_pstyle:m_i:0_j:1_x:375.00_y:9875.00_zone:1   freyberg6_template\\npf_k_layer1_gr_inst0_grid.csv.tpl   \n",
       "pname:npf_k_layer1_gr_inst:0_ptype:gr_pstyle:m_i:0_j:2_x:625.00_y:9875.00_zone:1   freyberg6_template\\npf_k_layer1_gr_inst0_grid.csv.tpl   \n",
       "pname:npf_k_layer1_gr_inst:0_ptype:gr_pstyle:m_i:0_j:3_x:875.00_y:9875.00_zone:1   freyberg6_template\\npf_k_layer1_gr_inst0_grid.csv.tpl   \n",
       "pname:npf_k_layer1_gr_inst:0_ptype:gr_pstyle:m_i:0_j:4_x:1125.00_y:9875.00_zone:1  freyberg6_template\\npf_k_layer1_gr_inst0_grid.csv.tpl   \n",
       "\n",
       "                                                                                                                           input_filename  \\\n",
       "pname:npf_k_layer1_gr_inst:0_ptype:gr_pstyle:m_i:0_j:0_x:125.00_y:9875.00_zone:1   freyberg6_template\\mult\\npf_k_layer1_gr_inst0_grid.csv   \n",
       "pname:npf_k_layer1_gr_inst:0_ptype:gr_pstyle:m_i:0_j:1_x:375.00_y:9875.00_zone:1   freyberg6_template\\mult\\npf_k_layer1_gr_inst0_grid.csv   \n",
       "pname:npf_k_layer1_gr_inst:0_ptype:gr_pstyle:m_i:0_j:2_x:625.00_y:9875.00_zone:1   freyberg6_template\\mult\\npf_k_layer1_gr_inst0_grid.csv   \n",
       "pname:npf_k_layer1_gr_inst:0_ptype:gr_pstyle:m_i:0_j:3_x:875.00_y:9875.00_zone:1   freyberg6_template\\mult\\npf_k_layer1_gr_inst0_grid.csv   \n",
       "pname:npf_k_layer1_gr_inst:0_ptype:gr_pstyle:m_i:0_j:4_x:1125.00_y:9875.00_zone:1  freyberg6_template\\mult\\npf_k_layer1_gr_inst0_grid.csv   \n",
       "\n",
       "                                                                                  partype  \\\n",
       "pname:npf_k_layer1_gr_inst:0_ptype:gr_pstyle:m_i:0_j:0_x:125.00_y:9875.00_zone:1     grid   \n",
       "pname:npf_k_layer1_gr_inst:0_ptype:gr_pstyle:m_i:0_j:1_x:375.00_y:9875.00_zone:1     grid   \n",
       "pname:npf_k_layer1_gr_inst:0_ptype:gr_pstyle:m_i:0_j:2_x:625.00_y:9875.00_zone:1     grid   \n",
       "pname:npf_k_layer1_gr_inst:0_ptype:gr_pstyle:m_i:0_j:3_x:875.00_y:9875.00_zone:1     grid   \n",
       "pname:npf_k_layer1_gr_inst:0_ptype:gr_pstyle:m_i:0_j:4_x:1125.00_y:9875.00_zone:1    grid   \n",
       "\n",
       "                                                                                  partrans  \\\n",
       "pname:npf_k_layer1_gr_inst:0_ptype:gr_pstyle:m_i:0_j:0_x:125.00_y:9875.00_zone:1       log   \n",
       "pname:npf_k_layer1_gr_inst:0_ptype:gr_pstyle:m_i:0_j:1_x:375.00_y:9875.00_zone:1       log   \n",
       "pname:npf_k_layer1_gr_inst:0_ptype:gr_pstyle:m_i:0_j:2_x:625.00_y:9875.00_zone:1       log   \n",
       "pname:npf_k_layer1_gr_inst:0_ptype:gr_pstyle:m_i:0_j:3_x:875.00_y:9875.00_zone:1       log   \n",
       "pname:npf_k_layer1_gr_inst:0_ptype:gr_pstyle:m_i:0_j:4_x:1125.00_y:9875.00_zone:1      log   \n",
       "\n",
       "                                                                                   parubnd  \\\n",
       "pname:npf_k_layer1_gr_inst:0_ptype:gr_pstyle:m_i:0_j:0_x:125.00_y:9875.00_zone:1       5.0   \n",
       "pname:npf_k_layer1_gr_inst:0_ptype:gr_pstyle:m_i:0_j:1_x:375.00_y:9875.00_zone:1       5.0   \n",
       "pname:npf_k_layer1_gr_inst:0_ptype:gr_pstyle:m_i:0_j:2_x:625.00_y:9875.00_zone:1       5.0   \n",
       "pname:npf_k_layer1_gr_inst:0_ptype:gr_pstyle:m_i:0_j:3_x:875.00_y:9875.00_zone:1       5.0   \n",
       "pname:npf_k_layer1_gr_inst:0_ptype:gr_pstyle:m_i:0_j:4_x:1125.00_y:9875.00_zone:1      5.0   \n",
       "\n",
       "                                                                                   parlbnd  \\\n",
       "pname:npf_k_layer1_gr_inst:0_ptype:gr_pstyle:m_i:0_j:0_x:125.00_y:9875.00_zone:1       0.2   \n",
       "pname:npf_k_layer1_gr_inst:0_ptype:gr_pstyle:m_i:0_j:1_x:375.00_y:9875.00_zone:1       0.2   \n",
       "pname:npf_k_layer1_gr_inst:0_ptype:gr_pstyle:m_i:0_j:2_x:625.00_y:9875.00_zone:1       0.2   \n",
       "pname:npf_k_layer1_gr_inst:0_ptype:gr_pstyle:m_i:0_j:3_x:875.00_y:9875.00_zone:1       0.2   \n",
       "pname:npf_k_layer1_gr_inst:0_ptype:gr_pstyle:m_i:0_j:4_x:1125.00_y:9875.00_zone:1      0.2   \n",
       "\n",
       "                                                                                   offset  \\\n",
       "pname:npf_k_layer1_gr_inst:0_ptype:gr_pstyle:m_i:0_j:0_x:125.00_y:9875.00_zone:1      0.0   \n",
       "pname:npf_k_layer1_gr_inst:0_ptype:gr_pstyle:m_i:0_j:1_x:375.00_y:9875.00_zone:1      0.0   \n",
       "pname:npf_k_layer1_gr_inst:0_ptype:gr_pstyle:m_i:0_j:2_x:625.00_y:9875.00_zone:1      0.0   \n",
       "pname:npf_k_layer1_gr_inst:0_ptype:gr_pstyle:m_i:0_j:3_x:875.00_y:9875.00_zone:1      0.0   \n",
       "pname:npf_k_layer1_gr_inst:0_ptype:gr_pstyle:m_i:0_j:4_x:1125.00_y:9875.00_zone:1     0.0   \n",
       "\n",
       "                                                                                   dercom  \\\n",
       "pname:npf_k_layer1_gr_inst:0_ptype:gr_pstyle:m_i:0_j:0_x:125.00_y:9875.00_zone:1        1   \n",
       "pname:npf_k_layer1_gr_inst:0_ptype:gr_pstyle:m_i:0_j:1_x:375.00_y:9875.00_zone:1        1   \n",
       "pname:npf_k_layer1_gr_inst:0_ptype:gr_pstyle:m_i:0_j:2_x:625.00_y:9875.00_zone:1        1   \n",
       "pname:npf_k_layer1_gr_inst:0_ptype:gr_pstyle:m_i:0_j:3_x:875.00_y:9875.00_zone:1        1   \n",
       "pname:npf_k_layer1_gr_inst:0_ptype:gr_pstyle:m_i:0_j:4_x:1125.00_y:9875.00_zone:1       1   \n",
       "\n",
       "                                                                                  parchglim  \\\n",
       "pname:npf_k_layer1_gr_inst:0_ptype:gr_pstyle:m_i:0_j:0_x:125.00_y:9875.00_zone:1     factor   \n",
       "pname:npf_k_layer1_gr_inst:0_ptype:gr_pstyle:m_i:0_j:1_x:375.00_y:9875.00_zone:1     factor   \n",
       "pname:npf_k_layer1_gr_inst:0_ptype:gr_pstyle:m_i:0_j:2_x:625.00_y:9875.00_zone:1     factor   \n",
       "pname:npf_k_layer1_gr_inst:0_ptype:gr_pstyle:m_i:0_j:3_x:875.00_y:9875.00_zone:1     factor   \n",
       "pname:npf_k_layer1_gr_inst:0_ptype:gr_pstyle:m_i:0_j:4_x:1125.00_y:9875.00_zone:1    factor   \n",
       "\n",
       "                                                                                   scale  \n",
       "pname:npf_k_layer1_gr_inst:0_ptype:gr_pstyle:m_i:0_j:0_x:125.00_y:9875.00_zone:1     1.0  \n",
       "pname:npf_k_layer1_gr_inst:0_ptype:gr_pstyle:m_i:0_j:1_x:375.00_y:9875.00_zone:1     1.0  \n",
       "pname:npf_k_layer1_gr_inst:0_ptype:gr_pstyle:m_i:0_j:2_x:625.00_y:9875.00_zone:1     1.0  \n",
       "pname:npf_k_layer1_gr_inst:0_ptype:gr_pstyle:m_i:0_j:3_x:875.00_y:9875.00_zone:1     1.0  \n",
       "pname:npf_k_layer1_gr_inst:0_ptype:gr_pstyle:m_i:0_j:4_x:1125.00_y:9875.00_zone:1    1.0  "
      ]
     },
     "execution_count": 21,
     "metadata": {},
     "output_type": "execute_result"
    }
   ],
   "source": [
    "df_gr.head()"
   ]
  },
  {
   "cell_type": "markdown",
   "metadata": {},
   "source": [
    "Now, we add pilot point (medium scale) multiplier parameters to the same model input file. These multipliers are assigned to pilot points, which are subsequently interpolated to values in the array.\n",
    "\n",
    "You can add pilot points in two ways:\n",
    "\n",
    "1. `PstFrom` can generate them for you on a regular grid or \n",
    "2. you can supply `PstFrom` with existing pilot point location information. \n",
    "\n",
    "When you change `par_type` to \"pilotpoints\", by default, a regular grid of pilot points is setup using a default `pp_space` value of 10 (which is every 10th row and column). You can chnge this spacing by passing a integer to `pp_space` (as demonstrated below). \n",
    "\n",
    "Alternatively you can specify a filename or dataframe with pilot point locations. If you supply `pp_space` as a `str` it is assumed to be a filename. The extension is the guide: \".csv\" for dataframe, \".shp\" for shapefile (point-type). Anything else and the file is assumed to be a pilot points file type. The dataframe (or .csv file) must have \"name\", \"x\", and \"y\" as columns - it can have more, but must have those. "
   ]
  },
  {
   "cell_type": "code",
   "execution_count": 22,
   "metadata": {
    "execution": {
     "iopub.execute_input": "2022-03-17T02:52:03.055290Z",
     "iopub.status.busy": "2022-03-17T02:52:03.054292Z",
     "iopub.status.idle": "2022-03-17T02:52:21.151277Z",
     "shell.execute_reply": "2022-03-17T02:52:21.151277Z"
    }
   },
   "outputs": [
    {
     "name": "stdout",
     "output_type": "stream",
     "text": [
      "2022-03-17 13:22:03.052346 starting: adding pilotpoints type m style parameters for file(s) ['freyberg6.npf_k_layer1.txt']\n",
      "2022-03-17 13:22:03.053295 starting: loading array freyberg6_template\\freyberg6.npf_k_layer1.txt\n",
      "2022-03-17 13:22:03.054292 finished: loading array freyberg6_template\\freyberg6.npf_k_layer1.txt took: 0:00:00.000997\n",
      "2022-03-17 13:22:03.054292 loaded array 'freyberg_mf6\\freyberg6.npf_k_layer1.txt' of shape (40, 20)\n",
      "2022-03-17 13:22:03.056287 starting: writing array-style template file 'freyberg6_template\\npf_k_layer1_pp_inst0_pilotpoints.csv.tpl'\n",
      "2022-03-17 13:22:03.056287 starting: setting up pilot point parameters\n",
      "2022-03-17 13:22:03.056287 No spatial reference (containing cell spacing) passed.\n",
      "2022-03-17 13:22:03.056287 OK - using spatial reference in parent object.\n",
      "2022-03-17 13:22:03.185438 32 pilot point parameters created\n",
      "2022-03-17 13:22:03.185438 pilot point 'pargp':npf_k_layer1_pp\n"
     ]
    },
    {
     "name": "stdout",
     "output_type": "stream",
     "text": [
      "2022-03-17 13:22:03.185438 finished: setting up pilot point parameters took: 0:00:00.129151\n",
      "2022-03-17 13:22:03.192387 starting: calculating factors for pargp=npf_k_layer1_pp\n",
      "2022-03-17 13:22:03.193383 saving krige variance file:freyberg6_template\\npf_k_layer1_pp_inst0pp.var.dat\n",
      "2022-03-17 13:22:03.193383 saving krige factors file:freyberg6_template\\npf_k_layer1_pp_inst0pp.fac\n",
      "starting interp point loop for 706 points\n"
     ]
    },
    {
     "name": "stdout",
     "output_type": "stream",
     "text": [
      "starting 0\n"
     ]
    },
    {
     "name": "stdout",
     "output_type": "stream",
     "text": [
      "starting 1\n"
     ]
    },
    {
     "name": "stdout",
     "output_type": "stream",
     "text": [
      "starting 2\n"
     ]
    },
    {
     "name": "stdout",
     "output_type": "stream",
     "text": [
      "starting 3\n"
     ]
    },
    {
     "name": "stdout",
     "output_type": "stream",
     "text": [
      "starting 4\n"
     ]
    },
    {
     "name": "stdout",
     "output_type": "stream",
     "text": [
      "starting 5\n"
     ]
    },
    {
     "name": "stdout",
     "output_type": "stream",
     "text": [
      "starting 6\n"
     ]
    },
    {
     "name": "stdout",
     "output_type": "stream",
     "text": [
      "starting 7\n"
     ]
    },
    {
     "name": "stdout",
     "output_type": "stream",
     "text": [
      "starting 8\n"
     ]
    },
    {
     "name": "stdout",
     "output_type": "stream",
     "text": [
      "starting 9\n"
     ]
    },
    {
     "name": "stdout",
     "output_type": "stream",
     "text": [
      "took 17.901046 seconds\n",
      "2022-03-17 13:22:21.141304 finished: calculating factors for pargp=npf_k_layer1_pp took: 0:00:17.948917\n",
      "2022-03-17 13:22:21.141304 starting: writing array-based template file 'freyberg6_template\\npf_k_layer1_pp_inst0pp.dat.tpl'\n",
      "2022-03-17 13:22:21.141304 saving zone array freyberg6_template\\npf_k_layer1_pp_inst0pp.dat.zone for tpl file freyberg6_template\\npf_k_layer1_pp_inst0pp.dat.tpl\n",
      "2022-03-17 13:22:21.146290 finished: adding pilotpoints type m style parameters for file(s) ['freyberg6.npf_k_layer1.txt'] took: 0:00:18.093944\n"
     ]
    }
   ],
   "source": [
    "# pilot point (medium) scale parameters\n",
    "df_pp = pf.add_parameters(f,\n",
    "                    zone_array=ib,\n",
    "                    par_type=\"pilotpoints\",\n",
    "                    geostruct=grid_gs,\n",
    "                    par_name_base=f.split('.')[1]+\"_pp\",\n",
    "                    pargp=f.split('.')[1]+\"_pp\",\n",
    "                    lower_bound=0.2,upper_bound=5.0,\n",
    "                    ult_ubound=100, ult_lbound=0.01,\n",
    "                    pp_space=4) # `PstFrom` will generate a unifrom grid of pilot points in every 4th row and column"
   ]
  },
  {
   "cell_type": "markdown",
   "metadata": {},
   "source": [
    "Lastly, add the constant (coarse) parameter multiplier. This is a single multiplier value applied to all values in the array. "
   ]
  },
  {
   "cell_type": "code",
   "execution_count": 23,
   "metadata": {
    "execution": {
     "iopub.execute_input": "2022-03-17T02:52:21.155266Z",
     "iopub.status.busy": "2022-03-17T02:52:21.155266Z",
     "iopub.status.idle": "2022-03-17T02:52:21.176210Z",
     "shell.execute_reply": "2022-03-17T02:52:21.175213Z"
    }
   },
   "outputs": [
    {
     "name": "stdout",
     "output_type": "stream",
     "text": [
      "2022-03-17 13:22:21.154269 starting: adding constant type m style parameters for file(s) ['freyberg6.npf_k_layer1.txt']\n",
      "2022-03-17 13:22:21.154269 starting: loading array freyberg6_template\\freyberg6.npf_k_layer1.txt\n",
      "2022-03-17 13:22:21.156263 finished: loading array freyberg6_template\\freyberg6.npf_k_layer1.txt took: 0:00:00.001994\n",
      "2022-03-17 13:22:21.156263 loaded array 'freyberg_mf6\\freyberg6.npf_k_layer1.txt' of shape (40, 20)\n",
      "2022-03-17 13:22:21.158258 starting: writing array-style template file 'freyberg6_template\\npf_k_layer1_cn_inst0_constant.csv.tpl'\n",
      "2022-03-17 13:22:21.158258 starting: writing template file freyberg6_template\\npf_k_layer1_cn_inst0_constant.csv.tpl for ['npf_k_layer1_cn_inst:0']\n",
      "2022-03-17 13:22:21.165240 finished: writing template file freyberg6_template\\npf_k_layer1_cn_inst0_constant.csv.tpl for ['npf_k_layer1_cn_inst:0'] took: 0:00:00.006982\n",
      "2022-03-17 13:22:21.165240 starting: writing array-based template file 'freyberg6_template\\npf_k_layer1_cn_inst0_constant.csv.tpl'\n",
      "2022-03-17 13:22:21.165240 saving zone array freyberg6_template\\npf_k_layer1_cn_inst0_constant.csv.zone for tpl file freyberg6_template\\npf_k_layer1_cn_inst0_constant.csv.tpl\n",
      "2022-03-17 13:22:21.171223 finished: adding constant type m style parameters for file(s) ['freyberg6.npf_k_layer1.txt'] took: 0:00:00.016954\n"
     ]
    }
   ],
   "source": [
    "# constant (coarse) scale parameters\n",
    "df_cst = pf.add_parameters(f,\n",
    "                    zone_array=ib,\n",
    "                    par_type=\"constant\",\n",
    "                    geostruct=grid_gs,\n",
    "                    par_name_base=f.split('.')[1]+\"_cn\",\n",
    "                    pargp=f.split('.')[1]+\"_cn\",\n",
    "                    lower_bound=0.2,upper_bound=5.0,\n",
    "                    ult_ubound=100, ult_lbound=0.01)"
   ]
  },
  {
   "cell_type": "markdown",
   "metadata": {},
   "source": [
    "Let's do that for Kh in the other layers. We are going to be doing this a few times, so lets write a function."
   ]
  },
  {
   "cell_type": "code",
   "execution_count": 24,
   "metadata": {
    "execution": {
     "iopub.execute_input": "2022-03-17T02:52:21.183191Z",
     "iopub.status.busy": "2022-03-17T02:52:21.182194Z",
     "iopub.status.idle": "2022-03-17T02:52:21.185188Z",
     "shell.execute_reply": "2022-03-17T02:52:21.185188Z"
    }
   },
   "outputs": [],
   "source": [
    "def add_mult_pars(f, lb=0.2, ub=5.0, ulb=0.01, uub=100):\n",
    "    # grid (fine) scale parameters\n",
    "    pf.add_parameters(f,\n",
    "                    zone_array=ib,\n",
    "                    par_type=\"grid\", #specify the type, these will be unique parameters for each cell\n",
    "                    geostruct=grid_gs, # the gestatisical structure for spatial correlation \n",
    "                    par_name_base=f.split('.')[1]+\"_gr\", #specify a parameter name base that allows us to easily identify the filename and parameter type. \"_gr\" for \"grid\", and so forth.\n",
    "                    pargp=f.split('.')[1]+\"_gr\", #likewise for the parameter group name\n",
    "                    lower_bound=lb, upper_bound=ub, #parameter lower and upper bound\n",
    "                    ult_ubound=uub, ult_lbound=ulb # The ultimate bounds for multiplied model input values. Here we are stating that, after accounting for all multipliers, Kh cannot exceed these values. Very important with multipliers\n",
    "                    )\n",
    "                    \n",
    "    # pilot point (medium) scale parameters\n",
    "    pf.add_parameters(f,\n",
    "                        zone_array=ib,\n",
    "                        par_type=\"pilotpoints\",\n",
    "                        geostruct=grid_gs,\n",
    "                        par_name_base=f.split('.')[1]+\"_pp\",\n",
    "                        pargp=f.split('.')[1]+\"_pp\",\n",
    "                        lower_bound=lb, upper_bound=ub,\n",
    "                        ult_ubound=uub, ult_lbound=ulb,\n",
    "                        pp_space=4) # `PstFrom` will generate a unifrom grid of pilot points in every 4th row and column\n",
    "\n",
    "    # constant (coarse) scale parameters\n",
    "    pf.add_parameters(f,\n",
    "                        zone_array=ib,\n",
    "                        par_type=\"constant\",\n",
    "                        geostruct=grid_gs,\n",
    "                        par_name_base=f.split('.')[1]+\"_cn\",\n",
    "                        pargp=f.split('.')[1]+\"_cn\",\n",
    "                        lower_bound=lb, upper_bound=ub,\n",
    "                        ult_ubound=uub, ult_lbound=ulb)\n",
    "    return"
   ]
  },
  {
   "cell_type": "code",
   "execution_count": 25,
   "metadata": {
    "execution": {
     "iopub.execute_input": "2022-03-17T02:52:21.189177Z",
     "iopub.status.busy": "2022-03-17T02:52:21.188179Z",
     "iopub.status.idle": "2022-03-17T02:52:21.489373Z",
     "shell.execute_reply": "2022-03-17T02:52:21.489373Z"
    }
   },
   "outputs": [
    {
     "name": "stdout",
     "output_type": "stream",
     "text": [
      "2022-03-17 13:22:21.187182 starting: adding grid type m style parameters for file(s) ['freyberg6.npf_k_layer2.txt']\n",
      "2022-03-17 13:22:21.188179 starting: loading array freyberg6_template\\freyberg6.npf_k_layer2.txt\n",
      "2022-03-17 13:22:21.195160 finished: loading array freyberg6_template\\freyberg6.npf_k_layer2.txt took: 0:00:00.006981\n",
      "2022-03-17 13:22:21.195160 loaded array 'freyberg_mf6\\freyberg6.npf_k_layer2.txt' of shape (40, 20)\n",
      "2022-03-17 13:22:21.197154 starting: writing array-style template file 'freyberg6_template\\npf_k_layer2_gr_inst0_grid.csv.tpl'\n",
      "2022-03-17 13:22:21.198153 starting: writing template file freyberg6_template\\npf_k_layer2_gr_inst0_grid.csv.tpl for ['npf_k_layer2_gr_inst:0']\n",
      "2022-03-17 13:22:21.211117 finished: writing template file freyberg6_template\\npf_k_layer2_gr_inst0_grid.csv.tpl for ['npf_k_layer2_gr_inst:0'] took: 0:00:00.012964\n",
      "2022-03-17 13:22:21.211117 starting: writing array-based template file 'freyberg6_template\\npf_k_layer2_gr_inst0_grid.csv.tpl'\n",
      "2022-03-17 13:22:21.211117 saving zone array freyberg6_template\\npf_k_layer2_gr_inst0_grid.csv.zone for tpl file freyberg6_template\\npf_k_layer2_gr_inst0_grid.csv.tpl\n",
      "2022-03-17 13:22:21.218098 finished: adding grid type m style parameters for file(s) ['freyberg6.npf_k_layer2.txt'] took: 0:00:00.030916\n",
      "2022-03-17 13:22:21.219095 starting: adding pilotpoints type m style parameters for file(s) ['freyberg6.npf_k_layer2.txt']\n",
      "2022-03-17 13:22:21.219095 starting: loading array freyberg6_template\\freyberg6.npf_k_layer2.txt\n",
      "2022-03-17 13:22:21.220093 finished: loading array freyberg6_template\\freyberg6.npf_k_layer2.txt took: 0:00:00.000998\n",
      "2022-03-17 13:22:21.220093 loaded array 'freyberg_mf6\\freyberg6.npf_k_layer2.txt' of shape (40, 20)\n",
      "2022-03-17 13:22:21.222088 starting: writing array-style template file 'freyberg6_template\\npf_k_layer2_pp_inst0_pilotpoints.csv.tpl'\n",
      "2022-03-17 13:22:21.222088 starting: setting up pilot point parameters\n",
      "2022-03-17 13:22:21.222088 No spatial reference (containing cell spacing) passed.\n",
      "2022-03-17 13:22:21.222088 OK - using spatial reference in parent object.\n",
      "2022-03-17 13:22:21.292898 32 pilot point parameters created\n",
      "2022-03-17 13:22:21.292898 pilot point 'pargp':npf_k_layer2_pp\n"
     ]
    },
    {
     "name": "stdout",
     "output_type": "stream",
     "text": [
      "2022-03-17 13:22:21.293896 finished: setting up pilot point parameters took: 0:00:00.071808\n",
      "2022-03-17 13:22:21.300877 starting: writing array-based template file 'freyberg6_template\\npf_k_layer2_pp_inst0pp.dat.tpl'\n",
      "2022-03-17 13:22:21.300877 saving zone array freyberg6_template\\npf_k_layer2_pp_inst0pp.dat.zone for tpl file freyberg6_template\\npf_k_layer2_pp_inst0pp.dat.tpl\n",
      "2022-03-17 13:22:21.337778 finished: adding pilotpoints type m style parameters for file(s) ['freyberg6.npf_k_layer2.txt'] took: 0:00:00.118683\n",
      "2022-03-17 13:22:21.337778 starting: adding constant type m style parameters for file(s) ['freyberg6.npf_k_layer2.txt']\n",
      "2022-03-17 13:22:21.337778 starting: loading array freyberg6_template\\freyberg6.npf_k_layer2.txt\n"
     ]
    },
    {
     "name": "stdout",
     "output_type": "stream",
     "text": [
      "2022-03-17 13:22:21.339773 finished: loading array freyberg6_template\\freyberg6.npf_k_layer2.txt took: 0:00:00.001995\n",
      "2022-03-17 13:22:21.339773 loaded array 'freyberg_mf6\\freyberg6.npf_k_layer2.txt' of shape (40, 20)\n",
      "2022-03-17 13:22:21.341767 starting: writing array-style template file 'freyberg6_template\\npf_k_layer2_cn_inst0_constant.csv.tpl'\n",
      "2022-03-17 13:22:21.341767 starting: writing template file freyberg6_template\\npf_k_layer2_cn_inst0_constant.csv.tpl for ['npf_k_layer2_cn_inst:0']\n",
      "2022-03-17 13:22:21.349746 finished: writing template file freyberg6_template\\npf_k_layer2_cn_inst0_constant.csv.tpl for ['npf_k_layer2_cn_inst:0'] took: 0:00:00.007979\n",
      "2022-03-17 13:22:21.349746 starting: writing array-based template file 'freyberg6_template\\npf_k_layer2_cn_inst0_constant.csv.tpl'\n",
      "2022-03-17 13:22:21.349746 saving zone array freyberg6_template\\npf_k_layer2_cn_inst0_constant.csv.zone for tpl file freyberg6_template\\npf_k_layer2_cn_inst0_constant.csv.tpl\n",
      "2022-03-17 13:22:21.355730 finished: adding constant type m style parameters for file(s) ['freyberg6.npf_k_layer2.txt'] took: 0:00:00.017952\n",
      "2022-03-17 13:22:21.355730 starting: adding grid type m style parameters for file(s) ['freyberg6.npf_k_layer3.txt']\n",
      "2022-03-17 13:22:21.355730 starting: loading array freyberg6_template\\freyberg6.npf_k_layer3.txt\n",
      "2022-03-17 13:22:21.362711 finished: loading array freyberg6_template\\freyberg6.npf_k_layer3.txt took: 0:00:00.006981\n"
     ]
    },
    {
     "name": "stdout",
     "output_type": "stream",
     "text": [
      "2022-03-17 13:22:21.362711 loaded array 'freyberg_mf6\\freyberg6.npf_k_layer3.txt' of shape (40, 20)\n",
      "2022-03-17 13:22:21.364706 starting: writing array-style template file 'freyberg6_template\\npf_k_layer3_gr_inst0_grid.csv.tpl'\n",
      "2022-03-17 13:22:21.364706 starting: writing template file freyberg6_template\\npf_k_layer3_gr_inst0_grid.csv.tpl for ['npf_k_layer3_gr_inst:0']\n",
      "2022-03-17 13:22:21.377671 finished: writing template file freyberg6_template\\npf_k_layer3_gr_inst0_grid.csv.tpl for ['npf_k_layer3_gr_inst:0'] took: 0:00:00.012965\n",
      "2022-03-17 13:22:21.377671 starting: writing array-based template file 'freyberg6_template\\npf_k_layer3_gr_inst0_grid.csv.tpl'\n",
      "2022-03-17 13:22:21.377671 saving zone array freyberg6_template\\npf_k_layer3_gr_inst0_grid.csv.zone for tpl file freyberg6_template\\npf_k_layer3_gr_inst0_grid.csv.tpl\n",
      "2022-03-17 13:22:21.384653 finished: adding grid type m style parameters for file(s) ['freyberg6.npf_k_layer3.txt'] took: 0:00:00.028923\n",
      "2022-03-17 13:22:21.384653 starting: adding pilotpoints type m style parameters for file(s) ['freyberg6.npf_k_layer3.txt']\n",
      "2022-03-17 13:22:21.385650 starting: loading array freyberg6_template\\freyberg6.npf_k_layer3.txt\n",
      "2022-03-17 13:22:21.386647 finished: loading array freyberg6_template\\freyberg6.npf_k_layer3.txt took: 0:00:00.000997\n",
      "2022-03-17 13:22:21.386647 loaded array 'freyberg_mf6\\freyberg6.npf_k_layer3.txt' of shape (40, 20)\n",
      "2022-03-17 13:22:21.388642 starting: writing array-style template file 'freyberg6_template\\npf_k_layer3_pp_inst0_pilotpoints.csv.tpl'\n",
      "2022-03-17 13:22:21.388642 starting: setting up pilot point parameters\n",
      "2022-03-17 13:22:21.388642 No spatial reference (containing cell spacing) passed.\n",
      "2022-03-17 13:22:21.388642 OK - using spatial reference in parent object.\n",
      "2022-03-17 13:22:21.454467 32 pilot point parameters created\n",
      "2022-03-17 13:22:21.454467 pilot point 'pargp':npf_k_layer3_pp\n",
      "2022-03-17 13:22:21.455465 finished: setting up pilot point parameters took: 0:00:00.066823\n",
      "2022-03-17 13:22:21.461447 starting: writing array-based template file 'freyberg6_template\\npf_k_layer3_pp_inst0pp.dat.tpl'\n",
      "2022-03-17 13:22:21.462446 saving zone array freyberg6_template\\npf_k_layer3_pp_inst0pp.dat.zone for tpl file freyberg6_template\\npf_k_layer3_pp_inst0pp.dat.tpl\n",
      "2022-03-17 13:22:21.467432 finished: adding pilotpoints type m style parameters for file(s) ['freyberg6.npf_k_layer3.txt'] took: 0:00:00.082779\n",
      "2022-03-17 13:22:21.467432 starting: adding constant type m style parameters for file(s) ['freyberg6.npf_k_layer3.txt']\n",
      "2022-03-17 13:22:21.468430 starting: loading array freyberg6_template\\freyberg6.npf_k_layer3.txt\n",
      "2022-03-17 13:22:21.469427 finished: loading array freyberg6_template\\freyberg6.npf_k_layer3.txt took: 0:00:00.000997\n",
      "2022-03-17 13:22:21.469427 loaded array 'freyberg_mf6\\freyberg6.npf_k_layer3.txt' of shape (40, 20)\n",
      "2022-03-17 13:22:21.471420 starting: writing array-style template file 'freyberg6_template\\npf_k_layer3_cn_inst0_constant.csv.tpl'\n"
     ]
    },
    {
     "name": "stdout",
     "output_type": "stream",
     "text": [
      "2022-03-17 13:22:21.471420 starting: writing template file freyberg6_template\\npf_k_layer3_cn_inst0_constant.csv.tpl for ['npf_k_layer3_cn_inst:0']\n",
      "2022-03-17 13:22:21.479399 finished: writing template file freyberg6_template\\npf_k_layer3_cn_inst0_constant.csv.tpl for ['npf_k_layer3_cn_inst:0'] took: 0:00:00.007979\n",
      "2022-03-17 13:22:21.479399 starting: writing array-based template file 'freyberg6_template\\npf_k_layer3_cn_inst0_constant.csv.tpl'\n",
      "2022-03-17 13:22:21.479399 saving zone array freyberg6_template\\npf_k_layer3_cn_inst0_constant.csv.zone for tpl file freyberg6_template\\npf_k_layer3_cn_inst0_constant.csv.tpl\n",
      "2022-03-17 13:22:21.485383 finished: adding constant type m style parameters for file(s) ['freyberg6.npf_k_layer3.txt'] took: 0:00:00.017951\n"
     ]
    }
   ],
   "source": [
    "for f in files[1:]:\n",
    "    add_mult_pars(f, lb=0.2, ub=5.0, ulb=0.01, uub=100)"
   ]
  },
  {
   "cell_type": "markdown",
   "metadata": {},
   "source": [
    "Well...hot damn, wasn't that easy? Let's speed through the other array parameter files."
   ]
  },
  {
   "cell_type": "code",
   "execution_count": 26,
   "metadata": {
    "execution": {
     "iopub.execute_input": "2022-03-17T02:52:21.496354Z",
     "iopub.status.busy": "2022-03-17T02:52:21.495358Z",
     "iopub.status.idle": "2022-03-17T02:52:22.312715Z",
     "shell.execute_reply": "2022-03-17T02:52:22.311718Z"
    }
   },
   "outputs": [
    {
     "name": "stdout",
     "output_type": "stream",
     "text": [
      "2022-03-17 13:22:21.495358 starting: adding grid type m style parameters for file(s) ['freyberg6.npf_k33_layer1.txt']\n",
      "2022-03-17 13:22:21.496354 starting: loading array freyberg6_template\\freyberg6.npf_k33_layer1.txt\n",
      "2022-03-17 13:22:21.502339 finished: loading array freyberg6_template\\freyberg6.npf_k33_layer1.txt took: 0:00:00.005985\n",
      "2022-03-17 13:22:21.503336 loaded array 'freyberg_mf6\\freyberg6.npf_k33_layer1.txt' of shape (40, 20)\n",
      "2022-03-17 13:22:21.505331 starting: writing array-style template file 'freyberg6_template\\npf_k33_layer1_gr_inst0_grid.csv.tpl'\n",
      "2022-03-17 13:22:21.505331 starting: writing template file freyberg6_template\\npf_k33_layer1_gr_inst0_grid.csv.tpl for ['npf_k33_layer1_gr_inst:0']\n",
      "2022-03-17 13:22:21.517298 finished: writing template file freyberg6_template\\npf_k33_layer1_gr_inst0_grid.csv.tpl for ['npf_k33_layer1_gr_inst:0'] took: 0:00:00.011967\n",
      "2022-03-17 13:22:21.518297 starting: writing array-based template file 'freyberg6_template\\npf_k33_layer1_gr_inst0_grid.csv.tpl'\n"
     ]
    },
    {
     "name": "stdout",
     "output_type": "stream",
     "text": [
      "2022-03-17 13:22:21.518297 saving zone array freyberg6_template\\npf_k33_layer1_gr_inst0_grid.csv.zone for tpl file freyberg6_template\\npf_k33_layer1_gr_inst0_grid.csv.tpl\n",
      "2022-03-17 13:22:21.526274 finished: adding grid type m style parameters for file(s) ['freyberg6.npf_k33_layer1.txt'] took: 0:00:00.030916\n",
      "2022-03-17 13:22:21.526274 starting: adding pilotpoints type m style parameters for file(s) ['freyberg6.npf_k33_layer1.txt']\n",
      "2022-03-17 13:22:21.526274 starting: loading array freyberg6_template\\freyberg6.npf_k33_layer1.txt\n",
      "2022-03-17 13:22:21.528269 finished: loading array freyberg6_template\\freyberg6.npf_k33_layer1.txt took: 0:00:00.001995\n",
      "2022-03-17 13:22:21.528269 loaded array 'freyberg_mf6\\freyberg6.npf_k33_layer1.txt' of shape (40, 20)\n",
      "2022-03-17 13:22:21.530263 starting: writing array-style template file 'freyberg6_template\\npf_k33_layer1_pp_inst0_pilotpoints.csv.tpl'\n",
      "2022-03-17 13:22:21.530263 starting: setting up pilot point parameters\n",
      "2022-03-17 13:22:21.530263 No spatial reference (containing cell spacing) passed.\n",
      "2022-03-17 13:22:21.530263 OK - using spatial reference in parent object.\n"
     ]
    },
    {
     "name": "stdout",
     "output_type": "stream",
     "text": [
      "2022-03-17 13:22:21.598082 32 pilot point parameters created\n",
      "2022-03-17 13:22:21.598082 pilot point 'pargp':npf_k33_layer1_pp\n",
      "2022-03-17 13:22:21.598082 finished: setting up pilot point parameters took: 0:00:00.067819\n",
      "2022-03-17 13:22:21.605063 starting: writing array-based template file 'freyberg6_template\\npf_k33_layer1_pp_inst0pp.dat.tpl'\n",
      "2022-03-17 13:22:21.605063 saving zone array freyberg6_template\\npf_k33_layer1_pp_inst0pp.dat.zone for tpl file freyberg6_template\\npf_k33_layer1_pp_inst0pp.dat.tpl\n",
      "2022-03-17 13:22:21.611048 finished: adding pilotpoints type m style parameters for file(s) ['freyberg6.npf_k33_layer1.txt'] took: 0:00:00.084774\n",
      "2022-03-17 13:22:21.611048 starting: adding constant type m style parameters for file(s) ['freyberg6.npf_k33_layer1.txt']\n",
      "2022-03-17 13:22:21.611048 starting: loading array freyberg6_template\\freyberg6.npf_k33_layer1.txt\n",
      "2022-03-17 13:22:21.613042 finished: loading array freyberg6_template\\freyberg6.npf_k33_layer1.txt took: 0:00:00.001994\n",
      "2022-03-17 13:22:21.613042 loaded array 'freyberg_mf6\\freyberg6.npf_k33_layer1.txt' of shape (40, 20)\n",
      "2022-03-17 13:22:21.615037 starting: writing array-style template file 'freyberg6_template\\npf_k33_layer1_cn_inst0_constant.csv.tpl'\n",
      "2022-03-17 13:22:21.615037 starting: writing template file freyberg6_template\\npf_k33_layer1_cn_inst0_constant.csv.tpl for ['npf_k33_layer1_cn_inst:0']\n",
      "2022-03-17 13:22:21.622018 finished: writing template file freyberg6_template\\npf_k33_layer1_cn_inst0_constant.csv.tpl for ['npf_k33_layer1_cn_inst:0'] took: 0:00:00.006981\n",
      "2022-03-17 13:22:21.622018 starting: writing array-based template file 'freyberg6_template\\npf_k33_layer1_cn_inst0_constant.csv.tpl'\n",
      "2022-03-17 13:22:21.623015 saving zone array freyberg6_template\\npf_k33_layer1_cn_inst0_constant.csv.zone for tpl file freyberg6_template\\npf_k33_layer1_cn_inst0_constant.csv.tpl\n",
      "2022-03-17 13:22:21.628999 finished: adding constant type m style parameters for file(s) ['freyberg6.npf_k33_layer1.txt'] took: 0:00:00.017951\n",
      "2022-03-17 13:22:21.629997 starting: adding grid type m style parameters for file(s) ['freyberg6.npf_k33_layer2.txt']\n",
      "2022-03-17 13:22:21.629997 starting: loading array freyberg6_template\\freyberg6.npf_k33_layer2.txt\n",
      "2022-03-17 13:22:21.635981 finished: loading array freyberg6_template\\freyberg6.npf_k33_layer2.txt took: 0:00:00.005984\n",
      "2022-03-17 13:22:21.635981 loaded array 'freyberg_mf6\\freyberg6.npf_k33_layer2.txt' of shape (40, 20)\n",
      "2022-03-17 13:22:21.637975 starting: writing array-style template file 'freyberg6_template\\npf_k33_layer2_gr_inst0_grid.csv.tpl'\n",
      "2022-03-17 13:22:21.637975 starting: writing template file freyberg6_template\\npf_k33_layer2_gr_inst0_grid.csv.tpl for ['npf_k33_layer2_gr_inst:0']\n",
      "2022-03-17 13:22:21.650941 finished: writing template file freyberg6_template\\npf_k33_layer2_gr_inst0_grid.csv.tpl for ['npf_k33_layer2_gr_inst:0'] took: 0:00:00.012966\n",
      "2022-03-17 13:22:21.650941 starting: writing array-based template file 'freyberg6_template\\npf_k33_layer2_gr_inst0_grid.csv.tpl'\n",
      "2022-03-17 13:22:21.650941 saving zone array freyberg6_template\\npf_k33_layer2_gr_inst0_grid.csv.zone for tpl file freyberg6_template\\npf_k33_layer2_gr_inst0_grid.csv.tpl\n",
      "2022-03-17 13:22:21.658919 finished: adding grid type m style parameters for file(s) ['freyberg6.npf_k33_layer2.txt'] took: 0:00:00.028922\n",
      "2022-03-17 13:22:21.658919 starting: adding pilotpoints type m style parameters for file(s) ['freyberg6.npf_k33_layer2.txt']\n",
      "2022-03-17 13:22:21.658919 starting: loading array freyberg6_template\\freyberg6.npf_k33_layer2.txt\n"
     ]
    },
    {
     "name": "stdout",
     "output_type": "stream",
     "text": [
      "2022-03-17 13:22:21.660914 finished: loading array freyberg6_template\\freyberg6.npf_k33_layer2.txt took: 0:00:00.001995\n",
      "2022-03-17 13:22:21.660914 loaded array 'freyberg_mf6\\freyberg6.npf_k33_layer2.txt' of shape (40, 20)\n",
      "2022-03-17 13:22:21.662908 starting: writing array-style template file 'freyberg6_template\\npf_k33_layer2_pp_inst0_pilotpoints.csv.tpl'\n",
      "2022-03-17 13:22:21.662908 starting: setting up pilot point parameters\n",
      "2022-03-17 13:22:21.662908 No spatial reference (containing cell spacing) passed.\n",
      "2022-03-17 13:22:21.662908 OK - using spatial reference in parent object.\n"
     ]
    },
    {
     "name": "stdout",
     "output_type": "stream",
     "text": [
      "2022-03-17 13:22:21.731724 32 pilot point parameters created\n",
      "2022-03-17 13:22:21.731724 pilot point 'pargp':npf_k33_layer2_pp\n",
      "2022-03-17 13:22:21.732722 finished: setting up pilot point parameters took: 0:00:00.069814\n",
      "2022-03-17 13:22:21.738706 starting: writing array-based template file 'freyberg6_template\\npf_k33_layer2_pp_inst0pp.dat.tpl'\n",
      "2022-03-17 13:22:21.739703 saving zone array freyberg6_template\\npf_k33_layer2_pp_inst0pp.dat.zone for tpl file freyberg6_template\\npf_k33_layer2_pp_inst0pp.dat.tpl\n",
      "2022-03-17 13:22:21.744726 finished: adding pilotpoints type m style parameters for file(s) ['freyberg6.npf_k33_layer2.txt'] took: 0:00:00.085807\n",
      "2022-03-17 13:22:21.745689 starting: adding constant type m style parameters for file(s) ['freyberg6.npf_k33_layer2.txt']\n",
      "2022-03-17 13:22:21.745689 starting: loading array freyberg6_template\\freyberg6.npf_k33_layer2.txt\n",
      "2022-03-17 13:22:21.746718 finished: loading array freyberg6_template\\freyberg6.npf_k33_layer2.txt took: 0:00:00.001029\n",
      "2022-03-17 13:22:21.746718 loaded array 'freyberg_mf6\\freyberg6.npf_k33_layer2.txt' of shape (40, 20)\n",
      "2022-03-17 13:22:21.748712 starting: writing array-style template file 'freyberg6_template\\npf_k33_layer2_cn_inst0_constant.csv.tpl'\n",
      "2022-03-17 13:22:21.748712 starting: writing template file freyberg6_template\\npf_k33_layer2_cn_inst0_constant.csv.tpl for ['npf_k33_layer2_cn_inst:0']\n",
      "2022-03-17 13:22:21.755661 finished: writing template file freyberg6_template\\npf_k33_layer2_cn_inst0_constant.csv.tpl for ['npf_k33_layer2_cn_inst:0'] took: 0:00:00.006949\n",
      "2022-03-17 13:22:21.755661 starting: writing array-based template file 'freyberg6_template\\npf_k33_layer2_cn_inst0_constant.csv.tpl'\n",
      "2022-03-17 13:22:21.755661 saving zone array freyberg6_template\\npf_k33_layer2_cn_inst0_constant.csv.zone for tpl file freyberg6_template\\npf_k33_layer2_cn_inst0_constant.csv.tpl\n",
      "2022-03-17 13:22:21.762675 finished: adding constant type m style parameters for file(s) ['freyberg6.npf_k33_layer2.txt'] took: 0:00:00.016986\n",
      "2022-03-17 13:22:21.762675 starting: adding grid type m style parameters for file(s) ['freyberg6.npf_k33_layer3.txt']\n",
      "2022-03-17 13:22:21.762675 starting: loading array freyberg6_template\\freyberg6.npf_k33_layer3.txt\n",
      "2022-03-17 13:22:21.768628 finished: loading array freyberg6_template\\freyberg6.npf_k33_layer3.txt took: 0:00:00.005953\n",
      "2022-03-17 13:22:21.769629 loaded array 'freyberg_mf6\\freyberg6.npf_k33_layer3.txt' of shape (40, 20)\n",
      "2022-03-17 13:22:21.770654 starting: writing array-style template file 'freyberg6_template\\npf_k33_layer3_gr_inst0_grid.csv.tpl'\n",
      "2022-03-17 13:22:21.770654 starting: writing template file freyberg6_template\\npf_k33_layer3_gr_inst0_grid.csv.tpl for ['npf_k33_layer3_gr_inst:0']\n",
      "2022-03-17 13:22:21.783586 finished: writing template file freyberg6_template\\npf_k33_layer3_gr_inst0_grid.csv.tpl for ['npf_k33_layer3_gr_inst:0'] took: 0:00:00.012932\n",
      "2022-03-17 13:22:21.783586 starting: writing array-based template file 'freyberg6_template\\npf_k33_layer3_gr_inst0_grid.csv.tpl'\n",
      "2022-03-17 13:22:21.783586 saving zone array freyberg6_template\\npf_k33_layer3_gr_inst0_grid.csv.zone for tpl file freyberg6_template\\npf_k33_layer3_gr_inst0_grid.csv.tpl\n"
     ]
    },
    {
     "name": "stdout",
     "output_type": "stream",
     "text": [
      "2022-03-17 13:22:21.791564 finished: adding grid type m style parameters for file(s) ['freyberg6.npf_k33_layer3.txt'] took: 0:00:00.028889\n",
      "2022-03-17 13:22:21.791564 starting: adding pilotpoints type m style parameters for file(s) ['freyberg6.npf_k33_layer3.txt']\n",
      "2022-03-17 13:22:21.791564 starting: loading array freyberg6_template\\freyberg6.npf_k33_layer3.txt\n",
      "2022-03-17 13:22:21.792562 finished: loading array freyberg6_template\\freyberg6.npf_k33_layer3.txt took: 0:00:00.000998\n",
      "2022-03-17 13:22:21.792562 loaded array 'freyberg_mf6\\freyberg6.npf_k33_layer3.txt' of shape (40, 20)\n",
      "2022-03-17 13:22:21.794557 starting: writing array-style template file 'freyberg6_template\\npf_k33_layer3_pp_inst0_pilotpoints.csv.tpl'\n",
      "2022-03-17 13:22:21.794557 starting: setting up pilot point parameters\n",
      "2022-03-17 13:22:21.794557 No spatial reference (containing cell spacing) passed.\n",
      "2022-03-17 13:22:21.794557 OK - using spatial reference in parent object.\n",
      "2022-03-17 13:22:21.862375 32 pilot point parameters created\n"
     ]
    },
    {
     "name": "stdout",
     "output_type": "stream",
     "text": [
      "2022-03-17 13:22:21.862375 pilot point 'pargp':npf_k33_layer3_pp\n",
      "2022-03-17 13:22:21.863373 finished: setting up pilot point parameters took: 0:00:00.068816\n",
      "2022-03-17 13:22:21.869357 starting: writing array-based template file 'freyberg6_template\\npf_k33_layer3_pp_inst0pp.dat.tpl'\n",
      "2022-03-17 13:22:21.869357 saving zone array freyberg6_template\\npf_k33_layer3_pp_inst0pp.dat.zone for tpl file freyberg6_template\\npf_k33_layer3_pp_inst0pp.dat.tpl\n",
      "2022-03-17 13:22:21.875341 finished: adding pilotpoints type m style parameters for file(s) ['freyberg6.npf_k33_layer3.txt'] took: 0:00:00.083777\n",
      "2022-03-17 13:22:21.876340 starting: adding constant type m style parameters for file(s) ['freyberg6.npf_k33_layer3.txt']\n",
      "2022-03-17 13:22:21.876340 starting: loading array freyberg6_template\\freyberg6.npf_k33_layer3.txt\n",
      "2022-03-17 13:22:21.877336 finished: loading array freyberg6_template\\freyberg6.npf_k33_layer3.txt took: 0:00:00.000996\n",
      "2022-03-17 13:22:21.877336 loaded array 'freyberg_mf6\\freyberg6.npf_k33_layer3.txt' of shape (40, 20)\n",
      "2022-03-17 13:22:21.879330 starting: writing array-style template file 'freyberg6_template\\npf_k33_layer3_cn_inst0_constant.csv.tpl'\n",
      "2022-03-17 13:22:21.879330 starting: writing template file freyberg6_template\\npf_k33_layer3_cn_inst0_constant.csv.tpl for ['npf_k33_layer3_cn_inst:0']\n",
      "2022-03-17 13:22:21.886312 finished: writing template file freyberg6_template\\npf_k33_layer3_cn_inst0_constant.csv.tpl for ['npf_k33_layer3_cn_inst:0'] took: 0:00:00.006982\n",
      "2022-03-17 13:22:21.886312 starting: writing array-based template file 'freyberg6_template\\npf_k33_layer3_cn_inst0_constant.csv.tpl'\n",
      "2022-03-17 13:22:21.886312 saving zone array freyberg6_template\\npf_k33_layer3_cn_inst0_constant.csv.zone for tpl file freyberg6_template\\npf_k33_layer3_cn_inst0_constant.csv.tpl\n",
      "2022-03-17 13:22:21.893362 finished: adding constant type m style parameters for file(s) ['freyberg6.npf_k33_layer3.txt'] took: 0:00:00.017022\n",
      "2022-03-17 13:22:21.894327 starting: adding grid type m style parameters for file(s) ['freyberg6.sto_ss_layer2.txt']\n",
      "2022-03-17 13:22:21.894327 starting: loading array freyberg6_template\\freyberg6.sto_ss_layer2.txt\n",
      "2022-03-17 13:22:21.900344 finished: loading array freyberg6_template\\freyberg6.sto_ss_layer2.txt took: 0:00:00.006017\n",
      "2022-03-17 13:22:21.900344 loaded array 'freyberg_mf6\\freyberg6.sto_ss_layer2.txt' of shape (40, 20)\n",
      "2022-03-17 13:22:21.902339 starting: writing array-style template file 'freyberg6_template\\sto_ss_layer2_gr_inst0_grid.csv.tpl'\n",
      "2022-03-17 13:22:21.902339 starting: writing template file freyberg6_template\\sto_ss_layer2_gr_inst0_grid.csv.tpl for ['sto_ss_layer2_gr_inst:0']\n",
      "2022-03-17 13:22:21.915270 finished: writing template file freyberg6_template\\sto_ss_layer2_gr_inst0_grid.csv.tpl for ['sto_ss_layer2_gr_inst:0'] took: 0:00:00.012931\n",
      "2022-03-17 13:22:21.915270 starting: writing array-based template file 'freyberg6_template\\sto_ss_layer2_gr_inst0_grid.csv.tpl'\n",
      "2022-03-17 13:22:21.915270 saving zone array freyberg6_template\\sto_ss_layer2_gr_inst0_grid.csv.zone for tpl file freyberg6_template\\sto_ss_layer2_gr_inst0_grid.csv.tpl\n"
     ]
    },
    {
     "name": "stdout",
     "output_type": "stream",
     "text": [
      "2022-03-17 13:22:21.922251 finished: adding grid type m style parameters for file(s) ['freyberg6.sto_ss_layer2.txt'] took: 0:00:00.027924\n",
      "2022-03-17 13:22:21.923248 starting: adding pilotpoints type m style parameters for file(s) ['freyberg6.sto_ss_layer2.txt']\n",
      "2022-03-17 13:22:21.923248 starting: loading array freyberg6_template\\freyberg6.sto_ss_layer2.txt\n",
      "2022-03-17 13:22:21.924274 finished: loading array freyberg6_template\\freyberg6.sto_ss_layer2.txt took: 0:00:00.001026\n",
      "2022-03-17 13:22:21.925243 loaded array 'freyberg_mf6\\freyberg6.sto_ss_layer2.txt' of shape (40, 20)\n",
      "2022-03-17 13:22:21.926241 starting: writing array-style template file 'freyberg6_template\\sto_ss_layer2_pp_inst0_pilotpoints.csv.tpl'\n",
      "2022-03-17 13:22:21.926241 starting: setting up pilot point parameters\n",
      "2022-03-17 13:22:21.927238 No spatial reference (containing cell spacing) passed.\n",
      "2022-03-17 13:22:21.927238 OK - using spatial reference in parent object.\n"
     ]
    },
    {
     "name": "stdout",
     "output_type": "stream",
     "text": [
      "2022-03-17 13:22:21.995564 32 pilot point parameters created\n",
      "2022-03-17 13:22:21.996561 pilot point 'pargp':sto_ss_layer2_pp\n",
      "2022-03-17 13:22:21.996561 finished: setting up pilot point parameters took: 0:00:00.070320\n",
      "2022-03-17 13:22:22.003543 starting: writing array-based template file 'freyberg6_template\\sto_ss_layer2_pp_inst0pp.dat.tpl'\n",
      "2022-03-17 13:22:22.003543 saving zone array freyberg6_template\\sto_ss_layer2_pp_inst0pp.dat.zone for tpl file freyberg6_template\\sto_ss_layer2_pp_inst0pp.dat.tpl\n",
      "2022-03-17 13:22:22.009526 finished: adding pilotpoints type m style parameters for file(s) ['freyberg6.sto_ss_layer2.txt'] took: 0:00:00.086278\n",
      "2022-03-17 13:22:22.009526 starting: adding constant type m style parameters for file(s) ['freyberg6.sto_ss_layer2.txt']\n",
      "2022-03-17 13:22:22.010523 starting: loading array freyberg6_template\\freyberg6.sto_ss_layer2.txt\n",
      "2022-03-17 13:22:22.011521 finished: loading array freyberg6_template\\freyberg6.sto_ss_layer2.txt took: 0:00:00.000998\n",
      "2022-03-17 13:22:22.011521 loaded array 'freyberg_mf6\\freyberg6.sto_ss_layer2.txt' of shape (40, 20)\n",
      "2022-03-17 13:22:22.013516 starting: writing array-style template file 'freyberg6_template\\sto_ss_layer2_cn_inst0_constant.csv.tpl'\n",
      "2022-03-17 13:22:22.013516 starting: writing template file freyberg6_template\\sto_ss_layer2_cn_inst0_constant.csv.tpl for ['sto_ss_layer2_cn_inst:0']\n",
      "2022-03-17 13:22:22.021494 finished: writing template file freyberg6_template\\sto_ss_layer2_cn_inst0_constant.csv.tpl for ['sto_ss_layer2_cn_inst:0'] took: 0:00:00.007978\n",
      "2022-03-17 13:22:22.021494 starting: writing array-based template file 'freyberg6_template\\sto_ss_layer2_cn_inst0_constant.csv.tpl'\n",
      "2022-03-17 13:22:22.022492 saving zone array freyberg6_template\\sto_ss_layer2_cn_inst0_constant.csv.zone for tpl file freyberg6_template\\sto_ss_layer2_cn_inst0_constant.csv.tpl\n",
      "2022-03-17 13:22:22.028475 finished: adding constant type m style parameters for file(s) ['freyberg6.sto_ss_layer2.txt'] took: 0:00:00.018949\n",
      "2022-03-17 13:22:22.028475 starting: adding grid type m style parameters for file(s) ['freyberg6.sto_ss_layer3.txt']\n",
      "2022-03-17 13:22:22.028475 starting: loading array freyberg6_template\\freyberg6.sto_ss_layer3.txt\n",
      "2022-03-17 13:22:22.034459 finished: loading array freyberg6_template\\freyberg6.sto_ss_layer3.txt took: 0:00:00.005984\n",
      "2022-03-17 13:22:22.034459 loaded array 'freyberg_mf6\\freyberg6.sto_ss_layer3.txt' of shape (40, 20)\n",
      "2022-03-17 13:22:22.036454 starting: writing array-style template file 'freyberg6_template\\sto_ss_layer3_gr_inst0_grid.csv.tpl'\n",
      "2022-03-17 13:22:22.036454 starting: writing template file freyberg6_template\\sto_ss_layer3_gr_inst0_grid.csv.tpl for ['sto_ss_layer3_gr_inst:0']\n",
      "2022-03-17 13:22:22.049420 finished: writing template file freyberg6_template\\sto_ss_layer3_gr_inst0_grid.csv.tpl for ['sto_ss_layer3_gr_inst:0'] took: 0:00:00.012966\n",
      "2022-03-17 13:22:22.049420 starting: writing array-based template file 'freyberg6_template\\sto_ss_layer3_gr_inst0_grid.csv.tpl'\n"
     ]
    },
    {
     "name": "stdout",
     "output_type": "stream",
     "text": [
      "2022-03-17 13:22:22.049420 saving zone array freyberg6_template\\sto_ss_layer3_gr_inst0_grid.csv.zone for tpl file freyberg6_template\\sto_ss_layer3_gr_inst0_grid.csv.tpl\n",
      "2022-03-17 13:22:22.057598 finished: adding grid type m style parameters for file(s) ['freyberg6.sto_ss_layer3.txt'] took: 0:00:00.029123\n",
      "2022-03-17 13:22:22.057598 starting: adding pilotpoints type m style parameters for file(s) ['freyberg6.sto_ss_layer3.txt']\n",
      "2022-03-17 13:22:22.057598 starting: loading array freyberg6_template\\freyberg6.sto_ss_layer3.txt\n",
      "2022-03-17 13:22:22.059393 finished: loading array freyberg6_template\\freyberg6.sto_ss_layer3.txt took: 0:00:00.001795\n",
      "2022-03-17 13:22:22.059393 loaded array 'freyberg_mf6\\freyberg6.sto_ss_layer3.txt' of shape (40, 20)\n",
      "2022-03-17 13:22:22.061387 starting: writing array-style template file 'freyberg6_template\\sto_ss_layer3_pp_inst0_pilotpoints.csv.tpl'\n",
      "2022-03-17 13:22:22.061387 starting: setting up pilot point parameters\n",
      "2022-03-17 13:22:22.061387 No spatial reference (containing cell spacing) passed.\n",
      "2022-03-17 13:22:22.062385 OK - using spatial reference in parent object.\n"
     ]
    },
    {
     "name": "stdout",
     "output_type": "stream",
     "text": [
      "2022-03-17 13:22:22.135190 32 pilot point parameters created\n",
      "2022-03-17 13:22:22.135190 pilot point 'pargp':sto_ss_layer3_pp\n",
      "2022-03-17 13:22:22.135190 finished: setting up pilot point parameters took: 0:00:00.073803\n",
      "2022-03-17 13:22:22.143169 starting: writing array-based template file 'freyberg6_template\\sto_ss_layer3_pp_inst0pp.dat.tpl'\n",
      "2022-03-17 13:22:22.143169 saving zone array freyberg6_template\\sto_ss_layer3_pp_inst0pp.dat.zone for tpl file freyberg6_template\\sto_ss_layer3_pp_inst0pp.dat.tpl\n",
      "2022-03-17 13:22:22.148156 finished: adding pilotpoints type m style parameters for file(s) ['freyberg6.sto_ss_layer3.txt'] took: 0:00:00.090558\n",
      "2022-03-17 13:22:22.149153 starting: adding constant type m style parameters for file(s) ['freyberg6.sto_ss_layer3.txt']\n",
      "2022-03-17 13:22:22.149153 starting: loading array freyberg6_template\\freyberg6.sto_ss_layer3.txt\n",
      "2022-03-17 13:22:22.150150 finished: loading array freyberg6_template\\freyberg6.sto_ss_layer3.txt took: 0:00:00.000997\n",
      "2022-03-17 13:22:22.150150 loaded array 'freyberg_mf6\\freyberg6.sto_ss_layer3.txt' of shape (40, 20)\n",
      "2022-03-17 13:22:22.157131 starting: writing array-style template file 'freyberg6_template\\sto_ss_layer3_cn_inst0_constant.csv.tpl'\n",
      "2022-03-17 13:22:22.157131 starting: writing template file freyberg6_template\\sto_ss_layer3_cn_inst0_constant.csv.tpl for ['sto_ss_layer3_cn_inst:0']\n",
      "2022-03-17 13:22:22.165110 finished: writing template file freyberg6_template\\sto_ss_layer3_cn_inst0_constant.csv.tpl for ['sto_ss_layer3_cn_inst:0'] took: 0:00:00.007979\n",
      "2022-03-17 13:22:22.165110 starting: writing array-based template file 'freyberg6_template\\sto_ss_layer3_cn_inst0_constant.csv.tpl'\n",
      "2022-03-17 13:22:22.165110 saving zone array freyberg6_template\\sto_ss_layer3_cn_inst0_constant.csv.zone for tpl file freyberg6_template\\sto_ss_layer3_cn_inst0_constant.csv.tpl\n",
      "2022-03-17 13:22:22.171094 finished: adding constant type m style parameters for file(s) ['freyberg6.sto_ss_layer3.txt'] took: 0:00:00.021941\n",
      "2022-03-17 13:22:22.172091 starting: adding grid type m style parameters for file(s) ['freyberg6.sto_sy_layer1.txt']\n",
      "2022-03-17 13:22:22.172091 starting: loading array freyberg6_template\\freyberg6.sto_sy_layer1.txt\n",
      "2022-03-17 13:22:22.178075 finished: loading array freyberg6_template\\freyberg6.sto_sy_layer1.txt took: 0:00:00.005984\n",
      "2022-03-17 13:22:22.178075 loaded array 'freyberg_mf6\\freyberg6.sto_sy_layer1.txt' of shape (40, 20)\n"
     ]
    },
    {
     "name": "stdout",
     "output_type": "stream",
     "text": [
      "2022-03-17 13:22:22.181067 starting: writing array-style template file 'freyberg6_template\\sto_sy_layer1_gr_inst0_grid.csv.tpl'\n",
      "2022-03-17 13:22:22.181067 starting: writing template file freyberg6_template\\sto_sy_layer1_gr_inst0_grid.csv.tpl for ['sto_sy_layer1_gr_inst:0']\n",
      "2022-03-17 13:22:22.194033 finished: writing template file freyberg6_template\\sto_sy_layer1_gr_inst0_grid.csv.tpl for ['sto_sy_layer1_gr_inst:0'] took: 0:00:00.012966\n",
      "2022-03-17 13:22:22.194033 starting: writing array-based template file 'freyberg6_template\\sto_sy_layer1_gr_inst0_grid.csv.tpl'\n",
      "2022-03-17 13:22:22.194033 saving zone array freyberg6_template\\sto_sy_layer1_gr_inst0_grid.csv.zone for tpl file freyberg6_template\\sto_sy_layer1_gr_inst0_grid.csv.tpl\n",
      "2022-03-17 13:22:22.201014 finished: adding grid type m style parameters for file(s) ['freyberg6.sto_sy_layer1.txt'] took: 0:00:00.028923\n",
      "2022-03-17 13:22:22.202011 starting: adding pilotpoints type m style parameters for file(s) ['freyberg6.sto_sy_layer1.txt']\n",
      "2022-03-17 13:22:22.202011 starting: loading array freyberg6_template\\freyberg6.sto_sy_layer1.txt\n",
      "2022-03-17 13:22:22.203009 finished: loading array freyberg6_template\\freyberg6.sto_sy_layer1.txt took: 0:00:00.000998\n",
      "2022-03-17 13:22:22.203009 loaded array 'freyberg_mf6\\freyberg6.sto_sy_layer1.txt' of shape (40, 20)\n",
      "2022-03-17 13:22:22.205003 starting: writing array-style template file 'freyberg6_template\\sto_sy_layer1_pp_inst0_pilotpoints.csv.tpl'\n",
      "2022-03-17 13:22:22.205003 starting: setting up pilot point parameters\n",
      "2022-03-17 13:22:22.205003 No spatial reference (containing cell spacing) passed.\n",
      "2022-03-17 13:22:22.205003 OK - using spatial reference in parent object.\n"
     ]
    },
    {
     "name": "stdout",
     "output_type": "stream",
     "text": [
      "2022-03-17 13:22:22.277810 32 pilot point parameters created\n",
      "2022-03-17 13:22:22.277810 pilot point 'pargp':sto_sy_layer1_pp\n",
      "2022-03-17 13:22:22.278808 finished: setting up pilot point parameters took: 0:00:00.073805\n",
      "2022-03-17 13:22:22.284846 starting: writing array-based template file 'freyberg6_template\\sto_sy_layer1_pp_inst0pp.dat.tpl'\n",
      "2022-03-17 13:22:22.284846 saving zone array freyberg6_template\\sto_sy_layer1_pp_inst0pp.dat.zone for tpl file freyberg6_template\\sto_sy_layer1_pp_inst0pp.dat.tpl\n",
      "2022-03-17 13:22:22.290894 finished: adding pilotpoints type m style parameters for file(s) ['freyberg6.sto_sy_layer1.txt'] took: 0:00:00.088883\n",
      "2022-03-17 13:22:22.290894 starting: adding constant type m style parameters for file(s) ['freyberg6.sto_sy_layer1.txt']\n",
      "2022-03-17 13:22:22.290894 starting: loading array freyberg6_template\\freyberg6.sto_sy_layer1.txt\n",
      "2022-03-17 13:22:22.292805 finished: loading array freyberg6_template\\freyberg6.sto_sy_layer1.txt took: 0:00:00.001911\n",
      "2022-03-17 13:22:22.292805 loaded array 'freyberg_mf6\\freyberg6.sto_sy_layer1.txt' of shape (40, 20)\n",
      "2022-03-17 13:22:22.294763 starting: writing array-style template file 'freyberg6_template\\sto_sy_layer1_cn_inst0_constant.csv.tpl'\n",
      "2022-03-17 13:22:22.294763 starting: writing template file freyberg6_template\\sto_sy_layer1_cn_inst0_constant.csv.tpl for ['sto_sy_layer1_cn_inst:0']\n",
      "2022-03-17 13:22:22.301745 finished: writing template file freyberg6_template\\sto_sy_layer1_cn_inst0_constant.csv.tpl for ['sto_sy_layer1_cn_inst:0'] took: 0:00:00.006982\n",
      "2022-03-17 13:22:22.301745 starting: writing array-based template file 'freyberg6_template\\sto_sy_layer1_cn_inst0_constant.csv.tpl'\n",
      "2022-03-17 13:22:22.301745 saving zone array freyberg6_template\\sto_sy_layer1_cn_inst0_constant.csv.zone for tpl file freyberg6_template\\sto_sy_layer1_cn_inst0_constant.csv.tpl\n",
      "2022-03-17 13:22:22.307728 finished: adding constant type m style parameters for file(s) ['freyberg6.sto_sy_layer1.txt'] took: 0:00:00.016834\n"
     ]
    }
   ],
   "source": [
    "# for Kv\n",
    "tag = \"npf_k33\"\n",
    "files = [f for f in os.listdir(template_ws) if tag in f.lower() and f.endswith(\".txt\")]\n",
    "for f in files:\n",
    "    add_mult_pars(f, lb=0.2, ub=5.0, ulb=0.01, uub=100)\n",
    "\n",
    "# for Ss\n",
    "tag = \"sto_ss\"\n",
    "files = [f for f in os.listdir(template_ws) if tag in f.lower() and f.endswith(\".txt\")]\n",
    "# only for layer 2 and 3; we aren't monsters\n",
    "for f in files[1:]: \n",
    "    add_mult_pars(f, lb=0.2, ub=5.0, ulb=1e-6, uub=1e-3)\n",
    "\n",
    "# For Sy\n",
    "tag = \"sto_sy\"\n",
    "files = [f for f in os.listdir(template_ws) if tag in f.lower() and f.endswith(\".txt\")]\n",
    "# only for layer 1\n",
    "f = files[0]\n",
    "add_mult_pars(f, lb=0.2, ub=5.0, ulb=0.01, uub=0.4)\n"
   ]
  },
  {
   "cell_type": "markdown",
   "metadata": {},
   "source": [
    "#### 5.3.2. Spatial and Temporal Correlation\n",
    "\n",
    "Now, you may be thinking \"shouldn't recharge have temporal correlation as well?\". \n",
    "\n",
    "Damn straight it should. Now, this requires a little trickery.\n",
    "\n",
    "First we need to construct a container of stress period datetimes. (This relies on specifying the start_datetime argument when instantiating `PstFrom`.) These datetime values will specify the postion of parameters on the time-axis.\n",
    "\n"
   ]
  },
  {
   "cell_type": "code",
   "execution_count": 27,
   "metadata": {
    "execution": {
     "iopub.execute_input": "2022-03-17T02:52:22.321691Z",
     "iopub.status.busy": "2022-03-17T02:52:22.321691Z",
     "iopub.status.idle": "2022-03-17T02:52:22.325681Z",
     "shell.execute_reply": "2022-03-17T02:52:22.325681Z"
    }
   },
   "outputs": [
    {
     "data": {
      "text/plain": [
       "DatetimeIndex(['2018-01-02', '2018-02-02', '2018-03-03', '2018-04-03',\n",
       "               '2018-05-03', '2018-06-03', '2018-07-03', '2018-08-03',\n",
       "               '2018-09-03', '2018-10-03', '2018-11-03', '2018-12-03',\n",
       "               '2019-01-03', '2019-02-03', '2019-03-03', '2019-04-03',\n",
       "               '2019-05-03', '2019-06-03', '2019-07-03', '2019-08-03',\n",
       "               '2019-09-03', '2019-10-03', '2019-11-03', '2019-12-03',\n",
       "               '2020-01-03'],\n",
       "              dtype='datetime64[ns]', freq=None)"
      ]
     },
     "execution_count": 27,
     "metadata": {},
     "output_type": "execute_result"
    }
   ],
   "source": [
    "# build up a container of stress period start datetimes - this will\n",
    "# be used to specify the datetime of each multipler parameter\n",
    "start_datetime=\"1-1-2018\"\n",
    "dts = pd.to_datetime(start_datetime) + pd.to_timedelta(np.cumsum(sim.tdis.perioddata.array[\"perlen\"]),unit='d')\n",
    "\n",
    "dts"
   ]
  },
  {
   "cell_type": "markdown",
   "metadata": {},
   "source": [
    "If you use the same parameter group name (`pargp`) and same geostruct, `PstFrom` will treat parameters setup across different calls to `add_parameters()` as correlated.  In this case, we want to express temporal correlation in the recharge multiplier parameters. So, we use the same parameter group names for each stress period data file, and specify the `datetime` and `geostruct` arguments.\n",
    "\n",
    "Including temporal correlation introduces an additional challenge. Interpolation between points that share a common coordinate creates all types of trouble. We are going to have many parameters during each stress period (a single point on the time-axis). To get around this challenge we need to be a bit sneaky.\n",
    "\n",
    "\n",
    "First, we will apply the multiple *spatial* scales of parameter multiplers (`constant`, `pilot point` and `grid`) as we did for hyraulic properties. \n",
    "\n",
    "Then, we will asign an additional `constant` multiplier parameter for each recharge stress-period file (so, a single multiplier for all recharge paramaters for each stress period). We will specify temporal correlation for these `constant` multipliers. These will all have the same parameter group name, as discussed above. "
   ]
  },
  {
   "cell_type": "code",
   "execution_count": 28,
   "metadata": {
    "execution": {
     "iopub.execute_input": "2022-03-17T02:52:22.331665Z",
     "iopub.status.busy": "2022-03-17T02:52:22.331665Z",
     "iopub.status.idle": "2022-03-17T02:52:26.252730Z",
     "shell.execute_reply": "2022-03-17T02:52:26.252730Z"
    }
   },
   "outputs": [
    {
     "name": "stdout",
     "output_type": "stream",
     "text": [
      "2022-03-17 13:22:22.331665 starting: adding grid type m style parameters for file(s) ['freyberg6.rch_recharge_1.txt']\n",
      "2022-03-17 13:22:22.331665 starting: loading array freyberg6_template\\freyberg6.rch_recharge_1.txt\n",
      "2022-03-17 13:22:22.336651 finished: loading array freyberg6_template\\freyberg6.rch_recharge_1.txt took: 0:00:00.004986\n",
      "2022-03-17 13:22:22.336651 loaded array 'freyberg_mf6\\freyberg6.rch_recharge_1.txt' of shape (40, 20)\n",
      "2022-03-17 13:22:22.338646 starting: writing array-style template file 'freyberg6_template\\rch_recharge_1_gr_inst0_grid.csv.tpl'\n",
      "2022-03-17 13:22:22.338646 starting: writing template file freyberg6_template\\rch_recharge_1_gr_inst0_grid.csv.tpl for ['rch_recharge_1_gr_inst:0']\n",
      "2022-03-17 13:22:22.351613 finished: writing template file freyberg6_template\\rch_recharge_1_gr_inst0_grid.csv.tpl for ['rch_recharge_1_gr_inst:0'] took: 0:00:00.012967\n",
      "2022-03-17 13:22:22.351613 starting: writing array-based template file 'freyberg6_template\\rch_recharge_1_gr_inst0_grid.csv.tpl'\n",
      "2022-03-17 13:22:22.351613 saving zone array freyberg6_template\\rch_recharge_1_gr_inst0_grid.csv.zone for tpl file freyberg6_template\\rch_recharge_1_gr_inst0_grid.csv.tpl\n",
      "2022-03-17 13:22:22.359590 finished: adding grid type m style parameters for file(s) ['freyberg6.rch_recharge_1.txt'] took: 0:00:00.027925\n",
      "2022-03-17 13:22:22.359590 starting: adding pilotpoints type m style parameters for file(s) ['freyberg6.rch_recharge_1.txt']\n",
      "2022-03-17 13:22:22.359590 starting: loading array freyberg6_template\\freyberg6.rch_recharge_1.txt\n",
      "2022-03-17 13:22:22.361585 finished: loading array freyberg6_template\\freyberg6.rch_recharge_1.txt took: 0:00:00.001995\n",
      "2022-03-17 13:22:22.361585 loaded array 'freyberg_mf6\\freyberg6.rch_recharge_1.txt' of shape (40, 20)\n",
      "2022-03-17 13:22:22.363579 starting: writing array-style template file 'freyberg6_template\\rch_recharge_1_pp_inst0_pilotpoints.csv.tpl'\n",
      "2022-03-17 13:22:22.363579 starting: setting up pilot point parameters\n",
      "2022-03-17 13:22:22.363579 No spatial reference (containing cell spacing) passed.\n",
      "2022-03-17 13:22:22.363579 OK - using spatial reference in parent object.\n"
     ]
    },
    {
     "name": "stdout",
     "output_type": "stream",
     "text": [
      "2022-03-17 13:22:22.433393 32 pilot point parameters created\n",
      "2022-03-17 13:22:22.434390 pilot point 'pargp':rch_recharge_1_pp\n",
      "2022-03-17 13:22:22.434390 finished: setting up pilot point parameters took: 0:00:00.070811\n",
      "2022-03-17 13:22:22.441371 starting: writing array-based template file 'freyberg6_template\\rch_recharge_1_pp_inst0pp.dat.tpl'\n",
      "2022-03-17 13:22:22.442369 saving zone array freyberg6_template\\rch_recharge_1_pp_inst0pp.dat.zone for tpl file freyberg6_template\\rch_recharge_1_pp_inst0pp.dat.tpl\n",
      "2022-03-17 13:22:22.447355 finished: adding pilotpoints type m style parameters for file(s) ['freyberg6.rch_recharge_1.txt'] took: 0:00:00.087765\n",
      "2022-03-17 13:22:22.447355 starting: adding constant type m style parameters for file(s) ['freyberg6.rch_recharge_1.txt']\n",
      "2022-03-17 13:22:22.447355 starting: loading array freyberg6_template\\freyberg6.rch_recharge_1.txt\n",
      "2022-03-17 13:22:22.449350 finished: loading array freyberg6_template\\freyberg6.rch_recharge_1.txt took: 0:00:00.001995\n",
      "2022-03-17 13:22:22.449350 loaded array 'freyberg_mf6\\freyberg6.rch_recharge_1.txt' of shape (40, 20)\n",
      "2022-03-17 13:22:22.451344 starting: writing array-style template file 'freyberg6_template\\rch_recharge_1_cn_inst0_constant.csv.tpl'\n",
      "2022-03-17 13:22:22.451344 starting: writing template file freyberg6_template\\rch_recharge_1_cn_inst0_constant.csv.tpl for ['rch_recharge_1_cn_inst:0']\n",
      "2022-03-17 13:22:22.459323 finished: writing template file freyberg6_template\\rch_recharge_1_cn_inst0_constant.csv.tpl for ['rch_recharge_1_cn_inst:0'] took: 0:00:00.007979\n"
     ]
    },
    {
     "name": "stdout",
     "output_type": "stream",
     "text": [
      "2022-03-17 13:22:22.459323 starting: writing array-based template file 'freyberg6_template\\rch_recharge_1_cn_inst0_constant.csv.tpl'\n",
      "2022-03-17 13:22:22.460321 saving zone array freyberg6_template\\rch_recharge_1_cn_inst0_constant.csv.zone for tpl file freyberg6_template\\rch_recharge_1_cn_inst0_constant.csv.tpl\n",
      "2022-03-17 13:22:22.466305 finished: adding constant type m style parameters for file(s) ['freyberg6.rch_recharge_1.txt'] took: 0:00:00.018950\n",
      "2022-03-17 13:22:22.466305 starting: adding constant type m style parameters for file(s) ['freyberg6.rch_recharge_1.txt']\n",
      "2022-03-17 13:22:22.467302 WARNING: 0) Inconsistency between geostruct transform and partrans.\n",
      "2022-03-17 13:22:22.467302 WARNING: 1) Setting geostruct transform to {transform}\n",
      "2022-03-17 13:22:22.467302 WARNING: -) Better to pass an appropriately transformed geostruct\n",
      "2022-03-17 13:22:22.467302 starting: loading array freyberg6_template\\freyberg6.rch_recharge_1.txt\n",
      "2022-03-17 13:22:22.468299 finished: loading array freyberg6_template\\freyberg6.rch_recharge_1.txt took: 0:00:00.000997\n",
      "2022-03-17 13:22:22.468299 loaded array 'freyberg_mf6\\freyberg6.rch_recharge_1.txt' of shape (40, 20)\n",
      "2022-03-17 13:22:22.470294 starting: writing array-style template file 'freyberg6_template\\rch_recharge_1_tcn_inst0_constant.csv.tpl'\n",
      "2022-03-17 13:22:22.470294 starting: writing template file freyberg6_template\\rch_recharge_1_tcn_inst0_constant.csv.tpl for ['rch_recharge_1_tcn_inst:0']\n",
      "2022-03-17 13:22:22.478273 finished: writing template file freyberg6_template\\rch_recharge_1_tcn_inst0_constant.csv.tpl for ['rch_recharge_1_tcn_inst:0'] took: 0:00:00.007979\n",
      "2022-03-17 13:22:22.479270 starting: writing array-based template file 'freyberg6_template\\rch_recharge_1_tcn_inst0_constant.csv.tpl'\n",
      "2022-03-17 13:22:22.479270 saving zone array freyberg6_template\\rch_recharge_1_tcn_inst0_constant.csv.zone for tpl file freyberg6_template\\rch_recharge_1_tcn_inst0_constant.csv.tpl\n",
      "2022-03-17 13:22:22.486251 finished: adding constant type m style parameters for file(s) ['freyberg6.rch_recharge_1.txt'] took: 0:00:00.019946\n",
      "2022-03-17 13:22:22.486251 starting: adding grid type m style parameters for file(s) ['freyberg6.rch_recharge_10.txt']\n",
      "2022-03-17 13:22:22.487249 starting: loading array freyberg6_template\\freyberg6.rch_recharge_10.txt\n",
      "2022-03-17 13:22:22.492235 finished: loading array freyberg6_template\\freyberg6.rch_recharge_10.txt took: 0:00:00.004986\n",
      "2022-03-17 13:22:22.493233 loaded array 'freyberg_mf6\\freyberg6.rch_recharge_10.txt' of shape (40, 20)\n",
      "2022-03-17 13:22:22.495227 starting: writing array-style template file 'freyberg6_template\\rch_recharge_10_gr_inst0_grid.csv.tpl'\n",
      "2022-03-17 13:22:22.495227 starting: writing template file freyberg6_template\\rch_recharge_10_gr_inst0_grid.csv.tpl for ['rch_recharge_10_gr_inst:0']\n",
      "2022-03-17 13:22:22.507512 finished: writing template file freyberg6_template\\rch_recharge_10_gr_inst0_grid.csv.tpl for ['rch_recharge_10_gr_inst:0'] took: 0:00:00.012285\n",
      "2022-03-17 13:22:22.507512 starting: writing array-based template file 'freyberg6_template\\rch_recharge_10_gr_inst0_grid.csv.tpl'\n",
      "2022-03-17 13:22:22.507512 saving zone array freyberg6_template\\rch_recharge_10_gr_inst0_grid.csv.zone for tpl file freyberg6_template\\rch_recharge_10_gr_inst0_grid.csv.tpl\n",
      "2022-03-17 13:22:22.514177 finished: adding grid type m style parameters for file(s) ['freyberg6.rch_recharge_10.txt'] took: 0:00:00.027926\n",
      "2022-03-17 13:22:22.515174 starting: adding pilotpoints type m style parameters for file(s) ['freyberg6.rch_recharge_10.txt']\n",
      "2022-03-17 13:22:22.515174 starting: loading array freyberg6_template\\freyberg6.rch_recharge_10.txt\n",
      "2022-03-17 13:22:22.516171 finished: loading array freyberg6_template\\freyberg6.rch_recharge_10.txt took: 0:00:00.000997\n",
      "2022-03-17 13:22:22.516171 loaded array 'freyberg_mf6\\freyberg6.rch_recharge_10.txt' of shape (40, 20)\n",
      "2022-03-17 13:22:22.518166 starting: writing array-style template file 'freyberg6_template\\rch_recharge_10_pp_inst0_pilotpoints.csv.tpl'\n",
      "2022-03-17 13:22:22.518166 starting: setting up pilot point parameters\n",
      "2022-03-17 13:22:22.518166 No spatial reference (containing cell spacing) passed.\n"
     ]
    },
    {
     "name": "stdout",
     "output_type": "stream",
     "text": [
      "2022-03-17 13:22:22.519163 OK - using spatial reference in parent object.\n",
      "2022-03-17 13:22:22.587979 32 pilot point parameters created\n",
      "2022-03-17 13:22:22.587979 pilot point 'pargp':rch_recharge_10_pp\n",
      "2022-03-17 13:22:22.587979 finished: setting up pilot point parameters took: 0:00:00.069813\n",
      "2022-03-17 13:22:22.594961 starting: writing array-based template file 'freyberg6_template\\rch_recharge_10_pp_inst0pp.dat.tpl'\n",
      "2022-03-17 13:22:22.594961 saving zone array freyberg6_template\\rch_recharge_10_pp_inst0pp.dat.zone for tpl file freyberg6_template\\rch_recharge_10_pp_inst0pp.dat.tpl\n",
      "2022-03-17 13:22:22.599947 finished: adding pilotpoints type m style parameters for file(s) ['freyberg6.rch_recharge_10.txt'] took: 0:00:00.084773\n",
      "2022-03-17 13:22:22.600944 starting: adding constant type m style parameters for file(s) ['freyberg6.rch_recharge_10.txt']\n",
      "2022-03-17 13:22:22.600944 starting: loading array freyberg6_template\\freyberg6.rch_recharge_10.txt\n",
      "2022-03-17 13:22:22.601942 finished: loading array freyberg6_template\\freyberg6.rch_recharge_10.txt took: 0:00:00.000998\n",
      "2022-03-17 13:22:22.602939 loaded array 'freyberg_mf6\\freyberg6.rch_recharge_10.txt' of shape (40, 20)\n",
      "2022-03-17 13:22:22.603936 starting: writing array-style template file 'freyberg6_template\\rch_recharge_10_cn_inst0_constant.csv.tpl'\n",
      "2022-03-17 13:22:22.604934 starting: writing template file freyberg6_template\\rch_recharge_10_cn_inst0_constant.csv.tpl for ['rch_recharge_10_cn_inst:0']\n",
      "2022-03-17 13:22:22.611915 finished: writing template file freyberg6_template\\rch_recharge_10_cn_inst0_constant.csv.tpl for ['rch_recharge_10_cn_inst:0'] took: 0:00:00.006981\n"
     ]
    },
    {
     "name": "stdout",
     "output_type": "stream",
     "text": [
      "2022-03-17 13:22:22.612912 starting: writing array-based template file 'freyberg6_template\\rch_recharge_10_cn_inst0_constant.csv.tpl'\n",
      "2022-03-17 13:22:22.612912 saving zone array freyberg6_template\\rch_recharge_10_cn_inst0_constant.csv.zone for tpl file freyberg6_template\\rch_recharge_10_cn_inst0_constant.csv.tpl\n",
      "2022-03-17 13:22:22.619894 finished: adding constant type m style parameters for file(s) ['freyberg6.rch_recharge_10.txt'] took: 0:00:00.018950\n",
      "2022-03-17 13:22:22.619894 starting: adding constant type m style parameters for file(s) ['freyberg6.rch_recharge_10.txt']\n",
      "2022-03-17 13:22:22.619894 starting: loading array freyberg6_template\\freyberg6.rch_recharge_10.txt\n",
      "2022-03-17 13:22:22.620891 finished: loading array freyberg6_template\\freyberg6.rch_recharge_10.txt took: 0:00:00.000997\n",
      "2022-03-17 13:22:22.621888 loaded array 'freyberg_mf6\\freyberg6.rch_recharge_10.txt' of shape (40, 20)\n",
      "2022-03-17 13:22:22.624141 starting: writing array-style template file 'freyberg6_template\\rch_recharge_10_tcn_inst0_constant.csv.tpl'\n",
      "2022-03-17 13:22:22.624141 starting: writing template file freyberg6_template\\rch_recharge_10_tcn_inst0_constant.csv.tpl for ['rch_recharge_10_tcn_inst:0']\n",
      "2022-03-17 13:22:22.632859 finished: writing template file freyberg6_template\\rch_recharge_10_tcn_inst0_constant.csv.tpl for ['rch_recharge_10_tcn_inst:0'] took: 0:00:00.008718\n",
      "2022-03-17 13:22:22.632859 starting: writing array-based template file 'freyberg6_template\\rch_recharge_10_tcn_inst0_constant.csv.tpl'\n",
      "2022-03-17 13:22:22.633857 saving zone array freyberg6_template\\rch_recharge_10_tcn_inst0_constant.csv.zone for tpl file freyberg6_template\\rch_recharge_10_tcn_inst0_constant.csv.tpl\n",
      "2022-03-17 13:22:22.640838 finished: adding constant type m style parameters for file(s) ['freyberg6.rch_recharge_10.txt'] took: 0:00:00.020944\n",
      "2022-03-17 13:22:22.640838 starting: adding grid type m style parameters for file(s) ['freyberg6.rch_recharge_11.txt']\n",
      "2022-03-17 13:22:22.641837 starting: loading array freyberg6_template\\freyberg6.rch_recharge_11.txt\n",
      "2022-03-17 13:22:22.646823 finished: loading array freyberg6_template\\freyberg6.rch_recharge_11.txt took: 0:00:00.004986\n",
      "2022-03-17 13:22:22.646823 loaded array 'freyberg_mf6\\freyberg6.rch_recharge_11.txt' of shape (40, 20)\n"
     ]
    },
    {
     "name": "stdout",
     "output_type": "stream",
     "text": [
      "2022-03-17 13:22:22.649814 starting: writing array-style template file 'freyberg6_template\\rch_recharge_11_gr_inst0_grid.csv.tpl'\n",
      "2022-03-17 13:22:22.649814 starting: writing template file freyberg6_template\\rch_recharge_11_gr_inst0_grid.csv.tpl for ['rch_recharge_11_gr_inst:0']\n",
      "2022-03-17 13:22:22.662780 finished: writing template file freyberg6_template\\rch_recharge_11_gr_inst0_grid.csv.tpl for ['rch_recharge_11_gr_inst:0'] took: 0:00:00.012966\n",
      "2022-03-17 13:22:22.662780 starting: writing array-based template file 'freyberg6_template\\rch_recharge_11_gr_inst0_grid.csv.tpl'\n",
      "2022-03-17 13:22:22.662780 saving zone array freyberg6_template\\rch_recharge_11_gr_inst0_grid.csv.zone for tpl file freyberg6_template\\rch_recharge_11_gr_inst0_grid.csv.tpl\n",
      "2022-03-17 13:22:22.669761 finished: adding grid type m style parameters for file(s) ['freyberg6.rch_recharge_11.txt'] took: 0:00:00.028923\n",
      "2022-03-17 13:22:22.670760 starting: adding pilotpoints type m style parameters for file(s) ['freyberg6.rch_recharge_11.txt']\n",
      "2022-03-17 13:22:22.670760 starting: loading array freyberg6_template\\freyberg6.rch_recharge_11.txt\n",
      "2022-03-17 13:22:22.671756 finished: loading array freyberg6_template\\freyberg6.rch_recharge_11.txt took: 0:00:00.000996\n",
      "2022-03-17 13:22:22.672753 loaded array 'freyberg_mf6\\freyberg6.rch_recharge_11.txt' of shape (40, 20)\n",
      "2022-03-17 13:22:22.674747 starting: writing array-style template file 'freyberg6_template\\rch_recharge_11_pp_inst0_pilotpoints.csv.tpl'\n",
      "2022-03-17 13:22:22.674747 starting: setting up pilot point parameters\n",
      "2022-03-17 13:22:22.674747 No spatial reference (containing cell spacing) passed.\n",
      "2022-03-17 13:22:22.674747 OK - using spatial reference in parent object.\n"
     ]
    },
    {
     "name": "stdout",
     "output_type": "stream",
     "text": [
      "2022-03-17 13:22:22.746555 32 pilot point parameters created\n",
      "2022-03-17 13:22:22.746555 pilot point 'pargp':rch_recharge_11_pp\n",
      "2022-03-17 13:22:22.747552 finished: setting up pilot point parameters took: 0:00:00.072805\n",
      "2022-03-17 13:22:22.753537 starting: writing array-based template file 'freyberg6_template\\rch_recharge_11_pp_inst0pp.dat.tpl'\n",
      "2022-03-17 13:22:22.754534 saving zone array freyberg6_template\\rch_recharge_11_pp_inst0pp.dat.zone for tpl file freyberg6_template\\rch_recharge_11_pp_inst0pp.dat.tpl\n",
      "2022-03-17 13:22:22.759521 finished: adding pilotpoints type m style parameters for file(s) ['freyberg6.rch_recharge_11.txt'] took: 0:00:00.088761\n",
      "2022-03-17 13:22:22.759521 starting: adding constant type m style parameters for file(s) ['freyberg6.rch_recharge_11.txt']\n",
      "2022-03-17 13:22:22.760518 starting: loading array freyberg6_template\\freyberg6.rch_recharge_11.txt\n",
      "2022-03-17 13:22:22.761516 finished: loading array freyberg6_template\\freyberg6.rch_recharge_11.txt took: 0:00:00.000998\n",
      "2022-03-17 13:22:22.761516 loaded array 'freyberg_mf6\\freyberg6.rch_recharge_11.txt' of shape (40, 20)\n",
      "2022-03-17 13:22:22.763510 starting: writing array-style template file 'freyberg6_template\\rch_recharge_11_cn_inst0_constant.csv.tpl'\n",
      "2022-03-17 13:22:22.763510 starting: writing template file freyberg6_template\\rch_recharge_11_cn_inst0_constant.csv.tpl for ['rch_recharge_11_cn_inst:0']\n",
      "2022-03-17 13:22:22.770491 finished: writing template file freyberg6_template\\rch_recharge_11_cn_inst0_constant.csv.tpl for ['rch_recharge_11_cn_inst:0'] took: 0:00:00.006981\n",
      "2022-03-17 13:22:22.770491 starting: writing array-based template file 'freyberg6_template\\rch_recharge_11_cn_inst0_constant.csv.tpl'\n",
      "2022-03-17 13:22:22.771488 saving zone array freyberg6_template\\rch_recharge_11_cn_inst0_constant.csv.zone for tpl file freyberg6_template\\rch_recharge_11_cn_inst0_constant.csv.tpl\n",
      "2022-03-17 13:22:22.777472 finished: adding constant type m style parameters for file(s) ['freyberg6.rch_recharge_11.txt'] took: 0:00:00.017951\n",
      "2022-03-17 13:22:22.777472 starting: adding constant type m style parameters for file(s) ['freyberg6.rch_recharge_11.txt']\n",
      "2022-03-17 13:22:22.777472 starting: loading array freyberg6_template\\freyberg6.rch_recharge_11.txt\n",
      "2022-03-17 13:22:22.779467 finished: loading array freyberg6_template\\freyberg6.rch_recharge_11.txt took: 0:00:00.001995\n",
      "2022-03-17 13:22:22.779467 loaded array 'freyberg_mf6\\freyberg6.rch_recharge_11.txt' of shape (40, 20)\n",
      "2022-03-17 13:22:22.781462 starting: writing array-style template file 'freyberg6_template\\rch_recharge_11_tcn_inst0_constant.csv.tpl'\n",
      "2022-03-17 13:22:22.781462 starting: writing template file freyberg6_template\\rch_recharge_11_tcn_inst0_constant.csv.tpl for ['rch_recharge_11_tcn_inst:0']\n",
      "2022-03-17 13:22:22.788444 finished: writing template file freyberg6_template\\rch_recharge_11_tcn_inst0_constant.csv.tpl for ['rch_recharge_11_tcn_inst:0'] took: 0:00:00.006982\n",
      "2022-03-17 13:22:22.789441 starting: writing array-based template file 'freyberg6_template\\rch_recharge_11_tcn_inst0_constant.csv.tpl'\n",
      "2022-03-17 13:22:22.790778 saving zone array freyberg6_template\\rch_recharge_11_tcn_inst0_constant.csv.zone for tpl file freyberg6_template\\rch_recharge_11_tcn_inst0_constant.csv.tpl\n",
      "2022-03-17 13:22:22.797419 finished: adding constant type m style parameters for file(s) ['freyberg6.rch_recharge_11.txt'] took: 0:00:00.019947\n",
      "2022-03-17 13:22:22.797419 starting: adding grid type m style parameters for file(s) ['freyberg6.rch_recharge_12.txt']\n",
      "2022-03-17 13:22:22.797419 starting: loading array freyberg6_template\\freyberg6.rch_recharge_12.txt\n",
      "2022-03-17 13:22:22.804401 finished: loading array freyberg6_template\\freyberg6.rch_recharge_12.txt took: 0:00:00.006982\n",
      "2022-03-17 13:22:22.804401 loaded array 'freyberg_mf6\\freyberg6.rch_recharge_12.txt' of shape (40, 20)\n"
     ]
    },
    {
     "name": "stdout",
     "output_type": "stream",
     "text": [
      "2022-03-17 13:22:22.807436 starting: writing array-style template file 'freyberg6_template\\rch_recharge_12_gr_inst0_grid.csv.tpl'\n",
      "2022-03-17 13:22:22.807436 starting: writing template file freyberg6_template\\rch_recharge_12_gr_inst0_grid.csv.tpl for ['rch_recharge_12_gr_inst:0']\n",
      "2022-03-17 13:22:22.819361 finished: writing template file freyberg6_template\\rch_recharge_12_gr_inst0_grid.csv.tpl for ['rch_recharge_12_gr_inst:0'] took: 0:00:00.011925\n",
      "2022-03-17 13:22:22.819361 starting: writing array-based template file 'freyberg6_template\\rch_recharge_12_gr_inst0_grid.csv.tpl'\n",
      "2022-03-17 13:22:22.819361 saving zone array freyberg6_template\\rch_recharge_12_gr_inst0_grid.csv.zone for tpl file freyberg6_template\\rch_recharge_12_gr_inst0_grid.csv.tpl\n",
      "2022-03-17 13:22:22.827339 finished: adding grid type m style parameters for file(s) ['freyberg6.rch_recharge_12.txt'] took: 0:00:00.029920\n",
      "2022-03-17 13:22:22.827339 starting: adding pilotpoints type m style parameters for file(s) ['freyberg6.rch_recharge_12.txt']\n",
      "2022-03-17 13:22:22.828336 starting: loading array freyberg6_template\\freyberg6.rch_recharge_12.txt\n",
      "2022-03-17 13:22:22.829334 finished: loading array freyberg6_template\\freyberg6.rch_recharge_12.txt took: 0:00:00.000998\n",
      "2022-03-17 13:22:22.829334 loaded array 'freyberg_mf6\\freyberg6.rch_recharge_12.txt' of shape (40, 20)\n",
      "2022-03-17 13:22:22.831328 starting: writing array-style template file 'freyberg6_template\\rch_recharge_12_pp_inst0_pilotpoints.csv.tpl'\n",
      "2022-03-17 13:22:22.831328 starting: setting up pilot point parameters\n",
      "2022-03-17 13:22:22.831328 No spatial reference (containing cell spacing) passed.\n",
      "2022-03-17 13:22:22.831328 OK - using spatial reference in parent object.\n"
     ]
    },
    {
     "name": "stdout",
     "output_type": "stream",
     "text": [
      "2022-03-17 13:22:22.900146 32 pilot point parameters created\n",
      "2022-03-17 13:22:22.901144 pilot point 'pargp':rch_recharge_12_pp\n",
      "2022-03-17 13:22:22.901144 finished: setting up pilot point parameters took: 0:00:00.069816\n",
      "2022-03-17 13:22:22.908123 starting: writing array-based template file 'freyberg6_template\\rch_recharge_12_pp_inst0pp.dat.tpl'\n",
      "2022-03-17 13:22:22.908123 saving zone array freyberg6_template\\rch_recharge_12_pp_inst0pp.dat.zone for tpl file freyberg6_template\\rch_recharge_12_pp_inst0pp.dat.tpl\n",
      "2022-03-17 13:22:22.913110 finished: adding pilotpoints type m style parameters for file(s) ['freyberg6.rch_recharge_12.txt'] took: 0:00:00.085771\n",
      "2022-03-17 13:22:22.913110 starting: adding constant type m style parameters for file(s) ['freyberg6.rch_recharge_12.txt']\n",
      "2022-03-17 13:22:22.914109 starting: loading array freyberg6_template\\freyberg6.rch_recharge_12.txt\n",
      "2022-03-17 13:22:22.915105 finished: loading array freyberg6_template\\freyberg6.rch_recharge_12.txt took: 0:00:00.000996\n",
      "2022-03-17 13:22:22.915105 loaded array 'freyberg_mf6\\freyberg6.rch_recharge_12.txt' of shape (40, 20)\n",
      "2022-03-17 13:22:22.917099 starting: writing array-style template file 'freyberg6_template\\rch_recharge_12_cn_inst0_constant.csv.tpl'\n",
      "2022-03-17 13:22:22.917099 starting: writing template file freyberg6_template\\rch_recharge_12_cn_inst0_constant.csv.tpl for ['rch_recharge_12_cn_inst:0']\n",
      "2022-03-17 13:22:22.925078 finished: writing template file freyberg6_template\\rch_recharge_12_cn_inst0_constant.csv.tpl for ['rch_recharge_12_cn_inst:0'] took: 0:00:00.007979\n"
     ]
    },
    {
     "name": "stdout",
     "output_type": "stream",
     "text": [
      "2022-03-17 13:22:22.925078 starting: writing array-based template file 'freyberg6_template\\rch_recharge_12_cn_inst0_constant.csv.tpl'\n",
      "2022-03-17 13:22:22.925078 saving zone array freyberg6_template\\rch_recharge_12_cn_inst0_constant.csv.zone for tpl file freyberg6_template\\rch_recharge_12_cn_inst0_constant.csv.tpl\n",
      "2022-03-17 13:22:22.931063 finished: adding constant type m style parameters for file(s) ['freyberg6.rch_recharge_12.txt'] took: 0:00:00.017953\n",
      "2022-03-17 13:22:22.932060 starting: adding constant type m style parameters for file(s) ['freyberg6.rch_recharge_12.txt']\n",
      "2022-03-17 13:22:22.932060 starting: loading array freyberg6_template\\freyberg6.rch_recharge_12.txt\n",
      "2022-03-17 13:22:22.933057 finished: loading array freyberg6_template\\freyberg6.rch_recharge_12.txt took: 0:00:00.000997\n",
      "2022-03-17 13:22:22.933057 loaded array 'freyberg_mf6\\freyberg6.rch_recharge_12.txt' of shape (40, 20)\n",
      "2022-03-17 13:22:22.935051 starting: writing array-style template file 'freyberg6_template\\rch_recharge_12_tcn_inst0_constant.csv.tpl'\n",
      "2022-03-17 13:22:22.935051 starting: writing template file freyberg6_template\\rch_recharge_12_tcn_inst0_constant.csv.tpl for ['rch_recharge_12_tcn_inst:0']\n",
      "2022-03-17 13:22:22.944028 finished: writing template file freyberg6_template\\rch_recharge_12_tcn_inst0_constant.csv.tpl for ['rch_recharge_12_tcn_inst:0'] took: 0:00:00.008977\n",
      "2022-03-17 13:22:22.944028 starting: writing array-based template file 'freyberg6_template\\rch_recharge_12_tcn_inst0_constant.csv.tpl'\n",
      "2022-03-17 13:22:22.945025 saving zone array freyberg6_template\\rch_recharge_12_tcn_inst0_constant.csv.zone for tpl file freyberg6_template\\rch_recharge_12_tcn_inst0_constant.csv.tpl\n",
      "2022-03-17 13:22:22.952006 finished: adding constant type m style parameters for file(s) ['freyberg6.rch_recharge_12.txt'] took: 0:00:00.019946\n",
      "2022-03-17 13:22:22.952006 starting: adding grid type m style parameters for file(s) ['freyberg6.rch_recharge_13.txt']\n",
      "2022-03-17 13:22:22.953003 starting: loading array freyberg6_template\\freyberg6.rch_recharge_13.txt\n",
      "2022-03-17 13:22:22.957990 finished: loading array freyberg6_template\\freyberg6.rch_recharge_13.txt took: 0:00:00.004987\n",
      "2022-03-17 13:22:22.957990 loaded array 'freyberg_mf6\\freyberg6.rch_recharge_13.txt' of shape (40, 20)\n",
      "2022-03-17 13:22:22.959985 starting: writing array-style template file 'freyberg6_template\\rch_recharge_13_gr_inst0_grid.csv.tpl'\n",
      "2022-03-17 13:22:22.959985 starting: writing template file freyberg6_template\\rch_recharge_13_gr_inst0_grid.csv.tpl for ['rch_recharge_13_gr_inst:0']\n",
      "2022-03-17 13:22:22.972950 finished: writing template file freyberg6_template\\rch_recharge_13_gr_inst0_grid.csv.tpl for ['rch_recharge_13_gr_inst:0'] took: 0:00:00.012965\n",
      "2022-03-17 13:22:22.972950 starting: writing array-based template file 'freyberg6_template\\rch_recharge_13_gr_inst0_grid.csv.tpl'\n",
      "2022-03-17 13:22:22.972950 saving zone array freyberg6_template\\rch_recharge_13_gr_inst0_grid.csv.zone for tpl file freyberg6_template\\rch_recharge_13_gr_inst0_grid.csv.tpl\n",
      "2022-03-17 13:22:22.980928 finished: adding grid type m style parameters for file(s) ['freyberg6.rch_recharge_13.txt'] took: 0:00:00.028922\n",
      "2022-03-17 13:22:22.980928 starting: adding pilotpoints type m style parameters for file(s) ['freyberg6.rch_recharge_13.txt']\n",
      "2022-03-17 13:22:22.981926 starting: loading array freyberg6_template\\freyberg6.rch_recharge_13.txt\n",
      "2022-03-17 13:22:22.982923 finished: loading array freyberg6_template\\freyberg6.rch_recharge_13.txt took: 0:00:00.000997\n",
      "2022-03-17 13:22:22.982923 loaded array 'freyberg_mf6\\freyberg6.rch_recharge_13.txt' of shape (40, 20)\n",
      "2022-03-17 13:22:22.984918 starting: writing array-style template file 'freyberg6_template\\rch_recharge_13_pp_inst0_pilotpoints.csv.tpl'\n",
      "2022-03-17 13:22:22.984918 starting: setting up pilot point parameters\n",
      "2022-03-17 13:22:22.984918 No spatial reference (containing cell spacing) passed.\n",
      "2022-03-17 13:22:22.984918 OK - using spatial reference in parent object.\n"
     ]
    },
    {
     "name": "stdout",
     "output_type": "stream",
     "text": [
      "2022-03-17 13:22:23.058229 32 pilot point parameters created\n",
      "2022-03-17 13:22:23.058229 pilot point 'pargp':rch_recharge_13_pp\n",
      "2022-03-17 13:22:23.058229 finished: setting up pilot point parameters took: 0:00:00.073311\n",
      "2022-03-17 13:22:23.065210 starting: writing array-based template file 'freyberg6_template\\rch_recharge_13_pp_inst0pp.dat.tpl'\n",
      "2022-03-17 13:22:23.065210 saving zone array freyberg6_template\\rch_recharge_13_pp_inst0pp.dat.zone for tpl file freyberg6_template\\rch_recharge_13_pp_inst0pp.dat.tpl\n",
      "2022-03-17 13:22:23.071194 finished: adding pilotpoints type m style parameters for file(s) ['freyberg6.rch_recharge_13.txt'] took: 0:00:00.090266\n",
      "2022-03-17 13:22:23.071194 starting: adding constant type m style parameters for file(s) ['freyberg6.rch_recharge_13.txt']\n",
      "2022-03-17 13:22:23.071194 starting: loading array freyberg6_template\\freyberg6.rch_recharge_13.txt\n",
      "2022-03-17 13:22:23.072191 finished: loading array freyberg6_template\\freyberg6.rch_recharge_13.txt took: 0:00:00.000997\n",
      "2022-03-17 13:22:23.072191 loaded array 'freyberg_mf6\\freyberg6.rch_recharge_13.txt' of shape (40, 20)\n",
      "2022-03-17 13:22:23.075183 starting: writing array-style template file 'freyberg6_template\\rch_recharge_13_cn_inst0_constant.csv.tpl'\n",
      "2022-03-17 13:22:23.075183 starting: writing template file freyberg6_template\\rch_recharge_13_cn_inst0_constant.csv.tpl for ['rch_recharge_13_cn_inst:0']\n",
      "2022-03-17 13:22:23.082165 finished: writing template file freyberg6_template\\rch_recharge_13_cn_inst0_constant.csv.tpl for ['rch_recharge_13_cn_inst:0'] took: 0:00:00.006982\n",
      "2022-03-17 13:22:23.082165 starting: writing array-based template file 'freyberg6_template\\rch_recharge_13_cn_inst0_constant.csv.tpl'\n",
      "2022-03-17 13:22:23.082165 saving zone array freyberg6_template\\rch_recharge_13_cn_inst0_constant.csv.zone for tpl file freyberg6_template\\rch_recharge_13_cn_inst0_constant.csv.tpl\n"
     ]
    },
    {
     "name": "stdout",
     "output_type": "stream",
     "text": [
      "2022-03-17 13:22:23.088148 finished: adding constant type m style parameters for file(s) ['freyberg6.rch_recharge_13.txt'] took: 0:00:00.016954\n",
      "2022-03-17 13:22:23.088148 starting: adding constant type m style parameters for file(s) ['freyberg6.rch_recharge_13.txt']\n",
      "2022-03-17 13:22:23.088148 starting: loading array freyberg6_template\\freyberg6.rch_recharge_13.txt\n",
      "2022-03-17 13:22:23.090143 finished: loading array freyberg6_template\\freyberg6.rch_recharge_13.txt took: 0:00:00.001995\n",
      "2022-03-17 13:22:23.090143 loaded array 'freyberg_mf6\\freyberg6.rch_recharge_13.txt' of shape (40, 20)\n",
      "2022-03-17 13:22:23.092138 starting: writing array-style template file 'freyberg6_template\\rch_recharge_13_tcn_inst0_constant.csv.tpl'\n",
      "2022-03-17 13:22:23.092138 starting: writing template file freyberg6_template\\rch_recharge_13_tcn_inst0_constant.csv.tpl for ['rch_recharge_13_tcn_inst:0']\n",
      "2022-03-17 13:22:23.099119 finished: writing template file freyberg6_template\\rch_recharge_13_tcn_inst0_constant.csv.tpl for ['rch_recharge_13_tcn_inst:0'] took: 0:00:00.006981\n",
      "2022-03-17 13:22:23.099119 starting: writing array-based template file 'freyberg6_template\\rch_recharge_13_tcn_inst0_constant.csv.tpl'\n",
      "2022-03-17 13:22:23.100116 saving zone array freyberg6_template\\rch_recharge_13_tcn_inst0_constant.csv.zone for tpl file freyberg6_template\\rch_recharge_13_tcn_inst0_constant.csv.tpl\n",
      "2022-03-17 13:22:23.108095 finished: adding constant type m style parameters for file(s) ['freyberg6.rch_recharge_13.txt'] took: 0:00:00.019947\n",
      "2022-03-17 13:22:23.108095 starting: adding grid type m style parameters for file(s) ['freyberg6.rch_recharge_14.txt']\n",
      "2022-03-17 13:22:23.108095 starting: loading array freyberg6_template\\freyberg6.rch_recharge_14.txt\n",
      "2022-03-17 13:22:23.114080 finished: loading array freyberg6_template\\freyberg6.rch_recharge_14.txt took: 0:00:00.005985\n"
     ]
    },
    {
     "name": "stdout",
     "output_type": "stream",
     "text": [
      "2022-03-17 13:22:23.114080 loaded array 'freyberg_mf6\\freyberg6.rch_recharge_14.txt' of shape (40, 20)\n",
      "2022-03-17 13:22:23.116075 starting: writing array-style template file 'freyberg6_template\\rch_recharge_14_gr_inst0_grid.csv.tpl'\n",
      "2022-03-17 13:22:23.116075 starting: writing template file freyberg6_template\\rch_recharge_14_gr_inst0_grid.csv.tpl for ['rch_recharge_14_gr_inst:0']\n",
      "2022-03-17 13:22:23.129039 finished: writing template file freyberg6_template\\rch_recharge_14_gr_inst0_grid.csv.tpl for ['rch_recharge_14_gr_inst:0'] took: 0:00:00.012964\n",
      "2022-03-17 13:22:23.129039 starting: writing array-based template file 'freyberg6_template\\rch_recharge_14_gr_inst0_grid.csv.tpl'\n",
      "2022-03-17 13:22:23.129039 saving zone array freyberg6_template\\rch_recharge_14_gr_inst0_grid.csv.zone for tpl file freyberg6_template\\rch_recharge_14_gr_inst0_grid.csv.tpl\n",
      "2022-03-17 13:22:23.136020 finished: adding grid type m style parameters for file(s) ['freyberg6.rch_recharge_14.txt'] took: 0:00:00.027925\n",
      "2022-03-17 13:22:23.137018 starting: adding pilotpoints type m style parameters for file(s) ['freyberg6.rch_recharge_14.txt']\n",
      "2022-03-17 13:22:23.137018 starting: loading array freyberg6_template\\freyberg6.rch_recharge_14.txt\n",
      "2022-03-17 13:22:23.138015 finished: loading array freyberg6_template\\freyberg6.rch_recharge_14.txt took: 0:00:00.000997\n",
      "2022-03-17 13:22:23.139012 loaded array 'freyberg_mf6\\freyberg6.rch_recharge_14.txt' of shape (40, 20)\n",
      "2022-03-17 13:22:23.141007 starting: writing array-style template file 'freyberg6_template\\rch_recharge_14_pp_inst0_pilotpoints.csv.tpl'\n",
      "2022-03-17 13:22:23.141007 starting: setting up pilot point parameters\n",
      "2022-03-17 13:22:23.141007 No spatial reference (containing cell spacing) passed.\n",
      "2022-03-17 13:22:23.141007 OK - using spatial reference in parent object.\n",
      "2022-03-17 13:22:23.212817 32 pilot point parameters created\n",
      "2022-03-17 13:22:23.212817 pilot point 'pargp':rch_recharge_14_pp\n",
      "2022-03-17 13:22:23.213814 finished: setting up pilot point parameters took: 0:00:00.072807\n",
      "2022-03-17 13:22:23.219797 starting: writing array-based template file 'freyberg6_template\\rch_recharge_14_pp_inst0pp.dat.tpl'\n",
      "2022-03-17 13:22:23.219797 saving zone array freyberg6_template\\rch_recharge_14_pp_inst0pp.dat.zone for tpl file freyberg6_template\\rch_recharge_14_pp_inst0pp.dat.tpl\n",
      "2022-03-17 13:22:23.225780 finished: adding pilotpoints type m style parameters for file(s) ['freyberg6.rch_recharge_14.txt'] took: 0:00:00.088762\n",
      "2022-03-17 13:22:23.225780 starting: adding constant type m style parameters for file(s) ['freyberg6.rch_recharge_14.txt']\n",
      "2022-03-17 13:22:23.225780 starting: loading array freyberg6_template\\freyberg6.rch_recharge_14.txt\n",
      "2022-03-17 13:22:23.227775 finished: loading array freyberg6_template\\freyberg6.rch_recharge_14.txt took: 0:00:00.001995\n",
      "2022-03-17 13:22:23.227775 loaded array 'freyberg_mf6\\freyberg6.rch_recharge_14.txt' of shape (40, 20)\n",
      "2022-03-17 13:22:23.229770 starting: writing array-style template file 'freyberg6_template\\rch_recharge_14_cn_inst0_constant.csv.tpl'\n",
      "2022-03-17 13:22:23.229770 starting: writing template file freyberg6_template\\rch_recharge_14_cn_inst0_constant.csv.tpl for ['rch_recharge_14_cn_inst:0']\n",
      "2022-03-17 13:22:23.236751 finished: writing template file freyberg6_template\\rch_recharge_14_cn_inst0_constant.csv.tpl for ['rch_recharge_14_cn_inst:0'] took: 0:00:00.006981\n",
      "2022-03-17 13:22:23.236751 starting: writing array-based template file 'freyberg6_template\\rch_recharge_14_cn_inst0_constant.csv.tpl'\n"
     ]
    },
    {
     "name": "stdout",
     "output_type": "stream",
     "text": [
      "2022-03-17 13:22:23.237749 saving zone array freyberg6_template\\rch_recharge_14_cn_inst0_constant.csv.zone for tpl file freyberg6_template\\rch_recharge_14_cn_inst0_constant.csv.tpl\n",
      "2022-03-17 13:22:23.244730 finished: adding constant type m style parameters for file(s) ['freyberg6.rch_recharge_14.txt'] took: 0:00:00.018950\n",
      "2022-03-17 13:22:23.244730 starting: adding constant type m style parameters for file(s) ['freyberg6.rch_recharge_14.txt']\n",
      "2022-03-17 13:22:23.244730 starting: loading array freyberg6_template\\freyberg6.rch_recharge_14.txt\n",
      "2022-03-17 13:22:23.246724 finished: loading array freyberg6_template\\freyberg6.rch_recharge_14.txt took: 0:00:00.001994\n",
      "2022-03-17 13:22:23.246724 loaded array 'freyberg_mf6\\freyberg6.rch_recharge_14.txt' of shape (40, 20)\n",
      "2022-03-17 13:22:23.248719 starting: writing array-style template file 'freyberg6_template\\rch_recharge_14_tcn_inst0_constant.csv.tpl'\n",
      "2022-03-17 13:22:23.248719 starting: writing template file freyberg6_template\\rch_recharge_14_tcn_inst0_constant.csv.tpl for ['rch_recharge_14_tcn_inst:0']\n",
      "2022-03-17 13:22:23.256698 finished: writing template file freyberg6_template\\rch_recharge_14_tcn_inst0_constant.csv.tpl for ['rch_recharge_14_tcn_inst:0'] took: 0:00:00.007979\n",
      "2022-03-17 13:22:23.256698 starting: writing array-based template file 'freyberg6_template\\rch_recharge_14_tcn_inst0_constant.csv.tpl'\n",
      "2022-03-17 13:22:23.257695 saving zone array freyberg6_template\\rch_recharge_14_tcn_inst0_constant.csv.zone for tpl file freyberg6_template\\rch_recharge_14_tcn_inst0_constant.csv.tpl\n",
      "2022-03-17 13:22:23.264676 finished: adding constant type m style parameters for file(s) ['freyberg6.rch_recharge_14.txt'] took: 0:00:00.019946\n",
      "2022-03-17 13:22:23.264676 starting: adding grid type m style parameters for file(s) ['freyberg6.rch_recharge_15.txt']\n",
      "2022-03-17 13:22:23.264676 starting: loading array freyberg6_template\\freyberg6.rch_recharge_15.txt\n",
      "2022-03-17 13:22:23.270660 finished: loading array freyberg6_template\\freyberg6.rch_recharge_15.txt took: 0:00:00.005984\n",
      "2022-03-17 13:22:23.270660 loaded array 'freyberg_mf6\\freyberg6.rch_recharge_15.txt' of shape (40, 20)\n"
     ]
    },
    {
     "name": "stdout",
     "output_type": "stream",
     "text": [
      "2022-03-17 13:22:23.272656 starting: writing array-style template file 'freyberg6_template\\rch_recharge_15_gr_inst0_grid.csv.tpl'\n",
      "2022-03-17 13:22:23.272656 starting: writing template file freyberg6_template\\rch_recharge_15_gr_inst0_grid.csv.tpl for ['rch_recharge_15_gr_inst:0']\n",
      "2022-03-17 13:22:23.285621 finished: writing template file freyberg6_template\\rch_recharge_15_gr_inst0_grid.csv.tpl for ['rch_recharge_15_gr_inst:0'] took: 0:00:00.012965\n",
      "2022-03-17 13:22:23.285621 starting: writing array-based template file 'freyberg6_template\\rch_recharge_15_gr_inst0_grid.csv.tpl'\n",
      "2022-03-17 13:22:23.285621 saving zone array freyberg6_template\\rch_recharge_15_gr_inst0_grid.csv.zone for tpl file freyberg6_template\\rch_recharge_15_gr_inst0_grid.csv.tpl\n",
      "2022-03-17 13:22:23.293599 finished: adding grid type m style parameters for file(s) ['freyberg6.rch_recharge_15.txt'] took: 0:00:00.028923\n",
      "2022-03-17 13:22:23.293599 starting: adding pilotpoints type m style parameters for file(s) ['freyberg6.rch_recharge_15.txt']\n",
      "2022-03-17 13:22:23.294597 starting: loading array freyberg6_template\\freyberg6.rch_recharge_15.txt\n",
      "2022-03-17 13:22:23.295594 finished: loading array freyberg6_template\\freyberg6.rch_recharge_15.txt took: 0:00:00.000997\n",
      "2022-03-17 13:22:23.295594 loaded array 'freyberg_mf6\\freyberg6.rch_recharge_15.txt' of shape (40, 20)\n",
      "2022-03-17 13:22:23.297589 starting: writing array-style template file 'freyberg6_template\\rch_recharge_15_pp_inst0_pilotpoints.csv.tpl'\n",
      "2022-03-17 13:22:23.297589 starting: setting up pilot point parameters\n",
      "2022-03-17 13:22:23.297589 No spatial reference (containing cell spacing) passed.\n",
      "2022-03-17 13:22:23.298586 OK - using spatial reference in parent object.\n"
     ]
    },
    {
     "name": "stdout",
     "output_type": "stream",
     "text": [
      "2022-03-17 13:22:23.367402 32 pilot point parameters created\n",
      "2022-03-17 13:22:23.368399 pilot point 'pargp':rch_recharge_15_pp\n",
      "2022-03-17 13:22:23.368399 finished: setting up pilot point parameters took: 0:00:00.070810\n",
      "2022-03-17 13:22:23.375380 starting: writing array-based template file 'freyberg6_template\\rch_recharge_15_pp_inst0pp.dat.tpl'\n",
      "2022-03-17 13:22:23.375380 saving zone array freyberg6_template\\rch_recharge_15_pp_inst0pp.dat.zone for tpl file freyberg6_template\\rch_recharge_15_pp_inst0pp.dat.tpl\n",
      "2022-03-17 13:22:23.380367 finished: adding pilotpoints type m style parameters for file(s) ['freyberg6.rch_recharge_15.txt'] took: 0:00:00.086768\n",
      "2022-03-17 13:22:23.380367 starting: adding constant type m style parameters for file(s) ['freyberg6.rch_recharge_15.txt']\n",
      "2022-03-17 13:22:23.381364 starting: loading array freyberg6_template\\freyberg6.rch_recharge_15.txt\n",
      "2022-03-17 13:22:23.382362 finished: loading array freyberg6_template\\freyberg6.rch_recharge_15.txt took: 0:00:00.000998\n",
      "2022-03-17 13:22:23.382362 loaded array 'freyberg_mf6\\freyberg6.rch_recharge_15.txt' of shape (40, 20)\n",
      "2022-03-17 13:22:23.384356 starting: writing array-style template file 'freyberg6_template\\rch_recharge_15_cn_inst0_constant.csv.tpl'\n",
      "2022-03-17 13:22:23.384356 starting: writing template file freyberg6_template\\rch_recharge_15_cn_inst0_constant.csv.tpl for ['rch_recharge_15_cn_inst:0']\n",
      "2022-03-17 13:22:23.391338 finished: writing template file freyberg6_template\\rch_recharge_15_cn_inst0_constant.csv.tpl for ['rch_recharge_15_cn_inst:0'] took: 0:00:00.006982\n",
      "2022-03-17 13:22:23.391338 starting: writing array-based template file 'freyberg6_template\\rch_recharge_15_cn_inst0_constant.csv.tpl'\n",
      "2022-03-17 13:22:23.391338 saving zone array freyberg6_template\\rch_recharge_15_cn_inst0_constant.csv.zone for tpl file freyberg6_template\\rch_recharge_15_cn_inst0_constant.csv.tpl\n",
      "2022-03-17 13:22:23.398319 finished: adding constant type m style parameters for file(s) ['freyberg6.rch_recharge_15.txt'] took: 0:00:00.017952\n",
      "2022-03-17 13:22:23.398319 starting: adding constant type m style parameters for file(s) ['freyberg6.rch_recharge_15.txt']\n",
      "2022-03-17 13:22:23.399318 starting: loading array freyberg6_template\\freyberg6.rch_recharge_15.txt\n",
      "2022-03-17 13:22:23.400314 finished: loading array freyberg6_template\\freyberg6.rch_recharge_15.txt took: 0:00:00.000996\n",
      "2022-03-17 13:22:23.400314 loaded array 'freyberg_mf6\\freyberg6.rch_recharge_15.txt' of shape (40, 20)\n",
      "2022-03-17 13:22:23.401857 starting: writing array-style template file 'freyberg6_template\\rch_recharge_15_tcn_inst0_constant.csv.tpl'\n",
      "2022-03-17 13:22:23.402816 starting: writing template file freyberg6_template\\rch_recharge_15_tcn_inst0_constant.csv.tpl for ['rch_recharge_15_tcn_inst:0']\n",
      "2022-03-17 13:22:23.409796 finished: writing template file freyberg6_template\\rch_recharge_15_tcn_inst0_constant.csv.tpl for ['rch_recharge_15_tcn_inst:0'] took: 0:00:00.006980\n",
      "2022-03-17 13:22:23.409796 starting: writing array-based template file 'freyberg6_template\\rch_recharge_15_tcn_inst0_constant.csv.tpl'\n",
      "2022-03-17 13:22:23.410793 saving zone array freyberg6_template\\rch_recharge_15_tcn_inst0_constant.csv.zone for tpl file freyberg6_template\\rch_recharge_15_tcn_inst0_constant.csv.tpl\n",
      "2022-03-17 13:22:23.417774 finished: adding constant type m style parameters for file(s) ['freyberg6.rch_recharge_15.txt'] took: 0:00:00.019455\n",
      "2022-03-17 13:22:23.417774 starting: adding grid type m style parameters for file(s) ['freyberg6.rch_recharge_16.txt']\n",
      "2022-03-17 13:22:23.417774 starting: loading array freyberg6_template\\freyberg6.rch_recharge_16.txt\n",
      "2022-03-17 13:22:23.423966 finished: loading array freyberg6_template\\freyberg6.rch_recharge_16.txt took: 0:00:00.006192\n",
      "2022-03-17 13:22:23.423966 loaded array 'freyberg_mf6\\freyberg6.rch_recharge_16.txt' of shape (40, 20)\n",
      "2022-03-17 13:22:23.425753 starting: writing array-style template file 'freyberg6_template\\rch_recharge_16_gr_inst0_grid.csv.tpl'\n",
      "2022-03-17 13:22:23.425753 starting: writing template file freyberg6_template\\rch_recharge_16_gr_inst0_grid.csv.tpl for ['rch_recharge_16_gr_inst:0']\n"
     ]
    },
    {
     "name": "stdout",
     "output_type": "stream",
     "text": [
      "2022-03-17 13:22:23.437721 finished: writing template file freyberg6_template\\rch_recharge_16_gr_inst0_grid.csv.tpl for ['rch_recharge_16_gr_inst:0'] took: 0:00:00.011968\n",
      "2022-03-17 13:22:23.438719 starting: writing array-based template file 'freyberg6_template\\rch_recharge_16_gr_inst0_grid.csv.tpl'\n",
      "2022-03-17 13:22:23.438719 saving zone array freyberg6_template\\rch_recharge_16_gr_inst0_grid.csv.zone for tpl file freyberg6_template\\rch_recharge_16_gr_inst0_grid.csv.tpl\n",
      "2022-03-17 13:22:23.445701 finished: adding grid type m style parameters for file(s) ['freyberg6.rch_recharge_16.txt'] took: 0:00:00.027927\n",
      "2022-03-17 13:22:23.445701 starting: adding pilotpoints type m style parameters for file(s) ['freyberg6.rch_recharge_16.txt']\n",
      "2022-03-17 13:22:23.446698 starting: loading array freyberg6_template\\freyberg6.rch_recharge_16.txt\n",
      "2022-03-17 13:22:23.447695 finished: loading array freyberg6_template\\freyberg6.rch_recharge_16.txt took: 0:00:00.000997\n",
      "2022-03-17 13:22:23.447695 loaded array 'freyberg_mf6\\freyberg6.rch_recharge_16.txt' of shape (40, 20)\n",
      "2022-03-17 13:22:23.449689 starting: writing array-style template file 'freyberg6_template\\rch_recharge_16_pp_inst0_pilotpoints.csv.tpl'\n",
      "2022-03-17 13:22:23.449689 starting: setting up pilot point parameters\n",
      "2022-03-17 13:22:23.449689 No spatial reference (containing cell spacing) passed.\n",
      "2022-03-17 13:22:23.450687 OK - using spatial reference in parent object.\n"
     ]
    },
    {
     "name": "stdout",
     "output_type": "stream",
     "text": [
      "2022-03-17 13:22:23.520501 32 pilot point parameters created\n",
      "2022-03-17 13:22:23.520501 pilot point 'pargp':rch_recharge_16_pp\n",
      "2022-03-17 13:22:23.521501 finished: setting up pilot point parameters took: 0:00:00.071812\n",
      "2022-03-17 13:22:23.528479 starting: writing array-based template file 'freyberg6_template\\rch_recharge_16_pp_inst0pp.dat.tpl'\n",
      "2022-03-17 13:22:23.528479 saving zone array freyberg6_template\\rch_recharge_16_pp_inst0pp.dat.zone for tpl file freyberg6_template\\rch_recharge_16_pp_inst0pp.dat.tpl\n",
      "2022-03-17 13:22:23.533466 finished: adding pilotpoints type m style parameters for file(s) ['freyberg6.rch_recharge_16.txt'] took: 0:00:00.087765\n",
      "2022-03-17 13:22:23.534467 starting: adding constant type m style parameters for file(s) ['freyberg6.rch_recharge_16.txt']\n",
      "2022-03-17 13:22:23.534467 starting: loading array freyberg6_template\\freyberg6.rch_recharge_16.txt\n",
      "2022-03-17 13:22:23.535497 finished: loading array freyberg6_template\\freyberg6.rch_recharge_16.txt took: 0:00:00.001030\n",
      "2022-03-17 13:22:23.535497 loaded array 'freyberg_mf6\\freyberg6.rch_recharge_16.txt' of shape (40, 20)\n",
      "2022-03-17 13:22:23.537491 starting: writing array-style template file 'freyberg6_template\\rch_recharge_16_cn_inst0_constant.csv.tpl'\n",
      "2022-03-17 13:22:23.537491 starting: writing template file freyberg6_template\\rch_recharge_16_cn_inst0_constant.csv.tpl for ['rch_recharge_16_cn_inst:0']\n",
      "2022-03-17 13:22:23.545433 finished: writing template file freyberg6_template\\rch_recharge_16_cn_inst0_constant.csv.tpl for ['rch_recharge_16_cn_inst:0'] took: 0:00:00.007942\n",
      "2022-03-17 13:22:23.546430 starting: writing array-based template file 'freyberg6_template\\rch_recharge_16_cn_inst0_constant.csv.tpl'\n",
      "2022-03-17 13:22:23.546430 saving zone array freyberg6_template\\rch_recharge_16_cn_inst0_constant.csv.zone for tpl file freyberg6_template\\rch_recharge_16_cn_inst0_constant.csv.tpl\n",
      "2022-03-17 13:22:23.553412 finished: adding constant type m style parameters for file(s) ['freyberg6.rch_recharge_16.txt'] took: 0:00:00.018945\n",
      "2022-03-17 13:22:23.553412 starting: adding constant type m style parameters for file(s) ['freyberg6.rch_recharge_16.txt']\n",
      "2022-03-17 13:22:23.553412 starting: loading array freyberg6_template\\freyberg6.rch_recharge_16.txt\n"
     ]
    },
    {
     "name": "stdout",
     "output_type": "stream",
     "text": [
      "2022-03-17 13:22:23.555407 finished: loading array freyberg6_template\\freyberg6.rch_recharge_16.txt took: 0:00:00.001995\n",
      "2022-03-17 13:22:23.555407 loaded array 'freyberg_mf6\\freyberg6.rch_recharge_16.txt' of shape (40, 20)\n",
      "2022-03-17 13:22:23.557401 starting: writing array-style template file 'freyberg6_template\\rch_recharge_16_tcn_inst0_constant.csv.tpl'\n",
      "2022-03-17 13:22:23.557401 starting: writing template file freyberg6_template\\rch_recharge_16_tcn_inst0_constant.csv.tpl for ['rch_recharge_16_tcn_inst:0']\n",
      "2022-03-17 13:22:23.565380 finished: writing template file freyberg6_template\\rch_recharge_16_tcn_inst0_constant.csv.tpl for ['rch_recharge_16_tcn_inst:0'] took: 0:00:00.007979\n",
      "2022-03-17 13:22:23.565380 starting: writing array-based template file 'freyberg6_template\\rch_recharge_16_tcn_inst0_constant.csv.tpl'\n",
      "2022-03-17 13:22:23.566377 saving zone array freyberg6_template\\rch_recharge_16_tcn_inst0_constant.csv.zone for tpl file freyberg6_template\\rch_recharge_16_tcn_inst0_constant.csv.tpl\n",
      "2022-03-17 13:22:23.574356 finished: adding constant type m style parameters for file(s) ['freyberg6.rch_recharge_16.txt'] took: 0:00:00.020944\n",
      "2022-03-17 13:22:23.574356 starting: adding grid type m style parameters for file(s) ['freyberg6.rch_recharge_17.txt']\n",
      "2022-03-17 13:22:23.575353 starting: loading array freyberg6_template\\freyberg6.rch_recharge_17.txt\n",
      "2022-03-17 13:22:23.580340 finished: loading array freyberg6_template\\freyberg6.rch_recharge_17.txt took: 0:00:00.004987\n",
      "2022-03-17 13:22:23.580340 loaded array 'freyberg_mf6\\freyberg6.rch_recharge_17.txt' of shape (40, 20)\n",
      "2022-03-17 13:22:23.582335 starting: writing array-style template file 'freyberg6_template\\rch_recharge_17_gr_inst0_grid.csv.tpl'\n",
      "2022-03-17 13:22:23.582335 starting: writing template file freyberg6_template\\rch_recharge_17_gr_inst0_grid.csv.tpl for ['rch_recharge_17_gr_inst:0']\n",
      "2022-03-17 13:22:23.596297 finished: writing template file freyberg6_template\\rch_recharge_17_gr_inst0_grid.csv.tpl for ['rch_recharge_17_gr_inst:0'] took: 0:00:00.013962\n",
      "2022-03-17 13:22:23.596297 starting: writing array-based template file 'freyberg6_template\\rch_recharge_17_gr_inst0_grid.csv.tpl'\n",
      "2022-03-17 13:22:23.596297 saving zone array freyberg6_template\\rch_recharge_17_gr_inst0_grid.csv.zone for tpl file freyberg6_template\\rch_recharge_17_gr_inst0_grid.csv.tpl\n",
      "2022-03-17 13:22:23.603784 finished: adding grid type m style parameters for file(s) ['freyberg6.rch_recharge_17.txt'] took: 0:00:00.029428\n",
      "2022-03-17 13:22:23.603784 starting: adding pilotpoints type m style parameters for file(s) ['freyberg6.rch_recharge_17.txt']\n",
      "2022-03-17 13:22:23.604781 starting: loading array freyberg6_template\\freyberg6.rch_recharge_17.txt\n",
      "2022-03-17 13:22:23.605778 finished: loading array freyberg6_template\\freyberg6.rch_recharge_17.txt took: 0:00:00.000997\n",
      "2022-03-17 13:22:23.605778 loaded array 'freyberg_mf6\\freyberg6.rch_recharge_17.txt' of shape (40, 20)\n",
      "2022-03-17 13:22:23.608771 starting: writing array-style template file 'freyberg6_template\\rch_recharge_17_pp_inst0_pilotpoints.csv.tpl'\n",
      "2022-03-17 13:22:23.608771 starting: setting up pilot point parameters\n",
      "2022-03-17 13:22:23.608771 No spatial reference (containing cell spacing) passed.\n",
      "2022-03-17 13:22:23.608771 OK - using spatial reference in parent object.\n"
     ]
    },
    {
     "name": "stdout",
     "output_type": "stream",
     "text": [
      "2022-03-17 13:22:23.679616 32 pilot point parameters created\n",
      "2022-03-17 13:22:23.679616 pilot point 'pargp':rch_recharge_17_pp\n",
      "2022-03-17 13:22:23.679616 finished: setting up pilot point parameters took: 0:00:00.070845\n",
      "2022-03-17 13:22:23.686563 starting: writing array-based template file 'freyberg6_template\\rch_recharge_17_pp_inst0pp.dat.tpl'\n",
      "2022-03-17 13:22:23.686563 saving zone array freyberg6_template\\rch_recharge_17_pp_inst0pp.dat.zone for tpl file freyberg6_template\\rch_recharge_17_pp_inst0pp.dat.tpl\n",
      "2022-03-17 13:22:23.692547 finished: adding pilotpoints type m style parameters for file(s) ['freyberg6.rch_recharge_17.txt'] took: 0:00:00.088763\n",
      "2022-03-17 13:22:23.692547 starting: adding constant type m style parameters for file(s) ['freyberg6.rch_recharge_17.txt']\n",
      "2022-03-17 13:22:23.692547 starting: loading array freyberg6_template\\freyberg6.rch_recharge_17.txt\n",
      "2022-03-17 13:22:23.693545 finished: loading array freyberg6_template\\freyberg6.rch_recharge_17.txt took: 0:00:00.000998\n",
      "2022-03-17 13:22:23.693545 loaded array 'freyberg_mf6\\freyberg6.rch_recharge_17.txt' of shape (40, 20)\n",
      "2022-03-17 13:22:23.696536 starting: writing array-style template file 'freyberg6_template\\rch_recharge_17_cn_inst0_constant.csv.tpl'\n",
      "2022-03-17 13:22:23.696536 starting: writing template file freyberg6_template\\rch_recharge_17_cn_inst0_constant.csv.tpl for ['rch_recharge_17_cn_inst:0']\n",
      "2022-03-17 13:22:23.703517 finished: writing template file freyberg6_template\\rch_recharge_17_cn_inst0_constant.csv.tpl for ['rch_recharge_17_cn_inst:0'] took: 0:00:00.006981\n",
      "2022-03-17 13:22:23.703517 starting: writing array-based template file 'freyberg6_template\\rch_recharge_17_cn_inst0_constant.csv.tpl'\n",
      "2022-03-17 13:22:23.703517 saving zone array freyberg6_template\\rch_recharge_17_cn_inst0_constant.csv.zone for tpl file freyberg6_template\\rch_recharge_17_cn_inst0_constant.csv.tpl\n",
      "2022-03-17 13:22:23.709501 finished: adding constant type m style parameters for file(s) ['freyberg6.rch_recharge_17.txt'] took: 0:00:00.016954\n",
      "2022-03-17 13:22:23.710499 starting: adding constant type m style parameters for file(s) ['freyberg6.rch_recharge_17.txt']\n",
      "2022-03-17 13:22:23.710499 starting: loading array freyberg6_template\\freyberg6.rch_recharge_17.txt\n"
     ]
    },
    {
     "name": "stdout",
     "output_type": "stream",
     "text": [
      "2022-03-17 13:22:23.711497 finished: loading array freyberg6_template\\freyberg6.rch_recharge_17.txt took: 0:00:00.000998\n",
      "2022-03-17 13:22:23.711497 loaded array 'freyberg_mf6\\freyberg6.rch_recharge_17.txt' of shape (40, 20)\n",
      "2022-03-17 13:22:23.713491 starting: writing array-style template file 'freyberg6_template\\rch_recharge_17_tcn_inst0_constant.csv.tpl'\n",
      "2022-03-17 13:22:23.713491 starting: writing template file freyberg6_template\\rch_recharge_17_tcn_inst0_constant.csv.tpl for ['rch_recharge_17_tcn_inst:0']\n",
      "2022-03-17 13:22:23.721469 finished: writing template file freyberg6_template\\rch_recharge_17_tcn_inst0_constant.csv.tpl for ['rch_recharge_17_tcn_inst:0'] took: 0:00:00.007978\n",
      "2022-03-17 13:22:23.721469 starting: writing array-based template file 'freyberg6_template\\rch_recharge_17_tcn_inst0_constant.csv.tpl'\n",
      "2022-03-17 13:22:23.722467 saving zone array freyberg6_template\\rch_recharge_17_tcn_inst0_constant.csv.zone for tpl file freyberg6_template\\rch_recharge_17_tcn_inst0_constant.csv.tpl\n",
      "2022-03-17 13:22:23.730445 finished: adding constant type m style parameters for file(s) ['freyberg6.rch_recharge_17.txt'] took: 0:00:00.019946\n",
      "2022-03-17 13:22:23.730445 starting: adding grid type m style parameters for file(s) ['freyberg6.rch_recharge_18.txt']\n",
      "2022-03-17 13:22:23.730445 starting: loading array freyberg6_template\\freyberg6.rch_recharge_18.txt\n",
      "2022-03-17 13:22:23.735431 finished: loading array freyberg6_template\\freyberg6.rch_recharge_18.txt took: 0:00:00.004986\n",
      "2022-03-17 13:22:23.735431 loaded array 'freyberg_mf6\\freyberg6.rch_recharge_18.txt' of shape (40, 20)\n",
      "2022-03-17 13:22:23.737426 starting: writing array-style template file 'freyberg6_template\\rch_recharge_18_gr_inst0_grid.csv.tpl'\n",
      "2022-03-17 13:22:23.737426 starting: writing template file freyberg6_template\\rch_recharge_18_gr_inst0_grid.csv.tpl for ['rch_recharge_18_gr_inst:0']\n"
     ]
    },
    {
     "name": "stdout",
     "output_type": "stream",
     "text": [
      "2022-03-17 13:22:23.751389 finished: writing template file freyberg6_template\\rch_recharge_18_gr_inst0_grid.csv.tpl for ['rch_recharge_18_gr_inst:0'] took: 0:00:00.013963\n",
      "2022-03-17 13:22:23.751389 starting: writing array-based template file 'freyberg6_template\\rch_recharge_18_gr_inst0_grid.csv.tpl'\n",
      "2022-03-17 13:22:23.751389 saving zone array freyberg6_template\\rch_recharge_18_gr_inst0_grid.csv.zone for tpl file freyberg6_template\\rch_recharge_18_gr_inst0_grid.csv.tpl\n",
      "2022-03-17 13:22:23.759368 finished: adding grid type m style parameters for file(s) ['freyberg6.rch_recharge_18.txt'] took: 0:00:00.028923\n",
      "2022-03-17 13:22:23.759368 starting: adding pilotpoints type m style parameters for file(s) ['freyberg6.rch_recharge_18.txt']\n",
      "2022-03-17 13:22:23.759368 starting: loading array freyberg6_template\\freyberg6.rch_recharge_18.txt\n",
      "2022-03-17 13:22:23.760365 finished: loading array freyberg6_template\\freyberg6.rch_recharge_18.txt took: 0:00:00.000997\n",
      "2022-03-17 13:22:23.760365 loaded array 'freyberg_mf6\\freyberg6.rch_recharge_18.txt' of shape (40, 20)\n",
      "2022-03-17 13:22:23.762360 starting: writing array-style template file 'freyberg6_template\\rch_recharge_18_pp_inst0_pilotpoints.csv.tpl'\n",
      "2022-03-17 13:22:23.763357 starting: setting up pilot point parameters\n",
      "2022-03-17 13:22:23.763357 No spatial reference (containing cell spacing) passed.\n",
      "2022-03-17 13:22:23.763357 OK - using spatial reference in parent object.\n",
      "2022-03-17 13:22:23.835166 32 pilot point parameters created\n",
      "2022-03-17 13:22:23.835166 pilot point 'pargp':rch_recharge_18_pp\n",
      "2022-03-17 13:22:23.835166 finished: setting up pilot point parameters took: 0:00:00.071809\n",
      "2022-03-17 13:22:23.842147 starting: writing array-based template file 'freyberg6_template\\rch_recharge_18_pp_inst0pp.dat.tpl'\n",
      "2022-03-17 13:22:23.842147 saving zone array freyberg6_template\\rch_recharge_18_pp_inst0pp.dat.zone for tpl file freyberg6_template\\rch_recharge_18_pp_inst0pp.dat.tpl\n",
      "2022-03-17 13:22:23.847133 finished: adding pilotpoints type m style parameters for file(s) ['freyberg6.rch_recharge_18.txt'] took: 0:00:00.087765\n",
      "2022-03-17 13:22:23.847133 starting: adding constant type m style parameters for file(s) ['freyberg6.rch_recharge_18.txt']\n",
      "2022-03-17 13:22:23.848131 starting: loading array freyberg6_template\\freyberg6.rch_recharge_18.txt\n",
      "2022-03-17 13:22:23.849128 finished: loading array freyberg6_template\\freyberg6.rch_recharge_18.txt took: 0:00:00.000997\n",
      "2022-03-17 13:22:23.849128 loaded array 'freyberg_mf6\\freyberg6.rch_recharge_18.txt' of shape (40, 20)\n",
      "2022-03-17 13:22:23.851123 starting: writing array-style template file 'freyberg6_template\\rch_recharge_18_cn_inst0_constant.csv.tpl'\n",
      "2022-03-17 13:22:23.851123 starting: writing template file freyberg6_template\\rch_recharge_18_cn_inst0_constant.csv.tpl for ['rch_recharge_18_cn_inst:0']\n",
      "2022-03-17 13:22:23.859101 finished: writing template file freyberg6_template\\rch_recharge_18_cn_inst0_constant.csv.tpl for ['rch_recharge_18_cn_inst:0'] took: 0:00:00.007978\n",
      "2022-03-17 13:22:23.859101 starting: writing array-based template file 'freyberg6_template\\rch_recharge_18_cn_inst0_constant.csv.tpl'\n",
      "2022-03-17 13:22:23.860099 saving zone array freyberg6_template\\rch_recharge_18_cn_inst0_constant.csv.zone for tpl file freyberg6_template\\rch_recharge_18_cn_inst0_constant.csv.tpl\n",
      "2022-03-17 13:22:23.866082 finished: adding constant type m style parameters for file(s) ['freyberg6.rch_recharge_18.txt'] took: 0:00:00.018949\n"
     ]
    },
    {
     "name": "stdout",
     "output_type": "stream",
     "text": [
      "2022-03-17 13:22:23.866082 starting: adding constant type m style parameters for file(s) ['freyberg6.rch_recharge_18.txt']\n",
      "2022-03-17 13:22:23.866082 starting: loading array freyberg6_template\\freyberg6.rch_recharge_18.txt\n",
      "2022-03-17 13:22:23.868077 finished: loading array freyberg6_template\\freyberg6.rch_recharge_18.txt took: 0:00:00.001995\n",
      "2022-03-17 13:22:23.868077 loaded array 'freyberg_mf6\\freyberg6.rch_recharge_18.txt' of shape (40, 20)\n",
      "2022-03-17 13:22:23.870072 starting: writing array-style template file 'freyberg6_template\\rch_recharge_18_tcn_inst0_constant.csv.tpl'\n",
      "2022-03-17 13:22:23.870072 starting: writing template file freyberg6_template\\rch_recharge_18_tcn_inst0_constant.csv.tpl for ['rch_recharge_18_tcn_inst:0']\n",
      "2022-03-17 13:22:23.878050 finished: writing template file freyberg6_template\\rch_recharge_18_tcn_inst0_constant.csv.tpl for ['rch_recharge_18_tcn_inst:0'] took: 0:00:00.007978\n",
      "2022-03-17 13:22:23.878050 starting: writing array-based template file 'freyberg6_template\\rch_recharge_18_tcn_inst0_constant.csv.tpl'\n",
      "2022-03-17 13:22:23.879048 saving zone array freyberg6_template\\rch_recharge_18_tcn_inst0_constant.csv.zone for tpl file freyberg6_template\\rch_recharge_18_tcn_inst0_constant.csv.tpl\n",
      "2022-03-17 13:22:23.886029 finished: adding constant type m style parameters for file(s) ['freyberg6.rch_recharge_18.txt'] took: 0:00:00.019947\n",
      "2022-03-17 13:22:23.886029 starting: adding grid type m style parameters for file(s) ['freyberg6.rch_recharge_19.txt']\n",
      "2022-03-17 13:22:23.886029 starting: loading array freyberg6_template\\freyberg6.rch_recharge_19.txt\n",
      "2022-03-17 13:22:23.892013 finished: loading array freyberg6_template\\freyberg6.rch_recharge_19.txt took: 0:00:00.005984\n",
      "2022-03-17 13:22:23.892013 loaded array 'freyberg_mf6\\freyberg6.rch_recharge_19.txt' of shape (40, 20)\n",
      "2022-03-17 13:22:23.894007 starting: writing array-style template file 'freyberg6_template\\rch_recharge_19_gr_inst0_grid.csv.tpl'\n",
      "2022-03-17 13:22:23.894007 starting: writing template file freyberg6_template\\rch_recharge_19_gr_inst0_grid.csv.tpl for ['rch_recharge_19_gr_inst:0']\n"
     ]
    },
    {
     "name": "stdout",
     "output_type": "stream",
     "text": [
      "2022-03-17 13:22:23.907971 finished: writing template file freyberg6_template\\rch_recharge_19_gr_inst0_grid.csv.tpl for ['rch_recharge_19_gr_inst:0'] took: 0:00:00.013964\n",
      "2022-03-17 13:22:23.907971 starting: writing array-based template file 'freyberg6_template\\rch_recharge_19_gr_inst0_grid.csv.tpl'\n",
      "2022-03-17 13:22:23.907971 saving zone array freyberg6_template\\rch_recharge_19_gr_inst0_grid.csv.zone for tpl file freyberg6_template\\rch_recharge_19_gr_inst0_grid.csv.tpl\n",
      "2022-03-17 13:22:23.915949 finished: adding grid type m style parameters for file(s) ['freyberg6.rch_recharge_19.txt'] took: 0:00:00.029920\n",
      "2022-03-17 13:22:23.915949 starting: adding pilotpoints type m style parameters for file(s) ['freyberg6.rch_recharge_19.txt']\n",
      "2022-03-17 13:22:23.915949 starting: loading array freyberg6_template\\freyberg6.rch_recharge_19.txt\n",
      "2022-03-17 13:22:23.916947 finished: loading array freyberg6_template\\freyberg6.rch_recharge_19.txt took: 0:00:00.000998\n",
      "2022-03-17 13:22:23.916947 loaded array 'freyberg_mf6\\freyberg6.rch_recharge_19.txt' of shape (40, 20)\n",
      "2022-03-17 13:22:23.918942 starting: writing array-style template file 'freyberg6_template\\rch_recharge_19_pp_inst0_pilotpoints.csv.tpl'\n",
      "2022-03-17 13:22:23.919939 starting: setting up pilot point parameters\n",
      "2022-03-17 13:22:23.919939 No spatial reference (containing cell spacing) passed.\n",
      "2022-03-17 13:22:23.919939 OK - using spatial reference in parent object.\n"
     ]
    },
    {
     "name": "stdout",
     "output_type": "stream",
     "text": [
      "2022-03-17 13:22:23.996733 32 pilot point parameters created\n",
      "2022-03-17 13:22:23.996733 pilot point 'pargp':rch_recharge_19_pp\n",
      "2022-03-17 13:22:23.996733 finished: setting up pilot point parameters took: 0:00:00.076794\n",
      "2022-03-17 13:22:24.003714 starting: writing array-based template file 'freyberg6_template\\rch_recharge_19_pp_inst0pp.dat.tpl'\n",
      "2022-03-17 13:22:24.004712 saving zone array freyberg6_template\\rch_recharge_19_pp_inst0pp.dat.zone for tpl file freyberg6_template\\rch_recharge_19_pp_inst0pp.dat.tpl\n",
      "2022-03-17 13:22:24.009698 finished: adding pilotpoints type m style parameters for file(s) ['freyberg6.rch_recharge_19.txt'] took: 0:00:00.093749\n",
      "2022-03-17 13:22:24.009698 starting: adding constant type m style parameters for file(s) ['freyberg6.rch_recharge_19.txt']\n",
      "2022-03-17 13:22:24.010696 starting: loading array freyberg6_template\\freyberg6.rch_recharge_19.txt\n",
      "2022-03-17 13:22:24.011693 finished: loading array freyberg6_template\\freyberg6.rch_recharge_19.txt took: 0:00:00.000997\n",
      "2022-03-17 13:22:24.011693 loaded array 'freyberg_mf6\\freyberg6.rch_recharge_19.txt' of shape (40, 20)\n",
      "2022-03-17 13:22:24.013687 starting: writing array-style template file 'freyberg6_template\\rch_recharge_19_cn_inst0_constant.csv.tpl'\n",
      "2022-03-17 13:22:24.014685 starting: writing template file freyberg6_template\\rch_recharge_19_cn_inst0_constant.csv.tpl for ['rch_recharge_19_cn_inst:0']\n",
      "2022-03-17 13:22:24.021666 finished: writing template file freyberg6_template\\rch_recharge_19_cn_inst0_constant.csv.tpl for ['rch_recharge_19_cn_inst:0'] took: 0:00:00.006981\n",
      "2022-03-17 13:22:24.021666 starting: writing array-based template file 'freyberg6_template\\rch_recharge_19_cn_inst0_constant.csv.tpl'\n",
      "2022-03-17 13:22:24.021666 saving zone array freyberg6_template\\rch_recharge_19_cn_inst0_constant.csv.zone for tpl file freyberg6_template\\rch_recharge_19_cn_inst0_constant.csv.tpl\n",
      "2022-03-17 13:22:24.028648 finished: adding constant type m style parameters for file(s) ['freyberg6.rch_recharge_19.txt'] took: 0:00:00.018950\n",
      "2022-03-17 13:22:24.028648 starting: adding constant type m style parameters for file(s) ['freyberg6.rch_recharge_19.txt']\n",
      "2022-03-17 13:22:24.028648 starting: loading array freyberg6_template\\freyberg6.rch_recharge_19.txt\n",
      "2022-03-17 13:22:24.030642 finished: loading array freyberg6_template\\freyberg6.rch_recharge_19.txt took: 0:00:00.001994\n",
      "2022-03-17 13:22:24.030642 loaded array 'freyberg_mf6\\freyberg6.rch_recharge_19.txt' of shape (40, 20)\n",
      "2022-03-17 13:22:24.032637 starting: writing array-style template file 'freyberg6_template\\rch_recharge_19_tcn_inst0_constant.csv.tpl'\n",
      "2022-03-17 13:22:24.032637 starting: writing template file freyberg6_template\\rch_recharge_19_tcn_inst0_constant.csv.tpl for ['rch_recharge_19_tcn_inst:0']\n",
      "2022-03-17 13:22:24.039618 finished: writing template file freyberg6_template\\rch_recharge_19_tcn_inst0_constant.csv.tpl for ['rch_recharge_19_tcn_inst:0'] took: 0:00:00.006981\n",
      "2022-03-17 13:22:24.039618 starting: writing array-based template file 'freyberg6_template\\rch_recharge_19_tcn_inst0_constant.csv.tpl'\n",
      "2022-03-17 13:22:24.040616 saving zone array freyberg6_template\\rch_recharge_19_tcn_inst0_constant.csv.zone for tpl file freyberg6_template\\rch_recharge_19_tcn_inst0_constant.csv.tpl\n",
      "2022-03-17 13:22:24.047597 finished: adding constant type m style parameters for file(s) ['freyberg6.rch_recharge_19.txt'] took: 0:00:00.018949\n",
      "2022-03-17 13:22:24.048594 starting: adding grid type m style parameters for file(s) ['freyberg6.rch_recharge_2.txt']\n",
      "2022-03-17 13:22:24.048594 starting: loading array freyberg6_template\\freyberg6.rch_recharge_2.txt\n",
      "2022-03-17 13:22:24.053581 finished: loading array freyberg6_template\\freyberg6.rch_recharge_2.txt took: 0:00:00.004987\n",
      "2022-03-17 13:22:24.054578 loaded array 'freyberg_mf6\\freyberg6.rch_recharge_2.txt' of shape (40, 20)\n"
     ]
    },
    {
     "name": "stdout",
     "output_type": "stream",
     "text": [
      "2022-03-17 13:22:24.056573 starting: writing array-style template file 'freyberg6_template\\rch_recharge_2_gr_inst0_grid.csv.tpl'\n",
      "2022-03-17 13:22:24.056573 starting: writing template file freyberg6_template\\rch_recharge_2_gr_inst0_grid.csv.tpl for ['rch_recharge_2_gr_inst:0']\n",
      "2022-03-17 13:22:24.070536 finished: writing template file freyberg6_template\\rch_recharge_2_gr_inst0_grid.csv.tpl for ['rch_recharge_2_gr_inst:0'] took: 0:00:00.013963\n",
      "2022-03-17 13:22:24.070536 starting: writing array-based template file 'freyberg6_template\\rch_recharge_2_gr_inst0_grid.csv.tpl'\n",
      "2022-03-17 13:22:24.070536 saving zone array freyberg6_template\\rch_recharge_2_gr_inst0_grid.csv.zone for tpl file freyberg6_template\\rch_recharge_2_gr_inst0_grid.csv.tpl\n",
      "2022-03-17 13:22:24.078514 finished: adding grid type m style parameters for file(s) ['freyberg6.rch_recharge_2.txt'] took: 0:00:00.029920\n",
      "2022-03-17 13:22:24.078514 starting: adding pilotpoints type m style parameters for file(s) ['freyberg6.rch_recharge_2.txt']\n",
      "2022-03-17 13:22:24.078514 starting: loading array freyberg6_template\\freyberg6.rch_recharge_2.txt\n",
      "2022-03-17 13:22:24.080509 finished: loading array freyberg6_template\\freyberg6.rch_recharge_2.txt took: 0:00:00.001995\n",
      "2022-03-17 13:22:24.080509 loaded array 'freyberg_mf6\\freyberg6.rch_recharge_2.txt' of shape (40, 20)\n"
     ]
    },
    {
     "name": "stdout",
     "output_type": "stream",
     "text": [
      "2022-03-17 13:22:24.082504 starting: writing array-style template file 'freyberg6_template\\rch_recharge_2_pp_inst0_pilotpoints.csv.tpl'\n",
      "2022-03-17 13:22:24.082504 starting: setting up pilot point parameters\n",
      "2022-03-17 13:22:24.082504 No spatial reference (containing cell spacing) passed.\n",
      "2022-03-17 13:22:24.082504 OK - using spatial reference in parent object.\n",
      "2022-03-17 13:22:24.152317 32 pilot point parameters created\n",
      "2022-03-17 13:22:24.152317 pilot point 'pargp':rch_recharge_2_pp\n",
      "2022-03-17 13:22:24.152317 finished: setting up pilot point parameters took: 0:00:00.069813\n",
      "2022-03-17 13:22:24.159298 starting: writing array-based template file 'freyberg6_template\\rch_recharge_2_pp_inst0pp.dat.tpl'\n",
      "2022-03-17 13:22:24.159298 saving zone array freyberg6_template\\rch_recharge_2_pp_inst0pp.dat.zone for tpl file freyberg6_template\\rch_recharge_2_pp_inst0pp.dat.tpl\n",
      "2022-03-17 13:22:24.164285 finished: adding pilotpoints type m style parameters for file(s) ['freyberg6.rch_recharge_2.txt'] took: 0:00:00.085771\n",
      "2022-03-17 13:22:24.164285 starting: adding constant type m style parameters for file(s) ['freyberg6.rch_recharge_2.txt']\n",
      "2022-03-17 13:22:24.165282 starting: loading array freyberg6_template\\freyberg6.rch_recharge_2.txt\n",
      "2022-03-17 13:22:24.166279 finished: loading array freyberg6_template\\freyberg6.rch_recharge_2.txt took: 0:00:00.000997\n",
      "2022-03-17 13:22:24.166279 loaded array 'freyberg_mf6\\freyberg6.rch_recharge_2.txt' of shape (40, 20)\n",
      "2022-03-17 13:22:24.168274 starting: writing array-style template file 'freyberg6_template\\rch_recharge_2_cn_inst0_constant.csv.tpl'\n",
      "2022-03-17 13:22:24.168274 starting: writing template file freyberg6_template\\rch_recharge_2_cn_inst0_constant.csv.tpl for ['rch_recharge_2_cn_inst:0']\n",
      "2022-03-17 13:22:24.176253 finished: writing template file freyberg6_template\\rch_recharge_2_cn_inst0_constant.csv.tpl for ['rch_recharge_2_cn_inst:0'] took: 0:00:00.007979\n",
      "2022-03-17 13:22:24.176253 starting: writing array-based template file 'freyberg6_template\\rch_recharge_2_cn_inst0_constant.csv.tpl'\n",
      "2022-03-17 13:22:24.176253 saving zone array freyberg6_template\\rch_recharge_2_cn_inst0_constant.csv.zone for tpl file freyberg6_template\\rch_recharge_2_cn_inst0_constant.csv.tpl\n",
      "2022-03-17 13:22:24.182237 finished: adding constant type m style parameters for file(s) ['freyberg6.rch_recharge_2.txt'] took: 0:00:00.017952\n",
      "2022-03-17 13:22:24.182237 starting: adding constant type m style parameters for file(s) ['freyberg6.rch_recharge_2.txt']\n",
      "2022-03-17 13:22:24.183234 starting: loading array freyberg6_template\\freyberg6.rch_recharge_2.txt\n",
      "2022-03-17 13:22:24.184232 finished: loading array freyberg6_template\\freyberg6.rch_recharge_2.txt took: 0:00:00.000998\n",
      "2022-03-17 13:22:24.184232 loaded array 'freyberg_mf6\\freyberg6.rch_recharge_2.txt' of shape (40, 20)\n",
      "2022-03-17 13:22:24.186226 starting: writing array-style template file 'freyberg6_template\\rch_recharge_2_tcn_inst0_constant.csv.tpl'\n",
      "2022-03-17 13:22:24.186226 starting: writing template file freyberg6_template\\rch_recharge_2_tcn_inst0_constant.csv.tpl for ['rch_recharge_2_tcn_inst:0']\n",
      "2022-03-17 13:22:24.194205 finished: writing template file freyberg6_template\\rch_recharge_2_tcn_inst0_constant.csv.tpl for ['rch_recharge_2_tcn_inst:0'] took: 0:00:00.007979\n",
      "2022-03-17 13:22:24.194205 starting: writing array-based template file 'freyberg6_template\\rch_recharge_2_tcn_inst0_constant.csv.tpl'\n"
     ]
    },
    {
     "name": "stdout",
     "output_type": "stream",
     "text": [
      "2022-03-17 13:22:24.195202 saving zone array freyberg6_template\\rch_recharge_2_tcn_inst0_constant.csv.zone for tpl file freyberg6_template\\rch_recharge_2_tcn_inst0_constant.csv.tpl\n",
      "2022-03-17 13:22:24.203181 finished: adding constant type m style parameters for file(s) ['freyberg6.rch_recharge_2.txt'] took: 0:00:00.020944\n",
      "2022-03-17 13:22:24.203181 starting: adding grid type m style parameters for file(s) ['freyberg6.rch_recharge_20.txt']\n",
      "2022-03-17 13:22:24.203181 starting: loading array freyberg6_template\\freyberg6.rch_recharge_20.txt\n",
      "2022-03-17 13:22:24.209165 finished: loading array freyberg6_template\\freyberg6.rch_recharge_20.txt took: 0:00:00.005984\n",
      "2022-03-17 13:22:24.209165 loaded array 'freyberg_mf6\\freyberg6.rch_recharge_20.txt' of shape (40, 20)\n",
      "2022-03-17 13:22:24.211159 starting: writing array-style template file 'freyberg6_template\\rch_recharge_20_gr_inst0_grid.csv.tpl'\n",
      "2022-03-17 13:22:24.211159 starting: writing template file freyberg6_template\\rch_recharge_20_gr_inst0_grid.csv.tpl for ['rch_recharge_20_gr_inst:0']\n",
      "2022-03-17 13:22:24.224125 finished: writing template file freyberg6_template\\rch_recharge_20_gr_inst0_grid.csv.tpl for ['rch_recharge_20_gr_inst:0'] took: 0:00:00.012966\n",
      "2022-03-17 13:22:24.224125 starting: writing array-based template file 'freyberg6_template\\rch_recharge_20_gr_inst0_grid.csv.tpl'\n",
      "2022-03-17 13:22:24.224125 saving zone array freyberg6_template\\rch_recharge_20_gr_inst0_grid.csv.zone for tpl file freyberg6_template\\rch_recharge_20_gr_inst0_grid.csv.tpl\n",
      "2022-03-17 13:22:24.232104 finished: adding grid type m style parameters for file(s) ['freyberg6.rch_recharge_20.txt'] took: 0:00:00.028923\n",
      "2022-03-17 13:22:24.232104 starting: adding pilotpoints type m style parameters for file(s) ['freyberg6.rch_recharge_20.txt']\n",
      "2022-03-17 13:22:24.232104 starting: loading array freyberg6_template\\freyberg6.rch_recharge_20.txt\n",
      "2022-03-17 13:22:24.233102 finished: loading array freyberg6_template\\freyberg6.rch_recharge_20.txt took: 0:00:00.000998\n",
      "2022-03-17 13:22:24.234098 loaded array 'freyberg_mf6\\freyberg6.rch_recharge_20.txt' of shape (40, 20)\n",
      "2022-03-17 13:22:24.235096 starting: writing array-style template file 'freyberg6_template\\rch_recharge_20_pp_inst0_pilotpoints.csv.tpl'\n",
      "2022-03-17 13:22:24.236093 starting: setting up pilot point parameters\n",
      "2022-03-17 13:22:24.236093 No spatial reference (containing cell spacing) passed.\n",
      "2022-03-17 13:22:24.236093 OK - using spatial reference in parent object.\n"
     ]
    },
    {
     "name": "stdout",
     "output_type": "stream",
     "text": [
      "2022-03-17 13:22:24.305906 32 pilot point parameters created\n",
      "2022-03-17 13:22:24.305906 pilot point 'pargp':rch_recharge_20_pp\n",
      "2022-03-17 13:22:24.305906 finished: setting up pilot point parameters took: 0:00:00.069813\n",
      "2022-03-17 13:22:24.312887 starting: writing array-based template file 'freyberg6_template\\rch_recharge_20_pp_inst0pp.dat.tpl'\n",
      "2022-03-17 13:22:24.312887 saving zone array freyberg6_template\\rch_recharge_20_pp_inst0pp.dat.zone for tpl file freyberg6_template\\rch_recharge_20_pp_inst0pp.dat.tpl\n",
      "2022-03-17 13:22:24.317874 finished: adding pilotpoints type m style parameters for file(s) ['freyberg6.rch_recharge_20.txt'] took: 0:00:00.085770\n",
      "2022-03-17 13:22:24.317874 starting: adding constant type m style parameters for file(s) ['freyberg6.rch_recharge_20.txt']\n",
      "2022-03-17 13:22:24.317874 starting: loading array freyberg6_template\\freyberg6.rch_recharge_20.txt\n",
      "2022-03-17 13:22:24.319869 finished: loading array freyberg6_template\\freyberg6.rch_recharge_20.txt took: 0:00:00.001995\n",
      "2022-03-17 13:22:24.319869 loaded array 'freyberg_mf6\\freyberg6.rch_recharge_20.txt' of shape (40, 20)\n",
      "2022-03-17 13:22:24.321863 starting: writing array-style template file 'freyberg6_template\\rch_recharge_20_cn_inst0_constant.csv.tpl'\n",
      "2022-03-17 13:22:24.321863 starting: writing template file freyberg6_template\\rch_recharge_20_cn_inst0_constant.csv.tpl for ['rch_recharge_20_cn_inst:0']\n",
      "2022-03-17 13:22:24.328845 finished: writing template file freyberg6_template\\rch_recharge_20_cn_inst0_constant.csv.tpl for ['rch_recharge_20_cn_inst:0'] took: 0:00:00.006982\n",
      "2022-03-17 13:22:24.328845 starting: writing array-based template file 'freyberg6_template\\rch_recharge_20_cn_inst0_constant.csv.tpl'\n",
      "2022-03-17 13:22:24.329842 saving zone array freyberg6_template\\rch_recharge_20_cn_inst0_constant.csv.zone for tpl file freyberg6_template\\rch_recharge_20_cn_inst0_constant.csv.tpl\n",
      "2022-03-17 13:22:24.335826 finished: adding constant type m style parameters for file(s) ['freyberg6.rch_recharge_20.txt'] took: 0:00:00.017952\n",
      "2022-03-17 13:22:24.335826 starting: adding constant type m style parameters for file(s) ['freyberg6.rch_recharge_20.txt']\n",
      "2022-03-17 13:22:24.336824 starting: loading array freyberg6_template\\freyberg6.rch_recharge_20.txt\n",
      "2022-03-17 13:22:24.337821 finished: loading array freyberg6_template\\freyberg6.rch_recharge_20.txt took: 0:00:00.000997\n",
      "2022-03-17 13:22:24.337821 loaded array 'freyberg_mf6\\freyberg6.rch_recharge_20.txt' of shape (40, 20)\n",
      "2022-03-17 13:22:24.339815 starting: writing array-style template file 'freyberg6_template\\rch_recharge_20_tcn_inst0_constant.csv.tpl'\n",
      "2022-03-17 13:22:24.340815 starting: writing template file freyberg6_template\\rch_recharge_20_tcn_inst0_constant.csv.tpl for ['rch_recharge_20_tcn_inst:0']\n",
      "2022-03-17 13:22:24.347795 finished: writing template file freyberg6_template\\rch_recharge_20_tcn_inst0_constant.csv.tpl for ['rch_recharge_20_tcn_inst:0'] took: 0:00:00.006980\n",
      "2022-03-17 13:22:24.347795 starting: writing array-based template file 'freyberg6_template\\rch_recharge_20_tcn_inst0_constant.csv.tpl'\n",
      "2022-03-17 13:22:24.348792 saving zone array freyberg6_template\\rch_recharge_20_tcn_inst0_constant.csv.zone for tpl file freyberg6_template\\rch_recharge_20_tcn_inst0_constant.csv.tpl\n",
      "2022-03-17 13:22:24.355773 finished: adding constant type m style parameters for file(s) ['freyberg6.rch_recharge_20.txt'] took: 0:00:00.019947\n",
      "2022-03-17 13:22:24.355773 starting: adding grid type m style parameters for file(s) ['freyberg6.rch_recharge_21.txt']\n",
      "2022-03-17 13:22:24.355773 starting: loading array freyberg6_template\\freyberg6.rch_recharge_21.txt\n",
      "2022-03-17 13:22:24.361757 finished: loading array freyberg6_template\\freyberg6.rch_recharge_21.txt took: 0:00:00.005984\n",
      "2022-03-17 13:22:24.362754 loaded array 'freyberg_mf6\\freyberg6.rch_recharge_21.txt' of shape (40, 20)\n",
      "2022-03-17 13:22:24.364749 starting: writing array-style template file 'freyberg6_template\\rch_recharge_21_gr_inst0_grid.csv.tpl'\n",
      "2022-03-17 13:22:24.364749 starting: writing template file freyberg6_template\\rch_recharge_21_gr_inst0_grid.csv.tpl for ['rch_recharge_21_gr_inst:0']\n",
      "2022-03-17 13:22:24.376717 finished: writing template file freyberg6_template\\rch_recharge_21_gr_inst0_grid.csv.tpl for ['rch_recharge_21_gr_inst:0'] took: 0:00:00.011968\n",
      "2022-03-17 13:22:24.377714 starting: writing array-based template file 'freyberg6_template\\rch_recharge_21_gr_inst0_grid.csv.tpl'\n"
     ]
    },
    {
     "name": "stdout",
     "output_type": "stream",
     "text": [
      "2022-03-17 13:22:24.377714 saving zone array freyberg6_template\\rch_recharge_21_gr_inst0_grid.csv.zone for tpl file freyberg6_template\\rch_recharge_21_gr_inst0_grid.csv.tpl\n",
      "2022-03-17 13:22:24.385693 finished: adding grid type m style parameters for file(s) ['freyberg6.rch_recharge_21.txt'] took: 0:00:00.029920\n",
      "2022-03-17 13:22:24.385693 starting: adding pilotpoints type m style parameters for file(s) ['freyberg6.rch_recharge_21.txt']\n",
      "2022-03-17 13:22:24.385693 starting: loading array freyberg6_template\\freyberg6.rch_recharge_21.txt\n",
      "2022-03-17 13:22:24.387687 finished: loading array freyberg6_template\\freyberg6.rch_recharge_21.txt took: 0:00:00.001994\n",
      "2022-03-17 13:22:24.387687 loaded array 'freyberg_mf6\\freyberg6.rch_recharge_21.txt' of shape (40, 20)\n",
      "2022-03-17 13:22:24.389682 starting: writing array-style template file 'freyberg6_template\\rch_recharge_21_pp_inst0_pilotpoints.csv.tpl'\n",
      "2022-03-17 13:22:24.389682 starting: setting up pilot point parameters\n",
      "2022-03-17 13:22:24.389682 No spatial reference (containing cell spacing) passed.\n",
      "2022-03-17 13:22:24.389682 OK - using spatial reference in parent object.\n",
      "2022-03-17 13:22:24.460492 32 pilot point parameters created\n",
      "2022-03-17 13:22:24.460492 pilot point 'pargp':rch_recharge_21_pp\n",
      "2022-03-17 13:22:24.460492 finished: setting up pilot point parameters took: 0:00:00.070810\n",
      "2022-03-17 13:22:24.467474 starting: writing array-based template file 'freyberg6_template\\rch_recharge_21_pp_inst0pp.dat.tpl'\n",
      "2022-03-17 13:22:24.467474 saving zone array freyberg6_template\\rch_recharge_21_pp_inst0pp.dat.zone for tpl file freyberg6_template\\rch_recharge_21_pp_inst0pp.dat.tpl\n",
      "2022-03-17 13:22:24.473458 finished: adding pilotpoints type m style parameters for file(s) ['freyberg6.rch_recharge_21.txt'] took: 0:00:00.087765\n",
      "2022-03-17 13:22:24.473458 starting: adding constant type m style parameters for file(s) ['freyberg6.rch_recharge_21.txt']\n",
      "2022-03-17 13:22:24.473458 starting: loading array freyberg6_template\\freyberg6.rch_recharge_21.txt\n",
      "2022-03-17 13:22:24.475453 finished: loading array freyberg6_template\\freyberg6.rch_recharge_21.txt took: 0:00:00.001995\n",
      "2022-03-17 13:22:24.475453 loaded array 'freyberg_mf6\\freyberg6.rch_recharge_21.txt' of shape (40, 20)\n",
      "2022-03-17 13:22:24.477459 starting: writing array-style template file 'freyberg6_template\\rch_recharge_21_cn_inst0_constant.csv.tpl'\n",
      "2022-03-17 13:22:24.477459 starting: writing template file freyberg6_template\\rch_recharge_21_cn_inst0_constant.csv.tpl for ['rch_recharge_21_cn_inst:0']\n",
      "2022-03-17 13:22:24.484429 finished: writing template file freyberg6_template\\rch_recharge_21_cn_inst0_constant.csv.tpl for ['rch_recharge_21_cn_inst:0'] took: 0:00:00.006970\n",
      "2022-03-17 13:22:24.484429 starting: writing array-based template file 'freyberg6_template\\rch_recharge_21_cn_inst0_constant.csv.tpl'\n",
      "2022-03-17 13:22:24.484429 saving zone array freyberg6_template\\rch_recharge_21_cn_inst0_constant.csv.zone for tpl file freyberg6_template\\rch_recharge_21_cn_inst0_constant.csv.tpl\n",
      "2022-03-17 13:22:24.490498 finished: adding constant type m style parameters for file(s) ['freyberg6.rch_recharge_21.txt'] took: 0:00:00.017040\n",
      "2022-03-17 13:22:24.491410 starting: adding constant type m style parameters for file(s) ['freyberg6.rch_recharge_21.txt']\n",
      "2022-03-17 13:22:24.491410 starting: loading array freyberg6_template\\freyberg6.rch_recharge_21.txt\n"
     ]
    },
    {
     "name": "stdout",
     "output_type": "stream",
     "text": [
      "2022-03-17 13:22:24.492408 finished: loading array freyberg6_template\\freyberg6.rch_recharge_21.txt took: 0:00:00.000998\n",
      "2022-03-17 13:22:24.492408 loaded array 'freyberg_mf6\\freyberg6.rch_recharge_21.txt' of shape (40, 20)\n",
      "2022-03-17 13:22:24.494402 starting: writing array-style template file 'freyberg6_template\\rch_recharge_21_tcn_inst0_constant.csv.tpl'\n",
      "2022-03-17 13:22:24.495399 starting: writing template file freyberg6_template\\rch_recharge_21_tcn_inst0_constant.csv.tpl for ['rch_recharge_21_tcn_inst:0']\n",
      "2022-03-17 13:22:24.501383 finished: writing template file freyberg6_template\\rch_recharge_21_tcn_inst0_constant.csv.tpl for ['rch_recharge_21_tcn_inst:0'] took: 0:00:00.005984\n",
      "2022-03-17 13:22:24.502381 starting: writing array-based template file 'freyberg6_template\\rch_recharge_21_tcn_inst0_constant.csv.tpl'\n",
      "2022-03-17 13:22:24.503379 saving zone array freyberg6_template\\rch_recharge_21_tcn_inst0_constant.csv.zone for tpl file freyberg6_template\\rch_recharge_21_tcn_inst0_constant.csv.tpl\n",
      "2022-03-17 13:22:24.510359 finished: adding constant type m style parameters for file(s) ['freyberg6.rch_recharge_21.txt'] took: 0:00:00.018949\n",
      "2022-03-17 13:22:24.510359 starting: adding grid type m style parameters for file(s) ['freyberg6.rch_recharge_22.txt']\n",
      "2022-03-17 13:22:24.510359 starting: loading array freyberg6_template\\freyberg6.rch_recharge_22.txt\n",
      "2022-03-17 13:22:24.516343 finished: loading array freyberg6_template\\freyberg6.rch_recharge_22.txt took: 0:00:00.005984\n",
      "2022-03-17 13:22:24.516343 loaded array 'freyberg_mf6\\freyberg6.rch_recharge_22.txt' of shape (40, 20)\n",
      "2022-03-17 13:22:24.518338 starting: writing array-style template file 'freyberg6_template\\rch_recharge_22_gr_inst0_grid.csv.tpl'\n",
      "2022-03-17 13:22:24.518338 starting: writing template file freyberg6_template\\rch_recharge_22_gr_inst0_grid.csv.tpl for ['rch_recharge_22_gr_inst:0']\n",
      "2022-03-17 13:22:24.531303 finished: writing template file freyberg6_template\\rch_recharge_22_gr_inst0_grid.csv.tpl for ['rch_recharge_22_gr_inst:0'] took: 0:00:00.012965\n",
      "2022-03-17 13:22:24.531303 starting: writing array-based template file 'freyberg6_template\\rch_recharge_22_gr_inst0_grid.csv.tpl'\n",
      "2022-03-17 13:22:24.531303 saving zone array freyberg6_template\\rch_recharge_22_gr_inst0_grid.csv.zone for tpl file freyberg6_template\\rch_recharge_22_gr_inst0_grid.csv.tpl\n",
      "2022-03-17 13:22:24.538285 finished: adding grid type m style parameters for file(s) ['freyberg6.rch_recharge_22.txt'] took: 0:00:00.027926\n",
      "2022-03-17 13:22:24.538285 starting: adding pilotpoints type m style parameters for file(s) ['freyberg6.rch_recharge_22.txt']\n",
      "2022-03-17 13:22:24.539282 starting: loading array freyberg6_template\\freyberg6.rch_recharge_22.txt\n",
      "2022-03-17 13:22:24.540508 finished: loading array freyberg6_template\\freyberg6.rch_recharge_22.txt took: 0:00:00.001226\n",
      "2022-03-17 13:22:24.540508 loaded array 'freyberg_mf6\\freyberg6.rch_recharge_22.txt' of shape (40, 20)\n",
      "2022-03-17 13:22:24.542274 starting: writing array-style template file 'freyberg6_template\\rch_recharge_22_pp_inst0_pilotpoints.csv.tpl'\n",
      "2022-03-17 13:22:24.542274 starting: setting up pilot point parameters\n",
      "2022-03-17 13:22:24.543271 No spatial reference (containing cell spacing) passed.\n",
      "2022-03-17 13:22:24.543271 OK - using spatial reference in parent object.\n"
     ]
    },
    {
     "name": "stdout",
     "output_type": "stream",
     "text": [
      "2022-03-17 13:22:24.612087 32 pilot point parameters created\n",
      "2022-03-17 13:22:24.612087 pilot point 'pargp':rch_recharge_22_pp\n",
      "2022-03-17 13:22:24.612087 finished: setting up pilot point parameters took: 0:00:00.069813\n",
      "2022-03-17 13:22:24.619069 starting: writing array-based template file 'freyberg6_template\\rch_recharge_22_pp_inst0pp.dat.tpl'\n",
      "2022-03-17 13:22:24.619069 saving zone array freyberg6_template\\rch_recharge_22_pp_inst0pp.dat.zone for tpl file freyberg6_template\\rch_recharge_22_pp_inst0pp.dat.tpl\n",
      "2022-03-17 13:22:24.624055 finished: adding pilotpoints type m style parameters for file(s) ['freyberg6.rch_recharge_22.txt'] took: 0:00:00.085770\n",
      "2022-03-17 13:22:24.625052 starting: adding constant type m style parameters for file(s) ['freyberg6.rch_recharge_22.txt']\n",
      "2022-03-17 13:22:24.625052 starting: loading array freyberg6_template\\freyberg6.rch_recharge_22.txt\n",
      "2022-03-17 13:22:24.626050 finished: loading array freyberg6_template\\freyberg6.rch_recharge_22.txt took: 0:00:00.000998\n",
      "2022-03-17 13:22:24.627047 loaded array 'freyberg_mf6\\freyberg6.rch_recharge_22.txt' of shape (40, 20)\n",
      "2022-03-17 13:22:24.628045 starting: writing array-style template file 'freyberg6_template\\rch_recharge_22_cn_inst0_constant.csv.tpl'\n",
      "2022-03-17 13:22:24.629042 starting: writing template file freyberg6_template\\rch_recharge_22_cn_inst0_constant.csv.tpl for ['rch_recharge_22_cn_inst:0']\n",
      "2022-03-17 13:22:24.637020 finished: writing template file freyberg6_template\\rch_recharge_22_cn_inst0_constant.csv.tpl for ['rch_recharge_22_cn_inst:0'] took: 0:00:00.007978\n",
      "2022-03-17 13:22:24.637020 starting: writing array-based template file 'freyberg6_template\\rch_recharge_22_cn_inst0_constant.csv.tpl'\n",
      "2022-03-17 13:22:24.637020 saving zone array freyberg6_template\\rch_recharge_22_cn_inst0_constant.csv.zone for tpl file freyberg6_template\\rch_recharge_22_cn_inst0_constant.csv.tpl\n",
      "2022-03-17 13:22:24.643004 finished: adding constant type m style parameters for file(s) ['freyberg6.rch_recharge_22.txt'] took: 0:00:00.017952\n",
      "2022-03-17 13:22:24.643004 starting: adding constant type m style parameters for file(s) ['freyberg6.rch_recharge_22.txt']\n",
      "2022-03-17 13:22:24.643004 starting: loading array freyberg6_template\\freyberg6.rch_recharge_22.txt\n",
      "2022-03-17 13:22:24.644999 finished: loading array freyberg6_template\\freyberg6.rch_recharge_22.txt took: 0:00:00.001995\n",
      "2022-03-17 13:22:24.644999 loaded array 'freyberg_mf6\\freyberg6.rch_recharge_22.txt' of shape (40, 20)\n",
      "2022-03-17 13:22:24.646994 starting: writing array-style template file 'freyberg6_template\\rch_recharge_22_tcn_inst0_constant.csv.tpl'\n",
      "2022-03-17 13:22:24.646994 starting: writing template file freyberg6_template\\rch_recharge_22_tcn_inst0_constant.csv.tpl for ['rch_recharge_22_tcn_inst:0']\n",
      "2022-03-17 13:22:24.654972 finished: writing template file freyberg6_template\\rch_recharge_22_tcn_inst0_constant.csv.tpl for ['rch_recharge_22_tcn_inst:0'] took: 0:00:00.007978\n",
      "2022-03-17 13:22:24.654972 starting: writing array-based template file 'freyberg6_template\\rch_recharge_22_tcn_inst0_constant.csv.tpl'\n",
      "2022-03-17 13:22:24.655970 saving zone array freyberg6_template\\rch_recharge_22_tcn_inst0_constant.csv.zone for tpl file freyberg6_template\\rch_recharge_22_tcn_inst0_constant.csv.tpl\n",
      "2022-03-17 13:22:24.662951 finished: adding constant type m style parameters for file(s) ['freyberg6.rch_recharge_22.txt'] took: 0:00:00.019947\n",
      "2022-03-17 13:22:24.663948 starting: adding grid type m style parameters for file(s) ['freyberg6.rch_recharge_23.txt']\n",
      "2022-03-17 13:22:24.663948 starting: loading array freyberg6_template\\freyberg6.rch_recharge_23.txt\n",
      "2022-03-17 13:22:24.668935 finished: loading array freyberg6_template\\freyberg6.rch_recharge_23.txt took: 0:00:00.004987\n",
      "2022-03-17 13:22:24.668935 loaded array 'freyberg_mf6\\freyberg6.rch_recharge_23.txt' of shape (40, 20)\n",
      "2022-03-17 13:22:24.670930 starting: writing array-style template file 'freyberg6_template\\rch_recharge_23_gr_inst0_grid.csv.tpl'\n",
      "2022-03-17 13:22:24.671927 starting: writing template file freyberg6_template\\rch_recharge_23_gr_inst0_grid.csv.tpl for ['rch_recharge_23_gr_inst:0']\n",
      "2022-03-17 13:22:24.683895 finished: writing template file freyberg6_template\\rch_recharge_23_gr_inst0_grid.csv.tpl for ['rch_recharge_23_gr_inst:0'] took: 0:00:00.011968\n"
     ]
    },
    {
     "name": "stdout",
     "output_type": "stream",
     "text": [
      "2022-03-17 13:22:24.684893 starting: writing array-based template file 'freyberg6_template\\rch_recharge_23_gr_inst0_grid.csv.tpl'\n",
      "2022-03-17 13:22:24.684893 saving zone array freyberg6_template\\rch_recharge_23_gr_inst0_grid.csv.zone for tpl file freyberg6_template\\rch_recharge_23_gr_inst0_grid.csv.tpl\n",
      "2022-03-17 13:22:24.693869 finished: adding grid type m style parameters for file(s) ['freyberg6.rch_recharge_23.txt'] took: 0:00:00.029921\n",
      "2022-03-17 13:22:24.693869 starting: adding pilotpoints type m style parameters for file(s) ['freyberg6.rch_recharge_23.txt']\n",
      "2022-03-17 13:22:24.693869 starting: loading array freyberg6_template\\freyberg6.rch_recharge_23.txt\n",
      "2022-03-17 13:22:24.695863 finished: loading array freyberg6_template\\freyberg6.rch_recharge_23.txt took: 0:00:00.001994\n",
      "2022-03-17 13:22:24.695863 loaded array 'freyberg_mf6\\freyberg6.rch_recharge_23.txt' of shape (40, 20)\n",
      "2022-03-17 13:22:24.697858 starting: writing array-style template file 'freyberg6_template\\rch_recharge_23_pp_inst0_pilotpoints.csv.tpl'\n",
      "2022-03-17 13:22:24.697858 starting: setting up pilot point parameters\n",
      "2022-03-17 13:22:24.697858 No spatial reference (containing cell spacing) passed.\n",
      "2022-03-17 13:22:24.697858 OK - using spatial reference in parent object.\n",
      "2022-03-17 13:22:24.767180 32 pilot point parameters created\n",
      "2022-03-17 13:22:24.767180 pilot point 'pargp':rch_recharge_23_pp\n",
      "2022-03-17 13:22:24.767180 finished: setting up pilot point parameters took: 0:00:00.069322\n",
      "2022-03-17 13:22:24.774161 starting: writing array-based template file 'freyberg6_template\\rch_recharge_23_pp_inst0pp.dat.tpl'\n",
      "2022-03-17 13:22:24.775160 saving zone array freyberg6_template\\rch_recharge_23_pp_inst0pp.dat.zone for tpl file freyberg6_template\\rch_recharge_23_pp_inst0pp.dat.tpl\n",
      "2022-03-17 13:22:24.780145 finished: adding pilotpoints type m style parameters for file(s) ['freyberg6.rch_recharge_23.txt'] took: 0:00:00.086276\n",
      "2022-03-17 13:22:24.780145 starting: adding constant type m style parameters for file(s) ['freyberg6.rch_recharge_23.txt']\n",
      "2022-03-17 13:22:24.781143 starting: loading array freyberg6_template\\freyberg6.rch_recharge_23.txt\n",
      "2022-03-17 13:22:24.782140 finished: loading array freyberg6_template\\freyberg6.rch_recharge_23.txt took: 0:00:00.000997\n",
      "2022-03-17 13:22:24.782140 loaded array 'freyberg_mf6\\freyberg6.rch_recharge_23.txt' of shape (40, 20)\n",
      "2022-03-17 13:22:24.784134 starting: writing array-style template file 'freyberg6_template\\rch_recharge_23_cn_inst0_constant.csv.tpl'\n",
      "2022-03-17 13:22:24.784134 starting: writing template file freyberg6_template\\rch_recharge_23_cn_inst0_constant.csv.tpl for ['rch_recharge_23_cn_inst:0']\n",
      "2022-03-17 13:22:24.792114 finished: writing template file freyberg6_template\\rch_recharge_23_cn_inst0_constant.csv.tpl for ['rch_recharge_23_cn_inst:0'] took: 0:00:00.007980\n",
      "2022-03-17 13:22:24.792114 starting: writing array-based template file 'freyberg6_template\\rch_recharge_23_cn_inst0_constant.csv.tpl'\n",
      "2022-03-17 13:22:24.792114 saving zone array freyberg6_template\\rch_recharge_23_cn_inst0_constant.csv.zone for tpl file freyberg6_template\\rch_recharge_23_cn_inst0_constant.csv.tpl\n",
      "2022-03-17 13:22:24.799095 finished: adding constant type m style parameters for file(s) ['freyberg6.rch_recharge_23.txt'] took: 0:00:00.018950\n",
      "2022-03-17 13:22:24.799095 starting: adding constant type m style parameters for file(s) ['freyberg6.rch_recharge_23.txt']\n",
      "2022-03-17 13:22:24.799095 starting: loading array freyberg6_template\\freyberg6.rch_recharge_23.txt\n",
      "2022-03-17 13:22:24.800092 finished: loading array freyberg6_template\\freyberg6.rch_recharge_23.txt took: 0:00:00.000997\n",
      "2022-03-17 13:22:24.801089 loaded array 'freyberg_mf6\\freyberg6.rch_recharge_23.txt' of shape (40, 20)\n"
     ]
    },
    {
     "name": "stdout",
     "output_type": "stream",
     "text": [
      "2022-03-17 13:22:24.803084 starting: writing array-style template file 'freyberg6_template\\rch_recharge_23_tcn_inst0_constant.csv.tpl'\n",
      "2022-03-17 13:22:24.803084 starting: writing template file freyberg6_template\\rch_recharge_23_tcn_inst0_constant.csv.tpl for ['rch_recharge_23_tcn_inst:0']\n",
      "2022-03-17 13:22:24.811062 finished: writing template file freyberg6_template\\rch_recharge_23_tcn_inst0_constant.csv.tpl for ['rch_recharge_23_tcn_inst:0'] took: 0:00:00.007978\n",
      "2022-03-17 13:22:24.811062 starting: writing array-based template file 'freyberg6_template\\rch_recharge_23_tcn_inst0_constant.csv.tpl'\n",
      "2022-03-17 13:22:24.812060 saving zone array freyberg6_template\\rch_recharge_23_tcn_inst0_constant.csv.zone for tpl file freyberg6_template\\rch_recharge_23_tcn_inst0_constant.csv.tpl\n",
      "2022-03-17 13:22:24.820038 finished: adding constant type m style parameters for file(s) ['freyberg6.rch_recharge_23.txt'] took: 0:00:00.020943\n",
      "2022-03-17 13:22:24.820038 starting: adding grid type m style parameters for file(s) ['freyberg6.rch_recharge_24.txt']\n",
      "2022-03-17 13:22:24.820038 starting: loading array freyberg6_template\\freyberg6.rch_recharge_24.txt\n",
      "2022-03-17 13:22:24.827020 finished: loading array freyberg6_template\\freyberg6.rch_recharge_24.txt took: 0:00:00.006982\n",
      "2022-03-17 13:22:24.827020 loaded array 'freyberg_mf6\\freyberg6.rch_recharge_24.txt' of shape (40, 20)\n",
      "2022-03-17 13:22:24.835000 starting: writing array-style template file 'freyberg6_template\\rch_recharge_24_gr_inst0_grid.csv.tpl'\n",
      "2022-03-17 13:22:24.835000 starting: writing template file freyberg6_template\\rch_recharge_24_gr_inst0_grid.csv.tpl for ['rch_recharge_24_gr_inst:0']\n",
      "2022-03-17 13:22:24.853948 finished: writing template file freyberg6_template\\rch_recharge_24_gr_inst0_grid.csv.tpl for ['rch_recharge_24_gr_inst:0'] took: 0:00:00.018948\n",
      "2022-03-17 13:22:24.853948 starting: writing array-based template file 'freyberg6_template\\rch_recharge_24_gr_inst0_grid.csv.tpl'\n",
      "2022-03-17 13:22:24.854946 saving zone array freyberg6_template\\rch_recharge_24_gr_inst0_grid.csv.zone for tpl file freyberg6_template\\rch_recharge_24_gr_inst0_grid.csv.tpl\n",
      "2022-03-17 13:22:24.861927 finished: adding grid type m style parameters for file(s) ['freyberg6.rch_recharge_24.txt'] took: 0:00:00.041889\n"
     ]
    },
    {
     "name": "stdout",
     "output_type": "stream",
     "text": [
      "2022-03-17 13:22:24.862925 starting: adding pilotpoints type m style parameters for file(s) ['freyberg6.rch_recharge_24.txt']\n",
      "2022-03-17 13:22:24.862925 starting: loading array freyberg6_template\\freyberg6.rch_recharge_24.txt\n",
      "2022-03-17 13:22:24.864919 finished: loading array freyberg6_template\\freyberg6.rch_recharge_24.txt took: 0:00:00.001994\n",
      "2022-03-17 13:22:24.864919 loaded array 'freyberg_mf6\\freyberg6.rch_recharge_24.txt' of shape (40, 20)\n",
      "2022-03-17 13:22:24.866914 starting: writing array-style template file 'freyberg6_template\\rch_recharge_24_pp_inst0_pilotpoints.csv.tpl'\n",
      "2022-03-17 13:22:24.866914 starting: setting up pilot point parameters\n",
      "2022-03-17 13:22:24.866914 No spatial reference (containing cell spacing) passed.\n",
      "2022-03-17 13:22:24.866914 OK - using spatial reference in parent object.\n",
      "2022-03-17 13:22:24.943708 32 pilot point parameters created\n",
      "2022-03-17 13:22:24.943708 pilot point 'pargp':rch_recharge_24_pp\n",
      "2022-03-17 13:22:24.944705 finished: setting up pilot point parameters took: 0:00:00.077791\n",
      "2022-03-17 13:22:24.950689 starting: writing array-based template file 'freyberg6_template\\rch_recharge_24_pp_inst0pp.dat.tpl'\n",
      "2022-03-17 13:22:24.950689 saving zone array freyberg6_template\\rch_recharge_24_pp_inst0pp.dat.zone for tpl file freyberg6_template\\rch_recharge_24_pp_inst0pp.dat.tpl\n",
      "2022-03-17 13:22:24.955676 finished: adding pilotpoints type m style parameters for file(s) ['freyberg6.rch_recharge_24.txt'] took: 0:00:00.092751\n",
      "2022-03-17 13:22:24.955676 starting: adding constant type m style parameters for file(s) ['freyberg6.rch_recharge_24.txt']\n",
      "2022-03-17 13:22:24.955676 starting: loading array freyberg6_template\\freyberg6.rch_recharge_24.txt\n",
      "2022-03-17 13:22:24.957671 finished: loading array freyberg6_template\\freyberg6.rch_recharge_24.txt took: 0:00:00.001995\n",
      "2022-03-17 13:22:24.957671 loaded array 'freyberg_mf6\\freyberg6.rch_recharge_24.txt' of shape (40, 20)\n",
      "2022-03-17 13:22:24.959665 starting: writing array-style template file 'freyberg6_template\\rch_recharge_24_cn_inst0_constant.csv.tpl'\n",
      "2022-03-17 13:22:24.959665 starting: writing template file freyberg6_template\\rch_recharge_24_cn_inst0_constant.csv.tpl for ['rch_recharge_24_cn_inst:0']\n",
      "2022-03-17 13:22:24.967644 finished: writing template file freyberg6_template\\rch_recharge_24_cn_inst0_constant.csv.tpl for ['rch_recharge_24_cn_inst:0'] took: 0:00:00.007979\n",
      "2022-03-17 13:22:24.967644 starting: writing array-based template file 'freyberg6_template\\rch_recharge_24_cn_inst0_constant.csv.tpl'\n",
      "2022-03-17 13:22:24.967644 saving zone array freyberg6_template\\rch_recharge_24_cn_inst0_constant.csv.zone for tpl file freyberg6_template\\rch_recharge_24_cn_inst0_constant.csv.tpl\n",
      "2022-03-17 13:22:24.974625 finished: adding constant type m style parameters for file(s) ['freyberg6.rch_recharge_24.txt'] took: 0:00:00.018949\n",
      "2022-03-17 13:22:24.974625 starting: adding constant type m style parameters for file(s) ['freyberg6.rch_recharge_24.txt']\n",
      "2022-03-17 13:22:24.974625 starting: loading array freyberg6_template\\freyberg6.rch_recharge_24.txt\n",
      "2022-03-17 13:22:24.975622 finished: loading array freyberg6_template\\freyberg6.rch_recharge_24.txt took: 0:00:00.000997\n",
      "2022-03-17 13:22:24.975622 loaded array 'freyberg_mf6\\freyberg6.rch_recharge_24.txt' of shape (40, 20)\n",
      "2022-03-17 13:22:24.978614 starting: writing array-style template file 'freyberg6_template\\rch_recharge_24_tcn_inst0_constant.csv.tpl'\n",
      "2022-03-17 13:22:24.978614 starting: writing template file freyberg6_template\\rch_recharge_24_tcn_inst0_constant.csv.tpl for ['rch_recharge_24_tcn_inst:0']\n",
      "2022-03-17 13:22:24.985596 finished: writing template file freyberg6_template\\rch_recharge_24_tcn_inst0_constant.csv.tpl for ['rch_recharge_24_tcn_inst:0'] took: 0:00:00.006982\n",
      "2022-03-17 13:22:24.985596 starting: writing array-based template file 'freyberg6_template\\rch_recharge_24_tcn_inst0_constant.csv.tpl'\n",
      "2022-03-17 13:22:24.986593 saving zone array freyberg6_template\\rch_recharge_24_tcn_inst0_constant.csv.zone for tpl file freyberg6_template\\rch_recharge_24_tcn_inst0_constant.csv.tpl\n",
      "2022-03-17 13:22:24.994572 finished: adding constant type m style parameters for file(s) ['freyberg6.rch_recharge_24.txt'] took: 0:00:00.019947\n",
      "2022-03-17 13:22:24.994572 starting: adding grid type m style parameters for file(s) ['freyberg6.rch_recharge_25.txt']\n",
      "2022-03-17 13:22:24.994572 starting: loading array freyberg6_template\\freyberg6.rch_recharge_25.txt\n"
     ]
    },
    {
     "name": "stdout",
     "output_type": "stream",
     "text": [
      "2022-03-17 13:22:25.000556 finished: loading array freyberg6_template\\freyberg6.rch_recharge_25.txt took: 0:00:00.005984\n",
      "2022-03-17 13:22:25.000556 loaded array 'freyberg_mf6\\freyberg6.rch_recharge_25.txt' of shape (40, 20)\n",
      "2022-03-17 13:22:25.003548 starting: writing array-style template file 'freyberg6_template\\rch_recharge_25_gr_inst0_grid.csv.tpl'\n",
      "2022-03-17 13:22:25.003548 starting: writing template file freyberg6_template\\rch_recharge_25_gr_inst0_grid.csv.tpl for ['rch_recharge_25_gr_inst:0']\n",
      "2022-03-17 13:22:25.016514 finished: writing template file freyberg6_template\\rch_recharge_25_gr_inst0_grid.csv.tpl for ['rch_recharge_25_gr_inst:0'] took: 0:00:00.012966\n",
      "2022-03-17 13:22:25.016514 starting: writing array-based template file 'freyberg6_template\\rch_recharge_25_gr_inst0_grid.csv.tpl'\n",
      "2022-03-17 13:22:25.016514 saving zone array freyberg6_template\\rch_recharge_25_gr_inst0_grid.csv.zone for tpl file freyberg6_template\\rch_recharge_25_gr_inst0_grid.csv.tpl\n",
      "2022-03-17 13:22:25.025490 finished: adding grid type m style parameters for file(s) ['freyberg6.rch_recharge_25.txt'] took: 0:00:00.030918\n",
      "2022-03-17 13:22:25.025490 starting: adding pilotpoints type m style parameters for file(s) ['freyberg6.rch_recharge_25.txt']\n",
      "2022-03-17 13:22:25.025490 starting: loading array freyberg6_template\\freyberg6.rch_recharge_25.txt\n",
      "2022-03-17 13:22:25.027484 finished: loading array freyberg6_template\\freyberg6.rch_recharge_25.txt took: 0:00:00.001994\n",
      "2022-03-17 13:22:25.027484 loaded array 'freyberg_mf6\\freyberg6.rch_recharge_25.txt' of shape (40, 20)\n",
      "2022-03-17 13:22:25.029479 starting: writing array-style template file 'freyberg6_template\\rch_recharge_25_pp_inst0_pilotpoints.csv.tpl'\n",
      "2022-03-17 13:22:25.029479 starting: setting up pilot point parameters\n",
      "2022-03-17 13:22:25.029479 No spatial reference (containing cell spacing) passed.\n",
      "2022-03-17 13:22:25.030477 OK - using spatial reference in parent object.\n"
     ]
    },
    {
     "name": "stdout",
     "output_type": "stream",
     "text": [
      "2022-03-17 13:22:25.108268 32 pilot point parameters created\n",
      "2022-03-17 13:22:25.109265 pilot point 'pargp':rch_recharge_25_pp\n",
      "2022-03-17 13:22:25.109265 finished: setting up pilot point parameters took: 0:00:00.079786\n",
      "2022-03-17 13:22:25.115755 starting: writing array-based template file 'freyberg6_template\\rch_recharge_25_pp_inst0pp.dat.tpl'\n",
      "2022-03-17 13:22:25.115755 saving zone array freyberg6_template\\rch_recharge_25_pp_inst0pp.dat.zone for tpl file freyberg6_template\\rch_recharge_25_pp_inst0pp.dat.tpl\n",
      "2022-03-17 13:22:25.120742 finished: adding pilotpoints type m style parameters for file(s) ['freyberg6.rch_recharge_25.txt'] took: 0:00:00.095252\n",
      "2022-03-17 13:22:25.120742 starting: adding constant type m style parameters for file(s) ['freyberg6.rch_recharge_25.txt']\n",
      "2022-03-17 13:22:25.121739 starting: loading array freyberg6_template\\freyberg6.rch_recharge_25.txt\n",
      "2022-03-17 13:22:25.122737 finished: loading array freyberg6_template\\freyberg6.rch_recharge_25.txt took: 0:00:00.000998\n",
      "2022-03-17 13:22:25.122737 loaded array 'freyberg_mf6\\freyberg6.rch_recharge_25.txt' of shape (40, 20)\n",
      "2022-03-17 13:22:25.124731 starting: writing array-style template file 'freyberg6_template\\rch_recharge_25_cn_inst0_constant.csv.tpl'\n",
      "2022-03-17 13:22:25.125729 starting: writing template file freyberg6_template\\rch_recharge_25_cn_inst0_constant.csv.tpl for ['rch_recharge_25_cn_inst:0']\n",
      "2022-03-17 13:22:25.132710 finished: writing template file freyberg6_template\\rch_recharge_25_cn_inst0_constant.csv.tpl for ['rch_recharge_25_cn_inst:0'] took: 0:00:00.006981\n",
      "2022-03-17 13:22:25.132710 starting: writing array-based template file 'freyberg6_template\\rch_recharge_25_cn_inst0_constant.csv.tpl'\n",
      "2022-03-17 13:22:25.133707 saving zone array freyberg6_template\\rch_recharge_25_cn_inst0_constant.csv.zone for tpl file freyberg6_template\\rch_recharge_25_cn_inst0_constant.csv.tpl\n",
      "2022-03-17 13:22:25.140722 finished: adding constant type m style parameters for file(s) ['freyberg6.rch_recharge_25.txt'] took: 0:00:00.019980\n",
      "2022-03-17 13:22:25.140722 starting: adding constant type m style parameters for file(s) ['freyberg6.rch_recharge_25.txt']\n",
      "2022-03-17 13:22:25.140722 starting: loading array freyberg6_template\\freyberg6.rch_recharge_25.txt\n",
      "2022-03-17 13:22:25.142717 finished: loading array freyberg6_template\\freyberg6.rch_recharge_25.txt took: 0:00:00.001995\n",
      "2022-03-17 13:22:25.142717 loaded array 'freyberg_mf6\\freyberg6.rch_recharge_25.txt' of shape (40, 20)\n",
      "2022-03-17 13:22:25.143714 starting: writing array-style template file 'freyberg6_template\\rch_recharge_25_tcn_inst0_constant.csv.tpl'\n",
      "2022-03-17 13:22:25.144711 starting: writing template file freyberg6_template\\rch_recharge_25_tcn_inst0_constant.csv.tpl for ['rch_recharge_25_tcn_inst:0']\n",
      "2022-03-17 13:22:25.151659 finished: writing template file freyberg6_template\\rch_recharge_25_tcn_inst0_constant.csv.tpl for ['rch_recharge_25_tcn_inst:0'] took: 0:00:00.006948\n",
      "2022-03-17 13:22:25.151659 starting: writing array-based template file 'freyberg6_template\\rch_recharge_25_tcn_inst0_constant.csv.tpl'\n",
      "2022-03-17 13:22:25.151659 saving zone array freyberg6_template\\rch_recharge_25_tcn_inst0_constant.csv.zone for tpl file freyberg6_template\\rch_recharge_25_tcn_inst0_constant.csv.tpl\n",
      "2022-03-17 13:22:25.159640 finished: adding constant type m style parameters for file(s) ['freyberg6.rch_recharge_25.txt'] took: 0:00:00.018918\n",
      "2022-03-17 13:22:25.159640 starting: adding grid type m style parameters for file(s) ['freyberg6.rch_recharge_3.txt']\n",
      "2022-03-17 13:22:25.159640 starting: loading array freyberg6_template\\freyberg6.rch_recharge_3.txt\n",
      "2022-03-17 13:22:25.165622 finished: loading array freyberg6_template\\freyberg6.rch_recharge_3.txt took: 0:00:00.005982\n",
      "2022-03-17 13:22:25.165622 loaded array 'freyberg_mf6\\freyberg6.rch_recharge_3.txt' of shape (40, 20)\n",
      "2022-03-17 13:22:25.167616 starting: writing array-style template file 'freyberg6_template\\rch_recharge_3_gr_inst0_grid.csv.tpl'\n",
      "2022-03-17 13:22:25.167616 starting: writing template file freyberg6_template\\rch_recharge_3_gr_inst0_grid.csv.tpl for ['rch_recharge_3_gr_inst:0']\n",
      "2022-03-17 13:22:25.179585 finished: writing template file freyberg6_template\\rch_recharge_3_gr_inst0_grid.csv.tpl for ['rch_recharge_3_gr_inst:0'] took: 0:00:00.011969\n"
     ]
    },
    {
     "name": "stdout",
     "output_type": "stream",
     "text": [
      "2022-03-17 13:22:25.180582 starting: writing array-based template file 'freyberg6_template\\rch_recharge_3_gr_inst0_grid.csv.tpl'\n",
      "2022-03-17 13:22:25.180582 saving zone array freyberg6_template\\rch_recharge_3_gr_inst0_grid.csv.zone for tpl file freyberg6_template\\rch_recharge_3_gr_inst0_grid.csv.tpl\n",
      "2022-03-17 13:22:25.187563 finished: adding grid type m style parameters for file(s) ['freyberg6.rch_recharge_3.txt'] took: 0:00:00.027923\n",
      "2022-03-17 13:22:25.188560 starting: adding pilotpoints type m style parameters for file(s) ['freyberg6.rch_recharge_3.txt']\n",
      "2022-03-17 13:22:25.188560 starting: loading array freyberg6_template\\freyberg6.rch_recharge_3.txt\n",
      "2022-03-17 13:22:25.189558 finished: loading array freyberg6_template\\freyberg6.rch_recharge_3.txt took: 0:00:00.000998\n",
      "2022-03-17 13:22:25.190555 loaded array 'freyberg_mf6\\freyberg6.rch_recharge_3.txt' of shape (40, 20)\n",
      "2022-03-17 13:22:25.192550 starting: writing array-style template file 'freyberg6_template\\rch_recharge_3_pp_inst0_pilotpoints.csv.tpl'\n",
      "2022-03-17 13:22:25.192550 starting: setting up pilot point parameters\n",
      "2022-03-17 13:22:25.192550 No spatial reference (containing cell spacing) passed.\n",
      "2022-03-17 13:22:25.192550 OK - using spatial reference in parent object.\n",
      "2022-03-17 13:22:25.261366 32 pilot point parameters created\n",
      "2022-03-17 13:22:25.261366 pilot point 'pargp':rch_recharge_3_pp\n",
      "2022-03-17 13:22:25.262363 finished: setting up pilot point parameters took: 0:00:00.069813\n",
      "2022-03-17 13:22:25.268347 starting: writing array-based template file 'freyberg6_template\\rch_recharge_3_pp_inst0pp.dat.tpl'\n",
      "2022-03-17 13:22:25.269344 saving zone array freyberg6_template\\rch_recharge_3_pp_inst0pp.dat.zone for tpl file freyberg6_template\\rch_recharge_3_pp_inst0pp.dat.tpl\n",
      "2022-03-17 13:22:25.274331 finished: adding pilotpoints type m style parameters for file(s) ['freyberg6.rch_recharge_3.txt'] took: 0:00:00.085771\n",
      "2022-03-17 13:22:25.274331 starting: adding constant type m style parameters for file(s) ['freyberg6.rch_recharge_3.txt']\n",
      "2022-03-17 13:22:25.274331 starting: loading array freyberg6_template\\freyberg6.rch_recharge_3.txt\n",
      "2022-03-17 13:22:25.276326 finished: loading array freyberg6_template\\freyberg6.rch_recharge_3.txt took: 0:00:00.001995\n",
      "2022-03-17 13:22:25.276326 loaded array 'freyberg_mf6\\freyberg6.rch_recharge_3.txt' of shape (40, 20)\n",
      "2022-03-17 13:22:25.278320 starting: writing array-style template file 'freyberg6_template\\rch_recharge_3_cn_inst0_constant.csv.tpl'\n",
      "2022-03-17 13:22:25.278320 starting: writing template file freyberg6_template\\rch_recharge_3_cn_inst0_constant.csv.tpl for ['rch_recharge_3_cn_inst:0']\n",
      "2022-03-17 13:22:25.285302 finished: writing template file freyberg6_template\\rch_recharge_3_cn_inst0_constant.csv.tpl for ['rch_recharge_3_cn_inst:0'] took: 0:00:00.006982\n",
      "2022-03-17 13:22:25.285302 starting: writing array-based template file 'freyberg6_template\\rch_recharge_3_cn_inst0_constant.csv.tpl'\n",
      "2022-03-17 13:22:25.285302 saving zone array freyberg6_template\\rch_recharge_3_cn_inst0_constant.csv.zone for tpl file freyberg6_template\\rch_recharge_3_cn_inst0_constant.csv.tpl\n"
     ]
    },
    {
     "name": "stdout",
     "output_type": "stream",
     "text": [
      "2022-03-17 13:22:25.292283 finished: adding constant type m style parameters for file(s) ['freyberg6.rch_recharge_3.txt'] took: 0:00:00.017952\n",
      "2022-03-17 13:22:25.292283 starting: adding constant type m style parameters for file(s) ['freyberg6.rch_recharge_3.txt']\n",
      "2022-03-17 13:22:25.293280 starting: loading array freyberg6_template\\freyberg6.rch_recharge_3.txt\n",
      "2022-03-17 13:22:25.294278 finished: loading array freyberg6_template\\freyberg6.rch_recharge_3.txt took: 0:00:00.000998\n",
      "2022-03-17 13:22:25.294278 loaded array 'freyberg_mf6\\freyberg6.rch_recharge_3.txt' of shape (40, 20)\n",
      "2022-03-17 13:22:25.296272 starting: writing array-style template file 'freyberg6_template\\rch_recharge_3_tcn_inst0_constant.csv.tpl'\n",
      "2022-03-17 13:22:25.296272 starting: writing template file freyberg6_template\\rch_recharge_3_tcn_inst0_constant.csv.tpl for ['rch_recharge_3_tcn_inst:0']\n",
      "2022-03-17 13:22:25.303254 finished: writing template file freyberg6_template\\rch_recharge_3_tcn_inst0_constant.csv.tpl for ['rch_recharge_3_tcn_inst:0'] took: 0:00:00.006982\n",
      "2022-03-17 13:22:25.303254 starting: writing array-based template file 'freyberg6_template\\rch_recharge_3_tcn_inst0_constant.csv.tpl'\n",
      "2022-03-17 13:22:25.304251 saving zone array freyberg6_template\\rch_recharge_3_tcn_inst0_constant.csv.zone for tpl file freyberg6_template\\rch_recharge_3_tcn_inst0_constant.csv.tpl\n",
      "2022-03-17 13:22:25.312735 finished: adding constant type m style parameters for file(s) ['freyberg6.rch_recharge_3.txt'] took: 0:00:00.020452\n",
      "2022-03-17 13:22:25.312795 starting: adding grid type m style parameters for file(s) ['freyberg6.rch_recharge_4.txt']\n",
      "2022-03-17 13:22:25.312795 starting: loading array freyberg6_template\\freyberg6.rch_recharge_4.txt\n",
      "2022-03-17 13:22:25.317724 finished: loading array freyberg6_template\\freyberg6.rch_recharge_4.txt took: 0:00:00.004929\n",
      "2022-03-17 13:22:25.318721 loaded array 'freyberg_mf6\\freyberg6.rch_recharge_4.txt' of shape (40, 20)\n",
      "2022-03-17 13:22:25.320716 starting: writing array-style template file 'freyberg6_template\\rch_recharge_4_gr_inst0_grid.csv.tpl'\n",
      "2022-03-17 13:22:25.320716 starting: writing template file freyberg6_template\\rch_recharge_4_gr_inst0_grid.csv.tpl for ['rch_recharge_4_gr_inst:0']\n",
      "2022-03-17 13:22:25.333681 finished: writing template file freyberg6_template\\rch_recharge_4_gr_inst0_grid.csv.tpl for ['rch_recharge_4_gr_inst:0'] took: 0:00:00.012965\n",
      "2022-03-17 13:22:25.334682 starting: writing array-based template file 'freyberg6_template\\rch_recharge_4_gr_inst0_grid.csv.tpl'\n",
      "2022-03-17 13:22:25.334682 saving zone array freyberg6_template\\rch_recharge_4_gr_inst0_grid.csv.zone for tpl file freyberg6_template\\rch_recharge_4_gr_inst0_grid.csv.tpl\n",
      "2022-03-17 13:22:25.342658 finished: adding grid type m style parameters for file(s) ['freyberg6.rch_recharge_4.txt'] took: 0:00:00.029863\n",
      "2022-03-17 13:22:25.342658 starting: adding pilotpoints type m style parameters for file(s) ['freyberg6.rch_recharge_4.txt']\n",
      "2022-03-17 13:22:25.342658 starting: loading array freyberg6_template\\freyberg6.rch_recharge_4.txt\n",
      "2022-03-17 13:22:25.343655 finished: loading array freyberg6_template\\freyberg6.rch_recharge_4.txt took: 0:00:00.000997\n",
      "2022-03-17 13:22:25.343655 loaded array 'freyberg_mf6\\freyberg6.rch_recharge_4.txt' of shape (40, 20)\n",
      "2022-03-17 13:22:25.346647 starting: writing array-style template file 'freyberg6_template\\rch_recharge_4_pp_inst0_pilotpoints.csv.tpl'\n",
      "2022-03-17 13:22:25.346647 starting: setting up pilot point parameters\n",
      "2022-03-17 13:22:25.346647 No spatial reference (containing cell spacing) passed.\n",
      "2022-03-17 13:22:25.346647 OK - using spatial reference in parent object.\n"
     ]
    },
    {
     "name": "stdout",
     "output_type": "stream",
     "text": [
      "2022-03-17 13:22:25.420449 32 pilot point parameters created\n",
      "2022-03-17 13:22:25.420449 pilot point 'pargp':rch_recharge_4_pp\n",
      "2022-03-17 13:22:25.420449 finished: setting up pilot point parameters took: 0:00:00.073802\n",
      "2022-03-17 13:22:25.427430 starting: writing array-based template file 'freyberg6_template\\rch_recharge_4_pp_inst0pp.dat.tpl'\n",
      "2022-03-17 13:22:25.427430 saving zone array freyberg6_template\\rch_recharge_4_pp_inst0pp.dat.zone for tpl file freyberg6_template\\rch_recharge_4_pp_inst0pp.dat.tpl\n",
      "2022-03-17 13:22:25.433414 finished: adding pilotpoints type m style parameters for file(s) ['freyberg6.rch_recharge_4.txt'] took: 0:00:00.090756\n",
      "2022-03-17 13:22:25.433414 starting: adding constant type m style parameters for file(s) ['freyberg6.rch_recharge_4.txt']\n",
      "2022-03-17 13:22:25.433414 starting: loading array freyberg6_template\\freyberg6.rch_recharge_4.txt\n",
      "2022-03-17 13:22:25.434412 finished: loading array freyberg6_template\\freyberg6.rch_recharge_4.txt took: 0:00:00.000998\n",
      "2022-03-17 13:22:25.435409 loaded array 'freyberg_mf6\\freyberg6.rch_recharge_4.txt' of shape (40, 20)\n",
      "2022-03-17 13:22:25.437404 starting: writing array-style template file 'freyberg6_template\\rch_recharge_4_cn_inst0_constant.csv.tpl'\n",
      "2022-03-17 13:22:25.437404 starting: writing template file freyberg6_template\\rch_recharge_4_cn_inst0_constant.csv.tpl for ['rch_recharge_4_cn_inst:0']\n",
      "2022-03-17 13:22:25.444385 finished: writing template file freyberg6_template\\rch_recharge_4_cn_inst0_constant.csv.tpl for ['rch_recharge_4_cn_inst:0'] took: 0:00:00.006981\n",
      "2022-03-17 13:22:25.444385 starting: writing array-based template file 'freyberg6_template\\rch_recharge_4_cn_inst0_constant.csv.tpl'\n",
      "2022-03-17 13:22:25.444385 saving zone array freyberg6_template\\rch_recharge_4_cn_inst0_constant.csv.zone for tpl file freyberg6_template\\rch_recharge_4_cn_inst0_constant.csv.tpl\n",
      "2022-03-17 13:22:25.450369 finished: adding constant type m style parameters for file(s) ['freyberg6.rch_recharge_4.txt'] took: 0:00:00.016955\n",
      "2022-03-17 13:22:25.451367 starting: adding constant type m style parameters for file(s) ['freyberg6.rch_recharge_4.txt']\n",
      "2022-03-17 13:22:25.451367 starting: loading array freyberg6_template\\freyberg6.rch_recharge_4.txt\n",
      "2022-03-17 13:22:25.452364 finished: loading array freyberg6_template\\freyberg6.rch_recharge_4.txt took: 0:00:00.000997\n",
      "2022-03-17 13:22:25.452364 loaded array 'freyberg_mf6\\freyberg6.rch_recharge_4.txt' of shape (40, 20)\n",
      "2022-03-17 13:22:25.454358 starting: writing array-style template file 'freyberg6_template\\rch_recharge_4_tcn_inst0_constant.csv.tpl'\n",
      "2022-03-17 13:22:25.454358 starting: writing template file freyberg6_template\\rch_recharge_4_tcn_inst0_constant.csv.tpl for ['rch_recharge_4_tcn_inst:0']\n",
      "2022-03-17 13:22:25.462338 finished: writing template file freyberg6_template\\rch_recharge_4_tcn_inst0_constant.csv.tpl for ['rch_recharge_4_tcn_inst:0'] took: 0:00:00.007980\n",
      "2022-03-17 13:22:25.462338 starting: writing array-based template file 'freyberg6_template\\rch_recharge_4_tcn_inst0_constant.csv.tpl'\n",
      "2022-03-17 13:22:25.463335 saving zone array freyberg6_template\\rch_recharge_4_tcn_inst0_constant.csv.zone for tpl file freyberg6_template\\rch_recharge_4_tcn_inst0_constant.csv.tpl\n",
      "2022-03-17 13:22:25.470316 finished: adding constant type m style parameters for file(s) ['freyberg6.rch_recharge_4.txt'] took: 0:00:00.018949\n",
      "2022-03-17 13:22:25.470316 starting: adding grid type m style parameters for file(s) ['freyberg6.rch_recharge_5.txt']\n",
      "2022-03-17 13:22:25.470316 starting: loading array freyberg6_template\\freyberg6.rch_recharge_5.txt\n"
     ]
    },
    {
     "name": "stdout",
     "output_type": "stream",
     "text": [
      "2022-03-17 13:22:25.477297 finished: loading array freyberg6_template\\freyberg6.rch_recharge_5.txt took: 0:00:00.006981\n",
      "2022-03-17 13:22:25.477297 loaded array 'freyberg_mf6\\freyberg6.rch_recharge_5.txt' of shape (40, 20)\n",
      "2022-03-17 13:22:25.479291 starting: writing array-style template file 'freyberg6_template\\rch_recharge_5_gr_inst0_grid.csv.tpl'\n",
      "2022-03-17 13:22:25.479291 starting: writing template file freyberg6_template\\rch_recharge_5_gr_inst0_grid.csv.tpl for ['rch_recharge_5_gr_inst:0']\n",
      "2022-03-17 13:22:25.492257 finished: writing template file freyberg6_template\\rch_recharge_5_gr_inst0_grid.csv.tpl for ['rch_recharge_5_gr_inst:0'] took: 0:00:00.012966\n",
      "2022-03-17 13:22:25.492257 starting: writing array-based template file 'freyberg6_template\\rch_recharge_5_gr_inst0_grid.csv.tpl'\n",
      "2022-03-17 13:22:25.492257 saving zone array freyberg6_template\\rch_recharge_5_gr_inst0_grid.csv.zone for tpl file freyberg6_template\\rch_recharge_5_gr_inst0_grid.csv.tpl\n",
      "2022-03-17 13:22:25.499238 finished: adding grid type m style parameters for file(s) ['freyberg6.rch_recharge_5.txt'] took: 0:00:00.028922\n",
      "2022-03-17 13:22:25.499238 starting: adding pilotpoints type m style parameters for file(s) ['freyberg6.rch_recharge_5.txt']\n",
      "2022-03-17 13:22:25.499238 starting: loading array freyberg6_template\\freyberg6.rch_recharge_5.txt\n",
      "2022-03-17 13:22:25.501233 finished: loading array freyberg6_template\\freyberg6.rch_recharge_5.txt took: 0:00:00.001995\n",
      "2022-03-17 13:22:25.501233 loaded array 'freyberg_mf6\\freyberg6.rch_recharge_5.txt' of shape (40, 20)\n",
      "2022-03-17 13:22:25.503228 starting: writing array-style template file 'freyberg6_template\\rch_recharge_5_pp_inst0_pilotpoints.csv.tpl'\n",
      "2022-03-17 13:22:25.503228 starting: setting up pilot point parameters\n",
      "2022-03-17 13:22:25.503228 No spatial reference (containing cell spacing) passed.\n",
      "2022-03-17 13:22:25.503228 OK - using spatial reference in parent object.\n",
      "2022-03-17 13:22:25.571046 32 pilot point parameters created\n",
      "2022-03-17 13:22:25.572044 pilot point 'pargp':rch_recharge_5_pp\n",
      "2022-03-17 13:22:25.572044 finished: setting up pilot point parameters took: 0:00:00.068816\n",
      "2022-03-17 13:22:25.579025 starting: writing array-based template file 'freyberg6_template\\rch_recharge_5_pp_inst0pp.dat.tpl'\n",
      "2022-03-17 13:22:25.579025 saving zone array freyberg6_template\\rch_recharge_5_pp_inst0pp.dat.zone for tpl file freyberg6_template\\rch_recharge_5_pp_inst0pp.dat.tpl\n",
      "2022-03-17 13:22:25.584012 finished: adding pilotpoints type m style parameters for file(s) ['freyberg6.rch_recharge_5.txt'] took: 0:00:00.084774\n",
      "2022-03-17 13:22:25.584012 starting: adding constant type m style parameters for file(s) ['freyberg6.rch_recharge_5.txt']\n",
      "2022-03-17 13:22:25.585009 starting: loading array freyberg6_template\\freyberg6.rch_recharge_5.txt\n",
      "2022-03-17 13:22:25.586006 finished: loading array freyberg6_template\\freyberg6.rch_recharge_5.txt took: 0:00:00.000997\n",
      "2022-03-17 13:22:25.586006 loaded array 'freyberg_mf6\\freyberg6.rch_recharge_5.txt' of shape (40, 20)\n",
      "2022-03-17 13:22:25.588001 starting: writing array-style template file 'freyberg6_template\\rch_recharge_5_cn_inst0_constant.csv.tpl'\n",
      "2022-03-17 13:22:25.588001 starting: writing template file freyberg6_template\\rch_recharge_5_cn_inst0_constant.csv.tpl for ['rch_recharge_5_cn_inst:0']\n",
      "2022-03-17 13:22:25.595980 finished: writing template file freyberg6_template\\rch_recharge_5_cn_inst0_constant.csv.tpl for ['rch_recharge_5_cn_inst:0'] took: 0:00:00.007979\n",
      "2022-03-17 13:22:25.595980 starting: writing array-based template file 'freyberg6_template\\rch_recharge_5_cn_inst0_constant.csv.tpl'\n",
      "2022-03-17 13:22:25.595980 saving zone array freyberg6_template\\rch_recharge_5_cn_inst0_constant.csv.zone for tpl file freyberg6_template\\rch_recharge_5_cn_inst0_constant.csv.tpl\n"
     ]
    },
    {
     "name": "stdout",
     "output_type": "stream",
     "text": [
      "2022-03-17 13:22:25.602961 finished: adding constant type m style parameters for file(s) ['freyberg6.rch_recharge_5.txt'] took: 0:00:00.018949\n",
      "2022-03-17 13:22:25.602961 starting: adding constant type m style parameters for file(s) ['freyberg6.rch_recharge_5.txt']\n",
      "2022-03-17 13:22:25.602961 starting: loading array freyberg6_template\\freyberg6.rch_recharge_5.txt\n",
      "2022-03-17 13:22:25.604956 finished: loading array freyberg6_template\\freyberg6.rch_recharge_5.txt took: 0:00:00.001995\n",
      "2022-03-17 13:22:25.604956 loaded array 'freyberg_mf6\\freyberg6.rch_recharge_5.txt' of shape (40, 20)\n",
      "2022-03-17 13:22:25.607090 starting: writing array-style template file 'freyberg6_template\\rch_recharge_5_tcn_inst0_constant.csv.tpl'\n",
      "2022-03-17 13:22:25.607948 starting: writing template file freyberg6_template\\rch_recharge_5_tcn_inst0_constant.csv.tpl for ['rch_recharge_5_tcn_inst:0']\n",
      "2022-03-17 13:22:25.614929 finished: writing template file freyberg6_template\\rch_recharge_5_tcn_inst0_constant.csv.tpl for ['rch_recharge_5_tcn_inst:0'] took: 0:00:00.006981\n",
      "2022-03-17 13:22:25.614929 starting: writing array-based template file 'freyberg6_template\\rch_recharge_5_tcn_inst0_constant.csv.tpl'\n",
      "2022-03-17 13:22:25.615926 saving zone array freyberg6_template\\rch_recharge_5_tcn_inst0_constant.csv.zone for tpl file freyberg6_template\\rch_recharge_5_tcn_inst0_constant.csv.tpl\n",
      "2022-03-17 13:22:25.623905 finished: adding constant type m style parameters for file(s) ['freyberg6.rch_recharge_5.txt'] took: 0:00:00.020944\n",
      "2022-03-17 13:22:25.624902 starting: adding grid type m style parameters for file(s) ['freyberg6.rch_recharge_6.txt']\n",
      "2022-03-17 13:22:25.624902 starting: loading array freyberg6_template\\freyberg6.rch_recharge_6.txt\n",
      "2022-03-17 13:22:25.629889 finished: loading array freyberg6_template\\freyberg6.rch_recharge_6.txt took: 0:00:00.004987\n",
      "2022-03-17 13:22:25.629889 loaded array 'freyberg_mf6\\freyberg6.rch_recharge_6.txt' of shape (40, 20)\n",
      "2022-03-17 13:22:25.632881 starting: writing array-style template file 'freyberg6_template\\rch_recharge_6_gr_inst0_grid.csv.tpl'\n",
      "2022-03-17 13:22:25.632881 starting: writing template file freyberg6_template\\rch_recharge_6_gr_inst0_grid.csv.tpl for ['rch_recharge_6_gr_inst:0']\n",
      "2022-03-17 13:22:25.645846 finished: writing template file freyberg6_template\\rch_recharge_6_gr_inst0_grid.csv.tpl for ['rch_recharge_6_gr_inst:0'] took: 0:00:00.012965\n",
      "2022-03-17 13:22:25.645846 starting: writing array-based template file 'freyberg6_template\\rch_recharge_6_gr_inst0_grid.csv.tpl'\n",
      "2022-03-17 13:22:25.645846 saving zone array freyberg6_template\\rch_recharge_6_gr_inst0_grid.csv.zone for tpl file freyberg6_template\\rch_recharge_6_gr_inst0_grid.csv.tpl\n",
      "2022-03-17 13:22:25.652828 finished: adding grid type m style parameters for file(s) ['freyberg6.rch_recharge_6.txt'] took: 0:00:00.027926\n",
      "2022-03-17 13:22:25.653825 starting: adding pilotpoints type m style parameters for file(s) ['freyberg6.rch_recharge_6.txt']\n",
      "2022-03-17 13:22:25.653825 starting: loading array freyberg6_template\\freyberg6.rch_recharge_6.txt\n",
      "2022-03-17 13:22:25.654822 finished: loading array freyberg6_template\\freyberg6.rch_recharge_6.txt took: 0:00:00.000997\n",
      "2022-03-17 13:22:25.654822 loaded array 'freyberg_mf6\\freyberg6.rch_recharge_6.txt' of shape (40, 20)\n",
      "2022-03-17 13:22:25.657814 starting: writing array-style template file 'freyberg6_template\\rch_recharge_6_pp_inst0_pilotpoints.csv.tpl'\n",
      "2022-03-17 13:22:25.657814 starting: setting up pilot point parameters\n",
      "2022-03-17 13:22:25.657814 No spatial reference (containing cell spacing) passed.\n",
      "2022-03-17 13:22:25.657814 OK - using spatial reference in parent object.\n"
     ]
    },
    {
     "name": "stdout",
     "output_type": "stream",
     "text": [
      "2022-03-17 13:22:25.730619 32 pilot point parameters created\n",
      "2022-03-17 13:22:25.730619 pilot point 'pargp':rch_recharge_6_pp\n",
      "2022-03-17 13:22:25.730619 finished: setting up pilot point parameters took: 0:00:00.072805\n",
      "2022-03-17 13:22:25.737601 starting: writing array-based template file 'freyberg6_template\\rch_recharge_6_pp_inst0pp.dat.tpl'\n",
      "2022-03-17 13:22:25.737601 saving zone array freyberg6_template\\rch_recharge_6_pp_inst0pp.dat.zone for tpl file freyberg6_template\\rch_recharge_6_pp_inst0pp.dat.tpl\n",
      "2022-03-17 13:22:25.743585 finished: adding pilotpoints type m style parameters for file(s) ['freyberg6.rch_recharge_6.txt'] took: 0:00:00.089760\n",
      "2022-03-17 13:22:25.743585 starting: adding constant type m style parameters for file(s) ['freyberg6.rch_recharge_6.txt']\n",
      "2022-03-17 13:22:25.743585 starting: loading array freyberg6_template\\freyberg6.rch_recharge_6.txt\n",
      "2022-03-17 13:22:25.744582 finished: loading array freyberg6_template\\freyberg6.rch_recharge_6.txt took: 0:00:00.000997\n",
      "2022-03-17 13:22:25.744582 loaded array 'freyberg_mf6\\freyberg6.rch_recharge_6.txt' of shape (40, 20)\n",
      "2022-03-17 13:22:25.746577 starting: writing array-style template file 'freyberg6_template\\rch_recharge_6_cn_inst0_constant.csv.tpl'\n",
      "2022-03-17 13:22:25.746577 starting: writing template file freyberg6_template\\rch_recharge_6_cn_inst0_constant.csv.tpl for ['rch_recharge_6_cn_inst:0']\n",
      "2022-03-17 13:22:25.754555 finished: writing template file freyberg6_template\\rch_recharge_6_cn_inst0_constant.csv.tpl for ['rch_recharge_6_cn_inst:0'] took: 0:00:00.007978\n",
      "2022-03-17 13:22:25.754555 starting: writing array-based template file 'freyberg6_template\\rch_recharge_6_cn_inst0_constant.csv.tpl'\n",
      "2022-03-17 13:22:25.754555 saving zone array freyberg6_template\\rch_recharge_6_cn_inst0_constant.csv.zone for tpl file freyberg6_template\\rch_recharge_6_cn_inst0_constant.csv.tpl\n",
      "2022-03-17 13:22:25.760540 finished: adding constant type m style parameters for file(s) ['freyberg6.rch_recharge_6.txt'] took: 0:00:00.016955\n",
      "2022-03-17 13:22:25.761537 starting: adding constant type m style parameters for file(s) ['freyberg6.rch_recharge_6.txt']\n",
      "2022-03-17 13:22:25.761537 starting: loading array freyberg6_template\\freyberg6.rch_recharge_6.txt\n",
      "2022-03-17 13:22:25.762534 finished: loading array freyberg6_template\\freyberg6.rch_recharge_6.txt took: 0:00:00.000997\n",
      "2022-03-17 13:22:25.762534 loaded array 'freyberg_mf6\\freyberg6.rch_recharge_6.txt' of shape (40, 20)\n",
      "2022-03-17 13:22:25.764529 starting: writing array-style template file 'freyberg6_template\\rch_recharge_6_tcn_inst0_constant.csv.tpl'\n",
      "2022-03-17 13:22:25.764529 starting: writing template file freyberg6_template\\rch_recharge_6_tcn_inst0_constant.csv.tpl for ['rch_recharge_6_tcn_inst:0']\n",
      "2022-03-17 13:22:25.772508 finished: writing template file freyberg6_template\\rch_recharge_6_tcn_inst0_constant.csv.tpl for ['rch_recharge_6_tcn_inst:0'] took: 0:00:00.007979\n",
      "2022-03-17 13:22:25.772508 starting: writing array-based template file 'freyberg6_template\\rch_recharge_6_tcn_inst0_constant.csv.tpl'\n",
      "2022-03-17 13:22:25.773730 saving zone array freyberg6_template\\rch_recharge_6_tcn_inst0_constant.csv.zone for tpl file freyberg6_template\\rch_recharge_6_tcn_inst0_constant.csv.tpl\n",
      "2022-03-17 13:22:25.781484 finished: adding constant type m style parameters for file(s) ['freyberg6.rch_recharge_6.txt'] took: 0:00:00.019947\n",
      "2022-03-17 13:22:25.781484 starting: adding grid type m style parameters for file(s) ['freyberg6.rch_recharge_7.txt']\n",
      "2022-03-17 13:22:25.781484 starting: loading array freyberg6_template\\freyberg6.rch_recharge_7.txt\n",
      "2022-03-17 13:22:25.787468 finished: loading array freyberg6_template\\freyberg6.rch_recharge_7.txt took: 0:00:00.005984\n"
     ]
    },
    {
     "name": "stdout",
     "output_type": "stream",
     "text": [
      "2022-03-17 13:22:25.787468 loaded array 'freyberg_mf6\\freyberg6.rch_recharge_7.txt' of shape (40, 20)\n",
      "2022-03-17 13:22:25.790460 starting: writing array-style template file 'freyberg6_template\\rch_recharge_7_gr_inst0_grid.csv.tpl'\n",
      "2022-03-17 13:22:25.790460 starting: writing template file freyberg6_template\\rch_recharge_7_gr_inst0_grid.csv.tpl for ['rch_recharge_7_gr_inst:0']\n",
      "2022-03-17 13:22:25.802427 finished: writing template file freyberg6_template\\rch_recharge_7_gr_inst0_grid.csv.tpl for ['rch_recharge_7_gr_inst:0'] took: 0:00:00.011967\n",
      "2022-03-17 13:22:25.803425 starting: writing array-based template file 'freyberg6_template\\rch_recharge_7_gr_inst0_grid.csv.tpl'\n",
      "2022-03-17 13:22:25.803425 saving zone array freyberg6_template\\rch_recharge_7_gr_inst0_grid.csv.zone for tpl file freyberg6_template\\rch_recharge_7_gr_inst0_grid.csv.tpl\n",
      "2022-03-17 13:22:25.810406 finished: adding grid type m style parameters for file(s) ['freyberg6.rch_recharge_7.txt'] took: 0:00:00.028922\n",
      "2022-03-17 13:22:25.810406 starting: adding pilotpoints type m style parameters for file(s) ['freyberg6.rch_recharge_7.txt']\n",
      "2022-03-17 13:22:25.810406 starting: loading array freyberg6_template\\freyberg6.rch_recharge_7.txt\n",
      "2022-03-17 13:22:25.812401 finished: loading array freyberg6_template\\freyberg6.rch_recharge_7.txt took: 0:00:00.001995\n",
      "2022-03-17 13:22:25.812401 loaded array 'freyberg_mf6\\freyberg6.rch_recharge_7.txt' of shape (40, 20)\n",
      "2022-03-17 13:22:25.814395 starting: writing array-style template file 'freyberg6_template\\rch_recharge_7_pp_inst0_pilotpoints.csv.tpl'\n",
      "2022-03-17 13:22:25.814395 starting: setting up pilot point parameters\n",
      "2022-03-17 13:22:25.814395 No spatial reference (containing cell spacing) passed.\n",
      "2022-03-17 13:22:25.814395 OK - using spatial reference in parent object.\n",
      "2022-03-17 13:22:25.888251 32 pilot point parameters created\n",
      "2022-03-17 13:22:25.888251 pilot point 'pargp':rch_recharge_7_pp\n",
      "2022-03-17 13:22:25.888251 finished: setting up pilot point parameters took: 0:00:00.073856\n",
      "2022-03-17 13:22:25.895179 starting: writing array-based template file 'freyberg6_template\\rch_recharge_7_pp_inst0pp.dat.tpl'\n",
      "2022-03-17 13:22:25.895179 saving zone array freyberg6_template\\rch_recharge_7_pp_inst0pp.dat.zone for tpl file freyberg6_template\\rch_recharge_7_pp_inst0pp.dat.tpl\n",
      "2022-03-17 13:22:25.900166 finished: adding pilotpoints type m style parameters for file(s) ['freyberg6.rch_recharge_7.txt'] took: 0:00:00.089760\n",
      "2022-03-17 13:22:25.900166 starting: adding constant type m style parameters for file(s) ['freyberg6.rch_recharge_7.txt']\n",
      "2022-03-17 13:22:25.900166 starting: loading array freyberg6_template\\freyberg6.rch_recharge_7.txt\n",
      "2022-03-17 13:22:25.902161 finished: loading array freyberg6_template\\freyberg6.rch_recharge_7.txt took: 0:00:00.001995\n",
      "2022-03-17 13:22:25.902161 loaded array 'freyberg_mf6\\freyberg6.rch_recharge_7.txt' of shape (40, 20)\n",
      "2022-03-17 13:22:25.904155 starting: writing array-style template file 'freyberg6_template\\rch_recharge_7_cn_inst0_constant.csv.tpl'\n",
      "2022-03-17 13:22:25.904155 starting: writing template file freyberg6_template\\rch_recharge_7_cn_inst0_constant.csv.tpl for ['rch_recharge_7_cn_inst:0']\n",
      "2022-03-17 13:22:25.911137 finished: writing template file freyberg6_template\\rch_recharge_7_cn_inst0_constant.csv.tpl for ['rch_recharge_7_cn_inst:0'] took: 0:00:00.006982\n",
      "2022-03-17 13:22:25.911137 starting: writing array-based template file 'freyberg6_template\\rch_recharge_7_cn_inst0_constant.csv.tpl'\n",
      "2022-03-17 13:22:25.911137 saving zone array freyberg6_template\\rch_recharge_7_cn_inst0_constant.csv.zone for tpl file freyberg6_template\\rch_recharge_7_cn_inst0_constant.csv.tpl\n"
     ]
    },
    {
     "name": "stdout",
     "output_type": "stream",
     "text": [
      "2022-03-17 13:22:25.917627 finished: adding constant type m style parameters for file(s) ['freyberg6.rch_recharge_7.txt'] took: 0:00:00.017461\n",
      "2022-03-17 13:22:25.917627 starting: adding constant type m style parameters for file(s) ['freyberg6.rch_recharge_7.txt']\n",
      "2022-03-17 13:22:25.918624 starting: loading array freyberg6_template\\freyberg6.rch_recharge_7.txt\n",
      "2022-03-17 13:22:25.919622 finished: loading array freyberg6_template\\freyberg6.rch_recharge_7.txt took: 0:00:00.000998\n",
      "2022-03-17 13:22:25.919622 loaded array 'freyberg_mf6\\freyberg6.rch_recharge_7.txt' of shape (40, 20)\n",
      "2022-03-17 13:22:25.921616 starting: writing array-style template file 'freyberg6_template\\rch_recharge_7_tcn_inst0_constant.csv.tpl'\n",
      "2022-03-17 13:22:25.921616 starting: writing template file freyberg6_template\\rch_recharge_7_tcn_inst0_constant.csv.tpl for ['rch_recharge_7_tcn_inst:0']\n",
      "2022-03-17 13:22:25.929595 finished: writing template file freyberg6_template\\rch_recharge_7_tcn_inst0_constant.csv.tpl for ['rch_recharge_7_tcn_inst:0'] took: 0:00:00.007979\n",
      "2022-03-17 13:22:25.930592 starting: writing array-based template file 'freyberg6_template\\rch_recharge_7_tcn_inst0_constant.csv.tpl'\n",
      "2022-03-17 13:22:25.930592 saving zone array freyberg6_template\\rch_recharge_7_tcn_inst0_constant.csv.zone for tpl file freyberg6_template\\rch_recharge_7_tcn_inst0_constant.csv.tpl\n",
      "2022-03-17 13:22:25.938571 finished: adding constant type m style parameters for file(s) ['freyberg6.rch_recharge_7.txt'] took: 0:00:00.020944\n",
      "2022-03-17 13:22:25.938571 starting: adding grid type m style parameters for file(s) ['freyberg6.rch_recharge_8.txt']\n",
      "2022-03-17 13:22:25.938571 starting: loading array freyberg6_template\\freyberg6.rch_recharge_8.txt\n",
      "2022-03-17 13:22:25.944555 finished: loading array freyberg6_template\\freyberg6.rch_recharge_8.txt took: 0:00:00.005984\n",
      "2022-03-17 13:22:25.944555 loaded array 'freyberg_mf6\\freyberg6.rch_recharge_8.txt' of shape (40, 20)\n",
      "2022-03-17 13:22:25.946550 starting: writing array-style template file 'freyberg6_template\\rch_recharge_8_gr_inst0_grid.csv.tpl'\n",
      "2022-03-17 13:22:25.946550 starting: writing template file freyberg6_template\\rch_recharge_8_gr_inst0_grid.csv.tpl for ['rch_recharge_8_gr_inst:0']\n",
      "2022-03-17 13:22:25.959515 finished: writing template file freyberg6_template\\rch_recharge_8_gr_inst0_grid.csv.tpl for ['rch_recharge_8_gr_inst:0'] took: 0:00:00.012965\n",
      "2022-03-17 13:22:25.960512 starting: writing array-based template file 'freyberg6_template\\rch_recharge_8_gr_inst0_grid.csv.tpl'\n",
      "2022-03-17 13:22:25.960512 saving zone array freyberg6_template\\rch_recharge_8_gr_inst0_grid.csv.zone for tpl file freyberg6_template\\rch_recharge_8_gr_inst0_grid.csv.tpl\n",
      "2022-03-17 13:22:25.967533 finished: adding grid type m style parameters for file(s) ['freyberg6.rch_recharge_8.txt'] took: 0:00:00.028962\n",
      "2022-03-17 13:22:25.967533 starting: adding pilotpoints type m style parameters for file(s) ['freyberg6.rch_recharge_8.txt']\n",
      "2022-03-17 13:22:25.967533 starting: loading array freyberg6_template\\freyberg6.rch_recharge_8.txt\n",
      "2022-03-17 13:22:25.969488 finished: loading array freyberg6_template\\freyberg6.rch_recharge_8.txt took: 0:00:00.001955\n",
      "2022-03-17 13:22:25.969488 loaded array 'freyberg_mf6\\freyberg6.rch_recharge_8.txt' of shape (40, 20)\n",
      "2022-03-17 13:22:25.971483 starting: writing array-style template file 'freyberg6_template\\rch_recharge_8_pp_inst0_pilotpoints.csv.tpl'\n"
     ]
    },
    {
     "name": "stdout",
     "output_type": "stream",
     "text": [
      "2022-03-17 13:22:25.971483 starting: setting up pilot point parameters\n",
      "2022-03-17 13:22:25.972480 No spatial reference (containing cell spacing) passed.\n",
      "2022-03-17 13:22:25.972480 OK - using spatial reference in parent object.\n",
      "2022-03-17 13:22:26.042293 32 pilot point parameters created\n",
      "2022-03-17 13:22:26.042293 pilot point 'pargp':rch_recharge_8_pp\n",
      "2022-03-17 13:22:26.042293 finished: setting up pilot point parameters took: 0:00:00.070810\n",
      "2022-03-17 13:22:26.049275 starting: writing array-based template file 'freyberg6_template\\rch_recharge_8_pp_inst0pp.dat.tpl'\n",
      "2022-03-17 13:22:26.049275 saving zone array freyberg6_template\\rch_recharge_8_pp_inst0pp.dat.zone for tpl file freyberg6_template\\rch_recharge_8_pp_inst0pp.dat.tpl\n",
      "2022-03-17 13:22:26.054261 finished: adding pilotpoints type m style parameters for file(s) ['freyberg6.rch_recharge_8.txt'] took: 0:00:00.086728\n",
      "2022-03-17 13:22:26.054261 starting: adding constant type m style parameters for file(s) ['freyberg6.rch_recharge_8.txt']\n",
      "2022-03-17 13:22:26.055259 starting: loading array freyberg6_template\\freyberg6.rch_recharge_8.txt\n",
      "2022-03-17 13:22:26.056256 finished: loading array freyberg6_template\\freyberg6.rch_recharge_8.txt took: 0:00:00.000997\n",
      "2022-03-17 13:22:26.057254 loaded array 'freyberg_mf6\\freyberg6.rch_recharge_8.txt' of shape (40, 20)\n",
      "2022-03-17 13:22:26.059248 starting: writing array-style template file 'freyberg6_template\\rch_recharge_8_cn_inst0_constant.csv.tpl'\n",
      "2022-03-17 13:22:26.059248 starting: writing template file freyberg6_template\\rch_recharge_8_cn_inst0_constant.csv.tpl for ['rch_recharge_8_cn_inst:0']\n",
      "2022-03-17 13:22:26.066229 finished: writing template file freyberg6_template\\rch_recharge_8_cn_inst0_constant.csv.tpl for ['rch_recharge_8_cn_inst:0'] took: 0:00:00.006981\n",
      "2022-03-17 13:22:26.066229 starting: writing array-based template file 'freyberg6_template\\rch_recharge_8_cn_inst0_constant.csv.tpl'\n",
      "2022-03-17 13:22:26.066229 saving zone array freyberg6_template\\rch_recharge_8_cn_inst0_constant.csv.zone for tpl file freyberg6_template\\rch_recharge_8_cn_inst0_constant.csv.tpl\n",
      "2022-03-17 13:22:26.072213 finished: adding constant type m style parameters for file(s) ['freyberg6.rch_recharge_8.txt'] took: 0:00:00.017952\n",
      "2022-03-17 13:22:26.072213 starting: adding constant type m style parameters for file(s) ['freyberg6.rch_recharge_8.txt']\n",
      "2022-03-17 13:22:26.072213 starting: loading array freyberg6_template\\freyberg6.rch_recharge_8.txt\n",
      "2022-03-17 13:22:26.074208 finished: loading array freyberg6_template\\freyberg6.rch_recharge_8.txt took: 0:00:00.001995\n",
      "2022-03-17 13:22:26.074208 loaded array 'freyberg_mf6\\freyberg6.rch_recharge_8.txt' of shape (40, 20)\n",
      "2022-03-17 13:22:26.076203 starting: writing array-style template file 'freyberg6_template\\rch_recharge_8_tcn_inst0_constant.csv.tpl'\n",
      "2022-03-17 13:22:26.076203 starting: writing template file freyberg6_template\\rch_recharge_8_tcn_inst0_constant.csv.tpl for ['rch_recharge_8_tcn_inst:0']\n",
      "2022-03-17 13:22:26.083184 finished: writing template file freyberg6_template\\rch_recharge_8_tcn_inst0_constant.csv.tpl for ['rch_recharge_8_tcn_inst:0'] took: 0:00:00.006981\n",
      "2022-03-17 13:22:26.083184 starting: writing array-based template file 'freyberg6_template\\rch_recharge_8_tcn_inst0_constant.csv.tpl'\n",
      "2022-03-17 13:22:26.084181 saving zone array freyberg6_template\\rch_recharge_8_tcn_inst0_constant.csv.zone for tpl file freyberg6_template\\rch_recharge_8_tcn_inst0_constant.csv.tpl\n",
      "2022-03-17 13:22:26.093157 finished: adding constant type m style parameters for file(s) ['freyberg6.rch_recharge_8.txt'] took: 0:00:00.020944\n",
      "2022-03-17 13:22:26.093157 starting: adding grid type m style parameters for file(s) ['freyberg6.rch_recharge_9.txt']\n",
      "2022-03-17 13:22:26.093157 starting: loading array freyberg6_template\\freyberg6.rch_recharge_9.txt\n",
      "2022-03-17 13:22:26.099141 finished: loading array freyberg6_template\\freyberg6.rch_recharge_9.txt took: 0:00:00.005984\n",
      "2022-03-17 13:22:26.099141 loaded array 'freyberg_mf6\\freyberg6.rch_recharge_9.txt' of shape (40, 20)\n"
     ]
    },
    {
     "name": "stdout",
     "output_type": "stream",
     "text": [
      "2022-03-17 13:22:26.102134 starting: writing array-style template file 'freyberg6_template\\rch_recharge_9_gr_inst0_grid.csv.tpl'\n",
      "2022-03-17 13:22:26.102134 starting: writing template file freyberg6_template\\rch_recharge_9_gr_inst0_grid.csv.tpl for ['rch_recharge_9_gr_inst:0']\n",
      "2022-03-17 13:22:26.115099 finished: writing template file freyberg6_template\\rch_recharge_9_gr_inst0_grid.csv.tpl for ['rch_recharge_9_gr_inst:0'] took: 0:00:00.012965\n",
      "2022-03-17 13:22:26.115099 starting: writing array-based template file 'freyberg6_template\\rch_recharge_9_gr_inst0_grid.csv.tpl'\n",
      "2022-03-17 13:22:26.116096 saving zone array freyberg6_template\\rch_recharge_9_gr_inst0_grid.csv.zone for tpl file freyberg6_template\\rch_recharge_9_gr_inst0_grid.csv.tpl\n",
      "2022-03-17 13:22:26.124075 finished: adding grid type m style parameters for file(s) ['freyberg6.rch_recharge_9.txt'] took: 0:00:00.030918\n",
      "2022-03-17 13:22:26.124075 starting: adding pilotpoints type m style parameters for file(s) ['freyberg6.rch_recharge_9.txt']\n",
      "2022-03-17 13:22:26.124075 starting: loading array freyberg6_template\\freyberg6.rch_recharge_9.txt\n",
      "2022-03-17 13:22:26.125072 finished: loading array freyberg6_template\\freyberg6.rch_recharge_9.txt took: 0:00:00.000997\n",
      "2022-03-17 13:22:26.125072 loaded array 'freyberg_mf6\\freyberg6.rch_recharge_9.txt' of shape (40, 20)\n",
      "2022-03-17 13:22:26.128064 starting: writing array-style template file 'freyberg6_template\\rch_recharge_9_pp_inst0_pilotpoints.csv.tpl'\n",
      "2022-03-17 13:22:26.128064 starting: setting up pilot point parameters\n",
      "2022-03-17 13:22:26.128064 No spatial reference (containing cell spacing) passed.\n",
      "2022-03-17 13:22:26.128064 OK - using spatial reference in parent object.\n"
     ]
    },
    {
     "name": "stdout",
     "output_type": "stream",
     "text": [
      "2022-03-17 13:22:26.196880 32 pilot point parameters created\n",
      "2022-03-17 13:22:26.196880 pilot point 'pargp':rch_recharge_9_pp\n",
      "2022-03-17 13:22:26.196880 finished: setting up pilot point parameters took: 0:00:00.068816\n",
      "2022-03-17 13:22:26.202864 starting: writing array-based template file 'freyberg6_template\\rch_recharge_9_pp_inst0pp.dat.tpl'\n",
      "2022-03-17 13:22:26.203861 saving zone array freyberg6_template\\rch_recharge_9_pp_inst0pp.dat.zone for tpl file freyberg6_template\\rch_recharge_9_pp_inst0pp.dat.tpl\n",
      "2022-03-17 13:22:26.208848 finished: adding pilotpoints type m style parameters for file(s) ['freyberg6.rch_recharge_9.txt'] took: 0:00:00.084773\n",
      "2022-03-17 13:22:26.209845 starting: adding constant type m style parameters for file(s) ['freyberg6.rch_recharge_9.txt']\n",
      "2022-03-17 13:22:26.209845 starting: loading array freyberg6_template\\freyberg6.rch_recharge_9.txt\n",
      "2022-03-17 13:22:26.210842 finished: loading array freyberg6_template\\freyberg6.rch_recharge_9.txt took: 0:00:00.000997\n",
      "2022-03-17 13:22:26.210842 loaded array 'freyberg_mf6\\freyberg6.rch_recharge_9.txt' of shape (40, 20)\n",
      "2022-03-17 13:22:26.212837 starting: writing array-style template file 'freyberg6_template\\rch_recharge_9_cn_inst0_constant.csv.tpl'\n",
      "2022-03-17 13:22:26.212837 starting: writing template file freyberg6_template\\rch_recharge_9_cn_inst0_constant.csv.tpl for ['rch_recharge_9_cn_inst:0']\n",
      "2022-03-17 13:22:26.219819 finished: writing template file freyberg6_template\\rch_recharge_9_cn_inst0_constant.csv.tpl for ['rch_recharge_9_cn_inst:0'] took: 0:00:00.006982\n",
      "2022-03-17 13:22:26.219819 starting: writing array-based template file 'freyberg6_template\\rch_recharge_9_cn_inst0_constant.csv.tpl'\n",
      "2022-03-17 13:22:26.220816 saving zone array freyberg6_template\\rch_recharge_9_cn_inst0_constant.csv.zone for tpl file freyberg6_template\\rch_recharge_9_cn_inst0_constant.csv.tpl\n",
      "2022-03-17 13:22:26.226800 finished: adding constant type m style parameters for file(s) ['freyberg6.rch_recharge_9.txt'] took: 0:00:00.016955\n",
      "2022-03-17 13:22:26.227797 starting: adding constant type m style parameters for file(s) ['freyberg6.rch_recharge_9.txt']\n",
      "2022-03-17 13:22:26.227797 starting: loading array freyberg6_template\\freyberg6.rch_recharge_9.txt\n",
      "2022-03-17 13:22:26.228794 finished: loading array freyberg6_template\\freyberg6.rch_recharge_9.txt took: 0:00:00.000997\n",
      "2022-03-17 13:22:26.229792 loaded array 'freyberg_mf6\\freyberg6.rch_recharge_9.txt' of shape (40, 20)\n",
      "2022-03-17 13:22:26.231787 starting: writing array-style template file 'freyberg6_template\\rch_recharge_9_tcn_inst0_constant.csv.tpl'\n",
      "2022-03-17 13:22:26.231787 starting: writing template file freyberg6_template\\rch_recharge_9_tcn_inst0_constant.csv.tpl for ['rch_recharge_9_tcn_inst:0']\n",
      "2022-03-17 13:22:26.238768 finished: writing template file freyberg6_template\\rch_recharge_9_tcn_inst0_constant.csv.tpl for ['rch_recharge_9_tcn_inst:0'] took: 0:00:00.006981\n",
      "2022-03-17 13:22:26.238768 starting: writing array-based template file 'freyberg6_template\\rch_recharge_9_tcn_inst0_constant.csv.tpl'\n",
      "2022-03-17 13:22:26.240763 saving zone array freyberg6_template\\rch_recharge_9_tcn_inst0_constant.csv.zone for tpl file freyberg6_template\\rch_recharge_9_tcn_inst0_constant.csv.tpl\n",
      "2022-03-17 13:22:26.248741 finished: adding constant type m style parameters for file(s) ['freyberg6.rch_recharge_9.txt'] took: 0:00:00.020944\n"
     ]
    }
   ],
   "source": [
    "# for Recharge; \n",
    "tag = \"rch_recharge\"\n",
    "files = [f for f in os.listdir(template_ws) if tag in f.lower() and f.endswith(\".txt\")]\n",
    "for f in files:\n",
    "    # the spatial multiplier parameters; just use the same function\n",
    "    add_mult_pars(f, lb=0.2, ub=5.0, ulb=2e-5, uub=2e-4)\n",
    "    \n",
    "    \n",
    "    # multiplier that includes temporal correlation\n",
    "    # get the stress period number from the file name\n",
    "    kper = int(f.split('.')[1].split('_')[-1]) - 1  \n",
    "    \n",
    "    # add the constant parameters (with temporal correlation)\n",
    "    pf.add_parameters(filenames=f,\n",
    "                    zone_array=ib,\n",
    "                    par_type=\"constant\",\n",
    "                    par_name_base=f.split('.')[1]+\"_tcn\",\n",
    "                    pargp=f.split('.')[1]+\"_tcn\",\n",
    "                    lower_bound=0.5, upper_bound=1.5,\n",
    "                    ult_ubound=2e-4, ult_lbound=2e-5,\n",
    "                    datetime=dts[kper], # this places the parameter value on the \"time axis\"\n",
    "                    geostruct=temporal_gs)"
   ]
  },
  {
   "cell_type": "markdown",
   "metadata": {},
   "source": [
    "### 5.3.3. List Files\n",
    "\n",
    "Adding parameters from list-type files follows similar principles. As with observation files, they must be tabular. Certain columns are specified as index columns and are used to populate parameter names, as well as provide the parameters' spatial location. Other columns are specified as containing parameter values. \n",
    "\n",
    "Parameters can be `grid` or `constant`. As before, values can be assigned `directly`, as `multipliers` or as `additives`.\n",
    "\n",
    "We will demonstrate for the boundary-condition input files. \n",
    "\n",
    "Starting off with GHBs. Let's inspect the folder. As you can see, there is a single input file (GHB parameters are assumed to not vary over time)."
   ]
  },
  {
   "cell_type": "code",
   "execution_count": 29,
   "metadata": {
    "execution": {
     "iopub.execute_input": "2022-03-17T02:52:26.257063Z",
     "iopub.status.busy": "2022-03-17T02:52:26.255723Z",
     "iopub.status.idle": "2022-03-17T02:52:26.260709Z",
     "shell.execute_reply": "2022-03-17T02:52:26.260709Z"
    }
   },
   "outputs": [
    {
     "name": "stdout",
     "output_type": "stream",
     "text": [
      "['freyberg6.ghb_stress_period_data_1.txt']\n"
     ]
    }
   ],
   "source": [
    "tag = \"ghb_stress_period_data\"\n",
    "files = [f for f in os.listdir(template_ws) if tag in f.lower() and f.endswith(\".txt\")]\n",
    "print(files)"
   ]
  },
  {
   "cell_type": "markdown",
   "metadata": {},
   "source": [
    "Since these boundaries are likely to be very influential, we want to include a robust representation of their uncertainty - both head and conductance and at multiple scales.  \n",
    "\n",
    "Let's parameterize both GHB conductance and head:\n",
    "\n",
    " - For conductance, we shall use two scales of `multiplier` parameters (`constant` and `grid`).\n",
    "\n",
    " - For heads, multipliers are not ideal. Insead we will use `additive` parameters. Again, with a coarse and fine scale."
   ]
  },
  {
   "cell_type": "code",
   "execution_count": 30,
   "metadata": {
    "execution": {
     "iopub.execute_input": "2022-03-17T02:52:26.269686Z",
     "iopub.status.busy": "2022-03-17T02:52:26.268688Z",
     "iopub.status.idle": "2022-03-17T02:52:26.384379Z",
     "shell.execute_reply": "2022-03-17T02:52:26.384379Z"
    }
   },
   "outputs": [
    {
     "name": "stdout",
     "output_type": "stream",
     "text": [
      "2022-03-17 13:22:26.269686 starting: adding grid type m style parameters for file(s) ['freyberg6.ghb_stress_period_data_1.txt']\n",
      "2022-03-17 13:22:26.270683 starting: loading list-style freyberg6_template\\freyberg6.ghb_stress_period_data_1.txt\n",
      "2022-03-17 13:22:26.270683 starting: reading list-style file: freyberg6_template\\freyberg6.ghb_stress_period_data_1.txt\n",
      "2022-03-17 13:22:26.273741 finished: reading list-style file: freyberg6_template\\freyberg6.ghb_stress_period_data_1.txt took: 0:00:00.003058\n",
      "2022-03-17 13:22:26.273741 loaded list-style 'freyberg6_template\\freyberg6.ghb_stress_period_data_1.txt' of shape (30, 5)\n",
      "2022-03-17 13:22:26.275669 finished: loading list-style freyberg6_template\\freyberg6.ghb_stress_period_data_1.txt took: 0:00:00.004986\n",
      "2022-03-17 13:22:26.275669 starting: writing list-style template file 'freyberg6_template\\ghbcond_gr_inst0_grid.csv.tpl'\n",
      "2022-03-17 13:22:26.279659 WARNING: get_xy() warning: position of i and j in index_cols not specified, assume (i,j) are final two entries in index_cols.\n",
      "2022-03-17 13:22:26.284645 WARNING: Coincidently located pars in list-style file, attempting to separate pars based on `index_cols` passed - using index_col[0] for third dimension\n"
     ]
    },
    {
     "name": "stdout",
     "output_type": "stream",
     "text": [
      "2022-03-17 13:22:26.295616 finished: writing list-style template file 'freyberg6_template\\ghbcond_gr_inst0_grid.csv.tpl' took: 0:00:00.019947\n",
      "2022-03-17 13:22:26.300603 finished: adding grid type m style parameters for file(s) ['freyberg6.ghb_stress_period_data_1.txt'] took: 0:00:00.030917\n",
      "2022-03-17 13:22:26.301600 starting: adding constant type m style parameters for file(s) ['freyberg6.ghb_stress_period_data_1.txt']\n",
      "2022-03-17 13:22:26.301600 starting: loading list-style freyberg6_template\\freyberg6.ghb_stress_period_data_1.txt\n",
      "2022-03-17 13:22:26.301600 starting: reading list-style file: freyberg6_template\\freyberg6.ghb_stress_period_data_1.txt\n",
      "2022-03-17 13:22:26.302597 finished: reading list-style file: freyberg6_template\\freyberg6.ghb_stress_period_data_1.txt took: 0:00:00.000997\n",
      "2022-03-17 13:22:26.303595 loaded list-style 'freyberg6_template\\freyberg6.ghb_stress_period_data_1.txt' of shape (30, 5)\n",
      "2022-03-17 13:22:26.304592 finished: loading list-style freyberg6_template\\freyberg6.ghb_stress_period_data_1.txt took: 0:00:00.002992\n",
      "2022-03-17 13:22:26.304592 starting: writing list-style template file 'freyberg6_template\\ghbcond_cn_inst0_constant.csv.tpl'\n",
      "2022-03-17 13:22:26.318555 finished: writing list-style template file 'freyberg6_template\\ghbcond_cn_inst0_constant.csv.tpl' took: 0:00:00.013963\n",
      "2022-03-17 13:22:26.323734 finished: adding constant type m style parameters for file(s) ['freyberg6.ghb_stress_period_data_1.txt'] took: 0:00:00.022134\n",
      "2022-03-17 13:22:26.324539 starting: adding grid type a style parameters for file(s) ['freyberg6.ghb_stress_period_data_1.txt']\n",
      "2022-03-17 13:22:26.324539 WARNING: 0) Inconsistency between geostruct transform and partrans.\n",
      "2022-03-17 13:22:26.324539 WARNING: 1) Setting geostruct transform to {transform}\n",
      "2022-03-17 13:22:26.324539 WARNING: 2) This will create a new copy of geostruct\n",
      "2022-03-17 13:22:26.324539 WARNING: -) Better to pass an appropriately transformed geostruct\n",
      "2022-03-17 13:22:26.324539 starting: loading list-style freyberg6_template\\freyberg6.ghb_stress_period_data_1.txt\n",
      "2022-03-17 13:22:26.325536 starting: reading list-style file: freyberg6_template\\freyberg6.ghb_stress_period_data_1.txt\n",
      "2022-03-17 13:22:26.326533 finished: reading list-style file: freyberg6_template\\freyberg6.ghb_stress_period_data_1.txt took: 0:00:00.000997\n",
      "2022-03-17 13:22:26.327531 loaded list-style 'freyberg6_template\\freyberg6.ghb_stress_period_data_1.txt' of shape (30, 5)\n",
      "2022-03-17 13:22:26.327531 finished: loading list-style freyberg6_template\\freyberg6.ghb_stress_period_data_1.txt took: 0:00:00.002992\n",
      "2022-03-17 13:22:26.328528 starting: writing list-style template file 'freyberg6_template\\ghbhead_gr_inst0_grid.csv.tpl'\n",
      "2022-03-17 13:22:26.332517 WARNING: get_xy() warning: position of i and j in index_cols not specified, assume (i,j) are final two entries in index_cols.\n",
      "2022-03-17 13:22:26.337504 WARNING: Coincidently located pars in list-style file, attempting to separate pars based on `index_cols` passed - using index_col[0] for third dimension\n",
      "2022-03-17 13:22:26.348475 finished: writing list-style template file 'freyberg6_template\\ghbhead_gr_inst0_grid.csv.tpl' took: 0:00:00.019947\n",
      "2022-03-17 13:22:26.353461 finished: adding grid type a style parameters for file(s) ['freyberg6.ghb_stress_period_data_1.txt'] took: 0:00:00.028922\n",
      "2022-03-17 13:22:26.354458 starting: adding constant type a style parameters for file(s) ['freyberg6.ghb_stress_period_data_1.txt']\n",
      "2022-03-17 13:22:26.354458 WARNING: 0) Inconsistency between geostruct transform and partrans.\n",
      "2022-03-17 13:22:26.354458 WARNING: 1) Setting geostruct transform to {transform}\n",
      "2022-03-17 13:22:26.354458 WARNING: 2) This will create a new copy of geostruct\n",
      "2022-03-17 13:22:26.354458 WARNING: -) Better to pass an appropriately transformed geostruct\n",
      "2022-03-17 13:22:26.354458 starting: loading list-style freyberg6_template\\freyberg6.ghb_stress_period_data_1.txt\n",
      "2022-03-17 13:22:26.355456 starting: reading list-style file: freyberg6_template\\freyberg6.ghb_stress_period_data_1.txt\n",
      "2022-03-17 13:22:26.357450 finished: reading list-style file: freyberg6_template\\freyberg6.ghb_stress_period_data_1.txt took: 0:00:00.001994\n",
      "2022-03-17 13:22:26.357450 loaded list-style 'freyberg6_template\\freyberg6.ghb_stress_period_data_1.txt' of shape (30, 5)\n",
      "2022-03-17 13:22:26.358448 finished: loading list-style freyberg6_template\\freyberg6.ghb_stress_period_data_1.txt took: 0:00:00.003990\n",
      "2022-03-17 13:22:26.358448 starting: writing list-style template file 'freyberg6_template\\ghbhead_cn_inst0_constant.csv.tpl'\n",
      "2022-03-17 13:22:26.374406 finished: writing list-style template file 'freyberg6_template\\ghbhead_cn_inst0_constant.csv.tpl' took: 0:00:00.015958\n",
      "2022-03-17 13:22:26.380389 finished: adding constant type a style parameters for file(s) ['freyberg6.ghb_stress_period_data_1.txt'] took: 0:00:00.025931\n"
     ]
    }
   ],
   "source": [
    "tag = \"ghb_stress_period_data\"\n",
    "files = [f for f in os.listdir(template_ws) if tag in f.lower() and f.endswith(\".txt\")]\n",
    "\n",
    "for f in files:\n",
    "    # constant and grid scale multiplier conductance parameters\n",
    "    name = 'ghbcond'\n",
    "    pf.add_parameters(f,\n",
    "                        par_type=\"grid\",\n",
    "                        geostruct=grid_gs,\n",
    "                        par_name_base=name+\"_gr\",\n",
    "                        pargp=name+\"_gr\",\n",
    "                        index_cols=[0,1,2], #column containing lay,row,col\n",
    "                        use_cols=[4], #column containing conductance values\n",
    "                        lower_bound=0.1,upper_bound=10.0,\n",
    "                        ult_lbound=0.1, ult_ubound=100) #absolute limits\n",
    "    pf.add_parameters(f,\n",
    "                        par_type=\"constant\",\n",
    "                        geostruct=grid_gs,\n",
    "                        par_name_base=name+\"_cn\",\n",
    "                        pargp=name+\"_cn\",\n",
    "                        index_cols=[0,1,2],\n",
    "                        use_cols=[4],  \n",
    "                        lower_bound=0.1,upper_bound=10.0,\n",
    "                        ult_lbound=0.1, ult_ubound=100) #absolute limits\n",
    "\n",
    "    # constant and grid scale additive head parameters\n",
    "    name = 'ghbhead'\n",
    "    pf.add_parameters(f,\n",
    "                        par_type=\"grid\",\n",
    "                        geostruct=grid_gs,\n",
    "                        par_name_base=name+\"_gr\",\n",
    "                        pargp=name+\"_gr\",\n",
    "                        index_cols=[0,1,2],\n",
    "                        use_cols=[3],   # column containing head values\n",
    "                        lower_bound=-2.0,upper_bound=2.0,\n",
    "                        par_style=\"a\", # specify additive parameter\n",
    "                        transform=\"none\", # specify not log-transform\n",
    "                        ult_lbound=32.5, ult_ubound=42) #absolute limits; make sure head is never lower than the bottom of layer1\n",
    "    pf.add_parameters(f,\n",
    "                        par_type=\"constant\",\n",
    "                        geostruct=grid_gs,\n",
    "                        par_name_base=name+\"_cn\",\n",
    "                        pargp=name+\"_cn\",\n",
    "                        index_cols=[0,1,2],\n",
    "                        use_cols=[3],\n",
    "                        lower_bound=-2.0,upper_bound=2.0, \n",
    "                        par_style=\"a\", \n",
    "                        transform=\"none\",\n",
    "                        ult_lbound=32.5, ult_ubound=42) "
   ]
  },
  {
   "cell_type": "markdown",
   "metadata": {},
   "source": [
    "Easy peasy.\n",
    "\n",
    "Now this will make some people uncomfortable but how well do we really ever know historic water use flux rates in space and in time? hmmm, not really! So lets add parameters to represent that uncertainty in the model inputs.\n",
    "\n",
    "For wells it may not (or it may...) make sense to include spatial correlation. Here we will assume temporal correlation - its reasonable that pumping rates today will be similar to pumping rates yesterday. \n",
    "\n",
    "Pumping rates for different stress periods are in separate files. We will call `.add_parameters()` for each file. But we want to specify correlation between parameters in different files. As explained above for recharge, we do this with the parameter group name.\n",
    "\n",
    "OK, let's get started.\n"
   ]
  },
  {
   "cell_type": "markdown",
   "metadata": {},
   "source": [
    "As discussed above, including temporal correlation introduces an additional challenge. We use the same approach described for recharge parmaeters:\n",
    "\n",
    "First, we will asign a `constant` multiplier parameter for each WEL stress-period file (so, a single multiplier for all well pumping rates for each stress period). We will specify temporal correlation for these `constant` multipliers.\n",
    "\n",
    "Then, we will also have `grid` type multiplier parameters for each WEL stress period file (so, multipliers for individual well pumping rate during each stress period). These will not include correlation. (We could in principle include spatial correlation here if we wanted to; but let's not)."
   ]
  },
  {
   "cell_type": "code",
   "execution_count": 31,
   "metadata": {
    "execution": {
     "iopub.execute_input": "2022-03-17T02:52:26.390380Z",
     "iopub.status.busy": "2022-03-17T02:52:26.390380Z",
     "iopub.status.idle": "2022-03-17T02:52:27.726788Z",
     "shell.execute_reply": "2022-03-17T02:52:27.726788Z"
    }
   },
   "outputs": [
    {
     "name": "stdout",
     "output_type": "stream",
     "text": [
      "2022-03-17 13:22:26.391360 starting: adding constant type m style parameters for file(s) ['freyberg6.wel_stress_period_data_1.txt']\n",
      "2022-03-17 13:22:26.391360 starting: loading list-style freyberg6_template\\freyberg6.wel_stress_period_data_1.txt\n",
      "2022-03-17 13:22:26.391360 starting: reading list-style file: freyberg6_template\\freyberg6.wel_stress_period_data_1.txt\n",
      "2022-03-17 13:22:26.393355 finished: reading list-style file: freyberg6_template\\freyberg6.wel_stress_period_data_1.txt took: 0:00:00.001995\n",
      "2022-03-17 13:22:26.394353 loaded list-style 'freyberg6_template\\freyberg6.wel_stress_period_data_1.txt' of shape (6, 4)\n",
      "2022-03-17 13:22:26.395350 finished: loading list-style freyberg6_template\\freyberg6.wel_stress_period_data_1.txt took: 0:00:00.003990\n",
      "2022-03-17 13:22:26.395350 starting: writing list-style template file 'freyberg6_template\\wel_cst_inst0_constant.csv.tpl'\n",
      "2022-03-17 13:22:26.408315 finished: writing list-style template file 'freyberg6_template\\wel_cst_inst0_constant.csv.tpl' took: 0:00:00.012965\n",
      "2022-03-17 13:22:26.416293 finished: adding constant type m style parameters for file(s) ['freyberg6.wel_stress_period_data_1.txt'] took: 0:00:00.024933\n",
      "2022-03-17 13:22:26.417291 starting: adding grid type m style parameters for file(s) ['freyberg6.wel_stress_period_data_1.txt']\n",
      "2022-03-17 13:22:26.417291 starting: loading list-style freyberg6_template\\freyberg6.wel_stress_period_data_1.txt\n",
      "2022-03-17 13:22:26.417291 starting: reading list-style file: freyberg6_template\\freyberg6.wel_stress_period_data_1.txt\n",
      "2022-03-17 13:22:26.418288 finished: reading list-style file: freyberg6_template\\freyberg6.wel_stress_period_data_1.txt took: 0:00:00.000997\n",
      "2022-03-17 13:22:26.419285 loaded list-style 'freyberg6_template\\freyberg6.wel_stress_period_data_1.txt' of shape (6, 4)\n",
      "2022-03-17 13:22:26.419285 finished: loading list-style freyberg6_template\\freyberg6.wel_stress_period_data_1.txt took: 0:00:00.001994\n",
      "2022-03-17 13:22:26.420283 starting: writing list-style template file 'freyberg6_template\\wel_grd_inst0_grid.csv.tpl'\n",
      "2022-03-17 13:22:26.433248 finished: writing list-style template file 'freyberg6_template\\wel_grd_inst0_grid.csv.tpl' took: 0:00:00.012965\n",
      "2022-03-17 13:22:26.442224 finished: adding grid type m style parameters for file(s) ['freyberg6.wel_stress_period_data_1.txt'] took: 0:00:00.024933\n"
     ]
    },
    {
     "name": "stdout",
     "output_type": "stream",
     "text": [
      "2022-03-17 13:22:26.442224 starting: adding constant type m style parameters for file(s) ['freyberg6.wel_stress_period_data_10.txt']\n",
      "2022-03-17 13:22:26.442224 starting: loading list-style freyberg6_template\\freyberg6.wel_stress_period_data_10.txt\n",
      "2022-03-17 13:22:26.443221 starting: reading list-style file: freyberg6_template\\freyberg6.wel_stress_period_data_10.txt\n",
      "2022-03-17 13:22:26.445216 finished: reading list-style file: freyberg6_template\\freyberg6.wel_stress_period_data_10.txt took: 0:00:00.001995\n",
      "2022-03-17 13:22:26.445216 loaded list-style 'freyberg6_template\\freyberg6.wel_stress_period_data_10.txt' of shape (6, 4)\n",
      "2022-03-17 13:22:26.446213 finished: loading list-style freyberg6_template\\freyberg6.wel_stress_period_data_10.txt took: 0:00:00.003989\n",
      "2022-03-17 13:22:26.446213 starting: writing list-style template file 'freyberg6_template\\wel_cst_inst1_constant.csv.tpl'\n",
      "2022-03-17 13:22:26.460176 finished: writing list-style template file 'freyberg6_template\\wel_cst_inst1_constant.csv.tpl' took: 0:00:00.013963\n",
      "2022-03-17 13:22:26.467157 finished: adding constant type m style parameters for file(s) ['freyberg6.wel_stress_period_data_10.txt'] took: 0:00:00.024933\n"
     ]
    },
    {
     "name": "stdout",
     "output_type": "stream",
     "text": [
      "2022-03-17 13:22:26.468154 starting: adding grid type m style parameters for file(s) ['freyberg6.wel_stress_period_data_10.txt']\n",
      "2022-03-17 13:22:26.468154 starting: loading list-style freyberg6_template\\freyberg6.wel_stress_period_data_10.txt\n",
      "2022-03-17 13:22:26.468154 starting: reading list-style file: freyberg6_template\\freyberg6.wel_stress_period_data_10.txt\n",
      "2022-03-17 13:22:26.470149 finished: reading list-style file: freyberg6_template\\freyberg6.wel_stress_period_data_10.txt took: 0:00:00.001995\n",
      "2022-03-17 13:22:26.470149 loaded list-style 'freyberg6_template\\freyberg6.wel_stress_period_data_10.txt' of shape (6, 4)\n",
      "2022-03-17 13:22:26.471147 finished: loading list-style freyberg6_template\\freyberg6.wel_stress_period_data_10.txt took: 0:00:00.002993\n"
     ]
    },
    {
     "name": "stdout",
     "output_type": "stream",
     "text": [
      "2022-03-17 13:22:26.471147 starting: writing list-style template file 'freyberg6_template\\wel_grd_inst1_grid.csv.tpl'\n",
      "2022-03-17 13:22:26.486107 finished: writing list-style template file 'freyberg6_template\\wel_grd_inst1_grid.csv.tpl' took: 0:00:00.014960\n",
      "2022-03-17 13:22:26.494085 finished: adding grid type m style parameters for file(s) ['freyberg6.wel_stress_period_data_10.txt'] took: 0:00:00.025931\n",
      "2022-03-17 13:22:26.495083 starting: adding constant type m style parameters for file(s) ['freyberg6.wel_stress_period_data_11.txt']\n",
      "2022-03-17 13:22:26.495083 starting: loading list-style freyberg6_template\\freyberg6.wel_stress_period_data_11.txt\n",
      "2022-03-17 13:22:26.495083 starting: reading list-style file: freyberg6_template\\freyberg6.wel_stress_period_data_11.txt\n",
      "2022-03-17 13:22:26.497077 finished: reading list-style file: freyberg6_template\\freyberg6.wel_stress_period_data_11.txt took: 0:00:00.001994\n",
      "2022-03-17 13:22:26.497077 loaded list-style 'freyberg6_template\\freyberg6.wel_stress_period_data_11.txt' of shape (6, 4)\n",
      "2022-03-17 13:22:26.498075 finished: loading list-style freyberg6_template\\freyberg6.wel_stress_period_data_11.txt took: 0:00:00.002992\n",
      "2022-03-17 13:22:26.499072 starting: writing list-style template file 'freyberg6_template\\wel_cst_inst2_constant.csv.tpl'\n",
      "2022-03-17 13:22:26.512037 finished: writing list-style template file 'freyberg6_template\\wel_cst_inst2_constant.csv.tpl' took: 0:00:00.012965\n",
      "2022-03-17 13:22:26.520016 finished: adding constant type m style parameters for file(s) ['freyberg6.wel_stress_period_data_11.txt'] took: 0:00:00.024933\n",
      "2022-03-17 13:22:26.520016 starting: adding grid type m style parameters for file(s) ['freyberg6.wel_stress_period_data_11.txt']\n",
      "2022-03-17 13:22:26.520016 starting: loading list-style freyberg6_template\\freyberg6.wel_stress_period_data_11.txt\n",
      "2022-03-17 13:22:26.520016 starting: reading list-style file: freyberg6_template\\freyberg6.wel_stress_period_data_11.txt\n",
      "2022-03-17 13:22:26.522010 finished: reading list-style file: freyberg6_template\\freyberg6.wel_stress_period_data_11.txt took: 0:00:00.001994\n",
      "2022-03-17 13:22:26.522010 loaded list-style 'freyberg6_template\\freyberg6.wel_stress_period_data_11.txt' of shape (6, 4)\n",
      "2022-03-17 13:22:26.523008 finished: loading list-style freyberg6_template\\freyberg6.wel_stress_period_data_11.txt took: 0:00:00.002992\n",
      "2022-03-17 13:22:26.523008 starting: writing list-style template file 'freyberg6_template\\wel_grd_inst2_grid.csv.tpl'\n",
      "2022-03-17 13:22:26.536971 finished: writing list-style template file 'freyberg6_template\\wel_grd_inst2_grid.csv.tpl' took: 0:00:00.013963\n",
      "2022-03-17 13:22:26.544949 finished: adding grid type m style parameters for file(s) ['freyberg6.wel_stress_period_data_11.txt'] took: 0:00:00.024933\n",
      "2022-03-17 13:22:26.544949 starting: adding constant type m style parameters for file(s) ['freyberg6.wel_stress_period_data_12.txt']\n",
      "2022-03-17 13:22:26.545946 starting: loading list-style freyberg6_template\\freyberg6.wel_stress_period_data_12.txt\n",
      "2022-03-17 13:22:26.545946 starting: reading list-style file: freyberg6_template\\freyberg6.wel_stress_period_data_12.txt\n",
      "2022-03-17 13:22:26.547941 finished: reading list-style file: freyberg6_template\\freyberg6.wel_stress_period_data_12.txt took: 0:00:00.001995\n",
      "2022-03-17 13:22:26.547941 loaded list-style 'freyberg6_template\\freyberg6.wel_stress_period_data_12.txt' of shape (6, 4)\n",
      "2022-03-17 13:22:26.548939 finished: loading list-style freyberg6_template\\freyberg6.wel_stress_period_data_12.txt took: 0:00:00.002993\n",
      "2022-03-17 13:22:26.548939 starting: writing list-style template file 'freyberg6_template\\wel_cst_inst3_constant.csv.tpl'\n",
      "2022-03-17 13:22:26.562901 finished: writing list-style template file 'freyberg6_template\\wel_cst_inst3_constant.csv.tpl' took: 0:00:00.013962\n"
     ]
    },
    {
     "name": "stdout",
     "output_type": "stream",
     "text": [
      "2022-03-17 13:22:26.570880 finished: adding constant type m style parameters for file(s) ['freyberg6.wel_stress_period_data_12.txt'] took: 0:00:00.025931\n",
      "2022-03-17 13:22:26.570880 starting: adding grid type m style parameters for file(s) ['freyberg6.wel_stress_period_data_12.txt']\n",
      "2022-03-17 13:22:26.570880 starting: loading list-style freyberg6_template\\freyberg6.wel_stress_period_data_12.txt\n",
      "2022-03-17 13:22:26.570880 starting: reading list-style file: freyberg6_template\\freyberg6.wel_stress_period_data_12.txt\n",
      "2022-03-17 13:22:26.572875 finished: reading list-style file: freyberg6_template\\freyberg6.wel_stress_period_data_12.txt took: 0:00:00.001995\n",
      "2022-03-17 13:22:26.573872 loaded list-style 'freyberg6_template\\freyberg6.wel_stress_period_data_12.txt' of shape (6, 4)\n",
      "2022-03-17 13:22:26.574869 finished: loading list-style freyberg6_template\\freyberg6.wel_stress_period_data_12.txt took: 0:00:00.003989\n",
      "2022-03-17 13:22:26.574869 starting: writing list-style template file 'freyberg6_template\\wel_grd_inst3_grid.csv.tpl'\n",
      "2022-03-17 13:22:26.587835 finished: writing list-style template file 'freyberg6_template\\wel_grd_inst3_grid.csv.tpl' took: 0:00:00.012966\n",
      "2022-03-17 13:22:26.596810 finished: adding grid type m style parameters for file(s) ['freyberg6.wel_stress_period_data_12.txt'] took: 0:00:00.025930\n",
      "2022-03-17 13:22:26.596810 starting: adding constant type m style parameters for file(s) ['freyberg6.wel_stress_period_data_13.txt']\n",
      "2022-03-17 13:22:26.596810 starting: loading list-style freyberg6_template\\freyberg6.wel_stress_period_data_13.txt\n",
      "2022-03-17 13:22:26.597808 starting: reading list-style file: freyberg6_template\\freyberg6.wel_stress_period_data_13.txt\n",
      "2022-03-17 13:22:26.599802 finished: reading list-style file: freyberg6_template\\freyberg6.wel_stress_period_data_13.txt took: 0:00:00.001994\n",
      "2022-03-17 13:22:26.599802 loaded list-style 'freyberg6_template\\freyberg6.wel_stress_period_data_13.txt' of shape (6, 4)\n",
      "2022-03-17 13:22:26.600800 finished: loading list-style freyberg6_template\\freyberg6.wel_stress_period_data_13.txt took: 0:00:00.003990\n",
      "2022-03-17 13:22:26.600800 starting: writing list-style template file 'freyberg6_template\\wel_cst_inst4_constant.csv.tpl'\n",
      "2022-03-17 13:22:26.614763 finished: writing list-style template file 'freyberg6_template\\wel_cst_inst4_constant.csv.tpl' took: 0:00:00.013963\n",
      "2022-03-17 13:22:26.621744 finished: adding constant type m style parameters for file(s) ['freyberg6.wel_stress_period_data_13.txt'] took: 0:00:00.024934\n",
      "2022-03-17 13:22:26.622741 starting: adding grid type m style parameters for file(s) ['freyberg6.wel_stress_period_data_13.txt']\n",
      "2022-03-17 13:22:26.622741 starting: loading list-style freyberg6_template\\freyberg6.wel_stress_period_data_13.txt\n",
      "2022-03-17 13:22:26.623739 starting: reading list-style file: freyberg6_template\\freyberg6.wel_stress_period_data_13.txt\n",
      "2022-03-17 13:22:26.624736 finished: reading list-style file: freyberg6_template\\freyberg6.wel_stress_period_data_13.txt took: 0:00:00.000997\n",
      "2022-03-17 13:22:26.624736 loaded list-style 'freyberg6_template\\freyberg6.wel_stress_period_data_13.txt' of shape (6, 4)\n",
      "2022-03-17 13:22:26.625733 finished: loading list-style freyberg6_template\\freyberg6.wel_stress_period_data_13.txt took: 0:00:00.002992\n",
      "2022-03-17 13:22:26.626730 starting: writing list-style template file 'freyberg6_template\\wel_grd_inst4_grid.csv.tpl'\n",
      "2022-03-17 13:22:26.640693 finished: writing list-style template file 'freyberg6_template\\wel_grd_inst4_grid.csv.tpl' took: 0:00:00.013963\n"
     ]
    },
    {
     "name": "stdout",
     "output_type": "stream",
     "text": [
      "2022-03-17 13:22:26.648672 finished: adding grid type m style parameters for file(s) ['freyberg6.wel_stress_period_data_13.txt'] took: 0:00:00.025931\n",
      "2022-03-17 13:22:26.648672 starting: adding constant type m style parameters for file(s) ['freyberg6.wel_stress_period_data_14.txt']\n",
      "2022-03-17 13:22:26.648672 starting: loading list-style freyberg6_template\\freyberg6.wel_stress_period_data_14.txt\n",
      "2022-03-17 13:22:26.649669 starting: reading list-style file: freyberg6_template\\freyberg6.wel_stress_period_data_14.txt\n",
      "2022-03-17 13:22:26.651664 finished: reading list-style file: freyberg6_template\\freyberg6.wel_stress_period_data_14.txt took: 0:00:00.001995\n",
      "2022-03-17 13:22:26.651664 loaded list-style 'freyberg6_template\\freyberg6.wel_stress_period_data_14.txt' of shape (6, 4)\n",
      "2022-03-17 13:22:26.653659 finished: loading list-style freyberg6_template\\freyberg6.wel_stress_period_data_14.txt took: 0:00:00.004987\n",
      "2022-03-17 13:22:26.653659 starting: writing list-style template file 'freyberg6_template\\wel_cst_inst5_constant.csv.tpl'\n"
     ]
    },
    {
     "name": "stdout",
     "output_type": "stream",
     "text": [
      "2022-03-17 13:22:26.667621 finished: writing list-style template file 'freyberg6_template\\wel_cst_inst5_constant.csv.tpl' took: 0:00:00.013962\n",
      "2022-03-17 13:22:26.675599 finished: adding constant type m style parameters for file(s) ['freyberg6.wel_stress_period_data_14.txt'] took: 0:00:00.026927\n",
      "2022-03-17 13:22:26.676597 starting: adding grid type m style parameters for file(s) ['freyberg6.wel_stress_period_data_14.txt']\n",
      "2022-03-17 13:22:26.676597 starting: loading list-style freyberg6_template\\freyberg6.wel_stress_period_data_14.txt\n",
      "2022-03-17 13:22:26.676597 starting: reading list-style file: freyberg6_template\\freyberg6.wel_stress_period_data_14.txt\n",
      "2022-03-17 13:22:26.678592 finished: reading list-style file: freyberg6_template\\freyberg6.wel_stress_period_data_14.txt took: 0:00:00.001995\n",
      "2022-03-17 13:22:26.678592 loaded list-style 'freyberg6_template\\freyberg6.wel_stress_period_data_14.txt' of shape (6, 4)\n",
      "2022-03-17 13:22:26.679589 finished: loading list-style freyberg6_template\\freyberg6.wel_stress_period_data_14.txt took: 0:00:00.002992\n",
      "2022-03-17 13:22:26.679589 starting: writing list-style template file 'freyberg6_template\\wel_grd_inst5_grid.csv.tpl'\n",
      "2022-03-17 13:22:26.693560 finished: writing list-style template file 'freyberg6_template\\wel_grd_inst5_grid.csv.tpl' took: 0:00:00.013971\n",
      "2022-03-17 13:22:26.702528 finished: adding grid type m style parameters for file(s) ['freyberg6.wel_stress_period_data_14.txt'] took: 0:00:00.025931\n",
      "2022-03-17 13:22:26.702528 starting: adding constant type m style parameters for file(s) ['freyberg6.wel_stress_period_data_15.txt']\n",
      "2022-03-17 13:22:26.702528 starting: loading list-style freyberg6_template\\freyberg6.wel_stress_period_data_15.txt\n",
      "2022-03-17 13:22:26.702528 starting: reading list-style file: freyberg6_template\\freyberg6.wel_stress_period_data_15.txt\n",
      "2022-03-17 13:22:26.704523 finished: reading list-style file: freyberg6_template\\freyberg6.wel_stress_period_data_15.txt took: 0:00:00.001995\n",
      "2022-03-17 13:22:26.705520 loaded list-style 'freyberg6_template\\freyberg6.wel_stress_period_data_15.txt' of shape (6, 4)\n",
      "2022-03-17 13:22:26.706517 finished: loading list-style freyberg6_template\\freyberg6.wel_stress_period_data_15.txt took: 0:00:00.003989\n",
      "2022-03-17 13:22:26.706517 starting: writing list-style template file 'freyberg6_template\\wel_cst_inst6_constant.csv.tpl'\n",
      "2022-03-17 13:22:26.719483 finished: writing list-style template file 'freyberg6_template\\wel_cst_inst6_constant.csv.tpl' took: 0:00:00.012966\n",
      "2022-03-17 13:22:26.728458 finished: adding constant type m style parameters for file(s) ['freyberg6.wel_stress_period_data_15.txt'] took: 0:00:00.025930\n",
      "2022-03-17 13:22:26.728458 starting: adding grid type m style parameters for file(s) ['freyberg6.wel_stress_period_data_15.txt']\n",
      "2022-03-17 13:22:26.728458 starting: loading list-style freyberg6_template\\freyberg6.wel_stress_period_data_15.txt\n",
      "2022-03-17 13:22:26.728458 starting: reading list-style file: freyberg6_template\\freyberg6.wel_stress_period_data_15.txt\n",
      "2022-03-17 13:22:26.730453 finished: reading list-style file: freyberg6_template\\freyberg6.wel_stress_period_data_15.txt took: 0:00:00.001995\n",
      "2022-03-17 13:22:26.730453 loaded list-style 'freyberg6_template\\freyberg6.wel_stress_period_data_15.txt' of shape (6, 4)\n",
      "2022-03-17 13:22:26.731450 finished: loading list-style freyberg6_template\\freyberg6.wel_stress_period_data_15.txt took: 0:00:00.002992\n",
      "2022-03-17 13:22:26.731450 starting: writing list-style template file 'freyberg6_template\\wel_grd_inst6_grid.csv.tpl'\n",
      "2022-03-17 13:22:26.745413 finished: writing list-style template file 'freyberg6_template\\wel_grd_inst6_grid.csv.tpl' took: 0:00:00.013963\n",
      "2022-03-17 13:22:26.754389 finished: adding grid type m style parameters for file(s) ['freyberg6.wel_stress_period_data_15.txt'] took: 0:00:00.025931\n"
     ]
    },
    {
     "name": "stdout",
     "output_type": "stream",
     "text": [
      "2022-03-17 13:22:26.754389 starting: adding constant type m style parameters for file(s) ['freyberg6.wel_stress_period_data_16.txt']\n",
      "2022-03-17 13:22:26.754389 starting: loading list-style freyberg6_template\\freyberg6.wel_stress_period_data_16.txt\n",
      "2022-03-17 13:22:26.755386 starting: reading list-style file: freyberg6_template\\freyberg6.wel_stress_period_data_16.txt\n",
      "2022-03-17 13:22:26.757381 finished: reading list-style file: freyberg6_template\\freyberg6.wel_stress_period_data_16.txt took: 0:00:00.001995\n",
      "2022-03-17 13:22:26.757381 loaded list-style 'freyberg6_template\\freyberg6.wel_stress_period_data_16.txt' of shape (6, 4)\n",
      "2022-03-17 13:22:26.759376 finished: loading list-style freyberg6_template\\freyberg6.wel_stress_period_data_16.txt took: 0:00:00.004987\n",
      "2022-03-17 13:22:26.759376 starting: writing list-style template file 'freyberg6_template\\wel_cst_inst7_constant.csv.tpl'\n",
      "2022-03-17 13:22:26.771344 finished: writing list-style template file 'freyberg6_template\\wel_cst_inst7_constant.csv.tpl' took: 0:00:00.011968\n",
      "2022-03-17 13:22:26.780320 finished: adding constant type m style parameters for file(s) ['freyberg6.wel_stress_period_data_16.txt'] took: 0:00:00.025931\n",
      "2022-03-17 13:22:26.780320 starting: adding grid type m style parameters for file(s) ['freyberg6.wel_stress_period_data_16.txt']\n",
      "2022-03-17 13:22:26.780320 starting: loading list-style freyberg6_template\\freyberg6.wel_stress_period_data_16.txt\n",
      "2022-03-17 13:22:26.781317 starting: reading list-style file: freyberg6_template\\freyberg6.wel_stress_period_data_16.txt\n",
      "2022-03-17 13:22:26.782314 finished: reading list-style file: freyberg6_template\\freyberg6.wel_stress_period_data_16.txt took: 0:00:00.000997\n",
      "2022-03-17 13:22:26.782314 loaded list-style 'freyberg6_template\\freyberg6.wel_stress_period_data_16.txt' of shape (6, 4)\n",
      "2022-03-17 13:22:26.783312 finished: loading list-style freyberg6_template\\freyberg6.wel_stress_period_data_16.txt took: 0:00:00.002992\n",
      "2022-03-17 13:22:26.783312 starting: writing list-style template file 'freyberg6_template\\wel_grd_inst7_grid.csv.tpl'\n",
      "2022-03-17 13:22:26.797274 finished: writing list-style template file 'freyberg6_template\\wel_grd_inst7_grid.csv.tpl' took: 0:00:00.013962\n",
      "2022-03-17 13:22:26.806250 finished: adding grid type m style parameters for file(s) ['freyberg6.wel_stress_period_data_16.txt'] took: 0:00:00.025930\n",
      "2022-03-17 13:22:26.806250 starting: adding constant type m style parameters for file(s) ['freyberg6.wel_stress_period_data_17.txt']\n",
      "2022-03-17 13:22:26.807248 starting: loading list-style freyberg6_template\\freyberg6.wel_stress_period_data_17.txt\n",
      "2022-03-17 13:22:26.807248 starting: reading list-style file: freyberg6_template\\freyberg6.wel_stress_period_data_17.txt\n",
      "2022-03-17 13:22:26.809242 finished: reading list-style file: freyberg6_template\\freyberg6.wel_stress_period_data_17.txt took: 0:00:00.001994\n",
      "2022-03-17 13:22:26.809242 loaded list-style 'freyberg6_template\\freyberg6.wel_stress_period_data_17.txt' of shape (6, 4)\n",
      "2022-03-17 13:22:26.811237 finished: loading list-style freyberg6_template\\freyberg6.wel_stress_period_data_17.txt took: 0:00:00.003989\n",
      "2022-03-17 13:22:26.811237 starting: writing list-style template file 'freyberg6_template\\wel_cst_inst8_constant.csv.tpl'\n",
      "2022-03-17 13:22:26.824202 finished: writing list-style template file 'freyberg6_template\\wel_cst_inst8_constant.csv.tpl' took: 0:00:00.012965\n",
      "2022-03-17 13:22:26.833179 finished: adding constant type m style parameters for file(s) ['freyberg6.wel_stress_period_data_17.txt'] took: 0:00:00.026929\n"
     ]
    },
    {
     "name": "stdout",
     "output_type": "stream",
     "text": [
      "2022-03-17 13:22:26.833179 starting: adding grid type m style parameters for file(s) ['freyberg6.wel_stress_period_data_17.txt']\n",
      "2022-03-17 13:22:26.834176 starting: loading list-style freyberg6_template\\freyberg6.wel_stress_period_data_17.txt\n",
      "2022-03-17 13:22:26.834176 starting: reading list-style file: freyberg6_template\\freyberg6.wel_stress_period_data_17.txt\n",
      "2022-03-17 13:22:26.836170 finished: reading list-style file: freyberg6_template\\freyberg6.wel_stress_period_data_17.txt took: 0:00:00.001994\n",
      "2022-03-17 13:22:26.837167 loaded list-style 'freyberg6_template\\freyberg6.wel_stress_period_data_17.txt' of shape (6, 4)\n",
      "2022-03-17 13:22:26.838165 finished: loading list-style freyberg6_template\\freyberg6.wel_stress_period_data_17.txt took: 0:00:00.003989\n",
      "2022-03-17 13:22:26.838165 starting: writing list-style template file 'freyberg6_template\\wel_grd_inst8_grid.csv.tpl'\n"
     ]
    },
    {
     "name": "stdout",
     "output_type": "stream",
     "text": [
      "2022-03-17 13:22:26.852127 finished: writing list-style template file 'freyberg6_template\\wel_grd_inst8_grid.csv.tpl' took: 0:00:00.013962\n",
      "2022-03-17 13:22:26.863098 finished: adding grid type m style parameters for file(s) ['freyberg6.wel_stress_period_data_17.txt'] took: 0:00:00.029919\n",
      "2022-03-17 13:22:26.863098 starting: adding constant type m style parameters for file(s) ['freyberg6.wel_stress_period_data_18.txt']\n",
      "2022-03-17 13:22:26.864096 starting: loading list-style freyberg6_template\\freyberg6.wel_stress_period_data_18.txt\n",
      "2022-03-17 13:22:26.864096 starting: reading list-style file: freyberg6_template\\freyberg6.wel_stress_period_data_18.txt\n",
      "2022-03-17 13:22:26.866090 finished: reading list-style file: freyberg6_template\\freyberg6.wel_stress_period_data_18.txt took: 0:00:00.001994\n",
      "2022-03-17 13:22:26.866090 loaded list-style 'freyberg6_template\\freyberg6.wel_stress_period_data_18.txt' of shape (6, 4)\n",
      "2022-03-17 13:22:26.868085 finished: loading list-style freyberg6_template\\freyberg6.wel_stress_period_data_18.txt took: 0:00:00.003989\n",
      "2022-03-17 13:22:26.868085 starting: writing list-style template file 'freyberg6_template\\wel_cst_inst9_constant.csv.tpl'\n",
      "2022-03-17 13:22:26.881051 finished: writing list-style template file 'freyberg6_template\\wel_cst_inst9_constant.csv.tpl' took: 0:00:00.012966\n",
      "2022-03-17 13:22:26.890026 finished: adding constant type m style parameters for file(s) ['freyberg6.wel_stress_period_data_18.txt'] took: 0:00:00.026928\n",
      "2022-03-17 13:22:26.891024 starting: adding grid type m style parameters for file(s) ['freyberg6.wel_stress_period_data_18.txt']\n",
      "2022-03-17 13:22:26.891024 starting: loading list-style freyberg6_template\\freyberg6.wel_stress_period_data_18.txt\n",
      "2022-03-17 13:22:26.891024 starting: reading list-style file: freyberg6_template\\freyberg6.wel_stress_period_data_18.txt\n",
      "2022-03-17 13:22:26.893018 finished: reading list-style file: freyberg6_template\\freyberg6.wel_stress_period_data_18.txt took: 0:00:00.001994\n",
      "2022-03-17 13:22:26.893018 loaded list-style 'freyberg6_template\\freyberg6.wel_stress_period_data_18.txt' of shape (6, 4)\n",
      "2022-03-17 13:22:26.894015 finished: loading list-style freyberg6_template\\freyberg6.wel_stress_period_data_18.txt took: 0:00:00.002991\n",
      "2022-03-17 13:22:26.894015 starting: writing list-style template file 'freyberg6_template\\wel_grd_inst9_grid.csv.tpl'\n",
      "2022-03-17 13:22:26.907979 finished: writing list-style template file 'freyberg6_template\\wel_grd_inst9_grid.csv.tpl' took: 0:00:00.013964\n",
      "2022-03-17 13:22:26.915957 finished: adding grid type m style parameters for file(s) ['freyberg6.wel_stress_period_data_18.txt'] took: 0:00:00.024933\n",
      "2022-03-17 13:22:26.916955 starting: adding constant type m style parameters for file(s) ['freyberg6.wel_stress_period_data_19.txt']\n",
      "2022-03-17 13:22:26.916955 starting: loading list-style freyberg6_template\\freyberg6.wel_stress_period_data_19.txt\n",
      "2022-03-17 13:22:26.916955 starting: reading list-style file: freyberg6_template\\freyberg6.wel_stress_period_data_19.txt\n",
      "2022-03-17 13:22:26.918950 finished: reading list-style file: freyberg6_template\\freyberg6.wel_stress_period_data_19.txt took: 0:00:00.001995\n",
      "2022-03-17 13:22:26.919947 loaded list-style 'freyberg6_template\\freyberg6.wel_stress_period_data_19.txt' of shape (6, 4)\n",
      "2022-03-17 13:22:26.919947 finished: loading list-style freyberg6_template\\freyberg6.wel_stress_period_data_19.txt took: 0:00:00.002992\n",
      "2022-03-17 13:22:26.920946 starting: writing list-style template file 'freyberg6_template\\wel_cst_inst10_constant.csv.tpl'\n",
      "2022-03-17 13:22:26.933909 finished: writing list-style template file 'freyberg6_template\\wel_cst_inst10_constant.csv.tpl' took: 0:00:00.012963\n"
     ]
    },
    {
     "name": "stdout",
     "output_type": "stream",
     "text": [
      "2022-03-17 13:22:26.942885 finished: adding constant type m style parameters for file(s) ['freyberg6.wel_stress_period_data_19.txt'] took: 0:00:00.025930\n",
      "2022-03-17 13:22:26.942885 starting: adding grid type m style parameters for file(s) ['freyberg6.wel_stress_period_data_19.txt']\n",
      "2022-03-17 13:22:26.942885 starting: loading list-style freyberg6_template\\freyberg6.wel_stress_period_data_19.txt\n",
      "2022-03-17 13:22:26.943882 starting: reading list-style file: freyberg6_template\\freyberg6.wel_stress_period_data_19.txt\n",
      "2022-03-17 13:22:26.944880 finished: reading list-style file: freyberg6_template\\freyberg6.wel_stress_period_data_19.txt took: 0:00:00.000998\n",
      "2022-03-17 13:22:26.944880 loaded list-style 'freyberg6_template\\freyberg6.wel_stress_period_data_19.txt' of shape (6, 4)\n",
      "2022-03-17 13:22:26.945877 finished: loading list-style freyberg6_template\\freyberg6.wel_stress_period_data_19.txt took: 0:00:00.002992\n",
      "2022-03-17 13:22:26.946874 starting: writing list-style template file 'freyberg6_template\\wel_grd_inst10_grid.csv.tpl'\n",
      "2022-03-17 13:22:26.960837 finished: writing list-style template file 'freyberg6_template\\wel_grd_inst10_grid.csv.tpl' took: 0:00:00.013963\n",
      "2022-03-17 13:22:26.969813 finished: adding grid type m style parameters for file(s) ['freyberg6.wel_stress_period_data_19.txt'] took: 0:00:00.026928\n",
      "2022-03-17 13:22:26.969813 starting: adding constant type m style parameters for file(s) ['freyberg6.wel_stress_period_data_2.txt']\n",
      "2022-03-17 13:22:26.969813 starting: loading list-style freyberg6_template\\freyberg6.wel_stress_period_data_2.txt\n",
      "2022-03-17 13:22:26.970810 starting: reading list-style file: freyberg6_template\\freyberg6.wel_stress_period_data_2.txt\n",
      "2022-03-17 13:22:26.972805 finished: reading list-style file: freyberg6_template\\freyberg6.wel_stress_period_data_2.txt took: 0:00:00.001995\n",
      "2022-03-17 13:22:26.972805 loaded list-style 'freyberg6_template\\freyberg6.wel_stress_period_data_2.txt' of shape (6, 4)\n",
      "2022-03-17 13:22:26.973802 finished: loading list-style freyberg6_template\\freyberg6.wel_stress_period_data_2.txt took: 0:00:00.003989\n",
      "2022-03-17 13:22:26.974800 starting: writing list-style template file 'freyberg6_template\\wel_cst_inst11_constant.csv.tpl'\n",
      "2022-03-17 13:22:26.987765 finished: writing list-style template file 'freyberg6_template\\wel_cst_inst11_constant.csv.tpl' took: 0:00:00.012965\n",
      "2022-03-17 13:22:26.995743 finished: adding constant type m style parameters for file(s) ['freyberg6.wel_stress_period_data_2.txt'] took: 0:00:00.025930\n",
      "2022-03-17 13:22:26.996741 starting: adding grid type m style parameters for file(s) ['freyberg6.wel_stress_period_data_2.txt']\n",
      "2022-03-17 13:22:26.996741 starting: loading list-style freyberg6_template\\freyberg6.wel_stress_period_data_2.txt\n",
      "2022-03-17 13:22:26.996741 starting: reading list-style file: freyberg6_template\\freyberg6.wel_stress_period_data_2.txt\n",
      "2022-03-17 13:22:26.998736 finished: reading list-style file: freyberg6_template\\freyberg6.wel_stress_period_data_2.txt took: 0:00:00.001995\n",
      "2022-03-17 13:22:26.998736 loaded list-style 'freyberg6_template\\freyberg6.wel_stress_period_data_2.txt' of shape (6, 4)\n",
      "2022-03-17 13:22:26.999733 finished: loading list-style freyberg6_template\\freyberg6.wel_stress_period_data_2.txt took: 0:00:00.002992\n",
      "2022-03-17 13:22:26.999733 starting: writing list-style template file 'freyberg6_template\\wel_grd_inst11_grid.csv.tpl'\n",
      "2022-03-17 13:22:27.013696 finished: writing list-style template file 'freyberg6_template\\wel_grd_inst11_grid.csv.tpl' took: 0:00:00.013963\n",
      "2022-03-17 13:22:27.021674 finished: adding grid type m style parameters for file(s) ['freyberg6.wel_stress_period_data_2.txt'] took: 0:00:00.024933\n"
     ]
    },
    {
     "name": "stdout",
     "output_type": "stream",
     "text": [
      "2022-03-17 13:22:27.022672 starting: adding constant type m style parameters for file(s) ['freyberg6.wel_stress_period_data_20.txt']\n",
      "2022-03-17 13:22:27.022672 starting: loading list-style freyberg6_template\\freyberg6.wel_stress_period_data_20.txt\n",
      "2022-03-17 13:22:27.022672 starting: reading list-style file: freyberg6_template\\freyberg6.wel_stress_period_data_20.txt\n",
      "2022-03-17 13:22:27.025664 finished: reading list-style file: freyberg6_template\\freyberg6.wel_stress_period_data_20.txt took: 0:00:00.002992\n",
      "2022-03-17 13:22:27.025664 loaded list-style 'freyberg6_template\\freyberg6.wel_stress_period_data_20.txt' of shape (6, 4)\n",
      "2022-03-17 13:22:27.026661 finished: loading list-style freyberg6_template\\freyberg6.wel_stress_period_data_20.txt took: 0:00:00.003989\n",
      "2022-03-17 13:22:27.026661 starting: writing list-style template file 'freyberg6_template\\wel_cst_inst12_constant.csv.tpl'\n",
      "2022-03-17 13:22:27.041621 finished: writing list-style template file 'freyberg6_template\\wel_cst_inst12_constant.csv.tpl' took: 0:00:00.014960\n"
     ]
    },
    {
     "name": "stdout",
     "output_type": "stream",
     "text": [
      "2022-03-17 13:22:27.050597 finished: adding constant type m style parameters for file(s) ['freyberg6.wel_stress_period_data_20.txt'] took: 0:00:00.027925\n",
      "2022-03-17 13:22:27.050597 starting: adding grid type m style parameters for file(s) ['freyberg6.wel_stress_period_data_20.txt']\n",
      "2022-03-17 13:22:27.050597 starting: loading list-style freyberg6_template\\freyberg6.wel_stress_period_data_20.txt\n",
      "2022-03-17 13:22:27.050597 starting: reading list-style file: freyberg6_template\\freyberg6.wel_stress_period_data_20.txt\n",
      "2022-03-17 13:22:27.052591 finished: reading list-style file: freyberg6_template\\freyberg6.wel_stress_period_data_20.txt took: 0:00:00.001994\n",
      "2022-03-17 13:22:27.052591 loaded list-style 'freyberg6_template\\freyberg6.wel_stress_period_data_20.txt' of shape (6, 4)\n",
      "2022-03-17 13:22:27.053589 finished: loading list-style freyberg6_template\\freyberg6.wel_stress_period_data_20.txt took: 0:00:00.002992\n",
      "2022-03-17 13:22:27.053589 starting: writing list-style template file 'freyberg6_template\\wel_grd_inst12_grid.csv.tpl'\n",
      "2022-03-17 13:22:27.067552 finished: writing list-style template file 'freyberg6_template\\wel_grd_inst12_grid.csv.tpl' took: 0:00:00.013963\n",
      "2022-03-17 13:22:27.076528 finished: adding grid type m style parameters for file(s) ['freyberg6.wel_stress_period_data_20.txt'] took: 0:00:00.025931\n",
      "2022-03-17 13:22:27.076528 starting: adding constant type m style parameters for file(s) ['freyberg6.wel_stress_period_data_21.txt']\n",
      "2022-03-17 13:22:27.076528 starting: loading list-style freyberg6_template\\freyberg6.wel_stress_period_data_21.txt\n",
      "2022-03-17 13:22:27.077525 starting: reading list-style file: freyberg6_template\\freyberg6.wel_stress_period_data_21.txt\n",
      "2022-03-17 13:22:27.079520 finished: reading list-style file: freyberg6_template\\freyberg6.wel_stress_period_data_21.txt took: 0:00:00.001995\n",
      "2022-03-17 13:22:27.079520 loaded list-style 'freyberg6_template\\freyberg6.wel_stress_period_data_21.txt' of shape (6, 4)\n",
      "2022-03-17 13:22:27.080517 finished: loading list-style freyberg6_template\\freyberg6.wel_stress_period_data_21.txt took: 0:00:00.003989\n",
      "2022-03-17 13:22:27.080517 starting: writing list-style template file 'freyberg6_template\\wel_cst_inst13_constant.csv.tpl'\n",
      "2022-03-17 13:22:27.094480 finished: writing list-style template file 'freyberg6_template\\wel_cst_inst13_constant.csv.tpl' took: 0:00:00.013963\n",
      "2022-03-17 13:22:27.102458 finished: adding constant type m style parameters for file(s) ['freyberg6.wel_stress_period_data_21.txt'] took: 0:00:00.025930\n",
      "2022-03-17 13:22:27.102458 starting: adding grid type m style parameters for file(s) ['freyberg6.wel_stress_period_data_21.txt']\n",
      "2022-03-17 13:22:27.103455 starting: loading list-style freyberg6_template\\freyberg6.wel_stress_period_data_21.txt\n",
      "2022-03-17 13:22:27.103455 starting: reading list-style file: freyberg6_template\\freyberg6.wel_stress_period_data_21.txt\n",
      "2022-03-17 13:22:27.104453 finished: reading list-style file: freyberg6_template\\freyberg6.wel_stress_period_data_21.txt took: 0:00:00.000998\n",
      "2022-03-17 13:22:27.105450 loaded list-style 'freyberg6_template\\freyberg6.wel_stress_period_data_21.txt' of shape (6, 4)\n",
      "2022-03-17 13:22:27.105450 finished: loading list-style freyberg6_template\\freyberg6.wel_stress_period_data_21.txt took: 0:00:00.001995\n",
      "2022-03-17 13:22:27.106447 starting: writing list-style template file 'freyberg6_template\\wel_grd_inst13_grid.csv.tpl'\n",
      "2022-03-17 13:22:27.120410 finished: writing list-style template file 'freyberg6_template\\wel_grd_inst13_grid.csv.tpl' took: 0:00:00.013963\n"
     ]
    },
    {
     "name": "stdout",
     "output_type": "stream",
     "text": [
      "2022-03-17 13:22:27.129386 finished: adding grid type m style parameters for file(s) ['freyberg6.wel_stress_period_data_21.txt'] took: 0:00:00.026928\n",
      "2022-03-17 13:22:27.129386 starting: adding constant type m style parameters for file(s) ['freyberg6.wel_stress_period_data_22.txt']\n",
      "2022-03-17 13:22:27.129386 starting: loading list-style freyberg6_template\\freyberg6.wel_stress_period_data_22.txt\n",
      "2022-03-17 13:22:27.130384 starting: reading list-style file: freyberg6_template\\freyberg6.wel_stress_period_data_22.txt\n",
      "2022-03-17 13:22:27.132378 finished: reading list-style file: freyberg6_template\\freyberg6.wel_stress_period_data_22.txt took: 0:00:00.001994\n",
      "2022-03-17 13:22:27.132378 loaded list-style 'freyberg6_template\\freyberg6.wel_stress_period_data_22.txt' of shape (6, 4)\n",
      "2022-03-17 13:22:27.133376 finished: loading list-style freyberg6_template\\freyberg6.wel_stress_period_data_22.txt took: 0:00:00.003990\n",
      "2022-03-17 13:22:27.133376 starting: writing list-style template file 'freyberg6_template\\wel_cst_inst14_constant.csv.tpl'\n",
      "2022-03-17 13:22:27.147338 finished: writing list-style template file 'freyberg6_template\\wel_cst_inst14_constant.csv.tpl' took: 0:00:00.013962\n",
      "2022-03-17 13:22:27.156314 finished: adding constant type m style parameters for file(s) ['freyberg6.wel_stress_period_data_22.txt'] took: 0:00:00.026928\n",
      "2022-03-17 13:22:27.156314 starting: adding grid type m style parameters for file(s) ['freyberg6.wel_stress_period_data_22.txt']\n",
      "2022-03-17 13:22:27.157312 starting: loading list-style freyberg6_template\\freyberg6.wel_stress_period_data_22.txt\n",
      "2022-03-17 13:22:27.157312 starting: reading list-style file: freyberg6_template\\freyberg6.wel_stress_period_data_22.txt\n",
      "2022-03-17 13:22:27.158309 finished: reading list-style file: freyberg6_template\\freyberg6.wel_stress_period_data_22.txt took: 0:00:00.000997\n",
      "2022-03-17 13:22:27.159306 loaded list-style 'freyberg6_template\\freyberg6.wel_stress_period_data_22.txt' of shape (6, 4)\n",
      "2022-03-17 13:22:27.160303 finished: loading list-style freyberg6_template\\freyberg6.wel_stress_period_data_22.txt took: 0:00:00.002991\n",
      "2022-03-17 13:22:27.160303 starting: writing list-style template file 'freyberg6_template\\wel_grd_inst14_grid.csv.tpl'\n",
      "2022-03-17 13:22:27.173269 finished: writing list-style template file 'freyberg6_template\\wel_grd_inst14_grid.csv.tpl' took: 0:00:00.012966\n",
      "2022-03-17 13:22:27.182245 finished: adding grid type m style parameters for file(s) ['freyberg6.wel_stress_period_data_22.txt'] took: 0:00:00.025931\n",
      "2022-03-17 13:22:27.182245 starting: adding constant type m style parameters for file(s) ['freyberg6.wel_stress_period_data_23.txt']\n",
      "2022-03-17 13:22:27.182245 starting: loading list-style freyberg6_template\\freyberg6.wel_stress_period_data_23.txt\n",
      "2022-03-17 13:22:27.183242 starting: reading list-style file: freyberg6_template\\freyberg6.wel_stress_period_data_23.txt\n",
      "2022-03-17 13:22:27.185237 finished: reading list-style file: freyberg6_template\\freyberg6.wel_stress_period_data_23.txt took: 0:00:00.001995\n",
      "2022-03-17 13:22:27.185237 loaded list-style 'freyberg6_template\\freyberg6.wel_stress_period_data_23.txt' of shape (6, 4)\n",
      "2022-03-17 13:22:27.186234 finished: loading list-style freyberg6_template\\freyberg6.wel_stress_period_data_23.txt took: 0:00:00.003989\n",
      "2022-03-17 13:22:27.186234 starting: writing list-style template file 'freyberg6_template\\wel_cst_inst15_constant.csv.tpl'\n",
      "2022-03-17 13:22:27.199200 finished: writing list-style template file 'freyberg6_template\\wel_cst_inst15_constant.csv.tpl' took: 0:00:00.012966\n",
      "2022-03-17 13:22:27.208175 finished: adding constant type m style parameters for file(s) ['freyberg6.wel_stress_period_data_23.txt'] took: 0:00:00.025930\n"
     ]
    },
    {
     "name": "stdout",
     "output_type": "stream",
     "text": [
      "2022-03-17 13:22:27.209173 starting: adding grid type m style parameters for file(s) ['freyberg6.wel_stress_period_data_23.txt']\n",
      "2022-03-17 13:22:27.209173 starting: loading list-style freyberg6_template\\freyberg6.wel_stress_period_data_23.txt\n",
      "2022-03-17 13:22:27.210170 starting: reading list-style file: freyberg6_template\\freyberg6.wel_stress_period_data_23.txt\n",
      "2022-03-17 13:22:27.211167 finished: reading list-style file: freyberg6_template\\freyberg6.wel_stress_period_data_23.txt took: 0:00:00.000997\n",
      "2022-03-17 13:22:27.211167 loaded list-style 'freyberg6_template\\freyberg6.wel_stress_period_data_23.txt' of shape (6, 4)\n",
      "2022-03-17 13:22:27.212165 finished: loading list-style freyberg6_template\\freyberg6.wel_stress_period_data_23.txt took: 0:00:00.002992\n",
      "2022-03-17 13:22:27.212165 starting: writing list-style template file 'freyberg6_template\\wel_grd_inst15_grid.csv.tpl'\n",
      "2022-03-17 13:22:27.226127 finished: writing list-style template file 'freyberg6_template\\wel_grd_inst15_grid.csv.tpl' took: 0:00:00.013962\n",
      "2022-03-17 13:22:27.234106 finished: adding grid type m style parameters for file(s) ['freyberg6.wel_stress_period_data_23.txt'] took: 0:00:00.024933\n",
      "2022-03-17 13:22:27.234106 starting: adding constant type m style parameters for file(s) ['freyberg6.wel_stress_period_data_24.txt']\n",
      "2022-03-17 13:22:27.234106 starting: loading list-style freyberg6_template\\freyberg6.wel_stress_period_data_24.txt\n",
      "2022-03-17 13:22:27.235103 starting: reading list-style file: freyberg6_template\\freyberg6.wel_stress_period_data_24.txt\n",
      "2022-03-17 13:22:27.237098 finished: reading list-style file: freyberg6_template\\freyberg6.wel_stress_period_data_24.txt took: 0:00:00.001995\n"
     ]
    },
    {
     "name": "stdout",
     "output_type": "stream",
     "text": [
      "2022-03-17 13:22:27.237098 loaded list-style 'freyberg6_template\\freyberg6.wel_stress_period_data_24.txt' of shape (6, 4)\n",
      "2022-03-17 13:22:27.238096 finished: loading list-style freyberg6_template\\freyberg6.wel_stress_period_data_24.txt took: 0:00:00.003990\n",
      "2022-03-17 13:22:27.238096 starting: writing list-style template file 'freyberg6_template\\wel_cst_inst16_constant.csv.tpl'\n",
      "2022-03-17 13:22:27.252059 finished: writing list-style template file 'freyberg6_template\\wel_cst_inst16_constant.csv.tpl' took: 0:00:00.013963\n",
      "2022-03-17 13:22:27.261034 finished: adding constant type m style parameters for file(s) ['freyberg6.wel_stress_period_data_24.txt'] took: 0:00:00.026928\n",
      "2022-03-17 13:22:27.261034 starting: adding grid type m style parameters for file(s) ['freyberg6.wel_stress_period_data_24.txt']\n",
      "2022-03-17 13:22:27.261034 starting: loading list-style freyberg6_template\\freyberg6.wel_stress_period_data_24.txt\n",
      "2022-03-17 13:22:27.262031 starting: reading list-style file: freyberg6_template\\freyberg6.wel_stress_period_data_24.txt\n",
      "2022-03-17 13:22:27.263029 finished: reading list-style file: freyberg6_template\\freyberg6.wel_stress_period_data_24.txt took: 0:00:00.000998\n",
      "2022-03-17 13:22:27.263029 loaded list-style 'freyberg6_template\\freyberg6.wel_stress_period_data_24.txt' of shape (6, 4)\n",
      "2022-03-17 13:22:27.264026 finished: loading list-style freyberg6_template\\freyberg6.wel_stress_period_data_24.txt took: 0:00:00.002992\n",
      "2022-03-17 13:22:27.265026 starting: writing list-style template file 'freyberg6_template\\wel_grd_inst16_grid.csv.tpl'\n",
      "2022-03-17 13:22:27.278986 finished: writing list-style template file 'freyberg6_template\\wel_grd_inst16_grid.csv.tpl' took: 0:00:00.013960\n",
      "2022-03-17 13:22:27.287962 finished: adding grid type m style parameters for file(s) ['freyberg6.wel_stress_period_data_24.txt'] took: 0:00:00.026928\n",
      "2022-03-17 13:22:27.287962 starting: adding constant type m style parameters for file(s) ['freyberg6.wel_stress_period_data_25.txt']\n",
      "2022-03-17 13:22:27.287962 starting: loading list-style freyberg6_template\\freyberg6.wel_stress_period_data_25.txt\n",
      "2022-03-17 13:22:27.287962 starting: reading list-style file: freyberg6_template\\freyberg6.wel_stress_period_data_25.txt\n",
      "2022-03-17 13:22:27.290954 finished: reading list-style file: freyberg6_template\\freyberg6.wel_stress_period_data_25.txt took: 0:00:00.002992\n",
      "2022-03-17 13:22:27.290954 loaded list-style 'freyberg6_template\\freyberg6.wel_stress_period_data_25.txt' of shape (6, 4)\n",
      "2022-03-17 13:22:27.292949 finished: loading list-style freyberg6_template\\freyberg6.wel_stress_period_data_25.txt took: 0:00:00.004987\n",
      "2022-03-17 13:22:27.292949 starting: writing list-style template file 'freyberg6_template\\wel_cst_inst17_constant.csv.tpl'\n",
      "2022-03-17 13:22:27.305914 finished: writing list-style template file 'freyberg6_template\\wel_cst_inst17_constant.csv.tpl' took: 0:00:00.012965\n",
      "2022-03-17 13:22:27.313893 finished: adding constant type m style parameters for file(s) ['freyberg6.wel_stress_period_data_25.txt'] took: 0:00:00.025931\n",
      "2022-03-17 13:22:27.314890 starting: adding grid type m style parameters for file(s) ['freyberg6.wel_stress_period_data_25.txt']\n"
     ]
    },
    {
     "name": "stdout",
     "output_type": "stream",
     "text": [
      "2022-03-17 13:22:27.314890 starting: loading list-style freyberg6_template\\freyberg6.wel_stress_period_data_25.txt\n",
      "2022-03-17 13:22:27.314890 starting: reading list-style file: freyberg6_template\\freyberg6.wel_stress_period_data_25.txt\n",
      "2022-03-17 13:22:27.316885 finished: reading list-style file: freyberg6_template\\freyberg6.wel_stress_period_data_25.txt took: 0:00:00.001995\n",
      "2022-03-17 13:22:27.316885 loaded list-style 'freyberg6_template\\freyberg6.wel_stress_period_data_25.txt' of shape (6, 4)\n",
      "2022-03-17 13:22:27.317882 finished: loading list-style freyberg6_template\\freyberg6.wel_stress_period_data_25.txt took: 0:00:00.002992\n",
      "2022-03-17 13:22:27.317882 starting: writing list-style template file 'freyberg6_template\\wel_grd_inst17_grid.csv.tpl'\n",
      "2022-03-17 13:22:27.331845 finished: writing list-style template file 'freyberg6_template\\wel_grd_inst17_grid.csv.tpl' took: 0:00:00.013963\n",
      "2022-03-17 13:22:27.340821 finished: adding grid type m style parameters for file(s) ['freyberg6.wel_stress_period_data_25.txt'] took: 0:00:00.025931\n",
      "2022-03-17 13:22:27.341818 starting: adding constant type m style parameters for file(s) ['freyberg6.wel_stress_period_data_3.txt']\n",
      "2022-03-17 13:22:27.341818 starting: loading list-style freyberg6_template\\freyberg6.wel_stress_period_data_3.txt\n",
      "2022-03-17 13:22:27.341818 starting: reading list-style file: freyberg6_template\\freyberg6.wel_stress_period_data_3.txt\n",
      "2022-03-17 13:22:27.343813 finished: reading list-style file: freyberg6_template\\freyberg6.wel_stress_period_data_3.txt took: 0:00:00.001995\n",
      "2022-03-17 13:22:27.344810 loaded list-style 'freyberg6_template\\freyberg6.wel_stress_period_data_3.txt' of shape (6, 4)\n",
      "2022-03-17 13:22:27.345807 finished: loading list-style freyberg6_template\\freyberg6.wel_stress_period_data_3.txt took: 0:00:00.003989\n",
      "2022-03-17 13:22:27.345807 starting: writing list-style template file 'freyberg6_template\\wel_cst_inst18_constant.csv.tpl'\n",
      "2022-03-17 13:22:27.358772 finished: writing list-style template file 'freyberg6_template\\wel_cst_inst18_constant.csv.tpl' took: 0:00:00.012965\n",
      "2022-03-17 13:22:27.367748 finished: adding constant type m style parameters for file(s) ['freyberg6.wel_stress_period_data_3.txt'] took: 0:00:00.025930\n",
      "2022-03-17 13:22:27.367748 starting: adding grid type m style parameters for file(s) ['freyberg6.wel_stress_period_data_3.txt']\n",
      "2022-03-17 13:22:27.367748 starting: loading list-style freyberg6_template\\freyberg6.wel_stress_period_data_3.txt\n",
      "2022-03-17 13:22:27.368746 starting: reading list-style file: freyberg6_template\\freyberg6.wel_stress_period_data_3.txt\n",
      "2022-03-17 13:22:27.369743 finished: reading list-style file: freyberg6_template\\freyberg6.wel_stress_period_data_3.txt took: 0:00:00.000997\n",
      "2022-03-17 13:22:27.369743 loaded list-style 'freyberg6_template\\freyberg6.wel_stress_period_data_3.txt' of shape (6, 4)\n",
      "2022-03-17 13:22:27.370741 finished: loading list-style freyberg6_template\\freyberg6.wel_stress_period_data_3.txt took: 0:00:00.002993\n",
      "2022-03-17 13:22:27.371738 starting: writing list-style template file 'freyberg6_template\\wel_grd_inst18_grid.csv.tpl'\n",
      "2022-03-17 13:22:27.384704 finished: writing list-style template file 'freyberg6_template\\wel_grd_inst18_grid.csv.tpl' took: 0:00:00.012966\n",
      "2022-03-17 13:22:27.393679 finished: adding grid type m style parameters for file(s) ['freyberg6.wel_stress_period_data_3.txt'] took: 0:00:00.025931\n"
     ]
    },
    {
     "name": "stdout",
     "output_type": "stream",
     "text": [
      "2022-03-17 13:22:27.394676 starting: adding constant type m style parameters for file(s) ['freyberg6.wel_stress_period_data_4.txt']\n",
      "2022-03-17 13:22:27.394676 starting: loading list-style freyberg6_template\\freyberg6.wel_stress_period_data_4.txt\n",
      "2022-03-17 13:22:27.394676 starting: reading list-style file: freyberg6_template\\freyberg6.wel_stress_period_data_4.txt\n",
      "2022-03-17 13:22:27.397669 finished: reading list-style file: freyberg6_template\\freyberg6.wel_stress_period_data_4.txt took: 0:00:00.002993\n",
      "2022-03-17 13:22:27.397669 loaded list-style 'freyberg6_template\\freyberg6.wel_stress_period_data_4.txt' of shape (6, 4)\n",
      "2022-03-17 13:22:27.398666 finished: loading list-style freyberg6_template\\freyberg6.wel_stress_period_data_4.txt took: 0:00:00.003990\n",
      "2022-03-17 13:22:27.398666 starting: writing list-style template file 'freyberg6_template\\wel_cst_inst19_constant.csv.tpl'\n",
      "2022-03-17 13:22:27.411631 finished: writing list-style template file 'freyberg6_template\\wel_cst_inst19_constant.csv.tpl' took: 0:00:00.012965\n",
      "2022-03-17 13:22:27.421605 finished: adding constant type m style parameters for file(s) ['freyberg6.wel_stress_period_data_4.txt'] took: 0:00:00.026929\n",
      "2022-03-17 13:22:27.421605 starting: adding grid type m style parameters for file(s) ['freyberg6.wel_stress_period_data_4.txt']\n",
      "2022-03-17 13:22:27.421605 starting: loading list-style freyberg6_template\\freyberg6.wel_stress_period_data_4.txt\n",
      "2022-03-17 13:22:27.422602 starting: reading list-style file: freyberg6_template\\freyberg6.wel_stress_period_data_4.txt\n",
      "2022-03-17 13:22:27.424597 finished: reading list-style file: freyberg6_template\\freyberg6.wel_stress_period_data_4.txt took: 0:00:00.001995\n"
     ]
    },
    {
     "name": "stdout",
     "output_type": "stream",
     "text": [
      "2022-03-17 13:22:27.424597 loaded list-style 'freyberg6_template\\freyberg6.wel_stress_period_data_4.txt' of shape (6, 4)\n",
      "2022-03-17 13:22:27.425595 finished: loading list-style freyberg6_template\\freyberg6.wel_stress_period_data_4.txt took: 0:00:00.003990\n",
      "2022-03-17 13:22:27.426593 starting: writing list-style template file 'freyberg6_template\\wel_grd_inst19_grid.csv.tpl'\n",
      "2022-03-17 13:22:27.439557 finished: writing list-style template file 'freyberg6_template\\wel_grd_inst19_grid.csv.tpl' took: 0:00:00.012964\n",
      "2022-03-17 13:22:27.448534 finished: adding grid type m style parameters for file(s) ['freyberg6.wel_stress_period_data_4.txt'] took: 0:00:00.026929\n",
      "2022-03-17 13:22:27.449531 starting: adding constant type m style parameters for file(s) ['freyberg6.wel_stress_period_data_5.txt']\n",
      "2022-03-17 13:22:27.449531 starting: loading list-style freyberg6_template\\freyberg6.wel_stress_period_data_5.txt\n",
      "2022-03-17 13:22:27.449531 starting: reading list-style file: freyberg6_template\\freyberg6.wel_stress_period_data_5.txt\n",
      "2022-03-17 13:22:27.451526 finished: reading list-style file: freyberg6_template\\freyberg6.wel_stress_period_data_5.txt took: 0:00:00.001995\n",
      "2022-03-17 13:22:27.451526 loaded list-style 'freyberg6_template\\freyberg6.wel_stress_period_data_5.txt' of shape (6, 4)\n",
      "2022-03-17 13:22:27.452523 finished: loading list-style freyberg6_template\\freyberg6.wel_stress_period_data_5.txt took: 0:00:00.002992\n",
      "2022-03-17 13:22:27.453520 starting: writing list-style template file 'freyberg6_template\\wel_cst_inst20_constant.csv.tpl'\n",
      "2022-03-17 13:22:27.466485 finished: writing list-style template file 'freyberg6_template\\wel_cst_inst20_constant.csv.tpl' took: 0:00:00.012965\n",
      "2022-03-17 13:22:27.475461 finished: adding constant type m style parameters for file(s) ['freyberg6.wel_stress_period_data_5.txt'] took: 0:00:00.025930\n",
      "2022-03-17 13:22:27.475461 starting: adding grid type m style parameters for file(s) ['freyberg6.wel_stress_period_data_5.txt']\n",
      "2022-03-17 13:22:27.475461 starting: loading list-style freyberg6_template\\freyberg6.wel_stress_period_data_5.txt\n",
      "2022-03-17 13:22:27.475461 starting: reading list-style file: freyberg6_template\\freyberg6.wel_stress_period_data_5.txt\n",
      "2022-03-17 13:22:27.477489 finished: reading list-style file: freyberg6_template\\freyberg6.wel_stress_period_data_5.txt took: 0:00:00.002028\n",
      "2022-03-17 13:22:27.477489 loaded list-style 'freyberg6_template\\freyberg6.wel_stress_period_data_5.txt' of shape (6, 4)\n",
      "2022-03-17 13:22:27.478455 finished: loading list-style freyberg6_template\\freyberg6.wel_stress_period_data_5.txt took: 0:00:00.002994\n",
      "2022-03-17 13:22:27.478455 starting: writing list-style template file 'freyberg6_template\\wel_grd_inst20_grid.csv.tpl'\n",
      "2022-03-17 13:22:27.492416 finished: writing list-style template file 'freyberg6_template\\wel_grd_inst20_grid.csv.tpl' took: 0:00:00.013961\n",
      "2022-03-17 13:22:27.501392 finished: adding grid type m style parameters for file(s) ['freyberg6.wel_stress_period_data_5.txt'] took: 0:00:00.025931\n",
      "2022-03-17 13:22:27.502391 starting: adding constant type m style parameters for file(s) ['freyberg6.wel_stress_period_data_6.txt']\n"
     ]
    },
    {
     "name": "stdout",
     "output_type": "stream",
     "text": [
      "2022-03-17 13:22:27.502391 starting: loading list-style freyberg6_template\\freyberg6.wel_stress_period_data_6.txt\n",
      "2022-03-17 13:22:27.502391 starting: reading list-style file: freyberg6_template\\freyberg6.wel_stress_period_data_6.txt\n",
      "2022-03-17 13:22:27.505383 finished: reading list-style file: freyberg6_template\\freyberg6.wel_stress_period_data_6.txt took: 0:00:00.002992\n",
      "2022-03-17 13:22:27.505383 loaded list-style 'freyberg6_template\\freyberg6.wel_stress_period_data_6.txt' of shape (6, 4)\n",
      "2022-03-17 13:22:27.507376 finished: loading list-style freyberg6_template\\freyberg6.wel_stress_period_data_6.txt took: 0:00:00.004985\n",
      "2022-03-17 13:22:27.507376 starting: writing list-style template file 'freyberg6_template\\wel_cst_inst21_constant.csv.tpl'\n",
      "2022-03-17 13:22:27.521375 finished: writing list-style template file 'freyberg6_template\\wel_cst_inst21_constant.csv.tpl' took: 0:00:00.013999\n",
      "2022-03-17 13:22:27.530340 finished: adding constant type m style parameters for file(s) ['freyberg6.wel_stress_period_data_6.txt'] took: 0:00:00.027949\n",
      "2022-03-17 13:22:27.530340 starting: adding grid type m style parameters for file(s) ['freyberg6.wel_stress_period_data_6.txt']\n",
      "2022-03-17 13:22:27.530340 starting: loading list-style freyberg6_template\\freyberg6.wel_stress_period_data_6.txt\n",
      "2022-03-17 13:22:27.531313 starting: reading list-style file: freyberg6_template\\freyberg6.wel_stress_period_data_6.txt\n",
      "2022-03-17 13:22:27.532334 finished: reading list-style file: freyberg6_template\\freyberg6.wel_stress_period_data_6.txt took: 0:00:00.001021\n",
      "2022-03-17 13:22:27.532334 loaded list-style 'freyberg6_template\\freyberg6.wel_stress_period_data_6.txt' of shape (6, 4)\n",
      "2022-03-17 13:22:27.533308 finished: loading list-style freyberg6_template\\freyberg6.wel_stress_period_data_6.txt took: 0:00:00.002968\n",
      "2022-03-17 13:22:27.533308 starting: writing list-style template file 'freyberg6_template\\wel_grd_inst21_grid.csv.tpl'\n",
      "2022-03-17 13:22:27.548267 finished: writing list-style template file 'freyberg6_template\\wel_grd_inst21_grid.csv.tpl' took: 0:00:00.014959\n",
      "2022-03-17 13:22:27.557242 finished: adding grid type m style parameters for file(s) ['freyberg6.wel_stress_period_data_6.txt'] took: 0:00:00.026902\n",
      "2022-03-17 13:22:27.558240 starting: adding constant type m style parameters for file(s) ['freyberg6.wel_stress_period_data_7.txt']\n",
      "2022-03-17 13:22:27.558240 starting: loading list-style freyberg6_template\\freyberg6.wel_stress_period_data_7.txt\n",
      "2022-03-17 13:22:27.558240 starting: reading list-style file: freyberg6_template\\freyberg6.wel_stress_period_data_7.txt\n",
      "2022-03-17 13:22:27.560236 finished: reading list-style file: freyberg6_template\\freyberg6.wel_stress_period_data_7.txt took: 0:00:00.001996\n",
      "2022-03-17 13:22:27.561232 loaded list-style 'freyberg6_template\\freyberg6.wel_stress_period_data_7.txt' of shape (6, 4)\n",
      "2022-03-17 13:22:27.562230 finished: loading list-style freyberg6_template\\freyberg6.wel_stress_period_data_7.txt took: 0:00:00.003990\n",
      "2022-03-17 13:22:27.562230 starting: writing list-style template file 'freyberg6_template\\wel_cst_inst22_constant.csv.tpl'\n",
      "2022-03-17 13:22:27.577189 finished: writing list-style template file 'freyberg6_template\\wel_cst_inst22_constant.csv.tpl' took: 0:00:00.014959\n"
     ]
    },
    {
     "name": "stdout",
     "output_type": "stream",
     "text": [
      "2022-03-17 13:22:27.586166 finished: adding constant type m style parameters for file(s) ['freyberg6.wel_stress_period_data_7.txt'] took: 0:00:00.027926\n",
      "2022-03-17 13:22:27.586166 starting: adding grid type m style parameters for file(s) ['freyberg6.wel_stress_period_data_7.txt']\n",
      "2022-03-17 13:22:27.587164 starting: loading list-style freyberg6_template\\freyberg6.wel_stress_period_data_7.txt\n",
      "2022-03-17 13:22:27.587164 starting: reading list-style file: freyberg6_template\\freyberg6.wel_stress_period_data_7.txt\n",
      "2022-03-17 13:22:27.589158 finished: reading list-style file: freyberg6_template\\freyberg6.wel_stress_period_data_7.txt took: 0:00:00.001994\n",
      "2022-03-17 13:22:27.589158 loaded list-style 'freyberg6_template\\freyberg6.wel_stress_period_data_7.txt' of shape (6, 4)\n",
      "2022-03-17 13:22:27.590308 finished: loading list-style freyberg6_template\\freyberg6.wel_stress_period_data_7.txt took: 0:00:00.003144\n",
      "2022-03-17 13:22:27.590308 starting: writing list-style template file 'freyberg6_template\\wel_grd_inst22_grid.csv.tpl'\n",
      "2022-03-17 13:22:27.605115 finished: writing list-style template file 'freyberg6_template\\wel_grd_inst22_grid.csv.tpl' took: 0:00:00.014807\n",
      "2022-03-17 13:22:27.614091 finished: adding grid type m style parameters for file(s) ['freyberg6.wel_stress_period_data_7.txt'] took: 0:00:00.027925\n"
     ]
    },
    {
     "name": "stdout",
     "output_type": "stream",
     "text": [
      "2022-03-17 13:22:27.615089 starting: adding constant type m style parameters for file(s) ['freyberg6.wel_stress_period_data_8.txt']\n",
      "2022-03-17 13:22:27.615089 starting: loading list-style freyberg6_template\\freyberg6.wel_stress_period_data_8.txt\n",
      "2022-03-17 13:22:27.615089 starting: reading list-style file: freyberg6_template\\freyberg6.wel_stress_period_data_8.txt\n",
      "2022-03-17 13:22:27.617108 finished: reading list-style file: freyberg6_template\\freyberg6.wel_stress_period_data_8.txt took: 0:00:00.002019\n",
      "2022-03-17 13:22:27.618081 loaded list-style 'freyberg6_template\\freyberg6.wel_stress_period_data_8.txt' of shape (6, 4)\n",
      "2022-03-17 13:22:27.619104 finished: loading list-style freyberg6_template\\freyberg6.wel_stress_period_data_8.txt took: 0:00:00.004015\n",
      "2022-03-17 13:22:27.619104 starting: writing list-style template file 'freyberg6_template\\wel_cst_inst23_constant.csv.tpl'\n",
      "2022-03-17 13:22:27.633039 finished: writing list-style template file 'freyberg6_template\\wel_cst_inst23_constant.csv.tpl' took: 0:00:00.013935\n",
      "2022-03-17 13:22:27.642016 finished: adding constant type m style parameters for file(s) ['freyberg6.wel_stress_period_data_8.txt'] took: 0:00:00.026927\n",
      "2022-03-17 13:22:27.643014 starting: adding grid type m style parameters for file(s) ['freyberg6.wel_stress_period_data_8.txt']\n",
      "2022-03-17 13:22:27.643014 starting: loading list-style freyberg6_template\\freyberg6.wel_stress_period_data_8.txt\n",
      "2022-03-17 13:22:27.643014 starting: reading list-style file: freyberg6_template\\freyberg6.wel_stress_period_data_8.txt\n",
      "2022-03-17 13:22:27.645008 finished: reading list-style file: freyberg6_template\\freyberg6.wel_stress_period_data_8.txt took: 0:00:00.001994\n",
      "2022-03-17 13:22:27.645008 loaded list-style 'freyberg6_template\\freyberg6.wel_stress_period_data_8.txt' of shape (6, 4)\n",
      "2022-03-17 13:22:27.646006 finished: loading list-style freyberg6_template\\freyberg6.wel_stress_period_data_8.txt took: 0:00:00.002992\n",
      "2022-03-17 13:22:27.646006 starting: writing list-style template file 'freyberg6_template\\wel_grd_inst23_grid.csv.tpl'\n",
      "2022-03-17 13:22:27.661962 finished: writing list-style template file 'freyberg6_template\\wel_grd_inst23_grid.csv.tpl' took: 0:00:00.015956\n",
      "2022-03-17 13:22:27.669940 finished: adding grid type m style parameters for file(s) ['freyberg6.wel_stress_period_data_8.txt'] took: 0:00:00.026926\n",
      "2022-03-17 13:22:27.669940 starting: adding constant type m style parameters for file(s) ['freyberg6.wel_stress_period_data_9.txt']\n",
      "2022-03-17 13:22:27.670938 starting: loading list-style freyberg6_template\\freyberg6.wel_stress_period_data_9.txt\n",
      "2022-03-17 13:22:27.670938 starting: reading list-style file: freyberg6_template\\freyberg6.wel_stress_period_data_9.txt\n",
      "2022-03-17 13:22:27.672933 finished: reading list-style file: freyberg6_template\\freyberg6.wel_stress_period_data_9.txt took: 0:00:00.001995\n",
      "2022-03-17 13:22:27.673930 loaded list-style 'freyberg6_template\\freyberg6.wel_stress_period_data_9.txt' of shape (6, 4)\n",
      "2022-03-17 13:22:27.674928 finished: loading list-style freyberg6_template\\freyberg6.wel_stress_period_data_9.txt took: 0:00:00.003990\n",
      "2022-03-17 13:22:27.674928 starting: writing list-style template file 'freyberg6_template\\wel_cst_inst24_constant.csv.tpl'\n",
      "2022-03-17 13:22:27.686895 finished: writing list-style template file 'freyberg6_template\\wel_cst_inst24_constant.csv.tpl' took: 0:00:00.011967\n",
      "2022-03-17 13:22:27.695871 finished: adding constant type m style parameters for file(s) ['freyberg6.wel_stress_period_data_9.txt'] took: 0:00:00.025931\n"
     ]
    },
    {
     "name": "stdout",
     "output_type": "stream",
     "text": [
      "2022-03-17 13:22:27.696868 starting: adding grid type m style parameters for file(s) ['freyberg6.wel_stress_period_data_9.txt']\n",
      "2022-03-17 13:22:27.696868 starting: loading list-style freyberg6_template\\freyberg6.wel_stress_period_data_9.txt\n",
      "2022-03-17 13:22:27.696868 starting: reading list-style file: freyberg6_template\\freyberg6.wel_stress_period_data_9.txt\n",
      "2022-03-17 13:22:27.698863 finished: reading list-style file: freyberg6_template\\freyberg6.wel_stress_period_data_9.txt took: 0:00:00.001995\n",
      "2022-03-17 13:22:27.698863 loaded list-style 'freyberg6_template\\freyberg6.wel_stress_period_data_9.txt' of shape (6, 4)\n",
      "2022-03-17 13:22:27.699861 finished: loading list-style freyberg6_template\\freyberg6.wel_stress_period_data_9.txt took: 0:00:00.002993\n",
      "2022-03-17 13:22:27.699861 starting: writing list-style template file 'freyberg6_template\\wel_grd_inst24_grid.csv.tpl'\n",
      "2022-03-17 13:22:27.713823 finished: writing list-style template file 'freyberg6_template\\wel_grd_inst24_grid.csv.tpl' took: 0:00:00.013962\n",
      "2022-03-17 13:22:27.721802 finished: adding grid type m style parameters for file(s) ['freyberg6.wel_stress_period_data_9.txt'] took: 0:00:00.024934\n"
     ]
    }
   ],
   "source": [
    "files = [f for f in os.listdir(template_ws) if \"wel_stress_period_data\" in f and f.endswith(\".txt\")]\n",
    "\n",
    "for f in files:\n",
    "    # get the stress period number from the file name\n",
    "    kper = int(f.split('.')[1].split('_')[-1]) - 1  \n",
    "    \n",
    "    # add the constant parameters (with temporal correlation)\n",
    "    pf.add_parameters(filenames=f,\n",
    "                        index_cols=[0,1,2], #columns that specify cell location\n",
    "                        use_cols=[3],       #columns with parameter values\n",
    "                        par_type=\"constant\",    #each well will be adjustable\n",
    "                        par_name_base=\"wel_cst\",\n",
    "                        pargp=\"wel_cst\", \n",
    "                        upper_bound = 1.5, lower_bound=0.5,\n",
    "                        datetime=dts[kper], # this places the parameter value on the \"time axis\"\n",
    "                        geostruct=temporal_gs)\n",
    "    \n",
    "    # add the grid parameters; each individual well\n",
    "    pf.add_parameters(filenames=f,\n",
    "                        index_cols=[0,1,2], #columns that specify cell location \n",
    "                        use_cols=[3],       #columns with parameter values\n",
    "                        par_type=\"grid\",    #each well will be adjustable\n",
    "                        par_name_base=\"wel_grd\",\n",
    "                        pargp=\"wel_grd\", \n",
    "                        upper_bound = 1.5, lower_bound=0.5,\n",
    "                        datetime=dts[kper]) # this places the parameter value on the \"time axis\"\n",
    "                     "
   ]
  },
  {
   "cell_type": "markdown",
   "metadata": {},
   "source": [
    "And finally, our favourite (not!) boundary-condition: SFR.\n",
    "\n",
    "Let's parameterize conductance (time-invariant) and inflow (time-variant)."
   ]
  },
  {
   "cell_type": "code",
   "execution_count": 32,
   "metadata": {
    "execution": {
     "iopub.execute_input": "2022-03-17T02:52:27.733770Z",
     "iopub.status.busy": "2022-03-17T02:52:27.732772Z",
     "iopub.status.idle": "2022-03-17T02:52:27.803092Z",
     "shell.execute_reply": "2022-03-17T02:52:27.803092Z"
    }
   },
   "outputs": [
    {
     "name": "stdout",
     "output_type": "stream",
     "text": [
      "['freyberg6.sfr_packagedata.txt']\n",
      "2022-03-17 13:22:27.733770 starting: adding grid type m style parameters for file(s) ['freyberg6.sfr_packagedata.txt']\n",
      "2022-03-17 13:22:27.734767 starting: loading list-style freyberg6_template\\freyberg6.sfr_packagedata.txt\n",
      "2022-03-17 13:22:27.734767 starting: reading list-style file: freyberg6_template\\freyberg6.sfr_packagedata.txt\n",
      "2022-03-17 13:22:27.737759 finished: reading list-style file: freyberg6_template\\freyberg6.sfr_packagedata.txt took: 0:00:00.002992\n",
      "2022-03-17 13:22:27.737759 loaded list-style 'freyberg6_template\\freyberg6.sfr_packagedata.txt' of shape (40, 15)\n",
      "2022-03-17 13:22:27.738756 finished: loading list-style freyberg6_template\\freyberg6.sfr_packagedata.txt took: 0:00:00.003989\n",
      "2022-03-17 13:22:27.739754 starting: writing list-style template file 'freyberg6_template\\sfrcond_gr_inst0_grid.csv.tpl'\n",
      "2022-03-17 13:22:27.744740 WARNING: get_xy() warning: position of i and j in index_cols not specified, assume (i,j) are final two entries in index_cols.\n",
      "2022-03-17 13:22:27.759700 finished: writing list-style template file 'freyberg6_template\\sfrcond_gr_inst0_grid.csv.tpl' took: 0:00:00.019946\n",
      "2022-03-17 13:22:27.764687 finished: adding grid type m style parameters for file(s) ['freyberg6.sfr_packagedata.txt'] took: 0:00:00.030917\n",
      "2022-03-17 13:22:27.765684 starting: adding constant type m style parameters for file(s) ['freyberg6.sfr_packagedata.txt']\n",
      "2022-03-17 13:22:27.765684 starting: loading list-style freyberg6_template\\freyberg6.sfr_packagedata.txt\n",
      "2022-03-17 13:22:27.765684 starting: reading list-style file: freyberg6_template\\freyberg6.sfr_packagedata.txt\n",
      "2022-03-17 13:22:27.768677 finished: reading list-style file: freyberg6_template\\freyberg6.sfr_packagedata.txt took: 0:00:00.002993\n"
     ]
    },
    {
     "name": "stdout",
     "output_type": "stream",
     "text": [
      "2022-03-17 13:22:27.768677 loaded list-style 'freyberg6_template\\freyberg6.sfr_packagedata.txt' of shape (40, 15)\n",
      "2022-03-17 13:22:27.769674 finished: loading list-style freyberg6_template\\freyberg6.sfr_packagedata.txt took: 0:00:00.003990\n",
      "2022-03-17 13:22:27.769674 starting: writing list-style template file 'freyberg6_template\\sfrcond_cn_inst0_constant.csv.tpl'\n",
      "2022-03-17 13:22:27.784143 finished: writing list-style template file 'freyberg6_template\\sfrcond_cn_inst0_constant.csv.tpl' took: 0:00:00.014469\n",
      "2022-03-17 13:22:27.789130 finished: adding constant type m style parameters for file(s) ['freyberg6.sfr_packagedata.txt'] took: 0:00:00.023446\n"
     ]
    },
    {
     "data": {
      "text/html": [
       "<div>\n",
       "<style scoped>\n",
       "    .dataframe tbody tr th:only-of-type {\n",
       "        vertical-align: middle;\n",
       "    }\n",
       "\n",
       "    .dataframe tbody tr th {\n",
       "        vertical-align: top;\n",
       "    }\n",
       "\n",
       "    .dataframe thead th {\n",
       "        text-align: right;\n",
       "    }\n",
       "</style>\n",
       "<table border=\"1\" class=\"dataframe\">\n",
       "  <thead>\n",
       "    <tr style=\"text-align: right;\">\n",
       "      <th></th>\n",
       "      <th>parnme</th>\n",
       "      <th>pargp</th>\n",
       "      <th>covgp</th>\n",
       "      <th>tpl_filename</th>\n",
       "      <th>input_filename</th>\n",
       "      <th>parval1</th>\n",
       "      <th>partype</th>\n",
       "      <th>partrans</th>\n",
       "      <th>parubnd</th>\n",
       "      <th>parlbnd</th>\n",
       "      <th>offset</th>\n",
       "      <th>dercom</th>\n",
       "      <th>parchglim</th>\n",
       "      <th>scale</th>\n",
       "    </tr>\n",
       "  </thead>\n",
       "  <tbody>\n",
       "    <tr>\n",
       "      <th>pname:sfrcond_cn_inst:0_ptype:cn_usecol:9_pstyle:m</th>\n",
       "      <td>pname:sfrcond_cn_inst:0_ptype:cn_usecol:9_pstyle:m</td>\n",
       "      <td>sfrcond_cn</td>\n",
       "      <td>sfrcond_cn</td>\n",
       "      <td>freyberg6_template\\sfrcond_cn_inst0_constant.csv.tpl</td>\n",
       "      <td>freyberg6_template\\mult\\sfrcond_cn_inst0_constant.csv</td>\n",
       "      <td>1.0</td>\n",
       "      <td>constant</td>\n",
       "      <td>log</td>\n",
       "      <td>10.0</td>\n",
       "      <td>0.1</td>\n",
       "      <td>0.0</td>\n",
       "      <td>1</td>\n",
       "      <td>factor</td>\n",
       "      <td>1.0</td>\n",
       "    </tr>\n",
       "  </tbody>\n",
       "</table>\n",
       "</div>"
      ],
      "text/plain": [
       "                                                                                                parnme  \\\n",
       "pname:sfrcond_cn_inst:0_ptype:cn_usecol:9_pstyle:m  pname:sfrcond_cn_inst:0_ptype:cn_usecol:9_pstyle:m   \n",
       "\n",
       "                                                         pargp       covgp  \\\n",
       "pname:sfrcond_cn_inst:0_ptype:cn_usecol:9_pstyle:m  sfrcond_cn  sfrcond_cn   \n",
       "\n",
       "                                                                                            tpl_filename  \\\n",
       "pname:sfrcond_cn_inst:0_ptype:cn_usecol:9_pstyle:m  freyberg6_template\\sfrcond_cn_inst0_constant.csv.tpl   \n",
       "\n",
       "                                                                                           input_filename  \\\n",
       "pname:sfrcond_cn_inst:0_ptype:cn_usecol:9_pstyle:m  freyberg6_template\\mult\\sfrcond_cn_inst0_constant.csv   \n",
       "\n",
       "                                                    parval1   partype  \\\n",
       "pname:sfrcond_cn_inst:0_ptype:cn_usecol:9_pstyle:m      1.0  constant   \n",
       "\n",
       "                                                   partrans  parubnd  parlbnd  \\\n",
       "pname:sfrcond_cn_inst:0_ptype:cn_usecol:9_pstyle:m      log     10.0      0.1   \n",
       "\n",
       "                                                    offset  dercom parchglim  \\\n",
       "pname:sfrcond_cn_inst:0_ptype:cn_usecol:9_pstyle:m     0.0       1    factor   \n",
       "\n",
       "                                                    scale  \n",
       "pname:sfrcond_cn_inst:0_ptype:cn_usecol:9_pstyle:m    1.0  "
      ]
     },
     "execution_count": 32,
     "metadata": {},
     "output_type": "execute_result"
    }
   ],
   "source": [
    "# SFR conductance\n",
    "tag = \"sfr_packagedata\"\n",
    "files = [f for f in os.listdir(template_ws) if tag in f.lower() and f.endswith(\".txt\")]\n",
    "assert len(files) == 1 # There can be only one! It is tradition. Jokes.\n",
    "print(files)\n",
    "f = files[0]\n",
    "# constant and grid scale multiplier conductance parameters\n",
    "name = \"sfrcond\"\n",
    "pf.add_parameters(f,\n",
    "                par_type=\"grid\",\n",
    "                geostruct=grid_gs,\n",
    "                par_name_base=name+\"_gr\",\n",
    "                pargp=name+\"_gr\",\n",
    "                index_cols=[0,2,3],\n",
    "                use_cols=[9],\n",
    "                lower_bound=0.1,upper_bound=10.0,\n",
    "                ult_lbound=0.01, ult_ubound=10) #absolute limits\n",
    "pf.add_parameters(f,\n",
    "                par_type=\"constant\",\n",
    "                geostruct=grid_gs,\n",
    "                par_name_base=name+\"_cn\",\n",
    "                pargp=name+\"_cn\",\n",
    "                index_cols=[0,2,3],\n",
    "                use_cols=[9],\n",
    "                lower_bound=0.1,upper_bound=10.0,\n",
    "                ult_lbound=0.01, ult_ubound=10) #absolute limits"
   ]
  },
  {
   "cell_type": "code",
   "execution_count": 33,
   "metadata": {
    "execution": {
     "iopub.execute_input": "2022-03-17T02:52:27.809076Z",
     "iopub.status.busy": "2022-03-17T02:52:27.809076Z",
     "iopub.status.idle": "2022-03-17T02:52:28.603750Z",
     "shell.execute_reply": "2022-03-17T02:52:28.603750Z"
    }
   },
   "outputs": [
    {
     "name": "stdout",
     "output_type": "stream",
     "text": [
      "2022-03-17 13:22:27.809076 starting: adding grid type m style parameters for file(s) ['freyberg6.sfr_perioddata_1.txt']\n",
      "2022-03-17 13:22:27.810074 starting: loading list-style freyberg6_template\\freyberg6.sfr_perioddata_1.txt\n",
      "2022-03-17 13:22:27.810074 starting: reading list-style file: freyberg6_template\\freyberg6.sfr_perioddata_1.txt\n",
      "2022-03-17 13:22:27.812068 finished: reading list-style file: freyberg6_template\\freyberg6.sfr_perioddata_1.txt took: 0:00:00.001994\n",
      "2022-03-17 13:22:27.813066 loaded list-style 'freyberg6_template\\freyberg6.sfr_perioddata_1.txt' of shape (1, 3)\n",
      "2022-03-17 13:22:27.814063 finished: loading list-style freyberg6_template\\freyberg6.sfr_perioddata_1.txt took: 0:00:00.003989\n",
      "2022-03-17 13:22:27.814063 starting: writing list-style template file 'freyberg6_template\\sfr_gr_inst0_grid.csv.tpl'\n",
      "2022-03-17 13:22:27.819049 WARNING: get_xy() warning: need locational information (e.g. i,j) to generate xy, insufficient index cols passed to interpret: (0,)\n",
      "2022-03-17 13:22:27.831018 finished: writing list-style template file 'freyberg6_template\\sfr_gr_inst0_grid.csv.tpl' took: 0:00:00.016955\n",
      "2022-03-17 13:22:27.840991 finished: adding grid type m style parameters for file(s) ['freyberg6.sfr_perioddata_1.txt'] took: 0:00:00.031915\n",
      "2022-03-17 13:22:27.840991 starting: adding grid type m style parameters for file(s) ['freyberg6.sfr_perioddata_10.txt']\n",
      "2022-03-17 13:22:27.840991 starting: loading list-style freyberg6_template\\freyberg6.sfr_perioddata_10.txt\n",
      "2022-03-17 13:22:27.841988 starting: reading list-style file: freyberg6_template\\freyberg6.sfr_perioddata_10.txt\n",
      "2022-03-17 13:22:27.843983 finished: reading list-style file: freyberg6_template\\freyberg6.sfr_perioddata_10.txt took: 0:00:00.001995\n",
      "2022-03-17 13:22:27.843983 loaded list-style 'freyberg6_template\\freyberg6.sfr_perioddata_10.txt' of shape (1, 3)\n",
      "2022-03-17 13:22:27.844980 finished: loading list-style freyberg6_template\\freyberg6.sfr_perioddata_10.txt took: 0:00:00.003989\n",
      "2022-03-17 13:22:27.844980 starting: writing list-style template file 'freyberg6_template\\sfr_gr_inst1_grid.csv.tpl'\n",
      "2022-03-17 13:22:27.849967 WARNING: get_xy() warning: need locational information (e.g. i,j) to generate xy, insufficient index cols passed to interpret: (0,)\n",
      "2022-03-17 13:22:27.861935 finished: writing list-style template file 'freyberg6_template\\sfr_gr_inst1_grid.csv.tpl' took: 0:00:00.016955\n",
      "2022-03-17 13:22:27.870911 finished: adding grid type m style parameters for file(s) ['freyberg6.sfr_perioddata_10.txt'] took: 0:00:00.029920\n",
      "2022-03-17 13:22:27.870911 starting: adding grid type m style parameters for file(s) ['freyberg6.sfr_perioddata_11.txt']\n",
      "2022-03-17 13:22:27.871908 starting: loading list-style freyberg6_template\\freyberg6.sfr_perioddata_11.txt\n",
      "2022-03-17 13:22:27.871908 starting: reading list-style file: freyberg6_template\\freyberg6.sfr_perioddata_11.txt\n",
      "2022-03-17 13:22:27.874901 finished: reading list-style file: freyberg6_template\\freyberg6.sfr_perioddata_11.txt took: 0:00:00.002993\n",
      "2022-03-17 13:22:27.874901 loaded list-style 'freyberg6_template\\freyberg6.sfr_perioddata_11.txt' of shape (1, 3)\n",
      "2022-03-17 13:22:27.875898 finished: loading list-style freyberg6_template\\freyberg6.sfr_perioddata_11.txt took: 0:00:00.003990\n",
      "2022-03-17 13:22:27.875898 starting: writing list-style template file 'freyberg6_template\\sfr_gr_inst2_grid.csv.tpl'\n",
      "2022-03-17 13:22:27.880884 WARNING: get_xy() warning: need locational information (e.g. i,j) to generate xy, insufficient index cols passed to interpret: (0,)\n"
     ]
    },
    {
     "name": "stdout",
     "output_type": "stream",
     "text": [
      "2022-03-17 13:22:27.893850 finished: writing list-style template file 'freyberg6_template\\sfr_gr_inst2_grid.csv.tpl' took: 0:00:00.017952\n",
      "2022-03-17 13:22:27.902826 finished: adding grid type m style parameters for file(s) ['freyberg6.sfr_perioddata_11.txt'] took: 0:00:00.031915\n",
      "2022-03-17 13:22:27.903823 starting: adding grid type m style parameters for file(s) ['freyberg6.sfr_perioddata_12.txt']\n",
      "2022-03-17 13:22:27.903823 starting: loading list-style freyberg6_template\\freyberg6.sfr_perioddata_12.txt\n",
      "2022-03-17 13:22:27.903823 starting: reading list-style file: freyberg6_template\\freyberg6.sfr_perioddata_12.txt\n",
      "2022-03-17 13:22:27.906928 finished: reading list-style file: freyberg6_template\\freyberg6.sfr_perioddata_12.txt took: 0:00:00.003105\n",
      "2022-03-17 13:22:27.906928 loaded list-style 'freyberg6_template\\freyberg6.sfr_perioddata_12.txt' of shape (1, 3)\n",
      "2022-03-17 13:22:27.908810 finished: loading list-style freyberg6_template\\freyberg6.sfr_perioddata_12.txt took: 0:00:00.004987\n"
     ]
    },
    {
     "name": "stdout",
     "output_type": "stream",
     "text": [
      "2022-03-17 13:22:27.908810 starting: writing list-style template file 'freyberg6_template\\sfr_gr_inst3_grid.csv.tpl'\n",
      "2022-03-17 13:22:27.913796 WARNING: get_xy() warning: need locational information (e.g. i,j) to generate xy, insufficient index cols passed to interpret: (0,)\n",
      "2022-03-17 13:22:27.926762 finished: writing list-style template file 'freyberg6_template\\sfr_gr_inst3_grid.csv.tpl' took: 0:00:00.017952\n",
      "2022-03-17 13:22:27.935738 finished: adding grid type m style parameters for file(s) ['freyberg6.sfr_perioddata_12.txt'] took: 0:00:00.031915\n",
      "2022-03-17 13:22:27.935738 starting: adding grid type m style parameters for file(s) ['freyberg6.sfr_perioddata_13.txt']\n",
      "2022-03-17 13:22:27.935738 starting: loading list-style freyberg6_template\\freyberg6.sfr_perioddata_13.txt\n",
      "2022-03-17 13:22:27.936735 starting: reading list-style file: freyberg6_template\\freyberg6.sfr_perioddata_13.txt\n",
      "2022-03-17 13:22:27.938729 finished: reading list-style file: freyberg6_template\\freyberg6.sfr_perioddata_13.txt took: 0:00:00.001994\n",
      "2022-03-17 13:22:27.939727 loaded list-style 'freyberg6_template\\freyberg6.sfr_perioddata_13.txt' of shape (1, 3)\n",
      "2022-03-17 13:22:27.940724 finished: loading list-style freyberg6_template\\freyberg6.sfr_perioddata_13.txt took: 0:00:00.004986\n",
      "2022-03-17 13:22:27.940724 starting: writing list-style template file 'freyberg6_template\\sfr_gr_inst4_grid.csv.tpl'\n",
      "2022-03-17 13:22:27.944715 WARNING: get_xy() warning: need locational information (e.g. i,j) to generate xy, insufficient index cols passed to interpret: (0,)\n",
      "2022-03-17 13:22:27.957680 finished: writing list-style template file 'freyberg6_template\\sfr_gr_inst4_grid.csv.tpl' took: 0:00:00.016956\n"
     ]
    },
    {
     "name": "stdout",
     "output_type": "stream",
     "text": [
      "2022-03-17 13:22:27.966689 finished: adding grid type m style parameters for file(s) ['freyberg6.sfr_perioddata_13.txt'] took: 0:00:00.030951\n",
      "2022-03-17 13:22:27.967688 starting: adding grid type m style parameters for file(s) ['freyberg6.sfr_perioddata_14.txt']\n",
      "2022-03-17 13:22:27.967688 starting: loading list-style freyberg6_template\\freyberg6.sfr_perioddata_14.txt\n",
      "2022-03-17 13:22:27.967688 starting: reading list-style file: freyberg6_template\\freyberg6.sfr_perioddata_14.txt\n",
      "2022-03-17 13:22:27.969682 finished: reading list-style file: freyberg6_template\\freyberg6.sfr_perioddata_14.txt took: 0:00:00.001994\n",
      "2022-03-17 13:22:27.970645 loaded list-style 'freyberg6_template\\freyberg6.sfr_perioddata_14.txt' of shape (1, 3)\n",
      "2022-03-17 13:22:27.971643 finished: loading list-style freyberg6_template\\freyberg6.sfr_perioddata_14.txt took: 0:00:00.003955\n",
      "2022-03-17 13:22:27.971643 starting: writing list-style template file 'freyberg6_template\\sfr_gr_inst5_grid.csv.tpl'\n",
      "2022-03-17 13:22:27.975632 WARNING: get_xy() warning: need locational information (e.g. i,j) to generate xy, insufficient index cols passed to interpret: (0,)\n",
      "2022-03-17 13:22:27.988066 finished: writing list-style template file 'freyberg6_template\\sfr_gr_inst5_grid.csv.tpl' took: 0:00:00.016423\n"
     ]
    },
    {
     "name": "stdout",
     "output_type": "stream",
     "text": [
      "2022-03-17 13:22:27.997042 finished: adding grid type m style parameters for file(s) ['freyberg6.sfr_perioddata_14.txt'] took: 0:00:00.029354\n",
      "2022-03-17 13:22:27.998039 starting: adding grid type m style parameters for file(s) ['freyberg6.sfr_perioddata_15.txt']\n",
      "2022-03-17 13:22:27.998039 starting: loading list-style freyberg6_template\\freyberg6.sfr_perioddata_15.txt\n",
      "2022-03-17 13:22:27.999037 starting: reading list-style file: freyberg6_template\\freyberg6.sfr_perioddata_15.txt\n",
      "2022-03-17 13:22:28.003026 finished: reading list-style file: freyberg6_template\\freyberg6.sfr_perioddata_15.txt took: 0:00:00.003989\n",
      "2022-03-17 13:22:28.004023 loaded list-style 'freyberg6_template\\freyberg6.sfr_perioddata_15.txt' of shape (1, 3)\n",
      "2022-03-17 13:22:28.005020 finished: loading list-style freyberg6_template\\freyberg6.sfr_perioddata_15.txt took: 0:00:00.006981\n",
      "2022-03-17 13:22:28.005020 starting: writing list-style template file 'freyberg6_template\\sfr_gr_inst6_grid.csv.tpl'\n",
      "2022-03-17 13:22:28.010007 WARNING: get_xy() warning: need locational information (e.g. i,j) to generate xy, insufficient index cols passed to interpret: (0,)\n",
      "2022-03-17 13:22:28.022973 finished: writing list-style template file 'freyberg6_template\\sfr_gr_inst6_grid.csv.tpl' took: 0:00:00.017953\n",
      "2022-03-17 13:22:28.031949 finished: adding grid type m style parameters for file(s) ['freyberg6.sfr_perioddata_15.txt'] took: 0:00:00.033910\n",
      "2022-03-17 13:22:28.032947 starting: adding grid type m style parameters for file(s) ['freyberg6.sfr_perioddata_16.txt']\n",
      "2022-03-17 13:22:28.032947 starting: loading list-style freyberg6_template\\freyberg6.sfr_perioddata_16.txt\n",
      "2022-03-17 13:22:28.032947 starting: reading list-style file: freyberg6_template\\freyberg6.sfr_perioddata_16.txt\n",
      "2022-03-17 13:22:28.034940 finished: reading list-style file: freyberg6_template\\freyberg6.sfr_perioddata_16.txt took: 0:00:00.001993\n",
      "2022-03-17 13:22:28.035938 loaded list-style 'freyberg6_template\\freyberg6.sfr_perioddata_16.txt' of shape (1, 3)\n",
      "2022-03-17 13:22:28.036935 finished: loading list-style freyberg6_template\\freyberg6.sfr_perioddata_16.txt took: 0:00:00.003988\n",
      "2022-03-17 13:22:28.036935 starting: writing list-style template file 'freyberg6_template\\sfr_gr_inst7_grid.csv.tpl'\n",
      "2022-03-17 13:22:28.041922 WARNING: get_xy() warning: need locational information (e.g. i,j) to generate xy, insufficient index cols passed to interpret: (0,)\n",
      "2022-03-17 13:22:28.054887 finished: writing list-style template file 'freyberg6_template\\sfr_gr_inst7_grid.csv.tpl' took: 0:00:00.017952\n",
      "2022-03-17 13:22:28.064861 finished: adding grid type m style parameters for file(s) ['freyberg6.sfr_perioddata_16.txt'] took: 0:00:00.031914\n",
      "2022-03-17 13:22:28.064861 starting: adding grid type m style parameters for file(s) ['freyberg6.sfr_perioddata_17.txt']\n",
      "2022-03-17 13:22:28.064861 starting: loading list-style freyberg6_template\\freyberg6.sfr_perioddata_17.txt\n",
      "2022-03-17 13:22:28.065858 starting: reading list-style file: freyberg6_template\\freyberg6.sfr_perioddata_17.txt\n",
      "2022-03-17 13:22:28.067853 finished: reading list-style file: freyberg6_template\\freyberg6.sfr_perioddata_17.txt took: 0:00:00.001995\n",
      "2022-03-17 13:22:28.067853 loaded list-style 'freyberg6_template\\freyberg6.sfr_perioddata_17.txt' of shape (1, 3)\n",
      "2022-03-17 13:22:28.068850 finished: loading list-style freyberg6_template\\freyberg6.sfr_perioddata_17.txt took: 0:00:00.003989\n",
      "2022-03-17 13:22:28.068850 starting: writing list-style template file 'freyberg6_template\\sfr_gr_inst8_grid.csv.tpl'\n",
      "2022-03-17 13:22:28.073836 WARNING: get_xy() warning: need locational information (e.g. i,j) to generate xy, insufficient index cols passed to interpret: (0,)\n",
      "2022-03-17 13:22:28.085805 finished: writing list-style template file 'freyberg6_template\\sfr_gr_inst8_grid.csv.tpl' took: 0:00:00.016955\n"
     ]
    },
    {
     "name": "stdout",
     "output_type": "stream",
     "text": [
      "2022-03-17 13:22:28.095778 finished: adding grid type m style parameters for file(s) ['freyberg6.sfr_perioddata_17.txt'] took: 0:00:00.030917\n",
      "2022-03-17 13:22:28.095778 starting: adding grid type m style parameters for file(s) ['freyberg6.sfr_perioddata_18.txt']\n",
      "2022-03-17 13:22:28.095778 starting: loading list-style freyberg6_template\\freyberg6.sfr_perioddata_18.txt\n"
     ]
    },
    {
     "name": "stdout",
     "output_type": "stream",
     "text": [
      "2022-03-17 13:22:28.096775 starting: reading list-style file: freyberg6_template\\freyberg6.sfr_perioddata_18.txt\n",
      "2022-03-17 13:22:28.098770 finished: reading list-style file: freyberg6_template\\freyberg6.sfr_perioddata_18.txt took: 0:00:00.001995\n",
      "2022-03-17 13:22:28.098770 loaded list-style 'freyberg6_template\\freyberg6.sfr_perioddata_18.txt' of shape (1, 3)\n",
      "2022-03-17 13:22:28.099767 finished: loading list-style freyberg6_template\\freyberg6.sfr_perioddata_18.txt took: 0:00:00.003989\n",
      "2022-03-17 13:22:28.100765 starting: writing list-style template file 'freyberg6_template\\sfr_gr_inst9_grid.csv.tpl'\n",
      "2022-03-17 13:22:28.104782 WARNING: get_xy() warning: need locational information (e.g. i,j) to generate xy, insufficient index cols passed to interpret: (0,)\n",
      "2022-03-17 13:22:28.116762 finished: writing list-style template file 'freyberg6_template\\sfr_gr_inst9_grid.csv.tpl' took: 0:00:00.015997\n",
      "2022-03-17 13:22:28.126735 finished: adding grid type m style parameters for file(s) ['freyberg6.sfr_perioddata_18.txt'] took: 0:00:00.030957\n",
      "2022-03-17 13:22:28.126735 starting: adding grid type m style parameters for file(s) ['freyberg6.sfr_perioddata_19.txt']\n",
      "2022-03-17 13:22:28.126735 starting: loading list-style freyberg6_template\\freyberg6.sfr_perioddata_19.txt\n",
      "2022-03-17 13:22:28.126735 starting: reading list-style file: freyberg6_template\\freyberg6.sfr_perioddata_19.txt\n",
      "2022-03-17 13:22:28.131826 finished: reading list-style file: freyberg6_template\\freyberg6.sfr_perioddata_19.txt took: 0:00:00.005091\n",
      "2022-03-17 13:22:28.131826 loaded list-style 'freyberg6_template\\freyberg6.sfr_perioddata_19.txt' of shape (1, 3)\n",
      "2022-03-17 13:22:28.132772 finished: loading list-style freyberg6_template\\freyberg6.sfr_perioddata_19.txt took: 0:00:00.006037\n",
      "2022-03-17 13:22:28.132772 starting: writing list-style template file 'freyberg6_template\\sfr_gr_inst10_grid.csv.tpl'\n",
      "2022-03-17 13:22:28.136762 WARNING: get_xy() warning: need locational information (e.g. i,j) to generate xy, insufficient index cols passed to interpret: (0,)\n",
      "2022-03-17 13:22:28.149740 finished: writing list-style template file 'freyberg6_template\\sfr_gr_inst10_grid.csv.tpl' took: 0:00:00.016968\n"
     ]
    },
    {
     "name": "stdout",
     "output_type": "stream",
     "text": [
      "2022-03-17 13:22:28.159714 finished: adding grid type m style parameters for file(s) ['freyberg6.sfr_perioddata_19.txt'] took: 0:00:00.032979\n",
      "2022-03-17 13:22:28.159714 starting: adding grid type m style parameters for file(s) ['freyberg6.sfr_perioddata_2.txt']\n",
      "2022-03-17 13:22:28.159714 starting: loading list-style freyberg6_template\\freyberg6.sfr_perioddata_2.txt\n",
      "2022-03-17 13:22:28.160711 starting: reading list-style file: freyberg6_template\\freyberg6.sfr_perioddata_2.txt\n",
      "2022-03-17 13:22:28.164728 finished: reading list-style file: freyberg6_template\\freyberg6.sfr_perioddata_2.txt took: 0:00:00.004017\n",
      "2022-03-17 13:22:28.165726 loaded list-style 'freyberg6_template\\freyberg6.sfr_perioddata_2.txt' of shape (1, 3)\n",
      "2022-03-17 13:22:28.166723 finished: loading list-style freyberg6_template\\freyberg6.sfr_perioddata_2.txt took: 0:00:00.007009\n",
      "2022-03-17 13:22:28.166723 starting: writing list-style template file 'freyberg6_template\\sfr_gr_inst11_grid.csv.tpl'\n",
      "2022-03-17 13:22:28.170712 WARNING: get_xy() warning: need locational information (e.g. i,j) to generate xy, insufficient index cols passed to interpret: (0,)\n"
     ]
    },
    {
     "name": "stdout",
     "output_type": "stream",
     "text": [
      "2022-03-17 13:22:28.183726 finished: writing list-style template file 'freyberg6_template\\sfr_gr_inst11_grid.csv.tpl' took: 0:00:00.017003\n",
      "2022-03-17 13:22:28.193720 finished: adding grid type m style parameters for file(s) ['freyberg6.sfr_perioddata_2.txt'] took: 0:00:00.034006\n",
      "2022-03-17 13:22:28.193720 starting: adding grid type m style parameters for file(s) ['freyberg6.sfr_perioddata_20.txt']\n",
      "2022-03-17 13:22:28.193720 starting: loading list-style freyberg6_template\\freyberg6.sfr_perioddata_20.txt\n",
      "2022-03-17 13:22:28.194717 starting: reading list-style file: freyberg6_template\\freyberg6.sfr_perioddata_20.txt\n",
      "2022-03-17 13:22:28.196713 finished: reading list-style file: freyberg6_template\\freyberg6.sfr_perioddata_20.txt took: 0:00:00.001996\n",
      "2022-03-17 13:22:28.196713 loaded list-style 'freyberg6_template\\freyberg6.sfr_perioddata_20.txt' of shape (1, 3)\n",
      "2022-03-17 13:22:28.197710 finished: loading list-style freyberg6_template\\freyberg6.sfr_perioddata_20.txt took: 0:00:00.003990\n",
      "2022-03-17 13:22:28.197710 starting: writing list-style template file 'freyberg6_template\\sfr_gr_inst12_grid.csv.tpl'\n",
      "2022-03-17 13:22:28.202709 WARNING: get_xy() warning: need locational information (e.g. i,j) to generate xy, insufficient index cols passed to interpret: (0,)\n",
      "2022-03-17 13:22:28.215675 finished: writing list-style template file 'freyberg6_template\\sfr_gr_inst12_grid.csv.tpl' took: 0:00:00.017965\n",
      "2022-03-17 13:22:28.224672 finished: adding grid type m style parameters for file(s) ['freyberg6.sfr_perioddata_20.txt'] took: 0:00:00.030952\n",
      "2022-03-17 13:22:28.225670 starting: adding grid type m style parameters for file(s) ['freyberg6.sfr_perioddata_21.txt']\n",
      "2022-03-17 13:22:28.225670 starting: loading list-style freyberg6_template\\freyberg6.sfr_perioddata_21.txt\n",
      "2022-03-17 13:22:28.225670 starting: reading list-style file: freyberg6_template\\freyberg6.sfr_perioddata_21.txt\n",
      "2022-03-17 13:22:28.228662 finished: reading list-style file: freyberg6_template\\freyberg6.sfr_perioddata_21.txt took: 0:00:00.002992\n",
      "2022-03-17 13:22:28.228662 loaded list-style 'freyberg6_template\\freyberg6.sfr_perioddata_21.txt' of shape (1, 3)\n",
      "2022-03-17 13:22:28.229659 finished: loading list-style freyberg6_template\\freyberg6.sfr_perioddata_21.txt took: 0:00:00.003989\n",
      "2022-03-17 13:22:28.229659 starting: writing list-style template file 'freyberg6_template\\sfr_gr_inst13_grid.csv.tpl'\n",
      "2022-03-17 13:22:28.234677 WARNING: get_xy() warning: need locational information (e.g. i,j) to generate xy, insufficient index cols passed to interpret: (0,)\n",
      "2022-03-17 13:22:28.247643 finished: writing list-style template file 'freyberg6_template\\sfr_gr_inst13_grid.csv.tpl' took: 0:00:00.017984\n",
      "2022-03-17 13:22:28.257651 finished: adding grid type m style parameters for file(s) ['freyberg6.sfr_perioddata_21.txt'] took: 0:00:00.031981\n",
      "2022-03-17 13:22:28.257651 starting: adding grid type m style parameters for file(s) ['freyberg6.sfr_perioddata_22.txt']\n",
      "2022-03-17 13:22:28.258649 starting: loading list-style freyberg6_template\\freyberg6.sfr_perioddata_22.txt\n",
      "2022-03-17 13:22:28.258649 starting: reading list-style file: freyberg6_template\\freyberg6.sfr_perioddata_22.txt\n",
      "2022-03-17 13:22:28.261147 finished: reading list-style file: freyberg6_template\\freyberg6.sfr_perioddata_22.txt took: 0:00:00.002498\n",
      "2022-03-17 13:22:28.261679 loaded list-style 'freyberg6_template\\freyberg6.sfr_perioddata_22.txt' of shape (1, 3)\n",
      "2022-03-17 13:22:28.262650 finished: loading list-style freyberg6_template\\freyberg6.sfr_perioddata_22.txt took: 0:00:00.004001\n",
      "2022-03-17 13:22:28.262650 starting: writing list-style template file 'freyberg6_template\\sfr_gr_inst14_grid.csv.tpl'\n",
      "2022-03-17 13:22:28.266640 WARNING: get_xy() warning: need locational information (e.g. i,j) to generate xy, insufficient index cols passed to interpret: (0,)\n"
     ]
    },
    {
     "name": "stdout",
     "output_type": "stream",
     "text": [
      "2022-03-17 13:22:28.280603 finished: writing list-style template file 'freyberg6_template\\sfr_gr_inst14_grid.csv.tpl' took: 0:00:00.017953\n",
      "2022-03-17 13:22:28.289640 finished: adding grid type m style parameters for file(s) ['freyberg6.sfr_perioddata_22.txt'] took: 0:00:00.031989\n",
      "2022-03-17 13:22:28.289640 starting: adding grid type m style parameters for file(s) ['freyberg6.sfr_perioddata_23.txt']\n",
      "2022-03-17 13:22:28.290637 starting: loading list-style freyberg6_template\\freyberg6.sfr_perioddata_23.txt\n"
     ]
    },
    {
     "name": "stdout",
     "output_type": "stream",
     "text": [
      "2022-03-17 13:22:28.291164 starting: reading list-style file: freyberg6_template\\freyberg6.sfr_perioddata_23.txt\n",
      "2022-03-17 13:22:28.292667 finished: reading list-style file: freyberg6_template\\freyberg6.sfr_perioddata_23.txt took: 0:00:00.001503\n",
      "2022-03-17 13:22:28.293665 loaded list-style 'freyberg6_template\\freyberg6.sfr_perioddata_23.txt' of shape (1, 3)\n",
      "2022-03-17 13:22:28.293665 finished: loading list-style freyberg6_template\\freyberg6.sfr_perioddata_23.txt took: 0:00:00.003028\n",
      "2022-03-17 13:22:28.294662 starting: writing list-style template file 'freyberg6_template\\sfr_gr_inst15_grid.csv.tpl'\n",
      "2022-03-17 13:22:28.298651 WARNING: get_xy() warning: need locational information (e.g. i,j) to generate xy, insufficient index cols passed to interpret: (0,)\n",
      "2022-03-17 13:22:28.311706 finished: writing list-style template file 'freyberg6_template\\sfr_gr_inst15_grid.csv.tpl' took: 0:00:00.017044\n",
      "2022-03-17 13:22:28.319672 finished: adding grid type m style parameters for file(s) ['freyberg6.sfr_perioddata_23.txt'] took: 0:00:00.030032\n",
      "2022-03-17 13:22:28.320670 starting: adding grid type m style parameters for file(s) ['freyberg6.sfr_perioddata_24.txt']\n",
      "2022-03-17 13:22:28.320670 starting: loading list-style freyberg6_template\\freyberg6.sfr_perioddata_24.txt\n",
      "2022-03-17 13:22:28.321173 starting: reading list-style file: freyberg6_template\\freyberg6.sfr_perioddata_24.txt\n",
      "2022-03-17 13:22:28.323673 finished: reading list-style file: freyberg6_template\\freyberg6.sfr_perioddata_24.txt took: 0:00:00.002500\n",
      "2022-03-17 13:22:28.323673 loaded list-style 'freyberg6_template\\freyberg6.sfr_perioddata_24.txt' of shape (1, 3)\n",
      "2022-03-17 13:22:28.324671 finished: loading list-style freyberg6_template\\freyberg6.sfr_perioddata_24.txt took: 0:00:00.004001\n",
      "2022-03-17 13:22:28.325668 starting: writing list-style template file 'freyberg6_template\\sfr_gr_inst16_grid.csv.tpl'\n",
      "2022-03-17 13:22:28.329657 WARNING: get_xy() warning: need locational information (e.g. i,j) to generate xy, insufficient index cols passed to interpret: (0,)\n",
      "2022-03-17 13:22:28.342643 finished: writing list-style template file 'freyberg6_template\\sfr_gr_inst16_grid.csv.tpl' took: 0:00:00.016975\n",
      "2022-03-17 13:22:28.351692 finished: adding grid type m style parameters for file(s) ['freyberg6.sfr_perioddata_24.txt'] took: 0:00:00.031022\n"
     ]
    },
    {
     "name": "stdout",
     "output_type": "stream",
     "text": [
      "2022-03-17 13:22:28.351733 starting: adding grid type m style parameters for file(s) ['freyberg6.sfr_perioddata_25.txt']\n",
      "2022-03-17 13:22:28.351733 starting: loading list-style freyberg6_template\\freyberg6.sfr_perioddata_25.txt\n",
      "2022-03-17 13:22:28.352692 starting: reading list-style file: freyberg6_template\\freyberg6.sfr_perioddata_25.txt\n",
      "2022-03-17 13:22:28.354686 finished: reading list-style file: freyberg6_template\\freyberg6.sfr_perioddata_25.txt took: 0:00:00.001994\n",
      "2022-03-17 13:22:28.354686 loaded list-style 'freyberg6_template\\freyberg6.sfr_perioddata_25.txt' of shape (1, 3)\n",
      "2022-03-17 13:22:28.355684 finished: loading list-style freyberg6_template\\freyberg6.sfr_perioddata_25.txt took: 0:00:00.003951\n",
      "2022-03-17 13:22:28.356890 starting: writing list-style template file 'freyberg6_template\\sfr_gr_inst17_grid.csv.tpl'\n",
      "2022-03-17 13:22:28.360670 WARNING: get_xy() warning: need locational information (e.g. i,j) to generate xy, insufficient index cols passed to interpret: (0,)\n"
     ]
    },
    {
     "name": "stdout",
     "output_type": "stream",
     "text": [
      "2022-03-17 13:22:28.374686 finished: writing list-style template file 'freyberg6_template\\sfr_gr_inst17_grid.csv.tpl' took: 0:00:00.017796\n",
      "2022-03-17 13:22:28.383708 finished: adding grid type m style parameters for file(s) ['freyberg6.sfr_perioddata_25.txt'] took: 0:00:00.031975\n",
      "2022-03-17 13:22:28.383708 starting: adding grid type m style parameters for file(s) ['freyberg6.sfr_perioddata_3.txt']\n",
      "2022-03-17 13:22:28.384705 starting: loading list-style freyberg6_template\\freyberg6.sfr_perioddata_3.txt\n",
      "2022-03-17 13:22:28.384705 starting: reading list-style file: freyberg6_template\\freyberg6.sfr_perioddata_3.txt\n",
      "2022-03-17 13:22:28.386700 finished: reading list-style file: freyberg6_template\\freyberg6.sfr_perioddata_3.txt took: 0:00:00.001995\n",
      "2022-03-17 13:22:28.386700 loaded list-style 'freyberg6_template\\freyberg6.sfr_perioddata_3.txt' of shape (1, 3)\n",
      "2022-03-17 13:22:28.387697 finished: loading list-style freyberg6_template\\freyberg6.sfr_perioddata_3.txt took: 0:00:00.002992\n",
      "2022-03-17 13:22:28.387697 starting: writing list-style template file 'freyberg6_template\\sfr_gr_inst18_grid.csv.tpl'\n",
      "2022-03-17 13:22:28.392684 WARNING: get_xy() warning: need locational information (e.g. i,j) to generate xy, insufficient index cols passed to interpret: (0,)\n",
      "2022-03-17 13:22:28.404706 finished: writing list-style template file 'freyberg6_template\\sfr_gr_inst18_grid.csv.tpl' took: 0:00:00.017009\n",
      "2022-03-17 13:22:28.413708 finished: adding grid type m style parameters for file(s) ['freyberg6.sfr_perioddata_3.txt'] took: 0:00:00.030000\n",
      "2022-03-17 13:22:28.413708 starting: adding grid type m style parameters for file(s) ['freyberg6.sfr_perioddata_4.txt']\n",
      "2022-03-17 13:22:28.413708 starting: loading list-style freyberg6_template\\freyberg6.sfr_perioddata_4.txt\n",
      "2022-03-17 13:22:28.414705 starting: reading list-style file: freyberg6_template\\freyberg6.sfr_perioddata_4.txt\n",
      "2022-03-17 13:22:28.416700 finished: reading list-style file: freyberg6_template\\freyberg6.sfr_perioddata_4.txt took: 0:00:00.001995\n",
      "2022-03-17 13:22:28.416700 loaded list-style 'freyberg6_template\\freyberg6.sfr_perioddata_4.txt' of shape (1, 3)\n",
      "2022-03-17 13:22:28.417698 finished: loading list-style freyberg6_template\\freyberg6.sfr_perioddata_4.txt took: 0:00:00.003990\n",
      "2022-03-17 13:22:28.417698 starting: writing list-style template file 'freyberg6_template\\sfr_gr_inst19_grid.csv.tpl'\n",
      "2022-03-17 13:22:28.421687 WARNING: get_xy() warning: need locational information (e.g. i,j) to generate xy, insufficient index cols passed to interpret: (0,)\n",
      "2022-03-17 13:22:28.435677 finished: writing list-style template file 'freyberg6_template\\sfr_gr_inst19_grid.csv.tpl' took: 0:00:00.017979\n",
      "2022-03-17 13:22:28.445662 finished: adding grid type m style parameters for file(s) ['freyberg6.sfr_perioddata_4.txt'] took: 0:00:00.031954\n",
      "2022-03-17 13:22:28.445662 starting: adding grid type m style parameters for file(s) ['freyberg6.sfr_perioddata_5.txt']\n",
      "2022-03-17 13:22:28.446659 starting: loading list-style freyberg6_template\\freyberg6.sfr_perioddata_5.txt\n",
      "2022-03-17 13:22:28.446659 starting: reading list-style file: freyberg6_template\\freyberg6.sfr_perioddata_5.txt\n",
      "2022-03-17 13:22:28.448654 finished: reading list-style file: freyberg6_template\\freyberg6.sfr_perioddata_5.txt took: 0:00:00.001995\n",
      "2022-03-17 13:22:28.448654 loaded list-style 'freyberg6_template\\freyberg6.sfr_perioddata_5.txt' of shape (1, 3)\n",
      "2022-03-17 13:22:28.450649 finished: loading list-style freyberg6_template\\freyberg6.sfr_perioddata_5.txt took: 0:00:00.003990\n",
      "2022-03-17 13:22:28.450649 starting: writing list-style template file 'freyberg6_template\\sfr_gr_inst20_grid.csv.tpl'\n",
      "2022-03-17 13:22:28.454638 WARNING: get_xy() warning: need locational information (e.g. i,j) to generate xy, insufficient index cols passed to interpret: (0,)\n"
     ]
    },
    {
     "name": "stdout",
     "output_type": "stream",
     "text": [
      "2022-03-17 13:22:28.468110 finished: writing list-style template file 'freyberg6_template\\sfr_gr_inst20_grid.csv.tpl' took: 0:00:00.017461\n",
      "2022-03-17 13:22:28.477089 finished: adding grid type m style parameters for file(s) ['freyberg6.sfr_perioddata_5.txt'] took: 0:00:00.031427\n"
     ]
    },
    {
     "name": "stdout",
     "output_type": "stream",
     "text": [
      "2022-03-17 13:22:28.478087 starting: adding grid type m style parameters for file(s) ['freyberg6.sfr_perioddata_6.txt']\n",
      "2022-03-17 13:22:28.478087 starting: loading list-style freyberg6_template\\freyberg6.sfr_perioddata_6.txt\n",
      "2022-03-17 13:22:28.478087 starting: reading list-style file: freyberg6_template\\freyberg6.sfr_perioddata_6.txt\n",
      "2022-03-17 13:22:28.480083 finished: reading list-style file: freyberg6_template\\freyberg6.sfr_perioddata_6.txt took: 0:00:00.001996\n",
      "2022-03-17 13:22:28.481080 loaded list-style 'freyberg6_template\\freyberg6.sfr_perioddata_6.txt' of shape (1, 3)\n",
      "2022-03-17 13:22:28.482077 finished: loading list-style freyberg6_template\\freyberg6.sfr_perioddata_6.txt took: 0:00:00.003990\n",
      "2022-03-17 13:22:28.482077 starting: writing list-style template file 'freyberg6_template\\sfr_gr_inst21_grid.csv.tpl'\n",
      "2022-03-17 13:22:28.486065 WARNING: get_xy() warning: need locational information (e.g. i,j) to generate xy, insufficient index cols passed to interpret: (0,)\n",
      "2022-03-17 13:22:28.499030 finished: writing list-style template file 'freyberg6_template\\sfr_gr_inst21_grid.csv.tpl' took: 0:00:00.016953\n",
      "2022-03-17 13:22:28.509003 finished: adding grid type m style parameters for file(s) ['freyberg6.sfr_perioddata_6.txt'] took: 0:00:00.030916\n",
      "2022-03-17 13:22:28.509003 starting: adding grid type m style parameters for file(s) ['freyberg6.sfr_perioddata_7.txt']\n",
      "2022-03-17 13:22:28.509003 starting: loading list-style freyberg6_template\\freyberg6.sfr_perioddata_7.txt\n",
      "2022-03-17 13:22:28.510002 starting: reading list-style file: freyberg6_template\\freyberg6.sfr_perioddata_7.txt\n",
      "2022-03-17 13:22:28.511996 finished: reading list-style file: freyberg6_template\\freyberg6.sfr_perioddata_7.txt took: 0:00:00.001994\n",
      "2022-03-17 13:22:28.511996 loaded list-style 'freyberg6_template\\freyberg6.sfr_perioddata_7.txt' of shape (1, 3)\n",
      "2022-03-17 13:22:28.513991 finished: loading list-style freyberg6_template\\freyberg6.sfr_perioddata_7.txt took: 0:00:00.004988\n",
      "2022-03-17 13:22:28.513991 starting: writing list-style template file 'freyberg6_template\\sfr_gr_inst22_grid.csv.tpl'\n",
      "2022-03-17 13:22:28.518977 WARNING: get_xy() warning: need locational information (e.g. i,j) to generate xy, insufficient index cols passed to interpret: (0,)\n",
      "2022-03-17 13:22:28.530945 finished: writing list-style template file 'freyberg6_template\\sfr_gr_inst22_grid.csv.tpl' took: 0:00:00.016954\n"
     ]
    },
    {
     "name": "stdout",
     "output_type": "stream",
     "text": [
      "2022-03-17 13:22:28.540219 finished: adding grid type m style parameters for file(s) ['freyberg6.sfr_perioddata_7.txt'] took: 0:00:00.031216\n",
      "2022-03-17 13:22:28.540918 starting: adding grid type m style parameters for file(s) ['freyberg6.sfr_perioddata_8.txt']\n",
      "2022-03-17 13:22:28.540918 starting: loading list-style freyberg6_template\\freyberg6.sfr_perioddata_8.txt\n",
      "2022-03-17 13:22:28.540918 starting: reading list-style file: freyberg6_template\\freyberg6.sfr_perioddata_8.txt\n",
      "2022-03-17 13:22:28.542913 finished: reading list-style file: freyberg6_template\\freyberg6.sfr_perioddata_8.txt took: 0:00:00.001995\n",
      "2022-03-17 13:22:28.543910 loaded list-style 'freyberg6_template\\freyberg6.sfr_perioddata_8.txt' of shape (1, 3)\n",
      "2022-03-17 13:22:28.544908 finished: loading list-style freyberg6_template\\freyberg6.sfr_perioddata_8.txt took: 0:00:00.003990\n",
      "2022-03-17 13:22:28.544908 starting: writing list-style template file 'freyberg6_template\\sfr_gr_inst23_grid.csv.tpl'\n",
      "2022-03-17 13:22:28.548896 WARNING: get_xy() warning: need locational information (e.g. i,j) to generate xy, insufficient index cols passed to interpret: (0,)\n",
      "2022-03-17 13:22:28.561862 finished: writing list-style template file 'freyberg6_template\\sfr_gr_inst23_grid.csv.tpl' took: 0:00:00.016954\n",
      "2022-03-17 13:22:28.569841 finished: adding grid type m style parameters for file(s) ['freyberg6.sfr_perioddata_8.txt'] took: 0:00:00.028923\n"
     ]
    },
    {
     "name": "stdout",
     "output_type": "stream",
     "text": [
      "2022-03-17 13:22:28.569841 starting: adding grid type m style parameters for file(s) ['freyberg6.sfr_perioddata_9.txt']\n",
      "2022-03-17 13:22:28.570838 starting: loading list-style freyberg6_template\\freyberg6.sfr_perioddata_9.txt\n",
      "2022-03-17 13:22:28.570838 starting: reading list-style file: freyberg6_template\\freyberg6.sfr_perioddata_9.txt\n",
      "2022-03-17 13:22:28.573830 finished: reading list-style file: freyberg6_template\\freyberg6.sfr_perioddata_9.txt took: 0:00:00.002992\n",
      "2022-03-17 13:22:28.573830 loaded list-style 'freyberg6_template\\freyberg6.sfr_perioddata_9.txt' of shape (1, 3)\n",
      "2022-03-17 13:22:28.574827 finished: loading list-style freyberg6_template\\freyberg6.sfr_perioddata_9.txt took: 0:00:00.003989\n",
      "2022-03-17 13:22:28.574827 starting: writing list-style template file 'freyberg6_template\\sfr_gr_inst24_grid.csv.tpl'\n",
      "2022-03-17 13:22:28.579814 WARNING: get_xy() warning: need locational information (e.g. i,j) to generate xy, insufficient index cols passed to interpret: (0,)\n",
      "2022-03-17 13:22:28.591782 finished: writing list-style template file 'freyberg6_template\\sfr_gr_inst24_grid.csv.tpl' took: 0:00:00.016955\n",
      "2022-03-17 13:22:28.599761 finished: adding grid type m style parameters for file(s) ['freyberg6.sfr_perioddata_9.txt'] took: 0:00:00.029920\n"
     ]
    }
   ],
   "source": [
    "# SFR inflow\n",
    "files = [f for f in os.listdir(template_ws) if \"sfr_perioddata\" in f and f.endswith(\".txt\")]\n",
    "for f in files:\n",
    "    # get the stress period number from the file name\n",
    "    kper = int(f.split('.')[1].split('_')[-1]) - 1  \n",
    "    # add the parameters\n",
    "    pf.add_parameters(filenames=f,\n",
    "                        index_cols=[0], #reach number\n",
    "                        use_cols=[2],   #columns with parameter values\n",
    "                        par_type=\"grid\",    \n",
    "                        par_name_base=\"sfr_gr\",\n",
    "                        pargp=\"sfr_gr\", \n",
    "                        upper_bound = 1.5, lower_bound=0.5, #don't need ult_bounds because it is a single multiplier\n",
    "                        datetime=dts[kper], # this places the parameter value on the \"time axis\"\n",
    "                        geostruct=temporal_gs)"
   ]
  },
  {
   "cell_type": "markdown",
   "metadata": {},
   "source": [
    "### 6. The Forward Run Script\n",
    "\n",
    "OK! So, we almost have all the base building blocks for a PEST(++) dataset. We have some (1) observations and some (2) parameters. We are still missing (3) the \"forward run\" script. Recall that in the PEST world, the \"model\" is not just the numerical model (e.g. MODFLOW). Instead it is a composite of the numerical model (or models) and pre- and post-processing steps, encapsulated in a \"forward run\" script which can be called from the command line. This command line instruction is what PEST(++) sees as \"the model\". During execution, PEST(++) writes values to parameter files, runs \"the model\", and then reads values from the observation files.\n",
    "\n",
    "`PstFrom` automates the generation of such a script when constructing the PEST control file. The script is written to file named `forward_run.py`. It is written in Python (this is not a PEST(++) requirement, merely a convenience...we are working in Python after all...). \n",
    "\n",
    "How about we see that in action? Magic time! Let's create the PEST control file.\n",
    "\n",
    "#### 6.1. Build Pst\n",
    "\n",
    "The `PstFrom.build_pst()` method builds a control file from the `PstFrom` object. It will write a PEST control file to the template folder. It will also write the `forward_run.py` script. It returns a pyEMU `Pst` object with all the information of the PEST control file. You can subsequently edit this `Pst` object. However, (***IMPORTANT***) any subsequent changes to the `Pst` object are not reflected in the `PstFrom` object, or viceversa. If you subsequently use `PstFrom` to add more observation or parameter files, you will need to re-build the `Pst` object. When you do so, all edits to the `Pst` object will be lost. Keep this in mind when designing your workflow.\n",
    "\n",
    "\n",
    "Here we go!\n",
    "\n",
    "(Note: in a normal workflow, we probably wouldn't do this yet. We are doing so now for demonstration purposes.)"
   ]
  },
  {
   "cell_type": "code",
   "execution_count": 34,
   "metadata": {
    "execution": {
     "iopub.execute_input": "2022-03-17T02:52:28.613723Z",
     "iopub.status.busy": "2022-03-17T02:52:28.613723Z",
     "iopub.status.idle": "2022-03-17T02:52:30.611470Z",
     "shell.execute_reply": "2022-03-17T02:52:30.610473Z"
    }
   },
   "outputs": [
    {
     "name": "stdout",
     "output_type": "stream",
     "text": [
      "noptmax:0, npar_adj:25454, nnz_obs:725\n"
     ]
    }
   ],
   "source": [
    "pst = pf.build_pst()"
   ]
  },
  {
   "cell_type": "markdown",
   "metadata": {},
   "source": [
    "Boom! Done. (Well almost.) Check the folder. You should see a new .pst file and the `forward_run.py` file. By default, the .pst file is named after the original model folder name. "
   ]
  },
  {
   "cell_type": "code",
   "execution_count": 35,
   "metadata": {
    "execution": {
     "iopub.execute_input": "2022-03-17T02:52:30.614462Z",
     "iopub.status.busy": "2022-03-17T02:52:30.614462Z",
     "iopub.status.idle": "2022-03-17T02:52:30.620447Z",
     "shell.execute_reply": "2022-03-17T02:52:30.619449Z"
    }
   },
   "outputs": [
    {
     "data": {
      "text/plain": [
       "['forward_run.py', 'freyberg_mf6.pst']"
      ]
     },
     "execution_count": 35,
     "metadata": {},
     "output_type": "execute_result"
    }
   ],
   "source": [
    "[f for f in os.listdir(template_ws) if f.endswith(\".py\") or f.endswith(\".pst\") ]"
   ]
  },
  {
   "cell_type": "markdown",
   "metadata": {},
   "source": [
    "We will get to the `pst` object later on (see also the \"intro to pyemu\" tutorial notebook). For now, let's focus on the `forward_run.py` script. It is printed out below.\n",
    "\n",
    "This script does a bunch of things:\n",
    " - it loads necessary dependecies\n",
    " - it removes model output files to avoid the possibility of files from a previous model run being read by mistake;\n",
    " - it runs pre-processing steps (see `pyemu.helpers.apply_list_and_array_pars()`;\n",
    " - it executes system commands (usually running the simulator, i.e. MODFLOW). (*This is still missing. We will demonstrate next.*)\n",
    " - it executes post-processing steps; (*for now there aren't any*)\n",
    " - ...it washes the dishes (sorry, no it doesn't...this feature is still in development)."
   ]
  },
  {
   "cell_type": "code",
   "execution_count": 36,
   "metadata": {
    "execution": {
     "iopub.execute_input": "2022-03-17T02:52:30.623438Z",
     "iopub.status.busy": "2022-03-17T02:52:30.623438Z",
     "iopub.status.idle": "2022-03-17T02:52:30.636404Z",
     "shell.execute_reply": "2022-03-17T02:52:30.636404Z"
    }
   },
   "outputs": [
    {
     "name": "stdout",
     "output_type": "stream",
     "text": [
      "import os\n",
      "import multiprocessing as mp\n",
      "import numpy as np\n",
      "import pandas as pd\n",
      "import pyemu\n",
      "def main():\n",
      "\n",
      "    try:\n",
      "       os.remove(r'heads.csv')\n",
      "    except Exception as e:\n",
      "       print(r'error removing tmp file:heads.csv')\n",
      "    try:\n",
      "       os.remove(r'sfr.csv')\n",
      "    except Exception as e:\n",
      "       print(r'error removing tmp file:sfr.csv')\n",
      "    pyemu.helpers.apply_list_and_array_pars(arr_par_file='mult2model_info.csv',chunk_len=50)\n",
      "\n",
      "if __name__ == '__main__':\n",
      "    mp.freeze_support()\n",
      "    main()\n",
      "\n"
     ]
    }
   ],
   "source": [
    "_ = [print(line.rstrip()) for line in open(os.path.join(template_ws,\"forward_run.py\"))]"
   ]
  },
  {
   "cell_type": "markdown",
   "metadata": {},
   "source": [
    "That's pretty amazing. But as we just saw, we still need to add commands to actualy run the model.\n",
    "\n",
    "`PstFrom` allows you to pass a list of system commands which will be executed in sequence. It also has methods for including Python functions that run before or after the system commands. These make pre-/post-processing a piece of cake. In fact, we have already started to add to it. Remember all of the multiplier and additive parameters we setup? These all require pre-processing steps to convert the PEST-generated multipliers into model input values. `PstFrom` will automatically add these functions to the `forward_run.py` script. Nifty, hey?\n",
    "\n",
    "Next we will demonstrate how to specify the system commands and add Python functions as processing steps.\n",
    "\n",
    "#### 6.2. Sys Commands\n",
    "\n",
    "Let's start by adding a command line instruction. These are stored as a list in `PstFrom.mod_sys_cmds`, which is currently empty. "
   ]
  },
  {
   "cell_type": "code",
   "execution_count": 37,
   "metadata": {
    "execution": {
     "iopub.execute_input": "2022-03-17T02:52:30.640393Z",
     "iopub.status.busy": "2022-03-17T02:52:30.640393Z",
     "iopub.status.idle": "2022-03-17T02:52:30.643385Z",
     "shell.execute_reply": "2022-03-17T02:52:30.643385Z"
    }
   },
   "outputs": [
    {
     "data": {
      "text/plain": [
       "[]"
      ]
     },
     "execution_count": 37,
     "metadata": {},
     "output_type": "execute_result"
    }
   ],
   "source": [
    "pf.mod_sys_cmds "
   ]
  },
  {
   "cell_type": "markdown",
   "metadata": {},
   "source": [
    "To run a MODFLOW6 model from the command line, you can simply execute `mf6` in the model folder. So, we can add this command by appending it to the list. (Do this only once! Every time you append 'mf6' results in an additional call to MODFLOW6, meaning the model would be run multiple times.)\n",
    "\n",
    "`PstFrom` will add a line to `forward_run.py` w"
   ]
  },
  {
   "cell_type": "code",
   "execution_count": 38,
   "metadata": {
    "execution": {
     "iopub.execute_input": "2022-03-17T02:52:30.647375Z",
     "iopub.status.busy": "2022-03-17T02:52:30.646377Z",
     "iopub.status.idle": "2022-03-17T02:52:30.650366Z",
     "shell.execute_reply": "2022-03-17T02:52:30.650366Z"
    }
   },
   "outputs": [
    {
     "data": {
      "text/plain": [
       "['mf6']"
      ]
     },
     "execution_count": 38,
     "metadata": {},
     "output_type": "execute_result"
    }
   ],
   "source": [
    "pf.mod_sys_cmds.append(\"mf6\") #do this only once\n",
    "pf.mod_sys_cmds"
   ]
  },
  {
   "cell_type": "markdown",
   "metadata": {},
   "source": [
    "OK, now let's re-build the Pst control file and check out the changes ot the `forward_run.py` script.\n",
    "\n",
    "You should see that `pyemu.os_utils.run(r'mf6')` has been added after the pre-processing functions."
   ]
  },
  {
   "cell_type": "code",
   "execution_count": 39,
   "metadata": {
    "execution": {
     "iopub.execute_input": "2022-03-17T02:52:30.660340Z",
     "iopub.status.busy": "2022-03-17T02:52:30.654356Z",
     "iopub.status.idle": "2022-03-17T02:52:32.542285Z",
     "shell.execute_reply": "2022-03-17T02:52:32.542285Z"
    }
   },
   "outputs": [
    {
     "name": "stdout",
     "output_type": "stream",
     "text": [
      "noptmax:0, npar_adj:25454, nnz_obs:725\n"
     ]
    },
    {
     "name": "stdout",
     "output_type": "stream",
     "text": [
      "2022-03-17 13:22:32.264771 forward_run line:pyemu.os_utils.run(r'mf6')\n",
      "\n"
     ]
    },
    {
     "name": "stdout",
     "output_type": "stream",
     "text": [
      "import os\n",
      "import multiprocessing as mp\n",
      "import numpy as np\n",
      "import pandas as pd\n",
      "import pyemu\n",
      "def main():\n",
      "\n",
      "    try:\n",
      "       os.remove(r'heads.csv')\n",
      "    except Exception as e:\n",
      "       print(r'error removing tmp file:heads.csv')\n",
      "    try:\n",
      "       os.remove(r'sfr.csv')\n",
      "    except Exception as e:\n",
      "       print(r'error removing tmp file:sfr.csv')\n",
      "    pyemu.helpers.apply_list_and_array_pars(arr_par_file='mult2model_info.csv',chunk_len=50)\n",
      "    pyemu.os_utils.run(r'mf6')\n",
      "\n",
      "\n",
      "if __name__ == '__main__':\n",
      "    mp.freeze_support()\n",
      "    main()\n",
      "\n"
     ]
    }
   ],
   "source": [
    "pst = pf.build_pst()\n",
    "\n",
    "_ = [print(line.rstrip()) for line in open(os.path.join(template_ws,\"forward_run.py\"))]"
   ]
  },
  {
   "cell_type": "markdown",
   "metadata": {},
   "source": [
    "#### 6.3. Extra pre- and post-processing functions\n",
    "\n",
    "You will also certainly need to include some additional processing steps.  These are supported thru the `PstFrom.pre_py_cmds` and `PstFrom.post_py_cmds`, which are lists for pre and post model run python commands and `PstFrom.pre_sys_cmds` and `PstFrom.post_sys_cmds`, which are lists for pre and post model run system commands (these are wrapped in `pyemu.os_utils.run()`.  \n",
    "\n",
    "But what if your additional steps are actually an entire python function? Well, we got that too! `PstFrom.add_py_function()`. This method allows you to get functions from another (pre-prepared) python source file and add them to the `forward_run.py` script. We will deonstrate this to post-process secondary model observations after each run.\n",
    "\n",
    "#### 6.3.1. Secondary Observations\n",
    "\n",
    "Often it is usefull to include \"secondary model outcomes\" as observations. These can be important components in a history-matching dataset to tease out specific aspects of system behaviour (e.g. head differences between aquifer layers to inform vertical permeabilities). Or they may be simple summaries of modelled outputs which are of interest for a prediction (e.g. minimum simulated head over a given period).\n",
    "\n",
    "If you inspect the tutorial folder you will find a file named `helpers.py`. This is a python source file which we have prepared for you. (Open it to see how it is organized.) It contains a function named `process_secondary_obs()`. This function reads the model output .csv files, processes them and writes a series of new observation .csv files. These new files contain (1) the temporal-differences between head and SFR observations, and (2) the difference in heads between the top and bottom layers at each observation point. The new .csv files are named `heads.tdiff.csv`,`sfr.tdiff.csv` and `heads.vdiff.csv` respectively.\n",
    "\n",
    "First, lets load the function here and run it so you can see what happens. (And to make sure that the observation files are in the template folder!) \n",
    "\n",
    "Run the next cell, then inspect the template folder. You should see three new csv files. These are the new secondary observations calculated by the post-processing function."
   ]
  },
  {
   "cell_type": "code",
   "execution_count": 40,
   "metadata": {
    "execution": {
     "iopub.execute_input": "2022-03-17T02:52:32.545279Z",
     "iopub.status.busy": "2022-03-17T02:52:32.545279Z",
     "iopub.status.idle": "2022-03-17T02:52:32.561234Z",
     "shell.execute_reply": "2022-03-17T02:52:32.561234Z"
    }
   },
   "outputs": [
    {
     "name": "stdout",
     "output_type": "stream",
     "text": [
      "Secondary observation files processed.\n"
     ]
    }
   ],
   "source": [
    "from helpers import  process_secondary_obs\n",
    "\n",
    "process_secondary_obs(ws=template_ws)"
   ]
  },
  {
   "cell_type": "code",
   "execution_count": 41,
   "metadata": {
    "execution": {
     "iopub.execute_input": "2022-03-17T02:52:32.565258Z",
     "iopub.status.busy": "2022-03-17T02:52:32.564229Z",
     "iopub.status.idle": "2022-03-17T02:52:32.570214Z",
     "shell.execute_reply": "2022-03-17T02:52:32.570214Z"
    }
   },
   "outputs": [
    {
     "data": {
      "text/plain": [
       "['heads.csv',\n",
       " 'heads.tdiff.csv',\n",
       " 'heads.vdiff.csv',\n",
       " 'mult2model_info.csv',\n",
       " 'sfr.csv',\n",
       " 'sfr.tdiff.csv']"
      ]
     },
     "execution_count": 41,
     "metadata": {},
     "output_type": "execute_result"
    }
   ],
   "source": [
    "[f for f in os.listdir(template_ws) if f.endswith(\".csv\")]"
   ]
  },
  {
   "cell_type": "markdown",
   "metadata": {},
   "source": [
    "OK, so now let's add this function to the `forward_run.py` script."
   ]
  },
  {
   "cell_type": "code",
   "execution_count": 42,
   "metadata": {
    "execution": {
     "iopub.execute_input": "2022-03-17T02:52:32.574201Z",
     "iopub.status.busy": "2022-03-17T02:52:32.573203Z",
     "iopub.status.idle": "2022-03-17T02:52:32.577192Z",
     "shell.execute_reply": "2022-03-17T02:52:32.577192Z"
    }
   },
   "outputs": [],
   "source": [
    "pf.add_py_function(\"helpers.py\", # the file which contains the function\n",
    "                    \"process_secondary_obs(ws='.')\", #the function, making sure to specify any arguments it may requrie\n",
    "                    is_pre_cmd=False) # whether it runs before the model system command, or after. In this case, after."
   ]
  },
  {
   "cell_type": "markdown",
   "metadata": {},
   "source": [
    "And, boom! Bob's your uncle. As easy as that.\n",
    "\n",
    "Now, of course we want to add these observations to `PstFrom` as well:"
   ]
  },
  {
   "cell_type": "code",
   "execution_count": 43,
   "metadata": {
    "execution": {
     "iopub.execute_input": "2022-03-17T02:52:32.583210Z",
     "iopub.status.busy": "2022-03-17T02:52:32.583210Z",
     "iopub.status.idle": "2022-03-17T02:52:32.676963Z",
     "shell.execute_reply": "2022-03-17T02:52:32.675927Z"
    }
   },
   "outputs": [
    {
     "name": "stdout",
     "output_type": "stream",
     "text": [
      "2022-03-17 13:22:32.587221 starting: adding observations from output file sfr.tdiff.csv\n",
      "2022-03-17 13:22:32.587221 starting: adding observations from tabular output file '['sfr.tdiff.csv']'\n",
      "2022-03-17 13:22:32.587221 starting: reading list-style file: freyberg6_template\\sfr.tdiff.csv\n",
      "2022-03-17 13:22:32.589211 finished: reading list-style file: freyberg6_template\\sfr.tdiff.csv took: 0:00:00.001990\n",
      "2022-03-17 13:22:32.589211 starting: building insfile for tabular output file sfr.tdiff.csv\n",
      "2022-03-17 13:22:32.596171 finished: building insfile for tabular output file sfr.tdiff.csv took: 0:00:00.006960\n",
      "2022-03-17 13:22:32.596171 starting: adding observation from instruction file 'freyberg6_template\\sfr.tdiff.csv.ins'\n",
      "2022-03-17 13:22:32.604175 finished: adding observation from instruction file 'freyberg6_template\\sfr.tdiff.csv.ins' took: 0:00:00.008004\n",
      "2022-03-17 13:22:32.605117 finished: adding observations from tabular output file '['sfr.tdiff.csv']' took: 0:00:00.017896\n",
      "2022-03-17 13:22:32.613147 starting: adding observations from output file heads.tdiff.csv\n",
      "2022-03-17 13:22:32.613147 starting: adding observations from tabular output file '['heads.tdiff.csv']'\n",
      "2022-03-17 13:22:32.613147 starting: reading list-style file: freyberg6_template\\heads.tdiff.csv\n",
      "2022-03-17 13:22:32.615143 finished: reading list-style file: freyberg6_template\\heads.tdiff.csv took: 0:00:00.001996\n",
      "2022-03-17 13:22:32.615143 starting: building insfile for tabular output file heads.tdiff.csv\n",
      "2022-03-17 13:22:32.624119 finished: building insfile for tabular output file heads.tdiff.csv took: 0:00:00.008976\n",
      "2022-03-17 13:22:32.624119 starting: adding observation from instruction file 'freyberg6_template\\heads.tdiff.csv.ins'\n",
      "2022-03-17 13:22:32.642071 finished: adding observation from instruction file 'freyberg6_template\\heads.tdiff.csv.ins' took: 0:00:00.017952\n",
      "2022-03-17 13:22:32.644014 finished: adding observations from tabular output file '['heads.tdiff.csv']' took: 0:00:00.030867\n",
      "2022-03-17 13:22:32.646060 starting: adding observations from output file heads.vdiff.csv\n",
      "2022-03-17 13:22:32.646060 starting: adding observations from tabular output file '['heads.vdiff.csv']'\n",
      "2022-03-17 13:22:32.647005 starting: reading list-style file: freyberg6_template\\heads.vdiff.csv\n",
      "2022-03-17 13:22:32.648055 finished: reading list-style file: freyberg6_template\\heads.vdiff.csv took: 0:00:00.001050\n",
      "2022-03-17 13:22:32.649000 starting: building insfile for tabular output file heads.vdiff.csv\n",
      "2022-03-17 13:22:32.656011 finished: building insfile for tabular output file heads.vdiff.csv took: 0:00:00.007011\n",
      "2022-03-17 13:22:32.656011 starting: adding observation from instruction file 'freyberg6_template\\heads.vdiff.csv.ins'\n",
      "2022-03-17 13:22:32.670993 finished: adding observation from instruction file 'freyberg6_template\\heads.vdiff.csv.ins' took: 0:00:00.014982\n",
      "2022-03-17 13:22:32.671939 finished: adding observations from tabular output file '['heads.vdiff.csv']' took: 0:00:00.025879\n"
     ]
    }
   ],
   "source": [
    "\n",
    "df = pd.read_csv(os.path.join(template_ws, \"sfr.tdiff.csv\"), index_col=0)\n",
    "_ = pf.add_observations(\"sfr.tdiff.csv\", # the model output file to read\n",
    "                            insfile=\"sfr.tdiff.csv.ins\", #optional, the instruction file name\n",
    "                            index_cols=\"time\", #column header to use as index; can also use column number (zero-based) instead of the header name\n",
    "                            use_cols=list(df.columns.values), #names of columns that include observation values; can also use column number (zero-based) instead of the header name\n",
    "                            prefix=\"sfrtd\") #prefix to all observation \n",
    "                            \n",
    "df = pd.read_csv(os.path.join(template_ws, \"heads.tdiff.csv\"), index_col=0)\n",
    "_ = pf.add_observations(\"heads.tdiff.csv\", # the model output file to read\n",
    "                            insfile=\"heads.tdiff.csv.ins\", #optional, the instruction file name\n",
    "                            index_cols=\"time\", #column header to use as index; can also use column number (zero-based) instead of the header name\n",
    "                            use_cols=list(df.columns.values), #names of columns that include observation values; can also use column number (zero-based) instead of the header name\n",
    "                            prefix=\"hdstd\") #prefix to all observation names\n",
    "\n",
    "df = pd.read_csv(os.path.join(template_ws, \"heads.vdiff.csv\"), index_col=0)\n",
    "_ = pf.add_observations(\"heads.vdiff.csv\", # the model output file to read\n",
    "                            insfile=\"heads.vdiff.csv.ins\", #optional, the instruction file name\n",
    "                            index_cols=\"time\", #column header to use as index; can also use column number (zero-based) instead of the header name\n",
    "                            use_cols=list(df.columns.values), #names of columns that include observation values; can also use column number (zero-based) instead of the header name\n",
    "                            prefix=\"hdsvd\") #prefix to all observation names"
   ]
  },
  {
   "cell_type": "markdown",
   "metadata": {},
   "source": [
    "Remember to re-build the Pst control file:"
   ]
  },
  {
   "cell_type": "code",
   "execution_count": 44,
   "metadata": {
    "execution": {
     "iopub.execute_input": "2022-03-17T02:52:32.709387Z",
     "iopub.status.busy": "2022-03-17T02:52:32.689893Z",
     "iopub.status.idle": "2022-03-17T02:52:34.607695Z",
     "shell.execute_reply": "2022-03-17T02:52:34.606659Z"
    }
   },
   "outputs": [
    {
     "name": "stdout",
     "output_type": "stream",
     "text": [
      "noptmax:0, npar_adj:25454, nnz_obs:1775\n"
     ]
    },
    {
     "name": "stdout",
     "output_type": "stream",
     "text": [
      "2022-03-17 13:22:34.290536 WARNING: sys_cmd 'pyemu.os_utils.run(r'mf6')\n",
      "' already in sys cmds, skipping...\n"
     ]
    }
   ],
   "source": [
    "pst = pf.build_pst()"
   ]
  },
  {
   "cell_type": "markdown",
   "metadata": {},
   "source": [
    "### 7. After Building the Control File\n",
    "\n",
    "At this point, we can do some additional modifications that would typically be done that are problem specific.  Here we can tweak the setup, specifying things such as observation weights, parameter bounds, transforms, control data, etc. \n",
    "\n",
    "Note that any modifications made after calling `PstFrom.build_pst()` will only exist in memory - you need to call `pf.pst.write()` to record these changes to the control file on disk.  Also note that if you call `PstFrom.build_pst()` after making some changes, these changes will be lost.  \n",
    "\n",
    "For the current case, the main thing we haven't addressed are the observation weights. We will do so now.\n",
    "\n",
    "#### 7.1. Setting observation weights\n",
    "\n",
    "So far, we have automated the setup for PEST(++).  But one critical task remains and there is not an easy way to automate it:  setting the actual observed values and weights in the `* observation data` information.  \n",
    "\n",
    "`PstFrom` and `Pst` will both try to read existing model output files that correspond to instruction files and put those simulated values into the `* observation data` section for the observed values (the `obsval` quantity).  Here, we pre-populated the model output files with \"measured values\". So, in our case, we are OK in this regard.  Alternatively, we could have edited the `* observation data` at this stage, assigning the respective measured values into the `obsval` column. \n",
    "\n",
    "What we are unable to deal with beforehand are the observation weights. Let's take a look at the observation data:"
   ]
  },
  {
   "cell_type": "code",
   "execution_count": 45,
   "metadata": {
    "execution": {
     "iopub.execute_input": "2022-03-17T02:52:34.625606Z",
     "iopub.status.busy": "2022-03-17T02:52:34.625606Z",
     "iopub.status.idle": "2022-03-17T02:52:34.629621Z",
     "shell.execute_reply": "2022-03-17T02:52:34.628599Z"
    }
   },
   "outputs": [
    {
     "data": {
      "text/html": [
       "<div>\n",
       "<style scoped>\n",
       "    .dataframe tbody tr th:only-of-type {\n",
       "        vertical-align: middle;\n",
       "    }\n",
       "\n",
       "    .dataframe tbody tr th {\n",
       "        vertical-align: top;\n",
       "    }\n",
       "\n",
       "    .dataframe thead th {\n",
       "        text-align: right;\n",
       "    }\n",
       "</style>\n",
       "<table border=\"1\" class=\"dataframe\">\n",
       "  <thead>\n",
       "    <tr style=\"text-align: right;\">\n",
       "      <th></th>\n",
       "      <th>obsnme</th>\n",
       "      <th>obsval</th>\n",
       "      <th>weight</th>\n",
       "      <th>obgnme</th>\n",
       "      <th>oname</th>\n",
       "      <th>otype</th>\n",
       "      <th>usecol</th>\n",
       "      <th>time</th>\n",
       "    </tr>\n",
       "  </thead>\n",
       "  <tbody>\n",
       "    <tr>\n",
       "      <th>oname:hds_otype:lst_usecol:trgw_0_13_10_time:1.0</th>\n",
       "      <td>oname:hds_otype:lst_usecol:trgw_0_13_10_time:1.0</td>\n",
       "      <td>34.406181</td>\n",
       "      <td>1.0</td>\n",
       "      <td>oname:hds_otype:lst_usecol:trgw_0_13_10</td>\n",
       "      <td>hds</td>\n",
       "      <td>lst</td>\n",
       "      <td>trgw</td>\n",
       "      <td>1.0</td>\n",
       "    </tr>\n",
       "    <tr>\n",
       "      <th>oname:hds_otype:lst_usecol:trgw_0_13_10_time:122.0</th>\n",
       "      <td>oname:hds_otype:lst_usecol:trgw_0_13_10_time:122.0</td>\n",
       "      <td>34.450661</td>\n",
       "      <td>1.0</td>\n",
       "      <td>oname:hds_otype:lst_usecol:trgw_0_13_10</td>\n",
       "      <td>hds</td>\n",
       "      <td>lst</td>\n",
       "      <td>trgw</td>\n",
       "      <td>122.0</td>\n",
       "    </tr>\n",
       "    <tr>\n",
       "      <th>oname:hds_otype:lst_usecol:trgw_0_13_10_time:153.0</th>\n",
       "      <td>oname:hds_otype:lst_usecol:trgw_0_13_10_time:153.0</td>\n",
       "      <td>34.441799</td>\n",
       "      <td>1.0</td>\n",
       "      <td>oname:hds_otype:lst_usecol:trgw_0_13_10</td>\n",
       "      <td>hds</td>\n",
       "      <td>lst</td>\n",
       "      <td>trgw</td>\n",
       "      <td>153.0</td>\n",
       "    </tr>\n",
       "    <tr>\n",
       "      <th>oname:hds_otype:lst_usecol:trgw_0_13_10_time:183.0</th>\n",
       "      <td>oname:hds_otype:lst_usecol:trgw_0_13_10_time:183.0</td>\n",
       "      <td>34.375622</td>\n",
       "      <td>1.0</td>\n",
       "      <td>oname:hds_otype:lst_usecol:trgw_0_13_10</td>\n",
       "      <td>hds</td>\n",
       "      <td>lst</td>\n",
       "      <td>trgw</td>\n",
       "      <td>183.0</td>\n",
       "    </tr>\n",
       "    <tr>\n",
       "      <th>oname:hds_otype:lst_usecol:trgw_0_13_10_time:214.0</th>\n",
       "      <td>oname:hds_otype:lst_usecol:trgw_0_13_10_time:214.0</td>\n",
       "      <td>34.323056</td>\n",
       "      <td>1.0</td>\n",
       "      <td>oname:hds_otype:lst_usecol:trgw_0_13_10</td>\n",
       "      <td>hds</td>\n",
       "      <td>lst</td>\n",
       "      <td>trgw</td>\n",
       "      <td>214.0</td>\n",
       "    </tr>\n",
       "    <tr>\n",
       "      <th>...</th>\n",
       "      <td>...</td>\n",
       "      <td>...</td>\n",
       "      <td>...</td>\n",
       "      <td>...</td>\n",
       "      <td>...</td>\n",
       "      <td>...</td>\n",
       "      <td>...</td>\n",
       "      <td>...</td>\n",
       "    </tr>\n",
       "    <tr>\n",
       "      <th>oname:hdsvd_otype:lst_usecol:trgw_0_9_1_time:640.0</th>\n",
       "      <td>oname:hdsvd_otype:lst_usecol:trgw_0_9_1_time:640.0</td>\n",
       "      <td>0.002537</td>\n",
       "      <td>1.0</td>\n",
       "      <td>oname:hdsvd_otype:lst_usecol:trgw_0_9_1</td>\n",
       "      <td>hdsvd</td>\n",
       "      <td>lst</td>\n",
       "      <td>trgw</td>\n",
       "      <td>640.0</td>\n",
       "    </tr>\n",
       "    <tr>\n",
       "      <th>oname:hdsvd_otype:lst_usecol:trgw_0_9_1_time:671.0</th>\n",
       "      <td>oname:hdsvd_otype:lst_usecol:trgw_0_9_1_time:671.0</td>\n",
       "      <td>0.003066</td>\n",
       "      <td>1.0</td>\n",
       "      <td>oname:hdsvd_otype:lst_usecol:trgw_0_9_1</td>\n",
       "      <td>hdsvd</td>\n",
       "      <td>lst</td>\n",
       "      <td>trgw</td>\n",
       "      <td>671.0</td>\n",
       "    </tr>\n",
       "    <tr>\n",
       "      <th>oname:hdsvd_otype:lst_usecol:trgw_0_9_1_time:701.0</th>\n",
       "      <td>oname:hdsvd_otype:lst_usecol:trgw_0_9_1_time:701.0</td>\n",
       "      <td>0.002878</td>\n",
       "      <td>1.0</td>\n",
       "      <td>oname:hdsvd_otype:lst_usecol:trgw_0_9_1</td>\n",
       "      <td>hdsvd</td>\n",
       "      <td>lst</td>\n",
       "      <td>trgw</td>\n",
       "      <td>701.0</td>\n",
       "    </tr>\n",
       "    <tr>\n",
       "      <th>oname:hdsvd_otype:lst_usecol:trgw_0_9_1_time:732.0</th>\n",
       "      <td>oname:hdsvd_otype:lst_usecol:trgw_0_9_1_time:732.0</td>\n",
       "      <td>0.007718</td>\n",
       "      <td>1.0</td>\n",
       "      <td>oname:hdsvd_otype:lst_usecol:trgw_0_9_1</td>\n",
       "      <td>hdsvd</td>\n",
       "      <td>lst</td>\n",
       "      <td>trgw</td>\n",
       "      <td>732.0</td>\n",
       "    </tr>\n",
       "    <tr>\n",
       "      <th>oname:hdsvd_otype:lst_usecol:trgw_0_9_1_time:92.0</th>\n",
       "      <td>oname:hdsvd_otype:lst_usecol:trgw_0_9_1_time:92.0</td>\n",
       "      <td>0.004588</td>\n",
       "      <td>1.0</td>\n",
       "      <td>oname:hdsvd_otype:lst_usecol:trgw_0_9_1</td>\n",
       "      <td>hdsvd</td>\n",
       "      <td>lst</td>\n",
       "      <td>trgw</td>\n",
       "      <td>92.0</td>\n",
       "    </tr>\n",
       "  </tbody>\n",
       "</table>\n",
       "<p>1775 rows × 8 columns</p>\n",
       "</div>"
      ],
      "text/plain": [
       "                                                                                                obsnme  \\\n",
       "oname:hds_otype:lst_usecol:trgw_0_13_10_time:1.0      oname:hds_otype:lst_usecol:trgw_0_13_10_time:1.0   \n",
       "oname:hds_otype:lst_usecol:trgw_0_13_10_time:122.0  oname:hds_otype:lst_usecol:trgw_0_13_10_time:122.0   \n",
       "oname:hds_otype:lst_usecol:trgw_0_13_10_time:153.0  oname:hds_otype:lst_usecol:trgw_0_13_10_time:153.0   \n",
       "oname:hds_otype:lst_usecol:trgw_0_13_10_time:183.0  oname:hds_otype:lst_usecol:trgw_0_13_10_time:183.0   \n",
       "oname:hds_otype:lst_usecol:trgw_0_13_10_time:214.0  oname:hds_otype:lst_usecol:trgw_0_13_10_time:214.0   \n",
       "...                                                                                                ...   \n",
       "oname:hdsvd_otype:lst_usecol:trgw_0_9_1_time:640.0  oname:hdsvd_otype:lst_usecol:trgw_0_9_1_time:640.0   \n",
       "oname:hdsvd_otype:lst_usecol:trgw_0_9_1_time:671.0  oname:hdsvd_otype:lst_usecol:trgw_0_9_1_time:671.0   \n",
       "oname:hdsvd_otype:lst_usecol:trgw_0_9_1_time:701.0  oname:hdsvd_otype:lst_usecol:trgw_0_9_1_time:701.0   \n",
       "oname:hdsvd_otype:lst_usecol:trgw_0_9_1_time:732.0  oname:hdsvd_otype:lst_usecol:trgw_0_9_1_time:732.0   \n",
       "oname:hdsvd_otype:lst_usecol:trgw_0_9_1_time:92.0    oname:hdsvd_otype:lst_usecol:trgw_0_9_1_time:92.0   \n",
       "\n",
       "                                                       obsval  weight  \\\n",
       "oname:hds_otype:lst_usecol:trgw_0_13_10_time:1.0    34.406181     1.0   \n",
       "oname:hds_otype:lst_usecol:trgw_0_13_10_time:122.0  34.450661     1.0   \n",
       "oname:hds_otype:lst_usecol:trgw_0_13_10_time:153.0  34.441799     1.0   \n",
       "oname:hds_otype:lst_usecol:trgw_0_13_10_time:183.0  34.375622     1.0   \n",
       "oname:hds_otype:lst_usecol:trgw_0_13_10_time:214.0  34.323056     1.0   \n",
       "...                                                       ...     ...   \n",
       "oname:hdsvd_otype:lst_usecol:trgw_0_9_1_time:640.0   0.002537     1.0   \n",
       "oname:hdsvd_otype:lst_usecol:trgw_0_9_1_time:671.0   0.003066     1.0   \n",
       "oname:hdsvd_otype:lst_usecol:trgw_0_9_1_time:701.0   0.002878     1.0   \n",
       "oname:hdsvd_otype:lst_usecol:trgw_0_9_1_time:732.0   0.007718     1.0   \n",
       "oname:hdsvd_otype:lst_usecol:trgw_0_9_1_time:92.0    0.004588     1.0   \n",
       "\n",
       "                                                                                     obgnme  \\\n",
       "oname:hds_otype:lst_usecol:trgw_0_13_10_time:1.0    oname:hds_otype:lst_usecol:trgw_0_13_10   \n",
       "oname:hds_otype:lst_usecol:trgw_0_13_10_time:122.0  oname:hds_otype:lst_usecol:trgw_0_13_10   \n",
       "oname:hds_otype:lst_usecol:trgw_0_13_10_time:153.0  oname:hds_otype:lst_usecol:trgw_0_13_10   \n",
       "oname:hds_otype:lst_usecol:trgw_0_13_10_time:183.0  oname:hds_otype:lst_usecol:trgw_0_13_10   \n",
       "oname:hds_otype:lst_usecol:trgw_0_13_10_time:214.0  oname:hds_otype:lst_usecol:trgw_0_13_10   \n",
       "...                                                                                     ...   \n",
       "oname:hdsvd_otype:lst_usecol:trgw_0_9_1_time:640.0  oname:hdsvd_otype:lst_usecol:trgw_0_9_1   \n",
       "oname:hdsvd_otype:lst_usecol:trgw_0_9_1_time:671.0  oname:hdsvd_otype:lst_usecol:trgw_0_9_1   \n",
       "oname:hdsvd_otype:lst_usecol:trgw_0_9_1_time:701.0  oname:hdsvd_otype:lst_usecol:trgw_0_9_1   \n",
       "oname:hdsvd_otype:lst_usecol:trgw_0_9_1_time:732.0  oname:hdsvd_otype:lst_usecol:trgw_0_9_1   \n",
       "oname:hdsvd_otype:lst_usecol:trgw_0_9_1_time:92.0   oname:hdsvd_otype:lst_usecol:trgw_0_9_1   \n",
       "\n",
       "                                                    oname otype usecol   time  \n",
       "oname:hds_otype:lst_usecol:trgw_0_13_10_time:1.0      hds   lst   trgw    1.0  \n",
       "oname:hds_otype:lst_usecol:trgw_0_13_10_time:122.0    hds   lst   trgw  122.0  \n",
       "oname:hds_otype:lst_usecol:trgw_0_13_10_time:153.0    hds   lst   trgw  153.0  \n",
       "oname:hds_otype:lst_usecol:trgw_0_13_10_time:183.0    hds   lst   trgw  183.0  \n",
       "oname:hds_otype:lst_usecol:trgw_0_13_10_time:214.0    hds   lst   trgw  214.0  \n",
       "...                                                   ...   ...    ...    ...  \n",
       "oname:hdsvd_otype:lst_usecol:trgw_0_9_1_time:640.0  hdsvd   lst   trgw  640.0  \n",
       "oname:hdsvd_otype:lst_usecol:trgw_0_9_1_time:671.0  hdsvd   lst   trgw  671.0  \n",
       "oname:hdsvd_otype:lst_usecol:trgw_0_9_1_time:701.0  hdsvd   lst   trgw  701.0  \n",
       "oname:hdsvd_otype:lst_usecol:trgw_0_9_1_time:732.0  hdsvd   lst   trgw  732.0  \n",
       "oname:hdsvd_otype:lst_usecol:trgw_0_9_1_time:92.0   hdsvd   lst   trgw   92.0  \n",
       "\n",
       "[1775 rows x 8 columns]"
      ]
     },
     "execution_count": 45,
     "metadata": {},
     "output_type": "execute_result"
    }
   ],
   "source": [
    "obs = pst.observation_data\n",
    "obs"
   ]
  },
  {
   "cell_type": "markdown",
   "metadata": {},
   "source": [
    "Hmm, that's alot of observations. And remember, alot of these pertain to the \"prediction\" period. We definitly do not want those to have an influence on history-matching.\n",
    "\n",
    "To be on the safe side, let's assign a weight of zero to all observations. Then, we will assign weights to specific observations that we wish to include as history-matching targets."
   ]
  },
  {
   "cell_type": "code",
   "execution_count": 46,
   "metadata": {
    "execution": {
     "iopub.execute_input": "2022-03-17T02:52:34.637574Z",
     "iopub.status.busy": "2022-03-17T02:52:34.637574Z",
     "iopub.status.idle": "2022-03-17T02:52:34.640592Z",
     "shell.execute_reply": "2022-03-17T02:52:34.639698Z"
    }
   },
   "outputs": [
    {
     "data": {
      "text/html": [
       "<div>\n",
       "<style scoped>\n",
       "    .dataframe tbody tr th:only-of-type {\n",
       "        vertical-align: middle;\n",
       "    }\n",
       "\n",
       "    .dataframe tbody tr th {\n",
       "        vertical-align: top;\n",
       "    }\n",
       "\n",
       "    .dataframe thead th {\n",
       "        text-align: right;\n",
       "    }\n",
       "</style>\n",
       "<table border=\"1\" class=\"dataframe\">\n",
       "  <thead>\n",
       "    <tr style=\"text-align: right;\">\n",
       "      <th></th>\n",
       "      <th>obsnme</th>\n",
       "      <th>obsval</th>\n",
       "      <th>weight</th>\n",
       "      <th>obgnme</th>\n",
       "      <th>oname</th>\n",
       "      <th>otype</th>\n",
       "      <th>usecol</th>\n",
       "      <th>time</th>\n",
       "    </tr>\n",
       "  </thead>\n",
       "  <tbody>\n",
       "    <tr>\n",
       "      <th>oname:hds_otype:lst_usecol:trgw_0_13_10_time:1.0</th>\n",
       "      <td>oname:hds_otype:lst_usecol:trgw_0_13_10_time:1.0</td>\n",
       "      <td>34.406181</td>\n",
       "      <td>0</td>\n",
       "      <td>oname:hds_otype:lst_usecol:trgw_0_13_10</td>\n",
       "      <td>hds</td>\n",
       "      <td>lst</td>\n",
       "      <td>trgw</td>\n",
       "      <td>1.0</td>\n",
       "    </tr>\n",
       "    <tr>\n",
       "      <th>oname:hds_otype:lst_usecol:trgw_0_13_10_time:122.0</th>\n",
       "      <td>oname:hds_otype:lst_usecol:trgw_0_13_10_time:122.0</td>\n",
       "      <td>34.450661</td>\n",
       "      <td>0</td>\n",
       "      <td>oname:hds_otype:lst_usecol:trgw_0_13_10</td>\n",
       "      <td>hds</td>\n",
       "      <td>lst</td>\n",
       "      <td>trgw</td>\n",
       "      <td>122.0</td>\n",
       "    </tr>\n",
       "    <tr>\n",
       "      <th>oname:hds_otype:lst_usecol:trgw_0_13_10_time:153.0</th>\n",
       "      <td>oname:hds_otype:lst_usecol:trgw_0_13_10_time:153.0</td>\n",
       "      <td>34.441799</td>\n",
       "      <td>0</td>\n",
       "      <td>oname:hds_otype:lst_usecol:trgw_0_13_10</td>\n",
       "      <td>hds</td>\n",
       "      <td>lst</td>\n",
       "      <td>trgw</td>\n",
       "      <td>153.0</td>\n",
       "    </tr>\n",
       "    <tr>\n",
       "      <th>oname:hds_otype:lst_usecol:trgw_0_13_10_time:183.0</th>\n",
       "      <td>oname:hds_otype:lst_usecol:trgw_0_13_10_time:183.0</td>\n",
       "      <td>34.375622</td>\n",
       "      <td>0</td>\n",
       "      <td>oname:hds_otype:lst_usecol:trgw_0_13_10</td>\n",
       "      <td>hds</td>\n",
       "      <td>lst</td>\n",
       "      <td>trgw</td>\n",
       "      <td>183.0</td>\n",
       "    </tr>\n",
       "    <tr>\n",
       "      <th>oname:hds_otype:lst_usecol:trgw_0_13_10_time:214.0</th>\n",
       "      <td>oname:hds_otype:lst_usecol:trgw_0_13_10_time:214.0</td>\n",
       "      <td>34.323056</td>\n",
       "      <td>0</td>\n",
       "      <td>oname:hds_otype:lst_usecol:trgw_0_13_10</td>\n",
       "      <td>hds</td>\n",
       "      <td>lst</td>\n",
       "      <td>trgw</td>\n",
       "      <td>214.0</td>\n",
       "    </tr>\n",
       "  </tbody>\n",
       "</table>\n",
       "</div>"
      ],
      "text/plain": [
       "                                                                                                obsnme  \\\n",
       "oname:hds_otype:lst_usecol:trgw_0_13_10_time:1.0      oname:hds_otype:lst_usecol:trgw_0_13_10_time:1.0   \n",
       "oname:hds_otype:lst_usecol:trgw_0_13_10_time:122.0  oname:hds_otype:lst_usecol:trgw_0_13_10_time:122.0   \n",
       "oname:hds_otype:lst_usecol:trgw_0_13_10_time:153.0  oname:hds_otype:lst_usecol:trgw_0_13_10_time:153.0   \n",
       "oname:hds_otype:lst_usecol:trgw_0_13_10_time:183.0  oname:hds_otype:lst_usecol:trgw_0_13_10_time:183.0   \n",
       "oname:hds_otype:lst_usecol:trgw_0_13_10_time:214.0  oname:hds_otype:lst_usecol:trgw_0_13_10_time:214.0   \n",
       "\n",
       "                                                       obsval  weight  \\\n",
       "oname:hds_otype:lst_usecol:trgw_0_13_10_time:1.0    34.406181       0   \n",
       "oname:hds_otype:lst_usecol:trgw_0_13_10_time:122.0  34.450661       0   \n",
       "oname:hds_otype:lst_usecol:trgw_0_13_10_time:153.0  34.441799       0   \n",
       "oname:hds_otype:lst_usecol:trgw_0_13_10_time:183.0  34.375622       0   \n",
       "oname:hds_otype:lst_usecol:trgw_0_13_10_time:214.0  34.323056       0   \n",
       "\n",
       "                                                                                     obgnme  \\\n",
       "oname:hds_otype:lst_usecol:trgw_0_13_10_time:1.0    oname:hds_otype:lst_usecol:trgw_0_13_10   \n",
       "oname:hds_otype:lst_usecol:trgw_0_13_10_time:122.0  oname:hds_otype:lst_usecol:trgw_0_13_10   \n",
       "oname:hds_otype:lst_usecol:trgw_0_13_10_time:153.0  oname:hds_otype:lst_usecol:trgw_0_13_10   \n",
       "oname:hds_otype:lst_usecol:trgw_0_13_10_time:183.0  oname:hds_otype:lst_usecol:trgw_0_13_10   \n",
       "oname:hds_otype:lst_usecol:trgw_0_13_10_time:214.0  oname:hds_otype:lst_usecol:trgw_0_13_10   \n",
       "\n",
       "                                                   oname otype usecol   time  \n",
       "oname:hds_otype:lst_usecol:trgw_0_13_10_time:1.0     hds   lst   trgw    1.0  \n",
       "oname:hds_otype:lst_usecol:trgw_0_13_10_time:122.0   hds   lst   trgw  122.0  \n",
       "oname:hds_otype:lst_usecol:trgw_0_13_10_time:153.0   hds   lst   trgw  153.0  \n",
       "oname:hds_otype:lst_usecol:trgw_0_13_10_time:183.0   hds   lst   trgw  183.0  \n",
       "oname:hds_otype:lst_usecol:trgw_0_13_10_time:214.0   hds   lst   trgw  214.0  "
      ]
     },
     "execution_count": 46,
     "metadata": {},
     "output_type": "execute_result"
    }
   ],
   "source": [
    "# preemptive avoidance of sillyness\n",
    "obs['weight'] = 0\n",
    "obs.head()"
   ]
  },
  {
   "cell_type": "markdown",
   "metadata": {},
   "source": [
    "Because `PstFrom` is our friend, it kept track of lots of information. We can now use this to help us slice and select specific observations. Scroll though the `obs` columns to see what we have at hand. \n",
    "\n",
    "For example, the `oname` column stores the \"prefix\" we assigned eveytime we called `pf.add_observations()`. This makes it easy for us to now select observations according to which file they were read from.\n",
    "\n",
    "Just as a reminder:"
   ]
  },
  {
   "cell_type": "code",
   "execution_count": 47,
   "metadata": {
    "execution": {
     "iopub.execute_input": "2022-03-17T02:52:34.643558Z",
     "iopub.status.busy": "2022-03-17T02:52:34.643558Z",
     "iopub.status.idle": "2022-03-17T02:52:34.649571Z",
     "shell.execute_reply": "2022-03-17T02:52:34.650570Z"
    }
   },
   "outputs": [
    {
     "data": {
      "text/plain": [
       "array(['hds', 'sfr', 'sfrtd', 'hdstd', 'hdsvd'], dtype=object)"
      ]
     },
     "execution_count": 47,
     "metadata": {},
     "output_type": "execute_result"
    }
   ],
   "source": [
    "obs['oname'].unique()"
   ]
  },
  {
   "cell_type": "markdown",
   "metadata": {},
   "source": [
    "So, if we want to select observations from the `heads.csv` file, and that have a time < than 367, we can just use `Pandas` .loc:"
   ]
  },
  {
   "cell_type": "code",
   "execution_count": 48,
   "metadata": {
    "execution": {
     "iopub.execute_input": "2022-03-17T02:52:34.670486Z",
     "iopub.status.busy": "2022-03-17T02:52:34.669489Z",
     "iopub.status.idle": "2022-03-17T02:52:34.673480Z",
     "shell.execute_reply": "2022-03-17T02:52:34.672481Z"
    }
   },
   "outputs": [
    {
     "data": {
      "text/html": [
       "<div>\n",
       "<style scoped>\n",
       "    .dataframe tbody tr th:only-of-type {\n",
       "        vertical-align: middle;\n",
       "    }\n",
       "\n",
       "    .dataframe tbody tr th {\n",
       "        vertical-align: top;\n",
       "    }\n",
       "\n",
       "    .dataframe thead th {\n",
       "        text-align: right;\n",
       "    }\n",
       "</style>\n",
       "<table border=\"1\" class=\"dataframe\">\n",
       "  <thead>\n",
       "    <tr style=\"text-align: right;\">\n",
       "      <th></th>\n",
       "      <th>obsnme</th>\n",
       "      <th>obsval</th>\n",
       "      <th>weight</th>\n",
       "      <th>obgnme</th>\n",
       "      <th>oname</th>\n",
       "      <th>otype</th>\n",
       "      <th>usecol</th>\n",
       "      <th>time</th>\n",
       "    </tr>\n",
       "  </thead>\n",
       "  <tbody>\n",
       "    <tr>\n",
       "      <th>oname:hds_otype:lst_usecol:trgw_0_13_10_time:1.0</th>\n",
       "      <td>oname:hds_otype:lst_usecol:trgw_0_13_10_time:1.0</td>\n",
       "      <td>34.406181</td>\n",
       "      <td>0</td>\n",
       "      <td>oname:hds_otype:lst_usecol:trgw_0_13_10</td>\n",
       "      <td>hds</td>\n",
       "      <td>lst</td>\n",
       "      <td>trgw</td>\n",
       "      <td>1.0</td>\n",
       "    </tr>\n",
       "    <tr>\n",
       "      <th>oname:hds_otype:lst_usecol:trgw_0_13_10_time:122.0</th>\n",
       "      <td>oname:hds_otype:lst_usecol:trgw_0_13_10_time:122.0</td>\n",
       "      <td>34.450661</td>\n",
       "      <td>0</td>\n",
       "      <td>oname:hds_otype:lst_usecol:trgw_0_13_10</td>\n",
       "      <td>hds</td>\n",
       "      <td>lst</td>\n",
       "      <td>trgw</td>\n",
       "      <td>122.0</td>\n",
       "    </tr>\n",
       "    <tr>\n",
       "      <th>oname:hds_otype:lst_usecol:trgw_0_13_10_time:153.0</th>\n",
       "      <td>oname:hds_otype:lst_usecol:trgw_0_13_10_time:153.0</td>\n",
       "      <td>34.441799</td>\n",
       "      <td>0</td>\n",
       "      <td>oname:hds_otype:lst_usecol:trgw_0_13_10</td>\n",
       "      <td>hds</td>\n",
       "      <td>lst</td>\n",
       "      <td>trgw</td>\n",
       "      <td>153.0</td>\n",
       "    </tr>\n",
       "    <tr>\n",
       "      <th>oname:hds_otype:lst_usecol:trgw_0_13_10_time:183.0</th>\n",
       "      <td>oname:hds_otype:lst_usecol:trgw_0_13_10_time:183.0</td>\n",
       "      <td>34.375622</td>\n",
       "      <td>0</td>\n",
       "      <td>oname:hds_otype:lst_usecol:trgw_0_13_10</td>\n",
       "      <td>hds</td>\n",
       "      <td>lst</td>\n",
       "      <td>trgw</td>\n",
       "      <td>183.0</td>\n",
       "    </tr>\n",
       "    <tr>\n",
       "      <th>oname:hds_otype:lst_usecol:trgw_0_13_10_time:214.0</th>\n",
       "      <td>oname:hds_otype:lst_usecol:trgw_0_13_10_time:214.0</td>\n",
       "      <td>34.323056</td>\n",
       "      <td>0</td>\n",
       "      <td>oname:hds_otype:lst_usecol:trgw_0_13_10</td>\n",
       "      <td>hds</td>\n",
       "      <td>lst</td>\n",
       "      <td>trgw</td>\n",
       "      <td>214.0</td>\n",
       "    </tr>\n",
       "    <tr>\n",
       "      <th>...</th>\n",
       "      <td>...</td>\n",
       "      <td>...</td>\n",
       "      <td>...</td>\n",
       "      <td>...</td>\n",
       "      <td>...</td>\n",
       "      <td>...</td>\n",
       "      <td>...</td>\n",
       "      <td>...</td>\n",
       "    </tr>\n",
       "    <tr>\n",
       "      <th>oname:hds_otype:lst_usecol:trgw_2_9_1_time:32.0</th>\n",
       "      <td>oname:hds_otype:lst_usecol:trgw_2_9_1_time:32.0</td>\n",
       "      <td>35.138347</td>\n",
       "      <td>0</td>\n",
       "      <td>oname:hds_otype:lst_usecol:trgw_2_9_1</td>\n",
       "      <td>hds</td>\n",
       "      <td>lst</td>\n",
       "      <td>trgw</td>\n",
       "      <td>32.0</td>\n",
       "    </tr>\n",
       "    <tr>\n",
       "      <th>oname:hds_otype:lst_usecol:trgw_2_9_1_time:336.0</th>\n",
       "      <td>oname:hds_otype:lst_usecol:trgw_2_9_1_time:336.0</td>\n",
       "      <td>35.137489</td>\n",
       "      <td>0</td>\n",
       "      <td>oname:hds_otype:lst_usecol:trgw_2_9_1</td>\n",
       "      <td>hds</td>\n",
       "      <td>lst</td>\n",
       "      <td>trgw</td>\n",
       "      <td>336.0</td>\n",
       "    </tr>\n",
       "    <tr>\n",
       "      <th>oname:hds_otype:lst_usecol:trgw_2_9_1_time:367.0</th>\n",
       "      <td>oname:hds_otype:lst_usecol:trgw_2_9_1_time:367.0</td>\n",
       "      <td>35.381420</td>\n",
       "      <td>0</td>\n",
       "      <td>oname:hds_otype:lst_usecol:trgw_2_9_1</td>\n",
       "      <td>hds</td>\n",
       "      <td>lst</td>\n",
       "      <td>trgw</td>\n",
       "      <td>367.0</td>\n",
       "    </tr>\n",
       "    <tr>\n",
       "      <th>oname:hds_otype:lst_usecol:trgw_2_9_1_time:61.0</th>\n",
       "      <td>oname:hds_otype:lst_usecol:trgw_2_9_1_time:61.0</td>\n",
       "      <td>35.323971</td>\n",
       "      <td>0</td>\n",
       "      <td>oname:hds_otype:lst_usecol:trgw_2_9_1</td>\n",
       "      <td>hds</td>\n",
       "      <td>lst</td>\n",
       "      <td>trgw</td>\n",
       "      <td>61.0</td>\n",
       "    </tr>\n",
       "    <tr>\n",
       "      <th>oname:hds_otype:lst_usecol:trgw_2_9_1_time:92.0</th>\n",
       "      <td>oname:hds_otype:lst_usecol:trgw_2_9_1_time:92.0</td>\n",
       "      <td>35.373773</td>\n",
       "      <td>0</td>\n",
       "      <td>oname:hds_otype:lst_usecol:trgw_2_9_1</td>\n",
       "      <td>hds</td>\n",
       "      <td>lst</td>\n",
       "      <td>trgw</td>\n",
       "      <td>92.0</td>\n",
       "    </tr>\n",
       "  </tbody>\n",
       "</table>\n",
       "<p>338 rows × 8 columns</p>\n",
       "</div>"
      ],
      "text/plain": [
       "                                                                                                obsnme  \\\n",
       "oname:hds_otype:lst_usecol:trgw_0_13_10_time:1.0      oname:hds_otype:lst_usecol:trgw_0_13_10_time:1.0   \n",
       "oname:hds_otype:lst_usecol:trgw_0_13_10_time:122.0  oname:hds_otype:lst_usecol:trgw_0_13_10_time:122.0   \n",
       "oname:hds_otype:lst_usecol:trgw_0_13_10_time:153.0  oname:hds_otype:lst_usecol:trgw_0_13_10_time:153.0   \n",
       "oname:hds_otype:lst_usecol:trgw_0_13_10_time:183.0  oname:hds_otype:lst_usecol:trgw_0_13_10_time:183.0   \n",
       "oname:hds_otype:lst_usecol:trgw_0_13_10_time:214.0  oname:hds_otype:lst_usecol:trgw_0_13_10_time:214.0   \n",
       "...                                                                                                ...   \n",
       "oname:hds_otype:lst_usecol:trgw_2_9_1_time:32.0        oname:hds_otype:lst_usecol:trgw_2_9_1_time:32.0   \n",
       "oname:hds_otype:lst_usecol:trgw_2_9_1_time:336.0      oname:hds_otype:lst_usecol:trgw_2_9_1_time:336.0   \n",
       "oname:hds_otype:lst_usecol:trgw_2_9_1_time:367.0      oname:hds_otype:lst_usecol:trgw_2_9_1_time:367.0   \n",
       "oname:hds_otype:lst_usecol:trgw_2_9_1_time:61.0        oname:hds_otype:lst_usecol:trgw_2_9_1_time:61.0   \n",
       "oname:hds_otype:lst_usecol:trgw_2_9_1_time:92.0        oname:hds_otype:lst_usecol:trgw_2_9_1_time:92.0   \n",
       "\n",
       "                                                       obsval  weight  \\\n",
       "oname:hds_otype:lst_usecol:trgw_0_13_10_time:1.0    34.406181       0   \n",
       "oname:hds_otype:lst_usecol:trgw_0_13_10_time:122.0  34.450661       0   \n",
       "oname:hds_otype:lst_usecol:trgw_0_13_10_time:153.0  34.441799       0   \n",
       "oname:hds_otype:lst_usecol:trgw_0_13_10_time:183.0  34.375622       0   \n",
       "oname:hds_otype:lst_usecol:trgw_0_13_10_time:214.0  34.323056       0   \n",
       "...                                                       ...     ...   \n",
       "oname:hds_otype:lst_usecol:trgw_2_9_1_time:32.0     35.138347       0   \n",
       "oname:hds_otype:lst_usecol:trgw_2_9_1_time:336.0    35.137489       0   \n",
       "oname:hds_otype:lst_usecol:trgw_2_9_1_time:367.0    35.381420       0   \n",
       "oname:hds_otype:lst_usecol:trgw_2_9_1_time:61.0     35.323971       0   \n",
       "oname:hds_otype:lst_usecol:trgw_2_9_1_time:92.0     35.373773       0   \n",
       "\n",
       "                                                                                     obgnme  \\\n",
       "oname:hds_otype:lst_usecol:trgw_0_13_10_time:1.0    oname:hds_otype:lst_usecol:trgw_0_13_10   \n",
       "oname:hds_otype:lst_usecol:trgw_0_13_10_time:122.0  oname:hds_otype:lst_usecol:trgw_0_13_10   \n",
       "oname:hds_otype:lst_usecol:trgw_0_13_10_time:153.0  oname:hds_otype:lst_usecol:trgw_0_13_10   \n",
       "oname:hds_otype:lst_usecol:trgw_0_13_10_time:183.0  oname:hds_otype:lst_usecol:trgw_0_13_10   \n",
       "oname:hds_otype:lst_usecol:trgw_0_13_10_time:214.0  oname:hds_otype:lst_usecol:trgw_0_13_10   \n",
       "...                                                                                     ...   \n",
       "oname:hds_otype:lst_usecol:trgw_2_9_1_time:32.0       oname:hds_otype:lst_usecol:trgw_2_9_1   \n",
       "oname:hds_otype:lst_usecol:trgw_2_9_1_time:336.0      oname:hds_otype:lst_usecol:trgw_2_9_1   \n",
       "oname:hds_otype:lst_usecol:trgw_2_9_1_time:367.0      oname:hds_otype:lst_usecol:trgw_2_9_1   \n",
       "oname:hds_otype:lst_usecol:trgw_2_9_1_time:61.0       oname:hds_otype:lst_usecol:trgw_2_9_1   \n",
       "oname:hds_otype:lst_usecol:trgw_2_9_1_time:92.0       oname:hds_otype:lst_usecol:trgw_2_9_1   \n",
       "\n",
       "                                                   oname otype usecol   time  \n",
       "oname:hds_otype:lst_usecol:trgw_0_13_10_time:1.0     hds   lst   trgw    1.0  \n",
       "oname:hds_otype:lst_usecol:trgw_0_13_10_time:122.0   hds   lst   trgw  122.0  \n",
       "oname:hds_otype:lst_usecol:trgw_0_13_10_time:153.0   hds   lst   trgw  153.0  \n",
       "oname:hds_otype:lst_usecol:trgw_0_13_10_time:183.0   hds   lst   trgw  183.0  \n",
       "oname:hds_otype:lst_usecol:trgw_0_13_10_time:214.0   hds   lst   trgw  214.0  \n",
       "...                                                  ...   ...    ...    ...  \n",
       "oname:hds_otype:lst_usecol:trgw_2_9_1_time:32.0      hds   lst   trgw   32.0  \n",
       "oname:hds_otype:lst_usecol:trgw_2_9_1_time:336.0     hds   lst   trgw  336.0  \n",
       "oname:hds_otype:lst_usecol:trgw_2_9_1_time:367.0     hds   lst   trgw  367.0  \n",
       "oname:hds_otype:lst_usecol:trgw_2_9_1_time:61.0      hds   lst   trgw   61.0  \n",
       "oname:hds_otype:lst_usecol:trgw_2_9_1_time:92.0      hds   lst   trgw   92.0  \n",
       "\n",
       "[338 rows x 8 columns]"
      ]
     },
     "execution_count": 48,
     "metadata": {},
     "output_type": "execute_result"
    }
   ],
   "source": [
    "obs.loc[(obs['oname']=='hds') & (obs['time'].astype(float) <= 367)]"
   ]
  },
  {
   "cell_type": "markdown",
   "metadata": {},
   "source": [
    "OK, so now let's use this to assign weights to each observation type. We will set weights to the inverse of the standard deviation of our measurement uncertainty (e.g. \"error-based weighting\").\n",
    "\n",
    "Let's say that stdevs for:\n",
    " - head measurements are 0.1m,\n",
    " - head time an vertical differences 0.01m\n",
    " - SFR direct and time-differnces will be 10% of the measured value (fancy-word alert: \"heteroscedasticity\")"
   ]
  },
  {
   "cell_type": "code",
   "execution_count": 49,
   "metadata": {
    "execution": {
     "iopub.execute_input": "2022-03-17T02:52:34.681482Z",
     "iopub.status.busy": "2022-03-17T02:52:34.680459Z",
     "iopub.status.idle": "2022-03-17T02:52:34.682455Z",
     "shell.execute_reply": "2022-03-17T02:52:34.682455Z"
    }
   },
   "outputs": [],
   "source": [
    "# direct head measurments\n",
    "obs.loc[(obs['oname']=='hds') & (obs['time'].astype(float) <= 367), 'weight'] = 1/0.1\n",
    "# head time differences\n",
    "obs.loc[(obs['oname']=='hdstd') & (obs['time'].astype(float) <= 367), 'weight'] = 1/0.01\n",
    "# head vertical differences\n",
    "obs.loc[(obs['oname']=='hdsvd') & (obs['time'].astype(float) <= 367), 'weight'] = 1/0.01"
   ]
  },
  {
   "cell_type": "code",
   "execution_count": 50,
   "metadata": {
    "execution": {
     "iopub.execute_input": "2022-03-17T02:52:34.693425Z",
     "iopub.status.busy": "2022-03-17T02:52:34.692428Z",
     "iopub.status.idle": "2022-03-17T02:52:34.695420Z",
     "shell.execute_reply": "2022-03-17T02:52:34.695420Z"
    }
   },
   "outputs": [],
   "source": [
    "# SFR direct measurments\n",
    "weights = 1 / abs(0.1 * obs.loc[(obs['oname']=='sfr') & (obs['time'].astype(float) <= 367), 'obsval'].values)\n",
    "obs.loc[(obs['oname']=='sfr') & (obs['time'].astype(float) <= 367), 'weight'] = weights\n",
    "\n",
    "# SFR time-difference measurments; deal with the first observation value that is == 0\n",
    "weights = 1 / abs(0.1 * obs.loc[(obs['oname']=='sfrtd') & (obs['time'].astype(float) <= 367) &  (obs['obsval'] !=0) , 'obsval'].values)\n",
    "obs.loc[(obs['oname']=='sfrtd') & (obs['time'].astype(float) <= 367) &  (obs['obsval'] !=0), 'weight'] = weights"
   ]
  },
  {
   "cell_type": "markdown",
   "metadata": {},
   "source": [
    "As you can see, observation data weights have been updated:"
   ]
  },
  {
   "cell_type": "code",
   "execution_count": 51,
   "metadata": {
    "execution": {
     "iopub.execute_input": "2022-03-17T02:52:34.708384Z",
     "iopub.status.busy": "2022-03-17T02:52:34.707387Z",
     "iopub.status.idle": "2022-03-17T02:52:34.710380Z",
     "shell.execute_reply": "2022-03-17T02:52:34.710380Z"
    }
   },
   "outputs": [
    {
     "data": {
      "text/html": [
       "<div>\n",
       "<style scoped>\n",
       "    .dataframe tbody tr th:only-of-type {\n",
       "        vertical-align: middle;\n",
       "    }\n",
       "\n",
       "    .dataframe tbody tr th {\n",
       "        vertical-align: top;\n",
       "    }\n",
       "\n",
       "    .dataframe thead th {\n",
       "        text-align: right;\n",
       "    }\n",
       "</style>\n",
       "<table border=\"1\" class=\"dataframe\">\n",
       "  <thead>\n",
       "    <tr style=\"text-align: right;\">\n",
       "      <th></th>\n",
       "      <th>obsnme</th>\n",
       "      <th>obsval</th>\n",
       "      <th>weight</th>\n",
       "      <th>obgnme</th>\n",
       "      <th>oname</th>\n",
       "      <th>otype</th>\n",
       "      <th>usecol</th>\n",
       "      <th>time</th>\n",
       "    </tr>\n",
       "  </thead>\n",
       "  <tbody>\n",
       "    <tr>\n",
       "      <th>oname:hds_otype:lst_usecol:trgw_0_13_10_time:1.0</th>\n",
       "      <td>oname:hds_otype:lst_usecol:trgw_0_13_10_time:1.0</td>\n",
       "      <td>34.406181</td>\n",
       "      <td>10.0</td>\n",
       "      <td>oname:hds_otype:lst_usecol:trgw_0_13_10</td>\n",
       "      <td>hds</td>\n",
       "      <td>lst</td>\n",
       "      <td>trgw</td>\n",
       "      <td>1.0</td>\n",
       "    </tr>\n",
       "    <tr>\n",
       "      <th>oname:hds_otype:lst_usecol:trgw_0_13_10_time:122.0</th>\n",
       "      <td>oname:hds_otype:lst_usecol:trgw_0_13_10_time:122.0</td>\n",
       "      <td>34.450661</td>\n",
       "      <td>10.0</td>\n",
       "      <td>oname:hds_otype:lst_usecol:trgw_0_13_10</td>\n",
       "      <td>hds</td>\n",
       "      <td>lst</td>\n",
       "      <td>trgw</td>\n",
       "      <td>122.0</td>\n",
       "    </tr>\n",
       "    <tr>\n",
       "      <th>oname:hds_otype:lst_usecol:trgw_0_13_10_time:153.0</th>\n",
       "      <td>oname:hds_otype:lst_usecol:trgw_0_13_10_time:153.0</td>\n",
       "      <td>34.441799</td>\n",
       "      <td>10.0</td>\n",
       "      <td>oname:hds_otype:lst_usecol:trgw_0_13_10</td>\n",
       "      <td>hds</td>\n",
       "      <td>lst</td>\n",
       "      <td>trgw</td>\n",
       "      <td>153.0</td>\n",
       "    </tr>\n",
       "    <tr>\n",
       "      <th>oname:hds_otype:lst_usecol:trgw_0_13_10_time:183.0</th>\n",
       "      <td>oname:hds_otype:lst_usecol:trgw_0_13_10_time:183.0</td>\n",
       "      <td>34.375622</td>\n",
       "      <td>10.0</td>\n",
       "      <td>oname:hds_otype:lst_usecol:trgw_0_13_10</td>\n",
       "      <td>hds</td>\n",
       "      <td>lst</td>\n",
       "      <td>trgw</td>\n",
       "      <td>183.0</td>\n",
       "    </tr>\n",
       "    <tr>\n",
       "      <th>oname:hds_otype:lst_usecol:trgw_0_13_10_time:214.0</th>\n",
       "      <td>oname:hds_otype:lst_usecol:trgw_0_13_10_time:214.0</td>\n",
       "      <td>34.323056</td>\n",
       "      <td>10.0</td>\n",
       "      <td>oname:hds_otype:lst_usecol:trgw_0_13_10</td>\n",
       "      <td>hds</td>\n",
       "      <td>lst</td>\n",
       "      <td>trgw</td>\n",
       "      <td>214.0</td>\n",
       "    </tr>\n",
       "    <tr>\n",
       "      <th>...</th>\n",
       "      <td>...</td>\n",
       "      <td>...</td>\n",
       "      <td>...</td>\n",
       "      <td>...</td>\n",
       "      <td>...</td>\n",
       "      <td>...</td>\n",
       "      <td>...</td>\n",
       "      <td>...</td>\n",
       "    </tr>\n",
       "    <tr>\n",
       "      <th>oname:hdsvd_otype:lst_usecol:trgw_0_9_1_time:640.0</th>\n",
       "      <td>oname:hdsvd_otype:lst_usecol:trgw_0_9_1_time:640.0</td>\n",
       "      <td>0.002537</td>\n",
       "      <td>0.0</td>\n",
       "      <td>oname:hdsvd_otype:lst_usecol:trgw_0_9_1</td>\n",
       "      <td>hdsvd</td>\n",
       "      <td>lst</td>\n",
       "      <td>trgw</td>\n",
       "      <td>640.0</td>\n",
       "    </tr>\n",
       "    <tr>\n",
       "      <th>oname:hdsvd_otype:lst_usecol:trgw_0_9_1_time:671.0</th>\n",
       "      <td>oname:hdsvd_otype:lst_usecol:trgw_0_9_1_time:671.0</td>\n",
       "      <td>0.003066</td>\n",
       "      <td>0.0</td>\n",
       "      <td>oname:hdsvd_otype:lst_usecol:trgw_0_9_1</td>\n",
       "      <td>hdsvd</td>\n",
       "      <td>lst</td>\n",
       "      <td>trgw</td>\n",
       "      <td>671.0</td>\n",
       "    </tr>\n",
       "    <tr>\n",
       "      <th>oname:hdsvd_otype:lst_usecol:trgw_0_9_1_time:701.0</th>\n",
       "      <td>oname:hdsvd_otype:lst_usecol:trgw_0_9_1_time:701.0</td>\n",
       "      <td>0.002878</td>\n",
       "      <td>0.0</td>\n",
       "      <td>oname:hdsvd_otype:lst_usecol:trgw_0_9_1</td>\n",
       "      <td>hdsvd</td>\n",
       "      <td>lst</td>\n",
       "      <td>trgw</td>\n",
       "      <td>701.0</td>\n",
       "    </tr>\n",
       "    <tr>\n",
       "      <th>oname:hdsvd_otype:lst_usecol:trgw_0_9_1_time:732.0</th>\n",
       "      <td>oname:hdsvd_otype:lst_usecol:trgw_0_9_1_time:732.0</td>\n",
       "      <td>0.007718</td>\n",
       "      <td>0.0</td>\n",
       "      <td>oname:hdsvd_otype:lst_usecol:trgw_0_9_1</td>\n",
       "      <td>hdsvd</td>\n",
       "      <td>lst</td>\n",
       "      <td>trgw</td>\n",
       "      <td>732.0</td>\n",
       "    </tr>\n",
       "    <tr>\n",
       "      <th>oname:hdsvd_otype:lst_usecol:trgw_0_9_1_time:92.0</th>\n",
       "      <td>oname:hdsvd_otype:lst_usecol:trgw_0_9_1_time:92.0</td>\n",
       "      <td>0.004588</td>\n",
       "      <td>100.0</td>\n",
       "      <td>oname:hdsvd_otype:lst_usecol:trgw_0_9_1</td>\n",
       "      <td>hdsvd</td>\n",
       "      <td>lst</td>\n",
       "      <td>trgw</td>\n",
       "      <td>92.0</td>\n",
       "    </tr>\n",
       "  </tbody>\n",
       "</table>\n",
       "<p>1775 rows × 8 columns</p>\n",
       "</div>"
      ],
      "text/plain": [
       "                                                                                                obsnme  \\\n",
       "oname:hds_otype:lst_usecol:trgw_0_13_10_time:1.0      oname:hds_otype:lst_usecol:trgw_0_13_10_time:1.0   \n",
       "oname:hds_otype:lst_usecol:trgw_0_13_10_time:122.0  oname:hds_otype:lst_usecol:trgw_0_13_10_time:122.0   \n",
       "oname:hds_otype:lst_usecol:trgw_0_13_10_time:153.0  oname:hds_otype:lst_usecol:trgw_0_13_10_time:153.0   \n",
       "oname:hds_otype:lst_usecol:trgw_0_13_10_time:183.0  oname:hds_otype:lst_usecol:trgw_0_13_10_time:183.0   \n",
       "oname:hds_otype:lst_usecol:trgw_0_13_10_time:214.0  oname:hds_otype:lst_usecol:trgw_0_13_10_time:214.0   \n",
       "...                                                                                                ...   \n",
       "oname:hdsvd_otype:lst_usecol:trgw_0_9_1_time:640.0  oname:hdsvd_otype:lst_usecol:trgw_0_9_1_time:640.0   \n",
       "oname:hdsvd_otype:lst_usecol:trgw_0_9_1_time:671.0  oname:hdsvd_otype:lst_usecol:trgw_0_9_1_time:671.0   \n",
       "oname:hdsvd_otype:lst_usecol:trgw_0_9_1_time:701.0  oname:hdsvd_otype:lst_usecol:trgw_0_9_1_time:701.0   \n",
       "oname:hdsvd_otype:lst_usecol:trgw_0_9_1_time:732.0  oname:hdsvd_otype:lst_usecol:trgw_0_9_1_time:732.0   \n",
       "oname:hdsvd_otype:lst_usecol:trgw_0_9_1_time:92.0    oname:hdsvd_otype:lst_usecol:trgw_0_9_1_time:92.0   \n",
       "\n",
       "                                                       obsval  weight  \\\n",
       "oname:hds_otype:lst_usecol:trgw_0_13_10_time:1.0    34.406181    10.0   \n",
       "oname:hds_otype:lst_usecol:trgw_0_13_10_time:122.0  34.450661    10.0   \n",
       "oname:hds_otype:lst_usecol:trgw_0_13_10_time:153.0  34.441799    10.0   \n",
       "oname:hds_otype:lst_usecol:trgw_0_13_10_time:183.0  34.375622    10.0   \n",
       "oname:hds_otype:lst_usecol:trgw_0_13_10_time:214.0  34.323056    10.0   \n",
       "...                                                       ...     ...   \n",
       "oname:hdsvd_otype:lst_usecol:trgw_0_9_1_time:640.0   0.002537     0.0   \n",
       "oname:hdsvd_otype:lst_usecol:trgw_0_9_1_time:671.0   0.003066     0.0   \n",
       "oname:hdsvd_otype:lst_usecol:trgw_0_9_1_time:701.0   0.002878     0.0   \n",
       "oname:hdsvd_otype:lst_usecol:trgw_0_9_1_time:732.0   0.007718     0.0   \n",
       "oname:hdsvd_otype:lst_usecol:trgw_0_9_1_time:92.0    0.004588   100.0   \n",
       "\n",
       "                                                                                     obgnme  \\\n",
       "oname:hds_otype:lst_usecol:trgw_0_13_10_time:1.0    oname:hds_otype:lst_usecol:trgw_0_13_10   \n",
       "oname:hds_otype:lst_usecol:trgw_0_13_10_time:122.0  oname:hds_otype:lst_usecol:trgw_0_13_10   \n",
       "oname:hds_otype:lst_usecol:trgw_0_13_10_time:153.0  oname:hds_otype:lst_usecol:trgw_0_13_10   \n",
       "oname:hds_otype:lst_usecol:trgw_0_13_10_time:183.0  oname:hds_otype:lst_usecol:trgw_0_13_10   \n",
       "oname:hds_otype:lst_usecol:trgw_0_13_10_time:214.0  oname:hds_otype:lst_usecol:trgw_0_13_10   \n",
       "...                                                                                     ...   \n",
       "oname:hdsvd_otype:lst_usecol:trgw_0_9_1_time:640.0  oname:hdsvd_otype:lst_usecol:trgw_0_9_1   \n",
       "oname:hdsvd_otype:lst_usecol:trgw_0_9_1_time:671.0  oname:hdsvd_otype:lst_usecol:trgw_0_9_1   \n",
       "oname:hdsvd_otype:lst_usecol:trgw_0_9_1_time:701.0  oname:hdsvd_otype:lst_usecol:trgw_0_9_1   \n",
       "oname:hdsvd_otype:lst_usecol:trgw_0_9_1_time:732.0  oname:hdsvd_otype:lst_usecol:trgw_0_9_1   \n",
       "oname:hdsvd_otype:lst_usecol:trgw_0_9_1_time:92.0   oname:hdsvd_otype:lst_usecol:trgw_0_9_1   \n",
       "\n",
       "                                                    oname otype usecol   time  \n",
       "oname:hds_otype:lst_usecol:trgw_0_13_10_time:1.0      hds   lst   trgw    1.0  \n",
       "oname:hds_otype:lst_usecol:trgw_0_13_10_time:122.0    hds   lst   trgw  122.0  \n",
       "oname:hds_otype:lst_usecol:trgw_0_13_10_time:153.0    hds   lst   trgw  153.0  \n",
       "oname:hds_otype:lst_usecol:trgw_0_13_10_time:183.0    hds   lst   trgw  183.0  \n",
       "oname:hds_otype:lst_usecol:trgw_0_13_10_time:214.0    hds   lst   trgw  214.0  \n",
       "...                                                   ...   ...    ...    ...  \n",
       "oname:hdsvd_otype:lst_usecol:trgw_0_9_1_time:640.0  hdsvd   lst   trgw  640.0  \n",
       "oname:hdsvd_otype:lst_usecol:trgw_0_9_1_time:671.0  hdsvd   lst   trgw  671.0  \n",
       "oname:hdsvd_otype:lst_usecol:trgw_0_9_1_time:701.0  hdsvd   lst   trgw  701.0  \n",
       "oname:hdsvd_otype:lst_usecol:trgw_0_9_1_time:732.0  hdsvd   lst   trgw  732.0  \n",
       "oname:hdsvd_otype:lst_usecol:trgw_0_9_1_time:92.0   hdsvd   lst   trgw   92.0  \n",
       "\n",
       "[1775 rows x 8 columns]"
      ]
     },
     "execution_count": 51,
     "metadata": {},
     "output_type": "execute_result"
    }
   ],
   "source": [
    "obs"
   ]
  },
  {
   "cell_type": "markdown",
   "metadata": {},
   "source": [
    "Make sure to re-**write** the PEST control file. But beware, if you re-**build** the `Pst`, all these changes will be lost."
   ]
  },
  {
   "cell_type": "code",
   "execution_count": 52,
   "metadata": {
    "execution": {
     "iopub.execute_input": "2022-03-17T02:52:34.720354Z",
     "iopub.status.busy": "2022-03-17T02:52:34.719357Z",
     "iopub.status.idle": "2022-03-17T02:52:34.965723Z",
     "shell.execute_reply": "2022-03-17T02:52:34.964700Z"
    }
   },
   "outputs": [
    {
     "name": "stdout",
     "output_type": "stream",
     "text": [
      "noptmax:0, npar_adj:25454, nnz_obs:920\n"
     ]
    }
   ],
   "source": [
    "pst.write(os.path.join(template_ws, 'freyberg_mf6.pst'))"
   ]
  },
  {
   "cell_type": "markdown",
   "metadata": {},
   "source": [
    "So that was pretty epic. We now have a (very) high-dimensional PEST interface ready to roll. \n",
    "\n",
    "If you inspect the folder, you will see PEST control file and all the necessary instruction and template files. Because we have >10k parameters, version 2 of the PEST control file was written by default. \n",
    "\n",
    "Shall we check that it works? Let's run PEST once (i.e. with NOPTMAX=0). Now, by default, noptmax is set to zero. But just to check:"
   ]
  },
  {
   "cell_type": "code",
   "execution_count": 53,
   "metadata": {
    "execution": {
     "iopub.execute_input": "2022-03-17T02:52:34.968689Z",
     "iopub.status.busy": "2022-03-17T02:52:34.968689Z",
     "iopub.status.idle": "2022-03-17T02:52:34.970684Z",
     "shell.execute_reply": "2022-03-17T02:52:34.970684Z"
    }
   },
   "outputs": [
    {
     "data": {
      "text/plain": [
       "0"
      ]
     },
     "execution_count": 53,
     "metadata": {},
     "output_type": "execute_result"
    }
   ],
   "source": [
    "pst.control_data.noptmax"
   ]
  },
  {
   "cell_type": "markdown",
   "metadata": {},
   "source": [
    "OK, so when we run PEST it will call the model once and then stop. If the next cell is sucessfull, then eveything is working. Check the folder, you should see PEST output files. (We will go into these and how to process PEST outcomes in subsequent tutorials)."
   ]
  },
  {
   "cell_type": "code",
   "execution_count": 54,
   "metadata": {
    "execution": {
     "iopub.execute_input": "2022-03-17T02:52:34.974672Z",
     "iopub.status.busy": "2022-03-17T02:52:34.973675Z",
     "iopub.status.idle": "2022-03-17T02:52:45.690628Z",
     "shell.execute_reply": "2022-03-17T02:52:45.690628Z"
    }
   },
   "outputs": [],
   "source": [
    "pyemu.os_utils.run('pestpp-glm freyberg_mf6.pst', cwd=template_ws)"
   ]
  },
  {
   "cell_type": "markdown",
   "metadata": {},
   "source": [
    "### 8. Generate Prior Parameter Ensemble\n",
    "\n",
    "Before we go, let's take a look at our prior and sample from it to create a parameter ensemble. We will record the ensemble for future use."
   ]
  },
  {
   "cell_type": "code",
   "execution_count": 55,
   "metadata": {
    "execution": {
     "iopub.execute_input": "2022-03-17T02:52:45.696579Z",
     "iopub.status.busy": "2022-03-17T02:52:45.696579Z",
     "iopub.status.idle": "2022-03-17T02:53:13.227379Z",
     "shell.execute_reply": "2022-03-17T02:53:13.225350Z"
    }
   },
   "outputs": [
    {
     "name": "stdout",
     "output_type": "stream",
     "text": [
      "2022-03-17 13:22:45.827298 starting: building prior covariance matrix\n"
     ]
    },
    {
     "name": "stdout",
     "output_type": "stream",
     "text": [
      "2022-03-17 13:22:56.656995 saving prior covariance matrix to file freyberg6_template\\prior_cov.jcb\n"
     ]
    },
    {
     "name": "stdout",
     "output_type": "stream",
     "text": [
      "2022-03-17 13:23:08.393235 finished: building prior covariance matrix took: 0:00:22.565937\n"
     ]
    },
    {
     "data": {
      "image/png": "[encoded data removed]",
      "text/plain": [
       "<Figure size 432x288 with 1 Axes>"
      ]
     },
     "metadata": {
      "needs_background": "light"
     },
     "output_type": "display_data"
    }
   ],
   "source": [
    "# build the prior covariance matrix and store it as a compresed bianry file (otherwise it can get huge!)\n",
    "if pf.pst.npar < 35000:  #if you have more than about 35K pars, the cov matrix becomes hard to handle\n",
    "    cov = pf.build_prior(fmt='coo', filename=os.path.join(template_ws,\"prior_cov.jcb\"))\n",
    "    # and take a peek at a slice of the matrix\n",
    "    try: \n",
    "        x = cov.x.copy()\n",
    "        x[x==0] = np.NaN\n",
    "        plt.imshow(x[-49:,-49:])\n",
    "    except:\n",
    "        pass"
   ]
  },
  {
   "cell_type": "markdown",
   "metadata": {},
   "source": [
    "And now generate a prior parameter ensemble. This step is relevant for using pestpp-ies in subsequent tutorials."
   ]
  },
  {
   "cell_type": "code",
   "execution_count": 56,
   "metadata": {
    "execution": {
     "iopub.execute_input": "2022-03-17T02:53:13.239312Z",
     "iopub.status.busy": "2022-03-17T02:53:13.234326Z",
     "iopub.status.idle": "2022-03-17T02:53:26.720136Z",
     "shell.execute_reply": "2022-03-17T02:53:26.719105Z"
    }
   },
   "outputs": [
    {
     "name": "stdout",
     "output_type": "stream",
     "text": [
      "2022-03-17 13:23:13.233362 starting: drawing realizations\n",
      "2022-03-17 13:23:13.428805 starting: spectral simulation for grid-scale pars\n"
     ]
    },
    {
     "name": "stdout",
     "output_type": "stream",
     "text": [
      "SpecSim.initialize() summary: full_delx X full_dely: 72 X 72\n",
      "2022-03-17 13:23:13.715040 starting: SpecSim: drawing 100 realization for group npf_k_layer1_gr with 706 pars, (log) variance 0.054284340773499334 (sill 0.054284340773499334)\n",
      "SpecSim.initialize() summary: full_delx X full_dely: 72 X 72\n"
     ]
    },
    {
     "name": "stdout",
     "output_type": "stream",
     "text": [
      "2022-03-17 13:23:13.775432 finished: SpecSim: drawing 100 realization for group npf_k_layer1_gr with 706 pars, (log) variance 0.054284340773499334 (sill 0.054284340773499334) took: 0:00:00.060392\n",
      "2022-03-17 13:23:13.779422 starting: SpecSim: drawing 100 realization for group npf_k_layer2_gr with 706 pars, (log) variance 0.054284340773499334 (sill 0.054284340773499334)\n",
      "SpecSim.initialize() summary: full_delx X full_dely: 72 X 72\n",
      "2022-03-17 13:23:13.827294 finished: SpecSim: drawing 100 realization for group npf_k_layer2_gr with 706 pars, (log) variance 0.054284340773499334 (sill 0.054284340773499334) took: 0:00:00.047872\n",
      "2022-03-17 13:23:13.832280 starting: SpecSim: drawing 100 realization for group npf_k_layer3_gr with 706 pars, (log) variance 0.054284340773499334 (sill 0.054284340773499334)\n",
      "SpecSim.initialize() summary: full_delx X full_dely: 72 X 72\n",
      "2022-03-17 13:23:13.881150 finished: SpecSim: drawing 100 realization for group npf_k_layer3_gr with 706 pars, (log) variance 0.054284340773499334 (sill 0.054284340773499334) took: 0:00:00.048870\n",
      "2022-03-17 13:23:13.886136 starting: SpecSim: drawing 100 realization for group npf_k33_layer1_gr with 706 pars, (log) variance 0.054284340773499334 (sill 0.054284340773499334)\n",
      "SpecSim.initialize() summary: full_delx X full_dely: 72 X 72\n",
      "2022-03-17 13:23:13.935040 finished: SpecSim: drawing 100 realization for group npf_k33_layer1_gr with 706 pars, (log) variance 0.054284340773499334 (sill 0.054284340773499334) took: 0:00:00.048904\n",
      "2022-03-17 13:23:13.939993 starting: SpecSim: drawing 100 realization for group npf_k33_layer2_gr with 706 pars, (log) variance 0.054284340773499334 (sill 0.054284340773499334)\n",
      "SpecSim.initialize() summary: full_delx X full_dely: 72 X 72\n"
     ]
    },
    {
     "name": "stdout",
     "output_type": "stream",
     "text": [
      "2022-03-17 13:23:13.988114 finished: SpecSim: drawing 100 realization for group npf_k33_layer2_gr with 706 pars, (log) variance 0.054284340773499334 (sill 0.054284340773499334) took: 0:00:00.048121\n",
      "2022-03-17 13:23:13.992887 starting: SpecSim: drawing 100 realization for group npf_k33_layer3_gr with 706 pars, (log) variance 0.054284340773499334 (sill 0.054284340773499334)\n",
      "SpecSim.initialize() summary: full_delx X full_dely: 72 X 72\n",
      "2022-03-17 13:23:14.038457 finished: SpecSim: drawing 100 realization for group npf_k33_layer3_gr with 706 pars, (log) variance 0.054284340773499334 (sill 0.054284340773499334) took: 0:00:00.045570\n",
      "2022-03-17 13:23:14.043595 starting: SpecSim: drawing 100 realization for group sto_ss_layer2_gr with 706 pars, (log) variance 0.054284340773499334 (sill 0.054284340773499334)\n",
      "SpecSim.initialize() summary: full_delx X full_dely: 72 X 72\n",
      "2022-03-17 13:23:14.089940 finished: SpecSim: drawing 100 realization for group sto_ss_layer2_gr with 706 pars, (log) variance 0.054284340773499334 (sill 0.054284340773499334) took: 0:00:00.046345\n",
      "2022-03-17 13:23:14.095975 starting: SpecSim: drawing 100 realization for group sto_ss_layer3_gr with 706 pars, (log) variance 0.054284340773499334 (sill 0.054284340773499334)\n",
      "SpecSim.initialize() summary: full_delx X full_dely: 72 X 72\n",
      "2022-03-17 13:23:14.141949 finished: SpecSim: drawing 100 realization for group sto_ss_layer3_gr with 706 pars, (log) variance 0.054284340773499334 (sill 0.054284340773499334) took: 0:00:00.045974\n",
      "2022-03-17 13:23:14.147934 starting: SpecSim: drawing 100 realization for group sto_sy_layer1_gr with 706 pars, (log) variance 0.054284340773499334 (sill 0.054284340773499334)\n",
      "SpecSim.initialize() summary: full_delx X full_dely: 72 X 72\n"
     ]
    },
    {
     "name": "stdout",
     "output_type": "stream",
     "text": [
      "2022-03-17 13:23:14.194049 finished: SpecSim: drawing 100 realization for group sto_sy_layer1_gr with 706 pars, (log) variance 0.054284340773499334 (sill 0.054284340773499334) took: 0:00:00.046115\n",
      "2022-03-17 13:23:14.199037 starting: SpecSim: drawing 100 realization for group rch_recharge_1_gr with 706 pars, (log) variance 0.054284340773499334 (sill 0.054284340773499334)\n",
      "SpecSim.initialize() summary: full_delx X full_dely: 72 X 72\n",
      "2022-03-17 13:23:14.244913 finished: SpecSim: drawing 100 realization for group rch_recharge_1_gr with 706 pars, (log) variance 0.054284340773499334 (sill 0.054284340773499334) took: 0:00:00.045876\n",
      "2022-03-17 13:23:14.248958 starting: SpecSim: drawing 100 realization for group rch_recharge_10_gr with 706 pars, (log) variance 0.054284340773499334 (sill 0.054284340773499334)\n",
      "SpecSim.initialize() summary: full_delx X full_dely: 72 X 72\n",
      "2022-03-17 13:23:14.296426 finished: SpecSim: drawing 100 realization for group rch_recharge_10_gr with 706 pars, (log) variance 0.054284340773499334 (sill 0.054284340773499334) took: 0:00:00.047468\n",
      "2022-03-17 13:23:14.301410 starting: SpecSim: drawing 100 realization for group rch_recharge_11_gr with 706 pars, (log) variance 0.054284340773499334 (sill 0.054284340773499334)\n",
      "SpecSim.initialize() summary: full_delx X full_dely: 72 X 72\n",
      "2022-03-17 13:23:14.349356 finished: SpecSim: drawing 100 realization for group rch_recharge_11_gr with 706 pars, (log) variance 0.054284340773499334 (sill 0.054284340773499334) took: 0:00:00.047946\n",
      "2022-03-17 13:23:14.353314 starting: SpecSim: drawing 100 realization for group rch_recharge_12_gr with 706 pars, (log) variance 0.054284340773499334 (sill 0.054284340773499334)\n",
      "SpecSim.initialize() summary: full_delx X full_dely: 72 X 72\n"
     ]
    },
    {
     "name": "stdout",
     "output_type": "stream",
     "text": [
      "2022-03-17 13:23:14.399190 finished: SpecSim: drawing 100 realization for group rch_recharge_12_gr with 706 pars, (log) variance 0.054284340773499334 (sill 0.054284340773499334) took: 0:00:00.045876\n",
      "2022-03-17 13:23:14.403708 starting: SpecSim: drawing 100 realization for group rch_recharge_13_gr with 706 pars, (log) variance 0.054284340773499334 (sill 0.054284340773499334)\n",
      "SpecSim.initialize() summary: full_delx X full_dely: 72 X 72\n",
      "2022-03-17 13:23:14.449602 finished: SpecSim: drawing 100 realization for group rch_recharge_13_gr with 706 pars, (log) variance 0.054284340773499334 (sill 0.054284340773499334) took: 0:00:00.045894\n",
      "2022-03-17 13:23:14.453582 starting: SpecSim: drawing 100 realization for group rch_recharge_14_gr with 706 pars, (log) variance 0.054284340773499334 (sill 0.054284340773499334)\n",
      "SpecSim.initialize() summary: full_delx X full_dely: 72 X 72\n",
      "2022-03-17 13:23:14.501421 finished: SpecSim: drawing 100 realization for group rch_recharge_14_gr with 706 pars, (log) variance 0.054284340773499334 (sill 0.054284340773499334) took: 0:00:00.047839\n",
      "2022-03-17 13:23:14.505410 starting: SpecSim: drawing 100 realization for group rch_recharge_15_gr with 706 pars, (log) variance 0.054284340773499334 (sill 0.054284340773499334)\n",
      "SpecSim.initialize() summary: full_delx X full_dely: 72 X 72\n",
      "2022-03-17 13:23:14.556274 finished: SpecSim: drawing 100 realization for group rch_recharge_15_gr with 706 pars, (log) variance 0.054284340773499334 (sill 0.054284340773499334) took: 0:00:00.050864\n",
      "2022-03-17 13:23:14.561261 starting: SpecSim: drawing 100 realization for group rch_recharge_16_gr with 706 pars, (log) variance 0.054284340773499334 (sill 0.054284340773499334)\n",
      "SpecSim.initialize() summary: full_delx X full_dely: 72 X 72\n"
     ]
    },
    {
     "name": "stdout",
     "output_type": "stream",
     "text": [
      "2022-03-17 13:23:14.607138 finished: SpecSim: drawing 100 realization for group rch_recharge_16_gr with 706 pars, (log) variance 0.054284340773499334 (sill 0.054284340773499334) took: 0:00:00.045877\n",
      "2022-03-17 13:23:14.611128 starting: SpecSim: drawing 100 realization for group rch_recharge_17_gr with 706 pars, (log) variance 0.054284340773499334 (sill 0.054284340773499334)\n",
      "SpecSim.initialize() summary: full_delx X full_dely: 72 X 72\n",
      "2022-03-17 13:23:14.658036 finished: SpecSim: drawing 100 realization for group rch_recharge_17_gr with 706 pars, (log) variance 0.054284340773499334 (sill 0.054284340773499334) took: 0:00:00.046908\n",
      "2022-03-17 13:23:14.661992 starting: SpecSim: drawing 100 realization for group rch_recharge_18_gr with 706 pars, (log) variance 0.054284340773499334 (sill 0.054284340773499334)\n",
      "SpecSim.initialize() summary: full_delx X full_dely: 72 X 72\n",
      "2022-03-17 13:23:14.707895 finished: SpecSim: drawing 100 realization for group rch_recharge_18_gr with 706 pars, (log) variance 0.054284340773499334 (sill 0.054284340773499334) took: 0:00:00.045903\n",
      "2022-03-17 13:23:14.711859 starting: SpecSim: drawing 100 realization for group rch_recharge_19_gr with 706 pars, (log) variance 0.054284340773499334 (sill 0.054284340773499334)\n",
      "SpecSim.initialize() summary: full_delx X full_dely: 72 X 72\n",
      "2022-03-17 13:23:14.757777 finished: SpecSim: drawing 100 realization for group rch_recharge_19_gr with 706 pars, (log) variance 0.054284340773499334 (sill 0.054284340773499334) took: 0:00:00.045918\n",
      "2022-03-17 13:23:14.761728 starting: SpecSim: drawing 100 realization for group rch_recharge_2_gr with 706 pars, (log) variance 0.054284340773499334 (sill 0.054284340773499334)\n",
      "SpecSim.initialize() summary: full_delx X full_dely: 72 X 72\n"
     ]
    },
    {
     "name": "stdout",
     "output_type": "stream",
     "text": [
      "2022-03-17 13:23:14.810594 finished: SpecSim: drawing 100 realization for group rch_recharge_2_gr with 706 pars, (log) variance 0.054284340773499334 (sill 0.054284340773499334) took: 0:00:00.048866\n",
      "2022-03-17 13:23:14.815582 starting: SpecSim: drawing 100 realization for group rch_recharge_20_gr with 706 pars, (log) variance 0.054284340773499334 (sill 0.054284340773499334)\n",
      "SpecSim.initialize() summary: full_delx X full_dely: 72 X 72\n",
      "2022-03-17 13:23:14.861509 finished: SpecSim: drawing 100 realization for group rch_recharge_20_gr with 706 pars, (log) variance 0.054284340773499334 (sill 0.054284340773499334) took: 0:00:00.045927\n",
      "2022-03-17 13:23:14.865481 starting: SpecSim: drawing 100 realization for group rch_recharge_21_gr with 706 pars, (log) variance 0.054284340773499334 (sill 0.054284340773499334)\n",
      "SpecSim.initialize() summary: full_delx X full_dely: 72 X 72\n",
      "2022-03-17 13:23:14.912357 finished: SpecSim: drawing 100 realization for group rch_recharge_21_gr with 706 pars, (log) variance 0.054284340773499334 (sill 0.054284340773499334) took: 0:00:00.046876\n",
      "2022-03-17 13:23:14.917309 starting: SpecSim: drawing 100 realization for group rch_recharge_22_gr with 706 pars, (log) variance 0.054284340773499334 (sill 0.054284340773499334)\n",
      "SpecSim.initialize() summary: full_delx X full_dely: 72 X 72\n",
      "2022-03-17 13:23:14.963221 finished: SpecSim: drawing 100 realization for group rch_recharge_22_gr with 706 pars, (log) variance 0.054284340773499334 (sill 0.054284340773499334) took: 0:00:00.045912\n",
      "2022-03-17 13:23:14.968173 starting: SpecSim: drawing 100 realization for group rch_recharge_23_gr with 706 pars, (log) variance 0.054284340773499334 (sill 0.054284340773499334)\n",
      "SpecSim.initialize() summary: full_delx X full_dely: 72 X 72\n"
     ]
    },
    {
     "name": "stdout",
     "output_type": "stream",
     "text": [
      "2022-03-17 13:23:15.014051 finished: SpecSim: drawing 100 realization for group rch_recharge_23_gr with 706 pars, (log) variance 0.054284340773499334 (sill 0.054284340773499334) took: 0:00:00.045878\n",
      "2022-03-17 13:23:15.019038 starting: SpecSim: drawing 100 realization for group rch_recharge_24_gr with 706 pars, (log) variance 0.054284340773499334 (sill 0.054284340773499334)\n",
      "SpecSim.initialize() summary: full_delx X full_dely: 72 X 72\n",
      "2022-03-17 13:23:15.064968 finished: SpecSim: drawing 100 realization for group rch_recharge_24_gr with 706 pars, (log) variance 0.054284340773499334 (sill 0.054284340773499334) took: 0:00:00.045930\n",
      "2022-03-17 13:23:15.068961 starting: SpecSim: drawing 100 realization for group rch_recharge_25_gr with 706 pars, (log) variance 0.054284340773499334 (sill 0.054284340773499334)\n",
      "SpecSim.initialize() summary: full_delx X full_dely: 72 X 72\n",
      "2022-03-17 13:23:15.113783 finished: SpecSim: drawing 100 realization for group rch_recharge_25_gr with 706 pars, (log) variance 0.054284340773499334 (sill 0.054284340773499334) took: 0:00:00.044822\n",
      "2022-03-17 13:23:15.118770 starting: SpecSim: drawing 100 realization for group rch_recharge_3_gr with 706 pars, (log) variance 0.054284340773499334 (sill 0.054284340773499334)\n",
      "SpecSim.initialize() summary: full_delx X full_dely: 72 X 72\n",
      "2022-03-17 13:23:15.165646 finished: SpecSim: drawing 100 realization for group rch_recharge_3_gr with 706 pars, (log) variance 0.054284340773499334 (sill 0.054284340773499334) took: 0:00:00.046876\n",
      "2022-03-17 13:23:15.170667 starting: SpecSim: drawing 100 realization for group rch_recharge_4_gr with 706 pars, (log) variance 0.054284340773499334 (sill 0.054284340773499334)\n",
      "SpecSim.initialize() summary: full_delx X full_dely: 72 X 72\n"
     ]
    },
    {
     "name": "stdout",
     "output_type": "stream",
     "text": [
      "2022-03-17 13:23:15.216541 finished: SpecSim: drawing 100 realization for group rch_recharge_4_gr with 706 pars, (log) variance 0.054284340773499334 (sill 0.054284340773499334) took: 0:00:00.045874\n",
      "2022-03-17 13:23:15.221495 starting: SpecSim: drawing 100 realization for group rch_recharge_5_gr with 706 pars, (log) variance 0.054284340773499334 (sill 0.054284340773499334)\n",
      "SpecSim.initialize() summary: full_delx X full_dely: 72 X 72\n",
      "2022-03-17 13:23:15.265411 finished: SpecSim: drawing 100 realization for group rch_recharge_5_gr with 706 pars, (log) variance 0.054284340773499334 (sill 0.054284340773499334) took: 0:00:00.043916\n",
      "2022-03-17 13:23:15.270365 starting: SpecSim: drawing 100 realization for group rch_recharge_6_gr with 706 pars, (log) variance 0.054284340773499334 (sill 0.054284340773499334)\n",
      "SpecSim.initialize() summary: full_delx X full_dely: 72 X 72\n",
      "2022-03-17 13:23:15.315298 finished: SpecSim: drawing 100 realization for group rch_recharge_6_gr with 706 pars, (log) variance 0.054284340773499334 (sill 0.054284340773499334) took: 0:00:00.044933\n",
      "2022-03-17 13:23:15.319276 starting: SpecSim: drawing 100 realization for group rch_recharge_7_gr with 706 pars, (log) variance 0.054284340773499334 (sill 0.054284340773499334)\n",
      "SpecSim.initialize() summary: full_delx X full_dely: 72 X 72\n",
      "2022-03-17 13:23:15.363170 finished: SpecSim: drawing 100 realization for group rch_recharge_7_gr with 706 pars, (log) variance 0.054284340773499334 (sill 0.054284340773499334) took: 0:00:00.043894\n",
      "2022-03-17 13:23:15.367107 starting: SpecSim: drawing 100 realization for group rch_recharge_8_gr with 706 pars, (log) variance 0.054284340773499334 (sill 0.054284340773499334)\n",
      "SpecSim.initialize() summary: full_delx X full_dely: 72 X 72\n"
     ]
    },
    {
     "name": "stdout",
     "output_type": "stream",
     "text": [
      "2022-03-17 13:23:15.412983 finished: SpecSim: drawing 100 realization for group rch_recharge_8_gr with 706 pars, (log) variance 0.054284340773499334 (sill 0.054284340773499334) took: 0:00:00.045876\n",
      "2022-03-17 13:23:15.417970 starting: SpecSim: drawing 100 realization for group rch_recharge_9_gr with 706 pars, (log) variance 0.054284340773499334 (sill 0.054284340773499334)\n",
      "SpecSim.initialize() summary: full_delx X full_dely: 72 X 72\n",
      "2022-03-17 13:23:15.464845 finished: SpecSim: drawing 100 realization for group rch_recharge_9_gr with 706 pars, (log) variance 0.054284340773499334 (sill 0.054284340773499334) took: 0:00:00.046875\n",
      "SpecSim.initialize() summary: full_delx X full_dely: 72 X 72\n"
     ]
    },
    {
     "name": "stdout",
     "output_type": "stream",
     "text": [
      "2022-03-17 13:23:15.695690 finished: spectral simulation for grid-scale pars took: 0:00:02.266885\n",
      "2022-03-17 13:23:15.695690 starting: Drawing non-specsim pars\n",
      "building diagonal cov\n"
     ]
    },
    {
     "name": "stdout",
     "output_type": "stream",
     "text": [
      "processing  name:struct1,nugget:0.0,structures:\n",
      "name:var1,contribution:1.0,a:1000.0,anisotropy:1.0,bearing:0.0\n",
      "\n",
      "working on pargroups ['npf_k_layer1_pp']\n",
      "build cov matrix\n",
      "done\n",
      "getting diag var cov 32\n",
      "scaling full cov by diag var cov\n",
      "working on pargroups ['npf_k_layer2_pp']\n",
      "build cov matrix\n",
      "done\n",
      "getting diag var cov 32\n",
      "scaling full cov by diag var cov\n"
     ]
    },
    {
     "name": "stdout",
     "output_type": "stream",
     "text": [
      "working on pargroups ['npf_k_layer3_pp']\n",
      "build cov matrix\n",
      "done\n",
      "getting diag var cov 32\n",
      "scaling full cov by diag var cov\n",
      "working on pargroups ['npf_k33_layer1_pp']\n",
      "build cov matrix\n",
      "done\n",
      "getting diag var cov 32\n",
      "scaling full cov by diag var cov\n"
     ]
    },
    {
     "name": "stdout",
     "output_type": "stream",
     "text": [
      "working on pargroups ['npf_k33_layer2_pp']\n",
      "build cov matrix\n",
      "done\n",
      "getting diag var cov 32\n",
      "scaling full cov by diag var cov\n",
      "working on pargroups ['npf_k33_layer3_pp']\n",
      "build cov matrix\n",
      "done\n",
      "getting diag var cov 32\n",
      "scaling full cov by diag var cov\n"
     ]
    },
    {
     "name": "stdout",
     "output_type": "stream",
     "text": [
      "working on pargroups ['sto_ss_layer2_pp']\n",
      "build cov matrix\n",
      "done\n",
      "getting diag var cov 32\n",
      "scaling full cov by diag var cov\n",
      "working on pargroups ['sto_ss_layer3_pp']\n",
      "build cov matrix\n",
      "done\n",
      "getting diag var cov 32\n",
      "scaling full cov by diag var cov\n"
     ]
    },
    {
     "name": "stdout",
     "output_type": "stream",
     "text": [
      "working on pargroups ['sto_sy_layer1_pp']\n",
      "build cov matrix\n",
      "done\n",
      "getting diag var cov 32\n",
      "scaling full cov by diag var cov\n",
      "working on pargroups ['rch_recharge_1_pp']\n",
      "build cov matrix\n",
      "done\n",
      "getting diag var cov 32\n",
      "scaling full cov by diag var cov\n"
     ]
    },
    {
     "name": "stdout",
     "output_type": "stream",
     "text": [
      "working on pargroups ['rch_recharge_10_pp']\n",
      "build cov matrix\n",
      "done\n",
      "getting diag var cov 32\n",
      "scaling full cov by diag var cov\n",
      "working on pargroups ['rch_recharge_11_pp']\n",
      "build cov matrix\n",
      "done\n",
      "getting diag var cov 32\n",
      "scaling full cov by diag var cov\n"
     ]
    },
    {
     "name": "stdout",
     "output_type": "stream",
     "text": [
      "working on pargroups ['rch_recharge_12_pp']\n",
      "build cov matrix\n",
      "done\n",
      "getting diag var cov 32\n",
      "scaling full cov by diag var cov\n",
      "working on pargroups ['rch_recharge_13_pp']\n",
      "build cov matrix\n",
      "done\n",
      "getting diag var cov 32\n",
      "scaling full cov by diag var cov\n"
     ]
    },
    {
     "name": "stdout",
     "output_type": "stream",
     "text": [
      "working on pargroups ['rch_recharge_14_pp']\n",
      "build cov matrix\n",
      "done\n",
      "getting diag var cov 32\n",
      "scaling full cov by diag var cov\n",
      "working on pargroups ['rch_recharge_15_pp']\n",
      "build cov matrix\n",
      "done\n",
      "getting diag var cov 32\n",
      "scaling full cov by diag var cov\n"
     ]
    },
    {
     "name": "stdout",
     "output_type": "stream",
     "text": [
      "working on pargroups ['rch_recharge_16_pp']\n",
      "build cov matrix\n",
      "done\n",
      "getting diag var cov 32\n",
      "scaling full cov by diag var cov\n",
      "working on pargroups ['rch_recharge_17_pp']\n",
      "build cov matrix\n",
      "done\n",
      "getting diag var cov 32\n",
      "scaling full cov by diag var cov\n"
     ]
    },
    {
     "name": "stdout",
     "output_type": "stream",
     "text": [
      "working on pargroups ['rch_recharge_18_pp']\n",
      "build cov matrix\n",
      "done\n",
      "getting diag var cov 32\n",
      "scaling full cov by diag var cov\n",
      "working on pargroups ['rch_recharge_19_pp']\n",
      "build cov matrix\n",
      "done\n",
      "getting diag var cov 32\n",
      "scaling full cov by diag var cov\n"
     ]
    },
    {
     "name": "stdout",
     "output_type": "stream",
     "text": [
      "working on pargroups ['rch_recharge_2_pp']\n",
      "build cov matrix\n",
      "done\n",
      "getting diag var cov 32\n",
      "scaling full cov by diag var cov\n",
      "working on pargroups ['rch_recharge_20_pp']\n",
      "build cov matrix\n",
      "done\n",
      "getting diag var cov 32\n",
      "scaling full cov by diag var cov\n"
     ]
    },
    {
     "name": "stdout",
     "output_type": "stream",
     "text": [
      "working on pargroups ['rch_recharge_21_pp']\n",
      "build cov matrix\n",
      "done\n",
      "getting diag var cov 32\n",
      "scaling full cov by diag var cov\n",
      "working on pargroups ['rch_recharge_22_pp']\n",
      "build cov matrix\n",
      "done\n",
      "getting diag var cov 32\n",
      "scaling full cov by diag var cov\n"
     ]
    },
    {
     "name": "stdout",
     "output_type": "stream",
     "text": [
      "working on pargroups ['rch_recharge_23_pp']\n",
      "build cov matrix\n",
      "done\n",
      "getting diag var cov 32\n",
      "scaling full cov by diag var cov\n",
      "working on pargroups ['rch_recharge_24_pp']\n",
      "build cov matrix\n",
      "done\n",
      "getting diag var cov 32\n",
      "scaling full cov by diag var cov\n"
     ]
    },
    {
     "name": "stdout",
     "output_type": "stream",
     "text": [
      "working on pargroups ['rch_recharge_25_pp']\n",
      "build cov matrix\n",
      "done\n",
      "getting diag var cov 32\n",
      "scaling full cov by diag var cov\n",
      "working on pargroups ['rch_recharge_3_pp']\n",
      "build cov matrix\n",
      "done\n",
      "getting diag var cov 32\n",
      "scaling full cov by diag var cov\n"
     ]
    },
    {
     "name": "stdout",
     "output_type": "stream",
     "text": [
      "working on pargroups ['rch_recharge_4_pp']\n",
      "build cov matrix\n",
      "done\n",
      "getting diag var cov 32\n",
      "scaling full cov by diag var cov\n",
      "working on pargroups ['rch_recharge_5_pp']\n",
      "build cov matrix\n",
      "done\n",
      "getting diag var cov 32\n",
      "scaling full cov by diag var cov\n"
     ]
    },
    {
     "name": "stdout",
     "output_type": "stream",
     "text": [
      "working on pargroups ['rch_recharge_6_pp']\n",
      "build cov matrix\n",
      "done\n",
      "getting diag var cov 32\n",
      "scaling full cov by diag var cov\n",
      "working on pargroups ['rch_recharge_7_pp']\n",
      "build cov matrix\n",
      "done\n",
      "getting diag var cov 32\n",
      "scaling full cov by diag var cov\n",
      "working on pargroups ['rch_recharge_8_pp']\n"
     ]
    },
    {
     "name": "stdout",
     "output_type": "stream",
     "text": [
      "build cov matrix\n",
      "done\n",
      "getting diag var cov 32\n",
      "scaling full cov by diag var cov\n",
      "working on pargroups ['rch_recharge_9_pp']\n",
      "build cov matrix\n",
      "done\n",
      "getting diag var cov 32\n",
      "scaling full cov by diag var cov\n"
     ]
    },
    {
     "name": "stdout",
     "output_type": "stream",
     "text": [
      "working on pargroups ['ghbcond_gr']\n",
      "build cov matrix\n",
      "done\n",
      "getting diag var cov 10\n",
      "scaling full cov by diag var cov\n",
      "working on pargroups ['ghbcond_gr']\n",
      "build cov matrix\n",
      "done\n",
      "getting diag var cov 10\n",
      "scaling full cov by diag var cov\n",
      "working on pargroups ['ghbcond_gr']\n"
     ]
    },
    {
     "name": "stdout",
     "output_type": "stream",
     "text": [
      "build cov matrix\n",
      "done\n",
      "getting diag var cov 10\n",
      "scaling full cov by diag var cov\n",
      "working on pargroups ['sfrcond_gr']\n",
      "build cov matrix\n",
      "done\n",
      "getting diag var cov 40\n",
      "scaling full cov by diag var cov\n",
      "processing  name:struct1,nugget:0.0,structures:\n",
      "name:var1,contribution:1.0,a:60.0,anisotropy:1.0,bearing:0.0\n",
      "\n",
      "working on pargroups ['wel_cst']\n",
      "build cov matrix\n"
     ]
    },
    {
     "name": "stdout",
     "output_type": "stream",
     "text": [
      "done\n",
      "getting diag var cov 25\n",
      "scaling full cov by diag var cov\n",
      "working on pargroups ['sfr_gr']\n",
      "build cov matrix\n",
      "done\n",
      "getting diag var cov 25\n",
      "scaling full cov by diag var cov\n",
      "processing  name:struct1,nugget:0.0,structures:\n",
      "name:var1,contribution:1.0,a:1000.0,anisotropy:1.0,bearing:0.0\n",
      "\n"
     ]
    },
    {
     "name": "stdout",
     "output_type": "stream",
     "text": [
      "working on pargroups ['ghbhead_gr']\n",
      "build cov matrix\n",
      "done\n",
      "getting diag var cov 10\n",
      "scaling full cov by diag var cov\n",
      "working on pargroups ['ghbhead_gr']\n",
      "build cov matrix\n",
      "done\n",
      "getting diag var cov 10\n",
      "scaling full cov by diag var cov\n",
      "working on pargroups ['ghbhead_gr']\n",
      "build cov matrix\n",
      "done\n",
      "getting diag var cov 10\n",
      "scaling full cov by diag var cov\n"
     ]
    },
    {
     "name": "stdout",
     "output_type": "stream",
     "text": [
      "adding remaining parameters to diagonal\n"
     ]
    },
    {
     "name": "stdout",
     "output_type": "stream",
     "text": [
      "2022-03-17 13:23:23.443250 finished: Drawing non-specsim pars took: 0:00:07.747560\n"
     ]
    },
    {
     "name": "stdout",
     "output_type": "stream",
     "text": [
      "2022-03-17 13:23:25.578289 finished: drawing realizations took: 0:00:12.344927\n"
     ]
    },
    {
     "name": "stdout",
     "output_type": "stream",
     "text": [
      "noptmax:0, npar_adj:25454, nnz_obs:920\n"
     ]
    }
   ],
   "source": [
    "pe = pf.draw(num_reals=100, use_specsim=True) # draw parameters from the prior distribution\n",
    "pe.enforce() # enforces parameter bounds\n",
    "pe.to_binary(os.path.join(template_ws,\"prior_pe.jcb\")) #writes the paramter ensemble to binary file\n",
    "\n",
    "# final tidy-up\n",
    "pst.pestpp_options[\"ies_parameter_ensemble\"] = \"prior_pe.jcb\" #adds pest++ options to the control file\n",
    "pst.write(os.path.join(template_ws, 'freyberg_mf6.pst')) # re-writes the control file with the new pest++ options"
   ]
  }
 ],
 "metadata": {
  "interpreter": {
   "hash": "b3ba2566441a7c06988d0923437866b63cedc61552a5af99d1f4fb67d367b25f"
  },
  "kernelspec": {
   "display_name": "Python 3 (ipykernel)",
   "language": "python",
   "name": "python3"
  },
  "language_info": {
   "codemirror_mode": {
    "name": "ipython",
    "version": 3
   },
   "file_extension": ".py",
   "mimetype": "text/x-python",
   "name": "python",
   "nbconvert_exporter": "python",
   "pygments_lexer": "ipython3",
   "version": "3.7.9"
  }
 },
 "nbformat": 4,
 "nbformat_minor": 2
}
