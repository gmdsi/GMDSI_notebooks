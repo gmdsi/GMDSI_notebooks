{
 "cells": [
  {
   "cell_type": "markdown",
   "metadata": {},
   "source": [
    "# Setup the PEST(++) interface around the modified Freyberg model\n",
    "\n",
    "In this notebook, we will construct a complex model independent (non-intrusive) interface around an existing `MODFLOW6` model using `pyEMU`. We assume that the reader is at least partially familiar with PEST(++) file formats and working philosophy. \n",
    "\n",
    "The modified Freyberg groundwater flow model has been constructed and is described in a previous notebook from this series. We will construct the entire PEST(++) interface from scratch here. This setup will be built upon in subsequent tutorials. \n",
    "\n",
    "We will rely heavily on the `pyemu.PstFrom` class. Although here we employ it with a `MODFLOW6` model, `PstFrom` is designed to be general and software independent (mostly). Some features are only available for `MODFLOW` models (e.g. `SpatialReference`).\n",
    "\n",
    "The `PstFrom` class automates the construction of high-dimensional PEST(++) interfaces with all the bells and whistles. It provides easy-to-use functions to process model input and output files into PEST(++) datasets. It can assist with setting up spatio-temporaly varying parameters. It handles the generation of geostatisical prior covariance matrices and ensembles. It automates writting a \"model run\" script. It provides tools to add custom pre- and post-processing functions to this script. It makes adding tweaks and fixes to the PEST(++) interface a breeze. All of this from the comfort of your favourite Python IDE.\n",
    "\n",
    "During this tutorial we are going to construct a PEST dataset. Amongst other things, we will demonstrate:\n",
    " - how to add observations & parameters from model output & input files;\n",
    " - how to add pre- and post-processing functions to the \"model run\" script;\n",
    " - how to generate geostatistical structures for spatialy and temporally correlated parameters;\n",
    " - how to edit parameter/observation data sections;\n",
    " - how to generate a prior parameter covariance matrix and prior parameter ensemble;\n",
    "\n",
    "\n",
    "\n",
    "First, let's get our model files and sort out some admin.\n"
   ]
  },
  {
   "cell_type": "markdown",
   "metadata": {},
   "source": [
    "### 1. Admin & Organize Folders\n",
    "First some admin. Load the dependencies and organize model folders. "
   ]
  },
  {
   "cell_type": "code",
   "execution_count": 1,
   "metadata": {
    "execution": {
     "iopub.execute_input": "2022-03-15T05:20:28.529742Z",
     "iopub.status.busy": "2022-03-15T05:20:28.528744Z",
     "iopub.status.idle": "2022-03-15T05:20:29.764200Z",
     "shell.execute_reply": "2022-03-15T05:20:29.763197Z"
    }
   },
   "outputs": [],
   "source": [
    "import sys\n",
    "import os\n",
    "import shutil\n",
    "import platform\n",
    "import warnings\n",
    "warnings.filterwarnings(\"ignore\")\n",
    "warnings.filterwarnings(\"ignore\", category=DeprecationWarning) \n",
    "import pyemu\n",
    "import flopy\n",
    "import pandas as pd\n",
    "import numpy as np\n",
    "import matplotlib.pyplot as plt;"
   ]
  },
  {
   "cell_type": "markdown",
   "metadata": {},
   "source": [
    "We will be calling a few external programs throughout this tutorial. Namely, MODFLOW 6 and PEST++GLM. For the purposes of the tutorial(s), we have included executables in the tutorial repository. They are in the `bin` folder. \n",
    "\n",
    "Preferably, executables should be located in a folder that is cited in your computer’s PATH environment variable. Doing so allows you to run them from a command prompt open to any other folder without having to include the full path to these executables in the command to run them. \n",
    "\n",
    "Sometimes this may not be practical. In such cases, we can simply place the executables in the folder from which they will be executed.  So, let's copy the necessary executables into our working folder:\n"
   ]
  },
  {
   "cell_type": "code",
   "execution_count": 2,
   "metadata": {
    "execution": {
     "iopub.execute_input": "2022-03-15T05:20:29.771143Z",
     "iopub.status.busy": "2022-03-15T05:20:29.771143Z",
     "iopub.status.idle": "2022-03-15T05:20:30.013857Z",
     "shell.execute_reply": "2022-03-15T05:20:30.014829Z"
    }
   },
   "outputs": [],
   "source": [
    "# specify a temporary folder; we will gather all our model and executable files here first\n",
    "# this is to ensure we don't mess up our original model files\n",
    "tmp_d = os.path.join('freyberg_mf6')\n",
    "\n",
    "# get the necessary executables; OS agnostic\n",
    "bin_dir = os.path.join('..','..','bin')\n",
    "\n",
    "if \"window\" in platform.platform().lower():\n",
    "    exe_files = [f for f in os.listdir(bin_dir) if f.endswith('exe')]\n",
    "else:\n",
    "    exe_files = [f for f in os.listdir(bin_dir) if not f.endswith('exe')]\n",
    "\n",
    "# remove existing folder if it already exists\n",
    "if os.path.exists(tmp_d):\n",
    "    shutil.rmtree(tmp_d)\n",
    "\n",
    "# make the folder\n",
    "os.mkdir(tmp_d)\n",
    "\n",
    "# copy executables across\n",
    "for exe_file in exe_files:\n",
    "    shutil.copy2(os.path.join(bin_dir, exe_file),os.path.join(tmp_d,exe_file))"
   ]
  },
  {
   "cell_type": "markdown",
   "metadata": {},
   "source": [
    "Let's copy the original model folder into a new working directory, just to ensure we don't mess up the base files."
   ]
  },
  {
   "cell_type": "code",
   "execution_count": 3,
   "metadata": {
    "execution": {
     "iopub.execute_input": "2022-03-15T05:20:30.018841Z",
     "iopub.status.busy": "2022-03-15T05:20:30.018841Z",
     "iopub.status.idle": "2022-03-15T05:20:30.202945Z",
     "shell.execute_reply": "2022-03-15T05:20:30.201922Z"
    }
   },
   "outputs": [],
   "source": [
    "# folder containing original model files\n",
    "org_d = os.path.join('..', '..', 'models', 'freyberg_mf6')\n",
    "\n",
    "# copy files across to the temp folder\n",
    "for f in os.listdir(org_d):\n",
    "    shutil.copy2(os.path.join(org_d,f), os.path.join(tmp_d,f))"
   ]
  },
  {
   "cell_type": "markdown",
   "metadata": {},
   "source": [
    "If you inspect the model folder, you will see that all the `MODFLOW6` model files have been written \"externally\". This is key for working with the `PstFrom` class (or with PEST(++) in general, really). Essentialy, all pertinent model inputs have been written as independent files in either array or list format. This makes it easier for us to programiatically access and re-write the values in these files.\n",
    "\n",
    "Array files contain a data type (usually floating points). List files will have a few columns that contain index information and then columns of floating point values (they have a tabular format; think `.csv` files or DataFrames). The `PstFrom` class provides methods for processing these file types into a PEST(++) dataset. \n",
    "\n"
   ]
  },
  {
   "cell_type": "code",
   "execution_count": 4,
   "metadata": {
    "execution": {
     "iopub.execute_input": "2022-03-15T05:20:30.205910Z",
     "iopub.status.busy": "2022-03-15T05:20:30.205910Z",
     "iopub.status.idle": "2022-03-15T05:20:30.218878Z",
     "shell.execute_reply": "2022-03-15T05:20:30.218878Z"
    }
   },
   "outputs": [
    {
     "data": {
      "text/plain": [
       "['freyberg6.dis',\n",
       " 'freyberg6.dis.grb',\n",
       " 'freyberg6.dis_botm_layer1.txt',\n",
       " 'freyberg6.dis_botm_layer2.txt',\n",
       " 'freyberg6.dis_botm_layer3.txt',\n",
       " 'freyberg6.dis_delc.txt',\n",
       " 'freyberg6.dis_delr.txt',\n",
       " 'freyberg6.dis_idomain_layer1.txt',\n",
       " 'freyberg6.dis_idomain_layer2.txt',\n",
       " 'freyberg6.dis_idomain_layer3.txt',\n",
       " 'freyberg6.dis_top.txt',\n",
       " 'freyberg6.ghb',\n",
       " 'freyberg6.ghb_stress_period_data_1.txt',\n",
       " 'freyberg6.ic',\n",
       " 'freyberg6.ic_strt_layer1.txt',\n",
       " 'freyberg6.ic_strt_layer2.txt',\n",
       " 'freyberg6.ic_strt_layer3.txt',\n",
       " 'freyberg6.ims',\n",
       " 'freyberg6.lst',\n",
       " 'freyberg6.nam',\n",
       " 'freyberg6.npf',\n",
       " 'freyberg6.npf_icelltype_layer1.txt',\n",
       " 'freyberg6.npf_icelltype_layer2.txt',\n",
       " 'freyberg6.npf_icelltype_layer3.txt',\n",
       " 'freyberg6.npf_k33_layer1.txt',\n",
       " 'freyberg6.npf_k33_layer2.txt',\n",
       " 'freyberg6.npf_k33_layer3.txt',\n",
       " 'freyberg6.npf_k_layer1.txt',\n",
       " 'freyberg6.npf_k_layer2.txt',\n",
       " 'freyberg6.npf_k_layer3.txt',\n",
       " 'freyberg6.oc',\n",
       " 'freyberg6.rch',\n",
       " 'freyberg6.rch_recharge_1.txt',\n",
       " 'freyberg6.rch_recharge_10.txt',\n",
       " 'freyberg6.rch_recharge_11.txt',\n",
       " 'freyberg6.rch_recharge_12.txt',\n",
       " 'freyberg6.rch_recharge_13.txt',\n",
       " 'freyberg6.rch_recharge_14.txt',\n",
       " 'freyberg6.rch_recharge_15.txt',\n",
       " 'freyberg6.rch_recharge_16.txt',\n",
       " 'freyberg6.rch_recharge_17.txt',\n",
       " 'freyberg6.rch_recharge_18.txt',\n",
       " 'freyberg6.rch_recharge_19.txt',\n",
       " 'freyberg6.rch_recharge_2.txt',\n",
       " 'freyberg6.rch_recharge_20.txt',\n",
       " 'freyberg6.rch_recharge_21.txt',\n",
       " 'freyberg6.rch_recharge_22.txt',\n",
       " 'freyberg6.rch_recharge_23.txt',\n",
       " 'freyberg6.rch_recharge_24.txt',\n",
       " 'freyberg6.rch_recharge_25.txt',\n",
       " 'freyberg6.rch_recharge_3.txt',\n",
       " 'freyberg6.rch_recharge_4.txt',\n",
       " 'freyberg6.rch_recharge_5.txt',\n",
       " 'freyberg6.rch_recharge_6.txt',\n",
       " 'freyberg6.rch_recharge_7.txt',\n",
       " 'freyberg6.rch_recharge_8.txt',\n",
       " 'freyberg6.rch_recharge_9.txt',\n",
       " 'freyberg6.sfr',\n",
       " 'freyberg6.sfr_connectiondata.txt',\n",
       " 'freyberg6.sfr_packagedata.txt',\n",
       " 'freyberg6.sfr_perioddata_1.txt',\n",
       " 'freyberg6.sfr_perioddata_10.txt',\n",
       " 'freyberg6.sfr_perioddata_11.txt',\n",
       " 'freyberg6.sfr_perioddata_12.txt',\n",
       " 'freyberg6.sfr_perioddata_13.txt',\n",
       " 'freyberg6.sfr_perioddata_14.txt',\n",
       " 'freyberg6.sfr_perioddata_15.txt',\n",
       " 'freyberg6.sfr_perioddata_16.txt',\n",
       " 'freyberg6.sfr_perioddata_17.txt',\n",
       " 'freyberg6.sfr_perioddata_18.txt',\n",
       " 'freyberg6.sfr_perioddata_19.txt',\n",
       " 'freyberg6.sfr_perioddata_2.txt',\n",
       " 'freyberg6.sfr_perioddata_20.txt',\n",
       " 'freyberg6.sfr_perioddata_21.txt',\n",
       " 'freyberg6.sfr_perioddata_22.txt',\n",
       " 'freyberg6.sfr_perioddata_23.txt',\n",
       " 'freyberg6.sfr_perioddata_24.txt',\n",
       " 'freyberg6.sfr_perioddata_25.txt',\n",
       " 'freyberg6.sfr_perioddata_3.txt',\n",
       " 'freyberg6.sfr_perioddata_4.txt',\n",
       " 'freyberg6.sfr_perioddata_5.txt',\n",
       " 'freyberg6.sfr_perioddata_6.txt',\n",
       " 'freyberg6.sfr_perioddata_7.txt',\n",
       " 'freyberg6.sfr_perioddata_8.txt',\n",
       " 'freyberg6.sfr_perioddata_9.txt',\n",
       " 'freyberg6.sto',\n",
       " 'freyberg6.sto_iconvert_layer1.txt',\n",
       " 'freyberg6.sto_iconvert_layer2.txt',\n",
       " 'freyberg6.sto_iconvert_layer3.txt',\n",
       " 'freyberg6.sto_ss_layer1.txt',\n",
       " 'freyberg6.sto_ss_layer2.txt',\n",
       " 'freyberg6.sto_ss_layer3.txt',\n",
       " 'freyberg6.sto_sy_layer1.txt',\n",
       " 'freyberg6.sto_sy_layer2.txt',\n",
       " 'freyberg6.sto_sy_layer3.txt',\n",
       " 'freyberg6.tdis',\n",
       " 'freyberg6.wel',\n",
       " 'freyberg6.wel_stress_period_data_1.txt',\n",
       " 'freyberg6.wel_stress_period_data_10.txt',\n",
       " 'freyberg6.wel_stress_period_data_11.txt',\n",
       " 'freyberg6.wel_stress_period_data_12.txt',\n",
       " 'freyberg6.wel_stress_period_data_13.txt',\n",
       " 'freyberg6.wel_stress_period_data_14.txt',\n",
       " 'freyberg6.wel_stress_period_data_15.txt',\n",
       " 'freyberg6.wel_stress_period_data_16.txt',\n",
       " 'freyberg6.wel_stress_period_data_17.txt',\n",
       " 'freyberg6.wel_stress_period_data_18.txt',\n",
       " 'freyberg6.wel_stress_period_data_19.txt',\n",
       " 'freyberg6.wel_stress_period_data_2.txt',\n",
       " 'freyberg6.wel_stress_period_data_20.txt',\n",
       " 'freyberg6.wel_stress_period_data_21.txt',\n",
       " 'freyberg6.wel_stress_period_data_22.txt',\n",
       " 'freyberg6.wel_stress_period_data_23.txt',\n",
       " 'freyberg6.wel_stress_period_data_24.txt',\n",
       " 'freyberg6.wel_stress_period_data_25.txt',\n",
       " 'freyberg6.wel_stress_period_data_3.txt',\n",
       " 'freyberg6.wel_stress_period_data_4.txt',\n",
       " 'freyberg6.wel_stress_period_data_5.txt',\n",
       " 'freyberg6.wel_stress_period_data_6.txt',\n",
       " 'freyberg6.wel_stress_period_data_7.txt',\n",
       " 'freyberg6.wel_stress_period_data_8.txt',\n",
       " 'freyberg6.wel_stress_period_data_9.txt',\n",
       " 'freyberg6_freyberg.cbc',\n",
       " 'freyberg6_freyberg.hds',\n",
       " 'head.obs',\n",
       " 'heads.csv',\n",
       " 'mf5to6.exe',\n",
       " 'mf6.exe',\n",
       " 'mfsim.lst',\n",
       " 'mfsim.nam',\n",
       " 'pestpp-da.exe',\n",
       " 'pestpp-glm.exe',\n",
       " 'pestpp-ies.exe',\n",
       " 'pestpp-mou.exe',\n",
       " 'pestpp-opt.exe',\n",
       " 'pestpp-sen.exe',\n",
       " 'pestpp-sqp.exe',\n",
       " 'pestpp-swp.exe',\n",
       " 'sfr.csv',\n",
       " 'sfr.obs',\n",
       " 'zbud6.exe']"
      ]
     },
     "execution_count": 4,
     "metadata": {},
     "output_type": "execute_result"
    }
   ],
   "source": [
    "os.listdir(tmp_d)"
   ]
  },
  {
   "cell_type": "markdown",
   "metadata": {},
   "source": [
    "Now we need just a tiny bit of info about the spatial discretization of the model - this is needed to work out separation distances between parameters to build a geostatistical prior covariance matrix later.\n",
    "\n",
    "Here we will load the flopy sim and model instance just to help us define some quantities later - flopy is ***not required*** to use the `PstFrom` class. ***Neither is MODFLOW***. However, at the time of writting, support for `SpatialReference` to spatially locate parameters is limited to MODLOW models.\n",
    "\n",
    "Load the simulation. Run it once to make sure it works and to ***make sure that model output files are in the folder***. "
   ]
  },
  {
   "cell_type": "code",
   "execution_count": 5,
   "metadata": {
    "execution": {
     "iopub.execute_input": "2022-03-15T05:20:30.233836Z",
     "iopub.status.busy": "2022-03-15T05:20:30.233836Z",
     "iopub.status.idle": "2022-03-15T05:20:31.559287Z",
     "shell.execute_reply": "2022-03-15T05:20:31.559287Z"
    }
   },
   "outputs": [
    {
     "name": "stdout",
     "output_type": "stream",
     "text": [
      "loading simulation...\n",
      "  loading simulation name file...\n",
      "  loading tdis package...\n",
      "  loading model gwf6...\n",
      "    loading package dis...\n",
      "    loading package ic...\n",
      "    loading package npf...\n",
      "    loading package sto...\n",
      "    loading package oc...\n",
      "    loading package wel...\n",
      "    loading package rch...\n",
      "    loading package ghb...\n"
     ]
    },
    {
     "name": "stdout",
     "output_type": "stream",
     "text": [
      "    loading package sfr...\n"
     ]
    },
    {
     "name": "stdout",
     "output_type": "stream",
     "text": [
      "    loading package obs...\n",
      "  loading ims package freyberg6...\n",
      "FloPy is using the following executable to run the model: C:\\Program Files\\MODFLOW\\mf6.exe\n",
      "                                   MODFLOW 6\n",
      "                U.S. GEOLOGICAL SURVEY MODULAR HYDROLOGIC MODEL\n",
      "                            VERSION 6.2.2 07/30/2021\n",
      "\n",
      "   MODFLOW 6 compiled Jul 31 2021 14:57:11 with IFORT compiler (ver. 20.21.2)\n",
      "\n",
      "This software has been approved for release by the U.S. Geological \n",
      "Survey (USGS). Although the software has been subjected to rigorous \n",
      "review, the USGS reserves the right to update the software as needed \n",
      "pursuant to further analysis and review. No warranty, expressed or \n",
      "implied, is made by the USGS or the U.S. Government as to the \n",
      "functionality of the software and related material nor shall the \n",
      "fact of release constitute any such warranty. Furthermore, the \n",
      "software is released on condition that neither the USGS nor the U.S. \n",
      "Government shall be held liable for any damages resulting from its \n",
      "authorized or unauthorized use. Also refer to the USGS Water \n",
      "Resources Software User Rights Notice for complete use, copyright, \n",
      "and distribution information.\n",
      "\n",
      " \n",
      " Run start date and time (yyyy/mm/dd hh:mm:ss): 2022/03/15 15:50:30\n",
      " \n",
      " Writing simulation list file: mfsim.lst\n",
      " Using Simulation name file: mfsim.nam\n",
      " \n"
     ]
    },
    {
     "name": "stdout",
     "output_type": "stream",
     "text": [
      "    Solving:  Stress period:     1    Time step:     1\n",
      "    Solving:  Stress period:     2    Time step:     1\n",
      "    Solving:  Stress period:     3    Time step:     1\n",
      "    Solving:  Stress period:     4    Time step:     1\n",
      "    Solving:  Stress period:     5    Time step:     1\n",
      "    Solving:  Stress period:     6    Time step:     1\n",
      "    Solving:  Stress period:     7    Time step:     1\n",
      "    Solving:  Stress period:     8    Time step:     1\n",
      "    Solving:  Stress period:     9    Time step:     1\n"
     ]
    },
    {
     "name": "stdout",
     "output_type": "stream",
     "text": [
      "    Solving:  Stress period:    10    Time step:     1\n",
      "    Solving:  Stress period:    11    Time step:     1\n",
      "    Solving:  Stress period:    12    Time step:     1\n",
      "    Solving:  Stress period:    13    Time step:     1\n",
      "    Solving:  Stress period:    14    Time step:     1\n",
      "    Solving:  Stress period:    15    Time step:     1\n",
      "    Solving:  Stress period:    16    Time step:     1\n",
      "    Solving:  Stress period:    17    Time step:     1\n",
      "    Solving:  Stress period:    18    Time step:     1\n",
      "    Solving:  Stress period:    19    Time step:     1\n",
      "    Solving:  Stress period:    20    Time step:     1\n"
     ]
    },
    {
     "name": "stdout",
     "output_type": "stream",
     "text": [
      "    Solving:  Stress period:    21    Time step:     1\n",
      "    Solving:  Stress period:    22    Time step:     1\n",
      "    Solving:  Stress period:    23    Time step:     1\n",
      "    Solving:  Stress period:    24    Time step:     1\n",
      "    Solving:  Stress period:    25    Time step:     1\n",
      " \n",
      " Run end date and time (yyyy/mm/dd hh:mm:ss): 2022/03/15 15:50:31\n",
      " Elapsed run time:  0.739 Seconds\n",
      " \n",
      " Normal termination of simulation.\n"
     ]
    },
    {
     "data": {
      "text/plain": [
       "(True, [])"
      ]
     },
     "execution_count": 5,
     "metadata": {},
     "output_type": "execute_result"
    }
   ],
   "source": [
    "# load simulation\n",
    "sim = flopy.mf6.MFSimulation.load(sim_ws=tmp_d)\n",
    "# load flow model\n",
    "gwf = sim.get_model()\n",
    "\n",
    "# run the model once to make sure it works\n",
    "sim.run_simulation()"
   ]
  },
  {
   "cell_type": "markdown",
   "metadata": {},
   "source": [
    "### 2. Spatial Reference\n",
    "Now we can instantiate a `SpatialReference`. This will later be passed to `PstFrom` to assist with spatially locating parameters (e.g. pilot points and/or cell-by-cell parameters)."
   ]
  },
  {
   "cell_type": "code",
   "execution_count": 6,
   "metadata": {
    "execution": {
     "iopub.execute_input": "2022-03-15T05:20:31.563276Z",
     "iopub.status.busy": "2022-03-15T05:20:31.563276Z",
     "iopub.status.idle": "2022-03-15T05:20:31.575243Z",
     "shell.execute_reply": "2022-03-15T05:20:31.575243Z"
    }
   },
   "outputs": [
    {
     "name": "stdout",
     "output_type": "stream",
     "text": [
      "   could not remove start_datetime\n"
     ]
    }
   ],
   "source": [
    "sr = pyemu.helpers.SpatialReference.from_namfile(\n",
    "        os.path.join(tmp_d, \"freyberg6.nam\"),\n",
    "        delr=gwf.dis.delr.array, delc=gwf.dis.delc.array)"
   ]
  },
  {
   "cell_type": "markdown",
   "metadata": {},
   "source": [
    "### 3. Instantiate PstFrom\n",
    "\n",
    "Now we can start to construct the PEST(++) interface by instantiating a `PstFrom` class instance. There are a few things that we need to specify up front:\n",
    "\n",
    " - the folder in which we currently have model files (e.g. `tmp_d`). PstFrom will copy all the files from this directory into a new \"template\" folder.\n",
    " - **template folder**: this is a folder in which the PEST dataset will be constructed. This folder/dataset will form the template for subsequent deployment of PEST(++). It is **not** where PEST(++) will be run.\n",
    " - **longnames**: for backwards compatibility with PEST and PEST_HP (i.e. non-PEST++ versions), which have upper limits to parameter/obsveration names (PEST++ does not). Setting this value to False is only recommended if required. \n",
    " - Whether the model is `zero based` or not.\n",
    " - (optional) the **spatial reference**, as previously discussed. This is only requried if using `pyEMU` to define parameter spatial correlation. Alternatively, you can define these yourself or use utilities available in the PEST-suite. \n",
    "\n"
   ]
  },
  {
   "cell_type": "code",
   "execution_count": 7,
   "metadata": {
    "execution": {
     "iopub.execute_input": "2022-03-15T05:20:31.583222Z",
     "iopub.status.busy": "2022-03-15T05:20:31.583222Z",
     "iopub.status.idle": "2022-03-15T05:20:33.647242Z",
     "shell.execute_reply": "2022-03-15T05:20:33.648239Z"
    }
   },
   "outputs": [
    {
     "name": "stdout",
     "output_type": "stream",
     "text": [
      "2022-03-15 15:50:31.582353 starting: opening PstFrom.log for logging\n",
      "2022-03-15 15:50:31.583222 starting PstFrom process\n",
      "2022-03-15 15:50:31.583222 starting: setting up dirs\n",
      "2022-03-15 15:50:31.583222 starting: removing existing new_d 'freyberg6_template'\n"
     ]
    },
    {
     "name": "stdout",
     "output_type": "stream",
     "text": [
      "2022-03-15 15:50:31.786878 finished: removing existing new_d 'freyberg6_template' took: 0:00:00.203656\n"
     ]
    },
    {
     "name": "stdout",
     "output_type": "stream",
     "text": [
      "2022-03-15 15:50:32.797820 starting: copying original_d 'freyberg_mf6' to new_d 'freyberg6_template'\n"
     ]
    },
    {
     "name": "stdout",
     "output_type": "stream",
     "text": [
      "2022-03-15 15:50:33.628153 finished: copying original_d 'freyberg_mf6' to new_d 'freyberg6_template' took: 0:00:00.830333\n",
      "2022-03-15 15:50:33.629151 finished: setting up dirs took: 0:00:02.045929\n"
     ]
    }
   ],
   "source": [
    "# specify a template directory (i.e. the PstFrom working folder)\n",
    "template_ws = os.path.join(\"freyberg6_template\")\n",
    "\n",
    "# instantiate PstFrom\n",
    "pf = pyemu.utils.PstFrom(original_d=tmp_d, # where the model is stored\n",
    "                            new_d=template_ws, # the PEST template folder\n",
    "                            remove_existing=True, # ensures a clean start\n",
    "                            longnames=True, # set False if using PEST/PEST_HP\n",
    "                            spatial_reference=sr, #the spatial reference we generated earlier\n",
    "                            zero_based=False, # does the MODEL use zero based indices? For example, MODFLOW does NOT\n",
    "                            start_datetime=\"1-1-2018\") # required when specifying temporal correlation between parameters"
   ]
  },
  {
   "cell_type": "markdown",
   "metadata": {},
   "source": [
    "### 4. Observations\n",
    "\n",
    "We now have a `PstFrom` instance assigned to the variable `pf`. For now it is only an empty container to which we can start adding \"observations\", \"parameters\" and other bits and bobs.\n",
    "\n",
    "Lets start with observations because they are easier. `MODFLOW6` makes life even easier by recording observations in nicely organized .csv files. Isn't that a peach!\n",
    "\n",
    "#### 4.1 Freyberg Recap\n",
    "As you may recall from the \"*intro to Freyberg*\" tutorial, the model is configured to record time series of head at observation wells, and flux at three locations along the river. These are recorded in external .csv files named `heads.csv` and `sfr.csv`, respectively. You should be able to see these files in the model folder.\n",
    "\n",
    "Recall that each .csv houses records of observation time-series. Outputs are recorded for each simulated stress-period. The model starts with a single steady-state stress-period, followed by 24 monthly transient stress-periods. The steady-state and first 12 transient stress-periods simulate the history-matching period. The last 12 transient stress periods simulate future conditions (i.e. the prediction period)."
   ]
  },
  {
   "cell_type": "code",
   "execution_count": 8,
   "metadata": {
    "execution": {
     "iopub.execute_input": "2022-03-15T05:20:33.651255Z",
     "iopub.status.busy": "2022-03-15T05:20:33.651255Z",
     "iopub.status.idle": "2022-03-15T05:20:33.662289Z",
     "shell.execute_reply": "2022-03-15T05:20:33.661266Z"
    }
   },
   "outputs": [
    {
     "name": "stdout",
     "output_type": "stream",
     "text": [
      "['sfr.csv']\n",
      "['heads.csv']\n"
     ]
    }
   ],
   "source": [
    "# check the output csv file names\n",
    "for i in gwf.obs:\n",
    "    print(i.output.obs_names)"
   ]
  },
  {
   "cell_type": "markdown",
   "metadata": {},
   "source": [
    "Let's start with the 'heads.csv' file. First load it as a DataFrame to take a look.\n",
    "\n",
    "As you can see, there are many columns, one for each observation site. Conveniently, * *cough* * they are named according to the cell layer, row and column. Note that at every site, there is an observation in both the top and bottom layer (0_ and 2_). We will make use of this later to create \"secondary observations\" of head differences between layers...but let's not get distracted.\n",
    "\n",
    "The values in the *.csv* file were generated by running the model. (***IMPORTANT!***) However, `PstFrom` assumes that values in this file are the *target* observation values, and they will be used to populate the PEST(++) dataset. Now, you can change these values later on if you wish. However, it can get a bit messy. So you either need to populate model output files with the target values, or update values in the PEST(++) dataset later on. Which approach you adopt is up to personal preference and/or specifics of your modelling workflow. \n",
    "\n",
    "We will demonstrate both in this notebook."
   ]
  },
  {
   "cell_type": "code",
   "execution_count": 9,
   "metadata": {
    "execution": {
     "iopub.execute_input": "2022-03-15T05:20:33.666254Z",
     "iopub.status.busy": "2022-03-15T05:20:33.665255Z",
     "iopub.status.idle": "2022-03-15T05:20:33.709094Z",
     "shell.execute_reply": "2022-03-15T05:20:33.709094Z"
    }
   },
   "outputs": [
    {
     "data": {
      "text/html": [
       "<div>\n",
       "<style scoped>\n",
       "    .dataframe tbody tr th:only-of-type {\n",
       "        vertical-align: middle;\n",
       "    }\n",
       "\n",
       "    .dataframe tbody tr th {\n",
       "        vertical-align: top;\n",
       "    }\n",
       "\n",
       "    .dataframe thead th {\n",
       "        text-align: right;\n",
       "    }\n",
       "</style>\n",
       "<table border=\"1\" class=\"dataframe\">\n",
       "  <thead>\n",
       "    <tr style=\"text-align: right;\">\n",
       "      <th></th>\n",
       "      <th>TRGW_2_2_15</th>\n",
       "      <th>TRGW_2_2_9</th>\n",
       "      <th>TRGW_2_3_8</th>\n",
       "      <th>TRGW_2_9_1</th>\n",
       "      <th>TRGW_2_13_10</th>\n",
       "      <th>TRGW_2_15_16</th>\n",
       "      <th>TRGW_2_21_10</th>\n",
       "      <th>TRGW_2_22_15</th>\n",
       "      <th>TRGW_2_24_4</th>\n",
       "      <th>TRGW_2_26_6</th>\n",
       "      <th>...</th>\n",
       "      <th>TRGW_0_9_1</th>\n",
       "      <th>TRGW_0_13_10</th>\n",
       "      <th>TRGW_0_15_16</th>\n",
       "      <th>TRGW_0_21_10</th>\n",
       "      <th>TRGW_0_22_15</th>\n",
       "      <th>TRGW_0_24_4</th>\n",
       "      <th>TRGW_0_26_6</th>\n",
       "      <th>TRGW_0_29_15</th>\n",
       "      <th>TRGW_0_33_7</th>\n",
       "      <th>TRGW_0_34_10</th>\n",
       "    </tr>\n",
       "    <tr>\n",
       "      <th>time</th>\n",
       "      <th></th>\n",
       "      <th></th>\n",
       "      <th></th>\n",
       "      <th></th>\n",
       "      <th></th>\n",
       "      <th></th>\n",
       "      <th></th>\n",
       "      <th></th>\n",
       "      <th></th>\n",
       "      <th></th>\n",
       "      <th></th>\n",
       "      <th></th>\n",
       "      <th></th>\n",
       "      <th></th>\n",
       "      <th></th>\n",
       "      <th></th>\n",
       "      <th></th>\n",
       "      <th></th>\n",
       "      <th></th>\n",
       "      <th></th>\n",
       "      <th></th>\n",
       "    </tr>\n",
       "  </thead>\n",
       "  <tbody>\n",
       "    <tr>\n",
       "      <th>1.0</th>\n",
       "      <td>34.339320</td>\n",
       "      <td>34.581597</td>\n",
       "      <td>34.611207</td>\n",
       "      <td>34.872171</td>\n",
       "      <td>34.257574</td>\n",
       "      <td>34.136387</td>\n",
       "      <td>34.144465</td>\n",
       "      <td>34.027679</td>\n",
       "      <td>34.310857</td>\n",
       "      <td>34.171589</td>\n",
       "      <td>...</td>\n",
       "      <td>34.878082</td>\n",
       "      <td>34.263187</td>\n",
       "      <td>34.141599</td>\n",
       "      <td>34.150067</td>\n",
       "      <td>33.992380</td>\n",
       "      <td>34.316575</td>\n",
       "      <td>34.177206</td>\n",
       "      <td>33.909874</td>\n",
       "      <td>33.985755</td>\n",
       "      <td>33.890192</td>\n",
       "    </tr>\n",
       "    <tr>\n",
       "      <th>32.0</th>\n",
       "      <td>34.422684</td>\n",
       "      <td>34.680896</td>\n",
       "      <td>34.712058</td>\n",
       "      <td>34.973141</td>\n",
       "      <td>34.381609</td>\n",
       "      <td>34.245718</td>\n",
       "      <td>34.272721</td>\n",
       "      <td>34.138233</td>\n",
       "      <td>34.437640</td>\n",
       "      <td>34.313791</td>\n",
       "      <td>...</td>\n",
       "      <td>34.978998</td>\n",
       "      <td>34.386488</td>\n",
       "      <td>34.250497</td>\n",
       "      <td>34.277455</td>\n",
       "      <td>34.087585</td>\n",
       "      <td>34.442526</td>\n",
       "      <td>34.318135</td>\n",
       "      <td>33.992787</td>\n",
       "      <td>34.102892</td>\n",
       "      <td>34.005675</td>\n",
       "    </tr>\n",
       "    <tr>\n",
       "      <th>61.0</th>\n",
       "      <td>34.496186</td>\n",
       "      <td>34.778508</td>\n",
       "      <td>34.812111</td>\n",
       "      <td>35.083708</td>\n",
       "      <td>34.481942</td>\n",
       "      <td>34.330460</td>\n",
       "      <td>34.376598</td>\n",
       "      <td>34.219319</td>\n",
       "      <td>34.555036</td>\n",
       "      <td>34.427653</td>\n",
       "      <td>...</td>\n",
       "      <td>35.089608</td>\n",
       "      <td>34.487850</td>\n",
       "      <td>34.336217</td>\n",
       "      <td>34.382375</td>\n",
       "      <td>34.158109</td>\n",
       "      <td>34.560492</td>\n",
       "      <td>34.433115</td>\n",
       "      <td>34.058266</td>\n",
       "      <td>34.196067</td>\n",
       "      <td>34.086361</td>\n",
       "    </tr>\n",
       "    <tr>\n",
       "      <th>92.0</th>\n",
       "      <td>34.541607</td>\n",
       "      <td>34.848735</td>\n",
       "      <td>34.885189</td>\n",
       "      <td>35.178103</td>\n",
       "      <td>34.536194</td>\n",
       "      <td>34.372437</td>\n",
       "      <td>34.431944</td>\n",
       "      <td>34.257802</td>\n",
       "      <td>34.631805</td>\n",
       "      <td>34.490964</td>\n",
       "      <td>...</td>\n",
       "      <td>35.184255</td>\n",
       "      <td>34.543248</td>\n",
       "      <td>34.379139</td>\n",
       "      <td>34.438943</td>\n",
       "      <td>34.191730</td>\n",
       "      <td>34.638273</td>\n",
       "      <td>34.497733</td>\n",
       "      <td>34.090937</td>\n",
       "      <td>34.244095</td>\n",
       "      <td>34.121186</td>\n",
       "    </tr>\n",
       "    <tr>\n",
       "      <th>122.0</th>\n",
       "      <td>34.538213</td>\n",
       "      <td>34.859840</td>\n",
       "      <td>34.898354</td>\n",
       "      <td>35.214761</td>\n",
       "      <td>34.520171</td>\n",
       "      <td>34.353363</td>\n",
       "      <td>34.414553</td>\n",
       "      <td>34.236799</td>\n",
       "      <td>34.634051</td>\n",
       "      <td>34.476152</td>\n",
       "      <td>...</td>\n",
       "      <td>35.221267</td>\n",
       "      <td>34.528011</td>\n",
       "      <td>34.360599</td>\n",
       "      <td>34.422425</td>\n",
       "      <td>34.173799</td>\n",
       "      <td>34.641451</td>\n",
       "      <td>34.483960</td>\n",
       "      <td>34.076498</td>\n",
       "      <td>34.226023</td>\n",
       "      <td>34.095425</td>\n",
       "    </tr>\n",
       "  </tbody>\n",
       "</table>\n",
       "<p>5 rows × 26 columns</p>\n",
       "</div>"
      ],
      "text/plain": [
       "       TRGW_2_2_15  TRGW_2_2_9  TRGW_2_3_8  TRGW_2_9_1  TRGW_2_13_10  \\\n",
       "time                                                                   \n",
       "1.0      34.339320   34.581597   34.611207   34.872171     34.257574   \n",
       "32.0     34.422684   34.680896   34.712058   34.973141     34.381609   \n",
       "61.0     34.496186   34.778508   34.812111   35.083708     34.481942   \n",
       "92.0     34.541607   34.848735   34.885189   35.178103     34.536194   \n",
       "122.0    34.538213   34.859840   34.898354   35.214761     34.520171   \n",
       "\n",
       "       TRGW_2_15_16  TRGW_2_21_10  TRGW_2_22_15  TRGW_2_24_4  TRGW_2_26_6  \\\n",
       "time                                                                        \n",
       "1.0       34.136387     34.144465     34.027679    34.310857    34.171589   \n",
       "32.0      34.245718     34.272721     34.138233    34.437640    34.313791   \n",
       "61.0      34.330460     34.376598     34.219319    34.555036    34.427653   \n",
       "92.0      34.372437     34.431944     34.257802    34.631805    34.490964   \n",
       "122.0     34.353363     34.414553     34.236799    34.634051    34.476152   \n",
       "\n",
       "       ...  TRGW_0_9_1  TRGW_0_13_10  TRGW_0_15_16  TRGW_0_21_10  \\\n",
       "time   ...                                                         \n",
       "1.0    ...   34.878082     34.263187     34.141599     34.150067   \n",
       "32.0   ...   34.978998     34.386488     34.250497     34.277455   \n",
       "61.0   ...   35.089608     34.487850     34.336217     34.382375   \n",
       "92.0   ...   35.184255     34.543248     34.379139     34.438943   \n",
       "122.0  ...   35.221267     34.528011     34.360599     34.422425   \n",
       "\n",
       "       TRGW_0_22_15  TRGW_0_24_4  TRGW_0_26_6  TRGW_0_29_15  TRGW_0_33_7  \\\n",
       "time                                                                       \n",
       "1.0       33.992380    34.316575    34.177206     33.909874    33.985755   \n",
       "32.0      34.087585    34.442526    34.318135     33.992787    34.102892   \n",
       "61.0      34.158109    34.560492    34.433115     34.058266    34.196067   \n",
       "92.0      34.191730    34.638273    34.497733     34.090937    34.244095   \n",
       "122.0     34.173799    34.641451    34.483960     34.076498    34.226023   \n",
       "\n",
       "       TRGW_0_34_10  \n",
       "time                 \n",
       "1.0       33.890192  \n",
       "32.0      34.005675  \n",
       "61.0      34.086361  \n",
       "92.0      34.121186  \n",
       "122.0     34.095425  \n",
       "\n",
       "[5 rows x 26 columns]"
      ]
     },
     "execution_count": 9,
     "metadata": {},
     "output_type": "execute_result"
    }
   ],
   "source": [
    "df = pd.read_csv(os.path.join(template_ws,\"heads.csv\"),index_col=0)\n",
    "df.head()"
   ]
  },
  {
   "cell_type": "markdown",
   "metadata": {},
   "source": [
    "#### 4.2 Prepare Observation Files\n",
    "\n",
    "We will start by populating our \"model output\" file with measured values. For this synthetic case, we conveniently have observations for all model output times and sites. (These \"measured\" values were generated using the same model with a randomly generated set of parameters; noise was added to all observations.)\n",
    "\n",
    "In the next cell we read a .csv that contains measured obsevration values. As it has the exact same structure as our model output file, we can simpy replace the values in the model output file (and re-write it!). In real-world cases this step will likley be a bit more involved."
   ]
  },
  {
   "cell_type": "code",
   "execution_count": 10,
   "metadata": {
    "execution": {
     "iopub.execute_input": "2022-03-15T05:20:33.713118Z",
     "iopub.status.busy": "2022-03-15T05:20:33.713118Z",
     "iopub.status.idle": "2022-03-15T05:20:33.725051Z",
     "shell.execute_reply": "2022-03-15T05:20:33.724089Z"
    }
   },
   "outputs": [],
   "source": [
    "# read the measured head values\n",
    "hds_meas = pd.read_csv(os.path.join('..', '..', 'models', 'freyberg_mf6_truth',\"heads.meas.csv\"),\n",
    "                    index_col=0)\n",
    "\n",
    "# re-write the model output .csv file with the measured values\n",
    "hds_meas.to_csv(os.path.join(template_ws,\"heads.csv\"))"
   ]
  },
  {
   "cell_type": "markdown",
   "metadata": {},
   "source": [
    "#### 4.2. Adding Observations\n",
    "\n",
    "Now that our model output file contains the \"target values\", we can use the `PstFrom.add_observations()` method to add observations to our `pf` object. This method reads ***list-type*** files. The assumption is that these files are organized in a tabular format. \n",
    "\n",
    "We are going to tell `pf` which columns of this file contain observations. Values in these columns will be assigned to *observation values*.\n",
    "\n",
    "We can also inform it if there is an index column. Values in this column will be included in the *observation names*. \n",
    "\n",
    "We could also specify which rows to include as observations. But observations are free...so why not keep them all! \n",
    "\n",
    "Let's add observations from `heads.csv`. The first column of this file records the time at which the value is simulated. Let's use that as the index column (this becomes useful later on to post-process results). We want all other columns as observation values.\n"
   ]
  },
  {
   "cell_type": "code",
   "execution_count": 11,
   "metadata": {
    "execution": {
     "iopub.execute_input": "2022-03-15T05:20:33.728044Z",
     "iopub.status.busy": "2022-03-15T05:20:33.728044Z",
     "iopub.status.idle": "2022-03-15T05:20:33.807471Z",
     "shell.execute_reply": "2022-03-15T05:20:33.806439Z"
    }
   },
   "outputs": [
    {
     "name": "stdout",
     "output_type": "stream",
     "text": [
      "2022-03-15 15:50:33.727079 starting: adding observations from output file heads.csv\n",
      "2022-03-15 15:50:33.727079 starting: adding observations from tabular output file '['heads.csv']'\n",
      "2022-03-15 15:50:33.728044 starting: reading list-style file: freyberg6_template\\heads.csv\n",
      "2022-03-15 15:50:33.757661 finished: reading list-style file: freyberg6_template\\heads.csv took: 0:00:00.029617\n",
      "2022-03-15 15:50:33.757661 starting: building insfile for tabular output file heads.csv\n",
      "2022-03-15 15:50:33.773853 finished: building insfile for tabular output file heads.csv took: 0:00:00.016192\n",
      "2022-03-15 15:50:33.773853 starting: adding observation from instruction file 'freyberg6_template\\heads.csv.ins'\n",
      "2022-03-15 15:50:33.792475 finished: adding observation from instruction file 'freyberg6_template\\heads.csv.ins' took: 0:00:00.018622\n",
      "2022-03-15 15:50:33.794470 finished: adding observations from tabular output file '['heads.csv']' took: 0:00:00.067391\n"
     ]
    }
   ],
   "source": [
    "hds_df = pf.add_observations(\"heads.csv\", # the model output file to read\n",
    "                            insfile=\"heads.csv.ins\", #optional, the instruction file name\n",
    "                            index_cols=\"time\", #column header to use as index; can also use column number (zero-based) instead of the header name\n",
    "                            use_cols=list(df.columns.values), #names of columns that include observation values; can also use column number (zero-based) instead of the header name\n",
    "                            prefix=\"hds\") #prefix to all observation names; choose something logical and easy o find. We use it later on to select obsevrations"
   ]
  },
  {
   "cell_type": "markdown",
   "metadata": {},
   "source": [
    "Let's inspect what we just created. \n",
    "\n",
    "We can see that the `.add_observations()` method returned a dataframe with lots of useful info: \n",
    "\n",
    " - the observation names that were formed (see `obsnme` column); note that these inlcude lots of usefull metadata like the column name, index value and so on;\n",
    " - the values that were read from `heads.csv` (see `obsval` column); \n",
    " - some generic weights and group names; note that observations are grouped according to the column of the model output .csv. Alternatively, we could have specified a list of observation group names."
   ]
  },
  {
   "cell_type": "code",
   "execution_count": 12,
   "metadata": {
    "execution": {
     "iopub.execute_input": "2022-03-15T05:20:33.818405Z",
     "iopub.status.busy": "2022-03-15T05:20:33.818405Z",
     "iopub.status.idle": "2022-03-15T05:20:33.834705Z",
     "shell.execute_reply": "2022-03-15T05:20:33.835701Z"
    }
   },
   "outputs": [
    {
     "data": {
      "text/html": [
       "<div>\n",
       "<style scoped>\n",
       "    .dataframe tbody tr th:only-of-type {\n",
       "        vertical-align: middle;\n",
       "    }\n",
       "\n",
       "    .dataframe tbody tr th {\n",
       "        vertical-align: top;\n",
       "    }\n",
       "\n",
       "    .dataframe thead th {\n",
       "        text-align: right;\n",
       "    }\n",
       "</style>\n",
       "<table border=\"1\" class=\"dataframe\">\n",
       "  <thead>\n",
       "    <tr style=\"text-align: right;\">\n",
       "      <th></th>\n",
       "      <th>obsnme</th>\n",
       "      <th>obsval</th>\n",
       "      <th>weight</th>\n",
       "      <th>obgnme</th>\n",
       "    </tr>\n",
       "  </thead>\n",
       "  <tbody>\n",
       "    <tr>\n",
       "      <th>oname:hds_otype:lst_usecol:trgw_0_13_10_time:1.0</th>\n",
       "      <td>oname:hds_otype:lst_usecol:trgw_0_13_10_time:1.0</td>\n",
       "      <td>34.406181</td>\n",
       "      <td>1.0</td>\n",
       "      <td>oname:hds_otype:lst_usecol:trgw_0_13_10</td>\n",
       "    </tr>\n",
       "    <tr>\n",
       "      <th>oname:hds_otype:lst_usecol:trgw_0_13_10_time:122.0</th>\n",
       "      <td>oname:hds_otype:lst_usecol:trgw_0_13_10_time:122.0</td>\n",
       "      <td>34.450661</td>\n",
       "      <td>1.0</td>\n",
       "      <td>oname:hds_otype:lst_usecol:trgw_0_13_10</td>\n",
       "    </tr>\n",
       "    <tr>\n",
       "      <th>oname:hds_otype:lst_usecol:trgw_0_13_10_time:153.0</th>\n",
       "      <td>oname:hds_otype:lst_usecol:trgw_0_13_10_time:153.0</td>\n",
       "      <td>34.441799</td>\n",
       "      <td>1.0</td>\n",
       "      <td>oname:hds_otype:lst_usecol:trgw_0_13_10</td>\n",
       "    </tr>\n",
       "    <tr>\n",
       "      <th>oname:hds_otype:lst_usecol:trgw_0_13_10_time:183.0</th>\n",
       "      <td>oname:hds_otype:lst_usecol:trgw_0_13_10_time:183.0</td>\n",
       "      <td>34.375622</td>\n",
       "      <td>1.0</td>\n",
       "      <td>oname:hds_otype:lst_usecol:trgw_0_13_10</td>\n",
       "    </tr>\n",
       "    <tr>\n",
       "      <th>oname:hds_otype:lst_usecol:trgw_0_13_10_time:214.0</th>\n",
       "      <td>oname:hds_otype:lst_usecol:trgw_0_13_10_time:214.0</td>\n",
       "      <td>34.323056</td>\n",
       "      <td>1.0</td>\n",
       "      <td>oname:hds_otype:lst_usecol:trgw_0_13_10</td>\n",
       "    </tr>\n",
       "  </tbody>\n",
       "</table>\n",
       "</div>"
      ],
      "text/plain": [
       "                                                                                                obsnme  \\\n",
       "oname:hds_otype:lst_usecol:trgw_0_13_10_time:1.0      oname:hds_otype:lst_usecol:trgw_0_13_10_time:1.0   \n",
       "oname:hds_otype:lst_usecol:trgw_0_13_10_time:122.0  oname:hds_otype:lst_usecol:trgw_0_13_10_time:122.0   \n",
       "oname:hds_otype:lst_usecol:trgw_0_13_10_time:153.0  oname:hds_otype:lst_usecol:trgw_0_13_10_time:153.0   \n",
       "oname:hds_otype:lst_usecol:trgw_0_13_10_time:183.0  oname:hds_otype:lst_usecol:trgw_0_13_10_time:183.0   \n",
       "oname:hds_otype:lst_usecol:trgw_0_13_10_time:214.0  oname:hds_otype:lst_usecol:trgw_0_13_10_time:214.0   \n",
       "\n",
       "                                                       obsval  weight  \\\n",
       "oname:hds_otype:lst_usecol:trgw_0_13_10_time:1.0    34.406181     1.0   \n",
       "oname:hds_otype:lst_usecol:trgw_0_13_10_time:122.0  34.450661     1.0   \n",
       "oname:hds_otype:lst_usecol:trgw_0_13_10_time:153.0  34.441799     1.0   \n",
       "oname:hds_otype:lst_usecol:trgw_0_13_10_time:183.0  34.375622     1.0   \n",
       "oname:hds_otype:lst_usecol:trgw_0_13_10_time:214.0  34.323056     1.0   \n",
       "\n",
       "                                                                                     obgnme  \n",
       "oname:hds_otype:lst_usecol:trgw_0_13_10_time:1.0    oname:hds_otype:lst_usecol:trgw_0_13_10  \n",
       "oname:hds_otype:lst_usecol:trgw_0_13_10_time:122.0  oname:hds_otype:lst_usecol:trgw_0_13_10  \n",
       "oname:hds_otype:lst_usecol:trgw_0_13_10_time:153.0  oname:hds_otype:lst_usecol:trgw_0_13_10  \n",
       "oname:hds_otype:lst_usecol:trgw_0_13_10_time:183.0  oname:hds_otype:lst_usecol:trgw_0_13_10  \n",
       "oname:hds_otype:lst_usecol:trgw_0_13_10_time:214.0  oname:hds_otype:lst_usecol:trgw_0_13_10  "
      ]
     },
     "execution_count": 12,
     "metadata": {},
     "output_type": "execute_result"
    }
   ],
   "source": [
    "hds_df.head()"
   ]
  },
  {
   "cell_type": "markdown",
   "metadata": {},
   "source": [
    "At this point, no PEST *control file* has been created, we have simply prepared to add these observations to the control file later. Everything is still only stored in memory. However, a PEST *instruction* file has been created in the template folder (`template_ws`):"
   ]
  },
  {
   "cell_type": "code",
   "execution_count": 13,
   "metadata": {
    "execution": {
     "iopub.execute_input": "2022-03-15T05:20:33.838727Z",
     "iopub.status.busy": "2022-03-15T05:20:33.838727Z",
     "iopub.status.idle": "2022-03-15T05:20:33.850699Z",
     "shell.execute_reply": "2022-03-15T05:20:33.850699Z"
    }
   },
   "outputs": [
    {
     "data": {
      "text/plain": [
       "['heads.csv.ins']"
      ]
     },
     "execution_count": 13,
     "metadata": {},
     "output_type": "execute_result"
    }
   ],
   "source": [
    "[f for f in os.listdir(template_ws) if f.endswith(\".ins\")]"
   ]
  },
  {
   "cell_type": "markdown",
   "metadata": {},
   "source": [
    "Blimey, wasn't that easy? Automatically assimilating thousands of observations into a PEST dataset becomes a breeze!\n",
    "\n",
    "Let's quickly do the same thing for the SFR observations."
   ]
  },
  {
   "cell_type": "code",
   "execution_count": 14,
   "metadata": {
    "execution": {
     "iopub.execute_input": "2022-03-15T05:20:33.854724Z",
     "iopub.status.busy": "2022-03-15T05:20:33.854724Z",
     "iopub.status.idle": "2022-03-15T05:20:33.866692Z",
     "shell.execute_reply": "2022-03-15T05:20:33.866692Z"
    }
   },
   "outputs": [
    {
     "data": {
      "text/html": [
       "<div>\n",
       "<style scoped>\n",
       "    .dataframe tbody tr th:only-of-type {\n",
       "        vertical-align: middle;\n",
       "    }\n",
       "\n",
       "    .dataframe tbody tr th {\n",
       "        vertical-align: top;\n",
       "    }\n",
       "\n",
       "    .dataframe thead th {\n",
       "        text-align: right;\n",
       "    }\n",
       "</style>\n",
       "<table border=\"1\" class=\"dataframe\">\n",
       "  <thead>\n",
       "    <tr style=\"text-align: right;\">\n",
       "      <th></th>\n",
       "      <th>HEADWATER</th>\n",
       "      <th>TAILWATER</th>\n",
       "      <th>GAGE_1</th>\n",
       "    </tr>\n",
       "    <tr>\n",
       "      <th>time</th>\n",
       "      <th></th>\n",
       "      <th></th>\n",
       "      <th></th>\n",
       "    </tr>\n",
       "  </thead>\n",
       "  <tbody>\n",
       "    <tr>\n",
       "      <th>1.0</th>\n",
       "      <td>-644.10</td>\n",
       "      <td>-477.76</td>\n",
       "      <td>1205.3</td>\n",
       "    </tr>\n",
       "    <tr>\n",
       "      <th>32.0</th>\n",
       "      <td>-865.29</td>\n",
       "      <td>-638.26</td>\n",
       "      <td>1636.6</td>\n",
       "    </tr>\n",
       "    <tr>\n",
       "      <th>61.0</th>\n",
       "      <td>-1034.00</td>\n",
       "      <td>-764.91</td>\n",
       "      <td>1938.5</td>\n",
       "    </tr>\n",
       "    <tr>\n",
       "      <th>92.0</th>\n",
       "      <td>-1118.70</td>\n",
       "      <td>-825.49</td>\n",
       "      <td>2073.6</td>\n",
       "    </tr>\n",
       "    <tr>\n",
       "      <th>122.0</th>\n",
       "      <td>-1083.00</td>\n",
       "      <td>-794.89</td>\n",
       "      <td>1983.4</td>\n",
       "    </tr>\n",
       "  </tbody>\n",
       "</table>\n",
       "</div>"
      ],
      "text/plain": [
       "       HEADWATER  TAILWATER  GAGE_1\n",
       "time                               \n",
       "1.0      -644.10    -477.76  1205.3\n",
       "32.0     -865.29    -638.26  1636.6\n",
       "61.0    -1034.00    -764.91  1938.5\n",
       "92.0    -1118.70    -825.49  2073.6\n",
       "122.0   -1083.00    -794.89  1983.4"
      ]
     },
     "execution_count": 14,
     "metadata": {},
     "output_type": "execute_result"
    }
   ],
   "source": [
    "df = pd.read_csv(os.path.join(template_ws, \"sfr.csv\"), index_col=0)\n",
    "df.head()"
   ]
  },
  {
   "cell_type": "code",
   "execution_count": 15,
   "metadata": {
    "execution": {
     "iopub.execute_input": "2022-03-15T05:20:33.870646Z",
     "iopub.status.busy": "2022-03-15T05:20:33.870646Z",
     "iopub.status.idle": "2022-03-15T05:20:33.913531Z",
     "shell.execute_reply": "2022-03-15T05:20:33.912571Z"
    }
   },
   "outputs": [
    {
     "name": "stdout",
     "output_type": "stream",
     "text": [
      "2022-03-15 15:50:33.872677 starting: adding observations from output file sfr.csv\n",
      "2022-03-15 15:50:33.872677 starting: adding observations from tabular output file '['sfr.csv']'\n",
      "2022-03-15 15:50:33.872677 starting: reading list-style file: freyberg6_template\\sfr.csv\n",
      "2022-03-15 15:50:33.878668 finished: reading list-style file: freyberg6_template\\sfr.csv took: 0:00:00.005991\n",
      "2022-03-15 15:50:33.878668 starting: building insfile for tabular output file sfr.csv\n",
      "2022-03-15 15:50:33.885606 finished: building insfile for tabular output file sfr.csv took: 0:00:00.006938\n",
      "2022-03-15 15:50:33.885606 starting: adding observation from instruction file 'freyberg6_template\\sfr.csv.ins'\n",
      "2022-03-15 15:50:33.894605 finished: adding observation from instruction file 'freyberg6_template\\sfr.csv.ins' took: 0:00:00.008999\n",
      "2022-03-15 15:50:33.895603 finished: adding observations from tabular output file '['sfr.csv']' took: 0:00:00.022926\n"
     ]
    }
   ],
   "source": [
    "# read the measured  values\n",
    "meas = pd.read_csv(os.path.join('..', '..', 'models', 'freyberg_mf6_truth',\"sfr.meas.csv\"),\n",
    "                    index_col=0)\n",
    "# re-write the model output .csv file with the measured values\n",
    "meas.to_csv(os.path.join(template_ws,\"sfr.csv\"))\n",
    "# add the observations to pf\n",
    "sfr_df = pf.add_observations(\"sfr.csv\", # the model output file to read\n",
    "                            insfile=\"sfr.csv.ins\", #optional, the instruction file name\n",
    "                            index_cols=\"time\", #column header to use as index; can also use column number (zero-based) instead of the header name\n",
    "                            use_cols=list(df.columns.values), #names of columns that include observation values; can also use column number (zero-based) instead of the header name\n",
    "                            prefix=\"sfr\") #prefix to all observation names"
   ]
  },
  {
   "cell_type": "markdown",
   "metadata": {},
   "source": [
    "### 5. Parameters\n",
    "\n",
    "The `PstFrom.add_parameters()` method reads model input files and adds parameters to the PEST(++) dataset. Parameterisation can be configured in several ways. \n",
    "\n",
    " - model input files can be in array or list format;\n",
    " - parameters can be setup as different \"types\". Values in model input files can (1) each be a separate parameter, (2) be grouped into \"zones\" or (3) all be treated as a single parameter. Alteratvely, (4) parameters can be assigned to pilot points, from which individual parameter values are subsequently interpolated. `PstFrom` adds the relevant pre-processing steps to assign paramter values directly into the \"model run\" script.\n",
    " - parameter values can be setup as \"direct\", \"multiplier\" or \"addend\". This means the \"parameter value\" which PEST(++) sees can be (1) the same value the model sees, (2) a multiplier on the value in the model input file, or (3) a value which is added to the value in the model input file. This is very nifty. `PstFrom` is designed to preferentially use parameters setup as multipliers. These let us preserve the existing model inputs and treat them as the mean of the prior parameter distribution. Once again, relevant pre-processing scripts are automatically added to the \"model run\" script (discussed later).\n",
    "\n",
    "\n",
    "#### 5.1. Freyberg Recap\n",
    "\n",
    "As discussed, all model inputs are stored in external files. Some are arrays. Others are lists. Recall that our model has 3 layers. It is transient. Hydraulic properties (Kh, Kv, Ss, Sy) vary in space. Recharge varies over both space and time. We have GHBs, SFR and WEL boundary conditions. GHB parameters are constant over time, but vary spatially. SFR inflow varies over time. Pumping rates of individual wells are uncertain in space and and time.\n",
    "\n",
    "All of these have some degree of spatial and/or temporal correlation.\n",
    "\n",
    "#### 5.2. Geostatistical Structures\n",
    "\n",
    "Parameter correlation plays a role in (1) regularization when giving preference to the emergence of patterns of spatial heterogeneity and (2) when specifying the prior parameter probability distribution. Since we are all sophisticated and recognize the importance of expressing spatial and temporal uncertainty (e.g. heterogeneity) in the model inputs (and the corresponding spatial correlation in those uncertain inputs), let's use geostatistics to express uncertainty. To do that we need to define \"geostatistical structures\". \n",
    "\n",
    "For the sake of this tutorial, let's assume that heterogeneity in all spatially distributed parameters share the same statistical characteristics. Likewise for temporally varying parameters. We will therefore only  construct two geostatisitcal structures."
   ]
  },
  {
   "cell_type": "code",
   "execution_count": 16,
   "metadata": {
    "execution": {
     "iopub.execute_input": "2022-03-15T05:20:33.927527Z",
     "iopub.status.busy": "2022-03-15T05:20:33.926496Z",
     "iopub.status.idle": "2022-03-15T05:20:34.210933Z",
     "shell.execute_reply": "2022-03-15T05:20:34.211964Z"
    }
   },
   "outputs": [
    {
     "data": {
      "text/plain": [
       "<AxesSubplot:xlabel='distance', ylabel='$\\\\gamma$'>"
      ]
     },
     "execution_count": 16,
     "metadata": {},
     "output_type": "execute_result"
    },
    {
     "data": {
      "image/png": "[encoded data removed]",
      "text/plain": [
       "<Figure size 432x288 with 1 Axes>"
      ]
     },
     "metadata": {
      "needs_background": "light"
     },
     "output_type": "display_data"
    }
   ],
   "source": [
    "# exponential variogram for spatially varying parameters\n",
    "v_space = pyemu.geostats.ExpVario(contribution=1.0, #sill\n",
    "                                    a=1000, # range of correlation; length units of the model. In our case 'meters'\n",
    "                                    anisotropy=1.0, #name says it all\n",
    "                                    bearing=0.0 #angle in degrees East of North corresponding to anisotropy ellipse\n",
    "                                    )\n",
    "\n",
    "# geostatistical structure for spatially varying parameters\n",
    "grid_gs = pyemu.geostats.GeoStruct(variograms=v_space, transform='log') \n",
    "\n",
    "# plot the gs if you like:\n",
    "grid_gs.plot()"
   ]
  },
  {
   "cell_type": "code",
   "execution_count": 17,
   "metadata": {
    "execution": {
     "iopub.execute_input": "2022-03-15T05:20:34.215919Z",
     "iopub.status.busy": "2022-03-15T05:20:34.215919Z",
     "iopub.status.idle": "2022-03-15T05:20:34.226370Z",
     "shell.execute_reply": "2022-03-15T05:20:34.227401Z"
    }
   },
   "outputs": [],
   "source": [
    "# exponential variogram for time varying parameters\n",
    "v_time = pyemu.geostats.ExpVario(contribution=1.0, #sill\n",
    "                                    a=60, # range of correlation; length time units (days)\n",
    "                                    anisotropy=1.0, #do not change for 1-D time\n",
    "                                    bearing=0.0 #do not change for 1-D time\n",
    "                                    )\n",
    "\n",
    "# geostatistical structure for time varying parameters\n",
    "temporal_gs = pyemu.geostats.GeoStruct(variograms=v_time, transform='none') "
   ]
  },
  {
   "cell_type": "markdown",
   "metadata": {},
   "source": [
    "#### 5.3. Add Parameters\n",
    "\n",
    "Let's start by adding parameters of hydraulic properties that vary in space (but not time) and which are housed in array-type files (e.g. Kh, Kv, Ss, Sy). We will start by demonstrating step-by-step for Kh.\n",
    "\n",
    "First, find all the external array files that contain Kh values. In our case, these are the files with \"npf_k_\" in the file name. As you can see below, there is one file for each model layer. "
   ]
  },
  {
   "cell_type": "code",
   "execution_count": 18,
   "metadata": {
    "execution": {
     "iopub.execute_input": "2022-03-15T05:20:34.231356Z",
     "iopub.status.busy": "2022-03-15T05:20:34.230359Z",
     "iopub.status.idle": "2022-03-15T05:20:34.243358Z",
     "shell.execute_reply": "2022-03-15T05:20:34.242328Z"
    }
   },
   "outputs": [
    {
     "name": "stdout",
     "output_type": "stream",
     "text": [
      "['freyberg6.npf_k_layer1.txt', 'freyberg6.npf_k_layer2.txt', 'freyberg6.npf_k_layer3.txt']\n"
     ]
    }
   ],
   "source": [
    "tag = \"npf_k_\"\n",
    "files = [f for f in os.listdir(template_ws) if tag in f.lower() and f.endswith(\".txt\")]\n",
    "print(files)"
   ]
  },
  {
   "cell_type": "markdown",
   "metadata": {},
   "source": [
    "Let's setup multiple spatial scales of parameters for Kh. To do this we will use three of the parameter \"types\" described above. The coarse scale will be a `constant` single value for each array. The medium scale will `pilot points`. The finest scale will use parameters as the `grid` scale (a unique parameter for each model cell!)\n",
    "\n",
    "Each scale of parameters will work with the others as multipliers with the existing Kh arrays. (This all happens at runtime as part of the \"model run\" script.) Think of the scales as dials that PEST(++) can turn to improve the fit. The \"coarse\" scale is one big dial that alows PEST to move everything at once. The \"medium\" dials are few (but not too many) that allow PEST to adjust broad areas, but not making eveything move. The \"fine\" scales are lots of small dials that allow PEST(++) to have very detailed control, tweaking parameter values within very small areas. \n",
    "\n",
    "However, because we are working with parameter `multipliers`, we will need to specify two sets of parameter bounds: \n",
    " - `upper_bound` and `lower_bound` are the standard control file bounds, while\n",
    " - `ult_ubound` and `ult_lbound` are bounds that are applied at runtime to the resulting (multiplied out) model input array. \n",
    " \n",
    "Since we are using sets of multipliers, it is important to make sure we keep the resulting model input arrays within the range of realistic values.\n",
    "\n",
    "#### 5.3.1. Array Files\n",
    "\n",
    "We will first demonstrate steb-by-step for `freyberg6.npf_k_layer1.txt`. We will start with grid scale parameters. These are multipliers assigned to each individual value in the array.\n",
    "\n",
    "We start by getting the idomain array. As our model has inactive cells, this heps us avoid adding unncessary parameters. It is also required later when generating pilot points."
   ]
  },
  {
   "cell_type": "code",
   "execution_count": 19,
   "metadata": {
    "execution": {
     "iopub.execute_input": "2022-03-15T05:20:34.246317Z",
     "iopub.status.busy": "2022-03-15T05:20:34.246317Z",
     "iopub.status.idle": "2022-03-15T05:20:34.259315Z",
     "shell.execute_reply": "2022-03-15T05:20:34.259315Z"
    }
   },
   "outputs": [],
   "source": [
    "# as IDOMIAN is the same in all layers, we can use any layer\n",
    "ib = gwf.dis.idomain.get_data(layer=0)"
   ]
  },
  {
   "cell_type": "code",
   "execution_count": 20,
   "metadata": {
    "execution": {
     "iopub.execute_input": "2022-03-15T05:20:34.263270Z",
     "iopub.status.busy": "2022-03-15T05:20:34.263270Z",
     "iopub.status.idle": "2022-03-15T05:20:34.306869Z",
     "shell.execute_reply": "2022-03-15T05:20:34.305839Z"
    }
   },
   "outputs": [
    {
     "name": "stdout",
     "output_type": "stream",
     "text": [
      "2022-03-15 15:50:34.262274 starting: adding grid type m style parameters for file(s) ['freyberg6.npf_k_layer1.txt']\n",
      "2022-03-15 15:50:34.262274 starting: loading array freyberg6_template\\freyberg6.npf_k_layer1.txt\n",
      "2022-03-15 15:50:34.270253 finished: loading array freyberg6_template\\freyberg6.npf_k_layer1.txt took: 0:00:00.007979\n",
      "2022-03-15 15:50:34.270253 loaded array 'freyberg_mf6\\freyberg6.npf_k_layer1.txt' of shape (40, 20)\n",
      "2022-03-15 15:50:34.271250 starting: writing array-style template file 'freyberg6_template\\npf_k_layer1_gr_inst0_grid.csv.tpl'\n",
      "2022-03-15 15:50:34.271250 starting: writing template file freyberg6_template\\npf_k_layer1_gr_inst0_grid.csv.tpl for ['npf_k_layer1_gr_inst:0']\n",
      "2022-03-15 15:50:34.287207 finished: writing template file freyberg6_template\\npf_k_layer1_gr_inst0_grid.csv.tpl for ['npf_k_layer1_gr_inst:0'] took: 0:00:00.015957\n",
      "2022-03-15 15:50:34.287207 starting: writing array-based template file 'freyberg6_template\\npf_k_layer1_gr_inst0_grid.csv.tpl'\n",
      "2022-03-15 15:50:34.287207 saving zone array freyberg6_template\\npf_k_layer1_gr_inst0_grid.csv.zone for tpl file freyberg6_template\\npf_k_layer1_gr_inst0_grid.csv.tpl\n",
      "2022-03-15 15:50:34.295186 finished: adding grid type m style parameters for file(s) ['freyberg6.npf_k_layer1.txt'] took: 0:00:00.032912\n"
     ]
    }
   ],
   "source": [
    "f = 'freyberg6.npf_k_layer1.txt'\n",
    "\n",
    "# grid (fine) scale parameters\n",
    "df_gr = pf.add_parameters(f,\n",
    "                zone_array=ib, #as we have inactie model cells, we can avoid assigning these as parameters\n",
    "                par_type=\"grid\", #specify the type, these will be unique parameters for each cell\n",
    "                geostruct=grid_gs, # the gestatisical structure for spatial correlation \n",
    "                par_name_base=f.split('.')[1]+\"_gr\", #specify a parameter name base that allows us to easily identify the filename and parameter type. \"_gr\" for \"grid\", and so forth.\n",
    "                pargp=f.split('.')[1]+\"_gr\", #likewise for the parameter group name\n",
    "                lower_bound=0.2, upper_bound=5.0, #parameter lower and upper bound\n",
    "                ult_ubound=100, ult_lbound=0.01 # The ultimate bounds for multiplied model input values. Here we are stating that, after accounting for all multipliers, Kh cannot exceed these values. Very important with multipliers\n",
    "                )"
   ]
  },
  {
   "cell_type": "markdown",
   "metadata": {},
   "source": [
    "As when adding observations,  `pf.add_parameters()` returns a dataframe. Take a look. You may recognize alot of the information that appears in a PEST `*parameter data` section. All of this is still only housed in memory for now. We will write the PEST control file later on."
   ]
  },
  {
   "cell_type": "code",
   "execution_count": 21,
   "metadata": {
    "execution": {
     "iopub.execute_input": "2022-03-15T05:20:34.321798Z",
     "iopub.status.busy": "2022-03-15T05:20:34.320800Z",
     "iopub.status.idle": "2022-03-15T05:20:34.337753Z",
     "shell.execute_reply": "2022-03-15T05:20:34.336755Z"
    }
   },
   "outputs": [
    {
     "data": {
      "text/html": [
       "<div>\n",
       "<style scoped>\n",
       "    .dataframe tbody tr th:only-of-type {\n",
       "        vertical-align: middle;\n",
       "    }\n",
       "\n",
       "    .dataframe tbody tr th {\n",
       "        vertical-align: top;\n",
       "    }\n",
       "\n",
       "    .dataframe thead th {\n",
       "        text-align: right;\n",
       "    }\n",
       "</style>\n",
       "<table border=\"1\" class=\"dataframe\">\n",
       "  <thead>\n",
       "    <tr style=\"text-align: right;\">\n",
       "      <th></th>\n",
       "      <th>parnme</th>\n",
       "      <th>parval1</th>\n",
       "      <th>i</th>\n",
       "      <th>j</th>\n",
       "      <th>x</th>\n",
       "      <th>y</th>\n",
       "      <th>pargp</th>\n",
       "      <th>tpl_filename</th>\n",
       "      <th>input_filename</th>\n",
       "      <th>partype</th>\n",
       "      <th>partrans</th>\n",
       "      <th>parubnd</th>\n",
       "      <th>parlbnd</th>\n",
       "      <th>dercom</th>\n",
       "      <th>scale</th>\n",
       "      <th>parchglim</th>\n",
       "      <th>offset</th>\n",
       "    </tr>\n",
       "  </thead>\n",
       "  <tbody>\n",
       "    <tr>\n",
       "      <th>pname:npf_k_layer1_gr_inst:0_ptype:gr_pstyle:m_i:0_j:0_x:125.00_y:9875.00_zone:1</th>\n",
       "      <td>pname:npf_k_layer1_gr_inst:0_ptype:gr_pstyle:m_i:0_j:0_x:125.00_y:9875.00_zone:1</td>\n",
       "      <td>1.0</td>\n",
       "      <td>0</td>\n",
       "      <td>0</td>\n",
       "      <td>125.0</td>\n",
       "      <td>9875.0</td>\n",
       "      <td>npf_k_layer1_gr</td>\n",
       "      <td>freyberg6_template\\npf_k_layer1_gr_inst0_grid.csv.tpl</td>\n",
       "      <td>freyberg6_template\\mult\\npf_k_layer1_gr_inst0_grid.csv</td>\n",
       "      <td>grid</td>\n",
       "      <td>log</td>\n",
       "      <td>5.0</td>\n",
       "      <td>0.2</td>\n",
       "      <td>1</td>\n",
       "      <td>1.0</td>\n",
       "      <td>factor</td>\n",
       "      <td>0.0</td>\n",
       "    </tr>\n",
       "    <tr>\n",
       "      <th>pname:npf_k_layer1_gr_inst:0_ptype:gr_pstyle:m_i:0_j:1_x:375.00_y:9875.00_zone:1</th>\n",
       "      <td>pname:npf_k_layer1_gr_inst:0_ptype:gr_pstyle:m_i:0_j:1_x:375.00_y:9875.00_zone:1</td>\n",
       "      <td>1.0</td>\n",
       "      <td>0</td>\n",
       "      <td>1</td>\n",
       "      <td>375.0</td>\n",
       "      <td>9875.0</td>\n",
       "      <td>npf_k_layer1_gr</td>\n",
       "      <td>freyberg6_template\\npf_k_layer1_gr_inst0_grid.csv.tpl</td>\n",
       "      <td>freyberg6_template\\mult\\npf_k_layer1_gr_inst0_grid.csv</td>\n",
       "      <td>grid</td>\n",
       "      <td>log</td>\n",
       "      <td>5.0</td>\n",
       "      <td>0.2</td>\n",
       "      <td>1</td>\n",
       "      <td>1.0</td>\n",
       "      <td>factor</td>\n",
       "      <td>0.0</td>\n",
       "    </tr>\n",
       "    <tr>\n",
       "      <th>pname:npf_k_layer1_gr_inst:0_ptype:gr_pstyle:m_i:0_j:2_x:625.00_y:9875.00_zone:1</th>\n",
       "      <td>pname:npf_k_layer1_gr_inst:0_ptype:gr_pstyle:m_i:0_j:2_x:625.00_y:9875.00_zone:1</td>\n",
       "      <td>1.0</td>\n",
       "      <td>0</td>\n",
       "      <td>2</td>\n",
       "      <td>625.0</td>\n",
       "      <td>9875.0</td>\n",
       "      <td>npf_k_layer1_gr</td>\n",
       "      <td>freyberg6_template\\npf_k_layer1_gr_inst0_grid.csv.tpl</td>\n",
       "      <td>freyberg6_template\\mult\\npf_k_layer1_gr_inst0_grid.csv</td>\n",
       "      <td>grid</td>\n",
       "      <td>log</td>\n",
       "      <td>5.0</td>\n",
       "      <td>0.2</td>\n",
       "      <td>1</td>\n",
       "      <td>1.0</td>\n",
       "      <td>factor</td>\n",
       "      <td>0.0</td>\n",
       "    </tr>\n",
       "    <tr>\n",
       "      <th>pname:npf_k_layer1_gr_inst:0_ptype:gr_pstyle:m_i:0_j:3_x:875.00_y:9875.00_zone:1</th>\n",
       "      <td>pname:npf_k_layer1_gr_inst:0_ptype:gr_pstyle:m_i:0_j:3_x:875.00_y:9875.00_zone:1</td>\n",
       "      <td>1.0</td>\n",
       "      <td>0</td>\n",
       "      <td>3</td>\n",
       "      <td>875.0</td>\n",
       "      <td>9875.0</td>\n",
       "      <td>npf_k_layer1_gr</td>\n",
       "      <td>freyberg6_template\\npf_k_layer1_gr_inst0_grid.csv.tpl</td>\n",
       "      <td>freyberg6_template\\mult\\npf_k_layer1_gr_inst0_grid.csv</td>\n",
       "      <td>grid</td>\n",
       "      <td>log</td>\n",
       "      <td>5.0</td>\n",
       "      <td>0.2</td>\n",
       "      <td>1</td>\n",
       "      <td>1.0</td>\n",
       "      <td>factor</td>\n",
       "      <td>0.0</td>\n",
       "    </tr>\n",
       "    <tr>\n",
       "      <th>pname:npf_k_layer1_gr_inst:0_ptype:gr_pstyle:m_i:0_j:4_x:1125.00_y:9875.00_zone:1</th>\n",
       "      <td>pname:npf_k_layer1_gr_inst:0_ptype:gr_pstyle:m_i:0_j:4_x:1125.00_y:9875.00_zone:1</td>\n",
       "      <td>1.0</td>\n",
       "      <td>0</td>\n",
       "      <td>4</td>\n",
       "      <td>1125.0</td>\n",
       "      <td>9875.0</td>\n",
       "      <td>npf_k_layer1_gr</td>\n",
       "      <td>freyberg6_template\\npf_k_layer1_gr_inst0_grid.csv.tpl</td>\n",
       "      <td>freyberg6_template\\mult\\npf_k_layer1_gr_inst0_grid.csv</td>\n",
       "      <td>grid</td>\n",
       "      <td>log</td>\n",
       "      <td>5.0</td>\n",
       "      <td>0.2</td>\n",
       "      <td>1</td>\n",
       "      <td>1.0</td>\n",
       "      <td>factor</td>\n",
       "      <td>0.0</td>\n",
       "    </tr>\n",
       "  </tbody>\n",
       "</table>\n",
       "</div>"
      ],
      "text/plain": [
       "                                                                                                                                                              parnme  \\\n",
       "pname:npf_k_layer1_gr_inst:0_ptype:gr_pstyle:m_i:0_j:0_x:125.00_y:9875.00_zone:1    pname:npf_k_layer1_gr_inst:0_ptype:gr_pstyle:m_i:0_j:0_x:125.00_y:9875.00_zone:1   \n",
       "pname:npf_k_layer1_gr_inst:0_ptype:gr_pstyle:m_i:0_j:1_x:375.00_y:9875.00_zone:1    pname:npf_k_layer1_gr_inst:0_ptype:gr_pstyle:m_i:0_j:1_x:375.00_y:9875.00_zone:1   \n",
       "pname:npf_k_layer1_gr_inst:0_ptype:gr_pstyle:m_i:0_j:2_x:625.00_y:9875.00_zone:1    pname:npf_k_layer1_gr_inst:0_ptype:gr_pstyle:m_i:0_j:2_x:625.00_y:9875.00_zone:1   \n",
       "pname:npf_k_layer1_gr_inst:0_ptype:gr_pstyle:m_i:0_j:3_x:875.00_y:9875.00_zone:1    pname:npf_k_layer1_gr_inst:0_ptype:gr_pstyle:m_i:0_j:3_x:875.00_y:9875.00_zone:1   \n",
       "pname:npf_k_layer1_gr_inst:0_ptype:gr_pstyle:m_i:0_j:4_x:1125.00_y:9875.00_zone:1  pname:npf_k_layer1_gr_inst:0_ptype:gr_pstyle:m_i:0_j:4_x:1125.00_y:9875.00_zone:1   \n",
       "\n",
       "                                                                                   parval1  \\\n",
       "pname:npf_k_layer1_gr_inst:0_ptype:gr_pstyle:m_i:0_j:0_x:125.00_y:9875.00_zone:1       1.0   \n",
       "pname:npf_k_layer1_gr_inst:0_ptype:gr_pstyle:m_i:0_j:1_x:375.00_y:9875.00_zone:1       1.0   \n",
       "pname:npf_k_layer1_gr_inst:0_ptype:gr_pstyle:m_i:0_j:2_x:625.00_y:9875.00_zone:1       1.0   \n",
       "pname:npf_k_layer1_gr_inst:0_ptype:gr_pstyle:m_i:0_j:3_x:875.00_y:9875.00_zone:1       1.0   \n",
       "pname:npf_k_layer1_gr_inst:0_ptype:gr_pstyle:m_i:0_j:4_x:1125.00_y:9875.00_zone:1      1.0   \n",
       "\n",
       "                                                                                   i  \\\n",
       "pname:npf_k_layer1_gr_inst:0_ptype:gr_pstyle:m_i:0_j:0_x:125.00_y:9875.00_zone:1   0   \n",
       "pname:npf_k_layer1_gr_inst:0_ptype:gr_pstyle:m_i:0_j:1_x:375.00_y:9875.00_zone:1   0   \n",
       "pname:npf_k_layer1_gr_inst:0_ptype:gr_pstyle:m_i:0_j:2_x:625.00_y:9875.00_zone:1   0   \n",
       "pname:npf_k_layer1_gr_inst:0_ptype:gr_pstyle:m_i:0_j:3_x:875.00_y:9875.00_zone:1   0   \n",
       "pname:npf_k_layer1_gr_inst:0_ptype:gr_pstyle:m_i:0_j:4_x:1125.00_y:9875.00_zone:1  0   \n",
       "\n",
       "                                                                                   j  \\\n",
       "pname:npf_k_layer1_gr_inst:0_ptype:gr_pstyle:m_i:0_j:0_x:125.00_y:9875.00_zone:1   0   \n",
       "pname:npf_k_layer1_gr_inst:0_ptype:gr_pstyle:m_i:0_j:1_x:375.00_y:9875.00_zone:1   1   \n",
       "pname:npf_k_layer1_gr_inst:0_ptype:gr_pstyle:m_i:0_j:2_x:625.00_y:9875.00_zone:1   2   \n",
       "pname:npf_k_layer1_gr_inst:0_ptype:gr_pstyle:m_i:0_j:3_x:875.00_y:9875.00_zone:1   3   \n",
       "pname:npf_k_layer1_gr_inst:0_ptype:gr_pstyle:m_i:0_j:4_x:1125.00_y:9875.00_zone:1  4   \n",
       "\n",
       "                                                                                        x  \\\n",
       "pname:npf_k_layer1_gr_inst:0_ptype:gr_pstyle:m_i:0_j:0_x:125.00_y:9875.00_zone:1    125.0   \n",
       "pname:npf_k_layer1_gr_inst:0_ptype:gr_pstyle:m_i:0_j:1_x:375.00_y:9875.00_zone:1    375.0   \n",
       "pname:npf_k_layer1_gr_inst:0_ptype:gr_pstyle:m_i:0_j:2_x:625.00_y:9875.00_zone:1    625.0   \n",
       "pname:npf_k_layer1_gr_inst:0_ptype:gr_pstyle:m_i:0_j:3_x:875.00_y:9875.00_zone:1    875.0   \n",
       "pname:npf_k_layer1_gr_inst:0_ptype:gr_pstyle:m_i:0_j:4_x:1125.00_y:9875.00_zone:1  1125.0   \n",
       "\n",
       "                                                                                        y  \\\n",
       "pname:npf_k_layer1_gr_inst:0_ptype:gr_pstyle:m_i:0_j:0_x:125.00_y:9875.00_zone:1   9875.0   \n",
       "pname:npf_k_layer1_gr_inst:0_ptype:gr_pstyle:m_i:0_j:1_x:375.00_y:9875.00_zone:1   9875.0   \n",
       "pname:npf_k_layer1_gr_inst:0_ptype:gr_pstyle:m_i:0_j:2_x:625.00_y:9875.00_zone:1   9875.0   \n",
       "pname:npf_k_layer1_gr_inst:0_ptype:gr_pstyle:m_i:0_j:3_x:875.00_y:9875.00_zone:1   9875.0   \n",
       "pname:npf_k_layer1_gr_inst:0_ptype:gr_pstyle:m_i:0_j:4_x:1125.00_y:9875.00_zone:1  9875.0   \n",
       "\n",
       "                                                                                             pargp  \\\n",
       "pname:npf_k_layer1_gr_inst:0_ptype:gr_pstyle:m_i:0_j:0_x:125.00_y:9875.00_zone:1   npf_k_layer1_gr   \n",
       "pname:npf_k_layer1_gr_inst:0_ptype:gr_pstyle:m_i:0_j:1_x:375.00_y:9875.00_zone:1   npf_k_layer1_gr   \n",
       "pname:npf_k_layer1_gr_inst:0_ptype:gr_pstyle:m_i:0_j:2_x:625.00_y:9875.00_zone:1   npf_k_layer1_gr   \n",
       "pname:npf_k_layer1_gr_inst:0_ptype:gr_pstyle:m_i:0_j:3_x:875.00_y:9875.00_zone:1   npf_k_layer1_gr   \n",
       "pname:npf_k_layer1_gr_inst:0_ptype:gr_pstyle:m_i:0_j:4_x:1125.00_y:9875.00_zone:1  npf_k_layer1_gr   \n",
       "\n",
       "                                                                                                                            tpl_filename  \\\n",
       "pname:npf_k_layer1_gr_inst:0_ptype:gr_pstyle:m_i:0_j:0_x:125.00_y:9875.00_zone:1   freyberg6_template\\npf_k_layer1_gr_inst0_grid.csv.tpl   \n",
       "pname:npf_k_layer1_gr_inst:0_ptype:gr_pstyle:m_i:0_j:1_x:375.00_y:9875.00_zone:1   freyberg6_template\\npf_k_layer1_gr_inst0_grid.csv.tpl   \n",
       "pname:npf_k_layer1_gr_inst:0_ptype:gr_pstyle:m_i:0_j:2_x:625.00_y:9875.00_zone:1   freyberg6_template\\npf_k_layer1_gr_inst0_grid.csv.tpl   \n",
       "pname:npf_k_layer1_gr_inst:0_ptype:gr_pstyle:m_i:0_j:3_x:875.00_y:9875.00_zone:1   freyberg6_template\\npf_k_layer1_gr_inst0_grid.csv.tpl   \n",
       "pname:npf_k_layer1_gr_inst:0_ptype:gr_pstyle:m_i:0_j:4_x:1125.00_y:9875.00_zone:1  freyberg6_template\\npf_k_layer1_gr_inst0_grid.csv.tpl   \n",
       "\n",
       "                                                                                                                           input_filename  \\\n",
       "pname:npf_k_layer1_gr_inst:0_ptype:gr_pstyle:m_i:0_j:0_x:125.00_y:9875.00_zone:1   freyberg6_template\\mult\\npf_k_layer1_gr_inst0_grid.csv   \n",
       "pname:npf_k_layer1_gr_inst:0_ptype:gr_pstyle:m_i:0_j:1_x:375.00_y:9875.00_zone:1   freyberg6_template\\mult\\npf_k_layer1_gr_inst0_grid.csv   \n",
       "pname:npf_k_layer1_gr_inst:0_ptype:gr_pstyle:m_i:0_j:2_x:625.00_y:9875.00_zone:1   freyberg6_template\\mult\\npf_k_layer1_gr_inst0_grid.csv   \n",
       "pname:npf_k_layer1_gr_inst:0_ptype:gr_pstyle:m_i:0_j:3_x:875.00_y:9875.00_zone:1   freyberg6_template\\mult\\npf_k_layer1_gr_inst0_grid.csv   \n",
       "pname:npf_k_layer1_gr_inst:0_ptype:gr_pstyle:m_i:0_j:4_x:1125.00_y:9875.00_zone:1  freyberg6_template\\mult\\npf_k_layer1_gr_inst0_grid.csv   \n",
       "\n",
       "                                                                                  partype  \\\n",
       "pname:npf_k_layer1_gr_inst:0_ptype:gr_pstyle:m_i:0_j:0_x:125.00_y:9875.00_zone:1     grid   \n",
       "pname:npf_k_layer1_gr_inst:0_ptype:gr_pstyle:m_i:0_j:1_x:375.00_y:9875.00_zone:1     grid   \n",
       "pname:npf_k_layer1_gr_inst:0_ptype:gr_pstyle:m_i:0_j:2_x:625.00_y:9875.00_zone:1     grid   \n",
       "pname:npf_k_layer1_gr_inst:0_ptype:gr_pstyle:m_i:0_j:3_x:875.00_y:9875.00_zone:1     grid   \n",
       "pname:npf_k_layer1_gr_inst:0_ptype:gr_pstyle:m_i:0_j:4_x:1125.00_y:9875.00_zone:1    grid   \n",
       "\n",
       "                                                                                  partrans  \\\n",
       "pname:npf_k_layer1_gr_inst:0_ptype:gr_pstyle:m_i:0_j:0_x:125.00_y:9875.00_zone:1       log   \n",
       "pname:npf_k_layer1_gr_inst:0_ptype:gr_pstyle:m_i:0_j:1_x:375.00_y:9875.00_zone:1       log   \n",
       "pname:npf_k_layer1_gr_inst:0_ptype:gr_pstyle:m_i:0_j:2_x:625.00_y:9875.00_zone:1       log   \n",
       "pname:npf_k_layer1_gr_inst:0_ptype:gr_pstyle:m_i:0_j:3_x:875.00_y:9875.00_zone:1       log   \n",
       "pname:npf_k_layer1_gr_inst:0_ptype:gr_pstyle:m_i:0_j:4_x:1125.00_y:9875.00_zone:1      log   \n",
       "\n",
       "                                                                                   parubnd  \\\n",
       "pname:npf_k_layer1_gr_inst:0_ptype:gr_pstyle:m_i:0_j:0_x:125.00_y:9875.00_zone:1       5.0   \n",
       "pname:npf_k_layer1_gr_inst:0_ptype:gr_pstyle:m_i:0_j:1_x:375.00_y:9875.00_zone:1       5.0   \n",
       "pname:npf_k_layer1_gr_inst:0_ptype:gr_pstyle:m_i:0_j:2_x:625.00_y:9875.00_zone:1       5.0   \n",
       "pname:npf_k_layer1_gr_inst:0_ptype:gr_pstyle:m_i:0_j:3_x:875.00_y:9875.00_zone:1       5.0   \n",
       "pname:npf_k_layer1_gr_inst:0_ptype:gr_pstyle:m_i:0_j:4_x:1125.00_y:9875.00_zone:1      5.0   \n",
       "\n",
       "                                                                                   parlbnd  \\\n",
       "pname:npf_k_layer1_gr_inst:0_ptype:gr_pstyle:m_i:0_j:0_x:125.00_y:9875.00_zone:1       0.2   \n",
       "pname:npf_k_layer1_gr_inst:0_ptype:gr_pstyle:m_i:0_j:1_x:375.00_y:9875.00_zone:1       0.2   \n",
       "pname:npf_k_layer1_gr_inst:0_ptype:gr_pstyle:m_i:0_j:2_x:625.00_y:9875.00_zone:1       0.2   \n",
       "pname:npf_k_layer1_gr_inst:0_ptype:gr_pstyle:m_i:0_j:3_x:875.00_y:9875.00_zone:1       0.2   \n",
       "pname:npf_k_layer1_gr_inst:0_ptype:gr_pstyle:m_i:0_j:4_x:1125.00_y:9875.00_zone:1      0.2   \n",
       "\n",
       "                                                                                   dercom  \\\n",
       "pname:npf_k_layer1_gr_inst:0_ptype:gr_pstyle:m_i:0_j:0_x:125.00_y:9875.00_zone:1        1   \n",
       "pname:npf_k_layer1_gr_inst:0_ptype:gr_pstyle:m_i:0_j:1_x:375.00_y:9875.00_zone:1        1   \n",
       "pname:npf_k_layer1_gr_inst:0_ptype:gr_pstyle:m_i:0_j:2_x:625.00_y:9875.00_zone:1        1   \n",
       "pname:npf_k_layer1_gr_inst:0_ptype:gr_pstyle:m_i:0_j:3_x:875.00_y:9875.00_zone:1        1   \n",
       "pname:npf_k_layer1_gr_inst:0_ptype:gr_pstyle:m_i:0_j:4_x:1125.00_y:9875.00_zone:1       1   \n",
       "\n",
       "                                                                                   scale  \\\n",
       "pname:npf_k_layer1_gr_inst:0_ptype:gr_pstyle:m_i:0_j:0_x:125.00_y:9875.00_zone:1     1.0   \n",
       "pname:npf_k_layer1_gr_inst:0_ptype:gr_pstyle:m_i:0_j:1_x:375.00_y:9875.00_zone:1     1.0   \n",
       "pname:npf_k_layer1_gr_inst:0_ptype:gr_pstyle:m_i:0_j:2_x:625.00_y:9875.00_zone:1     1.0   \n",
       "pname:npf_k_layer1_gr_inst:0_ptype:gr_pstyle:m_i:0_j:3_x:875.00_y:9875.00_zone:1     1.0   \n",
       "pname:npf_k_layer1_gr_inst:0_ptype:gr_pstyle:m_i:0_j:4_x:1125.00_y:9875.00_zone:1    1.0   \n",
       "\n",
       "                                                                                  parchglim  \\\n",
       "pname:npf_k_layer1_gr_inst:0_ptype:gr_pstyle:m_i:0_j:0_x:125.00_y:9875.00_zone:1     factor   \n",
       "pname:npf_k_layer1_gr_inst:0_ptype:gr_pstyle:m_i:0_j:1_x:375.00_y:9875.00_zone:1     factor   \n",
       "pname:npf_k_layer1_gr_inst:0_ptype:gr_pstyle:m_i:0_j:2_x:625.00_y:9875.00_zone:1     factor   \n",
       "pname:npf_k_layer1_gr_inst:0_ptype:gr_pstyle:m_i:0_j:3_x:875.00_y:9875.00_zone:1     factor   \n",
       "pname:npf_k_layer1_gr_inst:0_ptype:gr_pstyle:m_i:0_j:4_x:1125.00_y:9875.00_zone:1    factor   \n",
       "\n",
       "                                                                                   offset  \n",
       "pname:npf_k_layer1_gr_inst:0_ptype:gr_pstyle:m_i:0_j:0_x:125.00_y:9875.00_zone:1      0.0  \n",
       "pname:npf_k_layer1_gr_inst:0_ptype:gr_pstyle:m_i:0_j:1_x:375.00_y:9875.00_zone:1      0.0  \n",
       "pname:npf_k_layer1_gr_inst:0_ptype:gr_pstyle:m_i:0_j:2_x:625.00_y:9875.00_zone:1      0.0  \n",
       "pname:npf_k_layer1_gr_inst:0_ptype:gr_pstyle:m_i:0_j:3_x:875.00_y:9875.00_zone:1      0.0  \n",
       "pname:npf_k_layer1_gr_inst:0_ptype:gr_pstyle:m_i:0_j:4_x:1125.00_y:9875.00_zone:1     0.0  "
      ]
     },
     "execution_count": 21,
     "metadata": {},
     "output_type": "execute_result"
    }
   ],
   "source": [
    "df_gr.head()"
   ]
  },
  {
   "cell_type": "markdown",
   "metadata": {},
   "source": [
    "Now, we add pilot point (medium scale) multiplier parameters to the same model input file. These multipliers are assigned to pilot points, which are subsequently interpolated to values in the array.\n",
    "\n",
    "You can add pilot points in two ways:\n",
    "\n",
    "1. `PstFrom` can generate them for you on a regular grid or \n",
    "2. you can supply `PstFrom` with existing pilot point location information. \n",
    "\n",
    "When you change `par_type` to \"pilotpoints\", by default, a regular grid of pilot points is setup using a default `pp_space` value of 10 (which is every 10th row and column). You can chnge this spacing by passing a integer to `pp_space` (as demonstrated below). \n",
    "\n",
    "Alternatively you can specify a filename or dataframe with pilot point locations. If you supply `pp_space` as a `str` it is assumed to be a filename. The extension is the guide: \".csv\" for dataframe, \".shp\" for shapefile (point-type). Anything else and the file is assumed to be a pilot points file type. The dataframe (or .csv file) must have \"name\", \"x\", and \"y\" as columns - it can have more, but must have those. "
   ]
  },
  {
   "cell_type": "code",
   "execution_count": 22,
   "metadata": {
    "execution": {
     "iopub.execute_input": "2022-03-15T05:20:34.341742Z",
     "iopub.status.busy": "2022-03-15T05:20:34.341742Z",
     "iopub.status.idle": "2022-03-15T05:20:51.761447Z",
     "shell.execute_reply": "2022-03-15T05:20:51.760412Z"
    }
   },
   "outputs": [
    {
     "name": "stdout",
     "output_type": "stream",
     "text": [
      "2022-03-15 15:50:34.340745 starting: adding pilotpoints type m style parameters for file(s) ['freyberg6.npf_k_layer1.txt']\n",
      "2022-03-15 15:50:34.340745 starting: loading array freyberg6_template\\freyberg6.npf_k_layer1.txt\n",
      "2022-03-15 15:50:34.342739 finished: loading array freyberg6_template\\freyberg6.npf_k_layer1.txt took: 0:00:00.001994\n",
      "2022-03-15 15:50:34.342739 loaded array 'freyberg_mf6\\freyberg6.npf_k_layer1.txt' of shape (40, 20)\n",
      "2022-03-15 15:50:34.344769 starting: writing array-style template file 'freyberg6_template\\npf_k_layer1_pp_inst0_pilotpoints.csv.tpl'\n",
      "2022-03-15 15:50:34.344769 starting: setting up pilot point parameters\n",
      "2022-03-15 15:50:34.344769 No spatial reference (containing cell spacing) passed.\n",
      "2022-03-15 15:50:34.344769 OK - using spatial reference in parent object.\n",
      "2022-03-15 15:50:34.420533 32 pilot point parameters created\n"
     ]
    },
    {
     "name": "stdout",
     "output_type": "stream",
     "text": [
      "2022-03-15 15:50:34.420533 pilot point 'pargp':npf_k_layer1_pp\n",
      "2022-03-15 15:50:34.420533 finished: setting up pilot point parameters took: 0:00:00.075764\n",
      "2022-03-15 15:50:34.427513 starting: calculating factors for pargp=npf_k_layer1_pp\n",
      "2022-03-15 15:50:34.427513 saving krige variance file:freyberg6_template\\npf_k_layer1_pp_inst0pp.var.dat\n",
      "2022-03-15 15:50:34.427513 saving krige factors file:freyberg6_template\\npf_k_layer1_pp_inst0pp.fac\n",
      "starting interp point loop for 706 points\n"
     ]
    },
    {
     "name": "stdout",
     "output_type": "stream",
     "text": [
      "starting 0\n"
     ]
    },
    {
     "name": "stdout",
     "output_type": "stream",
     "text": [
      "starting 1\n"
     ]
    },
    {
     "name": "stdout",
     "output_type": "stream",
     "text": [
      "starting 2\n"
     ]
    },
    {
     "name": "stdout",
     "output_type": "stream",
     "text": [
      "starting 3\n"
     ]
    },
    {
     "name": "stdout",
     "output_type": "stream",
     "text": [
      "starting 4\n"
     ]
    },
    {
     "name": "stdout",
     "output_type": "stream",
     "text": [
      "starting 5\n"
     ]
    },
    {
     "name": "stdout",
     "output_type": "stream",
     "text": [
      "starting 6\n"
     ]
    },
    {
     "name": "stdout",
     "output_type": "stream",
     "text": [
      "starting 7\n"
     ]
    },
    {
     "name": "stdout",
     "output_type": "stream",
     "text": [
      "starting 8\n"
     ]
    },
    {
     "name": "stdout",
     "output_type": "stream",
     "text": [
      "starting 9\n"
     ]
    },
    {
     "name": "stdout",
     "output_type": "stream",
     "text": [
      "took 17.264002 seconds\n",
      "2022-03-15 15:50:51.738336 finished: calculating factors for pargp=npf_k_layer1_pp took: 0:00:17.310823\n",
      "2022-03-15 15:50:51.738336 starting: writing array-based template file 'freyberg6_template\\npf_k_layer1_pp_inst0pp.dat.tpl'\n",
      "2022-03-15 15:50:51.739332 saving zone array freyberg6_template\\npf_k_layer1_pp_inst0pp.dat.zone for tpl file freyberg6_template\\npf_k_layer1_pp_inst0pp.dat.tpl\n",
      "2022-03-15 15:50:51.744352 finished: adding pilotpoints type m style parameters for file(s) ['freyberg6.npf_k_layer1.txt'] took: 0:00:17.403607\n"
     ]
    }
   ],
   "source": [
    "# pilot point (medium) scale parameters\n",
    "df_pp = pf.add_parameters(f,\n",
    "                    zone_array=ib,\n",
    "                    par_type=\"pilotpoints\",\n",
    "                    geostruct=grid_gs,\n",
    "                    par_name_base=f.split('.')[1]+\"_pp\",\n",
    "                    pargp=f.split('.')[1]+\"_pp\",\n",
    "                    lower_bound=0.2,upper_bound=5.0,\n",
    "                    ult_ubound=100, ult_lbound=0.01,\n",
    "                    pp_space=4) # `PstFrom` will generate a unifrom grid of pilot points in every 4th row and column"
   ]
  },
  {
   "cell_type": "markdown",
   "metadata": {},
   "source": [
    "Lastly, add the constant (coarse) parameter multiplier. This is a single multiplier value applied to all values in the array. "
   ]
  },
  {
   "cell_type": "code",
   "execution_count": 23,
   "metadata": {
    "execution": {
     "iopub.execute_input": "2022-03-15T05:20:51.768433Z",
     "iopub.status.busy": "2022-03-15T05:20:51.767428Z",
     "iopub.status.idle": "2022-03-15T05:20:51.791361Z",
     "shell.execute_reply": "2022-03-15T05:20:51.790333Z"
    }
   },
   "outputs": [
    {
     "name": "stdout",
     "output_type": "stream",
     "text": [
      "2022-03-15 15:50:51.766396 starting: adding constant type m style parameters for file(s) ['freyberg6.npf_k_layer1.txt']\n",
      "2022-03-15 15:50:51.766396 starting: loading array freyberg6_template\\freyberg6.npf_k_layer1.txt\n",
      "2022-03-15 15:50:51.768433 finished: loading array freyberg6_template\\freyberg6.npf_k_layer1.txt took: 0:00:00.002037\n",
      "2022-03-15 15:50:51.768433 loaded array 'freyberg_mf6\\freyberg6.npf_k_layer1.txt' of shape (40, 20)\n",
      "2022-03-15 15:50:51.770431 starting: writing array-style template file 'freyberg6_template\\npf_k_layer1_cn_inst0_constant.csv.tpl'\n",
      "2022-03-15 15:50:51.771386 starting: writing template file freyberg6_template\\npf_k_layer1_cn_inst0_constant.csv.tpl for ['npf_k_layer1_cn_inst:0']\n",
      "2022-03-15 15:50:51.779412 finished: writing template file freyberg6_template\\npf_k_layer1_cn_inst0_constant.csv.tpl for ['npf_k_layer1_cn_inst:0'] took: 0:00:00.008026\n",
      "2022-03-15 15:50:51.779412 starting: writing array-based template file 'freyberg6_template\\npf_k_layer1_cn_inst0_constant.csv.tpl'\n",
      "2022-03-15 15:50:51.779412 saving zone array freyberg6_template\\npf_k_layer1_cn_inst0_constant.csv.zone for tpl file freyberg6_template\\npf_k_layer1_cn_inst0_constant.csv.tpl\n",
      "2022-03-15 15:50:51.785344 finished: adding constant type m style parameters for file(s) ['freyberg6.npf_k_layer1.txt'] took: 0:00:00.018948\n"
     ]
    }
   ],
   "source": [
    "# constant (coarse) scale parameters\n",
    "df_cst = pf.add_parameters(f,\n",
    "                    zone_array=ib,\n",
    "                    par_type=\"constant\",\n",
    "                    geostruct=grid_gs,\n",
    "                    par_name_base=f.split('.')[1]+\"_cn\",\n",
    "                    pargp=f.split('.')[1]+\"_cn\",\n",
    "                    lower_bound=0.2,upper_bound=5.0,\n",
    "                    ult_ubound=100, ult_lbound=0.01)"
   ]
  },
  {
   "cell_type": "markdown",
   "metadata": {},
   "source": [
    "Let's do that for Kh in the other layers. We are going to be doing this a few times, so lets write a function."
   ]
  },
  {
   "cell_type": "code",
   "execution_count": 24,
   "metadata": {
    "execution": {
     "iopub.execute_input": "2022-03-15T05:20:51.798501Z",
     "iopub.status.busy": "2022-03-15T05:20:51.797467Z",
     "iopub.status.idle": "2022-03-15T05:20:51.809737Z",
     "shell.execute_reply": "2022-03-15T05:20:51.808765Z"
    }
   },
   "outputs": [],
   "source": [
    "def add_mult_pars(f, lb=0.2, ub=5.0, ulb=0.01, uub=100):\n",
    "    # grid (fine) scale parameters\n",
    "    pf.add_parameters(f,\n",
    "                    zone_array=ib,\n",
    "                    par_type=\"grid\", #specify the type, these will be unique parameters for each cell\n",
    "                    geostruct=grid_gs, # the gestatisical structure for spatial correlation \n",
    "                    par_name_base=f.split('.')[1]+\"_gr\", #specify a parameter name base that allows us to easily identify the filename and parameter type. \"_gr\" for \"grid\", and so forth.\n",
    "                    pargp=f.split('.')[1]+\"_gr\", #likewise for the parameter group name\n",
    "                    lower_bound=lb, upper_bound=ub, #parameter lower and upper bound\n",
    "                    ult_ubound=uub, ult_lbound=ulb # The ultimate bounds for multiplied model input values. Here we are stating that, after accounting for all multipliers, Kh cannot exceed these values. Very important with multipliers\n",
    "                    )\n",
    "                    \n",
    "    # pilot point (medium) scale parameters\n",
    "    pf.add_parameters(f,\n",
    "                        zone_array=ib,\n",
    "                        par_type=\"pilotpoints\",\n",
    "                        geostruct=grid_gs,\n",
    "                        par_name_base=f.split('.')[1]+\"_pp\",\n",
    "                        pargp=f.split('.')[1]+\"_pp\",\n",
    "                        lower_bound=lb, upper_bound=ub,\n",
    "                        ult_ubound=uub, ult_lbound=ulb,\n",
    "                        pp_space=4) # `PstFrom` will generate a unifrom grid of pilot points in every 4th row and column\n",
    "\n",
    "    # constant (coarse) scale parameters\n",
    "    pf.add_parameters(f,\n",
    "                        zone_array=ib,\n",
    "                        par_type=\"constant\",\n",
    "                        geostruct=grid_gs,\n",
    "                        par_name_base=f.split('.')[1]+\"_cn\",\n",
    "                        pargp=f.split('.')[1]+\"_cn\",\n",
    "                        lower_bound=lb, upper_bound=ub,\n",
    "                        ult_ubound=uub, ult_lbound=ulb)\n",
    "    return"
   ]
  },
  {
   "cell_type": "code",
   "execution_count": 25,
   "metadata": {
    "execution": {
     "iopub.execute_input": "2022-03-15T05:20:51.815684Z",
     "iopub.status.busy": "2022-03-15T05:20:51.814687Z",
     "iopub.status.idle": "2022-03-15T05:20:52.134507Z",
     "shell.execute_reply": "2022-03-15T05:20:52.133475Z"
    }
   },
   "outputs": [
    {
     "name": "stdout",
     "output_type": "stream",
     "text": [
      "2022-03-15 15:50:51.813725 starting: adding grid type m style parameters for file(s) ['freyberg6.npf_k_layer2.txt']\n",
      "2022-03-15 15:50:51.813725 starting: loading array freyberg6_template\\freyberg6.npf_k_layer2.txt\n",
      "2022-03-15 15:50:51.825656 finished: loading array freyberg6_template\\freyberg6.npf_k_layer2.txt took: 0:00:00.011931\n",
      "2022-03-15 15:50:51.825656 loaded array 'freyberg_mf6\\freyberg6.npf_k_layer2.txt' of shape (40, 20)\n",
      "2022-03-15 15:50:51.827684 starting: writing array-style template file 'freyberg6_template\\npf_k_layer2_gr_inst0_grid.csv.tpl'\n",
      "2022-03-15 15:50:51.827684 starting: writing template file freyberg6_template\\npf_k_layer2_gr_inst0_grid.csv.tpl for ['npf_k_layer2_gr_inst:0']\n",
      "2022-03-15 15:50:51.842477 finished: writing template file freyberg6_template\\npf_k_layer2_gr_inst0_grid.csv.tpl for ['npf_k_layer2_gr_inst:0'] took: 0:00:00.014793\n",
      "2022-03-15 15:50:51.842477 starting: writing array-based template file 'freyberg6_template\\npf_k_layer2_gr_inst0_grid.csv.tpl'\n",
      "2022-03-15 15:50:51.842477 saving zone array freyberg6_template\\npf_k_layer2_gr_inst0_grid.csv.zone for tpl file freyberg6_template\\npf_k_layer2_gr_inst0_grid.csv.tpl\n",
      "2022-03-15 15:50:51.849628 finished: adding grid type m style parameters for file(s) ['freyberg6.npf_k_layer2.txt'] took: 0:00:00.035903\n",
      "2022-03-15 15:50:51.850463 starting: adding pilotpoints type m style parameters for file(s) ['freyberg6.npf_k_layer2.txt']\n",
      "2022-03-15 15:50:51.850463 starting: loading array freyberg6_template\\freyberg6.npf_k_layer2.txt\n",
      "2022-03-15 15:50:51.851453 finished: loading array freyberg6_template\\freyberg6.npf_k_layer2.txt took: 0:00:00.000990\n",
      "2022-03-15 15:50:51.851453 loaded array 'freyberg_mf6\\freyberg6.npf_k_layer2.txt' of shape (40, 20)\n",
      "2022-03-15 15:50:51.853450 starting: writing array-style template file 'freyberg6_template\\npf_k_layer2_pp_inst0_pilotpoints.csv.tpl'\n",
      "2022-03-15 15:50:51.853450 starting: setting up pilot point parameters\n",
      "2022-03-15 15:50:51.853450 No spatial reference (containing cell spacing) passed.\n",
      "2022-03-15 15:50:51.853450 OK - using spatial reference in parent object.\n"
     ]
    },
    {
     "name": "stdout",
     "output_type": "stream",
     "text": [
      "2022-03-15 15:50:51.929640 32 pilot point parameters created\n",
      "2022-03-15 15:50:51.929640 pilot point 'pargp':npf_k_layer2_pp\n",
      "2022-03-15 15:50:51.929640 finished: setting up pilot point parameters took: 0:00:00.076190\n",
      "2022-03-15 15:50:51.936636 starting: writing array-based template file 'freyberg6_template\\npf_k_layer2_pp_inst0pp.dat.tpl'\n",
      "2022-03-15 15:50:51.936636 saving zone array freyberg6_template\\npf_k_layer2_pp_inst0pp.dat.zone for tpl file freyberg6_template\\npf_k_layer2_pp_inst0pp.dat.tpl\n",
      "2022-03-15 15:50:51.972533 finished: adding pilotpoints type m style parameters for file(s) ['freyberg6.npf_k_layer2.txt'] took: 0:00:00.122070\n",
      "2022-03-15 15:50:51.972533 starting: adding constant type m style parameters for file(s) ['freyberg6.npf_k_layer2.txt']\n",
      "2022-03-15 15:50:51.972533 starting: loading array freyberg6_template\\freyberg6.npf_k_layer2.txt\n"
     ]
    },
    {
     "name": "stdout",
     "output_type": "stream",
     "text": [
      "2022-03-15 15:50:51.974526 finished: loading array freyberg6_template\\freyberg6.npf_k_layer2.txt took: 0:00:00.001993\n",
      "2022-03-15 15:50:51.974526 loaded array 'freyberg_mf6\\freyberg6.npf_k_layer2.txt' of shape (40, 20)\n",
      "2022-03-15 15:50:51.976503 starting: writing array-style template file 'freyberg6_template\\npf_k_layer2_cn_inst0_constant.csv.tpl'\n",
      "2022-03-15 15:50:51.976503 starting: writing template file freyberg6_template\\npf_k_layer2_cn_inst0_constant.csv.tpl for ['npf_k_layer2_cn_inst:0']\n",
      "2022-03-15 15:50:51.983504 finished: writing template file freyberg6_template\\npf_k_layer2_cn_inst0_constant.csv.tpl for ['npf_k_layer2_cn_inst:0'] took: 0:00:00.007001\n",
      "2022-03-15 15:50:51.984499 starting: writing array-based template file 'freyberg6_template\\npf_k_layer2_cn_inst0_constant.csv.tpl'\n",
      "2022-03-15 15:50:51.984499 saving zone array freyberg6_template\\npf_k_layer2_cn_inst0_constant.csv.zone for tpl file freyberg6_template\\npf_k_layer2_cn_inst0_constant.csv.tpl\n",
      "2022-03-15 15:50:51.990433 finished: adding constant type m style parameters for file(s) ['freyberg6.npf_k_layer2.txt'] took: 0:00:00.017900\n",
      "2022-03-15 15:50:51.990433 starting: adding grid type m style parameters for file(s) ['freyberg6.npf_k_layer3.txt']\n",
      "2022-03-15 15:50:51.990433 starting: loading array freyberg6_template\\freyberg6.npf_k_layer3.txt\n",
      "2022-03-15 15:50:51.998467 finished: loading array freyberg6_template\\freyberg6.npf_k_layer3.txt took: 0:00:00.008034\n",
      "2022-03-15 15:50:51.998467 loaded array 'freyberg_mf6\\freyberg6.npf_k_layer3.txt' of shape (40, 20)\n"
     ]
    },
    {
     "name": "stdout",
     "output_type": "stream",
     "text": [
      "2022-03-15 15:50:52.001457 starting: writing array-style template file 'freyberg6_template\\npf_k_layer3_gr_inst0_grid.csv.tpl'\n",
      "2022-03-15 15:50:52.001457 starting: writing template file freyberg6_template\\npf_k_layer3_gr_inst0_grid.csv.tpl for ['npf_k_layer3_gr_inst:0']\n",
      "2022-03-15 15:50:52.013424 finished: writing template file freyberg6_template\\npf_k_layer3_gr_inst0_grid.csv.tpl for ['npf_k_layer3_gr_inst:0'] took: 0:00:00.011967\n",
      "2022-03-15 15:50:52.014389 starting: writing array-based template file 'freyberg6_template\\npf_k_layer3_gr_inst0_grid.csv.tpl'\n",
      "2022-03-15 15:50:52.014389 saving zone array freyberg6_template\\npf_k_layer3_gr_inst0_grid.csv.zone for tpl file freyberg6_template\\npf_k_layer3_gr_inst0_grid.csv.tpl\n",
      "2022-03-15 15:50:52.021383 finished: adding grid type m style parameters for file(s) ['freyberg6.npf_k_layer3.txt'] took: 0:00:00.030950\n",
      "2022-03-15 15:50:52.021383 starting: adding pilotpoints type m style parameters for file(s) ['freyberg6.npf_k_layer3.txt']\n",
      "2022-03-15 15:50:52.021383 starting: loading array freyberg6_template\\freyberg6.npf_k_layer3.txt\n",
      "2022-03-15 15:50:52.023395 finished: loading array freyberg6_template\\freyberg6.npf_k_layer3.txt took: 0:00:00.002012\n",
      "2022-03-15 15:50:52.023395 loaded array 'freyberg_mf6\\freyberg6.npf_k_layer3.txt' of shape (40, 20)\n",
      "2022-03-15 15:50:52.024393 starting: writing array-style template file 'freyberg6_template\\npf_k_layer3_pp_inst0_pilotpoints.csv.tpl'\n",
      "2022-03-15 15:50:52.024393 starting: setting up pilot point parameters\n",
      "2022-03-15 15:50:52.025339 No spatial reference (containing cell spacing) passed.\n",
      "2022-03-15 15:50:52.025339 OK - using spatial reference in parent object.\n",
      "2022-03-15 15:50:52.100614 32 pilot point parameters created\n",
      "2022-03-15 15:50:52.100614 pilot point 'pargp':npf_k_layer3_pp\n",
      "2022-03-15 15:50:52.100614 finished: setting up pilot point parameters took: 0:00:00.076221\n"
     ]
    },
    {
     "name": "stdout",
     "output_type": "stream",
     "text": [
      "2022-03-15 15:50:52.107544 starting: writing array-based template file 'freyberg6_template\\npf_k_layer3_pp_inst0pp.dat.tpl'\n",
      "2022-03-15 15:50:52.108583 saving zone array freyberg6_template\\npf_k_layer3_pp_inst0pp.dat.zone for tpl file freyberg6_template\\npf_k_layer3_pp_inst0pp.dat.tpl\n",
      "2022-03-15 15:50:52.113580 finished: adding pilotpoints type m style parameters for file(s) ['freyberg6.npf_k_layer3.txt'] took: 0:00:00.092197\n",
      "2022-03-15 15:50:52.113580 starting: adding constant type m style parameters for file(s) ['freyberg6.npf_k_layer3.txt']\n",
      "2022-03-15 15:50:52.113580 starting: loading array freyberg6_template\\freyberg6.npf_k_layer3.txt\n",
      "2022-03-15 15:50:52.114578 finished: loading array freyberg6_template\\freyberg6.npf_k_layer3.txt took: 0:00:00.000998\n",
      "2022-03-15 15:50:52.114578 loaded array 'freyberg_mf6\\freyberg6.npf_k_layer3.txt' of shape (40, 20)\n",
      "2022-03-15 15:50:52.116571 starting: writing array-style template file 'freyberg6_template\\npf_k_layer3_cn_inst0_constant.csv.tpl'\n",
      "2022-03-15 15:50:52.117521 starting: writing template file freyberg6_template\\npf_k_layer3_cn_inst0_constant.csv.tpl for ['npf_k_layer3_cn_inst:0']\n",
      "2022-03-15 15:50:52.124537 finished: writing template file freyberg6_template\\npf_k_layer3_cn_inst0_constant.csv.tpl for ['npf_k_layer3_cn_inst:0'] took: 0:00:00.007016\n",
      "2022-03-15 15:50:52.124537 starting: writing array-based template file 'freyberg6_template\\npf_k_layer3_cn_inst0_constant.csv.tpl'\n",
      "2022-03-15 15:50:52.124537 saving zone array freyberg6_template\\npf_k_layer3_cn_inst0_constant.csv.zone for tpl file freyberg6_template\\npf_k_layer3_cn_inst0_constant.csv.tpl\n",
      "2022-03-15 15:50:52.130516 finished: adding constant type m style parameters for file(s) ['freyberg6.npf_k_layer3.txt'] took: 0:00:00.016936\n"
     ]
    }
   ],
   "source": [
    "for f in files[1:]:\n",
    "    add_mult_pars(f, lb=0.2, ub=5.0, ulb=0.01, uub=100)"
   ]
  },
  {
   "cell_type": "markdown",
   "metadata": {},
   "source": [
    "Well...hot damn, wasn't that easy? Let's speed through the other array parameter files."
   ]
  },
  {
   "cell_type": "code",
   "execution_count": 26,
   "metadata": {
    "execution": {
     "iopub.execute_input": "2022-03-15T05:20:52.140456Z",
     "iopub.status.busy": "2022-03-15T05:20:52.139492Z",
     "iopub.status.idle": "2022-03-15T05:20:53.028887Z",
     "shell.execute_reply": "2022-03-15T05:20:53.027891Z"
    }
   },
   "outputs": [
    {
     "name": "stdout",
     "output_type": "stream",
     "text": [
      "2022-03-15 15:50:52.139492 starting: adding grid type m style parameters for file(s) ['freyberg6.npf_k33_layer1.txt']\n",
      "2022-03-15 15:50:52.140456 starting: loading array freyberg6_template\\freyberg6.npf_k33_layer1.txt\n",
      "2022-03-15 15:50:52.147437 finished: loading array freyberg6_template\\freyberg6.npf_k33_layer1.txt took: 0:00:00.006981\n",
      "2022-03-15 15:50:52.147437 loaded array 'freyberg_mf6\\freyberg6.npf_k33_layer1.txt' of shape (40, 20)\n",
      "2022-03-15 15:50:52.150431 starting: writing array-style template file 'freyberg6_template\\npf_k33_layer1_gr_inst0_grid.csv.tpl'\n"
     ]
    },
    {
     "name": "stdout",
     "output_type": "stream",
     "text": [
      "2022-03-15 15:50:52.151428 starting: writing template file freyberg6_template\\npf_k33_layer1_gr_inst0_grid.csv.tpl for ['npf_k33_layer1_gr_inst:0']\n",
      "2022-03-15 15:50:52.164393 finished: writing template file freyberg6_template\\npf_k33_layer1_gr_inst0_grid.csv.tpl for ['npf_k33_layer1_gr_inst:0'] took: 0:00:00.012965\n",
      "2022-03-15 15:50:52.164393 starting: writing array-based template file 'freyberg6_template\\npf_k33_layer1_gr_inst0_grid.csv.tpl'\n",
      "2022-03-15 15:50:52.164393 saving zone array freyberg6_template\\npf_k33_layer1_gr_inst0_grid.csv.zone for tpl file freyberg6_template\\npf_k33_layer1_gr_inst0_grid.csv.tpl\n",
      "2022-03-15 15:50:52.172372 finished: adding grid type m style parameters for file(s) ['freyberg6.npf_k33_layer1.txt'] took: 0:00:00.032880\n",
      "2022-03-15 15:50:52.172372 starting: adding pilotpoints type m style parameters for file(s) ['freyberg6.npf_k33_layer1.txt']\n",
      "2022-03-15 15:50:52.172372 starting: loading array freyberg6_template\\freyberg6.npf_k33_layer1.txt\n",
      "2022-03-15 15:50:52.174404 finished: loading array freyberg6_template\\freyberg6.npf_k33_layer1.txt took: 0:00:00.002032\n",
      "2022-03-15 15:50:52.174404 loaded array 'freyberg_mf6\\freyberg6.npf_k33_layer1.txt' of shape (40, 20)\n",
      "2022-03-15 15:50:52.176412 starting: writing array-style template file 'freyberg6_template\\npf_k33_layer1_pp_inst0_pilotpoints.csv.tpl'\n",
      "2022-03-15 15:50:52.176412 starting: setting up pilot point parameters\n",
      "2022-03-15 15:50:52.176412 No spatial reference (containing cell spacing) passed.\n",
      "2022-03-15 15:50:52.176412 OK - using spatial reference in parent object.\n"
     ]
    },
    {
     "name": "stdout",
     "output_type": "stream",
     "text": [
      "2022-03-15 15:50:52.253155 32 pilot point parameters created\n",
      "2022-03-15 15:50:52.253155 pilot point 'pargp':npf_k33_layer1_pp\n",
      "2022-03-15 15:50:52.253155 finished: setting up pilot point parameters took: 0:00:00.076743\n",
      "2022-03-15 15:50:52.259191 starting: writing array-based template file 'freyberg6_template\\npf_k33_layer1_pp_inst0pp.dat.tpl'\n",
      "2022-03-15 15:50:52.260193 saving zone array freyberg6_template\\npf_k33_layer1_pp_inst0pp.dat.zone for tpl file freyberg6_template\\npf_k33_layer1_pp_inst0pp.dat.tpl\n",
      "2022-03-15 15:50:52.265123 finished: adding pilotpoints type m style parameters for file(s) ['freyberg6.npf_k33_layer1.txt'] took: 0:00:00.092751\n",
      "2022-03-15 15:50:52.265123 starting: adding constant type m style parameters for file(s) ['freyberg6.npf_k33_layer1.txt']\n",
      "2022-03-15 15:50:52.265123 starting: loading array freyberg6_template\\freyberg6.npf_k33_layer1.txt\n",
      "2022-03-15 15:50:52.267118 finished: loading array freyberg6_template\\freyberg6.npf_k33_layer1.txt took: 0:00:00.001995\n",
      "2022-03-15 15:50:52.267118 loaded array 'freyberg_mf6\\freyberg6.npf_k33_layer1.txt' of shape (40, 20)\n",
      "2022-03-15 15:50:52.269113 starting: writing array-style template file 'freyberg6_template\\npf_k33_layer1_cn_inst0_constant.csv.tpl'\n",
      "2022-03-15 15:50:52.269113 starting: writing template file freyberg6_template\\npf_k33_layer1_cn_inst0_constant.csv.tpl for ['npf_k33_layer1_cn_inst:0']\n",
      "2022-03-15 15:50:52.275952 finished: writing template file freyberg6_template\\npf_k33_layer1_cn_inst0_constant.csv.tpl for ['npf_k33_layer1_cn_inst:0'] took: 0:00:00.006839\n",
      "2022-03-15 15:50:52.276950 starting: writing array-based template file 'freyberg6_template\\npf_k33_layer1_cn_inst0_constant.csv.tpl'\n",
      "2022-03-15 15:50:52.276950 saving zone array freyberg6_template\\npf_k33_layer1_cn_inst0_constant.csv.zone for tpl file freyberg6_template\\npf_k33_layer1_cn_inst0_constant.csv.tpl\n",
      "2022-03-15 15:50:52.282995 finished: adding constant type m style parameters for file(s) ['freyberg6.npf_k33_layer1.txt'] took: 0:00:00.017872\n",
      "2022-03-15 15:50:52.282995 starting: adding grid type m style parameters for file(s) ['freyberg6.npf_k33_layer2.txt']\n",
      "2022-03-15 15:50:52.282995 starting: loading array freyberg6_template\\freyberg6.npf_k33_layer2.txt\n",
      "2022-03-15 15:50:52.289915 finished: loading array freyberg6_template\\freyberg6.npf_k33_layer2.txt took: 0:00:00.006920\n",
      "2022-03-15 15:50:52.289915 loaded array 'freyberg_mf6\\freyberg6.npf_k33_layer2.txt' of shape (40, 20)\n"
     ]
    },
    {
     "name": "stdout",
     "output_type": "stream",
     "text": [
      "2022-03-15 15:50:52.292907 starting: writing array-style template file 'freyberg6_template\\npf_k33_layer2_gr_inst0_grid.csv.tpl'\n",
      "2022-03-15 15:50:52.292907 starting: writing template file freyberg6_template\\npf_k33_layer2_gr_inst0_grid.csv.tpl for ['npf_k33_layer2_gr_inst:0']\n",
      "2022-03-15 15:50:52.304874 finished: writing template file freyberg6_template\\npf_k33_layer2_gr_inst0_grid.csv.tpl for ['npf_k33_layer2_gr_inst:0'] took: 0:00:00.011967\n",
      "2022-03-15 15:50:52.305872 starting: writing array-based template file 'freyberg6_template\\npf_k33_layer2_gr_inst0_grid.csv.tpl'\n",
      "2022-03-15 15:50:52.305872 saving zone array freyberg6_template\\npf_k33_layer2_gr_inst0_grid.csv.zone for tpl file freyberg6_template\\npf_k33_layer2_gr_inst0_grid.csv.tpl\n",
      "2022-03-15 15:50:52.312904 finished: adding grid type m style parameters for file(s) ['freyberg6.npf_k33_layer2.txt'] took: 0:00:00.029909\n",
      "2022-03-15 15:50:52.312904 starting: adding pilotpoints type m style parameters for file(s) ['freyberg6.npf_k33_layer2.txt']\n",
      "2022-03-15 15:50:52.312904 starting: loading array freyberg6_template\\freyberg6.npf_k33_layer2.txt\n",
      "2022-03-15 15:50:52.313887 finished: loading array freyberg6_template\\freyberg6.npf_k33_layer2.txt took: 0:00:00.000983\n",
      "2022-03-15 15:50:52.314848 loaded array 'freyberg_mf6\\freyberg6.npf_k33_layer2.txt' of shape (40, 20)\n",
      "2022-03-15 15:50:52.316877 starting: writing array-style template file 'freyberg6_template\\npf_k33_layer2_pp_inst0_pilotpoints.csv.tpl'\n",
      "2022-03-15 15:50:52.316877 starting: setting up pilot point parameters\n",
      "2022-03-15 15:50:52.316877 No spatial reference (containing cell spacing) passed.\n",
      "2022-03-15 15:50:52.316877 OK - using spatial reference in parent object.\n"
     ]
    },
    {
     "name": "stdout",
     "output_type": "stream",
     "text": [
      "2022-03-15 15:50:52.403704 32 pilot point parameters created\n",
      "2022-03-15 15:50:52.404665 pilot point 'pargp':npf_k33_layer2_pp\n",
      "2022-03-15 15:50:52.404665 finished: setting up pilot point parameters took: 0:00:00.087788\n",
      "2022-03-15 15:50:52.411683 starting: writing array-based template file 'freyberg6_template\\npf_k33_layer2_pp_inst0pp.dat.tpl'\n",
      "2022-03-15 15:50:52.411683 saving zone array freyberg6_template\\npf_k33_layer2_pp_inst0pp.dat.zone for tpl file freyberg6_template\\npf_k33_layer2_pp_inst0pp.dat.tpl\n",
      "2022-03-15 15:50:52.417663 finished: adding pilotpoints type m style parameters for file(s) ['freyberg6.npf_k33_layer2.txt'] took: 0:00:00.104759\n",
      "2022-03-15 15:50:52.417663 starting: adding constant type m style parameters for file(s) ['freyberg6.npf_k33_layer2.txt']\n",
      "2022-03-15 15:50:52.417663 starting: loading array freyberg6_template\\freyberg6.npf_k33_layer2.txt\n",
      "2022-03-15 15:50:52.419661 finished: loading array freyberg6_template\\freyberg6.npf_k33_layer2.txt took: 0:00:00.001998\n",
      "2022-03-15 15:50:52.419661 loaded array 'freyberg_mf6\\freyberg6.npf_k33_layer2.txt' of shape (40, 20)\n",
      "2022-03-15 15:50:52.420658 starting: writing array-style template file 'freyberg6_template\\npf_k33_layer2_cn_inst0_constant.csv.tpl'\n",
      "2022-03-15 15:50:52.420658 starting: writing template file freyberg6_template\\npf_k33_layer2_cn_inst0_constant.csv.tpl for ['npf_k33_layer2_cn_inst:0']\n",
      "2022-03-15 15:50:52.428631 finished: writing template file freyberg6_template\\npf_k33_layer2_cn_inst0_constant.csv.tpl for ['npf_k33_layer2_cn_inst:0'] took: 0:00:00.007973\n",
      "2022-03-15 15:50:52.428631 starting: writing array-based template file 'freyberg6_template\\npf_k33_layer2_cn_inst0_constant.csv.tpl'\n",
      "2022-03-15 15:50:52.428631 saving zone array freyberg6_template\\npf_k33_layer2_cn_inst0_constant.csv.zone for tpl file freyberg6_template\\npf_k33_layer2_cn_inst0_constant.csv.tpl\n",
      "2022-03-15 15:50:52.434620 finished: adding constant type m style parameters for file(s) ['freyberg6.npf_k33_layer2.txt'] took: 0:00:00.016957\n",
      "2022-03-15 15:50:52.434620 starting: adding grid type m style parameters for file(s) ['freyberg6.npf_k33_layer3.txt']\n",
      "2022-03-15 15:50:52.435620 starting: loading array freyberg6_template\\freyberg6.npf_k33_layer3.txt\n"
     ]
    },
    {
     "name": "stdout",
     "output_type": "stream",
     "text": [
      "2022-03-15 15:50:52.441618 finished: loading array freyberg6_template\\freyberg6.npf_k33_layer3.txt took: 0:00:00.005998\n",
      "2022-03-15 15:50:52.441618 loaded array 'freyberg_mf6\\freyberg6.npf_k33_layer3.txt' of shape (40, 20)\n",
      "2022-03-15 15:50:52.443616 starting: writing array-style template file 'freyberg6_template\\npf_k33_layer3_gr_inst0_grid.csv.tpl'\n",
      "2022-03-15 15:50:52.443616 starting: writing template file freyberg6_template\\npf_k33_layer3_gr_inst0_grid.csv.tpl for ['npf_k33_layer3_gr_inst:0']\n",
      "2022-03-15 15:50:52.456527 finished: writing template file freyberg6_template\\npf_k33_layer3_gr_inst0_grid.csv.tpl for ['npf_k33_layer3_gr_inst:0'] took: 0:00:00.012911\n",
      "2022-03-15 15:50:52.456527 starting: writing array-based template file 'freyberg6_template\\npf_k33_layer3_gr_inst0_grid.csv.tpl'\n",
      "2022-03-15 15:50:52.456527 saving zone array freyberg6_template\\npf_k33_layer3_gr_inst0_grid.csv.zone for tpl file freyberg6_template\\npf_k33_layer3_gr_inst0_grid.csv.tpl\n",
      "2022-03-15 15:50:52.463559 finished: adding grid type m style parameters for file(s) ['freyberg6.npf_k33_layer3.txt'] took: 0:00:00.028939\n",
      "2022-03-15 15:50:52.463559 starting: adding pilotpoints type m style parameters for file(s) ['freyberg6.npf_k33_layer3.txt']\n",
      "2022-03-15 15:50:52.463559 starting: loading array freyberg6_template\\freyberg6.npf_k33_layer3.txt\n",
      "2022-03-15 15:50:52.465535 finished: loading array freyberg6_template\\freyberg6.npf_k33_layer3.txt took: 0:00:00.001976\n",
      "2022-03-15 15:50:52.465535 loaded array 'freyberg_mf6\\freyberg6.npf_k33_layer3.txt' of shape (40, 20)\n",
      "2022-03-15 15:50:52.467534 starting: writing array-style template file 'freyberg6_template\\npf_k33_layer3_pp_inst0_pilotpoints.csv.tpl'\n",
      "2022-03-15 15:50:52.467534 starting: setting up pilot point parameters\n",
      "2022-03-15 15:50:52.467534 No spatial reference (containing cell spacing) passed.\n",
      "2022-03-15 15:50:52.467534 OK - using spatial reference in parent object.\n"
     ]
    },
    {
     "name": "stdout",
     "output_type": "stream",
     "text": [
      "2022-03-15 15:50:52.541299 32 pilot point parameters created\n",
      "2022-03-15 15:50:52.542339 pilot point 'pargp':npf_k33_layer3_pp\n",
      "2022-03-15 15:50:52.542339 finished: setting up pilot point parameters took: 0:00:00.074805\n",
      "2022-03-15 15:50:52.548336 starting: writing array-based template file 'freyberg6_template\\npf_k33_layer3_pp_inst0pp.dat.tpl'\n",
      "2022-03-15 15:50:52.548336 saving zone array freyberg6_template\\npf_k33_layer3_pp_inst0pp.dat.zone for tpl file freyberg6_template\\npf_k33_layer3_pp_inst0pp.dat.tpl\n",
      "2022-03-15 15:50:52.554317 finished: adding pilotpoints type m style parameters for file(s) ['freyberg6.npf_k33_layer3.txt'] took: 0:00:00.090758\n",
      "2022-03-15 15:50:52.554317 starting: adding constant type m style parameters for file(s) ['freyberg6.npf_k33_layer3.txt']\n",
      "2022-03-15 15:50:52.554317 starting: loading array freyberg6_template\\freyberg6.npf_k33_layer3.txt\n",
      "2022-03-15 15:50:52.556260 finished: loading array freyberg6_template\\freyberg6.npf_k33_layer3.txt took: 0:00:00.001943\n",
      "2022-03-15 15:50:52.556260 loaded array 'freyberg_mf6\\freyberg6.npf_k33_layer3.txt' of shape (40, 20)\n",
      "2022-03-15 15:50:52.557292 starting: writing array-style template file 'freyberg6_template\\npf_k33_layer3_cn_inst0_constant.csv.tpl'\n",
      "2022-03-15 15:50:52.557292 starting: writing template file freyberg6_template\\npf_k33_layer3_cn_inst0_constant.csv.tpl for ['npf_k33_layer3_cn_inst:0']\n",
      "2022-03-15 15:50:52.564239 finished: writing template file freyberg6_template\\npf_k33_layer3_cn_inst0_constant.csv.tpl for ['npf_k33_layer3_cn_inst:0'] took: 0:00:00.006947\n",
      "2022-03-15 15:50:52.564239 starting: writing array-based template file 'freyberg6_template\\npf_k33_layer3_cn_inst0_constant.csv.tpl'\n",
      "2022-03-15 15:50:52.564239 saving zone array freyberg6_template\\npf_k33_layer3_cn_inst0_constant.csv.zone for tpl file freyberg6_template\\npf_k33_layer3_cn_inst0_constant.csv.tpl\n",
      "2022-03-15 15:50:52.571220 finished: adding constant type m style parameters for file(s) ['freyberg6.npf_k33_layer3.txt'] took: 0:00:00.016903\n",
      "2022-03-15 15:50:52.572217 starting: adding grid type m style parameters for file(s) ['freyberg6.sto_ss_layer2.txt']\n",
      "2022-03-15 15:50:52.572217 starting: loading array freyberg6_template\\freyberg6.sto_ss_layer2.txt\n",
      "2022-03-15 15:50:52.579253 finished: loading array freyberg6_template\\freyberg6.sto_ss_layer2.txt took: 0:00:00.007036\n",
      "2022-03-15 15:50:52.579253 loaded array 'freyberg_mf6\\freyberg6.sto_ss_layer2.txt' of shape (40, 20)\n",
      "2022-03-15 15:50:52.581244 starting: writing array-style template file 'freyberg6_template\\sto_ss_layer2_gr_inst0_grid.csv.tpl'\n",
      "2022-03-15 15:50:52.581244 starting: writing template file freyberg6_template\\sto_ss_layer2_gr_inst0_grid.csv.tpl for ['sto_ss_layer2_gr_inst:0']\n",
      "2022-03-15 15:50:52.594210 finished: writing template file freyberg6_template\\sto_ss_layer2_gr_inst0_grid.csv.tpl for ['sto_ss_layer2_gr_inst:0'] took: 0:00:00.012966\n",
      "2022-03-15 15:50:52.594210 starting: writing array-based template file 'freyberg6_template\\sto_ss_layer2_gr_inst0_grid.csv.tpl'\n"
     ]
    },
    {
     "name": "stdout",
     "output_type": "stream",
     "text": [
      "2022-03-15 15:50:52.594210 saving zone array freyberg6_template\\sto_ss_layer2_gr_inst0_grid.csv.zone for tpl file freyberg6_template\\sto_ss_layer2_gr_inst0_grid.csv.tpl\n",
      "2022-03-15 15:50:52.602171 finished: adding grid type m style parameters for file(s) ['freyberg6.sto_ss_layer2.txt'] took: 0:00:00.029954\n",
      "2022-03-15 15:50:52.602171 starting: adding pilotpoints type m style parameters for file(s) ['freyberg6.sto_ss_layer2.txt']\n",
      "2022-03-15 15:50:52.602171 starting: loading array freyberg6_template\\freyberg6.sto_ss_layer2.txt\n",
      "2022-03-15 15:50:52.604166 finished: loading array freyberg6_template\\freyberg6.sto_ss_layer2.txt took: 0:00:00.001995\n",
      "2022-03-15 15:50:52.604166 loaded array 'freyberg_mf6\\freyberg6.sto_ss_layer2.txt' of shape (40, 20)\n",
      "2022-03-15 15:50:52.606127 starting: writing array-style template file 'freyberg6_template\\sto_ss_layer2_pp_inst0_pilotpoints.csv.tpl'\n",
      "2022-03-15 15:50:52.606127 starting: setting up pilot point parameters\n",
      "2022-03-15 15:50:52.606127 No spatial reference (containing cell spacing) passed.\n",
      "2022-03-15 15:50:52.606127 OK - using spatial reference in parent object.\n"
     ]
    },
    {
     "name": "stdout",
     "output_type": "stream",
     "text": [
      "2022-03-15 15:50:52.692747 32 pilot point parameters created\n",
      "2022-03-15 15:50:52.692747 pilot point 'pargp':sto_ss_layer2_pp\n",
      "2022-03-15 15:50:52.692747 finished: setting up pilot point parameters took: 0:00:00.086620\n",
      "2022-03-15 15:50:52.699671 starting: writing array-based template file 'freyberg6_template\\sto_ss_layer2_pp_inst0pp.dat.tpl'\n",
      "2022-03-15 15:50:52.700718 saving zone array freyberg6_template\\sto_ss_layer2_pp_inst0pp.dat.zone for tpl file freyberg6_template\\sto_ss_layer2_pp_inst0pp.dat.tpl\n",
      "2022-03-15 15:50:52.705706 finished: adding pilotpoints type m style parameters for file(s) ['freyberg6.sto_ss_layer2.txt'] took: 0:00:00.103535\n",
      "2022-03-15 15:50:52.705706 starting: adding constant type m style parameters for file(s) ['freyberg6.sto_ss_layer2.txt']\n",
      "2022-03-15 15:50:52.705706 starting: loading array freyberg6_template\\freyberg6.sto_ss_layer2.txt\n",
      "2022-03-15 15:50:52.707700 finished: loading array freyberg6_template\\freyberg6.sto_ss_layer2.txt took: 0:00:00.001994\n",
      "2022-03-15 15:50:52.707700 loaded array 'freyberg_mf6\\freyberg6.sto_ss_layer2.txt' of shape (40, 20)\n",
      "2022-03-15 15:50:52.709701 starting: writing array-style template file 'freyberg6_template\\sto_ss_layer2_cn_inst0_constant.csv.tpl'\n",
      "2022-03-15 15:50:52.709701 starting: writing template file freyberg6_template\\sto_ss_layer2_cn_inst0_constant.csv.tpl for ['sto_ss_layer2_cn_inst:0']\n",
      "2022-03-15 15:50:52.716626 finished: writing template file freyberg6_template\\sto_ss_layer2_cn_inst0_constant.csv.tpl for ['sto_ss_layer2_cn_inst:0'] took: 0:00:00.006925\n",
      "2022-03-15 15:50:52.716626 starting: writing array-based template file 'freyberg6_template\\sto_ss_layer2_cn_inst0_constant.csv.tpl'\n",
      "2022-03-15 15:50:52.716626 saving zone array freyberg6_template\\sto_ss_layer2_cn_inst0_constant.csv.zone for tpl file freyberg6_template\\sto_ss_layer2_cn_inst0_constant.csv.tpl\n",
      "2022-03-15 15:50:52.723658 finished: adding constant type m style parameters for file(s) ['freyberg6.sto_ss_layer2.txt'] took: 0:00:00.017952\n",
      "2022-03-15 15:50:52.723658 starting: adding grid type m style parameters for file(s) ['freyberg6.sto_ss_layer3.txt']\n",
      "2022-03-15 15:50:52.723658 starting: loading array freyberg6_template\\freyberg6.sto_ss_layer3.txt\n",
      "2022-03-15 15:50:52.729592 finished: loading array freyberg6_template\\freyberg6.sto_ss_layer3.txt took: 0:00:00.005934\n",
      "2022-03-15 15:50:52.729592 loaded array 'freyberg_mf6\\freyberg6.sto_ss_layer3.txt' of shape (40, 20)\n"
     ]
    },
    {
     "name": "stdout",
     "output_type": "stream",
     "text": [
      "2022-03-15 15:50:52.733007 starting: writing array-style template file 'freyberg6_template\\sto_ss_layer3_gr_inst0_grid.csv.tpl'\n",
      "2022-03-15 15:50:52.733007 starting: writing template file freyberg6_template\\sto_ss_layer3_gr_inst0_grid.csv.tpl for ['sto_ss_layer3_gr_inst:0']\n",
      "2022-03-15 15:50:52.745600 finished: writing template file freyberg6_template\\sto_ss_layer3_gr_inst0_grid.csv.tpl for ['sto_ss_layer3_gr_inst:0'] took: 0:00:00.012593\n",
      "2022-03-15 15:50:52.745600 starting: writing array-based template file 'freyberg6_template\\sto_ss_layer3_gr_inst0_grid.csv.tpl'\n",
      "2022-03-15 15:50:52.745600 saving zone array freyberg6_template\\sto_ss_layer3_gr_inst0_grid.csv.zone for tpl file freyberg6_template\\sto_ss_layer3_gr_inst0_grid.csv.tpl\n",
      "2022-03-15 15:50:52.752562 finished: adding grid type m style parameters for file(s) ['freyberg6.sto_ss_layer3.txt'] took: 0:00:00.028904\n",
      "2022-03-15 15:50:52.753564 starting: adding pilotpoints type m style parameters for file(s) ['freyberg6.sto_ss_layer3.txt']\n",
      "2022-03-15 15:50:52.753564 starting: loading array freyberg6_template\\freyberg6.sto_ss_layer3.txt\n",
      "2022-03-15 15:50:52.754575 finished: loading array freyberg6_template\\freyberg6.sto_ss_layer3.txt took: 0:00:00.001011\n",
      "2022-03-15 15:50:52.754575 loaded array 'freyberg_mf6\\freyberg6.sto_ss_layer3.txt' of shape (40, 20)\n",
      "2022-03-15 15:50:52.756552 starting: writing array-style template file 'freyberg6_template\\sto_ss_layer3_pp_inst0_pilotpoints.csv.tpl'\n",
      "2022-03-15 15:50:52.756552 starting: setting up pilot point parameters\n",
      "2022-03-15 15:50:52.756552 No spatial reference (containing cell spacing) passed.\n",
      "2022-03-15 15:50:52.756552 OK - using spatial reference in parent object.\n"
     ]
    },
    {
     "name": "stdout",
     "output_type": "stream",
     "text": [
      "2022-03-15 15:50:52.833364 32 pilot point parameters created\n",
      "2022-03-15 15:50:52.833364 pilot point 'pargp':sto_ss_layer3_pp\n",
      "2022-03-15 15:50:52.833364 finished: setting up pilot point parameters took: 0:00:00.076812\n",
      "2022-03-15 15:50:52.840328 starting: writing array-based template file 'freyberg6_template\\sto_ss_layer3_pp_inst0pp.dat.tpl'\n",
      "2022-03-15 15:50:52.840328 saving zone array freyberg6_template\\sto_ss_layer3_pp_inst0pp.dat.zone for tpl file freyberg6_template\\sto_ss_layer3_pp_inst0pp.dat.tpl\n",
      "2022-03-15 15:50:52.846330 finished: adding pilotpoints type m style parameters for file(s) ['freyberg6.sto_ss_layer3.txt'] took: 0:00:00.092766\n",
      "2022-03-15 15:50:52.846330 starting: adding constant type m style parameters for file(s) ['freyberg6.sto_ss_layer3.txt']\n",
      "2022-03-15 15:50:52.846330 starting: loading array freyberg6_template\\freyberg6.sto_ss_layer3.txt\n",
      "2022-03-15 15:50:52.847275 finished: loading array freyberg6_template\\freyberg6.sto_ss_layer3.txt took: 0:00:00.000945\n",
      "2022-03-15 15:50:52.847275 loaded array 'freyberg_mf6\\freyberg6.sto_ss_layer3.txt' of shape (40, 20)\n",
      "2022-03-15 15:50:52.850305 starting: writing array-style template file 'freyberg6_template\\sto_ss_layer3_cn_inst0_constant.csv.tpl'\n",
      "2022-03-15 15:50:52.850305 starting: writing template file freyberg6_template\\sto_ss_layer3_cn_inst0_constant.csv.tpl for ['sto_ss_layer3_cn_inst:0']\n",
      "2022-03-15 15:50:52.857250 finished: writing template file freyberg6_template\\sto_ss_layer3_cn_inst0_constant.csv.tpl for ['sto_ss_layer3_cn_inst:0'] took: 0:00:00.006945\n",
      "2022-03-15 15:50:52.857250 starting: writing array-based template file 'freyberg6_template\\sto_ss_layer3_cn_inst0_constant.csv.tpl'\n",
      "2022-03-15 15:50:52.858249 saving zone array freyberg6_template\\sto_ss_layer3_cn_inst0_constant.csv.zone for tpl file freyberg6_template\\sto_ss_layer3_cn_inst0_constant.csv.tpl\n",
      "2022-03-15 15:50:52.864274 finished: adding constant type m style parameters for file(s) ['freyberg6.sto_ss_layer3.txt'] took: 0:00:00.017944\n",
      "2022-03-15 15:50:52.865227 starting: adding grid type m style parameters for file(s) ['freyberg6.sto_sy_layer1.txt']\n",
      "2022-03-15 15:50:52.865227 starting: loading array freyberg6_template\\freyberg6.sto_sy_layer1.txt\n",
      "2022-03-15 15:50:52.871211 finished: loading array freyberg6_template\\freyberg6.sto_sy_layer1.txt took: 0:00:00.005984\n",
      "2022-03-15 15:50:52.872261 loaded array 'freyberg_mf6\\freyberg6.sto_sy_layer1.txt' of shape (40, 20)\n"
     ]
    },
    {
     "name": "stdout",
     "output_type": "stream",
     "text": [
      "2022-03-15 15:50:52.874204 starting: writing array-style template file 'freyberg6_template\\sto_sy_layer1_gr_inst0_grid.csv.tpl'\n",
      "2022-03-15 15:50:52.874204 starting: writing template file freyberg6_template\\sto_sy_layer1_gr_inst0_grid.csv.tpl for ['sto_sy_layer1_gr_inst:0']\n",
      "2022-03-15 15:50:52.887171 finished: writing template file freyberg6_template\\sto_sy_layer1_gr_inst0_grid.csv.tpl for ['sto_sy_layer1_gr_inst:0'] took: 0:00:00.012967\n",
      "2022-03-15 15:50:52.887171 starting: writing array-based template file 'freyberg6_template\\sto_sy_layer1_gr_inst0_grid.csv.tpl'\n",
      "2022-03-15 15:50:52.888167 saving zone array freyberg6_template\\sto_sy_layer1_gr_inst0_grid.csv.zone for tpl file freyberg6_template\\sto_sy_layer1_gr_inst0_grid.csv.tpl\n",
      "2022-03-15 15:50:52.895148 finished: adding grid type m style parameters for file(s) ['freyberg6.sto_sy_layer1.txt'] took: 0:00:00.029921\n",
      "2022-03-15 15:50:52.895148 starting: adding pilotpoints type m style parameters for file(s) ['freyberg6.sto_sy_layer1.txt']\n",
      "2022-03-15 15:50:52.895148 starting: loading array freyberg6_template\\freyberg6.sto_sy_layer1.txt\n",
      "2022-03-15 15:50:52.897200 finished: loading array freyberg6_template\\freyberg6.sto_sy_layer1.txt took: 0:00:00.002052\n",
      "2022-03-15 15:50:52.897200 loaded array 'freyberg_mf6\\freyberg6.sto_sy_layer1.txt' of shape (40, 20)\n",
      "2022-03-15 15:50:52.899188 starting: writing array-style template file 'freyberg6_template\\sto_sy_layer1_pp_inst0_pilotpoints.csv.tpl'\n",
      "2022-03-15 15:50:52.899188 starting: setting up pilot point parameters\n",
      "2022-03-15 15:50:52.899188 No spatial reference (containing cell spacing) passed.\n",
      "2022-03-15 15:50:52.899188 OK - using spatial reference in parent object.\n"
     ]
    },
    {
     "name": "stdout",
     "output_type": "stream",
     "text": [
      "2022-03-15 15:50:52.976929 32 pilot point parameters created\n",
      "2022-03-15 15:50:52.976929 pilot point 'pargp':sto_sy_layer1_pp\n",
      "2022-03-15 15:50:52.977978 finished: setting up pilot point parameters took: 0:00:00.078790\n",
      "2022-03-15 15:50:52.983911 starting: writing array-based template file 'freyberg6_template\\sto_sy_layer1_pp_inst0pp.dat.tpl'\n",
      "2022-03-15 15:50:52.984909 saving zone array freyberg6_template\\sto_sy_layer1_pp_inst0pp.dat.zone for tpl file freyberg6_template\\sto_sy_layer1_pp_inst0pp.dat.tpl\n",
      "2022-03-15 15:50:52.989895 finished: adding pilotpoints type m style parameters for file(s) ['freyberg6.sto_sy_layer1.txt'] took: 0:00:00.094747\n",
      "2022-03-15 15:50:52.989895 starting: adding constant type m style parameters for file(s) ['freyberg6.sto_sy_layer1.txt']\n",
      "2022-03-15 15:50:52.989895 starting: loading array freyberg6_template\\freyberg6.sto_sy_layer1.txt\n",
      "2022-03-15 15:50:52.990945 finished: loading array freyberg6_template\\freyberg6.sto_sy_layer1.txt took: 0:00:00.001050\n",
      "2022-03-15 15:50:52.991946 loaded array 'freyberg_mf6\\freyberg6.sto_sy_layer1.txt' of shape (40, 20)\n",
      "2022-03-15 15:50:52.992938 starting: writing array-style template file 'freyberg6_template\\sto_sy_layer1_cn_inst0_constant.csv.tpl'\n",
      "2022-03-15 15:50:52.992938 starting: writing template file freyberg6_template\\sto_sy_layer1_cn_inst0_constant.csv.tpl for ['sto_sy_layer1_cn_inst:0']\n",
      "2022-03-15 15:50:53.000917 finished: writing template file freyberg6_template\\sto_sy_layer1_cn_inst0_constant.csv.tpl for ['sto_sy_layer1_cn_inst:0'] took: 0:00:00.007979\n",
      "2022-03-15 15:50:53.000917 starting: writing array-based template file 'freyberg6_template\\sto_sy_layer1_cn_inst0_constant.csv.tpl'\n",
      "2022-03-15 15:50:53.000917 saving zone array freyberg6_template\\sto_sy_layer1_cn_inst0_constant.csv.zone for tpl file freyberg6_template\\sto_sy_layer1_cn_inst0_constant.csv.tpl\n",
      "2022-03-15 15:50:53.006850 finished: adding constant type m style parameters for file(s) ['freyberg6.sto_sy_layer1.txt'] took: 0:00:00.016955\n"
     ]
    }
   ],
   "source": [
    "# for Kv\n",
    "tag = \"npf_k33\"\n",
    "files = [f for f in os.listdir(template_ws) if tag in f.lower() and f.endswith(\".txt\")]\n",
    "for f in files:\n",
    "    add_mult_pars(f, lb=0.2, ub=5.0, ulb=0.01, uub=100)\n",
    "\n",
    "# for Ss\n",
    "tag = \"sto_ss\"\n",
    "files = [f for f in os.listdir(template_ws) if tag in f.lower() and f.endswith(\".txt\")]\n",
    "# only for layer 2 and 3; we aren't monsters\n",
    "for f in files[1:]: \n",
    "    add_mult_pars(f, lb=0.2, ub=5.0, ulb=1e-6, uub=1e-3)\n",
    "\n",
    "# For Sy\n",
    "tag = \"sto_sy\"\n",
    "files = [f for f in os.listdir(template_ws) if tag in f.lower() and f.endswith(\".txt\")]\n",
    "# only for layer 1\n",
    "f = files[0]\n",
    "add_mult_pars(f, lb=0.2, ub=5.0, ulb=0.01, uub=0.4)\n"
   ]
  },
  {
   "cell_type": "markdown",
   "metadata": {},
   "source": [
    "#### 5.3.2. Spatial and Temporal Correlation\n",
    "\n",
    "Now, you may be thinking \"shouldn't recharge have temporal correlation as well?\". \n",
    "\n",
    "Damn straight it should. Now, this requires a little trickery.\n",
    "\n",
    "First we need to construct a container of stress period datetimes. (This relies on specifying the start_datetime argument when instantiating `PstFrom`.) These datetime values will specify the postion of parameters on the time-axis.\n",
    "\n"
   ]
  },
  {
   "cell_type": "code",
   "execution_count": 27,
   "metadata": {
    "execution": {
     "iopub.execute_input": "2022-03-15T05:20:53.043840Z",
     "iopub.status.busy": "2022-03-15T05:20:53.042842Z",
     "iopub.status.idle": "2022-03-15T05:20:53.059900Z",
     "shell.execute_reply": "2022-03-15T05:20:53.058904Z"
    }
   },
   "outputs": [
    {
     "data": {
      "text/plain": [
       "DatetimeIndex(['2018-01-02', '2018-02-02', '2018-03-03', '2018-04-03',\n",
       "               '2018-05-03', '2018-06-03', '2018-07-03', '2018-08-03',\n",
       "               '2018-09-03', '2018-10-03', '2018-11-03', '2018-12-03',\n",
       "               '2019-01-03', '2019-02-03', '2019-03-03', '2019-04-03',\n",
       "               '2019-05-03', '2019-06-03', '2019-07-03', '2019-08-03',\n",
       "               '2019-09-03', '2019-10-03', '2019-11-03', '2019-12-03',\n",
       "               '2020-01-03'],\n",
       "              dtype='datetime64[ns]', freq=None)"
      ]
     },
     "execution_count": 27,
     "metadata": {},
     "output_type": "execute_result"
    }
   ],
   "source": [
    "# build up a container of stress period start datetimes - this will\n",
    "# be used to specify the datetime of each multipler parameter\n",
    "start_datetime=\"1-1-2018\"\n",
    "dts = pd.to_datetime(start_datetime) + pd.to_timedelta(np.cumsum(sim.tdis.perioddata.array[\"perlen\"]),unit='d')\n",
    "\n",
    "dts"
   ]
  },
  {
   "cell_type": "markdown",
   "metadata": {},
   "source": [
    "If you use the same parameter group name (`pargp`) and same geostruct, `PstFrom` will treat parameters setup across different calls to `add_parameters()` as correlated.  In this case, we want to express temporal correlation in the recharge multiplier parameters. So, we use the same parameter group names for each stress period data file, and specify the `datetime` and `geostruct` arguments.\n",
    "\n",
    "Including temporal correlation introduces an additional challenge. Interpolation between points that share a common coordinate creates all types of trouble. We are going to have many parameters during each stress period (a single point on the time-axis). To get around this challenge we need to be a bit sneaky.\n",
    "\n",
    "\n",
    "First, we will apply the multiple *spatial* scales of parameter multiplers (`constant`, `pilot point` and `grid`) as we did for hyraulic properties. \n",
    "\n",
    "Then, we will asign an additional `constant` multiplier parameter for each recharge stress-period file (so, a single multiplier for all recharge paramaters for each stress period). We will specify temporal correlation for these `constant` multipliers. These will all have the same parameter group name, as discussed above. "
   ]
  },
  {
   "cell_type": "code",
   "execution_count": 28,
   "metadata": {
    "execution": {
     "iopub.execute_input": "2022-03-15T05:20:53.070864Z",
     "iopub.status.busy": "2022-03-15T05:20:53.069868Z",
     "iopub.status.idle": "2022-03-15T05:20:57.171217Z",
     "shell.execute_reply": "2022-03-15T05:20:57.170226Z"
    }
   },
   "outputs": [
    {
     "name": "stdout",
     "output_type": "stream",
     "text": [
      "2022-03-15 15:50:53.069868 starting: adding grid type m style parameters for file(s) ['freyberg6.rch_recharge_1.txt']\n",
      "2022-03-15 15:50:53.070864 starting: loading array freyberg6_template\\freyberg6.rch_recharge_1.txt\n",
      "2022-03-15 15:50:53.078861 finished: loading array freyberg6_template\\freyberg6.rch_recharge_1.txt took: 0:00:00.007997\n",
      "2022-03-15 15:50:53.078861 loaded array 'freyberg_mf6\\freyberg6.rch_recharge_1.txt' of shape (40, 20)\n",
      "2022-03-15 15:50:53.080835 starting: writing array-style template file 'freyberg6_template\\rch_recharge_1_gr_inst0_grid.csv.tpl'\n",
      "2022-03-15 15:50:53.080835 starting: writing template file freyberg6_template\\rch_recharge_1_gr_inst0_grid.csv.tpl for ['rch_recharge_1_gr_inst:0']\n",
      "2022-03-15 15:50:53.093769 finished: writing template file freyberg6_template\\rch_recharge_1_gr_inst0_grid.csv.tpl for ['rch_recharge_1_gr_inst:0'] took: 0:00:00.012934\n",
      "2022-03-15 15:50:53.094767 starting: writing array-based template file 'freyberg6_template\\rch_recharge_1_gr_inst0_grid.csv.tpl'\n",
      "2022-03-15 15:50:53.094767 saving zone array freyberg6_template\\rch_recharge_1_gr_inst0_grid.csv.zone for tpl file freyberg6_template\\rch_recharge_1_gr_inst0_grid.csv.tpl\n",
      "2022-03-15 15:50:53.102778 finished: adding grid type m style parameters for file(s) ['freyberg6.rch_recharge_1.txt'] took: 0:00:00.032910\n",
      "2022-03-15 15:50:53.102778 starting: adding pilotpoints type m style parameters for file(s) ['freyberg6.rch_recharge_1.txt']\n",
      "2022-03-15 15:50:53.102778 starting: loading array freyberg6_template\\freyberg6.rch_recharge_1.txt\n",
      "2022-03-15 15:50:53.103757 finished: loading array freyberg6_template\\freyberg6.rch_recharge_1.txt took: 0:00:00.000979\n",
      "2022-03-15 15:50:53.103757 loaded array 'freyberg_mf6\\freyberg6.rch_recharge_1.txt' of shape (40, 20)\n",
      "2022-03-15 15:50:53.106734 starting: writing array-style template file 'freyberg6_template\\rch_recharge_1_pp_inst0_pilotpoints.csv.tpl'\n",
      "2022-03-15 15:50:53.106734 starting: setting up pilot point parameters\n",
      "2022-03-15 15:50:53.106734 No spatial reference (containing cell spacing) passed.\n",
      "2022-03-15 15:50:53.106734 OK - using spatial reference in parent object.\n",
      "2022-03-15 15:50:53.182531 32 pilot point parameters created\n",
      "2022-03-15 15:50:53.182531 pilot point 'pargp':rch_recharge_1_pp\n",
      "2022-03-15 15:50:53.182531 finished: setting up pilot point parameters took: 0:00:00.075797\n"
     ]
    },
    {
     "name": "stdout",
     "output_type": "stream",
     "text": [
      "2022-03-15 15:50:53.189545 starting: writing array-based template file 'freyberg6_template\\rch_recharge_1_pp_inst0pp.dat.tpl'\n",
      "2022-03-15 15:50:53.189545 saving zone array freyberg6_template\\rch_recharge_1_pp_inst0pp.dat.zone for tpl file freyberg6_template\\rch_recharge_1_pp_inst0pp.dat.tpl\n",
      "2022-03-15 15:50:53.195497 finished: adding pilotpoints type m style parameters for file(s) ['freyberg6.rch_recharge_1.txt'] took: 0:00:00.092719\n",
      "2022-03-15 15:50:53.195497 starting: adding constant type m style parameters for file(s) ['freyberg6.rch_recharge_1.txt']\n",
      "2022-03-15 15:50:53.195497 starting: loading array freyberg6_template\\freyberg6.rch_recharge_1.txt\n",
      "2022-03-15 15:50:53.196502 finished: loading array freyberg6_template\\freyberg6.rch_recharge_1.txt took: 0:00:00.001005\n",
      "2022-03-15 15:50:53.197524 loaded array 'freyberg_mf6\\freyberg6.rch_recharge_1.txt' of shape (40, 20)\n",
      "2022-03-15 15:50:53.199713 starting: writing array-style template file 'freyberg6_template\\rch_recharge_1_cn_inst0_constant.csv.tpl'\n",
      "2022-03-15 15:50:53.199713 starting: writing template file freyberg6_template\\rch_recharge_1_cn_inst0_constant.csv.tpl for ['rch_recharge_1_cn_inst:0']\n",
      "2022-03-15 15:50:53.206468 finished: writing template file freyberg6_template\\rch_recharge_1_cn_inst0_constant.csv.tpl for ['rch_recharge_1_cn_inst:0'] took: 0:00:00.006755\n",
      "2022-03-15 15:50:53.206468 starting: writing array-based template file 'freyberg6_template\\rch_recharge_1_cn_inst0_constant.csv.tpl'\n",
      "2022-03-15 15:50:53.206468 saving zone array freyberg6_template\\rch_recharge_1_cn_inst0_constant.csv.zone for tpl file freyberg6_template\\rch_recharge_1_cn_inst0_constant.csv.tpl\n",
      "2022-03-15 15:50:53.213482 finished: adding constant type m style parameters for file(s) ['freyberg6.rch_recharge_1.txt'] took: 0:00:00.017985\n",
      "2022-03-15 15:50:53.213482 starting: adding constant type m style parameters for file(s) ['freyberg6.rch_recharge_1.txt']\n",
      "2022-03-15 15:50:53.213482 WARNING: 0) Inconsistency between geostruct transform and partrans.\n",
      "2022-03-15 15:50:53.213482 WARNING: 1) Setting geostruct transform to {transform}\n",
      "2022-03-15 15:50:53.213482 WARNING: -) Better to pass an appropriately transformed geostruct\n",
      "2022-03-15 15:50:53.213482 starting: loading array freyberg6_template\\freyberg6.rch_recharge_1.txt\n",
      "2022-03-15 15:50:53.215443 finished: loading array freyberg6_template\\freyberg6.rch_recharge_1.txt took: 0:00:00.001961\n",
      "2022-03-15 15:50:53.215443 loaded array 'freyberg_mf6\\freyberg6.rch_recharge_1.txt' of shape (40, 20)\n",
      "2022-03-15 15:50:53.217473 starting: writing array-style template file 'freyberg6_template\\rch_recharge_1_tcn_inst0_constant.csv.tpl'\n",
      "2022-03-15 15:50:53.217473 starting: writing template file freyberg6_template\\rch_recharge_1_tcn_inst0_constant.csv.tpl for ['rch_recharge_1_tcn_inst:0']\n",
      "2022-03-15 15:50:53.224420 finished: writing template file freyberg6_template\\rch_recharge_1_tcn_inst0_constant.csv.tpl for ['rch_recharge_1_tcn_inst:0'] took: 0:00:00.006947\n",
      "2022-03-15 15:50:53.224420 starting: writing array-based template file 'freyberg6_template\\rch_recharge_1_tcn_inst0_constant.csv.tpl'\n",
      "2022-03-15 15:50:53.225416 saving zone array freyberg6_template\\rch_recharge_1_tcn_inst0_constant.csv.zone for tpl file freyberg6_template\\rch_recharge_1_tcn_inst0_constant.csv.tpl\n",
      "2022-03-15 15:50:53.232432 finished: adding constant type m style parameters for file(s) ['freyberg6.rch_recharge_1.txt'] took: 0:00:00.018950\n",
      "2022-03-15 15:50:53.232432 starting: adding grid type m style parameters for file(s) ['freyberg6.rch_recharge_10.txt']\n",
      "2022-03-15 15:50:53.233430 starting: loading array freyberg6_template\\freyberg6.rch_recharge_10.txt\n",
      "2022-03-15 15:50:53.239435 finished: loading array freyberg6_template\\freyberg6.rch_recharge_10.txt took: 0:00:00.006005\n",
      "2022-03-15 15:50:53.239435 loaded array 'freyberg_mf6\\freyberg6.rch_recharge_10.txt' of shape (40, 20)\n",
      "2022-03-15 15:50:53.241425 starting: writing array-style template file 'freyberg6_template\\rch_recharge_10_gr_inst0_grid.csv.tpl'\n",
      "2022-03-15 15:50:53.241425 starting: writing template file freyberg6_template\\rch_recharge_10_gr_inst0_grid.csv.tpl for ['rch_recharge_10_gr_inst:0']\n",
      "2022-03-15 15:50:53.253342 finished: writing template file freyberg6_template\\rch_recharge_10_gr_inst0_grid.csv.tpl for ['rch_recharge_10_gr_inst:0'] took: 0:00:00.011917\n",
      "2022-03-15 15:50:53.253342 starting: writing array-based template file 'freyberg6_template\\rch_recharge_10_gr_inst0_grid.csv.tpl'\n"
     ]
    },
    {
     "name": "stdout",
     "output_type": "stream",
     "text": [
      "2022-03-15 15:50:53.254340 saving zone array freyberg6_template\\rch_recharge_10_gr_inst0_grid.csv.zone for tpl file freyberg6_template\\rch_recharge_10_gr_inst0_grid.csv.tpl\n",
      "2022-03-15 15:50:53.262370 finished: adding grid type m style parameters for file(s) ['freyberg6.rch_recharge_10.txt'] took: 0:00:00.029938\n",
      "2022-03-15 15:50:53.262370 starting: adding pilotpoints type m style parameters for file(s) ['freyberg6.rch_recharge_10.txt']\n",
      "2022-03-15 15:50:53.262370 starting: loading array freyberg6_template\\freyberg6.rch_recharge_10.txt\n",
      "2022-03-15 15:50:53.263315 finished: loading array freyberg6_template\\freyberg6.rch_recharge_10.txt took: 0:00:00.000945\n",
      "2022-03-15 15:50:53.263315 loaded array 'freyberg_mf6\\freyberg6.rch_recharge_10.txt' of shape (40, 20)\n",
      "2022-03-15 15:50:53.265309 starting: writing array-style template file 'freyberg6_template\\rch_recharge_10_pp_inst0_pilotpoints.csv.tpl'\n",
      "2022-03-15 15:50:53.266367 starting: setting up pilot point parameters\n",
      "2022-03-15 15:50:53.266367 No spatial reference (containing cell spacing) passed.\n",
      "2022-03-15 15:50:53.266367 OK - using spatial reference in parent object.\n",
      "2022-03-15 15:50:53.342372 32 pilot point parameters created\n",
      "2022-03-15 15:50:53.342372 pilot point 'pargp':rch_recharge_10_pp\n",
      "2022-03-15 15:50:53.342372 finished: setting up pilot point parameters took: 0:00:00.076005\n",
      "2022-03-15 15:50:53.350395 starting: writing array-based template file 'freyberg6_template\\rch_recharge_10_pp_inst0pp.dat.tpl'\n",
      "2022-03-15 15:50:53.350395 saving zone array freyberg6_template\\rch_recharge_10_pp_inst0pp.dat.zone for tpl file freyberg6_template\\rch_recharge_10_pp_inst0pp.dat.tpl\n",
      "2022-03-15 15:50:53.355337 finished: adding pilotpoints type m style parameters for file(s) ['freyberg6.rch_recharge_10.txt'] took: 0:00:00.092967\n",
      "2022-03-15 15:50:53.355337 starting: adding constant type m style parameters for file(s) ['freyberg6.rch_recharge_10.txt']\n",
      "2022-03-15 15:50:53.355337 starting: loading array freyberg6_template\\freyberg6.rch_recharge_10.txt\n",
      "2022-03-15 15:50:53.357333 finished: loading array freyberg6_template\\freyberg6.rch_recharge_10.txt took: 0:00:00.001996\n",
      "2022-03-15 15:50:53.357333 loaded array 'freyberg_mf6\\freyberg6.rch_recharge_10.txt' of shape (40, 20)\n",
      "2022-03-15 15:50:53.359351 starting: writing array-style template file 'freyberg6_template\\rch_recharge_10_cn_inst0_constant.csv.tpl'\n",
      "2022-03-15 15:50:53.359351 starting: writing template file freyberg6_template\\rch_recharge_10_cn_inst0_constant.csv.tpl for ['rch_recharge_10_cn_inst:0']\n",
      "2022-03-15 15:50:53.366385 finished: writing template file freyberg6_template\\rch_recharge_10_cn_inst0_constant.csv.tpl for ['rch_recharge_10_cn_inst:0'] took: 0:00:00.007034\n",
      "2022-03-15 15:50:53.366385 starting: writing array-based template file 'freyberg6_template\\rch_recharge_10_cn_inst0_constant.csv.tpl'\n",
      "2022-03-15 15:50:53.366385 saving zone array freyberg6_template\\rch_recharge_10_cn_inst0_constant.csv.zone for tpl file freyberg6_template\\rch_recharge_10_cn_inst0_constant.csv.tpl\n",
      "2022-03-15 15:50:53.372317 finished: adding constant type m style parameters for file(s) ['freyberg6.rch_recharge_10.txt'] took: 0:00:00.016980\n"
     ]
    },
    {
     "name": "stdout",
     "output_type": "stream",
     "text": [
      "2022-03-15 15:50:53.373289 starting: adding constant type m style parameters for file(s) ['freyberg6.rch_recharge_10.txt']\n",
      "2022-03-15 15:50:53.373289 starting: loading array freyberg6_template\\freyberg6.rch_recharge_10.txt\n",
      "2022-03-15 15:50:53.375284 finished: loading array freyberg6_template\\freyberg6.rch_recharge_10.txt took: 0:00:00.001995\n",
      "2022-03-15 15:50:53.375284 loaded array 'freyberg_mf6\\freyberg6.rch_recharge_10.txt' of shape (40, 20)\n",
      "2022-03-15 15:50:53.376315 starting: writing array-style template file 'freyberg6_template\\rch_recharge_10_tcn_inst0_constant.csv.tpl'\n",
      "2022-03-15 15:50:53.377279 starting: writing template file freyberg6_template\\rch_recharge_10_tcn_inst0_constant.csv.tpl for ['rch_recharge_10_tcn_inst:0']\n",
      "2022-03-15 15:50:53.386255 finished: writing template file freyberg6_template\\rch_recharge_10_tcn_inst0_constant.csv.tpl for ['rch_recharge_10_tcn_inst:0'] took: 0:00:00.008976\n",
      "2022-03-15 15:50:53.386255 starting: writing array-based template file 'freyberg6_template\\rch_recharge_10_tcn_inst0_constant.csv.tpl'\n",
      "2022-03-15 15:50:53.387252 saving zone array freyberg6_template\\rch_recharge_10_tcn_inst0_constant.csv.zone for tpl file freyberg6_template\\rch_recharge_10_tcn_inst0_constant.csv.tpl\n",
      "2022-03-15 15:50:53.393236 finished: adding constant type m style parameters for file(s) ['freyberg6.rch_recharge_10.txt'] took: 0:00:00.019947\n",
      "2022-03-15 15:50:53.394234 starting: adding grid type m style parameters for file(s) ['freyberg6.rch_recharge_11.txt']\n",
      "2022-03-15 15:50:53.394234 starting: loading array freyberg6_template\\freyberg6.rch_recharge_11.txt\n",
      "2022-03-15 15:50:53.401215 finished: loading array freyberg6_template\\freyberg6.rch_recharge_11.txt took: 0:00:00.006981\n",
      "2022-03-15 15:50:53.401215 loaded array 'freyberg_mf6\\freyberg6.rch_recharge_11.txt' of shape (40, 20)\n",
      "2022-03-15 15:50:53.403261 starting: writing array-style template file 'freyberg6_template\\rch_recharge_11_gr_inst0_grid.csv.tpl'\n",
      "2022-03-15 15:50:53.403261 starting: writing template file freyberg6_template\\rch_recharge_11_gr_inst0_grid.csv.tpl for ['rch_recharge_11_gr_inst:0']\n",
      "2022-03-15 15:50:53.415179 finished: writing template file freyberg6_template\\rch_recharge_11_gr_inst0_grid.csv.tpl for ['rch_recharge_11_gr_inst:0'] took: 0:00:00.011918\n",
      "2022-03-15 15:50:53.415179 starting: writing array-based template file 'freyberg6_template\\rch_recharge_11_gr_inst0_grid.csv.tpl'\n",
      "2022-03-15 15:50:53.415179 saving zone array freyberg6_template\\rch_recharge_11_gr_inst0_grid.csv.zone for tpl file freyberg6_template\\rch_recharge_11_gr_inst0_grid.csv.tpl\n",
      "2022-03-15 15:50:53.423189 finished: adding grid type m style parameters for file(s) ['freyberg6.rch_recharge_11.txt'] took: 0:00:00.028955\n",
      "2022-03-15 15:50:53.423189 starting: adding pilotpoints type m style parameters for file(s) ['freyberg6.rch_recharge_11.txt']\n",
      "2022-03-15 15:50:53.423189 starting: loading array freyberg6_template\\freyberg6.rch_recharge_11.txt\n",
      "2022-03-15 15:50:53.424154 finished: loading array freyberg6_template\\freyberg6.rch_recharge_11.txt took: 0:00:00.000965\n",
      "2022-03-15 15:50:53.425151 loaded array 'freyberg_mf6\\freyberg6.rch_recharge_11.txt' of shape (40, 20)\n",
      "2022-03-15 15:50:53.427180 starting: writing array-style template file 'freyberg6_template\\rch_recharge_11_pp_inst0_pilotpoints.csv.tpl'\n",
      "2022-03-15 15:50:53.427180 starting: setting up pilot point parameters\n",
      "2022-03-15 15:50:53.427180 No spatial reference (containing cell spacing) passed.\n",
      "2022-03-15 15:50:53.427180 OK - using spatial reference in parent object.\n"
     ]
    },
    {
     "name": "stdout",
     "output_type": "stream",
     "text": [
      "2022-03-15 15:50:53.504939 32 pilot point parameters created\n",
      "2022-03-15 15:50:53.504939 pilot point 'pargp':rch_recharge_11_pp\n",
      "2022-03-15 15:50:53.504939 finished: setting up pilot point parameters took: 0:00:00.077759\n",
      "2022-03-15 15:50:53.511971 starting: writing array-based template file 'freyberg6_template\\rch_recharge_11_pp_inst0pp.dat.tpl'\n",
      "2022-03-15 15:50:53.511971 saving zone array freyberg6_template\\rch_recharge_11_pp_inst0pp.dat.zone for tpl file freyberg6_template\\rch_recharge_11_pp_inst0pp.dat.tpl\n",
      "2022-03-15 15:50:53.517954 finished: adding pilotpoints type m style parameters for file(s) ['freyberg6.rch_recharge_11.txt'] took: 0:00:00.094765\n",
      "2022-03-15 15:50:53.517954 starting: adding constant type m style parameters for file(s) ['freyberg6.rch_recharge_11.txt']\n",
      "2022-03-15 15:50:53.517954 starting: loading array freyberg6_template\\freyberg6.rch_recharge_11.txt\n",
      "2022-03-15 15:50:53.518901 finished: loading array freyberg6_template\\freyberg6.rch_recharge_11.txt took: 0:00:00.000947\n",
      "2022-03-15 15:50:53.518901 loaded array 'freyberg_mf6\\freyberg6.rch_recharge_11.txt' of shape (40, 20)\n",
      "2022-03-15 15:50:53.520949 starting: writing array-style template file 'freyberg6_template\\rch_recharge_11_cn_inst0_constant.csv.tpl'\n",
      "2022-03-15 15:50:53.520949 starting: writing template file freyberg6_template\\rch_recharge_11_cn_inst0_constant.csv.tpl for ['rch_recharge_11_cn_inst:0']\n",
      "2022-03-15 15:50:53.527904 finished: writing template file freyberg6_template\\rch_recharge_11_cn_inst0_constant.csv.tpl for ['rch_recharge_11_cn_inst:0'] took: 0:00:00.006955\n",
      "2022-03-15 15:50:53.527904 starting: writing array-based template file 'freyberg6_template\\rch_recharge_11_cn_inst0_constant.csv.tpl'\n",
      "2022-03-15 15:50:53.528873 saving zone array freyberg6_template\\rch_recharge_11_cn_inst0_constant.csv.zone for tpl file freyberg6_template\\rch_recharge_11_cn_inst0_constant.csv.tpl\n",
      "2022-03-15 15:50:53.534857 finished: adding constant type m style parameters for file(s) ['freyberg6.rch_recharge_11.txt'] took: 0:00:00.016903\n",
      "2022-03-15 15:50:53.534857 starting: adding constant type m style parameters for file(s) ['freyberg6.rch_recharge_11.txt']\n",
      "2022-03-15 15:50:53.534857 starting: loading array freyberg6_template\\freyberg6.rch_recharge_11.txt\n",
      "2022-03-15 15:50:53.536887 finished: loading array freyberg6_template\\freyberg6.rch_recharge_11.txt took: 0:00:00.002030\n",
      "2022-03-15 15:50:53.536887 loaded array 'freyberg_mf6\\freyberg6.rch_recharge_11.txt' of shape (40, 20)\n",
      "2022-03-15 15:50:53.538900 starting: writing array-style template file 'freyberg6_template\\rch_recharge_11_tcn_inst0_constant.csv.tpl'\n",
      "2022-03-15 15:50:53.538900 starting: writing template file freyberg6_template\\rch_recharge_11_tcn_inst0_constant.csv.tpl for ['rch_recharge_11_tcn_inst:0']\n",
      "2022-03-15 15:50:53.545882 finished: writing template file freyberg6_template\\rch_recharge_11_tcn_inst0_constant.csv.tpl for ['rch_recharge_11_tcn_inst:0'] took: 0:00:00.006982\n",
      "2022-03-15 15:50:53.545882 starting: writing array-based template file 'freyberg6_template\\rch_recharge_11_tcn_inst0_constant.csv.tpl'\n",
      "2022-03-15 15:50:53.546825 saving zone array freyberg6_template\\rch_recharge_11_tcn_inst0_constant.csv.zone for tpl file freyberg6_template\\rch_recharge_11_tcn_inst0_constant.csv.tpl\n",
      "2022-03-15 15:50:53.553861 finished: adding constant type m style parameters for file(s) ['freyberg6.rch_recharge_11.txt'] took: 0:00:00.019004\n",
      "2022-03-15 15:50:53.553861 starting: adding grid type m style parameters for file(s) ['freyberg6.rch_recharge_12.txt']\n",
      "2022-03-15 15:50:53.553861 starting: loading array freyberg6_template\\freyberg6.rch_recharge_12.txt\n",
      "2022-03-15 15:50:53.559843 finished: loading array freyberg6_template\\freyberg6.rch_recharge_12.txt took: 0:00:00.005982\n",
      "2022-03-15 15:50:53.559843 loaded array 'freyberg_mf6\\freyberg6.rch_recharge_12.txt' of shape (40, 20)\n"
     ]
    },
    {
     "name": "stdout",
     "output_type": "stream",
     "text": [
      "2022-03-15 15:50:53.562800 starting: writing array-style template file 'freyberg6_template\\rch_recharge_12_gr_inst0_grid.csv.tpl'\n",
      "2022-03-15 15:50:53.562800 starting: writing template file freyberg6_template\\rch_recharge_12_gr_inst0_grid.csv.tpl for ['rch_recharge_12_gr_inst:0']\n",
      "2022-03-15 15:50:53.575777 finished: writing template file freyberg6_template\\rch_recharge_12_gr_inst0_grid.csv.tpl for ['rch_recharge_12_gr_inst:0'] took: 0:00:00.012977\n",
      "2022-03-15 15:50:53.575777 starting: writing array-based template file 'freyberg6_template\\rch_recharge_12_gr_inst0_grid.csv.tpl'\n",
      "2022-03-15 15:50:53.575777 saving zone array freyberg6_template\\rch_recharge_12_gr_inst0_grid.csv.zone for tpl file freyberg6_template\\rch_recharge_12_gr_inst0_grid.csv.tpl\n",
      "2022-03-15 15:50:53.583778 finished: adding grid type m style parameters for file(s) ['freyberg6.rch_recharge_12.txt'] took: 0:00:00.029917\n",
      "2022-03-15 15:50:53.583778 starting: adding pilotpoints type m style parameters for file(s) ['freyberg6.rch_recharge_12.txt']\n",
      "2022-03-15 15:50:53.583778 starting: loading array freyberg6_template\\freyberg6.rch_recharge_12.txt\n",
      "2022-03-15 15:50:53.584761 finished: loading array freyberg6_template\\freyberg6.rch_recharge_12.txt took: 0:00:00.000983\n",
      "2022-03-15 15:50:53.584761 loaded array 'freyberg_mf6\\freyberg6.rch_recharge_12.txt' of shape (40, 20)\n",
      "2022-03-15 15:50:53.586770 starting: writing array-style template file 'freyberg6_template\\rch_recharge_12_pp_inst0_pilotpoints.csv.tpl'\n",
      "2022-03-15 15:50:53.586770 starting: setting up pilot point parameters\n",
      "2022-03-15 15:50:53.587717 No spatial reference (containing cell spacing) passed.\n",
      "2022-03-15 15:50:53.587717 OK - using spatial reference in parent object.\n",
      "2022-03-15 15:50:53.664511 32 pilot point parameters created\n",
      "2022-03-15 15:50:53.664511 pilot point 'pargp':rch_recharge_12_pp\n",
      "2022-03-15 15:50:53.664511 finished: setting up pilot point parameters took: 0:00:00.077741\n",
      "2022-03-15 15:50:53.671524 starting: writing array-based template file 'freyberg6_template\\rch_recharge_12_pp_inst0pp.dat.tpl'\n",
      "2022-03-15 15:50:53.671524 saving zone array freyberg6_template\\rch_recharge_12_pp_inst0pp.dat.zone for tpl file freyberg6_template\\rch_recharge_12_pp_inst0pp.dat.tpl\n",
      "2022-03-15 15:50:53.676513 finished: adding pilotpoints type m style parameters for file(s) ['freyberg6.rch_recharge_12.txt'] took: 0:00:00.092735\n",
      "2022-03-15 15:50:53.676513 starting: adding constant type m style parameters for file(s) ['freyberg6.rch_recharge_12.txt']\n",
      "2022-03-15 15:50:53.676513 starting: loading array freyberg6_template\\freyberg6.rch_recharge_12.txt\n",
      "2022-03-15 15:50:53.678507 finished: loading array freyberg6_template\\freyberg6.rch_recharge_12.txt took: 0:00:00.001994\n",
      "2022-03-15 15:50:53.678507 loaded array 'freyberg_mf6\\freyberg6.rch_recharge_12.txt' of shape (40, 20)\n",
      "2022-03-15 15:50:53.680505 starting: writing array-style template file 'freyberg6_template\\rch_recharge_12_cn_inst0_constant.csv.tpl'\n",
      "2022-03-15 15:50:53.680505 starting: writing template file freyberg6_template\\rch_recharge_12_cn_inst0_constant.csv.tpl for ['rch_recharge_12_cn_inst:0']\n",
      "2022-03-15 15:50:53.687450 finished: writing template file freyberg6_template\\rch_recharge_12_cn_inst0_constant.csv.tpl for ['rch_recharge_12_cn_inst:0'] took: 0:00:00.006945\n",
      "2022-03-15 15:50:53.687450 starting: writing array-based template file 'freyberg6_template\\rch_recharge_12_cn_inst0_constant.csv.tpl'\n"
     ]
    },
    {
     "name": "stdout",
     "output_type": "stream",
     "text": [
      "2022-03-15 15:50:53.688482 saving zone array freyberg6_template\\rch_recharge_12_cn_inst0_constant.csv.zone for tpl file freyberg6_template\\rch_recharge_12_cn_inst0_constant.csv.tpl\n",
      "2022-03-15 15:50:53.694465 finished: adding constant type m style parameters for file(s) ['freyberg6.rch_recharge_12.txt'] took: 0:00:00.017952\n",
      "2022-03-15 15:50:53.694465 starting: adding constant type m style parameters for file(s) ['freyberg6.rch_recharge_12.txt']\n",
      "2022-03-15 15:50:53.694465 starting: loading array freyberg6_template\\freyberg6.rch_recharge_12.txt\n",
      "2022-03-15 15:50:53.696461 finished: loading array freyberg6_template\\freyberg6.rch_recharge_12.txt took: 0:00:00.001996\n",
      "2022-03-15 15:50:53.696461 loaded array 'freyberg_mf6\\freyberg6.rch_recharge_12.txt' of shape (40, 20)\n",
      "2022-03-15 15:50:53.698455 starting: writing array-style template file 'freyberg6_template\\rch_recharge_12_tcn_inst0_constant.csv.tpl'\n",
      "2022-03-15 15:50:53.698455 starting: writing template file freyberg6_template\\rch_recharge_12_tcn_inst0_constant.csv.tpl for ['rch_recharge_12_tcn_inst:0']\n",
      "2022-03-15 15:50:53.705402 finished: writing template file freyberg6_template\\rch_recharge_12_tcn_inst0_constant.csv.tpl for ['rch_recharge_12_tcn_inst:0'] took: 0:00:00.006947\n",
      "2022-03-15 15:50:53.705402 starting: writing array-based template file 'freyberg6_template\\rch_recharge_12_tcn_inst0_constant.csv.tpl'\n",
      "2022-03-15 15:50:53.706399 saving zone array freyberg6_template\\rch_recharge_12_tcn_inst0_constant.csv.zone for tpl file freyberg6_template\\rch_recharge_12_tcn_inst0_constant.csv.tpl\n",
      "2022-03-15 15:50:53.713414 finished: adding constant type m style parameters for file(s) ['freyberg6.rch_recharge_12.txt'] took: 0:00:00.018949\n",
      "2022-03-15 15:50:53.713414 starting: adding grid type m style parameters for file(s) ['freyberg6.rch_recharge_13.txt']\n",
      "2022-03-15 15:50:53.713414 starting: loading array freyberg6_template\\freyberg6.rch_recharge_13.txt\n",
      "2022-03-15 15:50:53.720416 finished: loading array freyberg6_template\\freyberg6.rch_recharge_13.txt took: 0:00:00.007002\n",
      "2022-03-15 15:50:53.720416 loaded array 'freyberg_mf6\\freyberg6.rch_recharge_13.txt' of shape (40, 20)\n",
      "2022-03-15 15:50:53.722407 starting: writing array-style template file 'freyberg6_template\\rch_recharge_13_gr_inst0_grid.csv.tpl'\n",
      "2022-03-15 15:50:53.722407 starting: writing template file freyberg6_template\\rch_recharge_13_gr_inst0_grid.csv.tpl for ['rch_recharge_13_gr_inst:0']\n",
      "2022-03-15 15:50:53.738416 finished: writing template file freyberg6_template\\rch_recharge_13_gr_inst0_grid.csv.tpl for ['rch_recharge_13_gr_inst:0'] took: 0:00:00.016009\n",
      "2022-03-15 15:50:53.738416 starting: writing array-based template file 'freyberg6_template\\rch_recharge_13_gr_inst0_grid.csv.tpl'\n",
      "2022-03-15 15:50:53.738416 saving zone array freyberg6_template\\rch_recharge_13_gr_inst0_grid.csv.zone for tpl file freyberg6_template\\rch_recharge_13_gr_inst0_grid.csv.tpl\n",
      "2022-03-15 15:50:53.746450 finished: adding grid type m style parameters for file(s) ['freyberg6.rch_recharge_13.txt'] took: 0:00:00.033036\n",
      "2022-03-15 15:50:53.746450 starting: adding pilotpoints type m style parameters for file(s) ['freyberg6.rch_recharge_13.txt']\n",
      "2022-03-15 15:50:53.746450 starting: loading array freyberg6_template\\freyberg6.rch_recharge_13.txt\n"
     ]
    },
    {
     "name": "stdout",
     "output_type": "stream",
     "text": [
      "2022-03-15 15:50:53.747427 finished: loading array freyberg6_template\\freyberg6.rch_recharge_13.txt took: 0:00:00.000977\n",
      "2022-03-15 15:50:53.747427 loaded array 'freyberg_mf6\\freyberg6.rch_recharge_13.txt' of shape (40, 20)\n",
      "2022-03-15 15:50:53.750439 starting: writing array-style template file 'freyberg6_template\\rch_recharge_13_pp_inst0_pilotpoints.csv.tpl'\n",
      "2022-03-15 15:50:53.750439 starting: setting up pilot point parameters\n",
      "2022-03-15 15:50:53.750439 No spatial reference (containing cell spacing) passed.\n",
      "2022-03-15 15:50:53.750439 OK - using spatial reference in parent object.\n",
      "2022-03-15 15:50:53.838209 32 pilot point parameters created\n",
      "2022-03-15 15:50:53.838209 pilot point 'pargp':rch_recharge_13_pp\n",
      "2022-03-15 15:50:53.838209 finished: setting up pilot point parameters took: 0:00:00.087770\n",
      "2022-03-15 15:50:53.845191 starting: writing array-based template file 'freyberg6_template\\rch_recharge_13_pp_inst0pp.dat.tpl'\n",
      "2022-03-15 15:50:53.845191 saving zone array freyberg6_template\\rch_recharge_13_pp_inst0pp.dat.zone for tpl file freyberg6_template\\rch_recharge_13_pp_inst0pp.dat.tpl\n",
      "2022-03-15 15:50:53.850211 finished: adding pilotpoints type m style parameters for file(s) ['freyberg6.rch_recharge_13.txt'] took: 0:00:00.103761\n",
      "2022-03-15 15:50:53.850211 starting: adding constant type m style parameters for file(s) ['freyberg6.rch_recharge_13.txt']\n",
      "2022-03-15 15:50:53.851221 starting: loading array freyberg6_template\\freyberg6.rch_recharge_13.txt\n",
      "2022-03-15 15:50:53.852206 finished: loading array freyberg6_template\\freyberg6.rch_recharge_13.txt took: 0:00:00.000985\n",
      "2022-03-15 15:50:53.852206 loaded array 'freyberg_mf6\\freyberg6.rch_recharge_13.txt' of shape (40, 20)\n",
      "2022-03-15 15:50:53.854201 starting: writing array-style template file 'freyberg6_template\\rch_recharge_13_cn_inst0_constant.csv.tpl'\n",
      "2022-03-15 15:50:53.854201 starting: writing template file freyberg6_template\\rch_recharge_13_cn_inst0_constant.csv.tpl for ['rch_recharge_13_cn_inst:0']\n",
      "2022-03-15 15:50:53.861181 finished: writing template file freyberg6_template\\rch_recharge_13_cn_inst0_constant.csv.tpl for ['rch_recharge_13_cn_inst:0'] took: 0:00:00.006980\n",
      "2022-03-15 15:50:53.861181 starting: writing array-based template file 'freyberg6_template\\rch_recharge_13_cn_inst0_constant.csv.tpl'\n",
      "2022-03-15 15:50:53.861181 saving zone array freyberg6_template\\rch_recharge_13_cn_inst0_constant.csv.zone for tpl file freyberg6_template\\rch_recharge_13_cn_inst0_constant.csv.tpl\n",
      "2022-03-15 15:50:53.868163 finished: adding constant type m style parameters for file(s) ['freyberg6.rch_recharge_13.txt'] took: 0:00:00.017952\n",
      "2022-03-15 15:50:53.868163 starting: adding constant type m style parameters for file(s) ['freyberg6.rch_recharge_13.txt']\n",
      "2022-03-15 15:50:53.868163 starting: loading array freyberg6_template\\freyberg6.rch_recharge_13.txt\n"
     ]
    },
    {
     "name": "stdout",
     "output_type": "stream",
     "text": [
      "2022-03-15 15:50:53.870159 finished: loading array freyberg6_template\\freyberg6.rch_recharge_13.txt took: 0:00:00.001996\n",
      "2022-03-15 15:50:53.870159 loaded array 'freyberg_mf6\\freyberg6.rch_recharge_13.txt' of shape (40, 20)\n",
      "2022-03-15 15:50:53.872121 starting: writing array-style template file 'freyberg6_template\\rch_recharge_13_tcn_inst0_constant.csv.tpl'\n",
      "2022-03-15 15:50:53.872121 starting: writing template file freyberg6_template\\rch_recharge_13_tcn_inst0_constant.csv.tpl for ['rch_recharge_13_tcn_inst:0']\n",
      "2022-03-15 15:50:53.879134 finished: writing template file freyberg6_template\\rch_recharge_13_tcn_inst0_constant.csv.tpl for ['rch_recharge_13_tcn_inst:0'] took: 0:00:00.007013\n",
      "2022-03-15 15:50:53.879134 starting: writing array-based template file 'freyberg6_template\\rch_recharge_13_tcn_inst0_constant.csv.tpl'\n",
      "2022-03-15 15:50:53.880132 saving zone array freyberg6_template\\rch_recharge_13_tcn_inst0_constant.csv.zone for tpl file freyberg6_template\\rch_recharge_13_tcn_inst0_constant.csv.tpl\n",
      "2022-03-15 15:50:53.887130 finished: adding constant type m style parameters for file(s) ['freyberg6.rch_recharge_13.txt'] took: 0:00:00.018967\n",
      "2022-03-15 15:50:53.887130 starting: adding grid type m style parameters for file(s) ['freyberg6.rch_recharge_14.txt']\n",
      "2022-03-15 15:50:53.887130 starting: loading array freyberg6_template\\freyberg6.rch_recharge_14.txt\n",
      "2022-03-15 15:50:53.894113 finished: loading array freyberg6_template\\freyberg6.rch_recharge_14.txt took: 0:00:00.006983\n",
      "2022-03-15 15:50:53.894113 loaded array 'freyberg_mf6\\freyberg6.rch_recharge_14.txt' of shape (40, 20)\n",
      "2022-03-15 15:50:53.896107 starting: writing array-style template file 'freyberg6_template\\rch_recharge_14_gr_inst0_grid.csv.tpl'\n",
      "2022-03-15 15:50:53.896107 starting: writing template file freyberg6_template\\rch_recharge_14_gr_inst0_grid.csv.tpl for ['rch_recharge_14_gr_inst:0']\n",
      "2022-03-15 15:50:53.909073 finished: writing template file freyberg6_template\\rch_recharge_14_gr_inst0_grid.csv.tpl for ['rch_recharge_14_gr_inst:0'] took: 0:00:00.012966\n",
      "2022-03-15 15:50:53.909073 starting: writing array-based template file 'freyberg6_template\\rch_recharge_14_gr_inst0_grid.csv.tpl'\n",
      "2022-03-15 15:50:53.909073 saving zone array freyberg6_template\\rch_recharge_14_gr_inst0_grid.csv.zone for tpl file freyberg6_template\\rch_recharge_14_gr_inst0_grid.csv.tpl\n",
      "2022-03-15 15:50:53.916054 finished: adding grid type m style parameters for file(s) ['freyberg6.rch_recharge_14.txt'] took: 0:00:00.028924\n",
      "2022-03-15 15:50:53.917035 starting: adding pilotpoints type m style parameters for file(s) ['freyberg6.rch_recharge_14.txt']\n",
      "2022-03-15 15:50:53.917035 starting: loading array freyberg6_template\\freyberg6.rch_recharge_14.txt\n",
      "2022-03-15 15:50:53.918047 finished: loading array freyberg6_template\\freyberg6.rch_recharge_14.txt took: 0:00:00.001012\n",
      "2022-03-15 15:50:53.918047 loaded array 'freyberg_mf6\\freyberg6.rch_recharge_14.txt' of shape (40, 20)\n",
      "2022-03-15 15:50:53.920043 starting: writing array-style template file 'freyberg6_template\\rch_recharge_14_pp_inst0_pilotpoints.csv.tpl'\n",
      "2022-03-15 15:50:53.920043 starting: setting up pilot point parameters\n",
      "2022-03-15 15:50:53.920043 No spatial reference (containing cell spacing) passed.\n",
      "2022-03-15 15:50:53.920043 OK - using spatial reference in parent object.\n"
     ]
    },
    {
     "name": "stdout",
     "output_type": "stream",
     "text": [
      "2022-03-15 15:50:53.997920 32 pilot point parameters created\n",
      "2022-03-15 15:50:53.997920 pilot point 'pargp':rch_recharge_14_pp\n",
      "2022-03-15 15:50:53.997920 finished: setting up pilot point parameters took: 0:00:00.077877\n",
      "2022-03-15 15:50:54.004906 starting: writing array-based template file 'freyberg6_template\\rch_recharge_14_pp_inst0pp.dat.tpl'\n",
      "2022-03-15 15:50:54.004906 saving zone array freyberg6_template\\rch_recharge_14_pp_inst0pp.dat.zone for tpl file freyberg6_template\\rch_recharge_14_pp_inst0pp.dat.tpl\n",
      "2022-03-15 15:50:54.009922 finished: adding pilotpoints type m style parameters for file(s) ['freyberg6.rch_recharge_14.txt'] took: 0:00:00.092887\n",
      "2022-03-15 15:50:54.010919 starting: adding constant type m style parameters for file(s) ['freyberg6.rch_recharge_14.txt']\n",
      "2022-03-15 15:50:54.010919 starting: loading array freyberg6_template\\freyberg6.rch_recharge_14.txt\n",
      "2022-03-15 15:50:54.011918 finished: loading array freyberg6_template\\freyberg6.rch_recharge_14.txt took: 0:00:00.000999\n",
      "2022-03-15 15:50:54.011918 loaded array 'freyberg_mf6\\freyberg6.rch_recharge_14.txt' of shape (40, 20)\n",
      "2022-03-15 15:50:54.013878 starting: writing array-style template file 'freyberg6_template\\rch_recharge_14_cn_inst0_constant.csv.tpl'\n",
      "2022-03-15 15:50:54.013878 starting: writing template file freyberg6_template\\rch_recharge_14_cn_inst0_constant.csv.tpl for ['rch_recharge_14_cn_inst:0']\n",
      "2022-03-15 15:50:54.021890 finished: writing template file freyberg6_template\\rch_recharge_14_cn_inst0_constant.csv.tpl for ['rch_recharge_14_cn_inst:0'] took: 0:00:00.008012\n",
      "2022-03-15 15:50:54.021890 starting: writing array-based template file 'freyberg6_template\\rch_recharge_14_cn_inst0_constant.csv.tpl'\n",
      "2022-03-15 15:50:54.021890 saving zone array freyberg6_template\\rch_recharge_14_cn_inst0_constant.csv.zone for tpl file freyberg6_template\\rch_recharge_14_cn_inst0_constant.csv.tpl\n",
      "2022-03-15 15:50:54.027874 finished: adding constant type m style parameters for file(s) ['freyberg6.rch_recharge_14.txt'] took: 0:00:00.016955\n",
      "2022-03-15 15:50:54.027874 starting: adding constant type m style parameters for file(s) ['freyberg6.rch_recharge_14.txt']\n",
      "2022-03-15 15:50:54.027874 starting: loading array freyberg6_template\\freyberg6.rch_recharge_14.txt\n",
      "2022-03-15 15:50:54.029868 finished: loading array freyberg6_template\\freyberg6.rch_recharge_14.txt took: 0:00:00.001994\n",
      "2022-03-15 15:50:54.029868 loaded array 'freyberg_mf6\\freyberg6.rch_recharge_14.txt' of shape (40, 20)\n",
      "2022-03-15 15:50:54.031830 starting: writing array-style template file 'freyberg6_template\\rch_recharge_14_tcn_inst0_constant.csv.tpl'\n",
      "2022-03-15 15:50:54.031830 starting: writing template file freyberg6_template\\rch_recharge_14_tcn_inst0_constant.csv.tpl for ['rch_recharge_14_tcn_inst:0']\n",
      "2022-03-15 15:50:54.038810 finished: writing template file freyberg6_template\\rch_recharge_14_tcn_inst0_constant.csv.tpl for ['rch_recharge_14_tcn_inst:0'] took: 0:00:00.006980\n",
      "2022-03-15 15:50:54.038810 starting: writing array-based template file 'freyberg6_template\\rch_recharge_14_tcn_inst0_constant.csv.tpl'\n",
      "2022-03-15 15:50:54.039808 saving zone array freyberg6_template\\rch_recharge_14_tcn_inst0_constant.csv.zone for tpl file freyberg6_template\\rch_recharge_14_tcn_inst0_constant.csv.tpl\n",
      "2022-03-15 15:50:54.046822 finished: adding constant type m style parameters for file(s) ['freyberg6.rch_recharge_14.txt'] took: 0:00:00.018948\n",
      "2022-03-15 15:50:54.046822 starting: adding grid type m style parameters for file(s) ['freyberg6.rch_recharge_15.txt']\n",
      "2022-03-15 15:50:54.046822 starting: loading array freyberg6_template\\freyberg6.rch_recharge_15.txt\n",
      "2022-03-15 15:50:54.053824 finished: loading array freyberg6_template\\freyberg6.rch_recharge_15.txt took: 0:00:00.007002\n",
      "2022-03-15 15:50:54.053824 loaded array 'freyberg_mf6\\freyberg6.rch_recharge_15.txt' of shape (40, 20)\n",
      "2022-03-15 15:50:54.056538 starting: writing array-style template file 'freyberg6_template\\rch_recharge_15_gr_inst0_grid.csv.tpl'\n",
      "2022-03-15 15:50:54.056538 starting: writing template file freyberg6_template\\rch_recharge_15_gr_inst0_grid.csv.tpl for ['rch_recharge_15_gr_inst:0']\n"
     ]
    },
    {
     "name": "stdout",
     "output_type": "stream",
     "text": [
      "2022-03-15 15:50:54.070501 finished: writing template file freyberg6_template\\rch_recharge_15_gr_inst0_grid.csv.tpl for ['rch_recharge_15_gr_inst:0'] took: 0:00:00.013963\n",
      "2022-03-15 15:50:54.070501 starting: writing array-based template file 'freyberg6_template\\rch_recharge_15_gr_inst0_grid.csv.tpl'\n",
      "2022-03-15 15:50:54.070501 saving zone array freyberg6_template\\rch_recharge_15_gr_inst0_grid.csv.zone for tpl file freyberg6_template\\rch_recharge_15_gr_inst0_grid.csv.tpl\n",
      "2022-03-15 15:50:54.078447 finished: adding grid type m style parameters for file(s) ['freyberg6.rch_recharge_15.txt'] took: 0:00:00.031625\n",
      "2022-03-15 15:50:54.078447 starting: adding pilotpoints type m style parameters for file(s) ['freyberg6.rch_recharge_15.txt']\n",
      "2022-03-15 15:50:54.078447 starting: loading array freyberg6_template\\freyberg6.rch_recharge_15.txt\n",
      "2022-03-15 15:50:54.079499 finished: loading array freyberg6_template\\freyberg6.rch_recharge_15.txt took: 0:00:00.001052\n",
      "2022-03-15 15:50:54.079499 loaded array 'freyberg_mf6\\freyberg6.rch_recharge_15.txt' of shape (40, 20)\n",
      "2022-03-15 15:50:54.081490 starting: writing array-style template file 'freyberg6_template\\rch_recharge_15_pp_inst0_pilotpoints.csv.tpl'\n",
      "2022-03-15 15:50:54.081490 starting: setting up pilot point parameters\n",
      "2022-03-15 15:50:54.081490 No spatial reference (containing cell spacing) passed.\n",
      "2022-03-15 15:50:54.082436 OK - using spatial reference in parent object.\n",
      "2022-03-15 15:50:54.170201 32 pilot point parameters created\n",
      "2022-03-15 15:50:54.170201 pilot point 'pargp':rch_recharge_15_pp\n",
      "2022-03-15 15:50:54.171199 finished: setting up pilot point parameters took: 0:00:00.089709\n",
      "2022-03-15 15:50:54.177217 starting: writing array-based template file 'freyberg6_template\\rch_recharge_15_pp_inst0pp.dat.tpl'\n",
      "2022-03-15 15:50:54.177217 saving zone array freyberg6_template\\rch_recharge_15_pp_inst0pp.dat.zone for tpl file freyberg6_template\\rch_recharge_15_pp_inst0pp.dat.tpl\n",
      "2022-03-15 15:50:54.183167 finished: adding pilotpoints type m style parameters for file(s) ['freyberg6.rch_recharge_15.txt'] took: 0:00:00.104720\n",
      "2022-03-15 15:50:54.183167 starting: adding constant type m style parameters for file(s) ['freyberg6.rch_recharge_15.txt']\n",
      "2022-03-15 15:50:54.183167 starting: loading array freyberg6_template\\freyberg6.rch_recharge_15.txt\n"
     ]
    },
    {
     "name": "stdout",
     "output_type": "stream",
     "text": [
      "2022-03-15 15:50:54.185161 finished: loading array freyberg6_template\\freyberg6.rch_recharge_15.txt took: 0:00:00.001994\n",
      "2022-03-15 15:50:54.185161 loaded array 'freyberg_mf6\\freyberg6.rch_recharge_15.txt' of shape (40, 20)\n",
      "2022-03-15 15:50:54.187207 starting: writing array-style template file 'freyberg6_template\\rch_recharge_15_cn_inst0_constant.csv.tpl'\n",
      "2022-03-15 15:50:54.187207 starting: writing template file freyberg6_template\\rch_recharge_15_cn_inst0_constant.csv.tpl for ['rch_recharge_15_cn_inst:0']\n",
      "2022-03-15 15:50:54.194138 finished: writing template file freyberg6_template\\rch_recharge_15_cn_inst0_constant.csv.tpl for ['rch_recharge_15_cn_inst:0'] took: 0:00:00.006931\n",
      "2022-03-15 15:50:54.194138 starting: writing array-based template file 'freyberg6_template\\rch_recharge_15_cn_inst0_constant.csv.tpl'\n",
      "2022-03-15 15:50:54.195135 saving zone array freyberg6_template\\rch_recharge_15_cn_inst0_constant.csv.zone for tpl file freyberg6_template\\rch_recharge_15_cn_inst0_constant.csv.tpl\n",
      "2022-03-15 15:50:54.201154 finished: adding constant type m style parameters for file(s) ['freyberg6.rch_recharge_15.txt'] took: 0:00:00.017987\n",
      "2022-03-15 15:50:54.202149 starting: adding constant type m style parameters for file(s) ['freyberg6.rch_recharge_15.txt']\n",
      "2022-03-15 15:50:54.202149 starting: loading array freyberg6_template\\freyberg6.rch_recharge_15.txt\n",
      "2022-03-15 15:50:54.203147 finished: loading array freyberg6_template\\freyberg6.rch_recharge_15.txt took: 0:00:00.000998\n",
      "2022-03-15 15:50:54.203147 loaded array 'freyberg_mf6\\freyberg6.rch_recharge_15.txt' of shape (40, 20)\n",
      "2022-03-15 15:50:54.205108 starting: writing array-style template file 'freyberg6_template\\rch_recharge_15_tcn_inst0_constant.csv.tpl'\n",
      "2022-03-15 15:50:54.205108 starting: writing template file freyberg6_template\\rch_recharge_15_tcn_inst0_constant.csv.tpl for ['rch_recharge_15_tcn_inst:0']\n",
      "2022-03-15 15:50:54.212130 finished: writing template file freyberg6_template\\rch_recharge_15_tcn_inst0_constant.csv.tpl for ['rch_recharge_15_tcn_inst:0'] took: 0:00:00.007022\n",
      "2022-03-15 15:50:54.213087 starting: writing array-based template file 'freyberg6_template\\rch_recharge_15_tcn_inst0_constant.csv.tpl'\n",
      "2022-03-15 15:50:54.213087 saving zone array freyberg6_template\\rch_recharge_15_tcn_inst0_constant.csv.zone for tpl file freyberg6_template\\rch_recharge_15_tcn_inst0_constant.csv.tpl\n",
      "2022-03-15 15:50:54.221099 finished: adding constant type m style parameters for file(s) ['freyberg6.rch_recharge_15.txt'] took: 0:00:00.018950\n",
      "2022-03-15 15:50:54.221099 starting: adding grid type m style parameters for file(s) ['freyberg6.rch_recharge_16.txt']\n",
      "2022-03-15 15:50:54.221099 starting: loading array freyberg6_template\\freyberg6.rch_recharge_16.txt\n",
      "2022-03-15 15:50:54.227050 finished: loading array freyberg6_template\\freyberg6.rch_recharge_16.txt took: 0:00:00.005951\n",
      "2022-03-15 15:50:54.227050 loaded array 'freyberg_mf6\\freyberg6.rch_recharge_16.txt' of shape (40, 20)\n",
      "2022-03-15 15:50:54.229103 starting: writing array-style template file 'freyberg6_template\\rch_recharge_16_gr_inst0_grid.csv.tpl'\n",
      "2022-03-15 15:50:54.230042 starting: writing template file freyberg6_template\\rch_recharge_16_gr_inst0_grid.csv.tpl for ['rch_recharge_16_gr_inst:0']\n",
      "2022-03-15 15:50:54.242010 finished: writing template file freyberg6_template\\rch_recharge_16_gr_inst0_grid.csv.tpl for ['rch_recharge_16_gr_inst:0'] took: 0:00:00.011968\n",
      "2022-03-15 15:50:54.242010 starting: writing array-based template file 'freyberg6_template\\rch_recharge_16_gr_inst0_grid.csv.tpl'\n",
      "2022-03-15 15:50:54.242010 saving zone array freyberg6_template\\rch_recharge_16_gr_inst0_grid.csv.zone for tpl file freyberg6_template\\rch_recharge_16_gr_inst0_grid.csv.tpl\n",
      "2022-03-15 15:50:54.249988 finished: adding grid type m style parameters for file(s) ['freyberg6.rch_recharge_16.txt'] took: 0:00:00.028889\n",
      "2022-03-15 15:50:54.249988 starting: adding pilotpoints type m style parameters for file(s) ['freyberg6.rch_recharge_16.txt']\n",
      "2022-03-15 15:50:54.249988 starting: loading array freyberg6_template\\freyberg6.rch_recharge_16.txt\n"
     ]
    },
    {
     "name": "stdout",
     "output_type": "stream",
     "text": [
      "2022-03-15 15:50:54.252033 finished: loading array freyberg6_template\\freyberg6.rch_recharge_16.txt took: 0:00:00.002045\n",
      "2022-03-15 15:50:54.252033 loaded array 'freyberg_mf6\\freyberg6.rch_recharge_16.txt' of shape (40, 20)\n",
      "2022-03-15 15:50:54.254028 starting: writing array-style template file 'freyberg6_template\\rch_recharge_16_pp_inst0_pilotpoints.csv.tpl'\n",
      "2022-03-15 15:50:54.254028 starting: setting up pilot point parameters\n",
      "2022-03-15 15:50:54.254028 No spatial reference (containing cell spacing) passed.\n",
      "2022-03-15 15:50:54.254028 OK - using spatial reference in parent object.\n",
      "2022-03-15 15:50:54.331292 32 pilot point parameters created\n",
      "2022-03-15 15:50:54.331292 pilot point 'pargp':rch_recharge_16_pp\n",
      "2022-03-15 15:50:54.331292 finished: setting up pilot point parameters took: 0:00:00.077264\n",
      "2022-03-15 15:50:54.338325 starting: writing array-based template file 'freyberg6_template\\rch_recharge_16_pp_inst0pp.dat.tpl'\n",
      "2022-03-15 15:50:54.338325 saving zone array freyberg6_template\\rch_recharge_16_pp_inst0pp.dat.zone for tpl file freyberg6_template\\rch_recharge_16_pp_inst0pp.dat.tpl\n",
      "2022-03-15 15:50:54.344308 finished: adding pilotpoints type m style parameters for file(s) ['freyberg6.rch_recharge_16.txt'] took: 0:00:00.094320\n",
      "2022-03-15 15:50:54.344308 starting: adding constant type m style parameters for file(s) ['freyberg6.rch_recharge_16.txt']\n",
      "2022-03-15 15:50:54.344308 starting: loading array freyberg6_template\\freyberg6.rch_recharge_16.txt\n",
      "2022-03-15 15:50:54.345254 finished: loading array freyberg6_template\\freyberg6.rch_recharge_16.txt took: 0:00:00.000946\n",
      "2022-03-15 15:50:54.345254 loaded array 'freyberg_mf6\\freyberg6.rch_recharge_16.txt' of shape (40, 20)\n",
      "2022-03-15 15:50:54.347249 starting: writing array-style template file 'freyberg6_template\\rch_recharge_16_cn_inst0_constant.csv.tpl'\n",
      "2022-03-15 15:50:54.347249 starting: writing template file freyberg6_template\\rch_recharge_16_cn_inst0_constant.csv.tpl for ['rch_recharge_16_cn_inst:0']\n",
      "2022-03-15 15:50:54.355227 finished: writing template file freyberg6_template\\rch_recharge_16_cn_inst0_constant.csv.tpl for ['rch_recharge_16_cn_inst:0'] took: 0:00:00.007978\n",
      "2022-03-15 15:50:54.355227 starting: writing array-based template file 'freyberg6_template\\rch_recharge_16_cn_inst0_constant.csv.tpl'\n",
      "2022-03-15 15:50:54.355227 saving zone array freyberg6_template\\rch_recharge_16_cn_inst0_constant.csv.zone for tpl file freyberg6_template\\rch_recharge_16_cn_inst0_constant.csv.tpl\n",
      "2022-03-15 15:50:54.361246 finished: adding constant type m style parameters for file(s) ['freyberg6.rch_recharge_16.txt'] took: 0:00:00.016938\n",
      "2022-03-15 15:50:54.361246 starting: adding constant type m style parameters for file(s) ['freyberg6.rch_recharge_16.txt']\n",
      "2022-03-15 15:50:54.361246 starting: loading array freyberg6_template\\freyberg6.rch_recharge_16.txt\n",
      "2022-03-15 15:50:54.363243 finished: loading array freyberg6_template\\freyberg6.rch_recharge_16.txt took: 0:00:00.001997\n",
      "2022-03-15 15:50:54.363243 loaded array 'freyberg_mf6\\freyberg6.rch_recharge_16.txt' of shape (40, 20)\n",
      "2022-03-15 15:50:54.365200 starting: writing array-style template file 'freyberg6_template\\rch_recharge_16_tcn_inst0_constant.csv.tpl'\n",
      "2022-03-15 15:50:54.365200 starting: writing template file freyberg6_template\\rch_recharge_16_tcn_inst0_constant.csv.tpl for ['rch_recharge_16_tcn_inst:0']\n",
      "2022-03-15 15:50:54.373180 finished: writing template file freyberg6_template\\rch_recharge_16_tcn_inst0_constant.csv.tpl for ['rch_recharge_16_tcn_inst:0'] took: 0:00:00.007980\n",
      "2022-03-15 15:50:54.373180 starting: writing array-based template file 'freyberg6_template\\rch_recharge_16_tcn_inst0_constant.csv.tpl'\n"
     ]
    },
    {
     "name": "stdout",
     "output_type": "stream",
     "text": [
      "2022-03-15 15:50:54.374176 saving zone array freyberg6_template\\rch_recharge_16_tcn_inst0_constant.csv.zone for tpl file freyberg6_template\\rch_recharge_16_tcn_inst0_constant.csv.tpl\n",
      "2022-03-15 15:50:54.381183 finished: adding constant type m style parameters for file(s) ['freyberg6.rch_recharge_16.txt'] took: 0:00:00.019937\n",
      "2022-03-15 15:50:54.381183 starting: adding grid type m style parameters for file(s) ['freyberg6.rch_recharge_17.txt']\n",
      "2022-03-15 15:50:54.381183 starting: loading array freyberg6_template\\freyberg6.rch_recharge_17.txt\n",
      "2022-03-15 15:50:54.388193 finished: loading array freyberg6_template\\freyberg6.rch_recharge_17.txt took: 0:00:00.007010\n",
      "2022-03-15 15:50:54.388193 loaded array 'freyberg_mf6\\freyberg6.rch_recharge_17.txt' of shape (40, 20)\n",
      "2022-03-15 15:50:54.390186 starting: writing array-style template file 'freyberg6_template\\rch_recharge_17_gr_inst0_grid.csv.tpl'\n",
      "2022-03-15 15:50:54.390186 starting: writing template file freyberg6_template\\rch_recharge_17_gr_inst0_grid.csv.tpl for ['rch_recharge_17_gr_inst:0']\n",
      "2022-03-15 15:50:54.403151 finished: writing template file freyberg6_template\\rch_recharge_17_gr_inst0_grid.csv.tpl for ['rch_recharge_17_gr_inst:0'] took: 0:00:00.012965\n",
      "2022-03-15 15:50:54.403151 starting: writing array-based template file 'freyberg6_template\\rch_recharge_17_gr_inst0_grid.csv.tpl'\n",
      "2022-03-15 15:50:54.403151 saving zone array freyberg6_template\\rch_recharge_17_gr_inst0_grid.csv.zone for tpl file freyberg6_template\\rch_recharge_17_gr_inst0_grid.csv.tpl\n",
      "2022-03-15 15:50:54.410133 finished: adding grid type m style parameters for file(s) ['freyberg6.rch_recharge_17.txt'] took: 0:00:00.028950\n",
      "2022-03-15 15:50:54.410133 starting: adding pilotpoints type m style parameters for file(s) ['freyberg6.rch_recharge_17.txt']\n",
      "2022-03-15 15:50:54.411130 starting: loading array freyberg6_template\\freyberg6.rch_recharge_17.txt\n",
      "2022-03-15 15:50:54.412128 finished: loading array freyberg6_template\\freyberg6.rch_recharge_17.txt took: 0:00:00.000998\n",
      "2022-03-15 15:50:54.412128 loaded array 'freyberg_mf6\\freyberg6.rch_recharge_17.txt' of shape (40, 20)\n",
      "2022-03-15 15:50:54.414122 starting: writing array-style template file 'freyberg6_template\\rch_recharge_17_pp_inst0_pilotpoints.csv.tpl'\n",
      "2022-03-15 15:50:54.414122 starting: setting up pilot point parameters\n",
      "2022-03-15 15:50:54.414122 No spatial reference (containing cell spacing) passed.\n",
      "2022-03-15 15:50:54.414122 OK - using spatial reference in parent object.\n"
     ]
    },
    {
     "name": "stdout",
     "output_type": "stream",
     "text": [
      "2022-03-15 15:50:54.491850 32 pilot point parameters created\n",
      "2022-03-15 15:50:54.491850 pilot point 'pargp':rch_recharge_17_pp\n",
      "2022-03-15 15:50:54.492882 finished: setting up pilot point parameters took: 0:00:00.078760\n",
      "2022-03-15 15:50:54.499834 starting: writing array-based template file 'freyberg6_template\\rch_recharge_17_pp_inst0pp.dat.tpl'\n",
      "2022-03-15 15:50:54.499834 saving zone array freyberg6_template\\rch_recharge_17_pp_inst0pp.dat.zone for tpl file freyberg6_template\\rch_recharge_17_pp_inst0pp.dat.tpl\n",
      "2022-03-15 15:50:54.504817 finished: adding pilotpoints type m style parameters for file(s) ['freyberg6.rch_recharge_17.txt'] took: 0:00:00.094684\n",
      "2022-03-15 15:50:54.504817 starting: adding constant type m style parameters for file(s) ['freyberg6.rch_recharge_17.txt']\n",
      "2022-03-15 15:50:54.504817 starting: loading array freyberg6_template\\freyberg6.rch_recharge_17.txt\n",
      "2022-03-15 15:50:54.506863 finished: loading array freyberg6_template\\freyberg6.rch_recharge_17.txt took: 0:00:00.002046\n",
      "2022-03-15 15:50:54.506863 loaded array 'freyberg_mf6\\freyberg6.rch_recharge_17.txt' of shape (40, 20)\n",
      "2022-03-15 15:50:54.508806 starting: writing array-style template file 'freyberg6_template\\rch_recharge_17_cn_inst0_constant.csv.tpl'\n",
      "2022-03-15 15:50:54.508806 starting: writing template file freyberg6_template\\rch_recharge_17_cn_inst0_constant.csv.tpl for ['rch_recharge_17_cn_inst:0']\n",
      "2022-03-15 15:50:54.515838 finished: writing template file freyberg6_template\\rch_recharge_17_cn_inst0_constant.csv.tpl for ['rch_recharge_17_cn_inst:0'] took: 0:00:00.007032\n",
      "2022-03-15 15:50:54.515838 starting: writing array-based template file 'freyberg6_template\\rch_recharge_17_cn_inst0_constant.csv.tpl'\n",
      "2022-03-15 15:50:54.515838 saving zone array freyberg6_template\\rch_recharge_17_cn_inst0_constant.csv.zone for tpl file freyberg6_template\\rch_recharge_17_cn_inst0_constant.csv.tpl\n",
      "2022-03-15 15:50:54.522821 finished: adding constant type m style parameters for file(s) ['freyberg6.rch_recharge_17.txt'] took: 0:00:00.018004\n",
      "2022-03-15 15:50:54.522821 starting: adding constant type m style parameters for file(s) ['freyberg6.rch_recharge_17.txt']\n",
      "2022-03-15 15:50:54.522821 starting: loading array freyberg6_template\\freyberg6.rch_recharge_17.txt\n",
      "2022-03-15 15:50:54.523821 finished: loading array freyberg6_template\\freyberg6.rch_recharge_17.txt took: 0:00:00.001000\n",
      "2022-03-15 15:50:54.523821 loaded array 'freyberg_mf6\\freyberg6.rch_recharge_17.txt' of shape (40, 20)\n",
      "2022-03-15 15:50:54.525760 starting: writing array-style template file 'freyberg6_template\\rch_recharge_17_tcn_inst0_constant.csv.tpl'\n",
      "2022-03-15 15:50:54.526757 starting: writing template file freyberg6_template\\rch_recharge_17_tcn_inst0_constant.csv.tpl for ['rch_recharge_17_tcn_inst:0']\n",
      "2022-03-15 15:50:54.534737 finished: writing template file freyberg6_template\\rch_recharge_17_tcn_inst0_constant.csv.tpl for ['rch_recharge_17_tcn_inst:0'] took: 0:00:00.007980\n",
      "2022-03-15 15:50:54.535733 starting: writing array-based template file 'freyberg6_template\\rch_recharge_17_tcn_inst0_constant.csv.tpl'\n",
      "2022-03-15 15:50:54.535733 saving zone array freyberg6_template\\rch_recharge_17_tcn_inst0_constant.csv.zone for tpl file freyberg6_template\\rch_recharge_17_tcn_inst0_constant.csv.tpl\n",
      "2022-03-15 15:50:54.543713 finished: adding constant type m style parameters for file(s) ['freyberg6.rch_recharge_17.txt'] took: 0:00:00.020892\n",
      "2022-03-15 15:50:54.543713 starting: adding grid type m style parameters for file(s) ['freyberg6.rch_recharge_18.txt']\n",
      "2022-03-15 15:50:54.543713 starting: loading array freyberg6_template\\freyberg6.rch_recharge_18.txt\n",
      "2022-03-15 15:50:54.549833 finished: loading array freyberg6_template\\freyberg6.rch_recharge_18.txt took: 0:00:00.006120\n",
      "2022-03-15 15:50:54.550732 loaded array 'freyberg_mf6\\freyberg6.rch_recharge_18.txt' of shape (40, 20)\n",
      "2022-03-15 15:50:54.552689 starting: writing array-style template file 'freyberg6_template\\rch_recharge_18_gr_inst0_grid.csv.tpl'\n",
      "2022-03-15 15:50:54.552689 starting: writing template file freyberg6_template\\rch_recharge_18_gr_inst0_grid.csv.tpl for ['rch_recharge_18_gr_inst:0']\n",
      "2022-03-15 15:50:54.564657 finished: writing template file freyberg6_template\\rch_recharge_18_gr_inst0_grid.csv.tpl for ['rch_recharge_18_gr_inst:0'] took: 0:00:00.011968\n",
      "2022-03-15 15:50:54.564657 starting: writing array-based template file 'freyberg6_template\\rch_recharge_18_gr_inst0_grid.csv.tpl'\n"
     ]
    },
    {
     "name": "stdout",
     "output_type": "stream",
     "text": [
      "2022-03-15 15:50:54.565654 saving zone array freyberg6_template\\rch_recharge_18_gr_inst0_grid.csv.zone for tpl file freyberg6_template\\rch_recharge_18_gr_inst0_grid.csv.tpl\n",
      "2022-03-15 15:50:54.572686 finished: adding grid type m style parameters for file(s) ['freyberg6.rch_recharge_18.txt'] took: 0:00:00.028973\n",
      "2022-03-15 15:50:54.572686 starting: adding pilotpoints type m style parameters for file(s) ['freyberg6.rch_recharge_18.txt']\n",
      "2022-03-15 15:50:54.573696 starting: loading array freyberg6_template\\freyberg6.rch_recharge_18.txt\n",
      "2022-03-15 15:50:54.574630 finished: loading array freyberg6_template\\freyberg6.rch_recharge_18.txt took: 0:00:00.000934\n",
      "2022-03-15 15:50:54.574630 loaded array 'freyberg_mf6\\freyberg6.rch_recharge_18.txt' of shape (40, 20)\n",
      "2022-03-15 15:50:54.576679 starting: writing array-style template file 'freyberg6_template\\rch_recharge_18_pp_inst0_pilotpoints.csv.tpl'\n",
      "2022-03-15 15:50:54.576679 starting: setting up pilot point parameters\n",
      "2022-03-15 15:50:54.576679 No spatial reference (containing cell spacing) passed.\n",
      "2022-03-15 15:50:54.576679 OK - using spatial reference in parent object.\n",
      "2022-03-15 15:50:54.650126 32 pilot point parameters created\n",
      "2022-03-15 15:50:54.650126 pilot point 'pargp':rch_recharge_18_pp\n",
      "2022-03-15 15:50:54.651159 finished: setting up pilot point parameters took: 0:00:00.074480\n",
      "2022-03-15 15:50:54.658106 starting: writing array-based template file 'freyberg6_template\\rch_recharge_18_pp_inst0pp.dat.tpl'\n",
      "2022-03-15 15:50:54.658106 saving zone array freyberg6_template\\rch_recharge_18_pp_inst0pp.dat.zone for tpl file freyberg6_template\\rch_recharge_18_pp_inst0pp.dat.tpl\n",
      "2022-03-15 15:50:54.663147 finished: adding pilotpoints type m style parameters for file(s) ['freyberg6.rch_recharge_18.txt'] took: 0:00:00.090461\n",
      "2022-03-15 15:50:54.663147 starting: adding constant type m style parameters for file(s) ['freyberg6.rch_recharge_18.txt']\n",
      "2022-03-15 15:50:54.663147 starting: loading array freyberg6_template\\freyberg6.rch_recharge_18.txt\n",
      "2022-03-15 15:50:54.665087 finished: loading array freyberg6_template\\freyberg6.rch_recharge_18.txt took: 0:00:00.001940\n",
      "2022-03-15 15:50:54.665087 loaded array 'freyberg_mf6\\freyberg6.rch_recharge_18.txt' of shape (40, 20)\n",
      "2022-03-15 15:50:54.667133 starting: writing array-style template file 'freyberg6_template\\rch_recharge_18_cn_inst0_constant.csv.tpl'\n",
      "2022-03-15 15:50:54.667133 starting: writing template file freyberg6_template\\rch_recharge_18_cn_inst0_constant.csv.tpl for ['rch_recharge_18_cn_inst:0']\n"
     ]
    },
    {
     "name": "stdout",
     "output_type": "stream",
     "text": [
      "2022-03-15 15:50:54.675062 finished: writing template file freyberg6_template\\rch_recharge_18_cn_inst0_constant.csv.tpl for ['rch_recharge_18_cn_inst:0'] took: 0:00:00.007929\n",
      "2022-03-15 15:50:54.675062 starting: writing array-based template file 'freyberg6_template\\rch_recharge_18_cn_inst0_constant.csv.tpl'\n",
      "2022-03-15 15:50:54.675062 saving zone array freyberg6_template\\rch_recharge_18_cn_inst0_constant.csv.zone for tpl file freyberg6_template\\rch_recharge_18_cn_inst0_constant.csv.tpl\n",
      "2022-03-15 15:50:54.681044 finished: adding constant type m style parameters for file(s) ['freyberg6.rch_recharge_18.txt'] took: 0:00:00.017897\n",
      "2022-03-15 15:50:54.681044 starting: adding constant type m style parameters for file(s) ['freyberg6.rch_recharge_18.txt']\n",
      "2022-03-15 15:50:54.681044 starting: loading array freyberg6_template\\freyberg6.rch_recharge_18.txt\n",
      "2022-03-15 15:50:54.683145 finished: loading array freyberg6_template\\freyberg6.rch_recharge_18.txt took: 0:00:00.002101\n",
      "2022-03-15 15:50:54.683145 loaded array 'freyberg_mf6\\freyberg6.rch_recharge_18.txt' of shape (40, 20)\n",
      "2022-03-15 15:50:54.685033 starting: writing array-style template file 'freyberg6_template\\rch_recharge_18_tcn_inst0_constant.csv.tpl'\n",
      "2022-03-15 15:50:54.685033 starting: writing template file freyberg6_template\\rch_recharge_18_tcn_inst0_constant.csv.tpl for ['rch_recharge_18_tcn_inst:0']\n",
      "2022-03-15 15:50:54.692016 finished: writing template file freyberg6_template\\rch_recharge_18_tcn_inst0_constant.csv.tpl for ['rch_recharge_18_tcn_inst:0'] took: 0:00:00.006983\n",
      "2022-03-15 15:50:54.693013 starting: writing array-based template file 'freyberg6_template\\rch_recharge_18_tcn_inst0_constant.csv.tpl'\n",
      "2022-03-15 15:50:54.693013 saving zone array freyberg6_template\\rch_recharge_18_tcn_inst0_constant.csv.zone for tpl file freyberg6_template\\rch_recharge_18_tcn_inst0_constant.csv.tpl\n",
      "2022-03-15 15:50:54.701042 finished: adding constant type m style parameters for file(s) ['freyberg6.rch_recharge_18.txt'] took: 0:00:00.019998\n",
      "2022-03-15 15:50:54.701042 starting: adding grid type m style parameters for file(s) ['freyberg6.rch_recharge_19.txt']\n",
      "2022-03-15 15:50:54.701042 starting: loading array freyberg6_template\\freyberg6.rch_recharge_19.txt\n",
      "2022-03-15 15:50:54.706974 finished: loading array freyberg6_template\\freyberg6.rch_recharge_19.txt took: 0:00:00.005932\n",
      "2022-03-15 15:50:54.707972 loaded array 'freyberg_mf6\\freyberg6.rch_recharge_19.txt' of shape (40, 20)\n",
      "2022-03-15 15:50:54.710026 starting: writing array-style template file 'freyberg6_template\\rch_recharge_19_gr_inst0_grid.csv.tpl'\n",
      "2022-03-15 15:50:54.710026 starting: writing template file freyberg6_template\\rch_recharge_19_gr_inst0_grid.csv.tpl for ['rch_recharge_19_gr_inst:0']\n",
      "2022-03-15 15:50:54.725679 finished: writing template file freyberg6_template\\rch_recharge_19_gr_inst0_grid.csv.tpl for ['rch_recharge_19_gr_inst:0'] took: 0:00:00.015653\n",
      "2022-03-15 15:50:54.726715 starting: writing array-based template file 'freyberg6_template\\rch_recharge_19_gr_inst0_grid.csv.tpl'\n",
      "2022-03-15 15:50:54.726715 saving zone array freyberg6_template\\rch_recharge_19_gr_inst0_grid.csv.zone for tpl file freyberg6_template\\rch_recharge_19_gr_inst0_grid.csv.tpl\n",
      "2022-03-15 15:50:54.740679 finished: adding grid type m style parameters for file(s) ['freyberg6.rch_recharge_19.txt'] took: 0:00:00.039637\n",
      "2022-03-15 15:50:54.740679 starting: adding pilotpoints type m style parameters for file(s) ['freyberg6.rch_recharge_19.txt']\n",
      "2022-03-15 15:50:54.740679 starting: loading array freyberg6_template\\freyberg6.rch_recharge_19.txt\n",
      "2022-03-15 15:50:54.742662 finished: loading array freyberg6_template\\freyberg6.rch_recharge_19.txt took: 0:00:00.001983\n",
      "2022-03-15 15:50:54.742662 loaded array 'freyberg_mf6\\freyberg6.rch_recharge_19.txt' of shape (40, 20)\n",
      "2022-03-15 15:50:54.744671 starting: writing array-style template file 'freyberg6_template\\rch_recharge_19_pp_inst0_pilotpoints.csv.tpl'\n",
      "2022-03-15 15:50:54.744671 starting: setting up pilot point parameters\n",
      "2022-03-15 15:50:54.744671 No spatial reference (containing cell spacing) passed.\n"
     ]
    },
    {
     "name": "stdout",
     "output_type": "stream",
     "text": [
      "2022-03-15 15:50:54.745656 OK - using spatial reference in parent object.\n",
      "2022-03-15 15:50:54.824407 32 pilot point parameters created\n",
      "2022-03-15 15:50:54.824407 pilot point 'pargp':rch_recharge_19_pp\n",
      "2022-03-15 15:50:54.824407 finished: setting up pilot point parameters took: 0:00:00.079736\n",
      "2022-03-15 15:50:54.830390 starting: writing array-based template file 'freyberg6_template\\rch_recharge_19_pp_inst0pp.dat.tpl'\n",
      "2022-03-15 15:50:54.831424 saving zone array freyberg6_template\\rch_recharge_19_pp_inst0pp.dat.zone for tpl file freyberg6_template\\rch_recharge_19_pp_inst0pp.dat.tpl\n",
      "2022-03-15 15:50:54.836416 finished: adding pilotpoints type m style parameters for file(s) ['freyberg6.rch_recharge_19.txt'] took: 0:00:00.095737\n",
      "2022-03-15 15:50:54.836416 starting: adding constant type m style parameters for file(s) ['freyberg6.rch_recharge_19.txt']\n",
      "2022-03-15 15:50:54.836416 starting: loading array freyberg6_template\\freyberg6.rch_recharge_19.txt\n",
      "2022-03-15 15:50:54.838406 finished: loading array freyberg6_template\\freyberg6.rch_recharge_19.txt took: 0:00:00.001990\n",
      "2022-03-15 15:50:54.838406 loaded array 'freyberg_mf6\\freyberg6.rch_recharge_19.txt' of shape (40, 20)\n",
      "2022-03-15 15:50:54.840384 starting: writing array-style template file 'freyberg6_template\\rch_recharge_19_cn_inst0_constant.csv.tpl'\n",
      "2022-03-15 15:50:54.840384 starting: writing template file freyberg6_template\\rch_recharge_19_cn_inst0_constant.csv.tpl for ['rch_recharge_19_cn_inst:0']\n",
      "2022-03-15 15:50:54.847345 finished: writing template file freyberg6_template\\rch_recharge_19_cn_inst0_constant.csv.tpl for ['rch_recharge_19_cn_inst:0'] took: 0:00:00.006961\n",
      "2022-03-15 15:50:54.847345 starting: writing array-based template file 'freyberg6_template\\rch_recharge_19_cn_inst0_constant.csv.tpl'\n",
      "2022-03-15 15:50:54.847345 saving zone array freyberg6_template\\rch_recharge_19_cn_inst0_constant.csv.zone for tpl file freyberg6_template\\rch_recharge_19_cn_inst0_constant.csv.tpl\n",
      "2022-03-15 15:50:54.854360 finished: adding constant type m style parameters for file(s) ['freyberg6.rch_recharge_19.txt'] took: 0:00:00.017944\n",
      "2022-03-15 15:50:54.854360 starting: adding constant type m style parameters for file(s) ['freyberg6.rch_recharge_19.txt']\n",
      "2022-03-15 15:50:54.854360 starting: loading array freyberg6_template\\freyberg6.rch_recharge_19.txt\n"
     ]
    },
    {
     "name": "stdout",
     "output_type": "stream",
     "text": [
      "2022-03-15 15:50:54.855326 finished: loading array freyberg6_template\\freyberg6.rch_recharge_19.txt took: 0:00:00.000966\n",
      "2022-03-15 15:50:54.855326 loaded array 'freyberg_mf6\\freyberg6.rch_recharge_19.txt' of shape (40, 20)\n",
      "2022-03-15 15:50:54.858317 starting: writing array-style template file 'freyberg6_template\\rch_recharge_19_tcn_inst0_constant.csv.tpl'\n",
      "2022-03-15 15:50:54.858317 starting: writing template file freyberg6_template\\rch_recharge_19_tcn_inst0_constant.csv.tpl for ['rch_recharge_19_tcn_inst:0']\n",
      "2022-03-15 15:50:54.865299 finished: writing template file freyberg6_template\\rch_recharge_19_tcn_inst0_constant.csv.tpl for ['rch_recharge_19_tcn_inst:0'] took: 0:00:00.006982\n",
      "2022-03-15 15:50:54.865299 starting: writing array-based template file 'freyberg6_template\\rch_recharge_19_tcn_inst0_constant.csv.tpl'\n",
      "2022-03-15 15:50:54.866489 saving zone array freyberg6_template\\rch_recharge_19_tcn_inst0_constant.csv.zone for tpl file freyberg6_template\\rch_recharge_19_tcn_inst0_constant.csv.tpl\n",
      "2022-03-15 15:50:54.873276 finished: adding constant type m style parameters for file(s) ['freyberg6.rch_recharge_19.txt'] took: 0:00:00.018916\n",
      "2022-03-15 15:50:54.874273 starting: adding grid type m style parameters for file(s) ['freyberg6.rch_recharge_2.txt']\n",
      "2022-03-15 15:50:54.874273 starting: loading array freyberg6_template\\freyberg6.rch_recharge_2.txt\n",
      "2022-03-15 15:50:54.880310 finished: loading array freyberg6_template\\freyberg6.rch_recharge_2.txt took: 0:00:00.006037\n",
      "2022-03-15 15:50:54.880310 loaded array 'freyberg_mf6\\freyberg6.rch_recharge_2.txt' of shape (40, 20)\n",
      "2022-03-15 15:50:54.882303 starting: writing array-style template file 'freyberg6_template\\rch_recharge_2_gr_inst0_grid.csv.tpl'\n",
      "2022-03-15 15:50:54.882303 starting: writing template file freyberg6_template\\rch_recharge_2_gr_inst0_grid.csv.tpl for ['rch_recharge_2_gr_inst:0']\n",
      "2022-03-15 15:50:54.894882 finished: writing template file freyberg6_template\\rch_recharge_2_gr_inst0_grid.csv.tpl for ['rch_recharge_2_gr_inst:0'] took: 0:00:00.012579\n",
      "2022-03-15 15:50:54.894882 starting: writing array-based template file 'freyberg6_template\\rch_recharge_2_gr_inst0_grid.csv.tpl'\n",
      "2022-03-15 15:50:54.894882 saving zone array freyberg6_template\\rch_recharge_2_gr_inst0_grid.csv.zone for tpl file freyberg6_template\\rch_recharge_2_gr_inst0_grid.csv.tpl\n",
      "2022-03-15 15:50:54.902913 finished: adding grid type m style parameters for file(s) ['freyberg6.rch_recharge_2.txt'] took: 0:00:00.028640\n",
      "2022-03-15 15:50:54.902913 starting: adding pilotpoints type m style parameters for file(s) ['freyberg6.rch_recharge_2.txt']\n",
      "2022-03-15 15:50:54.902913 starting: loading array freyberg6_template\\freyberg6.rch_recharge_2.txt\n",
      "2022-03-15 15:50:54.903892 finished: loading array freyberg6_template\\freyberg6.rch_recharge_2.txt took: 0:00:00.000979\n",
      "2022-03-15 15:50:54.903892 loaded array 'freyberg_mf6\\freyberg6.rch_recharge_2.txt' of shape (40, 20)\n",
      "2022-03-15 15:50:54.905890 starting: writing array-style template file 'freyberg6_template\\rch_recharge_2_pp_inst0_pilotpoints.csv.tpl'\n",
      "2022-03-15 15:50:54.905890 starting: setting up pilot point parameters\n",
      "2022-03-15 15:50:54.905890 No spatial reference (containing cell spacing) passed.\n",
      "2022-03-15 15:50:54.905890 OK - using spatial reference in parent object.\n",
      "2022-03-15 15:50:54.992233 32 pilot point parameters created\n",
      "2022-03-15 15:50:54.992233 pilot point 'pargp':rch_recharge_2_pp\n"
     ]
    },
    {
     "name": "stdout",
     "output_type": "stream",
     "text": [
      "2022-03-15 15:50:54.992233 finished: setting up pilot point parameters took: 0:00:00.086343\n",
      "2022-03-15 15:50:54.999247 starting: writing array-based template file 'freyberg6_template\\rch_recharge_2_pp_inst0pp.dat.tpl'\n",
      "2022-03-15 15:50:54.999247 saving zone array freyberg6_template\\rch_recharge_2_pp_inst0pp.dat.zone for tpl file freyberg6_template\\rch_recharge_2_pp_inst0pp.dat.tpl\n",
      "2022-03-15 15:50:55.005197 finished: adding pilotpoints type m style parameters for file(s) ['freyberg6.rch_recharge_2.txt'] took: 0:00:00.102284\n",
      "2022-03-15 15:50:55.005197 starting: adding constant type m style parameters for file(s) ['freyberg6.rch_recharge_2.txt']\n",
      "2022-03-15 15:50:55.005197 starting: loading array freyberg6_template\\freyberg6.rch_recharge_2.txt\n",
      "2022-03-15 15:50:55.006246 finished: loading array freyberg6_template\\freyberg6.rch_recharge_2.txt took: 0:00:00.001049\n",
      "2022-03-15 15:50:55.006246 loaded array 'freyberg_mf6\\freyberg6.rch_recharge_2.txt' of shape (40, 20)\n",
      "2022-03-15 15:50:55.008190 starting: writing array-style template file 'freyberg6_template\\rch_recharge_2_cn_inst0_constant.csv.tpl'\n",
      "2022-03-15 15:50:55.008190 starting: writing template file freyberg6_template\\rch_recharge_2_cn_inst0_constant.csv.tpl for ['rch_recharge_2_cn_inst:0']\n",
      "2022-03-15 15:50:55.015170 finished: writing template file freyberg6_template\\rch_recharge_2_cn_inst0_constant.csv.tpl for ['rch_recharge_2_cn_inst:0'] took: 0:00:00.006980\n",
      "2022-03-15 15:50:55.015170 starting: writing array-based template file 'freyberg6_template\\rch_recharge_2_cn_inst0_constant.csv.tpl'\n",
      "2022-03-15 15:50:55.016486 saving zone array freyberg6_template\\rch_recharge_2_cn_inst0_constant.csv.zone for tpl file freyberg6_template\\rch_recharge_2_cn_inst0_constant.csv.tpl\n",
      "2022-03-15 15:50:55.022203 finished: adding constant type m style parameters for file(s) ['freyberg6.rch_recharge_2.txt'] took: 0:00:00.017006\n",
      "2022-03-15 15:50:55.022203 starting: adding constant type m style parameters for file(s) ['freyberg6.rch_recharge_2.txt']\n",
      "2022-03-15 15:50:55.022203 starting: loading array freyberg6_template\\freyberg6.rch_recharge_2.txt\n",
      "2022-03-15 15:50:55.024198 finished: loading array freyberg6_template\\freyberg6.rch_recharge_2.txt took: 0:00:00.001995\n",
      "2022-03-15 15:50:55.024198 loaded array 'freyberg_mf6\\freyberg6.rch_recharge_2.txt' of shape (40, 20)\n",
      "2022-03-15 15:50:55.026142 starting: writing array-style template file 'freyberg6_template\\rch_recharge_2_tcn_inst0_constant.csv.tpl'\n",
      "2022-03-15 15:50:55.026142 starting: writing template file freyberg6_template\\rch_recharge_2_tcn_inst0_constant.csv.tpl for ['rch_recharge_2_tcn_inst:0']\n",
      "2022-03-15 15:50:55.034154 finished: writing template file freyberg6_template\\rch_recharge_2_tcn_inst0_constant.csv.tpl for ['rch_recharge_2_tcn_inst:0'] took: 0:00:00.008012\n",
      "2022-03-15 15:50:55.034154 starting: writing array-based template file 'freyberg6_template\\rch_recharge_2_tcn_inst0_constant.csv.tpl'\n",
      "2022-03-15 15:50:55.034154 saving zone array freyberg6_template\\rch_recharge_2_tcn_inst0_constant.csv.zone for tpl file freyberg6_template\\rch_recharge_2_tcn_inst0_constant.csv.tpl\n",
      "2022-03-15 15:50:55.041136 finished: adding constant type m style parameters for file(s) ['freyberg6.rch_recharge_2.txt'] took: 0:00:00.018933\n"
     ]
    },
    {
     "name": "stdout",
     "output_type": "stream",
     "text": [
      "2022-03-15 15:50:55.042157 starting: adding grid type m style parameters for file(s) ['freyberg6.rch_recharge_20.txt']\n",
      "2022-03-15 15:50:55.042157 starting: loading array freyberg6_template\\freyberg6.rch_recharge_20.txt\n",
      "2022-03-15 15:50:55.048134 finished: loading array freyberg6_template\\freyberg6.rch_recharge_20.txt took: 0:00:00.005977\n",
      "2022-03-15 15:50:55.048134 loaded array 'freyberg_mf6\\freyberg6.rch_recharge_20.txt' of shape (40, 20)\n",
      "2022-03-15 15:50:55.051126 starting: writing array-style template file 'freyberg6_template\\rch_recharge_20_gr_inst0_grid.csv.tpl'\n",
      "2022-03-15 15:50:55.051126 starting: writing template file freyberg6_template\\rch_recharge_20_gr_inst0_grid.csv.tpl for ['rch_recharge_20_gr_inst:0']\n",
      "2022-03-15 15:50:55.063094 finished: writing template file freyberg6_template\\rch_recharge_20_gr_inst0_grid.csv.tpl for ['rch_recharge_20_gr_inst:0'] took: 0:00:00.011968\n",
      "2022-03-15 15:50:55.063094 starting: writing array-based template file 'freyberg6_template\\rch_recharge_20_gr_inst0_grid.csv.tpl'\n",
      "2022-03-15 15:50:55.063094 saving zone array freyberg6_template\\rch_recharge_20_gr_inst0_grid.csv.zone for tpl file freyberg6_template\\rch_recharge_20_gr_inst0_grid.csv.tpl\n",
      "2022-03-15 15:50:55.071021 finished: adding grid type m style parameters for file(s) ['freyberg6.rch_recharge_20.txt'] took: 0:00:00.028864\n",
      "2022-03-15 15:50:55.071021 starting: adding pilotpoints type m style parameters for file(s) ['freyberg6.rch_recharge_20.txt']\n",
      "2022-03-15 15:50:55.071021 starting: loading array freyberg6_template\\freyberg6.rch_recharge_20.txt\n",
      "2022-03-15 15:50:55.072070 finished: loading array freyberg6_template\\freyberg6.rch_recharge_20.txt took: 0:00:00.001049\n",
      "2022-03-15 15:50:55.072070 loaded array 'freyberg_mf6\\freyberg6.rch_recharge_20.txt' of shape (40, 20)\n",
      "2022-03-15 15:50:55.074065 starting: writing array-style template file 'freyberg6_template\\rch_recharge_20_pp_inst0_pilotpoints.csv.tpl'\n",
      "2022-03-15 15:50:55.074065 starting: setting up pilot point parameters\n",
      "2022-03-15 15:50:55.074065 No spatial reference (containing cell spacing) passed.\n",
      "2022-03-15 15:50:55.074065 OK - using spatial reference in parent object.\n",
      "2022-03-15 15:50:55.161183 32 pilot point parameters created\n",
      "2022-03-15 15:50:55.161183 pilot point 'pargp':rch_recharge_20_pp\n",
      "2022-03-15 15:50:55.161183 finished: setting up pilot point parameters took: 0:00:00.087118\n",
      "2022-03-15 15:50:55.168216 starting: writing array-based template file 'freyberg6_template\\rch_recharge_20_pp_inst0pp.dat.tpl'\n",
      "2022-03-15 15:50:55.168216 saving zone array freyberg6_template\\rch_recharge_20_pp_inst0pp.dat.zone for tpl file freyberg6_template\\rch_recharge_20_pp_inst0pp.dat.tpl\n",
      "2022-03-15 15:50:55.173203 finished: adding pilotpoints type m style parameters for file(s) ['freyberg6.rch_recharge_20.txt'] took: 0:00:00.102182\n",
      "2022-03-15 15:50:55.173203 starting: adding constant type m style parameters for file(s) ['freyberg6.rch_recharge_20.txt']\n",
      "2022-03-15 15:50:55.174197 starting: loading array freyberg6_template\\freyberg6.rch_recharge_20.txt\n",
      "2022-03-15 15:50:55.175146 finished: loading array freyberg6_template\\freyberg6.rch_recharge_20.txt took: 0:00:00.000949\n",
      "2022-03-15 15:50:55.175146 loaded array 'freyberg_mf6\\freyberg6.rch_recharge_20.txt' of shape (40, 20)\n",
      "2022-03-15 15:50:55.177140 starting: writing array-style template file 'freyberg6_template\\rch_recharge_20_cn_inst0_constant.csv.tpl'\n",
      "2022-03-15 15:50:55.177140 starting: writing template file freyberg6_template\\rch_recharge_20_cn_inst0_constant.csv.tpl for ['rch_recharge_20_cn_inst:0']\n",
      "2022-03-15 15:50:55.185119 finished: writing template file freyberg6_template\\rch_recharge_20_cn_inst0_constant.csv.tpl for ['rch_recharge_20_cn_inst:0'] took: 0:00:00.007979\n",
      "2022-03-15 15:50:55.185119 starting: writing array-based template file 'freyberg6_template\\rch_recharge_20_cn_inst0_constant.csv.tpl'\n"
     ]
    },
    {
     "name": "stdout",
     "output_type": "stream",
     "text": [
      "2022-03-15 15:50:55.185664 saving zone array freyberg6_template\\rch_recharge_20_cn_inst0_constant.csv.zone for tpl file freyberg6_template\\rch_recharge_20_cn_inst0_constant.csv.tpl\n",
      "2022-03-15 15:50:55.191643 finished: adding constant type m style parameters for file(s) ['freyberg6.rch_recharge_20.txt'] took: 0:00:00.018440\n",
      "2022-03-15 15:50:55.191643 starting: adding constant type m style parameters for file(s) ['freyberg6.rch_recharge_20.txt']\n",
      "2022-03-15 15:50:55.191643 starting: loading array freyberg6_template\\freyberg6.rch_recharge_20.txt\n",
      "2022-03-15 15:50:55.193639 finished: loading array freyberg6_template\\freyberg6.rch_recharge_20.txt took: 0:00:00.001996\n",
      "2022-03-15 15:50:55.193639 loaded array 'freyberg_mf6\\freyberg6.rch_recharge_20.txt' of shape (40, 20)\n",
      "2022-03-15 15:50:55.195667 starting: writing array-style template file 'freyberg6_template\\rch_recharge_20_tcn_inst0_constant.csv.tpl'\n",
      "2022-03-15 15:50:55.195667 starting: writing template file freyberg6_template\\rch_recharge_20_tcn_inst0_constant.csv.tpl for ['rch_recharge_20_tcn_inst:0']\n",
      "2022-03-15 15:50:55.202615 finished: writing template file freyberg6_template\\rch_recharge_20_tcn_inst0_constant.csv.tpl for ['rch_recharge_20_tcn_inst:0'] took: 0:00:00.006948\n",
      "2022-03-15 15:50:55.202615 starting: writing array-based template file 'freyberg6_template\\rch_recharge_20_tcn_inst0_constant.csv.tpl'\n",
      "2022-03-15 15:50:55.203649 saving zone array freyberg6_template\\rch_recharge_20_tcn_inst0_constant.csv.zone for tpl file freyberg6_template\\rch_recharge_20_tcn_inst0_constant.csv.tpl\n",
      "2022-03-15 15:50:55.210594 finished: adding constant type m style parameters for file(s) ['freyberg6.rch_recharge_20.txt'] took: 0:00:00.018951\n",
      "2022-03-15 15:50:55.210594 starting: adding grid type m style parameters for file(s) ['freyberg6.rch_recharge_21.txt']\n",
      "2022-03-15 15:50:55.211623 starting: loading array freyberg6_template\\freyberg6.rch_recharge_21.txt\n",
      "2022-03-15 15:50:55.218624 finished: loading array freyberg6_template\\freyberg6.rch_recharge_21.txt took: 0:00:00.007001\n",
      "2022-03-15 15:50:55.218624 loaded array 'freyberg_mf6\\freyberg6.rch_recharge_21.txt' of shape (40, 20)\n",
      "2022-03-15 15:50:55.220619 starting: writing array-style template file 'freyberg6_template\\rch_recharge_21_gr_inst0_grid.csv.tpl'\n",
      "2022-03-15 15:50:55.220619 starting: writing template file freyberg6_template\\rch_recharge_21_gr_inst0_grid.csv.tpl for ['rch_recharge_21_gr_inst:0']\n",
      "2022-03-15 15:50:55.233601 finished: writing template file freyberg6_template\\rch_recharge_21_gr_inst0_grid.csv.tpl for ['rch_recharge_21_gr_inst:0'] took: 0:00:00.012982\n",
      "2022-03-15 15:50:55.233601 starting: writing array-based template file 'freyberg6_template\\rch_recharge_21_gr_inst0_grid.csv.tpl'\n"
     ]
    },
    {
     "name": "stdout",
     "output_type": "stream",
     "text": [
      "2022-03-15 15:50:55.234601 saving zone array freyberg6_template\\rch_recharge_21_gr_inst0_grid.csv.zone for tpl file freyberg6_template\\rch_recharge_21_gr_inst0_grid.csv.tpl\n",
      "2022-03-15 15:50:55.241636 finished: adding grid type m style parameters for file(s) ['freyberg6.rch_recharge_21.txt'] took: 0:00:00.031042\n",
      "2022-03-15 15:50:55.241636 starting: adding pilotpoints type m style parameters for file(s) ['freyberg6.rch_recharge_21.txt']\n",
      "2022-03-15 15:50:55.241636 starting: loading array freyberg6_template\\freyberg6.rch_recharge_21.txt\n",
      "2022-03-15 15:50:55.243632 finished: loading array freyberg6_template\\freyberg6.rch_recharge_21.txt took: 0:00:00.001996\n",
      "2022-03-15 15:50:55.243632 loaded array 'freyberg_mf6\\freyberg6.rch_recharge_21.txt' of shape (40, 20)\n",
      "2022-03-15 15:50:55.245572 starting: writing array-style template file 'freyberg6_template\\rch_recharge_21_pp_inst0_pilotpoints.csv.tpl'\n",
      "2022-03-15 15:50:55.245572 starting: setting up pilot point parameters\n",
      "2022-03-15 15:50:55.245572 No spatial reference (containing cell spacing) passed.\n",
      "2022-03-15 15:50:55.245572 OK - using spatial reference in parent object.\n",
      "2022-03-15 15:50:55.323364 32 pilot point parameters created\n",
      "2022-03-15 15:50:55.323364 pilot point 'pargp':rch_recharge_21_pp\n",
      "2022-03-15 15:50:55.324361 finished: setting up pilot point parameters took: 0:00:00.078789\n",
      "2022-03-15 15:50:55.330358 starting: writing array-based template file 'freyberg6_template\\rch_recharge_21_pp_inst0pp.dat.tpl'\n",
      "2022-03-15 15:50:55.330358 saving zone array freyberg6_template\\rch_recharge_21_pp_inst0pp.dat.zone for tpl file freyberg6_template\\rch_recharge_21_pp_inst0pp.dat.tpl\n",
      "2022-03-15 15:50:55.336380 finished: adding pilotpoints type m style parameters for file(s) ['freyberg6.rch_recharge_21.txt'] took: 0:00:00.094744\n",
      "2022-03-15 15:50:55.336380 starting: adding constant type m style parameters for file(s) ['freyberg6.rch_recharge_21.txt']\n",
      "2022-03-15 15:50:55.336380 starting: loading array freyberg6_template\\freyberg6.rch_recharge_21.txt\n",
      "2022-03-15 15:50:55.337379 finished: loading array freyberg6_template\\freyberg6.rch_recharge_21.txt took: 0:00:00.000999\n",
      "2022-03-15 15:50:55.337379 loaded array 'freyberg_mf6\\freyberg6.rch_recharge_21.txt' of shape (40, 20)\n",
      "2022-03-15 15:50:55.339376 starting: writing array-style template file 'freyberg6_template\\rch_recharge_21_cn_inst0_constant.csv.tpl'\n",
      "2022-03-15 15:50:55.339376 starting: writing template file freyberg6_template\\rch_recharge_21_cn_inst0_constant.csv.tpl for ['rch_recharge_21_cn_inst:0']\n",
      "2022-03-15 15:50:55.347354 finished: writing template file freyberg6_template\\rch_recharge_21_cn_inst0_constant.csv.tpl for ['rch_recharge_21_cn_inst:0'] took: 0:00:00.007978\n",
      "2022-03-15 15:50:55.347354 starting: writing array-based template file 'freyberg6_template\\rch_recharge_21_cn_inst0_constant.csv.tpl'\n",
      "2022-03-15 15:50:55.347354 saving zone array freyberg6_template\\rch_recharge_21_cn_inst0_constant.csv.zone for tpl file freyberg6_template\\rch_recharge_21_cn_inst0_constant.csv.tpl\n",
      "2022-03-15 15:50:55.353283 finished: adding constant type m style parameters for file(s) ['freyberg6.rch_recharge_21.txt'] took: 0:00:00.016903\n",
      "2022-03-15 15:50:55.353283 starting: adding constant type m style parameters for file(s) ['freyberg6.rch_recharge_21.txt']\n",
      "2022-03-15 15:50:55.354281 starting: loading array freyberg6_template\\freyberg6.rch_recharge_21.txt\n",
      "2022-03-15 15:50:55.355278 finished: loading array freyberg6_template\\freyberg6.rch_recharge_21.txt took: 0:00:00.000997\n",
      "2022-03-15 15:50:55.355278 loaded array 'freyberg_mf6\\freyberg6.rch_recharge_21.txt' of shape (40, 20)\n",
      "2022-03-15 15:50:55.357324 starting: writing array-style template file 'freyberg6_template\\rch_recharge_21_tcn_inst0_constant.csv.tpl'\n",
      "2022-03-15 15:50:55.357324 starting: writing template file freyberg6_template\\rch_recharge_21_tcn_inst0_constant.csv.tpl for ['rch_recharge_21_tcn_inst:0']\n",
      "2022-03-15 15:50:55.364254 finished: writing template file freyberg6_template\\rch_recharge_21_tcn_inst0_constant.csv.tpl for ['rch_recharge_21_tcn_inst:0'] took: 0:00:00.006930\n",
      "2022-03-15 15:50:55.364254 starting: writing array-based template file 'freyberg6_template\\rch_recharge_21_tcn_inst0_constant.csv.tpl'\n",
      "2022-03-15 15:50:55.365252 saving zone array freyberg6_template\\rch_recharge_21_tcn_inst0_constant.csv.zone for tpl file freyberg6_template\\rch_recharge_21_tcn_inst0_constant.csv.tpl\n",
      "2022-03-15 15:50:55.373269 finished: adding constant type m style parameters for file(s) ['freyberg6.rch_recharge_21.txt'] took: 0:00:00.019986\n",
      "2022-03-15 15:50:55.373269 starting: adding grid type m style parameters for file(s) ['freyberg6.rch_recharge_22.txt']\n",
      "2022-03-15 15:50:55.373269 starting: loading array freyberg6_template\\freyberg6.rch_recharge_22.txt\n"
     ]
    },
    {
     "name": "stdout",
     "output_type": "stream",
     "text": [
      "2022-03-15 15:50:55.380267 finished: loading array freyberg6_template\\freyberg6.rch_recharge_22.txt took: 0:00:00.006998\n",
      "2022-03-15 15:50:55.380267 loaded array 'freyberg_mf6\\freyberg6.rch_recharge_22.txt' of shape (40, 20)\n",
      "2022-03-15 15:50:55.382259 starting: writing array-style template file 'freyberg6_template\\rch_recharge_22_gr_inst0_grid.csv.tpl'\n",
      "2022-03-15 15:50:55.382259 starting: writing template file freyberg6_template\\rch_recharge_22_gr_inst0_grid.csv.tpl for ['rch_recharge_22_gr_inst:0']\n",
      "2022-03-15 15:50:55.395171 finished: writing template file freyberg6_template\\rch_recharge_22_gr_inst0_grid.csv.tpl for ['rch_recharge_22_gr_inst:0'] took: 0:00:00.012912\n",
      "2022-03-15 15:50:55.395171 starting: writing array-based template file 'freyberg6_template\\rch_recharge_22_gr_inst0_grid.csv.tpl'\n",
      "2022-03-15 15:50:55.395171 saving zone array freyberg6_template\\rch_recharge_22_gr_inst0_grid.csv.zone for tpl file freyberg6_template\\rch_recharge_22_gr_inst0_grid.csv.tpl\n",
      "2022-03-15 15:50:55.402207 finished: adding grid type m style parameters for file(s) ['freyberg6.rch_recharge_22.txt'] took: 0:00:00.028938\n",
      "2022-03-15 15:50:55.402207 starting: adding pilotpoints type m style parameters for file(s) ['freyberg6.rch_recharge_22.txt']\n",
      "2022-03-15 15:50:55.403206 starting: loading array freyberg6_template\\freyberg6.rch_recharge_22.txt\n",
      "2022-03-15 15:50:55.404205 finished: loading array freyberg6_template\\freyberg6.rch_recharge_22.txt took: 0:00:00.000999\n",
      "2022-03-15 15:50:55.404205 loaded array 'freyberg_mf6\\freyberg6.rch_recharge_22.txt' of shape (40, 20)\n",
      "2022-03-15 15:50:55.406180 starting: writing array-style template file 'freyberg6_template\\rch_recharge_22_pp_inst0_pilotpoints.csv.tpl'\n",
      "2022-03-15 15:50:55.406180 starting: setting up pilot point parameters\n",
      "2022-03-15 15:50:55.406180 No spatial reference (containing cell spacing) passed.\n",
      "2022-03-15 15:50:55.406180 OK - using spatial reference in parent object.\n"
     ]
    },
    {
     "name": "stdout",
     "output_type": "stream",
     "text": [
      "2022-03-15 15:50:55.493907 32 pilot point parameters created\n",
      "2022-03-15 15:50:55.493907 pilot point 'pargp':rch_recharge_22_pp\n",
      "2022-03-15 15:50:55.493907 finished: setting up pilot point parameters took: 0:00:00.087727\n",
      "2022-03-15 15:50:55.500888 starting: writing array-based template file 'freyberg6_template\\rch_recharge_22_pp_inst0pp.dat.tpl'\n",
      "2022-03-15 15:50:55.500888 saving zone array freyberg6_template\\rch_recharge_22_pp_inst0pp.dat.zone for tpl file freyberg6_template\\rch_recharge_22_pp_inst0pp.dat.tpl\n",
      "2022-03-15 15:50:55.505912 finished: adding pilotpoints type m style parameters for file(s) ['freyberg6.rch_recharge_22.txt'] took: 0:00:00.103705\n",
      "2022-03-15 15:50:55.505912 starting: adding constant type m style parameters for file(s) ['freyberg6.rch_recharge_22.txt']\n",
      "2022-03-15 15:50:55.505912 starting: loading array freyberg6_template\\freyberg6.rch_recharge_22.txt\n",
      "2022-03-15 15:50:55.507904 finished: loading array freyberg6_template\\freyberg6.rch_recharge_22.txt took: 0:00:00.001992\n",
      "2022-03-15 15:50:55.507904 loaded array 'freyberg_mf6\\freyberg6.rch_recharge_22.txt' of shape (40, 20)\n",
      "2022-03-15 15:50:55.509865 starting: writing array-style template file 'freyberg6_template\\rch_recharge_22_cn_inst0_constant.csv.tpl'\n",
      "2022-03-15 15:50:55.509865 starting: writing template file freyberg6_template\\rch_recharge_22_cn_inst0_constant.csv.tpl for ['rch_recharge_22_cn_inst:0']\n",
      "2022-03-15 15:50:55.516880 finished: writing template file freyberg6_template\\rch_recharge_22_cn_inst0_constant.csv.tpl for ['rch_recharge_22_cn_inst:0'] took: 0:00:00.007015\n",
      "2022-03-15 15:50:55.517844 starting: writing array-based template file 'freyberg6_template\\rch_recharge_22_cn_inst0_constant.csv.tpl'\n",
      "2022-03-15 15:50:55.517844 saving zone array freyberg6_template\\rch_recharge_22_cn_inst0_constant.csv.zone for tpl file freyberg6_template\\rch_recharge_22_cn_inst0_constant.csv.tpl\n",
      "2022-03-15 15:50:55.523862 finished: adding constant type m style parameters for file(s) ['freyberg6.rch_recharge_22.txt'] took: 0:00:00.017950\n",
      "2022-03-15 15:50:55.523862 starting: adding constant type m style parameters for file(s) ['freyberg6.rch_recharge_22.txt']\n",
      "2022-03-15 15:50:55.523862 starting: loading array freyberg6_template\\freyberg6.rch_recharge_22.txt\n",
      "2022-03-15 15:50:55.524824 finished: loading array freyberg6_template\\freyberg6.rch_recharge_22.txt took: 0:00:00.000962\n",
      "2022-03-15 15:50:55.524824 loaded array 'freyberg_mf6\\freyberg6.rch_recharge_22.txt' of shape (40, 20)\n",
      "2022-03-15 15:50:55.526854 starting: writing array-style template file 'freyberg6_template\\rch_recharge_22_tcn_inst0_constant.csv.tpl'\n",
      "2022-03-15 15:50:55.527817 starting: writing template file freyberg6_template\\rch_recharge_22_tcn_inst0_constant.csv.tpl for ['rch_recharge_22_tcn_inst:0']\n",
      "2022-03-15 15:50:55.534799 finished: writing template file freyberg6_template\\rch_recharge_22_tcn_inst0_constant.csv.tpl for ['rch_recharge_22_tcn_inst:0'] took: 0:00:00.006982\n",
      "2022-03-15 15:50:55.534799 starting: writing array-based template file 'freyberg6_template\\rch_recharge_22_tcn_inst0_constant.csv.tpl'\n",
      "2022-03-15 15:50:55.535829 saving zone array freyberg6_template\\rch_recharge_22_tcn_inst0_constant.csv.zone for tpl file freyberg6_template\\rch_recharge_22_tcn_inst0_constant.csv.tpl\n",
      "2022-03-15 15:50:55.542812 finished: adding constant type m style parameters for file(s) ['freyberg6.rch_recharge_22.txt'] took: 0:00:00.018950\n",
      "2022-03-15 15:50:55.542812 starting: adding grid type m style parameters for file(s) ['freyberg6.rch_recharge_23.txt']\n",
      "2022-03-15 15:50:55.542812 starting: loading array freyberg6_template\\freyberg6.rch_recharge_23.txt\n",
      "2022-03-15 15:50:55.549912 finished: loading array freyberg6_template\\freyberg6.rch_recharge_23.txt took: 0:00:00.007100\n",
      "2022-03-15 15:50:55.549912 loaded array 'freyberg_mf6\\freyberg6.rch_recharge_23.txt' of shape (40, 20)\n",
      "2022-03-15 15:50:55.551804 starting: writing array-style template file 'freyberg6_template\\rch_recharge_23_gr_inst0_grid.csv.tpl'\n",
      "2022-03-15 15:50:55.551804 starting: writing template file freyberg6_template\\rch_recharge_23_gr_inst0_grid.csv.tpl for ['rch_recharge_23_gr_inst:0']\n",
      "2022-03-15 15:50:55.564770 finished: writing template file freyberg6_template\\rch_recharge_23_gr_inst0_grid.csv.tpl for ['rch_recharge_23_gr_inst:0'] took: 0:00:00.012966\n",
      "2022-03-15 15:50:55.564770 starting: writing array-based template file 'freyberg6_template\\rch_recharge_23_gr_inst0_grid.csv.tpl'\n",
      "2022-03-15 15:50:55.564770 saving zone array freyberg6_template\\rch_recharge_23_gr_inst0_grid.csv.zone for tpl file freyberg6_template\\rch_recharge_23_gr_inst0_grid.csv.tpl\n"
     ]
    },
    {
     "name": "stdout",
     "output_type": "stream",
     "text": [
      "2022-03-15 15:50:55.572731 finished: adding grid type m style parameters for file(s) ['freyberg6.rch_recharge_23.txt'] took: 0:00:00.029919\n",
      "2022-03-15 15:50:55.572731 starting: adding pilotpoints type m style parameters for file(s) ['freyberg6.rch_recharge_23.txt']\n",
      "2022-03-15 15:50:55.572731 starting: loading array freyberg6_template\\freyberg6.rch_recharge_23.txt\n",
      "2022-03-15 15:50:55.574729 finished: loading array freyberg6_template\\freyberg6.rch_recharge_23.txt took: 0:00:00.001998\n",
      "2022-03-15 15:50:55.574729 loaded array 'freyberg_mf6\\freyberg6.rch_recharge_23.txt' of shape (40, 20)\n",
      "2022-03-15 15:50:55.576686 starting: writing array-style template file 'freyberg6_template\\rch_recharge_23_pp_inst0_pilotpoints.csv.tpl'\n",
      "2022-03-15 15:50:55.576686 starting: setting up pilot point parameters\n",
      "2022-03-15 15:50:55.576686 No spatial reference (containing cell spacing) passed.\n",
      "2022-03-15 15:50:55.576686 OK - using spatial reference in parent object.\n",
      "2022-03-15 15:50:55.650388 32 pilot point parameters created\n",
      "2022-03-15 15:50:55.651450 pilot point 'pargp':rch_recharge_23_pp\n",
      "2022-03-15 15:50:55.651450 finished: setting up pilot point parameters took: 0:00:00.074764\n",
      "2022-03-15 15:50:55.657422 starting: writing array-based template file 'freyberg6_template\\rch_recharge_23_pp_inst0pp.dat.tpl'\n",
      "2022-03-15 15:50:55.658421 saving zone array freyberg6_template\\rch_recharge_23_pp_inst0pp.dat.zone for tpl file freyberg6_template\\rch_recharge_23_pp_inst0pp.dat.tpl\n",
      "2022-03-15 15:50:55.663405 finished: adding pilotpoints type m style parameters for file(s) ['freyberg6.rch_recharge_23.txt'] took: 0:00:00.090674\n",
      "2022-03-15 15:50:55.663405 starting: adding constant type m style parameters for file(s) ['freyberg6.rch_recharge_23.txt']\n",
      "2022-03-15 15:50:55.663405 starting: loading array freyberg6_template\\freyberg6.rch_recharge_23.txt\n",
      "2022-03-15 15:50:55.665348 finished: loading array freyberg6_template\\freyberg6.rch_recharge_23.txt took: 0:00:00.001943\n",
      "2022-03-15 15:50:55.665348 loaded array 'freyberg_mf6\\freyberg6.rch_recharge_23.txt' of shape (40, 20)\n",
      "2022-03-15 15:50:55.667400 starting: writing array-style template file 'freyberg6_template\\rch_recharge_23_cn_inst0_constant.csv.tpl'\n",
      "2022-03-15 15:50:55.667400 starting: writing template file freyberg6_template\\rch_recharge_23_cn_inst0_constant.csv.tpl for ['rch_recharge_23_cn_inst:0']\n",
      "2022-03-15 15:50:55.674378 finished: writing template file freyberg6_template\\rch_recharge_23_cn_inst0_constant.csv.tpl for ['rch_recharge_23_cn_inst:0'] took: 0:00:00.006978\n",
      "2022-03-15 15:50:55.674378 starting: writing array-based template file 'freyberg6_template\\rch_recharge_23_cn_inst0_constant.csv.tpl'\n",
      "2022-03-15 15:50:55.674378 saving zone array freyberg6_template\\rch_recharge_23_cn_inst0_constant.csv.zone for tpl file freyberg6_template\\rch_recharge_23_cn_inst0_constant.csv.tpl\n",
      "2022-03-15 15:50:55.680307 finished: adding constant type m style parameters for file(s) ['freyberg6.rch_recharge_23.txt'] took: 0:00:00.016902\n"
     ]
    },
    {
     "name": "stdout",
     "output_type": "stream",
     "text": [
      "2022-03-15 15:50:55.681338 starting: adding constant type m style parameters for file(s) ['freyberg6.rch_recharge_23.txt']\n",
      "2022-03-15 15:50:55.681338 starting: loading array freyberg6_template\\freyberg6.rch_recharge_23.txt\n",
      "2022-03-15 15:50:55.683301 finished: loading array freyberg6_template\\freyberg6.rch_recharge_23.txt took: 0:00:00.001963\n",
      "2022-03-15 15:50:55.683301 loaded array 'freyberg_mf6\\freyberg6.rch_recharge_23.txt' of shape (40, 20)\n",
      "2022-03-15 15:50:55.685294 starting: writing array-style template file 'freyberg6_template\\rch_recharge_23_tcn_inst0_constant.csv.tpl'\n",
      "2022-03-15 15:50:55.685294 starting: writing template file freyberg6_template\\rch_recharge_23_tcn_inst0_constant.csv.tpl for ['rch_recharge_23_tcn_inst:0']\n",
      "2022-03-15 15:50:55.692276 finished: writing template file freyberg6_template\\rch_recharge_23_tcn_inst0_constant.csv.tpl for ['rch_recharge_23_tcn_inst:0'] took: 0:00:00.006982\n",
      "2022-03-15 15:50:55.692276 starting: writing array-based template file 'freyberg6_template\\rch_recharge_23_tcn_inst0_constant.csv.tpl'\n",
      "2022-03-15 15:50:55.693275 saving zone array freyberg6_template\\rch_recharge_23_tcn_inst0_constant.csv.zone for tpl file freyberg6_template\\rch_recharge_23_tcn_inst0_constant.csv.tpl\n",
      "2022-03-15 15:50:55.701252 finished: adding constant type m style parameters for file(s) ['freyberg6.rch_recharge_23.txt'] took: 0:00:00.019914\n",
      "2022-03-15 15:50:55.701252 starting: adding grid type m style parameters for file(s) ['freyberg6.rch_recharge_24.txt']\n",
      "2022-03-15 15:50:55.701252 starting: loading array freyberg6_template\\freyberg6.rch_recharge_24.txt\n",
      "2022-03-15 15:50:55.707236 finished: loading array freyberg6_template\\freyberg6.rch_recharge_24.txt took: 0:00:00.005984\n",
      "2022-03-15 15:50:55.708285 loaded array 'freyberg_mf6\\freyberg6.rch_recharge_24.txt' of shape (40, 20)\n",
      "2022-03-15 15:50:55.710280 starting: writing array-style template file 'freyberg6_template\\rch_recharge_24_gr_inst0_grid.csv.tpl'\n",
      "2022-03-15 15:50:55.710280 starting: writing template file freyberg6_template\\rch_recharge_24_gr_inst0_grid.csv.tpl for ['rch_recharge_24_gr_inst:0']\n",
      "2022-03-15 15:50:55.722196 finished: writing template file freyberg6_template\\rch_recharge_24_gr_inst0_grid.csv.tpl for ['rch_recharge_24_gr_inst:0'] took: 0:00:00.011916\n",
      "2022-03-15 15:50:55.722196 starting: writing array-based template file 'freyberg6_template\\rch_recharge_24_gr_inst0_grid.csv.tpl'\n",
      "2022-03-15 15:50:55.723193 saving zone array freyberg6_template\\rch_recharge_24_gr_inst0_grid.csv.zone for tpl file freyberg6_template\\rch_recharge_24_gr_inst0_grid.csv.tpl\n",
      "2022-03-15 15:50:55.730175 finished: adding grid type m style parameters for file(s) ['freyberg6.rch_recharge_24.txt'] took: 0:00:00.028923\n",
      "2022-03-15 15:50:55.730175 starting: adding pilotpoints type m style parameters for file(s) ['freyberg6.rch_recharge_24.txt']\n",
      "2022-03-15 15:50:55.730175 starting: loading array freyberg6_template\\freyberg6.rch_recharge_24.txt\n",
      "2022-03-15 15:50:55.731211 finished: loading array freyberg6_template\\freyberg6.rch_recharge_24.txt took: 0:00:00.001036\n",
      "2022-03-15 15:50:55.731211 loaded array 'freyberg_mf6\\freyberg6.rch_recharge_24.txt' of shape (40, 20)\n",
      "2022-03-15 15:50:55.734216 starting: writing array-style template file 'freyberg6_template\\rch_recharge_24_pp_inst0_pilotpoints.csv.tpl'\n",
      "2022-03-15 15:50:55.734216 starting: setting up pilot point parameters\n",
      "2022-03-15 15:50:55.734216 No spatial reference (containing cell spacing) passed.\n",
      "2022-03-15 15:50:55.734216 OK - using spatial reference in parent object.\n"
     ]
    },
    {
     "name": "stdout",
     "output_type": "stream",
     "text": [
      "2022-03-15 15:50:55.820626 32 pilot point parameters created\n",
      "2022-03-15 15:50:55.821648 pilot point 'pargp':rch_recharge_24_pp\n",
      "2022-03-15 15:50:55.821648 finished: setting up pilot point parameters took: 0:00:00.087432\n",
      "2022-03-15 15:50:55.828637 starting: writing array-based template file 'freyberg6_template\\rch_recharge_24_pp_inst0pp.dat.tpl'\n",
      "2022-03-15 15:50:55.828637 saving zone array freyberg6_template\\rch_recharge_24_pp_inst0pp.dat.zone for tpl file freyberg6_template\\rch_recharge_24_pp_inst0pp.dat.tpl\n",
      "2022-03-15 15:50:55.834630 finished: adding pilotpoints type m style parameters for file(s) ['freyberg6.rch_recharge_24.txt'] took: 0:00:00.104455\n",
      "2022-03-15 15:50:55.834630 starting: adding constant type m style parameters for file(s) ['freyberg6.rch_recharge_24.txt']\n",
      "2022-03-15 15:50:55.834630 starting: loading array freyberg6_template\\freyberg6.rch_recharge_24.txt\n",
      "2022-03-15 15:50:55.835618 finished: loading array freyberg6_template\\freyberg6.rch_recharge_24.txt took: 0:00:00.000988\n",
      "2022-03-15 15:50:55.835618 loaded array 'freyberg_mf6\\freyberg6.rch_recharge_24.txt' of shape (40, 20)\n",
      "2022-03-15 15:50:55.837617 starting: writing array-style template file 'freyberg6_template\\rch_recharge_24_cn_inst0_constant.csv.tpl'\n",
      "2022-03-15 15:50:55.837617 starting: writing template file freyberg6_template\\rch_recharge_24_cn_inst0_constant.csv.tpl for ['rch_recharge_24_cn_inst:0']\n",
      "2022-03-15 15:50:55.844596 finished: writing template file freyberg6_template\\rch_recharge_24_cn_inst0_constant.csv.tpl for ['rch_recharge_24_cn_inst:0'] took: 0:00:00.006979\n",
      "2022-03-15 15:50:55.845606 starting: writing array-based template file 'freyberg6_template\\rch_recharge_24_cn_inst0_constant.csv.tpl'\n",
      "2022-03-15 15:50:55.845606 saving zone array freyberg6_template\\rch_recharge_24_cn_inst0_constant.csv.zone for tpl file freyberg6_template\\rch_recharge_24_cn_inst0_constant.csv.tpl\n",
      "2022-03-15 15:50:55.851576 finished: adding constant type m style parameters for file(s) ['freyberg6.rch_recharge_24.txt'] took: 0:00:00.016946\n",
      "2022-03-15 15:50:55.851576 starting: adding constant type m style parameters for file(s) ['freyberg6.rch_recharge_24.txt']\n",
      "2022-03-15 15:50:55.852574 starting: loading array freyberg6_template\\freyberg6.rch_recharge_24.txt\n",
      "2022-03-15 15:50:55.853571 finished: loading array freyberg6_template\\freyberg6.rch_recharge_24.txt took: 0:00:00.000997\n",
      "2022-03-15 15:50:55.853571 loaded array 'freyberg_mf6\\freyberg6.rch_recharge_24.txt' of shape (40, 20)\n",
      "2022-03-15 15:50:55.855566 starting: writing array-style template file 'freyberg6_template\\rch_recharge_24_tcn_inst0_constant.csv.tpl'\n",
      "2022-03-15 15:50:55.855566 starting: writing template file freyberg6_template\\rch_recharge_24_tcn_inst0_constant.csv.tpl for ['rch_recharge_24_tcn_inst:0']\n",
      "2022-03-15 15:50:55.862549 finished: writing template file freyberg6_template\\rch_recharge_24_tcn_inst0_constant.csv.tpl for ['rch_recharge_24_tcn_inst:0'] took: 0:00:00.006983\n",
      "2022-03-15 15:50:55.863546 starting: writing array-based template file 'freyberg6_template\\rch_recharge_24_tcn_inst0_constant.csv.tpl'\n",
      "2022-03-15 15:50:55.863546 saving zone array freyberg6_template\\rch_recharge_24_tcn_inst0_constant.csv.zone for tpl file freyberg6_template\\rch_recharge_24_tcn_inst0_constant.csv.tpl\n",
      "2022-03-15 15:50:55.871523 finished: adding constant type m style parameters for file(s) ['freyberg6.rch_recharge_24.txt'] took: 0:00:00.019947\n",
      "2022-03-15 15:50:55.871523 starting: adding grid type m style parameters for file(s) ['freyberg6.rch_recharge_25.txt']\n",
      "2022-03-15 15:50:55.871523 starting: loading array freyberg6_template\\freyberg6.rch_recharge_25.txt\n"
     ]
    },
    {
     "name": "stdout",
     "output_type": "stream",
     "text": [
      "2022-03-15 15:50:55.878522 finished: loading array freyberg6_template\\freyberg6.rch_recharge_25.txt took: 0:00:00.006999\n",
      "2022-03-15 15:50:55.878522 loaded array 'freyberg_mf6\\freyberg6.rch_recharge_25.txt' of shape (40, 20)\n",
      "2022-03-15 15:50:55.880517 starting: writing array-style template file 'freyberg6_template\\rch_recharge_25_gr_inst0_grid.csv.tpl'\n",
      "2022-03-15 15:50:55.880517 starting: writing template file freyberg6_template\\rch_recharge_25_gr_inst0_grid.csv.tpl for ['rch_recharge_25_gr_inst:0']\n",
      "2022-03-15 15:50:55.892448 finished: writing template file freyberg6_template\\rch_recharge_25_gr_inst0_grid.csv.tpl for ['rch_recharge_25_gr_inst:0'] took: 0:00:00.011931\n",
      "2022-03-15 15:50:55.893464 starting: writing array-based template file 'freyberg6_template\\rch_recharge_25_gr_inst0_grid.csv.tpl'\n",
      "2022-03-15 15:50:55.893464 saving zone array freyberg6_template\\rch_recharge_25_gr_inst0_grid.csv.zone for tpl file freyberg6_template\\rch_recharge_25_gr_inst0_grid.csv.tpl\n",
      "2022-03-15 15:50:55.901461 finished: adding grid type m style parameters for file(s) ['freyberg6.rch_recharge_25.txt'] took: 0:00:00.029938\n",
      "2022-03-15 15:50:55.901461 starting: adding pilotpoints type m style parameters for file(s) ['freyberg6.rch_recharge_25.txt']\n",
      "2022-03-15 15:50:55.901461 starting: loading array freyberg6_template\\freyberg6.rch_recharge_25.txt\n",
      "2022-03-15 15:50:55.903455 finished: loading array freyberg6_template\\freyberg6.rch_recharge_25.txt took: 0:00:00.001994\n",
      "2022-03-15 15:50:55.903455 loaded array 'freyberg_mf6\\freyberg6.rch_recharge_25.txt' of shape (40, 20)\n",
      "2022-03-15 15:50:55.905399 starting: writing array-style template file 'freyberg6_template\\rch_recharge_25_pp_inst0_pilotpoints.csv.tpl'\n",
      "2022-03-15 15:50:55.905399 starting: setting up pilot point parameters\n",
      "2022-03-15 15:50:55.905399 No spatial reference (containing cell spacing) passed.\n",
      "2022-03-15 15:50:55.905399 OK - using spatial reference in parent object.\n",
      "2022-03-15 15:50:55.981229 32 pilot point parameters created\n",
      "2022-03-15 15:50:55.981229 pilot point 'pargp':rch_recharge_25_pp\n",
      "2022-03-15 15:50:55.982226 finished: setting up pilot point parameters took: 0:00:00.076827\n",
      "2022-03-15 15:50:55.988230 starting: writing array-based template file 'freyberg6_template\\rch_recharge_25_pp_inst0pp.dat.tpl'\n",
      "2022-03-15 15:50:55.989231 saving zone array freyberg6_template\\rch_recharge_25_pp_inst0pp.dat.zone for tpl file freyberg6_template\\rch_recharge_25_pp_inst0pp.dat.tpl\n",
      "2022-03-15 15:50:55.994196 finished: adding pilotpoints type m style parameters for file(s) ['freyberg6.rch_recharge_25.txt'] took: 0:00:00.092735\n",
      "2022-03-15 15:50:55.994196 starting: adding constant type m style parameters for file(s) ['freyberg6.rch_recharge_25.txt']\n",
      "2022-03-15 15:50:55.994196 starting: loading array freyberg6_template\\freyberg6.rch_recharge_25.txt\n",
      "2022-03-15 15:50:55.996190 finished: loading array freyberg6_template\\freyberg6.rch_recharge_25.txt took: 0:00:00.001994\n",
      "2022-03-15 15:50:55.996190 loaded array 'freyberg_mf6\\freyberg6.rch_recharge_25.txt' of shape (40, 20)\n",
      "2022-03-15 15:50:55.998187 starting: writing array-style template file 'freyberg6_template\\rch_recharge_25_cn_inst0_constant.csv.tpl'\n",
      "2022-03-15 15:50:55.998187 starting: writing template file freyberg6_template\\rch_recharge_25_cn_inst0_constant.csv.tpl for ['rch_recharge_25_cn_inst:0']\n",
      "2022-03-15 15:50:56.005131 finished: writing template file freyberg6_template\\rch_recharge_25_cn_inst0_constant.csv.tpl for ['rch_recharge_25_cn_inst:0'] took: 0:00:00.006944\n",
      "2022-03-15 15:50:56.005131 starting: writing array-based template file 'freyberg6_template\\rch_recharge_25_cn_inst0_constant.csv.tpl'\n",
      "2022-03-15 15:50:56.006130 saving zone array freyberg6_template\\rch_recharge_25_cn_inst0_constant.csv.zone for tpl file freyberg6_template\\rch_recharge_25_cn_inst0_constant.csv.tpl\n",
      "2022-03-15 15:50:56.012153 finished: adding constant type m style parameters for file(s) ['freyberg6.rch_recharge_25.txt'] took: 0:00:00.017957\n",
      "2022-03-15 15:50:56.012153 starting: adding constant type m style parameters for file(s) ['freyberg6.rch_recharge_25.txt']\n",
      "2022-03-15 15:50:56.012153 starting: loading array freyberg6_template\\freyberg6.rch_recharge_25.txt\n"
     ]
    },
    {
     "name": "stdout",
     "output_type": "stream",
     "text": [
      "2022-03-15 15:50:56.013144 finished: loading array freyberg6_template\\freyberg6.rch_recharge_25.txt took: 0:00:00.000991\n",
      "2022-03-15 15:50:56.014140 loaded array 'freyberg_mf6\\freyberg6.rch_recharge_25.txt' of shape (40, 20)\n",
      "2022-03-15 15:50:56.016136 starting: writing array-style template file 'freyberg6_template\\rch_recharge_25_tcn_inst0_constant.csv.tpl'\n",
      "2022-03-15 15:50:56.016136 starting: writing template file freyberg6_template\\rch_recharge_25_tcn_inst0_constant.csv.tpl for ['rch_recharge_25_tcn_inst:0']\n",
      "2022-03-15 15:50:56.023130 finished: writing template file freyberg6_template\\rch_recharge_25_tcn_inst0_constant.csv.tpl for ['rch_recharge_25_tcn_inst:0'] took: 0:00:00.006994\n",
      "2022-03-15 15:50:56.023130 starting: writing array-based template file 'freyberg6_template\\rch_recharge_25_tcn_inst0_constant.csv.tpl'\n",
      "2022-03-15 15:50:56.024082 saving zone array freyberg6_template\\rch_recharge_25_tcn_inst0_constant.csv.zone for tpl file freyberg6_template\\rch_recharge_25_tcn_inst0_constant.csv.tpl\n",
      "2022-03-15 15:50:56.032093 finished: adding constant type m style parameters for file(s) ['freyberg6.rch_recharge_25.txt'] took: 0:00:00.019940\n",
      "2022-03-15 15:50:56.032093 starting: adding grid type m style parameters for file(s) ['freyberg6.rch_recharge_3.txt']\n",
      "2022-03-15 15:50:56.032093 starting: loading array freyberg6_template\\freyberg6.rch_recharge_3.txt\n",
      "2022-03-15 15:50:56.038095 finished: loading array freyberg6_template\\freyberg6.rch_recharge_3.txt took: 0:00:00.006002\n",
      "2022-03-15 15:50:56.038095 loaded array 'freyberg_mf6\\freyberg6.rch_recharge_3.txt' of shape (40, 20)\n",
      "2022-03-15 15:50:56.040090 starting: writing array-style template file 'freyberg6_template\\rch_recharge_3_gr_inst0_grid.csv.tpl'\n",
      "2022-03-15 15:50:56.041068 starting: writing template file freyberg6_template\\rch_recharge_3_gr_inst0_grid.csv.tpl for ['rch_recharge_3_gr_inst:0']\n",
      "2022-03-15 15:50:56.054037 finished: writing template file freyberg6_template\\rch_recharge_3_gr_inst0_grid.csv.tpl for ['rch_recharge_3_gr_inst:0'] took: 0:00:00.012969\n",
      "2022-03-15 15:50:56.054037 starting: writing array-based template file 'freyberg6_template\\rch_recharge_3_gr_inst0_grid.csv.tpl'\n",
      "2022-03-15 15:50:56.054037 saving zone array freyberg6_template\\rch_recharge_3_gr_inst0_grid.csv.zone for tpl file freyberg6_template\\rch_recharge_3_gr_inst0_grid.csv.tpl\n",
      "2022-03-15 15:50:56.060982 finished: adding grid type m style parameters for file(s) ['freyberg6.rch_recharge_3.txt'] took: 0:00:00.028889\n",
      "2022-03-15 15:50:56.060982 starting: adding pilotpoints type m style parameters for file(s) ['freyberg6.rch_recharge_3.txt']\n",
      "2022-03-15 15:50:56.060982 starting: loading array freyberg6_template\\freyberg6.rch_recharge_3.txt\n"
     ]
    },
    {
     "name": "stdout",
     "output_type": "stream",
     "text": [
      "2022-03-15 15:50:56.063004 finished: loading array freyberg6_template\\freyberg6.rch_recharge_3.txt took: 0:00:00.002022\n",
      "2022-03-15 15:50:56.063004 loaded array 'freyberg_mf6\\freyberg6.rch_recharge_3.txt' of shape (40, 20)\n",
      "2022-03-15 15:50:56.065006 starting: writing array-style template file 'freyberg6_template\\rch_recharge_3_pp_inst0_pilotpoints.csv.tpl'\n",
      "2022-03-15 15:50:56.065006 starting: setting up pilot point parameters\n",
      "2022-03-15 15:50:56.065006 No spatial reference (containing cell spacing) passed.\n",
      "2022-03-15 15:50:56.065006 OK - using spatial reference in parent object.\n",
      "2022-03-15 15:50:56.141810 32 pilot point parameters created\n",
      "2022-03-15 15:50:56.141810 pilot point 'pargp':rch_recharge_3_pp\n",
      "2022-03-15 15:50:56.141810 finished: setting up pilot point parameters took: 0:00:00.076804\n",
      "2022-03-15 15:50:56.148792 starting: writing array-based template file 'freyberg6_template\\rch_recharge_3_pp_inst0pp.dat.tpl'\n",
      "2022-03-15 15:50:56.148792 saving zone array freyberg6_template\\rch_recharge_3_pp_inst0pp.dat.zone for tpl file freyberg6_template\\rch_recharge_3_pp_inst0pp.dat.tpl\n",
      "2022-03-15 15:50:56.154777 finished: adding pilotpoints type m style parameters for file(s) ['freyberg6.rch_recharge_3.txt'] took: 0:00:00.093795\n",
      "2022-03-15 15:50:56.154777 starting: adding constant type m style parameters for file(s) ['freyberg6.rch_recharge_3.txt']\n",
      "2022-03-15 15:50:56.154777 starting: loading array freyberg6_template\\freyberg6.rch_recharge_3.txt\n",
      "2022-03-15 15:50:56.155775 finished: loading array freyberg6_template\\freyberg6.rch_recharge_3.txt took: 0:00:00.000998\n",
      "2022-03-15 15:50:56.155775 loaded array 'freyberg_mf6\\freyberg6.rch_recharge_3.txt' of shape (40, 20)\n",
      "2022-03-15 15:50:56.157769 starting: writing array-style template file 'freyberg6_template\\rch_recharge_3_cn_inst0_constant.csv.tpl'\n",
      "2022-03-15 15:50:56.157769 starting: writing template file freyberg6_template\\rch_recharge_3_cn_inst0_constant.csv.tpl for ['rch_recharge_3_cn_inst:0']\n",
      "2022-03-15 15:50:56.164748 finished: writing template file freyberg6_template\\rch_recharge_3_cn_inst0_constant.csv.tpl for ['rch_recharge_3_cn_inst:0'] took: 0:00:00.006979\n",
      "2022-03-15 15:50:56.165764 starting: writing array-based template file 'freyberg6_template\\rch_recharge_3_cn_inst0_constant.csv.tpl'\n",
      "2022-03-15 15:50:56.165764 saving zone array freyberg6_template\\rch_recharge_3_cn_inst0_constant.csv.zone for tpl file freyberg6_template\\rch_recharge_3_cn_inst0_constant.csv.tpl\n",
      "2022-03-15 15:50:56.171696 finished: adding constant type m style parameters for file(s) ['freyberg6.rch_recharge_3.txt'] took: 0:00:00.016919\n",
      "2022-03-15 15:50:56.171696 starting: adding constant type m style parameters for file(s) ['freyberg6.rch_recharge_3.txt']\n",
      "2022-03-15 15:50:56.171696 starting: loading array freyberg6_template\\freyberg6.rch_recharge_3.txt\n",
      "2022-03-15 15:50:56.173744 finished: loading array freyberg6_template\\freyberg6.rch_recharge_3.txt took: 0:00:00.002048\n",
      "2022-03-15 15:50:56.173744 loaded array 'freyberg_mf6\\freyberg6.rch_recharge_3.txt' of shape (40, 20)\n",
      "2022-03-15 15:50:56.175686 starting: writing array-style template file 'freyberg6_template\\rch_recharge_3_tcn_inst0_constant.csv.tpl'\n",
      "2022-03-15 15:50:56.175686 starting: writing template file freyberg6_template\\rch_recharge_3_tcn_inst0_constant.csv.tpl for ['rch_recharge_3_tcn_inst:0']\n",
      "2022-03-15 15:50:56.182720 finished: writing template file freyberg6_template\\rch_recharge_3_tcn_inst0_constant.csv.tpl for ['rch_recharge_3_tcn_inst:0'] took: 0:00:00.007034\n",
      "2022-03-15 15:50:56.183692 starting: writing array-based template file 'freyberg6_template\\rch_recharge_3_tcn_inst0_constant.csv.tpl'\n",
      "2022-03-15 15:50:56.183692 saving zone array freyberg6_template\\rch_recharge_3_tcn_inst0_constant.csv.zone for tpl file freyberg6_template\\rch_recharge_3_tcn_inst0_constant.csv.tpl\n",
      "2022-03-15 15:50:56.191694 finished: adding constant type m style parameters for file(s) ['freyberg6.rch_recharge_3.txt'] took: 0:00:00.019998\n",
      "2022-03-15 15:50:56.191694 starting: adding grid type m style parameters for file(s) ['freyberg6.rch_recharge_4.txt']\n",
      "2022-03-15 15:50:56.191694 starting: loading array freyberg6_template\\freyberg6.rch_recharge_4.txt\n",
      "2022-03-15 15:50:56.197680 finished: loading array freyberg6_template\\freyberg6.rch_recharge_4.txt took: 0:00:00.005986\n",
      "2022-03-15 15:50:56.197680 loaded array 'freyberg_mf6\\freyberg6.rch_recharge_4.txt' of shape (40, 20)\n"
     ]
    },
    {
     "name": "stdout",
     "output_type": "stream",
     "text": [
      "2022-03-15 15:50:56.200619 starting: writing array-style template file 'freyberg6_template\\rch_recharge_4_gr_inst0_grid.csv.tpl'\n",
      "2022-03-15 15:50:56.200619 starting: writing template file freyberg6_template\\rch_recharge_4_gr_inst0_grid.csv.tpl for ['rch_recharge_4_gr_inst:0']\n",
      "2022-03-15 15:50:56.213618 finished: writing template file freyberg6_template\\rch_recharge_4_gr_inst0_grid.csv.tpl for ['rch_recharge_4_gr_inst:0'] took: 0:00:00.012999\n",
      "2022-03-15 15:50:56.213618 starting: writing array-based template file 'freyberg6_template\\rch_recharge_4_gr_inst0_grid.csv.tpl'\n",
      "2022-03-15 15:50:56.213618 saving zone array freyberg6_template\\rch_recharge_4_gr_inst0_grid.csv.zone for tpl file freyberg6_template\\rch_recharge_4_gr_inst0_grid.csv.tpl\n",
      "2022-03-15 15:50:56.220600 finished: adding grid type m style parameters for file(s) ['freyberg6.rch_recharge_4.txt'] took: 0:00:00.028906\n",
      "2022-03-15 15:50:56.220600 starting: adding pilotpoints type m style parameters for file(s) ['freyberg6.rch_recharge_4.txt']\n",
      "2022-03-15 15:50:56.220600 starting: loading array freyberg6_template\\freyberg6.rch_recharge_4.txt\n",
      "2022-03-15 15:50:56.222593 finished: loading array freyberg6_template\\freyberg6.rch_recharge_4.txt took: 0:00:00.001993\n",
      "2022-03-15 15:50:56.222593 loaded array 'freyberg_mf6\\freyberg6.rch_recharge_4.txt' of shape (40, 20)\n",
      "2022-03-15 15:50:56.224590 starting: writing array-style template file 'freyberg6_template\\rch_recharge_4_pp_inst0_pilotpoints.csv.tpl'\n",
      "2022-03-15 15:50:56.224590 starting: setting up pilot point parameters\n",
      "2022-03-15 15:50:56.224590 No spatial reference (containing cell spacing) passed.\n",
      "2022-03-15 15:50:56.224590 OK - using spatial reference in parent object.\n"
     ]
    },
    {
     "name": "stdout",
     "output_type": "stream",
     "text": [
      "2022-03-15 15:50:56.300813 32 pilot point parameters created\n",
      "2022-03-15 15:50:56.300813 pilot point 'pargp':rch_recharge_4_pp\n",
      "2022-03-15 15:50:56.301872 finished: setting up pilot point parameters took: 0:00:00.077282\n",
      "2022-03-15 15:50:56.307851 starting: writing array-based template file 'freyberg6_template\\rch_recharge_4_pp_inst0pp.dat.tpl'\n",
      "2022-03-15 15:50:56.308847 saving zone array freyberg6_template\\rch_recharge_4_pp_inst0pp.dat.zone for tpl file freyberg6_template\\rch_recharge_4_pp_inst0pp.dat.tpl\n",
      "2022-03-15 15:50:56.313834 finished: adding pilotpoints type m style parameters for file(s) ['freyberg6.rch_recharge_4.txt'] took: 0:00:00.093234\n",
      "2022-03-15 15:50:56.313834 starting: adding constant type m style parameters for file(s) ['freyberg6.rch_recharge_4.txt']\n",
      "2022-03-15 15:50:56.313834 starting: loading array freyberg6_template\\freyberg6.rch_recharge_4.txt\n",
      "2022-03-15 15:50:56.315811 finished: loading array freyberg6_template\\freyberg6.rch_recharge_4.txt took: 0:00:00.001977\n",
      "2022-03-15 15:50:56.315811 loaded array 'freyberg_mf6\\freyberg6.rch_recharge_4.txt' of shape (40, 20)\n",
      "2022-03-15 15:50:56.317803 starting: writing array-style template file 'freyberg6_template\\rch_recharge_4_cn_inst0_constant.csv.tpl'\n",
      "2022-03-15 15:50:56.317803 starting: writing template file freyberg6_template\\rch_recharge_4_cn_inst0_constant.csv.tpl for ['rch_recharge_4_cn_inst:0']\n",
      "2022-03-15 15:50:56.324800 finished: writing template file freyberg6_template\\rch_recharge_4_cn_inst0_constant.csv.tpl for ['rch_recharge_4_cn_inst:0'] took: 0:00:00.006997\n",
      "2022-03-15 15:50:56.324800 starting: writing array-based template file 'freyberg6_template\\rch_recharge_4_cn_inst0_constant.csv.tpl'\n",
      "2022-03-15 15:50:56.324800 saving zone array freyberg6_template\\rch_recharge_4_cn_inst0_constant.csv.zone for tpl file freyberg6_template\\rch_recharge_4_cn_inst0_constant.csv.tpl\n",
      "2022-03-15 15:50:56.330767 finished: adding constant type m style parameters for file(s) ['freyberg6.rch_recharge_4.txt'] took: 0:00:00.016933\n",
      "2022-03-15 15:50:56.330767 starting: adding constant type m style parameters for file(s) ['freyberg6.rch_recharge_4.txt']\n",
      "2022-03-15 15:50:56.330767 starting: loading array freyberg6_template\\freyberg6.rch_recharge_4.txt\n",
      "2022-03-15 15:50:56.332763 finished: loading array freyberg6_template\\freyberg6.rch_recharge_4.txt took: 0:00:00.001996\n",
      "2022-03-15 15:50:56.332763 loaded array 'freyberg_mf6\\freyberg6.rch_recharge_4.txt' of shape (40, 20)\n",
      "2022-03-15 15:50:56.334758 starting: writing array-style template file 'freyberg6_template\\rch_recharge_4_tcn_inst0_constant.csv.tpl'\n",
      "2022-03-15 15:50:56.334758 starting: writing template file freyberg6_template\\rch_recharge_4_tcn_inst0_constant.csv.tpl for ['rch_recharge_4_tcn_inst:0']\n",
      "2022-03-15 15:50:56.341741 finished: writing template file freyberg6_template\\rch_recharge_4_tcn_inst0_constant.csv.tpl for ['rch_recharge_4_tcn_inst:0'] took: 0:00:00.006983\n",
      "2022-03-15 15:50:56.341741 starting: writing array-based template file 'freyberg6_template\\rch_recharge_4_tcn_inst0_constant.csv.tpl'\n",
      "2022-03-15 15:50:56.342735 saving zone array freyberg6_template\\rch_recharge_4_tcn_inst0_constant.csv.zone for tpl file freyberg6_template\\rch_recharge_4_tcn_inst0_constant.csv.tpl\n",
      "2022-03-15 15:50:56.350680 finished: adding constant type m style parameters for file(s) ['freyberg6.rch_recharge_4.txt'] took: 0:00:00.019913\n",
      "2022-03-15 15:50:56.350680 starting: adding grid type m style parameters for file(s) ['freyberg6.rch_recharge_5.txt']\n",
      "2022-03-15 15:50:56.350680 starting: loading array freyberg6_template\\freyberg6.rch_recharge_5.txt\n",
      "2022-03-15 15:50:56.357713 finished: loading array freyberg6_template\\freyberg6.rch_recharge_5.txt took: 0:00:00.007033\n",
      "2022-03-15 15:50:56.357713 loaded array 'freyberg_mf6\\freyberg6.rch_recharge_5.txt' of shape (40, 20)\n",
      "2022-03-15 15:50:56.359658 starting: writing array-style template file 'freyberg6_template\\rch_recharge_5_gr_inst0_grid.csv.tpl'\n",
      "2022-03-15 15:50:56.359658 starting: writing template file freyberg6_template\\rch_recharge_5_gr_inst0_grid.csv.tpl for ['rch_recharge_5_gr_inst:0']\n",
      "2022-03-15 15:50:56.372677 finished: writing template file freyberg6_template\\rch_recharge_5_gr_inst0_grid.csv.tpl for ['rch_recharge_5_gr_inst:0'] took: 0:00:00.013019\n",
      "2022-03-15 15:50:56.372677 starting: writing array-based template file 'freyberg6_template\\rch_recharge_5_gr_inst0_grid.csv.tpl'\n",
      "2022-03-15 15:50:56.372677 saving zone array freyberg6_template\\rch_recharge_5_gr_inst0_grid.csv.zone for tpl file freyberg6_template\\rch_recharge_5_gr_inst0_grid.csv.tpl\n",
      "2022-03-15 15:50:56.379658 finished: adding grid type m style parameters for file(s) ['freyberg6.rch_recharge_5.txt'] took: 0:00:00.028978\n",
      "2022-03-15 15:50:56.379658 starting: adding pilotpoints type m style parameters for file(s) ['freyberg6.rch_recharge_5.txt']\n",
      "2022-03-15 15:50:56.379658 starting: loading array freyberg6_template\\freyberg6.rch_recharge_5.txt\n",
      "2022-03-15 15:50:56.381633 finished: loading array freyberg6_template\\freyberg6.rch_recharge_5.txt took: 0:00:00.001975\n",
      "2022-03-15 15:50:56.381633 loaded array 'freyberg_mf6\\freyberg6.rch_recharge_5.txt' of shape (40, 20)\n",
      "2022-03-15 15:50:56.383644 starting: writing array-style template file 'freyberg6_template\\rch_recharge_5_pp_inst0_pilotpoints.csv.tpl'\n",
      "2022-03-15 15:50:56.383644 starting: setting up pilot point parameters\n",
      "2022-03-15 15:50:56.383644 No spatial reference (containing cell spacing) passed.\n",
      "2022-03-15 15:50:56.383644 OK - using spatial reference in parent object.\n"
     ]
    },
    {
     "name": "stdout",
     "output_type": "stream",
     "text": [
      "2022-03-15 15:50:56.462500 32 pilot point parameters created\n",
      "2022-03-15 15:50:56.462500 pilot point 'pargp':rch_recharge_5_pp\n",
      "2022-03-15 15:50:56.462500 finished: setting up pilot point parameters took: 0:00:00.078856\n",
      "2022-03-15 15:50:56.469479 starting: writing array-based template file 'freyberg6_template\\rch_recharge_5_pp_inst0pp.dat.tpl'\n",
      "2022-03-15 15:50:56.469479 saving zone array freyberg6_template\\rch_recharge_5_pp_inst0pp.dat.zone for tpl file freyberg6_template\\rch_recharge_5_pp_inst0pp.dat.tpl\n",
      "2022-03-15 15:50:56.474465 finished: adding pilotpoints type m style parameters for file(s) ['freyberg6.rch_recharge_5.txt'] took: 0:00:00.094807\n",
      "2022-03-15 15:50:56.475411 starting: adding constant type m style parameters for file(s) ['freyberg6.rch_recharge_5.txt']\n",
      "2022-03-15 15:50:56.475411 starting: loading array freyberg6_template\\freyberg6.rch_recharge_5.txt\n",
      "2022-03-15 15:50:56.476409 finished: loading array freyberg6_template\\freyberg6.rch_recharge_5.txt took: 0:00:00.000998\n",
      "2022-03-15 15:50:56.476409 loaded array 'freyberg_mf6\\freyberg6.rch_recharge_5.txt' of shape (40, 20)\n",
      "2022-03-15 15:50:56.478402 starting: writing array-style template file 'freyberg6_template\\rch_recharge_5_cn_inst0_constant.csv.tpl'\n",
      "2022-03-15 15:50:56.478402 starting: writing template file freyberg6_template\\rch_recharge_5_cn_inst0_constant.csv.tpl for ['rch_recharge_5_cn_inst:0']\n"
     ]
    },
    {
     "name": "stdout",
     "output_type": "stream",
     "text": [
      "2022-03-15 15:50:56.486414 finished: writing template file freyberg6_template\\rch_recharge_5_cn_inst0_constant.csv.tpl for ['rch_recharge_5_cn_inst:0'] took: 0:00:00.008012\n",
      "2022-03-15 15:50:56.486414 starting: writing array-based template file 'freyberg6_template\\rch_recharge_5_cn_inst0_constant.csv.tpl'\n",
      "2022-03-15 15:50:56.486414 saving zone array freyberg6_template\\rch_recharge_5_cn_inst0_constant.csv.zone for tpl file freyberg6_template\\rch_recharge_5_cn_inst0_constant.csv.tpl\n",
      "2022-03-15 15:50:56.492400 finished: adding constant type m style parameters for file(s) ['freyberg6.rch_recharge_5.txt'] took: 0:00:00.016989\n",
      "2022-03-15 15:50:56.493363 starting: adding constant type m style parameters for file(s) ['freyberg6.rch_recharge_5.txt']\n",
      "2022-03-15 15:50:56.493363 starting: loading array freyberg6_template\\freyberg6.rch_recharge_5.txt\n",
      "2022-03-15 15:50:56.494360 finished: loading array freyberg6_template\\freyberg6.rch_recharge_5.txt took: 0:00:00.000997\n",
      "2022-03-15 15:50:56.494360 loaded array 'freyberg_mf6\\freyberg6.rch_recharge_5.txt' of shape (40, 20)\n",
      "2022-03-15 15:50:56.496390 starting: writing array-style template file 'freyberg6_template\\rch_recharge_5_tcn_inst0_constant.csv.tpl'\n",
      "2022-03-15 15:50:56.496390 starting: writing template file freyberg6_template\\rch_recharge_5_tcn_inst0_constant.csv.tpl for ['rch_recharge_5_tcn_inst:0']\n",
      "2022-03-15 15:50:56.503373 finished: writing template file freyberg6_template\\rch_recharge_5_tcn_inst0_constant.csv.tpl for ['rch_recharge_5_tcn_inst:0'] took: 0:00:00.006983\n",
      "2022-03-15 15:50:56.503373 starting: writing array-based template file 'freyberg6_template\\rch_recharge_5_tcn_inst0_constant.csv.tpl'\n",
      "2022-03-15 15:50:56.504380 saving zone array freyberg6_template\\rch_recharge_5_tcn_inst0_constant.csv.zone for tpl file freyberg6_template\\rch_recharge_5_tcn_inst0_constant.csv.tpl\n",
      "2022-03-15 15:50:56.512345 finished: adding constant type m style parameters for file(s) ['freyberg6.rch_recharge_5.txt'] took: 0:00:00.018982\n",
      "2022-03-15 15:50:56.512345 starting: adding grid type m style parameters for file(s) ['freyberg6.rch_recharge_6.txt']\n",
      "2022-03-15 15:50:56.512345 starting: loading array freyberg6_template\\freyberg6.rch_recharge_6.txt\n",
      "2022-03-15 15:50:56.519349 finished: loading array freyberg6_template\\freyberg6.rch_recharge_6.txt took: 0:00:00.007004\n",
      "2022-03-15 15:50:56.519349 loaded array 'freyberg_mf6\\freyberg6.rch_recharge_6.txt' of shape (40, 20)\n",
      "2022-03-15 15:50:56.521340 starting: writing array-style template file 'freyberg6_template\\rch_recharge_6_gr_inst0_grid.csv.tpl'\n",
      "2022-03-15 15:50:56.521340 starting: writing template file freyberg6_template\\rch_recharge_6_gr_inst0_grid.csv.tpl for ['rch_recharge_6_gr_inst:0']\n",
      "2022-03-15 15:50:56.534304 finished: writing template file freyberg6_template\\rch_recharge_6_gr_inst0_grid.csv.tpl for ['rch_recharge_6_gr_inst:0'] took: 0:00:00.012964\n",
      "2022-03-15 15:50:56.534304 starting: writing array-based template file 'freyberg6_template\\rch_recharge_6_gr_inst0_grid.csv.tpl'\n",
      "2022-03-15 15:50:56.534304 saving zone array freyberg6_template\\rch_recharge_6_gr_inst0_grid.csv.zone for tpl file freyberg6_template\\rch_recharge_6_gr_inst0_grid.csv.tpl\n",
      "2022-03-15 15:50:56.542232 finished: adding grid type m style parameters for file(s) ['freyberg6.rch_recharge_6.txt'] took: 0:00:00.029887\n",
      "2022-03-15 15:50:56.542232 starting: adding pilotpoints type m style parameters for file(s) ['freyberg6.rch_recharge_6.txt']\n",
      "2022-03-15 15:50:56.542232 starting: loading array freyberg6_template\\freyberg6.rch_recharge_6.txt\n",
      "2022-03-15 15:50:56.543229 finished: loading array freyberg6_template\\freyberg6.rch_recharge_6.txt took: 0:00:00.000997\n",
      "2022-03-15 15:50:56.543229 loaded array 'freyberg_mf6\\freyberg6.rch_recharge_6.txt' of shape (40, 20)\n",
      "2022-03-15 15:50:56.545223 starting: writing array-style template file 'freyberg6_template\\rch_recharge_6_pp_inst0_pilotpoints.csv.tpl'\n",
      "2022-03-15 15:50:56.546222 starting: setting up pilot point parameters\n",
      "2022-03-15 15:50:56.546222 No spatial reference (containing cell spacing) passed.\n",
      "2022-03-15 15:50:56.546222 OK - using spatial reference in parent object.\n",
      "2022-03-15 15:50:56.624599 32 pilot point parameters created\n",
      "2022-03-15 15:50:56.624599 pilot point 'pargp':rch_recharge_6_pp\n",
      "2022-03-15 15:50:56.624599 finished: setting up pilot point parameters took: 0:00:00.078377\n",
      "2022-03-15 15:50:56.631580 starting: writing array-based template file 'freyberg6_template\\rch_recharge_6_pp_inst0pp.dat.tpl'\n",
      "2022-03-15 15:50:56.631580 saving zone array freyberg6_template\\rch_recharge_6_pp_inst0pp.dat.zone for tpl file freyberg6_template\\rch_recharge_6_pp_inst0pp.dat.tpl\n",
      "2022-03-15 15:50:56.637563 finished: adding pilotpoints type m style parameters for file(s) ['freyberg6.rch_recharge_6.txt'] took: 0:00:00.095331\n",
      "2022-03-15 15:50:56.637563 starting: adding constant type m style parameters for file(s) ['freyberg6.rch_recharge_6.txt']\n",
      "2022-03-15 15:50:56.637563 starting: loading array freyberg6_template\\freyberg6.rch_recharge_6.txt\n",
      "2022-03-15 15:50:56.638561 finished: loading array freyberg6_template\\freyberg6.rch_recharge_6.txt took: 0:00:00.000998\n",
      "2022-03-15 15:50:56.639565 loaded array 'freyberg_mf6\\freyberg6.rch_recharge_6.txt' of shape (40, 20)\n",
      "2022-03-15 15:50:56.641562 starting: writing array-style template file 'freyberg6_template\\rch_recharge_6_cn_inst0_constant.csv.tpl'\n",
      "2022-03-15 15:50:56.641562 starting: writing template file freyberg6_template\\rch_recharge_6_cn_inst0_constant.csv.tpl for ['rch_recharge_6_cn_inst:0']\n",
      "2022-03-15 15:50:56.648501 finished: writing template file freyberg6_template\\rch_recharge_6_cn_inst0_constant.csv.tpl for ['rch_recharge_6_cn_inst:0'] took: 0:00:00.006939\n",
      "2022-03-15 15:50:56.648501 starting: writing array-based template file 'freyberg6_template\\rch_recharge_6_cn_inst0_constant.csv.tpl'\n",
      "2022-03-15 15:50:56.648501 saving zone array freyberg6_template\\rch_recharge_6_cn_inst0_constant.csv.zone for tpl file freyberg6_template\\rch_recharge_6_cn_inst0_constant.csv.tpl\n",
      "2022-03-15 15:50:56.655482 finished: adding constant type m style parameters for file(s) ['freyberg6.rch_recharge_6.txt'] took: 0:00:00.017919\n",
      "2022-03-15 15:50:56.655482 starting: adding constant type m style parameters for file(s) ['freyberg6.rch_recharge_6.txt']\n",
      "2022-03-15 15:50:56.655482 starting: loading array freyberg6_template\\freyberg6.rch_recharge_6.txt\n"
     ]
    },
    {
     "name": "stdout",
     "output_type": "stream",
     "text": [
      "2022-03-15 15:50:56.656513 finished: loading array freyberg6_template\\freyberg6.rch_recharge_6.txt took: 0:00:00.001031\n",
      "2022-03-15 15:50:56.657510 loaded array 'freyberg_mf6\\freyberg6.rch_recharge_6.txt' of shape (40, 20)\n",
      "2022-03-15 15:50:56.659506 starting: writing array-style template file 'freyberg6_template\\rch_recharge_6_tcn_inst0_constant.csv.tpl'\n",
      "2022-03-15 15:50:56.659506 starting: writing template file freyberg6_template\\rch_recharge_6_tcn_inst0_constant.csv.tpl for ['rch_recharge_6_tcn_inst:0']\n",
      "2022-03-15 15:50:56.667450 finished: writing template file freyberg6_template\\rch_recharge_6_tcn_inst0_constant.csv.tpl for ['rch_recharge_6_tcn_inst:0'] took: 0:00:00.007944\n",
      "2022-03-15 15:50:56.667450 starting: writing array-based template file 'freyberg6_template\\rch_recharge_6_tcn_inst0_constant.csv.tpl'\n"
     ]
    },
    {
     "name": "stdout",
     "output_type": "stream",
     "text": [
      "2022-03-15 15:50:56.668490 saving zone array freyberg6_template\\rch_recharge_6_tcn_inst0_constant.csv.zone for tpl file freyberg6_template\\rch_recharge_6_tcn_inst0_constant.csv.tpl\n",
      "2022-03-15 15:50:56.676425 finished: adding constant type m style parameters for file(s) ['freyberg6.rch_recharge_6.txt'] took: 0:00:00.020943\n",
      "2022-03-15 15:50:56.676425 starting: adding grid type m style parameters for file(s) ['freyberg6.rch_recharge_7.txt']\n",
      "2022-03-15 15:50:56.676425 starting: loading array freyberg6_template\\freyberg6.rch_recharge_7.txt\n",
      "2022-03-15 15:50:56.683408 finished: loading array freyberg6_template\\freyberg6.rch_recharge_7.txt took: 0:00:00.006983\n",
      "2022-03-15 15:50:56.683408 loaded array 'freyberg_mf6\\freyberg6.rch_recharge_7.txt' of shape (40, 20)\n",
      "2022-03-15 15:50:56.685403 starting: writing array-style template file 'freyberg6_template\\rch_recharge_7_gr_inst0_grid.csv.tpl'\n",
      "2022-03-15 15:50:56.685403 starting: writing template file freyberg6_template\\rch_recharge_7_gr_inst0_grid.csv.tpl for ['rch_recharge_7_gr_inst:0']\n",
      "2022-03-15 15:50:56.697639 finished: writing template file freyberg6_template\\rch_recharge_7_gr_inst0_grid.csv.tpl for ['rch_recharge_7_gr_inst:0'] took: 0:00:00.012236\n",
      "2022-03-15 15:50:56.697639 starting: writing array-based template file 'freyberg6_template\\rch_recharge_7_gr_inst0_grid.csv.tpl'\n",
      "2022-03-15 15:50:56.697639 saving zone array freyberg6_template\\rch_recharge_7_gr_inst0_grid.csv.zone for tpl file freyberg6_template\\rch_recharge_7_gr_inst0_grid.csv.tpl\n",
      "2022-03-15 15:50:56.704623 finished: adding grid type m style parameters for file(s) ['freyberg6.rch_recharge_7.txt'] took: 0:00:00.028198\n",
      "2022-03-15 15:50:56.705567 starting: adding pilotpoints type m style parameters for file(s) ['freyberg6.rch_recharge_7.txt']\n",
      "2022-03-15 15:50:56.705567 starting: loading array freyberg6_template\\freyberg6.rch_recharge_7.txt\n",
      "2022-03-15 15:50:56.706615 finished: loading array freyberg6_template\\freyberg6.rch_recharge_7.txt took: 0:00:00.001048\n",
      "2022-03-15 15:50:56.706615 loaded array 'freyberg_mf6\\freyberg6.rch_recharge_7.txt' of shape (40, 20)\n",
      "2022-03-15 15:50:56.708610 starting: writing array-style template file 'freyberg6_template\\rch_recharge_7_pp_inst0_pilotpoints.csv.tpl'\n",
      "2022-03-15 15:50:56.708610 starting: setting up pilot point parameters\n",
      "2022-03-15 15:50:56.708610 No spatial reference (containing cell spacing) passed.\n",
      "2022-03-15 15:50:56.708610 OK - using spatial reference in parent object.\n",
      "2022-03-15 15:50:56.786383 32 pilot point parameters created\n",
      "2022-03-15 15:50:56.786383 pilot point 'pargp':rch_recharge_7_pp\n",
      "2022-03-15 15:50:56.787381 finished: setting up pilot point parameters took: 0:00:00.078771\n",
      "2022-03-15 15:50:56.794330 starting: writing array-based template file 'freyberg6_template\\rch_recharge_7_pp_inst0pp.dat.tpl'\n",
      "2022-03-15 15:50:56.794330 saving zone array freyberg6_template\\rch_recharge_7_pp_inst0pp.dat.zone for tpl file freyberg6_template\\rch_recharge_7_pp_inst0pp.dat.tpl\n",
      "2022-03-15 15:50:56.800346 finished: adding pilotpoints type m style parameters for file(s) ['freyberg6.rch_recharge_7.txt'] took: 0:00:00.094779\n",
      "2022-03-15 15:50:56.800346 starting: adding constant type m style parameters for file(s) ['freyberg6.rch_recharge_7.txt']\n",
      "2022-03-15 15:50:56.800346 starting: loading array freyberg6_template\\freyberg6.rch_recharge_7.txt\n",
      "2022-03-15 15:50:56.801363 finished: loading array freyberg6_template\\freyberg6.rch_recharge_7.txt took: 0:00:00.001017\n",
      "2022-03-15 15:50:56.802308 loaded array 'freyberg_mf6\\freyberg6.rch_recharge_7.txt' of shape (40, 20)\n",
      "2022-03-15 15:50:56.803304 starting: writing array-style template file 'freyberg6_template\\rch_recharge_7_cn_inst0_constant.csv.tpl'\n",
      "2022-03-15 15:50:56.804303 starting: writing template file freyberg6_template\\rch_recharge_7_cn_inst0_constant.csv.tpl for ['rch_recharge_7_cn_inst:0']\n",
      "2022-03-15 15:50:56.811284 finished: writing template file freyberg6_template\\rch_recharge_7_cn_inst0_constant.csv.tpl for ['rch_recharge_7_cn_inst:0'] took: 0:00:00.006981\n",
      "2022-03-15 15:50:56.811284 starting: writing array-based template file 'freyberg6_template\\rch_recharge_7_cn_inst0_constant.csv.tpl'\n",
      "2022-03-15 15:50:56.811284 saving zone array freyberg6_template\\rch_recharge_7_cn_inst0_constant.csv.zone for tpl file freyberg6_template\\rch_recharge_7_cn_inst0_constant.csv.tpl\n",
      "2022-03-15 15:50:56.817302 finished: adding constant type m style parameters for file(s) ['freyberg6.rch_recharge_7.txt'] took: 0:00:00.016956\n",
      "2022-03-15 15:50:56.818299 starting: adding constant type m style parameters for file(s) ['freyberg6.rch_recharge_7.txt']\n",
      "2022-03-15 15:50:56.818299 starting: loading array freyberg6_template\\freyberg6.rch_recharge_7.txt\n",
      "2022-03-15 15:50:56.819297 finished: loading array freyberg6_template\\freyberg6.rch_recharge_7.txt took: 0:00:00.000998\n",
      "2022-03-15 15:50:56.819297 loaded array 'freyberg_mf6\\freyberg6.rch_recharge_7.txt' of shape (40, 20)\n",
      "2022-03-15 15:50:56.821290 starting: writing array-style template file 'freyberg6_template\\rch_recharge_7_tcn_inst0_constant.csv.tpl'\n",
      "2022-03-15 15:50:56.821290 starting: writing template file freyberg6_template\\rch_recharge_7_tcn_inst0_constant.csv.tpl for ['rch_recharge_7_tcn_inst:0']\n",
      "2022-03-15 15:50:56.829287 finished: writing template file freyberg6_template\\rch_recharge_7_tcn_inst0_constant.csv.tpl for ['rch_recharge_7_tcn_inst:0'] took: 0:00:00.007997\n",
      "2022-03-15 15:50:56.829287 starting: writing array-based template file 'freyberg6_template\\rch_recharge_7_tcn_inst0_constant.csv.tpl'\n",
      "2022-03-15 15:50:56.830233 saving zone array freyberg6_template\\rch_recharge_7_tcn_inst0_constant.csv.zone for tpl file freyberg6_template\\rch_recharge_7_tcn_inst0_constant.csv.tpl\n",
      "2022-03-15 15:50:56.838263 finished: adding constant type m style parameters for file(s) ['freyberg6.rch_recharge_7.txt'] took: 0:00:00.019964\n",
      "2022-03-15 15:50:56.838263 starting: adding grid type m style parameters for file(s) ['freyberg6.rch_recharge_8.txt']\n",
      "2022-03-15 15:50:56.838263 starting: loading array freyberg6_template\\freyberg6.rch_recharge_8.txt\n"
     ]
    },
    {
     "name": "stdout",
     "output_type": "stream",
     "text": [
      "2022-03-15 15:50:56.844245 finished: loading array freyberg6_template\\freyberg6.rch_recharge_8.txt took: 0:00:00.005982\n",
      "2022-03-15 15:50:56.844245 loaded array 'freyberg_mf6\\freyberg6.rch_recharge_8.txt' of shape (40, 20)\n",
      "2022-03-15 15:50:56.847223 starting: writing array-style template file 'freyberg6_template\\rch_recharge_8_gr_inst0_grid.csv.tpl'\n",
      "2022-03-15 15:50:56.847223 starting: writing template file freyberg6_template\\rch_recharge_8_gr_inst0_grid.csv.tpl for ['rch_recharge_8_gr_inst:0']\n",
      "2022-03-15 15:50:56.859193 finished: writing template file freyberg6_template\\rch_recharge_8_gr_inst0_grid.csv.tpl for ['rch_recharge_8_gr_inst:0'] took: 0:00:00.011970\n"
     ]
    },
    {
     "name": "stdout",
     "output_type": "stream",
     "text": [
      "2022-03-15 15:50:56.860153 starting: writing array-based template file 'freyberg6_template\\rch_recharge_8_gr_inst0_grid.csv.tpl'\n",
      "2022-03-15 15:50:56.860153 saving zone array freyberg6_template\\rch_recharge_8_gr_inst0_grid.csv.zone for tpl file freyberg6_template\\rch_recharge_8_gr_inst0_grid.csv.tpl\n",
      "2022-03-15 15:50:56.868166 finished: adding grid type m style parameters for file(s) ['freyberg6.rch_recharge_8.txt'] took: 0:00:00.029903\n",
      "2022-03-15 15:50:56.868166 starting: adding pilotpoints type m style parameters for file(s) ['freyberg6.rch_recharge_8.txt']\n",
      "2022-03-15 15:50:56.868166 starting: loading array freyberg6_template\\freyberg6.rch_recharge_8.txt\n",
      "2022-03-15 15:50:56.869165 finished: loading array freyberg6_template\\freyberg6.rch_recharge_8.txt took: 0:00:00.000999\n",
      "2022-03-15 15:50:56.869165 loaded array 'freyberg_mf6\\freyberg6.rch_recharge_8.txt' of shape (40, 20)\n",
      "2022-03-15 15:50:56.871161 starting: writing array-style template file 'freyberg6_template\\rch_recharge_8_pp_inst0_pilotpoints.csv.tpl'\n",
      "2022-03-15 15:50:56.871161 starting: setting up pilot point parameters\n",
      "2022-03-15 15:50:56.871161 No spatial reference (containing cell spacing) passed.\n",
      "2022-03-15 15:50:56.871161 OK - using spatial reference in parent object.\n",
      "2022-03-15 15:50:56.946954 32 pilot point parameters created\n",
      "2022-03-15 15:50:56.946954 pilot point 'pargp':rch_recharge_8_pp\n",
      "2022-03-15 15:50:56.946954 finished: setting up pilot point parameters took: 0:00:00.075793\n",
      "2022-03-15 15:50:56.953935 starting: writing array-based template file 'freyberg6_template\\rch_recharge_8_pp_inst0pp.dat.tpl'\n",
      "2022-03-15 15:50:56.953935 saving zone array freyberg6_template\\rch_recharge_8_pp_inst0pp.dat.zone for tpl file freyberg6_template\\rch_recharge_8_pp_inst0pp.dat.tpl\n",
      "2022-03-15 15:50:56.958943 finished: adding pilotpoints type m style parameters for file(s) ['freyberg6.rch_recharge_8.txt'] took: 0:00:00.090777\n",
      "2022-03-15 15:50:56.958943 starting: adding constant type m style parameters for file(s) ['freyberg6.rch_recharge_8.txt']\n",
      "2022-03-15 15:50:56.958943 starting: loading array freyberg6_template\\freyberg6.rch_recharge_8.txt\n",
      "2022-03-15 15:50:56.960884 finished: loading array freyberg6_template\\freyberg6.rch_recharge_8.txt took: 0:00:00.001941\n",
      "2022-03-15 15:50:56.960884 loaded array 'freyberg_mf6\\freyberg6.rch_recharge_8.txt' of shape (40, 20)\n",
      "2022-03-15 15:50:56.962929 starting: writing array-style template file 'freyberg6_template\\rch_recharge_8_cn_inst0_constant.csv.tpl'\n",
      "2022-03-15 15:50:56.962929 starting: writing template file freyberg6_template\\rch_recharge_8_cn_inst0_constant.csv.tpl for ['rch_recharge_8_cn_inst:0']\n",
      "2022-03-15 15:50:56.969911 finished: writing template file freyberg6_template\\rch_recharge_8_cn_inst0_constant.csv.tpl for ['rch_recharge_8_cn_inst:0'] took: 0:00:00.006982\n",
      "2022-03-15 15:50:56.970921 starting: writing array-based template file 'freyberg6_template\\rch_recharge_8_cn_inst0_constant.csv.tpl'\n",
      "2022-03-15 15:50:56.970921 saving zone array freyberg6_template\\rch_recharge_8_cn_inst0_constant.csv.zone for tpl file freyberg6_template\\rch_recharge_8_cn_inst0_constant.csv.tpl\n",
      "2022-03-15 15:50:56.976868 finished: adding constant type m style parameters for file(s) ['freyberg6.rch_recharge_8.txt'] took: 0:00:00.017925\n",
      "2022-03-15 15:50:56.976868 starting: adding constant type m style parameters for file(s) ['freyberg6.rch_recharge_8.txt']\n",
      "2022-03-15 15:50:56.976868 starting: loading array freyberg6_template\\freyberg6.rch_recharge_8.txt\n",
      "2022-03-15 15:50:56.977871 finished: loading array freyberg6_template\\freyberg6.rch_recharge_8.txt took: 0:00:00.001003\n",
      "2022-03-15 15:50:56.977871 loaded array 'freyberg_mf6\\freyberg6.rch_recharge_8.txt' of shape (40, 20)\n",
      "2022-03-15 15:50:56.979832 starting: writing array-style template file 'freyberg6_template\\rch_recharge_8_tcn_inst0_constant.csv.tpl'\n",
      "2022-03-15 15:50:56.980865 starting: writing template file freyberg6_template\\rch_recharge_8_tcn_inst0_constant.csv.tpl for ['rch_recharge_8_tcn_inst:0']\n",
      "2022-03-15 15:50:56.987846 finished: writing template file freyberg6_template\\rch_recharge_8_tcn_inst0_constant.csv.tpl for ['rch_recharge_8_tcn_inst:0'] took: 0:00:00.006981\n",
      "2022-03-15 15:50:56.987846 starting: writing array-based template file 'freyberg6_template\\rch_recharge_8_tcn_inst0_constant.csv.tpl'\n",
      "2022-03-15 15:50:56.988844 saving zone array freyberg6_template\\rch_recharge_8_tcn_inst0_constant.csv.zone for tpl file freyberg6_template\\rch_recharge_8_tcn_inst0_constant.csv.tpl\n",
      "2022-03-15 15:50:56.996821 finished: adding constant type m style parameters for file(s) ['freyberg6.rch_recharge_8.txt'] took: 0:00:00.019953\n",
      "2022-03-15 15:50:56.996821 starting: adding grid type m style parameters for file(s) ['freyberg6.rch_recharge_9.txt']\n",
      "2022-03-15 15:50:56.996821 starting: loading array freyberg6_template\\freyberg6.rch_recharge_9.txt\n",
      "2022-03-15 15:50:57.004186 finished: loading array freyberg6_template\\freyberg6.rch_recharge_9.txt took: 0:00:00.007365\n",
      "2022-03-15 15:50:57.004186 loaded array 'freyberg_mf6\\freyberg6.rch_recharge_9.txt' of shape (40, 20)\n",
      "2022-03-15 15:50:57.006157 starting: writing array-style template file 'freyberg6_template\\rch_recharge_9_gr_inst0_grid.csv.tpl'\n",
      "2022-03-15 15:50:57.006157 starting: writing template file freyberg6_template\\rch_recharge_9_gr_inst0_grid.csv.tpl for ['rch_recharge_9_gr_inst:0']\n",
      "2022-03-15 15:50:57.019137 finished: writing template file freyberg6_template\\rch_recharge_9_gr_inst0_grid.csv.tpl for ['rch_recharge_9_gr_inst:0'] took: 0:00:00.012980\n",
      "2022-03-15 15:50:57.019137 starting: writing array-based template file 'freyberg6_template\\rch_recharge_9_gr_inst0_grid.csv.tpl'\n",
      "2022-03-15 15:50:57.019137 saving zone array freyberg6_template\\rch_recharge_9_gr_inst0_grid.csv.zone for tpl file freyberg6_template\\rch_recharge_9_gr_inst0_grid.csv.tpl\n",
      "2022-03-15 15:50:57.026119 finished: adding grid type m style parameters for file(s) ['freyberg6.rch_recharge_9.txt'] took: 0:00:00.029298\n",
      "2022-03-15 15:50:57.026119 starting: adding pilotpoints type m style parameters for file(s) ['freyberg6.rch_recharge_9.txt']\n",
      "2022-03-15 15:50:57.026119 starting: loading array freyberg6_template\\freyberg6.rch_recharge_9.txt\n"
     ]
    },
    {
     "name": "stdout",
     "output_type": "stream",
     "text": [
      "2022-03-15 15:50:57.028062 finished: loading array freyberg6_template\\freyberg6.rch_recharge_9.txt took: 0:00:00.001943\n",
      "2022-03-15 15:50:57.028062 loaded array 'freyberg_mf6\\freyberg6.rch_recharge_9.txt' of shape (40, 20)\n",
      "2022-03-15 15:50:57.030112 starting: writing array-style template file 'freyberg6_template\\rch_recharge_9_pp_inst0_pilotpoints.csv.tpl'\n",
      "2022-03-15 15:50:57.030112 starting: setting up pilot point parameters\n",
      "2022-03-15 15:50:57.030112 No spatial reference (containing cell spacing) passed.\n",
      "2022-03-15 15:50:57.030112 OK - using spatial reference in parent object.\n"
     ]
    },
    {
     "name": "stdout",
     "output_type": "stream",
     "text": [
      "2022-03-15 15:50:57.108400 32 pilot point parameters created\n",
      "2022-03-15 15:50:57.108400 pilot point 'pargp':rch_recharge_9_pp\n",
      "2022-03-15 15:50:57.108400 finished: setting up pilot point parameters took: 0:00:00.078288\n",
      "2022-03-15 15:50:57.115329 starting: writing array-based template file 'freyberg6_template\\rch_recharge_9_pp_inst0pp.dat.tpl'\n",
      "2022-03-15 15:50:57.115329 saving zone array freyberg6_template\\rch_recharge_9_pp_inst0pp.dat.zone for tpl file freyberg6_template\\rch_recharge_9_pp_inst0pp.dat.tpl\n",
      "2022-03-15 15:50:57.120368 finished: adding pilotpoints type m style parameters for file(s) ['freyberg6.rch_recharge_9.txt'] took: 0:00:00.094249\n",
      "2022-03-15 15:50:57.121364 starting: adding constant type m style parameters for file(s) ['freyberg6.rch_recharge_9.txt']\n",
      "2022-03-15 15:50:57.121364 starting: loading array freyberg6_template\\freyberg6.rch_recharge_9.txt\n",
      "2022-03-15 15:50:57.122362 finished: loading array freyberg6_template\\freyberg6.rch_recharge_9.txt took: 0:00:00.000998\n",
      "2022-03-15 15:50:57.122362 loaded array 'freyberg_mf6\\freyberg6.rch_recharge_9.txt' of shape (40, 20)\n",
      "2022-03-15 15:50:57.124357 starting: writing array-style template file 'freyberg6_template\\rch_recharge_9_cn_inst0_constant.csv.tpl'\n",
      "2022-03-15 15:50:57.124357 starting: writing template file freyberg6_template\\rch_recharge_9_cn_inst0_constant.csv.tpl for ['rch_recharge_9_cn_inst:0']\n",
      "2022-03-15 15:50:57.131319 finished: writing template file freyberg6_template\\rch_recharge_9_cn_inst0_constant.csv.tpl for ['rch_recharge_9_cn_inst:0'] took: 0:00:00.006962\n",
      "2022-03-15 15:50:57.132284 starting: writing array-based template file 'freyberg6_template\\rch_recharge_9_cn_inst0_constant.csv.tpl'\n",
      "2022-03-15 15:50:57.132284 saving zone array freyberg6_template\\rch_recharge_9_cn_inst0_constant.csv.zone for tpl file freyberg6_template\\rch_recharge_9_cn_inst0_constant.csv.tpl\n",
      "2022-03-15 15:50:57.138268 finished: adding constant type m style parameters for file(s) ['freyberg6.rch_recharge_9.txt'] took: 0:00:00.016904\n",
      "2022-03-15 15:50:57.138268 starting: adding constant type m style parameters for file(s) ['freyberg6.rch_recharge_9.txt']\n",
      "2022-03-15 15:50:57.139265 starting: loading array freyberg6_template\\freyberg6.rch_recharge_9.txt\n",
      "2022-03-15 15:50:57.140314 finished: loading array freyberg6_template\\freyberg6.rch_recharge_9.txt took: 0:00:00.001049\n",
      "2022-03-15 15:50:57.140314 loaded array 'freyberg_mf6\\freyberg6.rch_recharge_9.txt' of shape (40, 20)\n",
      "2022-03-15 15:50:57.142308 starting: writing array-style template file 'freyberg6_template\\rch_recharge_9_tcn_inst0_constant.csv.tpl'\n",
      "2022-03-15 15:50:57.142308 starting: writing template file freyberg6_template\\rch_recharge_9_tcn_inst0_constant.csv.tpl for ['rch_recharge_9_tcn_inst:0']\n",
      "2022-03-15 15:50:57.149239 finished: writing template file freyberg6_template\\rch_recharge_9_tcn_inst0_constant.csv.tpl for ['rch_recharge_9_tcn_inst:0'] took: 0:00:00.006931\n",
      "2022-03-15 15:50:57.150288 starting: writing array-based template file 'freyberg6_template\\rch_recharge_9_tcn_inst0_constant.csv.tpl'\n",
      "2022-03-15 15:50:57.150288 saving zone array freyberg6_template\\rch_recharge_9_tcn_inst0_constant.csv.zone for tpl file freyberg6_template\\rch_recharge_9_tcn_inst0_constant.csv.tpl\n",
      "2022-03-15 15:50:57.158250 finished: adding constant type m style parameters for file(s) ['freyberg6.rch_recharge_9.txt'] took: 0:00:00.019982\n"
     ]
    }
   ],
   "source": [
    "# for Recharge; \n",
    "tag = \"rch_recharge\"\n",
    "files = [f for f in os.listdir(template_ws) if tag in f.lower() and f.endswith(\".txt\")]\n",
    "for f in files:\n",
    "    # the spatial multiplier parameters; just use the same function\n",
    "    add_mult_pars(f, lb=0.2, ub=5.0, ulb=2e-5, uub=2e-4)\n",
    "    \n",
    "    \n",
    "    # multiplier that includes temporal correlation\n",
    "    # get the stress period number from the file name\n",
    "    kper = int(f.split('.')[1].split('_')[-1]) - 1  \n",
    "    \n",
    "    # add the constant parameters (with temporal correlation)\n",
    "    pf.add_parameters(filenames=f,\n",
    "                    zone_array=ib,\n",
    "                    par_type=\"constant\",\n",
    "                    par_name_base=f.split('.')[1]+\"_tcn\",\n",
    "                    pargp=f.split('.')[1]+\"_tcn\",\n",
    "                    lower_bound=0.5, upper_bound=1.5,\n",
    "                    ult_ubound=2e-4, ult_lbound=2e-5,\n",
    "                    datetime=dts[kper], # this places the parameter value on the \"time axis\"\n",
    "                    geostruct=temporal_gs)"
   ]
  },
  {
   "cell_type": "markdown",
   "metadata": {},
   "source": [
    "### 5.3.3. List Files\n",
    "\n",
    "Adding parameters from list-type files follows similar principles. As with observation files, they must be tabular. Certain columns are specified as index columns and are used to populate parameter names, as well as provide the parameters' spatial location. Other columns are specified as containing parameter values. \n",
    "\n",
    "Parameters can be `grid` or `constant`. As before, values can be assigned `directly`, as `multipliers` or as `additives`.\n",
    "\n",
    "We will demonstrate for the boundary-condition input files. \n",
    "\n",
    "Starting off with GHBs. Let's inspect the folder. As you can see, there is a single input file (GHB parameters are assumed to not vary over time)."
   ]
  },
  {
   "cell_type": "code",
   "execution_count": 29,
   "metadata": {
    "execution": {
     "iopub.execute_input": "2022-03-15T05:20:57.177164Z",
     "iopub.status.busy": "2022-03-15T05:20:57.177164Z",
     "iopub.status.idle": "2022-03-15T05:20:57.188238Z",
     "shell.execute_reply": "2022-03-15T05:20:57.187273Z"
    }
   },
   "outputs": [
    {
     "name": "stdout",
     "output_type": "stream",
     "text": [
      "['freyberg6.ghb_stress_period_data_1.txt']\n"
     ]
    }
   ],
   "source": [
    "tag = \"ghb_stress_period_data\"\n",
    "files = [f for f in os.listdir(template_ws) if tag in f.lower() and f.endswith(\".txt\")]\n",
    "print(files)"
   ]
  },
  {
   "cell_type": "markdown",
   "metadata": {},
   "source": [
    "Since these boundaries are likely to be very influential, we want to include a robust representation of their uncertainty - both head and conductance and at multiple scales.  \n",
    "\n",
    "Let's parameterize both GHB conductance and head:\n",
    "\n",
    " - For conductance, we shall use two scales of `multiplier` parameters (`constant` and `grid`).\n",
    "\n",
    " - For heads, multipliers are not ideal. Insead we will use `additive` parameters. Again, with a coarse and fine scale."
   ]
  },
  {
   "cell_type": "code",
   "execution_count": 30,
   "metadata": {
    "execution": {
     "iopub.execute_input": "2022-03-15T05:20:57.203192Z",
     "iopub.status.busy": "2022-03-15T05:20:57.202196Z",
     "iopub.status.idle": "2022-03-15T05:20:57.327765Z",
     "shell.execute_reply": "2022-03-15T05:20:57.328762Z"
    }
   },
   "outputs": [
    {
     "name": "stdout",
     "output_type": "stream",
     "text": [
      "2022-03-15 15:50:57.203192 starting: adding grid type m style parameters for file(s) ['freyberg6.ghb_stress_period_data_1.txt']\n",
      "2022-03-15 15:50:57.204223 starting: loading list-style freyberg6_template\\freyberg6.ghb_stress_period_data_1.txt\n",
      "2022-03-15 15:50:57.204223 starting: reading list-style file: freyberg6_template\\freyberg6.ghb_stress_period_data_1.txt\n",
      "2022-03-15 15:50:57.211171 finished: reading list-style file: freyberg6_template\\freyberg6.ghb_stress_period_data_1.txt took: 0:00:00.006948\n",
      "2022-03-15 15:50:57.211171 loaded list-style 'freyberg6_template\\freyberg6.ghb_stress_period_data_1.txt' of shape (30, 5)\n",
      "2022-03-15 15:50:57.213166 finished: loading list-style freyberg6_template\\freyberg6.ghb_stress_period_data_1.txt took: 0:00:00.008943\n",
      "2022-03-15 15:50:57.213166 starting: writing list-style template file 'freyberg6_template\\ghbcond_gr_inst0_grid.csv.tpl'\n",
      "2022-03-15 15:50:57.218153 WARNING: get_xy() warning: position of i and j in index_cols not specified, assume (i,j) are final two entries in index_cols.\n",
      "2022-03-15 15:50:57.223171 WARNING: Coincidently located pars in list-style file, attempting to separate pars based on `index_cols` passed - using index_col[0] for third dimension\n"
     ]
    },
    {
     "name": "stdout",
     "output_type": "stream",
     "text": [
      "2022-03-15 15:50:57.235106 finished: writing list-style template file 'freyberg6_template\\ghbcond_gr_inst0_grid.csv.tpl' took: 0:00:00.021940\n",
      "2022-03-15 15:50:57.240120 finished: adding grid type m style parameters for file(s) ['freyberg6.ghb_stress_period_data_1.txt'] took: 0:00:00.036928\n",
      "2022-03-15 15:50:57.240120 starting: adding constant type m style parameters for file(s) ['freyberg6.ghb_stress_period_data_1.txt']\n",
      "2022-03-15 15:50:57.241115 starting: loading list-style freyberg6_template\\freyberg6.ghb_stress_period_data_1.txt\n",
      "2022-03-15 15:50:57.241115 starting: reading list-style file: freyberg6_template\\freyberg6.ghb_stress_period_data_1.txt\n",
      "2022-03-15 15:50:57.242113 finished: reading list-style file: freyberg6_template\\freyberg6.ghb_stress_period_data_1.txt took: 0:00:00.000998\n",
      "2022-03-15 15:50:57.243112 loaded list-style 'freyberg6_template\\freyberg6.ghb_stress_period_data_1.txt' of shape (30, 5)\n",
      "2022-03-15 15:50:57.244083 finished: loading list-style freyberg6_template\\freyberg6.ghb_stress_period_data_1.txt took: 0:00:00.002968\n",
      "2022-03-15 15:50:57.244083 starting: writing list-style template file 'freyberg6_template\\ghbcond_cn_inst0_constant.csv.tpl'\n",
      "2022-03-15 15:50:57.258078 finished: writing list-style template file 'freyberg6_template\\ghbcond_cn_inst0_constant.csv.tpl' took: 0:00:00.013995\n",
      "2022-03-15 15:50:57.263064 finished: adding constant type m style parameters for file(s) ['freyberg6.ghb_stress_period_data_1.txt'] took: 0:00:00.022944\n",
      "2022-03-15 15:50:57.264064 starting: adding grid type a style parameters for file(s) ['freyberg6.ghb_stress_period_data_1.txt']\n",
      "2022-03-15 15:50:57.264064 WARNING: 0) Inconsistency between geostruct transform and partrans.\n",
      "2022-03-15 15:50:57.264064 WARNING: 1) Setting geostruct transform to {transform}\n",
      "2022-03-15 15:50:57.264064 WARNING: 2) This will create a new copy of geostruct\n",
      "2022-03-15 15:50:57.264064 WARNING: -) Better to pass an appropriately transformed geostruct\n",
      "2022-03-15 15:50:57.264064 starting: loading list-style freyberg6_template\\freyberg6.ghb_stress_period_data_1.txt\n",
      "2022-03-15 15:50:57.265026 starting: reading list-style file: freyberg6_template\\freyberg6.ghb_stress_period_data_1.txt\n",
      "2022-03-15 15:50:57.267021 finished: reading list-style file: freyberg6_template\\freyberg6.ghb_stress_period_data_1.txt took: 0:00:00.001995\n",
      "2022-03-15 15:50:57.267021 loaded list-style 'freyberg6_template\\freyberg6.ghb_stress_period_data_1.txt' of shape (30, 5)\n",
      "2022-03-15 15:50:57.268074 finished: loading list-style freyberg6_template\\freyberg6.ghb_stress_period_data_1.txt took: 0:00:00.004010\n",
      "2022-03-15 15:50:57.268074 starting: writing list-style template file 'freyberg6_template\\ghbhead_gr_inst0_grid.csv.tpl'\n",
      "2022-03-15 15:50:57.272060 WARNING: get_xy() warning: position of i and j in index_cols not specified, assume (i,j) are final two entries in index_cols.\n",
      "2022-03-15 15:50:57.277050 WARNING: Coincidently located pars in list-style file, attempting to separate pars based on `index_cols` passed - using index_col[0] for third dimension\n",
      "2022-03-15 15:50:57.289991 finished: writing list-style template file 'freyberg6_template\\ghbhead_gr_inst0_grid.csv.tpl' took: 0:00:00.021917\n"
     ]
    },
    {
     "name": "stdout",
     "output_type": "stream",
     "text": [
      "2022-03-15 15:50:57.295971 finished: adding grid type a style parameters for file(s) ['freyberg6.ghb_stress_period_data_1.txt'] took: 0:00:00.031907\n",
      "2022-03-15 15:50:57.296941 starting: adding constant type a style parameters for file(s) ['freyberg6.ghb_stress_period_data_1.txt']\n",
      "2022-03-15 15:50:57.296941 WARNING: 0) Inconsistency between geostruct transform and partrans.\n",
      "2022-03-15 15:50:57.296941 WARNING: 1) Setting geostruct transform to {transform}\n",
      "2022-03-15 15:50:57.296941 WARNING: 2) This will create a new copy of geostruct\n",
      "2022-03-15 15:50:57.296941 WARNING: -) Better to pass an appropriately transformed geostruct\n",
      "2022-03-15 15:50:57.296941 starting: loading list-style freyberg6_template\\freyberg6.ghb_stress_period_data_1.txt\n",
      "2022-03-15 15:50:57.296941 starting: reading list-style file: freyberg6_template\\freyberg6.ghb_stress_period_data_1.txt\n",
      "2022-03-15 15:50:57.298980 finished: reading list-style file: freyberg6_template\\freyberg6.ghb_stress_period_data_1.txt took: 0:00:00.002039\n",
      "2022-03-15 15:50:57.299994 loaded list-style 'freyberg6_template\\freyberg6.ghb_stress_period_data_1.txt' of shape (30, 5)\n",
      "2022-03-15 15:50:57.299994 finished: loading list-style freyberg6_template\\freyberg6.ghb_stress_period_data_1.txt took: 0:00:00.003053\n",
      "2022-03-15 15:50:57.300949 starting: writing list-style template file 'freyberg6_template\\ghbhead_cn_inst0_constant.csv.tpl'\n",
      "2022-03-15 15:50:57.313933 finished: writing list-style template file 'freyberg6_template\\ghbhead_cn_inst0_constant.csv.tpl' took: 0:00:00.012984\n",
      "2022-03-15 15:50:57.319927 finished: adding constant type a style parameters for file(s) ['freyberg6.ghb_stress_period_data_1.txt'] took: 0:00:00.022986\n"
     ]
    }
   ],
   "source": [
    "tag = \"ghb_stress_period_data\"\n",
    "files = [f for f in os.listdir(template_ws) if tag in f.lower() and f.endswith(\".txt\")]\n",
    "\n",
    "for f in files:\n",
    "    # constant and grid scale multiplier conductance parameters\n",
    "    name = 'ghbcond'\n",
    "    pf.add_parameters(f,\n",
    "                        par_type=\"grid\",\n",
    "                        geostruct=grid_gs,\n",
    "                        par_name_base=name+\"_gr\",\n",
    "                        pargp=name+\"_gr\",\n",
    "                        index_cols=[0,1,2], #column containing lay,row,col\n",
    "                        use_cols=[4], #column containing conductance values\n",
    "                        lower_bound=0.1,upper_bound=10.0,\n",
    "                        ult_lbound=0.1, ult_ubound=100) #absolute limits\n",
    "    pf.add_parameters(f,\n",
    "                        par_type=\"constant\",\n",
    "                        geostruct=grid_gs,\n",
    "                        par_name_base=name+\"_cn\",\n",
    "                        pargp=name+\"_cn\",\n",
    "                        index_cols=[0,1,2],\n",
    "                        use_cols=[4],  \n",
    "                        lower_bound=0.1,upper_bound=10.0,\n",
    "                        ult_lbound=0.1, ult_ubound=100) #absolute limits\n",
    "\n",
    "    # constant and grid scale additive head parameters\n",
    "    name = 'ghbhead'\n",
    "    pf.add_parameters(f,\n",
    "                        par_type=\"grid\",\n",
    "                        geostruct=grid_gs,\n",
    "                        par_name_base=name+\"_gr\",\n",
    "                        pargp=name+\"_gr\",\n",
    "                        index_cols=[0,1,2],\n",
    "                        use_cols=[3],   # column containing head values\n",
    "                        lower_bound=-2.0,upper_bound=2.0,\n",
    "                        par_style=\"a\", # specify additive parameter\n",
    "                        transform=\"none\", # specify not log-transform\n",
    "                        ult_lbound=32.5, ult_ubound=42) #absolute limits; make sure head is never lower than the bottom of layer1\n",
    "    pf.add_parameters(f,\n",
    "                        par_type=\"constant\",\n",
    "                        geostruct=grid_gs,\n",
    "                        par_name_base=name+\"_cn\",\n",
    "                        pargp=name+\"_cn\",\n",
    "                        index_cols=[0,1,2],\n",
    "                        use_cols=[3],\n",
    "                        lower_bound=-2.0,upper_bound=2.0, \n",
    "                        par_style=\"a\", \n",
    "                        transform=\"none\",\n",
    "                        ult_lbound=32.5, ult_ubound=42) "
   ]
  },
  {
   "cell_type": "markdown",
   "metadata": {},
   "source": [
    "Easy peasy.\n",
    "\n",
    "Now this will make some people uncomfortable but how well do we really ever know historic water use flux rates in space and in time? hmmm, not really! So lets add parameters to represent that uncertainty in the model inputs.\n",
    "\n",
    "For wells it may not (or it may...) make sense to include spatial correlation. Here we will assume temporal correlation - its reasonable that pumping rates today will be similar to pumping rates yesterday. \n",
    "\n",
    "Pumping rates for different stress periods are in separate files. We will call `.add_parameters()` for each file. But we want to specify correlation between parameters in different files. As explained above for recharge, we do this with the parameter group name.\n",
    "\n",
    "OK, let's get started.\n"
   ]
  },
  {
   "cell_type": "markdown",
   "metadata": {},
   "source": [
    "As discussed above, including temporal correlation introduces an additional challenge. We use the same approach described for recharge parmaeters:\n",
    "\n",
    "First, we will asign a `constant` multiplier parameter for each WEL stress-period file (so, a single multiplier for all well pumping rates for each stress period). We will specify temporal correlation for these `constant` multipliers.\n",
    "\n",
    "Then, we will also have `grid` type multiplier parameters for each WEL stress period file (so, multipliers for individual well pumping rate during each stress period). These will not include correlation. (We could in principle include spatial correlation here if we wanted to; but let's not)."
   ]
  },
  {
   "cell_type": "code",
   "execution_count": 31,
   "metadata": {
    "execution": {
     "iopub.execute_input": "2022-03-15T05:20:57.334712Z",
     "iopub.status.busy": "2022-03-15T05:20:57.334712Z",
     "iopub.status.idle": "2022-03-15T05:20:58.666623Z",
     "shell.execute_reply": "2022-03-15T05:20:58.666623Z"
    }
   },
   "outputs": [
    {
     "name": "stdout",
     "output_type": "stream",
     "text": [
      "2022-03-15 15:50:57.335744 starting: adding constant type m style parameters for file(s) ['freyberg6.wel_stress_period_data_1.txt']\n",
      "2022-03-15 15:50:57.335744 starting: loading list-style freyberg6_template\\freyberg6.wel_stress_period_data_1.txt\n",
      "2022-03-15 15:50:57.335744 starting: reading list-style file: freyberg6_template\\freyberg6.wel_stress_period_data_1.txt\n",
      "2022-03-15 15:50:57.337754 finished: reading list-style file: freyberg6_template\\freyberg6.wel_stress_period_data_1.txt took: 0:00:00.002010\n",
      "2022-03-15 15:50:57.338752 loaded list-style 'freyberg6_template\\freyberg6.wel_stress_period_data_1.txt' of shape (6, 4)\n",
      "2022-03-15 15:50:57.338752 finished: loading list-style freyberg6_template\\freyberg6.wel_stress_period_data_1.txt took: 0:00:00.003008\n",
      "2022-03-15 15:50:57.339698 starting: writing list-style template file 'freyberg6_template\\wel_cst_inst0_constant.csv.tpl'\n",
      "2022-03-15 15:50:57.352377 finished: writing list-style template file 'freyberg6_template\\wel_cst_inst0_constant.csv.tpl' took: 0:00:00.012679\n",
      "2022-03-15 15:50:57.360375 finished: adding constant type m style parameters for file(s) ['freyberg6.wel_stress_period_data_1.txt'] took: 0:00:00.024631\n"
     ]
    },
    {
     "name": "stdout",
     "output_type": "stream",
     "text": [
      "2022-03-15 15:50:57.360375 starting: adding grid type m style parameters for file(s) ['freyberg6.wel_stress_period_data_1.txt']\n",
      "2022-03-15 15:50:57.360375 starting: loading list-style freyberg6_template\\freyberg6.wel_stress_period_data_1.txt\n",
      "2022-03-15 15:50:57.360375 starting: reading list-style file: freyberg6_template\\freyberg6.wel_stress_period_data_1.txt\n",
      "2022-03-15 15:50:57.362318 finished: reading list-style file: freyberg6_template\\freyberg6.wel_stress_period_data_1.txt took: 0:00:00.001943\n",
      "2022-03-15 15:50:57.363349 loaded list-style 'freyberg6_template\\freyberg6.wel_stress_period_data_1.txt' of shape (6, 4)\n",
      "2022-03-15 15:50:57.363349 finished: loading list-style freyberg6_template\\freyberg6.wel_stress_period_data_1.txt took: 0:00:00.002974\n",
      "2022-03-15 15:50:57.364365 starting: writing list-style template file 'freyberg6_template\\wel_grd_inst0_grid.csv.tpl'\n",
      "2022-03-15 15:50:57.377277 finished: writing list-style template file 'freyberg6_template\\wel_grd_inst0_grid.csv.tpl' took: 0:00:00.012912\n",
      "2022-03-15 15:50:57.385256 finished: adding grid type m style parameters for file(s) ['freyberg6.wel_stress_period_data_1.txt'] took: 0:00:00.024881\n"
     ]
    },
    {
     "name": "stdout",
     "output_type": "stream",
     "text": [
      "2022-03-15 15:50:57.386253 starting: adding constant type m style parameters for file(s) ['freyberg6.wel_stress_period_data_10.txt']\n",
      "2022-03-15 15:50:57.386253 starting: loading list-style freyberg6_template\\freyberg6.wel_stress_period_data_10.txt\n",
      "2022-03-15 15:50:57.386253 starting: reading list-style file: freyberg6_template\\freyberg6.wel_stress_period_data_10.txt\n",
      "2022-03-15 15:50:57.389297 finished: reading list-style file: freyberg6_template\\freyberg6.wel_stress_period_data_10.txt took: 0:00:00.003044\n",
      "2022-03-15 15:50:57.389297 loaded list-style 'freyberg6_template\\freyberg6.wel_stress_period_data_10.txt' of shape (6, 4)\n",
      "2022-03-15 15:50:57.390243 finished: loading list-style freyberg6_template\\freyberg6.wel_stress_period_data_10.txt took: 0:00:00.003990\n",
      "2022-03-15 15:50:57.390243 starting: writing list-style template file 'freyberg6_template\\wel_cst_inst1_constant.csv.tpl'\n",
      "2022-03-15 15:50:57.403243 finished: writing list-style template file 'freyberg6_template\\wel_cst_inst1_constant.csv.tpl' took: 0:00:00.013000\n",
      "2022-03-15 15:50:57.410255 finished: adding constant type m style parameters for file(s) ['freyberg6.wel_stress_period_data_10.txt'] took: 0:00:00.024002\n",
      "2022-03-15 15:50:57.411221 starting: adding grid type m style parameters for file(s) ['freyberg6.wel_stress_period_data_10.txt']\n",
      "2022-03-15 15:50:57.411221 starting: loading list-style freyberg6_template\\freyberg6.wel_stress_period_data_10.txt\n",
      "2022-03-15 15:50:57.411221 starting: reading list-style file: freyberg6_template\\freyberg6.wel_stress_period_data_10.txt\n",
      "2022-03-15 15:50:57.413215 finished: reading list-style file: freyberg6_template\\freyberg6.wel_stress_period_data_10.txt took: 0:00:00.001994\n",
      "2022-03-15 15:50:57.413215 loaded list-style 'freyberg6_template\\freyberg6.wel_stress_period_data_10.txt' of shape (6, 4)\n",
      "2022-03-15 15:50:57.414235 finished: loading list-style freyberg6_template\\freyberg6.wel_stress_period_data_10.txt took: 0:00:00.003014\n",
      "2022-03-15 15:50:57.414235 starting: writing list-style template file 'freyberg6_template\\wel_grd_inst1_grid.csv.tpl'\n",
      "2022-03-15 15:50:57.428142 finished: writing list-style template file 'freyberg6_template\\wel_grd_inst1_grid.csv.tpl' took: 0:00:00.013907\n"
     ]
    },
    {
     "name": "stdout",
     "output_type": "stream",
     "text": [
      "2022-03-15 15:50:57.436171 finished: adding grid type m style parameters for file(s) ['freyberg6.wel_stress_period_data_10.txt'] took: 0:00:00.024950\n",
      "2022-03-15 15:50:57.437116 starting: adding constant type m style parameters for file(s) ['freyberg6.wel_stress_period_data_11.txt']\n",
      "2022-03-15 15:50:57.437116 starting: loading list-style freyberg6_template\\freyberg6.wel_stress_period_data_11.txt\n",
      "2022-03-15 15:50:57.437116 starting: reading list-style file: freyberg6_template\\freyberg6.wel_stress_period_data_11.txt\n",
      "2022-03-15 15:50:57.439144 finished: reading list-style file: freyberg6_template\\freyberg6.wel_stress_period_data_11.txt took: 0:00:00.002028\n",
      "2022-03-15 15:50:57.440171 loaded list-style 'freyberg6_template\\freyberg6.wel_stress_period_data_11.txt' of shape (6, 4)\n",
      "2022-03-15 15:50:57.440171 finished: loading list-style freyberg6_template\\freyberg6.wel_stress_period_data_11.txt took: 0:00:00.003055\n",
      "2022-03-15 15:50:57.441107 starting: writing list-style template file 'freyberg6_template\\wel_cst_inst2_constant.csv.tpl'\n",
      "2022-03-15 15:50:57.454106 finished: writing list-style template file 'freyberg6_template\\wel_cst_inst2_constant.csv.tpl' took: 0:00:00.012999\n",
      "2022-03-15 15:50:57.461054 finished: adding constant type m style parameters for file(s) ['freyberg6.wel_stress_period_data_11.txt'] took: 0:00:00.023938\n",
      "2022-03-15 15:50:57.462103 starting: adding grid type m style parameters for file(s) ['freyberg6.wel_stress_period_data_11.txt']\n",
      "2022-03-15 15:50:57.462103 starting: loading list-style freyberg6_template\\freyberg6.wel_stress_period_data_11.txt\n",
      "2022-03-15 15:50:57.462103 starting: reading list-style file: freyberg6_template\\freyberg6.wel_stress_period_data_11.txt\n",
      "2022-03-15 15:50:57.464097 finished: reading list-style file: freyberg6_template\\freyberg6.wel_stress_period_data_11.txt took: 0:00:00.001994\n",
      "2022-03-15 15:50:57.464097 loaded list-style 'freyberg6_template\\freyberg6.wel_stress_period_data_11.txt' of shape (6, 4)\n",
      "2022-03-15 15:50:57.465042 finished: loading list-style freyberg6_template\\freyberg6.wel_stress_period_data_11.txt took: 0:00:00.002939\n",
      "2022-03-15 15:50:57.465042 starting: writing list-style template file 'freyberg6_template\\wel_grd_inst2_grid.csv.tpl'\n",
      "2022-03-15 15:50:57.479006 finished: writing list-style template file 'freyberg6_template\\wel_grd_inst2_grid.csv.tpl' took: 0:00:00.013964\n"
     ]
    },
    {
     "name": "stdout",
     "output_type": "stream",
     "text": [
      "2022-03-15 15:50:57.486984 finished: adding grid type m style parameters for file(s) ['freyberg6.wel_stress_period_data_11.txt'] took: 0:00:00.024881\n",
      "2022-03-15 15:50:57.486984 starting: adding constant type m style parameters for file(s) ['freyberg6.wel_stress_period_data_12.txt']\n",
      "2022-03-15 15:50:57.486984 starting: loading list-style freyberg6_template\\freyberg6.wel_stress_period_data_12.txt\n",
      "2022-03-15 15:50:57.488022 starting: reading list-style file: freyberg6_template\\freyberg6.wel_stress_period_data_12.txt\n",
      "2022-03-15 15:50:57.490031 finished: reading list-style file: freyberg6_template\\freyberg6.wel_stress_period_data_12.txt took: 0:00:00.002009\n",
      "2022-03-15 15:50:57.490031 loaded list-style 'freyberg6_template\\freyberg6.wel_stress_period_data_12.txt' of shape (6, 4)\n",
      "2022-03-15 15:50:57.496448 finished: loading list-style freyberg6_template\\freyberg6.wel_stress_period_data_12.txt took: 0:00:00.009464\n",
      "2022-03-15 15:50:57.497454 starting: writing list-style template file 'freyberg6_template\\wel_cst_inst3_constant.csv.tpl'\n",
      "2022-03-15 15:50:57.518271 finished: writing list-style template file 'freyberg6_template\\wel_cst_inst3_constant.csv.tpl' took: 0:00:00.020817\n"
     ]
    },
    {
     "name": "stdout",
     "output_type": "stream",
     "text": [
      "2022-03-15 15:50:57.526281 finished: adding constant type m style parameters for file(s) ['freyberg6.wel_stress_period_data_12.txt'] took: 0:00:00.039297\n",
      "2022-03-15 15:50:57.526281 starting: adding grid type m style parameters for file(s) ['freyberg6.wel_stress_period_data_12.txt']\n",
      "2022-03-15 15:50:57.526281 starting: loading list-style freyberg6_template\\freyberg6.wel_stress_period_data_12.txt\n",
      "2022-03-15 15:50:57.527248 starting: reading list-style file: freyberg6_template\\freyberg6.wel_stress_period_data_12.txt\n",
      "2022-03-15 15:50:57.528244 finished: reading list-style file: freyberg6_template\\freyberg6.wel_stress_period_data_12.txt took: 0:00:00.000996\n",
      "2022-03-15 15:50:57.528244 loaded list-style 'freyberg6_template\\freyberg6.wel_stress_period_data_12.txt' of shape (6, 4)\n",
      "2022-03-15 15:50:57.529242 finished: loading list-style freyberg6_template\\freyberg6.wel_stress_period_data_12.txt took: 0:00:00.002961\n",
      "2022-03-15 15:50:57.529242 starting: writing list-style template file 'freyberg6_template\\wel_grd_inst3_grid.csv.tpl'\n",
      "2022-03-15 15:50:57.543965 finished: writing list-style template file 'freyberg6_template\\wel_grd_inst3_grid.csv.tpl' took: 0:00:00.014723\n"
     ]
    },
    {
     "name": "stdout",
     "output_type": "stream",
     "text": [
      "2022-03-15 15:50:57.552924 finished: adding grid type m style parameters for file(s) ['freyberg6.wel_stress_period_data_12.txt'] took: 0:00:00.026643\n",
      "2022-03-15 15:50:57.552924 starting: adding constant type m style parameters for file(s) ['freyberg6.wel_stress_period_data_13.txt']\n",
      "2022-03-15 15:50:57.552924 starting: loading list-style freyberg6_template\\freyberg6.wel_stress_period_data_13.txt\n",
      "2022-03-15 15:50:57.553919 starting: reading list-style file: freyberg6_template\\freyberg6.wel_stress_period_data_13.txt\n",
      "2022-03-15 15:50:57.558925 finished: reading list-style file: freyberg6_template\\freyberg6.wel_stress_period_data_13.txt took: 0:00:00.005006\n",
      "2022-03-15 15:50:57.558925 loaded list-style 'freyberg6_template\\freyberg6.wel_stress_period_data_13.txt' of shape (6, 4)\n",
      "2022-03-15 15:50:57.559924 finished: loading list-style freyberg6_template\\freyberg6.wel_stress_period_data_13.txt took: 0:00:00.007000\n",
      "2022-03-15 15:50:57.560869 starting: writing list-style template file 'freyberg6_template\\wel_cst_inst4_constant.csv.tpl'\n",
      "2022-03-15 15:50:57.574456 finished: writing list-style template file 'freyberg6_template\\wel_cst_inst4_constant.csv.tpl' took: 0:00:00.013587\n",
      "2022-03-15 15:50:57.581438 finished: adding constant type m style parameters for file(s) ['freyberg6.wel_stress_period_data_13.txt'] took: 0:00:00.028514\n"
     ]
    },
    {
     "name": "stdout",
     "output_type": "stream",
     "text": [
      "2022-03-15 15:50:57.582385 starting: adding grid type m style parameters for file(s) ['freyberg6.wel_stress_period_data_13.txt']\n",
      "2022-03-15 15:50:57.582385 starting: loading list-style freyberg6_template\\freyberg6.wel_stress_period_data_13.txt\n",
      "2022-03-15 15:50:57.582385 starting: reading list-style file: freyberg6_template\\freyberg6.wel_stress_period_data_13.txt\n",
      "2022-03-15 15:50:57.584436 finished: reading list-style file: freyberg6_template\\freyberg6.wel_stress_period_data_13.txt took: 0:00:00.002051\n",
      "2022-03-15 15:50:57.584436 loaded list-style 'freyberg6_template\\freyberg6.wel_stress_period_data_13.txt' of shape (6, 4)\n",
      "2022-03-15 15:50:57.585377 finished: loading list-style freyberg6_template\\freyberg6.wel_stress_period_data_13.txt took: 0:00:00.002992\n",
      "2022-03-15 15:50:57.585377 starting: writing list-style template file 'freyberg6_template\\wel_grd_inst4_grid.csv.tpl'\n",
      "2022-03-15 15:50:57.598374 finished: writing list-style template file 'freyberg6_template\\wel_grd_inst4_grid.csv.tpl' took: 0:00:00.012997\n",
      "2022-03-15 15:50:57.606372 finished: adding grid type m style parameters for file(s) ['freyberg6.wel_stress_period_data_13.txt'] took: 0:00:00.023987\n",
      "2022-03-15 15:50:57.606372 starting: adding constant type m style parameters for file(s) ['freyberg6.wel_stress_period_data_14.txt']\n",
      "2022-03-15 15:50:57.606372 starting: loading list-style freyberg6_template\\freyberg6.wel_stress_period_data_14.txt\n",
      "2022-03-15 15:50:57.606372 starting: reading list-style file: freyberg6_template\\freyberg6.wel_stress_period_data_14.txt\n",
      "2022-03-15 15:50:57.609365 finished: reading list-style file: freyberg6_template\\freyberg6.wel_stress_period_data_14.txt took: 0:00:00.002993\n",
      "2022-03-15 15:50:57.609365 loaded list-style 'freyberg6_template\\freyberg6.wel_stress_period_data_14.txt' of shape (6, 4)\n",
      "2022-03-15 15:50:57.610342 finished: loading list-style freyberg6_template\\freyberg6.wel_stress_period_data_14.txt took: 0:00:00.003970\n",
      "2022-03-15 15:50:57.610342 starting: writing list-style template file 'freyberg6_template\\wel_cst_inst5_constant.csv.tpl'\n"
     ]
    },
    {
     "name": "stdout",
     "output_type": "stream",
     "text": [
      "2022-03-15 15:50:57.624306 finished: writing list-style template file 'freyberg6_template\\wel_cst_inst5_constant.csv.tpl' took: 0:00:00.013964\n",
      "2022-03-15 15:50:57.632304 finished: adding constant type m style parameters for file(s) ['freyberg6.wel_stress_period_data_14.txt'] took: 0:00:00.025932\n",
      "2022-03-15 15:50:57.632304 starting: adding grid type m style parameters for file(s) ['freyberg6.wel_stress_period_data_14.txt']\n",
      "2022-03-15 15:50:57.633331 starting: loading list-style freyberg6_template\\freyberg6.wel_stress_period_data_14.txt\n",
      "2022-03-15 15:50:57.633331 starting: reading list-style file: freyberg6_template\\freyberg6.wel_stress_period_data_14.txt\n",
      "2022-03-15 15:50:57.634297 finished: reading list-style file: freyberg6_template\\freyberg6.wel_stress_period_data_14.txt took: 0:00:00.000966\n",
      "2022-03-15 15:50:57.635242 loaded list-style 'freyberg6_template\\freyberg6.wel_stress_period_data_14.txt' of shape (6, 4)\n",
      "2022-03-15 15:50:57.636293 finished: loading list-style freyberg6_template\\freyberg6.wel_stress_period_data_14.txt took: 0:00:00.002962\n",
      "2022-03-15 15:50:57.636293 starting: writing list-style template file 'freyberg6_template\\wel_grd_inst5_grid.csv.tpl'\n",
      "2022-03-15 15:50:57.649575 finished: writing list-style template file 'freyberg6_template\\wel_grd_inst5_grid.csv.tpl' took: 0:00:00.013282\n",
      "2022-03-15 15:50:57.657555 finished: adding grid type m style parameters for file(s) ['freyberg6.wel_stress_period_data_14.txt'] took: 0:00:00.025251\n",
      "2022-03-15 15:50:57.657555 starting: adding constant type m style parameters for file(s) ['freyberg6.wel_stress_period_data_15.txt']\n",
      "2022-03-15 15:50:57.657555 starting: loading list-style freyberg6_template\\freyberg6.wel_stress_period_data_15.txt\n",
      "2022-03-15 15:50:57.657555 starting: reading list-style file: freyberg6_template\\freyberg6.wel_stress_period_data_15.txt\n",
      "2022-03-15 15:50:57.660545 finished: reading list-style file: freyberg6_template\\freyberg6.wel_stress_period_data_15.txt took: 0:00:00.002990\n",
      "2022-03-15 15:50:57.660545 loaded list-style 'freyberg6_template\\freyberg6.wel_stress_period_data_15.txt' of shape (6, 4)\n",
      "2022-03-15 15:50:57.661492 finished: loading list-style freyberg6_template\\freyberg6.wel_stress_period_data_15.txt took: 0:00:00.003937\n",
      "2022-03-15 15:50:57.661492 starting: writing list-style template file 'freyberg6_template\\wel_cst_inst6_constant.csv.tpl'\n"
     ]
    },
    {
     "name": "stdout",
     "output_type": "stream",
     "text": [
      "2022-03-15 15:50:57.675454 finished: writing list-style template file 'freyberg6_template\\wel_cst_inst6_constant.csv.tpl' took: 0:00:00.013962\n",
      "2022-03-15 15:50:57.683433 finished: adding constant type m style parameters for file(s) ['freyberg6.wel_stress_period_data_15.txt'] took: 0:00:00.025878\n",
      "2022-03-15 15:50:57.684465 starting: adding grid type m style parameters for file(s) ['freyberg6.wel_stress_period_data_15.txt']\n",
      "2022-03-15 15:50:57.684465 starting: loading list-style freyberg6_template\\freyberg6.wel_stress_period_data_15.txt\n",
      "2022-03-15 15:50:57.684465 starting: reading list-style file: freyberg6_template\\freyberg6.wel_stress_period_data_15.txt\n",
      "2022-03-15 15:50:57.686425 finished: reading list-style file: freyberg6_template\\freyberg6.wel_stress_period_data_15.txt took: 0:00:00.001960\n",
      "2022-03-15 15:50:57.686425 loaded list-style 'freyberg6_template\\freyberg6.wel_stress_period_data_15.txt' of shape (6, 4)\n",
      "2022-03-15 15:50:57.687477 finished: loading list-style freyberg6_template\\freyberg6.wel_stress_period_data_15.txt took: 0:00:00.003012\n",
      "2022-03-15 15:50:57.687477 starting: writing list-style template file 'freyberg6_template\\wel_grd_inst6_grid.csv.tpl'\n",
      "2022-03-15 15:50:57.701439 finished: writing list-style template file 'freyberg6_template\\wel_grd_inst6_grid.csv.tpl' took: 0:00:00.013962\n",
      "2022-03-15 15:50:57.708401 finished: adding grid type m style parameters for file(s) ['freyberg6.wel_stress_period_data_15.txt'] took: 0:00:00.023936\n",
      "2022-03-15 15:50:57.709401 starting: adding constant type m style parameters for file(s) ['freyberg6.wel_stress_period_data_16.txt']\n",
      "2022-03-15 15:50:57.709401 starting: loading list-style freyberg6_template\\freyberg6.wel_stress_period_data_16.txt\n",
      "2022-03-15 15:50:57.709401 starting: reading list-style file: freyberg6_template\\freyberg6.wel_stress_period_data_16.txt\n",
      "2022-03-15 15:50:57.711358 finished: reading list-style file: freyberg6_template\\freyberg6.wel_stress_period_data_16.txt took: 0:00:00.001957\n",
      "2022-03-15 15:50:57.712410 loaded list-style 'freyberg6_template\\freyberg6.wel_stress_period_data_16.txt' of shape (6, 4)\n",
      "2022-03-15 15:50:57.713353 finished: loading list-style freyberg6_template\\freyberg6.wel_stress_period_data_16.txt took: 0:00:00.003952\n",
      "2022-03-15 15:50:57.713353 starting: writing list-style template file 'freyberg6_template\\wel_cst_inst7_constant.csv.tpl'\n"
     ]
    },
    {
     "name": "stdout",
     "output_type": "stream",
     "text": [
      "2022-03-15 15:50:57.726351 finished: writing list-style template file 'freyberg6_template\\wel_cst_inst7_constant.csv.tpl' took: 0:00:00.012998\n"
     ]
    },
    {
     "name": "stdout",
     "output_type": "stream",
     "text": [
      "2022-03-15 15:50:57.735293 finished: adding constant type m style parameters for file(s) ['freyberg6.wel_stress_period_data_16.txt'] took: 0:00:00.025892\n",
      "2022-03-15 15:50:57.735293 starting: adding grid type m style parameters for file(s) ['freyberg6.wel_stress_period_data_16.txt']\n",
      "2022-03-15 15:50:57.736292 starting: loading list-style freyberg6_template\\freyberg6.wel_stress_period_data_16.txt\n",
      "2022-03-15 15:50:57.736292 starting: reading list-style file: freyberg6_template\\freyberg6.wel_stress_period_data_16.txt\n",
      "2022-03-15 15:50:57.737320 finished: reading list-style file: freyberg6_template\\freyberg6.wel_stress_period_data_16.txt took: 0:00:00.001028\n",
      "2022-03-15 15:50:57.738329 loaded list-style 'freyberg6_template\\freyberg6.wel_stress_period_data_16.txt' of shape (6, 4)\n",
      "2022-03-15 15:50:57.739326 finished: loading list-style freyberg6_template\\freyberg6.wel_stress_period_data_16.txt took: 0:00:00.003034\n",
      "2022-03-15 15:50:57.739326 starting: writing list-style template file 'freyberg6_template\\wel_grd_inst7_grid.csv.tpl'\n",
      "2022-03-15 15:50:57.753247 finished: writing list-style template file 'freyberg6_template\\wel_grd_inst7_grid.csv.tpl' took: 0:00:00.013921\n",
      "2022-03-15 15:50:57.761225 finished: adding grid type m style parameters for file(s) ['freyberg6.wel_stress_period_data_16.txt'] took: 0:00:00.025932\n"
     ]
    },
    {
     "name": "stdout",
     "output_type": "stream",
     "text": [
      "2022-03-15 15:50:57.762257 starting: adding constant type m style parameters for file(s) ['freyberg6.wel_stress_period_data_17.txt']\n",
      "2022-03-15 15:50:57.762257 starting: loading list-style freyberg6_template\\freyberg6.wel_stress_period_data_17.txt\n",
      "2022-03-15 15:50:57.762257 starting: reading list-style file: freyberg6_template\\freyberg6.wel_stress_period_data_17.txt\n",
      "2022-03-15 15:50:57.765214 finished: reading list-style file: freyberg6_template\\freyberg6.wel_stress_period_data_17.txt took: 0:00:00.002957\n",
      "2022-03-15 15:50:57.765214 loaded list-style 'freyberg6_template\\freyberg6.wel_stress_period_data_17.txt' of shape (6, 4)\n",
      "2022-03-15 15:50:57.767097 finished: loading list-style freyberg6_template\\freyberg6.wel_stress_period_data_17.txt took: 0:00:00.004840\n",
      "2022-03-15 15:50:57.767097 starting: writing list-style template file 'freyberg6_template\\wel_cst_inst8_constant.csv.tpl'\n",
      "2022-03-15 15:50:57.780091 finished: writing list-style template file 'freyberg6_template\\wel_cst_inst8_constant.csv.tpl' took: 0:00:00.012994\n",
      "2022-03-15 15:50:57.788096 finished: adding constant type m style parameters for file(s) ['freyberg6.wel_stress_period_data_17.txt'] took: 0:00:00.025839\n",
      "2022-03-15 15:50:57.789103 starting: adding grid type m style parameters for file(s) ['freyberg6.wel_stress_period_data_17.txt']\n",
      "2022-03-15 15:50:57.789103 starting: loading list-style freyberg6_template\\freyberg6.wel_stress_period_data_17.txt\n",
      "2022-03-15 15:50:57.789103 starting: reading list-style file: freyberg6_template\\freyberg6.wel_stress_period_data_17.txt\n",
      "2022-03-15 15:50:57.790095 finished: reading list-style file: freyberg6_template\\freyberg6.wel_stress_period_data_17.txt took: 0:00:00.000992\n",
      "2022-03-15 15:50:57.791088 loaded list-style 'freyberg6_template\\freyberg6.wel_stress_period_data_17.txt' of shape (6, 4)\n",
      "2022-03-15 15:50:57.791088 finished: loading list-style freyberg6_template\\freyberg6.wel_stress_period_data_17.txt took: 0:00:00.001985\n",
      "2022-03-15 15:50:57.792033 starting: writing list-style template file 'freyberg6_template\\wel_grd_inst8_grid.csv.tpl'\n",
      "2022-03-15 15:50:57.804998 finished: writing list-style template file 'freyberg6_template\\wel_grd_inst8_grid.csv.tpl' took: 0:00:00.012965\n",
      "2022-03-15 15:50:57.813029 finished: adding grid type m style parameters for file(s) ['freyberg6.wel_stress_period_data_17.txt'] took: 0:00:00.023926\n"
     ]
    },
    {
     "name": "stdout",
     "output_type": "stream",
     "text": [
      "2022-03-15 15:50:57.814026 starting: adding constant type m style parameters for file(s) ['freyberg6.wel_stress_period_data_18.txt']\n",
      "2022-03-15 15:50:57.814026 starting: loading list-style freyberg6_template\\freyberg6.wel_stress_period_data_18.txt\n",
      "2022-03-15 15:50:57.814026 starting: reading list-style file: freyberg6_template\\freyberg6.wel_stress_period_data_18.txt\n",
      "2022-03-15 15:50:57.817000 finished: reading list-style file: freyberg6_template\\freyberg6.wel_stress_period_data_18.txt took: 0:00:00.002974\n",
      "2022-03-15 15:50:57.817000 loaded list-style 'freyberg6_template\\freyberg6.wel_stress_period_data_18.txt' of shape (6, 4)\n",
      "2022-03-15 15:50:57.817964 finished: loading list-style freyberg6_template\\freyberg6.wel_stress_period_data_18.txt took: 0:00:00.003938\n",
      "2022-03-15 15:50:57.817964 starting: writing list-style template file 'freyberg6_template\\wel_cst_inst9_constant.csv.tpl'\n",
      "2022-03-15 15:50:57.830954 finished: writing list-style template file 'freyberg6_template\\wel_cst_inst9_constant.csv.tpl' took: 0:00:00.012990\n",
      "2022-03-15 15:50:57.839939 finished: adding constant type m style parameters for file(s) ['freyberg6.wel_stress_period_data_18.txt'] took: 0:00:00.025913\n",
      "2022-03-15 15:50:57.839939 starting: adding grid type m style parameters for file(s) ['freyberg6.wel_stress_period_data_18.txt']\n",
      "2022-03-15 15:50:57.839939 starting: loading list-style freyberg6_template\\freyberg6.wel_stress_period_data_18.txt\n",
      "2022-03-15 15:50:57.839939 starting: reading list-style file: freyberg6_template\\freyberg6.wel_stress_period_data_18.txt\n",
      "2022-03-15 15:50:57.841933 finished: reading list-style file: freyberg6_template\\freyberg6.wel_stress_period_data_18.txt took: 0:00:00.001994\n",
      "2022-03-15 15:50:57.841933 loaded list-style 'freyberg6_template\\freyberg6.wel_stress_period_data_18.txt' of shape (6, 4)\n",
      "2022-03-15 15:50:57.842931 finished: loading list-style freyberg6_template\\freyberg6.wel_stress_period_data_18.txt took: 0:00:00.002992\n",
      "2022-03-15 15:50:57.842931 starting: writing list-style template file 'freyberg6_template\\wel_grd_inst9_grid.csv.tpl'\n",
      "2022-03-15 15:50:57.856884 finished: writing list-style template file 'freyberg6_template\\wel_grd_inst9_grid.csv.tpl' took: 0:00:00.013953\n"
     ]
    },
    {
     "name": "stdout",
     "output_type": "stream",
     "text": [
      "2022-03-15 15:50:57.865860 finished: adding grid type m style parameters for file(s) ['freyberg6.wel_stress_period_data_18.txt'] took: 0:00:00.025921\n",
      "2022-03-15 15:50:57.865860 starting: adding constant type m style parameters for file(s) ['freyberg6.wel_stress_period_data_19.txt']\n",
      "2022-03-15 15:50:57.866858 starting: loading list-style freyberg6_template\\freyberg6.wel_stress_period_data_19.txt\n",
      "2022-03-15 15:50:57.866858 starting: reading list-style file: freyberg6_template\\freyberg6.wel_stress_period_data_19.txt\n",
      "2022-03-15 15:50:57.868870 finished: reading list-style file: freyberg6_template\\freyberg6.wel_stress_period_data_19.txt took: 0:00:00.002012\n",
      "2022-03-15 15:50:57.869868 loaded list-style 'freyberg6_template\\freyberg6.wel_stress_period_data_19.txt' of shape (6, 4)\n",
      "2022-03-15 15:50:57.870866 finished: loading list-style freyberg6_template\\freyberg6.wel_stress_period_data_19.txt took: 0:00:00.004008\n",
      "2022-03-15 15:50:57.870866 starting: writing list-style template file 'freyberg6_template\\wel_cst_inst10_constant.csv.tpl'\n",
      "2022-03-15 15:50:57.883978 finished: writing list-style template file 'freyberg6_template\\wel_cst_inst10_constant.csv.tpl' took: 0:00:00.013112\n",
      "2022-03-15 15:50:57.892009 finished: adding constant type m style parameters for file(s) ['freyberg6.wel_stress_period_data_19.txt'] took: 0:00:00.026149\n",
      "2022-03-15 15:50:57.892009 starting: adding grid type m style parameters for file(s) ['freyberg6.wel_stress_period_data_19.txt']\n",
      "2022-03-15 15:50:57.893008 starting: loading list-style freyberg6_template\\freyberg6.wel_stress_period_data_19.txt\n",
      "2022-03-15 15:50:57.893008 starting: reading list-style file: freyberg6_template\\freyberg6.wel_stress_period_data_19.txt\n",
      "2022-03-15 15:50:57.894004 finished: reading list-style file: freyberg6_template\\freyberg6.wel_stress_period_data_19.txt took: 0:00:00.000996\n",
      "2022-03-15 15:50:57.894004 loaded list-style 'freyberg6_template\\freyberg6.wel_stress_period_data_19.txt' of shape (6, 4)\n",
      "2022-03-15 15:50:57.894949 finished: loading list-style freyberg6_template\\freyberg6.wel_stress_period_data_19.txt took: 0:00:00.001941\n",
      "2022-03-15 15:50:57.895947 starting: writing list-style template file 'freyberg6_template\\wel_grd_inst10_grid.csv.tpl'\n",
      "2022-03-15 15:50:57.908946 finished: writing list-style template file 'freyberg6_template\\wel_grd_inst10_grid.csv.tpl' took: 0:00:00.012999\n"
     ]
    },
    {
     "name": "stdout",
     "output_type": "stream",
     "text": [
      "2022-03-15 15:50:57.917888 finished: adding grid type m style parameters for file(s) ['freyberg6.wel_stress_period_data_19.txt'] took: 0:00:00.025879\n",
      "2022-03-15 15:50:57.917888 starting: adding constant type m style parameters for file(s) ['freyberg6.wel_stress_period_data_2.txt']\n",
      "2022-03-15 15:50:57.918919 starting: loading list-style freyberg6_template\\freyberg6.wel_stress_period_data_2.txt\n",
      "2022-03-15 15:50:57.918919 starting: reading list-style file: freyberg6_template\\freyberg6.wel_stress_period_data_2.txt\n",
      "2022-03-15 15:50:57.921910 finished: reading list-style file: freyberg6_template\\freyberg6.wel_stress_period_data_2.txt took: 0:00:00.002991\n",
      "2022-03-15 15:50:57.921910 loaded list-style 'freyberg6_template\\freyberg6.wel_stress_period_data_2.txt' of shape (6, 4)\n",
      "2022-03-15 15:50:57.922875 finished: loading list-style freyberg6_template\\freyberg6.wel_stress_period_data_2.txt took: 0:00:00.003956\n",
      "2022-03-15 15:50:57.922875 starting: writing list-style template file 'freyberg6_template\\wel_cst_inst11_constant.csv.tpl'\n",
      "2022-03-15 15:50:57.935865 finished: writing list-style template file 'freyberg6_template\\wel_cst_inst11_constant.csv.tpl' took: 0:00:00.012990\n",
      "2022-03-15 15:50:57.943872 finished: adding constant type m style parameters for file(s) ['freyberg6.wel_stress_period_data_2.txt'] took: 0:00:00.025984\n",
      "2022-03-15 15:50:57.943872 starting: adding grid type m style parameters for file(s) ['freyberg6.wel_stress_period_data_2.txt']\n",
      "2022-03-15 15:50:57.943872 starting: loading list-style freyberg6_template\\freyberg6.wel_stress_period_data_2.txt\n",
      "2022-03-15 15:50:57.944816 starting: reading list-style file: freyberg6_template\\freyberg6.wel_stress_period_data_2.txt\n",
      "2022-03-15 15:50:57.946811 finished: reading list-style file: freyberg6_template\\freyberg6.wel_stress_period_data_2.txt took: 0:00:00.001995\n",
      "2022-03-15 15:50:57.946811 loaded list-style 'freyberg6_template\\freyberg6.wel_stress_period_data_2.txt' of shape (6, 4)\n",
      "2022-03-15 15:50:57.946811 finished: loading list-style freyberg6_template\\freyberg6.wel_stress_period_data_2.txt took: 0:00:00.002939\n",
      "2022-03-15 15:50:57.947812 starting: writing list-style template file 'freyberg6_template\\wel_grd_inst11_grid.csv.tpl'\n"
     ]
    },
    {
     "name": "stdout",
     "output_type": "stream",
     "text": [
      "2022-03-15 15:50:57.960806 finished: writing list-style template file 'freyberg6_template\\wel_grd_inst11_grid.csv.tpl' took: 0:00:00.012994\n",
      "2022-03-15 15:50:57.969784 finished: adding grid type m style parameters for file(s) ['freyberg6.wel_stress_period_data_2.txt'] took: 0:00:00.025912\n",
      "2022-03-15 15:50:57.969784 starting: adding constant type m style parameters for file(s) ['freyberg6.wel_stress_period_data_20.txt']\n",
      "2022-03-15 15:50:57.970781 starting: loading list-style freyberg6_template\\freyberg6.wel_stress_period_data_20.txt\n",
      "2022-03-15 15:50:57.970781 starting: reading list-style file: freyberg6_template\\freyberg6.wel_stress_period_data_20.txt\n",
      "2022-03-15 15:50:57.973792 finished: reading list-style file: freyberg6_template\\freyberg6.wel_stress_period_data_20.txt took: 0:00:00.003011\n",
      "2022-03-15 15:50:57.973792 loaded list-style 'freyberg6_template\\freyberg6.wel_stress_period_data_20.txt' of shape (6, 4)\n",
      "2022-03-15 15:50:57.974752 finished: loading list-style freyberg6_template\\freyberg6.wel_stress_period_data_20.txt took: 0:00:00.003971\n",
      "2022-03-15 15:50:57.974752 starting: writing list-style template file 'freyberg6_template\\wel_cst_inst12_constant.csv.tpl'\n",
      "2022-03-15 15:50:57.988295 finished: writing list-style template file 'freyberg6_template\\wel_cst_inst12_constant.csv.tpl' took: 0:00:00.013543\n",
      "2022-03-15 15:50:57.997271 finished: adding constant type m style parameters for file(s) ['freyberg6.wel_stress_period_data_20.txt'] took: 0:00:00.027487\n"
     ]
    },
    {
     "name": "stdout",
     "output_type": "stream",
     "text": [
      "2022-03-15 15:50:57.997271 starting: adding grid type m style parameters for file(s) ['freyberg6.wel_stress_period_data_20.txt']\n",
      "2022-03-15 15:50:57.997271 starting: loading list-style freyberg6_template\\freyberg6.wel_stress_period_data_20.txt\n",
      "2022-03-15 15:50:57.997271 starting: reading list-style file: freyberg6_template\\freyberg6.wel_stress_period_data_20.txt\n",
      "2022-03-15 15:50:58.000263 finished: reading list-style file: freyberg6_template\\freyberg6.wel_stress_period_data_20.txt took: 0:00:00.002992\n",
      "2022-03-15 15:50:58.000263 loaded list-style 'freyberg6_template\\freyberg6.wel_stress_period_data_20.txt' of shape (6, 4)\n",
      "2022-03-15 15:50:58.001263 finished: loading list-style freyberg6_template\\freyberg6.wel_stress_period_data_20.txt took: 0:00:00.003992\n",
      "2022-03-15 15:50:58.001263 starting: writing list-style template file 'freyberg6_template\\wel_grd_inst12_grid.csv.tpl'\n",
      "2022-03-15 15:50:58.014229 finished: writing list-style template file 'freyberg6_template\\wel_grd_inst12_grid.csv.tpl' took: 0:00:00.012966\n",
      "2022-03-15 15:50:58.022207 finished: adding grid type m style parameters for file(s) ['freyberg6.wel_stress_period_data_20.txt'] took: 0:00:00.024936\n",
      "2022-03-15 15:50:58.023204 starting: adding constant type m style parameters for file(s) ['freyberg6.wel_stress_period_data_21.txt']\n",
      "2022-03-15 15:50:58.023204 starting: loading list-style freyberg6_template\\freyberg6.wel_stress_period_data_21.txt\n",
      "2022-03-15 15:50:58.023204 starting: reading list-style file: freyberg6_template\\freyberg6.wel_stress_period_data_21.txt\n",
      "2022-03-15 15:50:58.027211 finished: reading list-style file: freyberg6_template\\freyberg6.wel_stress_period_data_21.txt took: 0:00:00.004007\n",
      "2022-03-15 15:50:58.027211 loaded list-style 'freyberg6_template\\freyberg6.wel_stress_period_data_21.txt' of shape (6, 4)\n",
      "2022-03-15 15:50:58.028156 finished: loading list-style freyberg6_template\\freyberg6.wel_stress_period_data_21.txt took: 0:00:00.004952\n",
      "2022-03-15 15:50:58.028156 starting: writing list-style template file 'freyberg6_template\\wel_cst_inst13_constant.csv.tpl'\n",
      "2022-03-15 15:50:58.041156 finished: writing list-style template file 'freyberg6_template\\wel_cst_inst13_constant.csv.tpl' took: 0:00:00.013000\n"
     ]
    },
    {
     "name": "stdout",
     "output_type": "stream",
     "text": [
      "2022-03-15 15:50:58.050098 finished: adding constant type m style parameters for file(s) ['freyberg6.wel_stress_period_data_21.txt'] took: 0:00:00.026894\n",
      "2022-03-15 15:50:58.050098 starting: adding grid type m style parameters for file(s) ['freyberg6.wel_stress_period_data_21.txt']\n",
      "2022-03-15 15:50:58.051131 starting: loading list-style freyberg6_template\\freyberg6.wel_stress_period_data_21.txt\n",
      "2022-03-15 15:50:58.051131 starting: reading list-style file: freyberg6_template\\freyberg6.wel_stress_period_data_21.txt\n",
      "2022-03-15 15:50:58.052144 finished: reading list-style file: freyberg6_template\\freyberg6.wel_stress_period_data_21.txt took: 0:00:00.001013\n",
      "2022-03-15 15:50:58.053146 loaded list-style 'freyberg6_template\\freyberg6.wel_stress_period_data_21.txt' of shape (6, 4)\n",
      "2022-03-15 15:50:58.054142 finished: loading list-style freyberg6_template\\freyberg6.wel_stress_period_data_21.txt took: 0:00:00.003011\n",
      "2022-03-15 15:50:58.054142 starting: writing list-style template file 'freyberg6_template\\wel_grd_inst13_grid.csv.tpl'\n",
      "2022-03-15 15:50:58.067086 finished: writing list-style template file 'freyberg6_template\\wel_grd_inst13_grid.csv.tpl' took: 0:00:00.012944\n",
      "2022-03-15 15:50:58.076028 finished: adding grid type m style parameters for file(s) ['freyberg6.wel_stress_period_data_21.txt'] took: 0:00:00.025930\n",
      "2022-03-15 15:50:58.076028 starting: adding constant type m style parameters for file(s) ['freyberg6.wel_stress_period_data_22.txt']\n",
      "2022-03-15 15:50:58.076028 starting: loading list-style freyberg6_template\\freyberg6.wel_stress_period_data_22.txt\n",
      "2022-03-15 15:50:58.076028 starting: reading list-style file: freyberg6_template\\freyberg6.wel_stress_period_data_22.txt\n",
      "2022-03-15 15:50:58.079021 finished: reading list-style file: freyberg6_template\\freyberg6.wel_stress_period_data_22.txt took: 0:00:00.002993\n",
      "2022-03-15 15:50:58.079021 loaded list-style 'freyberg6_template\\freyberg6.wel_stress_period_data_22.txt' of shape (6, 4)\n",
      "2022-03-15 15:50:58.080050 finished: loading list-style freyberg6_template\\freyberg6.wel_stress_period_data_22.txt took: 0:00:00.004022\n",
      "2022-03-15 15:50:58.080050 starting: writing list-style template file 'freyberg6_template\\wel_cst_inst14_constant.csv.tpl'\n",
      "2022-03-15 15:50:58.093015 finished: writing list-style template file 'freyberg6_template\\wel_cst_inst14_constant.csv.tpl' took: 0:00:00.012965\n",
      "2022-03-15 15:50:58.101994 finished: adding constant type m style parameters for file(s) ['freyberg6.wel_stress_period_data_22.txt'] took: 0:00:00.025966\n",
      "2022-03-15 15:50:58.101994 starting: adding grid type m style parameters for file(s) ['freyberg6.wel_stress_period_data_22.txt']\n",
      "2022-03-15 15:50:58.102990 starting: loading list-style freyberg6_template\\freyberg6.wel_stress_period_data_22.txt\n",
      "2022-03-15 15:50:58.102990 starting: reading list-style file: freyberg6_template\\freyberg6.wel_stress_period_data_22.txt\n",
      "2022-03-15 15:50:58.103987 finished: reading list-style file: freyberg6_template\\freyberg6.wel_stress_period_data_22.txt took: 0:00:00.000997\n"
     ]
    },
    {
     "name": "stdout",
     "output_type": "stream",
     "text": [
      "2022-03-15 15:50:58.104951 loaded list-style 'freyberg6_template\\freyberg6.wel_stress_period_data_22.txt' of shape (6, 4)\n",
      "2022-03-15 15:50:58.105981 finished: loading list-style freyberg6_template\\freyberg6.wel_stress_period_data_22.txt took: 0:00:00.002991\n",
      "2022-03-15 15:50:58.105981 starting: writing list-style template file 'freyberg6_template\\wel_grd_inst14_grid.csv.tpl'\n",
      "2022-03-15 15:50:58.119971 finished: writing list-style template file 'freyberg6_template\\wel_grd_inst14_grid.csv.tpl' took: 0:00:00.013990\n",
      "2022-03-15 15:50:58.127915 finished: adding grid type m style parameters for file(s) ['freyberg6.wel_stress_period_data_22.txt'] took: 0:00:00.025921\n",
      "2022-03-15 15:50:58.127915 starting: adding constant type m style parameters for file(s) ['freyberg6.wel_stress_period_data_23.txt']\n",
      "2022-03-15 15:50:58.127915 starting: loading list-style freyberg6_template\\freyberg6.wel_stress_period_data_23.txt\n",
      "2022-03-15 15:50:58.128913 starting: reading list-style file: freyberg6_template\\freyberg6.wel_stress_period_data_23.txt\n",
      "2022-03-15 15:50:58.130941 finished: reading list-style file: freyberg6_template\\freyberg6.wel_stress_period_data_23.txt took: 0:00:00.002028\n",
      "2022-03-15 15:50:58.130941 loaded list-style 'freyberg6_template\\freyberg6.wel_stress_period_data_23.txt' of shape (6, 4)\n",
      "2022-03-15 15:50:58.131939 finished: loading list-style freyberg6_template\\freyberg6.wel_stress_period_data_23.txt took: 0:00:00.004024\n",
      "2022-03-15 15:50:58.132903 starting: writing list-style template file 'freyberg6_template\\wel_cst_inst15_constant.csv.tpl'\n",
      "2022-03-15 15:50:58.145902 finished: writing list-style template file 'freyberg6_template\\wel_cst_inst15_constant.csv.tpl' took: 0:00:00.012999\n",
      "2022-03-15 15:50:58.154843 finished: adding constant type m style parameters for file(s) ['freyberg6.wel_stress_period_data_23.txt'] took: 0:00:00.026928\n"
     ]
    },
    {
     "name": "stdout",
     "output_type": "stream",
     "text": [
      "2022-03-15 15:50:58.154843 starting: adding grid type m style parameters for file(s) ['freyberg6.wel_stress_period_data_23.txt']\n",
      "2022-03-15 15:50:58.154843 starting: loading list-style freyberg6_template\\freyberg6.wel_stress_period_data_23.txt\n",
      "2022-03-15 15:50:58.154843 starting: reading list-style file: freyberg6_template\\freyberg6.wel_stress_period_data_23.txt\n",
      "2022-03-15 15:50:58.156871 finished: reading list-style file: freyberg6_template\\freyberg6.wel_stress_period_data_23.txt took: 0:00:00.002028\n",
      "2022-03-15 15:50:58.156871 loaded list-style 'freyberg6_template\\freyberg6.wel_stress_period_data_23.txt' of shape (6, 4)\n",
      "2022-03-15 15:50:58.157873 finished: loading list-style freyberg6_template\\freyberg6.wel_stress_period_data_23.txt took: 0:00:00.003030\n",
      "2022-03-15 15:50:58.157873 starting: writing list-style template file 'freyberg6_template\\wel_grd_inst15_grid.csv.tpl'\n",
      "2022-03-15 15:50:58.172257 finished: writing list-style template file 'freyberg6_template\\wel_grd_inst15_grid.csv.tpl' took: 0:00:00.014384\n",
      "2022-03-15 15:50:58.180202 finished: adding grid type m style parameters for file(s) ['freyberg6.wel_stress_period_data_23.txt'] took: 0:00:00.025359\n",
      "2022-03-15 15:50:58.180202 starting: adding constant type m style parameters for file(s) ['freyberg6.wel_stress_period_data_24.txt']\n",
      "2022-03-15 15:50:58.180202 starting: loading list-style freyberg6_template\\freyberg6.wel_stress_period_data_24.txt\n",
      "2022-03-15 15:50:58.181233 starting: reading list-style file: freyberg6_template\\freyberg6.wel_stress_period_data_24.txt\n",
      "2022-03-15 15:50:58.184244 finished: reading list-style file: freyberg6_template\\freyberg6.wel_stress_period_data_24.txt took: 0:00:00.003011\n",
      "2022-03-15 15:50:58.184244 loaded list-style 'freyberg6_template\\freyberg6.wel_stress_period_data_24.txt' of shape (6, 4)\n"
     ]
    },
    {
     "name": "stdout",
     "output_type": "stream",
     "text": [
      "2022-03-15 15:50:58.185189 finished: loading list-style freyberg6_template\\freyberg6.wel_stress_period_data_24.txt took: 0:00:00.004987\n",
      "2022-03-15 15:50:58.185189 starting: writing list-style template file 'freyberg6_template\\wel_cst_inst16_constant.csv.tpl'\n",
      "2022-03-15 15:50:58.199185 finished: writing list-style template file 'freyberg6_template\\wel_cst_inst16_constant.csv.tpl' took: 0:00:00.013996\n",
      "2022-03-15 15:50:58.207169 finished: adding constant type m style parameters for file(s) ['freyberg6.wel_stress_period_data_24.txt'] took: 0:00:00.026967\n",
      "2022-03-15 15:50:58.208128 starting: adding grid type m style parameters for file(s) ['freyberg6.wel_stress_period_data_24.txt']\n",
      "2022-03-15 15:50:58.208128 starting: loading list-style freyberg6_template\\freyberg6.wel_stress_period_data_24.txt\n",
      "2022-03-15 15:50:58.208128 starting: reading list-style file: freyberg6_template\\freyberg6.wel_stress_period_data_24.txt\n",
      "2022-03-15 15:50:58.209157 finished: reading list-style file: freyberg6_template\\freyberg6.wel_stress_period_data_24.txt took: 0:00:00.001029\n",
      "2022-03-15 15:50:58.209157 loaded list-style 'freyberg6_template\\freyberg6.wel_stress_period_data_24.txt' of shape (6, 4)\n",
      "2022-03-15 15:50:58.210161 finished: loading list-style freyberg6_template\\freyberg6.wel_stress_period_data_24.txt took: 0:00:00.002033\n",
      "2022-03-15 15:50:58.210161 starting: writing list-style template file 'freyberg6_template\\wel_grd_inst16_grid.csv.tpl'\n",
      "2022-03-15 15:50:58.224119 finished: writing list-style template file 'freyberg6_template\\wel_grd_inst16_grid.csv.tpl' took: 0:00:00.013958\n"
     ]
    },
    {
     "name": "stdout",
     "output_type": "stream",
     "text": [
      "2022-03-15 15:50:58.233301 finished: adding grid type m style parameters for file(s) ['freyberg6.wel_stress_period_data_24.txt'] took: 0:00:00.025173\n",
      "2022-03-15 15:50:58.234110 starting: adding constant type m style parameters for file(s) ['freyberg6.wel_stress_period_data_25.txt']\n",
      "2022-03-15 15:50:58.234110 starting: loading list-style freyberg6_template\\freyberg6.wel_stress_period_data_25.txt\n",
      "2022-03-15 15:50:58.234110 starting: reading list-style file: freyberg6_template\\freyberg6.wel_stress_period_data_25.txt\n",
      "2022-03-15 15:50:58.237102 finished: reading list-style file: freyberg6_template\\freyberg6.wel_stress_period_data_25.txt took: 0:00:00.002992\n",
      "2022-03-15 15:50:58.237102 loaded list-style 'freyberg6_template\\freyberg6.wel_stress_period_data_25.txt' of shape (6, 4)\n",
      "2022-03-15 15:50:58.238047 finished: loading list-style freyberg6_template\\freyberg6.wel_stress_period_data_25.txt took: 0:00:00.003937\n",
      "2022-03-15 15:50:58.238047 starting: writing list-style template file 'freyberg6_template\\wel_cst_inst17_constant.csv.tpl'\n",
      "2022-03-15 15:50:58.251012 finished: writing list-style template file 'freyberg6_template\\wel_cst_inst17_constant.csv.tpl' took: 0:00:00.012965\n",
      "2022-03-15 15:50:58.259043 finished: adding constant type m style parameters for file(s) ['freyberg6.wel_stress_period_data_25.txt'] took: 0:00:00.024933\n",
      "2022-03-15 15:50:58.259043 starting: adding grid type m style parameters for file(s) ['freyberg6.wel_stress_period_data_25.txt']\n",
      "2022-03-15 15:50:58.259043 starting: loading list-style freyberg6_template\\freyberg6.wel_stress_period_data_25.txt\n",
      "2022-03-15 15:50:58.260022 starting: reading list-style file: freyberg6_template\\freyberg6.wel_stress_period_data_25.txt\n",
      "2022-03-15 15:50:58.261038 finished: reading list-style file: freyberg6_template\\freyberg6.wel_stress_period_data_25.txt took: 0:00:00.001016\n",
      "2022-03-15 15:50:58.261038 loaded list-style 'freyberg6_template\\freyberg6.wel_stress_period_data_25.txt' of shape (6, 4)\n",
      "2022-03-15 15:50:58.262016 finished: loading list-style freyberg6_template\\freyberg6.wel_stress_period_data_25.txt took: 0:00:00.002973\n",
      "2022-03-15 15:50:58.262016 starting: writing list-style template file 'freyberg6_template\\wel_grd_inst17_grid.csv.tpl'\n",
      "2022-03-15 15:50:58.275978 finished: writing list-style template file 'freyberg6_template\\wel_grd_inst17_grid.csv.tpl' took: 0:00:00.013962\n",
      "2022-03-15 15:50:58.283976 finished: adding grid type m style parameters for file(s) ['freyberg6.wel_stress_period_data_25.txt'] took: 0:00:00.024933\n",
      "2022-03-15 15:50:58.284922 starting: adding constant type m style parameters for file(s) ['freyberg6.wel_stress_period_data_3.txt']\n",
      "2022-03-15 15:50:58.284922 starting: loading list-style freyberg6_template\\freyberg6.wel_stress_period_data_3.txt\n",
      "2022-03-15 15:50:58.284922 starting: reading list-style file: freyberg6_template\\freyberg6.wel_stress_period_data_3.txt\n",
      "2022-03-15 15:50:58.286916 finished: reading list-style file: freyberg6_template\\freyberg6.wel_stress_period_data_3.txt took: 0:00:00.001994\n",
      "2022-03-15 15:50:58.286916 loaded list-style 'freyberg6_template\\freyberg6.wel_stress_period_data_3.txt' of shape (6, 4)\n",
      "2022-03-15 15:50:58.287956 finished: loading list-style freyberg6_template\\freyberg6.wel_stress_period_data_3.txt took: 0:00:00.003034\n",
      "2022-03-15 15:50:58.288911 starting: writing list-style template file 'freyberg6_template\\wel_cst_inst18_constant.csv.tpl'\n"
     ]
    },
    {
     "name": "stdout",
     "output_type": "stream",
     "text": [
      "2022-03-15 15:50:58.301910 finished: writing list-style template file 'freyberg6_template\\wel_cst_inst18_constant.csv.tpl' took: 0:00:00.012999\n",
      "2022-03-15 15:50:58.310853 finished: adding constant type m style parameters for file(s) ['freyberg6.wel_stress_period_data_3.txt'] took: 0:00:00.025931\n",
      "2022-03-15 15:50:58.310853 starting: adding grid type m style parameters for file(s) ['freyberg6.wel_stress_period_data_3.txt']\n",
      "2022-03-15 15:50:58.310853 starting: loading list-style freyberg6_template\\freyberg6.wel_stress_period_data_3.txt\n",
      "2022-03-15 15:50:58.310853 starting: reading list-style file: freyberg6_template\\freyberg6.wel_stress_period_data_3.txt\n",
      "2022-03-15 15:50:58.312847 finished: reading list-style file: freyberg6_template\\freyberg6.wel_stress_period_data_3.txt took: 0:00:00.001994\n",
      "2022-03-15 15:50:58.312847 loaded list-style 'freyberg6_template\\freyberg6.wel_stress_period_data_3.txt' of shape (6, 4)\n",
      "2022-03-15 15:50:58.313845 finished: loading list-style freyberg6_template\\freyberg6.wel_stress_period_data_3.txt took: 0:00:00.002992\n",
      "2022-03-15 15:50:58.314844 starting: writing list-style template file 'freyberg6_template\\wel_grd_inst18_grid.csv.tpl'\n",
      "2022-03-15 15:50:58.327833 finished: writing list-style template file 'freyberg6_template\\wel_grd_inst18_grid.csv.tpl' took: 0:00:00.012989\n",
      "2022-03-15 15:50:58.336809 finished: adding grid type m style parameters for file(s) ['freyberg6.wel_stress_period_data_3.txt'] took: 0:00:00.025956\n",
      "2022-03-15 15:50:58.336809 starting: adding constant type m style parameters for file(s) ['freyberg6.wel_stress_period_data_4.txt']\n",
      "2022-03-15 15:50:58.336809 starting: loading list-style freyberg6_template\\freyberg6.wel_stress_period_data_4.txt\n",
      "2022-03-15 15:50:58.337806 starting: reading list-style file: freyberg6_template\\freyberg6.wel_stress_period_data_4.txt\n"
     ]
    },
    {
     "name": "stdout",
     "output_type": "stream",
     "text": [
      "2022-03-15 15:50:58.339820 finished: reading list-style file: freyberg6_template\\freyberg6.wel_stress_period_data_4.txt took: 0:00:00.002014\n",
      "2022-03-15 15:50:58.339820 loaded list-style 'freyberg6_template\\freyberg6.wel_stress_period_data_4.txt' of shape (6, 4)\n",
      "2022-03-15 15:50:58.341770 finished: loading list-style freyberg6_template\\freyberg6.wel_stress_period_data_4.txt took: 0:00:00.004961\n",
      "2022-03-15 15:50:58.341770 starting: writing list-style template file 'freyberg6_template\\wel_cst_inst19_constant.csv.tpl'\n",
      "2022-03-15 15:50:58.355765 finished: writing list-style template file 'freyberg6_template\\wel_cst_inst19_constant.csv.tpl' took: 0:00:00.013995\n",
      "2022-03-15 15:50:58.363745 finished: adding constant type m style parameters for file(s) ['freyberg6.wel_stress_period_data_4.txt'] took: 0:00:00.026936\n",
      "2022-03-15 15:50:58.364743 starting: adding grid type m style parameters for file(s) ['freyberg6.wel_stress_period_data_4.txt']\n",
      "2022-03-15 15:50:58.364743 starting: loading list-style freyberg6_template\\freyberg6.wel_stress_period_data_4.txt\n",
      "2022-03-15 15:50:58.364743 starting: reading list-style file: freyberg6_template\\freyberg6.wel_stress_period_data_4.txt\n",
      "2022-03-15 15:50:58.366703 finished: reading list-style file: freyberg6_template\\freyberg6.wel_stress_period_data_4.txt took: 0:00:00.001960\n",
      "2022-03-15 15:50:58.366703 loaded list-style 'freyberg6_template\\freyberg6.wel_stress_period_data_4.txt' of shape (6, 4)\n",
      "2022-03-15 15:50:58.367736 finished: loading list-style freyberg6_template\\freyberg6.wel_stress_period_data_4.txt took: 0:00:00.002993\n",
      "2022-03-15 15:50:58.367736 starting: writing list-style template file 'freyberg6_template\\wel_grd_inst19_grid.csv.tpl'\n"
     ]
    },
    {
     "name": "stdout",
     "output_type": "stream",
     "text": [
      "2022-03-15 15:50:58.381696 finished: writing list-style template file 'freyberg6_template\\wel_grd_inst19_grid.csv.tpl' took: 0:00:00.013960\n",
      "2022-03-15 15:50:58.390679 finished: adding grid type m style parameters for file(s) ['freyberg6.wel_stress_period_data_4.txt'] took: 0:00:00.025936\n",
      "2022-03-15 15:50:58.390679 starting: adding constant type m style parameters for file(s) ['freyberg6.wel_stress_period_data_5.txt']\n",
      "2022-03-15 15:50:58.390679 starting: loading list-style freyberg6_template\\freyberg6.wel_stress_period_data_5.txt\n",
      "2022-03-15 15:50:58.390679 starting: reading list-style file: freyberg6_template\\freyberg6.wel_stress_period_data_5.txt\n",
      "2022-03-15 15:50:58.393686 finished: reading list-style file: freyberg6_template\\freyberg6.wel_stress_period_data_5.txt took: 0:00:00.003007\n",
      "2022-03-15 15:50:58.393686 loaded list-style 'freyberg6_template\\freyberg6.wel_stress_period_data_5.txt' of shape (6, 4)\n",
      "2022-03-15 15:50:58.394629 finished: loading list-style freyberg6_template\\freyberg6.wel_stress_period_data_5.txt took: 0:00:00.003950\n",
      "2022-03-15 15:50:58.394629 starting: writing list-style template file 'freyberg6_template\\wel_cst_inst20_constant.csv.tpl'\n",
      "2022-03-15 15:50:58.408200 finished: writing list-style template file 'freyberg6_template\\wel_cst_inst20_constant.csv.tpl' took: 0:00:00.013571\n",
      "2022-03-15 15:50:58.417194 finished: adding constant type m style parameters for file(s) ['freyberg6.wel_stress_period_data_5.txt'] took: 0:00:00.026515\n"
     ]
    },
    {
     "name": "stdout",
     "output_type": "stream",
     "text": [
      "2022-03-15 15:50:58.417194 starting: adding grid type m style parameters for file(s) ['freyberg6.wel_stress_period_data_5.txt']\n",
      "2022-03-15 15:50:58.418141 starting: loading list-style freyberg6_template\\freyberg6.wel_stress_period_data_5.txt\n",
      "2022-03-15 15:50:58.418141 starting: reading list-style file: freyberg6_template\\freyberg6.wel_stress_period_data_5.txt\n",
      "2022-03-15 15:50:58.419173 finished: reading list-style file: freyberg6_template\\freyberg6.wel_stress_period_data_5.txt took: 0:00:00.001032\n",
      "2022-03-15 15:50:58.420198 loaded list-style 'freyberg6_template\\freyberg6.wel_stress_period_data_5.txt' of shape (6, 4)\n",
      "2022-03-15 15:50:58.420198 finished: loading list-style freyberg6_template\\freyberg6.wel_stress_period_data_5.txt took: 0:00:00.002057\n",
      "2022-03-15 15:50:58.421134 starting: writing list-style template file 'freyberg6_template\\wel_grd_inst20_grid.csv.tpl'\n",
      "2022-03-15 15:50:58.434100 finished: writing list-style template file 'freyberg6_template\\wel_grd_inst20_grid.csv.tpl' took: 0:00:00.012966\n",
      "2022-03-15 15:50:58.443125 finished: adding grid type m style parameters for file(s) ['freyberg6.wel_stress_period_data_5.txt'] took: 0:00:00.025931\n",
      "2022-03-15 15:50:58.443125 starting: adding constant type m style parameters for file(s) ['freyberg6.wel_stress_period_data_6.txt']\n",
      "2022-03-15 15:50:58.443125 starting: loading list-style freyberg6_template\\freyberg6.wel_stress_period_data_6.txt\n",
      "2022-03-15 15:50:58.443125 starting: reading list-style file: freyberg6_template\\freyberg6.wel_stress_period_data_6.txt\n",
      "2022-03-15 15:50:58.446066 finished: reading list-style file: freyberg6_template\\freyberg6.wel_stress_period_data_6.txt took: 0:00:00.002941\n",
      "2022-03-15 15:50:58.446066 loaded list-style 'freyberg6_template\\freyberg6.wel_stress_period_data_6.txt' of shape (6, 4)\n",
      "2022-03-15 15:50:58.447064 finished: loading list-style freyberg6_template\\freyberg6.wel_stress_period_data_6.txt took: 0:00:00.003939\n",
      "2022-03-15 15:50:58.448061 starting: writing list-style template file 'freyberg6_template\\wel_cst_inst21_constant.csv.tpl'\n",
      "2022-03-15 15:50:58.460172 finished: writing list-style template file 'freyberg6_template\\wel_cst_inst21_constant.csv.tpl' took: 0:00:00.012111\n",
      "2022-03-15 15:50:58.469148 finished: adding constant type m style parameters for file(s) ['freyberg6.wel_stress_period_data_6.txt'] took: 0:00:00.026023\n",
      "2022-03-15 15:50:58.470197 starting: adding grid type m style parameters for file(s) ['freyberg6.wel_stress_period_data_6.txt']\n",
      "2022-03-15 15:50:58.470197 starting: loading list-style freyberg6_template\\freyberg6.wel_stress_period_data_6.txt\n",
      "2022-03-15 15:50:58.470197 starting: reading list-style file: freyberg6_template\\freyberg6.wel_stress_period_data_6.txt\n",
      "2022-03-15 15:50:58.472192 finished: reading list-style file: freyberg6_template\\freyberg6.wel_stress_period_data_6.txt took: 0:00:00.001995\n",
      "2022-03-15 15:50:58.472192 loaded list-style 'freyberg6_template\\freyberg6.wel_stress_period_data_6.txt' of shape (6, 4)\n",
      "2022-03-15 15:50:58.472192 finished: loading list-style freyberg6_template\\freyberg6.wel_stress_period_data_6.txt took: 0:00:00.001995\n",
      "2022-03-15 15:50:58.473160 starting: writing list-style template file 'freyberg6_template\\wel_grd_inst21_grid.csv.tpl'\n",
      "2022-03-15 15:50:58.486136 finished: writing list-style template file 'freyberg6_template\\wel_grd_inst21_grid.csv.tpl' took: 0:00:00.012976\n",
      "2022-03-15 15:50:58.495078 finished: adding grid type m style parameters for file(s) ['freyberg6.wel_stress_period_data_6.txt'] took: 0:00:00.024881\n",
      "2022-03-15 15:50:58.495078 starting: adding constant type m style parameters for file(s) ['freyberg6.wel_stress_period_data_7.txt']\n",
      "2022-03-15 15:50:58.495078 starting: loading list-style freyberg6_template\\freyberg6.wel_stress_period_data_7.txt\n"
     ]
    },
    {
     "name": "stdout",
     "output_type": "stream",
     "text": [
      "2022-03-15 15:50:58.495078 starting: reading list-style file: freyberg6_template\\freyberg6.wel_stress_period_data_7.txt\n",
      "2022-03-15 15:50:58.501113 finished: reading list-style file: freyberg6_template\\freyberg6.wel_stress_period_data_7.txt took: 0:00:00.006035\n",
      "2022-03-15 15:50:58.501113 loaded list-style 'freyberg6_template\\freyberg6.wel_stress_period_data_7.txt' of shape (6, 4)\n",
      "2022-03-15 15:50:58.502095 finished: loading list-style freyberg6_template\\freyberg6.wel_stress_period_data_7.txt took: 0:00:00.007017\n",
      "2022-03-15 15:50:58.503057 starting: writing list-style template file 'freyberg6_template\\wel_cst_inst22_constant.csv.tpl'\n",
      "2022-03-15 15:50:58.516110 finished: writing list-style template file 'freyberg6_template\\wel_cst_inst22_constant.csv.tpl' took: 0:00:00.013053\n",
      "2022-03-15 15:50:58.525052 finished: adding constant type m style parameters for file(s) ['freyberg6.wel_stress_period_data_7.txt'] took: 0:00:00.029974\n",
      "2022-03-15 15:50:58.525052 starting: adding grid type m style parameters for file(s) ['freyberg6.wel_stress_period_data_7.txt']\n",
      "2022-03-15 15:50:58.525052 starting: loading list-style freyberg6_template\\freyberg6.wel_stress_period_data_7.txt\n"
     ]
    },
    {
     "name": "stdout",
     "output_type": "stream",
     "text": [
      "2022-03-15 15:50:58.525052 starting: reading list-style file: freyberg6_template\\freyberg6.wel_stress_period_data_7.txt\n",
      "2022-03-15 15:50:58.526090 finished: reading list-style file: freyberg6_template\\freyberg6.wel_stress_period_data_7.txt took: 0:00:00.001038\n",
      "2022-03-15 15:50:58.527090 loaded list-style 'freyberg6_template\\freyberg6.wel_stress_period_data_7.txt' of shape (6, 4)\n",
      "2022-03-15 15:50:58.528077 finished: loading list-style freyberg6_template\\freyberg6.wel_stress_period_data_7.txt took: 0:00:00.003025\n",
      "2022-03-15 15:50:58.528077 starting: writing list-style template file 'freyberg6_template\\wel_grd_inst22_grid.csv.tpl'\n",
      "2022-03-15 15:50:58.542238 finished: writing list-style template file 'freyberg6_template\\wel_grd_inst22_grid.csv.tpl' took: 0:00:00.014161\n",
      "2022-03-15 15:50:58.551216 finished: adding grid type m style parameters for file(s) ['freyberg6.wel_stress_period_data_7.txt'] took: 0:00:00.026164\n",
      "2022-03-15 15:50:58.551216 starting: adding constant type m style parameters for file(s) ['freyberg6.wel_stress_period_data_8.txt']\n",
      "2022-03-15 15:50:58.551216 starting: loading list-style freyberg6_template\\freyberg6.wel_stress_period_data_8.txt\n",
      "2022-03-15 15:50:58.551216 starting: reading list-style file: freyberg6_template\\freyberg6.wel_stress_period_data_8.txt\n",
      "2022-03-15 15:50:58.554224 finished: reading list-style file: freyberg6_template\\freyberg6.wel_stress_period_data_8.txt took: 0:00:00.003008\n",
      "2022-03-15 15:50:58.554224 loaded list-style 'freyberg6_template\\freyberg6.wel_stress_period_data_8.txt' of shape (6, 4)\n",
      "2022-03-15 15:50:58.555169 finished: loading list-style freyberg6_template\\freyberg6.wel_stress_period_data_8.txt took: 0:00:00.003953\n",
      "2022-03-15 15:50:58.555169 starting: writing list-style template file 'freyberg6_template\\wel_cst_inst23_constant.csv.tpl'\n",
      "2022-03-15 15:50:58.569780 finished: writing list-style template file 'freyberg6_template\\wel_cst_inst23_constant.csv.tpl' took: 0:00:00.014611\n",
      "2022-03-15 15:50:58.577760 finished: adding constant type m style parameters for file(s) ['freyberg6.wel_stress_period_data_8.txt'] took: 0:00:00.026544\n"
     ]
    },
    {
     "name": "stdout",
     "output_type": "stream",
     "text": [
      "2022-03-15 15:50:58.577760 starting: adding grid type m style parameters for file(s) ['freyberg6.wel_stress_period_data_8.txt']\n",
      "2022-03-15 15:50:58.577760 starting: loading list-style freyberg6_template\\freyberg6.wel_stress_period_data_8.txt\n",
      "2022-03-15 15:50:58.578704 starting: reading list-style file: freyberg6_template\\freyberg6.wel_stress_period_data_8.txt\n",
      "2022-03-15 15:50:58.579735 finished: reading list-style file: freyberg6_template\\freyberg6.wel_stress_period_data_8.txt took: 0:00:00.001031\n",
      "2022-03-15 15:50:58.579735 loaded list-style 'freyberg6_template\\freyberg6.wel_stress_period_data_8.txt' of shape (6, 4)\n",
      "2022-03-15 15:50:58.580741 finished: loading list-style freyberg6_template\\freyberg6.wel_stress_period_data_8.txt took: 0:00:00.002981\n",
      "2022-03-15 15:50:58.580741 starting: writing list-style template file 'freyberg6_template\\wel_grd_inst23_grid.csv.tpl'\n",
      "2022-03-15 15:50:58.594693 finished: writing list-style template file 'freyberg6_template\\wel_grd_inst23_grid.csv.tpl' took: 0:00:00.013952\n",
      "2022-03-15 15:50:58.603690 finished: adding grid type m style parameters for file(s) ['freyberg6.wel_stress_period_data_8.txt'] took: 0:00:00.025930\n",
      "2022-03-15 15:50:58.603690 starting: adding constant type m style parameters for file(s) ['freyberg6.wel_stress_period_data_9.txt']\n",
      "2022-03-15 15:50:58.603690 starting: loading list-style freyberg6_template\\freyberg6.wel_stress_period_data_9.txt\n"
     ]
    },
    {
     "name": "stdout",
     "output_type": "stream",
     "text": [
      "2022-03-15 15:50:58.604670 starting: reading list-style file: freyberg6_template\\freyberg6.wel_stress_period_data_9.txt\n",
      "2022-03-15 15:50:58.606682 finished: reading list-style file: freyberg6_template\\freyberg6.wel_stress_period_data_9.txt took: 0:00:00.002012\n",
      "2022-03-15 15:50:58.607679 loaded list-style 'freyberg6_template\\freyberg6.wel_stress_period_data_9.txt' of shape (6, 4)\n",
      "2022-03-15 15:50:58.608624 finished: loading list-style freyberg6_template\\freyberg6.wel_stress_period_data_9.txt took: 0:00:00.004934\n",
      "2022-03-15 15:50:58.608624 starting: writing list-style template file 'freyberg6_template\\wel_cst_inst24_constant.csv.tpl'\n",
      "2022-03-15 15:50:58.620626 finished: writing list-style template file 'freyberg6_template\\wel_cst_inst24_constant.csv.tpl' took: 0:00:00.012002\n",
      "2022-03-15 15:50:58.629600 finished: adding constant type m style parameters for file(s) ['freyberg6.wel_stress_period_data_9.txt'] took: 0:00:00.025910\n",
      "2022-03-15 15:50:58.630598 starting: adding grid type m style parameters for file(s) ['freyberg6.wel_stress_period_data_9.txt']\n",
      "2022-03-15 15:50:58.630598 starting: loading list-style freyberg6_template\\freyberg6.wel_stress_period_data_9.txt\n",
      "2022-03-15 15:50:58.630598 starting: reading list-style file: freyberg6_template\\freyberg6.wel_stress_period_data_9.txt\n",
      "2022-03-15 15:50:58.632646 finished: reading list-style file: freyberg6_template\\freyberg6.wel_stress_period_data_9.txt took: 0:00:00.002048\n",
      "2022-03-15 15:50:58.632646 loaded list-style 'freyberg6_template\\freyberg6.wel_stress_period_data_9.txt' of shape (6, 4)\n",
      "2022-03-15 15:50:58.633618 finished: loading list-style freyberg6_template\\freyberg6.wel_stress_period_data_9.txt took: 0:00:00.003020\n",
      "2022-03-15 15:50:58.633618 starting: writing list-style template file 'freyberg6_template\\wel_grd_inst24_grid.csv.tpl'\n",
      "2022-03-15 15:50:58.646556 finished: writing list-style template file 'freyberg6_template\\wel_grd_inst24_grid.csv.tpl' took: 0:00:00.012938\n",
      "2022-03-15 15:50:58.655532 finished: adding grid type m style parameters for file(s) ['freyberg6.wel_stress_period_data_9.txt'] took: 0:00:00.024934\n"
     ]
    }
   ],
   "source": [
    "files = [f for f in os.listdir(template_ws) if \"wel_stress_period_data\" in f and f.endswith(\".txt\")]\n",
    "\n",
    "for f in files:\n",
    "    # get the stress period number from the file name\n",
    "    kper = int(f.split('.')[1].split('_')[-1]) - 1  \n",
    "    \n",
    "    # add the constant parameters (with temporal correlation)\n",
    "    pf.add_parameters(filenames=f,\n",
    "                        index_cols=[0,1,2], #columns that specify cell location\n",
    "                        use_cols=[3],       #columns with parameter values\n",
    "                        par_type=\"constant\",    #each well will be adjustable\n",
    "                        par_name_base=\"wel_cst\",\n",
    "                        pargp=\"wel_cst\", \n",
    "                        upper_bound = 1.5, lower_bound=0.5,\n",
    "                        datetime=dts[kper], # this places the parameter value on the \"time axis\"\n",
    "                        geostruct=temporal_gs)\n",
    "    \n",
    "    # add the grid parameters; each individual well\n",
    "    pf.add_parameters(filenames=f,\n",
    "                        index_cols=[0,1,2], #columns that specify cell location \n",
    "                        use_cols=[3],       #columns with parameter values\n",
    "                        par_type=\"grid\",    #each well will be adjustable\n",
    "                        par_name_base=\"wel_grd\",\n",
    "                        pargp=\"wel_grd\", \n",
    "                        upper_bound = 1.5, lower_bound=0.5,\n",
    "                        datetime=dts[kper]) # this places the parameter value on the \"time axis\"\n",
    "                     "
   ]
  },
  {
   "cell_type": "markdown",
   "metadata": {},
   "source": [
    "And finally, our favourite (not!) boundary-condition: SFR.\n",
    "\n",
    "Let's parameterize conductance (time-invariant) and inflow (time-variant)."
   ]
  },
  {
   "cell_type": "code",
   "execution_count": 32,
   "metadata": {
    "execution": {
     "iopub.execute_input": "2022-03-15T05:20:58.672639Z",
     "iopub.status.busy": "2022-03-15T05:20:58.671610Z",
     "iopub.status.idle": "2022-03-15T05:20:58.746467Z",
     "shell.execute_reply": "2022-03-15T05:20:58.746467Z"
    }
   },
   "outputs": [
    {
     "name": "stdout",
     "output_type": "stream",
     "text": [
      "['freyberg6.sfr_packagedata.txt']\n",
      "2022-03-15 15:50:58.672639 starting: adding grid type m style parameters for file(s) ['freyberg6.sfr_packagedata.txt']\n",
      "2022-03-15 15:50:58.672639 starting: loading list-style freyberg6_template\\freyberg6.sfr_packagedata.txt\n",
      "2022-03-15 15:50:58.672639 starting: reading list-style file: freyberg6_template\\freyberg6.sfr_packagedata.txt\n",
      "2022-03-15 15:50:58.679588 finished: reading list-style file: freyberg6_template\\freyberg6.sfr_packagedata.txt took: 0:00:00.006949\n",
      "2022-03-15 15:50:58.679588 loaded list-style 'freyberg6_template\\freyberg6.sfr_packagedata.txt' of shape (40, 15)\n",
      "2022-03-15 15:50:58.681634 finished: loading list-style freyberg6_template\\freyberg6.sfr_packagedata.txt took: 0:00:00.008995\n",
      "2022-03-15 15:50:58.681634 starting: writing list-style template file 'freyberg6_template\\sfrcond_gr_inst0_grid.csv.tpl'\n",
      "2022-03-15 15:50:58.686612 WARNING: get_xy() warning: position of i and j in index_cols not specified, assume (i,j) are final two entries in index_cols.\n"
     ]
    },
    {
     "name": "stdout",
     "output_type": "stream",
     "text": [
      "2022-03-15 15:50:58.702579 finished: writing list-style template file 'freyberg6_template\\sfrcond_gr_inst0_grid.csv.tpl' took: 0:00:00.020945\n",
      "2022-03-15 15:50:58.707605 finished: adding grid type m style parameters for file(s) ['freyberg6.sfr_packagedata.txt'] took: 0:00:00.034966\n",
      "2022-03-15 15:50:58.707605 starting: adding constant type m style parameters for file(s) ['freyberg6.sfr_packagedata.txt']\n",
      "2022-03-15 15:50:58.707605 starting: loading list-style freyberg6_template\\freyberg6.sfr_packagedata.txt\n",
      "2022-03-15 15:50:58.707605 starting: reading list-style file: freyberg6_template\\freyberg6.sfr_packagedata.txt\n",
      "2022-03-15 15:50:58.710613 finished: reading list-style file: freyberg6_template\\freyberg6.sfr_packagedata.txt took: 0:00:00.003008\n",
      "2022-03-15 15:50:58.710613 loaded list-style 'freyberg6_template\\freyberg6.sfr_packagedata.txt' of shape (40, 15)\n",
      "2022-03-15 15:50:58.711611 finished: loading list-style freyberg6_template\\freyberg6.sfr_packagedata.txt took: 0:00:00.004006\n",
      "2022-03-15 15:50:58.711611 starting: writing list-style template file 'freyberg6_template\\sfrcond_cn_inst0_constant.csv.tpl'\n"
     ]
    },
    {
     "name": "stdout",
     "output_type": "stream",
     "text": [
      "2022-03-15 15:50:58.725556 finished: writing list-style template file 'freyberg6_template\\sfrcond_cn_inst0_constant.csv.tpl' took: 0:00:00.013945\n",
      "2022-03-15 15:50:58.731507 finished: adding constant type m style parameters for file(s) ['freyberg6.sfr_packagedata.txt'] took: 0:00:00.023902\n"
     ]
    },
    {
     "data": {
      "text/html": [
       "<div>\n",
       "<style scoped>\n",
       "    .dataframe tbody tr th:only-of-type {\n",
       "        vertical-align: middle;\n",
       "    }\n",
       "\n",
       "    .dataframe tbody tr th {\n",
       "        vertical-align: top;\n",
       "    }\n",
       "\n",
       "    .dataframe thead th {\n",
       "        text-align: right;\n",
       "    }\n",
       "</style>\n",
       "<table border=\"1\" class=\"dataframe\">\n",
       "  <thead>\n",
       "    <tr style=\"text-align: right;\">\n",
       "      <th></th>\n",
       "      <th>parnme</th>\n",
       "      <th>pargp</th>\n",
       "      <th>covgp</th>\n",
       "      <th>tpl_filename</th>\n",
       "      <th>input_filename</th>\n",
       "      <th>parval1</th>\n",
       "      <th>partype</th>\n",
       "      <th>partrans</th>\n",
       "      <th>parubnd</th>\n",
       "      <th>parlbnd</th>\n",
       "      <th>dercom</th>\n",
       "      <th>scale</th>\n",
       "      <th>parchglim</th>\n",
       "      <th>offset</th>\n",
       "    </tr>\n",
       "  </thead>\n",
       "  <tbody>\n",
       "    <tr>\n",
       "      <th>pname:sfrcond_cn_inst:0_ptype:cn_usecol:9_pstyle:m</th>\n",
       "      <td>pname:sfrcond_cn_inst:0_ptype:cn_usecol:9_pstyle:m</td>\n",
       "      <td>sfrcond_cn</td>\n",
       "      <td>sfrcond_cn</td>\n",
       "      <td>freyberg6_template\\sfrcond_cn_inst0_constant.csv.tpl</td>\n",
       "      <td>freyberg6_template\\mult\\sfrcond_cn_inst0_constant.csv</td>\n",
       "      <td>1.0</td>\n",
       "      <td>constant</td>\n",
       "      <td>log</td>\n",
       "      <td>10.0</td>\n",
       "      <td>0.1</td>\n",
       "      <td>1</td>\n",
       "      <td>1.0</td>\n",
       "      <td>factor</td>\n",
       "      <td>0.0</td>\n",
       "    </tr>\n",
       "  </tbody>\n",
       "</table>\n",
       "</div>"
      ],
      "text/plain": [
       "                                                                                                parnme  \\\n",
       "pname:sfrcond_cn_inst:0_ptype:cn_usecol:9_pstyle:m  pname:sfrcond_cn_inst:0_ptype:cn_usecol:9_pstyle:m   \n",
       "\n",
       "                                                         pargp       covgp  \\\n",
       "pname:sfrcond_cn_inst:0_ptype:cn_usecol:9_pstyle:m  sfrcond_cn  sfrcond_cn   \n",
       "\n",
       "                                                                                            tpl_filename  \\\n",
       "pname:sfrcond_cn_inst:0_ptype:cn_usecol:9_pstyle:m  freyberg6_template\\sfrcond_cn_inst0_constant.csv.tpl   \n",
       "\n",
       "                                                                                           input_filename  \\\n",
       "pname:sfrcond_cn_inst:0_ptype:cn_usecol:9_pstyle:m  freyberg6_template\\mult\\sfrcond_cn_inst0_constant.csv   \n",
       "\n",
       "                                                    parval1   partype  \\\n",
       "pname:sfrcond_cn_inst:0_ptype:cn_usecol:9_pstyle:m      1.0  constant   \n",
       "\n",
       "                                                   partrans  parubnd  parlbnd  \\\n",
       "pname:sfrcond_cn_inst:0_ptype:cn_usecol:9_pstyle:m      log     10.0      0.1   \n",
       "\n",
       "                                                    dercom  scale parchglim  \\\n",
       "pname:sfrcond_cn_inst:0_ptype:cn_usecol:9_pstyle:m       1    1.0    factor   \n",
       "\n",
       "                                                    offset  \n",
       "pname:sfrcond_cn_inst:0_ptype:cn_usecol:9_pstyle:m     0.0  "
      ]
     },
     "execution_count": 32,
     "metadata": {},
     "output_type": "execute_result"
    }
   ],
   "source": [
    "# SFR conductance\n",
    "tag = \"sfr_packagedata\"\n",
    "files = [f for f in os.listdir(template_ws) if tag in f.lower() and f.endswith(\".txt\")]\n",
    "assert len(files) == 1 # There can be only one! It is tradition. Jokes.\n",
    "print(files)\n",
    "f = files[0]\n",
    "# constant and grid scale multiplier conductance parameters\n",
    "name = \"sfrcond\"\n",
    "pf.add_parameters(f,\n",
    "                par_type=\"grid\",\n",
    "                geostruct=grid_gs,\n",
    "                par_name_base=name+\"_gr\",\n",
    "                pargp=name+\"_gr\",\n",
    "                index_cols=[0,2,3],\n",
    "                use_cols=[9],\n",
    "                lower_bound=0.1,upper_bound=10.0,\n",
    "                ult_lbound=0.01, ult_ubound=10) #absolute limits\n",
    "pf.add_parameters(f,\n",
    "                par_type=\"constant\",\n",
    "                geostruct=grid_gs,\n",
    "                par_name_base=name+\"_cn\",\n",
    "                pargp=name+\"_cn\",\n",
    "                index_cols=[0,2,3],\n",
    "                use_cols=[9],\n",
    "                lower_bound=0.1,upper_bound=10.0,\n",
    "                ult_lbound=0.01, ult_ubound=10) #absolute limits"
   ]
  },
  {
   "cell_type": "code",
   "execution_count": 33,
   "metadata": {
    "execution": {
     "iopub.execute_input": "2022-03-15T05:20:58.751453Z",
     "iopub.status.busy": "2022-03-15T05:20:58.751453Z",
     "iopub.status.idle": "2022-03-15T05:20:59.553707Z",
     "shell.execute_reply": "2022-03-15T05:20:59.552713Z"
    }
   },
   "outputs": [
    {
     "name": "stdout",
     "output_type": "stream",
     "text": [
      "2022-03-15 15:50:58.752484 starting: adding grid type m style parameters for file(s) ['freyberg6.sfr_perioddata_1.txt']\n",
      "2022-03-15 15:50:58.752484 starting: loading list-style freyberg6_template\\freyberg6.sfr_perioddata_1.txt\n",
      "2022-03-15 15:50:58.752484 starting: reading list-style file: freyberg6_template\\freyberg6.sfr_perioddata_1.txt\n",
      "2022-03-15 15:50:58.755442 finished: reading list-style file: freyberg6_template\\freyberg6.sfr_perioddata_1.txt took: 0:00:00.002958\n",
      "2022-03-15 15:50:58.755442 loaded list-style 'freyberg6_template\\freyberg6.sfr_perioddata_1.txt' of shape (1, 3)\n",
      "2022-03-15 15:50:58.756168 finished: loading list-style freyberg6_template\\freyberg6.sfr_perioddata_1.txt took: 0:00:00.003684\n",
      "2022-03-15 15:50:58.756168 starting: writing list-style template file 'freyberg6_template\\sfr_gr_inst0_grid.csv.tpl'\n",
      "2022-03-15 15:50:58.760213 WARNING: get_xy() warning: need locational information (e.g. i,j) to generate xy, insufficient index cols passed to interpret: (0,)\n"
     ]
    },
    {
     "name": "stdout",
     "output_type": "stream",
     "text": [
      "2022-03-15 15:50:58.773125 finished: writing list-style template file 'freyberg6_template\\sfr_gr_inst0_grid.csv.tpl' took: 0:00:00.016957\n",
      "2022-03-15 15:50:58.783266 finished: adding grid type m style parameters for file(s) ['freyberg6.sfr_perioddata_1.txt'] took: 0:00:00.030782\n",
      "2022-03-15 15:50:58.783266 starting: adding grid type m style parameters for file(s) ['freyberg6.sfr_perioddata_10.txt']\n",
      "2022-03-15 15:50:58.783266 starting: loading list-style freyberg6_template\\freyberg6.sfr_perioddata_10.txt\n",
      "2022-03-15 15:50:58.783266 starting: reading list-style file: freyberg6_template\\freyberg6.sfr_perioddata_10.txt\n",
      "2022-03-15 15:50:58.789140 finished: reading list-style file: freyberg6_template\\freyberg6.sfr_perioddata_10.txt took: 0:00:00.005874\n",
      "2022-03-15 15:50:58.789140 loaded list-style 'freyberg6_template\\freyberg6.sfr_perioddata_10.txt' of shape (1, 3)\n",
      "2022-03-15 15:50:58.790079 finished: loading list-style freyberg6_template\\freyberg6.sfr_perioddata_10.txt took: 0:00:00.006813\n",
      "2022-03-15 15:50:58.790079 starting: writing list-style template file 'freyberg6_template\\sfr_gr_inst1_grid.csv.tpl'\n",
      "2022-03-15 15:50:58.794121 WARNING: get_xy() warning: need locational information (e.g. i,j) to generate xy, insufficient index cols passed to interpret: (0,)\n"
     ]
    },
    {
     "name": "stdout",
     "output_type": "stream",
     "text": [
      "2022-03-15 15:50:58.807034 finished: writing list-style template file 'freyberg6_template\\sfr_gr_inst1_grid.csv.tpl' took: 0:00:00.016955\n",
      "2022-03-15 15:50:58.817007 finished: adding grid type m style parameters for file(s) ['freyberg6.sfr_perioddata_10.txt'] took: 0:00:00.033741\n",
      "2022-03-15 15:50:58.817007 starting: adding grid type m style parameters for file(s) ['freyberg6.sfr_perioddata_11.txt']\n",
      "2022-03-15 15:50:58.817007 starting: loading list-style freyberg6_template\\freyberg6.sfr_perioddata_11.txt\n",
      "2022-03-15 15:50:58.817007 starting: reading list-style file: freyberg6_template\\freyberg6.sfr_perioddata_11.txt\n",
      "2022-03-15 15:50:58.820050 finished: reading list-style file: freyberg6_template\\freyberg6.sfr_perioddata_11.txt took: 0:00:00.003043\n",
      "2022-03-15 15:50:58.820050 loaded list-style 'freyberg6_template\\freyberg6.sfr_perioddata_11.txt' of shape (1, 3)\n",
      "2022-03-15 15:50:58.820998 finished: loading list-style freyberg6_template\\freyberg6.sfr_perioddata_11.txt took: 0:00:00.003991\n",
      "2022-03-15 15:50:58.820998 starting: writing list-style template file 'freyberg6_template\\sfr_gr_inst2_grid.csv.tpl'\n",
      "2022-03-15 15:50:58.824986 WARNING: get_xy() warning: need locational information (e.g. i,j) to generate xy, insufficient index cols passed to interpret: (0,)\n",
      "2022-03-15 15:50:58.838949 finished: writing list-style template file 'freyberg6_template\\sfr_gr_inst2_grid.csv.tpl' took: 0:00:00.017951\n",
      "2022-03-15 15:50:58.846968 finished: adding grid type m style parameters for file(s) ['freyberg6.sfr_perioddata_11.txt'] took: 0:00:00.029961\n",
      "2022-03-15 15:50:58.847958 starting: adding grid type m style parameters for file(s) ['freyberg6.sfr_perioddata_12.txt']\n",
      "2022-03-15 15:50:58.847958 starting: loading list-style freyberg6_template\\freyberg6.sfr_perioddata_12.txt\n",
      "2022-03-15 15:50:58.847958 starting: reading list-style file: freyberg6_template\\freyberg6.sfr_perioddata_12.txt\n",
      "2022-03-15 15:50:58.850950 finished: reading list-style file: freyberg6_template\\freyberg6.sfr_perioddata_12.txt took: 0:00:00.002992\n",
      "2022-03-15 15:50:58.850950 loaded list-style 'freyberg6_template\\freyberg6.sfr_perioddata_12.txt' of shape (1, 3)\n",
      "2022-03-15 15:50:58.851948 finished: loading list-style freyberg6_template\\freyberg6.sfr_perioddata_12.txt took: 0:00:00.003990\n",
      "2022-03-15 15:50:58.851948 starting: writing list-style template file 'freyberg6_template\\sfr_gr_inst3_grid.csv.tpl'\n",
      "2022-03-15 15:50:58.855937 WARNING: get_xy() warning: need locational information (e.g. i,j) to generate xy, insufficient index cols passed to interpret: (0,)\n"
     ]
    },
    {
     "name": "stdout",
     "output_type": "stream",
     "text": [
      "2022-03-15 15:50:58.868869 finished: writing list-style template file 'freyberg6_template\\sfr_gr_inst3_grid.csv.tpl' took: 0:00:00.016921\n",
      "2022-03-15 15:50:58.877877 finished: adding grid type m style parameters for file(s) ['freyberg6.sfr_perioddata_12.txt'] took: 0:00:00.029919\n",
      "2022-03-15 15:50:58.877877 starting: adding grid type m style parameters for file(s) ['freyberg6.sfr_perioddata_13.txt']\n",
      "2022-03-15 15:50:58.877877 starting: loading list-style freyberg6_template\\freyberg6.sfr_perioddata_13.txt\n",
      "2022-03-15 15:50:58.877877 starting: reading list-style file: freyberg6_template\\freyberg6.sfr_perioddata_13.txt\n",
      "2022-03-15 15:50:58.880871 finished: reading list-style file: freyberg6_template\\freyberg6.sfr_perioddata_13.txt took: 0:00:00.002994\n",
      "2022-03-15 15:50:58.880871 loaded list-style 'freyberg6_template\\freyberg6.sfr_perioddata_13.txt' of shape (1, 3)\n",
      "2022-03-15 15:50:58.881868 finished: loading list-style freyberg6_template\\freyberg6.sfr_perioddata_13.txt took: 0:00:00.003991\n",
      "2022-03-15 15:50:58.881868 starting: writing list-style template file 'freyberg6_template\\sfr_gr_inst4_grid.csv.tpl'\n"
     ]
    },
    {
     "name": "stdout",
     "output_type": "stream",
     "text": [
      "2022-03-15 15:50:58.886854 WARNING: get_xy() warning: need locational information (e.g. i,j) to generate xy, insufficient index cols passed to interpret: (0,)\n",
      "2022-03-15 15:50:58.900783 finished: writing list-style template file 'freyberg6_template\\sfr_gr_inst4_grid.csv.tpl' took: 0:00:00.018915\n",
      "2022-03-15 15:50:58.908815 finished: adding grid type m style parameters for file(s) ['freyberg6.sfr_perioddata_13.txt'] took: 0:00:00.030938\n",
      "2022-03-15 15:50:58.909812 starting: adding grid type m style parameters for file(s) ['freyberg6.sfr_perioddata_14.txt']\n",
      "2022-03-15 15:50:58.909812 starting: loading list-style freyberg6_template\\freyberg6.sfr_perioddata_14.txt\n",
      "2022-03-15 15:50:58.909812 starting: reading list-style file: freyberg6_template\\freyberg6.sfr_perioddata_14.txt\n",
      "2022-03-15 15:50:58.912751 finished: reading list-style file: freyberg6_template\\freyberg6.sfr_perioddata_14.txt took: 0:00:00.002939\n",
      "2022-03-15 15:50:58.912751 loaded list-style 'freyberg6_template\\freyberg6.sfr_perioddata_14.txt' of shape (1, 3)\n",
      "2022-03-15 15:50:58.913749 finished: loading list-style freyberg6_template\\freyberg6.sfr_perioddata_14.txt took: 0:00:00.003937\n",
      "2022-03-15 15:50:58.914746 starting: writing list-style template file 'freyberg6_template\\sfr_gr_inst5_grid.csv.tpl'\n",
      "2022-03-15 15:50:58.918770 WARNING: get_xy() warning: need locational information (e.g. i,j) to generate xy, insufficient index cols passed to interpret: (0,)\n"
     ]
    },
    {
     "name": "stdout",
     "output_type": "stream",
     "text": [
      "2022-03-15 15:50:58.931735 finished: writing list-style template file 'freyberg6_template\\sfr_gr_inst5_grid.csv.tpl' took: 0:00:00.016989\n"
     ]
    },
    {
     "name": "stdout",
     "output_type": "stream",
     "text": [
      "2022-03-15 15:50:58.940711 finished: adding grid type m style parameters for file(s) ['freyberg6.sfr_perioddata_14.txt'] took: 0:00:00.030899\n",
      "2022-03-15 15:50:58.940711 starting: adding grid type m style parameters for file(s) ['freyberg6.sfr_perioddata_15.txt']\n",
      "2022-03-15 15:50:58.941708 starting: loading list-style freyberg6_template\\freyberg6.sfr_perioddata_15.txt\n",
      "2022-03-15 15:50:58.941708 starting: reading list-style file: freyberg6_template\\freyberg6.sfr_perioddata_15.txt\n",
      "2022-03-15 15:50:58.944721 finished: reading list-style file: freyberg6_template\\freyberg6.sfr_perioddata_15.txt took: 0:00:00.003013\n",
      "2022-03-15 15:50:58.944721 loaded list-style 'freyberg6_template\\freyberg6.sfr_perioddata_15.txt' of shape (1, 3)\n",
      "2022-03-15 15:50:58.945664 finished: loading list-style freyberg6_template\\freyberg6.sfr_perioddata_15.txt took: 0:00:00.003956\n",
      "2022-03-15 15:50:58.945664 starting: writing list-style template file 'freyberg6_template\\sfr_gr_inst6_grid.csv.tpl'\n",
      "2022-03-15 15:50:58.950686 WARNING: get_xy() warning: need locational information (e.g. i,j) to generate xy, insufficient index cols passed to interpret: (0,)\n"
     ]
    },
    {
     "name": "stdout",
     "output_type": "stream",
     "text": [
      "2022-03-15 15:50:58.963616 finished: writing list-style template file 'freyberg6_template\\sfr_gr_inst6_grid.csv.tpl' took: 0:00:00.017952\n",
      "2022-03-15 15:50:58.972626 finished: adding grid type m style parameters for file(s) ['freyberg6.sfr_perioddata_15.txt'] took: 0:00:00.031915\n",
      "2022-03-15 15:50:58.972626 starting: adding grid type m style parameters for file(s) ['freyberg6.sfr_perioddata_16.txt']\n",
      "2022-03-15 15:50:58.972626 starting: loading list-style freyberg6_template\\freyberg6.sfr_perioddata_16.txt\n",
      "2022-03-15 15:50:58.973602 starting: reading list-style file: freyberg6_template\\freyberg6.sfr_perioddata_16.txt\n",
      "2022-03-15 15:50:58.975619 finished: reading list-style file: freyberg6_template\\freyberg6.sfr_perioddata_16.txt took: 0:00:00.002017\n",
      "2022-03-15 15:50:58.975619 loaded list-style 'freyberg6_template\\freyberg6.sfr_perioddata_16.txt' of shape (1, 3)\n",
      "2022-03-15 15:50:58.977584 finished: loading list-style freyberg6_template\\freyberg6.sfr_perioddata_16.txt took: 0:00:00.004958\n",
      "2022-03-15 15:50:58.977584 starting: writing list-style template file 'freyberg6_template\\sfr_gr_inst7_grid.csv.tpl'\n",
      "2022-03-15 15:50:58.981617 WARNING: get_xy() warning: need locational information (e.g. i,j) to generate xy, insufficient index cols passed to interpret: (0,)\n",
      "2022-03-15 15:50:58.994533 finished: writing list-style template file 'freyberg6_template\\sfr_gr_inst7_grid.csv.tpl' took: 0:00:00.016949\n",
      "2022-03-15 15:50:59.003552 finished: adding grid type m style parameters for file(s) ['freyberg6.sfr_perioddata_16.txt'] took: 0:00:00.030926\n"
     ]
    },
    {
     "name": "stdout",
     "output_type": "stream",
     "text": [
      "2022-03-15 15:50:59.004531 starting: adding grid type m style parameters for file(s) ['freyberg6.sfr_perioddata_17.txt']\n",
      "2022-03-15 15:50:59.004531 starting: loading list-style freyberg6_template\\freyberg6.sfr_perioddata_17.txt\n",
      "2022-03-15 15:50:59.004531 starting: reading list-style file: freyberg6_template\\freyberg6.sfr_perioddata_17.txt\n",
      "2022-03-15 15:50:59.007276 finished: reading list-style file: freyberg6_template\\freyberg6.sfr_perioddata_17.txt took: 0:00:00.002745\n",
      "2022-03-15 15:50:59.007276 loaded list-style 'freyberg6_template\\freyberg6.sfr_perioddata_17.txt' of shape (1, 3)\n",
      "2022-03-15 15:50:59.008287 finished: loading list-style freyberg6_template\\freyberg6.sfr_perioddata_17.txt took: 0:00:00.003756\n",
      "2022-03-15 15:50:59.008287 starting: writing list-style template file 'freyberg6_template\\sfr_gr_inst8_grid.csv.tpl'\n",
      "2022-03-15 15:50:59.012263 WARNING: get_xy() warning: need locational information (e.g. i,j) to generate xy, insufficient index cols passed to interpret: (0,)\n",
      "2022-03-15 15:50:59.025228 finished: writing list-style template file 'freyberg6_template\\sfr_gr_inst8_grid.csv.tpl' took: 0:00:00.016941\n",
      "2022-03-15 15:50:59.034257 finished: adding grid type m style parameters for file(s) ['freyberg6.sfr_perioddata_17.txt'] took: 0:00:00.029726\n",
      "2022-03-15 15:50:59.034257 starting: adding grid type m style parameters for file(s) ['freyberg6.sfr_perioddata_18.txt']\n",
      "2022-03-15 15:50:59.034257 starting: loading list-style freyberg6_template\\freyberg6.sfr_perioddata_18.txt\n",
      "2022-03-15 15:50:59.035201 starting: reading list-style file: freyberg6_template\\freyberg6.sfr_perioddata_18.txt\n",
      "2022-03-15 15:50:59.037229 finished: reading list-style file: freyberg6_template\\freyberg6.sfr_perioddata_18.txt took: 0:00:00.002028\n",
      "2022-03-15 15:50:59.037229 loaded list-style 'freyberg6_template\\freyberg6.sfr_perioddata_18.txt' of shape (1, 3)\n",
      "2022-03-15 15:50:59.038231 finished: loading list-style freyberg6_template\\freyberg6.sfr_perioddata_18.txt took: 0:00:00.003974\n",
      "2022-03-15 15:50:59.039191 starting: writing list-style template file 'freyberg6_template\\sfr_gr_inst9_grid.csv.tpl'\n",
      "2022-03-15 15:50:59.043213 WARNING: get_xy() warning: need locational information (e.g. i,j) to generate xy, insufficient index cols passed to interpret: (0,)\n",
      "2022-03-15 15:50:59.056146 finished: writing list-style template file 'freyberg6_template\\sfr_gr_inst9_grid.csv.tpl' took: 0:00:00.016955\n"
     ]
    },
    {
     "name": "stdout",
     "output_type": "stream",
     "text": [
      "2022-03-15 15:50:59.065121 finished: adding grid type m style parameters for file(s) ['freyberg6.sfr_perioddata_18.txt'] took: 0:00:00.030864\n",
      "2022-03-15 15:50:59.066152 starting: adding grid type m style parameters for file(s) ['freyberg6.sfr_perioddata_19.txt']\n",
      "2022-03-15 15:50:59.066152 starting: loading list-style freyberg6_template\\freyberg6.sfr_perioddata_19.txt\n",
      "2022-03-15 15:50:59.067150 starting: reading list-style file: freyberg6_template\\freyberg6.sfr_perioddata_19.txt\n",
      "2022-03-15 15:50:59.069167 finished: reading list-style file: freyberg6_template\\freyberg6.sfr_perioddata_19.txt took: 0:00:00.002017\n",
      "2022-03-15 15:50:59.069167 loaded list-style 'freyberg6_template\\freyberg6.sfr_perioddata_19.txt' of shape (1, 3)\n",
      "2022-03-15 15:50:59.071107 finished: loading list-style freyberg6_template\\freyberg6.sfr_perioddata_19.txt took: 0:00:00.004955\n",
      "2022-03-15 15:50:59.071107 starting: writing list-style template file 'freyberg6_template\\sfr_gr_inst10_grid.csv.tpl'\n",
      "2022-03-15 15:50:59.075095 WARNING: get_xy() warning: need locational information (e.g. i,j) to generate xy, insufficient index cols passed to interpret: (0,)\n"
     ]
    },
    {
     "name": "stdout",
     "output_type": "stream",
     "text": [
      "2022-03-15 15:50:59.088098 finished: writing list-style template file 'freyberg6_template\\sfr_gr_inst10_grid.csv.tpl' took: 0:00:00.016991\n",
      "2022-03-15 15:50:59.097036 finished: adding grid type m style parameters for file(s) ['freyberg6.sfr_perioddata_19.txt'] took: 0:00:00.030884\n",
      "2022-03-15 15:50:59.098034 starting: adding grid type m style parameters for file(s) ['freyberg6.sfr_perioddata_2.txt']\n",
      "2022-03-15 15:50:59.098034 starting: loading list-style freyberg6_template\\freyberg6.sfr_perioddata_2.txt\n",
      "2022-03-15 15:50:59.098034 starting: reading list-style file: freyberg6_template\\freyberg6.sfr_perioddata_2.txt\n",
      "2022-03-15 15:50:59.101082 finished: reading list-style file: freyberg6_template\\freyberg6.sfr_perioddata_2.txt took: 0:00:00.003048\n",
      "2022-03-15 15:50:59.101082 loaded list-style 'freyberg6_template\\freyberg6.sfr_perioddata_2.txt' of shape (1, 3)\n",
      "2022-03-15 15:50:59.103048 finished: loading list-style freyberg6_template\\freyberg6.sfr_perioddata_2.txt took: 0:00:00.005014\n",
      "2022-03-15 15:50:59.103048 starting: writing list-style template file 'freyberg6_template\\sfr_gr_inst11_grid.csv.tpl'\n",
      "2022-03-15 15:50:59.106305 WARNING: get_xy() warning: need locational information (e.g. i,j) to generate xy, insufficient index cols passed to interpret: (0,)\n",
      "2022-03-15 15:50:59.120267 finished: writing list-style template file 'freyberg6_template\\sfr_gr_inst11_grid.csv.tpl' took: 0:00:00.017219\n",
      "2022-03-15 15:50:59.128246 finished: adding grid type m style parameters for file(s) ['freyberg6.sfr_perioddata_2.txt'] took: 0:00:00.030212\n"
     ]
    },
    {
     "name": "stdout",
     "output_type": "stream",
     "text": [
      "2022-03-15 15:50:59.128246 starting: adding grid type m style parameters for file(s) ['freyberg6.sfr_perioddata_20.txt']\n",
      "2022-03-15 15:50:59.129242 starting: loading list-style freyberg6_template\\freyberg6.sfr_perioddata_20.txt\n",
      "2022-03-15 15:50:59.129242 starting: reading list-style file: freyberg6_template\\freyberg6.sfr_perioddata_20.txt\n",
      "2022-03-15 15:50:59.132235 finished: reading list-style file: freyberg6_template\\freyberg6.sfr_perioddata_20.txt took: 0:00:00.002993\n",
      "2022-03-15 15:50:59.132235 loaded list-style 'freyberg6_template\\freyberg6.sfr_perioddata_20.txt' of shape (1, 3)\n",
      "2022-03-15 15:50:59.133259 finished: loading list-style freyberg6_template\\freyberg6.sfr_perioddata_20.txt took: 0:00:00.004017\n",
      "2022-03-15 15:50:59.134229 starting: writing list-style template file 'freyberg6_template\\sfr_gr_inst12_grid.csv.tpl'\n",
      "2022-03-15 15:50:59.138219 WARNING: get_xy() warning: need locational information (e.g. i,j) to generate xy, insufficient index cols passed to interpret: (0,)\n",
      "2022-03-15 15:50:59.151238 finished: writing list-style template file 'freyberg6_template\\sfr_gr_inst12_grid.csv.tpl' took: 0:00:00.017009\n"
     ]
    },
    {
     "name": "stdout",
     "output_type": "stream",
     "text": [
      "2022-03-15 15:50:59.160218 finished: adding grid type m style parameters for file(s) ['freyberg6.sfr_perioddata_20.txt'] took: 0:00:00.031972\n",
      "2022-03-15 15:50:59.160218 starting: adding grid type m style parameters for file(s) ['freyberg6.sfr_perioddata_21.txt']\n",
      "2022-03-15 15:50:59.160218 starting: loading list-style freyberg6_template\\freyberg6.sfr_perioddata_21.txt\n",
      "2022-03-15 15:50:59.160218 starting: reading list-style file: freyberg6_template\\freyberg6.sfr_perioddata_21.txt\n",
      "2022-03-15 15:50:59.163180 finished: reading list-style file: freyberg6_template\\freyberg6.sfr_perioddata_21.txt took: 0:00:00.002962\n",
      "2022-03-15 15:50:59.163180 loaded list-style 'freyberg6_template\\freyberg6.sfr_perioddata_21.txt' of shape (1, 3)\n",
      "2022-03-15 15:50:59.164151 finished: loading list-style freyberg6_template\\freyberg6.sfr_perioddata_21.txt took: 0:00:00.003933\n",
      "2022-03-15 15:50:59.164151 starting: writing list-style template file 'freyberg6_template\\sfr_gr_inst13_grid.csv.tpl'\n",
      "2022-03-15 15:50:59.169188 WARNING: get_xy() warning: need locational information (e.g. i,j) to generate xy, insufficient index cols passed to interpret: (0,)\n",
      "2022-03-15 15:50:59.181138 finished: writing list-style template file 'freyberg6_template\\sfr_gr_inst13_grid.csv.tpl' took: 0:00:00.016987\n"
     ]
    },
    {
     "name": "stdout",
     "output_type": "stream",
     "text": [
      "2022-03-15 15:50:59.191077 finished: adding grid type m style parameters for file(s) ['freyberg6.sfr_perioddata_21.txt'] took: 0:00:00.030859\n",
      "2022-03-15 15:50:59.191077 starting: adding grid type m style parameters for file(s) ['freyberg6.sfr_perioddata_22.txt']\n",
      "2022-03-15 15:50:59.192075 starting: loading list-style freyberg6_template\\freyberg6.sfr_perioddata_22.txt\n",
      "2022-03-15 15:50:59.192075 starting: reading list-style file: freyberg6_template\\freyberg6.sfr_perioddata_22.txt\n",
      "2022-03-15 15:50:59.194070 finished: reading list-style file: freyberg6_template\\freyberg6.sfr_perioddata_22.txt took: 0:00:00.001995\n",
      "2022-03-15 15:50:59.195067 loaded list-style 'freyberg6_template\\freyberg6.sfr_perioddata_22.txt' of shape (1, 3)\n",
      "2022-03-15 15:50:59.196065 finished: loading list-style freyberg6_template\\freyberg6.sfr_perioddata_22.txt took: 0:00:00.003990\n",
      "2022-03-15 15:50:59.196065 starting: writing list-style template file 'freyberg6_template\\sfr_gr_inst14_grid.csv.tpl'\n",
      "2022-03-15 15:50:59.201090 WARNING: get_xy() warning: need locational information (e.g. i,j) to generate xy, insufficient index cols passed to interpret: (0,)\n",
      "2022-03-15 15:50:59.214042 finished: writing list-style template file 'freyberg6_template\\sfr_gr_inst14_grid.csv.tpl' took: 0:00:00.017977\n",
      "2022-03-15 15:50:59.223027 finished: adding grid type m style parameters for file(s) ['freyberg6.sfr_perioddata_22.txt'] took: 0:00:00.031950\n",
      "2022-03-15 15:50:59.224023 starting: adding grid type m style parameters for file(s) ['freyberg6.sfr_perioddata_23.txt']\n",
      "2022-03-15 15:50:59.224023 starting: loading list-style freyberg6_template\\freyberg6.sfr_perioddata_23.txt\n",
      "2022-03-15 15:50:59.224023 starting: reading list-style file: freyberg6_template\\freyberg6.sfr_perioddata_23.txt\n",
      "2022-03-15 15:50:59.227034 finished: reading list-style file: freyberg6_template\\freyberg6.sfr_perioddata_23.txt took: 0:00:00.003011\n",
      "2022-03-15 15:50:59.227034 loaded list-style 'freyberg6_template\\freyberg6.sfr_perioddata_23.txt' of shape (1, 3)\n",
      "2022-03-15 15:50:59.227979 finished: loading list-style freyberg6_template\\freyberg6.sfr_perioddata_23.txt took: 0:00:00.003956\n",
      "2022-03-15 15:50:59.227979 starting: writing list-style template file 'freyberg6_template\\sfr_gr_inst15_grid.csv.tpl'\n",
      "2022-03-15 15:50:59.232020 WARNING: get_xy() warning: need locational information (e.g. i,j) to generate xy, insufficient index cols passed to interpret: (0,)\n",
      "2022-03-15 15:50:59.244934 finished: writing list-style template file 'freyberg6_template\\sfr_gr_inst15_grid.csv.tpl' took: 0:00:00.016955\n",
      "2022-03-15 15:50:59.253962 finished: adding grid type m style parameters for file(s) ['freyberg6.sfr_perioddata_23.txt'] took: 0:00:00.029939\n",
      "2022-03-15 15:50:59.253962 starting: adding grid type m style parameters for file(s) ['freyberg6.sfr_perioddata_24.txt']\n",
      "2022-03-15 15:50:59.253962 starting: loading list-style freyberg6_template\\freyberg6.sfr_perioddata_24.txt\n"
     ]
    },
    {
     "name": "stdout",
     "output_type": "stream",
     "text": [
      "2022-03-15 15:50:59.253962 starting: reading list-style file: freyberg6_template\\freyberg6.sfr_perioddata_24.txt\n",
      "2022-03-15 15:50:59.256935 finished: reading list-style file: freyberg6_template\\freyberg6.sfr_perioddata_24.txt took: 0:00:00.002973\n",
      "2022-03-15 15:50:59.256935 loaded list-style 'freyberg6_template\\freyberg6.sfr_perioddata_24.txt' of shape (1, 3)\n",
      "2022-03-15 15:50:59.257932 finished: loading list-style freyberg6_template\\freyberg6.sfr_perioddata_24.txt took: 0:00:00.003970\n",
      "2022-03-15 15:50:59.257932 starting: writing list-style template file 'freyberg6_template\\sfr_gr_inst16_grid.csv.tpl'\n",
      "2022-03-15 15:50:59.261922 WARNING: get_xy() warning: need locational information (e.g. i,j) to generate xy, insufficient index cols passed to interpret: (0,)\n",
      "2022-03-15 15:50:59.274854 finished: writing list-style template file 'freyberg6_template\\sfr_gr_inst16_grid.csv.tpl' took: 0:00:00.016922\n"
     ]
    },
    {
     "name": "stdout",
     "output_type": "stream",
     "text": [
      "2022-03-15 15:50:59.284828 finished: adding grid type m style parameters for file(s) ['freyberg6.sfr_perioddata_24.txt'] took: 0:00:00.030866\n",
      "2022-03-15 15:50:59.285859 starting: adding grid type m style parameters for file(s) ['freyberg6.sfr_perioddata_25.txt']\n",
      "2022-03-15 15:50:59.285859 starting: loading list-style freyberg6_template\\freyberg6.sfr_perioddata_25.txt\n",
      "2022-03-15 15:50:59.285859 starting: reading list-style file: freyberg6_template\\freyberg6.sfr_perioddata_25.txt\n",
      "2022-03-15 15:50:59.288869 finished: reading list-style file: freyberg6_template\\freyberg6.sfr_perioddata_25.txt took: 0:00:00.003010\n",
      "2022-03-15 15:50:59.288869 loaded list-style 'freyberg6_template\\freyberg6.sfr_perioddata_25.txt' of shape (1, 3)\n",
      "2022-03-15 15:50:59.289867 finished: loading list-style freyberg6_template\\freyberg6.sfr_perioddata_25.txt took: 0:00:00.004008\n",
      "2022-03-15 15:50:59.289867 starting: writing list-style template file 'freyberg6_template\\sfr_gr_inst17_grid.csv.tpl'\n",
      "2022-03-15 15:50:59.294800 WARNING: get_xy() warning: need locational information (e.g. i,j) to generate xy, insufficient index cols passed to interpret: (0,)\n",
      "2022-03-15 15:50:59.307765 finished: writing list-style template file 'freyberg6_template\\sfr_gr_inst17_grid.csv.tpl' took: 0:00:00.017898\n"
     ]
    },
    {
     "name": "stdout",
     "output_type": "stream",
     "text": [
      "2022-03-15 15:50:59.316742 finished: adding grid type m style parameters for file(s) ['freyberg6.sfr_perioddata_25.txt'] took: 0:00:00.030883\n",
      "2022-03-15 15:50:59.316742 starting: adding grid type m style parameters for file(s) ['freyberg6.sfr_perioddata_3.txt']\n",
      "2022-03-15 15:50:59.317772 starting: loading list-style freyberg6_template\\freyberg6.sfr_perioddata_3.txt\n",
      "2022-03-15 15:50:59.317772 starting: reading list-style file: freyberg6_template\\freyberg6.sfr_perioddata_3.txt\n",
      "2022-03-15 15:50:59.319786 finished: reading list-style file: freyberg6_template\\freyberg6.sfr_perioddata_3.txt took: 0:00:00.002014\n",
      "2022-03-15 15:50:59.319786 loaded list-style 'freyberg6_template\\freyberg6.sfr_perioddata_3.txt' of shape (1, 3)\n",
      "2022-03-15 15:50:59.320764 finished: loading list-style freyberg6_template\\freyberg6.sfr_perioddata_3.txt took: 0:00:00.002992\n",
      "2022-03-15 15:50:59.321729 starting: writing list-style template file 'freyberg6_template\\sfr_gr_inst18_grid.csv.tpl'\n",
      "2022-03-15 15:50:59.325761 WARNING: get_xy() warning: need locational information (e.g. i,j) to generate xy, insufficient index cols passed to interpret: (0,)\n",
      "2022-03-15 15:50:59.337686 finished: writing list-style template file 'freyberg6_template\\sfr_gr_inst18_grid.csv.tpl' took: 0:00:00.015957\n"
     ]
    },
    {
     "name": "stdout",
     "output_type": "stream",
     "text": [
      "2022-03-15 15:50:59.346662 finished: adding grid type m style parameters for file(s) ['freyberg6.sfr_perioddata_3.txt'] took: 0:00:00.029920\n",
      "2022-03-15 15:50:59.347695 starting: adding grid type m style parameters for file(s) ['freyberg6.sfr_perioddata_4.txt']\n",
      "2022-03-15 15:50:59.347695 starting: loading list-style freyberg6_template\\freyberg6.sfr_perioddata_4.txt\n",
      "2022-03-15 15:50:59.347695 starting: reading list-style file: freyberg6_template\\freyberg6.sfr_perioddata_4.txt\n",
      "2022-03-15 15:50:59.350704 finished: reading list-style file: freyberg6_template\\freyberg6.sfr_perioddata_4.txt took: 0:00:00.003009\n",
      "2022-03-15 15:50:59.350704 loaded list-style 'freyberg6_template\\freyberg6.sfr_perioddata_4.txt' of shape (1, 3)\n",
      "2022-03-15 15:50:59.351681 finished: loading list-style freyberg6_template\\freyberg6.sfr_perioddata_4.txt took: 0:00:00.003986\n",
      "2022-03-15 15:50:59.351681 starting: writing list-style template file 'freyberg6_template\\sfr_gr_inst19_grid.csv.tpl'\n",
      "2022-03-15 15:50:59.355691 WARNING: get_xy() warning: need locational information (e.g. i,j) to generate xy, insufficient index cols passed to interpret: (0,)\n",
      "2022-03-15 15:50:59.368603 finished: writing list-style template file 'freyberg6_template\\sfr_gr_inst19_grid.csv.tpl' took: 0:00:00.016922\n"
     ]
    },
    {
     "name": "stdout",
     "output_type": "stream",
     "text": [
      "2022-03-15 15:50:59.378628 finished: adding grid type m style parameters for file(s) ['freyberg6.sfr_perioddata_4.txt'] took: 0:00:00.030933\n",
      "2022-03-15 15:50:59.378628 starting: adding grid type m style parameters for file(s) ['freyberg6.sfr_perioddata_5.txt']\n",
      "2022-03-15 15:50:59.379574 starting: loading list-style freyberg6_template\\freyberg6.sfr_perioddata_5.txt\n",
      "2022-03-15 15:50:59.379574 starting: reading list-style file: freyberg6_template\\freyberg6.sfr_perioddata_5.txt\n",
      "2022-03-15 15:50:59.382618 finished: reading list-style file: freyberg6_template\\freyberg6.sfr_perioddata_5.txt took: 0:00:00.003044\n",
      "2022-03-15 15:50:59.382618 loaded list-style 'freyberg6_template\\freyberg6.sfr_perioddata_5.txt' of shape (1, 3)\n",
      "2022-03-15 15:50:59.383595 finished: loading list-style freyberg6_template\\freyberg6.sfr_perioddata_5.txt took: 0:00:00.004021\n",
      "2022-03-15 15:50:59.383595 starting: writing list-style template file 'freyberg6_template\\sfr_gr_inst20_grid.csv.tpl'\n",
      "2022-03-15 15:50:59.387604 WARNING: get_xy() warning: need locational information (e.g. i,j) to generate xy, insufficient index cols passed to interpret: (0,)\n",
      "2022-03-15 15:50:59.400554 finished: writing list-style template file 'freyberg6_template\\sfr_gr_inst20_grid.csv.tpl' took: 0:00:00.016959\n",
      "2022-03-15 15:50:59.409547 finished: adding grid type m style parameters for file(s) ['freyberg6.sfr_perioddata_5.txt'] took: 0:00:00.030919\n",
      "2022-03-15 15:50:59.409547 starting: adding grid type m style parameters for file(s) ['freyberg6.sfr_perioddata_6.txt']\n",
      "2022-03-15 15:50:59.409547 starting: loading list-style freyberg6_template\\freyberg6.sfr_perioddata_6.txt\n",
      "2022-03-15 15:50:59.409547 starting: reading list-style file: freyberg6_template\\freyberg6.sfr_perioddata_6.txt\n",
      "2022-03-15 15:50:59.415477 finished: reading list-style file: freyberg6_template\\freyberg6.sfr_perioddata_6.txt took: 0:00:00.005930\n",
      "2022-03-15 15:50:59.415477 loaded list-style 'freyberg6_template\\freyberg6.sfr_perioddata_6.txt' of shape (1, 3)\n",
      "2022-03-15 15:50:59.416599 finished: loading list-style freyberg6_template\\freyberg6.sfr_perioddata_6.txt took: 0:00:00.007052\n",
      "2022-03-15 15:50:59.416599 starting: writing list-style template file 'freyberg6_template\\sfr_gr_inst21_grid.csv.tpl'\n",
      "2022-03-15 15:50:59.420522 WARNING: get_xy() warning: need locational information (e.g. i,j) to generate xy, insufficient index cols passed to interpret: (0,)\n",
      "2022-03-15 15:50:59.433430 finished: writing list-style template file 'freyberg6_template\\sfr_gr_inst21_grid.csv.tpl' took: 0:00:00.016831\n",
      "2022-03-15 15:50:59.442462 finished: adding grid type m style parameters for file(s) ['freyberg6.sfr_perioddata_6.txt'] took: 0:00:00.032915\n",
      "2022-03-15 15:50:59.442462 starting: adding grid type m style parameters for file(s) ['freyberg6.sfr_perioddata_7.txt']\n",
      "2022-03-15 15:50:59.442462 starting: loading list-style freyberg6_template\\freyberg6.sfr_perioddata_7.txt\n"
     ]
    },
    {
     "name": "stdout",
     "output_type": "stream",
     "text": [
      "2022-03-15 15:50:59.442462 starting: reading list-style file: freyberg6_template\\freyberg6.sfr_perioddata_7.txt\n",
      "2022-03-15 15:50:59.445397 finished: reading list-style file: freyberg6_template\\freyberg6.sfr_perioddata_7.txt took: 0:00:00.002935\n",
      "2022-03-15 15:50:59.445397 loaded list-style 'freyberg6_template\\freyberg6.sfr_perioddata_7.txt' of shape (1, 3)\n",
      "2022-03-15 15:50:59.446396 finished: loading list-style freyberg6_template\\freyberg6.sfr_perioddata_7.txt took: 0:00:00.003934\n",
      "2022-03-15 15:50:59.446396 starting: writing list-style template file 'freyberg6_template\\sfr_gr_inst22_grid.csv.tpl'\n",
      "2022-03-15 15:50:59.450437 WARNING: get_xy() warning: need locational information (e.g. i,j) to generate xy, insufficient index cols passed to interpret: (0,)\n",
      "2022-03-15 15:50:59.463351 finished: writing list-style template file 'freyberg6_template\\sfr_gr_inst22_grid.csv.tpl' took: 0:00:00.016955\n",
      "2022-03-15 15:50:59.471381 finished: adding grid type m style parameters for file(s) ['freyberg6.sfr_perioddata_7.txt'] took: 0:00:00.028919\n",
      "2022-03-15 15:50:59.471381 starting: adding grid type m style parameters for file(s) ['freyberg6.sfr_perioddata_8.txt']\n",
      "2022-03-15 15:50:59.472384 starting: loading list-style freyberg6_template\\freyberg6.sfr_perioddata_8.txt\n"
     ]
    },
    {
     "name": "stdout",
     "output_type": "stream",
     "text": [
      "2022-03-15 15:50:59.472384 starting: reading list-style file: freyberg6_template\\freyberg6.sfr_perioddata_8.txt\n",
      "2022-03-15 15:50:59.475317 finished: reading list-style file: freyberg6_template\\freyberg6.sfr_perioddata_8.txt took: 0:00:00.002933\n",
      "2022-03-15 15:50:59.475317 loaded list-style 'freyberg6_template\\freyberg6.sfr_perioddata_8.txt' of shape (1, 3)\n",
      "2022-03-15 15:50:59.476373 finished: loading list-style freyberg6_template\\freyberg6.sfr_perioddata_8.txt took: 0:00:00.003989\n",
      "2022-03-15 15:50:59.476373 starting: writing list-style template file 'freyberg6_template\\sfr_gr_inst23_grid.csv.tpl'\n",
      "2022-03-15 15:50:59.480304 WARNING: get_xy() warning: need locational information (e.g. i,j) to generate xy, insufficient index cols passed to interpret: (0,)\n",
      "2022-03-15 15:50:59.493303 finished: writing list-style template file 'freyberg6_template\\sfr_gr_inst23_grid.csv.tpl' took: 0:00:00.016930\n"
     ]
    },
    {
     "name": "stdout",
     "output_type": "stream",
     "text": [
      "2022-03-15 15:50:59.502299 finished: adding grid type m style parameters for file(s) ['freyberg6.sfr_perioddata_8.txt'] took: 0:00:00.030918\n",
      "2022-03-15 15:50:59.502299 starting: adding grid type m style parameters for file(s) ['freyberg6.sfr_perioddata_9.txt']\n",
      "2022-03-15 15:50:59.502299 starting: loading list-style freyberg6_template\\freyberg6.sfr_perioddata_9.txt\n",
      "2022-03-15 15:50:59.503276 starting: reading list-style file: freyberg6_template\\freyberg6.sfr_perioddata_9.txt\n",
      "2022-03-15 15:50:59.506268 finished: reading list-style file: freyberg6_template\\freyberg6.sfr_perioddata_9.txt took: 0:00:00.002992\n",
      "2022-03-15 15:50:59.506268 loaded list-style 'freyberg6_template\\freyberg6.sfr_perioddata_9.txt' of shape (1, 3)\n",
      "2022-03-15 15:50:59.507233 finished: loading list-style freyberg6_template\\freyberg6.sfr_perioddata_9.txt took: 0:00:00.004934\n",
      "2022-03-15 15:50:59.507233 starting: writing list-style template file 'freyberg6_template\\sfr_gr_inst24_grid.csv.tpl'\n",
      "2022-03-15 15:50:59.511274 WARNING: get_xy() warning: need locational information (e.g. i,j) to generate xy, insufficient index cols passed to interpret: (0,)\n",
      "2022-03-15 15:50:59.524224 finished: writing list-style template file 'freyberg6_template\\sfr_gr_inst24_grid.csv.tpl' took: 0:00:00.016991\n",
      "2022-03-15 15:50:59.533247 finished: adding grid type m style parameters for file(s) ['freyberg6.sfr_perioddata_9.txt'] took: 0:00:00.030948\n"
     ]
    }
   ],
   "source": [
    "# SFR inflow\n",
    "files = [f for f in os.listdir(template_ws) if \"sfr_perioddata\" in f and f.endswith(\".txt\")]\n",
    "for f in files:\n",
    "    # get the stress period number from the file name\n",
    "    kper = int(f.split('.')[1].split('_')[-1]) - 1  \n",
    "    # add the parameters\n",
    "    pf.add_parameters(filenames=f,\n",
    "                        index_cols=[0], #reach number\n",
    "                        use_cols=[2],   #columns with parameter values\n",
    "                        par_type=\"grid\",    \n",
    "                        par_name_base=\"sfr_gr\",\n",
    "                        pargp=\"sfr_gr\", \n",
    "                        upper_bound = 1.5, lower_bound=0.5, #don't need ult_bounds because it is a single multiplier\n",
    "                        datetime=dts[kper], # this places the parameter value on the \"time axis\"\n",
    "                        geostruct=temporal_gs)"
   ]
  },
  {
   "cell_type": "markdown",
   "metadata": {},
   "source": [
    "### 6. The Forward Run Script\n",
    "\n",
    "OK! So, we almost have all the base building blocks for a PEST(++) dataset. We have some (1) observations and some (2) parameters. We are still missing (3) the \"forward run\" script. Recall that in the PEST world, the \"model\" is not just the numerical model (e.g. MODFLOW). Instead it is a composite of the numerical model (or models) and pre- and post-processing steps, encapsulated in a \"forward run\" script which can be called from the command line. This command line instruction is what PEST(++) sees as \"the model\". During execution, PEST(++) writes values to parameter files, runs \"the model\", and then reads values from the observation files.\n",
    "\n",
    "`PstFrom` automates the generation of such a script when constructing the PEST control file. The script is written to file named `forward_run.py`. It is written in Python (this is not a PEST(++) requirement, merely a convenience...we are working in Python after all...). \n",
    "\n",
    "How about we see that in action? Magic time! Let's create the PEST control file.\n",
    "\n",
    "#### 6.1. Build Pst\n",
    "\n",
    "The `PstFrom.build_pst()` method builds a control file from the `PstFrom` object. It will write a PEST control file to the template folder. It will also write the `forward_run.py` script. It returns a pyEMU `Pst` object with all the information of the PEST control file. You can subsequently edit this `Pst` object. However, (***IMPORTANT***) any subsequent changes to the `Pst` object are not reflected in the `PstFrom` object, or viceversa. If you subsequently use `PstFrom` to add more observation or parameter files, you will need to re-build the `Pst` object. When you do so, all edits to the `Pst` object will be lost. Keep this in mind when designing your workflow.\n",
    "\n",
    "\n",
    "Here we go!\n",
    "\n",
    "(Note: in a normal workflow, we probably wouldn't do this yet. We are doing so now for demonstration purposes.)"
   ]
  },
  {
   "cell_type": "code",
   "execution_count": 34,
   "metadata": {
    "execution": {
     "iopub.execute_input": "2022-03-15T05:20:59.591601Z",
     "iopub.status.busy": "2022-03-15T05:20:59.575654Z",
     "iopub.status.idle": "2022-03-15T05:21:01.511329Z",
     "shell.execute_reply": "2022-03-15T05:21:01.511329Z"
    }
   },
   "outputs": [
    {
     "name": "stdout",
     "output_type": "stream",
     "text": [
      "noptmax:0, npar_adj:25454, nnz_obs:725\n"
     ]
    }
   ],
   "source": [
    "pst = pf.build_pst()"
   ]
  },
  {
   "cell_type": "markdown",
   "metadata": {},
   "source": [
    "Boom! Done. (Well almost.) Check the folder. You should see a new .pst file and the `forward_run.py` file. By default, the .pst file is named after the original model folder name. "
   ]
  },
  {
   "cell_type": "code",
   "execution_count": 35,
   "metadata": {
    "execution": {
     "iopub.execute_input": "2022-03-15T05:21:01.515280Z",
     "iopub.status.busy": "2022-03-15T05:21:01.514283Z",
     "iopub.status.idle": "2022-03-15T05:21:01.527216Z",
     "shell.execute_reply": "2022-03-15T05:21:01.527216Z"
    }
   },
   "outputs": [
    {
     "data": {
      "text/plain": [
       "['forward_run.py', 'freyberg_mf6.pst']"
      ]
     },
     "execution_count": 35,
     "metadata": {},
     "output_type": "execute_result"
    }
   ],
   "source": [
    "[f for f in os.listdir(template_ws) if f.endswith(\".py\") or f.endswith(\".pst\") ]"
   ]
  },
  {
   "cell_type": "markdown",
   "metadata": {},
   "source": [
    "We will get to the `pst` object later on (see also the \"intro to pyemu\" tutorial notebook). For now, let's focus on the `forward_run.py` script. It is printed out below.\n",
    "\n",
    "This script does a bunch of things:\n",
    " - it loads necessary dependecies\n",
    " - it removes model output files to avoid the possibility of files from a previous model run being read by mistake;\n",
    " - it runs pre-processing steps (see `pyemu.helpers.apply_list_and_array_pars()`;\n",
    " - it executes system commands (usually running the simulator, i.e. MODFLOW). (*This is still missing. We will demonstrate next.*)\n",
    " - it executes post-processing steps; (*for now there aren't any*)\n",
    " - ...it washes the dishes (sorry, no it doesn't...this feature is still in development)."
   ]
  },
  {
   "cell_type": "code",
   "execution_count": 36,
   "metadata": {
    "execution": {
     "iopub.execute_input": "2022-03-15T05:21:01.530172Z",
     "iopub.status.busy": "2022-03-15T05:21:01.530172Z",
     "iopub.status.idle": "2022-03-15T05:21:01.543020Z",
     "shell.execute_reply": "2022-03-15T05:21:01.541989Z"
    }
   },
   "outputs": [
    {
     "name": "stdout",
     "output_type": "stream",
     "text": [
      "import os\n",
      "import multiprocessing as mp\n",
      "import numpy as np\n",
      "import pandas as pd\n",
      "import pyemu\n",
      "def main():\n",
      "\n",
      "    try:\n",
      "       os.remove(r'heads.csv')\n",
      "    except Exception as e:\n",
      "       print(r'error removing tmp file:heads.csv')\n",
      "    try:\n",
      "       os.remove(r'sfr.csv')\n",
      "    except Exception as e:\n",
      "       print(r'error removing tmp file:sfr.csv')\n",
      "    pyemu.helpers.apply_list_and_array_pars(arr_par_file='mult2model_info.csv',chunk_len=50)\n",
      "\n",
      "if __name__ == '__main__':\n",
      "    mp.freeze_support()\n",
      "    main()\n",
      "\n"
     ]
    }
   ],
   "source": [
    "_ = [print(line.rstrip()) for line in open(os.path.join(template_ws,\"forward_run.py\"))]"
   ]
  },
  {
   "cell_type": "markdown",
   "metadata": {},
   "source": [
    "That's pretty amazing. But as we just saw, we still need to add commands to actualy run the model.\n",
    "\n",
    "`PstFrom` allows you to pass a list of system commands which will be executed in sequence. It also has methods for including Python functions that run before or after the system commands. These make pre-/post-processing a piece of cake. In fact, we have already started to add to it. Remember all of the multiplier and additive parameters we setup? These all require pre-processing steps to convert the PEST-generated multipliers into model input values. `PstFrom` will automatically add these functions to the `forward_run.py` script. Nifty, hey?\n",
    "\n",
    "Next we will demonstrate how to specify the system commands and add Python functions as processing steps.\n",
    "\n",
    "#### 6.2. Sys Commands\n",
    "\n",
    "Let's start by adding a command line instruction. These are stored as a list in `PstFrom.mod_sys_cmds`, which is currently empty. "
   ]
  },
  {
   "cell_type": "code",
   "execution_count": 37,
   "metadata": {
    "execution": {
     "iopub.execute_input": "2022-03-15T05:21:01.545978Z",
     "iopub.status.busy": "2022-03-15T05:21:01.545978Z",
     "iopub.status.idle": "2022-03-15T05:21:01.558652Z",
     "shell.execute_reply": "2022-03-15T05:21:01.558652Z"
    }
   },
   "outputs": [
    {
     "data": {
      "text/plain": [
       "[]"
      ]
     },
     "execution_count": 37,
     "metadata": {},
     "output_type": "execute_result"
    }
   ],
   "source": [
    "pf.mod_sys_cmds "
   ]
  },
  {
   "cell_type": "markdown",
   "metadata": {},
   "source": [
    "To run a MODFLOW6 model from the command line, you can simply execute `mf6` in the model folder. So, we can add this command by appending it to the list. (Do this only once! Every time you append 'mf6' results in an additional call to MODFLOW6, meaning the model would be run multiple times.)\n",
    "\n",
    "`PstFrom` will add a line to `forward_run.py` w"
   ]
  },
  {
   "cell_type": "code",
   "execution_count": 38,
   "metadata": {
    "execution": {
     "iopub.execute_input": "2022-03-15T05:21:01.562607Z",
     "iopub.status.busy": "2022-03-15T05:21:01.561609Z",
     "iopub.status.idle": "2022-03-15T05:21:01.578207Z",
     "shell.execute_reply": "2022-03-15T05:21:01.579196Z"
    }
   },
   "outputs": [
    {
     "data": {
      "text/plain": [
       "['mf6']"
      ]
     },
     "execution_count": 38,
     "metadata": {},
     "output_type": "execute_result"
    }
   ],
   "source": [
    "pf.mod_sys_cmds.append(\"mf6\") #do this only once\n",
    "pf.mod_sys_cmds"
   ]
  },
  {
   "cell_type": "markdown",
   "metadata": {},
   "source": [
    "OK, now let's re-build the Pst control file and check out the changes ot the `forward_run.py` script.\n",
    "\n",
    "You should see that `pyemu.os_utils.run(r'mf6')` has been added after the pre-processing functions."
   ]
  },
  {
   "cell_type": "code",
   "execution_count": 39,
   "metadata": {
    "execution": {
     "iopub.execute_input": "2022-03-15T05:21:01.619029Z",
     "iopub.status.busy": "2022-03-15T05:21:01.618068Z",
     "iopub.status.idle": "2022-03-15T05:21:03.555827Z",
     "shell.execute_reply": "2022-03-15T05:21:03.555827Z"
    }
   },
   "outputs": [
    {
     "name": "stdout",
     "output_type": "stream",
     "text": [
      "noptmax:0, npar_adj:25454, nnz_obs:725\n"
     ]
    },
    {
     "name": "stdout",
     "output_type": "stream",
     "text": [
      "2022-03-15 15:51:03.255457 forward_run line:pyemu.os_utils.run(r'mf6')\n",
      "\n"
     ]
    },
    {
     "name": "stdout",
     "output_type": "stream",
     "text": [
      "import os\n",
      "import multiprocessing as mp\n",
      "import numpy as np\n",
      "import pandas as pd\n",
      "import pyemu\n",
      "def main():\n",
      "\n",
      "    try:\n",
      "       os.remove(r'heads.csv')\n",
      "    except Exception as e:\n",
      "       print(r'error removing tmp file:heads.csv')\n",
      "    try:\n",
      "       os.remove(r'sfr.csv')\n",
      "    except Exception as e:\n",
      "       print(r'error removing tmp file:sfr.csv')\n",
      "    pyemu.helpers.apply_list_and_array_pars(arr_par_file='mult2model_info.csv',chunk_len=50)\n",
      "    pyemu.os_utils.run(r'mf6')\n",
      "\n",
      "\n",
      "if __name__ == '__main__':\n",
      "    mp.freeze_support()\n",
      "    main()\n",
      "\n"
     ]
    }
   ],
   "source": [
    "pst = pf.build_pst()\n",
    "\n",
    "_ = [print(line.rstrip()) for line in open(os.path.join(template_ws,\"forward_run.py\"))]"
   ]
  },
  {
   "cell_type": "markdown",
   "metadata": {},
   "source": [
    "#### 6.3. Extra pre- and post-processing functions\n",
    "\n",
    "You will also certainly need to include some additional processing steps.  These are supported thru the `PstFrom.pre_py_cmds` and `PstFrom.post_py_cmds`, which are lists for pre and post model run python commands and `PstFrom.pre_sys_cmds` and `PstFrom.post_sys_cmds`, which are lists for pre and post model run system commands (these are wrapped in `pyemu.os_utils.run()`.  \n",
    "\n",
    "But what if your additional steps are actually an entire python function? Well, we got that too! `PstFrom.add_py_function()`. This method allows you to get functions from another (pre-prepared) python source file and add them to the `forward_run.py` script. We will deonstrate this to post-process secondary model observations after each run.\n",
    "\n",
    "#### 6.3.1. Secondary Observations\n",
    "\n",
    "Often it is usefull to include \"secondary model outcomes\" as observations. These can be important components in a history-matching dataset to tease out specific aspects of system behaviour (e.g. head differences between aquifer layers to inform vertical permeabilities). Or they may be simple summaries of modelled outputs which are of interest for a prediction (e.g. minimum simulated head over a given period).\n",
    "\n",
    "If you inspect the tutorial folder you will find a file named `helpers.py`. This is a python source file which we have prepared for you. (Open it to see how it is organized.) It contains a function named `process_secondary_obs()`. This function reads the model output .csv files, processes them and writes a series of new observation .csv files. These new files contain (1) the temporal-differences between head and SFR observations, and (2) the difference in heads between the top and bottom layers at each observation point. The new .csv files are named `heads.tdiff.csv`,`sfr.tdiff.csv` and `heads.vdiff.csv` respectively.\n",
    "\n",
    "First, lets load the function here and run it so you can see what happens. (And to make sure that the observation files are in the template folder!) \n",
    "\n",
    "Run the next cell, then inspect the template folder. You should see three new csv files. These are the new secondary observations calculated by the post-processing function."
   ]
  },
  {
   "cell_type": "code",
   "execution_count": 40,
   "metadata": {
    "execution": {
     "iopub.execute_input": "2022-03-15T05:21:03.558818Z",
     "iopub.status.busy": "2022-03-15T05:21:03.558818Z",
     "iopub.status.idle": "2022-03-15T05:21:03.587737Z",
     "shell.execute_reply": "2022-03-15T05:21:03.586705Z"
    }
   },
   "outputs": [
    {
     "name": "stdout",
     "output_type": "stream",
     "text": [
      "Secondary observation files processed.\n"
     ]
    }
   ],
   "source": [
    "from helpers import  process_secondary_obs\n",
    "\n",
    "process_secondary_obs(ws=template_ws)"
   ]
  },
  {
   "cell_type": "code",
   "execution_count": 41,
   "metadata": {
    "execution": {
     "iopub.execute_input": "2022-03-15T05:21:03.590726Z",
     "iopub.status.busy": "2022-03-15T05:21:03.590726Z",
     "iopub.status.idle": "2022-03-15T05:21:03.602496Z",
     "shell.execute_reply": "2022-03-15T05:21:03.602496Z"
    }
   },
   "outputs": [
    {
     "data": {
      "text/plain": [
       "['heads.csv',\n",
       " 'heads.tdiff.csv',\n",
       " 'heads.vdiff.csv',\n",
       " 'mult2model_info.csv',\n",
       " 'sfr.csv',\n",
       " 'sfr.tdiff.csv']"
      ]
     },
     "execution_count": 41,
     "metadata": {},
     "output_type": "execute_result"
    }
   ],
   "source": [
    "[f for f in os.listdir(template_ws) if f.endswith(\".csv\")]"
   ]
  },
  {
   "cell_type": "markdown",
   "metadata": {},
   "source": [
    "OK, so now let's add this function to the `forward_run.py` script."
   ]
  },
  {
   "cell_type": "code",
   "execution_count": 42,
   "metadata": {
    "execution": {
     "iopub.execute_input": "2022-03-15T05:21:03.606476Z",
     "iopub.status.busy": "2022-03-15T05:21:03.605454Z",
     "iopub.status.idle": "2022-03-15T05:21:03.621641Z",
     "shell.execute_reply": "2022-03-15T05:21:03.620641Z"
    }
   },
   "outputs": [],
   "source": [
    "pf.add_py_function(\"helpers.py\", # the file which contains the function\n",
    "                    \"process_secondary_obs(ws='.')\", #the function, making sure to specify any arguments it may requrie\n",
    "                    is_pre_cmd=False) # whether it runs before the model system command, or after. In this case, after."
   ]
  },
  {
   "cell_type": "markdown",
   "metadata": {},
   "source": [
    "And, boom! Bob's your uncle. As easy as that.\n",
    "\n",
    "Now, of course we want to add these observations to `PstFrom` as well:"
   ]
  },
  {
   "cell_type": "code",
   "execution_count": 43,
   "metadata": {
    "execution": {
     "iopub.execute_input": "2022-03-15T05:21:03.634608Z",
     "iopub.status.busy": "2022-03-15T05:21:03.633717Z",
     "iopub.status.idle": "2022-03-15T05:21:03.744229Z",
     "shell.execute_reply": "2022-03-15T05:21:03.744229Z"
    }
   },
   "outputs": [
    {
     "name": "stdout",
     "output_type": "stream",
     "text": [
      "2022-03-15 15:51:03.640580 starting: adding observations from output file sfr.tdiff.csv\n",
      "2022-03-15 15:51:03.640580 starting: adding observations from tabular output file '['sfr.tdiff.csv']'\n",
      "2022-03-15 15:51:03.640580 starting: reading list-style file: freyberg6_template\\sfr.tdiff.csv\n",
      "2022-03-15 15:51:03.642574 finished: reading list-style file: freyberg6_template\\sfr.tdiff.csv took: 0:00:00.001994\n",
      "2022-03-15 15:51:03.642574 starting: building insfile for tabular output file sfr.tdiff.csv\n",
      "2022-03-15 15:51:03.649549 finished: building insfile for tabular output file sfr.tdiff.csv took: 0:00:00.006975\n",
      "2022-03-15 15:51:03.649549 starting: adding observation from instruction file 'freyberg6_template\\sfr.tdiff.csv.ins'\n",
      "2022-03-15 15:51:03.658550 finished: adding observation from instruction file 'freyberg6_template\\sfr.tdiff.csv.ins' took: 0:00:00.009001\n",
      "2022-03-15 15:51:03.659496 finished: adding observations from tabular output file '['sfr.tdiff.csv']' took: 0:00:00.018916\n",
      "2022-03-15 15:51:03.669502 starting: adding observations from output file heads.tdiff.csv\n",
      "2022-03-15 15:51:03.669502 starting: adding observations from tabular output file '['heads.tdiff.csv']'\n",
      "2022-03-15 15:51:03.669502 starting: reading list-style file: freyberg6_template\\heads.tdiff.csv\n",
      "2022-03-15 15:51:03.671476 finished: reading list-style file: freyberg6_template\\heads.tdiff.csv took: 0:00:00.001974\n",
      "2022-03-15 15:51:03.671476 starting: building insfile for tabular output file heads.tdiff.csv\n",
      "2022-03-15 15:51:03.680452 finished: building insfile for tabular output file heads.tdiff.csv took: 0:00:00.008976\n",
      "2022-03-15 15:51:03.680452 starting: adding observation from instruction file 'freyberg6_template\\heads.tdiff.csv.ins'\n",
      "2022-03-15 15:51:03.700399 finished: adding observation from instruction file 'freyberg6_template\\heads.tdiff.csv.ins' took: 0:00:00.019947\n",
      "2022-03-15 15:51:03.702393 finished: adding observations from tabular output file '['heads.tdiff.csv']' took: 0:00:00.032891\n",
      "2022-03-15 15:51:03.710372 starting: adding observations from output file heads.vdiff.csv\n",
      "2022-03-15 15:51:03.710372 starting: adding observations from tabular output file '['heads.vdiff.csv']'\n",
      "2022-03-15 15:51:03.710372 starting: reading list-style file: freyberg6_template\\heads.vdiff.csv\n",
      "2022-03-15 15:51:03.712367 finished: reading list-style file: freyberg6_template\\heads.vdiff.csv took: 0:00:00.001995\n",
      "2022-03-15 15:51:03.712367 starting: building insfile for tabular output file heads.vdiff.csv\n",
      "2022-03-15 15:51:03.720346 finished: building insfile for tabular output file heads.vdiff.csv took: 0:00:00.007979\n",
      "2022-03-15 15:51:03.720346 starting: adding observation from instruction file 'freyberg6_template\\heads.vdiff.csv.ins'\n",
      "2022-03-15 15:51:03.736303 finished: adding observation from instruction file 'freyberg6_template\\heads.vdiff.csv.ins' took: 0:00:00.015957\n"
     ]
    },
    {
     "name": "stdout",
     "output_type": "stream",
     "text": [
      "2022-03-15 15:51:03.738297 finished: adding observations from tabular output file '['heads.vdiff.csv']' took: 0:00:00.027925\n"
     ]
    }
   ],
   "source": [
    "\n",
    "df = pd.read_csv(os.path.join(template_ws, \"sfr.tdiff.csv\"), index_col=0)\n",
    "_ = pf.add_observations(\"sfr.tdiff.csv\", # the model output file to read\n",
    "                            insfile=\"sfr.tdiff.csv.ins\", #optional, the instruction file name\n",
    "                            index_cols=\"time\", #column header to use as index; can also use column number (zero-based) instead of the header name\n",
    "                            use_cols=list(df.columns.values), #names of columns that include observation values; can also use column number (zero-based) instead of the header name\n",
    "                            prefix=\"sfrtd\") #prefix to all observation \n",
    "                            \n",
    "df = pd.read_csv(os.path.join(template_ws, \"heads.tdiff.csv\"), index_col=0)\n",
    "_ = pf.add_observations(\"heads.tdiff.csv\", # the model output file to read\n",
    "                            insfile=\"heads.tdiff.csv.ins\", #optional, the instruction file name\n",
    "                            index_cols=\"time\", #column header to use as index; can also use column number (zero-based) instead of the header name\n",
    "                            use_cols=list(df.columns.values), #names of columns that include observation values; can also use column number (zero-based) instead of the header name\n",
    "                            prefix=\"hdstd\") #prefix to all observation names\n",
    "\n",
    "df = pd.read_csv(os.path.join(template_ws, \"heads.vdiff.csv\"), index_col=0)\n",
    "_ = pf.add_observations(\"heads.vdiff.csv\", # the model output file to read\n",
    "                            insfile=\"heads.vdiff.csv.ins\", #optional, the instruction file name\n",
    "                            index_cols=\"time\", #column header to use as index; can also use column number (zero-based) instead of the header name\n",
    "                            use_cols=list(df.columns.values), #names of columns that include observation values; can also use column number (zero-based) instead of the header name\n",
    "                            prefix=\"hdsvd\") #prefix to all observation names"
   ]
  },
  {
   "cell_type": "markdown",
   "metadata": {},
   "source": [
    "Remember to re-build the Pst control file:"
   ]
  },
  {
   "cell_type": "code",
   "execution_count": 44,
   "metadata": {
    "execution": {
     "iopub.execute_input": "2022-03-15T05:21:03.748220Z",
     "iopub.status.busy": "2022-03-15T05:21:03.747223Z",
     "iopub.status.idle": "2022-03-15T05:21:05.739574Z",
     "shell.execute_reply": "2022-03-15T05:21:05.740608Z"
    }
   },
   "outputs": [
    {
     "name": "stdout",
     "output_type": "stream",
     "text": [
      "noptmax:0, npar_adj:25454, nnz_obs:1775\n"
     ]
    },
    {
     "name": "stdout",
     "output_type": "stream",
     "text": [
      "2022-03-15 15:51:05.450627 WARNING: sys_cmd 'pyemu.os_utils.run(r'mf6')\n",
      "' already in sys cmds, skipping...\n"
     ]
    }
   ],
   "source": [
    "pst = pf.build_pst()"
   ]
  },
  {
   "cell_type": "markdown",
   "metadata": {},
   "source": [
    "### 7. After Building the Control File\n",
    "\n",
    "At this point, we can do some additional modifications that would typically be done that are problem specific.  Here we can tweak the setup, specifying things such as observation weights, parameter bounds, transforms, control data, etc. \n",
    "\n",
    "Note that any modifications made after calling `PstFrom.build_pst()` will only exist in memory - you need to call `pf.pst.write()` to record these changes to the control file on disk.  Also note that if you call `PstFrom.build_pst()` after making some changes, these changes will be lost.  \n",
    "\n",
    "For the current case, the main thing we haven't addressed are the observation weights. We will do so now.\n",
    "\n",
    "#### 7.1. Setting observation weights\n",
    "\n",
    "So far, we have automated the setup for PEST(++).  But one critical task remains and there is not an easy way to automate it:  setting the actual observed values and weights in the `* observation data` information.  \n",
    "\n",
    "`PstFrom` and `Pst` will both try to read existing model output files that correspond to instruction files and put those simulated values into the `* observation data` section for the observed values (the `obsval` quantity).  Here, we pre-populated the model output files with \"measured values\". So, in our case, we are OK in this regard.  Alternatively, we could have edited the `* observation data` at this stage, assigning the respective measured values into the `obsval` column. \n",
    "\n",
    "What we are unable to deal with beforehand are the observation weights. Let's take a look at the observation data:"
   ]
  },
  {
   "cell_type": "code",
   "execution_count": 45,
   "metadata": {
    "execution": {
     "iopub.execute_input": "2022-03-15T05:21:05.753540Z",
     "iopub.status.busy": "2022-03-15T05:21:05.752551Z",
     "iopub.status.idle": "2022-03-15T05:21:05.770966Z",
     "shell.execute_reply": "2022-03-15T05:21:05.770966Z"
    }
   },
   "outputs": [
    {
     "data": {
      "text/html": [
       "<div>\n",
       "<style scoped>\n",
       "    .dataframe tbody tr th:only-of-type {\n",
       "        vertical-align: middle;\n",
       "    }\n",
       "\n",
       "    .dataframe tbody tr th {\n",
       "        vertical-align: top;\n",
       "    }\n",
       "\n",
       "    .dataframe thead th {\n",
       "        text-align: right;\n",
       "    }\n",
       "</style>\n",
       "<table border=\"1\" class=\"dataframe\">\n",
       "  <thead>\n",
       "    <tr style=\"text-align: right;\">\n",
       "      <th></th>\n",
       "      <th>obsnme</th>\n",
       "      <th>obsval</th>\n",
       "      <th>weight</th>\n",
       "      <th>obgnme</th>\n",
       "      <th>oname</th>\n",
       "      <th>otype</th>\n",
       "      <th>usecol</th>\n",
       "      <th>time</th>\n",
       "    </tr>\n",
       "  </thead>\n",
       "  <tbody>\n",
       "    <tr>\n",
       "      <th>oname:hds_otype:lst_usecol:trgw_0_13_10_time:1.0</th>\n",
       "      <td>oname:hds_otype:lst_usecol:trgw_0_13_10_time:1.0</td>\n",
       "      <td>34.406181</td>\n",
       "      <td>1.0</td>\n",
       "      <td>oname:hds_otype:lst_usecol:trgw_0_13_10</td>\n",
       "      <td>hds</td>\n",
       "      <td>lst</td>\n",
       "      <td>trgw</td>\n",
       "      <td>1.0</td>\n",
       "    </tr>\n",
       "    <tr>\n",
       "      <th>oname:hds_otype:lst_usecol:trgw_0_13_10_time:122.0</th>\n",
       "      <td>oname:hds_otype:lst_usecol:trgw_0_13_10_time:122.0</td>\n",
       "      <td>34.450661</td>\n",
       "      <td>1.0</td>\n",
       "      <td>oname:hds_otype:lst_usecol:trgw_0_13_10</td>\n",
       "      <td>hds</td>\n",
       "      <td>lst</td>\n",
       "      <td>trgw</td>\n",
       "      <td>122.0</td>\n",
       "    </tr>\n",
       "    <tr>\n",
       "      <th>oname:hds_otype:lst_usecol:trgw_0_13_10_time:153.0</th>\n",
       "      <td>oname:hds_otype:lst_usecol:trgw_0_13_10_time:153.0</td>\n",
       "      <td>34.441799</td>\n",
       "      <td>1.0</td>\n",
       "      <td>oname:hds_otype:lst_usecol:trgw_0_13_10</td>\n",
       "      <td>hds</td>\n",
       "      <td>lst</td>\n",
       "      <td>trgw</td>\n",
       "      <td>153.0</td>\n",
       "    </tr>\n",
       "    <tr>\n",
       "      <th>oname:hds_otype:lst_usecol:trgw_0_13_10_time:183.0</th>\n",
       "      <td>oname:hds_otype:lst_usecol:trgw_0_13_10_time:183.0</td>\n",
       "      <td>34.375622</td>\n",
       "      <td>1.0</td>\n",
       "      <td>oname:hds_otype:lst_usecol:trgw_0_13_10</td>\n",
       "      <td>hds</td>\n",
       "      <td>lst</td>\n",
       "      <td>trgw</td>\n",
       "      <td>183.0</td>\n",
       "    </tr>\n",
       "    <tr>\n",
       "      <th>oname:hds_otype:lst_usecol:trgw_0_13_10_time:214.0</th>\n",
       "      <td>oname:hds_otype:lst_usecol:trgw_0_13_10_time:214.0</td>\n",
       "      <td>34.323056</td>\n",
       "      <td>1.0</td>\n",
       "      <td>oname:hds_otype:lst_usecol:trgw_0_13_10</td>\n",
       "      <td>hds</td>\n",
       "      <td>lst</td>\n",
       "      <td>trgw</td>\n",
       "      <td>214.0</td>\n",
       "    </tr>\n",
       "    <tr>\n",
       "      <th>...</th>\n",
       "      <td>...</td>\n",
       "      <td>...</td>\n",
       "      <td>...</td>\n",
       "      <td>...</td>\n",
       "      <td>...</td>\n",
       "      <td>...</td>\n",
       "      <td>...</td>\n",
       "      <td>...</td>\n",
       "    </tr>\n",
       "    <tr>\n",
       "      <th>oname:hdsvd_otype:lst_usecol:trgw_0_9_1_time:640.0</th>\n",
       "      <td>oname:hdsvd_otype:lst_usecol:trgw_0_9_1_time:640.0</td>\n",
       "      <td>0.002537</td>\n",
       "      <td>1.0</td>\n",
       "      <td>oname:hdsvd_otype:lst_usecol:trgw_0_9_1</td>\n",
       "      <td>hdsvd</td>\n",
       "      <td>lst</td>\n",
       "      <td>trgw</td>\n",
       "      <td>640.0</td>\n",
       "    </tr>\n",
       "    <tr>\n",
       "      <th>oname:hdsvd_otype:lst_usecol:trgw_0_9_1_time:671.0</th>\n",
       "      <td>oname:hdsvd_otype:lst_usecol:trgw_0_9_1_time:671.0</td>\n",
       "      <td>0.003066</td>\n",
       "      <td>1.0</td>\n",
       "      <td>oname:hdsvd_otype:lst_usecol:trgw_0_9_1</td>\n",
       "      <td>hdsvd</td>\n",
       "      <td>lst</td>\n",
       "      <td>trgw</td>\n",
       "      <td>671.0</td>\n",
       "    </tr>\n",
       "    <tr>\n",
       "      <th>oname:hdsvd_otype:lst_usecol:trgw_0_9_1_time:701.0</th>\n",
       "      <td>oname:hdsvd_otype:lst_usecol:trgw_0_9_1_time:701.0</td>\n",
       "      <td>0.002878</td>\n",
       "      <td>1.0</td>\n",
       "      <td>oname:hdsvd_otype:lst_usecol:trgw_0_9_1</td>\n",
       "      <td>hdsvd</td>\n",
       "      <td>lst</td>\n",
       "      <td>trgw</td>\n",
       "      <td>701.0</td>\n",
       "    </tr>\n",
       "    <tr>\n",
       "      <th>oname:hdsvd_otype:lst_usecol:trgw_0_9_1_time:732.0</th>\n",
       "      <td>oname:hdsvd_otype:lst_usecol:trgw_0_9_1_time:732.0</td>\n",
       "      <td>0.007718</td>\n",
       "      <td>1.0</td>\n",
       "      <td>oname:hdsvd_otype:lst_usecol:trgw_0_9_1</td>\n",
       "      <td>hdsvd</td>\n",
       "      <td>lst</td>\n",
       "      <td>trgw</td>\n",
       "      <td>732.0</td>\n",
       "    </tr>\n",
       "    <tr>\n",
       "      <th>oname:hdsvd_otype:lst_usecol:trgw_0_9_1_time:92.0</th>\n",
       "      <td>oname:hdsvd_otype:lst_usecol:trgw_0_9_1_time:92.0</td>\n",
       "      <td>0.004588</td>\n",
       "      <td>1.0</td>\n",
       "      <td>oname:hdsvd_otype:lst_usecol:trgw_0_9_1</td>\n",
       "      <td>hdsvd</td>\n",
       "      <td>lst</td>\n",
       "      <td>trgw</td>\n",
       "      <td>92.0</td>\n",
       "    </tr>\n",
       "  </tbody>\n",
       "</table>\n",
       "<p>1775 rows × 8 columns</p>\n",
       "</div>"
      ],
      "text/plain": [
       "                                                                                                obsnme  \\\n",
       "oname:hds_otype:lst_usecol:trgw_0_13_10_time:1.0      oname:hds_otype:lst_usecol:trgw_0_13_10_time:1.0   \n",
       "oname:hds_otype:lst_usecol:trgw_0_13_10_time:122.0  oname:hds_otype:lst_usecol:trgw_0_13_10_time:122.0   \n",
       "oname:hds_otype:lst_usecol:trgw_0_13_10_time:153.0  oname:hds_otype:lst_usecol:trgw_0_13_10_time:153.0   \n",
       "oname:hds_otype:lst_usecol:trgw_0_13_10_time:183.0  oname:hds_otype:lst_usecol:trgw_0_13_10_time:183.0   \n",
       "oname:hds_otype:lst_usecol:trgw_0_13_10_time:214.0  oname:hds_otype:lst_usecol:trgw_0_13_10_time:214.0   \n",
       "...                                                                                                ...   \n",
       "oname:hdsvd_otype:lst_usecol:trgw_0_9_1_time:640.0  oname:hdsvd_otype:lst_usecol:trgw_0_9_1_time:640.0   \n",
       "oname:hdsvd_otype:lst_usecol:trgw_0_9_1_time:671.0  oname:hdsvd_otype:lst_usecol:trgw_0_9_1_time:671.0   \n",
       "oname:hdsvd_otype:lst_usecol:trgw_0_9_1_time:701.0  oname:hdsvd_otype:lst_usecol:trgw_0_9_1_time:701.0   \n",
       "oname:hdsvd_otype:lst_usecol:trgw_0_9_1_time:732.0  oname:hdsvd_otype:lst_usecol:trgw_0_9_1_time:732.0   \n",
       "oname:hdsvd_otype:lst_usecol:trgw_0_9_1_time:92.0    oname:hdsvd_otype:lst_usecol:trgw_0_9_1_time:92.0   \n",
       "\n",
       "                                                       obsval  weight  \\\n",
       "oname:hds_otype:lst_usecol:trgw_0_13_10_time:1.0    34.406181     1.0   \n",
       "oname:hds_otype:lst_usecol:trgw_0_13_10_time:122.0  34.450661     1.0   \n",
       "oname:hds_otype:lst_usecol:trgw_0_13_10_time:153.0  34.441799     1.0   \n",
       "oname:hds_otype:lst_usecol:trgw_0_13_10_time:183.0  34.375622     1.0   \n",
       "oname:hds_otype:lst_usecol:trgw_0_13_10_time:214.0  34.323056     1.0   \n",
       "...                                                       ...     ...   \n",
       "oname:hdsvd_otype:lst_usecol:trgw_0_9_1_time:640.0   0.002537     1.0   \n",
       "oname:hdsvd_otype:lst_usecol:trgw_0_9_1_time:671.0   0.003066     1.0   \n",
       "oname:hdsvd_otype:lst_usecol:trgw_0_9_1_time:701.0   0.002878     1.0   \n",
       "oname:hdsvd_otype:lst_usecol:trgw_0_9_1_time:732.0   0.007718     1.0   \n",
       "oname:hdsvd_otype:lst_usecol:trgw_0_9_1_time:92.0    0.004588     1.0   \n",
       "\n",
       "                                                                                     obgnme  \\\n",
       "oname:hds_otype:lst_usecol:trgw_0_13_10_time:1.0    oname:hds_otype:lst_usecol:trgw_0_13_10   \n",
       "oname:hds_otype:lst_usecol:trgw_0_13_10_time:122.0  oname:hds_otype:lst_usecol:trgw_0_13_10   \n",
       "oname:hds_otype:lst_usecol:trgw_0_13_10_time:153.0  oname:hds_otype:lst_usecol:trgw_0_13_10   \n",
       "oname:hds_otype:lst_usecol:trgw_0_13_10_time:183.0  oname:hds_otype:lst_usecol:trgw_0_13_10   \n",
       "oname:hds_otype:lst_usecol:trgw_0_13_10_time:214.0  oname:hds_otype:lst_usecol:trgw_0_13_10   \n",
       "...                                                                                     ...   \n",
       "oname:hdsvd_otype:lst_usecol:trgw_0_9_1_time:640.0  oname:hdsvd_otype:lst_usecol:trgw_0_9_1   \n",
       "oname:hdsvd_otype:lst_usecol:trgw_0_9_1_time:671.0  oname:hdsvd_otype:lst_usecol:trgw_0_9_1   \n",
       "oname:hdsvd_otype:lst_usecol:trgw_0_9_1_time:701.0  oname:hdsvd_otype:lst_usecol:trgw_0_9_1   \n",
       "oname:hdsvd_otype:lst_usecol:trgw_0_9_1_time:732.0  oname:hdsvd_otype:lst_usecol:trgw_0_9_1   \n",
       "oname:hdsvd_otype:lst_usecol:trgw_0_9_1_time:92.0   oname:hdsvd_otype:lst_usecol:trgw_0_9_1   \n",
       "\n",
       "                                                    oname otype usecol   time  \n",
       "oname:hds_otype:lst_usecol:trgw_0_13_10_time:1.0      hds   lst   trgw    1.0  \n",
       "oname:hds_otype:lst_usecol:trgw_0_13_10_time:122.0    hds   lst   trgw  122.0  \n",
       "oname:hds_otype:lst_usecol:trgw_0_13_10_time:153.0    hds   lst   trgw  153.0  \n",
       "oname:hds_otype:lst_usecol:trgw_0_13_10_time:183.0    hds   lst   trgw  183.0  \n",
       "oname:hds_otype:lst_usecol:trgw_0_13_10_time:214.0    hds   lst   trgw  214.0  \n",
       "...                                                   ...   ...    ...    ...  \n",
       "oname:hdsvd_otype:lst_usecol:trgw_0_9_1_time:640.0  hdsvd   lst   trgw  640.0  \n",
       "oname:hdsvd_otype:lst_usecol:trgw_0_9_1_time:671.0  hdsvd   lst   trgw  671.0  \n",
       "oname:hdsvd_otype:lst_usecol:trgw_0_9_1_time:701.0  hdsvd   lst   trgw  701.0  \n",
       "oname:hdsvd_otype:lst_usecol:trgw_0_9_1_time:732.0  hdsvd   lst   trgw  732.0  \n",
       "oname:hdsvd_otype:lst_usecol:trgw_0_9_1_time:92.0   hdsvd   lst   trgw   92.0  \n",
       "\n",
       "[1775 rows x 8 columns]"
      ]
     },
     "execution_count": 45,
     "metadata": {},
     "output_type": "execute_result"
    }
   ],
   "source": [
    "obs = pst.observation_data\n",
    "obs"
   ]
  },
  {
   "cell_type": "markdown",
   "metadata": {},
   "source": [
    "Hmm, that's alot of observations. And remember, alot of these pertain to the \"prediction\" period. We definitly do not want those to have an influence on history-matching.\n",
    "\n",
    "To be on the safe side, let's assign a weight of zero to all observations. Then, we will assign weights to specific observations that we wish to include as history-matching targets."
   ]
  },
  {
   "cell_type": "code",
   "execution_count": 46,
   "metadata": {
    "execution": {
     "iopub.execute_input": "2022-03-15T05:21:05.779944Z",
     "iopub.status.busy": "2022-03-15T05:21:05.779944Z",
     "iopub.status.idle": "2022-03-15T05:21:05.786409Z",
     "shell.execute_reply": "2022-03-15T05:21:05.785412Z"
    }
   },
   "outputs": [
    {
     "data": {
      "text/html": [
       "<div>\n",
       "<style scoped>\n",
       "    .dataframe tbody tr th:only-of-type {\n",
       "        vertical-align: middle;\n",
       "    }\n",
       "\n",
       "    .dataframe tbody tr th {\n",
       "        vertical-align: top;\n",
       "    }\n",
       "\n",
       "    .dataframe thead th {\n",
       "        text-align: right;\n",
       "    }\n",
       "</style>\n",
       "<table border=\"1\" class=\"dataframe\">\n",
       "  <thead>\n",
       "    <tr style=\"text-align: right;\">\n",
       "      <th></th>\n",
       "      <th>obsnme</th>\n",
       "      <th>obsval</th>\n",
       "      <th>weight</th>\n",
       "      <th>obgnme</th>\n",
       "      <th>oname</th>\n",
       "      <th>otype</th>\n",
       "      <th>usecol</th>\n",
       "      <th>time</th>\n",
       "    </tr>\n",
       "  </thead>\n",
       "  <tbody>\n",
       "    <tr>\n",
       "      <th>oname:hds_otype:lst_usecol:trgw_0_13_10_time:1.0</th>\n",
       "      <td>oname:hds_otype:lst_usecol:trgw_0_13_10_time:1.0</td>\n",
       "      <td>34.406181</td>\n",
       "      <td>0</td>\n",
       "      <td>oname:hds_otype:lst_usecol:trgw_0_13_10</td>\n",
       "      <td>hds</td>\n",
       "      <td>lst</td>\n",
       "      <td>trgw</td>\n",
       "      <td>1.0</td>\n",
       "    </tr>\n",
       "    <tr>\n",
       "      <th>oname:hds_otype:lst_usecol:trgw_0_13_10_time:122.0</th>\n",
       "      <td>oname:hds_otype:lst_usecol:trgw_0_13_10_time:122.0</td>\n",
       "      <td>34.450661</td>\n",
       "      <td>0</td>\n",
       "      <td>oname:hds_otype:lst_usecol:trgw_0_13_10</td>\n",
       "      <td>hds</td>\n",
       "      <td>lst</td>\n",
       "      <td>trgw</td>\n",
       "      <td>122.0</td>\n",
       "    </tr>\n",
       "    <tr>\n",
       "      <th>oname:hds_otype:lst_usecol:trgw_0_13_10_time:153.0</th>\n",
       "      <td>oname:hds_otype:lst_usecol:trgw_0_13_10_time:153.0</td>\n",
       "      <td>34.441799</td>\n",
       "      <td>0</td>\n",
       "      <td>oname:hds_otype:lst_usecol:trgw_0_13_10</td>\n",
       "      <td>hds</td>\n",
       "      <td>lst</td>\n",
       "      <td>trgw</td>\n",
       "      <td>153.0</td>\n",
       "    </tr>\n",
       "    <tr>\n",
       "      <th>oname:hds_otype:lst_usecol:trgw_0_13_10_time:183.0</th>\n",
       "      <td>oname:hds_otype:lst_usecol:trgw_0_13_10_time:183.0</td>\n",
       "      <td>34.375622</td>\n",
       "      <td>0</td>\n",
       "      <td>oname:hds_otype:lst_usecol:trgw_0_13_10</td>\n",
       "      <td>hds</td>\n",
       "      <td>lst</td>\n",
       "      <td>trgw</td>\n",
       "      <td>183.0</td>\n",
       "    </tr>\n",
       "    <tr>\n",
       "      <th>oname:hds_otype:lst_usecol:trgw_0_13_10_time:214.0</th>\n",
       "      <td>oname:hds_otype:lst_usecol:trgw_0_13_10_time:214.0</td>\n",
       "      <td>34.323056</td>\n",
       "      <td>0</td>\n",
       "      <td>oname:hds_otype:lst_usecol:trgw_0_13_10</td>\n",
       "      <td>hds</td>\n",
       "      <td>lst</td>\n",
       "      <td>trgw</td>\n",
       "      <td>214.0</td>\n",
       "    </tr>\n",
       "  </tbody>\n",
       "</table>\n",
       "</div>"
      ],
      "text/plain": [
       "                                                                                                obsnme  \\\n",
       "oname:hds_otype:lst_usecol:trgw_0_13_10_time:1.0      oname:hds_otype:lst_usecol:trgw_0_13_10_time:1.0   \n",
       "oname:hds_otype:lst_usecol:trgw_0_13_10_time:122.0  oname:hds_otype:lst_usecol:trgw_0_13_10_time:122.0   \n",
       "oname:hds_otype:lst_usecol:trgw_0_13_10_time:153.0  oname:hds_otype:lst_usecol:trgw_0_13_10_time:153.0   \n",
       "oname:hds_otype:lst_usecol:trgw_0_13_10_time:183.0  oname:hds_otype:lst_usecol:trgw_0_13_10_time:183.0   \n",
       "oname:hds_otype:lst_usecol:trgw_0_13_10_time:214.0  oname:hds_otype:lst_usecol:trgw_0_13_10_time:214.0   \n",
       "\n",
       "                                                       obsval  weight  \\\n",
       "oname:hds_otype:lst_usecol:trgw_0_13_10_time:1.0    34.406181       0   \n",
       "oname:hds_otype:lst_usecol:trgw_0_13_10_time:122.0  34.450661       0   \n",
       "oname:hds_otype:lst_usecol:trgw_0_13_10_time:153.0  34.441799       0   \n",
       "oname:hds_otype:lst_usecol:trgw_0_13_10_time:183.0  34.375622       0   \n",
       "oname:hds_otype:lst_usecol:trgw_0_13_10_time:214.0  34.323056       0   \n",
       "\n",
       "                                                                                     obgnme  \\\n",
       "oname:hds_otype:lst_usecol:trgw_0_13_10_time:1.0    oname:hds_otype:lst_usecol:trgw_0_13_10   \n",
       "oname:hds_otype:lst_usecol:trgw_0_13_10_time:122.0  oname:hds_otype:lst_usecol:trgw_0_13_10   \n",
       "oname:hds_otype:lst_usecol:trgw_0_13_10_time:153.0  oname:hds_otype:lst_usecol:trgw_0_13_10   \n",
       "oname:hds_otype:lst_usecol:trgw_0_13_10_time:183.0  oname:hds_otype:lst_usecol:trgw_0_13_10   \n",
       "oname:hds_otype:lst_usecol:trgw_0_13_10_time:214.0  oname:hds_otype:lst_usecol:trgw_0_13_10   \n",
       "\n",
       "                                                   oname otype usecol   time  \n",
       "oname:hds_otype:lst_usecol:trgw_0_13_10_time:1.0     hds   lst   trgw    1.0  \n",
       "oname:hds_otype:lst_usecol:trgw_0_13_10_time:122.0   hds   lst   trgw  122.0  \n",
       "oname:hds_otype:lst_usecol:trgw_0_13_10_time:153.0   hds   lst   trgw  153.0  \n",
       "oname:hds_otype:lst_usecol:trgw_0_13_10_time:183.0   hds   lst   trgw  183.0  \n",
       "oname:hds_otype:lst_usecol:trgw_0_13_10_time:214.0   hds   lst   trgw  214.0  "
      ]
     },
     "execution_count": 46,
     "metadata": {},
     "output_type": "execute_result"
    }
   ],
   "source": [
    "# preemptive avoidance of sillyness\n",
    "obs['weight'] = 0\n",
    "obs.head()"
   ]
  },
  {
   "cell_type": "markdown",
   "metadata": {},
   "source": [
    "Because `PstFrom` is our friend, it kept track of lots of information. We can now use this to help us slice and select specific observations. Scroll though the `obs` columns to see what we have at hand. \n",
    "\n",
    "For example, the `oname` column stores the \"prefix\" we assigned eveytime we called `pf.add_observations()`. This makes it easy for us to now select observations according to which file they were read from.\n",
    "\n",
    "Just as a reminder:"
   ]
  },
  {
   "cell_type": "code",
   "execution_count": 47,
   "metadata": {
    "execution": {
     "iopub.execute_input": "2022-03-15T05:21:05.790397Z",
     "iopub.status.busy": "2022-03-15T05:21:05.790397Z",
     "iopub.status.idle": "2022-03-15T05:21:05.802914Z",
     "shell.execute_reply": "2022-03-15T05:21:05.801878Z"
    }
   },
   "outputs": [
    {
     "data": {
      "text/plain": [
       "array(['hds', 'sfr', 'sfrtd', 'hdstd', 'hdsvd'], dtype=object)"
      ]
     },
     "execution_count": 47,
     "metadata": {},
     "output_type": "execute_result"
    }
   ],
   "source": [
    "obs['oname'].unique()"
   ]
  },
  {
   "cell_type": "markdown",
   "metadata": {},
   "source": [
    "So, if we want to select observations from the `heads.csv` file, and that have a time < than 367, we can just use `Pandas` .loc:"
   ]
  },
  {
   "cell_type": "code",
   "execution_count": 48,
   "metadata": {
    "execution": {
     "iopub.execute_input": "2022-03-15T05:21:05.808858Z",
     "iopub.status.busy": "2022-03-15T05:21:05.806865Z",
     "iopub.status.idle": "2022-03-15T05:21:05.818865Z",
     "shell.execute_reply": "2022-03-15T05:21:05.817834Z"
    }
   },
   "outputs": [
    {
     "data": {
      "text/html": [
       "<div>\n",
       "<style scoped>\n",
       "    .dataframe tbody tr th:only-of-type {\n",
       "        vertical-align: middle;\n",
       "    }\n",
       "\n",
       "    .dataframe tbody tr th {\n",
       "        vertical-align: top;\n",
       "    }\n",
       "\n",
       "    .dataframe thead th {\n",
       "        text-align: right;\n",
       "    }\n",
       "</style>\n",
       "<table border=\"1\" class=\"dataframe\">\n",
       "  <thead>\n",
       "    <tr style=\"text-align: right;\">\n",
       "      <th></th>\n",
       "      <th>obsnme</th>\n",
       "      <th>obsval</th>\n",
       "      <th>weight</th>\n",
       "      <th>obgnme</th>\n",
       "      <th>oname</th>\n",
       "      <th>otype</th>\n",
       "      <th>usecol</th>\n",
       "      <th>time</th>\n",
       "    </tr>\n",
       "  </thead>\n",
       "  <tbody>\n",
       "    <tr>\n",
       "      <th>oname:hds_otype:lst_usecol:trgw_0_13_10_time:1.0</th>\n",
       "      <td>oname:hds_otype:lst_usecol:trgw_0_13_10_time:1.0</td>\n",
       "      <td>34.406181</td>\n",
       "      <td>0</td>\n",
       "      <td>oname:hds_otype:lst_usecol:trgw_0_13_10</td>\n",
       "      <td>hds</td>\n",
       "      <td>lst</td>\n",
       "      <td>trgw</td>\n",
       "      <td>1.0</td>\n",
       "    </tr>\n",
       "    <tr>\n",
       "      <th>oname:hds_otype:lst_usecol:trgw_0_13_10_time:122.0</th>\n",
       "      <td>oname:hds_otype:lst_usecol:trgw_0_13_10_time:122.0</td>\n",
       "      <td>34.450661</td>\n",
       "      <td>0</td>\n",
       "      <td>oname:hds_otype:lst_usecol:trgw_0_13_10</td>\n",
       "      <td>hds</td>\n",
       "      <td>lst</td>\n",
       "      <td>trgw</td>\n",
       "      <td>122.0</td>\n",
       "    </tr>\n",
       "    <tr>\n",
       "      <th>oname:hds_otype:lst_usecol:trgw_0_13_10_time:153.0</th>\n",
       "      <td>oname:hds_otype:lst_usecol:trgw_0_13_10_time:153.0</td>\n",
       "      <td>34.441799</td>\n",
       "      <td>0</td>\n",
       "      <td>oname:hds_otype:lst_usecol:trgw_0_13_10</td>\n",
       "      <td>hds</td>\n",
       "      <td>lst</td>\n",
       "      <td>trgw</td>\n",
       "      <td>153.0</td>\n",
       "    </tr>\n",
       "    <tr>\n",
       "      <th>oname:hds_otype:lst_usecol:trgw_0_13_10_time:183.0</th>\n",
       "      <td>oname:hds_otype:lst_usecol:trgw_0_13_10_time:183.0</td>\n",
       "      <td>34.375622</td>\n",
       "      <td>0</td>\n",
       "      <td>oname:hds_otype:lst_usecol:trgw_0_13_10</td>\n",
       "      <td>hds</td>\n",
       "      <td>lst</td>\n",
       "      <td>trgw</td>\n",
       "      <td>183.0</td>\n",
       "    </tr>\n",
       "    <tr>\n",
       "      <th>oname:hds_otype:lst_usecol:trgw_0_13_10_time:214.0</th>\n",
       "      <td>oname:hds_otype:lst_usecol:trgw_0_13_10_time:214.0</td>\n",
       "      <td>34.323056</td>\n",
       "      <td>0</td>\n",
       "      <td>oname:hds_otype:lst_usecol:trgw_0_13_10</td>\n",
       "      <td>hds</td>\n",
       "      <td>lst</td>\n",
       "      <td>trgw</td>\n",
       "      <td>214.0</td>\n",
       "    </tr>\n",
       "    <tr>\n",
       "      <th>...</th>\n",
       "      <td>...</td>\n",
       "      <td>...</td>\n",
       "      <td>...</td>\n",
       "      <td>...</td>\n",
       "      <td>...</td>\n",
       "      <td>...</td>\n",
       "      <td>...</td>\n",
       "      <td>...</td>\n",
       "    </tr>\n",
       "    <tr>\n",
       "      <th>oname:hds_otype:lst_usecol:trgw_2_9_1_time:32.0</th>\n",
       "      <td>oname:hds_otype:lst_usecol:trgw_2_9_1_time:32.0</td>\n",
       "      <td>35.138347</td>\n",
       "      <td>0</td>\n",
       "      <td>oname:hds_otype:lst_usecol:trgw_2_9_1</td>\n",
       "      <td>hds</td>\n",
       "      <td>lst</td>\n",
       "      <td>trgw</td>\n",
       "      <td>32.0</td>\n",
       "    </tr>\n",
       "    <tr>\n",
       "      <th>oname:hds_otype:lst_usecol:trgw_2_9_1_time:336.0</th>\n",
       "      <td>oname:hds_otype:lst_usecol:trgw_2_9_1_time:336.0</td>\n",
       "      <td>35.137489</td>\n",
       "      <td>0</td>\n",
       "      <td>oname:hds_otype:lst_usecol:trgw_2_9_1</td>\n",
       "      <td>hds</td>\n",
       "      <td>lst</td>\n",
       "      <td>trgw</td>\n",
       "      <td>336.0</td>\n",
       "    </tr>\n",
       "    <tr>\n",
       "      <th>oname:hds_otype:lst_usecol:trgw_2_9_1_time:367.0</th>\n",
       "      <td>oname:hds_otype:lst_usecol:trgw_2_9_1_time:367.0</td>\n",
       "      <td>35.381420</td>\n",
       "      <td>0</td>\n",
       "      <td>oname:hds_otype:lst_usecol:trgw_2_9_1</td>\n",
       "      <td>hds</td>\n",
       "      <td>lst</td>\n",
       "      <td>trgw</td>\n",
       "      <td>367.0</td>\n",
       "    </tr>\n",
       "    <tr>\n",
       "      <th>oname:hds_otype:lst_usecol:trgw_2_9_1_time:61.0</th>\n",
       "      <td>oname:hds_otype:lst_usecol:trgw_2_9_1_time:61.0</td>\n",
       "      <td>35.323971</td>\n",
       "      <td>0</td>\n",
       "      <td>oname:hds_otype:lst_usecol:trgw_2_9_1</td>\n",
       "      <td>hds</td>\n",
       "      <td>lst</td>\n",
       "      <td>trgw</td>\n",
       "      <td>61.0</td>\n",
       "    </tr>\n",
       "    <tr>\n",
       "      <th>oname:hds_otype:lst_usecol:trgw_2_9_1_time:92.0</th>\n",
       "      <td>oname:hds_otype:lst_usecol:trgw_2_9_1_time:92.0</td>\n",
       "      <td>35.373773</td>\n",
       "      <td>0</td>\n",
       "      <td>oname:hds_otype:lst_usecol:trgw_2_9_1</td>\n",
       "      <td>hds</td>\n",
       "      <td>lst</td>\n",
       "      <td>trgw</td>\n",
       "      <td>92.0</td>\n",
       "    </tr>\n",
       "  </tbody>\n",
       "</table>\n",
       "<p>338 rows × 8 columns</p>\n",
       "</div>"
      ],
      "text/plain": [
       "                                                                                                obsnme  \\\n",
       "oname:hds_otype:lst_usecol:trgw_0_13_10_time:1.0      oname:hds_otype:lst_usecol:trgw_0_13_10_time:1.0   \n",
       "oname:hds_otype:lst_usecol:trgw_0_13_10_time:122.0  oname:hds_otype:lst_usecol:trgw_0_13_10_time:122.0   \n",
       "oname:hds_otype:lst_usecol:trgw_0_13_10_time:153.0  oname:hds_otype:lst_usecol:trgw_0_13_10_time:153.0   \n",
       "oname:hds_otype:lst_usecol:trgw_0_13_10_time:183.0  oname:hds_otype:lst_usecol:trgw_0_13_10_time:183.0   \n",
       "oname:hds_otype:lst_usecol:trgw_0_13_10_time:214.0  oname:hds_otype:lst_usecol:trgw_0_13_10_time:214.0   \n",
       "...                                                                                                ...   \n",
       "oname:hds_otype:lst_usecol:trgw_2_9_1_time:32.0        oname:hds_otype:lst_usecol:trgw_2_9_1_time:32.0   \n",
       "oname:hds_otype:lst_usecol:trgw_2_9_1_time:336.0      oname:hds_otype:lst_usecol:trgw_2_9_1_time:336.0   \n",
       "oname:hds_otype:lst_usecol:trgw_2_9_1_time:367.0      oname:hds_otype:lst_usecol:trgw_2_9_1_time:367.0   \n",
       "oname:hds_otype:lst_usecol:trgw_2_9_1_time:61.0        oname:hds_otype:lst_usecol:trgw_2_9_1_time:61.0   \n",
       "oname:hds_otype:lst_usecol:trgw_2_9_1_time:92.0        oname:hds_otype:lst_usecol:trgw_2_9_1_time:92.0   \n",
       "\n",
       "                                                       obsval  weight  \\\n",
       "oname:hds_otype:lst_usecol:trgw_0_13_10_time:1.0    34.406181       0   \n",
       "oname:hds_otype:lst_usecol:trgw_0_13_10_time:122.0  34.450661       0   \n",
       "oname:hds_otype:lst_usecol:trgw_0_13_10_time:153.0  34.441799       0   \n",
       "oname:hds_otype:lst_usecol:trgw_0_13_10_time:183.0  34.375622       0   \n",
       "oname:hds_otype:lst_usecol:trgw_0_13_10_time:214.0  34.323056       0   \n",
       "...                                                       ...     ...   \n",
       "oname:hds_otype:lst_usecol:trgw_2_9_1_time:32.0     35.138347       0   \n",
       "oname:hds_otype:lst_usecol:trgw_2_9_1_time:336.0    35.137489       0   \n",
       "oname:hds_otype:lst_usecol:trgw_2_9_1_time:367.0    35.381420       0   \n",
       "oname:hds_otype:lst_usecol:trgw_2_9_1_time:61.0     35.323971       0   \n",
       "oname:hds_otype:lst_usecol:trgw_2_9_1_time:92.0     35.373773       0   \n",
       "\n",
       "                                                                                     obgnme  \\\n",
       "oname:hds_otype:lst_usecol:trgw_0_13_10_time:1.0    oname:hds_otype:lst_usecol:trgw_0_13_10   \n",
       "oname:hds_otype:lst_usecol:trgw_0_13_10_time:122.0  oname:hds_otype:lst_usecol:trgw_0_13_10   \n",
       "oname:hds_otype:lst_usecol:trgw_0_13_10_time:153.0  oname:hds_otype:lst_usecol:trgw_0_13_10   \n",
       "oname:hds_otype:lst_usecol:trgw_0_13_10_time:183.0  oname:hds_otype:lst_usecol:trgw_0_13_10   \n",
       "oname:hds_otype:lst_usecol:trgw_0_13_10_time:214.0  oname:hds_otype:lst_usecol:trgw_0_13_10   \n",
       "...                                                                                     ...   \n",
       "oname:hds_otype:lst_usecol:trgw_2_9_1_time:32.0       oname:hds_otype:lst_usecol:trgw_2_9_1   \n",
       "oname:hds_otype:lst_usecol:trgw_2_9_1_time:336.0      oname:hds_otype:lst_usecol:trgw_2_9_1   \n",
       "oname:hds_otype:lst_usecol:trgw_2_9_1_time:367.0      oname:hds_otype:lst_usecol:trgw_2_9_1   \n",
       "oname:hds_otype:lst_usecol:trgw_2_9_1_time:61.0       oname:hds_otype:lst_usecol:trgw_2_9_1   \n",
       "oname:hds_otype:lst_usecol:trgw_2_9_1_time:92.0       oname:hds_otype:lst_usecol:trgw_2_9_1   \n",
       "\n",
       "                                                   oname otype usecol   time  \n",
       "oname:hds_otype:lst_usecol:trgw_0_13_10_time:1.0     hds   lst   trgw    1.0  \n",
       "oname:hds_otype:lst_usecol:trgw_0_13_10_time:122.0   hds   lst   trgw  122.0  \n",
       "oname:hds_otype:lst_usecol:trgw_0_13_10_time:153.0   hds   lst   trgw  153.0  \n",
       "oname:hds_otype:lst_usecol:trgw_0_13_10_time:183.0   hds   lst   trgw  183.0  \n",
       "oname:hds_otype:lst_usecol:trgw_0_13_10_time:214.0   hds   lst   trgw  214.0  \n",
       "...                                                  ...   ...    ...    ...  \n",
       "oname:hds_otype:lst_usecol:trgw_2_9_1_time:32.0      hds   lst   trgw   32.0  \n",
       "oname:hds_otype:lst_usecol:trgw_2_9_1_time:336.0     hds   lst   trgw  336.0  \n",
       "oname:hds_otype:lst_usecol:trgw_2_9_1_time:367.0     hds   lst   trgw  367.0  \n",
       "oname:hds_otype:lst_usecol:trgw_2_9_1_time:61.0      hds   lst   trgw   61.0  \n",
       "oname:hds_otype:lst_usecol:trgw_2_9_1_time:92.0      hds   lst   trgw   92.0  \n",
       "\n",
       "[338 rows x 8 columns]"
      ]
     },
     "execution_count": 48,
     "metadata": {},
     "output_type": "execute_result"
    }
   ],
   "source": [
    "obs.loc[(obs['oname']=='hds') & (obs['time'].astype(float) <= 367)]"
   ]
  },
  {
   "cell_type": "markdown",
   "metadata": {},
   "source": [
    "OK, so now let's use this to assign weights to each observation type. We will set weights to the inverse of the standard deviation of our measurment uncertainty.\n",
    "\n",
    "Let's say that stdevs for:\n",
    " - head measurements are is 0.1m,\n",
    " - head time an vertical differences 0.01m\n",
    " - SFR direct and time-differnces will be 10% of the measured value"
   ]
  },
  {
   "cell_type": "code",
   "execution_count": 49,
   "metadata": {
    "execution": {
     "iopub.execute_input": "2022-03-15T05:21:05.824816Z",
     "iopub.status.busy": "2022-03-15T05:21:05.823819Z",
     "iopub.status.idle": "2022-03-15T05:21:05.835166Z",
     "shell.execute_reply": "2022-03-15T05:21:05.835166Z"
    }
   },
   "outputs": [],
   "source": [
    "# direct head measurments\n",
    "obs.loc[(obs['oname']=='hds') & (obs['time'].astype(float) <= 367), 'weight'] = 1/0.1\n",
    "# head time differences\n",
    "obs.loc[(obs['oname']=='hdstd') & (obs['time'].astype(float) <= 367), 'weight'] = 1/0.01\n",
    "# head vertical differences\n",
    "obs.loc[(obs['oname']=='hdsvd') & (obs['time'].astype(float) <= 367), 'weight'] = 1/0.01"
   ]
  },
  {
   "cell_type": "code",
   "execution_count": 50,
   "metadata": {
    "execution": {
     "iopub.execute_input": "2022-03-15T05:21:05.845140Z",
     "iopub.status.busy": "2022-03-15T05:21:05.845140Z",
     "iopub.status.idle": "2022-03-15T05:21:05.850758Z",
     "shell.execute_reply": "2022-03-15T05:21:05.850758Z"
    }
   },
   "outputs": [],
   "source": [
    "# SFR direct measurments\n",
    "weights = 1 / abs(0.1 * obs.loc[(obs['oname']=='sfr') & (obs['time'].astype(float) <= 367), 'obsval'].values)\n",
    "obs.loc[(obs['oname']=='sfr') & (obs['time'].astype(float) <= 367), 'weight'] = weights\n",
    "\n",
    "# SFR time-difference measurments; deal with the first observation value that is == 0\n",
    "weights = 1 / abs(0.1 * obs.loc[(obs['oname']=='sfrtd') & (obs['time'].astype(float) <= 367) &  (obs['obsval'] !=0) , 'obsval'].values)\n",
    "obs.loc[(obs['oname']=='sfrtd') & (obs['time'].astype(float) <= 367) &  (obs['obsval'] !=0), 'weight'] = weights"
   ]
  },
  {
   "cell_type": "markdown",
   "metadata": {},
   "source": [
    "As you can see, observation data weights have been updated:"
   ]
  },
  {
   "cell_type": "code",
   "execution_count": 51,
   "metadata": {
    "execution": {
     "iopub.execute_input": "2022-03-15T05:21:05.858729Z",
     "iopub.status.busy": "2022-03-15T05:21:05.858729Z",
     "iopub.status.idle": "2022-03-15T05:21:05.866662Z",
     "shell.execute_reply": "2022-03-15T05:21:05.865628Z"
    }
   },
   "outputs": [
    {
     "data": {
      "text/html": [
       "<div>\n",
       "<style scoped>\n",
       "    .dataframe tbody tr th:only-of-type {\n",
       "        vertical-align: middle;\n",
       "    }\n",
       "\n",
       "    .dataframe tbody tr th {\n",
       "        vertical-align: top;\n",
       "    }\n",
       "\n",
       "    .dataframe thead th {\n",
       "        text-align: right;\n",
       "    }\n",
       "</style>\n",
       "<table border=\"1\" class=\"dataframe\">\n",
       "  <thead>\n",
       "    <tr style=\"text-align: right;\">\n",
       "      <th></th>\n",
       "      <th>obsnme</th>\n",
       "      <th>obsval</th>\n",
       "      <th>weight</th>\n",
       "      <th>obgnme</th>\n",
       "      <th>oname</th>\n",
       "      <th>otype</th>\n",
       "      <th>usecol</th>\n",
       "      <th>time</th>\n",
       "    </tr>\n",
       "  </thead>\n",
       "  <tbody>\n",
       "    <tr>\n",
       "      <th>oname:hds_otype:lst_usecol:trgw_0_13_10_time:1.0</th>\n",
       "      <td>oname:hds_otype:lst_usecol:trgw_0_13_10_time:1.0</td>\n",
       "      <td>34.406181</td>\n",
       "      <td>10.0</td>\n",
       "      <td>oname:hds_otype:lst_usecol:trgw_0_13_10</td>\n",
       "      <td>hds</td>\n",
       "      <td>lst</td>\n",
       "      <td>trgw</td>\n",
       "      <td>1.0</td>\n",
       "    </tr>\n",
       "    <tr>\n",
       "      <th>oname:hds_otype:lst_usecol:trgw_0_13_10_time:122.0</th>\n",
       "      <td>oname:hds_otype:lst_usecol:trgw_0_13_10_time:122.0</td>\n",
       "      <td>34.450661</td>\n",
       "      <td>10.0</td>\n",
       "      <td>oname:hds_otype:lst_usecol:trgw_0_13_10</td>\n",
       "      <td>hds</td>\n",
       "      <td>lst</td>\n",
       "      <td>trgw</td>\n",
       "      <td>122.0</td>\n",
       "    </tr>\n",
       "    <tr>\n",
       "      <th>oname:hds_otype:lst_usecol:trgw_0_13_10_time:153.0</th>\n",
       "      <td>oname:hds_otype:lst_usecol:trgw_0_13_10_time:153.0</td>\n",
       "      <td>34.441799</td>\n",
       "      <td>10.0</td>\n",
       "      <td>oname:hds_otype:lst_usecol:trgw_0_13_10</td>\n",
       "      <td>hds</td>\n",
       "      <td>lst</td>\n",
       "      <td>trgw</td>\n",
       "      <td>153.0</td>\n",
       "    </tr>\n",
       "    <tr>\n",
       "      <th>oname:hds_otype:lst_usecol:trgw_0_13_10_time:183.0</th>\n",
       "      <td>oname:hds_otype:lst_usecol:trgw_0_13_10_time:183.0</td>\n",
       "      <td>34.375622</td>\n",
       "      <td>10.0</td>\n",
       "      <td>oname:hds_otype:lst_usecol:trgw_0_13_10</td>\n",
       "      <td>hds</td>\n",
       "      <td>lst</td>\n",
       "      <td>trgw</td>\n",
       "      <td>183.0</td>\n",
       "    </tr>\n",
       "    <tr>\n",
       "      <th>oname:hds_otype:lst_usecol:trgw_0_13_10_time:214.0</th>\n",
       "      <td>oname:hds_otype:lst_usecol:trgw_0_13_10_time:214.0</td>\n",
       "      <td>34.323056</td>\n",
       "      <td>10.0</td>\n",
       "      <td>oname:hds_otype:lst_usecol:trgw_0_13_10</td>\n",
       "      <td>hds</td>\n",
       "      <td>lst</td>\n",
       "      <td>trgw</td>\n",
       "      <td>214.0</td>\n",
       "    </tr>\n",
       "    <tr>\n",
       "      <th>...</th>\n",
       "      <td>...</td>\n",
       "      <td>...</td>\n",
       "      <td>...</td>\n",
       "      <td>...</td>\n",
       "      <td>...</td>\n",
       "      <td>...</td>\n",
       "      <td>...</td>\n",
       "      <td>...</td>\n",
       "    </tr>\n",
       "    <tr>\n",
       "      <th>oname:hdsvd_otype:lst_usecol:trgw_0_9_1_time:640.0</th>\n",
       "      <td>oname:hdsvd_otype:lst_usecol:trgw_0_9_1_time:640.0</td>\n",
       "      <td>0.002537</td>\n",
       "      <td>0.0</td>\n",
       "      <td>oname:hdsvd_otype:lst_usecol:trgw_0_9_1</td>\n",
       "      <td>hdsvd</td>\n",
       "      <td>lst</td>\n",
       "      <td>trgw</td>\n",
       "      <td>640.0</td>\n",
       "    </tr>\n",
       "    <tr>\n",
       "      <th>oname:hdsvd_otype:lst_usecol:trgw_0_9_1_time:671.0</th>\n",
       "      <td>oname:hdsvd_otype:lst_usecol:trgw_0_9_1_time:671.0</td>\n",
       "      <td>0.003066</td>\n",
       "      <td>0.0</td>\n",
       "      <td>oname:hdsvd_otype:lst_usecol:trgw_0_9_1</td>\n",
       "      <td>hdsvd</td>\n",
       "      <td>lst</td>\n",
       "      <td>trgw</td>\n",
       "      <td>671.0</td>\n",
       "    </tr>\n",
       "    <tr>\n",
       "      <th>oname:hdsvd_otype:lst_usecol:trgw_0_9_1_time:701.0</th>\n",
       "      <td>oname:hdsvd_otype:lst_usecol:trgw_0_9_1_time:701.0</td>\n",
       "      <td>0.002878</td>\n",
       "      <td>0.0</td>\n",
       "      <td>oname:hdsvd_otype:lst_usecol:trgw_0_9_1</td>\n",
       "      <td>hdsvd</td>\n",
       "      <td>lst</td>\n",
       "      <td>trgw</td>\n",
       "      <td>701.0</td>\n",
       "    </tr>\n",
       "    <tr>\n",
       "      <th>oname:hdsvd_otype:lst_usecol:trgw_0_9_1_time:732.0</th>\n",
       "      <td>oname:hdsvd_otype:lst_usecol:trgw_0_9_1_time:732.0</td>\n",
       "      <td>0.007718</td>\n",
       "      <td>0.0</td>\n",
       "      <td>oname:hdsvd_otype:lst_usecol:trgw_0_9_1</td>\n",
       "      <td>hdsvd</td>\n",
       "      <td>lst</td>\n",
       "      <td>trgw</td>\n",
       "      <td>732.0</td>\n",
       "    </tr>\n",
       "    <tr>\n",
       "      <th>oname:hdsvd_otype:lst_usecol:trgw_0_9_1_time:92.0</th>\n",
       "      <td>oname:hdsvd_otype:lst_usecol:trgw_0_9_1_time:92.0</td>\n",
       "      <td>0.004588</td>\n",
       "      <td>100.0</td>\n",
       "      <td>oname:hdsvd_otype:lst_usecol:trgw_0_9_1</td>\n",
       "      <td>hdsvd</td>\n",
       "      <td>lst</td>\n",
       "      <td>trgw</td>\n",
       "      <td>92.0</td>\n",
       "    </tr>\n",
       "  </tbody>\n",
       "</table>\n",
       "<p>1775 rows × 8 columns</p>\n",
       "</div>"
      ],
      "text/plain": [
       "                                                                                                obsnme  \\\n",
       "oname:hds_otype:lst_usecol:trgw_0_13_10_time:1.0      oname:hds_otype:lst_usecol:trgw_0_13_10_time:1.0   \n",
       "oname:hds_otype:lst_usecol:trgw_0_13_10_time:122.0  oname:hds_otype:lst_usecol:trgw_0_13_10_time:122.0   \n",
       "oname:hds_otype:lst_usecol:trgw_0_13_10_time:153.0  oname:hds_otype:lst_usecol:trgw_0_13_10_time:153.0   \n",
       "oname:hds_otype:lst_usecol:trgw_0_13_10_time:183.0  oname:hds_otype:lst_usecol:trgw_0_13_10_time:183.0   \n",
       "oname:hds_otype:lst_usecol:trgw_0_13_10_time:214.0  oname:hds_otype:lst_usecol:trgw_0_13_10_time:214.0   \n",
       "...                                                                                                ...   \n",
       "oname:hdsvd_otype:lst_usecol:trgw_0_9_1_time:640.0  oname:hdsvd_otype:lst_usecol:trgw_0_9_1_time:640.0   \n",
       "oname:hdsvd_otype:lst_usecol:trgw_0_9_1_time:671.0  oname:hdsvd_otype:lst_usecol:trgw_0_9_1_time:671.0   \n",
       "oname:hdsvd_otype:lst_usecol:trgw_0_9_1_time:701.0  oname:hdsvd_otype:lst_usecol:trgw_0_9_1_time:701.0   \n",
       "oname:hdsvd_otype:lst_usecol:trgw_0_9_1_time:732.0  oname:hdsvd_otype:lst_usecol:trgw_0_9_1_time:732.0   \n",
       "oname:hdsvd_otype:lst_usecol:trgw_0_9_1_time:92.0    oname:hdsvd_otype:lst_usecol:trgw_0_9_1_time:92.0   \n",
       "\n",
       "                                                       obsval  weight  \\\n",
       "oname:hds_otype:lst_usecol:trgw_0_13_10_time:1.0    34.406181    10.0   \n",
       "oname:hds_otype:lst_usecol:trgw_0_13_10_time:122.0  34.450661    10.0   \n",
       "oname:hds_otype:lst_usecol:trgw_0_13_10_time:153.0  34.441799    10.0   \n",
       "oname:hds_otype:lst_usecol:trgw_0_13_10_time:183.0  34.375622    10.0   \n",
       "oname:hds_otype:lst_usecol:trgw_0_13_10_time:214.0  34.323056    10.0   \n",
       "...                                                       ...     ...   \n",
       "oname:hdsvd_otype:lst_usecol:trgw_0_9_1_time:640.0   0.002537     0.0   \n",
       "oname:hdsvd_otype:lst_usecol:trgw_0_9_1_time:671.0   0.003066     0.0   \n",
       "oname:hdsvd_otype:lst_usecol:trgw_0_9_1_time:701.0   0.002878     0.0   \n",
       "oname:hdsvd_otype:lst_usecol:trgw_0_9_1_time:732.0   0.007718     0.0   \n",
       "oname:hdsvd_otype:lst_usecol:trgw_0_9_1_time:92.0    0.004588   100.0   \n",
       "\n",
       "                                                                                     obgnme  \\\n",
       "oname:hds_otype:lst_usecol:trgw_0_13_10_time:1.0    oname:hds_otype:lst_usecol:trgw_0_13_10   \n",
       "oname:hds_otype:lst_usecol:trgw_0_13_10_time:122.0  oname:hds_otype:lst_usecol:trgw_0_13_10   \n",
       "oname:hds_otype:lst_usecol:trgw_0_13_10_time:153.0  oname:hds_otype:lst_usecol:trgw_0_13_10   \n",
       "oname:hds_otype:lst_usecol:trgw_0_13_10_time:183.0  oname:hds_otype:lst_usecol:trgw_0_13_10   \n",
       "oname:hds_otype:lst_usecol:trgw_0_13_10_time:214.0  oname:hds_otype:lst_usecol:trgw_0_13_10   \n",
       "...                                                                                     ...   \n",
       "oname:hdsvd_otype:lst_usecol:trgw_0_9_1_time:640.0  oname:hdsvd_otype:lst_usecol:trgw_0_9_1   \n",
       "oname:hdsvd_otype:lst_usecol:trgw_0_9_1_time:671.0  oname:hdsvd_otype:lst_usecol:trgw_0_9_1   \n",
       "oname:hdsvd_otype:lst_usecol:trgw_0_9_1_time:701.0  oname:hdsvd_otype:lst_usecol:trgw_0_9_1   \n",
       "oname:hdsvd_otype:lst_usecol:trgw_0_9_1_time:732.0  oname:hdsvd_otype:lst_usecol:trgw_0_9_1   \n",
       "oname:hdsvd_otype:lst_usecol:trgw_0_9_1_time:92.0   oname:hdsvd_otype:lst_usecol:trgw_0_9_1   \n",
       "\n",
       "                                                    oname otype usecol   time  \n",
       "oname:hds_otype:lst_usecol:trgw_0_13_10_time:1.0      hds   lst   trgw    1.0  \n",
       "oname:hds_otype:lst_usecol:trgw_0_13_10_time:122.0    hds   lst   trgw  122.0  \n",
       "oname:hds_otype:lst_usecol:trgw_0_13_10_time:153.0    hds   lst   trgw  153.0  \n",
       "oname:hds_otype:lst_usecol:trgw_0_13_10_time:183.0    hds   lst   trgw  183.0  \n",
       "oname:hds_otype:lst_usecol:trgw_0_13_10_time:214.0    hds   lst   trgw  214.0  \n",
       "...                                                   ...   ...    ...    ...  \n",
       "oname:hdsvd_otype:lst_usecol:trgw_0_9_1_time:640.0  hdsvd   lst   trgw  640.0  \n",
       "oname:hdsvd_otype:lst_usecol:trgw_0_9_1_time:671.0  hdsvd   lst   trgw  671.0  \n",
       "oname:hdsvd_otype:lst_usecol:trgw_0_9_1_time:701.0  hdsvd   lst   trgw  701.0  \n",
       "oname:hdsvd_otype:lst_usecol:trgw_0_9_1_time:732.0  hdsvd   lst   trgw  732.0  \n",
       "oname:hdsvd_otype:lst_usecol:trgw_0_9_1_time:92.0   hdsvd   lst   trgw   92.0  \n",
       "\n",
       "[1775 rows x 8 columns]"
      ]
     },
     "execution_count": 51,
     "metadata": {},
     "output_type": "execute_result"
    }
   ],
   "source": [
    "obs"
   ]
  },
  {
   "cell_type": "markdown",
   "metadata": {},
   "source": [
    "Make sure to re-**write** the PEST control file. But beware, if you re-**build** the `Pst`, all these changes will be lost."
   ]
  },
  {
   "cell_type": "code",
   "execution_count": 52,
   "metadata": {
    "execution": {
     "iopub.execute_input": "2022-03-15T05:21:05.877149Z",
     "iopub.status.busy": "2022-03-15T05:21:05.876113Z",
     "iopub.status.idle": "2022-03-15T05:21:06.129675Z",
     "shell.execute_reply": "2022-03-15T05:21:06.129675Z"
    }
   },
   "outputs": [
    {
     "name": "stdout",
     "output_type": "stream",
     "text": [
      "noptmax:0, npar_adj:25454, nnz_obs:920\n"
     ]
    }
   ],
   "source": [
    "pst.write(os.path.join(template_ws, 'freyberg_mf6.pst'))"
   ]
  },
  {
   "cell_type": "markdown",
   "metadata": {},
   "source": [
    "So that was pretty epic. We now have a (very) high-dimensional PEST interface ready to roll. \n",
    "\n",
    "If you inspect the folder, you will see PEST control file and all the necessary instruction and template files. Because we have >10k parameters, version 2 of the PEST control file was written by default. \n",
    "\n",
    "Shall we check that it works? Let's run PEST once (i.e. with NOPTMAX=0). Now, by default, noptmax is set to zero. But just to check:"
   ]
  },
  {
   "cell_type": "code",
   "execution_count": 53,
   "metadata": {
    "execution": {
     "iopub.execute_input": "2022-03-15T05:21:06.133855Z",
     "iopub.status.busy": "2022-03-15T05:21:06.132538Z",
     "iopub.status.idle": "2022-03-15T05:21:06.144821Z",
     "shell.execute_reply": "2022-03-15T05:21:06.145851Z"
    }
   },
   "outputs": [
    {
     "data": {
      "text/plain": [
       "0"
      ]
     },
     "execution_count": 53,
     "metadata": {},
     "output_type": "execute_result"
    }
   ],
   "source": [
    "pst.control_data.noptmax"
   ]
  },
  {
   "cell_type": "markdown",
   "metadata": {},
   "source": [
    "OK, so when we run PEST it will call the model once and then stop. If the next cell is sucessfull, then eveything is working. Check the folder, you should see PEST output files. (We will go into these and how to process PEST outcomes in subsequent tutorials)."
   ]
  },
  {
   "cell_type": "code",
   "execution_count": 54,
   "metadata": {
    "execution": {
     "iopub.execute_input": "2022-03-15T05:21:06.148845Z",
     "iopub.status.busy": "2022-03-15T05:21:06.148845Z",
     "iopub.status.idle": "2022-03-15T05:21:19.102465Z",
     "shell.execute_reply": "2022-03-15T05:21:19.103464Z"
    }
   },
   "outputs": [],
   "source": [
    "pyemu.os_utils.run('pestpp-glm freyberg_mf6.pst', cwd=template_ws)"
   ]
  },
  {
   "cell_type": "markdown",
   "metadata": {},
   "source": [
    "### 8. Generate Prior Parameter Ensemble\n",
    "\n",
    "Before we go, let's take a look at our prior and sample from it to create a parameter ensemble. We will record the ensemble for future use."
   ]
  },
  {
   "cell_type": "code",
   "execution_count": 55,
   "metadata": {
    "execution": {
     "iopub.execute_input": "2022-03-15T05:21:19.110445Z",
     "iopub.status.busy": "2022-03-15T05:21:19.109447Z",
     "iopub.status.idle": "2022-03-15T05:21:50.502478Z",
     "shell.execute_reply": "2022-03-15T05:21:50.503421Z"
    }
   },
   "outputs": [
    {
     "name": "stdout",
     "output_type": "stream",
     "text": [
      "2022-03-15 15:51:19.274038 starting: building prior covariance matrix\n"
     ]
    },
    {
     "name": "stdout",
     "output_type": "stream",
     "text": [
      "2022-03-15 15:51:33.425680 finished: building prior covariance matrix took: 0:00:14.151642\n"
     ]
    },
    {
     "data": {
      "text/plain": [
       "<matplotlib.image.AxesImage at 0x156a6ba4cc8>"
      ]
     },
     "execution_count": 55,
     "metadata": {},
     "output_type": "execute_result"
    },
    {
     "data": {
      "image/png": "[encoded data removed]",
      "text/plain": [
       "<Figure size 432x288 with 1 Axes>"
      ]
     },
     "metadata": {
      "needs_background": "light"
     },
     "output_type": "display_data"
    }
   ],
   "source": [
    "# build the prior; we are only doing this step to be able to look at this cool covariance matrix\n",
    "# you could also record this to an external file if you really wanted to, but it is pretty huge due to the number of parameters\n",
    "cov = pf.build_prior(fmt='none')\n",
    "\n",
    "# and take a peak at a slice of the matrix\n",
    "x = cov.x.copy()\n",
    "x[x==0] = np.NaN\n",
    "plt.imshow(x[-49:,-49:])"
   ]
  },
  {
   "cell_type": "markdown",
   "metadata": {},
   "source": [
    "And now generate a prior parameter ensemble. This step is relevant for using pestpp-ies in subsequent tutorials."
   ]
  },
  {
   "cell_type": "code",
   "execution_count": 56,
   "metadata": {
    "execution": {
     "iopub.execute_input": "2022-03-15T05:21:50.545600Z",
     "iopub.status.busy": "2022-03-15T05:21:50.531601Z",
     "iopub.status.idle": "2022-03-15T05:22:06.929270Z",
     "shell.execute_reply": "2022-03-15T05:22:06.929270Z"
    }
   },
   "outputs": [
    {
     "name": "stdout",
     "output_type": "stream",
     "text": [
      "2022-03-15 15:51:50.533595 starting: drawing realizations\n"
     ]
    },
    {
     "name": "stdout",
     "output_type": "stream",
     "text": [
      "2022-03-15 15:51:50.777736 starting: spectral simulation for grid-scale pars\n",
      "SpecSim.initialize() summary: full_delx X full_dely: 72 X 72\n"
     ]
    },
    {
     "name": "stdout",
     "output_type": "stream",
     "text": [
      "2022-03-15 15:51:51.006280 starting: SpecSim: drawing 100 realization for group npf_k_layer1_gr with 706 pars, (log) variance 0.054284340773499334 (sill 0.054284340773499334)\n",
      "SpecSim.initialize() summary: full_delx X full_dely: 72 X 72\n",
      "2022-03-15 15:51:51.058077 finished: SpecSim: drawing 100 realization for group npf_k_layer1_gr with 706 pars, (log) variance 0.054284340773499334 (sill 0.054284340773499334) took: 0:00:00.051797\n",
      "2022-03-15 15:51:51.063065 starting: SpecSim: drawing 100 realization for group npf_k_layer2_gr with 706 pars, (log) variance 0.054284340773499334 (sill 0.054284340773499334)\n",
      "SpecSim.initialize() summary: full_delx X full_dely: 72 X 72\n",
      "2022-03-15 15:51:51.110936 finished: SpecSim: drawing 100 realization for group npf_k_layer2_gr with 706 pars, (log) variance 0.054284340773499334 (sill 0.054284340773499334) took: 0:00:00.047871\n",
      "2022-03-15 15:51:51.115924 starting: SpecSim: drawing 100 realization for group npf_k_layer3_gr with 706 pars, (log) variance 0.054284340773499334 (sill 0.054284340773499334)\n",
      "SpecSim.initialize() summary: full_delx X full_dely: 72 X 72\n",
      "2022-03-15 15:51:51.174767 finished: SpecSim: drawing 100 realization for group npf_k_layer3_gr with 706 pars, (log) variance 0.054284340773499334 (sill 0.054284340773499334) took: 0:00:00.058843\n",
      "2022-03-15 15:51:51.180750 starting: SpecSim: drawing 100 realization for group npf_k33_layer1_gr with 706 pars, (log) variance 0.054284340773499334 (sill 0.054284340773499334)\n"
     ]
    },
    {
     "name": "stdout",
     "output_type": "stream",
     "text": [
      "SpecSim.initialize() summary: full_delx X full_dely: 72 X 72\n",
      "2022-03-15 15:51:51.238596 finished: SpecSim: drawing 100 realization for group npf_k33_layer1_gr with 706 pars, (log) variance 0.054284340773499334 (sill 0.054284340773499334) took: 0:00:00.057846\n",
      "2022-03-15 15:51:51.244580 starting: SpecSim: drawing 100 realization for group npf_k33_layer2_gr with 706 pars, (log) variance 0.054284340773499334 (sill 0.054284340773499334)\n",
      "SpecSim.initialize() summary: full_delx X full_dely: 72 X 72\n",
      "2022-03-15 15:51:51.303422 finished: SpecSim: drawing 100 realization for group npf_k33_layer2_gr with 706 pars, (log) variance 0.054284340773499334 (sill 0.054284340773499334) took: 0:00:00.058842\n",
      "2022-03-15 15:51:51.309406 starting: SpecSim: drawing 100 realization for group npf_k33_layer3_gr with 706 pars, (log) variance 0.054284340773499334 (sill 0.054284340773499334)\n",
      "SpecSim.initialize() summary: full_delx X full_dely: 72 X 72\n",
      "2022-03-15 15:51:51.366254 finished: SpecSim: drawing 100 realization for group npf_k33_layer3_gr with 706 pars, (log) variance 0.054284340773499334 (sill 0.054284340773499334) took: 0:00:00.056848\n"
     ]
    },
    {
     "name": "stdout",
     "output_type": "stream",
     "text": [
      "2022-03-15 15:51:51.376229 starting: SpecSim: drawing 100 realization for group sto_ss_layer2_gr with 706 pars, (log) variance 0.054284340773499334 (sill 0.054284340773499334)\n",
      "SpecSim.initialize() summary: full_delx X full_dely: 72 X 72\n",
      "2022-03-15 15:51:51.441054 finished: SpecSim: drawing 100 realization for group sto_ss_layer2_gr with 706 pars, (log) variance 0.054284340773499334 (sill 0.054284340773499334) took: 0:00:00.064825\n",
      "2022-03-15 15:51:51.449034 starting: SpecSim: drawing 100 realization for group sto_ss_layer3_gr with 706 pars, (log) variance 0.054284340773499334 (sill 0.054284340773499334)\n",
      "SpecSim.initialize() summary: full_delx X full_dely: 72 X 72\n",
      "2022-03-15 15:51:51.516851 finished: SpecSim: drawing 100 realization for group sto_ss_layer3_gr with 706 pars, (log) variance 0.054284340773499334 (sill 0.054284340773499334) took: 0:00:00.067817\n",
      "2022-03-15 15:51:51.523833 starting: SpecSim: drawing 100 realization for group sto_sy_layer1_gr with 706 pars, (log) variance 0.054284340773499334 (sill 0.054284340773499334)\n",
      "SpecSim.initialize() summary: full_delx X full_dely: 72 X 72\n",
      "2022-03-15 15:51:51.585667 finished: SpecSim: drawing 100 realization for group sto_sy_layer1_gr with 706 pars, (log) variance 0.054284340773499334 (sill 0.054284340773499334) took: 0:00:00.061834\n"
     ]
    },
    {
     "name": "stdout",
     "output_type": "stream",
     "text": [
      "2022-03-15 15:51:51.591651 starting: SpecSim: drawing 100 realization for group rch_recharge_1_gr with 706 pars, (log) variance 0.054284340773499334 (sill 0.054284340773499334)\n",
      "SpecSim.initialize() summary: full_delx X full_dely: 72 X 72\n",
      "2022-03-15 15:51:51.657476 finished: SpecSim: drawing 100 realization for group rch_recharge_1_gr with 706 pars, (log) variance 0.054284340773499334 (sill 0.054284340773499334) took: 0:00:00.065825\n",
      "2022-03-15 15:51:51.664457 starting: SpecSim: drawing 100 realization for group rch_recharge_10_gr with 706 pars, (log) variance 0.054284340773499334 (sill 0.054284340773499334)\n",
      "SpecSim.initialize() summary: full_delx X full_dely: 72 X 72\n",
      "2022-03-15 15:51:51.732762 finished: SpecSim: drawing 100 realization for group rch_recharge_10_gr with 706 pars, (log) variance 0.054284340773499334 (sill 0.054284340773499334) took: 0:00:00.068305\n",
      "2022-03-15 15:51:51.738745 starting: SpecSim: drawing 100 realization for group rch_recharge_11_gr with 706 pars, (log) variance 0.054284340773499334 (sill 0.054284340773499334)\n",
      "SpecSim.initialize() summary: full_delx X full_dely: 72 X 72\n"
     ]
    },
    {
     "name": "stdout",
     "output_type": "stream",
     "text": [
      "2022-03-15 15:51:51.807800 finished: SpecSim: drawing 100 realization for group rch_recharge_11_gr with 706 pars, (log) variance 0.054284340773499334 (sill 0.054284340773499334) took: 0:00:00.069055\n",
      "2022-03-15 15:51:51.812786 starting: SpecSim: drawing 100 realization for group rch_recharge_12_gr with 706 pars, (log) variance 0.054284340773499334 (sill 0.054284340773499334)\n",
      "SpecSim.initialize() summary: full_delx X full_dely: 72 X 72\n",
      "2022-03-15 15:51:51.871628 finished: SpecSim: drawing 100 realization for group rch_recharge_12_gr with 706 pars, (log) variance 0.054284340773499334 (sill 0.054284340773499334) took: 0:00:00.058842\n",
      "2022-03-15 15:51:51.877612 starting: SpecSim: drawing 100 realization for group rch_recharge_13_gr with 706 pars, (log) variance 0.054284340773499334 (sill 0.054284340773499334)\n",
      "SpecSim.initialize() summary: full_delx X full_dely: 72 X 72\n",
      "2022-03-15 15:51:51.936961 finished: SpecSim: drawing 100 realization for group rch_recharge_13_gr with 706 pars, (log) variance 0.054284340773499334 (sill 0.054284340773499334) took: 0:00:00.059349\n",
      "2022-03-15 15:51:51.941949 starting: SpecSim: drawing 100 realization for group rch_recharge_14_gr with 706 pars, (log) variance 0.054284340773499334 (sill 0.054284340773499334)\n",
      "SpecSim.initialize() summary: full_delx X full_dely: 72 X 72\n",
      "2022-03-15 15:51:51.998797 finished: SpecSim: drawing 100 realization for group rch_recharge_14_gr with 706 pars, (log) variance 0.054284340773499334 (sill 0.054284340773499334) took: 0:00:00.056848\n"
     ]
    },
    {
     "name": "stdout",
     "output_type": "stream",
     "text": [
      "2022-03-15 15:51:52.004249 starting: SpecSim: drawing 100 realization for group rch_recharge_15_gr with 706 pars, (log) variance 0.054284340773499334 (sill 0.054284340773499334)\n",
      "SpecSim.initialize() summary: full_delx X full_dely: 72 X 72\n",
      "2022-03-15 15:51:52.060092 finished: SpecSim: drawing 100 realization for group rch_recharge_15_gr with 706 pars, (log) variance 0.054284340773499334 (sill 0.054284340773499334) took: 0:00:00.055843\n",
      "2022-03-15 15:51:52.065079 starting: SpecSim: drawing 100 realization for group rch_recharge_16_gr with 706 pars, (log) variance 0.054284340773499334 (sill 0.054284340773499334)\n",
      "SpecSim.initialize() summary: full_delx X full_dely: 72 X 72\n",
      "2022-03-15 15:51:52.131901 finished: SpecSim: drawing 100 realization for group rch_recharge_16_gr with 706 pars, (log) variance 0.054284340773499334 (sill 0.054284340773499334) took: 0:00:00.066822\n",
      "2022-03-15 15:51:52.137885 starting: SpecSim: drawing 100 realization for group rch_recharge_17_gr with 706 pars, (log) variance 0.054284340773499334 (sill 0.054284340773499334)\n",
      "SpecSim.initialize() summary: full_delx X full_dely: 72 X 72\n",
      "2022-03-15 15:51:52.203710 finished: SpecSim: drawing 100 realization for group rch_recharge_17_gr with 706 pars, (log) variance 0.054284340773499334 (sill 0.054284340773499334) took: 0:00:00.065825\n"
     ]
    },
    {
     "name": "stdout",
     "output_type": "stream",
     "text": [
      "2022-03-15 15:51:52.211689 starting: SpecSim: drawing 100 realization for group rch_recharge_18_gr with 706 pars, (log) variance 0.054284340773499334 (sill 0.054284340773499334)\n",
      "SpecSim.initialize() summary: full_delx X full_dely: 72 X 72\n",
      "2022-03-15 15:51:52.283750 finished: SpecSim: drawing 100 realization for group rch_recharge_18_gr with 706 pars, (log) variance 0.054284340773499334 (sill 0.054284340773499334) took: 0:00:00.072061\n",
      "2022-03-15 15:51:52.288737 starting: SpecSim: drawing 100 realization for group rch_recharge_19_gr with 706 pars, (log) variance 0.054284340773499334 (sill 0.054284340773499334)\n",
      "SpecSim.initialize() summary: full_delx X full_dely: 72 X 72\n",
      "2022-03-15 15:51:52.354561 finished: SpecSim: drawing 100 realization for group rch_recharge_19_gr with 706 pars, (log) variance 0.054284340773499334 (sill 0.054284340773499334) took: 0:00:00.065824\n",
      "2022-03-15 15:51:52.360546 starting: SpecSim: drawing 100 realization for group rch_recharge_2_gr with 706 pars, (log) variance 0.054284340773499334 (sill 0.054284340773499334)\n",
      "SpecSim.initialize() summary: full_delx X full_dely: 72 X 72\n",
      "2022-03-15 15:51:52.417392 finished: SpecSim: drawing 100 realization for group rch_recharge_2_gr with 706 pars, (log) variance 0.054284340773499334 (sill 0.054284340773499334) took: 0:00:00.056846\n"
     ]
    },
    {
     "name": "stdout",
     "output_type": "stream",
     "text": [
      "2022-03-15 15:51:52.424374 starting: SpecSim: drawing 100 realization for group rch_recharge_20_gr with 706 pars, (log) variance 0.054284340773499334 (sill 0.054284340773499334)\n",
      "SpecSim.initialize() summary: full_delx X full_dely: 72 X 72\n",
      "2022-03-15 15:51:52.480225 finished: SpecSim: drawing 100 realization for group rch_recharge_20_gr with 706 pars, (log) variance 0.054284340773499334 (sill 0.054284340773499334) took: 0:00:00.055851\n",
      "2022-03-15 15:51:52.485211 starting: SpecSim: drawing 100 realization for group rch_recharge_21_gr with 706 pars, (log) variance 0.054284340773499334 (sill 0.054284340773499334)\n",
      "SpecSim.initialize() summary: full_delx X full_dely: 72 X 72\n",
      "2022-03-15 15:51:52.548050 finished: SpecSim: drawing 100 realization for group rch_recharge_21_gr with 706 pars, (log) variance 0.054284340773499334 (sill 0.054284340773499334) took: 0:00:00.062839\n",
      "2022-03-15 15:51:52.556029 starting: SpecSim: drawing 100 realization for group rch_recharge_22_gr with 706 pars, (log) variance 0.054284340773499334 (sill 0.054284340773499334)\n",
      "SpecSim.initialize() summary: full_delx X full_dely: 72 X 72\n"
     ]
    },
    {
     "name": "stdout",
     "output_type": "stream",
     "text": [
      "2022-03-15 15:51:52.636814 finished: SpecSim: drawing 100 realization for group rch_recharge_22_gr with 706 pars, (log) variance 0.054284340773499334 (sill 0.054284340773499334) took: 0:00:00.080785\n",
      "2022-03-15 15:51:52.643795 starting: SpecSim: drawing 100 realization for group rch_recharge_23_gr with 706 pars, (log) variance 0.054284340773499334 (sill 0.054284340773499334)\n",
      "SpecSim.initialize() summary: full_delx X full_dely: 72 X 72\n",
      "2022-03-15 15:51:52.712609 finished: SpecSim: drawing 100 realization for group rch_recharge_23_gr with 706 pars, (log) variance 0.054284340773499334 (sill 0.054284340773499334) took: 0:00:00.068814\n",
      "2022-03-15 15:51:52.719591 starting: SpecSim: drawing 100 realization for group rch_recharge_24_gr with 706 pars, (log) variance 0.054284340773499334 (sill 0.054284340773499334)\n",
      "SpecSim.initialize() summary: full_delx X full_dely: 72 X 72\n",
      "2022-03-15 15:51:52.787409 finished: SpecSim: drawing 100 realization for group rch_recharge_24_gr with 706 pars, (log) variance 0.054284340773499334 (sill 0.054284340773499334) took: 0:00:00.067818\n",
      "2022-03-15 15:51:52.793397 starting: SpecSim: drawing 100 realization for group rch_recharge_25_gr with 706 pars, (log) variance 0.054284340773499334 (sill 0.054284340773499334)\n",
      "SpecSim.initialize() summary: full_delx X full_dely: 72 X 72\n"
     ]
    },
    {
     "name": "stdout",
     "output_type": "stream",
     "text": [
      "2022-03-15 15:51:52.863207 finished: SpecSim: drawing 100 realization for group rch_recharge_25_gr with 706 pars, (log) variance 0.054284340773499334 (sill 0.054284340773499334) took: 0:00:00.069810\n",
      "2022-03-15 15:51:52.871185 starting: SpecSim: drawing 100 realization for group rch_recharge_3_gr with 706 pars, (log) variance 0.054284340773499334 (sill 0.054284340773499334)\n",
      "SpecSim.initialize() summary: full_delx X full_dely: 72 X 72\n",
      "2022-03-15 15:51:52.935017 finished: SpecSim: drawing 100 realization for group rch_recharge_3_gr with 706 pars, (log) variance 0.054284340773499334 (sill 0.054284340773499334) took: 0:00:00.063832\n",
      "2022-03-15 15:51:52.941997 starting: SpecSim: drawing 100 realization for group rch_recharge_4_gr with 706 pars, (log) variance 0.054284340773499334 (sill 0.054284340773499334)\n",
      "SpecSim.initialize() summary: full_delx X full_dely: 72 X 72\n",
      "2022-03-15 15:51:53.004831 finished: SpecSim: drawing 100 realization for group rch_recharge_4_gr with 706 pars, (log) variance 0.054284340773499334 (sill 0.054284340773499334) took: 0:00:00.062834\n",
      "2022-03-15 15:51:53.011811 starting: SpecSim: drawing 100 realization for group rch_recharge_5_gr with 706 pars, (log) variance 0.054284340773499334 (sill 0.054284340773499334)\n",
      "SpecSim.initialize() summary: full_delx X full_dely: 72 X 72\n"
     ]
    },
    {
     "name": "stdout",
     "output_type": "stream",
     "text": [
      "2022-03-15 15:51:53.070019 finished: SpecSim: drawing 100 realization for group rch_recharge_5_gr with 706 pars, (log) variance 0.054284340773499334 (sill 0.054284340773499334) took: 0:00:00.058208\n",
      "2022-03-15 15:51:53.074641 starting: SpecSim: drawing 100 realization for group rch_recharge_6_gr with 706 pars, (log) variance 0.054284340773499334 (sill 0.054284340773499334)\n",
      "SpecSim.initialize() summary: full_delx X full_dely: 72 X 72\n",
      "2022-03-15 15:51:53.127499 finished: SpecSim: drawing 100 realization for group rch_recharge_6_gr with 706 pars, (log) variance 0.054284340773499334 (sill 0.054284340773499334) took: 0:00:00.052858\n",
      "2022-03-15 15:51:53.132487 starting: SpecSim: drawing 100 realization for group rch_recharge_7_gr with 706 pars, (log) variance 0.054284340773499334 (sill 0.054284340773499334)\n",
      "SpecSim.initialize() summary: full_delx X full_dely: 72 X 72\n",
      "2022-03-15 15:51:53.180358 finished: SpecSim: drawing 100 realization for group rch_recharge_7_gr with 706 pars, (log) variance 0.054284340773499334 (sill 0.054284340773499334) took: 0:00:00.047871\n",
      "2022-03-15 15:51:53.185346 starting: SpecSim: drawing 100 realization for group rch_recharge_8_gr with 706 pars, (log) variance 0.054284340773499334 (sill 0.054284340773499334)\n",
      "SpecSim.initialize() summary: full_delx X full_dely: 72 X 72\n",
      "2022-03-15 15:51:53.231222 finished: SpecSim: drawing 100 realization for group rch_recharge_8_gr with 706 pars, (log) variance 0.054284340773499334 (sill 0.054284340773499334) took: 0:00:00.045876\n",
      "2022-03-15 15:51:53.235211 starting: SpecSim: drawing 100 realization for group rch_recharge_9_gr with 706 pars, (log) variance 0.054284340773499334 (sill 0.054284340773499334)\n",
      "SpecSim.initialize() summary: full_delx X full_dely: 72 X 72\n"
     ]
    },
    {
     "name": "stdout",
     "output_type": "stream",
     "text": [
      "2022-03-15 15:51:53.282086 finished: SpecSim: drawing 100 realization for group rch_recharge_9_gr with 706 pars, (log) variance 0.054284340773499334 (sill 0.054284340773499334) took: 0:00:00.046875\n",
      "SpecSim.initialize() summary: full_delx X full_dely: 72 X 72\n"
     ]
    },
    {
     "name": "stdout",
     "output_type": "stream",
     "text": [
      "2022-03-15 15:51:53.549771 finished: spectral simulation for grid-scale pars took: 0:00:02.772035\n",
      "2022-03-15 15:51:53.550769 starting: Drawing non-specsim pars\n",
      "building diagonal cov\n"
     ]
    },
    {
     "name": "stdout",
     "output_type": "stream",
     "text": [
      "processing  name:struct1,nugget:0.0,structures:\n",
      "name:var1,contribution:1.0,a:1000.0,anisotropy:1.0,bearing:0.0\n",
      "\n",
      "working on pargroups ['npf_k_layer1_pp']\n",
      "build cov matrix\n",
      "done\n",
      "getting diag var cov 32\n",
      "scaling full cov by diag var cov\n"
     ]
    },
    {
     "name": "stdout",
     "output_type": "stream",
     "text": [
      "working on pargroups ['npf_k_layer2_pp']\n",
      "build cov matrix\n",
      "done\n",
      "getting diag var cov 32\n",
      "scaling full cov by diag var cov\n",
      "working on pargroups ['npf_k_layer3_pp']\n",
      "build cov matrix\n",
      "done\n",
      "getting diag var cov 32\n",
      "scaling full cov by diag var cov\n"
     ]
    },
    {
     "name": "stdout",
     "output_type": "stream",
     "text": [
      "working on pargroups ['npf_k33_layer1_pp']\n",
      "build cov matrix\n",
      "done\n",
      "getting diag var cov 32\n",
      "scaling full cov by diag var cov\n",
      "working on pargroups ['npf_k33_layer2_pp']\n",
      "build cov matrix\n",
      "done\n",
      "getting diag var cov 32\n",
      "scaling full cov by diag var cov\n"
     ]
    },
    {
     "name": "stdout",
     "output_type": "stream",
     "text": [
      "working on pargroups ['npf_k33_layer3_pp']\n",
      "build cov matrix\n",
      "done\n",
      "getting diag var cov 32\n",
      "scaling full cov by diag var cov\n",
      "working on pargroups ['sto_ss_layer2_pp']\n",
      "build cov matrix\n",
      "done\n",
      "getting diag var cov 32\n",
      "scaling full cov by diag var cov\n"
     ]
    },
    {
     "name": "stdout",
     "output_type": "stream",
     "text": [
      "working on pargroups ['sto_ss_layer3_pp']\n",
      "build cov matrix\n",
      "done\n",
      "getting diag var cov 32\n",
      "scaling full cov by diag var cov\n",
      "working on pargroups ['sto_sy_layer1_pp']\n",
      "build cov matrix\n",
      "done\n",
      "getting diag var cov 32\n",
      "scaling full cov by diag var cov\n"
     ]
    },
    {
     "name": "stdout",
     "output_type": "stream",
     "text": [
      "working on pargroups ['rch_recharge_1_pp']\n",
      "build cov matrix\n",
      "done\n",
      "getting diag var cov 32\n",
      "scaling full cov by diag var cov\n",
      "working on pargroups ['rch_recharge_10_pp']\n",
      "build cov matrix\n",
      "done\n",
      "getting diag var cov 32\n",
      "scaling full cov by diag var cov\n",
      "working on pargroups ['rch_recharge_11_pp']\n"
     ]
    },
    {
     "name": "stdout",
     "output_type": "stream",
     "text": [
      "build cov matrix\n",
      "done\n",
      "getting diag var cov 32\n",
      "scaling full cov by diag var cov\n",
      "working on pargroups ['rch_recharge_12_pp']\n",
      "build cov matrix\n",
      "done\n",
      "getting diag var cov 32\n",
      "scaling full cov by diag var cov\n",
      "working on pargroups ['rch_recharge_13_pp']\n"
     ]
    },
    {
     "name": "stdout",
     "output_type": "stream",
     "text": [
      "build cov matrix\n",
      "done\n",
      "getting diag var cov 32\n",
      "scaling full cov by diag var cov\n",
      "working on pargroups ['rch_recharge_14_pp']\n",
      "build cov matrix\n",
      "done\n",
      "getting diag var cov 32\n",
      "scaling full cov by diag var cov\n"
     ]
    },
    {
     "name": "stdout",
     "output_type": "stream",
     "text": [
      "working on pargroups ['rch_recharge_15_pp']\n",
      "build cov matrix\n",
      "done\n",
      "getting diag var cov 32\n",
      "scaling full cov by diag var cov\n",
      "working on pargroups ['rch_recharge_16_pp']\n",
      "build cov matrix\n",
      "done\n",
      "getting diag var cov 32\n",
      "scaling full cov by diag var cov\n"
     ]
    },
    {
     "name": "stdout",
     "output_type": "stream",
     "text": [
      "working on pargroups ['rch_recharge_17_pp']\n",
      "build cov matrix\n",
      "done\n",
      "getting diag var cov 32\n",
      "scaling full cov by diag var cov\n",
      "working on pargroups ['rch_recharge_18_pp']\n",
      "build cov matrix\n",
      "done\n",
      "getting diag var cov 32\n",
      "scaling full cov by diag var cov\n"
     ]
    },
    {
     "name": "stdout",
     "output_type": "stream",
     "text": [
      "working on pargroups ['rch_recharge_19_pp']\n",
      "build cov matrix\n",
      "done\n",
      "getting diag var cov 32\n",
      "scaling full cov by diag var cov\n",
      "working on pargroups ['rch_recharge_2_pp']\n",
      "build cov matrix\n",
      "done\n",
      "getting diag var cov 32\n",
      "scaling full cov by diag var cov\n"
     ]
    },
    {
     "name": "stdout",
     "output_type": "stream",
     "text": [
      "working on pargroups ['rch_recharge_20_pp']\n",
      "build cov matrix\n",
      "done\n",
      "getting diag var cov 32\n",
      "scaling full cov by diag var cov\n",
      "working on pargroups ['rch_recharge_21_pp']\n",
      "build cov matrix\n",
      "done\n",
      "getting diag var cov 32\n",
      "scaling full cov by diag var cov\n"
     ]
    },
    {
     "name": "stdout",
     "output_type": "stream",
     "text": [
      "working on pargroups ['rch_recharge_22_pp']\n",
      "build cov matrix\n",
      "done\n",
      "getting diag var cov 32\n",
      "scaling full cov by diag var cov\n",
      "working on pargroups ['rch_recharge_23_pp']\n",
      "build cov matrix\n",
      "done\n",
      "getting diag var cov 32\n",
      "scaling full cov by diag var cov\n"
     ]
    },
    {
     "name": "stdout",
     "output_type": "stream",
     "text": [
      "working on pargroups ['rch_recharge_24_pp']\n",
      "build cov matrix\n",
      "done\n",
      "getting diag var cov 32\n",
      "scaling full cov by diag var cov\n",
      "working on pargroups ['rch_recharge_25_pp']\n",
      "build cov matrix\n",
      "done\n",
      "getting diag var cov 32\n",
      "scaling full cov by diag var cov\n"
     ]
    },
    {
     "name": "stdout",
     "output_type": "stream",
     "text": [
      "working on pargroups ['rch_recharge_3_pp']\n",
      "build cov matrix\n",
      "done\n",
      "getting diag var cov 32\n",
      "scaling full cov by diag var cov\n",
      "working on pargroups ['rch_recharge_4_pp']\n",
      "build cov matrix\n",
      "done\n",
      "getting diag var cov 32\n",
      "scaling full cov by diag var cov\n"
     ]
    },
    {
     "name": "stdout",
     "output_type": "stream",
     "text": [
      "working on pargroups ['rch_recharge_5_pp']\n",
      "build cov matrix\n",
      "done\n",
      "getting diag var cov 32\n",
      "scaling full cov by diag var cov\n",
      "working on pargroups ['rch_recharge_6_pp']\n",
      "build cov matrix\n",
      "done\n",
      "getting diag var cov 32\n",
      "scaling full cov by diag var cov\n"
     ]
    },
    {
     "name": "stdout",
     "output_type": "stream",
     "text": [
      "working on pargroups ['rch_recharge_7_pp']\n",
      "build cov matrix\n",
      "done\n",
      "getting diag var cov 32\n",
      "scaling full cov by diag var cov\n",
      "working on pargroups ['rch_recharge_8_pp']\n",
      "build cov matrix\n",
      "done\n",
      "getting diag var cov 32\n",
      "scaling full cov by diag var cov\n"
     ]
    },
    {
     "name": "stdout",
     "output_type": "stream",
     "text": [
      "working on pargroups ['rch_recharge_9_pp']\n",
      "build cov matrix\n",
      "done\n",
      "getting diag var cov 32\n",
      "scaling full cov by diag var cov\n",
      "working on pargroups ['ghbcond_gr']\n"
     ]
    },
    {
     "name": "stdout",
     "output_type": "stream",
     "text": [
      "build cov matrix\n",
      "done\n",
      "getting diag var cov 10\n",
      "scaling full cov by diag var cov\n",
      "working on pargroups ['ghbcond_gr']\n",
      "build cov matrix\n",
      "done\n",
      "getting diag var cov 10\n",
      "scaling full cov by diag var cov\n"
     ]
    },
    {
     "name": "stdout",
     "output_type": "stream",
     "text": [
      "working on pargroups ['ghbcond_gr']\n",
      "build cov matrix\n",
      "done\n",
      "getting diag var cov 10\n",
      "scaling full cov by diag var cov\n",
      "working on pargroups ['sfrcond_gr']\n",
      "build cov matrix\n",
      "done\n",
      "getting diag var cov 40\n",
      "scaling full cov by diag var cov\n"
     ]
    },
    {
     "name": "stdout",
     "output_type": "stream",
     "text": [
      "processing  name:struct1,nugget:0.0,structures:\n",
      "name:var1,contribution:1.0,a:60.0,anisotropy:1.0,bearing:0.0\n",
      "\n",
      "working on pargroups ['wel_cst']\n",
      "build cov matrix\n",
      "done\n",
      "getting diag var cov 25\n",
      "scaling full cov by diag var cov\n",
      "working on pargroups ['sfr_gr']\n",
      "build cov matrix\n",
      "done\n",
      "getting diag var cov 25\n",
      "scaling full cov by diag var cov\n"
     ]
    },
    {
     "name": "stdout",
     "output_type": "stream",
     "text": [
      "processing  name:struct1,nugget:0.0,structures:\n",
      "name:var1,contribution:1.0,a:1000.0,anisotropy:1.0,bearing:0.0\n",
      "\n",
      "working on pargroups ['ghbhead_gr']\n",
      "build cov matrix\n",
      "done\n",
      "getting diag var cov 10\n",
      "scaling full cov by diag var cov\n",
      "working on pargroups ['ghbhead_gr']\n",
      "build cov matrix\n",
      "done\n",
      "getting diag var cov 10\n",
      "scaling full cov by diag var cov\n",
      "working on pargroups ['ghbhead_gr']\n"
     ]
    },
    {
     "name": "stdout",
     "output_type": "stream",
     "text": [
      "build cov matrix\n",
      "done\n",
      "getting diag var cov 10\n",
      "scaling full cov by diag var cov\n",
      "adding remaining parameters to diagonal\n"
     ]
    },
    {
     "name": "stdout",
     "output_type": "stream",
     "text": [
      "2022-03-15 15:52:03.260641 finished: Drawing non-specsim pars took: 0:00:09.709872\n"
     ]
    },
    {
     "name": "stdout",
     "output_type": "stream",
     "text": [
      "2022-03-15 15:52:05.511996 finished: drawing realizations took: 0:00:14.978401\n"
     ]
    },
    {
     "name": "stdout",
     "output_type": "stream",
     "text": [
      "noptmax:0, npar_adj:25454, nnz_obs:920\n"
     ]
    }
   ],
   "source": [
    "pe = pf.draw(num_reals=100,use_specsim=True)# draw pars from the prior\n",
    "pe.enforce() # enforces parameter bounds\n",
    "pe.to_binary(os.path.join(template_ws,\"prior.jcb\")) #writes the paramter ensemble to binary file\n",
    "\n",
    "# final tidy-up\n",
    "pst.pestpp_options[\"ies_parameter_ensemble\"] = \"prior.jcb\" #adds pest++ options to the control file\n",
    "pst.write(os.path.join(template_ws, 'freyberg_mf6.pst')) # re-writes the control file with the new pest++ options"
   ]
  }
 ],
 "metadata": {
  "interpreter": {
   "hash": "b3ba2566441a7c06988d0923437866b63cedc61552a5af99d1f4fb67d367b25f"
  },
  "kernelspec": {
   "display_name": "Python 3 (ipykernel)",
   "language": "python",
   "name": "python3"
  },
  "language_info": {
   "codemirror_mode": {
    "name": "ipython",
    "version": 3
   },
   "file_extension": ".py",
   "mimetype": "text/x-python",
   "name": "python",
   "nbconvert_exporter": "python",
   "pygments_lexer": "ipython3",
   "version": "3.7.9"
  }
 },
 "nbformat": 4,
 "nbformat_minor": 2
}
