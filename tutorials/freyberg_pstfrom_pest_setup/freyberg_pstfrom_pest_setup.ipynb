{
 "cells": [
  {
   "cell_type": "markdown",
   "metadata": {},
   "source": [
    "# Setup the PEST(++) interface around the modified Freyberg model\n",
    "\n",
    "In this notebook, we will construct a complex model independent (non-intrusive) interface around an existing `MODFLOW6` model using `pyEMU`. We assume that the reader is at least partially familiar with PEST(++) file formats and working philosophy. \n",
    "\n",
    "The modified Freyberg groundwater flow model has been constructed and is described in a previous notebook from this series. We will construct the entire PEST(++) interface from scratch here. This setup will be built upon in subsequent tutorials. \n",
    "\n",
    "We will rely heavily on the `pyemu.PstFrom` class. Although here we employ it with a `MODFLOW6` model, `PstFrom` is designed to be general and software independent (mostly). Some features are only available for `MODFLOW` models (e.g. `SpatialReference`).\n",
    "\n",
    "The `PstFrom` class automates the construction of high-dimensional PEST(++) interfaces with all the bells and whistles. It provides easy-to-use functions to process model input and output files into PEST(++) datasets. It can assist with setting up spatio-temporaly varying parameters. It handles the generation of geostatisical prior covariance matrices and ensembles. It automates writting a \"model run\" script. It provides tools to add custom pre- and post-processing functions to this script. It makes adding tweaks and fixes to the PEST(++) interface a breeze. All of this from the comfort of your favourite Python IDE.\n",
    "\n",
    "During this tutorial we are going to construct a PEST dataset. Amongst other things, we will demonstrate:\n",
    " - how to add observations & parameters from model output & input files;\n",
    " - how to add pre- and post-processing functions to the \"model run\" script;\n",
    " - how to generate geostatistical structures for spatialy and temporally correlated parameters;\n",
    " - how to edit parameter/observation data sections;\n",
    " - how to generate a prior parameter covariance matrix and prior parameter ensemble;\n",
    "\n",
    "\n",
    "\n",
    "First, let's get our model files and sort out some admin.\n"
   ]
  },
  {
   "cell_type": "markdown",
   "metadata": {},
   "source": [
    "### 1. Admin & Organize Folders\n",
    "First some admin. Load the dependencies and organize model folders. "
   ]
  },
  {
   "cell_type": "code",
   "execution_count": 62,
   "metadata": {
    "execution": {
     "iopub.execute_input": "2022-03-18T04:41:17.080601Z",
     "iopub.status.busy": "2022-03-18T04:41:17.080601Z",
     "iopub.status.idle": "2022-03-18T04:41:18.151761Z",
     "shell.execute_reply": "2022-03-18T04:41:18.150764Z"
    }
   },
   "outputs": [],
   "source": [
    "import sys\n",
    "import os\n",
    "import shutil\n",
    "import platform\n",
    "import warnings\n",
    "warnings.filterwarnings(\"ignore\")\n",
    "warnings.filterwarnings(\"ignore\", category=DeprecationWarning) \n",
    "import pyemu\n",
    "import flopy\n",
    "import pandas as pd\n",
    "import numpy as np\n",
    "import matplotlib.pyplot as plt;"
   ]
  },
  {
   "cell_type": "markdown",
   "metadata": {},
   "source": [
    "We will be calling a few external programs throughout this tutorial. Namely, MODFLOW 6 and PEST++GLM. For the purposes of the tutorial(s), we have included executables in the tutorial repository. They are in the `bin` folder. \n",
    "\n",
    "Preferably, executables should be located in a folder that is cited in your computer’s PATH environment variable. Doing so allows you to run them from a command prompt open to any other folder without having to include the full path to these executables in the command to run them. \n",
    "\n",
    "Sometimes this may not be practical. In such cases, we can simply place the executables in the folder from which they will be executed.  So, let's copy the necessary executables into our working folder:\n"
   ]
  },
  {
   "cell_type": "code",
   "execution_count": 63,
   "metadata": {
    "execution": {
     "iopub.execute_input": "2022-03-18T04:41:18.154753Z",
     "iopub.status.busy": "2022-03-18T04:41:18.154753Z",
     "iopub.status.idle": "2022-03-18T04:41:18.440072Z",
     "shell.execute_reply": "2022-03-18T04:41:18.440072Z"
    }
   },
   "outputs": [],
   "source": [
    "# specify a temporary folder; we will gather all our model and executable files here first\n",
    "# this is to ensure we don't mess up our original model files\n",
    "tmp_d = os.path.join('freyberg_mf6')\n",
    "\n",
    "# get the necessary executables; OS agnostic\n",
    "bin_dir = os.path.join('..','..','bin')\n",
    "\n",
    "if \"window\" in platform.platform().lower():\n",
    "    exe_files = [f for f in os.listdir(bin_dir) if f.endswith('exe')]\n",
    "else:\n",
    "    exe_files = [f for f in os.listdir(bin_dir) if not f.endswith('exe')]\n",
    "\n",
    "# remove existing folder if it already exists\n",
    "if os.path.exists(tmp_d):\n",
    "    shutil.rmtree(tmp_d)\n",
    "\n",
    "# make the folder\n",
    "os.mkdir(tmp_d)\n",
    "\n",
    "# copy executables across\n",
    "for exe_file in exe_files:\n",
    "    shutil.copy2(os.path.join(bin_dir, exe_file),os.path.join(tmp_d,exe_file))"
   ]
  },
  {
   "cell_type": "markdown",
   "metadata": {},
   "source": [
    "Let's copy the original model folder into a new working directory, just to ensure we don't mess up the base files."
   ]
  },
  {
   "cell_type": "code",
   "execution_count": 64,
   "metadata": {
    "execution": {
     "iopub.execute_input": "2022-03-18T04:41:18.444061Z",
     "iopub.status.busy": "2022-03-18T04:41:18.444061Z",
     "iopub.status.idle": "2022-03-18T04:41:18.744911Z",
     "shell.execute_reply": "2022-03-18T04:41:18.745940Z"
    }
   },
   "outputs": [],
   "source": [
    "# folder containing original model files\n",
    "org_d = os.path.join('..', '..', 'models', 'freyberg_mf6')\n",
    "\n",
    "# copy files across to the temp folder\n",
    "for f in os.listdir(org_d):\n",
    "    shutil.copy2(os.path.join(org_d,f), os.path.join(tmp_d,f))"
   ]
  },
  {
   "cell_type": "markdown",
   "metadata": {},
   "source": [
    "If you inspect the model folder, you will see that all the `MODFLOW6` model files have been written \"externally\". This is key for working with the `PstFrom` class (or with PEST(++) in general, really). Essentialy, all pertinent model inputs have been written as independent files in either array or list format. This makes it easier for us to programiatically access and re-write the values in these files.\n",
    "\n",
    "Array files contain a data type (usually floating points). List files will have a few columns that contain index information and then columns of floating point values (they have a tabular format; think `.csv` files or DataFrames). The `PstFrom` class provides methods for processing these file types into a PEST(++) dataset. \n",
    "\n"
   ]
  },
  {
   "cell_type": "code",
   "execution_count": 65,
   "metadata": {
    "execution": {
     "iopub.execute_input": "2022-03-18T04:41:18.748902Z",
     "iopub.status.busy": "2022-03-18T04:41:18.748902Z",
     "iopub.status.idle": "2022-03-18T04:41:18.757876Z",
     "shell.execute_reply": "2022-03-18T04:41:18.757876Z"
    }
   },
   "outputs": [
    {
     "data": {
      "text/plain": [
       "['freyberg6.dis',\n",
       " 'freyberg6.dis.grb',\n",
       " 'freyberg6.dis_botm_layer1.txt',\n",
       " 'freyberg6.dis_botm_layer2.txt',\n",
       " 'freyberg6.dis_botm_layer3.txt',\n",
       " 'freyberg6.dis_delc.txt',\n",
       " 'freyberg6.dis_delr.txt',\n",
       " 'freyberg6.dis_idomain_layer1.txt',\n",
       " 'freyberg6.dis_idomain_layer2.txt',\n",
       " 'freyberg6.dis_idomain_layer3.txt',\n",
       " 'freyberg6.dis_top.txt',\n",
       " 'freyberg6.ghb',\n",
       " 'freyberg6.ghb_stress_period_data_1.txt',\n",
       " 'freyberg6.ic',\n",
       " 'freyberg6.ic_strt_layer1.txt',\n",
       " 'freyberg6.ic_strt_layer2.txt',\n",
       " 'freyberg6.ic_strt_layer3.txt',\n",
       " 'freyberg6.ims',\n",
       " 'freyberg6.lst',\n",
       " 'freyberg6.nam',\n",
       " 'freyberg6.npf',\n",
       " 'freyberg6.npf_icelltype_layer1.txt',\n",
       " 'freyberg6.npf_icelltype_layer2.txt',\n",
       " 'freyberg6.npf_icelltype_layer3.txt',\n",
       " 'freyberg6.npf_k33_layer1.txt',\n",
       " 'freyberg6.npf_k33_layer2.txt',\n",
       " 'freyberg6.npf_k33_layer3.txt',\n",
       " 'freyberg6.npf_k_layer1.txt',\n",
       " 'freyberg6.npf_k_layer2.txt',\n",
       " 'freyberg6.npf_k_layer3.txt',\n",
       " 'freyberg6.oc',\n",
       " 'freyberg6.rch',\n",
       " 'freyberg6.rch_recharge_1.txt',\n",
       " 'freyberg6.rch_recharge_10.txt',\n",
       " 'freyberg6.rch_recharge_11.txt',\n",
       " 'freyberg6.rch_recharge_12.txt',\n",
       " 'freyberg6.rch_recharge_13.txt',\n",
       " 'freyberg6.rch_recharge_14.txt',\n",
       " 'freyberg6.rch_recharge_15.txt',\n",
       " 'freyberg6.rch_recharge_16.txt',\n",
       " 'freyberg6.rch_recharge_17.txt',\n",
       " 'freyberg6.rch_recharge_18.txt',\n",
       " 'freyberg6.rch_recharge_19.txt',\n",
       " 'freyberg6.rch_recharge_2.txt',\n",
       " 'freyberg6.rch_recharge_20.txt',\n",
       " 'freyberg6.rch_recharge_21.txt',\n",
       " 'freyberg6.rch_recharge_22.txt',\n",
       " 'freyberg6.rch_recharge_23.txt',\n",
       " 'freyberg6.rch_recharge_24.txt',\n",
       " 'freyberg6.rch_recharge_25.txt',\n",
       " 'freyberg6.rch_recharge_3.txt',\n",
       " 'freyberg6.rch_recharge_4.txt',\n",
       " 'freyberg6.rch_recharge_5.txt',\n",
       " 'freyberg6.rch_recharge_6.txt',\n",
       " 'freyberg6.rch_recharge_7.txt',\n",
       " 'freyberg6.rch_recharge_8.txt',\n",
       " 'freyberg6.rch_recharge_9.txt',\n",
       " 'freyberg6.sfr',\n",
       " 'freyberg6.sfr_connectiondata.txt',\n",
       " 'freyberg6.sfr_packagedata.txt',\n",
       " 'freyberg6.sfr_perioddata_1.txt',\n",
       " 'freyberg6.sfr_perioddata_10.txt',\n",
       " 'freyberg6.sfr_perioddata_11.txt',\n",
       " 'freyberg6.sfr_perioddata_12.txt',\n",
       " 'freyberg6.sfr_perioddata_13.txt',\n",
       " 'freyberg6.sfr_perioddata_14.txt',\n",
       " 'freyberg6.sfr_perioddata_15.txt',\n",
       " 'freyberg6.sfr_perioddata_16.txt',\n",
       " 'freyberg6.sfr_perioddata_17.txt',\n",
       " 'freyberg6.sfr_perioddata_18.txt',\n",
       " 'freyberg6.sfr_perioddata_19.txt',\n",
       " 'freyberg6.sfr_perioddata_2.txt',\n",
       " 'freyberg6.sfr_perioddata_20.txt',\n",
       " 'freyberg6.sfr_perioddata_21.txt',\n",
       " 'freyberg6.sfr_perioddata_22.txt',\n",
       " 'freyberg6.sfr_perioddata_23.txt',\n",
       " 'freyberg6.sfr_perioddata_24.txt',\n",
       " 'freyberg6.sfr_perioddata_25.txt',\n",
       " 'freyberg6.sfr_perioddata_3.txt',\n",
       " 'freyberg6.sfr_perioddata_4.txt',\n",
       " 'freyberg6.sfr_perioddata_5.txt',\n",
       " 'freyberg6.sfr_perioddata_6.txt',\n",
       " 'freyberg6.sfr_perioddata_7.txt',\n",
       " 'freyberg6.sfr_perioddata_8.txt',\n",
       " 'freyberg6.sfr_perioddata_9.txt',\n",
       " 'freyberg6.sto',\n",
       " 'freyberg6.sto_iconvert_layer1.txt',\n",
       " 'freyberg6.sto_iconvert_layer2.txt',\n",
       " 'freyberg6.sto_iconvert_layer3.txt',\n",
       " 'freyberg6.sto_ss_layer1.txt',\n",
       " 'freyberg6.sto_ss_layer2.txt',\n",
       " 'freyberg6.sto_ss_layer3.txt',\n",
       " 'freyberg6.sto_sy_layer1.txt',\n",
       " 'freyberg6.sto_sy_layer2.txt',\n",
       " 'freyberg6.sto_sy_layer3.txt',\n",
       " 'freyberg6.tdis',\n",
       " 'freyberg6.wel',\n",
       " 'freyberg6.wel_stress_period_data_1.txt',\n",
       " 'freyberg6.wel_stress_period_data_10.txt',\n",
       " 'freyberg6.wel_stress_period_data_11.txt',\n",
       " 'freyberg6.wel_stress_period_data_12.txt',\n",
       " 'freyberg6.wel_stress_period_data_13.txt',\n",
       " 'freyberg6.wel_stress_period_data_14.txt',\n",
       " 'freyberg6.wel_stress_period_data_15.txt',\n",
       " 'freyberg6.wel_stress_period_data_16.txt',\n",
       " 'freyberg6.wel_stress_period_data_17.txt',\n",
       " 'freyberg6.wel_stress_period_data_18.txt',\n",
       " 'freyberg6.wel_stress_period_data_19.txt',\n",
       " 'freyberg6.wel_stress_period_data_2.txt',\n",
       " 'freyberg6.wel_stress_period_data_20.txt',\n",
       " 'freyberg6.wel_stress_period_data_21.txt',\n",
       " 'freyberg6.wel_stress_period_data_22.txt',\n",
       " 'freyberg6.wel_stress_period_data_23.txt',\n",
       " 'freyberg6.wel_stress_period_data_24.txt',\n",
       " 'freyberg6.wel_stress_period_data_25.txt',\n",
       " 'freyberg6.wel_stress_period_data_3.txt',\n",
       " 'freyberg6.wel_stress_period_data_4.txt',\n",
       " 'freyberg6.wel_stress_period_data_5.txt',\n",
       " 'freyberg6.wel_stress_period_data_6.txt',\n",
       " 'freyberg6.wel_stress_period_data_7.txt',\n",
       " 'freyberg6.wel_stress_period_data_8.txt',\n",
       " 'freyberg6.wel_stress_period_data_9.txt',\n",
       " 'freyberg6_freyberg.cbc',\n",
       " 'freyberg6_freyberg.hds',\n",
       " 'head.obs',\n",
       " 'heads.csv',\n",
       " 'mf5to6.exe',\n",
       " 'mf6.exe',\n",
       " 'mfsim.lst',\n",
       " 'mfsim.nam',\n",
       " 'pestpp-da.exe',\n",
       " 'pestpp-glm.exe',\n",
       " 'pestpp-ies.exe',\n",
       " 'pestpp-mou.exe',\n",
       " 'pestpp-opt.exe',\n",
       " 'pestpp-sen.exe',\n",
       " 'pestpp-sqp.exe',\n",
       " 'pestpp-swp.exe',\n",
       " 'sfr.csv',\n",
       " 'sfr.obs',\n",
       " 'zbud6.exe']"
      ]
     },
     "execution_count": 65,
     "metadata": {},
     "output_type": "execute_result"
    }
   ],
   "source": [
    "os.listdir(tmp_d)"
   ]
  },
  {
   "cell_type": "markdown",
   "metadata": {},
   "source": [
    "Now we need just a tiny bit of info about the spatial discretization of the model - this is needed to work out separation distances between parameters to build a geostatistical prior covariance matrix later.\n",
    "\n",
    "Here we will load the flopy sim and model instance just to help us define some quantities later - flopy is ***not required*** to use the `PstFrom` class. ***Neither is MODFLOW***. However, at the time of writting, support for `SpatialReference` to spatially locate parameters is limited to MODLOW models.\n",
    "\n",
    "Load the simulation. Run it once to make sure it works and to ***make sure that model output files are in the folder***. "
   ]
  },
  {
   "cell_type": "code",
   "execution_count": 66,
   "metadata": {
    "execution": {
     "iopub.execute_input": "2022-03-18T04:41:18.782843Z",
     "iopub.status.busy": "2022-03-18T04:41:18.765857Z",
     "iopub.status.idle": "2022-03-18T04:41:19.850658Z",
     "shell.execute_reply": "2022-03-18T04:41:19.849675Z"
    }
   },
   "outputs": [
    {
     "name": "stdout",
     "output_type": "stream",
     "text": [
      "loading simulation...\n",
      "  loading simulation name file...\n",
      "  loading tdis package...\n",
      "  loading model gwf6...\n",
      "    loading package dis...\n",
      "    loading package ic...\n",
      "    loading package npf...\n",
      "    loading package sto...\n",
      "    loading package oc...\n",
      "    loading package wel...\n",
      "    loading package rch...\n",
      "    loading package ghb...\n",
      "    loading package sfr...\n",
      "    loading package obs...\n",
      "  loading ims package freyberg6...\n",
      "FloPy is using the following executable to run the model: C:\\Program Files\\MODFLOW\\mf6.exe\n",
      "                                   MODFLOW 6\n",
      "                U.S. GEOLOGICAL SURVEY MODULAR HYDROLOGIC MODEL\n",
      "                            VERSION 6.2.2 07/30/2021\n",
      "\n",
      "   MODFLOW 6 compiled Jul 31 2021 14:57:11 with IFORT compiler (ver. 20.21.2)\n",
      "\n",
      "This software has been approved for release by the U.S. Geological \n",
      "Survey (USGS). Although the software has been subjected to rigorous \n",
      "review, the USGS reserves the right to update the software as needed \n",
      "pursuant to further analysis and review. No warranty, expressed or \n",
      "implied, is made by the USGS or the U.S. Government as to the \n",
      "functionality of the software and related material nor shall the \n",
      "fact of release constitute any such warranty. Furthermore, the \n",
      "software is released on condition that neither the USGS nor the U.S. \n",
      "Government shall be held liable for any damages resulting from its \n",
      "authorized or unauthorized use. Also refer to the USGS Water \n",
      "Resources Software User Rights Notice for complete use, copyright, \n",
      "and distribution information.\n",
      "\n",
      " \n",
      " Run start date and time (yyyy/mm/dd hh:mm:ss): 2022/03/24 11:39:01\n",
      " \n",
      " Writing simulation list file: mfsim.lst\n",
      " Using Simulation name file: mfsim.nam\n",
      " \n",
      "    Solving:  Stress period:     1    Time step:     1\n",
      "    Solving:  Stress period:     2    Time step:     1\n",
      "    Solving:  Stress period:     3    Time step:     1\n",
      "    Solving:  Stress period:     4    Time step:     1\n",
      "    Solving:  Stress period:     5    Time step:     1\n",
      "    Solving:  Stress period:     6    Time step:     1\n",
      "    Solving:  Stress period:     7    Time step:     1\n",
      "    Solving:  Stress period:     8    Time step:     1\n",
      "    Solving:  Stress period:     9    Time step:     1\n",
      "    Solving:  Stress period:    10    Time step:     1\n",
      "    Solving:  Stress period:    11    Time step:     1\n",
      "    Solving:  Stress period:    12    Time step:     1\n",
      "    Solving:  Stress period:    13    Time step:     1\n",
      "    Solving:  Stress period:    14    Time step:     1\n",
      "    Solving:  Stress period:    15    Time step:     1\n",
      "    Solving:  Stress period:    16    Time step:     1\n",
      "    Solving:  Stress period:    17    Time step:     1\n",
      "    Solving:  Stress period:    18    Time step:     1\n",
      "    Solving:  Stress period:    19    Time step:     1\n",
      "    Solving:  Stress period:    20    Time step:     1\n",
      "    Solving:  Stress period:    21    Time step:     1\n",
      "    Solving:  Stress period:    22    Time step:     1\n",
      "    Solving:  Stress period:    23    Time step:     1\n",
      "    Solving:  Stress period:    24    Time step:     1\n",
      "    Solving:  Stress period:    25    Time step:     1\n",
      " \n",
      " Run end date and time (yyyy/mm/dd hh:mm:ss): 2022/03/24 11:39:02\n",
      " Elapsed run time:  0.631 Seconds\n",
      " \n",
      " Normal termination of simulation.\n"
     ]
    },
    {
     "data": {
      "text/plain": [
       "(True, [])"
      ]
     },
     "execution_count": 66,
     "metadata": {},
     "output_type": "execute_result"
    }
   ],
   "source": [
    "# load simulation\n",
    "sim = flopy.mf6.MFSimulation.load(sim_ws=tmp_d)\n",
    "# load flow model\n",
    "gwf = sim.get_model()\n",
    "\n",
    "# run the model once to make sure it works\n",
    "sim.run_simulation()"
   ]
  },
  {
   "cell_type": "markdown",
   "metadata": {},
   "source": [
    "### 2. Spatial Reference\n",
    "Now we can instantiate a `SpatialReference`. This will later be passed to `PstFrom` to assist with spatially locating parameters (e.g. pilot points and/or cell-by-cell parameters)."
   ]
  },
  {
   "cell_type": "code",
   "execution_count": 67,
   "metadata": {
    "execution": {
     "iopub.execute_input": "2022-03-18T04:41:19.854646Z",
     "iopub.status.busy": "2022-03-18T04:41:19.854646Z",
     "iopub.status.idle": "2022-03-18T04:41:19.859640Z",
     "shell.execute_reply": "2022-03-18T04:41:19.860668Z"
    }
   },
   "outputs": [
    {
     "name": "stdout",
     "output_type": "stream",
     "text": [
      "   could not remove start_datetime\n"
     ]
    }
   ],
   "source": [
    "sr = pyemu.helpers.SpatialReference.from_namfile(\n",
    "        os.path.join(tmp_d, \"freyberg6.nam\"),\n",
    "        delr=gwf.dis.delr.array, delc=gwf.dis.delc.array)"
   ]
  },
  {
   "cell_type": "markdown",
   "metadata": {},
   "source": [
    "### 3. Instantiate PstFrom\n",
    "\n",
    "Now we can start to construct the PEST(++) interface by instantiating a `PstFrom` class instance. There are a few things that we need to specify up front:\n",
    "\n",
    " - the folder in which we currently have model files (e.g. `tmp_d`). PstFrom will copy all the files from this directory into a new \"template\" folder.\n",
    " - **template folder**: this is a folder in which the PEST dataset will be constructed. This folder/dataset will form the template for subsequent deployment of PEST(++). It is **not** where PEST(++) will be run.\n",
    " - **longnames**: for backwards compatibility with PEST and PEST_HP (i.e. non-PEST++ versions), which have upper limits to parameter/obsveration names (PEST++ does not). Setting this value to False is only recommended if required. \n",
    " - Whether the model is `zero based` or not.\n",
    " - (optional) the **spatial reference**, as previously discussed. This is only requried if using `pyEMU` to define parameter spatial correlation. Alternatively, you can define these yourself or use utilities available in the PEST-suite. \n",
    "\n"
   ]
  },
  {
   "cell_type": "code",
   "execution_count": 68,
   "metadata": {
    "execution": {
     "iopub.execute_input": "2022-03-18T04:41:19.868610Z",
     "iopub.status.busy": "2022-03-18T04:41:19.867613Z",
     "iopub.status.idle": "2022-03-18T04:41:20.761461Z",
     "shell.execute_reply": "2022-03-18T04:41:20.761461Z"
    }
   },
   "outputs": [],
   "source": [
    "# specify a template directory (i.e. the PstFrom working folder)\n",
    "template_ws = os.path.join(\"freyberg6_template\")\n",
    "\n",
    "# instantiate PstFrom\n",
    "pf = pyemu.utils.PstFrom(original_d=tmp_d, # where the model is stored\n",
    "                            new_d=template_ws, # the PEST template folder\n",
    "                            remove_existing=True, # ensures a clean start\n",
    "                            longnames=True, # set False if using PEST/PEST_HP\n",
    "                            spatial_reference=sr, #the spatial reference we generated earlier\n",
    "                            zero_based=False, # does the MODEL use zero based indices? For example, MODFLOW does NOT\n",
    "                            start_datetime=\"1-1-2018\", # required when specifying temporal correlation between parameters\n",
    "                            echo=False) # to stop PstFrom from writting lots of infromation to the notebook; experiment by setting it as True to see the difference; usefull for troubleshooting"
   ]
  },
  {
   "cell_type": "markdown",
   "metadata": {},
   "source": [
    "### 4. Observations\n",
    "\n",
    "We now have a `PstFrom` instance assigned to the variable `pf`. For now it is only an empty container to which we can start adding \"observations\", \"parameters\" and other bits and bobs.\n",
    "\n",
    "Lets start with observations because they are easier. `MODFLOW6` makes life even easier by recording observations in nicely organized .csv files. Isn't that a peach!\n",
    "\n",
    "#### 4.1 Freyberg Recap\n",
    "As you may recall from the \"*intro to Freyberg*\" tutorial, the model is configured to record time series of head at observation wells, and flux at three locations along the river. These are recorded in external .csv files named `heads.csv` and `sfr.csv`, respectively. You should be able to see these files in the model folder.\n",
    "\n",
    "Recall that each .csv houses records of observation time-series. Outputs are recorded for each simulated stress-period. The model starts with a single steady-state stress-period, followed by 24 monthly transient stress-periods. The steady-state and first 12 transient stress-periods simulate the history-matching period. The last 12 transient stress periods simulate future conditions (i.e. the prediction period)."
   ]
  },
  {
   "cell_type": "code",
   "execution_count": 69,
   "metadata": {
    "execution": {
     "iopub.execute_input": "2022-03-18T04:41:20.765451Z",
     "iopub.status.busy": "2022-03-18T04:41:20.765451Z",
     "iopub.status.idle": "2022-03-18T04:41:20.767480Z",
     "shell.execute_reply": "2022-03-18T04:41:20.767480Z"
    }
   },
   "outputs": [
    {
     "name": "stdout",
     "output_type": "stream",
     "text": [
      "['sfr.csv']\n",
      "['heads.csv']\n"
     ]
    }
   ],
   "source": [
    "# check the output csv file names\n",
    "for i in gwf.obs:\n",
    "    print(i.output.obs_names)"
   ]
  },
  {
   "cell_type": "markdown",
   "metadata": {},
   "source": [
    "Let's start with the 'heads.csv' file. First load it as a DataFrame to take a look.\n",
    "\n",
    "As you can see, there are many columns, one for each observation site. Conveniently, * *cough* * they are named according to the cell layer, row and column. Note that at every site, there is an observation in both the top and bottom layer (0_ and 2_). We will make use of this later to create \"secondary observations\" of head differences between layers...but let's not get distracted.\n",
    "\n",
    "The values in the *.csv* file were generated by running the model. (***IMPORTANT!***) However, `PstFrom` assumes that values in this file are the *target* observation values, and they will be used to populate the PEST(++) dataset. Now, you can change these values later on if you wish. However, it can get a bit messy. So you either need to populate model output files with the target values, or update values in the PEST(++) dataset later on. Which approach you adopt is up to personal preference and/or specifics of your modelling workflow. \n",
    "\n",
    "We will demonstrate both in this notebook."
   ]
  },
  {
   "cell_type": "code",
   "execution_count": 70,
   "metadata": {
    "execution": {
     "iopub.execute_input": "2022-03-18T04:41:20.771433Z",
     "iopub.status.busy": "2022-03-18T04:41:20.771433Z",
     "iopub.status.idle": "2022-03-18T04:41:20.798361Z",
     "shell.execute_reply": "2022-03-18T04:41:20.799392Z"
    }
   },
   "outputs": [
    {
     "data": {
      "text/html": [
       "<div>\n",
       "<style scoped>\n",
       "    .dataframe tbody tr th:only-of-type {\n",
       "        vertical-align: middle;\n",
       "    }\n",
       "\n",
       "    .dataframe tbody tr th {\n",
       "        vertical-align: top;\n",
       "    }\n",
       "\n",
       "    .dataframe thead th {\n",
       "        text-align: right;\n",
       "    }\n",
       "</style>\n",
       "<table border=\"1\" class=\"dataframe\">\n",
       "  <thead>\n",
       "    <tr style=\"text-align: right;\">\n",
       "      <th></th>\n",
       "      <th>TRGW_2_2_15</th>\n",
       "      <th>TRGW_2_2_9</th>\n",
       "      <th>TRGW_2_3_8</th>\n",
       "      <th>TRGW_2_9_1</th>\n",
       "      <th>TRGW_2_13_10</th>\n",
       "      <th>TRGW_2_15_16</th>\n",
       "      <th>TRGW_2_21_10</th>\n",
       "      <th>TRGW_2_22_15</th>\n",
       "      <th>TRGW_2_24_4</th>\n",
       "      <th>TRGW_2_26_6</th>\n",
       "      <th>...</th>\n",
       "      <th>TRGW_0_9_1</th>\n",
       "      <th>TRGW_0_13_10</th>\n",
       "      <th>TRGW_0_15_16</th>\n",
       "      <th>TRGW_0_21_10</th>\n",
       "      <th>TRGW_0_22_15</th>\n",
       "      <th>TRGW_0_24_4</th>\n",
       "      <th>TRGW_0_26_6</th>\n",
       "      <th>TRGW_0_29_15</th>\n",
       "      <th>TRGW_0_33_7</th>\n",
       "      <th>TRGW_0_34_10</th>\n",
       "    </tr>\n",
       "    <tr>\n",
       "      <th>time</th>\n",
       "      <th></th>\n",
       "      <th></th>\n",
       "      <th></th>\n",
       "      <th></th>\n",
       "      <th></th>\n",
       "      <th></th>\n",
       "      <th></th>\n",
       "      <th></th>\n",
       "      <th></th>\n",
       "      <th></th>\n",
       "      <th></th>\n",
       "      <th></th>\n",
       "      <th></th>\n",
       "      <th></th>\n",
       "      <th></th>\n",
       "      <th></th>\n",
       "      <th></th>\n",
       "      <th></th>\n",
       "      <th></th>\n",
       "      <th></th>\n",
       "      <th></th>\n",
       "    </tr>\n",
       "  </thead>\n",
       "  <tbody>\n",
       "    <tr>\n",
       "      <th>1.0</th>\n",
       "      <td>34.339371</td>\n",
       "      <td>34.581652</td>\n",
       "      <td>34.611269</td>\n",
       "      <td>34.872233</td>\n",
       "      <td>34.257587</td>\n",
       "      <td>34.136402</td>\n",
       "      <td>34.144486</td>\n",
       "      <td>34.027671</td>\n",
       "      <td>34.310866</td>\n",
       "      <td>34.171622</td>\n",
       "      <td>...</td>\n",
       "      <td>34.878144</td>\n",
       "      <td>34.263200</td>\n",
       "      <td>34.141615</td>\n",
       "      <td>34.150087</td>\n",
       "      <td>33.992378</td>\n",
       "      <td>34.316580</td>\n",
       "      <td>34.177242</td>\n",
       "      <td>33.909884</td>\n",
       "      <td>33.985754</td>\n",
       "      <td>33.890225</td>\n",
       "    </tr>\n",
       "    <tr>\n",
       "      <th>32.0</th>\n",
       "      <td>34.422410</td>\n",
       "      <td>34.680539</td>\n",
       "      <td>34.711674</td>\n",
       "      <td>34.972781</td>\n",
       "      <td>34.381012</td>\n",
       "      <td>34.245389</td>\n",
       "      <td>34.272053</td>\n",
       "      <td>34.137782</td>\n",
       "      <td>34.437040</td>\n",
       "      <td>34.313022</td>\n",
       "      <td>...</td>\n",
       "      <td>34.978649</td>\n",
       "      <td>34.385899</td>\n",
       "      <td>34.250189</td>\n",
       "      <td>34.276799</td>\n",
       "      <td>34.087175</td>\n",
       "      <td>34.441928</td>\n",
       "      <td>34.317371</td>\n",
       "      <td>33.992246</td>\n",
       "      <td>34.102202</td>\n",
       "      <td>34.005258</td>\n",
       "    </tr>\n",
       "    <tr>\n",
       "      <th>61.0</th>\n",
       "      <td>34.495957</td>\n",
       "      <td>34.778186</td>\n",
       "      <td>34.811777</td>\n",
       "      <td>35.083356</td>\n",
       "      <td>34.481550</td>\n",
       "      <td>34.330166</td>\n",
       "      <td>34.376147</td>\n",
       "      <td>34.218984</td>\n",
       "      <td>34.554584</td>\n",
       "      <td>34.427174</td>\n",
       "      <td>...</td>\n",
       "      <td>35.089255</td>\n",
       "      <td>34.487453</td>\n",
       "      <td>34.335923</td>\n",
       "      <td>34.381917</td>\n",
       "      <td>34.157801</td>\n",
       "      <td>34.560035</td>\n",
       "      <td>34.432626</td>\n",
       "      <td>34.057961</td>\n",
       "      <td>34.195661</td>\n",
       "      <td>34.086047</td>\n",
       "    </tr>\n",
       "    <tr>\n",
       "      <th>92.0</th>\n",
       "      <td>34.541401</td>\n",
       "      <td>34.848355</td>\n",
       "      <td>34.884781</td>\n",
       "      <td>35.177773</td>\n",
       "      <td>34.535931</td>\n",
       "      <td>34.372218</td>\n",
       "      <td>34.431584</td>\n",
       "      <td>34.257500</td>\n",
       "      <td>34.631270</td>\n",
       "      <td>34.490398</td>\n",
       "      <td>...</td>\n",
       "      <td>35.183927</td>\n",
       "      <td>34.542985</td>\n",
       "      <td>34.378908</td>\n",
       "      <td>34.438584</td>\n",
       "      <td>34.191420</td>\n",
       "      <td>34.637737</td>\n",
       "      <td>34.497162</td>\n",
       "      <td>34.090584</td>\n",
       "      <td>34.243705</td>\n",
       "      <td>34.121032</td>\n",
       "    </tr>\n",
       "    <tr>\n",
       "      <th>122.0</th>\n",
       "      <td>34.538046</td>\n",
       "      <td>34.859540</td>\n",
       "      <td>34.898037</td>\n",
       "      <td>35.214376</td>\n",
       "      <td>34.519945</td>\n",
       "      <td>34.353194</td>\n",
       "      <td>34.414273</td>\n",
       "      <td>34.236604</td>\n",
       "      <td>34.633647</td>\n",
       "      <td>34.475787</td>\n",
       "      <td>...</td>\n",
       "      <td>35.220884</td>\n",
       "      <td>34.527784</td>\n",
       "      <td>34.360428</td>\n",
       "      <td>34.422143</td>\n",
       "      <td>34.173629</td>\n",
       "      <td>34.641042</td>\n",
       "      <td>34.483587</td>\n",
       "      <td>34.076343</td>\n",
       "      <td>34.225780</td>\n",
       "      <td>34.095256</td>\n",
       "    </tr>\n",
       "  </tbody>\n",
       "</table>\n",
       "<p>5 rows × 26 columns</p>\n",
       "</div>"
      ],
      "text/plain": [
       "       TRGW_2_2_15  TRGW_2_2_9  TRGW_2_3_8  TRGW_2_9_1  TRGW_2_13_10  \\\n",
       "time                                                                   \n",
       "1.0      34.339371   34.581652   34.611269   34.872233     34.257587   \n",
       "32.0     34.422410   34.680539   34.711674   34.972781     34.381012   \n",
       "61.0     34.495957   34.778186   34.811777   35.083356     34.481550   \n",
       "92.0     34.541401   34.848355   34.884781   35.177773     34.535931   \n",
       "122.0    34.538046   34.859540   34.898037   35.214376     34.519945   \n",
       "\n",
       "       TRGW_2_15_16  TRGW_2_21_10  TRGW_2_22_15  TRGW_2_24_4  TRGW_2_26_6  \\\n",
       "time                                                                        \n",
       "1.0       34.136402     34.144486     34.027671    34.310866    34.171622   \n",
       "32.0      34.245389     34.272053     34.137782    34.437040    34.313022   \n",
       "61.0      34.330166     34.376147     34.218984    34.554584    34.427174   \n",
       "92.0      34.372218     34.431584     34.257500    34.631270    34.490398   \n",
       "122.0     34.353194     34.414273     34.236604    34.633647    34.475787   \n",
       "\n",
       "       ...  TRGW_0_9_1  TRGW_0_13_10  TRGW_0_15_16  TRGW_0_21_10  \\\n",
       "time   ...                                                         \n",
       "1.0    ...   34.878144     34.263200     34.141615     34.150087   \n",
       "32.0   ...   34.978649     34.385899     34.250189     34.276799   \n",
       "61.0   ...   35.089255     34.487453     34.335923     34.381917   \n",
       "92.0   ...   35.183927     34.542985     34.378908     34.438584   \n",
       "122.0  ...   35.220884     34.527784     34.360428     34.422143   \n",
       "\n",
       "       TRGW_0_22_15  TRGW_0_24_4  TRGW_0_26_6  TRGW_0_29_15  TRGW_0_33_7  \\\n",
       "time                                                                       \n",
       "1.0       33.992378    34.316580    34.177242     33.909884    33.985754   \n",
       "32.0      34.087175    34.441928    34.317371     33.992246    34.102202   \n",
       "61.0      34.157801    34.560035    34.432626     34.057961    34.195661   \n",
       "92.0      34.191420    34.637737    34.497162     34.090584    34.243705   \n",
       "122.0     34.173629    34.641042    34.483587     34.076343    34.225780   \n",
       "\n",
       "       TRGW_0_34_10  \n",
       "time                 \n",
       "1.0       33.890225  \n",
       "32.0      34.005258  \n",
       "61.0      34.086047  \n",
       "92.0      34.121032  \n",
       "122.0     34.095256  \n",
       "\n",
       "[5 rows x 26 columns]"
      ]
     },
     "execution_count": 70,
     "metadata": {},
     "output_type": "execute_result"
    }
   ],
   "source": [
    "df = pd.read_csv(os.path.join(template_ws,\"heads.csv\"),index_col=0)\n",
    "df.head()"
   ]
  },
  {
   "cell_type": "markdown",
   "metadata": {},
   "source": [
    "#### 4.2 Prepare Observation Files\n",
    "\n",
    "We will start by populating our \"model output\" file with measured values. For this synthetic case, we conveniently have observations for all model output times and sites. (These \"measured\" values were generated using the same model with a randomly generated set of parameters; noise was added to all observations.)\n",
    "\n",
    "In the next cell we read a .csv that contains measured obsevration values. As it has the exact same structure as our model output file, we can simpy replace the values in the model output file (and re-write it!). In real-world cases this step will likley be a bit more involved."
   ]
  },
  {
   "cell_type": "code",
   "execution_count": 71,
   "metadata": {
    "execution": {
     "iopub.execute_input": "2022-03-18T04:41:20.803348Z",
     "iopub.status.busy": "2022-03-18T04:41:20.803348Z",
     "iopub.status.idle": "2022-03-18T04:41:20.810366Z",
     "shell.execute_reply": "2022-03-18T04:41:20.809333Z"
    }
   },
   "outputs": [],
   "source": [
    "# read the measured head values\n",
    "hds_meas = pd.read_csv(os.path.join('..', '..', 'models', 'freyberg_mf6_truth',\"heads.meas.csv\"),\n",
    "                    index_col=0)\n",
    "\n",
    "# re-write the model output .csv file with the measured values\n",
    "hds_meas.to_csv(os.path.join(template_ws,\"heads.csv\"))"
   ]
  },
  {
   "cell_type": "markdown",
   "metadata": {},
   "source": [
    "#### 4.2. Adding Observations\n",
    "\n",
    "Now that our model output file contains the \"target values\", we can use the `PstFrom.add_observations()` method to add observations to our `pf` object. This method reads ***list-type*** files. The assumption is that these files are organized in a tabular format. \n",
    "\n",
    "We are going to tell `pf` which columns of this file contain observations. Values in these columns will be assigned to *observation values*.\n",
    "\n",
    "We can also inform it if there is an index column. Values in this column will be included in the *observation names*. \n",
    "\n",
    "We could also specify which rows to include as observations. But observations are free...so why not keep them all! \n",
    "\n",
    "Let's add observations from `heads.csv`. The first column of this file records the time at which the value is simulated. Let's use that as the index column (this becomes useful later on to post-process results). We want all other columns as observation values.\n"
   ]
  },
  {
   "cell_type": "code",
   "execution_count": 72,
   "metadata": {
    "execution": {
     "iopub.execute_input": "2022-03-18T04:41:20.813354Z",
     "iopub.status.busy": "2022-03-18T04:41:20.812360Z",
     "iopub.status.idle": "2022-03-18T04:41:20.854246Z",
     "shell.execute_reply": "2022-03-18T04:41:20.855269Z"
    }
   },
   "outputs": [],
   "source": [
    "hds_df = pf.add_observations(\"heads.csv\", # the model output file to read\n",
    "                            insfile=\"heads.csv.ins\", #optional, the instruction file name\n",
    "                            index_cols=\"time\", #column header to use as index; can also use column number (zero-based) instead of the header name\n",
    "                            use_cols=list(df.columns.values), #names of columns that include observation values; can also use column number (zero-based) instead of the header name\n",
    "                            prefix=\"hds\") #prefix to all observation names; choose something logical and easy o find. We use it later on to select obsevrations"
   ]
  },
  {
   "cell_type": "markdown",
   "metadata": {},
   "source": [
    "Let's inspect what we just created. \n",
    "\n",
    "We can see that the `.add_observations()` method returned a dataframe with lots of useful info: \n",
    "\n",
    " - the observation names that were formed (see `obsnme` column); note that these inlcude lots of usefull metadata like the column name, index value and so on;\n",
    " - the values that were read from `heads.csv` (see `obsval` column); \n",
    " - some generic weights and group names; note that observations are grouped according to the column of the model output .csv. Alternatively, we could have specified a list of observation group names."
   ]
  },
  {
   "cell_type": "code",
   "execution_count": 73,
   "metadata": {
    "execution": {
     "iopub.execute_input": "2022-03-18T04:41:20.863221Z",
     "iopub.status.busy": "2022-03-18T04:41:20.862224Z",
     "iopub.status.idle": "2022-03-18T04:41:20.865216Z",
     "shell.execute_reply": "2022-03-18T04:41:20.866215Z"
    }
   },
   "outputs": [
    {
     "data": {
      "text/html": [
       "<div>\n",
       "<style scoped>\n",
       "    .dataframe tbody tr th:only-of-type {\n",
       "        vertical-align: middle;\n",
       "    }\n",
       "\n",
       "    .dataframe tbody tr th {\n",
       "        vertical-align: top;\n",
       "    }\n",
       "\n",
       "    .dataframe thead th {\n",
       "        text-align: right;\n",
       "    }\n",
       "</style>\n",
       "<table border=\"1\" class=\"dataframe\">\n",
       "  <thead>\n",
       "    <tr style=\"text-align: right;\">\n",
       "      <th></th>\n",
       "      <th>obsnme</th>\n",
       "      <th>obsval</th>\n",
       "      <th>weight</th>\n",
       "      <th>obgnme</th>\n",
       "    </tr>\n",
       "  </thead>\n",
       "  <tbody>\n",
       "    <tr>\n",
       "      <th>oname:hds_otype:lst_usecol:trgw_0_13_10_time:1.0</th>\n",
       "      <td>oname:hds_otype:lst_usecol:trgw_0_13_10_time:1.0</td>\n",
       "      <td>34.406181</td>\n",
       "      <td>1.0</td>\n",
       "      <td>oname:hds_otype:lst_usecol:trgw_0_13_10</td>\n",
       "    </tr>\n",
       "    <tr>\n",
       "      <th>oname:hds_otype:lst_usecol:trgw_0_13_10_time:122.0</th>\n",
       "      <td>oname:hds_otype:lst_usecol:trgw_0_13_10_time:122.0</td>\n",
       "      <td>34.450661</td>\n",
       "      <td>1.0</td>\n",
       "      <td>oname:hds_otype:lst_usecol:trgw_0_13_10</td>\n",
       "    </tr>\n",
       "    <tr>\n",
       "      <th>oname:hds_otype:lst_usecol:trgw_0_13_10_time:153.0</th>\n",
       "      <td>oname:hds_otype:lst_usecol:trgw_0_13_10_time:153.0</td>\n",
       "      <td>34.441799</td>\n",
       "      <td>1.0</td>\n",
       "      <td>oname:hds_otype:lst_usecol:trgw_0_13_10</td>\n",
       "    </tr>\n",
       "    <tr>\n",
       "      <th>oname:hds_otype:lst_usecol:trgw_0_13_10_time:183.0</th>\n",
       "      <td>oname:hds_otype:lst_usecol:trgw_0_13_10_time:183.0</td>\n",
       "      <td>34.375622</td>\n",
       "      <td>1.0</td>\n",
       "      <td>oname:hds_otype:lst_usecol:trgw_0_13_10</td>\n",
       "    </tr>\n",
       "    <tr>\n",
       "      <th>oname:hds_otype:lst_usecol:trgw_0_13_10_time:214.0</th>\n",
       "      <td>oname:hds_otype:lst_usecol:trgw_0_13_10_time:214.0</td>\n",
       "      <td>34.323056</td>\n",
       "      <td>1.0</td>\n",
       "      <td>oname:hds_otype:lst_usecol:trgw_0_13_10</td>\n",
       "    </tr>\n",
       "  </tbody>\n",
       "</table>\n",
       "</div>"
      ],
      "text/plain": [
       "                                                                                                obsnme  \\\n",
       "oname:hds_otype:lst_usecol:trgw_0_13_10_time:1.0      oname:hds_otype:lst_usecol:trgw_0_13_10_time:1.0   \n",
       "oname:hds_otype:lst_usecol:trgw_0_13_10_time:122.0  oname:hds_otype:lst_usecol:trgw_0_13_10_time:122.0   \n",
       "oname:hds_otype:lst_usecol:trgw_0_13_10_time:153.0  oname:hds_otype:lst_usecol:trgw_0_13_10_time:153.0   \n",
       "oname:hds_otype:lst_usecol:trgw_0_13_10_time:183.0  oname:hds_otype:lst_usecol:trgw_0_13_10_time:183.0   \n",
       "oname:hds_otype:lst_usecol:trgw_0_13_10_time:214.0  oname:hds_otype:lst_usecol:trgw_0_13_10_time:214.0   \n",
       "\n",
       "                                                       obsval  weight  \\\n",
       "oname:hds_otype:lst_usecol:trgw_0_13_10_time:1.0    34.406181     1.0   \n",
       "oname:hds_otype:lst_usecol:trgw_0_13_10_time:122.0  34.450661     1.0   \n",
       "oname:hds_otype:lst_usecol:trgw_0_13_10_time:153.0  34.441799     1.0   \n",
       "oname:hds_otype:lst_usecol:trgw_0_13_10_time:183.0  34.375622     1.0   \n",
       "oname:hds_otype:lst_usecol:trgw_0_13_10_time:214.0  34.323056     1.0   \n",
       "\n",
       "                                                                                     obgnme  \n",
       "oname:hds_otype:lst_usecol:trgw_0_13_10_time:1.0    oname:hds_otype:lst_usecol:trgw_0_13_10  \n",
       "oname:hds_otype:lst_usecol:trgw_0_13_10_time:122.0  oname:hds_otype:lst_usecol:trgw_0_13_10  \n",
       "oname:hds_otype:lst_usecol:trgw_0_13_10_time:153.0  oname:hds_otype:lst_usecol:trgw_0_13_10  \n",
       "oname:hds_otype:lst_usecol:trgw_0_13_10_time:183.0  oname:hds_otype:lst_usecol:trgw_0_13_10  \n",
       "oname:hds_otype:lst_usecol:trgw_0_13_10_time:214.0  oname:hds_otype:lst_usecol:trgw_0_13_10  "
      ]
     },
     "execution_count": 73,
     "metadata": {},
     "output_type": "execute_result"
    }
   ],
   "source": [
    "hds_df.head()"
   ]
  },
  {
   "cell_type": "markdown",
   "metadata": {},
   "source": [
    "At this point, no PEST *control file* has been created, we have simply prepared to add these observations to the control file later. Everything is still only stored in memory. However, a PEST *instruction* file has been created in the template folder (`template_ws`):"
   ]
  },
  {
   "cell_type": "code",
   "execution_count": 74,
   "metadata": {
    "execution": {
     "iopub.execute_input": "2022-03-18T04:41:20.870202Z",
     "iopub.status.busy": "2022-03-18T04:41:20.869205Z",
     "iopub.status.idle": "2022-03-18T04:41:20.876187Z",
     "shell.execute_reply": "2022-03-18T04:41:20.876187Z"
    }
   },
   "outputs": [
    {
     "data": {
      "text/plain": [
       "['heads.csv.ins']"
      ]
     },
     "execution_count": 74,
     "metadata": {},
     "output_type": "execute_result"
    }
   ],
   "source": [
    "[f for f in os.listdir(template_ws) if f.endswith(\".ins\")]"
   ]
  },
  {
   "cell_type": "markdown",
   "metadata": {},
   "source": [
    "Blimey, wasn't that easy? Automatically assimilating thousands of observations into a PEST dataset becomes a breeze!\n",
    "\n",
    "Let's quickly do the same thing for the SFR observations."
   ]
  },
  {
   "cell_type": "code",
   "execution_count": 75,
   "metadata": {
    "execution": {
     "iopub.execute_input": "2022-03-18T04:41:20.880176Z",
     "iopub.status.busy": "2022-03-18T04:41:20.880176Z",
     "iopub.status.idle": "2022-03-18T04:41:20.889152Z",
     "shell.execute_reply": "2022-03-18T04:41:20.889152Z"
    }
   },
   "outputs": [
    {
     "data": {
      "text/html": [
       "<div>\n",
       "<style scoped>\n",
       "    .dataframe tbody tr th:only-of-type {\n",
       "        vertical-align: middle;\n",
       "    }\n",
       "\n",
       "    .dataframe tbody tr th {\n",
       "        vertical-align: top;\n",
       "    }\n",
       "\n",
       "    .dataframe thead th {\n",
       "        text-align: right;\n",
       "    }\n",
       "</style>\n",
       "<table border=\"1\" class=\"dataframe\">\n",
       "  <thead>\n",
       "    <tr style=\"text-align: right;\">\n",
       "      <th></th>\n",
       "      <th>HEADWATER</th>\n",
       "      <th>TAILWATER</th>\n",
       "      <th>GAGE_1</th>\n",
       "    </tr>\n",
       "    <tr>\n",
       "      <th>time</th>\n",
       "      <th></th>\n",
       "      <th></th>\n",
       "      <th></th>\n",
       "    </tr>\n",
       "  </thead>\n",
       "  <tbody>\n",
       "    <tr>\n",
       "      <th>1.0</th>\n",
       "      <td>-644.22</td>\n",
       "      <td>-478.38</td>\n",
       "      <td>1206.1</td>\n",
       "    </tr>\n",
       "    <tr>\n",
       "      <th>32.0</th>\n",
       "      <td>-860.70</td>\n",
       "      <td>-629.34</td>\n",
       "      <td>1623.6</td>\n",
       "    </tr>\n",
       "    <tr>\n",
       "      <th>61.0</th>\n",
       "      <td>-1030.30</td>\n",
       "      <td>-758.85</td>\n",
       "      <td>1929.1</td>\n",
       "    </tr>\n",
       "    <tr>\n",
       "      <th>92.0</th>\n",
       "      <td>-1111.80</td>\n",
       "      <td>-819.40</td>\n",
       "      <td>2060.8</td>\n",
       "    </tr>\n",
       "    <tr>\n",
       "      <th>122.0</th>\n",
       "      <td>-1082.70</td>\n",
       "      <td>-794.62</td>\n",
       "      <td>1982.8</td>\n",
       "    </tr>\n",
       "  </tbody>\n",
       "</table>\n",
       "</div>"
      ],
      "text/plain": [
       "       HEADWATER  TAILWATER  GAGE_1\n",
       "time                               \n",
       "1.0      -644.22    -478.38  1206.1\n",
       "32.0     -860.70    -629.34  1623.6\n",
       "61.0    -1030.30    -758.85  1929.1\n",
       "92.0    -1111.80    -819.40  2060.8\n",
       "122.0   -1082.70    -794.62  1982.8"
      ]
     },
     "execution_count": 75,
     "metadata": {},
     "output_type": "execute_result"
    }
   ],
   "source": [
    "df = pd.read_csv(os.path.join(template_ws, \"sfr.csv\"), index_col=0)\n",
    "df.head()"
   ]
  },
  {
   "cell_type": "code",
   "execution_count": 76,
   "metadata": {
    "execution": {
     "iopub.execute_input": "2022-03-18T04:41:20.894171Z",
     "iopub.status.busy": "2022-03-18T04:41:20.893173Z",
     "iopub.status.idle": "2022-03-18T04:41:20.921068Z",
     "shell.execute_reply": "2022-03-18T04:41:20.921068Z"
    }
   },
   "outputs": [],
   "source": [
    "# read the measured  values\n",
    "meas = pd.read_csv(os.path.join('..', '..', 'models', 'freyberg_mf6_truth',\"sfr.meas.csv\"),\n",
    "                    index_col=0)\n",
    "# re-write the model output .csv file with the measured values\n",
    "meas.to_csv(os.path.join(template_ws,\"sfr.csv\"))\n",
    "# add the observations to pf\n",
    "sfr_df = pf.add_observations(\"sfr.csv\", # the model output file to read\n",
    "                            insfile=\"sfr.csv.ins\", #optional, the instruction file name\n",
    "                            index_cols=\"time\", #column header to use as index; can also use column number (zero-based) instead of the header name\n",
    "                            use_cols=list(df.columns.values), #names of columns that include observation values; can also use column number (zero-based) instead of the header name\n",
    "                            prefix=\"sfr\") #prefix to all observation names"
   ]
  },
  {
   "cell_type": "markdown",
   "metadata": {},
   "source": [
    "### 5. Parameters\n",
    "\n",
    "The `PstFrom.add_parameters()` method reads model input files and adds parameters to the PEST(++) dataset. Parameterisation can be configured in several ways. \n",
    "\n",
    " - model input files can be in array or list format;\n",
    " - parameters can be setup as different \"types\". Values in model input files can (1) each be a separate parameter, (2) be grouped into \"zones\" or (3) all be treated as a single parameter. Alteratvely, (4) parameters can be assigned to pilot points, from which individual parameter values are subsequently interpolated. `PstFrom` adds the relevant pre-processing steps to assign paramter values directly into the \"model run\" script.\n",
    " - parameter values can be setup as \"direct\", \"multiplier\" or \"addend\". This means the \"parameter value\" which PEST(++) sees can be (1) the same value the model sees, (2) a multiplier on the value in the model input file, or (3) a value which is added to the value in the model input file. This is very nifty. `PstFrom` is designed to preferentially use parameters setup as multipliers. These let us preserve the existing model inputs and treat them as the mean of the prior parameter distribution. Once again, relevant pre-processing scripts are automatically added to the \"model run\" script (discussed later).\n",
    "\n",
    "\n",
    "#### 5.1. Freyberg Recap\n",
    "\n",
    "As discussed, all model inputs are stored in external files. Some are arrays. Others are lists. Recall that our model has 3 layers. It is transient. Hydraulic properties (Kh, Kv, Ss, Sy) vary in space. Recharge varies over both space and time. We have GHBs, SFR and WEL boundary conditions. GHB parameters are constant over time, but vary spatially. SFR inflow varies over time. Pumping rates of individual wells are uncertain in space and and time.\n",
    "\n",
    "All of these have some degree of spatial and/or temporal correlation.\n",
    "\n",
    "#### 5.2. Geostatistical Structures\n",
    "\n",
    "Parameter correlation plays a role in (1) regularization when giving preference to the emergence of patterns of spatial heterogeneity and (2) when specifying the prior parameter probability distribution. Since we are all sophisticated and recognize the importance of expressing spatial and temporal uncertainty (e.g. heterogeneity) in the model inputs (and the corresponding spatial correlation in those uncertain inputs), let's use geostatistics to express uncertainty. To do that we need to define \"geostatistical structures\". \n",
    "\n",
    "For the sake of this tutorial, let's assume that heterogeneity in all spatially distributed parameters share the same statistical characteristics. Likewise for temporally varying parameters. We will therefore only  construct two geostatisitcal structures."
   ]
  },
  {
   "cell_type": "code",
   "execution_count": 77,
   "metadata": {
    "execution": {
     "iopub.execute_input": "2022-03-18T04:41:20.937024Z",
     "iopub.status.busy": "2022-03-18T04:41:20.936027Z",
     "iopub.status.idle": "2022-03-18T04:41:21.218763Z",
     "shell.execute_reply": "2022-03-18T04:41:21.219912Z"
    }
   },
   "outputs": [
    {
     "data": {
      "text/plain": [
       "<AxesSubplot:xlabel='distance', ylabel='$\\\\gamma$'>"
      ]
     },
     "execution_count": 77,
     "metadata": {},
     "output_type": "execute_result"
    },
    {
     "data": {
      "image/png": "[encoded data removed]",
      "text/plain": [
       "<Figure size 432x288 with 1 Axes>"
      ]
     },
     "metadata": {
      "needs_background": "light"
     },
     "output_type": "display_data"
    }
   ],
   "source": [
    "# exponential variogram for spatially varying parameters\n",
    "v_space = pyemu.geostats.ExpVario(contribution=1.0, #sill\n",
    "                                    a=1000, # range of correlation; length units of the model. In our case 'meters'\n",
    "                                    anisotropy=1.0, #name says it all\n",
    "                                    bearing=0.0 #angle in degrees East of North corresponding to anisotropy ellipse\n",
    "                                    )\n",
    "\n",
    "# geostatistical structure for spatially varying parameters\n",
    "grid_gs = pyemu.geostats.GeoStruct(variograms=v_space, transform='log') \n",
    "\n",
    "# plot the gs if you like:\n",
    "grid_gs.plot()"
   ]
  },
  {
   "cell_type": "code",
   "execution_count": 78,
   "metadata": {
    "execution": {
     "iopub.execute_input": "2022-03-18T04:41:21.223751Z",
     "iopub.status.busy": "2022-03-18T04:41:21.222753Z",
     "iopub.status.idle": "2022-03-18T04:41:21.225744Z",
     "shell.execute_reply": "2022-03-18T04:41:21.225744Z"
    }
   },
   "outputs": [],
   "source": [
    "# exponential variogram for time varying parameters\n",
    "v_time = pyemu.geostats.ExpVario(contribution=1.0, #sill\n",
    "                                    a=60, # range of correlation; length time units (days)\n",
    "                                    anisotropy=1.0, #do not change for 1-D time\n",
    "                                    bearing=0.0 #do not change for 1-D time\n",
    "                                    )\n",
    "\n",
    "# geostatistical structure for time varying parameters\n",
    "temporal_gs = pyemu.geostats.GeoStruct(variograms=v_time, transform='none') "
   ]
  },
  {
   "cell_type": "markdown",
   "metadata": {},
   "source": [
    "#### 5.3. Add Parameters\n",
    "\n",
    "Let's start by adding parameters of hydraulic properties that vary in space (but not time) and which are housed in array-type files (e.g. Kh, Kv, Ss, Sy). We will start by demonstrating step-by-step for Kh.\n",
    "\n",
    "First, find all the external array files that contain Kh values. In our case, these are the files with \"npf_k_\" in the file name. As you can see below, there is one file for each model layer. "
   ]
  },
  {
   "cell_type": "code",
   "execution_count": 79,
   "metadata": {
    "execution": {
     "iopub.execute_input": "2022-03-18T04:41:21.229733Z",
     "iopub.status.busy": "2022-03-18T04:41:21.229733Z",
     "iopub.status.idle": "2022-03-18T04:41:21.234721Z",
     "shell.execute_reply": "2022-03-18T04:41:21.234721Z"
    }
   },
   "outputs": [
    {
     "name": "stdout",
     "output_type": "stream",
     "text": [
      "['freyberg6.npf_k_layer1.txt', 'freyberg6.npf_k_layer2.txt', 'freyberg6.npf_k_layer3.txt']\n"
     ]
    }
   ],
   "source": [
    "tag = \"npf_k_\"\n",
    "files = [f for f in os.listdir(template_ws) if tag in f.lower() and f.endswith(\".txt\")]\n",
    "print(files)"
   ]
  },
  {
   "cell_type": "markdown",
   "metadata": {},
   "source": [
    "Let's setup multiple spatial scales of parameters for Kh. To do this we will use three of the parameter \"types\" described above. The coarse scale will be a `constant` single value for each array. The medium scale will `pilot points`. The finest scale will use parameters as the `grid` scale (a unique parameter for each model cell!)\n",
    "\n",
    "Each scale of parameters will work with the others as multipliers with the existing Kh arrays. (This all happens at runtime as part of the \"model run\" script.) Think of the scales as dials that PEST(++) can turn to improve the fit. The \"coarse\" scale is one big dial that alows PEST to move everything at once. The \"medium\" dials are few (but not too many) that allow PEST to adjust broad areas, but not making eveything move. The \"fine\" scales are lots of small dials that allow PEST(++) to have very detailed control, tweaking parameter values within very small areas. \n",
    "\n",
    "However, because we are working with parameter `multipliers`, we will need to specify two sets of parameter bounds: \n",
    " - `upper_bound` and `lower_bound` are the standard control file bounds, while\n",
    " - `ult_ubound` and `ult_lbound` are bounds that are applied at runtime to the resulting (multiplied out) model input array. \n",
    " \n",
    "Since we are using sets of multipliers, it is important to make sure we keep the resulting model input arrays within the range of realistic values.\n",
    "\n",
    "#### 5.3.1. Array Files\n",
    "\n",
    "We will first demonstrate steb-by-step for `freyberg6.npf_k_layer1.txt`. We will start with grid scale parameters. These are multipliers assigned to each individual value in the array.\n",
    "\n",
    "We start by getting the idomain array. As our model has inactive cells, this heps us avoid adding unncessary parameters. It is also required later when generating pilot points."
   ]
  },
  {
   "cell_type": "code",
   "execution_count": 80,
   "metadata": {
    "execution": {
     "iopub.execute_input": "2022-03-18T04:41:21.240705Z",
     "iopub.status.busy": "2022-03-18T04:41:21.240705Z",
     "iopub.status.idle": "2022-03-18T04:41:21.242699Z",
     "shell.execute_reply": "2022-03-18T04:41:21.242699Z"
    }
   },
   "outputs": [],
   "source": [
    "# as IDOMIAN is the same in all layers, we can use any layer\n",
    "ib = gwf.dis.idomain.get_data(layer=0)"
   ]
  },
  {
   "cell_type": "code",
   "execution_count": 81,
   "metadata": {
    "execution": {
     "iopub.execute_input": "2022-03-18T04:41:21.247687Z",
     "iopub.status.busy": "2022-03-18T04:41:21.247687Z",
     "iopub.status.idle": "2022-03-18T04:41:21.280631Z",
     "shell.execute_reply": "2022-03-18T04:41:21.279602Z"
    }
   },
   "outputs": [],
   "source": [
    "f = 'freyberg6.npf_k_layer1.txt'\n",
    "\n",
    "# grid (fine) scale parameters\n",
    "df_gr = pf.add_parameters(f,\n",
    "                zone_array=ib, #as we have inactie model cells, we can avoid assigning these as parameters\n",
    "                par_type=\"grid\", #specify the type, these will be unique parameters for each cell\n",
    "                geostruct=grid_gs, # the gestatisical structure for spatial correlation \n",
    "                par_name_base=f.split('.')[1]+\"_gr\", #specify a parameter name base that allows us to easily identify the filename and parameter type. \"_gr\" for \"grid\", and so forth.\n",
    "                pargp=f.split('.')[1]+\"_gr\", #likewise for the parameter group name\n",
    "                lower_bound=0.2, upper_bound=5.0, #parameter lower and upper bound\n",
    "                ult_ubound=100, ult_lbound=0.01 # The ultimate bounds for multiplied model input values. Here we are stating that, after accounting for all multipliers, Kh cannot exceed these values. Very important with multipliers\n",
    "                )"
   ]
  },
  {
   "cell_type": "markdown",
   "metadata": {},
   "source": [
    "As when adding observations,  `pf.add_parameters()` returns a dataframe. Take a look. You may recognize alot of the information that appears in a PEST `*parameter data` section. All of this is still only housed in memory for now. We will write the PEST control file later on."
   ]
  },
  {
   "cell_type": "code",
   "execution_count": 82,
   "metadata": {
    "execution": {
     "iopub.execute_input": "2022-03-18T04:41:21.295558Z",
     "iopub.status.busy": "2022-03-18T04:41:21.295558Z",
     "iopub.status.idle": "2022-03-18T04:41:21.298550Z",
     "shell.execute_reply": "2022-03-18T04:41:21.298550Z"
    }
   },
   "outputs": [
    {
     "data": {
      "text/html": [
       "<div>\n",
       "<style scoped>\n",
       "    .dataframe tbody tr th:only-of-type {\n",
       "        vertical-align: middle;\n",
       "    }\n",
       "\n",
       "    .dataframe tbody tr th {\n",
       "        vertical-align: top;\n",
       "    }\n",
       "\n",
       "    .dataframe thead th {\n",
       "        text-align: right;\n",
       "    }\n",
       "</style>\n",
       "<table border=\"1\" class=\"dataframe\">\n",
       "  <thead>\n",
       "    <tr style=\"text-align: right;\">\n",
       "      <th></th>\n",
       "      <th>parnme</th>\n",
       "      <th>parval1</th>\n",
       "      <th>i</th>\n",
       "      <th>j</th>\n",
       "      <th>x</th>\n",
       "      <th>y</th>\n",
       "      <th>pargp</th>\n",
       "      <th>tpl_filename</th>\n",
       "      <th>input_filename</th>\n",
       "      <th>partype</th>\n",
       "      <th>partrans</th>\n",
       "      <th>parubnd</th>\n",
       "      <th>parlbnd</th>\n",
       "      <th>parchglim</th>\n",
       "      <th>scale</th>\n",
       "      <th>dercom</th>\n",
       "      <th>offset</th>\n",
       "    </tr>\n",
       "  </thead>\n",
       "  <tbody>\n",
       "    <tr>\n",
       "      <th>pname:npf_k_layer1_gr_inst:0_ptype:gr_pstyle:m_i:0_j:0_x:125.00_y:9875.00_zone:1</th>\n",
       "      <td>pname:npf_k_layer1_gr_inst:0_ptype:gr_pstyle:m_i:0_j:0_x:125.00_y:9875.00_zone:1</td>\n",
       "      <td>1.0</td>\n",
       "      <td>0</td>\n",
       "      <td>0</td>\n",
       "      <td>125.0</td>\n",
       "      <td>9875.0</td>\n",
       "      <td>npf_k_layer1_gr</td>\n",
       "      <td>freyberg6_template\\npf_k_layer1_gr_inst0_grid.csv.tpl</td>\n",
       "      <td>freyberg6_template\\mult\\npf_k_layer1_gr_inst0_grid.csv</td>\n",
       "      <td>grid</td>\n",
       "      <td>log</td>\n",
       "      <td>5.0</td>\n",
       "      <td>0.2</td>\n",
       "      <td>factor</td>\n",
       "      <td>1.0</td>\n",
       "      <td>1</td>\n",
       "      <td>0.0</td>\n",
       "    </tr>\n",
       "    <tr>\n",
       "      <th>pname:npf_k_layer1_gr_inst:0_ptype:gr_pstyle:m_i:0_j:1_x:375.00_y:9875.00_zone:1</th>\n",
       "      <td>pname:npf_k_layer1_gr_inst:0_ptype:gr_pstyle:m_i:0_j:1_x:375.00_y:9875.00_zone:1</td>\n",
       "      <td>1.0</td>\n",
       "      <td>0</td>\n",
       "      <td>1</td>\n",
       "      <td>375.0</td>\n",
       "      <td>9875.0</td>\n",
       "      <td>npf_k_layer1_gr</td>\n",
       "      <td>freyberg6_template\\npf_k_layer1_gr_inst0_grid.csv.tpl</td>\n",
       "      <td>freyberg6_template\\mult\\npf_k_layer1_gr_inst0_grid.csv</td>\n",
       "      <td>grid</td>\n",
       "      <td>log</td>\n",
       "      <td>5.0</td>\n",
       "      <td>0.2</td>\n",
       "      <td>factor</td>\n",
       "      <td>1.0</td>\n",
       "      <td>1</td>\n",
       "      <td>0.0</td>\n",
       "    </tr>\n",
       "    <tr>\n",
       "      <th>pname:npf_k_layer1_gr_inst:0_ptype:gr_pstyle:m_i:0_j:2_x:625.00_y:9875.00_zone:1</th>\n",
       "      <td>pname:npf_k_layer1_gr_inst:0_ptype:gr_pstyle:m_i:0_j:2_x:625.00_y:9875.00_zone:1</td>\n",
       "      <td>1.0</td>\n",
       "      <td>0</td>\n",
       "      <td>2</td>\n",
       "      <td>625.0</td>\n",
       "      <td>9875.0</td>\n",
       "      <td>npf_k_layer1_gr</td>\n",
       "      <td>freyberg6_template\\npf_k_layer1_gr_inst0_grid.csv.tpl</td>\n",
       "      <td>freyberg6_template\\mult\\npf_k_layer1_gr_inst0_grid.csv</td>\n",
       "      <td>grid</td>\n",
       "      <td>log</td>\n",
       "      <td>5.0</td>\n",
       "      <td>0.2</td>\n",
       "      <td>factor</td>\n",
       "      <td>1.0</td>\n",
       "      <td>1</td>\n",
       "      <td>0.0</td>\n",
       "    </tr>\n",
       "    <tr>\n",
       "      <th>pname:npf_k_layer1_gr_inst:0_ptype:gr_pstyle:m_i:0_j:3_x:875.00_y:9875.00_zone:1</th>\n",
       "      <td>pname:npf_k_layer1_gr_inst:0_ptype:gr_pstyle:m_i:0_j:3_x:875.00_y:9875.00_zone:1</td>\n",
       "      <td>1.0</td>\n",
       "      <td>0</td>\n",
       "      <td>3</td>\n",
       "      <td>875.0</td>\n",
       "      <td>9875.0</td>\n",
       "      <td>npf_k_layer1_gr</td>\n",
       "      <td>freyberg6_template\\npf_k_layer1_gr_inst0_grid.csv.tpl</td>\n",
       "      <td>freyberg6_template\\mult\\npf_k_layer1_gr_inst0_grid.csv</td>\n",
       "      <td>grid</td>\n",
       "      <td>log</td>\n",
       "      <td>5.0</td>\n",
       "      <td>0.2</td>\n",
       "      <td>factor</td>\n",
       "      <td>1.0</td>\n",
       "      <td>1</td>\n",
       "      <td>0.0</td>\n",
       "    </tr>\n",
       "    <tr>\n",
       "      <th>pname:npf_k_layer1_gr_inst:0_ptype:gr_pstyle:m_i:0_j:4_x:1125.00_y:9875.00_zone:1</th>\n",
       "      <td>pname:npf_k_layer1_gr_inst:0_ptype:gr_pstyle:m_i:0_j:4_x:1125.00_y:9875.00_zone:1</td>\n",
       "      <td>1.0</td>\n",
       "      <td>0</td>\n",
       "      <td>4</td>\n",
       "      <td>1125.0</td>\n",
       "      <td>9875.0</td>\n",
       "      <td>npf_k_layer1_gr</td>\n",
       "      <td>freyberg6_template\\npf_k_layer1_gr_inst0_grid.csv.tpl</td>\n",
       "      <td>freyberg6_template\\mult\\npf_k_layer1_gr_inst0_grid.csv</td>\n",
       "      <td>grid</td>\n",
       "      <td>log</td>\n",
       "      <td>5.0</td>\n",
       "      <td>0.2</td>\n",
       "      <td>factor</td>\n",
       "      <td>1.0</td>\n",
       "      <td>1</td>\n",
       "      <td>0.0</td>\n",
       "    </tr>\n",
       "  </tbody>\n",
       "</table>\n",
       "</div>"
      ],
      "text/plain": [
       "                                                                                                                                                              parnme  \\\n",
       "pname:npf_k_layer1_gr_inst:0_ptype:gr_pstyle:m_i:0_j:0_x:125.00_y:9875.00_zone:1    pname:npf_k_layer1_gr_inst:0_ptype:gr_pstyle:m_i:0_j:0_x:125.00_y:9875.00_zone:1   \n",
       "pname:npf_k_layer1_gr_inst:0_ptype:gr_pstyle:m_i:0_j:1_x:375.00_y:9875.00_zone:1    pname:npf_k_layer1_gr_inst:0_ptype:gr_pstyle:m_i:0_j:1_x:375.00_y:9875.00_zone:1   \n",
       "pname:npf_k_layer1_gr_inst:0_ptype:gr_pstyle:m_i:0_j:2_x:625.00_y:9875.00_zone:1    pname:npf_k_layer1_gr_inst:0_ptype:gr_pstyle:m_i:0_j:2_x:625.00_y:9875.00_zone:1   \n",
       "pname:npf_k_layer1_gr_inst:0_ptype:gr_pstyle:m_i:0_j:3_x:875.00_y:9875.00_zone:1    pname:npf_k_layer1_gr_inst:0_ptype:gr_pstyle:m_i:0_j:3_x:875.00_y:9875.00_zone:1   \n",
       "pname:npf_k_layer1_gr_inst:0_ptype:gr_pstyle:m_i:0_j:4_x:1125.00_y:9875.00_zone:1  pname:npf_k_layer1_gr_inst:0_ptype:gr_pstyle:m_i:0_j:4_x:1125.00_y:9875.00_zone:1   \n",
       "\n",
       "                                                                                   parval1  \\\n",
       "pname:npf_k_layer1_gr_inst:0_ptype:gr_pstyle:m_i:0_j:0_x:125.00_y:9875.00_zone:1       1.0   \n",
       "pname:npf_k_layer1_gr_inst:0_ptype:gr_pstyle:m_i:0_j:1_x:375.00_y:9875.00_zone:1       1.0   \n",
       "pname:npf_k_layer1_gr_inst:0_ptype:gr_pstyle:m_i:0_j:2_x:625.00_y:9875.00_zone:1       1.0   \n",
       "pname:npf_k_layer1_gr_inst:0_ptype:gr_pstyle:m_i:0_j:3_x:875.00_y:9875.00_zone:1       1.0   \n",
       "pname:npf_k_layer1_gr_inst:0_ptype:gr_pstyle:m_i:0_j:4_x:1125.00_y:9875.00_zone:1      1.0   \n",
       "\n",
       "                                                                                   i  \\\n",
       "pname:npf_k_layer1_gr_inst:0_ptype:gr_pstyle:m_i:0_j:0_x:125.00_y:9875.00_zone:1   0   \n",
       "pname:npf_k_layer1_gr_inst:0_ptype:gr_pstyle:m_i:0_j:1_x:375.00_y:9875.00_zone:1   0   \n",
       "pname:npf_k_layer1_gr_inst:0_ptype:gr_pstyle:m_i:0_j:2_x:625.00_y:9875.00_zone:1   0   \n",
       "pname:npf_k_layer1_gr_inst:0_ptype:gr_pstyle:m_i:0_j:3_x:875.00_y:9875.00_zone:1   0   \n",
       "pname:npf_k_layer1_gr_inst:0_ptype:gr_pstyle:m_i:0_j:4_x:1125.00_y:9875.00_zone:1  0   \n",
       "\n",
       "                                                                                   j  \\\n",
       "pname:npf_k_layer1_gr_inst:0_ptype:gr_pstyle:m_i:0_j:0_x:125.00_y:9875.00_zone:1   0   \n",
       "pname:npf_k_layer1_gr_inst:0_ptype:gr_pstyle:m_i:0_j:1_x:375.00_y:9875.00_zone:1   1   \n",
       "pname:npf_k_layer1_gr_inst:0_ptype:gr_pstyle:m_i:0_j:2_x:625.00_y:9875.00_zone:1   2   \n",
       "pname:npf_k_layer1_gr_inst:0_ptype:gr_pstyle:m_i:0_j:3_x:875.00_y:9875.00_zone:1   3   \n",
       "pname:npf_k_layer1_gr_inst:0_ptype:gr_pstyle:m_i:0_j:4_x:1125.00_y:9875.00_zone:1  4   \n",
       "\n",
       "                                                                                        x  \\\n",
       "pname:npf_k_layer1_gr_inst:0_ptype:gr_pstyle:m_i:0_j:0_x:125.00_y:9875.00_zone:1    125.0   \n",
       "pname:npf_k_layer1_gr_inst:0_ptype:gr_pstyle:m_i:0_j:1_x:375.00_y:9875.00_zone:1    375.0   \n",
       "pname:npf_k_layer1_gr_inst:0_ptype:gr_pstyle:m_i:0_j:2_x:625.00_y:9875.00_zone:1    625.0   \n",
       "pname:npf_k_layer1_gr_inst:0_ptype:gr_pstyle:m_i:0_j:3_x:875.00_y:9875.00_zone:1    875.0   \n",
       "pname:npf_k_layer1_gr_inst:0_ptype:gr_pstyle:m_i:0_j:4_x:1125.00_y:9875.00_zone:1  1125.0   \n",
       "\n",
       "                                                                                        y  \\\n",
       "pname:npf_k_layer1_gr_inst:0_ptype:gr_pstyle:m_i:0_j:0_x:125.00_y:9875.00_zone:1   9875.0   \n",
       "pname:npf_k_layer1_gr_inst:0_ptype:gr_pstyle:m_i:0_j:1_x:375.00_y:9875.00_zone:1   9875.0   \n",
       "pname:npf_k_layer1_gr_inst:0_ptype:gr_pstyle:m_i:0_j:2_x:625.00_y:9875.00_zone:1   9875.0   \n",
       "pname:npf_k_layer1_gr_inst:0_ptype:gr_pstyle:m_i:0_j:3_x:875.00_y:9875.00_zone:1   9875.0   \n",
       "pname:npf_k_layer1_gr_inst:0_ptype:gr_pstyle:m_i:0_j:4_x:1125.00_y:9875.00_zone:1  9875.0   \n",
       "\n",
       "                                                                                             pargp  \\\n",
       "pname:npf_k_layer1_gr_inst:0_ptype:gr_pstyle:m_i:0_j:0_x:125.00_y:9875.00_zone:1   npf_k_layer1_gr   \n",
       "pname:npf_k_layer1_gr_inst:0_ptype:gr_pstyle:m_i:0_j:1_x:375.00_y:9875.00_zone:1   npf_k_layer1_gr   \n",
       "pname:npf_k_layer1_gr_inst:0_ptype:gr_pstyle:m_i:0_j:2_x:625.00_y:9875.00_zone:1   npf_k_layer1_gr   \n",
       "pname:npf_k_layer1_gr_inst:0_ptype:gr_pstyle:m_i:0_j:3_x:875.00_y:9875.00_zone:1   npf_k_layer1_gr   \n",
       "pname:npf_k_layer1_gr_inst:0_ptype:gr_pstyle:m_i:0_j:4_x:1125.00_y:9875.00_zone:1  npf_k_layer1_gr   \n",
       "\n",
       "                                                                                                                            tpl_filename  \\\n",
       "pname:npf_k_layer1_gr_inst:0_ptype:gr_pstyle:m_i:0_j:0_x:125.00_y:9875.00_zone:1   freyberg6_template\\npf_k_layer1_gr_inst0_grid.csv.tpl   \n",
       "pname:npf_k_layer1_gr_inst:0_ptype:gr_pstyle:m_i:0_j:1_x:375.00_y:9875.00_zone:1   freyberg6_template\\npf_k_layer1_gr_inst0_grid.csv.tpl   \n",
       "pname:npf_k_layer1_gr_inst:0_ptype:gr_pstyle:m_i:0_j:2_x:625.00_y:9875.00_zone:1   freyberg6_template\\npf_k_layer1_gr_inst0_grid.csv.tpl   \n",
       "pname:npf_k_layer1_gr_inst:0_ptype:gr_pstyle:m_i:0_j:3_x:875.00_y:9875.00_zone:1   freyberg6_template\\npf_k_layer1_gr_inst0_grid.csv.tpl   \n",
       "pname:npf_k_layer1_gr_inst:0_ptype:gr_pstyle:m_i:0_j:4_x:1125.00_y:9875.00_zone:1  freyberg6_template\\npf_k_layer1_gr_inst0_grid.csv.tpl   \n",
       "\n",
       "                                                                                                                           input_filename  \\\n",
       "pname:npf_k_layer1_gr_inst:0_ptype:gr_pstyle:m_i:0_j:0_x:125.00_y:9875.00_zone:1   freyberg6_template\\mult\\npf_k_layer1_gr_inst0_grid.csv   \n",
       "pname:npf_k_layer1_gr_inst:0_ptype:gr_pstyle:m_i:0_j:1_x:375.00_y:9875.00_zone:1   freyberg6_template\\mult\\npf_k_layer1_gr_inst0_grid.csv   \n",
       "pname:npf_k_layer1_gr_inst:0_ptype:gr_pstyle:m_i:0_j:2_x:625.00_y:9875.00_zone:1   freyberg6_template\\mult\\npf_k_layer1_gr_inst0_grid.csv   \n",
       "pname:npf_k_layer1_gr_inst:0_ptype:gr_pstyle:m_i:0_j:3_x:875.00_y:9875.00_zone:1   freyberg6_template\\mult\\npf_k_layer1_gr_inst0_grid.csv   \n",
       "pname:npf_k_layer1_gr_inst:0_ptype:gr_pstyle:m_i:0_j:4_x:1125.00_y:9875.00_zone:1  freyberg6_template\\mult\\npf_k_layer1_gr_inst0_grid.csv   \n",
       "\n",
       "                                                                                  partype  \\\n",
       "pname:npf_k_layer1_gr_inst:0_ptype:gr_pstyle:m_i:0_j:0_x:125.00_y:9875.00_zone:1     grid   \n",
       "pname:npf_k_layer1_gr_inst:0_ptype:gr_pstyle:m_i:0_j:1_x:375.00_y:9875.00_zone:1     grid   \n",
       "pname:npf_k_layer1_gr_inst:0_ptype:gr_pstyle:m_i:0_j:2_x:625.00_y:9875.00_zone:1     grid   \n",
       "pname:npf_k_layer1_gr_inst:0_ptype:gr_pstyle:m_i:0_j:3_x:875.00_y:9875.00_zone:1     grid   \n",
       "pname:npf_k_layer1_gr_inst:0_ptype:gr_pstyle:m_i:0_j:4_x:1125.00_y:9875.00_zone:1    grid   \n",
       "\n",
       "                                                                                  partrans  \\\n",
       "pname:npf_k_layer1_gr_inst:0_ptype:gr_pstyle:m_i:0_j:0_x:125.00_y:9875.00_zone:1       log   \n",
       "pname:npf_k_layer1_gr_inst:0_ptype:gr_pstyle:m_i:0_j:1_x:375.00_y:9875.00_zone:1       log   \n",
       "pname:npf_k_layer1_gr_inst:0_ptype:gr_pstyle:m_i:0_j:2_x:625.00_y:9875.00_zone:1       log   \n",
       "pname:npf_k_layer1_gr_inst:0_ptype:gr_pstyle:m_i:0_j:3_x:875.00_y:9875.00_zone:1       log   \n",
       "pname:npf_k_layer1_gr_inst:0_ptype:gr_pstyle:m_i:0_j:4_x:1125.00_y:9875.00_zone:1      log   \n",
       "\n",
       "                                                                                   parubnd  \\\n",
       "pname:npf_k_layer1_gr_inst:0_ptype:gr_pstyle:m_i:0_j:0_x:125.00_y:9875.00_zone:1       5.0   \n",
       "pname:npf_k_layer1_gr_inst:0_ptype:gr_pstyle:m_i:0_j:1_x:375.00_y:9875.00_zone:1       5.0   \n",
       "pname:npf_k_layer1_gr_inst:0_ptype:gr_pstyle:m_i:0_j:2_x:625.00_y:9875.00_zone:1       5.0   \n",
       "pname:npf_k_layer1_gr_inst:0_ptype:gr_pstyle:m_i:0_j:3_x:875.00_y:9875.00_zone:1       5.0   \n",
       "pname:npf_k_layer1_gr_inst:0_ptype:gr_pstyle:m_i:0_j:4_x:1125.00_y:9875.00_zone:1      5.0   \n",
       "\n",
       "                                                                                   parlbnd  \\\n",
       "pname:npf_k_layer1_gr_inst:0_ptype:gr_pstyle:m_i:0_j:0_x:125.00_y:9875.00_zone:1       0.2   \n",
       "pname:npf_k_layer1_gr_inst:0_ptype:gr_pstyle:m_i:0_j:1_x:375.00_y:9875.00_zone:1       0.2   \n",
       "pname:npf_k_layer1_gr_inst:0_ptype:gr_pstyle:m_i:0_j:2_x:625.00_y:9875.00_zone:1       0.2   \n",
       "pname:npf_k_layer1_gr_inst:0_ptype:gr_pstyle:m_i:0_j:3_x:875.00_y:9875.00_zone:1       0.2   \n",
       "pname:npf_k_layer1_gr_inst:0_ptype:gr_pstyle:m_i:0_j:4_x:1125.00_y:9875.00_zone:1      0.2   \n",
       "\n",
       "                                                                                  parchglim  \\\n",
       "pname:npf_k_layer1_gr_inst:0_ptype:gr_pstyle:m_i:0_j:0_x:125.00_y:9875.00_zone:1     factor   \n",
       "pname:npf_k_layer1_gr_inst:0_ptype:gr_pstyle:m_i:0_j:1_x:375.00_y:9875.00_zone:1     factor   \n",
       "pname:npf_k_layer1_gr_inst:0_ptype:gr_pstyle:m_i:0_j:2_x:625.00_y:9875.00_zone:1     factor   \n",
       "pname:npf_k_layer1_gr_inst:0_ptype:gr_pstyle:m_i:0_j:3_x:875.00_y:9875.00_zone:1     factor   \n",
       "pname:npf_k_layer1_gr_inst:0_ptype:gr_pstyle:m_i:0_j:4_x:1125.00_y:9875.00_zone:1    factor   \n",
       "\n",
       "                                                                                   scale  \\\n",
       "pname:npf_k_layer1_gr_inst:0_ptype:gr_pstyle:m_i:0_j:0_x:125.00_y:9875.00_zone:1     1.0   \n",
       "pname:npf_k_layer1_gr_inst:0_ptype:gr_pstyle:m_i:0_j:1_x:375.00_y:9875.00_zone:1     1.0   \n",
       "pname:npf_k_layer1_gr_inst:0_ptype:gr_pstyle:m_i:0_j:2_x:625.00_y:9875.00_zone:1     1.0   \n",
       "pname:npf_k_layer1_gr_inst:0_ptype:gr_pstyle:m_i:0_j:3_x:875.00_y:9875.00_zone:1     1.0   \n",
       "pname:npf_k_layer1_gr_inst:0_ptype:gr_pstyle:m_i:0_j:4_x:1125.00_y:9875.00_zone:1    1.0   \n",
       "\n",
       "                                                                                   dercom  \\\n",
       "pname:npf_k_layer1_gr_inst:0_ptype:gr_pstyle:m_i:0_j:0_x:125.00_y:9875.00_zone:1        1   \n",
       "pname:npf_k_layer1_gr_inst:0_ptype:gr_pstyle:m_i:0_j:1_x:375.00_y:9875.00_zone:1        1   \n",
       "pname:npf_k_layer1_gr_inst:0_ptype:gr_pstyle:m_i:0_j:2_x:625.00_y:9875.00_zone:1        1   \n",
       "pname:npf_k_layer1_gr_inst:0_ptype:gr_pstyle:m_i:0_j:3_x:875.00_y:9875.00_zone:1        1   \n",
       "pname:npf_k_layer1_gr_inst:0_ptype:gr_pstyle:m_i:0_j:4_x:1125.00_y:9875.00_zone:1       1   \n",
       "\n",
       "                                                                                   offset  \n",
       "pname:npf_k_layer1_gr_inst:0_ptype:gr_pstyle:m_i:0_j:0_x:125.00_y:9875.00_zone:1      0.0  \n",
       "pname:npf_k_layer1_gr_inst:0_ptype:gr_pstyle:m_i:0_j:1_x:375.00_y:9875.00_zone:1      0.0  \n",
       "pname:npf_k_layer1_gr_inst:0_ptype:gr_pstyle:m_i:0_j:2_x:625.00_y:9875.00_zone:1      0.0  \n",
       "pname:npf_k_layer1_gr_inst:0_ptype:gr_pstyle:m_i:0_j:3_x:875.00_y:9875.00_zone:1      0.0  \n",
       "pname:npf_k_layer1_gr_inst:0_ptype:gr_pstyle:m_i:0_j:4_x:1125.00_y:9875.00_zone:1     0.0  "
      ]
     },
     "execution_count": 82,
     "metadata": {},
     "output_type": "execute_result"
    }
   ],
   "source": [
    "df_gr.head()"
   ]
  },
  {
   "cell_type": "markdown",
   "metadata": {},
   "source": [
    "Now, we add pilot point (medium scale) multiplier parameters to the same model input file. These multipliers are assigned to pilot points, which are subsequently interpolated to values in the array.\n",
    "\n",
    "You can add pilot points in two ways:\n",
    "\n",
    "1. `PstFrom` can generate them for you on a regular grid or \n",
    "2. you can supply `PstFrom` with existing pilot point location information. \n",
    "\n",
    "When you change `par_type` to \"pilotpoints\", by default, a regular grid of pilot points is setup using a default `pp_space` value of 10 (which is every 10th row and column). You can chnge this spacing by passing a integer to `pp_space` (as demonstrated below). \n",
    "\n",
    "Alternatively you can specify a filename or dataframe with pilot point locations. If you supply `pp_space` as a `str` it is assumed to be a filename. The extension is the guide: \".csv\" for dataframe, \".shp\" for shapefile (point-type). Anything else and the file is assumed to be a pilot points file type. The dataframe (or .csv file) must have \"name\", \"x\", and \"y\" as columns - it can have more, but must have those. "
   ]
  },
  {
   "cell_type": "code",
   "execution_count": 83,
   "metadata": {
    "execution": {
     "iopub.execute_input": "2022-03-18T04:41:21.304534Z",
     "iopub.status.busy": "2022-03-18T04:41:21.303538Z",
     "iopub.status.idle": "2022-03-18T04:41:38.053945Z",
     "shell.execute_reply": "2022-03-18T04:41:38.053945Z"
    }
   },
   "outputs": [
    {
     "name": "stdout",
     "output_type": "stream",
     "text": [
      "starting interp point loop for 706 points\n",
      "starting 0\n",
      "starting 1\n",
      "starting 2\n",
      "starting 3\n",
      "starting 4\n",
      "starting 5\n",
      "starting 6\n",
      "starting 7\n",
      "starting 8\n",
      "starting 9\n",
      "took 8.324695 seconds\n"
     ]
    }
   ],
   "source": [
    "# pilot point (medium) scale parameters\n",
    "df_pp = pf.add_parameters(f,\n",
    "                    zone_array=ib,\n",
    "                    par_type=\"pilotpoints\",\n",
    "                    geostruct=grid_gs,\n",
    "                    par_name_base=f.split('.')[1]+\"_pp\",\n",
    "                    pargp=f.split('.')[1]+\"_pp\",\n",
    "                    lower_bound=0.2,upper_bound=5.0,\n",
    "                    ult_ubound=100, ult_lbound=0.01,\n",
    "                    pp_space=4) # `PstFrom` will generate a unifrom grid of pilot points in every 4th row and column"
   ]
  },
  {
   "cell_type": "markdown",
   "metadata": {},
   "source": [
    "Lastly, add the constant (coarse) parameter multiplier. This is a single multiplier value applied to all values in the array. "
   ]
  },
  {
   "cell_type": "code",
   "execution_count": 84,
   "metadata": {
    "execution": {
     "iopub.execute_input": "2022-03-18T04:41:38.057935Z",
     "iopub.status.busy": "2022-03-18T04:41:38.057935Z",
     "iopub.status.idle": "2022-03-18T04:41:38.076885Z",
     "shell.execute_reply": "2022-03-18T04:41:38.076885Z"
    }
   },
   "outputs": [],
   "source": [
    "# constant (coarse) scale parameters\n",
    "df_cst = pf.add_parameters(f,\n",
    "                    zone_array=ib,\n",
    "                    par_type=\"constant\",\n",
    "                    geostruct=grid_gs,\n",
    "                    par_name_base=f.split('.')[1]+\"_cn\",\n",
    "                    pargp=f.split('.')[1]+\"_cn\",\n",
    "                    lower_bound=0.2,upper_bound=5.0,\n",
    "                    ult_ubound=100, ult_lbound=0.01)"
   ]
  },
  {
   "cell_type": "markdown",
   "metadata": {},
   "source": [
    "Let's do that for Kh in the other layers. We are going to be doing this a few times, so lets write a function."
   ]
  },
  {
   "cell_type": "code",
   "execution_count": 85,
   "metadata": {
    "execution": {
     "iopub.execute_input": "2022-03-18T04:41:38.084896Z",
     "iopub.status.busy": "2022-03-18T04:41:38.083867Z",
     "iopub.status.idle": "2022-03-18T04:41:38.086890Z",
     "shell.execute_reply": "2022-03-18T04:41:38.086157Z"
    }
   },
   "outputs": [],
   "source": [
    "def add_mult_pars(f, lb=0.2, ub=5.0, ulb=0.01, uub=100):\n",
    "    # grid (fine) scale parameters\n",
    "    pf.add_parameters(f,\n",
    "                    zone_array=ib,\n",
    "                    par_type=\"grid\", #specify the type, these will be unique parameters for each cell\n",
    "                    geostruct=grid_gs, # the gestatisical structure for spatial correlation \n",
    "                    par_name_base=f.split('.')[1]+\"_gr\", #specify a parameter name base that allows us to easily identify the filename and parameter type. \"_gr\" for \"grid\", and so forth.\n",
    "                    pargp=f.split('.')[1]+\"_gr\", #likewise for the parameter group name\n",
    "                    lower_bound=lb, upper_bound=ub, #parameter lower and upper bound\n",
    "                    ult_ubound=uub, ult_lbound=ulb # The ultimate bounds for multiplied model input values. Here we are stating that, after accounting for all multipliers, Kh cannot exceed these values. Very important with multipliers\n",
    "                    )\n",
    "                    \n",
    "    # pilot point (medium) scale parameters\n",
    "    pf.add_parameters(f,\n",
    "                        zone_array=ib,\n",
    "                        par_type=\"pilotpoints\",\n",
    "                        geostruct=grid_gs,\n",
    "                        par_name_base=f.split('.')[1]+\"_pp\",\n",
    "                        pargp=f.split('.')[1]+\"_pp\",\n",
    "                        lower_bound=lb, upper_bound=ub,\n",
    "                        ult_ubound=uub, ult_lbound=ulb,\n",
    "                        pp_space=4) # `PstFrom` will generate a unifrom grid of pilot points in every 4th row and column\n",
    "\n",
    "    # constant (coarse) scale parameters\n",
    "    pf.add_parameters(f,\n",
    "                        zone_array=ib,\n",
    "                        par_type=\"constant\",\n",
    "                        geostruct=grid_gs,\n",
    "                        par_name_base=f.split('.')[1]+\"_cn\",\n",
    "                        pargp=f.split('.')[1]+\"_cn\",\n",
    "                        lower_bound=lb, upper_bound=ub,\n",
    "                        ult_ubound=uub, ult_lbound=ulb)\n",
    "    return"
   ]
  },
  {
   "cell_type": "code",
   "execution_count": 86,
   "metadata": {
    "execution": {
     "iopub.execute_input": "2022-03-18T04:41:38.089850Z",
     "iopub.status.busy": "2022-03-18T04:41:38.089850Z",
     "iopub.status.idle": "2022-03-18T04:41:38.390700Z",
     "shell.execute_reply": "2022-03-18T04:41:38.389698Z"
    }
   },
   "outputs": [],
   "source": [
    "for f in files[1:]:\n",
    "    add_mult_pars(f, lb=0.2, ub=5.0, ulb=0.01, uub=100)"
   ]
  },
  {
   "cell_type": "markdown",
   "metadata": {},
   "source": [
    "Well...hot damn, wasn't that easy? Let's speed through the other array parameter files."
   ]
  },
  {
   "cell_type": "code",
   "execution_count": 87,
   "metadata": {
    "execution": {
     "iopub.execute_input": "2022-03-18T04:41:38.395682Z",
     "iopub.status.busy": "2022-03-18T04:41:38.395682Z",
     "iopub.status.idle": "2022-03-18T04:41:39.198523Z",
     "shell.execute_reply": "2022-03-18T04:41:39.197526Z"
    }
   },
   "outputs": [],
   "source": [
    "# for Kv\n",
    "tag = \"npf_k33\"\n",
    "files = [f for f in os.listdir(template_ws) if tag in f.lower() and f.endswith(\".txt\")]\n",
    "for f in files:\n",
    "    add_mult_pars(f, lb=0.2, ub=5.0, ulb=0.01, uub=100)\n",
    "\n",
    "# for Ss\n",
    "tag = \"sto_ss\"\n",
    "files = [f for f in os.listdir(template_ws) if tag in f.lower() and f.endswith(\".txt\")]\n",
    "# only for layer 2 and 3; we aren't monsters\n",
    "for f in files[1:]: \n",
    "    add_mult_pars(f, lb=0.2, ub=5.0, ulb=1e-6, uub=1e-3)\n",
    "\n",
    "# For Sy\n",
    "tag = \"sto_sy\"\n",
    "files = [f for f in os.listdir(template_ws) if tag in f.lower() and f.endswith(\".txt\")]\n",
    "# only for layer 1\n",
    "f = files[0]\n",
    "add_mult_pars(f, lb=0.2, ub=5.0, ulb=0.01, uub=0.4)\n"
   ]
  },
  {
   "cell_type": "markdown",
   "metadata": {},
   "source": [
    "#### 5.3.2. Spatial and Temporal Correlation\n",
    "\n",
    "Now, you may be thinking \"shouldn't recharge have temporal correlation as well?\". \n",
    "\n",
    "Damn straight it should. Now, this requires a little trickery.\n",
    "\n",
    "First we need to construct a container of stress period datetimes. (This relies on specifying the start_datetime argument when instantiating `PstFrom`.) These datetime values will specify the postion of parameters on the time-axis.\n",
    "\n"
   ]
  },
  {
   "cell_type": "code",
   "execution_count": 88,
   "metadata": {
    "execution": {
     "iopub.execute_input": "2022-03-18T04:41:39.205504Z",
     "iopub.status.busy": "2022-03-18T04:41:39.205504Z",
     "iopub.status.idle": "2022-03-18T04:41:39.208496Z",
     "shell.execute_reply": "2022-03-18T04:41:39.208496Z"
    }
   },
   "outputs": [
    {
     "data": {
      "text/plain": [
       "DatetimeIndex(['2018-01-02', '2018-02-02', '2018-03-03', '2018-04-03',\n",
       "               '2018-05-03', '2018-06-03', '2018-07-03', '2018-08-03',\n",
       "               '2018-09-03', '2018-10-03', '2018-11-03', '2018-12-03',\n",
       "               '2019-01-03', '2019-02-03', '2019-03-03', '2019-04-03',\n",
       "               '2019-05-03', '2019-06-03', '2019-07-03', '2019-08-03',\n",
       "               '2019-09-03', '2019-10-03', '2019-11-03', '2019-12-03',\n",
       "               '2020-01-03'],\n",
       "              dtype='datetime64[ns]', freq=None)"
      ]
     },
     "execution_count": 88,
     "metadata": {},
     "output_type": "execute_result"
    }
   ],
   "source": [
    "# build up a container of stress period start datetimes - this will\n",
    "# be used to specify the datetime of each multipler parameter\n",
    "start_datetime=\"1-1-2018\"\n",
    "dts = pd.to_datetime(start_datetime) + pd.to_timedelta(np.cumsum(sim.tdis.perioddata.array[\"perlen\"]),unit='d')\n",
    "\n",
    "dts"
   ]
  },
  {
   "cell_type": "markdown",
   "metadata": {},
   "source": [
    "If you use the same parameter group name (`pargp`) and same geostruct, `PstFrom` will treat parameters setup across different calls to `add_parameters()` as correlated.  In this case, we want to express temporal correlation in the recharge multiplier parameters. So, we use the same parameter group names for each stress period data file, and specify the `datetime` and `geostruct` arguments.\n",
    "\n",
    "Including temporal correlation introduces an additional challenge. Interpolation between points that share a common coordinate creates all types of trouble. We are going to have many parameters during each stress period (a single point on the time-axis). To get around this challenge we need to be a bit sneaky.\n",
    "\n",
    "\n",
    "First, we will apply the multiple *spatial* scales of parameter multiplers (`constant`, `pilot point` and `grid`) as we did for hyraulic properties. \n",
    "\n",
    "Then, we will asign an additional `constant` multiplier parameter for each recharge stress-period file (so, a single multiplier for all recharge paramaters for each stress period). We will specify temporal correlation for these `constant` multipliers. These will all have the same parameter group name, as discussed above. "
   ]
  },
  {
   "cell_type": "code",
   "execution_count": 89,
   "metadata": {
    "execution": {
     "iopub.execute_input": "2022-03-18T04:41:39.214481Z",
     "iopub.status.busy": "2022-03-18T04:41:39.213483Z",
     "iopub.status.idle": "2022-03-18T04:41:43.067520Z",
     "shell.execute_reply": "2022-03-18T04:41:43.067520Z"
    }
   },
   "outputs": [],
   "source": [
    "# for Recharge; \n",
    "tag = \"rch_recharge\"\n",
    "files = [f for f in os.listdir(template_ws) if tag in f.lower() and f.endswith(\".txt\")]\n",
    "for f in files:\n",
    "    # the spatial multiplier parameters; just use the same function\n",
    "    add_mult_pars(f, lb=0.2, ub=5.0, ulb=2e-5, uub=2e-4)\n",
    "    \n",
    "    \n",
    "    # multiplier that includes temporal correlation\n",
    "    # get the stress period number from the file name\n",
    "    kper = int(f.split('.')[1].split('_')[-1]) - 1  \n",
    "    \n",
    "    # add the constant parameters (with temporal correlation)\n",
    "    pf.add_parameters(filenames=f,\n",
    "                    zone_array=ib,\n",
    "                    par_type=\"constant\",\n",
    "                    par_name_base=f.split('.')[1]+\"_tcn\",\n",
    "                    pargp=f.split('.')[1]+\"_tcn\",\n",
    "                    lower_bound=0.5, upper_bound=1.5,\n",
    "                    ult_ubound=2e-4, ult_lbound=2e-5,\n",
    "                    datetime=dts[kper], # this places the parameter value on the \"time axis\"\n",
    "                    geostruct=temporal_gs)"
   ]
  },
  {
   "cell_type": "markdown",
   "metadata": {},
   "source": [
    "### 5.3.3. List Files\n",
    "\n",
    "Adding parameters from list-type files follows similar principles. As with observation files, they must be tabular. Certain columns are specified as index columns and are used to populate parameter names, as well as provide the parameters' spatial location. Other columns are specified as containing parameter values. \n",
    "\n",
    "Parameters can be `grid` or `constant`. As before, values can be assigned `directly`, as `multipliers` or as `additives`.\n",
    "\n",
    "We will demonstrate for the boundary-condition input files. \n",
    "\n",
    "Starting off with GHBs. Let's inspect the folder. As you can see, there is a single input file (GHB parameters are assumed to not vary over time)."
   ]
  },
  {
   "cell_type": "code",
   "execution_count": 90,
   "metadata": {
    "execution": {
     "iopub.execute_input": "2022-03-18T04:41:43.071484Z",
     "iopub.status.busy": "2022-03-18T04:41:43.071484Z",
     "iopub.status.idle": "2022-03-18T04:41:43.075507Z",
     "shell.execute_reply": "2022-03-18T04:41:43.075507Z"
    }
   },
   "outputs": [
    {
     "name": "stdout",
     "output_type": "stream",
     "text": [
      "['freyberg6.ghb_stress_period_data_1.txt']\n"
     ]
    }
   ],
   "source": [
    "tag = \"ghb_stress_period_data\"\n",
    "files = [f for f in os.listdir(template_ws) if tag in f.lower() and f.endswith(\".txt\")]\n",
    "print(files)"
   ]
  },
  {
   "cell_type": "markdown",
   "metadata": {},
   "source": [
    "Since these boundaries are likely to be very influential, we want to include a robust representation of their uncertainty - both head and conductance and at multiple scales.  \n",
    "\n",
    "Let's parameterize both GHB conductance and head:\n",
    "\n",
    " - For conductance, we shall use two scales of `multiplier` parameters (`constant` and `grid`).\n",
    "\n",
    " - For heads, multipliers are not ideal. Insead we will use `additive` parameters. Again, with a coarse and fine scale.\n",
    "\n",
    " **ATTENTION!** \n",
    " \n",
    " Additive parameters by default get assigned an initial parameter value of zero. This can be problematic later on when computing the derivatives. Be sure to either apply a parameter offset, or use \"absolute\" increment types in the parameter group section (we will implement the latter option further on in the current tutorial.)"
   ]
  },
  {
   "cell_type": "code",
   "execution_count": 91,
   "metadata": {
    "execution": {
     "iopub.execute_input": "2022-03-18T04:41:43.084449Z",
     "iopub.status.busy": "2022-03-18T04:41:43.083487Z",
     "iopub.status.idle": "2022-03-18T04:41:43.205170Z",
     "shell.execute_reply": "2022-03-18T04:41:43.206168Z"
    }
   },
   "outputs": [],
   "source": [
    "tag = \"ghb_stress_period_data\"\n",
    "files = [f for f in os.listdir(template_ws) if tag in f.lower() and f.endswith(\".txt\")]\n",
    "\n",
    "for f in files:\n",
    "    # constant and grid scale multiplier conductance parameters\n",
    "    name = 'ghbcond'\n",
    "    pf.add_parameters(f,\n",
    "                        par_type=\"grid\",\n",
    "                        geostruct=grid_gs,\n",
    "                        par_name_base=name+\"_gr\",\n",
    "                        pargp=name+\"_gr\",\n",
    "                        index_cols=[0,1,2], #column containing lay,row,col\n",
    "                        use_cols=[4], #column containing conductance values\n",
    "                        lower_bound=0.1,upper_bound=10.0,\n",
    "                        ult_lbound=0.1, ult_ubound=100) #absolute limits\n",
    "    pf.add_parameters(f,\n",
    "                        par_type=\"constant\",\n",
    "                        geostruct=grid_gs,\n",
    "                        par_name_base=name+\"_cn\",\n",
    "                        pargp=name+\"_cn\",\n",
    "                        index_cols=[0,1,2],\n",
    "                        use_cols=[4],  \n",
    "                        lower_bound=0.1,upper_bound=10.0,\n",
    "                        ult_lbound=0.1, ult_ubound=100) #absolute limits\n",
    "\n",
    "    # constant and grid scale additive head parameters\n",
    "    name = 'ghbhead'\n",
    "    pf.add_parameters(f,\n",
    "                        par_type=\"grid\",\n",
    "                        geostruct=grid_gs,\n",
    "                        par_name_base=name+\"_gr\",\n",
    "                        pargp=name+\"_gr\",\n",
    "                        index_cols=[0,1,2],\n",
    "                        use_cols=[3],   # column containing head values\n",
    "                        lower_bound=-2.0,upper_bound=2.0,\n",
    "                        par_style=\"a\", # specify additive parameter\n",
    "                        transform=\"none\", # specify not log-transform\n",
    "                        ult_lbound=32.5, ult_ubound=42) #absolute limits; make sure head is never lower than the bottom of layer1\n",
    "    pf.add_parameters(f,\n",
    "                        par_type=\"constant\",\n",
    "                        geostruct=grid_gs,\n",
    "                        par_name_base=name+\"_cn\",\n",
    "                        pargp=name+\"_cn\",\n",
    "                        index_cols=[0,1,2],\n",
    "                        use_cols=[3],\n",
    "                        lower_bound=-2.0,upper_bound=2.0, \n",
    "                        par_style=\"a\", \n",
    "                        transform=\"none\",\n",
    "                        ult_lbound=32.5, ult_ubound=42) "
   ]
  },
  {
   "cell_type": "markdown",
   "metadata": {},
   "source": [
    "Easy peasy.\n",
    "\n",
    "Now, this will make some people uncomfortable, but how well do we really ever know historic water use flux rates in space and in time? hmmm, not really! So lets add parameters to represent that uncertainty in the model inputs.\n",
    "\n",
    "For wells it may not (or it may...) make sense to include spatial correlation. Here we will assume temporal correlation - its reasonable that pumping rates today will be similar to pumping rates yesterday. \n",
    "\n",
    "Pumping rates for different stress periods are in separate files. We will call `.add_parameters()` for each file. But we want to specify correlation between parameters in different files. As explained above for recharge, we do this with the parameter group name.\n",
    "\n",
    "OK, let's get started.\n"
   ]
  },
  {
   "cell_type": "markdown",
   "metadata": {},
   "source": [
    "As discussed above, including temporal correlation introduces an additional challenge. We use the same approach described for recharge parmaeters:\n",
    "\n",
    " - First, we will asign a `constant` multiplier parameter for each WEL stress-period file (so, a single multiplier for all well pumping rates for each stress period). We will specify temporal correlation for these `constant` multipliers.\n",
    "\n",
    " - Then, we will also have `grid` type multiplier parameters for each WEL stress period file (so, multipliers for individual well pumping rate during each stress period). These will not include correlation. (We could in principle include spatial correlation here if we wanted to; but let's not)."
   ]
  },
  {
   "cell_type": "code",
   "execution_count": 92,
   "metadata": {
    "execution": {
     "iopub.execute_input": "2022-03-18T04:41:43.212151Z",
     "iopub.status.busy": "2022-03-18T04:41:43.211189Z",
     "iopub.status.idle": "2022-03-18T04:41:44.557949Z",
     "shell.execute_reply": "2022-03-18T04:41:44.558945Z"
    }
   },
   "outputs": [],
   "source": [
    "files = [f for f in os.listdir(template_ws) if \"wel_stress_period_data\" in f and f.endswith(\".txt\")]\n",
    "\n",
    "for f in files:\n",
    "    # get the stress period number from the file name\n",
    "    kper = int(f.split('.')[1].split('_')[-1]) - 1  \n",
    "    \n",
    "    # add the constant parameters (with temporal correlation)\n",
    "    pf.add_parameters(filenames=f,\n",
    "                        index_cols=[0,1,2], #columns that specify cell location\n",
    "                        use_cols=[3],       #columns with parameter values\n",
    "                        par_type=\"constant\",    #each well will be adjustable\n",
    "                        par_name_base=\"wel_cst\",\n",
    "                        pargp=\"wel_cst\", \n",
    "                        upper_bound = 1.5, lower_bound=0.5,\n",
    "                        datetime=dts[kper], # this places the parameter value on the \"time axis\"\n",
    "                        geostruct=temporal_gs)\n",
    "    \n",
    "    # add the grid parameters; each individual well\n",
    "    pf.add_parameters(filenames=f,\n",
    "                        index_cols=[0,1,2], #columns that specify cell location \n",
    "                        use_cols=[3],       #columns with parameter values\n",
    "                        par_type=\"grid\",    #each well will be adjustable\n",
    "                        par_name_base=\"wel_grd\",\n",
    "                        pargp=\"wel_grd\", \n",
    "                        upper_bound = 1.5, lower_bound=0.5,\n",
    "                        datetime=dts[kper]) # this places the parameter value on the \"time axis\"\n",
    "                     "
   ]
  },
  {
   "cell_type": "markdown",
   "metadata": {},
   "source": [
    "And finally, our favourite (not!) boundary-condition: SFR.\n",
    "\n",
    "Let's parameterize conductance (time-invariant) and inflow (time-variant)."
   ]
  },
  {
   "cell_type": "code",
   "execution_count": 93,
   "metadata": {
    "execution": {
     "iopub.execute_input": "2022-03-18T04:41:44.564939Z",
     "iopub.status.busy": "2022-03-18T04:41:44.563966Z",
     "iopub.status.idle": "2022-03-18T04:41:44.638734Z",
     "shell.execute_reply": "2022-03-18T04:41:44.637737Z"
    }
   },
   "outputs": [
    {
     "name": "stdout",
     "output_type": "stream",
     "text": [
      "['freyberg6.sfr_packagedata.txt']\n"
     ]
    },
    {
     "data": {
      "text/html": [
       "<div>\n",
       "<style scoped>\n",
       "    .dataframe tbody tr th:only-of-type {\n",
       "        vertical-align: middle;\n",
       "    }\n",
       "\n",
       "    .dataframe tbody tr th {\n",
       "        vertical-align: top;\n",
       "    }\n",
       "\n",
       "    .dataframe thead th {\n",
       "        text-align: right;\n",
       "    }\n",
       "</style>\n",
       "<table border=\"1\" class=\"dataframe\">\n",
       "  <thead>\n",
       "    <tr style=\"text-align: right;\">\n",
       "      <th></th>\n",
       "      <th>parnme</th>\n",
       "      <th>pargp</th>\n",
       "      <th>covgp</th>\n",
       "      <th>tpl_filename</th>\n",
       "      <th>input_filename</th>\n",
       "      <th>parval1</th>\n",
       "      <th>partype</th>\n",
       "      <th>partrans</th>\n",
       "      <th>parubnd</th>\n",
       "      <th>parlbnd</th>\n",
       "      <th>parchglim</th>\n",
       "      <th>scale</th>\n",
       "      <th>dercom</th>\n",
       "      <th>offset</th>\n",
       "    </tr>\n",
       "  </thead>\n",
       "  <tbody>\n",
       "    <tr>\n",
       "      <th>pname:sfrcond_cn_inst:0_ptype:cn_usecol:9_pstyle:m</th>\n",
       "      <td>pname:sfrcond_cn_inst:0_ptype:cn_usecol:9_pstyle:m</td>\n",
       "      <td>sfrcond_cn</td>\n",
       "      <td>sfrcond_cn</td>\n",
       "      <td>freyberg6_template\\sfrcond_cn_inst0_constant.csv.tpl</td>\n",
       "      <td>freyberg6_template\\mult\\sfrcond_cn_inst0_constant.csv</td>\n",
       "      <td>1.0</td>\n",
       "      <td>constant</td>\n",
       "      <td>log</td>\n",
       "      <td>10.0</td>\n",
       "      <td>0.1</td>\n",
       "      <td>factor</td>\n",
       "      <td>1.0</td>\n",
       "      <td>1</td>\n",
       "      <td>0.0</td>\n",
       "    </tr>\n",
       "  </tbody>\n",
       "</table>\n",
       "</div>"
      ],
      "text/plain": [
       "                                                                                                parnme  \\\n",
       "pname:sfrcond_cn_inst:0_ptype:cn_usecol:9_pstyle:m  pname:sfrcond_cn_inst:0_ptype:cn_usecol:9_pstyle:m   \n",
       "\n",
       "                                                         pargp       covgp  \\\n",
       "pname:sfrcond_cn_inst:0_ptype:cn_usecol:9_pstyle:m  sfrcond_cn  sfrcond_cn   \n",
       "\n",
       "                                                                                            tpl_filename  \\\n",
       "pname:sfrcond_cn_inst:0_ptype:cn_usecol:9_pstyle:m  freyberg6_template\\sfrcond_cn_inst0_constant.csv.tpl   \n",
       "\n",
       "                                                                                           input_filename  \\\n",
       "pname:sfrcond_cn_inst:0_ptype:cn_usecol:9_pstyle:m  freyberg6_template\\mult\\sfrcond_cn_inst0_constant.csv   \n",
       "\n",
       "                                                    parval1   partype  \\\n",
       "pname:sfrcond_cn_inst:0_ptype:cn_usecol:9_pstyle:m      1.0  constant   \n",
       "\n",
       "                                                   partrans  parubnd  parlbnd  \\\n",
       "pname:sfrcond_cn_inst:0_ptype:cn_usecol:9_pstyle:m      log     10.0      0.1   \n",
       "\n",
       "                                                   parchglim  scale  dercom  \\\n",
       "pname:sfrcond_cn_inst:0_ptype:cn_usecol:9_pstyle:m    factor    1.0       1   \n",
       "\n",
       "                                                    offset  \n",
       "pname:sfrcond_cn_inst:0_ptype:cn_usecol:9_pstyle:m     0.0  "
      ]
     },
     "execution_count": 93,
     "metadata": {},
     "output_type": "execute_result"
    }
   ],
   "source": [
    "# SFR conductance\n",
    "tag = \"sfr_packagedata\"\n",
    "files = [f for f in os.listdir(template_ws) if tag in f.lower() and f.endswith(\".txt\")]\n",
    "assert len(files) == 1 # There can be only one! It is tradition. Jokes.\n",
    "print(files)\n",
    "f = files[0]\n",
    "# constant and grid scale multiplier conductance parameters\n",
    "name = \"sfrcond\"\n",
    "pf.add_parameters(f,\n",
    "                par_type=\"grid\",\n",
    "                geostruct=grid_gs,\n",
    "                par_name_base=name+\"_gr\",\n",
    "                pargp=name+\"_gr\",\n",
    "                index_cols=[0,2,3],\n",
    "                use_cols=[9],\n",
    "                lower_bound=0.1,upper_bound=10.0,\n",
    "                ult_lbound=0.01, ult_ubound=10) #absolute limits\n",
    "pf.add_parameters(f,\n",
    "                par_type=\"constant\",\n",
    "                geostruct=grid_gs,\n",
    "                par_name_base=name+\"_cn\",\n",
    "                pargp=name+\"_cn\",\n",
    "                index_cols=[0,2,3],\n",
    "                use_cols=[9],\n",
    "                lower_bound=0.1,upper_bound=10.0,\n",
    "                ult_lbound=0.01, ult_ubound=10) #absolute limits"
   ]
  },
  {
   "cell_type": "code",
   "execution_count": 94,
   "metadata": {
    "execution": {
     "iopub.execute_input": "2022-03-18T04:41:44.647709Z",
     "iopub.status.busy": "2022-03-18T04:41:44.646712Z",
     "iopub.status.idle": "2022-03-18T04:41:45.413261Z",
     "shell.execute_reply": "2022-03-18T04:41:45.413261Z"
    }
   },
   "outputs": [],
   "source": [
    "# SFR inflow\n",
    "files = [f for f in os.listdir(template_ws) if \"sfr_perioddata\" in f and f.endswith(\".txt\")]\n",
    "for f in files:\n",
    "    # get the stress period number from the file name\n",
    "    kper = int(f.split('.')[1].split('_')[-1]) - 1  \n",
    "    # add the parameters\n",
    "    pf.add_parameters(filenames=f,\n",
    "                        index_cols=[0], #reach number\n",
    "                        use_cols=[2],   #columns with parameter values\n",
    "                        par_type=\"grid\",    \n",
    "                        par_name_base=\"sfr_gr\",\n",
    "                        pargp=\"sfr_gr\", \n",
    "                        upper_bound = 1.5, lower_bound=0.5, #don't need ult_bounds because it is a single multiplier\n",
    "                        datetime=dts[kper], # this places the parameter value on the \"time axis\"\n",
    "                        geostruct=temporal_gs)"
   ]
  },
  {
   "cell_type": "markdown",
   "metadata": {},
   "source": [
    "### 6. The Forward Run Script\n",
    "\n",
    "OK! So, we almost have all the base building blocks for a PEST(++) dataset. We have some (1) observations and some (2) parameters. We are still missing (3) the \"forward run\" script. Recall that in the PEST world, the \"model\" is not just the numerical model (e.g. MODFLOW). Instead it is a composite of the numerical model (or models) and pre- and post-processing steps, encapsulated in a \"forward run\" script which can be called from the command line. This command line instruction is what PEST(++) sees as \"the model\". During execution, PEST(++) writes values to parameter files, runs \"the model\", and then reads values from the observation files.\n",
    "\n",
    "`PstFrom` automates the generation of such a script when constructing the PEST control file. The script is written to file named `forward_run.py`. It is written in Python (this is not a PEST(++) requirement, merely a convenience...we are working in Python after all...). \n",
    "\n",
    "How about we see that in action? Magic time! Let's create the PEST control file.\n",
    "\n",
    "#### 6.1. Build Pst\n",
    "\n",
    "The `PstFrom.build_pst()` method builds a control file from the `PstFrom` object. It will write a PEST control file to the template folder. It will also write the `forward_run.py` script. It returns a pyEMU `Pst` object with all the information of the PEST control file. You can subsequently edit this `Pst` object. However, (***IMPORTANT***) any subsequent changes to the `Pst` object are not reflected in the `PstFrom` object, or viceversa. If you subsequently use `PstFrom` to add more observation or parameter files, you will need to re-build the `Pst` object. When you do so, all edits to the `Pst` object will be lost. Keep this in mind when designing your workflow.\n",
    "\n",
    "\n",
    "Here we go!\n",
    "\n",
    "(Note: in a normal workflow, we probably wouldn't do this yet. We are doing so now for demonstration purposes.)"
   ]
  },
  {
   "cell_type": "code",
   "execution_count": 95,
   "metadata": {
    "execution": {
     "iopub.execute_input": "2022-03-18T04:41:45.422193Z",
     "iopub.status.busy": "2022-03-18T04:41:45.422193Z",
     "iopub.status.idle": "2022-03-18T04:41:47.392325Z",
     "shell.execute_reply": "2022-03-18T04:41:47.393323Z"
    }
   },
   "outputs": [
    {
     "name": "stdout",
     "output_type": "stream",
     "text": [
      "noptmax:0, npar_adj:25454, nnz_obs:725\n"
     ]
    }
   ],
   "source": [
    "pst = pf.build_pst()"
   ]
  },
  {
   "cell_type": "markdown",
   "metadata": {},
   "source": [
    "Boom! Done. (Well almost.) Check the folder. You should see a new .pst file and the `forward_run.py` file. By default, the .pst file is named after the original model folder name. "
   ]
  },
  {
   "cell_type": "code",
   "execution_count": 96,
   "metadata": {
    "execution": {
     "iopub.execute_input": "2022-03-18T04:41:47.396345Z",
     "iopub.status.busy": "2022-03-18T04:41:47.395316Z",
     "iopub.status.idle": "2022-03-18T04:41:47.400304Z",
     "shell.execute_reply": "2022-03-18T04:41:47.400304Z"
    }
   },
   "outputs": [
    {
     "data": {
      "text/plain": [
       "['forward_run.py', 'freyberg_mf6.pst']"
      ]
     },
     "execution_count": 96,
     "metadata": {},
     "output_type": "execute_result"
    }
   ],
   "source": [
    "[f for f in os.listdir(template_ws) if f.endswith(\".py\") or f.endswith(\".pst\") ]"
   ]
  },
  {
   "cell_type": "markdown",
   "metadata": {},
   "source": [
    "We will get to the `pst` object later on (see also the \"intro to pyemu\" tutorial notebook). For now, let's focus on the `forward_run.py` script. It is printed out below.\n",
    "\n",
    "This script does a bunch of things:\n",
    " - it loads necessary dependecies\n",
    " - it removes model output files to avoid the possibility of files from a previous model run being read by mistake;\n",
    " - it runs pre-processing steps (see `pyemu.helpers.apply_list_and_array_pars()`;\n",
    " - it executes system commands (usually running the simulator, i.e. MODFLOW). (*This is still missing. We will demonstrate next.*)\n",
    " - it executes post-processing steps; (*for now there aren't any*)\n",
    " - ...it washes the dishes (sorry, no it doesn't...this feature is still in development)."
   ]
  },
  {
   "cell_type": "code",
   "execution_count": 97,
   "metadata": {
    "execution": {
     "iopub.execute_input": "2022-03-18T04:41:47.404293Z",
     "iopub.status.busy": "2022-03-18T04:41:47.403296Z",
     "iopub.status.idle": "2022-03-18T04:41:47.410303Z",
     "shell.execute_reply": "2022-03-18T04:41:47.409280Z"
    }
   },
   "outputs": [
    {
     "name": "stdout",
     "output_type": "stream",
     "text": [
      "import os\n",
      "import multiprocessing as mp\n",
      "import numpy as np\n",
      "import pandas as pd\n",
      "import pyemu\n",
      "def main():\n",
      "\n",
      "    try:\n",
      "       os.remove(r'heads.csv')\n",
      "    except Exception as e:\n",
      "       print(r'error removing tmp file:heads.csv')\n",
      "    try:\n",
      "       os.remove(r'sfr.csv')\n",
      "    except Exception as e:\n",
      "       print(r'error removing tmp file:sfr.csv')\n",
      "    pyemu.helpers.apply_list_and_array_pars(arr_par_file='mult2model_info.csv',chunk_len=50)\n",
      "\n",
      "if __name__ == '__main__':\n",
      "    mp.freeze_support()\n",
      "    main()\n",
      "\n"
     ]
    }
   ],
   "source": [
    "_ = [print(line.rstrip()) for line in open(os.path.join(template_ws,\"forward_run.py\"))]"
   ]
  },
  {
   "cell_type": "markdown",
   "metadata": {},
   "source": [
    "That's pretty amazing. But as we just saw, we still need to add commands to actualy run the model.\n",
    "\n",
    "`PstFrom` allows you to pass a list of system commands which will be executed in sequence. It also has methods for including Python functions that run before or after the system commands. These make pre-/post-processing a piece of cake. In fact, we have already started to add to it. Remember all of the multiplier and additive parameters we setup? These all require pre-processing steps to convert the PEST-generated multipliers into model input values. `PstFrom` will automatically add these functions to the `forward_run.py` script. Nifty, hey?\n",
    "\n",
    "Next we will demonstrate how to specify the system commands and add Python functions as processing steps.\n",
    "\n",
    "#### 6.2. Sys Commands\n",
    "\n",
    "Let's start by adding a command line instruction. These are stored as a list in `PstFrom.mod_sys_cmds`, which is currently empty. "
   ]
  },
  {
   "cell_type": "code",
   "execution_count": 98,
   "metadata": {
    "execution": {
     "iopub.execute_input": "2022-03-18T04:41:47.413269Z",
     "iopub.status.busy": "2022-03-18T04:41:47.412295Z",
     "iopub.status.idle": "2022-03-18T04:41:47.415264Z",
     "shell.execute_reply": "2022-03-18T04:41:47.415264Z"
    }
   },
   "outputs": [
    {
     "data": {
      "text/plain": [
       "[]"
      ]
     },
     "execution_count": 98,
     "metadata": {},
     "output_type": "execute_result"
    }
   ],
   "source": [
    "pf.mod_sys_cmds "
   ]
  },
  {
   "cell_type": "markdown",
   "metadata": {},
   "source": [
    "To run a MODFLOW6 model from the command line, you can simply execute `mf6` in the model folder. So, we can add this command by appending it to the list. (Do this only once! Every time you append 'mf6' results in an additional call to MODFLOW6, meaning the model would be run multiple times.)\n",
    "\n",
    "`PstFrom` will add a line to `forward_run.py` w"
   ]
  },
  {
   "cell_type": "code",
   "execution_count": 99,
   "metadata": {
    "execution": {
     "iopub.execute_input": "2022-03-18T04:41:47.419277Z",
     "iopub.status.busy": "2022-03-18T04:41:47.418256Z",
     "iopub.status.idle": "2022-03-18T04:41:47.422269Z",
     "shell.execute_reply": "2022-03-18T04:41:47.422269Z"
    }
   },
   "outputs": [
    {
     "data": {
      "text/plain": [
       "['mf6']"
      ]
     },
     "execution_count": 99,
     "metadata": {},
     "output_type": "execute_result"
    }
   ],
   "source": [
    "pf.mod_sys_cmds.append(\"mf6\") #do this only once\n",
    "pf.mod_sys_cmds"
   ]
  },
  {
   "cell_type": "markdown",
   "metadata": {},
   "source": [
    "OK, now let's re-build the Pst control file and check out the changes ot the `forward_run.py` script.\n",
    "\n",
    "You should see that `pyemu.os_utils.run(r'mf6')` has been added after the pre-processing functions."
   ]
  },
  {
   "cell_type": "code",
   "execution_count": 100,
   "metadata": {
    "execution": {
     "iopub.execute_input": "2022-03-18T04:41:47.455191Z",
     "iopub.status.busy": "2022-03-18T04:41:47.429225Z",
     "iopub.status.idle": "2022-03-18T04:41:49.392753Z",
     "shell.execute_reply": "2022-03-18T04:41:49.392753Z"
    }
   },
   "outputs": [
    {
     "name": "stdout",
     "output_type": "stream",
     "text": [
      "noptmax:0, npar_adj:25454, nnz_obs:725\n",
      "import os\n",
      "import multiprocessing as mp\n",
      "import numpy as np\n",
      "import pandas as pd\n",
      "import pyemu\n",
      "def main():\n",
      "\n",
      "    try:\n",
      "       os.remove(r'heads.csv')\n",
      "    except Exception as e:\n",
      "       print(r'error removing tmp file:heads.csv')\n",
      "    try:\n",
      "       os.remove(r'sfr.csv')\n",
      "    except Exception as e:\n",
      "       print(r'error removing tmp file:sfr.csv')\n",
      "    pyemu.helpers.apply_list_and_array_pars(arr_par_file='mult2model_info.csv',chunk_len=50)\n",
      "    pyemu.os_utils.run(r'mf6')\n",
      "\n",
      "\n",
      "if __name__ == '__main__':\n",
      "    mp.freeze_support()\n",
      "    main()\n",
      "\n"
     ]
    }
   ],
   "source": [
    "pst = pf.build_pst()\n",
    "\n",
    "_ = [print(line.rstrip()) for line in open(os.path.join(template_ws,\"forward_run.py\"))]"
   ]
  },
  {
   "cell_type": "markdown",
   "metadata": {},
   "source": [
    "#### 6.3. Extra pre- and post-processing functions\n",
    "\n",
    "You will also certainly need to include some additional processing steps.  These are supported thru the `PstFrom.pre_py_cmds` and `PstFrom.post_py_cmds`, which are lists for pre and post model run python commands and `PstFrom.pre_sys_cmds` and `PstFrom.post_sys_cmds`, which are lists for pre and post model run system commands (these are wrapped in `pyemu.os_utils.run()`.  \n",
    "\n",
    "But what if your additional steps are actually an entire python function? Well, we got that too! `PstFrom.add_py_function()`. This method allows you to get functions from another (pre-prepared) python source file and add them to the `forward_run.py` script. We will deonstrate this to post-process secondary model observations after each run.\n",
    "\n",
    "#### 6.3.1. Secondary Observations\n",
    "\n",
    "Often it is usefull to include \"secondary model outcomes\" as observations. These can be important components in a history-matching dataset to tease out specific aspects of system behaviour (e.g. head differences between aquifer layers to inform vertical permeabilities). Or they may be simple summaries of modelled outputs which are of interest for a prediction (e.g. minimum simulated head over a given period).\n",
    "\n",
    "If you inspect the tutorial folder you will find a file named `helpers.py`. This is a python source file which we have prepared for you. (Open it to see how it is organized.) It contains a function named `process_secondary_obs()`. This function reads the model output .csv files, processes them and writes a series of new observation .csv files. These new files contain (1) the temporal-differences between head and SFR observations, and (2) the difference in heads between the top and bottom layers at each observation point. The new .csv files are named `heads.tdiff.csv`,`sfr.tdiff.csv` and `heads.vdiff.csv` respectively.\n",
    "\n",
    "First, lets load the function here and run it so you can see what happens. (And to make sure that the observation files are in the template folder!) \n",
    "\n",
    "Run the next cell, then inspect the template folder. You should see three new csv files. These are the new secondary observations calculated by the post-processing function."
   ]
  },
  {
   "cell_type": "code",
   "execution_count": 101,
   "metadata": {
    "execution": {
     "iopub.execute_input": "2022-03-18T04:41:49.396741Z",
     "iopub.status.busy": "2022-03-18T04:41:49.395744Z",
     "iopub.status.idle": "2022-03-18T04:41:49.412736Z",
     "shell.execute_reply": "2022-03-18T04:41:49.412736Z"
    }
   },
   "outputs": [
    {
     "name": "stdout",
     "output_type": "stream",
     "text": [
      "Secondary observation files processed.\n"
     ]
    }
   ],
   "source": [
    "from helpers import  process_secondary_obs\n",
    "\n",
    "process_secondary_obs(ws=template_ws)"
   ]
  },
  {
   "cell_type": "code",
   "execution_count": 102,
   "metadata": {
    "execution": {
     "iopub.execute_input": "2022-03-18T04:41:49.415692Z",
     "iopub.status.busy": "2022-03-18T04:41:49.415692Z",
     "iopub.status.idle": "2022-03-18T04:41:49.421675Z",
     "shell.execute_reply": "2022-03-18T04:41:49.422672Z"
    }
   },
   "outputs": [
    {
     "data": {
      "text/plain": [
       "['heads.csv',\n",
       " 'heads.tdiff.csv',\n",
       " 'heads.vdiff.csv',\n",
       " 'mult2model_info.csv',\n",
       " 'sfr.csv',\n",
       " 'sfr.tdiff.csv']"
      ]
     },
     "execution_count": 102,
     "metadata": {},
     "output_type": "execute_result"
    }
   ],
   "source": [
    "[f for f in os.listdir(template_ws) if f.endswith(\".csv\")]"
   ]
  },
  {
   "cell_type": "markdown",
   "metadata": {},
   "source": [
    "OK, so now let's add this function to the `forward_run.py` script."
   ]
  },
  {
   "cell_type": "code",
   "execution_count": 103,
   "metadata": {
    "execution": {
     "iopub.execute_input": "2022-03-18T04:41:49.425693Z",
     "iopub.status.busy": "2022-03-18T04:41:49.424666Z",
     "iopub.status.idle": "2022-03-18T04:41:49.429653Z",
     "shell.execute_reply": "2022-03-18T04:41:49.428657Z"
    }
   },
   "outputs": [],
   "source": [
    "pf.add_py_function(\"helpers.py\", # the file which contains the function\n",
    "                    \"process_secondary_obs(ws='.')\", #the function, making sure to specify any arguments it may requrie\n",
    "                    is_pre_cmd=False) # whether it runs before the model system command, or after. In this case, after."
   ]
  },
  {
   "cell_type": "markdown",
   "metadata": {},
   "source": [
    "And, boom! Bob's your uncle. As easy as that.\n",
    "\n",
    "Now, of course we want to add these observations to `PstFrom` as well:"
   ]
  },
  {
   "cell_type": "code",
   "execution_count": 104,
   "metadata": {
    "execution": {
     "iopub.execute_input": "2022-03-18T04:41:49.436660Z",
     "iopub.status.busy": "2022-03-18T04:41:49.435637Z",
     "iopub.status.idle": "2022-03-18T04:41:49.534373Z",
     "shell.execute_reply": "2022-03-18T04:41:49.535580Z"
    }
   },
   "outputs": [],
   "source": [
    "\n",
    "df = pd.read_csv(os.path.join(template_ws, \"sfr.tdiff.csv\"), index_col=0)\n",
    "_ = pf.add_observations(\"sfr.tdiff.csv\", # the model output file to read\n",
    "                            insfile=\"sfr.tdiff.csv.ins\", #optional, the instruction file name\n",
    "                            index_cols=\"time\", #column header to use as index; can also use column number (zero-based) instead of the header name\n",
    "                            use_cols=list(df.columns.values), #names of columns that include observation values; can also use column number (zero-based) instead of the header name\n",
    "                            prefix=\"sfrtd\") #prefix to all observation \n",
    "                            \n",
    "df = pd.read_csv(os.path.join(template_ws, \"heads.tdiff.csv\"), index_col=0)\n",
    "_ = pf.add_observations(\"heads.tdiff.csv\", # the model output file to read\n",
    "                            insfile=\"heads.tdiff.csv.ins\", #optional, the instruction file name\n",
    "                            index_cols=\"time\", #column header to use as index; can also use column number (zero-based) instead of the header name\n",
    "                            use_cols=list(df.columns.values), #names of columns that include observation values; can also use column number (zero-based) instead of the header name\n",
    "                            prefix=\"hdstd\") #prefix to all observation names\n",
    "\n",
    "df = pd.read_csv(os.path.join(template_ws, \"heads.vdiff.csv\"), index_col=0)\n",
    "_ = pf.add_observations(\"heads.vdiff.csv\", # the model output file to read\n",
    "                            insfile=\"heads.vdiff.csv.ins\", #optional, the instruction file name\n",
    "                            index_cols=\"time\", #column header to use as index; can also use column number (zero-based) instead of the header name\n",
    "                            use_cols=list(df.columns.values), #names of columns that include observation values; can also use column number (zero-based) instead of the header name\n",
    "                            prefix=\"hdsvd\") #prefix to all observation names"
   ]
  },
  {
   "cell_type": "markdown",
   "metadata": {},
   "source": [
    "Remember to re-build the Pst control file:"
   ]
  },
  {
   "cell_type": "code",
   "execution_count": 105,
   "metadata": {
    "execution": {
     "iopub.execute_input": "2022-03-18T04:41:49.552325Z",
     "iopub.status.busy": "2022-03-18T04:41:49.545343Z",
     "iopub.status.idle": "2022-03-18T04:41:51.502438Z",
     "shell.execute_reply": "2022-03-18T04:41:51.502438Z"
    }
   },
   "outputs": [
    {
     "name": "stdout",
     "output_type": "stream",
     "text": [
      "noptmax:0, npar_adj:25454, nnz_obs:1775\n"
     ]
    }
   ],
   "source": [
    "pst = pf.build_pst()"
   ]
  },
  {
   "cell_type": "markdown",
   "metadata": {},
   "source": [
    "### 7. After Building the Control File\n",
    "\n",
    "At this point, we can do some additional modifications that would typically be done that are problem specific.  Here we can tweak the setup, specifying things such as observation weights, parameter bounds, transforms, control data, etc. \n",
    "\n",
    "Note that any modifications made after calling `PstFrom.build_pst()` will only exist in memory - you need to call `pf.pst.write()` to record these changes to the control file on disk.  Also note that if you call `PstFrom.build_pst()` after making some changes, these changes will be lost.  \n",
    "\n",
    "For the current case, the main thing we haven't addressed are the observation weights, paramter group INCTYP's and forecasts.\n",
    "\n",
    "We will do so now.\n",
    "\n",
    "#### 7.1. Setting observation weights\n",
    "\n",
    "So far, we have automated the setup for PEST(++).  But one critical task remains and there is not an easy way to automate it:  setting the actual observed values and weights in the `* observation data` information.  \n",
    "\n",
    "`PstFrom` and `Pst` will both try to read existing model output files that correspond to instruction files and put those simulated values into the `* observation data` section for the observed values (the `obsval` quantity).  Here, we pre-populated the model output files with \"measured values\". So, in our case, we are OK in this regard.  Alternatively, we could have edited the `* observation data` at this stage, assigning the respective measured values into the `obsval` column. \n",
    "\n",
    "What we are unable to deal with beforehand are the observation weights. Let's take a look at the observation data:"
   ]
  },
  {
   "cell_type": "code",
   "execution_count": 106,
   "metadata": {
    "execution": {
     "iopub.execute_input": "2022-03-18T04:41:51.515395Z",
     "iopub.status.busy": "2022-03-18T04:41:51.505434Z",
     "iopub.status.idle": "2022-03-18T04:41:51.519385Z",
     "shell.execute_reply": "2022-03-18T04:41:51.518363Z"
    }
   },
   "outputs": [
    {
     "data": {
      "text/html": [
       "<div>\n",
       "<style scoped>\n",
       "    .dataframe tbody tr th:only-of-type {\n",
       "        vertical-align: middle;\n",
       "    }\n",
       "\n",
       "    .dataframe tbody tr th {\n",
       "        vertical-align: top;\n",
       "    }\n",
       "\n",
       "    .dataframe thead th {\n",
       "        text-align: right;\n",
       "    }\n",
       "</style>\n",
       "<table border=\"1\" class=\"dataframe\">\n",
       "  <thead>\n",
       "    <tr style=\"text-align: right;\">\n",
       "      <th></th>\n",
       "      <th>obsnme</th>\n",
       "      <th>obsval</th>\n",
       "      <th>weight</th>\n",
       "      <th>obgnme</th>\n",
       "      <th>oname</th>\n",
       "      <th>otype</th>\n",
       "      <th>usecol</th>\n",
       "      <th>time</th>\n",
       "    </tr>\n",
       "  </thead>\n",
       "  <tbody>\n",
       "    <tr>\n",
       "      <th>oname:hds_otype:lst_usecol:trgw_0_13_10_time:1.0</th>\n",
       "      <td>oname:hds_otype:lst_usecol:trgw_0_13_10_time:1.0</td>\n",
       "      <td>34.406181</td>\n",
       "      <td>1.0</td>\n",
       "      <td>oname:hds_otype:lst_usecol:trgw_0_13_10</td>\n",
       "      <td>hds</td>\n",
       "      <td>lst</td>\n",
       "      <td>trgw</td>\n",
       "      <td>1.0</td>\n",
       "    </tr>\n",
       "    <tr>\n",
       "      <th>oname:hds_otype:lst_usecol:trgw_0_13_10_time:122.0</th>\n",
       "      <td>oname:hds_otype:lst_usecol:trgw_0_13_10_time:122.0</td>\n",
       "      <td>34.450661</td>\n",
       "      <td>1.0</td>\n",
       "      <td>oname:hds_otype:lst_usecol:trgw_0_13_10</td>\n",
       "      <td>hds</td>\n",
       "      <td>lst</td>\n",
       "      <td>trgw</td>\n",
       "      <td>122.0</td>\n",
       "    </tr>\n",
       "    <tr>\n",
       "      <th>oname:hds_otype:lst_usecol:trgw_0_13_10_time:153.0</th>\n",
       "      <td>oname:hds_otype:lst_usecol:trgw_0_13_10_time:153.0</td>\n",
       "      <td>34.441799</td>\n",
       "      <td>1.0</td>\n",
       "      <td>oname:hds_otype:lst_usecol:trgw_0_13_10</td>\n",
       "      <td>hds</td>\n",
       "      <td>lst</td>\n",
       "      <td>trgw</td>\n",
       "      <td>153.0</td>\n",
       "    </tr>\n",
       "    <tr>\n",
       "      <th>oname:hds_otype:lst_usecol:trgw_0_13_10_time:183.0</th>\n",
       "      <td>oname:hds_otype:lst_usecol:trgw_0_13_10_time:183.0</td>\n",
       "      <td>34.375622</td>\n",
       "      <td>1.0</td>\n",
       "      <td>oname:hds_otype:lst_usecol:trgw_0_13_10</td>\n",
       "      <td>hds</td>\n",
       "      <td>lst</td>\n",
       "      <td>trgw</td>\n",
       "      <td>183.0</td>\n",
       "    </tr>\n",
       "    <tr>\n",
       "      <th>oname:hds_otype:lst_usecol:trgw_0_13_10_time:214.0</th>\n",
       "      <td>oname:hds_otype:lst_usecol:trgw_0_13_10_time:214.0</td>\n",
       "      <td>34.323056</td>\n",
       "      <td>1.0</td>\n",
       "      <td>oname:hds_otype:lst_usecol:trgw_0_13_10</td>\n",
       "      <td>hds</td>\n",
       "      <td>lst</td>\n",
       "      <td>trgw</td>\n",
       "      <td>214.0</td>\n",
       "    </tr>\n",
       "    <tr>\n",
       "      <th>...</th>\n",
       "      <td>...</td>\n",
       "      <td>...</td>\n",
       "      <td>...</td>\n",
       "      <td>...</td>\n",
       "      <td>...</td>\n",
       "      <td>...</td>\n",
       "      <td>...</td>\n",
       "      <td>...</td>\n",
       "    </tr>\n",
       "    <tr>\n",
       "      <th>oname:sfrtd_otype:lst_usecol:tailwater_time:640.0</th>\n",
       "      <td>oname:sfrtd_otype:lst_usecol:tailwater_time:640.0</td>\n",
       "      <td>265.177000</td>\n",
       "      <td>1.0</td>\n",
       "      <td>oname:sfrtd_otype:lst_usecol:tailwater</td>\n",
       "      <td>sfrtd</td>\n",
       "      <td>lst</td>\n",
       "      <td>tailwater</td>\n",
       "      <td>640.0</td>\n",
       "    </tr>\n",
       "    <tr>\n",
       "      <th>oname:sfrtd_otype:lst_usecol:tailwater_time:671.0</th>\n",
       "      <td>oname:sfrtd_otype:lst_usecol:tailwater_time:671.0</td>\n",
       "      <td>275.184000</td>\n",
       "      <td>1.0</td>\n",
       "      <td>oname:sfrtd_otype:lst_usecol:tailwater</td>\n",
       "      <td>sfrtd</td>\n",
       "      <td>lst</td>\n",
       "      <td>tailwater</td>\n",
       "      <td>671.0</td>\n",
       "    </tr>\n",
       "    <tr>\n",
       "      <th>oname:sfrtd_otype:lst_usecol:tailwater_time:701.0</th>\n",
       "      <td>oname:sfrtd_otype:lst_usecol:tailwater_time:701.0</td>\n",
       "      <td>245.911000</td>\n",
       "      <td>1.0</td>\n",
       "      <td>oname:sfrtd_otype:lst_usecol:tailwater</td>\n",
       "      <td>sfrtd</td>\n",
       "      <td>lst</td>\n",
       "      <td>tailwater</td>\n",
       "      <td>701.0</td>\n",
       "    </tr>\n",
       "    <tr>\n",
       "      <th>oname:sfrtd_otype:lst_usecol:tailwater_time:732.0</th>\n",
       "      <td>oname:sfrtd_otype:lst_usecol:tailwater_time:732.0</td>\n",
       "      <td>260.995000</td>\n",
       "      <td>1.0</td>\n",
       "      <td>oname:sfrtd_otype:lst_usecol:tailwater</td>\n",
       "      <td>sfrtd</td>\n",
       "      <td>lst</td>\n",
       "      <td>tailwater</td>\n",
       "      <td>732.0</td>\n",
       "    </tr>\n",
       "    <tr>\n",
       "      <th>oname:sfrtd_otype:lst_usecol:tailwater_time:92.0</th>\n",
       "      <td>oname:sfrtd_otype:lst_usecol:tailwater_time:92.0</td>\n",
       "      <td>-94.160000</td>\n",
       "      <td>1.0</td>\n",
       "      <td>oname:sfrtd_otype:lst_usecol:tailwater</td>\n",
       "      <td>sfrtd</td>\n",
       "      <td>lst</td>\n",
       "      <td>tailwater</td>\n",
       "      <td>92.0</td>\n",
       "    </tr>\n",
       "  </tbody>\n",
       "</table>\n",
       "<p>1775 rows × 8 columns</p>\n",
       "</div>"
      ],
      "text/plain": [
       "                                                                                                obsnme  \\\n",
       "oname:hds_otype:lst_usecol:trgw_0_13_10_time:1.0      oname:hds_otype:lst_usecol:trgw_0_13_10_time:1.0   \n",
       "oname:hds_otype:lst_usecol:trgw_0_13_10_time:122.0  oname:hds_otype:lst_usecol:trgw_0_13_10_time:122.0   \n",
       "oname:hds_otype:lst_usecol:trgw_0_13_10_time:153.0  oname:hds_otype:lst_usecol:trgw_0_13_10_time:153.0   \n",
       "oname:hds_otype:lst_usecol:trgw_0_13_10_time:183.0  oname:hds_otype:lst_usecol:trgw_0_13_10_time:183.0   \n",
       "oname:hds_otype:lst_usecol:trgw_0_13_10_time:214.0  oname:hds_otype:lst_usecol:trgw_0_13_10_time:214.0   \n",
       "...                                                                                                ...   \n",
       "oname:sfrtd_otype:lst_usecol:tailwater_time:640.0    oname:sfrtd_otype:lst_usecol:tailwater_time:640.0   \n",
       "oname:sfrtd_otype:lst_usecol:tailwater_time:671.0    oname:sfrtd_otype:lst_usecol:tailwater_time:671.0   \n",
       "oname:sfrtd_otype:lst_usecol:tailwater_time:701.0    oname:sfrtd_otype:lst_usecol:tailwater_time:701.0   \n",
       "oname:sfrtd_otype:lst_usecol:tailwater_time:732.0    oname:sfrtd_otype:lst_usecol:tailwater_time:732.0   \n",
       "oname:sfrtd_otype:lst_usecol:tailwater_time:92.0      oname:sfrtd_otype:lst_usecol:tailwater_time:92.0   \n",
       "\n",
       "                                                        obsval  weight  \\\n",
       "oname:hds_otype:lst_usecol:trgw_0_13_10_time:1.0     34.406181     1.0   \n",
       "oname:hds_otype:lst_usecol:trgw_0_13_10_time:122.0   34.450661     1.0   \n",
       "oname:hds_otype:lst_usecol:trgw_0_13_10_time:153.0   34.441799     1.0   \n",
       "oname:hds_otype:lst_usecol:trgw_0_13_10_time:183.0   34.375622     1.0   \n",
       "oname:hds_otype:lst_usecol:trgw_0_13_10_time:214.0   34.323056     1.0   \n",
       "...                                                        ...     ...   \n",
       "oname:sfrtd_otype:lst_usecol:tailwater_time:640.0   265.177000     1.0   \n",
       "oname:sfrtd_otype:lst_usecol:tailwater_time:671.0   275.184000     1.0   \n",
       "oname:sfrtd_otype:lst_usecol:tailwater_time:701.0   245.911000     1.0   \n",
       "oname:sfrtd_otype:lst_usecol:tailwater_time:732.0   260.995000     1.0   \n",
       "oname:sfrtd_otype:lst_usecol:tailwater_time:92.0    -94.160000     1.0   \n",
       "\n",
       "                                                                                     obgnme  \\\n",
       "oname:hds_otype:lst_usecol:trgw_0_13_10_time:1.0    oname:hds_otype:lst_usecol:trgw_0_13_10   \n",
       "oname:hds_otype:lst_usecol:trgw_0_13_10_time:122.0  oname:hds_otype:lst_usecol:trgw_0_13_10   \n",
       "oname:hds_otype:lst_usecol:trgw_0_13_10_time:153.0  oname:hds_otype:lst_usecol:trgw_0_13_10   \n",
       "oname:hds_otype:lst_usecol:trgw_0_13_10_time:183.0  oname:hds_otype:lst_usecol:trgw_0_13_10   \n",
       "oname:hds_otype:lst_usecol:trgw_0_13_10_time:214.0  oname:hds_otype:lst_usecol:trgw_0_13_10   \n",
       "...                                                                                     ...   \n",
       "oname:sfrtd_otype:lst_usecol:tailwater_time:640.0    oname:sfrtd_otype:lst_usecol:tailwater   \n",
       "oname:sfrtd_otype:lst_usecol:tailwater_time:671.0    oname:sfrtd_otype:lst_usecol:tailwater   \n",
       "oname:sfrtd_otype:lst_usecol:tailwater_time:701.0    oname:sfrtd_otype:lst_usecol:tailwater   \n",
       "oname:sfrtd_otype:lst_usecol:tailwater_time:732.0    oname:sfrtd_otype:lst_usecol:tailwater   \n",
       "oname:sfrtd_otype:lst_usecol:tailwater_time:92.0     oname:sfrtd_otype:lst_usecol:tailwater   \n",
       "\n",
       "                                                    oname otype     usecol  \\\n",
       "oname:hds_otype:lst_usecol:trgw_0_13_10_time:1.0      hds   lst       trgw   \n",
       "oname:hds_otype:lst_usecol:trgw_0_13_10_time:122.0    hds   lst       trgw   \n",
       "oname:hds_otype:lst_usecol:trgw_0_13_10_time:153.0    hds   lst       trgw   \n",
       "oname:hds_otype:lst_usecol:trgw_0_13_10_time:183.0    hds   lst       trgw   \n",
       "oname:hds_otype:lst_usecol:trgw_0_13_10_time:214.0    hds   lst       trgw   \n",
       "...                                                   ...   ...        ...   \n",
       "oname:sfrtd_otype:lst_usecol:tailwater_time:640.0   sfrtd   lst  tailwater   \n",
       "oname:sfrtd_otype:lst_usecol:tailwater_time:671.0   sfrtd   lst  tailwater   \n",
       "oname:sfrtd_otype:lst_usecol:tailwater_time:701.0   sfrtd   lst  tailwater   \n",
       "oname:sfrtd_otype:lst_usecol:tailwater_time:732.0   sfrtd   lst  tailwater   \n",
       "oname:sfrtd_otype:lst_usecol:tailwater_time:92.0    sfrtd   lst  tailwater   \n",
       "\n",
       "                                                     time  \n",
       "oname:hds_otype:lst_usecol:trgw_0_13_10_time:1.0      1.0  \n",
       "oname:hds_otype:lst_usecol:trgw_0_13_10_time:122.0  122.0  \n",
       "oname:hds_otype:lst_usecol:trgw_0_13_10_time:153.0  153.0  \n",
       "oname:hds_otype:lst_usecol:trgw_0_13_10_time:183.0  183.0  \n",
       "oname:hds_otype:lst_usecol:trgw_0_13_10_time:214.0  214.0  \n",
       "...                                                   ...  \n",
       "oname:sfrtd_otype:lst_usecol:tailwater_time:640.0   640.0  \n",
       "oname:sfrtd_otype:lst_usecol:tailwater_time:671.0   671.0  \n",
       "oname:sfrtd_otype:lst_usecol:tailwater_time:701.0   701.0  \n",
       "oname:sfrtd_otype:lst_usecol:tailwater_time:732.0   732.0  \n",
       "oname:sfrtd_otype:lst_usecol:tailwater_time:92.0     92.0  \n",
       "\n",
       "[1775 rows x 8 columns]"
      ]
     },
     "execution_count": 106,
     "metadata": {},
     "output_type": "execute_result"
    }
   ],
   "source": [
    "obs = pst.observation_data\n",
    "obs"
   ]
  },
  {
   "cell_type": "markdown",
   "metadata": {},
   "source": [
    "Hmm, that's alot of observations. And remember, alot of these pertain to the \"prediction\" period. We definitly do not want those to have an influence on history-matching.\n",
    "\n",
    "To be on the safe side, let's assign a weight of zero to all observations. Then, we will assign weights to specific observations that we wish to include as history-matching targets."
   ]
  },
  {
   "cell_type": "code",
   "execution_count": 107,
   "metadata": {
    "execution": {
     "iopub.execute_input": "2022-03-18T04:41:51.527339Z",
     "iopub.status.busy": "2022-03-18T04:41:51.527339Z",
     "iopub.status.idle": "2022-03-18T04:41:51.530331Z",
     "shell.execute_reply": "2022-03-18T04:41:51.529336Z"
    }
   },
   "outputs": [
    {
     "data": {
      "text/html": [
       "<div>\n",
       "<style scoped>\n",
       "    .dataframe tbody tr th:only-of-type {\n",
       "        vertical-align: middle;\n",
       "    }\n",
       "\n",
       "    .dataframe tbody tr th {\n",
       "        vertical-align: top;\n",
       "    }\n",
       "\n",
       "    .dataframe thead th {\n",
       "        text-align: right;\n",
       "    }\n",
       "</style>\n",
       "<table border=\"1\" class=\"dataframe\">\n",
       "  <thead>\n",
       "    <tr style=\"text-align: right;\">\n",
       "      <th></th>\n",
       "      <th>obsnme</th>\n",
       "      <th>obsval</th>\n",
       "      <th>weight</th>\n",
       "      <th>obgnme</th>\n",
       "      <th>oname</th>\n",
       "      <th>otype</th>\n",
       "      <th>usecol</th>\n",
       "      <th>time</th>\n",
       "    </tr>\n",
       "  </thead>\n",
       "  <tbody>\n",
       "    <tr>\n",
       "      <th>oname:hds_otype:lst_usecol:trgw_0_13_10_time:1.0</th>\n",
       "      <td>oname:hds_otype:lst_usecol:trgw_0_13_10_time:1.0</td>\n",
       "      <td>34.406181</td>\n",
       "      <td>0</td>\n",
       "      <td>oname:hds_otype:lst_usecol:trgw_0_13_10</td>\n",
       "      <td>hds</td>\n",
       "      <td>lst</td>\n",
       "      <td>trgw</td>\n",
       "      <td>1.0</td>\n",
       "    </tr>\n",
       "    <tr>\n",
       "      <th>oname:hds_otype:lst_usecol:trgw_0_13_10_time:122.0</th>\n",
       "      <td>oname:hds_otype:lst_usecol:trgw_0_13_10_time:122.0</td>\n",
       "      <td>34.450661</td>\n",
       "      <td>0</td>\n",
       "      <td>oname:hds_otype:lst_usecol:trgw_0_13_10</td>\n",
       "      <td>hds</td>\n",
       "      <td>lst</td>\n",
       "      <td>trgw</td>\n",
       "      <td>122.0</td>\n",
       "    </tr>\n",
       "    <tr>\n",
       "      <th>oname:hds_otype:lst_usecol:trgw_0_13_10_time:153.0</th>\n",
       "      <td>oname:hds_otype:lst_usecol:trgw_0_13_10_time:153.0</td>\n",
       "      <td>34.441799</td>\n",
       "      <td>0</td>\n",
       "      <td>oname:hds_otype:lst_usecol:trgw_0_13_10</td>\n",
       "      <td>hds</td>\n",
       "      <td>lst</td>\n",
       "      <td>trgw</td>\n",
       "      <td>153.0</td>\n",
       "    </tr>\n",
       "    <tr>\n",
       "      <th>oname:hds_otype:lst_usecol:trgw_0_13_10_time:183.0</th>\n",
       "      <td>oname:hds_otype:lst_usecol:trgw_0_13_10_time:183.0</td>\n",
       "      <td>34.375622</td>\n",
       "      <td>0</td>\n",
       "      <td>oname:hds_otype:lst_usecol:trgw_0_13_10</td>\n",
       "      <td>hds</td>\n",
       "      <td>lst</td>\n",
       "      <td>trgw</td>\n",
       "      <td>183.0</td>\n",
       "    </tr>\n",
       "    <tr>\n",
       "      <th>oname:hds_otype:lst_usecol:trgw_0_13_10_time:214.0</th>\n",
       "      <td>oname:hds_otype:lst_usecol:trgw_0_13_10_time:214.0</td>\n",
       "      <td>34.323056</td>\n",
       "      <td>0</td>\n",
       "      <td>oname:hds_otype:lst_usecol:trgw_0_13_10</td>\n",
       "      <td>hds</td>\n",
       "      <td>lst</td>\n",
       "      <td>trgw</td>\n",
       "      <td>214.0</td>\n",
       "    </tr>\n",
       "  </tbody>\n",
       "</table>\n",
       "</div>"
      ],
      "text/plain": [
       "                                                                                                obsnme  \\\n",
       "oname:hds_otype:lst_usecol:trgw_0_13_10_time:1.0      oname:hds_otype:lst_usecol:trgw_0_13_10_time:1.0   \n",
       "oname:hds_otype:lst_usecol:trgw_0_13_10_time:122.0  oname:hds_otype:lst_usecol:trgw_0_13_10_time:122.0   \n",
       "oname:hds_otype:lst_usecol:trgw_0_13_10_time:153.0  oname:hds_otype:lst_usecol:trgw_0_13_10_time:153.0   \n",
       "oname:hds_otype:lst_usecol:trgw_0_13_10_time:183.0  oname:hds_otype:lst_usecol:trgw_0_13_10_time:183.0   \n",
       "oname:hds_otype:lst_usecol:trgw_0_13_10_time:214.0  oname:hds_otype:lst_usecol:trgw_0_13_10_time:214.0   \n",
       "\n",
       "                                                       obsval  weight  \\\n",
       "oname:hds_otype:lst_usecol:trgw_0_13_10_time:1.0    34.406181       0   \n",
       "oname:hds_otype:lst_usecol:trgw_0_13_10_time:122.0  34.450661       0   \n",
       "oname:hds_otype:lst_usecol:trgw_0_13_10_time:153.0  34.441799       0   \n",
       "oname:hds_otype:lst_usecol:trgw_0_13_10_time:183.0  34.375622       0   \n",
       "oname:hds_otype:lst_usecol:trgw_0_13_10_time:214.0  34.323056       0   \n",
       "\n",
       "                                                                                     obgnme  \\\n",
       "oname:hds_otype:lst_usecol:trgw_0_13_10_time:1.0    oname:hds_otype:lst_usecol:trgw_0_13_10   \n",
       "oname:hds_otype:lst_usecol:trgw_0_13_10_time:122.0  oname:hds_otype:lst_usecol:trgw_0_13_10   \n",
       "oname:hds_otype:lst_usecol:trgw_0_13_10_time:153.0  oname:hds_otype:lst_usecol:trgw_0_13_10   \n",
       "oname:hds_otype:lst_usecol:trgw_0_13_10_time:183.0  oname:hds_otype:lst_usecol:trgw_0_13_10   \n",
       "oname:hds_otype:lst_usecol:trgw_0_13_10_time:214.0  oname:hds_otype:lst_usecol:trgw_0_13_10   \n",
       "\n",
       "                                                   oname otype usecol   time  \n",
       "oname:hds_otype:lst_usecol:trgw_0_13_10_time:1.0     hds   lst   trgw    1.0  \n",
       "oname:hds_otype:lst_usecol:trgw_0_13_10_time:122.0   hds   lst   trgw  122.0  \n",
       "oname:hds_otype:lst_usecol:trgw_0_13_10_time:153.0   hds   lst   trgw  153.0  \n",
       "oname:hds_otype:lst_usecol:trgw_0_13_10_time:183.0   hds   lst   trgw  183.0  \n",
       "oname:hds_otype:lst_usecol:trgw_0_13_10_time:214.0   hds   lst   trgw  214.0  "
      ]
     },
     "execution_count": 107,
     "metadata": {},
     "output_type": "execute_result"
    }
   ],
   "source": [
    "# preemptive avoidance of sillyness\n",
    "obs['weight'] = 0\n",
    "obs.head()"
   ]
  },
  {
   "cell_type": "markdown",
   "metadata": {},
   "source": [
    "Because `PstFrom` is our friend, it kept track of lots of information. We can now use this to help us slice and select specific observations. Scroll though the `obs` columns to see what we have at hand. \n",
    "\n",
    "For example, the `oname` column stores the \"prefix\" we assigned eveytime we called `pf.add_observations()`. This makes it easy for us to now select observations according to which file they were read from.\n",
    "\n",
    "Just as a reminder:"
   ]
  },
  {
   "cell_type": "code",
   "execution_count": 108,
   "metadata": {
    "execution": {
     "iopub.execute_input": "2022-03-18T04:41:51.533322Z",
     "iopub.status.busy": "2022-03-18T04:41:51.533322Z",
     "iopub.status.idle": "2022-03-18T04:41:51.536339Z",
     "shell.execute_reply": "2022-03-18T04:41:51.535459Z"
    }
   },
   "outputs": [
    {
     "data": {
      "text/plain": [
       "array(['hds', 'hdstd', 'hdsvd', 'sfr', 'sfrtd'], dtype=object)"
      ]
     },
     "execution_count": 108,
     "metadata": {},
     "output_type": "execute_result"
    }
   ],
   "source": [
    "obs['oname'].unique()"
   ]
  },
  {
   "cell_type": "markdown",
   "metadata": {},
   "source": [
    "So, if we want to select observations from the `heads.csv` file, and that have a time < than 367, we can just use `Pandas` .loc:"
   ]
  },
  {
   "cell_type": "code",
   "execution_count": 109,
   "metadata": {
    "execution": {
     "iopub.execute_input": "2022-03-18T04:41:51.548938Z",
     "iopub.status.busy": "2022-03-18T04:41:51.548938Z",
     "iopub.status.idle": "2022-03-18T04:41:51.552929Z",
     "shell.execute_reply": "2022-03-18T04:41:51.552128Z"
    }
   },
   "outputs": [
    {
     "data": {
      "text/html": [
       "<div>\n",
       "<style scoped>\n",
       "    .dataframe tbody tr th:only-of-type {\n",
       "        vertical-align: middle;\n",
       "    }\n",
       "\n",
       "    .dataframe tbody tr th {\n",
       "        vertical-align: top;\n",
       "    }\n",
       "\n",
       "    .dataframe thead th {\n",
       "        text-align: right;\n",
       "    }\n",
       "</style>\n",
       "<table border=\"1\" class=\"dataframe\">\n",
       "  <thead>\n",
       "    <tr style=\"text-align: right;\">\n",
       "      <th></th>\n",
       "      <th>obsnme</th>\n",
       "      <th>obsval</th>\n",
       "      <th>weight</th>\n",
       "      <th>obgnme</th>\n",
       "      <th>oname</th>\n",
       "      <th>otype</th>\n",
       "      <th>usecol</th>\n",
       "      <th>time</th>\n",
       "    </tr>\n",
       "  </thead>\n",
       "  <tbody>\n",
       "    <tr>\n",
       "      <th>oname:hds_otype:lst_usecol:trgw_0_13_10_time:1.0</th>\n",
       "      <td>oname:hds_otype:lst_usecol:trgw_0_13_10_time:1.0</td>\n",
       "      <td>34.406181</td>\n",
       "      <td>0</td>\n",
       "      <td>oname:hds_otype:lst_usecol:trgw_0_13_10</td>\n",
       "      <td>hds</td>\n",
       "      <td>lst</td>\n",
       "      <td>trgw</td>\n",
       "      <td>1.0</td>\n",
       "    </tr>\n",
       "    <tr>\n",
       "      <th>oname:hds_otype:lst_usecol:trgw_0_13_10_time:122.0</th>\n",
       "      <td>oname:hds_otype:lst_usecol:trgw_0_13_10_time:122.0</td>\n",
       "      <td>34.450661</td>\n",
       "      <td>0</td>\n",
       "      <td>oname:hds_otype:lst_usecol:trgw_0_13_10</td>\n",
       "      <td>hds</td>\n",
       "      <td>lst</td>\n",
       "      <td>trgw</td>\n",
       "      <td>122.0</td>\n",
       "    </tr>\n",
       "    <tr>\n",
       "      <th>oname:hds_otype:lst_usecol:trgw_0_13_10_time:153.0</th>\n",
       "      <td>oname:hds_otype:lst_usecol:trgw_0_13_10_time:153.0</td>\n",
       "      <td>34.441799</td>\n",
       "      <td>0</td>\n",
       "      <td>oname:hds_otype:lst_usecol:trgw_0_13_10</td>\n",
       "      <td>hds</td>\n",
       "      <td>lst</td>\n",
       "      <td>trgw</td>\n",
       "      <td>153.0</td>\n",
       "    </tr>\n",
       "    <tr>\n",
       "      <th>oname:hds_otype:lst_usecol:trgw_0_13_10_time:183.0</th>\n",
       "      <td>oname:hds_otype:lst_usecol:trgw_0_13_10_time:183.0</td>\n",
       "      <td>34.375622</td>\n",
       "      <td>0</td>\n",
       "      <td>oname:hds_otype:lst_usecol:trgw_0_13_10</td>\n",
       "      <td>hds</td>\n",
       "      <td>lst</td>\n",
       "      <td>trgw</td>\n",
       "      <td>183.0</td>\n",
       "    </tr>\n",
       "    <tr>\n",
       "      <th>oname:hds_otype:lst_usecol:trgw_0_13_10_time:214.0</th>\n",
       "      <td>oname:hds_otype:lst_usecol:trgw_0_13_10_time:214.0</td>\n",
       "      <td>34.323056</td>\n",
       "      <td>0</td>\n",
       "      <td>oname:hds_otype:lst_usecol:trgw_0_13_10</td>\n",
       "      <td>hds</td>\n",
       "      <td>lst</td>\n",
       "      <td>trgw</td>\n",
       "      <td>214.0</td>\n",
       "    </tr>\n",
       "    <tr>\n",
       "      <th>...</th>\n",
       "      <td>...</td>\n",
       "      <td>...</td>\n",
       "      <td>...</td>\n",
       "      <td>...</td>\n",
       "      <td>...</td>\n",
       "      <td>...</td>\n",
       "      <td>...</td>\n",
       "      <td>...</td>\n",
       "    </tr>\n",
       "    <tr>\n",
       "      <th>oname:hds_otype:lst_usecol:trgw_2_9_1_time:32.0</th>\n",
       "      <td>oname:hds_otype:lst_usecol:trgw_2_9_1_time:32.0</td>\n",
       "      <td>35.138347</td>\n",
       "      <td>0</td>\n",
       "      <td>oname:hds_otype:lst_usecol:trgw_2_9_1</td>\n",
       "      <td>hds</td>\n",
       "      <td>lst</td>\n",
       "      <td>trgw</td>\n",
       "      <td>32.0</td>\n",
       "    </tr>\n",
       "    <tr>\n",
       "      <th>oname:hds_otype:lst_usecol:trgw_2_9_1_time:336.0</th>\n",
       "      <td>oname:hds_otype:lst_usecol:trgw_2_9_1_time:336.0</td>\n",
       "      <td>35.137489</td>\n",
       "      <td>0</td>\n",
       "      <td>oname:hds_otype:lst_usecol:trgw_2_9_1</td>\n",
       "      <td>hds</td>\n",
       "      <td>lst</td>\n",
       "      <td>trgw</td>\n",
       "      <td>336.0</td>\n",
       "    </tr>\n",
       "    <tr>\n",
       "      <th>oname:hds_otype:lst_usecol:trgw_2_9_1_time:367.0</th>\n",
       "      <td>oname:hds_otype:lst_usecol:trgw_2_9_1_time:367.0</td>\n",
       "      <td>35.381420</td>\n",
       "      <td>0</td>\n",
       "      <td>oname:hds_otype:lst_usecol:trgw_2_9_1</td>\n",
       "      <td>hds</td>\n",
       "      <td>lst</td>\n",
       "      <td>trgw</td>\n",
       "      <td>367.0</td>\n",
       "    </tr>\n",
       "    <tr>\n",
       "      <th>oname:hds_otype:lst_usecol:trgw_2_9_1_time:61.0</th>\n",
       "      <td>oname:hds_otype:lst_usecol:trgw_2_9_1_time:61.0</td>\n",
       "      <td>35.323971</td>\n",
       "      <td>0</td>\n",
       "      <td>oname:hds_otype:lst_usecol:trgw_2_9_1</td>\n",
       "      <td>hds</td>\n",
       "      <td>lst</td>\n",
       "      <td>trgw</td>\n",
       "      <td>61.0</td>\n",
       "    </tr>\n",
       "    <tr>\n",
       "      <th>oname:hds_otype:lst_usecol:trgw_2_9_1_time:92.0</th>\n",
       "      <td>oname:hds_otype:lst_usecol:trgw_2_9_1_time:92.0</td>\n",
       "      <td>35.373773</td>\n",
       "      <td>0</td>\n",
       "      <td>oname:hds_otype:lst_usecol:trgw_2_9_1</td>\n",
       "      <td>hds</td>\n",
       "      <td>lst</td>\n",
       "      <td>trgw</td>\n",
       "      <td>92.0</td>\n",
       "    </tr>\n",
       "  </tbody>\n",
       "</table>\n",
       "<p>338 rows × 8 columns</p>\n",
       "</div>"
      ],
      "text/plain": [
       "                                                                                                obsnme  \\\n",
       "oname:hds_otype:lst_usecol:trgw_0_13_10_time:1.0      oname:hds_otype:lst_usecol:trgw_0_13_10_time:1.0   \n",
       "oname:hds_otype:lst_usecol:trgw_0_13_10_time:122.0  oname:hds_otype:lst_usecol:trgw_0_13_10_time:122.0   \n",
       "oname:hds_otype:lst_usecol:trgw_0_13_10_time:153.0  oname:hds_otype:lst_usecol:trgw_0_13_10_time:153.0   \n",
       "oname:hds_otype:lst_usecol:trgw_0_13_10_time:183.0  oname:hds_otype:lst_usecol:trgw_0_13_10_time:183.0   \n",
       "oname:hds_otype:lst_usecol:trgw_0_13_10_time:214.0  oname:hds_otype:lst_usecol:trgw_0_13_10_time:214.0   \n",
       "...                                                                                                ...   \n",
       "oname:hds_otype:lst_usecol:trgw_2_9_1_time:32.0        oname:hds_otype:lst_usecol:trgw_2_9_1_time:32.0   \n",
       "oname:hds_otype:lst_usecol:trgw_2_9_1_time:336.0      oname:hds_otype:lst_usecol:trgw_2_9_1_time:336.0   \n",
       "oname:hds_otype:lst_usecol:trgw_2_9_1_time:367.0      oname:hds_otype:lst_usecol:trgw_2_9_1_time:367.0   \n",
       "oname:hds_otype:lst_usecol:trgw_2_9_1_time:61.0        oname:hds_otype:lst_usecol:trgw_2_9_1_time:61.0   \n",
       "oname:hds_otype:lst_usecol:trgw_2_9_1_time:92.0        oname:hds_otype:lst_usecol:trgw_2_9_1_time:92.0   \n",
       "\n",
       "                                                       obsval  weight  \\\n",
       "oname:hds_otype:lst_usecol:trgw_0_13_10_time:1.0    34.406181       0   \n",
       "oname:hds_otype:lst_usecol:trgw_0_13_10_time:122.0  34.450661       0   \n",
       "oname:hds_otype:lst_usecol:trgw_0_13_10_time:153.0  34.441799       0   \n",
       "oname:hds_otype:lst_usecol:trgw_0_13_10_time:183.0  34.375622       0   \n",
       "oname:hds_otype:lst_usecol:trgw_0_13_10_time:214.0  34.323056       0   \n",
       "...                                                       ...     ...   \n",
       "oname:hds_otype:lst_usecol:trgw_2_9_1_time:32.0     35.138347       0   \n",
       "oname:hds_otype:lst_usecol:trgw_2_9_1_time:336.0    35.137489       0   \n",
       "oname:hds_otype:lst_usecol:trgw_2_9_1_time:367.0    35.381420       0   \n",
       "oname:hds_otype:lst_usecol:trgw_2_9_1_time:61.0     35.323971       0   \n",
       "oname:hds_otype:lst_usecol:trgw_2_9_1_time:92.0     35.373773       0   \n",
       "\n",
       "                                                                                     obgnme  \\\n",
       "oname:hds_otype:lst_usecol:trgw_0_13_10_time:1.0    oname:hds_otype:lst_usecol:trgw_0_13_10   \n",
       "oname:hds_otype:lst_usecol:trgw_0_13_10_time:122.0  oname:hds_otype:lst_usecol:trgw_0_13_10   \n",
       "oname:hds_otype:lst_usecol:trgw_0_13_10_time:153.0  oname:hds_otype:lst_usecol:trgw_0_13_10   \n",
       "oname:hds_otype:lst_usecol:trgw_0_13_10_time:183.0  oname:hds_otype:lst_usecol:trgw_0_13_10   \n",
       "oname:hds_otype:lst_usecol:trgw_0_13_10_time:214.0  oname:hds_otype:lst_usecol:trgw_0_13_10   \n",
       "...                                                                                     ...   \n",
       "oname:hds_otype:lst_usecol:trgw_2_9_1_time:32.0       oname:hds_otype:lst_usecol:trgw_2_9_1   \n",
       "oname:hds_otype:lst_usecol:trgw_2_9_1_time:336.0      oname:hds_otype:lst_usecol:trgw_2_9_1   \n",
       "oname:hds_otype:lst_usecol:trgw_2_9_1_time:367.0      oname:hds_otype:lst_usecol:trgw_2_9_1   \n",
       "oname:hds_otype:lst_usecol:trgw_2_9_1_time:61.0       oname:hds_otype:lst_usecol:trgw_2_9_1   \n",
       "oname:hds_otype:lst_usecol:trgw_2_9_1_time:92.0       oname:hds_otype:lst_usecol:trgw_2_9_1   \n",
       "\n",
       "                                                   oname otype usecol   time  \n",
       "oname:hds_otype:lst_usecol:trgw_0_13_10_time:1.0     hds   lst   trgw    1.0  \n",
       "oname:hds_otype:lst_usecol:trgw_0_13_10_time:122.0   hds   lst   trgw  122.0  \n",
       "oname:hds_otype:lst_usecol:trgw_0_13_10_time:153.0   hds   lst   trgw  153.0  \n",
       "oname:hds_otype:lst_usecol:trgw_0_13_10_time:183.0   hds   lst   trgw  183.0  \n",
       "oname:hds_otype:lst_usecol:trgw_0_13_10_time:214.0   hds   lst   trgw  214.0  \n",
       "...                                                  ...   ...    ...    ...  \n",
       "oname:hds_otype:lst_usecol:trgw_2_9_1_time:32.0      hds   lst   trgw   32.0  \n",
       "oname:hds_otype:lst_usecol:trgw_2_9_1_time:336.0     hds   lst   trgw  336.0  \n",
       "oname:hds_otype:lst_usecol:trgw_2_9_1_time:367.0     hds   lst   trgw  367.0  \n",
       "oname:hds_otype:lst_usecol:trgw_2_9_1_time:61.0      hds   lst   trgw   61.0  \n",
       "oname:hds_otype:lst_usecol:trgw_2_9_1_time:92.0      hds   lst   trgw   92.0  \n",
       "\n",
       "[338 rows x 8 columns]"
      ]
     },
     "execution_count": 109,
     "metadata": {},
     "output_type": "execute_result"
    }
   ],
   "source": [
    "obs.loc[(obs['oname']=='hds') & (obs['time'].astype(float) <= 367)]"
   ]
  },
  {
   "cell_type": "markdown",
   "metadata": {},
   "source": [
    "OK, so now let's use this to assign weights to each observation type. We will set weights to the inverse of the standard deviation of our measurement uncertainty (e.g. \"error-based weighting\").\n",
    "\n",
    "Let's say that stdevs for:\n",
    " - head measurements are 0.1m,\n",
    " - head time an vertical differences 0.01m\n",
    " - SFR direct and time-differnces will be 10% of the measured value (fancy-word alert: \"heteroscedasticity\")"
   ]
  },
  {
   "cell_type": "code",
   "execution_count": 110,
   "metadata": {
    "execution": {
     "iopub.execute_input": "2022-03-18T04:41:51.560913Z",
     "iopub.status.busy": "2022-03-18T04:41:51.559884Z",
     "iopub.status.idle": "2022-03-18T04:41:51.561879Z",
     "shell.execute_reply": "2022-03-18T04:41:51.561879Z"
    }
   },
   "outputs": [],
   "source": [
    "# direct head measurments\n",
    "obs.loc[(obs['oname']=='hds') & (obs['time'].astype(float) <= 367), 'weight'] = 1/0.1\n",
    "# head time differences\n",
    "obs.loc[(obs['oname']=='hdstd') & (obs['time'].astype(float) <= 367), 'weight'] = 1/0.01\n",
    "# head vertical differences\n",
    "obs.loc[(obs['oname']=='hdsvd') & (obs['time'].astype(float) <= 367), 'weight'] = 1/0.005 # This value should refelect the accuracy of field measurments; in our case, they are very precise. Using higher uncetainry results in too much oise; this is a specific to this synthetic case and should not be taken as guidance for real-world problems"
   ]
  },
  {
   "cell_type": "code",
   "execution_count": 111,
   "metadata": {
    "execution": {
     "iopub.execute_input": "2022-03-18T04:41:51.572850Z",
     "iopub.status.busy": "2022-03-18T04:41:51.571851Z",
     "iopub.status.idle": "2022-03-18T04:41:51.574844Z",
     "shell.execute_reply": "2022-03-18T04:41:51.574844Z"
    }
   },
   "outputs": [],
   "source": [
    "# SFR direct measurments\n",
    "weights = 1 / abs(0.1 * obs.loc[(obs['oname']=='sfr') & (obs['time'].astype(float) <= 367), 'obsval'].values)\n",
    "obs.loc[(obs['oname']=='sfr') & (obs['time'].astype(float) <= 367), 'weight'] = weights\n",
    "\n",
    "# SFR time-difference measurments; deal with the first observation value that is == 0\n",
    "weights = 1 / abs(0.1 * obs.loc[(obs['oname']=='sfrtd') & (obs['time'].astype(float) <= 367) &  (obs['obsval'] !=0) , 'obsval'].values)\n",
    "obs.loc[(obs['oname']=='sfrtd') & (obs['time'].astype(float) <= 367) &  (obs['obsval'] !=0), 'weight'] = weights"
   ]
  },
  {
   "cell_type": "markdown",
   "metadata": {},
   "source": [
    "As you can see, observation data weights have been updated:"
   ]
  },
  {
   "cell_type": "code",
   "execution_count": 112,
   "metadata": {
    "execution": {
     "iopub.execute_input": "2022-03-18T04:41:51.587809Z",
     "iopub.status.busy": "2022-03-18T04:41:51.586836Z",
     "iopub.status.idle": "2022-03-18T04:41:51.594818Z",
     "shell.execute_reply": "2022-03-18T04:41:51.593822Z"
    }
   },
   "outputs": [
    {
     "data": {
      "text/html": [
       "<div>\n",
       "<style scoped>\n",
       "    .dataframe tbody tr th:only-of-type {\n",
       "        vertical-align: middle;\n",
       "    }\n",
       "\n",
       "    .dataframe tbody tr th {\n",
       "        vertical-align: top;\n",
       "    }\n",
       "\n",
       "    .dataframe thead th {\n",
       "        text-align: right;\n",
       "    }\n",
       "</style>\n",
       "<table border=\"1\" class=\"dataframe\">\n",
       "  <thead>\n",
       "    <tr style=\"text-align: right;\">\n",
       "      <th></th>\n",
       "      <th>obsnme</th>\n",
       "      <th>obsval</th>\n",
       "      <th>weight</th>\n",
       "      <th>obgnme</th>\n",
       "      <th>oname</th>\n",
       "      <th>otype</th>\n",
       "      <th>usecol</th>\n",
       "      <th>time</th>\n",
       "    </tr>\n",
       "  </thead>\n",
       "  <tbody>\n",
       "    <tr>\n",
       "      <th>oname:hds_otype:lst_usecol:trgw_0_13_10_time:1.0</th>\n",
       "      <td>oname:hds_otype:lst_usecol:trgw_0_13_10_time:1.0</td>\n",
       "      <td>34.406181</td>\n",
       "      <td>10.000000</td>\n",
       "      <td>oname:hds_otype:lst_usecol:trgw_0_13_10</td>\n",
       "      <td>hds</td>\n",
       "      <td>lst</td>\n",
       "      <td>trgw</td>\n",
       "      <td>1.0</td>\n",
       "    </tr>\n",
       "    <tr>\n",
       "      <th>oname:hds_otype:lst_usecol:trgw_0_13_10_time:122.0</th>\n",
       "      <td>oname:hds_otype:lst_usecol:trgw_0_13_10_time:122.0</td>\n",
       "      <td>34.450661</td>\n",
       "      <td>10.000000</td>\n",
       "      <td>oname:hds_otype:lst_usecol:trgw_0_13_10</td>\n",
       "      <td>hds</td>\n",
       "      <td>lst</td>\n",
       "      <td>trgw</td>\n",
       "      <td>122.0</td>\n",
       "    </tr>\n",
       "    <tr>\n",
       "      <th>oname:hds_otype:lst_usecol:trgw_0_13_10_time:153.0</th>\n",
       "      <td>oname:hds_otype:lst_usecol:trgw_0_13_10_time:153.0</td>\n",
       "      <td>34.441799</td>\n",
       "      <td>10.000000</td>\n",
       "      <td>oname:hds_otype:lst_usecol:trgw_0_13_10</td>\n",
       "      <td>hds</td>\n",
       "      <td>lst</td>\n",
       "      <td>trgw</td>\n",
       "      <td>153.0</td>\n",
       "    </tr>\n",
       "    <tr>\n",
       "      <th>oname:hds_otype:lst_usecol:trgw_0_13_10_time:183.0</th>\n",
       "      <td>oname:hds_otype:lst_usecol:trgw_0_13_10_time:183.0</td>\n",
       "      <td>34.375622</td>\n",
       "      <td>10.000000</td>\n",
       "      <td>oname:hds_otype:lst_usecol:trgw_0_13_10</td>\n",
       "      <td>hds</td>\n",
       "      <td>lst</td>\n",
       "      <td>trgw</td>\n",
       "      <td>183.0</td>\n",
       "    </tr>\n",
       "    <tr>\n",
       "      <th>oname:hds_otype:lst_usecol:trgw_0_13_10_time:214.0</th>\n",
       "      <td>oname:hds_otype:lst_usecol:trgw_0_13_10_time:214.0</td>\n",
       "      <td>34.323056</td>\n",
       "      <td>10.000000</td>\n",
       "      <td>oname:hds_otype:lst_usecol:trgw_0_13_10</td>\n",
       "      <td>hds</td>\n",
       "      <td>lst</td>\n",
       "      <td>trgw</td>\n",
       "      <td>214.0</td>\n",
       "    </tr>\n",
       "    <tr>\n",
       "      <th>...</th>\n",
       "      <td>...</td>\n",
       "      <td>...</td>\n",
       "      <td>...</td>\n",
       "      <td>...</td>\n",
       "      <td>...</td>\n",
       "      <td>...</td>\n",
       "      <td>...</td>\n",
       "      <td>...</td>\n",
       "    </tr>\n",
       "    <tr>\n",
       "      <th>oname:sfrtd_otype:lst_usecol:tailwater_time:640.0</th>\n",
       "      <td>oname:sfrtd_otype:lst_usecol:tailwater_time:640.0</td>\n",
       "      <td>265.177000</td>\n",
       "      <td>0.000000</td>\n",
       "      <td>oname:sfrtd_otype:lst_usecol:tailwater</td>\n",
       "      <td>sfrtd</td>\n",
       "      <td>lst</td>\n",
       "      <td>tailwater</td>\n",
       "      <td>640.0</td>\n",
       "    </tr>\n",
       "    <tr>\n",
       "      <th>oname:sfrtd_otype:lst_usecol:tailwater_time:671.0</th>\n",
       "      <td>oname:sfrtd_otype:lst_usecol:tailwater_time:671.0</td>\n",
       "      <td>275.184000</td>\n",
       "      <td>0.000000</td>\n",
       "      <td>oname:sfrtd_otype:lst_usecol:tailwater</td>\n",
       "      <td>sfrtd</td>\n",
       "      <td>lst</td>\n",
       "      <td>tailwater</td>\n",
       "      <td>671.0</td>\n",
       "    </tr>\n",
       "    <tr>\n",
       "      <th>oname:sfrtd_otype:lst_usecol:tailwater_time:701.0</th>\n",
       "      <td>oname:sfrtd_otype:lst_usecol:tailwater_time:701.0</td>\n",
       "      <td>245.911000</td>\n",
       "      <td>0.000000</td>\n",
       "      <td>oname:sfrtd_otype:lst_usecol:tailwater</td>\n",
       "      <td>sfrtd</td>\n",
       "      <td>lst</td>\n",
       "      <td>tailwater</td>\n",
       "      <td>701.0</td>\n",
       "    </tr>\n",
       "    <tr>\n",
       "      <th>oname:sfrtd_otype:lst_usecol:tailwater_time:732.0</th>\n",
       "      <td>oname:sfrtd_otype:lst_usecol:tailwater_time:732.0</td>\n",
       "      <td>260.995000</td>\n",
       "      <td>0.000000</td>\n",
       "      <td>oname:sfrtd_otype:lst_usecol:tailwater</td>\n",
       "      <td>sfrtd</td>\n",
       "      <td>lst</td>\n",
       "      <td>tailwater</td>\n",
       "      <td>732.0</td>\n",
       "    </tr>\n",
       "    <tr>\n",
       "      <th>oname:sfrtd_otype:lst_usecol:tailwater_time:92.0</th>\n",
       "      <td>oname:sfrtd_otype:lst_usecol:tailwater_time:92.0</td>\n",
       "      <td>-94.160000</td>\n",
       "      <td>0.106202</td>\n",
       "      <td>oname:sfrtd_otype:lst_usecol:tailwater</td>\n",
       "      <td>sfrtd</td>\n",
       "      <td>lst</td>\n",
       "      <td>tailwater</td>\n",
       "      <td>92.0</td>\n",
       "    </tr>\n",
       "  </tbody>\n",
       "</table>\n",
       "<p>1775 rows × 8 columns</p>\n",
       "</div>"
      ],
      "text/plain": [
       "                                                                                                obsnme  \\\n",
       "oname:hds_otype:lst_usecol:trgw_0_13_10_time:1.0      oname:hds_otype:lst_usecol:trgw_0_13_10_time:1.0   \n",
       "oname:hds_otype:lst_usecol:trgw_0_13_10_time:122.0  oname:hds_otype:lst_usecol:trgw_0_13_10_time:122.0   \n",
       "oname:hds_otype:lst_usecol:trgw_0_13_10_time:153.0  oname:hds_otype:lst_usecol:trgw_0_13_10_time:153.0   \n",
       "oname:hds_otype:lst_usecol:trgw_0_13_10_time:183.0  oname:hds_otype:lst_usecol:trgw_0_13_10_time:183.0   \n",
       "oname:hds_otype:lst_usecol:trgw_0_13_10_time:214.0  oname:hds_otype:lst_usecol:trgw_0_13_10_time:214.0   \n",
       "...                                                                                                ...   \n",
       "oname:sfrtd_otype:lst_usecol:tailwater_time:640.0    oname:sfrtd_otype:lst_usecol:tailwater_time:640.0   \n",
       "oname:sfrtd_otype:lst_usecol:tailwater_time:671.0    oname:sfrtd_otype:lst_usecol:tailwater_time:671.0   \n",
       "oname:sfrtd_otype:lst_usecol:tailwater_time:701.0    oname:sfrtd_otype:lst_usecol:tailwater_time:701.0   \n",
       "oname:sfrtd_otype:lst_usecol:tailwater_time:732.0    oname:sfrtd_otype:lst_usecol:tailwater_time:732.0   \n",
       "oname:sfrtd_otype:lst_usecol:tailwater_time:92.0      oname:sfrtd_otype:lst_usecol:tailwater_time:92.0   \n",
       "\n",
       "                                                        obsval     weight  \\\n",
       "oname:hds_otype:lst_usecol:trgw_0_13_10_time:1.0     34.406181  10.000000   \n",
       "oname:hds_otype:lst_usecol:trgw_0_13_10_time:122.0   34.450661  10.000000   \n",
       "oname:hds_otype:lst_usecol:trgw_0_13_10_time:153.0   34.441799  10.000000   \n",
       "oname:hds_otype:lst_usecol:trgw_0_13_10_time:183.0   34.375622  10.000000   \n",
       "oname:hds_otype:lst_usecol:trgw_0_13_10_time:214.0   34.323056  10.000000   \n",
       "...                                                        ...        ...   \n",
       "oname:sfrtd_otype:lst_usecol:tailwater_time:640.0   265.177000   0.000000   \n",
       "oname:sfrtd_otype:lst_usecol:tailwater_time:671.0   275.184000   0.000000   \n",
       "oname:sfrtd_otype:lst_usecol:tailwater_time:701.0   245.911000   0.000000   \n",
       "oname:sfrtd_otype:lst_usecol:tailwater_time:732.0   260.995000   0.000000   \n",
       "oname:sfrtd_otype:lst_usecol:tailwater_time:92.0    -94.160000   0.106202   \n",
       "\n",
       "                                                                                     obgnme  \\\n",
       "oname:hds_otype:lst_usecol:trgw_0_13_10_time:1.0    oname:hds_otype:lst_usecol:trgw_0_13_10   \n",
       "oname:hds_otype:lst_usecol:trgw_0_13_10_time:122.0  oname:hds_otype:lst_usecol:trgw_0_13_10   \n",
       "oname:hds_otype:lst_usecol:trgw_0_13_10_time:153.0  oname:hds_otype:lst_usecol:trgw_0_13_10   \n",
       "oname:hds_otype:lst_usecol:trgw_0_13_10_time:183.0  oname:hds_otype:lst_usecol:trgw_0_13_10   \n",
       "oname:hds_otype:lst_usecol:trgw_0_13_10_time:214.0  oname:hds_otype:lst_usecol:trgw_0_13_10   \n",
       "...                                                                                     ...   \n",
       "oname:sfrtd_otype:lst_usecol:tailwater_time:640.0    oname:sfrtd_otype:lst_usecol:tailwater   \n",
       "oname:sfrtd_otype:lst_usecol:tailwater_time:671.0    oname:sfrtd_otype:lst_usecol:tailwater   \n",
       "oname:sfrtd_otype:lst_usecol:tailwater_time:701.0    oname:sfrtd_otype:lst_usecol:tailwater   \n",
       "oname:sfrtd_otype:lst_usecol:tailwater_time:732.0    oname:sfrtd_otype:lst_usecol:tailwater   \n",
       "oname:sfrtd_otype:lst_usecol:tailwater_time:92.0     oname:sfrtd_otype:lst_usecol:tailwater   \n",
       "\n",
       "                                                    oname otype     usecol  \\\n",
       "oname:hds_otype:lst_usecol:trgw_0_13_10_time:1.0      hds   lst       trgw   \n",
       "oname:hds_otype:lst_usecol:trgw_0_13_10_time:122.0    hds   lst       trgw   \n",
       "oname:hds_otype:lst_usecol:trgw_0_13_10_time:153.0    hds   lst       trgw   \n",
       "oname:hds_otype:lst_usecol:trgw_0_13_10_time:183.0    hds   lst       trgw   \n",
       "oname:hds_otype:lst_usecol:trgw_0_13_10_time:214.0    hds   lst       trgw   \n",
       "...                                                   ...   ...        ...   \n",
       "oname:sfrtd_otype:lst_usecol:tailwater_time:640.0   sfrtd   lst  tailwater   \n",
       "oname:sfrtd_otype:lst_usecol:tailwater_time:671.0   sfrtd   lst  tailwater   \n",
       "oname:sfrtd_otype:lst_usecol:tailwater_time:701.0   sfrtd   lst  tailwater   \n",
       "oname:sfrtd_otype:lst_usecol:tailwater_time:732.0   sfrtd   lst  tailwater   \n",
       "oname:sfrtd_otype:lst_usecol:tailwater_time:92.0    sfrtd   lst  tailwater   \n",
       "\n",
       "                                                     time  \n",
       "oname:hds_otype:lst_usecol:trgw_0_13_10_time:1.0      1.0  \n",
       "oname:hds_otype:lst_usecol:trgw_0_13_10_time:122.0  122.0  \n",
       "oname:hds_otype:lst_usecol:trgw_0_13_10_time:153.0  153.0  \n",
       "oname:hds_otype:lst_usecol:trgw_0_13_10_time:183.0  183.0  \n",
       "oname:hds_otype:lst_usecol:trgw_0_13_10_time:214.0  214.0  \n",
       "...                                                   ...  \n",
       "oname:sfrtd_otype:lst_usecol:tailwater_time:640.0   640.0  \n",
       "oname:sfrtd_otype:lst_usecol:tailwater_time:671.0   671.0  \n",
       "oname:sfrtd_otype:lst_usecol:tailwater_time:701.0   701.0  \n",
       "oname:sfrtd_otype:lst_usecol:tailwater_time:732.0   732.0  \n",
       "oname:sfrtd_otype:lst_usecol:tailwater_time:92.0     92.0  \n",
       "\n",
       "[1775 rows x 8 columns]"
      ]
     },
     "execution_count": 112,
     "metadata": {},
     "output_type": "execute_result"
    }
   ],
   "source": [
    "obs"
   ]
  },
  {
   "cell_type": "markdown",
   "metadata": {},
   "source": [
    "### 7.2. Parameter Group INCTYP\n",
    "\n",
    "Recall that we assigned additive parameters to the GHB heads. Our initial parameter values for these parameter types were set as 0 (zero). This creates a wee bit of trouble when calculating derivatives. There are a couple of ways we could get around it. One way is to add an \"offset\" to the parameter intial values and to the parmaeter bounds. Another is to use \"absolute\" increment types (INCTYP). See the PEST manual or PEST++ user guides for descriptions of increment types. \n",
    "\n",
    "We will apply the latter here. \n",
    "\n",
    "We will simply assign INCTYP as 'absolute'. We will leave DERINC as 0.01 (the default). It is a reasonable value in this case."
   ]
  },
  {
   "cell_type": "code",
   "execution_count": 113,
   "metadata": {},
   "outputs": [
    {
     "data": {
      "text/plain": [
       "['ghbhead_gr', 'ghbhead_cn']"
      ]
     },
     "execution_count": 113,
     "metadata": {},
     "output_type": "execute_result"
    }
   ],
   "source": [
    "head_pargps = [i for i in pst.adj_par_groups if 'head' in i]\n",
    "head_pargps"
   ]
  },
  {
   "cell_type": "code",
   "execution_count": 114,
   "metadata": {},
   "outputs": [],
   "source": [
    "pst.parameter_groups.loc[head_pargps, 'inctyp'] = 'absolute'"
   ]
  },
  {
   "cell_type": "markdown",
   "metadata": {},
   "source": [
    "#### 7.3. Forecasts\n",
    "\n",
    "**For most models there is a forecast/prediction that someone needs. Rather than waiting until the end of the project, the forecast should be entered into your thinking and workflow __right at the beginning__.**\n",
    "\n",
    "The optional PEST++ `++forecasts` control variable allows us to provide the names of one or more observations featured in the “observation data” section of the PEST control file; these are treated as predictions in FOSM predictive uncertainty analysis by `PEST++GLM`. It is also a convenient way to keep track of \"forecast\" observations (makes post-processing a wee bit easier later on).\n",
    "\n",
    "For our synthetic case, we are interested at looking at the forecasts of flux at each of the gaes and heads at one of the observation wells at the end of simulation. Let's add these observations to the `++forecasts` control varible. (Note: you cn always add/remove observations at a later stage.)\n"
   ]
  },
  {
   "cell_type": "code",
   "execution_count": 115,
   "metadata": {},
   "outputs": [
    {
     "data": {
      "text/plain": [
       "['oname:sfr_otype:lst_usecol:gage_1_time:732.0',\n",
       " 'oname:sfr_otype:lst_usecol:headwater_time:732.0',\n",
       " 'oname:sfr_otype:lst_usecol:tailwater_time:732.0']"
      ]
     },
     "execution_count": 115,
     "metadata": {},
     "output_type": "execute_result"
    }
   ],
   "source": [
    "obs = pst.observation_data\n",
    "\n",
    "# SFR observations\n",
    "forecasts = obs.loc[(obs['time']=='732.0') & (obs['oname']=='sfr'), 'obsnme'].tolist()\n",
    "forecasts"
   ]
  },
  {
   "cell_type": "code",
   "execution_count": 116,
   "metadata": {},
   "outputs": [
    {
     "data": {
      "text/plain": [
       "['oname:sfr_otype:lst_usecol:gage_1_time:732.0',\n",
       " 'oname:sfr_otype:lst_usecol:headwater_time:732.0',\n",
       " 'oname:sfr_otype:lst_usecol:tailwater_time:732.0',\n",
       " 'oname:hds_otype:lst_usecol:trgw_0_9_1_time:732.0',\n",
       " 'oname:hds_otype:lst_usecol:trgw_2_9_1_time:732.0']"
      ]
     },
     "execution_count": 116,
     "metadata": {},
     "output_type": "execute_result"
    }
   ],
   "source": [
    "# append shallow head\n",
    "forecasts.append( obs.loc[(obs['time']=='732.0') & \n",
    "                (obs['oname']=='hds') & \n",
    "                (obs['obgnme'].str.endswith('trgw_0_9_1')), 'obsnme'].values[0]\n",
    "                )\n",
    "# append deep head, same location\n",
    "forecasts.append( obs.loc[(obs['time']=='732.0') & \n",
    "                (obs['oname']=='hds') & \n",
    "                (obs['obgnme'].str.endswith('trgw_2_9_1')), 'obsnme'].values[0]\n",
    "                )\n",
    "\n",
    "forecasts"
   ]
  },
  {
   "cell_type": "code",
   "execution_count": 117,
   "metadata": {},
   "outputs": [],
   "source": [
    "pst.pestpp_options['forecasts'] = forecasts"
   ]
  },
  {
   "cell_type": "markdown",
   "metadata": {},
   "source": [
    "### 7.4. Re-write the Control File!"
   ]
  },
  {
   "cell_type": "markdown",
   "metadata": {},
   "source": [
    "Make sure to re-**write** the PEST control file. But beware, if you re-**build** the `Pst`, all these changes will be lost."
   ]
  },
  {
   "cell_type": "code",
   "execution_count": 118,
   "metadata": {
    "execution": {
     "iopub.execute_input": "2022-03-18T04:41:51.622752Z",
     "iopub.status.busy": "2022-03-18T04:41:51.621720Z",
     "iopub.status.idle": "2022-03-18T04:41:51.861196Z",
     "shell.execute_reply": "2022-03-18T04:41:51.861196Z"
    }
   },
   "outputs": [
    {
     "name": "stdout",
     "output_type": "stream",
     "text": [
      "noptmax:0, npar_adj:25454, nnz_obs:920\n"
     ]
    }
   ],
   "source": [
    "pst.write(os.path.join(template_ws, 'freyberg_mf6.pst'))"
   ]
  },
  {
   "cell_type": "markdown",
   "metadata": {},
   "source": [
    "So that was pretty epic. We now have a (very) high-dimensional PEST interface ready to roll. \n",
    "\n",
    "If you inspect the folder, you will see PEST control file and all the necessary instruction and template files. Because we have >10k parameters, version 2 of the PEST control file was written by default. \n",
    "\n",
    "Shall we check that it works? Let's run PEST once (i.e. with NOPTMAX=0). Now, by default, noptmax is set to zero. But just to check:"
   ]
  },
  {
   "cell_type": "code",
   "execution_count": 119,
   "metadata": {
    "execution": {
     "iopub.execute_input": "2022-03-18T04:41:51.865185Z",
     "iopub.status.busy": "2022-03-18T04:41:51.865185Z",
     "iopub.status.idle": "2022-03-18T04:41:51.869206Z",
     "shell.execute_reply": "2022-03-18T04:41:51.868177Z"
    }
   },
   "outputs": [
    {
     "data": {
      "text/plain": [
       "0"
      ]
     },
     "execution_count": 119,
     "metadata": {},
     "output_type": "execute_result"
    }
   ],
   "source": [
    "pst.control_data.noptmax"
   ]
  },
  {
   "cell_type": "markdown",
   "metadata": {},
   "source": [
    "OK, so when we run PEST it will call the model once and then stop. If the next cell is sucessfull, then eveything is working. Check the folder, you should see PEST output files. (We will go into these and how to process PEST outcomes in subsequent tutorials)."
   ]
  },
  {
   "cell_type": "code",
   "execution_count": 120,
   "metadata": {
    "execution": {
     "iopub.execute_input": "2022-03-18T04:41:51.872166Z",
     "iopub.status.busy": "2022-03-18T04:41:51.871169Z",
     "iopub.status.idle": "2022-03-18T04:42:03.692598Z",
     "shell.execute_reply": "2022-03-18T04:42:03.693594Z"
    }
   },
   "outputs": [],
   "source": [
    "pyemu.os_utils.run('pestpp-glm freyberg_mf6.pst', cwd=template_ws)"
   ]
  },
  {
   "cell_type": "markdown",
   "metadata": {},
   "source": [
    "### 8. Prior Parameter Covariance Matrix\n",
    "\n",
    "Before we go, let's take a look at our prior and sample from it to create a parameter ensemble. We will record the ensemble for future use."
   ]
  },
  {
   "cell_type": "code",
   "execution_count": 121,
   "metadata": {
    "execution": {
     "iopub.execute_input": "2022-03-18T04:42:03.701722Z",
     "iopub.status.busy": "2022-03-18T04:42:03.700575Z",
     "iopub.status.idle": "2022-03-18T04:42:36.122590Z",
     "shell.execute_reply": "2022-03-18T04:42:36.121565Z"
    }
   },
   "outputs": [
    {
     "data": {
      "image/png": "[encoded data removed]",
      "text/plain": [
       "<Figure size 432x288 with 1 Axes>"
      ]
     },
     "metadata": {
      "needs_background": "light"
     },
     "output_type": "display_data"
    }
   ],
   "source": [
    "# build the prior covariance matrix and store it as a compresed bianry file (otherwise it can get huge!)\n",
    "if pf.pst.npar < 35000:  #if you have more than about 35K pars, the cov matrix becomes hard to handle\n",
    "    cov = pf.build_prior(fmt='coo', filename=os.path.join(template_ws,\"prior_cov.jcb\"))\n",
    "    # and take a peek at a slice of the matrix\n",
    "    try: \n",
    "        x = cov.x.copy()\n",
    "        x[x==0] = np.NaN\n",
    "        plt.imshow(x[-49:,-49:])\n",
    "    except:\n",
    "        pass"
   ]
  },
  {
   "cell_type": "markdown",
   "metadata": {},
   "source": [
    "And now generate a prior parameter ensemble. This step is relevant for using pestpp-ies in subsequent tutorials."
   ]
  },
  {
   "cell_type": "code",
   "execution_count": 122,
   "metadata": {
    "execution": {
     "iopub.execute_input": "2022-03-18T04:42:36.130861Z",
     "iopub.status.busy": "2022-03-18T04:42:36.130861Z",
     "iopub.status.idle": "2022-03-18T04:42:49.074522Z",
     "shell.execute_reply": "2022-03-18T04:42:49.073533Z"
    }
   },
   "outputs": [
    {
     "name": "stdout",
     "output_type": "stream",
     "text": [
      "SpecSim.initialize() summary: full_delx X full_dely: 72 X 72\n",
      "SpecSim.initialize() summary: full_delx X full_dely: 72 X 72\n",
      "SpecSim.initialize() summary: full_delx X full_dely: 72 X 72\n",
      "SpecSim.initialize() summary: full_delx X full_dely: 72 X 72\n",
      "SpecSim.initialize() summary: full_delx X full_dely: 72 X 72\n",
      "SpecSim.initialize() summary: full_delx X full_dely: 72 X 72\n",
      "SpecSim.initialize() summary: full_delx X full_dely: 72 X 72\n",
      "SpecSim.initialize() summary: full_delx X full_dely: 72 X 72\n",
      "SpecSim.initialize() summary: full_delx X full_dely: 72 X 72\n",
      "SpecSim.initialize() summary: full_delx X full_dely: 72 X 72\n",
      "SpecSim.initialize() summary: full_delx X full_dely: 72 X 72\n",
      "SpecSim.initialize() summary: full_delx X full_dely: 72 X 72\n",
      "SpecSim.initialize() summary: full_delx X full_dely: 72 X 72\n",
      "SpecSim.initialize() summary: full_delx X full_dely: 72 X 72\n",
      "SpecSim.initialize() summary: full_delx X full_dely: 72 X 72\n",
      "SpecSim.initialize() summary: full_delx X full_dely: 72 X 72\n",
      "SpecSim.initialize() summary: full_delx X full_dely: 72 X 72\n",
      "SpecSim.initialize() summary: full_delx X full_dely: 72 X 72\n",
      "SpecSim.initialize() summary: full_delx X full_dely: 72 X 72\n",
      "SpecSim.initialize() summary: full_delx X full_dely: 72 X 72\n",
      "SpecSim.initialize() summary: full_delx X full_dely: 72 X 72\n",
      "SpecSim.initialize() summary: full_delx X full_dely: 72 X 72\n",
      "SpecSim.initialize() summary: full_delx X full_dely: 72 X 72\n",
      "SpecSim.initialize() summary: full_delx X full_dely: 72 X 72\n",
      "SpecSim.initialize() summary: full_delx X full_dely: 72 X 72\n",
      "SpecSim.initialize() summary: full_delx X full_dely: 72 X 72\n",
      "SpecSim.initialize() summary: full_delx X full_dely: 72 X 72\n",
      "SpecSim.initialize() summary: full_delx X full_dely: 72 X 72\n",
      "SpecSim.initialize() summary: full_delx X full_dely: 72 X 72\n",
      "SpecSim.initialize() summary: full_delx X full_dely: 72 X 72\n",
      "SpecSim.initialize() summary: full_delx X full_dely: 72 X 72\n",
      "SpecSim.initialize() summary: full_delx X full_dely: 72 X 72\n",
      "SpecSim.initialize() summary: full_delx X full_dely: 72 X 72\n",
      "SpecSim.initialize() summary: full_delx X full_dely: 72 X 72\n",
      "SpecSim.initialize() summary: full_delx X full_dely: 72 X 72\n",
      "SpecSim.initialize() summary: full_delx X full_dely: 72 X 72\n",
      "building diagonal cov\n",
      "processing  name:struct1,nugget:0.0,structures:\n",
      "name:var1,contribution:1.0,a:1000.0,anisotropy:1.0,bearing:0.0\n",
      "\n",
      "working on pargroups ['npf_k_layer1_pp']\n",
      "build cov matrix\n",
      "done\n",
      "getting diag var cov 32\n",
      "scaling full cov by diag var cov\n",
      "working on pargroups ['npf_k_layer2_pp']\n",
      "build cov matrix\n",
      "done\n",
      "getting diag var cov 32\n",
      "scaling full cov by diag var cov\n",
      "working on pargroups ['npf_k_layer3_pp']\n",
      "build cov matrix\n",
      "done\n",
      "getting diag var cov 32\n",
      "scaling full cov by diag var cov\n",
      "working on pargroups ['npf_k33_layer1_pp']\n",
      "build cov matrix\n",
      "done\n",
      "getting diag var cov 32\n",
      "scaling full cov by diag var cov\n",
      "working on pargroups ['npf_k33_layer2_pp']\n",
      "build cov matrix\n",
      "done\n",
      "getting diag var cov 32\n",
      "scaling full cov by diag var cov\n",
      "working on pargroups ['npf_k33_layer3_pp']\n",
      "build cov matrix\n",
      "done\n",
      "getting diag var cov 32\n",
      "scaling full cov by diag var cov\n",
      "working on pargroups ['sto_ss_layer2_pp']\n",
      "build cov matrix\n",
      "done\n",
      "getting diag var cov 32\n",
      "scaling full cov by diag var cov\n",
      "working on pargroups ['sto_ss_layer3_pp']\n",
      "build cov matrix\n",
      "done\n",
      "getting diag var cov 32\n",
      "scaling full cov by diag var cov\n",
      "working on pargroups ['sto_sy_layer1_pp']\n",
      "build cov matrix\n",
      "done\n",
      "getting diag var cov 32\n",
      "scaling full cov by diag var cov\n",
      "working on pargroups ['rch_recharge_1_pp']\n",
      "build cov matrix\n",
      "done\n",
      "getting diag var cov 32\n",
      "scaling full cov by diag var cov\n",
      "working on pargroups ['rch_recharge_10_pp']\n",
      "build cov matrix\n",
      "done\n",
      "getting diag var cov 32\n",
      "scaling full cov by diag var cov\n",
      "working on pargroups ['rch_recharge_11_pp']\n",
      "build cov matrix\n",
      "done\n",
      "getting diag var cov 32\n",
      "scaling full cov by diag var cov\n",
      "working on pargroups ['rch_recharge_12_pp']\n",
      "build cov matrix\n",
      "done\n",
      "getting diag var cov 32\n",
      "scaling full cov by diag var cov\n",
      "working on pargroups ['rch_recharge_13_pp']\n",
      "build cov matrix\n",
      "done\n",
      "getting diag var cov 32\n",
      "scaling full cov by diag var cov\n",
      "working on pargroups ['rch_recharge_14_pp']\n",
      "build cov matrix\n",
      "done\n",
      "getting diag var cov 32\n",
      "scaling full cov by diag var cov\n",
      "working on pargroups ['rch_recharge_15_pp']\n",
      "build cov matrix\n",
      "done\n",
      "getting diag var cov 32\n",
      "scaling full cov by diag var cov\n",
      "working on pargroups ['rch_recharge_16_pp']\n",
      "build cov matrix\n",
      "done\n",
      "getting diag var cov 32\n",
      "scaling full cov by diag var cov\n",
      "working on pargroups ['rch_recharge_17_pp']\n",
      "build cov matrix\n",
      "done\n",
      "getting diag var cov 32\n",
      "scaling full cov by diag var cov\n",
      "working on pargroups ['rch_recharge_18_pp']\n",
      "build cov matrix\n",
      "done\n",
      "getting diag var cov 32\n",
      "scaling full cov by diag var cov\n",
      "working on pargroups ['rch_recharge_19_pp']\n",
      "build cov matrix\n",
      "done\n",
      "getting diag var cov 32\n",
      "scaling full cov by diag var cov\n",
      "working on pargroups ['rch_recharge_2_pp']\n",
      "build cov matrix\n",
      "done\n",
      "getting diag var cov 32\n",
      "scaling full cov by diag var cov\n",
      "working on pargroups ['rch_recharge_20_pp']\n",
      "build cov matrix\n",
      "done\n",
      "getting diag var cov 32\n",
      "scaling full cov by diag var cov\n",
      "working on pargroups ['rch_recharge_21_pp']\n",
      "build cov matrix\n",
      "done\n",
      "getting diag var cov 32\n",
      "scaling full cov by diag var cov\n",
      "working on pargroups ['rch_recharge_22_pp']\n",
      "build cov matrix\n",
      "done\n",
      "getting diag var cov 32\n",
      "scaling full cov by diag var cov\n",
      "working on pargroups ['rch_recharge_23_pp']\n",
      "build cov matrix\n",
      "done\n",
      "getting diag var cov 32\n",
      "scaling full cov by diag var cov\n",
      "working on pargroups ['rch_recharge_24_pp']\n",
      "build cov matrix\n",
      "done\n",
      "getting diag var cov 32\n",
      "scaling full cov by diag var cov\n",
      "working on pargroups ['rch_recharge_25_pp']\n",
      "build cov matrix\n",
      "done\n",
      "getting diag var cov 32\n",
      "scaling full cov by diag var cov\n",
      "working on pargroups ['rch_recharge_3_pp']\n",
      "build cov matrix\n",
      "done\n",
      "getting diag var cov 32\n",
      "scaling full cov by diag var cov\n",
      "working on pargroups ['rch_recharge_4_pp']\n",
      "build cov matrix\n",
      "done\n",
      "getting diag var cov 32\n",
      "scaling full cov by diag var cov\n",
      "working on pargroups ['rch_recharge_5_pp']\n",
      "build cov matrix\n",
      "done\n",
      "getting diag var cov 32\n",
      "scaling full cov by diag var cov\n",
      "working on pargroups ['rch_recharge_6_pp']\n",
      "build cov matrix\n",
      "done\n",
      "getting diag var cov 32\n",
      "scaling full cov by diag var cov\n",
      "working on pargroups ['rch_recharge_7_pp']\n",
      "build cov matrix\n",
      "done\n",
      "getting diag var cov 32\n",
      "scaling full cov by diag var cov\n",
      "working on pargroups ['rch_recharge_8_pp']\n",
      "build cov matrix\n",
      "done\n",
      "getting diag var cov 32\n",
      "scaling full cov by diag var cov\n",
      "working on pargroups ['rch_recharge_9_pp']\n",
      "build cov matrix\n",
      "done\n",
      "getting diag var cov 32\n",
      "scaling full cov by diag var cov\n",
      "working on pargroups ['ghbcond_gr']\n",
      "build cov matrix\n",
      "done\n",
      "getting diag var cov 10\n",
      "scaling full cov by diag var cov\n",
      "working on pargroups ['ghbcond_gr']\n",
      "build cov matrix\n",
      "done\n",
      "getting diag var cov 10\n",
      "scaling full cov by diag var cov\n",
      "working on pargroups ['ghbcond_gr']\n",
      "build cov matrix\n",
      "done\n",
      "getting diag var cov 10\n",
      "scaling full cov by diag var cov\n",
      "working on pargroups ['sfrcond_gr']\n",
      "build cov matrix\n",
      "done\n",
      "getting diag var cov 40\n",
      "scaling full cov by diag var cov\n",
      "processing  name:struct1,nugget:0.0,structures:\n",
      "name:var1,contribution:1.0,a:60.0,anisotropy:1.0,bearing:0.0\n",
      "\n",
      "working on pargroups ['wel_cst']\n",
      "build cov matrix\n",
      "done\n",
      "getting diag var cov 25\n",
      "scaling full cov by diag var cov\n",
      "working on pargroups ['sfr_gr']\n",
      "build cov matrix\n",
      "done\n",
      "getting diag var cov 25\n",
      "scaling full cov by diag var cov\n",
      "processing  name:struct1,nugget:0.0,structures:\n",
      "name:var1,contribution:1.0,a:1000.0,anisotropy:1.0,bearing:0.0\n",
      "\n",
      "working on pargroups ['ghbhead_gr']\n",
      "build cov matrix\n",
      "done\n",
      "getting diag var cov 10\n",
      "scaling full cov by diag var cov\n",
      "working on pargroups ['ghbhead_gr']\n",
      "build cov matrix\n",
      "done\n",
      "getting diag var cov 10\n",
      "scaling full cov by diag var cov\n",
      "working on pargroups ['ghbhead_gr']\n",
      "build cov matrix\n",
      "done\n",
      "getting diag var cov 10\n",
      "scaling full cov by diag var cov\n",
      "adding remaining parameters to diagonal\n"
     ]
    }
   ],
   "source": [
    "pe = pf.draw(num_reals=100, use_specsim=True) # draw parameters from the prior distribution\n",
    "pe.enforce() # enforces parameter bounds\n",
    "pe.to_binary(os.path.join(template_ws,\"prior_pe.jcb\")) #writes the paramter ensemble to binary file\n"
   ]
  },
  {
   "cell_type": "markdown",
   "metadata": {},
   "source": [
    "### 9. Observation Uncertainty Covariance Matrix\n",
    "\n",
    "Lastly, not so common, let's also generate our observation covariance matrix. Often this step is omitted, in particular if the observation weights in the `* observation data` section reflect observation uncertainty. Here we will implement it expressly so as to:\n",
    "\n",
    " - make life easier for the authors to organize the tutorial notebooks;\n",
    " - because we are going to be fiddlying around with the observation weights later on, and this  way we keep a \"backup\" of our observation uncertainty;\n",
    " - and to demonstrate how to add autocorrelated transient noise! When is the last time you saw that in the wild?\n",
    "\n",
    "First let us start by generating a covariance matrix, using the weights recorded in the `pst.observation_data` section. This is accomplished with `pyemu.Cov.from_observation_data()`. This will generate a covariance matrix for **all** observations in the control file, even the zero-weighted ones. \n",
    "\n",
    "However, we are only interested in keep the non-zero weighted observations. We can use `pyemu` convenient Matrix manipulation functions to `.get()` the covariance matrix rows/columns that we are interested in."
   ]
  },
  {
   "cell_type": "code",
   "execution_count": 123,
   "metadata": {
    "execution": {
     "iopub.execute_input": "2022-03-18T04:42:49.094462Z",
     "iopub.status.busy": "2022-03-18T04:42:49.093434Z",
     "iopub.status.idle": "2022-03-18T04:42:49.162248Z",
     "shell.execute_reply": "2022-03-18T04:42:49.162248Z"
    }
   },
   "outputs": [
    {
     "data": {
      "text/html": [
       "<div>\n",
       "<style scoped>\n",
       "    .dataframe tbody tr th:only-of-type {\n",
       "        vertical-align: middle;\n",
       "    }\n",
       "\n",
       "    .dataframe tbody tr th {\n",
       "        vertical-align: top;\n",
       "    }\n",
       "\n",
       "    .dataframe thead th {\n",
       "        text-align: right;\n",
       "    }\n",
       "</style>\n",
       "<table border=\"1\" class=\"dataframe\">\n",
       "  <thead>\n",
       "    <tr style=\"text-align: right;\">\n",
       "      <th></th>\n",
       "      <th>oname:hds_otype:lst_usecol:trgw_0_13_10_time:1.0</th>\n",
       "      <th>oname:hds_otype:lst_usecol:trgw_0_13_10_time:122.0</th>\n",
       "      <th>oname:hds_otype:lst_usecol:trgw_0_13_10_time:153.0</th>\n",
       "      <th>oname:hds_otype:lst_usecol:trgw_0_13_10_time:183.0</th>\n",
       "      <th>oname:hds_otype:lst_usecol:trgw_0_13_10_time:214.0</th>\n",
       "      <th>oname:hds_otype:lst_usecol:trgw_0_13_10_time:245.0</th>\n",
       "      <th>oname:hds_otype:lst_usecol:trgw_0_13_10_time:275.0</th>\n",
       "      <th>oname:hds_otype:lst_usecol:trgw_0_13_10_time:306.0</th>\n",
       "      <th>oname:hds_otype:lst_usecol:trgw_0_13_10_time:32.0</th>\n",
       "      <th>oname:hds_otype:lst_usecol:trgw_0_13_10_time:336.0</th>\n",
       "      <th>...</th>\n",
       "      <th>oname:sfrtd_otype:lst_usecol:tailwater_time:183.0</th>\n",
       "      <th>oname:sfrtd_otype:lst_usecol:tailwater_time:214.0</th>\n",
       "      <th>oname:sfrtd_otype:lst_usecol:tailwater_time:245.0</th>\n",
       "      <th>oname:sfrtd_otype:lst_usecol:tailwater_time:275.0</th>\n",
       "      <th>oname:sfrtd_otype:lst_usecol:tailwater_time:306.0</th>\n",
       "      <th>oname:sfrtd_otype:lst_usecol:tailwater_time:32.0</th>\n",
       "      <th>oname:sfrtd_otype:lst_usecol:tailwater_time:336.0</th>\n",
       "      <th>oname:sfrtd_otype:lst_usecol:tailwater_time:367.0</th>\n",
       "      <th>oname:sfrtd_otype:lst_usecol:tailwater_time:61.0</th>\n",
       "      <th>oname:sfrtd_otype:lst_usecol:tailwater_time:92.0</th>\n",
       "    </tr>\n",
       "  </thead>\n",
       "  <tbody>\n",
       "    <tr>\n",
       "      <th>oname:hds_otype:lst_usecol:trgw_0_13_10_time:1.0</th>\n",
       "      <td>0.01</td>\n",
       "      <td>0.00</td>\n",
       "      <td>0.00</td>\n",
       "      <td>0.00</td>\n",
       "      <td>0.00</td>\n",
       "      <td>0.0</td>\n",
       "      <td>0.0</td>\n",
       "      <td>0.0</td>\n",
       "      <td>0.0</td>\n",
       "      <td>0.0</td>\n",
       "      <td>...</td>\n",
       "      <td>0.0</td>\n",
       "      <td>0.0</td>\n",
       "      <td>0.0</td>\n",
       "      <td>0.0</td>\n",
       "      <td>0.0</td>\n",
       "      <td>0.0</td>\n",
       "      <td>0.0</td>\n",
       "      <td>0.0</td>\n",
       "      <td>0.0</td>\n",
       "      <td>0.0</td>\n",
       "    </tr>\n",
       "    <tr>\n",
       "      <th>oname:hds_otype:lst_usecol:trgw_0_13_10_time:122.0</th>\n",
       "      <td>0.00</td>\n",
       "      <td>0.01</td>\n",
       "      <td>0.00</td>\n",
       "      <td>0.00</td>\n",
       "      <td>0.00</td>\n",
       "      <td>0.0</td>\n",
       "      <td>0.0</td>\n",
       "      <td>0.0</td>\n",
       "      <td>0.0</td>\n",
       "      <td>0.0</td>\n",
       "      <td>...</td>\n",
       "      <td>0.0</td>\n",
       "      <td>0.0</td>\n",
       "      <td>0.0</td>\n",
       "      <td>0.0</td>\n",
       "      <td>0.0</td>\n",
       "      <td>0.0</td>\n",
       "      <td>0.0</td>\n",
       "      <td>0.0</td>\n",
       "      <td>0.0</td>\n",
       "      <td>0.0</td>\n",
       "    </tr>\n",
       "    <tr>\n",
       "      <th>oname:hds_otype:lst_usecol:trgw_0_13_10_time:153.0</th>\n",
       "      <td>0.00</td>\n",
       "      <td>0.00</td>\n",
       "      <td>0.01</td>\n",
       "      <td>0.00</td>\n",
       "      <td>0.00</td>\n",
       "      <td>0.0</td>\n",
       "      <td>0.0</td>\n",
       "      <td>0.0</td>\n",
       "      <td>0.0</td>\n",
       "      <td>0.0</td>\n",
       "      <td>...</td>\n",
       "      <td>0.0</td>\n",
       "      <td>0.0</td>\n",
       "      <td>0.0</td>\n",
       "      <td>0.0</td>\n",
       "      <td>0.0</td>\n",
       "      <td>0.0</td>\n",
       "      <td>0.0</td>\n",
       "      <td>0.0</td>\n",
       "      <td>0.0</td>\n",
       "      <td>0.0</td>\n",
       "    </tr>\n",
       "    <tr>\n",
       "      <th>oname:hds_otype:lst_usecol:trgw_0_13_10_time:183.0</th>\n",
       "      <td>0.00</td>\n",
       "      <td>0.00</td>\n",
       "      <td>0.00</td>\n",
       "      <td>0.01</td>\n",
       "      <td>0.00</td>\n",
       "      <td>0.0</td>\n",
       "      <td>0.0</td>\n",
       "      <td>0.0</td>\n",
       "      <td>0.0</td>\n",
       "      <td>0.0</td>\n",
       "      <td>...</td>\n",
       "      <td>0.0</td>\n",
       "      <td>0.0</td>\n",
       "      <td>0.0</td>\n",
       "      <td>0.0</td>\n",
       "      <td>0.0</td>\n",
       "      <td>0.0</td>\n",
       "      <td>0.0</td>\n",
       "      <td>0.0</td>\n",
       "      <td>0.0</td>\n",
       "      <td>0.0</td>\n",
       "    </tr>\n",
       "    <tr>\n",
       "      <th>oname:hds_otype:lst_usecol:trgw_0_13_10_time:214.0</th>\n",
       "      <td>0.00</td>\n",
       "      <td>0.00</td>\n",
       "      <td>0.00</td>\n",
       "      <td>0.00</td>\n",
       "      <td>0.01</td>\n",
       "      <td>0.0</td>\n",
       "      <td>0.0</td>\n",
       "      <td>0.0</td>\n",
       "      <td>0.0</td>\n",
       "      <td>0.0</td>\n",
       "      <td>...</td>\n",
       "      <td>0.0</td>\n",
       "      <td>0.0</td>\n",
       "      <td>0.0</td>\n",
       "      <td>0.0</td>\n",
       "      <td>0.0</td>\n",
       "      <td>0.0</td>\n",
       "      <td>0.0</td>\n",
       "      <td>0.0</td>\n",
       "      <td>0.0</td>\n",
       "      <td>0.0</td>\n",
       "    </tr>\n",
       "  </tbody>\n",
       "</table>\n",
       "<p>5 rows × 920 columns</p>\n",
       "</div>"
      ],
      "text/plain": [
       "                                                    oname:hds_otype:lst_usecol:trgw_0_13_10_time:1.0  \\\n",
       "oname:hds_otype:lst_usecol:trgw_0_13_10_time:1.0                                                0.01   \n",
       "oname:hds_otype:lst_usecol:trgw_0_13_10_time:122.0                                              0.00   \n",
       "oname:hds_otype:lst_usecol:trgw_0_13_10_time:153.0                                              0.00   \n",
       "oname:hds_otype:lst_usecol:trgw_0_13_10_time:183.0                                              0.00   \n",
       "oname:hds_otype:lst_usecol:trgw_0_13_10_time:214.0                                              0.00   \n",
       "\n",
       "                                                    oname:hds_otype:lst_usecol:trgw_0_13_10_time:122.0  \\\n",
       "oname:hds_otype:lst_usecol:trgw_0_13_10_time:1.0                                                  0.00   \n",
       "oname:hds_otype:lst_usecol:trgw_0_13_10_time:122.0                                                0.01   \n",
       "oname:hds_otype:lst_usecol:trgw_0_13_10_time:153.0                                                0.00   \n",
       "oname:hds_otype:lst_usecol:trgw_0_13_10_time:183.0                                                0.00   \n",
       "oname:hds_otype:lst_usecol:trgw_0_13_10_time:214.0                                                0.00   \n",
       "\n",
       "                                                    oname:hds_otype:lst_usecol:trgw_0_13_10_time:153.0  \\\n",
       "oname:hds_otype:lst_usecol:trgw_0_13_10_time:1.0                                                  0.00   \n",
       "oname:hds_otype:lst_usecol:trgw_0_13_10_time:122.0                                                0.00   \n",
       "oname:hds_otype:lst_usecol:trgw_0_13_10_time:153.0                                                0.01   \n",
       "oname:hds_otype:lst_usecol:trgw_0_13_10_time:183.0                                                0.00   \n",
       "oname:hds_otype:lst_usecol:trgw_0_13_10_time:214.0                                                0.00   \n",
       "\n",
       "                                                    oname:hds_otype:lst_usecol:trgw_0_13_10_time:183.0  \\\n",
       "oname:hds_otype:lst_usecol:trgw_0_13_10_time:1.0                                                  0.00   \n",
       "oname:hds_otype:lst_usecol:trgw_0_13_10_time:122.0                                                0.00   \n",
       "oname:hds_otype:lst_usecol:trgw_0_13_10_time:153.0                                                0.00   \n",
       "oname:hds_otype:lst_usecol:trgw_0_13_10_time:183.0                                                0.01   \n",
       "oname:hds_otype:lst_usecol:trgw_0_13_10_time:214.0                                                0.00   \n",
       "\n",
       "                                                    oname:hds_otype:lst_usecol:trgw_0_13_10_time:214.0  \\\n",
       "oname:hds_otype:lst_usecol:trgw_0_13_10_time:1.0                                                  0.00   \n",
       "oname:hds_otype:lst_usecol:trgw_0_13_10_time:122.0                                                0.00   \n",
       "oname:hds_otype:lst_usecol:trgw_0_13_10_time:153.0                                                0.00   \n",
       "oname:hds_otype:lst_usecol:trgw_0_13_10_time:183.0                                                0.00   \n",
       "oname:hds_otype:lst_usecol:trgw_0_13_10_time:214.0                                                0.01   \n",
       "\n",
       "                                                    oname:hds_otype:lst_usecol:trgw_0_13_10_time:245.0  \\\n",
       "oname:hds_otype:lst_usecol:trgw_0_13_10_time:1.0                                                   0.0   \n",
       "oname:hds_otype:lst_usecol:trgw_0_13_10_time:122.0                                                 0.0   \n",
       "oname:hds_otype:lst_usecol:trgw_0_13_10_time:153.0                                                 0.0   \n",
       "oname:hds_otype:lst_usecol:trgw_0_13_10_time:183.0                                                 0.0   \n",
       "oname:hds_otype:lst_usecol:trgw_0_13_10_time:214.0                                                 0.0   \n",
       "\n",
       "                                                    oname:hds_otype:lst_usecol:trgw_0_13_10_time:275.0  \\\n",
       "oname:hds_otype:lst_usecol:trgw_0_13_10_time:1.0                                                   0.0   \n",
       "oname:hds_otype:lst_usecol:trgw_0_13_10_time:122.0                                                 0.0   \n",
       "oname:hds_otype:lst_usecol:trgw_0_13_10_time:153.0                                                 0.0   \n",
       "oname:hds_otype:lst_usecol:trgw_0_13_10_time:183.0                                                 0.0   \n",
       "oname:hds_otype:lst_usecol:trgw_0_13_10_time:214.0                                                 0.0   \n",
       "\n",
       "                                                    oname:hds_otype:lst_usecol:trgw_0_13_10_time:306.0  \\\n",
       "oname:hds_otype:lst_usecol:trgw_0_13_10_time:1.0                                                   0.0   \n",
       "oname:hds_otype:lst_usecol:trgw_0_13_10_time:122.0                                                 0.0   \n",
       "oname:hds_otype:lst_usecol:trgw_0_13_10_time:153.0                                                 0.0   \n",
       "oname:hds_otype:lst_usecol:trgw_0_13_10_time:183.0                                                 0.0   \n",
       "oname:hds_otype:lst_usecol:trgw_0_13_10_time:214.0                                                 0.0   \n",
       "\n",
       "                                                    oname:hds_otype:lst_usecol:trgw_0_13_10_time:32.0  \\\n",
       "oname:hds_otype:lst_usecol:trgw_0_13_10_time:1.0                                                  0.0   \n",
       "oname:hds_otype:lst_usecol:trgw_0_13_10_time:122.0                                                0.0   \n",
       "oname:hds_otype:lst_usecol:trgw_0_13_10_time:153.0                                                0.0   \n",
       "oname:hds_otype:lst_usecol:trgw_0_13_10_time:183.0                                                0.0   \n",
       "oname:hds_otype:lst_usecol:trgw_0_13_10_time:214.0                                                0.0   \n",
       "\n",
       "                                                    oname:hds_otype:lst_usecol:trgw_0_13_10_time:336.0  \\\n",
       "oname:hds_otype:lst_usecol:trgw_0_13_10_time:1.0                                                   0.0   \n",
       "oname:hds_otype:lst_usecol:trgw_0_13_10_time:122.0                                                 0.0   \n",
       "oname:hds_otype:lst_usecol:trgw_0_13_10_time:153.0                                                 0.0   \n",
       "oname:hds_otype:lst_usecol:trgw_0_13_10_time:183.0                                                 0.0   \n",
       "oname:hds_otype:lst_usecol:trgw_0_13_10_time:214.0                                                 0.0   \n",
       "\n",
       "                                                    ...  \\\n",
       "oname:hds_otype:lst_usecol:trgw_0_13_10_time:1.0    ...   \n",
       "oname:hds_otype:lst_usecol:trgw_0_13_10_time:122.0  ...   \n",
       "oname:hds_otype:lst_usecol:trgw_0_13_10_time:153.0  ...   \n",
       "oname:hds_otype:lst_usecol:trgw_0_13_10_time:183.0  ...   \n",
       "oname:hds_otype:lst_usecol:trgw_0_13_10_time:214.0  ...   \n",
       "\n",
       "                                                    oname:sfrtd_otype:lst_usecol:tailwater_time:183.0  \\\n",
       "oname:hds_otype:lst_usecol:trgw_0_13_10_time:1.0                                                  0.0   \n",
       "oname:hds_otype:lst_usecol:trgw_0_13_10_time:122.0                                                0.0   \n",
       "oname:hds_otype:lst_usecol:trgw_0_13_10_time:153.0                                                0.0   \n",
       "oname:hds_otype:lst_usecol:trgw_0_13_10_time:183.0                                                0.0   \n",
       "oname:hds_otype:lst_usecol:trgw_0_13_10_time:214.0                                                0.0   \n",
       "\n",
       "                                                    oname:sfrtd_otype:lst_usecol:tailwater_time:214.0  \\\n",
       "oname:hds_otype:lst_usecol:trgw_0_13_10_time:1.0                                                  0.0   \n",
       "oname:hds_otype:lst_usecol:trgw_0_13_10_time:122.0                                                0.0   \n",
       "oname:hds_otype:lst_usecol:trgw_0_13_10_time:153.0                                                0.0   \n",
       "oname:hds_otype:lst_usecol:trgw_0_13_10_time:183.0                                                0.0   \n",
       "oname:hds_otype:lst_usecol:trgw_0_13_10_time:214.0                                                0.0   \n",
       "\n",
       "                                                    oname:sfrtd_otype:lst_usecol:tailwater_time:245.0  \\\n",
       "oname:hds_otype:lst_usecol:trgw_0_13_10_time:1.0                                                  0.0   \n",
       "oname:hds_otype:lst_usecol:trgw_0_13_10_time:122.0                                                0.0   \n",
       "oname:hds_otype:lst_usecol:trgw_0_13_10_time:153.0                                                0.0   \n",
       "oname:hds_otype:lst_usecol:trgw_0_13_10_time:183.0                                                0.0   \n",
       "oname:hds_otype:lst_usecol:trgw_0_13_10_time:214.0                                                0.0   \n",
       "\n",
       "                                                    oname:sfrtd_otype:lst_usecol:tailwater_time:275.0  \\\n",
       "oname:hds_otype:lst_usecol:trgw_0_13_10_time:1.0                                                  0.0   \n",
       "oname:hds_otype:lst_usecol:trgw_0_13_10_time:122.0                                                0.0   \n",
       "oname:hds_otype:lst_usecol:trgw_0_13_10_time:153.0                                                0.0   \n",
       "oname:hds_otype:lst_usecol:trgw_0_13_10_time:183.0                                                0.0   \n",
       "oname:hds_otype:lst_usecol:trgw_0_13_10_time:214.0                                                0.0   \n",
       "\n",
       "                                                    oname:sfrtd_otype:lst_usecol:tailwater_time:306.0  \\\n",
       "oname:hds_otype:lst_usecol:trgw_0_13_10_time:1.0                                                  0.0   \n",
       "oname:hds_otype:lst_usecol:trgw_0_13_10_time:122.0                                                0.0   \n",
       "oname:hds_otype:lst_usecol:trgw_0_13_10_time:153.0                                                0.0   \n",
       "oname:hds_otype:lst_usecol:trgw_0_13_10_time:183.0                                                0.0   \n",
       "oname:hds_otype:lst_usecol:trgw_0_13_10_time:214.0                                                0.0   \n",
       "\n",
       "                                                    oname:sfrtd_otype:lst_usecol:tailwater_time:32.0  \\\n",
       "oname:hds_otype:lst_usecol:trgw_0_13_10_time:1.0                                                 0.0   \n",
       "oname:hds_otype:lst_usecol:trgw_0_13_10_time:122.0                                               0.0   \n",
       "oname:hds_otype:lst_usecol:trgw_0_13_10_time:153.0                                               0.0   \n",
       "oname:hds_otype:lst_usecol:trgw_0_13_10_time:183.0                                               0.0   \n",
       "oname:hds_otype:lst_usecol:trgw_0_13_10_time:214.0                                               0.0   \n",
       "\n",
       "                                                    oname:sfrtd_otype:lst_usecol:tailwater_time:336.0  \\\n",
       "oname:hds_otype:lst_usecol:trgw_0_13_10_time:1.0                                                  0.0   \n",
       "oname:hds_otype:lst_usecol:trgw_0_13_10_time:122.0                                                0.0   \n",
       "oname:hds_otype:lst_usecol:trgw_0_13_10_time:153.0                                                0.0   \n",
       "oname:hds_otype:lst_usecol:trgw_0_13_10_time:183.0                                                0.0   \n",
       "oname:hds_otype:lst_usecol:trgw_0_13_10_time:214.0                                                0.0   \n",
       "\n",
       "                                                    oname:sfrtd_otype:lst_usecol:tailwater_time:367.0  \\\n",
       "oname:hds_otype:lst_usecol:trgw_0_13_10_time:1.0                                                  0.0   \n",
       "oname:hds_otype:lst_usecol:trgw_0_13_10_time:122.0                                                0.0   \n",
       "oname:hds_otype:lst_usecol:trgw_0_13_10_time:153.0                                                0.0   \n",
       "oname:hds_otype:lst_usecol:trgw_0_13_10_time:183.0                                                0.0   \n",
       "oname:hds_otype:lst_usecol:trgw_0_13_10_time:214.0                                                0.0   \n",
       "\n",
       "                                                    oname:sfrtd_otype:lst_usecol:tailwater_time:61.0  \\\n",
       "oname:hds_otype:lst_usecol:trgw_0_13_10_time:1.0                                                 0.0   \n",
       "oname:hds_otype:lst_usecol:trgw_0_13_10_time:122.0                                               0.0   \n",
       "oname:hds_otype:lst_usecol:trgw_0_13_10_time:153.0                                               0.0   \n",
       "oname:hds_otype:lst_usecol:trgw_0_13_10_time:183.0                                               0.0   \n",
       "oname:hds_otype:lst_usecol:trgw_0_13_10_time:214.0                                               0.0   \n",
       "\n",
       "                                                    oname:sfrtd_otype:lst_usecol:tailwater_time:92.0  \n",
       "oname:hds_otype:lst_usecol:trgw_0_13_10_time:1.0                                                 0.0  \n",
       "oname:hds_otype:lst_usecol:trgw_0_13_10_time:122.0                                               0.0  \n",
       "oname:hds_otype:lst_usecol:trgw_0_13_10_time:153.0                                               0.0  \n",
       "oname:hds_otype:lst_usecol:trgw_0_13_10_time:183.0                                               0.0  \n",
       "oname:hds_otype:lst_usecol:trgw_0_13_10_time:214.0                                               0.0  \n",
       "\n",
       "[5 rows x 920 columns]"
      ]
     },
     "execution_count": 123,
     "metadata": {},
     "output_type": "execute_result"
    }
   ],
   "source": [
    "obs = pst.observation_data\n",
    "\n",
    "# generate cov matrix for all obs using weights in the control file\n",
    "obs_cov = pyemu.Cov.from_observation_data(pst, )\n",
    "\n",
    "# reduce cov down to only include non-zero obsverations\n",
    "obs_cov = obs_cov.get(row_names=pst.nnz_obs_names, col_names=pst.nnz_obs_names, )\n",
    "\n",
    "# side note: \n",
    "# going to save the diagonal (e.g no correlation) obsevration uncertainty cov matrixs\n",
    "# to an external file for use in a later tutorial\n",
    "obs_cov.to_coo(os.path.join(template_ws,\"obs_cov_diag.jcb\"))\n",
    "\n",
    "# make it a dataframe to make life easier\n",
    "df = obs_cov.to_dataframe()\n",
    "\n",
    "df.head()"
   ]
  },
  {
   "cell_type": "markdown",
   "metadata": {},
   "source": [
    "So this returned a diagonal covariance matrix (e.g. only values in the diagonal are non-zero). This implies that there is no covariance between observation noise. \n",
    "\n",
    "You can plot the matrix, but due to the scale it wont look particularily interesting:"
   ]
  },
  {
   "cell_type": "code",
   "execution_count": 124,
   "metadata": {
    "execution": {
     "iopub.execute_input": "2022-03-18T04:42:49.170226Z",
     "iopub.status.busy": "2022-03-18T04:42:49.170226Z",
     "iopub.status.idle": "2022-03-18T04:42:49.353737Z",
     "shell.execute_reply": "2022-03-18T04:42:49.353737Z"
    }
   },
   "outputs": [
    {
     "data": {
      "text/plain": [
       "<matplotlib.colorbar.Colorbar at 0x19b6bf206d0>"
      ]
     },
     "execution_count": 124,
     "metadata": {},
     "output_type": "execute_result"
    },
    {
     "data": {
      "image/png": "[encoded data removed]",
      "text/plain": [
       "<Figure size 432x288 with 2 Axes>"
      ]
     },
     "metadata": {
      "needs_background": "light"
     },
     "output_type": "display_data"
    }
   ],
   "source": [
    "plt.imshow(df.values)\n",
    "plt.colorbar()"
   ]
  },
  {
   "cell_type": "markdown",
   "metadata": {},
   "source": [
    "Let's instead just look at a small part, focusing on observations that make up a single time series. So as you can see below, the matrix diagonal reflects individual obsevation uncertianties, whilst all the off-diagonals are zero (e.g. no correlation)."
   ]
  },
  {
   "cell_type": "code",
   "execution_count": 125,
   "metadata": {
    "execution": {
     "iopub.execute_input": "2022-03-18T04:42:49.391634Z",
     "iopub.status.busy": "2022-03-18T04:42:49.391634Z",
     "iopub.status.idle": "2022-03-18T04:42:49.508354Z",
     "shell.execute_reply": "2022-03-18T04:42:49.507367Z"
    }
   },
   "outputs": [
    {
     "data": {
      "text/plain": [
       "<matplotlib.colorbar.Colorbar at 0x19b6c3c2a30>"
      ]
     },
     "execution_count": 125,
     "metadata": {},
     "output_type": "execute_result"
    },
    {
     "data": {
      "image/png": "[encoded data removed]",
      "text/plain": [
       "<Figure size 432x288 with 2 Axes>"
      ]
     },
     "metadata": {
      "needs_background": "light"
     },
     "output_type": "display_data"
    }
   ],
   "source": [
    "obs_select = obs.loc[(obs.obgnme=='oname:hds_otype:lst_usecol:trgw_0_13_10') & (obs.weight>0)]\n",
    "\n",
    "plt.imshow(df.loc[obs_select.obsnme,obs_select.obsnme].values)\n",
    "plt.colorbar()"
   ]
  },
  {
   "cell_type": "markdown",
   "metadata": {},
   "source": [
    "But recall that most of the observations are time-series. Here we are saying \"how wrong the measurement is today, has nothing to do with how wrong it was yesterday\". Is that reasonable? For some noise (e.g. white noise), yes, surely. But perhaps not for all noise. So how can we express that \"if my measurement was wrong yesterday, then it is *likely* to be wrong in the same way today\"? Through covariance, that's how. We can use the same priciples that we employed to specfy parameter spatial/temporal covariance earlier on.\n",
    "\n",
    "We will no demonstrate for the single time series we looked at above. \n",
    "\n",
    "First, construct a geostatistical structure and variogram. Here we are using a range of 60 days. (Recall we have \"field measurements\" every month.) From these, construct a generic covariance matrix for generic parameters with \"coordinates\" corresponding to the observation times. "
   ]
  },
  {
   "cell_type": "code",
   "execution_count": 126,
   "metadata": {
    "execution": {
     "iopub.execute_input": "2022-03-18T04:42:50.235852Z",
     "iopub.status.busy": "2022-03-18T04:42:50.234855Z",
     "iopub.status.idle": "2022-03-18T04:42:50.237845Z",
     "shell.execute_reply": "2022-03-18T04:42:50.238843Z"
    }
   },
   "outputs": [],
   "source": [
    "v = pyemu.geostats.ExpVario(a=30,contribution=1.0)\n",
    "x = obs_select.time.astype(float).values #np.arange(float(obs.time.values[:11].max()))\n",
    "y = np.zeros_like(x)\n",
    "names = [\"obs_{0}\".format(xx) for xx in x]\n",
    "cov = v.covariance_matrix(x,y,names=names)"
   ]
  },
  {
   "cell_type": "markdown",
   "metadata": {},
   "source": [
    "Then, scale the values in the generic covariance matrix to reflect the observation uncertainties and take a peek.\n",
    "\n",
    "And there you have it, off-diagonal elements are no longer zero and show greater correlation between uncertainties of observation which happen closer together (it looks a bit wonky because parameter names are not ordered acording to time)."
   ]
  },
  {
   "cell_type": "code",
   "execution_count": 127,
   "metadata": {
    "execution": {
     "iopub.execute_input": "2022-03-18T04:42:50.269417Z",
     "iopub.status.busy": "2022-03-18T04:42:50.247819Z",
     "iopub.status.idle": "2022-03-18T04:42:50.412265Z",
     "shell.execute_reply": "2022-03-18T04:42:50.412265Z"
    }
   },
   "outputs": [
    {
     "data": {
      "image/png": "[encoded data removed]",
      "text/plain": [
       "<Figure size 432x288 with 2 Axes>"
      ]
     },
     "metadata": {
      "needs_background": "light"
     },
     "output_type": "display_data"
    }
   ],
   "source": [
    "x_group = cov.x.copy()\n",
    "w = obs_select.weight.mean()\n",
    "v = (1./w)**2\n",
    "x_group *= v\n",
    "df.loc[obs_select.obsnme,obs_select.obsnme] = x_group\n",
    "\n",
    "plt.imshow(df.loc[obs_select.obsnme,obs_select.obsnme].values);\n",
    "plt.colorbar();"
   ]
  },
  {
   "cell_type": "markdown",
   "metadata": {},
   "source": [
    "Now implement to that to loop over all the non-zero time series observation groups:"
   ]
  },
  {
   "cell_type": "code",
   "execution_count": 128,
   "metadata": {
    "execution": {
     "iopub.execute_input": "2022-03-18T04:42:50.438281Z",
     "iopub.status.busy": "2022-03-18T04:42:50.418282Z",
     "iopub.status.idle": "2022-03-18T04:42:50.577066Z",
     "shell.execute_reply": "2022-03-18T04:42:50.576055Z"
    }
   },
   "outputs": [],
   "source": [
    "for obgnme in pst.nnz_obs_groups:\n",
    "    obs_select = obs.loc[(obs.obgnme==obgnme) & (obs.weight>0)]\n",
    "\n",
    "    v = pyemu.geostats.ExpVario(a=30,contribution=1.0)\n",
    "    x = obs_select.time.astype(float).values #np.arange(float(obs.time.values[:11].max()))\n",
    "    y = np.zeros_like(x)\n",
    "    names = [\"obs_{0}\".format(xx) for xx in x]\n",
    "    cov = v.covariance_matrix(x,y,names=names)\n",
    "\n",
    "\n",
    "    x_group = cov.x.copy()\n",
    "    w = obs_select.weight.mean()\n",
    "    v = (1./w)**2\n",
    "    x_group *= v\n",
    "    df.loc[obs_select.obsnme,obs_select.obsnme] = x_group\n"
   ]
  },
  {
   "cell_type": "markdown",
   "metadata": {},
   "source": [
    "And then re-construct a `Cov` object and record it to an external file:"
   ]
  },
  {
   "cell_type": "code",
   "execution_count": 129,
   "metadata": {
    "execution": {
     "iopub.execute_input": "2022-03-18T04:42:50.583017Z",
     "iopub.status.busy": "2022-03-18T04:42:50.582052Z",
     "iopub.status.idle": "2022-03-18T04:42:50.609984Z",
     "shell.execute_reply": "2022-03-18T04:42:50.611014Z"
    }
   },
   "outputs": [],
   "source": [
    "obs_cov_tv = pyemu.Cov.from_dataframe(df)\n",
    "obs_cov_tv.to_coo(os.path.join(template_ws,\"obs_cov.jcb\"))"
   ]
  },
  {
   "cell_type": "markdown",
   "metadata": {},
   "source": []
  }
 ],
 "metadata": {
  "interpreter": {
   "hash": "b3ba2566441a7c06988d0923437866b63cedc61552a5af99d1f4fb67d367b25f"
  },
  "kernelspec": {
   "display_name": "Python 3 (ipykernel)",
   "language": "python",
   "name": "python3"
  },
  "language_info": {
   "codemirror_mode": {
    "name": "ipython",
    "version": 3
   },
   "file_extension": ".py",
   "mimetype": "text/x-python",
   "name": "python",
   "nbconvert_exporter": "python",
   "pygments_lexer": "ipython3",
   "version": "3.9.10"
  }
 },
 "nbformat": 4,
 "nbformat_minor": 2
}
