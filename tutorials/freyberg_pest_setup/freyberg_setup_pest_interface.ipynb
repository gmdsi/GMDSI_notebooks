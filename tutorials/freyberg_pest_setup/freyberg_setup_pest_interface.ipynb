{
 "cells": [
  {
   "cell_type": "markdown",
   "metadata": {},
   "source": [
    "# Setup the PEST(++) interface around the modified Freyberg model\n",
    "\n",
    "In this notebook, we will construct a complex model independent (non-intrusive) interface around an existing `MODFLOW6` model using `pyEMU`. We assume that the reader is at least partially familiar with PEST(++) file formats and working philosophy. \n",
    "\n",
    "The modified Freyberg groundwater flow model has been constructed and is described in a previous notebook from this series. We will construct the entire PEST(++) interface from scratch here. This setup will be built upon in subsequent tutorials. \n",
    "\n",
    "We will rely heavily on the `pyemu.PstFrom` class. Although here we employ it with a `MODFLOW6` model, `PstFrom` is designed to be general and software independent (mostly). Some features are only available for `MODFLOW` models (e.g. `SpatialReference`).\n",
    "\n",
    "The `PstFrom` class automates the construction of high-dimensional PEST(++) interfaces with all the bells and whistles. It provides easy-to-use functions to process model input and output files into PEST(++) datasets. It can assist with setting up spatio-temporaly varying parameters. It handles the generation of geostatisical prior covariance matrices and ensembles. It automates writting a \"model run\" script. It provides tools to add custom pre- and post-processing functions to this script. It makes adding tweaks and fixes to the PEST(++) interface a breeze. All of this from the comfort of your favourite Python IDE.\n",
    "\n",
    "During this tutorial we are going to construct a PEST dataset. Amongst other things, we will demonstrate:\n",
    " - how to add observations & parameters from model output & input files;\n",
    " - how to add pre- and post-processing functions to the \"model run\" script;\n",
    " - how to generate geostatistical structures for spatialy and temporally correlated parameters;\n",
    " - how to edit parameter/observation data sections;\n",
    " - how to generate a prior parameter covariance matrix and prior parameter ensemble;\n",
    "\n",
    "\n",
    "\n",
    "First, let's get our model files and sort out some admin.\n"
   ]
  },
  {
   "cell_type": "markdown",
   "metadata": {},
   "source": [
    "### 1. Admin & Organize Folders\n",
    "First some admin. Load the dependencies and organize model folders. "
   ]
  },
  {
   "cell_type": "code",
   "execution_count": 1,
   "metadata": {
    "execution": {
     "iopub.execute_input": "2022-02-21T04:20:13.927872Z",
     "iopub.status.busy": "2022-02-21T04:20:13.927872Z",
     "iopub.status.idle": "2022-02-21T04:20:15.009519Z",
     "shell.execute_reply": "2022-02-21T04:20:15.008523Z"
    }
   },
   "outputs": [],
   "source": [
    "import sys\n",
    "import os\n",
    "import shutil\n",
    "import platform\n",
    "import warnings\n",
    "warnings.filterwarnings(\"ignore\")\n",
    "warnings.filterwarnings(\"ignore\", category=DeprecationWarning) \n",
    "import pyemu\n",
    "import flopy\n",
    "import pandas as pd\n",
    "import numpy as np\n",
    "import matplotlib.pyplot as plt;"
   ]
  },
  {
   "cell_type": "markdown",
   "metadata": {},
   "source": [
    "We will be calling a few external programs throughout this tutorial. Namely, MODFLOW 6 and PEST++GLM. For the purposes of the tutorial(s), we have included executables in the tutorial repository. They are in the `bin` folder. \n",
    "\n",
    "Preferably, executables should be located in a folder that is cited in your computer’s PATH environment variable. Doing so allows you to run them from a command prompt open to any other folder without having to include the full path to these executables in the command to run them. \n",
    "\n",
    "Sometimes this may not be practical. In such cases, we can simply place the executables in the folder from which they will be executed.  So, let's copy the necessary executables into our working folder:\n"
   ]
  },
  {
   "cell_type": "code",
   "execution_count": 2,
   "metadata": {
    "execution": {
     "iopub.execute_input": "2022-02-21T04:20:15.012510Z",
     "iopub.status.busy": "2022-02-21T04:20:15.011514Z",
     "iopub.status.idle": "2022-02-21T04:20:15.263326Z",
     "shell.execute_reply": "2022-02-21T04:20:15.263326Z"
    }
   },
   "outputs": [],
   "source": [
    "# specify a temporary folder; we will gather all our model and executable files here first\n",
    "# this is to ensure we don't mess up our original model files\n",
    "tmp_d = os.path.join('freyberg_mf6')\n",
    "\n",
    "# get the necessary executables; OS agnostic\n",
    "bin_dir = os.path.join('..','..','bin')\n",
    "\n",
    "if \"window\" in platform.platform().lower():\n",
    "    exe_files = [f for f in os.listdir(bin_dir) if f.endswith('exe')]\n",
    "else:\n",
    "    exe_files = [f for f in os.listdir(bin_dir) if not f.endswith('exe')]\n",
    "\n",
    "# remove existing folder if it already exists\n",
    "if os.path.exists(tmp_d):\n",
    "    shutil.rmtree(tmp_d)\n",
    "\n",
    "# make the folder\n",
    "os.mkdir(tmp_d)\n",
    "\n",
    "# copy executables across\n",
    "for exe_file in exe_files:\n",
    "    shutil.copy2(os.path.join(bin_dir, exe_file),os.path.join(tmp_d,exe_file))"
   ]
  },
  {
   "cell_type": "markdown",
   "metadata": {},
   "source": [
    "Let's copy the original model folder into a new working directory, just to ensure we don't mess up the base files."
   ]
  },
  {
   "cell_type": "code",
   "execution_count": 3,
   "metadata": {
    "execution": {
     "iopub.execute_input": "2022-02-21T04:20:15.267349Z",
     "iopub.status.busy": "2022-02-21T04:20:15.266344Z",
     "iopub.status.idle": "2022-02-21T04:20:15.431559Z",
     "shell.execute_reply": "2022-02-21T04:20:15.430561Z"
    }
   },
   "outputs": [],
   "source": [
    "# folder containing original model files\n",
    "org_d = os.path.join('..', '..', 'models', 'freyberg_mf6')\n",
    "\n",
    "# copy files across to the temp folder\n",
    "for f in os.listdir(org_d):\n",
    "    shutil.copy2(os.path.join(org_d,f), os.path.join(tmp_d,f))"
   ]
  },
  {
   "cell_type": "markdown",
   "metadata": {},
   "source": [
    "If you inspect the model folder, you will see that all the `MODFLOW6` model files have been written \"externally\". This is key for working with the `PstFrom` class (or with PEST(++) in general, really). Essentialy, all pertinent model inputs have been written as independent files in either array or list format. This makes it easier for us to programiatically access and re-write the values in these files.\n",
    "\n",
    "Array files contain a data type (usually floating points). List files will have a few columns that contain index information and then columns of floating point values (they have a tabular format; think `.csv` files or DataFrames). The `PstFrom` class provides methods for processing these file types into a PEST(++) dataset. \n",
    "\n"
   ]
  },
  {
   "cell_type": "code",
   "execution_count": 4,
   "metadata": {
    "execution": {
     "iopub.execute_input": "2022-02-21T04:20:15.437541Z",
     "iopub.status.busy": "2022-02-21T04:20:15.436543Z",
     "iopub.status.idle": "2022-02-21T04:20:15.450505Z",
     "shell.execute_reply": "2022-02-21T04:20:15.449543Z"
    }
   },
   "outputs": [
    {
     "data": {
      "text/plain": [
       "['freyberg6.dis',\n",
       " 'freyberg6.dis.grb',\n",
       " 'freyberg6.dis_botm_layer1.txt',\n",
       " 'freyberg6.dis_botm_layer2.txt',\n",
       " 'freyberg6.dis_botm_layer3.txt',\n",
       " 'freyberg6.dis_delc.txt',\n",
       " 'freyberg6.dis_delr.txt',\n",
       " 'freyberg6.dis_idomain_layer1.txt',\n",
       " 'freyberg6.dis_idomain_layer2.txt',\n",
       " 'freyberg6.dis_idomain_layer3.txt',\n",
       " 'freyberg6.dis_top.txt',\n",
       " 'freyberg6.ghb',\n",
       " 'freyberg6.ghb_stress_period_data_1.txt',\n",
       " 'freyberg6.ic',\n",
       " 'freyberg6.ic_strt_layer1.txt',\n",
       " 'freyberg6.ic_strt_layer2.txt',\n",
       " 'freyberg6.ic_strt_layer3.txt',\n",
       " 'freyberg6.ims',\n",
       " 'freyberg6.lst',\n",
       " 'freyberg6.nam',\n",
       " 'freyberg6.npf',\n",
       " 'freyberg6.npf_icelltype_layer1.txt',\n",
       " 'freyberg6.npf_icelltype_layer2.txt',\n",
       " 'freyberg6.npf_icelltype_layer3.txt',\n",
       " 'freyberg6.npf_k33_layer1.txt',\n",
       " 'freyberg6.npf_k33_layer2.txt',\n",
       " 'freyberg6.npf_k33_layer3.txt',\n",
       " 'freyberg6.npf_k_layer1.txt',\n",
       " 'freyberg6.npf_k_layer2.txt',\n",
       " 'freyberg6.npf_k_layer3.txt',\n",
       " 'freyberg6.oc',\n",
       " 'freyberg6.rch',\n",
       " 'freyberg6.rch_recharge_1.txt',\n",
       " 'freyberg6.rch_recharge_10.txt',\n",
       " 'freyberg6.rch_recharge_11.txt',\n",
       " 'freyberg6.rch_recharge_12.txt',\n",
       " 'freyberg6.rch_recharge_13.txt',\n",
       " 'freyberg6.rch_recharge_14.txt',\n",
       " 'freyberg6.rch_recharge_15.txt',\n",
       " 'freyberg6.rch_recharge_16.txt',\n",
       " 'freyberg6.rch_recharge_17.txt',\n",
       " 'freyberg6.rch_recharge_18.txt',\n",
       " 'freyberg6.rch_recharge_19.txt',\n",
       " 'freyberg6.rch_recharge_2.txt',\n",
       " 'freyberg6.rch_recharge_20.txt',\n",
       " 'freyberg6.rch_recharge_21.txt',\n",
       " 'freyberg6.rch_recharge_22.txt',\n",
       " 'freyberg6.rch_recharge_23.txt',\n",
       " 'freyberg6.rch_recharge_24.txt',\n",
       " 'freyberg6.rch_recharge_25.txt',\n",
       " 'freyberg6.rch_recharge_3.txt',\n",
       " 'freyberg6.rch_recharge_4.txt',\n",
       " 'freyberg6.rch_recharge_5.txt',\n",
       " 'freyberg6.rch_recharge_6.txt',\n",
       " 'freyberg6.rch_recharge_7.txt',\n",
       " 'freyberg6.rch_recharge_8.txt',\n",
       " 'freyberg6.rch_recharge_9.txt',\n",
       " 'freyberg6.sfr',\n",
       " 'freyberg6.sfr_connectiondata.txt',\n",
       " 'freyberg6.sfr_packagedata.txt',\n",
       " 'freyberg6.sfr_perioddata_1.txt',\n",
       " 'freyberg6.sfr_perioddata_10.txt',\n",
       " 'freyberg6.sfr_perioddata_11.txt',\n",
       " 'freyberg6.sfr_perioddata_12.txt',\n",
       " 'freyberg6.sfr_perioddata_13.txt',\n",
       " 'freyberg6.sfr_perioddata_14.txt',\n",
       " 'freyberg6.sfr_perioddata_15.txt',\n",
       " 'freyberg6.sfr_perioddata_16.txt',\n",
       " 'freyberg6.sfr_perioddata_17.txt',\n",
       " 'freyberg6.sfr_perioddata_18.txt',\n",
       " 'freyberg6.sfr_perioddata_19.txt',\n",
       " 'freyberg6.sfr_perioddata_2.txt',\n",
       " 'freyberg6.sfr_perioddata_20.txt',\n",
       " 'freyberg6.sfr_perioddata_21.txt',\n",
       " 'freyberg6.sfr_perioddata_22.txt',\n",
       " 'freyberg6.sfr_perioddata_23.txt',\n",
       " 'freyberg6.sfr_perioddata_24.txt',\n",
       " 'freyberg6.sfr_perioddata_25.txt',\n",
       " 'freyberg6.sfr_perioddata_3.txt',\n",
       " 'freyberg6.sfr_perioddata_4.txt',\n",
       " 'freyberg6.sfr_perioddata_5.txt',\n",
       " 'freyberg6.sfr_perioddata_6.txt',\n",
       " 'freyberg6.sfr_perioddata_7.txt',\n",
       " 'freyberg6.sfr_perioddata_8.txt',\n",
       " 'freyberg6.sfr_perioddata_9.txt',\n",
       " 'freyberg6.sto',\n",
       " 'freyberg6.sto_iconvert_layer1.txt',\n",
       " 'freyberg6.sto_iconvert_layer2.txt',\n",
       " 'freyberg6.sto_iconvert_layer3.txt',\n",
       " 'freyberg6.sto_ss_layer1.txt',\n",
       " 'freyberg6.sto_ss_layer2.txt',\n",
       " 'freyberg6.sto_ss_layer3.txt',\n",
       " 'freyberg6.sto_sy_layer1.txt',\n",
       " 'freyberg6.sto_sy_layer2.txt',\n",
       " 'freyberg6.sto_sy_layer3.txt',\n",
       " 'freyberg6.tdis',\n",
       " 'freyberg6.wel',\n",
       " 'freyberg6.wel_stress_period_data_1.txt',\n",
       " 'freyberg6.wel_stress_period_data_10.txt',\n",
       " 'freyberg6.wel_stress_period_data_11.txt',\n",
       " 'freyberg6.wel_stress_period_data_12.txt',\n",
       " 'freyberg6.wel_stress_period_data_13.txt',\n",
       " 'freyberg6.wel_stress_period_data_14.txt',\n",
       " 'freyberg6.wel_stress_period_data_15.txt',\n",
       " 'freyberg6.wel_stress_period_data_16.txt',\n",
       " 'freyberg6.wel_stress_period_data_17.txt',\n",
       " 'freyberg6.wel_stress_period_data_18.txt',\n",
       " 'freyberg6.wel_stress_period_data_19.txt',\n",
       " 'freyberg6.wel_stress_period_data_2.txt',\n",
       " 'freyberg6.wel_stress_period_data_20.txt',\n",
       " 'freyberg6.wel_stress_period_data_21.txt',\n",
       " 'freyberg6.wel_stress_period_data_22.txt',\n",
       " 'freyberg6.wel_stress_period_data_23.txt',\n",
       " 'freyberg6.wel_stress_period_data_24.txt',\n",
       " 'freyberg6.wel_stress_period_data_25.txt',\n",
       " 'freyberg6.wel_stress_period_data_3.txt',\n",
       " 'freyberg6.wel_stress_period_data_4.txt',\n",
       " 'freyberg6.wel_stress_period_data_5.txt',\n",
       " 'freyberg6.wel_stress_period_data_6.txt',\n",
       " 'freyberg6.wel_stress_period_data_7.txt',\n",
       " 'freyberg6.wel_stress_period_data_8.txt',\n",
       " 'freyberg6.wel_stress_period_data_9.txt',\n",
       " 'freyberg6_freyberg.cbc',\n",
       " 'freyberg6_freyberg.hds',\n",
       " 'head.obs',\n",
       " 'heads.csv',\n",
       " 'mf5to6.exe',\n",
       " 'mf6.exe',\n",
       " 'mfsim.lst',\n",
       " 'mfsim.nam',\n",
       " 'pestpp-da.exe',\n",
       " 'pestpp-glm.exe',\n",
       " 'pestpp-ies.exe',\n",
       " 'pestpp-mou.exe',\n",
       " 'pestpp-opt.exe',\n",
       " 'pestpp-sen.exe',\n",
       " 'pestpp-sqp.exe',\n",
       " 'pestpp-swp.exe',\n",
       " 'sfr.csv',\n",
       " 'sfr.obs',\n",
       " 'zbud6.exe']"
      ]
     },
     "execution_count": 4,
     "metadata": {},
     "output_type": "execute_result"
    }
   ],
   "source": [
    "os.listdir(tmp_d)"
   ]
  },
  {
   "cell_type": "markdown",
   "metadata": {},
   "source": [
    "Now we need just a tiny bit of info about the spatial discretization of the model - this is needed to work out separation distances between parameters to build a geostatistical prior covariance matrix later.\n",
    "\n",
    "Here we will load the flopy sim and model instance just to help us define some quantities later - flopy is ***not required*** to use the `PstFrom` class. ***Neither is MODFLOW***. However, at the time of writting, support for `SpatialReference` to spatially locate parameters is limited to MODLOW models.\n",
    "\n",
    "Load the simulation. Run it once to make sure it works and to ***make sure that model output files are in the folder***. "
   ]
  },
  {
   "cell_type": "code",
   "execution_count": 5,
   "metadata": {
    "execution": {
     "iopub.execute_input": "2022-02-21T04:20:15.492425Z",
     "iopub.status.busy": "2022-02-21T04:20:15.492425Z",
     "iopub.status.idle": "2022-02-21T04:20:16.496373Z",
     "shell.execute_reply": "2022-02-21T04:20:16.496373Z"
    }
   },
   "outputs": [
    {
     "name": "stdout",
     "output_type": "stream",
     "text": [
      "loading simulation...\n",
      "  loading simulation name file...\n",
      "  loading tdis package...\n",
      "  loading model gwf6...\n",
      "    loading package dis...\n",
      "    loading package ic...\n",
      "    loading package npf...\n",
      "    loading package sto...\n",
      "    loading package oc...\n",
      "    loading package wel...\n",
      "    loading package rch...\n",
      "    loading package ghb...\n",
      "    loading package sfr...\n"
     ]
    },
    {
     "name": "stdout",
     "output_type": "stream",
     "text": [
      "    loading package obs...\n",
      "  loading ims package freyberg6...\n",
      "FloPy is using the following executable to run the model: C:\\Program Files\\MODFLOW\\mf6.exe\n",
      "                                   MODFLOW 6\n",
      "                U.S. GEOLOGICAL SURVEY MODULAR HYDROLOGIC MODEL\n",
      "                            VERSION 6.2.2 07/30/2021\n",
      "\n",
      "   MODFLOW 6 compiled Jul 31 2021 14:57:11 with IFORT compiler (ver. 20.21.2)\n",
      "\n",
      "This software has been approved for release by the U.S. Geological \n",
      "Survey (USGS). Although the software has been subjected to rigorous \n",
      "review, the USGS reserves the right to update the software as needed \n",
      "pursuant to further analysis and review. No warranty, expressed or \n",
      "implied, is made by the USGS or the U.S. Government as to the \n",
      "functionality of the software and related material nor shall the \n",
      "fact of release constitute any such warranty. Furthermore, the \n",
      "software is released on condition that neither the USGS nor the U.S. \n",
      "Government shall be held liable for any damages resulting from its \n",
      "authorized or unauthorized use. Also refer to the USGS Water \n",
      "Resources Software User Rights Notice for complete use, copyright, \n",
      "and distribution information.\n",
      "\n",
      " \n",
      " Run start date and time (yyyy/mm/dd hh:mm:ss): 2022/02/21 14:50:15\n",
      " \n",
      " Writing simulation list file: mfsim.lst\n",
      " Using Simulation name file: mfsim.nam\n",
      " \n",
      "    Solving:  Stress period:     1    Time step:     1\n"
     ]
    },
    {
     "name": "stdout",
     "output_type": "stream",
     "text": [
      "    Solving:  Stress period:     2    Time step:     1\n",
      "    Solving:  Stress period:     3    Time step:     1\n",
      "    Solving:  Stress period:     4    Time step:     1\n",
      "    Solving:  Stress period:     5    Time step:     1\n",
      "    Solving:  Stress period:     6    Time step:     1\n",
      "    Solving:  Stress period:     7    Time step:     1\n",
      "    Solving:  Stress period:     8    Time step:     1\n",
      "    Solving:  Stress period:     9    Time step:     1\n",
      "    Solving:  Stress period:    10    Time step:     1\n",
      "    Solving:  Stress period:    11    Time step:     1\n",
      "    Solving:  Stress period:    12    Time step:     1\n",
      "    Solving:  Stress period:    13    Time step:     1\n"
     ]
    },
    {
     "name": "stdout",
     "output_type": "stream",
     "text": [
      "    Solving:  Stress period:    14    Time step:     1\n",
      "    Solving:  Stress period:    15    Time step:     1\n",
      "    Solving:  Stress period:    16    Time step:     1\n",
      "    Solving:  Stress period:    17    Time step:     1\n",
      "    Solving:  Stress period:    18    Time step:     1\n",
      "    Solving:  Stress period:    19    Time step:     1\n",
      "    Solving:  Stress period:    20    Time step:     1\n",
      "    Solving:  Stress period:    21    Time step:     1\n",
      "    Solving:  Stress period:    22    Time step:     1\n",
      "    Solving:  Stress period:    23    Time step:     1\n",
      "    Solving:  Stress period:    24    Time step:     1\n",
      "    Solving:  Stress period:    25    Time step:     1\n"
     ]
    },
    {
     "name": "stdout",
     "output_type": "stream",
     "text": [
      " \n",
      " Run end date and time (yyyy/mm/dd hh:mm:ss): 2022/02/21 14:50:16\n",
      " Elapsed run time:  0.611 Seconds\n",
      " \n",
      " Normal termination of simulation.\n"
     ]
    },
    {
     "data": {
      "text/plain": [
       "(True, [])"
      ]
     },
     "execution_count": 5,
     "metadata": {},
     "output_type": "execute_result"
    }
   ],
   "source": [
    "# load simulation\n",
    "sim = flopy.mf6.MFSimulation.load(sim_ws=tmp_d)\n",
    "# load flow model\n",
    "gwf = sim.get_model()\n",
    "\n",
    "# run the model once to make sure it works\n",
    "sim.run_simulation()"
   ]
  },
  {
   "cell_type": "markdown",
   "metadata": {},
   "source": [
    "### 2. Spatial Reference\n",
    "Now we can instantiate a `SpatialReference`. This will later be passed to `PstFrom` to assist with spatially locating parameters (e.g. pilot points and/or cell-by-cell parameters)."
   ]
  },
  {
   "cell_type": "code",
   "execution_count": 6,
   "metadata": {
    "execution": {
     "iopub.execute_input": "2022-02-21T04:20:16.500359Z",
     "iopub.status.busy": "2022-02-21T04:20:16.500359Z",
     "iopub.status.idle": "2022-02-21T04:20:16.503357Z",
     "shell.execute_reply": "2022-02-21T04:20:16.503357Z"
    }
   },
   "outputs": [
    {
     "name": "stdout",
     "output_type": "stream",
     "text": [
      "   could not remove start_datetime\n"
     ]
    }
   ],
   "source": [
    "sr = pyemu.helpers.SpatialReference.from_namfile(\n",
    "        os.path.join(tmp_d, \"freyberg6.nam\"),\n",
    "        delr=gwf.dis.delr.array, delc=gwf.dis.delc.array)"
   ]
  },
  {
   "cell_type": "markdown",
   "metadata": {},
   "source": [
    "### 3. Instantiate PstFrom\n",
    "\n",
    "Now we can start to construct the PEST(++) interface by instantiating a `PstFrom` class instance. There are a few things that we need to specify up front:\n",
    "\n",
    " - the folder in which we currently have model files (e.g. `tmp_d`). PstFrom will copy all the files from this directory into a new \"template\" folder.\n",
    " - **template folder**: this is a folder in which the PEST dataset will be constructed. This folder/dataset will form the template for subsequent deployment of PEST(++). It is **not** where PEST(++) will be run.\n",
    " - **longnames**: for backwards compatibility with PEST and PEST_HP (i.e. non-PEST++ versions), which have upper limits to parameter/obsveration names (PEST++ does not). Setting this value to False is only recommended if required. \n",
    " - Whether the model is `zero based` or not.\n",
    " - (optional) the **spatial reference**, as previously discussed. This is only requried if using `pyEMU` to define parameter spatial correlation. Alternatively, you can define these yourself or use utilities available in the PEST-suite. \n",
    "\n"
   ]
  },
  {
   "cell_type": "code",
   "execution_count": 7,
   "metadata": {
    "execution": {
     "iopub.execute_input": "2022-02-21T04:20:16.511324Z",
     "iopub.status.busy": "2022-02-21T04:20:16.511324Z",
     "iopub.status.idle": "2022-02-21T04:20:18.435239Z",
     "shell.execute_reply": "2022-02-21T04:20:18.434214Z"
    }
   },
   "outputs": [
    {
     "name": "stdout",
     "output_type": "stream",
     "text": [
      "2022-02-21 14:50:16.510332 starting: opening PstFrom.log for logging\n",
      "2022-02-21 14:50:16.510332 starting PstFrom process\n",
      "2022-02-21 14:50:16.511324 starting: setting up dirs\n",
      "2022-02-21 14:50:16.511324 starting: removing existing new_d 'freyberg6_template'\n",
      "2022-02-21 14:50:16.677674 finished: removing existing new_d 'freyberg6_template' took: 0:00:00.166350\n"
     ]
    },
    {
     "name": "stdout",
     "output_type": "stream",
     "text": [
      "2022-02-21 14:50:17.678683 starting: copying original_d 'freyberg_mf6' to new_d 'freyberg6_template'\n"
     ]
    },
    {
     "name": "stdout",
     "output_type": "stream",
     "text": [
      "2022-02-21 14:50:18.429448 finished: copying original_d 'freyberg_mf6' to new_d 'freyberg6_template' took: 0:00:00.750765\n",
      "2022-02-21 14:50:18.430445 finished: setting up dirs took: 0:00:01.919121\n"
     ]
    }
   ],
   "source": [
    "# specify a template directory (i.e. the PstFrom working folder)\n",
    "template_ws = os.path.join(\"freyberg6_template\")\n",
    "\n",
    "# instantiate PstFrom\n",
    "pf = pyemu.utils.PstFrom(original_d=tmp_d, # where the model is stored\n",
    "                            new_d=template_ws, # the PEST template folder\n",
    "                            remove_existing=True, # ensures a clean start\n",
    "                            longnames=True, # set False if using PEST/PEST_HP\n",
    "                            spatial_reference=sr, #the spatial reference we generated earlier\n",
    "                            zero_based=False, # does the MODEL use zero based indices? For example, MODFLOW does NOT\n",
    "                            start_datetime=\"1-1-2018\") # required when specifying temporal correlation between parameters"
   ]
  },
  {
   "cell_type": "markdown",
   "metadata": {},
   "source": [
    "### 4. Observations\n",
    "\n",
    "We now have a `PstFrom` instance assigned to the variable `pf`. For now it is only an empty container to which we can start adding \"observations\", \"parameters\" and other bits and bobs.\n",
    "\n",
    "Lets start with observations because they are easier. `MODFLOW6` makes life even easier by recording observations in nicely organized .csv files. Isn't that a peach!\n",
    "\n",
    "#### 4.1 Freyberg Recap\n",
    "As you may recall from the \"*intro to Freyberg*\" tutorial, the model is configured to record time series of head at observation wells, and flux at three locations along the river. These are recorded in external .csv files named `heads.csv` and `sfr.csv`, respectively. You should be able to see these files in the model folder.\n",
    "\n",
    "Recall that each .csv houses records of observation time-series. Outputs are recorded for each simulated stress-period. The model starts with a single steady-state stress-period, followed by 24 monthly transient stress-periods. The steady-state and first 12 transient stress-periods simulate the history-matching period. The last 12 transient stress periods simulate future conditions (i.e. the prediction period)."
   ]
  },
  {
   "cell_type": "code",
   "execution_count": 8,
   "metadata": {
    "execution": {
     "iopub.execute_input": "2022-02-21T04:20:18.438205Z",
     "iopub.status.busy": "2022-02-21T04:20:18.437208Z",
     "iopub.status.idle": "2022-02-21T04:20:18.445229Z",
     "shell.execute_reply": "2022-02-21T04:20:18.444238Z"
    }
   },
   "outputs": [
    {
     "name": "stdout",
     "output_type": "stream",
     "text": [
      "['sfr.csv']\n",
      "['heads.csv']\n"
     ]
    }
   ],
   "source": [
    "# check the output csv file names\n",
    "for i in gwf.obs:\n",
    "    print(i.output.obs_names)"
   ]
  },
  {
   "cell_type": "markdown",
   "metadata": {},
   "source": [
    "Let's start with the 'heads.csv' file. First load it as a DataFrame to take a look.\n",
    "\n",
    "As you can see, there are many columns, one for each observation site. Conveniently, * *cough* * they are named according to the cell layer, row and column. Note that at every site, there is an observation in both the top and bottom layer (0_ and 2_). We will make use of this later to create \"secondary observations\" of head differences between layers...but let's not get distracted.\n",
    "\n",
    "The values in the *.csv* file were generated by running the model. (***IMPORTANT!***) However, `PstFrom` assumes that values in this file are the *target* observation values, and they will be used to populate the PEST(++) dataset. Now, you can change these values later on if you wish. However, it can get a bit messy. So you either need to populate model output files with the target values, or update values in the PEST(++) dataset later on. Which approach you adopt is up to personal preference and/or specifics of your modelling workflow. \n",
    "\n",
    "We will demonstrate both in this notebook."
   ]
  },
  {
   "cell_type": "code",
   "execution_count": 9,
   "metadata": {
    "execution": {
     "iopub.execute_input": "2022-02-21T04:20:18.452170Z",
     "iopub.status.busy": "2022-02-21T04:20:18.452170Z",
     "iopub.status.idle": "2022-02-21T04:20:18.484083Z",
     "shell.execute_reply": "2022-02-21T04:20:18.485113Z"
    }
   },
   "outputs": [
    {
     "data": {
      "text/html": [
       "<div>\n",
       "<style scoped>\n",
       "    .dataframe tbody tr th:only-of-type {\n",
       "        vertical-align: middle;\n",
       "    }\n",
       "\n",
       "    .dataframe tbody tr th {\n",
       "        vertical-align: top;\n",
       "    }\n",
       "\n",
       "    .dataframe thead th {\n",
       "        text-align: right;\n",
       "    }\n",
       "</style>\n",
       "<table border=\"1\" class=\"dataframe\">\n",
       "  <thead>\n",
       "    <tr style=\"text-align: right;\">\n",
       "      <th></th>\n",
       "      <th>TRGW_2_2_15</th>\n",
       "      <th>TRGW_2_2_9</th>\n",
       "      <th>TRGW_2_3_8</th>\n",
       "      <th>TRGW_2_9_1</th>\n",
       "      <th>TRGW_2_13_10</th>\n",
       "      <th>TRGW_2_15_16</th>\n",
       "      <th>TRGW_2_21_10</th>\n",
       "      <th>TRGW_2_22_15</th>\n",
       "      <th>TRGW_2_24_4</th>\n",
       "      <th>TRGW_2_26_6</th>\n",
       "      <th>...</th>\n",
       "      <th>TRGW_0_9_1</th>\n",
       "      <th>TRGW_0_13_10</th>\n",
       "      <th>TRGW_0_15_16</th>\n",
       "      <th>TRGW_0_21_10</th>\n",
       "      <th>TRGW_0_22_15</th>\n",
       "      <th>TRGW_0_24_4</th>\n",
       "      <th>TRGW_0_26_6</th>\n",
       "      <th>TRGW_0_29_15</th>\n",
       "      <th>TRGW_0_33_7</th>\n",
       "      <th>TRGW_0_34_10</th>\n",
       "    </tr>\n",
       "    <tr>\n",
       "      <th>time</th>\n",
       "      <th></th>\n",
       "      <th></th>\n",
       "      <th></th>\n",
       "      <th></th>\n",
       "      <th></th>\n",
       "      <th></th>\n",
       "      <th></th>\n",
       "      <th></th>\n",
       "      <th></th>\n",
       "      <th></th>\n",
       "      <th></th>\n",
       "      <th></th>\n",
       "      <th></th>\n",
       "      <th></th>\n",
       "      <th></th>\n",
       "      <th></th>\n",
       "      <th></th>\n",
       "      <th></th>\n",
       "      <th></th>\n",
       "      <th></th>\n",
       "      <th></th>\n",
       "    </tr>\n",
       "  </thead>\n",
       "  <tbody>\n",
       "    <tr>\n",
       "      <th>1.0</th>\n",
       "      <td>34.339320</td>\n",
       "      <td>34.581597</td>\n",
       "      <td>34.611207</td>\n",
       "      <td>34.872171</td>\n",
       "      <td>34.257574</td>\n",
       "      <td>34.136387</td>\n",
       "      <td>34.144465</td>\n",
       "      <td>34.027679</td>\n",
       "      <td>34.310857</td>\n",
       "      <td>34.171589</td>\n",
       "      <td>...</td>\n",
       "      <td>34.878082</td>\n",
       "      <td>34.263187</td>\n",
       "      <td>34.141599</td>\n",
       "      <td>34.150067</td>\n",
       "      <td>33.992380</td>\n",
       "      <td>34.316575</td>\n",
       "      <td>34.177206</td>\n",
       "      <td>33.909874</td>\n",
       "      <td>33.985755</td>\n",
       "      <td>33.890192</td>\n",
       "    </tr>\n",
       "    <tr>\n",
       "      <th>32.0</th>\n",
       "      <td>34.422684</td>\n",
       "      <td>34.680896</td>\n",
       "      <td>34.712058</td>\n",
       "      <td>34.973141</td>\n",
       "      <td>34.381609</td>\n",
       "      <td>34.245718</td>\n",
       "      <td>34.272721</td>\n",
       "      <td>34.138233</td>\n",
       "      <td>34.437640</td>\n",
       "      <td>34.313791</td>\n",
       "      <td>...</td>\n",
       "      <td>34.978998</td>\n",
       "      <td>34.386488</td>\n",
       "      <td>34.250497</td>\n",
       "      <td>34.277455</td>\n",
       "      <td>34.087585</td>\n",
       "      <td>34.442526</td>\n",
       "      <td>34.318135</td>\n",
       "      <td>33.992787</td>\n",
       "      <td>34.102892</td>\n",
       "      <td>34.005675</td>\n",
       "    </tr>\n",
       "    <tr>\n",
       "      <th>61.0</th>\n",
       "      <td>34.496186</td>\n",
       "      <td>34.778508</td>\n",
       "      <td>34.812111</td>\n",
       "      <td>35.083708</td>\n",
       "      <td>34.481942</td>\n",
       "      <td>34.330460</td>\n",
       "      <td>34.376598</td>\n",
       "      <td>34.219319</td>\n",
       "      <td>34.555036</td>\n",
       "      <td>34.427653</td>\n",
       "      <td>...</td>\n",
       "      <td>35.089608</td>\n",
       "      <td>34.487850</td>\n",
       "      <td>34.336217</td>\n",
       "      <td>34.382375</td>\n",
       "      <td>34.158109</td>\n",
       "      <td>34.560492</td>\n",
       "      <td>34.433115</td>\n",
       "      <td>34.058266</td>\n",
       "      <td>34.196067</td>\n",
       "      <td>34.086361</td>\n",
       "    </tr>\n",
       "    <tr>\n",
       "      <th>92.0</th>\n",
       "      <td>34.541607</td>\n",
       "      <td>34.848735</td>\n",
       "      <td>34.885189</td>\n",
       "      <td>35.178103</td>\n",
       "      <td>34.536194</td>\n",
       "      <td>34.372437</td>\n",
       "      <td>34.431944</td>\n",
       "      <td>34.257802</td>\n",
       "      <td>34.631805</td>\n",
       "      <td>34.490964</td>\n",
       "      <td>...</td>\n",
       "      <td>35.184255</td>\n",
       "      <td>34.543248</td>\n",
       "      <td>34.379139</td>\n",
       "      <td>34.438943</td>\n",
       "      <td>34.191730</td>\n",
       "      <td>34.638273</td>\n",
       "      <td>34.497733</td>\n",
       "      <td>34.090937</td>\n",
       "      <td>34.244095</td>\n",
       "      <td>34.121186</td>\n",
       "    </tr>\n",
       "    <tr>\n",
       "      <th>122.0</th>\n",
       "      <td>34.538213</td>\n",
       "      <td>34.859840</td>\n",
       "      <td>34.898354</td>\n",
       "      <td>35.214761</td>\n",
       "      <td>34.520171</td>\n",
       "      <td>34.353363</td>\n",
       "      <td>34.414553</td>\n",
       "      <td>34.236799</td>\n",
       "      <td>34.634051</td>\n",
       "      <td>34.476152</td>\n",
       "      <td>...</td>\n",
       "      <td>35.221267</td>\n",
       "      <td>34.528011</td>\n",
       "      <td>34.360599</td>\n",
       "      <td>34.422425</td>\n",
       "      <td>34.173799</td>\n",
       "      <td>34.641451</td>\n",
       "      <td>34.483960</td>\n",
       "      <td>34.076498</td>\n",
       "      <td>34.226023</td>\n",
       "      <td>34.095425</td>\n",
       "    </tr>\n",
       "  </tbody>\n",
       "</table>\n",
       "<p>5 rows × 26 columns</p>\n",
       "</div>"
      ],
      "text/plain": [
       "       TRGW_2_2_15  TRGW_2_2_9  TRGW_2_3_8  TRGW_2_9_1  TRGW_2_13_10  \\\n",
       "time                                                                   \n",
       "1.0      34.339320   34.581597   34.611207   34.872171     34.257574   \n",
       "32.0     34.422684   34.680896   34.712058   34.973141     34.381609   \n",
       "61.0     34.496186   34.778508   34.812111   35.083708     34.481942   \n",
       "92.0     34.541607   34.848735   34.885189   35.178103     34.536194   \n",
       "122.0    34.538213   34.859840   34.898354   35.214761     34.520171   \n",
       "\n",
       "       TRGW_2_15_16  TRGW_2_21_10  TRGW_2_22_15  TRGW_2_24_4  TRGW_2_26_6  \\\n",
       "time                                                                        \n",
       "1.0       34.136387     34.144465     34.027679    34.310857    34.171589   \n",
       "32.0      34.245718     34.272721     34.138233    34.437640    34.313791   \n",
       "61.0      34.330460     34.376598     34.219319    34.555036    34.427653   \n",
       "92.0      34.372437     34.431944     34.257802    34.631805    34.490964   \n",
       "122.0     34.353363     34.414553     34.236799    34.634051    34.476152   \n",
       "\n",
       "       ...  TRGW_0_9_1  TRGW_0_13_10  TRGW_0_15_16  TRGW_0_21_10  \\\n",
       "time   ...                                                         \n",
       "1.0    ...   34.878082     34.263187     34.141599     34.150067   \n",
       "32.0   ...   34.978998     34.386488     34.250497     34.277455   \n",
       "61.0   ...   35.089608     34.487850     34.336217     34.382375   \n",
       "92.0   ...   35.184255     34.543248     34.379139     34.438943   \n",
       "122.0  ...   35.221267     34.528011     34.360599     34.422425   \n",
       "\n",
       "       TRGW_0_22_15  TRGW_0_24_4  TRGW_0_26_6  TRGW_0_29_15  TRGW_0_33_7  \\\n",
       "time                                                                       \n",
       "1.0       33.992380    34.316575    34.177206     33.909874    33.985755   \n",
       "32.0      34.087585    34.442526    34.318135     33.992787    34.102892   \n",
       "61.0      34.158109    34.560492    34.433115     34.058266    34.196067   \n",
       "92.0      34.191730    34.638273    34.497733     34.090937    34.244095   \n",
       "122.0     34.173799    34.641451    34.483960     34.076498    34.226023   \n",
       "\n",
       "       TRGW_0_34_10  \n",
       "time                 \n",
       "1.0       33.890192  \n",
       "32.0      34.005675  \n",
       "61.0      34.086361  \n",
       "92.0      34.121186  \n",
       "122.0     34.095425  \n",
       "\n",
       "[5 rows x 26 columns]"
      ]
     },
     "execution_count": 9,
     "metadata": {},
     "output_type": "execute_result"
    }
   ],
   "source": [
    "df = pd.read_csv(os.path.join(template_ws,\"heads.csv\"),index_col=0)\n",
    "df.head()"
   ]
  },
  {
   "cell_type": "markdown",
   "metadata": {},
   "source": [
    "#### 4.2 Prepare Observation Files\n",
    "\n",
    "We will start by populating our \"model output\" file with measured values. For this synthetic case, we conveniently have observations for all model output times and sites. (These \"measured\" values were generated using the same model with a randomly generated set of parameters; noise was added to all observations.)\n",
    "\n",
    "In the next cell we read a .csv that contains measured obsevration values. As it has the exact same structure as our model output file, we can simpy replace the values in the model output file (and re-write it!). In real-world cases this step will likley be a bit more involved."
   ]
  },
  {
   "cell_type": "code",
   "execution_count": 10,
   "metadata": {
    "execution": {
     "iopub.execute_input": "2022-02-21T04:20:18.489069Z",
     "iopub.status.busy": "2022-02-21T04:20:18.488072Z",
     "iopub.status.idle": "2022-02-21T04:20:18.495054Z",
     "shell.execute_reply": "2022-02-21T04:20:18.496084Z"
    }
   },
   "outputs": [],
   "source": [
    "# read the measured head values\n",
    "hds_meas = pd.read_csv(os.path.join('..', '..', 'models', 'freyberg_mf6_truth',\"heads.meas.csv\"),\n",
    "                    index_col=0)\n",
    "\n",
    "# re-write the model output .csv file with the measured values\n",
    "hds_meas.to_csv(os.path.join(template_ws,\"heads.csv\"))"
   ]
  },
  {
   "cell_type": "markdown",
   "metadata": {},
   "source": [
    "#### 4.2. Adding Observations\n",
    "\n",
    "Now that our model output file contains the \"target values\", we can use the `PstFrom.add_observations()` method to add observations to our `pf` object. This method reads ***list-type*** files. The assumption is that these files are organized in a tabular format. \n",
    "\n",
    "We are going to tell `pf` which columns of this file contain observations. Values in these columns will be assigned to *observation values*.\n",
    "\n",
    "We can also inform it if there is an index column. Values in this column will be included in the *observation names*. \n",
    "\n",
    "We could also specify which rows to include as observations. But observations are free...so why not keep them all! \n",
    "\n",
    "Let's add observations from `heads.csv`. The first column of this file records the time at which the value is simulated. Let's use that as the index column (this becomes useful later on to post-process results). We want all other columns as observation values.\n"
   ]
  },
  {
   "cell_type": "code",
   "execution_count": 11,
   "metadata": {
    "execution": {
     "iopub.execute_input": "2022-02-21T04:20:18.499043Z",
     "iopub.status.busy": "2022-02-21T04:20:18.499043Z",
     "iopub.status.idle": "2022-02-21T04:20:18.537972Z",
     "shell.execute_reply": "2022-02-21T04:20:18.537972Z"
    }
   },
   "outputs": [
    {
     "name": "stdout",
     "output_type": "stream",
     "text": [
      "2022-02-21 14:50:18.498045 starting: adding observations from output file heads.csv\n",
      "2022-02-21 14:50:18.498045 starting: adding observations from tabular output file '['heads.csv']'\n",
      "2022-02-21 14:50:18.499043 starting: reading list-style file: freyberg6_template\\heads.csv\n",
      "2022-02-21 14:50:18.505938 finished: reading list-style file: freyberg6_template\\heads.csv took: 0:00:00.006895\n",
      "2022-02-21 14:50:18.505938 starting: building insfile for tabular output file heads.csv\n",
      "2022-02-21 14:50:18.514913 finished: building insfile for tabular output file heads.csv took: 0:00:00.008975\n",
      "2022-02-21 14:50:18.514913 starting: adding observation from instruction file 'freyberg6_template\\heads.csv.ins'\n",
      "2022-02-21 14:50:18.532986 finished: adding observation from instruction file 'freyberg6_template\\heads.csv.ins' took: 0:00:00.018073\n",
      "2022-02-21 14:50:18.533983 finished: adding observations from tabular output file '['heads.csv']' took: 0:00:00.035938\n"
     ]
    }
   ],
   "source": [
    "hds_df = pf.add_observations(\"heads.csv\", # the model output file to read\n",
    "                            insfile=\"heads.csv.ins\", #optional, the instruction file name\n",
    "                            index_cols=\"time\", #column header to use as index; can also use column number (zero-based) instead of the header name\n",
    "                            use_cols=list(df.columns.values), #names of columns that include observation values; can also use column number (zero-based) instead of the header name\n",
    "                            prefix=\"hds\") #prefix to all observation names; choose something logical and easy o find. We use it later on to select obsevrations"
   ]
  },
  {
   "cell_type": "markdown",
   "metadata": {},
   "source": [
    "Let's inspect what we just created. \n",
    "\n",
    "We can see that the `.add_observations()` method returned a dataframe with lots of useful info: \n",
    "\n",
    " - the observation names that were formed (see `obsnme` column); note that these inlcude lots of usefull metadata like the column name, index value and so on;\n",
    " - the values that were read from `heads.csv` (see `obsval` column); \n",
    " - some generic weights and group names; note that observations are grouped according to the column of the model output .csv. Alternatively, we could have specified a list of observation group names."
   ]
  },
  {
   "cell_type": "code",
   "execution_count": 12,
   "metadata": {
    "execution": {
     "iopub.execute_input": "2022-02-21T04:20:18.544953Z",
     "iopub.status.busy": "2022-02-21T04:20:18.544953Z",
     "iopub.status.idle": "2022-02-21T04:20:18.548943Z",
     "shell.execute_reply": "2022-02-21T04:20:18.548943Z"
    }
   },
   "outputs": [
    {
     "data": {
      "text/html": [
       "<div>\n",
       "<style scoped>\n",
       "    .dataframe tbody tr th:only-of-type {\n",
       "        vertical-align: middle;\n",
       "    }\n",
       "\n",
       "    .dataframe tbody tr th {\n",
       "        vertical-align: top;\n",
       "    }\n",
       "\n",
       "    .dataframe thead th {\n",
       "        text-align: right;\n",
       "    }\n",
       "</style>\n",
       "<table border=\"1\" class=\"dataframe\">\n",
       "  <thead>\n",
       "    <tr style=\"text-align: right;\">\n",
       "      <th></th>\n",
       "      <th>obsnme</th>\n",
       "      <th>obsval</th>\n",
       "      <th>weight</th>\n",
       "      <th>obgnme</th>\n",
       "    </tr>\n",
       "  </thead>\n",
       "  <tbody>\n",
       "    <tr>\n",
       "      <th>oname:hds_otype:lst_usecol:trgw_0_13_10_time:1.0</th>\n",
       "      <td>oname:hds_otype:lst_usecol:trgw_0_13_10_time:1.0</td>\n",
       "      <td>34.404445</td>\n",
       "      <td>1.0</td>\n",
       "      <td>oname:hds_otype:lst_usecol:trgw_0_13_10</td>\n",
       "    </tr>\n",
       "    <tr>\n",
       "      <th>oname:hds_otype:lst_usecol:trgw_0_13_10_time:122.0</th>\n",
       "      <td>oname:hds_otype:lst_usecol:trgw_0_13_10_time:122.0</td>\n",
       "      <td>34.450289</td>\n",
       "      <td>1.0</td>\n",
       "      <td>oname:hds_otype:lst_usecol:trgw_0_13_10</td>\n",
       "    </tr>\n",
       "    <tr>\n",
       "      <th>oname:hds_otype:lst_usecol:trgw_0_13_10_time:153.0</th>\n",
       "      <td>oname:hds_otype:lst_usecol:trgw_0_13_10_time:153.0</td>\n",
       "      <td>34.449492</td>\n",
       "      <td>1.0</td>\n",
       "      <td>oname:hds_otype:lst_usecol:trgw_0_13_10</td>\n",
       "    </tr>\n",
       "    <tr>\n",
       "      <th>oname:hds_otype:lst_usecol:trgw_0_13_10_time:183.0</th>\n",
       "      <td>oname:hds_otype:lst_usecol:trgw_0_13_10_time:183.0</td>\n",
       "      <td>34.383839</td>\n",
       "      <td>1.0</td>\n",
       "      <td>oname:hds_otype:lst_usecol:trgw_0_13_10</td>\n",
       "    </tr>\n",
       "    <tr>\n",
       "      <th>oname:hds_otype:lst_usecol:trgw_0_13_10_time:214.0</th>\n",
       "      <td>oname:hds_otype:lst_usecol:trgw_0_13_10_time:214.0</td>\n",
       "      <td>34.332796</td>\n",
       "      <td>1.0</td>\n",
       "      <td>oname:hds_otype:lst_usecol:trgw_0_13_10</td>\n",
       "    </tr>\n",
       "  </tbody>\n",
       "</table>\n",
       "</div>"
      ],
      "text/plain": [
       "                                                                                                obsnme  \\\n",
       "oname:hds_otype:lst_usecol:trgw_0_13_10_time:1.0      oname:hds_otype:lst_usecol:trgw_0_13_10_time:1.0   \n",
       "oname:hds_otype:lst_usecol:trgw_0_13_10_time:122.0  oname:hds_otype:lst_usecol:trgw_0_13_10_time:122.0   \n",
       "oname:hds_otype:lst_usecol:trgw_0_13_10_time:153.0  oname:hds_otype:lst_usecol:trgw_0_13_10_time:153.0   \n",
       "oname:hds_otype:lst_usecol:trgw_0_13_10_time:183.0  oname:hds_otype:lst_usecol:trgw_0_13_10_time:183.0   \n",
       "oname:hds_otype:lst_usecol:trgw_0_13_10_time:214.0  oname:hds_otype:lst_usecol:trgw_0_13_10_time:214.0   \n",
       "\n",
       "                                                       obsval  weight  \\\n",
       "oname:hds_otype:lst_usecol:trgw_0_13_10_time:1.0    34.404445     1.0   \n",
       "oname:hds_otype:lst_usecol:trgw_0_13_10_time:122.0  34.450289     1.0   \n",
       "oname:hds_otype:lst_usecol:trgw_0_13_10_time:153.0  34.449492     1.0   \n",
       "oname:hds_otype:lst_usecol:trgw_0_13_10_time:183.0  34.383839     1.0   \n",
       "oname:hds_otype:lst_usecol:trgw_0_13_10_time:214.0  34.332796     1.0   \n",
       "\n",
       "                                                                                     obgnme  \n",
       "oname:hds_otype:lst_usecol:trgw_0_13_10_time:1.0    oname:hds_otype:lst_usecol:trgw_0_13_10  \n",
       "oname:hds_otype:lst_usecol:trgw_0_13_10_time:122.0  oname:hds_otype:lst_usecol:trgw_0_13_10  \n",
       "oname:hds_otype:lst_usecol:trgw_0_13_10_time:153.0  oname:hds_otype:lst_usecol:trgw_0_13_10  \n",
       "oname:hds_otype:lst_usecol:trgw_0_13_10_time:183.0  oname:hds_otype:lst_usecol:trgw_0_13_10  \n",
       "oname:hds_otype:lst_usecol:trgw_0_13_10_time:214.0  oname:hds_otype:lst_usecol:trgw_0_13_10  "
      ]
     },
     "execution_count": 12,
     "metadata": {},
     "output_type": "execute_result"
    }
   ],
   "source": [
    "hds_df.head()"
   ]
  },
  {
   "cell_type": "markdown",
   "metadata": {},
   "source": [
    "At this point, no PEST *control file* has been created, we have simply prepared to add these observations to the control file later. Everything is still only stored in memory. However, a PEST *instruction* file has been created in the template folder (`template_ws`):"
   ]
  },
  {
   "cell_type": "code",
   "execution_count": 13,
   "metadata": {
    "execution": {
     "iopub.execute_input": "2022-02-21T04:20:18.551935Z",
     "iopub.status.busy": "2022-02-21T04:20:18.551935Z",
     "iopub.status.idle": "2022-02-21T04:20:18.558916Z",
     "shell.execute_reply": "2022-02-21T04:20:18.558916Z"
    }
   },
   "outputs": [
    {
     "data": {
      "text/plain": [
       "['heads.csv.ins']"
      ]
     },
     "execution_count": 13,
     "metadata": {},
     "output_type": "execute_result"
    }
   ],
   "source": [
    "[f for f in os.listdir(template_ws) if f.endswith(\".ins\")]"
   ]
  },
  {
   "cell_type": "markdown",
   "metadata": {},
   "source": [
    "Blimey, wasn't that easy? Automatically assimilating thousands of observations into a PEST dataset becomes a breeze!\n",
    "\n",
    "Let's quickly do the same thing for the SFR observations."
   ]
  },
  {
   "cell_type": "code",
   "execution_count": 14,
   "metadata": {
    "execution": {
     "iopub.execute_input": "2022-02-21T04:20:18.562906Z",
     "iopub.status.busy": "2022-02-21T04:20:18.561908Z",
     "iopub.status.idle": "2022-02-21T04:20:18.571882Z",
     "shell.execute_reply": "2022-02-21T04:20:18.571882Z"
    }
   },
   "outputs": [
    {
     "data": {
      "text/html": [
       "<div>\n",
       "<style scoped>\n",
       "    .dataframe tbody tr th:only-of-type {\n",
       "        vertical-align: middle;\n",
       "    }\n",
       "\n",
       "    .dataframe tbody tr th {\n",
       "        vertical-align: top;\n",
       "    }\n",
       "\n",
       "    .dataframe thead th {\n",
       "        text-align: right;\n",
       "    }\n",
       "</style>\n",
       "<table border=\"1\" class=\"dataframe\">\n",
       "  <thead>\n",
       "    <tr style=\"text-align: right;\">\n",
       "      <th></th>\n",
       "      <th>HEADWATER</th>\n",
       "      <th>TAILWATER</th>\n",
       "      <th>GAGE_1</th>\n",
       "    </tr>\n",
       "    <tr>\n",
       "      <th>time</th>\n",
       "      <th></th>\n",
       "      <th></th>\n",
       "      <th></th>\n",
       "    </tr>\n",
       "  </thead>\n",
       "  <tbody>\n",
       "    <tr>\n",
       "      <th>1.0</th>\n",
       "      <td>-644.10</td>\n",
       "      <td>-477.76</td>\n",
       "      <td>1205.3</td>\n",
       "    </tr>\n",
       "    <tr>\n",
       "      <th>32.0</th>\n",
       "      <td>-865.29</td>\n",
       "      <td>-638.26</td>\n",
       "      <td>1636.6</td>\n",
       "    </tr>\n",
       "    <tr>\n",
       "      <th>61.0</th>\n",
       "      <td>-1034.00</td>\n",
       "      <td>-764.91</td>\n",
       "      <td>1938.5</td>\n",
       "    </tr>\n",
       "    <tr>\n",
       "      <th>92.0</th>\n",
       "      <td>-1118.70</td>\n",
       "      <td>-825.49</td>\n",
       "      <td>2073.6</td>\n",
       "    </tr>\n",
       "    <tr>\n",
       "      <th>122.0</th>\n",
       "      <td>-1083.00</td>\n",
       "      <td>-794.89</td>\n",
       "      <td>1983.4</td>\n",
       "    </tr>\n",
       "  </tbody>\n",
       "</table>\n",
       "</div>"
      ],
      "text/plain": [
       "       HEADWATER  TAILWATER  GAGE_1\n",
       "time                               \n",
       "1.0      -644.10    -477.76  1205.3\n",
       "32.0     -865.29    -638.26  1636.6\n",
       "61.0    -1034.00    -764.91  1938.5\n",
       "92.0    -1118.70    -825.49  2073.6\n",
       "122.0   -1083.00    -794.89  1983.4"
      ]
     },
     "execution_count": 14,
     "metadata": {},
     "output_type": "execute_result"
    }
   ],
   "source": [
    "df = pd.read_csv(os.path.join(template_ws, \"sfr.csv\"), index_col=0)\n",
    "df.head()"
   ]
  },
  {
   "cell_type": "code",
   "execution_count": 15,
   "metadata": {
    "execution": {
     "iopub.execute_input": "2022-02-21T04:20:18.576868Z",
     "iopub.status.busy": "2022-02-21T04:20:18.575872Z",
     "iopub.status.idle": "2022-02-21T04:20:18.602799Z",
     "shell.execute_reply": "2022-02-21T04:20:18.602799Z"
    }
   },
   "outputs": [
    {
     "name": "stdout",
     "output_type": "stream",
     "text": [
      "2022-02-21 14:50:18.577865 starting: adding observations from output file sfr.csv\n",
      "2022-02-21 14:50:18.577865 starting: adding observations from tabular output file '['sfr.csv']'\n",
      "2022-02-21 14:50:18.578863 starting: reading list-style file: freyberg6_template\\sfr.csv\n",
      "2022-02-21 14:50:18.582852 finished: reading list-style file: freyberg6_template\\sfr.csv took: 0:00:00.003989\n",
      "2022-02-21 14:50:18.583850 starting: building insfile for tabular output file sfr.csv\n",
      "2022-02-21 14:50:18.589834 finished: building insfile for tabular output file sfr.csv took: 0:00:00.005984\n",
      "2022-02-21 14:50:18.589834 starting: adding observation from instruction file 'freyberg6_template\\sfr.csv.ins'\n",
      "2022-02-21 14:50:18.597812 finished: adding observation from instruction file 'freyberg6_template\\sfr.csv.ins' took: 0:00:00.007978\n",
      "2022-02-21 14:50:18.598810 finished: adding observations from tabular output file '['sfr.csv']' took: 0:00:00.020945\n"
     ]
    }
   ],
   "source": [
    "# read the measured  values\n",
    "meas = pd.read_csv(os.path.join('..', '..', 'models', 'freyberg_mf6_truth',\"sfr.meas.csv\"),\n",
    "                    index_col=0)\n",
    "# re-write the model output .csv file with the measured values\n",
    "meas.to_csv(os.path.join(template_ws,\"sfr.csv\"))\n",
    "# add the observations to pf\n",
    "sfr_df = pf.add_observations(\"sfr.csv\", # the model output file to read\n",
    "                            insfile=\"sfr.csv.ins\", #optional, the instruction file name\n",
    "                            index_cols=\"time\", #column header to use as index; can also use column number (zero-based) instead of the header name\n",
    "                            use_cols=list(df.columns.values), #names of columns that include observation values; can also use column number (zero-based) instead of the header name\n",
    "                            prefix=\"sfr\") #prefix to all observation names"
   ]
  },
  {
   "cell_type": "markdown",
   "metadata": {},
   "source": [
    "### 5. Parameters\n",
    "\n",
    "The `PstFrom.add_parameters()` method reads model input files and adds parameters to the PEST(++) dataset. Parameterisation can be configured in several ways. \n",
    "\n",
    " - model input files can be in array or list format;\n",
    " - parameters can be setup as different \"types\". Values in model input files can (1) each be a separate parameter, (2) be grouped into \"zones\" or (3) all be treated as a single parameter. Alteratvely, (4) parameters can be assigned to pilot points, from which individual parameter values are subsequently interpolated. `PstFrom` adds the relevant pre-processing steps to assign paramter values directly into the \"model run\" script.\n",
    " - parameter values can be setup as \"direct\", \"multiplier\" or \"addend\". This means the \"parameter value\" which PEST(++) sees can be (1) the same value the model sees, (2) a multiplier on the value in the model input file, or (3) a value which is added to the value in the model input file. This is very nifty. `PstFrom` is designed to preferentially use parameters setup as multipliers. These let us preserve the existing model inputs and treat them as the mean of the prior parameter distribution. Once again, relevant pre-processing scripts are automatically added to the \"model run\" script (discussed later).\n",
    "\n",
    "\n",
    "#### 5.1. Freyberg Recap\n",
    "\n",
    "As discussed, all model inputs are stored in external files. Some are arrays. Others are lists. Recall that our model has 3 layers. It is transient. Hydraulic properties (Kh, Kv, Ss, Sy) vary in space. Recharge varies over both space and time. We have GHBs, SFR and WEL boundary conditions. GHB parameters are constant over time, but vary spatially. SFR inflow varies over time. Pumping rates of individual wells are uncertain in space and and time.\n",
    "\n",
    "All of these have some degree of spatial and/or temporal correlation.\n",
    "\n",
    "#### 5.2. Geostatistical Structures\n",
    "\n",
    "Parameter correlation plays a role in (1) regularization when giving preference to the emergence of patterns of spatial heterogeneity and (2) when specifying the prior parameter probability distribution. Since we are all sophisticated and recognize the importance of expressing spatial and temporal uncertainty (e.g. heterogeneity) in the model inputs (and the corresponding spatial correlation in those uncertain inputs), let's use geostatistics to express uncertainty. To do that we need to define \"geostatistical structures\". \n",
    "\n",
    "For the sake of this tutorial, let's assume that heterogeneity in all spatially distributed parameters share the same statistical characteristics. Likewise for temporally varying parameters. We will therefore only  construct two geostatisitcal structures."
   ]
  },
  {
   "cell_type": "code",
   "execution_count": 16,
   "metadata": {
    "execution": {
     "iopub.execute_input": "2022-02-21T04:20:18.616761Z",
     "iopub.status.busy": "2022-02-21T04:20:18.616761Z",
     "iopub.status.idle": "2022-02-21T04:20:18.867855Z",
     "shell.execute_reply": "2022-02-21T04:20:18.867855Z"
    }
   },
   "outputs": [
    {
     "data": {
      "text/plain": [
       "<AxesSubplot:xlabel='distance', ylabel='$\\\\gamma$'>"
      ]
     },
     "execution_count": 16,
     "metadata": {},
     "output_type": "execute_result"
    },
    {
     "data": {
      "image/png": "[encoded data removed]",
      "text/plain": [
       "<Figure size 432x288 with 1 Axes>"
      ]
     },
     "metadata": {
      "needs_background": "light"
     },
     "output_type": "display_data"
    }
   ],
   "source": [
    "# exponential variogram for spatially varying parameters\n",
    "v_space = pyemu.geostats.ExpVario(contribution=1.0, #sill\n",
    "                                    a=1000, # range of correlation; length units of the model. In our case 'meters'\n",
    "                                    anisotropy=1.0, #name says it all\n",
    "                                    bearing=0.0 #angle in degrees East of North corresponding to anisotropy ellipse\n",
    "                                    )\n",
    "\n",
    "# geostatistical structure for spatially varying parameters\n",
    "grid_gs = pyemu.geostats.GeoStruct(variograms=v_space, transform='log') \n",
    "\n",
    "# plot the gs if you like:\n",
    "grid_gs.plot()"
   ]
  },
  {
   "cell_type": "code",
   "execution_count": 17,
   "metadata": {
    "execution": {
     "iopub.execute_input": "2022-02-21T04:20:18.871870Z",
     "iopub.status.busy": "2022-02-21T04:20:18.870872Z",
     "iopub.status.idle": "2022-02-21T04:20:18.873840Z",
     "shell.execute_reply": "2022-02-21T04:20:18.873840Z"
    }
   },
   "outputs": [],
   "source": [
    "# exponential variogram for time varying parameters\n",
    "v_time = pyemu.geostats.ExpVario(contribution=1.0, #sill\n",
    "                                    a=60, # range of correlation; length time units (days)\n",
    "                                    anisotropy=1.0, #do not change for 1-D time\n",
    "                                    bearing=0.0 #do not change for 1-D time\n",
    "                                    )\n",
    "\n",
    "# geostatistical structure for time varying parameters\n",
    "temporal_gs = pyemu.geostats.GeoStruct(variograms=v_time, transform='none') "
   ]
  },
  {
   "cell_type": "markdown",
   "metadata": {},
   "source": [
    "#### 5.3. Add Parameters\n",
    "\n",
    "Let's start by adding parameters of hydraulic properties that vary in space (but not time) and which are housed in array-type files (e.g. Kh, Kv, Ss, Sy). We will start by demonstrating step-by-step for Kh.\n",
    "\n",
    "First, find all the external array files that contain Kh values. In our case, these are the files with \"npf_k_\" in the file name. As you can see below, there is one file for each model layer. "
   ]
  },
  {
   "cell_type": "code",
   "execution_count": 18,
   "metadata": {
    "execution": {
     "iopub.execute_input": "2022-02-21T04:20:18.876831Z",
     "iopub.status.busy": "2022-02-21T04:20:18.876831Z",
     "iopub.status.idle": "2022-02-21T04:20:18.883813Z",
     "shell.execute_reply": "2022-02-21T04:20:18.883813Z"
    }
   },
   "outputs": [
    {
     "name": "stdout",
     "output_type": "stream",
     "text": [
      "['freyberg6.npf_k_layer1.txt', 'freyberg6.npf_k_layer2.txt', 'freyberg6.npf_k_layer3.txt']\n"
     ]
    }
   ],
   "source": [
    "tag = \"npf_k_\"\n",
    "files = [f for f in os.listdir(template_ws) if tag in f.lower() and f.endswith(\".txt\")]\n",
    "print(files)"
   ]
  },
  {
   "cell_type": "markdown",
   "metadata": {},
   "source": [
    "Let's setup multiple spatial scales of parameters for Kh. To do this we will use three of the parameter \"types\" described above. The coarse scale will be a `constant` single value for each array. The medium scale will `pilot points`. The finest scale will use parameters as the `grid` scale (a unique parameter for each model cell!)\n",
    "\n",
    "Each scale of parameters will work with the others as multipliers with the existing Kh arrays. (This all happens at runtime as part of the \"model run\" script.) Think of the scales as dials that PEST(++) can turn to improve the fit. The \"coarse\" scale is one big dial that alows PEST to move everything at once. The \"medium\" dials are few (but not too many) that allow PEST to adjust broad areas, but not making eveything move. The \"fine\" scales are lots of small dials that allow PEST(++) to have very detailed control, tweaking parameter values within very small areas. \n",
    "\n",
    "However, because we are working with parameter `multipliers`, we will need to specify two sets of parameter bounds: \n",
    " - `upper_bound` and `lower_bound` are the standard control file bounds, while\n",
    " - `ult_ubound` and `ult_lbound` are bounds that are applied at runtime to the resulting (multiplied out) model input array. \n",
    " \n",
    "Since we are using sets of multipliers, it is important to make sure we keep the resulting model input arrays within the range of realistic values.\n",
    "\n",
    "#### 5.3.1. Array Files\n",
    "\n",
    "We will first demonstrate steb-by-step for `freyberg6.npf_k_layer1.txt`. We will start with grid scale parameters. These are multipliers assigned to each individual value in the array.\n",
    "\n",
    "We start by getting the idomain array. As our model has inactive cells, this heps us avoid adding unncessary parameters. It is also required later when generating pilot points."
   ]
  },
  {
   "cell_type": "code",
   "execution_count": 19,
   "metadata": {
    "execution": {
     "iopub.execute_input": "2022-02-21T04:20:18.887803Z",
     "iopub.status.busy": "2022-02-21T04:20:18.886806Z",
     "iopub.status.idle": "2022-02-21T04:20:18.890795Z",
     "shell.execute_reply": "2022-02-21T04:20:18.890795Z"
    }
   },
   "outputs": [],
   "source": [
    "# as IDOMIAN is the same in all layers, we can use any layer\n",
    "ib = gwf.dis.idomain.get_data(layer=0)"
   ]
  },
  {
   "cell_type": "code",
   "execution_count": 20,
   "metadata": {
    "execution": {
     "iopub.execute_input": "2022-02-21T04:20:18.895781Z",
     "iopub.status.busy": "2022-02-21T04:20:18.894784Z",
     "iopub.status.idle": "2022-02-21T04:20:18.967819Z",
     "shell.execute_reply": "2022-02-21T04:20:18.966819Z"
    }
   },
   "outputs": [
    {
     "name": "stdout",
     "output_type": "stream",
     "text": [
      "2022-02-21 14:50:18.893787 starting: adding grid type m style parameters for file(s) ['freyberg6.npf_k_layer1.txt']\n",
      "2022-02-21 14:50:18.894784 starting: loading array freyberg6_template\\freyberg6.npf_k_layer1.txt\n",
      "2022-02-21 14:50:18.901765 finished: loading array freyberg6_template\\freyberg6.npf_k_layer1.txt took: 0:00:00.006981\n",
      "2022-02-21 14:50:18.901765 loaded array 'freyberg_mf6\\freyberg6.npf_k_layer1.txt' of shape (40, 20)\n",
      "2022-02-21 14:50:18.903760 starting: writing array-style template file 'freyberg6_template\\npf_k_layer1_gr_inst0_grid.csv.tpl'\n",
      "2022-02-21 14:50:18.903760 starting: writing template file freyberg6_template\\npf_k_layer1_gr_inst0_grid.csv.tpl for ['npf_k_layer1_gr_inst:0']\n",
      "2022-02-21 14:50:18.939289 finished: writing template file freyberg6_template\\npf_k_layer1_gr_inst0_grid.csv.tpl for ['npf_k_layer1_gr_inst:0'] took: 0:00:00.035529\n",
      "2022-02-21 14:50:18.939289 starting: writing array-based template file 'freyberg6_template\\npf_k_layer1_gr_inst0_grid.csv.tpl'\n",
      "2022-02-21 14:50:18.940285 saving zone array freyberg6_template\\npf_k_layer1_gr_inst0_grid.csv.zone for tpl file freyberg6_template\\npf_k_layer1_gr_inst0_grid.csv.tpl\n",
      "2022-02-21 14:50:18.957315 finished: adding grid type m style parameters for file(s) ['freyberg6.npf_k_layer1.txt'] took: 0:00:00.063528\n"
     ]
    }
   ],
   "source": [
    "f = 'freyberg6.npf_k_layer1.txt'\n",
    "\n",
    "# grid (fine) scale parameters\n",
    "df_gr = pf.add_parameters(f,\n",
    "                zone_array=ib, #as we have inactie model cells, we can avoid assigning these as parameters\n",
    "                par_type=\"grid\", #specify the type, these will be unique parameters for each cell\n",
    "                geostruct=grid_gs, # the gestatisical structure for spatial correlation \n",
    "                par_name_base=f.split('.')[1]+\"_gr\", #specify a parameter name base that allows us to easily identify the filename and parameter type. \"_gr\" for \"grid\", and so forth.\n",
    "                pargp=f.split('.')[1]+\"_gr\", #likewise for the parameter group name\n",
    "                lower_bound=0.2, upper_bound=5.0, #parameter lower and upper bound\n",
    "                ult_ubound=100, ult_lbound=0.01 # The ultimate bounds for multiplied model input values. Here we are stating that, after accounting for all multipliers, Kh cannot exceed these values. Very important with multipliers\n",
    "                )"
   ]
  },
  {
   "cell_type": "markdown",
   "metadata": {},
   "source": [
    "As when adding observations,  `pf.add_parameters()` returns a dataframe. Take a look. You may recognize alot of the information that appears in a PEST `*parameter data` section. All of this is still only housed in memory for now. We will write the PEST control file later on."
   ]
  },
  {
   "cell_type": "code",
   "execution_count": 21,
   "metadata": {
    "execution": {
     "iopub.execute_input": "2022-02-21T04:20:18.983770Z",
     "iopub.status.busy": "2022-02-21T04:20:18.982773Z",
     "iopub.status.idle": "2022-02-21T04:20:18.986763Z",
     "shell.execute_reply": "2022-02-21T04:20:18.986763Z"
    }
   },
   "outputs": [
    {
     "data": {
      "text/html": [
       "<div>\n",
       "<style scoped>\n",
       "    .dataframe tbody tr th:only-of-type {\n",
       "        vertical-align: middle;\n",
       "    }\n",
       "\n",
       "    .dataframe tbody tr th {\n",
       "        vertical-align: top;\n",
       "    }\n",
       "\n",
       "    .dataframe thead th {\n",
       "        text-align: right;\n",
       "    }\n",
       "</style>\n",
       "<table border=\"1\" class=\"dataframe\">\n",
       "  <thead>\n",
       "    <tr style=\"text-align: right;\">\n",
       "      <th></th>\n",
       "      <th>parnme</th>\n",
       "      <th>parval1</th>\n",
       "      <th>i</th>\n",
       "      <th>j</th>\n",
       "      <th>x</th>\n",
       "      <th>y</th>\n",
       "      <th>pargp</th>\n",
       "      <th>tpl_filename</th>\n",
       "      <th>input_filename</th>\n",
       "      <th>partype</th>\n",
       "      <th>partrans</th>\n",
       "      <th>parubnd</th>\n",
       "      <th>parlbnd</th>\n",
       "      <th>dercom</th>\n",
       "      <th>parchglim</th>\n",
       "      <th>offset</th>\n",
       "      <th>scale</th>\n",
       "    </tr>\n",
       "  </thead>\n",
       "  <tbody>\n",
       "    <tr>\n",
       "      <th>pname:npf_k_layer1_gr_inst:0_ptype:gr_pstyle:m_i:0_j:0_x:125.00_y:9875.00_zone:1</th>\n",
       "      <td>pname:npf_k_layer1_gr_inst:0_ptype:gr_pstyle:m_i:0_j:0_x:125.00_y:9875.00_zone:1</td>\n",
       "      <td>1.0</td>\n",
       "      <td>0</td>\n",
       "      <td>0</td>\n",
       "      <td>125.0</td>\n",
       "      <td>9875.0</td>\n",
       "      <td>npf_k_layer1_gr</td>\n",
       "      <td>freyberg6_template\\npf_k_layer1_gr_inst0_grid.csv.tpl</td>\n",
       "      <td>freyberg6_template\\mult\\npf_k_layer1_gr_inst0_grid.csv</td>\n",
       "      <td>grid</td>\n",
       "      <td>log</td>\n",
       "      <td>5.0</td>\n",
       "      <td>0.2</td>\n",
       "      <td>1</td>\n",
       "      <td>factor</td>\n",
       "      <td>0.0</td>\n",
       "      <td>1.0</td>\n",
       "    </tr>\n",
       "    <tr>\n",
       "      <th>pname:npf_k_layer1_gr_inst:0_ptype:gr_pstyle:m_i:0_j:1_x:375.00_y:9875.00_zone:1</th>\n",
       "      <td>pname:npf_k_layer1_gr_inst:0_ptype:gr_pstyle:m_i:0_j:1_x:375.00_y:9875.00_zone:1</td>\n",
       "      <td>1.0</td>\n",
       "      <td>0</td>\n",
       "      <td>1</td>\n",
       "      <td>375.0</td>\n",
       "      <td>9875.0</td>\n",
       "      <td>npf_k_layer1_gr</td>\n",
       "      <td>freyberg6_template\\npf_k_layer1_gr_inst0_grid.csv.tpl</td>\n",
       "      <td>freyberg6_template\\mult\\npf_k_layer1_gr_inst0_grid.csv</td>\n",
       "      <td>grid</td>\n",
       "      <td>log</td>\n",
       "      <td>5.0</td>\n",
       "      <td>0.2</td>\n",
       "      <td>1</td>\n",
       "      <td>factor</td>\n",
       "      <td>0.0</td>\n",
       "      <td>1.0</td>\n",
       "    </tr>\n",
       "    <tr>\n",
       "      <th>pname:npf_k_layer1_gr_inst:0_ptype:gr_pstyle:m_i:0_j:2_x:625.00_y:9875.00_zone:1</th>\n",
       "      <td>pname:npf_k_layer1_gr_inst:0_ptype:gr_pstyle:m_i:0_j:2_x:625.00_y:9875.00_zone:1</td>\n",
       "      <td>1.0</td>\n",
       "      <td>0</td>\n",
       "      <td>2</td>\n",
       "      <td>625.0</td>\n",
       "      <td>9875.0</td>\n",
       "      <td>npf_k_layer1_gr</td>\n",
       "      <td>freyberg6_template\\npf_k_layer1_gr_inst0_grid.csv.tpl</td>\n",
       "      <td>freyberg6_template\\mult\\npf_k_layer1_gr_inst0_grid.csv</td>\n",
       "      <td>grid</td>\n",
       "      <td>log</td>\n",
       "      <td>5.0</td>\n",
       "      <td>0.2</td>\n",
       "      <td>1</td>\n",
       "      <td>factor</td>\n",
       "      <td>0.0</td>\n",
       "      <td>1.0</td>\n",
       "    </tr>\n",
       "    <tr>\n",
       "      <th>pname:npf_k_layer1_gr_inst:0_ptype:gr_pstyle:m_i:0_j:3_x:875.00_y:9875.00_zone:1</th>\n",
       "      <td>pname:npf_k_layer1_gr_inst:0_ptype:gr_pstyle:m_i:0_j:3_x:875.00_y:9875.00_zone:1</td>\n",
       "      <td>1.0</td>\n",
       "      <td>0</td>\n",
       "      <td>3</td>\n",
       "      <td>875.0</td>\n",
       "      <td>9875.0</td>\n",
       "      <td>npf_k_layer1_gr</td>\n",
       "      <td>freyberg6_template\\npf_k_layer1_gr_inst0_grid.csv.tpl</td>\n",
       "      <td>freyberg6_template\\mult\\npf_k_layer1_gr_inst0_grid.csv</td>\n",
       "      <td>grid</td>\n",
       "      <td>log</td>\n",
       "      <td>5.0</td>\n",
       "      <td>0.2</td>\n",
       "      <td>1</td>\n",
       "      <td>factor</td>\n",
       "      <td>0.0</td>\n",
       "      <td>1.0</td>\n",
       "    </tr>\n",
       "    <tr>\n",
       "      <th>pname:npf_k_layer1_gr_inst:0_ptype:gr_pstyle:m_i:0_j:4_x:1125.00_y:9875.00_zone:1</th>\n",
       "      <td>pname:npf_k_layer1_gr_inst:0_ptype:gr_pstyle:m_i:0_j:4_x:1125.00_y:9875.00_zone:1</td>\n",
       "      <td>1.0</td>\n",
       "      <td>0</td>\n",
       "      <td>4</td>\n",
       "      <td>1125.0</td>\n",
       "      <td>9875.0</td>\n",
       "      <td>npf_k_layer1_gr</td>\n",
       "      <td>freyberg6_template\\npf_k_layer1_gr_inst0_grid.csv.tpl</td>\n",
       "      <td>freyberg6_template\\mult\\npf_k_layer1_gr_inst0_grid.csv</td>\n",
       "      <td>grid</td>\n",
       "      <td>log</td>\n",
       "      <td>5.0</td>\n",
       "      <td>0.2</td>\n",
       "      <td>1</td>\n",
       "      <td>factor</td>\n",
       "      <td>0.0</td>\n",
       "      <td>1.0</td>\n",
       "    </tr>\n",
       "  </tbody>\n",
       "</table>\n",
       "</div>"
      ],
      "text/plain": [
       "                                                                                                                                                              parnme  \\\n",
       "pname:npf_k_layer1_gr_inst:0_ptype:gr_pstyle:m_i:0_j:0_x:125.00_y:9875.00_zone:1    pname:npf_k_layer1_gr_inst:0_ptype:gr_pstyle:m_i:0_j:0_x:125.00_y:9875.00_zone:1   \n",
       "pname:npf_k_layer1_gr_inst:0_ptype:gr_pstyle:m_i:0_j:1_x:375.00_y:9875.00_zone:1    pname:npf_k_layer1_gr_inst:0_ptype:gr_pstyle:m_i:0_j:1_x:375.00_y:9875.00_zone:1   \n",
       "pname:npf_k_layer1_gr_inst:0_ptype:gr_pstyle:m_i:0_j:2_x:625.00_y:9875.00_zone:1    pname:npf_k_layer1_gr_inst:0_ptype:gr_pstyle:m_i:0_j:2_x:625.00_y:9875.00_zone:1   \n",
       "pname:npf_k_layer1_gr_inst:0_ptype:gr_pstyle:m_i:0_j:3_x:875.00_y:9875.00_zone:1    pname:npf_k_layer1_gr_inst:0_ptype:gr_pstyle:m_i:0_j:3_x:875.00_y:9875.00_zone:1   \n",
       "pname:npf_k_layer1_gr_inst:0_ptype:gr_pstyle:m_i:0_j:4_x:1125.00_y:9875.00_zone:1  pname:npf_k_layer1_gr_inst:0_ptype:gr_pstyle:m_i:0_j:4_x:1125.00_y:9875.00_zone:1   \n",
       "\n",
       "                                                                                   parval1  \\\n",
       "pname:npf_k_layer1_gr_inst:0_ptype:gr_pstyle:m_i:0_j:0_x:125.00_y:9875.00_zone:1       1.0   \n",
       "pname:npf_k_layer1_gr_inst:0_ptype:gr_pstyle:m_i:0_j:1_x:375.00_y:9875.00_zone:1       1.0   \n",
       "pname:npf_k_layer1_gr_inst:0_ptype:gr_pstyle:m_i:0_j:2_x:625.00_y:9875.00_zone:1       1.0   \n",
       "pname:npf_k_layer1_gr_inst:0_ptype:gr_pstyle:m_i:0_j:3_x:875.00_y:9875.00_zone:1       1.0   \n",
       "pname:npf_k_layer1_gr_inst:0_ptype:gr_pstyle:m_i:0_j:4_x:1125.00_y:9875.00_zone:1      1.0   \n",
       "\n",
       "                                                                                   i  \\\n",
       "pname:npf_k_layer1_gr_inst:0_ptype:gr_pstyle:m_i:0_j:0_x:125.00_y:9875.00_zone:1   0   \n",
       "pname:npf_k_layer1_gr_inst:0_ptype:gr_pstyle:m_i:0_j:1_x:375.00_y:9875.00_zone:1   0   \n",
       "pname:npf_k_layer1_gr_inst:0_ptype:gr_pstyle:m_i:0_j:2_x:625.00_y:9875.00_zone:1   0   \n",
       "pname:npf_k_layer1_gr_inst:0_ptype:gr_pstyle:m_i:0_j:3_x:875.00_y:9875.00_zone:1   0   \n",
       "pname:npf_k_layer1_gr_inst:0_ptype:gr_pstyle:m_i:0_j:4_x:1125.00_y:9875.00_zone:1  0   \n",
       "\n",
       "                                                                                   j  \\\n",
       "pname:npf_k_layer1_gr_inst:0_ptype:gr_pstyle:m_i:0_j:0_x:125.00_y:9875.00_zone:1   0   \n",
       "pname:npf_k_layer1_gr_inst:0_ptype:gr_pstyle:m_i:0_j:1_x:375.00_y:9875.00_zone:1   1   \n",
       "pname:npf_k_layer1_gr_inst:0_ptype:gr_pstyle:m_i:0_j:2_x:625.00_y:9875.00_zone:1   2   \n",
       "pname:npf_k_layer1_gr_inst:0_ptype:gr_pstyle:m_i:0_j:3_x:875.00_y:9875.00_zone:1   3   \n",
       "pname:npf_k_layer1_gr_inst:0_ptype:gr_pstyle:m_i:0_j:4_x:1125.00_y:9875.00_zone:1  4   \n",
       "\n",
       "                                                                                        x  \\\n",
       "pname:npf_k_layer1_gr_inst:0_ptype:gr_pstyle:m_i:0_j:0_x:125.00_y:9875.00_zone:1    125.0   \n",
       "pname:npf_k_layer1_gr_inst:0_ptype:gr_pstyle:m_i:0_j:1_x:375.00_y:9875.00_zone:1    375.0   \n",
       "pname:npf_k_layer1_gr_inst:0_ptype:gr_pstyle:m_i:0_j:2_x:625.00_y:9875.00_zone:1    625.0   \n",
       "pname:npf_k_layer1_gr_inst:0_ptype:gr_pstyle:m_i:0_j:3_x:875.00_y:9875.00_zone:1    875.0   \n",
       "pname:npf_k_layer1_gr_inst:0_ptype:gr_pstyle:m_i:0_j:4_x:1125.00_y:9875.00_zone:1  1125.0   \n",
       "\n",
       "                                                                                        y  \\\n",
       "pname:npf_k_layer1_gr_inst:0_ptype:gr_pstyle:m_i:0_j:0_x:125.00_y:9875.00_zone:1   9875.0   \n",
       "pname:npf_k_layer1_gr_inst:0_ptype:gr_pstyle:m_i:0_j:1_x:375.00_y:9875.00_zone:1   9875.0   \n",
       "pname:npf_k_layer1_gr_inst:0_ptype:gr_pstyle:m_i:0_j:2_x:625.00_y:9875.00_zone:1   9875.0   \n",
       "pname:npf_k_layer1_gr_inst:0_ptype:gr_pstyle:m_i:0_j:3_x:875.00_y:9875.00_zone:1   9875.0   \n",
       "pname:npf_k_layer1_gr_inst:0_ptype:gr_pstyle:m_i:0_j:4_x:1125.00_y:9875.00_zone:1  9875.0   \n",
       "\n",
       "                                                                                             pargp  \\\n",
       "pname:npf_k_layer1_gr_inst:0_ptype:gr_pstyle:m_i:0_j:0_x:125.00_y:9875.00_zone:1   npf_k_layer1_gr   \n",
       "pname:npf_k_layer1_gr_inst:0_ptype:gr_pstyle:m_i:0_j:1_x:375.00_y:9875.00_zone:1   npf_k_layer1_gr   \n",
       "pname:npf_k_layer1_gr_inst:0_ptype:gr_pstyle:m_i:0_j:2_x:625.00_y:9875.00_zone:1   npf_k_layer1_gr   \n",
       "pname:npf_k_layer1_gr_inst:0_ptype:gr_pstyle:m_i:0_j:3_x:875.00_y:9875.00_zone:1   npf_k_layer1_gr   \n",
       "pname:npf_k_layer1_gr_inst:0_ptype:gr_pstyle:m_i:0_j:4_x:1125.00_y:9875.00_zone:1  npf_k_layer1_gr   \n",
       "\n",
       "                                                                                                                            tpl_filename  \\\n",
       "pname:npf_k_layer1_gr_inst:0_ptype:gr_pstyle:m_i:0_j:0_x:125.00_y:9875.00_zone:1   freyberg6_template\\npf_k_layer1_gr_inst0_grid.csv.tpl   \n",
       "pname:npf_k_layer1_gr_inst:0_ptype:gr_pstyle:m_i:0_j:1_x:375.00_y:9875.00_zone:1   freyberg6_template\\npf_k_layer1_gr_inst0_grid.csv.tpl   \n",
       "pname:npf_k_layer1_gr_inst:0_ptype:gr_pstyle:m_i:0_j:2_x:625.00_y:9875.00_zone:1   freyberg6_template\\npf_k_layer1_gr_inst0_grid.csv.tpl   \n",
       "pname:npf_k_layer1_gr_inst:0_ptype:gr_pstyle:m_i:0_j:3_x:875.00_y:9875.00_zone:1   freyberg6_template\\npf_k_layer1_gr_inst0_grid.csv.tpl   \n",
       "pname:npf_k_layer1_gr_inst:0_ptype:gr_pstyle:m_i:0_j:4_x:1125.00_y:9875.00_zone:1  freyberg6_template\\npf_k_layer1_gr_inst0_grid.csv.tpl   \n",
       "\n",
       "                                                                                                                           input_filename  \\\n",
       "pname:npf_k_layer1_gr_inst:0_ptype:gr_pstyle:m_i:0_j:0_x:125.00_y:9875.00_zone:1   freyberg6_template\\mult\\npf_k_layer1_gr_inst0_grid.csv   \n",
       "pname:npf_k_layer1_gr_inst:0_ptype:gr_pstyle:m_i:0_j:1_x:375.00_y:9875.00_zone:1   freyberg6_template\\mult\\npf_k_layer1_gr_inst0_grid.csv   \n",
       "pname:npf_k_layer1_gr_inst:0_ptype:gr_pstyle:m_i:0_j:2_x:625.00_y:9875.00_zone:1   freyberg6_template\\mult\\npf_k_layer1_gr_inst0_grid.csv   \n",
       "pname:npf_k_layer1_gr_inst:0_ptype:gr_pstyle:m_i:0_j:3_x:875.00_y:9875.00_zone:1   freyberg6_template\\mult\\npf_k_layer1_gr_inst0_grid.csv   \n",
       "pname:npf_k_layer1_gr_inst:0_ptype:gr_pstyle:m_i:0_j:4_x:1125.00_y:9875.00_zone:1  freyberg6_template\\mult\\npf_k_layer1_gr_inst0_grid.csv   \n",
       "\n",
       "                                                                                  partype  \\\n",
       "pname:npf_k_layer1_gr_inst:0_ptype:gr_pstyle:m_i:0_j:0_x:125.00_y:9875.00_zone:1     grid   \n",
       "pname:npf_k_layer1_gr_inst:0_ptype:gr_pstyle:m_i:0_j:1_x:375.00_y:9875.00_zone:1     grid   \n",
       "pname:npf_k_layer1_gr_inst:0_ptype:gr_pstyle:m_i:0_j:2_x:625.00_y:9875.00_zone:1     grid   \n",
       "pname:npf_k_layer1_gr_inst:0_ptype:gr_pstyle:m_i:0_j:3_x:875.00_y:9875.00_zone:1     grid   \n",
       "pname:npf_k_layer1_gr_inst:0_ptype:gr_pstyle:m_i:0_j:4_x:1125.00_y:9875.00_zone:1    grid   \n",
       "\n",
       "                                                                                  partrans  \\\n",
       "pname:npf_k_layer1_gr_inst:0_ptype:gr_pstyle:m_i:0_j:0_x:125.00_y:9875.00_zone:1       log   \n",
       "pname:npf_k_layer1_gr_inst:0_ptype:gr_pstyle:m_i:0_j:1_x:375.00_y:9875.00_zone:1       log   \n",
       "pname:npf_k_layer1_gr_inst:0_ptype:gr_pstyle:m_i:0_j:2_x:625.00_y:9875.00_zone:1       log   \n",
       "pname:npf_k_layer1_gr_inst:0_ptype:gr_pstyle:m_i:0_j:3_x:875.00_y:9875.00_zone:1       log   \n",
       "pname:npf_k_layer1_gr_inst:0_ptype:gr_pstyle:m_i:0_j:4_x:1125.00_y:9875.00_zone:1      log   \n",
       "\n",
       "                                                                                   parubnd  \\\n",
       "pname:npf_k_layer1_gr_inst:0_ptype:gr_pstyle:m_i:0_j:0_x:125.00_y:9875.00_zone:1       5.0   \n",
       "pname:npf_k_layer1_gr_inst:0_ptype:gr_pstyle:m_i:0_j:1_x:375.00_y:9875.00_zone:1       5.0   \n",
       "pname:npf_k_layer1_gr_inst:0_ptype:gr_pstyle:m_i:0_j:2_x:625.00_y:9875.00_zone:1       5.0   \n",
       "pname:npf_k_layer1_gr_inst:0_ptype:gr_pstyle:m_i:0_j:3_x:875.00_y:9875.00_zone:1       5.0   \n",
       "pname:npf_k_layer1_gr_inst:0_ptype:gr_pstyle:m_i:0_j:4_x:1125.00_y:9875.00_zone:1      5.0   \n",
       "\n",
       "                                                                                   parlbnd  \\\n",
       "pname:npf_k_layer1_gr_inst:0_ptype:gr_pstyle:m_i:0_j:0_x:125.00_y:9875.00_zone:1       0.2   \n",
       "pname:npf_k_layer1_gr_inst:0_ptype:gr_pstyle:m_i:0_j:1_x:375.00_y:9875.00_zone:1       0.2   \n",
       "pname:npf_k_layer1_gr_inst:0_ptype:gr_pstyle:m_i:0_j:2_x:625.00_y:9875.00_zone:1       0.2   \n",
       "pname:npf_k_layer1_gr_inst:0_ptype:gr_pstyle:m_i:0_j:3_x:875.00_y:9875.00_zone:1       0.2   \n",
       "pname:npf_k_layer1_gr_inst:0_ptype:gr_pstyle:m_i:0_j:4_x:1125.00_y:9875.00_zone:1      0.2   \n",
       "\n",
       "                                                                                   dercom  \\\n",
       "pname:npf_k_layer1_gr_inst:0_ptype:gr_pstyle:m_i:0_j:0_x:125.00_y:9875.00_zone:1        1   \n",
       "pname:npf_k_layer1_gr_inst:0_ptype:gr_pstyle:m_i:0_j:1_x:375.00_y:9875.00_zone:1        1   \n",
       "pname:npf_k_layer1_gr_inst:0_ptype:gr_pstyle:m_i:0_j:2_x:625.00_y:9875.00_zone:1        1   \n",
       "pname:npf_k_layer1_gr_inst:0_ptype:gr_pstyle:m_i:0_j:3_x:875.00_y:9875.00_zone:1        1   \n",
       "pname:npf_k_layer1_gr_inst:0_ptype:gr_pstyle:m_i:0_j:4_x:1125.00_y:9875.00_zone:1       1   \n",
       "\n",
       "                                                                                  parchglim  \\\n",
       "pname:npf_k_layer1_gr_inst:0_ptype:gr_pstyle:m_i:0_j:0_x:125.00_y:9875.00_zone:1     factor   \n",
       "pname:npf_k_layer1_gr_inst:0_ptype:gr_pstyle:m_i:0_j:1_x:375.00_y:9875.00_zone:1     factor   \n",
       "pname:npf_k_layer1_gr_inst:0_ptype:gr_pstyle:m_i:0_j:2_x:625.00_y:9875.00_zone:1     factor   \n",
       "pname:npf_k_layer1_gr_inst:0_ptype:gr_pstyle:m_i:0_j:3_x:875.00_y:9875.00_zone:1     factor   \n",
       "pname:npf_k_layer1_gr_inst:0_ptype:gr_pstyle:m_i:0_j:4_x:1125.00_y:9875.00_zone:1    factor   \n",
       "\n",
       "                                                                                   offset  \\\n",
       "pname:npf_k_layer1_gr_inst:0_ptype:gr_pstyle:m_i:0_j:0_x:125.00_y:9875.00_zone:1      0.0   \n",
       "pname:npf_k_layer1_gr_inst:0_ptype:gr_pstyle:m_i:0_j:1_x:375.00_y:9875.00_zone:1      0.0   \n",
       "pname:npf_k_layer1_gr_inst:0_ptype:gr_pstyle:m_i:0_j:2_x:625.00_y:9875.00_zone:1      0.0   \n",
       "pname:npf_k_layer1_gr_inst:0_ptype:gr_pstyle:m_i:0_j:3_x:875.00_y:9875.00_zone:1      0.0   \n",
       "pname:npf_k_layer1_gr_inst:0_ptype:gr_pstyle:m_i:0_j:4_x:1125.00_y:9875.00_zone:1     0.0   \n",
       "\n",
       "                                                                                   scale  \n",
       "pname:npf_k_layer1_gr_inst:0_ptype:gr_pstyle:m_i:0_j:0_x:125.00_y:9875.00_zone:1     1.0  \n",
       "pname:npf_k_layer1_gr_inst:0_ptype:gr_pstyle:m_i:0_j:1_x:375.00_y:9875.00_zone:1     1.0  \n",
       "pname:npf_k_layer1_gr_inst:0_ptype:gr_pstyle:m_i:0_j:2_x:625.00_y:9875.00_zone:1     1.0  \n",
       "pname:npf_k_layer1_gr_inst:0_ptype:gr_pstyle:m_i:0_j:3_x:875.00_y:9875.00_zone:1     1.0  \n",
       "pname:npf_k_layer1_gr_inst:0_ptype:gr_pstyle:m_i:0_j:4_x:1125.00_y:9875.00_zone:1    1.0  "
      ]
     },
     "execution_count": 21,
     "metadata": {},
     "output_type": "execute_result"
    }
   ],
   "source": [
    "df_gr.head()"
   ]
  },
  {
   "cell_type": "markdown",
   "metadata": {},
   "source": [
    "Now, we add pilot point (medium scale) multiplier parameters to the same model input file. These multipliers are assigned to pilot points, which are subsequently interpolated to values in the array.\n",
    "\n",
    "You can add pilot points in two ways:\n",
    "\n",
    "1. `PstFrom` can generate them for you on a regular grid or \n",
    "2. you can supply `PstFrom` with existing pilot point location information. \n",
    "\n",
    "When you change `par_type` to \"pilotpoints\", by default, a regular grid of pilot points is setup using a default `pp_space` value of 10 (which is every 10th row and column). You can chnge this spacing by passing a integer to `pp_space` (as demonstrated below). \n",
    "\n",
    "Alternatively you can specify a filename or dataframe with pilot point locations. If you supply `pp_space` as a `str` it is assumed to be a filename. The extension is the guide: \".csv\" for dataframe, \".shp\" for shapefile (point-type). Anything else and the file is assumed to be a pilot points file type. The dataframe (or .csv file) must have \"name\", \"x\", and \"y\" as columns - it can have more, but must have those. "
   ]
  },
  {
   "cell_type": "code",
   "execution_count": 22,
   "metadata": {
    "execution": {
     "iopub.execute_input": "2022-02-21T04:20:18.990753Z",
     "iopub.status.busy": "2022-02-21T04:20:18.990753Z",
     "iopub.status.idle": "2022-02-21T04:20:34.549500Z",
     "shell.execute_reply": "2022-02-21T04:20:34.549500Z"
    }
   },
   "outputs": [
    {
     "name": "stdout",
     "output_type": "stream",
     "text": [
      "2022-02-21 14:50:18.989756 starting: adding pilotpoints type m style parameters for file(s) ['freyberg6.npf_k_layer1.txt']\n",
      "2022-02-21 14:50:18.989756 starting: loading array freyberg6_template\\freyberg6.npf_k_layer1.txt\n",
      "2022-02-21 14:50:18.991750 finished: loading array freyberg6_template\\freyberg6.npf_k_layer1.txt took: 0:00:00.001994\n",
      "2022-02-21 14:50:18.991750 loaded array 'freyberg_mf6\\freyberg6.npf_k_layer1.txt' of shape (40, 20)\n",
      "2022-02-21 14:50:18.992748 starting: writing array-style template file 'freyberg6_template\\npf_k_layer1_pp_inst0_pilotpoints.csv.tpl'\n",
      "2022-02-21 14:50:18.992748 starting: setting up pilot point parameters\n",
      "2022-02-21 14:50:18.992748 No spatial reference (containing cell spacing) passed.\n",
      "2022-02-21 14:50:18.993745 OK - using spatial reference in parent object.\n"
     ]
    },
    {
     "name": "stdout",
     "output_type": "stream",
     "text": [
      "2022-02-21 14:50:19.080514 32 pilot point parameters created\n",
      "2022-02-21 14:50:19.080514 pilot point 'pargp':npf_k_layer1_pp\n",
      "2022-02-21 14:50:19.080514 finished: setting up pilot point parameters took: 0:00:00.087766\n",
      "2022-02-21 14:50:19.086497 starting: calculating factors for pargp=npf_k_layer1_pp\n",
      "2022-02-21 14:50:19.087494 saving krige variance file:freyberg6_template\\npf_k_layer1_pp_inst0pp.var.dat\n",
      "2022-02-21 14:50:19.087494 saving krige factors file:freyberg6_template\\npf_k_layer1_pp_inst0pp.fac\n",
      "starting interp point loop for 706 points\n"
     ]
    },
    {
     "name": "stdout",
     "output_type": "stream",
     "text": [
      "starting 0\n"
     ]
    },
    {
     "name": "stdout",
     "output_type": "stream",
     "text": [
      "starting 1\n"
     ]
    },
    {
     "name": "stdout",
     "output_type": "stream",
     "text": [
      "starting 2\n"
     ]
    },
    {
     "name": "stdout",
     "output_type": "stream",
     "text": [
      "starting 3\n"
     ]
    },
    {
     "name": "stdout",
     "output_type": "stream",
     "text": [
      "starting 4\n"
     ]
    },
    {
     "name": "stdout",
     "output_type": "stream",
     "text": [
      "starting 5\n"
     ]
    },
    {
     "name": "stdout",
     "output_type": "stream",
     "text": [
      "starting 6\n"
     ]
    },
    {
     "name": "stdout",
     "output_type": "stream",
     "text": [
      "starting 7\n"
     ]
    },
    {
     "name": "stdout",
     "output_type": "stream",
     "text": [
      "starting 8\n"
     ]
    },
    {
     "name": "stdout",
     "output_type": "stream",
     "text": [
      "starting 9\n"
     ]
    },
    {
     "name": "stdout",
     "output_type": "stream",
     "text": [
      "took 15.410176 seconds\n",
      "2022-02-21 14:50:34.540575 finished: calculating factors for pargp=npf_k_layer1_pp took: 0:00:15.454078\n",
      "2022-02-21 14:50:34.540575 starting: writing array-based template file 'freyberg6_template\\npf_k_layer1_pp_inst0pp.dat.tpl'\n",
      "2022-02-21 14:50:34.540575 saving zone array freyberg6_template\\npf_k_layer1_pp_inst0pp.dat.zone for tpl file freyberg6_template\\npf_k_layer1_pp_inst0pp.dat.tpl\n",
      "2022-02-21 14:50:34.546563 finished: adding pilotpoints type m style parameters for file(s) ['freyberg6.npf_k_layer1.txt'] took: 0:00:15.556807\n"
     ]
    }
   ],
   "source": [
    "# pilot point (medium) scale parameters\n",
    "df_pp = pf.add_parameters(f,\n",
    "                    zone_array=ib,\n",
    "                    par_type=\"pilotpoints\",\n",
    "                    geostruct=grid_gs,\n",
    "                    par_name_base=f.split('.')[1]+\"_pp\",\n",
    "                    pargp=f.split('.')[1]+\"_pp\",\n",
    "                    lower_bound=0.2,upper_bound=5.0,\n",
    "                    ult_ubound=100, ult_lbound=0.01,\n",
    "                    pp_space=4) # `PstFrom` will generate a unifrom grid of pilot points in every 4th row and column"
   ]
  },
  {
   "cell_type": "markdown",
   "metadata": {},
   "source": [
    "Lastly, add the constant (coarse) parameter multiplier. This is a single multiplier value applied to all values in the array. "
   ]
  },
  {
   "cell_type": "code",
   "execution_count": 23,
   "metadata": {
    "execution": {
     "iopub.execute_input": "2022-02-21T04:20:34.553491Z",
     "iopub.status.busy": "2022-02-21T04:20:34.553491Z",
     "iopub.status.idle": "2022-02-21T04:20:34.572477Z",
     "shell.execute_reply": "2022-02-21T04:20:34.572477Z"
    }
   },
   "outputs": [
    {
     "name": "stdout",
     "output_type": "stream",
     "text": [
      "2022-02-21 14:50:34.552525 starting: adding constant type m style parameters for file(s) ['freyberg6.npf_k_layer1.txt']\n",
      "2022-02-21 14:50:34.552525 starting: loading array freyberg6_template\\freyberg6.npf_k_layer1.txt\n",
      "2022-02-21 14:50:34.554522 finished: loading array freyberg6_template\\freyberg6.npf_k_layer1.txt took: 0:00:00.001997\n",
      "2022-02-21 14:50:34.554522 loaded array 'freyberg_mf6\\freyberg6.npf_k_layer1.txt' of shape (40, 20)\n",
      "2022-02-21 14:50:34.555608 starting: writing array-style template file 'freyberg6_template\\npf_k_layer1_cn_inst0_constant.csv.tpl'\n",
      "2022-02-21 14:50:34.555608 starting: writing template file freyberg6_template\\npf_k_layer1_cn_inst0_constant.csv.tpl for ['npf_k_layer1_cn_inst:0']\n",
      "2022-02-21 14:50:34.562536 finished: writing template file freyberg6_template\\npf_k_layer1_cn_inst0_constant.csv.tpl for ['npf_k_layer1_cn_inst:0'] took: 0:00:00.006928\n",
      "2022-02-21 14:50:34.563533 starting: writing array-based template file 'freyberg6_template\\npf_k_layer1_cn_inst0_constant.csv.tpl'\n",
      "2022-02-21 14:50:34.563533 saving zone array freyberg6_template\\npf_k_layer1_cn_inst0_constant.csv.zone for tpl file freyberg6_template\\npf_k_layer1_cn_inst0_constant.csv.tpl\n",
      "2022-02-21 14:50:34.569519 finished: adding constant type m style parameters for file(s) ['freyberg6.npf_k_layer1.txt'] took: 0:00:00.016994\n"
     ]
    }
   ],
   "source": [
    "# constant (coarse) scale parameters\n",
    "df_cst = pf.add_parameters(f,\n",
    "                    zone_array=ib,\n",
    "                    par_type=\"constant\",\n",
    "                    geostruct=grid_gs,\n",
    "                    par_name_base=f.split('.')[1]+\"_cn\",\n",
    "                    pargp=f.split('.')[1]+\"_cn\",\n",
    "                    lower_bound=0.2,upper_bound=5.0,\n",
    "                    ult_ubound=100, ult_lbound=0.01)"
   ]
  },
  {
   "cell_type": "markdown",
   "metadata": {},
   "source": [
    "Let's do that for Kh in the other layers. We are going to be doing this a few times, so lets write a function."
   ]
  },
  {
   "cell_type": "code",
   "execution_count": 24,
   "metadata": {
    "execution": {
     "iopub.execute_input": "2022-02-21T04:20:34.579459Z",
     "iopub.status.busy": "2022-02-21T04:20:34.578494Z",
     "iopub.status.idle": "2022-02-21T04:20:34.585480Z",
     "shell.execute_reply": "2022-02-21T04:20:34.584485Z"
    }
   },
   "outputs": [],
   "source": [
    "def add_mult_pars(f, lb=0.2, ub=5.0, ulb=0.01, uub=100):\n",
    "    # grid (fine) scale parameters\n",
    "    pf.add_parameters(f,\n",
    "                    zone_array=ib,\n",
    "                    par_type=\"grid\", #specify the type, these will be unique parameters for each cell\n",
    "                    geostruct=grid_gs, # the gestatisical structure for spatial correlation \n",
    "                    par_name_base=f.split('.')[1]+\"_gr\", #specify a parameter name base that allows us to easily identify the filename and parameter type. \"_gr\" for \"grid\", and so forth.\n",
    "                    pargp=f.split('.')[1]+\"_gr\", #likewise for the parameter group name\n",
    "                    lower_bound=lb, upper_bound=ub, #parameter lower and upper bound\n",
    "                    ult_ubound=uub, ult_lbound=ulb # The ultimate bounds for multiplied model input values. Here we are stating that, after accounting for all multipliers, Kh cannot exceed these values. Very important with multipliers\n",
    "                    )\n",
    "                    \n",
    "    # pilot point (medium) scale parameters\n",
    "    pf.add_parameters(f,\n",
    "                        zone_array=ib,\n",
    "                        par_type=\"pilotpoints\",\n",
    "                        geostruct=grid_gs,\n",
    "                        par_name_base=f.split('.')[1]+\"_pp\",\n",
    "                        pargp=f.split('.')[1]+\"_pp\",\n",
    "                        lower_bound=lb, upper_bound=ub,\n",
    "                        ult_ubound=uub, ult_lbound=ulb,\n",
    "                        pp_space=4) # `PstFrom` will generate a unifrom grid of pilot points in every 4th row and column\n",
    "\n",
    "    # constant (coarse) scale parameters\n",
    "    pf.add_parameters(f,\n",
    "                        zone_array=ib,\n",
    "                        par_type=\"constant\",\n",
    "                        geostruct=grid_gs,\n",
    "                        par_name_base=f.split('.')[1]+\"_cn\",\n",
    "                        pargp=f.split('.')[1]+\"_cn\",\n",
    "                        lower_bound=lb, upper_bound=ub,\n",
    "                        ult_ubound=uub, ult_lbound=ulb)\n",
    "    return"
   ]
  },
  {
   "cell_type": "code",
   "execution_count": 25,
   "metadata": {
    "execution": {
     "iopub.execute_input": "2022-02-21T04:20:34.592460Z",
     "iopub.status.busy": "2022-02-21T04:20:34.591426Z",
     "iopub.status.idle": "2022-02-21T04:20:34.897640Z",
     "shell.execute_reply": "2022-02-21T04:20:34.896609Z"
    }
   },
   "outputs": [
    {
     "name": "stdout",
     "output_type": "stream",
     "text": [
      "2022-02-21 14:50:34.589468 starting: adding grid type m style parameters for file(s) ['freyberg6.npf_k_layer2.txt']\n",
      "2022-02-21 14:50:34.589468 starting: loading array freyberg6_template\\freyberg6.npf_k_layer2.txt\n",
      "2022-02-21 14:50:34.600452 finished: loading array freyberg6_template\\freyberg6.npf_k_layer2.txt took: 0:00:00.010984\n",
      "2022-02-21 14:50:34.600452 loaded array 'freyberg_mf6\\freyberg6.npf_k_layer2.txt' of shape (40, 20)\n",
      "2022-02-21 14:50:34.603443 starting: writing array-style template file 'freyberg6_template\\npf_k_layer2_gr_inst0_grid.csv.tpl'\n",
      "2022-02-21 14:50:34.603443 starting: writing template file freyberg6_template\\npf_k_layer2_gr_inst0_grid.csv.tpl for ['npf_k_layer2_gr_inst:0']\n",
      "2022-02-21 14:50:34.616360 finished: writing template file freyberg6_template\\npf_k_layer2_gr_inst0_grid.csv.tpl for ['npf_k_layer2_gr_inst:0'] took: 0:00:00.012917\n",
      "2022-02-21 14:50:34.616360 starting: writing array-based template file 'freyberg6_template\\npf_k_layer2_gr_inst0_grid.csv.tpl'\n",
      "2022-02-21 14:50:34.616360 saving zone array freyberg6_template\\npf_k_layer2_gr_inst0_grid.csv.zone for tpl file freyberg6_template\\npf_k_layer2_gr_inst0_grid.csv.tpl\n",
      "2022-02-21 14:50:34.624371 finished: adding grid type m style parameters for file(s) ['freyberg6.npf_k_layer2.txt'] took: 0:00:00.034903\n",
      "2022-02-21 14:50:34.624371 starting: adding pilotpoints type m style parameters for file(s) ['freyberg6.npf_k_layer2.txt']\n",
      "2022-02-21 14:50:34.624371 starting: loading array freyberg6_template\\freyberg6.npf_k_layer2.txt\n",
      "2022-02-21 14:50:34.625370 finished: loading array freyberg6_template\\freyberg6.npf_k_layer2.txt took: 0:00:00.000999\n",
      "2022-02-21 14:50:34.625370 loaded array 'freyberg_mf6\\freyberg6.npf_k_layer2.txt' of shape (40, 20)\n",
      "2022-02-21 14:50:34.627363 starting: writing array-style template file 'freyberg6_template\\npf_k_layer2_pp_inst0_pilotpoints.csv.tpl'\n",
      "2022-02-21 14:50:34.627363 starting: setting up pilot point parameters\n",
      "2022-02-21 14:50:34.627363 No spatial reference (containing cell spacing) passed.\n",
      "2022-02-21 14:50:34.627363 OK - using spatial reference in parent object.\n"
     ]
    },
    {
     "name": "stdout",
     "output_type": "stream",
     "text": [
      "2022-02-21 14:50:34.700171 32 pilot point parameters created\n",
      "2022-02-21 14:50:34.700171 pilot point 'pargp':npf_k_layer2_pp\n",
      "2022-02-21 14:50:34.701187 finished: setting up pilot point parameters took: 0:00:00.073824\n",
      "2022-02-21 14:50:34.707169 starting: writing array-based template file 'freyberg6_template\\npf_k_layer2_pp_inst0pp.dat.tpl'\n",
      "2022-02-21 14:50:34.708169 saving zone array freyberg6_template\\npf_k_layer2_pp_inst0pp.dat.zone for tpl file freyberg6_template\\npf_k_layer2_pp_inst0pp.dat.tpl\n",
      "2022-02-21 14:50:34.742076 finished: adding pilotpoints type m style parameters for file(s) ['freyberg6.npf_k_layer2.txt'] took: 0:00:00.117705\n",
      "2022-02-21 14:50:34.743073 starting: adding constant type m style parameters for file(s) ['freyberg6.npf_k_layer2.txt']\n",
      "2022-02-21 14:50:34.743073 starting: loading array freyberg6_template\\freyberg6.npf_k_layer2.txt\n"
     ]
    },
    {
     "name": "stdout",
     "output_type": "stream",
     "text": [
      "2022-02-21 14:50:34.744050 finished: loading array freyberg6_template\\freyberg6.npf_k_layer2.txt took: 0:00:00.000977\n",
      "2022-02-21 14:50:34.744050 loaded array 'freyberg_mf6\\freyberg6.npf_k_layer2.txt' of shape (40, 20)\n",
      "2022-02-21 14:50:34.746067 starting: writing array-style template file 'freyberg6_template\\npf_k_layer2_cn_inst0_constant.csv.tpl'\n",
      "2022-02-21 14:50:34.746067 starting: writing template file freyberg6_template\\npf_k_layer2_cn_inst0_constant.csv.tpl for ['npf_k_layer2_cn_inst:0']\n",
      "2022-02-21 14:50:34.753012 finished: writing template file freyberg6_template\\npf_k_layer2_cn_inst0_constant.csv.tpl for ['npf_k_layer2_cn_inst:0'] took: 0:00:00.006945\n",
      "2022-02-21 14:50:34.753012 starting: writing array-based template file 'freyberg6_template\\npf_k_layer2_cn_inst0_constant.csv.tpl'\n",
      "2022-02-21 14:50:34.753012 saving zone array freyberg6_template\\npf_k_layer2_cn_inst0_constant.csv.zone for tpl file freyberg6_template\\npf_k_layer2_cn_inst0_constant.csv.tpl\n",
      "2022-02-21 14:50:34.759030 finished: adding constant type m style parameters for file(s) ['freyberg6.npf_k_layer2.txt'] took: 0:00:00.015957\n",
      "2022-02-21 14:50:34.760027 starting: adding grid type m style parameters for file(s) ['freyberg6.npf_k_layer3.txt']\n",
      "2022-02-21 14:50:34.760027 starting: loading array freyberg6_template\\freyberg6.npf_k_layer3.txt\n",
      "2022-02-21 14:50:34.766012 finished: loading array freyberg6_template\\freyberg6.npf_k_layer3.txt took: 0:00:00.005985\n",
      "2022-02-21 14:50:34.766012 loaded array 'freyberg_mf6\\freyberg6.npf_k_layer3.txt' of shape (40, 20)\n",
      "2022-02-21 14:50:34.768953 starting: writing array-style template file 'freyberg6_template\\npf_k_layer3_gr_inst0_grid.csv.tpl'\n",
      "2022-02-21 14:50:34.768953 starting: writing template file freyberg6_template\\npf_k_layer3_gr_inst0_grid.csv.tpl for ['npf_k_layer3_gr_inst:0']\n",
      "2022-02-21 14:50:34.782915 finished: writing template file freyberg6_template\\npf_k_layer3_gr_inst0_grid.csv.tpl for ['npf_k_layer3_gr_inst:0'] took: 0:00:00.013962\n",
      "2022-02-21 14:50:34.782915 starting: writing array-based template file 'freyberg6_template\\npf_k_layer3_gr_inst0_grid.csv.tpl'\n"
     ]
    },
    {
     "name": "stdout",
     "output_type": "stream",
     "text": [
      "2022-02-21 14:50:34.782915 saving zone array freyberg6_template\\npf_k_layer3_gr_inst0_grid.csv.zone for tpl file freyberg6_template\\npf_k_layer3_gr_inst0_grid.csv.tpl\n",
      "2022-02-21 14:50:34.790925 finished: adding grid type m style parameters for file(s) ['freyberg6.npf_k_layer3.txt'] took: 0:00:00.030898\n",
      "2022-02-21 14:50:34.790925 starting: adding pilotpoints type m style parameters for file(s) ['freyberg6.npf_k_layer3.txt']\n",
      "2022-02-21 14:50:34.790925 starting: loading array freyberg6_template\\freyberg6.npf_k_layer3.txt\n",
      "2022-02-21 14:50:34.791925 finished: loading array freyberg6_template\\freyberg6.npf_k_layer3.txt took: 0:00:00.001000\n",
      "2022-02-21 14:50:34.791925 loaded array 'freyberg_mf6\\freyberg6.npf_k_layer3.txt' of shape (40, 20)\n",
      "2022-02-21 14:50:34.793917 starting: writing array-style template file 'freyberg6_template\\npf_k_layer3_pp_inst0_pilotpoints.csv.tpl'\n",
      "2022-02-21 14:50:34.793917 starting: setting up pilot point parameters\n",
      "2022-02-21 14:50:34.793917 No spatial reference (containing cell spacing) passed.\n",
      "2022-02-21 14:50:34.793917 OK - using spatial reference in parent object.\n",
      "2022-02-21 14:50:34.863750 32 pilot point parameters created\n",
      "2022-02-21 14:50:34.863750 pilot point 'pargp':npf_k_layer3_pp\n",
      "2022-02-21 14:50:34.863750 finished: setting up pilot point parameters took: 0:00:00.069833\n",
      "2022-02-21 14:50:34.870711 starting: writing array-based template file 'freyberg6_template\\npf_k_layer3_pp_inst0pp.dat.tpl'\n",
      "2022-02-21 14:50:34.870711 saving zone array freyberg6_template\\npf_k_layer3_pp_inst0pp.dat.zone for tpl file freyberg6_template\\npf_k_layer3_pp_inst0pp.dat.tpl\n",
      "2022-02-21 14:50:34.875720 finished: adding pilotpoints type m style parameters for file(s) ['freyberg6.npf_k_layer3.txt'] took: 0:00:00.084795\n",
      "2022-02-21 14:50:34.875720 starting: adding constant type m style parameters for file(s) ['freyberg6.npf_k_layer3.txt']\n",
      "2022-02-21 14:50:34.875720 starting: loading array freyberg6_template\\freyberg6.npf_k_layer3.txt\n",
      "2022-02-21 14:50:34.877712 finished: loading array freyberg6_template\\freyberg6.npf_k_layer3.txt took: 0:00:00.001992\n",
      "2022-02-21 14:50:34.877712 loaded array 'freyberg_mf6\\freyberg6.npf_k_layer3.txt' of shape (40, 20)\n",
      "2022-02-21 14:50:34.878714 starting: writing array-style template file 'freyberg6_template\\npf_k_layer3_cn_inst0_constant.csv.tpl'\n",
      "2022-02-21 14:50:34.878714 starting: writing template file freyberg6_template\\npf_k_layer3_cn_inst0_constant.csv.tpl for ['npf_k_layer3_cn_inst:0']\n",
      "2022-02-21 14:50:34.885678 finished: writing template file freyberg6_template\\npf_k_layer3_cn_inst0_constant.csv.tpl for ['npf_k_layer3_cn_inst:0'] took: 0:00:00.006964\n",
      "2022-02-21 14:50:34.885678 starting: writing array-based template file 'freyberg6_template\\npf_k_layer3_cn_inst0_constant.csv.tpl'\n",
      "2022-02-21 14:50:34.885678 saving zone array freyberg6_template\\npf_k_layer3_cn_inst0_constant.csv.zone for tpl file freyberg6_template\\npf_k_layer3_cn_inst0_constant.csv.tpl\n"
     ]
    },
    {
     "name": "stdout",
     "output_type": "stream",
     "text": [
      "2022-02-21 14:50:34.892653 finished: adding constant type m style parameters for file(s) ['freyberg6.npf_k_layer3.txt'] took: 0:00:00.016933\n"
     ]
    }
   ],
   "source": [
    "for f in files[1:]:\n",
    "    add_mult_pars(f, lb=0.2, ub=5.0, ulb=0.01, uub=100)"
   ]
  },
  {
   "cell_type": "markdown",
   "metadata": {},
   "source": [
    "Well...hot damn, wasn't that easy? Let's speed through the other array parameter files."
   ]
  },
  {
   "cell_type": "code",
   "execution_count": 26,
   "metadata": {
    "execution": {
     "iopub.execute_input": "2022-02-21T04:20:34.902594Z",
     "iopub.status.busy": "2022-02-21T04:20:34.902594Z",
     "iopub.status.idle": "2022-02-21T04:20:35.710786Z",
     "shell.execute_reply": "2022-02-21T04:20:35.709764Z"
    }
   },
   "outputs": [
    {
     "name": "stdout",
     "output_type": "stream",
     "text": [
      "2022-02-21 14:50:34.902594 starting: adding grid type m style parameters for file(s) ['freyberg6.npf_k33_layer1.txt']\n",
      "2022-02-21 14:50:34.902594 starting: loading array freyberg6_template\\freyberg6.npf_k33_layer1.txt\n",
      "2022-02-21 14:50:34.909627 finished: loading array freyberg6_template\\freyberg6.npf_k33_layer1.txt took: 0:00:00.007033\n",
      "2022-02-21 14:50:34.909627 loaded array 'freyberg_mf6\\freyberg6.npf_k33_layer1.txt' of shape (40, 20)\n",
      "2022-02-21 14:50:34.911622 starting: writing array-style template file 'freyberg6_template\\npf_k33_layer1_gr_inst0_grid.csv.tpl'\n",
      "2022-02-21 14:50:34.911622 starting: writing template file freyberg6_template\\npf_k33_layer1_gr_inst0_grid.csv.tpl for ['npf_k33_layer1_gr_inst:0']\n",
      "2022-02-21 14:50:34.923538 finished: writing template file freyberg6_template\\npf_k33_layer1_gr_inst0_grid.csv.tpl for ['npf_k33_layer1_gr_inst:0'] took: 0:00:00.011916\n",
      "2022-02-21 14:50:34.923538 starting: writing array-based template file 'freyberg6_template\\npf_k33_layer1_gr_inst0_grid.csv.tpl'\n",
      "2022-02-21 14:50:34.923538 saving zone array freyberg6_template\\npf_k33_layer1_gr_inst0_grid.csv.zone for tpl file freyberg6_template\\npf_k33_layer1_gr_inst0_grid.csv.tpl\n",
      "2022-02-21 14:50:34.931518 finished: adding grid type m style parameters for file(s) ['freyberg6.npf_k33_layer1.txt'] took: 0:00:00.028924\n"
     ]
    },
    {
     "name": "stdout",
     "output_type": "stream",
     "text": [
      "2022-02-21 14:50:34.931518 starting: adding pilotpoints type m style parameters for file(s) ['freyberg6.npf_k33_layer1.txt']\n",
      "2022-02-21 14:50:34.931518 starting: loading array freyberg6_template\\freyberg6.npf_k33_layer1.txt\n",
      "2022-02-21 14:50:34.933546 finished: loading array freyberg6_template\\freyberg6.npf_k33_layer1.txt took: 0:00:00.002028\n",
      "2022-02-21 14:50:34.933546 loaded array 'freyberg_mf6\\freyberg6.npf_k33_layer1.txt' of shape (40, 20)\n",
      "2022-02-21 14:50:34.935538 starting: writing array-style template file 'freyberg6_template\\npf_k33_layer1_pp_inst0_pilotpoints.csv.tpl'\n",
      "2022-02-21 14:50:34.935538 starting: setting up pilot point parameters\n",
      "2022-02-21 14:50:34.935538 No spatial reference (containing cell spacing) passed.\n",
      "2022-02-21 14:50:34.935538 OK - using spatial reference in parent object.\n"
     ]
    },
    {
     "name": "stdout",
     "output_type": "stream",
     "text": [
      "2022-02-21 14:50:35.007855 32 pilot point parameters created\n",
      "2022-02-21 14:50:35.008904 pilot point 'pargp':npf_k33_layer1_pp\n",
      "2022-02-21 14:50:35.008904 finished: setting up pilot point parameters took: 0:00:00.073366\n",
      "2022-02-21 14:50:35.015891 starting: writing array-based template file 'freyberg6_template\\npf_k33_layer1_pp_inst0pp.dat.tpl'\n",
      "2022-02-21 14:50:35.015891 saving zone array freyberg6_template\\npf_k33_layer1_pp_inst0pp.dat.zone for tpl file freyberg6_template\\npf_k33_layer1_pp_inst0pp.dat.tpl\n",
      "2022-02-21 14:50:35.020872 finished: adding pilotpoints type m style parameters for file(s) ['freyberg6.npf_k33_layer1.txt'] took: 0:00:00.089354\n",
      "2022-02-21 14:50:35.021869 starting: adding constant type m style parameters for file(s) ['freyberg6.npf_k33_layer1.txt']\n",
      "2022-02-21 14:50:35.021869 starting: loading array freyberg6_template\\freyberg6.npf_k33_layer1.txt\n",
      "2022-02-21 14:50:35.022844 finished: loading array freyberg6_template\\freyberg6.npf_k33_layer1.txt took: 0:00:00.000975\n",
      "2022-02-21 14:50:35.022844 loaded array 'freyberg_mf6\\freyberg6.npf_k33_layer1.txt' of shape (40, 20)\n",
      "2022-02-21 14:50:35.024863 starting: writing array-style template file 'freyberg6_template\\npf_k33_layer1_cn_inst0_constant.csv.tpl'\n",
      "2022-02-21 14:50:35.024863 starting: writing template file freyberg6_template\\npf_k33_layer1_cn_inst0_constant.csv.tpl for ['npf_k33_layer1_cn_inst:0']\n",
      "2022-02-21 14:50:35.031822 finished: writing template file freyberg6_template\\npf_k33_layer1_cn_inst0_constant.csv.tpl for ['npf_k33_layer1_cn_inst:0'] took: 0:00:00.006959\n",
      "2022-02-21 14:50:35.031822 starting: writing array-based template file 'freyberg6_template\\npf_k33_layer1_cn_inst0_constant.csv.tpl'\n",
      "2022-02-21 14:50:35.031822 saving zone array freyberg6_template\\npf_k33_layer1_cn_inst0_constant.csv.zone for tpl file freyberg6_template\\npf_k33_layer1_cn_inst0_constant.csv.tpl\n",
      "2022-02-21 14:50:35.037817 finished: adding constant type m style parameters for file(s) ['freyberg6.npf_k33_layer1.txt'] took: 0:00:00.015948\n",
      "2022-02-21 14:50:35.037817 starting: adding grid type m style parameters for file(s) ['freyberg6.npf_k33_layer2.txt']\n",
      "2022-02-21 14:50:35.037817 starting: loading array freyberg6_template\\freyberg6.npf_k33_layer2.txt\n",
      "2022-02-21 14:50:35.044755 finished: loading array freyberg6_template\\freyberg6.npf_k33_layer2.txt took: 0:00:00.006938\n",
      "2022-02-21 14:50:35.044755 loaded array 'freyberg_mf6\\freyberg6.npf_k33_layer2.txt' of shape (40, 20)\n",
      "2022-02-21 14:50:35.046751 starting: writing array-style template file 'freyberg6_template\\npf_k33_layer2_gr_inst0_grid.csv.tpl'\n",
      "2022-02-21 14:50:35.046751 starting: writing template file freyberg6_template\\npf_k33_layer2_gr_inst0_grid.csv.tpl for ['npf_k33_layer2_gr_inst:0']\n",
      "2022-02-21 14:50:35.058717 finished: writing template file freyberg6_template\\npf_k33_layer2_gr_inst0_grid.csv.tpl for ['npf_k33_layer2_gr_inst:0'] took: 0:00:00.011966\n",
      "2022-02-21 14:50:35.058717 starting: writing array-based template file 'freyberg6_template\\npf_k33_layer2_gr_inst0_grid.csv.tpl'\n",
      "2022-02-21 14:50:35.059715 saving zone array freyberg6_template\\npf_k33_layer2_gr_inst0_grid.csv.zone for tpl file freyberg6_template\\npf_k33_layer2_gr_inst0_grid.csv.tpl\n",
      "2022-02-21 14:50:35.066728 finished: adding grid type m style parameters for file(s) ['freyberg6.npf_k33_layer2.txt'] took: 0:00:00.028911\n",
      "2022-02-21 14:50:35.066728 starting: adding pilotpoints type m style parameters for file(s) ['freyberg6.npf_k33_layer2.txt']\n",
      "2022-02-21 14:50:35.066728 starting: loading array freyberg6_template\\freyberg6.npf_k33_layer2.txt\n",
      "2022-02-21 14:50:35.068725 finished: loading array freyberg6_template\\freyberg6.npf_k33_layer2.txt took: 0:00:00.001997\n",
      "2022-02-21 14:50:35.068725 loaded array 'freyberg_mf6\\freyberg6.npf_k33_layer2.txt' of shape (40, 20)\n",
      "2022-02-21 14:50:35.070738 starting: writing array-style template file 'freyberg6_template\\npf_k33_layer2_pp_inst0_pilotpoints.csv.tpl'\n",
      "2022-02-21 14:50:35.070738 starting: setting up pilot point parameters\n",
      "2022-02-21 14:50:35.070738 No spatial reference (containing cell spacing) passed.\n",
      "2022-02-21 14:50:35.070738 OK - using spatial reference in parent object.\n"
     ]
    },
    {
     "name": "stdout",
     "output_type": "stream",
     "text": [
      "2022-02-21 14:50:35.143557 32 pilot point parameters created\n",
      "2022-02-21 14:50:35.143557 pilot point 'pargp':npf_k33_layer2_pp\n",
      "2022-02-21 14:50:35.143557 finished: setting up pilot point parameters took: 0:00:00.072819\n",
      "2022-02-21 14:50:35.150558 starting: writing array-based template file 'freyberg6_template\\npf_k33_layer2_pp_inst0pp.dat.tpl'\n",
      "2022-02-21 14:50:35.150558 saving zone array freyberg6_template\\npf_k33_layer2_pp_inst0pp.dat.zone for tpl file freyberg6_template\\npf_k33_layer2_pp_inst0pp.dat.tpl\n",
      "2022-02-21 14:50:35.155544 finished: adding pilotpoints type m style parameters for file(s) ['freyberg6.npf_k33_layer2.txt'] took: 0:00:00.088816\n",
      "2022-02-21 14:50:35.155544 starting: adding constant type m style parameters for file(s) ['freyberg6.npf_k33_layer2.txt']\n",
      "2022-02-21 14:50:35.155544 starting: loading array freyberg6_template\\freyberg6.npf_k33_layer2.txt\n",
      "2022-02-21 14:50:35.156542 finished: loading array freyberg6_template\\freyberg6.npf_k33_layer2.txt took: 0:00:00.000998\n",
      "2022-02-21 14:50:35.156542 loaded array 'freyberg_mf6\\freyberg6.npf_k33_layer2.txt' of shape (40, 20)\n",
      "2022-02-21 14:50:35.158536 starting: writing array-style template file 'freyberg6_template\\npf_k33_layer2_cn_inst0_constant.csv.tpl'\n",
      "2022-02-21 14:50:35.158536 starting: writing template file freyberg6_template\\npf_k33_layer2_cn_inst0_constant.csv.tpl for ['npf_k33_layer2_cn_inst:0']\n",
      "2022-02-21 14:50:35.165465 finished: writing template file freyberg6_template\\npf_k33_layer2_cn_inst0_constant.csv.tpl for ['npf_k33_layer2_cn_inst:0'] took: 0:00:00.006929\n",
      "2022-02-21 14:50:35.165465 starting: writing array-based template file 'freyberg6_template\\npf_k33_layer2_cn_inst0_constant.csv.tpl'\n",
      "2022-02-21 14:50:35.165465 saving zone array freyberg6_template\\npf_k33_layer2_cn_inst0_constant.csv.zone for tpl file freyberg6_template\\npf_k33_layer2_cn_inst0_constant.csv.tpl\n",
      "2022-02-21 14:50:35.171482 finished: adding constant type m style parameters for file(s) ['freyberg6.npf_k33_layer2.txt'] took: 0:00:00.015938\n",
      "2022-02-21 14:50:35.171482 starting: adding grid type m style parameters for file(s) ['freyberg6.npf_k33_layer3.txt']\n",
      "2022-02-21 14:50:35.171482 starting: loading array freyberg6_template\\freyberg6.npf_k33_layer3.txt\n",
      "2022-02-21 14:50:35.177466 finished: loading array freyberg6_template\\freyberg6.npf_k33_layer3.txt took: 0:00:00.005984\n",
      "2022-02-21 14:50:35.177466 loaded array 'freyberg_mf6\\freyberg6.npf_k33_layer3.txt' of shape (40, 20)\n",
      "2022-02-21 14:50:35.179480 starting: writing array-style template file 'freyberg6_template\\npf_k33_layer3_gr_inst0_grid.csv.tpl'\n",
      "2022-02-21 14:50:35.179480 starting: writing template file freyberg6_template\\npf_k33_layer3_gr_inst0_grid.csv.tpl for ['npf_k33_layer3_gr_inst:0']\n",
      "2022-02-21 14:50:35.191396 finished: writing template file freyberg6_template\\npf_k33_layer3_gr_inst0_grid.csv.tpl for ['npf_k33_layer3_gr_inst:0'] took: 0:00:00.011916\n",
      "2022-02-21 14:50:35.191396 starting: writing array-based template file 'freyberg6_template\\npf_k33_layer3_gr_inst0_grid.csv.tpl'\n",
      "2022-02-21 14:50:35.191396 saving zone array freyberg6_template\\npf_k33_layer3_gr_inst0_grid.csv.zone for tpl file freyberg6_template\\npf_k33_layer3_gr_inst0_grid.csv.tpl\n",
      "2022-02-21 14:50:35.198410 finished: adding grid type m style parameters for file(s) ['freyberg6.npf_k33_layer3.txt'] took: 0:00:00.026928\n",
      "2022-02-21 14:50:35.198410 starting: adding pilotpoints type m style parameters for file(s) ['freyberg6.npf_k33_layer3.txt']\n",
      "2022-02-21 14:50:35.198410 starting: loading array freyberg6_template\\freyberg6.npf_k33_layer3.txt\n"
     ]
    },
    {
     "name": "stdout",
     "output_type": "stream",
     "text": [
      "2022-02-21 14:50:35.200405 finished: loading array freyberg6_template\\freyberg6.npf_k33_layer3.txt took: 0:00:00.001995\n",
      "2022-02-21 14:50:35.200405 loaded array 'freyberg_mf6\\freyberg6.npf_k33_layer3.txt' of shape (40, 20)\n",
      "2022-02-21 14:50:35.202366 starting: writing array-style template file 'freyberg6_template\\npf_k33_layer3_pp_inst0_pilotpoints.csv.tpl'\n",
      "2022-02-21 14:50:35.202366 starting: setting up pilot point parameters\n",
      "2022-02-21 14:50:35.202366 No spatial reference (containing cell spacing) passed.\n",
      "2022-02-21 14:50:35.202366 OK - using spatial reference in parent object.\n",
      "2022-02-21 14:50:35.277455 32 pilot point parameters created\n",
      "2022-02-21 14:50:35.277455 pilot point 'pargp':npf_k33_layer3_pp\n",
      "2022-02-21 14:50:35.277455 finished: setting up pilot point parameters took: 0:00:00.075089\n",
      "2022-02-21 14:50:35.284418 starting: writing array-based template file 'freyberg6_template\\npf_k33_layer3_pp_inst0pp.dat.tpl'\n",
      "2022-02-21 14:50:35.284418 saving zone array freyberg6_template\\npf_k33_layer3_pp_inst0pp.dat.zone for tpl file freyberg6_template\\npf_k33_layer3_pp_inst0pp.dat.tpl\n",
      "2022-02-21 14:50:35.289423 finished: adding pilotpoints type m style parameters for file(s) ['freyberg6.npf_k33_layer3.txt'] took: 0:00:00.091013\n",
      "2022-02-21 14:50:35.289423 starting: adding constant type m style parameters for file(s) ['freyberg6.npf_k33_layer3.txt']\n",
      "2022-02-21 14:50:35.289423 starting: loading array freyberg6_template\\freyberg6.npf_k33_layer3.txt\n",
      "2022-02-21 14:50:35.291422 finished: loading array freyberg6_template\\freyberg6.npf_k33_layer3.txt took: 0:00:00.001999\n",
      "2022-02-21 14:50:35.291422 loaded array 'freyberg_mf6\\freyberg6.npf_k33_layer3.txt' of shape (40, 20)\n",
      "2022-02-21 14:50:35.292363 starting: writing array-style template file 'freyberg6_template\\npf_k33_layer3_cn_inst0_constant.csv.tpl'\n",
      "2022-02-21 14:50:35.293361 starting: writing template file freyberg6_template\\npf_k33_layer3_cn_inst0_constant.csv.tpl for ['npf_k33_layer3_cn_inst:0']\n",
      "2022-02-21 14:50:35.299395 finished: writing template file freyberg6_template\\npf_k33_layer3_cn_inst0_constant.csv.tpl for ['npf_k33_layer3_cn_inst:0'] took: 0:00:00.006034\n",
      "2022-02-21 14:50:35.300371 starting: writing array-based template file 'freyberg6_template\\npf_k33_layer3_cn_inst0_constant.csv.tpl'\n",
      "2022-02-21 14:50:35.300371 saving zone array freyberg6_template\\npf_k33_layer3_cn_inst0_constant.csv.zone for tpl file freyberg6_template\\npf_k33_layer3_cn_inst0_constant.csv.tpl\n",
      "2022-02-21 14:50:35.306358 finished: adding constant type m style parameters for file(s) ['freyberg6.npf_k33_layer3.txt'] took: 0:00:00.016935\n",
      "2022-02-21 14:50:35.307323 starting: adding grid type m style parameters for file(s) ['freyberg6.sto_ss_layer2.txt']\n",
      "2022-02-21 14:50:35.307323 starting: loading array freyberg6_template\\freyberg6.sto_ss_layer2.txt\n",
      "2022-02-21 14:50:35.313362 finished: loading array freyberg6_template\\freyberg6.sto_ss_layer2.txt took: 0:00:00.006039\n",
      "2022-02-21 14:50:35.313362 loaded array 'freyberg_mf6\\freyberg6.sto_ss_layer2.txt' of shape (40, 20)\n",
      "2022-02-21 14:50:35.315353 starting: writing array-style template file 'freyberg6_template\\sto_ss_layer2_gr_inst0_grid.csv.tpl'\n",
      "2022-02-21 14:50:35.315353 starting: writing template file freyberg6_template\\sto_ss_layer2_gr_inst0_grid.csv.tpl for ['sto_ss_layer2_gr_inst:0']\n",
      "2022-02-21 14:50:35.328279 finished: writing template file freyberg6_template\\sto_ss_layer2_gr_inst0_grid.csv.tpl for ['sto_ss_layer2_gr_inst:0'] took: 0:00:00.012926\n",
      "2022-02-21 14:50:35.328279 starting: writing array-based template file 'freyberg6_template\\sto_ss_layer2_gr_inst0_grid.csv.tpl'\n",
      "2022-02-21 14:50:35.328279 saving zone array freyberg6_template\\sto_ss_layer2_gr_inst0_grid.csv.zone for tpl file freyberg6_template\\sto_ss_layer2_gr_inst0_grid.csv.tpl\n"
     ]
    },
    {
     "name": "stdout",
     "output_type": "stream",
     "text": [
      "2022-02-21 14:50:35.336280 finished: adding grid type m style parameters for file(s) ['freyberg6.sto_ss_layer2.txt'] took: 0:00:00.028957\n",
      "2022-02-21 14:50:35.336280 starting: adding pilotpoints type m style parameters for file(s) ['freyberg6.sto_ss_layer2.txt']\n",
      "2022-02-21 14:50:35.336280 starting: loading array freyberg6_template\\freyberg6.sto_ss_layer2.txt\n",
      "2022-02-21 14:50:35.337243 finished: loading array freyberg6_template\\freyberg6.sto_ss_layer2.txt took: 0:00:00.000963\n",
      "2022-02-21 14:50:35.337243 loaded array 'freyberg_mf6\\freyberg6.sto_ss_layer2.txt' of shape (40, 20)\n",
      "2022-02-21 14:50:35.339269 starting: writing array-style template file 'freyberg6_template\\sto_ss_layer2_pp_inst0_pilotpoints.csv.tpl'\n",
      "2022-02-21 14:50:35.339269 starting: setting up pilot point parameters\n",
      "2022-02-21 14:50:35.339269 No spatial reference (containing cell spacing) passed.\n",
      "2022-02-21 14:50:35.339269 OK - using spatial reference in parent object.\n"
     ]
    },
    {
     "name": "stdout",
     "output_type": "stream",
     "text": [
      "2022-02-21 14:50:35.410599 32 pilot point parameters created\n",
      "2022-02-21 14:50:35.411613 pilot point 'pargp':sto_ss_layer2_pp\n",
      "2022-02-21 14:50:35.411613 finished: setting up pilot point parameters took: 0:00:00.072344\n",
      "2022-02-21 14:50:35.417602 starting: writing array-based template file 'freyberg6_template\\sto_ss_layer2_pp_inst0pp.dat.tpl'\n",
      "2022-02-21 14:50:35.417602 saving zone array freyberg6_template\\sto_ss_layer2_pp_inst0pp.dat.zone for tpl file freyberg6_template\\sto_ss_layer2_pp_inst0pp.dat.tpl\n",
      "2022-02-21 14:50:35.423561 finished: adding pilotpoints type m style parameters for file(s) ['freyberg6.sto_ss_layer2.txt'] took: 0:00:00.087281\n",
      "2022-02-21 14:50:35.423561 starting: adding constant type m style parameters for file(s) ['freyberg6.sto_ss_layer2.txt']\n",
      "2022-02-21 14:50:35.423561 starting: loading array freyberg6_template\\freyberg6.sto_ss_layer2.txt\n",
      "2022-02-21 14:50:35.424564 finished: loading array freyberg6_template\\freyberg6.sto_ss_layer2.txt took: 0:00:00.001003\n",
      "2022-02-21 14:50:35.424564 loaded array 'freyberg_mf6\\freyberg6.sto_ss_layer2.txt' of shape (40, 20)\n",
      "2022-02-21 14:50:35.426553 starting: writing array-style template file 'freyberg6_template\\sto_ss_layer2_cn_inst0_constant.csv.tpl'\n",
      "2022-02-21 14:50:35.426553 starting: writing template file freyberg6_template\\sto_ss_layer2_cn_inst0_constant.csv.tpl for ['sto_ss_layer2_cn_inst:0']\n",
      "2022-02-21 14:50:35.433502 finished: writing template file freyberg6_template\\sto_ss_layer2_cn_inst0_constant.csv.tpl for ['sto_ss_layer2_cn_inst:0'] took: 0:00:00.006949\n",
      "2022-02-21 14:50:35.433502 starting: writing array-based template file 'freyberg6_template\\sto_ss_layer2_cn_inst0_constant.csv.tpl'\n",
      "2022-02-21 14:50:35.433502 saving zone array freyberg6_template\\sto_ss_layer2_cn_inst0_constant.csv.zone for tpl file freyberg6_template\\sto_ss_layer2_cn_inst0_constant.csv.tpl\n",
      "2022-02-21 14:50:35.439519 finished: adding constant type m style parameters for file(s) ['freyberg6.sto_ss_layer2.txt'] took: 0:00:00.015958\n",
      "2022-02-21 14:50:35.439519 starting: adding grid type m style parameters for file(s) ['freyberg6.sto_ss_layer3.txt']\n",
      "2022-02-21 14:50:35.440509 starting: loading array freyberg6_template\\freyberg6.sto_ss_layer3.txt\n",
      "2022-02-21 14:50:35.445470 finished: loading array freyberg6_template\\freyberg6.sto_ss_layer3.txt took: 0:00:00.004961\n",
      "2022-02-21 14:50:35.445470 loaded array 'freyberg_mf6\\freyberg6.sto_ss_layer3.txt' of shape (40, 20)\n",
      "2022-02-21 14:50:35.447520 starting: writing array-style template file 'freyberg6_template\\sto_ss_layer3_gr_inst0_grid.csv.tpl'\n",
      "2022-02-21 14:50:35.447520 starting: writing template file freyberg6_template\\sto_ss_layer3_gr_inst0_grid.csv.tpl for ['sto_ss_layer3_gr_inst:0']\n",
      "2022-02-21 14:50:35.459433 finished: writing template file freyberg6_template\\sto_ss_layer3_gr_inst0_grid.csv.tpl for ['sto_ss_layer3_gr_inst:0'] took: 0:00:00.011913\n",
      "2022-02-21 14:50:35.459433 starting: writing array-based template file 'freyberg6_template\\sto_ss_layer3_gr_inst0_grid.csv.tpl'\n",
      "2022-02-21 14:50:35.459433 saving zone array freyberg6_template\\sto_ss_layer3_gr_inst0_grid.csv.zone for tpl file freyberg6_template\\sto_ss_layer3_gr_inst0_grid.csv.tpl\n",
      "2022-02-21 14:50:35.466467 finished: adding grid type m style parameters for file(s) ['freyberg6.sto_ss_layer3.txt'] took: 0:00:00.026948\n",
      "2022-02-21 14:50:35.466467 starting: adding pilotpoints type m style parameters for file(s) ['freyberg6.sto_ss_layer3.txt']\n",
      "2022-02-21 14:50:35.467452 starting: loading array freyberg6_template\\freyberg6.sto_ss_layer3.txt\n",
      "2022-02-21 14:50:35.468461 finished: loading array freyberg6_template\\freyberg6.sto_ss_layer3.txt took: 0:00:00.001009\n",
      "2022-02-21 14:50:35.468461 loaded array 'freyberg_mf6\\freyberg6.sto_ss_layer3.txt' of shape (40, 20)\n",
      "2022-02-21 14:50:35.470456 starting: writing array-style template file 'freyberg6_template\\sto_ss_layer3_pp_inst0_pilotpoints.csv.tpl'\n",
      "2022-02-21 14:50:35.470456 starting: setting up pilot point parameters\n",
      "2022-02-21 14:50:35.470456 No spatial reference (containing cell spacing) passed.\n",
      "2022-02-21 14:50:35.470456 OK - using spatial reference in parent object.\n",
      "2022-02-21 14:50:35.544259 32 pilot point parameters created\n",
      "2022-02-21 14:50:35.544259 pilot point 'pargp':sto_ss_layer3_pp\n"
     ]
    },
    {
     "name": "stdout",
     "output_type": "stream",
     "text": [
      "2022-02-21 14:50:35.544259 finished: setting up pilot point parameters took: 0:00:00.073803\n",
      "2022-02-21 14:50:35.551220 starting: writing array-based template file 'freyberg6_template\\sto_ss_layer3_pp_inst0pp.dat.tpl'\n",
      "2022-02-21 14:50:35.551220 saving zone array freyberg6_template\\sto_ss_layer3_pp_inst0pp.dat.zone for tpl file freyberg6_template\\sto_ss_layer3_pp_inst0pp.dat.tpl\n",
      "2022-02-21 14:50:35.556229 finished: adding pilotpoints type m style parameters for file(s) ['freyberg6.sto_ss_layer3.txt'] took: 0:00:00.089762\n",
      "2022-02-21 14:50:35.556229 starting: adding constant type m style parameters for file(s) ['freyberg6.sto_ss_layer3.txt']\n",
      "2022-02-21 14:50:35.557224 starting: loading array freyberg6_template\\freyberg6.sto_ss_layer3.txt\n",
      "2022-02-21 14:50:35.558221 finished: loading array freyberg6_template\\freyberg6.sto_ss_layer3.txt took: 0:00:00.000997\n",
      "2022-02-21 14:50:35.558221 loaded array 'freyberg_mf6\\freyberg6.sto_ss_layer3.txt' of shape (40, 20)\n",
      "2022-02-21 14:50:35.560216 starting: writing array-style template file 'freyberg6_template\\sto_ss_layer3_cn_inst0_constant.csv.tpl'\n",
      "2022-02-21 14:50:35.560216 starting: writing template file freyberg6_template\\sto_ss_layer3_cn_inst0_constant.csv.tpl for ['sto_ss_layer3_cn_inst:0']\n",
      "2022-02-21 14:50:35.567201 finished: writing template file freyberg6_template\\sto_ss_layer3_cn_inst0_constant.csv.tpl for ['sto_ss_layer3_cn_inst:0'] took: 0:00:00.006985\n",
      "2022-02-21 14:50:35.567201 starting: writing array-based template file 'freyberg6_template\\sto_ss_layer3_cn_inst0_constant.csv.tpl'\n",
      "2022-02-21 14:50:35.567201 saving zone array freyberg6_template\\sto_ss_layer3_cn_inst0_constant.csv.zone for tpl file freyberg6_template\\sto_ss_layer3_cn_inst0_constant.csv.tpl\n",
      "2022-02-21 14:50:35.573163 finished: adding constant type m style parameters for file(s) ['freyberg6.sto_ss_layer3.txt'] took: 0:00:00.016934\n",
      "2022-02-21 14:50:35.574161 starting: adding grid type m style parameters for file(s) ['freyberg6.sto_sy_layer1.txt']\n",
      "2022-02-21 14:50:35.574161 starting: loading array freyberg6_template\\freyberg6.sto_sy_layer1.txt\n",
      "2022-02-21 14:50:35.580163 finished: loading array freyberg6_template\\freyberg6.sto_sy_layer1.txt took: 0:00:00.006002\n",
      "2022-02-21 14:50:35.580163 loaded array 'freyberg_mf6\\freyberg6.sto_sy_layer1.txt' of shape (40, 20)\n",
      "2022-02-21 14:50:35.582158 starting: writing array-style template file 'freyberg6_template\\sto_sy_layer1_gr_inst0_grid.csv.tpl'\n",
      "2022-02-21 14:50:35.582158 starting: writing template file freyberg6_template\\sto_sy_layer1_gr_inst0_grid.csv.tpl for ['sto_sy_layer1_gr_inst:0']\n",
      "2022-02-21 14:50:35.594095 finished: writing template file freyberg6_template\\sto_sy_layer1_gr_inst0_grid.csv.tpl for ['sto_sy_layer1_gr_inst:0'] took: 0:00:00.011937\n",
      "2022-02-21 14:50:35.594095 starting: writing array-based template file 'freyberg6_template\\sto_sy_layer1_gr_inst0_grid.csv.tpl'\n",
      "2022-02-21 14:50:35.595071 saving zone array freyberg6_template\\sto_sy_layer1_gr_inst0_grid.csv.zone for tpl file freyberg6_template\\sto_sy_layer1_gr_inst0_grid.csv.tpl\n",
      "2022-02-21 14:50:35.602087 finished: adding grid type m style parameters for file(s) ['freyberg6.sto_sy_layer1.txt'] took: 0:00:00.027926\n",
      "2022-02-21 14:50:35.602087 starting: adding pilotpoints type m style parameters for file(s) ['freyberg6.sto_sy_layer1.txt']\n",
      "2022-02-21 14:50:35.602087 starting: loading array freyberg6_template\\freyberg6.sto_sy_layer1.txt\n"
     ]
    },
    {
     "name": "stdout",
     "output_type": "stream",
     "text": [
      "2022-02-21 14:50:35.603082 finished: loading array freyberg6_template\\freyberg6.sto_sy_layer1.txt took: 0:00:00.000995\n",
      "2022-02-21 14:50:35.603082 loaded array 'freyberg_mf6\\freyberg6.sto_sy_layer1.txt' of shape (40, 20)\n",
      "2022-02-21 14:50:35.605078 starting: writing array-style template file 'freyberg6_template\\sto_sy_layer1_pp_inst0_pilotpoints.csv.tpl'\n",
      "2022-02-21 14:50:35.605078 starting: setting up pilot point parameters\n",
      "2022-02-21 14:50:35.605078 No spatial reference (containing cell spacing) passed.\n",
      "2022-02-21 14:50:35.605078 OK - using spatial reference in parent object.\n",
      "2022-02-21 14:50:35.676851 32 pilot point parameters created\n",
      "2022-02-21 14:50:35.677901 pilot point 'pargp':sto_sy_layer1_pp\n",
      "2022-02-21 14:50:35.677901 finished: setting up pilot point parameters took: 0:00:00.072823\n",
      "2022-02-21 14:50:35.683885 starting: writing array-based template file 'freyberg6_template\\sto_sy_layer1_pp_inst0pp.dat.tpl'\n",
      "2022-02-21 14:50:35.684882 saving zone array freyberg6_template\\sto_sy_layer1_pp_inst0pp.dat.zone for tpl file freyberg6_template\\sto_sy_layer1_pp_inst0pp.dat.tpl\n",
      "2022-02-21 14:50:35.689869 finished: adding pilotpoints type m style parameters for file(s) ['freyberg6.sto_sy_layer1.txt'] took: 0:00:00.087782\n",
      "2022-02-21 14:50:35.689869 starting: adding constant type m style parameters for file(s) ['freyberg6.sto_sy_layer1.txt']\n",
      "2022-02-21 14:50:35.689869 starting: loading array freyberg6_template\\freyberg6.sto_sy_layer1.txt\n",
      "2022-02-21 14:50:35.690866 finished: loading array freyberg6_template\\freyberg6.sto_sy_layer1.txt took: 0:00:00.000997\n",
      "2022-02-21 14:50:35.690866 loaded array 'freyberg_mf6\\freyberg6.sto_sy_layer1.txt' of shape (40, 20)\n",
      "2022-02-21 14:50:35.692808 starting: writing array-style template file 'freyberg6_template\\sto_sy_layer1_cn_inst0_constant.csv.tpl'\n",
      "2022-02-21 14:50:35.692808 starting: writing template file freyberg6_template\\sto_sy_layer1_cn_inst0_constant.csv.tpl for ['sto_sy_layer1_cn_inst:0']\n",
      "2022-02-21 14:50:35.699789 finished: writing template file freyberg6_template\\sto_sy_layer1_cn_inst0_constant.csv.tpl for ['sto_sy_layer1_cn_inst:0'] took: 0:00:00.006981\n",
      "2022-02-21 14:50:35.700788 starting: writing array-based template file 'freyberg6_template\\sto_sy_layer1_cn_inst0_constant.csv.tpl'\n",
      "2022-02-21 14:50:35.700788 saving zone array freyberg6_template\\sto_sy_layer1_cn_inst0_constant.csv.zone for tpl file freyberg6_template\\sto_sy_layer1_cn_inst0_constant.csv.tpl\n",
      "2022-02-21 14:50:35.706771 finished: adding constant type m style parameters for file(s) ['freyberg6.sto_sy_layer1.txt'] took: 0:00:00.016902\n"
     ]
    }
   ],
   "source": [
    "# for Kv\n",
    "tag = \"npf_k33\"\n",
    "files = [f for f in os.listdir(template_ws) if tag in f.lower() and f.endswith(\".txt\")]\n",
    "for f in files:\n",
    "    add_mult_pars(f, lb=0.2, ub=5.0, ulb=0.01, uub=100)\n",
    "\n",
    "# for Ss\n",
    "tag = \"sto_ss\"\n",
    "files = [f for f in os.listdir(template_ws) if tag in f.lower() and f.endswith(\".txt\")]\n",
    "# only for layer 2 and 3; we aren't monsters\n",
    "for f in files[1:]: \n",
    "    add_mult_pars(f, lb=0.2, ub=5.0, ulb=1e-6, uub=1e-3)\n",
    "\n",
    "# For Sy\n",
    "tag = \"sto_sy\"\n",
    "files = [f for f in os.listdir(template_ws) if tag in f.lower() and f.endswith(\".txt\")]\n",
    "# only for layer 1\n",
    "f = files[0]\n",
    "add_mult_pars(f, lb=0.2, ub=5.0, ulb=0.01, uub=0.4)\n"
   ]
  },
  {
   "cell_type": "markdown",
   "metadata": {},
   "source": [
    "#### 5.3.2. Spatial and Temporal Correlation\n",
    "\n",
    "Now, you may be thinking \"shouldn't recharge have temporal correlation as well?\". \n",
    "\n",
    "Damn straight it should. Now, this requires a little trickery.\n",
    "\n",
    "First we need to construct a container of stress period datetimes. (This relies on specifying the start_datetime argument when instantiating `PstFrom`.) These datetime values will specify the postion of parameters on the time-axis.\n",
    "\n"
   ]
  },
  {
   "cell_type": "code",
   "execution_count": 27,
   "metadata": {
    "execution": {
     "iopub.execute_input": "2022-02-21T04:20:35.718738Z",
     "iopub.status.busy": "2022-02-21T04:20:35.717741Z",
     "iopub.status.idle": "2022-02-21T04:20:35.721730Z",
     "shell.execute_reply": "2022-02-21T04:20:35.721730Z"
    }
   },
   "outputs": [
    {
     "data": {
      "text/plain": [
       "DatetimeIndex(['2018-01-02', '2018-02-02', '2018-03-03', '2018-04-03',\n",
       "               '2018-05-03', '2018-06-03', '2018-07-03', '2018-08-03',\n",
       "               '2018-09-03', '2018-10-03', '2018-11-03', '2018-12-03',\n",
       "               '2019-01-03', '2019-02-03', '2019-03-03', '2019-04-03',\n",
       "               '2019-05-03', '2019-06-03', '2019-07-03', '2019-08-03',\n",
       "               '2019-09-03', '2019-10-03', '2019-11-03', '2019-12-03',\n",
       "               '2020-01-03'],\n",
       "              dtype='datetime64[ns]', freq=None)"
      ]
     },
     "execution_count": 27,
     "metadata": {},
     "output_type": "execute_result"
    }
   ],
   "source": [
    "# build up a container of stress period start datetimes - this will\n",
    "# be used to specify the datetime of each multipler parameter\n",
    "start_datetime=\"1-1-2018\"\n",
    "dts = pd.to_datetime(start_datetime) + pd.to_timedelta(np.cumsum(sim.tdis.perioddata.array[\"perlen\"]),unit='d')\n",
    "\n",
    "dts"
   ]
  },
  {
   "cell_type": "markdown",
   "metadata": {},
   "source": [
    "If you use the same parameter group name (`pargp`) and same geostruct, `PstFrom` will treat parameters setup across different calls to `add_parameters()` as correlated.  In this case, we want to express temporal correlation in the recharge multiplier parameters. So, we use the same parameter group names for each stress period data file, and specify the `datetime` and `geostruct` arguments.\n",
    "\n",
    "Including temporal correlation introduces an additional challenge. Interpolation between points that share a common coordinate creates all types of trouble. We are going to have many parameters during each stress period (a single point on the time-axis). To get around this challenge we need to be a bit sneaky.\n",
    "\n",
    "\n",
    "First, we will apply the multiple *spatial* scales of parameter multiplers (`constant`, `pilot point` and `grid`) as we did for hyraulic properties. \n",
    "\n",
    "Then, we will asign an additional `constant` multiplier parameter for each recharge stress-period file (so, a single multiplier for all recharge paramaters for each stress period). We will specify temporal correlation for these `constant` multipliers. These will all have the same parameter group name, as discussed above. "
   ]
  },
  {
   "cell_type": "code",
   "execution_count": 28,
   "metadata": {
    "execution": {
     "iopub.execute_input": "2022-02-21T04:20:35.728714Z",
     "iopub.status.busy": "2022-02-21T04:20:35.727735Z",
     "iopub.status.idle": "2022-02-21T04:20:39.525419Z",
     "shell.execute_reply": "2022-02-21T04:20:39.524422Z"
    }
   },
   "outputs": [
    {
     "name": "stdout",
     "output_type": "stream",
     "text": [
      "2022-02-21 14:50:35.727735 starting: adding grid type m style parameters for file(s) ['freyberg6.rch_recharge_1.txt']\n",
      "2022-02-21 14:50:35.727735 starting: loading array freyberg6_template\\freyberg6.rch_recharge_1.txt\n",
      "2022-02-21 14:50:35.733749 finished: loading array freyberg6_template\\freyberg6.rch_recharge_1.txt took: 0:00:00.006014\n",
      "2022-02-21 14:50:35.733749 loaded array 'freyberg_mf6\\freyberg6.rch_recharge_1.txt' of shape (40, 20)\n",
      "2022-02-21 14:50:35.735747 starting: writing array-style template file 'freyberg6_template\\rch_recharge_1_gr_inst0_grid.csv.tpl'\n",
      "2022-02-21 14:50:35.735747 starting: writing template file freyberg6_template\\rch_recharge_1_gr_inst0_grid.csv.tpl for ['rch_recharge_1_gr_inst:0']\n",
      "2022-02-21 14:50:35.747714 finished: writing template file freyberg6_template\\rch_recharge_1_gr_inst0_grid.csv.tpl for ['rch_recharge_1_gr_inst:0'] took: 0:00:00.011967\n",
      "2022-02-21 14:50:35.747714 starting: writing array-based template file 'freyberg6_template\\rch_recharge_1_gr_inst0_grid.csv.tpl'\n",
      "2022-02-21 14:50:35.747714 saving zone array freyberg6_template\\rch_recharge_1_gr_inst0_grid.csv.zone for tpl file freyberg6_template\\rch_recharge_1_gr_inst0_grid.csv.tpl\n",
      "2022-02-21 14:50:35.754668 finished: adding grid type m style parameters for file(s) ['freyberg6.rch_recharge_1.txt'] took: 0:00:00.026933\n",
      "2022-02-21 14:50:35.755674 starting: adding pilotpoints type m style parameters for file(s) ['freyberg6.rch_recharge_1.txt']\n",
      "2022-02-21 14:50:35.755674 starting: loading array freyberg6_template\\freyberg6.rch_recharge_1.txt\n",
      "2022-02-21 14:50:35.756682 finished: loading array freyberg6_template\\freyberg6.rch_recharge_1.txt took: 0:00:00.001008\n",
      "2022-02-21 14:50:35.756682 loaded array 'freyberg_mf6\\freyberg6.rch_recharge_1.txt' of shape (40, 20)\n",
      "2022-02-21 14:50:35.758676 starting: writing array-style template file 'freyberg6_template\\rch_recharge_1_pp_inst0_pilotpoints.csv.tpl'\n",
      "2022-02-21 14:50:35.758676 starting: setting up pilot point parameters\n",
      "2022-02-21 14:50:35.758676 No spatial reference (containing cell spacing) passed.\n",
      "2022-02-21 14:50:35.758676 OK - using spatial reference in parent object.\n"
     ]
    },
    {
     "name": "stdout",
     "output_type": "stream",
     "text": [
      "2022-02-21 14:50:35.831437 32 pilot point parameters created\n",
      "2022-02-21 14:50:35.831437 pilot point 'pargp':rch_recharge_1_pp\n",
      "2022-02-21 14:50:35.831437 finished: setting up pilot point parameters took: 0:00:00.072761\n",
      "2022-02-21 14:50:35.838471 starting: writing array-based template file 'freyberg6_template\\rch_recharge_1_pp_inst0pp.dat.tpl'\n",
      "2022-02-21 14:50:35.838471 saving zone array freyberg6_template\\rch_recharge_1_pp_inst0pp.dat.zone for tpl file freyberg6_template\\rch_recharge_1_pp_inst0pp.dat.tpl\n",
      "2022-02-21 14:50:35.844455 finished: adding pilotpoints type m style parameters for file(s) ['freyberg6.rch_recharge_1.txt'] took: 0:00:00.088781\n",
      "2022-02-21 14:50:35.844455 starting: adding constant type m style parameters for file(s) ['freyberg6.rch_recharge_1.txt']\n",
      "2022-02-21 14:50:35.844455 starting: loading array freyberg6_template\\freyberg6.rch_recharge_1.txt\n",
      "2022-02-21 14:50:35.845453 finished: loading array freyberg6_template\\freyberg6.rch_recharge_1.txt took: 0:00:00.000998\n",
      "2022-02-21 14:50:35.845453 loaded array 'freyberg_mf6\\freyberg6.rch_recharge_1.txt' of shape (40, 20)\n",
      "2022-02-21 14:50:35.847448 starting: writing array-style template file 'freyberg6_template\\rch_recharge_1_cn_inst0_constant.csv.tpl'\n",
      "2022-02-21 14:50:35.847448 starting: writing template file freyberg6_template\\rch_recharge_1_cn_inst0_constant.csv.tpl for ['rch_recharge_1_cn_inst:0']\n",
      "2022-02-21 14:50:35.854435 finished: writing template file freyberg6_template\\rch_recharge_1_cn_inst0_constant.csv.tpl for ['rch_recharge_1_cn_inst:0'] took: 0:00:00.006987\n",
      "2022-02-21 14:50:35.854435 starting: writing array-based template file 'freyberg6_template\\rch_recharge_1_cn_inst0_constant.csv.tpl'\n",
      "2022-02-21 14:50:35.854435 saving zone array freyberg6_template\\rch_recharge_1_cn_inst0_constant.csv.zone for tpl file freyberg6_template\\rch_recharge_1_cn_inst0_constant.csv.tpl\n",
      "2022-02-21 14:50:35.860395 finished: adding constant type m style parameters for file(s) ['freyberg6.rch_recharge_1.txt'] took: 0:00:00.015940\n",
      "2022-02-21 14:50:35.861358 starting: adding constant type m style parameters for file(s) ['freyberg6.rch_recharge_1.txt']\n",
      "2022-02-21 14:50:35.861358 WARNING: 0) Inconsistency between geostruct transform and partrans.\n",
      "2022-02-21 14:50:35.861358 WARNING: 1) Setting geostruct transform to {transform}\n",
      "2022-02-21 14:50:35.861358 WARNING: -) Better to pass an appropriately transformed geostruct\n",
      "2022-02-21 14:50:35.861358 starting: loading array freyberg6_template\\freyberg6.rch_recharge_1.txt\n",
      "2022-02-21 14:50:35.862356 finished: loading array freyberg6_template\\freyberg6.rch_recharge_1.txt took: 0:00:00.000998\n",
      "2022-02-21 14:50:35.863352 loaded array 'freyberg_mf6\\freyberg6.rch_recharge_1.txt' of shape (40, 20)\n",
      "2022-02-21 14:50:35.865347 starting: writing array-style template file 'freyberg6_template\\rch_recharge_1_tcn_inst0_constant.csv.tpl'\n",
      "2022-02-21 14:50:35.865347 starting: writing template file freyberg6_template\\rch_recharge_1_tcn_inst0_constant.csv.tpl for ['rch_recharge_1_tcn_inst:0']\n",
      "2022-02-21 14:50:35.871384 finished: writing template file freyberg6_template\\rch_recharge_1_tcn_inst0_constant.csv.tpl for ['rch_recharge_1_tcn_inst:0'] took: 0:00:00.006037\n",
      "2022-02-21 14:50:35.872328 starting: writing array-based template file 'freyberg6_template\\rch_recharge_1_tcn_inst0_constant.csv.tpl'\n",
      "2022-02-21 14:50:35.872328 saving zone array freyberg6_template\\rch_recharge_1_tcn_inst0_constant.csv.zone for tpl file freyberg6_template\\rch_recharge_1_tcn_inst0_constant.csv.tpl\n",
      "2022-02-21 14:50:35.879310 finished: adding constant type m style parameters for file(s) ['freyberg6.rch_recharge_1.txt'] took: 0:00:00.017952\n",
      "2022-02-21 14:50:35.879310 starting: adding grid type m style parameters for file(s) ['freyberg6.rch_recharge_10.txt']\n",
      "2022-02-21 14:50:35.879310 starting: loading array freyberg6_template\\freyberg6.rch_recharge_10.txt\n",
      "2022-02-21 14:50:35.884331 finished: loading array freyberg6_template\\freyberg6.rch_recharge_10.txt took: 0:00:00.005021\n",
      "2022-02-21 14:50:35.885293 loaded array 'freyberg_mf6\\freyberg6.rch_recharge_10.txt' of shape (40, 20)\n",
      "2022-02-21 14:50:35.886291 starting: writing array-style template file 'freyberg6_template\\rch_recharge_10_gr_inst0_grid.csv.tpl'\n",
      "2022-02-21 14:50:35.886291 starting: writing template file freyberg6_template\\rch_recharge_10_gr_inst0_grid.csv.tpl for ['rch_recharge_10_gr_inst:0']\n",
      "2022-02-21 14:50:35.899309 finished: writing template file freyberg6_template\\rch_recharge_10_gr_inst0_grid.csv.tpl for ['rch_recharge_10_gr_inst:0'] took: 0:00:00.013018\n",
      "2022-02-21 14:50:35.899309 starting: writing array-based template file 'freyberg6_template\\rch_recharge_10_gr_inst0_grid.csv.tpl'\n",
      "2022-02-21 14:50:35.899309 saving zone array freyberg6_template\\rch_recharge_10_gr_inst0_grid.csv.zone for tpl file freyberg6_template\\rch_recharge_10_gr_inst0_grid.csv.tpl\n",
      "2022-02-21 14:50:35.906237 finished: adding grid type m style parameters for file(s) ['freyberg6.rch_recharge_10.txt'] took: 0:00:00.026927\n",
      "2022-02-21 14:50:35.906237 starting: adding pilotpoints type m style parameters for file(s) ['freyberg6.rch_recharge_10.txt']\n",
      "2022-02-21 14:50:35.906237 starting: loading array freyberg6_template\\freyberg6.rch_recharge_10.txt\n",
      "2022-02-21 14:50:35.908285 finished: loading array freyberg6_template\\freyberg6.rch_recharge_10.txt took: 0:00:00.002048\n",
      "2022-02-21 14:50:35.908285 loaded array 'freyberg_mf6\\freyberg6.rch_recharge_10.txt' of shape (40, 20)\n",
      "2022-02-21 14:50:35.910280 starting: writing array-style template file 'freyberg6_template\\rch_recharge_10_pp_inst0_pilotpoints.csv.tpl'\n",
      "2022-02-21 14:50:35.910280 starting: setting up pilot point parameters\n",
      "2022-02-21 14:50:35.910280 No spatial reference (containing cell spacing) passed.\n",
      "2022-02-21 14:50:35.910280 OK - using spatial reference in parent object.\n"
     ]
    },
    {
     "name": "stdout",
     "output_type": "stream",
     "text": [
      "2022-02-21 14:50:35.982035 32 pilot point parameters created\n",
      "2022-02-21 14:50:35.982035 pilot point 'pargp':rch_recharge_10_pp\n",
      "2022-02-21 14:50:35.982035 finished: setting up pilot point parameters took: 0:00:00.071755\n",
      "2022-02-21 14:50:35.989068 starting: writing array-based template file 'freyberg6_template\\rch_recharge_10_pp_inst0pp.dat.tpl'\n",
      "2022-02-21 14:50:35.989068 saving zone array freyberg6_template\\rch_recharge_10_pp_inst0pp.dat.zone for tpl file freyberg6_template\\rch_recharge_10_pp_inst0pp.dat.tpl\n",
      "2022-02-21 14:50:35.994055 finished: adding pilotpoints type m style parameters for file(s) ['freyberg6.rch_recharge_10.txt'] took: 0:00:00.087818\n",
      "2022-02-21 14:50:35.994055 starting: adding constant type m style parameters for file(s) ['freyberg6.rch_recharge_10.txt']\n",
      "2022-02-21 14:50:35.995060 starting: loading array freyberg6_template\\freyberg6.rch_recharge_10.txt\n",
      "2022-02-21 14:50:35.995998 finished: loading array freyberg6_template\\freyberg6.rch_recharge_10.txt took: 0:00:00.000938\n",
      "2022-02-21 14:50:35.995998 loaded array 'freyberg_mf6\\freyberg6.rch_recharge_10.txt' of shape (40, 20)\n",
      "2022-02-21 14:50:35.997992 starting: writing array-style template file 'freyberg6_template\\rch_recharge_10_cn_inst0_constant.csv.tpl'\n",
      "2022-02-21 14:50:35.997992 starting: writing template file freyberg6_template\\rch_recharge_10_cn_inst0_constant.csv.tpl for ['rch_recharge_10_cn_inst:0']\n",
      "2022-02-21 14:50:36.005027 finished: writing template file freyberg6_template\\rch_recharge_10_cn_inst0_constant.csv.tpl for ['rch_recharge_10_cn_inst:0'] took: 0:00:00.007035\n",
      "2022-02-21 14:50:36.005027 starting: writing array-based template file 'freyberg6_template\\rch_recharge_10_cn_inst0_constant.csv.tpl'\n",
      "2022-02-21 14:50:36.005027 saving zone array freyberg6_template\\rch_recharge_10_cn_inst0_constant.csv.zone for tpl file freyberg6_template\\rch_recharge_10_cn_inst0_constant.csv.tpl\n",
      "2022-02-21 14:50:36.011014 finished: adding constant type m style parameters for file(s) ['freyberg6.rch_recharge_10.txt'] took: 0:00:00.016959\n",
      "2022-02-21 14:50:36.011014 starting: adding constant type m style parameters for file(s) ['freyberg6.rch_recharge_10.txt']\n",
      "2022-02-21 14:50:36.011014 starting: loading array freyberg6_template\\freyberg6.rch_recharge_10.txt\n"
     ]
    },
    {
     "name": "stdout",
     "output_type": "stream",
     "text": [
      "2022-02-21 14:50:36.012952 finished: loading array freyberg6_template\\freyberg6.rch_recharge_10.txt took: 0:00:00.001938\n",
      "2022-02-21 14:50:36.012952 loaded array 'freyberg_mf6\\freyberg6.rch_recharge_10.txt' of shape (40, 20)\n",
      "2022-02-21 14:50:36.014999 starting: writing array-style template file 'freyberg6_template\\rch_recharge_10_tcn_inst0_constant.csv.tpl'\n",
      "2022-02-21 14:50:36.014999 starting: writing template file freyberg6_template\\rch_recharge_10_tcn_inst0_constant.csv.tpl for ['rch_recharge_10_tcn_inst:0']\n",
      "2022-02-21 14:50:36.021928 finished: writing template file freyberg6_template\\rch_recharge_10_tcn_inst0_constant.csv.tpl for ['rch_recharge_10_tcn_inst:0'] took: 0:00:00.006929\n",
      "2022-02-21 14:50:36.021928 starting: writing array-based template file 'freyberg6_template\\rch_recharge_10_tcn_inst0_constant.csv.tpl'\n",
      "2022-02-21 14:50:36.022926 saving zone array freyberg6_template\\rch_recharge_10_tcn_inst0_constant.csv.zone for tpl file freyberg6_template\\rch_recharge_10_tcn_inst0_constant.csv.tpl\n",
      "2022-02-21 14:50:36.029907 finished: adding constant type m style parameters for file(s) ['freyberg6.rch_recharge_10.txt'] took: 0:00:00.018893\n",
      "2022-02-21 14:50:36.029907 starting: adding grid type m style parameters for file(s) ['freyberg6.rch_recharge_11.txt']\n",
      "2022-02-21 14:50:36.029907 starting: loading array freyberg6_template\\freyberg6.rch_recharge_11.txt\n",
      "2022-02-21 14:50:36.035944 finished: loading array freyberg6_template\\freyberg6.rch_recharge_11.txt took: 0:00:00.006037\n",
      "2022-02-21 14:50:36.035944 loaded array 'freyberg_mf6\\freyberg6.rch_recharge_11.txt' of shape (40, 20)\n",
      "2022-02-21 14:50:36.037938 starting: writing array-style template file 'freyberg6_template\\rch_recharge_11_gr_inst0_grid.csv.tpl'\n",
      "2022-02-21 14:50:36.037938 starting: writing template file freyberg6_template\\rch_recharge_11_gr_inst0_grid.csv.tpl for ['rch_recharge_11_gr_inst:0']\n",
      "2022-02-21 14:50:36.049853 finished: writing template file freyberg6_template\\rch_recharge_11_gr_inst0_grid.csv.tpl for ['rch_recharge_11_gr_inst:0'] took: 0:00:00.011915\n",
      "2022-02-21 14:50:36.049853 starting: writing array-based template file 'freyberg6_template\\rch_recharge_11_gr_inst0_grid.csv.tpl'\n",
      "2022-02-21 14:50:36.050851 saving zone array freyberg6_template\\rch_recharge_11_gr_inst0_grid.csv.zone for tpl file freyberg6_template\\rch_recharge_11_gr_inst0_grid.csv.tpl\n",
      "2022-02-21 14:50:36.057832 finished: adding grid type m style parameters for file(s) ['freyberg6.rch_recharge_11.txt'] took: 0:00:00.027925\n",
      "2022-02-21 14:50:36.057832 starting: adding pilotpoints type m style parameters for file(s) ['freyberg6.rch_recharge_11.txt']\n",
      "2022-02-21 14:50:36.057832 starting: loading array freyberg6_template\\freyberg6.rch_recharge_11.txt\n",
      "2022-02-21 14:50:36.058881 finished: loading array freyberg6_template\\freyberg6.rch_recharge_11.txt took: 0:00:00.001049\n",
      "2022-02-21 14:50:36.058881 loaded array 'freyberg_mf6\\freyberg6.rch_recharge_11.txt' of shape (40, 20)\n",
      "2022-02-21 14:50:36.060824 starting: writing array-style template file 'freyberg6_template\\rch_recharge_11_pp_inst0_pilotpoints.csv.tpl'\n",
      "2022-02-21 14:50:36.060824 starting: setting up pilot point parameters\n",
      "2022-02-21 14:50:36.060824 No spatial reference (containing cell spacing) passed.\n",
      "2022-02-21 14:50:36.061854 OK - using spatial reference in parent object.\n",
      "2022-02-21 14:50:36.133665 32 pilot point parameters created\n",
      "2022-02-21 14:50:36.133665 pilot point 'pargp':rch_recharge_11_pp\n",
      "2022-02-21 14:50:36.133665 finished: setting up pilot point parameters took: 0:00:00.072841\n",
      "2022-02-21 14:50:36.139673 starting: writing array-based template file 'freyberg6_template\\rch_recharge_11_pp_inst0pp.dat.tpl'\n",
      "2022-02-21 14:50:36.140696 saving zone array freyberg6_template\\rch_recharge_11_pp_inst0pp.dat.zone for tpl file freyberg6_template\\rch_recharge_11_pp_inst0pp.dat.tpl\n",
      "2022-02-21 14:50:36.145667 finished: adding pilotpoints type m style parameters for file(s) ['freyberg6.rch_recharge_11.txt'] took: 0:00:00.087835\n",
      "2022-02-21 14:50:36.145667 starting: adding constant type m style parameters for file(s) ['freyberg6.rch_recharge_11.txt']\n",
      "2022-02-21 14:50:36.145667 starting: loading array freyberg6_template\\freyberg6.rch_recharge_11.txt\n",
      "2022-02-21 14:50:36.146630 finished: loading array freyberg6_template\\freyberg6.rch_recharge_11.txt took: 0:00:00.000963\n",
      "2022-02-21 14:50:36.146630 loaded array 'freyberg_mf6\\freyberg6.rch_recharge_11.txt' of shape (40, 20)\n",
      "2022-02-21 14:50:36.148660 starting: writing array-style template file 'freyberg6_template\\rch_recharge_11_cn_inst0_constant.csv.tpl'\n",
      "2022-02-21 14:50:36.148660 starting: writing template file freyberg6_template\\rch_recharge_11_cn_inst0_constant.csv.tpl for ['rch_recharge_11_cn_inst:0']\n",
      "2022-02-21 14:50:36.155606 finished: writing template file freyberg6_template\\rch_recharge_11_cn_inst0_constant.csv.tpl for ['rch_recharge_11_cn_inst:0'] took: 0:00:00.006946\n",
      "2022-02-21 14:50:36.155606 starting: writing array-based template file 'freyberg6_template\\rch_recharge_11_cn_inst0_constant.csv.tpl'\n",
      "2022-02-21 14:50:36.155606 saving zone array freyberg6_template\\rch_recharge_11_cn_inst0_constant.csv.zone for tpl file freyberg6_template\\rch_recharge_11_cn_inst0_constant.csv.tpl\n",
      "2022-02-21 14:50:36.162588 finished: adding constant type m style parameters for file(s) ['freyberg6.rch_recharge_11.txt'] took: 0:00:00.016921\n",
      "2022-02-21 14:50:36.162588 starting: adding constant type m style parameters for file(s) ['freyberg6.rch_recharge_11.txt']\n",
      "2022-02-21 14:50:36.162588 starting: loading array freyberg6_template\\freyberg6.rch_recharge_11.txt\n",
      "2022-02-21 14:50:36.163585 finished: loading array freyberg6_template\\freyberg6.rch_recharge_11.txt took: 0:00:00.000997\n",
      "2022-02-21 14:50:36.163585 loaded array 'freyberg_mf6\\freyberg6.rch_recharge_11.txt' of shape (40, 20)\n"
     ]
    },
    {
     "name": "stdout",
     "output_type": "stream",
     "text": [
      "2022-02-21 14:50:36.166611 starting: writing array-style template file 'freyberg6_template\\rch_recharge_11_tcn_inst0_constant.csv.tpl'\n",
      "2022-02-21 14:50:36.166611 starting: writing template file freyberg6_template\\rch_recharge_11_tcn_inst0_constant.csv.tpl for ['rch_recharge_11_tcn_inst:0']\n",
      "2022-02-21 14:50:36.172595 finished: writing template file freyberg6_template\\rch_recharge_11_tcn_inst0_constant.csv.tpl for ['rch_recharge_11_tcn_inst:0'] took: 0:00:00.005984\n",
      "2022-02-21 14:50:36.173559 starting: writing array-based template file 'freyberg6_template\\rch_recharge_11_tcn_inst0_constant.csv.tpl'\n",
      "2022-02-21 14:50:36.173559 saving zone array freyberg6_template\\rch_recharge_11_tcn_inst0_constant.csv.zone for tpl file freyberg6_template\\rch_recharge_11_tcn_inst0_constant.csv.tpl\n",
      "2022-02-21 14:50:36.180574 finished: adding constant type m style parameters for file(s) ['freyberg6.rch_recharge_11.txt'] took: 0:00:00.017986\n",
      "2022-02-21 14:50:36.180574 starting: adding grid type m style parameters for file(s) ['freyberg6.rch_recharge_12.txt']\n",
      "2022-02-21 14:50:36.180574 starting: loading array freyberg6_template\\freyberg6.rch_recharge_12.txt\n",
      "2022-02-21 14:50:36.186578 finished: loading array freyberg6_template\\freyberg6.rch_recharge_12.txt took: 0:00:00.006004\n",
      "2022-02-21 14:50:36.186578 loaded array 'freyberg_mf6\\freyberg6.rch_recharge_12.txt' of shape (40, 20)\n",
      "2022-02-21 14:50:36.188572 starting: writing array-style template file 'freyberg6_template\\rch_recharge_12_gr_inst0_grid.csv.tpl'\n",
      "2022-02-21 14:50:36.188572 starting: writing template file freyberg6_template\\rch_recharge_12_gr_inst0_grid.csv.tpl for ['rch_recharge_12_gr_inst:0']\n",
      "2022-02-21 14:50:36.200538 finished: writing template file freyberg6_template\\rch_recharge_12_gr_inst0_grid.csv.tpl for ['rch_recharge_12_gr_inst:0'] took: 0:00:00.011966\n",
      "2022-02-21 14:50:36.200538 starting: writing array-based template file 'freyberg6_template\\rch_recharge_12_gr_inst0_grid.csv.tpl'\n",
      "2022-02-21 14:50:36.200538 saving zone array freyberg6_template\\rch_recharge_12_gr_inst0_grid.csv.zone for tpl file freyberg6_template\\rch_recharge_12_gr_inst0_grid.csv.tpl\n"
     ]
    },
    {
     "name": "stdout",
     "output_type": "stream",
     "text": [
      "2022-02-21 14:50:36.208498 finished: adding grid type m style parameters for file(s) ['freyberg6.rch_recharge_12.txt'] took: 0:00:00.027924\n",
      "2022-02-21 14:50:36.208498 starting: adding pilotpoints type m style parameters for file(s) ['freyberg6.rch_recharge_12.txt']\n",
      "2022-02-21 14:50:36.208498 starting: loading array freyberg6_template\\freyberg6.rch_recharge_12.txt\n",
      "2022-02-21 14:50:36.209496 finished: loading array freyberg6_template\\freyberg6.rch_recharge_12.txt took: 0:00:00.000998\n",
      "2022-02-21 14:50:36.209496 loaded array 'freyberg_mf6\\freyberg6.rch_recharge_12.txt' of shape (40, 20)\n",
      "2022-02-21 14:50:36.211490 starting: writing array-style template file 'freyberg6_template\\rch_recharge_12_pp_inst0_pilotpoints.csv.tpl'\n",
      "2022-02-21 14:50:36.211490 starting: setting up pilot point parameters\n",
      "2022-02-21 14:50:36.211490 No spatial reference (containing cell spacing) passed.\n",
      "2022-02-21 14:50:36.211490 OK - using spatial reference in parent object.\n",
      "2022-02-21 14:50:36.281305 32 pilot point parameters created\n",
      "2022-02-21 14:50:36.282267 pilot point 'pargp':rch_recharge_12_pp\n",
      "2022-02-21 14:50:36.282267 finished: setting up pilot point parameters took: 0:00:00.070777\n",
      "2022-02-21 14:50:36.288286 starting: writing array-based template file 'freyberg6_template\\rch_recharge_12_pp_inst0pp.dat.tpl'\n",
      "2022-02-21 14:50:36.288286 saving zone array freyberg6_template\\rch_recharge_12_pp_inst0pp.dat.zone for tpl file freyberg6_template\\rch_recharge_12_pp_inst0pp.dat.tpl\n",
      "2022-02-21 14:50:36.293271 finished: adding pilotpoints type m style parameters for file(s) ['freyberg6.rch_recharge_12.txt'] took: 0:00:00.084773\n",
      "2022-02-21 14:50:36.293271 starting: adding constant type m style parameters for file(s) ['freyberg6.rch_recharge_12.txt']\n",
      "2022-02-21 14:50:36.293271 starting: loading array freyberg6_template\\freyberg6.rch_recharge_12.txt\n",
      "2022-02-21 14:50:36.294288 finished: loading array freyberg6_template\\freyberg6.rch_recharge_12.txt took: 0:00:00.001017\n",
      "2022-02-21 14:50:36.294288 loaded array 'freyberg_mf6\\freyberg6.rch_recharge_12.txt' of shape (40, 20)\n",
      "2022-02-21 14:50:36.296283 starting: writing array-style template file 'freyberg6_template\\rch_recharge_12_cn_inst0_constant.csv.tpl'\n",
      "2022-02-21 14:50:36.296283 starting: writing template file freyberg6_template\\rch_recharge_12_cn_inst0_constant.csv.tpl for ['rch_recharge_12_cn_inst:0']\n",
      "2022-02-21 14:50:36.303264 finished: writing template file freyberg6_template\\rch_recharge_12_cn_inst0_constant.csv.tpl for ['rch_recharge_12_cn_inst:0'] took: 0:00:00.006981\n",
      "2022-02-21 14:50:36.303264 starting: writing array-based template file 'freyberg6_template\\rch_recharge_12_cn_inst0_constant.csv.tpl'\n",
      "2022-02-21 14:50:36.303264 saving zone array freyberg6_template\\rch_recharge_12_cn_inst0_constant.csv.zone for tpl file freyberg6_template\\rch_recharge_12_cn_inst0_constant.csv.tpl\n",
      "2022-02-21 14:50:36.309228 finished: adding constant type m style parameters for file(s) ['freyberg6.rch_recharge_12.txt'] took: 0:00:00.015957\n",
      "2022-02-21 14:50:36.309228 starting: adding constant type m style parameters for file(s) ['freyberg6.rch_recharge_12.txt']\n",
      "2022-02-21 14:50:36.310227 starting: loading array freyberg6_template\\freyberg6.rch_recharge_12.txt\n",
      "2022-02-21 14:50:36.311222 finished: loading array freyberg6_template\\freyberg6.rch_recharge_12.txt took: 0:00:00.000995\n",
      "2022-02-21 14:50:36.311222 loaded array 'freyberg_mf6\\freyberg6.rch_recharge_12.txt' of shape (40, 20)\n",
      "2022-02-21 14:50:36.313185 starting: writing array-style template file 'freyberg6_template\\rch_recharge_12_tcn_inst0_constant.csv.tpl'\n",
      "2022-02-21 14:50:36.313185 starting: writing template file freyberg6_template\\rch_recharge_12_tcn_inst0_constant.csv.tpl for ['rch_recharge_12_tcn_inst:0']\n",
      "2022-02-21 14:50:36.320199 finished: writing template file freyberg6_template\\rch_recharge_12_tcn_inst0_constant.csv.tpl for ['rch_recharge_12_tcn_inst:0'] took: 0:00:00.007014\n",
      "2022-02-21 14:50:36.320199 starting: writing array-based template file 'freyberg6_template\\rch_recharge_12_tcn_inst0_constant.csv.tpl'\n",
      "2022-02-21 14:50:36.321198 saving zone array freyberg6_template\\rch_recharge_12_tcn_inst0_constant.csv.zone for tpl file freyberg6_template\\rch_recharge_12_tcn_inst0_constant.csv.tpl\n",
      "2022-02-21 14:50:36.328145 finished: adding constant type m style parameters for file(s) ['freyberg6.rch_recharge_12.txt'] took: 0:00:00.018917\n",
      "2022-02-21 14:50:36.328145 starting: adding grid type m style parameters for file(s) ['freyberg6.rch_recharge_13.txt']\n",
      "2022-02-21 14:50:36.328145 starting: loading array freyberg6_template\\freyberg6.rch_recharge_13.txt\n",
      "2022-02-21 14:50:36.333132 finished: loading array freyberg6_template\\freyberg6.rch_recharge_13.txt took: 0:00:00.004987\n",
      "2022-02-21 14:50:36.333132 loaded array 'freyberg_mf6\\freyberg6.rch_recharge_13.txt' of shape (40, 20)\n",
      "2022-02-21 14:50:36.335180 starting: writing array-style template file 'freyberg6_template\\rch_recharge_13_gr_inst0_grid.csv.tpl'\n",
      "2022-02-21 14:50:36.335180 starting: writing template file freyberg6_template\\rch_recharge_13_gr_inst0_grid.csv.tpl for ['rch_recharge_13_gr_inst:0']\n",
      "2022-02-21 14:50:36.348097 finished: writing template file freyberg6_template\\rch_recharge_13_gr_inst0_grid.csv.tpl for ['rch_recharge_13_gr_inst:0'] took: 0:00:00.012917\n",
      "2022-02-21 14:50:36.349110 starting: writing array-based template file 'freyberg6_template\\rch_recharge_13_gr_inst0_grid.csv.tpl'\n",
      "2022-02-21 14:50:36.349110 saving zone array freyberg6_template\\rch_recharge_13_gr_inst0_grid.csv.zone for tpl file freyberg6_template\\rch_recharge_13_gr_inst0_grid.csv.tpl\n",
      "2022-02-21 14:50:36.356105 finished: adding grid type m style parameters for file(s) ['freyberg6.rch_recharge_13.txt'] took: 0:00:00.027960\n",
      "2022-02-21 14:50:36.356105 starting: adding pilotpoints type m style parameters for file(s) ['freyberg6.rch_recharge_13.txt']\n",
      "2022-02-21 14:50:36.356105 starting: loading array freyberg6_template\\freyberg6.rch_recharge_13.txt\n"
     ]
    },
    {
     "name": "stdout",
     "output_type": "stream",
     "text": [
      "2022-02-21 14:50:36.358065 finished: loading array freyberg6_template\\freyberg6.rch_recharge_13.txt took: 0:00:00.001960\n",
      "2022-02-21 14:50:36.358065 loaded array 'freyberg_mf6\\freyberg6.rch_recharge_13.txt' of shape (40, 20)\n",
      "2022-02-21 14:50:36.360092 starting: writing array-style template file 'freyberg6_template\\rch_recharge_13_pp_inst0_pilotpoints.csv.tpl'\n",
      "2022-02-21 14:50:36.360092 starting: setting up pilot point parameters\n",
      "2022-02-21 14:50:36.360092 No spatial reference (containing cell spacing) passed.\n",
      "2022-02-21 14:50:36.360092 OK - using spatial reference in parent object.\n"
     ]
    },
    {
     "name": "stdout",
     "output_type": "stream",
     "text": [
      "2022-02-21 14:50:36.429914 32 pilot point parameters created\n",
      "2022-02-21 14:50:36.430968 pilot point 'pargp':rch_recharge_13_pp\n",
      "2022-02-21 14:50:36.430968 finished: setting up pilot point parameters took: 0:00:00.070876\n",
      "2022-02-21 14:50:36.436896 starting: writing array-based template file 'freyberg6_template\\rch_recharge_13_pp_inst0pp.dat.tpl'\n",
      "2022-02-21 14:50:36.436896 saving zone array freyberg6_template\\rch_recharge_13_pp_inst0pp.dat.zone for tpl file freyberg6_template\\rch_recharge_13_pp_inst0pp.dat.tpl\n",
      "2022-02-21 14:50:36.441883 finished: adding pilotpoints type m style parameters for file(s) ['freyberg6.rch_recharge_13.txt'] took: 0:00:00.085778\n",
      "2022-02-21 14:50:36.442933 starting: adding constant type m style parameters for file(s) ['freyberg6.rch_recharge_13.txt']\n",
      "2022-02-21 14:50:36.442933 starting: loading array freyberg6_template\\freyberg6.rch_recharge_13.txt\n",
      "2022-02-21 14:50:36.443932 finished: loading array freyberg6_template\\freyberg6.rch_recharge_13.txt took: 0:00:00.000999\n",
      "2022-02-21 14:50:36.443932 loaded array 'freyberg_mf6\\freyberg6.rch_recharge_13.txt' of shape (40, 20)\n",
      "2022-02-21 14:50:36.445872 starting: writing array-style template file 'freyberg6_template\\rch_recharge_13_cn_inst0_constant.csv.tpl'\n",
      "2022-02-21 14:50:36.445872 starting: writing template file freyberg6_template\\rch_recharge_13_cn_inst0_constant.csv.tpl for ['rch_recharge_13_cn_inst:0']\n",
      "2022-02-21 14:50:36.452907 finished: writing template file freyberg6_template\\rch_recharge_13_cn_inst0_constant.csv.tpl for ['rch_recharge_13_cn_inst:0'] took: 0:00:00.007035\n",
      "2022-02-21 14:50:36.452907 starting: writing array-based template file 'freyberg6_template\\rch_recharge_13_cn_inst0_constant.csv.tpl'\n",
      "2022-02-21 14:50:36.452907 saving zone array freyberg6_template\\rch_recharge_13_cn_inst0_constant.csv.zone for tpl file freyberg6_template\\rch_recharge_13_cn_inst0_constant.csv.tpl\n",
      "2022-02-21 14:50:36.458890 finished: adding constant type m style parameters for file(s) ['freyberg6.rch_recharge_13.txt'] took: 0:00:00.015957\n",
      "2022-02-21 14:50:36.458890 starting: adding constant type m style parameters for file(s) ['freyberg6.rch_recharge_13.txt']\n",
      "2022-02-21 14:50:36.458890 starting: loading array freyberg6_template\\freyberg6.rch_recharge_13.txt\n",
      "2022-02-21 14:50:36.460886 finished: loading array freyberg6_template\\freyberg6.rch_recharge_13.txt took: 0:00:00.001996\n",
      "2022-02-21 14:50:36.460886 loaded array 'freyberg_mf6\\freyberg6.rch_recharge_13.txt' of shape (40, 20)\n",
      "2022-02-21 14:50:36.462827 starting: writing array-style template file 'freyberg6_template\\rch_recharge_13_tcn_inst0_constant.csv.tpl'\n",
      "2022-02-21 14:50:36.462827 starting: writing template file freyberg6_template\\rch_recharge_13_tcn_inst0_constant.csv.tpl for ['rch_recharge_13_tcn_inst:0']\n",
      "2022-02-21 14:50:36.469860 finished: writing template file freyberg6_template\\rch_recharge_13_tcn_inst0_constant.csv.tpl for ['rch_recharge_13_tcn_inst:0'] took: 0:00:00.007033\n",
      "2022-02-21 14:50:36.469860 starting: writing array-based template file 'freyberg6_template\\rch_recharge_13_tcn_inst0_constant.csv.tpl'\n",
      "2022-02-21 14:50:36.470838 saving zone array freyberg6_template\\rch_recharge_13_tcn_inst0_constant.csv.zone for tpl file freyberg6_template\\rch_recharge_13_tcn_inst0_constant.csv.tpl\n",
      "2022-02-21 14:50:36.476843 finished: adding constant type m style parameters for file(s) ['freyberg6.rch_recharge_13.txt'] took: 0:00:00.017953\n",
      "2022-02-21 14:50:36.476843 starting: adding grid type m style parameters for file(s) ['freyberg6.rch_recharge_14.txt']\n",
      "2022-02-21 14:50:36.476843 starting: loading array freyberg6_template\\freyberg6.rch_recharge_14.txt\n",
      "2022-02-21 14:50:36.482773 finished: loading array freyberg6_template\\freyberg6.rch_recharge_14.txt took: 0:00:00.005930\n",
      "2022-02-21 14:50:36.482773 loaded array 'freyberg_mf6\\freyberg6.rch_recharge_14.txt' of shape (40, 20)\n",
      "2022-02-21 14:50:36.484768 starting: writing array-style template file 'freyberg6_template\\rch_recharge_14_gr_inst0_grid.csv.tpl'\n",
      "2022-02-21 14:50:36.484768 starting: writing template file freyberg6_template\\rch_recharge_14_gr_inst0_grid.csv.tpl for ['rch_recharge_14_gr_inst:0']\n",
      "2022-02-21 14:50:36.496736 finished: writing template file freyberg6_template\\rch_recharge_14_gr_inst0_grid.csv.tpl for ['rch_recharge_14_gr_inst:0'] took: 0:00:00.011968\n",
      "2022-02-21 14:50:36.496736 starting: writing array-based template file 'freyberg6_template\\rch_recharge_14_gr_inst0_grid.csv.tpl'\n",
      "2022-02-21 14:50:36.496736 saving zone array freyberg6_template\\rch_recharge_14_gr_inst0_grid.csv.zone for tpl file freyberg6_template\\rch_recharge_14_gr_inst0_grid.csv.tpl\n",
      "2022-02-21 14:50:36.504714 finished: adding grid type m style parameters for file(s) ['freyberg6.rch_recharge_14.txt'] took: 0:00:00.027871\n",
      "2022-02-21 14:50:36.504714 starting: adding pilotpoints type m style parameters for file(s) ['freyberg6.rch_recharge_14.txt']\n",
      "2022-02-21 14:50:36.504714 starting: loading array freyberg6_template\\freyberg6.rch_recharge_14.txt\n",
      "2022-02-21 14:50:36.505766 finished: loading array freyberg6_template\\freyberg6.rch_recharge_14.txt took: 0:00:00.001052\n",
      "2022-02-21 14:50:36.505766 loaded array 'freyberg_mf6\\freyberg6.rch_recharge_14.txt' of shape (40, 20)\n",
      "2022-02-21 14:50:36.507750 starting: writing array-style template file 'freyberg6_template\\rch_recharge_14_pp_inst0_pilotpoints.csv.tpl'\n",
      "2022-02-21 14:50:36.507750 starting: setting up pilot point parameters\n",
      "2022-02-21 14:50:36.507750 No spatial reference (containing cell spacing) passed.\n",
      "2022-02-21 14:50:36.507750 OK - using spatial reference in parent object.\n"
     ]
    },
    {
     "name": "stdout",
     "output_type": "stream",
     "text": [
      "2022-02-21 14:50:36.578131 32 pilot point parameters created\n",
      "2022-02-21 14:50:36.578131 pilot point 'pargp':rch_recharge_14_pp\n",
      "2022-02-21 14:50:36.579128 finished: setting up pilot point parameters took: 0:00:00.071378\n",
      "2022-02-21 14:50:36.585165 starting: writing array-based template file 'freyberg6_template\\rch_recharge_14_pp_inst0pp.dat.tpl'\n",
      "2022-02-21 14:50:36.586111 saving zone array freyberg6_template\\rch_recharge_14_pp_inst0pp.dat.zone for tpl file freyberg6_template\\rch_recharge_14_pp_inst0pp.dat.tpl\n",
      "2022-02-21 14:50:36.591149 finished: adding pilotpoints type m style parameters for file(s) ['freyberg6.rch_recharge_14.txt'] took: 0:00:00.086435\n",
      "2022-02-21 14:50:36.591149 starting: adding constant type m style parameters for file(s) ['freyberg6.rch_recharge_14.txt']\n",
      "2022-02-21 14:50:36.592094 starting: loading array freyberg6_template\\freyberg6.rch_recharge_14.txt\n",
      "2022-02-21 14:50:36.593144 finished: loading array freyberg6_template\\freyberg6.rch_recharge_14.txt took: 0:00:00.001050\n",
      "2022-02-21 14:50:36.593144 loaded array 'freyberg_mf6\\freyberg6.rch_recharge_14.txt' of shape (40, 20)\n",
      "2022-02-21 14:50:36.595142 starting: writing array-style template file 'freyberg6_template\\rch_recharge_14_cn_inst0_constant.csv.tpl'\n",
      "2022-02-21 14:50:36.595142 starting: writing template file freyberg6_template\\rch_recharge_14_cn_inst0_constant.csv.tpl for ['rch_recharge_14_cn_inst:0']\n",
      "2022-02-21 14:50:36.602120 finished: writing template file freyberg6_template\\rch_recharge_14_cn_inst0_constant.csv.tpl for ['rch_recharge_14_cn_inst:0'] took: 0:00:00.006978\n",
      "2022-02-21 14:50:36.602120 starting: writing array-based template file 'freyberg6_template\\rch_recharge_14_cn_inst0_constant.csv.tpl'\n",
      "2022-02-21 14:50:36.602120 saving zone array freyberg6_template\\rch_recharge_14_cn_inst0_constant.csv.zone for tpl file freyberg6_template\\rch_recharge_14_cn_inst0_constant.csv.tpl\n",
      "2022-02-21 14:50:36.608086 finished: adding constant type m style parameters for file(s) ['freyberg6.rch_recharge_14.txt'] took: 0:00:00.016937\n",
      "2022-02-21 14:50:36.608086 starting: adding constant type m style parameters for file(s) ['freyberg6.rch_recharge_14.txt']\n",
      "2022-02-21 14:50:36.608086 starting: loading array freyberg6_template\\freyberg6.rch_recharge_14.txt\n",
      "2022-02-21 14:50:36.610079 finished: loading array freyberg6_template\\freyberg6.rch_recharge_14.txt took: 0:00:00.001993\n",
      "2022-02-21 14:50:36.610079 loaded array 'freyberg_mf6\\freyberg6.rch_recharge_14.txt' of shape (40, 20)\n",
      "2022-02-21 14:50:36.612096 starting: writing array-style template file 'freyberg6_template\\rch_recharge_14_tcn_inst0_constant.csv.tpl'\n",
      "2022-02-21 14:50:36.612096 starting: writing template file freyberg6_template\\rch_recharge_14_tcn_inst0_constant.csv.tpl for ['rch_recharge_14_tcn_inst:0']\n",
      "2022-02-21 14:50:36.618078 finished: writing template file freyberg6_template\\rch_recharge_14_tcn_inst0_constant.csv.tpl for ['rch_recharge_14_tcn_inst:0'] took: 0:00:00.005982\n",
      "2022-02-21 14:50:36.619065 starting: writing array-based template file 'freyberg6_template\\rch_recharge_14_tcn_inst0_constant.csv.tpl'\n"
     ]
    },
    {
     "name": "stdout",
     "output_type": "stream",
     "text": [
      "2022-02-21 14:50:36.619065 saving zone array freyberg6_template\\rch_recharge_14_tcn_inst0_constant.csv.zone for tpl file freyberg6_template\\rch_recharge_14_tcn_inst0_constant.csv.tpl\n",
      "2022-02-21 14:50:36.627000 finished: adding constant type m style parameters for file(s) ['freyberg6.rch_recharge_14.txt'] took: 0:00:00.018914\n",
      "2022-02-21 14:50:36.627000 starting: adding grid type m style parameters for file(s) ['freyberg6.rch_recharge_15.txt']\n",
      "2022-02-21 14:50:36.627000 starting: loading array freyberg6_template\\freyberg6.rch_recharge_15.txt\n",
      "2022-02-21 14:50:36.631987 finished: loading array freyberg6_template\\freyberg6.rch_recharge_15.txt took: 0:00:00.004987\n",
      "2022-02-21 14:50:36.633040 loaded array 'freyberg_mf6\\freyberg6.rch_recharge_15.txt' of shape (40, 20)\n",
      "2022-02-21 14:50:36.635036 starting: writing array-style template file 'freyberg6_template\\rch_recharge_15_gr_inst0_grid.csv.tpl'\n",
      "2022-02-21 14:50:36.635036 starting: writing template file freyberg6_template\\rch_recharge_15_gr_inst0_grid.csv.tpl for ['rch_recharge_15_gr_inst:0']\n",
      "2022-02-21 14:50:36.647000 finished: writing template file freyberg6_template\\rch_recharge_15_gr_inst0_grid.csv.tpl for ['rch_recharge_15_gr_inst:0'] took: 0:00:00.011964\n",
      "2022-02-21 14:50:36.647000 starting: writing array-based template file 'freyberg6_template\\rch_recharge_15_gr_inst0_grid.csv.tpl'\n",
      "2022-02-21 14:50:36.647000 saving zone array freyberg6_template\\rch_recharge_15_gr_inst0_grid.csv.zone for tpl file freyberg6_template\\rch_recharge_15_gr_inst0_grid.csv.tpl\n",
      "2022-02-21 14:50:36.653981 finished: adding grid type m style parameters for file(s) ['freyberg6.rch_recharge_15.txt'] took: 0:00:00.026981\n",
      "2022-02-21 14:50:36.653981 starting: adding pilotpoints type m style parameters for file(s) ['freyberg6.rch_recharge_15.txt']\n",
      "2022-02-21 14:50:36.653981 starting: loading array freyberg6_template\\freyberg6.rch_recharge_15.txt\n",
      "2022-02-21 14:50:36.655977 finished: loading array freyberg6_template\\freyberg6.rch_recharge_15.txt took: 0:00:00.001996\n",
      "2022-02-21 14:50:36.655977 loaded array 'freyberg_mf6\\freyberg6.rch_recharge_15.txt' of shape (40, 20)\n",
      "2022-02-21 14:50:36.657918 starting: writing array-style template file 'freyberg6_template\\rch_recharge_15_pp_inst0_pilotpoints.csv.tpl'\n",
      "2022-02-21 14:50:36.657918 starting: setting up pilot point parameters\n",
      "2022-02-21 14:50:36.657918 No spatial reference (containing cell spacing) passed.\n",
      "2022-02-21 14:50:36.657918 OK - using spatial reference in parent object.\n",
      "2022-02-21 14:50:36.728762 32 pilot point parameters created\n",
      "2022-02-21 14:50:36.728762 pilot point 'pargp':rch_recharge_15_pp\n",
      "2022-02-21 14:50:36.728762 finished: setting up pilot point parameters took: 0:00:00.070844\n",
      "2022-02-21 14:50:36.735747 starting: writing array-based template file 'freyberg6_template\\rch_recharge_15_pp_inst0pp.dat.tpl'\n",
      "2022-02-21 14:50:36.735747 saving zone array freyberg6_template\\rch_recharge_15_pp_inst0pp.dat.zone for tpl file freyberg6_template\\rch_recharge_15_pp_inst0pp.dat.tpl\n",
      "2022-02-21 14:50:36.740749 finished: adding pilotpoints type m style parameters for file(s) ['freyberg6.rch_recharge_15.txt'] took: 0:00:00.086768\n",
      "2022-02-21 14:50:36.740749 starting: adding constant type m style parameters for file(s) ['freyberg6.rch_recharge_15.txt']\n",
      "2022-02-21 14:50:36.740749 starting: loading array freyberg6_template\\freyberg6.rch_recharge_15.txt\n",
      "2022-02-21 14:50:36.742744 finished: loading array freyberg6_template\\freyberg6.rch_recharge_15.txt took: 0:00:00.001995\n",
      "2022-02-21 14:50:36.742744 loaded array 'freyberg_mf6\\freyberg6.rch_recharge_15.txt' of shape (40, 20)\n",
      "2022-02-21 14:50:36.744714 starting: writing array-style template file 'freyberg6_template\\rch_recharge_15_cn_inst0_constant.csv.tpl'\n",
      "2022-02-21 14:50:36.744714 starting: writing template file freyberg6_template\\rch_recharge_15_cn_inst0_constant.csv.tpl for ['rch_recharge_15_cn_inst:0']\n",
      "2022-02-21 14:50:36.751702 finished: writing template file freyberg6_template\\rch_recharge_15_cn_inst0_constant.csv.tpl for ['rch_recharge_15_cn_inst:0'] took: 0:00:00.006988\n",
      "2022-02-21 14:50:36.751702 starting: writing array-based template file 'freyberg6_template\\rch_recharge_15_cn_inst0_constant.csv.tpl'\n",
      "2022-02-21 14:50:36.751702 saving zone array freyberg6_template\\rch_recharge_15_cn_inst0_constant.csv.zone for tpl file freyberg6_template\\rch_recharge_15_cn_inst0_constant.csv.tpl\n",
      "2022-02-21 14:50:36.757684 finished: adding constant type m style parameters for file(s) ['freyberg6.rch_recharge_15.txt'] took: 0:00:00.016935\n",
      "2022-02-21 14:50:36.757684 starting: adding constant type m style parameters for file(s) ['freyberg6.rch_recharge_15.txt']\n",
      "2022-02-21 14:50:36.757684 starting: loading array freyberg6_template\\freyberg6.rch_recharge_15.txt\n"
     ]
    },
    {
     "name": "stdout",
     "output_type": "stream",
     "text": [
      "2022-02-21 14:50:36.759686 finished: loading array freyberg6_template\\freyberg6.rch_recharge_15.txt took: 0:00:00.002002\n",
      "2022-02-21 14:50:36.759686 loaded array 'freyberg_mf6\\freyberg6.rch_recharge_15.txt' of shape (40, 20)\n",
      "2022-02-21 14:50:36.761673 starting: writing array-style template file 'freyberg6_template\\rch_recharge_15_tcn_inst0_constant.csv.tpl'\n",
      "2022-02-21 14:50:36.761673 starting: writing template file freyberg6_template\\rch_recharge_15_tcn_inst0_constant.csv.tpl for ['rch_recharge_15_tcn_inst:0']\n",
      "2022-02-21 14:50:36.768654 finished: writing template file freyberg6_template\\rch_recharge_15_tcn_inst0_constant.csv.tpl for ['rch_recharge_15_tcn_inst:0'] took: 0:00:00.006981\n",
      "2022-02-21 14:50:36.768654 starting: writing array-based template file 'freyberg6_template\\rch_recharge_15_tcn_inst0_constant.csv.tpl'\n",
      "2022-02-21 14:50:36.769653 saving zone array freyberg6_template\\rch_recharge_15_tcn_inst0_constant.csv.zone for tpl file freyberg6_template\\rch_recharge_15_tcn_inst0_constant.csv.tpl\n",
      "2022-02-21 14:50:36.775637 finished: adding constant type m style parameters for file(s) ['freyberg6.rch_recharge_15.txt'] took: 0:00:00.017953\n",
      "2022-02-21 14:50:36.776634 starting: adding grid type m style parameters for file(s) ['freyberg6.rch_recharge_16.txt']\n",
      "2022-02-21 14:50:36.776634 starting: loading array freyberg6_template\\freyberg6.rch_recharge_16.txt\n",
      "2022-02-21 14:50:36.781587 finished: loading array freyberg6_template\\freyberg6.rch_recharge_16.txt took: 0:00:00.004953\n",
      "2022-02-21 14:50:36.781587 loaded array 'freyberg_mf6\\freyberg6.rch_recharge_16.txt' of shape (40, 20)\n",
      "2022-02-21 14:50:36.783635 starting: writing array-style template file 'freyberg6_template\\rch_recharge_16_gr_inst0_grid.csv.tpl'\n",
      "2022-02-21 14:50:36.783635 starting: writing template file freyberg6_template\\rch_recharge_16_gr_inst0_grid.csv.tpl for ['rch_recharge_16_gr_inst:0']\n",
      "2022-02-21 14:50:36.795550 finished: writing template file freyberg6_template\\rch_recharge_16_gr_inst0_grid.csv.tpl for ['rch_recharge_16_gr_inst:0'] took: 0:00:00.011915\n",
      "2022-02-21 14:50:36.795550 starting: writing array-based template file 'freyberg6_template\\rch_recharge_16_gr_inst0_grid.csv.tpl'\n",
      "2022-02-21 14:50:36.795550 saving zone array freyberg6_template\\rch_recharge_16_gr_inst0_grid.csv.zone for tpl file freyberg6_template\\rch_recharge_16_gr_inst0_grid.csv.tpl\n",
      "2022-02-21 14:50:36.802587 finished: adding grid type m style parameters for file(s) ['freyberg6.rch_recharge_16.txt'] took: 0:00:00.025953\n",
      "2022-02-21 14:50:36.802587 starting: adding pilotpoints type m style parameters for file(s) ['freyberg6.rch_recharge_16.txt']\n",
      "2022-02-21 14:50:36.803569 starting: loading array freyberg6_template\\freyberg6.rch_recharge_16.txt\n",
      "2022-02-21 14:50:36.804579 finished: loading array freyberg6_template\\freyberg6.rch_recharge_16.txt took: 0:00:00.001010\n",
      "2022-02-21 14:50:36.804579 loaded array 'freyberg_mf6\\freyberg6.rch_recharge_16.txt' of shape (40, 20)\n"
     ]
    },
    {
     "name": "stdout",
     "output_type": "stream",
     "text": [
      "2022-02-21 14:50:36.806553 starting: writing array-style template file 'freyberg6_template\\rch_recharge_16_pp_inst0_pilotpoints.csv.tpl'\n",
      "2022-02-21 14:50:36.806553 starting: setting up pilot point parameters\n",
      "2022-02-21 14:50:36.806553 No spatial reference (containing cell spacing) passed.\n",
      "2022-02-21 14:50:36.806553 OK - using spatial reference in parent object.\n",
      "2022-02-21 14:50:36.878328 32 pilot point parameters created\n",
      "2022-02-21 14:50:36.878328 pilot point 'pargp':rch_recharge_16_pp\n",
      "2022-02-21 14:50:36.879326 finished: setting up pilot point parameters took: 0:00:00.072773\n",
      "2022-02-21 14:50:36.886307 starting: writing array-based template file 'freyberg6_template\\rch_recharge_16_pp_inst0pp.dat.tpl'\n",
      "2022-02-21 14:50:36.886307 saving zone array freyberg6_template\\rch_recharge_16_pp_inst0pp.dat.zone for tpl file freyberg6_template\\rch_recharge_16_pp_inst0pp.dat.tpl\n",
      "2022-02-21 14:50:36.891341 finished: adding pilotpoints type m style parameters for file(s) ['freyberg6.rch_recharge_16.txt'] took: 0:00:00.088754\n",
      "2022-02-21 14:50:36.891341 starting: adding constant type m style parameters for file(s) ['freyberg6.rch_recharge_16.txt']\n",
      "2022-02-21 14:50:36.891341 starting: loading array freyberg6_template\\freyberg6.rch_recharge_16.txt\n",
      "2022-02-21 14:50:36.892335 finished: loading array freyberg6_template\\freyberg6.rch_recharge_16.txt took: 0:00:00.000994\n",
      "2022-02-21 14:50:36.892335 loaded array 'freyberg_mf6\\freyberg6.rch_recharge_16.txt' of shape (40, 20)\n",
      "2022-02-21 14:50:36.894330 starting: writing array-style template file 'freyberg6_template\\rch_recharge_16_cn_inst0_constant.csv.tpl'\n",
      "2022-02-21 14:50:36.894330 starting: writing template file freyberg6_template\\rch_recharge_16_cn_inst0_constant.csv.tpl for ['rch_recharge_16_cn_inst:0']\n",
      "2022-02-21 14:50:36.901292 finished: writing template file freyberg6_template\\rch_recharge_16_cn_inst0_constant.csv.tpl for ['rch_recharge_16_cn_inst:0'] took: 0:00:00.006962\n",
      "2022-02-21 14:50:36.902264 starting: writing array-based template file 'freyberg6_template\\rch_recharge_16_cn_inst0_constant.csv.tpl'\n",
      "2022-02-21 14:50:36.902264 saving zone array freyberg6_template\\rch_recharge_16_cn_inst0_constant.csv.zone for tpl file freyberg6_template\\rch_recharge_16_cn_inst0_constant.csv.tpl\n",
      "2022-02-21 14:50:36.908275 finished: adding constant type m style parameters for file(s) ['freyberg6.rch_recharge_16.txt'] took: 0:00:00.016934\n",
      "2022-02-21 14:50:36.908275 starting: adding constant type m style parameters for file(s) ['freyberg6.rch_recharge_16.txt']\n",
      "2022-02-21 14:50:36.908275 starting: loading array freyberg6_template\\freyberg6.rch_recharge_16.txt\n",
      "2022-02-21 14:50:36.909246 finished: loading array freyberg6_template\\freyberg6.rch_recharge_16.txt took: 0:00:00.000971\n",
      "2022-02-21 14:50:36.909246 loaded array 'freyberg_mf6\\freyberg6.rch_recharge_16.txt' of shape (40, 20)\n",
      "2022-02-21 14:50:36.911267 starting: writing array-style template file 'freyberg6_template\\rch_recharge_16_tcn_inst0_constant.csv.tpl'\n",
      "2022-02-21 14:50:36.911267 starting: writing template file freyberg6_template\\rch_recharge_16_tcn_inst0_constant.csv.tpl for ['rch_recharge_16_tcn_inst:0']\n",
      "2022-02-21 14:50:36.918222 finished: writing template file freyberg6_template\\rch_recharge_16_tcn_inst0_constant.csv.tpl for ['rch_recharge_16_tcn_inst:0'] took: 0:00:00.006955\n",
      "2022-02-21 14:50:36.918222 starting: writing array-based template file 'freyberg6_template\\rch_recharge_16_tcn_inst0_constant.csv.tpl'\n",
      "2022-02-21 14:50:36.919219 saving zone array freyberg6_template\\rch_recharge_16_tcn_inst0_constant.csv.zone for tpl file freyberg6_template\\rch_recharge_16_tcn_inst0_constant.csv.tpl\n",
      "2022-02-21 14:50:36.926235 finished: adding constant type m style parameters for file(s) ['freyberg6.rch_recharge_16.txt'] took: 0:00:00.017960\n",
      "2022-02-21 14:50:36.926235 starting: adding grid type m style parameters for file(s) ['freyberg6.rch_recharge_17.txt']\n",
      "2022-02-21 14:50:36.926235 starting: loading array freyberg6_template\\freyberg6.rch_recharge_17.txt\n",
      "2022-02-21 14:50:36.932240 finished: loading array freyberg6_template\\freyberg6.rch_recharge_17.txt took: 0:00:00.006005\n",
      "2022-02-21 14:50:36.932240 loaded array 'freyberg_mf6\\freyberg6.rch_recharge_17.txt' of shape (40, 20)\n",
      "2022-02-21 14:50:36.934231 starting: writing array-style template file 'freyberg6_template\\rch_recharge_17_gr_inst0_grid.csv.tpl'\n",
      "2022-02-21 14:50:36.934231 starting: writing template file freyberg6_template\\rch_recharge_17_gr_inst0_grid.csv.tpl for ['rch_recharge_17_gr_inst:0']\n",
      "2022-02-21 14:50:36.946203 finished: writing template file freyberg6_template\\rch_recharge_17_gr_inst0_grid.csv.tpl for ['rch_recharge_17_gr_inst:0'] took: 0:00:00.011972\n",
      "2022-02-21 14:50:36.946203 starting: writing array-based template file 'freyberg6_template\\rch_recharge_17_gr_inst0_grid.csv.tpl'\n"
     ]
    },
    {
     "name": "stdout",
     "output_type": "stream",
     "text": [
      "2022-02-21 14:50:36.946203 saving zone array freyberg6_template\\rch_recharge_17_gr_inst0_grid.csv.zone for tpl file freyberg6_template\\rch_recharge_17_gr_inst0_grid.csv.tpl\n",
      "2022-02-21 14:50:36.954126 finished: adding grid type m style parameters for file(s) ['freyberg6.rch_recharge_17.txt'] took: 0:00:00.027891\n",
      "2022-02-21 14:50:36.954126 starting: adding pilotpoints type m style parameters for file(s) ['freyberg6.rch_recharge_17.txt']\n",
      "2022-02-21 14:50:36.954126 starting: loading array freyberg6_template\\freyberg6.rch_recharge_17.txt\n",
      "2022-02-21 14:50:36.955156 finished: loading array freyberg6_template\\freyberg6.rch_recharge_17.txt took: 0:00:00.001030\n",
      "2022-02-21 14:50:36.955156 loaded array 'freyberg_mf6\\freyberg6.rch_recharge_17.txt' of shape (40, 20)\n",
      "2022-02-21 14:50:36.957150 starting: writing array-style template file 'freyberg6_template\\rch_recharge_17_pp_inst0_pilotpoints.csv.tpl'\n",
      "2022-02-21 14:50:36.957150 starting: setting up pilot point parameters\n",
      "2022-02-21 14:50:36.957150 No spatial reference (containing cell spacing) passed.\n",
      "2022-02-21 14:50:36.957150 OK - using spatial reference in parent object.\n",
      "2022-02-21 14:50:37.026931 32 pilot point parameters created\n",
      "2022-02-21 14:50:37.026931 pilot point 'pargp':rch_recharge_17_pp\n",
      "2022-02-21 14:50:37.026931 finished: setting up pilot point parameters took: 0:00:00.069781\n",
      "2022-02-21 14:50:37.032915 starting: writing array-based template file 'freyberg6_template\\rch_recharge_17_pp_inst0pp.dat.tpl'\n"
     ]
    },
    {
     "name": "stdout",
     "output_type": "stream",
     "text": [
      "2022-02-21 14:50:37.033970 saving zone array freyberg6_template\\rch_recharge_17_pp_inst0pp.dat.zone for tpl file freyberg6_template\\rch_recharge_17_pp_inst0pp.dat.tpl\n",
      "2022-02-21 14:50:37.038899 finished: adding pilotpoints type m style parameters for file(s) ['freyberg6.rch_recharge_17.txt'] took: 0:00:00.084773\n",
      "2022-02-21 14:50:37.038899 starting: adding constant type m style parameters for file(s) ['freyberg6.rch_recharge_17.txt']\n",
      "2022-02-21 14:50:37.038899 starting: loading array freyberg6_template\\freyberg6.rch_recharge_17.txt\n",
      "2022-02-21 14:50:37.040957 finished: loading array freyberg6_template\\freyberg6.rch_recharge_17.txt took: 0:00:00.002058\n",
      "2022-02-21 14:50:37.040957 loaded array 'freyberg_mf6\\freyberg6.rch_recharge_17.txt' of shape (40, 20)\n",
      "2022-02-21 14:50:37.042943 starting: writing array-style template file 'freyberg6_template\\rch_recharge_17_cn_inst0_constant.csv.tpl'\n",
      "2022-02-21 14:50:37.042943 starting: writing template file freyberg6_template\\rch_recharge_17_cn_inst0_constant.csv.tpl for ['rch_recharge_17_cn_inst:0']\n",
      "2022-02-21 14:50:37.049870 finished: writing template file freyberg6_template\\rch_recharge_17_cn_inst0_constant.csv.tpl for ['rch_recharge_17_cn_inst:0'] took: 0:00:00.006927\n",
      "2022-02-21 14:50:37.049870 starting: writing array-based template file 'freyberg6_template\\rch_recharge_17_cn_inst0_constant.csv.tpl'\n",
      "2022-02-21 14:50:37.049870 saving zone array freyberg6_template\\rch_recharge_17_cn_inst0_constant.csv.zone for tpl file freyberg6_template\\rch_recharge_17_cn_inst0_constant.csv.tpl\n",
      "2022-02-21 14:50:37.055886 finished: adding constant type m style parameters for file(s) ['freyberg6.rch_recharge_17.txt'] took: 0:00:00.016987\n",
      "2022-02-21 14:50:37.055886 starting: adding constant type m style parameters for file(s) ['freyberg6.rch_recharge_17.txt']\n",
      "2022-02-21 14:50:37.056850 starting: loading array freyberg6_template\\freyberg6.rch_recharge_17.txt\n",
      "2022-02-21 14:50:37.057904 finished: loading array freyberg6_template\\freyberg6.rch_recharge_17.txt took: 0:00:00.001054\n",
      "2022-02-21 14:50:37.057904 loaded array 'freyberg_mf6\\freyberg6.rch_recharge_17.txt' of shape (40, 20)\n",
      "2022-02-21 14:50:37.059843 starting: writing array-style template file 'freyberg6_template\\rch_recharge_17_tcn_inst0_constant.csv.tpl'\n",
      "2022-02-21 14:50:37.059843 starting: writing template file freyberg6_template\\rch_recharge_17_tcn_inst0_constant.csv.tpl for ['rch_recharge_17_tcn_inst:0']\n",
      "2022-02-21 14:50:37.066825 finished: writing template file freyberg6_template\\rch_recharge_17_tcn_inst0_constant.csv.tpl for ['rch_recharge_17_tcn_inst:0'] took: 0:00:00.006982\n",
      "2022-02-21 14:50:37.066825 starting: writing array-based template file 'freyberg6_template\\rch_recharge_17_tcn_inst0_constant.csv.tpl'\n",
      "2022-02-21 14:50:37.067856 saving zone array freyberg6_template\\rch_recharge_17_tcn_inst0_constant.csv.zone for tpl file freyberg6_template\\rch_recharge_17_tcn_inst0_constant.csv.tpl\n",
      "2022-02-21 14:50:37.074803 finished: adding constant type m style parameters for file(s) ['freyberg6.rch_recharge_17.txt'] took: 0:00:00.018917\n",
      "2022-02-21 14:50:37.074803 starting: adding grid type m style parameters for file(s) ['freyberg6.rch_recharge_18.txt']\n",
      "2022-02-21 14:50:37.074803 starting: loading array freyberg6_template\\freyberg6.rch_recharge_18.txt\n",
      "2022-02-21 14:50:37.079790 finished: loading array freyberg6_template\\freyberg6.rch_recharge_18.txt took: 0:00:00.004987\n",
      "2022-02-21 14:50:37.079790 loaded array 'freyberg_mf6\\freyberg6.rch_recharge_18.txt' of shape (40, 20)\n",
      "2022-02-21 14:50:37.081840 starting: writing array-style template file 'freyberg6_template\\rch_recharge_18_gr_inst0_grid.csv.tpl'\n",
      "2022-02-21 14:50:37.081840 starting: writing template file freyberg6_template\\rch_recharge_18_gr_inst0_grid.csv.tpl for ['rch_recharge_18_gr_inst:0']\n",
      "2022-02-21 14:50:37.093805 finished: writing template file freyberg6_template\\rch_recharge_18_gr_inst0_grid.csv.tpl for ['rch_recharge_18_gr_inst:0'] took: 0:00:00.011965\n",
      "2022-02-21 14:50:37.093805 starting: writing array-based template file 'freyberg6_template\\rch_recharge_18_gr_inst0_grid.csv.tpl'\n",
      "2022-02-21 14:50:37.093805 saving zone array freyberg6_template\\rch_recharge_18_gr_inst0_grid.csv.zone for tpl file freyberg6_template\\rch_recharge_18_gr_inst0_grid.csv.tpl\n",
      "2022-02-21 14:50:37.100766 finished: adding grid type m style parameters for file(s) ['freyberg6.rch_recharge_18.txt'] took: 0:00:00.025963\n",
      "2022-02-21 14:50:37.101730 starting: adding pilotpoints type m style parameters for file(s) ['freyberg6.rch_recharge_18.txt']\n",
      "2022-02-21 14:50:37.101730 starting: loading array freyberg6_template\\freyberg6.rch_recharge_18.txt\n",
      "2022-02-21 14:50:37.102762 finished: loading array freyberg6_template\\freyberg6.rch_recharge_18.txt took: 0:00:00.001032\n",
      "2022-02-21 14:50:37.102762 loaded array 'freyberg_mf6\\freyberg6.rch_recharge_18.txt' of shape (40, 20)\n",
      "2022-02-21 14:50:37.104728 starting: writing array-style template file 'freyberg6_template\\rch_recharge_18_pp_inst0_pilotpoints.csv.tpl'\n",
      "2022-02-21 14:50:37.104728 starting: setting up pilot point parameters\n",
      "2022-02-21 14:50:37.104728 No spatial reference (containing cell spacing) passed.\n",
      "2022-02-21 14:50:37.104728 OK - using spatial reference in parent object.\n"
     ]
    },
    {
     "name": "stdout",
     "output_type": "stream",
     "text": [
      "2022-02-21 14:50:37.177584 32 pilot point parameters created\n",
      "2022-02-21 14:50:37.177584 pilot point 'pargp':rch_recharge_18_pp\n",
      "2022-02-21 14:50:37.177584 finished: setting up pilot point parameters took: 0:00:00.072856\n",
      "2022-02-21 14:50:37.184561 starting: writing array-based template file 'freyberg6_template\\rch_recharge_18_pp_inst0pp.dat.tpl'\n",
      "2022-02-21 14:50:37.184561 saving zone array freyberg6_template\\rch_recharge_18_pp_inst0pp.dat.zone for tpl file freyberg6_template\\rch_recharge_18_pp_inst0pp.dat.tpl\n",
      "2022-02-21 14:50:37.189551 finished: adding pilotpoints type m style parameters for file(s) ['freyberg6.rch_recharge_18.txt'] took: 0:00:00.087821\n",
      "2022-02-21 14:50:37.189551 starting: adding constant type m style parameters for file(s) ['freyberg6.rch_recharge_18.txt']\n",
      "2022-02-21 14:50:37.189551 starting: loading array freyberg6_template\\freyberg6.rch_recharge_18.txt\n",
      "2022-02-21 14:50:37.191546 finished: loading array freyberg6_template\\freyberg6.rch_recharge_18.txt took: 0:00:00.001995\n",
      "2022-02-21 14:50:37.191546 loaded array 'freyberg_mf6\\freyberg6.rch_recharge_18.txt' of shape (40, 20)\n",
      "2022-02-21 14:50:37.193542 starting: writing array-style template file 'freyberg6_template\\rch_recharge_18_cn_inst0_constant.csv.tpl'\n",
      "2022-02-21 14:50:37.193542 starting: writing template file freyberg6_template\\rch_recharge_18_cn_inst0_constant.csv.tpl for ['rch_recharge_18_cn_inst:0']\n",
      "2022-02-21 14:50:37.200519 finished: writing template file freyberg6_template\\rch_recharge_18_cn_inst0_constant.csv.tpl for ['rch_recharge_18_cn_inst:0'] took: 0:00:00.006977\n",
      "2022-02-21 14:50:37.200519 starting: writing array-based template file 'freyberg6_template\\rch_recharge_18_cn_inst0_constant.csv.tpl'\n",
      "2022-02-21 14:50:37.200519 saving zone array freyberg6_template\\rch_recharge_18_cn_inst0_constant.csv.zone for tpl file freyberg6_template\\rch_recharge_18_cn_inst0_constant.csv.tpl\n",
      "2022-02-21 14:50:37.206485 finished: adding constant type m style parameters for file(s) ['freyberg6.rch_recharge_18.txt'] took: 0:00:00.016934\n",
      "2022-02-21 14:50:37.206485 starting: adding constant type m style parameters for file(s) ['freyberg6.rch_recharge_18.txt']\n",
      "2022-02-21 14:50:37.206485 starting: loading array freyberg6_template\\freyberg6.rch_recharge_18.txt\n",
      "2022-02-21 14:50:37.207482 finished: loading array freyberg6_template\\freyberg6.rch_recharge_18.txt took: 0:00:00.000997\n",
      "2022-02-21 14:50:37.208478 loaded array 'freyberg_mf6\\freyberg6.rch_recharge_18.txt' of shape (40, 20)\n",
      "2022-02-21 14:50:37.210441 starting: writing array-style template file 'freyberg6_template\\rch_recharge_18_tcn_inst0_constant.csv.tpl'\n",
      "2022-02-21 14:50:37.210441 starting: writing template file freyberg6_template\\rch_recharge_18_tcn_inst0_constant.csv.tpl for ['rch_recharge_18_tcn_inst:0']\n",
      "2022-02-21 14:50:37.217458 finished: writing template file freyberg6_template\\rch_recharge_18_tcn_inst0_constant.csv.tpl for ['rch_recharge_18_tcn_inst:0'] took: 0:00:00.007017\n",
      "2022-02-21 14:50:37.217458 starting: writing array-based template file 'freyberg6_template\\rch_recharge_18_tcn_inst0_constant.csv.tpl'\n",
      "2022-02-21 14:50:37.217458 saving zone array freyberg6_template\\rch_recharge_18_tcn_inst0_constant.csv.zone for tpl file freyberg6_template\\rch_recharge_18_tcn_inst0_constant.csv.tpl\n"
     ]
    },
    {
     "name": "stdout",
     "output_type": "stream",
     "text": [
      "2022-02-21 14:50:37.225436 finished: adding constant type m style parameters for file(s) ['freyberg6.rch_recharge_18.txt'] took: 0:00:00.018951\n",
      "2022-02-21 14:50:37.225436 starting: adding grid type m style parameters for file(s) ['freyberg6.rch_recharge_19.txt']\n",
      "2022-02-21 14:50:37.225436 starting: loading array freyberg6_template\\freyberg6.rch_recharge_19.txt\n",
      "2022-02-21 14:50:37.230386 finished: loading array freyberg6_template\\freyberg6.rch_recharge_19.txt took: 0:00:00.004950\n",
      "2022-02-21 14:50:37.231436 loaded array 'freyberg_mf6\\freyberg6.rch_recharge_19.txt' of shape (40, 20)\n",
      "2022-02-21 14:50:37.233380 starting: writing array-style template file 'freyberg6_template\\rch_recharge_19_gr_inst0_grid.csv.tpl'\n",
      "2022-02-21 14:50:37.233380 starting: writing template file freyberg6_template\\rch_recharge_19_gr_inst0_grid.csv.tpl for ['rch_recharge_19_gr_inst:0']\n",
      "2022-02-21 14:50:37.245347 finished: writing template file freyberg6_template\\rch_recharge_19_gr_inst0_grid.csv.tpl for ['rch_recharge_19_gr_inst:0'] took: 0:00:00.011967\n",
      "2022-02-21 14:50:37.245347 starting: writing array-based template file 'freyberg6_template\\rch_recharge_19_gr_inst0_grid.csv.tpl'\n",
      "2022-02-21 14:50:37.245347 saving zone array freyberg6_template\\rch_recharge_19_gr_inst0_grid.csv.zone for tpl file freyberg6_template\\rch_recharge_19_gr_inst0_grid.csv.tpl\n",
      "2022-02-21 14:50:37.252361 finished: adding grid type m style parameters for file(s) ['freyberg6.rch_recharge_19.txt'] took: 0:00:00.026925\n",
      "2022-02-21 14:50:37.252361 starting: adding pilotpoints type m style parameters for file(s) ['freyberg6.rch_recharge_19.txt']\n",
      "2022-02-21 14:50:37.253358 starting: loading array freyberg6_template\\freyberg6.rch_recharge_19.txt\n",
      "2022-02-21 14:50:37.254375 finished: loading array freyberg6_template\\freyberg6.rch_recharge_19.txt took: 0:00:00.001017\n",
      "2022-02-21 14:50:37.254375 loaded array 'freyberg_mf6\\freyberg6.rch_recharge_19.txt' of shape (40, 20)\n",
      "2022-02-21 14:50:37.256370 starting: writing array-style template file 'freyberg6_template\\rch_recharge_19_pp_inst0_pilotpoints.csv.tpl'\n",
      "2022-02-21 14:50:37.256370 starting: setting up pilot point parameters\n",
      "2022-02-21 14:50:37.256370 No spatial reference (containing cell spacing) passed.\n",
      "2022-02-21 14:50:37.256370 OK - using spatial reference in parent object.\n",
      "2022-02-21 14:50:37.329122 32 pilot point parameters created\n",
      "2022-02-21 14:50:37.329122 pilot point 'pargp':rch_recharge_19_pp\n",
      "2022-02-21 14:50:37.329122 finished: setting up pilot point parameters took: 0:00:00.072752\n",
      "2022-02-21 14:50:37.335139 starting: writing array-based template file 'freyberg6_template\\rch_recharge_19_pp_inst0pp.dat.tpl'\n",
      "2022-02-21 14:50:37.336156 saving zone array freyberg6_template\\rch_recharge_19_pp_inst0pp.dat.zone for tpl file freyberg6_template\\rch_recharge_19_pp_inst0pp.dat.tpl\n",
      "2022-02-21 14:50:37.341143 finished: adding pilotpoints type m style parameters for file(s) ['freyberg6.rch_recharge_19.txt'] took: 0:00:00.088782\n",
      "2022-02-21 14:50:37.341143 starting: adding constant type m style parameters for file(s) ['freyberg6.rch_recharge_19.txt']\n",
      "2022-02-21 14:50:37.341143 starting: loading array freyberg6_template\\freyberg6.rch_recharge_19.txt\n",
      "2022-02-21 14:50:37.342140 finished: loading array freyberg6_template\\freyberg6.rch_recharge_19.txt took: 0:00:00.000997\n",
      "2022-02-21 14:50:37.343137 loaded array 'freyberg_mf6\\freyberg6.rch_recharge_19.txt' of shape (40, 20)\n",
      "2022-02-21 14:50:37.344136 starting: writing array-style template file 'freyberg6_template\\rch_recharge_19_cn_inst0_constant.csv.tpl'\n",
      "2022-02-21 14:50:37.344136 starting: writing template file freyberg6_template\\rch_recharge_19_cn_inst0_constant.csv.tpl for ['rch_recharge_19_cn_inst:0']\n",
      "2022-02-21 14:50:37.352114 finished: writing template file freyberg6_template\\rch_recharge_19_cn_inst0_constant.csv.tpl for ['rch_recharge_19_cn_inst:0'] took: 0:00:00.007978\n",
      "2022-02-21 14:50:37.352114 starting: writing array-based template file 'freyberg6_template\\rch_recharge_19_cn_inst0_constant.csv.tpl'\n",
      "2022-02-21 14:50:37.352114 saving zone array freyberg6_template\\rch_recharge_19_cn_inst0_constant.csv.zone for tpl file freyberg6_template\\rch_recharge_19_cn_inst0_constant.csv.tpl\n"
     ]
    },
    {
     "name": "stdout",
     "output_type": "stream",
     "text": [
      "2022-02-21 14:50:37.358079 finished: adding constant type m style parameters for file(s) ['freyberg6.rch_recharge_19.txt'] took: 0:00:00.016936\n",
      "2022-02-21 14:50:37.358079 starting: adding constant type m style parameters for file(s) ['freyberg6.rch_recharge_19.txt']\n",
      "2022-02-21 14:50:37.358079 starting: loading array freyberg6_template\\freyberg6.rch_recharge_19.txt\n",
      "2022-02-21 14:50:37.360073 finished: loading array freyberg6_template\\freyberg6.rch_recharge_19.txt took: 0:00:00.001994\n",
      "2022-02-21 14:50:37.360073 loaded array 'freyberg_mf6\\freyberg6.rch_recharge_19.txt' of shape (40, 20)\n",
      "2022-02-21 14:50:37.362068 starting: writing array-style template file 'freyberg6_template\\rch_recharge_19_tcn_inst0_constant.csv.tpl'\n",
      "2022-02-21 14:50:37.362068 starting: writing template file freyberg6_template\\rch_recharge_19_tcn_inst0_constant.csv.tpl for ['rch_recharge_19_tcn_inst:0']\n",
      "2022-02-21 14:50:37.369052 finished: writing template file freyberg6_template\\rch_recharge_19_tcn_inst0_constant.csv.tpl for ['rch_recharge_19_tcn_inst:0'] took: 0:00:00.006984\n",
      "2022-02-21 14:50:37.369052 starting: writing array-based template file 'freyberg6_template\\rch_recharge_19_tcn_inst0_constant.csv.tpl'\n",
      "2022-02-21 14:50:37.370046 saving zone array freyberg6_template\\rch_recharge_19_tcn_inst0_constant.csv.zone for tpl file freyberg6_template\\rch_recharge_19_tcn_inst0_constant.csv.tpl\n",
      "2022-02-21 14:50:37.377031 finished: adding constant type m style parameters for file(s) ['freyberg6.rch_recharge_19.txt'] took: 0:00:00.018952\n",
      "2022-02-21 14:50:37.377031 starting: adding grid type m style parameters for file(s) ['freyberg6.rch_recharge_2.txt']\n",
      "2022-02-21 14:50:37.377031 starting: loading array freyberg6_template\\freyberg6.rch_recharge_2.txt\n",
      "2022-02-21 14:50:37.381980 finished: loading array freyberg6_template\\freyberg6.rch_recharge_2.txt took: 0:00:00.004949\n",
      "2022-02-21 14:50:37.381980 loaded array 'freyberg_mf6\\freyberg6.rch_recharge_2.txt' of shape (40, 20)\n",
      "2022-02-21 14:50:37.384028 starting: writing array-style template file 'freyberg6_template\\rch_recharge_2_gr_inst0_grid.csv.tpl'\n",
      "2022-02-21 14:50:37.384974 starting: writing template file freyberg6_template\\rch_recharge_2_gr_inst0_grid.csv.tpl for ['rch_recharge_2_gr_inst:0']\n",
      "2022-02-21 14:50:37.396994 finished: writing template file freyberg6_template\\rch_recharge_2_gr_inst0_grid.csv.tpl for ['rch_recharge_2_gr_inst:0'] took: 0:00:00.012020\n",
      "2022-02-21 14:50:37.396994 starting: writing array-based template file 'freyberg6_template\\rch_recharge_2_gr_inst0_grid.csv.tpl'\n",
      "2022-02-21 14:50:37.396994 saving zone array freyberg6_template\\rch_recharge_2_gr_inst0_grid.csv.zone for tpl file freyberg6_template\\rch_recharge_2_gr_inst0_grid.csv.tpl\n",
      "2022-02-21 14:50:37.403922 finished: adding grid type m style parameters for file(s) ['freyberg6.rch_recharge_2.txt'] took: 0:00:00.026891\n",
      "2022-02-21 14:50:37.403922 starting: adding pilotpoints type m style parameters for file(s) ['freyberg6.rch_recharge_2.txt']\n",
      "2022-02-21 14:50:37.404919 starting: loading array freyberg6_template\\freyberg6.rch_recharge_2.txt\n"
     ]
    },
    {
     "name": "stdout",
     "output_type": "stream",
     "text": [
      "2022-02-21 14:50:37.405970 finished: loading array freyberg6_template\\freyberg6.rch_recharge_2.txt took: 0:00:00.001051\n",
      "2022-02-21 14:50:37.405970 loaded array 'freyberg_mf6\\freyberg6.rch_recharge_2.txt' of shape (40, 20)\n",
      "2022-02-21 14:50:37.407911 starting: writing array-style template file 'freyberg6_template\\rch_recharge_2_pp_inst0_pilotpoints.csv.tpl'\n",
      "2022-02-21 14:50:37.407911 starting: setting up pilot point parameters\n",
      "2022-02-21 14:50:37.407911 No spatial reference (containing cell spacing) passed.\n",
      "2022-02-21 14:50:37.407911 OK - using spatial reference in parent object.\n",
      "2022-02-21 14:50:37.479032 32 pilot point parameters created\n",
      "2022-02-21 14:50:37.479032 pilot point 'pargp':rch_recharge_2_pp\n",
      "2022-02-21 14:50:37.480081 finished: setting up pilot point parameters took: 0:00:00.072170\n",
      "2022-02-21 14:50:37.486066 starting: writing array-based template file 'freyberg6_template\\rch_recharge_2_pp_inst0pp.dat.tpl'\n",
      "2022-02-21 14:50:37.487063 saving zone array freyberg6_template\\rch_recharge_2_pp_inst0pp.dat.zone for tpl file freyberg6_template\\rch_recharge_2_pp_inst0pp.dat.tpl\n",
      "2022-02-21 14:50:37.492052 finished: adding pilotpoints type m style parameters for file(s) ['freyberg6.rch_recharge_2.txt'] took: 0:00:00.088130\n",
      "2022-02-21 14:50:37.492052 starting: adding constant type m style parameters for file(s) ['freyberg6.rch_recharge_2.txt']\n",
      "2022-02-21 14:50:37.492052 starting: loading array freyberg6_template\\freyberg6.rch_recharge_2.txt\n",
      "2022-02-21 14:50:37.494044 finished: loading array freyberg6_template\\freyberg6.rch_recharge_2.txt took: 0:00:00.001992\n",
      "2022-02-21 14:50:37.494044 loaded array 'freyberg_mf6\\freyberg6.rch_recharge_2.txt' of shape (40, 20)\n",
      "2022-02-21 14:50:37.495987 starting: writing array-style template file 'freyberg6_template\\rch_recharge_2_cn_inst0_constant.csv.tpl'\n",
      "2022-02-21 14:50:37.495987 starting: writing template file freyberg6_template\\rch_recharge_2_cn_inst0_constant.csv.tpl for ['rch_recharge_2_cn_inst:0']\n",
      "2022-02-21 14:50:37.502024 finished: writing template file freyberg6_template\\rch_recharge_2_cn_inst0_constant.csv.tpl for ['rch_recharge_2_cn_inst:0'] took: 0:00:00.006037\n",
      "2022-02-21 14:50:37.503018 starting: writing array-based template file 'freyberg6_template\\rch_recharge_2_cn_inst0_constant.csv.tpl'\n",
      "2022-02-21 14:50:37.503018 saving zone array freyberg6_template\\rch_recharge_2_cn_inst0_constant.csv.zone for tpl file freyberg6_template\\rch_recharge_2_cn_inst0_constant.csv.tpl\n",
      "2022-02-21 14:50:37.508952 finished: adding constant type m style parameters for file(s) ['freyberg6.rch_recharge_2.txt'] took: 0:00:00.016900\n",
      "2022-02-21 14:50:37.508952 starting: adding constant type m style parameters for file(s) ['freyberg6.rch_recharge_2.txt']\n",
      "2022-02-21 14:50:37.508952 starting: loading array freyberg6_template\\freyberg6.rch_recharge_2.txt\n",
      "2022-02-21 14:50:37.509990 finished: loading array freyberg6_template\\freyberg6.rch_recharge_2.txt took: 0:00:00.001038\n",
      "2022-02-21 14:50:37.509990 loaded array 'freyberg_mf6\\freyberg6.rch_recharge_2.txt' of shape (40, 20)\n",
      "2022-02-21 14:50:37.511997 starting: writing array-style template file 'freyberg6_template\\rch_recharge_2_tcn_inst0_constant.csv.tpl'\n",
      "2022-02-21 14:50:37.511997 starting: writing template file freyberg6_template\\rch_recharge_2_tcn_inst0_constant.csv.tpl for ['rch_recharge_2_tcn_inst:0']\n",
      "2022-02-21 14:50:37.518926 finished: writing template file freyberg6_template\\rch_recharge_2_tcn_inst0_constant.csv.tpl for ['rch_recharge_2_tcn_inst:0'] took: 0:00:00.006929\n",
      "2022-02-21 14:50:37.518926 starting: writing array-based template file 'freyberg6_template\\rch_recharge_2_tcn_inst0_constant.csv.tpl'\n",
      "2022-02-21 14:50:37.519923 saving zone array freyberg6_template\\rch_recharge_2_tcn_inst0_constant.csv.zone for tpl file freyberg6_template\\rch_recharge_2_tcn_inst0_constant.csv.tpl\n",
      "2022-02-21 14:50:37.526937 finished: adding constant type m style parameters for file(s) ['freyberg6.rch_recharge_2.txt'] took: 0:00:00.017985\n",
      "2022-02-21 14:50:37.526937 starting: adding grid type m style parameters for file(s) ['freyberg6.rch_recharge_20.txt']\n",
      "2022-02-21 14:50:37.526937 starting: loading array freyberg6_template\\freyberg6.rch_recharge_20.txt\n",
      "2022-02-21 14:50:37.532940 finished: loading array freyberg6_template\\freyberg6.rch_recharge_20.txt took: 0:00:00.006003\n",
      "2022-02-21 14:50:37.532940 loaded array 'freyberg_mf6\\freyberg6.rch_recharge_20.txt' of shape (40, 20)\n",
      "2022-02-21 14:50:37.534941 starting: writing array-style template file 'freyberg6_template\\rch_recharge_20_gr_inst0_grid.csv.tpl'\n",
      "2022-02-21 14:50:37.534941 starting: writing template file freyberg6_template\\rch_recharge_20_gr_inst0_grid.csv.tpl for ['rch_recharge_20_gr_inst:0']\n",
      "2022-02-21 14:50:37.546906 finished: writing template file freyberg6_template\\rch_recharge_20_gr_inst0_grid.csv.tpl for ['rch_recharge_20_gr_inst:0'] took: 0:00:00.011965\n",
      "2022-02-21 14:50:37.546906 starting: writing array-based template file 'freyberg6_template\\rch_recharge_20_gr_inst0_grid.csv.tpl'\n",
      "2022-02-21 14:50:37.546906 saving zone array freyberg6_template\\rch_recharge_20_gr_inst0_grid.csv.zone for tpl file freyberg6_template\\rch_recharge_20_gr_inst0_grid.csv.tpl\n"
     ]
    },
    {
     "name": "stdout",
     "output_type": "stream",
     "text": [
      "2022-02-21 14:50:37.553865 finished: adding grid type m style parameters for file(s) ['freyberg6.rch_recharge_20.txt'] took: 0:00:00.026928\n",
      "2022-02-21 14:50:37.553865 starting: adding pilotpoints type m style parameters for file(s) ['freyberg6.rch_recharge_20.txt']\n",
      "2022-02-21 14:50:37.554830 starting: loading array freyberg6_template\\freyberg6.rch_recharge_20.txt\n",
      "2022-02-21 14:50:37.555867 finished: loading array freyberg6_template\\freyberg6.rch_recharge_20.txt took: 0:00:00.001037\n",
      "2022-02-21 14:50:37.555867 loaded array 'freyberg_mf6\\freyberg6.rch_recharge_20.txt' of shape (40, 20)\n",
      "2022-02-21 14:50:37.557822 starting: writing array-style template file 'freyberg6_template\\rch_recharge_20_pp_inst0_pilotpoints.csv.tpl'\n",
      "2022-02-21 14:50:37.557822 starting: setting up pilot point parameters\n",
      "2022-02-21 14:50:37.557822 No spatial reference (containing cell spacing) passed.\n",
      "2022-02-21 14:50:37.557822 OK - using spatial reference in parent object.\n"
     ]
    },
    {
     "name": "stdout",
     "output_type": "stream",
     "text": [
      "2022-02-21 14:50:37.631680 32 pilot point parameters created\n",
      "2022-02-21 14:50:37.631680 pilot point 'pargp':rch_recharge_20_pp\n",
      "2022-02-21 14:50:37.631680 finished: setting up pilot point parameters took: 0:00:00.073858\n",
      "2022-02-21 14:50:37.638664 starting: writing array-based template file 'freyberg6_template\\rch_recharge_20_pp_inst0pp.dat.tpl'\n",
      "2022-02-21 14:50:37.638664 saving zone array freyberg6_template\\rch_recharge_20_pp_inst0pp.dat.zone for tpl file freyberg6_template\\rch_recharge_20_pp_inst0pp.dat.tpl\n",
      "2022-02-21 14:50:37.643647 finished: adding pilotpoints type m style parameters for file(s) ['freyberg6.rch_recharge_20.txt'] took: 0:00:00.089782\n",
      "2022-02-21 14:50:37.643647 starting: adding constant type m style parameters for file(s) ['freyberg6.rch_recharge_20.txt']\n",
      "2022-02-21 14:50:37.644645 starting: loading array freyberg6_template\\freyberg6.rch_recharge_20.txt\n",
      "2022-02-21 14:50:37.645639 finished: loading array freyberg6_template\\freyberg6.rch_recharge_20.txt took: 0:00:00.000994\n",
      "2022-02-21 14:50:37.645639 loaded array 'freyberg_mf6\\freyberg6.rch_recharge_20.txt' of shape (40, 20)\n",
      "2022-02-21 14:50:37.647634 starting: writing array-style template file 'freyberg6_template\\rch_recharge_20_cn_inst0_constant.csv.tpl'\n",
      "2022-02-21 14:50:37.647634 starting: writing template file freyberg6_template\\rch_recharge_20_cn_inst0_constant.csv.tpl for ['rch_recharge_20_cn_inst:0']\n",
      "2022-02-21 14:50:37.654616 finished: writing template file freyberg6_template\\rch_recharge_20_cn_inst0_constant.csv.tpl for ['rch_recharge_20_cn_inst:0'] took: 0:00:00.006982\n",
      "2022-02-21 14:50:37.654616 starting: writing array-based template file 'freyberg6_template\\rch_recharge_20_cn_inst0_constant.csv.tpl'\n",
      "2022-02-21 14:50:37.654616 saving zone array freyberg6_template\\rch_recharge_20_cn_inst0_constant.csv.zone for tpl file freyberg6_template\\rch_recharge_20_cn_inst0_constant.csv.tpl\n",
      "2022-02-21 14:50:37.660581 finished: adding constant type m style parameters for file(s) ['freyberg6.rch_recharge_20.txt'] took: 0:00:00.016934\n",
      "2022-02-21 14:50:37.660581 starting: adding constant type m style parameters for file(s) ['freyberg6.rch_recharge_20.txt']\n",
      "2022-02-21 14:50:37.660581 starting: loading array freyberg6_template\\freyberg6.rch_recharge_20.txt\n",
      "2022-02-21 14:50:37.662542 finished: loading array freyberg6_template\\freyberg6.rch_recharge_20.txt took: 0:00:00.001961\n",
      "2022-02-21 14:50:37.662542 loaded array 'freyberg_mf6\\freyberg6.rch_recharge_20.txt' of shape (40, 20)\n",
      "2022-02-21 14:50:37.664569 starting: writing array-style template file 'freyberg6_template\\rch_recharge_20_tcn_inst0_constant.csv.tpl'\n",
      "2022-02-21 14:50:37.664569 starting: writing template file freyberg6_template\\rch_recharge_20_tcn_inst0_constant.csv.tpl for ['rch_recharge_20_tcn_inst:0']\n",
      "2022-02-21 14:50:37.671554 finished: writing template file freyberg6_template\\rch_recharge_20_tcn_inst0_constant.csv.tpl for ['rch_recharge_20_tcn_inst:0'] took: 0:00:00.006985\n",
      "2022-02-21 14:50:37.671554 starting: writing array-based template file 'freyberg6_template\\rch_recharge_20_tcn_inst0_constant.csv.tpl'\n",
      "2022-02-21 14:50:37.671554 saving zone array freyberg6_template\\rch_recharge_20_tcn_inst0_constant.csv.zone for tpl file freyberg6_template\\rch_recharge_20_tcn_inst0_constant.csv.tpl\n",
      "2022-02-21 14:50:37.679258 finished: adding constant type m style parameters for file(s) ['freyberg6.rch_recharge_20.txt'] took: 0:00:00.018677\n",
      "2022-02-21 14:50:37.679258 starting: adding grid type m style parameters for file(s) ['freyberg6.rch_recharge_21.txt']\n",
      "2022-02-21 14:50:37.679258 starting: loading array freyberg6_template\\freyberg6.rch_recharge_21.txt\n",
      "2022-02-21 14:50:37.685294 finished: loading array freyberg6_template\\freyberg6.rch_recharge_21.txt took: 0:00:00.006036\n",
      "2022-02-21 14:50:37.685294 loaded array 'freyberg_mf6\\freyberg6.rch_recharge_21.txt' of shape (40, 20)\n",
      "2022-02-21 14:50:37.687290 starting: writing array-style template file 'freyberg6_template\\rch_recharge_21_gr_inst0_grid.csv.tpl'\n",
      "2022-02-21 14:50:37.687290 starting: writing template file freyberg6_template\\rch_recharge_21_gr_inst0_grid.csv.tpl for ['rch_recharge_21_gr_inst:0']\n",
      "2022-02-21 14:50:37.700254 finished: writing template file freyberg6_template\\rch_recharge_21_gr_inst0_grid.csv.tpl for ['rch_recharge_21_gr_inst:0'] took: 0:00:00.012964\n",
      "2022-02-21 14:50:37.700254 starting: writing array-based template file 'freyberg6_template\\rch_recharge_21_gr_inst0_grid.csv.tpl'\n",
      "2022-02-21 14:50:37.700254 saving zone array freyberg6_template\\rch_recharge_21_gr_inst0_grid.csv.zone for tpl file freyberg6_template\\rch_recharge_21_gr_inst0_grid.csv.tpl\n",
      "2022-02-21 14:50:37.707182 finished: adding grid type m style parameters for file(s) ['freyberg6.rch_recharge_21.txt'] took: 0:00:00.027924\n",
      "2022-02-21 14:50:37.707182 starting: adding pilotpoints type m style parameters for file(s) ['freyberg6.rch_recharge_21.txt']\n",
      "2022-02-21 14:50:37.708213 starting: loading array freyberg6_template\\freyberg6.rch_recharge_21.txt\n",
      "2022-02-21 14:50:37.709230 finished: loading array freyberg6_template\\freyberg6.rch_recharge_21.txt took: 0:00:00.001017\n",
      "2022-02-21 14:50:37.709230 loaded array 'freyberg_mf6\\freyberg6.rch_recharge_21.txt' of shape (40, 20)\n",
      "2022-02-21 14:50:37.711226 starting: writing array-style template file 'freyberg6_template\\rch_recharge_21_pp_inst0_pilotpoints.csv.tpl'\n",
      "2022-02-21 14:50:37.711226 starting: setting up pilot point parameters\n",
      "2022-02-21 14:50:37.711226 No spatial reference (containing cell spacing) passed.\n",
      "2022-02-21 14:50:37.711226 OK - using spatial reference in parent object.\n"
     ]
    },
    {
     "name": "stdout",
     "output_type": "stream",
     "text": [
      "2022-02-21 14:50:37.782980 32 pilot point parameters created\n",
      "2022-02-21 14:50:37.782980 pilot point 'pargp':rch_recharge_21_pp\n",
      "2022-02-21 14:50:37.782980 finished: setting up pilot point parameters took: 0:00:00.071754\n",
      "2022-02-21 14:50:37.790013 starting: writing array-based template file 'freyberg6_template\\rch_recharge_21_pp_inst0pp.dat.tpl'\n",
      "2022-02-21 14:50:37.791012 saving zone array freyberg6_template\\rch_recharge_21_pp_inst0pp.dat.zone for tpl file freyberg6_template\\rch_recharge_21_pp_inst0pp.dat.tpl\n",
      "2022-02-21 14:50:37.795946 finished: adding pilotpoints type m style parameters for file(s) ['freyberg6.rch_recharge_21.txt'] took: 0:00:00.088764\n",
      "2022-02-21 14:50:37.795946 starting: adding constant type m style parameters for file(s) ['freyberg6.rch_recharge_21.txt']\n",
      "2022-02-21 14:50:37.795946 starting: loading array freyberg6_template\\freyberg6.rch_recharge_21.txt\n",
      "2022-02-21 14:50:37.796995 finished: loading array freyberg6_template\\freyberg6.rch_recharge_21.txt took: 0:00:00.001049\n",
      "2022-02-21 14:50:37.796995 loaded array 'freyberg_mf6\\freyberg6.rch_recharge_21.txt' of shape (40, 20)\n",
      "2022-02-21 14:50:37.798991 starting: writing array-style template file 'freyberg6_template\\rch_recharge_21_cn_inst0_constant.csv.tpl'\n",
      "2022-02-21 14:50:37.798991 starting: writing template file freyberg6_template\\rch_recharge_21_cn_inst0_constant.csv.tpl for ['rch_recharge_21_cn_inst:0']\n",
      "2022-02-21 14:50:37.805919 finished: writing template file freyberg6_template\\rch_recharge_21_cn_inst0_constant.csv.tpl for ['rch_recharge_21_cn_inst:0'] took: 0:00:00.006928\n",
      "2022-02-21 14:50:37.805919 starting: writing array-based template file 'freyberg6_template\\rch_recharge_21_cn_inst0_constant.csv.tpl'\n"
     ]
    },
    {
     "name": "stdout",
     "output_type": "stream",
     "text": [
      "2022-02-21 14:50:37.806915 saving zone array freyberg6_template\\rch_recharge_21_cn_inst0_constant.csv.zone for tpl file freyberg6_template\\rch_recharge_21_cn_inst0_constant.csv.tpl\n",
      "2022-02-21 14:50:37.812899 finished: adding constant type m style parameters for file(s) ['freyberg6.rch_recharge_21.txt'] took: 0:00:00.016953\n",
      "2022-02-21 14:50:37.812899 starting: adding constant type m style parameters for file(s) ['freyberg6.rch_recharge_21.txt']\n",
      "2022-02-21 14:50:37.812899 starting: loading array freyberg6_template\\freyberg6.rch_recharge_21.txt\n",
      "2022-02-21 14:50:37.814894 finished: loading array freyberg6_template\\freyberg6.rch_recharge_21.txt took: 0:00:00.001995\n",
      "2022-02-21 14:50:37.814894 loaded array 'freyberg_mf6\\freyberg6.rch_recharge_21.txt' of shape (40, 20)\n",
      "2022-02-21 14:50:37.815892 starting: writing array-style template file 'freyberg6_template\\rch_recharge_21_tcn_inst0_constant.csv.tpl'\n",
      "2022-02-21 14:50:37.815892 starting: writing template file freyberg6_template\\rch_recharge_21_tcn_inst0_constant.csv.tpl for ['rch_recharge_21_tcn_inst:0']\n",
      "2022-02-21 14:50:37.822927 finished: writing template file freyberg6_template\\rch_recharge_21_tcn_inst0_constant.csv.tpl for ['rch_recharge_21_tcn_inst:0'] took: 0:00:00.007035\n",
      "2022-02-21 14:50:37.822927 starting: writing array-based template file 'freyberg6_template\\rch_recharge_21_tcn_inst0_constant.csv.tpl'\n",
      "2022-02-21 14:50:37.823872 saving zone array freyberg6_template\\rch_recharge_21_tcn_inst0_constant.csv.zone for tpl file freyberg6_template\\rch_recharge_21_tcn_inst0_constant.csv.tpl\n",
      "2022-02-21 14:50:37.831902 finished: adding constant type m style parameters for file(s) ['freyberg6.rch_recharge_21.txt'] took: 0:00:00.019003\n",
      "2022-02-21 14:50:37.831902 starting: adding grid type m style parameters for file(s) ['freyberg6.rch_recharge_22.txt']\n",
      "2022-02-21 14:50:37.831902 starting: loading array freyberg6_template\\freyberg6.rch_recharge_22.txt\n",
      "2022-02-21 14:50:37.837885 finished: loading array freyberg6_template\\freyberg6.rch_recharge_22.txt took: 0:00:00.005983\n",
      "2022-02-21 14:50:37.837885 loaded array 'freyberg_mf6\\freyberg6.rch_recharge_22.txt' of shape (40, 20)\n",
      "2022-02-21 14:50:37.839828 starting: writing array-style template file 'freyberg6_template\\rch_recharge_22_gr_inst0_grid.csv.tpl'\n",
      "2022-02-21 14:50:37.839828 starting: writing template file freyberg6_template\\rch_recharge_22_gr_inst0_grid.csv.tpl for ['rch_recharge_22_gr_inst:0']\n",
      "2022-02-21 14:50:37.851796 finished: writing template file freyberg6_template\\rch_recharge_22_gr_inst0_grid.csv.tpl for ['rch_recharge_22_gr_inst:0'] took: 0:00:00.011968\n",
      "2022-02-21 14:50:37.851796 starting: writing array-based template file 'freyberg6_template\\rch_recharge_22_gr_inst0_grid.csv.tpl'\n",
      "2022-02-21 14:50:37.851796 saving zone array freyberg6_template\\rch_recharge_22_gr_inst0_grid.csv.zone for tpl file freyberg6_template\\rch_recharge_22_gr_inst0_grid.csv.tpl\n",
      "2022-02-21 14:50:37.858829 finished: adding grid type m style parameters for file(s) ['freyberg6.rch_recharge_22.txt'] took: 0:00:00.026927\n",
      "2022-02-21 14:50:37.858829 starting: adding pilotpoints type m style parameters for file(s) ['freyberg6.rch_recharge_22.txt']\n",
      "2022-02-21 14:50:37.858829 starting: loading array freyberg6_template\\freyberg6.rch_recharge_22.txt\n",
      "2022-02-21 14:50:37.860773 finished: loading array freyberg6_template\\freyberg6.rch_recharge_22.txt took: 0:00:00.001944\n",
      "2022-02-21 14:50:37.860773 loaded array 'freyberg_mf6\\freyberg6.rch_recharge_22.txt' of shape (40, 20)\n",
      "2022-02-21 14:50:37.861821 starting: writing array-style template file 'freyberg6_template\\rch_recharge_22_pp_inst0_pilotpoints.csv.tpl'\n",
      "2022-02-21 14:50:37.862768 starting: setting up pilot point parameters\n",
      "2022-02-21 14:50:37.862768 No spatial reference (containing cell spacing) passed.\n",
      "2022-02-21 14:50:37.862768 OK - using spatial reference in parent object.\n",
      "2022-02-21 14:50:37.932582 32 pilot point parameters created\n",
      "2022-02-21 14:50:37.932582 pilot point 'pargp':rch_recharge_22_pp\n",
      "2022-02-21 14:50:37.933544 finished: setting up pilot point parameters took: 0:00:00.070776\n",
      "2022-02-21 14:50:37.939529 starting: writing array-based template file 'freyberg6_template\\rch_recharge_22_pp_inst0pp.dat.tpl'\n",
      "2022-02-21 14:50:37.939529 saving zone array freyberg6_template\\rch_recharge_22_pp_inst0pp.dat.zone for tpl file freyberg6_template\\rch_recharge_22_pp_inst0pp.dat.tpl\n",
      "2022-02-21 14:50:37.944515 finished: adding pilotpoints type m style parameters for file(s) ['freyberg6.rch_recharge_22.txt'] took: 0:00:00.085686\n",
      "2022-02-21 14:50:37.944515 starting: adding constant type m style parameters for file(s) ['freyberg6.rch_recharge_22.txt']\n",
      "2022-02-21 14:50:37.944515 starting: loading array freyberg6_template\\freyberg6.rch_recharge_22.txt\n",
      "2022-02-21 14:50:37.946544 finished: loading array freyberg6_template\\freyberg6.rch_recharge_22.txt took: 0:00:00.002029\n",
      "2022-02-21 14:50:37.946544 loaded array 'freyberg_mf6\\freyberg6.rch_recharge_22.txt' of shape (40, 20)\n",
      "2022-02-21 14:50:37.948539 starting: writing array-style template file 'freyberg6_template\\rch_recharge_22_cn_inst0_constant.csv.tpl'\n",
      "2022-02-21 14:50:37.948539 starting: writing template file freyberg6_template\\rch_recharge_22_cn_inst0_constant.csv.tpl for ['rch_recharge_22_cn_inst:0']\n",
      "2022-02-21 14:50:37.955486 finished: writing template file freyberg6_template\\rch_recharge_22_cn_inst0_constant.csv.tpl for ['rch_recharge_22_cn_inst:0'] took: 0:00:00.006947\n",
      "2022-02-21 14:50:37.955486 starting: writing array-based template file 'freyberg6_template\\rch_recharge_22_cn_inst0_constant.csv.tpl'\n",
      "2022-02-21 14:50:37.955486 saving zone array freyberg6_template\\rch_recharge_22_cn_inst0_constant.csv.zone for tpl file freyberg6_template\\rch_recharge_22_cn_inst0_constant.csv.tpl\n",
      "2022-02-21 14:50:37.961503 finished: adding constant type m style parameters for file(s) ['freyberg6.rch_recharge_22.txt'] took: 0:00:00.016988\n"
     ]
    },
    {
     "name": "stdout",
     "output_type": "stream",
     "text": [
      "2022-02-21 14:50:37.962467 starting: adding constant type m style parameters for file(s) ['freyberg6.rch_recharge_22.txt']\n",
      "2022-02-21 14:50:37.962467 starting: loading array freyberg6_template\\freyberg6.rch_recharge_22.txt\n",
      "2022-02-21 14:50:37.963464 finished: loading array freyberg6_template\\freyberg6.rch_recharge_22.txt took: 0:00:00.000997\n",
      "2022-02-21 14:50:37.964497 loaded array 'freyberg_mf6\\freyberg6.rch_recharge_22.txt' of shape (40, 20)\n",
      "2022-02-21 14:50:37.966507 starting: writing array-style template file 'freyberg6_template\\rch_recharge_22_tcn_inst0_constant.csv.tpl'\n",
      "2022-02-21 14:50:37.966507 starting: writing template file freyberg6_template\\rch_recharge_22_tcn_inst0_constant.csv.tpl for ['rch_recharge_22_tcn_inst:0']\n",
      "2022-02-21 14:50:37.972475 finished: writing template file freyberg6_template\\rch_recharge_22_tcn_inst0_constant.csv.tpl for ['rch_recharge_22_tcn_inst:0'] took: 0:00:00.005968\n",
      "2022-02-21 14:50:37.972475 starting: writing array-based template file 'freyberg6_template\\rch_recharge_22_tcn_inst0_constant.csv.tpl'\n",
      "2022-02-21 14:50:37.973442 saving zone array freyberg6_template\\rch_recharge_22_tcn_inst0_constant.csv.zone for tpl file freyberg6_template\\rch_recharge_22_tcn_inst0_constant.csv.tpl\n",
      "2022-02-21 14:50:37.981489 finished: adding constant type m style parameters for file(s) ['freyberg6.rch_recharge_22.txt'] took: 0:00:00.019022\n",
      "2022-02-21 14:50:37.981489 starting: adding grid type m style parameters for file(s) ['freyberg6.rch_recharge_23.txt']\n",
      "2022-02-21 14:50:37.981489 starting: loading array freyberg6_template\\freyberg6.rch_recharge_23.txt\n",
      "2022-02-21 14:50:37.986492 finished: loading array freyberg6_template\\freyberg6.rch_recharge_23.txt took: 0:00:00.005003\n",
      "2022-02-21 14:50:37.986492 loaded array 'freyberg_mf6\\freyberg6.rch_recharge_23.txt' of shape (40, 20)\n",
      "2022-02-21 14:50:37.988487 starting: writing array-style template file 'freyberg6_template\\rch_recharge_23_gr_inst0_grid.csv.tpl'\n",
      "2022-02-21 14:50:37.988487 starting: writing template file freyberg6_template\\rch_recharge_23_gr_inst0_grid.csv.tpl for ['rch_recharge_23_gr_inst:0']\n",
      "2022-02-21 14:50:38.000455 finished: writing template file freyberg6_template\\rch_recharge_23_gr_inst0_grid.csv.tpl for ['rch_recharge_23_gr_inst:0'] took: 0:00:00.011968\n",
      "2022-02-21 14:50:38.000455 starting: writing array-based template file 'freyberg6_template\\rch_recharge_23_gr_inst0_grid.csv.tpl'\n"
     ]
    },
    {
     "name": "stdout",
     "output_type": "stream",
     "text": [
      "2022-02-21 14:50:38.000455 saving zone array freyberg6_template\\rch_recharge_23_gr_inst0_grid.csv.zone for tpl file freyberg6_template\\rch_recharge_23_gr_inst0_grid.csv.tpl\n",
      "2022-02-21 14:50:38.008414 finished: adding grid type m style parameters for file(s) ['freyberg6.rch_recharge_23.txt'] took: 0:00:00.026925\n",
      "2022-02-21 14:50:38.008414 starting: adding pilotpoints type m style parameters for file(s) ['freyberg6.rch_recharge_23.txt']\n",
      "2022-02-21 14:50:38.009379 starting: loading array freyberg6_template\\freyberg6.rch_recharge_23.txt\n",
      "2022-02-21 14:50:38.010410 finished: loading array freyberg6_template\\freyberg6.rch_recharge_23.txt took: 0:00:00.001031\n",
      "2022-02-21 14:50:38.010410 loaded array 'freyberg_mf6\\freyberg6.rch_recharge_23.txt' of shape (40, 20)\n",
      "2022-02-21 14:50:38.012372 starting: writing array-style template file 'freyberg6_template\\rch_recharge_23_pp_inst0_pilotpoints.csv.tpl'\n",
      "2022-02-21 14:50:38.012372 starting: setting up pilot point parameters\n",
      "2022-02-21 14:50:38.012372 No spatial reference (containing cell spacing) passed.\n",
      "2022-02-21 14:50:38.012372 OK - using spatial reference in parent object.\n",
      "2022-02-21 14:50:38.084347 32 pilot point parameters created\n",
      "2022-02-21 14:50:38.084347 pilot point 'pargp':rch_recharge_23_pp\n",
      "2022-02-21 14:50:38.085311 finished: setting up pilot point parameters took: 0:00:00.072939\n",
      "2022-02-21 14:50:38.091294 starting: writing array-based template file 'freyberg6_template\\rch_recharge_23_pp_inst0pp.dat.tpl'\n",
      "2022-02-21 14:50:38.092291 saving zone array freyberg6_template\\rch_recharge_23_pp_inst0pp.dat.zone for tpl file freyberg6_template\\rch_recharge_23_pp_inst0pp.dat.tpl\n",
      "2022-02-21 14:50:38.097278 finished: adding pilotpoints type m style parameters for file(s) ['freyberg6.rch_recharge_23.txt'] took: 0:00:00.088864\n",
      "2022-02-21 14:50:38.097278 starting: adding constant type m style parameters for file(s) ['freyberg6.rch_recharge_23.txt']\n",
      "2022-02-21 14:50:38.097278 starting: loading array freyberg6_template\\freyberg6.rch_recharge_23.txt\n",
      "2022-02-21 14:50:38.099305 finished: loading array freyberg6_template\\freyberg6.rch_recharge_23.txt took: 0:00:00.002027\n",
      "2022-02-21 14:50:38.099305 loaded array 'freyberg_mf6\\freyberg6.rch_recharge_23.txt' of shape (40, 20)\n",
      "2022-02-21 14:50:38.100305 starting: writing array-style template file 'freyberg6_template\\rch_recharge_23_cn_inst0_constant.csv.tpl'\n",
      "2022-02-21 14:50:38.101275 starting: writing template file freyberg6_template\\rch_recharge_23_cn_inst0_constant.csv.tpl for ['rch_recharge_23_cn_inst:0']\n",
      "2022-02-21 14:50:38.107305 finished: writing template file freyberg6_template\\rch_recharge_23_cn_inst0_constant.csv.tpl for ['rch_recharge_23_cn_inst:0'] took: 0:00:00.006030\n",
      "2022-02-21 14:50:38.108292 starting: writing array-based template file 'freyberg6_template\\rch_recharge_23_cn_inst0_constant.csv.tpl'\n",
      "2022-02-21 14:50:38.108292 saving zone array freyberg6_template\\rch_recharge_23_cn_inst0_constant.csv.zone for tpl file freyberg6_template\\rch_recharge_23_cn_inst0_constant.csv.tpl\n",
      "2022-02-21 14:50:38.114267 finished: adding constant type m style parameters for file(s) ['freyberg6.rch_recharge_23.txt'] took: 0:00:00.016989\n",
      "2022-02-21 14:50:38.114267 starting: adding constant type m style parameters for file(s) ['freyberg6.rch_recharge_23.txt']\n",
      "2022-02-21 14:50:38.114267 starting: loading array freyberg6_template\\freyberg6.rch_recharge_23.txt\n",
      "2022-02-21 14:50:38.116280 finished: loading array freyberg6_template\\freyberg6.rch_recharge_23.txt took: 0:00:00.002013\n",
      "2022-02-21 14:50:38.116280 loaded array 'freyberg_mf6\\freyberg6.rch_recharge_23.txt' of shape (40, 20)\n",
      "2022-02-21 14:50:38.118274 starting: writing array-style template file 'freyberg6_template\\rch_recharge_23_tcn_inst0_constant.csv.tpl'\n",
      "2022-02-21 14:50:38.118274 starting: writing template file freyberg6_template\\rch_recharge_23_tcn_inst0_constant.csv.tpl for ['rch_recharge_23_tcn_inst:0']\n",
      "2022-02-21 14:50:38.124259 finished: writing template file freyberg6_template\\rch_recharge_23_tcn_inst0_constant.csv.tpl for ['rch_recharge_23_tcn_inst:0'] took: 0:00:00.005985\n",
      "2022-02-21 14:50:38.125237 starting: writing array-based template file 'freyberg6_template\\rch_recharge_23_tcn_inst0_constant.csv.tpl'\n",
      "2022-02-21 14:50:38.126201 saving zone array freyberg6_template\\rch_recharge_23_tcn_inst0_constant.csv.zone for tpl file freyberg6_template\\rch_recharge_23_tcn_inst0_constant.csv.tpl\n",
      "2022-02-21 14:50:38.133217 finished: adding constant type m style parameters for file(s) ['freyberg6.rch_recharge_23.txt'] took: 0:00:00.018950\n",
      "2022-02-21 14:50:38.133217 starting: adding grid type m style parameters for file(s) ['freyberg6.rch_recharge_24.txt']\n",
      "2022-02-21 14:50:38.133217 starting: loading array freyberg6_template\\freyberg6.rch_recharge_24.txt\n",
      "2022-02-21 14:50:38.139219 finished: loading array freyberg6_template\\freyberg6.rch_recharge_24.txt took: 0:00:00.006002\n",
      "2022-02-21 14:50:38.139219 loaded array 'freyberg_mf6\\freyberg6.rch_recharge_24.txt' of shape (40, 20)\n",
      "2022-02-21 14:50:38.141214 starting: writing array-style template file 'freyberg6_template\\rch_recharge_24_gr_inst0_grid.csv.tpl'\n",
      "2022-02-21 14:50:38.141214 starting: writing template file freyberg6_template\\rch_recharge_24_gr_inst0_grid.csv.tpl for ['rch_recharge_24_gr_inst:0']\n",
      "2022-02-21 14:50:38.153183 finished: writing template file freyberg6_template\\rch_recharge_24_gr_inst0_grid.csv.tpl for ['rch_recharge_24_gr_inst:0'] took: 0:00:00.011969\n",
      "2022-02-21 14:50:38.153183 starting: writing array-based template file 'freyberg6_template\\rch_recharge_24_gr_inst0_grid.csv.tpl'\n"
     ]
    },
    {
     "name": "stdout",
     "output_type": "stream",
     "text": [
      "2022-02-21 14:50:38.153183 saving zone array freyberg6_template\\rch_recharge_24_gr_inst0_grid.csv.zone for tpl file freyberg6_template\\rch_recharge_24_gr_inst0_grid.csv.tpl\n",
      "2022-02-21 14:50:38.161140 finished: adding grid type m style parameters for file(s) ['freyberg6.rch_recharge_24.txt'] took: 0:00:00.027923\n",
      "2022-02-21 14:50:38.161140 starting: adding pilotpoints type m style parameters for file(s) ['freyberg6.rch_recharge_24.txt']\n",
      "2022-02-21 14:50:38.161140 starting: loading array freyberg6_template\\freyberg6.rch_recharge_24.txt\n",
      "2022-02-21 14:50:38.162159 finished: loading array freyberg6_template\\freyberg6.rch_recharge_24.txt took: 0:00:00.001019\n",
      "2022-02-21 14:50:38.162159 loaded array 'freyberg_mf6\\freyberg6.rch_recharge_24.txt' of shape (40, 20)\n",
      "2022-02-21 14:50:38.164154 starting: writing array-style template file 'freyberg6_template\\rch_recharge_24_pp_inst0_pilotpoints.csv.tpl'\n",
      "2022-02-21 14:50:38.164154 starting: setting up pilot point parameters\n",
      "2022-02-21 14:50:38.164154 No spatial reference (containing cell spacing) passed.\n",
      "2022-02-21 14:50:38.164154 OK - using spatial reference in parent object.\n"
     ]
    },
    {
     "name": "stdout",
     "output_type": "stream",
     "text": [
      "2022-02-21 14:50:38.237770 32 pilot point parameters created\n",
      "2022-02-21 14:50:38.237770 pilot point 'pargp':rch_recharge_24_pp\n",
      "2022-02-21 14:50:38.237770 finished: setting up pilot point parameters took: 0:00:00.073616\n",
      "2022-02-21 14:50:38.244699 starting: writing array-based template file 'freyberg6_template\\rch_recharge_24_pp_inst0pp.dat.tpl'\n",
      "2022-02-21 14:50:38.244699 saving zone array freyberg6_template\\rch_recharge_24_pp_inst0pp.dat.zone for tpl file freyberg6_template\\rch_recharge_24_pp_inst0pp.dat.tpl\n",
      "2022-02-21 14:50:38.249686 finished: adding pilotpoints type m style parameters for file(s) ['freyberg6.rch_recharge_24.txt'] took: 0:00:00.088546\n",
      "2022-02-21 14:50:38.250683 starting: adding constant type m style parameters for file(s) ['freyberg6.rch_recharge_24.txt']\n",
      "2022-02-21 14:50:38.250683 starting: loading array freyberg6_template\\freyberg6.rch_recharge_24.txt\n",
      "2022-02-21 14:50:38.251713 finished: loading array freyberg6_template\\freyberg6.rch_recharge_24.txt took: 0:00:00.001030\n",
      "2022-02-21 14:50:38.251713 loaded array 'freyberg_mf6\\freyberg6.rch_recharge_24.txt' of shape (40, 20)\n",
      "2022-02-21 14:50:38.253708 starting: writing array-style template file 'freyberg6_template\\rch_recharge_24_cn_inst0_constant.csv.tpl'\n",
      "2022-02-21 14:50:38.253708 starting: writing template file freyberg6_template\\rch_recharge_24_cn_inst0_constant.csv.tpl for ['rch_recharge_24_cn_inst:0']\n",
      "2022-02-21 14:50:38.260691 finished: writing template file freyberg6_template\\rch_recharge_24_cn_inst0_constant.csv.tpl for ['rch_recharge_24_cn_inst:0'] took: 0:00:00.006983\n",
      "2022-02-21 14:50:38.260691 starting: writing array-based template file 'freyberg6_template\\rch_recharge_24_cn_inst0_constant.csv.tpl'\n",
      "2022-02-21 14:50:38.260691 saving zone array freyberg6_template\\rch_recharge_24_cn_inst0_constant.csv.zone for tpl file freyberg6_template\\rch_recharge_24_cn_inst0_constant.csv.tpl\n",
      "2022-02-21 14:50:38.266673 finished: adding constant type m style parameters for file(s) ['freyberg6.rch_recharge_24.txt'] took: 0:00:00.015990\n",
      "2022-02-21 14:50:38.266673 starting: adding constant type m style parameters for file(s) ['freyberg6.rch_recharge_24.txt']\n",
      "2022-02-21 14:50:38.266673 starting: loading array freyberg6_template\\freyberg6.rch_recharge_24.txt\n",
      "2022-02-21 14:50:38.268670 finished: loading array freyberg6_template\\freyberg6.rch_recharge_24.txt took: 0:00:00.001997\n",
      "2022-02-21 14:50:38.268670 loaded array 'freyberg_mf6\\freyberg6.rch_recharge_24.txt' of shape (40, 20)\n",
      "2022-02-21 14:50:38.270663 starting: writing array-style template file 'freyberg6_template\\rch_recharge_24_tcn_inst0_constant.csv.tpl'\n",
      "2022-02-21 14:50:38.270663 starting: writing template file freyberg6_template\\rch_recharge_24_tcn_inst0_constant.csv.tpl for ['rch_recharge_24_tcn_inst:0']\n",
      "2022-02-21 14:50:38.277644 finished: writing template file freyberg6_template\\rch_recharge_24_tcn_inst0_constant.csv.tpl for ['rch_recharge_24_tcn_inst:0'] took: 0:00:00.006981\n",
      "2022-02-21 14:50:38.277644 starting: writing array-based template file 'freyberg6_template\\rch_recharge_24_tcn_inst0_constant.csv.tpl'\n",
      "2022-02-21 14:50:38.278636 saving zone array freyberg6_template\\rch_recharge_24_tcn_inst0_constant.csv.zone for tpl file freyberg6_template\\rch_recharge_24_tcn_inst0_constant.csv.tpl\n",
      "2022-02-21 14:50:38.285643 finished: adding constant type m style parameters for file(s) ['freyberg6.rch_recharge_24.txt'] took: 0:00:00.018970\n",
      "2022-02-21 14:50:38.285643 starting: adding grid type m style parameters for file(s) ['freyberg6.rch_recharge_25.txt']\n",
      "2022-02-21 14:50:38.285643 starting: loading array freyberg6_template\\freyberg6.rch_recharge_25.txt\n",
      "2022-02-21 14:50:38.291627 finished: loading array freyberg6_template\\freyberg6.rch_recharge_25.txt took: 0:00:00.005984\n",
      "2022-02-21 14:50:38.291627 loaded array 'freyberg_mf6\\freyberg6.rch_recharge_25.txt' of shape (40, 20)\n",
      "2022-02-21 14:50:38.293622 starting: writing array-style template file 'freyberg6_template\\rch_recharge_25_gr_inst0_grid.csv.tpl'\n",
      "2022-02-21 14:50:38.293622 starting: writing template file freyberg6_template\\rch_recharge_25_gr_inst0_grid.csv.tpl for ['rch_recharge_25_gr_inst:0']\n",
      "2022-02-21 14:50:38.305589 finished: writing template file freyberg6_template\\rch_recharge_25_gr_inst0_grid.csv.tpl for ['rch_recharge_25_gr_inst:0'] took: 0:00:00.011967\n",
      "2022-02-21 14:50:38.305589 starting: writing array-based template file 'freyberg6_template\\rch_recharge_25_gr_inst0_grid.csv.tpl'\n",
      "2022-02-21 14:50:38.305589 saving zone array freyberg6_template\\rch_recharge_25_gr_inst0_grid.csv.zone for tpl file freyberg6_template\\rch_recharge_25_gr_inst0_grid.csv.tpl\n",
      "2022-02-21 14:50:38.312518 finished: adding grid type m style parameters for file(s) ['freyberg6.rch_recharge_25.txt'] took: 0:00:00.026875\n",
      "2022-02-21 14:50:38.312518 starting: adding pilotpoints type m style parameters for file(s) ['freyberg6.rch_recharge_25.txt']\n",
      "2022-02-21 14:50:38.313515 starting: loading array freyberg6_template\\freyberg6.rch_recharge_25.txt\n",
      "2022-02-21 14:50:38.314565 finished: loading array freyberg6_template\\freyberg6.rch_recharge_25.txt took: 0:00:00.001050\n",
      "2022-02-21 14:50:38.314565 loaded array 'freyberg_mf6\\freyberg6.rch_recharge_25.txt' of shape (40, 20)\n",
      "2022-02-21 14:50:38.316542 starting: writing array-style template file 'freyberg6_template\\rch_recharge_25_pp_inst0_pilotpoints.csv.tpl'\n",
      "2022-02-21 14:50:38.316542 starting: setting up pilot point parameters\n",
      "2022-02-21 14:50:38.316542 No spatial reference (containing cell spacing) passed.\n",
      "2022-02-21 14:50:38.316542 OK - using spatial reference in parent object.\n"
     ]
    },
    {
     "name": "stdout",
     "output_type": "stream",
     "text": [
      "2022-02-21 14:50:38.389398 32 pilot point parameters created\n",
      "2022-02-21 14:50:38.389398 pilot point 'pargp':rch_recharge_25_pp\n",
      "2022-02-21 14:50:38.389398 finished: setting up pilot point parameters took: 0:00:00.072856\n",
      "2022-02-21 14:50:38.396379 starting: writing array-based template file 'freyberg6_template\\rch_recharge_25_pp_inst0pp.dat.tpl'\n",
      "2022-02-21 14:50:38.396379 saving zone array freyberg6_template\\rch_recharge_25_pp_inst0pp.dat.zone for tpl file freyberg6_template\\rch_recharge_25_pp_inst0pp.dat.tpl\n",
      "2022-02-21 14:50:38.401366 finished: adding pilotpoints type m style parameters for file(s) ['freyberg6.rch_recharge_25.txt'] took: 0:00:00.088848\n",
      "2022-02-21 14:50:38.402363 starting: adding constant type m style parameters for file(s) ['freyberg6.rch_recharge_25.txt']\n",
      "2022-02-21 14:50:38.402363 starting: loading array freyberg6_template\\freyberg6.rch_recharge_25.txt\n",
      "2022-02-21 14:50:38.403360 finished: loading array freyberg6_template\\freyberg6.rch_recharge_25.txt took: 0:00:00.000997\n",
      "2022-02-21 14:50:38.403360 loaded array 'freyberg_mf6\\freyberg6.rch_recharge_25.txt' of shape (40, 20)\n",
      "2022-02-21 14:50:38.405355 starting: writing array-style template file 'freyberg6_template\\rch_recharge_25_cn_inst0_constant.csv.tpl'\n",
      "2022-02-21 14:50:38.405355 starting: writing template file freyberg6_template\\rch_recharge_25_cn_inst0_constant.csv.tpl for ['rch_recharge_25_cn_inst:0']\n",
      "2022-02-21 14:50:38.412336 finished: writing template file freyberg6_template\\rch_recharge_25_cn_inst0_constant.csv.tpl for ['rch_recharge_25_cn_inst:0'] took: 0:00:00.006981\n",
      "2022-02-21 14:50:38.412336 starting: writing array-based template file 'freyberg6_template\\rch_recharge_25_cn_inst0_constant.csv.tpl'\n",
      "2022-02-21 14:50:38.412336 saving zone array freyberg6_template\\rch_recharge_25_cn_inst0_constant.csv.zone for tpl file freyberg6_template\\rch_recharge_25_cn_inst0_constant.csv.tpl\n",
      "2022-02-21 14:50:38.419318 finished: adding constant type m style parameters for file(s) ['freyberg6.rch_recharge_25.txt'] took: 0:00:00.016955\n",
      "2022-02-21 14:50:38.419318 starting: adding constant type m style parameters for file(s) ['freyberg6.rch_recharge_25.txt']\n",
      "2022-02-21 14:50:38.419318 starting: loading array freyberg6_template\\freyberg6.rch_recharge_25.txt\n"
     ]
    },
    {
     "name": "stdout",
     "output_type": "stream",
     "text": [
      "2022-02-21 14:50:38.421312 finished: loading array freyberg6_template\\freyberg6.rch_recharge_25.txt took: 0:00:00.001994\n",
      "2022-02-21 14:50:38.421312 loaded array 'freyberg_mf6\\freyberg6.rch_recharge_25.txt' of shape (40, 20)\n",
      "2022-02-21 14:50:38.424304 starting: writing array-style template file 'freyberg6_template\\rch_recharge_25_tcn_inst0_constant.csv.tpl'\n",
      "2022-02-21 14:50:38.424304 starting: writing template file freyberg6_template\\rch_recharge_25_tcn_inst0_constant.csv.tpl for ['rch_recharge_25_tcn_inst:0']\n",
      "2022-02-21 14:50:38.431285 finished: writing template file freyberg6_template\\rch_recharge_25_tcn_inst0_constant.csv.tpl for ['rch_recharge_25_tcn_inst:0'] took: 0:00:00.006981\n",
      "2022-02-21 14:50:38.431285 starting: writing array-based template file 'freyberg6_template\\rch_recharge_25_tcn_inst0_constant.csv.tpl'\n",
      "2022-02-21 14:50:38.431285 saving zone array freyberg6_template\\rch_recharge_25_tcn_inst0_constant.csv.zone for tpl file freyberg6_template\\rch_recharge_25_tcn_inst0_constant.csv.tpl\n",
      "2022-02-21 14:50:38.439264 finished: adding constant type m style parameters for file(s) ['freyberg6.rch_recharge_25.txt'] took: 0:00:00.019946\n",
      "2022-02-21 14:50:38.439264 starting: adding grid type m style parameters for file(s) ['freyberg6.rch_recharge_3.txt']\n",
      "2022-02-21 14:50:38.439264 starting: loading array freyberg6_template\\freyberg6.rch_recharge_3.txt\n",
      "2022-02-21 14:50:38.445248 finished: loading array freyberg6_template\\freyberg6.rch_recharge_3.txt took: 0:00:00.005984\n",
      "2022-02-21 14:50:38.445248 loaded array 'freyberg_mf6\\freyberg6.rch_recharge_3.txt' of shape (40, 20)\n",
      "2022-02-21 14:50:38.447243 starting: writing array-style template file 'freyberg6_template\\rch_recharge_3_gr_inst0_grid.csv.tpl'\n",
      "2022-02-21 14:50:38.447243 starting: writing template file freyberg6_template\\rch_recharge_3_gr_inst0_grid.csv.tpl for ['rch_recharge_3_gr_inst:0']\n",
      "2022-02-21 14:50:38.459211 finished: writing template file freyberg6_template\\rch_recharge_3_gr_inst0_grid.csv.tpl for ['rch_recharge_3_gr_inst:0'] took: 0:00:00.011968\n",
      "2022-02-21 14:50:38.459211 starting: writing array-based template file 'freyberg6_template\\rch_recharge_3_gr_inst0_grid.csv.tpl'\n",
      "2022-02-21 14:50:38.459211 saving zone array freyberg6_template\\rch_recharge_3_gr_inst0_grid.csv.zone for tpl file freyberg6_template\\rch_recharge_3_gr_inst0_grid.csv.tpl\n",
      "2022-02-21 14:50:38.466192 finished: adding grid type m style parameters for file(s) ['freyberg6.rch_recharge_3.txt'] took: 0:00:00.026928\n",
      "2022-02-21 14:50:38.466192 starting: adding pilotpoints type m style parameters for file(s) ['freyberg6.rch_recharge_3.txt']\n",
      "2022-02-21 14:50:38.467190 starting: loading array freyberg6_template\\freyberg6.rch_recharge_3.txt\n",
      "2022-02-21 14:50:38.468187 finished: loading array freyberg6_template\\freyberg6.rch_recharge_3.txt took: 0:00:00.000997\n",
      "2022-02-21 14:50:38.468187 loaded array 'freyberg_mf6\\freyberg6.rch_recharge_3.txt' of shape (40, 20)\n",
      "2022-02-21 14:50:38.470181 starting: writing array-style template file 'freyberg6_template\\rch_recharge_3_pp_inst0_pilotpoints.csv.tpl'\n",
      "2022-02-21 14:50:38.470181 starting: setting up pilot point parameters\n",
      "2022-02-21 14:50:38.470181 No spatial reference (containing cell spacing) passed.\n",
      "2022-02-21 14:50:38.470181 OK - using spatial reference in parent object.\n",
      "2022-02-21 14:50:38.541990 32 pilot point parameters created\n",
      "2022-02-21 14:50:38.541990 pilot point 'pargp':rch_recharge_3_pp\n",
      "2022-02-21 14:50:38.541990 finished: setting up pilot point parameters took: 0:00:00.071809\n",
      "2022-02-21 14:50:38.547973 starting: writing array-based template file 'freyberg6_template\\rch_recharge_3_pp_inst0pp.dat.tpl'\n",
      "2022-02-21 14:50:38.548971 saving zone array freyberg6_template\\rch_recharge_3_pp_inst0pp.dat.zone for tpl file freyberg6_template\\rch_recharge_3_pp_inst0pp.dat.tpl\n",
      "2022-02-21 14:50:38.553958 finished: adding pilotpoints type m style parameters for file(s) ['freyberg6.rch_recharge_3.txt'] took: 0:00:00.087766\n",
      "2022-02-21 14:50:38.553958 starting: adding constant type m style parameters for file(s) ['freyberg6.rch_recharge_3.txt']\n",
      "2022-02-21 14:50:38.553958 starting: loading array freyberg6_template\\freyberg6.rch_recharge_3.txt\n",
      "2022-02-21 14:50:38.554955 finished: loading array freyberg6_template\\freyberg6.rch_recharge_3.txt took: 0:00:00.000997\n",
      "2022-02-21 14:50:38.554955 loaded array 'freyberg_mf6\\freyberg6.rch_recharge_3.txt' of shape (40, 20)\n",
      "2022-02-21 14:50:38.556951 starting: writing array-style template file 'freyberg6_template\\rch_recharge_3_cn_inst0_constant.csv.tpl'\n",
      "2022-02-21 14:50:38.556951 starting: writing template file freyberg6_template\\rch_recharge_3_cn_inst0_constant.csv.tpl for ['rch_recharge_3_cn_inst:0']\n",
      "2022-02-21 14:50:38.563930 finished: writing template file freyberg6_template\\rch_recharge_3_cn_inst0_constant.csv.tpl for ['rch_recharge_3_cn_inst:0'] took: 0:00:00.006979\n",
      "2022-02-21 14:50:38.563930 starting: writing array-based template file 'freyberg6_template\\rch_recharge_3_cn_inst0_constant.csv.tpl'\n",
      "2022-02-21 14:50:38.563930 saving zone array freyberg6_template\\rch_recharge_3_cn_inst0_constant.csv.zone for tpl file freyberg6_template\\rch_recharge_3_cn_inst0_constant.csv.tpl\n",
      "2022-02-21 14:50:38.569914 finished: adding constant type m style parameters for file(s) ['freyberg6.rch_recharge_3.txt'] took: 0:00:00.015956\n",
      "2022-02-21 14:50:38.569914 starting: adding constant type m style parameters for file(s) ['freyberg6.rch_recharge_3.txt']\n",
      "2022-02-21 14:50:38.570912 starting: loading array freyberg6_template\\freyberg6.rch_recharge_3.txt\n"
     ]
    },
    {
     "name": "stdout",
     "output_type": "stream",
     "text": [
      "2022-02-21 14:50:38.571909 finished: loading array freyberg6_template\\freyberg6.rch_recharge_3.txt took: 0:00:00.000997\n",
      "2022-02-21 14:50:38.571909 loaded array 'freyberg_mf6\\freyberg6.rch_recharge_3.txt' of shape (40, 20)\n",
      "2022-02-21 14:50:38.573904 starting: writing array-style template file 'freyberg6_template\\rch_recharge_3_tcn_inst0_constant.csv.tpl'\n",
      "2022-02-21 14:50:38.573904 starting: writing template file freyberg6_template\\rch_recharge_3_tcn_inst0_constant.csv.tpl for ['rch_recharge_3_tcn_inst:0']\n",
      "2022-02-21 14:50:38.580885 finished: writing template file freyberg6_template\\rch_recharge_3_tcn_inst0_constant.csv.tpl for ['rch_recharge_3_tcn_inst:0'] took: 0:00:00.006981\n",
      "2022-02-21 14:50:38.580885 starting: writing array-based template file 'freyberg6_template\\rch_recharge_3_tcn_inst0_constant.csv.tpl'\n",
      "2022-02-21 14:50:38.581883 saving zone array freyberg6_template\\rch_recharge_3_tcn_inst0_constant.csv.zone for tpl file freyberg6_template\\rch_recharge_3_tcn_inst0_constant.csv.tpl\n",
      "2022-02-21 14:50:38.588864 finished: adding constant type m style parameters for file(s) ['freyberg6.rch_recharge_3.txt'] took: 0:00:00.018950\n",
      "2022-02-21 14:50:38.589861 starting: adding grid type m style parameters for file(s) ['freyberg6.rch_recharge_4.txt']\n",
      "2022-02-21 14:50:38.589861 starting: loading array freyberg6_template\\freyberg6.rch_recharge_4.txt\n",
      "2022-02-21 14:50:38.594848 finished: loading array freyberg6_template\\freyberg6.rch_recharge_4.txt took: 0:00:00.004987\n",
      "2022-02-21 14:50:38.594848 loaded array 'freyberg_mf6\\freyberg6.rch_recharge_4.txt' of shape (40, 20)\n",
      "2022-02-21 14:50:38.596843 starting: writing array-style template file 'freyberg6_template\\rch_recharge_4_gr_inst0_grid.csv.tpl'\n",
      "2022-02-21 14:50:38.596843 starting: writing template file freyberg6_template\\rch_recharge_4_gr_inst0_grid.csv.tpl for ['rch_recharge_4_gr_inst:0']\n",
      "2022-02-21 14:50:38.608810 finished: writing template file freyberg6_template\\rch_recharge_4_gr_inst0_grid.csv.tpl for ['rch_recharge_4_gr_inst:0'] took: 0:00:00.011967\n",
      "2022-02-21 14:50:38.608810 starting: writing array-based template file 'freyberg6_template\\rch_recharge_4_gr_inst0_grid.csv.tpl'\n"
     ]
    },
    {
     "name": "stdout",
     "output_type": "stream",
     "text": [
      "2022-02-21 14:50:38.608810 saving zone array freyberg6_template\\rch_recharge_4_gr_inst0_grid.csv.zone for tpl file freyberg6_template\\rch_recharge_4_gr_inst0_grid.csv.tpl\n",
      "2022-02-21 14:50:38.615792 finished: adding grid type m style parameters for file(s) ['freyberg6.rch_recharge_4.txt'] took: 0:00:00.025931\n",
      "2022-02-21 14:50:38.616789 starting: adding pilotpoints type m style parameters for file(s) ['freyberg6.rch_recharge_4.txt']\n",
      "2022-02-21 14:50:38.616789 starting: loading array freyberg6_template\\freyberg6.rch_recharge_4.txt\n",
      "2022-02-21 14:50:38.617787 finished: loading array freyberg6_template\\freyberg6.rch_recharge_4.txt took: 0:00:00.000998\n",
      "2022-02-21 14:50:38.617787 loaded array 'freyberg_mf6\\freyberg6.rch_recharge_4.txt' of shape (40, 20)\n",
      "2022-02-21 14:50:38.619781 starting: writing array-style template file 'freyberg6_template\\rch_recharge_4_pp_inst0_pilotpoints.csv.tpl'\n",
      "2022-02-21 14:50:38.619781 starting: setting up pilot point parameters\n",
      "2022-02-21 14:50:38.619781 No spatial reference (containing cell spacing) passed.\n",
      "2022-02-21 14:50:38.619781 OK - using spatial reference in parent object.\n",
      "2022-02-21 14:50:38.690593 32 pilot point parameters created\n",
      "2022-02-21 14:50:38.690593 pilot point 'pargp':rch_recharge_4_pp\n",
      "2022-02-21 14:50:38.690593 finished: setting up pilot point parameters took: 0:00:00.070812\n",
      "2022-02-21 14:50:38.697573 starting: writing array-based template file 'freyberg6_template\\rch_recharge_4_pp_inst0pp.dat.tpl'\n",
      "2022-02-21 14:50:38.697573 saving zone array freyberg6_template\\rch_recharge_4_pp_inst0pp.dat.zone for tpl file freyberg6_template\\rch_recharge_4_pp_inst0pp.dat.tpl\n",
      "2022-02-21 14:50:38.702560 finished: adding pilotpoints type m style parameters for file(s) ['freyberg6.rch_recharge_4.txt'] took: 0:00:00.085771\n",
      "2022-02-21 14:50:38.702560 starting: adding constant type m style parameters for file(s) ['freyberg6.rch_recharge_4.txt']\n",
      "2022-02-21 14:50:38.703557 starting: loading array freyberg6_template\\freyberg6.rch_recharge_4.txt\n",
      "2022-02-21 14:50:38.704555 finished: loading array freyberg6_template\\freyberg6.rch_recharge_4.txt took: 0:00:00.000998\n",
      "2022-02-21 14:50:38.704555 loaded array 'freyberg_mf6\\freyberg6.rch_recharge_4.txt' of shape (40, 20)\n",
      "2022-02-21 14:50:38.706549 starting: writing array-style template file 'freyberg6_template\\rch_recharge_4_cn_inst0_constant.csv.tpl'\n",
      "2022-02-21 14:50:38.706549 starting: writing template file freyberg6_template\\rch_recharge_4_cn_inst0_constant.csv.tpl for ['rch_recharge_4_cn_inst:0']\n",
      "2022-02-21 14:50:38.713530 finished: writing template file freyberg6_template\\rch_recharge_4_cn_inst0_constant.csv.tpl for ['rch_recharge_4_cn_inst:0'] took: 0:00:00.006981\n",
      "2022-02-21 14:50:38.713530 starting: writing array-based template file 'freyberg6_template\\rch_recharge_4_cn_inst0_constant.csv.tpl'\n",
      "2022-02-21 14:50:38.713530 saving zone array freyberg6_template\\rch_recharge_4_cn_inst0_constant.csv.zone for tpl file freyberg6_template\\rch_recharge_4_cn_inst0_constant.csv.tpl\n",
      "2022-02-21 14:50:38.719514 finished: adding constant type m style parameters for file(s) ['freyberg6.rch_recharge_4.txt'] took: 0:00:00.016954\n",
      "2022-02-21 14:50:38.720512 starting: adding constant type m style parameters for file(s) ['freyberg6.rch_recharge_4.txt']\n",
      "2022-02-21 14:50:38.720512 starting: loading array freyberg6_template\\freyberg6.rch_recharge_4.txt\n",
      "2022-02-21 14:50:38.721509 finished: loading array freyberg6_template\\freyberg6.rch_recharge_4.txt took: 0:00:00.000997\n",
      "2022-02-21 14:50:38.721509 loaded array 'freyberg_mf6\\freyberg6.rch_recharge_4.txt' of shape (40, 20)\n",
      "2022-02-21 14:50:38.723503 starting: writing array-style template file 'freyberg6_template\\rch_recharge_4_tcn_inst0_constant.csv.tpl'\n",
      "2022-02-21 14:50:38.723503 starting: writing template file freyberg6_template\\rch_recharge_4_tcn_inst0_constant.csv.tpl for ['rch_recharge_4_tcn_inst:0']\n",
      "2022-02-21 14:50:38.730485 finished: writing template file freyberg6_template\\rch_recharge_4_tcn_inst0_constant.csv.tpl for ['rch_recharge_4_tcn_inst:0'] took: 0:00:00.006982\n",
      "2022-02-21 14:50:38.730485 starting: writing array-based template file 'freyberg6_template\\rch_recharge_4_tcn_inst0_constant.csv.tpl'\n",
      "2022-02-21 14:50:38.731482 saving zone array freyberg6_template\\rch_recharge_4_tcn_inst0_constant.csv.zone for tpl file freyberg6_template\\rch_recharge_4_tcn_inst0_constant.csv.tpl\n",
      "2022-02-21 14:50:38.738464 finished: adding constant type m style parameters for file(s) ['freyberg6.rch_recharge_4.txt'] took: 0:00:00.017952\n",
      "2022-02-21 14:50:38.739461 starting: adding grid type m style parameters for file(s) ['freyberg6.rch_recharge_5.txt']\n",
      "2022-02-21 14:50:38.739461 starting: loading array freyberg6_template\\freyberg6.rch_recharge_5.txt\n",
      "2022-02-21 14:50:38.744448 finished: loading array freyberg6_template\\freyberg6.rch_recharge_5.txt took: 0:00:00.004987\n",
      "2022-02-21 14:50:38.744448 loaded array 'freyberg_mf6\\freyberg6.rch_recharge_5.txt' of shape (40, 20)\n",
      "2022-02-21 14:50:38.746442 starting: writing array-style template file 'freyberg6_template\\rch_recharge_5_gr_inst0_grid.csv.tpl'\n",
      "2022-02-21 14:50:38.747441 starting: writing template file freyberg6_template\\rch_recharge_5_gr_inst0_grid.csv.tpl for ['rch_recharge_5_gr_inst:0']\n",
      "2022-02-21 14:50:38.759407 finished: writing template file freyberg6_template\\rch_recharge_5_gr_inst0_grid.csv.tpl for ['rch_recharge_5_gr_inst:0'] took: 0:00:00.011966\n"
     ]
    },
    {
     "name": "stdout",
     "output_type": "stream",
     "text": [
      "2022-02-21 14:50:38.759407 starting: writing array-based template file 'freyberg6_template\\rch_recharge_5_gr_inst0_grid.csv.tpl'\n",
      "2022-02-21 14:50:38.759407 saving zone array freyberg6_template\\rch_recharge_5_gr_inst0_grid.csv.zone for tpl file freyberg6_template\\rch_recharge_5_gr_inst0_grid.csv.tpl\n",
      "2022-02-21 14:50:38.766389 finished: adding grid type m style parameters for file(s) ['freyberg6.rch_recharge_5.txt'] took: 0:00:00.026928\n",
      "2022-02-21 14:50:38.767386 starting: adding pilotpoints type m style parameters for file(s) ['freyberg6.rch_recharge_5.txt']\n",
      "2022-02-21 14:50:38.767386 starting: loading array freyberg6_template\\freyberg6.rch_recharge_5.txt\n",
      "2022-02-21 14:50:38.768384 finished: loading array freyberg6_template\\freyberg6.rch_recharge_5.txt took: 0:00:00.000998\n",
      "2022-02-21 14:50:38.768384 loaded array 'freyberg_mf6\\freyberg6.rch_recharge_5.txt' of shape (40, 20)\n",
      "2022-02-21 14:50:38.770378 starting: writing array-style template file 'freyberg6_template\\rch_recharge_5_pp_inst0_pilotpoints.csv.tpl'\n",
      "2022-02-21 14:50:38.770378 starting: setting up pilot point parameters\n",
      "2022-02-21 14:50:38.770378 No spatial reference (containing cell spacing) passed.\n",
      "2022-02-21 14:50:38.770378 OK - using spatial reference in parent object.\n"
     ]
    },
    {
     "name": "stdout",
     "output_type": "stream",
     "text": [
      "2022-02-21 14:50:38.844181 32 pilot point parameters created\n",
      "2022-02-21 14:50:38.844181 pilot point 'pargp':rch_recharge_5_pp\n",
      "2022-02-21 14:50:38.844181 finished: setting up pilot point parameters took: 0:00:00.073803\n",
      "2022-02-21 14:50:38.851162 starting: writing array-based template file 'freyberg6_template\\rch_recharge_5_pp_inst0pp.dat.tpl'\n",
      "2022-02-21 14:50:38.851162 saving zone array freyberg6_template\\rch_recharge_5_pp_inst0pp.dat.zone for tpl file freyberg6_template\\rch_recharge_5_pp_inst0pp.dat.tpl\n",
      "2022-02-21 14:50:38.857146 finished: adding pilotpoints type m style parameters for file(s) ['freyberg6.rch_recharge_5.txt'] took: 0:00:00.089760\n",
      "2022-02-21 14:50:38.857146 starting: adding constant type m style parameters for file(s) ['freyberg6.rch_recharge_5.txt']\n",
      "2022-02-21 14:50:38.857146 starting: loading array freyberg6_template\\freyberg6.rch_recharge_5.txt\n",
      "2022-02-21 14:50:38.858144 finished: loading array freyberg6_template\\freyberg6.rch_recharge_5.txt took: 0:00:00.000998\n",
      "2022-02-21 14:50:38.858144 loaded array 'freyberg_mf6\\freyberg6.rch_recharge_5.txt' of shape (40, 20)\n",
      "2022-02-21 14:50:38.860138 starting: writing array-style template file 'freyberg6_template\\rch_recharge_5_cn_inst0_constant.csv.tpl'\n",
      "2022-02-21 14:50:38.860138 starting: writing template file freyberg6_template\\rch_recharge_5_cn_inst0_constant.csv.tpl for ['rch_recharge_5_cn_inst:0']\n",
      "2022-02-21 14:50:38.867119 finished: writing template file freyberg6_template\\rch_recharge_5_cn_inst0_constant.csv.tpl for ['rch_recharge_5_cn_inst:0'] took: 0:00:00.006981\n",
      "2022-02-21 14:50:38.867119 starting: writing array-based template file 'freyberg6_template\\rch_recharge_5_cn_inst0_constant.csv.tpl'\n",
      "2022-02-21 14:50:38.867119 saving zone array freyberg6_template\\rch_recharge_5_cn_inst0_constant.csv.zone for tpl file freyberg6_template\\rch_recharge_5_cn_inst0_constant.csv.tpl\n",
      "2022-02-21 14:50:38.874101 finished: adding constant type m style parameters for file(s) ['freyberg6.rch_recharge_5.txt'] took: 0:00:00.016955\n",
      "2022-02-21 14:50:38.874101 starting: adding constant type m style parameters for file(s) ['freyberg6.rch_recharge_5.txt']\n",
      "2022-02-21 14:50:38.874101 starting: loading array freyberg6_template\\freyberg6.rch_recharge_5.txt\n",
      "2022-02-21 14:50:38.876095 finished: loading array freyberg6_template\\freyberg6.rch_recharge_5.txt took: 0:00:00.001994\n",
      "2022-02-21 14:50:38.876095 loaded array 'freyberg_mf6\\freyberg6.rch_recharge_5.txt' of shape (40, 20)\n",
      "2022-02-21 14:50:38.877093 starting: writing array-style template file 'freyberg6_template\\rch_recharge_5_tcn_inst0_constant.csv.tpl'\n",
      "2022-02-21 14:50:38.877093 starting: writing template file freyberg6_template\\rch_recharge_5_tcn_inst0_constant.csv.tpl for ['rch_recharge_5_tcn_inst:0']\n",
      "2022-02-21 14:50:38.885072 finished: writing template file freyberg6_template\\rch_recharge_5_tcn_inst0_constant.csv.tpl for ['rch_recharge_5_tcn_inst:0'] took: 0:00:00.007979\n",
      "2022-02-21 14:50:38.885072 starting: writing array-based template file 'freyberg6_template\\rch_recharge_5_tcn_inst0_constant.csv.tpl'\n",
      "2022-02-21 14:50:38.885072 saving zone array freyberg6_template\\rch_recharge_5_tcn_inst0_constant.csv.zone for tpl file freyberg6_template\\rch_recharge_5_tcn_inst0_constant.csv.tpl\n",
      "2022-02-21 14:50:38.894048 finished: adding constant type m style parameters for file(s) ['freyberg6.rch_recharge_5.txt'] took: 0:00:00.019947\n",
      "2022-02-21 14:50:38.894048 starting: adding grid type m style parameters for file(s) ['freyberg6.rch_recharge_6.txt']\n",
      "2022-02-21 14:50:38.894048 starting: loading array freyberg6_template\\freyberg6.rch_recharge_6.txt\n",
      "2022-02-21 14:50:38.900032 finished: loading array freyberg6_template\\freyberg6.rch_recharge_6.txt took: 0:00:00.005984\n",
      "2022-02-21 14:50:38.900032 loaded array 'freyberg_mf6\\freyberg6.rch_recharge_6.txt' of shape (40, 20)\n",
      "2022-02-21 14:50:38.902026 starting: writing array-style template file 'freyberg6_template\\rch_recharge_6_gr_inst0_grid.csv.tpl'\n",
      "2022-02-21 14:50:38.902026 starting: writing template file freyberg6_template\\rch_recharge_6_gr_inst0_grid.csv.tpl for ['rch_recharge_6_gr_inst:0']\n",
      "2022-02-21 14:50:38.913994 finished: writing template file freyberg6_template\\rch_recharge_6_gr_inst0_grid.csv.tpl for ['rch_recharge_6_gr_inst:0'] took: 0:00:00.011968\n",
      "2022-02-21 14:50:38.913994 starting: writing array-based template file 'freyberg6_template\\rch_recharge_6_gr_inst0_grid.csv.tpl'\n",
      "2022-02-21 14:50:38.915014 saving zone array freyberg6_template\\rch_recharge_6_gr_inst0_grid.csv.zone for tpl file freyberg6_template\\rch_recharge_6_gr_inst0_grid.csv.tpl\n",
      "2022-02-21 14:50:38.921973 finished: adding grid type m style parameters for file(s) ['freyberg6.rch_recharge_6.txt'] took: 0:00:00.027925\n",
      "2022-02-21 14:50:38.921973 starting: adding pilotpoints type m style parameters for file(s) ['freyberg6.rch_recharge_6.txt']\n",
      "2022-02-21 14:50:38.921973 starting: loading array freyberg6_template\\freyberg6.rch_recharge_6.txt\n",
      "2022-02-21 14:50:38.923967 finished: loading array freyberg6_template\\freyberg6.rch_recharge_6.txt took: 0:00:00.001994\n",
      "2022-02-21 14:50:38.923967 loaded array 'freyberg_mf6\\freyberg6.rch_recharge_6.txt' of shape (40, 20)\n",
      "2022-02-21 14:50:38.925962 starting: writing array-style template file 'freyberg6_template\\rch_recharge_6_pp_inst0_pilotpoints.csv.tpl'\n",
      "2022-02-21 14:50:38.925962 starting: setting up pilot point parameters\n",
      "2022-02-21 14:50:38.925962 No spatial reference (containing cell spacing) passed.\n",
      "2022-02-21 14:50:38.925962 OK - using spatial reference in parent object.\n"
     ]
    },
    {
     "name": "stdout",
     "output_type": "stream",
     "text": [
      "2022-02-21 14:50:39.002756 32 pilot point parameters created\n",
      "2022-02-21 14:50:39.003754 pilot point 'pargp':rch_recharge_6_pp\n",
      "2022-02-21 14:50:39.003754 finished: setting up pilot point parameters took: 0:00:00.077792\n",
      "2022-02-21 14:50:39.010735 starting: writing array-based template file 'freyberg6_template\\rch_recharge_6_pp_inst0pp.dat.tpl'\n",
      "2022-02-21 14:50:39.010735 saving zone array freyberg6_template\\rch_recharge_6_pp_inst0pp.dat.zone for tpl file freyberg6_template\\rch_recharge_6_pp_inst0pp.dat.tpl\n",
      "2022-02-21 14:50:39.015722 finished: adding pilotpoints type m style parameters for file(s) ['freyberg6.rch_recharge_6.txt'] took: 0:00:00.093749\n",
      "2022-02-21 14:50:39.015722 starting: adding constant type m style parameters for file(s) ['freyberg6.rch_recharge_6.txt']\n",
      "2022-02-21 14:50:39.015722 starting: loading array freyberg6_template\\freyberg6.rch_recharge_6.txt\n",
      "2022-02-21 14:50:39.017716 finished: loading array freyberg6_template\\freyberg6.rch_recharge_6.txt took: 0:00:00.001994\n",
      "2022-02-21 14:50:39.017716 loaded array 'freyberg_mf6\\freyberg6.rch_recharge_6.txt' of shape (40, 20)\n",
      "2022-02-21 14:50:39.019711 starting: writing array-style template file 'freyberg6_template\\rch_recharge_6_cn_inst0_constant.csv.tpl'\n",
      "2022-02-21 14:50:39.019711 starting: writing template file freyberg6_template\\rch_recharge_6_cn_inst0_constant.csv.tpl for ['rch_recharge_6_cn_inst:0']\n",
      "2022-02-21 14:50:39.026693 finished: writing template file freyberg6_template\\rch_recharge_6_cn_inst0_constant.csv.tpl for ['rch_recharge_6_cn_inst:0'] took: 0:00:00.006982\n",
      "2022-02-21 14:50:39.026693 starting: writing array-based template file 'freyberg6_template\\rch_recharge_6_cn_inst0_constant.csv.tpl'\n",
      "2022-02-21 14:50:39.026693 saving zone array freyberg6_template\\rch_recharge_6_cn_inst0_constant.csv.zone for tpl file freyberg6_template\\rch_recharge_6_cn_inst0_constant.csv.tpl\n"
     ]
    },
    {
     "name": "stdout",
     "output_type": "stream",
     "text": [
      "2022-02-21 14:50:39.033674 finished: adding constant type m style parameters for file(s) ['freyberg6.rch_recharge_6.txt'] took: 0:00:00.017952\n",
      "2022-02-21 14:50:39.033674 starting: adding constant type m style parameters for file(s) ['freyberg6.rch_recharge_6.txt']\n",
      "2022-02-21 14:50:39.033674 starting: loading array freyberg6_template\\freyberg6.rch_recharge_6.txt\n",
      "2022-02-21 14:50:39.035668 finished: loading array freyberg6_template\\freyberg6.rch_recharge_6.txt took: 0:00:00.001994\n",
      "2022-02-21 14:50:39.035668 loaded array 'freyberg_mf6\\freyberg6.rch_recharge_6.txt' of shape (40, 20)\n",
      "2022-02-21 14:50:39.037663 starting: writing array-style template file 'freyberg6_template\\rch_recharge_6_tcn_inst0_constant.csv.tpl'\n",
      "2022-02-21 14:50:39.037663 starting: writing template file freyberg6_template\\rch_recharge_6_tcn_inst0_constant.csv.tpl for ['rch_recharge_6_tcn_inst:0']\n",
      "2022-02-21 14:50:39.044644 finished: writing template file freyberg6_template\\rch_recharge_6_tcn_inst0_constant.csv.tpl for ['rch_recharge_6_tcn_inst:0'] took: 0:00:00.006981\n",
      "2022-02-21 14:50:39.044644 starting: writing array-based template file 'freyberg6_template\\rch_recharge_6_tcn_inst0_constant.csv.tpl'\n",
      "2022-02-21 14:50:39.045642 saving zone array freyberg6_template\\rch_recharge_6_tcn_inst0_constant.csv.zone for tpl file freyberg6_template\\rch_recharge_6_tcn_inst0_constant.csv.tpl\n",
      "2022-02-21 14:50:39.053621 finished: adding constant type m style parameters for file(s) ['freyberg6.rch_recharge_6.txt'] took: 0:00:00.019947\n",
      "2022-02-21 14:50:39.053621 starting: adding grid type m style parameters for file(s) ['freyberg6.rch_recharge_7.txt']\n",
      "2022-02-21 14:50:39.053621 starting: loading array freyberg6_template\\freyberg6.rch_recharge_7.txt\n",
      "2022-02-21 14:50:39.059605 finished: loading array freyberg6_template\\freyberg6.rch_recharge_7.txt took: 0:00:00.005984\n",
      "2022-02-21 14:50:39.059605 loaded array 'freyberg_mf6\\freyberg6.rch_recharge_7.txt' of shape (40, 20)\n",
      "2022-02-21 14:50:39.061599 starting: writing array-style template file 'freyberg6_template\\rch_recharge_7_gr_inst0_grid.csv.tpl'\n",
      "2022-02-21 14:50:39.061599 starting: writing template file freyberg6_template\\rch_recharge_7_gr_inst0_grid.csv.tpl for ['rch_recharge_7_gr_inst:0']\n",
      "2022-02-21 14:50:39.074564 finished: writing template file freyberg6_template\\rch_recharge_7_gr_inst0_grid.csv.tpl for ['rch_recharge_7_gr_inst:0'] took: 0:00:00.012965\n",
      "2022-02-21 14:50:39.074564 starting: writing array-based template file 'freyberg6_template\\rch_recharge_7_gr_inst0_grid.csv.tpl'\n",
      "2022-02-21 14:50:39.074564 saving zone array freyberg6_template\\rch_recharge_7_gr_inst0_grid.csv.zone for tpl file freyberg6_template\\rch_recharge_7_gr_inst0_grid.csv.tpl\n",
      "2022-02-21 14:50:39.081546 finished: adding grid type m style parameters for file(s) ['freyberg6.rch_recharge_7.txt'] took: 0:00:00.027925\n",
      "2022-02-21 14:50:39.081546 starting: adding pilotpoints type m style parameters for file(s) ['freyberg6.rch_recharge_7.txt']\n",
      "2022-02-21 14:50:39.081546 starting: loading array freyberg6_template\\freyberg6.rch_recharge_7.txt\n",
      "2022-02-21 14:50:39.083540 finished: loading array freyberg6_template\\freyberg6.rch_recharge_7.txt took: 0:00:00.001994\n",
      "2022-02-21 14:50:39.083540 loaded array 'freyberg_mf6\\freyberg6.rch_recharge_7.txt' of shape (40, 20)\n",
      "2022-02-21 14:50:39.085535 starting: writing array-style template file 'freyberg6_template\\rch_recharge_7_pp_inst0_pilotpoints.csv.tpl'\n",
      "2022-02-21 14:50:39.085535 starting: setting up pilot point parameters\n",
      "2022-02-21 14:50:39.085535 No spatial reference (containing cell spacing) passed.\n",
      "2022-02-21 14:50:39.085535 OK - using spatial reference in parent object.\n",
      "2022-02-21 14:50:39.161332 32 pilot point parameters created\n",
      "2022-02-21 14:50:39.162330 pilot point 'pargp':rch_recharge_7_pp\n",
      "2022-02-21 14:50:39.162330 finished: setting up pilot point parameters took: 0:00:00.076795\n",
      "2022-02-21 14:50:39.169311 starting: writing array-based template file 'freyberg6_template\\rch_recharge_7_pp_inst0pp.dat.tpl'\n",
      "2022-02-21 14:50:39.169311 saving zone array freyberg6_template\\rch_recharge_7_pp_inst0pp.dat.zone for tpl file freyberg6_template\\rch_recharge_7_pp_inst0pp.dat.tpl\n",
      "2022-02-21 14:50:39.174298 finished: adding pilotpoints type m style parameters for file(s) ['freyberg6.rch_recharge_7.txt'] took: 0:00:00.092752\n",
      "2022-02-21 14:50:39.174298 starting: adding constant type m style parameters for file(s) ['freyberg6.rch_recharge_7.txt']\n",
      "2022-02-21 14:50:39.174298 starting: loading array freyberg6_template\\freyberg6.rch_recharge_7.txt\n",
      "2022-02-21 14:50:39.176292 finished: loading array freyberg6_template\\freyberg6.rch_recharge_7.txt took: 0:00:00.001994\n",
      "2022-02-21 14:50:39.176292 loaded array 'freyberg_mf6\\freyberg6.rch_recharge_7.txt' of shape (40, 20)\n",
      "2022-02-21 14:50:39.178287 starting: writing array-style template file 'freyberg6_template\\rch_recharge_7_cn_inst0_constant.csv.tpl'\n",
      "2022-02-21 14:50:39.178287 starting: writing template file freyberg6_template\\rch_recharge_7_cn_inst0_constant.csv.tpl for ['rch_recharge_7_cn_inst:0']\n",
      "2022-02-21 14:50:39.185268 finished: writing template file freyberg6_template\\rch_recharge_7_cn_inst0_constant.csv.tpl for ['rch_recharge_7_cn_inst:0'] took: 0:00:00.006981\n",
      "2022-02-21 14:50:39.185268 starting: writing array-based template file 'freyberg6_template\\rch_recharge_7_cn_inst0_constant.csv.tpl'\n",
      "2022-02-21 14:50:39.185268 saving zone array freyberg6_template\\rch_recharge_7_cn_inst0_constant.csv.zone for tpl file freyberg6_template\\rch_recharge_7_cn_inst0_constant.csv.tpl\n"
     ]
    },
    {
     "name": "stdout",
     "output_type": "stream",
     "text": [
      "2022-02-21 14:50:39.191252 finished: adding constant type m style parameters for file(s) ['freyberg6.rch_recharge_7.txt'] took: 0:00:00.016954\n",
      "2022-02-21 14:50:39.191252 starting: adding constant type m style parameters for file(s) ['freyberg6.rch_recharge_7.txt']\n",
      "2022-02-21 14:50:39.191252 starting: loading array freyberg6_template\\freyberg6.rch_recharge_7.txt\n",
      "2022-02-21 14:50:39.193248 finished: loading array freyberg6_template\\freyberg6.rch_recharge_7.txt took: 0:00:00.001996\n",
      "2022-02-21 14:50:39.193248 loaded array 'freyberg_mf6\\freyberg6.rch_recharge_7.txt' of shape (40, 20)\n",
      "2022-02-21 14:50:39.195242 starting: writing array-style template file 'freyberg6_template\\rch_recharge_7_tcn_inst0_constant.csv.tpl'\n",
      "2022-02-21 14:50:39.195242 starting: writing template file freyberg6_template\\rch_recharge_7_tcn_inst0_constant.csv.tpl for ['rch_recharge_7_tcn_inst:0']\n",
      "2022-02-21 14:50:39.202223 finished: writing template file freyberg6_template\\rch_recharge_7_tcn_inst0_constant.csv.tpl for ['rch_recharge_7_tcn_inst:0'] took: 0:00:00.006981\n",
      "2022-02-21 14:50:39.202223 starting: writing array-based template file 'freyberg6_template\\rch_recharge_7_tcn_inst0_constant.csv.tpl'\n",
      "2022-02-21 14:50:39.203220 saving zone array freyberg6_template\\rch_recharge_7_tcn_inst0_constant.csv.zone for tpl file freyberg6_template\\rch_recharge_7_tcn_inst0_constant.csv.tpl\n",
      "2022-02-21 14:50:39.211199 finished: adding constant type m style parameters for file(s) ['freyberg6.rch_recharge_7.txt'] took: 0:00:00.019947\n",
      "2022-02-21 14:50:39.211199 starting: adding grid type m style parameters for file(s) ['freyberg6.rch_recharge_8.txt']\n",
      "2022-02-21 14:50:39.211199 starting: loading array freyberg6_template\\freyberg6.rch_recharge_8.txt\n"
     ]
    },
    {
     "name": "stdout",
     "output_type": "stream",
     "text": [
      "2022-02-21 14:50:39.217183 finished: loading array freyberg6_template\\freyberg6.rch_recharge_8.txt took: 0:00:00.005984\n",
      "2022-02-21 14:50:39.217183 loaded array 'freyberg_mf6\\freyberg6.rch_recharge_8.txt' of shape (40, 20)\n",
      "2022-02-21 14:50:39.219178 starting: writing array-style template file 'freyberg6_template\\rch_recharge_8_gr_inst0_grid.csv.tpl'\n",
      "2022-02-21 14:50:39.220175 starting: writing template file freyberg6_template\\rch_recharge_8_gr_inst0_grid.csv.tpl for ['rch_recharge_8_gr_inst:0']\n",
      "2022-02-21 14:50:39.232143 finished: writing template file freyberg6_template\\rch_recharge_8_gr_inst0_grid.csv.tpl for ['rch_recharge_8_gr_inst:0'] took: 0:00:00.011968\n",
      "2022-02-21 14:50:39.232143 starting: writing array-based template file 'freyberg6_template\\rch_recharge_8_gr_inst0_grid.csv.tpl'\n",
      "2022-02-21 14:50:39.232143 saving zone array freyberg6_template\\rch_recharge_8_gr_inst0_grid.csv.zone for tpl file freyberg6_template\\rch_recharge_8_gr_inst0_grid.csv.tpl\n",
      "2022-02-21 14:50:39.240122 finished: adding grid type m style parameters for file(s) ['freyberg6.rch_recharge_8.txt'] took: 0:00:00.028923\n",
      "2022-02-21 14:50:39.240122 starting: adding pilotpoints type m style parameters for file(s) ['freyberg6.rch_recharge_8.txt']\n",
      "2022-02-21 14:50:39.240122 starting: loading array freyberg6_template\\freyberg6.rch_recharge_8.txt\n",
      "2022-02-21 14:50:39.241119 finished: loading array freyberg6_template\\freyberg6.rch_recharge_8.txt took: 0:00:00.000997\n",
      "2022-02-21 14:50:39.241119 loaded array 'freyberg_mf6\\freyberg6.rch_recharge_8.txt' of shape (40, 20)\n",
      "2022-02-21 14:50:39.243114 starting: writing array-style template file 'freyberg6_template\\rch_recharge_8_pp_inst0_pilotpoints.csv.tpl'\n",
      "2022-02-21 14:50:39.243114 starting: setting up pilot point parameters\n",
      "2022-02-21 14:50:39.243114 No spatial reference (containing cell spacing) passed.\n",
      "2022-02-21 14:50:39.243114 OK - using spatial reference in parent object.\n",
      "2022-02-21 14:50:39.312927 32 pilot point parameters created\n",
      "2022-02-21 14:50:39.312927 pilot point 'pargp':rch_recharge_8_pp\n",
      "2022-02-21 14:50:39.313924 finished: setting up pilot point parameters took: 0:00:00.070810\n",
      "2022-02-21 14:50:39.319908 starting: writing array-based template file 'freyberg6_template\\rch_recharge_8_pp_inst0pp.dat.tpl'\n",
      "2022-02-21 14:50:39.319908 saving zone array freyberg6_template\\rch_recharge_8_pp_inst0pp.dat.zone for tpl file freyberg6_template\\rch_recharge_8_pp_inst0pp.dat.tpl\n",
      "2022-02-21 14:50:39.324895 finished: adding pilotpoints type m style parameters for file(s) ['freyberg6.rch_recharge_8.txt'] took: 0:00:00.084773\n",
      "2022-02-21 14:50:39.325892 starting: adding constant type m style parameters for file(s) ['freyberg6.rch_recharge_8.txt']\n",
      "2022-02-21 14:50:39.325892 starting: loading array freyberg6_template\\freyberg6.rch_recharge_8.txt\n",
      "2022-02-21 14:50:39.326890 finished: loading array freyberg6_template\\freyberg6.rch_recharge_8.txt took: 0:00:00.000998\n",
      "2022-02-21 14:50:39.326890 loaded array 'freyberg_mf6\\freyberg6.rch_recharge_8.txt' of shape (40, 20)\n",
      "2022-02-21 14:50:39.328884 starting: writing array-style template file 'freyberg6_template\\rch_recharge_8_cn_inst0_constant.csv.tpl'\n",
      "2022-02-21 14:50:39.328884 starting: writing template file freyberg6_template\\rch_recharge_8_cn_inst0_constant.csv.tpl for ['rch_recharge_8_cn_inst:0']\n",
      "2022-02-21 14:50:39.335865 finished: writing template file freyberg6_template\\rch_recharge_8_cn_inst0_constant.csv.tpl for ['rch_recharge_8_cn_inst:0'] took: 0:00:00.006981\n",
      "2022-02-21 14:50:39.335865 starting: writing array-based template file 'freyberg6_template\\rch_recharge_8_cn_inst0_constant.csv.tpl'\n",
      "2022-02-21 14:50:39.335865 saving zone array freyberg6_template\\rch_recharge_8_cn_inst0_constant.csv.zone for tpl file freyberg6_template\\rch_recharge_8_cn_inst0_constant.csv.tpl\n",
      "2022-02-21 14:50:39.341850 finished: adding constant type m style parameters for file(s) ['freyberg6.rch_recharge_8.txt'] took: 0:00:00.015958\n",
      "2022-02-21 14:50:39.341850 starting: adding constant type m style parameters for file(s) ['freyberg6.rch_recharge_8.txt']\n",
      "2022-02-21 14:50:39.341850 starting: loading array freyberg6_template\\freyberg6.rch_recharge_8.txt\n",
      "2022-02-21 14:50:39.343844 finished: loading array freyberg6_template\\freyberg6.rch_recharge_8.txt took: 0:00:00.001994\n",
      "2022-02-21 14:50:39.343844 loaded array 'freyberg_mf6\\freyberg6.rch_recharge_8.txt' of shape (40, 20)\n",
      "2022-02-21 14:50:39.345838 starting: writing array-style template file 'freyberg6_template\\rch_recharge_8_tcn_inst0_constant.csv.tpl'\n",
      "2022-02-21 14:50:39.345838 starting: writing template file freyberg6_template\\rch_recharge_8_tcn_inst0_constant.csv.tpl for ['rch_recharge_8_tcn_inst:0']\n",
      "2022-02-21 14:50:39.352820 finished: writing template file freyberg6_template\\rch_recharge_8_tcn_inst0_constant.csv.tpl for ['rch_recharge_8_tcn_inst:0'] took: 0:00:00.006982\n",
      "2022-02-21 14:50:39.352820 starting: writing array-based template file 'freyberg6_template\\rch_recharge_8_tcn_inst0_constant.csv.tpl'\n",
      "2022-02-21 14:50:39.352820 saving zone array freyberg6_template\\rch_recharge_8_tcn_inst0_constant.csv.zone for tpl file freyberg6_template\\rch_recharge_8_tcn_inst0_constant.csv.tpl\n",
      "2022-02-21 14:50:39.360798 finished: adding constant type m style parameters for file(s) ['freyberg6.rch_recharge_8.txt'] took: 0:00:00.018948\n",
      "2022-02-21 14:50:39.361796 starting: adding grid type m style parameters for file(s) ['freyberg6.rch_recharge_9.txt']\n",
      "2022-02-21 14:50:39.361796 starting: loading array freyberg6_template\\freyberg6.rch_recharge_9.txt\n",
      "2022-02-21 14:50:39.367780 finished: loading array freyberg6_template\\freyberg6.rch_recharge_9.txt took: 0:00:00.005984\n",
      "2022-02-21 14:50:39.367780 loaded array 'freyberg_mf6\\freyberg6.rch_recharge_9.txt' of shape (40, 20)\n"
     ]
    },
    {
     "name": "stdout",
     "output_type": "stream",
     "text": [
      "2022-02-21 14:50:39.369775 starting: writing array-style template file 'freyberg6_template\\rch_recharge_9_gr_inst0_grid.csv.tpl'\n",
      "2022-02-21 14:50:39.369775 starting: writing template file freyberg6_template\\rch_recharge_9_gr_inst0_grid.csv.tpl for ['rch_recharge_9_gr_inst:0']\n",
      "2022-02-21 14:50:39.382740 finished: writing template file freyberg6_template\\rch_recharge_9_gr_inst0_grid.csv.tpl for ['rch_recharge_9_gr_inst:0'] took: 0:00:00.012965\n",
      "2022-02-21 14:50:39.382740 starting: writing array-based template file 'freyberg6_template\\rch_recharge_9_gr_inst0_grid.csv.tpl'\n",
      "2022-02-21 14:50:39.383738 saving zone array freyberg6_template\\rch_recharge_9_gr_inst0_grid.csv.zone for tpl file freyberg6_template\\rch_recharge_9_gr_inst0_grid.csv.tpl\n",
      "2022-02-21 14:50:39.390719 finished: adding grid type m style parameters for file(s) ['freyberg6.rch_recharge_9.txt'] took: 0:00:00.028923\n",
      "2022-02-21 14:50:39.390719 starting: adding pilotpoints type m style parameters for file(s) ['freyberg6.rch_recharge_9.txt']\n",
      "2022-02-21 14:50:39.390719 starting: loading array freyberg6_template\\freyberg6.rch_recharge_9.txt\n",
      "2022-02-21 14:50:39.391716 finished: loading array freyberg6_template\\freyberg6.rch_recharge_9.txt took: 0:00:00.000997\n",
      "2022-02-21 14:50:39.391716 loaded array 'freyberg_mf6\\freyberg6.rch_recharge_9.txt' of shape (40, 20)\n",
      "2022-02-21 14:50:39.393711 starting: writing array-style template file 'freyberg6_template\\rch_recharge_9_pp_inst0_pilotpoints.csv.tpl'\n",
      "2022-02-21 14:50:39.393711 starting: setting up pilot point parameters\n",
      "2022-02-21 14:50:39.394708 No spatial reference (containing cell spacing) passed.\n",
      "2022-02-21 14:50:39.394708 OK - using spatial reference in parent object.\n"
     ]
    },
    {
     "name": "stdout",
     "output_type": "stream",
     "text": [
      "2022-02-21 14:50:39.469563 32 pilot point parameters created\n",
      "2022-02-21 14:50:39.469563 pilot point 'pargp':rch_recharge_9_pp\n",
      "2022-02-21 14:50:39.469563 finished: setting up pilot point parameters took: 0:00:00.075852\n",
      "2022-02-21 14:50:39.476545 starting: writing array-based template file 'freyberg6_template\\rch_recharge_9_pp_inst0pp.dat.tpl'\n",
      "2022-02-21 14:50:39.476545 saving zone array freyberg6_template\\rch_recharge_9_pp_inst0pp.dat.zone for tpl file freyberg6_template\\rch_recharge_9_pp_inst0pp.dat.tpl\n",
      "2022-02-21 14:50:39.481531 finished: adding pilotpoints type m style parameters for file(s) ['freyberg6.rch_recharge_9.txt'] took: 0:00:00.090812\n",
      "2022-02-21 14:50:39.482529 starting: adding constant type m style parameters for file(s) ['freyberg6.rch_recharge_9.txt']\n",
      "2022-02-21 14:50:39.482529 starting: loading array freyberg6_template\\freyberg6.rch_recharge_9.txt\n",
      "2022-02-21 14:50:39.483526 finished: loading array freyberg6_template\\freyberg6.rch_recharge_9.txt took: 0:00:00.000997\n",
      "2022-02-21 14:50:39.483526 loaded array 'freyberg_mf6\\freyberg6.rch_recharge_9.txt' of shape (40, 20)\n",
      "2022-02-21 14:50:39.485520 starting: writing array-style template file 'freyberg6_template\\rch_recharge_9_cn_inst0_constant.csv.tpl'\n",
      "2022-02-21 14:50:39.485520 starting: writing template file freyberg6_template\\rch_recharge_9_cn_inst0_constant.csv.tpl for ['rch_recharge_9_cn_inst:0']\n",
      "2022-02-21 14:50:39.493505 finished: writing template file freyberg6_template\\rch_recharge_9_cn_inst0_constant.csv.tpl for ['rch_recharge_9_cn_inst:0'] took: 0:00:00.007985\n",
      "2022-02-21 14:50:39.493505 starting: writing array-based template file 'freyberg6_template\\rch_recharge_9_cn_inst0_constant.csv.tpl'\n",
      "2022-02-21 14:50:39.493505 saving zone array freyberg6_template\\rch_recharge_9_cn_inst0_constant.csv.zone for tpl file freyberg6_template\\rch_recharge_9_cn_inst0_constant.csv.tpl\n",
      "2022-02-21 14:50:39.500486 finished: adding constant type m style parameters for file(s) ['freyberg6.rch_recharge_9.txt'] took: 0:00:00.017957\n",
      "2022-02-21 14:50:39.500486 starting: adding constant type m style parameters for file(s) ['freyberg6.rch_recharge_9.txt']\n",
      "2022-02-21 14:50:39.500486 starting: loading array freyberg6_template\\freyberg6.rch_recharge_9.txt\n",
      "2022-02-21 14:50:39.501484 finished: loading array freyberg6_template\\freyberg6.rch_recharge_9.txt took: 0:00:00.000998\n",
      "2022-02-21 14:50:39.501484 loaded array 'freyberg_mf6\\freyberg6.rch_recharge_9.txt' of shape (40, 20)\n",
      "2022-02-21 14:50:39.503479 starting: writing array-style template file 'freyberg6_template\\rch_recharge_9_tcn_inst0_constant.csv.tpl'\n",
      "2022-02-21 14:50:39.503479 starting: writing template file freyberg6_template\\rch_recharge_9_tcn_inst0_constant.csv.tpl for ['rch_recharge_9_tcn_inst:0']\n",
      "2022-02-21 14:50:39.511457 finished: writing template file freyberg6_template\\rch_recharge_9_tcn_inst0_constant.csv.tpl for ['rch_recharge_9_tcn_inst:0'] took: 0:00:00.007978\n",
      "2022-02-21 14:50:39.511457 starting: writing array-based template file 'freyberg6_template\\rch_recharge_9_tcn_inst0_constant.csv.tpl'\n",
      "2022-02-21 14:50:39.511457 saving zone array freyberg6_template\\rch_recharge_9_tcn_inst0_constant.csv.zone for tpl file freyberg6_template\\rch_recharge_9_tcn_inst0_constant.csv.tpl\n",
      "2022-02-21 14:50:39.520433 finished: adding constant type m style parameters for file(s) ['freyberg6.rch_recharge_9.txt'] took: 0:00:00.019947\n"
     ]
    }
   ],
   "source": [
    "# for Recharge; \n",
    "tag = \"rch_recharge\"\n",
    "files = [f for f in os.listdir(template_ws) if tag in f.lower() and f.endswith(\".txt\")]\n",
    "for f in files:\n",
    "    # the spatial multiplier parameters; just use the same function\n",
    "    add_mult_pars(f, lb=0.2, ub=5.0, ulb=2e-5, uub=2e-4)\n",
    "    \n",
    "    \n",
    "    # multiplier that includes temporal correlation\n",
    "    # get the stress period number from the file name\n",
    "    kper = int(f.split('.')[1].split('_')[-1]) - 1  \n",
    "    \n",
    "    # add the constant parameters (with temporal correlation)\n",
    "    pf.add_parameters(filenames=f,\n",
    "                    zone_array=ib,\n",
    "                    par_type=\"constant\",\n",
    "                    par_name_base=f.split('.')[1]+\"_tcn\",\n",
    "                    pargp=f.split('.')[1]+\"_tcn\",\n",
    "                    lower_bound=0.5, upper_bound=1.5,\n",
    "                    ult_ubound=2e-4, ult_lbound=2e-5,\n",
    "                    datetime=dts[kper], # this places the parameter value on the \"time axis\"\n",
    "                    geostruct=temporal_gs)"
   ]
  },
  {
   "cell_type": "markdown",
   "metadata": {},
   "source": [
    "### 5.3.3. List Files\n",
    "\n",
    "Adding parameters from list-type files follows similar principles. As with observation files, they must be tabular. Certain columns are specified as index columns and are used to populate parameter names, as well as provide the parameters' spatial location. Other columns are specified as containing parameter values. \n",
    "\n",
    "Parameters can be `grid` or `constant`. As before, values can be assigned `directly`, as `multipliers` or as `additives`.\n",
    "\n",
    "We will demonstrate for the boundary-condition input files. \n",
    "\n",
    "Starting off with GHBs. Let's inspect the folder. As you can see, there is a single input file (GHB parameters are assumed to not vary over time)."
   ]
  },
  {
   "cell_type": "code",
   "execution_count": 29,
   "metadata": {
    "execution": {
     "iopub.execute_input": "2022-02-21T04:20:39.528412Z",
     "iopub.status.busy": "2022-02-21T04:20:39.527414Z",
     "iopub.status.idle": "2022-02-21T04:20:39.532401Z",
     "shell.execute_reply": "2022-02-21T04:20:39.532401Z"
    }
   },
   "outputs": [
    {
     "name": "stdout",
     "output_type": "stream",
     "text": [
      "['freyberg6.ghb_stress_period_data_1.txt']\n"
     ]
    }
   ],
   "source": [
    "tag = \"ghb_stress_period_data\"\n",
    "files = [f for f in os.listdir(template_ws) if tag in f.lower() and f.endswith(\".txt\")]\n",
    "print(files)"
   ]
  },
  {
   "cell_type": "markdown",
   "metadata": {},
   "source": [
    "Since these boundaries are likely to be very influential, we want to include a robust representation of their uncertainty - both head and conductance and at multiple scales.  \n",
    "\n",
    "Let's parameterize both GHB conductance and head:\n",
    "\n",
    " - For conductance, we shall use two scales of `multiplier` parameters (`constant` and `grid`).\n",
    "\n",
    " - For heads, multipliers are not ideal. Insead we will use `additive` parameters. Again, with a coarse and fine scale."
   ]
  },
  {
   "cell_type": "code",
   "execution_count": 30,
   "metadata": {
    "execution": {
     "iopub.execute_input": "2022-02-21T04:20:39.541376Z",
     "iopub.status.busy": "2022-02-21T04:20:39.541376Z",
     "iopub.status.idle": "2022-02-21T04:20:39.655137Z",
     "shell.execute_reply": "2022-02-21T04:20:39.655137Z"
    }
   },
   "outputs": [
    {
     "name": "stdout",
     "output_type": "stream",
     "text": [
      "2022-02-21 14:50:39.542374 starting: adding grid type m style parameters for file(s) ['freyberg6.ghb_stress_period_data_1.txt']\n",
      "2022-02-21 14:50:39.542374 starting: loading list-style freyberg6_template\\freyberg6.ghb_stress_period_data_1.txt\n",
      "2022-02-21 14:50:39.542374 starting: reading list-style file: freyberg6_template\\freyberg6.ghb_stress_period_data_1.txt\n",
      "2022-02-21 14:50:39.548358 finished: reading list-style file: freyberg6_template\\freyberg6.ghb_stress_period_data_1.txt took: 0:00:00.005984\n",
      "2022-02-21 14:50:39.548358 loaded list-style 'freyberg6_template\\freyberg6.ghb_stress_period_data_1.txt' of shape (30, 5)\n",
      "2022-02-21 14:50:39.550352 finished: loading list-style freyberg6_template\\freyberg6.ghb_stress_period_data_1.txt took: 0:00:00.007978\n",
      "2022-02-21 14:50:39.550352 starting: writing list-style template file 'freyberg6_template\\ghbcond_gr_inst0_grid.csv.tpl'\n",
      "2022-02-21 14:50:39.554341 WARNING: get_xy() warning: position of i and j in index_cols not specified, assume (i,j) are final two entries in index_cols.\n"
     ]
    },
    {
     "name": "stdout",
     "output_type": "stream",
     "text": [
      "2022-02-21 14:50:39.559329 WARNING: Coincidently located pars in list-style file, attempting to separate pars based on `index_cols` passed - using index_col[0] for third dimension\n",
      "2022-02-21 14:50:39.571481 finished: writing list-style template file 'freyberg6_template\\ghbcond_gr_inst0_grid.csv.tpl' took: 0:00:00.021129\n",
      "2022-02-21 14:50:39.576348 finished: adding grid type m style parameters for file(s) ['freyberg6.ghb_stress_period_data_1.txt'] took: 0:00:00.033974\n",
      "2022-02-21 14:50:39.577345 starting: adding constant type m style parameters for file(s) ['freyberg6.ghb_stress_period_data_1.txt']\n",
      "2022-02-21 14:50:39.577345 starting: loading list-style freyberg6_template\\freyberg6.ghb_stress_period_data_1.txt\n",
      "2022-02-21 14:50:39.577345 starting: reading list-style file: freyberg6_template\\freyberg6.ghb_stress_period_data_1.txt\n",
      "2022-02-21 14:50:39.579340 finished: reading list-style file: freyberg6_template\\freyberg6.ghb_stress_period_data_1.txt took: 0:00:00.001995\n",
      "2022-02-21 14:50:39.579340 loaded list-style 'freyberg6_template\\freyberg6.ghb_stress_period_data_1.txt' of shape (30, 5)\n",
      "2022-02-21 14:50:39.580337 finished: loading list-style freyberg6_template\\freyberg6.ghb_stress_period_data_1.txt took: 0:00:00.002992\n",
      "2022-02-21 14:50:39.580337 starting: writing list-style template file 'freyberg6_template\\ghbcond_cn_inst0_constant.csv.tpl'\n",
      "2022-02-21 14:50:39.593302 finished: writing list-style template file 'freyberg6_template\\ghbcond_cn_inst0_constant.csv.tpl' took: 0:00:00.012965\n",
      "2022-02-21 14:50:39.599286 finished: adding constant type m style parameters for file(s) ['freyberg6.ghb_stress_period_data_1.txt'] took: 0:00:00.021941\n",
      "2022-02-21 14:50:39.599286 starting: adding grid type a style parameters for file(s) ['freyberg6.ghb_stress_period_data_1.txt']\n",
      "2022-02-21 14:50:39.599286 WARNING: 0) Inconsistency between geostruct transform and partrans.\n",
      "2022-02-21 14:50:39.599286 WARNING: 1) Setting geostruct transform to {transform}\n",
      "2022-02-21 14:50:39.599286 WARNING: 2) This will create a new copy of geostruct\n",
      "2022-02-21 14:50:39.599286 WARNING: -) Better to pass an appropriately transformed geostruct\n",
      "2022-02-21 14:50:39.599286 starting: loading list-style freyberg6_template\\freyberg6.ghb_stress_period_data_1.txt\n",
      "2022-02-21 14:50:39.600284 starting: reading list-style file: freyberg6_template\\freyberg6.ghb_stress_period_data_1.txt\n",
      "2022-02-21 14:50:39.601281 finished: reading list-style file: freyberg6_template\\freyberg6.ghb_stress_period_data_1.txt took: 0:00:00.000997\n",
      "2022-02-21 14:50:39.601281 loaded list-style 'freyberg6_template\\freyberg6.ghb_stress_period_data_1.txt' of shape (30, 5)\n",
      "2022-02-21 14:50:39.602278 finished: loading list-style freyberg6_template\\freyberg6.ghb_stress_period_data_1.txt took: 0:00:00.002992\n",
      "2022-02-21 14:50:39.603276 starting: writing list-style template file 'freyberg6_template\\ghbhead_gr_inst0_grid.csv.tpl'\n",
      "2022-02-21 14:50:39.607265 WARNING: get_xy() warning: position of i and j in index_cols not specified, assume (i,j) are final two entries in index_cols.\n",
      "2022-02-21 14:50:39.612252 WARNING: Coincidently located pars in list-style file, attempting to separate pars based on `index_cols` passed - using index_col[0] for third dimension\n",
      "2022-02-21 14:50:39.623222 finished: writing list-style template file 'freyberg6_template\\ghbhead_gr_inst0_grid.csv.tpl' took: 0:00:00.019946\n",
      "2022-02-21 14:50:39.628209 finished: adding grid type a style parameters for file(s) ['freyberg6.ghb_stress_period_data_1.txt'] took: 0:00:00.028923\n",
      "2022-02-21 14:50:39.628209 starting: adding constant type a style parameters for file(s) ['freyberg6.ghb_stress_period_data_1.txt']\n",
      "2022-02-21 14:50:39.628209 WARNING: 0) Inconsistency between geostruct transform and partrans.\n",
      "2022-02-21 14:50:39.629208 WARNING: 1) Setting geostruct transform to {transform}\n",
      "2022-02-21 14:50:39.629208 WARNING: 2) This will create a new copy of geostruct\n",
      "2022-02-21 14:50:39.629208 WARNING: -) Better to pass an appropriately transformed geostruct\n",
      "2022-02-21 14:50:39.629208 starting: loading list-style freyberg6_template\\freyberg6.ghb_stress_period_data_1.txt\n",
      "2022-02-21 14:50:39.629208 starting: reading list-style file: freyberg6_template\\freyberg6.ghb_stress_period_data_1.txt\n",
      "2022-02-21 14:50:39.631201 finished: reading list-style file: freyberg6_template\\freyberg6.ghb_stress_period_data_1.txt took: 0:00:00.001993\n",
      "2022-02-21 14:50:39.631201 loaded list-style 'freyberg6_template\\freyberg6.ghb_stress_period_data_1.txt' of shape (30, 5)\n",
      "2022-02-21 14:50:39.632198 finished: loading list-style freyberg6_template\\freyberg6.ghb_stress_period_data_1.txt took: 0:00:00.002990\n",
      "2022-02-21 14:50:39.632198 starting: writing list-style template file 'freyberg6_template\\ghbhead_cn_inst0_constant.csv.tpl'\n",
      "2022-02-21 14:50:39.646161 finished: writing list-style template file 'freyberg6_template\\ghbhead_cn_inst0_constant.csv.tpl' took: 0:00:00.013963\n",
      "2022-02-21 14:50:39.651148 finished: adding constant type a style parameters for file(s) ['freyberg6.ghb_stress_period_data_1.txt'] took: 0:00:00.022939\n"
     ]
    }
   ],
   "source": [
    "tag = \"ghb_stress_period_data\"\n",
    "files = [f for f in os.listdir(template_ws) if tag in f.lower() and f.endswith(\".txt\")]\n",
    "\n",
    "for f in files:\n",
    "    # constant and grid scale multiplier conductance parameters\n",
    "    name = 'ghbcond'\n",
    "    pf.add_parameters(f,\n",
    "                        par_type=\"grid\",\n",
    "                        geostruct=grid_gs,\n",
    "                        par_name_base=name+\"_gr\",\n",
    "                        pargp=name+\"_gr\",\n",
    "                        index_cols=[0,1,2], #column containing lay,row,col\n",
    "                        use_cols=[4], #column containing conductance values\n",
    "                        lower_bound=0.1,upper_bound=10.0,\n",
    "                        ult_lbound=0.1, ult_ubound=100) #absolute limits\n",
    "    pf.add_parameters(f,\n",
    "                        par_type=\"constant\",\n",
    "                        geostruct=grid_gs,\n",
    "                        par_name_base=name+\"_cn\",\n",
    "                        pargp=name+\"_cn\",\n",
    "                        index_cols=[0,1,2],\n",
    "                        use_cols=[4],  \n",
    "                        lower_bound=0.1,upper_bound=10.0,\n",
    "                        ult_lbound=0.1, ult_ubound=100) #absolute limits\n",
    "\n",
    "    # constant and grid scale additive head parameters\n",
    "    name = 'ghbhead'\n",
    "    pf.add_parameters(f,\n",
    "                        par_type=\"grid\",\n",
    "                        geostruct=grid_gs,\n",
    "                        par_name_base=name+\"_gr\",\n",
    "                        pargp=name+\"_gr\",\n",
    "                        index_cols=[0,1,2],\n",
    "                        use_cols=[3],   # column containing head values\n",
    "                        lower_bound=-2.0,upper_bound=2.0,\n",
    "                        par_style=\"a\", # specify additive parameter\n",
    "                        transform=\"none\", # specify not log-transform\n",
    "                        ult_lbound=32.5, ult_ubound=42) #absolute limits; make sure head is never lower than the bottom of layer1\n",
    "    pf.add_parameters(f,\n",
    "                        par_type=\"constant\",\n",
    "                        geostruct=grid_gs,\n",
    "                        par_name_base=name+\"_cn\",\n",
    "                        pargp=name+\"_cn\",\n",
    "                        index_cols=[0,1,2],\n",
    "                        use_cols=[3],\n",
    "                        lower_bound=-2.0,upper_bound=2.0, \n",
    "                        par_style=\"a\", \n",
    "                        transform=\"none\",\n",
    "                        ult_lbound=32.5, ult_ubound=42) "
   ]
  },
  {
   "cell_type": "markdown",
   "metadata": {},
   "source": [
    "Easy peasy.\n",
    "\n",
    "Now this will make some people uncomfortable but how well do we really ever know historic water use flux rates in space and in time? hmmm, not really! So lets add parameters to represent that uncertainty in the model inputs.\n",
    "\n",
    "For wells it may not (or it may...) make sense to include spatial correlation. Here we will assume temporal correlation - its reasonable that pumping rates today will be similar to pumping rates yesterday. \n",
    "\n",
    "Pumping rates for different stress periods are in separate files. We will call `.add_parameters()` for each file. But we want to specify correlation between parameters in different files. As explained above for recharge, we do this with the parameter group name.\n",
    "\n",
    "OK, let's get started.\n"
   ]
  },
  {
   "cell_type": "markdown",
   "metadata": {},
   "source": [
    "As discussed above, including temporal correlation introduces an additional challenge. We use the same approach described for recharge parmaeters:\n",
    "\n",
    "First, we will asign a `constant` multiplier parameter for each WEL stress-period file (so, a single multiplier for all well pumping rates for each stress period). We will specify temporal correlation for these `constant` multipliers.\n",
    "\n",
    "Then, we will also have `grid` type multiplier parameters for each WEL stress period file (so, multipliers for individual well pumping rate during each stress period). These will not include correlation. (We could in principle include spatial correlation here if we wanted to; but let's not)."
   ]
  },
  {
   "cell_type": "code",
   "execution_count": 31,
   "metadata": {
    "execution": {
     "iopub.execute_input": "2022-02-21T04:20:39.661121Z",
     "iopub.status.busy": "2022-02-21T04:20:39.661121Z",
     "iopub.status.idle": "2022-02-21T04:20:40.964088Z",
     "shell.execute_reply": "2022-02-21T04:20:40.964088Z"
    }
   },
   "outputs": [
    {
     "name": "stdout",
     "output_type": "stream",
     "text": [
      "2022-02-21 14:50:39.662118 starting: adding constant type m style parameters for file(s) ['freyberg6.wel_stress_period_data_1.txt']\n",
      "2022-02-21 14:50:39.662118 starting: loading list-style freyberg6_template\\freyberg6.wel_stress_period_data_1.txt\n",
      "2022-02-21 14:50:39.662118 starting: reading list-style file: freyberg6_template\\freyberg6.wel_stress_period_data_1.txt\n",
      "2022-02-21 14:50:39.664113 finished: reading list-style file: freyberg6_template\\freyberg6.wel_stress_period_data_1.txt took: 0:00:00.001995\n",
      "2022-02-21 14:50:39.664113 loaded list-style 'freyberg6_template\\freyberg6.wel_stress_period_data_1.txt' of shape (6, 4)\n",
      "2022-02-21 14:50:39.666108 finished: loading list-style freyberg6_template\\freyberg6.wel_stress_period_data_1.txt took: 0:00:00.003990\n",
      "2022-02-21 14:50:39.666108 starting: writing list-style template file 'freyberg6_template\\wel_cst_inst0_constant.csv.tpl'\n",
      "2022-02-21 14:50:39.679073 finished: writing list-style template file 'freyberg6_template\\wel_cst_inst0_constant.csv.tpl' took: 0:00:00.012965\n",
      "2022-02-21 14:50:39.687561 finished: adding constant type m style parameters for file(s) ['freyberg6.wel_stress_period_data_1.txt'] took: 0:00:00.025443\n",
      "2022-02-21 14:50:39.687561 starting: adding grid type m style parameters for file(s) ['freyberg6.wel_stress_period_data_1.txt']\n",
      "2022-02-21 14:50:39.687561 starting: loading list-style freyberg6_template\\freyberg6.wel_stress_period_data_1.txt\n",
      "2022-02-21 14:50:39.688558 starting: reading list-style file: freyberg6_template\\freyberg6.wel_stress_period_data_1.txt\n",
      "2022-02-21 14:50:39.689556 finished: reading list-style file: freyberg6_template\\freyberg6.wel_stress_period_data_1.txt took: 0:00:00.000998\n",
      "2022-02-21 14:50:39.689556 loaded list-style 'freyberg6_template\\freyberg6.wel_stress_period_data_1.txt' of shape (6, 4)\n",
      "2022-02-21 14:50:39.690553 finished: loading list-style freyberg6_template\\freyberg6.wel_stress_period_data_1.txt took: 0:00:00.002992\n",
      "2022-02-21 14:50:39.690553 starting: writing list-style template file 'freyberg6_template\\wel_grd_inst0_grid.csv.tpl'\n",
      "2022-02-21 14:50:39.704516 finished: writing list-style template file 'freyberg6_template\\wel_grd_inst0_grid.csv.tpl' took: 0:00:00.013963\n",
      "2022-02-21 14:50:39.712496 finished: adding grid type m style parameters for file(s) ['freyberg6.wel_stress_period_data_1.txt'] took: 0:00:00.024935\n"
     ]
    },
    {
     "name": "stdout",
     "output_type": "stream",
     "text": [
      "2022-02-21 14:50:39.713493 starting: adding constant type m style parameters for file(s) ['freyberg6.wel_stress_period_data_10.txt']\n",
      "2022-02-21 14:50:39.713493 starting: loading list-style freyberg6_template\\freyberg6.wel_stress_period_data_10.txt\n",
      "2022-02-21 14:50:39.713493 starting: reading list-style file: freyberg6_template\\freyberg6.wel_stress_period_data_10.txt\n",
      "2022-02-21 14:50:39.716485 finished: reading list-style file: freyberg6_template\\freyberg6.wel_stress_period_data_10.txt took: 0:00:00.002992\n",
      "2022-02-21 14:50:39.716485 loaded list-style 'freyberg6_template\\freyberg6.wel_stress_period_data_10.txt' of shape (6, 4)\n",
      "2022-02-21 14:50:39.717482 finished: loading list-style freyberg6_template\\freyberg6.wel_stress_period_data_10.txt took: 0:00:00.003989\n",
      "2022-02-21 14:50:39.717482 starting: writing list-style template file 'freyberg6_template\\wel_cst_inst1_constant.csv.tpl'\n",
      "2022-02-21 14:50:39.731444 finished: writing list-style template file 'freyberg6_template\\wel_cst_inst1_constant.csv.tpl' took: 0:00:00.013962\n",
      "2022-02-21 14:50:39.739423 finished: adding constant type m style parameters for file(s) ['freyberg6.wel_stress_period_data_10.txt'] took: 0:00:00.025930\n"
     ]
    },
    {
     "name": "stdout",
     "output_type": "stream",
     "text": [
      "2022-02-21 14:50:39.739423 starting: adding grid type m style parameters for file(s) ['freyberg6.wel_stress_period_data_10.txt']\n",
      "2022-02-21 14:50:39.739423 starting: loading list-style freyberg6_template\\freyberg6.wel_stress_period_data_10.txt\n",
      "2022-02-21 14:50:39.740420 starting: reading list-style file: freyberg6_template\\freyberg6.wel_stress_period_data_10.txt\n",
      "2022-02-21 14:50:39.741417 finished: reading list-style file: freyberg6_template\\freyberg6.wel_stress_period_data_10.txt took: 0:00:00.000997\n",
      "2022-02-21 14:50:39.741417 loaded list-style 'freyberg6_template\\freyberg6.wel_stress_period_data_10.txt' of shape (6, 4)\n",
      "2022-02-21 14:50:39.742415 finished: loading list-style freyberg6_template\\freyberg6.wel_stress_period_data_10.txt took: 0:00:00.002992\n",
      "2022-02-21 14:50:39.742415 starting: writing list-style template file 'freyberg6_template\\wel_grd_inst1_grid.csv.tpl'\n"
     ]
    },
    {
     "name": "stdout",
     "output_type": "stream",
     "text": [
      "2022-02-21 14:50:39.756378 finished: writing list-style template file 'freyberg6_template\\wel_grd_inst1_grid.csv.tpl' took: 0:00:00.013963\n",
      "2022-02-21 14:50:39.764356 finished: adding grid type m style parameters for file(s) ['freyberg6.wel_stress_period_data_10.txt'] took: 0:00:00.024933\n",
      "2022-02-21 14:50:39.764356 starting: adding constant type m style parameters for file(s) ['freyberg6.wel_stress_period_data_11.txt']\n",
      "2022-02-21 14:50:39.764356 starting: loading list-style freyberg6_template\\freyberg6.wel_stress_period_data_11.txt\n",
      "2022-02-21 14:50:39.764356 starting: reading list-style file: freyberg6_template\\freyberg6.wel_stress_period_data_11.txt\n",
      "2022-02-21 14:50:39.766351 finished: reading list-style file: freyberg6_template\\freyberg6.wel_stress_period_data_11.txt took: 0:00:00.001995\n",
      "2022-02-21 14:50:39.767348 loaded list-style 'freyberg6_template\\freyberg6.wel_stress_period_data_11.txt' of shape (6, 4)\n",
      "2022-02-21 14:50:39.767348 finished: loading list-style freyberg6_template\\freyberg6.wel_stress_period_data_11.txt took: 0:00:00.002992\n",
      "2022-02-21 14:50:39.767348 starting: writing list-style template file 'freyberg6_template\\wel_cst_inst2_constant.csv.tpl'\n",
      "2022-02-21 14:50:39.780314 finished: writing list-style template file 'freyberg6_template\\wel_cst_inst2_constant.csv.tpl' took: 0:00:00.012966\n",
      "2022-02-21 14:50:39.788802 finished: adding constant type m style parameters for file(s) ['freyberg6.wel_stress_period_data_11.txt'] took: 0:00:00.024446\n",
      "2022-02-21 14:50:39.788802 starting: adding grid type m style parameters for file(s) ['freyberg6.wel_stress_period_data_11.txt']\n",
      "2022-02-21 14:50:39.788802 starting: loading list-style freyberg6_template\\freyberg6.wel_stress_period_data_11.txt\n",
      "2022-02-21 14:50:39.789799 starting: reading list-style file: freyberg6_template\\freyberg6.wel_stress_period_data_11.txt\n",
      "2022-02-21 14:50:39.790797 finished: reading list-style file: freyberg6_template\\freyberg6.wel_stress_period_data_11.txt took: 0:00:00.000998\n",
      "2022-02-21 14:50:39.790797 loaded list-style 'freyberg6_template\\freyberg6.wel_stress_period_data_11.txt' of shape (6, 4)\n",
      "2022-02-21 14:50:39.791794 finished: loading list-style freyberg6_template\\freyberg6.wel_stress_period_data_11.txt took: 0:00:00.002992\n",
      "2022-02-21 14:50:39.791794 starting: writing list-style template file 'freyberg6_template\\wel_grd_inst2_grid.csv.tpl'\n",
      "2022-02-21 14:50:39.804760 finished: writing list-style template file 'freyberg6_template\\wel_grd_inst2_grid.csv.tpl' took: 0:00:00.012966\n",
      "2022-02-21 14:50:39.812738 finished: adding grid type m style parameters for file(s) ['freyberg6.wel_stress_period_data_11.txt'] took: 0:00:00.023936\n",
      "2022-02-21 14:50:39.813735 starting: adding constant type m style parameters for file(s) ['freyberg6.wel_stress_period_data_12.txt']\n",
      "2022-02-21 14:50:39.813735 starting: loading list-style freyberg6_template\\freyberg6.wel_stress_period_data_12.txt\n",
      "2022-02-21 14:50:39.813735 starting: reading list-style file: freyberg6_template\\freyberg6.wel_stress_period_data_12.txt\n",
      "2022-02-21 14:50:39.815731 finished: reading list-style file: freyberg6_template\\freyberg6.wel_stress_period_data_12.txt took: 0:00:00.001996\n",
      "2022-02-21 14:50:39.815731 loaded list-style 'freyberg6_template\\freyberg6.wel_stress_period_data_12.txt' of shape (6, 4)\n",
      "2022-02-21 14:50:39.816728 finished: loading list-style freyberg6_template\\freyberg6.wel_stress_period_data_12.txt took: 0:00:00.002993\n",
      "2022-02-21 14:50:39.816728 starting: writing list-style template file 'freyberg6_template\\wel_cst_inst3_constant.csv.tpl'\n",
      "2022-02-21 14:50:39.829693 finished: writing list-style template file 'freyberg6_template\\wel_cst_inst3_constant.csv.tpl' took: 0:00:00.012965\n",
      "2022-02-21 14:50:39.837672 finished: adding constant type m style parameters for file(s) ['freyberg6.wel_stress_period_data_12.txt'] took: 0:00:00.023937\n"
     ]
    },
    {
     "name": "stdout",
     "output_type": "stream",
     "text": [
      "2022-02-21 14:50:39.837672 starting: adding grid type m style parameters for file(s) ['freyberg6.wel_stress_period_data_12.txt']\n",
      "2022-02-21 14:50:39.838670 starting: loading list-style freyberg6_template\\freyberg6.wel_stress_period_data_12.txt\n",
      "2022-02-21 14:50:39.838670 starting: reading list-style file: freyberg6_template\\freyberg6.wel_stress_period_data_12.txt\n",
      "2022-02-21 14:50:39.839667 finished: reading list-style file: freyberg6_template\\freyberg6.wel_stress_period_data_12.txt took: 0:00:00.000997\n",
      "2022-02-21 14:50:39.840664 loaded list-style 'freyberg6_template\\freyberg6.wel_stress_period_data_12.txt' of shape (6, 4)\n",
      "2022-02-21 14:50:39.840664 finished: loading list-style freyberg6_template\\freyberg6.wel_stress_period_data_12.txt took: 0:00:00.001994\n",
      "2022-02-21 14:50:39.840664 starting: writing list-style template file 'freyberg6_template\\wel_grd_inst3_grid.csv.tpl'\n",
      "2022-02-21 14:50:39.854626 finished: writing list-style template file 'freyberg6_template\\wel_grd_inst3_grid.csv.tpl' took: 0:00:00.013962\n",
      "2022-02-21 14:50:39.862605 finished: adding grid type m style parameters for file(s) ['freyberg6.wel_stress_period_data_12.txt'] took: 0:00:00.024933\n",
      "2022-02-21 14:50:39.862605 starting: adding constant type m style parameters for file(s) ['freyberg6.wel_stress_period_data_13.txt']\n",
      "2022-02-21 14:50:39.862605 starting: loading list-style freyberg6_template\\freyberg6.wel_stress_period_data_13.txt\n",
      "2022-02-21 14:50:39.862605 starting: reading list-style file: freyberg6_template\\freyberg6.wel_stress_period_data_13.txt\n",
      "2022-02-21 14:50:39.864600 finished: reading list-style file: freyberg6_template\\freyberg6.wel_stress_period_data_13.txt took: 0:00:00.001995\n",
      "2022-02-21 14:50:39.864600 loaded list-style 'freyberg6_template\\freyberg6.wel_stress_period_data_13.txt' of shape (6, 4)\n",
      "2022-02-21 14:50:39.865597 finished: loading list-style freyberg6_template\\freyberg6.wel_stress_period_data_13.txt took: 0:00:00.002992\n",
      "2022-02-21 14:50:39.865597 starting: writing list-style template file 'freyberg6_template\\wel_cst_inst4_constant.csv.tpl'\n",
      "2022-02-21 14:50:39.879560 finished: writing list-style template file 'freyberg6_template\\wel_cst_inst4_constant.csv.tpl' took: 0:00:00.013963\n",
      "2022-02-21 14:50:39.887538 finished: adding constant type m style parameters for file(s) ['freyberg6.wel_stress_period_data_13.txt'] took: 0:00:00.024933\n",
      "2022-02-21 14:50:39.887538 starting: adding grid type m style parameters for file(s) ['freyberg6.wel_stress_period_data_13.txt']\n",
      "2022-02-21 14:50:39.887538 starting: loading list-style freyberg6_template\\freyberg6.wel_stress_period_data_13.txt\n",
      "2022-02-21 14:50:39.888535 starting: reading list-style file: freyberg6_template\\freyberg6.wel_stress_period_data_13.txt\n",
      "2022-02-21 14:50:39.889533 finished: reading list-style file: freyberg6_template\\freyberg6.wel_stress_period_data_13.txt took: 0:00:00.000998\n",
      "2022-02-21 14:50:39.889533 loaded list-style 'freyberg6_template\\freyberg6.wel_stress_period_data_13.txt' of shape (6, 4)\n",
      "2022-02-21 14:50:39.890530 finished: loading list-style freyberg6_template\\freyberg6.wel_stress_period_data_13.txt took: 0:00:00.002992\n",
      "2022-02-21 14:50:39.890530 starting: writing list-style template file 'freyberg6_template\\wel_grd_inst4_grid.csv.tpl'\n",
      "2022-02-21 14:50:39.903496 finished: writing list-style template file 'freyberg6_template\\wel_grd_inst4_grid.csv.tpl' took: 0:00:00.012966\n"
     ]
    },
    {
     "name": "stdout",
     "output_type": "stream",
     "text": [
      "2022-02-21 14:50:39.912471 finished: adding grid type m style parameters for file(s) ['freyberg6.wel_stress_period_data_13.txt'] took: 0:00:00.024933\n",
      "2022-02-21 14:50:39.912471 starting: adding constant type m style parameters for file(s) ['freyberg6.wel_stress_period_data_14.txt']\n",
      "2022-02-21 14:50:39.912471 starting: loading list-style freyberg6_template\\freyberg6.wel_stress_period_data_14.txt\n",
      "2022-02-21 14:50:39.912471 starting: reading list-style file: freyberg6_template\\freyberg6.wel_stress_period_data_14.txt\n",
      "2022-02-21 14:50:39.914466 finished: reading list-style file: freyberg6_template\\freyberg6.wel_stress_period_data_14.txt took: 0:00:00.001995\n",
      "2022-02-21 14:50:39.914466 loaded list-style 'freyberg6_template\\freyberg6.wel_stress_period_data_14.txt' of shape (6, 4)\n"
     ]
    },
    {
     "name": "stdout",
     "output_type": "stream",
     "text": [
      "2022-02-21 14:50:39.916461 finished: loading list-style freyberg6_template\\freyberg6.wel_stress_period_data_14.txt took: 0:00:00.003990\n",
      "2022-02-21 14:50:39.916461 starting: writing list-style template file 'freyberg6_template\\wel_cst_inst5_constant.csv.tpl'\n",
      "2022-02-21 14:50:39.929427 finished: writing list-style template file 'freyberg6_template\\wel_cst_inst5_constant.csv.tpl' took: 0:00:00.012966\n"
     ]
    },
    {
     "name": "stdout",
     "output_type": "stream",
     "text": [
      "2022-02-21 14:50:39.937405 finished: adding constant type m style parameters for file(s) ['freyberg6.wel_stress_period_data_14.txt'] took: 0:00:00.024934\n",
      "2022-02-21 14:50:39.937405 starting: adding grid type m style parameters for file(s) ['freyberg6.wel_stress_period_data_14.txt']\n",
      "2022-02-21 14:50:39.938402 starting: loading list-style freyberg6_template\\freyberg6.wel_stress_period_data_14.txt\n",
      "2022-02-21 14:50:39.938402 starting: reading list-style file: freyberg6_template\\freyberg6.wel_stress_period_data_14.txt\n",
      "2022-02-21 14:50:39.939400 finished: reading list-style file: freyberg6_template\\freyberg6.wel_stress_period_data_14.txt took: 0:00:00.000998\n",
      "2022-02-21 14:50:39.939400 loaded list-style 'freyberg6_template\\freyberg6.wel_stress_period_data_14.txt' of shape (6, 4)\n",
      "2022-02-21 14:50:39.940397 finished: loading list-style freyberg6_template\\freyberg6.wel_stress_period_data_14.txt took: 0:00:00.001995\n",
      "2022-02-21 14:50:39.940397 starting: writing list-style template file 'freyberg6_template\\wel_grd_inst5_grid.csv.tpl'\n",
      "2022-02-21 14:50:39.954360 finished: writing list-style template file 'freyberg6_template\\wel_grd_inst5_grid.csv.tpl' took: 0:00:00.013963\n",
      "2022-02-21 14:50:39.962338 finished: adding grid type m style parameters for file(s) ['freyberg6.wel_stress_period_data_14.txt'] took: 0:00:00.024933\n",
      "2022-02-21 14:50:39.962338 starting: adding constant type m style parameters for file(s) ['freyberg6.wel_stress_period_data_15.txt']\n",
      "2022-02-21 14:50:39.962338 starting: loading list-style freyberg6_template\\freyberg6.wel_stress_period_data_15.txt\n",
      "2022-02-21 14:50:39.963335 starting: reading list-style file: freyberg6_template\\freyberg6.wel_stress_period_data_15.txt\n",
      "2022-02-21 14:50:39.965329 finished: reading list-style file: freyberg6_template\\freyberg6.wel_stress_period_data_15.txt took: 0:00:00.001994\n",
      "2022-02-21 14:50:39.965329 loaded list-style 'freyberg6_template\\freyberg6.wel_stress_period_data_15.txt' of shape (6, 4)\n",
      "2022-02-21 14:50:39.966327 finished: loading list-style freyberg6_template\\freyberg6.wel_stress_period_data_15.txt took: 0:00:00.003989\n",
      "2022-02-21 14:50:39.966327 starting: writing list-style template file 'freyberg6_template\\wel_cst_inst6_constant.csv.tpl'\n",
      "2022-02-21 14:50:39.979293 finished: writing list-style template file 'freyberg6_template\\wel_cst_inst6_constant.csv.tpl' took: 0:00:00.012966\n",
      "2022-02-21 14:50:39.988269 finished: adding constant type m style parameters for file(s) ['freyberg6.wel_stress_period_data_15.txt'] took: 0:00:00.025931\n",
      "2022-02-21 14:50:39.989266 starting: adding grid type m style parameters for file(s) ['freyberg6.wel_stress_period_data_15.txt']\n",
      "2022-02-21 14:50:39.989266 starting: loading list-style freyberg6_template\\freyberg6.wel_stress_period_data_15.txt\n",
      "2022-02-21 14:50:39.989266 starting: reading list-style file: freyberg6_template\\freyberg6.wel_stress_period_data_15.txt\n",
      "2022-02-21 14:50:39.990263 finished: reading list-style file: freyberg6_template\\freyberg6.wel_stress_period_data_15.txt took: 0:00:00.000997\n",
      "2022-02-21 14:50:39.991260 loaded list-style 'freyberg6_template\\freyberg6.wel_stress_period_data_15.txt' of shape (6, 4)\n",
      "2022-02-21 14:50:39.992258 finished: loading list-style freyberg6_template\\freyberg6.wel_stress_period_data_15.txt took: 0:00:00.002992\n",
      "2022-02-21 14:50:39.992258 starting: writing list-style template file 'freyberg6_template\\wel_grd_inst6_grid.csv.tpl'\n",
      "2022-02-21 14:50:40.006220 finished: writing list-style template file 'freyberg6_template\\wel_grd_inst6_grid.csv.tpl' took: 0:00:00.013962\n",
      "2022-02-21 14:50:40.014199 finished: adding grid type m style parameters for file(s) ['freyberg6.wel_stress_period_data_15.txt'] took: 0:00:00.024933\n",
      "2022-02-21 14:50:40.015197 starting: adding constant type m style parameters for file(s) ['freyberg6.wel_stress_period_data_16.txt']\n",
      "2022-02-21 14:50:40.015197 starting: loading list-style freyberg6_template\\freyberg6.wel_stress_period_data_16.txt\n",
      "2022-02-21 14:50:40.015197 starting: reading list-style file: freyberg6_template\\freyberg6.wel_stress_period_data_16.txt\n",
      "2022-02-21 14:50:40.017191 finished: reading list-style file: freyberg6_template\\freyberg6.wel_stress_period_data_16.txt took: 0:00:00.001994\n",
      "2022-02-21 14:50:40.017191 loaded list-style 'freyberg6_template\\freyberg6.wel_stress_period_data_16.txt' of shape (6, 4)\n",
      "2022-02-21 14:50:40.018190 finished: loading list-style freyberg6_template\\freyberg6.wel_stress_period_data_16.txt took: 0:00:00.002993\n",
      "2022-02-21 14:50:40.018190 starting: writing list-style template file 'freyberg6_template\\wel_cst_inst7_constant.csv.tpl'\n"
     ]
    },
    {
     "name": "stdout",
     "output_type": "stream",
     "text": [
      "2022-02-21 14:50:40.031154 finished: writing list-style template file 'freyberg6_template\\wel_cst_inst7_constant.csv.tpl' took: 0:00:00.012964\n",
      "2022-02-21 14:50:40.040130 finished: adding constant type m style parameters for file(s) ['freyberg6.wel_stress_period_data_16.txt'] took: 0:00:00.024933\n",
      "2022-02-21 14:50:40.040130 starting: adding grid type m style parameters for file(s) ['freyberg6.wel_stress_period_data_16.txt']\n",
      "2022-02-21 14:50:40.040130 starting: loading list-style freyberg6_template\\freyberg6.wel_stress_period_data_16.txt\n",
      "2022-02-21 14:50:40.040130 starting: reading list-style file: freyberg6_template\\freyberg6.wel_stress_period_data_16.txt\n",
      "2022-02-21 14:50:40.042125 finished: reading list-style file: freyberg6_template\\freyberg6.wel_stress_period_data_16.txt took: 0:00:00.001995\n",
      "2022-02-21 14:50:40.042125 loaded list-style 'freyberg6_template\\freyberg6.wel_stress_period_data_16.txt' of shape (6, 4)\n",
      "2022-02-21 14:50:40.043122 finished: loading list-style freyberg6_template\\freyberg6.wel_stress_period_data_16.txt took: 0:00:00.002992\n",
      "2022-02-21 14:50:40.043122 starting: writing list-style template file 'freyberg6_template\\wel_grd_inst7_grid.csv.tpl'\n",
      "2022-02-21 14:50:40.056088 finished: writing list-style template file 'freyberg6_template\\wel_grd_inst7_grid.csv.tpl' took: 0:00:00.012966\n",
      "2022-02-21 14:50:40.064066 finished: adding grid type m style parameters for file(s) ['freyberg6.wel_stress_period_data_16.txt'] took: 0:00:00.023936\n",
      "2022-02-21 14:50:40.065063 starting: adding constant type m style parameters for file(s) ['freyberg6.wel_stress_period_data_17.txt']\n",
      "2022-02-21 14:50:40.065063 starting: loading list-style freyberg6_template\\freyberg6.wel_stress_period_data_17.txt\n",
      "2022-02-21 14:50:40.065063 starting: reading list-style file: freyberg6_template\\freyberg6.wel_stress_period_data_17.txt\n",
      "2022-02-21 14:50:40.067058 finished: reading list-style file: freyberg6_template\\freyberg6.wel_stress_period_data_17.txt took: 0:00:00.001995\n",
      "2022-02-21 14:50:40.067058 loaded list-style 'freyberg6_template\\freyberg6.wel_stress_period_data_17.txt' of shape (6, 4)\n",
      "2022-02-21 14:50:40.068054 finished: loading list-style freyberg6_template\\freyberg6.wel_stress_period_data_17.txt took: 0:00:00.002991\n",
      "2022-02-21 14:50:40.069052 starting: writing list-style template file 'freyberg6_template\\wel_cst_inst8_constant.csv.tpl'\n",
      "2022-02-21 14:50:40.082018 finished: writing list-style template file 'freyberg6_template\\wel_cst_inst8_constant.csv.tpl' took: 0:00:00.012966\n",
      "2022-02-21 14:50:40.089997 finished: adding constant type m style parameters for file(s) ['freyberg6.wel_stress_period_data_17.txt'] took: 0:00:00.024934\n"
     ]
    },
    {
     "name": "stdout",
     "output_type": "stream",
     "text": [
      "2022-02-21 14:50:40.090993 starting: adding grid type m style parameters for file(s) ['freyberg6.wel_stress_period_data_17.txt']\n",
      "2022-02-21 14:50:40.090993 starting: loading list-style freyberg6_template\\freyberg6.wel_stress_period_data_17.txt\n",
      "2022-02-21 14:50:40.090993 starting: reading list-style file: freyberg6_template\\freyberg6.wel_stress_period_data_17.txt\n",
      "2022-02-21 14:50:40.091991 finished: reading list-style file: freyberg6_template\\freyberg6.wel_stress_period_data_17.txt took: 0:00:00.000998\n",
      "2022-02-21 14:50:40.092989 loaded list-style 'freyberg6_template\\freyberg6.wel_stress_period_data_17.txt' of shape (6, 4)\n",
      "2022-02-21 14:50:40.093986 finished: loading list-style freyberg6_template\\freyberg6.wel_stress_period_data_17.txt took: 0:00:00.002993\n",
      "2022-02-21 14:50:40.093986 starting: writing list-style template file 'freyberg6_template\\wel_grd_inst8_grid.csv.tpl'\n"
     ]
    },
    {
     "name": "stdout",
     "output_type": "stream",
     "text": [
      "2022-02-21 14:50:40.108945 finished: writing list-style template file 'freyberg6_template\\wel_grd_inst8_grid.csv.tpl' took: 0:00:00.014959\n",
      "2022-02-21 14:50:40.117922 finished: adding grid type m style parameters for file(s) ['freyberg6.wel_stress_period_data_17.txt'] took: 0:00:00.026929\n"
     ]
    },
    {
     "name": "stdout",
     "output_type": "stream",
     "text": [
      "2022-02-21 14:50:40.117922 starting: adding constant type m style parameters for file(s) ['freyberg6.wel_stress_period_data_18.txt']\n",
      "2022-02-21 14:50:40.117922 starting: loading list-style freyberg6_template\\freyberg6.wel_stress_period_data_18.txt\n",
      "2022-02-21 14:50:40.118918 starting: reading list-style file: freyberg6_template\\freyberg6.wel_stress_period_data_18.txt\n",
      "2022-02-21 14:50:40.120915 finished: reading list-style file: freyberg6_template\\freyberg6.wel_stress_period_data_18.txt took: 0:00:00.001997\n",
      "2022-02-21 14:50:40.120915 loaded list-style 'freyberg6_template\\freyberg6.wel_stress_period_data_18.txt' of shape (6, 4)\n",
      "2022-02-21 14:50:40.121912 finished: loading list-style freyberg6_template\\freyberg6.wel_stress_period_data_18.txt took: 0:00:00.003990\n",
      "2022-02-21 14:50:40.121912 starting: writing list-style template file 'freyberg6_template\\wel_cst_inst9_constant.csv.tpl'\n",
      "2022-02-21 14:50:40.135875 finished: writing list-style template file 'freyberg6_template\\wel_cst_inst9_constant.csv.tpl' took: 0:00:00.013963\n",
      "2022-02-21 14:50:40.145850 finished: adding constant type m style parameters for file(s) ['freyberg6.wel_stress_period_data_18.txt'] took: 0:00:00.027928\n",
      "2022-02-21 14:50:40.145850 starting: adding grid type m style parameters for file(s) ['freyberg6.wel_stress_period_data_18.txt']\n",
      "2022-02-21 14:50:40.146845 starting: loading list-style freyberg6_template\\freyberg6.wel_stress_period_data_18.txt\n",
      "2022-02-21 14:50:40.146845 starting: reading list-style file: freyberg6_template\\freyberg6.wel_stress_period_data_18.txt\n",
      "2022-02-21 14:50:40.147843 finished: reading list-style file: freyberg6_template\\freyberg6.wel_stress_period_data_18.txt took: 0:00:00.000998\n",
      "2022-02-21 14:50:40.148839 loaded list-style 'freyberg6_template\\freyberg6.wel_stress_period_data_18.txt' of shape (6, 4)\n",
      "2022-02-21 14:50:40.148839 finished: loading list-style freyberg6_template\\freyberg6.wel_stress_period_data_18.txt took: 0:00:00.001994\n",
      "2022-02-21 14:50:40.149838 starting: writing list-style template file 'freyberg6_template\\wel_grd_inst9_grid.csv.tpl'\n",
      "2022-02-21 14:50:40.164798 finished: writing list-style template file 'freyberg6_template\\wel_grd_inst9_grid.csv.tpl' took: 0:00:00.014960\n",
      "2022-02-21 14:50:40.173773 finished: adding grid type m style parameters for file(s) ['freyberg6.wel_stress_period_data_18.txt'] took: 0:00:00.027923\n",
      "2022-02-21 14:50:40.174770 starting: adding constant type m style parameters for file(s) ['freyberg6.wel_stress_period_data_19.txt']\n",
      "2022-02-21 14:50:40.174770 starting: loading list-style freyberg6_template\\freyberg6.wel_stress_period_data_19.txt\n",
      "2022-02-21 14:50:40.174770 starting: reading list-style file: freyberg6_template\\freyberg6.wel_stress_period_data_19.txt\n",
      "2022-02-21 14:50:40.176765 finished: reading list-style file: freyberg6_template\\freyberg6.wel_stress_period_data_19.txt took: 0:00:00.001995\n",
      "2022-02-21 14:50:40.177762 loaded list-style 'freyberg6_template\\freyberg6.wel_stress_period_data_19.txt' of shape (6, 4)\n",
      "2022-02-21 14:50:40.178760 finished: loading list-style freyberg6_template\\freyberg6.wel_stress_period_data_19.txt took: 0:00:00.003990\n",
      "2022-02-21 14:50:40.178760 starting: writing list-style template file 'freyberg6_template\\wel_cst_inst10_constant.csv.tpl'\n",
      "2022-02-21 14:50:40.191726 finished: writing list-style template file 'freyberg6_template\\wel_cst_inst10_constant.csv.tpl' took: 0:00:00.012966\n",
      "2022-02-21 14:50:40.200701 finished: adding constant type m style parameters for file(s) ['freyberg6.wel_stress_period_data_19.txt'] took: 0:00:00.025931\n",
      "2022-02-21 14:50:40.201698 starting: adding grid type m style parameters for file(s) ['freyberg6.wel_stress_period_data_19.txt']\n",
      "2022-02-21 14:50:40.201698 starting: loading list-style freyberg6_template\\freyberg6.wel_stress_period_data_19.txt\n",
      "2022-02-21 14:50:40.201698 starting: reading list-style file: freyberg6_template\\freyberg6.wel_stress_period_data_19.txt\n",
      "2022-02-21 14:50:40.203693 finished: reading list-style file: freyberg6_template\\freyberg6.wel_stress_period_data_19.txt took: 0:00:00.001995\n",
      "2022-02-21 14:50:40.203693 loaded list-style 'freyberg6_template\\freyberg6.wel_stress_period_data_19.txt' of shape (6, 4)\n",
      "2022-02-21 14:50:40.203693 finished: loading list-style freyberg6_template\\freyberg6.wel_stress_period_data_19.txt took: 0:00:00.001995\n",
      "2022-02-21 14:50:40.204731 starting: writing list-style template file 'freyberg6_template\\wel_grd_inst10_grid.csv.tpl'\n"
     ]
    },
    {
     "name": "stdout",
     "output_type": "stream",
     "text": [
      "2022-02-21 14:50:40.218653 finished: writing list-style template file 'freyberg6_template\\wel_grd_inst10_grid.csv.tpl' took: 0:00:00.013922\n",
      "2022-02-21 14:50:40.228626 finished: adding grid type m style parameters for file(s) ['freyberg6.wel_stress_period_data_19.txt'] took: 0:00:00.026928\n",
      "2022-02-21 14:50:40.228626 starting: adding constant type m style parameters for file(s) ['freyberg6.wel_stress_period_data_2.txt']\n",
      "2022-02-21 14:50:40.228626 starting: loading list-style freyberg6_template\\freyberg6.wel_stress_period_data_2.txt\n",
      "2022-02-21 14:50:40.229626 starting: reading list-style file: freyberg6_template\\freyberg6.wel_stress_period_data_2.txt\n",
      "2022-02-21 14:50:40.234611 finished: reading list-style file: freyberg6_template\\freyberg6.wel_stress_period_data_2.txt took: 0:00:00.004985\n",
      "2022-02-21 14:50:40.234611 loaded list-style 'freyberg6_template\\freyberg6.wel_stress_period_data_2.txt' of shape (6, 4)\n",
      "2022-02-21 14:50:40.235608 finished: loading list-style freyberg6_template\\freyberg6.wel_stress_period_data_2.txt took: 0:00:00.006982\n",
      "2022-02-21 14:50:40.235608 starting: writing list-style template file 'freyberg6_template\\wel_cst_inst11_constant.csv.tpl'\n",
      "2022-02-21 14:50:40.258545 finished: writing list-style template file 'freyberg6_template\\wel_cst_inst11_constant.csv.tpl' took: 0:00:00.022937\n",
      "2022-02-21 14:50:40.269517 finished: adding constant type m style parameters for file(s) ['freyberg6.wel_stress_period_data_2.txt'] took: 0:00:00.040891\n",
      "2022-02-21 14:50:40.269517 starting: adding grid type m style parameters for file(s) ['freyberg6.wel_stress_period_data_2.txt']\n",
      "2022-02-21 14:50:40.269517 starting: loading list-style freyberg6_template\\freyberg6.wel_stress_period_data_2.txt\n",
      "2022-02-21 14:50:40.270515 starting: reading list-style file: freyberg6_template\\freyberg6.wel_stress_period_data_2.txt\n",
      "2022-02-21 14:50:40.271512 finished: reading list-style file: freyberg6_template\\freyberg6.wel_stress_period_data_2.txt took: 0:00:00.000997\n",
      "2022-02-21 14:50:40.272510 loaded list-style 'freyberg6_template\\freyberg6.wel_stress_period_data_2.txt' of shape (6, 4)\n",
      "2022-02-21 14:50:40.273507 finished: loading list-style freyberg6_template\\freyberg6.wel_stress_period_data_2.txt took: 0:00:00.003990\n",
      "2022-02-21 14:50:40.273507 starting: writing list-style template file 'freyberg6_template\\wel_grd_inst11_grid.csv.tpl'\n"
     ]
    },
    {
     "name": "stdout",
     "output_type": "stream",
     "text": [
      "2022-02-21 14:50:40.289462 finished: writing list-style template file 'freyberg6_template\\wel_grd_inst11_grid.csv.tpl' took: 0:00:00.015955\n"
     ]
    },
    {
     "name": "stdout",
     "output_type": "stream",
     "text": [
      "2022-02-21 14:50:40.299436 finished: adding grid type m style parameters for file(s) ['freyberg6.wel_stress_period_data_2.txt'] took: 0:00:00.029919\n",
      "2022-02-21 14:50:40.299436 starting: adding constant type m style parameters for file(s) ['freyberg6.wel_stress_period_data_20.txt']\n",
      "2022-02-21 14:50:40.299436 starting: loading list-style freyberg6_template\\freyberg6.wel_stress_period_data_20.txt\n",
      "2022-02-21 14:50:40.300434 starting: reading list-style file: freyberg6_template\\freyberg6.wel_stress_period_data_20.txt\n",
      "2022-02-21 14:50:40.302429 finished: reading list-style file: freyberg6_template\\freyberg6.wel_stress_period_data_20.txt took: 0:00:00.001995\n",
      "2022-02-21 14:50:40.302429 loaded list-style 'freyberg6_template\\freyberg6.wel_stress_period_data_20.txt' of shape (6, 4)\n",
      "2022-02-21 14:50:40.303427 finished: loading list-style freyberg6_template\\freyberg6.wel_stress_period_data_20.txt took: 0:00:00.003991\n",
      "2022-02-21 14:50:40.304424 starting: writing list-style template file 'freyberg6_template\\wel_cst_inst12_constant.csv.tpl'\n",
      "2022-02-21 14:50:40.318387 finished: writing list-style template file 'freyberg6_template\\wel_cst_inst12_constant.csv.tpl' took: 0:00:00.013963\n"
     ]
    },
    {
     "name": "stdout",
     "output_type": "stream",
     "text": [
      "2022-02-21 14:50:40.327363 finished: adding constant type m style parameters for file(s) ['freyberg6.wel_stress_period_data_20.txt'] took: 0:00:00.027927\n",
      "2022-02-21 14:50:40.328359 starting: adding grid type m style parameters for file(s) ['freyberg6.wel_stress_period_data_20.txt']\n",
      "2022-02-21 14:50:40.328359 starting: loading list-style freyberg6_template\\freyberg6.wel_stress_period_data_20.txt\n",
      "2022-02-21 14:50:40.328359 starting: reading list-style file: freyberg6_template\\freyberg6.wel_stress_period_data_20.txt\n",
      "2022-02-21 14:50:40.330353 finished: reading list-style file: freyberg6_template\\freyberg6.wel_stress_period_data_20.txt took: 0:00:00.001994\n",
      "2022-02-21 14:50:40.330353 loaded list-style 'freyberg6_template\\freyberg6.wel_stress_period_data_20.txt' of shape (6, 4)\n",
      "2022-02-21 14:50:40.331352 finished: loading list-style freyberg6_template\\freyberg6.wel_stress_period_data_20.txt took: 0:00:00.002993\n",
      "2022-02-21 14:50:40.332349 starting: writing list-style template file 'freyberg6_template\\wel_grd_inst12_grid.csv.tpl'\n",
      "2022-02-21 14:50:40.345314 finished: writing list-style template file 'freyberg6_template\\wel_grd_inst12_grid.csv.tpl' took: 0:00:00.012965\n",
      "2022-02-21 14:50:40.354289 finished: adding grid type m style parameters for file(s) ['freyberg6.wel_stress_period_data_20.txt'] took: 0:00:00.025930\n",
      "2022-02-21 14:50:40.355286 starting: adding constant type m style parameters for file(s) ['freyberg6.wel_stress_period_data_21.txt']\n",
      "2022-02-21 14:50:40.355286 starting: loading list-style freyberg6_template\\freyberg6.wel_stress_period_data_21.txt\n",
      "2022-02-21 14:50:40.355286 starting: reading list-style file: freyberg6_template\\freyberg6.wel_stress_period_data_21.txt\n",
      "2022-02-21 14:50:40.360559 finished: reading list-style file: freyberg6_template\\freyberg6.wel_stress_period_data_21.txt took: 0:00:00.005273\n",
      "2022-02-21 14:50:40.360559 loaded list-style 'freyberg6_template\\freyberg6.wel_stress_period_data_21.txt' of shape (6, 4)\n",
      "2022-02-21 14:50:40.361557 finished: loading list-style freyberg6_template\\freyberg6.wel_stress_period_data_21.txt took: 0:00:00.006271\n",
      "2022-02-21 14:50:40.361557 starting: writing list-style template file 'freyberg6_template\\wel_cst_inst13_constant.csv.tpl'\n",
      "2022-02-21 14:50:40.374470 finished: writing list-style template file 'freyberg6_template\\wel_cst_inst13_constant.csv.tpl' took: 0:00:00.012913\n",
      "2022-02-21 14:50:40.382449 finished: adding constant type m style parameters for file(s) ['freyberg6.wel_stress_period_data_21.txt'] took: 0:00:00.027163\n",
      "2022-02-21 14:50:40.383446 starting: adding grid type m style parameters for file(s) ['freyberg6.wel_stress_period_data_21.txt']\n",
      "2022-02-21 14:50:40.383446 starting: loading list-style freyberg6_template\\freyberg6.wel_stress_period_data_21.txt\n",
      "2022-02-21 14:50:40.383446 starting: reading list-style file: freyberg6_template\\freyberg6.wel_stress_period_data_21.txt\n",
      "2022-02-21 14:50:40.385465 finished: reading list-style file: freyberg6_template\\freyberg6.wel_stress_period_data_21.txt took: 0:00:00.002019\n",
      "2022-02-21 14:50:40.385465 loaded list-style 'freyberg6_template\\freyberg6.wel_stress_period_data_21.txt' of shape (6, 4)\n",
      "2022-02-21 14:50:40.386438 finished: loading list-style freyberg6_template\\freyberg6.wel_stress_period_data_21.txt took: 0:00:00.002992\n",
      "2022-02-21 14:50:40.386438 starting: writing list-style template file 'freyberg6_template\\wel_grd_inst13_grid.csv.tpl'\n",
      "2022-02-21 14:50:40.399403 finished: writing list-style template file 'freyberg6_template\\wel_grd_inst13_grid.csv.tpl' took: 0:00:00.012965\n"
     ]
    },
    {
     "name": "stdout",
     "output_type": "stream",
     "text": [
      "2022-02-21 14:50:40.408403 finished: adding grid type m style parameters for file(s) ['freyberg6.wel_stress_period_data_21.txt'] took: 0:00:00.024957\n",
      "2022-02-21 14:50:40.409402 starting: adding constant type m style parameters for file(s) ['freyberg6.wel_stress_period_data_22.txt']\n",
      "2022-02-21 14:50:40.409402 starting: loading list-style freyberg6_template\\freyberg6.wel_stress_period_data_22.txt\n",
      "2022-02-21 14:50:40.409402 starting: reading list-style file: freyberg6_template\\freyberg6.wel_stress_period_data_22.txt\n",
      "2022-02-21 14:50:40.412393 finished: reading list-style file: freyberg6_template\\freyberg6.wel_stress_period_data_22.txt took: 0:00:00.002991\n",
      "2022-02-21 14:50:40.412393 loaded list-style 'freyberg6_template\\freyberg6.wel_stress_period_data_22.txt' of shape (6, 4)\n",
      "2022-02-21 14:50:40.413366 finished: loading list-style freyberg6_template\\freyberg6.wel_stress_period_data_22.txt took: 0:00:00.003964\n",
      "2022-02-21 14:50:40.413366 starting: writing list-style template file 'freyberg6_template\\wel_cst_inst14_constant.csv.tpl'\n",
      "2022-02-21 14:50:40.427328 finished: writing list-style template file 'freyberg6_template\\wel_cst_inst14_constant.csv.tpl' took: 0:00:00.013962\n",
      "2022-02-21 14:50:40.435331 finished: adding constant type m style parameters for file(s) ['freyberg6.wel_stress_period_data_22.txt'] took: 0:00:00.025929\n",
      "2022-02-21 14:50:40.435331 starting: adding grid type m style parameters for file(s) ['freyberg6.wel_stress_period_data_22.txt']\n",
      "2022-02-21 14:50:40.436329 starting: loading list-style freyberg6_template\\freyberg6.wel_stress_period_data_22.txt\n",
      "2022-02-21 14:50:40.436329 starting: reading list-style file: freyberg6_template\\freyberg6.wel_stress_period_data_22.txt\n",
      "2022-02-21 14:50:40.437327 finished: reading list-style file: freyberg6_template\\freyberg6.wel_stress_period_data_22.txt took: 0:00:00.000998\n",
      "2022-02-21 14:50:40.438299 loaded list-style 'freyberg6_template\\freyberg6.wel_stress_period_data_22.txt' of shape (6, 4)\n",
      "2022-02-21 14:50:40.439310 finished: loading list-style freyberg6_template\\freyberg6.wel_stress_period_data_22.txt took: 0:00:00.002981\n",
      "2022-02-21 14:50:40.439310 starting: writing list-style template file 'freyberg6_template\\wel_grd_inst14_grid.csv.tpl'\n",
      "2022-02-21 14:50:40.452268 finished: writing list-style template file 'freyberg6_template\\wel_grd_inst14_grid.csv.tpl' took: 0:00:00.012958\n",
      "2022-02-21 14:50:40.460264 finished: adding grid type m style parameters for file(s) ['freyberg6.wel_stress_period_data_22.txt'] took: 0:00:00.024933\n",
      "2022-02-21 14:50:40.460264 starting: adding constant type m style parameters for file(s) ['freyberg6.wel_stress_period_data_23.txt']\n",
      "2022-02-21 14:50:40.460264 starting: loading list-style freyberg6_template\\freyberg6.wel_stress_period_data_23.txt\n",
      "2022-02-21 14:50:40.461263 starting: reading list-style file: freyberg6_template\\freyberg6.wel_stress_period_data_23.txt\n",
      "2022-02-21 14:50:40.463233 finished: reading list-style file: freyberg6_template\\freyberg6.wel_stress_period_data_23.txt took: 0:00:00.001970\n",
      "2022-02-21 14:50:40.463233 loaded list-style 'freyberg6_template\\freyberg6.wel_stress_period_data_23.txt' of shape (6, 4)\n",
      "2022-02-21 14:50:40.464230 finished: loading list-style freyberg6_template\\freyberg6.wel_stress_period_data_23.txt took: 0:00:00.003966\n",
      "2022-02-21 14:50:40.464230 starting: writing list-style template file 'freyberg6_template\\wel_cst_inst15_constant.csv.tpl'\n",
      "2022-02-21 14:50:40.477239 finished: writing list-style template file 'freyberg6_template\\wel_cst_inst15_constant.csv.tpl' took: 0:00:00.013009\n"
     ]
    },
    {
     "name": "stdout",
     "output_type": "stream",
     "text": [
      "2022-02-21 14:50:40.485219 finished: adding constant type m style parameters for file(s) ['freyberg6.wel_stress_period_data_23.txt'] took: 0:00:00.024955\n",
      "2022-02-21 14:50:40.485219 starting: adding grid type m style parameters for file(s) ['freyberg6.wel_stress_period_data_23.txt']\n",
      "2022-02-21 14:50:40.485219 starting: loading list-style freyberg6_template\\freyberg6.wel_stress_period_data_23.txt\n",
      "2022-02-21 14:50:40.486171 starting: reading list-style file: freyberg6_template\\freyberg6.wel_stress_period_data_23.txt\n",
      "2022-02-21 14:50:40.487197 finished: reading list-style file: freyberg6_template\\freyberg6.wel_stress_period_data_23.txt took: 0:00:00.001026\n",
      "2022-02-21 14:50:40.488222 loaded list-style 'freyberg6_template\\freyberg6.wel_stress_period_data_23.txt' of shape (6, 4)\n",
      "2022-02-21 14:50:40.488222 finished: loading list-style freyberg6_template\\freyberg6.wel_stress_period_data_23.txt took: 0:00:00.003003\n",
      "2022-02-21 14:50:40.489163 starting: writing list-style template file 'freyberg6_template\\wel_grd_inst15_grid.csv.tpl'\n",
      "2022-02-21 14:50:40.502155 finished: writing list-style template file 'freyberg6_template\\wel_grd_inst15_grid.csv.tpl' took: 0:00:00.012992\n",
      "2022-02-21 14:50:40.510131 finished: adding grid type m style parameters for file(s) ['freyberg6.wel_stress_period_data_23.txt'] took: 0:00:00.024912\n",
      "2022-02-21 14:50:40.510131 starting: adding constant type m style parameters for file(s) ['freyberg6.wel_stress_period_data_24.txt']\n",
      "2022-02-21 14:50:40.510131 starting: loading list-style freyberg6_template\\freyberg6.wel_stress_period_data_24.txt\n"
     ]
    },
    {
     "name": "stdout",
     "output_type": "stream",
     "text": [
      "2022-02-21 14:50:40.510131 starting: reading list-style file: freyberg6_template\\freyberg6.wel_stress_period_data_24.txt\n",
      "2022-02-21 14:50:40.512103 finished: reading list-style file: freyberg6_template\\freyberg6.wel_stress_period_data_24.txt took: 0:00:00.001972\n",
      "2022-02-21 14:50:40.513098 loaded list-style 'freyberg6_template\\freyberg6.wel_stress_period_data_24.txt' of shape (6, 4)\n",
      "2022-02-21 14:50:40.514124 finished: loading list-style freyberg6_template\\freyberg6.wel_stress_period_data_24.txt took: 0:00:00.003993\n",
      "2022-02-21 14:50:40.514124 starting: writing list-style template file 'freyberg6_template\\wel_cst_inst16_constant.csv.tpl'\n",
      "2022-02-21 14:50:40.526064 finished: writing list-style template file 'freyberg6_template\\wel_cst_inst16_constant.csv.tpl' took: 0:00:00.011940\n",
      "2022-02-21 14:50:40.534043 finished: adding constant type m style parameters for file(s) ['freyberg6.wel_stress_period_data_24.txt'] took: 0:00:00.023912\n",
      "2022-02-21 14:50:40.535083 starting: adding grid type m style parameters for file(s) ['freyberg6.wel_stress_period_data_24.txt']\n",
      "2022-02-21 14:50:40.535083 starting: loading list-style freyberg6_template\\freyberg6.wel_stress_period_data_24.txt\n",
      "2022-02-21 14:50:40.535083 starting: reading list-style file: freyberg6_template\\freyberg6.wel_stress_period_data_24.txt\n",
      "2022-02-21 14:50:40.536080 finished: reading list-style file: freyberg6_template\\freyberg6.wel_stress_period_data_24.txt took: 0:00:00.000997\n",
      "2022-02-21 14:50:40.536080 loaded list-style 'freyberg6_template\\freyberg6.wel_stress_period_data_24.txt' of shape (6, 4)\n",
      "2022-02-21 14:50:40.537035 finished: loading list-style freyberg6_template\\freyberg6.wel_stress_period_data_24.txt took: 0:00:00.001952\n",
      "2022-02-21 14:50:40.538033 starting: writing list-style template file 'freyberg6_template\\wel_grd_inst16_grid.csv.tpl'\n",
      "2022-02-21 14:50:40.551024 finished: writing list-style template file 'freyberg6_template\\wel_grd_inst16_grid.csv.tpl' took: 0:00:00.012991\n",
      "2022-02-21 14:50:40.559020 finished: adding grid type m style parameters for file(s) ['freyberg6.wel_stress_period_data_24.txt'] took: 0:00:00.023937\n",
      "2022-02-21 14:50:40.559020 starting: adding constant type m style parameters for file(s) ['freyberg6.wel_stress_period_data_25.txt']\n",
      "2022-02-21 14:50:40.559020 starting: loading list-style freyberg6_template\\freyberg6.wel_stress_period_data_25.txt\n",
      "2022-02-21 14:50:40.559020 starting: reading list-style file: freyberg6_template\\freyberg6.wel_stress_period_data_25.txt\n",
      "2022-02-21 14:50:40.560971 finished: reading list-style file: freyberg6_template\\freyberg6.wel_stress_period_data_25.txt took: 0:00:00.001951\n",
      "2022-02-21 14:50:40.562004 loaded list-style 'freyberg6_template\\freyberg6.wel_stress_period_data_25.txt' of shape (6, 4)\n",
      "2022-02-21 14:50:40.562004 finished: loading list-style freyberg6_template\\freyberg6.wel_stress_period_data_25.txt took: 0:00:00.002984\n",
      "2022-02-21 14:50:40.562966 starting: writing list-style template file 'freyberg6_template\\wel_cst_inst17_constant.csv.tpl'\n",
      "2022-02-21 14:50:40.574935 finished: writing list-style template file 'freyberg6_template\\wel_cst_inst17_constant.csv.tpl' took: 0:00:00.011969\n",
      "2022-02-21 14:50:40.582947 finished: adding constant type m style parameters for file(s) ['freyberg6.wel_stress_period_data_25.txt'] took: 0:00:00.023927\n",
      "2022-02-21 14:50:40.583942 starting: adding grid type m style parameters for file(s) ['freyberg6.wel_stress_period_data_25.txt']\n",
      "2022-02-21 14:50:40.583942 starting: loading list-style freyberg6_template\\freyberg6.wel_stress_period_data_25.txt\n",
      "2022-02-21 14:50:40.583942 starting: reading list-style file: freyberg6_template\\freyberg6.wel_stress_period_data_25.txt\n",
      "2022-02-21 14:50:40.584907 finished: reading list-style file: freyberg6_template\\freyberg6.wel_stress_period_data_25.txt took: 0:00:00.000965\n"
     ]
    },
    {
     "name": "stdout",
     "output_type": "stream",
     "text": [
      "2022-02-21 14:50:40.585938 loaded list-style 'freyberg6_template\\freyberg6.wel_stress_period_data_25.txt' of shape (6, 4)\n",
      "2022-02-21 14:50:40.586934 finished: loading list-style freyberg6_template\\freyberg6.wel_stress_period_data_25.txt took: 0:00:00.002992\n",
      "2022-02-21 14:50:40.586934 starting: writing list-style template file 'freyberg6_template\\wel_grd_inst17_grid.csv.tpl'\n",
      "2022-02-21 14:50:40.600582 finished: writing list-style template file 'freyberg6_template\\wel_grd_inst17_grid.csv.tpl' took: 0:00:00.013648\n",
      "2022-02-21 14:50:40.608598 finished: adding grid type m style parameters for file(s) ['freyberg6.wel_stress_period_data_25.txt'] took: 0:00:00.024656\n",
      "2022-02-21 14:50:40.609597 starting: adding constant type m style parameters for file(s) ['freyberg6.wel_stress_period_data_3.txt']\n",
      "2022-02-21 14:50:40.609597 starting: loading list-style freyberg6_template\\freyberg6.wel_stress_period_data_3.txt\n",
      "2022-02-21 14:50:40.609597 starting: reading list-style file: freyberg6_template\\freyberg6.wel_stress_period_data_3.txt\n",
      "2022-02-21 14:50:40.611588 finished: reading list-style file: freyberg6_template\\freyberg6.wel_stress_period_data_3.txt took: 0:00:00.001991\n",
      "2022-02-21 14:50:40.611588 loaded list-style 'freyberg6_template\\freyberg6.wel_stress_period_data_3.txt' of shape (6, 4)\n",
      "2022-02-21 14:50:40.612550 finished: loading list-style freyberg6_template\\freyberg6.wel_stress_period_data_3.txt took: 0:00:00.002953\n",
      "2022-02-21 14:50:40.612550 starting: writing list-style template file 'freyberg6_template\\wel_cst_inst18_constant.csv.tpl'\n",
      "2022-02-21 14:50:40.625556 finished: writing list-style template file 'freyberg6_template\\wel_cst_inst18_constant.csv.tpl' took: 0:00:00.013006\n",
      "2022-02-21 14:50:40.633528 finished: adding constant type m style parameters for file(s) ['freyberg6.wel_stress_period_data_3.txt'] took: 0:00:00.023931\n",
      "2022-02-21 14:50:40.634524 starting: adding grid type m style parameters for file(s) ['freyberg6.wel_stress_period_data_3.txt']\n",
      "2022-02-21 14:50:40.634524 starting: loading list-style freyberg6_template\\freyberg6.wel_stress_period_data_3.txt\n",
      "2022-02-21 14:50:40.634524 starting: reading list-style file: freyberg6_template\\freyberg6.wel_stress_period_data_3.txt\n",
      "2022-02-21 14:50:40.635524 finished: reading list-style file: freyberg6_template\\freyberg6.wel_stress_period_data_3.txt took: 0:00:00.001000\n",
      "2022-02-21 14:50:40.636520 loaded list-style 'freyberg6_template\\freyberg6.wel_stress_period_data_3.txt' of shape (6, 4)\n",
      "2022-02-21 14:50:40.636520 finished: loading list-style freyberg6_template\\freyberg6.wel_stress_period_data_3.txt took: 0:00:00.001996\n",
      "2022-02-21 14:50:40.637520 starting: writing list-style template file 'freyberg6_template\\wel_grd_inst18_grid.csv.tpl'\n",
      "2022-02-21 14:50:40.649452 finished: writing list-style template file 'freyberg6_template\\wel_grd_inst18_grid.csv.tpl' took: 0:00:00.011932\n",
      "2022-02-21 14:50:40.658460 finished: adding grid type m style parameters for file(s) ['freyberg6.wel_stress_period_data_3.txt'] took: 0:00:00.023936\n",
      "2022-02-21 14:50:40.658460 starting: adding constant type m style parameters for file(s) ['freyberg6.wel_stress_period_data_4.txt']\n",
      "2022-02-21 14:50:40.658460 starting: loading list-style freyberg6_template\\freyberg6.wel_stress_period_data_4.txt\n",
      "2022-02-21 14:50:40.658460 starting: reading list-style file: freyberg6_template\\freyberg6.wel_stress_period_data_4.txt\n",
      "2022-02-21 14:50:40.660456 finished: reading list-style file: freyberg6_template\\freyberg6.wel_stress_period_data_4.txt took: 0:00:00.001996\n",
      "2022-02-21 14:50:40.660456 loaded list-style 'freyberg6_template\\freyberg6.wel_stress_period_data_4.txt' of shape (6, 4)\n",
      "2022-02-21 14:50:40.661453 finished: loading list-style freyberg6_template\\freyberg6.wel_stress_period_data_4.txt took: 0:00:00.002993\n",
      "2022-02-21 14:50:40.661453 starting: writing list-style template file 'freyberg6_template\\wel_cst_inst19_constant.csv.tpl'\n"
     ]
    },
    {
     "name": "stdout",
     "output_type": "stream",
     "text": [
      "2022-02-21 14:50:40.674418 finished: writing list-style template file 'freyberg6_template\\wel_cst_inst19_constant.csv.tpl' took: 0:00:00.012965\n",
      "2022-02-21 14:50:40.683394 finished: adding constant type m style parameters for file(s) ['freyberg6.wel_stress_period_data_4.txt'] took: 0:00:00.024934\n",
      "2022-02-21 14:50:40.683394 starting: adding grid type m style parameters for file(s) ['freyberg6.wel_stress_period_data_4.txt']\n",
      "2022-02-21 14:50:40.683394 starting: loading list-style freyberg6_template\\freyberg6.wel_stress_period_data_4.txt\n",
      "2022-02-21 14:50:40.683394 starting: reading list-style file: freyberg6_template\\freyberg6.wel_stress_period_data_4.txt\n",
      "2022-02-21 14:50:40.685389 finished: reading list-style file: freyberg6_template\\freyberg6.wel_stress_period_data_4.txt took: 0:00:00.001995\n",
      "2022-02-21 14:50:40.685389 loaded list-style 'freyberg6_template\\freyberg6.wel_stress_period_data_4.txt' of shape (6, 4)\n",
      "2022-02-21 14:50:40.686386 finished: loading list-style freyberg6_template\\freyberg6.wel_stress_period_data_4.txt took: 0:00:00.002992\n",
      "2022-02-21 14:50:40.686386 starting: writing list-style template file 'freyberg6_template\\wel_grd_inst19_grid.csv.tpl'\n",
      "2022-02-21 14:50:40.699332 finished: writing list-style template file 'freyberg6_template\\wel_grd_inst19_grid.csv.tpl' took: 0:00:00.012946\n"
     ]
    },
    {
     "name": "stdout",
     "output_type": "stream",
     "text": [
      "2022-02-21 14:50:40.708351 finished: adding grid type m style parameters for file(s) ['freyberg6.wel_stress_period_data_4.txt'] took: 0:00:00.024957\n",
      "2022-02-21 14:50:40.708351 starting: adding constant type m style parameters for file(s) ['freyberg6.wel_stress_period_data_5.txt']\n",
      "2022-02-21 14:50:40.708351 starting: loading list-style freyberg6_template\\freyberg6.wel_stress_period_data_5.txt\n",
      "2022-02-21 14:50:40.709351 starting: reading list-style file: freyberg6_template\\freyberg6.wel_stress_period_data_5.txt\n",
      "2022-02-21 14:50:40.711337 finished: reading list-style file: freyberg6_template\\freyberg6.wel_stress_period_data_5.txt took: 0:00:00.001986\n",
      "2022-02-21 14:50:40.711337 loaded list-style 'freyberg6_template\\freyberg6.wel_stress_period_data_5.txt' of shape (6, 4)\n",
      "2022-02-21 14:50:40.712283 finished: loading list-style freyberg6_template\\freyberg6.wel_stress_period_data_5.txt took: 0:00:00.003932\n",
      "2022-02-21 14:50:40.712283 starting: writing list-style template file 'freyberg6_template\\wel_cst_inst20_constant.csv.tpl'\n",
      "2022-02-21 14:50:40.724285 finished: writing list-style template file 'freyberg6_template\\wel_cst_inst20_constant.csv.tpl' took: 0:00:00.012002\n",
      "2022-02-21 14:50:40.733261 finished: adding constant type m style parameters for file(s) ['freyberg6.wel_stress_period_data_5.txt'] took: 0:00:00.024910\n",
      "2022-02-21 14:50:40.733261 starting: adding grid type m style parameters for file(s) ['freyberg6.wel_stress_period_data_5.txt']\n",
      "2022-02-21 14:50:40.733261 starting: loading list-style freyberg6_template\\freyberg6.wel_stress_period_data_5.txt\n",
      "2022-02-21 14:50:40.733261 starting: reading list-style file: freyberg6_template\\freyberg6.wel_stress_period_data_5.txt\n",
      "2022-02-21 14:50:40.735255 finished: reading list-style file: freyberg6_template\\freyberg6.wel_stress_period_data_5.txt took: 0:00:00.001994\n",
      "2022-02-21 14:50:40.735255 loaded list-style 'freyberg6_template\\freyberg6.wel_stress_period_data_5.txt' of shape (6, 4)\n",
      "2022-02-21 14:50:40.736254 finished: loading list-style freyberg6_template\\freyberg6.wel_stress_period_data_5.txt took: 0:00:00.002993\n",
      "2022-02-21 14:50:40.736254 starting: writing list-style template file 'freyberg6_template\\wel_grd_inst20_grid.csv.tpl'\n",
      "2022-02-21 14:50:40.749186 finished: writing list-style template file 'freyberg6_template\\wel_grd_inst20_grid.csv.tpl' took: 0:00:00.012932\n",
      "2022-02-21 14:50:40.757198 finished: adding grid type m style parameters for file(s) ['freyberg6.wel_stress_period_data_5.txt'] took: 0:00:00.023937\n",
      "2022-02-21 14:50:40.758194 starting: adding constant type m style parameters for file(s) ['freyberg6.wel_stress_period_data_6.txt']\n",
      "2022-02-21 14:50:40.758194 starting: loading list-style freyberg6_template\\freyberg6.wel_stress_period_data_6.txt\n",
      "2022-02-21 14:50:40.758194 starting: reading list-style file: freyberg6_template\\freyberg6.wel_stress_period_data_6.txt\n",
      "2022-02-21 14:50:40.760189 finished: reading list-style file: freyberg6_template\\freyberg6.wel_stress_period_data_6.txt took: 0:00:00.001995\n",
      "2022-02-21 14:50:40.760189 loaded list-style 'freyberg6_template\\freyberg6.wel_stress_period_data_6.txt' of shape (6, 4)\n",
      "2022-02-21 14:50:40.761185 finished: loading list-style freyberg6_template\\freyberg6.wel_stress_period_data_6.txt took: 0:00:00.002991\n",
      "2022-02-21 14:50:40.762149 starting: writing list-style template file 'freyberg6_template\\wel_cst_inst21_constant.csv.tpl'\n",
      "2022-02-21 14:50:40.774119 finished: writing list-style template file 'freyberg6_template\\wel_cst_inst21_constant.csv.tpl' took: 0:00:00.011970\n"
     ]
    },
    {
     "name": "stdout",
     "output_type": "stream",
     "text": [
      "2022-02-21 14:50:40.783094 finished: adding constant type m style parameters for file(s) ['freyberg6.wel_stress_period_data_6.txt'] took: 0:00:00.024900\n",
      "2022-02-21 14:50:40.783094 starting: adding grid type m style parameters for file(s) ['freyberg6.wel_stress_period_data_6.txt']\n",
      "2022-02-21 14:50:40.783094 starting: loading list-style freyberg6_template\\freyberg6.wel_stress_period_data_6.txt\n",
      "2022-02-21 14:50:40.784092 starting: reading list-style file: freyberg6_template\\freyberg6.wel_stress_period_data_6.txt\n",
      "2022-02-21 14:50:40.785121 finished: reading list-style file: freyberg6_template\\freyberg6.wel_stress_period_data_6.txt took: 0:00:00.001029\n",
      "2022-02-21 14:50:40.785121 loaded list-style 'freyberg6_template\\freyberg6.wel_stress_period_data_6.txt' of shape (6, 4)\n",
      "2022-02-21 14:50:40.786118 finished: loading list-style freyberg6_template\\freyberg6.wel_stress_period_data_6.txt took: 0:00:00.003024\n",
      "2022-02-21 14:50:40.786118 starting: writing list-style template file 'freyberg6_template\\wel_grd_inst21_grid.csv.tpl'\n",
      "2022-02-21 14:50:40.800048 finished: writing list-style template file 'freyberg6_template\\wel_grd_inst21_grid.csv.tpl' took: 0:00:00.013930\n",
      "2022-02-21 14:50:40.808061 finished: adding grid type m style parameters for file(s) ['freyberg6.wel_stress_period_data_6.txt'] took: 0:00:00.024967\n",
      "2022-02-21 14:50:40.808061 starting: adding constant type m style parameters for file(s) ['freyberg6.wel_stress_period_data_7.txt']\n",
      "2022-02-21 14:50:40.808061 starting: loading list-style freyberg6_template\\freyberg6.wel_stress_period_data_7.txt\n",
      "2022-02-21 14:50:40.809057 starting: reading list-style file: freyberg6_template\\freyberg6.wel_stress_period_data_7.txt\n",
      "2022-02-21 14:50:40.810054 finished: reading list-style file: freyberg6_template\\freyberg6.wel_stress_period_data_7.txt took: 0:00:00.000997\n",
      "2022-02-21 14:50:40.811058 loaded list-style 'freyberg6_template\\freyberg6.wel_stress_period_data_7.txt' of shape (6, 4)\n",
      "2022-02-21 14:50:40.811058 finished: loading list-style freyberg6_template\\freyberg6.wel_stress_period_data_7.txt took: 0:00:00.002997\n",
      "2022-02-21 14:50:40.812059 starting: writing list-style template file 'freyberg6_template\\wel_cst_inst22_constant.csv.tpl'\n",
      "2022-02-21 14:50:40.823991 finished: writing list-style template file 'freyberg6_template\\wel_cst_inst22_constant.csv.tpl' took: 0:00:00.011932\n",
      "2022-02-21 14:50:40.832993 finished: adding constant type m style parameters for file(s) ['freyberg6.wel_stress_period_data_7.txt'] took: 0:00:00.024932\n",
      "2022-02-21 14:50:40.832993 starting: adding grid type m style parameters for file(s) ['freyberg6.wel_stress_period_data_7.txt']\n",
      "2022-02-21 14:50:40.832993 starting: loading list-style freyberg6_template\\freyberg6.wel_stress_period_data_7.txt\n",
      "2022-02-21 14:50:40.833997 starting: reading list-style file: freyberg6_template\\freyberg6.wel_stress_period_data_7.txt\n",
      "2022-02-21 14:50:40.834989 finished: reading list-style file: freyberg6_template\\freyberg6.wel_stress_period_data_7.txt took: 0:00:00.000992\n",
      "2022-02-21 14:50:40.834989 loaded list-style 'freyberg6_template\\freyberg6.wel_stress_period_data_7.txt' of shape (6, 4)\n",
      "2022-02-21 14:50:40.835985 finished: loading list-style freyberg6_template\\freyberg6.wel_stress_period_data_7.txt took: 0:00:00.002992\n",
      "2022-02-21 14:50:40.835985 starting: writing list-style template file 'freyberg6_template\\wel_grd_inst22_grid.csv.tpl'\n",
      "2022-02-21 14:50:40.849915 finished: writing list-style template file 'freyberg6_template\\wel_grd_inst22_grid.csv.tpl' took: 0:00:00.013930\n",
      "2022-02-21 14:50:40.857894 finished: adding grid type m style parameters for file(s) ['freyberg6.wel_stress_period_data_7.txt'] took: 0:00:00.024901\n",
      "2022-02-21 14:50:40.857894 starting: adding constant type m style parameters for file(s) ['freyberg6.wel_stress_period_data_8.txt']\n",
      "2022-02-21 14:50:40.857894 starting: loading list-style freyberg6_template\\freyberg6.wel_stress_period_data_8.txt\n",
      "2022-02-21 14:50:40.858926 starting: reading list-style file: freyberg6_template\\freyberg6.wel_stress_period_data_8.txt\n",
      "2022-02-21 14:50:40.860920 finished: reading list-style file: freyberg6_template\\freyberg6.wel_stress_period_data_8.txt took: 0:00:00.001994\n",
      "2022-02-21 14:50:40.860920 loaded list-style 'freyberg6_template\\freyberg6.wel_stress_period_data_8.txt' of shape (6, 4)\n",
      "2022-02-21 14:50:40.861884 finished: loading list-style freyberg6_template\\freyberg6.wel_stress_period_data_8.txt took: 0:00:00.003990\n",
      "2022-02-21 14:50:40.861884 starting: writing list-style template file 'freyberg6_template\\wel_cst_inst23_constant.csv.tpl'\n"
     ]
    },
    {
     "name": "stdout",
     "output_type": "stream",
     "text": [
      "2022-02-21 14:50:40.874849 finished: writing list-style template file 'freyberg6_template\\wel_cst_inst23_constant.csv.tpl' took: 0:00:00.012965\n",
      "2022-02-21 14:50:40.883859 finished: adding constant type m style parameters for file(s) ['freyberg6.wel_stress_period_data_8.txt'] took: 0:00:00.025965\n"
     ]
    },
    {
     "name": "stdout",
     "output_type": "stream",
     "text": [
      "2022-02-21 14:50:40.883859 starting: adding grid type m style parameters for file(s) ['freyberg6.wel_stress_period_data_8.txt']\n",
      "2022-02-21 14:50:40.883859 starting: loading list-style freyberg6_template\\freyberg6.wel_stress_period_data_8.txt\n",
      "2022-02-21 14:50:40.883859 starting: reading list-style file: freyberg6_template\\freyberg6.wel_stress_period_data_8.txt\n",
      "2022-02-21 14:50:40.885853 finished: reading list-style file: freyberg6_template\\freyberg6.wel_stress_period_data_8.txt took: 0:00:00.001994\n",
      "2022-02-21 14:50:40.885853 loaded list-style 'freyberg6_template\\freyberg6.wel_stress_period_data_8.txt' of shape (6, 4)\n",
      "2022-02-21 14:50:40.886850 finished: loading list-style freyberg6_template\\freyberg6.wel_stress_period_data_8.txt took: 0:00:00.002991\n",
      "2022-02-21 14:50:40.886850 starting: writing list-style template file 'freyberg6_template\\wel_grd_inst23_grid.csv.tpl'\n",
      "2022-02-21 14:50:40.899856 finished: writing list-style template file 'freyberg6_template\\wel_grd_inst23_grid.csv.tpl' took: 0:00:00.013006\n",
      "2022-02-21 14:50:40.908833 finished: adding grid type m style parameters for file(s) ['freyberg6.wel_stress_period_data_8.txt'] took: 0:00:00.024974\n",
      "2022-02-21 14:50:40.908833 starting: adding constant type m style parameters for file(s) ['freyberg6.wel_stress_period_data_9.txt']\n",
      "2022-02-21 14:50:40.908833 starting: loading list-style freyberg6_template\\freyberg6.wel_stress_period_data_9.txt\n",
      "2022-02-21 14:50:40.908833 starting: reading list-style file: freyberg6_template\\freyberg6.wel_stress_period_data_9.txt\n",
      "2022-02-21 14:50:40.910826 finished: reading list-style file: freyberg6_template\\freyberg6.wel_stress_period_data_9.txt took: 0:00:00.001993\n",
      "2022-02-21 14:50:40.910826 loaded list-style 'freyberg6_template\\freyberg6.wel_stress_period_data_9.txt' of shape (6, 4)\n",
      "2022-02-21 14:50:40.911831 finished: loading list-style freyberg6_template\\freyberg6.wel_stress_period_data_9.txt took: 0:00:00.002998\n",
      "2022-02-21 14:50:40.911831 starting: writing list-style template file 'freyberg6_template\\wel_cst_inst24_constant.csv.tpl'\n",
      "2022-02-21 14:50:40.925157 finished: writing list-style template file 'freyberg6_template\\wel_cst_inst24_constant.csv.tpl' took: 0:00:00.013326\n",
      "2022-02-21 14:50:40.933136 finished: adding constant type m style parameters for file(s) ['freyberg6.wel_stress_period_data_9.txt'] took: 0:00:00.024303\n",
      "2022-02-21 14:50:40.934133 starting: adding grid type m style parameters for file(s) ['freyberg6.wel_stress_period_data_9.txt']\n",
      "2022-02-21 14:50:40.934133 starting: loading list-style freyberg6_template\\freyberg6.wel_stress_period_data_9.txt\n",
      "2022-02-21 14:50:40.934133 starting: reading list-style file: freyberg6_template\\freyberg6.wel_stress_period_data_9.txt\n",
      "2022-02-21 14:50:40.935186 finished: reading list-style file: freyberg6_template\\freyberg6.wel_stress_period_data_9.txt took: 0:00:00.001053\n",
      "2022-02-21 14:50:40.936181 loaded list-style 'freyberg6_template\\freyberg6.wel_stress_period_data_9.txt' of shape (6, 4)\n",
      "2022-02-21 14:50:40.936181 finished: loading list-style freyberg6_template\\freyberg6.wel_stress_period_data_9.txt took: 0:00:00.002048\n",
      "2022-02-21 14:50:40.937127 starting: writing list-style template file 'freyberg6_template\\wel_grd_inst24_grid.csv.tpl'\n",
      "2022-02-21 14:50:40.952086 finished: writing list-style template file 'freyberg6_template\\wel_grd_inst24_grid.csv.tpl' took: 0:00:00.014959\n",
      "2022-02-21 14:50:40.960122 finished: adding grid type m style parameters for file(s) ['freyberg6.wel_stress_period_data_9.txt'] took: 0:00:00.025989\n"
     ]
    }
   ],
   "source": [
    "files = [f for f in os.listdir(template_ws) if \"wel_stress_period_data\" in f and f.endswith(\".txt\")]\n",
    "\n",
    "for f in files:\n",
    "    # get the stress period number from the file name\n",
    "    kper = int(f.split('.')[1].split('_')[-1]) - 1  \n",
    "    \n",
    "    # add the constant parameters (with temporal correlation)\n",
    "    pf.add_parameters(filenames=f,\n",
    "                        index_cols=[0,1,2], #columns that specify cell location\n",
    "                        use_cols=[3],       #columns with parameter values\n",
    "                        par_type=\"constant\",    #each well will be adjustable\n",
    "                        par_name_base=\"wel_cst\",\n",
    "                        pargp=\"wel_cst\", \n",
    "                        upper_bound = 1.5, lower_bound=0.5,\n",
    "                        datetime=dts[kper], # this places the parameter value on the \"time axis\"\n",
    "                        geostruct=temporal_gs)\n",
    "    \n",
    "    # add the grid parameters; each individual well\n",
    "    pf.add_parameters(filenames=f,\n",
    "                        index_cols=[0,1,2], #columns that specify cell location \n",
    "                        use_cols=[3],       #columns with parameter values\n",
    "                        par_type=\"grid\",    #each well will be adjustable\n",
    "                        par_name_base=\"wel_grd\",\n",
    "                        pargp=\"wel_grd\", \n",
    "                        upper_bound = 1.5, lower_bound=0.5,\n",
    "                        datetime=dts[kper]) # this places the parameter value on the \"time axis\"\n",
    "                     "
   ]
  },
  {
   "cell_type": "markdown",
   "metadata": {},
   "source": [
    "And finally, our favourite (not!) boundary-condition: SFR.\n",
    "\n",
    "Let's parameterize conductance (time-invariant) and inflow (time-variant)."
   ]
  },
  {
   "cell_type": "code",
   "execution_count": 32,
   "metadata": {
    "execution": {
     "iopub.execute_input": "2022-02-21T04:20:40.971069Z",
     "iopub.status.busy": "2022-02-21T04:20:40.970049Z",
     "iopub.status.idle": "2022-02-21T04:20:41.037857Z",
     "shell.execute_reply": "2022-02-21T04:20:41.037857Z"
    }
   },
   "outputs": [
    {
     "name": "stdout",
     "output_type": "stream",
     "text": [
      "['freyberg6.sfr_packagedata.txt']\n",
      "2022-02-21 14:50:40.971069 starting: adding grid type m style parameters for file(s) ['freyberg6.sfr_packagedata.txt']\n",
      "2022-02-21 14:50:40.971069 starting: loading list-style freyberg6_template\\freyberg6.sfr_packagedata.txt\n",
      "2022-02-21 14:50:40.971069 starting: reading list-style file: freyberg6_template\\freyberg6.sfr_packagedata.txt\n",
      "2022-02-21 14:50:40.974060 finished: reading list-style file: freyberg6_template\\freyberg6.sfr_packagedata.txt took: 0:00:00.002991\n",
      "2022-02-21 14:50:40.974060 loaded list-style 'freyberg6_template\\freyberg6.sfr_packagedata.txt' of shape (40, 15)\n",
      "2022-02-21 14:50:40.976054 finished: loading list-style freyberg6_template\\freyberg6.sfr_packagedata.txt took: 0:00:00.004985\n",
      "2022-02-21 14:50:40.976054 starting: writing list-style template file 'freyberg6_template\\sfrcond_gr_inst0_grid.csv.tpl'\n",
      "2022-02-21 14:50:40.980046 WARNING: get_xy() warning: position of i and j in index_cols not specified, assume (i,j) are final two entries in index_cols.\n",
      "2022-02-21 14:50:40.993994 finished: writing list-style template file 'freyberg6_template\\sfrcond_gr_inst0_grid.csv.tpl' took: 0:00:00.017940\n",
      "2022-02-21 14:50:40.999958 finished: adding grid type m style parameters for file(s) ['freyberg6.sfr_packagedata.txt'] took: 0:00:00.028889\n",
      "2022-02-21 14:50:41.000988 starting: adding constant type m style parameters for file(s) ['freyberg6.sfr_packagedata.txt']\n",
      "2022-02-21 14:50:41.000988 starting: loading list-style freyberg6_template\\freyberg6.sfr_packagedata.txt\n",
      "2022-02-21 14:50:41.000988 starting: reading list-style file: freyberg6_template\\freyberg6.sfr_packagedata.txt\n",
      "2022-02-21 14:50:41.003947 finished: reading list-style file: freyberg6_template\\freyberg6.sfr_packagedata.txt took: 0:00:00.002959\n",
      "2022-02-21 14:50:41.003947 loaded list-style 'freyberg6_template\\freyberg6.sfr_packagedata.txt' of shape (40, 15)\n",
      "2022-02-21 14:50:41.004945 finished: loading list-style freyberg6_template\\freyberg6.sfr_packagedata.txt took: 0:00:00.003957\n",
      "2022-02-21 14:50:41.005942 starting: writing list-style template file 'freyberg6_template\\sfrcond_cn_inst0_constant.csv.tpl'\n",
      "2022-02-21 14:50:41.019905 finished: writing list-style template file 'freyberg6_template\\sfrcond_cn_inst0_constant.csv.tpl' took: 0:00:00.013963\n",
      "2022-02-21 14:50:41.024891 finished: adding constant type m style parameters for file(s) ['freyberg6.sfr_packagedata.txt'] took: 0:00:00.023903\n"
     ]
    },
    {
     "data": {
      "text/html": [
       "<div>\n",
       "<style scoped>\n",
       "    .dataframe tbody tr th:only-of-type {\n",
       "        vertical-align: middle;\n",
       "    }\n",
       "\n",
       "    .dataframe tbody tr th {\n",
       "        vertical-align: top;\n",
       "    }\n",
       "\n",
       "    .dataframe thead th {\n",
       "        text-align: right;\n",
       "    }\n",
       "</style>\n",
       "<table border=\"1\" class=\"dataframe\">\n",
       "  <thead>\n",
       "    <tr style=\"text-align: right;\">\n",
       "      <th></th>\n",
       "      <th>parnme</th>\n",
       "      <th>pargp</th>\n",
       "      <th>covgp</th>\n",
       "      <th>tpl_filename</th>\n",
       "      <th>input_filename</th>\n",
       "      <th>parval1</th>\n",
       "      <th>partype</th>\n",
       "      <th>partrans</th>\n",
       "      <th>parubnd</th>\n",
       "      <th>parlbnd</th>\n",
       "      <th>dercom</th>\n",
       "      <th>parchglim</th>\n",
       "      <th>offset</th>\n",
       "      <th>scale</th>\n",
       "    </tr>\n",
       "  </thead>\n",
       "  <tbody>\n",
       "    <tr>\n",
       "      <th>pname:sfrcond_cn_inst:0_ptype:cn_usecol:9_pstyle:m</th>\n",
       "      <td>pname:sfrcond_cn_inst:0_ptype:cn_usecol:9_pstyle:m</td>\n",
       "      <td>sfrcond_cn</td>\n",
       "      <td>sfrcond_cn</td>\n",
       "      <td>freyberg6_template\\sfrcond_cn_inst0_constant.csv.tpl</td>\n",
       "      <td>freyberg6_template\\mult\\sfrcond_cn_inst0_constant.csv</td>\n",
       "      <td>1.0</td>\n",
       "      <td>constant</td>\n",
       "      <td>log</td>\n",
       "      <td>10.0</td>\n",
       "      <td>0.1</td>\n",
       "      <td>1</td>\n",
       "      <td>factor</td>\n",
       "      <td>0.0</td>\n",
       "      <td>1.0</td>\n",
       "    </tr>\n",
       "  </tbody>\n",
       "</table>\n",
       "</div>"
      ],
      "text/plain": [
       "                                                                                                parnme  \\\n",
       "pname:sfrcond_cn_inst:0_ptype:cn_usecol:9_pstyle:m  pname:sfrcond_cn_inst:0_ptype:cn_usecol:9_pstyle:m   \n",
       "\n",
       "                                                         pargp       covgp  \\\n",
       "pname:sfrcond_cn_inst:0_ptype:cn_usecol:9_pstyle:m  sfrcond_cn  sfrcond_cn   \n",
       "\n",
       "                                                                                            tpl_filename  \\\n",
       "pname:sfrcond_cn_inst:0_ptype:cn_usecol:9_pstyle:m  freyberg6_template\\sfrcond_cn_inst0_constant.csv.tpl   \n",
       "\n",
       "                                                                                           input_filename  \\\n",
       "pname:sfrcond_cn_inst:0_ptype:cn_usecol:9_pstyle:m  freyberg6_template\\mult\\sfrcond_cn_inst0_constant.csv   \n",
       "\n",
       "                                                    parval1   partype  \\\n",
       "pname:sfrcond_cn_inst:0_ptype:cn_usecol:9_pstyle:m      1.0  constant   \n",
       "\n",
       "                                                   partrans  parubnd  parlbnd  \\\n",
       "pname:sfrcond_cn_inst:0_ptype:cn_usecol:9_pstyle:m      log     10.0      0.1   \n",
       "\n",
       "                                                    dercom parchglim  offset  \\\n",
       "pname:sfrcond_cn_inst:0_ptype:cn_usecol:9_pstyle:m       1    factor     0.0   \n",
       "\n",
       "                                                    scale  \n",
       "pname:sfrcond_cn_inst:0_ptype:cn_usecol:9_pstyle:m    1.0  "
      ]
     },
     "execution_count": 32,
     "metadata": {},
     "output_type": "execute_result"
    }
   ],
   "source": [
    "# SFR conductance\n",
    "tag = \"sfr_packagedata\"\n",
    "files = [f for f in os.listdir(template_ws) if tag in f.lower() and f.endswith(\".txt\")]\n",
    "assert len(files) == 1 # There can be only one! It is tradition. Jokes.\n",
    "print(files)\n",
    "f = files[0]\n",
    "# constant and grid scale multiplier conductance parameters\n",
    "name = \"sfrcond\"\n",
    "pf.add_parameters(f,\n",
    "                par_type=\"grid\",\n",
    "                geostruct=grid_gs,\n",
    "                par_name_base=name+\"_gr\",\n",
    "                pargp=name+\"_gr\",\n",
    "                index_cols=[0,2,3],\n",
    "                use_cols=[9],\n",
    "                lower_bound=0.1,upper_bound=10.0,\n",
    "                ult_lbound=0.01, ult_ubound=10) #absolute limits\n",
    "pf.add_parameters(f,\n",
    "                par_type=\"constant\",\n",
    "                geostruct=grid_gs,\n",
    "                par_name_base=name+\"_cn\",\n",
    "                pargp=name+\"_cn\",\n",
    "                index_cols=[0,2,3],\n",
    "                use_cols=[9],\n",
    "                lower_bound=0.1,upper_bound=10.0,\n",
    "                ult_lbound=0.01, ult_ubound=10) #absolute limits"
   ]
  },
  {
   "cell_type": "code",
   "execution_count": 33,
   "metadata": {
    "execution": {
     "iopub.execute_input": "2022-02-21T04:20:41.042844Z",
     "iopub.status.busy": "2022-02-21T04:20:41.042844Z",
     "iopub.status.idle": "2022-02-21T04:20:41.807076Z",
     "shell.execute_reply": "2022-02-21T04:20:41.807076Z"
    }
   },
   "outputs": [
    {
     "name": "stdout",
     "output_type": "stream",
     "text": [
      "2022-02-21 14:50:41.043840 starting: adding grid type m style parameters for file(s) ['freyberg6.sfr_perioddata_1.txt']\n",
      "2022-02-21 14:50:41.043840 starting: loading list-style freyberg6_template\\freyberg6.sfr_perioddata_1.txt\n",
      "2022-02-21 14:50:41.043840 starting: reading list-style file: freyberg6_template\\freyberg6.sfr_perioddata_1.txt\n",
      "2022-02-21 14:50:41.045835 finished: reading list-style file: freyberg6_template\\freyberg6.sfr_perioddata_1.txt took: 0:00:00.001995\n",
      "2022-02-21 14:50:41.046832 loaded list-style 'freyberg6_template\\freyberg6.sfr_perioddata_1.txt' of shape (1, 3)\n",
      "2022-02-21 14:50:41.047830 finished: loading list-style freyberg6_template\\freyberg6.sfr_perioddata_1.txt took: 0:00:00.003990\n",
      "2022-02-21 14:50:41.047830 starting: writing list-style template file 'freyberg6_template\\sfr_gr_inst0_grid.csv.tpl'\n",
      "2022-02-21 14:50:41.051819 WARNING: get_xy() warning: need locational information (e.g. i,j) to generate xy, insufficient index cols passed to interpret: (0,)\n"
     ]
    },
    {
     "name": "stdout",
     "output_type": "stream",
     "text": [
      "2022-02-21 14:50:41.065816 finished: writing list-style template file 'freyberg6_template\\sfr_gr_inst0_grid.csv.tpl' took: 0:00:00.017986\n",
      "2022-02-21 14:50:41.073760 finished: adding grid type m style parameters for file(s) ['freyberg6.sfr_perioddata_1.txt'] took: 0:00:00.029920\n",
      "2022-02-21 14:50:41.073760 starting: adding grid type m style parameters for file(s) ['freyberg6.sfr_perioddata_10.txt']\n",
      "2022-02-21 14:50:41.073760 starting: loading list-style freyberg6_template\\freyberg6.sfr_perioddata_10.txt\n",
      "2022-02-21 14:50:41.074811 starting: reading list-style file: freyberg6_template\\freyberg6.sfr_perioddata_10.txt\n"
     ]
    },
    {
     "name": "stdout",
     "output_type": "stream",
     "text": [
      "2022-02-21 14:50:41.076753 finished: reading list-style file: freyberg6_template\\freyberg6.sfr_perioddata_10.txt took: 0:00:00.001942\n",
      "2022-02-21 14:50:41.076753 loaded list-style 'freyberg6_template\\freyberg6.sfr_perioddata_10.txt' of shape (1, 3)\n",
      "2022-02-21 14:50:41.077782 finished: loading list-style freyberg6_template\\freyberg6.sfr_perioddata_10.txt took: 0:00:00.004022\n",
      "2022-02-21 14:50:41.077782 starting: writing list-style template file 'freyberg6_template\\sfr_gr_inst1_grid.csv.tpl'\n",
      "2022-02-21 14:50:41.081775 WARNING: get_xy() warning: need locational information (e.g. i,j) to generate xy, insufficient index cols passed to interpret: (0,)\n",
      "2022-02-21 14:50:41.093706 finished: writing list-style template file 'freyberg6_template\\sfr_gr_inst1_grid.csv.tpl' took: 0:00:00.015924\n",
      "2022-02-21 14:50:41.101718 finished: adding grid type m style parameters for file(s) ['freyberg6.sfr_perioddata_10.txt'] took: 0:00:00.027958\n",
      "2022-02-21 14:50:41.102683 starting: adding grid type m style parameters for file(s) ['freyberg6.sfr_perioddata_11.txt']\n",
      "2022-02-21 14:50:41.102683 starting: loading list-style freyberg6_template\\freyberg6.sfr_perioddata_11.txt\n",
      "2022-02-21 14:50:41.102683 starting: reading list-style file: freyberg6_template\\freyberg6.sfr_perioddata_11.txt\n",
      "2022-02-21 14:50:41.104719 finished: reading list-style file: freyberg6_template\\freyberg6.sfr_perioddata_11.txt took: 0:00:00.002036\n",
      "2022-02-21 14:50:41.105712 loaded list-style 'freyberg6_template\\freyberg6.sfr_perioddata_11.txt' of shape (1, 3)\n",
      "2022-02-21 14:50:41.106672 finished: loading list-style freyberg6_template\\freyberg6.sfr_perioddata_11.txt took: 0:00:00.003989\n",
      "2022-02-21 14:50:41.106672 starting: writing list-style template file 'freyberg6_template\\sfr_gr_inst2_grid.csv.tpl'\n",
      "2022-02-21 14:50:41.110705 WARNING: get_xy() warning: need locational information (e.g. i,j) to generate xy, insufficient index cols passed to interpret: (0,)\n",
      "2022-02-21 14:50:41.122629 finished: writing list-style template file 'freyberg6_template\\sfr_gr_inst2_grid.csv.tpl' took: 0:00:00.015957\n",
      "2022-02-21 14:50:41.131645 finished: adding grid type m style parameters for file(s) ['freyberg6.sfr_perioddata_11.txt'] took: 0:00:00.028962\n",
      "2022-02-21 14:50:41.132635 starting: adding grid type m style parameters for file(s) ['freyberg6.sfr_perioddata_12.txt']\n",
      "2022-02-21 14:50:41.132635 starting: loading list-style freyberg6_template\\freyberg6.sfr_perioddata_12.txt\n",
      "2022-02-21 14:50:41.132635 starting: reading list-style file: freyberg6_template\\freyberg6.sfr_perioddata_12.txt\n",
      "2022-02-21 14:50:41.134631 finished: reading list-style file: freyberg6_template\\freyberg6.sfr_perioddata_12.txt took: 0:00:00.001996\n",
      "2022-02-21 14:50:41.134631 loaded list-style 'freyberg6_template\\freyberg6.sfr_perioddata_12.txt' of shape (1, 3)\n",
      "2022-02-21 14:50:41.135623 finished: loading list-style freyberg6_template\\freyberg6.sfr_perioddata_12.txt took: 0:00:00.002988\n",
      "2022-02-21 14:50:41.135623 starting: writing list-style template file 'freyberg6_template\\sfr_gr_inst3_grid.csv.tpl'\n",
      "2022-02-21 14:50:41.139619 WARNING: get_xy() warning: need locational information (e.g. i,j) to generate xy, insufficient index cols passed to interpret: (0,)\n"
     ]
    },
    {
     "name": "stdout",
     "output_type": "stream",
     "text": [
      "2022-02-21 14:50:41.152586 finished: writing list-style template file 'freyberg6_template\\sfr_gr_inst3_grid.csv.tpl' took: 0:00:00.016963\n",
      "2022-02-21 14:50:41.161559 finished: adding grid type m style parameters for file(s) ['freyberg6.sfr_perioddata_12.txt'] took: 0:00:00.028924\n",
      "2022-02-21 14:50:41.161559 starting: adding grid type m style parameters for file(s) ['freyberg6.sfr_perioddata_13.txt']\n",
      "2022-02-21 14:50:41.161559 starting: loading list-style freyberg6_template\\freyberg6.sfr_perioddata_13.txt\n",
      "2022-02-21 14:50:41.161559 starting: reading list-style file: freyberg6_template\\freyberg6.sfr_perioddata_13.txt\n",
      "2022-02-21 14:50:41.164518 finished: reading list-style file: freyberg6_template\\freyberg6.sfr_perioddata_13.txt took: 0:00:00.002959\n",
      "2022-02-21 14:50:41.164518 loaded list-style 'freyberg6_template\\freyberg6.sfr_perioddata_13.txt' of shape (1, 3)\n",
      "2022-02-21 14:50:41.165515 finished: loading list-style freyberg6_template\\freyberg6.sfr_perioddata_13.txt took: 0:00:00.003956\n",
      "2022-02-21 14:50:41.166546 starting: writing list-style template file 'freyberg6_template\\sfr_gr_inst4_grid.csv.tpl'\n",
      "2022-02-21 14:50:41.170554 WARNING: get_xy() warning: need locational information (e.g. i,j) to generate xy, insufficient index cols passed to interpret: (0,)\n",
      "2022-02-21 14:50:41.182503 finished: writing list-style template file 'freyberg6_template\\sfr_gr_inst4_grid.csv.tpl' took: 0:00:00.015957\n",
      "2022-02-21 14:50:41.191498 finished: adding grid type m style parameters for file(s) ['freyberg6.sfr_perioddata_13.txt'] took: 0:00:00.029939\n",
      "2022-02-21 14:50:41.191498 starting: adding grid type m style parameters for file(s) ['freyberg6.sfr_perioddata_14.txt']\n",
      "2022-02-21 14:50:41.191498 starting: loading list-style freyberg6_template\\freyberg6.sfr_perioddata_14.txt\n",
      "2022-02-21 14:50:41.191498 starting: reading list-style file: freyberg6_template\\freyberg6.sfr_perioddata_14.txt\n",
      "2022-02-21 14:50:41.193440 finished: reading list-style file: freyberg6_template\\freyberg6.sfr_perioddata_14.txt took: 0:00:00.001942\n",
      "2022-02-21 14:50:41.193440 loaded list-style 'freyberg6_template\\freyberg6.sfr_perioddata_14.txt' of shape (1, 3)\n",
      "2022-02-21 14:50:41.194437 finished: loading list-style freyberg6_template\\freyberg6.sfr_perioddata_14.txt took: 0:00:00.002939\n",
      "2022-02-21 14:50:41.195434 starting: writing list-style template file 'freyberg6_template\\sfr_gr_inst5_grid.csv.tpl'\n",
      "2022-02-21 14:50:41.199424 WARNING: get_xy() warning: need locational information (e.g. i,j) to generate xy, insufficient index cols passed to interpret: (0,)\n",
      "2022-02-21 14:50:41.211393 finished: writing list-style template file 'freyberg6_template\\sfr_gr_inst5_grid.csv.tpl' took: 0:00:00.015959\n",
      "2022-02-21 14:50:41.221365 finished: adding grid type m style parameters for file(s) ['freyberg6.sfr_perioddata_14.txt'] took: 0:00:00.029867\n",
      "2022-02-21 14:50:41.221365 starting: adding grid type m style parameters for file(s) ['freyberg6.sfr_perioddata_15.txt']\n",
      "2022-02-21 14:50:41.221365 starting: loading list-style freyberg6_template\\freyberg6.sfr_perioddata_15.txt\n",
      "2022-02-21 14:50:41.221365 starting: reading list-style file: freyberg6_template\\freyberg6.sfr_perioddata_15.txt\n",
      "2022-02-21 14:50:41.223359 finished: reading list-style file: freyberg6_template\\freyberg6.sfr_perioddata_15.txt took: 0:00:00.001994\n",
      "2022-02-21 14:50:41.223359 loaded list-style 'freyberg6_template\\freyberg6.sfr_perioddata_15.txt' of shape (1, 3)\n",
      "2022-02-21 14:50:41.224357 finished: loading list-style freyberg6_template\\freyberg6.sfr_perioddata_15.txt took: 0:00:00.002992\n",
      "2022-02-21 14:50:41.224357 starting: writing list-style template file 'freyberg6_template\\sfr_gr_inst6_grid.csv.tpl'\n",
      "2022-02-21 14:50:41.229344 WARNING: get_xy() warning: need locational information (e.g. i,j) to generate xy, insufficient index cols passed to interpret: (0,)\n"
     ]
    },
    {
     "name": "stdout",
     "output_type": "stream",
     "text": [
      "2022-02-21 14:50:41.242309 finished: writing list-style template file 'freyberg6_template\\sfr_gr_inst6_grid.csv.tpl' took: 0:00:00.017952\n"
     ]
    },
    {
     "name": "stdout",
     "output_type": "stream",
     "text": [
      "2022-02-21 14:50:41.251286 finished: adding grid type m style parameters for file(s) ['freyberg6.sfr_perioddata_15.txt'] took: 0:00:00.029921\n",
      "2022-02-21 14:50:41.251286 starting: adding grid type m style parameters for file(s) ['freyberg6.sfr_perioddata_16.txt']\n",
      "2022-02-21 14:50:41.251286 starting: loading list-style freyberg6_template\\freyberg6.sfr_perioddata_16.txt\n",
      "2022-02-21 14:50:41.252282 starting: reading list-style file: freyberg6_template\\freyberg6.sfr_perioddata_16.txt\n",
      "2022-02-21 14:50:41.254278 finished: reading list-style file: freyberg6_template\\freyberg6.sfr_perioddata_16.txt took: 0:00:00.001996\n",
      "2022-02-21 14:50:41.255275 loaded list-style 'freyberg6_template\\freyberg6.sfr_perioddata_16.txt' of shape (1, 3)\n",
      "2022-02-21 14:50:41.256272 finished: loading list-style freyberg6_template\\freyberg6.sfr_perioddata_16.txt took: 0:00:00.004986\n",
      "2022-02-21 14:50:41.256272 starting: writing list-style template file 'freyberg6_template\\sfr_gr_inst7_grid.csv.tpl'\n",
      "2022-02-21 14:50:41.260262 WARNING: get_xy() warning: need locational information (e.g. i,j) to generate xy, insufficient index cols passed to interpret: (0,)\n"
     ]
    },
    {
     "name": "stdout",
     "output_type": "stream",
     "text": [
      "2022-02-21 14:50:41.274224 finished: writing list-style template file 'freyberg6_template\\sfr_gr_inst7_grid.csv.tpl' took: 0:00:00.017952\n",
      "2022-02-21 14:50:41.283217 finished: adding grid type m style parameters for file(s) ['freyberg6.sfr_perioddata_16.txt'] took: 0:00:00.031931\n",
      "2022-02-21 14:50:41.283217 starting: adding grid type m style parameters for file(s) ['freyberg6.sfr_perioddata_17.txt']\n",
      "2022-02-21 14:50:41.284198 starting: loading list-style freyberg6_template\\freyberg6.sfr_perioddata_17.txt\n",
      "2022-02-21 14:50:41.284198 starting: reading list-style file: freyberg6_template\\freyberg6.sfr_perioddata_17.txt\n",
      "2022-02-21 14:50:41.289184 finished: reading list-style file: freyberg6_template\\freyberg6.sfr_perioddata_17.txt took: 0:00:00.004986\n",
      "2022-02-21 14:50:41.289184 loaded list-style 'freyberg6_template\\freyberg6.sfr_perioddata_17.txt' of shape (1, 3)\n",
      "2022-02-21 14:50:41.290182 finished: loading list-style freyberg6_template\\freyberg6.sfr_perioddata_17.txt took: 0:00:00.005984\n",
      "2022-02-21 14:50:41.290182 starting: writing list-style template file 'freyberg6_template\\sfr_gr_inst8_grid.csv.tpl'\n",
      "2022-02-21 14:50:41.295168 WARNING: get_xy() warning: need locational information (e.g. i,j) to generate xy, insufficient index cols passed to interpret: (0,)\n",
      "2022-02-21 14:50:41.309131 finished: writing list-style template file 'freyberg6_template\\sfr_gr_inst8_grid.csv.tpl' took: 0:00:00.018949\n",
      "2022-02-21 14:50:41.319105 finished: adding grid type m style parameters for file(s) ['freyberg6.sfr_perioddata_17.txt'] took: 0:00:00.035888\n",
      "2022-02-21 14:50:41.319105 starting: adding grid type m style parameters for file(s) ['freyberg6.sfr_perioddata_18.txt']\n",
      "2022-02-21 14:50:41.319105 starting: loading list-style freyberg6_template\\freyberg6.sfr_perioddata_18.txt\n",
      "2022-02-21 14:50:41.320101 starting: reading list-style file: freyberg6_template\\freyberg6.sfr_perioddata_18.txt\n",
      "2022-02-21 14:50:41.322096 finished: reading list-style file: freyberg6_template\\freyberg6.sfr_perioddata_18.txt took: 0:00:00.001995\n",
      "2022-02-21 14:50:41.322096 loaded list-style 'freyberg6_template\\freyberg6.sfr_perioddata_18.txt' of shape (1, 3)\n",
      "2022-02-21 14:50:41.323094 finished: loading list-style freyberg6_template\\freyberg6.sfr_perioddata_18.txt took: 0:00:00.003989\n",
      "2022-02-21 14:50:41.324092 starting: writing list-style template file 'freyberg6_template\\sfr_gr_inst9_grid.csv.tpl'\n",
      "2022-02-21 14:50:41.328112 WARNING: get_xy() warning: need locational information (e.g. i,j) to generate xy, insufficient index cols passed to interpret: (0,)\n"
     ]
    },
    {
     "name": "stdout",
     "output_type": "stream",
     "text": [
      "2022-02-21 14:50:41.341045 finished: writing list-style template file 'freyberg6_template\\sfr_gr_inst9_grid.csv.tpl' took: 0:00:00.016953\n",
      "2022-02-21 14:50:41.351046 finished: adding grid type m style parameters for file(s) ['freyberg6.sfr_perioddata_18.txt'] took: 0:00:00.031941\n",
      "2022-02-21 14:50:41.351046 starting: adding grid type m style parameters for file(s) ['freyberg6.sfr_perioddata_19.txt']\n",
      "2022-02-21 14:50:41.352041 starting: loading list-style freyberg6_template\\freyberg6.sfr_perioddata_19.txt\n",
      "2022-02-21 14:50:41.352041 starting: reading list-style file: freyberg6_template\\freyberg6.sfr_perioddata_19.txt\n",
      "2022-02-21 14:50:41.354011 finished: reading list-style file: freyberg6_template\\freyberg6.sfr_perioddata_19.txt took: 0:00:00.001970\n",
      "2022-02-21 14:50:41.355009 loaded list-style 'freyberg6_template\\freyberg6.sfr_perioddata_19.txt' of shape (1, 3)\n",
      "2022-02-21 14:50:41.357002 finished: loading list-style freyberg6_template\\freyberg6.sfr_perioddata_19.txt took: 0:00:00.004961\n",
      "2022-02-21 14:50:41.357002 starting: writing list-style template file 'freyberg6_template\\sfr_gr_inst10_grid.csv.tpl'\n",
      "2022-02-21 14:50:41.364981 WARNING: get_xy() warning: need locational information (e.g. i,j) to generate xy, insufficient index cols passed to interpret: (0,)\n",
      "2022-02-21 14:50:41.381936 finished: writing list-style template file 'freyberg6_template\\sfr_gr_inst10_grid.csv.tpl' took: 0:00:00.024934\n",
      "2022-02-21 14:50:41.390936 finished: adding grid type m style parameters for file(s) ['freyberg6.sfr_perioddata_19.txt'] took: 0:00:00.039890\n",
      "2022-02-21 14:50:41.390936 starting: adding grid type m style parameters for file(s) ['freyberg6.sfr_perioddata_2.txt']\n",
      "2022-02-21 14:50:41.390936 starting: loading list-style freyberg6_template\\freyberg6.sfr_perioddata_2.txt\n",
      "2022-02-21 14:50:41.390936 starting: reading list-style file: freyberg6_template\\freyberg6.sfr_perioddata_2.txt\n",
      "2022-02-21 14:50:41.392940 finished: reading list-style file: freyberg6_template\\freyberg6.sfr_perioddata_2.txt took: 0:00:00.002004\n",
      "2022-02-21 14:50:41.392940 loaded list-style 'freyberg6_template\\freyberg6.sfr_perioddata_2.txt' of shape (1, 3)\n",
      "2022-02-21 14:50:41.393936 finished: loading list-style freyberg6_template\\freyberg6.sfr_perioddata_2.txt took: 0:00:00.003000\n",
      "2022-02-21 14:50:41.394902 starting: writing list-style template file 'freyberg6_template\\sfr_gr_inst11_grid.csv.tpl'\n",
      "2022-02-21 14:50:41.398924 WARNING: get_xy() warning: need locational information (e.g. i,j) to generate xy, insufficient index cols passed to interpret: (0,)\n",
      "2022-02-21 14:50:41.410893 finished: writing list-style template file 'freyberg6_template\\sfr_gr_inst11_grid.csv.tpl' took: 0:00:00.015991\n",
      "2022-02-21 14:50:41.419867 finished: adding grid type m style parameters for file(s) ['freyberg6.sfr_perioddata_2.txt'] took: 0:00:00.028931\n",
      "2022-02-21 14:50:41.419867 starting: adding grid type m style parameters for file(s) ['freyberg6.sfr_perioddata_20.txt']\n",
      "2022-02-21 14:50:41.419867 starting: loading list-style freyberg6_template\\freyberg6.sfr_perioddata_20.txt\n",
      "2022-02-21 14:50:41.419867 starting: reading list-style file: freyberg6_template\\freyberg6.sfr_perioddata_20.txt\n",
      "2022-02-21 14:50:41.421829 finished: reading list-style file: freyberg6_template\\freyberg6.sfr_perioddata_20.txt took: 0:00:00.001962\n",
      "2022-02-21 14:50:41.421829 loaded list-style 'freyberg6_template\\freyberg6.sfr_perioddata_20.txt' of shape (1, 3)\n",
      "2022-02-21 14:50:41.422859 finished: loading list-style freyberg6_template\\freyberg6.sfr_perioddata_20.txt took: 0:00:00.002992\n",
      "2022-02-21 14:50:41.422859 starting: writing list-style template file 'freyberg6_template\\sfr_gr_inst12_grid.csv.tpl'\n",
      "2022-02-21 14:50:41.427812 WARNING: get_xy() warning: need locational information (e.g. i,j) to generate xy, insufficient index cols passed to interpret: (0,)\n"
     ]
    },
    {
     "name": "stdout",
     "output_type": "stream",
     "text": [
      "2022-02-21 14:50:41.439781 finished: writing list-style template file 'freyberg6_template\\sfr_gr_inst12_grid.csv.tpl' took: 0:00:00.016922\n",
      "2022-02-21 14:50:41.448757 finished: adding grid type m style parameters for file(s) ['freyberg6.sfr_perioddata_20.txt'] took: 0:00:00.028890\n",
      "2022-02-21 14:50:41.448757 starting: adding grid type m style parameters for file(s) ['freyberg6.sfr_perioddata_21.txt']\n",
      "2022-02-21 14:50:41.449794 starting: loading list-style freyberg6_template\\freyberg6.sfr_perioddata_21.txt\n",
      "2022-02-21 14:50:41.449794 starting: reading list-style file: freyberg6_template\\freyberg6.sfr_perioddata_21.txt\n",
      "2022-02-21 14:50:41.451749 finished: reading list-style file: freyberg6_template\\freyberg6.sfr_perioddata_21.txt took: 0:00:00.001955\n",
      "2022-02-21 14:50:41.451749 loaded list-style 'freyberg6_template\\freyberg6.sfr_perioddata_21.txt' of shape (1, 3)\n",
      "2022-02-21 14:50:41.452747 finished: loading list-style freyberg6_template\\freyberg6.sfr_perioddata_21.txt took: 0:00:00.002953\n",
      "2022-02-21 14:50:41.452747 starting: writing list-style template file 'freyberg6_template\\sfr_gr_inst13_grid.csv.tpl'\n",
      "2022-02-21 14:50:41.456768 WARNING: get_xy() warning: need locational information (e.g. i,j) to generate xy, insufficient index cols passed to interpret: (0,)\n"
     ]
    },
    {
     "name": "stdout",
     "output_type": "stream",
     "text": [
      "2022-02-21 14:50:41.469700 finished: writing list-style template file 'freyberg6_template\\sfr_gr_inst13_grid.csv.tpl' took: 0:00:00.016953\n",
      "2022-02-21 14:50:41.478678 finished: adding grid type m style parameters for file(s) ['freyberg6.sfr_perioddata_21.txt'] took: 0:00:00.029921\n",
      "2022-02-21 14:50:41.478678 starting: adding grid type m style parameters for file(s) ['freyberg6.sfr_perioddata_22.txt']\n",
      "2022-02-21 14:50:41.479707 starting: loading list-style freyberg6_template\\freyberg6.sfr_perioddata_22.txt\n",
      "2022-02-21 14:50:41.479707 starting: reading list-style file: freyberg6_template\\freyberg6.sfr_perioddata_22.txt\n",
      "2022-02-21 14:50:41.481702 finished: reading list-style file: freyberg6_template\\freyberg6.sfr_perioddata_22.txt took: 0:00:00.001995\n",
      "2022-02-21 14:50:41.481702 loaded list-style 'freyberg6_template\\freyberg6.sfr_perioddata_22.txt' of shape (1, 3)\n",
      "2022-02-21 14:50:41.483394 finished: loading list-style freyberg6_template\\freyberg6.sfr_perioddata_22.txt took: 0:00:00.003687\n",
      "2022-02-21 14:50:41.483394 starting: writing list-style template file 'freyberg6_template\\sfr_gr_inst14_grid.csv.tpl'\n",
      "2022-02-21 14:50:41.488420 WARNING: get_xy() warning: need locational information (e.g. i,j) to generate xy, insufficient index cols passed to interpret: (0,)\n",
      "2022-02-21 14:50:41.500929 finished: writing list-style template file 'freyberg6_template\\sfr_gr_inst14_grid.csv.tpl' took: 0:00:00.017535\n",
      "2022-02-21 14:50:41.509904 finished: adding grid type m style parameters for file(s) ['freyberg6.sfr_perioddata_22.txt'] took: 0:00:00.031226\n",
      "2022-02-21 14:50:41.509904 starting: adding grid type m style parameters for file(s) ['freyberg6.sfr_perioddata_23.txt']\n",
      "2022-02-21 14:50:41.509904 starting: loading list-style freyberg6_template\\freyberg6.sfr_perioddata_23.txt\n",
      "2022-02-21 14:50:41.509904 starting: reading list-style file: freyberg6_template\\freyberg6.sfr_perioddata_23.txt\n",
      "2022-02-21 14:50:41.512863 finished: reading list-style file: freyberg6_template\\freyberg6.sfr_perioddata_23.txt took: 0:00:00.002959\n",
      "2022-02-21 14:50:41.512863 loaded list-style 'freyberg6_template\\freyberg6.sfr_perioddata_23.txt' of shape (1, 3)\n",
      "2022-02-21 14:50:41.513861 finished: loading list-style freyberg6_template\\freyberg6.sfr_perioddata_23.txt took: 0:00:00.003957\n",
      "2022-02-21 14:50:41.513861 starting: writing list-style template file 'freyberg6_template\\sfr_gr_inst15_grid.csv.tpl'\n",
      "2022-02-21 14:50:41.518847 WARNING: get_xy() warning: need locational information (e.g. i,j) to generate xy, insufficient index cols passed to interpret: (0,)\n"
     ]
    },
    {
     "name": "stdout",
     "output_type": "stream",
     "text": [
      "2022-02-21 14:50:41.530844 finished: writing list-style template file 'freyberg6_template\\sfr_gr_inst15_grid.csv.tpl' took: 0:00:00.016983\n",
      "2022-02-21 14:50:41.540842 finished: adding grid type m style parameters for file(s) ['freyberg6.sfr_perioddata_23.txt'] took: 0:00:00.030938\n",
      "2022-02-21 14:50:41.540842 starting: adding grid type m style parameters for file(s) ['freyberg6.sfr_perioddata_24.txt']\n",
      "2022-02-21 14:50:41.540842 starting: loading list-style freyberg6_template\\freyberg6.sfr_perioddata_24.txt\n",
      "2022-02-21 14:50:41.540842 starting: reading list-style file: freyberg6_template\\freyberg6.sfr_perioddata_24.txt\n",
      "2022-02-21 14:50:41.542836 finished: reading list-style file: freyberg6_template\\freyberg6.sfr_perioddata_24.txt took: 0:00:00.001994\n",
      "2022-02-21 14:50:41.542836 loaded list-style 'freyberg6_template\\freyberg6.sfr_perioddata_24.txt' of shape (1, 3)\n",
      "2022-02-21 14:50:41.544778 finished: loading list-style freyberg6_template\\freyberg6.sfr_perioddata_24.txt took: 0:00:00.003936\n",
      "2022-02-21 14:50:41.544778 starting: writing list-style template file 'freyberg6_template\\sfr_gr_inst16_grid.csv.tpl'\n",
      "2022-02-21 14:50:41.548801 WARNING: get_xy() warning: need locational information (e.g. i,j) to generate xy, insufficient index cols passed to interpret: (0,)\n",
      "2022-02-21 14:50:41.560736 finished: writing list-style template file 'freyberg6_template\\sfr_gr_inst16_grid.csv.tpl' took: 0:00:00.015958\n",
      "2022-02-21 14:50:41.570762 finished: adding grid type m style parameters for file(s) ['freyberg6.sfr_perioddata_24.txt'] took: 0:00:00.029920\n",
      "2022-02-21 14:50:41.570762 starting: adding grid type m style parameters for file(s) ['freyberg6.sfr_perioddata_25.txt']\n",
      "2022-02-21 14:50:41.570762 starting: loading list-style freyberg6_template\\freyberg6.sfr_perioddata_25.txt\n",
      "2022-02-21 14:50:41.570762 starting: reading list-style file: freyberg6_template\\freyberg6.sfr_perioddata_25.txt\n",
      "2022-02-21 14:50:41.572703 finished: reading list-style file: freyberg6_template\\freyberg6.sfr_perioddata_25.txt took: 0:00:00.001941\n",
      "2022-02-21 14:50:41.572703 loaded list-style 'freyberg6_template\\freyberg6.sfr_perioddata_25.txt' of shape (1, 3)\n",
      "2022-02-21 14:50:41.573701 finished: loading list-style freyberg6_template\\freyberg6.sfr_perioddata_25.txt took: 0:00:00.002939\n",
      "2022-02-21 14:50:41.574714 starting: writing list-style template file 'freyberg6_template\\sfr_gr_inst17_grid.csv.tpl'\n",
      "2022-02-21 14:50:41.578689 WARNING: get_xy() warning: need locational information (e.g. i,j) to generate xy, insufficient index cols passed to interpret: (0,)\n",
      "2022-02-21 14:50:41.591653 finished: writing list-style template file 'freyberg6_template\\sfr_gr_inst17_grid.csv.tpl' took: 0:00:00.016939\n",
      "2022-02-21 14:50:41.600681 finished: adding grid type m style parameters for file(s) ['freyberg6.sfr_perioddata_25.txt'] took: 0:00:00.029919\n",
      "2022-02-21 14:50:41.600681 starting: adding grid type m style parameters for file(s) ['freyberg6.sfr_perioddata_3.txt']\n",
      "2022-02-21 14:50:41.600681 starting: loading list-style freyberg6_template\\freyberg6.sfr_perioddata_3.txt\n",
      "2022-02-21 14:50:41.600681 starting: reading list-style file: freyberg6_template\\freyberg6.sfr_perioddata_3.txt\n",
      "2022-02-21 14:50:41.602623 finished: reading list-style file: freyberg6_template\\freyberg6.sfr_perioddata_3.txt took: 0:00:00.001942\n",
      "2022-02-21 14:50:41.603673 loaded list-style 'freyberg6_template\\freyberg6.sfr_perioddata_3.txt' of shape (1, 3)\n",
      "2022-02-21 14:50:41.603673 finished: loading list-style freyberg6_template\\freyberg6.sfr_perioddata_3.txt took: 0:00:00.002992\n",
      "2022-02-21 14:50:41.604641 starting: writing list-style template file 'freyberg6_template\\sfr_gr_inst18_grid.csv.tpl'\n",
      "2022-02-21 14:50:41.608659 WARNING: get_xy() warning: need locational information (e.g. i,j) to generate xy, insufficient index cols passed to interpret: (0,)\n",
      "2022-02-21 14:50:41.620575 finished: writing list-style template file 'freyberg6_template\\sfr_gr_inst18_grid.csv.tpl' took: 0:00:00.015934\n",
      "2022-02-21 14:50:41.629604 finished: adding grid type m style parameters for file(s) ['freyberg6.sfr_perioddata_3.txt'] took: 0:00:00.028923\n",
      "2022-02-21 14:50:41.629604 starting: adding grid type m style parameters for file(s) ['freyberg6.sfr_perioddata_4.txt']\n",
      "2022-02-21 14:50:41.629604 starting: loading list-style freyberg6_template\\freyberg6.sfr_perioddata_4.txt\n"
     ]
    },
    {
     "name": "stdout",
     "output_type": "stream",
     "text": [
      "2022-02-21 14:50:41.629604 starting: reading list-style file: freyberg6_template\\freyberg6.sfr_perioddata_4.txt\n",
      "2022-02-21 14:50:41.631580 finished: reading list-style file: freyberg6_template\\freyberg6.sfr_perioddata_4.txt took: 0:00:00.001976\n",
      "2022-02-21 14:50:41.632594 loaded list-style 'freyberg6_template\\freyberg6.sfr_perioddata_4.txt' of shape (1, 3)\n",
      "2022-02-21 14:50:41.633541 finished: loading list-style freyberg6_template\\freyberg6.sfr_perioddata_4.txt took: 0:00:00.003937\n",
      "2022-02-21 14:50:41.633541 starting: writing list-style template file 'freyberg6_template\\sfr_gr_inst19_grid.csv.tpl'\n",
      "2022-02-21 14:50:41.637571 WARNING: get_xy() warning: need locational information (e.g. i,j) to generate xy, insufficient index cols passed to interpret: (0,)\n",
      "2022-02-21 14:50:41.649532 finished: writing list-style template file 'freyberg6_template\\sfr_gr_inst19_grid.csv.tpl' took: 0:00:00.015991\n",
      "2022-02-21 14:50:41.658527 finished: adding grid type m style parameters for file(s) ['freyberg6.sfr_perioddata_4.txt'] took: 0:00:00.028923\n",
      "2022-02-21 14:50:41.658527 starting: adding grid type m style parameters for file(s) ['freyberg6.sfr_perioddata_5.txt']\n",
      "2022-02-21 14:50:41.658527 starting: loading list-style freyberg6_template\\freyberg6.sfr_perioddata_5.txt\n"
     ]
    },
    {
     "name": "stdout",
     "output_type": "stream",
     "text": [
      "2022-02-21 14:50:41.658527 starting: reading list-style file: freyberg6_template\\freyberg6.sfr_perioddata_5.txt\n",
      "2022-02-21 14:50:41.660502 finished: reading list-style file: freyberg6_template\\freyberg6.sfr_perioddata_5.txt took: 0:00:00.001975\n",
      "2022-02-21 14:50:41.660502 loaded list-style 'freyberg6_template\\freyberg6.sfr_perioddata_5.txt' of shape (1, 3)\n",
      "2022-02-21 14:50:41.661498 finished: loading list-style freyberg6_template\\freyberg6.sfr_perioddata_5.txt took: 0:00:00.002971\n",
      "2022-02-21 14:50:41.662464 starting: writing list-style template file 'freyberg6_template\\sfr_gr_inst20_grid.csv.tpl'\n",
      "2022-02-21 14:50:41.666525 WARNING: get_xy() warning: need locational information (e.g. i,j) to generate xy, insufficient index cols passed to interpret: (0,)\n",
      "2022-02-21 14:50:41.677456 finished: writing list-style template file 'freyberg6_template\\sfr_gr_inst20_grid.csv.tpl' took: 0:00:00.014992\n",
      "2022-02-21 14:50:41.686450 finished: adding grid type m style parameters for file(s) ['freyberg6.sfr_perioddata_5.txt'] took: 0:00:00.027923\n",
      "2022-02-21 14:50:41.687441 starting: adding grid type m style parameters for file(s) ['freyberg6.sfr_perioddata_6.txt']\n",
      "2022-02-21 14:50:41.687441 starting: loading list-style freyberg6_template\\freyberg6.sfr_perioddata_6.txt\n",
      "2022-02-21 14:50:41.687441 starting: reading list-style file: freyberg6_template\\freyberg6.sfr_perioddata_6.txt\n",
      "2022-02-21 14:50:41.689444 finished: reading list-style file: freyberg6_template\\freyberg6.sfr_perioddata_6.txt took: 0:00:00.002003\n",
      "2022-02-21 14:50:41.689444 loaded list-style 'freyberg6_template\\freyberg6.sfr_perioddata_6.txt' of shape (1, 3)\n",
      "2022-02-21 14:50:41.690421 finished: loading list-style freyberg6_template\\freyberg6.sfr_perioddata_6.txt took: 0:00:00.002980\n",
      "2022-02-21 14:50:41.690421 starting: writing list-style template file 'freyberg6_template\\sfr_gr_inst21_grid.csv.tpl'\n",
      "2022-02-21 14:50:41.694429 WARNING: get_xy() warning: need locational information (e.g. i,j) to generate xy, insufficient index cols passed to interpret: (0,)\n",
      "2022-02-21 14:50:41.706346 finished: writing list-style template file 'freyberg6_template\\sfr_gr_inst21_grid.csv.tpl' took: 0:00:00.015925\n",
      "2022-02-21 14:50:41.715373 finished: adding grid type m style parameters for file(s) ['freyberg6.sfr_perioddata_6.txt'] took: 0:00:00.027932\n",
      "2022-02-21 14:50:41.715373 starting: adding grid type m style parameters for file(s) ['freyberg6.sfr_perioddata_7.txt']\n",
      "2022-02-21 14:50:41.715373 starting: loading list-style freyberg6_template\\freyberg6.sfr_perioddata_7.txt\n"
     ]
    },
    {
     "name": "stdout",
     "output_type": "stream",
     "text": [
      "2022-02-21 14:50:41.716353 starting: reading list-style file: freyberg6_template\\freyberg6.sfr_perioddata_7.txt\n",
      "2022-02-21 14:50:41.718314 finished: reading list-style file: freyberg6_template\\freyberg6.sfr_perioddata_7.txt took: 0:00:00.001961\n",
      "2022-02-21 14:50:41.718314 loaded list-style 'freyberg6_template\\freyberg6.sfr_perioddata_7.txt' of shape (1, 3)\n",
      "2022-02-21 14:50:41.719312 finished: loading list-style freyberg6_template\\freyberg6.sfr_perioddata_7.txt took: 0:00:00.003939\n",
      "2022-02-21 14:50:41.719312 starting: writing list-style template file 'freyberg6_template\\sfr_gr_inst22_grid.csv.tpl'\n",
      "2022-02-21 14:50:41.723352 WARNING: get_xy() warning: need locational information (e.g. i,j) to generate xy, insufficient index cols passed to interpret: (0,)\n",
      "2022-02-21 14:50:41.735268 finished: writing list-style template file 'freyberg6_template\\sfr_gr_inst22_grid.csv.tpl' took: 0:00:00.015956\n",
      "2022-02-21 14:50:41.744290 finished: adding grid type m style parameters for file(s) ['freyberg6.sfr_perioddata_7.txt'] took: 0:00:00.028917\n",
      "2022-02-21 14:50:41.744290 starting: adding grid type m style parameters for file(s) ['freyberg6.sfr_perioddata_8.txt']\n",
      "2022-02-21 14:50:41.744290 starting: loading list-style freyberg6_template\\freyberg6.sfr_perioddata_8.txt\n",
      "2022-02-21 14:50:41.744290 starting: reading list-style file: freyberg6_template\\freyberg6.sfr_perioddata_8.txt\n",
      "2022-02-21 14:50:41.746239 finished: reading list-style file: freyberg6_template\\freyberg6.sfr_perioddata_8.txt took: 0:00:00.001949\n",
      "2022-02-21 14:50:41.747236 loaded list-style 'freyberg6_template\\freyberg6.sfr_perioddata_8.txt' of shape (1, 3)\n",
      "2022-02-21 14:50:41.748234 finished: loading list-style freyberg6_template\\freyberg6.sfr_perioddata_8.txt took: 0:00:00.003944\n",
      "2022-02-21 14:50:41.748234 starting: writing list-style template file 'freyberg6_template\\sfr_gr_inst23_grid.csv.tpl'\n",
      "2022-02-21 14:50:41.752263 WARNING: get_xy() warning: need locational information (e.g. i,j) to generate xy, insufficient index cols passed to interpret: (0,)\n",
      "2022-02-21 14:50:41.765187 finished: writing list-style template file 'freyberg6_template\\sfr_gr_inst23_grid.csv.tpl' took: 0:00:00.016953\n",
      "2022-02-21 14:50:41.773211 finished: adding grid type m style parameters for file(s) ['freyberg6.sfr_perioddata_8.txt'] took: 0:00:00.028921\n",
      "2022-02-21 14:50:41.773211 starting: adding grid type m style parameters for file(s) ['freyberg6.sfr_perioddata_9.txt']\n",
      "2022-02-21 14:50:41.774165 starting: loading list-style freyberg6_template\\freyberg6.sfr_perioddata_9.txt\n",
      "2022-02-21 14:50:41.774165 starting: reading list-style file: freyberg6_template\\freyberg6.sfr_perioddata_9.txt\n",
      "2022-02-21 14:50:41.776205 finished: reading list-style file: freyberg6_template\\freyberg6.sfr_perioddata_9.txt took: 0:00:00.002040\n",
      "2022-02-21 14:50:41.776205 loaded list-style 'freyberg6_template\\freyberg6.sfr_perioddata_9.txt' of shape (1, 3)\n",
      "2022-02-21 14:50:41.777202 finished: loading list-style freyberg6_template\\freyberg6.sfr_perioddata_9.txt took: 0:00:00.003037\n",
      "2022-02-21 14:50:41.778153 starting: writing list-style template file 'freyberg6_template\\sfr_gr_inst24_grid.csv.tpl'\n",
      "2022-02-21 14:50:41.782143 WARNING: get_xy() warning: need locational information (e.g. i,j) to generate xy, insufficient index cols passed to interpret: (0,)\n",
      "2022-02-21 14:50:41.794135 finished: writing list-style template file 'freyberg6_template\\sfr_gr_inst24_grid.csv.tpl' took: 0:00:00.015982\n",
      "2022-02-21 14:50:41.803088 finished: adding grid type m style parameters for file(s) ['freyberg6.sfr_perioddata_9.txt'] took: 0:00:00.029877\n"
     ]
    }
   ],
   "source": [
    "# SFR inflow\n",
    "files = [f for f in os.listdir(template_ws) if \"sfr_perioddata\" in f and f.endswith(\".txt\")]\n",
    "for f in files:\n",
    "    # get the stress period number from the file name\n",
    "    kper = int(f.split('.')[1].split('_')[-1]) - 1  \n",
    "    # add the parameters\n",
    "    pf.add_parameters(filenames=f,\n",
    "                        index_cols=[0], #reach number\n",
    "                        use_cols=[2],   #columns with parameter values\n",
    "                        par_type=\"grid\",    \n",
    "                        par_name_base=\"sfr_gr\",\n",
    "                        pargp=\"sfr_gr\", \n",
    "                        upper_bound = 1.5, lower_bound=0.5, #don't need ult_bounds because it is a single multiplier\n",
    "                        datetime=dts[kper], # this places the parameter value on the \"time axis\"\n",
    "                        geostruct=temporal_gs)"
   ]
  },
  {
   "cell_type": "markdown",
   "metadata": {},
   "source": [
    "### 6. The Forward Run Script\n",
    "\n",
    "OK! So, we almost have all the base building blocks for a PEST(++) dataset. We have some (1) observations and some (2) parameters. We are still missing (3) the \"forward run\" script. Recall that in the PEST world, the \"model\" is not just the numerical model (e.g. MODFLOW). Instead it is a composite of the numerical model (or models) and pre- and post-processing steps, encapsulated in a \"forward run\" script which can be called from the command line. This command line instruction is what PEST(++) sees as \"the model\". During execution, PEST(++) writes values to parameter files, runs \"the model\", and then reads values from the observation files.\n",
    "\n",
    "`PstFrom` automates the generation of such a script when constructing the PEST control file. The script is written to file named `forward_run.py`. It is written in Python (this is not a PEST(++) requirement, merely a convenience...we are working in Python after all...). \n",
    "\n",
    "How about we see that in action? Magic time! Let's create the PEST control file.\n",
    "\n",
    "#### 6.1. Build Pst\n",
    "\n",
    "The `PstFrom.build_pst()` method builds a control file from the `PstFrom` object. It will write a PEST control file to the template folder. It will also write the `forward_run.py` script. It returns a pyEMU `Pst` object with all the information of the PEST control file. You can subsequently edit this `Pst` object. However, (***IMPORTANT***) any subsequent changes to the `Pst` object are not reflected in the `PstFrom` object, or viceversa. If you subsequently use `PstFrom` to add more observation or parameter files, you will need to re-build the `Pst` object. When you do so, all edits to the `Pst` object will be lost. Keep this in mind when designing your workflow.\n",
    "\n",
    "\n",
    "Here we go!\n",
    "\n",
    "(Note: in a normal workflow, we probably wouldn't do this yet. We are doing so now for demonstration purposes.)"
   ]
  },
  {
   "cell_type": "code",
   "execution_count": 34,
   "metadata": {
    "execution": {
     "iopub.execute_input": "2022-02-21T04:20:41.850991Z",
     "iopub.status.busy": "2022-02-21T04:20:41.848998Z",
     "iopub.status.idle": "2022-02-21T04:20:43.689792Z",
     "shell.execute_reply": "2022-02-21T04:20:43.688800Z"
    }
   },
   "outputs": [
    {
     "name": "stdout",
     "output_type": "stream",
     "text": [
      "noptmax:0, npar_adj:25454, nnz_obs:725\n"
     ]
    }
   ],
   "source": [
    "pst = pf.build_pst()"
   ]
  },
  {
   "cell_type": "markdown",
   "metadata": {},
   "source": [
    "Boom! Done. (Well almost.) Check the folder. You should see a new .pst file and the `forward_run.py` file. By default, the .pst file is named after the original model folder name. "
   ]
  },
  {
   "cell_type": "code",
   "execution_count": 35,
   "metadata": {
    "execution": {
     "iopub.execute_input": "2022-02-21T04:20:43.692783Z",
     "iopub.status.busy": "2022-02-21T04:20:43.692783Z",
     "iopub.status.idle": "2022-02-21T04:20:43.697770Z",
     "shell.execute_reply": "2022-02-21T04:20:43.697770Z"
    }
   },
   "outputs": [
    {
     "data": {
      "text/plain": [
       "['forward_run.py', 'freyberg_mf6.pst']"
      ]
     },
     "execution_count": 35,
     "metadata": {},
     "output_type": "execute_result"
    }
   ],
   "source": [
    "[f for f in os.listdir(template_ws) if f.endswith(\".py\") or f.endswith(\".pst\") ]"
   ]
  },
  {
   "cell_type": "markdown",
   "metadata": {},
   "source": [
    "We will get to the `pst` object later on (see also the \"intro to pyemu\" tutorial notebook). For now, let's focus on the `forward_run.py` script. It is printed out below.\n",
    "\n",
    "This script does a bunch of things:\n",
    " - it loads necessary dependecies\n",
    " - it removes model output files to avoid the possibility of files from a previous model run being read by mistake;\n",
    " - it runs pre-processing steps (see `pyemu.helpers.apply_list_and_array_pars()`;\n",
    " - it executes system commands (usually running the simulator, i.e. MODFLOW). (*This is still missing. We will demonstrate next.*)\n",
    " - it executes post-processing steps; (*for now there aren't any*)\n",
    " - ...it washes the dishes (sorry, no it doesn't...this feature is still in development)."
   ]
  },
  {
   "cell_type": "code",
   "execution_count": 36,
   "metadata": {
    "execution": {
     "iopub.execute_input": "2022-02-21T04:20:43.701759Z",
     "iopub.status.busy": "2022-02-21T04:20:43.700787Z",
     "iopub.status.idle": "2022-02-21T04:20:43.706791Z",
     "shell.execute_reply": "2022-02-21T04:20:43.706791Z"
    }
   },
   "outputs": [
    {
     "name": "stdout",
     "output_type": "stream",
     "text": [
      "import os\n",
      "import multiprocessing as mp\n",
      "import numpy as np\n",
      "import pandas as pd\n",
      "import pyemu\n",
      "def main():\n",
      "\n",
      "    try:\n",
      "       os.remove(r'heads.csv')\n",
      "    except Exception as e:\n",
      "       print(r'error removing tmp file:heads.csv')\n",
      "    try:\n",
      "       os.remove(r'sfr.csv')\n",
      "    except Exception as e:\n",
      "       print(r'error removing tmp file:sfr.csv')\n",
      "    pyemu.helpers.apply_list_and_array_pars(arr_par_file='mult2model_info.csv',chunk_len=50)\n",
      "\n",
      "if __name__ == '__main__':\n",
      "    mp.freeze_support()\n",
      "    main()\n",
      "\n"
     ]
    }
   ],
   "source": [
    "_ = [print(line.rstrip()) for line in open(os.path.join(template_ws,\"forward_run.py\"))]"
   ]
  },
  {
   "cell_type": "markdown",
   "metadata": {},
   "source": [
    "That's pretty amazing. But as we just saw, we still need to add commands to actualy run the model.\n",
    "\n",
    "`PstFrom` allows you to pass a list of system commands which will be executed in sequence. It also has methods for including Python functions that run before or after the system commands. These make pre-/post-processing a piece of cake. In fact, we have already started to add to it. Remember all of the multiplier and additive parameters we setup? These all require pre-processing steps to convert the PEST-generated multipliers into model input values. `PstFrom` will automatically add these functions to the `forward_run.py` script. Nifty, hey?\n",
    "\n",
    "Next we will demonstrate how to specify the system commands and add Python functions as processing steps.\n",
    "\n",
    "#### 6.2. Sys Commands\n",
    "\n",
    "Let's start by adding a command line instruction. These are stored as a list in `PstFrom.mod_sys_cmds`, which is currently empty. "
   ]
  },
  {
   "cell_type": "code",
   "execution_count": 37,
   "metadata": {
    "execution": {
     "iopub.execute_input": "2022-02-21T04:20:43.710739Z",
     "iopub.status.busy": "2022-02-21T04:20:43.709761Z",
     "iopub.status.idle": "2022-02-21T04:20:43.714760Z",
     "shell.execute_reply": "2022-02-21T04:20:43.714760Z"
    }
   },
   "outputs": [
    {
     "data": {
      "text/plain": [
       "[]"
      ]
     },
     "execution_count": 37,
     "metadata": {},
     "output_type": "execute_result"
    }
   ],
   "source": [
    "pf.mod_sys_cmds "
   ]
  },
  {
   "cell_type": "markdown",
   "metadata": {},
   "source": [
    "To run a MODFLOW6 model from the command line, you can simply execute `mf6` in the model folder. So, we can add this command by appending it to the list. (Do this only once! Every time you append 'mf6' results in an additional call to MODFLOW6, meaning the model would be run multiple times.)\n",
    "\n",
    "`PstFrom` will add a line to `forward_run.py` w"
   ]
  },
  {
   "cell_type": "code",
   "execution_count": 38,
   "metadata": {
    "execution": {
     "iopub.execute_input": "2022-02-21T04:20:43.717716Z",
     "iopub.status.busy": "2022-02-21T04:20:43.717716Z",
     "iopub.status.idle": "2022-02-21T04:20:43.721739Z",
     "shell.execute_reply": "2022-02-21T04:20:43.721739Z"
    }
   },
   "outputs": [
    {
     "data": {
      "text/plain": [
       "['mf6']"
      ]
     },
     "execution_count": 38,
     "metadata": {},
     "output_type": "execute_result"
    }
   ],
   "source": [
    "pf.mod_sys_cmds.append(\"mf6\") #do this only once\n",
    "pf.mod_sys_cmds"
   ]
  },
  {
   "cell_type": "markdown",
   "metadata": {},
   "source": [
    "OK, now let's re-build the Pst control file and check out the changes ot the `forward_run.py` script.\n",
    "\n",
    "You should see that `pyemu.os_utils.run(r'mf6')` has been added after the pre-processing functions."
   ]
  },
  {
   "cell_type": "code",
   "execution_count": 39,
   "metadata": {
    "execution": {
     "iopub.execute_input": "2022-02-21T04:20:43.730716Z",
     "iopub.status.busy": "2022-02-21T04:20:43.730716Z",
     "iopub.status.idle": "2022-02-21T04:20:45.548502Z",
     "shell.execute_reply": "2022-02-21T04:20:45.547511Z"
    }
   },
   "outputs": [
    {
     "name": "stdout",
     "output_type": "stream",
     "text": [
      "noptmax:0, npar_adj:25454, nnz_obs:725\n"
     ]
    },
    {
     "name": "stdout",
     "output_type": "stream",
     "text": [
      "2022-02-21 14:50:45.286995 forward_run line:pyemu.os_utils.run(r'mf6')\n",
      "\n"
     ]
    },
    {
     "name": "stdout",
     "output_type": "stream",
     "text": [
      "import os\n",
      "import multiprocessing as mp\n",
      "import numpy as np\n",
      "import pandas as pd\n",
      "import pyemu\n",
      "def main():\n",
      "\n",
      "    try:\n",
      "       os.remove(r'heads.csv')\n",
      "    except Exception as e:\n",
      "       print(r'error removing tmp file:heads.csv')\n",
      "    try:\n",
      "       os.remove(r'sfr.csv')\n",
      "    except Exception as e:\n",
      "       print(r'error removing tmp file:sfr.csv')\n",
      "    pyemu.helpers.apply_list_and_array_pars(arr_par_file='mult2model_info.csv',chunk_len=50)\n",
      "    pyemu.os_utils.run(r'mf6')\n",
      "\n",
      "\n",
      "if __name__ == '__main__':\n",
      "    mp.freeze_support()\n",
      "    main()\n",
      "\n"
     ]
    }
   ],
   "source": [
    "pst = pf.build_pst()\n",
    "\n",
    "_ = [print(line.rstrip()) for line in open(os.path.join(template_ws,\"forward_run.py\"))]"
   ]
  },
  {
   "cell_type": "markdown",
   "metadata": {},
   "source": [
    "#### 6.3. Extra pre- and post-processing functions\n",
    "\n",
    "You will also certainly need to include some additional processing steps.  These are supported thru the `PstFrom.pre_py_cmds` and `PstFrom.post_py_cmds`, which are lists for pre and post model run python commands and `PstFrom.pre_sys_cmds` and `PstFrom.post_sys_cmds`, which are lists for pre and post model run system commands (these are wrapped in `pyemu.os_utils.run()`.  \n",
    "\n",
    "But what if your additional steps are actually an entire python function? Well, we got that too! `PstFrom.add_py_function()`. This method allows you to get functions from another (pre-prepared) python source file and add them to the `forward_run.py` script. We will deonstrate this to post-process secondary model observations after each run.\n",
    "\n",
    "#### 6.3.1. Secondary Observations\n",
    "\n",
    "Often it is usefull to include \"secondary model outcomes\" as observations. These can be important components in a history-matching dataset to tease out specific aspects of system behaviour (e.g. head differences between aquifer layers to inform vertical permeabilities). Or they may be simple summaries of modelled outputs which are of interest for a prediction (e.g. minimum simulated head over a given period).\n",
    "\n",
    "If you inspect the tutorial folder you will find a file named `helpers.py`. This is a python source file which we have prepared for you. (Open it to see how it is organized.) It contains a function named `process_secondary_obs()`. This function reads the model output .csv files, processes them and writes a series of new observation .csv files. These new files contain (1) the temporal-differences between head and SFR observations, and (2) the difference in heads between the top and bottom layers at each observation point. The new .csv files are named `heads.tdiff.csv`,`sfr.tdiff.csv` and `heads.vdiff.csv` respectively.\n",
    "\n",
    "First, lets load the function here and run it so you can see what happens. (And to make sure that the observation files are in the template folder!) \n",
    "\n",
    "Run the next cell, then inspect the template folder. You should see three new csv files. These are the new secondary observations calculated by the post-processing function."
   ]
  },
  {
   "cell_type": "code",
   "execution_count": 40,
   "metadata": {
    "execution": {
     "iopub.execute_input": "2022-02-21T04:20:45.550474Z",
     "iopub.status.busy": "2022-02-21T04:20:45.550474Z",
     "iopub.status.idle": "2022-02-21T04:20:45.566455Z",
     "shell.execute_reply": "2022-02-21T04:20:45.566455Z"
    }
   },
   "outputs": [
    {
     "name": "stdout",
     "output_type": "stream",
     "text": [
      "Secondary observation files processed.\n"
     ]
    }
   ],
   "source": [
    "from helpers import  process_secondary_obs\n",
    "\n",
    "process_secondary_obs(ws=template_ws)"
   ]
  },
  {
   "cell_type": "code",
   "execution_count": 41,
   "metadata": {
    "execution": {
     "iopub.execute_input": "2022-02-21T04:20:45.569427Z",
     "iopub.status.busy": "2022-02-21T04:20:45.569427Z",
     "iopub.status.idle": "2022-02-21T04:20:45.574450Z",
     "shell.execute_reply": "2022-02-21T04:20:45.574450Z"
    }
   },
   "outputs": [
    {
     "data": {
      "text/plain": [
       "['heads.csv',\n",
       " 'heads.tdiff.csv',\n",
       " 'heads.vdiff.csv',\n",
       " 'mult2model_info.csv',\n",
       " 'sfr.csv',\n",
       " 'sfr.tdiff.csv']"
      ]
     },
     "execution_count": 41,
     "metadata": {},
     "output_type": "execute_result"
    }
   ],
   "source": [
    "[f for f in os.listdir(template_ws) if f.endswith(\".csv\")]"
   ]
  },
  {
   "cell_type": "markdown",
   "metadata": {},
   "source": [
    "OK, so now let's add this function to the `forward_run.py` script."
   ]
  },
  {
   "cell_type": "code",
   "execution_count": 42,
   "metadata": {
    "execution": {
     "iopub.execute_input": "2022-02-21T04:20:45.577393Z",
     "iopub.status.busy": "2022-02-21T04:20:45.577393Z",
     "iopub.status.idle": "2022-02-21T04:20:45.579436Z",
     "shell.execute_reply": "2022-02-21T04:20:45.579436Z"
    }
   },
   "outputs": [],
   "source": [
    "pf.add_py_function(\"helpers.py\", # the file which contains the function\n",
    "                    \"process_secondary_obs(ws='.')\", #the function, making sure to specify any arguments it may requrie\n",
    "                    is_pre_cmd=False) # whether it runs before the model system command, or after. In this case, after."
   ]
  },
  {
   "cell_type": "markdown",
   "metadata": {},
   "source": [
    "And, boom! Bob's your uncle. As easy as that.\n",
    "\n",
    "Now, of course we want to add these observations to `PstFrom` as well:"
   ]
  },
  {
   "cell_type": "code",
   "execution_count": 43,
   "metadata": {
    "execution": {
     "iopub.execute_input": "2022-02-21T04:20:45.585371Z",
     "iopub.status.busy": "2022-02-21T04:20:45.585371Z",
     "iopub.status.idle": "2022-02-21T04:20:45.689693Z",
     "shell.execute_reply": "2022-02-21T04:20:45.687704Z"
    }
   },
   "outputs": [
    {
     "name": "stdout",
     "output_type": "stream",
     "text": [
      "2022-02-21 14:50:45.589413 starting: adding observations from output file sfr.tdiff.csv\n",
      "2022-02-21 14:50:45.589413 starting: adding observations from tabular output file '['sfr.tdiff.csv']'\n",
      "2022-02-21 14:50:45.589413 starting: reading list-style file: freyberg6_template\\sfr.tdiff.csv\n",
      "2022-02-21 14:50:45.591411 finished: reading list-style file: freyberg6_template\\sfr.tdiff.csv took: 0:00:00.001998\n",
      "2022-02-21 14:50:45.591411 starting: building insfile for tabular output file sfr.tdiff.csv\n",
      "2022-02-21 14:50:45.598389 finished: building insfile for tabular output file sfr.tdiff.csv took: 0:00:00.006978\n",
      "2022-02-21 14:50:45.598389 starting: adding observation from instruction file 'freyberg6_template\\sfr.tdiff.csv.ins'\n",
      "2022-02-21 14:50:45.609867 finished: adding observation from instruction file 'freyberg6_template\\sfr.tdiff.csv.ins' took: 0:00:00.011478\n",
      "2022-02-21 14:50:45.610910 finished: adding observations from tabular output file '['sfr.tdiff.csv']' took: 0:00:00.021497\n",
      "2022-02-21 14:50:45.617896 starting: adding observations from output file heads.tdiff.csv\n",
      "2022-02-21 14:50:45.617896 starting: adding observations from tabular output file '['heads.tdiff.csv']'\n",
      "2022-02-21 14:50:45.618843 starting: reading list-style file: freyberg6_template\\heads.tdiff.csv\n",
      "2022-02-21 14:50:45.620889 finished: reading list-style file: freyberg6_template\\heads.tdiff.csv took: 0:00:00.002046\n",
      "2022-02-21 14:50:45.620889 starting: building insfile for tabular output file heads.tdiff.csv\n",
      "2022-02-21 14:50:45.628868 finished: building insfile for tabular output file heads.tdiff.csv took: 0:00:00.007979\n",
      "2022-02-21 14:50:45.628868 starting: adding observation from instruction file 'freyberg6_template\\heads.tdiff.csv.ins'\n",
      "2022-02-21 14:50:45.647819 finished: adding observation from instruction file 'freyberg6_template\\heads.tdiff.csv.ins' took: 0:00:00.018951\n",
      "2022-02-21 14:50:45.648763 finished: adding observations from tabular output file '['heads.tdiff.csv']' took: 0:00:00.030867\n",
      "2022-02-21 14:50:45.655797 starting: adding observations from output file heads.vdiff.csv\n",
      "2022-02-21 14:50:45.655797 starting: adding observations from tabular output file '['heads.vdiff.csv']'\n",
      "2022-02-21 14:50:45.655797 starting: reading list-style file: freyberg6_template\\heads.vdiff.csv\n",
      "2022-02-21 14:50:45.657738 finished: reading list-style file: freyberg6_template\\heads.vdiff.csv took: 0:00:00.001941\n",
      "2022-02-21 14:50:45.657738 starting: building insfile for tabular output file heads.vdiff.csv\n",
      "2022-02-21 14:50:45.664774 finished: building insfile for tabular output file heads.vdiff.csv took: 0:00:00.007036\n",
      "2022-02-21 14:50:45.664774 starting: adding observation from instruction file 'freyberg6_template\\heads.vdiff.csv.ins'\n",
      "2022-02-21 14:50:45.679732 finished: adding observation from instruction file 'freyberg6_template\\heads.vdiff.csv.ins' took: 0:00:00.014958\n",
      "2022-02-21 14:50:45.681707 finished: adding observations from tabular output file '['heads.vdiff.csv']' took: 0:00:00.025910\n"
     ]
    }
   ],
   "source": [
    "\n",
    "df = pd.read_csv(os.path.join(template_ws, \"sfr.tdiff.csv\"), index_col=0)\n",
    "_ = pf.add_observations(\"sfr.tdiff.csv\", # the model output file to read\n",
    "                            insfile=\"sfr.tdiff.csv.ins\", #optional, the instruction file name\n",
    "                            index_cols=\"time\", #column header to use as index; can also use column number (zero-based) instead of the header name\n",
    "                            use_cols=list(df.columns.values), #names of columns that include observation values; can also use column number (zero-based) instead of the header name\n",
    "                            prefix=\"sfrtd\") #prefix to all observation \n",
    "                            \n",
    "df = pd.read_csv(os.path.join(template_ws, \"heads.tdiff.csv\"), index_col=0)\n",
    "_ = pf.add_observations(\"heads.tdiff.csv\", # the model output file to read\n",
    "                            insfile=\"heads.tdiff.csv.ins\", #optional, the instruction file name\n",
    "                            index_cols=\"time\", #column header to use as index; can also use column number (zero-based) instead of the header name\n",
    "                            use_cols=list(df.columns.values), #names of columns that include observation values; can also use column number (zero-based) instead of the header name\n",
    "                            prefix=\"hdstd\") #prefix to all observation names\n",
    "\n",
    "df = pd.read_csv(os.path.join(template_ws, \"heads.vdiff.csv\"), index_col=0)\n",
    "_ = pf.add_observations(\"heads.vdiff.csv\", # the model output file to read\n",
    "                            insfile=\"heads.vdiff.csv.ins\", #optional, the instruction file name\n",
    "                            index_cols=\"time\", #column header to use as index; can also use column number (zero-based) instead of the header name\n",
    "                            use_cols=list(df.columns.values), #names of columns that include observation values; can also use column number (zero-based) instead of the header name\n",
    "                            prefix=\"hdsvd\") #prefix to all observation names"
   ]
  },
  {
   "cell_type": "markdown",
   "metadata": {},
   "source": [
    "Remember to re-build the Pst control file:"
   ]
  },
  {
   "cell_type": "code",
   "execution_count": 44,
   "metadata": {
    "execution": {
     "iopub.execute_input": "2022-02-21T04:20:45.704614Z",
     "iopub.status.busy": "2022-02-21T04:20:45.703615Z",
     "iopub.status.idle": "2022-02-21T04:20:47.624011Z",
     "shell.execute_reply": "2022-02-21T04:20:47.625008Z"
    }
   },
   "outputs": [
    {
     "name": "stdout",
     "output_type": "stream",
     "text": [
      "noptmax:0, npar_adj:25454, nnz_obs:1775\n"
     ]
    },
    {
     "name": "stdout",
     "output_type": "stream",
     "text": [
      "2022-02-21 14:50:47.322839 WARNING: sys_cmd 'pyemu.os_utils.run(r'mf6')\n",
      "' already in sys cmds, skipping...\n"
     ]
    }
   ],
   "source": [
    "pst = pf.build_pst()"
   ]
  },
  {
   "cell_type": "markdown",
   "metadata": {},
   "source": [
    "### 7. After Building the Control File\n",
    "\n",
    "At this point, we can do some additional modifications that would typically be done that are problem specific.  Here we can tweak the setup, specifying things such as observation weights, parameter bounds, transforms, control data, etc. \n",
    "\n",
    "Note that any modifications made after calling `PstFrom.build_pst()` will only exist in memory - you need to call `pf.pst.write()` to record these changes to the control file on disk.  Also note that if you call `PstFrom.build_pst()` after making some changes, these changes will be lost.  \n",
    "\n",
    "For the current case, the main thing we haven't addressed are the observation weights. We will do so now.\n",
    "\n",
    "#### 7.1. Setting observation weights\n",
    "\n",
    "So far, we have automated the setup for PEST(++).  But one critical task remains and there is not an easy way to automate it:  setting the actual observed values and weights in the `* observation data` information.  \n",
    "\n",
    "`PstFrom` and `Pst` will both try to read existing model output files that correspond to instruction files and put those simulated values into the `* observation data` section for the observed values (the `obsval` quantity).  Here, we pre-populated the model output files with \"measured values\". So, in our case, we are OK in this regard.  Alternatively, we could have edited the `* observation data` at this stage, assigning the respective measured values into the `obsval` column. \n",
    "\n",
    "What we are unable to deal with beforehand are the observation weights. Let's take a look at the observation data:"
   ]
  },
  {
   "cell_type": "code",
   "execution_count": 45,
   "metadata": {
    "execution": {
     "iopub.execute_input": "2022-02-21T04:20:47.637974Z",
     "iopub.status.busy": "2022-02-21T04:20:47.636975Z",
     "iopub.status.idle": "2022-02-21T04:20:47.639967Z",
     "shell.execute_reply": "2022-02-21T04:20:47.639967Z"
    }
   },
   "outputs": [
    {
     "data": {
      "text/html": [
       "<div>\n",
       "<style scoped>\n",
       "    .dataframe tbody tr th:only-of-type {\n",
       "        vertical-align: middle;\n",
       "    }\n",
       "\n",
       "    .dataframe tbody tr th {\n",
       "        vertical-align: top;\n",
       "    }\n",
       "\n",
       "    .dataframe thead th {\n",
       "        text-align: right;\n",
       "    }\n",
       "</style>\n",
       "<table border=\"1\" class=\"dataframe\">\n",
       "  <thead>\n",
       "    <tr style=\"text-align: right;\">\n",
       "      <th></th>\n",
       "      <th>obsnme</th>\n",
       "      <th>obsval</th>\n",
       "      <th>weight</th>\n",
       "      <th>obgnme</th>\n",
       "      <th>oname</th>\n",
       "      <th>otype</th>\n",
       "      <th>usecol</th>\n",
       "      <th>time</th>\n",
       "    </tr>\n",
       "  </thead>\n",
       "  <tbody>\n",
       "    <tr>\n",
       "      <th>oname:hds_otype:lst_usecol:trgw_0_13_10_time:1.0</th>\n",
       "      <td>oname:hds_otype:lst_usecol:trgw_0_13_10_time:1.0</td>\n",
       "      <td>34.404445</td>\n",
       "      <td>1.0</td>\n",
       "      <td>oname:hds_otype:lst_usecol:trgw_0_13_10</td>\n",
       "      <td>hds</td>\n",
       "      <td>lst</td>\n",
       "      <td>trgw</td>\n",
       "      <td>1.0</td>\n",
       "    </tr>\n",
       "    <tr>\n",
       "      <th>oname:hds_otype:lst_usecol:trgw_0_13_10_time:122.0</th>\n",
       "      <td>oname:hds_otype:lst_usecol:trgw_0_13_10_time:122.0</td>\n",
       "      <td>34.450289</td>\n",
       "      <td>1.0</td>\n",
       "      <td>oname:hds_otype:lst_usecol:trgw_0_13_10</td>\n",
       "      <td>hds</td>\n",
       "      <td>lst</td>\n",
       "      <td>trgw</td>\n",
       "      <td>122.0</td>\n",
       "    </tr>\n",
       "    <tr>\n",
       "      <th>oname:hds_otype:lst_usecol:trgw_0_13_10_time:153.0</th>\n",
       "      <td>oname:hds_otype:lst_usecol:trgw_0_13_10_time:153.0</td>\n",
       "      <td>34.449492</td>\n",
       "      <td>1.0</td>\n",
       "      <td>oname:hds_otype:lst_usecol:trgw_0_13_10</td>\n",
       "      <td>hds</td>\n",
       "      <td>lst</td>\n",
       "      <td>trgw</td>\n",
       "      <td>153.0</td>\n",
       "    </tr>\n",
       "    <tr>\n",
       "      <th>oname:hds_otype:lst_usecol:trgw_0_13_10_time:183.0</th>\n",
       "      <td>oname:hds_otype:lst_usecol:trgw_0_13_10_time:183.0</td>\n",
       "      <td>34.383839</td>\n",
       "      <td>1.0</td>\n",
       "      <td>oname:hds_otype:lst_usecol:trgw_0_13_10</td>\n",
       "      <td>hds</td>\n",
       "      <td>lst</td>\n",
       "      <td>trgw</td>\n",
       "      <td>183.0</td>\n",
       "    </tr>\n",
       "    <tr>\n",
       "      <th>oname:hds_otype:lst_usecol:trgw_0_13_10_time:214.0</th>\n",
       "      <td>oname:hds_otype:lst_usecol:trgw_0_13_10_time:214.0</td>\n",
       "      <td>34.332796</td>\n",
       "      <td>1.0</td>\n",
       "      <td>oname:hds_otype:lst_usecol:trgw_0_13_10</td>\n",
       "      <td>hds</td>\n",
       "      <td>lst</td>\n",
       "      <td>trgw</td>\n",
       "      <td>214.0</td>\n",
       "    </tr>\n",
       "    <tr>\n",
       "      <th>...</th>\n",
       "      <td>...</td>\n",
       "      <td>...</td>\n",
       "      <td>...</td>\n",
       "      <td>...</td>\n",
       "      <td>...</td>\n",
       "      <td>...</td>\n",
       "      <td>...</td>\n",
       "      <td>...</td>\n",
       "    </tr>\n",
       "    <tr>\n",
       "      <th>oname:hdsvd_otype:lst_usecol:trgw_0_9_1_time:640.0</th>\n",
       "      <td>oname:hdsvd_otype:lst_usecol:trgw_0_9_1_time:640.0</td>\n",
       "      <td>0.002541</td>\n",
       "      <td>1.0</td>\n",
       "      <td>oname:hdsvd_otype:lst_usecol:trgw_0_9_1</td>\n",
       "      <td>hdsvd</td>\n",
       "      <td>lst</td>\n",
       "      <td>trgw</td>\n",
       "      <td>640.0</td>\n",
       "    </tr>\n",
       "    <tr>\n",
       "      <th>oname:hdsvd_otype:lst_usecol:trgw_0_9_1_time:671.0</th>\n",
       "      <td>oname:hdsvd_otype:lst_usecol:trgw_0_9_1_time:671.0</td>\n",
       "      <td>0.003059</td>\n",
       "      <td>1.0</td>\n",
       "      <td>oname:hdsvd_otype:lst_usecol:trgw_0_9_1</td>\n",
       "      <td>hdsvd</td>\n",
       "      <td>lst</td>\n",
       "      <td>trgw</td>\n",
       "      <td>671.0</td>\n",
       "    </tr>\n",
       "    <tr>\n",
       "      <th>oname:hdsvd_otype:lst_usecol:trgw_0_9_1_time:701.0</th>\n",
       "      <td>oname:hdsvd_otype:lst_usecol:trgw_0_9_1_time:701.0</td>\n",
       "      <td>0.002885</td>\n",
       "      <td>1.0</td>\n",
       "      <td>oname:hdsvd_otype:lst_usecol:trgw_0_9_1</td>\n",
       "      <td>hdsvd</td>\n",
       "      <td>lst</td>\n",
       "      <td>trgw</td>\n",
       "      <td>701.0</td>\n",
       "    </tr>\n",
       "    <tr>\n",
       "      <th>oname:hdsvd_otype:lst_usecol:trgw_0_9_1_time:732.0</th>\n",
       "      <td>oname:hdsvd_otype:lst_usecol:trgw_0_9_1_time:732.0</td>\n",
       "      <td>0.007725</td>\n",
       "      <td>1.0</td>\n",
       "      <td>oname:hdsvd_otype:lst_usecol:trgw_0_9_1</td>\n",
       "      <td>hdsvd</td>\n",
       "      <td>lst</td>\n",
       "      <td>trgw</td>\n",
       "      <td>732.0</td>\n",
       "    </tr>\n",
       "    <tr>\n",
       "      <th>oname:hdsvd_otype:lst_usecol:trgw_0_9_1_time:92.0</th>\n",
       "      <td>oname:hdsvd_otype:lst_usecol:trgw_0_9_1_time:92.0</td>\n",
       "      <td>0.004612</td>\n",
       "      <td>1.0</td>\n",
       "      <td>oname:hdsvd_otype:lst_usecol:trgw_0_9_1</td>\n",
       "      <td>hdsvd</td>\n",
       "      <td>lst</td>\n",
       "      <td>trgw</td>\n",
       "      <td>92.0</td>\n",
       "    </tr>\n",
       "  </tbody>\n",
       "</table>\n",
       "<p>1775 rows × 8 columns</p>\n",
       "</div>"
      ],
      "text/plain": [
       "                                                                                                obsnme  \\\n",
       "oname:hds_otype:lst_usecol:trgw_0_13_10_time:1.0      oname:hds_otype:lst_usecol:trgw_0_13_10_time:1.0   \n",
       "oname:hds_otype:lst_usecol:trgw_0_13_10_time:122.0  oname:hds_otype:lst_usecol:trgw_0_13_10_time:122.0   \n",
       "oname:hds_otype:lst_usecol:trgw_0_13_10_time:153.0  oname:hds_otype:lst_usecol:trgw_0_13_10_time:153.0   \n",
       "oname:hds_otype:lst_usecol:trgw_0_13_10_time:183.0  oname:hds_otype:lst_usecol:trgw_0_13_10_time:183.0   \n",
       "oname:hds_otype:lst_usecol:trgw_0_13_10_time:214.0  oname:hds_otype:lst_usecol:trgw_0_13_10_time:214.0   \n",
       "...                                                                                                ...   \n",
       "oname:hdsvd_otype:lst_usecol:trgw_0_9_1_time:640.0  oname:hdsvd_otype:lst_usecol:trgw_0_9_1_time:640.0   \n",
       "oname:hdsvd_otype:lst_usecol:trgw_0_9_1_time:671.0  oname:hdsvd_otype:lst_usecol:trgw_0_9_1_time:671.0   \n",
       "oname:hdsvd_otype:lst_usecol:trgw_0_9_1_time:701.0  oname:hdsvd_otype:lst_usecol:trgw_0_9_1_time:701.0   \n",
       "oname:hdsvd_otype:lst_usecol:trgw_0_9_1_time:732.0  oname:hdsvd_otype:lst_usecol:trgw_0_9_1_time:732.0   \n",
       "oname:hdsvd_otype:lst_usecol:trgw_0_9_1_time:92.0    oname:hdsvd_otype:lst_usecol:trgw_0_9_1_time:92.0   \n",
       "\n",
       "                                                       obsval  weight  \\\n",
       "oname:hds_otype:lst_usecol:trgw_0_13_10_time:1.0    34.404445     1.0   \n",
       "oname:hds_otype:lst_usecol:trgw_0_13_10_time:122.0  34.450289     1.0   \n",
       "oname:hds_otype:lst_usecol:trgw_0_13_10_time:153.0  34.449492     1.0   \n",
       "oname:hds_otype:lst_usecol:trgw_0_13_10_time:183.0  34.383839     1.0   \n",
       "oname:hds_otype:lst_usecol:trgw_0_13_10_time:214.0  34.332796     1.0   \n",
       "...                                                       ...     ...   \n",
       "oname:hdsvd_otype:lst_usecol:trgw_0_9_1_time:640.0   0.002541     1.0   \n",
       "oname:hdsvd_otype:lst_usecol:trgw_0_9_1_time:671.0   0.003059     1.0   \n",
       "oname:hdsvd_otype:lst_usecol:trgw_0_9_1_time:701.0   0.002885     1.0   \n",
       "oname:hdsvd_otype:lst_usecol:trgw_0_9_1_time:732.0   0.007725     1.0   \n",
       "oname:hdsvd_otype:lst_usecol:trgw_0_9_1_time:92.0    0.004612     1.0   \n",
       "\n",
       "                                                                                     obgnme  \\\n",
       "oname:hds_otype:lst_usecol:trgw_0_13_10_time:1.0    oname:hds_otype:lst_usecol:trgw_0_13_10   \n",
       "oname:hds_otype:lst_usecol:trgw_0_13_10_time:122.0  oname:hds_otype:lst_usecol:trgw_0_13_10   \n",
       "oname:hds_otype:lst_usecol:trgw_0_13_10_time:153.0  oname:hds_otype:lst_usecol:trgw_0_13_10   \n",
       "oname:hds_otype:lst_usecol:trgw_0_13_10_time:183.0  oname:hds_otype:lst_usecol:trgw_0_13_10   \n",
       "oname:hds_otype:lst_usecol:trgw_0_13_10_time:214.0  oname:hds_otype:lst_usecol:trgw_0_13_10   \n",
       "...                                                                                     ...   \n",
       "oname:hdsvd_otype:lst_usecol:trgw_0_9_1_time:640.0  oname:hdsvd_otype:lst_usecol:trgw_0_9_1   \n",
       "oname:hdsvd_otype:lst_usecol:trgw_0_9_1_time:671.0  oname:hdsvd_otype:lst_usecol:trgw_0_9_1   \n",
       "oname:hdsvd_otype:lst_usecol:trgw_0_9_1_time:701.0  oname:hdsvd_otype:lst_usecol:trgw_0_9_1   \n",
       "oname:hdsvd_otype:lst_usecol:trgw_0_9_1_time:732.0  oname:hdsvd_otype:lst_usecol:trgw_0_9_1   \n",
       "oname:hdsvd_otype:lst_usecol:trgw_0_9_1_time:92.0   oname:hdsvd_otype:lst_usecol:trgw_0_9_1   \n",
       "\n",
       "                                                    oname otype usecol   time  \n",
       "oname:hds_otype:lst_usecol:trgw_0_13_10_time:1.0      hds   lst   trgw    1.0  \n",
       "oname:hds_otype:lst_usecol:trgw_0_13_10_time:122.0    hds   lst   trgw  122.0  \n",
       "oname:hds_otype:lst_usecol:trgw_0_13_10_time:153.0    hds   lst   trgw  153.0  \n",
       "oname:hds_otype:lst_usecol:trgw_0_13_10_time:183.0    hds   lst   trgw  183.0  \n",
       "oname:hds_otype:lst_usecol:trgw_0_13_10_time:214.0    hds   lst   trgw  214.0  \n",
       "...                                                   ...   ...    ...    ...  \n",
       "oname:hdsvd_otype:lst_usecol:trgw_0_9_1_time:640.0  hdsvd   lst   trgw  640.0  \n",
       "oname:hdsvd_otype:lst_usecol:trgw_0_9_1_time:671.0  hdsvd   lst   trgw  671.0  \n",
       "oname:hdsvd_otype:lst_usecol:trgw_0_9_1_time:701.0  hdsvd   lst   trgw  701.0  \n",
       "oname:hdsvd_otype:lst_usecol:trgw_0_9_1_time:732.0  hdsvd   lst   trgw  732.0  \n",
       "oname:hdsvd_otype:lst_usecol:trgw_0_9_1_time:92.0   hdsvd   lst   trgw   92.0  \n",
       "\n",
       "[1775 rows x 8 columns]"
      ]
     },
     "execution_count": 45,
     "metadata": {},
     "output_type": "execute_result"
    }
   ],
   "source": [
    "obs = pst.observation_data\n",
    "obs"
   ]
  },
  {
   "cell_type": "markdown",
   "metadata": {},
   "source": [
    "Hmm, that's alot of observations. And remember, alot of these pertain to the \"prediction\" period. We definitly do not want those to have an influence on history-matching.\n",
    "\n",
    "To be on the safe side, let's assign a weight of zero to all observations. Then, we will assign weights to specific observations that we wish to include as history-matching targets."
   ]
  },
  {
   "cell_type": "code",
   "execution_count": 46,
   "metadata": {
    "execution": {
     "iopub.execute_input": "2022-02-21T04:20:47.648945Z",
     "iopub.status.busy": "2022-02-21T04:20:47.642962Z",
     "iopub.status.idle": "2022-02-21T04:20:47.652934Z",
     "shell.execute_reply": "2022-02-21T04:20:47.652934Z"
    }
   },
   "outputs": [
    {
     "data": {
      "text/html": [
       "<div>\n",
       "<style scoped>\n",
       "    .dataframe tbody tr th:only-of-type {\n",
       "        vertical-align: middle;\n",
       "    }\n",
       "\n",
       "    .dataframe tbody tr th {\n",
       "        vertical-align: top;\n",
       "    }\n",
       "\n",
       "    .dataframe thead th {\n",
       "        text-align: right;\n",
       "    }\n",
       "</style>\n",
       "<table border=\"1\" class=\"dataframe\">\n",
       "  <thead>\n",
       "    <tr style=\"text-align: right;\">\n",
       "      <th></th>\n",
       "      <th>obsnme</th>\n",
       "      <th>obsval</th>\n",
       "      <th>weight</th>\n",
       "      <th>obgnme</th>\n",
       "      <th>oname</th>\n",
       "      <th>otype</th>\n",
       "      <th>usecol</th>\n",
       "      <th>time</th>\n",
       "    </tr>\n",
       "  </thead>\n",
       "  <tbody>\n",
       "    <tr>\n",
       "      <th>oname:hds_otype:lst_usecol:trgw_0_13_10_time:1.0</th>\n",
       "      <td>oname:hds_otype:lst_usecol:trgw_0_13_10_time:1.0</td>\n",
       "      <td>34.404445</td>\n",
       "      <td>0</td>\n",
       "      <td>oname:hds_otype:lst_usecol:trgw_0_13_10</td>\n",
       "      <td>hds</td>\n",
       "      <td>lst</td>\n",
       "      <td>trgw</td>\n",
       "      <td>1.0</td>\n",
       "    </tr>\n",
       "    <tr>\n",
       "      <th>oname:hds_otype:lst_usecol:trgw_0_13_10_time:122.0</th>\n",
       "      <td>oname:hds_otype:lst_usecol:trgw_0_13_10_time:122.0</td>\n",
       "      <td>34.450289</td>\n",
       "      <td>0</td>\n",
       "      <td>oname:hds_otype:lst_usecol:trgw_0_13_10</td>\n",
       "      <td>hds</td>\n",
       "      <td>lst</td>\n",
       "      <td>trgw</td>\n",
       "      <td>122.0</td>\n",
       "    </tr>\n",
       "    <tr>\n",
       "      <th>oname:hds_otype:lst_usecol:trgw_0_13_10_time:153.0</th>\n",
       "      <td>oname:hds_otype:lst_usecol:trgw_0_13_10_time:153.0</td>\n",
       "      <td>34.449492</td>\n",
       "      <td>0</td>\n",
       "      <td>oname:hds_otype:lst_usecol:trgw_0_13_10</td>\n",
       "      <td>hds</td>\n",
       "      <td>lst</td>\n",
       "      <td>trgw</td>\n",
       "      <td>153.0</td>\n",
       "    </tr>\n",
       "    <tr>\n",
       "      <th>oname:hds_otype:lst_usecol:trgw_0_13_10_time:183.0</th>\n",
       "      <td>oname:hds_otype:lst_usecol:trgw_0_13_10_time:183.0</td>\n",
       "      <td>34.383839</td>\n",
       "      <td>0</td>\n",
       "      <td>oname:hds_otype:lst_usecol:trgw_0_13_10</td>\n",
       "      <td>hds</td>\n",
       "      <td>lst</td>\n",
       "      <td>trgw</td>\n",
       "      <td>183.0</td>\n",
       "    </tr>\n",
       "    <tr>\n",
       "      <th>oname:hds_otype:lst_usecol:trgw_0_13_10_time:214.0</th>\n",
       "      <td>oname:hds_otype:lst_usecol:trgw_0_13_10_time:214.0</td>\n",
       "      <td>34.332796</td>\n",
       "      <td>0</td>\n",
       "      <td>oname:hds_otype:lst_usecol:trgw_0_13_10</td>\n",
       "      <td>hds</td>\n",
       "      <td>lst</td>\n",
       "      <td>trgw</td>\n",
       "      <td>214.0</td>\n",
       "    </tr>\n",
       "  </tbody>\n",
       "</table>\n",
       "</div>"
      ],
      "text/plain": [
       "                                                                                                obsnme  \\\n",
       "oname:hds_otype:lst_usecol:trgw_0_13_10_time:1.0      oname:hds_otype:lst_usecol:trgw_0_13_10_time:1.0   \n",
       "oname:hds_otype:lst_usecol:trgw_0_13_10_time:122.0  oname:hds_otype:lst_usecol:trgw_0_13_10_time:122.0   \n",
       "oname:hds_otype:lst_usecol:trgw_0_13_10_time:153.0  oname:hds_otype:lst_usecol:trgw_0_13_10_time:153.0   \n",
       "oname:hds_otype:lst_usecol:trgw_0_13_10_time:183.0  oname:hds_otype:lst_usecol:trgw_0_13_10_time:183.0   \n",
       "oname:hds_otype:lst_usecol:trgw_0_13_10_time:214.0  oname:hds_otype:lst_usecol:trgw_0_13_10_time:214.0   \n",
       "\n",
       "                                                       obsval  weight  \\\n",
       "oname:hds_otype:lst_usecol:trgw_0_13_10_time:1.0    34.404445       0   \n",
       "oname:hds_otype:lst_usecol:trgw_0_13_10_time:122.0  34.450289       0   \n",
       "oname:hds_otype:lst_usecol:trgw_0_13_10_time:153.0  34.449492       0   \n",
       "oname:hds_otype:lst_usecol:trgw_0_13_10_time:183.0  34.383839       0   \n",
       "oname:hds_otype:lst_usecol:trgw_0_13_10_time:214.0  34.332796       0   \n",
       "\n",
       "                                                                                     obgnme  \\\n",
       "oname:hds_otype:lst_usecol:trgw_0_13_10_time:1.0    oname:hds_otype:lst_usecol:trgw_0_13_10   \n",
       "oname:hds_otype:lst_usecol:trgw_0_13_10_time:122.0  oname:hds_otype:lst_usecol:trgw_0_13_10   \n",
       "oname:hds_otype:lst_usecol:trgw_0_13_10_time:153.0  oname:hds_otype:lst_usecol:trgw_0_13_10   \n",
       "oname:hds_otype:lst_usecol:trgw_0_13_10_time:183.0  oname:hds_otype:lst_usecol:trgw_0_13_10   \n",
       "oname:hds_otype:lst_usecol:trgw_0_13_10_time:214.0  oname:hds_otype:lst_usecol:trgw_0_13_10   \n",
       "\n",
       "                                                   oname otype usecol   time  \n",
       "oname:hds_otype:lst_usecol:trgw_0_13_10_time:1.0     hds   lst   trgw    1.0  \n",
       "oname:hds_otype:lst_usecol:trgw_0_13_10_time:122.0   hds   lst   trgw  122.0  \n",
       "oname:hds_otype:lst_usecol:trgw_0_13_10_time:153.0   hds   lst   trgw  153.0  \n",
       "oname:hds_otype:lst_usecol:trgw_0_13_10_time:183.0   hds   lst   trgw  183.0  \n",
       "oname:hds_otype:lst_usecol:trgw_0_13_10_time:214.0   hds   lst   trgw  214.0  "
      ]
     },
     "execution_count": 46,
     "metadata": {},
     "output_type": "execute_result"
    }
   ],
   "source": [
    "# preemptive avoidance of sillyness\n",
    "obs['weight'] = 0\n",
    "obs.head()"
   ]
  },
  {
   "cell_type": "markdown",
   "metadata": {},
   "source": [
    "Because `PstFrom` is our friend, it kept track of lots of information. We can now use this to help us slice and select specific observations. Scroll though the `obs` columns to see what we have at hand. \n",
    "\n",
    "For example, the `oname` column stores the \"prefix\" we assigned eveytime we called `pf.add_observations()`. This makes it easy for us to now select observations according to which file they were read from.\n",
    "\n",
    "Just as a reminder:"
   ]
  },
  {
   "cell_type": "code",
   "execution_count": 47,
   "metadata": {
    "execution": {
     "iopub.execute_input": "2022-02-21T04:20:47.656923Z",
     "iopub.status.busy": "2022-02-21T04:20:47.656923Z",
     "iopub.status.idle": "2022-02-21T04:20:47.659913Z",
     "shell.execute_reply": "2022-02-21T04:20:47.659913Z"
    }
   },
   "outputs": [
    {
     "data": {
      "text/plain": [
       "array(['hds', 'sfr', 'sfrtd', 'hdstd', 'hdsvd'], dtype=object)"
      ]
     },
     "execution_count": 47,
     "metadata": {},
     "output_type": "execute_result"
    }
   ],
   "source": [
    "obs['oname'].unique()"
   ]
  },
  {
   "cell_type": "markdown",
   "metadata": {},
   "source": [
    "So, if we want to select observations from the `heads.csv` file, and that have a time < than 367, we can just use `Pandas` .loc:"
   ]
  },
  {
   "cell_type": "code",
   "execution_count": 48,
   "metadata": {
    "execution": {
     "iopub.execute_input": "2022-02-21T04:20:47.665924Z",
     "iopub.status.busy": "2022-02-21T04:20:47.664901Z",
     "iopub.status.idle": "2022-02-21T04:20:47.675871Z",
     "shell.execute_reply": "2022-02-21T04:20:47.675871Z"
    }
   },
   "outputs": [
    {
     "data": {
      "text/html": [
       "<div>\n",
       "<style scoped>\n",
       "    .dataframe tbody tr th:only-of-type {\n",
       "        vertical-align: middle;\n",
       "    }\n",
       "\n",
       "    .dataframe tbody tr th {\n",
       "        vertical-align: top;\n",
       "    }\n",
       "\n",
       "    .dataframe thead th {\n",
       "        text-align: right;\n",
       "    }\n",
       "</style>\n",
       "<table border=\"1\" class=\"dataframe\">\n",
       "  <thead>\n",
       "    <tr style=\"text-align: right;\">\n",
       "      <th></th>\n",
       "      <th>obsnme</th>\n",
       "      <th>obsval</th>\n",
       "      <th>weight</th>\n",
       "      <th>obgnme</th>\n",
       "      <th>oname</th>\n",
       "      <th>otype</th>\n",
       "      <th>usecol</th>\n",
       "      <th>time</th>\n",
       "    </tr>\n",
       "  </thead>\n",
       "  <tbody>\n",
       "    <tr>\n",
       "      <th>oname:hds_otype:lst_usecol:trgw_0_13_10_time:1.0</th>\n",
       "      <td>oname:hds_otype:lst_usecol:trgw_0_13_10_time:1.0</td>\n",
       "      <td>34.404445</td>\n",
       "      <td>0</td>\n",
       "      <td>oname:hds_otype:lst_usecol:trgw_0_13_10</td>\n",
       "      <td>hds</td>\n",
       "      <td>lst</td>\n",
       "      <td>trgw</td>\n",
       "      <td>1.0</td>\n",
       "    </tr>\n",
       "    <tr>\n",
       "      <th>oname:hds_otype:lst_usecol:trgw_0_13_10_time:122.0</th>\n",
       "      <td>oname:hds_otype:lst_usecol:trgw_0_13_10_time:122.0</td>\n",
       "      <td>34.450289</td>\n",
       "      <td>0</td>\n",
       "      <td>oname:hds_otype:lst_usecol:trgw_0_13_10</td>\n",
       "      <td>hds</td>\n",
       "      <td>lst</td>\n",
       "      <td>trgw</td>\n",
       "      <td>122.0</td>\n",
       "    </tr>\n",
       "    <tr>\n",
       "      <th>oname:hds_otype:lst_usecol:trgw_0_13_10_time:153.0</th>\n",
       "      <td>oname:hds_otype:lst_usecol:trgw_0_13_10_time:153.0</td>\n",
       "      <td>34.449492</td>\n",
       "      <td>0</td>\n",
       "      <td>oname:hds_otype:lst_usecol:trgw_0_13_10</td>\n",
       "      <td>hds</td>\n",
       "      <td>lst</td>\n",
       "      <td>trgw</td>\n",
       "      <td>153.0</td>\n",
       "    </tr>\n",
       "    <tr>\n",
       "      <th>oname:hds_otype:lst_usecol:trgw_0_13_10_time:183.0</th>\n",
       "      <td>oname:hds_otype:lst_usecol:trgw_0_13_10_time:183.0</td>\n",
       "      <td>34.383839</td>\n",
       "      <td>0</td>\n",
       "      <td>oname:hds_otype:lst_usecol:trgw_0_13_10</td>\n",
       "      <td>hds</td>\n",
       "      <td>lst</td>\n",
       "      <td>trgw</td>\n",
       "      <td>183.0</td>\n",
       "    </tr>\n",
       "    <tr>\n",
       "      <th>oname:hds_otype:lst_usecol:trgw_0_13_10_time:214.0</th>\n",
       "      <td>oname:hds_otype:lst_usecol:trgw_0_13_10_time:214.0</td>\n",
       "      <td>34.332796</td>\n",
       "      <td>0</td>\n",
       "      <td>oname:hds_otype:lst_usecol:trgw_0_13_10</td>\n",
       "      <td>hds</td>\n",
       "      <td>lst</td>\n",
       "      <td>trgw</td>\n",
       "      <td>214.0</td>\n",
       "    </tr>\n",
       "    <tr>\n",
       "      <th>...</th>\n",
       "      <td>...</td>\n",
       "      <td>...</td>\n",
       "      <td>...</td>\n",
       "      <td>...</td>\n",
       "      <td>...</td>\n",
       "      <td>...</td>\n",
       "      <td>...</td>\n",
       "      <td>...</td>\n",
       "    </tr>\n",
       "    <tr>\n",
       "      <th>oname:hds_otype:lst_usecol:trgw_2_9_1_time:32.0</th>\n",
       "      <td>oname:hds_otype:lst_usecol:trgw_2_9_1_time:32.0</td>\n",
       "      <td>35.150805</td>\n",
       "      <td>0</td>\n",
       "      <td>oname:hds_otype:lst_usecol:trgw_2_9_1</td>\n",
       "      <td>hds</td>\n",
       "      <td>lst</td>\n",
       "      <td>trgw</td>\n",
       "      <td>32.0</td>\n",
       "    </tr>\n",
       "    <tr>\n",
       "      <th>oname:hds_otype:lst_usecol:trgw_2_9_1_time:336.0</th>\n",
       "      <td>oname:hds_otype:lst_usecol:trgw_2_9_1_time:336.0</td>\n",
       "      <td>35.142183</td>\n",
       "      <td>0</td>\n",
       "      <td>oname:hds_otype:lst_usecol:trgw_2_9_1</td>\n",
       "      <td>hds</td>\n",
       "      <td>lst</td>\n",
       "      <td>trgw</td>\n",
       "      <td>336.0</td>\n",
       "    </tr>\n",
       "    <tr>\n",
       "      <th>oname:hds_otype:lst_usecol:trgw_2_9_1_time:367.0</th>\n",
       "      <td>oname:hds_otype:lst_usecol:trgw_2_9_1_time:367.0</td>\n",
       "      <td>35.385326</td>\n",
       "      <td>0</td>\n",
       "      <td>oname:hds_otype:lst_usecol:trgw_2_9_1</td>\n",
       "      <td>hds</td>\n",
       "      <td>lst</td>\n",
       "      <td>trgw</td>\n",
       "      <td>367.0</td>\n",
       "    </tr>\n",
       "    <tr>\n",
       "      <th>oname:hds_otype:lst_usecol:trgw_2_9_1_time:61.0</th>\n",
       "      <td>oname:hds_otype:lst_usecol:trgw_2_9_1_time:61.0</td>\n",
       "      <td>35.335261</td>\n",
       "      <td>0</td>\n",
       "      <td>oname:hds_otype:lst_usecol:trgw_2_9_1</td>\n",
       "      <td>hds</td>\n",
       "      <td>lst</td>\n",
       "      <td>trgw</td>\n",
       "      <td>61.0</td>\n",
       "    </tr>\n",
       "    <tr>\n",
       "      <th>oname:hds_otype:lst_usecol:trgw_2_9_1_time:92.0</th>\n",
       "      <td>oname:hds_otype:lst_usecol:trgw_2_9_1_time:92.0</td>\n",
       "      <td>35.383936</td>\n",
       "      <td>0</td>\n",
       "      <td>oname:hds_otype:lst_usecol:trgw_2_9_1</td>\n",
       "      <td>hds</td>\n",
       "      <td>lst</td>\n",
       "      <td>trgw</td>\n",
       "      <td>92.0</td>\n",
       "    </tr>\n",
       "  </tbody>\n",
       "</table>\n",
       "<p>338 rows × 8 columns</p>\n",
       "</div>"
      ],
      "text/plain": [
       "                                                                                                obsnme  \\\n",
       "oname:hds_otype:lst_usecol:trgw_0_13_10_time:1.0      oname:hds_otype:lst_usecol:trgw_0_13_10_time:1.0   \n",
       "oname:hds_otype:lst_usecol:trgw_0_13_10_time:122.0  oname:hds_otype:lst_usecol:trgw_0_13_10_time:122.0   \n",
       "oname:hds_otype:lst_usecol:trgw_0_13_10_time:153.0  oname:hds_otype:lst_usecol:trgw_0_13_10_time:153.0   \n",
       "oname:hds_otype:lst_usecol:trgw_0_13_10_time:183.0  oname:hds_otype:lst_usecol:trgw_0_13_10_time:183.0   \n",
       "oname:hds_otype:lst_usecol:trgw_0_13_10_time:214.0  oname:hds_otype:lst_usecol:trgw_0_13_10_time:214.0   \n",
       "...                                                                                                ...   \n",
       "oname:hds_otype:lst_usecol:trgw_2_9_1_time:32.0        oname:hds_otype:lst_usecol:trgw_2_9_1_time:32.0   \n",
       "oname:hds_otype:lst_usecol:trgw_2_9_1_time:336.0      oname:hds_otype:lst_usecol:trgw_2_9_1_time:336.0   \n",
       "oname:hds_otype:lst_usecol:trgw_2_9_1_time:367.0      oname:hds_otype:lst_usecol:trgw_2_9_1_time:367.0   \n",
       "oname:hds_otype:lst_usecol:trgw_2_9_1_time:61.0        oname:hds_otype:lst_usecol:trgw_2_9_1_time:61.0   \n",
       "oname:hds_otype:lst_usecol:trgw_2_9_1_time:92.0        oname:hds_otype:lst_usecol:trgw_2_9_1_time:92.0   \n",
       "\n",
       "                                                       obsval  weight  \\\n",
       "oname:hds_otype:lst_usecol:trgw_0_13_10_time:1.0    34.404445       0   \n",
       "oname:hds_otype:lst_usecol:trgw_0_13_10_time:122.0  34.450289       0   \n",
       "oname:hds_otype:lst_usecol:trgw_0_13_10_time:153.0  34.449492       0   \n",
       "oname:hds_otype:lst_usecol:trgw_0_13_10_time:183.0  34.383839       0   \n",
       "oname:hds_otype:lst_usecol:trgw_0_13_10_time:214.0  34.332796       0   \n",
       "...                                                       ...     ...   \n",
       "oname:hds_otype:lst_usecol:trgw_2_9_1_time:32.0     35.150805       0   \n",
       "oname:hds_otype:lst_usecol:trgw_2_9_1_time:336.0    35.142183       0   \n",
       "oname:hds_otype:lst_usecol:trgw_2_9_1_time:367.0    35.385326       0   \n",
       "oname:hds_otype:lst_usecol:trgw_2_9_1_time:61.0     35.335261       0   \n",
       "oname:hds_otype:lst_usecol:trgw_2_9_1_time:92.0     35.383936       0   \n",
       "\n",
       "                                                                                     obgnme  \\\n",
       "oname:hds_otype:lst_usecol:trgw_0_13_10_time:1.0    oname:hds_otype:lst_usecol:trgw_0_13_10   \n",
       "oname:hds_otype:lst_usecol:trgw_0_13_10_time:122.0  oname:hds_otype:lst_usecol:trgw_0_13_10   \n",
       "oname:hds_otype:lst_usecol:trgw_0_13_10_time:153.0  oname:hds_otype:lst_usecol:trgw_0_13_10   \n",
       "oname:hds_otype:lst_usecol:trgw_0_13_10_time:183.0  oname:hds_otype:lst_usecol:trgw_0_13_10   \n",
       "oname:hds_otype:lst_usecol:trgw_0_13_10_time:214.0  oname:hds_otype:lst_usecol:trgw_0_13_10   \n",
       "...                                                                                     ...   \n",
       "oname:hds_otype:lst_usecol:trgw_2_9_1_time:32.0       oname:hds_otype:lst_usecol:trgw_2_9_1   \n",
       "oname:hds_otype:lst_usecol:trgw_2_9_1_time:336.0      oname:hds_otype:lst_usecol:trgw_2_9_1   \n",
       "oname:hds_otype:lst_usecol:trgw_2_9_1_time:367.0      oname:hds_otype:lst_usecol:trgw_2_9_1   \n",
       "oname:hds_otype:lst_usecol:trgw_2_9_1_time:61.0       oname:hds_otype:lst_usecol:trgw_2_9_1   \n",
       "oname:hds_otype:lst_usecol:trgw_2_9_1_time:92.0       oname:hds_otype:lst_usecol:trgw_2_9_1   \n",
       "\n",
       "                                                   oname otype usecol   time  \n",
       "oname:hds_otype:lst_usecol:trgw_0_13_10_time:1.0     hds   lst   trgw    1.0  \n",
       "oname:hds_otype:lst_usecol:trgw_0_13_10_time:122.0   hds   lst   trgw  122.0  \n",
       "oname:hds_otype:lst_usecol:trgw_0_13_10_time:153.0   hds   lst   trgw  153.0  \n",
       "oname:hds_otype:lst_usecol:trgw_0_13_10_time:183.0   hds   lst   trgw  183.0  \n",
       "oname:hds_otype:lst_usecol:trgw_0_13_10_time:214.0   hds   lst   trgw  214.0  \n",
       "...                                                  ...   ...    ...    ...  \n",
       "oname:hds_otype:lst_usecol:trgw_2_9_1_time:32.0      hds   lst   trgw   32.0  \n",
       "oname:hds_otype:lst_usecol:trgw_2_9_1_time:336.0     hds   lst   trgw  336.0  \n",
       "oname:hds_otype:lst_usecol:trgw_2_9_1_time:367.0     hds   lst   trgw  367.0  \n",
       "oname:hds_otype:lst_usecol:trgw_2_9_1_time:61.0      hds   lst   trgw   61.0  \n",
       "oname:hds_otype:lst_usecol:trgw_2_9_1_time:92.0      hds   lst   trgw   92.0  \n",
       "\n",
       "[338 rows x 8 columns]"
      ]
     },
     "execution_count": 48,
     "metadata": {},
     "output_type": "execute_result"
    }
   ],
   "source": [
    "obs.loc[(obs['oname']=='hds') & (obs['time'].astype(float) <= 367)]"
   ]
  },
  {
   "cell_type": "markdown",
   "metadata": {},
   "source": [
    "OK, so now let's use this to assign weights to each observation type. We will set weights to the inverse of the standard deviation of our measurment uncertainty.\n",
    "\n",
    "Let's say that stdevs for:\n",
    " - head measurements are is 0.1m,\n",
    " - head time an vertical differences 0.01m\n",
    " - SFR direct and time-differnces will be 10% of the measured value"
   ]
  },
  {
   "cell_type": "code",
   "execution_count": 49,
   "metadata": {
    "execution": {
     "iopub.execute_input": "2022-02-21T04:20:47.681856Z",
     "iopub.status.busy": "2022-02-21T04:20:47.681856Z",
     "iopub.status.idle": "2022-02-21T04:20:47.687889Z",
     "shell.execute_reply": "2022-02-21T04:20:47.687889Z"
    }
   },
   "outputs": [],
   "source": [
    "# direct head measurments\n",
    "obs.loc[(obs['oname']=='hds') & (obs['time'].astype(float) <= 367), 'weight'] = 1/0.1\n",
    "# head time differences\n",
    "obs.loc[(obs['oname']=='hdstd') & (obs['time'].astype(float) <= 367), 'weight'] = 1/0.01\n",
    "# head vertical differences\n",
    "obs.loc[(obs['oname']=='hdsvd') & (obs['time'].astype(float) <= 367), 'weight'] = 1/0.01"
   ]
  },
  {
   "cell_type": "code",
   "execution_count": 50,
   "metadata": {
    "execution": {
     "iopub.execute_input": "2022-02-21T04:20:47.699857Z",
     "iopub.status.busy": "2022-02-21T04:20:47.699857Z",
     "iopub.status.idle": "2022-02-21T04:20:47.701851Z",
     "shell.execute_reply": "2022-02-21T04:20:47.701851Z"
    }
   },
   "outputs": [],
   "source": [
    "# SFR direct measurments\n",
    "weights = 1 / abs(0.1 * obs.loc[(obs['oname']=='sfr') & (obs['time'].astype(float) <= 367), 'obsval'].values)\n",
    "obs.loc[(obs['oname']=='sfr') & (obs['time'].astype(float) <= 367), 'weight'] = weights\n",
    "\n",
    "# SFR time-difference measurments; deal with the first observation value that is == 0\n",
    "weights = 1 / abs(0.1 * obs.loc[(obs['oname']=='sfrtd') & (obs['time'].astype(float) <= 367) &  (obs['obsval'] !=0) , 'obsval'].values)\n",
    "obs.loc[(obs['oname']=='sfrtd') & (obs['time'].astype(float) <= 367) &  (obs['obsval'] !=0), 'weight'] = weights"
   ]
  },
  {
   "cell_type": "markdown",
   "metadata": {},
   "source": [
    "As you can see, observation data weights have been updated:"
   ]
  },
  {
   "cell_type": "code",
   "execution_count": 51,
   "metadata": {
    "execution": {
     "iopub.execute_input": "2022-02-21T04:20:47.714816Z",
     "iopub.status.busy": "2022-02-21T04:20:47.714816Z",
     "iopub.status.idle": "2022-02-21T04:20:47.717808Z",
     "shell.execute_reply": "2022-02-21T04:20:47.717808Z"
    }
   },
   "outputs": [
    {
     "data": {
      "text/html": [
       "<div>\n",
       "<style scoped>\n",
       "    .dataframe tbody tr th:only-of-type {\n",
       "        vertical-align: middle;\n",
       "    }\n",
       "\n",
       "    .dataframe tbody tr th {\n",
       "        vertical-align: top;\n",
       "    }\n",
       "\n",
       "    .dataframe thead th {\n",
       "        text-align: right;\n",
       "    }\n",
       "</style>\n",
       "<table border=\"1\" class=\"dataframe\">\n",
       "  <thead>\n",
       "    <tr style=\"text-align: right;\">\n",
       "      <th></th>\n",
       "      <th>obsnme</th>\n",
       "      <th>obsval</th>\n",
       "      <th>weight</th>\n",
       "      <th>obgnme</th>\n",
       "      <th>oname</th>\n",
       "      <th>otype</th>\n",
       "      <th>usecol</th>\n",
       "      <th>time</th>\n",
       "    </tr>\n",
       "  </thead>\n",
       "  <tbody>\n",
       "    <tr>\n",
       "      <th>oname:hds_otype:lst_usecol:trgw_0_13_10_time:1.0</th>\n",
       "      <td>oname:hds_otype:lst_usecol:trgw_0_13_10_time:1.0</td>\n",
       "      <td>34.404445</td>\n",
       "      <td>10.0</td>\n",
       "      <td>oname:hds_otype:lst_usecol:trgw_0_13_10</td>\n",
       "      <td>hds</td>\n",
       "      <td>lst</td>\n",
       "      <td>trgw</td>\n",
       "      <td>1.0</td>\n",
       "    </tr>\n",
       "    <tr>\n",
       "      <th>oname:hds_otype:lst_usecol:trgw_0_13_10_time:122.0</th>\n",
       "      <td>oname:hds_otype:lst_usecol:trgw_0_13_10_time:122.0</td>\n",
       "      <td>34.450289</td>\n",
       "      <td>10.0</td>\n",
       "      <td>oname:hds_otype:lst_usecol:trgw_0_13_10</td>\n",
       "      <td>hds</td>\n",
       "      <td>lst</td>\n",
       "      <td>trgw</td>\n",
       "      <td>122.0</td>\n",
       "    </tr>\n",
       "    <tr>\n",
       "      <th>oname:hds_otype:lst_usecol:trgw_0_13_10_time:153.0</th>\n",
       "      <td>oname:hds_otype:lst_usecol:trgw_0_13_10_time:153.0</td>\n",
       "      <td>34.449492</td>\n",
       "      <td>10.0</td>\n",
       "      <td>oname:hds_otype:lst_usecol:trgw_0_13_10</td>\n",
       "      <td>hds</td>\n",
       "      <td>lst</td>\n",
       "      <td>trgw</td>\n",
       "      <td>153.0</td>\n",
       "    </tr>\n",
       "    <tr>\n",
       "      <th>oname:hds_otype:lst_usecol:trgw_0_13_10_time:183.0</th>\n",
       "      <td>oname:hds_otype:lst_usecol:trgw_0_13_10_time:183.0</td>\n",
       "      <td>34.383839</td>\n",
       "      <td>10.0</td>\n",
       "      <td>oname:hds_otype:lst_usecol:trgw_0_13_10</td>\n",
       "      <td>hds</td>\n",
       "      <td>lst</td>\n",
       "      <td>trgw</td>\n",
       "      <td>183.0</td>\n",
       "    </tr>\n",
       "    <tr>\n",
       "      <th>oname:hds_otype:lst_usecol:trgw_0_13_10_time:214.0</th>\n",
       "      <td>oname:hds_otype:lst_usecol:trgw_0_13_10_time:214.0</td>\n",
       "      <td>34.332796</td>\n",
       "      <td>10.0</td>\n",
       "      <td>oname:hds_otype:lst_usecol:trgw_0_13_10</td>\n",
       "      <td>hds</td>\n",
       "      <td>lst</td>\n",
       "      <td>trgw</td>\n",
       "      <td>214.0</td>\n",
       "    </tr>\n",
       "    <tr>\n",
       "      <th>...</th>\n",
       "      <td>...</td>\n",
       "      <td>...</td>\n",
       "      <td>...</td>\n",
       "      <td>...</td>\n",
       "      <td>...</td>\n",
       "      <td>...</td>\n",
       "      <td>...</td>\n",
       "      <td>...</td>\n",
       "    </tr>\n",
       "    <tr>\n",
       "      <th>oname:hdsvd_otype:lst_usecol:trgw_0_9_1_time:640.0</th>\n",
       "      <td>oname:hdsvd_otype:lst_usecol:trgw_0_9_1_time:640.0</td>\n",
       "      <td>0.002541</td>\n",
       "      <td>0.0</td>\n",
       "      <td>oname:hdsvd_otype:lst_usecol:trgw_0_9_1</td>\n",
       "      <td>hdsvd</td>\n",
       "      <td>lst</td>\n",
       "      <td>trgw</td>\n",
       "      <td>640.0</td>\n",
       "    </tr>\n",
       "    <tr>\n",
       "      <th>oname:hdsvd_otype:lst_usecol:trgw_0_9_1_time:671.0</th>\n",
       "      <td>oname:hdsvd_otype:lst_usecol:trgw_0_9_1_time:671.0</td>\n",
       "      <td>0.003059</td>\n",
       "      <td>0.0</td>\n",
       "      <td>oname:hdsvd_otype:lst_usecol:trgw_0_9_1</td>\n",
       "      <td>hdsvd</td>\n",
       "      <td>lst</td>\n",
       "      <td>trgw</td>\n",
       "      <td>671.0</td>\n",
       "    </tr>\n",
       "    <tr>\n",
       "      <th>oname:hdsvd_otype:lst_usecol:trgw_0_9_1_time:701.0</th>\n",
       "      <td>oname:hdsvd_otype:lst_usecol:trgw_0_9_1_time:701.0</td>\n",
       "      <td>0.002885</td>\n",
       "      <td>0.0</td>\n",
       "      <td>oname:hdsvd_otype:lst_usecol:trgw_0_9_1</td>\n",
       "      <td>hdsvd</td>\n",
       "      <td>lst</td>\n",
       "      <td>trgw</td>\n",
       "      <td>701.0</td>\n",
       "    </tr>\n",
       "    <tr>\n",
       "      <th>oname:hdsvd_otype:lst_usecol:trgw_0_9_1_time:732.0</th>\n",
       "      <td>oname:hdsvd_otype:lst_usecol:trgw_0_9_1_time:732.0</td>\n",
       "      <td>0.007725</td>\n",
       "      <td>0.0</td>\n",
       "      <td>oname:hdsvd_otype:lst_usecol:trgw_0_9_1</td>\n",
       "      <td>hdsvd</td>\n",
       "      <td>lst</td>\n",
       "      <td>trgw</td>\n",
       "      <td>732.0</td>\n",
       "    </tr>\n",
       "    <tr>\n",
       "      <th>oname:hdsvd_otype:lst_usecol:trgw_0_9_1_time:92.0</th>\n",
       "      <td>oname:hdsvd_otype:lst_usecol:trgw_0_9_1_time:92.0</td>\n",
       "      <td>0.004612</td>\n",
       "      <td>100.0</td>\n",
       "      <td>oname:hdsvd_otype:lst_usecol:trgw_0_9_1</td>\n",
       "      <td>hdsvd</td>\n",
       "      <td>lst</td>\n",
       "      <td>trgw</td>\n",
       "      <td>92.0</td>\n",
       "    </tr>\n",
       "  </tbody>\n",
       "</table>\n",
       "<p>1775 rows × 8 columns</p>\n",
       "</div>"
      ],
      "text/plain": [
       "                                                                                                obsnme  \\\n",
       "oname:hds_otype:lst_usecol:trgw_0_13_10_time:1.0      oname:hds_otype:lst_usecol:trgw_0_13_10_time:1.0   \n",
       "oname:hds_otype:lst_usecol:trgw_0_13_10_time:122.0  oname:hds_otype:lst_usecol:trgw_0_13_10_time:122.0   \n",
       "oname:hds_otype:lst_usecol:trgw_0_13_10_time:153.0  oname:hds_otype:lst_usecol:trgw_0_13_10_time:153.0   \n",
       "oname:hds_otype:lst_usecol:trgw_0_13_10_time:183.0  oname:hds_otype:lst_usecol:trgw_0_13_10_time:183.0   \n",
       "oname:hds_otype:lst_usecol:trgw_0_13_10_time:214.0  oname:hds_otype:lst_usecol:trgw_0_13_10_time:214.0   \n",
       "...                                                                                                ...   \n",
       "oname:hdsvd_otype:lst_usecol:trgw_0_9_1_time:640.0  oname:hdsvd_otype:lst_usecol:trgw_0_9_1_time:640.0   \n",
       "oname:hdsvd_otype:lst_usecol:trgw_0_9_1_time:671.0  oname:hdsvd_otype:lst_usecol:trgw_0_9_1_time:671.0   \n",
       "oname:hdsvd_otype:lst_usecol:trgw_0_9_1_time:701.0  oname:hdsvd_otype:lst_usecol:trgw_0_9_1_time:701.0   \n",
       "oname:hdsvd_otype:lst_usecol:trgw_0_9_1_time:732.0  oname:hdsvd_otype:lst_usecol:trgw_0_9_1_time:732.0   \n",
       "oname:hdsvd_otype:lst_usecol:trgw_0_9_1_time:92.0    oname:hdsvd_otype:lst_usecol:trgw_0_9_1_time:92.0   \n",
       "\n",
       "                                                       obsval  weight  \\\n",
       "oname:hds_otype:lst_usecol:trgw_0_13_10_time:1.0    34.404445    10.0   \n",
       "oname:hds_otype:lst_usecol:trgw_0_13_10_time:122.0  34.450289    10.0   \n",
       "oname:hds_otype:lst_usecol:trgw_0_13_10_time:153.0  34.449492    10.0   \n",
       "oname:hds_otype:lst_usecol:trgw_0_13_10_time:183.0  34.383839    10.0   \n",
       "oname:hds_otype:lst_usecol:trgw_0_13_10_time:214.0  34.332796    10.0   \n",
       "...                                                       ...     ...   \n",
       "oname:hdsvd_otype:lst_usecol:trgw_0_9_1_time:640.0   0.002541     0.0   \n",
       "oname:hdsvd_otype:lst_usecol:trgw_0_9_1_time:671.0   0.003059     0.0   \n",
       "oname:hdsvd_otype:lst_usecol:trgw_0_9_1_time:701.0   0.002885     0.0   \n",
       "oname:hdsvd_otype:lst_usecol:trgw_0_9_1_time:732.0   0.007725     0.0   \n",
       "oname:hdsvd_otype:lst_usecol:trgw_0_9_1_time:92.0    0.004612   100.0   \n",
       "\n",
       "                                                                                     obgnme  \\\n",
       "oname:hds_otype:lst_usecol:trgw_0_13_10_time:1.0    oname:hds_otype:lst_usecol:trgw_0_13_10   \n",
       "oname:hds_otype:lst_usecol:trgw_0_13_10_time:122.0  oname:hds_otype:lst_usecol:trgw_0_13_10   \n",
       "oname:hds_otype:lst_usecol:trgw_0_13_10_time:153.0  oname:hds_otype:lst_usecol:trgw_0_13_10   \n",
       "oname:hds_otype:lst_usecol:trgw_0_13_10_time:183.0  oname:hds_otype:lst_usecol:trgw_0_13_10   \n",
       "oname:hds_otype:lst_usecol:trgw_0_13_10_time:214.0  oname:hds_otype:lst_usecol:trgw_0_13_10   \n",
       "...                                                                                     ...   \n",
       "oname:hdsvd_otype:lst_usecol:trgw_0_9_1_time:640.0  oname:hdsvd_otype:lst_usecol:trgw_0_9_1   \n",
       "oname:hdsvd_otype:lst_usecol:trgw_0_9_1_time:671.0  oname:hdsvd_otype:lst_usecol:trgw_0_9_1   \n",
       "oname:hdsvd_otype:lst_usecol:trgw_0_9_1_time:701.0  oname:hdsvd_otype:lst_usecol:trgw_0_9_1   \n",
       "oname:hdsvd_otype:lst_usecol:trgw_0_9_1_time:732.0  oname:hdsvd_otype:lst_usecol:trgw_0_9_1   \n",
       "oname:hdsvd_otype:lst_usecol:trgw_0_9_1_time:92.0   oname:hdsvd_otype:lst_usecol:trgw_0_9_1   \n",
       "\n",
       "                                                    oname otype usecol   time  \n",
       "oname:hds_otype:lst_usecol:trgw_0_13_10_time:1.0      hds   lst   trgw    1.0  \n",
       "oname:hds_otype:lst_usecol:trgw_0_13_10_time:122.0    hds   lst   trgw  122.0  \n",
       "oname:hds_otype:lst_usecol:trgw_0_13_10_time:153.0    hds   lst   trgw  153.0  \n",
       "oname:hds_otype:lst_usecol:trgw_0_13_10_time:183.0    hds   lst   trgw  183.0  \n",
       "oname:hds_otype:lst_usecol:trgw_0_13_10_time:214.0    hds   lst   trgw  214.0  \n",
       "...                                                   ...   ...    ...    ...  \n",
       "oname:hdsvd_otype:lst_usecol:trgw_0_9_1_time:640.0  hdsvd   lst   trgw  640.0  \n",
       "oname:hdsvd_otype:lst_usecol:trgw_0_9_1_time:671.0  hdsvd   lst   trgw  671.0  \n",
       "oname:hdsvd_otype:lst_usecol:trgw_0_9_1_time:701.0  hdsvd   lst   trgw  701.0  \n",
       "oname:hdsvd_otype:lst_usecol:trgw_0_9_1_time:732.0  hdsvd   lst   trgw  732.0  \n",
       "oname:hdsvd_otype:lst_usecol:trgw_0_9_1_time:92.0   hdsvd   lst   trgw   92.0  \n",
       "\n",
       "[1775 rows x 8 columns]"
      ]
     },
     "execution_count": 51,
     "metadata": {},
     "output_type": "execute_result"
    }
   ],
   "source": [
    "obs"
   ]
  },
  {
   "cell_type": "markdown",
   "metadata": {},
   "source": [
    "Make sure to re-**write** the PEST control file. But beware, if you re-**build** the `Pst`, all these changes will be lost."
   ]
  },
  {
   "cell_type": "code",
   "execution_count": 52,
   "metadata": {
    "execution": {
     "iopub.execute_input": "2022-02-21T04:20:47.747730Z",
     "iopub.status.busy": "2022-02-21T04:20:47.746733Z",
     "iopub.status.idle": "2022-02-21T04:20:47.977157Z",
     "shell.execute_reply": "2022-02-21T04:20:47.978154Z"
    }
   },
   "outputs": [
    {
     "name": "stdout",
     "output_type": "stream",
     "text": [
      "noptmax:0, npar_adj:25454, nnz_obs:920\n"
     ]
    }
   ],
   "source": [
    "pst.write(os.path.join(template_ws, 'freyberg_mf6.pst'))"
   ]
  },
  {
   "cell_type": "markdown",
   "metadata": {},
   "source": [
    "So that was pretty epic. We now have a (very) high-dimensional PEST interface ready to roll. \n",
    "\n",
    "If you inspect the folder, you will see PEST control file and all the necessary instruction and template files. Because we have >10k parameters, version 2 of the PEST control file was written by default. \n",
    "\n",
    "Shall we check that it works? Let's run PEST once (i.e. with NOPTMAX=0). Now, by default, noptmax is set to zero. But just to check:"
   ]
  },
  {
   "cell_type": "code",
   "execution_count": 53,
   "metadata": {
    "execution": {
     "iopub.execute_input": "2022-02-21T04:20:47.981171Z",
     "iopub.status.busy": "2022-02-21T04:20:47.980177Z",
     "iopub.status.idle": "2022-02-21T04:20:47.985135Z",
     "shell.execute_reply": "2022-02-21T04:20:47.985135Z"
    }
   },
   "outputs": [
    {
     "data": {
      "text/plain": [
       "0"
      ]
     },
     "execution_count": 53,
     "metadata": {},
     "output_type": "execute_result"
    }
   ],
   "source": [
    "pst.control_data.noptmax"
   ]
  },
  {
   "cell_type": "markdown",
   "metadata": {},
   "source": [
    "OK, so when we run PEST it will call the model once and then stop. If the next cell is sucessfull, then eveything is working. Check the folder, you should see PEST output files. (We will go into these and how to process PEST outcomes in subsequent tutorials)."
   ]
  },
  {
   "cell_type": "code",
   "execution_count": 54,
   "metadata": {
    "execution": {
     "iopub.execute_input": "2022-02-21T04:20:47.989124Z",
     "iopub.status.busy": "2022-02-21T04:20:47.988126Z",
     "iopub.status.idle": "2022-02-21T04:20:58.692481Z",
     "shell.execute_reply": "2022-02-21T04:20:58.691484Z"
    }
   },
   "outputs": [],
   "source": [
    "pyemu.os_utils.run('pestpp-glm freyberg_mf6.pst', cwd=template_ws)"
   ]
  },
  {
   "cell_type": "markdown",
   "metadata": {},
   "source": [
    "### 8. Generate Prior Parameter Ensemble\n",
    "\n",
    "Before we go, let's take a look at our prior and sample from it to create a parameter ensemble. We will record the ensemble for future use."
   ]
  },
  {
   "cell_type": "code",
   "execution_count": 55,
   "metadata": {
    "execution": {
     "iopub.execute_input": "2022-02-21T04:20:58.699497Z",
     "iopub.status.busy": "2022-02-21T04:20:58.697501Z",
     "iopub.status.idle": "2022-02-21T04:21:18.239185Z",
     "shell.execute_reply": "2022-02-21T04:21:18.240187Z"
    }
   },
   "outputs": [
    {
     "name": "stdout",
     "output_type": "stream",
     "text": [
      "2022-02-21 14:50:58.826194 starting: building prior covariance matrix\n"
     ]
    },
    {
     "name": "stdout",
     "output_type": "stream",
     "text": [
      "2022-02-21 14:51:08.808761 finished: building prior covariance matrix took: 0:00:09.982567\n"
     ]
    },
    {
     "data": {
      "text/plain": [
       "<matplotlib.image.AxesImage at 0x1ddc99488c8>"
      ]
     },
     "execution_count": 55,
     "metadata": {},
     "output_type": "execute_result"
    },
    {
     "data": {
      "image/png": "[encoded data removed]",
      "text/plain": [
       "<Figure size 432x288 with 1 Axes>"
      ]
     },
     "metadata": {
      "needs_background": "light"
     },
     "output_type": "display_data"
    }
   ],
   "source": [
    "# build the prior; we are only doing this step to be able to look at this cool covariance matrix\n",
    "# you could also record this to an external file if you really wanted to, but it is pretty huge due to the number of parameters\n",
    "cov = pf.build_prior(fmt='none')\n",
    "\n",
    "# and take a peak at a slice of the matrix\n",
    "x = cov.x.copy()\n",
    "x[x==0] = np.NaN\n",
    "plt.imshow(x[-49:,-49:])"
   ]
  },
  {
   "cell_type": "markdown",
   "metadata": {},
   "source": [
    "And now generate a prior parameter ensemble. This step is relevant for using pestpp-ies in subsequent tutorials."
   ]
  },
  {
   "cell_type": "code",
   "execution_count": 56,
   "metadata": {
    "execution": {
     "iopub.execute_input": "2022-02-21T04:21:18.270115Z",
     "iopub.status.busy": "2022-02-21T04:21:18.270115Z",
     "iopub.status.idle": "2022-02-21T04:21:30.697642Z",
     "shell.execute_reply": "2022-02-21T04:21:30.696646Z"
    }
   },
   "outputs": [
    {
     "name": "stdout",
     "output_type": "stream",
     "text": [
      "2022-02-21 14:51:18.245169 starting: drawing realizations\n",
      "2022-02-21 14:51:18.417684 starting: spectral simulation for grid-scale pars\n"
     ]
    },
    {
     "name": "stdout",
     "output_type": "stream",
     "text": [
      "SpecSim.initialize() summary: full_delx X full_dely: 72 X 72\n",
      "2022-02-21 14:51:18.637097 starting: SpecSim: drawing 100 realization for group npf_k_layer1_gr with 706 pars, (log) variance 0.054284340773499334 (sill 0.054284340773499334)\n",
      "SpecSim.initialize() summary: full_delx X full_dely: 72 X 72\n",
      "2022-02-21 14:51:18.684957 finished: SpecSim: drawing 100 realization for group npf_k_layer1_gr with 706 pars, (log) variance 0.054284340773499334 (sill 0.054284340773499334) took: 0:00:00.047860\n"
     ]
    },
    {
     "name": "stdout",
     "output_type": "stream",
     "text": [
      "2022-02-21 14:51:18.689912 starting: SpecSim: drawing 100 realization for group npf_k_layer2_gr with 706 pars, (log) variance 0.054284340773499334 (sill 0.054284340773499334)\n",
      "SpecSim.initialize() summary: full_delx X full_dely: 72 X 72\n",
      "2022-02-21 14:51:18.734405 finished: SpecSim: drawing 100 realization for group npf_k_layer2_gr with 706 pars, (log) variance 0.054284340773499334 (sill 0.054284340773499334) took: 0:00:00.044493\n",
      "2022-02-21 14:51:18.738360 starting: SpecSim: drawing 100 realization for group npf_k_layer3_gr with 706 pars, (log) variance 0.054284340773499334 (sill 0.054284340773499334)\n",
      "SpecSim.initialize() summary: full_delx X full_dely: 72 X 72\n",
      "2022-02-21 14:51:18.782277 finished: SpecSim: drawing 100 realization for group npf_k_layer3_gr with 706 pars, (log) variance 0.054284340773499334 (sill 0.054284340773499334) took: 0:00:00.043917\n",
      "2022-02-21 14:51:18.787264 starting: SpecSim: drawing 100 realization for group npf_k33_layer1_gr with 706 pars, (log) variance 0.054284340773499334 (sill 0.054284340773499334)\n",
      "SpecSim.initialize() summary: full_delx X full_dely: 72 X 72\n",
      "2022-02-21 14:51:18.831730 finished: SpecSim: drawing 100 realization for group npf_k33_layer1_gr with 706 pars, (log) variance 0.054284340773499334 (sill 0.054284340773499334) took: 0:00:00.044466\n",
      "2022-02-21 14:51:18.835722 starting: SpecSim: drawing 100 realization for group npf_k33_layer2_gr with 706 pars, (log) variance 0.054284340773499334 (sill 0.054284340773499334)\n",
      "SpecSim.initialize() summary: full_delx X full_dely: 72 X 72\n",
      "2022-02-21 14:51:18.880601 finished: SpecSim: drawing 100 realization for group npf_k33_layer2_gr with 706 pars, (log) variance 0.054284340773499334 (sill 0.054284340773499334) took: 0:00:00.044879\n"
     ]
    },
    {
     "name": "stdout",
     "output_type": "stream",
     "text": [
      "2022-02-21 14:51:18.885554 starting: SpecSim: drawing 100 realization for group npf_k33_layer3_gr with 706 pars, (log) variance 0.054284340773499334 (sill 0.054284340773499334)\n",
      "SpecSim.initialize() summary: full_delx X full_dely: 72 X 72\n",
      "2022-02-21 14:51:18.929472 finished: SpecSim: drawing 100 realization for group npf_k33_layer3_gr with 706 pars, (log) variance 0.054284340773499334 (sill 0.054284340773499334) took: 0:00:00.043918\n",
      "2022-02-21 14:51:18.934456 starting: SpecSim: drawing 100 realization for group sto_ss_layer2_gr with 706 pars, (log) variance 0.054284340773499334 (sill 0.054284340773499334)\n",
      "SpecSim.initialize() summary: full_delx X full_dely: 72 X 72\n",
      "2022-02-21 14:51:18.979338 finished: SpecSim: drawing 100 realization for group sto_ss_layer2_gr with 706 pars, (log) variance 0.054284340773499334 (sill 0.054284340773499334) took: 0:00:00.044882\n",
      "2022-02-21 14:51:18.983331 starting: SpecSim: drawing 100 realization for group sto_ss_layer3_gr with 706 pars, (log) variance 0.054284340773499334 (sill 0.054284340773499334)\n",
      "SpecSim.initialize() summary: full_delx X full_dely: 72 X 72\n",
      "2022-02-21 14:51:19.027210 finished: SpecSim: drawing 100 realization for group sto_ss_layer3_gr with 706 pars, (log) variance 0.054284340773499334 (sill 0.054284340773499334) took: 0:00:00.043879\n",
      "2022-02-21 14:51:19.031203 starting: SpecSim: drawing 100 realization for group sto_sy_layer1_gr with 706 pars, (log) variance 0.054284340773499334 (sill 0.054284340773499334)\n",
      "SpecSim.initialize() summary: full_delx X full_dely: 72 X 72\n",
      "2022-02-21 14:51:19.075048 finished: SpecSim: drawing 100 realization for group sto_sy_layer1_gr with 706 pars, (log) variance 0.054284340773499334 (sill 0.054284340773499334) took: 0:00:00.043845\n"
     ]
    },
    {
     "name": "stdout",
     "output_type": "stream",
     "text": [
      "2022-02-21 14:51:19.080069 starting: SpecSim: drawing 100 realization for group rch_recharge_1_gr with 706 pars, (log) variance 0.054284340773499334 (sill 0.054284340773499334)\n",
      "SpecSim.initialize() summary: full_delx X full_dely: 72 X 72\n",
      "2022-02-21 14:51:19.124915 finished: SpecSim: drawing 100 realization for group rch_recharge_1_gr with 706 pars, (log) variance 0.054284340773499334 (sill 0.054284340773499334) took: 0:00:00.044846\n",
      "2022-02-21 14:51:19.128904 starting: SpecSim: drawing 100 realization for group rch_recharge_10_gr with 706 pars, (log) variance 0.054284340773499334 (sill 0.054284340773499334)\n",
      "SpecSim.initialize() summary: full_delx X full_dely: 72 X 72\n",
      "2022-02-21 14:51:19.173818 finished: SpecSim: drawing 100 realization for group rch_recharge_10_gr with 706 pars, (log) variance 0.054284340773499334 (sill 0.054284340773499334) took: 0:00:00.044914\n",
      "2022-02-21 14:51:19.177807 starting: SpecSim: drawing 100 realization for group rch_recharge_11_gr with 706 pars, (log) variance 0.054284340773499334 (sill 0.054284340773499334)\n",
      "SpecSim.initialize() summary: full_delx X full_dely: 72 X 72\n",
      "2022-02-21 14:51:19.221689 finished: SpecSim: drawing 100 realization for group rch_recharge_11_gr with 706 pars, (log) variance 0.054284340773499334 (sill 0.054284340773499334) took: 0:00:00.043882\n",
      "2022-02-21 14:51:19.225645 starting: SpecSim: drawing 100 realization for group rch_recharge_12_gr with 706 pars, (log) variance 0.054284340773499334 (sill 0.054284340773499334)\n",
      "SpecSim.initialize() summary: full_delx X full_dely: 72 X 72\n",
      "2022-02-21 14:51:19.270558 finished: SpecSim: drawing 100 realization for group rch_recharge_12_gr with 706 pars, (log) variance 0.054284340773499334 (sill 0.054284340773499334) took: 0:00:00.044913\n"
     ]
    },
    {
     "name": "stdout",
     "output_type": "stream",
     "text": [
      "2022-02-21 14:51:19.274514 starting: SpecSim: drawing 100 realization for group rch_recharge_13_gr with 706 pars, (log) variance 0.054284340773499334 (sill 0.054284340773499334)\n",
      "SpecSim.initialize() summary: full_delx X full_dely: 72 X 72\n",
      "2022-02-21 14:51:19.318436 finished: SpecSim: drawing 100 realization for group rch_recharge_13_gr with 706 pars, (log) variance 0.054284340773499334 (sill 0.054284340773499334) took: 0:00:00.043922\n",
      "2022-02-21 14:51:19.322385 starting: SpecSim: drawing 100 realization for group rch_recharge_14_gr with 706 pars, (log) variance 0.054284340773499334 (sill 0.054284340773499334)\n",
      "SpecSim.initialize() summary: full_delx X full_dely: 72 X 72\n",
      "2022-02-21 14:51:19.367297 finished: SpecSim: drawing 100 realization for group rch_recharge_14_gr with 706 pars, (log) variance 0.054284340773499334 (sill 0.054284340773499334) took: 0:00:00.044912\n",
      "2022-02-21 14:51:19.371290 starting: SpecSim: drawing 100 realization for group rch_recharge_15_gr with 706 pars, (log) variance 0.054284340773499334 (sill 0.054284340773499334)\n",
      "SpecSim.initialize() summary: full_delx X full_dely: 72 X 72\n",
      "2022-02-21 14:51:19.418164 finished: SpecSim: drawing 100 realization for group rch_recharge_15_gr with 706 pars, (log) variance 0.054284340773499334 (sill 0.054284340773499334) took: 0:00:00.046874\n",
      "2022-02-21 14:51:19.422152 starting: SpecSim: drawing 100 realization for group rch_recharge_16_gr with 706 pars, (log) variance 0.054284340773499334 (sill 0.054284340773499334)\n",
      "SpecSim.initialize() summary: full_delx X full_dely: 72 X 72\n",
      "2022-02-21 14:51:19.467034 finished: SpecSim: drawing 100 realization for group rch_recharge_16_gr with 706 pars, (log) variance 0.054284340773499334 (sill 0.054284340773499334) took: 0:00:00.044882\n"
     ]
    },
    {
     "name": "stdout",
     "output_type": "stream",
     "text": [
      "2022-02-21 14:51:19.471029 starting: SpecSim: drawing 100 realization for group rch_recharge_17_gr with 706 pars, (log) variance 0.054284340773499334 (sill 0.054284340773499334)\n",
      "SpecSim.initialize() summary: full_delx X full_dely: 72 X 72\n",
      "2022-02-21 14:51:19.515903 finished: SpecSim: drawing 100 realization for group rch_recharge_17_gr with 706 pars, (log) variance 0.054284340773499334 (sill 0.054284340773499334) took: 0:00:00.044874\n",
      "2022-02-21 14:51:19.519892 starting: SpecSim: drawing 100 realization for group rch_recharge_18_gr with 706 pars, (log) variance 0.054284340773499334 (sill 0.054284340773499334)\n",
      "SpecSim.initialize() summary: full_delx X full_dely: 72 X 72\n",
      "2022-02-21 14:51:19.563774 finished: SpecSim: drawing 100 realization for group rch_recharge_18_gr with 706 pars, (log) variance 0.054284340773499334 (sill 0.054284340773499334) took: 0:00:00.043882\n",
      "2022-02-21 14:51:19.567729 starting: SpecSim: drawing 100 realization for group rch_recharge_19_gr with 706 pars, (log) variance 0.054284340773499334 (sill 0.054284340773499334)\n",
      "SpecSim.initialize() summary: full_delx X full_dely: 72 X 72\n",
      "2022-02-21 14:51:19.612644 finished: SpecSim: drawing 100 realization for group rch_recharge_19_gr with 706 pars, (log) variance 0.054284340773499334 (sill 0.054284340773499334) took: 0:00:00.044915\n",
      "2022-02-21 14:51:19.616642 starting: SpecSim: drawing 100 realization for group rch_recharge_2_gr with 706 pars, (log) variance 0.054284340773499334 (sill 0.054284340773499334)\n",
      "SpecSim.initialize() summary: full_delx X full_dely: 72 X 72\n"
     ]
    },
    {
     "name": "stdout",
     "output_type": "stream",
     "text": [
      "2022-02-21 14:51:19.661517 finished: SpecSim: drawing 100 realization for group rch_recharge_2_gr with 706 pars, (log) variance 0.054284340773499334 (sill 0.054284340773499334) took: 0:00:00.044875\n",
      "2022-02-21 14:51:19.666465 starting: SpecSim: drawing 100 realization for group rch_recharge_20_gr with 706 pars, (log) variance 0.054284340773499334 (sill 0.054284340773499334)\n",
      "SpecSim.initialize() summary: full_delx X full_dely: 72 X 72\n",
      "2022-02-21 14:51:19.711380 finished: SpecSim: drawing 100 realization for group rch_recharge_20_gr with 706 pars, (log) variance 0.054284340773499334 (sill 0.054284340773499334) took: 0:00:00.044915\n",
      "2022-02-21 14:51:19.715369 starting: SpecSim: drawing 100 realization for group rch_recharge_21_gr with 706 pars, (log) variance 0.054284340773499334 (sill 0.054284340773499334)\n",
      "SpecSim.initialize() summary: full_delx X full_dely: 72 X 72\n",
      "2022-02-21 14:51:19.759252 finished: SpecSim: drawing 100 realization for group rch_recharge_21_gr with 706 pars, (log) variance 0.054284340773499334 (sill 0.054284340773499334) took: 0:00:00.043883\n",
      "2022-02-21 14:51:19.764237 starting: SpecSim: drawing 100 realization for group rch_recharge_22_gr with 706 pars, (log) variance 0.054284340773499334 (sill 0.054284340773499334)\n",
      "SpecSim.initialize() summary: full_delx X full_dely: 72 X 72\n",
      "2022-02-21 14:51:19.808107 finished: SpecSim: drawing 100 realization for group rch_recharge_22_gr with 706 pars, (log) variance 0.054284340773499334 (sill 0.054284340773499334) took: 0:00:00.043870\n",
      "2022-02-21 14:51:19.813073 starting: SpecSim: drawing 100 realization for group rch_recharge_23_gr with 706 pars, (log) variance 0.054284340773499334 (sill 0.054284340773499334)\n",
      "SpecSim.initialize() summary: full_delx X full_dely: 72 X 72\n",
      "2022-02-21 14:51:19.858010 finished: SpecSim: drawing 100 realization for group rch_recharge_23_gr with 706 pars, (log) variance 0.054284340773499334 (sill 0.054284340773499334) took: 0:00:00.044937\n",
      "2022-02-21 14:51:19.862050 starting: SpecSim: drawing 100 realization for group rch_recharge_24_gr with 706 pars, (log) variance 0.054284340773499334 (sill 0.054284340773499334)\n"
     ]
    },
    {
     "name": "stdout",
     "output_type": "stream",
     "text": [
      "SpecSim.initialize() summary: full_delx X full_dely: 72 X 72\n",
      "2022-02-21 14:51:19.906929 finished: SpecSim: drawing 100 realization for group rch_recharge_24_gr with 706 pars, (log) variance 0.054284340773499334 (sill 0.054284340773499334) took: 0:00:00.044879\n",
      "2022-02-21 14:51:19.911865 starting: SpecSim: drawing 100 realization for group rch_recharge_25_gr with 706 pars, (log) variance 0.054284340773499334 (sill 0.054284340773499334)\n",
      "SpecSim.initialize() summary: full_delx X full_dely: 72 X 72\n",
      "2022-02-21 14:51:19.957795 finished: SpecSim: drawing 100 realization for group rch_recharge_25_gr with 706 pars, (log) variance 0.054284340773499334 (sill 0.054284340773499334) took: 0:00:00.045930\n",
      "2022-02-21 14:51:19.962760 starting: SpecSim: drawing 100 realization for group rch_recharge_3_gr with 706 pars, (log) variance 0.054284340773499334 (sill 0.054284340773499334)\n",
      "SpecSim.initialize() summary: full_delx X full_dely: 72 X 72\n",
      "2022-02-21 14:51:20.007662 finished: SpecSim: drawing 100 realization for group rch_recharge_3_gr with 706 pars, (log) variance 0.054284340773499334 (sill 0.054284340773499334) took: 0:00:00.044902\n",
      "2022-02-21 14:51:20.011657 starting: SpecSim: drawing 100 realization for group rch_recharge_4_gr with 706 pars, (log) variance 0.054284340773499334 (sill 0.054284340773499334)\n",
      "SpecSim.initialize() summary: full_delx X full_dely: 72 X 72\n"
     ]
    },
    {
     "name": "stdout",
     "output_type": "stream",
     "text": [
      "2022-02-21 14:51:20.057528 finished: SpecSim: drawing 100 realization for group rch_recharge_4_gr with 706 pars, (log) variance 0.054284340773499334 (sill 0.054284340773499334) took: 0:00:00.045871\n",
      "2022-02-21 14:51:20.062462 starting: SpecSim: drawing 100 realization for group rch_recharge_5_gr with 706 pars, (log) variance 0.054284340773499334 (sill 0.054284340773499334)\n",
      "SpecSim.initialize() summary: full_delx X full_dely: 72 X 72\n",
      "2022-02-21 14:51:20.107392 finished: SpecSim: drawing 100 realization for group rch_recharge_5_gr with 706 pars, (log) variance 0.054284340773499334 (sill 0.054284340773499334) took: 0:00:00.044930\n",
      "2022-02-21 14:51:20.110333 starting: SpecSim: drawing 100 realization for group rch_recharge_6_gr with 706 pars, (log) variance 0.054284340773499334 (sill 0.054284340773499334)\n",
      "SpecSim.initialize() summary: full_delx X full_dely: 72 X 72\n",
      "2022-02-21 14:51:20.153328 finished: SpecSim: drawing 100 realization for group rch_recharge_6_gr with 706 pars, (log) variance 0.054284340773499334 (sill 0.054284340773499334) took: 0:00:00.042995\n",
      "2022-02-21 14:51:20.157266 starting: SpecSim: drawing 100 realization for group rch_recharge_7_gr with 706 pars, (log) variance 0.054284340773499334 (sill 0.054284340773499334)\n",
      "SpecSim.initialize() summary: full_delx X full_dely: 72 X 72\n",
      "2022-02-21 14:51:20.200204 finished: SpecSim: drawing 100 realization for group rch_recharge_7_gr with 706 pars, (log) variance 0.054284340773499334 (sill 0.054284340773499334) took: 0:00:00.042938\n",
      "2022-02-21 14:51:20.204192 starting: SpecSim: drawing 100 realization for group rch_recharge_8_gr with 706 pars, (log) variance 0.054284340773499334 (sill 0.054284340773499334)\n",
      "SpecSim.initialize() summary: full_delx X full_dely: 72 X 72\n",
      "2022-02-21 14:51:20.246688 finished: SpecSim: drawing 100 realization for group rch_recharge_8_gr with 706 pars, (log) variance 0.054284340773499334 (sill 0.054284340773499334) took: 0:00:00.042496\n"
     ]
    },
    {
     "name": "stdout",
     "output_type": "stream",
     "text": [
      "2022-02-21 14:51:20.250646 starting: SpecSim: drawing 100 realization for group rch_recharge_9_gr with 706 pars, (log) variance 0.054284340773499334 (sill 0.054284340773499334)\n",
      "SpecSim.initialize() summary: full_delx X full_dely: 72 X 72\n",
      "2022-02-21 14:51:20.292589 finished: SpecSim: drawing 100 realization for group rch_recharge_9_gr with 706 pars, (log) variance 0.054284340773499334 (sill 0.054284340773499334) took: 0:00:00.041943\n",
      "SpecSim.initialize() summary: full_delx X full_dely: 72 X 72\n"
     ]
    },
    {
     "name": "stdout",
     "output_type": "stream",
     "text": [
      "2022-02-21 14:51:20.491999 finished: spectral simulation for grid-scale pars took: 0:00:02.074315\n",
      "2022-02-21 14:51:20.491999 starting: Drawing non-specsim pars\n",
      "building diagonal cov\n"
     ]
    },
    {
     "name": "stdout",
     "output_type": "stream",
     "text": [
      "processing  name:struct1,nugget:0.0,structures:\n",
      "name:var1,contribution:1.0,a:1000.0,anisotropy:1.0,bearing:0.0\n",
      "\n",
      "working on pargroups ['npf_k_layer1_pp']\n",
      "build cov matrix\n",
      "done\n",
      "getting diag var cov 32\n",
      "scaling full cov by diag var cov\n",
      "working on pargroups ['npf_k_layer2_pp']\n",
      "build cov matrix\n",
      "done\n",
      "getting diag var cov 32\n",
      "scaling full cov by diag var cov\n",
      "working on pargroups ['npf_k_layer3_pp']\n",
      "build cov matrix\n"
     ]
    },
    {
     "name": "stdout",
     "output_type": "stream",
     "text": [
      "done\n",
      "getting diag var cov 32\n",
      "scaling full cov by diag var cov\n",
      "working on pargroups ['npf_k33_layer1_pp']\n",
      "build cov matrix\n",
      "done\n",
      "getting diag var cov 32\n",
      "scaling full cov by diag var cov\n",
      "working on pargroups ['npf_k33_layer2_pp']\n",
      "build cov matrix\n",
      "done\n",
      "getting diag var cov 32\n",
      "scaling full cov by diag var cov\n"
     ]
    },
    {
     "name": "stdout",
     "output_type": "stream",
     "text": [
      "working on pargroups ['npf_k33_layer3_pp']\n",
      "build cov matrix\n",
      "done\n",
      "getting diag var cov 32\n",
      "scaling full cov by diag var cov\n",
      "working on pargroups ['sto_ss_layer2_pp']\n",
      "build cov matrix\n",
      "done\n",
      "getting diag var cov 32\n",
      "scaling full cov by diag var cov\n",
      "working on pargroups ['sto_ss_layer3_pp']\n"
     ]
    },
    {
     "name": "stdout",
     "output_type": "stream",
     "text": [
      "build cov matrix\n",
      "done\n",
      "getting diag var cov 32\n",
      "scaling full cov by diag var cov\n",
      "working on pargroups ['sto_sy_layer1_pp']\n",
      "build cov matrix\n",
      "done\n",
      "getting diag var cov 32\n",
      "scaling full cov by diag var cov\n"
     ]
    },
    {
     "name": "stdout",
     "output_type": "stream",
     "text": [
      "working on pargroups ['rch_recharge_1_pp']\n",
      "build cov matrix\n",
      "done\n",
      "getting diag var cov 32\n",
      "scaling full cov by diag var cov\n",
      "working on pargroups ['rch_recharge_10_pp']\n",
      "build cov matrix\n",
      "done\n",
      "getting diag var cov 32\n",
      "scaling full cov by diag var cov\n",
      "working on pargroups ['rch_recharge_11_pp']\n",
      "build cov matrix\n",
      "done\n",
      "getting diag var cov 32\n",
      "scaling full cov by diag var cov\n"
     ]
    },
    {
     "name": "stdout",
     "output_type": "stream",
     "text": [
      "working on pargroups ['rch_recharge_12_pp']\n",
      "build cov matrix\n",
      "done\n",
      "getting diag var cov 32\n",
      "scaling full cov by diag var cov\n",
      "working on pargroups ['rch_recharge_13_pp']\n",
      "build cov matrix\n",
      "done\n",
      "getting diag var cov 32\n",
      "scaling full cov by diag var cov\n"
     ]
    },
    {
     "name": "stdout",
     "output_type": "stream",
     "text": [
      "working on pargroups ['rch_recharge_14_pp']\n",
      "build cov matrix\n",
      "done\n",
      "getting diag var cov 32\n",
      "scaling full cov by diag var cov\n",
      "working on pargroups ['rch_recharge_15_pp']\n",
      "build cov matrix\n",
      "done\n",
      "getting diag var cov 32\n",
      "scaling full cov by diag var cov\n",
      "working on pargroups ['rch_recharge_16_pp']\n"
     ]
    },
    {
     "name": "stdout",
     "output_type": "stream",
     "text": [
      "build cov matrix\n",
      "done\n",
      "getting diag var cov 32\n",
      "scaling full cov by diag var cov\n",
      "working on pargroups ['rch_recharge_17_pp']\n",
      "build cov matrix\n",
      "done\n",
      "getting diag var cov 32\n",
      "scaling full cov by diag var cov\n",
      "working on pargroups ['rch_recharge_18_pp']\n"
     ]
    },
    {
     "name": "stdout",
     "output_type": "stream",
     "text": [
      "build cov matrix\n",
      "done\n",
      "getting diag var cov 32\n",
      "scaling full cov by diag var cov\n",
      "working on pargroups ['rch_recharge_19_pp']\n",
      "build cov matrix\n",
      "done\n",
      "getting diag var cov 32\n",
      "scaling full cov by diag var cov\n",
      "working on pargroups ['rch_recharge_2_pp']\n",
      "build cov matrix\n",
      "done\n",
      "getting diag var cov 32\n",
      "scaling full cov by diag var cov\n"
     ]
    },
    {
     "name": "stdout",
     "output_type": "stream",
     "text": [
      "working on pargroups ['rch_recharge_20_pp']\n",
      "build cov matrix\n",
      "done\n",
      "getting diag var cov 32\n",
      "scaling full cov by diag var cov\n",
      "working on pargroups ['rch_recharge_21_pp']\n",
      "build cov matrix\n",
      "done\n",
      "getting diag var cov 32\n",
      "scaling full cov by diag var cov\n"
     ]
    },
    {
     "name": "stdout",
     "output_type": "stream",
     "text": [
      "working on pargroups ['rch_recharge_22_pp']\n",
      "build cov matrix\n",
      "done\n",
      "getting diag var cov 32\n",
      "scaling full cov by diag var cov\n",
      "working on pargroups ['rch_recharge_23_pp']\n",
      "build cov matrix\n",
      "done\n",
      "getting diag var cov 32\n",
      "scaling full cov by diag var cov\n",
      "working on pargroups ['rch_recharge_24_pp']\n",
      "build cov matrix\n",
      "done\n",
      "getting diag var cov 32\n",
      "scaling full cov by diag var cov\n"
     ]
    },
    {
     "name": "stdout",
     "output_type": "stream",
     "text": [
      "working on pargroups ['rch_recharge_25_pp']\n",
      "build cov matrix\n",
      "done\n",
      "getting diag var cov 32\n",
      "scaling full cov by diag var cov\n",
      "working on pargroups ['rch_recharge_3_pp']\n",
      "build cov matrix\n",
      "done\n",
      "getting diag var cov 32\n",
      "scaling full cov by diag var cov\n",
      "working on pargroups ['rch_recharge_4_pp']\n",
      "build cov matrix\n",
      "done\n",
      "getting diag var cov 32\n",
      "scaling full cov by diag var cov\n"
     ]
    },
    {
     "name": "stdout",
     "output_type": "stream",
     "text": [
      "working on pargroups ['rch_recharge_5_pp']\n",
      "build cov matrix\n",
      "done\n",
      "getting diag var cov 32\n",
      "scaling full cov by diag var cov\n",
      "working on pargroups ['rch_recharge_6_pp']\n",
      "build cov matrix\n",
      "done\n",
      "getting diag var cov 32\n",
      "scaling full cov by diag var cov\n",
      "working on pargroups ['rch_recharge_7_pp']\n",
      "build cov matrix\n",
      "done\n",
      "getting diag var cov 32\n",
      "scaling full cov by diag var cov\n"
     ]
    },
    {
     "name": "stdout",
     "output_type": "stream",
     "text": [
      "working on pargroups ['rch_recharge_8_pp']\n",
      "build cov matrix\n",
      "done\n",
      "getting diag var cov 32\n",
      "scaling full cov by diag var cov\n",
      "working on pargroups ['rch_recharge_9_pp']\n",
      "build cov matrix\n",
      "done\n",
      "getting diag var cov 32\n",
      "scaling full cov by diag var cov\n",
      "working on pargroups ['ghbcond_gr']\n"
     ]
    },
    {
     "name": "stdout",
     "output_type": "stream",
     "text": [
      "build cov matrix\n",
      "done\n",
      "getting diag var cov 10\n",
      "scaling full cov by diag var cov\n",
      "working on pargroups ['ghbcond_gr']\n",
      "build cov matrix\n",
      "done\n",
      "getting diag var cov 10\n",
      "scaling full cov by diag var cov\n",
      "working on pargroups ['ghbcond_gr']\n",
      "build cov matrix\n",
      "done\n",
      "getting diag var cov 10\n",
      "scaling full cov by diag var cov\n"
     ]
    },
    {
     "name": "stdout",
     "output_type": "stream",
     "text": [
      "working on pargroups ['sfrcond_gr']\n",
      "build cov matrix\n",
      "done\n",
      "getting diag var cov 40\n",
      "scaling full cov by diag var cov\n",
      "processing  name:struct1,nugget:0.0,structures:\n",
      "name:var1,contribution:1.0,a:60.0,anisotropy:1.0,bearing:0.0\n",
      "\n",
      "working on pargroups ['wel_cst']\n",
      "build cov matrix\n",
      "done\n",
      "getting diag var cov 25\n",
      "scaling full cov by diag var cov\n",
      "working on pargroups ['sfr_gr']\n",
      "build cov matrix\n",
      "done\n",
      "getting diag var cov 25\n",
      "scaling full cov by diag var cov\n"
     ]
    },
    {
     "name": "stdout",
     "output_type": "stream",
     "text": [
      "processing  name:struct1,nugget:0.0,structures:\n",
      "name:var1,contribution:1.0,a:1000.0,anisotropy:1.0,bearing:0.0\n",
      "\n",
      "working on pargroups ['ghbhead_gr']\n",
      "build cov matrix\n",
      "done\n",
      "getting diag var cov 10\n",
      "scaling full cov by diag var cov\n",
      "working on pargroups ['ghbhead_gr']\n",
      "build cov matrix\n",
      "done\n",
      "getting diag var cov 10\n",
      "scaling full cov by diag var cov\n",
      "working on pargroups ['ghbhead_gr']\n",
      "build cov matrix\n",
      "done\n",
      "getting diag var cov 10\n",
      "scaling full cov by diag var cov\n"
     ]
    },
    {
     "name": "stdout",
     "output_type": "stream",
     "text": [
      "adding remaining parameters to diagonal\n"
     ]
    },
    {
     "name": "stdout",
     "output_type": "stream",
     "text": [
      "2022-02-21 14:51:27.289307 finished: Drawing non-specsim pars took: 0:00:06.797308\n"
     ]
    },
    {
     "name": "stdout",
     "output_type": "stream",
     "text": [
      "2022-02-21 14:51:29.549041 finished: drawing realizations took: 0:00:11.303872\n"
     ]
    },
    {
     "name": "stdout",
     "output_type": "stream",
     "text": [
      "noptmax:0, npar_adj:25454, nnz_obs:920\n"
     ]
    }
   ],
   "source": [
    "pe = pf.draw(num_reals=100,use_specsim=True)# draw pars from the prior\n",
    "pe.enforce() # enforces parameter bounds\n",
    "pe.to_binary(os.path.join(template_ws,\"prior.jcb\")) #writes the paramter ensemble to binary file\n",
    "\n",
    "# final tidy-up\n",
    "pst.pestpp_options[\"ies_parameter_ensemble\"] = \"prior.jcb\" #adds pest++ options to the control file\n",
    "pst.write(os.path.join(template_ws, 'freyberg_mf6.pst')) # re-writes the control file with the new pest++ options"
   ]
  }
 ],
 "metadata": {
  "interpreter": {
   "hash": "b3ba2566441a7c06988d0923437866b63cedc61552a5af99d1f4fb67d367b25f"
  },
  "kernelspec": {
   "display_name": "Python 3 (ipykernel)",
   "language": "python",
   "name": "python3"
  },
  "language_info": {
   "codemirror_mode": {
    "name": "ipython",
    "version": 3
   },
   "file_extension": ".py",
   "mimetype": "text/x-python",
   "name": "python",
   "nbconvert_exporter": "python",
   "pygments_lexer": "ipython3",
   "version": "3.7.9"
  }
 },
 "nbformat": 4,
 "nbformat_minor": 2
}
