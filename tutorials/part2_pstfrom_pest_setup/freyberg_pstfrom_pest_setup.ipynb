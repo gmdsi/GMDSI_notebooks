{
 "cells": [
  {
   "cell_type": "markdown",
   "metadata": {},
   "source": [
    "# Setup the PEST(++) interface around the modified Freyberg model\n",
    "\n",
    "In this notebook, we will construct a complex model independent (non-intrusive) interface around an existing `MODFLOW6` model using `pyEMU`. We assume that the reader is at least partially familiar with PEST(++) file formats and working philosophy. \n",
    "\n",
    "The modified Freyberg groundwater flow model has been constructed and is described in a previous notebook from this series. We will construct the entire PEST(++) interface from scratch here. This setup will be built upon in subsequent tutorials. \n",
    "\n",
    "We will rely heavily on the `pyemu.PstFrom` class. Although here we employ it with a `MODFLOW6` model, `PstFrom` is designed to be general and software independent (mostly). Some features are only available for `MODFLOW` models (e.g. `SpatialReference`).\n",
    "\n",
    "The `PstFrom` class automates the construction of high-dimensional PEST(++) interfaces with all the bells and whistles. It provides easy-to-use functions to process model input and output files into PEST(++) datasets. It can assist with setting up spatio-temporaly varying parameters. It handles the generation of geostatisical prior covariance matrices and ensembles. It automates writting a \"model run\" script. It provides tools to add custom pre- and post-processing functions to this script. It makes adding tweaks and fixes to the PEST(++) interface a breeze. All of this from the comfort of your favourite Python IDE.\n",
    "\n",
    "During this tutorial we are going to construct a PEST dataset. Amongst other things, we will demonstrate:\n",
    " - how to add observations & parameters from model output & input files;\n",
    " - how to add pre- and post-processing functions to the \"model run\" script;\n",
    " - how to generate geostatistical structures for spatialy and temporally correlated parameters;\n",
    " - how to edit parameter/observation data sections;\n",
    " - how to generate a prior parameter covariance matrix and prior parameter ensemble;\n",
    "\n",
    "\n",
    "\n",
    "First, let's get our model files and sort out some admin.\n"
   ]
  },
  {
   "cell_type": "markdown",
   "metadata": {},
   "source": [
    "### 1. Admin & Organize Folders\n",
    "First some admin. Load the dependencies and organize model folders. "
   ]
  },
  {
   "cell_type": "code",
   "execution_count": 1,
   "metadata": {
    "execution": {
     "iopub.execute_input": "2022-04-11T03:51:33.684338Z",
     "iopub.status.busy": "2022-04-11T03:51:33.684338Z",
     "iopub.status.idle": "2022-04-11T03:51:34.772540Z",
     "shell.execute_reply": "2022-04-11T03:51:34.773536Z"
    }
   },
   "outputs": [
    {
     "name": "stderr",
     "output_type": "stream",
     "text": [
      "/Users/JWhite/opt/miniconda3/lib/python3.8/site-packages/nbconvert/exporters/html.py:110: DeprecationWarning: 'contextfilter' is renamed to 'pass_context', the old name will be removed in Jinja 3.1.\n"
     ]
    }
   ],
   "source": [
    "import sys\n",
    "import os\n",
    "import shutil\n",
    "import platform\n",
    "import warnings\n",
    "warnings.filterwarnings(\"ignore\")\n",
    "warnings.filterwarnings(\"ignore\", category=DeprecationWarning) \n",
    "import pyemu\n",
    "import flopy\n",
    "import pandas as pd\n",
    "import numpy as np\n",
    "import matplotlib.pyplot as plt;\n",
    "sys.path.append(\"..\")\n",
    "import herebedragons as hbd"
   ]
  },
  {
   "cell_type": "markdown",
   "metadata": {},
   "source": [
    "We will be calling a few external programs throughout this tutorial. Namely, MODFLOW 6 and PESTPP-GLM. For the purposes of the tutorial(s), we have included executables in the tutorial repository. They are in the `bin` folder, organized by operating system and will programmatically copied into the working dirs as needed. \n",
    "\n",
    "Some may prefer that executables be located in a folder that is cited in your computer’s PATH environment variable. Doing so allows you to run them from a command prompt open to any other folder without having to include the full path to these executables in the command to run them. \n",
    "\n",
    "However, in situations where someone has several active projects and each may use difference versions of compiled binary codes, , this may not be practical. In such cases, we can simply place the executables in the folder from which they will be executed.  So, let's copy the necessary executables into our working folder using a simple helper function:\n"
   ]
  },
  {
   "cell_type": "markdown",
   "metadata": {},
   "source": [
    "Let's copy the original model folder into a new working directory, just to ensure we don't mess up the base files."
   ]
  },
  {
   "cell_type": "code",
   "execution_count": 2,
   "metadata": {
    "execution": {
     "iopub.execute_input": "2022-04-11T03:51:35.090266Z",
     "iopub.status.busy": "2022-04-11T03:51:35.089268Z",
     "iopub.status.idle": "2022-04-11T03:51:35.290999Z",
     "shell.execute_reply": "2022-04-11T03:51:35.290002Z"
    }
   },
   "outputs": [],
   "source": [
    "# folder containing original model files\n",
    "org_d = os.path.join('..', '..', 'models', 'freyberg_mf6')\n",
    "\n",
    "# a dir to hold a copy of the org model files\n",
    "tmp_d = os.path.join('freyberg_mf6')\n",
    "\n",
    "if os.path.exists(tmp_d):\n",
    "    shutil.rmtree(tmp_d)\n",
    "shutil.copytree(org_d,tmp_d)\n",
    "\n",
    "hbd.prep_bins(tmp_d)"
   ]
  },
  {
   "cell_type": "markdown",
   "metadata": {},
   "source": [
    "If you inspect the model folder, you will see that all the `MODFLOW6` model files have been written \"externally\". This is key for working with the `PstFrom` class (or with PEST(++) in general, really). Essentialy, all pertinent model inputs have been written as independent files in either array or list format. This makes it easier for us to programiatically access and re-write the values in these files.\n",
    "\n",
    "Array files contain a data type (usually floating points). List files will have a few columns that contain index information and then columns of floating point values (they have a tabular format; think `.csv` files or DataFrames). The `PstFrom` class provides methods for processing these file types into a PEST(++) dataset. \n",
    "\n"
   ]
  },
  {
   "cell_type": "code",
   "execution_count": 3,
   "metadata": {
    "execution": {
     "iopub.execute_input": "2022-04-11T03:51:35.295020Z",
     "iopub.status.busy": "2022-04-11T03:51:35.294039Z",
     "iopub.status.idle": "2022-04-11T03:51:35.305958Z",
     "shell.execute_reply": "2022-04-11T03:51:35.305958Z"
    }
   },
   "outputs": [
    {
     "data": {
      "text/plain": [
       "['freyberg6.wel_stress_period_data_20.txt',\n",
       " 'freyberg6.rch_recharge_2.txt',\n",
       " 'freyberg6.sfr_perioddata_13.txt',\n",
       " 'freyberg6.sfr_perioddata_3.txt',\n",
       " 'freyberg6.rch_recharge_14.txt',\n",
       " 'freyberg6_freyberg.hds',\n",
       " 'freyberg6.dis_idomain_layer1.txt',\n",
       " 'head.obs_continuous_heads.csv.txt',\n",
       " 'freyberg6.rch_recharge_15.txt',\n",
       " 'freyberg6.sfr_perioddata_2.txt',\n",
       " 'freyberg6.sfr_perioddata_12.txt',\n",
       " 'freyberg6.rch_recharge_3.txt',\n",
       " 'mf5to6',\n",
       " 'zbud6',\n",
       " 'freyberg6.wel_stress_period_data_21.txt',\n",
       " 'freyberg6.wel_stress_period_data_23.txt',\n",
       " 'freyberg6.rch_recharge_1.txt',\n",
       " 'freyberg6.sfr_perioddata_10.txt',\n",
       " 'pm.pg1.sloc',\n",
       " 'freyberg6.rch_recharge_17.txt',\n",
       " 'freyberg6.dis_idomain_layer3.txt',\n",
       " 'freyberg6.ghb_stress_period_data_1.txt',\n",
       " 'freyberg6.dis_idomain_layer2.txt',\n",
       " 'inschek',\n",
       " 'freyberg6.sfr_perioddata_1.txt',\n",
       " 'freyberg6.rch_recharge_16.txt',\n",
       " 'freyberg6.sfr_perioddata_11.txt',\n",
       " 'freyberg6.sfr_connectiondata.txt',\n",
       " 'freyberg6.wel_stress_period_data_22.txt',\n",
       " 'freyberg6.sto_sy_layer3.txt',\n",
       " 'mp7',\n",
       " 'freyberg6.sfr_perioddata_15.txt',\n",
       " 'freyberg6.rch_recharge_4.txt',\n",
       " 'freyberg6.dis_top.txt',\n",
       " 'freyberg6.rch_recharge_12.txt',\n",
       " 'freyberg6.sfr_perioddata_5.txt',\n",
       " 'pestpp-opt',\n",
       " 'freyberg6.sfr_perioddata_4.txt',\n",
       " 'freyberg6.rch_recharge_13.txt',\n",
       " 'freyberg6.rch_recharge_5.txt',\n",
       " 'freyberg6.sfr_perioddata_14.txt',\n",
       " 'freyberg6.sto_sy_layer2.txt',\n",
       " 'freyberg6.wel_stress_period_data_19.txt',\n",
       " 'freyberg6.wel_stress_period_data_25.txt',\n",
       " 'freyberg6.sfr_perioddata_16.txt',\n",
       " 'freyberg6.rch_recharge_7.txt',\n",
       " 'freyberg6.sfr_perioddata_6.txt',\n",
       " 'freyberg6.rch_recharge_11.txt',\n",
       " 'freyberg6.rch_recharge_10.txt',\n",
       " 'freyberg6.sfr_perioddata_7.txt',\n",
       " 'freyberg6.rch_recharge_6.txt',\n",
       " 'freyberg6.sfr_perioddata_17.txt',\n",
       " 'freyberg6.wel_stress_period_data_24.txt',\n",
       " 'freyberg6.sto_sy_layer1.txt',\n",
       " 'freyberg6.wel_stress_period_data_18.txt',\n",
       " 'freyberg6.sto_iconvert_layer1.txt',\n",
       " 'freyberg6.wel_stress_period_data_8.txt',\n",
       " 'freyberg6.sto_ss_layer2.txt',\n",
       " 'freyberg6.sto_ss_layer3.txt',\n",
       " 'freyberg6.wel_stress_period_data_9.txt',\n",
       " 'freyberg6.oc',\n",
       " 'freyberg6.sto_iconvert_layer2.txt',\n",
       " 'freyberg6.sto_ss_layer1.txt',\n",
       " 'pestpp-sen',\n",
       " 'tempchek',\n",
       " 'head.obs',\n",
       " 'freyberg6.npf',\n",
       " 'freyberg6.sto_iconvert_layer3.txt',\n",
       " 'freyberg6.wel',\n",
       " 'freyberg6.npf_k_layer1.txt',\n",
       " 'pestpp-sqp',\n",
       " 'freyberg6.npf_k_layer3.txt',\n",
       " 'pestpp-da',\n",
       " 'pestpp-glm',\n",
       " 'pestchek',\n",
       " 'freyberg6.sfr_packagedata.txt',\n",
       " 'freyberg6.npf_k_layer2.txt',\n",
       " 'mf6',\n",
       " 'freyberg6.npf_k33_layer3.txt',\n",
       " 'freyberg6.wel_stress_period_data_1.txt',\n",
       " 'freyberg6.ic_strt_layer3.txt',\n",
       " 'heads.csv',\n",
       " 'sfr.csv',\n",
       " 'freyberg6.ic_strt_layer2.txt',\n",
       " 'freyberg6.dis_delc.txt',\n",
       " 'freyberg6.npf_k33_layer2.txt',\n",
       " 'freyberg6.dis',\n",
       " 'freyberg6.wel_stress_period_data_2.txt',\n",
       " 'freyberg6.ic_strt_layer1.txt',\n",
       " 'freyberg6.wel_stress_period_data_3.txt',\n",
       " 'freyberg6.npf_k33_layer1.txt',\n",
       " 'freyberg6.dis_botm_layer1.txt',\n",
       " 'freyberg6.rch',\n",
       " 'freyberg_mp.ne_layer3.txt',\n",
       " 'freyberg6.wel_stress_period_data_7.txt',\n",
       " 'freyberg6.npf_icelltype_layer2.txt',\n",
       " 'sfr.obs',\n",
       " 'freyberg6.npf_icelltype_layer3.txt',\n",
       " 'freyberg6.wel_stress_period_data_6.txt',\n",
       " 'freyberg6.dis_delr.txt',\n",
       " 'freyberg6.ghb',\n",
       " 'freyberg_mp.ne_layer2.txt',\n",
       " 'freyberg6.tdis',\n",
       " 'freyberg6.dis_botm_layer2.txt',\n",
       " 'freyberg6.wel_stress_period_data_4.txt',\n",
       " 'freyberg6.npf_icelltype_layer1.txt',\n",
       " 'freyberg6.ims',\n",
       " 'freyberg_mp.mpend',\n",
       " 'freyberg6.wel_stress_period_data_5.txt',\n",
       " 'freyberg_mp.ne_layer1.txt',\n",
       " 'freyberg6.dis_botm_layer3.txt',\n",
       " 'freyberg6.wel_stress_period_data_15.txt',\n",
       " 'freyberg6_freyberg.cbc',\n",
       " 'mfsim.nam',\n",
       " 'freyberg6.rch_recharge_21.txt',\n",
       " 'freyberg6.rch_recharge_20.txt',\n",
       " 'freyberg6.lst',\n",
       " 'freyberg6.wel_stress_period_data_14.txt',\n",
       " 'freyberg6.wel_stress_period_data_16.txt',\n",
       " 'freyberg6.sfr_perioddata_19.txt',\n",
       " 'freyberg6.sfr_perioddata_25.txt',\n",
       " 'freyberg6.rch_recharge_8.txt',\n",
       " 'freyberg6.sfr_perioddata_9.txt',\n",
       " 'freyberg6.rch_recharge_22.txt',\n",
       " 'freyberg_mp.mplst',\n",
       " 'freyberg6.ic',\n",
       " 'freyberg6.sto',\n",
       " 'sfr.obs_continuous_sfr.csv.txt',\n",
       " 'freyberg6.rch_recharge_23.txt',\n",
       " 'freyberg6.sfr_perioddata_8.txt',\n",
       " 'freyberg6.rch_recharge_9.txt',\n",
       " 'freyberg6.sfr_perioddata_24.txt',\n",
       " 'freyberg6.sfr_perioddata_18.txt',\n",
       " 'freyberg6.wel_stress_period_data_17.txt',\n",
       " 'freyberg6.wel_stress_period_data_13.txt',\n",
       " 'freyberg6.sfr_perioddata_20.txt',\n",
       " 'mfsim.lst',\n",
       " 'pestpp-ies',\n",
       " 'freyberg6.nam',\n",
       " 'pestpp-mou',\n",
       " 'freyberg6.sfr_perioddata_21.txt',\n",
       " 'freyberg_mp.mpsim',\n",
       " 'freyberg6.wel_stress_period_data_12.txt',\n",
       " 'freyberg6.wel_stress_period_data_10.txt',\n",
       " 'freyberg6.sfr_perioddata_23.txt',\n",
       " 'freyberg6.rch_recharge_24.txt',\n",
       " 'freyberg6.rch_recharge_18.txt',\n",
       " 'freyberg_mp.mpbas',\n",
       " 'freyberg_mp.mpnam',\n",
       " 'pestpp-swp',\n",
       " 'freyberg6.rch_recharge_19.txt',\n",
       " 'freyberg6.rch_recharge_25.txt',\n",
       " 'freyberg6.sfr_perioddata_22.txt',\n",
       " 'freyberg6.dis.grb',\n",
       " 'freyberg6.sfr',\n",
       " 'freyberg6.wel_stress_period_data_11.txt']"
      ]
     },
     "execution_count": 3,
     "metadata": {},
     "output_type": "execute_result"
    }
   ],
   "source": [
    "os.listdir(tmp_d)"
   ]
  },
  {
   "cell_type": "markdown",
   "metadata": {},
   "source": [
    "Now we need just a tiny bit of info about the spatial discretization of the model - this is needed to work out separation distances between parameters to build a geostatistical prior covariance matrix later.\n",
    "\n",
    "Here we will load the flopy sim and model instance just to help us define some quantities later - flopy is ***not required*** to use the `PstFrom` class. ***Neither is MODFLOW***. However, at the time of writting, support for `SpatialReference` to spatially locate parameters is limited to structured grid models.\n",
    "\n",
    "Load the simulation. Run it once to make sure it works and to ***make sure that model output files are in the folder***. "
   ]
  },
  {
   "cell_type": "code",
   "execution_count": 4,
   "metadata": {
    "execution": {
     "iopub.execute_input": "2022-04-11T03:51:35.349841Z",
     "iopub.status.busy": "2022-04-11T03:51:35.348844Z",
     "iopub.status.idle": "2022-04-11T03:51:36.419821Z",
     "shell.execute_reply": "2022-04-11T03:51:36.420860Z"
    }
   },
   "outputs": [
    {
     "name": "stdout",
     "output_type": "stream",
     "text": [
      "loading simulation...\n",
      "  loading simulation name file...\n",
      "  loading tdis package...\n",
      "  loading model gwf6...\n",
      "    loading package dis...\n",
      "    loading package ic...\n",
      "    loading package npf...\n",
      "    loading package sto...\n",
      "    loading package oc...\n",
      "    loading package wel...\n",
      "    loading package rch...\n",
      "    loading package ghb...\n",
      "    loading package sfr...\n",
      "    loading package obs...\n",
      "  loading ims package freyberg6...\n",
      "                                   MODFLOW 6\n",
      "                U.S. GEOLOGICAL SURVEY MODULAR HYDROLOGIC MODEL\n",
      "                   VERSION 6.3.0 release candidate 07/30/2021\n",
      "                               ***DEVELOP MODE***\n",
      "\n",
      "   MODFLOW 6 compiled Dec 29 2021 09:30:50 with Intel(R) Fortran Intel(R) 64\n",
      "   Compiler for applications running on Intel(R) 64, Version 19.1.3.301 Build\n",
      "                                20200925_000000\n",
      "\n",
      "This software is preliminary or provisional and is subject to \n",
      "revision. It is being provided to meet the need for timely best \n",
      "science. The software has not received final approval by the U.S. \n",
      "Geological Survey (USGS). No warranty, expressed or implied, is made \n",
      "by the USGS or the U.S. Government as to the functionality of the \n",
      "software and related material nor shall the fact of release \n",
      "constitute any such warranty. The software is provided on the \n",
      "condition that neither the USGS nor the U.S. Government shall be held \n",
      "liable for any damages resulting from the authorized or unauthorized \n",
      "use of the software.\n",
      "\n",
      " \n",
      " Run start date and time (yyyy/mm/dd hh:mm:ss): 2022/04/20  9:21:47\n",
      " \n",
      " Writing simulation list file: mfsim.lst\n",
      " Using Simulation name file: mfsim.nam\n",
      " \n",
      "    Solving:  Stress period:     1    Time step:     1\n",
      "    Solving:  Stress period:     2    Time step:     1\n",
      "    Solving:  Stress period:     3    Time step:     1\n",
      "    Solving:  Stress period:     4    Time step:     1\n",
      "    Solving:  Stress period:     5    Time step:     1\n",
      "    Solving:  Stress period:     6    Time step:     1\n",
      "    Solving:  Stress period:     7    Time step:     1\n",
      "    Solving:  Stress period:     8    Time step:     1\n",
      "    Solving:  Stress period:     9    Time step:     1\n",
      "    Solving:  Stress period:    10    Time step:     1\n",
      "    Solving:  Stress period:    11    Time step:     1\n",
      "    Solving:  Stress period:    12    Time step:     1\n",
      "    Solving:  Stress period:    13    Time step:     1\n",
      "    Solving:  Stress period:    14    Time step:     1\n",
      "    Solving:  Stress period:    15    Time step:     1\n",
      "    Solving:  Stress period:    16    Time step:     1\n",
      "    Solving:  Stress period:    17    Time step:     1\n",
      "    Solving:  Stress period:    18    Time step:     1\n",
      "    Solving:  Stress period:    19    Time step:     1\n",
      "    Solving:  Stress period:    20    Time step:     1\n",
      "    Solving:  Stress period:    21    Time step:     1\n",
      "    Solving:  Stress period:    22    Time step:     1\n",
      "    Solving:  Stress period:    23    Time step:     1\n",
      "    Solving:  Stress period:    24    Time step:     1\n",
      "    Solving:  Stress period:    25    Time step:     1\n",
      " \n",
      " Run end date and time (yyyy/mm/dd hh:mm:ss): 2022/04/20  9:21:47\n",
      " Elapsed run time:  0.416 Seconds\n",
      " \n",
      " Normal termination of simulation.\n",
      "\n",
      "MODPATH Version 7.2.001   \n",
      "Program compiled Aug 01 2021 12:57:00 with IFORT compiler (ver. 19.10.3)        \n",
      " \n",
      " \n",
      "Run particle tracking simulation ...\n",
      "Processing Time Step     1 Period     1.  Time =  3.65250E+03  Steady-state flow                                                    \n",
      "Processing Time Step     1 Period     2.  Time =  3.68350E+03  Steady-state flow                                                    \n",
      "Processing Time Step     1 Period     3.  Time =  3.71250E+03  Steady-state flow                                                    \n",
      "Processing Time Step     1 Period     4.  Time =  3.74350E+03  Steady-state flow                                                    \n",
      "Processing Time Step     1 Period     5.  Time =  3.77350E+03  Steady-state flow                                                    \n",
      "Processing Time Step     1 Period     6.  Time =  3.80450E+03  Steady-state flow                                                    \n",
      "Processing Time Step     1 Period     7.  Time =  3.83450E+03  Steady-state flow                                                    \n",
      "Processing Time Step     1 Period     8.  Time =  3.86550E+03  Steady-state flow                                                    \n",
      "Processing Time Step     1 Period     9.  Time =  3.89650E+03  Steady-state flow                                                    \n",
      "Processing Time Step     1 Period    10.  Time =  3.92650E+03  Steady-state flow                                                    \n",
      "Processing Time Step     1 Period    11.  Time =  3.95750E+03  Steady-state flow                                                    \n",
      "Processing Time Step     1 Period    12.  Time =  3.98750E+03  Steady-state flow                                                    \n",
      "Processing Time Step     1 Period    13.  Time =  4.01850E+03  Steady-state flow                                                    \n",
      "Processing Time Step     1 Period    14.  Time =  4.04950E+03  Steady-state flow                                                    \n",
      "Processing Time Step     1 Period    15.  Time =  4.07750E+03  Steady-state flow                                                    \n",
      "Processing Time Step     1 Period    16.  Time =  4.10850E+03  Steady-state flow                                                    \n",
      "Processing Time Step     1 Period    17.  Time =  4.13850E+03  Steady-state flow                                                    \n",
      "Processing Time Step     1 Period    18.  Time =  4.16950E+03  Steady-state flow                                                    \n",
      "Processing Time Step     1 Period    19.  Time =  4.19950E+03  Steady-state flow                                                    \n",
      "Processing Time Step     1 Period    20.  Time =  4.23050E+03  Steady-state flow                                                    \n",
      "Processing Time Step     1 Period    21.  Time =  4.26150E+03  Steady-state flow                                                    \n",
      "Processing Time Step     1 Period    22.  Time =  4.29150E+03  Steady-state flow                                                    \n",
      "Processing Time Step     1 Period    23.  Time =  4.32250E+03  Steady-state flow                                                    \n",
      "Processing Time Step     1 Period    24.  Time =  4.35250E+03  Steady-state flow                                                    \n",
      "Processing Time Step     1 Period    25.  Time =  4.38350E+03  Steady-state flow                                                    \n",
      "\n",
      "Particle Summary:\n",
      "         0 particles are pending release.\n",
      "         0 particles remain active.\n",
      "         0 particles terminated at boundary faces.\n",
      "         1 particles terminated at weak sink cells.\n",
      "         0 particles terminated at weak source cells.\n",
      "         0 particles terminated at strong source/sink cells.\n",
      "         0 particles terminated in cells with a specified zone number.\n",
      "         0 particles were stranded in inactive or dry cells.\n",
      "         0 particles were unreleased.\n",
      "         0 particles have an unknown status.\n",
      " \n",
      "Normal termination.                                                        \n"
     ]
    }
   ],
   "source": [
    "# load simulation\n",
    "sim = flopy.mf6.MFSimulation.load(sim_ws=tmp_d)\n",
    "# load flow model\n",
    "gwf = sim.get_model()\n",
    "\n",
    "# run the model once to make sure it works\n",
    "pyemu.os_utils.run(\"mf6\",cwd=tmp_d)\n",
    "# run modpath7\n",
    "pyemu.os_utils.run(r'mp7 freyberg_mp.mpsim', cwd=tmp_d)"
   ]
  },
  {
   "cell_type": "markdown",
   "metadata": {},
   "source": [
    "### 2. Spatial Reference\n",
    "Now we can instantiate a `SpatialReference`. This will later be passed to `PstFrom` to assist with spatially locating parameters (e.g. pilot points and/or cell-by-cell parameters).  You can also use the flopy `modelgrid` class instance that is attached to the simulation, but `SpatialReference` is cleaner and faster for structured grids..."
   ]
  },
  {
   "cell_type": "code",
   "execution_count": 5,
   "metadata": {
    "execution": {
     "iopub.execute_input": "2022-04-11T03:51:36.424810Z",
     "iopub.status.busy": "2022-04-11T03:51:36.422815Z",
     "iopub.status.idle": "2022-04-11T03:51:36.436778Z",
     "shell.execute_reply": "2022-04-11T03:51:36.435781Z"
    }
   },
   "outputs": [
    {
     "name": "stdout",
     "output_type": "stream",
     "text": [
      "   could not remove start_datetime\n"
     ]
    },
    {
     "data": {
      "text/plain": [
       "xul:0; yul:10000; rotation:0; proj4_str:None; units:meters; lenuni:2; length_multiplier:1.0"
      ]
     },
     "execution_count": 5,
     "metadata": {},
     "output_type": "execute_result"
    }
   ],
   "source": [
    "sr = pyemu.helpers.SpatialReference.from_namfile(\n",
    "        os.path.join(tmp_d, \"freyberg6.nam\"),\n",
    "        delr=gwf.dis.delr.array, delc=gwf.dis.delc.array)\n",
    "sr"
   ]
  },
  {
   "cell_type": "markdown",
   "metadata": {},
   "source": [
    "### 3. Instantiate PstFrom\n",
    "\n",
    "Now we can start to construct the PEST(++) interface by instantiating a `PstFrom` class instance. There are a few things that we need to specify up front:\n",
    "\n",
    " - the folder in which we currently have model files (e.g. `tmp_d`). PstFrom will copy all the files from this directory into a new \"template\" folder.\n",
    " - **template folder**: this is a folder in which the PEST dataset will be constructed - this folder will hold the model files plus all of the files needed to run PEST(++). This folder/dataset will form the template for subsequent deployment of PEST(++).\n",
    " - **longnames**: for backwards compatibility with PEST and PEST_HP (i.e. non-PEST++ versions), which have upper limits to parameter/obsveration names (PEST++ does not). Setting this value to False is only recommended if required. \n",
    " - Whether the model is `zero based` or not.\n",
    " - (optional) the **spatial reference**, as previously discussed. This is only requried if using `pyEMU` to define parameter spatial correlation. Alternatively, you can define these yourself or use utilities available in the PEST-suite. \n",
    "\n"
   ]
  },
  {
   "cell_type": "code",
   "execution_count": 6,
   "metadata": {
    "execution": {
     "iopub.execute_input": "2022-04-11T03:51:36.443759Z",
     "iopub.status.busy": "2022-04-11T03:51:36.442761Z",
     "iopub.status.idle": "2022-04-11T03:51:37.401480Z",
     "shell.execute_reply": "2022-04-11T03:51:37.402513Z"
    }
   },
   "outputs": [],
   "source": [
    "# specify a template directory (i.e. the PstFrom working folder)\n",
    "template_ws = os.path.join(\"freyberg6_template\")\n",
    "start_datetime=\"1-1-2008\"\n",
    "# instantiate PstFrom\n",
    "pf = pyemu.utils.PstFrom(original_d=tmp_d, # where the model is stored\n",
    "                            new_d=template_ws, # the PEST template folder\n",
    "                            remove_existing=True, # ensures a clean start\n",
    "                            longnames=True, # set False if using PEST/PEST_HP\n",
    "                            spatial_reference=sr, #the spatial reference we generated earlier\n",
    "                            zero_based=False, # does the MODEL use zero based indices? For example, MODFLOW does NOT\n",
    "                            start_datetime=start_datetime, # required when specifying temporal correlation between parameters\n",
    "                            echo=False) # to stop PstFrom from writting lots of infromation to the notebook; experiment by setting it as True to see the difference; usefull for troubleshooting"
   ]
  },
  {
   "cell_type": "code",
   "execution_count": 7,
   "metadata": {},
   "outputs": [
    {
     "data": {
      "text/plain": [
       "['freyberg6.wel_stress_period_data_20.txt',\n",
       " 'freyberg6.rch_recharge_2.txt',\n",
       " 'freyberg6.sfr_perioddata_13.txt',\n",
       " 'freyberg6.sfr_perioddata_3.txt',\n",
       " 'freyberg6.rch_recharge_14.txt',\n",
       " 'freyberg6_freyberg.hds',\n",
       " 'freyberg6.dis_idomain_layer1.txt',\n",
       " 'head.obs_continuous_heads.csv.txt',\n",
       " 'freyberg6.rch_recharge_15.txt',\n",
       " 'freyberg6.sfr_perioddata_2.txt',\n",
       " 'freyberg6.sfr_perioddata_12.txt',\n",
       " 'freyberg6.rch_recharge_3.txt',\n",
       " 'mf5to6',\n",
       " 'zbud6',\n",
       " 'freyberg6.wel_stress_period_data_21.txt',\n",
       " 'freyberg6.wel_stress_period_data_23.txt',\n",
       " 'freyberg6.rch_recharge_1.txt',\n",
       " 'freyberg6.sfr_perioddata_10.txt',\n",
       " 'pm.pg1.sloc',\n",
       " 'freyberg6.rch_recharge_17.txt',\n",
       " 'freyberg6.dis_idomain_layer3.txt',\n",
       " 'freyberg6.ghb_stress_period_data_1.txt',\n",
       " 'freyberg6.dis_idomain_layer2.txt',\n",
       " 'inschek',\n",
       " 'freyberg6.sfr_perioddata_1.txt',\n",
       " 'mpath7.log',\n",
       " 'freyberg6.rch_recharge_16.txt',\n",
       " 'freyberg6.sfr_perioddata_11.txt',\n",
       " 'freyberg6.sfr_connectiondata.txt',\n",
       " 'freyberg6.wel_stress_period_data_22.txt',\n",
       " 'freyberg6.sto_sy_layer3.txt',\n",
       " 'mp7',\n",
       " 'freyberg6.sfr_perioddata_15.txt',\n",
       " 'freyberg6.rch_recharge_4.txt',\n",
       " 'freyberg6.dis_top.txt',\n",
       " 'freyberg6.rch_recharge_12.txt',\n",
       " 'freyberg6.sfr_perioddata_5.txt',\n",
       " 'pestpp-opt',\n",
       " 'freyberg6.sfr_perioddata_4.txt',\n",
       " 'freyberg6.rch_recharge_13.txt',\n",
       " 'freyberg6.rch_recharge_5.txt',\n",
       " 'freyberg6.sfr_perioddata_14.txt',\n",
       " 'freyberg6.sto_sy_layer2.txt',\n",
       " 'freyberg6.wel_stress_period_data_19.txt',\n",
       " 'freyberg6.wel_stress_period_data_25.txt',\n",
       " 'freyberg6.sfr_perioddata_16.txt',\n",
       " 'freyberg6.rch_recharge_7.txt',\n",
       " 'freyberg6.sfr_perioddata_6.txt',\n",
       " 'freyberg6.rch_recharge_11.txt',\n",
       " 'freyberg6.rch_recharge_10.txt',\n",
       " 'freyberg6.sfr_perioddata_7.txt',\n",
       " 'freyberg6.rch_recharge_6.txt',\n",
       " 'freyberg6.sfr_perioddata_17.txt',\n",
       " 'freyberg6.wel_stress_period_data_24.txt',\n",
       " 'freyberg6.sto_sy_layer1.txt',\n",
       " 'freyberg6.wel_stress_period_data_18.txt',\n",
       " 'freyberg6.sto_iconvert_layer1.txt',\n",
       " 'freyberg6.wel_stress_period_data_8.txt',\n",
       " 'freyberg6.sto_ss_layer2.txt',\n",
       " 'org',\n",
       " 'freyberg6.sto_ss_layer3.txt',\n",
       " 'freyberg6.wel_stress_period_data_9.txt',\n",
       " 'freyberg6.oc',\n",
       " 'freyberg6.sto_iconvert_layer2.txt',\n",
       " 'freyberg6.sto_ss_layer1.txt',\n",
       " 'pestpp-sen',\n",
       " 'tempchek',\n",
       " 'head.obs',\n",
       " 'freyberg6.npf',\n",
       " 'freyberg6.sto_iconvert_layer3.txt',\n",
       " 'freyberg6.wel',\n",
       " 'freyberg6.npf_k_layer1.txt',\n",
       " 'pestpp-sqp',\n",
       " 'freyberg6.npf_k_layer3.txt',\n",
       " 'pestpp-da',\n",
       " 'pestpp-glm',\n",
       " 'pestchek',\n",
       " 'freyberg6.sfr_packagedata.txt',\n",
       " 'freyberg6.npf_k_layer2.txt',\n",
       " 'mf6',\n",
       " 'freyberg6.npf_k33_layer3.txt',\n",
       " 'freyberg6.wel_stress_period_data_1.txt',\n",
       " 'freyberg6.ic_strt_layer3.txt',\n",
       " 'heads.csv',\n",
       " 'sfr.csv',\n",
       " 'freyberg6.ic_strt_layer2.txt',\n",
       " 'freyberg6.dis_delc.txt',\n",
       " 'freyberg6.npf_k33_layer2.txt',\n",
       " 'freyberg6.dis',\n",
       " 'freyberg6.wel_stress_period_data_2.txt',\n",
       " 'freyberg6.ic_strt_layer1.txt',\n",
       " 'freyberg6.wel_stress_period_data_3.txt',\n",
       " 'freyberg6.npf_k33_layer1.txt',\n",
       " 'freyberg6.dis_botm_layer1.txt',\n",
       " 'freyberg6.rch',\n",
       " 'freyberg_mp.ne_layer3.txt',\n",
       " 'freyberg6.wel_stress_period_data_7.txt',\n",
       " 'freyberg6.npf_icelltype_layer2.txt',\n",
       " 'sfr.obs',\n",
       " 'freyberg6.npf_icelltype_layer3.txt',\n",
       " 'freyberg6.wel_stress_period_data_6.txt',\n",
       " 'freyberg6.dis_delr.txt',\n",
       " 'freyberg6.ghb',\n",
       " 'freyberg_mp.ne_layer2.txt',\n",
       " 'freyberg6.tdis',\n",
       " 'freyberg6.dis_botm_layer2.txt',\n",
       " 'freyberg6.wel_stress_period_data_4.txt',\n",
       " 'freyberg6.npf_icelltype_layer1.txt',\n",
       " 'freyberg6.ims',\n",
       " 'freyberg_mp.mpend',\n",
       " 'freyberg6.wel_stress_period_data_5.txt',\n",
       " 'freyberg_mp.ne_layer1.txt',\n",
       " 'freyberg6.dis_botm_layer3.txt',\n",
       " 'freyberg6.wel_stress_period_data_15.txt',\n",
       " 'freyberg6_freyberg.cbc',\n",
       " 'mfsim.nam',\n",
       " 'freyberg6.rch_recharge_21.txt',\n",
       " 'freyberg6.rch_recharge_20.txt',\n",
       " 'freyberg6.lst',\n",
       " 'freyberg6.wel_stress_period_data_14.txt',\n",
       " 'freyberg6.wel_stress_period_data_16.txt',\n",
       " 'freyberg6.sfr_perioddata_19.txt',\n",
       " 'freyberg6.sfr_perioddata_25.txt',\n",
       " 'freyberg6.rch_recharge_8.txt',\n",
       " 'freyberg6.sfr_perioddata_9.txt',\n",
       " 'freyberg6.rch_recharge_22.txt',\n",
       " 'freyberg_mp.mplst',\n",
       " 'freyberg6.ic',\n",
       " 'freyberg6.sto',\n",
       " 'sfr.obs_continuous_sfr.csv.txt',\n",
       " 'freyberg6.rch_recharge_23.txt',\n",
       " 'freyberg6.sfr_perioddata_8.txt',\n",
       " 'freyberg6.rch_recharge_9.txt',\n",
       " 'freyberg6.sfr_perioddata_24.txt',\n",
       " 'freyberg6.sfr_perioddata_18.txt',\n",
       " 'freyberg6.wel_stress_period_data_17.txt',\n",
       " 'freyberg6.wel_stress_period_data_13.txt',\n",
       " 'freyberg6.sfr_perioddata_20.txt',\n",
       " 'mfsim.lst',\n",
       " 'pestpp-ies',\n",
       " 'freyberg6.nam',\n",
       " 'pestpp-mou',\n",
       " 'freyberg6.sfr_perioddata_21.txt',\n",
       " 'freyberg_mp.mpsim',\n",
       " 'freyberg6.wel_stress_period_data_12.txt',\n",
       " 'freyberg6.wel_stress_period_data_10.txt',\n",
       " 'freyberg6.sfr_perioddata_23.txt',\n",
       " 'freyberg6.rch_recharge_24.txt',\n",
       " 'freyberg6.rch_recharge_18.txt',\n",
       " 'freyberg_mp.mpbas',\n",
       " 'freyberg_mp.mpnam',\n",
       " 'pestpp-swp',\n",
       " 'mult',\n",
       " 'freyberg6.rch_recharge_19.txt',\n",
       " 'freyberg6.rch_recharge_25.txt',\n",
       " 'freyberg6.sfr_perioddata_22.txt',\n",
       " 'freyberg6.dis.grb',\n",
       " 'freyberg6.sfr',\n",
       " 'freyberg6.wel_stress_period_data_11.txt']"
      ]
     },
     "execution_count": 7,
     "metadata": {},
     "output_type": "execute_result"
    }
   ],
   "source": [
    "os.listdir(template_ws)"
   ]
  },
  {
   "cell_type": "markdown",
   "metadata": {},
   "source": [
    "So we see that when `PstFrom` is instantiated, it starts by copying the `original_d` to the `new_d`.  sweet as!"
   ]
  },
  {
   "cell_type": "markdown",
   "metadata": {},
   "source": [
    "### 4. Observations\n",
    "\n",
    "We now have a `PstFrom` instance assigned to the variable `pf`. For now it is only an empty container to which we can start adding \"observations\", \"parameters\" and other bits and bobs.\n",
    "\n",
    "Lets start with observations because they are easier. `MODFLOW6` makes life even easier by recording observations in nicely organized .csv files. Isn't that a peach!\n",
    "\n",
    "#### 4.1 Freyberg Recap\n",
    "As you may recall from the \"*intro to Freyberg*\" tutorial, the model is configured to record time series of head at observation wells, and flux at three locations along the river. These are recorded in external .csv files named `heads.csv` and `sfr.csv`, respectively. You should be able to see these files in the model folder.\n",
    "\n",
    "Recall that each .csv houses records of observation time-series. Outputs are recorded for each simulated stress-period. The model starts with a single steady-state stress-period, followed by 24 monthly transient stress-periods. The steady-state and first 12 transient stress-periods simulate the history-matching period. The last 12 transient stress periods simulate future conditions (i.e. the prediction period)."
   ]
  },
  {
   "cell_type": "code",
   "execution_count": 8,
   "metadata": {
    "execution": {
     "iopub.execute_input": "2022-04-11T03:51:37.405498Z",
     "iopub.status.busy": "2022-04-11T03:51:37.405498Z",
     "iopub.status.idle": "2022-04-11T03:51:37.417473Z",
     "shell.execute_reply": "2022-04-11T03:51:37.418469Z"
    }
   },
   "outputs": [
    {
     "name": "stdout",
     "output_type": "stream",
     "text": [
      "['sfr.csv']\n",
      "['heads.csv']\n"
     ]
    }
   ],
   "source": [
    "# check the output csv file names\n",
    "for i in gwf.obs:\n",
    "    print(i.output.obs_names)"
   ]
  },
  {
   "cell_type": "markdown",
   "metadata": {},
   "source": [
    "Let's start with the 'heads.csv' file. First load it as a DataFrame to take a look:"
   ]
  },
  {
   "cell_type": "code",
   "execution_count": 9,
   "metadata": {
    "execution": {
     "iopub.execute_input": "2022-04-11T03:51:37.421461Z",
     "iopub.status.busy": "2022-04-11T03:51:37.421461Z",
     "iopub.status.idle": "2022-04-11T03:51:37.449398Z",
     "shell.execute_reply": "2022-04-11T03:51:37.450384Z"
    }
   },
   "outputs": [
    {
     "data": {
      "text/html": [
       "<div>\n",
       "<style scoped>\n",
       "    .dataframe tbody tr th:only-of-type {\n",
       "        vertical-align: middle;\n",
       "    }\n",
       "\n",
       "    .dataframe tbody tr th {\n",
       "        vertical-align: top;\n",
       "    }\n",
       "\n",
       "    .dataframe thead th {\n",
       "        text-align: right;\n",
       "    }\n",
       "</style>\n",
       "<table border=\"1\" class=\"dataframe\">\n",
       "  <thead>\n",
       "    <tr style=\"text-align: right;\">\n",
       "      <th></th>\n",
       "      <th>TRGW-2-2-15</th>\n",
       "      <th>TRGW-2-2-9</th>\n",
       "      <th>TRGW-2-3-8</th>\n",
       "      <th>TRGW-2-9-1</th>\n",
       "      <th>TRGW-2-13-10</th>\n",
       "      <th>TRGW-2-15-16</th>\n",
       "      <th>TRGW-2-21-10</th>\n",
       "      <th>TRGW-2-22-15</th>\n",
       "      <th>TRGW-2-24-4</th>\n",
       "      <th>TRGW-2-26-6</th>\n",
       "      <th>...</th>\n",
       "      <th>TRGW-0-9-1</th>\n",
       "      <th>TRGW-0-13-10</th>\n",
       "      <th>TRGW-0-15-16</th>\n",
       "      <th>TRGW-0-21-10</th>\n",
       "      <th>TRGW-0-22-15</th>\n",
       "      <th>TRGW-0-24-4</th>\n",
       "      <th>TRGW-0-26-6</th>\n",
       "      <th>TRGW-0-29-15</th>\n",
       "      <th>TRGW-0-33-7</th>\n",
       "      <th>TRGW-0-34-10</th>\n",
       "    </tr>\n",
       "    <tr>\n",
       "      <th>time</th>\n",
       "      <th></th>\n",
       "      <th></th>\n",
       "      <th></th>\n",
       "      <th></th>\n",
       "      <th></th>\n",
       "      <th></th>\n",
       "      <th></th>\n",
       "      <th></th>\n",
       "      <th></th>\n",
       "      <th></th>\n",
       "      <th></th>\n",
       "      <th></th>\n",
       "      <th></th>\n",
       "      <th></th>\n",
       "      <th></th>\n",
       "      <th></th>\n",
       "      <th></th>\n",
       "      <th></th>\n",
       "      <th></th>\n",
       "      <th></th>\n",
       "      <th></th>\n",
       "    </tr>\n",
       "  </thead>\n",
       "  <tbody>\n",
       "    <tr>\n",
       "      <th>3652.5</th>\n",
       "      <td>34.399753</td>\n",
       "      <td>34.692968</td>\n",
       "      <td>34.730206</td>\n",
       "      <td>35.065796</td>\n",
       "      <td>34.320937</td>\n",
       "      <td>34.180708</td>\n",
       "      <td>34.200684</td>\n",
       "      <td>34.065937</td>\n",
       "      <td>34.406587</td>\n",
       "      <td>34.245567</td>\n",
       "      <td>...</td>\n",
       "      <td>35.073084</td>\n",
       "      <td>34.326872</td>\n",
       "      <td>34.186027</td>\n",
       "      <td>34.206589</td>\n",
       "      <td>34.025500</td>\n",
       "      <td>34.412947</td>\n",
       "      <td>34.251605</td>\n",
       "      <td>33.937893</td>\n",
       "      <td>34.031870</td>\n",
       "      <td>33.924572</td>\n",
       "    </tr>\n",
       "    <tr>\n",
       "      <th>3683.5</th>\n",
       "      <td>34.474597</td>\n",
       "      <td>34.773873</td>\n",
       "      <td>34.811043</td>\n",
       "      <td>35.130920</td>\n",
       "      <td>34.435795</td>\n",
       "      <td>34.284363</td>\n",
       "      <td>34.320775</td>\n",
       "      <td>34.171539</td>\n",
       "      <td>34.517134</td>\n",
       "      <td>34.376046</td>\n",
       "      <td>...</td>\n",
       "      <td>35.137941</td>\n",
       "      <td>34.440950</td>\n",
       "      <td>34.289268</td>\n",
       "      <td>34.325758</td>\n",
       "      <td>34.116346</td>\n",
       "      <td>34.522520</td>\n",
       "      <td>34.380738</td>\n",
       "      <td>34.017081</td>\n",
       "      <td>34.142435</td>\n",
       "      <td>34.035987</td>\n",
       "    </tr>\n",
       "    <tr>\n",
       "      <th>3712.5</th>\n",
       "      <td>34.540686</td>\n",
       "      <td>34.856926</td>\n",
       "      <td>34.895437</td>\n",
       "      <td>35.214427</td>\n",
       "      <td>34.528656</td>\n",
       "      <td>34.363909</td>\n",
       "      <td>34.418080</td>\n",
       "      <td>34.248171</td>\n",
       "      <td>34.622236</td>\n",
       "      <td>34.480890</td>\n",
       "      <td>...</td>\n",
       "      <td>35.221267</td>\n",
       "      <td>34.534811</td>\n",
       "      <td>34.369785</td>\n",
       "      <td>34.424073</td>\n",
       "      <td>34.183016</td>\n",
       "      <td>34.628106</td>\n",
       "      <td>34.486650</td>\n",
       "      <td>34.079395</td>\n",
       "      <td>34.230419</td>\n",
       "      <td>34.112732</td>\n",
       "    </tr>\n",
       "    <tr>\n",
       "      <th>3743.5</th>\n",
       "      <td>34.578877</td>\n",
       "      <td>34.913862</td>\n",
       "      <td>34.954331</td>\n",
       "      <td>35.285693</td>\n",
       "      <td>34.575597</td>\n",
       "      <td>34.400771</td>\n",
       "      <td>34.466995</td>\n",
       "      <td>34.282155</td>\n",
       "      <td>34.687775</td>\n",
       "      <td>34.535632</td>\n",
       "      <td>...</td>\n",
       "      <td>35.292600</td>\n",
       "      <td>34.582875</td>\n",
       "      <td>34.407581</td>\n",
       "      <td>34.474190</td>\n",
       "      <td>34.212731</td>\n",
       "      <td>34.694595</td>\n",
       "      <td>34.542664</td>\n",
       "      <td>34.108744</td>\n",
       "      <td>34.273212</td>\n",
       "      <td>34.143653</td>\n",
       "    </tr>\n",
       "    <tr>\n",
       "      <th>3773.5</th>\n",
       "      <td>34.570039</td>\n",
       "      <td>34.914817</td>\n",
       "      <td>34.956630</td>\n",
       "      <td>35.304308</td>\n",
       "      <td>34.553737</td>\n",
       "      <td>34.377572</td>\n",
       "      <td>34.444166</td>\n",
       "      <td>34.257522</td>\n",
       "      <td>34.680793</td>\n",
       "      <td>34.513612</td>\n",
       "      <td>...</td>\n",
       "      <td>35.311425</td>\n",
       "      <td>34.561764</td>\n",
       "      <td>34.384903</td>\n",
       "      <td>34.452207</td>\n",
       "      <td>34.191712</td>\n",
       "      <td>34.688486</td>\n",
       "      <td>34.521646</td>\n",
       "      <td>34.091720</td>\n",
       "      <td>34.250685</td>\n",
       "      <td>34.114481</td>\n",
       "    </tr>\n",
       "  </tbody>\n",
       "</table>\n",
       "<p>5 rows × 26 columns</p>\n",
       "</div>"
      ],
      "text/plain": [
       "        TRGW-2-2-15  TRGW-2-2-9  TRGW-2-3-8  TRGW-2-9-1  TRGW-2-13-10  \\\n",
       "time                                                                    \n",
       "3652.5    34.399753   34.692968   34.730206   35.065796     34.320937   \n",
       "3683.5    34.474597   34.773873   34.811043   35.130920     34.435795   \n",
       "3712.5    34.540686   34.856926   34.895437   35.214427     34.528656   \n",
       "3743.5    34.578877   34.913862   34.954331   35.285693     34.575597   \n",
       "3773.5    34.570039   34.914817   34.956630   35.304308     34.553737   \n",
       "\n",
       "        TRGW-2-15-16  TRGW-2-21-10  TRGW-2-22-15  TRGW-2-24-4  TRGW-2-26-6  \\\n",
       "time                                                                         \n",
       "3652.5     34.180708     34.200684     34.065937    34.406587    34.245567   \n",
       "3683.5     34.284363     34.320775     34.171539    34.517134    34.376046   \n",
       "3712.5     34.363909     34.418080     34.248171    34.622236    34.480890   \n",
       "3743.5     34.400771     34.466995     34.282155    34.687775    34.535632   \n",
       "3773.5     34.377572     34.444166     34.257522    34.680793    34.513612   \n",
       "\n",
       "        ...  TRGW-0-9-1  TRGW-0-13-10  TRGW-0-15-16  TRGW-0-21-10  \\\n",
       "time    ...                                                         \n",
       "3652.5  ...   35.073084     34.326872     34.186027     34.206589   \n",
       "3683.5  ...   35.137941     34.440950     34.289268     34.325758   \n",
       "3712.5  ...   35.221267     34.534811     34.369785     34.424073   \n",
       "3743.5  ...   35.292600     34.582875     34.407581     34.474190   \n",
       "3773.5  ...   35.311425     34.561764     34.384903     34.452207   \n",
       "\n",
       "        TRGW-0-22-15  TRGW-0-24-4  TRGW-0-26-6  TRGW-0-29-15  TRGW-0-33-7  \\\n",
       "time                                                                        \n",
       "3652.5     34.025500    34.412947    34.251605     33.937893    34.031870   \n",
       "3683.5     34.116346    34.522520    34.380738     34.017081    34.142435   \n",
       "3712.5     34.183016    34.628106    34.486650     34.079395    34.230419   \n",
       "3743.5     34.212731    34.694595    34.542664     34.108744    34.273212   \n",
       "3773.5     34.191712    34.688486    34.521646     34.091720    34.250685   \n",
       "\n",
       "        TRGW-0-34-10  \n",
       "time                  \n",
       "3652.5     33.924572  \n",
       "3683.5     34.035987  \n",
       "3712.5     34.112732  \n",
       "3743.5     34.143653  \n",
       "3773.5     34.114481  \n",
       "\n",
       "[5 rows x 26 columns]"
      ]
     },
     "execution_count": 9,
     "metadata": {},
     "output_type": "execute_result"
    }
   ],
   "source": [
    "df = pd.read_csv(os.path.join(template_ws,\"heads.csv\"),index_col=0)\n",
    "df.head()"
   ]
  },
  {
   "cell_type": "markdown",
   "metadata": {},
   "source": [
    "As you can see, there are many columns, one for each observation site. Conveniently, * *cough* * they are named according to the cell layer, row and column. Note that at every site, there is an observation in both the top and bottom layer (0_ and 2_). We will make use of this later to create \"secondary observations\" of head differences between layers...but let's not get distracted.\n",
    "\n",
    "The values in the *.csv* file were generated by running the model. (***IMPORTANT!***) However, `PstFrom` assumes that values in this file are the *target* observation values, and they will be used to populate the PEST(++) dataset.  This lets the user quickly verify that the `PstFrom` process reproduces the same model output files - an important thing to test!\n",
    "\n",
    "Now, you can and should change the observation values later on for the quantities that correspond to actual observation data.  This is the standard workflow when using `PstFrom` because it allows users to separate the PEST interface setup from the always-important process of setting observation values and weights. We address this part of the workflow in a separate tutorial."
   ]
  },
  {
   "cell_type": "markdown",
   "metadata": {},
   "source": [
    "#### 4.1. Adding Observations\n",
    "\n",
    "First, we will use the `PstFrom.add_observations()` method to add observations to our `pf` object. This method can use ***list-type*** files, where the data are organized in column/tabular format with one or more index columns and one or more data columns.  This method can also use ***array-type*** files, where the data are organized in a 2-D array structure (we will see this one later...)\n",
    "\n",
    "We are going to tell `pf` which columns of this file contain observations. Values in these columns will be assigned to *observation values*.\n",
    "\n",
    "We can also inform it if there is an index column (or columns). Values in this column will be included in the *observation names*. \n",
    "\n",
    "We could also specify which rows to include as observations. But observations are free...so why not keep them all! \n",
    "\n",
    "Let's add observations from `heads.csv`. The first column of this file records the time at which the value is simulated. Let's use that as the index column (this becomes useful later on to post-process results). We want all other columns as observation values.\n"
   ]
  },
  {
   "cell_type": "code",
   "execution_count": 10,
   "metadata": {
    "execution": {
     "iopub.execute_input": "2022-04-11T03:51:37.470027Z",
     "iopub.status.busy": "2022-04-11T03:51:37.468997Z",
     "iopub.status.idle": "2022-04-11T03:51:37.514128Z",
     "shell.execute_reply": "2022-04-11T03:51:37.514128Z"
    }
   },
   "outputs": [],
   "source": [
    "hds_df = pf.add_observations(\"heads.csv\", # the model output file to read\n",
    "                            insfile=\"heads.csv.ins\", #optional, the instruction file name\n",
    "                            index_cols=\"time\", #column header to use as index; can also use column number (zero-based) instead of the header name\n",
    "                            use_cols=list(df.columns.values), #names of columns that include observation values; can also use column number (zero-based) instead of the header name\n",
    "                            prefix=\"hds\") #prefix to all observation names; choose something logical and easy o find. We use it later on to select obsevrations"
   ]
  },
  {
   "cell_type": "markdown",
   "metadata": {},
   "source": [
    "Let's inspect what we just created. \n",
    "\n",
    "We can see that the `.add_observations()` method returned a dataframe with lots of useful info: \n",
    "\n",
    " - the observation names that were formed (see `obsnme` column); note that these inlcude lots of usefull metadata like the column name, index value and so on;\n",
    " - the values that were read from `heads.csv` (see `obsval` column); \n",
    " - some generic weights and group names; note that observations are grouped according to the column of the model output .csv. Alternatively, we could have specified a list of observation group names."
   ]
  },
  {
   "cell_type": "code",
   "execution_count": 11,
   "metadata": {
    "execution": {
     "iopub.execute_input": "2022-04-11T03:51:37.520978Z",
     "iopub.status.busy": "2022-04-11T03:51:37.520978Z",
     "iopub.status.idle": "2022-04-11T03:51:37.528997Z",
     "shell.execute_reply": "2022-04-11T03:51:37.529954Z"
    }
   },
   "outputs": [
    {
     "data": {
      "text/html": [
       "<div>\n",
       "<style scoped>\n",
       "    .dataframe tbody tr th:only-of-type {\n",
       "        vertical-align: middle;\n",
       "    }\n",
       "\n",
       "    .dataframe tbody tr th {\n",
       "        vertical-align: top;\n",
       "    }\n",
       "\n",
       "    .dataframe thead th {\n",
       "        text-align: right;\n",
       "    }\n",
       "</style>\n",
       "<table border=\"1\" class=\"dataframe\">\n",
       "  <thead>\n",
       "    <tr style=\"text-align: right;\">\n",
       "      <th></th>\n",
       "      <th>obsnme</th>\n",
       "      <th>obsval</th>\n",
       "      <th>weight</th>\n",
       "      <th>obgnme</th>\n",
       "    </tr>\n",
       "  </thead>\n",
       "  <tbody>\n",
       "    <tr>\n",
       "      <th>oname:hds_otype:lst_usecol:trgw-0-13-10_time:3652.5</th>\n",
       "      <td>oname:hds_otype:lst_usecol:trgw-0-13-10_time:3652.5</td>\n",
       "      <td>34.326872</td>\n",
       "      <td>1.0</td>\n",
       "      <td>oname:hds_otype:lst_usecol:trgw-0-13-10</td>\n",
       "    </tr>\n",
       "    <tr>\n",
       "      <th>oname:hds_otype:lst_usecol:trgw-0-13-10_time:3683.5</th>\n",
       "      <td>oname:hds_otype:lst_usecol:trgw-0-13-10_time:3683.5</td>\n",
       "      <td>34.440950</td>\n",
       "      <td>1.0</td>\n",
       "      <td>oname:hds_otype:lst_usecol:trgw-0-13-10</td>\n",
       "    </tr>\n",
       "    <tr>\n",
       "      <th>oname:hds_otype:lst_usecol:trgw-0-13-10_time:3712.5</th>\n",
       "      <td>oname:hds_otype:lst_usecol:trgw-0-13-10_time:3712.5</td>\n",
       "      <td>34.534811</td>\n",
       "      <td>1.0</td>\n",
       "      <td>oname:hds_otype:lst_usecol:trgw-0-13-10</td>\n",
       "    </tr>\n",
       "    <tr>\n",
       "      <th>oname:hds_otype:lst_usecol:trgw-0-13-10_time:3743.5</th>\n",
       "      <td>oname:hds_otype:lst_usecol:trgw-0-13-10_time:3743.5</td>\n",
       "      <td>34.582875</td>\n",
       "      <td>1.0</td>\n",
       "      <td>oname:hds_otype:lst_usecol:trgw-0-13-10</td>\n",
       "    </tr>\n",
       "    <tr>\n",
       "      <th>oname:hds_otype:lst_usecol:trgw-0-13-10_time:3773.5</th>\n",
       "      <td>oname:hds_otype:lst_usecol:trgw-0-13-10_time:3773.5</td>\n",
       "      <td>34.561764</td>\n",
       "      <td>1.0</td>\n",
       "      <td>oname:hds_otype:lst_usecol:trgw-0-13-10</td>\n",
       "    </tr>\n",
       "  </tbody>\n",
       "</table>\n",
       "</div>"
      ],
      "text/plain": [
       "                                                                                                  obsnme  \\\n",
       "oname:hds_otype:lst_usecol:trgw-0-13-10_time:3652.5  oname:hds_otype:lst_usecol:trgw-0-13-10_time:3652.5   \n",
       "oname:hds_otype:lst_usecol:trgw-0-13-10_time:3683.5  oname:hds_otype:lst_usecol:trgw-0-13-10_time:3683.5   \n",
       "oname:hds_otype:lst_usecol:trgw-0-13-10_time:3712.5  oname:hds_otype:lst_usecol:trgw-0-13-10_time:3712.5   \n",
       "oname:hds_otype:lst_usecol:trgw-0-13-10_time:3743.5  oname:hds_otype:lst_usecol:trgw-0-13-10_time:3743.5   \n",
       "oname:hds_otype:lst_usecol:trgw-0-13-10_time:3773.5  oname:hds_otype:lst_usecol:trgw-0-13-10_time:3773.5   \n",
       "\n",
       "                                                        obsval  weight  \\\n",
       "oname:hds_otype:lst_usecol:trgw-0-13-10_time:3652.5  34.326872     1.0   \n",
       "oname:hds_otype:lst_usecol:trgw-0-13-10_time:3683.5  34.440950     1.0   \n",
       "oname:hds_otype:lst_usecol:trgw-0-13-10_time:3712.5  34.534811     1.0   \n",
       "oname:hds_otype:lst_usecol:trgw-0-13-10_time:3743.5  34.582875     1.0   \n",
       "oname:hds_otype:lst_usecol:trgw-0-13-10_time:3773.5  34.561764     1.0   \n",
       "\n",
       "                                                                                      obgnme  \n",
       "oname:hds_otype:lst_usecol:trgw-0-13-10_time:3652.5  oname:hds_otype:lst_usecol:trgw-0-13-10  \n",
       "oname:hds_otype:lst_usecol:trgw-0-13-10_time:3683.5  oname:hds_otype:lst_usecol:trgw-0-13-10  \n",
       "oname:hds_otype:lst_usecol:trgw-0-13-10_time:3712.5  oname:hds_otype:lst_usecol:trgw-0-13-10  \n",
       "oname:hds_otype:lst_usecol:trgw-0-13-10_time:3743.5  oname:hds_otype:lst_usecol:trgw-0-13-10  \n",
       "oname:hds_otype:lst_usecol:trgw-0-13-10_time:3773.5  oname:hds_otype:lst_usecol:trgw-0-13-10  "
      ]
     },
     "execution_count": 11,
     "metadata": {},
     "output_type": "execute_result"
    }
   ],
   "source": [
    "hds_df.head()"
   ]
  },
  {
   "cell_type": "markdown",
   "metadata": {},
   "source": [
    "At this point, no PEST *control file* has been created, we have simply prepared to add these observations to the control file later. Everything is still only stored in memory. However, a PEST *instruction* file has been created in the template folder (`template_ws`):"
   ]
  },
  {
   "cell_type": "code",
   "execution_count": 12,
   "metadata": {
    "execution": {
     "iopub.execute_input": "2022-04-11T03:51:37.532947Z",
     "iopub.status.busy": "2022-04-11T03:51:37.532947Z",
     "iopub.status.idle": "2022-04-11T03:51:37.544181Z",
     "shell.execute_reply": "2022-04-11T03:51:37.545213Z"
    }
   },
   "outputs": [
    {
     "data": {
      "text/plain": [
       "['heads.csv.ins']"
      ]
     },
     "execution_count": 12,
     "metadata": {},
     "output_type": "execute_result"
    }
   ],
   "source": [
    "[f for f in os.listdir(template_ws) if f.endswith(\".ins\")]"
   ]
  },
  {
   "cell_type": "markdown",
   "metadata": {},
   "source": [
    "Blimey, wasn't that easy? Automatically monitoring thousands of model output quantities as observations into a PEST dataset becomes a breeze!\n",
    "\n",
    "Let's quickly do the same thing for the SFR observations."
   ]
  },
  {
   "cell_type": "code",
   "execution_count": 13,
   "metadata": {
    "execution": {
     "iopub.execute_input": "2022-04-11T03:51:37.549200Z",
     "iopub.status.busy": "2022-04-11T03:51:37.548170Z",
     "iopub.status.idle": "2022-04-11T03:51:37.560826Z",
     "shell.execute_reply": "2022-04-11T03:51:37.559802Z"
    }
   },
   "outputs": [
    {
     "data": {
      "text/html": [
       "<div>\n",
       "<style scoped>\n",
       "    .dataframe tbody tr th:only-of-type {\n",
       "        vertical-align: middle;\n",
       "    }\n",
       "\n",
       "    .dataframe tbody tr th {\n",
       "        vertical-align: top;\n",
       "    }\n",
       "\n",
       "    .dataframe thead th {\n",
       "        text-align: right;\n",
       "    }\n",
       "</style>\n",
       "<table border=\"1\" class=\"dataframe\">\n",
       "  <thead>\n",
       "    <tr style=\"text-align: right;\">\n",
       "      <th></th>\n",
       "      <th>HEADWATER</th>\n",
       "      <th>TAILWATER</th>\n",
       "      <th>GAGE-1</th>\n",
       "    </tr>\n",
       "    <tr>\n",
       "      <th>time</th>\n",
       "      <th></th>\n",
       "      <th></th>\n",
       "      <th></th>\n",
       "    </tr>\n",
       "  </thead>\n",
       "  <tbody>\n",
       "    <tr>\n",
       "      <th>3652.5</th>\n",
       "      <td>-751.175944</td>\n",
       "      <td>-530.017751</td>\n",
       "      <td>1362.956403</td>\n",
       "    </tr>\n",
       "    <tr>\n",
       "      <th>3683.5</th>\n",
       "      <td>-953.833450</td>\n",
       "      <td>-674.975248</td>\n",
       "      <td>1761.276157</td>\n",
       "    </tr>\n",
       "    <tr>\n",
       "      <th>3712.5</th>\n",
       "      <td>-1111.264769</td>\n",
       "      <td>-799.212978</td>\n",
       "      <td>2049.386246</td>\n",
       "    </tr>\n",
       "    <tr>\n",
       "      <th>3743.5</th>\n",
       "      <td>-1180.723380</td>\n",
       "      <td>-853.985397</td>\n",
       "      <td>2163.434411</td>\n",
       "    </tr>\n",
       "    <tr>\n",
       "      <th>3773.5</th>\n",
       "      <td>-1140.609765</td>\n",
       "      <td>-823.268420</td>\n",
       "      <td>2068.666541</td>\n",
       "    </tr>\n",
       "  </tbody>\n",
       "</table>\n",
       "</div>"
      ],
      "text/plain": [
       "          HEADWATER   TAILWATER       GAGE-1\n",
       "time                                        \n",
       "3652.5  -751.175944 -530.017751  1362.956403\n",
       "3683.5  -953.833450 -674.975248  1761.276157\n",
       "3712.5 -1111.264769 -799.212978  2049.386246\n",
       "3743.5 -1180.723380 -853.985397  2163.434411\n",
       "3773.5 -1140.609765 -823.268420  2068.666541"
      ]
     },
     "execution_count": 13,
     "metadata": {},
     "output_type": "execute_result"
    }
   ],
   "source": [
    "df = pd.read_csv(os.path.join(template_ws, \"sfr.csv\"), index_col=0)\n",
    "df.head()"
   ]
  },
  {
   "cell_type": "code",
   "execution_count": 14,
   "metadata": {
    "execution": {
     "iopub.execute_input": "2022-04-11T03:51:37.564789Z",
     "iopub.status.busy": "2022-04-11T03:51:37.564789Z",
     "iopub.status.idle": "2022-04-11T03:51:37.607876Z",
     "shell.execute_reply": "2022-04-11T03:51:37.606879Z"
    }
   },
   "outputs": [],
   "source": [
    "# add the observations to pf\n",
    "sfr_df = pf.add_observations(\"sfr.csv\", # the model output file to read\n",
    "                            insfile=\"sfr.csv.ins\", #optional, the instruction file name\n",
    "                            index_cols=\"time\", #column header to use as index; can also use column number (zero-based) instead of the header name\n",
    "                            use_cols=list(df.columns.values), #names of columns that include observation values; can also use column number (zero-based) instead of the header name\n",
    "                            prefix=\"sfr\") #prefix to all observation names"
   ]
  },
  {
   "cell_type": "markdown",
   "metadata": {},
   "source": [
    "We also want to add observations of particle travel time and status. Unfortuantely the file written by MODPATH7 is not easily injestible by `PstFrom`. So we are going to need to \"manually\" construct an instruction file. We could add that now with the `PstFrom.add_observations_from_ins()` method, but we will wait and  add these after constructing the `Pst` object - soon!"
   ]
  },
  {
   "cell_type": "markdown",
   "metadata": {},
   "source": [
    "### 5. Parameters\n",
    "\n",
    "The `PstFrom.add_parameters()` method reads model input files and adds parameters to the PEST(++) dataset. Parameterisation can be configured in several ways. \n",
    "\n",
    " - model input files can be in array or list format;\n",
    " - parameters can be setup as different \"types\". Each value in model input files can (1) each be a separate parameter (\"grid\" scale parameters), (2) be grouped into \"zones\" or (3) all be treated as a single parameter (\"constant\" type). Alteratvely, (4) parameters can be assigned to pilot points, from which individual parameter values are subsequently interpolated. `PstFrom` adds the relevant pre-processing steps to assign paramter values directly into the \"model run\" script.\n",
    " - parameter values can be setup as \"direct\", \"multiplier\" or \"addend\". This means the \"parameter value\" which PEST(++) sees can be (1) the same value the model sees, (2) a multiplier on the value in the existing/original model input file, or (3) a value which is added to the value in the existing/original model input file. This is very nifty and allows for some pretty advanced parameterization schemes by allowing mixtures of different types of parameters. `PstFrom` is designed to preferentially use parameters setup as multipliers (that is the default parameter type). This let us preserve the existing model inputs and treat them as the mean of the prior parameter distribution. Once again, relevant pre-processing scripts are automatically added to the \"model run\" script (discussed later) so that the multiplicative and additive parameterization process is not something the user has to worry about.\n",
    "\n",
    "\n",
    "#### 5.1. Freyberg Recap\n",
    "\n",
    "As discussed, all model inputs are stored in external files. Some are arrays. Others are lists. Recall that our model has 3 layers. It is transient. Hydraulic properties (Kh, Kv, Ss, Sy) vary in space. Recharge varies over both space and time. We have GHBs, SFR and WEL boundary conditions. GHB parameters are constant over time, but vary spatially. SFR inflow varies over time. Pumping rates of individual wells are uncertain in space and and time.\n",
    "\n",
    "All of these have some degree of spatial and/or temporal correlation.\n",
    "\n",
    "#### 5.2. Geostatistical Structures\n",
    "\n",
    "Parameter correlation plays a role in (1) regularization when giving preference to the emergence of patterns of spatial heterogeneity and (2) when specifying the prior parameter probability distribution (which is what regularization is enforcing!). Since we are all sophisticated and recognize the importance of expressing spatial and temporal uncertainty (e.g. heterogeneity) in the model inputs (and the corresponding spatial correlation in those uncertain inputs), let's use geostatistics to express uncertainty. To do that we need to define \"geostatistical structures\". \n",
    "\n",
    "For the sake of this tutorial, let's assume that heterogeneity in all spatially distributed parameters share the same statistical characteristics. Likewise for temporally varying parameters. We will therefore only  construct two geostatisitcal structures."
   ]
  },
  {
   "cell_type": "code",
   "execution_count": 15,
   "metadata": {
    "execution": {
     "iopub.execute_input": "2022-04-11T03:51:37.621846Z",
     "iopub.status.busy": "2022-04-11T03:51:37.620841Z",
     "iopub.status.idle": "2022-04-11T03:51:37.889665Z",
     "shell.execute_reply": "2022-04-11T03:51:37.888668Z"
    }
   },
   "outputs": [
    {
     "data": {
      "text/plain": [
       "<AxesSubplot:xlabel='distance', ylabel='$\\\\gamma$'>"
      ]
     },
     "execution_count": 15,
     "metadata": {},
     "output_type": "execute_result"
    },
    {
     "data": {
      "image/png": "[encoded data removed]",
      "text/plain": [
       "<Figure size 432x288 with 1 Axes>"
      ]
     },
     "metadata": {
      "needs_background": "light"
     },
     "output_type": "display_data"
    }
   ],
   "source": [
    "# exponential variogram for spatially varying parameters\n",
    "v_space = pyemu.geostats.ExpVario(contribution=1.0, #sill\n",
    "                                    a=1000, # range of correlation; length units of the model. In our case 'meters'\n",
    "                                    anisotropy=1.0, #name says it all\n",
    "                                    bearing=0.0 #angle in degrees East of North corresponding to anisotropy ellipse\n",
    "                                    )\n",
    "\n",
    "# geostatistical structure for spatially varying parameters\n",
    "grid_gs = pyemu.geostats.GeoStruct(variograms=v_space, transform='log') \n",
    "\n",
    "# plot the gs if you like:\n",
    "grid_gs.plot()"
   ]
  },
  {
   "cell_type": "code",
   "execution_count": 16,
   "metadata": {
    "execution": {
     "iopub.execute_input": "2022-04-11T03:51:37.892657Z",
     "iopub.status.busy": "2022-04-11T03:51:37.892657Z",
     "iopub.status.idle": "2022-04-11T03:51:37.904659Z",
     "shell.execute_reply": "2022-04-11T03:51:37.904659Z"
    }
   },
   "outputs": [],
   "source": [
    "# exponential variogram for time varying parameters\n",
    "v_time = pyemu.geostats.ExpVario(contribution=1.0, #sill\n",
    "                                    a=60, # range of correlation; length time units (days)\n",
    "                                    anisotropy=1.0, #do not change for 1-D time\n",
    "                                    bearing=0.0 #do not change for 1-D time\n",
    "                                    )\n",
    "\n",
    "# geostatistical structure for time varying parameters\n",
    "temporal_gs = pyemu.geostats.GeoStruct(variograms=v_time, transform='none') "
   ]
  },
  {
   "cell_type": "markdown",
   "metadata": {},
   "source": [
    "#### 5.3. Add Parameters\n",
    "\n",
    "Let's start by adding parameters of hydraulic properties that vary in space (but not time) and which are housed in array-type files (e.g. Kh, Kv, Ss, Sy). We will start by demonstrating step-by-step for Kh.\n",
    "\n",
    "First, find all the external array files that contain Kh values. In our case, these are the files with \"npf_k_\" in the file name. As you can see below, there is one file for each model layer. "
   ]
  },
  {
   "cell_type": "code",
   "execution_count": 17,
   "metadata": {
    "execution": {
     "iopub.execute_input": "2022-04-11T03:51:37.908648Z",
     "iopub.status.busy": "2022-04-11T03:51:37.907691Z",
     "iopub.status.idle": "2022-04-11T03:51:37.919670Z",
     "shell.execute_reply": "2022-04-11T03:51:37.920616Z"
    }
   },
   "outputs": [
    {
     "name": "stdout",
     "output_type": "stream",
     "text": [
      "['freyberg6.npf_k_layer1.txt', 'freyberg6.npf_k_layer3.txt', 'freyberg6.npf_k_layer2.txt']\n"
     ]
    }
   ],
   "source": [
    "tag = \"npf_k_\"\n",
    "files = [f for f in os.listdir(template_ws) if tag in f.lower() and f.endswith(\".txt\")]\n",
    "print(files)"
   ]
  },
  {
   "cell_type": "markdown",
   "metadata": {},
   "source": [
    "Let's setup multiple spatial scales of parameters for Kh. To do this we will use three of the parameter \"types\" described above. The coarse scale will be a `constant` single value for each array. The medium scale will `pilot points`. The finest scale will use parameters as the `grid` scale (a unique parameter for each model cell!)\n",
    "\n",
    "Each scale of parameters will work with the others as multipliers with the existing Kh arrays. (This all happens at runtime as part of the \"model run\" script.) Think of the scales as dials that PEST(++) can turn to improve the fit. The \"coarse\" scale is one big dial that alows PEST to move everything at once - that is, change the mean of the entire Kh array. The \"medium\" dials are few (but not too many) that allow PEST to adjust broad areas, but not making eveything move. The \"fine\" scales are lots of small dials that allow PEST(++) to have very detailed control, tweaking parameter values within very small areas. \n",
    "\n",
    "However, because we are working with parameter `multipliers`, we will need to specify two sets of parameter bounds: \n",
    " - `upper_bound` and `lower_bound` are the standard control file bounds (the bounds on the parameters that PEST sees), while\n",
    " - `ult_ubound` and `ult_lbound` are bounds that are applied at runtime to the resulting (multiplied out) model input array that MODFLOW reads. \n",
    " \n",
    "Since we are using sets of multipliers, it is important to make sure we keep the resulting model input arrays within the range of realistic values.\n",
    "\n",
    "#### 5.3.1. Array Files\n",
    "\n",
    "We will first demonstrate steb-by-step for `freyberg6.npf_k_layer1.txt`. We will start with grid scale parameters. These are multipliers assigned to each individual value in the array.\n",
    "\n",
    "We start by getting the idomain array. As our model has inactive cells, this helps us avoid adding unncessary parameters. It is also required later when generating pilot points."
   ]
  },
  {
   "cell_type": "code",
   "execution_count": 18,
   "metadata": {
    "execution": {
     "iopub.execute_input": "2022-04-11T03:51:37.923642Z",
     "iopub.status.busy": "2022-04-11T03:51:37.922646Z",
     "iopub.status.idle": "2022-04-11T03:51:37.934855Z",
     "shell.execute_reply": "2022-04-11T03:51:37.935852Z"
    }
   },
   "outputs": [
    {
     "data": {
      "text/plain": [
       "<matplotlib.image.AxesImage at 0x7f9ad1599250>"
      ]
     },
     "execution_count": 18,
     "metadata": {},
     "output_type": "execute_result"
    },
    {
     "data": {
      "image/png": "[encoded data removed]",
      "text/plain": [
       "<Figure size 432x288 with 1 Axes>"
      ]
     },
     "metadata": {
      "needs_background": "light"
     },
     "output_type": "display_data"
    }
   ],
   "source": [
    "# as IDOMIAN is the same in all layers, we can use any layer\n",
    "ib = gwf.dis.idomain.get_data(layer=0)\n",
    "plt.imshow(ib)"
   ]
  },
  {
   "cell_type": "code",
   "execution_count": 19,
   "metadata": {
    "execution": {
     "iopub.execute_input": "2022-04-11T03:51:37.939841Z",
     "iopub.status.busy": "2022-04-11T03:51:37.939841Z",
     "iopub.status.idle": "2022-04-11T03:51:37.983702Z",
     "shell.execute_reply": "2022-04-11T03:51:37.982704Z"
    }
   },
   "outputs": [],
   "source": [
    "f = 'freyberg6.npf_k_layer1.txt'\n",
    "\n",
    "# grid (fine) scale parameters\n",
    "df_gr = pf.add_parameters(f,\n",
    "                zone_array=ib, #as we have inactie model cells, we can avoid assigning these as parameters\n",
    "                par_type=\"grid\", #specify the type, these will be unique parameters for each cell\n",
    "                geostruct=grid_gs, # the gestatisical structure for spatial correlation \n",
    "                par_name_base=f.split('.')[1].replace(\"_\",\"\")+\"gr\", #specify a parameter name base that allows us to easily identify the filename and parameter type. \"_gr\" for \"grid\", and so forth.\n",
    "                pargp=f.split('.')[1].replace(\"_\",\"\")+\"gr\", #likewise for the parameter group name\n",
    "                lower_bound=0.2, upper_bound=5.0, #parameter lower and upper bound\n",
    "                ult_ubound=100, ult_lbound=0.01 # The ultimate bounds for multiplied model input values. Here we are stating that, after accounting for all multipliers, Kh cannot exceed these values. Very important with multipliers\n",
    "                )"
   ]
  },
  {
   "cell_type": "markdown",
   "metadata": {},
   "source": [
    "As when adding observations,  `pf.add_parameters()` returns a dataframe. Take a look. You may recognize alot of the information that appears in a PEST `*parameter data` section. All of this is still only housed in memory for now. We will write the PEST control file later on."
   ]
  },
  {
   "cell_type": "code",
   "execution_count": 20,
   "metadata": {
    "execution": {
     "iopub.execute_input": "2022-04-11T03:51:37.998663Z",
     "iopub.status.busy": "2022-04-11T03:51:37.998663Z",
     "iopub.status.idle": "2022-04-11T03:51:38.014149Z",
     "shell.execute_reply": "2022-04-11T03:51:38.012925Z"
    }
   },
   "outputs": [
    {
     "data": {
      "text/html": [
       "<div>\n",
       "<style scoped>\n",
       "    .dataframe tbody tr th:only-of-type {\n",
       "        vertical-align: middle;\n",
       "    }\n",
       "\n",
       "    .dataframe tbody tr th {\n",
       "        vertical-align: top;\n",
       "    }\n",
       "\n",
       "    .dataframe thead th {\n",
       "        text-align: right;\n",
       "    }\n",
       "</style>\n",
       "<table border=\"1\" class=\"dataframe\">\n",
       "  <thead>\n",
       "    <tr style=\"text-align: right;\">\n",
       "      <th></th>\n",
       "      <th>parnme</th>\n",
       "      <th>parval1</th>\n",
       "      <th>i</th>\n",
       "      <th>j</th>\n",
       "      <th>x</th>\n",
       "      <th>y</th>\n",
       "      <th>pargp</th>\n",
       "      <th>tpl_filename</th>\n",
       "      <th>input_filename</th>\n",
       "      <th>partype</th>\n",
       "      <th>partrans</th>\n",
       "      <th>parubnd</th>\n",
       "      <th>parlbnd</th>\n",
       "      <th>dercom</th>\n",
       "      <th>offset</th>\n",
       "      <th>parchglim</th>\n",
       "      <th>scale</th>\n",
       "    </tr>\n",
       "  </thead>\n",
       "  <tbody>\n",
       "    <tr>\n",
       "      <th>pname:npfklayer1gr_inst:0_ptype:gr_pstyle:m_i:0_j:0_x:125.00_y:9875.00_zone:1</th>\n",
       "      <td>pname:npfklayer1gr_inst:0_ptype:gr_pstyle:m_i:0_j:0_x:125.00_y:9875.00_zone:1</td>\n",
       "      <td>1.0</td>\n",
       "      <td>0</td>\n",
       "      <td>0</td>\n",
       "      <td>125.0</td>\n",
       "      <td>9875.0</td>\n",
       "      <td>npfklayer1gr</td>\n",
       "      <td>freyberg6_template/npfklayer1gr_inst0_grid.csv.tpl</td>\n",
       "      <td>freyberg6_template/mult/npfklayer1gr_inst0_grid.csv</td>\n",
       "      <td>grid</td>\n",
       "      <td>log</td>\n",
       "      <td>5.0</td>\n",
       "      <td>0.2</td>\n",
       "      <td>1</td>\n",
       "      <td>0.0</td>\n",
       "      <td>factor</td>\n",
       "      <td>1.0</td>\n",
       "    </tr>\n",
       "    <tr>\n",
       "      <th>pname:npfklayer1gr_inst:0_ptype:gr_pstyle:m_i:0_j:1_x:375.00_y:9875.00_zone:1</th>\n",
       "      <td>pname:npfklayer1gr_inst:0_ptype:gr_pstyle:m_i:0_j:1_x:375.00_y:9875.00_zone:1</td>\n",
       "      <td>1.0</td>\n",
       "      <td>0</td>\n",
       "      <td>1</td>\n",
       "      <td>375.0</td>\n",
       "      <td>9875.0</td>\n",
       "      <td>npfklayer1gr</td>\n",
       "      <td>freyberg6_template/npfklayer1gr_inst0_grid.csv.tpl</td>\n",
       "      <td>freyberg6_template/mult/npfklayer1gr_inst0_grid.csv</td>\n",
       "      <td>grid</td>\n",
       "      <td>log</td>\n",
       "      <td>5.0</td>\n",
       "      <td>0.2</td>\n",
       "      <td>1</td>\n",
       "      <td>0.0</td>\n",
       "      <td>factor</td>\n",
       "      <td>1.0</td>\n",
       "    </tr>\n",
       "    <tr>\n",
       "      <th>pname:npfklayer1gr_inst:0_ptype:gr_pstyle:m_i:0_j:2_x:625.00_y:9875.00_zone:1</th>\n",
       "      <td>pname:npfklayer1gr_inst:0_ptype:gr_pstyle:m_i:0_j:2_x:625.00_y:9875.00_zone:1</td>\n",
       "      <td>1.0</td>\n",
       "      <td>0</td>\n",
       "      <td>2</td>\n",
       "      <td>625.0</td>\n",
       "      <td>9875.0</td>\n",
       "      <td>npfklayer1gr</td>\n",
       "      <td>freyberg6_template/npfklayer1gr_inst0_grid.csv.tpl</td>\n",
       "      <td>freyberg6_template/mult/npfklayer1gr_inst0_grid.csv</td>\n",
       "      <td>grid</td>\n",
       "      <td>log</td>\n",
       "      <td>5.0</td>\n",
       "      <td>0.2</td>\n",
       "      <td>1</td>\n",
       "      <td>0.0</td>\n",
       "      <td>factor</td>\n",
       "      <td>1.0</td>\n",
       "    </tr>\n",
       "    <tr>\n",
       "      <th>pname:npfklayer1gr_inst:0_ptype:gr_pstyle:m_i:0_j:3_x:875.00_y:9875.00_zone:1</th>\n",
       "      <td>pname:npfklayer1gr_inst:0_ptype:gr_pstyle:m_i:0_j:3_x:875.00_y:9875.00_zone:1</td>\n",
       "      <td>1.0</td>\n",
       "      <td>0</td>\n",
       "      <td>3</td>\n",
       "      <td>875.0</td>\n",
       "      <td>9875.0</td>\n",
       "      <td>npfklayer1gr</td>\n",
       "      <td>freyberg6_template/npfklayer1gr_inst0_grid.csv.tpl</td>\n",
       "      <td>freyberg6_template/mult/npfklayer1gr_inst0_grid.csv</td>\n",
       "      <td>grid</td>\n",
       "      <td>log</td>\n",
       "      <td>5.0</td>\n",
       "      <td>0.2</td>\n",
       "      <td>1</td>\n",
       "      <td>0.0</td>\n",
       "      <td>factor</td>\n",
       "      <td>1.0</td>\n",
       "    </tr>\n",
       "    <tr>\n",
       "      <th>pname:npfklayer1gr_inst:0_ptype:gr_pstyle:m_i:0_j:4_x:1125.00_y:9875.00_zone:1</th>\n",
       "      <td>pname:npfklayer1gr_inst:0_ptype:gr_pstyle:m_i:0_j:4_x:1125.00_y:9875.00_zone:1</td>\n",
       "      <td>1.0</td>\n",
       "      <td>0</td>\n",
       "      <td>4</td>\n",
       "      <td>1125.0</td>\n",
       "      <td>9875.0</td>\n",
       "      <td>npfklayer1gr</td>\n",
       "      <td>freyberg6_template/npfklayer1gr_inst0_grid.csv.tpl</td>\n",
       "      <td>freyberg6_template/mult/npfklayer1gr_inst0_grid.csv</td>\n",
       "      <td>grid</td>\n",
       "      <td>log</td>\n",
       "      <td>5.0</td>\n",
       "      <td>0.2</td>\n",
       "      <td>1</td>\n",
       "      <td>0.0</td>\n",
       "      <td>factor</td>\n",
       "      <td>1.0</td>\n",
       "    </tr>\n",
       "  </tbody>\n",
       "</table>\n",
       "</div>"
      ],
      "text/plain": [
       "                                                                                                                                                        parnme  \\\n",
       "pname:npfklayer1gr_inst:0_ptype:gr_pstyle:m_i:0_j:0_x:125.00_y:9875.00_zone:1    pname:npfklayer1gr_inst:0_ptype:gr_pstyle:m_i:0_j:0_x:125.00_y:9875.00_zone:1   \n",
       "pname:npfklayer1gr_inst:0_ptype:gr_pstyle:m_i:0_j:1_x:375.00_y:9875.00_zone:1    pname:npfklayer1gr_inst:0_ptype:gr_pstyle:m_i:0_j:1_x:375.00_y:9875.00_zone:1   \n",
       "pname:npfklayer1gr_inst:0_ptype:gr_pstyle:m_i:0_j:2_x:625.00_y:9875.00_zone:1    pname:npfklayer1gr_inst:0_ptype:gr_pstyle:m_i:0_j:2_x:625.00_y:9875.00_zone:1   \n",
       "pname:npfklayer1gr_inst:0_ptype:gr_pstyle:m_i:0_j:3_x:875.00_y:9875.00_zone:1    pname:npfklayer1gr_inst:0_ptype:gr_pstyle:m_i:0_j:3_x:875.00_y:9875.00_zone:1   \n",
       "pname:npfklayer1gr_inst:0_ptype:gr_pstyle:m_i:0_j:4_x:1125.00_y:9875.00_zone:1  pname:npfklayer1gr_inst:0_ptype:gr_pstyle:m_i:0_j:4_x:1125.00_y:9875.00_zone:1   \n",
       "\n",
       "                                                                                parval1  \\\n",
       "pname:npfklayer1gr_inst:0_ptype:gr_pstyle:m_i:0_j:0_x:125.00_y:9875.00_zone:1       1.0   \n",
       "pname:npfklayer1gr_inst:0_ptype:gr_pstyle:m_i:0_j:1_x:375.00_y:9875.00_zone:1       1.0   \n",
       "pname:npfklayer1gr_inst:0_ptype:gr_pstyle:m_i:0_j:2_x:625.00_y:9875.00_zone:1       1.0   \n",
       "pname:npfklayer1gr_inst:0_ptype:gr_pstyle:m_i:0_j:3_x:875.00_y:9875.00_zone:1       1.0   \n",
       "pname:npfklayer1gr_inst:0_ptype:gr_pstyle:m_i:0_j:4_x:1125.00_y:9875.00_zone:1      1.0   \n",
       "\n",
       "                                                                                i  \\\n",
       "pname:npfklayer1gr_inst:0_ptype:gr_pstyle:m_i:0_j:0_x:125.00_y:9875.00_zone:1   0   \n",
       "pname:npfklayer1gr_inst:0_ptype:gr_pstyle:m_i:0_j:1_x:375.00_y:9875.00_zone:1   0   \n",
       "pname:npfklayer1gr_inst:0_ptype:gr_pstyle:m_i:0_j:2_x:625.00_y:9875.00_zone:1   0   \n",
       "pname:npfklayer1gr_inst:0_ptype:gr_pstyle:m_i:0_j:3_x:875.00_y:9875.00_zone:1   0   \n",
       "pname:npfklayer1gr_inst:0_ptype:gr_pstyle:m_i:0_j:4_x:1125.00_y:9875.00_zone:1  0   \n",
       "\n",
       "                                                                                j  \\\n",
       "pname:npfklayer1gr_inst:0_ptype:gr_pstyle:m_i:0_j:0_x:125.00_y:9875.00_zone:1   0   \n",
       "pname:npfklayer1gr_inst:0_ptype:gr_pstyle:m_i:0_j:1_x:375.00_y:9875.00_zone:1   1   \n",
       "pname:npfklayer1gr_inst:0_ptype:gr_pstyle:m_i:0_j:2_x:625.00_y:9875.00_zone:1   2   \n",
       "pname:npfklayer1gr_inst:0_ptype:gr_pstyle:m_i:0_j:3_x:875.00_y:9875.00_zone:1   3   \n",
       "pname:npfklayer1gr_inst:0_ptype:gr_pstyle:m_i:0_j:4_x:1125.00_y:9875.00_zone:1  4   \n",
       "\n",
       "                                                                                     x  \\\n",
       "pname:npfklayer1gr_inst:0_ptype:gr_pstyle:m_i:0_j:0_x:125.00_y:9875.00_zone:1    125.0   \n",
       "pname:npfklayer1gr_inst:0_ptype:gr_pstyle:m_i:0_j:1_x:375.00_y:9875.00_zone:1    375.0   \n",
       "pname:npfklayer1gr_inst:0_ptype:gr_pstyle:m_i:0_j:2_x:625.00_y:9875.00_zone:1    625.0   \n",
       "pname:npfklayer1gr_inst:0_ptype:gr_pstyle:m_i:0_j:3_x:875.00_y:9875.00_zone:1    875.0   \n",
       "pname:npfklayer1gr_inst:0_ptype:gr_pstyle:m_i:0_j:4_x:1125.00_y:9875.00_zone:1  1125.0   \n",
       "\n",
       "                                                                                     y  \\\n",
       "pname:npfklayer1gr_inst:0_ptype:gr_pstyle:m_i:0_j:0_x:125.00_y:9875.00_zone:1   9875.0   \n",
       "pname:npfklayer1gr_inst:0_ptype:gr_pstyle:m_i:0_j:1_x:375.00_y:9875.00_zone:1   9875.0   \n",
       "pname:npfklayer1gr_inst:0_ptype:gr_pstyle:m_i:0_j:2_x:625.00_y:9875.00_zone:1   9875.0   \n",
       "pname:npfklayer1gr_inst:0_ptype:gr_pstyle:m_i:0_j:3_x:875.00_y:9875.00_zone:1   9875.0   \n",
       "pname:npfklayer1gr_inst:0_ptype:gr_pstyle:m_i:0_j:4_x:1125.00_y:9875.00_zone:1  9875.0   \n",
       "\n",
       "                                                                                       pargp  \\\n",
       "pname:npfklayer1gr_inst:0_ptype:gr_pstyle:m_i:0_j:0_x:125.00_y:9875.00_zone:1   npfklayer1gr   \n",
       "pname:npfklayer1gr_inst:0_ptype:gr_pstyle:m_i:0_j:1_x:375.00_y:9875.00_zone:1   npfklayer1gr   \n",
       "pname:npfklayer1gr_inst:0_ptype:gr_pstyle:m_i:0_j:2_x:625.00_y:9875.00_zone:1   npfklayer1gr   \n",
       "pname:npfklayer1gr_inst:0_ptype:gr_pstyle:m_i:0_j:3_x:875.00_y:9875.00_zone:1   npfklayer1gr   \n",
       "pname:npfklayer1gr_inst:0_ptype:gr_pstyle:m_i:0_j:4_x:1125.00_y:9875.00_zone:1  npfklayer1gr   \n",
       "\n",
       "                                                                                                                      tpl_filename  \\\n",
       "pname:npfklayer1gr_inst:0_ptype:gr_pstyle:m_i:0_j:0_x:125.00_y:9875.00_zone:1   freyberg6_template/npfklayer1gr_inst0_grid.csv.tpl   \n",
       "pname:npfklayer1gr_inst:0_ptype:gr_pstyle:m_i:0_j:1_x:375.00_y:9875.00_zone:1   freyberg6_template/npfklayer1gr_inst0_grid.csv.tpl   \n",
       "pname:npfklayer1gr_inst:0_ptype:gr_pstyle:m_i:0_j:2_x:625.00_y:9875.00_zone:1   freyberg6_template/npfklayer1gr_inst0_grid.csv.tpl   \n",
       "pname:npfklayer1gr_inst:0_ptype:gr_pstyle:m_i:0_j:3_x:875.00_y:9875.00_zone:1   freyberg6_template/npfklayer1gr_inst0_grid.csv.tpl   \n",
       "pname:npfklayer1gr_inst:0_ptype:gr_pstyle:m_i:0_j:4_x:1125.00_y:9875.00_zone:1  freyberg6_template/npfklayer1gr_inst0_grid.csv.tpl   \n",
       "\n",
       "                                                                                                                     input_filename  \\\n",
       "pname:npfklayer1gr_inst:0_ptype:gr_pstyle:m_i:0_j:0_x:125.00_y:9875.00_zone:1   freyberg6_template/mult/npfklayer1gr_inst0_grid.csv   \n",
       "pname:npfklayer1gr_inst:0_ptype:gr_pstyle:m_i:0_j:1_x:375.00_y:9875.00_zone:1   freyberg6_template/mult/npfklayer1gr_inst0_grid.csv   \n",
       "pname:npfklayer1gr_inst:0_ptype:gr_pstyle:m_i:0_j:2_x:625.00_y:9875.00_zone:1   freyberg6_template/mult/npfklayer1gr_inst0_grid.csv   \n",
       "pname:npfklayer1gr_inst:0_ptype:gr_pstyle:m_i:0_j:3_x:875.00_y:9875.00_zone:1   freyberg6_template/mult/npfklayer1gr_inst0_grid.csv   \n",
       "pname:npfklayer1gr_inst:0_ptype:gr_pstyle:m_i:0_j:4_x:1125.00_y:9875.00_zone:1  freyberg6_template/mult/npfklayer1gr_inst0_grid.csv   \n",
       "\n",
       "                                                                               partype  \\\n",
       "pname:npfklayer1gr_inst:0_ptype:gr_pstyle:m_i:0_j:0_x:125.00_y:9875.00_zone:1     grid   \n",
       "pname:npfklayer1gr_inst:0_ptype:gr_pstyle:m_i:0_j:1_x:375.00_y:9875.00_zone:1     grid   \n",
       "pname:npfklayer1gr_inst:0_ptype:gr_pstyle:m_i:0_j:2_x:625.00_y:9875.00_zone:1     grid   \n",
       "pname:npfklayer1gr_inst:0_ptype:gr_pstyle:m_i:0_j:3_x:875.00_y:9875.00_zone:1     grid   \n",
       "pname:npfklayer1gr_inst:0_ptype:gr_pstyle:m_i:0_j:4_x:1125.00_y:9875.00_zone:1    grid   \n",
       "\n",
       "                                                                               partrans  \\\n",
       "pname:npfklayer1gr_inst:0_ptype:gr_pstyle:m_i:0_j:0_x:125.00_y:9875.00_zone:1       log   \n",
       "pname:npfklayer1gr_inst:0_ptype:gr_pstyle:m_i:0_j:1_x:375.00_y:9875.00_zone:1       log   \n",
       "pname:npfklayer1gr_inst:0_ptype:gr_pstyle:m_i:0_j:2_x:625.00_y:9875.00_zone:1       log   \n",
       "pname:npfklayer1gr_inst:0_ptype:gr_pstyle:m_i:0_j:3_x:875.00_y:9875.00_zone:1       log   \n",
       "pname:npfklayer1gr_inst:0_ptype:gr_pstyle:m_i:0_j:4_x:1125.00_y:9875.00_zone:1      log   \n",
       "\n",
       "                                                                                parubnd  \\\n",
       "pname:npfklayer1gr_inst:0_ptype:gr_pstyle:m_i:0_j:0_x:125.00_y:9875.00_zone:1       5.0   \n",
       "pname:npfklayer1gr_inst:0_ptype:gr_pstyle:m_i:0_j:1_x:375.00_y:9875.00_zone:1       5.0   \n",
       "pname:npfklayer1gr_inst:0_ptype:gr_pstyle:m_i:0_j:2_x:625.00_y:9875.00_zone:1       5.0   \n",
       "pname:npfklayer1gr_inst:0_ptype:gr_pstyle:m_i:0_j:3_x:875.00_y:9875.00_zone:1       5.0   \n",
       "pname:npfklayer1gr_inst:0_ptype:gr_pstyle:m_i:0_j:4_x:1125.00_y:9875.00_zone:1      5.0   \n",
       "\n",
       "                                                                                parlbnd  \\\n",
       "pname:npfklayer1gr_inst:0_ptype:gr_pstyle:m_i:0_j:0_x:125.00_y:9875.00_zone:1       0.2   \n",
       "pname:npfklayer1gr_inst:0_ptype:gr_pstyle:m_i:0_j:1_x:375.00_y:9875.00_zone:1       0.2   \n",
       "pname:npfklayer1gr_inst:0_ptype:gr_pstyle:m_i:0_j:2_x:625.00_y:9875.00_zone:1       0.2   \n",
       "pname:npfklayer1gr_inst:0_ptype:gr_pstyle:m_i:0_j:3_x:875.00_y:9875.00_zone:1       0.2   \n",
       "pname:npfklayer1gr_inst:0_ptype:gr_pstyle:m_i:0_j:4_x:1125.00_y:9875.00_zone:1      0.2   \n",
       "\n",
       "                                                                                dercom  \\\n",
       "pname:npfklayer1gr_inst:0_ptype:gr_pstyle:m_i:0_j:0_x:125.00_y:9875.00_zone:1        1   \n",
       "pname:npfklayer1gr_inst:0_ptype:gr_pstyle:m_i:0_j:1_x:375.00_y:9875.00_zone:1        1   \n",
       "pname:npfklayer1gr_inst:0_ptype:gr_pstyle:m_i:0_j:2_x:625.00_y:9875.00_zone:1        1   \n",
       "pname:npfklayer1gr_inst:0_ptype:gr_pstyle:m_i:0_j:3_x:875.00_y:9875.00_zone:1        1   \n",
       "pname:npfklayer1gr_inst:0_ptype:gr_pstyle:m_i:0_j:4_x:1125.00_y:9875.00_zone:1       1   \n",
       "\n",
       "                                                                                offset  \\\n",
       "pname:npfklayer1gr_inst:0_ptype:gr_pstyle:m_i:0_j:0_x:125.00_y:9875.00_zone:1      0.0   \n",
       "pname:npfklayer1gr_inst:0_ptype:gr_pstyle:m_i:0_j:1_x:375.00_y:9875.00_zone:1      0.0   \n",
       "pname:npfklayer1gr_inst:0_ptype:gr_pstyle:m_i:0_j:2_x:625.00_y:9875.00_zone:1      0.0   \n",
       "pname:npfklayer1gr_inst:0_ptype:gr_pstyle:m_i:0_j:3_x:875.00_y:9875.00_zone:1      0.0   \n",
       "pname:npfklayer1gr_inst:0_ptype:gr_pstyle:m_i:0_j:4_x:1125.00_y:9875.00_zone:1     0.0   \n",
       "\n",
       "                                                                               parchglim  \\\n",
       "pname:npfklayer1gr_inst:0_ptype:gr_pstyle:m_i:0_j:0_x:125.00_y:9875.00_zone:1     factor   \n",
       "pname:npfklayer1gr_inst:0_ptype:gr_pstyle:m_i:0_j:1_x:375.00_y:9875.00_zone:1     factor   \n",
       "pname:npfklayer1gr_inst:0_ptype:gr_pstyle:m_i:0_j:2_x:625.00_y:9875.00_zone:1     factor   \n",
       "pname:npfklayer1gr_inst:0_ptype:gr_pstyle:m_i:0_j:3_x:875.00_y:9875.00_zone:1     factor   \n",
       "pname:npfklayer1gr_inst:0_ptype:gr_pstyle:m_i:0_j:4_x:1125.00_y:9875.00_zone:1    factor   \n",
       "\n",
       "                                                                                scale  \n",
       "pname:npfklayer1gr_inst:0_ptype:gr_pstyle:m_i:0_j:0_x:125.00_y:9875.00_zone:1     1.0  \n",
       "pname:npfklayer1gr_inst:0_ptype:gr_pstyle:m_i:0_j:1_x:375.00_y:9875.00_zone:1     1.0  \n",
       "pname:npfklayer1gr_inst:0_ptype:gr_pstyle:m_i:0_j:2_x:625.00_y:9875.00_zone:1     1.0  \n",
       "pname:npfklayer1gr_inst:0_ptype:gr_pstyle:m_i:0_j:3_x:875.00_y:9875.00_zone:1     1.0  \n",
       "pname:npfklayer1gr_inst:0_ptype:gr_pstyle:m_i:0_j:4_x:1125.00_y:9875.00_zone:1    1.0  "
      ]
     },
     "execution_count": 20,
     "metadata": {},
     "output_type": "execute_result"
    }
   ],
   "source": [
    "df_gr.head()"
   ]
  },
  {
   "cell_type": "markdown",
   "metadata": {},
   "source": [
    "This `add_parameters()` call also wrote a template file that PEST(++) will use to populate the multiplier array at runtime:"
   ]
  },
  {
   "cell_type": "code",
   "execution_count": 21,
   "metadata": {},
   "outputs": [
    {
     "data": {
      "text/plain": [
       "['npfklayer1gr_inst0_grid.csv.tpl']"
      ]
     },
     "execution_count": 21,
     "metadata": {},
     "output_type": "execute_result"
    }
   ],
   "source": [
    "[f for f in os.listdir(template_ws) if f.endswith(\".tpl\")]"
   ]
  },
  {
   "cell_type": "markdown",
   "metadata": {},
   "source": [
    "Remember!  no pest control file has been made yet. `PstFrom` is simply preparing to make a control file later..."
   ]
  },
  {
   "cell_type": "markdown",
   "metadata": {},
   "source": [
    "Now, we add pilot point (medium scale) multiplier parameters to the same model input file. These multipliers are assigned to pilot points, which are subsequently interpolated to values in the array.\n",
    "\n",
    "You can add pilot points in two ways:\n",
    "\n",
    "1. `PstFrom` can generate them for you on a regular grid or \n",
    "2. you can supply `PstFrom` with existing pilot point location information in the form of a dataframe or a point-coverage shapefile. \n",
    "\n",
    "When you change `par_type` to \"pilotpoints\", by default, a regular grid of pilot points is setup using a default `pp_space` value of 10 (which is every 10th row and column). You can chnge this spacing by passing a integer to `pp_space` (as demonstrated below). \n",
    "\n",
    "Alternatively you can specify a filename or dataframe with pilot point locations. If you supply `pp_space` as a `str` it is assumed to be a filename. The extension is the guide: \".csv\" for dataframe, \".shp\" for shapefile (point-type). Anything else and the file is assumed to be a pilot points file type. The dataframe (or .csv file) must have \"name\", \"x\", and \"y\" as columns - it can have more, but must have those. "
   ]
  },
  {
   "cell_type": "code",
   "execution_count": 22,
   "metadata": {
    "execution": {
     "iopub.execute_input": "2022-04-11T03:51:38.017912Z",
     "iopub.status.busy": "2022-04-11T03:51:38.017912Z",
     "iopub.status.idle": "2022-04-11T03:51:54.515499Z",
     "shell.execute_reply": "2022-04-11T03:51:54.515499Z"
    }
   },
   "outputs": [
    {
     "name": "stdout",
     "output_type": "stream",
     "text": [
      "starting interp point loop for 706 points\n",
      "starting 0\n",
      "starting 1\n",
      "starting 2\n",
      "starting 3\n",
      "starting 4\n",
      "starting 5\n",
      "starting 6\n",
      "starting 7\n",
      "starting 8\n",
      "starting 9\n",
      "took 2.359321 seconds\n"
     ]
    }
   ],
   "source": [
    "# pilot point (medium) scale parameters\n",
    "df_pp = pf.add_parameters(f,\n",
    "                    zone_array=ib,\n",
    "                    par_type=\"pilotpoints\",\n",
    "                    geostruct=grid_gs,\n",
    "                    par_name_base=f.split('.')[1].replace(\"_\",\"\")+\"pp\",\n",
    "                    pargp=f.split('.')[1].replace(\"_\",\"\")+\"pp\",\n",
    "                    lower_bound=0.2,upper_bound=5.0,\n",
    "                    ult_ubound=100, ult_lbound=0.01,\n",
    "                    pp_space=4) # `PstFrom` will generate a unifrom grid of pilot points in every 4th row and column"
   ]
  },
  {
   "cell_type": "code",
   "execution_count": 23,
   "metadata": {},
   "outputs": [
    {
     "data": {
      "text/plain": [
       "<matplotlib.collections.PathCollection at 0x7f9ad17441f0>"
      ]
     },
     "execution_count": 23,
     "metadata": {},
     "output_type": "execute_result"
    },
    {
     "data": {
      "image/png": "[encoded data removed]",
      "text/plain": [
       "<Figure size 288x432 with 1 Axes>"
      ]
     },
     "metadata": {
      "needs_background": "light"
     },
     "output_type": "display_data"
    }
   ],
   "source": [
    "fig,ax = plt.subplots(1,1,figsize=(4,6))\n",
    "ax.set_aspect(\"equal\")\n",
    "ax.pcolormesh(sr.xcentergrid, sr.ycentergrid,ib)\n",
    "ax.scatter(df_pp.x,df_pp.y)"
   ]
  },
  {
   "cell_type": "markdown",
   "metadata": {},
   "source": [
    "Lastly, add the constant (coarse) parameter multiplier. This is a single multiplier value applied to all values in the array. "
   ]
  },
  {
   "cell_type": "code",
   "execution_count": 24,
   "metadata": {
    "execution": {
     "iopub.execute_input": "2022-04-11T03:51:54.520486Z",
     "iopub.status.busy": "2022-04-11T03:51:54.520486Z",
     "iopub.status.idle": "2022-04-11T03:51:54.549053Z",
     "shell.execute_reply": "2022-04-11T03:51:54.548419Z"
    }
   },
   "outputs": [],
   "source": [
    "# constant (coarse) scale parameters\n",
    "df_cst = pf.add_parameters(f,\n",
    "                    zone_array=ib,\n",
    "                    par_type=\"constant\",\n",
    "                    geostruct=grid_gs,\n",
    "                    par_name_base=f.split('.')[1].replace(\"_\",\"\")+\"cn\",\n",
    "                    pargp=f.split('.')[1].replace(\"_\",\"\")+\"cn\",\n",
    "                    lower_bound=0.2,upper_bound=5.0,\n",
    "                    ult_ubound=100, ult_lbound=0.01)"
   ]
  },
  {
   "cell_type": "markdown",
   "metadata": {},
   "source": [
    "Now we see three template files have been created:"
   ]
  },
  {
   "cell_type": "code",
   "execution_count": 25,
   "metadata": {},
   "outputs": [
    {
     "data": {
      "text/plain": [
       "['npfklayer1pp_inst0pp.dat.tpl',\n",
       " 'npfklayer1cn_inst0_constant.csv.tpl',\n",
       " 'npfklayer1gr_inst0_grid.csv.tpl']"
      ]
     },
     "execution_count": 25,
     "metadata": {},
     "output_type": "execute_result"
    }
   ],
   "source": [
    "[f for f in os.listdir(template_ws) if f.endswith(\".tpl\")]"
   ]
  },
  {
   "cell_type": "markdown",
   "metadata": {},
   "source": [
    "Feel free to navigate to the `template_ws` and inspect these files."
   ]
  },
  {
   "cell_type": "markdown",
   "metadata": {},
   "source": [
    "Let's do that for Kh in the other layers. We are going to be doing this a few times, so lets write a function."
   ]
  },
  {
   "cell_type": "code",
   "execution_count": 26,
   "metadata": {
    "execution": {
     "iopub.execute_input": "2022-04-11T03:51:54.559058Z",
     "iopub.status.busy": "2022-04-11T03:51:54.558032Z",
     "iopub.status.idle": "2022-04-11T03:51:54.563047Z",
     "shell.execute_reply": "2022-04-11T03:51:54.562053Z"
    }
   },
   "outputs": [],
   "source": [
    "def add_mult_pars(f, lb=0.2, ub=5.0, ulb=0.01, uub=100, add_coarse=True):\n",
    "    if isinstance(f,str):\n",
    "        base = f.split(\".\")[1].replace(\"_\",\"\")\n",
    "    else:\n",
    "        base = f[0].split(\".\")[1]\n",
    "    # grid (fine) scale parameters\n",
    "    pf.add_parameters(f,\n",
    "                    zone_array=ib,\n",
    "                    par_type=\"grid\", #specify the type, these will be unique parameters for each cell\n",
    "                    geostruct=grid_gs, # the gestatisical structure for spatial correlation \n",
    "                    par_name_base=base+\"gr\", #specify a parameter name base that allows us to easily identify the filename and parameter type. \"_gr\" for \"grid\", and so forth.\n",
    "                    pargp=base+\"gr\", #likewise for the parameter group name\n",
    "                    lower_bound=lb, upper_bound=ub, #parameter lower and upper bound\n",
    "                    ult_ubound=uub, ult_lbound=ulb # The ultimate bounds for multiplied model input values. Here we are stating that, after accounting for all multipliers, Kh cannot exceed these values. Very important with multipliers\n",
    "                    )\n",
    "                    \n",
    "    # pilot point (medium) scale parameters\n",
    "    pf.add_parameters(f,\n",
    "                        zone_array=ib,\n",
    "                        par_type=\"pilotpoints\",\n",
    "                        geostruct=grid_gs,\n",
    "                        par_name_base=base+\"pp\",\n",
    "                        pargp=base+\"pp\",\n",
    "                        lower_bound=lb, upper_bound=ub,\n",
    "                        ult_ubound=uub, ult_lbound=ulb,\n",
    "                        pp_space=4) # `PstFrom` will generate a unifrom grid of pilot points in every 4th row and column\n",
    "    if add_coarse==True:\n",
    "        # constant (coarse) scale parameters\n",
    "        pf.add_parameters(f,\n",
    "                            zone_array=ib,\n",
    "                            par_type=\"constant\",\n",
    "                            geostruct=grid_gs,\n",
    "                            par_name_base=base+\"cn\",\n",
    "                            pargp=base+\"cn\",\n",
    "                            lower_bound=lb, upper_bound=ub,\n",
    "                            ult_ubound=uub, ult_lbound=ulb)\n",
    "    return"
   ]
  },
  {
   "cell_type": "markdown",
   "metadata": {},
   "source": [
    "A reminder of which files are listed in `files`:"
   ]
  },
  {
   "cell_type": "code",
   "execution_count": 27,
   "metadata": {},
   "outputs": [
    {
     "data": {
      "text/plain": [
       "['freyberg6.npf_k_layer1.txt',\n",
       " 'freyberg6.npf_k_layer3.txt',\n",
       " 'freyberg6.npf_k_layer2.txt']"
      ]
     },
     "execution_count": 27,
     "metadata": {},
     "output_type": "execute_result"
    }
   ],
   "source": [
    "files"
   ]
  },
  {
   "cell_type": "markdown",
   "metadata": {},
   "source": [
    "Now let's apply our function to the last two:"
   ]
  },
  {
   "cell_type": "code",
   "execution_count": 28,
   "metadata": {
    "execution": {
     "iopub.execute_input": "2022-04-11T03:51:54.567003Z",
     "iopub.status.busy": "2022-04-11T03:51:54.566040Z",
     "iopub.status.idle": "2022-04-11T03:51:54.862241Z",
     "shell.execute_reply": "2022-04-11T03:51:54.861243Z"
    }
   },
   "outputs": [],
   "source": [
    "for f in files[1:]:\n",
    "    add_mult_pars(f, lb=0.2, ub=5.0, ulb=0.01, uub=100)"
   ]
  },
  {
   "cell_type": "markdown",
   "metadata": {},
   "source": [
    "Let's see what .tpl files have been added:"
   ]
  },
  {
   "cell_type": "code",
   "execution_count": 29,
   "metadata": {},
   "outputs": [
    {
     "data": {
      "text/plain": [
       "['npfklayer1pp_inst0pp.dat.tpl',\n",
       " 'npfklayer1cn_inst0_constant.csv.tpl',\n",
       " 'npfklayer1gr_inst0_grid.csv.tpl',\n",
       " 'npfklayer3pp_inst0pp.dat.tpl',\n",
       " 'npfklayer2pp_inst0pp.dat.tpl',\n",
       " 'npfklayer3gr_inst0_grid.csv.tpl',\n",
       " 'npfklayer2cn_inst0_constant.csv.tpl',\n",
       " 'npfklayer3cn_inst0_constant.csv.tpl',\n",
       " 'npfklayer2gr_inst0_grid.csv.tpl']"
      ]
     },
     "execution_count": 29,
     "metadata": {},
     "output_type": "execute_result"
    }
   ],
   "source": [
    "[f for f in os.listdir(template_ws) if f.endswith(\".tpl\")]"
   ]
  },
  {
   "cell_type": "markdown",
   "metadata": {},
   "source": [
    "Well...hot damn, wasn't that easy? Let's speed through the other array parameter files."
   ]
  },
  {
   "cell_type": "code",
   "execution_count": 30,
   "metadata": {
    "execution": {
     "iopub.execute_input": "2022-04-11T03:51:54.872213Z",
     "iopub.status.busy": "2022-04-11T03:51:54.866229Z",
     "iopub.status.idle": "2022-04-11T03:51:56.011487Z",
     "shell.execute_reply": "2022-04-11T03:51:56.010465Z"
    }
   },
   "outputs": [],
   "source": [
    "# for Kv\n",
    "tag = \"npf_k33\"\n",
    "files = [f for f in os.listdir(template_ws) if tag in f.lower() and f.endswith(\".txt\")]\n",
    "for f in files:\n",
    "    add_mult_pars(f, lb=0.2, ub=5.0, ulb=0.01, uub=100)\n",
    "\n",
    "# for Ss\n",
    "tag = \"sto_ss\"\n",
    "files = [f for f in os.listdir(template_ws) if tag in f.lower() and f.endswith(\".txt\")]\n",
    "# only for layer 2 and 3; we aren't monsters\n",
    "for f in files[1:]: \n",
    "    add_mult_pars(f, lb=0.2, ub=5.0, ulb=1e-6, uub=1e-3)\n",
    "\n",
    "# For Sy\n",
    "tag = \"sto_sy\"\n",
    "files = [f for f in os.listdir(template_ws) if tag in f.lower() and f.endswith(\".txt\")]\n",
    "# only for layer 1\n",
    "f = files[0]\n",
    "add_mult_pars(f, lb=0.2, ub=5.0, ulb=0.01, uub=0.4)\n",
    "\n",
    "# For porosity\n",
    "tag = \"ne_\"\n",
    "files = [f for f in os.listdir(template_ws) if tag in f.lower() and f.endswith(\".txt\")]\n",
    "for f in files: \n",
    "    add_mult_pars(f, lb=0.2, ub=5.0, ulb=0.01, uub=0.4)\n"
   ]
  },
  {
   "cell_type": "code",
   "execution_count": 31,
   "metadata": {},
   "outputs": [
    {
     "data": {
      "text/plain": [
       "['npfklayer1pp_inst0pp.dat.tpl',\n",
       " 'npfk33layer1pp_inst0pp.dat.tpl',\n",
       " 'stosslayer1cn_inst0_constant.csv.tpl',\n",
       " 'npfklayer1cn_inst0_constant.csv.tpl',\n",
       " 'npfklayer1gr_inst0_grid.csv.tpl',\n",
       " 'stosylayer3gr_inst0_grid.csv.tpl',\n",
       " 'npfk33layer3cn_inst0_constant.csv.tpl',\n",
       " 'npfk33layer2cn_inst0_constant.csv.tpl',\n",
       " 'npfk33layer3pp_inst0pp.dat.tpl',\n",
       " 'npfklayer3pp_inst0pp.dat.tpl',\n",
       " 'npfk33layer1gr_inst0_grid.csv.tpl',\n",
       " 'stosylayer3pp_inst0pp.dat.tpl',\n",
       " 'nelayer1gr_inst0_grid.csv.tpl',\n",
       " 'npfklayer2pp_inst0pp.dat.tpl',\n",
       " 'stosslayer3gr_inst0_grid.csv.tpl',\n",
       " 'npfk33layer2pp_inst0pp.dat.tpl',\n",
       " 'nelayer1cn_inst0_constant.csv.tpl',\n",
       " 'nelayer2pp_inst0pp.dat.tpl',\n",
       " 'npfklayer3gr_inst0_grid.csv.tpl',\n",
       " 'npfk33layer2gr_inst0_grid.csv.tpl',\n",
       " 'nelayer2gr_inst0_grid.csv.tpl',\n",
       " 'nelayer3pp_inst0pp.dat.tpl',\n",
       " 'nelayer3cn_inst0_constant.csv.tpl',\n",
       " 'npfklayer2cn_inst0_constant.csv.tpl',\n",
       " 'stosslayer1pp_inst0pp.dat.tpl',\n",
       " 'nelayer3gr_inst0_grid.csv.tpl',\n",
       " 'nelayer2cn_inst0_constant.csv.tpl',\n",
       " 'npfklayer3cn_inst0_constant.csv.tpl',\n",
       " 'npfk33layer3gr_inst0_grid.csv.tpl',\n",
       " 'stosslayer3cn_inst0_constant.csv.tpl',\n",
       " 'stosylayer3cn_inst0_constant.csv.tpl',\n",
       " 'npfklayer2gr_inst0_grid.csv.tpl',\n",
       " 'stosslayer1gr_inst0_grid.csv.tpl',\n",
       " 'nelayer1pp_inst0pp.dat.tpl',\n",
       " 'stosslayer3pp_inst0pp.dat.tpl',\n",
       " 'npfk33layer1cn_inst0_constant.csv.tpl']"
      ]
     },
     "execution_count": 31,
     "metadata": {},
     "output_type": "execute_result"
    }
   ],
   "source": [
    "[f for f in os.listdir(template_ws) if f.endswith(\".tpl\")]"
   ]
  },
  {
   "cell_type": "markdown",
   "metadata": {},
   "source": [
    "Boom!  We just conquered property parameterization in a big way!"
   ]
  },
  {
   "cell_type": "markdown",
   "metadata": {},
   "source": [
    "#### 5.3.2. Spatial and Temporal Correlation\n",
    "\n",
    "Now, you may be thinking \"shouldn't recharge have temporal correlation as well?\". \n",
    "\n",
    "Damn straight it should. Now, this requires a little trickery because native handling in spatiotemporal correlation is hard to do.  So what we are going to do is split this correlation into two setup of multiplier parameters.  One set of parameters will be constant in space but vary (and be correlated) in time.  The other set of multiplier parameters will be constant in time but vary (and be correlated) in space.  Since both of these sets of parameters are multipliers, we implicitly represent the concept that recharge is uncertain and correlated in both space and time.  Easy as!\n",
    "\n",
    "First we need to construct a container of stress period datetimes. (This relies on specifying the start_datetime argument when instantiating `PstFrom`.) These datetime values will specify the postion of parameters on the time-axis.\n",
    "\n"
   ]
  },
  {
   "cell_type": "code",
   "execution_count": 32,
   "metadata": {
    "execution": {
     "iopub.execute_input": "2022-04-11T03:51:56.017472Z",
     "iopub.status.busy": "2022-04-11T03:51:56.017472Z",
     "iopub.status.idle": "2022-04-11T03:51:56.028729Z",
     "shell.execute_reply": "2022-04-11T03:51:56.027688Z"
    }
   },
   "outputs": [
    {
     "data": {
      "text/plain": [
       "DatetimeIndex(['2017-12-31 12:00:00', '2018-01-31 12:00:00',\n",
       "               '2018-03-01 12:00:00', '2018-04-01 12:00:00',\n",
       "               '2018-05-01 12:00:00', '2018-06-01 12:00:00',\n",
       "               '2018-07-01 12:00:00', '2018-08-01 12:00:00',\n",
       "               '2018-09-01 12:00:00', '2018-10-01 12:00:00',\n",
       "               '2018-11-01 12:00:00', '2018-12-01 12:00:00',\n",
       "               '2019-01-01 12:00:00', '2019-02-01 12:00:00',\n",
       "               '2019-03-01 12:00:00', '2019-04-01 12:00:00',\n",
       "               '2019-05-01 12:00:00', '2019-06-01 12:00:00',\n",
       "               '2019-07-01 12:00:00', '2019-08-01 12:00:00',\n",
       "               '2019-09-01 12:00:00', '2019-10-01 12:00:00',\n",
       "               '2019-11-01 12:00:00', '2019-12-01 12:00:00',\n",
       "               '2020-01-01 12:00:00'],\n",
       "              dtype='datetime64[ns]', freq=None)"
      ]
     },
     "execution_count": 32,
     "metadata": {},
     "output_type": "execute_result"
    }
   ],
   "source": [
    "# build up a container of stress period start datetimes - this will\n",
    "# be used to specify the datetime of each multipler parameter\n",
    "\n",
    "dts = pd.to_datetime(start_datetime) + pd.to_timedelta(np.cumsum(sim.tdis.perioddata.array[\"perlen\"]),unit='d')\n",
    "\n",
    "dts"
   ]
  },
  {
   "cell_type": "markdown",
   "metadata": {},
   "source": [
    "If you use the same parameter group name (`pargp`) and same geostruct, `PstFrom` will treat parameters setup across different calls to `add_parameters()` as correlated - ***WARNING*** do not try to express spatial and temporal correlation together - as discussed above, #badtimes.  In this case, we want to express temporal correlation in the recharge multiplier parameters that are \"constant\" type in space so that there is one recharge multiplier parameter for each stress period that shares a parameter group name across different calls to `add_parameters`. So, we use the same parameter group names for each stress period data file, and specify the `datetime` and `geostruct` arguments.\n",
    "\n",
    "Including temporal correlation introduces an additional challenge. Interpolation between points that share a common coordinate creates all types of trouble. We are going to have many parameters during each stress period (a single point on the time-axis). To get around this challenge we need to be a bit sneaky.\n",
    "\n",
    "\n",
    "First, we will apply the multiple *spatial* scales of parameter multiplers (`constant`, `pilot point` and `grid`) as we did for hyraulic properties.  We do this for all recharge files at once, which tells `PstFrom` to broadcast (e.g. share) the same parameters for all of those files: \n",
    "\n"
   ]
  },
  {
   "cell_type": "code",
   "execution_count": 33,
   "metadata": {},
   "outputs": [
    {
     "name": "stdout",
     "output_type": "stream",
     "text": [
      "['freyberg6.rch_recharge_1.txt', 'freyberg6.rch_recharge_2.txt', 'freyberg6.rch_recharge_3.txt', 'freyberg6.rch_recharge_4.txt', 'freyberg6.rch_recharge_5.txt', 'freyberg6.rch_recharge_6.txt', 'freyberg6.rch_recharge_7.txt', 'freyberg6.rch_recharge_8.txt', 'freyberg6.rch_recharge_9.txt', 'freyberg6.rch_recharge_10.txt', 'freyberg6.rch_recharge_11.txt', 'freyberg6.rch_recharge_12.txt', 'freyberg6.rch_recharge_13.txt', 'freyberg6.rch_recharge_14.txt', 'freyberg6.rch_recharge_15.txt', 'freyberg6.rch_recharge_16.txt', 'freyberg6.rch_recharge_17.txt', 'freyberg6.rch_recharge_18.txt', 'freyberg6.rch_recharge_19.txt', 'freyberg6.rch_recharge_20.txt', 'freyberg6.rch_recharge_21.txt', 'freyberg6.rch_recharge_22.txt', 'freyberg6.rch_recharge_23.txt', 'freyberg6.rch_recharge_24.txt', 'freyberg6.rch_recharge_25.txt']\n"
     ]
    }
   ],
   "source": [
    "# for Recharge; \n",
    "tag = \"rch_recharge\"\n",
    "files = [f for f in os.listdir(template_ws) if tag in f.lower() and f.endswith(\".txt\")]\n",
    "sp = [int(f.split(\".\")[1].split('_')[-1]) for f in files]\n",
    "d = {s:f for s,f in zip(sp,files)}\n",
    "sp.sort()\n",
    "files = [d[s] for s in sp]\n",
    "print(files)\n",
    "# the spatial multiplier parameters; just use the same function\n",
    "add_mult_pars(files, lb=0.2, ub=5.0, ulb=2e-5, uub=2e-4, add_coarse=False)\n",
    "    \n",
    "    "
   ]
  },
  {
   "cell_type": "markdown",
   "metadata": {},
   "source": [
    "Then, we will asign an additional `constant` multiplier parameter for each recharge stress-period file (so, a single multiplier for all recharge paramaters for each stress period). We will specify temporal correlation for these `constant` multipliers. These will all have the same parameter group name, as discussed above. "
   ]
  },
  {
   "cell_type": "code",
   "execution_count": 34,
   "metadata": {
    "execution": {
     "iopub.execute_input": "2022-04-11T03:51:56.038687Z",
     "iopub.status.busy": "2022-04-11T03:51:56.037658Z",
     "iopub.status.idle": "2022-04-11T03:51:59.208457Z",
     "shell.execute_reply": "2022-04-11T03:51:59.209454Z"
    }
   },
   "outputs": [],
   "source": [
    "for f in files:   \n",
    "    # multiplier that includes temporal correlation\n",
    "    # get the stress period number from the file name\n",
    "    kper = int(f.split('.')[1].split('_')[-1]) - 1  \n",
    "    # add the constant parameters (with temporal correlation)\n",
    "    pf.add_parameters(filenames=f,\n",
    "                    zone_array=ib,\n",
    "                    par_type=\"constant\",\n",
    "                    par_name_base=f.split('.')[1]+\"tcn\",\n",
    "                    pargp=f.split('.')[1]+\"tcn\",\n",
    "                    lower_bound=0.5, upper_bound=1.5,\n",
    "                    ult_ubound=2e-4, ult_lbound=2e-5,\n",
    "                    datetime=dts[kper], # this places the parameter value on the \"time axis\"\n",
    "                    geostruct=temporal_gs)"
   ]
  },
  {
   "cell_type": "markdown",
   "metadata": {},
   "source": [
    "### 5.3.3. List Files\n",
    "\n",
    "Adding parameters from list-type files follows similar principles. As with observation files, they must be tabular. Certain columns are specified as index columns and are used to populate parameter names, as well as provide the parameters' spatial location. Other columns are specified as containing parameter values. \n",
    "\n",
    "Parameters can be `grid` or `constant`. As before, values can be assigned `directly`, as `multipliers` or as `additives`.\n",
    "\n",
    "We will demonstrate for the boundary-condition input files. \n",
    "\n",
    "Starting off with GHBs. Let's inspect the folder. As you can see, there is a single input file (GHB parameters are assumed to not vary over time)."
   ]
  },
  {
   "cell_type": "code",
   "execution_count": 35,
   "metadata": {
    "execution": {
     "iopub.execute_input": "2022-04-11T03:51:59.213481Z",
     "iopub.status.busy": "2022-04-11T03:51:59.212448Z",
     "iopub.status.idle": "2022-04-11T03:51:59.224532Z",
     "shell.execute_reply": "2022-04-11T03:51:59.224532Z"
    }
   },
   "outputs": [
    {
     "name": "stdout",
     "output_type": "stream",
     "text": [
      "['freyberg6.ghb_stress_period_data_1.txt']\n"
     ]
    }
   ],
   "source": [
    "tag = \"ghb_stress_period_data\"\n",
    "files = [f for f in os.listdir(template_ws) if tag in f.lower() and f.endswith(\".txt\")]\n",
    "print(files)"
   ]
  },
  {
   "cell_type": "markdown",
   "metadata": {},
   "source": [
    "Since these boundaries are likely to be very influential, we want to include a robust representation of their uncertainty - both head and conductance and at multiple scales.  \n",
    "\n",
    "Let's parameterize both GHB conductance and head:\n",
    "\n",
    " - For conductance, we shall use two scales of `multiplier` parameters (`constant` and `grid`).\n",
    "\n",
    " - For heads, multipliers are not ideal. Insead we will use `additive` parameters. Again, with a coarse and fine scale.\n",
    "\n",
    " **ATTENTION!** \n",
    " \n",
    " Additive parameters by default get assigned an initial parameter value of zero. This can be problematic later on when computing the derivatives. Be sure to either apply a parameter offset, or use \"absolute\" increment types in the parameter group section (we will implement the latter option further on in the current tutorial.)"
   ]
  },
  {
   "cell_type": "code",
   "execution_count": 36,
   "metadata": {
    "execution": {
     "iopub.execute_input": "2022-04-11T03:51:59.232511Z",
     "iopub.status.busy": "2022-04-11T03:51:59.227524Z",
     "iopub.status.idle": "2022-04-11T03:51:59.334189Z",
     "shell.execute_reply": "2022-04-11T03:51:59.333192Z"
    }
   },
   "outputs": [],
   "source": [
    "tag = \"ghb_stress_period_data\"\n",
    "files = [f for f in os.listdir(template_ws) if tag in f.lower() and f.endswith(\".txt\")]\n",
    "\n",
    "for f in files:\n",
    "    # constant and grid scale multiplier conductance parameters\n",
    "    name = 'ghbcond'\n",
    "    pf.add_parameters(f,\n",
    "                        par_type=\"grid\",\n",
    "                        geostruct=grid_gs,\n",
    "                        par_name_base=name+\"gr\",\n",
    "                        pargp=name+\"gr\",\n",
    "                        index_cols=[0,1,2], #column containing lay,row,col\n",
    "                        use_cols=[4], #column containing conductance values\n",
    "                        lower_bound=0.1,upper_bound=10.0,\n",
    "                        ult_lbound=0.1, ult_ubound=100) #absolute limits\n",
    "    pf.add_parameters(f,\n",
    "                        par_type=\"constant\",\n",
    "                        geostruct=grid_gs,\n",
    "                        par_name_base=name+\"cn\",\n",
    "                        pargp=name+\"cn\",\n",
    "                        index_cols=[0,1,2],\n",
    "                        use_cols=[4],  \n",
    "                        lower_bound=0.1,upper_bound=10.0,\n",
    "                        ult_lbound=0.1, ult_ubound=100) #absolute limits\n",
    "\n",
    "    # constant and grid scale additive head parameters\n",
    "    name = 'ghbhead'\n",
    "    pf.add_parameters(f,\n",
    "                        par_type=\"grid\",\n",
    "                        geostruct=grid_gs,\n",
    "                        par_name_base=name+\"gr\",\n",
    "                        pargp=name+\"gr\",\n",
    "                        index_cols=[0,1,2],\n",
    "                        use_cols=[3],   # column containing head values\n",
    "                        lower_bound=-2.0,upper_bound=2.0,\n",
    "                        par_style=\"a\", # specify additive parameter\n",
    "                        transform=\"none\", # specify not log-transform\n",
    "                        ult_lbound=32.5, ult_ubound=42) #absolute limits; make sure head is never lower than the bottom of layer1\n",
    "    pf.add_parameters(f,\n",
    "                        par_type=\"constant\",\n",
    "                        geostruct=grid_gs,\n",
    "                        par_name_base=name+\"cn\",\n",
    "                        pargp=name+\"cn\",\n",
    "                        index_cols=[0,1,2],\n",
    "                        use_cols=[3],\n",
    "                        lower_bound=-2.0,upper_bound=2.0, \n",
    "                        par_style=\"a\", \n",
    "                        transform=\"none\",\n",
    "                        ult_lbound=32.5, ult_ubound=42) "
   ]
  },
  {
   "cell_type": "markdown",
   "metadata": {},
   "source": [
    "Easy peasy.\n",
    "\n",
    "Now, this will make some people uncomfortable, but how well do we really ever know historic water use flux rates in space and in time? hmmm, not really! And just a little uncertainty in historic water use can result in large changes in simulated water levels...So lets add parameters to represent that uncertainty in the model inputs.\n",
    "\n",
    "For wells it may not (or it may...) make sense to include spatial correlation. Here we will assume temporal correlation - its reasonable that pumping rates today will be similar to pumping rates yesterday. \n",
    "\n",
    "Pumping rates for different stress periods are in separate files. We will call `.add_parameters()` for each file. But we want to specify correlation between parameters in different files. As explained above for recharge, we do this with the parameter group name.\n",
    "\n",
    "OK, let's get started.\n"
   ]
  },
  {
   "cell_type": "markdown",
   "metadata": {},
   "source": [
    "As discussed above, including temporal correlation introduces an additional challenge. We use the same approach described for recharge parameters:\n",
    "\n",
    " - First, we will asign a `constant` multiplier parameter for each WEL stress-period file (so, a single multiplier for all well pumping rates for each stress period). We will specify temporal correlation for these `constant` multipliers.\n",
    "\n",
    " - Then, we will also have `grid` type multiplier parameters for each WEL stress period file (so, multipliers for individual well pumping rate during each stress period). These will not include (temporal) correlation. (We could in principle include spatial correlation here if we wanted to; but let's not)."
   ]
  },
  {
   "cell_type": "code",
   "execution_count": 37,
   "metadata": {
    "execution": {
     "iopub.execute_input": "2022-04-11T03:51:59.340175Z",
     "iopub.status.busy": "2022-04-11T03:51:59.339187Z",
     "iopub.status.idle": "2022-04-11T03:52:00.538272Z",
     "shell.execute_reply": "2022-04-11T03:52:00.537278Z"
    }
   },
   "outputs": [],
   "source": [
    "files = [f for f in os.listdir(template_ws) if \"wel_stress_period_data\" in f and f.endswith(\".txt\")]\n",
    "sp = [int(f.split(\".\")[1].split('_')[-1]) for f in files]\n",
    "d = {s:f for s,f in zip(sp,files)}\n",
    "sp.sort()\n",
    "files = [d[s] for s in sp]\n",
    "\n",
    "for f in files:\n",
    "    # get the stress period number from the file name\n",
    "    kper = int(f.split('.')[1].split('_')[-1]) - 1  \n",
    "    \n",
    "    # add the constant parameters (with temporal correlation)\n",
    "    pf.add_parameters(filenames=f,\n",
    "                        index_cols=[0,1,2], #columns that specify cell location\n",
    "                        use_cols=[3],       #columns with parameter values\n",
    "                        par_type=\"constant\",    #each well will be adjustable\n",
    "                        par_name_base=\"welcst\",\n",
    "                        pargp=\"welcst\", \n",
    "                        upper_bound = 1.5, lower_bound=0.5,\n",
    "                        datetime=dts[kper], # this places the parameter value on the \"time axis\"\n",
    "                        geostruct=temporal_gs)\n",
    "    \n",
    "    # add the grid parameters; each individual well\n",
    "    pf.add_parameters(filenames=f,\n",
    "                        index_cols=[0,1,2], #columns that specify cell location \n",
    "                        use_cols=[3],       #columns with parameter values\n",
    "                        par_type=\"grid\",    #each well will be adjustable\n",
    "                        par_name_base=\"welgrd\",\n",
    "                        pargp=\"welgrd\", \n",
    "                        upper_bound = 1.5, lower_bound=0.5,\n",
    "                        datetime=dts[kper]) # this places the parameter value on the \"time axis\"\n",
    "                     "
   ]
  },
  {
   "cell_type": "markdown",
   "metadata": {},
   "source": [
    "And finally, our favourite (not!) boundary-condition: SFR.\n",
    "\n",
    "Let's parameterize conductance (time-invariant) and inflow (time-variant)."
   ]
  },
  {
   "cell_type": "code",
   "execution_count": 38,
   "metadata": {
    "execution": {
     "iopub.execute_input": "2022-04-11T03:52:00.547241Z",
     "iopub.status.busy": "2022-04-11T03:52:00.546247Z",
     "iopub.status.idle": "2022-04-11T03:52:00.615481Z",
     "shell.execute_reply": "2022-04-11T03:52:00.614347Z"
    }
   },
   "outputs": [
    {
     "name": "stdout",
     "output_type": "stream",
     "text": [
      "['freyberg6.sfr_packagedata.txt']\n"
     ]
    },
    {
     "data": {
      "text/html": [
       "<div>\n",
       "<style scoped>\n",
       "    .dataframe tbody tr th:only-of-type {\n",
       "        vertical-align: middle;\n",
       "    }\n",
       "\n",
       "    .dataframe tbody tr th {\n",
       "        vertical-align: top;\n",
       "    }\n",
       "\n",
       "    .dataframe thead th {\n",
       "        text-align: right;\n",
       "    }\n",
       "</style>\n",
       "<table border=\"1\" class=\"dataframe\">\n",
       "  <thead>\n",
       "    <tr style=\"text-align: right;\">\n",
       "      <th></th>\n",
       "      <th>parnme</th>\n",
       "      <th>pargp</th>\n",
       "      <th>covgp</th>\n",
       "      <th>tpl_filename</th>\n",
       "      <th>input_filename</th>\n",
       "      <th>parval1</th>\n",
       "      <th>partype</th>\n",
       "      <th>partrans</th>\n",
       "      <th>parubnd</th>\n",
       "      <th>parlbnd</th>\n",
       "      <th>dercom</th>\n",
       "      <th>offset</th>\n",
       "      <th>parchglim</th>\n",
       "      <th>scale</th>\n",
       "    </tr>\n",
       "  </thead>\n",
       "  <tbody>\n",
       "    <tr>\n",
       "      <th>pname:sfrcondcn_inst:0_ptype:cn_usecol:9_pstyle:m</th>\n",
       "      <td>pname:sfrcondcn_inst:0_ptype:cn_usecol:9_pstyle:m</td>\n",
       "      <td>sfrcondcn</td>\n",
       "      <td>sfrcondcn</td>\n",
       "      <td>freyberg6_template/sfrcondcn_inst0_constant.csv.tpl</td>\n",
       "      <td>freyberg6_template/mult/sfrcondcn_inst0_constant.csv</td>\n",
       "      <td>1.0</td>\n",
       "      <td>constant</td>\n",
       "      <td>log</td>\n",
       "      <td>10.0</td>\n",
       "      <td>0.1</td>\n",
       "      <td>1</td>\n",
       "      <td>0.0</td>\n",
       "      <td>factor</td>\n",
       "      <td>1.0</td>\n",
       "    </tr>\n",
       "  </tbody>\n",
       "</table>\n",
       "</div>"
      ],
      "text/plain": [
       "                                                                                              parnme  \\\n",
       "pname:sfrcondcn_inst:0_ptype:cn_usecol:9_pstyle:m  pname:sfrcondcn_inst:0_ptype:cn_usecol:9_pstyle:m   \n",
       "\n",
       "                                                       pargp      covgp  \\\n",
       "pname:sfrcondcn_inst:0_ptype:cn_usecol:9_pstyle:m  sfrcondcn  sfrcondcn   \n",
       "\n",
       "                                                                                          tpl_filename  \\\n",
       "pname:sfrcondcn_inst:0_ptype:cn_usecol:9_pstyle:m  freyberg6_template/sfrcondcn_inst0_constant.csv.tpl   \n",
       "\n",
       "                                                                                         input_filename  \\\n",
       "pname:sfrcondcn_inst:0_ptype:cn_usecol:9_pstyle:m  freyberg6_template/mult/sfrcondcn_inst0_constant.csv   \n",
       "\n",
       "                                                   parval1   partype partrans  \\\n",
       "pname:sfrcondcn_inst:0_ptype:cn_usecol:9_pstyle:m      1.0  constant      log   \n",
       "\n",
       "                                                   parubnd  parlbnd  dercom  \\\n",
       "pname:sfrcondcn_inst:0_ptype:cn_usecol:9_pstyle:m     10.0      0.1       1   \n",
       "\n",
       "                                                   offset parchglim  scale  \n",
       "pname:sfrcondcn_inst:0_ptype:cn_usecol:9_pstyle:m     0.0    factor    1.0  "
      ]
     },
     "execution_count": 38,
     "metadata": {},
     "output_type": "execute_result"
    }
   ],
   "source": [
    "# SFR conductance\n",
    "tag = \"sfr_packagedata\"\n",
    "files = [f for f in os.listdir(template_ws) if tag in f.lower() and f.endswith(\".txt\")]\n",
    "assert len(files) == 1 # There can be only one! It is tradition. Jokes.\n",
    "print(files)\n",
    "\n",
    "f = files[0]\n",
    "# constant and grid scale multiplier conductance parameters\n",
    "name = \"sfrcond\"\n",
    "pf.add_parameters(f,\n",
    "                par_type=\"grid\",\n",
    "                geostruct=grid_gs,\n",
    "                par_name_base=name+\"gr\",\n",
    "                pargp=name+\"gr\",\n",
    "                index_cols=[0,2,3],\n",
    "                use_cols=[9],\n",
    "                lower_bound=0.1,upper_bound=10.0,\n",
    "                ult_lbound=0.01, ult_ubound=10) #absolute limits\n",
    "pf.add_parameters(f,\n",
    "                par_type=\"constant\",\n",
    "                geostruct=grid_gs,\n",
    "                par_name_base=name+\"cn\",\n",
    "                pargp=name+\"cn\",\n",
    "                index_cols=[0,2,3],\n",
    "                use_cols=[9],\n",
    "                lower_bound=0.1,upper_bound=10.0,\n",
    "                ult_lbound=0.01, ult_ubound=10) #absolute limits"
   ]
  },
  {
   "cell_type": "code",
   "execution_count": 39,
   "metadata": {
    "execution": {
     "iopub.execute_input": "2022-04-11T03:52:00.624312Z",
     "iopub.status.busy": "2022-04-11T03:52:00.623277Z",
     "iopub.status.idle": "2022-04-11T03:52:01.337431Z",
     "shell.execute_reply": "2022-04-11T03:52:01.336434Z"
    }
   },
   "outputs": [
    {
     "name": "stdout",
     "output_type": "stream",
     "text": [
      "['freyberg6.sfr_perioddata_1.txt', 'freyberg6.sfr_perioddata_2.txt', 'freyberg6.sfr_perioddata_3.txt', 'freyberg6.sfr_perioddata_4.txt', 'freyberg6.sfr_perioddata_5.txt', 'freyberg6.sfr_perioddata_6.txt', 'freyberg6.sfr_perioddata_7.txt', 'freyberg6.sfr_perioddata_8.txt', 'freyberg6.sfr_perioddata_9.txt', 'freyberg6.sfr_perioddata_10.txt', 'freyberg6.sfr_perioddata_11.txt', 'freyberg6.sfr_perioddata_12.txt', 'freyberg6.sfr_perioddata_13.txt', 'freyberg6.sfr_perioddata_14.txt', 'freyberg6.sfr_perioddata_15.txt', 'freyberg6.sfr_perioddata_16.txt', 'freyberg6.sfr_perioddata_17.txt', 'freyberg6.sfr_perioddata_18.txt', 'freyberg6.sfr_perioddata_19.txt', 'freyberg6.sfr_perioddata_20.txt', 'freyberg6.sfr_perioddata_21.txt', 'freyberg6.sfr_perioddata_22.txt', 'freyberg6.sfr_perioddata_23.txt', 'freyberg6.sfr_perioddata_24.txt', 'freyberg6.sfr_perioddata_25.txt']\n"
     ]
    }
   ],
   "source": [
    "# SFR inflow\n",
    "files = [f for f in os.listdir(template_ws) if \"sfr_perioddata\" in f and f.endswith(\".txt\")]\n",
    "sp = [int(f.split(\".\")[1].split('_')[-1]) for f in files]\n",
    "d = {s:f for s,f in zip(sp,files)}\n",
    "sp.sort()\n",
    "files = [d[s] for s in sp]\n",
    "print(files)\n",
    "for f in files:\n",
    "    # get the stress period number from the file name\n",
    "    kper = int(f.split('.')[1].split('_')[-1]) - 1  \n",
    "    # add the parameters\n",
    "    pf.add_parameters(filenames=f,\n",
    "                        index_cols=[0], #reach number\n",
    "                        use_cols=[2],   #columns with parameter values\n",
    "                        par_type=\"grid\",    \n",
    "                        par_name_base=\"sfrgr\",\n",
    "                        pargp=\"sfrgr\", \n",
    "                        upper_bound = 1.5, lower_bound=0.5, #don't need ult_bounds because it is a single multiplier\n",
    "                        datetime=dts[kper], # this places the parameter value on the \"time axis\"\n",
    "                        geostruct=temporal_gs)"
   ]
  },
  {
   "cell_type": "code",
   "execution_count": 40,
   "metadata": {},
   "outputs": [
    {
     "data": {
      "text/plain": [
       "['welcst_inst11_constant.csv.tpl',\n",
       " 'welcst_inst3_constant.csv.tpl',\n",
       " 'welgrd_inst7_grid.csv.tpl',\n",
       " 'sfrgr_inst13_grid.csv.tpl',\n",
       " 'welgrd_inst24_grid.csv.tpl',\n",
       " 'welgrd_inst0_grid.csv.tpl',\n",
       " 'sfrgr_inst14_grid.csv.tpl',\n",
       " 'welgrd_inst23_grid.csv.tpl',\n",
       " 'rch_recharge_8tcn_inst0_constant.csv.tpl',\n",
       " 'rch_recharge_20tcn_inst0_constant.csv.tpl',\n",
       " 'welcst_inst8_constant.csv.tpl',\n",
       " 'welgrd_inst15_grid.csv.tpl',\n",
       " 'sfrgr_inst22_grid.csv.tpl',\n",
       " 'npfklayer1pp_inst0pp.dat.tpl',\n",
       " 'npfk33layer1pp_inst0pp.dat.tpl',\n",
       " 'welgrd_inst12_grid.csv.tpl',\n",
       " 'welcst_inst24_constant.csv.tpl',\n",
       " 'stosslayer1cn_inst0_constant.csv.tpl',\n",
       " 'rch_recharge_13tcn_inst0_constant.csv.tpl',\n",
       " 'npfklayer1cn_inst0_constant.csv.tpl',\n",
       " 'sfrgr_inst15_grid.csv.tpl',\n",
       " 'welgrd_inst22_grid.csv.tpl',\n",
       " 'welgrd_inst1_grid.csv.tpl',\n",
       " 'sfrgr_inst12_grid.csv.tpl',\n",
       " 'welgrd_inst6_grid.csv.tpl',\n",
       " 'npfklayer1gr_inst0_grid.csv.tpl',\n",
       " 'rch_recharge_14tcn_inst0_constant.csv.tpl',\n",
       " 'stosylayer3gr_inst0_grid.csv.tpl',\n",
       " 'npfk33layer3cn_inst0_constant.csv.tpl',\n",
       " 'welcst_inst20_constant.csv.tpl',\n",
       " 'welgrd_inst13_grid.csv.tpl',\n",
       " 'sfrgr_inst24_grid.csv.tpl',\n",
       " 'welcst_inst15_constant.csv.tpl',\n",
       " 'rch_recharge_7tcn_inst0_constant.csv.tpl',\n",
       " 'welgrd_inst14_grid.csv.tpl',\n",
       " 'sfrgr_inst23_grid.csv.tpl',\n",
       " 'welcst_inst7_constant.csv.tpl',\n",
       " 'welgrd_inst19_grid.csv.tpl',\n",
       " 'npfk33layer2cn_inst0_constant.csv.tpl',\n",
       " 'rch_recharge_2tcn_inst0_constant.csv.tpl',\n",
       " 'welcst_inst2_constant.csv.tpl',\n",
       " 'welcst_inst10_constant.csv.tpl',\n",
       " 'rch_recharge_22tcn_inst0_constant.csv.tpl',\n",
       " 'rch_recharge_19tcn_inst0_constant.csv.tpl',\n",
       " 'npfk33layer3pp_inst0pp.dat.tpl',\n",
       " 'npfklayer3pp_inst0pp.dat.tpl',\n",
       " 'sfrgr_inst7_grid.csv.tpl',\n",
       " 'sfrgr_inst0_grid.csv.tpl',\n",
       " 'sfrgr_inst18_grid.csv.tpl',\n",
       " 'rch_recharge_11tcn_inst0_constant.csv.tpl',\n",
       " 'welcst_inst9_constant.csv.tpl',\n",
       " 'welcst_inst21_constant.csv.tpl',\n",
       " 'rch_recharge_16tcn_inst0_constant.csv.tpl',\n",
       " 'ghbheadgr_inst0_grid.csv.tpl',\n",
       " 'welgrd_inst18_grid.csv.tpl',\n",
       " 'npfk33layer1gr_inst0_grid.csv.tpl',\n",
       " 'stosylayer3pp_inst0pp.dat.tpl',\n",
       " 'nelayer1gr_inst0_grid.csv.tpl',\n",
       " 'welcst_inst6_constant.csv.tpl',\n",
       " 'sfrgr_inst19_grid.csv.tpl',\n",
       " 'npfklayer2pp_inst0pp.dat.tpl',\n",
       " 'stosslayer3gr_inst0_grid.csv.tpl',\n",
       " 'rch_recharge_25tcn_inst0_constant.csv.tpl',\n",
       " 'npfk33layer2pp_inst0pp.dat.tpl',\n",
       " 'nelayer1cn_inst0_constant.csv.tpl',\n",
       " 'welcst_inst14_constant.csv.tpl',\n",
       " 'rch_recharge_5tcn_inst0_constant.csv.tpl',\n",
       " 'sfrgr_inst1_grid.csv.tpl',\n",
       " 'sfrgr_inst6_grid.csv.tpl',\n",
       " 'rch_recharge_4tcn_inst0_constant.csv.tpl',\n",
       " 'nelayer2pp_inst0pp.dat.tpl',\n",
       " 'rch_recharge_24tcn_inst0_constant.csv.tpl',\n",
       " 'welcst_inst18_constant.csv.tpl',\n",
       " 'npfklayer3gr_inst0_grid.csv.tpl',\n",
       " 'npfk33layer2gr_inst0_grid.csv.tpl',\n",
       " 'nelayer2gr_inst0_grid.csv.tpl',\n",
       " 'welgrd_inst8_grid.csv.tpl',\n",
       " 'welcst_inst1_constant.csv.tpl',\n",
       " 'sfrgr_inst4_grid.csv.tpl',\n",
       " 'sfrgr_inst3_grid.csv.tpl',\n",
       " 'rch_recharge_17tcn_inst0_constant.csv.tpl',\n",
       " 'welcst_inst13_constant.csv.tpl',\n",
       " 'nelayer3pp_inst0pp.dat.tpl',\n",
       " 'welcst_inst5_constant.csv.tpl',\n",
       " 'rch_recharge_1gr_inst0_grid.csv.tpl',\n",
       " 'rch_recharge_10tcn_inst0_constant.csv.tpl',\n",
       " 'welcst_inst17_constant.csv.tpl',\n",
       " 'rch_recharge_18tcn_inst0_constant.csv.tpl',\n",
       " 'nelayer3cn_inst0_constant.csv.tpl',\n",
       " 'npfklayer2cn_inst0_constant.csv.tpl',\n",
       " 'sfrgr_inst2_grid.csv.tpl',\n",
       " 'stosslayer1pp_inst0pp.dat.tpl',\n",
       " 'welcst_inst22_constant.csv.tpl',\n",
       " 'sfrgr_inst5_grid.csv.tpl',\n",
       " 'rch_recharge_23tcn_inst0_constant.csv.tpl',\n",
       " 'ghbcondgr_inst0_grid.csv.tpl',\n",
       " 'welgrd_inst9_grid.csv.tpl',\n",
       " 'rch_recharge_3tcn_inst0_constant.csv.tpl',\n",
       " 'nelayer3gr_inst0_grid.csv.tpl',\n",
       " 'rch_recharge_6tcn_inst0_constant.csv.tpl',\n",
       " 'welgrd_inst4_grid.csv.tpl',\n",
       " 'welcst_inst19_constant.csv.tpl',\n",
       " 'sfrgr_inst10_grid.csv.tpl',\n",
       " 'welgrd_inst3_grid.csv.tpl',\n",
       " 'nelayer2cn_inst0_constant.csv.tpl',\n",
       " 'npfklayer3cn_inst0_constant.csv.tpl',\n",
       " 'sfrgr_inst17_grid.csv.tpl',\n",
       " 'npfk33layer3gr_inst0_grid.csv.tpl',\n",
       " 'welgrd_inst20_grid.csv.tpl',\n",
       " 'ghbcondcn_inst0_constant.csv.tpl',\n",
       " 'stosslayer3cn_inst0_constant.csv.tpl',\n",
       " 'sfrgr_inst8_grid.csv.tpl',\n",
       " 'sfrcondcn_inst0_constant.csv.tpl',\n",
       " 'welcst_inst12_constant.csv.tpl',\n",
       " 'rch_recharge_1pp_inst0pp.dat.tpl',\n",
       " 'stosylayer3cn_inst0_constant.csv.tpl',\n",
       " 'welcst_inst0_constant.csv.tpl',\n",
       " 'ghbheadcn_inst0_constant.csv.tpl',\n",
       " 'npfklayer2gr_inst0_grid.csv.tpl',\n",
       " 'welgrd_inst16_grid.csv.tpl',\n",
       " 'stosslayer1gr_inst0_grid.csv.tpl',\n",
       " 'sfrgr_inst21_grid.csv.tpl',\n",
       " 'rch_recharge_15tcn_inst0_constant.csv.tpl',\n",
       " 'welgrd_inst11_grid.csv.tpl',\n",
       " 'sfrgr_inst9_grid.csv.tpl',\n",
       " 'rch_recharge_12tcn_inst0_constant.csv.tpl',\n",
       " 'sfrcondgr_inst0_grid.csv.tpl',\n",
       " 'nelayer1pp_inst0pp.dat.tpl',\n",
       " 'welcst_inst16_constant.csv.tpl',\n",
       " 'sfrgr_inst16_grid.csv.tpl',\n",
       " 'welgrd_inst21_grid.csv.tpl',\n",
       " 'welcst_inst4_constant.csv.tpl',\n",
       " 'welgrd_inst2_grid.csv.tpl',\n",
       " 'sfrgr_inst11_grid.csv.tpl',\n",
       " 'welgrd_inst5_grid.csv.tpl',\n",
       " 'stosslayer3pp_inst0pp.dat.tpl',\n",
       " 'welgrd_inst10_grid.csv.tpl',\n",
       " 'welgrd_inst17_grid.csv.tpl',\n",
       " 'npfk33layer1cn_inst0_constant.csv.tpl',\n",
       " 'rch_recharge_9tcn_inst0_constant.csv.tpl',\n",
       " 'rch_recharge_21tcn_inst0_constant.csv.tpl',\n",
       " 'sfrgr_inst20_grid.csv.tpl',\n",
       " 'rch_recharge_1tcn_inst0_constant.csv.tpl',\n",
       " 'welcst_inst23_constant.csv.tpl']"
      ]
     },
     "execution_count": 40,
     "metadata": {},
     "output_type": "execute_result"
    }
   ],
   "source": [
    "[f for f in os.listdir(template_ws) if f.endswith(\".tpl\")]"
   ]
  },
  {
   "cell_type": "markdown",
   "metadata": {},
   "source": [
    "Damn!  we just parameterized many recognized sources of model input uncertainty at several spatial and temporal scales.  And we expressed spatial and temporal correlation in those parameters.  One last set of parameters that we will need later for sequential data assimilation - initial conditions:"
   ]
  },
  {
   "cell_type": "code",
   "execution_count": 41,
   "metadata": {},
   "outputs": [
    {
     "data": {
      "text/plain": [
       "['freyberg6.ic_strt_layer3.txt',\n",
       " 'freyberg6.ic_strt_layer2.txt',\n",
       " 'freyberg6.ic_strt_layer1.txt']"
      ]
     },
     "execution_count": 41,
     "metadata": {},
     "output_type": "execute_result"
    }
   ],
   "source": [
    "files = [f for f in os.listdir(template_ws) if \"ic_strt\" in f and f.endswith(\".txt\")]\n",
    "files"
   ]
  },
  {
   "cell_type": "code",
   "execution_count": 42,
   "metadata": {},
   "outputs": [
    {
     "name": "stdout",
     "output_type": "stream",
     "text": [
      "(706, 17)\n",
      "(706, 17)\n",
      "(706, 17)\n"
     ]
    }
   ],
   "source": [
    "for f in files:\n",
    "    base = f.split(\".\")[1].replace(\"_\",\"\")\n",
    "    df = pf.add_parameters(f,par_type=\"grid\",par_style=\"d\",\n",
    "                      pargp=base,par_name_base=base,upper_bound=50,\n",
    "                     lower_bound=15,zone_array=ib,transform=\"none\")\n",
    "    print(df.shape)\n",
    "\n"
   ]
  },
  {
   "cell_type": "markdown",
   "metadata": {},
   "source": [
    "### 6. The Forward Run Script\n",
    "\n",
    "OK! So, we almost have all the base building blocks for a PEST(++) dataset. We have some (1) observations and some (2) parameters. We are still missing (3) the \"forward run\" script. Recall that in the PEST world, the \"model\" is not just the numerical model (e.g. MODFLOW). Instead it is a composite of the numerical model (or models) and pre- and post-processing steps, encapsulated in a \"forward run\" script which can be called from the command line. This command line instruction is what PEST(++) sees as \"the model\". During execution, PEST(++) writes values to parameter files, runs \"the model\", and then reads values from the observation files.\n",
    "\n",
    "`PstFrom` automates the generation of such a script when constructing the PEST control file. The script is written to file named `forward_run.py`. It is written in Python (this is not a PEST(++) requirement, merely a convenience...we are working in Python after all...). \n",
    "\n",
    "How about we see that in action? Magic time! Let's create the PEST control file.\n",
    "\n"
   ]
  },
  {
   "cell_type": "code",
   "execution_count": 43,
   "metadata": {
    "execution": {
     "iopub.execute_input": "2022-04-11T03:52:01.347334Z",
     "iopub.status.busy": "2022-04-11T03:52:01.346334Z",
     "iopub.status.idle": "2022-04-11T03:52:03.279964Z",
     "shell.execute_reply": "2022-04-11T03:52:03.280957Z"
    }
   },
   "outputs": [
    {
     "name": "stdout",
     "output_type": "stream",
     "text": [
      "noptmax:0, npar_adj:12052, nnz_obs:725\n"
     ]
    }
   ],
   "source": [
    "pst = pf.build_pst()"
   ]
  },
  {
   "cell_type": "markdown",
   "metadata": {},
   "source": [
    "Boom! Done. (Well almost.) Check the folder. You should see a new .pst file and the `forward_run.py` file. By default, the .pst file is named after the original model folder name. "
   ]
  },
  {
   "cell_type": "code",
   "execution_count": 44,
   "metadata": {
    "execution": {
     "iopub.execute_input": "2022-04-11T03:52:03.287903Z",
     "iopub.status.busy": "2022-04-11T03:52:03.286906Z",
     "iopub.status.idle": "2022-04-11T03:52:03.293887Z",
     "shell.execute_reply": "2022-04-11T03:52:03.292938Z"
    }
   },
   "outputs": [
    {
     "data": {
      "text/plain": [
       "['forward_run.py', 'freyberg_mf6.pst']"
      ]
     },
     "execution_count": 44,
     "metadata": {},
     "output_type": "execute_result"
    }
   ],
   "source": [
    "[f for f in os.listdir(template_ws) if f.endswith(\".py\") or f.endswith(\".pst\") ]"
   ]
  },
  {
   "cell_type": "markdown",
   "metadata": {},
   "source": [
    "We will get to the `pst` object later on (see also the \"intro to pyemu\" tutorial notebook). For now, let's focus on the `forward_run.py` script. It is printed out below.\n",
    "\n",
    "This script does a bunch of things:\n",
    " - it loads necessary dependecies\n",
    " - it removes model output files to avoid the possibility of files from a previous model run being read by mistake;\n",
    " - it runs pre-processing steps (see `pyemu.helpers.apply_list_and_array_pars()`;\n",
    " - it executes system commands (usually running the simulator, i.e. MODFLOW). (*This is still missing. We will demonstrate next.*)\n",
    " - it executes post-processing steps; (*for now there aren't any*)\n",
    " - ...it washes the dishes (sorry, no it doesn't...this feature is still in development)."
   ]
  },
  {
   "cell_type": "code",
   "execution_count": 45,
   "metadata": {
    "execution": {
     "iopub.execute_input": "2022-04-11T03:52:03.297879Z",
     "iopub.status.busy": "2022-04-11T03:52:03.296880Z",
     "iopub.status.idle": "2022-04-11T03:52:03.311091Z",
     "shell.execute_reply": "2022-04-11T03:52:03.310097Z"
    }
   },
   "outputs": [
    {
     "name": "stdout",
     "output_type": "stream",
     "text": [
      "import os\n",
      "import multiprocessing as mp\n",
      "import numpy as np\n",
      "import pandas as pd\n",
      "import pyemu\n",
      "def main():\n",
      "\n",
      "    try:\n",
      "       os.remove(r'heads.csv')\n",
      "    except Exception as e:\n",
      "       print(r'error removing tmp file:heads.csv')\n",
      "    try:\n",
      "       os.remove(r'sfr.csv')\n",
      "    except Exception as e:\n",
      "       print(r'error removing tmp file:sfr.csv')\n",
      "    pyemu.helpers.apply_list_and_array_pars(arr_par_file='mult2model_info.csv',chunk_len=50)\n",
      "\n",
      "if __name__ == '__main__':\n",
      "    mp.freeze_support()\n",
      "    main()\n",
      "\n"
     ]
    }
   ],
   "source": [
    "_ = [print(line.rstrip()) for line in open(os.path.join(template_ws,\"forward_run.py\"))]"
   ]
  },
  {
   "cell_type": "markdown",
   "metadata": {},
   "source": [
    "That's pretty amazing. But as we just saw, we still need to add commands to actualy run the model.\n",
    "\n",
    "`PstFrom` allows you to pass a list of system commands which will be executed in sequence. It also has methods for including Python functions that run before or after the system commands. These make pre-/post-processing a piece of cake. In fact, we have already started to add to it. Remember all of the multiplier and additive parameters we setup? These all require pre-processing steps to convert the PEST-generated multipliers into model input values. `PstFrom` will automatically add these functions to the `forward_run.py` script. Nifty, hey?\n",
    "\n",
    "Next we will demonstrate how to specify the system commands and add Python functions as processing steps.\n",
    "\n",
    "#### 6.2. Sys Commands\n",
    "\n",
    "Let's start by adding a command line instruction. These are stored as a list in `PstFrom.mod_sys_cmds`, which is currently empty. "
   ]
  },
  {
   "cell_type": "code",
   "execution_count": 46,
   "metadata": {
    "execution": {
     "iopub.execute_input": "2022-04-11T03:52:03.318073Z",
     "iopub.status.busy": "2022-04-11T03:52:03.317112Z",
     "iopub.status.idle": "2022-04-11T03:52:03.324159Z",
     "shell.execute_reply": "2022-04-11T03:52:03.324159Z"
    }
   },
   "outputs": [
    {
     "data": {
      "text/plain": [
       "[]"
      ]
     },
     "execution_count": 46,
     "metadata": {},
     "output_type": "execute_result"
    }
   ],
   "source": [
    "pf.mod_sys_cmds "
   ]
  },
  {
   "cell_type": "markdown",
   "metadata": {},
   "source": [
    "To run a MODFLOW6 model from the command line, you can simply execute `mf6` in the model folder. So, we can add this command by appending it to the list. (Do this only once! Every time you append 'mf6' results in an additional call to MODFLOW6, meaning the model would be run multiple times.)\n",
    "\n",
    "`PstFrom` will add a line to `forward_run.py` w"
   ]
  },
  {
   "cell_type": "code",
   "execution_count": 47,
   "metadata": {
    "execution": {
     "iopub.execute_input": "2022-04-11T03:52:03.328148Z",
     "iopub.status.busy": "2022-04-11T03:52:03.328148Z",
     "iopub.status.idle": "2022-04-11T03:52:03.339662Z",
     "shell.execute_reply": "2022-04-11T03:52:03.338666Z"
    }
   },
   "outputs": [
    {
     "data": {
      "text/plain": [
       "['mf6']"
      ]
     },
     "execution_count": 47,
     "metadata": {},
     "output_type": "execute_result"
    }
   ],
   "source": [
    "pf.mod_sys_cmds.append(\"mf6\") #do this only once\n",
    "pf.mod_sys_cmds"
   ]
  },
  {
   "cell_type": "markdown",
   "metadata": {},
   "source": [
    "We also need to run MODPATH7, so we need to add that to the list of system commands. In this case we also need to specify the modpath sim file:"
   ]
  },
  {
   "cell_type": "code",
   "execution_count": 48,
   "metadata": {
    "execution": {
     "iopub.execute_input": "2022-04-11T03:52:03.343652Z",
     "iopub.status.busy": "2022-04-11T03:52:03.342691Z",
     "iopub.status.idle": "2022-04-11T03:52:03.355362Z",
     "shell.execute_reply": "2022-04-11T03:52:03.354366Z"
    }
   },
   "outputs": [
    {
     "data": {
      "text/plain": [
       "['mf6', 'mp7 freyberg_mp.mpsim']"
      ]
     },
     "execution_count": 48,
     "metadata": {},
     "output_type": "execute_result"
    }
   ],
   "source": [
    "pf.mod_sys_cmds.append(\"mp7 freyberg_mp.mpsim\") #do this only once\n",
    "pf.mod_sys_cmds"
   ]
  },
  {
   "cell_type": "markdown",
   "metadata": {},
   "source": [
    "OK, now let's re-build the Pst control file and check out the changes ot the `forward_run.py` script.\n",
    "\n",
    "You should see that `pyemu.os_utils.run(r'mf6')` has been added after the pre-processing functions."
   ]
  },
  {
   "cell_type": "code",
   "execution_count": 49,
   "metadata": {
    "execution": {
     "iopub.execute_input": "2022-04-11T03:52:03.370356Z",
     "iopub.status.busy": "2022-04-11T03:52:03.370356Z",
     "iopub.status.idle": "2022-04-11T03:52:05.279219Z",
     "shell.execute_reply": "2022-04-11T03:52:05.278255Z"
    }
   },
   "outputs": [
    {
     "name": "stdout",
     "output_type": "stream",
     "text": [
      "noptmax:0, npar_adj:12052, nnz_obs:725\n",
      "import os\n",
      "import multiprocessing as mp\n",
      "import numpy as np\n",
      "import pandas as pd\n",
      "import pyemu\n",
      "def main():\n",
      "\n",
      "    try:\n",
      "       os.remove(r'heads.csv')\n",
      "    except Exception as e:\n",
      "       print(r'error removing tmp file:heads.csv')\n",
      "    try:\n",
      "       os.remove(r'sfr.csv')\n",
      "    except Exception as e:\n",
      "       print(r'error removing tmp file:sfr.csv')\n",
      "    pyemu.helpers.apply_list_and_array_pars(arr_par_file='mult2model_info.csv',chunk_len=50)\n",
      "    pyemu.os_utils.run(r'mf6')\n",
      "\n",
      "    pyemu.os_utils.run(r'mp7 freyberg_mp.mpsim')\n",
      "\n",
      "\n",
      "if __name__ == '__main__':\n",
      "    mp.freeze_support()\n",
      "    main()\n",
      "\n"
     ]
    }
   ],
   "source": [
    "pst = pf.build_pst()\n",
    "\n",
    "_ = [print(line.rstrip()) for line in open(os.path.join(template_ws,\"forward_run.py\"))]"
   ]
  },
  {
   "cell_type": "markdown",
   "metadata": {},
   "source": [
    "#### 6.3. Extra pre- and post-processing functions\n",
    "\n",
    "You will also certainly need to include some additional processing steps.  These are supported thru the `PstFrom.pre_py_cmds` and `PstFrom.post_py_cmds`, which are lists for pre and post model run python commands and `PstFrom.pre_sys_cmds` and `PstFrom.post_sys_cmds`, which are lists for pre and post model run system commands (these are wrapped in `pyemu.os_utils.run()`.  \n",
    "\n",
    "But what if your additional steps are actually an entire python function? Well, we got that too! `PstFrom.add_py_function()`. This method allows you to get functions from another (pre-prepared) python source file and add them to the `forward_run.py` script. We will deonstrate this to post-process secondary model observations after each run."
   ]
  },
  {
   "cell_type": "markdown",
   "metadata": {},
   "source": [
    "Now lets see this py-sauce in action: we are going to add a little post-processing function to extract the final simulated water level for all model cells for the last stress period from the MF6 binary headsave file and save them to ASCII format so that PEST(++) can read them with instruction files.  And, while we are at it, lets also extract the global water budget info from the MF6 listing file and store it in dataframes - these are ususally good numbers to watch!  We will need the simulated water level arrays later for sequential data assimilation (wouldnt it be nice if MF6 supported the writing of ASCII format head arrays?).  Anyway, this function is stored in the \"helpers.py\" script.."
   ]
  },
  {
   "cell_type": "code",
   "execution_count": 50,
   "metadata": {},
   "outputs": [],
   "source": [
    "pf.add_py_function(\"helpers.py\",\"extract_hds_arrays_and_list_dfs()\",is_pre_cmd=False)"
   ]
  },
  {
   "cell_type": "markdown",
   "metadata": {},
   "source": [
    "That last argument - `is_pre_cmd` tells `PstFrom` if the python function should be treated as a pre-processor or a post-processor. So we have added that post-processor, but we still need to setup pest observations for those ASCII head arrays.  Let's do that by first calling that function to operate once within the `template_ws` to generate the arrays and then we can add them with `add_observations()`:  "
   ]
  },
  {
   "cell_type": "code",
   "execution_count": 51,
   "metadata": {},
   "outputs": [],
   "source": [
    "import helpers\n",
    "helpers.test_extract_hds_arrays(template_ws)"
   ]
  },
  {
   "cell_type": "code",
   "execution_count": 52,
   "metadata": {},
   "outputs": [
    {
     "data": {
      "text/plain": [
       "['hdslay1.txt', 'hdslay2.txt', 'hdslay3.txt']"
      ]
     },
     "execution_count": 52,
     "metadata": {},
     "output_type": "execute_result"
    }
   ],
   "source": [
    "files = [f for f in os.listdir(template_ws) if f.startswith(\"hdslay\")]\n",
    "files"
   ]
  },
  {
   "cell_type": "code",
   "execution_count": 53,
   "metadata": {},
   "outputs": [],
   "source": [
    "for f in files:\n",
    "    pf.add_observations(f,prefix=f.split(\".\")[0],obsgp=f.split(\".\")[0])"
   ]
  },
  {
   "cell_type": "code",
   "execution_count": 54,
   "metadata": {},
   "outputs": [],
   "source": [
    "for f in [\"inc.csv\",\"cum.csv\"]:\n",
    "    df = pd.read_csv(os.path.join(template_ws,f),index_col=0)\n",
    "    pf.add_observations(f,index_cols=[\"totim\"],use_cols=list(df.columns.values),\n",
    "                        prefix=f.split('.')[0],obsgp=f.split(\".\")[0])"
   ]
  },
  {
   "cell_type": "markdown",
   "metadata": {},
   "source": [
    "Crushed it!"
   ]
  },
  {
   "cell_type": "markdown",
   "metadata": {},
   "source": [
    "\n",
    "\n",
    "#### 6.3.1. Secondary Observations\n",
    "\n",
    "Often it is usefull to include \"secondary model outcomes\" as observations. These can be important components in a history-matching dataset to tease out specific aspects of system behaviour (e.g. head differences between aquifer layers to inform vertical permeabilities). Or they may be simple summaries of modelled outputs which are of interest for a prediction (e.g. minimum simulated head over a given period).\n",
    "\n",
    "If you inspect the tutorial folder you will find a file named `helpers.py`. This is a python source file which we have prepared for you. (Open it to see how it is organized.) It contains a function named `process_secondary_obs()`. This function reads the model output .csv files, processes them and writes a series of new observation .csv files. These new files contain (1) the temporal-differences between head and SFR observations, and (2) the difference in heads between the top and bottom layers at each observation point. The new .csv files are named `heads.tdiff.csv`,`sfr.tdiff.csv` and `heads.vdiff.csv` respectively.\n",
    "\n",
    "First, lets load the function here and run it so you can see what happens. (And to make sure that the observation files are in the template folder!) \n",
    "\n",
    "Run the next cell, then inspect the template folder. You should see three new csv files. These are the new secondary observations calculated by the post-processing function."
   ]
  },
  {
   "cell_type": "code",
   "execution_count": 55,
   "metadata": {
    "execution": {
     "iopub.execute_input": "2022-04-11T03:52:05.282303Z",
     "iopub.status.busy": "2022-04-11T03:52:05.281249Z",
     "iopub.status.idle": "2022-04-11T03:52:05.310643Z",
     "shell.execute_reply": "2022-04-11T03:52:05.309644Z"
    }
   },
   "outputs": [
    {
     "name": "stdout",
     "output_type": "stream",
     "text": [
      "Secondary observation files processed.\n"
     ]
    }
   ],
   "source": [
    "# run the helper function\n",
    "helpers.process_secondary_obs(ws=template_ws)"
   ]
  },
  {
   "cell_type": "code",
   "execution_count": 56,
   "metadata": {
    "execution": {
     "iopub.execute_input": "2022-04-11T03:52:05.313639Z",
     "iopub.status.busy": "2022-04-11T03:52:05.312642Z",
     "iopub.status.idle": "2022-04-11T03:52:05.325029Z",
     "shell.execute_reply": "2022-04-11T03:52:05.326025Z"
    }
   },
   "outputs": [
    {
     "data": {
      "text/plain": [
       "['sfr.tdiff.csv',\n",
       " 'inc.csv',\n",
       " 'mult2model_info.csv',\n",
       " 'heads.vdiff.csv',\n",
       " 'heads.csv',\n",
       " 'sfr.csv',\n",
       " 'cum.csv',\n",
       " 'heads.tdiff.csv']"
      ]
     },
     "execution_count": 56,
     "metadata": {},
     "output_type": "execute_result"
    }
   ],
   "source": [
    "[f for f in os.listdir(template_ws) if f.endswith(\".csv\")]"
   ]
  },
  {
   "cell_type": "markdown",
   "metadata": {},
   "source": [
    "OK, so now let's add this function to the `forward_run.py` script."
   ]
  },
  {
   "cell_type": "code",
   "execution_count": 57,
   "metadata": {
    "execution": {
     "iopub.execute_input": "2022-04-11T03:52:05.328875Z",
     "iopub.status.busy": "2022-04-11T03:52:05.328875Z",
     "iopub.status.idle": "2022-04-11T03:52:05.341597Z",
     "shell.execute_reply": "2022-04-11T03:52:05.340564Z"
    }
   },
   "outputs": [],
   "source": [
    "pf.add_py_function(\"helpers.py\", # the file which contains the function\n",
    "                    \"process_secondary_obs(ws='.')\", #the function, making sure to specify any arguments it may requrie\n",
    "                    is_pre_cmd=False) # whether it runs before the model system command, or after. In this case, after."
   ]
  },
  {
   "cell_type": "markdown",
   "metadata": {},
   "source": [
    "And, boom! Bob's your uncle. As easy as that.\n",
    "\n",
    "Now, of course we want to add these observations to `PstFrom` as well:"
   ]
  },
  {
   "cell_type": "code",
   "execution_count": 58,
   "metadata": {
    "execution": {
     "iopub.execute_input": "2022-04-11T03:52:05.347581Z",
     "iopub.status.busy": "2022-04-11T03:52:05.347581Z",
     "iopub.status.idle": "2022-04-11T03:52:05.450947Z",
     "shell.execute_reply": "2022-04-11T03:52:05.450947Z"
    }
   },
   "outputs": [],
   "source": [
    "\n",
    "df = pd.read_csv(os.path.join(template_ws, \"sfr.tdiff.csv\"), index_col=0)\n",
    "_ = pf.add_observations(\"sfr.tdiff.csv\", # the model output file to read\n",
    "                            insfile=\"sfr.tdiff.csv.ins\", #optional, the instruction file name\n",
    "                            index_cols=\"time\", #column header to use as index; can also use column number (zero-based) instead of the header name\n",
    "                            use_cols=list(df.columns.values), #names of columns that include observation values; can also use column number (zero-based) instead of the header name\n",
    "                            prefix=\"sfrtd\") #prefix to all observation \n",
    "                            \n",
    "df = pd.read_csv(os.path.join(template_ws, \"heads.tdiff.csv\"), index_col=0)\n",
    "_ = pf.add_observations(\"heads.tdiff.csv\", # the model output file to read\n",
    "                            insfile=\"heads.tdiff.csv.ins\", #optional, the instruction file name\n",
    "                            index_cols=\"time\", #column header to use as index; can also use column number (zero-based) instead of the header name\n",
    "                            use_cols=list(df.columns.values), #names of columns that include observation values; can also use column number (zero-based) instead of the header name\n",
    "                            prefix=\"hdstd\") #prefix to all observation names\n",
    "\n",
    "df = pd.read_csv(os.path.join(template_ws, \"heads.vdiff.csv\"), index_col=0)\n",
    "_ = pf.add_observations(\"heads.vdiff.csv\", # the model output file to read\n",
    "                            insfile=\"heads.vdiff.csv.ins\", #optional, the instruction file name\n",
    "                            index_cols=\"time\", #column header to use as index; can also use column number (zero-based) instead of the header name\n",
    "                            use_cols=list(df.columns.values), #names of columns that include observation values; can also use column number (zero-based) instead of the header name\n",
    "                            prefix=\"hdsvd\") #prefix to all observation names"
   ]
  },
  {
   "cell_type": "markdown",
   "metadata": {},
   "source": [
    "Remember to re-build the Pst control file:"
   ]
  },
  {
   "cell_type": "code",
   "execution_count": 59,
   "metadata": {
    "execution": {
     "iopub.execute_input": "2022-04-11T03:52:05.479869Z",
     "iopub.status.busy": "2022-04-11T03:52:05.459962Z",
     "iopub.status.idle": "2022-04-11T03:52:07.388051Z",
     "shell.execute_reply": "2022-04-11T03:52:07.387054Z"
    }
   },
   "outputs": [
    {
     "name": "stdout",
     "output_type": "stream",
     "text": [
      "noptmax:0, npar_adj:12052, nnz_obs:4625\n"
     ]
    }
   ],
   "source": [
    "pst = pf.build_pst()"
   ]
  },
  {
   "cell_type": "code",
   "execution_count": 60,
   "metadata": {},
   "outputs": [
    {
     "name": "stdout",
     "output_type": "stream",
     "text": [
      "import os\n",
      "import multiprocessing as mp\n",
      "import numpy as np\n",
      "import pandas as pd\n",
      "import pyemu\n",
      "\n",
      "# function added thru PstFrom.add_py_function()\n",
      "def extract_hds_arrays_and_list_dfs():\n",
      "    import flopy\n",
      "    hds = flopy.utils.HeadFile(\"freyberg6_freyberg.hds\")\n",
      "    arr = hds.get_data()\n",
      "    for i,a in enumerate(arr):\n",
      "        np.savetxt(\"hdslay{0}.txt\".format(i+1),a,fmt=\"%15.6E\")\n",
      "    lst = flopy.utils.Mf6ListBudget(\"freyberg6.lst\")\n",
      "    inc,cum = lst.get_dataframes(diff=True,start_datetime=None)\n",
      "    inc.columns = inc.columns.map(lambda x: x.lower().replace(\"_\",\"-\"))\n",
      "    cum.columns = cum.columns.map(lambda x: x.lower().replace(\"_\", \"-\"))\n",
      "    inc.index.name = \"totim\"\n",
      "    cum.index.name = \"totim\"\n",
      "    inc.to_csv(\"inc.csv\")\n",
      "    cum.to_csv(\"cum.csv\")\n",
      "\n",
      "\n",
      "\n",
      "\n",
      "# function added thru PstFrom.add_py_function()\n",
      "def process_secondary_obs(ws='.'):\n",
      "    # load dependencies insde the function so that they get carried over to forward_run.py by PstFrom\n",
      "    import os\n",
      "    import pandas as pd\n",
      "\n",
      "    def write_tdif_obs(orgf, newf, ws='.'):\n",
      "        df = pd.read_csv(os.path.join(ws,orgf), index_col='time')\n",
      "        df = df - df.iloc[0, :]\n",
      "        df.to_csv(os.path.join(ws,newf))\n",
      "        return\n",
      "\n",
      "    # write the tdiff observation csv's\n",
      "    write_tdif_obs('heads.csv', 'heads.tdiff.csv', ws)\n",
      "    write_tdif_obs('sfr.csv', 'sfr.tdiff.csv', ws)\n",
      "\n",
      "    #write the vdiff obs csv\n",
      "    # this is frought with the potential for bugs, but oh well...\n",
      "    df = pd.read_csv(os.path.join(ws,'heads.csv'), index_col='time')\n",
      "    df.sort_index(axis=1, inplace=True)\n",
      "    dh = df.loc[:, [i for i in df.columns if i.startswith('TRGW-0-')]]\n",
      "    dh = dh - df.loc[:, [i for i in df.columns if i.startswith('TRGW-2-')]].values\n",
      "    dh.to_csv(os.path.join(ws,'heads.vdiff.csv'))\n",
      "\n",
      "    print('Secondary observation files processed.')\n",
      "    return\n",
      "\n",
      "\n",
      "\n",
      "def main():\n",
      "\n",
      "    try:\n",
      "       os.remove(r'heads.csv')\n",
      "    except Exception as e:\n",
      "       print(r'error removing tmp file:heads.csv')\n",
      "    try:\n",
      "       os.remove(r'sfr.csv')\n",
      "    except Exception as e:\n",
      "       print(r'error removing tmp file:sfr.csv')\n",
      "    try:\n",
      "       os.remove(r'hdslay1.txt')\n",
      "    except Exception as e:\n",
      "       print(r'error removing tmp file:hdslay1.txt')\n",
      "    try:\n",
      "       os.remove(r'hdslay2.txt')\n",
      "    except Exception as e:\n",
      "       print(r'error removing tmp file:hdslay2.txt')\n",
      "    try:\n",
      "       os.remove(r'hdslay3.txt')\n",
      "    except Exception as e:\n",
      "       print(r'error removing tmp file:hdslay3.txt')\n",
      "    try:\n",
      "       os.remove(r'inc.csv')\n",
      "    except Exception as e:\n",
      "       print(r'error removing tmp file:inc.csv')\n",
      "    try:\n",
      "       os.remove(r'cum.csv')\n",
      "    except Exception as e:\n",
      "       print(r'error removing tmp file:cum.csv')\n",
      "    try:\n",
      "       os.remove(r'sfr.tdiff.csv')\n",
      "    except Exception as e:\n",
      "       print(r'error removing tmp file:sfr.tdiff.csv')\n",
      "    try:\n",
      "       os.remove(r'heads.tdiff.csv')\n",
      "    except Exception as e:\n",
      "       print(r'error removing tmp file:heads.tdiff.csv')\n",
      "    try:\n",
      "       os.remove(r'heads.vdiff.csv')\n",
      "    except Exception as e:\n",
      "       print(r'error removing tmp file:heads.vdiff.csv')\n",
      "    pyemu.helpers.apply_list_and_array_pars(arr_par_file='mult2model_info.csv',chunk_len=50)\n",
      "    pyemu.os_utils.run(r'mf6')\n",
      "\n",
      "    pyemu.os_utils.run(r'mp7 freyberg_mp.mpsim')\n",
      "\n",
      "    extract_hds_arrays_and_list_dfs()\n",
      "    process_secondary_obs(ws='.')\n",
      "\n",
      "if __name__ == '__main__':\n",
      "    mp.freeze_support()\n",
      "    main()\n",
      "\n"
     ]
    }
   ],
   "source": [
    "_ = [print(line.rstrip()) for line in open(os.path.join(template_ws,\"forward_run.py\"))]"
   ]
  },
  {
   "cell_type": "markdown",
   "metadata": {},
   "source": [
    "Now we see that `extract_hds_array_and_list_dfs()` has been added to the forward run script and it is being called after MF6 runs. "
   ]
  },
  {
   "cell_type": "code",
   "execution_count": 61,
   "metadata": {
    "execution": {
     "iopub.execute_input": "2022-04-11T03:52:07.406002Z",
     "iopub.status.busy": "2022-04-11T03:52:07.406002Z",
     "iopub.status.idle": "2022-04-11T03:52:07.416087Z",
     "shell.execute_reply": "2022-04-11T03:52:07.415109Z"
    }
   },
   "outputs": [
    {
     "data": {
      "text/html": [
       "<div>\n",
       "<style scoped>\n",
       "    .dataframe tbody tr th:only-of-type {\n",
       "        vertical-align: middle;\n",
       "    }\n",
       "\n",
       "    .dataframe tbody tr th {\n",
       "        vertical-align: top;\n",
       "    }\n",
       "\n",
       "    .dataframe thead th {\n",
       "        text-align: right;\n",
       "    }\n",
       "</style>\n",
       "<table border=\"1\" class=\"dataframe\">\n",
       "  <thead>\n",
       "    <tr style=\"text-align: right;\">\n",
       "      <th></th>\n",
       "      <th>obsnme</th>\n",
       "      <th>obsval</th>\n",
       "      <th>weight</th>\n",
       "      <th>obgnme</th>\n",
       "      <th>oname</th>\n",
       "      <th>otype</th>\n",
       "      <th>usecol</th>\n",
       "      <th>time</th>\n",
       "      <th>i</th>\n",
       "      <th>j</th>\n",
       "      <th>totim</th>\n",
       "    </tr>\n",
       "  </thead>\n",
       "  <tbody>\n",
       "    <tr>\n",
       "      <th>oname:hds_otype:lst_usecol:trgw-0-13-10_time:3652.5</th>\n",
       "      <td>oname:hds_otype:lst_usecol:trgw-0-13-10_time:3652.5</td>\n",
       "      <td>34.326872</td>\n",
       "      <td>1.0</td>\n",
       "      <td>oname:hds_otype:lst_usecol:trgw-0-13-10</td>\n",
       "      <td>hds</td>\n",
       "      <td>lst</td>\n",
       "      <td>trgw-0-13-10</td>\n",
       "      <td>3652.5</td>\n",
       "      <td>NaN</td>\n",
       "      <td>NaN</td>\n",
       "      <td>NaN</td>\n",
       "    </tr>\n",
       "    <tr>\n",
       "      <th>oname:hds_otype:lst_usecol:trgw-0-13-10_time:3683.5</th>\n",
       "      <td>oname:hds_otype:lst_usecol:trgw-0-13-10_time:3683.5</td>\n",
       "      <td>34.440950</td>\n",
       "      <td>1.0</td>\n",
       "      <td>oname:hds_otype:lst_usecol:trgw-0-13-10</td>\n",
       "      <td>hds</td>\n",
       "      <td>lst</td>\n",
       "      <td>trgw-0-13-10</td>\n",
       "      <td>3683.5</td>\n",
       "      <td>NaN</td>\n",
       "      <td>NaN</td>\n",
       "      <td>NaN</td>\n",
       "    </tr>\n",
       "    <tr>\n",
       "      <th>oname:hds_otype:lst_usecol:trgw-0-13-10_time:3712.5</th>\n",
       "      <td>oname:hds_otype:lst_usecol:trgw-0-13-10_time:3712.5</td>\n",
       "      <td>34.534811</td>\n",
       "      <td>1.0</td>\n",
       "      <td>oname:hds_otype:lst_usecol:trgw-0-13-10</td>\n",
       "      <td>hds</td>\n",
       "      <td>lst</td>\n",
       "      <td>trgw-0-13-10</td>\n",
       "      <td>3712.5</td>\n",
       "      <td>NaN</td>\n",
       "      <td>NaN</td>\n",
       "      <td>NaN</td>\n",
       "    </tr>\n",
       "    <tr>\n",
       "      <th>oname:hds_otype:lst_usecol:trgw-0-13-10_time:3743.5</th>\n",
       "      <td>oname:hds_otype:lst_usecol:trgw-0-13-10_time:3743.5</td>\n",
       "      <td>34.582875</td>\n",
       "      <td>1.0</td>\n",
       "      <td>oname:hds_otype:lst_usecol:trgw-0-13-10</td>\n",
       "      <td>hds</td>\n",
       "      <td>lst</td>\n",
       "      <td>trgw-0-13-10</td>\n",
       "      <td>3743.5</td>\n",
       "      <td>NaN</td>\n",
       "      <td>NaN</td>\n",
       "      <td>NaN</td>\n",
       "    </tr>\n",
       "    <tr>\n",
       "      <th>oname:hds_otype:lst_usecol:trgw-0-13-10_time:3773.5</th>\n",
       "      <td>oname:hds_otype:lst_usecol:trgw-0-13-10_time:3773.5</td>\n",
       "      <td>34.561764</td>\n",
       "      <td>1.0</td>\n",
       "      <td>oname:hds_otype:lst_usecol:trgw-0-13-10</td>\n",
       "      <td>hds</td>\n",
       "      <td>lst</td>\n",
       "      <td>trgw-0-13-10</td>\n",
       "      <td>3773.5</td>\n",
       "      <td>NaN</td>\n",
       "      <td>NaN</td>\n",
       "      <td>NaN</td>\n",
       "    </tr>\n",
       "    <tr>\n",
       "      <th>...</th>\n",
       "      <td>...</td>\n",
       "      <td>...</td>\n",
       "      <td>...</td>\n",
       "      <td>...</td>\n",
       "      <td>...</td>\n",
       "      <td>...</td>\n",
       "      <td>...</td>\n",
       "      <td>...</td>\n",
       "      <td>...</td>\n",
       "      <td>...</td>\n",
       "      <td>...</td>\n",
       "    </tr>\n",
       "    <tr>\n",
       "      <th>oname:hdsvd_otype:lst_usecol:trgw-0-9-1_time:4261.5</th>\n",
       "      <td>oname:hdsvd_otype:lst_usecol:trgw-0-9-1_time:4261.5</td>\n",
       "      <td>0.006427</td>\n",
       "      <td>1.0</td>\n",
       "      <td>oname:hdsvd_otype:lst_usecol:trgw-0-9-1</td>\n",
       "      <td>hdsvd</td>\n",
       "      <td>lst</td>\n",
       "      <td>trgw-0-9-1</td>\n",
       "      <td>4261.5</td>\n",
       "      <td>NaN</td>\n",
       "      <td>NaN</td>\n",
       "      <td>NaN</td>\n",
       "    </tr>\n",
       "    <tr>\n",
       "      <th>oname:hdsvd_otype:lst_usecol:trgw-0-9-1_time:4291.5</th>\n",
       "      <td>oname:hdsvd_otype:lst_usecol:trgw-0-9-1_time:4291.5</td>\n",
       "      <td>0.006136</td>\n",
       "      <td>1.0</td>\n",
       "      <td>oname:hdsvd_otype:lst_usecol:trgw-0-9-1</td>\n",
       "      <td>hdsvd</td>\n",
       "      <td>lst</td>\n",
       "      <td>trgw-0-9-1</td>\n",
       "      <td>4291.5</td>\n",
       "      <td>NaN</td>\n",
       "      <td>NaN</td>\n",
       "      <td>NaN</td>\n",
       "    </tr>\n",
       "    <tr>\n",
       "      <th>oname:hdsvd_otype:lst_usecol:trgw-0-9-1_time:4322.5</th>\n",
       "      <td>oname:hdsvd_otype:lst_usecol:trgw-0-9-1_time:4322.5</td>\n",
       "      <td>0.005765</td>\n",
       "      <td>1.0</td>\n",
       "      <td>oname:hdsvd_otype:lst_usecol:trgw-0-9-1</td>\n",
       "      <td>hdsvd</td>\n",
       "      <td>lst</td>\n",
       "      <td>trgw-0-9-1</td>\n",
       "      <td>4322.5</td>\n",
       "      <td>NaN</td>\n",
       "      <td>NaN</td>\n",
       "      <td>NaN</td>\n",
       "    </tr>\n",
       "    <tr>\n",
       "      <th>oname:hdsvd_otype:lst_usecol:trgw-0-9-1_time:4352.5</th>\n",
       "      <td>oname:hdsvd_otype:lst_usecol:trgw-0-9-1_time:4352.5</td>\n",
       "      <td>0.005441</td>\n",
       "      <td>1.0</td>\n",
       "      <td>oname:hdsvd_otype:lst_usecol:trgw-0-9-1</td>\n",
       "      <td>hdsvd</td>\n",
       "      <td>lst</td>\n",
       "      <td>trgw-0-9-1</td>\n",
       "      <td>4352.5</td>\n",
       "      <td>NaN</td>\n",
       "      <td>NaN</td>\n",
       "      <td>NaN</td>\n",
       "    </tr>\n",
       "    <tr>\n",
       "      <th>oname:hdsvd_otype:lst_usecol:trgw-0-9-1_time:4383.5</th>\n",
       "      <td>oname:hdsvd_otype:lst_usecol:trgw-0-9-1_time:4383.5</td>\n",
       "      <td>0.005251</td>\n",
       "      <td>1.0</td>\n",
       "      <td>oname:hdsvd_otype:lst_usecol:trgw-0-9-1</td>\n",
       "      <td>hdsvd</td>\n",
       "      <td>lst</td>\n",
       "      <td>trgw-0-9-1</td>\n",
       "      <td>4383.5</td>\n",
       "      <td>NaN</td>\n",
       "      <td>NaN</td>\n",
       "      <td>NaN</td>\n",
       "    </tr>\n",
       "  </tbody>\n",
       "</table>\n",
       "<p>4625 rows × 11 columns</p>\n",
       "</div>"
      ],
      "text/plain": [
       "                                                                                                  obsnme  \\\n",
       "oname:hds_otype:lst_usecol:trgw-0-13-10_time:3652.5  oname:hds_otype:lst_usecol:trgw-0-13-10_time:3652.5   \n",
       "oname:hds_otype:lst_usecol:trgw-0-13-10_time:3683.5  oname:hds_otype:lst_usecol:trgw-0-13-10_time:3683.5   \n",
       "oname:hds_otype:lst_usecol:trgw-0-13-10_time:3712.5  oname:hds_otype:lst_usecol:trgw-0-13-10_time:3712.5   \n",
       "oname:hds_otype:lst_usecol:trgw-0-13-10_time:3743.5  oname:hds_otype:lst_usecol:trgw-0-13-10_time:3743.5   \n",
       "oname:hds_otype:lst_usecol:trgw-0-13-10_time:3773.5  oname:hds_otype:lst_usecol:trgw-0-13-10_time:3773.5   \n",
       "...                                                                                                  ...   \n",
       "oname:hdsvd_otype:lst_usecol:trgw-0-9-1_time:4261.5  oname:hdsvd_otype:lst_usecol:trgw-0-9-1_time:4261.5   \n",
       "oname:hdsvd_otype:lst_usecol:trgw-0-9-1_time:4291.5  oname:hdsvd_otype:lst_usecol:trgw-0-9-1_time:4291.5   \n",
       "oname:hdsvd_otype:lst_usecol:trgw-0-9-1_time:4322.5  oname:hdsvd_otype:lst_usecol:trgw-0-9-1_time:4322.5   \n",
       "oname:hdsvd_otype:lst_usecol:trgw-0-9-1_time:4352.5  oname:hdsvd_otype:lst_usecol:trgw-0-9-1_time:4352.5   \n",
       "oname:hdsvd_otype:lst_usecol:trgw-0-9-1_time:4383.5  oname:hdsvd_otype:lst_usecol:trgw-0-9-1_time:4383.5   \n",
       "\n",
       "                                                        obsval  weight  \\\n",
       "oname:hds_otype:lst_usecol:trgw-0-13-10_time:3652.5  34.326872     1.0   \n",
       "oname:hds_otype:lst_usecol:trgw-0-13-10_time:3683.5  34.440950     1.0   \n",
       "oname:hds_otype:lst_usecol:trgw-0-13-10_time:3712.5  34.534811     1.0   \n",
       "oname:hds_otype:lst_usecol:trgw-0-13-10_time:3743.5  34.582875     1.0   \n",
       "oname:hds_otype:lst_usecol:trgw-0-13-10_time:3773.5  34.561764     1.0   \n",
       "...                                                        ...     ...   \n",
       "oname:hdsvd_otype:lst_usecol:trgw-0-9-1_time:4261.5   0.006427     1.0   \n",
       "oname:hdsvd_otype:lst_usecol:trgw-0-9-1_time:4291.5   0.006136     1.0   \n",
       "oname:hdsvd_otype:lst_usecol:trgw-0-9-1_time:4322.5   0.005765     1.0   \n",
       "oname:hdsvd_otype:lst_usecol:trgw-0-9-1_time:4352.5   0.005441     1.0   \n",
       "oname:hdsvd_otype:lst_usecol:trgw-0-9-1_time:4383.5   0.005251     1.0   \n",
       "\n",
       "                                                                                      obgnme  \\\n",
       "oname:hds_otype:lst_usecol:trgw-0-13-10_time:3652.5  oname:hds_otype:lst_usecol:trgw-0-13-10   \n",
       "oname:hds_otype:lst_usecol:trgw-0-13-10_time:3683.5  oname:hds_otype:lst_usecol:trgw-0-13-10   \n",
       "oname:hds_otype:lst_usecol:trgw-0-13-10_time:3712.5  oname:hds_otype:lst_usecol:trgw-0-13-10   \n",
       "oname:hds_otype:lst_usecol:trgw-0-13-10_time:3743.5  oname:hds_otype:lst_usecol:trgw-0-13-10   \n",
       "oname:hds_otype:lst_usecol:trgw-0-13-10_time:3773.5  oname:hds_otype:lst_usecol:trgw-0-13-10   \n",
       "...                                                                                      ...   \n",
       "oname:hdsvd_otype:lst_usecol:trgw-0-9-1_time:4261.5  oname:hdsvd_otype:lst_usecol:trgw-0-9-1   \n",
       "oname:hdsvd_otype:lst_usecol:trgw-0-9-1_time:4291.5  oname:hdsvd_otype:lst_usecol:trgw-0-9-1   \n",
       "oname:hdsvd_otype:lst_usecol:trgw-0-9-1_time:4322.5  oname:hdsvd_otype:lst_usecol:trgw-0-9-1   \n",
       "oname:hdsvd_otype:lst_usecol:trgw-0-9-1_time:4352.5  oname:hdsvd_otype:lst_usecol:trgw-0-9-1   \n",
       "oname:hdsvd_otype:lst_usecol:trgw-0-9-1_time:4383.5  oname:hdsvd_otype:lst_usecol:trgw-0-9-1   \n",
       "\n",
       "                                                     oname otype  \\\n",
       "oname:hds_otype:lst_usecol:trgw-0-13-10_time:3652.5    hds   lst   \n",
       "oname:hds_otype:lst_usecol:trgw-0-13-10_time:3683.5    hds   lst   \n",
       "oname:hds_otype:lst_usecol:trgw-0-13-10_time:3712.5    hds   lst   \n",
       "oname:hds_otype:lst_usecol:trgw-0-13-10_time:3743.5    hds   lst   \n",
       "oname:hds_otype:lst_usecol:trgw-0-13-10_time:3773.5    hds   lst   \n",
       "...                                                    ...   ...   \n",
       "oname:hdsvd_otype:lst_usecol:trgw-0-9-1_time:4261.5  hdsvd   lst   \n",
       "oname:hdsvd_otype:lst_usecol:trgw-0-9-1_time:4291.5  hdsvd   lst   \n",
       "oname:hdsvd_otype:lst_usecol:trgw-0-9-1_time:4322.5  hdsvd   lst   \n",
       "oname:hdsvd_otype:lst_usecol:trgw-0-9-1_time:4352.5  hdsvd   lst   \n",
       "oname:hdsvd_otype:lst_usecol:trgw-0-9-1_time:4383.5  hdsvd   lst   \n",
       "\n",
       "                                                           usecol    time  \\\n",
       "oname:hds_otype:lst_usecol:trgw-0-13-10_time:3652.5  trgw-0-13-10  3652.5   \n",
       "oname:hds_otype:lst_usecol:trgw-0-13-10_time:3683.5  trgw-0-13-10  3683.5   \n",
       "oname:hds_otype:lst_usecol:trgw-0-13-10_time:3712.5  trgw-0-13-10  3712.5   \n",
       "oname:hds_otype:lst_usecol:trgw-0-13-10_time:3743.5  trgw-0-13-10  3743.5   \n",
       "oname:hds_otype:lst_usecol:trgw-0-13-10_time:3773.5  trgw-0-13-10  3773.5   \n",
       "...                                                           ...     ...   \n",
       "oname:hdsvd_otype:lst_usecol:trgw-0-9-1_time:4261.5    trgw-0-9-1  4261.5   \n",
       "oname:hdsvd_otype:lst_usecol:trgw-0-9-1_time:4291.5    trgw-0-9-1  4291.5   \n",
       "oname:hdsvd_otype:lst_usecol:trgw-0-9-1_time:4322.5    trgw-0-9-1  4322.5   \n",
       "oname:hdsvd_otype:lst_usecol:trgw-0-9-1_time:4352.5    trgw-0-9-1  4352.5   \n",
       "oname:hdsvd_otype:lst_usecol:trgw-0-9-1_time:4383.5    trgw-0-9-1  4383.5   \n",
       "\n",
       "                                                       i    j totim  \n",
       "oname:hds_otype:lst_usecol:trgw-0-13-10_time:3652.5  NaN  NaN   NaN  \n",
       "oname:hds_otype:lst_usecol:trgw-0-13-10_time:3683.5  NaN  NaN   NaN  \n",
       "oname:hds_otype:lst_usecol:trgw-0-13-10_time:3712.5  NaN  NaN   NaN  \n",
       "oname:hds_otype:lst_usecol:trgw-0-13-10_time:3743.5  NaN  NaN   NaN  \n",
       "oname:hds_otype:lst_usecol:trgw-0-13-10_time:3773.5  NaN  NaN   NaN  \n",
       "...                                                  ...  ...   ...  \n",
       "oname:hdsvd_otype:lst_usecol:trgw-0-9-1_time:4261.5  NaN  NaN   NaN  \n",
       "oname:hdsvd_otype:lst_usecol:trgw-0-9-1_time:4291.5  NaN  NaN   NaN  \n",
       "oname:hdsvd_otype:lst_usecol:trgw-0-9-1_time:4322.5  NaN  NaN   NaN  \n",
       "oname:hdsvd_otype:lst_usecol:trgw-0-9-1_time:4352.5  NaN  NaN   NaN  \n",
       "oname:hdsvd_otype:lst_usecol:trgw-0-9-1_time:4383.5  NaN  NaN   NaN  \n",
       "\n",
       "[4625 rows x 11 columns]"
      ]
     },
     "execution_count": 61,
     "metadata": {},
     "output_type": "execute_result"
    }
   ],
   "source": [
    "obs = pst.observation_data\n",
    "obs"
   ]
  },
  {
   "cell_type": "markdown",
   "metadata": {},
   "source": [
    "### 7. After Building the Control File\n",
    "\n",
    "At this point, we can do some additional modifications that would typically be done that are problem specific.  Here we can tweak the setup, specifying things such as observation weights, parameter bounds, transforms, control data, etc.\n",
    "\n",
    "Note that any modifications made after calling `PstFrom.build_pst()` will only exist in memory - you need to call `pf.pst.write()` to record these changes to the control file on disk.  Also note that if you call `PstFrom.build_pst()` after making some changes, these changes will be lost.  \n",
    "\n",
    "For the current case, the main thing we haven't addressed are the observations from custom *.ins files,  observation weights, parameter group INCTYP's and forecasts.\n",
    "\n",
    "We will do so now."
   ]
  },
  {
   "cell_type": "markdown",
   "metadata": {},
   "source": [
    "#### 7.1. Add Observations from INS files\n",
    "\n",
    "Recall that we wish to include observations of particle end time and status. As mentioned earlier, MP7 output files are not ina nicely organized tabular format - so we need to construct a custom instruction file. We will do this now:"
   ]
  },
  {
   "cell_type": "code",
   "execution_count": 62,
   "metadata": {},
   "outputs": [],
   "source": [
    "# write a really simple instruction file to read the MODPATH end point file\n",
    "out_file = \"freyberg_mp.mpend\"\n",
    "ins_file = out_file + \".ins\"\n",
    "with open(os.path.join(template_ws, ins_file),'w') as f:\n",
    "    f.write(\"pif ~\\n\")\n",
    "    f.write(\"l7 w w w w !part_status! w w !part_time!\\n\")\n"
   ]
  },
  {
   "cell_type": "markdown",
   "metadata": {},
   "source": [
    "Now add these observations to the `Pst`:"
   ]
  },
  {
   "cell_type": "code",
   "execution_count": 63,
   "metadata": {},
   "outputs": [
    {
     "name": "stdout",
     "output_type": "stream",
     "text": [
      "2 obs added from instruction file freyberg6_template/./freyberg_mp.mpend.ins\n"
     ]
    },
    {
     "data": {
      "text/html": [
       "<div>\n",
       "<style scoped>\n",
       "    .dataframe tbody tr th:only-of-type {\n",
       "        vertical-align: middle;\n",
       "    }\n",
       "\n",
       "    .dataframe tbody tr th {\n",
       "        vertical-align: top;\n",
       "    }\n",
       "\n",
       "    .dataframe thead th {\n",
       "        text-align: right;\n",
       "    }\n",
       "</style>\n",
       "<table border=\"1\" class=\"dataframe\">\n",
       "  <thead>\n",
       "    <tr style=\"text-align: right;\">\n",
       "      <th></th>\n",
       "      <th>obsnme</th>\n",
       "      <th>obsval</th>\n",
       "      <th>weight</th>\n",
       "      <th>obgnme</th>\n",
       "      <th>oname</th>\n",
       "      <th>otype</th>\n",
       "      <th>usecol</th>\n",
       "      <th>time</th>\n",
       "      <th>i</th>\n",
       "      <th>j</th>\n",
       "      <th>totim</th>\n",
       "    </tr>\n",
       "  </thead>\n",
       "  <tbody>\n",
       "    <tr>\n",
       "      <th>part_status</th>\n",
       "      <td>part_status</td>\n",
       "      <td>3.0000</td>\n",
       "      <td>1.0</td>\n",
       "      <td>part</td>\n",
       "      <td>NaN</td>\n",
       "      <td>NaN</td>\n",
       "      <td>NaN</td>\n",
       "      <td>NaN</td>\n",
       "      <td>NaN</td>\n",
       "      <td>NaN</td>\n",
       "      <td>NaN</td>\n",
       "    </tr>\n",
       "    <tr>\n",
       "      <th>part_time</th>\n",
       "      <td>part_time</td>\n",
       "      <td>211849.2446</td>\n",
       "      <td>1.0</td>\n",
       "      <td>part</td>\n",
       "      <td>NaN</td>\n",
       "      <td>NaN</td>\n",
       "      <td>NaN</td>\n",
       "      <td>NaN</td>\n",
       "      <td>NaN</td>\n",
       "      <td>NaN</td>\n",
       "      <td>NaN</td>\n",
       "    </tr>\n",
       "  </tbody>\n",
       "</table>\n",
       "</div>"
      ],
      "text/plain": [
       "                  obsnme       obsval  weight obgnme oname otype usecol time  \\\n",
       "part_status  part_status       3.0000     1.0   part   NaN   NaN    NaN  NaN   \n",
       "part_time      part_time  211849.2446     1.0   part   NaN   NaN    NaN  NaN   \n",
       "\n",
       "               i    j totim  \n",
       "part_status  NaN  NaN   NaN  \n",
       "part_time    NaN  NaN   NaN  "
      ]
     },
     "execution_count": 63,
     "metadata": {},
     "output_type": "execute_result"
    }
   ],
   "source": [
    "pst.add_observations(ins_file=os.path.join(template_ws, ins_file),\n",
    "                    out_file=os.path.join(template_ws, out_file),\n",
    "                            pst_path='.')\n",
    "\n",
    "# and then check what changed                            \n",
    "obs = pst.observation_data\n",
    "obs.loc[obs.obsnme=='part_status', 'obgnme'] = 'part'\n",
    "obs.loc[obs.obsnme=='part_time', 'obgnme'] = 'part'\n",
    "\n",
    "obs.iloc[-2:]"
   ]
  },
  {
   "cell_type": "markdown",
   "metadata": {},
   "source": [
    "#### 7.2. Parameters with Zero as Intial Value\n",
    "\n",
    "Recall that we assigned additive parameters to the GHB heads. Our initial parameter values for these parameter types were set as 0 (zero). This creates a wee bit of trouble when calculating derivatives. There are a couple of ways we could get around it. One way is to add an \"offset\" to the parameter intial values and to the parmaeter bounds. Another is to use \"absolute\" increment types (INCTYP). See the PEST manual or PEST++ user guides for descriptions of increment types. \n",
    "\n",
    "We will apply both here. \n",
    "\n",
    "We will assign INCTYP as 'absolute'. We will leave DERINC as 0.01 (the default). It is a reasonable value in this case."
   ]
  },
  {
   "cell_type": "code",
   "execution_count": 64,
   "metadata": {
    "execution": {
     "iopub.execute_input": "2022-04-11T03:52:07.728608Z",
     "iopub.status.busy": "2022-04-11T03:52:07.728608Z",
     "iopub.status.idle": "2022-04-11T03:52:07.740599Z",
     "shell.execute_reply": "2022-04-11T03:52:07.740599Z"
    }
   },
   "outputs": [
    {
     "data": {
      "text/plain": [
       "['ghbheadgr', 'ghbheadcn']"
      ]
     },
     "execution_count": 64,
     "metadata": {},
     "output_type": "execute_result"
    }
   ],
   "source": [
    "head_pargps = [i for i in pst.adj_par_groups if 'head' in i]\n",
    "head_pargps"
   ]
  },
  {
   "cell_type": "code",
   "execution_count": 65,
   "metadata": {
    "execution": {
     "iopub.execute_input": "2022-04-11T03:52:07.744554Z",
     "iopub.status.busy": "2022-04-11T03:52:07.744554Z",
     "iopub.status.idle": "2022-04-11T03:52:07.757045Z",
     "shell.execute_reply": "2022-04-11T03:52:07.757045Z"
    }
   },
   "outputs": [],
   "source": [
    "pst.parameter_groups.loc[head_pargps, 'inctyp'] = 'absolute'"
   ]
  },
  {
   "cell_type": "markdown",
   "metadata": {},
   "source": [
    "Now add the \"offset\" to parameter data entries:"
   ]
  },
  {
   "cell_type": "code",
   "execution_count": 66,
   "metadata": {
    "execution": {
     "iopub.execute_input": "2022-04-11T03:52:07.786932Z",
     "iopub.status.busy": "2022-04-11T03:52:07.785965Z",
     "iopub.status.idle": "2022-04-11T03:52:07.804994Z",
     "shell.execute_reply": "2022-04-11T03:52:07.803957Z"
    }
   },
   "outputs": [
    {
     "data": {
      "text/html": [
       "<div>\n",
       "<style scoped>\n",
       "    .dataframe tbody tr th:only-of-type {\n",
       "        vertical-align: middle;\n",
       "    }\n",
       "\n",
       "    .dataframe tbody tr th {\n",
       "        vertical-align: top;\n",
       "    }\n",
       "\n",
       "    .dataframe thead th {\n",
       "        text-align: right;\n",
       "    }\n",
       "</style>\n",
       "<table border=\"1\" class=\"dataframe\">\n",
       "  <thead>\n",
       "    <tr style=\"text-align: right;\">\n",
       "      <th></th>\n",
       "      <th>parnme</th>\n",
       "      <th>partrans</th>\n",
       "      <th>parchglim</th>\n",
       "      <th>parval1</th>\n",
       "      <th>parlbnd</th>\n",
       "      <th>parubnd</th>\n",
       "      <th>pargp</th>\n",
       "      <th>scale</th>\n",
       "      <th>offset</th>\n",
       "      <th>dercom</th>\n",
       "      <th>...</th>\n",
       "      <th>pstyle</th>\n",
       "      <th>i</th>\n",
       "      <th>j</th>\n",
       "      <th>x</th>\n",
       "      <th>y</th>\n",
       "      <th>zone</th>\n",
       "      <th>usecol</th>\n",
       "      <th>idx0</th>\n",
       "      <th>idx1</th>\n",
       "      <th>idx2</th>\n",
       "    </tr>\n",
       "  </thead>\n",
       "  <tbody>\n",
       "    <tr>\n",
       "      <th>pname:ghbheadgr_inst:0_ptype:gr_usecol:3_pstyle:a_idx0:1_idx1:39_idx2:8</th>\n",
       "      <td>pname:ghbheadgr_inst:0_ptype:gr_usecol:3_pstyle:a_idx0:1_idx1:39_idx2:8</td>\n",
       "      <td>none</td>\n",
       "      <td>relative</td>\n",
       "      <td>0.0</td>\n",
       "      <td>-2.0</td>\n",
       "      <td>2.0</td>\n",
       "      <td>ghbheadgr</td>\n",
       "      <td>1.0</td>\n",
       "      <td>0.0</td>\n",
       "      <td>1</td>\n",
       "      <td>...</td>\n",
       "      <td>a</td>\n",
       "      <td>NaN</td>\n",
       "      <td>NaN</td>\n",
       "      <td>NaN</td>\n",
       "      <td>NaN</td>\n",
       "      <td>NaN</td>\n",
       "      <td>3</td>\n",
       "      <td>1</td>\n",
       "      <td>39</td>\n",
       "      <td>8</td>\n",
       "    </tr>\n",
       "    <tr>\n",
       "      <th>pname:ghbheadgr_inst:0_ptype:gr_usecol:3_pstyle:a_idx0:2_idx1:39_idx2:13</th>\n",
       "      <td>pname:ghbheadgr_inst:0_ptype:gr_usecol:3_pstyle:a_idx0:2_idx1:39_idx2:13</td>\n",
       "      <td>none</td>\n",
       "      <td>relative</td>\n",
       "      <td>0.0</td>\n",
       "      <td>-2.0</td>\n",
       "      <td>2.0</td>\n",
       "      <td>ghbheadgr</td>\n",
       "      <td>1.0</td>\n",
       "      <td>0.0</td>\n",
       "      <td>1</td>\n",
       "      <td>...</td>\n",
       "      <td>a</td>\n",
       "      <td>NaN</td>\n",
       "      <td>NaN</td>\n",
       "      <td>NaN</td>\n",
       "      <td>NaN</td>\n",
       "      <td>NaN</td>\n",
       "      <td>3</td>\n",
       "      <td>2</td>\n",
       "      <td>39</td>\n",
       "      <td>13</td>\n",
       "    </tr>\n",
       "    <tr>\n",
       "      <th>pname:ghbheadgr_inst:0_ptype:gr_usecol:3_pstyle:a_idx0:1_idx1:39_idx2:11</th>\n",
       "      <td>pname:ghbheadgr_inst:0_ptype:gr_usecol:3_pstyle:a_idx0:1_idx1:39_idx2:11</td>\n",
       "      <td>none</td>\n",
       "      <td>relative</td>\n",
       "      <td>0.0</td>\n",
       "      <td>-2.0</td>\n",
       "      <td>2.0</td>\n",
       "      <td>ghbheadgr</td>\n",
       "      <td>1.0</td>\n",
       "      <td>0.0</td>\n",
       "      <td>1</td>\n",
       "      <td>...</td>\n",
       "      <td>a</td>\n",
       "      <td>NaN</td>\n",
       "      <td>NaN</td>\n",
       "      <td>NaN</td>\n",
       "      <td>NaN</td>\n",
       "      <td>NaN</td>\n",
       "      <td>3</td>\n",
       "      <td>1</td>\n",
       "      <td>39</td>\n",
       "      <td>11</td>\n",
       "    </tr>\n",
       "    <tr>\n",
       "      <th>pname:ghbheadgr_inst:0_ptype:gr_usecol:3_pstyle:a_idx0:1_idx1:39_idx2:14</th>\n",
       "      <td>pname:ghbheadgr_inst:0_ptype:gr_usecol:3_pstyle:a_idx0:1_idx1:39_idx2:14</td>\n",
       "      <td>none</td>\n",
       "      <td>relative</td>\n",
       "      <td>0.0</td>\n",
       "      <td>-2.0</td>\n",
       "      <td>2.0</td>\n",
       "      <td>ghbheadgr</td>\n",
       "      <td>1.0</td>\n",
       "      <td>0.0</td>\n",
       "      <td>1</td>\n",
       "      <td>...</td>\n",
       "      <td>a</td>\n",
       "      <td>NaN</td>\n",
       "      <td>NaN</td>\n",
       "      <td>NaN</td>\n",
       "      <td>NaN</td>\n",
       "      <td>NaN</td>\n",
       "      <td>3</td>\n",
       "      <td>1</td>\n",
       "      <td>39</td>\n",
       "      <td>14</td>\n",
       "    </tr>\n",
       "    <tr>\n",
       "      <th>pname:ghbheadgr_inst:0_ptype:gr_usecol:3_pstyle:a_idx0:0_idx1:39_idx2:9</th>\n",
       "      <td>pname:ghbheadgr_inst:0_ptype:gr_usecol:3_pstyle:a_idx0:0_idx1:39_idx2:9</td>\n",
       "      <td>none</td>\n",
       "      <td>relative</td>\n",
       "      <td>0.0</td>\n",
       "      <td>-2.0</td>\n",
       "      <td>2.0</td>\n",
       "      <td>ghbheadgr</td>\n",
       "      <td>1.0</td>\n",
       "      <td>0.0</td>\n",
       "      <td>1</td>\n",
       "      <td>...</td>\n",
       "      <td>a</td>\n",
       "      <td>NaN</td>\n",
       "      <td>NaN</td>\n",
       "      <td>NaN</td>\n",
       "      <td>NaN</td>\n",
       "      <td>NaN</td>\n",
       "      <td>3</td>\n",
       "      <td>0</td>\n",
       "      <td>39</td>\n",
       "      <td>9</td>\n",
       "    </tr>\n",
       "  </tbody>\n",
       "</table>\n",
       "<p>5 rows × 23 columns</p>\n",
       "</div>"
      ],
      "text/plain": [
       "                                                                                                                                            parnme  \\\n",
       "pname:ghbheadgr_inst:0_ptype:gr_usecol:3_pstyle:a_idx0:1_idx1:39_idx2:8    pname:ghbheadgr_inst:0_ptype:gr_usecol:3_pstyle:a_idx0:1_idx1:39_idx2:8   \n",
       "pname:ghbheadgr_inst:0_ptype:gr_usecol:3_pstyle:a_idx0:2_idx1:39_idx2:13  pname:ghbheadgr_inst:0_ptype:gr_usecol:3_pstyle:a_idx0:2_idx1:39_idx2:13   \n",
       "pname:ghbheadgr_inst:0_ptype:gr_usecol:3_pstyle:a_idx0:1_idx1:39_idx2:11  pname:ghbheadgr_inst:0_ptype:gr_usecol:3_pstyle:a_idx0:1_idx1:39_idx2:11   \n",
       "pname:ghbheadgr_inst:0_ptype:gr_usecol:3_pstyle:a_idx0:1_idx1:39_idx2:14  pname:ghbheadgr_inst:0_ptype:gr_usecol:3_pstyle:a_idx0:1_idx1:39_idx2:14   \n",
       "pname:ghbheadgr_inst:0_ptype:gr_usecol:3_pstyle:a_idx0:0_idx1:39_idx2:9    pname:ghbheadgr_inst:0_ptype:gr_usecol:3_pstyle:a_idx0:0_idx1:39_idx2:9   \n",
       "\n",
       "                                                                         partrans  \\\n",
       "pname:ghbheadgr_inst:0_ptype:gr_usecol:3_pstyle:a_idx0:1_idx1:39_idx2:8      none   \n",
       "pname:ghbheadgr_inst:0_ptype:gr_usecol:3_pstyle:a_idx0:2_idx1:39_idx2:13     none   \n",
       "pname:ghbheadgr_inst:0_ptype:gr_usecol:3_pstyle:a_idx0:1_idx1:39_idx2:11     none   \n",
       "pname:ghbheadgr_inst:0_ptype:gr_usecol:3_pstyle:a_idx0:1_idx1:39_idx2:14     none   \n",
       "pname:ghbheadgr_inst:0_ptype:gr_usecol:3_pstyle:a_idx0:0_idx1:39_idx2:9      none   \n",
       "\n",
       "                                                                         parchglim  \\\n",
       "pname:ghbheadgr_inst:0_ptype:gr_usecol:3_pstyle:a_idx0:1_idx1:39_idx2:8   relative   \n",
       "pname:ghbheadgr_inst:0_ptype:gr_usecol:3_pstyle:a_idx0:2_idx1:39_idx2:13  relative   \n",
       "pname:ghbheadgr_inst:0_ptype:gr_usecol:3_pstyle:a_idx0:1_idx1:39_idx2:11  relative   \n",
       "pname:ghbheadgr_inst:0_ptype:gr_usecol:3_pstyle:a_idx0:1_idx1:39_idx2:14  relative   \n",
       "pname:ghbheadgr_inst:0_ptype:gr_usecol:3_pstyle:a_idx0:0_idx1:39_idx2:9   relative   \n",
       "\n",
       "                                                                          parval1  \\\n",
       "pname:ghbheadgr_inst:0_ptype:gr_usecol:3_pstyle:a_idx0:1_idx1:39_idx2:8       0.0   \n",
       "pname:ghbheadgr_inst:0_ptype:gr_usecol:3_pstyle:a_idx0:2_idx1:39_idx2:13      0.0   \n",
       "pname:ghbheadgr_inst:0_ptype:gr_usecol:3_pstyle:a_idx0:1_idx1:39_idx2:11      0.0   \n",
       "pname:ghbheadgr_inst:0_ptype:gr_usecol:3_pstyle:a_idx0:1_idx1:39_idx2:14      0.0   \n",
       "pname:ghbheadgr_inst:0_ptype:gr_usecol:3_pstyle:a_idx0:0_idx1:39_idx2:9       0.0   \n",
       "\n",
       "                                                                          parlbnd  \\\n",
       "pname:ghbheadgr_inst:0_ptype:gr_usecol:3_pstyle:a_idx0:1_idx1:39_idx2:8      -2.0   \n",
       "pname:ghbheadgr_inst:0_ptype:gr_usecol:3_pstyle:a_idx0:2_idx1:39_idx2:13     -2.0   \n",
       "pname:ghbheadgr_inst:0_ptype:gr_usecol:3_pstyle:a_idx0:1_idx1:39_idx2:11     -2.0   \n",
       "pname:ghbheadgr_inst:0_ptype:gr_usecol:3_pstyle:a_idx0:1_idx1:39_idx2:14     -2.0   \n",
       "pname:ghbheadgr_inst:0_ptype:gr_usecol:3_pstyle:a_idx0:0_idx1:39_idx2:9      -2.0   \n",
       "\n",
       "                                                                          parubnd  \\\n",
       "pname:ghbheadgr_inst:0_ptype:gr_usecol:3_pstyle:a_idx0:1_idx1:39_idx2:8       2.0   \n",
       "pname:ghbheadgr_inst:0_ptype:gr_usecol:3_pstyle:a_idx0:2_idx1:39_idx2:13      2.0   \n",
       "pname:ghbheadgr_inst:0_ptype:gr_usecol:3_pstyle:a_idx0:1_idx1:39_idx2:11      2.0   \n",
       "pname:ghbheadgr_inst:0_ptype:gr_usecol:3_pstyle:a_idx0:1_idx1:39_idx2:14      2.0   \n",
       "pname:ghbheadgr_inst:0_ptype:gr_usecol:3_pstyle:a_idx0:0_idx1:39_idx2:9       2.0   \n",
       "\n",
       "                                                                              pargp  \\\n",
       "pname:ghbheadgr_inst:0_ptype:gr_usecol:3_pstyle:a_idx0:1_idx1:39_idx2:8   ghbheadgr   \n",
       "pname:ghbheadgr_inst:0_ptype:gr_usecol:3_pstyle:a_idx0:2_idx1:39_idx2:13  ghbheadgr   \n",
       "pname:ghbheadgr_inst:0_ptype:gr_usecol:3_pstyle:a_idx0:1_idx1:39_idx2:11  ghbheadgr   \n",
       "pname:ghbheadgr_inst:0_ptype:gr_usecol:3_pstyle:a_idx0:1_idx1:39_idx2:14  ghbheadgr   \n",
       "pname:ghbheadgr_inst:0_ptype:gr_usecol:3_pstyle:a_idx0:0_idx1:39_idx2:9   ghbheadgr   \n",
       "\n",
       "                                                                          scale  \\\n",
       "pname:ghbheadgr_inst:0_ptype:gr_usecol:3_pstyle:a_idx0:1_idx1:39_idx2:8     1.0   \n",
       "pname:ghbheadgr_inst:0_ptype:gr_usecol:3_pstyle:a_idx0:2_idx1:39_idx2:13    1.0   \n",
       "pname:ghbheadgr_inst:0_ptype:gr_usecol:3_pstyle:a_idx0:1_idx1:39_idx2:11    1.0   \n",
       "pname:ghbheadgr_inst:0_ptype:gr_usecol:3_pstyle:a_idx0:1_idx1:39_idx2:14    1.0   \n",
       "pname:ghbheadgr_inst:0_ptype:gr_usecol:3_pstyle:a_idx0:0_idx1:39_idx2:9     1.0   \n",
       "\n",
       "                                                                          offset  \\\n",
       "pname:ghbheadgr_inst:0_ptype:gr_usecol:3_pstyle:a_idx0:1_idx1:39_idx2:8      0.0   \n",
       "pname:ghbheadgr_inst:0_ptype:gr_usecol:3_pstyle:a_idx0:2_idx1:39_idx2:13     0.0   \n",
       "pname:ghbheadgr_inst:0_ptype:gr_usecol:3_pstyle:a_idx0:1_idx1:39_idx2:11     0.0   \n",
       "pname:ghbheadgr_inst:0_ptype:gr_usecol:3_pstyle:a_idx0:1_idx1:39_idx2:14     0.0   \n",
       "pname:ghbheadgr_inst:0_ptype:gr_usecol:3_pstyle:a_idx0:0_idx1:39_idx2:9      0.0   \n",
       "\n",
       "                                                                          dercom  \\\n",
       "pname:ghbheadgr_inst:0_ptype:gr_usecol:3_pstyle:a_idx0:1_idx1:39_idx2:8        1   \n",
       "pname:ghbheadgr_inst:0_ptype:gr_usecol:3_pstyle:a_idx0:2_idx1:39_idx2:13       1   \n",
       "pname:ghbheadgr_inst:0_ptype:gr_usecol:3_pstyle:a_idx0:1_idx1:39_idx2:11       1   \n",
       "pname:ghbheadgr_inst:0_ptype:gr_usecol:3_pstyle:a_idx0:1_idx1:39_idx2:14       1   \n",
       "pname:ghbheadgr_inst:0_ptype:gr_usecol:3_pstyle:a_idx0:0_idx1:39_idx2:9        1   \n",
       "\n",
       "                                                                          ...  \\\n",
       "pname:ghbheadgr_inst:0_ptype:gr_usecol:3_pstyle:a_idx0:1_idx1:39_idx2:8   ...   \n",
       "pname:ghbheadgr_inst:0_ptype:gr_usecol:3_pstyle:a_idx0:2_idx1:39_idx2:13  ...   \n",
       "pname:ghbheadgr_inst:0_ptype:gr_usecol:3_pstyle:a_idx0:1_idx1:39_idx2:11  ...   \n",
       "pname:ghbheadgr_inst:0_ptype:gr_usecol:3_pstyle:a_idx0:1_idx1:39_idx2:14  ...   \n",
       "pname:ghbheadgr_inst:0_ptype:gr_usecol:3_pstyle:a_idx0:0_idx1:39_idx2:9   ...   \n",
       "\n",
       "                                                                         pstyle  \\\n",
       "pname:ghbheadgr_inst:0_ptype:gr_usecol:3_pstyle:a_idx0:1_idx1:39_idx2:8       a   \n",
       "pname:ghbheadgr_inst:0_ptype:gr_usecol:3_pstyle:a_idx0:2_idx1:39_idx2:13      a   \n",
       "pname:ghbheadgr_inst:0_ptype:gr_usecol:3_pstyle:a_idx0:1_idx1:39_idx2:11      a   \n",
       "pname:ghbheadgr_inst:0_ptype:gr_usecol:3_pstyle:a_idx0:1_idx1:39_idx2:14      a   \n",
       "pname:ghbheadgr_inst:0_ptype:gr_usecol:3_pstyle:a_idx0:0_idx1:39_idx2:9       a   \n",
       "\n",
       "                                                                            i  \\\n",
       "pname:ghbheadgr_inst:0_ptype:gr_usecol:3_pstyle:a_idx0:1_idx1:39_idx2:8   NaN   \n",
       "pname:ghbheadgr_inst:0_ptype:gr_usecol:3_pstyle:a_idx0:2_idx1:39_idx2:13  NaN   \n",
       "pname:ghbheadgr_inst:0_ptype:gr_usecol:3_pstyle:a_idx0:1_idx1:39_idx2:11  NaN   \n",
       "pname:ghbheadgr_inst:0_ptype:gr_usecol:3_pstyle:a_idx0:1_idx1:39_idx2:14  NaN   \n",
       "pname:ghbheadgr_inst:0_ptype:gr_usecol:3_pstyle:a_idx0:0_idx1:39_idx2:9   NaN   \n",
       "\n",
       "                                                                            j  \\\n",
       "pname:ghbheadgr_inst:0_ptype:gr_usecol:3_pstyle:a_idx0:1_idx1:39_idx2:8   NaN   \n",
       "pname:ghbheadgr_inst:0_ptype:gr_usecol:3_pstyle:a_idx0:2_idx1:39_idx2:13  NaN   \n",
       "pname:ghbheadgr_inst:0_ptype:gr_usecol:3_pstyle:a_idx0:1_idx1:39_idx2:11  NaN   \n",
       "pname:ghbheadgr_inst:0_ptype:gr_usecol:3_pstyle:a_idx0:1_idx1:39_idx2:14  NaN   \n",
       "pname:ghbheadgr_inst:0_ptype:gr_usecol:3_pstyle:a_idx0:0_idx1:39_idx2:9   NaN   \n",
       "\n",
       "                                                                            x  \\\n",
       "pname:ghbheadgr_inst:0_ptype:gr_usecol:3_pstyle:a_idx0:1_idx1:39_idx2:8   NaN   \n",
       "pname:ghbheadgr_inst:0_ptype:gr_usecol:3_pstyle:a_idx0:2_idx1:39_idx2:13  NaN   \n",
       "pname:ghbheadgr_inst:0_ptype:gr_usecol:3_pstyle:a_idx0:1_idx1:39_idx2:11  NaN   \n",
       "pname:ghbheadgr_inst:0_ptype:gr_usecol:3_pstyle:a_idx0:1_idx1:39_idx2:14  NaN   \n",
       "pname:ghbheadgr_inst:0_ptype:gr_usecol:3_pstyle:a_idx0:0_idx1:39_idx2:9   NaN   \n",
       "\n",
       "                                                                            y  \\\n",
       "pname:ghbheadgr_inst:0_ptype:gr_usecol:3_pstyle:a_idx0:1_idx1:39_idx2:8   NaN   \n",
       "pname:ghbheadgr_inst:0_ptype:gr_usecol:3_pstyle:a_idx0:2_idx1:39_idx2:13  NaN   \n",
       "pname:ghbheadgr_inst:0_ptype:gr_usecol:3_pstyle:a_idx0:1_idx1:39_idx2:11  NaN   \n",
       "pname:ghbheadgr_inst:0_ptype:gr_usecol:3_pstyle:a_idx0:1_idx1:39_idx2:14  NaN   \n",
       "pname:ghbheadgr_inst:0_ptype:gr_usecol:3_pstyle:a_idx0:0_idx1:39_idx2:9   NaN   \n",
       "\n",
       "                                                                         zone  \\\n",
       "pname:ghbheadgr_inst:0_ptype:gr_usecol:3_pstyle:a_idx0:1_idx1:39_idx2:8   NaN   \n",
       "pname:ghbheadgr_inst:0_ptype:gr_usecol:3_pstyle:a_idx0:2_idx1:39_idx2:13  NaN   \n",
       "pname:ghbheadgr_inst:0_ptype:gr_usecol:3_pstyle:a_idx0:1_idx1:39_idx2:11  NaN   \n",
       "pname:ghbheadgr_inst:0_ptype:gr_usecol:3_pstyle:a_idx0:1_idx1:39_idx2:14  NaN   \n",
       "pname:ghbheadgr_inst:0_ptype:gr_usecol:3_pstyle:a_idx0:0_idx1:39_idx2:9   NaN   \n",
       "\n",
       "                                                                         usecol  \\\n",
       "pname:ghbheadgr_inst:0_ptype:gr_usecol:3_pstyle:a_idx0:1_idx1:39_idx2:8       3   \n",
       "pname:ghbheadgr_inst:0_ptype:gr_usecol:3_pstyle:a_idx0:2_idx1:39_idx2:13      3   \n",
       "pname:ghbheadgr_inst:0_ptype:gr_usecol:3_pstyle:a_idx0:1_idx1:39_idx2:11      3   \n",
       "pname:ghbheadgr_inst:0_ptype:gr_usecol:3_pstyle:a_idx0:1_idx1:39_idx2:14      3   \n",
       "pname:ghbheadgr_inst:0_ptype:gr_usecol:3_pstyle:a_idx0:0_idx1:39_idx2:9       3   \n",
       "\n",
       "                                                                         idx0  \\\n",
       "pname:ghbheadgr_inst:0_ptype:gr_usecol:3_pstyle:a_idx0:1_idx1:39_idx2:8     1   \n",
       "pname:ghbheadgr_inst:0_ptype:gr_usecol:3_pstyle:a_idx0:2_idx1:39_idx2:13    2   \n",
       "pname:ghbheadgr_inst:0_ptype:gr_usecol:3_pstyle:a_idx0:1_idx1:39_idx2:11    1   \n",
       "pname:ghbheadgr_inst:0_ptype:gr_usecol:3_pstyle:a_idx0:1_idx1:39_idx2:14    1   \n",
       "pname:ghbheadgr_inst:0_ptype:gr_usecol:3_pstyle:a_idx0:0_idx1:39_idx2:9     0   \n",
       "\n",
       "                                                                         idx1  \\\n",
       "pname:ghbheadgr_inst:0_ptype:gr_usecol:3_pstyle:a_idx0:1_idx1:39_idx2:8    39   \n",
       "pname:ghbheadgr_inst:0_ptype:gr_usecol:3_pstyle:a_idx0:2_idx1:39_idx2:13   39   \n",
       "pname:ghbheadgr_inst:0_ptype:gr_usecol:3_pstyle:a_idx0:1_idx1:39_idx2:11   39   \n",
       "pname:ghbheadgr_inst:0_ptype:gr_usecol:3_pstyle:a_idx0:1_idx1:39_idx2:14   39   \n",
       "pname:ghbheadgr_inst:0_ptype:gr_usecol:3_pstyle:a_idx0:0_idx1:39_idx2:9    39   \n",
       "\n",
       "                                                                         idx2  \n",
       "pname:ghbheadgr_inst:0_ptype:gr_usecol:3_pstyle:a_idx0:1_idx1:39_idx2:8     8  \n",
       "pname:ghbheadgr_inst:0_ptype:gr_usecol:3_pstyle:a_idx0:2_idx1:39_idx2:13   13  \n",
       "pname:ghbheadgr_inst:0_ptype:gr_usecol:3_pstyle:a_idx0:1_idx1:39_idx2:11   11  \n",
       "pname:ghbheadgr_inst:0_ptype:gr_usecol:3_pstyle:a_idx0:1_idx1:39_idx2:14   14  \n",
       "pname:ghbheadgr_inst:0_ptype:gr_usecol:3_pstyle:a_idx0:0_idx1:39_idx2:9     9  \n",
       "\n",
       "[5 rows x 23 columns]"
      ]
     },
     "execution_count": 66,
     "metadata": {},
     "output_type": "execute_result"
    }
   ],
   "source": [
    "par = pst.parameter_data\n",
    "par_names = par.loc[par.parval1==0].parnme\n",
    "\n",
    "par.loc[par_names].head()"
   ]
  },
  {
   "cell_type": "code",
   "execution_count": 67,
   "metadata": {
    "execution": {
     "iopub.execute_input": "2022-04-11T03:52:07.808975Z",
     "iopub.status.busy": "2022-04-11T03:52:07.807981Z",
     "iopub.status.idle": "2022-04-11T03:52:07.836274Z",
     "shell.execute_reply": "2022-04-11T03:52:07.837236Z"
    }
   },
   "outputs": [
    {
     "data": {
      "text/html": [
       "<div>\n",
       "<style scoped>\n",
       "    .dataframe tbody tr th:only-of-type {\n",
       "        vertical-align: middle;\n",
       "    }\n",
       "\n",
       "    .dataframe tbody tr th {\n",
       "        vertical-align: top;\n",
       "    }\n",
       "\n",
       "    .dataframe thead th {\n",
       "        text-align: right;\n",
       "    }\n",
       "</style>\n",
       "<table border=\"1\" class=\"dataframe\">\n",
       "  <thead>\n",
       "    <tr style=\"text-align: right;\">\n",
       "      <th></th>\n",
       "      <th>parnme</th>\n",
       "      <th>partrans</th>\n",
       "      <th>parchglim</th>\n",
       "      <th>parval1</th>\n",
       "      <th>parlbnd</th>\n",
       "      <th>parubnd</th>\n",
       "      <th>pargp</th>\n",
       "      <th>scale</th>\n",
       "      <th>offset</th>\n",
       "      <th>dercom</th>\n",
       "      <th>...</th>\n",
       "      <th>pstyle</th>\n",
       "      <th>i</th>\n",
       "      <th>j</th>\n",
       "      <th>x</th>\n",
       "      <th>y</th>\n",
       "      <th>zone</th>\n",
       "      <th>usecol</th>\n",
       "      <th>idx0</th>\n",
       "      <th>idx1</th>\n",
       "      <th>idx2</th>\n",
       "    </tr>\n",
       "  </thead>\n",
       "  <tbody>\n",
       "    <tr>\n",
       "      <th>pname:ghbheadgr_inst:0_ptype:gr_usecol:3_pstyle:a_idx0:1_idx1:39_idx2:8</th>\n",
       "      <td>pname:ghbheadgr_inst:0_ptype:gr_usecol:3_pstyle:a_idx0:1_idx1:39_idx2:8</td>\n",
       "      <td>none</td>\n",
       "      <td>relative</td>\n",
       "      <td>10.0</td>\n",
       "      <td>8.0</td>\n",
       "      <td>12.0</td>\n",
       "      <td>ghbheadgr</td>\n",
       "      <td>1.0</td>\n",
       "      <td>-10.0</td>\n",
       "      <td>1</td>\n",
       "      <td>...</td>\n",
       "      <td>a</td>\n",
       "      <td>NaN</td>\n",
       "      <td>NaN</td>\n",
       "      <td>NaN</td>\n",
       "      <td>NaN</td>\n",
       "      <td>NaN</td>\n",
       "      <td>3</td>\n",
       "      <td>1</td>\n",
       "      <td>39</td>\n",
       "      <td>8</td>\n",
       "    </tr>\n",
       "    <tr>\n",
       "      <th>pname:ghbheadgr_inst:0_ptype:gr_usecol:3_pstyle:a_idx0:2_idx1:39_idx2:13</th>\n",
       "      <td>pname:ghbheadgr_inst:0_ptype:gr_usecol:3_pstyle:a_idx0:2_idx1:39_idx2:13</td>\n",
       "      <td>none</td>\n",
       "      <td>relative</td>\n",
       "      <td>10.0</td>\n",
       "      <td>8.0</td>\n",
       "      <td>12.0</td>\n",
       "      <td>ghbheadgr</td>\n",
       "      <td>1.0</td>\n",
       "      <td>-10.0</td>\n",
       "      <td>1</td>\n",
       "      <td>...</td>\n",
       "      <td>a</td>\n",
       "      <td>NaN</td>\n",
       "      <td>NaN</td>\n",
       "      <td>NaN</td>\n",
       "      <td>NaN</td>\n",
       "      <td>NaN</td>\n",
       "      <td>3</td>\n",
       "      <td>2</td>\n",
       "      <td>39</td>\n",
       "      <td>13</td>\n",
       "    </tr>\n",
       "    <tr>\n",
       "      <th>pname:ghbheadgr_inst:0_ptype:gr_usecol:3_pstyle:a_idx0:1_idx1:39_idx2:11</th>\n",
       "      <td>pname:ghbheadgr_inst:0_ptype:gr_usecol:3_pstyle:a_idx0:1_idx1:39_idx2:11</td>\n",
       "      <td>none</td>\n",
       "      <td>relative</td>\n",
       "      <td>10.0</td>\n",
       "      <td>8.0</td>\n",
       "      <td>12.0</td>\n",
       "      <td>ghbheadgr</td>\n",
       "      <td>1.0</td>\n",
       "      <td>-10.0</td>\n",
       "      <td>1</td>\n",
       "      <td>...</td>\n",
       "      <td>a</td>\n",
       "      <td>NaN</td>\n",
       "      <td>NaN</td>\n",
       "      <td>NaN</td>\n",
       "      <td>NaN</td>\n",
       "      <td>NaN</td>\n",
       "      <td>3</td>\n",
       "      <td>1</td>\n",
       "      <td>39</td>\n",
       "      <td>11</td>\n",
       "    </tr>\n",
       "    <tr>\n",
       "      <th>pname:ghbheadgr_inst:0_ptype:gr_usecol:3_pstyle:a_idx0:1_idx1:39_idx2:14</th>\n",
       "      <td>pname:ghbheadgr_inst:0_ptype:gr_usecol:3_pstyle:a_idx0:1_idx1:39_idx2:14</td>\n",
       "      <td>none</td>\n",
       "      <td>relative</td>\n",
       "      <td>10.0</td>\n",
       "      <td>8.0</td>\n",
       "      <td>12.0</td>\n",
       "      <td>ghbheadgr</td>\n",
       "      <td>1.0</td>\n",
       "      <td>-10.0</td>\n",
       "      <td>1</td>\n",
       "      <td>...</td>\n",
       "      <td>a</td>\n",
       "      <td>NaN</td>\n",
       "      <td>NaN</td>\n",
       "      <td>NaN</td>\n",
       "      <td>NaN</td>\n",
       "      <td>NaN</td>\n",
       "      <td>3</td>\n",
       "      <td>1</td>\n",
       "      <td>39</td>\n",
       "      <td>14</td>\n",
       "    </tr>\n",
       "    <tr>\n",
       "      <th>pname:ghbheadgr_inst:0_ptype:gr_usecol:3_pstyle:a_idx0:0_idx1:39_idx2:9</th>\n",
       "      <td>pname:ghbheadgr_inst:0_ptype:gr_usecol:3_pstyle:a_idx0:0_idx1:39_idx2:9</td>\n",
       "      <td>none</td>\n",
       "      <td>relative</td>\n",
       "      <td>10.0</td>\n",
       "      <td>8.0</td>\n",
       "      <td>12.0</td>\n",
       "      <td>ghbheadgr</td>\n",
       "      <td>1.0</td>\n",
       "      <td>-10.0</td>\n",
       "      <td>1</td>\n",
       "      <td>...</td>\n",
       "      <td>a</td>\n",
       "      <td>NaN</td>\n",
       "      <td>NaN</td>\n",
       "      <td>NaN</td>\n",
       "      <td>NaN</td>\n",
       "      <td>NaN</td>\n",
       "      <td>3</td>\n",
       "      <td>0</td>\n",
       "      <td>39</td>\n",
       "      <td>9</td>\n",
       "    </tr>\n",
       "  </tbody>\n",
       "</table>\n",
       "<p>5 rows × 23 columns</p>\n",
       "</div>"
      ],
      "text/plain": [
       "                                                                                                                                            parnme  \\\n",
       "pname:ghbheadgr_inst:0_ptype:gr_usecol:3_pstyle:a_idx0:1_idx1:39_idx2:8    pname:ghbheadgr_inst:0_ptype:gr_usecol:3_pstyle:a_idx0:1_idx1:39_idx2:8   \n",
       "pname:ghbheadgr_inst:0_ptype:gr_usecol:3_pstyle:a_idx0:2_idx1:39_idx2:13  pname:ghbheadgr_inst:0_ptype:gr_usecol:3_pstyle:a_idx0:2_idx1:39_idx2:13   \n",
       "pname:ghbheadgr_inst:0_ptype:gr_usecol:3_pstyle:a_idx0:1_idx1:39_idx2:11  pname:ghbheadgr_inst:0_ptype:gr_usecol:3_pstyle:a_idx0:1_idx1:39_idx2:11   \n",
       "pname:ghbheadgr_inst:0_ptype:gr_usecol:3_pstyle:a_idx0:1_idx1:39_idx2:14  pname:ghbheadgr_inst:0_ptype:gr_usecol:3_pstyle:a_idx0:1_idx1:39_idx2:14   \n",
       "pname:ghbheadgr_inst:0_ptype:gr_usecol:3_pstyle:a_idx0:0_idx1:39_idx2:9    pname:ghbheadgr_inst:0_ptype:gr_usecol:3_pstyle:a_idx0:0_idx1:39_idx2:9   \n",
       "\n",
       "                                                                         partrans  \\\n",
       "pname:ghbheadgr_inst:0_ptype:gr_usecol:3_pstyle:a_idx0:1_idx1:39_idx2:8      none   \n",
       "pname:ghbheadgr_inst:0_ptype:gr_usecol:3_pstyle:a_idx0:2_idx1:39_idx2:13     none   \n",
       "pname:ghbheadgr_inst:0_ptype:gr_usecol:3_pstyle:a_idx0:1_idx1:39_idx2:11     none   \n",
       "pname:ghbheadgr_inst:0_ptype:gr_usecol:3_pstyle:a_idx0:1_idx1:39_idx2:14     none   \n",
       "pname:ghbheadgr_inst:0_ptype:gr_usecol:3_pstyle:a_idx0:0_idx1:39_idx2:9      none   \n",
       "\n",
       "                                                                         parchglim  \\\n",
       "pname:ghbheadgr_inst:0_ptype:gr_usecol:3_pstyle:a_idx0:1_idx1:39_idx2:8   relative   \n",
       "pname:ghbheadgr_inst:0_ptype:gr_usecol:3_pstyle:a_idx0:2_idx1:39_idx2:13  relative   \n",
       "pname:ghbheadgr_inst:0_ptype:gr_usecol:3_pstyle:a_idx0:1_idx1:39_idx2:11  relative   \n",
       "pname:ghbheadgr_inst:0_ptype:gr_usecol:3_pstyle:a_idx0:1_idx1:39_idx2:14  relative   \n",
       "pname:ghbheadgr_inst:0_ptype:gr_usecol:3_pstyle:a_idx0:0_idx1:39_idx2:9   relative   \n",
       "\n",
       "                                                                          parval1  \\\n",
       "pname:ghbheadgr_inst:0_ptype:gr_usecol:3_pstyle:a_idx0:1_idx1:39_idx2:8      10.0   \n",
       "pname:ghbheadgr_inst:0_ptype:gr_usecol:3_pstyle:a_idx0:2_idx1:39_idx2:13     10.0   \n",
       "pname:ghbheadgr_inst:0_ptype:gr_usecol:3_pstyle:a_idx0:1_idx1:39_idx2:11     10.0   \n",
       "pname:ghbheadgr_inst:0_ptype:gr_usecol:3_pstyle:a_idx0:1_idx1:39_idx2:14     10.0   \n",
       "pname:ghbheadgr_inst:0_ptype:gr_usecol:3_pstyle:a_idx0:0_idx1:39_idx2:9      10.0   \n",
       "\n",
       "                                                                          parlbnd  \\\n",
       "pname:ghbheadgr_inst:0_ptype:gr_usecol:3_pstyle:a_idx0:1_idx1:39_idx2:8       8.0   \n",
       "pname:ghbheadgr_inst:0_ptype:gr_usecol:3_pstyle:a_idx0:2_idx1:39_idx2:13      8.0   \n",
       "pname:ghbheadgr_inst:0_ptype:gr_usecol:3_pstyle:a_idx0:1_idx1:39_idx2:11      8.0   \n",
       "pname:ghbheadgr_inst:0_ptype:gr_usecol:3_pstyle:a_idx0:1_idx1:39_idx2:14      8.0   \n",
       "pname:ghbheadgr_inst:0_ptype:gr_usecol:3_pstyle:a_idx0:0_idx1:39_idx2:9       8.0   \n",
       "\n",
       "                                                                          parubnd  \\\n",
       "pname:ghbheadgr_inst:0_ptype:gr_usecol:3_pstyle:a_idx0:1_idx1:39_idx2:8      12.0   \n",
       "pname:ghbheadgr_inst:0_ptype:gr_usecol:3_pstyle:a_idx0:2_idx1:39_idx2:13     12.0   \n",
       "pname:ghbheadgr_inst:0_ptype:gr_usecol:3_pstyle:a_idx0:1_idx1:39_idx2:11     12.0   \n",
       "pname:ghbheadgr_inst:0_ptype:gr_usecol:3_pstyle:a_idx0:1_idx1:39_idx2:14     12.0   \n",
       "pname:ghbheadgr_inst:0_ptype:gr_usecol:3_pstyle:a_idx0:0_idx1:39_idx2:9      12.0   \n",
       "\n",
       "                                                                              pargp  \\\n",
       "pname:ghbheadgr_inst:0_ptype:gr_usecol:3_pstyle:a_idx0:1_idx1:39_idx2:8   ghbheadgr   \n",
       "pname:ghbheadgr_inst:0_ptype:gr_usecol:3_pstyle:a_idx0:2_idx1:39_idx2:13  ghbheadgr   \n",
       "pname:ghbheadgr_inst:0_ptype:gr_usecol:3_pstyle:a_idx0:1_idx1:39_idx2:11  ghbheadgr   \n",
       "pname:ghbheadgr_inst:0_ptype:gr_usecol:3_pstyle:a_idx0:1_idx1:39_idx2:14  ghbheadgr   \n",
       "pname:ghbheadgr_inst:0_ptype:gr_usecol:3_pstyle:a_idx0:0_idx1:39_idx2:9   ghbheadgr   \n",
       "\n",
       "                                                                          scale  \\\n",
       "pname:ghbheadgr_inst:0_ptype:gr_usecol:3_pstyle:a_idx0:1_idx1:39_idx2:8     1.0   \n",
       "pname:ghbheadgr_inst:0_ptype:gr_usecol:3_pstyle:a_idx0:2_idx1:39_idx2:13    1.0   \n",
       "pname:ghbheadgr_inst:0_ptype:gr_usecol:3_pstyle:a_idx0:1_idx1:39_idx2:11    1.0   \n",
       "pname:ghbheadgr_inst:0_ptype:gr_usecol:3_pstyle:a_idx0:1_idx1:39_idx2:14    1.0   \n",
       "pname:ghbheadgr_inst:0_ptype:gr_usecol:3_pstyle:a_idx0:0_idx1:39_idx2:9     1.0   \n",
       "\n",
       "                                                                          offset  \\\n",
       "pname:ghbheadgr_inst:0_ptype:gr_usecol:3_pstyle:a_idx0:1_idx1:39_idx2:8    -10.0   \n",
       "pname:ghbheadgr_inst:0_ptype:gr_usecol:3_pstyle:a_idx0:2_idx1:39_idx2:13   -10.0   \n",
       "pname:ghbheadgr_inst:0_ptype:gr_usecol:3_pstyle:a_idx0:1_idx1:39_idx2:11   -10.0   \n",
       "pname:ghbheadgr_inst:0_ptype:gr_usecol:3_pstyle:a_idx0:1_idx1:39_idx2:14   -10.0   \n",
       "pname:ghbheadgr_inst:0_ptype:gr_usecol:3_pstyle:a_idx0:0_idx1:39_idx2:9    -10.0   \n",
       "\n",
       "                                                                          dercom  \\\n",
       "pname:ghbheadgr_inst:0_ptype:gr_usecol:3_pstyle:a_idx0:1_idx1:39_idx2:8        1   \n",
       "pname:ghbheadgr_inst:0_ptype:gr_usecol:3_pstyle:a_idx0:2_idx1:39_idx2:13       1   \n",
       "pname:ghbheadgr_inst:0_ptype:gr_usecol:3_pstyle:a_idx0:1_idx1:39_idx2:11       1   \n",
       "pname:ghbheadgr_inst:0_ptype:gr_usecol:3_pstyle:a_idx0:1_idx1:39_idx2:14       1   \n",
       "pname:ghbheadgr_inst:0_ptype:gr_usecol:3_pstyle:a_idx0:0_idx1:39_idx2:9        1   \n",
       "\n",
       "                                                                          ...  \\\n",
       "pname:ghbheadgr_inst:0_ptype:gr_usecol:3_pstyle:a_idx0:1_idx1:39_idx2:8   ...   \n",
       "pname:ghbheadgr_inst:0_ptype:gr_usecol:3_pstyle:a_idx0:2_idx1:39_idx2:13  ...   \n",
       "pname:ghbheadgr_inst:0_ptype:gr_usecol:3_pstyle:a_idx0:1_idx1:39_idx2:11  ...   \n",
       "pname:ghbheadgr_inst:0_ptype:gr_usecol:3_pstyle:a_idx0:1_idx1:39_idx2:14  ...   \n",
       "pname:ghbheadgr_inst:0_ptype:gr_usecol:3_pstyle:a_idx0:0_idx1:39_idx2:9   ...   \n",
       "\n",
       "                                                                         pstyle  \\\n",
       "pname:ghbheadgr_inst:0_ptype:gr_usecol:3_pstyle:a_idx0:1_idx1:39_idx2:8       a   \n",
       "pname:ghbheadgr_inst:0_ptype:gr_usecol:3_pstyle:a_idx0:2_idx1:39_idx2:13      a   \n",
       "pname:ghbheadgr_inst:0_ptype:gr_usecol:3_pstyle:a_idx0:1_idx1:39_idx2:11      a   \n",
       "pname:ghbheadgr_inst:0_ptype:gr_usecol:3_pstyle:a_idx0:1_idx1:39_idx2:14      a   \n",
       "pname:ghbheadgr_inst:0_ptype:gr_usecol:3_pstyle:a_idx0:0_idx1:39_idx2:9       a   \n",
       "\n",
       "                                                                            i  \\\n",
       "pname:ghbheadgr_inst:0_ptype:gr_usecol:3_pstyle:a_idx0:1_idx1:39_idx2:8   NaN   \n",
       "pname:ghbheadgr_inst:0_ptype:gr_usecol:3_pstyle:a_idx0:2_idx1:39_idx2:13  NaN   \n",
       "pname:ghbheadgr_inst:0_ptype:gr_usecol:3_pstyle:a_idx0:1_idx1:39_idx2:11  NaN   \n",
       "pname:ghbheadgr_inst:0_ptype:gr_usecol:3_pstyle:a_idx0:1_idx1:39_idx2:14  NaN   \n",
       "pname:ghbheadgr_inst:0_ptype:gr_usecol:3_pstyle:a_idx0:0_idx1:39_idx2:9   NaN   \n",
       "\n",
       "                                                                            j  \\\n",
       "pname:ghbheadgr_inst:0_ptype:gr_usecol:3_pstyle:a_idx0:1_idx1:39_idx2:8   NaN   \n",
       "pname:ghbheadgr_inst:0_ptype:gr_usecol:3_pstyle:a_idx0:2_idx1:39_idx2:13  NaN   \n",
       "pname:ghbheadgr_inst:0_ptype:gr_usecol:3_pstyle:a_idx0:1_idx1:39_idx2:11  NaN   \n",
       "pname:ghbheadgr_inst:0_ptype:gr_usecol:3_pstyle:a_idx0:1_idx1:39_idx2:14  NaN   \n",
       "pname:ghbheadgr_inst:0_ptype:gr_usecol:3_pstyle:a_idx0:0_idx1:39_idx2:9   NaN   \n",
       "\n",
       "                                                                            x  \\\n",
       "pname:ghbheadgr_inst:0_ptype:gr_usecol:3_pstyle:a_idx0:1_idx1:39_idx2:8   NaN   \n",
       "pname:ghbheadgr_inst:0_ptype:gr_usecol:3_pstyle:a_idx0:2_idx1:39_idx2:13  NaN   \n",
       "pname:ghbheadgr_inst:0_ptype:gr_usecol:3_pstyle:a_idx0:1_idx1:39_idx2:11  NaN   \n",
       "pname:ghbheadgr_inst:0_ptype:gr_usecol:3_pstyle:a_idx0:1_idx1:39_idx2:14  NaN   \n",
       "pname:ghbheadgr_inst:0_ptype:gr_usecol:3_pstyle:a_idx0:0_idx1:39_idx2:9   NaN   \n",
       "\n",
       "                                                                            y  \\\n",
       "pname:ghbheadgr_inst:0_ptype:gr_usecol:3_pstyle:a_idx0:1_idx1:39_idx2:8   NaN   \n",
       "pname:ghbheadgr_inst:0_ptype:gr_usecol:3_pstyle:a_idx0:2_idx1:39_idx2:13  NaN   \n",
       "pname:ghbheadgr_inst:0_ptype:gr_usecol:3_pstyle:a_idx0:1_idx1:39_idx2:11  NaN   \n",
       "pname:ghbheadgr_inst:0_ptype:gr_usecol:3_pstyle:a_idx0:1_idx1:39_idx2:14  NaN   \n",
       "pname:ghbheadgr_inst:0_ptype:gr_usecol:3_pstyle:a_idx0:0_idx1:39_idx2:9   NaN   \n",
       "\n",
       "                                                                         zone  \\\n",
       "pname:ghbheadgr_inst:0_ptype:gr_usecol:3_pstyle:a_idx0:1_idx1:39_idx2:8   NaN   \n",
       "pname:ghbheadgr_inst:0_ptype:gr_usecol:3_pstyle:a_idx0:2_idx1:39_idx2:13  NaN   \n",
       "pname:ghbheadgr_inst:0_ptype:gr_usecol:3_pstyle:a_idx0:1_idx1:39_idx2:11  NaN   \n",
       "pname:ghbheadgr_inst:0_ptype:gr_usecol:3_pstyle:a_idx0:1_idx1:39_idx2:14  NaN   \n",
       "pname:ghbheadgr_inst:0_ptype:gr_usecol:3_pstyle:a_idx0:0_idx1:39_idx2:9   NaN   \n",
       "\n",
       "                                                                         usecol  \\\n",
       "pname:ghbheadgr_inst:0_ptype:gr_usecol:3_pstyle:a_idx0:1_idx1:39_idx2:8       3   \n",
       "pname:ghbheadgr_inst:0_ptype:gr_usecol:3_pstyle:a_idx0:2_idx1:39_idx2:13      3   \n",
       "pname:ghbheadgr_inst:0_ptype:gr_usecol:3_pstyle:a_idx0:1_idx1:39_idx2:11      3   \n",
       "pname:ghbheadgr_inst:0_ptype:gr_usecol:3_pstyle:a_idx0:1_idx1:39_idx2:14      3   \n",
       "pname:ghbheadgr_inst:0_ptype:gr_usecol:3_pstyle:a_idx0:0_idx1:39_idx2:9       3   \n",
       "\n",
       "                                                                         idx0  \\\n",
       "pname:ghbheadgr_inst:0_ptype:gr_usecol:3_pstyle:a_idx0:1_idx1:39_idx2:8     1   \n",
       "pname:ghbheadgr_inst:0_ptype:gr_usecol:3_pstyle:a_idx0:2_idx1:39_idx2:13    2   \n",
       "pname:ghbheadgr_inst:0_ptype:gr_usecol:3_pstyle:a_idx0:1_idx1:39_idx2:11    1   \n",
       "pname:ghbheadgr_inst:0_ptype:gr_usecol:3_pstyle:a_idx0:1_idx1:39_idx2:14    1   \n",
       "pname:ghbheadgr_inst:0_ptype:gr_usecol:3_pstyle:a_idx0:0_idx1:39_idx2:9     0   \n",
       "\n",
       "                                                                         idx1  \\\n",
       "pname:ghbheadgr_inst:0_ptype:gr_usecol:3_pstyle:a_idx0:1_idx1:39_idx2:8    39   \n",
       "pname:ghbheadgr_inst:0_ptype:gr_usecol:3_pstyle:a_idx0:2_idx1:39_idx2:13   39   \n",
       "pname:ghbheadgr_inst:0_ptype:gr_usecol:3_pstyle:a_idx0:1_idx1:39_idx2:11   39   \n",
       "pname:ghbheadgr_inst:0_ptype:gr_usecol:3_pstyle:a_idx0:1_idx1:39_idx2:14   39   \n",
       "pname:ghbheadgr_inst:0_ptype:gr_usecol:3_pstyle:a_idx0:0_idx1:39_idx2:9    39   \n",
       "\n",
       "                                                                         idx2  \n",
       "pname:ghbheadgr_inst:0_ptype:gr_usecol:3_pstyle:a_idx0:1_idx1:39_idx2:8     8  \n",
       "pname:ghbheadgr_inst:0_ptype:gr_usecol:3_pstyle:a_idx0:2_idx1:39_idx2:13   13  \n",
       "pname:ghbheadgr_inst:0_ptype:gr_usecol:3_pstyle:a_idx0:1_idx1:39_idx2:11   11  \n",
       "pname:ghbheadgr_inst:0_ptype:gr_usecol:3_pstyle:a_idx0:1_idx1:39_idx2:14   14  \n",
       "pname:ghbheadgr_inst:0_ptype:gr_usecol:3_pstyle:a_idx0:0_idx1:39_idx2:9     9  \n",
       "\n",
       "[5 rows x 23 columns]"
      ]
     },
     "execution_count": 67,
     "metadata": {},
     "output_type": "execute_result"
    }
   ],
   "source": [
    "offset = -10\n",
    "par.loc[par_names, 'offset'] = offset\n",
    "par.loc[par_names, ['parval1', 'parlbnd', 'parubnd']] -= offset\n",
    "\n",
    "par.loc[par_names].head()"
   ]
  },
  {
   "cell_type": "markdown",
   "metadata": {},
   "source": [
    "#### 7.4. Forecasts\n",
    "\n",
    "For most models there is a forecast/prediction that someone needs. Rather than waiting until the end of the project, the forecast should be entered into your thinking and workflow __right at the beginning__.  Here we do this explicitly by monitoring the forecasts as \"observations\" in the control file.  This way, for every PEST(++) analysis we do, we can watch what is happening to the forecasts - #winning **\n",
    "\n",
    "The optional PEST++ `++forecasts` control variable allows us to provide the names of one or more observations featured in the “observation data” section of the PEST control file; these are treated as predictions in FOSM predictive uncertainty analysis by PESTPP-GLM. It is also a convenient way to keep track of \"forecast\" observations (makes post-processing a wee bit easier later on).\n",
    "\n",
    "Recall that, for our synthetic case we are interested in forecasting:\n",
    "\n",
    " - groundwater level in the upper layer at row 9 and column 1 (site named \"trgw-0-9-1\") in stress period 22 (time=640);\n",
    " - the \"tailwater\" surface-water/groundwater exchange during stress period 13 (time=367); and\n",
    " - the \"headwater\" surface-water/groundwater exchange at stress period 22 (time=640).\n",
    " - the particle travel time.\n"
   ]
  },
  {
   "cell_type": "code",
   "execution_count": 68,
   "metadata": {
    "execution": {
     "iopub.execute_input": "2022-04-11T03:52:07.841226Z",
     "iopub.status.busy": "2022-04-11T03:52:07.840229Z",
     "iopub.status.idle": "2022-04-11T03:52:07.852515Z",
     "shell.execute_reply": "2022-04-11T03:52:07.852515Z"
    }
   },
   "outputs": [
    {
     "data": {
      "text/plain": [
       "['oname:sfr_otype:lst_usecol:tailwater_time:4383.5',\n",
       " 'oname:sfr_otype:lst_usecol:headwater_time:4383.5',\n",
       " 'oname:hds_otype:lst_usecol:trgw-0-9-1_time:4383.5',\n",
       " 'part_time']"
      ]
     },
     "execution_count": 68,
     "metadata": {},
     "output_type": "execute_result"
    }
   ],
   "source": [
    "forecasts =[\n",
    "            'oname:sfr_otype:lst_usecol:tailwater_time:4383.5',\n",
    "            'oname:sfr_otype:lst_usecol:headwater_time:4383.5',\n",
    "            'oname:hds_otype:lst_usecol:trgw-0-9-1_time:4383.5',\n",
    "            'part_time'\n",
    "            ]\n",
    "\n",
    "forecasts"
   ]
  },
  {
   "cell_type": "code",
   "execution_count": 69,
   "metadata": {},
   "outputs": [
    {
     "data": {
      "text/html": [
       "<div>\n",
       "<style scoped>\n",
       "    .dataframe tbody tr th:only-of-type {\n",
       "        vertical-align: middle;\n",
       "    }\n",
       "\n",
       "    .dataframe tbody tr th {\n",
       "        vertical-align: top;\n",
       "    }\n",
       "\n",
       "    .dataframe thead th {\n",
       "        text-align: right;\n",
       "    }\n",
       "</style>\n",
       "<table border=\"1\" class=\"dataframe\">\n",
       "  <thead>\n",
       "    <tr style=\"text-align: right;\">\n",
       "      <th></th>\n",
       "      <th>obsnme</th>\n",
       "      <th>obsval</th>\n",
       "      <th>weight</th>\n",
       "      <th>obgnme</th>\n",
       "      <th>oname</th>\n",
       "      <th>otype</th>\n",
       "      <th>usecol</th>\n",
       "      <th>time</th>\n",
       "      <th>i</th>\n",
       "      <th>j</th>\n",
       "      <th>totim</th>\n",
       "    </tr>\n",
       "  </thead>\n",
       "  <tbody>\n",
       "    <tr>\n",
       "      <th>oname:sfr_otype:lst_usecol:tailwater_time:4383.5</th>\n",
       "      <td>oname:sfr_otype:lst_usecol:tailwater_time:4383.5</td>\n",
       "      <td>-519.184506</td>\n",
       "      <td>1.0</td>\n",
       "      <td>oname:sfr_otype:lst_usecol:tailwater</td>\n",
       "      <td>sfr</td>\n",
       "      <td>lst</td>\n",
       "      <td>tailwater</td>\n",
       "      <td>4383.5</td>\n",
       "      <td>NaN</td>\n",
       "      <td>NaN</td>\n",
       "      <td>NaN</td>\n",
       "    </tr>\n",
       "    <tr>\n",
       "      <th>oname:sfr_otype:lst_usecol:headwater_time:4383.5</th>\n",
       "      <td>oname:sfr_otype:lst_usecol:headwater_time:4383.5</td>\n",
       "      <td>-694.299524</td>\n",
       "      <td>1.0</td>\n",
       "      <td>oname:sfr_otype:lst_usecol:headwater</td>\n",
       "      <td>sfr</td>\n",
       "      <td>lst</td>\n",
       "      <td>headwater</td>\n",
       "      <td>4383.5</td>\n",
       "      <td>NaN</td>\n",
       "      <td>NaN</td>\n",
       "      <td>NaN</td>\n",
       "    </tr>\n",
       "    <tr>\n",
       "      <th>oname:hds_otype:lst_usecol:trgw-0-9-1_time:4383.5</th>\n",
       "      <td>oname:hds_otype:lst_usecol:trgw-0-9-1_time:4383.5</td>\n",
       "      <td>34.809963</td>\n",
       "      <td>1.0</td>\n",
       "      <td>oname:hds_otype:lst_usecol:trgw-0-9-1</td>\n",
       "      <td>hds</td>\n",
       "      <td>lst</td>\n",
       "      <td>trgw-0-9-1</td>\n",
       "      <td>4383.5</td>\n",
       "      <td>NaN</td>\n",
       "      <td>NaN</td>\n",
       "      <td>NaN</td>\n",
       "    </tr>\n",
       "    <tr>\n",
       "      <th>part_time</th>\n",
       "      <td>part_time</td>\n",
       "      <td>211849.244600</td>\n",
       "      <td>1.0</td>\n",
       "      <td>part</td>\n",
       "      <td>NaN</td>\n",
       "      <td>NaN</td>\n",
       "      <td>NaN</td>\n",
       "      <td>NaN</td>\n",
       "      <td>NaN</td>\n",
       "      <td>NaN</td>\n",
       "      <td>NaN</td>\n",
       "    </tr>\n",
       "  </tbody>\n",
       "</table>\n",
       "</div>"
      ],
      "text/plain": [
       "                                                                                              obsnme  \\\n",
       "oname:sfr_otype:lst_usecol:tailwater_time:4383.5    oname:sfr_otype:lst_usecol:tailwater_time:4383.5   \n",
       "oname:sfr_otype:lst_usecol:headwater_time:4383.5    oname:sfr_otype:lst_usecol:headwater_time:4383.5   \n",
       "oname:hds_otype:lst_usecol:trgw-0-9-1_time:4383.5  oname:hds_otype:lst_usecol:trgw-0-9-1_time:4383.5   \n",
       "part_time                                                                                  part_time   \n",
       "\n",
       "                                                          obsval  weight  \\\n",
       "oname:sfr_otype:lst_usecol:tailwater_time:4383.5     -519.184506     1.0   \n",
       "oname:sfr_otype:lst_usecol:headwater_time:4383.5     -694.299524     1.0   \n",
       "oname:hds_otype:lst_usecol:trgw-0-9-1_time:4383.5      34.809963     1.0   \n",
       "part_time                                          211849.244600     1.0   \n",
       "\n",
       "                                                                                  obgnme  \\\n",
       "oname:sfr_otype:lst_usecol:tailwater_time:4383.5    oname:sfr_otype:lst_usecol:tailwater   \n",
       "oname:sfr_otype:lst_usecol:headwater_time:4383.5    oname:sfr_otype:lst_usecol:headwater   \n",
       "oname:hds_otype:lst_usecol:trgw-0-9-1_time:4383.5  oname:hds_otype:lst_usecol:trgw-0-9-1   \n",
       "part_time                                                                           part   \n",
       "\n",
       "                                                  oname otype      usecol  \\\n",
       "oname:sfr_otype:lst_usecol:tailwater_time:4383.5    sfr   lst   tailwater   \n",
       "oname:sfr_otype:lst_usecol:headwater_time:4383.5    sfr   lst   headwater   \n",
       "oname:hds_otype:lst_usecol:trgw-0-9-1_time:4383.5   hds   lst  trgw-0-9-1   \n",
       "part_time                                           NaN   NaN         NaN   \n",
       "\n",
       "                                                     time    i    j totim  \n",
       "oname:sfr_otype:lst_usecol:tailwater_time:4383.5   4383.5  NaN  NaN   NaN  \n",
       "oname:sfr_otype:lst_usecol:headwater_time:4383.5   4383.5  NaN  NaN   NaN  \n",
       "oname:hds_otype:lst_usecol:trgw-0-9-1_time:4383.5  4383.5  NaN  NaN   NaN  \n",
       "part_time                                             NaN  NaN  NaN   NaN  "
      ]
     },
     "execution_count": 69,
     "metadata": {},
     "output_type": "execute_result"
    }
   ],
   "source": [
    "fobs = obs.loc[forecasts,:]\n",
    "fobs"
   ]
  },
  {
   "cell_type": "markdown",
   "metadata": {},
   "source": [
    "We will just set this optional pest++ argument because it will trigger certain automatic behavior later in PESTPP-GLM"
   ]
  },
  {
   "cell_type": "code",
   "execution_count": 70,
   "metadata": {
    "execution": {
     "iopub.execute_input": "2022-04-11T03:52:07.855472Z",
     "iopub.status.busy": "2022-04-11T03:52:07.855472Z",
     "iopub.status.idle": "2022-04-11T03:52:07.868111Z",
     "shell.execute_reply": "2022-04-11T03:52:07.868111Z"
    }
   },
   "outputs": [],
   "source": [
    "pst.pestpp_options['forecasts'] = forecasts"
   ]
  },
  {
   "cell_type": "markdown",
   "metadata": {},
   "source": [
    "#### 7.5. Re-write the Control File!"
   ]
  },
  {
   "cell_type": "markdown",
   "metadata": {},
   "source": [
    "Make sure to re-**write** the PEST control file. But beware, if you re-**build** the `Pst`, all these changes will be lost."
   ]
  },
  {
   "cell_type": "code",
   "execution_count": 71,
   "metadata": {
    "execution": {
     "iopub.execute_input": "2022-04-11T03:52:07.878083Z",
     "iopub.status.busy": "2022-04-11T03:52:07.878083Z",
     "iopub.status.idle": "2022-04-11T03:52:08.148377Z",
     "shell.execute_reply": "2022-04-11T03:52:08.149338Z"
    }
   },
   "outputs": [
    {
     "name": "stdout",
     "output_type": "stream",
     "text": [
      "noptmax:0, npar_adj:12052, nnz_obs:4627\n"
     ]
    }
   ],
   "source": [
    "pst.write(os.path.join(template_ws, 'freyberg_mf6.pst'))"
   ]
  },
  {
   "cell_type": "markdown",
   "metadata": {},
   "source": [
    "So that was pretty epic. We now have a (very) high-dimensional PEST interface that includes secondary observations, as well as forecasts, ready to roll. \n",
    "\n",
    "If you inspect the folder, you will see PEST control file and all the necessary instruction and template files. Because we have >10k parameters, version 2 of the PEST control file was written by default. \n",
    "\n",
    "Shall we check that it works? Let's run PEST once (i.e. with NOPTMAX=0). Now, by default, noptmax is set to zero. But just to check:"
   ]
  },
  {
   "cell_type": "code",
   "execution_count": 72,
   "metadata": {
    "execution": {
     "iopub.execute_input": "2022-04-11T03:52:08.153327Z",
     "iopub.status.busy": "2022-04-11T03:52:08.152330Z",
     "iopub.status.idle": "2022-04-11T03:52:08.168890Z",
     "shell.execute_reply": "2022-04-11T03:52:08.166895Z"
    }
   },
   "outputs": [
    {
     "data": {
      "text/plain": [
       "0"
      ]
     },
     "execution_count": 72,
     "metadata": {},
     "output_type": "execute_result"
    }
   ],
   "source": [
    "pst.control_data.noptmax"
   ]
  },
  {
   "cell_type": "markdown",
   "metadata": {},
   "source": [
    "OK, so when we run PEST it will call the model once and then stop. If the next cell is sucessfull, then eveything is working. Check the folder, you should see PEST output files. (We will go into these and how to process PEST outcomes in subsequent tutorials)."
   ]
  },
  {
   "cell_type": "code",
   "execution_count": 73,
   "metadata": {
    "execution": {
     "iopub.execute_input": "2022-04-11T03:52:08.171882Z",
     "iopub.status.busy": "2022-04-11T03:52:08.171882Z",
     "iopub.status.idle": "2022-04-11T03:52:19.868569Z",
     "shell.execute_reply": "2022-04-11T03:52:19.868569Z"
    }
   },
   "outputs": [
    {
     "name": "stdout",
     "output_type": "stream",
     "text": [
      "\n",
      "\n",
      "             pestpp-glm: a tool for GLM parameter estimation and FOSM uncertainty analysis\n",
      "\n",
      "                                   by The PEST++ Development Team\n",
      "\n",
      "\n",
      "version: 5.1.16\n",
      "binary compiled on Apr 14 2022 at 09:33:39\n",
      "\n",
      "started at 04/20/22 09:21:59\n",
      "...processing command line: ' ./pestpp-glm freyberg_mf6.pst'\n",
      "...using serial run manager\n",
      "\n",
      "using control file: \"freyberg_mf6.pst\"\n",
      "\n",
      "in directory: \"/Users/JWhite/Dev/GMDSI_notebooks/tutorials/part2_pstfrom_pest_setup/freyberg6_template\"\n",
      "on host: \"localadmins-MacBook-Pro.local\"\n",
      "\n",
      "processing control file freyberg_mf6.pst\n",
      "\n",
      "Note: 'NOPTMAX' == 0, switching to forgiveness mode when checking inputs\n",
      "\n",
      "noptmax = 0, resetting max_run_fail = 1\n",
      "checking model IO files...done\n",
      "              starting serial run manager ...\n",
      "\n",
      "\n",
      "\n",
      "\n",
      "\n",
      "\n",
      "    ---  starting serial run manager for 1 runs ---    \n",
      "\n",
      "\n",
      "04/20/22 09:22:00 processing template files with 1 threads...\n",
      "thread 0 processed 147 template files\n",
      "04/20/22 09:22:00 done, took 0.298 seconds\n",
      "04/20/22 09:22:00 calling forward run command(s)\n",
      "04/20/22 09:22:00 calling forward run command: 'python forward_run.py' \n",
      "error removing tmp file:heads.csv\n",
      "error removing tmp file:sfr.csv\n",
      "error removing tmp file:hdslay1.txt\n",
      "error removing tmp file:hdslay2.txt\n",
      "error removing tmp file:hdslay3.txt\n",
      "error removing tmp file:inc.csv\n",
      "error removing tmp file:cum.csv\n",
      "error removing tmp file:sfr.tdiff.csv\n",
      "error removing tmp file:heads.tdiff.csv\n",
      "error removing tmp file:heads.vdiff.csv\n",
      "starting list mlt 2022-04-20 09:22:01.405387\n",
      "number of chunks to process: 2\n",
      "process 1  processed  2 process_list_file calls\n",
      "process 0  processed  50 process_list_file calls\n",
      "                                   MODFLOW 6\n",
      "                U.S. GEOLOGICAL SURVEY MODULAR HYDROLOGIC MODEL\n",
      "                   VERSION 6.3.0 release candidate 07/30/2021\n",
      "                               ***DEVELOP MODE***\n",
      "\n",
      "   MODFLOW 6 compiled Dec 29 2021 09:30:50 with Intel(R) Fortran Intel(R) 64\n",
      "   Compiler for applications running on Intel(R) 64, Version 19.1.3.301 Build\n",
      "                                20200925_000000\n",
      "\n",
      "This software is preliminary or provisional and is subject to \n",
      "revision. It is being provided to meet the need for timely best \n",
      "science. The software has not received final approval by the U.S. \n",
      "Geological Survey (USGS). No warranty, expressed or implied, is made \n",
      "by the USGS or the U.S. Government as to the functionality of the \n",
      "software and related material nor shall the fact of release \n",
      "constitute any such warranty. The software is provided on the \n",
      "condition that neither the USGS nor the U.S. Government shall be held \n",
      "liable for any damages resulting from the authorized or unauthorized \n",
      "use of the software.\n",
      "\n",
      " \n",
      " Run start date and time (yyyy/mm/dd hh:mm:ss): 2022/04/20  9:22:04\n",
      " \n",
      " Writing simulation list file: mfsim.lst\n",
      " Using Simulation name file: mfsim.nam\n",
      " \n",
      "    Solving:  Stress period:     1    Time step:     1\n",
      "    Solving:  Stress period:     2    Time step:     1\n",
      "    Solving:  Stress period:     3    Time step:     1\n",
      "    Solving:  Stress period:     4    Time step:     1\n",
      "    Solving:  Stress period:     5    Time step:     1\n",
      "    Solving:  Stress period:     6    Time step:     1\n",
      "    Solving:  Stress period:     7    Time step:     1\n",
      "    Solving:  Stress period:     8    Time step:     1\n",
      "    Solving:  Stress period:     9    Time step:     1\n",
      "    Solving:  Stress period:    10    Time step:     1\n",
      "    Solving:  Stress period:    11    Time step:     1\n",
      "    Solving:  Stress period:    12    Time step:     1\n",
      "    Solving:  Stress period:    13    Time step:     1\n",
      "    Solving:  Stress period:    14    Time step:     1\n",
      "    Solving:  Stress period:    15    Time step:     1\n",
      "    Solving:  Stress period:    16    Time step:     1\n",
      "    Solving:  Stress period:    17    Time step:     1\n",
      "    Solving:  Stress period:    18    Time step:     1\n",
      "    Solving:  Stress period:    19    Time step:     1\n",
      "    Solving:  Stress period:    20    Time step:     1\n",
      "    Solving:  Stress period:    21    Time step:     1\n",
      "    Solving:  Stress period:    22    Time step:     1\n",
      "    Solving:  Stress period:    23    Time step:     1\n",
      "    Solving:  Stress period:    24    Time step:     1\n",
      "    Solving:  Stress period:    25    Time step:     1\n",
      " \n",
      " Run end date and time (yyyy/mm/dd hh:mm:ss): 2022/04/20  9:22:04\n",
      " Elapsed run time:  0.444 Seconds\n",
      " \n",
      " Normal termination of simulation.\n",
      "\n",
      "MODPATH Version 7.2.001   \n",
      "Program compiled Aug 01 2021 12:57:00 with IFORT compiler (ver. 19.10.3)        \n",
      " \n",
      " \n",
      "Run particle tracking simulation ...\n",
      "Processing Time Step     1 Period     1.  Time =  3.65250E+03  Steady-state flow                                                    \n",
      "Processing Time Step     1 Period     2.  Time =  3.68350E+03  Steady-state flow                                                    \n",
      "Processing Time Step     1 Period     3.  Time =  3.71250E+03  Steady-state flow                                                    \n",
      "Processing Time Step     1 Period     4.  Time =  3.74350E+03  Steady-state flow                                                    \n",
      "Processing Time Step     1 Period     5.  Time =  3.77350E+03  Steady-state flow                                                    \n",
      "Processing Time Step     1 Period     6.  Time =  3.80450E+03  Steady-state flow                                                    \n",
      "Processing Time Step     1 Period     7.  Time =  3.83450E+03  Steady-state flow                                                    \n",
      "Processing Time Step     1 Period     8.  Time =  3.86550E+03  Steady-state flow                                                    \n",
      "Processing Time Step     1 Period     9.  Time =  3.89650E+03  Steady-state flow                                                    \n",
      "Processing Time Step     1 Period    10.  Time =  3.92650E+03  Steady-state flow                                                    \n",
      "Processing Time Step     1 Period    11.  Time =  3.95750E+03  Steady-state flow                                                    \n",
      "Processing Time Step     1 Period    12.  Time =  3.98750E+03  Steady-state flow                                                    \n",
      "Processing Time Step     1 Period    13.  Time =  4.01850E+03  Steady-state flow                                                    \n",
      "Processing Time Step     1 Period    14.  Time =  4.04950E+03  Steady-state flow                                                    \n",
      "Processing Time Step     1 Period    15.  Time =  4.07750E+03  Steady-state flow                                                    \n",
      "Processing Time Step     1 Period    16.  Time =  4.10850E+03  Steady-state flow                                                    \n",
      "Processing Time Step     1 Period    17.  Time =  4.13850E+03  Steady-state flow                                                    \n",
      "Processing Time Step     1 Period    18.  Time =  4.16950E+03  Steady-state flow                                                    \n",
      "Processing Time Step     1 Period    19.  Time =  4.19950E+03  Steady-state flow                                                    \n",
      "Processing Time Step     1 Period    20.  Time =  4.23050E+03  Steady-state flow                                                    \n",
      "Processing Time Step     1 Period    21.  Time =  4.26150E+03  Steady-state flow                                                    \n",
      "Processing Time Step     1 Period    22.  Time =  4.29150E+03  Steady-state flow                                                    \n",
      "Processing Time Step     1 Period    23.  Time =  4.32250E+03  Steady-state flow                                                    \n",
      "Processing Time Step     1 Period    24.  Time =  4.35250E+03  Steady-state flow                                                    \n",
      "Processing Time Step     1 Period    25.  Time =  4.38350E+03  Steady-state flow                                                    \n",
      "\n",
      "Particle Summary:\n",
      "         0 particles are pending release.\n",
      "         0 particles remain active.\n",
      "         0 particles terminated at boundary faces.\n",
      "         1 particles terminated at weak sink cells.\n",
      "         0 particles terminated at weak source cells.\n",
      "         0 particles terminated at strong source/sink cells.\n",
      "         0 particles terminated in cells with a specified zone number.\n",
      "         0 particles were stranded in inactive or dry cells.\n",
      "         0 particles were unreleased.\n",
      "         0 particles have an unknown status.\n",
      " \n",
      "Normal termination.                                                        \n"
     ]
    },
    {
     "name": "stdout",
     "output_type": "stream",
     "text": [
      "finished list mlt 2022-04-20 09:22:03.728865\n",
      "starting fac2real 2022-04-20 09:22:03.729433\n",
      "number of chunks to process: 1\n",
      "process 0  processed  13 fac2real calls\n",
      "finished fac2real 2022-04-20 09:22:03.897413\n",
      "starting arr mlt 2022-04-20 09:22:03.897421\n",
      "number of chunks to process: 1\n",
      "process 0  processed  40 process_array_file calls\n",
      "finished arr mlt 2022-04-20 09:22:04.149049\n",
      "Secondary observation files processed.\n",
      "04/20/22 09:22:05 foward run command(s) finished, took 5.006 seconds\n",
      "04/20/22 09:22:05 processing instruction files with 1 threads...\n",
      "thread 0 processed 11 instruction files\n",
      "04/20/22 09:22:05 done, took 0.023 seconds\n",
      "\n",
      "\n",
      "-->04/20/22 09:22:05 run complete, took: 5.369 seconds\n",
      "-->1 of 1 complete, 0 failed\n",
      "\n",
      "\n",
      "\n",
      "\n",
      "\n",
      "    ---  serial run manager runs summary:  ---    \n",
      "    1 of 1 complete, 0 failed\n",
      "    process took : 5.369 seconds\n",
      "\n",
      "\n",
      "\n",
      "\n",
      "\n",
      "-----------------------------------------\n",
      "     ---   OPTIMIZATION COMPLETE   ---   \n",
      "  Reason for terminating PEST++ simulation: NOPTMAX criterion met\n",
      "  Summary of termination criteria:\n",
      "  NOPTMAX = 0 ;  NOPT at termination = 0\n",
      "  NPHINORED = 3 ;  NPHINORED at termination = 0\n",
      "  NRELPAR = 3; RELPARSTP = 0.01 ;  NRELPAR at termination = 0\n",
      "  PHIREDSTP = 0.01; NPHISTP = 3\n",
      "  NPHISTP lowest PHI's:\n",
      "\n",
      "FINAL OPTIMISATION RESULTS\n",
      "\n",
      "  Final phi                                           Total : 0\n",
      "  Contribution to phi from observation group \"oname:hds_otype:lst_usecol:trgw-0-13-10\" : 0\n",
      "  Contribution to phi from observation group \"oname:hds_otype:lst_usecol:trgw-0-15-16\" : 0\n",
      "  Contribution to phi from observation group \"oname:hds_otype:lst_usecol:trgw-0-2-15\" : 0\n",
      "  Contribution to phi from observation group \"oname:hds_otype:lst_usecol:trgw-0-2-9\" : 0\n",
      "  Contribution to phi from observation group \"oname:hds_otype:lst_usecol:trgw-0-21-10\" : 0\n",
      "  Contribution to phi from observation group \"oname:hds_otype:lst_usecol:trgw-0-22-15\" : 0\n",
      "  Contribution to phi from observation group \"oname:hds_otype:lst_usecol:trgw-0-24-4\" : 0\n",
      "  Contribution to phi from observation group \"oname:hds_otype:lst_usecol:trgw-0-26-6\" : 0\n",
      "  Contribution to phi from observation group \"oname:hds_otype:lst_usecol:trgw-0-29-15\" : 0\n",
      "  Contribution to phi from observation group \"oname:hds_otype:lst_usecol:trgw-0-3-8\" : 0\n",
      "  Contribution to phi from observation group \"oname:hds_otype:lst_usecol:trgw-0-33-7\" : 0\n",
      "  Contribution to phi from observation group \"oname:hds_otype:lst_usecol:trgw-0-34-10\" : 0\n",
      "  Contribution to phi from observation group \"oname:hds_otype:lst_usecol:trgw-0-9-1\" : 0\n",
      "  Contribution to phi from observation group \"oname:hds_otype:lst_usecol:trgw-2-13-10\" : 0\n",
      "  Contribution to phi from observation group \"oname:hds_otype:lst_usecol:trgw-2-15-16\" : 0\n",
      "  Contribution to phi from observation group \"oname:hds_otype:lst_usecol:trgw-2-2-15\" : 0\n",
      "  Contribution to phi from observation group \"oname:hds_otype:lst_usecol:trgw-2-2-9\" : 0\n",
      "  Contribution to phi from observation group \"oname:hds_otype:lst_usecol:trgw-2-21-10\" : 0\n",
      "  Contribution to phi from observation group \"oname:hds_otype:lst_usecol:trgw-2-22-15\" : 0\n",
      "  Contribution to phi from observation group \"oname:hds_otype:lst_usecol:trgw-2-24-4\" : 0\n",
      "  Contribution to phi from observation group \"oname:hds_otype:lst_usecol:trgw-2-26-6\" : 0\n",
      "  Contribution to phi from observation group \"oname:hds_otype:lst_usecol:trgw-2-29-15\" : 0\n",
      "  Contribution to phi from observation group \"oname:hds_otype:lst_usecol:trgw-2-3-8\" : 0\n",
      "  Contribution to phi from observation group \"oname:hds_otype:lst_usecol:trgw-2-33-7\" : 0\n",
      "  Contribution to phi from observation group \"oname:hds_otype:lst_usecol:trgw-2-34-10\" : 0\n",
      "  Contribution to phi from observation group \"oname:hds_otype:lst_usecol:trgw-2-9-1\" : 0\n",
      "  Contribution to phi from observation group \"oname:sfr_otype:lst_usecol:gage-1\" : 0\n",
      "  Contribution to phi from observation group \"oname:sfr_otype:lst_usecol:headwater\" : 0\n",
      "  Contribution to phi from observation group \"oname:sfr_otype:lst_usecol:tailwater\" : 0\n",
      "  Contribution to phi from observation group      \"hdslay1\" : 0\n",
      "  Contribution to phi from observation group      \"hdslay2\" : 0\n",
      "  Contribution to phi from observation group      \"hdslay3\" : 0\n",
      "  Contribution to phi from observation group          \"inc\" : 0\n",
      "  Contribution to phi from observation group \"oname:inc_otype:lst_usecol:in-out\" : 0\n",
      "  Contribution to phi from observation group \"oname:inc_otype:lst_usecol:percent-discrepancy\" : 0\n",
      "  Contribution to phi from observation group \"oname:inc_otype:lst_usecol:rcha\" : 0\n",
      "  Contribution to phi from observation group \"oname:inc_otype:lst_usecol:sfr\" : 0\n",
      "  Contribution to phi from observation group \"oname:inc_otype:lst_usecol:sto-ss\" : 0\n",
      "  Contribution to phi from observation group \"oname:inc_otype:lst_usecol:sto-sy\" : 0\n",
      "  Contribution to phi from observation group \"oname:inc_otype:lst_usecol:total\" : 0\n",
      "  Contribution to phi from observation group \"oname:inc_otype:lst_usecol:wel\" : 0\n",
      "  Contribution to phi from observation group          \"cum\" : 0\n",
      "  Contribution to phi from observation group \"oname:cum_otype:lst_usecol:in-out\" : 0\n",
      "  Contribution to phi from observation group \"oname:cum_otype:lst_usecol:percent-discrepancy\" : 0\n",
      "  Contribution to phi from observation group \"oname:cum_otype:lst_usecol:rcha\" : 0\n",
      "  Contribution to phi from observation group \"oname:cum_otype:lst_usecol:sfr\" : 0\n",
      "  Contribution to phi from observation group \"oname:cum_otype:lst_usecol:sto-ss\" : 0\n",
      "  Contribution to phi from observation group \"oname:cum_otype:lst_usecol:sto-sy\" : 0\n",
      "  Contribution to phi from observation group \"oname:cum_otype:lst_usecol:total\" : 0\n",
      "  Contribution to phi from observation group \"oname:cum_otype:lst_usecol:wel\" : 0\n",
      "  Contribution to phi from observation group \"oname:sfrtd_otype:lst_usecol:gage-1\" : 0\n",
      "  Contribution to phi from observation group \"oname:sfrtd_otype:lst_usecol:headwater\" : 0\n",
      "  Contribution to phi from observation group \"oname:sfrtd_otype:lst_usecol:tailwater\" : 0\n",
      "  Contribution to phi from observation group \"oname:hdstd_otype:lst_usecol:trgw-0-13-10\" : 0\n",
      "  Contribution to phi from observation group \"oname:hdstd_otype:lst_usecol:trgw-0-15-16\" : 0\n",
      "  Contribution to phi from observation group \"oname:hdstd_otype:lst_usecol:trgw-0-2-15\" : 0\n",
      "  Contribution to phi from observation group \"oname:hdstd_otype:lst_usecol:trgw-0-2-9\" : 0\n",
      "  Contribution to phi from observation group \"oname:hdstd_otype:lst_usecol:trgw-0-21-10\" : 0\n",
      "  Contribution to phi from observation group \"oname:hdstd_otype:lst_usecol:trgw-0-22-15\" : 0\n",
      "  Contribution to phi from observation group \"oname:hdstd_otype:lst_usecol:trgw-0-24-4\" : 0\n",
      "  Contribution to phi from observation group \"oname:hdstd_otype:lst_usecol:trgw-0-26-6\" : 0\n",
      "  Contribution to phi from observation group \"oname:hdstd_otype:lst_usecol:trgw-0-29-15\" : 0\n",
      "  Contribution to phi from observation group \"oname:hdstd_otype:lst_usecol:trgw-0-3-8\" : 0\n",
      "  Contribution to phi from observation group \"oname:hdstd_otype:lst_usecol:trgw-0-33-7\" : 0\n",
      "  Contribution to phi from observation group \"oname:hdstd_otype:lst_usecol:trgw-0-34-10\" : 0\n",
      "  Contribution to phi from observation group \"oname:hdstd_otype:lst_usecol:trgw-0-9-1\" : 0\n",
      "  Contribution to phi from observation group \"oname:hdstd_otype:lst_usecol:trgw-2-13-10\" : 0\n",
      "  Contribution to phi from observation group \"oname:hdstd_otype:lst_usecol:trgw-2-15-16\" : 0\n",
      "  Contribution to phi from observation group \"oname:hdstd_otype:lst_usecol:trgw-2-2-15\" : 0\n",
      "  Contribution to phi from observation group \"oname:hdstd_otype:lst_usecol:trgw-2-2-9\" : 0\n",
      "  Contribution to phi from observation group \"oname:hdstd_otype:lst_usecol:trgw-2-21-10\" : 0\n",
      "  Contribution to phi from observation group \"oname:hdstd_otype:lst_usecol:trgw-2-22-15\" : 0\n",
      "  Contribution to phi from observation group \"oname:hdstd_otype:lst_usecol:trgw-2-24-4\" : 0\n",
      "  Contribution to phi from observation group \"oname:hdstd_otype:lst_usecol:trgw-2-26-6\" : 0\n",
      "  Contribution to phi from observation group \"oname:hdstd_otype:lst_usecol:trgw-2-29-15\" : 0\n",
      "  Contribution to phi from observation group \"oname:hdstd_otype:lst_usecol:trgw-2-3-8\" : 0\n",
      "  Contribution to phi from observation group \"oname:hdstd_otype:lst_usecol:trgw-2-33-7\" : 0\n",
      "  Contribution to phi from observation group \"oname:hdstd_otype:lst_usecol:trgw-2-34-10\" : 0\n",
      "  Contribution to phi from observation group \"oname:hdstd_otype:lst_usecol:trgw-2-9-1\" : 0\n",
      "  Contribution to phi from observation group \"oname:hdsvd_otype:lst_usecol:trgw-0-13-10\" : 0\n",
      "  Contribution to phi from observation group \"oname:hdsvd_otype:lst_usecol:trgw-0-15-16\" : 0\n",
      "  Contribution to phi from observation group \"oname:hdsvd_otype:lst_usecol:trgw-0-2-15\" : 0\n",
      "  Contribution to phi from observation group \"oname:hdsvd_otype:lst_usecol:trgw-0-2-9\" : 0\n",
      "  Contribution to phi from observation group \"oname:hdsvd_otype:lst_usecol:trgw-0-21-10\" : 0\n",
      "  Contribution to phi from observation group \"oname:hdsvd_otype:lst_usecol:trgw-0-22-15\" : 0\n",
      "  Contribution to phi from observation group \"oname:hdsvd_otype:lst_usecol:trgw-0-24-4\" : 0\n",
      "  Contribution to phi from observation group \"oname:hdsvd_otype:lst_usecol:trgw-0-26-6\" : 0\n",
      "  Contribution to phi from observation group \"oname:hdsvd_otype:lst_usecol:trgw-0-29-15\" : 0\n",
      "  Contribution to phi from observation group \"oname:hdsvd_otype:lst_usecol:trgw-0-3-8\" : 0\n",
      "  Contribution to phi from observation group \"oname:hdsvd_otype:lst_usecol:trgw-0-33-7\" : 0\n",
      "  Contribution to phi from observation group \"oname:hdsvd_otype:lst_usecol:trgw-0-34-10\" : 0\n",
      "  Contribution to phi from observation group \"oname:hdsvd_otype:lst_usecol:trgw-0-9-1\" : 0\n",
      "  Contribution to phi from observation group         \"part\" : 0\n",
      "\n",
      "\n",
      "pestpp-glm analysis complete...\n",
      "started at 04/20/22 09:21:59\n",
      "finished at 04/20/22 09:22:05\n",
      "took 0.1 minutes\n"
     ]
    }
   ],
   "source": [
    "pyemu.os_utils.run('pestpp-glm freyberg_mf6.pst', cwd=template_ws)"
   ]
  },
  {
   "cell_type": "markdown",
   "metadata": {},
   "source": [
    "Recall that we assigned observation values generated from the \"base model run\"? If we setup everything correctly, this means that PEST should have obtained residuals very close to zero. As mentioned, this is a good way to check for problems early on.\n",
    "\n",
    "Let's check the Phi recorded in the *.iobj file (could also check the *.rec or *.rei files)."
   ]
  },
  {
   "cell_type": "code",
   "execution_count": 74,
   "metadata": {},
   "outputs": [
    {
     "data": {
      "text/plain": [
       "0    0\n",
       "Name: total_phi, dtype: int64"
      ]
     },
     "execution_count": 74,
     "metadata": {},
     "output_type": "execute_result"
    }
   ],
   "source": [
    "# read the file\n",
    "iobj = pd.read_csv(os.path.join(template_ws, 'freyberg_mf6.iobj'))\n",
    "\n",
    "# check value in phi column\n",
    "iobj.total_phi"
   ]
  },
  {
   "cell_type": "markdown",
   "metadata": {},
   "source": [
    " Sweet! Zero. All is well."
   ]
  },
  {
   "cell_type": "markdown",
   "metadata": {},
   "source": [
    "### 8. Prior Parameter Covariance Matrix\n",
    "\n",
    "One the major reasons `PstFrom` was built is to help with building the Prior - both covariance matrix and ensemble - with geostatical correlation.  Remember all that business above related to geostatical structures and correlations?  This is where is pays off.\n",
    "\n",
    "Let's see how this works.  For cases with less than about 30,000 parameters, we can actually generate and visualize the prior parameter covariance matrix.  If you have more parameters, this matrix may not fit in memory.  But, not to worry, `PstFrom` has some trickery to help generate the geostatistical prior ensemble."
   ]
  },
  {
   "cell_type": "code",
   "execution_count": 75,
   "metadata": {
    "execution": {
     "iopub.execute_input": "2022-04-11T03:52:19.880500Z",
     "iopub.status.busy": "2022-04-11T03:52:19.880500Z",
     "iopub.status.idle": "2022-04-11T03:52:56.202006Z",
     "shell.execute_reply": "2022-04-11T03:52:56.203003Z"
    }
   },
   "outputs": [
    {
     "data": {
      "image/png": "[encoded data removed]",
      "text/plain": [
       "<Figure size 432x288 with 1 Axes>"
      ]
     },
     "metadata": {
      "needs_background": "light"
     },
     "output_type": "display_data"
    }
   ],
   "source": [
    "# build the prior covariance matrix and store it as a compresed bianry file (otherwise it can get huge!)\n",
    "# depending on your machine, this may take a while...\n",
    "if pf.pst.npar < 35000:  #if you have more than about 35K pars, the cov matrix becomes hard to handle\n",
    "    cov = pf.build_prior(fmt='coo', filename=os.path.join(template_ws,\"prior_cov.jcb\"))\n",
    "    # and take a peek at a slice of the matrix\n",
    "    try: \n",
    "        x = cov.x.copy()\n",
    "        x[x==0] = np.NaN\n",
    "        plt.imshow(x[:1000,:1000])\n",
    "    except:\n",
    "        pass"
   ]
  },
  {
   "cell_type": "markdown",
   "metadata": {},
   "source": [
    "snap!  That big block must be a grid-scale parameter group..."
   ]
  },
  {
   "cell_type": "code",
   "execution_count": 76,
   "metadata": {},
   "outputs": [
    {
     "data": {
      "text/plain": [
       "['pname:npfklayer1gr_inst:0_ptype:gr_pstyle:m_i:0_j:0_x:125.00_y:9875.00_zone:1',\n",
       " 'pname:npfklayer1gr_inst:0_ptype:gr_pstyle:m_i:0_j:1_x:375.00_y:9875.00_zone:1',\n",
       " 'pname:npfklayer1gr_inst:0_ptype:gr_pstyle:m_i:0_j:2_x:625.00_y:9875.00_zone:1',\n",
       " 'pname:npfklayer1gr_inst:0_ptype:gr_pstyle:m_i:0_j:3_x:875.00_y:9875.00_zone:1',\n",
       " 'pname:npfklayer1gr_inst:0_ptype:gr_pstyle:m_i:0_j:4_x:1125.00_y:9875.00_zone:1',\n",
       " 'pname:npfklayer1gr_inst:0_ptype:gr_pstyle:m_i:0_j:5_x:1375.00_y:9875.00_zone:1',\n",
       " 'pname:npfklayer1gr_inst:0_ptype:gr_pstyle:m_i:0_j:6_x:1625.00_y:9875.00_zone:1',\n",
       " 'pname:npfklayer1gr_inst:0_ptype:gr_pstyle:m_i:0_j:7_x:1875.00_y:9875.00_zone:1',\n",
       " 'pname:npfklayer1gr_inst:0_ptype:gr_pstyle:m_i:0_j:8_x:2125.00_y:9875.00_zone:1',\n",
       " 'pname:npfklayer1gr_inst:0_ptype:gr_pstyle:m_i:0_j:9_x:2375.00_y:9875.00_zone:1']"
      ]
     },
     "execution_count": 76,
     "metadata": {},
     "output_type": "execute_result"
    }
   ],
   "source": [
    "cov.row_names[:10]"
   ]
  },
  {
   "cell_type": "markdown",
   "metadata": {},
   "source": [
    "And now generate a prior parameter ensemble. This step is relevant for using pestpp-ies in subsequent tutorials. Note: you do not have to call `build_prior()` before calling `draw()`!"
   ]
  },
  {
   "cell_type": "code",
   "execution_count": 77,
   "metadata": {
    "execution": {
     "iopub.execute_input": "2022-04-11T03:52:56.243893Z",
     "iopub.status.busy": "2022-04-11T03:52:56.241899Z",
     "iopub.status.idle": "2022-04-11T03:53:17.140940Z",
     "shell.execute_reply": "2022-04-11T03:53:17.141937Z"
    }
   },
   "outputs": [
    {
     "name": "stdout",
     "output_type": "stream",
     "text": [
      "SpecSim.initialize() summary: full_delx X full_dely: 72 X 72\n",
      "SpecSim.initialize() summary: full_delx X full_dely: 72 X 72\n",
      "SpecSim.initialize() summary: full_delx X full_dely: 72 X 72\n",
      "SpecSim.initialize() summary: full_delx X full_dely: 72 X 72\n",
      "SpecSim.initialize() summary: full_delx X full_dely: 72 X 72\n",
      "SpecSim.initialize() summary: full_delx X full_dely: 72 X 72\n",
      "SpecSim.initialize() summary: full_delx X full_dely: 72 X 72\n",
      "SpecSim.initialize() summary: full_delx X full_dely: 72 X 72\n",
      "SpecSim.initialize() summary: full_delx X full_dely: 72 X 72\n",
      "SpecSim.initialize() summary: full_delx X full_dely: 72 X 72\n",
      "SpecSim.initialize() summary: full_delx X full_dely: 72 X 72\n",
      "SpecSim.initialize() summary: full_delx X full_dely: 72 X 72\n",
      "SpecSim.initialize() summary: full_delx X full_dely: 72 X 72\n",
      "SpecSim.initialize() summary: full_delx X full_dely: 72 X 72\n",
      "SpecSim.initialize() summary: full_delx X full_dely: 72 X 72\n",
      "building diagonal cov\n",
      "processing  name:struct1,nugget:0.0,structures:\n",
      "name:var1,contribution:1.0,a:1000.0,anisotropy:1.0,bearing:0.0\n",
      "\n",
      "working on pargroups ['npfklayer1pp']\n",
      "build cov matrix\n",
      "done\n",
      "getting diag var cov 32\n",
      "scaling full cov by diag var cov\n",
      "working on pargroups ['npfklayer3pp']\n",
      "build cov matrix\n",
      "done\n",
      "getting diag var cov 32\n",
      "scaling full cov by diag var cov\n",
      "working on pargroups ['npfklayer2pp']\n",
      "build cov matrix\n",
      "done\n",
      "getting diag var cov 32\n",
      "scaling full cov by diag var cov\n",
      "working on pargroups ['npfk33layer3pp']\n",
      "build cov matrix\n",
      "done\n",
      "getting diag var cov 32\n",
      "scaling full cov by diag var cov\n",
      "working on pargroups ['npfk33layer2pp']\n",
      "build cov matrix\n",
      "done\n",
      "getting diag var cov 32\n",
      "scaling full cov by diag var cov\n",
      "working on pargroups ['npfk33layer1pp']\n",
      "build cov matrix\n",
      "done\n",
      "getting diag var cov 32\n",
      "scaling full cov by diag var cov\n",
      "working on pargroups ['stosslayer3pp']\n",
      "build cov matrix\n",
      "done\n",
      "getting diag var cov 32\n",
      "scaling full cov by diag var cov\n",
      "working on pargroups ['stosslayer1pp']\n",
      "build cov matrix\n",
      "done\n",
      "getting diag var cov 32\n",
      "scaling full cov by diag var cov\n",
      "working on pargroups ['stosylayer3pp']\n",
      "build cov matrix\n",
      "done\n",
      "getting diag var cov 32\n",
      "scaling full cov by diag var cov\n",
      "working on pargroups ['nelayer3pp']\n",
      "build cov matrix\n",
      "done\n",
      "getting diag var cov 32\n",
      "scaling full cov by diag var cov\n",
      "working on pargroups ['nelayer2pp']\n",
      "build cov matrix\n",
      "done\n",
      "getting diag var cov 32\n",
      "scaling full cov by diag var cov\n",
      "working on pargroups ['nelayer1pp']\n",
      "build cov matrix\n",
      "done\n",
      "getting diag var cov 32\n",
      "scaling full cov by diag var cov\n",
      "working on pargroups ['rch_recharge_1pp']\n",
      "build cov matrix\n",
      "done\n",
      "getting diag var cov 32\n",
      "scaling full cov by diag var cov\n",
      "working on pargroups ['ghbcondgr']\n",
      "build cov matrix\n",
      "done\n",
      "getting diag var cov 10\n",
      "scaling full cov by diag var cov\n",
      "working on pargroups ['ghbcondgr']\n",
      "build cov matrix\n",
      "done\n",
      "getting diag var cov 10\n",
      "scaling full cov by diag var cov\n",
      "working on pargroups ['ghbcondgr']\n",
      "build cov matrix\n",
      "done\n",
      "getting diag var cov 10\n",
      "scaling full cov by diag var cov\n",
      "working on pargroups ['sfrcondgr']\n",
      "build cov matrix\n",
      "done\n",
      "getting diag var cov 40\n",
      "scaling full cov by diag var cov\n",
      "processing  name:struct1,nugget:0.0,structures:\n",
      "name:var1,contribution:1.0,a:60.0,anisotropy:1.0,bearing:0.0\n",
      "\n",
      "working on pargroups ['welcst']\n",
      "build cov matrix\n",
      "done\n",
      "getting diag var cov 25\n",
      "scaling full cov by diag var cov\n",
      "working on pargroups ['sfrgr']\n",
      "build cov matrix\n",
      "done\n",
      "getting diag var cov 25\n",
      "scaling full cov by diag var cov\n",
      "processing  name:struct1,nugget:0.0,structures:\n",
      "name:var1,contribution:1.0,a:1000.0,anisotropy:1.0,bearing:0.0\n",
      "\n",
      "working on pargroups ['ghbheadgr']\n",
      "build cov matrix\n",
      "done\n",
      "getting diag var cov 10\n",
      "scaling full cov by diag var cov\n",
      "working on pargroups ['ghbheadgr']\n",
      "build cov matrix\n",
      "done\n",
      "getting diag var cov 10\n",
      "scaling full cov by diag var cov\n",
      "working on pargroups ['ghbheadgr']\n",
      "build cov matrix\n",
      "done\n",
      "getting diag var cov 10\n",
      "scaling full cov by diag var cov\n",
      "adding remaining parameters to diagonal\n"
     ]
    }
   ],
   "source": [
    "pe = pf.draw(num_reals=200, use_specsim=True) # draw parameters from the prior distribution\n",
    "pe.enforce() # enforces parameter bounds\n",
    "pe.to_binary(os.path.join(template_ws,\"prior_pe.jcb\")) #writes the paramter ensemble to binary file\n",
    "assert pe.shape[1] == pst.npar"
   ]
  },
  {
   "cell_type": "markdown",
   "metadata": {},
   "source": [
    "Let's now test-run one of these geostatistical realizations (always a good idea!).  We do this by replacing the `parval1` values in the control with a row from `pe`:"
   ]
  },
  {
   "cell_type": "code",
   "execution_count": 78,
   "metadata": {},
   "outputs": [
    {
     "data": {
      "text/plain": [
       "array([ 0.72616096,  0.82076147,  1.08770186, ..., 28.42569021,\n",
       "       41.90479374, 34.86899895])"
      ]
     },
     "execution_count": 78,
     "metadata": {},
     "output_type": "execute_result"
    }
   ],
   "source": [
    "pst.parameter_data.loc[:,\"parval1\"] = pe.loc[pe.index[0],pst.par_names].values\n",
    "pst.parameter_data.parval1.values"
   ]
  },
  {
   "cell_type": "code",
   "execution_count": 79,
   "metadata": {},
   "outputs": [
    {
     "name": "stdout",
     "output_type": "stream",
     "text": [
      "noptmax:0, npar_adj:12052, nnz_obs:4627\n",
      "\n",
      "\n",
      "             pestpp-glm: a tool for GLM parameter estimation and FOSM uncertainty analysis\n",
      "\n",
      "                                   by The PEST++ Development Team\n",
      "\n",
      "\n",
      "version: 5.1.16\n",
      "binary compiled on Apr 14 2022 at 09:33:39\n",
      "\n",
      "started at 04/20/22 09:22:16\n",
      "...processing command line: ' ./pestpp-glm test.pst'\n",
      "...using serial run manager\n",
      "\n",
      "using control file: \"test.pst\"\n",
      "\n",
      "in directory: \"/Users/JWhite/Dev/GMDSI_notebooks/tutorials/part2_pstfrom_pest_setup/freyberg6_template\"\n",
      "on host: \"localadmins-MacBook-Pro.local\"\n",
      "\n",
      "processing control file test.pst\n",
      "\n",
      "Note: 'NOPTMAX' == 0, switching to forgiveness mode when checking inputs\n",
      "\n",
      "noptmax = 0, resetting max_run_fail = 1\n",
      "parameter warning: 30 parameters are at lower bound\n",
      "parameter warning: 31 parameters are at upper bound\n",
      "checking model IO files...done\n",
      "              starting serial run manager ...\n",
      "\n",
      "\n",
      "\n",
      "\n",
      "\n",
      "\n",
      "    ---  starting serial run manager for 1 runs ---    \n",
      "\n",
      "\n",
      "04/20/22 09:22:17 processing template files with 1 threads...\n",
      "thread 0 processed 147 template files\n",
      "04/20/22 09:22:18 done, took 0.524 seconds\n",
      "04/20/22 09:22:18 calling forward run command(s)\n",
      "04/20/22 09:22:18 calling forward run command: 'python forward_run.py' \n",
      "error removing tmp file:heads.csv\n",
      "error removing tmp file:sfr.csv\n",
      "error removing tmp file:hdslay1.txt\n",
      "error removing tmp file:hdslay2.txt\n",
      "error removing tmp file:hdslay3.txt\n",
      "error removing tmp file:inc.csv\n",
      "error removing tmp file:cum.csv\n",
      "error removing tmp file:sfr.tdiff.csv\n",
      "error removing tmp file:heads.tdiff.csv\n",
      "error removing tmp file:heads.vdiff.csv\n",
      "starting list mlt 2022-04-20 09:22:19.223226\n",
      "number of chunks to process: 2\n",
      "process 1  processed  2 process_list_file calls\n",
      "process 0  processed  50 process_list_file calls\n",
      "                                   MODFLOW 6\n",
      "                U.S. GEOLOGICAL SURVEY MODULAR HYDROLOGIC MODEL\n",
      "                   VERSION 6.3.0 release candidate 07/30/2021\n",
      "                               ***DEVELOP MODE***\n",
      "\n",
      "   MODFLOW 6 compiled Dec 29 2021 09:30:50 with Intel(R) Fortran Intel(R) 64\n",
      "   Compiler for applications running on Intel(R) 64, Version 19.1.3.301 Build\n",
      "                                20200925_000000\n",
      "\n",
      "This software is preliminary or provisional and is subject to \n",
      "revision. It is being provided to meet the need for timely best \n",
      "science. The software has not received final approval by the U.S. \n",
      "Geological Survey (USGS). No warranty, expressed or implied, is made \n",
      "by the USGS or the U.S. Government as to the functionality of the \n",
      "software and related material nor shall the fact of release \n",
      "constitute any such warranty. The software is provided on the \n",
      "condition that neither the USGS nor the U.S. Government shall be held \n",
      "liable for any damages resulting from the authorized or unauthorized \n",
      "use of the software.\n",
      "\n",
      " \n",
      " Run start date and time (yyyy/mm/dd hh:mm:ss): 2022/04/20  9:22:22\n",
      " \n",
      " Writing simulation list file: mfsim.lst\n",
      " Using Simulation name file: mfsim.nam\n",
      " \n",
      "    Solving:  Stress period:     1    Time step:     1\n",
      "    Solving:  Stress period:     2    Time step:     1\n",
      "    Solving:  Stress period:     3    Time step:     1\n",
      "    Solving:  Stress period:     4    Time step:     1\n",
      "    Solving:  Stress period:     5    Time step:     1\n",
      "    Solving:  Stress period:     6    Time step:     1\n",
      "    Solving:  Stress period:     7    Time step:     1\n",
      "    Solving:  Stress period:     8    Time step:     1\n",
      "    Solving:  Stress period:     9    Time step:     1\n",
      "    Solving:  Stress period:    10    Time step:     1\n",
      "    Solving:  Stress period:    11    Time step:     1\n",
      "    Solving:  Stress period:    12    Time step:     1\n",
      "    Solving:  Stress period:    13    Time step:     1\n",
      "    Solving:  Stress period:    14    Time step:     1\n",
      "    Solving:  Stress period:    15    Time step:     1\n",
      "    Solving:  Stress period:    16    Time step:     1\n",
      "    Solving:  Stress period:    17    Time step:     1\n",
      "    Solving:  Stress period:    18    Time step:     1\n",
      "    Solving:  Stress period:    19    Time step:     1\n",
      "    Solving:  Stress period:    20    Time step:     1\n",
      "    Solving:  Stress period:    21    Time step:     1\n",
      "    Solving:  Stress period:    22    Time step:     1\n",
      "    Solving:  Stress period:    23    Time step:     1\n",
      "    Solving:  Stress period:    24    Time step:     1\n",
      "    Solving:  Stress period:    25    Time step:     1\n",
      " \n",
      " Run end date and time (yyyy/mm/dd hh:mm:ss): 2022/04/20  9:22:22\n",
      " Elapsed run time:  0.628 Seconds\n",
      " \n",
      " Normal termination of simulation.\n",
      "\n",
      "MODPATH Version 7.2.001   \n",
      "Program compiled Aug 01 2021 12:57:00 with IFORT compiler (ver. 19.10.3)        \n",
      " \n",
      " \n",
      "Run particle tracking simulation ...\n",
      "Processing Time Step     1 Period     1.  Time =  3.65250E+03  Steady-state flow                                                    \n",
      "Processing Time Step     1 Period     2.  Time =  3.68350E+03  Steady-state flow                                                    \n",
      "Processing Time Step     1 Period     3.  Time =  3.71250E+03  Steady-state flow                                                    \n",
      "Processing Time Step     1 Period     4.  Time =  3.74350E+03  Steady-state flow                                                    \n",
      "Processing Time Step     1 Period     5.  Time =  3.77350E+03  Steady-state flow                                                    \n",
      "Processing Time Step     1 Period     6.  Time =  3.80450E+03  Steady-state flow                                                    \n",
      "Processing Time Step     1 Period     7.  Time =  3.83450E+03  Steady-state flow                                                    \n",
      "Processing Time Step     1 Period     8.  Time =  3.86550E+03  Steady-state flow                                                    \n",
      "Processing Time Step     1 Period     9.  Time =  3.89650E+03  Steady-state flow                                                    \n",
      "Processing Time Step     1 Period    10.  Time =  3.92650E+03  Steady-state flow                                                    \n",
      "Processing Time Step     1 Period    11.  Time =  3.95750E+03  Steady-state flow                                                    \n",
      "Processing Time Step     1 Period    12.  Time =  3.98750E+03  Steady-state flow                                                    \n",
      "Processing Time Step     1 Period    13.  Time =  4.01850E+03  Steady-state flow                                                    \n",
      "Processing Time Step     1 Period    14.  Time =  4.04950E+03  Steady-state flow                                                    \n",
      "Processing Time Step     1 Period    15.  Time =  4.07750E+03  Steady-state flow                                                    \n",
      "Processing Time Step     1 Period    16.  Time =  4.10850E+03  Steady-state flow                                                    \n",
      "Processing Time Step     1 Period    17.  Time =  4.13850E+03  Steady-state flow                                                    \n",
      "Processing Time Step     1 Period    18.  Time =  4.16950E+03  Steady-state flow                                                    \n",
      "Processing Time Step     1 Period    19.  Time =  4.19950E+03  Steady-state flow                                                    \n",
      "Processing Time Step     1 Period    20.  Time =  4.23050E+03  Steady-state flow                                                    \n",
      "Processing Time Step     1 Period    21.  Time =  4.26150E+03  Steady-state flow                                                    \n",
      "Processing Time Step     1 Period    22.  Time =  4.29150E+03  Steady-state flow                                                    \n",
      "Processing Time Step     1 Period    23.  Time =  4.32250E+03  Steady-state flow                                                    \n",
      "Processing Time Step     1 Period    24.  Time =  4.35250E+03  Steady-state flow                                                    \n",
      "Processing Time Step     1 Period    25.  Time =  4.38350E+03  Steady-state flow                                                    \n",
      "\n",
      "Particle Summary:\n",
      "         0 particles are pending release.\n",
      "         0 particles remain active.\n",
      "         0 particles terminated at boundary faces.\n",
      "         1 particles terminated at weak sink cells.\n",
      "         0 particles terminated at weak source cells.\n",
      "         0 particles terminated at strong source/sink cells.\n",
      "         0 particles terminated in cells with a specified zone number.\n",
      "         0 particles were stranded in inactive or dry cells.\n",
      "         0 particles were unreleased.\n",
      "         0 particles have an unknown status.\n",
      " \n",
      "Normal termination.                                                        \n",
      "finished list mlt 2022-04-20 09:22:21.729110\n",
      "starting fac2real 2022-04-20 09:22:21.729611\n",
      "number of chunks to process: 1\n",
      "process 0  processed  13 fac2real calls\n",
      "finished fac2real 2022-04-20 09:22:21.914979\n",
      "starting arr mlt 2022-04-20 09:22:21.914987\n",
      "number of chunks to process: 1\n",
      "process 0  processed  40 process_array_file calls\n",
      "finished arr mlt 2022-04-20 09:22:22.193880\n",
      "Secondary observation files processed.\n"
     ]
    },
    {
     "name": "stdout",
     "output_type": "stream",
     "text": [
      "04/20/22 09:22:23 foward run command(s) finished, took 5.008 seconds\n",
      "04/20/22 09:22:23 processing instruction files with 1 threads...\n",
      "thread 0 processed 11 instruction files\n",
      "04/20/22 09:22:23 done, took 0.024 seconds\n",
      "\n",
      "\n",
      "-->04/20/22 09:22:23 run complete, took: 5.596 seconds\n",
      "-->1 of 1 complete, 0 failed\n",
      "\n",
      "\n",
      "\n",
      "\n",
      "\n",
      "    ---  serial run manager runs summary:  ---    \n",
      "    1 of 1 complete, 0 failed\n",
      "    process took : 5.596 seconds\n",
      "\n",
      "\n",
      "\n",
      "\n",
      "\n",
      "-----------------------------------------\n",
      "     ---   OPTIMIZATION COMPLETE   ---   \n",
      "  Reason for terminating PEST++ simulation: NOPTMAX criterion met\n",
      "  Summary of termination criteria:\n",
      "  NOPTMAX = 0 ;  NOPT at termination = 0\n",
      "  NPHINORED = 3 ;  NPHINORED at termination = 0\n",
      "  NRELPAR = 3; RELPARSTP = 0.01 ;  NRELPAR at termination = 0\n",
      "  PHIREDSTP = 0.01; NPHISTP = 3\n",
      "  NPHISTP lowest PHI's:\n",
      "\n",
      "FINAL OPTIMISATION RESULTS\n",
      "\n",
      "  Final phi                                           Total : 1.30953e+14\n",
      "  Contribution to phi from observation group \"oname:hds_otype:lst_usecol:trgw-0-13-10\" : 0.284487\n",
      "  Contribution to phi from observation group \"oname:hds_otype:lst_usecol:trgw-0-15-16\" : 0.24756\n",
      "  Contribution to phi from observation group \"oname:hds_otype:lst_usecol:trgw-0-2-15\" : 0.087383\n",
      "  Contribution to phi from observation group \"oname:hds_otype:lst_usecol:trgw-0-2-9\" : 0.108013\n",
      "  Contribution to phi from observation group \"oname:hds_otype:lst_usecol:trgw-0-21-10\" : 0.0820684\n",
      "  Contribution to phi from observation group \"oname:hds_otype:lst_usecol:trgw-0-22-15\" : 0.0434105\n",
      "  Contribution to phi from observation group \"oname:hds_otype:lst_usecol:trgw-0-24-4\" : 2.15261\n",
      "  Contribution to phi from observation group \"oname:hds_otype:lst_usecol:trgw-0-26-6\" : 2.03655\n",
      "  Contribution to phi from observation group \"oname:hds_otype:lst_usecol:trgw-0-29-15\" : 0.0351108\n",
      "  Contribution to phi from observation group \"oname:hds_otype:lst_usecol:trgw-0-3-8\" : 0.128738\n",
      "  Contribution to phi from observation group \"oname:hds_otype:lst_usecol:trgw-0-33-7\" : 2.84732\n",
      "  Contribution to phi from observation group \"oname:hds_otype:lst_usecol:trgw-0-34-10\" : 0.602457\n",
      "  Contribution to phi from observation group \"oname:hds_otype:lst_usecol:trgw-0-9-1\" : 1.82608\n",
      "  Contribution to phi from observation group \"oname:hds_otype:lst_usecol:trgw-2-13-10\" : 0.292614\n",
      "  Contribution to phi from observation group \"oname:hds_otype:lst_usecol:trgw-2-15-16\" : 0.233064\n",
      "  Contribution to phi from observation group \"oname:hds_otype:lst_usecol:trgw-2-2-15\" : 0.0505977\n",
      "  Contribution to phi from observation group \"oname:hds_otype:lst_usecol:trgw-2-2-9\" : 0.109194\n",
      "  Contribution to phi from observation group \"oname:hds_otype:lst_usecol:trgw-2-21-10\" : 0.0780132\n",
      "  Contribution to phi from observation group \"oname:hds_otype:lst_usecol:trgw-2-22-15\" : 0.0407832\n",
      "  Contribution to phi from observation group \"oname:hds_otype:lst_usecol:trgw-2-24-4\" : 2.20842\n",
      "  Contribution to phi from observation group \"oname:hds_otype:lst_usecol:trgw-2-26-6\" : 1.96392\n",
      "  Contribution to phi from observation group \"oname:hds_otype:lst_usecol:trgw-2-29-15\" : 0.0460805\n",
      "  Contribution to phi from observation group \"oname:hds_otype:lst_usecol:trgw-2-3-8\" : 0.122821\n",
      "  Contribution to phi from observation group \"oname:hds_otype:lst_usecol:trgw-2-33-7\" : 2.71514\n",
      "  Contribution to phi from observation group \"oname:hds_otype:lst_usecol:trgw-2-34-10\" : 0.598809\n",
      "  Contribution to phi from observation group \"oname:hds_otype:lst_usecol:trgw-2-9-1\" : 1.82301\n",
      "  Contribution to phi from observation group \"oname:sfr_otype:lst_usecol:gage-1\" : 2.09645e+06\n",
      "  Contribution to phi from observation group \"oname:sfr_otype:lst_usecol:headwater\" : 287081\n",
      "  Contribution to phi from observation group \"oname:sfr_otype:lst_usecol:tailwater\" : 2.96678e+06\n",
      "  Contribution to phi from observation group      \"hdslay1\" : 30.8035\n",
      "  Contribution to phi from observation group      \"hdslay2\" : 30.3384\n",
      "  Contribution to phi from observation group      \"hdslay3\" : 29.6836\n",
      "  Contribution to phi from observation group          \"inc\" : 3.62249e+06\n",
      "  Contribution to phi from observation group \"oname:inc_otype:lst_usecol:in-out\" : 1037.27\n",
      "  Contribution to phi from observation group \"oname:inc_otype:lst_usecol:percent-discrepancy\" : 0.7544\n",
      "  Contribution to phi from observation group \"oname:inc_otype:lst_usecol:rcha\" : 6.24988e+06\n",
      "  Contribution to phi from observation group \"oname:inc_otype:lst_usecol:sfr\" : 2.37428e+06\n",
      "  Contribution to phi from observation group \"oname:inc_otype:lst_usecol:sto-ss\" : 587.164\n",
      "  Contribution to phi from observation group \"oname:inc_otype:lst_usecol:sto-sy\" : 5.25182e+06\n",
      "  Contribution to phi from observation group \"oname:inc_otype:lst_usecol:total\" : 1037.28\n",
      "  Contribution to phi from observation group \"oname:inc_otype:lst_usecol:wel\" : 1.48973e+06\n",
      "  Contribution to phi from observation group          \"cum\" : 7.86543e+13\n",
      "  Contribution to phi from observation group \"oname:cum_otype:lst_usecol:in-out\" : 1.36693e+10\n",
      "  Contribution to phi from observation group \"oname:cum_otype:lst_usecol:percent-discrepancy\" : 1.5367\n",
      "  Contribution to phi from observation group \"oname:cum_otype:lst_usecol:rcha\" : 5.0115e+13\n",
      "  Contribution to phi from observation group \"oname:cum_otype:lst_usecol:sfr\" : 1.24292e+11\n",
      "  Contribution to phi from observation group \"oname:cum_otype:lst_usecol:sto-ss\" : 2.31254e+08\n",
      "  Contribution to phi from observation group \"oname:cum_otype:lst_usecol:sto-sy\" : 1.97359e+12\n",
      "  Contribution to phi from observation group \"oname:cum_otype:lst_usecol:total\" : 1.36693e+10\n",
      "  Contribution to phi from observation group \"oname:cum_otype:lst_usecol:wel\" : 3.46878e+10\n",
      "  Contribution to phi from observation group \"oname:sfrtd_otype:lst_usecol:gage-1\" : 2.69251e+06\n",
      "  Contribution to phi from observation group \"oname:sfrtd_otype:lst_usecol:headwater\" : 1.03957e+06\n",
      "  Contribution to phi from observation group \"oname:sfrtd_otype:lst_usecol:tailwater\" : 497640\n",
      "  Contribution to phi from observation group \"oname:hdstd_otype:lst_usecol:trgw-0-13-10\" : 0.350429\n",
      "  Contribution to phi from observation group \"oname:hdstd_otype:lst_usecol:trgw-0-15-16\" : 0.214037\n",
      "  Contribution to phi from observation group \"oname:hdstd_otype:lst_usecol:trgw-0-2-15\" : 0.193732\n",
      "  Contribution to phi from observation group \"oname:hdstd_otype:lst_usecol:trgw-0-2-9\" : 0.705007\n",
      "  Contribution to phi from observation group \"oname:hdstd_otype:lst_usecol:trgw-0-21-10\" : 0.28426\n",
      "  Contribution to phi from observation group \"oname:hdstd_otype:lst_usecol:trgw-0-22-15\" : 0.138907\n",
      "  Contribution to phi from observation group \"oname:hdstd_otype:lst_usecol:trgw-0-24-4\" : 0.536373\n",
      "  Contribution to phi from observation group \"oname:hdstd_otype:lst_usecol:trgw-0-26-6\" : 0.371182\n",
      "  Contribution to phi from observation group \"oname:hdstd_otype:lst_usecol:trgw-0-29-15\" : 0.098393\n",
      "  Contribution to phi from observation group \"oname:hdstd_otype:lst_usecol:trgw-0-3-8\" : 0.796365\n",
      "  Contribution to phi from observation group \"oname:hdstd_otype:lst_usecol:trgw-0-33-7\" : 0.260135\n",
      "  Contribution to phi from observation group \"oname:hdstd_otype:lst_usecol:trgw-0-34-10\" : 0.147201\n",
      "  Contribution to phi from observation group \"oname:hdstd_otype:lst_usecol:trgw-0-9-1\" : 1.46553\n",
      "  Contribution to phi from observation group \"oname:hdstd_otype:lst_usecol:trgw-2-13-10\" : 0.340086\n",
      "  Contribution to phi from observation group \"oname:hdstd_otype:lst_usecol:trgw-2-15-16\" : 0.209387\n",
      "  Contribution to phi from observation group \"oname:hdstd_otype:lst_usecol:trgw-2-2-15\" : 0.292669\n",
      "  Contribution to phi from observation group \"oname:hdstd_otype:lst_usecol:trgw-2-2-9\" : 0.703273\n",
      "  Contribution to phi from observation group \"oname:hdstd_otype:lst_usecol:trgw-2-21-10\" : 0.281669\n",
      "  Contribution to phi from observation group \"oname:hdstd_otype:lst_usecol:trgw-2-22-15\" : 0.175797\n",
      "  Contribution to phi from observation group \"oname:hdstd_otype:lst_usecol:trgw-2-24-4\" : 0.531566\n",
      "  Contribution to phi from observation group \"oname:hdstd_otype:lst_usecol:trgw-2-26-6\" : 0.365497\n",
      "  Contribution to phi from observation group \"oname:hdstd_otype:lst_usecol:trgw-2-29-15\" : 0.129554\n",
      "  Contribution to phi from observation group \"oname:hdstd_otype:lst_usecol:trgw-2-3-8\" : 0.771757\n",
      "  Contribution to phi from observation group \"oname:hdstd_otype:lst_usecol:trgw-2-33-7\" : 0.24261\n",
      "  Contribution to phi from observation group \"oname:hdstd_otype:lst_usecol:trgw-2-34-10\" : 0.143266\n",
      "  Contribution to phi from observation group \"oname:hdstd_otype:lst_usecol:trgw-2-9-1\" : 1.44836\n",
      "  Contribution to phi from observation group \"oname:hdsvd_otype:lst_usecol:trgw-0-13-10\" : 0.000130615\n",
      "  Contribution to phi from observation group \"oname:hdsvd_otype:lst_usecol:trgw-0-15-16\" : 0.000267754\n",
      "  Contribution to phi from observation group \"oname:hdsvd_otype:lst_usecol:trgw-0-2-15\" : 0.0820738\n",
      "  Contribution to phi from observation group \"oname:hdsvd_otype:lst_usecol:trgw-0-2-9\" : 9.68478e-05\n",
      "  Contribution to phi from observation group \"oname:hdsvd_otype:lst_usecol:trgw-0-21-10\" : 0.000507145\n",
      "  Contribution to phi from observation group \"oname:hdsvd_otype:lst_usecol:trgw-0-22-15\" : 0.0110698\n",
      "  Contribution to phi from observation group \"oname:hdsvd_otype:lst_usecol:trgw-0-24-4\" : 0.000399639\n",
      "  Contribution to phi from observation group \"oname:hdsvd_otype:lst_usecol:trgw-0-26-6\" : 0.000807949\n",
      "  Contribution to phi from observation group \"oname:hdsvd_otype:lst_usecol:trgw-0-29-15\" : 0.00090007\n",
      "  Contribution to phi from observation group \"oname:hdsvd_otype:lst_usecol:trgw-0-3-8\" : 0.00014802\n",
      "  Contribution to phi from observation group \"oname:hdsvd_otype:lst_usecol:trgw-0-33-7\" : 0.00173121\n",
      "  Contribution to phi from observation group \"oname:hdsvd_otype:lst_usecol:trgw-0-34-10\" : 4.90141e-05\n",
      "  Contribution to phi from observation group \"oname:hdsvd_otype:lst_usecol:trgw-0-9-1\" : 2.27961e-05\n",
      "  Contribution to phi from observation group         \"part\" : 2.32032e+10\n",
      "\n",
      "\n",
      "pestpp-glm analysis complete...\n",
      "started at 04/20/22 09:22:16\n",
      "finished at 04/20/22 09:22:23\n",
      "took 0.1 minutes\n"
     ]
    }
   ],
   "source": [
    "pst.control_data.noptmax = 0\n",
    "pst.write(os.path.join(template_ws,\"test.pst\"))\n",
    "pyemu.os_utils.run(\"pestpp-glm test.pst\",cwd=template_ws)"
   ]
  },
  {
   "cell_type": "markdown",
   "metadata": {},
   "source": [
    "If all went well, that's it! The PEST-interface is setup, tested and we have our prior preprared. We should be good to go!"
   ]
  },
  {
   "cell_type": "markdown",
   "metadata": {},
   "source": [
    "### Bonus: Understanding Multiplier-Parameters\n",
    "\n",
    "Now the multiplier files in the \"`template_ws`/mult\" folder and the MF6 input files in the `template_ws` folder contain the values cooresponding to this realization, so we can visualize the multipler parameter process:"
   ]
  },
  {
   "cell_type": "code",
   "execution_count": 80,
   "metadata": {},
   "outputs": [
    {
     "data": {
      "text/html": [
       "<div>\n",
       "<style scoped>\n",
       "    .dataframe tbody tr th:only-of-type {\n",
       "        vertical-align: middle;\n",
       "    }\n",
       "\n",
       "    .dataframe tbody tr th {\n",
       "        vertical-align: top;\n",
       "    }\n",
       "\n",
       "    .dataframe thead th {\n",
       "        text-align: right;\n",
       "    }\n",
       "</style>\n",
       "<table border=\"1\" class=\"dataframe\">\n",
       "  <thead>\n",
       "    <tr style=\"text-align: right;\">\n",
       "      <th></th>\n",
       "      <th>Unnamed: 0</th>\n",
       "      <th>org_file</th>\n",
       "      <th>model_file</th>\n",
       "      <th>use_cols</th>\n",
       "      <th>index_cols</th>\n",
       "      <th>fmt</th>\n",
       "      <th>sep</th>\n",
       "      <th>head_rows</th>\n",
       "      <th>upper_bound</th>\n",
       "      <th>lower_bound</th>\n",
       "      <th>operator</th>\n",
       "      <th>mlt_file</th>\n",
       "      <th>zone_file</th>\n",
       "      <th>fac_file</th>\n",
       "      <th>pp_file</th>\n",
       "      <th>pp_fill_value</th>\n",
       "      <th>pp_lower_limit</th>\n",
       "      <th>pp_upper_limit</th>\n",
       "      <th>zero_based</th>\n",
       "    </tr>\n",
       "  </thead>\n",
       "  <tbody>\n",
       "    <tr>\n",
       "      <th>0</th>\n",
       "      <td>0</td>\n",
       "      <td>org/freyberg6.npf_k_layer1.txt</td>\n",
       "      <td>freyberg6.npf_k_layer1.txt</td>\n",
       "      <td>NaN</td>\n",
       "      <td>NaN</td>\n",
       "      <td>free</td>\n",
       "      <td>NaN</td>\n",
       "      <td>0</td>\n",
       "      <td>100</td>\n",
       "      <td>0.01</td>\n",
       "      <td>m</td>\n",
       "      <td>mult/npfklayer1gr_inst0_grid.csv</td>\n",
       "      <td>npfklayer1gr_inst0_grid.csv.zone</td>\n",
       "      <td>NaN</td>\n",
       "      <td>NaN</td>\n",
       "      <td>NaN</td>\n",
       "      <td>NaN</td>\n",
       "      <td>NaN</td>\n",
       "      <td>False</td>\n",
       "    </tr>\n",
       "    <tr>\n",
       "      <th>1</th>\n",
       "      <td>1</td>\n",
       "      <td>org/freyberg6.npf_k_layer1.txt</td>\n",
       "      <td>freyberg6.npf_k_layer1.txt</td>\n",
       "      <td>NaN</td>\n",
       "      <td>NaN</td>\n",
       "      <td>free</td>\n",
       "      <td>NaN</td>\n",
       "      <td>0</td>\n",
       "      <td>100</td>\n",
       "      <td>0.01</td>\n",
       "      <td>m</td>\n",
       "      <td>mult/npfklayer1pp_inst0_pilotpoints.csv</td>\n",
       "      <td>npfklayer1pp_inst0pp.dat.zone</td>\n",
       "      <td>npfklayer1pp_inst0pp.fac</td>\n",
       "      <td>npfklayer1pp_inst0pp.dat</td>\n",
       "      <td>1.0</td>\n",
       "      <td>1.000000e-10</td>\n",
       "      <td>1.000000e+10</td>\n",
       "      <td>False</td>\n",
       "    </tr>\n",
       "    <tr>\n",
       "      <th>2</th>\n",
       "      <td>2</td>\n",
       "      <td>org/freyberg6.npf_k_layer1.txt</td>\n",
       "      <td>freyberg6.npf_k_layer1.txt</td>\n",
       "      <td>NaN</td>\n",
       "      <td>NaN</td>\n",
       "      <td>free</td>\n",
       "      <td>NaN</td>\n",
       "      <td>0</td>\n",
       "      <td>100</td>\n",
       "      <td>0.01</td>\n",
       "      <td>m</td>\n",
       "      <td>mult/npfklayer1cn_inst0_constant.csv</td>\n",
       "      <td>npfklayer1cn_inst0_constant.csv.zone</td>\n",
       "      <td>NaN</td>\n",
       "      <td>NaN</td>\n",
       "      <td>NaN</td>\n",
       "      <td>NaN</td>\n",
       "      <td>NaN</td>\n",
       "      <td>False</td>\n",
       "    </tr>\n",
       "  </tbody>\n",
       "</table>\n",
       "</div>"
      ],
      "text/plain": [
       "   Unnamed: 0                        org_file                  model_file  \\\n",
       "0           0  org/freyberg6.npf_k_layer1.txt  freyberg6.npf_k_layer1.txt   \n",
       "1           1  org/freyberg6.npf_k_layer1.txt  freyberg6.npf_k_layer1.txt   \n",
       "2           2  org/freyberg6.npf_k_layer1.txt  freyberg6.npf_k_layer1.txt   \n",
       "\n",
       "  use_cols index_cols   fmt  sep  head_rows upper_bound lower_bound operator  \\\n",
       "0      NaN        NaN  free  NaN          0         100        0.01        m   \n",
       "1      NaN        NaN  free  NaN          0         100        0.01        m   \n",
       "2      NaN        NaN  free  NaN          0         100        0.01        m   \n",
       "\n",
       "                                  mlt_file  \\\n",
       "0         mult/npfklayer1gr_inst0_grid.csv   \n",
       "1  mult/npfklayer1pp_inst0_pilotpoints.csv   \n",
       "2     mult/npfklayer1cn_inst0_constant.csv   \n",
       "\n",
       "                              zone_file                  fac_file  \\\n",
       "0      npfklayer1gr_inst0_grid.csv.zone                       NaN   \n",
       "1         npfklayer1pp_inst0pp.dat.zone  npfklayer1pp_inst0pp.fac   \n",
       "2  npfklayer1cn_inst0_constant.csv.zone                       NaN   \n",
       "\n",
       "                    pp_file  pp_fill_value  pp_lower_limit  pp_upper_limit  \\\n",
       "0                       NaN            NaN             NaN             NaN   \n",
       "1  npfklayer1pp_inst0pp.dat            1.0    1.000000e-10    1.000000e+10   \n",
       "2                       NaN            NaN             NaN             NaN   \n",
       "\n",
       "   zero_based  \n",
       "0       False  \n",
       "1       False  \n",
       "2       False  "
      ]
     },
     "execution_count": 80,
     "metadata": {},
     "output_type": "execute_result"
    }
   ],
   "source": [
    "df = pd.read_csv(os.path.join(template_ws,\"mult2model_info.csv\"))\n",
    "kh1_df = df.loc[df.model_file.str.contains(\"npf_k_layer1\"),:]\n",
    "kh1_df"
   ]
  },
  {
   "cell_type": "code",
   "execution_count": 81,
   "metadata": {},
   "outputs": [
    {
     "data": {
      "image/png": "[encoded data removed]",
      "text/plain": [
       "<Figure size 1224x360 with 10 Axes>"
      ]
     },
     "metadata": {
      "needs_background": "light"
     },
     "output_type": "display_data"
    }
   ],
   "source": [
    "org_arr = np.loadtxt(os.path.join(template_ws,kh1_df.org_file.iloc[0]))\n",
    "inp_arr = np.loadtxt(os.path.join(template_ws,kh1_df.model_file.iloc[0]))\n",
    "mlt_arrs = [np.loadtxt(os.path.join(template_ws,afile)) for afile in kh1_df.mlt_file]\n",
    "arrs = [org_arr]\n",
    "arrs.extend(mlt_arrs)\n",
    "arrs.append(inp_arr)\n",
    "names = [\"org\"]\n",
    "names.extend([mf.split('.')[0].split('_')[-1] for mf in kh1_df.mlt_file])\n",
    "names.append(\"MF6 input\")\n",
    "fig,axes = plt.subplots(1,kh1_df.shape[0]+2,figsize=(5*kh1_df.shape[0]+2,5))\n",
    "for i,ax in enumerate(axes.flatten()):\n",
    "    arr = np.log10(arrs[i])\n",
    "    arr[ib==0] = np.NaN\n",
    "    cb = ax.imshow(arr)\n",
    "    plt.colorbar(cb,ax=ax)\n",
    "    ax.set_title(names[i],loc=\"left\")\n",
    "plt.tight_layout()    \n",
    "    "
   ]
  }
 ],
 "metadata": {
  "interpreter": {
   "hash": "b3ba2566441a7c06988d0923437866b63cedc61552a5af99d1f4fb67d367b25f"
  },
  "kernelspec": {
   "display_name": "Python 3 (ipykernel)",
   "language": "python",
   "name": "python3"
  },
  "language_info": {
   "codemirror_mode": {
    "name": "ipython",
    "version": 3
   },
   "file_extension": ".py",
   "mimetype": "text/x-python",
   "name": "python",
   "nbconvert_exporter": "python",
   "pygments_lexer": "ipython3",
   "version": "3.8.2"
  }
 },
 "nbformat": 4,
 "nbformat_minor": 2
}
