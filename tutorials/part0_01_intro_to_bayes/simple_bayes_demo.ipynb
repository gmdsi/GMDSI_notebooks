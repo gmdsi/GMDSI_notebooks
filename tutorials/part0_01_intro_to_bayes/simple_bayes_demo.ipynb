{
 "cells": [
  {
   "cell_type": "markdown",
   "id": "eda88ac0",
   "metadata": {},
   "source": [
    "# Simple closed-form Bayes demo\n",
    "\n",
    "In this very simple notebook, we can explore how Bayes equation works for a one-dimensional gaussian inference problem."
   ]
  },
  {
   "cell_type": "code",
   "execution_count": null,
   "id": "7291766e",
   "metadata": {},
   "outputs": [],
   "source": [
    "import os\n",
    "import sys\n",
    "# sys.path.insert(0,os.path.join(\"..\", \"..\", \"dependencies\"))\n",
    "import pyemu\n",
    "import flopy\n",
    "assert \"dependencies\" in flopy.__file__\n",
    "assert \"dependencies\" in pyemu.__file__\n",
    "from IPython.core.pylabtools import figsize\n",
    "import numpy as np\n",
    "from matplotlib import pyplot as plt\n",
    "figsize(11, 6)\n",
    "import bayes_helper as bh\n",
    "from ipywidgets import interact\n",
    "import warnings\n",
    "warnings.filterwarnings(\"ignore\")\n",
    "warnings.filterwarnings(\"ignore\", category=DeprecationWarning) "
   ]
  },
  {
   "cell_type": "markdown",
   "id": "aa4ad57b",
   "metadata": {},
   "source": [
    "The function `bayes_helper.plot_posterior()` returns an interesting fig.  You pass it the first and second moments of the prior and likelihood functions.  It calculates the first and second posterior moments and then plots them up on a crude figure..."
   ]
  },
  {
   "cell_type": "code",
   "execution_count": null,
   "id": "3927c591",
   "metadata": {},
   "outputs": [],
   "source": [
    "bh.plot_posterior(prior_mean=10, prior_std=11, likeli_mean = 25, likeli_std=5)"
   ]
  },
  {
   "cell_type": "markdown",
   "id": "ccaf0e4c",
   "metadata": {},
   "source": [
    "We can also use the notebook machinery to make this interactive-ish...."
   ]
  },
  {
   "cell_type": "code",
   "execution_count": null,
   "id": "2ca6d841",
   "metadata": {},
   "outputs": [],
   "source": [
    "interact(bh.plot_posterior,\n",
    "         prior_mean=(1, 20., .5), likeli_mean=(1, 20, 1), \n",
    "         prior_std=(.1, 8, .1), likeli_std=(.1, 8, 2));"
   ]
  },
  {
   "cell_type": "markdown",
   "id": "750ef7fa",
   "metadata": {},
   "source": [
    "Some experiments to try:\n",
    " - prior and likelihood have same standard deviation and same mean\n",
    " - prior and likelihood have same standard deviation and very different means\n",
    " - prior is very uncertain, likelihood is very certain\n",
    " - prior is very certain, likelihood is very uncertain\n"
   ]
  },
  {
   "cell_type": "markdown",
   "id": "d0ab2d4a",
   "metadata": {},
   "source": [
    "Conceptual understanding check:\n",
    " - where does the prior mean come from?\n",
    " - where does the prior standard deviation come from?\n",
    " - where does the likelihood mean come from?\n",
    " - where does the likelihood standard deviation come from?"
   ]
  }
 ],
 "metadata": {
  "language_info": {
   "name": "python"
  }
 },
 "nbformat": 4,
 "nbformat_minor": 5
}
