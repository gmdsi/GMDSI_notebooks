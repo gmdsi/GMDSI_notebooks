{
 "cells": [
  {
   "cell_type": "markdown",
   "metadata": {},
   "source": [
    "# Highly Parameterized Inversion\n",
    "\n",
    "The current tutorial continues where the \"freyberg glm part1\" notebook left off. The \"freyberg intro to model\" and \"freyberg pstfrom pest setup\" pride details on the model and PEST dataset. The \"freyberg obs and weights\" and \"freyberg glm 1\" notebooks introduced changes to the PEST setup that are relevant to the current tutorial. You do not need to know the details of all these noteboks to follow along with general points of the current tutorial. \n",
    "\n",
    "In this tutorial we will add the final tweaks to a PEST dataset and then calibrate our model using PEST++GLM. Much like PEST, PEST++GLM undertakes highly parameterized inversion. However, it streamlines alot of the user-input process. It also automates FOSM and FOSM-based Monte Carlo uncertainty analyses. This drastically reduces requirements for user input, making workflows easier to implement. However, it also increases the number of moving pieces that a user must be familiar with (no free lunch!).\n",
    "\n",
    "Here we will discuss some PEST++GLM specific options and their implications, calibrate the model and then explore outputs. \n"
   ]
  },
  {
   "cell_type": "markdown",
   "metadata": {},
   "source": [
    "### 1. Admin\n",
    "\n",
    "Start off with the usual loading of dependencies and preparing model and PEST files. We will be continuing to work with the MODFLOW6 modified-Freyberg model (see \"freyberg intro to model\" notebook), and the high-dimensional PEST dataset prepared in the \"freyberg glm 1\" notebook. \n",
    "\n",
    "\n",
    "For the purposes of this notebook, you do not require familiarity with previous notebooks (but it helps...). Simply run the next few cells by pressing `shift+enter`."
   ]
  },
  {
   "cell_type": "code",
   "execution_count": 2,
   "metadata": {},
   "outputs": [],
   "source": [
    "import os\n",
    "import warnings\n",
    "warnings.filterwarnings(\"ignore\")\n",
    "warnings.filterwarnings(\"ignore\", category=DeprecationWarning) \n",
    "import pyemu\n",
    "import pandas as pd\n",
    "import matplotlib.pyplot as plt;\n",
    "import shutil \n",
    "\n",
    "import sys\n",
    "sys.path.append(\"..\")\n",
    "# import pre-prepared convenience functions\n",
    "import herebedragons as hbd"
   ]
  },
  {
   "cell_type": "markdown",
   "metadata": {},
   "source": [
    "Specify the path to the PEST dataset template folder:"
   ]
  },
  {
   "cell_type": "code",
   "execution_count": 3,
   "metadata": {},
   "outputs": [],
   "source": [
    "# specify the temporary working folder\n",
    "t_d = os.path.join('freyberg6_template')"
   ]
  },
  {
   "cell_type": "markdown",
   "metadata": {},
   "source": [
    "Copy across pre-prepared model and PEST files:"
   ]
  },
  {
   "cell_type": "code",
   "execution_count": 4,
   "metadata": {},
   "outputs": [
    {
     "name": "stdout",
     "output_type": "stream",
     "text": [
      "Files copied from:..\\..\\models\\freyberg_glm_1\n",
      "Files copied to:freyberg6_template\n"
     ]
    }
   ],
   "source": [
    "# use the convenience function to get the pre-preprepared PEST dataset;\n",
    "# this continues off from the \"freyberg glm 1\" tutorial \n",
    "hbd.dir_cleancopy(org_d=os.path.join('..','..', 'models','freyberg_glm_1'), \n",
    "                new_d=t_d)\n",
    "\n",
    "# get and unzip the prior covariance JCB file, prepared in \"freyberg pstfrom\" tutorial\n",
    "hbd.unzip(os.path.join('..','..','models','prior_cov.zip'), os.path.join(t_d))"
   ]
  },
  {
   "cell_type": "markdown",
   "metadata": {},
   "source": [
    "Right then, let's load in our PEST control file.\n",
    "\n",
    "Just as a reminder, this is the control fle prepared in the \"freyber glm 1\" notebook:\n",
    " - We have reduced our very high dimensional PEST dataset down from 10s of thousands to several hundreds of parameters (#sad).\n",
    " - We continue to have lots os spatially distributed parameters (pilot points), which we expect to have a degree of spatial (and in some cases, temporal) correlation. \n",
    " - We have also weighted observation groups so that they each contribute an equal amount to the intial objective function. \n",
    " - We have already calculated a Jacobian matrix, with parameter sensitivities based on intial parameter values. It is stored in a file named \"freyberg_pp.jcb\".\n"
   ]
  },
  {
   "cell_type": "code",
   "execution_count": 212,
   "metadata": {},
   "outputs": [],
   "source": [
    "pst = pyemu.Pst(os.path.join(t_d, 'freyberg_pp.pst'))"
   ]
  },
  {
   "cell_type": "markdown",
   "metadata": {},
   "source": [
    "### 2. Regularisation\n",
    "\n",
    "We have an ill-posed inverse problem. The mathematical term for the process through which a unique solution is sought for a nonunique inverse problem is “regularisation”. The goal of regularised inversion is to seek a unique parameter field that results in a suitable fit between model outputs and field measurements, whilst minimizing the potential for wrongness in model predictions. That is, out of all the ways to fit a calibration dataset, regularized inversion seeks the parameter set of minimum error variance.\n",
    "\n",
    "There are two main approaches used to stabilize this problem: (1) adding soft knowledge and/or (2) reducing the problem dimensionality. These methods can be used by themselves, but are most commonly applied together.\n",
    "\n"
   ]
  },
  {
   "cell_type": "markdown",
   "metadata": {},
   "source": [
    "#### 2.1. Tikhonov Regularisation (e.g. \"soft knowledge\")\n",
    "\n",
    "One way to seek a parameter field of minimum error variance is to seek a parameter field that allows the model to fit the calibration dataset, but whose values are also as close as possible to a set of “preferred parameter values”. Ideally, preferred parameter values should also be initial parameter values as listed in the “parameter data” section of the PEST control file. These preferred parameter values are normally close to the centre of the prior parameter probability distribution. At the same time, scales and patterns of departures from the preferred parameter set that are required for model outputs to fit a calibration dataset should be achieved in ways that make “geological sense”.\n",
    "\n",
    "PEST provides a user with a great deal of flexibility in how Tikhonov constraints can be introduced to an inversion process. The easiest way is to do this is through the use of prior information equations. When prior information equations are employed, Tikhonov constraints are expressed through preferred values that are assigned to linear relationships between parameters. (Equality is the simplest type of linear relationship.) Weights must be assigned to these equations. As is described in PEST documentation, when PEST is run in “regularisation” mode, it makes internal adjustments to the weights that are assigned to any observations or prior information equations that belong to special observation groups that are referred to as “regularisation groups”. \n",
    "\n",
    "PEST (and PEST_HP) provide the option to replace prior information equation weights with covariance matrices. When prior information equations embody Tikhonov constraints, they can be used to ensure that patterns of parameter heterogeneity that emerge from the inversion process are geologically reasonable. (See the GMDSI Tutorials for examples of how to accompish this with PEST_HP: https://gmdsi.org/blog/calibration-a-simple-model/)\n",
    "\n",
    "#### 2.2. Promoting \"Geologicaly Reasonable\" Patterns: Prior Information Equations vs Regularized-Gauss-Levenburg-Marquardt\n",
    "\n",
    "PEST++GLM (which we will be using here) does things a bit differently. You *can* specify prior information equations and assign relevant weights and run PEST++GLM in \"regularisation\" mode. See the \"intro to pyemu\" notebook for an example of how to specify prior information equations. However, PEST++GLM does not accept covariance matrices for the purposes of specifying preferred parameter heterogeneity.\n",
    "\n",
    "Alternatively, PEST++GLM offers users the option of using prior parameter covariance matrix based regularisation directly in the parameter upgrade calculation process. Instead of using the contribution of regularisation to the objective function to avoid \"unrealistic\" parameter patterns (as is done in PEST), this approach tries to maintain \"realistic\" patterns directly when calculating parameter upgrades. \n",
    "\n",
    "As we will show further on, this is implemented by specifying a prior parameter covariance matrix and the relevant `pest++` options. If this option is enabled, then prior information equation based regularisation cannot also be employed. Regularisation is controlled by the max singular values and eigen threshold control variables in the SVD section.\n",
    "\n",
    "Pragmatically, the latter approach is the easier one to implement within a PEST++ workflow. A modeller will likley have already prepared a prior parameter covariance marix (we have uncertianty on our mind after all...). Thus, only a few lines need to be added to the PEST control file. It also removes the need to determine and dynamically adjust prior information weights, making the process more efficient. \n",
    "\n",
    "This option is activated with the `glm_normal_form(prior)` pest++ option and by providing a prior parameter covariance matrix in `parcov()`.\n",
    "\n",
    "Let's start by preparing this covariance matrix. Recall that we created a prior covariance matrix in the \"freyberg pstfrom pest setup\" tutorial and saved it in a file named \"prior_cov.jcb\". That matrix contains values for *all* the parameters. We need to reduce it down to only the adjustable parameters in our current \"pilot points\" control file:"
   ]
  },
  {
   "cell_type": "code",
   "execution_count": null,
   "metadata": {},
   "outputs": [],
   "source": [
    "# read the orginal high-dimensional covariance matrix\n",
    "cov = pyemu.Cov.from_binary(os.path.join(t_d,\"prior_cov.jcb\"))\n",
    "\n",
    "# reduce it down to the currently adjustable parameters\n",
    "cov = cov.get(pst.adj_par_names)\n",
    "\n",
    "# write the reduced covariance matrix to an external file\n",
    "cov.to_ascii(os.path.join(t_d,\"glm_prior.cov\"))"
   ]
  },
  {
   "cell_type": "markdown",
   "metadata": {},
   "source": [
    "Now that the covariance matrix is ready, let's add the pest++ control variables to the `pst` control file:"
   ]
  },
  {
   "cell_type": "code",
   "execution_count": null,
   "metadata": {},
   "outputs": [],
   "source": [
    "# specify the prior parameter covariance matrix file\n",
    "pst.pestpp_options[\"parcov\"] = \"glm_prior.cov\""
   ]
  },
  {
   "cell_type": "code",
   "execution_count": null,
   "metadata": {},
   "outputs": [],
   "source": [
    "# activate the regularized-GLM solution\n",
    "pst.pestpp_options[\"glm_normal_form\"] = \"prior\""
   ]
  },
  {
   "cell_type": "markdown",
   "metadata": {},
   "source": [
    "Boom! Done."
   ]
  },
  {
   "cell_type": "markdown",
   "metadata": {},
   "source": [
    "### 2.3. SVD\n",
    "\n",
    "Unlike PEST, members of the PEST++ suite employ singular value decomposition (or methods closely related to it) for solution of the inverse problem by default."
   ]
  },
  {
   "cell_type": "code",
   "execution_count": null,
   "metadata": {},
   "outputs": [],
   "source": []
  },
  {
   "cell_type": "markdown",
   "metadata": {},
   "source": [
    "### 2.4. SVD-assist\n",
    "\n",
    "Use of PEST’s “SVD-assist” methodology can promulgate significant increases in the numerical efficiency of highly parameterized inversion. In implementing this methodology, PEST estimates the values of so-called “super parameters” in place of the parameters themselves. \n",
    "\n",
    "Estimating super parameters can reduce the computational cost of highly parameterized inversion considerably. However, a Jacobian matrix based on the full parameter set must be calculated before the super parameter inversion process.\n",
    "\n",
    "We have already done so in the \"freyberg glm 1\" tutorial. We can now make use of the pre-calculated Jacobian matrix to save time now. We specify this with the `base_jacobian` pest++ option. Note taht this is **not** an SVD-Assist specific option. It can be used any time."
   ]
  },
  {
   "cell_type": "code",
   "execution_count": null,
   "metadata": {},
   "outputs": [],
   "source": [
    "# make a copy of the Jacobian file with a different name\n",
    "shutil.copy2(os.path.join(t_d,\"freyberg_pp.jcb\"),\n",
    "             os.path.join(t_d,\"freyberg_reuse.jcb\"))"
   ]
  },
  {
   "cell_type": "code",
   "execution_count": null,
   "metadata": {},
   "outputs": [],
   "source": [
    "# specify file to use as the base jacobian\n",
    "pst.pestpp_options[\"base_jacobian\"] = \"freyberg_reuse.jcb\""
   ]
  },
  {
   "cell_type": "markdown",
   "metadata": {},
   "source": [
    "Unfortunately, the large computational savings gained from SVD-assisted inversion come with a number of costs. Chief among these is that, for a nonlinear model, the partitioning of parameter space into solution and null spaces based on singular decomposition of a full Jacobian matrix calculated on the basis of initial parameter values may not remain valid as parameter values change. Hence, as the super parameter inversion process progresses, it may become necessary to recalculate a full Jacobian matrix so that super parameters can be re-defined. \n",
    "\n",
    "For moderately to highly nonlinear models, super parameter redefinition may be required every few iterations. With intermittent super parameter redefinition, model run savings accrued through SVD-assisted inversion may still be considerable; however, they will not be as great as for a linear model where re-computation of a full Jacobian matrix is never required.\n",
    "\n",
    "In PEST++GLM, the `n_iter_base` and `n_iter_super` pestpp options determine the number of sequential base and super parameter iterations, respectively. Choosing values for these variables will be case specific and may require some trial and error. Relatively linear problems may work well a single base iteration. Non liner problems will likley benefit from fewer super iterations, interspersed with base iterations. Ideal values may also depend on the maximum number of super parameters (discussed further on).\n",
    "\n",
    "For our case we have found that a single base parameter iteration, followed by a few super iterations is sufficient. "
   ]
  },
  {
   "cell_type": "code",
   "execution_count": null,
   "metadata": {},
   "outputs": [],
   "source": [
    "# for convenience, specify a maximum number of iteration. Avoids wasting cpu-time for the purposes of the tutorial\n",
    "pst.control_data.noptmax = 4\n",
    "\n",
    "# specify the number of base parameter iterations; \n",
    "# by passing a value of -1, PEST++GLM will calculate a single iteration and then switch to super parameter iterations\n",
    "pst.pestpp_options[\"n_iter_base\"] = -1\n",
    "\n",
    "# specify the number of subsequent super parameter iterations; set equal to NOPTMAX\n",
    "pst.pestpp_options[\"n_iter_super\"] = pst.control_data.noptmax"
   ]
  },
  {
   "cell_type": "markdown",
   "metadata": {},
   "source": [
    "The number of super parameters determines the number of model runs undertaken during a super parameter iteration. The number of super parameters to estimate can be set using either or both of the `max_n_super()` and ­`super_eigthresh()` pest++ control variable.  The upper limit of super parameters to form is controlled by `max_n_super()`. Ideally, this value should be as high as possible. In practice, it may have to reflect available computational resources. (See the PEST manual Part 1 for a pragmatic discussion of how to choose the number of super parameters.) \n",
    "\n",
    "For our case, we get reasonable results with a maximum of 30 super parameters (pretty good!). "
   ]
  },
  {
   "cell_type": "code",
   "execution_count": null,
   "metadata": {},
   "outputs": [],
   "source": [
    "pst.pestpp_options[\"max_n_super\"] = 30"
   ]
  },
  {
   "cell_type": "markdown",
   "metadata": {},
   "source": [
    "\n",
    "### FOSM informed NSMC "
   ]
  },
  {
   "cell_type": "code",
   "execution_count": null,
   "metadata": {},
   "outputs": [],
   "source": [
    "pst.pestpp_options[\"glm_num_reals\"] = 50"
   ]
  },
  {
   "cell_type": "markdown",
   "metadata": {},
   "source": [
    "### ...extra utility options"
   ]
  },
  {
   "cell_type": "code",
   "execution_count": null,
   "metadata": {},
   "outputs": [],
   "source": [
    "pst.pestpp_options[\"overdue_giveup_fac\"] = 5.0\n",
    "pst.pestpp_options[\"max_run_fail\"] = 3"
   ]
  },
  {
   "cell_type": "code",
   "execution_count": null,
   "metadata": {},
   "outputs": [],
   "source": [
    "md = os.path.join('master_glm_2')"
   ]
  }
 ],
 "metadata": {
  "interpreter": {
   "hash": "d91d695e32284e5f4db43d0a55a7ffe722d99eb6050b5b06eff0d966e4449445"
  },
  "kernelspec": {
   "display_name": "Python 3.9.10 ('gmdsitut')",
   "language": "python",
   "name": "python3"
  },
  "language_info": {
   "codemirror_mode": {
    "name": "ipython",
    "version": 3
   },
   "file_extension": ".py",
   "mimetype": "text/x-python",
   "name": "python",
   "nbconvert_exporter": "python",
   "pygments_lexer": "ipython3",
   "version": "3.9.10"
  },
  "orig_nbformat": 4
 },
 "nbformat": 4,
 "nbformat_minor": 2
}
