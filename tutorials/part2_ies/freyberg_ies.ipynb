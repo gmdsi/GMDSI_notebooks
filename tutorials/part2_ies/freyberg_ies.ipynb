{
 "cells": [
  {
   "cell_type": "markdown",
   "metadata": {},
   "source": [
    "# PESTPP-IES\n",
    "\n",
    "words here\n",
    "\n",
    "### 1. The modified Freyberg PEST dataset\n",
    "\n",
    "The modified Freyberg model is introduced in another tutorial notebook (see \"freyberg intro to model\"). The current notebook picks up following the \"freyberg psfrom pest setup\" notebook, in which a high-dimensional PEST dataset was constructed using `pyemu.PstFrom`. You may also wish to go through the \"intro to pyemu\" notebook beforehand.\n",
    "\n",
    "The next couple of cells load necessary dependencies and call a convenience function to prepare the PEST dataset folder for you. This is the same dataset that was constructed during the \"freyberg pstfrom pest setup\" tutorial. Simply press `shift+enter` to run the cells."
   ]
  },
  {
   "cell_type": "code",
   "execution_count": null,
   "metadata": {
    "execution": {
     "iopub.execute_input": "2022-04-21T17:18:10.542091Z",
     "iopub.status.busy": "2022-04-21T17:18:10.541797Z",
     "iopub.status.idle": "2022-04-21T17:18:11.448534Z",
     "shell.execute_reply": "2022-04-21T17:18:11.448020Z"
    }
   },
   "outputs": [],
   "source": [
    "import os\n",
    "import shutil\n",
    "import warnings\n",
    "warnings.filterwarnings(\"ignore\")\n",
    "warnings.filterwarnings(\"ignore\", category=DeprecationWarning) \n",
    "import pyemu\n",
    "import pandas as pd\n",
    "import numpy as np\n",
    "import matplotlib.pyplot as plt;\n",
    "\n",
    "import sys\n",
    "sys.path.append(\"..\")\n",
    "# import pre-prepared convenience functions\n",
    "import herebedragons as hbd"
   ]
  },
  {
   "cell_type": "markdown",
   "metadata": {},
   "source": [
    "Some file and dir manipulations to prepare:"
   ]
  },
  {
   "cell_type": "code",
   "execution_count": null,
   "metadata": {
    "execution": {
     "iopub.execute_input": "2022-04-21T17:18:11.451682Z",
     "iopub.status.busy": "2022-04-21T17:18:11.451481Z",
     "iopub.status.idle": "2022-04-21T17:18:12.039160Z",
     "shell.execute_reply": "2022-04-21T17:18:12.038391Z"
    }
   },
   "outputs": [],
   "source": [
    "# specify the temporary working folder\n",
    "t_d = os.path.join('freyberg6_template')\n",
    "\n",
    "org_t_d = os.path.join(\"..\",\"part2_obs_and_weights\",\"freyberg6_template\")\n",
    "if not os.path.exists(org_t_d):\n",
    "    raise Exception(\"you need to run the '/part2_obs_and_weights/freyberg_obs_and_weights.ipynb' notebook\")\n",
    "\n",
    "if os.path.exists(t_d):\n",
    "    shutil.rmtree(t_d)\n",
    "shutil.copytree(org_t_d,t_d)\n",
    "                       \n"
   ]
  },
  {
   "cell_type": "markdown",
   "metadata": {},
   "source": [
    "Load the PEST control file as a `Pst` object."
   ]
  },
  {
   "cell_type": "code",
   "execution_count": null,
   "metadata": {
    "execution": {
     "iopub.execute_input": "2022-04-21T17:18:12.051214Z",
     "iopub.status.busy": "2022-04-21T17:18:12.051018Z",
     "iopub.status.idle": "2022-04-21T17:18:12.310358Z",
     "shell.execute_reply": "2022-04-21T17:18:12.309766Z"
    }
   },
   "outputs": [],
   "source": [
    "pst_path = os.path.join(t_d, 'freyberg_mf6.pst')\n",
    "pst = pyemu.Pst(pst_path)\n",
    "pst.observation_data.columns"
   ]
  },
  {
   "cell_type": "markdown",
   "metadata": {},
   "source": [
    "Check that we are at the right stage to run ies:"
   ]
  },
  {
   "cell_type": "code",
   "execution_count": null,
   "metadata": {},
   "outputs": [],
   "source": [
    "if \"observed\" not in pst.observation_data.columns:\n",
    "    raise Exception(\"you need to run the '/part2_obs_and_weights/freyberg_obs_and_weights.ipynb' notebook\")"
   ]
  },
  {
   "cell_type": "markdown",
   "metadata": {},
   "source": [
    "Load the prior parameter ensemble we generated previously:"
   ]
  },
  {
   "cell_type": "code",
   "execution_count": null,
   "metadata": {
    "execution": {
     "iopub.execute_input": "2022-04-21T17:18:12.313198Z",
     "iopub.status.busy": "2022-04-21T17:18:12.313006Z",
     "iopub.status.idle": "2022-04-21T17:18:12.317598Z",
     "shell.execute_reply": "2022-04-21T17:18:12.317057Z"
    }
   },
   "outputs": [],
   "source": [
    "[f for f in os.listdir(t_d) if f.endswith(\".jcb\")]"
   ]
  },
  {
   "cell_type": "code",
   "execution_count": null,
   "metadata": {
    "execution": {
     "iopub.execute_input": "2022-04-21T17:18:12.320066Z",
     "iopub.status.busy": "2022-04-21T17:18:12.319899Z",
     "iopub.status.idle": "2022-04-21T17:18:12.400852Z",
     "shell.execute_reply": "2022-04-21T17:18:12.400351Z"
    }
   },
   "outputs": [],
   "source": [
    "pe = pyemu.ParameterEnsemble.from_binary(pst=pst,filename=os.path.join(t_d,\"prior_pe.jcb\"))\n",
    "pe.shape"
   ]
  },
  {
   "cell_type": "markdown",
   "metadata": {},
   "source": [
    "### 3. Run PESTPP-IES in Parallel\n",
    "\n",
    "Here we go...this is gonna epic!\n",
    "\n",
    "We need to tell PESTPP-IES to use the geostatistical prior parameter ensemble we generated previously. And lets just use 50 realizations to speed things up (feel free to use less or more - choose your own adventure!)"
   ]
  },
  {
   "cell_type": "code",
   "execution_count": null,
   "metadata": {
    "execution": {
     "iopub.execute_input": "2022-04-21T17:18:12.403554Z",
     "iopub.status.busy": "2022-04-21T17:18:12.403356Z",
     "iopub.status.idle": "2022-04-21T17:18:12.406164Z",
     "shell.execute_reply": "2022-04-21T17:18:12.405695Z"
    }
   },
   "outputs": [],
   "source": [
    "pst.pestpp_options['ies_parameter_ensemble'] = 'prior_pe.jcb'\n",
    "pst.pestpp_options[\"ies_num_reals\"] = 50"
   ]
  },
  {
   "cell_type": "markdown",
   "metadata": {},
   "source": [
    "Then, re-write the PEST control file. If you open `freyberg_mf6.pst` in a text editor, you'll see a new PEST++ control variable has been added."
   ]
  },
  {
   "cell_type": "code",
   "execution_count": null,
   "metadata": {
    "execution": {
     "iopub.execute_input": "2022-04-21T17:18:12.408721Z",
     "iopub.status.busy": "2022-04-21T17:18:12.408557Z",
     "iopub.status.idle": "2022-04-21T17:18:12.605732Z",
     "shell.execute_reply": "2022-04-21T17:18:12.605261Z"
    }
   },
   "outputs": [],
   "source": [
    "pst.control_data.noptmax = 0\n",
    "pst.write(os.path.join(t_d, 'freyberg_mf6.pst'))"
   ]
  },
  {
   "cell_type": "markdown",
   "metadata": {},
   "source": [
    "Always good to do the 'ole `noptmax=0` test:"
   ]
  },
  {
   "cell_type": "code",
   "execution_count": null,
   "metadata": {
    "execution": {
     "iopub.execute_input": "2022-04-21T17:18:12.608428Z",
     "iopub.status.busy": "2022-04-21T17:18:12.608234Z",
     "iopub.status.idle": "2022-04-21T17:18:20.615164Z",
     "shell.execute_reply": "2022-04-21T17:18:20.614576Z"
    }
   },
   "outputs": [],
   "source": [
    "pyemu.os_utils.run(\"pestpp-ies freyberg_mf6.pst\",cwd=t_d)"
   ]
  },
  {
   "cell_type": "code",
   "execution_count": null,
   "metadata": {
    "execution": {
     "iopub.execute_input": "2022-04-21T17:18:20.618123Z",
     "iopub.status.busy": "2022-04-21T17:18:20.617911Z",
     "iopub.status.idle": "2022-04-21T17:18:21.187964Z",
     "shell.execute_reply": "2022-04-21T17:18:21.187354Z"
    }
   },
   "outputs": [],
   "source": [
    "pst = pyemu.Pst(os.path.join(t_d, 'freyberg_mf6.pst'))\n",
    "assert np.abs(pst.phi - 257.328) < 1.0e-1,pst.phi"
   ]
  },
  {
   "cell_type": "markdown",
   "metadata": {},
   "source": [
    "To speed up the process, you will want to distribute the workload across as many parallel agents as possible. Normally, you will want to use the same number of agents (or less) as you have available CPU cores. Most personal computers (i.e. desktops or laptops) these days have between 4 and 10 cores. Servers or HPCs may have many more cores than this. Another limitation to keep in mind is the read/write speed of your machines disk (e.g. your hard drive). PEST and the model software are going to be reading and writting lots of files. This often slows things down if agents are competing for the same resources to read/write to disk.\n",
    "\n",
    "The first thing we will do is specify the number of agents we are going to use.\n",
    "\n",
    "# Attention!\n",
    "\n",
    "You must specify the number which is adequate for ***your*** machine! Make sure to assign an appropriate value for the following `num_workers` variable - if its too large for your machine, #badtimes:"
   ]
  },
  {
   "cell_type": "code",
   "execution_count": null,
   "metadata": {
    "execution": {
     "iopub.execute_input": "2022-04-21T17:18:21.191158Z",
     "iopub.status.busy": "2022-04-21T17:18:21.190939Z",
     "iopub.status.idle": "2022-04-21T17:18:21.193672Z",
     "shell.execute_reply": "2022-04-21T17:18:21.193162Z"
    }
   },
   "outputs": [],
   "source": [
    "num_workers = 10"
   ]
  },
  {
   "cell_type": "markdown",
   "metadata": {},
   "source": [
    "Next, we shall specify the PEST run-manager/master directory folder as `m_d`. This is where outcomes of the PEST run will be recorded. It should be different from the `t_d` folder, which contains the \"template\" of the PEST dataset. This keeps everything separate and avoids silly mistakes."
   ]
  },
  {
   "cell_type": "code",
   "execution_count": null,
   "metadata": {
    "execution": {
     "iopub.execute_input": "2022-04-21T17:18:21.196598Z",
     "iopub.status.busy": "2022-04-21T17:18:21.196401Z",
     "iopub.status.idle": "2022-04-21T17:18:21.403506Z",
     "shell.execute_reply": "2022-04-21T17:18:21.402933Z"
    }
   },
   "outputs": [],
   "source": [
    "pst.control_data.noptmax = 3\n",
    "pst.write(os.path.join(t_d, 'freyberg_mf6.pst'))\n",
    "m_d = os.path.join('master_ies')"
   ]
  },
  {
   "cell_type": "markdown",
   "metadata": {},
   "source": [
    "The following cell deploys the PEST agents and manager and then starts the run using `pestpp-ies`. Run it by pressing `shift+enter`.\n",
    "\n",
    "If you wish to see the outputs in real-time, switch over to the terminal window (the one which you used to launch the `jupyter notebook`). There you should see `pestpp-ies`'s progress. \n",
    "\n",
    "If you open the tutorial folder, you should also see a bunch of new folders there named `worker_0`, `worker_1`, etc. These are the agent folders. The `master_ies` folder is where the manager is running. \n",
    "\n",
    "This run should take several minutes to complete (depending on the number of workers and the speed of your machine). If you get an error, make sure that your firewall or antivirus software is not blocking `pestpp-ies` from communicating with the agents (this is a common problem!).\n",
    "\n",
    "> **Pro Tip**: Running PEST from within a `jupyter notebook` has a tendency to slow things down and hog alot of RAM (at least if you are using Visual Studio Code, as I am). When modelling in the \"real world\" it is more efficient to implement workflows in scripts which you can call from the command line. For example, for this case it took me 20min when running `pestpp-ies` from the `jupyter notebook`, but only 5min when running form the comand line. If you inspect the tutorial folder, you will find a file named `run.py` that accomplishes this. "
   ]
  },
  {
   "cell_type": "code",
   "execution_count": null,
   "metadata": {
    "execution": {
     "iopub.execute_input": "2022-04-21T17:18:21.406515Z",
     "iopub.status.busy": "2022-04-21T17:18:21.406302Z",
     "iopub.status.idle": "2022-04-21T17:33:48.086354Z",
     "shell.execute_reply": "2022-04-21T17:33:48.085279Z"
    }
   },
   "outputs": [],
   "source": [
    "pyemu.os_utils.start_workers(t_d, # the folder which contains the \"template\" PEST dataset\n",
    "                            'pestpp-ies', #the PEST software version we want to run\n",
    "                            'freyberg_mf6.pst', # the control file to use with PEST\n",
    "                            num_workers=num_workers, #how many agents to deploy\n",
    "                            worker_root='.', #where to deploy the agent directories; relative to where python is running\n",
    "                            master_dir=m_d, #the manager directory\n",
    "                            )"
   ]
  },
  {
   "cell_type": "markdown",
   "metadata": {},
   "source": [
    "### 4. Explore the Outcomes\n",
    "\n",
    "words here"
   ]
  },
  {
   "cell_type": "code",
   "execution_count": null,
   "metadata": {
    "execution": {
     "iopub.execute_input": "2022-04-21T17:33:48.091718Z",
     "iopub.status.busy": "2022-04-21T17:33:48.091331Z",
     "iopub.status.idle": "2022-04-21T17:33:48.955138Z",
     "shell.execute_reply": "2022-04-21T17:33:48.954141Z"
    }
   },
   "outputs": [],
   "source": [
    "pr_oe = pyemu.ObservationEnsemble.from_csv(pst=pst,filename=os.path.join(m_d,\"freyberg_mf6.0.obs.csv\"))\n",
    "pt_oe = pyemu.ObservationEnsemble.from_csv(pst=pst,filename=os.path.join(m_d,\"freyberg_mf6.{0}.obs.csv\".format(pst.control_data.noptmax)))\n",
    "noise = pyemu.ObservationEnsemble.from_csv(pst=pst,filename=os.path.join(m_d,\"freyberg_mf6.obs+noise.csv\"))\n"
   ]
  },
  {
   "cell_type": "markdown",
   "metadata": {},
   "source": [
    "We can take a look at the distribution of Phi for both prior ensemble and posterior ensemble:"
   ]
  },
  {
   "cell_type": "code",
   "execution_count": null,
   "metadata": {
    "execution": {
     "iopub.execute_input": "2022-04-21T17:33:48.960060Z",
     "iopub.status.busy": "2022-04-21T17:33:48.959725Z",
     "iopub.status.idle": "2022-04-21T17:33:50.324766Z",
     "shell.execute_reply": "2022-04-21T17:33:50.323886Z"
    }
   },
   "outputs": [],
   "source": [
    "fig,ax = plt.subplots(1,1)\n",
    "pr_oe.phi_vector.apply(np.log10).hist(ax=ax,fc=\"0.5\",ec=\"none\",alpha=0.5,density=False)\n",
    "pt_oe.phi_vector.apply(np.log10).hist(ax=ax,fc=\"b\",ec=\"none\",alpha=0.5,density=False)\n",
    "_ = ax.set_xlabel(\"$log_{10}\\\\phi$\")"
   ]
  },
  {
   "cell_type": "markdown",
   "metadata": {},
   "source": [
    "Finally, let's plot the obs vs sim timeseries - everyone's fav!"
   ]
  },
  {
   "cell_type": "code",
   "execution_count": null,
   "metadata": {
    "execution": {
     "iopub.execute_input": "2022-04-21T17:33:50.329650Z",
     "iopub.status.busy": "2022-04-21T17:33:50.329189Z",
     "iopub.status.idle": "2022-04-21T17:33:50.938330Z",
     "shell.execute_reply": "2022-04-21T17:33:50.937423Z"
    }
   },
   "outputs": [],
   "source": [
    "pst.try_parse_name_metadata()\n",
    "obs = pst.observation_data.copy()\n",
    "obs = obs.loc[obs.oname.apply(lambda x: x in [\"hds\",\"sfr\"])]\n",
    "obs = obs.loc[obs.obgnme.apply(lambda x: x in pst.nnz_obs_groups),:]\n",
    "obs.obgnme.unique()"
   ]
  },
  {
   "cell_type": "code",
   "execution_count": null,
   "metadata": {
    "execution": {
     "iopub.execute_input": "2022-04-21T17:33:50.942795Z",
     "iopub.status.busy": "2022-04-21T17:33:50.942435Z",
     "iopub.status.idle": "2022-04-21T17:33:58.469137Z",
     "shell.execute_reply": "2022-04-21T17:33:58.468319Z"
    }
   },
   "outputs": [],
   "source": [
    "ogs = obs.obgnme.unique()\n",
    "fig,axes = plt.subplots(len(ogs),1,figsize=(10,5*len(ogs)))\n",
    "ogs.sort()\n",
    "for ax,og in zip(axes,ogs):\n",
    "    oobs = obs.loc[obs.obgnme==og,:].copy()\n",
    "    oobs.loc[:,\"time\"] = oobs.time.astype(float)\n",
    "    oobs.sort_values(by=\"time\",inplace=True)\n",
    "    tvals = oobs.time.values\n",
    "    onames = oobs.obsnme.values\n",
    "    [ax.plot(tvals,pr_oe.loc[i,onames].values,\"0.5\",lw=0.1,alpha=0.5) for i in pr_oe.index]\n",
    "    [ax.plot(tvals,pt_oe.loc[i,onames].values,\"b\",lw=0.1,alpha=0.5) for i in pt_oe.index]\n",
    "       \n",
    "    oobs = oobs.loc[oobs.weight>0,:]\n",
    "    tvals = oobs.time.values\n",
    "    onames = oobs.obsnme.values\n",
    "    [ax.plot(tvals,noise.loc[i,onames].values,\"r\",lw=0.1,alpha=0.5) for i in noise.index]\n",
    "    ax.plot(oobs.time,oobs.obsval,\"r-\",lw=2)\n",
    "    ax.set_title(og,loc=\"left\")"
   ]
  },
  {
   "cell_type": "markdown",
   "metadata": {},
   "source": [
    "How do we feel about these plots?  In general, its a really (really!) good fit...is that ok?  "
   ]
  },
  {
   "cell_type": "markdown",
   "metadata": {},
   "source": [
    "### optional additional filtering\n",
    "\n",
    "apply an optional additional phi filter to remove poor fitting realizations - usually a good idea in practice"
   ]
  },
  {
   "cell_type": "code",
   "execution_count": null,
   "metadata": {
    "execution": {
     "iopub.execute_input": "2022-04-21T17:33:58.478132Z",
     "iopub.status.busy": "2022-04-21T17:33:58.477827Z",
     "iopub.status.idle": "2022-04-21T17:33:59.586708Z",
     "shell.execute_reply": "2022-04-21T17:33:59.585837Z"
    }
   },
   "outputs": [],
   "source": [
    "thres = 100\n",
    "pv = pt_oe.phi_vector\n",
    "keep = pv.loc[pv<thres]\n",
    "if keep.shape[0] != pv.shape[0]:\n",
    "    print(\"reducing posterior ensemble from {0} to {1} realizations\".format(pv.shape[0],keep.shape[0]))\n",
    "    pt_oe = pt_oe.loc[keep.index,:]\n",
    "    fig,ax = plt.subplots(1,1)\n",
    "    pr_oe.phi_vector.apply(np.log10).hist(ax=ax,fc=\"0.5\",ec=\"none\",alpha=0.5,density=False)\n",
    "    pt_oe.phi_vector.apply(np.log10).hist(ax=ax,fc=\"b\",ec=\"none\",alpha=0.5,density=False)\n",
    "    _ = ax.set_xlabel(\"$log_{10}\\\\phi$\")\n",
    "if pt_oe.shape[0] == 0:\n",
    "    print(\"filtered out all posterior realization #sad\")"
   ]
  },
  {
   "cell_type": "markdown",
   "metadata": {},
   "source": [
    "### 5. Forecasts\n",
    "\n",
    "As usual, we bring this story back to the forecasts - after all they are why we are modelling."
   ]
  },
  {
   "cell_type": "code",
   "execution_count": null,
   "metadata": {
    "execution": {
     "iopub.execute_input": "2022-04-21T17:33:59.591019Z",
     "iopub.status.busy": "2022-04-21T17:33:59.590718Z",
     "iopub.status.idle": "2022-04-21T17:33:59.597046Z",
     "shell.execute_reply": "2022-04-21T17:33:59.596037Z"
    }
   },
   "outputs": [],
   "source": [
    "pst.forecast_names"
   ]
  },
  {
   "cell_type": "code",
   "execution_count": null,
   "metadata": {
    "execution": {
     "iopub.execute_input": "2022-04-21T17:33:59.601298Z",
     "iopub.status.busy": "2022-04-21T17:33:59.600972Z",
     "iopub.status.idle": "2022-04-21T17:34:00.590440Z",
     "shell.execute_reply": "2022-04-21T17:34:00.589625Z"
    }
   },
   "outputs": [],
   "source": [
    "for forecast in pst.forecast_names:\n",
    "    plt.figure()\n",
    "    ax = pr_oe.loc[:,forecast].hist(facecolor=\"0.5\",alpha=0.5)\n",
    "    ax = pt_oe.loc[:,forecast].hist(facecolor=\"b\",alpha=0.5)\n",
    "    \n",
    "    ax.set_title(forecast)\n",
    "    fval = pst.observation_data.loc[forecast,\"obsval\"]\n",
    "    ax.plot([fval,fval],ax.get_ylim(),\"r-\")"
   ]
  },
  {
   "cell_type": "markdown",
   "metadata": {},
   "source": [
    "Ruh roh!  The posterior isnt covering the correct values for several forecasts. But the prior does, so that implies there is somewhere between the prior and posterior we have now that is optimal with respect to the forecasts.  Luckily, we can just load up a previous iteration of ies results and use those!"
   ]
  },
  {
   "cell_type": "code",
   "execution_count": null,
   "metadata": {
    "execution": {
     "iopub.execute_input": "2022-04-21T17:34:00.595419Z",
     "iopub.status.busy": "2022-04-21T17:34:00.594983Z",
     "iopub.status.idle": "2022-04-21T17:34:00.836986Z",
     "shell.execute_reply": "2022-04-21T17:34:00.836070Z"
    }
   },
   "outputs": [],
   "source": [
    "iter_to_use_as_posterior = 1\n",
    "pt_oe = pyemu.ObservationEnsemble.from_csv(pst=pst,filename=os.path.join(m_d,\"freyberg_mf6.{0}.obs.csv\".\\\n",
    "                                                                         format(iter_to_use_as_posterior)))\n"
   ]
  },
  {
   "cell_type": "code",
   "execution_count": null,
   "metadata": {
    "execution": {
     "iopub.execute_input": "2022-04-21T17:34:00.841345Z",
     "iopub.status.busy": "2022-04-21T17:34:00.841050Z",
     "iopub.status.idle": "2022-04-21T17:34:01.763050Z",
     "shell.execute_reply": "2022-04-21T17:34:01.762297Z"
    }
   },
   "outputs": [],
   "source": [
    "fig,ax = plt.subplots(1,1)\n",
    "pr_oe.phi_vector.apply(np.log10).hist(ax=ax,fc=\"0.5\",ec=\"none\",alpha=0.5,density=False)\n",
    "pt_oe.phi_vector.apply(np.log10).hist(ax=ax,fc=\"b\",ec=\"none\",alpha=0.5,density=False)\n",
    "_ = ax.set_xlabel(\"$log_{10}\\phi$\")"
   ]
  },
  {
   "cell_type": "markdown",
   "metadata": {},
   "source": [
    "The posterior phi values are more similar to the prior...."
   ]
  },
  {
   "cell_type": "code",
   "execution_count": null,
   "metadata": {
    "execution": {
     "iopub.execute_input": "2022-04-21T17:34:01.767225Z",
     "iopub.status.busy": "2022-04-21T17:34:01.766921Z",
     "iopub.status.idle": "2022-04-21T17:34:08.144946Z",
     "shell.execute_reply": "2022-04-21T17:34:08.144201Z"
    }
   },
   "outputs": [],
   "source": [
    "\n",
    "\n",
    "ogs = obs.obgnme.unique()\n",
    "fig,axes = plt.subplots(len(ogs),1,figsize=(10,5*len(ogs)))\n",
    "ogs.sort()\n",
    "for ax,og in zip(axes,ogs):\n",
    "    oobs = obs.loc[obs.obgnme==og,:].copy()\n",
    "    oobs.loc[:,\"time\"] = oobs.time.astype(float)\n",
    "    oobs.sort_values(by=\"time\",inplace=True)\n",
    "    tvals = oobs.time.values\n",
    "    onames = oobs.obsnme.values\n",
    "    [ax.plot(tvals,pr_oe.loc[i,onames].values,\"0.5\",lw=0.1,alpha=0.5) for i in pr_oe.index]\n",
    "    [ax.plot(tvals,pt_oe.loc[i,onames].values,\"b\",lw=0.1,alpha=0.5) for i in pt_oe.index]\n",
    "       \n",
    "    oobs = oobs.loc[oobs.weight>0,:]\n",
    "    tvals = oobs.time.values\n",
    "    onames = oobs.obsnme.values\n",
    "    [ax.plot(tvals,noise.loc[i,onames].values,\"r\",lw=0.1,alpha=0.5) for i in noise.index]\n",
    "    ax.plot(oobs.time,oobs.obsval,\"r-\",lw=2)\n",
    "    ax.set_title(og,loc=\"left\")"
   ]
  },
  {
   "cell_type": "markdown",
   "metadata": {},
   "source": [
    "Now we see more variance in the simulated equivalents to the observations, meaning we arent fitting the historic observations as well...basically, we have only elimiated the extreme prior realizations - we can call this \"light\" conditioning or \"underfitting\"...\n",
    "\n",
    "Let's see what has happened to the forecasts:"
   ]
  },
  {
   "cell_type": "code",
   "execution_count": null,
   "metadata": {
    "execution": {
     "iopub.execute_input": "2022-04-21T17:34:08.153868Z",
     "iopub.status.busy": "2022-04-21T17:34:08.153597Z",
     "iopub.status.idle": "2022-04-21T17:34:09.030590Z",
     "shell.execute_reply": "2022-04-21T17:34:09.029839Z"
    }
   },
   "outputs": [],
   "source": [
    "for forecast in pst.forecast_names:\n",
    "    plt.figure()\n",
    "    ax = pr_oe.loc[:,forecast].hist(facecolor=\"0.5\",alpha=0.5)\n",
    "    ax = pt_oe.loc[:,forecast].hist(facecolor=\"b\",alpha=0.5)\n",
    "    \n",
    "    ax.set_title(forecast)\n",
    "    fval = pst.observation_data.loc[forecast,\"obsval\"]\n",
    "    ax.plot([fval,fval],ax.get_ylim(),\"r-\")"
   ]
  },
  {
   "cell_type": "markdown",
   "metadata": {},
   "source": [
    "Ok, now things are getting interesting - the posterior is covering the truth...success?"
   ]
  },
  {
   "cell_type": "code",
   "execution_count": null,
   "metadata": {},
   "outputs": [],
   "source": []
  }
 ],
 "metadata": {
  "interpreter": {
   "hash": "d91d695e32284e5f4db43d0a55a7ffe722d99eb6050b5b06eff0d966e4449445"
  },
  "kernelspec": {
   "display_name": "Python 3 (ipykernel)",
   "language": "python",
   "name": "python3"
  },
  "language_info": {
   "codemirror_mode": {
    "name": "ipython",
    "version": 3
   },
   "file_extension": ".py",
   "mimetype": "text/x-python",
   "name": "python",
   "nbconvert_exporter": "python",
   "pygments_lexer": "ipython3",
   "version": "3.8.2"
  }
 },
 "nbformat": 4,
 "nbformat_minor": 2
}
