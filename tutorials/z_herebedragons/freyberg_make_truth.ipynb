{
 "cells": [
  {
   "cell_type": "code",
   "execution_count": 1,
   "metadata": {
    "execution": {
     "iopub.execute_input": "2022-02-21T04:19:57.640012Z",
     "iopub.status.busy": "2022-02-21T04:19:57.639017Z",
     "iopub.status.idle": "2022-02-21T04:19:59.337108Z",
     "shell.execute_reply": "2022-02-21T04:19:59.336085Z"
    }
   },
   "outputs": [],
   "source": [
    "import os\n",
    "import shutil\n",
    "import warnings\n",
    "warnings.filterwarnings(\"ignore\")\n",
    "warnings.filterwarnings(\"ignore\", category=DeprecationWarning) \n",
    "import pyemu\n",
    "import flopy"
   ]
  },
  {
   "cell_type": "code",
   "execution_count": 2,
   "metadata": {
    "execution": {
     "iopub.execute_input": "2022-02-21T04:19:59.340075Z",
     "iopub.status.busy": "2022-02-21T04:19:59.340075Z",
     "iopub.status.idle": "2022-02-21T04:19:59.377012Z",
     "shell.execute_reply": "2022-02-21T04:19:59.377012Z"
    }
   },
   "outputs": [],
   "source": [
    "# truth dir\n",
    "truth_d = os.path.join('..','..', 'models', 'freyberg_mf6_truth')\n",
    "\n",
    "# remove existing folder\n",
    "if os.path.exists(truth_d):\n",
    "    shutil.rmtree(truth_d)\n",
    "# make truth dir\n",
    "os.mkdir(truth_d)"
   ]
  },
  {
   "cell_type": "code",
   "execution_count": 3,
   "metadata": {
    "execution": {
     "iopub.execute_input": "2022-02-21T04:19:59.381001Z",
     "iopub.status.busy": "2022-02-21T04:19:59.380004Z",
     "iopub.status.idle": "2022-02-21T04:20:10.130564Z",
     "shell.execute_reply": "2022-02-21T04:20:10.129533Z"
    }
   },
   "outputs": [
    {
     "name": "stdout",
     "output_type": "stream",
     "text": [
      "updating parval1 using realization:'61' from ensemble file ..\\models\\freyberg_pest_setup\\prior.jcb\n",
      "parrep: updating noptmax to 0\n"
     ]
    }
   ],
   "source": [
    "# pest setup template folder\n",
    "t_d = os.path.join('..', 'models', 'freyberg_pest_setup')\n",
    "pst = pyemu.Pst(os.path.join(t_d, 'freyberg_mf6.pst'))\n",
    "\n",
    "# choose realisation; this one gives extreme-ish headwater predictions\n",
    "real=61\n",
    "pst.parrep(parfile=os.path.join(t_d, 'prior.jcb'), real_name=61, binary_ens_file=True)\n",
    "pst.write_input_files(pst_path=t_d)\n",
    "\n",
    "# run forward run so that parameter input files are updated; \n",
    "pyemu.os_utils.run('python forward_run.py', cwd=t_d)"
   ]
  },
  {
   "cell_type": "code",
   "execution_count": 4,
   "metadata": {
    "execution": {
     "iopub.execute_input": "2022-02-21T04:20:10.155074Z",
     "iopub.status.busy": "2022-02-21T04:20:10.137171Z",
     "iopub.status.idle": "2022-02-21T04:20:11.763504Z",
     "shell.execute_reply": "2022-02-21T04:20:11.762506Z"
    }
   },
   "outputs": [],
   "source": [
    "# load, rewrite and run simulation\n",
    "sim = flopy.mf6.MFSimulation.load(sim_ws=t_d, verbosity_level=0)\n",
    "\n",
    "sim.set_sim_path(truth_d)\n",
    "sim.set_all_data_external(check_data=True)\n",
    "sim.write_simulation()\n",
    "\n",
    "# run mf6 so that model output files are avilable\n",
    "pyemu.os_utils.run('mf6', cwd=truth_d)"
   ]
  },
  {
   "cell_type": "code",
   "execution_count": 6,
   "metadata": {
    "execution": {
     "iopub.execute_input": "2022-02-21T04:20:12.383246Z",
     "iopub.status.busy": "2022-02-21T04:20:12.382249Z",
     "iopub.status.idle": "2022-02-21T04:20:12.389230Z",
     "shell.execute_reply": "2022-02-21T04:20:12.389230Z"
    }
   },
   "outputs": [],
   "source": [
    "# rename modle otpu files because of silly design decisions a while back\n",
    "for f in [f for f in os.listdir(truth_d) if f.endswith('.csv')]:\n",
    "    os.rename(os.path.join(truth_d, f), os.path.join(truth_d, f.split('.')[0]+'.meas.csv'))"
   ]
  }
 ],
 "metadata": {
  "interpreter": {
   "hash": "d91d695e32284e5f4db43d0a55a7ffe722d99eb6050b5b06eff0d966e4449445"
  },
  "kernelspec": {
   "display_name": "Python 3.9.10 ('gmdsitut')",
   "language": "python",
   "name": "python3"
  },
  "language_info": {
   "codemirror_mode": {
    "name": "ipython",
    "version": 3
   },
   "file_extension": ".py",
   "mimetype": "text/x-python",
   "name": "python",
   "nbconvert_exporter": "python",
   "pygments_lexer": "ipython3",
   "version": "3.7.9"
  }
 },
 "nbformat": 4,
 "nbformat_minor": 2
}
