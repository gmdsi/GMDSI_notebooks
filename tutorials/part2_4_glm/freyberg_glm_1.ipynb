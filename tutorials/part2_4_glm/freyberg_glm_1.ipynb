{
 "cells": [
  {
   "cell_type": "markdown",
   "metadata": {},
   "source": [
    "# Filling a Jacobian Matrix\n",
    "\n",
    "This notebook is an optional, but recommended, first step for a workflow that implements linear uncertainty analysis (i.e. FOSM), data worth analysis and highly-parameterized regularised inversion (i.e. calibration). It will be relatively short, but provides the foundation for subsequet tutorials. \n",
    "\n",
    "Here, we are going to calculate a base Jacobian. In other words, we are going to calculate partial derivatives of model outputs with respect to (adjustable) model parameters. Or \"how much each observation value changes for a change in each parameter value\".  These partial derivatives (or *sensitivity coefficients*) are fundamental for the implementation of inversion and for linear uncertainty analysis. They form a two-dimensional array of values with as many rows as observations and as many columns as parameters. This array is commonly known as the **Jacobian matrix**. \n",
    "\n",
    "PEST and PEST++GLM (as well as some other PEST++ versions) calculate and record a Jacobian as part of normal execution. They do so by running \"the model\" as many times as there are adjustable parameters. Each time, a parameter is adjusted and the corresponding effects on all observations are recorded. These are used to fill in the Jacobian matrix. Once the Jacobian is calculated, the derivative information is used to identify parameter changes that will improve the fit between model outputs and measured data. These are used to update the \"calibrated\" parameter set. Due to the nonlinear nature of groundwater inverse problems, this process may need to be repeated numerous times during calibration. As you can imagine, if there are many adjustable parameters, this process can take up a lot of computation time. \n",
    "\n",
    "Filling the Jacobian is perhaps the main computational cost of derivative-based optimisation methods such as are implemented in PEST and PEST++GLM. \n",
    "\n",
    "However, this cost is often worth it, as a Jacobian matrix has many uses. Many of these uses are as important as the model calibration process itself. Hence it is not unusual for PEST or PEST++GLM to be run purely for the purpose of filling a Jacobian matrix (as we will do here). \n",
    "\n",
    "Uses to which a Jacobian matrix may be put include the following:\n",
    " - Examination of local sensitivities of model outputs to parameters and/or decision variables.\n",
    " - Giving PEST or PEST++GLM a “head start” in calibrating a model by providing it with a pre-calculated Jacobian matrix to use in its first iteration. For PEST++GLM this is achieved through use of the `base_jacobian()` control variable, as we will demonstrate in a subsequent tutorial.\n",
    " - To support the many types of linear analysis implemented by utility programs supplied with PEST, and functions provided by `pyEMU`; these calculate:\n",
    "    - parameter identifiability;\n",
    "    - parameter and predictive uncertainty;\n",
    "    - parameter contributions to predictive uncertainty;\n",
    "    - data worth;\n",
    "    - the effects of model defects.\n"
   ]
  },
  {
   "cell_type": "markdown",
   "metadata": {},
   "source": [
    "### 1. Admin\n",
    "\n",
    "Start off with the usual loading of dependencies and preparing model and PEST files. We will be continuing to work with the modified-Freyberg model (see \"intro to model\" notebook), and the high-dimensional PEST dataset prepared in the \"pstfrom pest setup\" and \"obs and weights\" notebooks. \n",
    "\n",
    "For the purposes of this notebook, you do not require familiarity with previous notebooks (but it helps...). \n",
    "\n",
    "Simply run the next few cells by pressing `shift+enter`."
   ]
  },
  {
   "cell_type": "code",
   "execution_count": null,
   "metadata": {
    "execution": {
     "iopub.execute_input": "2022-04-26T06:35:15.194367Z",
     "iopub.status.busy": "2022-04-26T06:35:15.193369Z",
     "iopub.status.idle": "2022-04-26T06:35:16.573394Z",
     "shell.execute_reply": "2022-04-26T06:35:16.573394Z"
    }
   },
   "outputs": [],
   "source": [
    "import os\n",
    "import warnings\n",
    "warnings.filterwarnings(\"ignore\")\n",
    "warnings.filterwarnings(\"ignore\", category=DeprecationWarning) \n",
    "import pandas as pd\n",
    "import matplotlib.pyplot as plt;\n",
    "import shutil\n",
    "import psutil\n",
    "\n",
    "import sys\n",
    "sys.path.append(os.path.join(\"..\", \"..\", \"dependencies\"))\n",
    "import pyemu\n",
    "import flopy\n",
    "\n",
    "sys.path.append(\"..\")\n",
    "import herebedragons as hbd"
   ]
  },
  {
   "cell_type": "markdown",
   "metadata": {},
   "source": [
    "To maintain continuity in the series of tutorials, we we use the PEST-dataset prepared in the \"obs and weigths\" tutorial. Run the next cell to copy fthe necessary files across. Note that if you will need to run the previous notebooks in the correct order beforehand.\n",
    "\n",
    "Specify the path to the PEST dataset template folder. Recall that we will prepare our PEST dataset files in this folder, keeping them separate from the original model files. Then copy across pre-prepared model and PEST files:"
   ]
  },
  {
   "cell_type": "code",
   "execution_count": null,
   "metadata": {
    "execution": {
     "iopub.execute_input": "2022-04-26T06:35:16.576348Z",
     "iopub.status.busy": "2022-04-26T06:35:16.576348Z",
     "iopub.status.idle": "2022-04-26T06:35:22.927463Z",
     "shell.execute_reply": "2022-04-26T06:35:22.927463Z"
    }
   },
   "outputs": [],
   "source": [
    "# specify the temporary working folder\n",
    "t_d = os.path.join('freyberg6_template')\n",
    "\n",
    "org_t_d = os.path.join(\"..\",\"part2_obs_and_weights\",\"freyberg6_template\")\n",
    "if not os.path.exists(org_t_d):\n",
    "    raise Exception(\"you need to run the '/part2_2_obs_and_weights/freyberg_obs_and_weights.ipynb' notebook\")\n",
    "\n",
    "if os.path.exists(t_d):\n",
    "    shutil.rmtree(t_d)\n",
    "shutil.copytree(org_t_d,t_d)"
   ]
  },
  {
   "cell_type": "code",
   "execution_count": null,
   "metadata": {
    "execution": {
     "iopub.execute_input": "2022-04-26T06:35:22.944924Z",
     "iopub.status.busy": "2022-04-26T06:35:22.944924Z",
     "iopub.status.idle": "2022-04-26T06:35:22.947965Z",
     "shell.execute_reply": "2022-04-26T06:35:22.947965Z"
    }
   },
   "outputs": [],
   "source": [
    "pst_path = os.path.join(t_d, 'freyberg_mf6.pst')\n",
    "\n",
    "# a check to make sure the files exist\n",
    "if not os.path.exists(pst_path):\n",
    "    raise Exception(\"you need to run the '/part2_2_obs_and_weights/freyberg_obs_and_weights.ipynb' notebook\")"
   ]
  },
  {
   "cell_type": "markdown",
   "metadata": {},
   "source": [
    "### 2. Inspect the PEST Dataset"
   ]
  },
  {
   "cell_type": "markdown",
   "metadata": {},
   "source": [
    "OK. We can now get started.\n",
    "\n",
    "Load the PEST control file as a `Pst` object. We are going to use the PEST control file that was created in the \"pstfrom pest setup\" tutorial. This control file has observations with weights equal to the inverse of measurement noise (**not** weighted for visibility!)."
   ]
  },
  {
   "cell_type": "code",
   "execution_count": null,
   "metadata": {
    "execution": {
     "iopub.execute_input": "2022-04-26T06:35:22.950375Z",
     "iopub.status.busy": "2022-04-26T06:35:22.950375Z",
     "iopub.status.idle": "2022-04-26T06:35:23.141145Z",
     "shell.execute_reply": "2022-04-26T06:35:23.141145Z"
    }
   },
   "outputs": [],
   "source": [
    "pst = pyemu.Pst(pst_path)"
   ]
  },
  {
   "cell_type": "code",
   "execution_count": null,
   "metadata": {
    "execution": {
     "iopub.execute_input": "2022-04-26T06:35:23.144148Z",
     "iopub.status.busy": "2022-04-26T06:35:23.143140Z",
     "iopub.status.idle": "2022-04-26T06:35:23.148126Z",
     "shell.execute_reply": "2022-04-26T06:35:23.148126Z"
    }
   },
   "outputs": [],
   "source": [
    "# check to see if obs&weights notebook has been run\n",
    "if not pst.observation_data.observed.sum()>0:\n",
    "    raise Exception(\"You need to run the '/part2_2_obs_and_weights/freyberg_obs_and_weights.ipynb' notebook\")"
   ]
  },
  {
   "cell_type": "markdown",
   "metadata": {},
   "source": [
    "Make a quick parameter summary table as a reminder of what we have in our control file:"
   ]
  },
  {
   "cell_type": "code",
   "execution_count": null,
   "metadata": {
    "execution": {
     "iopub.execute_input": "2022-04-26T06:35:23.150137Z",
     "iopub.status.busy": "2022-04-26T06:35:23.150137Z",
     "iopub.status.idle": "2022-04-26T06:35:23.237851Z",
     "shell.execute_reply": "2022-04-26T06:35:23.237851Z"
    }
   },
   "outputs": [],
   "source": [
    "pst.write_par_summary_table(filename=\"none\")"
   ]
  },
  {
   "cell_type": "markdown",
   "metadata": {},
   "source": [
    "Recall that our parameterisation is quite comprehensive, with pilot points and grid based (e.g. cell-by-cell) parameters. \n",
    "\n",
    "Let's recall how many adjustable parameters we have:"
   ]
  },
  {
   "cell_type": "code",
   "execution_count": null,
   "metadata": {
    "execution": {
     "iopub.execute_input": "2022-04-26T06:35:23.239865Z",
     "iopub.status.busy": "2022-04-26T06:35:23.239865Z",
     "iopub.status.idle": "2022-04-26T06:35:23.245855Z",
     "shell.execute_reply": "2022-04-26T06:35:23.245855Z"
    }
   },
   "outputs": [],
   "source": [
    "pst.npar_adj"
   ]
  },
  {
   "cell_type": "markdown",
   "metadata": {},
   "source": [
    "Quite a lot! How long does the model take to run? Even if it is well under a minute, that can quickly add up. Just to illustrate, let's chekc how long it takes our forwrd run to complete:"
   ]
  },
  {
   "cell_type": "code",
   "execution_count": null,
   "metadata": {
    "execution": {
     "iopub.execute_input": "2022-04-26T06:35:23.247845Z",
     "iopub.status.busy": "2022-04-26T06:35:23.247845Z",
     "iopub.status.idle": "2022-04-26T06:35:29.748015Z",
     "shell.execute_reply": "2022-04-26T06:35:29.748015Z"
    }
   },
   "outputs": [],
   "source": [
    "import timeit\n",
    "start_time = timeit.default_timer()\n",
    "\n",
    "# execute the model forward_run.py script\n",
    "pyemu.os_utils.run('python forward_run.py', cwd=t_d)\n",
    "\n",
    "elapsed = timeit.default_timer() - start_time\n",
    "elapsed"
   ]
  },
  {
   "cell_type": "markdown",
   "metadata": {},
   "source": [
    "So, very roughly, we can estimate how long it will take to fill in a Jacobian matrix. Let's assume we will be running this in parallel with as many agents as we have cores (update `number_of_cpu_cores` according to what you have at your disposal).\n",
    "\n",
    "You can check how many physical cores you have on your machine with `psutil`:"
   ]
  },
  {
   "cell_type": "code",
   "execution_count": null,
   "metadata": {
    "execution": {
     "iopub.execute_input": "2022-04-26T06:35:29.749994Z",
     "iopub.status.busy": "2022-04-26T06:35:29.749994Z",
     "iopub.status.idle": "2022-04-26T06:35:29.754009Z",
     "shell.execute_reply": "2022-04-26T06:35:29.754009Z"
    }
   },
   "outputs": [],
   "source": [
    "psutil.cpu_count(logical=False)"
   ]
  },
  {
   "cell_type": "code",
   "execution_count": null,
   "metadata": {
    "execution": {
     "iopub.execute_input": "2022-04-26T06:35:29.756006Z",
     "iopub.status.busy": "2022-04-26T06:35:29.755009Z",
     "iopub.status.idle": "2022-04-26T06:35:29.762483Z",
     "shell.execute_reply": "2022-04-26T06:35:29.762483Z"
    }
   },
   "outputs": [],
   "source": [
    "number_of_cpu_cores = psutil.cpu_count(logical=False)\n",
    "\n",
    "print(f'Number of hours to fill a jacobian:{pst.npar_adj * elapsed / 60/60 / number_of_cpu_cores}')"
   ]
  },
  {
   "cell_type": "markdown",
   "metadata": {},
   "source": [
    "Unless you have many many CPU's at hand, that's still going to be pretty long despite the relatively fast model."
   ]
  },
  {
   "cell_type": "markdown",
   "metadata": {},
   "source": [
    "### 3. Good-Bye High-Dimensional Parameterisation!\n",
    "\n",
    "As previously discussed, the computational cost of conventional model calibration (attained through\n",
    "adjustment of a single parameter field using partial derivatives calculated using finite parameter\n",
    "differences) increases with the number of adjustable parameters. This imposes pragmatic limits on the number of adjustable parameters we can have.\n",
    "\n",
    "We are limited by compute power (e.g. how many parallel model runs can we deploy) and how long each model takes to run. At the end of the day, it will be project time and cost constraints that will pose hard limits on what is acceptible. \n",
    "\n",
    "So here comes the painfull part: we can't use these 10's of thousands of parameters. We are going to have to set many of them as \"fixed\" (e.g. no longer adjustable). We do this by changing the parameter transform value in the `* parameter data` section (e.g. the \"partrans\" column in `pst.parameter_data`). "
   ]
  },
  {
   "cell_type": "code",
   "execution_count": null,
   "metadata": {
    "execution": {
     "iopub.execute_input": "2022-04-26T06:35:29.764478Z",
     "iopub.status.busy": "2022-04-26T06:35:29.764478Z",
     "iopub.status.idle": "2022-04-26T06:35:29.767475Z",
     "shell.execute_reply": "2022-04-26T06:35:29.767475Z"
    }
   },
   "outputs": [],
   "source": [
    "par = pst.parameter_data"
   ]
  },
  {
   "cell_type": "markdown",
   "metadata": {},
   "source": [
    "Let's set all the grid scale parameters as fixed, with the exception of the SFR inflow parameters. That will sort a large amount. The cost is we lose the ability to capture the effects of small-scale heterogeneity. "
   ]
  },
  {
   "cell_type": "code",
   "execution_count": null,
   "metadata": {
    "execution": {
     "iopub.execute_input": "2022-04-26T06:35:29.769597Z",
     "iopub.status.busy": "2022-04-26T06:35:29.769292Z",
     "iopub.status.idle": "2022-04-26T06:35:29.779271Z",
     "shell.execute_reply": "2022-04-26T06:35:29.779271Z"
    }
   },
   "outputs": [],
   "source": [
    "# say goodbye to grid-scale pars\n",
    "gr_pars = par.loc[par.pargp.apply(lambda x: \"gr\" in x and \"sfr\" not in x),\"parnme\"]\n",
    "par.loc[gr_pars,\"partrans\"] = \"fixed\"\n",
    "pst.npar_adj"
   ]
  },
  {
   "cell_type": "markdown",
   "metadata": {},
   "source": [
    "Let's fix all recharge pilot point parameters. We will at least still have the layer-scale parameters for these."
   ]
  },
  {
   "cell_type": "code",
   "execution_count": null,
   "metadata": {
    "execution": {
     "iopub.execute_input": "2022-04-26T06:35:29.781261Z",
     "iopub.status.busy": "2022-04-26T06:35:29.781261Z",
     "iopub.status.idle": "2022-04-26T06:35:29.788249Z",
     "shell.execute_reply": "2022-04-26T06:35:29.788249Z"
    }
   },
   "outputs": [],
   "source": [
    "rch_pp = [i for i in pst.adj_par_groups if i.startswith('rch') and i.endswith('pp') ]\n",
    "par.loc[par['pargp'].isin(rch_pp),\"partrans\"] = \"fixed\"\n",
    "pst.npar_adj"
   ]
  },
  {
   "cell_type": "markdown",
   "metadata": {},
   "source": [
    "Fix all those initial head parameters..."
   ]
  },
  {
   "cell_type": "code",
   "execution_count": null,
   "metadata": {
    "execution": {
     "iopub.execute_input": "2022-04-26T06:35:29.790307Z",
     "iopub.status.busy": "2022-04-26T06:35:29.790014Z",
     "iopub.status.idle": "2022-04-26T06:35:29.797293Z",
     "shell.execute_reply": "2022-04-26T06:35:29.797293Z"
    }
   },
   "outputs": [],
   "source": [
    "icstrt = [i for i in pst.adj_par_groups if i.startswith('icstrt') ]\n",
    "par.loc[par['pargp'].isin(icstrt),\"partrans\"] = \"fixed\"\n",
    "pst.npar_adj"
   ]
  },
  {
   "cell_type": "markdown",
   "metadata": {},
   "source": [
    "And let's also fix pilot point parameters for storage, and for vertical conductivity ratio in layer 1 and 3. "
   ]
  },
  {
   "cell_type": "code",
   "execution_count": null,
   "metadata": {
    "execution": {
     "iopub.execute_input": "2022-04-26T06:35:29.799414Z",
     "iopub.status.busy": "2022-04-26T06:35:29.799414Z",
     "iopub.status.idle": "2022-04-26T06:35:29.805401Z",
     "shell.execute_reply": "2022-04-26T06:35:29.805401Z"
    }
   },
   "outputs": [],
   "source": [
    "fi_grps = [ #'stosslayer3pp',\n",
    "            'stosslayer2pp',\n",
    "            #'stosylayer1pp', \n",
    "            'npfk33layer1pp',\n",
    "            'npfk33layer3pp',\n",
    "            ]\n",
    "par.loc[par.pargp.apply(lambda x: x in fi_grps),\"partrans\"] = \"fixed\"\n",
    "\n",
    "pst.npar_adj"
   ]
  },
  {
   "cell_type": "markdown",
   "metadata": {},
   "source": [
    "OK, let's check that estimate of run time again...hmm...a bit more manageable. Of course, the cost of this has been a loss of flexibility in our parameterisation scheme. This means we are potentialy less able to fit historical data...but worse, we are also less able to capture the effect of uncertianty from these fixed parameters on model forecasts."
   ]
  },
  {
   "cell_type": "code",
   "execution_count": null,
   "metadata": {
    "execution": {
     "iopub.execute_input": "2022-04-26T06:35:29.807392Z",
     "iopub.status.busy": "2022-04-26T06:35:29.807392Z",
     "iopub.status.idle": "2022-04-26T06:35:29.811308Z",
     "shell.execute_reply": "2022-04-26T06:35:29.811308Z"
    }
   },
   "outputs": [],
   "source": [
    "print(f'Number of hours to fill a jacobian:{pst.npar_adj * elapsed / 60/60 / number_of_cpu_cores}')"
   ]
  },
  {
   "cell_type": "markdown",
   "metadata": {},
   "source": [
    "OK, if we are happy (#sadface) with the number of parameters, we can move on.\n",
    "\n",
    "To instruct PEST or PEST++GLM to only calculate the Jacobian and then stop, we assign a value of -1 or -2 to the NOPTMAX control value. Like so:"
   ]
  },
  {
   "cell_type": "code",
   "execution_count": null,
   "metadata": {
    "execution": {
     "iopub.execute_input": "2022-04-26T06:35:29.813296Z",
     "iopub.status.busy": "2022-04-26T06:35:29.813296Z",
     "iopub.status.idle": "2022-04-26T06:35:29.815296Z",
     "shell.execute_reply": "2022-04-26T06:35:29.815296Z"
    }
   },
   "outputs": [],
   "source": [
    "pst.control_data.noptmax = -1"
   ]
  },
  {
   "cell_type": "markdown",
   "metadata": {},
   "source": [
    "We are now ready to go. Let's re-write the control file. We will record this with a new name: `freyberg_pp.pst`. "
   ]
  },
  {
   "cell_type": "code",
   "execution_count": null,
   "metadata": {
    "execution": {
     "iopub.execute_input": "2022-04-26T06:35:29.817286Z",
     "iopub.status.busy": "2022-04-26T06:35:29.817286Z",
     "iopub.status.idle": "2022-04-26T06:35:29.965236Z",
     "shell.execute_reply": "2022-04-26T06:35:29.965236Z"
    }
   },
   "outputs": [],
   "source": [
    "pst.write(os.path.join(t_d,\"freyberg_pp.pst\"))"
   ]
  },
  {
   "cell_type": "markdown",
   "metadata": {},
   "source": [
    "### 4. Run PEST++GLM\n",
    "\n",
    "Alright! Let's run this thing!\n",
    "\n",
    "As we saw in the \"freyberg prior monte carlo\" notebook, we can use `pyemu` to deploy PEST in parallel. \n",
    "\n",
    "To speed up the process, you will want to distribute the workload across as many parallel agents as possible. Normally, you will want to use the same number of agents (or less) as you have available CPU cores. Most personal computers (i.e. desktops or laptops) these days have between 4 and 10 cores. Servers or HPCs may have many more cores than this. Another limitation to keep in mind is the read/write speed of your machines disk (e.g. your hard drive). PEST and the model software are going to be reading and writting lots of files. This often slows things down if agents are competing for the same resources to read/write to disk. (It also wears through SSD drives...)\n",
    "\n",
    "The first thing we will do is specify the number of agents we are going to use.\n",
    "\n",
    "# Attention!\n",
    "\n",
    "You must specify the number which is adequate for ***your*** machine! Make sure to assign an appropriate value for the following `num_workers` variable:"
   ]
  },
  {
   "cell_type": "code",
   "execution_count": null,
   "metadata": {
    "execution": {
     "iopub.execute_input": "2022-04-26T06:35:29.967231Z",
     "iopub.status.busy": "2022-04-26T06:35:29.967231Z",
     "iopub.status.idle": "2022-04-26T06:35:29.970223Z",
     "shell.execute_reply": "2022-04-26T06:35:29.970223Z"
    }
   },
   "outputs": [],
   "source": [
    "num_workers = psutil.cpu_count(logical=False) # update according to your available resources!"
   ]
  },
  {
   "cell_type": "markdown",
   "metadata": {},
   "source": [
    "Then specify the folder in which the PEST manager will run and record outcomes. It should be different form the `t_d` folder. "
   ]
  },
  {
   "cell_type": "code",
   "execution_count": null,
   "metadata": {
    "execution": {
     "iopub.execute_input": "2022-04-26T06:35:29.972218Z",
     "iopub.status.busy": "2022-04-26T06:35:29.971220Z",
     "iopub.status.idle": "2022-04-26T06:35:29.974212Z",
     "shell.execute_reply": "2022-04-26T06:35:29.974212Z"
    }
   },
   "outputs": [],
   "source": [
    "m_d = os.path.join('master_glm_1')"
   ]
  },
  {
   "cell_type": "markdown",
   "metadata": {},
   "source": [
    "The following cell deploys the PEST agents and manager and then starts the run using `pestpp-glm`. Run it by pressing `shift+enter`.\n",
    "\n",
    "If you wish to see the outputs in real-time, switch over to the terminal window (the one which you used to launch the `jupyter notebook`). There you should see `pestpp-glm`'s progress. \n",
    "\n",
    "If you open the tutorial folder, you should also see a bunch of new folders there named `worker_0`, `worker_1`, etc. These are the agent folders. `pyemu` will remove them when PEST finishes running.\n",
    "\n",
    "This run should take a while to complete (depending on the number of workers and the speed of your machine). If you get an error, make sure that your firewall or antivirus software is not blocking `pestpp-glm` from communicating with the agents (this is a common problem!)."
   ]
  },
  {
   "cell_type": "code",
   "execution_count": null,
   "metadata": {
    "execution": {
     "iopub.execute_input": "2022-04-26T06:35:29.976207Z",
     "iopub.status.busy": "2022-04-26T06:35:29.976207Z",
     "iopub.status.idle": "2022-04-26T06:47:24.250448Z",
     "shell.execute_reply": "2022-04-26T06:47:24.250448Z"
    }
   },
   "outputs": [],
   "source": [
    "pyemu.os_utils.start_workers(t_d,\"pestpp-glm\",\"freyberg_pp.pst\",num_workers=num_workers,worker_root=\".\",\n",
    "                           master_dir=m_d)"
   ]
  }
 ],
 "metadata": {
  "interpreter": {
   "hash": "d91d695e32284e5f4db43d0a55a7ffe722d99eb6050b5b06eff0d966e4449445"
  },
  "kernelspec": {
   "display_name": "Python 3 (ipykernel)",
   "language": "python",
   "name": "python3"
  },
  "language_info": {
   "codemirror_mode": {
    "name": "ipython",
    "version": 3
   },
   "file_extension": ".py",
   "mimetype": "text/x-python",
   "name": "python",
   "nbconvert_exporter": "python",
   "pygments_lexer": "ipython3",
   "version": "3.9.12"
  }
 },
 "nbformat": 4,
 "nbformat_minor": 2
}
