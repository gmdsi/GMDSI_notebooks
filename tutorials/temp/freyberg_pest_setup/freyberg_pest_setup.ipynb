{
 "cells": [
  {
   "cell_type": "markdown",
   "metadata": {},
   "source": [
    "<img src=\"PEST++V3_cover.jpeg\" style=\"float: left\">\n",
    "\n",
    "<img src=\"flopylogo.png\" style=\"float: right\">\n",
    "\n",
    "<img src=\"AW&H2015.png\" style=\"float: center\">\n",
    "\n",
    "# Setting up PEST:  Communicating with the model\n",
    "Recall that, for all its sophistication, parameter estimation calibration does the same things as a modeler does in manual trial-and-error.  Here is a flow chart manual trial-and-error history matching from *Applied Groundwater Modeling (2nd edition)* by Anderson et al. (2015): \n",
    "\n",
    "<img src=\"Fig9.1_manual_t&e.png\" style=\"float: center\">"
   ]
  },
  {
   "cell_type": "markdown",
   "metadata": {},
   "source": [
    "### Compare this to the full overdetermined parameter estimation flow chart:\n",
    "\n",
    "\n",
    "<img src=\"Fig9.9_full_overdetermined_PE_flowchart.png\" style=\"float: center\">"
   ]
  },
  {
   "cell_type": "markdown",
   "metadata": {},
   "source": [
    "In this notebook we'll spend time on the steps needed to move from manual trial-and-error so the actions are automated once you set them up. PEST and PEST++ are called \"universal\" inverse codes because they can be bolted on the outside of any model.  Well, that is any model they can talk to and run, which means the model needs to meet these two criteria:\n",
    "\n",
    " 1. The model input and output are ASCII text files or can be converted to text files.\n",
    " 2. The model can be run at the command line without user intervention (also known as \"batch mode\")\n",
    " \n",
    " \n",
    " ### In this exercise we will get under the hood and see how PEST communicates with the model."
   ]
  },
  {
   "cell_type": "markdown",
   "metadata": {},
   "source": [
    "To be more specific, in the blue box in Figure 9.9 above there are certain steps that occur before and after each forward model run that PEST does.  They exactly equate to what a manual trial-and-error calibration does, but PEST does it for you! Here are the steps that happen:\n",
    "\n",
    "<img src=\"Fig9.8_PE_flowchart.png\" style=\"float: center\">"
   ]
  },
  {
   "cell_type": "markdown",
   "metadata": {},
   "source": [
    "### Objectives:  \n",
    "\n",
    "1) During this lesson we'll spend time on \"the plumbing\" that allows PEST to manipulate model input and output files - these are shown in the 1st and 3rd box in Figure 9.8.  \n",
    "\n",
    "2) And - we'll run PEST++!\n",
    "\n",
    "3) And we'll see how to include forecasts in our PEST runs"
   ]
  },
  {
   "cell_type": "markdown",
   "metadata": {},
   "source": [
    "# Revisiting the Freyberg trial-and-error model\n",
    "\n",
    "## Quick reminder of what the model looks like:\n",
    "\n",
    "It is a heterogenous 2D areal (1-layer) model that is a step up in complexity from our xsec model. Recall it looks like this, as shown in the original Freyberg (1988) paper on the left, and a Groundwater Vistas version on the right (from the file in the GW_Vistas subdirectory).   \n",
    "\n",
    "<img src=\"Freburg1988_fig1.png\" style=\"float: left\">\n",
    "\n",
    "<img src=\"Freyberg_k_plot_GW_Vistas.png\" style=\"float: center\">\n",
    "\n",
    "We want to run PEST so it does what you were doing by hand.  To do this we need to provide conduits that change a model input file and that extract model results after the forward run finishes. First we'll do some Python notebook prep (push shift-enter in the next code block)\n"
   ]
  },
  {
   "cell_type": "code",
   "execution_count": null,
   "metadata": {},
   "outputs": [],
   "source": [
    "%matplotlib inline\n",
    "import os\n",
    "import sys\n",
    "sys.path.append(\"..\")\n",
    "import shutil\n",
    "import pandas as pd\n",
    "import matplotlib.pyplot as plt\n",
    "import pyemu"
   ]
  },
  {
   "cell_type": "markdown",
   "metadata": {},
   "source": [
    "### Now we'll bring in the model and run it"
   ]
  },
  {
   "cell_type": "code",
   "execution_count": null,
   "metadata": {},
   "outputs": [],
   "source": [
    "import freyberg_setup as fs\n",
    "pst_name = fs.PST_NAME_UN\n",
    "working_dir = fs.WORKING_DIR_UN\n",
    "fs.setup_pest_un()\n",
    "pst = pyemu.Pst(os.path.join(working_dir,pst_name))\n",
    "pst.control_data.noptmax = 0\n",
    "pst.write(os.path.join(working_dir,pst_name))"
   ]
  },
  {
   "cell_type": "code",
   "execution_count": null,
   "metadata": {},
   "outputs": [],
   "source": [
    "# plot the model K field (left) and simulated heads and particle path\n",
    "fs.plot_model(working_dir, pst_name)"
   ]
  },
  {
   "cell_type": "markdown",
   "metadata": {},
   "source": [
    "### Notice that MODFLOW ran twice - this is to help us debug problems in the classroom setting.  The first one is simply to check that the flopy-created MODFLOW model was working, the second run checks the MODFLOW-PEST++ link created by pyemu was working  as that is what we'll use for the rest of the notebook.\n"
   ]
  },
  {
   "cell_type": "markdown",
   "metadata": {
    "collapsed": true
   },
   "source": [
    "## Now we'll make *template (.TPL) and instruction (.INS)* files"
   ]
  },
  {
   "cell_type": "markdown",
   "metadata": {},
   "source": [
    "# 1) Template files are used to create model input\n",
    "\n",
    "### Template files simply replace parameter numerical values with a code variable, named in the PEST Control File\n",
    "There needs to be one template file __for each model__ input file that has parameters that we want PEST to estimate. PEST will read in each template file,  use it as a template to substitute its updated parameter value, then write one model input file for each TPL file it read.  In the PEST control file we specify each template file __and__ the associated model model input file we want PEST to create after it has updated estimates for the parameters on separate lines. So, say we had a MODFLOW input file named 'my_aquifer.lpf' for which we made a template file 'my_aquifer_lpf.tpl'. In the \"model input/output\" section of the PEST control file there will be a line containing this:\n",
    "\n",
    "my_aquifer_lpf.tpl       my_aquifer.lpf\n",
    "\n",
    "#### Open the PEST control file `simple.pst` in a text editor and find the template (tpl) file listed in the `   model input/output` section\n",
    "#### Open that template file in a text editor \n",
    "### Rules for constructing TPL Files \n",
    "\n",
    " 1. The first line of the TPL file must identify that it is a template file by listing \"`ptf ~`\" where \"`~`\" is a \"parameter delimiter\" that tells PEST where a parameter sits in the file. We used a tilde here but it can be any symbol. __However__, whatever delimiter symbol is listed in the first line must be used consistently throughout that template file.\n",
    " 2. The template file looks exactly like the original model input file __BUT__ parameters are substituted for the  model input(s) that we want PEST to estimate.  Parameters are identified by surrounding the parameter name listed in the PEST control (.pst) file with the delimiter.  For the \"`~`\" delimiter that we used above, and a horizontal K parameter named \"`hk1`\" listed as a parameter in a PEST .pst file, the template file would have \"`~   hk1 ~`\" __wherever that Kh value__ was listed in the original model input file. \n",
    "   * Note that the parameter name can be anywhere between the parameter delimiters\n",
    "   * PEST will fill the space up to and including the parameter delimiters with a value, so make them as wide as possible for maximum precision\n",
    "   \n",
    "#### So\n",
    "\"`~    hk1    ~`\" will be replaced by the value for `hk1` specified by PEST. If that value is 3.14, PEST will write \"`3.14000000000`\" in its place.\n",
    "\n",
    "#### The PEST manual explains more detail about how you can control the writing of model input (e.g. scientific notation, double precision, etc.); see http://www.pesthomepage.org/Downloads.php to get the most recent version of the manual."
   ]
  },
  {
   "cell_type": "markdown",
   "metadata": {},
   "source": [
    "### Checking a template file with the `TEMPCHEK` utility\n",
    "\n",
    "Let's check to see if this template file is correct using TEMPCHEK.  TEMPCHEK is a handy PEST utility that allows us to error check our template files without having to do a full PEST run. You can see exactly what files and what order TEMPCHECK is expecting them by simply typing 'TEMPCHEK\" at the command line (tempchek for Windows and ./tempchek for Mac).  You'll see:"
   ]
  },
  {
   "cell_type": "markdown",
   "metadata": {},
   "source": [
    "```\n",
    "TEMPCHEK Version 14.01. Watermark Numerical Computing.\n",
    "\n",
    "TEMPCHEK is run using the command:\n",
    "\n",
    "   tempchek tempfile [modfile [parfile]]\n",
    "\n",
    "where\n",
    "\n",
    "   \"tempfile\" is a PEST template file,\n",
    "   \"modfile\" is an [optional] model input file to be written by TEMPCHEK, and\n",
    "   \"parfile\" is an [optional] parameter value file.\n",
    "\n",
    "```"
   ]
  },
  {
   "cell_type": "markdown",
   "metadata": {
    "collapsed": true
   },
   "source": [
    "#### Run `TEMPCHEK` __on the template file listed in  `simple.pst`__ and open the associated output file listed.  Although you could have seen this on a quick look at the template file, the TEMPCHEK output file is useful when you have many parameters. "
   ]
  },
  {
   "cell_type": "code",
   "execution_count": null,
   "metadata": {},
   "outputs": [],
   "source": []
  },
  {
   "cell_type": "markdown",
   "metadata": {},
   "source": [
    "### Easiest way to make a template file? Modify an existing input file. Let's modify horizontal hydraulic conductivity (HK) in a new version of the Freyberg model\n",
    "\n",
    " 1. Change into the subdirectory __\\freyberg_un__ \n",
    " 2. Look inside __freyberg.nam__. \n",
    " 2. It's MODFLOW, so find whether LPF, BCF, or UPW is being used\n",
    " 3. Open UPW (in this case) in a text editor to find if there are external files being used\n",
    " 4. Make a copy of the input file that contains HK and name it the same as the input file but with .tpl extension\n",
    " 5. Add a new line on top of your tpl file to tell PEST that it is a template file and what the delimiter is\n",
    " 6. Do a search and replace that substitutes the variable hk1 surrounded by the delimiter you chose where appropriate\n",
    " 7. Save the file with your own name (but don't use hk_layer_1.ref.tpl that is already in the directory) and run TEMPCHEK \n",
    " "
   ]
  },
  {
   "cell_type": "code",
   "execution_count": null,
   "metadata": {},
   "outputs": [],
   "source": []
  },
  {
   "cell_type": "markdown",
   "metadata": {},
   "source": [
    "# 2) Instruction files extract results from model output\n",
    "Similar to the template files, the names of instruction files and which model output files they should work on are listed after all the template files in the * model input/output section of the PEST control file.  As you might expect with the wide range of model output file variation, creating instruction files is slightly more complicated than creating template files. There is basically an internal scripting language for reading text files of model output, extracting the output of interest, and providing it directly to PEST.\n",
    "\n",
    "#### Open the PEST control file `simple.pst` in a text editor and find the Instruction (ins) file listed in the `model input/output` section\n",
    "#### Open that Instruction file in a text editor \n",
    "\n",
    "### Rules for INS Files \n",
    "\n",
    " * The first line on an .ins file must be \"`pif ~`\" where \"`~`\" is a \"marker delimiter\"--a symbol that can be used to identify text to search for.  It is expected on this first line but it's not always used.\n",
    " * The scripting options are extensive but particular. Some options on how to navigate to the numerical data you want to read are:\n",
    "   1. Using a line advance.  PEST starts at the very top the model output file, and you have to move down 1 line to get to the first line that you see in the model output. You can tell PEST to move down the file _`n`_ lines using the `l` character (=lowercase letter l) with a number.  So \"`l1`\" moves down one line, \"`l3`\" moves down 3 lines.  \n",
    "   2. Using the marker delimiter, the INS file can search through a file until it finds a \"primary marker\". For example:  \n",
    "   \"`~VOLUMETRIC BUDGET FOR ENTIRE MODEL~`\" can be used to search for budgets in a LST file  \n",
    "   This is particularly well suited for output files (like a LST file) that have unpredictable lengths.  Note though that PEST will always start at the top of the file and go down, never up and never wrapping once it reaches the end.  This can be a problem when the order of some observations with respect to other observations is not consistent (e.g., some MODPATH output).  When searching for mutiple observations that may vary in order in an output file, it is easiest to have multiple instruction files open the same model output file multiple times so you are always starting at the top of the file (PEST does not mind). \n",
    "   3. Next, you can search for a \"secondary marker\" within a line using the marker delimiter again. This navigates from the left of the line until the secondary marker is found.\n",
    "   4. Once on the line you can specify which columns on a line to extract.  So a line in an instruction file that says '~101  138~ (depth_T2-90)46:58'means that PEST will look for '101  138' in the model output file (with the exact number of spaces between the two numbers) then extract column 46:58 to determine the model output that equates to the target observation 'depth_T2-90' that is listed in the PEST control file.   \n",
    "5. Finally, you can read in whitespace-delimited numerical data using \"`!`\" around the observation name:  \n",
    "   for example, if the output file is:  \n",
    "   ```\n",
    "   Output file from run 5\n",
    "   Run date: 1/1/2012\n",
    "   Run time: 24.3 hours\n",
    "   Converged in 350 iterations\n",
    "   Head Observations:\n",
    "   H1=33.345 H2=45.34\n",
    "   ...\n",
    "   ```  \n",
    "   The instruction file would be like \n",
    "   ```\n",
    "   pif ~\n",
    "    ~Head Observations~\n",
    "    l1 ~H1=~ !h1val! ~H2=~ !h2val!\n",
    "   ```\n",
    "   \n",
    " These are only a few of the most commonly used options but more options, and more detail on these, are available in the PEST manual.  \n",
    "   \n",
    "   Let's check an instruction file using `INSCHEK`, a handy utility that allows us to check our instruction files without having to do a full PEST run. You can see what INSCHEK is looking for by simply typing 'INSCHEK\" at the command line.  You'll see: \n",
    "   "
   ]
  },
  {
   "cell_type": "markdown",
   "metadata": {},
   "source": [
    "```\n",
    "INSCHEK Version 14.01. Watermark Numerical Computing.\n",
    "\n",
    "INSCHEK is run using the command:\n",
    "\n",
    "    INSCHEK insfile [modfile]\n",
    "\n",
    "where\n",
    "\n",
    "    \"insfile\" is a PEST instruction file, and\n",
    "    \"modfile\" is an [optional] model output file to be read by INSCHEK.\n",
    "\n",
    "\n",
    "```\n",
    "\n",
    "### We've given you a file called `junk.out.ins` and an accompanying output file called `junk.out`.  Run INSCHEK: 1) without the optional model output file/ look at output; and 2) with the optional model output file/look at output.  \n",
    "\n",
    "(Note:  yes the author of PEST John Doherty knows how to spell! He could have made it INSCHECK but chose to be consistent across all his checking programs and for some, like TEMPCHEK above, proper spelling would not fit in the 8.3 filename format required at the time.  The good news is you only have one to remember - just think CHEK.)"
   ]
  },
  {
   "cell_type": "code",
   "execution_count": null,
   "metadata": {},
   "outputs": [],
   "source": []
  },
  {
   "cell_type": "markdown",
   "metadata": {},
   "source": [
    "## Good to know: The simplest INS file\n",
    "\n",
    "In some cases, the output is orderly and easy to read (or you make it so by preprocessing -  e.g., what the Groundwater Vistas targpest.exe utility does). If it's all numeric, life is easy!\n",
    "\n",
    "For a file with 5 head values like:  \n",
    "```\n",
    "1.1  1.2  1.3345 2e-6 5\n",
    "```\n",
    "\n",
    "The `INS` file would simply be:  \n",
    "```\n",
    "pif ~\n",
    "l1 !h1! !h2! !h3! !h4! !h5!\n",
    "```"
   ]
  },
  {
   "cell_type": "markdown",
   "metadata": {},
   "source": [
    "# Your turn! Look at a MODFLOW head file and make an INS file to read it\n",
    "\n",
    " 1. Go up a directory from \\freyberg_un \n",
    " 2. Using a text editor, open `10par_xsect.hds` and determine how to navigate the head output file for a cross-section model (seen later in the response surface notebook)\n",
    " 3. Consult the a) observation section of the file `simple.pst` to see what you should name the observations in the INS file; and 2) model input/output section to see what to name the instruction file.\n",
    " 4. Note that line 1 of the file has observations `h01_1`, `h01_2`, ..., `h01_10` and line 2 has observations `h02_1`, `h02_2`, ..., `h02_10` (__hint:__ you can take advantage of the \"simplest INS file\" approach)\n",
    " 5. Run `INSCHEK` to be sure all is well (i.e., you get the numbers extracted that you see in the 10par_xsect.hds file)."
   ]
  },
  {
   "cell_type": "code",
   "execution_count": null,
   "metadata": {},
   "outputs": [],
   "source": []
  },
  {
   "cell_type": "markdown",
   "metadata": {},
   "source": [
    "# Enough mechanics, let's check the Freyberg model PEST plumbing \n",
    "\n",
    "#### Move back down to the \\freyberg_un directory\n",
    "\n",
    "Just like TEMPCHEK and INSCHEK, we also have a handy utility that we run on our PEST setup before pulling the trigger. \n",
    "\n",
    "## (note: never never never run PEST without running PESTCHEK first!!!)\n",
    "\n",
    "Just like TEMPCHEK and INSCHEK, you can see what PESTCHEK is looking for by simply typing `pestchek` (Windows) or `./pestchek` (Mac) at the command line.  If you did that you would see that we have to put this on the command line to check our PEST setup: __`pestchek freyberg_un.pst`__ (if Windows) or __./pestchek freyberg_un.pst__ (if Mac)\n",
    "\n",
    "If errors are indicated, PEST won't run so we have to correct them. Warnings, on the other hand, highlight potentially good information about what you have specified in the control file but they don't require a change to run. However, the warnings may guide your eyes to things you are not intending so always read them too.\n",
    "\n",
    "If no errors, run __`pestpp freyberg_un.pst`__ (Windows) or __`./pestpp freyberg_un.pst`__ (Mac).\n",
    "\n",
    "AND: Remind Randy that he has a point about cross platform execution of ASCII PEST files to make"
   ]
  },
  {
   "cell_type": "code",
   "execution_count": null,
   "metadata": {},
   "outputs": [],
   "source": []
  },
  {
   "cell_type": "markdown",
   "metadata": {},
   "source": [
    "### Look at the main PEST output, the `.rec` file, to see results. What other files were made and what's in them?\n",
    "\n",
    "As mentioned in the PESTCHEK warning, the control file we gave you has `NOPTMAX=0`, which means the model only is run once, and then PEST++ processes all the output and reports the objective function phi. So, not too exciting with only one run.  However, we __always__ run with `NOPTMAX=0` first to \"test the plumbing\"of the template and instruction files, and to see if we like the contribution of observation groups to the total objective function. If we don't like the objective function distribution we can reweight, then re-run PEST++ with `NOPTMAX=0` again.  \n",
    "\n",
    "\n",
    "# Finally - let's get a best fit for this problem\n",
    "Now __change `NOPTMAX` to a value = 20__ (`NOPTMAX` is the first number listed in the 9th line of the PEST control file).  You can see its location below, taken from Appendix 1 from SIR 2010-5169 we will be handing out:\n",
    "\n",
    "<img src=\"2010-5169_Appendix1_PST_file.png\" style=\"float: center\">\n",
    "\n",
    "The full listing of the PEST control file and a description of each variable is in Appendix 1. __*However, most of these you never will need to touch - the defaults are fine!*__  NOPTMAX, however, is one that you will routinely touch. \n",
    "\n",
    "\n",
    "Now run PESTCHEK again - note that the NOPTMAX=0 warning is now gone.  \n",
    "\n",
    "#### If no errors, run PEST++ again.\n",
    "\n",
    "This will run parameter estimation on the model and will max out at 20 parameter upgrades. You may have figured out by now, but NOPTMAX stands for __N__umber of __OPT__imization iterations __MAX__imum --cryptic variable names were the price one had to pay when computer RAM was exceedingly small! "
   ]
  },
  {
   "cell_type": "code",
   "execution_count": null,
   "metadata": {},
   "outputs": [],
   "source": []
  },
  {
   "cell_type": "markdown",
   "metadata": {},
   "source": [
    "### Look at the PEST `.rec` file - what changed? What new output files were created that weren't there with NOTPMAX=0?"
   ]
  },
  {
   "cell_type": "markdown",
   "metadata": {},
   "source": [
    "# Moving into the 21st Century - thinking about forecast uncertainty \n",
    "\n",
    "Recall that in your freyberg_trial_and_error activity you focused on two observations, flux at a location on the river (PEST observation = flx_river_l_19750101) and time of travel (PEST observation = travel_time).\n",
    "\n",
    "If there is __*one thing*__ we want you to take away from this class it is this:  \n",
    "\n",
    "# *For most models there is a forecast/prediction that someone needs; rather than waiting until the end of the project, the forecast should be entered into your thinking and workflow __right at the beginning__.* \n",
    "\n",
    "But wait a minute - how does PEST know we have a forecast and not a calibration data point? Open up __freberg_un.pst__ in a text editor and look in the observation section. Find the ++forecasts command. Turns out we can only identify a model output as a forecast *if it is also listed* in the observation section of the PEST control file.  So although the travel_time forecast looks like a calibration target we give it zero weight so it does not affect the calibration.  This is a nifty trick - we can put in forecasts __and__ hypothetical observations even if we don't have measured values for them! More on this coming up so stay tuned!  \n",
    "\n",
    "Now, even though it looks like a forecast PEST++ still treats it as an observation until we tell it.  \n",
    "\n",
    "#### PEST++ made this very easy - simply add the forecasts as observations and list them in a ++forecasts section in the PEST control `.pst` file.  \n",
    "\n",
    "\n",
    "The `++` at the beginning means this input will ___only be seen by PEST++___; if you use PEST it will be ignored. \n",
    "\n",
    "Let's open __`freyberg_un.rec`__ in a text editor and look at the forecast uncertainty output reported at end of the .rec file.  Look also at the uncertainty reported for the HK conductivity parameter.  The optimal value is around 6.8 - why is the mean HK so diferent in the forecast section?\n",
    "\n",
    "\n",
    "# To recap:  you just added a forecast and got an estimate of the uncertainty by simply adding one line to the PEST++ control file!\n",
    "\n",
    "(How exactly was that uncertainty calculated?  Ah, we'll get to that a little later)\n",
    "\n",
    "__Note:__ other PEST++ specific input options can be found at https://github.com/dwelter/pestpp.  During this course we will touch on the most commonly used ones. "
   ]
  },
  {
   "cell_type": "markdown",
   "metadata": {},
   "source": [
    "# ADVANCED\n",
    "\n",
    "### Add other forecasts from the PEST observation section and re-run PEST++; is there a difference in forecast uncertainty between the different ones you include (look at the rec file)?\n",
    "\n",
    "### Make an *.ins* file that searches through the MODFLOW list file and pulls the river out flux from the volumetric budget of the last stress period.  Add the observation and the ins file to the PEST control file. Run PESTCHEK and then PESTPP.\n"
   ]
  },
  {
   "cell_type": "code",
   "execution_count": null,
   "metadata": {},
   "outputs": [],
   "source": []
  }
 ],
 "metadata": {
  "anaconda-cloud": {},
  "kernelspec": {
   "display_name": "Python 3 (ipykernel)",
   "language": "python",
   "name": "python3"
  },
  "language_info": {
   "codemirror_mode": {
    "name": "ipython",
    "version": 3
   },
   "file_extension": ".py",
   "mimetype": "text/x-python",
   "name": "python",
   "nbconvert_exporter": "python",
   "pygments_lexer": "ipython3",
   "version": "3.9.10"
  }
 },
 "nbformat": 4,
 "nbformat_minor": 1
}
