{
 "cells": [
  {
   "cell_type": "code",
   "execution_count": 29,
   "metadata": {
    "execution": {
     "iopub.execute_input": "2022-03-02T05:08:24.905925Z",
     "iopub.status.busy": "2022-03-02T05:08:24.905925Z",
     "iopub.status.idle": "2022-03-02T05:08:25.915679Z",
     "shell.execute_reply": "2022-03-02T05:08:25.915679Z"
    }
   },
   "outputs": [],
   "source": [
    "import sys\n",
    "import os\n",
    "import shutil\n",
    "import platform\n",
    "import warnings\n",
    "warnings.filterwarnings(\"ignore\")\n",
    "warnings.filterwarnings(\"ignore\", category=DeprecationWarning) \n",
    "import pyemu\n",
    "import flopy\n",
    "import pandas as pd\n",
    "import numpy as np\n",
    "import matplotlib.pyplot as plt;"
   ]
  },
  {
   "cell_type": "code",
   "execution_count": 30,
   "metadata": {
    "execution": {
     "iopub.execute_input": "2022-03-02T05:08:25.919697Z",
     "iopub.status.busy": "2022-03-02T05:08:25.919697Z",
     "iopub.status.idle": "2022-03-02T05:08:29.074197Z",
     "shell.execute_reply": "2022-03-02T05:08:29.074197Z"
    }
   },
   "outputs": [],
   "source": [
    "# specify a temporary folder; we will gather all our model and executable files here first\n",
    "# this is to ensure we don't mess up our original model files\n",
    "tmp_d = os.path.join('freyberg_mf6')\n",
    "\n",
    "# get the necessary executables; OS agnostic\n",
    "bin_dir = os.path.join('..','..','bin')\n",
    "\n",
    "if \"window\" in platform.platform().lower():\n",
    "    exe_files = [f for f in os.listdir(bin_dir) if f.endswith('exe')]\n",
    "else:\n",
    "    exe_files = [f for f in os.listdir(bin_dir) if not f.endswith('exe')]\n",
    "\n",
    "# remove existing folder if it already exists\n",
    "if os.path.exists(tmp_d):\n",
    "    shutil.rmtree(tmp_d)\n",
    "\n",
    "# make the folder\n",
    "os.mkdir(tmp_d)\n",
    "\n",
    "# copy executables across\n",
    "for exe_file in exe_files:\n",
    "    shutil.copy2(os.path.join(bin_dir, exe_file),os.path.join(tmp_d,exe_file))"
   ]
  },
  {
   "cell_type": "markdown",
   "metadata": {},
   "source": [
    "Let's copy the original model folder into a new working directory, just to ensure we don't mess up the base files."
   ]
  },
  {
   "cell_type": "code",
   "execution_count": 31,
   "metadata": {
    "execution": {
     "iopub.execute_input": "2022-03-02T05:08:29.077189Z",
     "iopub.status.busy": "2022-03-02T05:08:29.077189Z",
     "iopub.status.idle": "2022-03-02T05:08:29.196343Z",
     "shell.execute_reply": "2022-03-02T05:08:29.196343Z"
    }
   },
   "outputs": [],
   "source": [
    "# folder containing original model files\n",
    "org_d = os.path.join('..', '..', 'models', 'freyberg_mf6')\n",
    "\n",
    "# copy files across to the temp folder\n",
    "for f in os.listdir(org_d):\n",
    "    shutil.copy2(os.path.join(org_d,f), os.path.join(tmp_d,f))"
   ]
  },
  {
   "cell_type": "code",
   "execution_count": 32,
   "metadata": {
    "execution": {
     "iopub.execute_input": "2022-03-02T05:08:29.224238Z",
     "iopub.status.busy": "2022-03-02T05:08:29.223241Z",
     "iopub.status.idle": "2022-03-02T05:08:29.974505Z",
     "shell.execute_reply": "2022-03-02T05:08:29.975476Z"
    }
   },
   "outputs": [
    {
     "data": {
      "text/plain": [
       "(True, [])"
      ]
     },
     "execution_count": 32,
     "metadata": {},
     "output_type": "execute_result"
    }
   ],
   "source": [
    "# load simulation\n",
    "sim = flopy.mf6.MFSimulation.load(sim_ws=tmp_d, verbosity_level=0)\n",
    "# load flow model\n",
    "gwf = sim.get_model()\n",
    "\n",
    "# run the model once to make sure it works\n",
    "sim.run_simulation()"
   ]
  },
  {
   "cell_type": "markdown",
   "metadata": {},
   "source": [
    "### 2. Spatial Reference\n",
    "Now we can instantiate a `SpatialReference`. This will later be passed to `PstFrom` to assist with spatially locating parameters (e.g. pilot points and/or cell-by-cell parameters)."
   ]
  },
  {
   "cell_type": "code",
   "execution_count": 33,
   "metadata": {
    "execution": {
     "iopub.execute_input": "2022-03-02T05:08:29.978468Z",
     "iopub.status.busy": "2022-03-02T05:08:29.977470Z",
     "iopub.status.idle": "2022-03-02T05:08:29.982457Z",
     "shell.execute_reply": "2022-03-02T05:08:29.982457Z"
    }
   },
   "outputs": [
    {
     "name": "stdout",
     "output_type": "stream",
     "text": [
      "   could not remove start_datetime\n"
     ]
    }
   ],
   "source": [
    "sr = pyemu.helpers.SpatialReference.from_namfile(\n",
    "        os.path.join(tmp_d, \"freyberg6.nam\"),\n",
    "        delr=gwf.dis.delr.array, delc=gwf.dis.delc.array)"
   ]
  },
  {
   "cell_type": "markdown",
   "metadata": {},
   "source": [
    "### 3. Instantiate PstFrom\n",
    "\n",
    "Now we can start to construct the PEST(++) interface by instantiating a `PstFrom` class instance. There are a few things that we need to specify up front:\n",
    "\n",
    " - the folder in which we currently have model files (e.g. `tmp_d`). PstFrom will copy all the files from this directory into a new \"template\" folder.\n",
    " - **template folder**: this is a folder in which the PEST dataset will be constructed. This folder/dataset will form the template for subsequent deployment of PEST(++). It is **not** where PEST(++) will be run.\n",
    " - **longnames**: for backwards compatibility with PEST and PEST_HP (i.e. non-PEST++ versions), which have upper limits to parameter/obsveration names (PEST++ does not). Setting this value to False is only recommended if required. \n",
    " - Whether the model is `zero based` or not.\n",
    " - (optional) the **spatial reference**, as previously discussed. This is only requried if using `pyEMU` to define parameter spatial correlation. Alternatively, you can define these yourself or use utilities available in the PEST-suite. \n",
    "\n"
   ]
  },
  {
   "cell_type": "code",
   "execution_count": 34,
   "metadata": {
    "execution": {
     "iopub.execute_input": "2022-03-02T05:08:29.985953Z",
     "iopub.status.busy": "2022-03-02T05:08:29.985953Z",
     "iopub.status.idle": "2022-03-02T05:08:35.044864Z",
     "shell.execute_reply": "2022-03-02T05:08:35.044864Z"
    }
   },
   "outputs": [
    {
     "name": "stdout",
     "output_type": "stream",
     "text": [
      "2022-03-02 16:15:27.927408 starting: opening PstFrom.log for logging\n",
      "2022-03-02 16:15:27.927408 starting PstFrom process\n",
      "2022-03-02 16:15:27.928373 starting: setting up dirs\n",
      "2022-03-02 16:15:27.928373 starting: removing existing new_d 'freyberg6_template'\n",
      "2022-03-02 16:15:28.250841 finished: removing existing new_d 'freyberg6_template' took: 0:00:00.322468\n",
      "2022-03-02 16:15:28.250841 starting: copying original_d 'freyberg_mf6' to new_d 'freyberg6_template'\n",
      "2022-03-02 16:15:31.572660 finished: copying original_d 'freyberg_mf6' to new_d 'freyberg6_template' took: 0:00:03.321819\n",
      "2022-03-02 16:15:31.573658 finished: setting up dirs took: 0:00:03.645285\n"
     ]
    }
   ],
   "source": [
    "# specify a template directory (i.e. the PstFrom working folder)\n",
    "template_ws = os.path.join(\"freyberg6_template\")\n",
    "\n",
    "# instantiate PstFrom\n",
    "pf = pyemu.utils.PstFrom(original_d=tmp_d, # where the model is stored\n",
    "                            new_d=template_ws, # the PEST template folder\n",
    "                            remove_existing=True, # ensures a clean start\n",
    "                            longnames=True, # set False if using PEST/PEST_HP\n",
    "                            spatial_reference=sr, #the spatial reference we generated earlier\n",
    "                            zero_based=False, # does the MODEL use zero based indices? For example, MODFLOW does NOT\n",
    "                            start_datetime=\"1-1-2018\") # required when specifying temporal correlation between parameters"
   ]
  },
  {
   "cell_type": "code",
   "execution_count": 35,
   "metadata": {
    "execution": {
     "iopub.execute_input": "2022-03-02T05:08:35.047856Z",
     "iopub.status.busy": "2022-03-02T05:08:35.046859Z",
     "iopub.status.idle": "2022-03-02T05:08:35.048853Z",
     "shell.execute_reply": "2022-03-02T05:08:35.049850Z"
    }
   },
   "outputs": [
    {
     "name": "stdout",
     "output_type": "stream",
     "text": [
      "['sfr.csv']\n",
      "['heads.csv']\n"
     ]
    }
   ],
   "source": [
    "# check the output csv file names\n",
    "for i in gwf.obs:\n",
    "    print(i.output.obs_names)"
   ]
  },
  {
   "cell_type": "code",
   "execution_count": 36,
   "metadata": {
    "execution": {
     "iopub.execute_input": "2022-03-02T05:08:35.072789Z",
     "iopub.status.busy": "2022-03-02T05:08:35.071792Z",
     "iopub.status.idle": "2022-03-02T05:08:35.077998Z",
     "shell.execute_reply": "2022-03-02T05:08:35.077998Z"
    }
   },
   "outputs": [],
   "source": [
    "# read the measured head values\n",
    "hds_meas = pd.read_csv(os.path.join('..', '..', 'models', 'freyberg_mf6_truth',\"heads.meas.csv\"),\n",
    "                    index_col=0)\n",
    "\n",
    "# re-write the model output .csv file with the measured values\n",
    "hds_meas.to_csv(os.path.join(template_ws,\"heads.csv\"))"
   ]
  },
  {
   "cell_type": "code",
   "execution_count": 37,
   "metadata": {
    "execution": {
     "iopub.execute_input": "2022-03-02T05:08:35.080989Z",
     "iopub.status.busy": "2022-03-02T05:08:35.079992Z",
     "iopub.status.idle": "2022-03-02T05:08:35.103557Z",
     "shell.execute_reply": "2022-03-02T05:08:35.103557Z"
    }
   },
   "outputs": [
    {
     "name": "stdout",
     "output_type": "stream",
     "text": [
      "2022-03-02 16:15:31.672425 starting: adding observations from output file heads.csv\n",
      "2022-03-02 16:15:31.672425 starting: adding observations from tabular output file '['heads.csv']'\n",
      "2022-03-02 16:15:31.673656 starting: reading list-style file: freyberg6_template\\heads.csv\n",
      "2022-03-02 16:15:31.674650 finished: reading list-style file: freyberg6_template\\heads.csv took: 0:00:00.000994\n",
      "2022-03-02 16:15:31.675646 starting: building insfile for tabular output file heads.csv\n",
      "2022-03-02 16:15:31.681631 finished: building insfile for tabular output file heads.csv took: 0:00:00.005985\n",
      "2022-03-02 16:15:31.681631 starting: adding observation from instruction file 'freyberg6_template\\heads.csv.ins'\n",
      "2022-03-02 16:15:31.693600 finished: adding observation from instruction file 'freyberg6_template\\heads.csv.ins' took: 0:00:00.011969\n",
      "2022-03-02 16:15:31.694597 finished: adding observations from tabular output file '['heads.csv']' took: 0:00:00.022172\n"
     ]
    }
   ],
   "source": [
    "df = pd.read_csv(os.path.join(template_ws,\"heads.csv\"),index_col=0)\n",
    "\n",
    "hds_df = pf.add_observations(\"heads.csv\", # the model output file to read\n",
    "                            insfile=\"heads.csv.ins\", #optional, the instruction file name\n",
    "                            index_cols=\"time\", #column header to use as index; can also use column number (zero-based) instead of the header name\n",
    "                            use_cols=list(df.columns.values), #names of columns that include observation values; can also use column number (zero-based) instead of the header name\n",
    "                            prefix=\"hds\") #prefix to all observation names; choose something logical and easy o find. We use it later on to select obsevrations"
   ]
  },
  {
   "cell_type": "code",
   "execution_count": 38,
   "metadata": {},
   "outputs": [
    {
     "data": {
      "text/html": [
       "<div>\n",
       "<style scoped>\n",
       "    .dataframe tbody tr th:only-of-type {\n",
       "        vertical-align: middle;\n",
       "    }\n",
       "\n",
       "    .dataframe tbody tr th {\n",
       "        vertical-align: top;\n",
       "    }\n",
       "\n",
       "    .dataframe thead th {\n",
       "        text-align: right;\n",
       "    }\n",
       "</style>\n",
       "<table border=\"1\" class=\"dataframe\">\n",
       "  <thead>\n",
       "    <tr style=\"text-align: right;\">\n",
       "      <th></th>\n",
       "      <th>obsnme</th>\n",
       "      <th>obsval</th>\n",
       "      <th>weight</th>\n",
       "      <th>obgnme</th>\n",
       "    </tr>\n",
       "  </thead>\n",
       "  <tbody>\n",
       "    <tr>\n",
       "      <th>oname:hds_otype:lst_usecol:trgw_0_13_10_time:1.0</th>\n",
       "      <td>oname:hds_otype:lst_usecol:trgw_0_13_10_time:1.0</td>\n",
       "      <td>34.406181</td>\n",
       "      <td>1.0</td>\n",
       "      <td>oname:hds_otype:lst_usecol:trgw_0_13_10</td>\n",
       "    </tr>\n",
       "    <tr>\n",
       "      <th>oname:hds_otype:lst_usecol:trgw_0_13_10_time:122.0</th>\n",
       "      <td>oname:hds_otype:lst_usecol:trgw_0_13_10_time:122.0</td>\n",
       "      <td>34.450633</td>\n",
       "      <td>1.0</td>\n",
       "      <td>oname:hds_otype:lst_usecol:trgw_0_13_10</td>\n",
       "    </tr>\n",
       "    <tr>\n",
       "      <th>oname:hds_otype:lst_usecol:trgw_0_13_10_time:153.0</th>\n",
       "      <td>oname:hds_otype:lst_usecol:trgw_0_13_10_time:153.0</td>\n",
       "      <td>34.441733</td>\n",
       "      <td>1.0</td>\n",
       "      <td>oname:hds_otype:lst_usecol:trgw_0_13_10</td>\n",
       "    </tr>\n",
       "    <tr>\n",
       "      <th>oname:hds_otype:lst_usecol:trgw_0_13_10_time:183.0</th>\n",
       "      <td>oname:hds_otype:lst_usecol:trgw_0_13_10_time:183.0</td>\n",
       "      <td>34.375639</td>\n",
       "      <td>1.0</td>\n",
       "      <td>oname:hds_otype:lst_usecol:trgw_0_13_10</td>\n",
       "    </tr>\n",
       "    <tr>\n",
       "      <th>oname:hds_otype:lst_usecol:trgw_0_13_10_time:214.0</th>\n",
       "      <td>oname:hds_otype:lst_usecol:trgw_0_13_10_time:214.0</td>\n",
       "      <td>34.323119</td>\n",
       "      <td>1.0</td>\n",
       "      <td>oname:hds_otype:lst_usecol:trgw_0_13_10</td>\n",
       "    </tr>\n",
       "    <tr>\n",
       "      <th>...</th>\n",
       "      <td>...</td>\n",
       "      <td>...</td>\n",
       "      <td>...</td>\n",
       "      <td>...</td>\n",
       "    </tr>\n",
       "    <tr>\n",
       "      <th>oname:hds_otype:lst_usecol:trgw_2_9_1_time:640.0</th>\n",
       "      <td>oname:hds_otype:lst_usecol:trgw_2_9_1_time:640.0</td>\n",
       "      <td>35.021809</td>\n",
       "      <td>1.0</td>\n",
       "      <td>oname:hds_otype:lst_usecol:trgw_2_9_1</td>\n",
       "    </tr>\n",
       "    <tr>\n",
       "      <th>oname:hds_otype:lst_usecol:trgw_2_9_1_time:671.0</th>\n",
       "      <td>oname:hds_otype:lst_usecol:trgw_2_9_1_time:671.0</td>\n",
       "      <td>34.986489</td>\n",
       "      <td>1.0</td>\n",
       "      <td>oname:hds_otype:lst_usecol:trgw_2_9_1</td>\n",
       "    </tr>\n",
       "    <tr>\n",
       "      <th>oname:hds_otype:lst_usecol:trgw_2_9_1_time:701.0</th>\n",
       "      <td>oname:hds_otype:lst_usecol:trgw_2_9_1_time:701.0</td>\n",
       "      <td>34.947490</td>\n",
       "      <td>1.0</td>\n",
       "      <td>oname:hds_otype:lst_usecol:trgw_2_9_1</td>\n",
       "    </tr>\n",
       "    <tr>\n",
       "      <th>oname:hds_otype:lst_usecol:trgw_2_9_1_time:732.0</th>\n",
       "      <td>oname:hds_otype:lst_usecol:trgw_2_9_1_time:732.0</td>\n",
       "      <td>35.006586</td>\n",
       "      <td>1.0</td>\n",
       "      <td>oname:hds_otype:lst_usecol:trgw_2_9_1</td>\n",
       "    </tr>\n",
       "    <tr>\n",
       "      <th>oname:hds_otype:lst_usecol:trgw_2_9_1_time:92.0</th>\n",
       "      <td>oname:hds_otype:lst_usecol:trgw_2_9_1_time:92.0</td>\n",
       "      <td>35.373418</td>\n",
       "      <td>1.0</td>\n",
       "      <td>oname:hds_otype:lst_usecol:trgw_2_9_1</td>\n",
       "    </tr>\n",
       "  </tbody>\n",
       "</table>\n",
       "<p>650 rows × 4 columns</p>\n",
       "</div>"
      ],
      "text/plain": [
       "                                                                                                obsnme  \\\n",
       "oname:hds_otype:lst_usecol:trgw_0_13_10_time:1.0      oname:hds_otype:lst_usecol:trgw_0_13_10_time:1.0   \n",
       "oname:hds_otype:lst_usecol:trgw_0_13_10_time:122.0  oname:hds_otype:lst_usecol:trgw_0_13_10_time:122.0   \n",
       "oname:hds_otype:lst_usecol:trgw_0_13_10_time:153.0  oname:hds_otype:lst_usecol:trgw_0_13_10_time:153.0   \n",
       "oname:hds_otype:lst_usecol:trgw_0_13_10_time:183.0  oname:hds_otype:lst_usecol:trgw_0_13_10_time:183.0   \n",
       "oname:hds_otype:lst_usecol:trgw_0_13_10_time:214.0  oname:hds_otype:lst_usecol:trgw_0_13_10_time:214.0   \n",
       "...                                                                                                ...   \n",
       "oname:hds_otype:lst_usecol:trgw_2_9_1_time:640.0      oname:hds_otype:lst_usecol:trgw_2_9_1_time:640.0   \n",
       "oname:hds_otype:lst_usecol:trgw_2_9_1_time:671.0      oname:hds_otype:lst_usecol:trgw_2_9_1_time:671.0   \n",
       "oname:hds_otype:lst_usecol:trgw_2_9_1_time:701.0      oname:hds_otype:lst_usecol:trgw_2_9_1_time:701.0   \n",
       "oname:hds_otype:lst_usecol:trgw_2_9_1_time:732.0      oname:hds_otype:lst_usecol:trgw_2_9_1_time:732.0   \n",
       "oname:hds_otype:lst_usecol:trgw_2_9_1_time:92.0        oname:hds_otype:lst_usecol:trgw_2_9_1_time:92.0   \n",
       "\n",
       "                                                       obsval  weight  \\\n",
       "oname:hds_otype:lst_usecol:trgw_0_13_10_time:1.0    34.406181     1.0   \n",
       "oname:hds_otype:lst_usecol:trgw_0_13_10_time:122.0  34.450633     1.0   \n",
       "oname:hds_otype:lst_usecol:trgw_0_13_10_time:153.0  34.441733     1.0   \n",
       "oname:hds_otype:lst_usecol:trgw_0_13_10_time:183.0  34.375639     1.0   \n",
       "oname:hds_otype:lst_usecol:trgw_0_13_10_time:214.0  34.323119     1.0   \n",
       "...                                                       ...     ...   \n",
       "oname:hds_otype:lst_usecol:trgw_2_9_1_time:640.0    35.021809     1.0   \n",
       "oname:hds_otype:lst_usecol:trgw_2_9_1_time:671.0    34.986489     1.0   \n",
       "oname:hds_otype:lst_usecol:trgw_2_9_1_time:701.0    34.947490     1.0   \n",
       "oname:hds_otype:lst_usecol:trgw_2_9_1_time:732.0    35.006586     1.0   \n",
       "oname:hds_otype:lst_usecol:trgw_2_9_1_time:92.0     35.373418     1.0   \n",
       "\n",
       "                                                                                     obgnme  \n",
       "oname:hds_otype:lst_usecol:trgw_0_13_10_time:1.0    oname:hds_otype:lst_usecol:trgw_0_13_10  \n",
       "oname:hds_otype:lst_usecol:trgw_0_13_10_time:122.0  oname:hds_otype:lst_usecol:trgw_0_13_10  \n",
       "oname:hds_otype:lst_usecol:trgw_0_13_10_time:153.0  oname:hds_otype:lst_usecol:trgw_0_13_10  \n",
       "oname:hds_otype:lst_usecol:trgw_0_13_10_time:183.0  oname:hds_otype:lst_usecol:trgw_0_13_10  \n",
       "oname:hds_otype:lst_usecol:trgw_0_13_10_time:214.0  oname:hds_otype:lst_usecol:trgw_0_13_10  \n",
       "...                                                                                     ...  \n",
       "oname:hds_otype:lst_usecol:trgw_2_9_1_time:640.0      oname:hds_otype:lst_usecol:trgw_2_9_1  \n",
       "oname:hds_otype:lst_usecol:trgw_2_9_1_time:671.0      oname:hds_otype:lst_usecol:trgw_2_9_1  \n",
       "oname:hds_otype:lst_usecol:trgw_2_9_1_time:701.0      oname:hds_otype:lst_usecol:trgw_2_9_1  \n",
       "oname:hds_otype:lst_usecol:trgw_2_9_1_time:732.0      oname:hds_otype:lst_usecol:trgw_2_9_1  \n",
       "oname:hds_otype:lst_usecol:trgw_2_9_1_time:92.0       oname:hds_otype:lst_usecol:trgw_2_9_1  \n",
       "\n",
       "[650 rows x 4 columns]"
      ]
     },
     "execution_count": 38,
     "metadata": {},
     "output_type": "execute_result"
    }
   ],
   "source": [
    "hds_df"
   ]
  },
  {
   "cell_type": "markdown",
   "metadata": {},
   "source": [
    "Blimey, wasn't that easy? Automatically assimilating thousands of observations into a PEST dataset becomes a breeze!\n",
    "\n",
    "Let's quickly do the same thing for the SFR observations."
   ]
  },
  {
   "cell_type": "code",
   "execution_count": 39,
   "metadata": {
    "execution": {
     "iopub.execute_input": "2022-03-02T05:08:35.128617Z",
     "iopub.status.busy": "2022-03-02T05:08:35.128617Z",
     "iopub.status.idle": "2022-03-02T05:08:35.145571Z",
     "shell.execute_reply": "2022-03-02T05:08:35.145571Z"
    }
   },
   "outputs": [
    {
     "name": "stdout",
     "output_type": "stream",
     "text": [
      "2022-03-02 16:15:31.792352 starting: adding observations from output file sfr.csv\n",
      "2022-03-02 16:15:31.793337 starting: adding observations from tabular output file '['sfr.csv']'\n",
      "2022-03-02 16:15:31.793337 starting: reading list-style file: freyberg6_template\\sfr.csv\n",
      "2022-03-02 16:15:31.795330 finished: reading list-style file: freyberg6_template\\sfr.csv took: 0:00:00.001993\n",
      "2022-03-02 16:15:31.795330 starting: building insfile for tabular output file sfr.csv\n",
      "2022-03-02 16:15:31.800349 finished: building insfile for tabular output file sfr.csv took: 0:00:00.005019\n",
      "2022-03-02 16:15:31.800349 starting: adding observation from instruction file 'freyberg6_template\\sfr.csv.ins'\n",
      "2022-03-02 16:15:31.807346 finished: adding observation from instruction file 'freyberg6_template\\sfr.csv.ins' took: 0:00:00.006997\n",
      "2022-03-02 16:15:31.808298 finished: adding observations from tabular output file '['sfr.csv']' took: 0:00:00.014961\n"
     ]
    }
   ],
   "source": [
    "# read the measured  values\n",
    "meas = pd.read_csv(os.path.join('..', '..', 'models', 'freyberg_mf6_truth',\"sfr.meas.csv\"),\n",
    "                    index_col=0)\n",
    "# re-write the model output .csv file with the measured values\n",
    "meas.to_csv(os.path.join(template_ws,\"sfr.csv\"))\n",
    "\n",
    "df = pd.read_csv(os.path.join(template_ws, \"sfr.csv\"), index_col=0)\n",
    "# add the observations to pf\n",
    "sfr_df = pf.add_observations(\"sfr.csv\", # the model output file to read\n",
    "                            insfile=\"sfr.csv.ins\", #optional, the instruction file name\n",
    "                            index_cols=\"time\", #column header to use as index; can also use column number (zero-based) instead of the header name\n",
    "                            use_cols=list(df.columns.values), #names of columns that include observation values; can also use column number (zero-based) instead of the header name\n",
    "                            prefix=\"sfr\") #prefix to all observation names"
   ]
  },
  {
   "cell_type": "code",
   "execution_count": 40,
   "metadata": {
    "execution": {
     "iopub.execute_input": "2022-03-02T05:08:35.157558Z",
     "iopub.status.busy": "2022-03-02T05:08:35.156560Z",
     "iopub.status.idle": "2022-03-02T05:08:35.462314Z",
     "shell.execute_reply": "2022-03-02T05:08:35.462314Z"
    }
   },
   "outputs": [
    {
     "data": {
      "text/plain": [
       "<AxesSubplot:xlabel='distance', ylabel='$\\\\gamma$'>"
      ]
     },
     "execution_count": 40,
     "metadata": {},
     "output_type": "execute_result"
    },
    {
     "data": {
      "image/png": "[encoded data removed]",
      "text/plain": [
       "<Figure size 432x288 with 1 Axes>"
      ]
     },
     "metadata": {
      "needs_background": "light"
     },
     "output_type": "display_data"
    }
   ],
   "source": [
    "# exponential variogram for spatially varying parameters\n",
    "v_space = pyemu.geostats.ExpVario(contribution=1.0, #sill\n",
    "                                    a=1000, # range of correlation; length units of the model. In our case 'meters'\n",
    "                                    anisotropy=1.0, #name says it all\n",
    "                                    bearing=0.0 #angle in degrees East of North corresponding to anisotropy ellipse\n",
    "                                    )\n",
    "\n",
    "# geostatistical structure for spatially varying parameters\n",
    "grid_gs = pyemu.geostats.GeoStruct(variograms=v_space, transform='log') \n",
    "\n",
    "# plot the gs if you like:\n",
    "grid_gs.plot()"
   ]
  },
  {
   "cell_type": "code",
   "execution_count": 41,
   "metadata": {
    "execution": {
     "iopub.execute_input": "2022-03-02T05:08:35.466303Z",
     "iopub.status.busy": "2022-03-02T05:08:35.466303Z",
     "iopub.status.idle": "2022-03-02T05:08:35.468298Z",
     "shell.execute_reply": "2022-03-02T05:08:35.468298Z"
    }
   },
   "outputs": [],
   "source": [
    "# exponential variogram for time varying parameters\n",
    "v_time = pyemu.geostats.ExpVario(contribution=1.0, #sill\n",
    "                                    a=60, # range of correlation; length time units (days)\n",
    "                                    anisotropy=1.0, #do not change for 1-D time\n",
    "                                    bearing=0.0 #do not change for 1-D time\n",
    "                                    )\n",
    "\n",
    "# geostatistical structure for time varying parameters\n",
    "temporal_gs = pyemu.geostats.GeoStruct(variograms=v_time, transform='none') "
   ]
  },
  {
   "cell_type": "markdown",
   "metadata": {},
   "source": [
    "#### 5.3. Add Parameters\n",
    "\n",
    "Let's start by adding parameters of hydraulic properties that vary in space (but not time) and which are housed in array-type files (e.g. Kh, Kv, Ss, Sy). We will start by demonstrating step-by-step for Kh.\n",
    "\n",
    "First, find all the external array files that contain Kh values. In our case, these are the files with \"npf_k_\" in the file name. As you can see below, there is one file for each model layer. "
   ]
  },
  {
   "cell_type": "code",
   "execution_count": 42,
   "metadata": {
    "execution": {
     "iopub.execute_input": "2022-03-02T05:08:35.471290Z",
     "iopub.status.busy": "2022-03-02T05:08:35.470292Z",
     "iopub.status.idle": "2022-03-02T05:08:35.474282Z",
     "shell.execute_reply": "2022-03-02T05:08:35.474282Z"
    }
   },
   "outputs": [
    {
     "name": "stdout",
     "output_type": "stream",
     "text": [
      "['freyberg6.npf_k_layer1.txt', 'freyberg6.npf_k_layer2.txt', 'freyberg6.npf_k_layer3.txt']\n"
     ]
    }
   ],
   "source": [
    "tag = \"npf_k_\"\n",
    "files = [f for f in os.listdir(template_ws) if tag in f.lower() and f.endswith(\".txt\")]\n",
    "print(files)"
   ]
  },
  {
   "cell_type": "code",
   "execution_count": 43,
   "metadata": {
    "execution": {
     "iopub.execute_input": "2022-03-02T05:08:35.477274Z",
     "iopub.status.busy": "2022-03-02T05:08:35.476277Z",
     "iopub.status.idle": "2022-03-02T05:08:35.480266Z",
     "shell.execute_reply": "2022-03-02T05:08:35.480266Z"
    }
   },
   "outputs": [],
   "source": [
    "# as IDOMIAN is the same in all layers, we can use any layer\n",
    "ib = gwf.dis.idomain.get_data(layer=0)"
   ]
  },
  {
   "cell_type": "code",
   "execution_count": 44,
   "metadata": {
    "execution": {
     "iopub.execute_input": "2022-03-02T05:08:39.102019Z",
     "iopub.status.busy": "2022-03-02T05:08:39.101021Z",
     "iopub.status.idle": "2022-03-02T05:08:39.298809Z",
     "shell.execute_reply": "2022-03-02T05:08:39.299805Z"
    }
   },
   "outputs": [
    {
     "name": "stdout",
     "output_type": "stream",
     "text": [
      "2022-03-02 16:15:32.046555 starting: adding constant type d style parameters for file(s) ['freyberg6.npf_k_layer1.txt']\n",
      "2022-03-02 16:15:32.047562 starting: loading array freyberg6_template\\freyberg6.npf_k_layer1.txt\n",
      "2022-03-02 16:15:32.048559 finished: loading array freyberg6_template\\freyberg6.npf_k_layer1.txt took: 0:00:00.000997\n",
      "2022-03-02 16:15:32.048559 loaded array 'freyberg_mf6\\freyberg6.npf_k_layer1.txt' of shape (40, 20)\n",
      "2022-03-02 16:15:32.049543 starting: writing array-style template file 'freyberg6_template\\freyberg6.npf_k_layer1.txt.tpl'\n",
      "2022-03-02 16:15:32.049543 starting: writing template file freyberg6_template\\freyberg6.npf_k_layer1.txt.tpl for ['hk_inst:0']\n",
      "2022-03-02 16:15:32.057492 finished: writing template file freyberg6_template\\freyberg6.npf_k_layer1.txt.tpl for ['hk_inst:0'] took: 0:00:00.007949\n",
      "2022-03-02 16:15:32.058004 starting: writing array-based template file 'freyberg6_template\\freyberg6.npf_k_layer1.txt.tpl'\n",
      "2022-03-02 16:15:32.058004 saving zone array freyberg6_template\\freyberg6.npf_k_layer1.txt.zone for tpl file freyberg6_template\\freyberg6.npf_k_layer1.txt.tpl\n",
      "2022-03-02 16:15:32.063019 finished: adding constant type d style parameters for file(s) ['freyberg6.npf_k_layer1.txt'] took: 0:00:00.016464\n",
      "2022-03-02 16:15:32.063019 starting: adding constant type d style parameters for file(s) ['freyberg6.npf_k_layer2.txt']\n",
      "2022-03-02 16:15:32.063019 starting: loading array freyberg6_template\\freyberg6.npf_k_layer2.txt\n",
      "2022-03-02 16:15:32.064017 finished: loading array freyberg6_template\\freyberg6.npf_k_layer2.txt took: 0:00:00.000998\n",
      "2022-03-02 16:15:32.064017 loaded array 'freyberg_mf6\\freyberg6.npf_k_layer2.txt' of shape (40, 20)\n",
      "2022-03-02 16:15:32.066006 starting: writing array-style template file 'freyberg6_template\\freyberg6.npf_k_layer2.txt.tpl'\n",
      "2022-03-02 16:15:32.066006 starting: writing template file freyberg6_template\\freyberg6.npf_k_layer2.txt.tpl for ['hk_inst:1']\n",
      "2022-03-02 16:15:32.072958 finished: writing template file freyberg6_template\\freyberg6.npf_k_layer2.txt.tpl for ['hk_inst:1'] took: 0:00:00.006952\n",
      "2022-03-02 16:15:32.072958 starting: writing array-based template file 'freyberg6_template\\freyberg6.npf_k_layer2.txt.tpl'\n",
      "2022-03-02 16:15:32.072958 saving zone array freyberg6_template\\freyberg6.npf_k_layer2.txt.zone for tpl file freyberg6_template\\freyberg6.npf_k_layer2.txt.tpl\n",
      "2022-03-02 16:15:32.077985 finished: adding constant type d style parameters for file(s) ['freyberg6.npf_k_layer2.txt'] took: 0:00:00.014966\n",
      "2022-03-02 16:15:32.078983 starting: adding constant type d style parameters for file(s) ['freyberg6.npf_k_layer3.txt']\n",
      "2022-03-02 16:15:32.078983 starting: loading array freyberg6_template\\freyberg6.npf_k_layer3.txt\n",
      "2022-03-02 16:15:32.079969 finished: loading array freyberg6_template\\freyberg6.npf_k_layer3.txt took: 0:00:00.000986\n",
      "2022-03-02 16:15:32.079969 loaded array 'freyberg_mf6\\freyberg6.npf_k_layer3.txt' of shape (40, 20)\n",
      "2022-03-02 16:15:32.080976 starting: writing array-style template file 'freyberg6_template\\freyberg6.npf_k_layer3.txt.tpl'\n",
      "2022-03-02 16:15:32.080976 starting: writing template file freyberg6_template\\freyberg6.npf_k_layer3.txt.tpl for ['hk_inst:2']\n",
      "2022-03-02 16:15:32.086923 finished: writing template file freyberg6_template\\freyberg6.npf_k_layer3.txt.tpl for ['hk_inst:2'] took: 0:00:00.005947\n",
      "2022-03-02 16:15:32.086923 starting: writing array-based template file 'freyberg6_template\\freyberg6.npf_k_layer3.txt.tpl'\n",
      "2022-03-02 16:15:32.086923 saving zone array freyberg6_template\\freyberg6.npf_k_layer3.txt.zone for tpl file freyberg6_template\\freyberg6.npf_k_layer3.txt.tpl\n",
      "2022-03-02 16:15:32.092934 finished: adding constant type d style parameters for file(s) ['freyberg6.npf_k_layer3.txt'] took: 0:00:00.013951\n"
     ]
    }
   ],
   "source": [
    "for f in files:\n",
    "    # constant (coarse) scale parameters\n",
    "    pf.add_parameters(f,\n",
    "                        zone_array=ib,\n",
    "                        par_type=\"constant\",\n",
    "                        par_style='direct',\n",
    "                        par_name_base='hk',\n",
    "                        pargp='hk',\n",
    "                        lower_bound=0.01, upper_bound=500)"
   ]
  },
  {
   "cell_type": "code",
   "execution_count": 46,
   "metadata": {
    "execution": {
     "iopub.execute_input": "2022-03-02T05:08:39.900744Z",
     "iopub.status.busy": "2022-03-02T05:08:39.900744Z",
     "iopub.status.idle": "2022-03-02T05:08:42.686007Z",
     "shell.execute_reply": "2022-03-02T05:08:42.687035Z"
    }
   },
   "outputs": [
    {
     "name": "stdout",
     "output_type": "stream",
     "text": [
      "2022-03-02 16:15:32.174238 starting: adding constant type m style parameters for file(s) ['freyberg6.rch_recharge_1.txt']\n",
      "2022-03-02 16:15:32.175271 WARNING: 0) Inconsistency between geostruct transform and partrans.\n",
      "2022-03-02 16:15:32.175271 WARNING: 1) Setting geostruct transform to {transform}\n",
      "2022-03-02 16:15:32.175271 WARNING: -) Better to pass an appropriately transformed geostruct\n",
      "2022-03-02 16:15:32.175271 starting: loading array freyberg6_template\\freyberg6.rch_recharge_1.txt\n",
      "2022-03-02 16:15:32.176230 finished: loading array freyberg6_template\\freyberg6.rch_recharge_1.txt took: 0:00:00.000959\n",
      "2022-03-02 16:15:32.176230 loaded array 'freyberg_mf6\\freyberg6.rch_recharge_1.txt' of shape (40, 20)\n",
      "2022-03-02 16:15:32.178229 starting: writing array-style template file 'freyberg6_template\\rch1_inst0_constant.csv.tpl'\n",
      "2022-03-02 16:15:32.178229 starting: writing template file freyberg6_template\\rch1_inst0_constant.csv.tpl for ['rch1_inst:0']\n",
      "2022-03-02 16:15:32.184208 finished: writing template file freyberg6_template\\rch1_inst0_constant.csv.tpl for ['rch1_inst:0'] took: 0:00:00.005979\n",
      "2022-03-02 16:15:32.184208 starting: writing array-based template file 'freyberg6_template\\rch1_inst0_constant.csv.tpl'\n",
      "2022-03-02 16:15:32.185206 saving zone array freyberg6_template\\rch1_inst0_constant.csv.zone for tpl file freyberg6_template\\rch1_inst0_constant.csv.tpl\n",
      "2022-03-02 16:15:32.195179 finished: adding constant type m style parameters for file(s) ['freyberg6.rch_recharge_1.txt'] took: 0:00:00.020941\n",
      "2022-03-02 16:15:32.195179 starting: adding constant type m style parameters for file(s) ['freyberg6.rch_recharge_10.txt']\n",
      "2022-03-02 16:15:32.195179 starting: loading array freyberg6_template\\freyberg6.rch_recharge_10.txt\n",
      "2022-03-02 16:15:32.196176 finished: loading array freyberg6_template\\freyberg6.rch_recharge_10.txt took: 0:00:00.000997\n",
      "2022-03-02 16:15:32.197174 loaded array 'freyberg_mf6\\freyberg6.rch_recharge_10.txt' of shape (40, 20)\n",
      "2022-03-02 16:15:32.199168 starting: writing array-style template file 'freyberg6_template\\rch10_inst0_constant.csv.tpl'\n",
      "2022-03-02 16:15:32.199168 starting: writing template file freyberg6_template\\rch10_inst0_constant.csv.tpl for ['rch10_inst:0']\n",
      "2022-03-02 16:15:32.206150 finished: writing template file freyberg6_template\\rch10_inst0_constant.csv.tpl for ['rch10_inst:0'] took: 0:00:00.006982\n",
      "2022-03-02 16:15:32.206150 starting: writing array-based template file 'freyberg6_template\\rch10_inst0_constant.csv.tpl'\n",
      "2022-03-02 16:15:32.206150 saving zone array freyberg6_template\\rch10_inst0_constant.csv.zone for tpl file freyberg6_template\\rch10_inst0_constant.csv.tpl\n",
      "2022-03-02 16:15:32.216123 finished: adding constant type m style parameters for file(s) ['freyberg6.rch_recharge_10.txt'] took: 0:00:00.020944\n",
      "2022-03-02 16:15:32.217120 starting: adding constant type m style parameters for file(s) ['freyberg6.rch_recharge_11.txt']\n",
      "2022-03-02 16:15:32.217120 starting: loading array freyberg6_template\\freyberg6.rch_recharge_11.txt\n",
      "2022-03-02 16:15:32.218118 finished: loading array freyberg6_template\\freyberg6.rch_recharge_11.txt took: 0:00:00.000998\n",
      "2022-03-02 16:15:32.219125 loaded array 'freyberg_mf6\\freyberg6.rch_recharge_11.txt' of shape (40, 20)\n",
      "2022-03-02 16:15:32.221110 starting: writing array-style template file 'freyberg6_template\\rch11_inst0_constant.csv.tpl'\n",
      "2022-03-02 16:15:32.221110 starting: writing template file freyberg6_template\\rch11_inst0_constant.csv.tpl for ['rch11_inst:0']\n",
      "2022-03-02 16:15:32.228096 finished: writing template file freyberg6_template\\rch11_inst0_constant.csv.tpl for ['rch11_inst:0'] took: 0:00:00.006986\n",
      "2022-03-02 16:15:32.228096 starting: writing array-based template file 'freyberg6_template\\rch11_inst0_constant.csv.tpl'\n",
      "2022-03-02 16:15:32.229094 saving zone array freyberg6_template\\rch11_inst0_constant.csv.zone for tpl file freyberg6_template\\rch11_inst0_constant.csv.tpl\n",
      "2022-03-02 16:15:32.240066 finished: adding constant type m style parameters for file(s) ['freyberg6.rch_recharge_11.txt'] took: 0:00:00.022946\n",
      "2022-03-02 16:15:32.240066 starting: adding constant type m style parameters for file(s) ['freyberg6.rch_recharge_12.txt']\n",
      "2022-03-02 16:15:32.240066 starting: loading array freyberg6_template\\freyberg6.rch_recharge_12.txt\n",
      "2022-03-02 16:15:32.241062 finished: loading array freyberg6_template\\freyberg6.rch_recharge_12.txt took: 0:00:00.000996\n",
      "2022-03-02 16:15:32.242080 loaded array 'freyberg_mf6\\freyberg6.rch_recharge_12.txt' of shape (40, 20)\n",
      "2022-03-02 16:15:32.243057 starting: writing array-style template file 'freyberg6_template\\rch12_inst0_constant.csv.tpl'\n",
      "2022-03-02 16:15:32.243057 starting: writing template file freyberg6_template\\rch12_inst0_constant.csv.tpl for ['rch12_inst:0']\n",
      "2022-03-02 16:15:32.250066 finished: writing template file freyberg6_template\\rch12_inst0_constant.csv.tpl for ['rch12_inst:0'] took: 0:00:00.007009\n",
      "2022-03-02 16:15:32.250066 starting: writing array-based template file 'freyberg6_template\\rch12_inst0_constant.csv.tpl'\n",
      "2022-03-02 16:15:32.251063 saving zone array freyberg6_template\\rch12_inst0_constant.csv.zone for tpl file freyberg6_template\\rch12_inst0_constant.csv.tpl\n",
      "2022-03-02 16:15:32.261036 finished: adding constant type m style parameters for file(s) ['freyberg6.rch_recharge_12.txt'] took: 0:00:00.020970\n",
      "2022-03-02 16:15:32.261036 starting: adding constant type m style parameters for file(s) ['freyberg6.rch_recharge_13.txt']\n",
      "2022-03-02 16:15:32.261036 starting: loading array freyberg6_template\\freyberg6.rch_recharge_13.txt\n",
      "2022-03-02 16:15:32.262039 finished: loading array freyberg6_template\\freyberg6.rch_recharge_13.txt took: 0:00:00.001003\n",
      "2022-03-02 16:15:32.262039 loaded array 'freyberg_mf6\\freyberg6.rch_recharge_13.txt' of shape (40, 20)\n",
      "2022-03-02 16:15:32.264029 starting: writing array-style template file 'freyberg6_template\\rch13_inst0_constant.csv.tpl'\n",
      "2022-03-02 16:15:32.264029 starting: writing template file freyberg6_template\\rch13_inst0_constant.csv.tpl for ['rch13_inst:0']\n",
      "2022-03-02 16:15:32.269990 finished: writing template file freyberg6_template\\rch13_inst0_constant.csv.tpl for ['rch13_inst:0'] took: 0:00:00.005961\n",
      "2022-03-02 16:15:32.269990 starting: writing array-based template file 'freyberg6_template\\rch13_inst0_constant.csv.tpl'\n",
      "2022-03-02 16:15:32.270981 saving zone array freyberg6_template\\rch13_inst0_constant.csv.zone for tpl file freyberg6_template\\rch13_inst0_constant.csv.tpl\n",
      "2022-03-02 16:15:32.280954 finished: adding constant type m style parameters for file(s) ['freyberg6.rch_recharge_13.txt'] took: 0:00:00.019918\n",
      "2022-03-02 16:15:32.280954 starting: adding constant type m style parameters for file(s) ['freyberg6.rch_recharge_14.txt']\n",
      "2022-03-02 16:15:32.280954 starting: loading array freyberg6_template\\freyberg6.rch_recharge_14.txt\n",
      "2022-03-02 16:15:32.281952 finished: loading array freyberg6_template\\freyberg6.rch_recharge_14.txt took: 0:00:00.000998\n",
      "2022-03-02 16:15:32.281952 loaded array 'freyberg_mf6\\freyberg6.rch_recharge_14.txt' of shape (40, 20)\n",
      "2022-03-02 16:15:32.283945 starting: writing array-style template file 'freyberg6_template\\rch14_inst0_constant.csv.tpl'\n",
      "2022-03-02 16:15:32.283945 starting: writing template file freyberg6_template\\rch14_inst0_constant.csv.tpl for ['rch14_inst:0']\n",
      "2022-03-02 16:15:32.290196 finished: writing template file freyberg6_template\\rch14_inst0_constant.csv.tpl for ['rch14_inst:0'] took: 0:00:00.006251\n",
      "2022-03-02 16:15:32.290196 starting: writing array-based template file 'freyberg6_template\\rch14_inst0_constant.csv.tpl'\n",
      "2022-03-02 16:15:32.291196 saving zone array freyberg6_template\\rch14_inst0_constant.csv.zone for tpl file freyberg6_template\\rch14_inst0_constant.csv.tpl\n",
      "2022-03-02 16:15:32.300390 finished: adding constant type m style parameters for file(s) ['freyberg6.rch_recharge_14.txt'] took: 0:00:00.019436\n",
      "2022-03-02 16:15:32.300390 starting: adding constant type m style parameters for file(s) ['freyberg6.rch_recharge_15.txt']\n",
      "2022-03-02 16:15:32.300390 starting: loading array freyberg6_template\\freyberg6.rch_recharge_15.txt\n",
      "2022-03-02 16:15:32.301383 finished: loading array freyberg6_template\\freyberg6.rch_recharge_15.txt took: 0:00:00.000993\n",
      "2022-03-02 16:15:32.301383 loaded array 'freyberg_mf6\\freyberg6.rch_recharge_15.txt' of shape (40, 20)\n",
      "2022-03-02 16:15:32.303350 starting: writing array-style template file 'freyberg6_template\\rch15_inst0_constant.csv.tpl'\n",
      "2022-03-02 16:15:32.303350 starting: writing template file freyberg6_template\\rch15_inst0_constant.csv.tpl for ['rch15_inst:0']\n",
      "2022-03-02 16:15:32.309364 finished: writing template file freyberg6_template\\rch15_inst0_constant.csv.tpl for ['rch15_inst:0'] took: 0:00:00.006014\n",
      "2022-03-02 16:15:32.309364 starting: writing array-based template file 'freyberg6_template\\rch15_inst0_constant.csv.tpl'\n",
      "2022-03-02 16:15:32.309364 saving zone array freyberg6_template\\rch15_inst0_constant.csv.zone for tpl file freyberg6_template\\rch15_inst0_constant.csv.tpl\n",
      "2022-03-02 16:15:32.319369 finished: adding constant type m style parameters for file(s) ['freyberg6.rch_recharge_15.txt'] took: 0:00:00.018979\n",
      "2022-03-02 16:15:32.319369 starting: adding constant type m style parameters for file(s) ['freyberg6.rch_recharge_16.txt']\n",
      "2022-03-02 16:15:32.319369 starting: loading array freyberg6_template\\freyberg6.rch_recharge_16.txt\n",
      "2022-03-02 16:15:32.320368 finished: loading array freyberg6_template\\freyberg6.rch_recharge_16.txt took: 0:00:00.000999\n",
      "2022-03-02 16:15:32.320368 loaded array 'freyberg_mf6\\freyberg6.rch_recharge_16.txt' of shape (40, 20)\n",
      "2022-03-02 16:15:32.322394 starting: writing array-style template file 'freyberg6_template\\rch16_inst0_constant.csv.tpl'\n",
      "2022-03-02 16:15:32.322394 starting: writing template file freyberg6_template\\rch16_inst0_constant.csv.tpl for ['rch16_inst:0']\n",
      "2022-03-02 16:15:32.328375 finished: writing template file freyberg6_template\\rch16_inst0_constant.csv.tpl for ['rch16_inst:0'] took: 0:00:00.005981\n",
      "2022-03-02 16:15:32.328375 starting: writing array-based template file 'freyberg6_template\\rch16_inst0_constant.csv.tpl'\n",
      "2022-03-02 16:15:32.328375 saving zone array freyberg6_template\\rch16_inst0_constant.csv.zone for tpl file freyberg6_template\\rch16_inst0_constant.csv.tpl\n",
      "2022-03-02 16:15:32.338319 finished: adding constant type m style parameters for file(s) ['freyberg6.rch_recharge_16.txt'] took: 0:00:00.018950\n",
      "2022-03-02 16:15:32.338319 starting: adding constant type m style parameters for file(s) ['freyberg6.rch_recharge_17.txt']\n",
      "2022-03-02 16:15:32.338319 starting: loading array freyberg6_template\\freyberg6.rch_recharge_17.txt\n",
      "2022-03-02 16:15:32.339348 finished: loading array freyberg6_template\\freyberg6.rch_recharge_17.txt took: 0:00:00.001029\n",
      "2022-03-02 16:15:32.339348 loaded array 'freyberg_mf6\\freyberg6.rch_recharge_17.txt' of shape (40, 20)\n",
      "2022-03-02 16:15:32.341342 starting: writing array-style template file 'freyberg6_template\\rch17_inst0_constant.csv.tpl'\n",
      "2022-03-02 16:15:32.341342 starting: writing template file freyberg6_template\\rch17_inst0_constant.csv.tpl for ['rch17_inst:0']\n",
      "2022-03-02 16:15:32.347327 finished: writing template file freyberg6_template\\rch17_inst0_constant.csv.tpl for ['rch17_inst:0'] took: 0:00:00.005985\n",
      "2022-03-02 16:15:32.347327 starting: writing array-based template file 'freyberg6_template\\rch17_inst0_constant.csv.tpl'\n",
      "2022-03-02 16:15:32.347327 saving zone array freyberg6_template\\rch17_inst0_constant.csv.zone for tpl file freyberg6_template\\rch17_inst0_constant.csv.tpl\n",
      "2022-03-02 16:15:32.357268 finished: adding constant type m style parameters for file(s) ['freyberg6.rch_recharge_17.txt'] took: 0:00:00.018949\n",
      "2022-03-02 16:15:32.357268 starting: adding constant type m style parameters for file(s) ['freyberg6.rch_recharge_18.txt']\n",
      "2022-03-02 16:15:32.358300 starting: loading array freyberg6_template\\freyberg6.rch_recharge_18.txt\n",
      "2022-03-02 16:15:32.359296 finished: loading array freyberg6_template\\freyberg6.rch_recharge_18.txt took: 0:00:00.000996\n",
      "2022-03-02 16:15:32.359296 loaded array 'freyberg_mf6\\freyberg6.rch_recharge_18.txt' of shape (40, 20)\n",
      "2022-03-02 16:15:32.360290 starting: writing array-style template file 'freyberg6_template\\rch18_inst0_constant.csv.tpl'\n",
      "2022-03-02 16:15:32.360290 starting: writing template file freyberg6_template\\rch18_inst0_constant.csv.tpl for ['rch18_inst:0']\n",
      "2022-03-02 16:15:32.366244 finished: writing template file freyberg6_template\\rch18_inst0_constant.csv.tpl for ['rch18_inst:0'] took: 0:00:00.005954\n",
      "2022-03-02 16:15:32.366244 starting: writing array-based template file 'freyberg6_template\\rch18_inst0_constant.csv.tpl'\n",
      "2022-03-02 16:15:32.367241 saving zone array freyberg6_template\\rch18_inst0_constant.csv.zone for tpl file freyberg6_template\\rch18_inst0_constant.csv.tpl\n",
      "2022-03-02 16:15:32.377214 finished: adding constant type m style parameters for file(s) ['freyberg6.rch_recharge_18.txt'] took: 0:00:00.019946\n",
      "2022-03-02 16:15:32.377214 starting: adding constant type m style parameters for file(s) ['freyberg6.rch_recharge_19.txt']\n",
      "2022-03-02 16:15:32.377214 starting: loading array freyberg6_template\\freyberg6.rch_recharge_19.txt\n",
      "2022-03-02 16:15:32.378251 finished: loading array freyberg6_template\\freyberg6.rch_recharge_19.txt took: 0:00:00.001037\n",
      "2022-03-02 16:15:32.378251 loaded array 'freyberg_mf6\\freyberg6.rch_recharge_19.txt' of shape (40, 20)\n",
      "2022-03-02 16:15:32.380236 starting: writing array-style template file 'freyberg6_template\\rch19_inst0_constant.csv.tpl'\n",
      "2022-03-02 16:15:32.380236 starting: writing template file freyberg6_template\\rch19_inst0_constant.csv.tpl for ['rch19_inst:0']\n",
      "2022-03-02 16:15:32.386190 finished: writing template file freyberg6_template\\rch19_inst0_constant.csv.tpl for ['rch19_inst:0'] took: 0:00:00.005954\n",
      "2022-03-02 16:15:32.386190 starting: writing array-based template file 'freyberg6_template\\rch19_inst0_constant.csv.tpl'\n",
      "2022-03-02 16:15:32.387204 saving zone array freyberg6_template\\rch19_inst0_constant.csv.zone for tpl file freyberg6_template\\rch19_inst0_constant.csv.tpl\n",
      "2022-03-02 16:15:32.398158 finished: adding constant type m style parameters for file(s) ['freyberg6.rch_recharge_19.txt'] took: 0:00:00.020944\n",
      "2022-03-02 16:15:32.399156 starting: adding constant type m style parameters for file(s) ['freyberg6.rch_recharge_2.txt']\n",
      "2022-03-02 16:15:32.399156 starting: loading array freyberg6_template\\freyberg6.rch_recharge_2.txt\n",
      "2022-03-02 16:15:32.400192 finished: loading array freyberg6_template\\freyberg6.rch_recharge_2.txt took: 0:00:00.001036\n",
      "2022-03-02 16:15:32.400192 loaded array 'freyberg_mf6\\freyberg6.rch_recharge_2.txt' of shape (40, 20)\n",
      "2022-03-02 16:15:32.401179 starting: writing array-style template file 'freyberg6_template\\rch2_inst0_constant.csv.tpl'\n",
      "2022-03-02 16:15:32.402199 starting: writing template file freyberg6_template\\rch2_inst0_constant.csv.tpl for ['rch2_inst:0']\n",
      "2022-03-02 16:15:32.410127 finished: writing template file freyberg6_template\\rch2_inst0_constant.csv.tpl for ['rch2_inst:0'] took: 0:00:00.007928\n",
      "2022-03-02 16:15:32.410127 starting: writing array-based template file 'freyberg6_template\\rch2_inst0_constant.csv.tpl'\n",
      "2022-03-02 16:15:32.411158 saving zone array freyberg6_template\\rch2_inst0_constant.csv.zone for tpl file freyberg6_template\\rch2_inst0_constant.csv.tpl\n",
      "2022-03-02 16:15:32.421097 finished: adding constant type m style parameters for file(s) ['freyberg6.rch_recharge_2.txt'] took: 0:00:00.021941\n",
      "2022-03-02 16:15:32.423147 starting: adding constant type m style parameters for file(s) ['freyberg6.rch_recharge_20.txt']\n",
      "2022-03-02 16:15:32.423147 starting: loading array freyberg6_template\\freyberg6.rch_recharge_20.txt\n",
      "2022-03-02 16:15:32.425110 finished: loading array freyberg6_template\\freyberg6.rch_recharge_20.txt took: 0:00:00.001963\n",
      "2022-03-02 16:15:32.425110 loaded array 'freyberg_mf6\\freyberg6.rch_recharge_20.txt' of shape (40, 20)\n",
      "2022-03-02 16:15:32.427112 starting: writing array-style template file 'freyberg6_template\\rch20_inst0_constant.csv.tpl'\n",
      "2022-03-02 16:15:32.427112 starting: writing template file freyberg6_template\\rch20_inst0_constant.csv.tpl for ['rch20_inst:0']\n",
      "2022-03-02 16:15:32.433094 finished: writing template file freyberg6_template\\rch20_inst0_constant.csv.tpl for ['rch20_inst:0'] took: 0:00:00.005982\n",
      "2022-03-02 16:15:32.433094 starting: writing array-based template file 'freyberg6_template\\rch20_inst0_constant.csv.tpl'\n",
      "2022-03-02 16:15:32.434091 saving zone array freyberg6_template\\rch20_inst0_constant.csv.zone for tpl file freyberg6_template\\rch20_inst0_constant.csv.tpl\n",
      "2022-03-02 16:15:32.444035 finished: adding constant type m style parameters for file(s) ['freyberg6.rch_recharge_20.txt'] took: 0:00:00.020888\n",
      "2022-03-02 16:15:32.445032 starting: adding constant type m style parameters for file(s) ['freyberg6.rch_recharge_21.txt']\n",
      "2022-03-02 16:15:32.445032 starting: loading array freyberg6_template\\freyberg6.rch_recharge_21.txt\n",
      "2022-03-02 16:15:32.446059 finished: loading array freyberg6_template\\freyberg6.rch_recharge_21.txt took: 0:00:00.001027\n",
      "2022-03-02 16:15:32.446059 loaded array 'freyberg_mf6\\freyberg6.rch_recharge_21.txt' of shape (40, 20)\n",
      "2022-03-02 16:15:32.448054 starting: writing array-style template file 'freyberg6_template\\rch21_inst0_constant.csv.tpl'\n",
      "2022-03-02 16:15:32.448054 starting: writing template file freyberg6_template\\rch21_inst0_constant.csv.tpl for ['rch21_inst:0']\n",
      "2022-03-02 16:15:32.453011 finished: writing template file freyberg6_template\\rch21_inst0_constant.csv.tpl for ['rch21_inst:0'] took: 0:00:00.004957\n",
      "2022-03-02 16:15:32.453011 starting: writing array-based template file 'freyberg6_template\\rch21_inst0_constant.csv.tpl'\n",
      "2022-03-02 16:15:32.454009 saving zone array freyberg6_template\\rch21_inst0_constant.csv.zone for tpl file freyberg6_template\\rch21_inst0_constant.csv.tpl\n",
      "2022-03-02 16:15:32.464979 finished: adding constant type m style parameters for file(s) ['freyberg6.rch_recharge_21.txt'] took: 0:00:00.019947\n",
      "2022-03-02 16:15:32.465977 starting: adding constant type m style parameters for file(s) ['freyberg6.rch_recharge_22.txt']\n",
      "2022-03-02 16:15:32.465977 starting: loading array freyberg6_template\\freyberg6.rch_recharge_22.txt\n",
      "2022-03-02 16:15:32.467005 finished: loading array freyberg6_template\\freyberg6.rch_recharge_22.txt took: 0:00:00.001028\n",
      "2022-03-02 16:15:32.467005 loaded array 'freyberg_mf6\\freyberg6.rch_recharge_22.txt' of shape (40, 20)\n",
      "2022-03-02 16:15:32.468000 starting: writing array-style template file 'freyberg6_template\\rch22_inst0_constant.csv.tpl'\n",
      "2022-03-02 16:15:32.468000 starting: writing template file freyberg6_template\\rch22_inst0_constant.csv.tpl for ['rch22_inst:0']\n",
      "2022-03-02 16:15:32.474953 finished: writing template file freyberg6_template\\rch22_inst0_constant.csv.tpl for ['rch22_inst:0'] took: 0:00:00.006953\n",
      "2022-03-02 16:15:32.474953 starting: writing array-based template file 'freyberg6_template\\rch22_inst0_constant.csv.tpl'\n",
      "2022-03-02 16:15:32.475950 saving zone array freyberg6_template\\rch22_inst0_constant.csv.zone for tpl file freyberg6_template\\rch22_inst0_constant.csv.tpl\n",
      "2022-03-02 16:15:32.485922 finished: adding constant type m style parameters for file(s) ['freyberg6.rch_recharge_22.txt'] took: 0:00:00.019945\n",
      "2022-03-02 16:15:32.485922 starting: adding constant type m style parameters for file(s) ['freyberg6.rch_recharge_23.txt']\n",
      "2022-03-02 16:15:32.485922 starting: loading array freyberg6_template\\freyberg6.rch_recharge_23.txt\n",
      "2022-03-02 16:15:32.486921 finished: loading array freyberg6_template\\freyberg6.rch_recharge_23.txt took: 0:00:00.000999\n",
      "2022-03-02 16:15:32.486921 loaded array 'freyberg_mf6\\freyberg6.rch_recharge_23.txt' of shape (40, 20)\n",
      "2022-03-02 16:15:32.488947 starting: writing array-style template file 'freyberg6_template\\rch23_inst0_constant.csv.tpl'\n",
      "2022-03-02 16:15:32.489945 starting: writing template file freyberg6_template\\rch23_inst0_constant.csv.tpl for ['rch23_inst:0']\n",
      "2022-03-02 16:15:32.495925 finished: writing template file freyberg6_template\\rch23_inst0_constant.csv.tpl for ['rch23_inst:0'] took: 0:00:00.005980\n",
      "2022-03-02 16:15:32.495925 starting: writing array-based template file 'freyberg6_template\\rch23_inst0_constant.csv.tpl'\n",
      "2022-03-02 16:15:32.496923 saving zone array freyberg6_template\\rch23_inst0_constant.csv.zone for tpl file freyberg6_template\\rch23_inst0_constant.csv.tpl\n",
      "2022-03-02 16:15:32.506902 finished: adding constant type m style parameters for file(s) ['freyberg6.rch_recharge_23.txt'] took: 0:00:00.020980\n",
      "2022-03-02 16:15:32.506902 starting: adding constant type m style parameters for file(s) ['freyberg6.rch_recharge_24.txt']\n",
      "2022-03-02 16:15:32.506902 starting: loading array freyberg6_template\\freyberg6.rch_recharge_24.txt\n",
      "2022-03-02 16:15:32.507894 finished: loading array freyberg6_template\\freyberg6.rch_recharge_24.txt took: 0:00:00.000992\n",
      "2022-03-02 16:15:32.507894 loaded array 'freyberg_mf6\\freyberg6.rch_recharge_24.txt' of shape (40, 20)\n",
      "2022-03-02 16:15:32.509888 starting: writing array-style template file 'freyberg6_template\\rch24_inst0_constant.csv.tpl'\n",
      "2022-03-02 16:15:32.509888 starting: writing template file freyberg6_template\\rch24_inst0_constant.csv.tpl for ['rch24_inst:0']\n",
      "2022-03-02 16:15:32.515842 finished: writing template file freyberg6_template\\rch24_inst0_constant.csv.tpl for ['rch24_inst:0'] took: 0:00:00.005954\n",
      "2022-03-02 16:15:32.515842 starting: writing array-based template file 'freyberg6_template\\rch24_inst0_constant.csv.tpl'\n",
      "2022-03-02 16:15:32.515842 saving zone array freyberg6_template\\rch24_inst0_constant.csv.zone for tpl file freyberg6_template\\rch24_inst0_constant.csv.tpl\n",
      "2022-03-02 16:15:32.527810 finished: adding constant type m style parameters for file(s) ['freyberg6.rch_recharge_24.txt'] took: 0:00:00.020908\n",
      "2022-03-02 16:15:32.527810 starting: adding constant type m style parameters for file(s) ['freyberg6.rch_recharge_25.txt']\n",
      "2022-03-02 16:15:32.527810 starting: loading array freyberg6_template\\freyberg6.rch_recharge_25.txt\n",
      "2022-03-02 16:15:32.528808 finished: loading array freyberg6_template\\freyberg6.rch_recharge_25.txt took: 0:00:00.000998\n",
      "2022-03-02 16:15:32.528808 loaded array 'freyberg_mf6\\freyberg6.rch_recharge_25.txt' of shape (40, 20)\n",
      "2022-03-02 16:15:32.530834 starting: writing array-style template file 'freyberg6_template\\rch25_inst0_constant.csv.tpl'\n",
      "2022-03-02 16:15:32.530834 starting: writing template file freyberg6_template\\rch25_inst0_constant.csv.tpl for ['rch25_inst:0']\n",
      "2022-03-02 16:15:32.535789 finished: writing template file freyberg6_template\\rch25_inst0_constant.csv.tpl for ['rch25_inst:0'] took: 0:00:00.004955\n",
      "2022-03-02 16:15:32.535789 starting: writing array-based template file 'freyberg6_template\\rch25_inst0_constant.csv.tpl'\n",
      "2022-03-02 16:15:32.536787 saving zone array freyberg6_template\\rch25_inst0_constant.csv.zone for tpl file freyberg6_template\\rch25_inst0_constant.csv.tpl\n",
      "2022-03-02 16:15:32.546792 finished: adding constant type m style parameters for file(s) ['freyberg6.rch_recharge_25.txt'] took: 0:00:00.018982\n",
      "2022-03-02 16:15:32.547789 starting: adding constant type m style parameters for file(s) ['freyberg6.rch_recharge_3.txt']\n",
      "2022-03-02 16:15:32.547789 starting: loading array freyberg6_template\\freyberg6.rch_recharge_3.txt\n",
      "2022-03-02 16:15:32.548816 finished: loading array freyberg6_template\\freyberg6.rch_recharge_3.txt took: 0:00:00.001027\n",
      "2022-03-02 16:15:32.548816 loaded array 'freyberg_mf6\\freyberg6.rch_recharge_3.txt' of shape (40, 20)\n",
      "2022-03-02 16:15:32.550812 starting: writing array-style template file 'freyberg6_template\\rch3_inst0_constant.csv.tpl'\n",
      "2022-03-02 16:15:32.550812 starting: writing template file freyberg6_template\\rch3_inst0_constant.csv.tpl for ['rch3_inst:0']\n",
      "2022-03-02 16:15:32.556765 finished: writing template file freyberg6_template\\rch3_inst0_constant.csv.tpl for ['rch3_inst:0'] took: 0:00:00.005953\n",
      "2022-03-02 16:15:32.556765 starting: writing array-based template file 'freyberg6_template\\rch3_inst0_constant.csv.tpl'\n",
      "2022-03-02 16:15:32.557792 saving zone array freyberg6_template\\rch3_inst0_constant.csv.zone for tpl file freyberg6_template\\rch3_inst0_constant.csv.tpl\n",
      "2022-03-02 16:15:32.567735 finished: adding constant type m style parameters for file(s) ['freyberg6.rch_recharge_3.txt'] took: 0:00:00.019946\n",
      "2022-03-02 16:15:32.567735 starting: adding constant type m style parameters for file(s) ['freyberg6.rch_recharge_4.txt']\n",
      "2022-03-02 16:15:32.567735 starting: loading array freyberg6_template\\freyberg6.rch_recharge_4.txt\n",
      "2022-03-02 16:15:32.568734 finished: loading array freyberg6_template\\freyberg6.rch_recharge_4.txt took: 0:00:00.000999\n",
      "2022-03-02 16:15:32.568734 loaded array 'freyberg_mf6\\freyberg6.rch_recharge_4.txt' of shape (40, 20)\n",
      "2022-03-02 16:15:32.570728 starting: writing array-style template file 'freyberg6_template\\rch4_inst0_constant.csv.tpl'\n",
      "2022-03-02 16:15:32.570728 starting: writing template file freyberg6_template\\rch4_inst0_constant.csv.tpl for ['rch4_inst:0']\n",
      "2022-03-02 16:15:32.576711 finished: writing template file freyberg6_template\\rch4_inst0_constant.csv.tpl for ['rch4_inst:0'] took: 0:00:00.005983\n",
      "2022-03-02 16:15:32.576711 starting: writing array-based template file 'freyberg6_template\\rch4_inst0_constant.csv.tpl'\n",
      "2022-03-02 16:15:32.577740 saving zone array freyberg6_template\\rch4_inst0_constant.csv.zone for tpl file freyberg6_template\\rch4_inst0_constant.csv.tpl\n",
      "2022-03-02 16:15:32.587682 finished: adding constant type m style parameters for file(s) ['freyberg6.rch_recharge_4.txt'] took: 0:00:00.019947\n",
      "2022-03-02 16:15:32.588680 starting: adding constant type m style parameters for file(s) ['freyberg6.rch_recharge_5.txt']\n",
      "2022-03-02 16:15:32.588680 starting: loading array freyberg6_template\\freyberg6.rch_recharge_5.txt\n",
      "2022-03-02 16:15:32.589713 finished: loading array freyberg6_template\\freyberg6.rch_recharge_5.txt took: 0:00:00.001033\n",
      "2022-03-02 16:15:32.589713 loaded array 'freyberg_mf6\\freyberg6.rch_recharge_5.txt' of shape (40, 20)\n",
      "2022-03-02 16:15:32.591702 starting: writing array-style template file 'freyberg6_template\\rch5_inst0_constant.csv.tpl'\n",
      "2022-03-02 16:15:32.591702 starting: writing template file freyberg6_template\\rch5_inst0_constant.csv.tpl for ['rch5_inst:0']\n",
      "2022-03-02 16:15:32.596687 finished: writing template file freyberg6_template\\rch5_inst0_constant.csv.tpl for ['rch5_inst:0'] took: 0:00:00.004985\n",
      "2022-03-02 16:15:32.596687 starting: writing array-based template file 'freyberg6_template\\rch5_inst0_constant.csv.tpl'\n",
      "2022-03-02 16:15:32.597691 saving zone array freyberg6_template\\rch5_inst0_constant.csv.zone for tpl file freyberg6_template\\rch5_inst0_constant.csv.tpl\n",
      "2022-03-02 16:15:32.608626 finished: adding constant type m style parameters for file(s) ['freyberg6.rch_recharge_5.txt'] took: 0:00:00.019946\n",
      "2022-03-02 16:15:32.608626 starting: adding constant type m style parameters for file(s) ['freyberg6.rch_recharge_6.txt']\n",
      "2022-03-02 16:15:32.608626 starting: loading array freyberg6_template\\freyberg6.rch_recharge_6.txt\n",
      "2022-03-02 16:15:32.609656 finished: loading array freyberg6_template\\freyberg6.rch_recharge_6.txt took: 0:00:00.001030\n",
      "2022-03-02 16:15:32.609656 loaded array 'freyberg_mf6\\freyberg6.rch_recharge_6.txt' of shape (40, 20)\n",
      "2022-03-02 16:15:32.611647 starting: writing array-style template file 'freyberg6_template\\rch6_inst0_constant.csv.tpl'\n",
      "2022-03-02 16:15:32.611647 starting: writing template file freyberg6_template\\rch6_inst0_constant.csv.tpl for ['rch6_inst:0']\n",
      "2022-03-02 16:15:32.616605 finished: writing template file freyberg6_template\\rch6_inst0_constant.csv.tpl for ['rch6_inst:0'] took: 0:00:00.004958\n",
      "2022-03-02 16:15:32.617602 starting: writing array-based template file 'freyberg6_template\\rch6_inst0_constant.csv.tpl'\n",
      "2022-03-02 16:15:32.617602 saving zone array freyberg6_template\\rch6_inst0_constant.csv.zone for tpl file freyberg6_template\\rch6_inst0_constant.csv.tpl\n",
      "2022-03-02 16:15:32.628572 finished: adding constant type m style parameters for file(s) ['freyberg6.rch_recharge_6.txt'] took: 0:00:00.019946\n",
      "2022-03-02 16:15:32.628572 starting: adding constant type m style parameters for file(s) ['freyberg6.rch_recharge_7.txt']\n",
      "2022-03-02 16:15:32.629599 starting: loading array freyberg6_template\\freyberg6.rch_recharge_7.txt\n",
      "2022-03-02 16:15:32.629599 finished: loading array freyberg6_template\\freyberg6.rch_recharge_7.txt took: 0:00:00\n",
      "2022-03-02 16:15:32.630596 loaded array 'freyberg_mf6\\freyberg6.rch_recharge_7.txt' of shape (40, 20)\n",
      "2022-03-02 16:15:32.631594 starting: writing array-style template file 'freyberg6_template\\rch7_inst0_constant.csv.tpl'\n",
      "2022-03-02 16:15:32.631594 starting: writing template file freyberg6_template\\rch7_inst0_constant.csv.tpl for ['rch7_inst:0']\n",
      "2022-03-02 16:15:32.637579 finished: writing template file freyberg6_template\\rch7_inst0_constant.csv.tpl for ['rch7_inst:0'] took: 0:00:00.005985\n",
      "2022-03-02 16:15:32.638583 starting: writing array-based template file 'freyberg6_template\\rch7_inst0_constant.csv.tpl'\n",
      "2022-03-02 16:15:32.638583 saving zone array freyberg6_template\\rch7_inst0_constant.csv.zone for tpl file freyberg6_template\\rch7_inst0_constant.csv.tpl\n",
      "2022-03-02 16:15:32.649516 finished: adding constant type m style parameters for file(s) ['freyberg6.rch_recharge_7.txt'] took: 0:00:00.020944\n",
      "2022-03-02 16:15:32.649516 starting: adding constant type m style parameters for file(s) ['freyberg6.rch_recharge_8.txt']\n",
      "2022-03-02 16:15:32.649516 starting: loading array freyberg6_template\\freyberg6.rch_recharge_8.txt\n",
      "2022-03-02 16:15:32.650543 finished: loading array freyberg6_template\\freyberg6.rch_recharge_8.txt took: 0:00:00.001027\n",
      "2022-03-02 16:15:32.650543 loaded array 'freyberg_mf6\\freyberg6.rch_recharge_8.txt' of shape (40, 20)\n",
      "2022-03-02 16:15:32.652538 starting: writing array-style template file 'freyberg6_template\\rch8_inst0_constant.csv.tpl'\n",
      "2022-03-02 16:15:32.652538 starting: writing template file freyberg6_template\\rch8_inst0_constant.csv.tpl for ['rch8_inst:0']\n",
      "2022-03-02 16:15:32.658492 finished: writing template file freyberg6_template\\rch8_inst0_constant.csv.tpl for ['rch8_inst:0'] took: 0:00:00.005954\n",
      "2022-03-02 16:15:32.658492 starting: writing array-based template file 'freyberg6_template\\rch8_inst0_constant.csv.tpl'\n",
      "2022-03-02 16:15:32.659520 saving zone array freyberg6_template\\rch8_inst0_constant.csv.zone for tpl file freyberg6_template\\rch8_inst0_constant.csv.tpl\n",
      "2022-03-02 16:15:32.669462 finished: adding constant type m style parameters for file(s) ['freyberg6.rch_recharge_8.txt'] took: 0:00:00.019946\n",
      "2022-03-02 16:15:32.669462 starting: adding constant type m style parameters for file(s) ['freyberg6.rch_recharge_9.txt']\n",
      "2022-03-02 16:15:32.669462 starting: loading array freyberg6_template\\freyberg6.rch_recharge_9.txt\n",
      "2022-03-02 16:15:32.670461 finished: loading array freyberg6_template\\freyberg6.rch_recharge_9.txt took: 0:00:00.000999\n",
      "2022-03-02 16:15:32.670461 loaded array 'freyberg_mf6\\freyberg6.rch_recharge_9.txt' of shape (40, 20)\n",
      "2022-03-02 16:15:32.672487 starting: writing array-style template file 'freyberg6_template\\rch9_inst0_constant.csv.tpl'\n",
      "2022-03-02 16:15:32.672487 starting: writing template file freyberg6_template\\rch9_inst0_constant.csv.tpl for ['rch9_inst:0']\n",
      "2022-03-02 16:15:32.677441 finished: writing template file freyberg6_template\\rch9_inst0_constant.csv.tpl for ['rch9_inst:0'] took: 0:00:00.004954\n",
      "2022-03-02 16:15:32.677441 starting: writing array-based template file 'freyberg6_template\\rch9_inst0_constant.csv.tpl'\n",
      "2022-03-02 16:15:32.678439 saving zone array freyberg6_template\\rch9_inst0_constant.csv.zone for tpl file freyberg6_template\\rch9_inst0_constant.csv.tpl\n",
      "2022-03-02 16:15:32.687415 finished: adding constant type m style parameters for file(s) ['freyberg6.rch_recharge_9.txt'] took: 0:00:00.017953\n"
     ]
    }
   ],
   "source": [
    "# for Recharge; \n",
    "tag = \"rch_recharge\"\n",
    "files = [f for f in os.listdir(template_ws) if tag in f.lower() and f.endswith(\".txt\")]\n",
    "for f in files:\n",
    "   \n",
    "    # multiplier that includes temporal correlation\n",
    "    # get the stress period number from the file name\n",
    "    kper = int(f.split('.')[1].split('_')[-1]) - 1  \n",
    "    \n",
    "    # add the constant parameters (with temporal correlation)\n",
    "    pf.add_parameters(filenames=f,\n",
    "                    zone_array=ib,\n",
    "                    par_type=\"constant\",\n",
    "                    par_name_base=f'rch{kper+1}',\n",
    "                    pargp=\"rch\",\n",
    "                    lower_bound=0.5, upper_bound=1.5)"
   ]
  },
  {
   "cell_type": "code",
   "execution_count": 47,
   "metadata": {
    "execution": {
     "iopub.execute_input": "2022-03-02T05:08:45.889502Z",
     "iopub.status.busy": "2022-03-02T05:08:45.888505Z",
     "iopub.status.idle": "2022-03-02T05:08:45.892494Z",
     "shell.execute_reply": "2022-03-02T05:08:45.892494Z"
    }
   },
   "outputs": [
    {
     "data": {
      "text/plain": [
       "['mf6']"
      ]
     },
     "execution_count": 47,
     "metadata": {},
     "output_type": "execute_result"
    }
   ],
   "source": [
    "pf.mod_sys_cmds.append(\"mf6\") #do this only once\n",
    "pf.mod_sys_cmds"
   ]
  },
  {
   "cell_type": "code",
   "execution_count": 48,
   "metadata": {
    "execution": {
     "iopub.execute_input": "2022-03-02T05:08:45.925435Z",
     "iopub.status.busy": "2022-03-02T05:08:45.923411Z",
     "iopub.status.idle": "2022-03-02T05:08:47.469580Z",
     "shell.execute_reply": "2022-03-02T05:08:47.470577Z"
    }
   },
   "outputs": [
    {
     "name": "stdout",
     "output_type": "stream",
     "text": [
      "noptmax:0, npar_adj:28, nnz_obs:725\n",
      "2022-03-02 16:15:32.905829 forward_run line:pyemu.os_utils.run(r'mf6')\n",
      "\n"
     ]
    }
   ],
   "source": [
    "pst = pf.build_pst()\n"
   ]
  },
  {
   "cell_type": "code",
   "execution_count": 49,
   "metadata": {
    "execution": {
     "iopub.execute_input": "2022-03-02T05:08:49.198696Z",
     "iopub.status.busy": "2022-03-02T05:08:49.197697Z",
     "iopub.status.idle": "2022-03-02T05:08:49.203694Z",
     "shell.execute_reply": "2022-03-02T05:08:49.203694Z"
    }
   },
   "outputs": [],
   "source": [
    "obs = pst.observation_data"
   ]
  },
  {
   "cell_type": "markdown",
   "metadata": {},
   "source": [
    "Hmm, that's alot of observations. And remember, alot of these pertain to the \"prediction\" period. We definitly do not want those to have an influence on history-matching.\n",
    "\n",
    "To be on the safe side, let's assign a weight of zero to all observations. Then, we will assign weights to specific observations that we wish to include as history-matching targets."
   ]
  },
  {
   "cell_type": "code",
   "execution_count": 50,
   "metadata": {
    "execution": {
     "iopub.execute_input": "2022-03-02T05:08:49.207643Z",
     "iopub.status.busy": "2022-03-02T05:08:49.206675Z",
     "iopub.status.idle": "2022-03-02T05:08:49.214840Z",
     "shell.execute_reply": "2022-03-02T05:08:49.214840Z"
    }
   },
   "outputs": [
    {
     "data": {
      "text/html": [
       "<div>\n",
       "<style scoped>\n",
       "    .dataframe tbody tr th:only-of-type {\n",
       "        vertical-align: middle;\n",
       "    }\n",
       "\n",
       "    .dataframe tbody tr th {\n",
       "        vertical-align: top;\n",
       "    }\n",
       "\n",
       "    .dataframe thead th {\n",
       "        text-align: right;\n",
       "    }\n",
       "</style>\n",
       "<table border=\"1\" class=\"dataframe\">\n",
       "  <thead>\n",
       "    <tr style=\"text-align: right;\">\n",
       "      <th></th>\n",
       "      <th>obsnme</th>\n",
       "      <th>obsval</th>\n",
       "      <th>weight</th>\n",
       "      <th>obgnme</th>\n",
       "      <th>oname</th>\n",
       "      <th>otype</th>\n",
       "      <th>usecol</th>\n",
       "      <th>time</th>\n",
       "    </tr>\n",
       "  </thead>\n",
       "  <tbody>\n",
       "    <tr>\n",
       "      <th>oname:hds_otype:lst_usecol:trgw_0_13_10_time:1.0</th>\n",
       "      <td>oname:hds_otype:lst_usecol:trgw_0_13_10_time:1.0</td>\n",
       "      <td>34.406181</td>\n",
       "      <td>0</td>\n",
       "      <td>oname:hds_otype:lst_usecol:trgw_0_13_10</td>\n",
       "      <td>hds</td>\n",
       "      <td>lst</td>\n",
       "      <td>trgw</td>\n",
       "      <td>1.0</td>\n",
       "    </tr>\n",
       "    <tr>\n",
       "      <th>oname:hds_otype:lst_usecol:trgw_0_13_10_time:122.0</th>\n",
       "      <td>oname:hds_otype:lst_usecol:trgw_0_13_10_time:122.0</td>\n",
       "      <td>34.450633</td>\n",
       "      <td>0</td>\n",
       "      <td>oname:hds_otype:lst_usecol:trgw_0_13_10</td>\n",
       "      <td>hds</td>\n",
       "      <td>lst</td>\n",
       "      <td>trgw</td>\n",
       "      <td>122.0</td>\n",
       "    </tr>\n",
       "    <tr>\n",
       "      <th>oname:hds_otype:lst_usecol:trgw_0_13_10_time:153.0</th>\n",
       "      <td>oname:hds_otype:lst_usecol:trgw_0_13_10_time:153.0</td>\n",
       "      <td>34.441733</td>\n",
       "      <td>0</td>\n",
       "      <td>oname:hds_otype:lst_usecol:trgw_0_13_10</td>\n",
       "      <td>hds</td>\n",
       "      <td>lst</td>\n",
       "      <td>trgw</td>\n",
       "      <td>153.0</td>\n",
       "    </tr>\n",
       "    <tr>\n",
       "      <th>oname:hds_otype:lst_usecol:trgw_0_13_10_time:183.0</th>\n",
       "      <td>oname:hds_otype:lst_usecol:trgw_0_13_10_time:183.0</td>\n",
       "      <td>34.375639</td>\n",
       "      <td>0</td>\n",
       "      <td>oname:hds_otype:lst_usecol:trgw_0_13_10</td>\n",
       "      <td>hds</td>\n",
       "      <td>lst</td>\n",
       "      <td>trgw</td>\n",
       "      <td>183.0</td>\n",
       "    </tr>\n",
       "    <tr>\n",
       "      <th>oname:hds_otype:lst_usecol:trgw_0_13_10_time:214.0</th>\n",
       "      <td>oname:hds_otype:lst_usecol:trgw_0_13_10_time:214.0</td>\n",
       "      <td>34.323119</td>\n",
       "      <td>0</td>\n",
       "      <td>oname:hds_otype:lst_usecol:trgw_0_13_10</td>\n",
       "      <td>hds</td>\n",
       "      <td>lst</td>\n",
       "      <td>trgw</td>\n",
       "      <td>214.0</td>\n",
       "    </tr>\n",
       "  </tbody>\n",
       "</table>\n",
       "</div>"
      ],
      "text/plain": [
       "                                                                                                obsnme  \\\n",
       "oname:hds_otype:lst_usecol:trgw_0_13_10_time:1.0      oname:hds_otype:lst_usecol:trgw_0_13_10_time:1.0   \n",
       "oname:hds_otype:lst_usecol:trgw_0_13_10_time:122.0  oname:hds_otype:lst_usecol:trgw_0_13_10_time:122.0   \n",
       "oname:hds_otype:lst_usecol:trgw_0_13_10_time:153.0  oname:hds_otype:lst_usecol:trgw_0_13_10_time:153.0   \n",
       "oname:hds_otype:lst_usecol:trgw_0_13_10_time:183.0  oname:hds_otype:lst_usecol:trgw_0_13_10_time:183.0   \n",
       "oname:hds_otype:lst_usecol:trgw_0_13_10_time:214.0  oname:hds_otype:lst_usecol:trgw_0_13_10_time:214.0   \n",
       "\n",
       "                                                       obsval  weight  \\\n",
       "oname:hds_otype:lst_usecol:trgw_0_13_10_time:1.0    34.406181       0   \n",
       "oname:hds_otype:lst_usecol:trgw_0_13_10_time:122.0  34.450633       0   \n",
       "oname:hds_otype:lst_usecol:trgw_0_13_10_time:153.0  34.441733       0   \n",
       "oname:hds_otype:lst_usecol:trgw_0_13_10_time:183.0  34.375639       0   \n",
       "oname:hds_otype:lst_usecol:trgw_0_13_10_time:214.0  34.323119       0   \n",
       "\n",
       "                                                                                     obgnme  \\\n",
       "oname:hds_otype:lst_usecol:trgw_0_13_10_time:1.0    oname:hds_otype:lst_usecol:trgw_0_13_10   \n",
       "oname:hds_otype:lst_usecol:trgw_0_13_10_time:122.0  oname:hds_otype:lst_usecol:trgw_0_13_10   \n",
       "oname:hds_otype:lst_usecol:trgw_0_13_10_time:153.0  oname:hds_otype:lst_usecol:trgw_0_13_10   \n",
       "oname:hds_otype:lst_usecol:trgw_0_13_10_time:183.0  oname:hds_otype:lst_usecol:trgw_0_13_10   \n",
       "oname:hds_otype:lst_usecol:trgw_0_13_10_time:214.0  oname:hds_otype:lst_usecol:trgw_0_13_10   \n",
       "\n",
       "                                                   oname otype usecol   time  \n",
       "oname:hds_otype:lst_usecol:trgw_0_13_10_time:1.0     hds   lst   trgw    1.0  \n",
       "oname:hds_otype:lst_usecol:trgw_0_13_10_time:122.0   hds   lst   trgw  122.0  \n",
       "oname:hds_otype:lst_usecol:trgw_0_13_10_time:153.0   hds   lst   trgw  153.0  \n",
       "oname:hds_otype:lst_usecol:trgw_0_13_10_time:183.0   hds   lst   trgw  183.0  \n",
       "oname:hds_otype:lst_usecol:trgw_0_13_10_time:214.0   hds   lst   trgw  214.0  "
      ]
     },
     "execution_count": 50,
     "metadata": {},
     "output_type": "execute_result"
    }
   ],
   "source": [
    "# preemptive avoidance of sillyness\n",
    "obs['weight'] = 0\n",
    "obs.head()"
   ]
  },
  {
   "cell_type": "markdown",
   "metadata": {},
   "source": [
    "So, if we want to select observations from the `heads.csv` file, and that have a time < than 367, we can just use `Pandas` .loc:"
   ]
  },
  {
   "cell_type": "code",
   "execution_count": 51,
   "metadata": {},
   "outputs": [
    {
     "data": {
      "text/html": [
       "<div>\n",
       "<style scoped>\n",
       "    .dataframe tbody tr th:only-of-type {\n",
       "        vertical-align: middle;\n",
       "    }\n",
       "\n",
       "    .dataframe tbody tr th {\n",
       "        vertical-align: top;\n",
       "    }\n",
       "\n",
       "    .dataframe thead th {\n",
       "        text-align: right;\n",
       "    }\n",
       "</style>\n",
       "<table border=\"1\" class=\"dataframe\">\n",
       "  <thead>\n",
       "    <tr style=\"text-align: right;\">\n",
       "      <th></th>\n",
       "      <th>obsnme</th>\n",
       "      <th>obsval</th>\n",
       "      <th>weight</th>\n",
       "      <th>obgnme</th>\n",
       "      <th>oname</th>\n",
       "      <th>otype</th>\n",
       "      <th>usecol</th>\n",
       "      <th>time</th>\n",
       "    </tr>\n",
       "  </thead>\n",
       "  <tbody>\n",
       "    <tr>\n",
       "      <th>oname:hds_otype:lst_usecol:trgw_0_13_10_time:1.0</th>\n",
       "      <td>oname:hds_otype:lst_usecol:trgw_0_13_10_time:1.0</td>\n",
       "      <td>34.406181</td>\n",
       "      <td>0</td>\n",
       "      <td>oname:hds_otype:lst_usecol:trgw_0_13_10</td>\n",
       "      <td>hds</td>\n",
       "      <td>lst</td>\n",
       "      <td>trgw</td>\n",
       "      <td>1.0</td>\n",
       "    </tr>\n",
       "    <tr>\n",
       "      <th>oname:hds_otype:lst_usecol:trgw_0_13_10_time:122.0</th>\n",
       "      <td>oname:hds_otype:lst_usecol:trgw_0_13_10_time:122.0</td>\n",
       "      <td>34.450633</td>\n",
       "      <td>0</td>\n",
       "      <td>oname:hds_otype:lst_usecol:trgw_0_13_10</td>\n",
       "      <td>hds</td>\n",
       "      <td>lst</td>\n",
       "      <td>trgw</td>\n",
       "      <td>122.0</td>\n",
       "    </tr>\n",
       "    <tr>\n",
       "      <th>oname:hds_otype:lst_usecol:trgw_0_13_10_time:153.0</th>\n",
       "      <td>oname:hds_otype:lst_usecol:trgw_0_13_10_time:153.0</td>\n",
       "      <td>34.441733</td>\n",
       "      <td>0</td>\n",
       "      <td>oname:hds_otype:lst_usecol:trgw_0_13_10</td>\n",
       "      <td>hds</td>\n",
       "      <td>lst</td>\n",
       "      <td>trgw</td>\n",
       "      <td>153.0</td>\n",
       "    </tr>\n",
       "    <tr>\n",
       "      <th>oname:hds_otype:lst_usecol:trgw_0_13_10_time:183.0</th>\n",
       "      <td>oname:hds_otype:lst_usecol:trgw_0_13_10_time:183.0</td>\n",
       "      <td>34.375639</td>\n",
       "      <td>0</td>\n",
       "      <td>oname:hds_otype:lst_usecol:trgw_0_13_10</td>\n",
       "      <td>hds</td>\n",
       "      <td>lst</td>\n",
       "      <td>trgw</td>\n",
       "      <td>183.0</td>\n",
       "    </tr>\n",
       "    <tr>\n",
       "      <th>oname:hds_otype:lst_usecol:trgw_0_13_10_time:214.0</th>\n",
       "      <td>oname:hds_otype:lst_usecol:trgw_0_13_10_time:214.0</td>\n",
       "      <td>34.323119</td>\n",
       "      <td>0</td>\n",
       "      <td>oname:hds_otype:lst_usecol:trgw_0_13_10</td>\n",
       "      <td>hds</td>\n",
       "      <td>lst</td>\n",
       "      <td>trgw</td>\n",
       "      <td>214.0</td>\n",
       "    </tr>\n",
       "  </tbody>\n",
       "</table>\n",
       "</div>"
      ],
      "text/plain": [
       "                                                                                                obsnme  \\\n",
       "oname:hds_otype:lst_usecol:trgw_0_13_10_time:1.0      oname:hds_otype:lst_usecol:trgw_0_13_10_time:1.0   \n",
       "oname:hds_otype:lst_usecol:trgw_0_13_10_time:122.0  oname:hds_otype:lst_usecol:trgw_0_13_10_time:122.0   \n",
       "oname:hds_otype:lst_usecol:trgw_0_13_10_time:153.0  oname:hds_otype:lst_usecol:trgw_0_13_10_time:153.0   \n",
       "oname:hds_otype:lst_usecol:trgw_0_13_10_time:183.0  oname:hds_otype:lst_usecol:trgw_0_13_10_time:183.0   \n",
       "oname:hds_otype:lst_usecol:trgw_0_13_10_time:214.0  oname:hds_otype:lst_usecol:trgw_0_13_10_time:214.0   \n",
       "\n",
       "                                                       obsval  weight  \\\n",
       "oname:hds_otype:lst_usecol:trgw_0_13_10_time:1.0    34.406181       0   \n",
       "oname:hds_otype:lst_usecol:trgw_0_13_10_time:122.0  34.450633       0   \n",
       "oname:hds_otype:lst_usecol:trgw_0_13_10_time:153.0  34.441733       0   \n",
       "oname:hds_otype:lst_usecol:trgw_0_13_10_time:183.0  34.375639       0   \n",
       "oname:hds_otype:lst_usecol:trgw_0_13_10_time:214.0  34.323119       0   \n",
       "\n",
       "                                                                                     obgnme  \\\n",
       "oname:hds_otype:lst_usecol:trgw_0_13_10_time:1.0    oname:hds_otype:lst_usecol:trgw_0_13_10   \n",
       "oname:hds_otype:lst_usecol:trgw_0_13_10_time:122.0  oname:hds_otype:lst_usecol:trgw_0_13_10   \n",
       "oname:hds_otype:lst_usecol:trgw_0_13_10_time:153.0  oname:hds_otype:lst_usecol:trgw_0_13_10   \n",
       "oname:hds_otype:lst_usecol:trgw_0_13_10_time:183.0  oname:hds_otype:lst_usecol:trgw_0_13_10   \n",
       "oname:hds_otype:lst_usecol:trgw_0_13_10_time:214.0  oname:hds_otype:lst_usecol:trgw_0_13_10   \n",
       "\n",
       "                                                   oname otype usecol   time  \n",
       "oname:hds_otype:lst_usecol:trgw_0_13_10_time:1.0     hds   lst   trgw    1.0  \n",
       "oname:hds_otype:lst_usecol:trgw_0_13_10_time:122.0   hds   lst   trgw  122.0  \n",
       "oname:hds_otype:lst_usecol:trgw_0_13_10_time:153.0   hds   lst   trgw  153.0  \n",
       "oname:hds_otype:lst_usecol:trgw_0_13_10_time:183.0   hds   lst   trgw  183.0  \n",
       "oname:hds_otype:lst_usecol:trgw_0_13_10_time:214.0   hds   lst   trgw  214.0  "
      ]
     },
     "execution_count": 51,
     "metadata": {},
     "output_type": "execute_result"
    }
   ],
   "source": [
    "obs.head()"
   ]
  },
  {
   "cell_type": "code",
   "execution_count": 52,
   "metadata": {
    "execution": {
     "iopub.execute_input": "2022-03-02T05:08:49.224815Z",
     "iopub.status.busy": "2022-03-02T05:08:49.223855Z",
     "iopub.status.idle": "2022-03-02T05:08:49.234069Z",
     "shell.execute_reply": "2022-03-02T05:08:49.234069Z"
    }
   },
   "outputs": [
    {
     "data": {
      "text/html": [
       "<div>\n",
       "<style scoped>\n",
       "    .dataframe tbody tr th:only-of-type {\n",
       "        vertical-align: middle;\n",
       "    }\n",
       "\n",
       "    .dataframe tbody tr th {\n",
       "        vertical-align: top;\n",
       "    }\n",
       "\n",
       "    .dataframe thead th {\n",
       "        text-align: right;\n",
       "    }\n",
       "</style>\n",
       "<table border=\"1\" class=\"dataframe\">\n",
       "  <thead>\n",
       "    <tr style=\"text-align: right;\">\n",
       "      <th></th>\n",
       "      <th>obsnme</th>\n",
       "      <th>obsval</th>\n",
       "      <th>weight</th>\n",
       "      <th>obgnme</th>\n",
       "      <th>oname</th>\n",
       "      <th>otype</th>\n",
       "      <th>usecol</th>\n",
       "      <th>time</th>\n",
       "    </tr>\n",
       "  </thead>\n",
       "  <tbody>\n",
       "    <tr>\n",
       "      <th>oname:hds_otype:lst_usecol:trgw_0_13_10_time:1.0</th>\n",
       "      <td>oname:hds_otype:lst_usecol:trgw_0_13_10_time:1.0</td>\n",
       "      <td>34.406181</td>\n",
       "      <td>0</td>\n",
       "      <td>oname:hds_otype:lst_usecol:trgw_0_13_10</td>\n",
       "      <td>hds</td>\n",
       "      <td>lst</td>\n",
       "      <td>trgw</td>\n",
       "      <td>1.0</td>\n",
       "    </tr>\n",
       "    <tr>\n",
       "      <th>oname:hds_otype:lst_usecol:trgw_0_13_10_time:122.0</th>\n",
       "      <td>oname:hds_otype:lst_usecol:trgw_0_13_10_time:122.0</td>\n",
       "      <td>34.450633</td>\n",
       "      <td>0</td>\n",
       "      <td>oname:hds_otype:lst_usecol:trgw_0_13_10</td>\n",
       "      <td>hds</td>\n",
       "      <td>lst</td>\n",
       "      <td>trgw</td>\n",
       "      <td>122.0</td>\n",
       "    </tr>\n",
       "    <tr>\n",
       "      <th>oname:hds_otype:lst_usecol:trgw_0_13_10_time:153.0</th>\n",
       "      <td>oname:hds_otype:lst_usecol:trgw_0_13_10_time:153.0</td>\n",
       "      <td>34.441733</td>\n",
       "      <td>0</td>\n",
       "      <td>oname:hds_otype:lst_usecol:trgw_0_13_10</td>\n",
       "      <td>hds</td>\n",
       "      <td>lst</td>\n",
       "      <td>trgw</td>\n",
       "      <td>153.0</td>\n",
       "    </tr>\n",
       "    <tr>\n",
       "      <th>oname:hds_otype:lst_usecol:trgw_0_13_10_time:183.0</th>\n",
       "      <td>oname:hds_otype:lst_usecol:trgw_0_13_10_time:183.0</td>\n",
       "      <td>34.375639</td>\n",
       "      <td>0</td>\n",
       "      <td>oname:hds_otype:lst_usecol:trgw_0_13_10</td>\n",
       "      <td>hds</td>\n",
       "      <td>lst</td>\n",
       "      <td>trgw</td>\n",
       "      <td>183.0</td>\n",
       "    </tr>\n",
       "    <tr>\n",
       "      <th>oname:hds_otype:lst_usecol:trgw_0_13_10_time:214.0</th>\n",
       "      <td>oname:hds_otype:lst_usecol:trgw_0_13_10_time:214.0</td>\n",
       "      <td>34.323119</td>\n",
       "      <td>0</td>\n",
       "      <td>oname:hds_otype:lst_usecol:trgw_0_13_10</td>\n",
       "      <td>hds</td>\n",
       "      <td>lst</td>\n",
       "      <td>trgw</td>\n",
       "      <td>214.0</td>\n",
       "    </tr>\n",
       "    <tr>\n",
       "      <th>...</th>\n",
       "      <td>...</td>\n",
       "      <td>...</td>\n",
       "      <td>...</td>\n",
       "      <td>...</td>\n",
       "      <td>...</td>\n",
       "      <td>...</td>\n",
       "      <td>...</td>\n",
       "      <td>...</td>\n",
       "    </tr>\n",
       "    <tr>\n",
       "      <th>oname:hds_otype:lst_usecol:trgw_2_9_1_time:32.0</th>\n",
       "      <td>oname:hds_otype:lst_usecol:trgw_2_9_1_time:32.0</td>\n",
       "      <td>35.138463</td>\n",
       "      <td>0</td>\n",
       "      <td>oname:hds_otype:lst_usecol:trgw_2_9_1</td>\n",
       "      <td>hds</td>\n",
       "      <td>lst</td>\n",
       "      <td>trgw</td>\n",
       "      <td>32.0</td>\n",
       "    </tr>\n",
       "    <tr>\n",
       "      <th>oname:hds_otype:lst_usecol:trgw_2_9_1_time:336.0</th>\n",
       "      <td>oname:hds_otype:lst_usecol:trgw_2_9_1_time:336.0</td>\n",
       "      <td>35.137710</td>\n",
       "      <td>0</td>\n",
       "      <td>oname:hds_otype:lst_usecol:trgw_2_9_1</td>\n",
       "      <td>hds</td>\n",
       "      <td>lst</td>\n",
       "      <td>trgw</td>\n",
       "      <td>336.0</td>\n",
       "    </tr>\n",
       "    <tr>\n",
       "      <th>oname:hds_otype:lst_usecol:trgw_2_9_1_time:367.0</th>\n",
       "      <td>oname:hds_otype:lst_usecol:trgw_2_9_1_time:367.0</td>\n",
       "      <td>35.381095</td>\n",
       "      <td>0</td>\n",
       "      <td>oname:hds_otype:lst_usecol:trgw_2_9_1</td>\n",
       "      <td>hds</td>\n",
       "      <td>lst</td>\n",
       "      <td>trgw</td>\n",
       "      <td>367.0</td>\n",
       "    </tr>\n",
       "    <tr>\n",
       "      <th>oname:hds_otype:lst_usecol:trgw_2_9_1_time:61.0</th>\n",
       "      <td>oname:hds_otype:lst_usecol:trgw_2_9_1_time:61.0</td>\n",
       "      <td>35.323660</td>\n",
       "      <td>0</td>\n",
       "      <td>oname:hds_otype:lst_usecol:trgw_2_9_1</td>\n",
       "      <td>hds</td>\n",
       "      <td>lst</td>\n",
       "      <td>trgw</td>\n",
       "      <td>61.0</td>\n",
       "    </tr>\n",
       "    <tr>\n",
       "      <th>oname:hds_otype:lst_usecol:trgw_2_9_1_time:92.0</th>\n",
       "      <td>oname:hds_otype:lst_usecol:trgw_2_9_1_time:92.0</td>\n",
       "      <td>35.373418</td>\n",
       "      <td>0</td>\n",
       "      <td>oname:hds_otype:lst_usecol:trgw_2_9_1</td>\n",
       "      <td>hds</td>\n",
       "      <td>lst</td>\n",
       "      <td>trgw</td>\n",
       "      <td>92.0</td>\n",
       "    </tr>\n",
       "  </tbody>\n",
       "</table>\n",
       "<p>338 rows × 8 columns</p>\n",
       "</div>"
      ],
      "text/plain": [
       "                                                                                                obsnme  \\\n",
       "oname:hds_otype:lst_usecol:trgw_0_13_10_time:1.0      oname:hds_otype:lst_usecol:trgw_0_13_10_time:1.0   \n",
       "oname:hds_otype:lst_usecol:trgw_0_13_10_time:122.0  oname:hds_otype:lst_usecol:trgw_0_13_10_time:122.0   \n",
       "oname:hds_otype:lst_usecol:trgw_0_13_10_time:153.0  oname:hds_otype:lst_usecol:trgw_0_13_10_time:153.0   \n",
       "oname:hds_otype:lst_usecol:trgw_0_13_10_time:183.0  oname:hds_otype:lst_usecol:trgw_0_13_10_time:183.0   \n",
       "oname:hds_otype:lst_usecol:trgw_0_13_10_time:214.0  oname:hds_otype:lst_usecol:trgw_0_13_10_time:214.0   \n",
       "...                                                                                                ...   \n",
       "oname:hds_otype:lst_usecol:trgw_2_9_1_time:32.0        oname:hds_otype:lst_usecol:trgw_2_9_1_time:32.0   \n",
       "oname:hds_otype:lst_usecol:trgw_2_9_1_time:336.0      oname:hds_otype:lst_usecol:trgw_2_9_1_time:336.0   \n",
       "oname:hds_otype:lst_usecol:trgw_2_9_1_time:367.0      oname:hds_otype:lst_usecol:trgw_2_9_1_time:367.0   \n",
       "oname:hds_otype:lst_usecol:trgw_2_9_1_time:61.0        oname:hds_otype:lst_usecol:trgw_2_9_1_time:61.0   \n",
       "oname:hds_otype:lst_usecol:trgw_2_9_1_time:92.0        oname:hds_otype:lst_usecol:trgw_2_9_1_time:92.0   \n",
       "\n",
       "                                                       obsval  weight  \\\n",
       "oname:hds_otype:lst_usecol:trgw_0_13_10_time:1.0    34.406181       0   \n",
       "oname:hds_otype:lst_usecol:trgw_0_13_10_time:122.0  34.450633       0   \n",
       "oname:hds_otype:lst_usecol:trgw_0_13_10_time:153.0  34.441733       0   \n",
       "oname:hds_otype:lst_usecol:trgw_0_13_10_time:183.0  34.375639       0   \n",
       "oname:hds_otype:lst_usecol:trgw_0_13_10_time:214.0  34.323119       0   \n",
       "...                                                       ...     ...   \n",
       "oname:hds_otype:lst_usecol:trgw_2_9_1_time:32.0     35.138463       0   \n",
       "oname:hds_otype:lst_usecol:trgw_2_9_1_time:336.0    35.137710       0   \n",
       "oname:hds_otype:lst_usecol:trgw_2_9_1_time:367.0    35.381095       0   \n",
       "oname:hds_otype:lst_usecol:trgw_2_9_1_time:61.0     35.323660       0   \n",
       "oname:hds_otype:lst_usecol:trgw_2_9_1_time:92.0     35.373418       0   \n",
       "\n",
       "                                                                                     obgnme  \\\n",
       "oname:hds_otype:lst_usecol:trgw_0_13_10_time:1.0    oname:hds_otype:lst_usecol:trgw_0_13_10   \n",
       "oname:hds_otype:lst_usecol:trgw_0_13_10_time:122.0  oname:hds_otype:lst_usecol:trgw_0_13_10   \n",
       "oname:hds_otype:lst_usecol:trgw_0_13_10_time:153.0  oname:hds_otype:lst_usecol:trgw_0_13_10   \n",
       "oname:hds_otype:lst_usecol:trgw_0_13_10_time:183.0  oname:hds_otype:lst_usecol:trgw_0_13_10   \n",
       "oname:hds_otype:lst_usecol:trgw_0_13_10_time:214.0  oname:hds_otype:lst_usecol:trgw_0_13_10   \n",
       "...                                                                                     ...   \n",
       "oname:hds_otype:lst_usecol:trgw_2_9_1_time:32.0       oname:hds_otype:lst_usecol:trgw_2_9_1   \n",
       "oname:hds_otype:lst_usecol:trgw_2_9_1_time:336.0      oname:hds_otype:lst_usecol:trgw_2_9_1   \n",
       "oname:hds_otype:lst_usecol:trgw_2_9_1_time:367.0      oname:hds_otype:lst_usecol:trgw_2_9_1   \n",
       "oname:hds_otype:lst_usecol:trgw_2_9_1_time:61.0       oname:hds_otype:lst_usecol:trgw_2_9_1   \n",
       "oname:hds_otype:lst_usecol:trgw_2_9_1_time:92.0       oname:hds_otype:lst_usecol:trgw_2_9_1   \n",
       "\n",
       "                                                   oname otype usecol   time  \n",
       "oname:hds_otype:lst_usecol:trgw_0_13_10_time:1.0     hds   lst   trgw    1.0  \n",
       "oname:hds_otype:lst_usecol:trgw_0_13_10_time:122.0   hds   lst   trgw  122.0  \n",
       "oname:hds_otype:lst_usecol:trgw_0_13_10_time:153.0   hds   lst   trgw  153.0  \n",
       "oname:hds_otype:lst_usecol:trgw_0_13_10_time:183.0   hds   lst   trgw  183.0  \n",
       "oname:hds_otype:lst_usecol:trgw_0_13_10_time:214.0   hds   lst   trgw  214.0  \n",
       "...                                                  ...   ...    ...    ...  \n",
       "oname:hds_otype:lst_usecol:trgw_2_9_1_time:32.0      hds   lst   trgw   32.0  \n",
       "oname:hds_otype:lst_usecol:trgw_2_9_1_time:336.0     hds   lst   trgw  336.0  \n",
       "oname:hds_otype:lst_usecol:trgw_2_9_1_time:367.0     hds   lst   trgw  367.0  \n",
       "oname:hds_otype:lst_usecol:trgw_2_9_1_time:61.0      hds   lst   trgw   61.0  \n",
       "oname:hds_otype:lst_usecol:trgw_2_9_1_time:92.0      hds   lst   trgw   92.0  \n",
       "\n",
       "[338 rows x 8 columns]"
      ]
     },
     "execution_count": 52,
     "metadata": {},
     "output_type": "execute_result"
    }
   ],
   "source": [
    "obs.loc[(obs['oname']=='hds') & (obs['time'].astype(float) <= 367)]"
   ]
  },
  {
   "cell_type": "markdown",
   "metadata": {},
   "source": [
    "OK, so now let's use this to assign weights to each observation type. We will set weights to the inverse of the standard deviation of our measurment uncertainty.\n",
    "\n",
    "Let's say that stdevs for:\n",
    " - head measurements are is 0.1m,\n",
    " - head time an vertical differences 0.01m\n",
    " - SFR direct and time-differnces will be 10% of the measured value"
   ]
  },
  {
   "cell_type": "code",
   "execution_count": 53,
   "metadata": {
    "execution": {
     "iopub.execute_input": "2022-03-02T05:08:49.238060Z",
     "iopub.status.busy": "2022-03-02T05:08:49.238060Z",
     "iopub.status.idle": "2022-03-02T05:08:49.243046Z",
     "shell.execute_reply": "2022-03-02T05:08:49.243046Z"
    }
   },
   "outputs": [],
   "source": [
    "# direct head measurments\n",
    "obs.loc[(obs['oname']=='hds') & (obs['time'].astype(float) <= 367), 'weight'] = 1/0.1\n",
    "# head time differences\n",
    "obs.loc[(obs['oname']=='hdstd') & (obs['time'].astype(float) <= 367), 'weight'] = 1/0.01\n",
    "# head vertical differences\n",
    "obs.loc[(obs['oname']=='hdsvd') & (obs['time'].astype(float) <= 367), 'weight'] = 1/0.01"
   ]
  },
  {
   "cell_type": "code",
   "execution_count": 54,
   "metadata": {
    "execution": {
     "iopub.execute_input": "2022-03-02T05:08:49.250054Z",
     "iopub.status.busy": "2022-03-02T05:08:49.250054Z",
     "iopub.status.idle": "2022-03-02T05:08:49.252784Z",
     "shell.execute_reply": "2022-03-02T05:08:49.252784Z"
    }
   },
   "outputs": [],
   "source": [
    "# SFR direct measurments\n",
    "weights = 1 / abs(0.1 * obs.loc[(obs['oname']=='sfr') & (obs['time'].astype(float) <= 367), 'obsval'].values)\n",
    "obs.loc[(obs['oname']=='sfr') & (obs['time'].astype(float) <= 367), 'weight'] = weights\n",
    "\n",
    "# SFR time-difference measurments; deal with the first observation value that is == 0\n",
    "weights = 1 / abs(0.1 * obs.loc[(obs['oname']=='sfrtd') & (obs['time'].astype(float) <= 367) &  (obs['obsval'] !=0) , 'obsval'].values)\n",
    "obs.loc[(obs['oname']=='sfrtd') & (obs['time'].astype(float) <= 367) &  (obs['obsval'] !=0), 'weight'] = weights"
   ]
  },
  {
   "cell_type": "markdown",
   "metadata": {},
   "source": [
    "Make sure to re-**write** the PEST control file. But beware, if you re-**build** the `Pst`, all these changes will be lost."
   ]
  },
  {
   "cell_type": "code",
   "execution_count": 55,
   "metadata": {
    "execution": {
     "iopub.execute_input": "2022-03-02T05:08:49.271739Z",
     "iopub.status.busy": "2022-03-02T05:08:49.271739Z",
     "iopub.status.idle": "2022-03-02T05:08:49.473835Z",
     "shell.execute_reply": "2022-03-02T05:08:49.473835Z"
    }
   },
   "outputs": [
    {
     "name": "stdout",
     "output_type": "stream",
     "text": [
      "noptmax:0, npar_adj:28, nnz_obs:377\n"
     ]
    }
   ],
   "source": [
    "pst.write(os.path.join(template_ws, 'freyberg_mf6.pst'))"
   ]
  },
  {
   "cell_type": "markdown",
   "metadata": {},
   "source": [
    "So that was pretty epic. We now have a (very) high-dimensional PEST interface ready to roll. \n",
    "\n",
    "If you inspect the folder, you will see PEST control file and all the necessary instruction and template files. Because we have >10k parameters, version 2 of the PEST control file was written by default. \n",
    "\n",
    "Shall we check that it works? Let's run PEST once (i.e. with NOPTMAX=0). Now, by default, noptmax is set to zero. But just to check:"
   ]
  },
  {
   "cell_type": "code",
   "execution_count": 56,
   "metadata": {
    "execution": {
     "iopub.execute_input": "2022-03-02T05:08:49.477884Z",
     "iopub.status.busy": "2022-03-02T05:08:49.477884Z",
     "iopub.status.idle": "2022-03-02T05:08:49.480848Z",
     "shell.execute_reply": "2022-03-02T05:08:49.480848Z"
    }
   },
   "outputs": [
    {
     "data": {
      "text/plain": [
       "0"
      ]
     },
     "execution_count": 56,
     "metadata": {},
     "output_type": "execute_result"
    }
   ],
   "source": [
    "pst.control_data.noptmax"
   ]
  },
  {
   "cell_type": "markdown",
   "metadata": {},
   "source": [
    "OK, so when we run PEST it will call the model once and then stop. If the next cell is sucessfull, then eveything is working. Check the folder, you should see PEST output files. (We will go into these and how to process PEST outcomes in subsequent tutorials)."
   ]
  },
  {
   "cell_type": "code",
   "execution_count": 57,
   "metadata": {
    "execution": {
     "iopub.execute_input": "2022-03-02T05:08:49.483870Z",
     "iopub.status.busy": "2022-03-02T05:08:49.483870Z",
     "iopub.status.idle": "2022-03-02T05:08:59.659226Z",
     "shell.execute_reply": "2022-03-02T05:08:59.659226Z"
    }
   },
   "outputs": [],
   "source": [
    "pyemu.os_utils.run('pestpp-glm freyberg_mf6.pst', cwd=template_ws)"
   ]
  },
  {
   "cell_type": "code",
   "execution_count": 59,
   "metadata": {},
   "outputs": [
    {
     "name": "stdout",
     "output_type": "stream",
     "text": [
      "Object `pyemu.utils._get_tpl_or_ins_df` not found.\n"
     ]
    }
   ],
   "source": [
    "pyemu.utils"
   ]
  },
  {
   "cell_type": "code",
   "execution_count": null,
   "metadata": {},
   "outputs": [],
   "source": []
  }
 ],
 "metadata": {
  "interpreter": {
   "hash": "b3ba2566441a7c06988d0923437866b63cedc61552a5af99d1f4fb67d367b25f"
  },
  "kernelspec": {
   "display_name": "Python 3 (ipykernel)",
   "language": "python",
   "name": "python3"
  },
  "language_info": {
   "codemirror_mode": {
    "name": "ipython",
    "version": 3
   },
   "file_extension": ".py",
   "mimetype": "text/x-python",
   "name": "python",
   "nbconvert_exporter": "python",
   "pygments_lexer": "ipython3",
   "version": "3.9.10"
  }
 },
 "nbformat": 4,
 "nbformat_minor": 2
}
