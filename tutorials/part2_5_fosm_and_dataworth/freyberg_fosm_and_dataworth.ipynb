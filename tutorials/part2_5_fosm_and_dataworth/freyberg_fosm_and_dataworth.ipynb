{
 "cells": [
  {
   "cell_type": "markdown",
   "metadata": {},
   "source": [
    "# FOSM, data worth and related assessments\n",
    "\n",
    "First Order Second Moment (FOSM), sometimes referred to as linear analysis, provides insights into the decision-support modelling process which are not possible to obtain in any other way. Outcomes are approximate. This is because relationships between groundwater model outputs and parameters are not in fact linear. \n",
    "\n",
    "Undertaking linear analysis requires:\n",
    " - A Jacobian matrix; \n",
    " - The prior parameter covariance matrix;\n",
    " - The covariance matrix of measurement noise.\n",
    "\n",
    "Linear analysis can be accomplished with software from the PEST utilities, PEST++GLM or pyEMU and can be performed before and/or after calibration. It relies on the existence of a Jacobian (sensitivity) matrix, whcih is calculated by PEST/PEST++ by perturbing parameters by a small amount from their initial value. This requires a single model run for each adjustable parameter and that the forecast of interest be included as an observation when filling the Jacobian. Prior parameter and measurement noise covariance matrices must be supplied by the user.\n",
    "\n",
    "FOSM tasks may include:\n",
    " - approximate parameter and predictive uncertainty quantification;\n",
    " - data worth analysis;\n",
    " - assist in identifying parameters that are most salient for forecasts of interest, \n",
    " - identify parameter contributions to predictive uncertainty and \n",
    " - assess parameter identifiability. \n",
    "\n",
    "Visual outcomes of these analyses can provide easily understood insights into what history-matching can achieve, and what it cannot achieve due to lack of information. This can be used to streamline the data assimlation process and guide further site characterisation studies by ensuring effective data collection targeted at reducing the uncertainties of predictions that matter. \n",
    "\n",
    "Data worth analysis identifies relative observation contributions to reducing forecast uncertainty and is “forecast specific”. The value of each observation is compared in terms of its ability to reduce uncertainty of a unique forecast. Assessing data worth does not require that a measured value already be known. Thus it can be a useful tool when prioritizing what new data to collect. There are a few things to consider when including data worth set up as part of a modelling workflow:\n",
    " - any potential new data being assessed must be simulated by the model.\n",
    " - a Jacobian matrix must be calculated that links parameter changes to changes in the pontential new observation values. \n",
    " \n",
    "Thus, it is often useful to think about potential new data early on in the modelling workflow. This allows the modeller to pre-emptively include potential new observations in the PEST dataset with zeroweight (i.e. they do not affect history matching) for later use. "
   ]
  },
  {
   "cell_type": "markdown",
   "metadata": {},
   "source": [
    "### The current tutorial\n",
    " \n",
    "In this notebook, we will use outputs from previous notebooks (in particular `freyberg_glm_1.ipynb`) to undertake data worth assessments based on first-order second-moment (FOSM) techniques. \"Worth\" is framed here in the context of the extent to which the uncertainty surrounding a model prediction of management interest is reduced through data collection.  Given that these anayses can help target and optimize data acquisition strategies, this is a concept that really resonates with decision makers.\n",
    "\n",
    "Note that in this tutorial, we will demonstrate FOSM applied __before__ calibration (i.e. as an optional intermediate step between the `freyberg_glm_1.ipynb` and `freyberg_glm_2.ipynb` notebooks), as several of these techniques can be a usefull tools that aid in the design of the calibration setup. However, they are equaly applicable __after__ calibration. In the `freyberg_glm_2.ipynb` notebook, some outcomes of post-calibration FOSM are discussed. \n",
    "\n",
    "Here we will be using functionality in `pyemu` to undertake FOSM. Similar analyses can be undertaken with the PREDUNC and PREDVAR suite of PEST utilities (see the [GMDSI](https://gmdsi.org/education/tutorials/) website for tutorials on these utilities). "
   ]
  },
  {
   "cell_type": "markdown",
   "metadata": {},
   "source": [
    "### Admin\n",
    "\n",
    "Start off with the usual loading of dependencies and preparing model and PEST files. We will be continuing to work with the MODFLOW6 modified-Freyberg model (see \"freyberg intro to model\" notebook), and the high-dimensional PEST dataset prepared in the \"freyberg glm 1\" notebook. For the purposes of this notebook, you do not require familiarity with previous notebooks (but it helps...). \n",
    "\n",
    "Simply run the next few cells by pressing `shift+enter`."
   ]
  },
  {
   "cell_type": "code",
   "execution_count": 1,
   "metadata": {},
   "outputs": [],
   "source": [
    "import os\n",
    "import warnings\n",
    "warnings.filterwarnings(\"ignore\")\n",
    "warnings.filterwarnings(\"ignore\", category=DeprecationWarning) \n",
    "import pandas as pd\n",
    "import numpy as np\n",
    "import matplotlib.pyplot as plt;\n",
    "import shutil \n",
    "import scipy.stats as stats\n",
    "import math\n",
    "\n",
    "import sys\n",
    "sys.path.append(os.path.join(\"..\", \"..\", \"dependencies\"))\n",
    "import pyemu\n",
    "import flopy"
   ]
  },
  {
   "cell_type": "markdown",
   "metadata": {},
   "source": [
    "We are going to make use of the outcomes of the \"freyberg_glm_1\" tutorial, in which we ran `PEST++GLM` to calculate the jacobian matrix prior to calibration.\n",
    "\n",
    "Let's start by specifying the folder path:"
   ]
  },
  {
   "cell_type": "code",
   "execution_count": 2,
   "metadata": {},
   "outputs": [],
   "source": [
    "m_d = os.path.join(\"..\",\"part2_4_glm\",\"master_glm_1\")\n",
    "\n",
    "# a check to see if the files are avilable\n",
    "if not os.path.exists(m_d):\n",
    "    raise Exception(\"you need to run the '/part2_4_glm/freyberg_glm_1.ipynb' notebook\")"
   ]
  },
  {
   "cell_type": "markdown",
   "metadata": {},
   "source": [
    "OK, now let's read in our PEST control file and take a peek just to recall what is is we are working with:"
   ]
  },
  {
   "cell_type": "code",
   "execution_count": 3,
   "metadata": {},
   "outputs": [
    {
     "name": "stdout",
     "output_type": "stream",
     "text": [
      "adjustable parameters: 415 \n",
      "nonzero observations: 144\n"
     ]
    }
   ],
   "source": [
    "pst = pyemu.Pst(os.path.join(m_d,\"freyberg_pp.pst\"))\n",
    "print('adjustable parameters:',pst.npar_adj,'\\nnonzero observations:', pst.nnz_obs)\n",
    "#pst.write_par_summary_table(filename=\"none\")"
   ]
  },
  {
   "cell_type": "markdown",
   "metadata": {},
   "source": [
    "### Getting ready for FOSM\n",
    "\n",
    "Recall we need three ingredients for FOSM:\n",
    " - parameter covariance matrix \n",
    " - observation noise covariance matrix\n",
    " - jacobian matrix "
   ]
  },
  {
   "cell_type": "markdown",
   "metadata": {},
   "source": [
    "Let's start with the parameter covariance matrix. In this instance, our covariance matrix represents the prior parameter uncertainty. We preprared and recorded a prior covariance matrix when we constructed the PEST dataset (see the \"pstfrom_pest_setup\" tutorial). It is recorded in the file named `prior_cov.jcb`. \n",
    "\n",
    "Let's read it in a as a `pyemu.Cov` object:"
   ]
  },
  {
   "cell_type": "code",
   "execution_count": 4,
   "metadata": {},
   "outputs": [],
   "source": [
    "# read the file\n",
    "cov = pyemu.Cov.from_binary(os.path.join(m_d,\"prior_cov.jcb\")).to_dataframe()\n",
    "# the prior was constructed for the high-dimensional dataset; \n",
    "# but we had to drop lots of parameters to undertake GLM (see \"freyberg_glm_1\" tutorial)\n",
    "# so we need to slice cov to get only adjustable parameter cols/rows\n",
    "cov = cov.loc[pst.adj_par_names,pst.adj_par_names]\n",
    "# and then rebuild it\n",
    "cov = pyemu.Cov.from_dataframe(cov)"
   ]
  },
  {
   "cell_type": "markdown",
   "metadata": {},
   "source": [
    "Take a quick peek:"
   ]
  },
  {
   "cell_type": "code",
   "execution_count": 5,
   "metadata": {},
   "outputs": [
    {
     "data": {
      "text/plain": [
       "<matplotlib.colorbar.Colorbar at 0x29cf76e67c0>"
      ]
     },
     "execution_count": 5,
     "metadata": {},
     "output_type": "execute_result"
    },
    {
     "data": {
      "image/png": "[encoded data removed]",
      "text/plain": [
       "<Figure size 432x288 with 2 Axes>"
      ]
     },
     "metadata": {
      "needs_background": "light"
     },
     "output_type": "display_data"
    }
   ],
   "source": [
    "# let's inspect only\n",
    "x = cov.x.copy()\n",
    "x[x<1e-7] = np.nan\n",
    "c = plt.imshow(x)\n",
    "plt.colorbar()"
   ]
  },
  {
   "cell_type": "markdown",
   "metadata": {},
   "source": [
    "The second ingredient we need is the jacobian matrix. In a previous tutorial, we ran `PEST++GLM` with the `fresyberg_pp.pst` control file to calculate the jacobian for intial parameter values and then stop (by setting `NOPTMAX` to -1). It is stored in the binary file named `freyberg_pp.jcb`.\n",
    "\n",
    "Let's read it in as a `pyemu.Jco`:"
   ]
  },
  {
   "cell_type": "code",
   "execution_count": 6,
   "metadata": {},
   "outputs": [],
   "source": [
    "jco_file = os.path.join(m_d,\"freyberg_pp.jcb\")\n",
    "\n",
    "jco = pyemu.Jco.from_binary(jco_file)"
   ]
  },
  {
   "cell_type": "markdown",
   "metadata": {},
   "source": [
    "Lastly, we are still missing the (diagonal) noise covariance matrix. Unless instructed otherwise, `pyemu` will construct this matrix on-the-fly using weights in the PEST control file (and assuming that weights are the inverse of the standard deviation). \n",
    "\n",
    "Alternatively you can provide a user created covariance matrix, such as the one constructed during the \"obs and weights\" tutorial. It is recorrded in the binary file named `obs_cov.jcb`. Let's load it in:"
   ]
  },
  {
   "cell_type": "code",
   "execution_count": 7,
   "metadata": {},
   "outputs": [],
   "source": [
    "obscov = pyemu.Cov.from_binary(os.path.join(m_d,\"obs_cov.jcb\"))"
   ]
  },
  {
   "cell_type": "markdown",
   "metadata": {},
   "source": [
    "The `Schur` object is one of the primary object for FOSM in pyEMU. It is the starting point for most things FOSM in the `pyemu` world. We are going to pass in our ingredients to instantiate a `Schur` object.\n",
    "\n",
    "Now...`pyemu` is clever and does its best to reduce the amount of information you need to pass explicitly. Minimum requirements are the `Pst` and `Jco`. If not explicitly provided, the (diagonal) observation covariance matrix will be calculated from observation weights in `pst`. If present, forecasts will be populated from the list of `pst.forecast_names`.\n",
    "\n",
    "However, here we will demonstrate by passing each ingredient explicitly:"
   ]
  },
  {
   "cell_type": "code",
   "execution_count": 8,
   "metadata": {},
   "outputs": [
    {
     "data": {
      "text/plain": [
       "<pyemu.sc.Schur at 0x29cf7ac2040>"
      ]
     },
     "execution_count": 8,
     "metadata": {},
     "output_type": "execute_result"
    }
   ],
   "source": [
    "sc = pyemu.Schur(pst=pst, # the pest control file\n",
    "                jco=jco, # the jacobian matrix\n",
    "                parcov=cov, # the parameter covariance matrix; if not provided pyemu calculates from parameter bounds\n",
    "                obscov=obscov, # the obs noise cov matrix; necessary if obs weights in the pst do not reflect uncertainty\n",
    "                forecasts=pst.forecast_names # forecast observation names\n",
    "                )\n",
    "\n",
    "sc"
   ]
  },
  {
   "cell_type": "markdown",
   "metadata": {},
   "source": [
    "So that was easy...but maybe not the standard use case.  In many modeling analyses, there will be a separate scenario model - it is this model that will yield the forecast sensitivity vector(s) needed to map parameter uncertainty to forecast uncertainty.  That is, you will need to run the scenario model once for each parameter to fill a separate jacobian -  jacobian that has the same columns as the obervation jacobian, but has rows that are the forecasts.  \n",
    "\n",
    "In these cases you would have a (1) jacobian that pertains to the history matching model, and (2) a jacobian that pertains to the scenario model. For the purposes of FOSM, you would be interested in the sensitivities of history-matching observations recorded in (1) and sensitivities of forecast observations recorded in (2).\n",
    "\n",
    "Now we didnt do that here - our model forward run includes bth the history matching and scenario periods. But we can \"fake\" it just for the sake of demonstration. Let's pretend that we have a second jacobian calculated using a scenario model:\n"
   ]
  },
  {
   "cell_type": "code",
   "execution_count": 9,
   "metadata": {},
   "outputs": [],
   "source": [
    "pretend_second_jco = pyemu.Jco.from_binary(jco_file)"
   ]
  },
  {
   "cell_type": "markdown",
   "metadata": {},
   "source": [
    "\n",
    "Now we extract the forecast rows from the full jacobian:"
   ]
  },
  {
   "cell_type": "code",
   "execution_count": 10,
   "metadata": {},
   "outputs": [],
   "source": [
    "forecast_jco = pretend_second_jco.get(row_names=pst.forecast_names, drop=True)"
   ]
  },
  {
   "cell_type": "code",
   "execution_count": 11,
   "metadata": {},
   "outputs": [
    {
     "data": {
      "text/plain": [
       "((4, 415), (4623, 415))"
      ]
     },
     "execution_count": 11,
     "metadata": {},
     "output_type": "execute_result"
    }
   ],
   "source": [
    "# shape: number of obs rows, number of par columns\n",
    "forecast_jco.shape, jco.shape"
   ]
  },
  {
   "cell_type": "code",
   "execution_count": 12,
   "metadata": {},
   "outputs": [],
   "source": [
    "sc = pyemu.Schur(pst=pst, # the pest control file\n",
    "                jco=jco, # the jacobian matrix\n",
    "                parcov=cov, # the parameter covariance matrix; if not provided pyemu calculates from parameter bounds\n",
    "                obscov=obscov, # the obs noise cov matrix; necessary if obs weights in the pst do not reflect uncertainty\n",
    "                forecasts=forecast_jco.T # forecast sensitivity vectors\n",
    "                )"
   ]
  },
  {
   "cell_type": "markdown",
   "metadata": {},
   "source": [
    "Boom - easy! \n",
    "\n",
    "All computations are done and contained within `sc`.  We can now access different parts of `sc`. "
   ]
  },
  {
   "cell_type": "markdown",
   "metadata": {},
   "source": [
    "### Posterior Parameter Uncertainty\n",
    "\n",
    "Let's start by calculating the (approximate) __posterior__ parameter covariance matrix. Here, we are updating parameter covariance following notional calibration as represented by te Jacobian matrix and both prior parameter and observation noise covariance matrices. \n",
    "\n",
    "In other words, given prior parameter uncertainty (expressed by the prior `cov` matrix) and the inherent noise in measurments (expressed by the `obscov` matrix), we calculate the expected parameter uncertainty __after__ calibration. This assumes that calibration achieves a fit comensurate with measurement noise, parameter linearity, etc.\n",
    "\n",
    "The posterior parameter covariance is stored as a `pyemu.Cov` object in the `sc.posterior_parameter` attribute:"
   ]
  },
  {
   "cell_type": "code",
   "execution_count": 13,
   "metadata": {},
   "outputs": [
    {
     "data": {
      "text/plain": [
       "<pyemu.mat.mat_handler.Cov at 0x29cf7ac5eb0>"
      ]
     },
     "execution_count": 13,
     "metadata": {},
     "output_type": "execute_result"
    }
   ],
   "source": [
    "sc.posterior_parameter"
   ]
  },
  {
   "cell_type": "markdown",
   "metadata": {},
   "source": [
    "The diagonal of this matrix contains the posterior __variance__ for each parameter. The off-diagonals the parameter covariances. "
   ]
  },
  {
   "cell_type": "code",
   "execution_count": 14,
   "metadata": {},
   "outputs": [
    {
     "data": {
      "text/html": [
       "<div>\n",
       "<style scoped>\n",
       "    .dataframe tbody tr th:only-of-type {\n",
       "        vertical-align: middle;\n",
       "    }\n",
       "\n",
       "    .dataframe tbody tr th {\n",
       "        vertical-align: top;\n",
       "    }\n",
       "\n",
       "    .dataframe thead th {\n",
       "        text-align: right;\n",
       "    }\n",
       "</style>\n",
       "<table border=\"1\" class=\"dataframe\">\n",
       "  <thead>\n",
       "    <tr style=\"text-align: right;\">\n",
       "      <th></th>\n",
       "      <th>pname:ghbcondcn_inst:0_ptype:cn_usecol:4_pstyle:m</th>\n",
       "      <th>pname:ghbheadcn_inst:0_ptype:cn_usecol:3_pstyle:a</th>\n",
       "      <th>pname:nelayer1cn_inst:0_ptype:cn_pstyle:m</th>\n",
       "    </tr>\n",
       "  </thead>\n",
       "  <tbody>\n",
       "    <tr>\n",
       "      <th>pname:ghbcondcn_inst:0_ptype:cn_usecol:4_pstyle:m</th>\n",
       "      <td>0.088765</td>\n",
       "      <td>0.033591</td>\n",
       "      <td>0.000000</td>\n",
       "    </tr>\n",
       "    <tr>\n",
       "      <th>pname:ghbheadcn_inst:0_ptype:cn_usecol:3_pstyle:a</th>\n",
       "      <td>0.033591</td>\n",
       "      <td>0.069985</td>\n",
       "      <td>0.000000</td>\n",
       "    </tr>\n",
       "    <tr>\n",
       "      <th>pname:nelayer1cn_inst:0_ptype:cn_pstyle:m</th>\n",
       "      <td>0.000000</td>\n",
       "      <td>0.000000</td>\n",
       "      <td>0.054284</td>\n",
       "    </tr>\n",
       "  </tbody>\n",
       "</table>\n",
       "</div>"
      ],
      "text/plain": [
       "                                                   pname:ghbcondcn_inst:0_ptype:cn_usecol:4_pstyle:m  \\\n",
       "pname:ghbcondcn_inst:0_ptype:cn_usecol:4_pstyle:m                                           0.088765   \n",
       "pname:ghbheadcn_inst:0_ptype:cn_usecol:3_pstyle:a                                           0.033591   \n",
       "pname:nelayer1cn_inst:0_ptype:cn_pstyle:m                                                   0.000000   \n",
       "\n",
       "                                                   pname:ghbheadcn_inst:0_ptype:cn_usecol:3_pstyle:a  \\\n",
       "pname:ghbcondcn_inst:0_ptype:cn_usecol:4_pstyle:m                                           0.033591   \n",
       "pname:ghbheadcn_inst:0_ptype:cn_usecol:3_pstyle:a                                           0.069985   \n",
       "pname:nelayer1cn_inst:0_ptype:cn_pstyle:m                                                   0.000000   \n",
       "\n",
       "                                                   pname:nelayer1cn_inst:0_ptype:cn_pstyle:m  \n",
       "pname:ghbcondcn_inst:0_ptype:cn_usecol:4_pstyle:m                                   0.000000  \n",
       "pname:ghbheadcn_inst:0_ptype:cn_usecol:3_pstyle:a                                   0.000000  \n",
       "pname:nelayer1cn_inst:0_ptype:cn_pstyle:m                                           0.054284  "
      ]
     },
     "execution_count": 14,
     "metadata": {},
     "output_type": "execute_result"
    }
   ],
   "source": [
    "# display a slice of the cov matrix\n",
    "sc.posterior_parameter.to_dataframe().sort_index().sort_index(axis=1).iloc[0:3,0:3] "
   ]
  },
  {
   "cell_type": "markdown",
   "metadata": {},
   "source": [
    "Let's make a little work of art - a plot of the posterior cov matrix. As expected, we see posterior variance along the diagonal and off-diagonals are symmetric:"
   ]
  },
  {
   "cell_type": "code",
   "execution_count": 15,
   "metadata": {},
   "outputs": [
    {
     "data": {
      "text/plain": [
       "<matplotlib.colorbar.Colorbar at 0x29cf6ff85e0>"
      ]
     },
     "execution_count": 15,
     "metadata": {},
     "output_type": "execute_result"
    },
    {
     "data": {
      "image/png": "[encoded data removed]",
      "text/plain": [
       "<Figure size 432x288 with 2 Axes>"
      ]
     },
     "metadata": {
      "needs_background": "light"
     },
     "output_type": "display_data"
    }
   ],
   "source": [
    "x = sc.posterior_parameter.x.copy()\n",
    "x[x<1e-7] = np.nan\n",
    "c = plt.imshow(x)\n",
    "plt.colorbar(c)"
   ]
  },
  {
   "cell_type": "markdown",
   "metadata": {},
   "source": [
    "But...is calibration worth pursuing or not? Let's explore what the notional calibration is expected to do for parameter uncertainty. We accomplish this by comparing parior and posterior parameter uncertainty. Using `.get_parameters_summary()` makes this easy:"
   ]
  },
  {
   "cell_type": "code",
   "execution_count": 16,
   "metadata": {},
   "outputs": [
    {
     "data": {
      "text/html": [
       "<div>\n",
       "<style scoped>\n",
       "    .dataframe tbody tr th:only-of-type {\n",
       "        vertical-align: middle;\n",
       "    }\n",
       "\n",
       "    .dataframe tbody tr th {\n",
       "        vertical-align: top;\n",
       "    }\n",
       "\n",
       "    .dataframe thead th {\n",
       "        text-align: right;\n",
       "    }\n",
       "</style>\n",
       "<table border=\"1\" class=\"dataframe\">\n",
       "  <thead>\n",
       "    <tr style=\"text-align: right;\">\n",
       "      <th></th>\n",
       "      <th>prior_var</th>\n",
       "      <th>post_var</th>\n",
       "      <th>percent_reduction</th>\n",
       "    </tr>\n",
       "  </thead>\n",
       "  <tbody>\n",
       "    <tr>\n",
       "      <th>pname:sfrcondcn_inst:0_ptype:cn_usecol:9_pstyle:m</th>\n",
       "      <td>0.111111</td>\n",
       "      <td>0.015585</td>\n",
       "      <td>85.973516</td>\n",
       "    </tr>\n",
       "    <tr>\n",
       "      <th>pname:ghbheadcn_inst:0_ptype:cn_usecol:3_pstyle:a</th>\n",
       "      <td>0.444444</td>\n",
       "      <td>0.069985</td>\n",
       "      <td>84.253487</td>\n",
       "    </tr>\n",
       "    <tr>\n",
       "      <th>pname:stosylayer1cn_inst:0_ptype:cn_pstyle:m</th>\n",
       "      <td>0.054284</td>\n",
       "      <td>0.009365</td>\n",
       "      <td>82.749123</td>\n",
       "    </tr>\n",
       "    <tr>\n",
       "      <th>pname:npfklayer3cn_inst:0_ptype:cn_pstyle:m</th>\n",
       "      <td>0.054284</td>\n",
       "      <td>0.009907</td>\n",
       "      <td>81.749753</td>\n",
       "    </tr>\n",
       "    <tr>\n",
       "      <th>pname:npfk33layer2pp_inst:0_ptype:pp_pstyle:m_i:30_j:14_zone:1.0</th>\n",
       "      <td>0.054284</td>\n",
       "      <td>0.020786</td>\n",
       "      <td>61.708661</td>\n",
       "    </tr>\n",
       "  </tbody>\n",
       "</table>\n",
       "</div>"
      ],
      "text/plain": [
       "                                                                  prior_var  \\\n",
       "pname:sfrcondcn_inst:0_ptype:cn_usecol:9_pstyle:m                  0.111111   \n",
       "pname:ghbheadcn_inst:0_ptype:cn_usecol:3_pstyle:a                  0.444444   \n",
       "pname:stosylayer1cn_inst:0_ptype:cn_pstyle:m                       0.054284   \n",
       "pname:npfklayer3cn_inst:0_ptype:cn_pstyle:m                        0.054284   \n",
       "pname:npfk33layer2pp_inst:0_ptype:pp_pstyle:m_i:30_j:14_zone:1.0   0.054284   \n",
       "\n",
       "                                                                  post_var  \\\n",
       "pname:sfrcondcn_inst:0_ptype:cn_usecol:9_pstyle:m                 0.015585   \n",
       "pname:ghbheadcn_inst:0_ptype:cn_usecol:3_pstyle:a                 0.069985   \n",
       "pname:stosylayer1cn_inst:0_ptype:cn_pstyle:m                      0.009365   \n",
       "pname:npfklayer3cn_inst:0_ptype:cn_pstyle:m                       0.009907   \n",
       "pname:npfk33layer2pp_inst:0_ptype:pp_pstyle:m_i:30_j:14_zone:1.0  0.020786   \n",
       "\n",
       "                                                                  percent_reduction  \n",
       "pname:sfrcondcn_inst:0_ptype:cn_usecol:9_pstyle:m                         85.973516  \n",
       "pname:ghbheadcn_inst:0_ptype:cn_usecol:3_pstyle:a                         84.253487  \n",
       "pname:stosylayer1cn_inst:0_ptype:cn_pstyle:m                              82.749123  \n",
       "pname:npfklayer3cn_inst:0_ptype:cn_pstyle:m                               81.749753  \n",
       "pname:npfk33layer2pp_inst:0_ptype:pp_pstyle:m_i:30_j:14_zone:1.0          61.708661  "
      ]
     },
     "execution_count": 16,
     "metadata": {},
     "output_type": "execute_result"
    }
   ],
   "source": [
    "par_sum = sc.get_parameter_summary().sort_values(\"percent_reduction\",ascending=False)\n",
    "par_sum.head()"
   ]
  },
  {
   "cell_type": "markdown",
   "metadata": {},
   "source": [
    "As the name suggests, the `percent_reduction` column in `par_sum`shows the percentage decrease in uncertainty achievable through calibration for each parameter.\n",
    "\n",
    "For example, we can plot up the best ten:"
   ]
  },
  {
   "cell_type": "code",
   "execution_count": 17,
   "metadata": {},
   "outputs": [
    {
     "data": {
      "text/plain": [
       "Text(0.5, 1.0, 'Percent Reduction')"
      ]
     },
     "execution_count": 17,
     "metadata": {},
     "output_type": "execute_result"
    },
    {
     "data": {
      "image/png": "[encoded data removed]",
      "text/plain": [
       "<Figure size 432x288 with 1 Axes>"
      ]
     },
     "metadata": {
      "needs_background": "light"
     },
     "output_type": "display_data"
    }
   ],
   "source": [
    "# we can plot up the top 10 uncertainty reductions\n",
    "par_sum.iloc[0:10,:]['percent_reduction'].plot(kind='bar')\n",
    "plt.title('Percent Reduction')"
   ]
  },
  {
   "cell_type": "markdown",
   "metadata": {},
   "source": [
    "Alternatively we can compare the prior nad posterior variances for the best ten:"
   ]
  },
  {
   "cell_type": "code",
   "execution_count": 18,
   "metadata": {},
   "outputs": [
    {
     "data": {
      "text/plain": [
       "<AxesSubplot:>"
      ]
     },
     "execution_count": 18,
     "metadata": {},
     "output_type": "execute_result"
    },
    {
     "data": {
      "image/png": "[encoded data removed]",
      "text/plain": [
       "<Figure size 432x288 with 1 Axes>"
      ]
     },
     "metadata": {
      "needs_background": "light"
     },
     "output_type": "display_data"
    }
   ],
   "source": [
    "# we can plot up the prior and posterior variance \n",
    "# of the top 10 percent reductions\n",
    "par_sum.iloc[0:10,:][['prior_var','post_var']].plot(kind='bar')"
   ]
  },
  {
   "cell_type": "markdown",
   "metadata": {},
   "source": [
    "From the two plots above we can see that calibrating the model with available data reduces uncertainty of some parameters."
   ]
  },
  {
   "cell_type": "markdown",
   "metadata": {},
   "source": [
    "Let's look at the other end of the spectrum - parameters for which there was little uncertainty reduction. Let's insepect the end of the parameter summary dataframe:"
   ]
  },
  {
   "cell_type": "code",
   "execution_count": 19,
   "metadata": {},
   "outputs": [
    {
     "data": {
      "text/html": [
       "<div>\n",
       "<style scoped>\n",
       "    .dataframe tbody tr th:only-of-type {\n",
       "        vertical-align: middle;\n",
       "    }\n",
       "\n",
       "    .dataframe tbody tr th {\n",
       "        vertical-align: top;\n",
       "    }\n",
       "\n",
       "    .dataframe thead th {\n",
       "        text-align: right;\n",
       "    }\n",
       "</style>\n",
       "<table border=\"1\" class=\"dataframe\">\n",
       "  <thead>\n",
       "    <tr style=\"text-align: right;\">\n",
       "      <th></th>\n",
       "      <th>prior_var</th>\n",
       "      <th>post_var</th>\n",
       "      <th>percent_reduction</th>\n",
       "    </tr>\n",
       "  </thead>\n",
       "  <tbody>\n",
       "    <tr>\n",
       "      <th>pname:nelayer2pp_inst:0_ptype:pp_pstyle:m_i:2_j:6_zone:1.0</th>\n",
       "      <td>0.054284</td>\n",
       "      <td>0.054284</td>\n",
       "      <td>-4.440892e-14</td>\n",
       "    </tr>\n",
       "    <tr>\n",
       "      <th>pname:nelayer3pp_inst:0_ptype:pp_pstyle:m_i:26_j:2_zone:1.0</th>\n",
       "      <td>0.054284</td>\n",
       "      <td>0.054284</td>\n",
       "      <td>-4.440892e-14</td>\n",
       "    </tr>\n",
       "    <tr>\n",
       "      <th>pname:nelayer2pp_inst:0_ptype:pp_pstyle:m_i:34_j:14_zone:1.0</th>\n",
       "      <td>0.054284</td>\n",
       "      <td>0.054284</td>\n",
       "      <td>-4.440892e-14</td>\n",
       "    </tr>\n",
       "    <tr>\n",
       "      <th>pname:nelayer1pp_inst:0_ptype:pp_pstyle:m_i:22_j:10_zone:1.0</th>\n",
       "      <td>0.054284</td>\n",
       "      <td>0.054284</td>\n",
       "      <td>-4.440892e-14</td>\n",
       "    </tr>\n",
       "    <tr>\n",
       "      <th>pname:nelayer1pp_inst:0_ptype:pp_pstyle:m_i:26_j:2_zone:1.0</th>\n",
       "      <td>0.054284</td>\n",
       "      <td>0.054284</td>\n",
       "      <td>-4.440892e-14</td>\n",
       "    </tr>\n",
       "  </tbody>\n",
       "</table>\n",
       "</div>"
      ],
      "text/plain": [
       "                                                              prior_var  \\\n",
       "pname:nelayer2pp_inst:0_ptype:pp_pstyle:m_i:2_j:6_zone:1.0     0.054284   \n",
       "pname:nelayer3pp_inst:0_ptype:pp_pstyle:m_i:26_j:2_zone:1.0    0.054284   \n",
       "pname:nelayer2pp_inst:0_ptype:pp_pstyle:m_i:34_j:14_zone:1.0   0.054284   \n",
       "pname:nelayer1pp_inst:0_ptype:pp_pstyle:m_i:22_j:10_zone:1.0   0.054284   \n",
       "pname:nelayer1pp_inst:0_ptype:pp_pstyle:m_i:26_j:2_zone:1.0    0.054284   \n",
       "\n",
       "                                                              post_var  \\\n",
       "pname:nelayer2pp_inst:0_ptype:pp_pstyle:m_i:2_j:6_zone:1.0    0.054284   \n",
       "pname:nelayer3pp_inst:0_ptype:pp_pstyle:m_i:26_j:2_zone:1.0   0.054284   \n",
       "pname:nelayer2pp_inst:0_ptype:pp_pstyle:m_i:34_j:14_zone:1.0  0.054284   \n",
       "pname:nelayer1pp_inst:0_ptype:pp_pstyle:m_i:22_j:10_zone:1.0  0.054284   \n",
       "pname:nelayer1pp_inst:0_ptype:pp_pstyle:m_i:26_j:2_zone:1.0   0.054284   \n",
       "\n",
       "                                                              percent_reduction  \n",
       "pname:nelayer2pp_inst:0_ptype:pp_pstyle:m_i:2_j:6_zone:1.0        -4.440892e-14  \n",
       "pname:nelayer3pp_inst:0_ptype:pp_pstyle:m_i:26_j:2_zone:1.0       -4.440892e-14  \n",
       "pname:nelayer2pp_inst:0_ptype:pp_pstyle:m_i:34_j:14_zone:1.0      -4.440892e-14  \n",
       "pname:nelayer1pp_inst:0_ptype:pp_pstyle:m_i:22_j:10_zone:1.0      -4.440892e-14  \n",
       "pname:nelayer1pp_inst:0_ptype:pp_pstyle:m_i:26_j:2_zone:1.0       -4.440892e-14  "
      ]
     },
     "execution_count": 19,
     "metadata": {},
     "output_type": "execute_result"
    }
   ],
   "source": [
    "par_sum.iloc[-5:,:]"
   ]
  },
  {
   "cell_type": "markdown",
   "metadata": {},
   "source": [
    "Hmm - looks like there are some parameters which are not informed by calibration. Not surprising. For example, we are adjusting porosity values, but have no calibration observations which are affected by porosity..."
   ]
  },
  {
   "cell_type": "code",
   "execution_count": 20,
   "metadata": {},
   "outputs": [
    {
     "data": {
      "text/html": [
       "<div>\n",
       "<style scoped>\n",
       "    .dataframe tbody tr th:only-of-type {\n",
       "        vertical-align: middle;\n",
       "    }\n",
       "\n",
       "    .dataframe tbody tr th {\n",
       "        vertical-align: top;\n",
       "    }\n",
       "\n",
       "    .dataframe thead th {\n",
       "        text-align: right;\n",
       "    }\n",
       "</style>\n",
       "<table border=\"1\" class=\"dataframe\">\n",
       "  <thead>\n",
       "    <tr style=\"text-align: right;\">\n",
       "      <th></th>\n",
       "      <th>prior_var</th>\n",
       "      <th>post_var</th>\n",
       "      <th>percent_reduction</th>\n",
       "    </tr>\n",
       "  </thead>\n",
       "  <tbody>\n",
       "    <tr>\n",
       "      <th>pname:nelayer2pp_inst:0_ptype:pp_pstyle:m_i:2_j:6_zone:1.0</th>\n",
       "      <td>0.054284</td>\n",
       "      <td>0.054284</td>\n",
       "      <td>-4.440892e-14</td>\n",
       "    </tr>\n",
       "    <tr>\n",
       "      <th>pname:nelayer3pp_inst:0_ptype:pp_pstyle:m_i:26_j:2_zone:1.0</th>\n",
       "      <td>0.054284</td>\n",
       "      <td>0.054284</td>\n",
       "      <td>-4.440892e-14</td>\n",
       "    </tr>\n",
       "    <tr>\n",
       "      <th>pname:nelayer2pp_inst:0_ptype:pp_pstyle:m_i:34_j:14_zone:1.0</th>\n",
       "      <td>0.054284</td>\n",
       "      <td>0.054284</td>\n",
       "      <td>-4.440892e-14</td>\n",
       "    </tr>\n",
       "    <tr>\n",
       "      <th>pname:nelayer1pp_inst:0_ptype:pp_pstyle:m_i:22_j:10_zone:1.0</th>\n",
       "      <td>0.054284</td>\n",
       "      <td>0.054284</td>\n",
       "      <td>-4.440892e-14</td>\n",
       "    </tr>\n",
       "    <tr>\n",
       "      <th>pname:nelayer1pp_inst:0_ptype:pp_pstyle:m_i:26_j:2_zone:1.0</th>\n",
       "      <td>0.054284</td>\n",
       "      <td>0.054284</td>\n",
       "      <td>-4.440892e-14</td>\n",
       "    </tr>\n",
       "  </tbody>\n",
       "</table>\n",
       "</div>"
      ],
      "text/plain": [
       "                                                              prior_var  \\\n",
       "pname:nelayer2pp_inst:0_ptype:pp_pstyle:m_i:2_j:6_zone:1.0     0.054284   \n",
       "pname:nelayer3pp_inst:0_ptype:pp_pstyle:m_i:26_j:2_zone:1.0    0.054284   \n",
       "pname:nelayer2pp_inst:0_ptype:pp_pstyle:m_i:34_j:14_zone:1.0   0.054284   \n",
       "pname:nelayer1pp_inst:0_ptype:pp_pstyle:m_i:22_j:10_zone:1.0   0.054284   \n",
       "pname:nelayer1pp_inst:0_ptype:pp_pstyle:m_i:26_j:2_zone:1.0    0.054284   \n",
       "\n",
       "                                                              post_var  \\\n",
       "pname:nelayer2pp_inst:0_ptype:pp_pstyle:m_i:2_j:6_zone:1.0    0.054284   \n",
       "pname:nelayer3pp_inst:0_ptype:pp_pstyle:m_i:26_j:2_zone:1.0   0.054284   \n",
       "pname:nelayer2pp_inst:0_ptype:pp_pstyle:m_i:34_j:14_zone:1.0  0.054284   \n",
       "pname:nelayer1pp_inst:0_ptype:pp_pstyle:m_i:22_j:10_zone:1.0  0.054284   \n",
       "pname:nelayer1pp_inst:0_ptype:pp_pstyle:m_i:26_j:2_zone:1.0   0.054284   \n",
       "\n",
       "                                                              percent_reduction  \n",
       "pname:nelayer2pp_inst:0_ptype:pp_pstyle:m_i:2_j:6_zone:1.0        -4.440892e-14  \n",
       "pname:nelayer3pp_inst:0_ptype:pp_pstyle:m_i:26_j:2_zone:1.0       -4.440892e-14  \n",
       "pname:nelayer2pp_inst:0_ptype:pp_pstyle:m_i:34_j:14_zone:1.0      -4.440892e-14  \n",
       "pname:nelayer1pp_inst:0_ptype:pp_pstyle:m_i:22_j:10_zone:1.0      -4.440892e-14  \n",
       "pname:nelayer1pp_inst:0_ptype:pp_pstyle:m_i:26_j:2_zone:1.0       -4.440892e-14  "
      ]
     },
     "execution_count": 20,
     "metadata": {},
     "output_type": "execute_result"
    }
   ],
   "source": [
    "par_sum.tail()"
   ]
  },
  {
   "cell_type": "markdown",
   "metadata": {},
   "source": [
    "Let's make a quick check of what parameter groups these un-informed parameters are part of:"
   ]
  },
  {
   "cell_type": "code",
   "execution_count": 21,
   "metadata": {},
   "outputs": [
    {
     "data": {
      "text/plain": [
       "array(['sfrgr', 'npfklayer2pp', 'welcst', 'npfklayer1pp', 'npfklayer2cn',\n",
       "       'stosslayer3pp', 'stosslayer3cn', 'stosslayer2cn', 'nelayer1pp',\n",
       "       'nelayer3pp', 'nelayer2pp', 'rch_recharge_23tcn',\n",
       "       'rch_recharge_22tcn', 'nelayer1cn', 'rch_recharge_24tcn',\n",
       "       'rch_recharge_21tcn', 'rch_recharge_25tcn', 'rch_recharge_20tcn',\n",
       "       'nelayer3cn', 'rch_recharge_19tcn', 'rch_recharge_18tcn',\n",
       "       'rch_recharge_17tcn', 'rch_recharge_16tcn', 'nelayer2cn',\n",
       "       'rch_recharge_15tcn', 'rch_recharge_14tcn'], dtype=object)"
      ]
     },
     "execution_count": 21,
     "metadata": {},
     "output_type": "execute_result"
    }
   ],
   "source": [
    "# get list of parnames with <1% uncert reduction\n",
    "uninf_par_names = par_sum.loc[par_sum['percent_reduction']<1].index.values\n",
    "\n",
    "# get corresponding par group names\n",
    "pst.parameter_data.loc[uninf_par_names, 'pargp'].unique()"
   ]
  },
  {
   "cell_type": "markdown",
   "metadata": {},
   "source": [
    "So, not too surprising to see porosity parameters groups as well as parameters for recharge in the prediction period. Others, such as storage and permeability parameter groups, indicate that available observation data is not informative for the entire model domain."
   ]
  },
  {
   "cell_type": "markdown",
   "metadata": {},
   "source": [
    "In summary, some parameter uncertainty will be reduced. Uncertainty for other parameters will not be reduced. That's great and all, but what we really care about are our forecast uncertainties. Do the parameters that are informed by calibration affect the forecast of interest? And will calibrating reduce the uncertainty of the forecast?"
   ]
  },
  {
   "cell_type": "markdown",
   "metadata": {},
   "source": [
    "### Forecast Uncertainty"
   ]
  },
  {
   "cell_type": "markdown",
   "metadata": {},
   "source": [
    "Let's examine the prior and posterior variance of our forecasts. Recall that these are recorded as observations in the `Pst` control file and also listed in the pest++ `forecast` control variable:"
   ]
  },
  {
   "cell_type": "code",
   "execution_count": 22,
   "metadata": {},
   "outputs": [
    {
     "data": {
      "text/plain": [
       "['oname:sfr_otype:lst_usecol:tailwater_time:4383.5',\n",
       " 'oname:sfr_otype:lst_usecol:headwater_time:4383.5',\n",
       " 'oname:hds_otype:lst_usecol:trgw-0-9-1_time:4383.5',\n",
       " 'part_time']"
      ]
     },
     "execution_count": 22,
     "metadata": {},
     "output_type": "execute_result"
    }
   ],
   "source": [
    "forecasts = sc.pst.forecast_names\n",
    "forecasts"
   ]
  },
  {
   "cell_type": "markdown",
   "metadata": {},
   "source": [
    "As before, `pyemu` has already done much of the heavy-lifting. We can get a summary of the forecast prior and posterior variances with `.get_forecast_summary()`:"
   ]
  },
  {
   "cell_type": "code",
   "execution_count": 23,
   "metadata": {},
   "outputs": [
    {
     "data": {
      "text/html": [
       "<div>\n",
       "<style scoped>\n",
       "    .dataframe tbody tr th:only-of-type {\n",
       "        vertical-align: middle;\n",
       "    }\n",
       "\n",
       "    .dataframe tbody tr th {\n",
       "        vertical-align: top;\n",
       "    }\n",
       "\n",
       "    .dataframe thead th {\n",
       "        text-align: right;\n",
       "    }\n",
       "</style>\n",
       "<table border=\"1\" class=\"dataframe\">\n",
       "  <thead>\n",
       "    <tr style=\"text-align: right;\">\n",
       "      <th></th>\n",
       "      <th>prior_var</th>\n",
       "      <th>post_var</th>\n",
       "      <th>percent_reduction</th>\n",
       "    </tr>\n",
       "  </thead>\n",
       "  <tbody>\n",
       "    <tr>\n",
       "      <th>oname:sfr_otype:lst_usecol:tailwater_time:4383.5</th>\n",
       "      <td>1.750545e+05</td>\n",
       "      <td>3.605622e+04</td>\n",
       "      <td>79.402861</td>\n",
       "    </tr>\n",
       "    <tr>\n",
       "      <th>oname:sfr_otype:lst_usecol:headwater_time:4383.5</th>\n",
       "      <td>8.510625e+04</td>\n",
       "      <td>2.845061e+04</td>\n",
       "      <td>66.570483</td>\n",
       "    </tr>\n",
       "    <tr>\n",
       "      <th>oname:hds_otype:lst_usecol:trgw-0-9-1_time:4383.5</th>\n",
       "      <td>2.466010e-01</td>\n",
       "      <td>4.387930e-02</td>\n",
       "      <td>82.206363</td>\n",
       "    </tr>\n",
       "    <tr>\n",
       "      <th>part_time</th>\n",
       "      <td>9.503174e+10</td>\n",
       "      <td>2.812175e+10</td>\n",
       "      <td>70.408048</td>\n",
       "    </tr>\n",
       "  </tbody>\n",
       "</table>\n",
       "</div>"
      ],
      "text/plain": [
       "                                                      prior_var      post_var  \\\n",
       "oname:sfr_otype:lst_usecol:tailwater_time:4383.5   1.750545e+05  3.605622e+04   \n",
       "oname:sfr_otype:lst_usecol:headwater_time:4383.5   8.510625e+04  2.845061e+04   \n",
       "oname:hds_otype:lst_usecol:trgw-0-9-1_time:4383.5  2.466010e-01  4.387930e-02   \n",
       "part_time                                          9.503174e+10  2.812175e+10   \n",
       "\n",
       "                                                   percent_reduction  \n",
       "oname:sfr_otype:lst_usecol:tailwater_time:4383.5           79.402861  \n",
       "oname:sfr_otype:lst_usecol:headwater_time:4383.5           66.570483  \n",
       "oname:hds_otype:lst_usecol:trgw-0-9-1_time:4383.5          82.206363  \n",
       "part_time                                                  70.408048  "
      ]
     },
     "execution_count": 23,
     "metadata": {},
     "output_type": "execute_result"
    }
   ],
   "source": [
    "df = sc.get_forecast_summary()\n",
    "df"
   ]
  },
  {
   "cell_type": "markdown",
   "metadata": {},
   "source": [
    "And we can make a cheeky little plot of that. As you can see, unsurprisingly some observations benefit more than others from calibration. So, depending on the foreacst of interest, calibration may or may not be worthwhile..."
   ]
  },
  {
   "cell_type": "code",
   "execution_count": 24,
   "metadata": {},
   "outputs": [
    {
     "data": {
      "image/png": "[encoded data removed]",
      "text/plain": [
       "<Figure size 432x288 with 1 Axes>"
      ]
     },
     "metadata": {
      "needs_background": "light"
     },
     "output_type": "display_data"
    }
   ],
   "source": [
    "# get the forecast summary then make a bar chart of the percent_reduction column\n",
    "fig = plt.figure()\n",
    "ax = plt.subplot(111)\n",
    "ax = df.percent_reduction.plot(kind='bar',ax=ax,grid=True)\n",
    "ax.set_ylabel(\"percent uncertainy\\nreduction from calibration\")\n",
    "ax.set_xlabel(\"forecast\")\n",
    "plt.tight_layout()"
   ]
  },
  {
   "cell_type": "markdown",
   "metadata": {},
   "source": [
    "# TODO \n",
    "Another way to look at this....\n",
    "\n",
    "\n",
    "...foreshadowing of hypothesis testing"
   ]
  },
  {
   "cell_type": "code",
   "execution_count": 25,
   "metadata": {},
   "outputs": [
    {
     "data": {
      "text/html": [
       "<div>\n",
       "<style scoped>\n",
       "    .dataframe tbody tr th:only-of-type {\n",
       "        vertical-align: middle;\n",
       "    }\n",
       "\n",
       "    .dataframe tbody tr th {\n",
       "        vertical-align: top;\n",
       "    }\n",
       "\n",
       "    .dataframe thead th {\n",
       "        text-align: right;\n",
       "    }\n",
       "</style>\n",
       "<table border=\"1\" class=\"dataframe\">\n",
       "  <thead>\n",
       "    <tr style=\"text-align: right;\">\n",
       "      <th></th>\n",
       "      <th>name</th>\n",
       "      <th>group</th>\n",
       "      <th>measured</th>\n",
       "      <th>modelled</th>\n",
       "      <th>residual</th>\n",
       "      <th>weight</th>\n",
       "    </tr>\n",
       "    <tr>\n",
       "      <th>name</th>\n",
       "      <th></th>\n",
       "      <th></th>\n",
       "      <th></th>\n",
       "      <th></th>\n",
       "      <th></th>\n",
       "      <th></th>\n",
       "    </tr>\n",
       "  </thead>\n",
       "  <tbody>\n",
       "    <tr>\n",
       "      <th>oname:sfr_otype:lst_usecol:tailwater_time:4383.5</th>\n",
       "      <td>oname:sfr_otype:lst_usecol:tailwater_time:4383.5</td>\n",
       "      <td>oname:sfr_otype:lst_usecol:tailwater</td>\n",
       "      <td>-155.957422</td>\n",
       "      <td>-519.184506</td>\n",
       "      <td>363.227084</td>\n",
       "      <td>0.0</td>\n",
       "    </tr>\n",
       "    <tr>\n",
       "      <th>oname:sfr_otype:lst_usecol:headwater_time:4383.5</th>\n",
       "      <td>oname:sfr_otype:lst_usecol:headwater_time:4383.5</td>\n",
       "      <td>oname:sfr_otype:lst_usecol:headwater</td>\n",
       "      <td>-539.714225</td>\n",
       "      <td>-694.299524</td>\n",
       "      <td>154.585299</td>\n",
       "      <td>0.0</td>\n",
       "    </tr>\n",
       "    <tr>\n",
       "      <th>oname:hds_otype:lst_usecol:trgw-0-9-1_time:4383.5</th>\n",
       "      <td>oname:hds_otype:lst_usecol:trgw-0-9-1_time:4383.5</td>\n",
       "      <td>oname:hds_otype:lst_usecol:trgw-0-9-1</td>\n",
       "      <td>36.159077</td>\n",
       "      <td>34.809963</td>\n",
       "      <td>1.349114</td>\n",
       "      <td>0.0</td>\n",
       "    </tr>\n",
       "    <tr>\n",
       "      <th>part_time</th>\n",
       "      <td>part_time</td>\n",
       "      <td>part</td>\n",
       "      <td>175553.227500</td>\n",
       "      <td>211849.244600</td>\n",
       "      <td>-36296.017100</td>\n",
       "      <td>0.0</td>\n",
       "    </tr>\n",
       "  </tbody>\n",
       "</table>\n",
       "</div>"
      ],
      "text/plain": [
       "                                                                                                name  \\\n",
       "name                                                                                                   \n",
       "oname:sfr_otype:lst_usecol:tailwater_time:4383.5    oname:sfr_otype:lst_usecol:tailwater_time:4383.5   \n",
       "oname:sfr_otype:lst_usecol:headwater_time:4383.5    oname:sfr_otype:lst_usecol:headwater_time:4383.5   \n",
       "oname:hds_otype:lst_usecol:trgw-0-9-1_time:4383.5  oname:hds_otype:lst_usecol:trgw-0-9-1_time:4383.5   \n",
       "part_time                                                                                  part_time   \n",
       "\n",
       "                                                                                   group  \\\n",
       "name                                                                                       \n",
       "oname:sfr_otype:lst_usecol:tailwater_time:4383.5    oname:sfr_otype:lst_usecol:tailwater   \n",
       "oname:sfr_otype:lst_usecol:headwater_time:4383.5    oname:sfr_otype:lst_usecol:headwater   \n",
       "oname:hds_otype:lst_usecol:trgw-0-9-1_time:4383.5  oname:hds_otype:lst_usecol:trgw-0-9-1   \n",
       "part_time                                                                           part   \n",
       "\n",
       "                                                        measured  \\\n",
       "name                                                               \n",
       "oname:sfr_otype:lst_usecol:tailwater_time:4383.5     -155.957422   \n",
       "oname:sfr_otype:lst_usecol:headwater_time:4383.5     -539.714225   \n",
       "oname:hds_otype:lst_usecol:trgw-0-9-1_time:4383.5      36.159077   \n",
       "part_time                                          175553.227500   \n",
       "\n",
       "                                                        modelled  \\\n",
       "name                                                               \n",
       "oname:sfr_otype:lst_usecol:tailwater_time:4383.5     -519.184506   \n",
       "oname:sfr_otype:lst_usecol:headwater_time:4383.5     -694.299524   \n",
       "oname:hds_otype:lst_usecol:trgw-0-9-1_time:4383.5      34.809963   \n",
       "part_time                                          211849.244600   \n",
       "\n",
       "                                                       residual  weight  \n",
       "name                                                                     \n",
       "oname:sfr_otype:lst_usecol:tailwater_time:4383.5     363.227084     0.0  \n",
       "oname:sfr_otype:lst_usecol:headwater_time:4383.5     154.585299     0.0  \n",
       "oname:hds_otype:lst_usecol:trgw-0-9-1_time:4383.5      1.349114     0.0  \n",
       "part_time                                         -36296.017100     0.0  "
      ]
     },
     "execution_count": 25,
     "metadata": {},
     "output_type": "execute_result"
    }
   ],
   "source": [
    "pst.res.loc[forecasts]"
   ]
  },
  {
   "cell_type": "code",
   "execution_count": 43,
   "metadata": {},
   "outputs": [
    {
     "data": {
      "image/png": "[encoded data removed]",
      "text/plain": [
       "<Figure size 1080x288 with 4 Axes>"
      ]
     },
     "metadata": {
      "needs_background": "light"
     },
     "output_type": "display_data"
    }
   ],
   "source": [
    "plt.figure(figsize=(15,4))\n",
    "i=1\n",
    "forecast = forecasts[-1]\n",
    "for forecast in forecasts:\n",
    "    ax = plt.subplot(1,4,i,)\n",
    "    i+=1\n",
    "    mu = pst.res.loc[forecast,'modelled']\n",
    "    variance = df.loc[forecast, 'post_var']\n",
    "\n",
    "    bt = pst.res.loc[forecast,'measured']\n",
    "\n",
    "    sigma = math.sqrt(variance)\n",
    "    x = np.linspace(mu - 3*sigma, mu + 3*sigma, 100)\n",
    "    pdf=stats.norm.pdf(x, mu, sigma)\n",
    "    ax.fill_between(x, pdf, alpha=0.5,)\n",
    "    ax.vlines(x=bt, ymin=0, ymax=max(pdf), color='red', label='bad thing')\n",
    "    ax.set_ylim(0)\n",
    "    ax.set_yticklabels([])\n",
    "    ax.set_title(forecast)"
   ]
  },
  {
   "cell_type": "markdown",
   "metadata": {},
   "source": [
    "## Parameter contribution to forecast uncertainty\n",
    "\n",
    "Information flows from observations to parameters and then out to forecasts. Information contained in obsveration data constrains parameter uncertainty, whcich in turn constrains forecast uncertainty. For a given forecast, we can evaluate which information contributes the most to uncertainty. This is accomplished by assuming a parameter (or group of parmaeters) is perfectly known and ssessing forecast uncertainty under that assumption. Comparing this uncertainty to the forecast uncertainty under the base assumption in which no parameter is perfectly known, the contribution from that parameter (or parameter group) is obtained. \n",
    "\n",
    "Now, this is a pretty big assumption - in practice a parameter is never perfectly known. Nevertheless, this metric can provide usefull insights into the flow of information from data to forecast uncertianty which can help guide data assimilation design as well as future data collection efforts. "
   ]
  },
  {
   "cell_type": "markdown",
   "metadata": {},
   "source": [
    "In `pyemu` we can  evaluate parameter contributions to forecast uncertainty with groups of parameters by type using `.get_par_group_contribution()`:"
   ]
  },
  {
   "cell_type": "code",
   "execution_count": 27,
   "metadata": {},
   "outputs": [
    {
     "data": {
      "text/html": [
       "<div>\n",
       "<style scoped>\n",
       "    .dataframe tbody tr th:only-of-type {\n",
       "        vertical-align: middle;\n",
       "    }\n",
       "\n",
       "    .dataframe tbody tr th {\n",
       "        vertical-align: top;\n",
       "    }\n",
       "\n",
       "    .dataframe thead th {\n",
       "        text-align: right;\n",
       "    }\n",
       "</style>\n",
       "<table border=\"1\" class=\"dataframe\">\n",
       "  <thead>\n",
       "    <tr style=\"text-align: right;\">\n",
       "      <th></th>\n",
       "      <th>oname:sfr_otype:lst_usecol:tailwater_time:4383.5</th>\n",
       "      <th>oname:sfr_otype:lst_usecol:headwater_time:4383.5</th>\n",
       "      <th>oname:hds_otype:lst_usecol:trgw-0-9-1_time:4383.5</th>\n",
       "      <th>part_time</th>\n",
       "    </tr>\n",
       "  </thead>\n",
       "  <tbody>\n",
       "    <tr>\n",
       "      <th>base</th>\n",
       "      <td>36056.219454</td>\n",
       "      <td>28450.607196</td>\n",
       "      <td>0.043879</td>\n",
       "      <td>2.812175e+10</td>\n",
       "    </tr>\n",
       "    <tr>\n",
       "      <th>ghbcondcn</th>\n",
       "      <td>36041.638651</td>\n",
       "      <td>28030.238181</td>\n",
       "      <td>0.043482</td>\n",
       "      <td>2.807490e+10</td>\n",
       "    </tr>\n",
       "    <tr>\n",
       "      <th>ghbheadcn</th>\n",
       "      <td>28118.669459</td>\n",
       "      <td>28089.915854</td>\n",
       "      <td>0.041569</td>\n",
       "      <td>2.336186e+10</td>\n",
       "    </tr>\n",
       "    <tr>\n",
       "      <th>nelayer1cn</th>\n",
       "      <td>36056.219454</td>\n",
       "      <td>28450.607196</td>\n",
       "      <td>0.043879</td>\n",
       "      <td>2.811822e+10</td>\n",
       "    </tr>\n",
       "    <tr>\n",
       "      <th>nelayer1pp</th>\n",
       "      <td>36056.219454</td>\n",
       "      <td>28450.607196</td>\n",
       "      <td>0.043879</td>\n",
       "      <td>2.811940e+10</td>\n",
       "    </tr>\n",
       "  </tbody>\n",
       "</table>\n",
       "</div>"
      ],
      "text/plain": [
       "            oname:sfr_otype:lst_usecol:tailwater_time:4383.5  \\\n",
       "base                                            36056.219454   \n",
       "ghbcondcn                                       36041.638651   \n",
       "ghbheadcn                                       28118.669459   \n",
       "nelayer1cn                                      36056.219454   \n",
       "nelayer1pp                                      36056.219454   \n",
       "\n",
       "            oname:sfr_otype:lst_usecol:headwater_time:4383.5  \\\n",
       "base                                            28450.607196   \n",
       "ghbcondcn                                       28030.238181   \n",
       "ghbheadcn                                       28089.915854   \n",
       "nelayer1cn                                      28450.607196   \n",
       "nelayer1pp                                      28450.607196   \n",
       "\n",
       "            oname:hds_otype:lst_usecol:trgw-0-9-1_time:4383.5     part_time  \n",
       "base                                                 0.043879  2.812175e+10  \n",
       "ghbcondcn                                            0.043482  2.807490e+10  \n",
       "ghbheadcn                                            0.041569  2.336186e+10  \n",
       "nelayer1cn                                           0.043879  2.811822e+10  \n",
       "nelayer1pp                                           0.043879  2.811940e+10  "
      ]
     },
     "execution_count": 27,
     "metadata": {},
     "output_type": "execute_result"
    }
   ],
   "source": [
    "par_contrib = sc.get_par_group_contribution()\n",
    "\n",
    "par_contrib.head()"
   ]
  },
  {
   "cell_type": "markdown",
   "metadata": {},
   "source": [
    "To see the relatve contribution by normalizing to the base case (e.g. in which no parameters/groups are perfectly known):"
   ]
  },
  {
   "cell_type": "code",
   "execution_count": 28,
   "metadata": {},
   "outputs": [
    {
     "data": {
      "text/html": [
       "<div>\n",
       "<style scoped>\n",
       "    .dataframe tbody tr th:only-of-type {\n",
       "        vertical-align: middle;\n",
       "    }\n",
       "\n",
       "    .dataframe tbody tr th {\n",
       "        vertical-align: top;\n",
       "    }\n",
       "\n",
       "    .dataframe thead th {\n",
       "        text-align: right;\n",
       "    }\n",
       "</style>\n",
       "<table border=\"1\" class=\"dataframe\">\n",
       "  <thead>\n",
       "    <tr style=\"text-align: right;\">\n",
       "      <th></th>\n",
       "      <th>oname:sfr_otype:lst_usecol:tailwater_time:4383.5</th>\n",
       "      <th>oname:sfr_otype:lst_usecol:headwater_time:4383.5</th>\n",
       "      <th>oname:hds_otype:lst_usecol:trgw-0-9-1_time:4383.5</th>\n",
       "      <th>part_time</th>\n",
       "    </tr>\n",
       "  </thead>\n",
       "  <tbody>\n",
       "    <tr>\n",
       "      <th>base</th>\n",
       "      <td>0.000000e+00</td>\n",
       "      <td>0.000000e+00</td>\n",
       "      <td>0.000000e+00</td>\n",
       "      <td>0.000000</td>\n",
       "    </tr>\n",
       "    <tr>\n",
       "      <th>ghbcondcn</th>\n",
       "      <td>4.043908e-02</td>\n",
       "      <td>1.477540e+00</td>\n",
       "      <td>9.054940e-01</td>\n",
       "      <td>0.166601</td>\n",
       "    </tr>\n",
       "    <tr>\n",
       "      <th>ghbheadcn</th>\n",
       "      <td>2.201437e+01</td>\n",
       "      <td>1.267781e+00</td>\n",
       "      <td>5.264399e+00</td>\n",
       "      <td>16.925995</td>\n",
       "    </tr>\n",
       "    <tr>\n",
       "      <th>nelayer1cn</th>\n",
       "      <td>-8.071792e-14</td>\n",
       "      <td>-2.557400e-14</td>\n",
       "      <td>-4.744078e-14</td>\n",
       "      <td>0.012546</td>\n",
       "    </tr>\n",
       "    <tr>\n",
       "      <th>nelayer1pp</th>\n",
       "      <td>0.000000e+00</td>\n",
       "      <td>5.114800e-14</td>\n",
       "      <td>6.325438e-14</td>\n",
       "      <td>0.008335</td>\n",
       "    </tr>\n",
       "  </tbody>\n",
       "</table>\n",
       "</div>"
      ],
      "text/plain": [
       "            oname:sfr_otype:lst_usecol:tailwater_time:4383.5  \\\n",
       "base                                            0.000000e+00   \n",
       "ghbcondcn                                       4.043908e-02   \n",
       "ghbheadcn                                       2.201437e+01   \n",
       "nelayer1cn                                     -8.071792e-14   \n",
       "nelayer1pp                                      0.000000e+00   \n",
       "\n",
       "            oname:sfr_otype:lst_usecol:headwater_time:4383.5  \\\n",
       "base                                            0.000000e+00   \n",
       "ghbcondcn                                       1.477540e+00   \n",
       "ghbheadcn                                       1.267781e+00   \n",
       "nelayer1cn                                     -2.557400e-14   \n",
       "nelayer1pp                                      5.114800e-14   \n",
       "\n",
       "            oname:hds_otype:lst_usecol:trgw-0-9-1_time:4383.5  part_time  \n",
       "base                                             0.000000e+00   0.000000  \n",
       "ghbcondcn                                        9.054940e-01   0.166601  \n",
       "ghbheadcn                                        5.264399e+00  16.925995  \n",
       "nelayer1cn                                      -4.744078e-14   0.012546  \n",
       "nelayer1pp                                       6.325438e-14   0.008335  "
      ]
     },
     "execution_count": 28,
     "metadata": {},
     "output_type": "execute_result"
    }
   ],
   "source": [
    "base = par_contrib.loc[\"base\",:]\n",
    "par_contrib = 100.0 * (base - par_contrib) / base\n",
    "par_contrib.sort_index().head()"
   ]
  },
  {
   "cell_type": "markdown",
   "metadata": {},
   "source": [
    "Now it is a simple matter to plot these up for each forecast. Remember! Parameter contributions to uncertainty are forecast specific. The plots below display the top ten parameter groups that contribute to each forecast's uncertainty. Note that different forecasts are affected by different parameters. \n"
   ]
  },
  {
   "cell_type": "code",
   "execution_count": 29,
   "metadata": {},
   "outputs": [
    {
     "data": {
      "image/png": "[encoded data removed]",
      "text/plain": [
       "<Figure size 1080x288 with 4 Axes>"
      ]
     },
     "metadata": {
      "needs_background": "light"
     },
     "output_type": "display_data"
    }
   ],
   "source": [
    "plt.figure(figsize=(15,4))\n",
    "i=1\n",
    "for forecast in par_contrib.columns:\n",
    "    fore_df = par_contrib.loc[:,forecast].copy()\n",
    "    fore_df.sort_values(inplace=True, ascending=False)\n",
    "    ax = plt.subplot(1,4,i, sharey=ax)\n",
    "    i+=1\n",
    "    fore_df.iloc[:10].plot(kind=\"bar\",color=\"tab:blue\", ax =ax)\n",
    "    ax.set_title(forecast)\n",
    "    ax.set_ylabel(\"percent variance reduction\")\n",
    "    #plt.show()"
   ]
  },
  {
   "cell_type": "markdown",
   "metadata": {},
   "source": [
    "Understanding the links between parameters and forecast uncertainties can be usefull - in particular to gain inisght into the system dynamics. But we are still missing the step to understand what _observation_ data affects the forecast. It is often more straightforward to quantify how observation information imapcts forecast uncertianty, so that we can explore the worth of observation data."
   ]
  },
  {
   "cell_type": "markdown",
   "metadata": {},
   "source": [
    "# Data worth analysis"
   ]
  },
  {
   "cell_type": "code",
   "execution_count": 134,
   "metadata": {},
   "outputs": [
    {
     "data": {
      "text/plain": [
       "['oname:hds_otype:lst_usecol:trgw-0-26-6',\n",
       " 'oname:hds_otype:lst_usecol:trgw-0-3-8',\n",
       " 'oname:hds_otype:lst_usecol:trgw-2-26-6',\n",
       " 'oname:hds_otype:lst_usecol:trgw-2-3-8',\n",
       " 'oname:sfr_otype:lst_usecol:gage-1',\n",
       " 'oname:sfrtd_otype:lst_usecol:gage-1',\n",
       " 'oname:hdstd_otype:lst_usecol:trgw-0-26-6',\n",
       " 'oname:hdstd_otype:lst_usecol:trgw-0-3-8',\n",
       " 'oname:hdstd_otype:lst_usecol:trgw-2-26-6',\n",
       " 'oname:hdstd_otype:lst_usecol:trgw-2-3-8',\n",
       " 'oname:hdsvd_otype:lst_usecol:trgw-0-26-6',\n",
       " 'oname:hdsvd_otype:lst_usecol:trgw-0-3-8']"
      ]
     },
     "execution_count": 134,
     "metadata": {},
     "output_type": "execute_result"
    }
   ],
   "source": [
    "sc.pst.nnz_obs_groups"
   ]
  },
  {
   "cell_type": "code",
   "execution_count": 135,
   "metadata": {},
   "outputs": [
    {
     "data": {
      "text/plain": [
       "dict_keys(['cum', 'hdslay1', 'hdslay2', 'hdslay3', 'inc', 'oname:cum_otype:lst_usecol:in-out', 'oname:cum_otype:lst_usecol:percent-discrepancy', 'oname:cum_otype:lst_usecol:rcha', 'oname:cum_otype:lst_usecol:sfr', 'oname:cum_otype:lst_usecol:sto-ss', 'oname:cum_otype:lst_usecol:sto-sy', 'oname:cum_otype:lst_usecol:total', 'oname:cum_otype:lst_usecol:wel', 'oname:hds_otype:lst_usecol:trgw-0-13-10', 'oname:hds_otype:lst_usecol:trgw-0-15-16', 'oname:hds_otype:lst_usecol:trgw-0-2-15', 'oname:hds_otype:lst_usecol:trgw-0-2-9', 'oname:hds_otype:lst_usecol:trgw-0-21-10', 'oname:hds_otype:lst_usecol:trgw-0-22-15', 'oname:hds_otype:lst_usecol:trgw-0-24-4', 'oname:hds_otype:lst_usecol:trgw-0-26-6', 'oname:hds_otype:lst_usecol:trgw-0-29-15', 'oname:hds_otype:lst_usecol:trgw-0-3-8', 'oname:hds_otype:lst_usecol:trgw-0-33-7', 'oname:hds_otype:lst_usecol:trgw-0-34-10', 'oname:hds_otype:lst_usecol:trgw-0-9-1', 'oname:hds_otype:lst_usecol:trgw-2-13-10', 'oname:hds_otype:lst_usecol:trgw-2-15-16', 'oname:hds_otype:lst_usecol:trgw-2-2-15', 'oname:hds_otype:lst_usecol:trgw-2-2-9', 'oname:hds_otype:lst_usecol:trgw-2-21-10', 'oname:hds_otype:lst_usecol:trgw-2-22-15', 'oname:hds_otype:lst_usecol:trgw-2-24-4', 'oname:hds_otype:lst_usecol:trgw-2-26-6', 'oname:hds_otype:lst_usecol:trgw-2-29-15', 'oname:hds_otype:lst_usecol:trgw-2-3-8', 'oname:hds_otype:lst_usecol:trgw-2-33-7', 'oname:hds_otype:lst_usecol:trgw-2-34-10', 'oname:hds_otype:lst_usecol:trgw-2-9-1', 'oname:hdstd_otype:lst_usecol:trgw-0-13-10', 'oname:hdstd_otype:lst_usecol:trgw-0-15-16', 'oname:hdstd_otype:lst_usecol:trgw-0-2-15', 'oname:hdstd_otype:lst_usecol:trgw-0-2-9', 'oname:hdstd_otype:lst_usecol:trgw-0-21-10', 'oname:hdstd_otype:lst_usecol:trgw-0-22-15', 'oname:hdstd_otype:lst_usecol:trgw-0-24-4', 'oname:hdstd_otype:lst_usecol:trgw-0-26-6', 'oname:hdstd_otype:lst_usecol:trgw-0-29-15', 'oname:hdstd_otype:lst_usecol:trgw-0-3-8', 'oname:hdstd_otype:lst_usecol:trgw-0-33-7', 'oname:hdstd_otype:lst_usecol:trgw-0-34-10', 'oname:hdstd_otype:lst_usecol:trgw-0-9-1', 'oname:hdstd_otype:lst_usecol:trgw-2-13-10', 'oname:hdstd_otype:lst_usecol:trgw-2-15-16', 'oname:hdstd_otype:lst_usecol:trgw-2-2-15', 'oname:hdstd_otype:lst_usecol:trgw-2-2-9', 'oname:hdstd_otype:lst_usecol:trgw-2-21-10', 'oname:hdstd_otype:lst_usecol:trgw-2-22-15', 'oname:hdstd_otype:lst_usecol:trgw-2-24-4', 'oname:hdstd_otype:lst_usecol:trgw-2-26-6', 'oname:hdstd_otype:lst_usecol:trgw-2-29-15', 'oname:hdstd_otype:lst_usecol:trgw-2-3-8', 'oname:hdstd_otype:lst_usecol:trgw-2-33-7', 'oname:hdstd_otype:lst_usecol:trgw-2-34-10', 'oname:hdstd_otype:lst_usecol:trgw-2-9-1', 'oname:hdsvd_otype:lst_usecol:trgw-0-13-10', 'oname:hdsvd_otype:lst_usecol:trgw-0-15-16', 'oname:hdsvd_otype:lst_usecol:trgw-0-2-15', 'oname:hdsvd_otype:lst_usecol:trgw-0-2-9', 'oname:hdsvd_otype:lst_usecol:trgw-0-21-10', 'oname:hdsvd_otype:lst_usecol:trgw-0-22-15', 'oname:hdsvd_otype:lst_usecol:trgw-0-24-4', 'oname:hdsvd_otype:lst_usecol:trgw-0-26-6', 'oname:hdsvd_otype:lst_usecol:trgw-0-29-15', 'oname:hdsvd_otype:lst_usecol:trgw-0-3-8', 'oname:hdsvd_otype:lst_usecol:trgw-0-33-7', 'oname:hdsvd_otype:lst_usecol:trgw-0-34-10', 'oname:hdsvd_otype:lst_usecol:trgw-0-9-1', 'oname:inc_otype:lst_usecol:in-out', 'oname:inc_otype:lst_usecol:percent-discrepancy', 'oname:inc_otype:lst_usecol:rcha', 'oname:inc_otype:lst_usecol:sfr', 'oname:inc_otype:lst_usecol:sto-ss', 'oname:inc_otype:lst_usecol:sto-sy', 'oname:inc_otype:lst_usecol:total', 'oname:inc_otype:lst_usecol:wel', 'oname:sfr_otype:lst_usecol:gage-1', 'oname:sfr_otype:lst_usecol:headwater', 'oname:sfr_otype:lst_usecol:tailwater', 'oname:sfrtd_otype:lst_usecol:gage-1', 'oname:sfrtd_otype:lst_usecol:headwater', 'oname:sfrtd_otype:lst_usecol:tailwater', 'part'])"
      ]
     },
     "execution_count": 135,
     "metadata": {},
     "output_type": "execute_result"
    }
   ],
   "source": [
    "sc.get_obs_group_dict().keys()"
   ]
  },
  {
   "cell_type": "code",
   "execution_count": 136,
   "metadata": {},
   "outputs": [],
   "source": [
    "# breaks...pyemu prolem?\n",
    "\n",
    "#dw_rm = sc.get_removed_obs_group_importance()\n",
    "#dw_rm"
   ]
  },
  {
   "cell_type": "code",
   "execution_count": 137,
   "metadata": {},
   "outputs": [],
   "source": [
    "# let's normalize to make more meaningful comparisons of data worth (unctainty variance reduction)\n",
    "# base = dw_rm.loc[\"base\",:]\n",
    "# dw_rm = 100 * (dw_rm  - base) / base\n",
    "# dw_rm.head()"
   ]
  },
  {
   "cell_type": "code",
   "execution_count": 138,
   "metadata": {},
   "outputs": [],
   "source": [
    "#for forecast in dw_rm.columns:\n",
    "#    fore_df = dw_rm.loc[:,forecast].copy()\n",
    "#    fore_df.sort_values(inplace=True, ascending=False)\n",
    "#    ax = fore_df.iloc[:10].plot(kind=\"bar\",color=\"b\")\n",
    "#    ax.set_title(forecast)\n",
    "#    ax.set_ylabel(\"percent variance increase\")\n",
    "#    plt.show()"
   ]
  },
  {
   "cell_type": "code",
   "execution_count": 139,
   "metadata": {},
   "outputs": [
    {
     "data": {
      "image/png": "[encoded data removed]",
      "text/plain": [
       "<Figure size 432x288 with 1 Axes>"
      ]
     },
     "metadata": {
      "needs_background": "light"
     },
     "output_type": "display_data"
    },
    {
     "data": {
      "image/png": "[encoded data removed]",
      "text/plain": [
       "<Figure size 432x288 with 1 Axes>"
      ]
     },
     "metadata": {
      "needs_background": "light"
     },
     "output_type": "display_data"
    },
    {
     "data": {
      "image/png": "[encoded data removed]",
      "text/plain": [
       "<Figure size 432x288 with 1 Axes>"
      ]
     },
     "metadata": {
      "needs_background": "light"
     },
     "output_type": "display_data"
    },
    {
     "data": {
      "image/png": "[encoded data removed]",
      "text/plain": [
       "<Figure size 432x288 with 1 Axes>"
      ]
     },
     "metadata": {
      "needs_background": "light"
     },
     "output_type": "display_data"
    }
   ],
   "source": [
    "dw_ad = sc.get_added_obs_group_importance()\n",
    "base = dw_ad.loc[\"base\",:]\n",
    "dw_ad = 100 * (base - dw_ad) / base\n",
    "for forecast in dw_ad.columns:\n",
    "    fore_df_ad = dw_ad.loc[:,forecast].copy()\n",
    "    fore_df_ad.sort_values(inplace=True, ascending=False)\n",
    "    ax = fore_df_ad.iloc[:20].plot(kind=\"bar\",color=\"b\")\n",
    "    ax.set_title(forecast)\n",
    "    ax.set_ylabel(\"percent variance decrease\")\n",
    "    plt.show()"
   ]
  },
  {
   "cell_type": "markdown",
   "metadata": {},
   "source": [
    "Do these two approaches give the same answer? They shouldn't.. Why? Let's discuss.."
   ]
  },
  {
   "cell_type": "markdown",
   "metadata": {},
   "source": [
    "### what is the worth of ${\\it potential}$ observations? what data should we collect?"
   ]
  },
  {
   "cell_type": "code",
   "execution_count": 140,
   "metadata": {},
   "outputs": [
    {
     "data": {
      "text/plain": [
       "array(['hds', 'sfr', 'hdslay1', 'hdslay2', 'hdslay3', 'inc', 'cum',\n",
       "       'sfrtd', 'hdstd', 'hdsvd', nan], dtype=object)"
      ]
     },
     "execution_count": 140,
     "metadata": {},
     "output_type": "execute_result"
    }
   ],
   "source": [
    "obs = sc.pst.observation_data\n",
    "obs.oname.unique()"
   ]
  },
  {
   "cell_type": "code",
   "execution_count": 141,
   "metadata": {},
   "outputs": [
    {
     "data": {
      "text/plain": [
       "4018.5"
      ]
     },
     "execution_count": 141,
     "metadata": {},
     "output_type": "execute_result"
    }
   ],
   "source": [
    "obs.time.astype(float).unique()[12]"
   ]
  },
  {
   "cell_type": "code",
   "execution_count": 142,
   "metadata": {},
   "outputs": [
    {
     "data": {
      "text/plain": [
       "338"
      ]
     },
     "execution_count": 142,
     "metadata": {},
     "output_type": "execute_result"
    }
   ],
   "source": [
    "end_hist_time = obs.time.astype(float).unique()[12]\n",
    "potential_obs = obs.loc[(obs.oname=='hds') & (obs.time.astype(float)<= end_hist_time), 'obsnme'].tolist()\n",
    "len(potential_obs)"
   ]
  },
  {
   "cell_type": "code",
   "execution_count": 146,
   "metadata": {},
   "outputs": [],
   "source": [
    "nz_obs = set(sc.pst.nnz_obs_names)\n",
    "potential_obs = [o for o in potential_obs if o not in nz_obs]  \n"
   ]
  },
  {
   "cell_type": "code",
   "execution_count": 147,
   "metadata": {},
   "outputs": [
    {
     "name": "stdout",
     "output_type": "stream",
     "text": [
      "took: 0:00:17.264711\n"
     ]
    }
   ],
   "source": [
    "from datetime import datetime\n",
    "start = datetime.now()\n",
    "df_worth_new = sc.get_added_obs_importance(obslist_dict=potential_obs, base_obslist=sc.pst.nnz_obs_names, reset_zero_weight=True)\n",
    "print(\"took:\",datetime.now() - start)"
   ]
  },
  {
   "cell_type": "code",
   "execution_count": null,
   "metadata": {},
   "outputs": [
    {
     "data": {
      "text/html": [
       "<div>\n",
       "<style scoped>\n",
       "    .dataframe tbody tr th:only-of-type {\n",
       "        vertical-align: middle;\n",
       "    }\n",
       "\n",
       "    .dataframe tbody tr th {\n",
       "        vertical-align: top;\n",
       "    }\n",
       "\n",
       "    .dataframe thead th {\n",
       "        text-align: right;\n",
       "    }\n",
       "</style>\n",
       "<table border=\"1\" class=\"dataframe\">\n",
       "  <thead>\n",
       "    <tr style=\"text-align: right;\">\n",
       "      <th></th>\n",
       "      <th>oname:sfr_otype:lst_usecol:tailwater_time:4383.5</th>\n",
       "      <th>oname:sfr_otype:lst_usecol:headwater_time:4383.5</th>\n",
       "      <th>oname:hds_otype:lst_usecol:trgw-0-9-1_time:4383.5</th>\n",
       "      <th>part_time</th>\n",
       "    </tr>\n",
       "  </thead>\n",
       "  <tbody>\n",
       "    <tr>\n",
       "      <th>base</th>\n",
       "      <td>35312.087582</td>\n",
       "      <td>28214.650069</td>\n",
       "      <td>0.043494</td>\n",
       "      <td>2.809681e+10</td>\n",
       "    </tr>\n",
       "    <tr>\n",
       "      <th>oname:hds_otype:lst_usecol:trgw-0-13-10_time:3652.5</th>\n",
       "      <td>35299.940107</td>\n",
       "      <td>28203.814419</td>\n",
       "      <td>0.043481</td>\n",
       "      <td>2.808638e+10</td>\n",
       "    </tr>\n",
       "    <tr>\n",
       "      <th>oname:hds_otype:lst_usecol:trgw-0-13-10_time:3683.5</th>\n",
       "      <td>35306.282621</td>\n",
       "      <td>28203.935073</td>\n",
       "      <td>0.043480</td>\n",
       "      <td>2.808441e+10</td>\n",
       "    </tr>\n",
       "    <tr>\n",
       "      <th>oname:hds_otype:lst_usecol:trgw-0-13-10_time:3712.5</th>\n",
       "      <td>35308.241394</td>\n",
       "      <td>28202.682338</td>\n",
       "      <td>0.043477</td>\n",
       "      <td>2.808269e+10</td>\n",
       "    </tr>\n",
       "    <tr>\n",
       "      <th>oname:hds_otype:lst_usecol:trgw-0-13-10_time:3743.5</th>\n",
       "      <td>35310.541352</td>\n",
       "      <td>28204.727050</td>\n",
       "      <td>0.043479</td>\n",
       "      <td>2.807984e+10</td>\n",
       "    </tr>\n",
       "  </tbody>\n",
       "</table>\n",
       "</div>"
      ],
      "text/plain": [
       "                                                     oname:sfr_otype:lst_usecol:tailwater_time:4383.5  \\\n",
       "base                                                                                     35312.087582   \n",
       "oname:hds_otype:lst_usecol:trgw-0-13-10_time:3652.5                                      35299.940107   \n",
       "oname:hds_otype:lst_usecol:trgw-0-13-10_time:3683.5                                      35306.282621   \n",
       "oname:hds_otype:lst_usecol:trgw-0-13-10_time:3712.5                                      35308.241394   \n",
       "oname:hds_otype:lst_usecol:trgw-0-13-10_time:3743.5                                      35310.541352   \n",
       "\n",
       "                                                     oname:sfr_otype:lst_usecol:headwater_time:4383.5  \\\n",
       "base                                                                                     28214.650069   \n",
       "oname:hds_otype:lst_usecol:trgw-0-13-10_time:3652.5                                      28203.814419   \n",
       "oname:hds_otype:lst_usecol:trgw-0-13-10_time:3683.5                                      28203.935073   \n",
       "oname:hds_otype:lst_usecol:trgw-0-13-10_time:3712.5                                      28202.682338   \n",
       "oname:hds_otype:lst_usecol:trgw-0-13-10_time:3743.5                                      28204.727050   \n",
       "\n",
       "                                                     oname:hds_otype:lst_usecol:trgw-0-9-1_time:4383.5  \\\n",
       "base                                                                                          0.043494   \n",
       "oname:hds_otype:lst_usecol:trgw-0-13-10_time:3652.5                                           0.043481   \n",
       "oname:hds_otype:lst_usecol:trgw-0-13-10_time:3683.5                                           0.043480   \n",
       "oname:hds_otype:lst_usecol:trgw-0-13-10_time:3712.5                                           0.043477   \n",
       "oname:hds_otype:lst_usecol:trgw-0-13-10_time:3743.5                                           0.043479   \n",
       "\n",
       "                                                        part_time  \n",
       "base                                                 2.809681e+10  \n",
       "oname:hds_otype:lst_usecol:trgw-0-13-10_time:3652.5  2.808638e+10  \n",
       "oname:hds_otype:lst_usecol:trgw-0-13-10_time:3683.5  2.808441e+10  \n",
       "oname:hds_otype:lst_usecol:trgw-0-13-10_time:3712.5  2.808269e+10  \n",
       "oname:hds_otype:lst_usecol:trgw-0-13-10_time:3743.5  2.807984e+10  "
      ]
     },
     "execution_count": 102,
     "metadata": {},
     "output_type": "execute_result"
    }
   ],
   "source": [
    "df_worth_new.head()"
   ]
  },
  {
   "cell_type": "code",
   "execution_count": null,
   "metadata": {},
   "outputs": [],
   "source": []
  },
  {
   "cell_type": "markdown",
   "metadata": {},
   "source": [
    "### an \"extra\" if we have time: parameter identifiability"
   ]
  },
  {
   "cell_type": "code",
   "execution_count": 152,
   "metadata": {},
   "outputs": [],
   "source": [
    "la = pyemu.ErrVar(jco=jco)"
   ]
  },
  {
   "cell_type": "code",
   "execution_count": 153,
   "metadata": {},
   "outputs": [
    {
     "data": {
      "text/plain": [
       "array([[327.38847516],\n",
       "       [175.29894786],\n",
       "       [133.48727953],\n",
       "       [ 90.85453325],\n",
       "       [ 58.58701751],\n",
       "       [ 49.37343145],\n",
       "       [ 45.26632341],\n",
       "       [ 35.9999825 ],\n",
       "       [ 32.74751414],\n",
       "       [ 28.43588565]])"
      ]
     },
     "execution_count": 153,
     "metadata": {},
     "output_type": "execute_result"
    }
   ],
   "source": [
    "s = la.qhalfx.s  # singular spectrum\n",
    "s.x[:10]"
   ]
  },
  {
   "cell_type": "code",
   "execution_count": 154,
   "metadata": {},
   "outputs": [
    {
     "data": {
      "image/png": "[encoded data removed]",
      "text/plain": [
       "<Figure size 432x288 with 1 Axes>"
      ]
     },
     "metadata": {
      "needs_background": "light"
     },
     "output_type": "display_data"
    }
   ],
   "source": [
    "figure = plt.figure()\n",
    "ax = plt.subplot(111)\n",
    "ax.plot(np.log10(s.x))\n",
    "ax.set_ylabel(\"log10 singular value\")\n",
    "ax.set_xlabel(\"index\")\n",
    "#ax.set_xlim(0,100)\n",
    "plt.show()"
   ]
  },
  {
   "cell_type": "code",
   "execution_count": 155,
   "metadata": {},
   "outputs": [
    {
     "data": {
      "text/plain": [
       "63"
      ]
     },
     "execution_count": 155,
     "metadata": {},
     "output_type": "execute_result"
    }
   ],
   "source": [
    "truncation_thresh = 5e-5\n",
    "n_signif_singvals = ((s.x / s[0].x) > truncation_thresh).sum()\n",
    "n_signif_singvals"
   ]
  },
  {
   "cell_type": "code",
   "execution_count": 156,
   "metadata": {},
   "outputs": [
    {
     "name": "stdout",
     "output_type": "stream",
     "text": [
      "This means that, on the basis of the 144 (non-zero) weighted observations, there are 63 unique pieces of information in the calibration dataset.  Recall the inverse problem we are trying to solve involves the estimation of 415 parameters using this information only...\n"
     ]
    }
   ],
   "source": [
    "print(\"This means that, on the basis of the {0} (non-zero) weighted observations, \\\n",
    "there are {1} unique pieces of information in the calibration dataset.  \\\n",
    "Recall the inverse problem we are trying to solve involves the estimation of {2} parameters using this information only...\".\\\n",
    "      format(la.pst.nnz_obs, n_signif_singvals, pst.npar_adj))"
   ]
  },
  {
   "cell_type": "code",
   "execution_count": 157,
   "metadata": {},
   "outputs": [],
   "source": [
    "ident_df = la.get_identifiability_dataframe(4)  # sing val trunc defaults to pst.nnz_obs"
   ]
  },
  {
   "cell_type": "code",
   "execution_count": 158,
   "metadata": {},
   "outputs": [
    {
     "data": {
      "text/plain": [
       "<AxesSubplot:>"
      ]
     },
     "execution_count": 158,
     "metadata": {},
     "output_type": "execute_result"
    },
    {
     "data": {
      "image/png": "[encoded data removed]",
      "text/plain": [
       "<Figure size 720x720 with 1 Axes>"
      ]
     },
     "metadata": {
      "needs_background": "light"
     },
     "output_type": "display_data"
    }
   ],
   "source": [
    "ident_df.sort_values(by=\"ident\",ascending=False).iloc[0:10].loc[:,\"ident\"].plot(kind=\"bar\",figsize=(10,10))"
   ]
  },
  {
   "cell_type": "code",
   "execution_count": 159,
   "metadata": {},
   "outputs": [
    {
     "data": {
      "image/png": "[encoded data removed]",
      "text/plain": [
       "<Figure size 864x288 with 2 Axes>"
      ]
     },
     "metadata": {
      "needs_background": "light"
     },
     "output_type": "display_data"
    }
   ],
   "source": [
    "id = pyemu.plot_utils.plot_id_bar(ident_df.sort_values(by=\"ident\",ascending=False).iloc[0:10], figsize=(12,4))"
   ]
  },
  {
   "cell_type": "code",
   "execution_count": 164,
   "metadata": {},
   "outputs": [
    {
     "name": "stdout",
     "output_type": "stream",
     "text": [
      "\u001b[1;31mSignature:\u001b[0m \u001b[0mla\u001b[0m\u001b[1;33m.\u001b[0m\u001b[0mget_par_css_dataframe\u001b[0m\u001b[1;33m(\u001b[0m\u001b[1;33m)\u001b[0m\u001b[1;33m\u001b[0m\u001b[1;33m\u001b[0m\u001b[0m\n",
      "\u001b[1;31mDocstring:\u001b[0m\n",
      "get a dataframe of composite scaled sensitivities.  Includes both\n",
      "PEST-style and Hill-style.\n",
      "\n",
      "Returns:\n",
      "    `pandas.DataFrame`: a dataframe of parameter names, PEST-style and\n",
      "    Hill-style composite scaled sensitivity\n",
      "\u001b[1;31mFile:\u001b[0m      c:\\users\\rui2h\\.conda\\envs\\gmdsitut\\lib\\site-packages\\pyemu\\la.py\n",
      "\u001b[1;31mType:\u001b[0m      method\n"
     ]
    }
   ],
   "source": [
    "?la.get_par_css_dataframe"
   ]
  },
  {
   "cell_type": "code",
   "execution_count": 160,
   "metadata": {},
   "outputs": [
    {
     "data": {
      "text/html": [
       "<div>\n",
       "<style scoped>\n",
       "    .dataframe tbody tr th:only-of-type {\n",
       "        vertical-align: middle;\n",
       "    }\n",
       "\n",
       "    .dataframe tbody tr th {\n",
       "        vertical-align: top;\n",
       "    }\n",
       "\n",
       "    .dataframe thead th {\n",
       "        text-align: right;\n",
       "    }\n",
       "</style>\n",
       "<table border=\"1\" class=\"dataframe\">\n",
       "  <thead>\n",
       "    <tr style=\"text-align: right;\">\n",
       "      <th></th>\n",
       "      <th>pest_css</th>\n",
       "      <th>hill_css</th>\n",
       "    </tr>\n",
       "  </thead>\n",
       "  <tbody>\n",
       "    <tr>\n",
       "      <th>pname:npfklayer1pp_inst:0_ptype:pp_pstyle:m_i:2_j:2_zone:1.0</th>\n",
       "      <td>0.024189</td>\n",
       "      <td>0.0</td>\n",
       "    </tr>\n",
       "    <tr>\n",
       "      <th>pname:npfklayer1pp_inst:0_ptype:pp_pstyle:m_i:2_j:7_zone:1.0</th>\n",
       "      <td>0.014456</td>\n",
       "      <td>0.0</td>\n",
       "    </tr>\n",
       "    <tr>\n",
       "      <th>pname:npfklayer1pp_inst:0_ptype:pp_pstyle:m_i:2_j:12_zone:1.0</th>\n",
       "      <td>0.006046</td>\n",
       "      <td>0.0</td>\n",
       "    </tr>\n",
       "    <tr>\n",
       "      <th>pname:npfklayer1pp_inst:0_ptype:pp_pstyle:m_i:2_j:17_zone:1.0</th>\n",
       "      <td>0.022869</td>\n",
       "      <td>0.0</td>\n",
       "    </tr>\n",
       "    <tr>\n",
       "      <th>pname:npfklayer1pp_inst:0_ptype:pp_pstyle:m_i:7_j:2_zone:1.0</th>\n",
       "      <td>0.014872</td>\n",
       "      <td>0.0</td>\n",
       "    </tr>\n",
       "  </tbody>\n",
       "</table>\n",
       "</div>"
      ],
      "text/plain": [
       "                                                               pest_css  \\\n",
       "pname:npfklayer1pp_inst:0_ptype:pp_pstyle:m_i:2_j:2_zone:1.0   0.024189   \n",
       "pname:npfklayer1pp_inst:0_ptype:pp_pstyle:m_i:2_j:7_zone:1.0   0.014456   \n",
       "pname:npfklayer1pp_inst:0_ptype:pp_pstyle:m_i:2_j:12_zone:1.0  0.006046   \n",
       "pname:npfklayer1pp_inst:0_ptype:pp_pstyle:m_i:2_j:17_zone:1.0  0.022869   \n",
       "pname:npfklayer1pp_inst:0_ptype:pp_pstyle:m_i:7_j:2_zone:1.0   0.014872   \n",
       "\n",
       "                                                               hill_css  \n",
       "pname:npfklayer1pp_inst:0_ptype:pp_pstyle:m_i:2_j:2_zone:1.0        0.0  \n",
       "pname:npfklayer1pp_inst:0_ptype:pp_pstyle:m_i:2_j:7_zone:1.0        0.0  \n",
       "pname:npfklayer1pp_inst:0_ptype:pp_pstyle:m_i:2_j:12_zone:1.0       0.0  \n",
       "pname:npfklayer1pp_inst:0_ptype:pp_pstyle:m_i:2_j:17_zone:1.0       0.0  \n",
       "pname:npfklayer1pp_inst:0_ptype:pp_pstyle:m_i:7_j:2_zone:1.0        0.0  "
      ]
     },
     "execution_count": 160,
     "metadata": {},
     "output_type": "execute_result"
    }
   ],
   "source": [
    "css = la.get_par_css_dataframe()\n",
    "css.head()"
   ]
  },
  {
   "cell_type": "code",
   "execution_count": 161,
   "metadata": {},
   "outputs": [
    {
     "data": {
      "text/plain": [
       "0"
      ]
     },
     "execution_count": 161,
     "metadata": {},
     "output_type": "execute_result"
    }
   ],
   "source": [
    "css = css.sort_values(by=\"pest_css\",ascending=False)\n",
    "css = css.loc[css.pest_css==0.0,:]\n",
    "len([p for p in css.index if \"sy\" in p])"
   ]
  },
  {
   "cell_type": "code",
   "execution_count": 163,
   "metadata": {},
   "outputs": [
    {
     "data": {
      "text/html": [
       "<div>\n",
       "<style scoped>\n",
       "    .dataframe tbody tr th:only-of-type {\n",
       "        vertical-align: middle;\n",
       "    }\n",
       "\n",
       "    .dataframe tbody tr th {\n",
       "        vertical-align: top;\n",
       "    }\n",
       "\n",
       "    .dataframe thead th {\n",
       "        text-align: right;\n",
       "    }\n",
       "</style>\n",
       "<table border=\"1\" class=\"dataframe\">\n",
       "  <thead>\n",
       "    <tr style=\"text-align: right;\">\n",
       "      <th></th>\n",
       "      <th>pest_css</th>\n",
       "      <th>hill_css</th>\n",
       "    </tr>\n",
       "  </thead>\n",
       "  <tbody>\n",
       "    <tr>\n",
       "      <th>pname:rch_recharge_19tcn_inst:0_ptype:cn_pstyle:m</th>\n",
       "      <td>0.0</td>\n",
       "      <td>0.0</td>\n",
       "    </tr>\n",
       "    <tr>\n",
       "      <th>pname:rch_recharge_23tcn_inst:0_ptype:cn_pstyle:m</th>\n",
       "      <td>0.0</td>\n",
       "      <td>0.0</td>\n",
       "    </tr>\n",
       "    <tr>\n",
       "      <th>pname:rch_recharge_24tcn_inst:0_ptype:cn_pstyle:m</th>\n",
       "      <td>0.0</td>\n",
       "      <td>0.0</td>\n",
       "    </tr>\n",
       "    <tr>\n",
       "      <th>pname:rch_recharge_20tcn_inst:0_ptype:cn_pstyle:m</th>\n",
       "      <td>0.0</td>\n",
       "      <td>0.0</td>\n",
       "    </tr>\n",
       "    <tr>\n",
       "      <th>pname:rch_recharge_22tcn_inst:0_ptype:cn_pstyle:m</th>\n",
       "      <td>0.0</td>\n",
       "      <td>0.0</td>\n",
       "    </tr>\n",
       "    <tr>\n",
       "      <th>...</th>\n",
       "      <td>...</td>\n",
       "      <td>...</td>\n",
       "    </tr>\n",
       "    <tr>\n",
       "      <th>pname:nelayer3pp_inst:0_ptype:pp_pstyle:m_i:6_j:2_zone:1.0</th>\n",
       "      <td>0.0</td>\n",
       "      <td>0.0</td>\n",
       "    </tr>\n",
       "    <tr>\n",
       "      <th>pname:nelayer3pp_inst:0_ptype:pp_pstyle:m_i:6_j:6_zone:1.0</th>\n",
       "      <td>0.0</td>\n",
       "      <td>0.0</td>\n",
       "    </tr>\n",
       "    <tr>\n",
       "      <th>pname:nelayer3pp_inst:0_ptype:pp_pstyle:m_i:6_j:10_zone:1.0</th>\n",
       "      <td>0.0</td>\n",
       "      <td>0.0</td>\n",
       "    </tr>\n",
       "    <tr>\n",
       "      <th>pname:nelayer3pp_inst:0_ptype:pp_pstyle:m_i:6_j:14_zone:1.0</th>\n",
       "      <td>0.0</td>\n",
       "      <td>0.0</td>\n",
       "    </tr>\n",
       "    <tr>\n",
       "      <th>pname:sfrgr_inst:24_ptype:gr_usecol:2_pstyle:m_idx0:0</th>\n",
       "      <td>0.0</td>\n",
       "      <td>0.0</td>\n",
       "    </tr>\n",
       "  </tbody>\n",
       "</table>\n",
       "<p>135 rows × 2 columns</p>\n",
       "</div>"
      ],
      "text/plain": [
       "                                                             pest_css  \\\n",
       "pname:rch_recharge_19tcn_inst:0_ptype:cn_pstyle:m                 0.0   \n",
       "pname:rch_recharge_23tcn_inst:0_ptype:cn_pstyle:m                 0.0   \n",
       "pname:rch_recharge_24tcn_inst:0_ptype:cn_pstyle:m                 0.0   \n",
       "pname:rch_recharge_20tcn_inst:0_ptype:cn_pstyle:m                 0.0   \n",
       "pname:rch_recharge_22tcn_inst:0_ptype:cn_pstyle:m                 0.0   \n",
       "...                                                               ...   \n",
       "pname:nelayer3pp_inst:0_ptype:pp_pstyle:m_i:6_j:2_zone:1.0        0.0   \n",
       "pname:nelayer3pp_inst:0_ptype:pp_pstyle:m_i:6_j:6_zone:1.0        0.0   \n",
       "pname:nelayer3pp_inst:0_ptype:pp_pstyle:m_i:6_j:10_zone:1.0       0.0   \n",
       "pname:nelayer3pp_inst:0_ptype:pp_pstyle:m_i:6_j:14_zone:1.0       0.0   \n",
       "pname:sfrgr_inst:24_ptype:gr_usecol:2_pstyle:m_idx0:0             0.0   \n",
       "\n",
       "                                                             hill_css  \n",
       "pname:rch_recharge_19tcn_inst:0_ptype:cn_pstyle:m                 0.0  \n",
       "pname:rch_recharge_23tcn_inst:0_ptype:cn_pstyle:m                 0.0  \n",
       "pname:rch_recharge_24tcn_inst:0_ptype:cn_pstyle:m                 0.0  \n",
       "pname:rch_recharge_20tcn_inst:0_ptype:cn_pstyle:m                 0.0  \n",
       "pname:rch_recharge_22tcn_inst:0_ptype:cn_pstyle:m                 0.0  \n",
       "...                                                               ...  \n",
       "pname:nelayer3pp_inst:0_ptype:pp_pstyle:m_i:6_j:2_zone:1.0        0.0  \n",
       "pname:nelayer3pp_inst:0_ptype:pp_pstyle:m_i:6_j:6_zone:1.0        0.0  \n",
       "pname:nelayer3pp_inst:0_ptype:pp_pstyle:m_i:6_j:10_zone:1.0       0.0  \n",
       "pname:nelayer3pp_inst:0_ptype:pp_pstyle:m_i:6_j:14_zone:1.0       0.0  \n",
       "pname:sfrgr_inst:24_ptype:gr_usecol:2_pstyle:m_idx0:0             0.0  \n",
       "\n",
       "[135 rows x 2 columns]"
      ]
     },
     "execution_count": 163,
     "metadata": {},
     "output_type": "execute_result"
    }
   ],
   "source": [
    "css"
   ]
  },
  {
   "cell_type": "code",
   "execution_count": 162,
   "metadata": {},
   "outputs": [
    {
     "data": {
      "text/plain": [
       "(33, 23)"
      ]
     },
     "execution_count": 162,
     "metadata": {},
     "output_type": "execute_result"
    }
   ],
   "source": [
    "par = pst.parameter_data.loc[pst.adj_par_names]\n",
    "par.loc[par.parnme.apply(lambda x: \"sy\" in x),:].shape"
   ]
  },
  {
   "cell_type": "code",
   "execution_count": null,
   "metadata": {},
   "outputs": [],
   "source": []
  }
 ],
 "metadata": {
  "interpreter": {
   "hash": "d91d695e32284e5f4db43d0a55a7ffe722d99eb6050b5b06eff0d966e4449445"
  },
  "kernelspec": {
   "display_name": "Python 3.9.12 ('gmdsitut')",
   "language": "python",
   "name": "python3"
  },
  "language_info": {
   "codemirror_mode": {
    "name": "ipython",
    "version": 3
   },
   "file_extension": ".py",
   "mimetype": "text/x-python",
   "name": "python",
   "nbconvert_exporter": "python",
   "pygments_lexer": "ipython3",
   "version": "3.9.12"
  },
  "orig_nbformat": 4
 },
 "nbformat": 4,
 "nbformat_minor": 2
}
