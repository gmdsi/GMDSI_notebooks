{
 "cells": [
  {
   "cell_type": "markdown",
   "metadata": {},
   "source": [
    "# FOSM, data worth and related assessments\n",
    "\n",
    "First Order Second Moment (FOSM), sometimes referred to as linear analysis, provides insights into the decision-support modelling process which are not possible to obtain in any other way. Outcomes are approximate. This is because relationships between groundwater model outputs and parameters are not in fact linear. \n",
    "\n",
    "Undertaking linear analysis requires:\n",
    " - A Jacobian matrix; \n",
    " - The prior parameter covariance matrix;\n",
    " - The covariance matrix of measurement noise.\n",
    "\n",
    "Linear analysis can be accomplished with software from the PEST utilities, PEST++GLM or pyEMU and can be performed before and/or after calibration. It relies on the existence of a Jacobian (sensitivity) matrix, which is calculated by PEST/PEST++ by perturbing parameters by a small amount from their initial value. This requires a single model run for each adjustable parameter. Prior parameter and measurement noise covariance matrices must also be provided by the user.\n",
    "\n",
    "FOSM tasks may include:\n",
    " - approximate parameter and predictive uncertainty quantification;\n",
    " - data worth analysis;\n",
    " - assist in identifying parameters that are most salient for forecasts of interest, \n",
    " - identify parameter contributions to predictive uncertainty and \n",
    " - assess parameter identifiability. \n",
    "\n",
    "Visual outcomes of these analyses can provide easily understood insights into what history-matching can achieve, and what it cannot achieve due to lack of information. This can be used to streamline the data assimlation process and guide further site characterisation studies by ensuring effective data collection targeted at reducing the uncertainties of predictions that matter. \n",
    "\n",
    "Data worth analysis identifies relative observation contributions to reducing forecast uncertainty and is “forecast specific”. The value of each observation is compared in terms of its ability to reduce uncertainty of a unique forecast. Assessing data worth does not require that a measured value already be known. Thus it can be a useful tool when prioritizing what new data to collect. There are a few things to consider when including data worth set up as part of a modelling workflow:\n",
    " - any potential new data being assessed must be simulated by the model.\n",
    " - a Jacobian matrix must be calculated that links parameter changes to changes in the pontential new observation values. \n",
    " \n",
    "Thus, it is often useful to think about potential new data early on in the modelling workflow. This allows the modeller to pre-emptively include potential new observations in the PEST dataset with zeroweight (i.e. they do not affect history matching) for later use. "
   ]
  },
  {
   "cell_type": "markdown",
   "metadata": {},
   "source": [
    "### The current tutorial\n",
    " \n",
    "In this notebook, we will use outputs from previous notebooks (in particular `freyberg_glm_1.ipynb`) to undertake data worth assessments based on first-order second-moment (FOSM) techniques. \"Worth\" is framed here in the context of the extent to which the uncertainty surrounding a model prediction of management interest is reduced through data collection.  Given that these anayses can help target and optimize data acquisition strategies, this is a concept that really resonates with decision makers.\n",
    "\n",
    "Note that in this tutorial, we will demonstrate FOSM applied __before__ calibration (i.e. as an optional intermediate step between the `freyberg_glm_1.ipynb` and `freyberg_glm_2.ipynb` notebooks), as several of these techniques can be a usefull tools that aid in the design of the calibration setup. However, they are equaly applicable __after__ calibration. In the `freyberg_glm_2.ipynb` notebook, some outcomes of post-calibration FOSM are discussed. \n",
    "\n",
    "Here we will be using functionality in `pyemu` to undertake FOSM. Similar analyses can be undertaken with the PREDUNC and PREDVAR suite of PEST utilities (see the [GMDSI](https://gmdsi.org/education/tutorials/) website for tutorials on these utilities). "
   ]
  },
  {
   "cell_type": "markdown",
   "metadata": {},
   "source": [
    "### Admin\n",
    "\n",
    "Start off with the usual loading of dependencies and preparing model and PEST files. We will be continuing to work with the MODFLOW6 modified-Freyberg model (see \"freyberg intro to model\" notebook), and the high-dimensional PEST dataset prepared in the \"freyberg_glm_1\" notebook. For the purposes of this notebook, you do not require familiarity with previous notebooks (but it helps...). \n",
    "\n",
    "Simply run the next few cells by pressing `shift+enter`."
   ]
  },
  {
   "cell_type": "code",
   "execution_count": 82,
   "metadata": {},
   "outputs": [],
   "source": [
    "import os\n",
    "import warnings\n",
    "warnings.filterwarnings(\"ignore\")\n",
    "warnings.filterwarnings(\"ignore\", category=DeprecationWarning) \n",
    "import pandas as pd\n",
    "import numpy as np\n",
    "import matplotlib.pyplot as plt;\n",
    "plt.rcParams.update({'font.size': 8})\n",
    "\n",
    "import shutil \n",
    "import scipy.stats as stats\n",
    "import math\n",
    "\n",
    "import sys\n",
    "sys.path.append(os.path.join(\"..\", \"..\", \"dependencies\"))\n",
    "import pyemu\n",
    "import flopy"
   ]
  },
  {
   "cell_type": "markdown",
   "metadata": {},
   "source": [
    "We are going to make use of the outcomes of the \"freyberg_glm_1\" tutorial, in which we ran `PEST++GLM` to calculate the jacobian matrix prior to calibration. If you ran the notebook yourself, they should be recorded in the folder named \"master_glm_1\".\n",
    "\n",
    "Let's start by specifying the folder path:"
   ]
  },
  {
   "cell_type": "code",
   "execution_count": 83,
   "metadata": {},
   "outputs": [],
   "source": [
    "m_d = os.path.join(\"..\",\"part2_4_glm\",\"master_glm_1\")\n",
    "\n",
    "# a check to see if the files are avilable\n",
    "if not os.path.exists(m_d):\n",
    "    raise Exception(\"you need to run the '/part2_4_glm/freyberg_glm_1.ipynb' notebook\")"
   ]
  },
  {
   "cell_type": "markdown",
   "metadata": {},
   "source": [
    "OK, now let's read in our PEST control file and take a peek just to recall what is is we are working with:"
   ]
  },
  {
   "cell_type": "code",
   "execution_count": 84,
   "metadata": {},
   "outputs": [
    {
     "name": "stdout",
     "output_type": "stream",
     "text": [
      "adjustable parameters: 415 \n",
      "nonzero observations: 144\n"
     ]
    }
   ],
   "source": [
    "pst = pyemu.Pst(os.path.join(m_d,\"freyberg_pp.pst\"))\n",
    "print('adjustable parameters:',pst.npar_adj,'\\nnonzero observations:', pst.nnz_obs)\n",
    "#pst.write_par_summary_table(filename=\"none\")"
   ]
  },
  {
   "cell_type": "markdown",
   "metadata": {},
   "source": [
    "### Getting ready for FOSM\n",
    "\n",
    "Recall we need three ingredients for FOSM:\n",
    " - parameter covariance matrix \n",
    " - observation noise covariance matrix\n",
    " - jacobian matrix "
   ]
  },
  {
   "cell_type": "markdown",
   "metadata": {},
   "source": [
    "Let's start with the parameter covariance matrix. In this instance, our covariance matrix represents the prior parameter uncertainty. We prepared and recorded a prior covariance matrix when we constructed the PEST dataset (see the \"pstfrom_pest_setup\" tutorial). It is recorded in the file named `prior_cov.jcb`. \n",
    "\n",
    "Let's read it in a as a `pyemu.Cov` object:"
   ]
  },
  {
   "cell_type": "code",
   "execution_count": 85,
   "metadata": {},
   "outputs": [],
   "source": [
    "# read the file\n",
    "cov = pyemu.Cov.from_binary(os.path.join(m_d,\"prior_cov.jcb\")).to_dataframe()\n",
    "# the prior was constructed for the high-dimensional dataset; \n",
    "# but we had to drop lots of parameters to undertake GLM (see \"freyberg_glm_1\" tutorial)\n",
    "# so we need to slice cov to get only adjustable parameter cols/rows\n",
    "cov = cov.loc[pst.adj_par_names,pst.adj_par_names]\n",
    "# and then rebuild it\n",
    "cov = pyemu.Cov.from_dataframe(cov)"
   ]
  },
  {
   "cell_type": "markdown",
   "metadata": {},
   "source": [
    "Take a quick peek:"
   ]
  },
  {
   "cell_type": "code",
   "execution_count": 86,
   "metadata": {},
   "outputs": [
    {
     "data": {
      "text/plain": [
       "<matplotlib.colorbar.Colorbar at 0x209acafe670>"
      ]
     },
     "execution_count": 86,
     "metadata": {},
     "output_type": "execute_result"
    },
    {
     "data": {
      "image/png": "[encoded data removed]",
      "text/plain": [
       "<Figure size 432x288 with 2 Axes>"
      ]
     },
     "metadata": {
      "needs_background": "light"
     },
     "output_type": "display_data"
    }
   ],
   "source": [
    "# let's inspect only\n",
    "x = cov.x.copy()\n",
    "x[x<1e-7] = np.nan\n",
    "c = plt.imshow(x)\n",
    "plt.colorbar()"
   ]
  },
  {
   "cell_type": "markdown",
   "metadata": {},
   "source": [
    "The second ingredient we need is the jacobian matrix. In a previous tutorial, we ran `PEST++GLM` with the `fresyberg_pp.pst` control file to calculate the jacobian for intial parameter values and then stop (by setting `NOPTMAX` to -1). It is stored in the binary file named `freyberg_pp.jcb`.\n",
    "\n",
    "Let's read it in as a `pyemu.Jco`:"
   ]
  },
  {
   "cell_type": "code",
   "execution_count": 87,
   "metadata": {},
   "outputs": [],
   "source": [
    "jco_file = os.path.join(m_d,\"freyberg_pp.jcb\")\n",
    "\n",
    "jco = pyemu.Jco.from_binary(jco_file)"
   ]
  },
  {
   "cell_type": "markdown",
   "metadata": {},
   "source": [
    "Lastly, we are still missing the noise covariance matrix. Unless instructed otherwise, `pyemu` will construct this matrix on-the-fly using weights in the PEST control file (and assuming that weights are the inverse of the standard deviation). \n",
    "\n",
    "Alternatively you can provide a user created (diagonal!) covariance matrix. In our case weights reflect measurment uncertaint. But just for the sake of demosntration, let's generate an observation covarance matrix from the control file:"
   ]
  },
  {
   "cell_type": "code",
   "execution_count": 88,
   "metadata": {},
   "outputs": [],
   "source": [
    "obscov = pyemu.Cov.from_observation_data(pst)"
   ]
  },
  {
   "cell_type": "markdown",
   "metadata": {},
   "source": [
    "The `Schur` object is one of the primary object for FOSM in pyEMU. It is the starting point for most things FOSM in the `pyemu` world. We are going to pass in our ingredients to instantiate a `Schur` object.\n",
    "\n",
    "Now...`pyemu` is clever and does its best to reduce the amount of information you need to pass explicitly. Minimum requirements are the `Pst` and `Jco`. If not explicitly provided, the (diagonal) observation covariance matrix will be calculated from observation weights in `pst`. If present, forecasts will be populated from the list of `pst.forecast_names`.\n",
    "\n",
    "However, here we will demonstrate by passing each ingredient explicitly:"
   ]
  },
  {
   "cell_type": "code",
   "execution_count": 89,
   "metadata": {},
   "outputs": [
    {
     "data": {
      "text/plain": [
       "<pyemu.sc.Schur at 0x209aca69970>"
      ]
     },
     "execution_count": 89,
     "metadata": {},
     "output_type": "execute_result"
    }
   ],
   "source": [
    "sc = pyemu.Schur(pst=pst, # the pest control file\n",
    "                jco=jco, # the jacobian matrix\n",
    "                parcov=cov, # the parameter covariance matrix; if not provided pyemu calculates from parameter bounds\n",
    "                obscov=obscov, # the obs noise cov matrix; necessary if obs weights in the pst do not reflect uncertainty\n",
    "                forecasts=pst.forecast_names # forecast observation names\n",
    "                )\n",
    "\n",
    "sc"
   ]
  },
  {
   "cell_type": "markdown",
   "metadata": {},
   "source": [
    "So that was easy...but maybe not the standard use case.  In many modeling analyses, there will be a separate scenario model - it is this model that will yield the forecast sensitivity vector(s) needed to map parameter uncertainty to forecast uncertainty.  That is, you will need to run the scenario model once for each adjustble parameter to fill a separate jacobian -  jacobian that has the same columns as the obervation jacobian, but has rows that are the forecasts.  \n",
    "\n",
    "In these cases you would have a (1) jacobian that pertains to the history matching model, and (2) a jacobian that pertains to the scenario model. For the purposes of FOSM, you would be interested in the sensitivities of history-matching observations recorded in (1) and sensitivities of forecast observations recorded in (2).\n",
    "\n",
    "Now we didnt do that here - our model forward run includes both the history matching and scenario periods. So our jacobian already contains both sets of sensitivities. But we can \"fake\" it just for the sake of demonstration. Let's pretend that we have a second jacobian calculated using a scenario model:\n"
   ]
  },
  {
   "cell_type": "code",
   "execution_count": 90,
   "metadata": {},
   "outputs": [],
   "source": [
    "pretend_second_jco = pyemu.Jco.from_binary(jco_file)"
   ]
  },
  {
   "cell_type": "markdown",
   "metadata": {},
   "source": [
    "\n",
    "Now we extract the forecast rows from the full jacobian:"
   ]
  },
  {
   "cell_type": "code",
   "execution_count": 91,
   "metadata": {},
   "outputs": [],
   "source": [
    "forecast_jco = pretend_second_jco.get(row_names=pst.forecast_names, drop=True)"
   ]
  },
  {
   "cell_type": "code",
   "execution_count": 92,
   "metadata": {},
   "outputs": [
    {
     "data": {
      "text/plain": [
       "((4, 415), (4623, 415))"
      ]
     },
     "execution_count": 92,
     "metadata": {},
     "output_type": "execute_result"
    }
   ],
   "source": [
    "# shape: number of obs rows, number of par columns\n",
    "forecast_jco.shape, jco.shape"
   ]
  },
  {
   "cell_type": "code",
   "execution_count": 93,
   "metadata": {},
   "outputs": [],
   "source": [
    "sc = pyemu.Schur(pst=pst, # the pest control file\n",
    "                jco=jco, # the jacobian matrix\n",
    "                parcov=cov, # the parameter covariance matrix; if not provided pyemu calculates from parameter bounds\n",
    "                obscov=obscov, # the obs noise cov matrix; necessary if obs weights in the pst do not reflect uncertainty\n",
    "                forecasts=forecast_jco.T # forecast sensitivity vectors\n",
    "                )"
   ]
  },
  {
   "cell_type": "markdown",
   "metadata": {},
   "source": [
    "Boom - easy! \n",
    "\n",
    "All computations are done and contained within `sc`.  We can now access different parts of `sc`. "
   ]
  },
  {
   "cell_type": "markdown",
   "metadata": {},
   "source": [
    "### Posterior Parameter Uncertainty\n",
    "\n",
    "Let's start by calculating the (approximate) __posterior__ parameter covariance matrix. Here, we are updating parameter covariance following notional calibration as represented by te Jacobian matrix and both prior parameter and observation noise covariance matrices. \n",
    "\n",
    "In other words, given prior parameter uncertainty (expressed by the prior `cov` matrix) and the inherent noise in measurments (expressed by the `obscov` matrix), we calculate the expected parameter uncertainty __after__ calibration. This assumes that calibration achieves a fit comensurate with measurement noise, parameter linearity, etc.\n",
    "\n",
    "The posterior parameter covariance is stored as a `pyemu.Cov` object in the `sc.posterior_parameter` attribute:"
   ]
  },
  {
   "cell_type": "code",
   "execution_count": 94,
   "metadata": {},
   "outputs": [
    {
     "data": {
      "text/plain": [
       "<pyemu.mat.mat_handler.Cov at 0x20981bffee0>"
      ]
     },
     "execution_count": 94,
     "metadata": {},
     "output_type": "execute_result"
    }
   ],
   "source": [
    "sc.posterior_parameter"
   ]
  },
  {
   "cell_type": "markdown",
   "metadata": {},
   "source": [
    "The diagonal of this matrix contains the posterior __variance__ for each parameter. The off-diagonals the parameter covariances. "
   ]
  },
  {
   "cell_type": "code",
   "execution_count": 95,
   "metadata": {},
   "outputs": [
    {
     "data": {
      "text/html": [
       "<div>\n",
       "<style scoped>\n",
       "    .dataframe tbody tr th:only-of-type {\n",
       "        vertical-align: middle;\n",
       "    }\n",
       "\n",
       "    .dataframe tbody tr th {\n",
       "        vertical-align: top;\n",
       "    }\n",
       "\n",
       "    .dataframe thead th {\n",
       "        text-align: right;\n",
       "    }\n",
       "</style>\n",
       "<table border=\"1\" class=\"dataframe\">\n",
       "  <thead>\n",
       "    <tr style=\"text-align: right;\">\n",
       "      <th></th>\n",
       "      <th>pname:ghbcondcn_inst:0_ptype:cn_usecol:4_pstyle:m</th>\n",
       "      <th>pname:ghbheadcn_inst:0_ptype:cn_usecol:3_pstyle:a</th>\n",
       "      <th>pname:nelayer1cn_inst:0_ptype:cn_pstyle:m</th>\n",
       "    </tr>\n",
       "  </thead>\n",
       "  <tbody>\n",
       "    <tr>\n",
       "      <th>pname:ghbcondcn_inst:0_ptype:cn_usecol:4_pstyle:m</th>\n",
       "      <td>0.088915</td>\n",
       "      <td>0.032815</td>\n",
       "      <td>0.000000</td>\n",
       "    </tr>\n",
       "    <tr>\n",
       "      <th>pname:ghbheadcn_inst:0_ptype:cn_usecol:3_pstyle:a</th>\n",
       "      <td>0.032815</td>\n",
       "      <td>0.068914</td>\n",
       "      <td>0.000000</td>\n",
       "    </tr>\n",
       "    <tr>\n",
       "      <th>pname:nelayer1cn_inst:0_ptype:cn_pstyle:m</th>\n",
       "      <td>0.000000</td>\n",
       "      <td>0.000000</td>\n",
       "      <td>0.054284</td>\n",
       "    </tr>\n",
       "  </tbody>\n",
       "</table>\n",
       "</div>"
      ],
      "text/plain": [
       "                                                   pname:ghbcondcn_inst:0_ptype:cn_usecol:4_pstyle:m  \\\n",
       "pname:ghbcondcn_inst:0_ptype:cn_usecol:4_pstyle:m                                           0.088915   \n",
       "pname:ghbheadcn_inst:0_ptype:cn_usecol:3_pstyle:a                                           0.032815   \n",
       "pname:nelayer1cn_inst:0_ptype:cn_pstyle:m                                                   0.000000   \n",
       "\n",
       "                                                   pname:ghbheadcn_inst:0_ptype:cn_usecol:3_pstyle:a  \\\n",
       "pname:ghbcondcn_inst:0_ptype:cn_usecol:4_pstyle:m                                           0.032815   \n",
       "pname:ghbheadcn_inst:0_ptype:cn_usecol:3_pstyle:a                                           0.068914   \n",
       "pname:nelayer1cn_inst:0_ptype:cn_pstyle:m                                                   0.000000   \n",
       "\n",
       "                                                   pname:nelayer1cn_inst:0_ptype:cn_pstyle:m  \n",
       "pname:ghbcondcn_inst:0_ptype:cn_usecol:4_pstyle:m                                   0.000000  \n",
       "pname:ghbheadcn_inst:0_ptype:cn_usecol:3_pstyle:a                                   0.000000  \n",
       "pname:nelayer1cn_inst:0_ptype:cn_pstyle:m                                           0.054284  "
      ]
     },
     "execution_count": 95,
     "metadata": {},
     "output_type": "execute_result"
    }
   ],
   "source": [
    "# display a slice of the cov matrix\n",
    "sc.posterior_parameter.to_dataframe().sort_index().sort_index(axis=1).iloc[0:3,0:3] "
   ]
  },
  {
   "cell_type": "markdown",
   "metadata": {},
   "source": [
    "Let's make a little work of art - a plot of the posterior cov matrix. As expected, we see posterior variance along the diagonal and off-diagonals are symmetric:"
   ]
  },
  {
   "cell_type": "code",
   "execution_count": 96,
   "metadata": {},
   "outputs": [
    {
     "data": {
      "text/plain": [
       "<matplotlib.colorbar.Colorbar at 0x209aca522b0>"
      ]
     },
     "execution_count": 96,
     "metadata": {},
     "output_type": "execute_result"
    },
    {
     "data": {
      "image/png": "[encoded data removed]",
      "text/plain": [
       "<Figure size 432x288 with 2 Axes>"
      ]
     },
     "metadata": {
      "needs_background": "light"
     },
     "output_type": "display_data"
    }
   ],
   "source": [
    "x = sc.posterior_parameter.x.copy()\n",
    "x[x<1e-7] = np.nan\n",
    "c = plt.imshow(x)\n",
    "plt.colorbar(c)"
   ]
  },
  {
   "cell_type": "markdown",
   "metadata": {},
   "source": [
    "But...is calibration worth pursuing or not? Let's explore what the notional calibration is expected to do for parameter uncertainty. We accomplish this by comparing parior and posterior parameter uncertainty. Using `.get_parameter_summary()` makes this easy:"
   ]
  },
  {
   "cell_type": "code",
   "execution_count": 97,
   "metadata": {},
   "outputs": [
    {
     "data": {
      "text/html": [
       "<div>\n",
       "<style scoped>\n",
       "    .dataframe tbody tr th:only-of-type {\n",
       "        vertical-align: middle;\n",
       "    }\n",
       "\n",
       "    .dataframe tbody tr th {\n",
       "        vertical-align: top;\n",
       "    }\n",
       "\n",
       "    .dataframe thead th {\n",
       "        text-align: right;\n",
       "    }\n",
       "</style>\n",
       "<table border=\"1\" class=\"dataframe\">\n",
       "  <thead>\n",
       "    <tr style=\"text-align: right;\">\n",
       "      <th></th>\n",
       "      <th>prior_var</th>\n",
       "      <th>post_var</th>\n",
       "      <th>percent_reduction</th>\n",
       "    </tr>\n",
       "  </thead>\n",
       "  <tbody>\n",
       "    <tr>\n",
       "      <th>pname:ghbheadcn_inst:0_ptype:cn_usecol:3_pstyle:a</th>\n",
       "      <td>0.444444</td>\n",
       "      <td>0.068914</td>\n",
       "      <td>84.494432</td>\n",
       "    </tr>\n",
       "    <tr>\n",
       "      <th>pname:sfrcondcn_inst:0_ptype:cn_usecol:9_pstyle:m</th>\n",
       "      <td>0.111111</td>\n",
       "      <td>0.017411</td>\n",
       "      <td>84.330237</td>\n",
       "    </tr>\n",
       "    <tr>\n",
       "      <th>pname:stosylayer1cn_inst:0_ptype:cn_pstyle:m</th>\n",
       "      <td>0.054284</td>\n",
       "      <td>0.009695</td>\n",
       "      <td>82.141109</td>\n",
       "    </tr>\n",
       "    <tr>\n",
       "      <th>pname:npfklayer3cn_inst:0_ptype:cn_pstyle:m</th>\n",
       "      <td>0.054284</td>\n",
       "      <td>0.011166</td>\n",
       "      <td>79.430629</td>\n",
       "    </tr>\n",
       "    <tr>\n",
       "      <th>pname:npfk33layer2cn_inst:0_ptype:cn_pstyle:m</th>\n",
       "      <td>0.054284</td>\n",
       "      <td>0.018942</td>\n",
       "      <td>65.106649</td>\n",
       "    </tr>\n",
       "  </tbody>\n",
       "</table>\n",
       "</div>"
      ],
      "text/plain": [
       "                                                   prior_var  post_var  \\\n",
       "pname:ghbheadcn_inst:0_ptype:cn_usecol:3_pstyle:a   0.444444  0.068914   \n",
       "pname:sfrcondcn_inst:0_ptype:cn_usecol:9_pstyle:m   0.111111  0.017411   \n",
       "pname:stosylayer1cn_inst:0_ptype:cn_pstyle:m        0.054284  0.009695   \n",
       "pname:npfklayer3cn_inst:0_ptype:cn_pstyle:m         0.054284  0.011166   \n",
       "pname:npfk33layer2cn_inst:0_ptype:cn_pstyle:m       0.054284  0.018942   \n",
       "\n",
       "                                                   percent_reduction  \n",
       "pname:ghbheadcn_inst:0_ptype:cn_usecol:3_pstyle:a          84.494432  \n",
       "pname:sfrcondcn_inst:0_ptype:cn_usecol:9_pstyle:m          84.330237  \n",
       "pname:stosylayer1cn_inst:0_ptype:cn_pstyle:m               82.141109  \n",
       "pname:npfklayer3cn_inst:0_ptype:cn_pstyle:m                79.430629  \n",
       "pname:npfk33layer2cn_inst:0_ptype:cn_pstyle:m              65.106649  "
      ]
     },
     "execution_count": 97,
     "metadata": {},
     "output_type": "execute_result"
    }
   ],
   "source": [
    "par_sum = sc.get_parameter_summary().sort_values(\"percent_reduction\",ascending=False)\n",
    "par_sum.head()"
   ]
  },
  {
   "cell_type": "markdown",
   "metadata": {},
   "source": [
    "As the name suggests, the `percent_reduction` column in `par_sum`shows the percentage decrease in uncertainty achievable through calibration for each parameter.\n",
    "\n",
    "For example, we can plot up the best ten:"
   ]
  },
  {
   "cell_type": "code",
   "execution_count": 98,
   "metadata": {},
   "outputs": [
    {
     "data": {
      "text/plain": [
       "Text(0.5, 1.0, 'Percent Reduction')"
      ]
     },
     "execution_count": 98,
     "metadata": {},
     "output_type": "execute_result"
    },
    {
     "data": {
      "image/png": "[encoded data removed]",
      "text/plain": [
       "<Figure size 432x288 with 1 Axes>"
      ]
     },
     "metadata": {
      "needs_background": "light"
     },
     "output_type": "display_data"
    }
   ],
   "source": [
    "# we can plot up the top 10 uncertainty reductions\n",
    "par_sum.iloc[0:10,:]['percent_reduction'].plot(kind='bar')\n",
    "plt.title('Percent Reduction')"
   ]
  },
  {
   "cell_type": "markdown",
   "metadata": {},
   "source": [
    "Alternatively we can compare the prior and posterior variances for the best ten:"
   ]
  },
  {
   "cell_type": "code",
   "execution_count": 99,
   "metadata": {},
   "outputs": [
    {
     "data": {
      "image/png": "[encoded data removed]",
      "text/plain": [
       "<Figure size 432x288 with 1 Axes>"
      ]
     },
     "metadata": {
      "needs_background": "light"
     },
     "output_type": "display_data"
    }
   ],
   "source": [
    "# we can plot up the prior and posterior variance \n",
    "# of the top 10 percent reductions\n",
    "par_sum.iloc[0:10,:][['prior_var','post_var']].plot(kind='bar');"
   ]
  },
  {
   "cell_type": "markdown",
   "metadata": {},
   "source": [
    "From the two plots above we can see that calibrating the model with available data reduces uncertainty of some parameters."
   ]
  },
  {
   "cell_type": "markdown",
   "metadata": {},
   "source": [
    "Let's look at the other end of the spectrum - parameters for which there was little uncertainty reduction. Let's insepect the end of the parameter summary dataframe:"
   ]
  },
  {
   "cell_type": "code",
   "execution_count": 100,
   "metadata": {},
   "outputs": [
    {
     "data": {
      "text/html": [
       "<div>\n",
       "<style scoped>\n",
       "    .dataframe tbody tr th:only-of-type {\n",
       "        vertical-align: middle;\n",
       "    }\n",
       "\n",
       "    .dataframe tbody tr th {\n",
       "        vertical-align: top;\n",
       "    }\n",
       "\n",
       "    .dataframe thead th {\n",
       "        text-align: right;\n",
       "    }\n",
       "</style>\n",
       "<table border=\"1\" class=\"dataframe\">\n",
       "  <thead>\n",
       "    <tr style=\"text-align: right;\">\n",
       "      <th></th>\n",
       "      <th>prior_var</th>\n",
       "      <th>post_var</th>\n",
       "      <th>percent_reduction</th>\n",
       "    </tr>\n",
       "  </thead>\n",
       "  <tbody>\n",
       "    <tr>\n",
       "      <th>pname:nelayer2pp_inst:0_ptype:pp_pstyle:m_i:2_j:6_zone:1.0</th>\n",
       "      <td>0.054284</td>\n",
       "      <td>0.054284</td>\n",
       "      <td>-4.440892e-14</td>\n",
       "    </tr>\n",
       "    <tr>\n",
       "      <th>pname:nelayer3pp_inst:0_ptype:pp_pstyle:m_i:26_j:2_zone:1.0</th>\n",
       "      <td>0.054284</td>\n",
       "      <td>0.054284</td>\n",
       "      <td>-4.440892e-14</td>\n",
       "    </tr>\n",
       "    <tr>\n",
       "      <th>pname:nelayer2pp_inst:0_ptype:pp_pstyle:m_i:34_j:14_zone:1.0</th>\n",
       "      <td>0.054284</td>\n",
       "      <td>0.054284</td>\n",
       "      <td>-4.440892e-14</td>\n",
       "    </tr>\n",
       "    <tr>\n",
       "      <th>pname:nelayer1pp_inst:0_ptype:pp_pstyle:m_i:22_j:10_zone:1.0</th>\n",
       "      <td>0.054284</td>\n",
       "      <td>0.054284</td>\n",
       "      <td>-4.440892e-14</td>\n",
       "    </tr>\n",
       "    <tr>\n",
       "      <th>pname:nelayer1pp_inst:0_ptype:pp_pstyle:m_i:26_j:2_zone:1.0</th>\n",
       "      <td>0.054284</td>\n",
       "      <td>0.054284</td>\n",
       "      <td>-4.440892e-14</td>\n",
       "    </tr>\n",
       "  </tbody>\n",
       "</table>\n",
       "</div>"
      ],
      "text/plain": [
       "                                                              prior_var  \\\n",
       "pname:nelayer2pp_inst:0_ptype:pp_pstyle:m_i:2_j:6_zone:1.0     0.054284   \n",
       "pname:nelayer3pp_inst:0_ptype:pp_pstyle:m_i:26_j:2_zone:1.0    0.054284   \n",
       "pname:nelayer2pp_inst:0_ptype:pp_pstyle:m_i:34_j:14_zone:1.0   0.054284   \n",
       "pname:nelayer1pp_inst:0_ptype:pp_pstyle:m_i:22_j:10_zone:1.0   0.054284   \n",
       "pname:nelayer1pp_inst:0_ptype:pp_pstyle:m_i:26_j:2_zone:1.0    0.054284   \n",
       "\n",
       "                                                              post_var  \\\n",
       "pname:nelayer2pp_inst:0_ptype:pp_pstyle:m_i:2_j:6_zone:1.0    0.054284   \n",
       "pname:nelayer3pp_inst:0_ptype:pp_pstyle:m_i:26_j:2_zone:1.0   0.054284   \n",
       "pname:nelayer2pp_inst:0_ptype:pp_pstyle:m_i:34_j:14_zone:1.0  0.054284   \n",
       "pname:nelayer1pp_inst:0_ptype:pp_pstyle:m_i:22_j:10_zone:1.0  0.054284   \n",
       "pname:nelayer1pp_inst:0_ptype:pp_pstyle:m_i:26_j:2_zone:1.0   0.054284   \n",
       "\n",
       "                                                              percent_reduction  \n",
       "pname:nelayer2pp_inst:0_ptype:pp_pstyle:m_i:2_j:6_zone:1.0        -4.440892e-14  \n",
       "pname:nelayer3pp_inst:0_ptype:pp_pstyle:m_i:26_j:2_zone:1.0       -4.440892e-14  \n",
       "pname:nelayer2pp_inst:0_ptype:pp_pstyle:m_i:34_j:14_zone:1.0      -4.440892e-14  \n",
       "pname:nelayer1pp_inst:0_ptype:pp_pstyle:m_i:22_j:10_zone:1.0      -4.440892e-14  \n",
       "pname:nelayer1pp_inst:0_ptype:pp_pstyle:m_i:26_j:2_zone:1.0       -4.440892e-14  "
      ]
     },
     "execution_count": 100,
     "metadata": {},
     "output_type": "execute_result"
    }
   ],
   "source": [
    "par_sum.iloc[-5:,:]"
   ]
  },
  {
   "cell_type": "markdown",
   "metadata": {},
   "source": [
    "Hmm - looks like there are some parameters which are not informed by calibration. Not surprising. For example, we are adjusting porosity values, but have no calibration observations which are affected by porosity..."
   ]
  },
  {
   "cell_type": "code",
   "execution_count": 101,
   "metadata": {},
   "outputs": [
    {
     "data": {
      "text/html": [
       "<div>\n",
       "<style scoped>\n",
       "    .dataframe tbody tr th:only-of-type {\n",
       "        vertical-align: middle;\n",
       "    }\n",
       "\n",
       "    .dataframe tbody tr th {\n",
       "        vertical-align: top;\n",
       "    }\n",
       "\n",
       "    .dataframe thead th {\n",
       "        text-align: right;\n",
       "    }\n",
       "</style>\n",
       "<table border=\"1\" class=\"dataframe\">\n",
       "  <thead>\n",
       "    <tr style=\"text-align: right;\">\n",
       "      <th></th>\n",
       "      <th>prior_var</th>\n",
       "      <th>post_var</th>\n",
       "      <th>percent_reduction</th>\n",
       "    </tr>\n",
       "  </thead>\n",
       "  <tbody>\n",
       "    <tr>\n",
       "      <th>pname:nelayer2pp_inst:0_ptype:pp_pstyle:m_i:2_j:6_zone:1.0</th>\n",
       "      <td>0.054284</td>\n",
       "      <td>0.054284</td>\n",
       "      <td>-4.440892e-14</td>\n",
       "    </tr>\n",
       "    <tr>\n",
       "      <th>pname:nelayer3pp_inst:0_ptype:pp_pstyle:m_i:26_j:2_zone:1.0</th>\n",
       "      <td>0.054284</td>\n",
       "      <td>0.054284</td>\n",
       "      <td>-4.440892e-14</td>\n",
       "    </tr>\n",
       "    <tr>\n",
       "      <th>pname:nelayer2pp_inst:0_ptype:pp_pstyle:m_i:34_j:14_zone:1.0</th>\n",
       "      <td>0.054284</td>\n",
       "      <td>0.054284</td>\n",
       "      <td>-4.440892e-14</td>\n",
       "    </tr>\n",
       "    <tr>\n",
       "      <th>pname:nelayer1pp_inst:0_ptype:pp_pstyle:m_i:22_j:10_zone:1.0</th>\n",
       "      <td>0.054284</td>\n",
       "      <td>0.054284</td>\n",
       "      <td>-4.440892e-14</td>\n",
       "    </tr>\n",
       "    <tr>\n",
       "      <th>pname:nelayer1pp_inst:0_ptype:pp_pstyle:m_i:26_j:2_zone:1.0</th>\n",
       "      <td>0.054284</td>\n",
       "      <td>0.054284</td>\n",
       "      <td>-4.440892e-14</td>\n",
       "    </tr>\n",
       "  </tbody>\n",
       "</table>\n",
       "</div>"
      ],
      "text/plain": [
       "                                                              prior_var  \\\n",
       "pname:nelayer2pp_inst:0_ptype:pp_pstyle:m_i:2_j:6_zone:1.0     0.054284   \n",
       "pname:nelayer3pp_inst:0_ptype:pp_pstyle:m_i:26_j:2_zone:1.0    0.054284   \n",
       "pname:nelayer2pp_inst:0_ptype:pp_pstyle:m_i:34_j:14_zone:1.0   0.054284   \n",
       "pname:nelayer1pp_inst:0_ptype:pp_pstyle:m_i:22_j:10_zone:1.0   0.054284   \n",
       "pname:nelayer1pp_inst:0_ptype:pp_pstyle:m_i:26_j:2_zone:1.0    0.054284   \n",
       "\n",
       "                                                              post_var  \\\n",
       "pname:nelayer2pp_inst:0_ptype:pp_pstyle:m_i:2_j:6_zone:1.0    0.054284   \n",
       "pname:nelayer3pp_inst:0_ptype:pp_pstyle:m_i:26_j:2_zone:1.0   0.054284   \n",
       "pname:nelayer2pp_inst:0_ptype:pp_pstyle:m_i:34_j:14_zone:1.0  0.054284   \n",
       "pname:nelayer1pp_inst:0_ptype:pp_pstyle:m_i:22_j:10_zone:1.0  0.054284   \n",
       "pname:nelayer1pp_inst:0_ptype:pp_pstyle:m_i:26_j:2_zone:1.0   0.054284   \n",
       "\n",
       "                                                              percent_reduction  \n",
       "pname:nelayer2pp_inst:0_ptype:pp_pstyle:m_i:2_j:6_zone:1.0        -4.440892e-14  \n",
       "pname:nelayer3pp_inst:0_ptype:pp_pstyle:m_i:26_j:2_zone:1.0       -4.440892e-14  \n",
       "pname:nelayer2pp_inst:0_ptype:pp_pstyle:m_i:34_j:14_zone:1.0      -4.440892e-14  \n",
       "pname:nelayer1pp_inst:0_ptype:pp_pstyle:m_i:22_j:10_zone:1.0      -4.440892e-14  \n",
       "pname:nelayer1pp_inst:0_ptype:pp_pstyle:m_i:26_j:2_zone:1.0       -4.440892e-14  "
      ]
     },
     "execution_count": 101,
     "metadata": {},
     "output_type": "execute_result"
    }
   ],
   "source": [
    "par_sum.tail()"
   ]
  },
  {
   "cell_type": "markdown",
   "metadata": {},
   "source": [
    "Let's make a quick check of what parameter groups these un-informed parameters are part of:"
   ]
  },
  {
   "cell_type": "code",
   "execution_count": 102,
   "metadata": {},
   "outputs": [
    {
     "data": {
      "text/plain": [
       "array(['npfklayer2pp', 'welcst', 'npfklayer1pp', 'sfrgr', 'npfklayer2cn',\n",
       "       'stosslayer3pp', 'stosslayer3cn', 'stosslayer2cn', 'nelayer1pp',\n",
       "       'nelayer3pp', 'nelayer2pp', 'rch_recharge_23tcn',\n",
       "       'rch_recharge_22tcn', 'nelayer1cn', 'rch_recharge_24tcn',\n",
       "       'rch_recharge_21tcn', 'rch_recharge_25tcn', 'rch_recharge_20tcn',\n",
       "       'nelayer3cn', 'rch_recharge_19tcn', 'rch_recharge_18tcn',\n",
       "       'rch_recharge_17tcn', 'rch_recharge_16tcn', 'nelayer2cn',\n",
       "       'rch_recharge_15tcn', 'rch_recharge_14tcn'], dtype=object)"
      ]
     },
     "execution_count": 102,
     "metadata": {},
     "output_type": "execute_result"
    }
   ],
   "source": [
    "# get list of parnames with <1% uncert reduction; 1% is an arbitrary subjective choice...\n",
    "uninf_par_names = par_sum.loc[par_sum['percent_reduction']<1].index.values\n",
    "\n",
    "# get corresponding par group names\n",
    "pst.parameter_data.loc[uninf_par_names, 'pargp'].unique()"
   ]
  },
  {
   "cell_type": "markdown",
   "metadata": {},
   "source": [
    "So, not too surprising to see porosity parameters groups as well as parameters for recharge in the prediction period. Others, such as storage and permeability parameter groups, indicate that available observation data is not informative for the entire model domain."
   ]
  },
  {
   "cell_type": "markdown",
   "metadata": {},
   "source": [
    "When working with spatially ditributed parameters, it can be informative to map the distribution of uncertainty reduction. For example, let's use some `flopy` trickery to plot the % uncertainty reduction for a set of pilot point parameters:"
   ]
  },
  {
   "cell_type": "code",
   "execution_count": 103,
   "metadata": {},
   "outputs": [],
   "source": [
    "# choose a pilot point parmaeter group\n",
    "pargp = 'npfklayer3pp'"
   ]
  },
  {
   "cell_type": "code",
   "execution_count": 104,
   "metadata": {},
   "outputs": [
    {
     "data": {
      "image/png": "[encoded data removed]",
      "text/plain": [
       "<Figure size 504x504 with 2 Axes>"
      ]
     },
     "metadata": {
      "needs_background": "light"
     },
     "output_type": "display_data"
    }
   ],
   "source": [
    "#get pars\n",
    "hk_pars = pst.parameter_data.loc[pst.parameter_data.pargp==pargp]\n",
    "hk_pars[['i','j']] = hk_pars[['i','j']].astype(int)\n",
    "hk_parsum=par_sum.loc[hk_pars.parnme, 'percent_reduction']\n",
    "\n",
    "# load simulation\n",
    "sim = flopy.mf6.MFSimulation.load(sim_ws=m_d, verbosity_level=0)\n",
    "# load flow model\n",
    "gwf = sim.get_model()\n",
    "\n",
    "# plot\n",
    "fig = plt.figure(figsize=(7, 7))\n",
    "ax = fig.add_subplot(1, 1, 1, aspect='equal')\n",
    "mm = flopy.plot.PlotMapView(model=gwf, ax=ax, layer=0)\n",
    "\n",
    "# Plot grid \n",
    "mm.plot_grid()\n",
    "mm.plot_inactive()\n",
    "mm.plot_bc('ghb')\n",
    "mm.plot_bc('sfr')\n",
    "\n",
    "# plot ppoints and % unc reduction\n",
    "pp_x = [gwf.modelgrid.xcellcenters[r-1,c-1] for r,c in hk_pars.loc[:,[\"i\",\"j\"]].values]\n",
    "pp_y = [gwf.modelgrid.ycellcenters[r-1,c-1] for r,c in hk_pars.loc[:,[\"i\",\"j\"]].values]\n",
    "scatter = ax.scatter(pp_x,pp_y,marker='o', s=hk_parsum, c=hk_parsum)\n",
    "plt.colorbar(scatter,label=\"percent uncertainty reduction\")\n",
    "\n",
    "# plot head obsveration points\n",
    "obs_ij = list(set([tuple(i.split('-')[-2:]) for i in pst.nnz_obs_groups if 'trgw' in i]))\n",
    "obs_x = [gwf.modelgrid.xcellcenters[int(i[0])-1,int(i[-1])-1] for i in obs_ij]\n",
    "obs_y = [gwf.modelgrid.ycellcenters[int(i[0])-1,int(i[-1])-1] for i in obs_ij]\n",
    "ax.scatter(obs_x,obs_y,marker='x', c='red', s=50)\n",
    "\n",
    "# Plot wells in layer 3\n",
    "mm = flopy.plot.PlotMapView(model=gwf, ax=ax, layer=2)\n",
    "mm.plot_bc('wel');"
   ]
  },
  {
   "cell_type": "markdown",
   "metadata": {},
   "source": [
    "As expected, much of the uncertainty reduction for hydraulic conductivity is located around head observation wells (red crosses) and the SFR boundary - both of which we have observation data for. More importantly, we can see that uncertainty in the west is not reduced much. So our existing data does not provide much information on these areas. Uncertainty here will only be constrained by our expert knowledge (i.e. the prior)."
   ]
  },
  {
   "cell_type": "markdown",
   "metadata": {},
   "source": [
    "## Forecast Uncertainty\n",
    "\n",
    "So far we have seen that some parameter uncertainty will be reduced. Uncertainty for other parameters will not be reduced. That's great and all, but what we really care about are our forecast uncertainties. Do the parameters that are informed by calibration affect the forecast of interest? And will calibrating reduce the uncertainty of the forecast?"
   ]
  },
  {
   "cell_type": "markdown",
   "metadata": {},
   "source": [
    "Let's examine the prior and posterior variance of our forecasts. Recall that these are recorded as observations in the `Pst` control file and also listed in the pest++ `forecast` control variable:"
   ]
  },
  {
   "cell_type": "code",
   "execution_count": 105,
   "metadata": {},
   "outputs": [
    {
     "data": {
      "text/plain": [
       "['oname:sfr_otype:lst_usecol:tailwater_time:4383.5',\n",
       " 'oname:sfr_otype:lst_usecol:headwater_time:4383.5',\n",
       " 'oname:hds_otype:lst_usecol:trgw-0-9-1_time:4383.5',\n",
       " 'part_time']"
      ]
     },
     "execution_count": 105,
     "metadata": {},
     "output_type": "execute_result"
    }
   ],
   "source": [
    "forecasts = sc.pst.forecast_names\n",
    "forecasts"
   ]
  },
  {
   "cell_type": "markdown",
   "metadata": {},
   "source": [
    "As before, `pyemu` has already done much of the heavy-lifting. We can get a summary of the forecast prior and posterior variances with `.get_forecast_summary()`:"
   ]
  },
  {
   "cell_type": "code",
   "execution_count": 106,
   "metadata": {},
   "outputs": [
    {
     "data": {
      "text/html": [
       "<div>\n",
       "<style scoped>\n",
       "    .dataframe tbody tr th:only-of-type {\n",
       "        vertical-align: middle;\n",
       "    }\n",
       "\n",
       "    .dataframe tbody tr th {\n",
       "        vertical-align: top;\n",
       "    }\n",
       "\n",
       "    .dataframe thead th {\n",
       "        text-align: right;\n",
       "    }\n",
       "</style>\n",
       "<table border=\"1\" class=\"dataframe\">\n",
       "  <thead>\n",
       "    <tr style=\"text-align: right;\">\n",
       "      <th></th>\n",
       "      <th>prior_var</th>\n",
       "      <th>post_var</th>\n",
       "      <th>percent_reduction</th>\n",
       "    </tr>\n",
       "  </thead>\n",
       "  <tbody>\n",
       "    <tr>\n",
       "      <th>oname:sfr_otype:lst_usecol:tailwater_time:4383.5</th>\n",
       "      <td>1.750545e+05</td>\n",
       "      <td>3.393013e+04</td>\n",
       "      <td>80.617393</td>\n",
       "    </tr>\n",
       "    <tr>\n",
       "      <th>oname:sfr_otype:lst_usecol:headwater_time:4383.5</th>\n",
       "      <td>8.510625e+04</td>\n",
       "      <td>2.761468e+04</td>\n",
       "      <td>67.552694</td>\n",
       "    </tr>\n",
       "    <tr>\n",
       "      <th>oname:hds_otype:lst_usecol:trgw-0-9-1_time:4383.5</th>\n",
       "      <td>2.466010e-01</td>\n",
       "      <td>4.404339e-02</td>\n",
       "      <td>82.139820</td>\n",
       "    </tr>\n",
       "    <tr>\n",
       "      <th>part_time</th>\n",
       "      <td>9.503174e+10</td>\n",
       "      <td>2.854639e+10</td>\n",
       "      <td>69.961201</td>\n",
       "    </tr>\n",
       "  </tbody>\n",
       "</table>\n",
       "</div>"
      ],
      "text/plain": [
       "                                                      prior_var      post_var  \\\n",
       "oname:sfr_otype:lst_usecol:tailwater_time:4383.5   1.750545e+05  3.393013e+04   \n",
       "oname:sfr_otype:lst_usecol:headwater_time:4383.5   8.510625e+04  2.761468e+04   \n",
       "oname:hds_otype:lst_usecol:trgw-0-9-1_time:4383.5  2.466010e-01  4.404339e-02   \n",
       "part_time                                          9.503174e+10  2.854639e+10   \n",
       "\n",
       "                                                   percent_reduction  \n",
       "oname:sfr_otype:lst_usecol:tailwater_time:4383.5           80.617393  \n",
       "oname:sfr_otype:lst_usecol:headwater_time:4383.5           67.552694  \n",
       "oname:hds_otype:lst_usecol:trgw-0-9-1_time:4383.5          82.139820  \n",
       "part_time                                                  69.961201  "
      ]
     },
     "execution_count": 106,
     "metadata": {},
     "output_type": "execute_result"
    }
   ],
   "source": [
    "df = sc.get_forecast_summary()\n",
    "df"
   ]
  },
  {
   "cell_type": "markdown",
   "metadata": {},
   "source": [
    "And we can make a cheeky little plot of that. As you can see, unsurprisingly some observations benefit more from calibration than others. So, depending on the foreacst of interest, calibration may or may not be worthwhile..."
   ]
  },
  {
   "cell_type": "code",
   "execution_count": 108,
   "metadata": {},
   "outputs": [
    {
     "data": {
      "text/plain": [
       "Text(0.5, 0, 'forecast')"
      ]
     },
     "execution_count": 108,
     "metadata": {},
     "output_type": "execute_result"
    },
    {
     "data": {
      "image/png": "[encoded data removed]",
      "text/plain": [
       "<Figure size 432x288 with 1 Axes>"
      ]
     },
     "metadata": {
      "needs_background": "light"
     },
     "output_type": "display_data"
    }
   ],
   "source": [
    "# get the forecast summary then make a bar chart of the percent_reduction column\n",
    "fig = plt.figure()\n",
    "ax = plt.subplot(111)\n",
    "ax = df.percent_reduction.plot(kind='bar',ax=ax,grid=True)\n",
    "ax.set_ylabel(\"percent uncertainy\\nreduction from calibration\")\n",
    "ax.set_xlabel(\"forecast\")\n",
    "#plt.tight_layout()"
   ]
  },
  {
   "cell_type": "markdown",
   "metadata": {},
   "source": [
    "## Parameter contribution to forecast uncertainty\n",
    "\n",
    "Information flows from observations to parameters and then out to forecasts. Information contained in observation data constrains parameter uncertainty, whcich in turn constrains forecast uncertainty. For a given forecast, we can evaluate which information contributes the most to uncertainty. This is accomplished by assuming a parameter (or group of parmaeters) is perfectly known and assessing forecast uncertainty under that assumption. Comparing this uncertainty to the forecast uncertainty under the base assumption in which no parameter is perfectly known, the contribution from that parameter (or parameter group) is obtained. \n",
    "\n",
    "Now, this is a pretty big assumption - in practice a parameter is never perfectly known. Nevertheless, this metric can provide usefull insights into the flow of information from data to forecast uncertainty, which can help guide data assimilation design as well as future data collection efforts. "
   ]
  },
  {
   "cell_type": "markdown",
   "metadata": {},
   "source": [
    "In `pyemu` we can  evaluate parameter contributions to forecast uncertainty with groups of parameters by type using `.get_par_group_contribution()`:"
   ]
  },
  {
   "cell_type": "code",
   "execution_count": 109,
   "metadata": {},
   "outputs": [
    {
     "data": {
      "text/html": [
       "<div>\n",
       "<style scoped>\n",
       "    .dataframe tbody tr th:only-of-type {\n",
       "        vertical-align: middle;\n",
       "    }\n",
       "\n",
       "    .dataframe tbody tr th {\n",
       "        vertical-align: top;\n",
       "    }\n",
       "\n",
       "    .dataframe thead th {\n",
       "        text-align: right;\n",
       "    }\n",
       "</style>\n",
       "<table border=\"1\" class=\"dataframe\">\n",
       "  <thead>\n",
       "    <tr style=\"text-align: right;\">\n",
       "      <th></th>\n",
       "      <th>oname:sfr_otype:lst_usecol:tailwater_time:4383.5</th>\n",
       "      <th>oname:sfr_otype:lst_usecol:headwater_time:4383.5</th>\n",
       "      <th>oname:hds_otype:lst_usecol:trgw-0-9-1_time:4383.5</th>\n",
       "      <th>part_time</th>\n",
       "    </tr>\n",
       "  </thead>\n",
       "  <tbody>\n",
       "    <tr>\n",
       "      <th>base</th>\n",
       "      <td>33930.125274</td>\n",
       "      <td>27614.683871</td>\n",
       "      <td>0.044043</td>\n",
       "      <td>2.854639e+10</td>\n",
       "    </tr>\n",
       "    <tr>\n",
       "      <th>ghbcondcn</th>\n",
       "      <td>33902.173664</td>\n",
       "      <td>27079.363415</td>\n",
       "      <td>0.043519</td>\n",
       "      <td>2.850600e+10</td>\n",
       "    </tr>\n",
       "    <tr>\n",
       "      <th>ghbheadcn</th>\n",
       "      <td>27144.451519</td>\n",
       "      <td>27430.196631</td>\n",
       "      <td>0.041844</td>\n",
       "      <td>2.356040e+10</td>\n",
       "    </tr>\n",
       "    <tr>\n",
       "      <th>nelayer1cn</th>\n",
       "      <td>33930.125274</td>\n",
       "      <td>27614.683871</td>\n",
       "      <td>0.044043</td>\n",
       "      <td>2.854287e+10</td>\n",
       "    </tr>\n",
       "    <tr>\n",
       "      <th>nelayer1pp</th>\n",
       "      <td>33930.125274</td>\n",
       "      <td>27614.683871</td>\n",
       "      <td>0.044043</td>\n",
       "      <td>2.854405e+10</td>\n",
       "    </tr>\n",
       "  </tbody>\n",
       "</table>\n",
       "</div>"
      ],
      "text/plain": [
       "            oname:sfr_otype:lst_usecol:tailwater_time:4383.5  \\\n",
       "base                                            33930.125274   \n",
       "ghbcondcn                                       33902.173664   \n",
       "ghbheadcn                                       27144.451519   \n",
       "nelayer1cn                                      33930.125274   \n",
       "nelayer1pp                                      33930.125274   \n",
       "\n",
       "            oname:sfr_otype:lst_usecol:headwater_time:4383.5  \\\n",
       "base                                            27614.683871   \n",
       "ghbcondcn                                       27079.363415   \n",
       "ghbheadcn                                       27430.196631   \n",
       "nelayer1cn                                      27614.683871   \n",
       "nelayer1pp                                      27614.683871   \n",
       "\n",
       "            oname:hds_otype:lst_usecol:trgw-0-9-1_time:4383.5     part_time  \n",
       "base                                                 0.044043  2.854639e+10  \n",
       "ghbcondcn                                            0.043519  2.850600e+10  \n",
       "ghbheadcn                                            0.041844  2.356040e+10  \n",
       "nelayer1cn                                           0.044043  2.854287e+10  \n",
       "nelayer1pp                                           0.044043  2.854405e+10  "
      ]
     },
     "execution_count": 109,
     "metadata": {},
     "output_type": "execute_result"
    }
   ],
   "source": [
    "par_contrib = sc.get_par_group_contribution()\n",
    "par_contrib.head()"
   ]
  },
  {
   "cell_type": "markdown",
   "metadata": {},
   "source": [
    "To see the relatve contribution by normalizing to the base case (e.g. in which no parameters/groups are perfectly known):"
   ]
  },
  {
   "cell_type": "code",
   "execution_count": 110,
   "metadata": {},
   "outputs": [
    {
     "data": {
      "text/html": [
       "<div>\n",
       "<style scoped>\n",
       "    .dataframe tbody tr th:only-of-type {\n",
       "        vertical-align: middle;\n",
       "    }\n",
       "\n",
       "    .dataframe tbody tr th {\n",
       "        vertical-align: top;\n",
       "    }\n",
       "\n",
       "    .dataframe thead th {\n",
       "        text-align: right;\n",
       "    }\n",
       "</style>\n",
       "<table border=\"1\" class=\"dataframe\">\n",
       "  <thead>\n",
       "    <tr style=\"text-align: right;\">\n",
       "      <th></th>\n",
       "      <th>oname:sfr_otype:lst_usecol:tailwater_time:4383.5</th>\n",
       "      <th>oname:sfr_otype:lst_usecol:headwater_time:4383.5</th>\n",
       "      <th>oname:hds_otype:lst_usecol:trgw-0-9-1_time:4383.5</th>\n",
       "      <th>part_time</th>\n",
       "    </tr>\n",
       "  </thead>\n",
       "  <tbody>\n",
       "    <tr>\n",
       "      <th>base</th>\n",
       "      <td>0.000000e+00</td>\n",
       "      <td>0.000000e+00</td>\n",
       "      <td>0.000000e+00</td>\n",
       "      <td>0.000000</td>\n",
       "    </tr>\n",
       "    <tr>\n",
       "      <th>ghbcondcn</th>\n",
       "      <td>8.237992e-02</td>\n",
       "      <td>1.938536e+00</td>\n",
       "      <td>1.189812e+00</td>\n",
       "      <td>0.141487</td>\n",
       "    </tr>\n",
       "    <tr>\n",
       "      <th>ghbheadcn</th>\n",
       "      <td>1.999896e+01</td>\n",
       "      <td>6.680766e-01</td>\n",
       "      <td>4.993621e+00</td>\n",
       "      <td>17.466279</td>\n",
       "    </tr>\n",
       "    <tr>\n",
       "      <th>nelayer1cn</th>\n",
       "      <td>-4.288789e-14</td>\n",
       "      <td>-2.634815e-14</td>\n",
       "      <td>3.150935e-14</td>\n",
       "      <td>0.012360</td>\n",
       "    </tr>\n",
       "    <tr>\n",
       "      <th>nelayer1pp</th>\n",
       "      <td>6.433184e-14</td>\n",
       "      <td>1.844370e-13</td>\n",
       "      <td>2.993389e-13</td>\n",
       "      <td>0.008211</td>\n",
       "    </tr>\n",
       "  </tbody>\n",
       "</table>\n",
       "</div>"
      ],
      "text/plain": [
       "            oname:sfr_otype:lst_usecol:tailwater_time:4383.5  \\\n",
       "base                                            0.000000e+00   \n",
       "ghbcondcn                                       8.237992e-02   \n",
       "ghbheadcn                                       1.999896e+01   \n",
       "nelayer1cn                                     -4.288789e-14   \n",
       "nelayer1pp                                      6.433184e-14   \n",
       "\n",
       "            oname:sfr_otype:lst_usecol:headwater_time:4383.5  \\\n",
       "base                                            0.000000e+00   \n",
       "ghbcondcn                                       1.938536e+00   \n",
       "ghbheadcn                                       6.680766e-01   \n",
       "nelayer1cn                                     -2.634815e-14   \n",
       "nelayer1pp                                      1.844370e-13   \n",
       "\n",
       "            oname:hds_otype:lst_usecol:trgw-0-9-1_time:4383.5  part_time  \n",
       "base                                             0.000000e+00   0.000000  \n",
       "ghbcondcn                                        1.189812e+00   0.141487  \n",
       "ghbheadcn                                        4.993621e+00  17.466279  \n",
       "nelayer1cn                                       3.150935e-14   0.012360  \n",
       "nelayer1pp                                       2.993389e-13   0.008211  "
      ]
     },
     "execution_count": 110,
     "metadata": {},
     "output_type": "execute_result"
    }
   ],
   "source": [
    "base = par_contrib.loc[\"base\",:]\n",
    "par_contrib = 100.0 * (base - par_contrib) / base\n",
    "par_contrib.sort_index().head()"
   ]
  },
  {
   "cell_type": "markdown",
   "metadata": {},
   "source": [
    "Now it is a simple matter to plot these up for each forecast. Remember! Parameter contributions to uncertainty are forecast specific. The plots below display the top ten parameter groups that contribute to each forecast's uncertainty. Note that different forecasts are affected by different parameters. \n"
   ]
  },
  {
   "cell_type": "code",
   "execution_count": 111,
   "metadata": {},
   "outputs": [
    {
     "data": {
      "image/png": "[encoded data removed]",
      "text/plain": [
       "<Figure size 1080x288 with 4 Axes>"
      ]
     },
     "metadata": {
      "needs_background": "light"
     },
     "output_type": "display_data"
    }
   ],
   "source": [
    "plt.figure(figsize=(15,4))\n",
    "i=1\n",
    "for forecast in par_contrib.columns:\n",
    "    fore_df = par_contrib.loc[:,forecast].copy()\n",
    "    fore_df.sort_values(inplace=True, ascending=False)\n",
    "    ax = plt.subplot(1,4,i, sharey=ax)\n",
    "    i+=1\n",
    "    fore_df.iloc[:10].plot(kind=\"bar\",color=\"tab:blue\", ax =ax)\n",
    "    ax.set_title(forecast)\n",
    "    ax.set_ylabel(\"percent variance reduction\")\n",
    "    #plt.show()"
   ]
  },
  {
   "cell_type": "markdown",
   "metadata": {},
   "source": [
    "Understanding the links between parameters and forecast uncertainties can be usefull - in particular to gain insight into the system dynamics. But we are still missing a step to understand what _observation_ data affects the forecast. It is often more straightforward to quantify how observation information imapcts forecast uncertianty so that we can explore the worth of observation data directly."
   ]
  },
  {
   "cell_type": "markdown",
   "metadata": {},
   "source": [
    "# Data worth analysis\n",
    "\n",
    "The worth of data is measured by their ability to reduce the uncertainties of model predictions that we care about. Linear analysis is particularly useful for exploring data worth. This is because the equations that it uses to calculate predictive uncertainty do not include terms that represent the actual values of observations or of parameters; only sensitivities of model outputs to parameters are required. Therefore, linear analysis can be used to assess the ability (or otherwise) of yet-ungathered data to reduce the uncertainties of decision-critical predictions.\n",
    "\n",
    "This means that potential field measurements that correspond to one or many outputs of a model can be assessed for their worth. For example, it is possible to assess the worth of observations of head in every single model cell at every time step of a model run with a relatively small computational burden. This makes linear analysis a useful tool for designing and comparing strategies for data-collection, when data acquisition seeks to reduce the uncertainties of one or a number of decision-critical predictions. \n",
    "\n",
    "There are two main applications for data worth analysis:\n",
    " 1.\tranking of the relative worth of existing observations by calculating predictive uncertainty with selected individual or combined observations removed from a calibration dataset. \n",
    " 2.\tranking of the relative worth of __potential__ new observations by calculating predictive uncertainty with selected individual or combined observations added to an existing calibration dataset.\n"
   ]
  },
  {
   "cell_type": "markdown",
   "metadata": {},
   "source": [
    "## Data worth - evaluating existing observations\n",
    "\n",
    "Here we identify which (existing) observations are most important to reducing the posterior uncertainty of a specific forecast. To acomplish this, we simply need to recalculate the Schur complement, but ignoring some of the observation sensitivities. \n",
    "\n",
    "Once again, `pyemu` makes this easy for us with the `get_removed_obs_importance()` method.  This method tests how important individual __non-zero__ observations are for reducing uncertainty for each forecast observation. By default, it tests all non-zero obsevrations in the control file and returns a `Dataframe`:\n"
   ]
  },
  {
   "cell_type": "code",
   "execution_count": 112,
   "metadata": {},
   "outputs": [
    {
     "data": {
      "text/html": [
       "<div>\n",
       "<style scoped>\n",
       "    .dataframe tbody tr th:only-of-type {\n",
       "        vertical-align: middle;\n",
       "    }\n",
       "\n",
       "    .dataframe tbody tr th {\n",
       "        vertical-align: top;\n",
       "    }\n",
       "\n",
       "    .dataframe thead th {\n",
       "        text-align: right;\n",
       "    }\n",
       "</style>\n",
       "<table border=\"1\" class=\"dataframe\">\n",
       "  <thead>\n",
       "    <tr style=\"text-align: right;\">\n",
       "      <th></th>\n",
       "      <th>oname:sfr_otype:lst_usecol:tailwater_time:4383.5</th>\n",
       "      <th>oname:sfr_otype:lst_usecol:headwater_time:4383.5</th>\n",
       "      <th>oname:hds_otype:lst_usecol:trgw-0-9-1_time:4383.5</th>\n",
       "      <th>part_time</th>\n",
       "    </tr>\n",
       "  </thead>\n",
       "  <tbody>\n",
       "    <tr>\n",
       "      <th>base</th>\n",
       "      <td>33930.125274</td>\n",
       "      <td>27614.683871</td>\n",
       "      <td>0.044043</td>\n",
       "      <td>2.854639e+10</td>\n",
       "    </tr>\n",
       "    <tr>\n",
       "      <th>oname:hds_otype:lst_usecol:trgw-0-26-6_time:3683.5</th>\n",
       "      <td>33950.824708</td>\n",
       "      <td>27614.697820</td>\n",
       "      <td>0.044057</td>\n",
       "      <td>2.856631e+10</td>\n",
       "    </tr>\n",
       "    <tr>\n",
       "      <th>oname:hds_otype:lst_usecol:trgw-0-26-6_time:3712.5</th>\n",
       "      <td>33951.017753</td>\n",
       "      <td>27614.685268</td>\n",
       "      <td>0.044047</td>\n",
       "      <td>2.856013e+10</td>\n",
       "    </tr>\n",
       "    <tr>\n",
       "      <th>oname:hds_otype:lst_usecol:trgw-0-26-6_time:3743.5</th>\n",
       "      <td>33931.216441</td>\n",
       "      <td>27621.510220</td>\n",
       "      <td>0.044056</td>\n",
       "      <td>2.856571e+10</td>\n",
       "    </tr>\n",
       "    <tr>\n",
       "      <th>oname:hds_otype:lst_usecol:trgw-0-26-6_time:3773.5</th>\n",
       "      <td>33933.601904</td>\n",
       "      <td>27641.881032</td>\n",
       "      <td>0.044100</td>\n",
       "      <td>2.856961e+10</td>\n",
       "    </tr>\n",
       "  </tbody>\n",
       "</table>\n",
       "</div>"
      ],
      "text/plain": [
       "                                                    oname:sfr_otype:lst_usecol:tailwater_time:4383.5  \\\n",
       "base                                                                                    33930.125274   \n",
       "oname:hds_otype:lst_usecol:trgw-0-26-6_time:3683.5                                      33950.824708   \n",
       "oname:hds_otype:lst_usecol:trgw-0-26-6_time:3712.5                                      33951.017753   \n",
       "oname:hds_otype:lst_usecol:trgw-0-26-6_time:3743.5                                      33931.216441   \n",
       "oname:hds_otype:lst_usecol:trgw-0-26-6_time:3773.5                                      33933.601904   \n",
       "\n",
       "                                                    oname:sfr_otype:lst_usecol:headwater_time:4383.5  \\\n",
       "base                                                                                    27614.683871   \n",
       "oname:hds_otype:lst_usecol:trgw-0-26-6_time:3683.5                                      27614.697820   \n",
       "oname:hds_otype:lst_usecol:trgw-0-26-6_time:3712.5                                      27614.685268   \n",
       "oname:hds_otype:lst_usecol:trgw-0-26-6_time:3743.5                                      27621.510220   \n",
       "oname:hds_otype:lst_usecol:trgw-0-26-6_time:3773.5                                      27641.881032   \n",
       "\n",
       "                                                    oname:hds_otype:lst_usecol:trgw-0-9-1_time:4383.5  \\\n",
       "base                                                                                         0.044043   \n",
       "oname:hds_otype:lst_usecol:trgw-0-26-6_time:3683.5                                           0.044057   \n",
       "oname:hds_otype:lst_usecol:trgw-0-26-6_time:3712.5                                           0.044047   \n",
       "oname:hds_otype:lst_usecol:trgw-0-26-6_time:3743.5                                           0.044056   \n",
       "oname:hds_otype:lst_usecol:trgw-0-26-6_time:3773.5                                           0.044100   \n",
       "\n",
       "                                                       part_time  \n",
       "base                                                2.854639e+10  \n",
       "oname:hds_otype:lst_usecol:trgw-0-26-6_time:3683.5  2.856631e+10  \n",
       "oname:hds_otype:lst_usecol:trgw-0-26-6_time:3712.5  2.856013e+10  \n",
       "oname:hds_otype:lst_usecol:trgw-0-26-6_time:3743.5  2.856571e+10  \n",
       "oname:hds_otype:lst_usecol:trgw-0-26-6_time:3773.5  2.856961e+10  "
      ]
     },
     "execution_count": 112,
     "metadata": {},
     "output_type": "execute_result"
    }
   ],
   "source": [
    "df_worth = sc.get_removed_obs_importance()\n",
    "df_worth.head()"
   ]
  },
  {
   "cell_type": "markdown",
   "metadata": {},
   "source": [
    "It may be more usefull to look at groupings of observations. For example, in our case we are dealing with time series of measurments at different locations. It may be more usefull to assess the worth of the entire time series of data, and not just each individual measurement. \n",
    "\n",
    "We can assess groupings of observations by passsing a dictionary with non-zero observation name lists as values. Let's first create such a dictionary. In our case, the time series of observations from each site is in a distinct observation group. So we can simply group observations by observation group name:"
   ]
  },
  {
   "cell_type": "code",
   "execution_count": 113,
   "metadata": {},
   "outputs": [],
   "source": [
    "obs_nz = sc.pst.observation_data.loc[pst.nnz_obs_names]\n",
    "nn_obs_dict={}\n",
    "for obsgp in pst.nnz_obs_groups:\n",
    "    values = obs_nz.loc[obs_nz.obgnme==obsgp, 'obsnme'].tolist()\n",
    "    nn_obs_dict[obsgp]=values"
   ]
  },
  {
   "cell_type": "markdown",
   "metadata": {},
   "source": [
    "And now recalculate data worth using the dictionary:"
   ]
  },
  {
   "cell_type": "code",
   "execution_count": 114,
   "metadata": {},
   "outputs": [
    {
     "data": {
      "text/html": [
       "<div>\n",
       "<style scoped>\n",
       "    .dataframe tbody tr th:only-of-type {\n",
       "        vertical-align: middle;\n",
       "    }\n",
       "\n",
       "    .dataframe tbody tr th {\n",
       "        vertical-align: top;\n",
       "    }\n",
       "\n",
       "    .dataframe thead th {\n",
       "        text-align: right;\n",
       "    }\n",
       "</style>\n",
       "<table border=\"1\" class=\"dataframe\">\n",
       "  <thead>\n",
       "    <tr style=\"text-align: right;\">\n",
       "      <th></th>\n",
       "      <th>oname:sfr_otype:lst_usecol:tailwater_time:4383.5</th>\n",
       "      <th>oname:sfr_otype:lst_usecol:headwater_time:4383.5</th>\n",
       "      <th>oname:hds_otype:lst_usecol:trgw-0-9-1_time:4383.5</th>\n",
       "      <th>part_time</th>\n",
       "    </tr>\n",
       "  </thead>\n",
       "  <tbody>\n",
       "    <tr>\n",
       "      <th>base</th>\n",
       "      <td>33930.125274</td>\n",
       "      <td>27614.683871</td>\n",
       "      <td>0.044043</td>\n",
       "      <td>2.854639e+10</td>\n",
       "    </tr>\n",
       "    <tr>\n",
       "      <th>oname:hds_otype:lst_usecol:trgw-0-26-6</th>\n",
       "      <td>34410.006305</td>\n",
       "      <td>27785.873317</td>\n",
       "      <td>0.044431</td>\n",
       "      <td>2.891126e+10</td>\n",
       "    </tr>\n",
       "    <tr>\n",
       "      <th>oname:hds_otype:lst_usecol:trgw-0-3-8</th>\n",
       "      <td>34330.187564</td>\n",
       "      <td>27717.331599</td>\n",
       "      <td>0.044546</td>\n",
       "      <td>2.860607e+10</td>\n",
       "    </tr>\n",
       "    <tr>\n",
       "      <th>oname:hds_otype:lst_usecol:trgw-2-26-6</th>\n",
       "      <td>34431.526801</td>\n",
       "      <td>27799.711503</td>\n",
       "      <td>0.044393</td>\n",
       "      <td>2.890557e+10</td>\n",
       "    </tr>\n",
       "    <tr>\n",
       "      <th>oname:hds_otype:lst_usecol:trgw-2-3-8</th>\n",
       "      <td>34229.369491</td>\n",
       "      <td>27696.294706</td>\n",
       "      <td>0.044697</td>\n",
       "      <td>2.860467e+10</td>\n",
       "    </tr>\n",
       "  </tbody>\n",
       "</table>\n",
       "</div>"
      ],
      "text/plain": [
       "                                        oname:sfr_otype:lst_usecol:tailwater_time:4383.5  \\\n",
       "base                                                                        33930.125274   \n",
       "oname:hds_otype:lst_usecol:trgw-0-26-6                                      34410.006305   \n",
       "oname:hds_otype:lst_usecol:trgw-0-3-8                                       34330.187564   \n",
       "oname:hds_otype:lst_usecol:trgw-2-26-6                                      34431.526801   \n",
       "oname:hds_otype:lst_usecol:trgw-2-3-8                                       34229.369491   \n",
       "\n",
       "                                        oname:sfr_otype:lst_usecol:headwater_time:4383.5  \\\n",
       "base                                                                        27614.683871   \n",
       "oname:hds_otype:lst_usecol:trgw-0-26-6                                      27785.873317   \n",
       "oname:hds_otype:lst_usecol:trgw-0-3-8                                       27717.331599   \n",
       "oname:hds_otype:lst_usecol:trgw-2-26-6                                      27799.711503   \n",
       "oname:hds_otype:lst_usecol:trgw-2-3-8                                       27696.294706   \n",
       "\n",
       "                                        oname:hds_otype:lst_usecol:trgw-0-9-1_time:4383.5  \\\n",
       "base                                                                             0.044043   \n",
       "oname:hds_otype:lst_usecol:trgw-0-26-6                                           0.044431   \n",
       "oname:hds_otype:lst_usecol:trgw-0-3-8                                            0.044546   \n",
       "oname:hds_otype:lst_usecol:trgw-2-26-6                                           0.044393   \n",
       "oname:hds_otype:lst_usecol:trgw-2-3-8                                            0.044697   \n",
       "\n",
       "                                           part_time  \n",
       "base                                    2.854639e+10  \n",
       "oname:hds_otype:lst_usecol:trgw-0-26-6  2.891126e+10  \n",
       "oname:hds_otype:lst_usecol:trgw-0-3-8   2.860607e+10  \n",
       "oname:hds_otype:lst_usecol:trgw-2-26-6  2.890557e+10  \n",
       "oname:hds_otype:lst_usecol:trgw-2-3-8   2.860467e+10  "
      ]
     },
     "execution_count": 114,
     "metadata": {},
     "output_type": "execute_result"
    }
   ],
   "source": [
    "dw_rm = sc.get_removed_obs_importance(nn_obs_dict)\n",
    "dw_rm.head()"
   ]
  },
  {
   "cell_type": "markdown",
   "metadata": {},
   "source": [
    "The `base` row contains the results of the Schur's complement calculation using all observations (so the forecast unceratainty assuming all observation data is used for calibration). Subsequently, there  is a row for each non-zero obsevration group. Each row lists forecast uncertainties calculated assuming that the observation group was __not__ used for history matching. "
   ]
  },
  {
   "cell_type": "markdown",
   "metadata": {},
   "source": [
    "We can normalize the importance of each row to the base case (i.e. the lowest uncertainty, or maximum uncertainty reduction), provinding a easy to interpret metric of importance. We can then quickly identify which observation/observation grouping are important for reducing forecast uncertainty:"
   ]
  },
  {
   "cell_type": "code",
   "execution_count": 115,
   "metadata": {},
   "outputs": [
    {
     "data": {
      "text/html": [
       "<div>\n",
       "<style scoped>\n",
       "    .dataframe tbody tr th:only-of-type {\n",
       "        vertical-align: middle;\n",
       "    }\n",
       "\n",
       "    .dataframe tbody tr th {\n",
       "        vertical-align: top;\n",
       "    }\n",
       "\n",
       "    .dataframe thead th {\n",
       "        text-align: right;\n",
       "    }\n",
       "</style>\n",
       "<table border=\"1\" class=\"dataframe\">\n",
       "  <thead>\n",
       "    <tr style=\"text-align: right;\">\n",
       "      <th></th>\n",
       "      <th>oname:sfr_otype:lst_usecol:tailwater_time:4383.5</th>\n",
       "      <th>oname:sfr_otype:lst_usecol:headwater_time:4383.5</th>\n",
       "      <th>oname:hds_otype:lst_usecol:trgw-0-9-1_time:4383.5</th>\n",
       "      <th>part_time</th>\n",
       "    </tr>\n",
       "  </thead>\n",
       "  <tbody>\n",
       "    <tr>\n",
       "      <th>base</th>\n",
       "      <td>0.000000</td>\n",
       "      <td>0.000000</td>\n",
       "      <td>0.000000</td>\n",
       "      <td>0.000000</td>\n",
       "    </tr>\n",
       "    <tr>\n",
       "      <th>oname:hds_otype:lst_usecol:trgw-0-26-6</th>\n",
       "      <td>1.414321</td>\n",
       "      <td>0.619922</td>\n",
       "      <td>0.880316</td>\n",
       "      <td>1.278149</td>\n",
       "    </tr>\n",
       "    <tr>\n",
       "      <th>oname:hds_otype:lst_usecol:trgw-0-3-8</th>\n",
       "      <td>1.179077</td>\n",
       "      <td>0.371714</td>\n",
       "      <td>1.140253</td>\n",
       "      <td>0.209058</td>\n",
       "    </tr>\n",
       "    <tr>\n",
       "      <th>oname:hds_otype:lst_usecol:trgw-2-26-6</th>\n",
       "      <td>1.477747</td>\n",
       "      <td>0.670033</td>\n",
       "      <td>0.794370</td>\n",
       "      <td>1.258217</td>\n",
       "    </tr>\n",
       "    <tr>\n",
       "      <th>oname:hds_otype:lst_usecol:trgw-2-3-8</th>\n",
       "      <td>0.881943</td>\n",
       "      <td>0.295534</td>\n",
       "      <td>1.483889</td>\n",
       "      <td>0.204158</td>\n",
       "    </tr>\n",
       "  </tbody>\n",
       "</table>\n",
       "</div>"
      ],
      "text/plain": [
       "                                        oname:sfr_otype:lst_usecol:tailwater_time:4383.5  \\\n",
       "base                                                                            0.000000   \n",
       "oname:hds_otype:lst_usecol:trgw-0-26-6                                          1.414321   \n",
       "oname:hds_otype:lst_usecol:trgw-0-3-8                                           1.179077   \n",
       "oname:hds_otype:lst_usecol:trgw-2-26-6                                          1.477747   \n",
       "oname:hds_otype:lst_usecol:trgw-2-3-8                                           0.881943   \n",
       "\n",
       "                                        oname:sfr_otype:lst_usecol:headwater_time:4383.5  \\\n",
       "base                                                                            0.000000   \n",
       "oname:hds_otype:lst_usecol:trgw-0-26-6                                          0.619922   \n",
       "oname:hds_otype:lst_usecol:trgw-0-3-8                                           0.371714   \n",
       "oname:hds_otype:lst_usecol:trgw-2-26-6                                          0.670033   \n",
       "oname:hds_otype:lst_usecol:trgw-2-3-8                                           0.295534   \n",
       "\n",
       "                                        oname:hds_otype:lst_usecol:trgw-0-9-1_time:4383.5  \\\n",
       "base                                                                             0.000000   \n",
       "oname:hds_otype:lst_usecol:trgw-0-26-6                                           0.880316   \n",
       "oname:hds_otype:lst_usecol:trgw-0-3-8                                            1.140253   \n",
       "oname:hds_otype:lst_usecol:trgw-2-26-6                                           0.794370   \n",
       "oname:hds_otype:lst_usecol:trgw-2-3-8                                            1.483889   \n",
       "\n",
       "                                        part_time  \n",
       "base                                     0.000000  \n",
       "oname:hds_otype:lst_usecol:trgw-0-26-6   1.278149  \n",
       "oname:hds_otype:lst_usecol:trgw-0-3-8    0.209058  \n",
       "oname:hds_otype:lst_usecol:trgw-2-26-6   1.258217  \n",
       "oname:hds_otype:lst_usecol:trgw-2-3-8    0.204158  "
      ]
     },
     "execution_count": 115,
     "metadata": {},
     "output_type": "execute_result"
    }
   ],
   "source": [
    "# let's normalize to make more meaningful comparisons of data worth (unctainty variance reduction)\n",
    "base = dw_rm.loc[\"base\",:]\n",
    "dw_rm = 100 * (dw_rm  - base) / base\n",
    "dw_rm.head()"
   ]
  },
  {
   "cell_type": "markdown",
   "metadata": {},
   "source": [
    "Let's plot the ten most important observations for each forecast. "
   ]
  },
  {
   "cell_type": "code",
   "execution_count": 79,
   "metadata": {},
   "outputs": [
    {
     "data": {
      "image/png": "[encoded data removed]",
      "text/plain": [
       "<Figure size 1080x288 with 4 Axes>"
      ]
     },
     "metadata": {
      "needs_background": "light"
     },
     "output_type": "display_data"
    }
   ],
   "source": [
    "plt.figure(figsize=(15,4))\n",
    "i=1\n",
    "for forecast in dw_rm.columns:\n",
    "    ax = plt.subplot(1,4,i, sharey=ax)\n",
    "    i+=1\n",
    "    fore_df = dw_rm.loc[:,forecast].copy()\n",
    "    fore_df.sort_values(inplace=True, ascending=False)\n",
    "    fore_df.iloc[:10].plot(kind=\"bar\",color=\"b\", ax=ax)\n",
    "    ax.set_title(forecast)\n",
    "    ax.set_ylabel(\"percent variance increase\")\n",
    "plt.show()"
   ]
  },
  {
   "cell_type": "markdown",
   "metadata": {},
   "source": [
    "We also have the option of calculating the worth of obsverations by taking a \"base\" condition of zero observations (i.e. no measurment information at all) and calculating the reduction in uncertainty by __adding__ observations to the dataset.\n",
    "\n",
    "Here we are obtaining a measure of the worth of the observation __on its own__. This provides a metric of the absolute worth of information contained by the observation. The previous metric (of removed importance) provides a measure of the worth that the observation contributes to the existing dataset; so how much more information do we gain by also including this observation. \n",
    "\n",
    "In summary, the importance calculated by __removing__ an observation provides a measure of the extra information gained by including that observation into an existing dataset. The importance calculated by __adding__ an observation provides a measure of the total information content of a single obsveration (or group of observations)."
   ]
  },
  {
   "cell_type": "code",
   "execution_count": 80,
   "metadata": {},
   "outputs": [
    {
     "data": {
      "image/png": "[encoded data removed]",
      "text/plain": [
       "<Figure size 1080x288 with 4 Axes>"
      ]
     },
     "metadata": {
      "needs_background": "light"
     },
     "output_type": "display_data"
    }
   ],
   "source": [
    "dw_ad = sc.get_added_obs_importance(nn_obs_dict)\n",
    "base = dw_ad.loc[\"base\",:]\n",
    "dw_ad = 100 * (base - dw_ad) / base\n",
    "plt.figure(figsize=(15,4))\n",
    "i=1\n",
    "for forecast in dw_ad.columns:\n",
    "    ax = plt.subplot(1,4,i, sharey=ax)\n",
    "    i+=1\n",
    "    fore_df_ad = dw_ad.loc[:,forecast].copy()\n",
    "    fore_df_ad.sort_values(inplace=True, ascending=False)\n",
    "    fore_df_ad.iloc[:20].plot(kind=\"bar\",color=\"b\", ax=ax)\n",
    "    ax.set_title(forecast)\n",
    "    ax.set_ylabel(\"percent variance decrease\")\n",
    "plt.show()"
   ]
  },
  {
   "cell_type": "markdown",
   "metadata": {},
   "source": [
    "## Data worth - the value of potential new observations\n",
    "\n",
    "This is where things get really cool. As previously mentioned, the equations on which FOSM is based do not rely on knowing the values of observations - only their sensitivities. This allows us to calculate the worth of as-of-yet uncollected data. \n",
    "\n",
    "Recall from the \"pstfrom_pest_setup\" tutorial that we included the simulated head in every cell at the end of every stress period as observations in our PEST dataset. (We included a function to extract these values from the MODFLOW6 generated outputs as part of the model forward run.) We have been \"carrying\" these zero-weighted observations all this time. Therefore, we can repeat our analysis of the worth of \"adding\" these observations to the dataset by simply \"turning them on\".\n",
    "\n",
    "Cell-by-cell head obsvervations are in the observation groups named `hdslay1`, `hdslay2` and `hdslay3`. For the sake of this tutorial, let's focus on `hdslay3` - cell-by-cell heads in the deeper layer3."
   ]
  },
  {
   "cell_type": "code",
   "execution_count": 125,
   "metadata": {},
   "outputs": [
    {
     "data": {
      "text/plain": [
       "['oname:hdslay1_otype:arr_i:0_j:0',\n",
       " 'oname:hdslay1_otype:arr_i:0_j:1',\n",
       " 'oname:hdslay1_otype:arr_i:0_j:10',\n",
       " 'oname:hdslay1_otype:arr_i:0_j:11',\n",
       " 'oname:hdslay1_otype:arr_i:0_j:12']"
      ]
     },
     "execution_count": 125,
     "metadata": {},
     "output_type": "execute_result"
    }
   ],
   "source": [
    "obs = sc.pst.observation_data\n",
    "obsnames = obs.loc[obs.oname=='hdslay1','obsnme'].tolist()\n",
    "\n",
    "obsnames[:5]"
   ]
  },
  {
   "cell_type": "code",
   "execution_count": 118,
   "metadata": {},
   "outputs": [
    {
     "data": {
      "text/plain": [
       "array(['hds', 'sfr', 'hdslay1', 'hdslay2', 'hdslay3', 'inc', 'cum',\n",
       "       'sfrtd', 'hdstd', 'hdsvd', nan], dtype=object)"
      ]
     },
     "execution_count": 118,
     "metadata": {},
     "output_type": "execute_result"
    }
   ],
   "source": [
    "obs = sc.pst.observation_data\n",
    "obs.oname.unique()"
   ]
  },
  {
   "cell_type": "code",
   "execution_count": null,
   "metadata": {},
   "outputs": [],
   "source": [
    "obs.time.astype(float).unique()[12]"
   ]
  },
  {
   "cell_type": "code",
   "execution_count": null,
   "metadata": {},
   "outputs": [],
   "source": [
    "end_hist_time = obs.time.astype(float).unique()[12]\n",
    "potential_obs = obs.loc[(obs.oname=='hds') & (obs.time.astype(float)<= end_hist_time), 'obsnme'].tolist()\n",
    "len(potential_obs)"
   ]
  },
  {
   "cell_type": "code",
   "execution_count": null,
   "metadata": {},
   "outputs": [],
   "source": [
    "nz_obs = set(sc.pst.nnz_obs_names)\n",
    "potential_obs = [o for o in potential_obs if o not in nz_obs]  \n"
   ]
  },
  {
   "cell_type": "code",
   "execution_count": null,
   "metadata": {},
   "outputs": [],
   "source": [
    "from datetime import datetime\n",
    "start = datetime.now()\n",
    "df_worth_new = sc.get_added_obs_importance(obslist_dict=potential_obs, base_obslist=sc.pst.nnz_obs_names, reset_zero_weight=True)\n",
    "print(\"took:\",datetime.now() - start)"
   ]
  },
  {
   "cell_type": "code",
   "execution_count": null,
   "metadata": {},
   "outputs": [],
   "source": [
    "df_worth_new.head()"
   ]
  },
  {
   "cell_type": "code",
   "execution_count": null,
   "metadata": {},
   "outputs": [],
   "source": []
  },
  {
   "cell_type": "markdown",
   "metadata": {},
   "source": [
    "### an \"extra\" if we have time: parameter identifiability"
   ]
  },
  {
   "cell_type": "code",
   "execution_count": null,
   "metadata": {},
   "outputs": [],
   "source": [
    "la = pyemu.ErrVar(jco=jco)"
   ]
  },
  {
   "cell_type": "code",
   "execution_count": null,
   "metadata": {},
   "outputs": [],
   "source": [
    "s = la.qhalfx.s  # singular spectrum\n",
    "s.x[:10]"
   ]
  },
  {
   "cell_type": "code",
   "execution_count": null,
   "metadata": {},
   "outputs": [],
   "source": [
    "figure = plt.figure()\n",
    "ax = plt.subplot(111)\n",
    "ax.plot(np.log10(s.x))\n",
    "ax.set_ylabel(\"log10 singular value\")\n",
    "ax.set_xlabel(\"index\")\n",
    "#ax.set_xlim(0,100)\n",
    "plt.show()"
   ]
  },
  {
   "cell_type": "code",
   "execution_count": null,
   "metadata": {},
   "outputs": [],
   "source": [
    "truncation_thresh = 5e-5\n",
    "n_signif_singvals = ((s.x / s[0].x) > truncation_thresh).sum()\n",
    "n_signif_singvals"
   ]
  },
  {
   "cell_type": "code",
   "execution_count": null,
   "metadata": {},
   "outputs": [],
   "source": [
    "print(\"This means that, on the basis of the {0} (non-zero) weighted observations, \\\n",
    "there are {1} unique pieces of information in the calibration dataset.  \\\n",
    "Recall the inverse problem we are trying to solve involves the estimation of {2} parameters using this information only...\".\\\n",
    "      format(la.pst.nnz_obs, n_signif_singvals, pst.npar_adj))"
   ]
  },
  {
   "cell_type": "code",
   "execution_count": null,
   "metadata": {},
   "outputs": [],
   "source": [
    "ident_df = la.get_identifiability_dataframe(4)  # sing val trunc defaults to pst.nnz_obs"
   ]
  },
  {
   "cell_type": "code",
   "execution_count": null,
   "metadata": {},
   "outputs": [],
   "source": [
    "ident_df.sort_values(by=\"ident\",ascending=False).iloc[0:10].loc[:,\"ident\"].plot(kind=\"bar\",figsize=(10,10))"
   ]
  },
  {
   "cell_type": "code",
   "execution_count": null,
   "metadata": {},
   "outputs": [],
   "source": [
    "id = pyemu.plot_utils.plot_id_bar(ident_df.sort_values(by=\"ident\",ascending=False).iloc[0:10], figsize=(12,4))"
   ]
  },
  {
   "cell_type": "code",
   "execution_count": null,
   "metadata": {},
   "outputs": [],
   "source": [
    "?la.get_par_css_dataframe"
   ]
  },
  {
   "cell_type": "code",
   "execution_count": null,
   "metadata": {},
   "outputs": [],
   "source": [
    "css = la.get_par_css_dataframe()\n",
    "css.head()"
   ]
  },
  {
   "cell_type": "code",
   "execution_count": null,
   "metadata": {},
   "outputs": [],
   "source": [
    "css = css.sort_values(by=\"pest_css\",ascending=False)\n",
    "css = css.loc[css.pest_css==0.0,:]\n",
    "len([p for p in css.index if \"sy\" in p])"
   ]
  },
  {
   "cell_type": "code",
   "execution_count": null,
   "metadata": {},
   "outputs": [],
   "source": [
    "css"
   ]
  },
  {
   "cell_type": "code",
   "execution_count": null,
   "metadata": {},
   "outputs": [],
   "source": [
    "par = pst.parameter_data.loc[pst.adj_par_names]\n",
    "par.loc[par.parnme.apply(lambda x: \"sy\" in x),:].shape"
   ]
  },
  {
   "cell_type": "code",
   "execution_count": null,
   "metadata": {},
   "outputs": [],
   "source": []
  }
 ],
 "metadata": {
  "interpreter": {
   "hash": "d91d695e32284e5f4db43d0a55a7ffe722d99eb6050b5b06eff0d966e4449445"
  },
  "kernelspec": {
   "display_name": "Python 3.9.12 ('gmdsitut')",
   "language": "python",
   "name": "python3"
  },
  "language_info": {
   "codemirror_mode": {
    "name": "ipython",
    "version": 3
   },
   "file_extension": ".py",
   "mimetype": "text/x-python",
   "name": "python",
   "nbconvert_exporter": "python",
   "pygments_lexer": "ipython3",
   "version": "3.9.12"
  },
  "orig_nbformat": 4
 },
 "nbformat": 4,
 "nbformat_minor": 2
}
