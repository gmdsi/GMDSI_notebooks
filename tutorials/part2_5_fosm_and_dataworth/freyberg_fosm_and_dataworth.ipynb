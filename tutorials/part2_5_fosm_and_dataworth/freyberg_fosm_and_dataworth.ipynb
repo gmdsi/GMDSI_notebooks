{
 "cells": [
  {
   "cell_type": "markdown",
   "metadata": {},
   "source": [
    "# FOSM, data worth and related assessments\n",
    "\n",
    "First Order Second Moment (FOSM), sometimes referred to as linear analysis, provides insights into the decision-support modelling process which are not possible to obtain in any other way. Outcomes are approximate. This is because relationships between groundwater model outputs and parameters are not in fact linear. \n",
    "\n",
    "Undertaking linear analysis requires:\n",
    " - A Jacobian matrix; \n",
    " - The prior parameter covariance matrix;\n",
    " - The covariance matrix of measurement noise.\n",
    "\n",
    "Linear analysis can be accomplished with software from the PEST utilities, PEST++GLM or pyEMU and can be performed before and/or after calibration. It relies on the existence of a Jacobian (sensitivity) matrix, whcih is calculated by PEST/PEST++ by perturbing parameters by a small amount from their initial value. This requires a single model run for each adjustable parameter and that the forecast of interest be included as an observation when filling the Jacobian. Prior parameter and measurement noise covariance matrices must be supplied by the user.\n",
    "\n",
    "FOSM tasks may include:\n",
    " - approximate parameter and predictive uncertainty quantification;\n",
    " - data worth analysis;\n",
    " - assist in identifying parameters that are most salient for forecasts of interest, \n",
    " - identify parameter contributions to predictive uncertainty and \n",
    " - assess parameter identifiability. \n",
    "\n",
    "Visual outcomes of these analyses can provide easily understood insights into what history-matching can achieve, and what it cannot achieve due to lack of information. This can be used to streamline the data assimlation process and guide further site characterisation studies by ensuring effective data collection targeted at reducing the uncertainties of predictions that matter. \n",
    "\n",
    "Data worth analysis identifies relative observation contributions to reducing forecast uncertainty and is “forecast specific”. The value of each observation is compared in terms of its ability to reduce uncertainty of a unique forecast. Assessing data worth does not require that a measured value already be known. Thus it can be a useful tool when prioritizing what new data to collect. There are a few things to consider when including data worth set up as part of a modelling workflow:\n",
    " - any potential new data being assessed must be simulated by the model.\n",
    " - a Jacobian matrix must be calculated that links parameter changes to changes in the pontential new observation values. \n",
    " \n",
    "Thus, it is often useful to think about potential new data early on in the modelling workflow. This allows the modeller to pre-emptively include potential new observations in the PEST dataset with zeroweight (i.e. they do not affect history matching) for later use. "
   ]
  },
  {
   "cell_type": "markdown",
   "metadata": {},
   "source": [
    "### The current tutorial\n",
    " \n",
    "In this notebook, we will use outputs from previous notebooks (in particular `freyberg_glm_1.ipynb`) to undertake data worth assessments based on first-order second-moment (FOSM) techniques. \"Worth\" is framed here in the context of the extent to which the uncertainty surrounding a model prediction of management interest is reduced through data collection.  Given that these anayses can help target and optimize data acquisition strategies, this is a concept that really resonates with decision makers.\n",
    "\n",
    "Note that in this tutorial, we will demonstrate FOSM applied __before__ calibration (i.e. as an optional intermediate step between the `freyberg_glm_1.ipynb` and `freyberg_glm_2.ipynb` notebooks), as several of these techniques can be a usefull tools that aid in the design of the calibration setup. However, they are equaly applicable __after__ calibration. In the `freyberg_glm_2.ipynb` notebook, some outcomes of post-calibration FOSM are discussed. \n",
    "\n",
    "Here we will be using functionality in `pyemu` to undertake FOSM. Similar analyses can be undertaken with the PREDUNC and PREDVAR suite of PEST utilities (see the [GMDSI](https://gmdsi.org/education/tutorials/) website for tutorials on these utilities). "
   ]
  },
  {
   "cell_type": "markdown",
   "metadata": {},
   "source": [
    "### Admin\n",
    "\n",
    "Start off with the usual loading of dependencies and preparing model and PEST files. We will be continuing to work with the MODFLOW6 modified-Freyberg model (see \"freyberg intro to model\" notebook), and the high-dimensional PEST dataset prepared in the \"freyberg glm 1\" notebook. For the purposes of this notebook, you do not require familiarity with previous notebooks (but it helps...). \n",
    "\n",
    "Simply run the next few cells by pressing `shift+enter`."
   ]
  },
  {
   "cell_type": "code",
   "execution_count": 106,
   "metadata": {},
   "outputs": [],
   "source": [
    "import os\n",
    "import warnings\n",
    "warnings.filterwarnings(\"ignore\")\n",
    "warnings.filterwarnings(\"ignore\", category=DeprecationWarning) \n",
    "import pandas as pd\n",
    "import numpy as np\n",
    "import matplotlib.pyplot as plt;\n",
    "import shutil \n",
    "\n",
    "import sys\n",
    "sys.path.append(os.path.join(\"..\", \"..\", \"dependencies\"))\n",
    "import pyemu\n",
    "import flopy"
   ]
  },
  {
   "cell_type": "markdown",
   "metadata": {},
   "source": [
    "We are going to make use of the outcomes of the \"freyberg_glm_1\" tutorial, in which we ran `PEST++GLM` to calculate the jacobian matrix prior to calibration.\n",
    "\n",
    "Let's start by specifying the folder path:"
   ]
  },
  {
   "cell_type": "code",
   "execution_count": 107,
   "metadata": {},
   "outputs": [],
   "source": [
    "m_d = os.path.join(\"..\",\"part2_4_glm\",\"master_glm_1\")\n",
    "\n",
    "# a check to see if the files are avilable\n",
    "if not os.path.exists(m_d):\n",
    "    raise Exception(\"you need to run the '/part2_4_glm/freyberg_glm_1.ipynb' notebook\")"
   ]
  },
  {
   "cell_type": "markdown",
   "metadata": {},
   "source": [
    "OK, now let's read in our PEST control file and take a peek just to recall what is is we are working with:"
   ]
  },
  {
   "cell_type": "code",
   "execution_count": 108,
   "metadata": {},
   "outputs": [
    {
     "name": "stdout",
     "output_type": "stream",
     "text": [
      "adjustable parameters: 415 \n",
      "nonzero observations: 144\n"
     ]
    }
   ],
   "source": [
    "pst = pyemu.Pst(os.path.join(m_d,\"freyberg_pp.pst\"))\n",
    "print('adjustable parameters:',pst.npar_adj,'\\nnonzero observations:', pst.nnz_obs)\n",
    "#pst.write_par_summary_table(filename=\"none\")"
   ]
  },
  {
   "cell_type": "markdown",
   "metadata": {},
   "source": [
    "### Getting ready for FOSM\n",
    "\n",
    "Recall we need three ingredients for FOSM:\n",
    " - parameter covariance matrix \n",
    " - observation noise covariance matrix\n",
    " - jacobian matrix "
   ]
  },
  {
   "cell_type": "markdown",
   "metadata": {},
   "source": [
    "Let's start with the parameter covariance matrix. In this instance, our covariance matrix represents the prior parameter uncertainty. We preprared and recorded a prior covariance matrix when we constructed the PEST dataset (see the \"pstfrom_pest_setup\" tutorial). It is recorded in the file named `prior_cov.jcb`. \n",
    "\n",
    "Let's read it in a as a `pyemu.Cov` object:"
   ]
  },
  {
   "cell_type": "code",
   "execution_count": 109,
   "metadata": {},
   "outputs": [],
   "source": [
    "# read the file\n",
    "cov = pyemu.Cov.from_binary(os.path.join(m_d,\"prior_cov.jcb\")).to_dataframe()\n",
    "# the prior was constructed for the high-dimensional dataset; \n",
    "# but we had to drop lots of parameters to undertake GLM (see \"freyberg_glm_1\" tutorial)\n",
    "# so we need to slice cov to get only adjustable parameter cols/rows\n",
    "cov = cov.loc[pst.adj_par_names,pst.adj_par_names]\n",
    "# and then rebuild it\n",
    "cov = pyemu.Cov.from_dataframe(cov)"
   ]
  },
  {
   "cell_type": "markdown",
   "metadata": {},
   "source": [
    "Take a quick peek:"
   ]
  },
  {
   "cell_type": "code",
   "execution_count": 110,
   "metadata": {},
   "outputs": [
    {
     "data": {
      "text/plain": [
       "<matplotlib.colorbar.Colorbar at 0x1825d3226d0>"
      ]
     },
     "execution_count": 110,
     "metadata": {},
     "output_type": "execute_result"
    },
    {
     "data": {
      "image/png": "[encoded data removed]",
      "text/plain": [
       "<Figure size 432x288 with 2 Axes>"
      ]
     },
     "metadata": {
      "needs_background": "light"
     },
     "output_type": "display_data"
    }
   ],
   "source": [
    "# let's inspect only\n",
    "x = cov.x.copy()\n",
    "x[x<1e-7] = np.nan\n",
    "c = plt.imshow(x)\n",
    "plt.colorbar()"
   ]
  },
  {
   "cell_type": "markdown",
   "metadata": {},
   "source": [
    "The second ingredient we need is the jacobian matrix. In a previous tutorial, we ran `PEST++GLM` with the `fresyberg_pp.pst` control file to calculate the jacobian for intial parameter values and then stop (by setting `NOPTMAX` to -1). It is stored in the binary file named `freyberg_pp.jcb`.\n",
    "\n",
    "Let's read it in as a `pyemu.Jco`:"
   ]
  },
  {
   "cell_type": "code",
   "execution_count": 111,
   "metadata": {},
   "outputs": [],
   "source": [
    "jco_file = os.path.join(m_d,\"freyberg_pp.jcb\")\n",
    "\n",
    "jco = pyemu.Jco.from_binary(jco_file)"
   ]
  },
  {
   "cell_type": "markdown",
   "metadata": {},
   "source": [
    "Lastly, we are still missing the (diagonal) noise covariance matrix. Unless instructed otherwise, `pyemu` will construct this matrix on-the-fly using weights in the PEST control file (and assuming that weights are the inverse of the standard deviation). \n",
    "\n",
    "Alternatively you can provide a user created covariance matrix, such as the one constructed during the \"obs and weights\" tutorial. It is recorrded in the binary file named `obs_cov.jcb`. Let's load it in:"
   ]
  },
  {
   "cell_type": "code",
   "execution_count": 112,
   "metadata": {},
   "outputs": [],
   "source": [
    "obscov = pyemu.Cov.from_binary(os.path.join(m_d,\"obs_cov.jcb\"))"
   ]
  },
  {
   "cell_type": "markdown",
   "metadata": {},
   "source": [
    "The `Schur` object is one of the primary object for FOSM in pyEMU. It is the starting point for most things FOSM in the `pyemu` world. We are going to pass in our ingredients to instantiate a `Schur` object.\n",
    "\n",
    "Now...`pyemu` is clever and does its best to reduce the amount of information you need to pass explicitly. Minimum requirements are the `Pst` and `Jco`. If not explicitly provided, the (diagonal) observation covariance matrix will be calculated from observation weights in `pst`. If present, forecasts will be populated from the list of `pst.forecast_names`.\n",
    "\n",
    "However, here we will demonstrate by passing each ingredient explicitly:"
   ]
  },
  {
   "cell_type": "code",
   "execution_count": 113,
   "metadata": {},
   "outputs": [
    {
     "data": {
      "text/plain": [
       "<pyemu.sc.Schur at 0x1825779dbb0>"
      ]
     },
     "execution_count": 113,
     "metadata": {},
     "output_type": "execute_result"
    }
   ],
   "source": [
    "sc = pyemu.Schur(pst=pst, # the pest control file\n",
    "                jco=jco, # the jacobian matrix\n",
    "                parcov=cov, # the parameter covariance matrix; if not provided pyemu calculates from parameter bounds\n",
    "                obscov=obscov, # the obs noise cov matrix; necessary if obs weights in the pst do not reflect uncertainty\n",
    "                forecasts=pst.forecast_names # forecast observation names\n",
    "                )\n",
    "\n",
    "sc"
   ]
  },
  {
   "cell_type": "markdown",
   "metadata": {},
   "source": [
    "So that was easy...but maybe not the standard use case.  In many modeling analyses, there will be a separate scenario model - it is this model that will yield the forecast sensitivity vector(s) needed to map parameter uncertainty to forecast uncertainty.  That is, you will need to run the scenario model once for each parameter to fill a separate jacobian -  jacobian that has the same columns as the obervation jacobian, but has rows that are the forecasts.  \n",
    "\n",
    "In these cases you would have a (1) jacobian that pertains to the history matching model, and (2) a jacobian that pertains to the scenario model. For the purposes of FOSM, you would be interested in the sensitivities of history-matching observations recorded in (1) and sensitivities of forecast observations recorded in (2).\n",
    "\n",
    "Now we didnt do that here - our model forward run includes bth the history matching and scenario periods. But we can \"fake\" it just for the sake of demonstration. Let's pretend that we have a second jacobian calculated using a scenario model:\n"
   ]
  },
  {
   "cell_type": "code",
   "execution_count": 114,
   "metadata": {},
   "outputs": [],
   "source": [
    "pretend_second_jco = pyemu.Jco.from_binary(jco_file)"
   ]
  },
  {
   "cell_type": "markdown",
   "metadata": {},
   "source": [
    "\n",
    "Now we extract the forecast rows from the full jacobian:"
   ]
  },
  {
   "cell_type": "code",
   "execution_count": 115,
   "metadata": {},
   "outputs": [],
   "source": [
    "forecast_jco = pretend_second_jco.get(row_names=pst.forecast_names, drop=True)"
   ]
  },
  {
   "cell_type": "code",
   "execution_count": 116,
   "metadata": {},
   "outputs": [
    {
     "data": {
      "text/plain": [
       "((4, 415), (4623, 415))"
      ]
     },
     "execution_count": 116,
     "metadata": {},
     "output_type": "execute_result"
    }
   ],
   "source": [
    "# shape: number of obs rows, number of par columns\n",
    "forecast_jco.shape, jco.shape"
   ]
  },
  {
   "cell_type": "code",
   "execution_count": 117,
   "metadata": {},
   "outputs": [],
   "source": [
    "sc = pyemu.Schur(pst=pst, # the pest control file\n",
    "                jco=jco, # the jacobian matrix\n",
    "                parcov=cov, # the parameter covariance matrix; if not provided pyemu calculates from parameter bounds\n",
    "                obscov=obscov, # the obs noise cov matrix; necessary if obs weights in the pst do not reflect uncertainty\n",
    "                forecasts=forecast_jco.T # forecast sensitivity vectors\n",
    "                )"
   ]
  },
  {
   "cell_type": "markdown",
   "metadata": {},
   "source": [
    "Boom - easy! \n",
    "\n",
    "All computations are done and contained within `sc`.  We can now access different parts of `sc`. "
   ]
  },
  {
   "cell_type": "markdown",
   "metadata": {},
   "source": [
    "### Posterior Parameter Uncertainty\n",
    "\n",
    "Let's start by calculating the __posterior__ parameter covariance matrix. Here, we are updating parameter covariance following notional calibration as represented by te Jacobian matrix and both prior parameter and observation noise covariance matrices. \n",
    "\n",
    "In other words, given prior parameter uncertainty (expressed by the prior `cov` matrix) and the inherent noise in measurments (expressed by the `obscov` matrix), we calculate the expected parameter uncertainty __after__ calibration. This assumes that calibration achieves a fit comensurate with measurment noise, parameter linearity, etc.\n",
    "\n",
    "The posterior parameter covariance is stored as a `pyemu.Cov` object in the `sc.posterior_parameter` attribute:"
   ]
  },
  {
   "cell_type": "code",
   "execution_count": 121,
   "metadata": {},
   "outputs": [
    {
     "data": {
      "text/plain": [
       "<pyemu.mat.mat_handler.Cov at 0x1825cefec40>"
      ]
     },
     "execution_count": 121,
     "metadata": {},
     "output_type": "execute_result"
    }
   ],
   "source": [
    "sc.posterior_parameter"
   ]
  },
  {
   "cell_type": "code",
   "execution_count": 122,
   "metadata": {},
   "outputs": [
    {
     "data": {
      "text/html": [
       "<div>\n",
       "<style scoped>\n",
       "    .dataframe tbody tr th:only-of-type {\n",
       "        vertical-align: middle;\n",
       "    }\n",
       "\n",
       "    .dataframe tbody tr th {\n",
       "        vertical-align: top;\n",
       "    }\n",
       "\n",
       "    .dataframe thead th {\n",
       "        text-align: right;\n",
       "    }\n",
       "</style>\n",
       "<table border=\"1\" class=\"dataframe\">\n",
       "  <thead>\n",
       "    <tr style=\"text-align: right;\">\n",
       "      <th></th>\n",
       "      <th>pname:nelayer3pp_inst:0_ptype:pp_pstyle:m_i:6_j:6_zone:1.0</th>\n",
       "      <th>pname:npfk33layer1cn_inst:0_ptype:cn_pstyle:m</th>\n",
       "      <th>pname:npfk33layer2cn_inst:0_ptype:cn_pstyle:m</th>\n",
       "      <th>pname:npfk33layer2pp_inst:0_ptype:pp_pstyle:m_i:10_j:10_zone:1.0</th>\n",
       "      <th>pname:npfk33layer2pp_inst:0_ptype:pp_pstyle:m_i:10_j:14_zone:1.0</th>\n",
       "    </tr>\n",
       "  </thead>\n",
       "  <tbody>\n",
       "    <tr>\n",
       "      <th>pname:npfk33layer2pp_inst:0_ptype:pp_pstyle:m_i:2_j:14_zone:1.0</th>\n",
       "      <td>0.0</td>\n",
       "      <td>-0.001392</td>\n",
       "      <td>0.001375</td>\n",
       "      <td>0.000798</td>\n",
       "      <td>0.000660</td>\n",
       "    </tr>\n",
       "    <tr>\n",
       "      <th>pname:npfk33layer2pp_inst:0_ptype:pp_pstyle:m_i:6_j:2_zone:1.0</th>\n",
       "      <td>0.0</td>\n",
       "      <td>-0.000775</td>\n",
       "      <td>-0.000992</td>\n",
       "      <td>0.003010</td>\n",
       "      <td>0.000923</td>\n",
       "    </tr>\n",
       "    <tr>\n",
       "      <th>pname:npfk33layer2pp_inst:0_ptype:pp_pstyle:m_i:6_j:6_zone:1.0</th>\n",
       "      <td>0.0</td>\n",
       "      <td>-0.001345</td>\n",
       "      <td>-0.002043</td>\n",
       "      <td>0.007910</td>\n",
       "      <td>0.002073</td>\n",
       "    </tr>\n",
       "    <tr>\n",
       "      <th>pname:npfk33layer2pp_inst:0_ptype:pp_pstyle:m_i:6_j:10_zone:1.0</th>\n",
       "      <td>0.0</td>\n",
       "      <td>-0.002015</td>\n",
       "      <td>-0.001345</td>\n",
       "      <td>0.013269</td>\n",
       "      <td>0.004734</td>\n",
       "    </tr>\n",
       "    <tr>\n",
       "      <th>pname:npfk33layer2pp_inst:0_ptype:pp_pstyle:m_i:6_j:14_zone:1.0</th>\n",
       "      <td>0.0</td>\n",
       "      <td>-0.001615</td>\n",
       "      <td>0.000475</td>\n",
       "      <td>0.005822</td>\n",
       "      <td>0.007225</td>\n",
       "    </tr>\n",
       "  </tbody>\n",
       "</table>\n",
       "</div>"
      ],
      "text/plain": [
       "                                                                 pname:nelayer3pp_inst:0_ptype:pp_pstyle:m_i:6_j:6_zone:1.0  \\\n",
       "pname:npfk33layer2pp_inst:0_ptype:pp_pstyle:m_i:2_j:14_zone:1.0                                                         0.0   \n",
       "pname:npfk33layer2pp_inst:0_ptype:pp_pstyle:m_i:6_j:2_zone:1.0                                                          0.0   \n",
       "pname:npfk33layer2pp_inst:0_ptype:pp_pstyle:m_i:6_j:6_zone:1.0                                                          0.0   \n",
       "pname:npfk33layer2pp_inst:0_ptype:pp_pstyle:m_i:6_j:10_zone:1.0                                                         0.0   \n",
       "pname:npfk33layer2pp_inst:0_ptype:pp_pstyle:m_i:6_j:14_zone:1.0                                                         0.0   \n",
       "\n",
       "                                                                 pname:npfk33layer1cn_inst:0_ptype:cn_pstyle:m  \\\n",
       "pname:npfk33layer2pp_inst:0_ptype:pp_pstyle:m_i:2_j:14_zone:1.0                                      -0.001392   \n",
       "pname:npfk33layer2pp_inst:0_ptype:pp_pstyle:m_i:6_j:2_zone:1.0                                       -0.000775   \n",
       "pname:npfk33layer2pp_inst:0_ptype:pp_pstyle:m_i:6_j:6_zone:1.0                                       -0.001345   \n",
       "pname:npfk33layer2pp_inst:0_ptype:pp_pstyle:m_i:6_j:10_zone:1.0                                      -0.002015   \n",
       "pname:npfk33layer2pp_inst:0_ptype:pp_pstyle:m_i:6_j:14_zone:1.0                                      -0.001615   \n",
       "\n",
       "                                                                 pname:npfk33layer2cn_inst:0_ptype:cn_pstyle:m  \\\n",
       "pname:npfk33layer2pp_inst:0_ptype:pp_pstyle:m_i:2_j:14_zone:1.0                                       0.001375   \n",
       "pname:npfk33layer2pp_inst:0_ptype:pp_pstyle:m_i:6_j:2_zone:1.0                                       -0.000992   \n",
       "pname:npfk33layer2pp_inst:0_ptype:pp_pstyle:m_i:6_j:6_zone:1.0                                       -0.002043   \n",
       "pname:npfk33layer2pp_inst:0_ptype:pp_pstyle:m_i:6_j:10_zone:1.0                                      -0.001345   \n",
       "pname:npfk33layer2pp_inst:0_ptype:pp_pstyle:m_i:6_j:14_zone:1.0                                       0.000475   \n",
       "\n",
       "                                                                 pname:npfk33layer2pp_inst:0_ptype:pp_pstyle:m_i:10_j:10_zone:1.0  \\\n",
       "pname:npfk33layer2pp_inst:0_ptype:pp_pstyle:m_i:2_j:14_zone:1.0                                                          0.000798   \n",
       "pname:npfk33layer2pp_inst:0_ptype:pp_pstyle:m_i:6_j:2_zone:1.0                                                           0.003010   \n",
       "pname:npfk33layer2pp_inst:0_ptype:pp_pstyle:m_i:6_j:6_zone:1.0                                                           0.007910   \n",
       "pname:npfk33layer2pp_inst:0_ptype:pp_pstyle:m_i:6_j:10_zone:1.0                                                          0.013269   \n",
       "pname:npfk33layer2pp_inst:0_ptype:pp_pstyle:m_i:6_j:14_zone:1.0                                                          0.005822   \n",
       "\n",
       "                                                                 pname:npfk33layer2pp_inst:0_ptype:pp_pstyle:m_i:10_j:14_zone:1.0  \n",
       "pname:npfk33layer2pp_inst:0_ptype:pp_pstyle:m_i:2_j:14_zone:1.0                                                          0.000660  \n",
       "pname:npfk33layer2pp_inst:0_ptype:pp_pstyle:m_i:6_j:2_zone:1.0                                                           0.000923  \n",
       "pname:npfk33layer2pp_inst:0_ptype:pp_pstyle:m_i:6_j:6_zone:1.0                                                           0.002073  \n",
       "pname:npfk33layer2pp_inst:0_ptype:pp_pstyle:m_i:6_j:10_zone:1.0                                                          0.004734  \n",
       "pname:npfk33layer2pp_inst:0_ptype:pp_pstyle:m_i:6_j:14_zone:1.0                                                          0.007225  "
      ]
     },
     "execution_count": 122,
     "metadata": {},
     "output_type": "execute_result"
    }
   ],
   "source": [
    "sc.posterior_parameter.to_dataframe().sort_index(axis=1).iloc[100:105:,100:105]"
   ]
  },
  {
   "cell_type": "code",
   "execution_count": 123,
   "metadata": {},
   "outputs": [
    {
     "data": {
      "text/plain": [
       "<matplotlib.colorbar.Colorbar at 0x14b3df95910>"
      ]
     },
     "execution_count": 123,
     "metadata": {},
     "output_type": "execute_result"
    },
    {
     "data": {
      "image/png": "[encoded data removed]",
      "text/plain": [
       "<Figure size 432x288 with 2 Axes>"
      ]
     },
     "metadata": {
      "needs_background": "light"
     },
     "output_type": "display_data"
    }
   ],
   "source": [
    "x = sc.posterior_parameter.x.copy()\n",
    "x[x<1e-7] = np.nan\n",
    "c = plt.imshow(x)\n",
    "plt.colorbar(c)"
   ]
  },
  {
   "cell_type": "code",
   "execution_count": 124,
   "metadata": {},
   "outputs": [
    {
     "data": {
      "text/html": [
       "<div>\n",
       "<style scoped>\n",
       "    .dataframe tbody tr th:only-of-type {\n",
       "        vertical-align: middle;\n",
       "    }\n",
       "\n",
       "    .dataframe tbody tr th {\n",
       "        vertical-align: top;\n",
       "    }\n",
       "\n",
       "    .dataframe thead th {\n",
       "        text-align: right;\n",
       "    }\n",
       "</style>\n",
       "<table border=\"1\" class=\"dataframe\">\n",
       "  <thead>\n",
       "    <tr style=\"text-align: right;\">\n",
       "      <th></th>\n",
       "      <th>prior_var</th>\n",
       "      <th>post_var</th>\n",
       "      <th>percent_reduction</th>\n",
       "    </tr>\n",
       "  </thead>\n",
       "  <tbody>\n",
       "    <tr>\n",
       "      <th>pname:ghbheadcn_inst:0_ptype:cn_usecol:3_pstyle:a</th>\n",
       "      <td>0.444444</td>\n",
       "      <td>0.065931</td>\n",
       "      <td>8.516557e+01</td>\n",
       "    </tr>\n",
       "    <tr>\n",
       "      <th>pname:sfrcondcn_inst:0_ptype:cn_usecol:9_pstyle:m</th>\n",
       "      <td>0.111111</td>\n",
       "      <td>0.016790</td>\n",
       "      <td>8.488918e+01</td>\n",
       "    </tr>\n",
       "    <tr>\n",
       "      <th>pname:stosylayer1cn_inst:0_ptype:cn_pstyle:m</th>\n",
       "      <td>0.054284</td>\n",
       "      <td>0.009375</td>\n",
       "      <td>8.272986e+01</td>\n",
       "    </tr>\n",
       "    <tr>\n",
       "      <th>pname:npfklayer3cn_inst:0_ptype:cn_pstyle:m</th>\n",
       "      <td>0.054284</td>\n",
       "      <td>0.010556</td>\n",
       "      <td>8.055485e+01</td>\n",
       "    </tr>\n",
       "    <tr>\n",
       "      <th>pname:npfk33layer2pp_inst:0_ptype:pp_pstyle:m_i:30_j:14_zone:1.0</th>\n",
       "      <td>0.054284</td>\n",
       "      <td>0.020791</td>\n",
       "      <td>6.169962e+01</td>\n",
       "    </tr>\n",
       "    <tr>\n",
       "      <th>...</th>\n",
       "      <td>...</td>\n",
       "      <td>...</td>\n",
       "      <td>...</td>\n",
       "    </tr>\n",
       "    <tr>\n",
       "      <th>pname:nelayer2pp_inst:0_ptype:pp_pstyle:m_i:2_j:6_zone:1.0</th>\n",
       "      <td>0.054284</td>\n",
       "      <td>0.054284</td>\n",
       "      <td>-4.440892e-14</td>\n",
       "    </tr>\n",
       "    <tr>\n",
       "      <th>pname:nelayer3pp_inst:0_ptype:pp_pstyle:m_i:26_j:2_zone:1.0</th>\n",
       "      <td>0.054284</td>\n",
       "      <td>0.054284</td>\n",
       "      <td>-4.440892e-14</td>\n",
       "    </tr>\n",
       "    <tr>\n",
       "      <th>pname:nelayer2pp_inst:0_ptype:pp_pstyle:m_i:34_j:14_zone:1.0</th>\n",
       "      <td>0.054284</td>\n",
       "      <td>0.054284</td>\n",
       "      <td>-4.440892e-14</td>\n",
       "    </tr>\n",
       "    <tr>\n",
       "      <th>pname:nelayer1pp_inst:0_ptype:pp_pstyle:m_i:22_j:10_zone:1.0</th>\n",
       "      <td>0.054284</td>\n",
       "      <td>0.054284</td>\n",
       "      <td>-4.440892e-14</td>\n",
       "    </tr>\n",
       "    <tr>\n",
       "      <th>pname:nelayer1pp_inst:0_ptype:pp_pstyle:m_i:26_j:2_zone:1.0</th>\n",
       "      <td>0.054284</td>\n",
       "      <td>0.054284</td>\n",
       "      <td>-4.440892e-14</td>\n",
       "    </tr>\n",
       "  </tbody>\n",
       "</table>\n",
       "<p>415 rows × 3 columns</p>\n",
       "</div>"
      ],
      "text/plain": [
       "                                                                  prior_var  \\\n",
       "pname:ghbheadcn_inst:0_ptype:cn_usecol:3_pstyle:a                  0.444444   \n",
       "pname:sfrcondcn_inst:0_ptype:cn_usecol:9_pstyle:m                  0.111111   \n",
       "pname:stosylayer1cn_inst:0_ptype:cn_pstyle:m                       0.054284   \n",
       "pname:npfklayer3cn_inst:0_ptype:cn_pstyle:m                        0.054284   \n",
       "pname:npfk33layer2pp_inst:0_ptype:pp_pstyle:m_i:30_j:14_zone:1.0   0.054284   \n",
       "...                                                                     ...   \n",
       "pname:nelayer2pp_inst:0_ptype:pp_pstyle:m_i:2_j:6_zone:1.0         0.054284   \n",
       "pname:nelayer3pp_inst:0_ptype:pp_pstyle:m_i:26_j:2_zone:1.0        0.054284   \n",
       "pname:nelayer2pp_inst:0_ptype:pp_pstyle:m_i:34_j:14_zone:1.0       0.054284   \n",
       "pname:nelayer1pp_inst:0_ptype:pp_pstyle:m_i:22_j:10_zone:1.0       0.054284   \n",
       "pname:nelayer1pp_inst:0_ptype:pp_pstyle:m_i:26_j:2_zone:1.0        0.054284   \n",
       "\n",
       "                                                                  post_var  \\\n",
       "pname:ghbheadcn_inst:0_ptype:cn_usecol:3_pstyle:a                 0.065931   \n",
       "pname:sfrcondcn_inst:0_ptype:cn_usecol:9_pstyle:m                 0.016790   \n",
       "pname:stosylayer1cn_inst:0_ptype:cn_pstyle:m                      0.009375   \n",
       "pname:npfklayer3cn_inst:0_ptype:cn_pstyle:m                       0.010556   \n",
       "pname:npfk33layer2pp_inst:0_ptype:pp_pstyle:m_i:30_j:14_zone:1.0  0.020791   \n",
       "...                                                                    ...   \n",
       "pname:nelayer2pp_inst:0_ptype:pp_pstyle:m_i:2_j:6_zone:1.0        0.054284   \n",
       "pname:nelayer3pp_inst:0_ptype:pp_pstyle:m_i:26_j:2_zone:1.0       0.054284   \n",
       "pname:nelayer2pp_inst:0_ptype:pp_pstyle:m_i:34_j:14_zone:1.0      0.054284   \n",
       "pname:nelayer1pp_inst:0_ptype:pp_pstyle:m_i:22_j:10_zone:1.0      0.054284   \n",
       "pname:nelayer1pp_inst:0_ptype:pp_pstyle:m_i:26_j:2_zone:1.0       0.054284   \n",
       "\n",
       "                                                                  percent_reduction  \n",
       "pname:ghbheadcn_inst:0_ptype:cn_usecol:3_pstyle:a                      8.516557e+01  \n",
       "pname:sfrcondcn_inst:0_ptype:cn_usecol:9_pstyle:m                      8.488918e+01  \n",
       "pname:stosylayer1cn_inst:0_ptype:cn_pstyle:m                           8.272986e+01  \n",
       "pname:npfklayer3cn_inst:0_ptype:cn_pstyle:m                            8.055485e+01  \n",
       "pname:npfk33layer2pp_inst:0_ptype:pp_pstyle:m_i:30_j:14_zone:1.0       6.169962e+01  \n",
       "...                                                                             ...  \n",
       "pname:nelayer2pp_inst:0_ptype:pp_pstyle:m_i:2_j:6_zone:1.0            -4.440892e-14  \n",
       "pname:nelayer3pp_inst:0_ptype:pp_pstyle:m_i:26_j:2_zone:1.0           -4.440892e-14  \n",
       "pname:nelayer2pp_inst:0_ptype:pp_pstyle:m_i:34_j:14_zone:1.0          -4.440892e-14  \n",
       "pname:nelayer1pp_inst:0_ptype:pp_pstyle:m_i:22_j:10_zone:1.0          -4.440892e-14  \n",
       "pname:nelayer1pp_inst:0_ptype:pp_pstyle:m_i:26_j:2_zone:1.0           -4.440892e-14  \n",
       "\n",
       "[415 rows x 3 columns]"
      ]
     },
     "execution_count": 124,
     "metadata": {},
     "output_type": "execute_result"
    }
   ],
   "source": [
    "par_sum = sc.get_parameter_summary().sort_values(\"percent_reduction\",ascending=False)\n",
    "par_sum"
   ]
  },
  {
   "cell_type": "code",
   "execution_count": 125,
   "metadata": {},
   "outputs": [
    {
     "data": {
      "text/plain": [
       "<AxesSubplot:>"
      ]
     },
     "execution_count": 125,
     "metadata": {},
     "output_type": "execute_result"
    },
    {
     "data": {
      "image/png": "[encoded data removed]",
      "text/plain": [
       "<Figure size 432x288 with 1 Axes>"
      ]
     },
     "metadata": {
      "needs_background": "light"
     },
     "output_type": "display_data"
    }
   ],
   "source": [
    "par_sum.loc[par_sum.index[:25],\"percent_reduction\"].plot(kind=\"bar\",color=\"turquoise\")"
   ]
  },
  {
   "cell_type": "code",
   "execution_count": 126,
   "metadata": {},
   "outputs": [
    {
     "data": {
      "text/plain": [
       "['oname:hds_otype:lst_usecol:trgw-0-26-6',\n",
       " 'oname:hds_otype:lst_usecol:trgw-0-3-8',\n",
       " 'oname:hds_otype:lst_usecol:trgw-2-26-6',\n",
       " 'oname:hds_otype:lst_usecol:trgw-2-3-8',\n",
       " 'oname:sfr_otype:lst_usecol:gage-1',\n",
       " 'oname:sfrtd_otype:lst_usecol:gage-1',\n",
       " 'oname:hdstd_otype:lst_usecol:trgw-0-26-6',\n",
       " 'oname:hdstd_otype:lst_usecol:trgw-0-3-8',\n",
       " 'oname:hdstd_otype:lst_usecol:trgw-2-26-6',\n",
       " 'oname:hdstd_otype:lst_usecol:trgw-2-3-8',\n",
       " 'oname:hdsvd_otype:lst_usecol:trgw-0-26-6',\n",
       " 'oname:hdsvd_otype:lst_usecol:trgw-0-3-8']"
      ]
     },
     "execution_count": 126,
     "metadata": {},
     "output_type": "execute_result"
    }
   ],
   "source": [
    "pst.nnz_obs_groups"
   ]
  },
  {
   "cell_type": "markdown",
   "metadata": {},
   "source": [
    "### Forecast Uncertainty"
   ]
  },
  {
   "cell_type": "code",
   "execution_count": 127,
   "metadata": {},
   "outputs": [
    {
     "data": {
      "text/plain": [
       "['oname:sfr_otype:lst_usecol:tailwater_time:4383.5',\n",
       " 'oname:sfr_otype:lst_usecol:headwater_time:4383.5',\n",
       " 'oname:hds_otype:lst_usecol:trgw-0-9-1_time:4383.5',\n",
       " 'part_time']"
      ]
     },
     "execution_count": 127,
     "metadata": {},
     "output_type": "execute_result"
    }
   ],
   "source": [
    "forecasts = sc.pst.forecast_names\n",
    "forecasts"
   ]
  },
  {
   "cell_type": "code",
   "execution_count": 128,
   "metadata": {},
   "outputs": [
    {
     "data": {
      "text/html": [
       "<div>\n",
       "<style scoped>\n",
       "    .dataframe tbody tr th:only-of-type {\n",
       "        vertical-align: middle;\n",
       "    }\n",
       "\n",
       "    .dataframe tbody tr th {\n",
       "        vertical-align: top;\n",
       "    }\n",
       "\n",
       "    .dataframe thead th {\n",
       "        text-align: right;\n",
       "    }\n",
       "</style>\n",
       "<table border=\"1\" class=\"dataframe\">\n",
       "  <thead>\n",
       "    <tr style=\"text-align: right;\">\n",
       "      <th></th>\n",
       "      <th>prior_var</th>\n",
       "      <th>post_var</th>\n",
       "      <th>percent_reduction</th>\n",
       "    </tr>\n",
       "  </thead>\n",
       "  <tbody>\n",
       "    <tr>\n",
       "      <th>oname:sfr_otype:lst_usecol:tailwater_time:4383.5</th>\n",
       "      <td>1.750545e+05</td>\n",
       "      <td>3.531209e+04</td>\n",
       "      <td>79.827947</td>\n",
       "    </tr>\n",
       "    <tr>\n",
       "      <th>oname:sfr_otype:lst_usecol:headwater_time:4383.5</th>\n",
       "      <td>8.510625e+04</td>\n",
       "      <td>2.821465e+04</td>\n",
       "      <td>66.847733</td>\n",
       "    </tr>\n",
       "    <tr>\n",
       "      <th>oname:hds_otype:lst_usecol:trgw-0-9-1_time:4383.5</th>\n",
       "      <td>2.466010e-01</td>\n",
       "      <td>4.349438e-02</td>\n",
       "      <td>82.362450</td>\n",
       "    </tr>\n",
       "    <tr>\n",
       "      <th>part_time</th>\n",
       "      <td>9.503174e+10</td>\n",
       "      <td>2.809681e+10</td>\n",
       "      <td>70.434289</td>\n",
       "    </tr>\n",
       "  </tbody>\n",
       "</table>\n",
       "</div>"
      ],
      "text/plain": [
       "                                                      prior_var      post_var  \\\n",
       "oname:sfr_otype:lst_usecol:tailwater_time:4383.5   1.750545e+05  3.531209e+04   \n",
       "oname:sfr_otype:lst_usecol:headwater_time:4383.5   8.510625e+04  2.821465e+04   \n",
       "oname:hds_otype:lst_usecol:trgw-0-9-1_time:4383.5  2.466010e-01  4.349438e-02   \n",
       "part_time                                          9.503174e+10  2.809681e+10   \n",
       "\n",
       "                                                   percent_reduction  \n",
       "oname:sfr_otype:lst_usecol:tailwater_time:4383.5           79.827947  \n",
       "oname:sfr_otype:lst_usecol:headwater_time:4383.5           66.847733  \n",
       "oname:hds_otype:lst_usecol:trgw-0-9-1_time:4383.5          82.362450  \n",
       "part_time                                                  70.434289  "
      ]
     },
     "execution_count": 128,
     "metadata": {},
     "output_type": "execute_result"
    }
   ],
   "source": [
    "df = sc.get_forecast_summary()\n",
    "df"
   ]
  },
  {
   "cell_type": "code",
   "execution_count": 129,
   "metadata": {},
   "outputs": [
    {
     "data": {
      "image/png": "[encoded data removed]",
      "text/plain": [
       "<Figure size 432x288 with 1 Axes>"
      ]
     },
     "metadata": {
      "needs_background": "light"
     },
     "output_type": "display_data"
    }
   ],
   "source": [
    "# make a pretty plot \n",
    "fig = plt.figure()\n",
    "ax = plt.subplot(111)\n",
    "ax = df[\"percent_reduction\"].plot(kind='bar',ax=ax,grid=True)\n",
    "ax.set_ylabel(\"percent uncertainy\\nreduction from calibration\")\n",
    "ax.set_xlabel(\"forecast\")\n",
    "plt.tight_layout()"
   ]
  },
  {
   "cell_type": "markdown",
   "metadata": {},
   "source": [
    "### Parameter contrib to uncert"
   ]
  },
  {
   "cell_type": "code",
   "execution_count": 130,
   "metadata": {},
   "outputs": [],
   "source": [
    "par_contrib = sc.get_par_group_contribution()"
   ]
  },
  {
   "cell_type": "code",
   "execution_count": 131,
   "metadata": {},
   "outputs": [
    {
     "data": {
      "text/html": [
       "<div>\n",
       "<style scoped>\n",
       "    .dataframe tbody tr th:only-of-type {\n",
       "        vertical-align: middle;\n",
       "    }\n",
       "\n",
       "    .dataframe tbody tr th {\n",
       "        vertical-align: top;\n",
       "    }\n",
       "\n",
       "    .dataframe thead th {\n",
       "        text-align: right;\n",
       "    }\n",
       "</style>\n",
       "<table border=\"1\" class=\"dataframe\">\n",
       "  <thead>\n",
       "    <tr style=\"text-align: right;\">\n",
       "      <th></th>\n",
       "      <th>oname:sfr_otype:lst_usecol:tailwater_time:4383.5</th>\n",
       "      <th>oname:sfr_otype:lst_usecol:headwater_time:4383.5</th>\n",
       "      <th>oname:hds_otype:lst_usecol:trgw-0-9-1_time:4383.5</th>\n",
       "      <th>part_time</th>\n",
       "    </tr>\n",
       "  </thead>\n",
       "  <tbody>\n",
       "    <tr>\n",
       "      <th>base</th>\n",
       "      <td>35312.087582</td>\n",
       "      <td>28214.650069</td>\n",
       "      <td>0.043494</td>\n",
       "      <td>2.809681e+10</td>\n",
       "    </tr>\n",
       "    <tr>\n",
       "      <th>ghbcondcn</th>\n",
       "      <td>35271.309920</td>\n",
       "      <td>27787.246201</td>\n",
       "      <td>0.043099</td>\n",
       "      <td>2.805656e+10</td>\n",
       "    </tr>\n",
       "    <tr>\n",
       "      <th>ghbheadcn</th>\n",
       "      <td>28032.186100</td>\n",
       "      <td>27875.461017</td>\n",
       "      <td>0.041104</td>\n",
       "      <td>2.346110e+10</td>\n",
       "    </tr>\n",
       "    <tr>\n",
       "      <th>nelayer1cn</th>\n",
       "      <td>35312.087582</td>\n",
       "      <td>28214.650069</td>\n",
       "      <td>0.043494</td>\n",
       "      <td>2.809328e+10</td>\n",
       "    </tr>\n",
       "    <tr>\n",
       "      <th>nelayer1pp</th>\n",
       "      <td>35312.087582</td>\n",
       "      <td>28214.650069</td>\n",
       "      <td>0.043494</td>\n",
       "      <td>2.809447e+10</td>\n",
       "    </tr>\n",
       "  </tbody>\n",
       "</table>\n",
       "</div>"
      ],
      "text/plain": [
       "            oname:sfr_otype:lst_usecol:tailwater_time:4383.5  \\\n",
       "base                                            35312.087582   \n",
       "ghbcondcn                                       35271.309920   \n",
       "ghbheadcn                                       28032.186100   \n",
       "nelayer1cn                                      35312.087582   \n",
       "nelayer1pp                                      35312.087582   \n",
       "\n",
       "            oname:sfr_otype:lst_usecol:headwater_time:4383.5  \\\n",
       "base                                            28214.650069   \n",
       "ghbcondcn                                       27787.246201   \n",
       "ghbheadcn                                       27875.461017   \n",
       "nelayer1cn                                      28214.650069   \n",
       "nelayer1pp                                      28214.650069   \n",
       "\n",
       "            oname:hds_otype:lst_usecol:trgw-0-9-1_time:4383.5     part_time  \n",
       "base                                                 0.043494  2.809681e+10  \n",
       "ghbcondcn                                            0.043099  2.805656e+10  \n",
       "ghbheadcn                                            0.041104  2.346110e+10  \n",
       "nelayer1cn                                           0.043494  2.809328e+10  \n",
       "nelayer1pp                                           0.043494  2.809447e+10  "
      ]
     },
     "execution_count": 131,
     "metadata": {},
     "output_type": "execute_result"
    }
   ],
   "source": [
    "par_contrib.head()"
   ]
  },
  {
   "cell_type": "code",
   "execution_count": 132,
   "metadata": {},
   "outputs": [
    {
     "data": {
      "text/html": [
       "<div>\n",
       "<style scoped>\n",
       "    .dataframe tbody tr th:only-of-type {\n",
       "        vertical-align: middle;\n",
       "    }\n",
       "\n",
       "    .dataframe tbody tr th {\n",
       "        vertical-align: top;\n",
       "    }\n",
       "\n",
       "    .dataframe thead th {\n",
       "        text-align: right;\n",
       "    }\n",
       "</style>\n",
       "<table border=\"1\" class=\"dataframe\">\n",
       "  <thead>\n",
       "    <tr style=\"text-align: right;\">\n",
       "      <th></th>\n",
       "      <th>oname:sfr_otype:lst_usecol:tailwater_time:4383.5</th>\n",
       "      <th>oname:sfr_otype:lst_usecol:headwater_time:4383.5</th>\n",
       "      <th>oname:hds_otype:lst_usecol:trgw-0-9-1_time:4383.5</th>\n",
       "      <th>part_time</th>\n",
       "    </tr>\n",
       "  </thead>\n",
       "  <tbody>\n",
       "    <tr>\n",
       "      <th>base</th>\n",
       "      <td>0.000000e+00</td>\n",
       "      <td>0.000000e+00</td>\n",
       "      <td>0.000000e+00</td>\n",
       "      <td>0.000000</td>\n",
       "    </tr>\n",
       "    <tr>\n",
       "      <th>ghbcondcn</th>\n",
       "      <td>1.154779e-01</td>\n",
       "      <td>1.514830e+00</td>\n",
       "      <td>9.090789e-01</td>\n",
       "      <td>0.143250</td>\n",
       "    </tr>\n",
       "    <tr>\n",
       "      <th>ghbheadcn</th>\n",
       "      <td>2.061589e+01</td>\n",
       "      <td>1.202174e+00</td>\n",
       "      <td>5.495609e+00</td>\n",
       "      <td>16.499051</td>\n",
       "    </tr>\n",
       "    <tr>\n",
       "      <th>nelayer1cn</th>\n",
       "      <td>2.060472e-14</td>\n",
       "      <td>-2.578787e-14</td>\n",
       "      <td>1.595354e-13</td>\n",
       "      <td>0.012557</td>\n",
       "    </tr>\n",
       "    <tr>\n",
       "      <th>nelayer1pp</th>\n",
       "      <td>2.060472e-14</td>\n",
       "      <td>-2.578787e-14</td>\n",
       "      <td>7.976770e-14</td>\n",
       "      <td>0.008343</td>\n",
       "    </tr>\n",
       "    <tr>\n",
       "      <th>nelayer2cn</th>\n",
       "      <td>2.060472e-14</td>\n",
       "      <td>-2.578787e-14</td>\n",
       "      <td>1.595354e-13</td>\n",
       "      <td>0.024953</td>\n",
       "    </tr>\n",
       "    <tr>\n",
       "      <th>nelayer2pp</th>\n",
       "      <td>2.060472e-14</td>\n",
       "      <td>-2.578787e-14</td>\n",
       "      <td>7.976770e-14</td>\n",
       "      <td>0.016578</td>\n",
       "    </tr>\n",
       "    <tr>\n",
       "      <th>nelayer3cn</th>\n",
       "      <td>2.060472e-14</td>\n",
       "      <td>-2.578787e-14</td>\n",
       "      <td>1.595354e-13</td>\n",
       "      <td>43.529753</td>\n",
       "    </tr>\n",
       "    <tr>\n",
       "      <th>nelayer3pp</th>\n",
       "      <td>2.060472e-14</td>\n",
       "      <td>-2.578787e-14</td>\n",
       "      <td>7.976770e-14</td>\n",
       "      <td>9.523375</td>\n",
       "    </tr>\n",
       "    <tr>\n",
       "      <th>npfk33layer1cn</th>\n",
       "      <td>2.151976e-01</td>\n",
       "      <td>5.662454e-01</td>\n",
       "      <td>4.723518e-01</td>\n",
       "      <td>0.000592</td>\n",
       "    </tr>\n",
       "    <tr>\n",
       "      <th>npfk33layer2cn</th>\n",
       "      <td>5.198616e+00</td>\n",
       "      <td>5.361539e+00</td>\n",
       "      <td>6.514616e-01</td>\n",
       "      <td>0.003282</td>\n",
       "    </tr>\n",
       "    <tr>\n",
       "      <th>npfk33layer2pp</th>\n",
       "      <td>1.964715e+01</td>\n",
       "      <td>1.596791e+01</td>\n",
       "      <td>2.313738e+01</td>\n",
       "      <td>3.120707</td>\n",
       "    </tr>\n",
       "    <tr>\n",
       "      <th>npfk33layer3cn</th>\n",
       "      <td>3.050093e-01</td>\n",
       "      <td>4.605428e-02</td>\n",
       "      <td>4.847554e-02</td>\n",
       "      <td>0.000363</td>\n",
       "    </tr>\n",
       "    <tr>\n",
       "      <th>npfklayer1cn</th>\n",
       "      <td>4.000658e-01</td>\n",
       "      <td>1.029093e-01</td>\n",
       "      <td>1.927304e+00</td>\n",
       "      <td>0.278217</td>\n",
       "    </tr>\n",
       "    <tr>\n",
       "      <th>npfklayer1pp</th>\n",
       "      <td>6.377545e-01</td>\n",
       "      <td>2.178891e+00</td>\n",
       "      <td>2.019346e+00</td>\n",
       "      <td>0.740597</td>\n",
       "    </tr>\n",
       "    <tr>\n",
       "      <th>npfklayer2cn</th>\n",
       "      <td>2.592768e-04</td>\n",
       "      <td>1.070366e-02</td>\n",
       "      <td>4.476849e-04</td>\n",
       "      <td>0.006982</td>\n",
       "    </tr>\n",
       "    <tr>\n",
       "      <th>npfklayer2pp</th>\n",
       "      <td>7.655808e-02</td>\n",
       "      <td>1.058088e-01</td>\n",
       "      <td>2.972737e-02</td>\n",
       "      <td>0.039582</td>\n",
       "    </tr>\n",
       "    <tr>\n",
       "      <th>npfklayer3cn</th>\n",
       "      <td>3.811071e-02</td>\n",
       "      <td>8.215731e+00</td>\n",
       "      <td>1.883681e+01</td>\n",
       "      <td>7.829456</td>\n",
       "    </tr>\n",
       "    <tr>\n",
       "      <th>npfklayer3pp</th>\n",
       "      <td>8.233100e+00</td>\n",
       "      <td>1.198944e+01</td>\n",
       "      <td>2.490515e+01</td>\n",
       "      <td>6.996826</td>\n",
       "    </tr>\n",
       "    <tr>\n",
       "      <th>rch_recharge_10tcn</th>\n",
       "      <td>3.895280e-02</td>\n",
       "      <td>1.830897e-02</td>\n",
       "      <td>6.813806e-03</td>\n",
       "      <td>0.045363</td>\n",
       "    </tr>\n",
       "    <tr>\n",
       "      <th>rch_recharge_11tcn</th>\n",
       "      <td>8.761065e-01</td>\n",
       "      <td>2.538992e+00</td>\n",
       "      <td>6.080042e-01</td>\n",
       "      <td>0.660229</td>\n",
       "    </tr>\n",
       "    <tr>\n",
       "      <th>rch_recharge_12tcn</th>\n",
       "      <td>2.968008e+00</td>\n",
       "      <td>2.351716e+00</td>\n",
       "      <td>2.331704e+00</td>\n",
       "      <td>1.630802</td>\n",
       "    </tr>\n",
       "    <tr>\n",
       "      <th>rch_recharge_13tcn</th>\n",
       "      <td>4.335955e+00</td>\n",
       "      <td>7.980414e-01</td>\n",
       "      <td>3.768741e+00</td>\n",
       "      <td>6.016149</td>\n",
       "    </tr>\n",
       "    <tr>\n",
       "      <th>rch_recharge_14tcn</th>\n",
       "      <td>6.956871e-02</td>\n",
       "      <td>2.540964e-01</td>\n",
       "      <td>3.412090e-01</td>\n",
       "      <td>0.001153</td>\n",
       "    </tr>\n",
       "    <tr>\n",
       "      <th>rch_recharge_15tcn</th>\n",
       "      <td>6.809503e-02</td>\n",
       "      <td>2.403185e-01</td>\n",
       "      <td>3.050990e-01</td>\n",
       "      <td>0.000558</td>\n",
       "    </tr>\n",
       "    <tr>\n",
       "      <th>rch_recharge_16tcn</th>\n",
       "      <td>9.402875e-02</td>\n",
       "      <td>3.285130e-01</td>\n",
       "      <td>4.185951e-01</td>\n",
       "      <td>0.001279</td>\n",
       "    </tr>\n",
       "    <tr>\n",
       "      <th>rch_recharge_17tcn</th>\n",
       "      <td>8.068227e-02</td>\n",
       "      <td>2.702188e-01</td>\n",
       "      <td>3.288400e-01</td>\n",
       "      <td>0.000730</td>\n",
       "    </tr>\n",
       "    <tr>\n",
       "      <th>rch_recharge_18tcn</th>\n",
       "      <td>1.322505e-02</td>\n",
       "      <td>4.013817e-02</td>\n",
       "      <td>3.946591e-02</td>\n",
       "      <td>0.000485</td>\n",
       "    </tr>\n",
       "    <tr>\n",
       "      <th>rch_recharge_19tcn</th>\n",
       "      <td>7.770790e-02</td>\n",
       "      <td>2.443588e-01</td>\n",
       "      <td>2.850293e-01</td>\n",
       "      <td>0.000418</td>\n",
       "    </tr>\n",
       "    <tr>\n",
       "      <th>rch_recharge_1tcn</th>\n",
       "      <td>2.179820e-01</td>\n",
       "      <td>1.545178e-01</td>\n",
       "      <td>1.140300e-01</td>\n",
       "      <td>0.475968</td>\n",
       "    </tr>\n",
       "    <tr>\n",
       "      <th>rch_recharge_20tcn</th>\n",
       "      <td>3.682266e-02</td>\n",
       "      <td>1.100569e-01</td>\n",
       "      <td>1.185671e-01</td>\n",
       "      <td>0.000015</td>\n",
       "    </tr>\n",
       "    <tr>\n",
       "      <th>rch_recharge_21tcn</th>\n",
       "      <td>6.273377e-02</td>\n",
       "      <td>1.517716e-01</td>\n",
       "      <td>1.305783e-01</td>\n",
       "      <td>0.000013</td>\n",
       "    </tr>\n",
       "    <tr>\n",
       "      <th>rch_recharge_22tcn</th>\n",
       "      <td>2.232389e-01</td>\n",
       "      <td>5.798281e-01</td>\n",
       "      <td>4.717438e-01</td>\n",
       "      <td>0.001535</td>\n",
       "    </tr>\n",
       "    <tr>\n",
       "      <th>rch_recharge_23tcn</th>\n",
       "      <td>1.051779e+00</td>\n",
       "      <td>2.803825e+00</td>\n",
       "      <td>1.859802e+00</td>\n",
       "      <td>0.009705</td>\n",
       "    </tr>\n",
       "    <tr>\n",
       "      <th>rch_recharge_24tcn</th>\n",
       "      <td>2.097951e+00</td>\n",
       "      <td>6.653766e+00</td>\n",
       "      <td>3.208803e+00</td>\n",
       "      <td>0.009386</td>\n",
       "    </tr>\n",
       "    <tr>\n",
       "      <th>rch_recharge_25tcn</th>\n",
       "      <td>1.053952e+01</td>\n",
       "      <td>1.800929e+01</td>\n",
       "      <td>4.930285e+00</td>\n",
       "      <td>0.059243</td>\n",
       "    </tr>\n",
       "    <tr>\n",
       "      <th>rch_recharge_2tcn</th>\n",
       "      <td>3.592710e+00</td>\n",
       "      <td>4.462652e-01</td>\n",
       "      <td>3.656185e+00</td>\n",
       "      <td>3.682710</td>\n",
       "    </tr>\n",
       "    <tr>\n",
       "      <th>rch_recharge_3tcn</th>\n",
       "      <td>6.132592e-01</td>\n",
       "      <td>5.577018e-01</td>\n",
       "      <td>3.671706e-01</td>\n",
       "      <td>1.993236</td>\n",
       "    </tr>\n",
       "    <tr>\n",
       "      <th>rch_recharge_4tcn</th>\n",
       "      <td>2.769079e+00</td>\n",
       "      <td>2.710322e-01</td>\n",
       "      <td>4.347484e-02</td>\n",
       "      <td>1.004659</td>\n",
       "    </tr>\n",
       "    <tr>\n",
       "      <th>rch_recharge_5tcn</th>\n",
       "      <td>1.574786e+00</td>\n",
       "      <td>5.037867e-01</td>\n",
       "      <td>3.692439e+00</td>\n",
       "      <td>2.069392</td>\n",
       "    </tr>\n",
       "    <tr>\n",
       "      <th>rch_recharge_6tcn</th>\n",
       "      <td>4.949573e-01</td>\n",
       "      <td>6.186507e-04</td>\n",
       "      <td>1.217662e-01</td>\n",
       "      <td>0.477847</td>\n",
       "    </tr>\n",
       "    <tr>\n",
       "      <th>rch_recharge_7tcn</th>\n",
       "      <td>4.396674e-01</td>\n",
       "      <td>2.070314e-02</td>\n",
       "      <td>4.284426e-01</td>\n",
       "      <td>0.133530</td>\n",
       "    </tr>\n",
       "    <tr>\n",
       "      <th>rch_recharge_8tcn</th>\n",
       "      <td>7.490238e-02</td>\n",
       "      <td>1.070673e-01</td>\n",
       "      <td>3.034034e-02</td>\n",
       "      <td>0.117014</td>\n",
       "    </tr>\n",
       "    <tr>\n",
       "      <th>rch_recharge_9tcn</th>\n",
       "      <td>1.747085e-02</td>\n",
       "      <td>1.742818e-02</td>\n",
       "      <td>1.258339e-02</td>\n",
       "      <td>0.055518</td>\n",
       "    </tr>\n",
       "    <tr>\n",
       "      <th>sfrcondcn</th>\n",
       "      <td>2.711935e+00</td>\n",
       "      <td>4.325843e+00</td>\n",
       "      <td>9.051968e+00</td>\n",
       "      <td>3.906922</td>\n",
       "    </tr>\n",
       "    <tr>\n",
       "      <th>sfrcondgr</th>\n",
       "      <td>2.845024e+01</td>\n",
       "      <td>6.368078e+00</td>\n",
       "      <td>9.611450e+00</td>\n",
       "      <td>3.173623</td>\n",
       "    </tr>\n",
       "    <tr>\n",
       "      <th>sfrgr</th>\n",
       "      <td>1.972352e-01</td>\n",
       "      <td>2.449992e-01</td>\n",
       "      <td>1.724466e-01</td>\n",
       "      <td>0.135191</td>\n",
       "    </tr>\n",
       "    <tr>\n",
       "      <th>stosslayer2cn</th>\n",
       "      <td>1.656488e-04</td>\n",
       "      <td>3.391183e-06</td>\n",
       "      <td>6.697196e-04</td>\n",
       "      <td>0.000315</td>\n",
       "    </tr>\n",
       "    <tr>\n",
       "      <th>stosslayer3cn</th>\n",
       "      <td>1.665891e-04</td>\n",
       "      <td>1.257531e-04</td>\n",
       "      <td>8.769470e-04</td>\n",
       "      <td>0.001849</td>\n",
       "    </tr>\n",
       "    <tr>\n",
       "      <th>stosslayer3pp</th>\n",
       "      <td>6.562839e-03</td>\n",
       "      <td>6.158317e-03</td>\n",
       "      <td>2.635639e-02</td>\n",
       "      <td>0.033597</td>\n",
       "    </tr>\n",
       "    <tr>\n",
       "      <th>stosylayer1cn</th>\n",
       "      <td>7.110993e-01</td>\n",
       "      <td>1.767640e+00</td>\n",
       "      <td>1.507212e+00</td>\n",
       "      <td>0.565458</td>\n",
       "    </tr>\n",
       "    <tr>\n",
       "      <th>stosylayer1pp</th>\n",
       "      <td>3.441880e+00</td>\n",
       "      <td>5.214868e+00</td>\n",
       "      <td>1.206704e+01</td>\n",
       "      <td>12.362404</td>\n",
       "    </tr>\n",
       "    <tr>\n",
       "      <th>welcst</th>\n",
       "      <td>2.224285e+01</td>\n",
       "      <td>1.694868e+01</td>\n",
       "      <td>8.458753e+00</td>\n",
       "      <td>6.498818</td>\n",
       "    </tr>\n",
       "  </tbody>\n",
       "</table>\n",
       "</div>"
      ],
      "text/plain": [
       "                    oname:sfr_otype:lst_usecol:tailwater_time:4383.5  \\\n",
       "base                                                    0.000000e+00   \n",
       "ghbcondcn                                               1.154779e-01   \n",
       "ghbheadcn                                               2.061589e+01   \n",
       "nelayer1cn                                              2.060472e-14   \n",
       "nelayer1pp                                              2.060472e-14   \n",
       "nelayer2cn                                              2.060472e-14   \n",
       "nelayer2pp                                              2.060472e-14   \n",
       "nelayer3cn                                              2.060472e-14   \n",
       "nelayer3pp                                              2.060472e-14   \n",
       "npfk33layer1cn                                          2.151976e-01   \n",
       "npfk33layer2cn                                          5.198616e+00   \n",
       "npfk33layer2pp                                          1.964715e+01   \n",
       "npfk33layer3cn                                          3.050093e-01   \n",
       "npfklayer1cn                                            4.000658e-01   \n",
       "npfklayer1pp                                            6.377545e-01   \n",
       "npfklayer2cn                                            2.592768e-04   \n",
       "npfklayer2pp                                            7.655808e-02   \n",
       "npfklayer3cn                                            3.811071e-02   \n",
       "npfklayer3pp                                            8.233100e+00   \n",
       "rch_recharge_10tcn                                      3.895280e-02   \n",
       "rch_recharge_11tcn                                      8.761065e-01   \n",
       "rch_recharge_12tcn                                      2.968008e+00   \n",
       "rch_recharge_13tcn                                      4.335955e+00   \n",
       "rch_recharge_14tcn                                      6.956871e-02   \n",
       "rch_recharge_15tcn                                      6.809503e-02   \n",
       "rch_recharge_16tcn                                      9.402875e-02   \n",
       "rch_recharge_17tcn                                      8.068227e-02   \n",
       "rch_recharge_18tcn                                      1.322505e-02   \n",
       "rch_recharge_19tcn                                      7.770790e-02   \n",
       "rch_recharge_1tcn                                       2.179820e-01   \n",
       "rch_recharge_20tcn                                      3.682266e-02   \n",
       "rch_recharge_21tcn                                      6.273377e-02   \n",
       "rch_recharge_22tcn                                      2.232389e-01   \n",
       "rch_recharge_23tcn                                      1.051779e+00   \n",
       "rch_recharge_24tcn                                      2.097951e+00   \n",
       "rch_recharge_25tcn                                      1.053952e+01   \n",
       "rch_recharge_2tcn                                       3.592710e+00   \n",
       "rch_recharge_3tcn                                       6.132592e-01   \n",
       "rch_recharge_4tcn                                       2.769079e+00   \n",
       "rch_recharge_5tcn                                       1.574786e+00   \n",
       "rch_recharge_6tcn                                       4.949573e-01   \n",
       "rch_recharge_7tcn                                       4.396674e-01   \n",
       "rch_recharge_8tcn                                       7.490238e-02   \n",
       "rch_recharge_9tcn                                       1.747085e-02   \n",
       "sfrcondcn                                               2.711935e+00   \n",
       "sfrcondgr                                               2.845024e+01   \n",
       "sfrgr                                                   1.972352e-01   \n",
       "stosslayer2cn                                           1.656488e-04   \n",
       "stosslayer3cn                                           1.665891e-04   \n",
       "stosslayer3pp                                           6.562839e-03   \n",
       "stosylayer1cn                                           7.110993e-01   \n",
       "stosylayer1pp                                           3.441880e+00   \n",
       "welcst                                                  2.224285e+01   \n",
       "\n",
       "                    oname:sfr_otype:lst_usecol:headwater_time:4383.5  \\\n",
       "base                                                    0.000000e+00   \n",
       "ghbcondcn                                               1.514830e+00   \n",
       "ghbheadcn                                               1.202174e+00   \n",
       "nelayer1cn                                             -2.578787e-14   \n",
       "nelayer1pp                                             -2.578787e-14   \n",
       "nelayer2cn                                             -2.578787e-14   \n",
       "nelayer2pp                                             -2.578787e-14   \n",
       "nelayer3cn                                             -2.578787e-14   \n",
       "nelayer3pp                                             -2.578787e-14   \n",
       "npfk33layer1cn                                          5.662454e-01   \n",
       "npfk33layer2cn                                          5.361539e+00   \n",
       "npfk33layer2pp                                          1.596791e+01   \n",
       "npfk33layer3cn                                          4.605428e-02   \n",
       "npfklayer1cn                                            1.029093e-01   \n",
       "npfklayer1pp                                            2.178891e+00   \n",
       "npfklayer2cn                                            1.070366e-02   \n",
       "npfklayer2pp                                            1.058088e-01   \n",
       "npfklayer3cn                                            8.215731e+00   \n",
       "npfklayer3pp                                            1.198944e+01   \n",
       "rch_recharge_10tcn                                      1.830897e-02   \n",
       "rch_recharge_11tcn                                      2.538992e+00   \n",
       "rch_recharge_12tcn                                      2.351716e+00   \n",
       "rch_recharge_13tcn                                      7.980414e-01   \n",
       "rch_recharge_14tcn                                      2.540964e-01   \n",
       "rch_recharge_15tcn                                      2.403185e-01   \n",
       "rch_recharge_16tcn                                      3.285130e-01   \n",
       "rch_recharge_17tcn                                      2.702188e-01   \n",
       "rch_recharge_18tcn                                      4.013817e-02   \n",
       "rch_recharge_19tcn                                      2.443588e-01   \n",
       "rch_recharge_1tcn                                       1.545178e-01   \n",
       "rch_recharge_20tcn                                      1.100569e-01   \n",
       "rch_recharge_21tcn                                      1.517716e-01   \n",
       "rch_recharge_22tcn                                      5.798281e-01   \n",
       "rch_recharge_23tcn                                      2.803825e+00   \n",
       "rch_recharge_24tcn                                      6.653766e+00   \n",
       "rch_recharge_25tcn                                      1.800929e+01   \n",
       "rch_recharge_2tcn                                       4.462652e-01   \n",
       "rch_recharge_3tcn                                       5.577018e-01   \n",
       "rch_recharge_4tcn                                       2.710322e-01   \n",
       "rch_recharge_5tcn                                       5.037867e-01   \n",
       "rch_recharge_6tcn                                       6.186507e-04   \n",
       "rch_recharge_7tcn                                       2.070314e-02   \n",
       "rch_recharge_8tcn                                       1.070673e-01   \n",
       "rch_recharge_9tcn                                       1.742818e-02   \n",
       "sfrcondcn                                               4.325843e+00   \n",
       "sfrcondgr                                               6.368078e+00   \n",
       "sfrgr                                                   2.449992e-01   \n",
       "stosslayer2cn                                           3.391183e-06   \n",
       "stosslayer3cn                                           1.257531e-04   \n",
       "stosslayer3pp                                           6.158317e-03   \n",
       "stosylayer1cn                                           1.767640e+00   \n",
       "stosylayer1pp                                           5.214868e+00   \n",
       "welcst                                                  1.694868e+01   \n",
       "\n",
       "                    oname:hds_otype:lst_usecol:trgw-0-9-1_time:4383.5  \\\n",
       "base                                                     0.000000e+00   \n",
       "ghbcondcn                                                9.090789e-01   \n",
       "ghbheadcn                                                5.495609e+00   \n",
       "nelayer1cn                                               1.595354e-13   \n",
       "nelayer1pp                                               7.976770e-14   \n",
       "nelayer2cn                                               1.595354e-13   \n",
       "nelayer2pp                                               7.976770e-14   \n",
       "nelayer3cn                                               1.595354e-13   \n",
       "nelayer3pp                                               7.976770e-14   \n",
       "npfk33layer1cn                                           4.723518e-01   \n",
       "npfk33layer2cn                                           6.514616e-01   \n",
       "npfk33layer2pp                                           2.313738e+01   \n",
       "npfk33layer3cn                                           4.847554e-02   \n",
       "npfklayer1cn                                             1.927304e+00   \n",
       "npfklayer1pp                                             2.019346e+00   \n",
       "npfklayer2cn                                             4.476849e-04   \n",
       "npfklayer2pp                                             2.972737e-02   \n",
       "npfklayer3cn                                             1.883681e+01   \n",
       "npfklayer3pp                                             2.490515e+01   \n",
       "rch_recharge_10tcn                                       6.813806e-03   \n",
       "rch_recharge_11tcn                                       6.080042e-01   \n",
       "rch_recharge_12tcn                                       2.331704e+00   \n",
       "rch_recharge_13tcn                                       3.768741e+00   \n",
       "rch_recharge_14tcn                                       3.412090e-01   \n",
       "rch_recharge_15tcn                                       3.050990e-01   \n",
       "rch_recharge_16tcn                                       4.185951e-01   \n",
       "rch_recharge_17tcn                                       3.288400e-01   \n",
       "rch_recharge_18tcn                                       3.946591e-02   \n",
       "rch_recharge_19tcn                                       2.850293e-01   \n",
       "rch_recharge_1tcn                                        1.140300e-01   \n",
       "rch_recharge_20tcn                                       1.185671e-01   \n",
       "rch_recharge_21tcn                                       1.305783e-01   \n",
       "rch_recharge_22tcn                                       4.717438e-01   \n",
       "rch_recharge_23tcn                                       1.859802e+00   \n",
       "rch_recharge_24tcn                                       3.208803e+00   \n",
       "rch_recharge_25tcn                                       4.930285e+00   \n",
       "rch_recharge_2tcn                                        3.656185e+00   \n",
       "rch_recharge_3tcn                                        3.671706e-01   \n",
       "rch_recharge_4tcn                                        4.347484e-02   \n",
       "rch_recharge_5tcn                                        3.692439e+00   \n",
       "rch_recharge_6tcn                                        1.217662e-01   \n",
       "rch_recharge_7tcn                                        4.284426e-01   \n",
       "rch_recharge_8tcn                                        3.034034e-02   \n",
       "rch_recharge_9tcn                                        1.258339e-02   \n",
       "sfrcondcn                                                9.051968e+00   \n",
       "sfrcondgr                                                9.611450e+00   \n",
       "sfrgr                                                    1.724466e-01   \n",
       "stosslayer2cn                                            6.697196e-04   \n",
       "stosslayer3cn                                            8.769470e-04   \n",
       "stosslayer3pp                                            2.635639e-02   \n",
       "stosylayer1cn                                            1.507212e+00   \n",
       "stosylayer1pp                                            1.206704e+01   \n",
       "welcst                                                   8.458753e+00   \n",
       "\n",
       "                    part_time  \n",
       "base                 0.000000  \n",
       "ghbcondcn            0.143250  \n",
       "ghbheadcn           16.499051  \n",
       "nelayer1cn           0.012557  \n",
       "nelayer1pp           0.008343  \n",
       "nelayer2cn           0.024953  \n",
       "nelayer2pp           0.016578  \n",
       "nelayer3cn          43.529753  \n",
       "nelayer3pp           9.523375  \n",
       "npfk33layer1cn       0.000592  \n",
       "npfk33layer2cn       0.003282  \n",
       "npfk33layer2pp       3.120707  \n",
       "npfk33layer3cn       0.000363  \n",
       "npfklayer1cn         0.278217  \n",
       "npfklayer1pp         0.740597  \n",
       "npfklayer2cn         0.006982  \n",
       "npfklayer2pp         0.039582  \n",
       "npfklayer3cn         7.829456  \n",
       "npfklayer3pp         6.996826  \n",
       "rch_recharge_10tcn   0.045363  \n",
       "rch_recharge_11tcn   0.660229  \n",
       "rch_recharge_12tcn   1.630802  \n",
       "rch_recharge_13tcn   6.016149  \n",
       "rch_recharge_14tcn   0.001153  \n",
       "rch_recharge_15tcn   0.000558  \n",
       "rch_recharge_16tcn   0.001279  \n",
       "rch_recharge_17tcn   0.000730  \n",
       "rch_recharge_18tcn   0.000485  \n",
       "rch_recharge_19tcn   0.000418  \n",
       "rch_recharge_1tcn    0.475968  \n",
       "rch_recharge_20tcn   0.000015  \n",
       "rch_recharge_21tcn   0.000013  \n",
       "rch_recharge_22tcn   0.001535  \n",
       "rch_recharge_23tcn   0.009705  \n",
       "rch_recharge_24tcn   0.009386  \n",
       "rch_recharge_25tcn   0.059243  \n",
       "rch_recharge_2tcn    3.682710  \n",
       "rch_recharge_3tcn    1.993236  \n",
       "rch_recharge_4tcn    1.004659  \n",
       "rch_recharge_5tcn    2.069392  \n",
       "rch_recharge_6tcn    0.477847  \n",
       "rch_recharge_7tcn    0.133530  \n",
       "rch_recharge_8tcn    0.117014  \n",
       "rch_recharge_9tcn    0.055518  \n",
       "sfrcondcn            3.906922  \n",
       "sfrcondgr            3.173623  \n",
       "sfrgr                0.135191  \n",
       "stosslayer2cn        0.000315  \n",
       "stosslayer3cn        0.001849  \n",
       "stosslayer3pp        0.033597  \n",
       "stosylayer1cn        0.565458  \n",
       "stosylayer1pp       12.362404  \n",
       "welcst               6.498818  "
      ]
     },
     "execution_count": 132,
     "metadata": {},
     "output_type": "execute_result"
    }
   ],
   "source": [
    "base = par_contrib.loc[\"base\",:]\n",
    "par_contrib = 100.0 * (base - par_contrib) / base\n",
    "par_contrib.sort_index()"
   ]
  },
  {
   "cell_type": "code",
   "execution_count": 133,
   "metadata": {},
   "outputs": [
    {
     "data": {
      "image/png": "[encoded data removed]",
      "text/plain": [
       "<Figure size 432x288 with 1 Axes>"
      ]
     },
     "metadata": {
      "needs_background": "light"
     },
     "output_type": "display_data"
    },
    {
     "data": {
      "image/png": "[encoded data removed]",
      "text/plain": [
       "<Figure size 432x288 with 1 Axes>"
      ]
     },
     "metadata": {
      "needs_background": "light"
     },
     "output_type": "display_data"
    },
    {
     "data": {
      "image/png": "[encoded data removed]",
      "text/plain": [
       "<Figure size 432x288 with 1 Axes>"
      ]
     },
     "metadata": {
      "needs_background": "light"
     },
     "output_type": "display_data"
    },
    {
     "data": {
      "image/png": "[encoded data removed]",
      "text/plain": [
       "<Figure size 432x288 with 1 Axes>"
      ]
     },
     "metadata": {
      "needs_background": "light"
     },
     "output_type": "display_data"
    }
   ],
   "source": [
    "for forecast in par_contrib.columns:\n",
    "    fore_df = par_contrib.loc[:,forecast].copy()\n",
    "    fore_df.sort_values(inplace=True, ascending=False)\n",
    "    ax = fore_df.iloc[:10].plot(kind=\"bar\",color=\"b\")\n",
    "    ax.set_title(forecast)\n",
    "    ax.set_ylabel(\"percent variance reduction\")\n",
    "    plt.show()"
   ]
  },
  {
   "cell_type": "markdown",
   "metadata": {},
   "source": [
    "# Dataworth"
   ]
  },
  {
   "cell_type": "code",
   "execution_count": 134,
   "metadata": {},
   "outputs": [
    {
     "data": {
      "text/plain": [
       "['oname:hds_otype:lst_usecol:trgw-0-26-6',\n",
       " 'oname:hds_otype:lst_usecol:trgw-0-3-8',\n",
       " 'oname:hds_otype:lst_usecol:trgw-2-26-6',\n",
       " 'oname:hds_otype:lst_usecol:trgw-2-3-8',\n",
       " 'oname:sfr_otype:lst_usecol:gage-1',\n",
       " 'oname:sfrtd_otype:lst_usecol:gage-1',\n",
       " 'oname:hdstd_otype:lst_usecol:trgw-0-26-6',\n",
       " 'oname:hdstd_otype:lst_usecol:trgw-0-3-8',\n",
       " 'oname:hdstd_otype:lst_usecol:trgw-2-26-6',\n",
       " 'oname:hdstd_otype:lst_usecol:trgw-2-3-8',\n",
       " 'oname:hdsvd_otype:lst_usecol:trgw-0-26-6',\n",
       " 'oname:hdsvd_otype:lst_usecol:trgw-0-3-8']"
      ]
     },
     "execution_count": 134,
     "metadata": {},
     "output_type": "execute_result"
    }
   ],
   "source": [
    "sc.pst.nnz_obs_groups"
   ]
  },
  {
   "cell_type": "code",
   "execution_count": 135,
   "metadata": {},
   "outputs": [
    {
     "data": {
      "text/plain": [
       "dict_keys(['cum', 'hdslay1', 'hdslay2', 'hdslay3', 'inc', 'oname:cum_otype:lst_usecol:in-out', 'oname:cum_otype:lst_usecol:percent-discrepancy', 'oname:cum_otype:lst_usecol:rcha', 'oname:cum_otype:lst_usecol:sfr', 'oname:cum_otype:lst_usecol:sto-ss', 'oname:cum_otype:lst_usecol:sto-sy', 'oname:cum_otype:lst_usecol:total', 'oname:cum_otype:lst_usecol:wel', 'oname:hds_otype:lst_usecol:trgw-0-13-10', 'oname:hds_otype:lst_usecol:trgw-0-15-16', 'oname:hds_otype:lst_usecol:trgw-0-2-15', 'oname:hds_otype:lst_usecol:trgw-0-2-9', 'oname:hds_otype:lst_usecol:trgw-0-21-10', 'oname:hds_otype:lst_usecol:trgw-0-22-15', 'oname:hds_otype:lst_usecol:trgw-0-24-4', 'oname:hds_otype:lst_usecol:trgw-0-26-6', 'oname:hds_otype:lst_usecol:trgw-0-29-15', 'oname:hds_otype:lst_usecol:trgw-0-3-8', 'oname:hds_otype:lst_usecol:trgw-0-33-7', 'oname:hds_otype:lst_usecol:trgw-0-34-10', 'oname:hds_otype:lst_usecol:trgw-0-9-1', 'oname:hds_otype:lst_usecol:trgw-2-13-10', 'oname:hds_otype:lst_usecol:trgw-2-15-16', 'oname:hds_otype:lst_usecol:trgw-2-2-15', 'oname:hds_otype:lst_usecol:trgw-2-2-9', 'oname:hds_otype:lst_usecol:trgw-2-21-10', 'oname:hds_otype:lst_usecol:trgw-2-22-15', 'oname:hds_otype:lst_usecol:trgw-2-24-4', 'oname:hds_otype:lst_usecol:trgw-2-26-6', 'oname:hds_otype:lst_usecol:trgw-2-29-15', 'oname:hds_otype:lst_usecol:trgw-2-3-8', 'oname:hds_otype:lst_usecol:trgw-2-33-7', 'oname:hds_otype:lst_usecol:trgw-2-34-10', 'oname:hds_otype:lst_usecol:trgw-2-9-1', 'oname:hdstd_otype:lst_usecol:trgw-0-13-10', 'oname:hdstd_otype:lst_usecol:trgw-0-15-16', 'oname:hdstd_otype:lst_usecol:trgw-0-2-15', 'oname:hdstd_otype:lst_usecol:trgw-0-2-9', 'oname:hdstd_otype:lst_usecol:trgw-0-21-10', 'oname:hdstd_otype:lst_usecol:trgw-0-22-15', 'oname:hdstd_otype:lst_usecol:trgw-0-24-4', 'oname:hdstd_otype:lst_usecol:trgw-0-26-6', 'oname:hdstd_otype:lst_usecol:trgw-0-29-15', 'oname:hdstd_otype:lst_usecol:trgw-0-3-8', 'oname:hdstd_otype:lst_usecol:trgw-0-33-7', 'oname:hdstd_otype:lst_usecol:trgw-0-34-10', 'oname:hdstd_otype:lst_usecol:trgw-0-9-1', 'oname:hdstd_otype:lst_usecol:trgw-2-13-10', 'oname:hdstd_otype:lst_usecol:trgw-2-15-16', 'oname:hdstd_otype:lst_usecol:trgw-2-2-15', 'oname:hdstd_otype:lst_usecol:trgw-2-2-9', 'oname:hdstd_otype:lst_usecol:trgw-2-21-10', 'oname:hdstd_otype:lst_usecol:trgw-2-22-15', 'oname:hdstd_otype:lst_usecol:trgw-2-24-4', 'oname:hdstd_otype:lst_usecol:trgw-2-26-6', 'oname:hdstd_otype:lst_usecol:trgw-2-29-15', 'oname:hdstd_otype:lst_usecol:trgw-2-3-8', 'oname:hdstd_otype:lst_usecol:trgw-2-33-7', 'oname:hdstd_otype:lst_usecol:trgw-2-34-10', 'oname:hdstd_otype:lst_usecol:trgw-2-9-1', 'oname:hdsvd_otype:lst_usecol:trgw-0-13-10', 'oname:hdsvd_otype:lst_usecol:trgw-0-15-16', 'oname:hdsvd_otype:lst_usecol:trgw-0-2-15', 'oname:hdsvd_otype:lst_usecol:trgw-0-2-9', 'oname:hdsvd_otype:lst_usecol:trgw-0-21-10', 'oname:hdsvd_otype:lst_usecol:trgw-0-22-15', 'oname:hdsvd_otype:lst_usecol:trgw-0-24-4', 'oname:hdsvd_otype:lst_usecol:trgw-0-26-6', 'oname:hdsvd_otype:lst_usecol:trgw-0-29-15', 'oname:hdsvd_otype:lst_usecol:trgw-0-3-8', 'oname:hdsvd_otype:lst_usecol:trgw-0-33-7', 'oname:hdsvd_otype:lst_usecol:trgw-0-34-10', 'oname:hdsvd_otype:lst_usecol:trgw-0-9-1', 'oname:inc_otype:lst_usecol:in-out', 'oname:inc_otype:lst_usecol:percent-discrepancy', 'oname:inc_otype:lst_usecol:rcha', 'oname:inc_otype:lst_usecol:sfr', 'oname:inc_otype:lst_usecol:sto-ss', 'oname:inc_otype:lst_usecol:sto-sy', 'oname:inc_otype:lst_usecol:total', 'oname:inc_otype:lst_usecol:wel', 'oname:sfr_otype:lst_usecol:gage-1', 'oname:sfr_otype:lst_usecol:headwater', 'oname:sfr_otype:lst_usecol:tailwater', 'oname:sfrtd_otype:lst_usecol:gage-1', 'oname:sfrtd_otype:lst_usecol:headwater', 'oname:sfrtd_otype:lst_usecol:tailwater', 'part'])"
      ]
     },
     "execution_count": 135,
     "metadata": {},
     "output_type": "execute_result"
    }
   ],
   "source": [
    "sc.get_obs_group_dict().keys()"
   ]
  },
  {
   "cell_type": "code",
   "execution_count": 136,
   "metadata": {},
   "outputs": [],
   "source": [
    "# breaks...pyemu prolem?\n",
    "\n",
    "#dw_rm = sc.get_removed_obs_group_importance()\n",
    "#dw_rm"
   ]
  },
  {
   "cell_type": "code",
   "execution_count": 137,
   "metadata": {},
   "outputs": [],
   "source": [
    "# let's normalize to make more meaningful comparisons of data worth (unctainty variance reduction)\n",
    "# base = dw_rm.loc[\"base\",:]\n",
    "# dw_rm = 100 * (dw_rm  - base) / base\n",
    "# dw_rm.head()"
   ]
  },
  {
   "cell_type": "code",
   "execution_count": 138,
   "metadata": {},
   "outputs": [],
   "source": [
    "#for forecast in dw_rm.columns:\n",
    "#    fore_df = dw_rm.loc[:,forecast].copy()\n",
    "#    fore_df.sort_values(inplace=True, ascending=False)\n",
    "#    ax = fore_df.iloc[:10].plot(kind=\"bar\",color=\"b\")\n",
    "#    ax.set_title(forecast)\n",
    "#    ax.set_ylabel(\"percent variance increase\")\n",
    "#    plt.show()"
   ]
  },
  {
   "cell_type": "code",
   "execution_count": 139,
   "metadata": {},
   "outputs": [
    {
     "data": {
      "image/png": "[encoded data removed]",
      "text/plain": [
       "<Figure size 432x288 with 1 Axes>"
      ]
     },
     "metadata": {
      "needs_background": "light"
     },
     "output_type": "display_data"
    },
    {
     "data": {
      "image/png": "[encoded data removed]",
      "text/plain": [
       "<Figure size 432x288 with 1 Axes>"
      ]
     },
     "metadata": {
      "needs_background": "light"
     },
     "output_type": "display_data"
    },
    {
     "data": {
      "image/png": "[encoded data removed]",
      "text/plain": [
       "<Figure size 432x288 with 1 Axes>"
      ]
     },
     "metadata": {
      "needs_background": "light"
     },
     "output_type": "display_data"
    },
    {
     "data": {
      "image/png": "[encoded data removed]",
      "text/plain": [
       "<Figure size 432x288 with 1 Axes>"
      ]
     },
     "metadata": {
      "needs_background": "light"
     },
     "output_type": "display_data"
    }
   ],
   "source": [
    "dw_ad = sc.get_added_obs_group_importance()\n",
    "base = dw_ad.loc[\"base\",:]\n",
    "dw_ad = 100 * (base - dw_ad) / base\n",
    "for forecast in dw_ad.columns:\n",
    "    fore_df_ad = dw_ad.loc[:,forecast].copy()\n",
    "    fore_df_ad.sort_values(inplace=True, ascending=False)\n",
    "    ax = fore_df_ad.iloc[:20].plot(kind=\"bar\",color=\"b\")\n",
    "    ax.set_title(forecast)\n",
    "    ax.set_ylabel(\"percent variance decrease\")\n",
    "    plt.show()"
   ]
  },
  {
   "cell_type": "markdown",
   "metadata": {},
   "source": [
    "Do these two approaches give the same answer? They shouldn't.. Why? Let's discuss.."
   ]
  },
  {
   "cell_type": "markdown",
   "metadata": {},
   "source": [
    "### what is the worth of ${\\it potential}$ observations? what data should we collect?"
   ]
  },
  {
   "cell_type": "code",
   "execution_count": 140,
   "metadata": {},
   "outputs": [
    {
     "data": {
      "text/plain": [
       "array(['hds', 'sfr', 'hdslay1', 'hdslay2', 'hdslay3', 'inc', 'cum',\n",
       "       'sfrtd', 'hdstd', 'hdsvd', nan], dtype=object)"
      ]
     },
     "execution_count": 140,
     "metadata": {},
     "output_type": "execute_result"
    }
   ],
   "source": [
    "obs = sc.pst.observation_data\n",
    "obs.oname.unique()"
   ]
  },
  {
   "cell_type": "code",
   "execution_count": 141,
   "metadata": {},
   "outputs": [
    {
     "data": {
      "text/plain": [
       "4018.5"
      ]
     },
     "execution_count": 141,
     "metadata": {},
     "output_type": "execute_result"
    }
   ],
   "source": [
    "obs.time.astype(float).unique()[12]"
   ]
  },
  {
   "cell_type": "code",
   "execution_count": 142,
   "metadata": {},
   "outputs": [
    {
     "data": {
      "text/plain": [
       "338"
      ]
     },
     "execution_count": 142,
     "metadata": {},
     "output_type": "execute_result"
    }
   ],
   "source": [
    "end_hist_time = obs.time.astype(float).unique()[12]\n",
    "potential_obs = obs.loc[(obs.oname=='hds') & (obs.time.astype(float)<= end_hist_time), 'obsnme'].tolist()\n",
    "len(potential_obs)"
   ]
  },
  {
   "cell_type": "code",
   "execution_count": 146,
   "metadata": {},
   "outputs": [],
   "source": [
    "nz_obs = set(sc.pst.nnz_obs_names)\n",
    "potential_obs = [o for o in potential_obs if o not in nz_obs]  \n"
   ]
  },
  {
   "cell_type": "code",
   "execution_count": 147,
   "metadata": {},
   "outputs": [
    {
     "name": "stdout",
     "output_type": "stream",
     "text": [
      "took: 0:00:17.264711\n"
     ]
    }
   ],
   "source": [
    "from datetime import datetime\n",
    "start = datetime.now()\n",
    "df_worth_new = sc.get_added_obs_importance(obslist_dict=potential_obs, base_obslist=sc.pst.nnz_obs_names, reset_zero_weight=True)\n",
    "print(\"took:\",datetime.now() - start)"
   ]
  },
  {
   "cell_type": "code",
   "execution_count": null,
   "metadata": {},
   "outputs": [
    {
     "data": {
      "text/html": [
       "<div>\n",
       "<style scoped>\n",
       "    .dataframe tbody tr th:only-of-type {\n",
       "        vertical-align: middle;\n",
       "    }\n",
       "\n",
       "    .dataframe tbody tr th {\n",
       "        vertical-align: top;\n",
       "    }\n",
       "\n",
       "    .dataframe thead th {\n",
       "        text-align: right;\n",
       "    }\n",
       "</style>\n",
       "<table border=\"1\" class=\"dataframe\">\n",
       "  <thead>\n",
       "    <tr style=\"text-align: right;\">\n",
       "      <th></th>\n",
       "      <th>oname:sfr_otype:lst_usecol:tailwater_time:4383.5</th>\n",
       "      <th>oname:sfr_otype:lst_usecol:headwater_time:4383.5</th>\n",
       "      <th>oname:hds_otype:lst_usecol:trgw-0-9-1_time:4383.5</th>\n",
       "      <th>part_time</th>\n",
       "    </tr>\n",
       "  </thead>\n",
       "  <tbody>\n",
       "    <tr>\n",
       "      <th>base</th>\n",
       "      <td>35312.087582</td>\n",
       "      <td>28214.650069</td>\n",
       "      <td>0.043494</td>\n",
       "      <td>2.809681e+10</td>\n",
       "    </tr>\n",
       "    <tr>\n",
       "      <th>oname:hds_otype:lst_usecol:trgw-0-13-10_time:3652.5</th>\n",
       "      <td>35299.940107</td>\n",
       "      <td>28203.814419</td>\n",
       "      <td>0.043481</td>\n",
       "      <td>2.808638e+10</td>\n",
       "    </tr>\n",
       "    <tr>\n",
       "      <th>oname:hds_otype:lst_usecol:trgw-0-13-10_time:3683.5</th>\n",
       "      <td>35306.282621</td>\n",
       "      <td>28203.935073</td>\n",
       "      <td>0.043480</td>\n",
       "      <td>2.808441e+10</td>\n",
       "    </tr>\n",
       "    <tr>\n",
       "      <th>oname:hds_otype:lst_usecol:trgw-0-13-10_time:3712.5</th>\n",
       "      <td>35308.241394</td>\n",
       "      <td>28202.682338</td>\n",
       "      <td>0.043477</td>\n",
       "      <td>2.808269e+10</td>\n",
       "    </tr>\n",
       "    <tr>\n",
       "      <th>oname:hds_otype:lst_usecol:trgw-0-13-10_time:3743.5</th>\n",
       "      <td>35310.541352</td>\n",
       "      <td>28204.727050</td>\n",
       "      <td>0.043479</td>\n",
       "      <td>2.807984e+10</td>\n",
       "    </tr>\n",
       "  </tbody>\n",
       "</table>\n",
       "</div>"
      ],
      "text/plain": [
       "                                                     oname:sfr_otype:lst_usecol:tailwater_time:4383.5  \\\n",
       "base                                                                                     35312.087582   \n",
       "oname:hds_otype:lst_usecol:trgw-0-13-10_time:3652.5                                      35299.940107   \n",
       "oname:hds_otype:lst_usecol:trgw-0-13-10_time:3683.5                                      35306.282621   \n",
       "oname:hds_otype:lst_usecol:trgw-0-13-10_time:3712.5                                      35308.241394   \n",
       "oname:hds_otype:lst_usecol:trgw-0-13-10_time:3743.5                                      35310.541352   \n",
       "\n",
       "                                                     oname:sfr_otype:lst_usecol:headwater_time:4383.5  \\\n",
       "base                                                                                     28214.650069   \n",
       "oname:hds_otype:lst_usecol:trgw-0-13-10_time:3652.5                                      28203.814419   \n",
       "oname:hds_otype:lst_usecol:trgw-0-13-10_time:3683.5                                      28203.935073   \n",
       "oname:hds_otype:lst_usecol:trgw-0-13-10_time:3712.5                                      28202.682338   \n",
       "oname:hds_otype:lst_usecol:trgw-0-13-10_time:3743.5                                      28204.727050   \n",
       "\n",
       "                                                     oname:hds_otype:lst_usecol:trgw-0-9-1_time:4383.5  \\\n",
       "base                                                                                          0.043494   \n",
       "oname:hds_otype:lst_usecol:trgw-0-13-10_time:3652.5                                           0.043481   \n",
       "oname:hds_otype:lst_usecol:trgw-0-13-10_time:3683.5                                           0.043480   \n",
       "oname:hds_otype:lst_usecol:trgw-0-13-10_time:3712.5                                           0.043477   \n",
       "oname:hds_otype:lst_usecol:trgw-0-13-10_time:3743.5                                           0.043479   \n",
       "\n",
       "                                                        part_time  \n",
       "base                                                 2.809681e+10  \n",
       "oname:hds_otype:lst_usecol:trgw-0-13-10_time:3652.5  2.808638e+10  \n",
       "oname:hds_otype:lst_usecol:trgw-0-13-10_time:3683.5  2.808441e+10  \n",
       "oname:hds_otype:lst_usecol:trgw-0-13-10_time:3712.5  2.808269e+10  \n",
       "oname:hds_otype:lst_usecol:trgw-0-13-10_time:3743.5  2.807984e+10  "
      ]
     },
     "execution_count": 102,
     "metadata": {},
     "output_type": "execute_result"
    }
   ],
   "source": [
    "df_worth_new.head()"
   ]
  },
  {
   "cell_type": "code",
   "execution_count": null,
   "metadata": {},
   "outputs": [],
   "source": []
  },
  {
   "cell_type": "markdown",
   "metadata": {},
   "source": [
    "### an \"extra\" if we have time: parameter identifiability"
   ]
  },
  {
   "cell_type": "code",
   "execution_count": 152,
   "metadata": {},
   "outputs": [],
   "source": [
    "la = pyemu.ErrVar(jco=jco)"
   ]
  },
  {
   "cell_type": "code",
   "execution_count": 153,
   "metadata": {},
   "outputs": [
    {
     "data": {
      "text/plain": [
       "array([[327.38847516],\n",
       "       [175.29894786],\n",
       "       [133.48727953],\n",
       "       [ 90.85453325],\n",
       "       [ 58.58701751],\n",
       "       [ 49.37343145],\n",
       "       [ 45.26632341],\n",
       "       [ 35.9999825 ],\n",
       "       [ 32.74751414],\n",
       "       [ 28.43588565]])"
      ]
     },
     "execution_count": 153,
     "metadata": {},
     "output_type": "execute_result"
    }
   ],
   "source": [
    "s = la.qhalfx.s  # singular spectrum\n",
    "s.x[:10]"
   ]
  },
  {
   "cell_type": "code",
   "execution_count": 154,
   "metadata": {},
   "outputs": [
    {
     "data": {
      "image/png": "[encoded data removed]",
      "text/plain": [
       "<Figure size 432x288 with 1 Axes>"
      ]
     },
     "metadata": {
      "needs_background": "light"
     },
     "output_type": "display_data"
    }
   ],
   "source": [
    "figure = plt.figure()\n",
    "ax = plt.subplot(111)\n",
    "ax.plot(np.log10(s.x))\n",
    "ax.set_ylabel(\"log10 singular value\")\n",
    "ax.set_xlabel(\"index\")\n",
    "#ax.set_xlim(0,100)\n",
    "plt.show()"
   ]
  },
  {
   "cell_type": "code",
   "execution_count": 155,
   "metadata": {},
   "outputs": [
    {
     "data": {
      "text/plain": [
       "63"
      ]
     },
     "execution_count": 155,
     "metadata": {},
     "output_type": "execute_result"
    }
   ],
   "source": [
    "truncation_thresh = 5e-5\n",
    "n_signif_singvals = ((s.x / s[0].x) > truncation_thresh).sum()\n",
    "n_signif_singvals"
   ]
  },
  {
   "cell_type": "code",
   "execution_count": 156,
   "metadata": {},
   "outputs": [
    {
     "name": "stdout",
     "output_type": "stream",
     "text": [
      "This means that, on the basis of the 144 (non-zero) weighted observations, there are 63 unique pieces of information in the calibration dataset.  Recall the inverse problem we are trying to solve involves the estimation of 415 parameters using this information only...\n"
     ]
    }
   ],
   "source": [
    "print(\"This means that, on the basis of the {0} (non-zero) weighted observations, \\\n",
    "there are {1} unique pieces of information in the calibration dataset.  \\\n",
    "Recall the inverse problem we are trying to solve involves the estimation of {2} parameters using this information only...\".\\\n",
    "      format(la.pst.nnz_obs, n_signif_singvals, pst.npar_adj))"
   ]
  },
  {
   "cell_type": "code",
   "execution_count": 157,
   "metadata": {},
   "outputs": [],
   "source": [
    "ident_df = la.get_identifiability_dataframe(4)  # sing val trunc defaults to pst.nnz_obs"
   ]
  },
  {
   "cell_type": "code",
   "execution_count": 158,
   "metadata": {},
   "outputs": [
    {
     "data": {
      "text/plain": [
       "<AxesSubplot:>"
      ]
     },
     "execution_count": 158,
     "metadata": {},
     "output_type": "execute_result"
    },
    {
     "data": {
      "image/png": "[encoded data removed]",
      "text/plain": [
       "<Figure size 720x720 with 1 Axes>"
      ]
     },
     "metadata": {
      "needs_background": "light"
     },
     "output_type": "display_data"
    }
   ],
   "source": [
    "ident_df.sort_values(by=\"ident\",ascending=False).iloc[0:10].loc[:,\"ident\"].plot(kind=\"bar\",figsize=(10,10))"
   ]
  },
  {
   "cell_type": "code",
   "execution_count": 159,
   "metadata": {},
   "outputs": [
    {
     "data": {
      "image/png": "[encoded data removed]",
      "text/plain": [
       "<Figure size 864x288 with 2 Axes>"
      ]
     },
     "metadata": {
      "needs_background": "light"
     },
     "output_type": "display_data"
    }
   ],
   "source": [
    "id = pyemu.plot_utils.plot_id_bar(ident_df.sort_values(by=\"ident\",ascending=False).iloc[0:10], figsize=(12,4))"
   ]
  },
  {
   "cell_type": "code",
   "execution_count": 164,
   "metadata": {},
   "outputs": [
    {
     "name": "stdout",
     "output_type": "stream",
     "text": [
      "\u001b[1;31mSignature:\u001b[0m \u001b[0mla\u001b[0m\u001b[1;33m.\u001b[0m\u001b[0mget_par_css_dataframe\u001b[0m\u001b[1;33m(\u001b[0m\u001b[1;33m)\u001b[0m\u001b[1;33m\u001b[0m\u001b[1;33m\u001b[0m\u001b[0m\n",
      "\u001b[1;31mDocstring:\u001b[0m\n",
      "get a dataframe of composite scaled sensitivities.  Includes both\n",
      "PEST-style and Hill-style.\n",
      "\n",
      "Returns:\n",
      "    `pandas.DataFrame`: a dataframe of parameter names, PEST-style and\n",
      "    Hill-style composite scaled sensitivity\n",
      "\u001b[1;31mFile:\u001b[0m      c:\\users\\rui2h\\.conda\\envs\\gmdsitut\\lib\\site-packages\\pyemu\\la.py\n",
      "\u001b[1;31mType:\u001b[0m      method\n"
     ]
    }
   ],
   "source": [
    "?la.get_par_css_dataframe"
   ]
  },
  {
   "cell_type": "code",
   "execution_count": 160,
   "metadata": {},
   "outputs": [
    {
     "data": {
      "text/html": [
       "<div>\n",
       "<style scoped>\n",
       "    .dataframe tbody tr th:only-of-type {\n",
       "        vertical-align: middle;\n",
       "    }\n",
       "\n",
       "    .dataframe tbody tr th {\n",
       "        vertical-align: top;\n",
       "    }\n",
       "\n",
       "    .dataframe thead th {\n",
       "        text-align: right;\n",
       "    }\n",
       "</style>\n",
       "<table border=\"1\" class=\"dataframe\">\n",
       "  <thead>\n",
       "    <tr style=\"text-align: right;\">\n",
       "      <th></th>\n",
       "      <th>pest_css</th>\n",
       "      <th>hill_css</th>\n",
       "    </tr>\n",
       "  </thead>\n",
       "  <tbody>\n",
       "    <tr>\n",
       "      <th>pname:npfklayer1pp_inst:0_ptype:pp_pstyle:m_i:2_j:2_zone:1.0</th>\n",
       "      <td>0.024189</td>\n",
       "      <td>0.0</td>\n",
       "    </tr>\n",
       "    <tr>\n",
       "      <th>pname:npfklayer1pp_inst:0_ptype:pp_pstyle:m_i:2_j:7_zone:1.0</th>\n",
       "      <td>0.014456</td>\n",
       "      <td>0.0</td>\n",
       "    </tr>\n",
       "    <tr>\n",
       "      <th>pname:npfklayer1pp_inst:0_ptype:pp_pstyle:m_i:2_j:12_zone:1.0</th>\n",
       "      <td>0.006046</td>\n",
       "      <td>0.0</td>\n",
       "    </tr>\n",
       "    <tr>\n",
       "      <th>pname:npfklayer1pp_inst:0_ptype:pp_pstyle:m_i:2_j:17_zone:1.0</th>\n",
       "      <td>0.022869</td>\n",
       "      <td>0.0</td>\n",
       "    </tr>\n",
       "    <tr>\n",
       "      <th>pname:npfklayer1pp_inst:0_ptype:pp_pstyle:m_i:7_j:2_zone:1.0</th>\n",
       "      <td>0.014872</td>\n",
       "      <td>0.0</td>\n",
       "    </tr>\n",
       "  </tbody>\n",
       "</table>\n",
       "</div>"
      ],
      "text/plain": [
       "                                                               pest_css  \\\n",
       "pname:npfklayer1pp_inst:0_ptype:pp_pstyle:m_i:2_j:2_zone:1.0   0.024189   \n",
       "pname:npfklayer1pp_inst:0_ptype:pp_pstyle:m_i:2_j:7_zone:1.0   0.014456   \n",
       "pname:npfklayer1pp_inst:0_ptype:pp_pstyle:m_i:2_j:12_zone:1.0  0.006046   \n",
       "pname:npfklayer1pp_inst:0_ptype:pp_pstyle:m_i:2_j:17_zone:1.0  0.022869   \n",
       "pname:npfklayer1pp_inst:0_ptype:pp_pstyle:m_i:7_j:2_zone:1.0   0.014872   \n",
       "\n",
       "                                                               hill_css  \n",
       "pname:npfklayer1pp_inst:0_ptype:pp_pstyle:m_i:2_j:2_zone:1.0        0.0  \n",
       "pname:npfklayer1pp_inst:0_ptype:pp_pstyle:m_i:2_j:7_zone:1.0        0.0  \n",
       "pname:npfklayer1pp_inst:0_ptype:pp_pstyle:m_i:2_j:12_zone:1.0       0.0  \n",
       "pname:npfklayer1pp_inst:0_ptype:pp_pstyle:m_i:2_j:17_zone:1.0       0.0  \n",
       "pname:npfklayer1pp_inst:0_ptype:pp_pstyle:m_i:7_j:2_zone:1.0        0.0  "
      ]
     },
     "execution_count": 160,
     "metadata": {},
     "output_type": "execute_result"
    }
   ],
   "source": [
    "css = la.get_par_css_dataframe()\n",
    "css.head()"
   ]
  },
  {
   "cell_type": "code",
   "execution_count": 161,
   "metadata": {},
   "outputs": [
    {
     "data": {
      "text/plain": [
       "0"
      ]
     },
     "execution_count": 161,
     "metadata": {},
     "output_type": "execute_result"
    }
   ],
   "source": [
    "css = css.sort_values(by=\"pest_css\",ascending=False)\n",
    "css = css.loc[css.pest_css==0.0,:]\n",
    "len([p for p in css.index if \"sy\" in p])"
   ]
  },
  {
   "cell_type": "code",
   "execution_count": 163,
   "metadata": {},
   "outputs": [
    {
     "data": {
      "text/html": [
       "<div>\n",
       "<style scoped>\n",
       "    .dataframe tbody tr th:only-of-type {\n",
       "        vertical-align: middle;\n",
       "    }\n",
       "\n",
       "    .dataframe tbody tr th {\n",
       "        vertical-align: top;\n",
       "    }\n",
       "\n",
       "    .dataframe thead th {\n",
       "        text-align: right;\n",
       "    }\n",
       "</style>\n",
       "<table border=\"1\" class=\"dataframe\">\n",
       "  <thead>\n",
       "    <tr style=\"text-align: right;\">\n",
       "      <th></th>\n",
       "      <th>pest_css</th>\n",
       "      <th>hill_css</th>\n",
       "    </tr>\n",
       "  </thead>\n",
       "  <tbody>\n",
       "    <tr>\n",
       "      <th>pname:rch_recharge_19tcn_inst:0_ptype:cn_pstyle:m</th>\n",
       "      <td>0.0</td>\n",
       "      <td>0.0</td>\n",
       "    </tr>\n",
       "    <tr>\n",
       "      <th>pname:rch_recharge_23tcn_inst:0_ptype:cn_pstyle:m</th>\n",
       "      <td>0.0</td>\n",
       "      <td>0.0</td>\n",
       "    </tr>\n",
       "    <tr>\n",
       "      <th>pname:rch_recharge_24tcn_inst:0_ptype:cn_pstyle:m</th>\n",
       "      <td>0.0</td>\n",
       "      <td>0.0</td>\n",
       "    </tr>\n",
       "    <tr>\n",
       "      <th>pname:rch_recharge_20tcn_inst:0_ptype:cn_pstyle:m</th>\n",
       "      <td>0.0</td>\n",
       "      <td>0.0</td>\n",
       "    </tr>\n",
       "    <tr>\n",
       "      <th>pname:rch_recharge_22tcn_inst:0_ptype:cn_pstyle:m</th>\n",
       "      <td>0.0</td>\n",
       "      <td>0.0</td>\n",
       "    </tr>\n",
       "    <tr>\n",
       "      <th>...</th>\n",
       "      <td>...</td>\n",
       "      <td>...</td>\n",
       "    </tr>\n",
       "    <tr>\n",
       "      <th>pname:nelayer3pp_inst:0_ptype:pp_pstyle:m_i:6_j:2_zone:1.0</th>\n",
       "      <td>0.0</td>\n",
       "      <td>0.0</td>\n",
       "    </tr>\n",
       "    <tr>\n",
       "      <th>pname:nelayer3pp_inst:0_ptype:pp_pstyle:m_i:6_j:6_zone:1.0</th>\n",
       "      <td>0.0</td>\n",
       "      <td>0.0</td>\n",
       "    </tr>\n",
       "    <tr>\n",
       "      <th>pname:nelayer3pp_inst:0_ptype:pp_pstyle:m_i:6_j:10_zone:1.0</th>\n",
       "      <td>0.0</td>\n",
       "      <td>0.0</td>\n",
       "    </tr>\n",
       "    <tr>\n",
       "      <th>pname:nelayer3pp_inst:0_ptype:pp_pstyle:m_i:6_j:14_zone:1.0</th>\n",
       "      <td>0.0</td>\n",
       "      <td>0.0</td>\n",
       "    </tr>\n",
       "    <tr>\n",
       "      <th>pname:sfrgr_inst:24_ptype:gr_usecol:2_pstyle:m_idx0:0</th>\n",
       "      <td>0.0</td>\n",
       "      <td>0.0</td>\n",
       "    </tr>\n",
       "  </tbody>\n",
       "</table>\n",
       "<p>135 rows × 2 columns</p>\n",
       "</div>"
      ],
      "text/plain": [
       "                                                             pest_css  \\\n",
       "pname:rch_recharge_19tcn_inst:0_ptype:cn_pstyle:m                 0.0   \n",
       "pname:rch_recharge_23tcn_inst:0_ptype:cn_pstyle:m                 0.0   \n",
       "pname:rch_recharge_24tcn_inst:0_ptype:cn_pstyle:m                 0.0   \n",
       "pname:rch_recharge_20tcn_inst:0_ptype:cn_pstyle:m                 0.0   \n",
       "pname:rch_recharge_22tcn_inst:0_ptype:cn_pstyle:m                 0.0   \n",
       "...                                                               ...   \n",
       "pname:nelayer3pp_inst:0_ptype:pp_pstyle:m_i:6_j:2_zone:1.0        0.0   \n",
       "pname:nelayer3pp_inst:0_ptype:pp_pstyle:m_i:6_j:6_zone:1.0        0.0   \n",
       "pname:nelayer3pp_inst:0_ptype:pp_pstyle:m_i:6_j:10_zone:1.0       0.0   \n",
       "pname:nelayer3pp_inst:0_ptype:pp_pstyle:m_i:6_j:14_zone:1.0       0.0   \n",
       "pname:sfrgr_inst:24_ptype:gr_usecol:2_pstyle:m_idx0:0             0.0   \n",
       "\n",
       "                                                             hill_css  \n",
       "pname:rch_recharge_19tcn_inst:0_ptype:cn_pstyle:m                 0.0  \n",
       "pname:rch_recharge_23tcn_inst:0_ptype:cn_pstyle:m                 0.0  \n",
       "pname:rch_recharge_24tcn_inst:0_ptype:cn_pstyle:m                 0.0  \n",
       "pname:rch_recharge_20tcn_inst:0_ptype:cn_pstyle:m                 0.0  \n",
       "pname:rch_recharge_22tcn_inst:0_ptype:cn_pstyle:m                 0.0  \n",
       "...                                                               ...  \n",
       "pname:nelayer3pp_inst:0_ptype:pp_pstyle:m_i:6_j:2_zone:1.0        0.0  \n",
       "pname:nelayer3pp_inst:0_ptype:pp_pstyle:m_i:6_j:6_zone:1.0        0.0  \n",
       "pname:nelayer3pp_inst:0_ptype:pp_pstyle:m_i:6_j:10_zone:1.0       0.0  \n",
       "pname:nelayer3pp_inst:0_ptype:pp_pstyle:m_i:6_j:14_zone:1.0       0.0  \n",
       "pname:sfrgr_inst:24_ptype:gr_usecol:2_pstyle:m_idx0:0             0.0  \n",
       "\n",
       "[135 rows x 2 columns]"
      ]
     },
     "execution_count": 163,
     "metadata": {},
     "output_type": "execute_result"
    }
   ],
   "source": [
    "css"
   ]
  },
  {
   "cell_type": "code",
   "execution_count": 162,
   "metadata": {},
   "outputs": [
    {
     "data": {
      "text/plain": [
       "(33, 23)"
      ]
     },
     "execution_count": 162,
     "metadata": {},
     "output_type": "execute_result"
    }
   ],
   "source": [
    "par = pst.parameter_data.loc[pst.adj_par_names]\n",
    "par.loc[par.parnme.apply(lambda x: \"sy\" in x),:].shape"
   ]
  },
  {
   "cell_type": "code",
   "execution_count": null,
   "metadata": {},
   "outputs": [],
   "source": []
  }
 ],
 "metadata": {
  "interpreter": {
   "hash": "d91d695e32284e5f4db43d0a55a7ffe722d99eb6050b5b06eff0d966e4449445"
  },
  "kernelspec": {
   "display_name": "Python 3.9.12 ('gmdsitut')",
   "language": "python",
   "name": "python3"
  },
  "language_info": {
   "codemirror_mode": {
    "name": "ipython",
    "version": 3
   },
   "file_extension": ".py",
   "mimetype": "text/x-python",
   "name": "python",
   "nbconvert_exporter": "python",
   "pygments_lexer": "ipython3",
   "version": "3.9.12"
  },
  "orig_nbformat": 4
 },
 "nbformat": 4,
 "nbformat_minor": 2
}
