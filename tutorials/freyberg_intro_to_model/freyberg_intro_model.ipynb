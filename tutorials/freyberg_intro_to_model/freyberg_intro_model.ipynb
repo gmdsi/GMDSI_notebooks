{
 "cells": [
  {
   "cell_type": "markdown",
   "metadata": {},
   "source": [
    "# Intro to the model\n",
    "\n",
    "### 1. Freyberg (1988) - \"An Exercise in Ground-Water Model Calibration and Prediction\" \n",
    "\n",
    "\n",
    "> \"*The goal of parameter identification is rarely the parameter estimates. Rather, the ultimate goal is nearly always a prediction .*\"\n",
    ">-David Freyberg (1988)\n",
    "\n",
    "\n",
    "The following series of tutorials make use of a synthetic model. This model is a variant of the model originally created by David Freyberg at Stanford University in the late 1980s. David Freyberg designed a simple model to give to a graduate class and asked them each to \"calibrate\" the model. Students were provided with an extensive amount of data:\n",
    "\n",
    "1. the water level (perfectly represented) in a number of wells\n",
    "2. the bedrock elevation at those same well locations\n",
    "3. all the lateral aquifer geometry\n",
    "4. boundary conditions including lateral flows \n",
    "5. well pumping rates \n",
    "\n",
    "The forecast of interest was the head if the river channel was lined (e.g. conductance reduced greatly).\n",
    "\n",
    "There are interesting insights in the paper, but perhaps the most interesting is illustrated by the figure below. **Just because a model is good at fitting measurement data, does not mean it is good at making a prediction!**\n",
    "\n",
    "<img src=\"cal_pred.png\" style=\"float: center; width: 75%;  margin-bottom: 0.5em;\">\n",
    "\n",
    "\n",
    "You can read the original paper here:\n",
    "\n",
    "> *Freyberg, David L. 1988. “AN EXERCISE IN GROUND-WATER MODEL CALIBRATION AND PREDICTION.” Ground Water 26 (3): 350–60. doi:10.1111/j.1745-6584.1988.tb00399.x.*\n",
    "\n",
    "And more recently, the same exercise was revisited in a contemporary context:\n",
    "\n",
    "> *Hunt, Randall J., Michael N. Fienen, and Jeremy T. White. 2019. “Revisiting ‘An Exercise in Groundwater Model Calibration and Prediction’ After 30 Years: Insights and New Directions.” Groundwater, July, gwat.12907. doi:10.1111/gwat.12907.* \n",
    "   "
   ]
  },
  {
   "cell_type": "markdown",
   "metadata": {},
   "source": [
    "### 2. Modified-Freyberg Model\n",
    "\n",
    "For the current set of tutorials we will be using a variant of the Freyberg model. This is the same model described in the PEST++ documentation:\n",
    "> White, J.T., Hunt, R.J., Fienen, M.N., and Doherty, J.E., 2020, Approaches to Highly Parameterized > Inversion: PEST++ Version 5, a Software Suite for Parameter Estimation, Uncertainty Analysis, Management > Optimization and Sensitivity Analysis: U.S. Geological Survey Techniques and Methods 7C26, 52 p., https://> doi.org/10.3133/tm7C26.\n",
    "\n",
    "The moel setup use in the current tutorials is the same as documented in White et al. (2020). However, some of the parameterisation and selected observation data are different. We also include additional particle tracking simulated using MODPATH7. \n",
    "\n",
    "Using a synthetic model allows us to know the \"truth\". It also allows us to design it to be fast-running. Both usefull characteristics for a tutorial model. \n",
    "\n",
    "Let's get acquainted with it.\n",
    "\n"
   ]
  },
  {
   "cell_type": "markdown",
   "metadata": {},
   "source": [
    "#### 2.2 *Admin*\n",
    "First some admin. Load the dependencies and organize model folders. Let's copy the original model folder into a new working directory, just to ensure we don't mess up the base files. Simply run the next cells by pressing `shift+enter`."
   ]
  },
  {
   "cell_type": "code",
   "execution_count": 1,
   "metadata": {},
   "outputs": [],
   "source": [
    "import os\n",
    "import shutil\n",
    "import platform\n",
    "import pandas as pd\n",
    "import matplotlib.pyplot as plt\n",
    "\n",
    "import sys\n",
    "sys.path.append(os.path.join(\"..\", \"..\", \"dependencies\"))\n",
    "import flopy\n"
   ]
  },
  {
   "cell_type": "code",
   "execution_count": 2,
   "metadata": {},
   "outputs": [],
   "source": [
    "# folder containing original model files\n",
    "org_ws = os.path.join('..', '..', 'models', 'freyberg_mf6')\n",
    "\n",
    "# set a new workspace folder to avoid breaking things by mistake\n",
    "sim_ws = os.path.join('freyberg_mf6')\n",
    "\n",
    "# remove existing folder\n",
    "if os.path.exists(sim_ws):\n",
    "    shutil.rmtree(sim_ws)\n",
    "\n",
    "# copy the original model folder across\n",
    "shutil.copytree(org_ws, sim_ws)\n",
    "\n",
    "# get the necessary executables; OS agnostic\n",
    "bin_dir = os.path.join('..','..','bin')\n",
    "exe_files=['mf6', 'mp7']\n",
    "\n",
    "for exe_file in exe_files:\n",
    "    if \"window\" in platform.platform().lower():\n",
    "        exe_file = exe_file+'.exe'\n",
    "    shutil.copy2(os.path.join(bin_dir, exe_file), os.path.join(sim_ws,exe_file))\n"
   ]
  },
  {
   "cell_type": "markdown",
   "metadata": {},
   "source": [
    "Load and run the simulation. \n",
    "\n",
    "It should take less than a second. (If only all models were so fast!) As you can see, the model is fast and numerically stable. When undertaking highly-parameterized inversion, a model will be simulated many, many times; and run-times add up quickly! A modeller needs to take this factor into account during model design."
   ]
  },
  {
   "cell_type": "code",
   "execution_count": 3,
   "metadata": {},
   "outputs": [
    {
     "data": {
      "text/plain": [
       "(True, [])"
      ]
     },
     "execution_count": 3,
     "metadata": {},
     "output_type": "execute_result"
    }
   ],
   "source": [
    "# load simulation\n",
    "sim = flopy.mf6.MFSimulation.load(sim_ws=sim_ws, verbosity_level=0)\n",
    "\n",
    "# load flow model\n",
    "gwf = sim.get_model()\n",
    "\n",
    "# run the model\n",
    "sim.run_simulation()"
   ]
  },
  {
   "cell_type": "markdown",
   "metadata": {},
   "source": [
    "#### 2.3. Model Domain, BCs and Properties\n",
    "\n",
    "The figure belows shows the model domain and boundary conditions. The model has 3 layers, 40 rows and 20 columns. Cell dimensions are 250m x 250m. There are inactive outcrop areas within the model domain (shown in black in the figure)."
   ]
  },
  {
   "cell_type": "code",
   "execution_count": 4,
   "metadata": {},
   "outputs": [
    {
     "name": "stdout",
     "output_type": "stream",
     "text": [
      "layers:3 nrows:40 columns:20\n"
     ]
    }
   ],
   "source": [
    "dis = gwf.dis\n",
    "print(f'layers:{dis.nlay.get_data()} nrows:{dis.nrow.get_data()} columns:{dis.ncol.get_data()}')"
   ]
  },
  {
   "cell_type": "markdown",
   "metadata": {},
   "source": [
    "There is a GHB along the southern boundary in all layers. All other external boundaries are no-flow. \n",
    "\n",
    "The surface-water system consists of a straight stream flowing north to south, which is simulated using the Streamflow Routing (SFR) package. SFR reaches raverse the model domain from row 1 to row 40 in column 16. Surface-water flow observations are monitored in reach 40 (the terminal reach). \n",
    "\n",
    "Six groundwater extraction wells are placed in the bottom layer 3. There are several monitoring wells screened in layer 1 and layer 3. \n",
    "\n",
    "Water enters the model domain as recharge and stream leakage in layer 1. It leaves through groundwater discharge to the surface-water, groundwater extraction and through the downgradient GHB. "
   ]
  },
  {
   "cell_type": "code",
   "execution_count": 5,
   "metadata": {},
   "outputs": [
    {
     "data": {
      "image/png": "[encoded data removed]",
      "text/plain": [
       "<Figure size 504x504 with 1 Axes>"
      ]
     },
     "metadata": {
      "needs_background": "light"
     },
     "output_type": "display_data"
    }
   ],
   "source": [
    "# plot\n",
    "fig = plt.figure(figsize=(7, 7))\n",
    "\n",
    "ax = fig.add_subplot(1, 1, 1, aspect='equal')\n",
    "mm = flopy.plot.PlotMapView(model=gwf, ax=ax, layer=0)\n",
    "\n",
    "mm.plot_grid()\n",
    "mm.plot_inactive()\n",
    "# Plot grid \n",
    "# you can plot BC cells using the plot_bc() \n",
    "mm.plot_bc('ghb')\n",
    "mm.plot_bc('sfr')\n",
    "\n",
    "# Plot wells in layer 3\n",
    "mm = flopy.plot.PlotMapView(model=gwf, ax=ax, layer=2)\n",
    "mm.plot_bc('wel');"
   ]
  },
  {
   "cell_type": "markdown",
   "metadata": {},
   "source": [
    "Take a quick look at everyone's favourite parameter, hydraulic conductivity (K). Values in the plot below show K in layer 1. If you check each layer (by changing the mflay value), you will see different initial values in each. \n",
    "\n",
    "Layer 3 is the most permeable. Layer 2 has low permeabilities. Layer 1 is somewhere in between. "
   ]
  },
  {
   "cell_type": "code",
   "execution_count": 6,
   "metadata": {},
   "outputs": [
    {
     "data": {
      "image/png": "[encoded data removed]",
      "text/plain": [
       "<Figure size 432x288 with 2 Axes>"
      ]
     },
     "metadata": {
      "needs_background": "light"
     },
     "output_type": "display_data"
    }
   ],
   "source": [
    "gwf.npf.k.plot(colorbar=True, mflay=0);"
   ]
  },
  {
   "cell_type": "markdown",
   "metadata": {},
   "source": [
    "Surface topography and the bottom elevation are not uniform (see plots below). The middle layer has a constant thickness of 2.5m, with a top and bottom elevation of 32.5m and 30m, respectively."
   ]
  },
  {
   "cell_type": "code",
   "execution_count": 7,
   "metadata": {},
   "outputs": [
    {
     "data": {
      "image/png": "[encoded data removed]",
      "text/plain": [
       "<Figure size 432x288 with 2 Axes>"
      ]
     },
     "metadata": {
      "needs_background": "light"
     },
     "output_type": "display_data"
    },
    {
     "data": {
      "image/png": "[encoded data removed]",
      "text/plain": [
       "<Figure size 432x288 with 2 Axes>"
      ]
     },
     "metadata": {
      "needs_background": "light"
     },
     "output_type": "display_data"
    }
   ],
   "source": [
    "# plot model top\n",
    "gwf.dis.top.plot(colorbar=True, masked_values=[-1049.99])\n",
    "\n",
    "# plot bottom of bottom layer\n",
    "gwf.dis.botm.plot(colorbar=True, mflay=2);"
   ]
  },
  {
   "cell_type": "markdown",
   "metadata": {},
   "source": [
    "#### 2.4 Model Timing\n",
    "\n",
    "The model simulates 25 stress-periods: 1 steady-state, followed by 24 transient stress periods. \n",
    "\n",
    "Conceptualy, the first 12 transient stress periods represent the \"historical\" conditions. Simulated outputs from this period (using the \"true\" parameter field) are used as \"observations\" for history matching. These represent field measurments in from our fictional site.\n",
    "\n",
    "The last 12 transient stress periods conceptualy represent the unmeasured, future condition. The period for whcih predictions are required. Selected model outputs simulated during this period form a set of \"forecasts\" or \"predicitons\" of management interest. "
   ]
  },
  {
   "cell_type": "markdown",
   "metadata": {},
   "source": [
    "### 3. Observation Data\n",
    "\n",
    "The following field data are available as \"observations\" for the purposes of history matching:\n",
    " - surface-water flow at the terminal reach (stress period 2 to 13);\n",
    " - groundwater levels at two sites (stress period 2 to 13); \n",
    "\n",
    "Model simulated counterparts to these observations are recorded in external CSV files. Let's take a look:"
   ]
  },
  {
   "cell_type": "code",
   "execution_count": 8,
   "metadata": {},
   "outputs": [
    {
     "name": "stdout",
     "output_type": "stream",
     "text": [
      "['sfr.csv']\n",
      "['heads.csv']\n"
     ]
    }
   ],
   "source": [
    "# check the output csv file names\n",
    "for i in gwf.obs:\n",
    "    print(i.output.obs_names)"
   ]
  },
  {
   "cell_type": "code",
   "execution_count": 9,
   "metadata": {},
   "outputs": [],
   "source": [
    "def obs2df(i):\n",
    "    \"\"\"Loads an output csv. Returns data in DataFrame.\"\"\"\n",
    "    obs_csv = i.output.obs_names[0]\n",
    "    obs = i.output.obs(f=obs_csv)\n",
    "    df = pd.DataFrame(obs.data)\n",
    "    return df"
   ]
  },
  {
   "cell_type": "markdown",
   "metadata": {},
   "source": [
    "We can read the `sfr.csv` output file, and inspect the values:"
   ]
  },
  {
   "cell_type": "code",
   "execution_count": 10,
   "metadata": {},
   "outputs": [
    {
     "data": {
      "text/html": [
       "<div>\n",
       "<style scoped>\n",
       "    .dataframe tbody tr th:only-of-type {\n",
       "        vertical-align: middle;\n",
       "    }\n",
       "\n",
       "    .dataframe tbody tr th {\n",
       "        vertical-align: top;\n",
       "    }\n",
       "\n",
       "    .dataframe thead th {\n",
       "        text-align: right;\n",
       "    }\n",
       "</style>\n",
       "<table border=\"1\" class=\"dataframe\">\n",
       "  <thead>\n",
       "    <tr style=\"text-align: right;\">\n",
       "      <th></th>\n",
       "      <th>totim</th>\n",
       "      <th>HEADWATER</th>\n",
       "      <th>TAILWATER</th>\n",
       "      <th>GAGE1</th>\n",
       "    </tr>\n",
       "  </thead>\n",
       "  <tbody>\n",
       "    <tr>\n",
       "      <th>0</th>\n",
       "      <td>3652.5</td>\n",
       "      <td>-751.85</td>\n",
       "      <td>-531.46</td>\n",
       "      <td>1365.0</td>\n",
       "    </tr>\n",
       "    <tr>\n",
       "      <th>1</th>\n",
       "      <td>3683.5</td>\n",
       "      <td>-952.74</td>\n",
       "      <td>-674.01</td>\n",
       "      <td>1759.3</td>\n",
       "    </tr>\n",
       "    <tr>\n",
       "      <th>2</th>\n",
       "      <td>3712.5</td>\n",
       "      <td>-1109.70</td>\n",
       "      <td>-798.24</td>\n",
       "      <td>2046.9</td>\n",
       "    </tr>\n",
       "    <tr>\n",
       "      <th>3</th>\n",
       "      <td>3743.5</td>\n",
       "      <td>-1181.90</td>\n",
       "      <td>-854.51</td>\n",
       "      <td>2165.1</td>\n",
       "    </tr>\n",
       "    <tr>\n",
       "      <th>4</th>\n",
       "      <td>3773.5</td>\n",
       "      <td>-1138.00</td>\n",
       "      <td>-821.46</td>\n",
       "      <td>2064.4</td>\n",
       "    </tr>\n",
       "  </tbody>\n",
       "</table>\n",
       "</div>"
      ],
      "text/plain": [
       "    totim  HEADWATER  TAILWATER   GAGE1\n",
       "0  3652.5    -751.85    -531.46  1365.0\n",
       "1  3683.5    -952.74    -674.01  1759.3\n",
       "2  3712.5   -1109.70    -798.24  2046.9\n",
       "3  3743.5   -1181.90    -854.51  2165.1\n",
       "4  3773.5   -1138.00    -821.46  2064.4"
      ]
     },
     "execution_count": 10,
     "metadata": {},
     "output_type": "execute_result"
    }
   ],
   "source": [
    "sfr_obs = obs2df(gwf.obs[0])\n",
    "sfr_obs.head()"
   ]
  },
  {
   "cell_type": "markdown",
   "metadata": {},
   "source": [
    "Simulated values for surface-water flow at the terminal reach are recorded in the \"GAGE_1\" column:"
   ]
  },
  {
   "cell_type": "code",
   "execution_count": 11,
   "metadata": {},
   "outputs": [
    {
     "data": {
      "text/plain": [
       "<AxesSubplot:xlabel='totim'>"
      ]
     },
     "execution_count": 11,
     "metadata": {},
     "output_type": "execute_result"
    },
    {
     "data": {
      "image/png": "[encoded data removed]",
      "text/plain": [
       "<Figure size 432x288 with 1 Axes>"
      ]
     },
     "metadata": {
      "needs_background": "light"
     },
     "output_type": "display_data"
    }
   ],
   "source": [
    "sfr_obs.plot(x='totim', y='GAGE1')"
   ]
  },
  {
   "cell_type": "markdown",
   "metadata": {},
   "source": [
    "Simulated groundwater l are recorded in the \"heads.csv\" file. Several monitoring sites are simulated, however there is measured data for a only a few of these. \n",
    "\n",
    "The sites for which \"measured data\" are available are named:\n",
    " - trgw_0_26_6\n",
    " - trgw_2_26_6\n",
    " - trgw_0_3_8\n",
    " - trgw_2_3_8\n",
    "\n",
    "The site naming convention is: \"TRGW_layer_row_column\". Thus, the four sites listed above pertain to two observation locations, with measurments from both the top and botoom layers. "
   ]
  },
  {
   "cell_type": "code",
   "execution_count": 12,
   "metadata": {},
   "outputs": [
    {
     "data": {
      "text/html": [
       "<div>\n",
       "<style scoped>\n",
       "    .dataframe tbody tr th:only-of-type {\n",
       "        vertical-align: middle;\n",
       "    }\n",
       "\n",
       "    .dataframe tbody tr th {\n",
       "        vertical-align: top;\n",
       "    }\n",
       "\n",
       "    .dataframe thead th {\n",
       "        text-align: right;\n",
       "    }\n",
       "</style>\n",
       "<table border=\"1\" class=\"dataframe\">\n",
       "  <thead>\n",
       "    <tr style=\"text-align: right;\">\n",
       "      <th></th>\n",
       "      <th>totim</th>\n",
       "      <th>TRGW2215</th>\n",
       "      <th>TRGW229</th>\n",
       "      <th>TRGW238</th>\n",
       "      <th>TRGW291</th>\n",
       "      <th>TRGW21310</th>\n",
       "      <th>TRGW21516</th>\n",
       "      <th>TRGW22110</th>\n",
       "      <th>TRGW22215</th>\n",
       "      <th>TRGW2244</th>\n",
       "      <th>...</th>\n",
       "      <th>TRGW091</th>\n",
       "      <th>TRGW01310</th>\n",
       "      <th>TRGW01516</th>\n",
       "      <th>TRGW02110</th>\n",
       "      <th>TRGW02215</th>\n",
       "      <th>TRGW0244</th>\n",
       "      <th>TRGW0266</th>\n",
       "      <th>TRGW02915</th>\n",
       "      <th>TRGW0337</th>\n",
       "      <th>TRGW03410</th>\n",
       "    </tr>\n",
       "  </thead>\n",
       "  <tbody>\n",
       "    <tr>\n",
       "      <th>0</th>\n",
       "      <td>3652.5</td>\n",
       "      <td>34.399290</td>\n",
       "      <td>34.691525</td>\n",
       "      <td>34.728569</td>\n",
       "      <td>35.061060</td>\n",
       "      <td>34.320957</td>\n",
       "      <td>34.180851</td>\n",
       "      <td>34.200938</td>\n",
       "      <td>34.066219</td>\n",
       "      <td>34.405733</td>\n",
       "      <td>...</td>\n",
       "      <td>35.068338</td>\n",
       "      <td>34.326896</td>\n",
       "      <td>34.186174</td>\n",
       "      <td>34.206846</td>\n",
       "      <td>34.025747</td>\n",
       "      <td>34.412096</td>\n",
       "      <td>34.251506</td>\n",
       "      <td>33.937832</td>\n",
       "      <td>34.030710</td>\n",
       "      <td>33.923445</td>\n",
       "    </tr>\n",
       "    <tr>\n",
       "      <th>1</th>\n",
       "      <td>3683.5</td>\n",
       "      <td>34.473764</td>\n",
       "      <td>34.772123</td>\n",
       "      <td>34.809126</td>\n",
       "      <td>35.126827</td>\n",
       "      <td>34.434959</td>\n",
       "      <td>34.283819</td>\n",
       "      <td>34.319984</td>\n",
       "      <td>34.171011</td>\n",
       "      <td>34.515566</td>\n",
       "      <td>...</td>\n",
       "      <td>35.133817</td>\n",
       "      <td>34.440124</td>\n",
       "      <td>34.288730</td>\n",
       "      <td>34.324980</td>\n",
       "      <td>34.115906</td>\n",
       "      <td>34.520964</td>\n",
       "      <td>34.379532</td>\n",
       "      <td>34.016423</td>\n",
       "      <td>34.141237</td>\n",
       "      <td>34.034923</td>\n",
       "    </tr>\n",
       "    <tr>\n",
       "      <th>2</th>\n",
       "      <td>3712.5</td>\n",
       "      <td>34.539742</td>\n",
       "      <td>34.855185</td>\n",
       "      <td>34.893566</td>\n",
       "      <td>35.211003</td>\n",
       "      <td>34.527661</td>\n",
       "      <td>34.363167</td>\n",
       "      <td>34.417107</td>\n",
       "      <td>34.247456</td>\n",
       "      <td>34.620546</td>\n",
       "      <td>...</td>\n",
       "      <td>35.217810</td>\n",
       "      <td>34.533812</td>\n",
       "      <td>34.369042</td>\n",
       "      <td>34.423098</td>\n",
       "      <td>34.182401</td>\n",
       "      <td>34.626410</td>\n",
       "      <td>34.485296</td>\n",
       "      <td>34.078743</td>\n",
       "      <td>34.229400</td>\n",
       "      <td>34.111873</td>\n",
       "    </tr>\n",
       "    <tr>\n",
       "      <th>3</th>\n",
       "      <td>3743.5</td>\n",
       "      <td>34.577505</td>\n",
       "      <td>34.912040</td>\n",
       "      <td>34.952401</td>\n",
       "      <td>35.282335</td>\n",
       "      <td>34.573685</td>\n",
       "      <td>34.398859</td>\n",
       "      <td>34.465330</td>\n",
       "      <td>34.280521</td>\n",
       "      <td>34.686225</td>\n",
       "      <td>...</td>\n",
       "      <td>35.289225</td>\n",
       "      <td>34.580980</td>\n",
       "      <td>34.405657</td>\n",
       "      <td>34.472538</td>\n",
       "      <td>34.211387</td>\n",
       "      <td>34.693043</td>\n",
       "      <td>34.541211</td>\n",
       "      <td>34.107372</td>\n",
       "      <td>34.271897</td>\n",
       "      <td>34.142187</td>\n",
       "    </tr>\n",
       "    <tr>\n",
       "      <th>4</th>\n",
       "      <td>3773.5</td>\n",
       "      <td>34.568882</td>\n",
       "      <td>34.913084</td>\n",
       "      <td>34.954807</td>\n",
       "      <td>35.301600</td>\n",
       "      <td>34.552253</td>\n",
       "      <td>34.376324</td>\n",
       "      <td>34.442806</td>\n",
       "      <td>34.256405</td>\n",
       "      <td>34.679251</td>\n",
       "      <td>...</td>\n",
       "      <td>35.308694</td>\n",
       "      <td>34.560270</td>\n",
       "      <td>34.383636</td>\n",
       "      <td>34.450839</td>\n",
       "      <td>34.190749</td>\n",
       "      <td>34.686945</td>\n",
       "      <td>34.520264</td>\n",
       "      <td>34.090823</td>\n",
       "      <td>34.249617</td>\n",
       "      <td>34.113480</td>\n",
       "    </tr>\n",
       "  </tbody>\n",
       "</table>\n",
       "<p>5 rows × 27 columns</p>\n",
       "</div>"
      ],
      "text/plain": [
       "    totim   TRGW2215    TRGW229    TRGW238    TRGW291  TRGW21310  TRGW21516  \\\n",
       "0  3652.5  34.399290  34.691525  34.728569  35.061060  34.320957  34.180851   \n",
       "1  3683.5  34.473764  34.772123  34.809126  35.126827  34.434959  34.283819   \n",
       "2  3712.5  34.539742  34.855185  34.893566  35.211003  34.527661  34.363167   \n",
       "3  3743.5  34.577505  34.912040  34.952401  35.282335  34.573685  34.398859   \n",
       "4  3773.5  34.568882  34.913084  34.954807  35.301600  34.552253  34.376324   \n",
       "\n",
       "   TRGW22110  TRGW22215   TRGW2244  ...    TRGW091  TRGW01310  TRGW01516  \\\n",
       "0  34.200938  34.066219  34.405733  ...  35.068338  34.326896  34.186174   \n",
       "1  34.319984  34.171011  34.515566  ...  35.133817  34.440124  34.288730   \n",
       "2  34.417107  34.247456  34.620546  ...  35.217810  34.533812  34.369042   \n",
       "3  34.465330  34.280521  34.686225  ...  35.289225  34.580980  34.405657   \n",
       "4  34.442806  34.256405  34.679251  ...  35.308694  34.560270  34.383636   \n",
       "\n",
       "   TRGW02110  TRGW02215   TRGW0244   TRGW0266  TRGW02915   TRGW0337  TRGW03410  \n",
       "0  34.206846  34.025747  34.412096  34.251506  33.937832  34.030710  33.923445  \n",
       "1  34.324980  34.115906  34.520964  34.379532  34.016423  34.141237  34.034923  \n",
       "2  34.423098  34.182401  34.626410  34.485296  34.078743  34.229400  34.111873  \n",
       "3  34.472538  34.211387  34.693043  34.541211  34.107372  34.271897  34.142187  \n",
       "4  34.450839  34.190749  34.686945  34.520264  34.090823  34.249617  34.113480  \n",
       "\n",
       "[5 rows x 27 columns]"
      ]
     },
     "execution_count": 12,
     "metadata": {},
     "output_type": "execute_result"
    }
   ],
   "source": [
    "hds_obs = obs2df(gwf.obs[1])\n",
    "hds_obs.head()"
   ]
  },
  {
   "cell_type": "markdown",
   "metadata": {},
   "source": [
    "Let's make a quick plot of time series of simulated groundwater levels from both layers at a single location:"
   ]
  },
  {
   "cell_type": "code",
   "execution_count": 13,
   "metadata": {},
   "outputs": [
    {
     "data": {
      "text/plain": [
       "<AxesSubplot:xlabel='totim'>"
      ]
     },
     "execution_count": 13,
     "metadata": {},
     "output_type": "execute_result"
    },
    {
     "data": {
      "image/png": "[encoded data removed]",
      "text/plain": [
       "<Figure size 432x288 with 1 Axes>"
      ]
     },
     "metadata": {
      "needs_background": "light"
     },
     "output_type": "display_data"
    }
   ],
   "source": [
    "hds_obs.plot(x='totim', y=['TRGW0266','TRGW2266'])"
   ]
  },
  {
   "cell_type": "markdown",
   "metadata": {},
   "source": [
    "Whilst we are at it, lets just make a plot of the spatial distribution of heads in the upper layer. (Heas in the other layers are very similar.)"
   ]
  },
  {
   "cell_type": "code",
   "execution_count": 14,
   "metadata": {},
   "outputs": [
    {
     "data": {
      "image/png": "[encoded data removed]",
      "text/plain": [
       "<Figure size 432x288 with 2 Axes>"
      ]
     },
     "metadata": {
      "needs_background": "light"
     },
     "output_type": "display_data"
    }
   ],
   "source": [
    "hdobj = gwf.output.head()\n",
    "times = hdobj.get_times()\n",
    "hdobj.plot(mflay=0, colorbar=True, totim=times[-1], masked_values=[1e30]);"
   ]
  },
  {
   "cell_type": "markdown",
   "metadata": {},
   "source": [
    "### 4. Forecasts\n",
    "\n",
    "Three model simulated outputs are included as forecast \"observations\". These represent predictions of managemnt interest for our imaginary case. Simulated forecasts are:\n",
    " - aggregated surface-water/grounwdater exchange for reaches 1-20 (recorded under \"headwater\" in the sfr.csv file) during stress period 22;\n",
    " - aggregated surface-water/grounwdater exchange for reaches 21-40 (recorded under \"tailwater\" in the sfr.csv file) during stress period 13;\n",
    " - groundwater level at TRGW_0_9_1 at the end of stress period 22;\n",
    " - travel time for a particle released in the north-west of the domain to exit the model domain.\n",
    "\n",
    "These forecasts were selected to represent model outputs that are informed in varying degrees by the history matching data. \n"
   ]
  },
  {
   "cell_type": "markdown",
   "metadata": {},
   "source": []
  }
 ],
 "metadata": {
  "interpreter": {
   "hash": "8bc86fe660f4b38c05852a4eebde28eb9d4a01416074c93a189d9598a56f468d"
  },
  "kernelspec": {
   "display_name": "Python 3.9.12 ('test')",
   "language": "python",
   "name": "python3"
  },
  "language_info": {
   "codemirror_mode": {
    "name": "ipython",
    "version": 3
   },
   "file_extension": ".py",
   "mimetype": "text/x-python",
   "name": "python",
   "nbconvert_exporter": "python",
   "pygments_lexer": "ipython3",
   "version": "3.9.12"
  }
 },
 "nbformat": 4,
 "nbformat_minor": 2
}
