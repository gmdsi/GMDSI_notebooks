{
 "cells": [
  {
   "cell_type": "markdown",
   "metadata": {},
   "source": [
    "# Intro to the model\n",
    "\n",
    "### 1. Freyberg (1988) - \"An Exercise in Ground-Water Model Calibration and Prediction\" \n",
    "\n",
    "\n",
    "> \"*The goal of parameter identification is rarely the parameter estimates. Rather, the ultimate goal is nearly always a prediction .*\"\n",
    ">-David Freyberg (1988)\n",
    "\n",
    "\n",
    "The following series of tutorials make use of a synthetic model. This model is a variant of the model originally created by David Freyberg at Stanford University in the late 1980s. David Freyberg designed a simple model to give to a graduate class and asked them each to \"calibrate\" the model. Students were provided with an extensive amount of data:\n",
    "\n",
    "1. the water level (perfectly represented) in a number of wells\n",
    "2. the bedrock elevation at those same well locations\n",
    "3. all the lateral aquifer geometry\n",
    "4. boundary conditions including lateral flows \n",
    "5. well pumping rates \n",
    "\n",
    "The forecast of interest was the head if the river channel was lined (e.g. conductance reduced greatly).\n",
    "\n",
    "There are interesting insights in the paper, but perhaps the most interesting is illustrated by the figure below. **Just because a model is good at fitting measurement data, does not mean it is good at making a prediction!**\n",
    "\n",
    "<img src=\"cal_pred.png\" style=\"float: center; width: 75%;  margin-bottom: 0.5em;\">\n",
    "\n",
    "\n",
    "You can read the original paper here:\n",
    "\n",
    "> *Freyberg, David L. 1988. “AN EXERCISE IN GROUND-WATER MODEL CALIBRATION AND PREDICTION.” Ground Water 26 (3): 350–60. doi:10.1111/j.1745-6584.1988.tb00399.x.*\n",
    "\n",
    "And more recently, the same exercise was revisited in a contemporary context:\n",
    "\n",
    "> *Hunt, Randall J., Michael N. Fienen, and Jeremy T. White. 2019. “Revisiting ‘An Exercise in Groundwater Model Calibration and Prediction’ After 30 Years: Insights and New Directions.” Groundwater, July, gwat.12907. doi:10.1111/gwat.12907.* \n",
    "   "
   ]
  },
  {
   "cell_type": "markdown",
   "metadata": {},
   "source": [
    "### 2. Modified-Freyberg Model\n",
    "\n",
    "For the current set of tutorials we will be using a variant of the Freyberg model. This is the same model described in the PEST++ documentation:\n",
    "> White, J.T., Hunt, R.J., Fienen, M.N., and Doherty, J.E., 2020, Approaches to Highly Parameterized > Inversion: PEST++ Version 5, a Software Suite for Parameter Estimation, Uncertainty Analysis, Management > Optimization and Sensitivity Analysis: U.S. Geological Survey Techniques and Methods 7C26, 52 p., https://> doi.org/10.3133/tm7C26.\n",
    "\n",
    "The moel setup use in the current tutorials is the same as documented in White et al. (2020). However, some of the parameterisation and selected observation data are different. We also include additional particle tracking simulated using MODPATH7. \n",
    "\n",
    "Using a synthetic model allows us to know the \"truth\". It also allows us to design it to be fast-running. Both usefull characteristics for a tutorial model. \n",
    "\n",
    "Let's get acquainted with it.\n",
    "\n"
   ]
  },
  {
   "cell_type": "markdown",
   "metadata": {},
   "source": [
    "#### 2.2 *Admin*\n",
    "First some admin. Load the dependencies and organize model folders. Let's copy the original model folder into a new working directory, just to ensure we don't mess up the base files. Simply run the next cells by pressing `shift+enter`."
   ]
  },
  {
   "cell_type": "code",
   "execution_count": 1,
   "metadata": {
    "execution": {
     "iopub.execute_input": "2022-04-08T06:27:36.780976Z",
     "iopub.status.busy": "2022-04-08T06:27:36.779977Z",
     "iopub.status.idle": "2022-04-08T06:27:47.708065Z",
     "shell.execute_reply": "2022-04-08T06:27:47.710059Z"
    }
   },
   "outputs": [],
   "source": [
    "import os\n",
    "import sys\n",
    "import flopy\n",
    "import shutil\n",
    "import platform\n",
    "import pandas as pd\n",
    "import matplotlib.pyplot as plt"
   ]
  },
  {
   "cell_type": "code",
   "execution_count": 2,
   "metadata": {
    "execution": {
     "iopub.execute_input": "2022-04-08T06:27:47.724023Z",
     "iopub.status.busy": "2022-04-08T06:27:47.723026Z",
     "iopub.status.idle": "2022-04-08T06:27:56.541974Z",
     "shell.execute_reply": "2022-04-08T06:27:56.543969Z"
    }
   },
   "outputs": [],
   "source": [
    "# folder containing original model files\n",
    "org_ws = os.path.join('..', '..', 'models', 'freyberg_mf6')\n",
    "\n",
    "# set a new workspace folder to avoid breaking things by mistake\n",
    "sim_ws = os.path.join('freyberg_mf6')\n",
    "\n",
    "# remove existing folder\n",
    "if os.path.exists(sim_ws):\n",
    "    shutil.rmtree(sim_ws)\n",
    "\n",
    "# copy the original model folder across\n",
    "shutil.copytree(org_ws, sim_ws)\n",
    "\n",
    "# get the necessary executables; OS agnostic\n",
    "bin_dir = os.path.join('..','..','bin')\n",
    "exe_files=['mf6', 'mp7']\n",
    "\n",
    "for exe_file in exe_files:\n",
    "    if \"window\" in platform.platform().lower():\n",
    "        exe_file = exe_file+'.exe'\n",
    "    shutil.copy2(os.path.join(bin_dir, exe_file), os.path.join(sim_ws,exe_file))\n"
   ]
  },
  {
   "cell_type": "markdown",
   "metadata": {},
   "source": [
    "Load and run the simulation. \n",
    "\n",
    "It should take less than a second. (If only all models were so fast!) As you can see, the model is fast and numerically stable. When undertaking highly-parameterized inversion, a model will be simulated many, many times; and run-times add up quickly! A modeller needs to take this factor into account during model design."
   ]
  },
  {
   "cell_type": "code",
   "execution_count": 3,
   "metadata": {
    "execution": {
     "iopub.execute_input": "2022-04-08T06:27:56.561920Z",
     "iopub.status.busy": "2022-04-08T06:27:56.559926Z",
     "iopub.status.idle": "2022-04-08T06:28:00.161268Z",
     "shell.execute_reply": "2022-04-08T06:28:00.162265Z"
    }
   },
   "outputs": [
    {
     "data": {
      "text/plain": [
       "(True, [])"
      ]
     },
     "execution_count": 3,
     "metadata": {},
     "output_type": "execute_result"
    }
   ],
   "source": [
    "# load simulation\n",
    "sim = flopy.mf6.MFSimulation.load(sim_ws=sim_ws, verbosity_level=0)\n",
    "\n",
    "# load flow model\n",
    "gwf = sim.get_model()\n",
    "\n",
    "# run the model\n",
    "sim.run_simulation()"
   ]
  },
  {
   "cell_type": "markdown",
   "metadata": {},
   "source": [
    "#### 2.3. Model Domain, BCs and Properties\n",
    "\n",
    "The figure belows shows the model domain and boundary conditions. The model has 3 layers, 40 rows and 20 columns. Cell dimensions are 250m x 250m. There are inactive outcrop areas within the model domain (shown in black in the figure)."
   ]
  },
  {
   "cell_type": "code",
   "execution_count": 4,
   "metadata": {
    "execution": {
     "iopub.execute_input": "2022-04-08T06:28:00.172239Z",
     "iopub.status.busy": "2022-04-08T06:28:00.171241Z",
     "iopub.status.idle": "2022-04-08T06:28:00.183208Z",
     "shell.execute_reply": "2022-04-08T06:28:00.184206Z"
    }
   },
   "outputs": [
    {
     "name": "stdout",
     "output_type": "stream",
     "text": [
      "layers:3 nrows:40 columns:20\n"
     ]
    }
   ],
   "source": [
    "dis = gwf.dis\n",
    "print(f'layers:{dis.nlay.get_data()} nrows:{dis.nrow.get_data()} columns:{dis.ncol.get_data()}')"
   ]
  },
  {
   "cell_type": "markdown",
   "metadata": {},
   "source": [
    "There is a GHB along the southern boundary in all layers. All other external boundaries are no-flow. \n",
    "\n",
    "The surface-water system consists of a straight stream flowing north to south, which is simulated using the Streamflow Routing (SFR) package. SFR reaches raverse the model domain from row 1 to row 40 in column 16. Surface-water flow observations are monitored in reach 40 (the terminal reach). \n",
    "\n",
    "Six groundwater extraction wells are placed in the bottom layer 3. There are several monitoring wells screened in layer 1 and layer 3. \n",
    "\n",
    "Water enters the model domain as recharge and stream leakage in layer 1. It leaves through groundwater discharge to the surface-water, groundwater extraction and through the downgradient GHB. "
   ]
  },
  {
   "cell_type": "code",
   "execution_count": 5,
   "metadata": {
    "execution": {
     "iopub.execute_input": "2022-04-08T06:28:00.207683Z",
     "iopub.status.busy": "2022-04-08T06:28:00.206147Z",
     "iopub.status.idle": "2022-04-08T06:28:00.919657Z",
     "shell.execute_reply": "2022-04-08T06:28:00.920655Z"
    }
   },
   "outputs": [
    {
     "data": {
      "image/png": "[encoded data removed]",
      "text/plain": [
       "<Figure size 504x504 with 1 Axes>"
      ]
     },
     "metadata": {
      "needs_background": "light"
     },
     "output_type": "display_data"
    }
   ],
   "source": [
    "# plot\n",
    "fig = plt.figure(figsize=(7, 7))\n",
    "\n",
    "ax = fig.add_subplot(1, 1, 1, aspect='equal')\n",
    "mm = flopy.plot.PlotMapView(model=gwf, ax=ax, layer=0)\n",
    "\n",
    "mm.plot_grid()\n",
    "mm.plot_inactive()\n",
    "# Plot grid \n",
    "# you can plot BC cells using the plot_bc() \n",
    "mm.plot_bc('ghb')\n",
    "mm.plot_bc('sfr')\n",
    "\n",
    "# Plot wells in layer 3\n",
    "mm = flopy.plot.PlotMapView(model=gwf, ax=ax, layer=2)\n",
    "mm.plot_bc('wel');"
   ]
  },
  {
   "cell_type": "markdown",
   "metadata": {},
   "source": [
    "Take a quick look at everyone's favourite parameter, hydraulic conductivity (K). Values in the plot below show K in layer 1. If you check each layer (by changing the mflay value), you will see different initial values in each. \n",
    "\n",
    "Layer 3 is the most permeable. Layer 2 has low permeabilities. Layer 1 is somewhere in between. "
   ]
  },
  {
   "cell_type": "code",
   "execution_count": 6,
   "metadata": {
    "execution": {
     "iopub.execute_input": "2022-04-08T06:28:00.933620Z",
     "iopub.status.busy": "2022-04-08T06:28:00.931626Z",
     "iopub.status.idle": "2022-04-08T06:28:01.472493Z",
     "shell.execute_reply": "2022-04-08T06:28:01.473490Z"
    }
   },
   "outputs": [
    {
     "data": {
      "image/png": "[encoded data removed]",
      "text/plain": [
       "<Figure size 432x288 with 2 Axes>"
      ]
     },
     "metadata": {
      "needs_background": "light"
     },
     "output_type": "display_data"
    }
   ],
   "source": [
    "gwf.npf.k.plot(colorbar=True, mflay=0);"
   ]
  },
  {
   "cell_type": "markdown",
   "metadata": {},
   "source": [
    "Surface topography and the bottom elevation are not uniform (see plots below). The middle layer has a constant thickness of 2.5m, with a top and bottom elevation of 32.5m and 30m, respectively."
   ]
  },
  {
   "cell_type": "code",
   "execution_count": 7,
   "metadata": {
    "execution": {
     "iopub.execute_input": "2022-04-08T06:28:01.490445Z",
     "iopub.status.busy": "2022-04-08T06:28:01.479474Z",
     "iopub.status.idle": "2022-04-08T06:28:02.108299Z",
     "shell.execute_reply": "2022-04-08T06:28:02.108299Z"
    }
   },
   "outputs": [
    {
     "data": {
      "image/png": "[encoded data removed]",
      "text/plain": [
       "<Figure size 432x288 with 2 Axes>"
      ]
     },
     "metadata": {
      "needs_background": "light"
     },
     "output_type": "display_data"
    },
    {
     "data": {
      "image/png": "[encoded data removed]",
      "text/plain": [
       "<Figure size 432x288 with 2 Axes>"
      ]
     },
     "metadata": {
      "needs_background": "light"
     },
     "output_type": "display_data"
    }
   ],
   "source": [
    "# plot model top\n",
    "gwf.dis.top.plot(colorbar=True, masked_values=[-1049.99])\n",
    "\n",
    "# plot bottom of bottom layer\n",
    "gwf.dis.botm.plot(colorbar=True, mflay=2);"
   ]
  },
  {
   "cell_type": "markdown",
   "metadata": {},
   "source": [
    "#### 2.4 Model Timing\n",
    "\n",
    "The model simulates 25 stress-periods: 1 steady-state, followed by 24 transient stress periods. \n",
    "\n",
    "Conceptualy, the first 12 transient stress periods represent the \"historical\" conditions. Simulated outputs from this period (using the \"true\" parameter field) are used as \"observations\" for history matching. These represent field measurments in from our fictional site.\n",
    "\n",
    "The last 12 transient stress periods conceptualy represent the unmeasured, future condition. The period for whcih predictions are required. Selected model outputs simulated during this period form a set of \"forecasts\" or \"predicitons\" of management interest. "
   ]
  },
  {
   "cell_type": "markdown",
   "metadata": {},
   "source": [
    "### 3. Observation Data\n",
    "\n",
    "The following field data are available as \"observations\" for the purposes of history matching:\n",
    " - surface-water flow at the terminal reach (stress period 2 to 13);\n",
    " - groundwater levels at two sites (stress period 2 to 13); \n",
    "\n",
    "Model simulated counterparts to these observations are recorded in external CSV files. Let's take a look:"
   ]
  },
  {
   "cell_type": "code",
   "execution_count": 8,
   "metadata": {
    "execution": {
     "iopub.execute_input": "2022-04-08T06:28:02.116280Z",
     "iopub.status.busy": "2022-04-08T06:28:02.114283Z",
     "iopub.status.idle": "2022-04-08T06:28:02.118273Z",
     "shell.execute_reply": "2022-04-08T06:28:02.119270Z"
    }
   },
   "outputs": [
    {
     "name": "stdout",
     "output_type": "stream",
     "text": [
      "['sfr.csv']\n",
      "['heads.csv']\n"
     ]
    }
   ],
   "source": [
    "# check the output csv file names\n",
    "for i in gwf.obs:\n",
    "    print(i.output.obs_names)"
   ]
  },
  {
   "cell_type": "code",
   "execution_count": 9,
   "metadata": {
    "execution": {
     "iopub.execute_input": "2022-04-08T06:28:02.128247Z",
     "iopub.status.busy": "2022-04-08T06:28:02.127249Z",
     "iopub.status.idle": "2022-04-08T06:28:02.132557Z",
     "shell.execute_reply": "2022-04-08T06:28:02.131238Z"
    }
   },
   "outputs": [],
   "source": [
    "def obs2df(i):\n",
    "    \"\"\"Loads an output csv. Returns data in DataFrame.\"\"\"\n",
    "    obs_csv = i.output.obs_names[0]\n",
    "    obs = i.output.obs(f=obs_csv)\n",
    "    df = pd.DataFrame(obs.data)\n",
    "    return df"
   ]
  },
  {
   "cell_type": "markdown",
   "metadata": {},
   "source": [
    "We can read the `sfr.csv` output file, and inspect the values:"
   ]
  },
  {
   "cell_type": "code",
   "execution_count": 10,
   "metadata": {
    "execution": {
     "iopub.execute_input": "2022-04-08T06:28:02.138222Z",
     "iopub.status.busy": "2022-04-08T06:28:02.137223Z",
     "iopub.status.idle": "2022-04-08T06:28:02.210268Z",
     "shell.execute_reply": "2022-04-08T06:28:02.211264Z"
    }
   },
   "outputs": [
    {
     "data": {
      "text/html": [
       "<div>\n",
       "<style scoped>\n",
       "    .dataframe tbody tr th:only-of-type {\n",
       "        vertical-align: middle;\n",
       "    }\n",
       "\n",
       "    .dataframe tbody tr th {\n",
       "        vertical-align: top;\n",
       "    }\n",
       "\n",
       "    .dataframe thead th {\n",
       "        text-align: right;\n",
       "    }\n",
       "</style>\n",
       "<table border=\"1\" class=\"dataframe\">\n",
       "  <thead>\n",
       "    <tr style=\"text-align: right;\">\n",
       "      <th></th>\n",
       "      <th>totim</th>\n",
       "      <th>HEADWATER</th>\n",
       "      <th>TAILWATER</th>\n",
       "      <th>GAGE_1</th>\n",
       "    </tr>\n",
       "  </thead>\n",
       "  <tbody>\n",
       "    <tr>\n",
       "      <th>0</th>\n",
       "      <td>1.0</td>\n",
       "      <td>-644.22</td>\n",
       "      <td>-478.38</td>\n",
       "      <td>1206.1</td>\n",
       "    </tr>\n",
       "    <tr>\n",
       "      <th>1</th>\n",
       "      <td>32.0</td>\n",
       "      <td>-860.19</td>\n",
       "      <td>-628.99</td>\n",
       "      <td>1622.8</td>\n",
       "    </tr>\n",
       "    <tr>\n",
       "      <th>2</th>\n",
       "      <td>61.0</td>\n",
       "      <td>-1029.50</td>\n",
       "      <td>-758.24</td>\n",
       "      <td>1927.7</td>\n",
       "    </tr>\n",
       "    <tr>\n",
       "      <th>3</th>\n",
       "      <td>92.0</td>\n",
       "      <td>-1110.90</td>\n",
       "      <td>-818.81</td>\n",
       "      <td>2059.4</td>\n",
       "    </tr>\n",
       "    <tr>\n",
       "      <th>4</th>\n",
       "      <td>122.0</td>\n",
       "      <td>-1082.00</td>\n",
       "      <td>-794.21</td>\n",
       "      <td>1981.7</td>\n",
       "    </tr>\n",
       "  </tbody>\n",
       "</table>\n",
       "</div>"
      ],
      "text/plain": [
       "   totim  HEADWATER  TAILWATER  GAGE_1\n",
       "0    1.0    -644.22    -478.38  1206.1\n",
       "1   32.0    -860.19    -628.99  1622.8\n",
       "2   61.0   -1029.50    -758.24  1927.7\n",
       "3   92.0   -1110.90    -818.81  2059.4\n",
       "4  122.0   -1082.00    -794.21  1981.7"
      ]
     },
     "execution_count": 10,
     "metadata": {},
     "output_type": "execute_result"
    }
   ],
   "source": [
    "sfr_obs = obs2df(gwf.obs[0])\n",
    "sfr_obs.head()"
   ]
  },
  {
   "cell_type": "markdown",
   "metadata": {},
   "source": [
    "Simulated values for surface-water flow at the terminal reach are recorded in the \"GAGE_1\" column:"
   ]
  },
  {
   "cell_type": "code",
   "execution_count": 11,
   "metadata": {
    "execution": {
     "iopub.execute_input": "2022-04-08T06:28:02.219243Z",
     "iopub.status.busy": "2022-04-08T06:28:02.218246Z",
     "iopub.status.idle": "2022-04-08T06:28:03.215825Z",
     "shell.execute_reply": "2022-04-08T06:28:03.217625Z"
    }
   },
   "outputs": [
    {
     "data": {
      "text/plain": [
       "<AxesSubplot:xlabel='totim'>"
      ]
     },
     "execution_count": 11,
     "metadata": {},
     "output_type": "execute_result"
    },
    {
     "data": {
      "image/png": "[encoded data removed]",
      "text/plain": [
       "<Figure size 432x288 with 1 Axes>"
      ]
     },
     "metadata": {
      "needs_background": "light"
     },
     "output_type": "display_data"
    }
   ],
   "source": [
    "sfr_obs.plot(x='totim', y='GAGE_1')"
   ]
  },
  {
   "cell_type": "markdown",
   "metadata": {},
   "source": [
    "Simulated groundwater l are recorded in the \"heads.csv\" file. Several monitoring sites are simulated, however there is measured data for a only a few of these. \n",
    "\n",
    "The sites for which \"measured data\" are available are named:\n",
    " - trgw_0_26_6\n",
    " - trgw_2_26_6\n",
    " - trgw_0_3_8\n",
    " - trgw_2_3_8\n",
    "\n",
    "The site naming convention is: \"TRGW_layer_row_column\". Thus, the four sites listed above pertain to two observation locations, with measurments from both the top and botoom layers. "
   ]
  },
  {
   "cell_type": "code",
   "execution_count": 12,
   "metadata": {
    "execution": {
     "iopub.execute_input": "2022-04-08T06:28:03.227599Z",
     "iopub.status.busy": "2022-04-08T06:28:03.225603Z",
     "iopub.status.idle": "2022-04-08T06:28:03.285443Z",
     "shell.execute_reply": "2022-04-08T06:28:03.286440Z"
    }
   },
   "outputs": [
    {
     "data": {
      "text/html": [
       "<div>\n",
       "<style scoped>\n",
       "    .dataframe tbody tr th:only-of-type {\n",
       "        vertical-align: middle;\n",
       "    }\n",
       "\n",
       "    .dataframe tbody tr th {\n",
       "        vertical-align: top;\n",
       "    }\n",
       "\n",
       "    .dataframe thead th {\n",
       "        text-align: right;\n",
       "    }\n",
       "</style>\n",
       "<table border=\"1\" class=\"dataframe\">\n",
       "  <thead>\n",
       "    <tr style=\"text-align: right;\">\n",
       "      <th></th>\n",
       "      <th>totim</th>\n",
       "      <th>TRGW_2_2_15</th>\n",
       "      <th>TRGW_2_2_9</th>\n",
       "      <th>TRGW_2_3_8</th>\n",
       "      <th>TRGW_2_9_1</th>\n",
       "      <th>TRGW_2_13_10</th>\n",
       "      <th>TRGW_2_15_16</th>\n",
       "      <th>TRGW_2_21_10</th>\n",
       "      <th>TRGW_2_22_15</th>\n",
       "      <th>TRGW_2_24_4</th>\n",
       "      <th>...</th>\n",
       "      <th>TRGW_0_9_1</th>\n",
       "      <th>TRGW_0_13_10</th>\n",
       "      <th>TRGW_0_15_16</th>\n",
       "      <th>TRGW_0_21_10</th>\n",
       "      <th>TRGW_0_22_15</th>\n",
       "      <th>TRGW_0_24_4</th>\n",
       "      <th>TRGW_0_26_6</th>\n",
       "      <th>TRGW_0_29_15</th>\n",
       "      <th>TRGW_0_33_7</th>\n",
       "      <th>TRGW_0_34_10</th>\n",
       "    </tr>\n",
       "  </thead>\n",
       "  <tbody>\n",
       "    <tr>\n",
       "      <th>0</th>\n",
       "      <td>1.0</td>\n",
       "      <td>34.339371</td>\n",
       "      <td>34.581652</td>\n",
       "      <td>34.611269</td>\n",
       "      <td>34.872233</td>\n",
       "      <td>34.257587</td>\n",
       "      <td>34.136402</td>\n",
       "      <td>34.144486</td>\n",
       "      <td>34.027671</td>\n",
       "      <td>34.310866</td>\n",
       "      <td>...</td>\n",
       "      <td>34.878144</td>\n",
       "      <td>34.263200</td>\n",
       "      <td>34.141615</td>\n",
       "      <td>34.150087</td>\n",
       "      <td>33.992378</td>\n",
       "      <td>34.316580</td>\n",
       "      <td>34.177242</td>\n",
       "      <td>33.909884</td>\n",
       "      <td>33.985754</td>\n",
       "      <td>33.890225</td>\n",
       "    </tr>\n",
       "    <tr>\n",
       "      <th>1</th>\n",
       "      <td>32.0</td>\n",
       "      <td>34.422184</td>\n",
       "      <td>34.680236</td>\n",
       "      <td>34.711362</td>\n",
       "      <td>34.972437</td>\n",
       "      <td>34.380688</td>\n",
       "      <td>34.245122</td>\n",
       "      <td>34.271717</td>\n",
       "      <td>34.137527</td>\n",
       "      <td>34.436668</td>\n",
       "      <td>...</td>\n",
       "      <td>34.978305</td>\n",
       "      <td>34.385572</td>\n",
       "      <td>34.249919</td>\n",
       "      <td>34.276460</td>\n",
       "      <td>34.086954</td>\n",
       "      <td>34.441555</td>\n",
       "      <td>34.316998</td>\n",
       "      <td>33.992041</td>\n",
       "      <td>34.101896</td>\n",
       "      <td>34.004996</td>\n",
       "    </tr>\n",
       "    <tr>\n",
       "      <th>2</th>\n",
       "      <td>61.0</td>\n",
       "      <td>34.495576</td>\n",
       "      <td>34.777641</td>\n",
       "      <td>34.811212</td>\n",
       "      <td>35.082666</td>\n",
       "      <td>34.481041</td>\n",
       "      <td>34.329749</td>\n",
       "      <td>34.375620</td>\n",
       "      <td>34.218584</td>\n",
       "      <td>34.553938</td>\n",
       "      <td>...</td>\n",
       "      <td>35.088564</td>\n",
       "      <td>34.486938</td>\n",
       "      <td>34.335502</td>\n",
       "      <td>34.381385</td>\n",
       "      <td>34.157455</td>\n",
       "      <td>34.559384</td>\n",
       "      <td>34.432020</td>\n",
       "      <td>34.057642</td>\n",
       "      <td>34.195196</td>\n",
       "      <td>34.085663</td>\n",
       "    </tr>\n",
       "    <tr>\n",
       "      <th>3</th>\n",
       "      <td>92.0</td>\n",
       "      <td>34.540965</td>\n",
       "      <td>34.847689</td>\n",
       "      <td>34.884086</td>\n",
       "      <td>35.176849</td>\n",
       "      <td>34.535380</td>\n",
       "      <td>34.371787</td>\n",
       "      <td>34.431025</td>\n",
       "      <td>34.257090</td>\n",
       "      <td>34.630528</td>\n",
       "      <td>...</td>\n",
       "      <td>35.183000</td>\n",
       "      <td>34.542428</td>\n",
       "      <td>34.378474</td>\n",
       "      <td>34.438018</td>\n",
       "      <td>34.191071</td>\n",
       "      <td>34.636990</td>\n",
       "      <td>34.496502</td>\n",
       "      <td>34.090248</td>\n",
       "      <td>34.243223</td>\n",
       "      <td>34.120638</td>\n",
       "    </tr>\n",
       "    <tr>\n",
       "      <th>4</th>\n",
       "      <td>122.0</td>\n",
       "      <td>34.537691</td>\n",
       "      <td>34.858946</td>\n",
       "      <td>34.897411</td>\n",
       "      <td>35.213450</td>\n",
       "      <td>34.519536</td>\n",
       "      <td>34.352889</td>\n",
       "      <td>34.413872</td>\n",
       "      <td>34.236318</td>\n",
       "      <td>34.633037</td>\n",
       "      <td>...</td>\n",
       "      <td>35.219953</td>\n",
       "      <td>34.527372</td>\n",
       "      <td>34.360121</td>\n",
       "      <td>34.421737</td>\n",
       "      <td>34.173383</td>\n",
       "      <td>34.640428</td>\n",
       "      <td>34.483079</td>\n",
       "      <td>34.076125</td>\n",
       "      <td>34.225432</td>\n",
       "      <td>34.094988</td>\n",
       "    </tr>\n",
       "  </tbody>\n",
       "</table>\n",
       "<p>5 rows × 27 columns</p>\n",
       "</div>"
      ],
      "text/plain": [
       "   totim  TRGW_2_2_15  TRGW_2_2_9  TRGW_2_3_8  TRGW_2_9_1  TRGW_2_13_10  \\\n",
       "0    1.0    34.339371   34.581652   34.611269   34.872233     34.257587   \n",
       "1   32.0    34.422184   34.680236   34.711362   34.972437     34.380688   \n",
       "2   61.0    34.495576   34.777641   34.811212   35.082666     34.481041   \n",
       "3   92.0    34.540965   34.847689   34.884086   35.176849     34.535380   \n",
       "4  122.0    34.537691   34.858946   34.897411   35.213450     34.519536   \n",
       "\n",
       "   TRGW_2_15_16  TRGW_2_21_10  TRGW_2_22_15  TRGW_2_24_4  ...  TRGW_0_9_1  \\\n",
       "0     34.136402     34.144486     34.027671    34.310866  ...   34.878144   \n",
       "1     34.245122     34.271717     34.137527    34.436668  ...   34.978305   \n",
       "2     34.329749     34.375620     34.218584    34.553938  ...   35.088564   \n",
       "3     34.371787     34.431025     34.257090    34.630528  ...   35.183000   \n",
       "4     34.352889     34.413872     34.236318    34.633037  ...   35.219953   \n",
       "\n",
       "   TRGW_0_13_10  TRGW_0_15_16  TRGW_0_21_10  TRGW_0_22_15  TRGW_0_24_4  \\\n",
       "0     34.263200     34.141615     34.150087     33.992378    34.316580   \n",
       "1     34.385572     34.249919     34.276460     34.086954    34.441555   \n",
       "2     34.486938     34.335502     34.381385     34.157455    34.559384   \n",
       "3     34.542428     34.378474     34.438018     34.191071    34.636990   \n",
       "4     34.527372     34.360121     34.421737     34.173383    34.640428   \n",
       "\n",
       "   TRGW_0_26_6  TRGW_0_29_15  TRGW_0_33_7  TRGW_0_34_10  \n",
       "0    34.177242     33.909884    33.985754     33.890225  \n",
       "1    34.316998     33.992041    34.101896     34.004996  \n",
       "2    34.432020     34.057642    34.195196     34.085663  \n",
       "3    34.496502     34.090248    34.243223     34.120638  \n",
       "4    34.483079     34.076125    34.225432     34.094988  \n",
       "\n",
       "[5 rows x 27 columns]"
      ]
     },
     "execution_count": 12,
     "metadata": {},
     "output_type": "execute_result"
    }
   ],
   "source": [
    "hds_obs = obs2df(gwf.obs[1])\n",
    "hds_obs.head()"
   ]
  },
  {
   "cell_type": "markdown",
   "metadata": {},
   "source": [
    "Let's make a quick plot of time series of simulated groundwater levels from both layers at a single location:"
   ]
  },
  {
   "cell_type": "code",
   "execution_count": 13,
   "metadata": {
    "execution": {
     "iopub.execute_input": "2022-04-08T06:28:03.316360Z",
     "iopub.status.busy": "2022-04-08T06:28:03.298409Z",
     "iopub.status.idle": "2022-04-08T06:28:03.713299Z",
     "shell.execute_reply": "2022-04-08T06:28:03.714297Z"
    }
   },
   "outputs": [
    {
     "data": {
      "text/plain": [
       "<AxesSubplot:xlabel='totim'>"
      ]
     },
     "execution_count": 13,
     "metadata": {},
     "output_type": "execute_result"
    },
    {
     "data": {
      "image/png": "[encoded data removed]",
      "text/plain": [
       "<Figure size 432x288 with 1 Axes>"
      ]
     },
     "metadata": {
      "needs_background": "light"
     },
     "output_type": "display_data"
    }
   ],
   "source": [
    "hds_obs.plot(x='totim', y=['TRGW_0_26_6','TRGW_2_26_6'])"
   ]
  },
  {
   "cell_type": "markdown",
   "metadata": {},
   "source": [
    "Whilst we are at it, lets just make a plot of the spatial distribution of heads in the upper layer. (Heas in the other layers are very similar.)"
   ]
  },
  {
   "cell_type": "code",
   "execution_count": 14,
   "metadata": {
    "execution": {
     "iopub.execute_input": "2022-04-08T06:28:03.725267Z",
     "iopub.status.busy": "2022-04-08T06:28:03.724270Z",
     "iopub.status.idle": "2022-04-08T06:28:04.250862Z",
     "shell.execute_reply": "2022-04-08T06:28:04.252856Z"
    }
   },
   "outputs": [
    {
     "data": {
      "image/png": "[encoded data removed]",
      "text/plain": [
       "<Figure size 432x288 with 2 Axes>"
      ]
     },
     "metadata": {
      "needs_background": "light"
     },
     "output_type": "display_data"
    }
   ],
   "source": [
    "hdobj = gwf.output.head()\n",
    "times = hdobj.get_times()\n",
    "hdobj.plot(mflay=0, colorbar=True, totim=times[-1], masked_values=[1e30]);"
   ]
  },
  {
   "cell_type": "markdown",
   "metadata": {},
   "source": [
    "### 4. Forecasts\n",
    "\n",
    "Three model simulated outputs are included as forecast \"observations\". These represent predictions of managemnt interest for our imaginary case. Simulated forecasts are:\n",
    " - aggregated surface-water/grounwdater exchange for reaches 1-20 (recorded under \"headwater\" in the sfr.csv file) during stress period 22;\n",
    " - aggregated surface-water/grounwdater exchange for reaches 21-40 (recorded under \"tailwater\" in the sfr.csv file) during stress period 13;\n",
    " - groundwater level at TRGW_0_9_1 at the end of stress period 22;\n",
    " - travel time for a particle released in the north-west of the domain to exit the model domain.\n",
    "\n",
    "These forecasts were selected to represent model outputs that are informed in varying degrees by the history matching data. \n"
   ]
  }
 ],
 "metadata": {
  "interpreter": {
   "hash": "b3ba2566441a7c06988d0923437866b63cedc61552a5af99d1f4fb67d367b25f"
  },
  "kernelspec": {
   "display_name": "Python 3 (ipykernel)",
   "language": "python",
   "name": "python3"
  },
  "language_info": {
   "codemirror_mode": {
    "name": "ipython",
    "version": 3
   },
   "file_extension": ".py",
   "mimetype": "text/x-python",
   "name": "python",
   "nbconvert_exporter": "python",
   "pygments_lexer": "ipython3",
   "version": "3.9.10"
  }
 },
 "nbformat": 4,
 "nbformat_minor": 2
}
