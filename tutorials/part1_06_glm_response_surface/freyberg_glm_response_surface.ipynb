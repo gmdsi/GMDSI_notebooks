{
 "cells": [
  {
   "cell_type": "markdown",
   "metadata": {},
   "source": [
    "# Gauss-Levenberg-Marquardt (GLM) algorithm\n",
    "\n",
    "The Gauss-Levenberg-Marquart (GLM) method is a derivative-based method used to search the objective function surface for its minimum value. It assumes that simulated values of observation targets vary continuously in response to changes in calibration-adjusted model parameters. \n",
    "\n",
    "However, certain combinations of parameters can provide similar fits to calibration data (as we saw in the \"freyberg k and r\" tutorial, in which we attempt to calibrate a model with two correlated parameters). This phenomenon is refered to as nonuniqueness. For a two-parameter case, this can be visualized as a \"trough\" in the objective function surface. In such cases, there is no single \"best-fit\" value for each calibration-adjusted parameter.\n",
    "\n",
    "<img src=\"freyberg_glm_response_surface_files/abandon_hope.png\" style=\"float: center\">\n",
    "\n",
    "Estimating unknown parameters by fitting a model to data is referred to as an \"inverse problem\". Inverse problems that have non-unique parameter estimates are considered \"ill-posed\". PEST(++) may obtain a solution to an ill-posed inverse problem and may even fit the calibration dataset very well, but small changes to the estimation method could yield very different results! Consider the example above:\n",
    "\n",
    "- A: The Gauss-Levenberg-Marquardt (GLM) algorithm is used to fit a model to data. The optimization results in a good model fit to the data, but the inverse problem is ill-posed so final parameter estimates are stuck in a \"trough of despair\". \n",
    "- B: The GLM optimization is started with same initial parameter guesses as A, but a lower Marquardt lambda value (i.e. a setting in the GLM algorithm, more details below) changes the path traced by the optimization iterations and a completely different set of final parameter estimates are returned.\n",
    "- C: GLM is started with a different set of initial parameter guesses, and results in a different set of final parameter estimates.\n",
    "- D: The weights assigned to observations are adjusted, which results in a different inverse problem that's just as ill-posed. GLM optimization with same initial parameter guesses as A yields yet another set of final parameter estimates.\n",
    "\n",
    "In practice, nonuniqueness can be avoided by ensuring a well-posed inverse problem. In simple terms, this requires having a greater number of calibration data than the number of adjustable parameters. As we saw in the \"freyberg k, r and flux observations\" tutorial, one option is to include multiple types of observation data which inform different parameter types. (As we will see further on, regularisation provides another.)\n",
    "\n",
    "In this tutorial we are going to visualize the \"objective function surface\" and how the parameter ugrade process moves across it. "
   ]
  },
  {
   "cell_type": "markdown",
   "metadata": {},
   "source": [
    "### Admin\n",
    "We have provided some pre-cooked PEST dataset files, wrapped around the modified Freyberg model. This is the same dataset introduced in the \"freyberg_pest_setup\" and \"freyberg_k\" notebooks. \n",
    "\n",
    "The functions in the next cell import required dependencies and prepare a folder for you. This folder contains the model files and a preliminary PEST setup. Run the cells, then inspect the new folder named \"freyberg_mf6\" which has been created in your tutorial directory. (Just press `shift+enter` to run the cells). "
   ]
  },
  {
   "cell_type": "code",
   "execution_count": null,
   "metadata": {},
   "outputs": [],
   "source": [
    "import sys\n",
    "import os\n",
    "import warnings\n",
    "warnings.filterwarnings(\"ignore\")\n",
    "warnings.filterwarnings(\"ignore\", category=DeprecationWarning) \n",
    "\n",
    "import pandas as pd\n",
    "import numpy as np\n",
    "import matplotlib.pyplot as plt;\n",
    "import shutil\n",
    "\n",
    "# sys.path.insert(0,os.path.join(\"..\", \"..\", \"dependencies\"))\n",
    "import pyemu\n",
    "import flopy\n",
    "assert \"dependencies\" in flopy.__file__\n",
    "assert \"dependencies\" in pyemu.__file__\n",
    "sys.path.insert(0,\"..\")\n",
    "import herebedragons as hbd\n",
    "import response_surface as resurf\n",
    "\n",
    "plt.rcParams['font.size'] = 10\n",
    "pyemu.plot_utils.font =10"
   ]
  },
  {
   "cell_type": "code",
   "execution_count": null,
   "metadata": {},
   "outputs": [],
   "source": [
    "# folder containing original model files\n",
    "org_d = os.path.join('..', '..', 'models', 'monthly_model_files_1lyr_newstress')\n",
    "# a dir to hold a copy of the org model files\n",
    "tmp_d = os.path.join('freyberg_mf6')\n",
    "\n",
    "runflag= True\n",
    "\n",
    "if runflag==False:\n",
    "    print('Assuming PEST++SWP has bene run already and the folder with files is available')\n",
    "else:\n",
    "    if os.path.exists(tmp_d):\n",
    "        shutil.rmtree(tmp_d)\n",
    "    shutil.copytree(org_d,tmp_d)\n",
    "    # get executables\n",
    "    hbd.prep_bins(tmp_d)\n",
    "    # get dependency folders\n",
    "    hbd.prep_deps(tmp_d)\n",
    "    # run our convenience functions to prepare the PEST and model folder\n",
    "    hbd.prep_pest(tmp_d)"
   ]
  },
  {
   "cell_type": "markdown",
   "metadata": {},
   "source": [
    "### Reminder - the modified-Freyberg model\n",
    "Just a quick reminder of what the model looks like and what we are doing. \n",
    "\n",
    "It is a one-layer model. A river runs north-south, represented with the SFR package (green cells in the figure). On the southern border there is a GHB (cyan cells). No-flow cells are shown in black. Pumping wells are shown with red cells. \n",
    "\n",
    "Time-series of measured heads are available at the locations marked with black X's. River flux is also measured at three locations (headwater, tailwater and gage; not displayed).\n",
    "\n",
    "The simulation starts with a steady state stress period, followed by twelve transient stress periods. These represent the historic period, for which measured data are available.\n",
    "\n",
    "A subsequent twelve transient stress periods represents a period in the future. Modelling is undertaken to assess selected forecasts during the simulated period."
   ]
  },
  {
   "cell_type": "code",
   "execution_count": null,
   "metadata": {},
   "outputs": [],
   "source": [
    "hbd.plot_freyberg(tmp_d)"
   ]
  },
  {
   "cell_type": "markdown",
   "metadata": {},
   "source": [
    "### The PEST Control File\n",
    "\n",
    "You may  wish to explore the `freyberg_mf6` folder which has been created in the tutorial directory. In it you will find a PEST control file named `freyberg.pst`.\n",
    "\n",
    "Let's use `pyemu` to load the PEST control file and check some details. "
   ]
  },
  {
   "cell_type": "code",
   "execution_count": null,
   "metadata": {},
   "outputs": [],
   "source": [
    "pst = pyemu.Pst(os.path.join(tmp_d, 'freyberg.pst'))\n",
    "pst.par_names"
   ]
  },
  {
   "cell_type": "code",
   "execution_count": null,
   "metadata": {},
   "outputs": [],
   "source": [
    "par = pst.parameter_data\n",
    "par"
   ]
  },
  {
   "cell_type": "markdown",
   "metadata": {},
   "source": [
    "We shall explore the effect of having two adjustable parameters: `hk1` and `rch0`. As we saw previously, these two parameters are correlated. If we use only head observations for calibration we are unable to achieve a unique solution. \n",
    "\n",
    "(We shall change `hk1` parameter bounds just to make visualization easier.)"
   ]
  },
  {
   "cell_type": "code",
   "execution_count": null,
   "metadata": {},
   "outputs": [],
   "source": [
    "par.loc['rch0', 'partrans'] = 'log'\n",
    "par.loc['hk1', 'parlbnd'] = 1.5\n",
    "par.loc['hk1', 'parubnd'] = 15"
   ]
  },
  {
   "cell_type": "markdown",
   "metadata": {},
   "source": [
    "Rewrite the control file:"
   ]
  },
  {
   "cell_type": "code",
   "execution_count": null,
   "metadata": {},
   "outputs": [],
   "source": [
    "pst.write(os.path.join(tmp_d, 'freyberg.pst'))"
   ]
  },
  {
   "cell_type": "markdown",
   "metadata": {},
   "source": [
    "The `response_surface.py` file in the tutorial folder contains a few functions to run PEST++SWP and make plots. These run PEST++SWP a few hundred times for a combination of `hk1` and `rch0` values."
   ]
  },
  {
   "cell_type": "code",
   "execution_count": null,
   "metadata": {},
   "outputs": [],
   "source": [
    "if runflag==False:\n",
    "    print('Assuming PEST++SWP has bene run already and the folder with files is available')\n",
    "else:\n",
    "    resurf.run_respsurf(par_names=['hk1','rch0'])"
   ]
  },
  {
   "cell_type": "markdown",
   "metadata": {},
   "source": [
    "Make a plot of the response surface for `hk1` (x-axis) and `rch0` (y-axis). The colored contours indicate the objective function value for each combination of these two parameters. \n",
    "\n",
    "As you can see, a long elliptical \"trough of despair\" of optimal values is formed. Parameter combinations in this zone all result in equivalent levels of \"good fit\" to the observation dataset. (The trough of despair can be visualized for this example because there are only two fitting parameters and the model's runtime is short, but detecting nonuniqueness is no longer trivial when you aren't working with toy models!) Remember that our modelling objective here is to make accurate forecasts, not to achieve a tight model fit for the history-matching figure in our report. The forecasts we're trying to make could be highly sensitive to the values of horizontal conductivity and/or recharge, but our estimates for these parameters will be very imprecise."
   ]
  },
  {
   "cell_type": "code",
   "execution_count": null,
   "metadata": {},
   "outputs": [],
   "source": [
    "fig, ax, resp_surf = resurf.plot_response_surface(cmap='jet', figsize=(7,7)) #maxresp=1e3,"
   ]
  },
  {
   "cell_type": "markdown",
   "metadata": {},
   "source": [
    "### Add Flux Observations\n",
    "\n",
    "As we did in the \"freyberg k, r and flux obs\" tutorial, we now add a second set of observation data comprised of streamflow measurements. We'll now use observations of head and streamflow to plot the response surface."
   ]
  },
  {
   "cell_type": "code",
   "execution_count": null,
   "metadata": {},
   "outputs": [],
   "source": [
    "pst = pyemu.Pst(os.path.join(tmp_d, 'freyberg.pst'))"
   ]
  },
  {
   "cell_type": "code",
   "execution_count": null,
   "metadata": {},
   "outputs": [],
   "source": [
    "# set weights to gage-1 observations during calibration period\n",
    "obs = pst.observation_data\n",
    "obs_times = obs.loc[~obs['gage-1'].isnull(), 'gage-1'].astype(float).values\n",
    "calib_times = [str(i) for i in obs_times if i<4018.5]\n",
    "obs.loc[obs['gage-1'].isin(calib_times), 'weight'] = 0.003"
   ]
  },
  {
   "cell_type": "markdown",
   "metadata": {},
   "source": [
    "Rewrite the control file."
   ]
  },
  {
   "cell_type": "code",
   "execution_count": null,
   "metadata": {},
   "outputs": [],
   "source": [
    "pst.write(os.path.join(tmp_d, 'freyberg.pst'))"
   ]
  },
  {
   "cell_type": "markdown",
   "metadata": {},
   "source": [
    "Run PEST++SWP again to recalculate the response surface."
   ]
  },
  {
   "cell_type": "code",
   "execution_count": null,
   "metadata": {},
   "outputs": [],
   "source": [
    "if runflag==False:\n",
    "    print('Assuming PEST++SWP has been run already and the folder with files is available')\n",
    "else:\n",
    "    resurf.run_respsurf(par_names=['hk1','rch0'])"
   ]
  },
  {
   "cell_type": "markdown",
   "metadata": {},
   "source": [
    "And plot it up again. Now we see the objective function surface funneling down to a single point. We have achieved a unique solution; the \"trough of despair\" has become the \"bowl of uniqueness\"! A clear demonstration of the value of unique and diverse data..."
   ]
  },
  {
   "cell_type": "code",
   "execution_count": null,
   "metadata": {},
   "outputs": [],
   "source": [
    "fig, ax, resp_surf = resurf.plot_response_surface(cmap='jet', figsize=(7,7)) #maxresp=1e3,"
   ]
  },
  {
   "cell_type": "markdown",
   "metadata": {},
   "source": [
    "# Understanding Lambdas\n",
    "\n",
    "When used to undertake highly parameterized inversion, PESTPP-GLM implements theory and methodologies that are programmed into PEST. Some theory, employing matrices and vectors, is used to describe the linearized inverse problem on which so-called “gradient methods” are based. Through repeated linearization of the inverse problem over successive iterations, these methods achieve their purpose of model calibration, notwithstanding the nonlinear relationship that exists between model outputs and model parameters.  It should also be noted that PESTPP-IES also implements the GLM solution, but an ensemble of parameter vectors.  So the single trajectory below can be thought of as one of the many tradjectories that ensemble of parameter vectors take.\n",
    "\n",
    "Nonlinear model behaviour is also accommodated by introducing a so-called \"Marquardt lambda\" to these equations. Employing a nonzero lambda tweaks the direction of parameter improvement so that it is more aligned with the objective function gradient. This increases the efficiency of early iterations of the inversion process when implemented in conjunction with a nonlinear model.\n",
    "\n",
    "If lambdas are high, then the parameter estimation process updates parameter values according to the objective function gradient. If they are small (or zero), parameter upgrades receive a greater influence from the $\\mathbf{J}^\\intercal\\mathbf{Q}\\mathbf{J}$ matrix. \n",
    "\n",
    "Highly nonlinear problems, in particular, benefit from high lambdas at the start of the parameter estimation process. This accommodates non-elipticity of the objective function surface, avoiding sending the parameter estimation process in the \"wrong direction\" and wasting computation time. \n",
    "\n",
    "However, as the objective function minimum is approached, the process becomes more efficient if smaller lambdas are used. This avoids the phenomenon known as \"hemstitching\", in which parameter upgrades jump-across small, thin \"troughs\" in the objective function surface. \n",
    "\n",
    "Note again, the effect of lambda on the parameter upgrade is the same in PESTPP-IES.\n",
    "\n",
    "See the PEST Book (Doherty, 2015) and the PEST++ users manual for more details.\n"
   ]
  },
  {
   "cell_type": "markdown",
   "metadata": {},
   "source": [
    "### No Lambda\n",
    "\n",
    "Let's visualize the effect of lambda values on the upgrade process. First, with no lambda added to the parameter upgrade equations."
   ]
  },
  {
   "cell_type": "code",
   "execution_count": null,
   "metadata": {},
   "outputs": [],
   "source": [
    "# turn off the Maquardt lambda\n",
    "pst.pestpp_options['lambdas']=0.0\n",
    "pst.pestpp_options['lambda_scale_fac']=1.0\n",
    "pst.pestpp_options['upgrade_augment']='False'"
   ]
  },
  {
   "cell_type": "markdown",
   "metadata": {},
   "source": [
    "Initial parameter values specify where the parameter estimation process starts:"
   ]
  },
  {
   "cell_type": "code",
   "execution_count": null,
   "metadata": {},
   "outputs": [],
   "source": [
    "# to make a more compelling plot\n",
    "pst.parameter_data.loc['hk1', 'parval1'] = 14\n",
    "pst.parameter_data.loc['rch0', 'parval1'] = 1.8"
   ]
  },
  {
   "cell_type": "markdown",
   "metadata": {},
   "source": [
    "Write and run:"
   ]
  },
  {
   "cell_type": "code",
   "execution_count": null,
   "metadata": {},
   "outputs": [],
   "source": [
    "pst.control_data.noptmax=250\n",
    "pst.write(os.path.join(tmp_d, 'freyberg.nolam.pst'))\n",
    "\n",
    "if runflag==True:\n",
    "    pyemu.os_utils.run('pestpp-glm freyberg.nolam.pst', cwd=tmp_d)"
   ]
  },
  {
   "cell_type": "markdown",
   "metadata": {},
   "source": [
    "Plot the response surface:"
   ]
  },
  {
   "cell_type": "code",
   "execution_count": null,
   "metadata": {},
   "outputs": [],
   "source": [
    "fig, ax, resp_surf = resurf.plot_response_surface(cmap='jet', figsize=(7,7)) #maxresp=1e3,\n",
    "pars, obfun = resurf.add_trajectory_to_plot(fig, ax, 'No Lambda', pst_name='freyberg.nolam.pst')"
   ]
  },
  {
   "cell_type": "code",
   "execution_count": null,
   "metadata": {},
   "outputs": [],
   "source": [
    "df_obj = pd.read_csv(os.path.join(tmp_d, \"freyberg.nolam.iobj\"), index_col=0)\n",
    "df_obj.loc[:,[\"total_phi\",\"model_runs_completed\"]].plot(subplots=True, marker='x')"
   ]
  },
  {
   "cell_type": "markdown",
   "metadata": {},
   "source": [
    "### Moderate Lambda"
   ]
  },
  {
   "cell_type": "code",
   "execution_count": null,
   "metadata": {},
   "outputs": [],
   "source": [
    "# set a moderate lambda value\n",
    "pst.pestpp_options['lambdas']=700.0\n",
    "pst.pestpp_options['lambda_scale_fac']=1.0\n",
    "pst.pestpp_options['upgrade_augment']='False'\n",
    "\n",
    "pst.write(os.path.join(tmp_d, 'freyberg.lam700.pst'))\n",
    "if runflag==True:\n",
    "    pyemu.os_utils.run('pestpp-glm freyberg.lam700.pst', cwd=tmp_d)"
   ]
  },
  {
   "cell_type": "code",
   "execution_count": null,
   "metadata": {},
   "outputs": [],
   "source": [
    "fig, ax, resp_surf = resurf.plot_response_surface(cmap='jet', figsize=(7,7)) #maxresp=1e3,\n",
    "pars, obfun = resurf.add_trajectory_to_plot(fig, ax, 'Lambda:700', pst_name='freyberg.lam700.pst')"
   ]
  },
  {
   "cell_type": "code",
   "execution_count": null,
   "metadata": {},
   "outputs": [],
   "source": [
    "df_obj = pd.read_csv(os.path.join(tmp_d, \"freyberg.lam700.iobj\"), index_col=0)\n",
    "df_obj.loc[:,[\"total_phi\",\"model_runs_completed\"]].plot(subplots=True, marker='x')"
   ]
  },
  {
   "cell_type": "markdown",
   "metadata": {},
   "source": [
    "### Large Lambda"
   ]
  },
  {
   "cell_type": "code",
   "execution_count": null,
   "metadata": {},
   "outputs": [],
   "source": [
    "# set a large lambda value\n",
    "pst.pestpp_options['lambdas']=7000.0\n",
    "pst.pestpp_options['lambda_scale_fac']=1.0\n",
    "pst.pestpp_options['upgrade_augment']='False'\n",
    "\n",
    "pst.write(os.path.join(tmp_d, 'freyberg.lam7000.pst'))\n",
    "if runflag==True:\n",
    "    pyemu.os_utils.run('pestpp-glm freyberg.lam7000.pst', cwd=tmp_d)"
   ]
  },
  {
   "cell_type": "code",
   "execution_count": null,
   "metadata": {},
   "outputs": [],
   "source": [
    "fig, ax, resp_surf = resurf.plot_response_surface(cmap='jet', figsize=(7,7)) #maxresp=1e3,\n",
    "pars, obfun = resurf.add_trajectory_to_plot(fig, ax, 'Lambda:7000', pst_name='freyberg.lam7000.pst')"
   ]
  },
  {
   "cell_type": "code",
   "execution_count": null,
   "metadata": {},
   "outputs": [],
   "source": [
    "df_obj = pd.read_csv(os.path.join(tmp_d, \"freyberg.lam7000.iobj\"), index_col=0)\n",
    "df_obj.loc[:,[\"total_phi\",\"model_runs_completed\"]].plot(subplots=True, marker='x')"
   ]
  },
  {
   "cell_type": "markdown",
   "metadata": {},
   "source": [
    "### Normal PEST(++) Behaviour\n",
    "\n",
    "In practice, PEST and PEST++ can search for the optimal parameter upgrade vector at each iteration. PEST(++) calculates upgrade vectors, each based on a different value of lambda. The one which results in the largest objective function decrease is used to calculate parameters for the next iteration. "
   ]
  },
  {
   "cell_type": "code",
   "execution_count": null,
   "metadata": {},
   "outputs": [],
   "source": [
    "# turn off the Maquardt lambda\n",
    "pst.pestpp_options['lambdas']= [0.1, 1, 10,100]\n",
    "pst.pestpp_options['lambda_scale_fac']=[0.9, 0.8, 0.7, 0.5]\n",
    "pst.pestpp_options['upgrade_augment']='True'\n",
    "\n",
    "pst.write(os.path.join(tmp_d, 'freyberg.pst'))\n",
    "if runflag==True:\n",
    "    pyemu.os_utils.run('pestpp-glm freyberg.pst', cwd=tmp_d)"
   ]
  },
  {
   "cell_type": "code",
   "execution_count": null,
   "metadata": {},
   "outputs": [],
   "source": [
    "fig, ax, resp_surf = resurf.plot_response_surface(cmap='jet', figsize=(7,7)) #maxresp=1e3,\n",
    "pars, obfun = resurf.add_trajectory_to_plot(fig, ax, 'Lambda:upgrade', pst_name='freyberg.pst')"
   ]
  },
  {
   "cell_type": "code",
   "execution_count": null,
   "metadata": {},
   "outputs": [],
   "source": [
    "df_obj = pd.read_csv(os.path.join(tmp_d, \"freyberg.iobj\"), index_col=0)\n",
    "df_obj.loc[:,[\"total_phi\",\"model_runs_completed\"]].plot(subplots=True, marker='x')"
   ]
  },
  {
   "cell_type": "code",
   "execution_count": null,
   "metadata": {},
   "outputs": [],
   "source": []
  }
 ],
 "metadata": {
  "language_info": {
   "name": "python"
  }
 },
 "nbformat": 4,
 "nbformat_minor": 4
}
