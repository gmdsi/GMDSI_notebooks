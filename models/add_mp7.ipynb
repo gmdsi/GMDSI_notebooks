{
 "cells": [
  {
   "cell_type": "code",
   "execution_count": 29,
   "metadata": {},
   "outputs": [],
   "source": [
    "import os\n",
    "import sys\n",
    "import flopy\n",
    "import numpy as np"
   ]
  },
  {
   "cell_type": "code",
   "execution_count": 30,
   "metadata": {},
   "outputs": [],
   "source": [
    "# set a new workspace folder to avoid breaking things by mistake\n",
    "sim_ws = os.path.join('freyberg_mf6')\n",
    "# load simulation\n",
    "sim = flopy.mf6.MFSimulation.load(sim_ws=sim_ws, verbosity_level=0)\n",
    "# load flow model\n",
    "gwf = sim.get_model()"
   ]
  },
  {
   "cell_type": "code",
   "execution_count": 31,
   "metadata": {},
   "outputs": [
    {
     "data": {
      "text/plain": [
       "(True, [])"
      ]
     },
     "execution_count": 31,
     "metadata": {},
     "output_type": "execute_result"
    }
   ],
   "source": [
    "sim.run_simulation()"
   ]
  },
  {
   "cell_type": "code",
   "execution_count": 32,
   "metadata": {},
   "outputs": [],
   "source": [
    "plocs = [(0, 13, 2)]\n",
    "pids = [i for i in range(len(plocs))]\n",
    "\n",
    "part0 = flopy.modpath.ParticleData(plocs, drape=0, structured=True, particleids=pids,)\n",
    "pg0 = flopy.modpath.ParticleGroup(particlegroupname='pg1', particledata=part0,\n",
    "                                filename='pm.pg1.sloc')"
   ]
  },
  {
   "cell_type": "code",
   "execution_count": 33,
   "metadata": {},
   "outputs": [],
   "source": [
    "\n",
    "\n",
    "# create modpath files\n",
    "exe_name = 'mp7.exe'\n",
    "\n",
    "mp = flopy.modpath.Modpath7(modelname='freyberg' + '_mp', flowmodel=gwf,\n",
    "                            exe_name=exe_name, model_ws=sim_ws, )\n",
    "\n",
    "defaultiface6 = {'RCH': 6, 'WEL':0, 'SFR':6, 'GHB':0} \n",
    "porosity = np.full(shape=(gwf.dis.nrow.get_data(),gwf.dis.ncol.get_data()), fill_value=0.1) \n",
    "\n",
    "ne_files=[]\n",
    "for lay in range(gwf.dis.nlay.get_data()):\n",
    "    filename = os.path.join(sim_ws,f'freyberg_mp.ne_layer{lay+1}.txt')\n",
    "    np.savetxt(filename, porosity)\n",
    "    ne_files.append(filename)       \n",
    "    \n",
    "                   \n",
    "mpbas = flopy.modpath.Modpath7Bas(mp,\n",
    "                                    porosity=ne_files,\n",
    "                                    defaultiface=defaultiface6, )\n",
    "\n",
    "\n",
    "mpsim = flopy.modpath.Modpath7Sim(mp, simulationtype='endpoint',\n",
    "                                trackingdirection='forward',\n",
    "                                weaksinkoption='stop_at', #'stop_at', 'pass_through\n",
    "                                weaksourceoption='stop_at',\n",
    "                                #budgetoutputoption='summary',\n",
    "                                #budgetcellnumbers=[1049, 1259],\n",
    "                                #traceparticledata=[1, 1000],\n",
    "                                referencetime=None, #[0, 0, 0.],\n",
    "                                stoptimeoption='extend',\n",
    "                                #timepointdata=[50, 365.], #number of time points and time interval\n",
    "                                #zonedataoption='on', zones=zones,\n",
    "                                particlegroups=[pg0], )\n",
    "# write modpath datasets\n",
    "mp.write_input()"
   ]
  },
  {
   "cell_type": "code",
   "execution_count": 34,
   "metadata": {},
   "outputs": [
    {
     "name": "stdout",
     "output_type": "stream",
     "text": [
      "FloPy is using the following executable to run the model: C:\\Program Files\\MODFLOW\\mp7.exe\n",
      "\n",
      "MODPATH Version 7.2.001   \n",
      "Program compiled Jul 31 2021 15:01:06 with IFORT compiler (ver. 20.21.2)        \n",
      " \n",
      " \n",
      "Run particle tracking simulation ...\n",
      "Processing Time Step     1 Period     1.  Time =  1.00000E+00  Steady-state flow                                                    \n",
      "Processing Time Step     1 Period     2.  Time =  3.20000E+01  Steady-state flow                                                    \n",
      "Processing Time Step     1 Period     3.  Time =  6.10000E+01  Steady-state flow                                                    \n",
      "Processing Time Step     1 Period     4.  Time =  9.20000E+01  Steady-state flow                                                    \n",
      "Processing Time Step     1 Period     5.  Time =  1.22000E+02  Steady-state flow                                                    \n",
      "Processing Time Step     1 Period     6.  Time =  1.53000E+02  Steady-state flow                                                    \n",
      "Processing Time Step     1 Period     7.  Time =  1.83000E+02  Steady-state flow                                                    \n",
      "Processing Time Step     1 Period     8.  Time =  2.14000E+02  Steady-state flow                                                    \n",
      "Processing Time Step     1 Period     9.  Time =  2.45000E+02  Steady-state flow                                                    \n",
      "Processing Time Step     1 Period    10.  Time =  2.75000E+02  Steady-state flow                                                    \n",
      "Processing Time Step     1 Period    11.  Time =  3.06000E+02  Steady-state flow                                                    \n",
      "Processing Time Step     1 Period    12.  Time =  3.36000E+02  Steady-state flow                                                    \n",
      "Processing Time Step     1 Period    13.  Time =  3.67000E+02  Steady-state flow                                                    \n",
      "Processing Time Step     1 Period    14.  Time =  3.98000E+02  Steady-state flow                                                    \n",
      "Processing Time Step     1 Period    15.  Time =  4.26000E+02  Steady-state flow                                                    \n",
      "Processing Time Step     1 Period    16.  Time =  4.57000E+02  Steady-state flow                                                    \n",
      "Processing Time Step     1 Period    17.  Time =  4.87000E+02  Steady-state flow                                                    \n",
      "Processing Time Step     1 Period    18.  Time =  5.18000E+02  Steady-state flow                                                    \n",
      "Processing Time Step     1 Period    19.  Time =  5.48000E+02  Steady-state flow                                                    \n",
      "Processing Time Step     1 Period    20.  Time =  5.79000E+02  Steady-state flow                                                    \n",
      "Processing Time Step     1 Period    21.  Time =  6.10000E+02  Steady-state flow                                                    \n",
      "Processing Time Step     1 Period    22.  Time =  6.40000E+02  Steady-state flow                                                    \n",
      "Processing Time Step     1 Period    23.  Time =  6.71000E+02  Steady-state flow                                                    \n",
      "Processing Time Step     1 Period    24.  Time =  7.01000E+02  Steady-state flow                                                    \n",
      "Processing Time Step     1 Period    25.  Time =  7.32000E+02  Steady-state flow                                                    \n",
      "\n",
      "Particle Summary:\n",
      "         0 particles are pending release.\n",
      "         0 particles remain active.\n",
      "         0 particles terminated at boundary faces.\n",
      "         1 particles terminated at weak sink cells.\n",
      "         0 particles terminated at weak source cells.\n",
      "         0 particles terminated at strong source/sink cells.\n",
      "         0 particles terminated in cells with a specified zone number.\n",
      "         0 particles were stranded in inactive or dry cells.\n",
      "         0 particles were unreleased.\n",
      "         0 particles have an unknown status.\n",
      " \n",
      "Normal termination.                                                        \n"
     ]
    },
    {
     "data": {
      "text/plain": [
       "(True, [])"
      ]
     },
     "execution_count": 34,
     "metadata": {},
     "output_type": "execute_result"
    }
   ],
   "source": [
    "mp.run_model()"
   ]
  },
  {
   "cell_type": "code",
   "execution_count": null,
   "metadata": {},
   "outputs": [],
   "source": []
  }
 ],
 "metadata": {
  "interpreter": {
   "hash": "d91d695e32284e5f4db43d0a55a7ffe722d99eb6050b5b06eff0d966e4449445"
  },
  "kernelspec": {
   "display_name": "Python 3.9.10 ('gmdsitut')",
   "language": "python",
   "name": "python3"
  },
  "language_info": {
   "codemirror_mode": {
    "name": "ipython",
    "version": 3
   },
   "file_extension": ".py",
   "mimetype": "text/x-python",
   "name": "python",
   "nbconvert_exporter": "python",
   "pygments_lexer": "ipython3",
   "version": "3.9.12"
  },
  "orig_nbformat": 4
 },
 "nbformat": 4,
 "nbformat_minor": 2
}
